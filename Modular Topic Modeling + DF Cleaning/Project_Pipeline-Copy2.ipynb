{
 "cells": [
  {
   "cell_type": "markdown",
   "id": "c9dccd1a",
   "metadata": {},
   "source": [
    "# Latent Probability Model"
   ]
  },
  {
   "cell_type": "markdown",
   "id": "01049288",
   "metadata": {},
   "source": [
    "If you are running this for the first time you may need to use the following commands before continuing:"
   ]
  },
  {
   "cell_type": "code",
   "execution_count": 3,
   "id": "15ba699a",
   "metadata": {},
   "outputs": [
    {
     "name": "stdout",
     "output_type": "stream",
     "text": [
      "Collecting pandas==1.3.5\n",
      "  Using cached pandas-1.3.5-cp310-cp310-win_amd64.whl (10.2 MB)\n",
      "Requirement already satisfied: python-dateutil>=2.7.3 in c:\\users\\biehl\\appdata\\local\\programs\\python\\python310\\lib\\site-packages (from pandas==1.3.5) (2.8.2)\n",
      "Requirement already satisfied: pytz>=2017.3 in c:\\users\\biehl\\appdata\\local\\programs\\python\\python310\\lib\\site-packages (from pandas==1.3.5) (2022.2.1)\n",
      "Requirement already satisfied: numpy>=1.21.0 in c:\\users\\biehl\\appdata\\local\\programs\\python\\python310\\lib\\site-packages (from pandas==1.3.5) (1.24.3)\n",
      "Requirement already satisfied: six>=1.5 in c:\\users\\biehl\\appdata\\local\\programs\\python\\python310\\lib\\site-packages (from python-dateutil>=2.7.3->pandas==1.3.5) (1.16.0)\n",
      "Installing collected packages: pandas\n",
      "  Attempting uninstall: pandas\n",
      "    Found existing installation: pandas 2.0.3\n",
      "    Uninstalling pandas-2.0.3:\n",
      "      Successfully uninstalled pandas-2.0.3\n",
      "Successfully installed pandas-1.3.5\n"
     ]
    },
    {
     "name": "stderr",
     "output_type": "stream",
     "text": [
      "ERROR: pip's dependency resolver does not currently take into account all the packages that are installed. This behaviour is the source of the following dependency conflicts.\n",
      "pyldavis 3.4.1 requires pandas>=2.0.0, but you have pandas 1.3.5 which is incompatible.\n"
     ]
    },
    {
     "name": "stdout",
     "output_type": "stream",
     "text": [
      "Requirement already satisfied: spacy==3.2.0 in c:\\users\\biehl\\appdata\\local\\programs\\python\\python310\\lib\\site-packages (3.2.0)\n",
      "Requirement already satisfied: spacy-legacy<3.1.0,>=3.0.8 in c:\\users\\biehl\\appdata\\local\\programs\\python\\python310\\lib\\site-packages (from spacy==3.2.0) (3.0.12)\n",
      "Requirement already satisfied: spacy-loggers<2.0.0,>=1.0.0 in c:\\users\\biehl\\appdata\\local\\programs\\python\\python310\\lib\\site-packages (from spacy==3.2.0) (1.0.4)\n",
      "Requirement already satisfied: murmurhash<1.1.0,>=0.28.0 in c:\\users\\biehl\\appdata\\local\\programs\\python\\python310\\lib\\site-packages (from spacy==3.2.0) (1.0.9)\n",
      "Requirement already satisfied: cymem<2.1.0,>=2.0.2 in c:\\users\\biehl\\appdata\\local\\programs\\python\\python310\\lib\\site-packages (from spacy==3.2.0) (2.0.7)\n",
      "Requirement already satisfied: preshed<3.1.0,>=3.0.2 in c:\\users\\biehl\\appdata\\local\\programs\\python\\python310\\lib\\site-packages (from spacy==3.2.0) (3.0.8)\n",
      "Requirement already satisfied: thinc<8.1.0,>=8.0.12 in c:\\users\\biehl\\appdata\\local\\programs\\python\\python310\\lib\\site-packages (from spacy==3.2.0) (8.0.17)\n",
      "Requirement already satisfied: blis<0.8.0,>=0.4.0 in c:\\users\\biehl\\appdata\\local\\programs\\python\\python310\\lib\\site-packages (from spacy==3.2.0) (0.7.9)\n",
      "Requirement already satisfied: wasabi<1.1.0,>=0.8.1 in c:\\users\\biehl\\appdata\\local\\programs\\python\\python310\\lib\\site-packages (from spacy==3.2.0) (0.10.1)\n",
      "Requirement already satisfied: srsly<3.0.0,>=2.4.1 in c:\\users\\biehl\\appdata\\local\\programs\\python\\python310\\lib\\site-packages (from spacy==3.2.0) (2.4.6)\n",
      "Requirement already satisfied: catalogue<2.1.0,>=2.0.6 in c:\\users\\biehl\\appdata\\local\\programs\\python\\python310\\lib\\site-packages (from spacy==3.2.0) (2.0.8)\n",
      "Collecting typer<0.5.0,>=0.3.0 (from spacy==3.2.0)\n",
      "  Using cached typer-0.4.2-py3-none-any.whl (27 kB)\n",
      "Requirement already satisfied: pathy>=0.3.5 in c:\\users\\biehl\\appdata\\local\\programs\\python\\python310\\lib\\site-packages (from spacy==3.2.0) (0.10.1)\n",
      "Requirement already satisfied: tqdm<5.0.0,>=4.38.0 in c:\\users\\biehl\\appdata\\local\\programs\\python\\python310\\lib\\site-packages (from spacy==3.2.0) (4.66.1)\n",
      "Requirement already satisfied: numpy>=1.15.0 in c:\\users\\biehl\\appdata\\local\\programs\\python\\python310\\lib\\site-packages (from spacy==3.2.0) (1.24.3)\n",
      "Requirement already satisfied: requests<3.0.0,>=2.13.0 in c:\\users\\biehl\\appdata\\local\\programs\\python\\python310\\lib\\site-packages (from spacy==3.2.0) (2.31.0)\n",
      "Collecting pydantic!=1.8,!=1.8.1,<1.9.0,>=1.7.4 (from spacy==3.2.0)\n",
      "  Using cached pydantic-1.8.2-py3-none-any.whl (126 kB)\n",
      "Requirement already satisfied: jinja2 in c:\\users\\biehl\\appdata\\local\\programs\\python\\python310\\lib\\site-packages (from spacy==3.2.0) (3.1.2)\n",
      "Requirement already satisfied: setuptools in c:\\users\\biehl\\appdata\\local\\programs\\python\\python310\\lib\\site-packages (from spacy==3.2.0) (58.1.0)\n",
      "Requirement already satisfied: packaging>=20.0 in c:\\users\\biehl\\appdata\\local\\programs\\python\\python310\\lib\\site-packages (from spacy==3.2.0) (23.0)\n",
      "Requirement already satisfied: langcodes<4.0.0,>=3.2.0 in c:\\users\\biehl\\appdata\\local\\programs\\python\\python310\\lib\\site-packages (from spacy==3.2.0) (3.3.0)\n",
      "Requirement already satisfied: smart-open<7.0.0,>=5.2.1 in c:\\users\\biehl\\appdata\\local\\programs\\python\\python310\\lib\\site-packages (from pathy>=0.3.5->spacy==3.2.0) (6.3.0)\n",
      "Requirement already satisfied: typing-extensions>=3.7.4.3 in c:\\users\\biehl\\appdata\\local\\programs\\python\\python310\\lib\\site-packages (from pydantic!=1.8,!=1.8.1,<1.9.0,>=1.7.4->spacy==3.2.0) (4.8.0)\n",
      "Requirement already satisfied: charset-normalizer<4,>=2 in c:\\users\\biehl\\appdata\\local\\programs\\python\\python310\\lib\\site-packages (from requests<3.0.0,>=2.13.0->spacy==3.2.0) (3.0.1)\n",
      "Requirement already satisfied: idna<4,>=2.5 in c:\\users\\biehl\\appdata\\local\\programs\\python\\python310\\lib\\site-packages (from requests<3.0.0,>=2.13.0->spacy==3.2.0) (3.4)\n",
      "Requirement already satisfied: urllib3<3,>=1.21.1 in c:\\users\\biehl\\appdata\\local\\programs\\python\\python310\\lib\\site-packages (from requests<3.0.0,>=2.13.0->spacy==3.2.0) (1.26.14)\n",
      "Requirement already satisfied: certifi>=2017.4.17 in c:\\users\\biehl\\appdata\\local\\programs\\python\\python310\\lib\\site-packages (from requests<3.0.0,>=2.13.0->spacy==3.2.0) (2022.12.7)\n",
      "Requirement already satisfied: colorama in c:\\users\\biehl\\appdata\\local\\programs\\python\\python310\\lib\\site-packages (from tqdm<5.0.0,>=4.38.0->spacy==3.2.0) (0.4.6)\n",
      "Requirement already satisfied: click<9.0.0,>=7.1.1 in c:\\users\\biehl\\appdata\\local\\programs\\python\\python310\\lib\\site-packages (from typer<0.5.0,>=0.3.0->spacy==3.2.0) (8.1.3)\n",
      "Requirement already satisfied: MarkupSafe>=2.0 in c:\\users\\biehl\\appdata\\local\\programs\\python\\python310\\lib\\site-packages (from jinja2->spacy==3.2.0) (2.1.2)\n",
      "Installing collected packages: pydantic, typer\n",
      "  Attempting uninstall: pydantic\n",
      "    Found existing installation: pydantic 1.10.12\n",
      "    Uninstalling pydantic-1.10.12:\n",
      "      Successfully uninstalled pydantic-1.10.12\n",
      "  Attempting uninstall: typer\n",
      "    Found existing installation: typer 0.9.0\n",
      "    Uninstalling typer-0.9.0:\n",
      "      Successfully uninstalled typer-0.9.0\n",
      "Successfully installed pydantic-1.8.2 typer-0.4.2\n"
     ]
    },
    {
     "name": "stderr",
     "output_type": "stream",
     "text": [
      "ERROR: pip's dependency resolver does not currently take into account all the packages that are installed. This behaviour is the source of the following dependency conflicts.\n",
      "chromadb 0.4.12 requires pydantic<2.0,>=1.9, but you have pydantic 1.8.2 which is incompatible.\n",
      "chromadb 0.4.12 requires typer>=0.9.0, but you have typer 0.4.2 which is incompatible.\n"
     ]
    },
    {
     "name": "stdout",
     "output_type": "stream",
     "text": [
      "Requirement already satisfied: spacytextblob in c:\\users\\biehl\\appdata\\local\\programs\\python\\python310\\lib\\site-packages (4.0.0)\n",
      "Requirement already satisfied: spacy<4.0,>=3.0 in c:\\users\\biehl\\appdata\\local\\programs\\python\\python310\\lib\\site-packages (from spacytextblob) (3.2.0)\n",
      "Requirement already satisfied: textblob<0.16.0,>=0.15.3 in c:\\users\\biehl\\appdata\\local\\programs\\python\\python310\\lib\\site-packages (from spacytextblob) (0.15.3)\n",
      "Requirement already satisfied: spacy-legacy<3.1.0,>=3.0.8 in c:\\users\\biehl\\appdata\\local\\programs\\python\\python310\\lib\\site-packages (from spacy<4.0,>=3.0->spacytextblob) (3.0.12)\n",
      "Requirement already satisfied: spacy-loggers<2.0.0,>=1.0.0 in c:\\users\\biehl\\appdata\\local\\programs\\python\\python310\\lib\\site-packages (from spacy<4.0,>=3.0->spacytextblob) (1.0.4)\n",
      "Requirement already satisfied: murmurhash<1.1.0,>=0.28.0 in c:\\users\\biehl\\appdata\\local\\programs\\python\\python310\\lib\\site-packages (from spacy<4.0,>=3.0->spacytextblob) (1.0.9)\n",
      "Requirement already satisfied: cymem<2.1.0,>=2.0.2 in c:\\users\\biehl\\appdata\\local\\programs\\python\\python310\\lib\\site-packages (from spacy<4.0,>=3.0->spacytextblob) (2.0.7)\n",
      "Requirement already satisfied: preshed<3.1.0,>=3.0.2 in c:\\users\\biehl\\appdata\\local\\programs\\python\\python310\\lib\\site-packages (from spacy<4.0,>=3.0->spacytextblob) (3.0.8)\n",
      "Requirement already satisfied: thinc<8.1.0,>=8.0.12 in c:\\users\\biehl\\appdata\\local\\programs\\python\\python310\\lib\\site-packages (from spacy<4.0,>=3.0->spacytextblob) (8.0.17)\n",
      "Requirement already satisfied: blis<0.8.0,>=0.4.0 in c:\\users\\biehl\\appdata\\local\\programs\\python\\python310\\lib\\site-packages (from spacy<4.0,>=3.0->spacytextblob) (0.7.9)\n",
      "Requirement already satisfied: wasabi<1.1.0,>=0.8.1 in c:\\users\\biehl\\appdata\\local\\programs\\python\\python310\\lib\\site-packages (from spacy<4.0,>=3.0->spacytextblob) (0.10.1)\n",
      "Requirement already satisfied: srsly<3.0.0,>=2.4.1 in c:\\users\\biehl\\appdata\\local\\programs\\python\\python310\\lib\\site-packages (from spacy<4.0,>=3.0->spacytextblob) (2.4.6)\n",
      "Requirement already satisfied: catalogue<2.1.0,>=2.0.6 in c:\\users\\biehl\\appdata\\local\\programs\\python\\python310\\lib\\site-packages (from spacy<4.0,>=3.0->spacytextblob) (2.0.8)\n",
      "Requirement already satisfied: typer<0.5.0,>=0.3.0 in c:\\users\\biehl\\appdata\\local\\programs\\python\\python310\\lib\\site-packages (from spacy<4.0,>=3.0->spacytextblob) (0.4.2)\n",
      "Requirement already satisfied: pathy>=0.3.5 in c:\\users\\biehl\\appdata\\local\\programs\\python\\python310\\lib\\site-packages (from spacy<4.0,>=3.0->spacytextblob) (0.10.1)\n",
      "Requirement already satisfied: tqdm<5.0.0,>=4.38.0 in c:\\users\\biehl\\appdata\\local\\programs\\python\\python310\\lib\\site-packages (from spacy<4.0,>=3.0->spacytextblob) (4.66.1)\n",
      "Requirement already satisfied: numpy>=1.15.0 in c:\\users\\biehl\\appdata\\local\\programs\\python\\python310\\lib\\site-packages (from spacy<4.0,>=3.0->spacytextblob) (1.24.3)\n",
      "Requirement already satisfied: requests<3.0.0,>=2.13.0 in c:\\users\\biehl\\appdata\\local\\programs\\python\\python310\\lib\\site-packages (from spacy<4.0,>=3.0->spacytextblob) (2.31.0)\n",
      "Requirement already satisfied: pydantic!=1.8,!=1.8.1,<1.9.0,>=1.7.4 in c:\\users\\biehl\\appdata\\local\\programs\\python\\python310\\lib\\site-packages (from spacy<4.0,>=3.0->spacytextblob) (1.8.2)\n",
      "Requirement already satisfied: jinja2 in c:\\users\\biehl\\appdata\\local\\programs\\python\\python310\\lib\\site-packages (from spacy<4.0,>=3.0->spacytextblob) (3.1.2)\n",
      "Requirement already satisfied: setuptools in c:\\users\\biehl\\appdata\\local\\programs\\python\\python310\\lib\\site-packages (from spacy<4.0,>=3.0->spacytextblob) (58.1.0)\n",
      "Requirement already satisfied: packaging>=20.0 in c:\\users\\biehl\\appdata\\local\\programs\\python\\python310\\lib\\site-packages (from spacy<4.0,>=3.0->spacytextblob) (23.0)\n",
      "Requirement already satisfied: langcodes<4.0.0,>=3.2.0 in c:\\users\\biehl\\appdata\\local\\programs\\python\\python310\\lib\\site-packages (from spacy<4.0,>=3.0->spacytextblob) (3.3.0)\n",
      "Requirement already satisfied: nltk>=3.1 in c:\\users\\biehl\\appdata\\local\\programs\\python\\python310\\lib\\site-packages (from textblob<0.16.0,>=0.15.3->spacytextblob) (3.8.1)\n",
      "Requirement already satisfied: click in c:\\users\\biehl\\appdata\\local\\programs\\python\\python310\\lib\\site-packages (from nltk>=3.1->textblob<0.16.0,>=0.15.3->spacytextblob) (8.1.3)\n",
      "Requirement already satisfied: joblib in c:\\users\\biehl\\appdata\\local\\programs\\python\\python310\\lib\\site-packages (from nltk>=3.1->textblob<0.16.0,>=0.15.3->spacytextblob) (1.2.0)\n",
      "Requirement already satisfied: regex>=2021.8.3 in c:\\users\\biehl\\appdata\\local\\programs\\python\\python310\\lib\\site-packages (from nltk>=3.1->textblob<0.16.0,>=0.15.3->spacytextblob) (2023.3.23)\n",
      "Requirement already satisfied: smart-open<7.0.0,>=5.2.1 in c:\\users\\biehl\\appdata\\local\\programs\\python\\python310\\lib\\site-packages (from pathy>=0.3.5->spacy<4.0,>=3.0->spacytextblob) (6.3.0)\n",
      "Requirement already satisfied: typing-extensions>=3.7.4.3 in c:\\users\\biehl\\appdata\\local\\programs\\python\\python310\\lib\\site-packages (from pydantic!=1.8,!=1.8.1,<1.9.0,>=1.7.4->spacy<4.0,>=3.0->spacytextblob) (4.8.0)\n",
      "Requirement already satisfied: charset-normalizer<4,>=2 in c:\\users\\biehl\\appdata\\local\\programs\\python\\python310\\lib\\site-packages (from requests<3.0.0,>=2.13.0->spacy<4.0,>=3.0->spacytextblob) (3.0.1)\n",
      "Requirement already satisfied: idna<4,>=2.5 in c:\\users\\biehl\\appdata\\local\\programs\\python\\python310\\lib\\site-packages (from requests<3.0.0,>=2.13.0->spacy<4.0,>=3.0->spacytextblob) (3.4)\n",
      "Requirement already satisfied: urllib3<3,>=1.21.1 in c:\\users\\biehl\\appdata\\local\\programs\\python\\python310\\lib\\site-packages (from requests<3.0.0,>=2.13.0->spacy<4.0,>=3.0->spacytextblob) (1.26.14)\n",
      "Requirement already satisfied: certifi>=2017.4.17 in c:\\users\\biehl\\appdata\\local\\programs\\python\\python310\\lib\\site-packages (from requests<3.0.0,>=2.13.0->spacy<4.0,>=3.0->spacytextblob) (2022.12.7)\n",
      "Requirement already satisfied: colorama in c:\\users\\biehl\\appdata\\local\\programs\\python\\python310\\lib\\site-packages (from tqdm<5.0.0,>=4.38.0->spacy<4.0,>=3.0->spacytextblob) (0.4.6)\n",
      "Requirement already satisfied: MarkupSafe>=2.0 in c:\\users\\biehl\\appdata\\local\\programs\\python\\python310\\lib\\site-packages (from jinja2->spacy<4.0,>=3.0->spacytextblob) (2.1.2)\n",
      "Collecting en-core-web-sm==3.2.0\n",
      "  Downloading https://github.com/explosion/spacy-models/releases/download/en_core_web_sm-3.2.0/en_core_web_sm-3.2.0-py3-none-any.whl (13.9 MB)\n",
      "     ---------------------------------------- 0.0/13.9 MB ? eta -:--:--\n",
      "     --------------------------------------- 0.0/13.9 MB 991.0 kB/s eta 0:00:14\n",
      "     ---------------------------------------- 0.1/13.9 MB 1.7 MB/s eta 0:00:09\n",
      "     - -------------------------------------- 0.4/13.9 MB 2.9 MB/s eta 0:00:05\n",
      "     - -------------------------------------- 0.7/13.9 MB 3.9 MB/s eta 0:00:04\n",
      "     -- ------------------------------------- 1.0/13.9 MB 4.5 MB/s eta 0:00:03\n",
      "     ----- ---------------------------------- 1.9/13.9 MB 7.3 MB/s eta 0:00:02\n",
      "     ---------- ----------------------------- 3.6/13.9 MB 10.8 MB/s eta 0:00:01\n",
      "     ---------------- ----------------------- 5.8/13.9 MB 15.4 MB/s eta 0:00:01\n",
      "     ----------------------- ---------------- 8.0/13.9 MB 19.0 MB/s eta 0:00:01\n",
      "     ---------------------------- ---------- 10.2/13.9 MB 21.8 MB/s eta 0:00:01\n",
      "     ---------------------------------- ---- 12.4/13.9 MB 43.7 MB/s eta 0:00:01\n",
      "     --------------------------------------  13.9/13.9 MB 46.7 MB/s eta 0:00:01\n",
      "     --------------------------------------- 13.9/13.9 MB 38.4 MB/s eta 0:00:00\n",
      "Requirement already satisfied: spacy<3.3.0,>=3.2.0 in c:\\users\\biehl\\appdata\\local\\programs\\python\\python310\\lib\\site-packages (from en-core-web-sm==3.2.0) (3.2.0)\n",
      "Requirement already satisfied: spacy-legacy<3.1.0,>=3.0.8 in c:\\users\\biehl\\appdata\\local\\programs\\python\\python310\\lib\\site-packages (from spacy<3.3.0,>=3.2.0->en-core-web-sm==3.2.0) (3.0.12)\n",
      "Requirement already satisfied: spacy-loggers<2.0.0,>=1.0.0 in c:\\users\\biehl\\appdata\\local\\programs\\python\\python310\\lib\\site-packages (from spacy<3.3.0,>=3.2.0->en-core-web-sm==3.2.0) (1.0.4)\n",
      "Requirement already satisfied: murmurhash<1.1.0,>=0.28.0 in c:\\users\\biehl\\appdata\\local\\programs\\python\\python310\\lib\\site-packages (from spacy<3.3.0,>=3.2.0->en-core-web-sm==3.2.0) (1.0.9)\n",
      "Requirement already satisfied: cymem<2.1.0,>=2.0.2 in c:\\users\\biehl\\appdata\\local\\programs\\python\\python310\\lib\\site-packages (from spacy<3.3.0,>=3.2.0->en-core-web-sm==3.2.0) (2.0.7)\n",
      "Requirement already satisfied: preshed<3.1.0,>=3.0.2 in c:\\users\\biehl\\appdata\\local\\programs\\python\\python310\\lib\\site-packages (from spacy<3.3.0,>=3.2.0->en-core-web-sm==3.2.0) (3.0.8)\n",
      "Requirement already satisfied: thinc<8.1.0,>=8.0.12 in c:\\users\\biehl\\appdata\\local\\programs\\python\\python310\\lib\\site-packages (from spacy<3.3.0,>=3.2.0->en-core-web-sm==3.2.0) (8.0.17)\n",
      "Requirement already satisfied: blis<0.8.0,>=0.4.0 in c:\\users\\biehl\\appdata\\local\\programs\\python\\python310\\lib\\site-packages (from spacy<3.3.0,>=3.2.0->en-core-web-sm==3.2.0) (0.7.9)\n",
      "Requirement already satisfied: wasabi<1.1.0,>=0.8.1 in c:\\users\\biehl\\appdata\\local\\programs\\python\\python310\\lib\\site-packages (from spacy<3.3.0,>=3.2.0->en-core-web-sm==3.2.0) (0.10.1)\n",
      "Requirement already satisfied: srsly<3.0.0,>=2.4.1 in c:\\users\\biehl\\appdata\\local\\programs\\python\\python310\\lib\\site-packages (from spacy<3.3.0,>=3.2.0->en-core-web-sm==3.2.0) (2.4.6)\n",
      "Requirement already satisfied: catalogue<2.1.0,>=2.0.6 in c:\\users\\biehl\\appdata\\local\\programs\\python\\python310\\lib\\site-packages (from spacy<3.3.0,>=3.2.0->en-core-web-sm==3.2.0) (2.0.8)\n",
      "Requirement already satisfied: typer<0.5.0,>=0.3.0 in c:\\users\\biehl\\appdata\\local\\programs\\python\\python310\\lib\\site-packages (from spacy<3.3.0,>=3.2.0->en-core-web-sm==3.2.0) (0.4.2)\n",
      "Requirement already satisfied: pathy>=0.3.5 in c:\\users\\biehl\\appdata\\local\\programs\\python\\python310\\lib\\site-packages (from spacy<3.3.0,>=3.2.0->en-core-web-sm==3.2.0) (0.10.1)\n",
      "Requirement already satisfied: tqdm<5.0.0,>=4.38.0 in c:\\users\\biehl\\appdata\\local\\programs\\python\\python310\\lib\\site-packages (from spacy<3.3.0,>=3.2.0->en-core-web-sm==3.2.0) (4.66.1)\n",
      "Requirement already satisfied: numpy>=1.15.0 in c:\\users\\biehl\\appdata\\local\\programs\\python\\python310\\lib\\site-packages (from spacy<3.3.0,>=3.2.0->en-core-web-sm==3.2.0) (1.24.3)\n",
      "Requirement already satisfied: requests<3.0.0,>=2.13.0 in c:\\users\\biehl\\appdata\\local\\programs\\python\\python310\\lib\\site-packages (from spacy<3.3.0,>=3.2.0->en-core-web-sm==3.2.0) (2.31.0)\n",
      "Requirement already satisfied: pydantic!=1.8,!=1.8.1,<1.9.0,>=1.7.4 in c:\\users\\biehl\\appdata\\local\\programs\\python\\python310\\lib\\site-packages (from spacy<3.3.0,>=3.2.0->en-core-web-sm==3.2.0) (1.8.2)\n",
      "Requirement already satisfied: jinja2 in c:\\users\\biehl\\appdata\\local\\programs\\python\\python310\\lib\\site-packages (from spacy<3.3.0,>=3.2.0->en-core-web-sm==3.2.0) (3.1.2)\n",
      "Requirement already satisfied: setuptools in c:\\users\\biehl\\appdata\\local\\programs\\python\\python310\\lib\\site-packages (from spacy<3.3.0,>=3.2.0->en-core-web-sm==3.2.0) (58.1.0)\n",
      "Requirement already satisfied: packaging>=20.0 in c:\\users\\biehl\\appdata\\local\\programs\\python\\python310\\lib\\site-packages (from spacy<3.3.0,>=3.2.0->en-core-web-sm==3.2.0) (23.0)\n",
      "Requirement already satisfied: langcodes<4.0.0,>=3.2.0 in c:\\users\\biehl\\appdata\\local\\programs\\python\\python310\\lib\\site-packages (from spacy<3.3.0,>=3.2.0->en-core-web-sm==3.2.0) (3.3.0)\n",
      "Requirement already satisfied: smart-open<7.0.0,>=5.2.1 in c:\\users\\biehl\\appdata\\local\\programs\\python\\python310\\lib\\site-packages (from pathy>=0.3.5->spacy<3.3.0,>=3.2.0->en-core-web-sm==3.2.0) (6.3.0)\n",
      "Requirement already satisfied: typing-extensions>=3.7.4.3 in c:\\users\\biehl\\appdata\\local\\programs\\python\\python310\\lib\\site-packages (from pydantic!=1.8,!=1.8.1,<1.9.0,>=1.7.4->spacy<3.3.0,>=3.2.0->en-core-web-sm==3.2.0) (4.8.0)\n",
      "Requirement already satisfied: charset-normalizer<4,>=2 in c:\\users\\biehl\\appdata\\local\\programs\\python\\python310\\lib\\site-packages (from requests<3.0.0,>=2.13.0->spacy<3.3.0,>=3.2.0->en-core-web-sm==3.2.0) (3.0.1)\n",
      "Requirement already satisfied: idna<4,>=2.5 in c:\\users\\biehl\\appdata\\local\\programs\\python\\python310\\lib\\site-packages (from requests<3.0.0,>=2.13.0->spacy<3.3.0,>=3.2.0->en-core-web-sm==3.2.0) (3.4)\n",
      "Requirement already satisfied: urllib3<3,>=1.21.1 in c:\\users\\biehl\\appdata\\local\\programs\\python\\python310\\lib\\site-packages (from requests<3.0.0,>=2.13.0->spacy<3.3.0,>=3.2.0->en-core-web-sm==3.2.0) (1.26.14)\n",
      "Requirement already satisfied: certifi>=2017.4.17 in c:\\users\\biehl\\appdata\\local\\programs\\python\\python310\\lib\\site-packages (from requests<3.0.0,>=2.13.0->spacy<3.3.0,>=3.2.0->en-core-web-sm==3.2.0) (2022.12.7)\n",
      "Requirement already satisfied: colorama in c:\\users\\biehl\\appdata\\local\\programs\\python\\python310\\lib\\site-packages (from tqdm<5.0.0,>=4.38.0->spacy<3.3.0,>=3.2.0->en-core-web-sm==3.2.0) (0.4.6)\n",
      "Requirement already satisfied: click<9.0.0,>=7.1.1 in c:\\users\\biehl\\appdata\\local\\programs\\python\\python310\\lib\\site-packages (from typer<0.5.0,>=0.3.0->spacy<3.3.0,>=3.2.0->en-core-web-sm==3.2.0) (8.1.3)\n",
      "Requirement already satisfied: MarkupSafe>=2.0 in c:\\users\\biehl\\appdata\\local\\programs\\python\\python310\\lib\\site-packages (from jinja2->spacy<3.3.0,>=3.2.0->en-core-web-sm==3.2.0) (2.1.2)\n",
      "✔ Download and installation successful\n",
      "You can now load the package via spacy.load('en_core_web_sm')\n"
     ]
    },
    {
     "name": "stderr",
     "output_type": "stream",
     "text": [
      "DEPRECATION: https://github.com/explosion/spacy-models/releases/download/en_core_web_sm-3.2.0/en_core_web_sm-3.2.0-py3-none-any.whl#egg=en_core_web_sm==3.2.0 contains an egg fragment with a non-PEP 508 name pip 25.0 will enforce this behaviour change. A possible replacement is to use the req @ url syntax, and remove the egg fragment. Discussion can be found at https://github.com/pypa/pip/issues/11617\n"
     ]
    },
    {
     "name": "stdout",
     "output_type": "stream",
     "text": [
      "Requirement already satisfied: newspaper3k in c:\\users\\biehl\\appdata\\local\\programs\\python\\python310\\lib\\site-packages (0.2.8)\n",
      "Requirement already satisfied: beautifulsoup4>=4.4.1 in c:\\users\\biehl\\appdata\\local\\programs\\python\\python310\\lib\\site-packages (from newspaper3k) (4.11.1)\n",
      "Requirement already satisfied: Pillow>=3.3.0 in c:\\users\\biehl\\appdata\\roaming\\python\\python310\\site-packages (from newspaper3k) (9.4.0)\n",
      "Requirement already satisfied: PyYAML>=3.11 in c:\\users\\biehl\\appdata\\local\\programs\\python\\python310\\lib\\site-packages (from newspaper3k) (6.0)\n",
      "Requirement already satisfied: cssselect>=0.9.2 in c:\\users\\biehl\\appdata\\local\\programs\\python\\python310\\lib\\site-packages (from newspaper3k) (1.2.0)\n",
      "Requirement already satisfied: lxml>=3.6.0 in c:\\users\\biehl\\appdata\\roaming\\python\\python310\\site-packages (from newspaper3k) (4.9.2)\n",
      "Requirement already satisfied: nltk>=3.2.1 in c:\\users\\biehl\\appdata\\local\\programs\\python\\python310\\lib\\site-packages (from newspaper3k) (3.8.1)\n",
      "Requirement already satisfied: requests>=2.10.0 in c:\\users\\biehl\\appdata\\local\\programs\\python\\python310\\lib\\site-packages (from newspaper3k) (2.31.0)\n",
      "Requirement already satisfied: feedparser>=5.2.1 in c:\\users\\biehl\\appdata\\local\\programs\\python\\python310\\lib\\site-packages (from newspaper3k) (6.0.10)\n",
      "Requirement already satisfied: tldextract>=2.0.1 in c:\\users\\biehl\\appdata\\local\\programs\\python\\python310\\lib\\site-packages (from newspaper3k) (3.4.1)\n",
      "Requirement already satisfied: feedfinder2>=0.0.4 in c:\\users\\biehl\\appdata\\local\\programs\\python\\python310\\lib\\site-packages (from newspaper3k) (0.0.4)\n",
      "Requirement already satisfied: jieba3k>=0.35.1 in c:\\users\\biehl\\appdata\\local\\programs\\python\\python310\\lib\\site-packages (from newspaper3k) (0.35.1)\n",
      "Requirement already satisfied: python-dateutil>=2.5.3 in c:\\users\\biehl\\appdata\\local\\programs\\python\\python310\\lib\\site-packages (from newspaper3k) (2.8.2)\n",
      "Requirement already satisfied: tinysegmenter==0.3 in c:\\users\\biehl\\appdata\\local\\programs\\python\\python310\\lib\\site-packages (from newspaper3k) (0.3)\n",
      "Requirement already satisfied: soupsieve>1.2 in c:\\users\\biehl\\appdata\\local\\programs\\python\\python310\\lib\\site-packages (from beautifulsoup4>=4.4.1->newspaper3k) (2.3.2.post1)\n",
      "Requirement already satisfied: six in c:\\users\\biehl\\appdata\\local\\programs\\python\\python310\\lib\\site-packages (from feedfinder2>=0.0.4->newspaper3k) (1.16.0)\n",
      "Requirement already satisfied: sgmllib3k in c:\\users\\biehl\\appdata\\local\\programs\\python\\python310\\lib\\site-packages (from feedparser>=5.2.1->newspaper3k) (1.0.0)\n",
      "Requirement already satisfied: click in c:\\users\\biehl\\appdata\\local\\programs\\python\\python310\\lib\\site-packages (from nltk>=3.2.1->newspaper3k) (8.1.3)\n",
      "Requirement already satisfied: joblib in c:\\users\\biehl\\appdata\\local\\programs\\python\\python310\\lib\\site-packages (from nltk>=3.2.1->newspaper3k) (1.2.0)\n",
      "Requirement already satisfied: regex>=2021.8.3 in c:\\users\\biehl\\appdata\\local\\programs\\python\\python310\\lib\\site-packages (from nltk>=3.2.1->newspaper3k) (2023.3.23)\n",
      "Requirement already satisfied: tqdm in c:\\users\\biehl\\appdata\\local\\programs\\python\\python310\\lib\\site-packages (from nltk>=3.2.1->newspaper3k) (4.66.1)\n",
      "Requirement already satisfied: charset-normalizer<4,>=2 in c:\\users\\biehl\\appdata\\local\\programs\\python\\python310\\lib\\site-packages (from requests>=2.10.0->newspaper3k) (3.0.1)\n",
      "Requirement already satisfied: idna<4,>=2.5 in c:\\users\\biehl\\appdata\\local\\programs\\python\\python310\\lib\\site-packages (from requests>=2.10.0->newspaper3k) (3.4)\n",
      "Requirement already satisfied: urllib3<3,>=1.21.1 in c:\\users\\biehl\\appdata\\local\\programs\\python\\python310\\lib\\site-packages (from requests>=2.10.0->newspaper3k) (1.26.14)\n",
      "Requirement already satisfied: certifi>=2017.4.17 in c:\\users\\biehl\\appdata\\local\\programs\\python\\python310\\lib\\site-packages (from requests>=2.10.0->newspaper3k) (2022.12.7)\n",
      "Requirement already satisfied: requests-file>=1.4 in c:\\users\\biehl\\appdata\\local\\programs\\python\\python310\\lib\\site-packages (from tldextract>=2.0.1->newspaper3k) (1.5.1)\n",
      "Requirement already satisfied: filelock>=3.0.8 in c:\\users\\biehl\\appdata\\roaming\\python\\python310\\site-packages (from tldextract>=2.0.1->newspaper3k) (3.9.0)\n",
      "Requirement already satisfied: colorama in c:\\users\\biehl\\appdata\\local\\programs\\python\\python310\\lib\\site-packages (from click->nltk>=3.2.1->newspaper3k) (0.4.6)\n"
     ]
    }
   ],
   "source": [
    "!pip install pandas==1.3.5\n",
    "!pip install spacy==3.2.0\n",
    "!pip install spacytextblob\n",
    "!python -m spacy download en_core_web_sm\n",
    "\n",
    "!pip install newspaper3k\n",
    "\n",
    "!pip install plotly\n",
    "\n",
    "!pip install bokeh"
   ]
  },
  {
   "cell_type": "markdown",
   "id": "c92a2232",
   "metadata": {},
   "source": [
    "Spacy: Used for NLP and has the machine learning module\n",
    "    \n",
    "SpacyTextBlob: Used for the sentiment analysis\n",
    "    \n",
    "Pandas: Stores the data as a dataframe table\n",
    "    \n",
    "NewsPaper: Used for web scraping\n",
    "    \n",
    "Requests: Makes the connection to the URL"
   ]
  },
  {
   "cell_type": "code",
   "execution_count": 50,
   "id": "97171282",
   "metadata": {},
   "outputs": [],
   "source": [
    "from newspaper import Article\n",
    "from random import shuffle\n",
    "import re\n",
    "import matplotlib.pyplot as plt \n",
    "from collections import Counter\n",
    "\n",
    "import numpy as np\n",
    "import json\n",
    "import requests\n",
    "import glob\n",
    "\n",
    "#gensim\n",
    "import gensim\n",
    "import gensim.corpora as corpora\n",
    "from gensim.models.coherencemodel import CoherenceModel\n",
    "from gensim.utils import simple_preprocess\n",
    "from gensim.corpora import Dictionary  # Import the Dictionary class from Gensim\n",
    "\n",
    "#spacy\n",
    "import spacy\n",
    "from nltk.corpus import stopwords\n",
    "\n",
    "#vis\n",
    "import pyLDAvis\n",
    "import pyLDAvis.gensim\n",
    "import plotly.express as px\n",
    "import matplotlib.colors as mcolors\n",
    "import sklearn\n",
    "from sklearn.manifold import TSNE\n",
    "\n",
    "\n",
    "import warnings\n",
    "warnings.filterwarnings(\"ignore\", category=DeprecationWarning)"
   ]
  },
  {
   "cell_type": "code",
   "execution_count": 51,
   "id": "fae0f7c5",
   "metadata": {},
   "outputs": [],
   "source": [
    "#import spacy\n",
    "from spacytextblob.spacytextblob import SpacyTextBlob\n",
    "import pandas as pd\n",
    "import requests\n",
    "#from newspaper import Article\n",
    "#import numpy as np"
   ]
  },
  {
   "cell_type": "code",
   "execution_count": 52,
   "id": "89933f69",
   "metadata": {},
   "outputs": [],
   "source": [
    "%run SentimentAnalysis.ipynb\n",
    "%run WebScraper.ipynb\n",
    "%run PipelineHelpers.ipynb\n",
    "%run TopicModeling.ipynb\n",
    "%run DataVisualization.ipynb"
   ]
  },
  {
   "cell_type": "markdown",
   "id": "67afdeff",
   "metadata": {},
   "source": [
    "IMPORTANT: If you want to try re-runing after making some code changes or want to \n",
    "run a new .csv file through the code block below and the one a couple down with the\n",
    " rerun note will need to be ran again for the analysis to work correctly"
   ]
  },
  {
   "cell_type": "code",
   "execution_count": 53,
   "id": "4d78c510",
   "metadata": {},
   "outputs": [
    {
     "data": {
      "text/plain": [
       "<spacytextblob.spacytextblob.SpacyTextBlob at 0x238e9168ed0>"
      ]
     },
     "execution_count": 53,
     "metadata": {},
     "output_type": "execute_result"
    }
   ],
   "source": [
    "# Loading our two pipelines\n",
    "nlp = spacy.load('en_core_web_sm')\n",
    "nlp.add_pipe('spacytextblob')"
   ]
  },
  {
   "cell_type": "markdown",
   "id": "b787c3f5",
   "metadata": {},
   "source": [
    "IMPORTANT: Insert the .csv file you want to be read below."
   ]
  },
  {
   "cell_type": "code",
   "execution_count": 54,
   "id": "4e23034f",
   "metadata": {},
   "outputs": [],
   "source": [
    "csvFile = \"urls_gabriel_generated.csv\"\n",
    "wordCountFilter = 150\n",
    "#social_starts_with = [\"https://www.youtube.com\", \"https://youtu.be\", \"https://www.facebook.com\", \n",
    "#                     \"https://twitter.com\", \"https://gettr.com/\"]\n"
   ]
  },
  {
   "cell_type": "code",
   "execution_count": 55,
   "id": "51cde877",
   "metadata": {},
   "outputs": [],
   "source": [
    "# rerun\n",
    "# Using panda to load in our .csv file\n",
    "df = pd.read_csv(csvFile) # File we are checking\n",
    "urls = df[\"Address\"].tolist() # Column name we are checking\n",
    "all_text_gathered = []\n",
    "all_articles = ''\n",
    "scentence_list = []\n"
   ]
  },
  {
   "cell_type": "markdown",
   "id": "a9fabe01",
   "metadata": {},
   "source": [
    "# This is the pipeline. All code is called and ran through here."
   ]
  },
  {
   "cell_type": "code",
   "execution_count": 56,
   "id": "7ae169b7",
   "metadata": {
    "scrolled": true
   },
   "outputs": [
    {
     "name": "stdout",
     "output_type": "stream",
     "text": [
      "0\n",
      "word count  39\n",
      "repeated phrases 1\n",
      "https://www.bbc.com/news/world-us-canada-55805698\n"
     ]
    },
    {
     "data": {
      "text/html": [
       "<div>\n",
       "<style scoped>\n",
       "    .dataframe tbody tr th:only-of-type {\n",
       "        vertical-align: middle;\n",
       "    }\n",
       "\n",
       "    .dataframe tbody tr th {\n",
       "        vertical-align: top;\n",
       "    }\n",
       "\n",
       "    .dataframe thead th {\n",
       "        text-align: right;\n",
       "    }\n",
       "</style>\n",
       "<table border=\"1\" class=\"dataframe\">\n",
       "  <thead>\n",
       "    <tr style=\"text-align: right;\">\n",
       "      <th></th>\n",
       "      <th>URL</th>\n",
       "      <th>Sentiment Score</th>\n",
       "      <th>Sentiment Label</th>\n",
       "      <th>Subjectivity Score</th>\n",
       "      <th>Positive Words</th>\n",
       "      <th>Negative Words</th>\n",
       "      <th>Text</th>\n",
       "    </tr>\n",
       "  </thead>\n",
       "  <tbody>\n",
       "    <tr>\n",
       "      <th>0</th>\n",
       "      <td>https://www.foxnews.com/politics/hunter-bidens...</td>\n",
       "      <td>0.04</td>\n",
       "      <td>Neutral</td>\n",
       "      <td>0.24</td>\n",
       "      <td>new, best, more, unpaid, legal, first, main</td>\n",
       "      <td>approximately, least, firm, previously, limite...</td>\n",
       "      <td>exclusive: the $250,000 wire hunter biden rece...</td>\n",
       "    </tr>\n",
       "    <tr>\n",
       "      <th>1</th>\n",
       "      <td>https://www.foxnews.com/politics/doj-ordered-h...</td>\n",
       "      <td>0.06</td>\n",
       "      <td>Neutral Positive</td>\n",
       "      <td>0.35</td>\n",
       "      <td>most, new, appropriate, real, normal, light, w...</td>\n",
       "      <td>least, other, foreign, artificially, limited, ...</td>\n",
       "      <td>the u.s. department of justice ordered fbi and...</td>\n",
       "    </tr>\n",
       "    <tr>\n",
       "      <th>2</th>\n",
       "      <td>https://www.foxnews.com/politics/hunter-biden-...</td>\n",
       "      <td>-0.04</td>\n",
       "      <td>Neutral Negative</td>\n",
       "      <td>0.37</td>\n",
       "      <td>new, extraordinary, many, direct, generally, l...</td>\n",
       "      <td>illegally, past, not, complaint, infamous, har...</td>\n",
       "      <td>hunter biden on tuesday filed a lawsuit agains...</td>\n",
       "    </tr>\n",
       "    <tr>\n",
       "      <th>3</th>\n",
       "      <td>https://apnews.com/article/hunter-biden-impeac...</td>\n",
       "      <td>0.02</td>\n",
       "      <td>Neutral Negative</td>\n",
       "      <td>0.37</td>\n",
       "      <td>right, action, new, own, more, many, legal, hi...</td>\n",
       "      <td>long, thin, previous, hard, expected, unlikely...</td>\n",
       "      <td>washington (ap) — house republicans launched a...</td>\n",
       "    </tr>\n",
       "    <tr>\n",
       "      <th>4</th>\n",
       "      <td>https://www.nation.com.pk/21-Jun-2023/hunter-b...</td>\n",
       "      <td>-0.04</td>\n",
       "      <td>Neutral Negative</td>\n",
       "      <td>0.44</td>\n",
       "      <td>love, social, first, important, detailed, not</td>\n",
       "      <td>least, other, failure, due, foreign, guilty, c...</td>\n",
       "      <td>washigton-hunter biden, the son of president j...</td>\n",
       "    </tr>\n",
       "    <tr>\n",
       "      <th>5</th>\n",
       "      <td>https://www.nation.com.pk/25-Jul-2021/white-ho...</td>\n",
       "      <td>0.10</td>\n",
       "      <td>Neutral Positive</td>\n",
       "      <td>0.41</td>\n",
       "      <td>winning, professional, appropriate, new, econo...</td>\n",
       "      <td>half</td>\n",
       "      <td>washington - the white house assured saturday ...</td>\n",
       "    </tr>\n",
       "    <tr>\n",
       "      <th>6</th>\n",
       "      <td>https://www.nation.com.pk/24-Dec-2019/hunter-b...</td>\n",
       "      <td>-0.11</td>\n",
       "      <td>Negative</td>\n",
       "      <td>0.40</td>\n",
       "      <td>new, nearly, more</td>\n",
       "      <td>average, firm, shady, behind, allegedly, limit...</td>\n",
       "      <td>hunter biden is the subject of multiple crimin...</td>\n",
       "    </tr>\n",
       "    <tr>\n",
       "      <th>7</th>\n",
       "      <td>https://www.cnn.com/2023/09/27/politics/house-...</td>\n",
       "      <td>-0.01</td>\n",
       "      <td>Neutral Negative</td>\n",
       "      <td>0.35</td>\n",
       "      <td>apparent, real, new, appropriate, general, lig...</td>\n",
       "      <td>addicted, not, firm, roughly, other, single, c...</td>\n",
       "      <td>washington cnn —\\ndocuments released wednesday...</td>\n",
       "    </tr>\n",
       "    <tr>\n",
       "      <th>8</th>\n",
       "      <td>https://www.bbc.com/news/world-us-canada-55805698</td>\n",
       "      <td>0.00</td>\n",
       "      <td>PARERROR: WebBlockerError</td>\n",
       "      <td>0.00</td>\n",
       "      <td></td>\n",
       "      <td></td>\n",
       "      <td>PARERROR: WebBlockerError</td>\n",
       "    </tr>\n",
       "    <tr>\n",
       "      <th>9</th>\n",
       "      <td>https://abcnews.go.com/Politics/comer-issue-su...</td>\n",
       "      <td>0.01</td>\n",
       "      <td>Neutral Negative</td>\n",
       "      <td>0.40</td>\n",
       "      <td>new, more, directly, first, far, top</td>\n",
       "      <td>late, previously, extreme, missing, mean, other</td>\n",
       "      <td>house oversight committee chairman james comer...</td>\n",
       "    </tr>\n",
       "  </tbody>\n",
       "</table>\n",
       "</div>"
      ],
      "text/plain": [
       "                                                 URL  Sentiment Score   \n",
       "0  https://www.foxnews.com/politics/hunter-bidens...             0.04  \\\n",
       "1  https://www.foxnews.com/politics/doj-ordered-h...             0.06   \n",
       "2  https://www.foxnews.com/politics/hunter-biden-...            -0.04   \n",
       "3  https://apnews.com/article/hunter-biden-impeac...             0.02   \n",
       "4  https://www.nation.com.pk/21-Jun-2023/hunter-b...            -0.04   \n",
       "5  https://www.nation.com.pk/25-Jul-2021/white-ho...             0.10   \n",
       "6  https://www.nation.com.pk/24-Dec-2019/hunter-b...            -0.11   \n",
       "7  https://www.cnn.com/2023/09/27/politics/house-...            -0.01   \n",
       "8  https://www.bbc.com/news/world-us-canada-55805698             0.00   \n",
       "9  https://abcnews.go.com/Politics/comer-issue-su...             0.01   \n",
       "\n",
       "             Sentiment Label  Subjectivity Score   \n",
       "0                    Neutral                0.24  \\\n",
       "1           Neutral Positive                0.35   \n",
       "2           Neutral Negative                0.37   \n",
       "3           Neutral Negative                0.37   \n",
       "4           Neutral Negative                0.44   \n",
       "5           Neutral Positive                0.41   \n",
       "6                   Negative                0.40   \n",
       "7           Neutral Negative                0.35   \n",
       "8  PARERROR: WebBlockerError                0.00   \n",
       "9           Neutral Negative                0.40   \n",
       "\n",
       "                                      Positive Words   \n",
       "0        new, best, more, unpaid, legal, first, main  \\\n",
       "1  most, new, appropriate, real, normal, light, w...   \n",
       "2  new, extraordinary, many, direct, generally, l...   \n",
       "3  right, action, new, own, more, many, legal, hi...   \n",
       "4      love, social, first, important, detailed, not   \n",
       "5  winning, professional, appropriate, new, econo...   \n",
       "6                                  new, nearly, more   \n",
       "7  apparent, real, new, appropriate, general, lig...   \n",
       "8                                                      \n",
       "9               new, more, directly, first, far, top   \n",
       "\n",
       "                                      Negative Words   \n",
       "0  approximately, least, firm, previously, limite...  \\\n",
       "1  least, other, foreign, artificially, limited, ...   \n",
       "2  illegally, past, not, complaint, infamous, har...   \n",
       "3  long, thin, previous, hard, expected, unlikely...   \n",
       "4  least, other, failure, due, foreign, guilty, c...   \n",
       "5                                               half   \n",
       "6  average, firm, shady, behind, allegedly, limit...   \n",
       "7  addicted, not, firm, roughly, other, single, c...   \n",
       "8                                                      \n",
       "9    late, previously, extreme, missing, mean, other   \n",
       "\n",
       "                                                Text  \n",
       "0  exclusive: the $250,000 wire hunter biden rece...  \n",
       "1  the u.s. department of justice ordered fbi and...  \n",
       "2  hunter biden on tuesday filed a lawsuit agains...  \n",
       "3  washington (ap) — house republicans launched a...  \n",
       "4  washigton-hunter biden, the son of president j...  \n",
       "5  washington - the white house assured saturday ...  \n",
       "6  hunter biden is the subject of multiple crimin...  \n",
       "7  washington cnn —\\ndocuments released wednesday...  \n",
       "8                          PARERROR: WebBlockerError  \n",
       "9  house oversight committee chairman james comer...  "
      ]
     },
     "execution_count": 56,
     "metadata": {},
     "output_type": "execute_result"
    }
   ],
   "source": [
    "# Loops through our URLS and scraps the data\n",
    "# Put all empty dictionaries here\n",
    "sentimentDic = {}\n",
    "    \n",
    "for count, x in enumerate(urls):\n",
    "    if(count % 10 == 0):\n",
    "        print(str(count))\n",
    "\n",
    "    url = x\n",
    "\n",
    "    # Send the URL to get scraped\n",
    "    page_text = scrapeData(x)\n",
    "    # All articles will have a long string of all the text that has been scraped\n",
    "    all_articles = all_articles + \" \" +  page_text\n",
    "    \n",
    "    # Puts the article into a list of all the sentences in the article\n",
    "    sentenceList = sentenceLevel(page_text)\n",
    "\n",
    "    # Runs sentiment analysis. Will need to make a new function and a new dictionary\n",
    "    # for each type of analysis we want to run. Will pass in the page_text, the dic, and\n",
    "    # x (the url)\n",
    "    sentimentDic = sentimentAnalysis(page_text, sentimentDic, url)\n",
    "        \n",
    "        \n",
    "        \n",
    "#print(\"The average sentiment score was: \" + str(sum(url_sent_score) / len(url_sent_score)))\n",
    "#print(\"The average subjectivity score was: \" + str(sum(url_subj_score) / len(url_subj_score)))\n",
    "\n",
    "# For each analysis we run we need to then convert that dictionary with the following method\n",
    "df = dictionaryToDataFrame(sentimentDic)\n",
    "df\n",
    "# Used if we want to convert it to a .csv sentDic.to_csv(\"sentiment130.csv\")\n"
   ]
  },
  {
   "cell_type": "markdown",
   "id": "b8fb8428",
   "metadata": {},
   "source": [
    "# Dropping failed webscraping rows"
   ]
  },
  {
   "cell_type": "code",
   "execution_count": 57,
   "id": "6357834d",
   "metadata": {},
   "outputs": [
    {
     "data": {
      "text/html": [
       "<div>\n",
       "<style scoped>\n",
       "    .dataframe tbody tr th:only-of-type {\n",
       "        vertical-align: middle;\n",
       "    }\n",
       "\n",
       "    .dataframe tbody tr th {\n",
       "        vertical-align: top;\n",
       "    }\n",
       "\n",
       "    .dataframe thead th {\n",
       "        text-align: right;\n",
       "    }\n",
       "</style>\n",
       "<table border=\"1\" class=\"dataframe\">\n",
       "  <thead>\n",
       "    <tr style=\"text-align: right;\">\n",
       "      <th></th>\n",
       "      <th>URL</th>\n",
       "      <th>Sentiment Score</th>\n",
       "      <th>Sentiment Label</th>\n",
       "      <th>Subjectivity Score</th>\n",
       "      <th>Positive Words</th>\n",
       "      <th>Negative Words</th>\n",
       "      <th>Text</th>\n",
       "    </tr>\n",
       "  </thead>\n",
       "  <tbody>\n",
       "    <tr>\n",
       "      <th>0</th>\n",
       "      <td>https://www.foxnews.com/politics/hunter-bidens...</td>\n",
       "      <td>0.04</td>\n",
       "      <td>Neutral</td>\n",
       "      <td>0.24</td>\n",
       "      <td>new, best, more, unpaid, legal, first, main</td>\n",
       "      <td>approximately, least, firm, previously, limite...</td>\n",
       "      <td>exclusive: the $250,000 wire hunter biden rece...</td>\n",
       "    </tr>\n",
       "    <tr>\n",
       "      <th>1</th>\n",
       "      <td>https://www.foxnews.com/politics/doj-ordered-h...</td>\n",
       "      <td>0.06</td>\n",
       "      <td>Neutral Positive</td>\n",
       "      <td>0.35</td>\n",
       "      <td>most, new, appropriate, real, normal, light, w...</td>\n",
       "      <td>least, other, foreign, artificially, limited, ...</td>\n",
       "      <td>the u.s. department of justice ordered fbi and...</td>\n",
       "    </tr>\n",
       "    <tr>\n",
       "      <th>2</th>\n",
       "      <td>https://www.foxnews.com/politics/hunter-biden-...</td>\n",
       "      <td>-0.04</td>\n",
       "      <td>Neutral Negative</td>\n",
       "      <td>0.37</td>\n",
       "      <td>new, extraordinary, many, direct, generally, l...</td>\n",
       "      <td>illegally, past, not, complaint, infamous, har...</td>\n",
       "      <td>hunter biden on tuesday filed a lawsuit agains...</td>\n",
       "    </tr>\n",
       "    <tr>\n",
       "      <th>3</th>\n",
       "      <td>https://apnews.com/article/hunter-biden-impeac...</td>\n",
       "      <td>0.02</td>\n",
       "      <td>Neutral Negative</td>\n",
       "      <td>0.37</td>\n",
       "      <td>right, action, new, own, more, many, legal, hi...</td>\n",
       "      <td>long, thin, previous, hard, expected, unlikely...</td>\n",
       "      <td>washington (ap) — house republicans launched a...</td>\n",
       "    </tr>\n",
       "    <tr>\n",
       "      <th>4</th>\n",
       "      <td>https://www.nation.com.pk/21-Jun-2023/hunter-b...</td>\n",
       "      <td>-0.04</td>\n",
       "      <td>Neutral Negative</td>\n",
       "      <td>0.44</td>\n",
       "      <td>love, social, first, important, detailed, not</td>\n",
       "      <td>least, other, failure, due, foreign, guilty, c...</td>\n",
       "      <td>washigton-hunter biden, the son of president j...</td>\n",
       "    </tr>\n",
       "    <tr>\n",
       "      <th>5</th>\n",
       "      <td>https://www.nation.com.pk/25-Jul-2021/white-ho...</td>\n",
       "      <td>0.10</td>\n",
       "      <td>Neutral Positive</td>\n",
       "      <td>0.41</td>\n",
       "      <td>winning, professional, appropriate, new, econo...</td>\n",
       "      <td>half</td>\n",
       "      <td>washington - the white house assured saturday ...</td>\n",
       "    </tr>\n",
       "    <tr>\n",
       "      <th>6</th>\n",
       "      <td>https://www.nation.com.pk/24-Dec-2019/hunter-b...</td>\n",
       "      <td>-0.11</td>\n",
       "      <td>Negative</td>\n",
       "      <td>0.40</td>\n",
       "      <td>new, nearly, more</td>\n",
       "      <td>average, firm, shady, behind, allegedly, limit...</td>\n",
       "      <td>hunter biden is the subject of multiple crimin...</td>\n",
       "    </tr>\n",
       "    <tr>\n",
       "      <th>7</th>\n",
       "      <td>https://www.cnn.com/2023/09/27/politics/house-...</td>\n",
       "      <td>-0.01</td>\n",
       "      <td>Neutral Negative</td>\n",
       "      <td>0.35</td>\n",
       "      <td>apparent, real, new, appropriate, general, lig...</td>\n",
       "      <td>addicted, not, firm, roughly, other, single, c...</td>\n",
       "      <td>washington cnn —\\ndocuments released wednesday...</td>\n",
       "    </tr>\n",
       "    <tr>\n",
       "      <th>9</th>\n",
       "      <td>https://abcnews.go.com/Politics/comer-issue-su...</td>\n",
       "      <td>0.01</td>\n",
       "      <td>Neutral Negative</td>\n",
       "      <td>0.40</td>\n",
       "      <td>new, more, directly, first, far, top</td>\n",
       "      <td>late, previously, extreme, missing, mean, other</td>\n",
       "      <td>house oversight committee chairman james comer...</td>\n",
       "    </tr>\n",
       "  </tbody>\n",
       "</table>\n",
       "</div>"
      ],
      "text/plain": [
       "                                                 URL  Sentiment Score   \n",
       "0  https://www.foxnews.com/politics/hunter-bidens...             0.04  \\\n",
       "1  https://www.foxnews.com/politics/doj-ordered-h...             0.06   \n",
       "2  https://www.foxnews.com/politics/hunter-biden-...            -0.04   \n",
       "3  https://apnews.com/article/hunter-biden-impeac...             0.02   \n",
       "4  https://www.nation.com.pk/21-Jun-2023/hunter-b...            -0.04   \n",
       "5  https://www.nation.com.pk/25-Jul-2021/white-ho...             0.10   \n",
       "6  https://www.nation.com.pk/24-Dec-2019/hunter-b...            -0.11   \n",
       "7  https://www.cnn.com/2023/09/27/politics/house-...            -0.01   \n",
       "9  https://abcnews.go.com/Politics/comer-issue-su...             0.01   \n",
       "\n",
       "    Sentiment Label  Subjectivity Score   \n",
       "0           Neutral                0.24  \\\n",
       "1  Neutral Positive                0.35   \n",
       "2  Neutral Negative                0.37   \n",
       "3  Neutral Negative                0.37   \n",
       "4  Neutral Negative                0.44   \n",
       "5  Neutral Positive                0.41   \n",
       "6          Negative                0.40   \n",
       "7  Neutral Negative                0.35   \n",
       "9  Neutral Negative                0.40   \n",
       "\n",
       "                                      Positive Words   \n",
       "0        new, best, more, unpaid, legal, first, main  \\\n",
       "1  most, new, appropriate, real, normal, light, w...   \n",
       "2  new, extraordinary, many, direct, generally, l...   \n",
       "3  right, action, new, own, more, many, legal, hi...   \n",
       "4      love, social, first, important, detailed, not   \n",
       "5  winning, professional, appropriate, new, econo...   \n",
       "6                                  new, nearly, more   \n",
       "7  apparent, real, new, appropriate, general, lig...   \n",
       "9               new, more, directly, first, far, top   \n",
       "\n",
       "                                      Negative Words   \n",
       "0  approximately, least, firm, previously, limite...  \\\n",
       "1  least, other, foreign, artificially, limited, ...   \n",
       "2  illegally, past, not, complaint, infamous, har...   \n",
       "3  long, thin, previous, hard, expected, unlikely...   \n",
       "4  least, other, failure, due, foreign, guilty, c...   \n",
       "5                                               half   \n",
       "6  average, firm, shady, behind, allegedly, limit...   \n",
       "7  addicted, not, firm, roughly, other, single, c...   \n",
       "9    late, previously, extreme, missing, mean, other   \n",
       "\n",
       "                                                Text  \n",
       "0  exclusive: the $250,000 wire hunter biden rece...  \n",
       "1  the u.s. department of justice ordered fbi and...  \n",
       "2  hunter biden on tuesday filed a lawsuit agains...  \n",
       "3  washington (ap) — house republicans launched a...  \n",
       "4  washigton-hunter biden, the son of president j...  \n",
       "5  washington - the white house assured saturday ...  \n",
       "6  hunter biden is the subject of multiple crimin...  \n",
       "7  washington cnn —\\ndocuments released wednesday...  \n",
       "9  house oversight committee chairman james comer...  "
      ]
     },
     "execution_count": 57,
     "metadata": {},
     "output_type": "execute_result"
    }
   ],
   "source": [
    "df = drop_failed_webscraping_rows(df)\n",
    "df"
   ]
  },
  {
   "cell_type": "markdown",
   "id": "ae7dcfcc",
   "metadata": {},
   "source": [
    "# Create Topic Model w/ Highest Coherence"
   ]
  },
  {
   "cell_type": "code",
   "execution_count": 58,
   "id": "0de4901c",
   "metadata": {},
   "outputs": [
    {
     "data": {
      "image/png": "[encoded data removed]",
      "text/plain": [
       "<Figure size 640x480 with 1 Axes>"
      ]
     },
     "metadata": {},
     "output_type": "display_data"
    },
    {
     "data": {
      "text/plain": [
       "<gensim.models.ldamodel.LdaModel at 0x238e0311c90>"
      ]
     },
     "execution_count": 58,
     "metadata": {},
     "output_type": "execute_result"
    }
   ],
   "source": [
    "#This will generate multiple topic models with various topic count, then return the model with highest coherence\n",
    "#it will also display a quick visual of coherence values, to understand what topic count is best and why it was chosen\n",
    "LDA_model, corpus = create_lda_model(df, 20, 5, 5)\n",
    "LDA_model"
   ]
  },
  {
   "cell_type": "code",
   "execution_count": 59,
   "id": "0776de9b",
   "metadata": {},
   "outputs": [
    {
     "name": "stdout",
     "output_type": "stream",
     "text": [
      "10\n"
     ]
    },
    {
     "data": {
      "text/plain": [
       "[(0,\n",
       "  '0.002*\"hunter\" + 0.001*\"document\" + 0.001*\"say\" + 0.001*\"president\" + 0.001*\"business\" + 0.001*\"family\" + 0.001*\"include\" + 0.001*\"political\" + 0.001*\"criminal\" + 0.001*\"impeachment\"'),\n",
       " (1,\n",
       "  '0.001*\"hunter\" + 0.001*\"wire\" + 0.001*\"say\" + 0.001*\"address\" + 0.001*\"son\" + 0.001*\"receive\" + 0.001*\"partner\" + 0.001*\"bank\" + 0.001*\"business\" + 0.001*\"president\"'),\n",
       " (2,\n",
       "  '0.030*\"hunter\" + 0.024*\"say\" + 0.024*\"bank\" + 0.021*\"address\" + 0.021*\"record\" + 0.018*\"comer\" + 0.015*\"wire\" + 0.012*\"family\" + 0.012*\"house\" + 0.012*\"receive\"'),\n",
       " (3,\n",
       "  '0.022*\"scheme\" + 0.018*\"account\" + 0.014*\"document\" + 0.014*\"include\" + 0.014*\"court\" + 0.014*\"criminal\" + 0.014*\"claim\" + 0.014*\"money\" + 0.014*\"case\" + 0.014*\"filing\"'),\n",
       " (4,\n",
       "  '0.001*\"hunter\" + 0.001*\"say\" + 0.001*\"wire\" + 0.001*\"receive\" + 0.001*\"address\" + 0.001*\"partner\" + 0.001*\"impeachment\" + 0.001*\"business\" + 0.001*\"president\" + 0.001*\"document\"'),\n",
       " (5,\n",
       "  '0.018*\"hunter\" + 0.018*\"laptop\" + 0.018*\"president\" + 0.015*\"file\" + 0.013*\"drive\" + 0.011*\"email\" + 0.011*\"datum\" + 0.011*\"device\" + 0.011*\"son\" + 0.009*\"business\"'),\n",
       " (6,\n",
       "  '0.040*\"wire\" + 0.037*\"hunter\" + 0.021*\"partner\" + 0.021*\"address\" + 0.019*\"receive\" + 0.014*\"beneficiary\" + 0.012*\"investment\" + 0.012*\"chinese\" + 0.012*\"list\" + 0.011*\"say\"'),\n",
       " (7,\n",
       "  '0.001*\"hunter\" + 0.001*\"say\" + 0.001*\"president\" + 0.001*\"son\" + 0.001*\"charge\" + 0.001*\"file\" + 0.001*\"plea\" + 0.001*\"business\" + 0.001*\"document\" + 0.001*\"take\"'),\n",
       " (8,\n",
       "  '0.029*\"hunter\" + 0.020*\"say\" + 0.013*\"president\" + 0.013*\"son\" + 0.012*\"artwork\" + 0.012*\"buyer\" + 0.012*\"purchase\" + 0.008*\"year\" + 0.008*\"work\" + 0.008*\"know\"'),\n",
       " (9,\n",
       "  '0.028*\"hunter\" + 0.027*\"say\" + 0.014*\"document\" + 0.010*\"president\" + 0.009*\"family\" + 0.009*\"evidence\" + 0.009*\"impeachment\" + 0.009*\"political\" + 0.008*\"hearing\" + 0.008*\"release\"')]"
      ]
     },
     "execution_count": 59,
     "metadata": {},
     "output_type": "execute_result"
    }
   ],
   "source": [
    "#here we create a list of topic words and their associated weights\n",
    "LDA_model_topics = LDA_model.print_topics() #LDA_model[corpus]\n",
    "\n",
    "LDA_model_topics.sort()\n",
    "print(len(LDA_model_topics))\n",
    "LDA_model_topics\n"
   ]
  },
  {
   "cell_type": "code",
   "execution_count": 60,
   "id": "84da4c03",
   "metadata": {},
   "outputs": [
    {
     "data": {
      "text/plain": [
       "{'Topic_0': ['hunter',\n",
       "  'document',\n",
       "  'say',\n",
       "  'president',\n",
       "  'business',\n",
       "  'family',\n",
       "  'include',\n",
       "  'political',\n",
       "  'criminal',\n",
       "  'impeachment'],\n",
       " 'Topic_1': ['hunter',\n",
       "  'wire',\n",
       "  'say',\n",
       "  'address',\n",
       "  'son',\n",
       "  'receive',\n",
       "  'partner',\n",
       "  'bank',\n",
       "  'business',\n",
       "  'president'],\n",
       " 'Topic_2': ['hunter',\n",
       "  'say',\n",
       "  'bank',\n",
       "  'address',\n",
       "  'record',\n",
       "  'comer',\n",
       "  'wire',\n",
       "  'family',\n",
       "  'house',\n",
       "  'receive'],\n",
       " 'Topic_3': ['scheme',\n",
       "  'account',\n",
       "  'document',\n",
       "  'include',\n",
       "  'court',\n",
       "  'criminal',\n",
       "  'claim',\n",
       "  'money',\n",
       "  'case',\n",
       "  'filing'],\n",
       " 'Topic_4': ['hunter',\n",
       "  'say',\n",
       "  'wire',\n",
       "  'receive',\n",
       "  'address',\n",
       "  'partner',\n",
       "  'impeachment',\n",
       "  'business',\n",
       "  'president',\n",
       "  'document'],\n",
       " 'Topic_5': ['hunter',\n",
       "  'laptop',\n",
       "  'president',\n",
       "  'file',\n",
       "  'drive',\n",
       "  'email',\n",
       "  'datum',\n",
       "  'device',\n",
       "  'son',\n",
       "  'business'],\n",
       " 'Topic_6': ['wire',\n",
       "  'hunter',\n",
       "  'partner',\n",
       "  'address',\n",
       "  'receive',\n",
       "  'beneficiary',\n",
       "  'investment',\n",
       "  'chinese',\n",
       "  'list',\n",
       "  'say'],\n",
       " 'Topic_7': ['hunter',\n",
       "  'say',\n",
       "  'president',\n",
       "  'son',\n",
       "  'charge',\n",
       "  'file',\n",
       "  'plea',\n",
       "  'business',\n",
       "  'document',\n",
       "  'take'],\n",
       " 'Topic_8': ['hunter',\n",
       "  'say',\n",
       "  'president',\n",
       "  'son',\n",
       "  'artwork',\n",
       "  'buyer',\n",
       "  'purchase',\n",
       "  'year',\n",
       "  'work',\n",
       "  'know'],\n",
       " 'Topic_9': ['hunter',\n",
       "  'say',\n",
       "  'document',\n",
       "  'president',\n",
       "  'family',\n",
       "  'evidence',\n",
       "  'impeachment',\n",
       "  'political',\n",
       "  'hearing',\n",
       "  'release']}"
      ]
     },
     "execution_count": 60,
     "metadata": {},
     "output_type": "execute_result"
    }
   ],
   "source": [
    "topic_dict = topic_level_sentiment(LDA_model)\n",
    "topic_dict"
   ]
  },
  {
   "cell_type": "markdown",
   "id": "e90c4670",
   "metadata": {},
   "source": [
    "# DATA VISUALIZATION"
   ]
  },
  {
   "cell_type": "code",
   "execution_count": 61,
   "id": "097d2461",
   "metadata": {
    "scrolled": true
   },
   "outputs": [
    {
     "data": {
      "text/html": [
       "<div>\n",
       "<style scoped>\n",
       "    .dataframe tbody tr th:only-of-type {\n",
       "        vertical-align: middle;\n",
       "    }\n",
       "\n",
       "    .dataframe tbody tr th {\n",
       "        vertical-align: top;\n",
       "    }\n",
       "\n",
       "    .dataframe thead th {\n",
       "        text-align: right;\n",
       "    }\n",
       "</style>\n",
       "<table border=\"1\" class=\"dataframe\">\n",
       "  <thead>\n",
       "    <tr style=\"text-align: right;\">\n",
       "      <th></th>\n",
       "      <th>URL</th>\n",
       "      <th>Sentiment Score</th>\n",
       "      <th>Sentiment Label</th>\n",
       "      <th>Subjectivity Score</th>\n",
       "      <th>Positive Words</th>\n",
       "      <th>Negative Words</th>\n",
       "      <th>Text</th>\n",
       "      <th>Topics</th>\n",
       "      <th>Main Topic</th>\n",
       "      <th>Main Topic Score</th>\n",
       "    </tr>\n",
       "  </thead>\n",
       "  <tbody>\n",
       "    <tr>\n",
       "      <th>0</th>\n",
       "      <td>https://www.foxnews.com/politics/hunter-bidens...</td>\n",
       "      <td>0.04</td>\n",
       "      <td>Neutral</td>\n",
       "      <td>0.24</td>\n",
       "      <td>new, best, more, unpaid, legal, first, main</td>\n",
       "      <td>approximately, least, firm, previously, limite...</td>\n",
       "      <td>exclusive: the $250,000 wire hunter biden rece...</td>\n",
       "      <td>[(6, 0.92484844), (9, 0.072929114)]</td>\n",
       "      <td>6</td>\n",
       "      <td>0.924848</td>\n",
       "    </tr>\n",
       "    <tr>\n",
       "      <th>1</th>\n",
       "      <td>https://www.foxnews.com/politics/doj-ordered-h...</td>\n",
       "      <td>0.06</td>\n",
       "      <td>Neutral Positive</td>\n",
       "      <td>0.35</td>\n",
       "      <td>most, new, appropriate, real, normal, light, w...</td>\n",
       "      <td>least, other, foreign, artificially, limited, ...</td>\n",
       "      <td>the u.s. department of justice ordered fbi and...</td>\n",
       "      <td>[(9, 0.9979907)]</td>\n",
       "      <td>9</td>\n",
       "      <td>0.997991</td>\n",
       "    </tr>\n",
       "    <tr>\n",
       "      <th>2</th>\n",
       "      <td>https://www.foxnews.com/politics/hunter-biden-...</td>\n",
       "      <td>-0.04</td>\n",
       "      <td>Neutral Negative</td>\n",
       "      <td>0.37</td>\n",
       "      <td>new, extraordinary, many, direct, generally, l...</td>\n",
       "      <td>illegally, past, not, complaint, infamous, har...</td>\n",
       "      <td>hunter biden on tuesday filed a lawsuit agains...</td>\n",
       "      <td>[(5, 0.99751353)]</td>\n",
       "      <td>5</td>\n",
       "      <td>0.997514</td>\n",
       "    </tr>\n",
       "    <tr>\n",
       "      <th>3</th>\n",
       "      <td>https://apnews.com/article/hunter-biden-impeac...</td>\n",
       "      <td>0.02</td>\n",
       "      <td>Neutral Negative</td>\n",
       "      <td>0.37</td>\n",
       "      <td>right, action, new, own, more, many, legal, hi...</td>\n",
       "      <td>long, thin, previous, hard, expected, unlikely...</td>\n",
       "      <td>washington (ap) — house republicans launched a...</td>\n",
       "      <td>[(9, 0.99831426)]</td>\n",
       "      <td>9</td>\n",
       "      <td>0.998314</td>\n",
       "    </tr>\n",
       "    <tr>\n",
       "      <th>4</th>\n",
       "      <td>https://www.nation.com.pk/21-Jun-2023/hunter-b...</td>\n",
       "      <td>-0.04</td>\n",
       "      <td>Neutral Negative</td>\n",
       "      <td>0.44</td>\n",
       "      <td>love, social, first, important, detailed, not</td>\n",
       "      <td>least, other, failure, due, foreign, guilty, c...</td>\n",
       "      <td>washigton-hunter biden, the son of president j...</td>\n",
       "      <td>[(9, 0.9944088)]</td>\n",
       "      <td>9</td>\n",
       "      <td>0.994409</td>\n",
       "    </tr>\n",
       "    <tr>\n",
       "      <th>5</th>\n",
       "      <td>https://www.nation.com.pk/25-Jul-2021/white-ho...</td>\n",
       "      <td>0.10</td>\n",
       "      <td>Neutral Positive</td>\n",
       "      <td>0.41</td>\n",
       "      <td>winning, professional, appropriate, new, econo...</td>\n",
       "      <td>half</td>\n",
       "      <td>washington - the white house assured saturday ...</td>\n",
       "      <td>[(8, 0.99411726)]</td>\n",
       "      <td>8</td>\n",
       "      <td>0.994117</td>\n",
       "    </tr>\n",
       "    <tr>\n",
       "      <th>6</th>\n",
       "      <td>https://www.nation.com.pk/24-Dec-2019/hunter-b...</td>\n",
       "      <td>-0.11</td>\n",
       "      <td>Negative</td>\n",
       "      <td>0.40</td>\n",
       "      <td>new, nearly, more</td>\n",
       "      <td>average, firm, shady, behind, allegedly, limit...</td>\n",
       "      <td>hunter biden is the subject of multiple crimin...</td>\n",
       "      <td>[(3, 0.99318147)]</td>\n",
       "      <td>3</td>\n",
       "      <td>0.993181</td>\n",
       "    </tr>\n",
       "    <tr>\n",
       "      <th>7</th>\n",
       "      <td>https://www.cnn.com/2023/09/27/politics/house-...</td>\n",
       "      <td>-0.01</td>\n",
       "      <td>Neutral Negative</td>\n",
       "      <td>0.35</td>\n",
       "      <td>apparent, real, new, appropriate, general, lig...</td>\n",
       "      <td>addicted, not, firm, roughly, other, single, c...</td>\n",
       "      <td>washington cnn —\\ndocuments released wednesday...</td>\n",
       "      <td>[(9, 0.99817413)]</td>\n",
       "      <td>9</td>\n",
       "      <td>0.998174</td>\n",
       "    </tr>\n",
       "    <tr>\n",
       "      <th>9</th>\n",
       "      <td>https://abcnews.go.com/Politics/comer-issue-su...</td>\n",
       "      <td>0.01</td>\n",
       "      <td>Neutral Negative</td>\n",
       "      <td>0.40</td>\n",
       "      <td>new, more, directly, first, far, top</td>\n",
       "      <td>late, previously, extreme, missing, mean, other</td>\n",
       "      <td>house oversight committee chairman james comer...</td>\n",
       "      <td>[(2, 0.99621814)]</td>\n",
       "      <td>2</td>\n",
       "      <td>0.996218</td>\n",
       "    </tr>\n",
       "  </tbody>\n",
       "</table>\n",
       "</div>"
      ],
      "text/plain": [
       "                                                 URL  Sentiment Score   \n",
       "0  https://www.foxnews.com/politics/hunter-bidens...             0.04  \\\n",
       "1  https://www.foxnews.com/politics/doj-ordered-h...             0.06   \n",
       "2  https://www.foxnews.com/politics/hunter-biden-...            -0.04   \n",
       "3  https://apnews.com/article/hunter-biden-impeac...             0.02   \n",
       "4  https://www.nation.com.pk/21-Jun-2023/hunter-b...            -0.04   \n",
       "5  https://www.nation.com.pk/25-Jul-2021/white-ho...             0.10   \n",
       "6  https://www.nation.com.pk/24-Dec-2019/hunter-b...            -0.11   \n",
       "7  https://www.cnn.com/2023/09/27/politics/house-...            -0.01   \n",
       "9  https://abcnews.go.com/Politics/comer-issue-su...             0.01   \n",
       "\n",
       "    Sentiment Label  Subjectivity Score   \n",
       "0           Neutral                0.24  \\\n",
       "1  Neutral Positive                0.35   \n",
       "2  Neutral Negative                0.37   \n",
       "3  Neutral Negative                0.37   \n",
       "4  Neutral Negative                0.44   \n",
       "5  Neutral Positive                0.41   \n",
       "6          Negative                0.40   \n",
       "7  Neutral Negative                0.35   \n",
       "9  Neutral Negative                0.40   \n",
       "\n",
       "                                      Positive Words   \n",
       "0        new, best, more, unpaid, legal, first, main  \\\n",
       "1  most, new, appropriate, real, normal, light, w...   \n",
       "2  new, extraordinary, many, direct, generally, l...   \n",
       "3  right, action, new, own, more, many, legal, hi...   \n",
       "4      love, social, first, important, detailed, not   \n",
       "5  winning, professional, appropriate, new, econo...   \n",
       "6                                  new, nearly, more   \n",
       "7  apparent, real, new, appropriate, general, lig...   \n",
       "9               new, more, directly, first, far, top   \n",
       "\n",
       "                                      Negative Words   \n",
       "0  approximately, least, firm, previously, limite...  \\\n",
       "1  least, other, foreign, artificially, limited, ...   \n",
       "2  illegally, past, not, complaint, infamous, har...   \n",
       "3  long, thin, previous, hard, expected, unlikely...   \n",
       "4  least, other, failure, due, foreign, guilty, c...   \n",
       "5                                               half   \n",
       "6  average, firm, shady, behind, allegedly, limit...   \n",
       "7  addicted, not, firm, roughly, other, single, c...   \n",
       "9    late, previously, extreme, missing, mean, other   \n",
       "\n",
       "                                                Text   \n",
       "0  exclusive: the $250,000 wire hunter biden rece...  \\\n",
       "1  the u.s. department of justice ordered fbi and...   \n",
       "2  hunter biden on tuesday filed a lawsuit agains...   \n",
       "3  washington (ap) — house republicans launched a...   \n",
       "4  washigton-hunter biden, the son of president j...   \n",
       "5  washington - the white house assured saturday ...   \n",
       "6  hunter biden is the subject of multiple crimin...   \n",
       "7  washington cnn —\\ndocuments released wednesday...   \n",
       "9  house oversight committee chairman james comer...   \n",
       "\n",
       "                                Topics  Main Topic  Main Topic Score  \n",
       "0  [(6, 0.92484844), (9, 0.072929114)]           6          0.924848  \n",
       "1                     [(9, 0.9979907)]           9          0.997991  \n",
       "2                    [(5, 0.99751353)]           5          0.997514  \n",
       "3                    [(9, 0.99831426)]           9          0.998314  \n",
       "4                     [(9, 0.9944088)]           9          0.994409  \n",
       "5                    [(8, 0.99411726)]           8          0.994117  \n",
       "6                    [(3, 0.99318147)]           3          0.993181  \n",
       "7                    [(9, 0.99817413)]           9          0.998174  \n",
       "9                    [(2, 0.99621814)]           2          0.996218  "
      ]
     },
     "execution_count": 61,
     "metadata": {},
     "output_type": "execute_result"
    }
   ],
   "source": [
    "#making a new dataframe \n",
    "df_main_topic = add_main_topic_dataframe(df, LDA_model, corpus)\n",
    "\n",
    "df_main_topic\n",
    "\n",
    "#LDA_model.get_document_topics(corpus)\n",
    "#df['Topics'] = LDA_model.get_document_topics(corpus)\n",
    "#df.shape"
   ]
  },
  {
   "cell_type": "markdown",
   "id": "9587fb26",
   "metadata": {},
   "source": [
    "# Visualize all articles on their main topic"
   ]
  },
  {
   "cell_type": "code",
   "execution_count": 62,
   "id": "f85d1cda",
   "metadata": {
    "scrolled": true
   },
   "outputs": [
    {
     "data": {
      "application/vnd.plotly.v1+json": {
       "config": {
        "plotlyServerURL": "https://plot.ly"
       },
       "data": [
        {
         "customdata": [
          [
           "https://abcnews.go.com/Politics/com",
           "Neutral Negative",
           0.9962181448936462
          ],
          [
           "https://www.nation.com.pk/24-Dec-20",
           "Negative",
           0.9931814670562744
          ],
          [
           "https://www.foxnews.com/politics/hu",
           "Neutral Negative",
           0.9975135326385498
          ],
          [
           "https://www.foxnews.com/politics/hu",
           "Neutral",
           0.9248484373092651
          ],
          [
           "https://www.nation.com.pk/25-Jul-20",
           "Neutral Positive",
           0.994117259979248
          ],
          [
           "https://www.foxnews.com/politics/do",
           "Neutral Positive",
           0.9979907274246216
          ],
          [
           "https://apnews.com/article/hunter-b",
           "Neutral Negative",
           0.9983142614364624
          ],
          [
           "https://www.nation.com.pk/21-Jun-20",
           "Neutral Negative",
           0.9944087862968445
          ],
          [
           "https://www.cnn.com/2023/09/27/poli",
           "Neutral Negative",
           0.9981741309165955
          ]
         ],
         "hovertemplate": "Address: %{customdata[0]}<br>Sentiment Label: %{customdata[1]}<br>Main Topic Score :%{customdata[2]}",
         "legendgroup": "",
         "marker": {
          "color": "#636efa",
          "size": [
           0.9962181448936462,
           0.9931814670562744,
           0.9975135326385498,
           0.9248484373092651,
           0.994117259979248,
           0.9979907274246216,
           0.9983142614364624,
           0.9944087862968445,
           0.9981741309165955
          ],
          "sizemode": "area",
          "sizeref": 0.002495785653591156,
          "symbol": "circle"
         },
         "mode": "markers",
         "name": "",
         "orientation": "v",
         "showlegend": false,
         "type": "scatter",
         "x": [
          2,
          3,
          5,
          6,
          8,
          9,
          9,
          9,
          9
         ],
         "xaxis": "x",
         "y": [
          0.01,
          -0.11,
          -0.04,
          0.04,
          0.1,
          0.06,
          0.02,
          -0.04,
          -0.01
         ],
         "yaxis": "y"
        }
       ],
       "layout": {
        "legend": {
         "itemsizing": "constant",
         "tracegroupgap": 0
        },
        "template": {
         "data": {
          "bar": [
           {
            "error_x": {
             "color": "#2a3f5f"
            },
            "error_y": {
             "color": "#2a3f5f"
            },
            "marker": {
             "line": {
              "color": "#E5ECF6",
              "width": 0.5
             },
             "pattern": {
              "fillmode": "overlay",
              "size": 10,
              "solidity": 0.2
             }
            },
            "type": "bar"
           }
          ],
          "barpolar": [
           {
            "marker": {
             "line": {
              "color": "#E5ECF6",
              "width": 0.5
             },
             "pattern": {
              "fillmode": "overlay",
              "size": 10,
              "solidity": 0.2
             }
            },
            "type": "barpolar"
           }
          ],
          "carpet": [
           {
            "aaxis": {
             "endlinecolor": "#2a3f5f",
             "gridcolor": "white",
             "linecolor": "white",
             "minorgridcolor": "white",
             "startlinecolor": "#2a3f5f"
            },
            "baxis": {
             "endlinecolor": "#2a3f5f",
             "gridcolor": "white",
             "linecolor": "white",
             "minorgridcolor": "white",
             "startlinecolor": "#2a3f5f"
            },
            "type": "carpet"
           }
          ],
          "choropleth": [
           {
            "colorbar": {
             "outlinewidth": 0,
             "ticks": ""
            },
            "type": "choropleth"
           }
          ],
          "contour": [
           {
            "colorbar": {
             "outlinewidth": 0,
             "ticks": ""
            },
            "colorscale": [
             [
              0,
              "#0d0887"
             ],
             [
              0.1111111111111111,
              "#46039f"
             ],
             [
              0.2222222222222222,
              "#7201a8"
             ],
             [
              0.3333333333333333,
              "#9c179e"
             ],
             [
              0.4444444444444444,
              "#bd3786"
             ],
             [
              0.5555555555555556,
              "#d8576b"
             ],
             [
              0.6666666666666666,
              "#ed7953"
             ],
             [
              0.7777777777777778,
              "#fb9f3a"
             ],
             [
              0.8888888888888888,
              "#fdca26"
             ],
             [
              1,
              "#f0f921"
             ]
            ],
            "type": "contour"
           }
          ],
          "contourcarpet": [
           {
            "colorbar": {
             "outlinewidth": 0,
             "ticks": ""
            },
            "type": "contourcarpet"
           }
          ],
          "heatmap": [
           {
            "colorbar": {
             "outlinewidth": 0,
             "ticks": ""
            },
            "colorscale": [
             [
              0,
              "#0d0887"
             ],
             [
              0.1111111111111111,
              "#46039f"
             ],
             [
              0.2222222222222222,
              "#7201a8"
             ],
             [
              0.3333333333333333,
              "#9c179e"
             ],
             [
              0.4444444444444444,
              "#bd3786"
             ],
             [
              0.5555555555555556,
              "#d8576b"
             ],
             [
              0.6666666666666666,
              "#ed7953"
             ],
             [
              0.7777777777777778,
              "#fb9f3a"
             ],
             [
              0.8888888888888888,
              "#fdca26"
             ],
             [
              1,
              "#f0f921"
             ]
            ],
            "type": "heatmap"
           }
          ],
          "heatmapgl": [
           {
            "colorbar": {
             "outlinewidth": 0,
             "ticks": ""
            },
            "colorscale": [
             [
              0,
              "#0d0887"
             ],
             [
              0.1111111111111111,
              "#46039f"
             ],
             [
              0.2222222222222222,
              "#7201a8"
             ],
             [
              0.3333333333333333,
              "#9c179e"
             ],
             [
              0.4444444444444444,
              "#bd3786"
             ],
             [
              0.5555555555555556,
              "#d8576b"
             ],
             [
              0.6666666666666666,
              "#ed7953"
             ],
             [
              0.7777777777777778,
              "#fb9f3a"
             ],
             [
              0.8888888888888888,
              "#fdca26"
             ],
             [
              1,
              "#f0f921"
             ]
            ],
            "type": "heatmapgl"
           }
          ],
          "histogram": [
           {
            "marker": {
             "pattern": {
              "fillmode": "overlay",
              "size": 10,
              "solidity": 0.2
             }
            },
            "type": "histogram"
           }
          ],
          "histogram2d": [
           {
            "colorbar": {
             "outlinewidth": 0,
             "ticks": ""
            },
            "colorscale": [
             [
              0,
              "#0d0887"
             ],
             [
              0.1111111111111111,
              "#46039f"
             ],
             [
              0.2222222222222222,
              "#7201a8"
             ],
             [
              0.3333333333333333,
              "#9c179e"
             ],
             [
              0.4444444444444444,
              "#bd3786"
             ],
             [
              0.5555555555555556,
              "#d8576b"
             ],
             [
              0.6666666666666666,
              "#ed7953"
             ],
             [
              0.7777777777777778,
              "#fb9f3a"
             ],
             [
              0.8888888888888888,
              "#fdca26"
             ],
             [
              1,
              "#f0f921"
             ]
            ],
            "type": "histogram2d"
           }
          ],
          "histogram2dcontour": [
           {
            "colorbar": {
             "outlinewidth": 0,
             "ticks": ""
            },
            "colorscale": [
             [
              0,
              "#0d0887"
             ],
             [
              0.1111111111111111,
              "#46039f"
             ],
             [
              0.2222222222222222,
              "#7201a8"
             ],
             [
              0.3333333333333333,
              "#9c179e"
             ],
             [
              0.4444444444444444,
              "#bd3786"
             ],
             [
              0.5555555555555556,
              "#d8576b"
             ],
             [
              0.6666666666666666,
              "#ed7953"
             ],
             [
              0.7777777777777778,
              "#fb9f3a"
             ],
             [
              0.8888888888888888,
              "#fdca26"
             ],
             [
              1,
              "#f0f921"
             ]
            ],
            "type": "histogram2dcontour"
           }
          ],
          "mesh3d": [
           {
            "colorbar": {
             "outlinewidth": 0,
             "ticks": ""
            },
            "type": "mesh3d"
           }
          ],
          "parcoords": [
           {
            "line": {
             "colorbar": {
              "outlinewidth": 0,
              "ticks": ""
             }
            },
            "type": "parcoords"
           }
          ],
          "pie": [
           {
            "automargin": true,
            "type": "pie"
           }
          ],
          "scatter": [
           {
            "fillpattern": {
             "fillmode": "overlay",
             "size": 10,
             "solidity": 0.2
            },
            "type": "scatter"
           }
          ],
          "scatter3d": [
           {
            "line": {
             "colorbar": {
              "outlinewidth": 0,
              "ticks": ""
             }
            },
            "marker": {
             "colorbar": {
              "outlinewidth": 0,
              "ticks": ""
             }
            },
            "type": "scatter3d"
           }
          ],
          "scattercarpet": [
           {
            "marker": {
             "colorbar": {
              "outlinewidth": 0,
              "ticks": ""
             }
            },
            "type": "scattercarpet"
           }
          ],
          "scattergeo": [
           {
            "marker": {
             "colorbar": {
              "outlinewidth": 0,
              "ticks": ""
             }
            },
            "type": "scattergeo"
           }
          ],
          "scattergl": [
           {
            "marker": {
             "colorbar": {
              "outlinewidth": 0,
              "ticks": ""
             }
            },
            "type": "scattergl"
           }
          ],
          "scattermapbox": [
           {
            "marker": {
             "colorbar": {
              "outlinewidth": 0,
              "ticks": ""
             }
            },
            "type": "scattermapbox"
           }
          ],
          "scatterpolar": [
           {
            "marker": {
             "colorbar": {
              "outlinewidth": 0,
              "ticks": ""
             }
            },
            "type": "scatterpolar"
           }
          ],
          "scatterpolargl": [
           {
            "marker": {
             "colorbar": {
              "outlinewidth": 0,
              "ticks": ""
             }
            },
            "type": "scatterpolargl"
           }
          ],
          "scatterternary": [
           {
            "marker": {
             "colorbar": {
              "outlinewidth": 0,
              "ticks": ""
             }
            },
            "type": "scatterternary"
           }
          ],
          "surface": [
           {
            "colorbar": {
             "outlinewidth": 0,
             "ticks": ""
            },
            "colorscale": [
             [
              0,
              "#0d0887"
             ],
             [
              0.1111111111111111,
              "#46039f"
             ],
             [
              0.2222222222222222,
              "#7201a8"
             ],
             [
              0.3333333333333333,
              "#9c179e"
             ],
             [
              0.4444444444444444,
              "#bd3786"
             ],
             [
              0.5555555555555556,
              "#d8576b"
             ],
             [
              0.6666666666666666,
              "#ed7953"
             ],
             [
              0.7777777777777778,
              "#fb9f3a"
             ],
             [
              0.8888888888888888,
              "#fdca26"
             ],
             [
              1,
              "#f0f921"
             ]
            ],
            "type": "surface"
           }
          ],
          "table": [
           {
            "cells": {
             "fill": {
              "color": "#EBF0F8"
             },
             "line": {
              "color": "white"
             }
            },
            "header": {
             "fill": {
              "color": "#C8D4E3"
             },
             "line": {
              "color": "white"
             }
            },
            "type": "table"
           }
          ]
         },
         "layout": {
          "annotationdefaults": {
           "arrowcolor": "#2a3f5f",
           "arrowhead": 0,
           "arrowwidth": 1
          },
          "autotypenumbers": "strict",
          "coloraxis": {
           "colorbar": {
            "outlinewidth": 0,
            "ticks": ""
           }
          },
          "colorscale": {
           "diverging": [
            [
             0,
             "#8e0152"
            ],
            [
             0.1,
             "#c51b7d"
            ],
            [
             0.2,
             "#de77ae"
            ],
            [
             0.3,
             "#f1b6da"
            ],
            [
             0.4,
             "#fde0ef"
            ],
            [
             0.5,
             "#f7f7f7"
            ],
            [
             0.6,
             "#e6f5d0"
            ],
            [
             0.7,
             "#b8e186"
            ],
            [
             0.8,
             "#7fbc41"
            ],
            [
             0.9,
             "#4d9221"
            ],
            [
             1,
             "#276419"
            ]
           ],
           "sequential": [
            [
             0,
             "#0d0887"
            ],
            [
             0.1111111111111111,
             "#46039f"
            ],
            [
             0.2222222222222222,
             "#7201a8"
            ],
            [
             0.3333333333333333,
             "#9c179e"
            ],
            [
             0.4444444444444444,
             "#bd3786"
            ],
            [
             0.5555555555555556,
             "#d8576b"
            ],
            [
             0.6666666666666666,
             "#ed7953"
            ],
            [
             0.7777777777777778,
             "#fb9f3a"
            ],
            [
             0.8888888888888888,
             "#fdca26"
            ],
            [
             1,
             "#f0f921"
            ]
           ],
           "sequentialminus": [
            [
             0,
             "#0d0887"
            ],
            [
             0.1111111111111111,
             "#46039f"
            ],
            [
             0.2222222222222222,
             "#7201a8"
            ],
            [
             0.3333333333333333,
             "#9c179e"
            ],
            [
             0.4444444444444444,
             "#bd3786"
            ],
            [
             0.5555555555555556,
             "#d8576b"
            ],
            [
             0.6666666666666666,
             "#ed7953"
            ],
            [
             0.7777777777777778,
             "#fb9f3a"
            ],
            [
             0.8888888888888888,
             "#fdca26"
            ],
            [
             1,
             "#f0f921"
            ]
           ]
          },
          "colorway": [
           "#636efa",
           "#EF553B",
           "#00cc96",
           "#ab63fa",
           "#FFA15A",
           "#19d3f3",
           "#FF6692",
           "#B6E880",
           "#FF97FF",
           "#FECB52"
          ],
          "font": {
           "color": "#2a3f5f"
          },
          "geo": {
           "bgcolor": "white",
           "lakecolor": "white",
           "landcolor": "#E5ECF6",
           "showlakes": true,
           "showland": true,
           "subunitcolor": "white"
          },
          "hoverlabel": {
           "align": "left"
          },
          "hovermode": "closest",
          "mapbox": {
           "style": "light"
          },
          "paper_bgcolor": "white",
          "plot_bgcolor": "#E5ECF6",
          "polar": {
           "angularaxis": {
            "gridcolor": "white",
            "linecolor": "white",
            "ticks": ""
           },
           "bgcolor": "#E5ECF6",
           "radialaxis": {
            "gridcolor": "white",
            "linecolor": "white",
            "ticks": ""
           }
          },
          "scene": {
           "xaxis": {
            "backgroundcolor": "#E5ECF6",
            "gridcolor": "white",
            "gridwidth": 2,
            "linecolor": "white",
            "showbackground": true,
            "ticks": "",
            "zerolinecolor": "white"
           },
           "yaxis": {
            "backgroundcolor": "#E5ECF6",
            "gridcolor": "white",
            "gridwidth": 2,
            "linecolor": "white",
            "showbackground": true,
            "ticks": "",
            "zerolinecolor": "white"
           },
           "zaxis": {
            "backgroundcolor": "#E5ECF6",
            "gridcolor": "white",
            "gridwidth": 2,
            "linecolor": "white",
            "showbackground": true,
            "ticks": "",
            "zerolinecolor": "white"
           }
          },
          "shapedefaults": {
           "line": {
            "color": "#2a3f5f"
           }
          },
          "ternary": {
           "aaxis": {
            "gridcolor": "white",
            "linecolor": "white",
            "ticks": ""
           },
           "baxis": {
            "gridcolor": "white",
            "linecolor": "white",
            "ticks": ""
           },
           "bgcolor": "#E5ECF6",
           "caxis": {
            "gridcolor": "white",
            "linecolor": "white",
            "ticks": ""
           }
          },
          "title": {
           "x": 0.05
          },
          "xaxis": {
           "automargin": true,
           "gridcolor": "white",
           "linecolor": "white",
           "ticks": "",
           "title": {
            "standoff": 15
           },
           "zerolinecolor": "white",
           "zerolinewidth": 2
          },
          "yaxis": {
           "automargin": true,
           "gridcolor": "white",
           "linecolor": "white",
           "ticks": "",
           "title": {
            "standoff": 15
           },
           "zerolinecolor": "white",
           "zerolinewidth": 2
          }
         }
        },
        "title": {
         "text": "Articles Sorted By Main Topic"
        },
        "xaxis": {
         "anchor": "y",
         "domain": [
          0,
          1
         ],
         "title": {
          "text": "Main Topic"
         },
         "type": "category"
        },
        "yaxis": {
         "anchor": "x",
         "domain": [
          0,
          1
         ],
         "title": {
          "text": "Sentiment Score"
         }
        }
       }
      },
      "text/html": [
       "<div>                            <div id=\"388f748a-3b2d-4b0a-93ae-d91be95ebb24\" class=\"plotly-graph-div\" style=\"height:525px; width:100%;\"></div>            <script type=\"text/javascript\">                require([\"plotly\"], function(Plotly) {                    window.PLOTLYENV=window.PLOTLYENV || {};                                    if (document.getElementById(\"388f748a-3b2d-4b0a-93ae-d91be95ebb24\")) {                    Plotly.newPlot(                        \"388f748a-3b2d-4b0a-93ae-d91be95ebb24\",                        [{\"customdata\":[[\"https:\\u002f\\u002fabcnews.go.com\\u002fPolitics\\u002fcom\",\"Neutral Negative\",0.9962181448936462],[\"https:\\u002f\\u002fwww.nation.com.pk\\u002f24-Dec-20\",\"Negative\",0.9931814670562744],[\"https:\\u002f\\u002fwww.foxnews.com\\u002fpolitics\\u002fhu\",\"Neutral Negative\",0.9975135326385498],[\"https:\\u002f\\u002fwww.foxnews.com\\u002fpolitics\\u002fhu\",\"Neutral\",0.9248484373092651],[\"https:\\u002f\\u002fwww.nation.com.pk\\u002f25-Jul-20\",\"Neutral Positive\",0.994117259979248],[\"https:\\u002f\\u002fwww.foxnews.com\\u002fpolitics\\u002fdo\",\"Neutral Positive\",0.9979907274246216],[\"https:\\u002f\\u002fapnews.com\\u002farticle\\u002fhunter-b\",\"Neutral Negative\",0.9983142614364624],[\"https:\\u002f\\u002fwww.nation.com.pk\\u002f21-Jun-20\",\"Neutral Negative\",0.9944087862968445],[\"https:\\u002f\\u002fwww.cnn.com\\u002f2023\\u002f09\\u002f27\\u002fpoli\",\"Neutral Negative\",0.9981741309165955]],\"hovertemplate\":\"Address: %{customdata[0]}\\u003cbr\\u003eSentiment Label: %{customdata[1]}\\u003cbr\\u003eMain Topic Score :%{customdata[2]}\",\"legendgroup\":\"\",\"marker\":{\"color\":\"#636efa\",\"size\":[0.9962181448936462,0.9931814670562744,0.9975135326385498,0.9248484373092651,0.994117259979248,0.9979907274246216,0.9983142614364624,0.9944087862968445,0.9981741309165955],\"sizemode\":\"area\",\"sizeref\":0.002495785653591156,\"symbol\":\"circle\"},\"mode\":\"markers\",\"name\":\"\",\"orientation\":\"v\",\"showlegend\":false,\"x\":[2,3,5,6,8,9,9,9,9],\"xaxis\":\"x\",\"y\":[0.01,-0.11,-0.04,0.04,0.1,0.06,0.02,-0.04,-0.01],\"yaxis\":\"y\",\"type\":\"scatter\"}],                        {\"template\":{\"data\":{\"histogram2dcontour\":[{\"type\":\"histogram2dcontour\",\"colorbar\":{\"outlinewidth\":0,\"ticks\":\"\"},\"colorscale\":[[0.0,\"#0d0887\"],[0.1111111111111111,\"#46039f\"],[0.2222222222222222,\"#7201a8\"],[0.3333333333333333,\"#9c179e\"],[0.4444444444444444,\"#bd3786\"],[0.5555555555555556,\"#d8576b\"],[0.6666666666666666,\"#ed7953\"],[0.7777777777777778,\"#fb9f3a\"],[0.8888888888888888,\"#fdca26\"],[1.0,\"#f0f921\"]]}],\"choropleth\":[{\"type\":\"choropleth\",\"colorbar\":{\"outlinewidth\":0,\"ticks\":\"\"}}],\"histogram2d\":[{\"type\":\"histogram2d\",\"colorbar\":{\"outlinewidth\":0,\"ticks\":\"\"},\"colorscale\":[[0.0,\"#0d0887\"],[0.1111111111111111,\"#46039f\"],[0.2222222222222222,\"#7201a8\"],[0.3333333333333333,\"#9c179e\"],[0.4444444444444444,\"#bd3786\"],[0.5555555555555556,\"#d8576b\"],[0.6666666666666666,\"#ed7953\"],[0.7777777777777778,\"#fb9f3a\"],[0.8888888888888888,\"#fdca26\"],[1.0,\"#f0f921\"]]}],\"heatmap\":[{\"type\":\"heatmap\",\"colorbar\":{\"outlinewidth\":0,\"ticks\":\"\"},\"colorscale\":[[0.0,\"#0d0887\"],[0.1111111111111111,\"#46039f\"],[0.2222222222222222,\"#7201a8\"],[0.3333333333333333,\"#9c179e\"],[0.4444444444444444,\"#bd3786\"],[0.5555555555555556,\"#d8576b\"],[0.6666666666666666,\"#ed7953\"],[0.7777777777777778,\"#fb9f3a\"],[0.8888888888888888,\"#fdca26\"],[1.0,\"#f0f921\"]]}],\"heatmapgl\":[{\"type\":\"heatmapgl\",\"colorbar\":{\"outlinewidth\":0,\"ticks\":\"\"},\"colorscale\":[[0.0,\"#0d0887\"],[0.1111111111111111,\"#46039f\"],[0.2222222222222222,\"#7201a8\"],[0.3333333333333333,\"#9c179e\"],[0.4444444444444444,\"#bd3786\"],[0.5555555555555556,\"#d8576b\"],[0.6666666666666666,\"#ed7953\"],[0.7777777777777778,\"#fb9f3a\"],[0.8888888888888888,\"#fdca26\"],[1.0,\"#f0f921\"]]}],\"contourcarpet\":[{\"type\":\"contourcarpet\",\"colorbar\":{\"outlinewidth\":0,\"ticks\":\"\"}}],\"contour\":[{\"type\":\"contour\",\"colorbar\":{\"outlinewidth\":0,\"ticks\":\"\"},\"colorscale\":[[0.0,\"#0d0887\"],[0.1111111111111111,\"#46039f\"],[0.2222222222222222,\"#7201a8\"],[0.3333333333333333,\"#9c179e\"],[0.4444444444444444,\"#bd3786\"],[0.5555555555555556,\"#d8576b\"],[0.6666666666666666,\"#ed7953\"],[0.7777777777777778,\"#fb9f3a\"],[0.8888888888888888,\"#fdca26\"],[1.0,\"#f0f921\"]]}],\"surface\":[{\"type\":\"surface\",\"colorbar\":{\"outlinewidth\":0,\"ticks\":\"\"},\"colorscale\":[[0.0,\"#0d0887\"],[0.1111111111111111,\"#46039f\"],[0.2222222222222222,\"#7201a8\"],[0.3333333333333333,\"#9c179e\"],[0.4444444444444444,\"#bd3786\"],[0.5555555555555556,\"#d8576b\"],[0.6666666666666666,\"#ed7953\"],[0.7777777777777778,\"#fb9f3a\"],[0.8888888888888888,\"#fdca26\"],[1.0,\"#f0f921\"]]}],\"mesh3d\":[{\"type\":\"mesh3d\",\"colorbar\":{\"outlinewidth\":0,\"ticks\":\"\"}}],\"scatter\":[{\"fillpattern\":{\"fillmode\":\"overlay\",\"size\":10,\"solidity\":0.2},\"type\":\"scatter\"}],\"parcoords\":[{\"type\":\"parcoords\",\"line\":{\"colorbar\":{\"outlinewidth\":0,\"ticks\":\"\"}}}],\"scatterpolargl\":[{\"type\":\"scatterpolargl\",\"marker\":{\"colorbar\":{\"outlinewidth\":0,\"ticks\":\"\"}}}],\"bar\":[{\"error_x\":{\"color\":\"#2a3f5f\"},\"error_y\":{\"color\":\"#2a3f5f\"},\"marker\":{\"line\":{\"color\":\"#E5ECF6\",\"width\":0.5},\"pattern\":{\"fillmode\":\"overlay\",\"size\":10,\"solidity\":0.2}},\"type\":\"bar\"}],\"scattergeo\":[{\"type\":\"scattergeo\",\"marker\":{\"colorbar\":{\"outlinewidth\":0,\"ticks\":\"\"}}}],\"scatterpolar\":[{\"type\":\"scatterpolar\",\"marker\":{\"colorbar\":{\"outlinewidth\":0,\"ticks\":\"\"}}}],\"histogram\":[{\"marker\":{\"pattern\":{\"fillmode\":\"overlay\",\"size\":10,\"solidity\":0.2}},\"type\":\"histogram\"}],\"scattergl\":[{\"type\":\"scattergl\",\"marker\":{\"colorbar\":{\"outlinewidth\":0,\"ticks\":\"\"}}}],\"scatter3d\":[{\"type\":\"scatter3d\",\"line\":{\"colorbar\":{\"outlinewidth\":0,\"ticks\":\"\"}},\"marker\":{\"colorbar\":{\"outlinewidth\":0,\"ticks\":\"\"}}}],\"scattermapbox\":[{\"type\":\"scattermapbox\",\"marker\":{\"colorbar\":{\"outlinewidth\":0,\"ticks\":\"\"}}}],\"scatterternary\":[{\"type\":\"scatterternary\",\"marker\":{\"colorbar\":{\"outlinewidth\":0,\"ticks\":\"\"}}}],\"scattercarpet\":[{\"type\":\"scattercarpet\",\"marker\":{\"colorbar\":{\"outlinewidth\":0,\"ticks\":\"\"}}}],\"carpet\":[{\"aaxis\":{\"endlinecolor\":\"#2a3f5f\",\"gridcolor\":\"white\",\"linecolor\":\"white\",\"minorgridcolor\":\"white\",\"startlinecolor\":\"#2a3f5f\"},\"baxis\":{\"endlinecolor\":\"#2a3f5f\",\"gridcolor\":\"white\",\"linecolor\":\"white\",\"minorgridcolor\":\"white\",\"startlinecolor\":\"#2a3f5f\"},\"type\":\"carpet\"}],\"table\":[{\"cells\":{\"fill\":{\"color\":\"#EBF0F8\"},\"line\":{\"color\":\"white\"}},\"header\":{\"fill\":{\"color\":\"#C8D4E3\"},\"line\":{\"color\":\"white\"}},\"type\":\"table\"}],\"barpolar\":[{\"marker\":{\"line\":{\"color\":\"#E5ECF6\",\"width\":0.5},\"pattern\":{\"fillmode\":\"overlay\",\"size\":10,\"solidity\":0.2}},\"type\":\"barpolar\"}],\"pie\":[{\"automargin\":true,\"type\":\"pie\"}]},\"layout\":{\"autotypenumbers\":\"strict\",\"colorway\":[\"#636efa\",\"#EF553B\",\"#00cc96\",\"#ab63fa\",\"#FFA15A\",\"#19d3f3\",\"#FF6692\",\"#B6E880\",\"#FF97FF\",\"#FECB52\"],\"font\":{\"color\":\"#2a3f5f\"},\"hovermode\":\"closest\",\"hoverlabel\":{\"align\":\"left\"},\"paper_bgcolor\":\"white\",\"plot_bgcolor\":\"#E5ECF6\",\"polar\":{\"bgcolor\":\"#E5ECF6\",\"angularaxis\":{\"gridcolor\":\"white\",\"linecolor\":\"white\",\"ticks\":\"\"},\"radialaxis\":{\"gridcolor\":\"white\",\"linecolor\":\"white\",\"ticks\":\"\"}},\"ternary\":{\"bgcolor\":\"#E5ECF6\",\"aaxis\":{\"gridcolor\":\"white\",\"linecolor\":\"white\",\"ticks\":\"\"},\"baxis\":{\"gridcolor\":\"white\",\"linecolor\":\"white\",\"ticks\":\"\"},\"caxis\":{\"gridcolor\":\"white\",\"linecolor\":\"white\",\"ticks\":\"\"}},\"coloraxis\":{\"colorbar\":{\"outlinewidth\":0,\"ticks\":\"\"}},\"colorscale\":{\"sequential\":[[0.0,\"#0d0887\"],[0.1111111111111111,\"#46039f\"],[0.2222222222222222,\"#7201a8\"],[0.3333333333333333,\"#9c179e\"],[0.4444444444444444,\"#bd3786\"],[0.5555555555555556,\"#d8576b\"],[0.6666666666666666,\"#ed7953\"],[0.7777777777777778,\"#fb9f3a\"],[0.8888888888888888,\"#fdca26\"],[1.0,\"#f0f921\"]],\"sequentialminus\":[[0.0,\"#0d0887\"],[0.1111111111111111,\"#46039f\"],[0.2222222222222222,\"#7201a8\"],[0.3333333333333333,\"#9c179e\"],[0.4444444444444444,\"#bd3786\"],[0.5555555555555556,\"#d8576b\"],[0.6666666666666666,\"#ed7953\"],[0.7777777777777778,\"#fb9f3a\"],[0.8888888888888888,\"#fdca26\"],[1.0,\"#f0f921\"]],\"diverging\":[[0,\"#8e0152\"],[0.1,\"#c51b7d\"],[0.2,\"#de77ae\"],[0.3,\"#f1b6da\"],[0.4,\"#fde0ef\"],[0.5,\"#f7f7f7\"],[0.6,\"#e6f5d0\"],[0.7,\"#b8e186\"],[0.8,\"#7fbc41\"],[0.9,\"#4d9221\"],[1,\"#276419\"]]},\"xaxis\":{\"gridcolor\":\"white\",\"linecolor\":\"white\",\"ticks\":\"\",\"title\":{\"standoff\":15},\"zerolinecolor\":\"white\",\"automargin\":true,\"zerolinewidth\":2},\"yaxis\":{\"gridcolor\":\"white\",\"linecolor\":\"white\",\"ticks\":\"\",\"title\":{\"standoff\":15},\"zerolinecolor\":\"white\",\"automargin\":true,\"zerolinewidth\":2},\"scene\":{\"xaxis\":{\"backgroundcolor\":\"#E5ECF6\",\"gridcolor\":\"white\",\"linecolor\":\"white\",\"showbackground\":true,\"ticks\":\"\",\"zerolinecolor\":\"white\",\"gridwidth\":2},\"yaxis\":{\"backgroundcolor\":\"#E5ECF6\",\"gridcolor\":\"white\",\"linecolor\":\"white\",\"showbackground\":true,\"ticks\":\"\",\"zerolinecolor\":\"white\",\"gridwidth\":2},\"zaxis\":{\"backgroundcolor\":\"#E5ECF6\",\"gridcolor\":\"white\",\"linecolor\":\"white\",\"showbackground\":true,\"ticks\":\"\",\"zerolinecolor\":\"white\",\"gridwidth\":2}},\"shapedefaults\":{\"line\":{\"color\":\"#2a3f5f\"}},\"annotationdefaults\":{\"arrowcolor\":\"#2a3f5f\",\"arrowhead\":0,\"arrowwidth\":1},\"geo\":{\"bgcolor\":\"white\",\"landcolor\":\"#E5ECF6\",\"subunitcolor\":\"white\",\"showland\":true,\"showlakes\":true,\"lakecolor\":\"white\"},\"title\":{\"x\":0.05},\"mapbox\":{\"style\":\"light\"}}},\"xaxis\":{\"anchor\":\"y\",\"domain\":[0.0,1.0],\"title\":{\"text\":\"Main Topic\"},\"type\":\"category\"},\"yaxis\":{\"anchor\":\"x\",\"domain\":[0.0,1.0],\"title\":{\"text\":\"Sentiment Score\"}},\"legend\":{\"tracegroupgap\":0,\"itemsizing\":\"constant\"},\"title\":{\"text\":\"Articles Sorted By Main Topic\"}},                        {\"responsive\": true}                    ).then(function(){\n",
       "                            \n",
       "var gd = document.getElementById('388f748a-3b2d-4b0a-93ae-d91be95ebb24');\n",
       "var x = new MutationObserver(function (mutations, observer) {{\n",
       "        var display = window.getComputedStyle(gd).display;\n",
       "        if (!display || display === 'none') {{\n",
       "            console.log([gd, 'removed!']);\n",
       "            Plotly.purge(gd);\n",
       "            observer.disconnect();\n",
       "        }}\n",
       "}});\n",
       "\n",
       "// Listen for the removal of the full notebook cells\n",
       "var notebookContainer = gd.closest('#notebook-container');\n",
       "if (notebookContainer) {{\n",
       "    x.observe(notebookContainer, {childList: true});\n",
       "}}\n",
       "\n",
       "// Listen for the clearing of the current output cell\n",
       "var outputEl = gd.closest('.output');\n",
       "if (outputEl) {{\n",
       "    x.observe(outputEl, {childList: true});\n",
       "}}\n",
       "\n",
       "                        })                };                });            </script>        </div>"
      ]
     },
     "metadata": {},
     "output_type": "display_data"
    }
   ],
   "source": [
    "df_main_topic['Shortened Address'] = df_main_topic['URL'].str.slice(0,35) #shorten the urls to make them easier to read in hover text\n",
    "\n",
    "df_main_topic = df_main_topic.sort_values('Main Topic') #sort df by main topic so it is in order in the graph.\n",
    "\n",
    "fig_w_topics = px.scatter(df_main_topic, x=\"Main Topic\", y=\"Sentiment Score\",\n",
    "                         size=\"Main Topic Score\", custom_data = ['Shortened Address', 'Sentiment Label', 'Main Topic Score'],\n",
    "                         title=\"Articles Sorted By Main Topic\")#creating a scatter plot with x, y, and color from our df. \n",
    "#The custom_data is what we will add to our hover text\n",
    "\n",
    "fig_w_topics.update_traces(hovertemplate=\"<br>\".join([\"Address: %{customdata[0]}\",\n",
    "                                                     \"Sentiment Label: %{customdata[1]}\",\n",
    "                                                     \"Main Topic Score :%{customdata[2]}\"])\n",
    "                          )#set the hover text to show whatwas in custom_data\n",
    "\n",
    "fig_w_topics.update_xaxes(type=\"category\")#turn into categorical not continuous data for the x-axis\n",
    "\n",
    "fig_w_topics.show()"
   ]
  },
  {
   "cell_type": "markdown",
   "id": "e2dceebf",
   "metadata": {},
   "source": [
    "# Generating Cluster Graph of Topics"
   ]
  },
  {
   "cell_type": "code",
   "execution_count": 63,
   "id": "235fbeca",
   "metadata": {},
   "outputs": [
    {
     "name": "stdout",
     "output_type": "stream",
     "text": [
      "[t-SNE] Computing 8 nearest neighbors...\n",
      "[t-SNE] Indexed 9 samples in 0.001s...\n",
      "[t-SNE] Computed neighbors for 9 samples in 0.003s...\n",
      "[t-SNE] Computed conditional probabilities for sample 9 / 9\n",
      "[t-SNE] Mean sigma: 0.003408\n",
      "[t-SNE] KL divergence after 250 iterations with early exaggeration: 55.348827\n",
      "[t-SNE] KL divergence after 850 iterations: 0.173666\n"
     ]
    },
    {
     "data": {
      "application/vnd.plotly.v1+json": {
       "config": {
        "plotlyServerURL": "https://plot.ly"
       },
       "data": [
        {
         "customdata": [
          [
           "https://www.foxnews.com/politics/hu",
           "Neutral",
           6
          ]
         ],
         "hovertemplate": "Address: %{customdata[0]}<br>Sentiment Label: %{customdata[1]}<br>Main Topic:%{customdata[2]}",
         "legendgroup": "#FFE4C4",
         "marker": {
          "color": "#636efa",
          "size": [
           0.9248484373092651
          ],
          "sizemode": "area",
          "sizeref": 0.002495785653591156,
          "symbol": "circle"
         },
         "mode": "markers",
         "name": "#FFE4C4",
         "orientation": "v",
         "showlegend": true,
         "type": "scatter",
         "x": [
          221.0430145263672
         ],
         "xaxis": "x",
         "y": [
          -52.12965393066406
         ],
         "yaxis": "y"
        },
        {
         "customdata": [
          [
           "https://www.foxnews.com/politics/do",
           "Neutral Positive",
           9
          ],
          [
           "https://apnews.com/article/hunter-b",
           "Neutral Negative",
           9
          ],
          [
           "https://www.nation.com.pk/21-Jun-20",
           "Neutral Negative",
           9
          ],
          [
           "https://www.cnn.com/2023/09/27/poli",
           "Neutral Negative",
           9
          ]
         ],
         "hovertemplate": "Address: %{customdata[0]}<br>Sentiment Label: %{customdata[1]}<br>Main Topic:%{customdata[2]}",
         "legendgroup": "#0000FF",
         "marker": {
          "color": "#EF553B",
          "size": [
           0.9979907274246216,
           0.9983142614364624,
           0.9944087862968445,
           0.9981741309165955
          ],
          "sizemode": "area",
          "sizeref": 0.002495785653591156,
          "symbol": "circle"
         },
         "mode": "markers",
         "name": "#0000FF",
         "orientation": "v",
         "showlegend": true,
         "type": "scatter",
         "x": [
          -68.23210906982422,
          -93.8314437866211,
          10.042577743530273,
          -135.96505737304688
         ],
         "xaxis": "x",
         "y": [
          -61.809329986572266,
          5.788254261016846,
          -54.13890838623047,
          -51.03115463256836
         ],
         "yaxis": "y"
        },
        {
         "customdata": [
          [
           "https://www.foxnews.com/politics/hu",
           "Neutral Negative",
           5
          ]
         ],
         "hovertemplate": "Address: %{customdata[0]}<br>Sentiment Label: %{customdata[1]}<br>Main Topic:%{customdata[2]}",
         "legendgroup": "#F5F5DC",
         "marker": {
          "color": "#00cc96",
          "size": [
           0.9975135326385498
          ],
          "sizemode": "area",
          "sizeref": 0.002495785653591156,
          "symbol": "circle"
         },
         "mode": "markers",
         "name": "#F5F5DC",
         "orientation": "v",
         "showlegend": true,
         "type": "scatter",
         "x": [
          153.2493438720703
         ],
         "xaxis": "x",
         "y": [
          -63.91788101196289
         ],
         "yaxis": "y"
        },
        {
         "customdata": [
          [
           "https://www.nation.com.pk/25-Jul-20",
           "Neutral Positive",
           8
          ]
         ],
         "hovertemplate": "Address: %{customdata[0]}<br>Sentiment Label: %{customdata[1]}<br>Main Topic:%{customdata[2]}",
         "legendgroup": "#FFEBCD",
         "marker": {
          "color": "#ab63fa",
          "size": [
           0.994117259979248
          ],
          "sizemode": "area",
          "sizeref": 0.002495785653591156,
          "symbol": "circle"
         },
         "mode": "markers",
         "name": "#FFEBCD",
         "orientation": "v",
         "showlegend": true,
         "type": "scatter",
         "x": [
          307.99078369140625
         ],
         "xaxis": "x",
         "y": [
          -42.835079193115234
         ],
         "yaxis": "y"
        },
        {
         "customdata": [
          [
           "https://www.nation.com.pk/24-Dec-20",
           "Negative",
           3
          ]
         ],
         "hovertemplate": "Address: %{customdata[0]}<br>Sentiment Label: %{customdata[1]}<br>Main Topic:%{customdata[2]}",
         "legendgroup": "#7FFFD4",
         "marker": {
          "color": "#FFA15A",
          "size": [
           0.9931814670562744
          ],
          "sizemode": "area",
          "sizeref": 0.002495785653591156,
          "symbol": "circle"
         },
         "mode": "markers",
         "name": "#7FFFD4",
         "orientation": "v",
         "showlegend": true,
         "type": "scatter",
         "x": [
          206.025634765625
         ],
         "xaxis": "x",
         "y": [
          40.709495544433594
         ],
         "yaxis": "y"
        },
        {
         "customdata": [
          [
           "https://abcnews.go.com/Politics/com",
           "Neutral Negative",
           2
          ]
         ],
         "hovertemplate": "Address: %{customdata[0]}<br>Sentiment Label: %{customdata[1]}<br>Main Topic:%{customdata[2]}",
         "legendgroup": "#00FFFF",
         "marker": {
          "color": "#19d3f3",
          "size": [
           0.9962181448936462
          ],
          "sizemode": "area",
          "sizeref": 0.002495785653591156,
          "symbol": "circle"
         },
         "mode": "markers",
         "name": "#00FFFF",
         "orientation": "v",
         "showlegend": true,
         "type": "scatter",
         "x": [
          233.1487274169922
         ],
         "xaxis": "x",
         "y": [
          -149.9208526611328
         ],
         "yaxis": "y"
        }
       ],
       "layout": {
        "legend": {
         "itemsizing": "constant",
         "title": {
          "text": "color"
         },
         "tracegroupgap": 0
        },
        "template": {
         "data": {
          "bar": [
           {
            "error_x": {
             "color": "#2a3f5f"
            },
            "error_y": {
             "color": "#2a3f5f"
            },
            "marker": {
             "line": {
              "color": "#E5ECF6",
              "width": 0.5
             },
             "pattern": {
              "fillmode": "overlay",
              "size": 10,
              "solidity": 0.2
             }
            },
            "type": "bar"
           }
          ],
          "barpolar": [
           {
            "marker": {
             "line": {
              "color": "#E5ECF6",
              "width": 0.5
             },
             "pattern": {
              "fillmode": "overlay",
              "size": 10,
              "solidity": 0.2
             }
            },
            "type": "barpolar"
           }
          ],
          "carpet": [
           {
            "aaxis": {
             "endlinecolor": "#2a3f5f",
             "gridcolor": "white",
             "linecolor": "white",
             "minorgridcolor": "white",
             "startlinecolor": "#2a3f5f"
            },
            "baxis": {
             "endlinecolor": "#2a3f5f",
             "gridcolor": "white",
             "linecolor": "white",
             "minorgridcolor": "white",
             "startlinecolor": "#2a3f5f"
            },
            "type": "carpet"
           }
          ],
          "choropleth": [
           {
            "colorbar": {
             "outlinewidth": 0,
             "ticks": ""
            },
            "type": "choropleth"
           }
          ],
          "contour": [
           {
            "colorbar": {
             "outlinewidth": 0,
             "ticks": ""
            },
            "colorscale": [
             [
              0,
              "#0d0887"
             ],
             [
              0.1111111111111111,
              "#46039f"
             ],
             [
              0.2222222222222222,
              "#7201a8"
             ],
             [
              0.3333333333333333,
              "#9c179e"
             ],
             [
              0.4444444444444444,
              "#bd3786"
             ],
             [
              0.5555555555555556,
              "#d8576b"
             ],
             [
              0.6666666666666666,
              "#ed7953"
             ],
             [
              0.7777777777777778,
              "#fb9f3a"
             ],
             [
              0.8888888888888888,
              "#fdca26"
             ],
             [
              1,
              "#f0f921"
             ]
            ],
            "type": "contour"
           }
          ],
          "contourcarpet": [
           {
            "colorbar": {
             "outlinewidth": 0,
             "ticks": ""
            },
            "type": "contourcarpet"
           }
          ],
          "heatmap": [
           {
            "colorbar": {
             "outlinewidth": 0,
             "ticks": ""
            },
            "colorscale": [
             [
              0,
              "#0d0887"
             ],
             [
              0.1111111111111111,
              "#46039f"
             ],
             [
              0.2222222222222222,
              "#7201a8"
             ],
             [
              0.3333333333333333,
              "#9c179e"
             ],
             [
              0.4444444444444444,
              "#bd3786"
             ],
             [
              0.5555555555555556,
              "#d8576b"
             ],
             [
              0.6666666666666666,
              "#ed7953"
             ],
             [
              0.7777777777777778,
              "#fb9f3a"
             ],
             [
              0.8888888888888888,
              "#fdca26"
             ],
             [
              1,
              "#f0f921"
             ]
            ],
            "type": "heatmap"
           }
          ],
          "heatmapgl": [
           {
            "colorbar": {
             "outlinewidth": 0,
             "ticks": ""
            },
            "colorscale": [
             [
              0,
              "#0d0887"
             ],
             [
              0.1111111111111111,
              "#46039f"
             ],
             [
              0.2222222222222222,
              "#7201a8"
             ],
             [
              0.3333333333333333,
              "#9c179e"
             ],
             [
              0.4444444444444444,
              "#bd3786"
             ],
             [
              0.5555555555555556,
              "#d8576b"
             ],
             [
              0.6666666666666666,
              "#ed7953"
             ],
             [
              0.7777777777777778,
              "#fb9f3a"
             ],
             [
              0.8888888888888888,
              "#fdca26"
             ],
             [
              1,
              "#f0f921"
             ]
            ],
            "type": "heatmapgl"
           }
          ],
          "histogram": [
           {
            "marker": {
             "pattern": {
              "fillmode": "overlay",
              "size": 10,
              "solidity": 0.2
             }
            },
            "type": "histogram"
           }
          ],
          "histogram2d": [
           {
            "colorbar": {
             "outlinewidth": 0,
             "ticks": ""
            },
            "colorscale": [
             [
              0,
              "#0d0887"
             ],
             [
              0.1111111111111111,
              "#46039f"
             ],
             [
              0.2222222222222222,
              "#7201a8"
             ],
             [
              0.3333333333333333,
              "#9c179e"
             ],
             [
              0.4444444444444444,
              "#bd3786"
             ],
             [
              0.5555555555555556,
              "#d8576b"
             ],
             [
              0.6666666666666666,
              "#ed7953"
             ],
             [
              0.7777777777777778,
              "#fb9f3a"
             ],
             [
              0.8888888888888888,
              "#fdca26"
             ],
             [
              1,
              "#f0f921"
             ]
            ],
            "type": "histogram2d"
           }
          ],
          "histogram2dcontour": [
           {
            "colorbar": {
             "outlinewidth": 0,
             "ticks": ""
            },
            "colorscale": [
             [
              0,
              "#0d0887"
             ],
             [
              0.1111111111111111,
              "#46039f"
             ],
             [
              0.2222222222222222,
              "#7201a8"
             ],
             [
              0.3333333333333333,
              "#9c179e"
             ],
             [
              0.4444444444444444,
              "#bd3786"
             ],
             [
              0.5555555555555556,
              "#d8576b"
             ],
             [
              0.6666666666666666,
              "#ed7953"
             ],
             [
              0.7777777777777778,
              "#fb9f3a"
             ],
             [
              0.8888888888888888,
              "#fdca26"
             ],
             [
              1,
              "#f0f921"
             ]
            ],
            "type": "histogram2dcontour"
           }
          ],
          "mesh3d": [
           {
            "colorbar": {
             "outlinewidth": 0,
             "ticks": ""
            },
            "type": "mesh3d"
           }
          ],
          "parcoords": [
           {
            "line": {
             "colorbar": {
              "outlinewidth": 0,
              "ticks": ""
             }
            },
            "type": "parcoords"
           }
          ],
          "pie": [
           {
            "automargin": true,
            "type": "pie"
           }
          ],
          "scatter": [
           {
            "fillpattern": {
             "fillmode": "overlay",
             "size": 10,
             "solidity": 0.2
            },
            "type": "scatter"
           }
          ],
          "scatter3d": [
           {
            "line": {
             "colorbar": {
              "outlinewidth": 0,
              "ticks": ""
             }
            },
            "marker": {
             "colorbar": {
              "outlinewidth": 0,
              "ticks": ""
             }
            },
            "type": "scatter3d"
           }
          ],
          "scattercarpet": [
           {
            "marker": {
             "colorbar": {
              "outlinewidth": 0,
              "ticks": ""
             }
            },
            "type": "scattercarpet"
           }
          ],
          "scattergeo": [
           {
            "marker": {
             "colorbar": {
              "outlinewidth": 0,
              "ticks": ""
             }
            },
            "type": "scattergeo"
           }
          ],
          "scattergl": [
           {
            "marker": {
             "colorbar": {
              "outlinewidth": 0,
              "ticks": ""
             }
            },
            "type": "scattergl"
           }
          ],
          "scattermapbox": [
           {
            "marker": {
             "colorbar": {
              "outlinewidth": 0,
              "ticks": ""
             }
            },
            "type": "scattermapbox"
           }
          ],
          "scatterpolar": [
           {
            "marker": {
             "colorbar": {
              "outlinewidth": 0,
              "ticks": ""
             }
            },
            "type": "scatterpolar"
           }
          ],
          "scatterpolargl": [
           {
            "marker": {
             "colorbar": {
              "outlinewidth": 0,
              "ticks": ""
             }
            },
            "type": "scatterpolargl"
           }
          ],
          "scatterternary": [
           {
            "marker": {
             "colorbar": {
              "outlinewidth": 0,
              "ticks": ""
             }
            },
            "type": "scatterternary"
           }
          ],
          "surface": [
           {
            "colorbar": {
             "outlinewidth": 0,
             "ticks": ""
            },
            "colorscale": [
             [
              0,
              "#0d0887"
             ],
             [
              0.1111111111111111,
              "#46039f"
             ],
             [
              0.2222222222222222,
              "#7201a8"
             ],
             [
              0.3333333333333333,
              "#9c179e"
             ],
             [
              0.4444444444444444,
              "#bd3786"
             ],
             [
              0.5555555555555556,
              "#d8576b"
             ],
             [
              0.6666666666666666,
              "#ed7953"
             ],
             [
              0.7777777777777778,
              "#fb9f3a"
             ],
             [
              0.8888888888888888,
              "#fdca26"
             ],
             [
              1,
              "#f0f921"
             ]
            ],
            "type": "surface"
           }
          ],
          "table": [
           {
            "cells": {
             "fill": {
              "color": "#EBF0F8"
             },
             "line": {
              "color": "white"
             }
            },
            "header": {
             "fill": {
              "color": "#C8D4E3"
             },
             "line": {
              "color": "white"
             }
            },
            "type": "table"
           }
          ]
         },
         "layout": {
          "annotationdefaults": {
           "arrowcolor": "#2a3f5f",
           "arrowhead": 0,
           "arrowwidth": 1
          },
          "autotypenumbers": "strict",
          "coloraxis": {
           "colorbar": {
            "outlinewidth": 0,
            "ticks": ""
           }
          },
          "colorscale": {
           "diverging": [
            [
             0,
             "#8e0152"
            ],
            [
             0.1,
             "#c51b7d"
            ],
            [
             0.2,
             "#de77ae"
            ],
            [
             0.3,
             "#f1b6da"
            ],
            [
             0.4,
             "#fde0ef"
            ],
            [
             0.5,
             "#f7f7f7"
            ],
            [
             0.6,
             "#e6f5d0"
            ],
            [
             0.7,
             "#b8e186"
            ],
            [
             0.8,
             "#7fbc41"
            ],
            [
             0.9,
             "#4d9221"
            ],
            [
             1,
             "#276419"
            ]
           ],
           "sequential": [
            [
             0,
             "#0d0887"
            ],
            [
             0.1111111111111111,
             "#46039f"
            ],
            [
             0.2222222222222222,
             "#7201a8"
            ],
            [
             0.3333333333333333,
             "#9c179e"
            ],
            [
             0.4444444444444444,
             "#bd3786"
            ],
            [
             0.5555555555555556,
             "#d8576b"
            ],
            [
             0.6666666666666666,
             "#ed7953"
            ],
            [
             0.7777777777777778,
             "#fb9f3a"
            ],
            [
             0.8888888888888888,
             "#fdca26"
            ],
            [
             1,
             "#f0f921"
            ]
           ],
           "sequentialminus": [
            [
             0,
             "#0d0887"
            ],
            [
             0.1111111111111111,
             "#46039f"
            ],
            [
             0.2222222222222222,
             "#7201a8"
            ],
            [
             0.3333333333333333,
             "#9c179e"
            ],
            [
             0.4444444444444444,
             "#bd3786"
            ],
            [
             0.5555555555555556,
             "#d8576b"
            ],
            [
             0.6666666666666666,
             "#ed7953"
            ],
            [
             0.7777777777777778,
             "#fb9f3a"
            ],
            [
             0.8888888888888888,
             "#fdca26"
            ],
            [
             1,
             "#f0f921"
            ]
           ]
          },
          "colorway": [
           "#636efa",
           "#EF553B",
           "#00cc96",
           "#ab63fa",
           "#FFA15A",
           "#19d3f3",
           "#FF6692",
           "#B6E880",
           "#FF97FF",
           "#FECB52"
          ],
          "font": {
           "color": "#2a3f5f"
          },
          "geo": {
           "bgcolor": "white",
           "lakecolor": "white",
           "landcolor": "#E5ECF6",
           "showlakes": true,
           "showland": true,
           "subunitcolor": "white"
          },
          "hoverlabel": {
           "align": "left"
          },
          "hovermode": "closest",
          "mapbox": {
           "style": "light"
          },
          "paper_bgcolor": "white",
          "plot_bgcolor": "#E5ECF6",
          "polar": {
           "angularaxis": {
            "gridcolor": "white",
            "linecolor": "white",
            "ticks": ""
           },
           "bgcolor": "#E5ECF6",
           "radialaxis": {
            "gridcolor": "white",
            "linecolor": "white",
            "ticks": ""
           }
          },
          "scene": {
           "xaxis": {
            "backgroundcolor": "#E5ECF6",
            "gridcolor": "white",
            "gridwidth": 2,
            "linecolor": "white",
            "showbackground": true,
            "ticks": "",
            "zerolinecolor": "white"
           },
           "yaxis": {
            "backgroundcolor": "#E5ECF6",
            "gridcolor": "white",
            "gridwidth": 2,
            "linecolor": "white",
            "showbackground": true,
            "ticks": "",
            "zerolinecolor": "white"
           },
           "zaxis": {
            "backgroundcolor": "#E5ECF6",
            "gridcolor": "white",
            "gridwidth": 2,
            "linecolor": "white",
            "showbackground": true,
            "ticks": "",
            "zerolinecolor": "white"
           }
          },
          "shapedefaults": {
           "line": {
            "color": "#2a3f5f"
           }
          },
          "ternary": {
           "aaxis": {
            "gridcolor": "white",
            "linecolor": "white",
            "ticks": ""
           },
           "baxis": {
            "gridcolor": "white",
            "linecolor": "white",
            "ticks": ""
           },
           "bgcolor": "#E5ECF6",
           "caxis": {
            "gridcolor": "white",
            "linecolor": "white",
            "ticks": ""
           }
          },
          "title": {
           "x": 0.05
          },
          "xaxis": {
           "automargin": true,
           "gridcolor": "white",
           "linecolor": "white",
           "ticks": "",
           "title": {
            "standoff": 15
           },
           "zerolinecolor": "white",
           "zerolinewidth": 2
          },
          "yaxis": {
           "automargin": true,
           "gridcolor": "white",
           "linecolor": "white",
           "ticks": "",
           "title": {
            "standoff": 15
           },
           "zerolinecolor": "white",
           "zerolinewidth": 2
          }
         }
        },
        "title": {
         "text": "Topic Clustering Graph"
        },
        "xaxis": {
         "anchor": "y",
         "domain": [
          0,
          1
         ],
         "title": {
          "text": "x"
         }
        },
        "yaxis": {
         "anchor": "x",
         "domain": [
          0,
          1
         ],
         "title": {
          "text": "y"
         }
        }
       }
      },
      "text/html": [
       "<div>                            <div id=\"0076627f-68ed-4963-9085-4ba7f503fd4e\" class=\"plotly-graph-div\" style=\"height:525px; width:100%;\"></div>            <script type=\"text/javascript\">                require([\"plotly\"], function(Plotly) {                    window.PLOTLYENV=window.PLOTLYENV || {};                                    if (document.getElementById(\"0076627f-68ed-4963-9085-4ba7f503fd4e\")) {                    Plotly.newPlot(                        \"0076627f-68ed-4963-9085-4ba7f503fd4e\",                        [{\"customdata\":[[\"https:\\u002f\\u002fwww.foxnews.com\\u002fpolitics\\u002fhu\",\"Neutral\",6]],\"hovertemplate\":\"Address: %{customdata[0]}\\u003cbr\\u003eSentiment Label: %{customdata[1]}\\u003cbr\\u003eMain Topic:%{customdata[2]}\",\"legendgroup\":\"#FFE4C4\",\"marker\":{\"color\":\"#636efa\",\"size\":[0.9248484373092651],\"sizemode\":\"area\",\"sizeref\":0.002495785653591156,\"symbol\":\"circle\"},\"mode\":\"markers\",\"name\":\"#FFE4C4\",\"orientation\":\"v\",\"showlegend\":true,\"x\":[221.0430145263672],\"xaxis\":\"x\",\"y\":[-52.12965393066406],\"yaxis\":\"y\",\"type\":\"scatter\"},{\"customdata\":[[\"https:\\u002f\\u002fwww.foxnews.com\\u002fpolitics\\u002fdo\",\"Neutral Positive\",9],[\"https:\\u002f\\u002fapnews.com\\u002farticle\\u002fhunter-b\",\"Neutral Negative\",9],[\"https:\\u002f\\u002fwww.nation.com.pk\\u002f21-Jun-20\",\"Neutral Negative\",9],[\"https:\\u002f\\u002fwww.cnn.com\\u002f2023\\u002f09\\u002f27\\u002fpoli\",\"Neutral Negative\",9]],\"hovertemplate\":\"Address: %{customdata[0]}\\u003cbr\\u003eSentiment Label: %{customdata[1]}\\u003cbr\\u003eMain Topic:%{customdata[2]}\",\"legendgroup\":\"#0000FF\",\"marker\":{\"color\":\"#EF553B\",\"size\":[0.9979907274246216,0.9983142614364624,0.9944087862968445,0.9981741309165955],\"sizemode\":\"area\",\"sizeref\":0.002495785653591156,\"symbol\":\"circle\"},\"mode\":\"markers\",\"name\":\"#0000FF\",\"orientation\":\"v\",\"showlegend\":true,\"x\":[-68.23210906982422,-93.8314437866211,10.042577743530273,-135.96505737304688],\"xaxis\":\"x\",\"y\":[-61.809329986572266,5.788254261016846,-54.13890838623047,-51.03115463256836],\"yaxis\":\"y\",\"type\":\"scatter\"},{\"customdata\":[[\"https:\\u002f\\u002fwww.foxnews.com\\u002fpolitics\\u002fhu\",\"Neutral Negative\",5]],\"hovertemplate\":\"Address: %{customdata[0]}\\u003cbr\\u003eSentiment Label: %{customdata[1]}\\u003cbr\\u003eMain Topic:%{customdata[2]}\",\"legendgroup\":\"#F5F5DC\",\"marker\":{\"color\":\"#00cc96\",\"size\":[0.9975135326385498],\"sizemode\":\"area\",\"sizeref\":0.002495785653591156,\"symbol\":\"circle\"},\"mode\":\"markers\",\"name\":\"#F5F5DC\",\"orientation\":\"v\",\"showlegend\":true,\"x\":[153.2493438720703],\"xaxis\":\"x\",\"y\":[-63.91788101196289],\"yaxis\":\"y\",\"type\":\"scatter\"},{\"customdata\":[[\"https:\\u002f\\u002fwww.nation.com.pk\\u002f25-Jul-20\",\"Neutral Positive\",8]],\"hovertemplate\":\"Address: %{customdata[0]}\\u003cbr\\u003eSentiment Label: %{customdata[1]}\\u003cbr\\u003eMain Topic:%{customdata[2]}\",\"legendgroup\":\"#FFEBCD\",\"marker\":{\"color\":\"#ab63fa\",\"size\":[0.994117259979248],\"sizemode\":\"area\",\"sizeref\":0.002495785653591156,\"symbol\":\"circle\"},\"mode\":\"markers\",\"name\":\"#FFEBCD\",\"orientation\":\"v\",\"showlegend\":true,\"x\":[307.99078369140625],\"xaxis\":\"x\",\"y\":[-42.835079193115234],\"yaxis\":\"y\",\"type\":\"scatter\"},{\"customdata\":[[\"https:\\u002f\\u002fwww.nation.com.pk\\u002f24-Dec-20\",\"Negative\",3]],\"hovertemplate\":\"Address: %{customdata[0]}\\u003cbr\\u003eSentiment Label: %{customdata[1]}\\u003cbr\\u003eMain Topic:%{customdata[2]}\",\"legendgroup\":\"#7FFFD4\",\"marker\":{\"color\":\"#FFA15A\",\"size\":[0.9931814670562744],\"sizemode\":\"area\",\"sizeref\":0.002495785653591156,\"symbol\":\"circle\"},\"mode\":\"markers\",\"name\":\"#7FFFD4\",\"orientation\":\"v\",\"showlegend\":true,\"x\":[206.025634765625],\"xaxis\":\"x\",\"y\":[40.709495544433594],\"yaxis\":\"y\",\"type\":\"scatter\"},{\"customdata\":[[\"https:\\u002f\\u002fabcnews.go.com\\u002fPolitics\\u002fcom\",\"Neutral Negative\",2]],\"hovertemplate\":\"Address: %{customdata[0]}\\u003cbr\\u003eSentiment Label: %{customdata[1]}\\u003cbr\\u003eMain Topic:%{customdata[2]}\",\"legendgroup\":\"#00FFFF\",\"marker\":{\"color\":\"#19d3f3\",\"size\":[0.9962181448936462],\"sizemode\":\"area\",\"sizeref\":0.002495785653591156,\"symbol\":\"circle\"},\"mode\":\"markers\",\"name\":\"#00FFFF\",\"orientation\":\"v\",\"showlegend\":true,\"x\":[233.1487274169922],\"xaxis\":\"x\",\"y\":[-149.9208526611328],\"yaxis\":\"y\",\"type\":\"scatter\"}],                        {\"template\":{\"data\":{\"histogram2dcontour\":[{\"type\":\"histogram2dcontour\",\"colorbar\":{\"outlinewidth\":0,\"ticks\":\"\"},\"colorscale\":[[0.0,\"#0d0887\"],[0.1111111111111111,\"#46039f\"],[0.2222222222222222,\"#7201a8\"],[0.3333333333333333,\"#9c179e\"],[0.4444444444444444,\"#bd3786\"],[0.5555555555555556,\"#d8576b\"],[0.6666666666666666,\"#ed7953\"],[0.7777777777777778,\"#fb9f3a\"],[0.8888888888888888,\"#fdca26\"],[1.0,\"#f0f921\"]]}],\"choropleth\":[{\"type\":\"choropleth\",\"colorbar\":{\"outlinewidth\":0,\"ticks\":\"\"}}],\"histogram2d\":[{\"type\":\"histogram2d\",\"colorbar\":{\"outlinewidth\":0,\"ticks\":\"\"},\"colorscale\":[[0.0,\"#0d0887\"],[0.1111111111111111,\"#46039f\"],[0.2222222222222222,\"#7201a8\"],[0.3333333333333333,\"#9c179e\"],[0.4444444444444444,\"#bd3786\"],[0.5555555555555556,\"#d8576b\"],[0.6666666666666666,\"#ed7953\"],[0.7777777777777778,\"#fb9f3a\"],[0.8888888888888888,\"#fdca26\"],[1.0,\"#f0f921\"]]}],\"heatmap\":[{\"type\":\"heatmap\",\"colorbar\":{\"outlinewidth\":0,\"ticks\":\"\"},\"colorscale\":[[0.0,\"#0d0887\"],[0.1111111111111111,\"#46039f\"],[0.2222222222222222,\"#7201a8\"],[0.3333333333333333,\"#9c179e\"],[0.4444444444444444,\"#bd3786\"],[0.5555555555555556,\"#d8576b\"],[0.6666666666666666,\"#ed7953\"],[0.7777777777777778,\"#fb9f3a\"],[0.8888888888888888,\"#fdca26\"],[1.0,\"#f0f921\"]]}],\"heatmapgl\":[{\"type\":\"heatmapgl\",\"colorbar\":{\"outlinewidth\":0,\"ticks\":\"\"},\"colorscale\":[[0.0,\"#0d0887\"],[0.1111111111111111,\"#46039f\"],[0.2222222222222222,\"#7201a8\"],[0.3333333333333333,\"#9c179e\"],[0.4444444444444444,\"#bd3786\"],[0.5555555555555556,\"#d8576b\"],[0.6666666666666666,\"#ed7953\"],[0.7777777777777778,\"#fb9f3a\"],[0.8888888888888888,\"#fdca26\"],[1.0,\"#f0f921\"]]}],\"contourcarpet\":[{\"type\":\"contourcarpet\",\"colorbar\":{\"outlinewidth\":0,\"ticks\":\"\"}}],\"contour\":[{\"type\":\"contour\",\"colorbar\":{\"outlinewidth\":0,\"ticks\":\"\"},\"colorscale\":[[0.0,\"#0d0887\"],[0.1111111111111111,\"#46039f\"],[0.2222222222222222,\"#7201a8\"],[0.3333333333333333,\"#9c179e\"],[0.4444444444444444,\"#bd3786\"],[0.5555555555555556,\"#d8576b\"],[0.6666666666666666,\"#ed7953\"],[0.7777777777777778,\"#fb9f3a\"],[0.8888888888888888,\"#fdca26\"],[1.0,\"#f0f921\"]]}],\"surface\":[{\"type\":\"surface\",\"colorbar\":{\"outlinewidth\":0,\"ticks\":\"\"},\"colorscale\":[[0.0,\"#0d0887\"],[0.1111111111111111,\"#46039f\"],[0.2222222222222222,\"#7201a8\"],[0.3333333333333333,\"#9c179e\"],[0.4444444444444444,\"#bd3786\"],[0.5555555555555556,\"#d8576b\"],[0.6666666666666666,\"#ed7953\"],[0.7777777777777778,\"#fb9f3a\"],[0.8888888888888888,\"#fdca26\"],[1.0,\"#f0f921\"]]}],\"mesh3d\":[{\"type\":\"mesh3d\",\"colorbar\":{\"outlinewidth\":0,\"ticks\":\"\"}}],\"scatter\":[{\"fillpattern\":{\"fillmode\":\"overlay\",\"size\":10,\"solidity\":0.2},\"type\":\"scatter\"}],\"parcoords\":[{\"type\":\"parcoords\",\"line\":{\"colorbar\":{\"outlinewidth\":0,\"ticks\":\"\"}}}],\"scatterpolargl\":[{\"type\":\"scatterpolargl\",\"marker\":{\"colorbar\":{\"outlinewidth\":0,\"ticks\":\"\"}}}],\"bar\":[{\"error_x\":{\"color\":\"#2a3f5f\"},\"error_y\":{\"color\":\"#2a3f5f\"},\"marker\":{\"line\":{\"color\":\"#E5ECF6\",\"width\":0.5},\"pattern\":{\"fillmode\":\"overlay\",\"size\":10,\"solidity\":0.2}},\"type\":\"bar\"}],\"scattergeo\":[{\"type\":\"scattergeo\",\"marker\":{\"colorbar\":{\"outlinewidth\":0,\"ticks\":\"\"}}}],\"scatterpolar\":[{\"type\":\"scatterpolar\",\"marker\":{\"colorbar\":{\"outlinewidth\":0,\"ticks\":\"\"}}}],\"histogram\":[{\"marker\":{\"pattern\":{\"fillmode\":\"overlay\",\"size\":10,\"solidity\":0.2}},\"type\":\"histogram\"}],\"scattergl\":[{\"type\":\"scattergl\",\"marker\":{\"colorbar\":{\"outlinewidth\":0,\"ticks\":\"\"}}}],\"scatter3d\":[{\"type\":\"scatter3d\",\"line\":{\"colorbar\":{\"outlinewidth\":0,\"ticks\":\"\"}},\"marker\":{\"colorbar\":{\"outlinewidth\":0,\"ticks\":\"\"}}}],\"scattermapbox\":[{\"type\":\"scattermapbox\",\"marker\":{\"colorbar\":{\"outlinewidth\":0,\"ticks\":\"\"}}}],\"scatterternary\":[{\"type\":\"scatterternary\",\"marker\":{\"colorbar\":{\"outlinewidth\":0,\"ticks\":\"\"}}}],\"scattercarpet\":[{\"type\":\"scattercarpet\",\"marker\":{\"colorbar\":{\"outlinewidth\":0,\"ticks\":\"\"}}}],\"carpet\":[{\"aaxis\":{\"endlinecolor\":\"#2a3f5f\",\"gridcolor\":\"white\",\"linecolor\":\"white\",\"minorgridcolor\":\"white\",\"startlinecolor\":\"#2a3f5f\"},\"baxis\":{\"endlinecolor\":\"#2a3f5f\",\"gridcolor\":\"white\",\"linecolor\":\"white\",\"minorgridcolor\":\"white\",\"startlinecolor\":\"#2a3f5f\"},\"type\":\"carpet\"}],\"table\":[{\"cells\":{\"fill\":{\"color\":\"#EBF0F8\"},\"line\":{\"color\":\"white\"}},\"header\":{\"fill\":{\"color\":\"#C8D4E3\"},\"line\":{\"color\":\"white\"}},\"type\":\"table\"}],\"barpolar\":[{\"marker\":{\"line\":{\"color\":\"#E5ECF6\",\"width\":0.5},\"pattern\":{\"fillmode\":\"overlay\",\"size\":10,\"solidity\":0.2}},\"type\":\"barpolar\"}],\"pie\":[{\"automargin\":true,\"type\":\"pie\"}]},\"layout\":{\"autotypenumbers\":\"strict\",\"colorway\":[\"#636efa\",\"#EF553B\",\"#00cc96\",\"#ab63fa\",\"#FFA15A\",\"#19d3f3\",\"#FF6692\",\"#B6E880\",\"#FF97FF\",\"#FECB52\"],\"font\":{\"color\":\"#2a3f5f\"},\"hovermode\":\"closest\",\"hoverlabel\":{\"align\":\"left\"},\"paper_bgcolor\":\"white\",\"plot_bgcolor\":\"#E5ECF6\",\"polar\":{\"bgcolor\":\"#E5ECF6\",\"angularaxis\":{\"gridcolor\":\"white\",\"linecolor\":\"white\",\"ticks\":\"\"},\"radialaxis\":{\"gridcolor\":\"white\",\"linecolor\":\"white\",\"ticks\":\"\"}},\"ternary\":{\"bgcolor\":\"#E5ECF6\",\"aaxis\":{\"gridcolor\":\"white\",\"linecolor\":\"white\",\"ticks\":\"\"},\"baxis\":{\"gridcolor\":\"white\",\"linecolor\":\"white\",\"ticks\":\"\"},\"caxis\":{\"gridcolor\":\"white\",\"linecolor\":\"white\",\"ticks\":\"\"}},\"coloraxis\":{\"colorbar\":{\"outlinewidth\":0,\"ticks\":\"\"}},\"colorscale\":{\"sequential\":[[0.0,\"#0d0887\"],[0.1111111111111111,\"#46039f\"],[0.2222222222222222,\"#7201a8\"],[0.3333333333333333,\"#9c179e\"],[0.4444444444444444,\"#bd3786\"],[0.5555555555555556,\"#d8576b\"],[0.6666666666666666,\"#ed7953\"],[0.7777777777777778,\"#fb9f3a\"],[0.8888888888888888,\"#fdca26\"],[1.0,\"#f0f921\"]],\"sequentialminus\":[[0.0,\"#0d0887\"],[0.1111111111111111,\"#46039f\"],[0.2222222222222222,\"#7201a8\"],[0.3333333333333333,\"#9c179e\"],[0.4444444444444444,\"#bd3786\"],[0.5555555555555556,\"#d8576b\"],[0.6666666666666666,\"#ed7953\"],[0.7777777777777778,\"#fb9f3a\"],[0.8888888888888888,\"#fdca26\"],[1.0,\"#f0f921\"]],\"diverging\":[[0,\"#8e0152\"],[0.1,\"#c51b7d\"],[0.2,\"#de77ae\"],[0.3,\"#f1b6da\"],[0.4,\"#fde0ef\"],[0.5,\"#f7f7f7\"],[0.6,\"#e6f5d0\"],[0.7,\"#b8e186\"],[0.8,\"#7fbc41\"],[0.9,\"#4d9221\"],[1,\"#276419\"]]},\"xaxis\":{\"gridcolor\":\"white\",\"linecolor\":\"white\",\"ticks\":\"\",\"title\":{\"standoff\":15},\"zerolinecolor\":\"white\",\"automargin\":true,\"zerolinewidth\":2},\"yaxis\":{\"gridcolor\":\"white\",\"linecolor\":\"white\",\"ticks\":\"\",\"title\":{\"standoff\":15},\"zerolinecolor\":\"white\",\"automargin\":true,\"zerolinewidth\":2},\"scene\":{\"xaxis\":{\"backgroundcolor\":\"#E5ECF6\",\"gridcolor\":\"white\",\"linecolor\":\"white\",\"showbackground\":true,\"ticks\":\"\",\"zerolinecolor\":\"white\",\"gridwidth\":2},\"yaxis\":{\"backgroundcolor\":\"#E5ECF6\",\"gridcolor\":\"white\",\"linecolor\":\"white\",\"showbackground\":true,\"ticks\":\"\",\"zerolinecolor\":\"white\",\"gridwidth\":2},\"zaxis\":{\"backgroundcolor\":\"#E5ECF6\",\"gridcolor\":\"white\",\"linecolor\":\"white\",\"showbackground\":true,\"ticks\":\"\",\"zerolinecolor\":\"white\",\"gridwidth\":2}},\"shapedefaults\":{\"line\":{\"color\":\"#2a3f5f\"}},\"annotationdefaults\":{\"arrowcolor\":\"#2a3f5f\",\"arrowhead\":0,\"arrowwidth\":1},\"geo\":{\"bgcolor\":\"white\",\"landcolor\":\"#E5ECF6\",\"subunitcolor\":\"white\",\"showland\":true,\"showlakes\":true,\"lakecolor\":\"white\"},\"title\":{\"x\":0.05},\"mapbox\":{\"style\":\"light\"}}},\"xaxis\":{\"anchor\":\"y\",\"domain\":[0.0,1.0],\"title\":{\"text\":\"x\"}},\"yaxis\":{\"anchor\":\"x\",\"domain\":[0.0,1.0],\"title\":{\"text\":\"y\"}},\"legend\":{\"title\":{\"text\":\"color\"},\"tracegroupgap\":0,\"itemsizing\":\"constant\"},\"title\":{\"text\":\"Topic Clustering Graph\"}},                        {\"responsive\": true}                    ).then(function(){\n",
       "                            \n",
       "var gd = document.getElementById('0076627f-68ed-4963-9085-4ba7f503fd4e');\n",
       "var x = new MutationObserver(function (mutations, observer) {{\n",
       "        var display = window.getComputedStyle(gd).display;\n",
       "        if (!display || display === 'none') {{\n",
       "            console.log([gd, 'removed!']);\n",
       "            Plotly.purge(gd);\n",
       "            observer.disconnect();\n",
       "        }}\n",
       "}});\n",
       "\n",
       "// Listen for the removal of the full notebook cells\n",
       "var notebookContainer = gd.closest('#notebook-container');\n",
       "if (notebookContainer) {{\n",
       "    x.observe(notebookContainer, {childList: true});\n",
       "}}\n",
       "\n",
       "// Listen for the clearing of the current output cell\n",
       "var outputEl = gd.closest('.output');\n",
       "if (outputEl) {{\n",
       "    x.observe(outputEl, {childList: true});\n",
       "}}\n",
       "\n",
       "                        })                };                });            </script>        </div>"
      ]
     },
     "metadata": {},
     "output_type": "display_data"
    }
   ],
   "source": [
    "num_topics = len(LDA_model_topics)\n",
    "\n",
    "#print(num_topics)\n",
    "\n",
    "#Get Topic Weights\n",
    "topic_weights = []\n",
    "for i in df[\"Topics\"]:\n",
    "    per_doc_list = [None] * num_topics\n",
    "    #print(len(per_doc_list))\n",
    "    for x in i:\n",
    "        #print(x)\n",
    "        per_doc_list[x[0]] = x[1]\n",
    "    topic_weights.append(per_doc_list)\n",
    "\n",
    "# Array of topic weights    \n",
    "arr = pd.DataFrame(topic_weights).fillna(0).to_numpy()\n",
    "\n",
    "# Dominant topic number in each doc\n",
    "topic_num = np.argmax(arr, axis=1)\n",
    "\n",
    "#print(arr)\n",
    "\n",
    "# tSNE Model Creation\n",
    "tsne_model = TSNE(n_components=2, verbose=1, \n",
    "                  random_state=0, angle=.99, \n",
    "                  init='pca', perplexity = (arr.shape[0] - 1) / 3)\n",
    "tsne_lda = tsne_model.fit_transform(arr)\n",
    "\n",
    "#Color palette for the clusters\n",
    "mycolors = np.array([color for name, color in mcolors.CSS4_COLORS.items()])\n",
    "\n",
    "\n",
    "#creating the cluster graph in plotly\n",
    "fig_cluster = px.scatter(df, x = tsne_lda[:,0],y = tsne_lda[:,1],\n",
    "                        custom_data = ['Shortened Address', 'Sentiment Label', 'Main Topic'],\n",
    "                        color = mycolors[topic_num],\n",
    "                        size = \"Main Topic Score\",\n",
    "                        title = \"Topic Clustering Graph\")\n",
    "\n",
    "fig_cluster.update_traces(hovertemplate=\"<br>\".join([\"Address: %{customdata[0]}\",\n",
    "                                                     \"Sentiment Label: %{customdata[1]}\",\n",
    "                                                     \"Main Topic:%{customdata[2]}\"])\n",
    "                          )#set the hover text to show whatwas in custom_data\n",
    "\n",
    "\n",
    "\n",
    "fig_cluster.show()"
   ]
  },
  {
   "cell_type": "code",
   "execution_count": null,
   "id": "8cb3e81c",
   "metadata": {},
   "outputs": [],
   "source": []
  }
 ],
 "metadata": {
  "kernelspec": {
   "display_name": "Python 3 (ipykernel)",
   "language": "python",
   "name": "python3"
  },
  "language_info": {
   "codemirror_mode": {
    "name": "ipython",
    "version": 3
   },
   "file_extension": ".py",
   "mimetype": "text/x-python",
   "name": "python",
   "nbconvert_exporter": "python",
   "pygments_lexer": "ipython3",
   "version": "3.11.2"
  }
 },
 "nbformat": 4,
 "nbformat_minor": 5
}
