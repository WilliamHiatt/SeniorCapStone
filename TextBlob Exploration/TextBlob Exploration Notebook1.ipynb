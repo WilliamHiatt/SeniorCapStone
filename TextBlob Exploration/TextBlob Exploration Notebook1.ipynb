{
 "cells": [
  {
   "cell_type": "code",
   "execution_count": 1,
   "id": "b74505a3",
   "metadata": {
    "scrolled": true
   },
   "outputs": [
    {
     "name": "stdout",
     "output_type": "stream",
     "text": [
      "Requirement already satisfied: textblob in c:\\users\\gabri\\appdata\\local\\programs\\python\\python311\\lib\\site-packages (0.17.1)Note: you may need to restart the kernel to use updated packages.\n",
      "\n",
      "Requirement already satisfied: nltk>=3.1 in c:\\users\\gabri\\appdata\\local\\programs\\python\\python311\\lib\\site-packages (from textblob) (3.8.1)\n",
      "Requirement already satisfied: click in c:\\users\\gabri\\appdata\\local\\programs\\python\\python311\\lib\\site-packages (from nltk>=3.1->textblob) (8.1.3)\n",
      "Requirement already satisfied: joblib in c:\\users\\gabri\\appdata\\local\\programs\\python\\python311\\lib\\site-packages (from nltk>=3.1->textblob) (1.2.0)\n",
      "Requirement already satisfied: regex>=2021.8.3 in c:\\users\\gabri\\appdata\\local\\programs\\python\\python311\\lib\\site-packages (from nltk>=3.1->textblob) (2022.10.31)\n",
      "Requirement already satisfied: tqdm in c:\\users\\gabri\\appdata\\local\\programs\\python\\python311\\lib\\site-packages (from nltk>=3.1->textblob) (4.64.1)\n",
      "Requirement already satisfied: colorama in c:\\users\\gabri\\appdata\\local\\programs\\python\\python311\\lib\\site-packages (from click->nltk>=3.1->textblob) (0.4.6)\n"
     ]
    },
    {
     "name": "stderr",
     "output_type": "stream",
     "text": [
      "\n",
      "[notice] A new release of pip available: 22.3.1 -> 23.0.1\n",
      "[notice] To update, run: python.exe -m pip install --upgrade pip\n"
     ]
    }
   ],
   "source": [
    "pip install textblob"
   ]
  },
  {
   "cell_type": "code",
   "execution_count": 2,
   "id": "433dc1f4",
   "metadata": {},
   "outputs": [],
   "source": [
    "from textblob import TextBlob\n",
    "from textblob.classifiers import NaiveBayesClassifier\n",
    "from textblob.sentiments import PatternAnalyzer\n",
    "import json\n",
    "import os"
   ]
  },
  {
   "cell_type": "code",
   "execution_count": 9,
   "id": "bc548543",
   "metadata": {},
   "outputs": [],
   "source": [
    "train = [\n",
    "     ('I love this sandwich.', 'pos'),\n",
    "     ('this is an amazing place!', 'pos'),\n",
    "     ('I feel very good about these beers.', 'pos'),\n",
    "     ('this is my best work.', 'pos'),\n",
    "     (\"what an awesome view\", 'pos'),\n",
    "     ('I do not like this restaurant', 'neg'),\n",
    "     ('I am tired of this stuff.', 'neg'),\n",
    "     (\"I can't deal with this\", 'neg'),\n",
    "     ('he is my sworn enemy!', 'neg'),\n",
    "     ('my boss is horrible.', 'neg')\n",
    " ]\n",
    "test = [\n",
    "     ('the beer was good.', 'pos'),\n",
    "     ('I do not enjoy my job', 'neg'),\n",
    "     (\"I ain't feeling dandy today.\", 'neg'),\n",
    "     (\"I feel amazing!\", 'pos'),\n",
    "     ('Gary is a friend of mine.', 'pos'),\n",
    "     (\"I can't believe I'm doing this.\", 'neg')\n",
    " ]"
   ]
  },
  {
   "cell_type": "code",
   "execution_count": 10,
   "id": "39ff2296",
   "metadata": {},
   "outputs": [],
   "source": [
    "#Polarity score and subjectivity score of a sentence\n",
    "#return the sentiment score(positive to negative) and\n",
    "#the subjectivity score (1 is opinion, 0 is fact)\n",
    "def sentiment_analysis(sentence):\n",
    "    def get_subjectivity(text):\n",
    "        return TextBlob(text).sentiment.subjectivity\n",
    "    \n",
    "    def get_polarity(text):\n",
    "        return TextBlob(text).sentiment.polarity\n",
    "    \n",
    "    sub = get_subjectivity(sentence)\n",
    "    pol = get_polarity(sentence)\n",
    "    return [pol,sub]\n",
    "\n",
    "#classify the sentiment value into positive, neutral, and negative\n",
    "def sentiment_classify(sentence):\n",
    "    score = sentiment_analysis(sentence)\n",
    "    if score[0] > 0:\n",
    "        return \"pos\"\n",
    "    elif score[0] < 0:\n",
    "        return \"neg\"\n",
    "    else:\n",
    "        return \"neu\"\n",
    "\n",
    "#compare results of data using textblob sentiment compared to correct annotations\n",
    "def compare(data, annotations): #compares how many we correctly classify\n",
    "    num_correct = 0\n",
    "    total = 0\n",
    "    sentence_list = []\n",
    "    for i in data['body-paragraphs']:\n",
    "        for j in i:\n",
    "            sentence_list.append(j)\n",
    "    for phrase in annotations[\"phrase-level-annotations\"]:\n",
    "        if(phrase[\"id\"] == \"title\"):#line below is where we input our model\n",
    "            if (sentiment_classify(data[\"title\"]) == phrase[\"polarity\"]):\n",
    "                num_correct += 1\n",
    "            total += 1\n",
    "        else:\n",
    "            sentence_id = int(phrase[\"id\"][1:])\n",
    "            if (sentiment_classify(sentence_list[sentence_id]) == phrase[\"polarity\"]):\n",
    "                num_correct += 1\n",
    "            total += 1\n",
    "    return total, num_correct\n"
   ]
  },
  {
   "cell_type": "code",
   "execution_count": 11,
   "id": "a3f11fff",
   "metadata": {},
   "outputs": [],
   "source": [
    "def tokenize_words(text):\n",
    "    return TextBlob(text).words\n",
    "\n",
    "#sentences and TextBlobs are equivalent in properties/methods\n",
    "def tokenize_sentences(text):\n",
    "    return TextBlob(text).sentences\n",
    "\n",
    "def parse_text(text):\n",
    "    return TextBlob(text).parse()\n",
    "\n",
    "def end_word_extractor(document):\n",
    "     tokens = document.split()\n",
    "     first_word, last_word = tokens[0], tokens[-1]\n",
    "     feats = {}\n",
    "     feats[\"first({0})\".format(first_word)] = True\n",
    "     feats[\"last({0})\".format(last_word)] = False\n",
    "     return feats"
   ]
  },
  {
   "cell_type": "code",
   "execution_count": 12,
   "id": "d214d048",
   "metadata": {},
   "outputs": [
    {
     "name": "stdout",
     "output_type": "stream",
     "text": [
      "classifier1 sent1: neg\n",
      "classifier2 sent1: neg\n",
      "classifier1 sent2: pos\n",
      "classifier2 sent2: pos\n",
      "classifier1 sent3: neg\n",
      "classifier2 sent3: pos\n"
     ]
    }
   ],
   "source": [
    "###START OF TESTING CODE\n",
    "#naive bayes classifier\n",
    "classifier1 = NaiveBayesClassifier(train)\n",
    "classifier2 = NaiveBayesClassifier(train, feature_extractor=end_word_extractor)\n",
    "\n",
    "test_sent1 = \"I hate the things that Trump has done over the years.\"\n",
    "test_sent2 = \"In an Epic Battle of Tanks, Russia Was Routed, Repeating Earlier Mistakes\"\n",
    "test_sent3 = \"Ukraine war live updates: Russian mercenary boss says ‘fierce resistance’ seen in Bakhmut; Kyiv says its fighters are under ‘insane pressure’\"\n",
    "\n",
    "\n",
    "print(\"classifier1 sent1: \" + classifier1.classify(test_sent1)) #pos,neutral,neg based on training data\n",
    "print(\"classifier2 sent1: \" + classifier2.classify(test_sent1)) #classify with added feature extractor\n",
    "\n",
    "print(\"classifier1 sent2: \" +classifier1.classify(test_sent2))\n",
    "print(\"classifier2 sent2: \" +classifier2.classify(test_sent2))\n",
    "\n",
    "print(\"classifier1 sent3: \" +classifier1.classify(test_sent3))\n",
    "print(\"classifier2 sent3: \" +classifier2.classify(test_sent3))\n"
   ]
  },
  {
   "cell_type": "code",
   "execution_count": 13,
   "id": "8f1f9337",
   "metadata": {},
   "outputs": [
    {
     "name": "stdout",
     "output_type": "stream",
     "text": [
      "[('Python', 'NNP'), ('is', 'VBZ'), ('a', 'DT'), ('high-level', 'JJ'), ('general-purpose', 'JJ'), ('programming', 'NN'), ('language', 'NN')]\n",
      "[-0.8, 0.9]\n",
      "[0.05, 0.45]\n",
      "[-0.2878787878787879, 0.5]\n"
     ]
    }
   ],
   "source": [
    "wiki = TextBlob(\"Python is a high-level, general-purpose programming language.\")\n",
    "print(wiki.tags)\n",
    "\n",
    "print(sentiment_analysis(test_sent1))\n",
    "print(sentiment_analysis(test_sent2))\n",
    "print(sentiment_analysis(test_sent3))\n"
   ]
  },
  {
   "cell_type": "code",
   "execution_count": 14,
   "id": "256d4d37",
   "metadata": {},
   "outputs": [
    {
     "name": "stdout",
     "output_type": "stream",
     "text": [
      "TextBlob sentiment on BASIL correct: 592.000 , BASIL total: 1726.000\n",
      "TextBlob sentiment on BASIL ACCURACY: 0.3430\n"
     ]
    }
   ],
   "source": [
    "file_list = []\n",
    "\n",
    "#open BASIL dataset and gather the articles w/o scores\n",
    "for i in range(10):\n",
    "    file_i = os.listdir(\"BASILdata/articles/201\" + str(i))\n",
    "    for file_name in file_i:\n",
    "        file = open(\"BASILdata/articles/201\" + str(i) + \"/\" + file_name, encoding=\"utf8\")\n",
    "        json_file = json.load(file)\n",
    "        file_list.append(json_file)\n",
    "        \n",
    "annotation_file_list = []\n",
    "#open BASIL dataset and gather annotations for articles\n",
    "for i in range(10):\n",
    "    file_i = os.listdir(\"BASILdata/annotations/201\" + str(i))\n",
    "    for file_name in file_i:\n",
    "        file = open(\"BASILdata/annotations/201\" + str(i) + \"/\" + file_name, encoding=\"utf8\")\n",
    "        json_file = json.load(file)\n",
    "        annotation_file_list.append(json_file)\n",
    "\n",
    "total_correct = 0\n",
    "total = 0\n",
    "#compare correct annotations to the results from our model\n",
    "for i in range(len(file_list)):\n",
    "    data = file_list[i]\n",
    "    annotations = annotation_file_list[i]\n",
    "    a, b = compare(data, annotations)\n",
    "    total += a\n",
    "    total_correct += b\n",
    "    \n",
    "accuracy = total_correct/total\n",
    "print(\"TextBlob sentiment on BASIL correct: %.3f , BASIL total: %.3f\" %(total_correct, total))\n",
    "print(\"TextBlob sentiment on BASIL ACCURACY: %.4f\" % accuracy)"
   ]
  },
  {
   "cell_type": "code",
   "execution_count": null,
   "id": "2fcb946b",
   "metadata": {},
   "outputs": [],
   "source": []
  },
  {
   "cell_type": "code",
   "execution_count": null,
   "id": "d66c8035",
   "metadata": {},
   "outputs": [],
   "source": []
  }
 ],
 "metadata": {
  "kernelspec": {
   "display_name": "Python 3 (ipykernel)",
   "language": "python",
   "name": "python3"
  },
  "language_info": {
   "codemirror_mode": {
    "name": "ipython",
    "version": 3
   },
   "file_extension": ".py",
   "mimetype": "text/x-python",
   "name": "python",
   "nbconvert_exporter": "python",
   "pygments_lexer": "ipython3",
   "version": "3.11.2"
  }
 },
 "nbformat": 4,
 "nbformat_minor": 5
}
