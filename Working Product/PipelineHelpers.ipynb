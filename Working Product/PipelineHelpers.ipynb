{
 "cells": [
  {
   "cell_type": "markdown",
   "id": "85efb529",
   "metadata": {},
   "source": [
    "# Helper Functions For the Pipeline"
   ]
  },
  {
   "cell_type": "code",
   "execution_count": 3,
   "id": "754363de",
   "metadata": {},
   "outputs": [],
   "source": [
    "def dictionary_to_data_frame(dictionary):\n",
    "    \"\"\"\n",
    "    Taking in a general dictionary, returns a dataframe of that dictionary.\n",
    "    \"\"\"\n",
    "    return pd.DataFrame(dictionary)\n"
   ]
  },
  {
   "cell_type": "code",
   "execution_count": 4,
   "id": "401cfac7",
   "metadata": {},
   "outputs": [],
   "source": [
    "def drop_failed_webscraping_rows(dataframe):\n",
    "    \"\"\"\n",
    "    Taking in the generated main dataframe from our pipeline, drops any rows \n",
    "    that failed the webscraping (our webscraping function returns 'PARERROR' \n",
    "    for the Sentiment Label if we fail to webscrape an article). Returns the\n",
    "    cleaned dataframe.\n",
    "    \"\"\"\n",
    "    return dataframe.drop(dataframe[dataframe['Sentiment Label'].str.contains(\"PARERROR\") ].index)\n"
   ]
  }
 ],
 "metadata": {
  "kernelspec": {
   "display_name": "434hw",
   "language": "python",
   "name": "434hw"
  },
  "language_info": {
   "codemirror_mode": {
    "name": "ipython",
    "version": 3
   },
   "file_extension": ".py",
   "mimetype": "text/x-python",
   "name": "python",
   "nbconvert_exporter": "python",
   "pygments_lexer": "ipython3",
   "version": "3.10.4"
  }
 },
 "nbformat": 4,
 "nbformat_minor": 5
}
