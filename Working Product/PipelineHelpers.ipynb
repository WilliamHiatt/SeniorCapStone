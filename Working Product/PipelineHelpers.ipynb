{
 "cells": [
  {
   "cell_type": "markdown",
   "id": "85efb529",
   "metadata": {},
   "source": [
    "# Helper Functions For the Pipeline"
   ]
  },
  {
   "cell_type": "code",
   "execution_count": 1,
   "id": "af009b39",
   "metadata": {},
   "outputs": [],
   "source": [
    "\"\"\"\n",
    "This is a generalized function for running sentiment analysis on our pipeline. Feel free to use it as a template for\n",
    "swapping out sentiment analysis tools.\n",
    "\"\"\"\n",
    "def functionName(text, dictionary, url):\n",
    "    # This function needs to return a dictionary for what values you want in the\n",
    "    # dataframe. For example if we want our columns to be \"sentiment score\" \n",
    "    # and \"positive or negative\" we would return \n",
    "    # {'sentiment score': 'score', 'positive or negative': 'positive'}\n",
    "    if(len(dictionary) == 0):\n",
    "        dictionary = null # define dicitonary based on above\n",
    "    if(text[0:7] != 'PARERROR'):\n",
    "        # Run analysis here\n",
    "        pass\n",
    "    else:\n",
    "        # Throws this if there was some sort of error in the web scraping\n",
    "        # Append the text to whereever the \"outcome\" would be appended\n",
    "        # For example for sentiment analysis, instead of appending a sentiment score\n",
    "        # Append the error\n",
    "        pass\n",
    "    return dictionary"
   ]
  },
  {
   "cell_type": "code",
   "execution_count": 2,
   "id": "2f1a9fff",
   "metadata": {},
   "outputs": [],
   "source": [
    "# import spacy\n",
    "# from spacytextblob.spacytextblob import SpacyTextBlob\n",
    "# import pandas as pd\n",
    "# import requests\n",
    "# from newspaper import Article\n",
    "# import numpy as np\n"
   ]
  },
  {
   "cell_type": "code",
   "execution_count": 3,
   "id": "754363de",
   "metadata": {},
   "outputs": [],
   "source": [
    "\"\"\"\n",
    "Taking in a general dictionary, returns a dataframe of that dictionary.\n",
    "\"\"\"\n",
    "# Converts the dictionary to a data frame\n",
    "def dictionaryToDataFrame(dictionary):\n",
    "    return pd.DataFrame(dictionary)\n",
    "        "
   ]
  },
  {
   "cell_type": "code",
   "execution_count": 4,
   "id": "401cfac7",
   "metadata": {},
   "outputs": [],
   "source": [
    "\"\"\"\n",
    "Taking in the generated main dataframe from our pipeline, drops any rows that failed the webscraping (our webscraping \n",
    "function returns 'PARERROR' for the Sentiment Label if we fail to webscrape an article). Returns the cleaned dataframe.\n",
    "\"\"\"\n",
    "#returns a dataframe where the rows containing failed webscraping are dropped\n",
    "def drop_failed_webscraping_rows(dataframe):\n",
    "    return dataframe.drop(dataframe[dataframe['Sentiment Label'].str.contains(\"PARERROR\") ].index)"
   ]
  }
 ],
 "metadata": {
  "kernelspec": {
   "display_name": "Python 3 (ipykernel)",
   "language": "python",
   "name": "python3"
  },
  "language_info": {
   "codemirror_mode": {
    "name": "ipython",
    "version": 3
   },
   "file_extension": ".py",
   "mimetype": "text/x-python",
   "name": "python",
   "nbconvert_exporter": "python",
   "pygments_lexer": "ipython3",
   "version": "3.11.2"
  }
 },
 "nbformat": 4,
 "nbformat_minor": 5
}
