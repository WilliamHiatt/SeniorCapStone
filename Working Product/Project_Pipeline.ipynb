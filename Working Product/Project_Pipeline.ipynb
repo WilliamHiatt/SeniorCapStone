{
 "cells": [
  {
   "cell_type": "markdown",
   "id": "c9dccd1a",
   "metadata": {},
   "source": [
    "# Latent News Probability Model"
   ]
  },
  {
   "cell_type": "markdown",
   "id": "01049288",
   "metadata": {},
   "source": [
    "Directly below contains the pip installs that are required for this project. If you run this code and still don't have the required packages, you may need to add a `!pip install [library_name]` into this code block. This does not need to be run every time the model is used.\n",
    "\n",
    "IMPORTANT: If you are running this for the first time you may need to download these packages before continuing:"
   ]
  },
  {
   "cell_type": "code",
   "execution_count": 1,
   "id": "15ba699a",
   "metadata": {},
   "outputs": [
    {
     "name": "stdout",
     "output_type": "stream",
     "text": [
      "Requirement already satisfied: pandas in c:\\users\\seaha\\anaconda3\\envs\\434hw\\lib\\site-packages (2.1.1)\n",
      "Requirement already satisfied: numpy>=1.22.4 in c:\\users\\seaha\\anaconda3\\envs\\434hw\\lib\\site-packages (from pandas) (1.26.0)\n",
      "Requirement already satisfied: tzdata>=2022.1 in c:\\users\\seaha\\anaconda3\\envs\\434hw\\lib\\site-packages (from pandas) (2023.3)\n",
      "Requirement already satisfied: pytz>=2020.1 in c:\\users\\seaha\\anaconda3\\envs\\434hw\\lib\\site-packages (from pandas) (2022.7.1)\n",
      "Requirement already satisfied: python-dateutil>=2.8.2 in c:\\users\\seaha\\anaconda3\\envs\\434hw\\lib\\site-packages (from pandas) (2.8.2)\n",
      "Requirement already satisfied: six>=1.5 in c:\\users\\seaha\\anaconda3\\envs\\434hw\\lib\\site-packages (from python-dateutil>=2.8.2->pandas) (1.16.0)\n",
      "Requirement already satisfied: spacy in c:\\users\\seaha\\anaconda3\\envs\\434hw\\lib\\site-packages (3.2.0)\n",
      "Requirement already satisfied: preshed<3.1.0,>=3.0.2 in c:\\users\\seaha\\anaconda3\\envs\\434hw\\lib\\site-packages (from spacy) (3.0.6)\n",
      "Requirement already satisfied: thinc<8.1.0,>=8.0.12 in c:\\users\\seaha\\anaconda3\\envs\\434hw\\lib\\site-packages (from spacy) (8.0.15)\n",
      "Requirement already satisfied: srsly<3.0.0,>=2.4.1 in c:\\users\\seaha\\anaconda3\\envs\\434hw\\lib\\site-packages (from spacy) (2.4.3)\n",
      "Requirement already satisfied: wasabi<1.1.0,>=0.8.1 in c:\\users\\seaha\\anaconda3\\envs\\434hw\\lib\\site-packages (from spacy) (0.10.1)\n",
      "Requirement already satisfied: requests<3.0.0,>=2.13.0 in c:\\users\\seaha\\anaconda3\\envs\\434hw\\lib\\site-packages (from spacy) (2.28.1)\n",
      "Requirement already satisfied: numpy>=1.15.0 in c:\\users\\seaha\\anaconda3\\envs\\434hw\\lib\\site-packages (from spacy) (1.26.0)\n",
      "Requirement already satisfied: packaging>=20.0 in c:\\users\\seaha\\anaconda3\\envs\\434hw\\lib\\site-packages (from spacy) (22.0)\n",
      "Requirement already satisfied: pydantic!=1.8,!=1.8.1,<1.9.0,>=1.7.4 in c:\\users\\seaha\\anaconda3\\envs\\434hw\\lib\\site-packages (from spacy) (1.8.2)\n",
      "Requirement already satisfied: spacy-loggers<2.0.0,>=1.0.0 in c:\\users\\seaha\\anaconda3\\envs\\434hw\\lib\\site-packages (from spacy) (1.0.4)\n",
      "Requirement already satisfied: pathy>=0.3.5 in c:\\users\\seaha\\anaconda3\\envs\\434hw\\lib\\site-packages (from spacy) (0.10.1)\n",
      "Requirement already satisfied: blis<0.8.0,>=0.4.0 in c:\\users\\seaha\\anaconda3\\envs\\434hw\\lib\\site-packages (from spacy) (0.7.7)\n",
      "Requirement already satisfied: spacy-legacy<3.1.0,>=3.0.8 in c:\\users\\seaha\\anaconda3\\envs\\434hw\\lib\\site-packages (from spacy) (3.0.12)\n",
      "Requirement already satisfied: typer<0.5.0,>=0.3.0 in c:\\users\\seaha\\anaconda3\\envs\\434hw\\lib\\site-packages (from spacy) (0.4.2)\n",
      "Requirement already satisfied: langcodes<4.0.0,>=3.2.0 in c:\\users\\seaha\\anaconda3\\envs\\434hw\\lib\\site-packages (from spacy) (3.3.0)\n",
      "Requirement already satisfied: murmurhash<1.1.0,>=0.28.0 in c:\\users\\seaha\\anaconda3\\envs\\434hw\\lib\\site-packages (from spacy) (1.0.7)\n",
      "Requirement already satisfied: jinja2 in c:\\users\\seaha\\anaconda3\\envs\\434hw\\lib\\site-packages (from spacy) (3.1.2)\n",
      "Requirement already satisfied: setuptools in c:\\users\\seaha\\anaconda3\\envs\\434hw\\lib\\site-packages (from spacy) (61.2.0)\n",
      "Requirement already satisfied: catalogue<2.1.0,>=2.0.6 in c:\\users\\seaha\\anaconda3\\envs\\434hw\\lib\\site-packages (from spacy) (2.0.8)\n",
      "Requirement already satisfied: tqdm<5.0.0,>=4.38.0 in c:\\users\\seaha\\anaconda3\\envs\\434hw\\lib\\site-packages (from spacy) (4.64.1)\n",
      "Requirement already satisfied: cymem<2.1.0,>=2.0.2 in c:\\users\\seaha\\anaconda3\\envs\\434hw\\lib\\site-packages (from spacy) (2.0.6)\n",
      "Requirement already satisfied: smart-open<7.0.0,>=5.2.1 in c:\\users\\seaha\\anaconda3\\envs\\434hw\\lib\\site-packages (from pathy>=0.3.5->spacy) (5.2.1)\n",
      "Requirement already satisfied: typing-extensions>=3.7.4.3 in c:\\users\\seaha\\anaconda3\\envs\\434hw\\lib\\site-packages (from pydantic!=1.8,!=1.8.1,<1.9.0,>=1.7.4->spacy) (4.4.0)\n",
      "Requirement already satisfied: urllib3<1.27,>=1.21.1 in c:\\users\\seaha\\anaconda3\\envs\\434hw\\lib\\site-packages (from requests<3.0.0,>=2.13.0->spacy) (1.26.14)\n",
      "Requirement already satisfied: certifi>=2017.4.17 in c:\\users\\seaha\\anaconda3\\envs\\434hw\\lib\\site-packages (from requests<3.0.0,>=2.13.0->spacy) (2022.12.7)\n",
      "Requirement already satisfied: charset-normalizer<3,>=2 in c:\\users\\seaha\\anaconda3\\envs\\434hw\\lib\\site-packages (from requests<3.0.0,>=2.13.0->spacy) (2.0.4)\n",
      "Requirement already satisfied: idna<4,>=2.5 in c:\\users\\seaha\\anaconda3\\envs\\434hw\\lib\\site-packages (from requests<3.0.0,>=2.13.0->spacy) (3.4)\n",
      "Requirement already satisfied: colorama in c:\\users\\seaha\\anaconda3\\envs\\434hw\\lib\\site-packages (from tqdm<5.0.0,>=4.38.0->spacy) (0.4.4)\n",
      "Requirement already satisfied: click<9.0.0,>=7.1.1 in c:\\users\\seaha\\anaconda3\\envs\\434hw\\lib\\site-packages (from typer<0.5.0,>=0.3.0->spacy) (8.0.4)\n",
      "Requirement already satisfied: MarkupSafe>=2.0 in c:\\users\\seaha\\anaconda3\\envs\\434hw\\lib\\site-packages (from jinja2->spacy) (2.1.1)\n",
      "Requirement already satisfied: spacytextblob in c:\\users\\seaha\\anaconda3\\envs\\434hw\\lib\\site-packages (4.0.0)\n",
      "Requirement already satisfied: spacy<4.0,>=3.0 in c:\\users\\seaha\\anaconda3\\envs\\434hw\\lib\\site-packages (from spacytextblob) (3.2.0)\n",
      "Requirement already satisfied: textblob<0.16.0,>=0.15.3 in c:\\users\\seaha\\anaconda3\\envs\\434hw\\lib\\site-packages (from spacytextblob) (0.15.3)\n",
      "Requirement already satisfied: spacy-legacy<3.1.0,>=3.0.8 in c:\\users\\seaha\\anaconda3\\envs\\434hw\\lib\\site-packages (from spacy<4.0,>=3.0->spacytextblob) (3.0.12)\n",
      "Requirement already satisfied: wasabi<1.1.0,>=0.8.1 in c:\\users\\seaha\\anaconda3\\envs\\434hw\\lib\\site-packages (from spacy<4.0,>=3.0->spacytextblob) (0.10.1)\n",
      "Requirement already satisfied: cymem<2.1.0,>=2.0.2 in c:\\users\\seaha\\anaconda3\\envs\\434hw\\lib\\site-packages (from spacy<4.0,>=3.0->spacytextblob) (2.0.6)\n",
      "Requirement already satisfied: srsly<3.0.0,>=2.4.1 in c:\\users\\seaha\\anaconda3\\envs\\434hw\\lib\\site-packages (from spacy<4.0,>=3.0->spacytextblob) (2.4.3)\n",
      "Requirement already satisfied: tqdm<5.0.0,>=4.38.0 in c:\\users\\seaha\\anaconda3\\envs\\434hw\\lib\\site-packages (from spacy<4.0,>=3.0->spacytextblob) (4.64.1)\n",
      "Requirement already satisfied: packaging>=20.0 in c:\\users\\seaha\\anaconda3\\envs\\434hw\\lib\\site-packages (from spacy<4.0,>=3.0->spacytextblob) (22.0)\n",
      "Requirement already satisfied: langcodes<4.0.0,>=3.2.0 in c:\\users\\seaha\\anaconda3\\envs\\434hw\\lib\\site-packages (from spacy<4.0,>=3.0->spacytextblob) (3.3.0)\n",
      "Requirement already satisfied: pathy>=0.3.5 in c:\\users\\seaha\\anaconda3\\envs\\434hw\\lib\\site-packages (from spacy<4.0,>=3.0->spacytextblob) (0.10.1)\n",
      "Requirement already satisfied: preshed<3.1.0,>=3.0.2 in c:\\users\\seaha\\anaconda3\\envs\\434hw\\lib\\site-packages (from spacy<4.0,>=3.0->spacytextblob) (3.0.6)\n",
      "Requirement already satisfied: catalogue<2.1.0,>=2.0.6 in c:\\users\\seaha\\anaconda3\\envs\\434hw\\lib\\site-packages (from spacy<4.0,>=3.0->spacytextblob) (2.0.8)\n",
      "Requirement already satisfied: numpy>=1.15.0 in c:\\users\\seaha\\anaconda3\\envs\\434hw\\lib\\site-packages (from spacy<4.0,>=3.0->spacytextblob) (1.26.0)\n",
      "Requirement already satisfied: jinja2 in c:\\users\\seaha\\anaconda3\\envs\\434hw\\lib\\site-packages (from spacy<4.0,>=3.0->spacytextblob) (3.1.2)\n",
      "Requirement already satisfied: spacy-loggers<2.0.0,>=1.0.0 in c:\\users\\seaha\\anaconda3\\envs\\434hw\\lib\\site-packages (from spacy<4.0,>=3.0->spacytextblob) (1.0.4)\n",
      "Requirement already satisfied: setuptools in c:\\users\\seaha\\anaconda3\\envs\\434hw\\lib\\site-packages (from spacy<4.0,>=3.0->spacytextblob) (61.2.0)\n",
      "Requirement already satisfied: typer<0.5.0,>=0.3.0 in c:\\users\\seaha\\anaconda3\\envs\\434hw\\lib\\site-packages (from spacy<4.0,>=3.0->spacytextblob) (0.4.2)\n",
      "Requirement already satisfied: murmurhash<1.1.0,>=0.28.0 in c:\\users\\seaha\\anaconda3\\envs\\434hw\\lib\\site-packages (from spacy<4.0,>=3.0->spacytextblob) (1.0.7)\n",
      "Requirement already satisfied: blis<0.8.0,>=0.4.0 in c:\\users\\seaha\\anaconda3\\envs\\434hw\\lib\\site-packages (from spacy<4.0,>=3.0->spacytextblob) (0.7.7)\n",
      "Requirement already satisfied: requests<3.0.0,>=2.13.0 in c:\\users\\seaha\\anaconda3\\envs\\434hw\\lib\\site-packages (from spacy<4.0,>=3.0->spacytextblob) (2.28.1)\n",
      "Requirement already satisfied: thinc<8.1.0,>=8.0.12 in c:\\users\\seaha\\anaconda3\\envs\\434hw\\lib\\site-packages (from spacy<4.0,>=3.0->spacytextblob) (8.0.15)\n",
      "Requirement already satisfied: pydantic!=1.8,!=1.8.1,<1.9.0,>=1.7.4 in c:\\users\\seaha\\anaconda3\\envs\\434hw\\lib\\site-packages (from spacy<4.0,>=3.0->spacytextblob) (1.8.2)\n",
      "Requirement already satisfied: smart-open<7.0.0,>=5.2.1 in c:\\users\\seaha\\anaconda3\\envs\\434hw\\lib\\site-packages (from pathy>=0.3.5->spacy<4.0,>=3.0->spacytextblob) (5.2.1)\n",
      "Requirement already satisfied: typing-extensions>=3.7.4.3 in c:\\users\\seaha\\anaconda3\\envs\\434hw\\lib\\site-packages (from pydantic!=1.8,!=1.8.1,<1.9.0,>=1.7.4->spacy<4.0,>=3.0->spacytextblob) (4.4.0)\n",
      "Requirement already satisfied: certifi>=2017.4.17 in c:\\users\\seaha\\anaconda3\\envs\\434hw\\lib\\site-packages (from requests<3.0.0,>=2.13.0->spacy<4.0,>=3.0->spacytextblob) (2022.12.7)\n",
      "Requirement already satisfied: idna<4,>=2.5 in c:\\users\\seaha\\anaconda3\\envs\\434hw\\lib\\site-packages (from requests<3.0.0,>=2.13.0->spacy<4.0,>=3.0->spacytextblob) (3.4)\n",
      "Requirement already satisfied: urllib3<1.27,>=1.21.1 in c:\\users\\seaha\\anaconda3\\envs\\434hw\\lib\\site-packages (from requests<3.0.0,>=2.13.0->spacy<4.0,>=3.0->spacytextblob) (1.26.14)\n",
      "Requirement already satisfied: charset-normalizer<3,>=2 in c:\\users\\seaha\\anaconda3\\envs\\434hw\\lib\\site-packages (from requests<3.0.0,>=2.13.0->spacy<4.0,>=3.0->spacytextblob) (2.0.4)\n",
      "Requirement already satisfied: nltk>=3.1 in c:\\users\\seaha\\anaconda3\\envs\\434hw\\lib\\site-packages (from textblob<0.16.0,>=0.15.3->spacytextblob) (3.8.1)\n",
      "Requirement already satisfied: click in c:\\users\\seaha\\anaconda3\\envs\\434hw\\lib\\site-packages (from nltk>=3.1->textblob<0.16.0,>=0.15.3->spacytextblob) (8.0.4)\n",
      "Requirement already satisfied: joblib in c:\\users\\seaha\\anaconda3\\envs\\434hw\\lib\\site-packages (from nltk>=3.1->textblob<0.16.0,>=0.15.3->spacytextblob) (1.2.0)\n",
      "Requirement already satisfied: regex>=2021.8.3 in c:\\users\\seaha\\anaconda3\\envs\\434hw\\lib\\site-packages (from nltk>=3.1->textblob<0.16.0,>=0.15.3->spacytextblob) (2022.10.31)\n",
      "Requirement already satisfied: colorama in c:\\users\\seaha\\anaconda3\\envs\\434hw\\lib\\site-packages (from tqdm<5.0.0,>=4.38.0->spacy<4.0,>=3.0->spacytextblob) (0.4.4)\n",
      "Requirement already satisfied: MarkupSafe>=2.0 in c:\\users\\seaha\\anaconda3\\envs\\434hw\\lib\\site-packages (from jinja2->spacy<4.0,>=3.0->spacytextblob) (2.1.1)\n",
      "Collecting en-core-web-sm==3.2.0\n",
      "  Downloading https://github.com/explosion/spacy-models/releases/download/en_core_web_sm-3.2.0/en_core_web_sm-3.2.0-py3-none-any.whl (13.9 MB)\n",
      "Requirement already satisfied: spacy<3.3.0,>=3.2.0 in c:\\users\\seaha\\anaconda3\\envs\\434hw\\lib\\site-packages (from en-core-web-sm==3.2.0) (3.2.0)\n",
      "Requirement already satisfied: spacy-legacy<3.1.0,>=3.0.8 in c:\\users\\seaha\\anaconda3\\envs\\434hw\\lib\\site-packages (from spacy<3.3.0,>=3.2.0->en-core-web-sm==3.2.0) (3.0.12)\n",
      "Requirement already satisfied: requests<3.0.0,>=2.13.0 in c:\\users\\seaha\\anaconda3\\envs\\434hw\\lib\\site-packages (from spacy<3.3.0,>=3.2.0->en-core-web-sm==3.2.0) (2.28.1)\n",
      "Requirement already satisfied: catalogue<2.1.0,>=2.0.6 in c:\\users\\seaha\\anaconda3\\envs\\434hw\\lib\\site-packages (from spacy<3.3.0,>=3.2.0->en-core-web-sm==3.2.0) (2.0.8)\n",
      "Requirement already satisfied: cymem<2.1.0,>=2.0.2 in c:\\users\\seaha\\anaconda3\\envs\\434hw\\lib\\site-packages (from spacy<3.3.0,>=3.2.0->en-core-web-sm==3.2.0) (2.0.6)\n",
      "Requirement already satisfied: thinc<8.1.0,>=8.0.12 in c:\\users\\seaha\\anaconda3\\envs\\434hw\\lib\\site-packages (from spacy<3.3.0,>=3.2.0->en-core-web-sm==3.2.0) (8.0.15)\n",
      "Requirement already satisfied: packaging>=20.0 in c:\\users\\seaha\\anaconda3\\envs\\434hw\\lib\\site-packages (from spacy<3.3.0,>=3.2.0->en-core-web-sm==3.2.0) (22.0)\n",
      "Requirement already satisfied: blis<0.8.0,>=0.4.0 in c:\\users\\seaha\\anaconda3\\envs\\434hw\\lib\\site-packages (from spacy<3.3.0,>=3.2.0->en-core-web-sm==3.2.0) (0.7.7)\n",
      "Requirement already satisfied: wasabi<1.1.0,>=0.8.1 in c:\\users\\seaha\\anaconda3\\envs\\434hw\\lib\\site-packages (from spacy<3.3.0,>=3.2.0->en-core-web-sm==3.2.0) (0.10.1)\n",
      "Requirement already satisfied: langcodes<4.0.0,>=3.2.0 in c:\\users\\seaha\\anaconda3\\envs\\434hw\\lib\\site-packages (from spacy<3.3.0,>=3.2.0->en-core-web-sm==3.2.0) (3.3.0)\n",
      "Requirement already satisfied: jinja2 in c:\\users\\seaha\\anaconda3\\envs\\434hw\\lib\\site-packages (from spacy<3.3.0,>=3.2.0->en-core-web-sm==3.2.0) (3.1.2)\n",
      "Requirement already satisfied: spacy-loggers<2.0.0,>=1.0.0 in c:\\users\\seaha\\anaconda3\\envs\\434hw\\lib\\site-packages (from spacy<3.3.0,>=3.2.0->en-core-web-sm==3.2.0) (1.0.4)\n",
      "Requirement already satisfied: typer<0.5.0,>=0.3.0 in c:\\users\\seaha\\anaconda3\\envs\\434hw\\lib\\site-packages (from spacy<3.3.0,>=3.2.0->en-core-web-sm==3.2.0) (0.4.2)\n",
      "Requirement already satisfied: pydantic!=1.8,!=1.8.1,<1.9.0,>=1.7.4 in c:\\users\\seaha\\anaconda3\\envs\\434hw\\lib\\site-packages (from spacy<3.3.0,>=3.2.0->en-core-web-sm==3.2.0) (1.8.2)\n",
      "Requirement already satisfied: pathy>=0.3.5 in c:\\users\\seaha\\anaconda3\\envs\\434hw\\lib\\site-packages (from spacy<3.3.0,>=3.2.0->en-core-web-sm==3.2.0) (0.10.1)\n",
      "Requirement already satisfied: numpy>=1.15.0 in c:\\users\\seaha\\anaconda3\\envs\\434hw\\lib\\site-packages (from spacy<3.3.0,>=3.2.0->en-core-web-sm==3.2.0) (1.26.0)\n",
      "Requirement already satisfied: murmurhash<1.1.0,>=0.28.0 in c:\\users\\seaha\\anaconda3\\envs\\434hw\\lib\\site-packages (from spacy<3.3.0,>=3.2.0->en-core-web-sm==3.2.0) (1.0.7)\n",
      "Requirement already satisfied: setuptools in c:\\users\\seaha\\anaconda3\\envs\\434hw\\lib\\site-packages (from spacy<3.3.0,>=3.2.0->en-core-web-sm==3.2.0) (61.2.0)\n",
      "Requirement already satisfied: srsly<3.0.0,>=2.4.1 in c:\\users\\seaha\\anaconda3\\envs\\434hw\\lib\\site-packages (from spacy<3.3.0,>=3.2.0->en-core-web-sm==3.2.0) (2.4.3)\n",
      "Requirement already satisfied: tqdm<5.0.0,>=4.38.0 in c:\\users\\seaha\\anaconda3\\envs\\434hw\\lib\\site-packages (from spacy<3.3.0,>=3.2.0->en-core-web-sm==3.2.0) (4.64.1)\n",
      "Requirement already satisfied: preshed<3.1.0,>=3.0.2 in c:\\users\\seaha\\anaconda3\\envs\\434hw\\lib\\site-packages (from spacy<3.3.0,>=3.2.0->en-core-web-sm==3.2.0) (3.0.6)\n",
      "Requirement already satisfied: smart-open<7.0.0,>=5.2.1 in c:\\users\\seaha\\anaconda3\\envs\\434hw\\lib\\site-packages (from pathy>=0.3.5->spacy<3.3.0,>=3.2.0->en-core-web-sm==3.2.0) (5.2.1)\n",
      "Requirement already satisfied: typing-extensions>=3.7.4.3 in c:\\users\\seaha\\anaconda3\\envs\\434hw\\lib\\site-packages (from pydantic!=1.8,!=1.8.1,<1.9.0,>=1.7.4->spacy<3.3.0,>=3.2.0->en-core-web-sm==3.2.0) (4.4.0)\n",
      "Requirement already satisfied: charset-normalizer<3,>=2 in c:\\users\\seaha\\anaconda3\\envs\\434hw\\lib\\site-packages (from requests<3.0.0,>=2.13.0->spacy<3.3.0,>=3.2.0->en-core-web-sm==3.2.0) (2.0.4)\n",
      "Requirement already satisfied: urllib3<1.27,>=1.21.1 in c:\\users\\seaha\\anaconda3\\envs\\434hw\\lib\\site-packages (from requests<3.0.0,>=2.13.0->spacy<3.3.0,>=3.2.0->en-core-web-sm==3.2.0) (1.26.14)\n",
      "Requirement already satisfied: idna<4,>=2.5 in c:\\users\\seaha\\anaconda3\\envs\\434hw\\lib\\site-packages (from requests<3.0.0,>=2.13.0->spacy<3.3.0,>=3.2.0->en-core-web-sm==3.2.0) (3.4)\n",
      "Requirement already satisfied: certifi>=2017.4.17 in c:\\users\\seaha\\anaconda3\\envs\\434hw\\lib\\site-packages (from requests<3.0.0,>=2.13.0->spacy<3.3.0,>=3.2.0->en-core-web-sm==3.2.0) (2022.12.7)\n",
      "Requirement already satisfied: colorama in c:\\users\\seaha\\anaconda3\\envs\\434hw\\lib\\site-packages (from tqdm<5.0.0,>=4.38.0->spacy<3.3.0,>=3.2.0->en-core-web-sm==3.2.0) (0.4.4)\n",
      "Requirement already satisfied: click<9.0.0,>=7.1.1 in c:\\users\\seaha\\anaconda3\\envs\\434hw\\lib\\site-packages (from typer<0.5.0,>=0.3.0->spacy<3.3.0,>=3.2.0->en-core-web-sm==3.2.0) (8.0.4)\n",
      "Requirement already satisfied: MarkupSafe>=2.0 in c:\\users\\seaha\\anaconda3\\envs\\434hw\\lib\\site-packages (from jinja2->spacy<3.3.0,>=3.2.0->en-core-web-sm==3.2.0) (2.1.1)\n",
      "✔ Download and installation successful\n",
      "You can now load the package via spacy.load('en_core_web_sm')\n",
      "Requirement already satisfied: newspaper3k in c:\\users\\seaha\\anaconda3\\envs\\434hw\\lib\\site-packages (0.2.8)\n",
      "Requirement already satisfied: feedfinder2>=0.0.4 in c:\\users\\seaha\\anaconda3\\envs\\434hw\\lib\\site-packages (from newspaper3k) (0.0.4)\n",
      "Requirement already satisfied: nltk>=3.2.1 in c:\\users\\seaha\\anaconda3\\envs\\434hw\\lib\\site-packages (from newspaper3k) (3.8.1)\n",
      "Requirement already satisfied: PyYAML>=3.11 in c:\\users\\seaha\\anaconda3\\envs\\434hw\\lib\\site-packages (from newspaper3k) (6.0)\n",
      "Requirement already satisfied: jieba3k>=0.35.1 in c:\\users\\seaha\\anaconda3\\envs\\434hw\\lib\\site-packages (from newspaper3k) (0.35.1)\n",
      "Requirement already satisfied: tinysegmenter==0.3 in c:\\users\\seaha\\anaconda3\\envs\\434hw\\lib\\site-packages (from newspaper3k) (0.3)\n",
      "Requirement already satisfied: requests>=2.10.0 in c:\\users\\seaha\\anaconda3\\envs\\434hw\\lib\\site-packages (from newspaper3k) (2.28.1)\n",
      "Requirement already satisfied: feedparser>=5.2.1 in c:\\users\\seaha\\anaconda3\\envs\\434hw\\lib\\site-packages (from newspaper3k) (6.0.10)\n",
      "Requirement already satisfied: Pillow>=3.3.0 in c:\\users\\seaha\\anaconda3\\envs\\434hw\\lib\\site-packages (from newspaper3k) (9.3.0)\n",
      "Requirement already satisfied: python-dateutil>=2.5.3 in c:\\users\\seaha\\anaconda3\\envs\\434hw\\lib\\site-packages (from newspaper3k) (2.8.2)\n",
      "Requirement already satisfied: lxml>=3.6.0 in c:\\users\\seaha\\anaconda3\\envs\\434hw\\lib\\site-packages (from newspaper3k) (4.9.1)\n",
      "Requirement already satisfied: cssselect>=0.9.2 in c:\\users\\seaha\\anaconda3\\envs\\434hw\\lib\\site-packages (from newspaper3k) (1.2.0)\n",
      "Requirement already satisfied: tldextract>=2.0.1 in c:\\users\\seaha\\anaconda3\\envs\\434hw\\lib\\site-packages (from newspaper3k) (3.4.0)\n",
      "Requirement already satisfied: beautifulsoup4>=4.4.1 in c:\\users\\seaha\\anaconda3\\envs\\434hw\\lib\\site-packages (from newspaper3k) (4.11.1)\n",
      "Requirement already satisfied: soupsieve>1.2 in c:\\users\\seaha\\anaconda3\\envs\\434hw\\lib\\site-packages (from beautifulsoup4>=4.4.1->newspaper3k) (2.3.2.post1)\n",
      "Requirement already satisfied: six in c:\\users\\seaha\\anaconda3\\envs\\434hw\\lib\\site-packages (from feedfinder2>=0.0.4->newspaper3k) (1.16.0)\n",
      "Requirement already satisfied: sgmllib3k in c:\\users\\seaha\\anaconda3\\envs\\434hw\\lib\\site-packages (from feedparser>=5.2.1->newspaper3k) (1.0.0)\n",
      "Requirement already satisfied: regex>=2021.8.3 in c:\\users\\seaha\\anaconda3\\envs\\434hw\\lib\\site-packages (from nltk>=3.2.1->newspaper3k) (2022.10.31)\n",
      "Requirement already satisfied: tqdm in c:\\users\\seaha\\anaconda3\\envs\\434hw\\lib\\site-packages (from nltk>=3.2.1->newspaper3k) (4.64.1)\n",
      "Requirement already satisfied: click in c:\\users\\seaha\\anaconda3\\envs\\434hw\\lib\\site-packages (from nltk>=3.2.1->newspaper3k) (8.0.4)\n",
      "Requirement already satisfied: joblib in c:\\users\\seaha\\anaconda3\\envs\\434hw\\lib\\site-packages (from nltk>=3.2.1->newspaper3k) (1.2.0)\n",
      "Requirement already satisfied: urllib3<1.27,>=1.21.1 in c:\\users\\seaha\\anaconda3\\envs\\434hw\\lib\\site-packages (from requests>=2.10.0->newspaper3k) (1.26.14)\n",
      "Requirement already satisfied: certifi>=2017.4.17 in c:\\users\\seaha\\anaconda3\\envs\\434hw\\lib\\site-packages (from requests>=2.10.0->newspaper3k) (2022.12.7)\n",
      "Requirement already satisfied: charset-normalizer<3,>=2 in c:\\users\\seaha\\anaconda3\\envs\\434hw\\lib\\site-packages (from requests>=2.10.0->newspaper3k) (2.0.4)\n",
      "Requirement already satisfied: idna<4,>=2.5 in c:\\users\\seaha\\anaconda3\\envs\\434hw\\lib\\site-packages (from requests>=2.10.0->newspaper3k) (3.4)\n",
      "Requirement already satisfied: filelock>=3.0.8 in c:\\users\\seaha\\anaconda3\\envs\\434hw\\lib\\site-packages (from tldextract>=2.0.1->newspaper3k) (3.11.0)\n",
      "Requirement already satisfied: requests-file>=1.4 in c:\\users\\seaha\\anaconda3\\envs\\434hw\\lib\\site-packages (from tldextract>=2.0.1->newspaper3k) (1.5.1)\n",
      "Requirement already satisfied: colorama in c:\\users\\seaha\\anaconda3\\envs\\434hw\\lib\\site-packages (from click->nltk>=3.2.1->newspaper3k) (0.4.4)\n",
      "Requirement already satisfied: gensim in c:\\users\\seaha\\anaconda3\\envs\\434hw\\lib\\site-packages (4.3.2)\n",
      "Requirement already satisfied: scipy>=1.7.0 in c:\\users\\seaha\\anaconda3\\envs\\434hw\\lib\\site-packages (from gensim) (1.10.0)\n",
      "Requirement already satisfied: numpy>=1.18.5 in c:\\users\\seaha\\anaconda3\\envs\\434hw\\lib\\site-packages (from gensim) (1.26.0)\n",
      "Requirement already satisfied: smart-open>=1.8.1 in c:\\users\\seaha\\anaconda3\\envs\\434hw\\lib\\site-packages (from gensim) (5.2.1)\n",
      "Requirement already satisfied: plotly in c:\\users\\seaha\\anaconda3\\envs\\434hw\\lib\\site-packages (5.17.0)\n",
      "Requirement already satisfied: packaging in c:\\users\\seaha\\anaconda3\\envs\\434hw\\lib\\site-packages (from plotly) (22.0)\n",
      "Requirement already satisfied: tenacity>=6.2.0 in c:\\users\\seaha\\anaconda3\\envs\\434hw\\lib\\site-packages (from plotly) (8.2.3)\n",
      "Requirement already satisfied: sklearn in c:\\users\\seaha\\anaconda3\\envs\\434hw\\lib\\site-packages (0.0)\n",
      "Requirement already satisfied: scikit-learn in c:\\users\\seaha\\anaconda3\\envs\\434hw\\lib\\site-packages (from sklearn) (1.2.2)\n",
      "Requirement already satisfied: numpy>=1.17.3 in c:\\users\\seaha\\anaconda3\\envs\\434hw\\lib\\site-packages (from scikit-learn->sklearn) (1.26.0)\n",
      "Requirement already satisfied: joblib>=1.1.1 in c:\\users\\seaha\\anaconda3\\envs\\434hw\\lib\\site-packages (from scikit-learn->sklearn) (1.2.0)\n",
      "Requirement already satisfied: scipy>=1.3.2 in c:\\users\\seaha\\anaconda3\\envs\\434hw\\lib\\site-packages (from scikit-learn->sklearn) (1.10.0)\n",
      "Requirement already satisfied: threadpoolctl>=2.0.0 in c:\\users\\seaha\\anaconda3\\envs\\434hw\\lib\\site-packages (from scikit-learn->sklearn) (3.1.0)\n",
      "Requirement already satisfied: matplotlib in c:\\users\\seaha\\anaconda3\\envs\\434hw\\lib\\site-packages (3.5.3)\n",
      "Requirement already satisfied: pillow>=6.2.0 in c:\\users\\seaha\\anaconda3\\envs\\434hw\\lib\\site-packages (from matplotlib) (9.3.0)\n",
      "Requirement already satisfied: packaging>=20.0 in c:\\users\\seaha\\anaconda3\\envs\\434hw\\lib\\site-packages (from matplotlib) (22.0)\n",
      "Requirement already satisfied: numpy>=1.17 in c:\\users\\seaha\\anaconda3\\envs\\434hw\\lib\\site-packages (from matplotlib) (1.26.0)\n",
      "Requirement already satisfied: kiwisolver>=1.0.1 in c:\\users\\seaha\\anaconda3\\envs\\434hw\\lib\\site-packages (from matplotlib) (1.4.4)\n",
      "Requirement already satisfied: pyparsing>=2.2.1 in c:\\users\\seaha\\anaconda3\\envs\\434hw\\lib\\site-packages (from matplotlib) (3.0.9)\n",
      "Requirement already satisfied: cycler>=0.10 in c:\\users\\seaha\\anaconda3\\envs\\434hw\\lib\\site-packages (from matplotlib) (0.11.0)\n",
      "Requirement already satisfied: fonttools>=4.22.0 in c:\\users\\seaha\\anaconda3\\envs\\434hw\\lib\\site-packages (from matplotlib) (4.25.0)\n",
      "Requirement already satisfied: python-dateutil>=2.7 in c:\\users\\seaha\\anaconda3\\envs\\434hw\\lib\\site-packages (from matplotlib) (2.8.2)\n",
      "Requirement already satisfied: six>=1.5 in c:\\users\\seaha\\anaconda3\\envs\\434hw\\lib\\site-packages (from python-dateutil>=2.7->matplotlib) (1.16.0)\n"
     ]
    }
   ],
   "source": [
    "#dataframe and sentiment analysis\n",
    "!pip install pandas\n",
    "!pip install spacy\n",
    "!pip install spacytextblob\n",
    "!python -m spacy download en_core_web_sm\n",
    "\n",
    "#webscraping\n",
    "!pip install newspaper3k\n",
    "\n",
    "#topic modeling \n",
    "!pip install gensim\n",
    "\n",
    "#data vis\n",
    "!pip install plotly\n",
    "!pip install sklearn\n",
    "!pip install matplotlib"
   ]
  },
  {
   "cell_type": "markdown",
   "id": "c92a2232",
   "metadata": {},
   "source": [
    "Spacy: Used for NLP and has the machine learning module\n",
    "    \n",
    "SpacyTextBlob: Used for the sentiment analysis\n",
    "    \n",
    "Pandas: Stores the data as a dataframe table\n",
    "    \n",
    "NewsPaper: Used for web scraping\n",
    "\n",
    "Gensim: Used for topic modeling\n",
    "    \n",
    "Requests: Makes the connection to the URL\n",
    "\n",
    "Plotly: Used for data visualization\n",
    "\n",
    "Matplotlib: Used for clustering and data visualization\n",
    "\n",
    "Sklearn: Used for clustering and data visualization"
   ]
  },
  {
   "cell_type": "markdown",
   "id": "e1471074",
   "metadata": {},
   "source": [
    "## Start Here: Library Imports"
   ]
  },
  {
   "cell_type": "code",
   "execution_count": 87,
   "id": "97171282",
   "metadata": {},
   "outputs": [],
   "source": [
    "#newspaper3k web scraping\n",
    "from newspaper import Article\n",
    "\n",
    "from random import shuffle\n",
    "import re\n",
    "import requests\n",
    "\n",
    "from collections import Counter\n",
    "\n",
    "#pandas dataframe\n",
    "import pandas as pd\n",
    "\n",
    "import numpy as np\n",
    "import json\n",
    "import requests\n",
    "import glob\n",
    "\n",
    "#gensim\n",
    "import gensim\n",
    "import gensim.corpora as corpora\n",
    "from gensim.models.coherencemodel import CoherenceModel\n",
    "from gensim.utils import simple_preprocess\n",
    "from gensim.corpora import Dictionary  # Import the Dictionary class from Gensim\n",
    "\n",
    "#spacy\n",
    "import spacy\n",
    "from nltk.corpus import stopwords\n",
    "from spacytextblob.spacytextblob import SpacyTextBlob\n",
    "\n",
    "#vis\n",
    "import pyLDAvis\n",
    "import pyLDAvis.gensim\n",
    "import plotly.express as px\n",
    "import matplotlib.colors as mcolors\n",
    "import matplotlib.pyplot as plt \n",
    "import sklearn\n",
    "from sklearn.manifold import TSNE\n",
    "\n",
    "#K-Means Clustering\n",
    "from sklearn.feature_extraction.text import TfidfVectorizer\n",
    "from sklearn.cluster import KMeans\n",
    "from sklearn.cluster import MiniBatchKMeans\n",
    "import matplotlib.pyplot as plt\n",
    "\n",
    "#Principled Component Analysis\n",
    "from sklearn.decomposition import PCA\n",
    "\n",
    "import warnings\n",
    "warnings.filterwarnings(\"ignore\", category=DeprecationWarning)"
   ]
  },
  {
   "cell_type": "markdown",
   "id": "8b38b484",
   "metadata": {},
   "source": [
    "IMPORTANT: Run all helper files. The function logic is stored here, and sorted by the part of the pipeline they support."
   ]
  },
  {
   "cell_type": "code",
   "execution_count": 88,
   "id": "89933f69",
   "metadata": {},
   "outputs": [],
   "source": [
    "%run SentimentAnalysis.ipynb\n",
    "%run WebScraper.ipynb\n",
    "%run PipelineHelpers.ipynb\n",
    "%run TopicModeling.ipynb\n",
    "%run DataVisualization.ipynb"
   ]
  },
  {
   "cell_type": "markdown",
   "id": "c767401a",
   "metadata": {},
   "source": [
    "# General Pipeline Settings, and Pre-Analysis Setup"
   ]
  },
  {
   "cell_type": "markdown",
   "id": "67afdeff",
   "metadata": {},
   "source": [
    "Below are the customizable settings for all of the analysis and processing parts of the pipeline.\n",
    "\n",
    "Rerun this any time you make changes to these settings, as they will affect the outcome of certain pipeline steps."
   ]
  },
  {
   "cell_type": "markdown",
   "id": "b787c3f5",
   "metadata": {},
   "source": [
    "IMPORTANT: The csvFile object should be set to a properly setup csv file of article URLs that you copy-paste into the same directory as the pipeline files (we use the relative path to access the file). The csvFile format is explained in the user manual, but simply it needs one column with the first entry being \"Address\" and the other entries all being article URLs."
   ]
  },
  {
   "cell_type": "code",
   "execution_count": 89,
   "id": "4e23034f",
   "metadata": {},
   "outputs": [],
   "source": [
    "###\n",
    "### BELOW IS OUR CUSTOMIZABLE SETTINGS\n",
    "###\n",
    "\n",
    "# THIS IS THE CSV FILE THAT WE READ IN\n",
    "# This csv file should contain a single column of article urls, with the first entry being \"Address\"\n",
    "csv_file = \"Pelosi_Attack_Websites_3000.csv\"\n",
    "\n",
    "\n",
    "#WEBSCRAPING SETTINGS\n",
    "# THIS IS THE MINIMUM WORDS THAT WE ALLOW FOR AN ARTICLE\n",
    "# (to prevent certain blocked articles or bad data)\n",
    "word_count_filter = 150\n",
    "\n",
    "#this is the minimum amount of repeated phrases in a text that we will throw an error for\n",
    "repeated_phrase_filter = 25\n",
    "\n",
    "#this is the list of all social media URLs that we BLOCK (anything in this list WILL NOT be scraped)\n",
    "social_starts_with = [\"https://www.youtube.com\", \"https://youtu.be\", \"https://www.facebook.com\",\n",
    "                          \"https://twitter.com\", \"https://gettr.com/\"]\n",
    "\n",
    "#When webscraping, will only grab the first url_max URLs (set to -1 to turn off)\n",
    "url_max = 300\n",
    "\n",
    "# TOPIC MODELING SETTINGS\n",
    "# this will set how our topic modeling is generated: limit to the # of topics,\n",
    "# # of topics we start at, how many we increment by every step\n",
    "topic_model_dict = {\"topic_limit\": 11, \"topic_start\": 5, \"topic_step\": 5}\n",
    "\n",
    "\n",
    "###\n",
    "### END OF CUSTOMIZABLE SETTINGS\n",
    "###\n"
   ]
  },
  {
   "cell_type": "markdown",
   "id": "a9fabe01",
   "metadata": {},
   "source": [
    "# MAIN PIPELINE START"
   ]
  },
  {
   "cell_type": "markdown",
   "id": "ac52c758",
   "metadata": {},
   "source": [
    "## Sentiment Analysis Pipeline"
   ]
  },
  {
   "cell_type": "markdown",
   "id": "65f184f9",
   "metadata": {},
   "source": [
    "Below is the start of our pipeline.\n",
    "\n",
    "Here we create our nlp object and add the pipe to it for sentiment analysis. We then read in our .csv file and convert it to a dataframe to pass in to our sentiment analysis function, and gathers the list of all URLs.\n",
    "\n",
    "Our main_pipeline_sentiment_analysis() function takes in the list of urls, web scrapes their text, and performs sentiment analysis on them, creating a dataframe of all properly scraped articles and their associated sentiment analysis data.\n",
    "\n",
    "df is the main dataframe object we store our data in."
   ]
  },
  {
   "cell_type": "code",
   "execution_count": 90,
   "id": "7ae169b7",
   "metadata": {
    "scrolled": true
   },
   "outputs": [
    {
     "name": "stdout",
     "output_type": "stream",
     "text": [
      "0  Articles Completed\n",
      "Webscraping failed: Social Media\n",
      "https://twitter.com/rparloff/status/1587513628344958982\n",
      "\n",
      "\n",
      "Webscraping failed: Social Media\n",
      "https://twitter.com/smb_democracy/status/1587493254148268033\n",
      "\n",
      "\n",
      "Webscraping failed: Social Media\n",
      "https://twitter.com/JackPosobiec/status/1592652426930434048\n",
      "\n",
      "\n",
      "Webscraping Error: Couldn't Parse\n",
      "https://worldnewsguru.us/world-news/top-democrat-demands-answers-from-police-after-pelosi-attack/490364/\n",
      "\n",
      "\n",
      "Webscraping failed: Word Count or Repeated Phrase\n",
      "https://www.nytimes.com/interactive/2022/11/05/us/politics/pelosi-attack-misinfo-republican-politicians.html?unlocked_article_code=AAAAAAAAAAAAAAAACEIPuonUyYiZ_tU1Gw5CRWySB4B99Frf3L-XnfshnTjmKyyUVTdJ1KMNDoyH4EaIbLZ_btAwmjGaX95HPrhqXvFq0-VbPkdkTUywpZ-FhJUOIiwzssSzQmYyldrrbIwPzAXLPCO_Ofstg_q-uQ6LKjG7HfybhWtwIFpjqJoyJ0Wr3yNf2quTFrNq0td7jeN3UZFwQTcHMymJ6vH4Gl4pboX9GxLb4gE9U-5eWyiC3oLPruJdL3gBTA7OX3h94m0j6NtDOdxxPKv3KxYoe8uWkqxGQyUzb9_vX8ttMtCSw7Z6srfNqgiPyN62xpg1EaZTvLDEugWqJcZM-nn_LQDp_7_4cG89618\n",
      "Word count:  2079\n",
      "Repeated phrases:  43\n",
      "\n",
      "\n",
      "Webscraping failed: Word Count or Repeated Phrase\n",
      "https://rtimes.rohitchouhan.com/bPcro\n",
      "Word count:  34\n",
      "Repeated phrases:  1\n",
      "\n",
      "\n",
      "Webscraping Error: Couldn't Parse\n",
      "http://dlvr.it/Sfj1BL\n",
      "\n",
      "\n",
      "10  Articles Completed\n",
      "Webscraping Error: Couldn't Parse\n",
      "http://dlvr.it/ScmFKj\n",
      "\n",
      "\n",
      "Webscraping failed: Word Count or Repeated Phrase\n",
      "https://www.msn.com/en-gb/news/world/republicans-urged-to-purge-extremists-after-attack-on-house-speaker-s-husband-live/ar-AA13C4Gh?ocid=msedgntp&cvid=aff58bcf905d453693a542ab049d9b43\n",
      "Word count:  1\n",
      "Repeated phrases:  0\n",
      "\n",
      "\n",
      "Webscraping failed: Word Count or Repeated Phrase\n",
      "https://grabien.com/story.php?id=400127\n",
      "Word count:  40\n",
      "Repeated phrases:  1\n",
      "\n",
      "\n",
      "Webscraping Error: Couldn't Parse\n",
      "https://www.scribd.com/document_downloads/direct/582684364?extension=pdf&ft=1671552213&lt=1671555823&show_pdf=true&user_id=646359241&uahk=YYCSXkjKpwmD-LERy5xZtIgg3NU\n",
      "\n",
      "\n",
      "Webscraping failed: Social Media\n",
      "https://twitter.com/__team_usa/status/1595249823996940291\n",
      "\n",
      "\n",
      "Webscraping failed: Social Media\n",
      "https://twitter.com/amanpour/status/1603090784605052931\n",
      "\n",
      "\n",
      "20  Articles Completed\n",
      "Webscraping failed: Word Count or Repeated Phrase\n",
      "https://ift.tt/pbAfiwC\n",
      "Word count:  26\n",
      "Repeated phrases:  1\n",
      "\n",
      "\n",
      "Webscraping failed: Social Media\n",
      "https://twitter.com/stephen_barrett/status/1589976286734454784\n",
      "\n",
      "\n",
      "Webscraping failed: Word Count or Repeated Phrase\n",
      "https://www.msn.com/en-us/news/politics/far-right-j6-rioter-who-attacked-pelosi-s-office-surprised-as-judge-sends-her-directly-to-jail-report/ar-AA14o8yf?ocid=msedgdhp&pc=U531&cvid=9e3927f5ff76462e9e608b7b5e1f46a1\n",
      "Word count:  1\n",
      "Repeated phrases:  0\n",
      "\n",
      "\n",
      "Webscraping failed: Social Media\n",
      "https://twitter.com/JennaEllisEsq/status/1596653457968357376\n",
      "\n",
      "\n",
      "Webscraping failed: Social Media\n",
      "https://twitter.com/BlackKnight10k/status/1605367613873586177\n",
      "\n",
      "\n",
      "Webscraping Error: Couldn't Parse\n",
      "https://www.newsweek.com/nancy-pelosi-us-needs-strong-republican-party-not-cult-1705081\n",
      "\n",
      "\n",
      "30  Articles Completed\n",
      "Webscraping failed: Social Media\n",
      "https://twitter.com/UponMySleeve/status/1588557574055800833\n",
      "\n",
      "\n",
      "Webscraping failed: Word Count or Repeated Phrase\n",
      "https://fb.watch/hxu95M7hXg/?mibextid=j8LeHn\n",
      "Word count:  1\n",
      "Repeated phrases:  0\n",
      "\n",
      "\n",
      "Webscraping failed: Social Media\n",
      "https://twitter.com/NancyMAGAmonkey/status/1586430976866992128\n",
      "\n",
      "\n",
      "Webscraping failed: Social Media\n",
      "https://twitter.com/RepDonaldsPress/status/1604977757389312007\n",
      "\n",
      "\n",
      "Webscraping failed: Social Media\n",
      "https://twitter.com/DeTocqueville14/status/1587288160861552641\n",
      "\n",
      "\n",
      "Webscraping failed: Social Media\n",
      "https://twitter.com/QwhereRU52/status/1607773366676602880\n",
      "\n",
      "\n",
      "Webscraping failed: Social Media\n",
      "https://youtu.be/XRhB2m4qBhI\n",
      "\n",
      "\n",
      "Webscraping failed: Word Count or Repeated Phrase\n",
      "https://trib.al/o0xPps8\n",
      "Word count:  1\n",
      "Repeated phrases:  0\n",
      "\n",
      "\n",
      "40  Articles Completed\n",
      "Webscraping failed: Word Count or Repeated Phrase\n",
      "https://topinfocity.com/im-so-sick-and-tired-of-this-shit-joe-scarborough-freaks-out-with-republicans-for-mocking-paul-pelosi-attack-and-says-theres-a-disease-in-the-gop/\n",
      "Word count:  1\n",
      "Repeated phrases:  0\n",
      "\n",
      "\n",
      "Webscraping failed: Social Media\n",
      "https://twitter.com/Wu1f_603/status/1605558908151427072\n",
      "\n",
      "\n",
      "Webscraping Error: Couldn't Parse\n",
      "https://www.macon.com/news/politics-government/national-politics/article268412682.html\n",
      "\n",
      "\n",
      "Webscraping Error: Couldn't Parse\n",
      "https://www.alaskagreenlight.com/paul-pelosi-discharged-from-hospital/\n",
      "\n",
      "\n",
      "Webscraping failed: Social Media\n",
      "https://twitter.com/HeinzRudolf155/status/1604097115088556032\n",
      "\n",
      "\n",
      "Webscraping failed: Social Media\n",
      "https://twitter.com/ungerbn103/status/1588217549568839687\n",
      "\n",
      "\n",
      "Webscraping failed: Social Media\n",
      "https://twitter.com/captain_toke/status/1605040985351675904\n",
      "\n",
      "\n",
      "Webscraping failed: Social Media\n",
      "https://gettr.com/post/p2332pv3fa1\n",
      "\n",
      "\n",
      "Webscraping failed: Word Count or Repeated Phrase\n",
      "https://www.smdailyjournal.com/news/local/paul-pelosi-attack-suspect-enters-not-guilty-plea/article_1f4ead3a-86f3-11ed-84af-2783a5dddeaa.html?utm_campaign=blox&utm_source=twitter&utm_medium=social\n",
      "Word count:  102\n",
      "Repeated phrases:  1\n",
      "\n",
      "\n",
      "50  Articles Completed\n",
      "Webscraping failed: Word Count or Repeated Phrase\n",
      "https://l.smartnews.com/7Vz6M/puOCU4\n",
      "Word count:  25\n",
      "Repeated phrases:  1\n",
      "\n",
      "\n",
      "Webscraping failed: Social Media\n",
      "https://twitter.com/ScottPresler/status/1600878756083945472\n",
      "\n",
      "\n",
      "Webscraping failed: Social Media\n",
      "https://twitter.com/AddisonSmithOAN/status/1605662646685945856?s=20&t=ad_8yYCo8nvepX8_l0glBA\n",
      "\n",
      "\n",
      "Webscraping failed: Social Media\n",
      "https://twitter.com/thehill/status/1608985311257796608\n",
      "\n",
      "\n",
      "Webscraping failed: Social Media\n",
      "https://twitter.com/NeckTooRed/status/1588535741180964864\n",
      "\n",
      "\n",
      "Webscraping failed: Word Count or Repeated Phrase\n",
      "http://teleuniversotv.com/nancy-pelosi-anuncia-su-renuncia-a-la-camara-de-representantes/\n",
      "Word count:  122\n",
      "Repeated phrases:  1\n",
      "\n",
      "\n",
      "60  Articles Completed\n",
      "Webscraping Error: Couldn't Parse\n",
      "https://fr.majalla.com/node/272001/actualit%C3%A9s%C3%A9tats-unis-la-fin-de-l%E2%80%99%C3%A8re-pelosi\n",
      "\n",
      "\n",
      "Webscraping failed: Social Media\n",
      "https://twitter.com/Tela601/status/1587159490138411012\n",
      "\n",
      "\n",
      "Webscraping failed: Word Count or Repeated Phrase\n",
      "https://www.post-gazette.com/news/crime-courts/2022/11/03/Immigration-officials-say-Pelosi-attacker-was-in-US-illegally/stories/202211030098?utm_term=Autofeed&utm_medium=Social&utm_source=Twitter#Echobox=1667496981\n",
      "Word count:  1\n",
      "Repeated phrases:  0\n",
      "\n",
      "\n"
     ]
    },
    {
     "name": "stderr",
     "output_type": "stream",
     "text": [
      "c:\\Users\\seaha\\anaconda3\\envs\\434hw\\lib\\site-packages\\dateutil\\parser\\_parser.py:1207: UnknownTimezoneWarning:\n",
      "\n",
      "tzname EDT identified but not understood.  Pass `tzinfos` argument in order to correctly return a timezone-aware datetime.  In a future version, this will raise an exception.\n",
      "\n"
     ]
    },
    {
     "name": "stdout",
     "output_type": "stream",
     "text": [
      "Webscraping Error: Couldn't Parse\n",
      "https://www.newsweek.com/spanberger-says-pelosi-undercut-bill-banning-congress-stock-trading-1751391?utm_medium=Social&utm_source=Twitter#Echobox=1665650212\n",
      "\n",
      "\n",
      "Webscraping failed: Word Count or Repeated Phrase\n",
      "https://meigsbarrett.com/nancy-pelosi-left-stage-after-reporter-confronts-her/\n",
      "Word count:  1\n",
      "Repeated phrases:  0\n",
      "\n",
      "\n",
      "Webscraping failed: Social Media\n",
      "https://twitter.com/suzannemonyak/status/1603437507978625024\n",
      "\n",
      "\n",
      "70  Articles Completed\n",
      "Webscraping Error: Couldn't Parse\n",
      "https://www.rawstory.com/trump-truth-national-guard-jan6/\n",
      "\n",
      "\n",
      "Webscraping failed: Word Count or Repeated Phrase\n",
      "https://open.spotify.com/episode/2qp7jognhvhFtgOK4k0z5d\n",
      "Word count:  17\n",
      "Repeated phrases:  1\n",
      "\n",
      "\n",
      "Webscraping Error: Couldn't Parse\n",
      "https://www.axios.com/2022/10/23/nancy-pelosi-donald-trump-subpoena-jan-6\n",
      "\n",
      "\n",
      "Webscraping failed: Social Media\n",
      "https://twitter.com/Fritschner/status/1570844104480915458\n",
      "\n",
      "\n",
      "Webscraping Error: Couldn't Parse\n",
      "https://r.transparenttrainingbra.com/nancy-pelosi-will-stay-in-congress-speakership-in-question/\n",
      "\n",
      "\n",
      "Webscraping failed: Social Media\n",
      "https://twitter.com/twitter/statuses/1605703381137620993\n",
      "\n",
      "\n",
      "80  Articles Completed\n",
      "Webscraping Error: Couldn't Parse\n",
      "https://thehill.com/homenews/house/3793799-pelosi-announces-maximum-salary-for-house-staff-being-raised-to-212000\n",
      "\n",
      "\n",
      "Webscraping failed: Social Media\n",
      "https://twitter.com/ShresthaAlishna/status/1605007478273769472\n",
      "\n",
      "\n",
      "Webscraping Error: Couldn't Parse\n",
      "https://newsatw.com/nancy-pelosi-to-stand-down-as-us-house-democrat-leader/\n",
      "\n",
      "\n",
      "Webscraping failed: Social Media\n",
      "https://twitter.com/6News/status/1593297210954829830\n",
      "\n",
      "\n",
      "Webscraping Error: Couldn't Parse\n",
      "https://usasharenews.com/californias-nancy-pelosi-says-she-will-not-step-away-from-congress/\n",
      "\n",
      "\n",
      "Webscraping failed: Word Count or Repeated Phrase\n",
      "https://truevoice.site/former-president-donald-trump-halted-pelosi-in-her-tracks/\n",
      "Word count:  1\n",
      "Repeated phrases:  0\n",
      "\n",
      "\n",
      "90  Articles Completed\n",
      "Webscraping failed: Word Count or Repeated Phrase\n",
      "https://l.smartnews.com/Vazg5/Wp4cMj\n",
      "Word count:  16\n",
      "Repeated phrases:  1\n",
      "\n",
      "\n",
      "Webscraping failed: Social Media\n",
      "https://twitter.com/PeterSweden7/status/1593361688660770823\n",
      "\n",
      "\n",
      "Webscraping failed: Social Media\n",
      "https://twitter.com/i/broadcasts/1LyxBqYvVWLJN\n",
      "\n",
      "\n",
      "Webscraping failed: Word Count or Repeated Phrase\n",
      "https://www.tf1info.fr/international/etats-unis-j-ai-eu-tres-peur-raconte-nancy-pelosi-apres-l-agression-de-son-mari-paul-2237963.html?utm_medium=Social&utm_source=Twitter&Echobox=1667900284#xtor=CS5-113\n",
      "Word count:  144\n",
      "Repeated phrases:  1\n",
      "\n",
      "\n",
      "Webscraping failed: Word Count or Repeated Phrase\n",
      "https://stateofthenation.co/?p=142037\n",
      "Word count:  35\n",
      "Repeated phrases:  1\n",
      "\n",
      "\n",
      "Webscraping failed: Social Media\n",
      "https://twitter.com/simi28_/status/1606305300608434176\n",
      "\n",
      "\n",
      "100  Articles Completed\n",
      "Webscraping failed: Word Count or Repeated Phrase\n",
      "https://www.dailykos.com/campaigns/petitions/sign-the-petition-attack-on-pelosi-home-was-an-assassination-attempt-fueled-by-gop-rhetoric?detail=emailaction&link_id=1&can_id=0fae09c5149a1fd4207d1a74c3fdc092&source=email-sign-the-petition-the-attack-on-the-pelosi-home-was-an-assassination-attempt-fueled-by-gop-rhetoric-2&email_referrer=email_1725319&email_subject=repeat-the-truth-attack-on-pelosis-home-was-a-right-wing-assassination-attempt\n",
      "Word count:  1\n",
      "Repeated phrases:  0\n",
      "\n",
      "\n",
      "Webscraping failed: Social Media\n",
      "https://twitter.com/kdollsweety/status/1593009736668307456\n",
      "\n",
      "\n",
      "Webscraping failed: Social Media\n",
      "https://twitter.com/nicholaswu12/status/1589788646491975681\n",
      "\n",
      "\n",
      "Webscraping failed: Word Count or Repeated Phrase\n",
      "https://www.nbcnews.com/video/video-shows-rioters-in-nancy-pelosi-s-office-on-jan-6-153928773721\n",
      "Word count:  35\n",
      "Repeated phrases:  1\n",
      "\n",
      "\n",
      "Webscraping Error: Couldn't Parse\n",
      "http://crweworld.com/usa/trendingnow/news/2545481/pelosi-attack-highlights-dangers-of-online-violence-against-women\n",
      "\n",
      "\n",
      "Webscraping failed: Social Media\n",
      "https://twitter.com/therecount/status/1587182585557684225?t=QFGoL_FcOBykG5RF83z-yA&s=19\n",
      "\n",
      "\n",
      "110  Articles Completed\n",
      "Webscraping failed: Word Count or Repeated Phrase\n",
      "http://J6Truth.org\n",
      "Word count:  17\n",
      "Repeated phrases:  1\n",
      "\n",
      "\n",
      "Webscraping failed: Word Count or Repeated Phrase\n",
      "https://shar.es/af4Tjy/Gay\n",
      "Word count:  18\n",
      "Repeated phrases:  1\n",
      "\n",
      "\n",
      "Webscraping failed: Social Media\n",
      "https://twitter.com/atrupar/status/1588691384814473217\n",
      "\n",
      "\n",
      "Webscraping failed: Word Count or Repeated Phrase\n",
      "https://technicalearn.com/will-the-attack-on-paul-pelosi-change-the-rhetoric-in-njs-7th-district-kean-malinowski-race/\n",
      "Word count:  1\n",
      "Repeated phrases:  0\n",
      "\n",
      "\n",
      "Webscraping failed: Social Media\n",
      "https://youtu.be/ZuwySKUtXDI\n",
      "\n",
      "\n",
      "Webscraping Error: Couldn't Parse\n",
      "http://dlvr.it/Sc2g2J\n",
      "\n",
      "\n",
      "Webscraping failed: Word Count or Repeated Phrase\n",
      "https://share.newsbreak.com/2c5g182b\n",
      "Word count:  17\n",
      "Repeated phrases:  1\n",
      "\n",
      "\n",
      "120  Articles Completed\n",
      "Webscraping failed: Social Media\n",
      "https://twitter.com/JudiciaryGOP/status/1592265713754198018\n",
      "\n",
      "\n",
      "Webscraping failed: Social Media\n",
      "https://twitter.com/RepBenCline/status/1605931098747215875\n",
      "\n",
      "\n",
      "Webscraping failed: Word Count or Repeated Phrase\n",
      "https://pressofatlanticcity.com/news/national/man-accused-of-attacking-paul-pelosi-allegedly-said-he-was-on-a-suicide-mission/article_eb2380b1-3112-58c1-8e19-3743b4469f28.html?utm_campaign=snd-autopilot&utm_medium=social&utm_source=twitter_ThePressofAC\n",
      "Word count:  73\n",
      "Repeated phrases:  1\n",
      "\n",
      "\n",
      "Webscraping failed: Word Count or Repeated Phrase\n",
      "https://news.yahoo.com/amphtml/republicans-said-pelosi-national-guard-142004368.html\n",
      "Word count:  26\n",
      "Repeated phrases:  1\n",
      "\n",
      "\n",
      "Webscraping failed: Word Count or Repeated Phrase\n",
      "https://www.google.com/amp/s/www.nytimes.com/interactive/2022/10/31/us/david-depape-criminal-complaint.amp.html\n",
      "Word count:  24\n",
      "Repeated phrases:  1\n",
      "\n",
      "\n",
      "Webscraping failed: Word Count or Repeated Phrase\n",
      "https://today.yougov.com/topics/politics/trackers/nancy-pelosi-favorability\n",
      "Word count:  29\n",
      "Repeated phrases:  1\n",
      "\n",
      "\n",
      "130  Articles Completed\n",
      "Webscraping failed: Social Media\n",
      "https://twitter.com/Victorshi2020/status/1602131183835680768\n",
      "\n",
      "\n",
      "Webscraping failed: Word Count or Repeated Phrase\n",
      "https://quorumcall.org/tammy-duckworth/duckworth-statement-on-speaker-pelosis-decision-to-not-seek-re-election-to-leadership/\n",
      "Word count:  29\n",
      "Repeated phrases:  1\n",
      "\n",
      "\n",
      "Webscraping failed: Social Media\n",
      "https://twitter.com/AWeissmann_/status/1587609437077897216\n",
      "\n",
      "\n",
      "Webscraping failed: Word Count or Repeated Phrase\n",
      "https://apple.news/AQLP1K0-dRr-kuN-ta2k0Ow\n",
      "Word count:  17\n",
      "Repeated phrases:  1\n",
      "\n",
      "\n",
      "Webscraping Error: Couldn't Parse\n",
      "https://www.axios.com/2022/10/30/elon-musk-paul-pelosi-tweet-rumor\n",
      "\n",
      "\n",
      "140  Articles Completed\n",
      "Webscraping failed: Social Media\n",
      "https://gettr.com/post/p22jk2q1db8\n",
      "\n",
      "\n",
      "Webscraping failed: Word Count or Repeated Phrase\n",
      "https://roanoke.com/news/national/fact-checking-claims-about-paul-pelosi-voter-fraud-the-world-series-and-more/article_a0e7f0f5-341b-5067-9611-e30f9df17c82.html?utm_campaign=snd-autopilot&utm_medium=social&utm_source=twitter_roanoketimes\n",
      "Word count:  42\n",
      "Repeated phrases:  1\n",
      "\n",
      "\n",
      "Webscraping failed: Social Media\n",
      "https://twitter.com/JonathanOC/status/1603284900370530309\n",
      "\n",
      "\n",
      "Webscraping failed: Social Media\n",
      "https://twitter.com/PapiTrumpo/status/1592719105827954689\n",
      "\n",
      "\n",
      "Webscraping failed: Social Media\n",
      "https://twitter.com/theblaze/status/1588544613765287938?ref_src=twsrc%5Etfw%7Ctwcamp%5Etweetembed%7Ctwterm%5E1588544613765287938%7Ctwgr%5Eabbbef07f6ea03663a21f2754fa9e29c422470d1%7Ctwcon%5Es1_c10&ref_url=https%3A%2F%2Fwww.westernjournal.com%2Freport-nbc-suspends-reporter-bombshell-paul-pelosi-story-silence-matter-speaks-volumes%2F\n",
      "\n",
      "\n",
      "Webscraping Error: Couldn't Parse\n",
      "https://www.waotechnology.com/nancy-pelosi-to-handle-her-future-political-plans-on-thursday/\n",
      "\n",
      "\n",
      "150  Articles Completed\n",
      "Webscraping failed: Social Media\n",
      "https://twitter.com/citizenj17/status/1597994697577754627\n",
      "\n",
      "\n",
      "Webscraping failed: Word Count or Repeated Phrase\n",
      "https://l.smartnews.com/5o4Ta/yaHNOi\n",
      "Word count:  16\n",
      "Repeated phrases:  1\n",
      "\n",
      "\n",
      "Webscraping Error: Couldn't Parse\n",
      "http://politico.com/f/?id=00000184\n",
      "\n",
      "\n",
      "Webscraping failed: Social Media\n",
      "https://twitter.com/WSAV/status/1588289949039632384\n",
      "\n",
      "\n",
      "Webscraping failed: Word Count or Repeated Phrase\n",
      "https://www.msn.com/en-gb/news/world/video-shows-arizona-gop-candidate-kari-lake-drawing-disturbing-laugh-with-joke-about-paul-pelosi-attack/ar-AA13B0Nx\n",
      "Word count:  1\n",
      "Repeated phrases:  0\n",
      "\n",
      "\n",
      "Webscraping failed: Word Count or Repeated Phrase\n",
      "https://www.washingtonexaminer.com/videos/the-debrief-conn-carroll-on-democrats-claiming-threats-to-democracy\n",
      "Word count:  33\n",
      "Repeated phrases:  1\n",
      "\n",
      "\n",
      "Webscraping failed: Social Media\n",
      "https://twitter.com/JalisaDanielle_/status/1590842064438116352\n",
      "\n",
      "\n",
      "160  Articles Completed\n",
      "Webscraping failed: Social Media\n",
      "https://twitter.com/theleoterrell/status/1593398995316973568\n",
      "\n",
      "\n",
      "Webscraping failed: Word Count or Repeated Phrase\n",
      "https://www.msn.com/en-us/news/politics/who-raised-you-kevin-mccarthy-shamed-by-msnbc-s-mika-for-disgusting-treatment-of-pelosi/ar-AA14gjqD?ocid=msedgdhp&pc=U531&cvid=52b80dd9a22c482e943fb7a75e1df07e\n",
      "Word count:  1\n",
      "Repeated phrases:  0\n",
      "\n",
      "\n",
      "Webscraping failed: Social Media\n",
      "https://youtu.be/MlisggXZiHs\n",
      "\n",
      "\n",
      "Webscraping failed: Social Media\n",
      "https://twitter.com/BonBee81/status/1593410173581725699\n",
      "\n",
      "\n",
      "Webscraping failed: Social Media\n",
      "https://twitter.com/thehill/status/1604188695938363392\n",
      "\n",
      "\n",
      "170  Articles Completed\n",
      "Webscraping failed: Word Count or Repeated Phrase\n",
      "https://www.thedailybeast.com/david-depape-suspect-in-san-francisco-attack-on-nancy-pelosis-husband-paul-had-list-of-targets-report-says?source=twitter&via=mobile\n",
      "Word count:  25\n",
      "Repeated phrases:  1\n",
      "\n",
      "\n",
      "Webscraping failed: Word Count or Repeated Phrase\n",
      "https://thebeltwayreport.com/2022/12/chuck-schumer-throws-pelosi-under-the-bus-shes-finished/\n",
      "Word count:  24\n",
      "Repeated phrases:  1\n",
      "\n",
      "\n",
      "Webscraping failed: Social Media\n",
      "https://twitter.com/BoSnerdley/status/1599611124244152320\n",
      "\n",
      "\n",
      "Webscraping failed: Social Media\n",
      "https://youtu.be/VdphvuyaV_I\n",
      "\n",
      "\n",
      "Webscraping Error: Couldn't Parse\n",
      "https://www.waotechnology.com/finish-of-an-period-pelosi-steps-down-as-home-democratic-chief-2/\n",
      "\n",
      "\n",
      "Webscraping failed: Social Media\n",
      "https://twitter.com/DineshDSouza/status/1596973293147672577\n",
      "\n",
      "\n",
      "Webscraping Error: Couldn't Parse\n",
      "http://dlvr.it/Sc7bk5\n",
      "\n",
      "\n",
      "180  Articles Completed\n",
      "Webscraping failed: Word Count or Repeated Phrase\n",
      "https://l.smartnews.com/MhDE6/gz9DR3\n",
      "Word count:  16\n",
      "Repeated phrases:  1\n",
      "\n",
      "\n",
      "Webscraping failed: Social Media\n",
      "https://twitter.com/AndyHarrisFan/status/1589331469977423872\n",
      "\n",
      "\n",
      "Webscraping failed: Word Count or Repeated Phrase\n",
      "https://www.msn.com/en-us/news/politics/house-speaker-nancy-pelosi-prepares-to-step-down-after-historic-leadership-tenure/ar-AA15z19S?ocid=msedgntp&cvid=6d3fc3c298bf4d3aab77a3f6885a495d\n",
      "Word count:  1\n",
      "Repeated phrases:  0\n",
      "\n",
      "\n",
      "Webscraping Error: Couldn't Parse\n",
      "https://insideus.net/pelosi-says-horrible-gop-reaction-to-husbands-attack-may-have-turned-off-some-voters-cnn-politics-inside-us/\n",
      "\n",
      "\n",
      "Webscraping failed: Social Media\n",
      "https://twitter.com/50linesonly/status/1589280093041733633\n",
      "\n",
      "\n",
      "Webscraping failed: Word Count or Repeated Phrase\n",
      "http://dlvr.it/ScFrZz\n",
      "Word count:  37\n",
      "Repeated phrases:  1\n",
      "\n",
      "\n",
      "190  Articles Completed\n",
      "Webscraping failed: Word Count or Repeated Phrase\n",
      "https://on.tnr.com/3UxeJ5p\n",
      "Word count:  46\n",
      "Repeated phrases:  1\n",
      "\n",
      "\n",
      "Webscraping failed: Social Media\n",
      "https://twitter.com/aintscarylarry/status/1587432393580822528\n",
      "\n",
      "\n",
      "Webscraping failed: Social Media\n",
      "https://twitter.com/gitrdonelarry/status/1593750107136339969\n",
      "\n",
      "\n",
      "Webscraping failed: Social Media\n",
      "https://youtu.be/R8pIKgS4wQk\n",
      "\n",
      "\n",
      "200  Articles Completed\n",
      "Webscraping failed: Word Count or Repeated Phrase\n",
      "https://www.msn.com/en-us/news/politics/disturbing-conspiracy-theory-takes-root-following-pelosi-attack/vi-AA13B1QA?ocid=msedgdhp&\n",
      "Word count:  1\n",
      "Repeated phrases:  0\n",
      "\n",
      "\n",
      "Webscraping Error: Couldn't Parse\n",
      "https://artandpia.com/paul-pelosi-attacker-pleads-not-guilty-to-attempted-murder-and-assault/\n",
      "\n",
      "\n",
      "Webscraping Error: Couldn't Parse\n",
      "https://oddcrimes.com/static/2022/11/02/Accused-Pelosi-Attacker-Allegedly-Had-Plans-To-Target-Other-Politicians.php\n",
      "\n",
      "\n",
      "Webscraping failed: Word Count or Repeated Phrase\n",
      "https://www.msn.com/en-us/news/politics/msnbc-legal-expert-blames-marjorie-taylor-greene-for-hammer-attack-on-nancy-pelosi-s-husband-a-kook-with-a-lot-of-power/ar-AA13CmGW?ocid=msedgntp&cvid=a8caad2aec2a43f68e4133132cd79d6c\n",
      "Word count:  1\n",
      "Repeated phrases:  0\n",
      "\n",
      "\n",
      "Webscraping failed: Word Count or Repeated Phrase\n",
      "https://bit.ly/3fDdbrr\n",
      "Word count:  1\n",
      "Repeated phrases:  0\n",
      "\n",
      "\n",
      "Webscraping Error: Couldn't Parse\n",
      "https://on.wsj.com/3g7wt8G\n",
      "\n",
      "\n",
      "210  Articles Completed\n",
      "Webscraping failed: Word Count or Repeated Phrase\n",
      "https://www.theguardian.com/us-news/video/2022/nov/18/nancy-pelosi-key-moments-from-the-democrats-time-as-house-speaker-video?CMP=twt_b-gdnvideo\n",
      "Word count:  84\n",
      "Repeated phrases:  1\n",
      "\n",
      "\n",
      "Webscraping failed: Social Media\n",
      "https://youtu.be/fNCvWvLn-cg\n",
      "\n",
      "\n",
      "Webscraping failed: Social Media\n",
      "https://twitter.com/chuckcallesto/status/1597294772842278912\n",
      "\n",
      "\n",
      "Webscraping failed: Word Count or Repeated Phrase\n",
      "https://ift.tt/3HxDGN2\n",
      "Word count:  1\n",
      "Repeated phrases:  0\n",
      "\n",
      "\n",
      "Webscraping failed: Social Media\n",
      "https://twitter.com/jdcocchiarella/status/1604934934208122880\n",
      "\n",
      "\n",
      "Webscraping failed: Social Media\n",
      "https://twitter.com/annamargaretap1/status/1607481717232738305\n",
      "\n",
      "\n",
      "220  Articles Completed\n",
      "Webscraping failed: Social Media\n",
      "https://twitter.com/PamelaHensley22/status/1591974201304707073\n",
      "\n",
      "\n",
      "Webscraping failed: Word Count or Repeated Phrase\n",
      "https://images.app.goo.gl/RR5Uwy7KGgDXnPAcA\n",
      "Word count:  24\n",
      "Repeated phrases:  1\n",
      "\n",
      "\n",
      "Webscraping failed: Word Count or Repeated Phrase\n",
      "https://vrtnws.be/p.DYakM9jom\n",
      "Word count:  82\n",
      "Repeated phrases:  1\n",
      "\n",
      "\n",
      "Webscraping failed: Word Count or Repeated Phrase\n",
      "https://www.msn.com/en-US/news/politics/press-the-inevitable-result-of-years-of-attacking-speaker-pelosi/ar-AA13BKPv?ocid=sapphireappshare\n",
      "Word count:  1\n",
      "Repeated phrases:  0\n",
      "\n",
      "\n",
      "Webscraping failed: Word Count or Repeated Phrase\n",
      "https://ift.tt/KaYNdfz\n",
      "Word count:  113\n",
      "Repeated phrases:  1\n",
      "\n",
      "\n",
      "Webscraping failed: Word Count or Repeated Phrase\n",
      "https://rumble.com/v206qc8-my-mom-eats-nails-for-breakfast-nancy-pelosis-daughter.html\n",
      "Word count:  23\n",
      "Repeated phrases:  1\n",
      "\n",
      "\n",
      "230  Articles Completed\n",
      "Webscraping failed: Word Count or Repeated Phrase\n",
      "https://go.politicoemail.com/?qs=e280541eac911ebb91375586ec0898a6a8ce4c3c30628340457cb05a1392b7bcdbe79c27e3dc2fa83a4622b17c9b69f9\n",
      "Word count:  1\n",
      "Repeated phrases:  0\n",
      "\n",
      "\n",
      "Webscraping Error: Couldn't Parse\n",
      "https://www.newsweek.com/chris-miller-donald-trump-deploy-jan-6-troops-capitol-riot-contradiction-testimony-1728207\n",
      "\n",
      "\n",
      "Webscraping failed: Word Count or Repeated Phrase\n",
      "https://www.msn.com/en-us/news/politics/suspect-in-pelosi-attack-was-in-the-us-illegally-officials-say/ar-AA13Hpbg?ocid=msedgdhp&pc=U531&cvid=960f817762fc445589134993bd0599e1\n",
      "Word count:  1\n",
      "Repeated phrases:  0\n",
      "\n",
      "\n",
      "Webscraping Error: Couldn't Parse\n",
      "https://thehill.com/homenews/sunday-talk-shows/482178-dershowitz-schumer-and-pelosi-have-to-go/\n",
      "\n",
      "\n",
      "Webscraping failed: Social Media\n",
      "https://twitter.com/DesignerErica27/status/1587341015157030912\n",
      "\n",
      "\n",
      "Webscraping failed: Social Media\n",
      "https://twitter.com/TPostMillennial/status/1587249766752133120\n",
      "\n",
      "\n",
      "Webscraping failed: Word Count or Repeated Phrase\n",
      "https://lnkd.in/gYWyHUPx\n",
      "Word count:  32\n",
      "Repeated phrases:  1\n",
      "\n",
      "\n",
      "Webscraping Error: Couldn't Parse\n",
      "https://manoprema.com/democrats-are-ready-to-pick-hakeem-jeffries-as-nancy-pelosis-successor/\n",
      "\n",
      "\n",
      "Webscraping Error: Couldn't Parse\n",
      "https://ca.news.yahoo.com/pelosi-attack-suspect-plunged-online-154508079.html?soc_src=social-sh&soc_trk=tw&tsrc=twtr\n",
      "\n",
      "\n",
      "240  Articles Completed\n",
      "Webscraping Error: Couldn't Parse\n",
      "https://www.rawstory.com/paul-pelosi-misinformation-came-from-all-levels-of-republican-politics-report/?traffic_source=Connatix\n",
      "\n",
      "\n",
      "Webscraping failed: Social Media\n",
      "https://twitter.com/cafreeland/status/1593412768744472576\n",
      "\n",
      "\n",
      "Webscraping failed: Social Media\n",
      "https://www.youtube.com/watch?v=tF3r9SWuujM\n",
      "\n",
      "\n",
      "Webscraping failed: Social Media\n",
      "https://twitter.com/gopturntable/status/1608137834493521920\n",
      "\n",
      "\n",
      "Webscraping failed: Social Media\n",
      "https://twitter.com/TheShadowPrezz/status/1588484630289985536\n",
      "\n",
      "\n",
      "Webscraping failed: Social Media\n",
      "https://twitter.com/fibci2/status/1603079876298543104\n",
      "\n",
      "\n",
      "250  Articles Completed\n",
      "Webscraping failed: Word Count or Repeated Phrase\n",
      "https://www.infowars.com/posts/sec-chairman-gensler-scrubbed-evidence-of-clinton-soros-and-pelosi-meetings-foia-lawsuit-2/\n",
      "Word count:  1\n",
      "Repeated phrases:  0\n",
      "\n",
      "\n",
      "Webscraping failed: Social Media\n",
      "https://twitter.com/SilvioTattiscon/status/1607415309606047745\n",
      "\n",
      "\n",
      "Webscraping failed: Social Media\n",
      "https://twitter.com/greg_price11/status/1588581845087944704\n",
      "\n",
      "\n",
      "Webscraping failed: Word Count or Repeated Phrase\n",
      "https://trib.al/2sWxhhm\n",
      "Word count:  1\n",
      "Repeated phrases:  0\n",
      "\n",
      "\n",
      "Webscraping failed: Word Count or Repeated Phrase\n",
      "https://fb.watch/gyiojrnMR7/?mibextid=T98AZd\n",
      "Word count:  1\n",
      "Repeated phrases:  0\n",
      "\n",
      "\n",
      "Webscraping failed: Social Media\n",
      "https://twitter.com/anxietyman2/status/1603584235285233664\n",
      "\n",
      "\n",
      "Webscraping failed: Social Media\n",
      "https://twitter.com/CitizenFreePres/status/1604919916196495388\n",
      "\n",
      "\n",
      "260  Articles Completed\n",
      "Webscraping failed: Word Count or Repeated Phrase\n",
      "https://www.breitbart.com/t/assets/html/disqus/006.html?udca=https://www.breitbart.com/the-media/2022/11/16/nolte-nbc-reporter-suspended-erroneous-paul-pelosi-report/|22610498|Nolte%3A%20NBC%20Reporter%20Suspended%20over%20%26%238216%3BErroneous%26%238217%3B%20Paul%20Pelosi%20Report\n",
      "Word count:  1\n",
      "Repeated phrases:  0\n",
      "\n",
      "\n",
      "Webscraping failed: Social Media\n",
      "https://twitter.com/andersonDrLJA/status/1605275978712100865\n",
      "\n",
      "\n",
      "Webscraping failed: Social Media\n",
      "https://youtu.be/_MijOagzmrQ\n",
      "\n",
      "\n",
      "Webscraping failed: Word Count or Repeated Phrase\n",
      "https://apple.news/AyxC9-ks0RKm6YLA332dlxQ\n",
      "Word count:  17\n",
      "Repeated phrases:  1\n",
      "\n",
      "\n",
      "Webscraping failed: Social Media\n",
      "https://twitter.com/rolandlisf/status/1178039984181243904?s=20\n",
      "\n",
      "\n",
      "Webscraping failed: Social Media\n",
      "https://twitter.com/TobiAyodele/status/1605768571652636672\n",
      "\n",
      "\n",
      "Webscraping failed: Social Media\n",
      "https://twitter.com/jmw512/status/1602266103526625280\n",
      "\n",
      "\n",
      "Webscraping failed: Social Media\n",
      "https://youtu.be/9ev4oyZASoI\n",
      "\n",
      "\n",
      "270  Articles Completed\n",
      "Webscraping failed: Word Count or Repeated Phrase\n",
      "https://technicalearn.com/pelosi-says-her-husband-paying-the-price-for-divisive-political-landscape/\n",
      "Word count:  1\n",
      "Repeated phrases:  0\n",
      "\n",
      "\n",
      "Webscraping failed: Word Count or Repeated Phrase\n",
      "https://www.bbc.co.uk/news/uk-northern-ireland-63693749\n",
      "Word count:  29\n",
      "Repeated phrases:  1\n",
      "\n",
      "\n",
      "Webscraping failed: Social Media\n",
      "https://twitter.com/WaysandMeansGOP/status/1328810140850548737\n",
      "\n",
      "\n",
      "Webscraping failed: Word Count or Repeated Phrase\n",
      "http://dlvr.it/Sc392Z\n",
      "Word count:  66\n",
      "Repeated phrases:  1\n",
      "\n",
      "\n",
      "Webscraping failed: Social Media\n",
      "https://twitter.com/INFJLOVE/status/1600637566000185344\n",
      "\n",
      "\n",
      "Webscraping failed: Social Media\n",
      "https://twitter.com/rachaelmbade/status/1593295449011548161\n",
      "\n",
      "\n",
      "Webscraping failed: Word Count or Repeated Phrase\n",
      "https://www.openweb.com/share/2H8WMcmnsli9MCSLWxslnLWBHcV\n",
      "Word count:  1\n",
      "Repeated phrases:  0\n",
      "\n",
      "\n",
      "280  Articles Completed\n",
      "Webscraping Error: Couldn't Parse\n",
      "https://ift.tt/h1fUgNL\n",
      "\n",
      "\n",
      "Webscraping failed: Word Count or Repeated Phrase\n",
      "https://jaunbaba.com/nancy-pelosi-wont-seek-leadership-role-plans-to-stay-in-congress/\n",
      "Word count:  25\n",
      "Repeated phrases:  1\n",
      "\n",
      "\n",
      "Webscraping failed: Social Media\n",
      "https://twitter.com/LangmanVince/status/1603726556240674817\n",
      "\n",
      "\n",
      "Webscraping failed: Word Count or Repeated Phrase\n",
      "https://bbc.in/3zzYs7H\n",
      "Word count:  38\n",
      "Repeated phrases:  1\n",
      "\n",
      "\n",
      "Webscraping failed: Social Media\n",
      "https://youtu.be/S0Vzz_P9JBk\n",
      "\n",
      "\n",
      "Webscraping Error: Couldn't Parse\n",
      "https://thehill.com/homenews/house/3729060-federal-grand-jury-indicts-suspect-in-paul-pelosi-attack/\n",
      "\n",
      "\n",
      "290  Articles Completed\n",
      "Webscraping Error: Couldn't Parse\n",
      "http://trib.al/h1qF79J\n",
      "\n",
      "\n",
      "Webscraping failed: Social Media\n",
      "https://twitter.com/AWeissmann_/status/1587068655203926016\n",
      "\n",
      "\n",
      "Webscraping failed: Social Media\n",
      "https://twitter.com/Danycharli/status/1593345179087519753\n",
      "\n",
      "\n",
      "Webscraping Error: Couldn't Parse\n",
      "https://expanduse.com/donald-trump-joins-the-paul-pelosi-conspiracy-caucus/\n",
      "\n",
      "\n",
      "Webscraping failed: Social Media\n",
      "https://twitter.com/GovPierluisi/status/1593302318841270273\n",
      "\n",
      "\n",
      "Webscraping failed: Word Count or Repeated Phrase\n",
      "https://ift.tt/ehF9JK0\n",
      "Word count:  113\n",
      "Repeated phrases:  1\n",
      "\n",
      "\n"
     ]
    },
    {
     "data": {
      "text/html": [
       "<div>\n",
       "<style scoped>\n",
       "    .dataframe tbody tr th:only-of-type {\n",
       "        vertical-align: middle;\n",
       "    }\n",
       "\n",
       "    .dataframe tbody tr th {\n",
       "        vertical-align: top;\n",
       "    }\n",
       "\n",
       "    .dataframe thead th {\n",
       "        text-align: right;\n",
       "    }\n",
       "</style>\n",
       "<table border=\"1\" class=\"dataframe\">\n",
       "  <thead>\n",
       "    <tr style=\"text-align: right;\">\n",
       "      <th></th>\n",
       "      <th>URL</th>\n",
       "      <th>Sentiment Score</th>\n",
       "      <th>Sentiment Label</th>\n",
       "      <th>Subjectivity Score</th>\n",
       "      <th>Positive Words</th>\n",
       "      <th>Negative Words</th>\n",
       "      <th>Text</th>\n",
       "    </tr>\n",
       "  </thead>\n",
       "  <tbody>\n",
       "    <tr>\n",
       "      <th>3</th>\n",
       "      <td>https://fee.org/articles/nancy-pelosi-snuck-35...</td>\n",
       "      <td>0.17</td>\n",
       "      <td>Positive</td>\n",
       "      <td>0.55</td>\n",
       "      <td>many, well-off, tremendous, right, really, muc...</td>\n",
       "      <td>relatively, due, average, other, painful</td>\n",
       "      <td>at some point, when the election chaos is fina...</td>\n",
       "    </tr>\n",
       "    <tr>\n",
       "      <th>8</th>\n",
       "      <td>https://www.smobserved.com/story/2022/10/29/ne...</td>\n",
       "      <td>0.08</td>\n",
       "      <td>Neutral Positive</td>\n",
       "      <td>0.40</td>\n",
       "      <td>reasonable, certain, able, easy, effective, am...</td>\n",
       "      <td>ridiculous, possibly, serious, unanswered, ext...</td>\n",
       "      <td>\"paul pelosi stated that he doesn't know who t...</td>\n",
       "    </tr>\n",
       "    <tr>\n",
       "      <th>9</th>\n",
       "      <td>https://www.elespanol.com/mundo/america/202211...</td>\n",
       "      <td>-0.40</td>\n",
       "      <td>Negative</td>\n",
       "      <td>0.55</td>\n",
       "      <td></td>\n",
       "      <td>base</td>\n",
       "      <td>entre vítores y aplausos, nancy pelosi ha anun...</td>\n",
       "    </tr>\n",
       "    <tr>\n",
       "      <th>10</th>\n",
       "      <td>https://buff.ly/3HRKtPm</td>\n",
       "      <td>-0.08</td>\n",
       "      <td>Negative</td>\n",
       "      <td>0.38</td>\n",
       "      <td>responsible, economic, legal, potentially</td>\n",
       "      <td>brutal, military, criminal, base, illegal</td>\n",
       "      <td>departamento de américa del norte\\nartículos\\n...</td>\n",
       "    </tr>\n",
       "    <tr>\n",
       "      <th>11</th>\n",
       "      <td>https://www.courttv.com/news/paul-pelosi-attac...</td>\n",
       "      <td>-0.08</td>\n",
       "      <td>Negative</td>\n",
       "      <td>0.44</td>\n",
       "      <td>not, right, married, own, nearly</td>\n",
       "      <td>complaint, other, shocked, evil, criminal, dow...</td>\n",
       "      <td>san francisco (ap) — the man who allegedly bro...</td>\n",
       "    </tr>\n",
       "    <tr>\n",
       "      <th>...</th>\n",
       "      <td>...</td>\n",
       "      <td>...</td>\n",
       "      <td>...</td>\n",
       "      <td>...</td>\n",
       "      <td>...</td>\n",
       "      <td>...</td>\n",
       "      <td>...</td>\n",
       "    </tr>\n",
       "    <tr>\n",
       "      <th>289</th>\n",
       "      <td>https://www.theepochtimes.com/man-accused-of-a...</td>\n",
       "      <td>-0.02</td>\n",
       "      <td>Neutral Negative</td>\n",
       "      <td>0.33</td>\n",
       "      <td>really, striking, superior, not, right, promin...</td>\n",
       "      <td>less, seriously, absence, forced, alleged, sic...</td>\n",
       "      <td>david depape, the man who allegedly assaulted ...</td>\n",
       "    </tr>\n",
       "    <tr>\n",
       "      <th>292</th>\n",
       "      <td>https://nationalfile.com/rep-elect-luna-oppose...</td>\n",
       "      <td>0.05</td>\n",
       "      <td>Neutral Positive</td>\n",
       "      <td>0.38</td>\n",
       "      <td>many, able, secure, fair, clear, good, suitabl...</td>\n",
       "      <td>failed, dark, powerless, previously, spent, co...</td>\n",
       "      <td>last updated on december 30, 2022\\nus represen...</td>\n",
       "    </tr>\n",
       "    <tr>\n",
       "      <th>294</th>\n",
       "      <td>https://welovetrump.com/2022/11/17/pelosi-make...</td>\n",
       "      <td>0.22</td>\n",
       "      <td>Positive</td>\n",
       "      <td>0.46</td>\n",
       "      <td>awesome, great, free, many, most, new, amazing...</td>\n",
       "      <td>jail, narrowly, sick, down, spent, wrong, no</td>\n",
       "      <td>we may receive compensation from affiliate par...</td>\n",
       "    </tr>\n",
       "    <tr>\n",
       "      <th>295</th>\n",
       "      <td>https://www.politico.com/news/magazine/2022/10...</td>\n",
       "      <td>0.07</td>\n",
       "      <td>Neutral Positive</td>\n",
       "      <td>0.43</td>\n",
       "      <td>many, fun, free, proud, right, prominent, famo...</td>\n",
       "      <td>angry, dangerous, fanatic, harsh, stark, tired...</td>\n",
       "      <td>want to read more stories like this? politico ...</td>\n",
       "    </tr>\n",
       "    <tr>\n",
       "      <th>298</th>\n",
       "      <td>https://bismarcktribune.com/news/national/man-...</td>\n",
       "      <td>0.04</td>\n",
       "      <td>Neutral</td>\n",
       "      <td>0.37</td>\n",
       "      <td>superior, prominent, early, detailed, first</td>\n",
       "      <td>less, stark, behind, other, allegedly</td>\n",
       "      <td>san francisco (ap) — the man accused of breaki...</td>\n",
       "    </tr>\n",
       "  </tbody>\n",
       "</table>\n",
       "<p>108 rows × 7 columns</p>\n",
       "</div>"
      ],
      "text/plain": [
       "                                                   URL  Sentiment Score  \\\n",
       "3    https://fee.org/articles/nancy-pelosi-snuck-35...             0.17   \n",
       "8    https://www.smobserved.com/story/2022/10/29/ne...             0.08   \n",
       "9    https://www.elespanol.com/mundo/america/202211...            -0.40   \n",
       "10                             https://buff.ly/3HRKtPm            -0.08   \n",
       "11   https://www.courttv.com/news/paul-pelosi-attac...            -0.08   \n",
       "..                                                 ...              ...   \n",
       "289  https://www.theepochtimes.com/man-accused-of-a...            -0.02   \n",
       "292  https://nationalfile.com/rep-elect-luna-oppose...             0.05   \n",
       "294  https://welovetrump.com/2022/11/17/pelosi-make...             0.22   \n",
       "295  https://www.politico.com/news/magazine/2022/10...             0.07   \n",
       "298  https://bismarcktribune.com/news/national/man-...             0.04   \n",
       "\n",
       "      Sentiment Label  Subjectivity Score  \\\n",
       "3            Positive                0.55   \n",
       "8    Neutral Positive                0.40   \n",
       "9            Negative                0.55   \n",
       "10           Negative                0.38   \n",
       "11           Negative                0.44   \n",
       "..                ...                 ...   \n",
       "289  Neutral Negative                0.33   \n",
       "292  Neutral Positive                0.38   \n",
       "294          Positive                0.46   \n",
       "295  Neutral Positive                0.43   \n",
       "298           Neutral                0.37   \n",
       "\n",
       "                                        Positive Words  \\\n",
       "3    many, well-off, tremendous, right, really, muc...   \n",
       "8    reasonable, certain, able, easy, effective, am...   \n",
       "9                                                        \n",
       "10           responsible, economic, legal, potentially   \n",
       "11                    not, right, married, own, nearly   \n",
       "..                                                 ...   \n",
       "289  really, striking, superior, not, right, promin...   \n",
       "292  many, able, secure, fair, clear, good, suitabl...   \n",
       "294  awesome, great, free, many, most, new, amazing...   \n",
       "295  many, fun, free, proud, right, prominent, famo...   \n",
       "298        superior, prominent, early, detailed, first   \n",
       "\n",
       "                                        Negative Words  \\\n",
       "3             relatively, due, average, other, painful   \n",
       "8    ridiculous, possibly, serious, unanswered, ext...   \n",
       "9                                                 base   \n",
       "10           brutal, military, criminal, base, illegal   \n",
       "11   complaint, other, shocked, evil, criminal, dow...   \n",
       "..                                                 ...   \n",
       "289  less, seriously, absence, forced, alleged, sic...   \n",
       "292  failed, dark, powerless, previously, spent, co...   \n",
       "294       jail, narrowly, sick, down, spent, wrong, no   \n",
       "295  angry, dangerous, fanatic, harsh, stark, tired...   \n",
       "298              less, stark, behind, other, allegedly   \n",
       "\n",
       "                                                  Text  \n",
       "3    at some point, when the election chaos is fina...  \n",
       "8    \"paul pelosi stated that he doesn't know who t...  \n",
       "9    entre vítores y aplausos, nancy pelosi ha anun...  \n",
       "10   departamento de américa del norte\\nartículos\\n...  \n",
       "11   san francisco (ap) — the man who allegedly bro...  \n",
       "..                                                 ...  \n",
       "289  david depape, the man who allegedly assaulted ...  \n",
       "292  last updated on december 30, 2022\\nus represen...  \n",
       "294  we may receive compensation from affiliate par...  \n",
       "295  want to read more stories like this? politico ...  \n",
       "298  san francisco (ap) — the man accused of breaki...  \n",
       "\n",
       "[108 rows x 7 columns]"
      ]
     },
     "execution_count": 90,
     "metadata": {},
     "output_type": "execute_result"
    }
   ],
   "source": [
    "# Loading the nlp pipeline and adding spacytextblob\n",
    "nlp = spacy.load('en_core_web_sm')\n",
    "nlp.add_pipe('spacytextblob') #This is used in our sentiment analysis\n",
    "\n",
    "# Using panda to load in our .csv file\n",
    "# File we are checking\n",
    "df = pd.read_csv(csv_file)\n",
    "# Column name we are checking (You can switch this column name to match the csv file)\n",
    "urls = df[\"Address\"].tolist()\n",
    "\n",
    "# Trim to only include the first url_max URLs\n",
    "if url_max > 0:\n",
    "    urls = urls[0:url_max]\n",
    "\n",
    "# Here is where we start the sentiment analysis over all articles\n",
    "df = main_pipeline_sentiment_analysis(urls)\n",
    "df\n"
   ]
  },
  {
   "cell_type": "markdown",
   "id": "7d0b94a9",
   "metadata": {},
   "source": [
    "# TOPIC MODELING"
   ]
  },
  {
   "cell_type": "markdown",
   "id": "40eba53b",
   "metadata": {},
   "source": [
    "# Create Topic Model w/ Highest Coherence"
   ]
  },
  {
   "cell_type": "markdown",
   "id": "e01f58b3",
   "metadata": {},
   "source": [
    "Here we create our LDA topic model, article corpus, and topic-level sentiment analysis dictionary.\n",
    "\n",
    "First we pass in our dataframe df and associated settings. The function will create topic models with varying number of topics, compute the topic coherence score for that number of topics over our articles, and return to us the LDA model that has the highest coherence score. It will display a small graphic showing the topic coherence for each number of topics we tested.\n",
    "\n",
    "Next we will create our topic-level sentiment analysis dictionary using both our dataframe df and the new LDA_model and corpus we just created. This will give us a dictionary of the averaged sentiment scores for every topic of an article, for all articles."
   ]
  },
  {
   "cell_type": "code",
   "execution_count": 91,
   "id": "52b11718",
   "metadata": {},
   "outputs": [
    {
     "data": {
      "image/png": "[encoded data removed]",
      "text/plain": [
       "<Figure size 432x288 with 1 Axes>"
      ]
     },
     "metadata": {
      "needs_background": "light"
     },
     "output_type": "display_data"
    }
   ],
   "source": [
    "#This will generate multiple topic models with various topic count, then return\n",
    "# the model with highest coherence it will also display a quick visual of\n",
    "# coherence values, to understand what topic count is best and why it was chosen\n",
    "lda_model, corpus = create_lda_model(topic_model_dict[\"topic_limit\"],\n",
    "                                     topic_model_dict[\"topic_start\"], \n",
    "                                     topic_model_dict[\"topic_step\"])\n",
    "\n",
    "# LDA_model is the lda model we will work with, corpus is the actual corpus of articles we use\n",
    "\n",
    "\n",
    "# Here we are making our dictionary of all articles and their associated\n",
    "# topic-level sentiment for every topic\n",
    "topic_level_sentiment = topic_sentence_sentiment_analysis(df, lda_model)\n"
   ]
  },
  {
   "cell_type": "markdown",
   "id": "e90c4670",
   "metadata": {},
   "source": [
    "# DATA VISUALIZATION"
   ]
  },
  {
   "cell_type": "markdown",
   "id": "2cf78edd",
   "metadata": {},
   "source": [
    "## Pre-processing dataframe for visualization"
   ]
  },
  {
   "cell_type": "markdown",
   "id": "08f34a83",
   "metadata": {},
   "source": [
    "Here we preprocess our dataframe to add in a few relevant columns for data vis, as well as creating our topic relevancy dataframe and weighted sentiment dataframe over all topics for all articles. \n",
    "\n",
    "We add the Topics, Main Topic, Main Topic Score, and Shortened Address to the main dataframe (using our preprocess_dataframe_for_datavis() function). This lets the data vis section easily grab the information.\n",
    "\n",
    "Next we create the topic relevancy dataframe df_topics. In df_topics, each row is an article, and each column is a topic. For an article, every cell value represents the relevancy of that topic to that article. So if row 0 column 1 is 0.998, that means Article 0 has a 0.998 relevancy score on Topic 1.\n",
    "\n",
    "We create the per_topic_df, which uses our topic-based sentiment dictionary and our topic relevancy dataframe to make a dataframe where each row is an article and each column is a topic. The cell contains data of the form (sentiment, relevancy) which is a tuple that describes the sentiment value and topic relevancy of that article (row) for that topic (column)."
   ]
  },
  {
   "cell_type": "code",
   "execution_count": 92,
   "id": "097d2461",
   "metadata": {
    "scrolled": true
   },
   "outputs": [
    {
     "data": {
      "text/html": [
       "<div>\n",
       "<style scoped>\n",
       "    .dataframe tbody tr th:only-of-type {\n",
       "        vertical-align: middle;\n",
       "    }\n",
       "\n",
       "    .dataframe tbody tr th {\n",
       "        vertical-align: top;\n",
       "    }\n",
       "\n",
       "    .dataframe thead th {\n",
       "        text-align: right;\n",
       "    }\n",
       "</style>\n",
       "<table border=\"1\" class=\"dataframe\">\n",
       "  <thead>\n",
       "    <tr style=\"text-align: right;\">\n",
       "      <th></th>\n",
       "      <th>URL</th>\n",
       "      <th>Sentiment Score</th>\n",
       "      <th>Sentiment Label</th>\n",
       "      <th>Subjectivity Score</th>\n",
       "      <th>Positive Words</th>\n",
       "      <th>Negative Words</th>\n",
       "      <th>Text</th>\n",
       "      <th>Topics</th>\n",
       "      <th>Main Topic</th>\n",
       "      <th>Main Topic Score</th>\n",
       "      <th>Shortened Address</th>\n",
       "    </tr>\n",
       "  </thead>\n",
       "  <tbody>\n",
       "    <tr>\n",
       "      <th>146</th>\n",
       "      <td>https://open.substack.com/pub/steveschmidt/p/n...</td>\n",
       "      <td>0.16</td>\n",
       "      <td>Positive</td>\n",
       "      <td>0.45</td>\n",
       "      <td>able, responsible, better, beautiful, wise, pr...</td>\n",
       "      <td>badly, cold, hard, troubled, few, dangerous, f...</td>\n",
       "      <td>nancy pelosi is a true leader. there are few a...</td>\n",
       "      <td>[(0, 0.77969927), (1, 0.21900257)]</td>\n",
       "      <td>0</td>\n",
       "      <td>0.779699</td>\n",
       "      <td>open.substack.com</td>\n",
       "    </tr>\n",
       "    <tr>\n",
       "      <th>295</th>\n",
       "      <td>https://www.politico.com/news/magazine/2022/10...</td>\n",
       "      <td>0.07</td>\n",
       "      <td>Neutral Positive</td>\n",
       "      <td>0.43</td>\n",
       "      <td>many, fun, free, proud, right, prominent, famo...</td>\n",
       "      <td>angry, dangerous, fanatic, harsh, stark, tired...</td>\n",
       "      <td>want to read more stories like this? politico ...</td>\n",
       "      <td>[(0, 0.65339005), (1, 0.021361398), (2, 0.3248...</td>\n",
       "      <td>0</td>\n",
       "      <td>0.653390</td>\n",
       "      <td>www.politico.com</td>\n",
       "    </tr>\n",
       "    <tr>\n",
       "      <th>154</th>\n",
       "      <td>https://buff.ly/3Oj9cgU</td>\n",
       "      <td>0.13</td>\n",
       "      <td>Neutral Positive</td>\n",
       "      <td>0.49</td>\n",
       "      <td>near, nice, welcome, greater, straight, better...</td>\n",
       "      <td>guilty, average, illegal, sinister, loose, des...</td>\n",
       "      <td>highlighted passages are false or inaccurate. ...</td>\n",
       "      <td>[(0, 0.99973726)]</td>\n",
       "      <td>0</td>\n",
       "      <td>0.999737</td>\n",
       "      <td>buff.ly</td>\n",
       "    </tr>\n",
       "    <tr>\n",
       "      <th>163</th>\n",
       "      <td>https://soundcloud.com/citationsneeded/ep-169-...</td>\n",
       "      <td>0.14</td>\n",
       "      <td>Neutral Positive</td>\n",
       "      <td>0.58</td>\n",
       "      <td>free, many, particularly, more, right, very, a...</td>\n",
       "      <td>not, cynical, worse</td>\n",
       "      <td>\"yes, undocumented immigrants take jobs from w...</td>\n",
       "      <td>[(0, 0.99439293)]</td>\n",
       "      <td>0</td>\n",
       "      <td>0.994393</td>\n",
       "      <td>soundcloud.com</td>\n",
       "    </tr>\n",
       "    <tr>\n",
       "      <th>202</th>\n",
       "      <td>https://time.com/3702584/gay-marriage-axelrod-...</td>\n",
       "      <td>0.10</td>\n",
       "      <td>Neutral Positive</td>\n",
       "      <td>0.43</td>\n",
       "      <td>comfortable, higher, unexpected, new, particul...</td>\n",
       "      <td>military, black, not, behind, other, closed, g...</td>\n",
       "      <td>barack obama misled americans for his own poli...</td>\n",
       "      <td>[(0, 0.69077927), (1, 0.21656114), (3, 0.08819...</td>\n",
       "      <td>0</td>\n",
       "      <td>0.690779</td>\n",
       "      <td>time.com</td>\n",
       "    </tr>\n",
       "    <tr>\n",
       "      <th>...</th>\n",
       "      <td>...</td>\n",
       "      <td>...</td>\n",
       "      <td>...</td>\n",
       "      <td>...</td>\n",
       "      <td>...</td>\n",
       "      <td>...</td>\n",
       "      <td>...</td>\n",
       "      <td>...</td>\n",
       "      <td>...</td>\n",
       "      <td>...</td>\n",
       "      <td>...</td>\n",
       "    </tr>\n",
       "    <tr>\n",
       "      <th>206</th>\n",
       "      <td>http://dlvr.it/Sc7ctM</td>\n",
       "      <td>0.00</td>\n",
       "      <td>Neutral Negative</td>\n",
       "      <td>0.00</td>\n",
       "      <td></td>\n",
       "      <td></td>\n",
       "      <td>a presidente da câmara, nancy pelosi, é fotogr...</td>\n",
       "      <td>[(4, 0.9841272)]</td>\n",
       "      <td>4</td>\n",
       "      <td>0.984127</td>\n",
       "      <td>dlvr.it</td>\n",
       "    </tr>\n",
       "    <tr>\n",
       "      <th>106</th>\n",
       "      <td>https://www.sonsof1776.com/2022/09/22/pelosi-u...</td>\n",
       "      <td>0.03</td>\n",
       "      <td>Neutral Negative</td>\n",
       "      <td>0.37</td>\n",
       "      <td>higher, many, challenging, more, social, actio...</td>\n",
       "      <td>unable, approximately, due, half, ill</td>\n",
       "      <td>in response to president joe biden’s assertion...</td>\n",
       "      <td>[(1, 0.18443282), (4, 0.8123718)]</td>\n",
       "      <td>4</td>\n",
       "      <td>0.812372</td>\n",
       "      <td>www.sonsof1776.com</td>\n",
       "    </tr>\n",
       "    <tr>\n",
       "      <th>113</th>\n",
       "      <td>https://www.independent.co.uk/news/world/ameri...</td>\n",
       "      <td>-0.08</td>\n",
       "      <td>Negative</td>\n",
       "      <td>0.45</td>\n",
       "      <td>whole, many, free, thanks, straightforward, of...</td>\n",
       "      <td>terrible, least, criminal, violent, late, othe...</td>\n",
       "      <td>✕ close january 6 panel chair says trump ‘brok...</td>\n",
       "      <td>[(1, 0.37684008), (2, 0.23999228), (4, 0.38023...</td>\n",
       "      <td>4</td>\n",
       "      <td>0.380239</td>\n",
       "      <td>www.independent.co.uk</td>\n",
       "    </tr>\n",
       "    <tr>\n",
       "      <th>196</th>\n",
       "      <td>https://www.newsbreakapp.com/n/0j1zWIzp?pd=0DU...</td>\n",
       "      <td>0.12</td>\n",
       "      <td>Neutral Positive</td>\n",
       "      <td>0.53</td>\n",
       "      <td>young, latest, interested, live, top, clear, b...</td>\n",
       "      <td>widely, secret, long</td>\n",
       "      <td>u.s. depatrment of labor (public domain)\\nit h...</td>\n",
       "      <td>[(1, 0.40376195), (4, 0.5916896)]</td>\n",
       "      <td>4</td>\n",
       "      <td>0.591690</td>\n",
       "      <td>www.newsbreakapp.com</td>\n",
       "    </tr>\n",
       "    <tr>\n",
       "      <th>83</th>\n",
       "      <td>https://link.springer.com/article/10.1007/s110...</td>\n",
       "      <td>0.08</td>\n",
       "      <td>Neutral Positive</td>\n",
       "      <td>0.39</td>\n",
       "      <td>many, professionally, free, able, certain, eff...</td>\n",
       "      <td>heavy, foreign, hidden, narrow, behind, limite...</td>\n",
       "      <td>the purpose of the present study was to explor...</td>\n",
       "      <td>[(4, 0.99942285)]</td>\n",
       "      <td>4</td>\n",
       "      <td>0.999423</td>\n",
       "      <td>link.springer.com</td>\n",
       "    </tr>\n",
       "  </tbody>\n",
       "</table>\n",
       "<p>108 rows × 11 columns</p>\n",
       "</div>"
      ],
      "text/plain": [
       "                                                   URL  Sentiment Score  \\\n",
       "146  https://open.substack.com/pub/steveschmidt/p/n...             0.16   \n",
       "295  https://www.politico.com/news/magazine/2022/10...             0.07   \n",
       "154                            https://buff.ly/3Oj9cgU             0.13   \n",
       "163  https://soundcloud.com/citationsneeded/ep-169-...             0.14   \n",
       "202  https://time.com/3702584/gay-marriage-axelrod-...             0.10   \n",
       "..                                                 ...              ...   \n",
       "206                              http://dlvr.it/Sc7ctM             0.00   \n",
       "106  https://www.sonsof1776.com/2022/09/22/pelosi-u...             0.03   \n",
       "113  https://www.independent.co.uk/news/world/ameri...            -0.08   \n",
       "196  https://www.newsbreakapp.com/n/0j1zWIzp?pd=0DU...             0.12   \n",
       "83   https://link.springer.com/article/10.1007/s110...             0.08   \n",
       "\n",
       "      Sentiment Label  Subjectivity Score  \\\n",
       "146          Positive                0.45   \n",
       "295  Neutral Positive                0.43   \n",
       "154  Neutral Positive                0.49   \n",
       "163  Neutral Positive                0.58   \n",
       "202  Neutral Positive                0.43   \n",
       "..                ...                 ...   \n",
       "206  Neutral Negative                0.00   \n",
       "106  Neutral Negative                0.37   \n",
       "113          Negative                0.45   \n",
       "196  Neutral Positive                0.53   \n",
       "83   Neutral Positive                0.39   \n",
       "\n",
       "                                        Positive Words  \\\n",
       "146  able, responsible, better, beautiful, wise, pr...   \n",
       "295  many, fun, free, proud, right, prominent, famo...   \n",
       "154  near, nice, welcome, greater, straight, better...   \n",
       "163  free, many, particularly, more, right, very, a...   \n",
       "202  comfortable, higher, unexpected, new, particul...   \n",
       "..                                                 ...   \n",
       "206                                                      \n",
       "106  higher, many, challenging, more, social, actio...   \n",
       "113  whole, many, free, thanks, straightforward, of...   \n",
       "196  young, latest, interested, live, top, clear, b...   \n",
       "83   many, professionally, free, able, certain, eff...   \n",
       "\n",
       "                                        Negative Words  \\\n",
       "146  badly, cold, hard, troubled, few, dangerous, f...   \n",
       "295  angry, dangerous, fanatic, harsh, stark, tired...   \n",
       "154  guilty, average, illegal, sinister, loose, des...   \n",
       "163                                not, cynical, worse   \n",
       "202  military, black, not, behind, other, closed, g...   \n",
       "..                                                 ...   \n",
       "206                                                      \n",
       "106              unable, approximately, due, half, ill   \n",
       "113  terrible, least, criminal, violent, late, othe...   \n",
       "196                               widely, secret, long   \n",
       "83   heavy, foreign, hidden, narrow, behind, limite...   \n",
       "\n",
       "                                                  Text  \\\n",
       "146  nancy pelosi is a true leader. there are few a...   \n",
       "295  want to read more stories like this? politico ...   \n",
       "154  highlighted passages are false or inaccurate. ...   \n",
       "163  \"yes, undocumented immigrants take jobs from w...   \n",
       "202  barack obama misled americans for his own poli...   \n",
       "..                                                 ...   \n",
       "206  a presidente da câmara, nancy pelosi, é fotogr...   \n",
       "106  in response to president joe biden’s assertion...   \n",
       "113  ✕ close january 6 panel chair says trump ‘brok...   \n",
       "196  u.s. depatrment of labor (public domain)\\nit h...   \n",
       "83   the purpose of the present study was to explor...   \n",
       "\n",
       "                                                Topics  Main Topic  \\\n",
       "146                 [(0, 0.77969927), (1, 0.21900257)]           0   \n",
       "295  [(0, 0.65339005), (1, 0.021361398), (2, 0.3248...           0   \n",
       "154                                  [(0, 0.99973726)]           0   \n",
       "163                                  [(0, 0.99439293)]           0   \n",
       "202  [(0, 0.69077927), (1, 0.21656114), (3, 0.08819...           0   \n",
       "..                                                 ...         ...   \n",
       "206                                   [(4, 0.9841272)]           4   \n",
       "106                  [(1, 0.18443282), (4, 0.8123718)]           4   \n",
       "113  [(1, 0.37684008), (2, 0.23999228), (4, 0.38023...           4   \n",
       "196                  [(1, 0.40376195), (4, 0.5916896)]           4   \n",
       "83                                   [(4, 0.99942285)]           4   \n",
       "\n",
       "     Main Topic Score      Shortened Address  \n",
       "146          0.779699      open.substack.com  \n",
       "295          0.653390       www.politico.com  \n",
       "154          0.999737                buff.ly  \n",
       "163          0.994393         soundcloud.com  \n",
       "202          0.690779               time.com  \n",
       "..                ...                    ...  \n",
       "206          0.984127                dlvr.it  \n",
       "106          0.812372     www.sonsof1776.com  \n",
       "113          0.380239  www.independent.co.uk  \n",
       "196          0.591690   www.newsbreakapp.com  \n",
       "83           0.999423      link.springer.com  \n",
       "\n",
       "[108 rows x 11 columns]"
      ]
     },
     "execution_count": 92,
     "metadata": {},
     "output_type": "execute_result"
    }
   ],
   "source": [
    "# This generates our dataframe of per-topic sentiment and relevancy for all articles\n",
    "df_topics = generate_topic_relevancy_dataframe(lda_model)\n",
    "\n",
    "# Generate our per-topic dataframe\n",
    "# FORMAT IS (SENTIMENT, RELEVANCY)\n",
    "per_topic_df = create_per_topic_tuple_df(topic_level_sentiment, df_topics)\n",
    "\n",
    "# This generates a dataframe ready to use with our data visualizations\n",
    "# (includes some extra information)\n",
    "# This sorts our dataframe so must go last\n",
    "df = preprocess_dataframe_for_datavis(df, lda_model, corpus)\n",
    "df\n"
   ]
  },
  {
   "cell_type": "markdown",
   "id": "1a7d0141",
   "metadata": {},
   "source": [
    "## Data Visualization Settings"
   ]
  },
  {
   "cell_type": "markdown",
   "id": "1a648113",
   "metadata": {},
   "source": [
    "Here are the customizable settings for our data visualization section. Since these settings only affect how the data will be visualized, you can rerun the pipeline from this point down without rerunning any of the previous steps. This is recommended if you want to see different parameters for the settings visualized on the same data and LDA model."
   ]
  },
  {
   "cell_type": "code",
   "execution_count": 93,
   "id": "fffb7bbc",
   "metadata": {},
   "outputs": [],
   "source": [
    "# DATA VISUALIZATION SETTINGS\n",
    "# (starts at topic 0) set this list to every topic number you want\n",
    "# displayed individually\n",
    "list_of_topics_to_visualize = [0,1,8]\n",
    "\n",
    "# this is the settings dictionary for our k-means cluster generation.\n",
    "# max_clusters is used in our inertia visualization,\n",
    "# while num_clusters is our actual cluster count to use and pca_components\n",
    "# is the PCA component count that we use in both\n",
    "# the visualization of inertia as well as our actual clustering model.\n",
    "kmeans_settings = {\"max_clusters\": 10, \"num_clusters\": 9, \"pca_components\": 5}\n",
    "\n"
   ]
  },
  {
   "cell_type": "markdown",
   "id": "9587fb26",
   "metadata": {},
   "source": [
    "## Visualize all articles on their main topic"
   ]
  },
  {
   "cell_type": "code",
   "execution_count": 94,
   "id": "f85d1cda",
   "metadata": {
    "scrolled": false
   },
   "outputs": [
    {
     "data": {
      "application/vnd.plotly.v1+json": {
       "config": {
        "plotlyServerURL": "https://plot.ly"
       },
       "data": [
        {
         "customdata": [
          [
           "open.substack.com",
           "Positive",
           0.7796992659568787
          ],
          [
           "www.politico.com",
           "Neutral Positive",
           0.6533900499343872
          ],
          [
           "buff.ly",
           "Neutral Positive",
           0.9997372627258301
          ],
          [
           "soundcloud.com",
           "Neutral Positive",
           0.9943929314613342
          ],
          [
           "time.com",
           "Neutral Positive",
           0.6907792687416077
          ],
          [
           "dlvr.it",
           "Neutral Negative",
           0.9950559735298157
          ],
          [
           "twitchy.com",
           "Positive",
           0.5226345062255859
          ],
          [
           "nyti.ms",
           "Neutral Positive",
           0.9997372627258301
          ],
          [
           "flip.it",
           "Neutral Positive",
           0.702850341796875
          ],
          [
           "ow.ly",
           "Neutral Positive",
           0.9975342750549316
          ],
          [
           "www.theepochtimes.com",
           "Neutral Negative",
           0.9969711899757385
          ],
          [
           "nbcbay.com",
           "Neutral Positive",
           0.9981183409690857
          ],
          [
           "NBC11NEWS.com",
           "Neutral Negative",
           0.9976338148117065
          ],
          [
           "www.wkyt.com",
           "Neutral Positive",
           0.9983872175216675
          ],
          [
           "nationalfile.com",
           "Neutral Positive",
           0.9959321022033691
          ],
          [
           "welovetrump.com",
           "Positive",
           0.6534833908081055
          ],
          [
           "crooksandliars.com",
           "Negative",
           0.9362783432006836
          ],
          [
           "tiny.iavian.net",
           "Neutral Positive",
           0.9959321022033691
          ],
          [
           "www.independent.co.uk",
           "Negative",
           0.6857858300209045
          ],
          [
           "ift.tt",
           "Neutral Positive",
           0.9930770993232727
          ],
          [
           "www.nytimes.com",
           "Neutral Negative",
           0.5955779552459717
          ],
          [
           "www.thenewcivilrightsmovement.com",
           "Neutral Negative",
           0.9959239363670349
          ],
          [
           "www.dailymail.co.uk",
           "Neutral Positive",
           0.9987987279891968
          ],
          [
           "news.yahoo.com",
           "Negative",
           0.9952404499053955
          ],
          [
           "www.cnn.com",
           "Neutral",
           0.9944973587989807
          ],
          [
           "www.nbcnews.com",
           "Neutral Negative",
           0.9980452656745911
          ],
          [
           "l.smartnews.com",
           "Neutral Positive",
           0.9968070387840271
          ],
          [
           "www.jihadwatch.org",
           "Negative",
           0.7784535884857178
          ],
          [
           "www.mediaite.com",
           "Neutral Positive",
           0.992563009262085
          ],
          [
           "nbcnews.to",
           "Neutral Negative",
           0.9963247776031494
          ],
          [
           "dlvr.it",
           "Positive",
           0.6681032180786133
          ],
          [
           "punchbowl.news",
           "Neutral Positive",
           0.9951105713844299
          ],
          [
           "www.washingtontimes.com",
           "Positive",
           0.8526859283447266
          ],
          [
           "l.smartnews.com",
           "Neutral Positive",
           0.7588173747062683
          ],
          [
           "lakegenevanews.net",
           "Neutral Positive",
           0.9947474598884583
          ],
          [
           "www.theyeshivaworld.com",
           "Neutral Positive",
           0.9958237409591675
          ],
          [
           "www.kosu.org",
           "Neutral Negative",
           0.9957737922668457
          ],
          [
           "ca.news.yahoo.com",
           "Neutral Positive",
           0.9957098364830017
          ],
          [
           "tinyurl.com",
           "Neutral Negative",
           0.9077325463294983
          ],
          [
           "wapo.st",
           "Neutral Positive",
           0.9799039959907532
          ],
          [
           "wjactv.com",
           "Neutral Positive",
           0.9982547163963318
          ],
          [
           "bismarcktribune.com",
           "Neutral",
           0.9899915456771851
          ],
          [
           "buff.ly",
           "Neutral Positive",
           0.9978347420692444
          ],
          [
           "www.latimes.com",
           "Neutral Positive",
           0.998626708984375
          ],
          [
           "ugnews24.info",
           "Neutral Positive",
           0.9974175691604614
          ],
          [
           "www.whas11.com",
           "Neutral Positive",
           0.9974946975708008
          ],
          [
           "www.cbc.ca",
           "Neutral Positive",
           0.9648228287696838
          ],
          [
           "www.newsmax.com",
           "Negative",
           0.7709195613861084
          ],
          [
           "ift.tt",
           "Neutral Negative",
           0.9981256127357483
          ],
          [
           "flip.it",
           "Neutral Positive",
           0.9977999925613403
          ],
          [
           "trib.al",
           "Positive",
           0.9933016896247864
          ],
          [
           "www.dailymail.co.uk",
           "Neutral Negative",
           0.9981193542480469
          ],
          [
           "nbcbayarea.com",
           "Neutral Negative",
           0.9962419271469116
          ],
          [
           "politi.co",
           "Neutral Positive",
           0.9625006914138794
          ],
          [
           "www.nbcnews.com",
           "Neutral Positive",
           0.9954025745391846
          ],
          [
           "www.independent.co.uk",
           "Neutral Negative",
           0.9939365983009338
          ],
          [
           "www.audacy.com",
           "Neutral Negative",
           0.9959101676940918
          ],
          [
           "rollingstone.com",
           "Neutral Negative",
           0.997361421585083
          ],
          [
           "www.courttv.com",
           "Negative",
           0.9951232075691223
          ],
          [
           "trib.al",
           "Neutral Positive",
           0.9972604513168335
          ],
          [
           "ijr.com",
           "Neutral Positive",
           0.88518887758255
          ],
          [
           "www.newsnationnow.com",
           "Neutral",
           0.9944215416908264
          ],
          [
           "www.theepochtimes.com",
           "Neutral Positive",
           0.9968180656433105
          ],
          [
           "bit.ly",
           "Neutral Positive",
           0.9983871579170227
          ],
          [
           "zpr.io",
           "Neutral Positive",
           0.9985119700431824
          ],
          [
           "trib.al",
           "Neutral Negative",
           0.9154326915740967
          ],
          [
           "www.dailykos.com",
           "Neutral Negative",
           0.9916832447052002
          ],
          [
           "fee.org",
           "Positive",
           0.9976465106010437
          ],
          [
           "theshahab.com",
           "Neutral Positive",
           0.8392040133476257
          ],
          [
           "www.smobserved.com",
           "Neutral Positive",
           0.6630633473396301
          ],
          [
           "www.dailykos.com",
           "Neutral Negative",
           0.9990514516830444
          ],
          [
           "www.ncronline.org",
           "Neutral Positive",
           0.9973309636116028
          ],
          [
           "www.msnbc.com",
           "Neutral Positive",
           0.9886074066162109
          ],
          [
           "www.nytimes.com",
           "Negative",
           0.9942363500595093
          ],
          [
           "meaww.com",
           "Positive",
           0.5495690703392029
          ],
          [
           "www.newsbreakapp.com",
           "Neutral Negative",
           0.6039591431617737
          ],
          [
           "prada.substack.com",
           "Neutral Positive",
           0.9992794394493103
          ],
          [
           "go.shr.lc",
           "Neutral Positive",
           0.9983564019203186
          ],
          [
           "www.msnbc.com",
           "Negative",
           0.5383219122886658
          ],
          [
           "trib.al",
           "Neutral Negative",
           0.9022185206413269
          ],
          [
           "www.foxnews.com",
           "Neutral Positive",
           0.5820294618606567
          ],
          [
           "l.smartnews.com",
           "Negative",
           0.7475902438163757
          ],
          [
           "en.wikipedia.org",
           "Neutral Negative",
           0.998433530330658
          ],
          [
           "share.newsbreak.com",
           "Neutral Positive",
           0.9987788796424866
          ],
          [
           "eltiempomonclova.mx",
           "Positive",
           0.9916791319847107
          ],
          [
           "4imag.com",
           "Positive",
           0.9961424469947815
          ],
          [
           "buff.ly",
           "Negative",
           0.9983739256858826
          ],
          [
           "www.elespanol.com",
           "Negative",
           0.9868378043174744
          ],
          [
           "greenwald.substack.com",
           "Neutral Positive",
           0.9987727403640747
          ],
          [
           "cna.asia",
           "Neutral Positive",
           0.9966632127761841
          ],
          [
           "dlvr.it",
           "Neutral Negative",
           0.488343209028244
          ],
          [
           "seekingalpha.com",
           "Neutral Positive",
           0.999240517616272
          ],
          [
           "www.cbsnews.com",
           "Neutral Positive",
           0.9962984919548035
          ],
          [
           "www.businessinsider.com",
           "Neutral Positive",
           0.9988803863525391
          ],
          [
           "www.sfgate.com",
           "Neutral",
           0.5463076829910278
          ],
          [
           "altanto.com.do",
           "Neutral Negative",
           0.973301351070404
          ],
          [
           "www.diariodenavarra.es",
           "Positive",
           0.988714873790741
          ],
          [
           "www.nytimes.com",
           "Neutral Positive",
           0.939105749130249
          ],
          [
           "www.thecatholicmonitor.com",
           "Positive",
           0.8235723972320557
          ],
          [
           "www.nbcnews.com",
           "Neutral Negative",
           0.9896377921104431
          ],
          [
           "dlvr.it",
           "Neutral",
           0.7546619772911072
          ],
          [
           "people.com",
           "Neutral Negative",
           0.6923921704292297
          ],
          [
           "www.nbcnews.com",
           "Neutral Positive",
           0.5380217432975769
          ],
          [
           "dlvr.it",
           "Neutral Negative",
           0.9841272234916687
          ],
          [
           "www.sonsof1776.com",
           "Neutral Negative",
           0.8123717904090881
          ],
          [
           "www.independent.co.uk",
           "Negative",
           0.38023945689201355
          ],
          [
           "www.newsbreakapp.com",
           "Neutral Positive",
           0.5916895866394043
          ],
          [
           "link.springer.com",
           "Neutral Positive",
           0.9994228482246399
          ]
         ],
         "hovertemplate": "Address: %{customdata[0]}<br>Sentiment Label: %{customdata[1]}<br>Main Topic Score :%{customdata[2]}",
         "legendgroup": "",
         "marker": {
          "color": "#636efa",
          "size": [
           0.7796992659568787,
           0.6533900499343872,
           0.9997372627258301,
           0.9943929314613342,
           0.6907792687416077,
           0.9950559735298157,
           0.5226345062255859,
           0.9997372627258301,
           0.702850341796875,
           0.9975342750549316,
           0.9969711899757385,
           0.9981183409690857,
           0.9976338148117065,
           0.9983872175216675,
           0.9959321022033691,
           0.6534833908081055,
           0.9362783432006836,
           0.9959321022033691,
           0.6857858300209045,
           0.9930770993232727,
           0.5955779552459717,
           0.9959239363670349,
           0.9987987279891968,
           0.9952404499053955,
           0.9944973587989807,
           0.9980452656745911,
           0.9968070387840271,
           0.7784535884857178,
           0.992563009262085,
           0.9963247776031494,
           0.6681032180786133,
           0.9951105713844299,
           0.8526859283447266,
           0.7588173747062683,
           0.9947474598884583,
           0.9958237409591675,
           0.9957737922668457,
           0.9957098364830017,
           0.9077325463294983,
           0.9799039959907532,
           0.9982547163963318,
           0.9899915456771851,
           0.9978347420692444,
           0.998626708984375,
           0.9974175691604614,
           0.9974946975708008,
           0.9648228287696838,
           0.7709195613861084,
           0.9981256127357483,
           0.9977999925613403,
           0.9933016896247864,
           0.9981193542480469,
           0.9962419271469116,
           0.9625006914138794,
           0.9954025745391846,
           0.9939365983009338,
           0.9959101676940918,
           0.997361421585083,
           0.9951232075691223,
           0.9972604513168335,
           0.88518887758255,
           0.9944215416908264,
           0.9968180656433105,
           0.9983871579170227,
           0.9985119700431824,
           0.9154326915740967,
           0.9916832447052002,
           0.9976465106010437,
           0.8392040133476257,
           0.6630633473396301,
           0.9990514516830444,
           0.9973309636116028,
           0.9886074066162109,
           0.9942363500595093,
           0.5495690703392029,
           0.6039591431617737,
           0.9992794394493103,
           0.9983564019203186,
           0.5383219122886658,
           0.9022185206413269,
           0.5820294618606567,
           0.7475902438163757,
           0.998433530330658,
           0.9987788796424866,
           0.9916791319847107,
           0.9961424469947815,
           0.9983739256858826,
           0.9868378043174744,
           0.9987727403640747,
           0.9966632127761841,
           0.488343209028244,
           0.999240517616272,
           0.9962984919548035,
           0.9988803863525391,
           0.5463076829910278,
           0.973301351070404,
           0.988714873790741,
           0.939105749130249,
           0.8235723972320557,
           0.9896377921104431,
           0.7546619772911072,
           0.6923921704292297,
           0.5380217432975769,
           0.9841272234916687,
           0.8123717904090881,
           0.38023945689201355,
           0.5916895866394043,
           0.9994228482246399
          ],
          "sizemode": "area",
          "sizeref": 0.002499343156814575,
          "symbol": "circle"
         },
         "mode": "markers",
         "name": "",
         "orientation": "v",
         "showlegend": false,
         "type": "scatter",
         "x": [
          0,
          0,
          0,
          0,
          0,
          0,
          0,
          0,
          1,
          1,
          1,
          1,
          1,
          1,
          1,
          1,
          1,
          1,
          1,
          1,
          1,
          1,
          1,
          1,
          1,
          1,
          1,
          1,
          1,
          1,
          1,
          1,
          1,
          1,
          1,
          1,
          1,
          1,
          1,
          1,
          1,
          1,
          1,
          1,
          1,
          1,
          1,
          1,
          1,
          1,
          1,
          1,
          1,
          1,
          1,
          1,
          1,
          1,
          1,
          1,
          1,
          1,
          1,
          1,
          2,
          2,
          2,
          2,
          2,
          2,
          2,
          2,
          2,
          2,
          2,
          2,
          2,
          2,
          2,
          2,
          2,
          2,
          2,
          3,
          3,
          3,
          3,
          3,
          3,
          3,
          3,
          3,
          3,
          3,
          3,
          3,
          3,
          3,
          3,
          3,
          4,
          4,
          4,
          4,
          4,
          4,
          4,
          4
         ],
         "xaxis": "x",
         "y": [
          0.16,
          0.07,
          0.13,
          0.14,
          0.1,
          0.03,
          0.15,
          0.13,
          0.05,
          0.09,
          -0.02,
          0.12,
          -0.04,
          0.11,
          0.05,
          0.22,
          -0.2,
          0.05,
          -0.07,
          0.05,
          0.03,
          -0.02,
          0.08,
          -0.16,
          0.04,
          -0.06,
          0.1,
          -0.1,
          0.11,
          -0.01,
          0.18,
          0.07,
          0.24,
          0.12,
          0.07,
          0.07,
          0.02,
          0.06,
          0.03,
          0.13,
          0.13,
          0.04,
          0.08,
          0.05,
          0.06,
          0.13,
          0.11,
          -0.27,
          0.02,
          0.08,
          0.16,
          0.03,
          -0.05,
          0.08,
          0.06,
          -0.05,
          -0.05,
          0.01,
          -0.08,
          0.12,
          0.12,
          0.04,
          0.05,
          0.11,
          0.07,
          -0.03,
          -0.04,
          0.17,
          0.07,
          0.08,
          -0.04,
          0.09,
          0.06,
          -0.07,
          0.16,
          0.01,
          0.11,
          0.09,
          -0.07,
          -0.01,
          0.1,
          -0.13,
          -0.04,
          0.07,
          0.21,
          0.19,
          -0.08,
          -0.4,
          0.11,
          0.14,
          0.02,
          0.13,
          0.06,
          0.07,
          0.04,
          0,
          0.17,
          0.05,
          0.17,
          -0.02,
          0.04,
          0,
          0.1,
          0,
          0.03,
          -0.08,
          0.12,
          0.08
         ],
         "yaxis": "y"
        }
       ],
       "layout": {
        "legend": {
         "itemsizing": "constant",
         "tracegroupgap": 0
        },
        "template": {
         "data": {
          "bar": [
           {
            "error_x": {
             "color": "#2a3f5f"
            },
            "error_y": {
             "color": "#2a3f5f"
            },
            "marker": {
             "line": {
              "color": "#E5ECF6",
              "width": 0.5
             },
             "pattern": {
              "fillmode": "overlay",
              "size": 10,
              "solidity": 0.2
             }
            },
            "type": "bar"
           }
          ],
          "barpolar": [
           {
            "marker": {
             "line": {
              "color": "#E5ECF6",
              "width": 0.5
             },
             "pattern": {
              "fillmode": "overlay",
              "size": 10,
              "solidity": 0.2
             }
            },
            "type": "barpolar"
           }
          ],
          "carpet": [
           {
            "aaxis": {
             "endlinecolor": "#2a3f5f",
             "gridcolor": "white",
             "linecolor": "white",
             "minorgridcolor": "white",
             "startlinecolor": "#2a3f5f"
            },
            "baxis": {
             "endlinecolor": "#2a3f5f",
             "gridcolor": "white",
             "linecolor": "white",
             "minorgridcolor": "white",
             "startlinecolor": "#2a3f5f"
            },
            "type": "carpet"
           }
          ],
          "choropleth": [
           {
            "colorbar": {
             "outlinewidth": 0,
             "ticks": ""
            },
            "type": "choropleth"
           }
          ],
          "contour": [
           {
            "colorbar": {
             "outlinewidth": 0,
             "ticks": ""
            },
            "colorscale": [
             [
              0,
              "#0d0887"
             ],
             [
              0.1111111111111111,
              "#46039f"
             ],
             [
              0.2222222222222222,
              "#7201a8"
             ],
             [
              0.3333333333333333,
              "#9c179e"
             ],
             [
              0.4444444444444444,
              "#bd3786"
             ],
             [
              0.5555555555555556,
              "#d8576b"
             ],
             [
              0.6666666666666666,
              "#ed7953"
             ],
             [
              0.7777777777777778,
              "#fb9f3a"
             ],
             [
              0.8888888888888888,
              "#fdca26"
             ],
             [
              1,
              "#f0f921"
             ]
            ],
            "type": "contour"
           }
          ],
          "contourcarpet": [
           {
            "colorbar": {
             "outlinewidth": 0,
             "ticks": ""
            },
            "type": "contourcarpet"
           }
          ],
          "heatmap": [
           {
            "colorbar": {
             "outlinewidth": 0,
             "ticks": ""
            },
            "colorscale": [
             [
              0,
              "#0d0887"
             ],
             [
              0.1111111111111111,
              "#46039f"
             ],
             [
              0.2222222222222222,
              "#7201a8"
             ],
             [
              0.3333333333333333,
              "#9c179e"
             ],
             [
              0.4444444444444444,
              "#bd3786"
             ],
             [
              0.5555555555555556,
              "#d8576b"
             ],
             [
              0.6666666666666666,
              "#ed7953"
             ],
             [
              0.7777777777777778,
              "#fb9f3a"
             ],
             [
              0.8888888888888888,
              "#fdca26"
             ],
             [
              1,
              "#f0f921"
             ]
            ],
            "type": "heatmap"
           }
          ],
          "heatmapgl": [
           {
            "colorbar": {
             "outlinewidth": 0,
             "ticks": ""
            },
            "colorscale": [
             [
              0,
              "#0d0887"
             ],
             [
              0.1111111111111111,
              "#46039f"
             ],
             [
              0.2222222222222222,
              "#7201a8"
             ],
             [
              0.3333333333333333,
              "#9c179e"
             ],
             [
              0.4444444444444444,
              "#bd3786"
             ],
             [
              0.5555555555555556,
              "#d8576b"
             ],
             [
              0.6666666666666666,
              "#ed7953"
             ],
             [
              0.7777777777777778,
              "#fb9f3a"
             ],
             [
              0.8888888888888888,
              "#fdca26"
             ],
             [
              1,
              "#f0f921"
             ]
            ],
            "type": "heatmapgl"
           }
          ],
          "histogram": [
           {
            "marker": {
             "pattern": {
              "fillmode": "overlay",
              "size": 10,
              "solidity": 0.2
             }
            },
            "type": "histogram"
           }
          ],
          "histogram2d": [
           {
            "colorbar": {
             "outlinewidth": 0,
             "ticks": ""
            },
            "colorscale": [
             [
              0,
              "#0d0887"
             ],
             [
              0.1111111111111111,
              "#46039f"
             ],
             [
              0.2222222222222222,
              "#7201a8"
             ],
             [
              0.3333333333333333,
              "#9c179e"
             ],
             [
              0.4444444444444444,
              "#bd3786"
             ],
             [
              0.5555555555555556,
              "#d8576b"
             ],
             [
              0.6666666666666666,
              "#ed7953"
             ],
             [
              0.7777777777777778,
              "#fb9f3a"
             ],
             [
              0.8888888888888888,
              "#fdca26"
             ],
             [
              1,
              "#f0f921"
             ]
            ],
            "type": "histogram2d"
           }
          ],
          "histogram2dcontour": [
           {
            "colorbar": {
             "outlinewidth": 0,
             "ticks": ""
            },
            "colorscale": [
             [
              0,
              "#0d0887"
             ],
             [
              0.1111111111111111,
              "#46039f"
             ],
             [
              0.2222222222222222,
              "#7201a8"
             ],
             [
              0.3333333333333333,
              "#9c179e"
             ],
             [
              0.4444444444444444,
              "#bd3786"
             ],
             [
              0.5555555555555556,
              "#d8576b"
             ],
             [
              0.6666666666666666,
              "#ed7953"
             ],
             [
              0.7777777777777778,
              "#fb9f3a"
             ],
             [
              0.8888888888888888,
              "#fdca26"
             ],
             [
              1,
              "#f0f921"
             ]
            ],
            "type": "histogram2dcontour"
           }
          ],
          "mesh3d": [
           {
            "colorbar": {
             "outlinewidth": 0,
             "ticks": ""
            },
            "type": "mesh3d"
           }
          ],
          "parcoords": [
           {
            "line": {
             "colorbar": {
              "outlinewidth": 0,
              "ticks": ""
             }
            },
            "type": "parcoords"
           }
          ],
          "pie": [
           {
            "automargin": true,
            "type": "pie"
           }
          ],
          "scatter": [
           {
            "fillpattern": {
             "fillmode": "overlay",
             "size": 10,
             "solidity": 0.2
            },
            "type": "scatter"
           }
          ],
          "scatter3d": [
           {
            "line": {
             "colorbar": {
              "outlinewidth": 0,
              "ticks": ""
             }
            },
            "marker": {
             "colorbar": {
              "outlinewidth": 0,
              "ticks": ""
             }
            },
            "type": "scatter3d"
           }
          ],
          "scattercarpet": [
           {
            "marker": {
             "colorbar": {
              "outlinewidth": 0,
              "ticks": ""
             }
            },
            "type": "scattercarpet"
           }
          ],
          "scattergeo": [
           {
            "marker": {
             "colorbar": {
              "outlinewidth": 0,
              "ticks": ""
             }
            },
            "type": "scattergeo"
           }
          ],
          "scattergl": [
           {
            "marker": {
             "colorbar": {
              "outlinewidth": 0,
              "ticks": ""
             }
            },
            "type": "scattergl"
           }
          ],
          "scattermapbox": [
           {
            "marker": {
             "colorbar": {
              "outlinewidth": 0,
              "ticks": ""
             }
            },
            "type": "scattermapbox"
           }
          ],
          "scatterpolar": [
           {
            "marker": {
             "colorbar": {
              "outlinewidth": 0,
              "ticks": ""
             }
            },
            "type": "scatterpolar"
           }
          ],
          "scatterpolargl": [
           {
            "marker": {
             "colorbar": {
              "outlinewidth": 0,
              "ticks": ""
             }
            },
            "type": "scatterpolargl"
           }
          ],
          "scatterternary": [
           {
            "marker": {
             "colorbar": {
              "outlinewidth": 0,
              "ticks": ""
             }
            },
            "type": "scatterternary"
           }
          ],
          "surface": [
           {
            "colorbar": {
             "outlinewidth": 0,
             "ticks": ""
            },
            "colorscale": [
             [
              0,
              "#0d0887"
             ],
             [
              0.1111111111111111,
              "#46039f"
             ],
             [
              0.2222222222222222,
              "#7201a8"
             ],
             [
              0.3333333333333333,
              "#9c179e"
             ],
             [
              0.4444444444444444,
              "#bd3786"
             ],
             [
              0.5555555555555556,
              "#d8576b"
             ],
             [
              0.6666666666666666,
              "#ed7953"
             ],
             [
              0.7777777777777778,
              "#fb9f3a"
             ],
             [
              0.8888888888888888,
              "#fdca26"
             ],
             [
              1,
              "#f0f921"
             ]
            ],
            "type": "surface"
           }
          ],
          "table": [
           {
            "cells": {
             "fill": {
              "color": "#EBF0F8"
             },
             "line": {
              "color": "white"
             }
            },
            "header": {
             "fill": {
              "color": "#C8D4E3"
             },
             "line": {
              "color": "white"
             }
            },
            "type": "table"
           }
          ]
         },
         "layout": {
          "annotationdefaults": {
           "arrowcolor": "#2a3f5f",
           "arrowhead": 0,
           "arrowwidth": 1
          },
          "autotypenumbers": "strict",
          "coloraxis": {
           "colorbar": {
            "outlinewidth": 0,
            "ticks": ""
           }
          },
          "colorscale": {
           "diverging": [
            [
             0,
             "#8e0152"
            ],
            [
             0.1,
             "#c51b7d"
            ],
            [
             0.2,
             "#de77ae"
            ],
            [
             0.3,
             "#f1b6da"
            ],
            [
             0.4,
             "#fde0ef"
            ],
            [
             0.5,
             "#f7f7f7"
            ],
            [
             0.6,
             "#e6f5d0"
            ],
            [
             0.7,
             "#b8e186"
            ],
            [
             0.8,
             "#7fbc41"
            ],
            [
             0.9,
             "#4d9221"
            ],
            [
             1,
             "#276419"
            ]
           ],
           "sequential": [
            [
             0,
             "#0d0887"
            ],
            [
             0.1111111111111111,
             "#46039f"
            ],
            [
             0.2222222222222222,
             "#7201a8"
            ],
            [
             0.3333333333333333,
             "#9c179e"
            ],
            [
             0.4444444444444444,
             "#bd3786"
            ],
            [
             0.5555555555555556,
             "#d8576b"
            ],
            [
             0.6666666666666666,
             "#ed7953"
            ],
            [
             0.7777777777777778,
             "#fb9f3a"
            ],
            [
             0.8888888888888888,
             "#fdca26"
            ],
            [
             1,
             "#f0f921"
            ]
           ],
           "sequentialminus": [
            [
             0,
             "#0d0887"
            ],
            [
             0.1111111111111111,
             "#46039f"
            ],
            [
             0.2222222222222222,
             "#7201a8"
            ],
            [
             0.3333333333333333,
             "#9c179e"
            ],
            [
             0.4444444444444444,
             "#bd3786"
            ],
            [
             0.5555555555555556,
             "#d8576b"
            ],
            [
             0.6666666666666666,
             "#ed7953"
            ],
            [
             0.7777777777777778,
             "#fb9f3a"
            ],
            [
             0.8888888888888888,
             "#fdca26"
            ],
            [
             1,
             "#f0f921"
            ]
           ]
          },
          "colorway": [
           "#636efa",
           "#EF553B",
           "#00cc96",
           "#ab63fa",
           "#FFA15A",
           "#19d3f3",
           "#FF6692",
           "#B6E880",
           "#FF97FF",
           "#FECB52"
          ],
          "font": {
           "color": "#2a3f5f"
          },
          "geo": {
           "bgcolor": "white",
           "lakecolor": "white",
           "landcolor": "#E5ECF6",
           "showlakes": true,
           "showland": true,
           "subunitcolor": "white"
          },
          "hoverlabel": {
           "align": "left"
          },
          "hovermode": "closest",
          "mapbox": {
           "style": "light"
          },
          "paper_bgcolor": "white",
          "plot_bgcolor": "#E5ECF6",
          "polar": {
           "angularaxis": {
            "gridcolor": "white",
            "linecolor": "white",
            "ticks": ""
           },
           "bgcolor": "#E5ECF6",
           "radialaxis": {
            "gridcolor": "white",
            "linecolor": "white",
            "ticks": ""
           }
          },
          "scene": {
           "xaxis": {
            "backgroundcolor": "#E5ECF6",
            "gridcolor": "white",
            "gridwidth": 2,
            "linecolor": "white",
            "showbackground": true,
            "ticks": "",
            "zerolinecolor": "white"
           },
           "yaxis": {
            "backgroundcolor": "#E5ECF6",
            "gridcolor": "white",
            "gridwidth": 2,
            "linecolor": "white",
            "showbackground": true,
            "ticks": "",
            "zerolinecolor": "white"
           },
           "zaxis": {
            "backgroundcolor": "#E5ECF6",
            "gridcolor": "white",
            "gridwidth": 2,
            "linecolor": "white",
            "showbackground": true,
            "ticks": "",
            "zerolinecolor": "white"
           }
          },
          "shapedefaults": {
           "line": {
            "color": "#2a3f5f"
           }
          },
          "ternary": {
           "aaxis": {
            "gridcolor": "white",
            "linecolor": "white",
            "ticks": ""
           },
           "baxis": {
            "gridcolor": "white",
            "linecolor": "white",
            "ticks": ""
           },
           "bgcolor": "#E5ECF6",
           "caxis": {
            "gridcolor": "white",
            "linecolor": "white",
            "ticks": ""
           }
          },
          "title": {
           "x": 0.05
          },
          "xaxis": {
           "automargin": true,
           "gridcolor": "white",
           "linecolor": "white",
           "ticks": "",
           "title": {
            "standoff": 15
           },
           "zerolinecolor": "white",
           "zerolinewidth": 2
          },
          "yaxis": {
           "automargin": true,
           "gridcolor": "white",
           "linecolor": "white",
           "ticks": "",
           "title": {
            "standoff": 15
           },
           "zerolinecolor": "white",
           "zerolinewidth": 2
          }
         }
        },
        "title": {
         "text": "Articles Sorted By Main Topic"
        },
        "xaxis": {
         "anchor": "y",
         "domain": [
          0,
          1
         ],
         "title": {
          "text": "Main Topic"
         },
         "type": "category"
        },
        "yaxis": {
         "anchor": "x",
         "domain": [
          0,
          1
         ],
         "title": {
          "text": "Sentiment Score"
         }
        }
       }
      }
     },
     "metadata": {},
     "output_type": "display_data"
    }
   ],
   "source": [
    "visualize_all_articles_on_main_topic(df)"
   ]
  },
  {
   "cell_type": "markdown",
   "id": "e2dceebf",
   "metadata": {},
   "source": [
    "# Generating Cluster Graph of Topics"
   ]
  },
  {
   "cell_type": "code",
   "execution_count": 95,
   "id": "235fbeca",
   "metadata": {
    "scrolled": false
   },
   "outputs": [
    {
     "name": "stdout",
     "output_type": "stream",
     "text": [
      "[t-SNE] Computing 107 nearest neighbors...\n",
      "[t-SNE] Indexed 108 samples in 0.001s...\n",
      "[t-SNE] Computed neighbors for 108 samples in 0.003s...\n",
      "[t-SNE] Computed conditional probabilities for sample 108 / 108\n",
      "[t-SNE] Mean sigma: 0.004756\n",
      "[t-SNE] KL divergence after 250 iterations with early exaggeration: 48.107468\n",
      "[t-SNE] KL divergence after 1000 iterations: 0.061138\n"
     ]
    },
    {
     "data": {
      "application/vnd.plotly.v1+json": {
       "config": {
        "plotlyServerURL": "https://plot.ly"
       },
       "data": [
        {
         "customdata": [
          [
           "open.substack.com",
           "Positive",
           "0"
          ],
          [
           "www.politico.com",
           "Neutral Positive",
           "0"
          ],
          [
           "buff.ly",
           "Neutral Positive",
           "0"
          ],
          [
           "soundcloud.com",
           "Neutral Positive",
           "0"
          ],
          [
           "time.com",
           "Neutral Positive",
           "0"
          ],
          [
           "dlvr.it",
           "Neutral Negative",
           "0"
          ],
          [
           "twitchy.com",
           "Positive",
           "0"
          ],
          [
           "nyti.ms",
           "Neutral Positive",
           "0"
          ]
         ],
         "hovertemplate": "Address: %{customdata[0]}<br>Sentiment Label: %{customdata[1]}<br>Main Topic:%{customdata[2]}",
         "legendgroup": "0",
         "marker": {
          "color": "#636efa",
          "size": [
           0.7796992659568787,
           0.6533900499343872,
           0.9997372627258301,
           0.9943929314613342,
           0.6907792687416077,
           0.9950559735298157,
           0.5226345062255859,
           0.9997372627258301
          ],
          "sizemode": "area",
          "sizeref": 0.002499343156814575,
          "symbol": "circle"
         },
         "mode": "markers",
         "name": "0",
         "orientation": "v",
         "showlegend": true,
         "type": "scatter",
         "x": [
          2.2749345302581787,
          2.5401458740234375,
          2.2089216709136963,
          2.2107994556427,
          2.318377733230591,
          2.2105963230133057,
          2.571157693862915,
          2.2089216709136963
         ],
         "xaxis": "x",
         "y": [
          1.0436599254608154,
          1.0796740055084229,
          0.9610546231269836,
          0.961405336856842,
          1.050010323524475,
          0.9613072872161865,
          1.2141610383987427,
          0.9610546231269836
         ],
         "yaxis": "y"
        },
        {
         "customdata": [
          [
           "www.newsmax.com",
           "Negative",
           "1"
          ],
          [
           "www.cbc.ca",
           "Neutral Positive",
           "1"
          ],
          [
           "www.whas11.com",
           "Neutral Positive",
           "1"
          ],
          [
           "ugnews24.info",
           "Neutral Positive",
           "1"
          ],
          [
           "www.latimes.com",
           "Neutral Positive",
           "1"
          ],
          [
           "wapo.st",
           "Neutral Positive",
           "1"
          ],
          [
           "bismarcktribune.com",
           "Neutral",
           "1"
          ],
          [
           "wjactv.com",
           "Neutral Positive",
           "1"
          ],
          [
           "ift.tt",
           "Neutral Negative",
           "1"
          ],
          [
           "tinyurl.com",
           "Neutral Negative",
           "1"
          ],
          [
           "buff.ly",
           "Neutral Positive",
           "1"
          ],
          [
           "flip.it",
           "Neutral Positive",
           "1"
          ],
          [
           "www.nbcnews.com",
           "Neutral Positive",
           "1"
          ],
          [
           "www.dailymail.co.uk",
           "Neutral Negative",
           "1"
          ],
          [
           "nbcbayarea.com",
           "Neutral Negative",
           "1"
          ],
          [
           "ca.news.yahoo.com",
           "Neutral Positive",
           "1"
          ],
          [
           "www.independent.co.uk",
           "Neutral Negative",
           "1"
          ],
          [
           "www.audacy.com",
           "Neutral Negative",
           "1"
          ],
          [
           "rollingstone.com",
           "Neutral Negative",
           "1"
          ],
          [
           "www.courttv.com",
           "Negative",
           "1"
          ],
          [
           "trib.al",
           "Neutral Positive",
           "1"
          ],
          [
           "ijr.com",
           "Neutral Positive",
           "1"
          ],
          [
           "www.newsnationnow.com",
           "Neutral",
           "1"
          ],
          [
           "www.theepochtimes.com",
           "Neutral Positive",
           "1"
          ],
          [
           "bit.ly",
           "Neutral Positive",
           "1"
          ],
          [
           "trib.al",
           "Positive",
           "1"
          ],
          [
           "www.kosu.org",
           "Neutral Negative",
           "1"
          ],
          [
           "politi.co",
           "Neutral Positive",
           "1"
          ],
          [
           "lakegenevanews.net",
           "Neutral Positive",
           "1"
          ],
          [
           "flip.it",
           "Neutral Positive",
           "1"
          ],
          [
           "ow.ly",
           "Neutral Positive",
           "1"
          ],
          [
           "www.theepochtimes.com",
           "Neutral Negative",
           "1"
          ],
          [
           "nbcbay.com",
           "Neutral Positive",
           "1"
          ],
          [
           "NBC11NEWS.com",
           "Neutral Negative",
           "1"
          ],
          [
           "www.wkyt.com",
           "Neutral Positive",
           "1"
          ],
          [
           "nationalfile.com",
           "Neutral Positive",
           "1"
          ],
          [
           "welovetrump.com",
           "Positive",
           "1"
          ],
          [
           "crooksandliars.com",
           "Negative",
           "1"
          ],
          [
           "www.theyeshivaworld.com",
           "Neutral Positive",
           "1"
          ],
          [
           "www.independent.co.uk",
           "Negative",
           "1"
          ],
          [
           "ift.tt",
           "Neutral Positive",
           "1"
          ],
          [
           "www.nytimes.com",
           "Neutral Negative",
           "1"
          ],
          [
           "tiny.iavian.net",
           "Neutral Positive",
           "1"
          ],
          [
           "www.dailymail.co.uk",
           "Neutral Positive",
           "1"
          ],
          [
           "l.smartnews.com",
           "Neutral Positive",
           "1"
          ],
          [
           "www.washingtontimes.com",
           "Positive",
           "1"
          ],
          [
           "www.thenewcivilrightsmovement.com",
           "Neutral Negative",
           "1"
          ],
          [
           "dlvr.it",
           "Positive",
           "1"
          ],
          [
           "nbcnews.to",
           "Neutral Negative",
           "1"
          ],
          [
           "www.mediaite.com",
           "Neutral Positive",
           "1"
          ],
          [
           "punchbowl.news",
           "Neutral Positive",
           "1"
          ],
          [
           "l.smartnews.com",
           "Neutral Positive",
           "1"
          ],
          [
           "www.nbcnews.com",
           "Neutral Negative",
           "1"
          ],
          [
           "www.cnn.com",
           "Neutral",
           "1"
          ],
          [
           "news.yahoo.com",
           "Negative",
           "1"
          ],
          [
           "www.jihadwatch.org",
           "Negative",
           "1"
          ]
         ],
         "hovertemplate": "Address: %{customdata[0]}<br>Sentiment Label: %{customdata[1]}<br>Main Topic:%{customdata[2]}",
         "legendgroup": "1",
         "marker": {
          "color": "#EF553B",
          "size": [
           0.7709195613861084,
           0.9648228287696838,
           0.9974946975708008,
           0.9974175691604614,
           0.998626708984375,
           0.9799039959907532,
           0.9899915456771851,
           0.9982547163963318,
           0.9981256127357483,
           0.9077325463294983,
           0.9978347420692444,
           0.9977999925613403,
           0.9954025745391846,
           0.9981193542480469,
           0.9962419271469116,
           0.9957098364830017,
           0.9939365983009338,
           0.9959101676940918,
           0.997361421585083,
           0.9951232075691223,
           0.9972604513168335,
           0.88518887758255,
           0.9944215416908264,
           0.9968180656433105,
           0.9983871579170227,
           0.9933016896247864,
           0.9957737922668457,
           0.9625006914138794,
           0.9947474598884583,
           0.702850341796875,
           0.9975342750549316,
           0.9969711899757385,
           0.9981183409690857,
           0.9976338148117065,
           0.9983872175216675,
           0.9959321022033691,
           0.6534833908081055,
           0.9362783432006836,
           0.9958237409591675,
           0.6857858300209045,
           0.9930770993232727,
           0.5955779552459717,
           0.9959321022033691,
           0.9987987279891968,
           0.7588173747062683,
           0.8526859283447266,
           0.9959239363670349,
           0.6681032180786133,
           0.9963247776031494,
           0.992563009262085,
           0.9951105713844299,
           0.9968070387840271,
           0.9980452656745911,
           0.9944973587989807,
           0.9952404499053955,
           0.7784535884857178
          ],
          "sizemode": "area",
          "sizeref": 0.002499343156814575,
          "symbol": "circle"
         },
         "mode": "markers",
         "name": "1",
         "orientation": "v",
         "showlegend": true,
         "type": "scatter",
         "x": [
          3.3790957927703857,
          -0.0648130401968956,
          -0.022977910935878754,
          -0.20187139511108398,
          -0.04122724384069443,
          -0.36305317282676697,
          -0.15088002383708954,
          2.251685857772827,
          2.29209303855896,
          -0.15088002383708954,
          2.6141786575317383,
          0.86625075340271,
          3.83768630027771,
          0.37511250376701355,
          -0.4365806579589844,
          0.07322780787944794,
          0.6200720071792603,
          -0.1503010094165802,
          -0.4143514633178711,
          3.179203748703003,
          0.9914160370826721,
          -0.33758705854415894,
          3.497504949569702,
          0.4006485939025879,
          2.098933696746826,
          2.231557607650757,
          0.23712900280952454,
          0.40505242347717285,
          0.3337620794773102,
          -0.1271090805530548,
          2.0598368644714355,
          1.8213242292404175,
          -0.5921224355697632,
          1.4046297073364258,
          -0.781251072883606,
          -0.4623574912548065,
          0.047167014330625534,
          -0.7028424143791199,
          2.0840985774993896,
          2.7621591091156006,
          -0.8692605495452881,
          -0.7936629056930542,
          0.7922348380088806,
          -0.8716828227043152,
          0.18441733717918396,
          2.090425491333008,
          -0.058951862156391144,
          0.5876230001449585,
          0.4001658856868744,
          -0.6685038805007935,
          0.09899724274873734,
          0.020159853622317314,
          2.091623306274414,
          0.6416037678718567,
          -0.44075390696525574,
          -0.637397289276123
         ],
         "xaxis": "x",
         "y": [
          3.2653751373291016,
          5.092825889587402,
          5.410088062286377,
          4.737302780151367,
          5.017955303192139,
          4.593896865844727,
          6.161247253417969,
          3.6389377117156982,
          5.99911642074585,
          6.161247253417969,
          3.553104877471924,
          7.060361862182617,
          2.9636077880859375,
          5.861129283905029,
          4.411623001098633,
          6.536681652069092,
          6.591225624084473,
          4.772789478302002,
          5.693742275238037,
          3.427105188369751,
          7.137087345123291,
          5.99298620223999,
          3.1832592487335205,
          6.413855075836182,
          4.762299060821533,
          3.7549753189086914,
          6.743196487426758,
          5.901386737823486,
          5.9961771965026855,
          6.289150238037109,
          4.838193893432617,
          6.889798164367676,
          4.754533290863037,
          7.204471111297607,
          5.25928258895874,
          4.500063896179199,
          5.143566131591797,
          5.470139026641846,
          6.0266571044921875,
          4.913949012756348,
          4.985287189483643,
          5.264098644256592,
          7.038465976715088,
          4.95214319229126,
          5.75994348526001,
          6.021009922027588,
          6.507784366607666,
          6.900709629058838,
          5.855796813964844,
          5.5419206619262695,
          6.603034019470215,
          5.228456974029541,
          4.805414199829102,
          6.620423793792725,
          5.698216438293457,
          4.721744537353516
         ],
         "yaxis": "y"
        },
        {
         "customdata": [
          [
           "en.wikipedia.org",
           "Neutral Negative",
           "2"
          ],
          [
           "l.smartnews.com",
           "Negative",
           "2"
          ],
          [
           "www.foxnews.com",
           "Neutral Positive",
           "2"
          ],
          [
           "trib.al",
           "Neutral Negative",
           "2"
          ],
          [
           "www.msnbc.com",
           "Negative",
           "2"
          ],
          [
           "go.shr.lc",
           "Neutral Positive",
           "2"
          ],
          [
           "prada.substack.com",
           "Neutral Positive",
           "2"
          ],
          [
           "www.newsbreakapp.com",
           "Neutral Negative",
           "2"
          ],
          [
           "meaww.com",
           "Positive",
           "2"
          ],
          [
           "www.ncronline.org",
           "Neutral Positive",
           "2"
          ],
          [
           "www.msnbc.com",
           "Neutral Positive",
           "2"
          ],
          [
           "zpr.io",
           "Neutral Positive",
           "2"
          ],
          [
           "trib.al",
           "Neutral Negative",
           "2"
          ],
          [
           "www.dailykos.com",
           "Neutral Negative",
           "2"
          ],
          [
           "www.nytimes.com",
           "Negative",
           "2"
          ],
          [
           "theshahab.com",
           "Neutral Positive",
           "2"
          ],
          [
           "www.smobserved.com",
           "Neutral Positive",
           "2"
          ],
          [
           "www.dailykos.com",
           "Neutral Negative",
           "2"
          ],
          [
           "fee.org",
           "Positive",
           "2"
          ]
         ],
         "hovertemplate": "Address: %{customdata[0]}<br>Sentiment Label: %{customdata[1]}<br>Main Topic:%{customdata[2]}",
         "legendgroup": "2",
         "marker": {
          "color": "#00cc96",
          "size": [
           0.998433530330658,
           0.7475902438163757,
           0.5820294618606567,
           0.9022185206413269,
           0.5383219122886658,
           0.9983564019203186,
           0.9992794394493103,
           0.6039591431617737,
           0.5495690703392029,
           0.9973309636116028,
           0.9886074066162109,
           0.9985119700431824,
           0.9154326915740967,
           0.9916832447052002,
           0.9942363500595093,
           0.8392040133476257,
           0.6630633473396301,
           0.9990514516830444,
           0.9976465106010437
          ],
          "sizemode": "area",
          "sizeref": 0.002499343156814575,
          "symbol": "circle"
         },
         "mode": "markers",
         "name": "2",
         "orientation": "v",
         "showlegend": true,
         "type": "scatter",
         "x": [
          5.992349147796631,
          5.716357707977295,
          5.956917762756348,
          5.960289001464844,
          5.683852672576904,
          4.974135398864746,
          5.991144180297852,
          5.989251136779785,
          5.956751823425293,
          5.976826190948486,
          4.599358558654785,
          4.770899772644043,
          5.9938578605651855,
          5.9580183029174805,
          4.649690628051758,
          5.639734268188477,
          5.678165912628174,
          5.253482818603516,
          5.992185115814209
         ],
         "xaxis": "x",
         "y": [
          1.993659257888794,
          2.069657325744629,
          1.9546054601669312,
          1.9494924545288086,
          1.785832166671753,
          2.2033438682556152,
          1.9934252500534058,
          1.9966652393341064,
          1.960132360458374,
          1.9860037565231323,
          2.406527280807495,
          2.3363232612609863,
          1.9853531122207642,
          1.9424333572387695,
          2.329514741897583,
          2.0262978076934814,
          2.817444324493408,
          2.0945920944213867,
          1.9938411712646484
         ],
         "yaxis": "y"
        },
        {
         "customdata": [
          [
           "www.cbsnews.com",
           "Neutral Positive",
           "3"
          ],
          [
           "www.thecatholicmonitor.com",
           "Positive",
           "3"
          ],
          [
           "www.nytimes.com",
           "Neutral Positive",
           "3"
          ],
          [
           "www.diariodenavarra.es",
           "Positive",
           "3"
          ],
          [
           "altanto.com.do",
           "Neutral Negative",
           "3"
          ],
          [
           "www.sfgate.com",
           "Neutral",
           "3"
          ],
          [
           "www.businessinsider.com",
           "Neutral Positive",
           "3"
          ],
          [
           "www.nbcnews.com",
           "Neutral Negative",
           "3"
          ],
          [
           "dlvr.it",
           "Neutral Negative",
           "3"
          ],
          [
           "cna.asia",
           "Neutral Positive",
           "3"
          ],
          [
           "greenwald.substack.com",
           "Neutral Positive",
           "3"
          ],
          [
           "www.elespanol.com",
           "Negative",
           "3"
          ],
          [
           "buff.ly",
           "Negative",
           "3"
          ],
          [
           "4imag.com",
           "Positive",
           "3"
          ],
          [
           "eltiempomonclova.mx",
           "Positive",
           "3"
          ],
          [
           "share.newsbreak.com",
           "Neutral Positive",
           "3"
          ],
          [
           "seekingalpha.com",
           "Neutral Positive",
           "3"
          ]
         ],
         "hovertemplate": "Address: %{customdata[0]}<br>Sentiment Label: %{customdata[1]}<br>Main Topic:%{customdata[2]}",
         "legendgroup": "3",
         "marker": {
          "color": "#ab63fa",
          "size": [
           0.9962984919548035,
           0.8235723972320557,
           0.939105749130249,
           0.988714873790741,
           0.973301351070404,
           0.5463076829910278,
           0.9988803863525391,
           0.9896377921104431,
           0.488343209028244,
           0.9966632127761841,
           0.9987727403640747,
           0.9868378043174744,
           0.9983739256858826,
           0.9961424469947815,
           0.9916791319847107,
           0.9987788796424866,
           0.999240517616272
          ],
          "sizemode": "area",
          "sizeref": 0.002499343156814575,
          "symbol": "circle"
         },
         "mode": "markers",
         "name": "3",
         "orientation": "v",
         "showlegend": true,
         "type": "scatter",
         "x": [
          4.1251068115234375,
          4.119715690612793,
          4.124760150909424,
          4.279505729675293,
          4.304699420928955,
          4.28045129776001,
          4.280289649963379,
          4.308813571929932,
          4.123208522796631,
          4.128210544586182,
          4.2771406173706055,
          4.3254475593566895,
          4.153332233428955,
          4.11961555480957,
          4.262177467346191,
          4.140552043914795,
          4.30075216293335
         ],
         "xaxis": "x",
         "y": [
          -2.131580352783203,
          -2.102137327194214,
          -2.1187713146209717,
          -2.1329736709594727,
          -2.0796971321105957,
          -2.133502244949341,
          -2.125161647796631,
          -0.882722020149231,
          -2.13171124458313,
          -2.121438980102539,
          -2.135255813598633,
          -1.1808546781539917,
          -2.023549795150757,
          -2.090310573577881,
          -1.8761228322982788,
          -1.6888926029205322,
          -2.0920634269714355
         ],
         "yaxis": "y"
        },
        {
         "customdata": [
          [
           "www.newsbreakapp.com",
           "Neutral Positive",
           "4"
          ],
          [
           "dlvr.it",
           "Neutral",
           "4"
          ],
          [
           "people.com",
           "Neutral Negative",
           "4"
          ],
          [
           "www.nbcnews.com",
           "Neutral Positive",
           "4"
          ],
          [
           "dlvr.it",
           "Neutral Negative",
           "4"
          ],
          [
           "www.sonsof1776.com",
           "Neutral Negative",
           "4"
          ],
          [
           "www.independent.co.uk",
           "Negative",
           "4"
          ],
          [
           "link.springer.com",
           "Neutral Positive",
           "4"
          ]
         ],
         "hovertemplate": "Address: %{customdata[0]}<br>Sentiment Label: %{customdata[1]}<br>Main Topic:%{customdata[2]}",
         "legendgroup": "4",
         "marker": {
          "color": "#FFA15A",
          "size": [
           0.5916895866394043,
           0.7546619772911072,
           0.6923921704292297,
           0.5380217432975769,
           0.9841272234916687,
           0.8123717904090881,
           0.38023945689201355,
           0.9994228482246399
          ],
          "sizemode": "area",
          "sizeref": 0.002499343156814575,
          "symbol": "circle"
         },
         "mode": "markers",
         "name": "4",
         "orientation": "v",
         "showlegend": true,
         "type": "scatter",
         "x": [
          5.117650985717773,
          5.0653910636901855,
          4.825465679168701,
          5.306734085083008,
          5.184515476226807,
          4.729123592376709,
          4.910469055175781,
          5.3145222663879395
         ],
         "xaxis": "x",
         "y": [
          4.788370609283447,
          4.807543754577637,
          4.778464317321777,
          4.828803539276123,
          4.819922924041748,
          4.2333664894104,
          4.802716255187988,
          4.838325500488281
         ],
         "yaxis": "y"
        }
       ],
       "layout": {
        "legend": {
         "itemsizing": "constant",
         "title": {
          "text": "Main Topic"
         },
         "tracegroupgap": 0
        },
        "template": {
         "data": {
          "bar": [
           {
            "error_x": {
             "color": "#2a3f5f"
            },
            "error_y": {
             "color": "#2a3f5f"
            },
            "marker": {
             "line": {
              "color": "#E5ECF6",
              "width": 0.5
             },
             "pattern": {
              "fillmode": "overlay",
              "size": 10,
              "solidity": 0.2
             }
            },
            "type": "bar"
           }
          ],
          "barpolar": [
           {
            "marker": {
             "line": {
              "color": "#E5ECF6",
              "width": 0.5
             },
             "pattern": {
              "fillmode": "overlay",
              "size": 10,
              "solidity": 0.2
             }
            },
            "type": "barpolar"
           }
          ],
          "carpet": [
           {
            "aaxis": {
             "endlinecolor": "#2a3f5f",
             "gridcolor": "white",
             "linecolor": "white",
             "minorgridcolor": "white",
             "startlinecolor": "#2a3f5f"
            },
            "baxis": {
             "endlinecolor": "#2a3f5f",
             "gridcolor": "white",
             "linecolor": "white",
             "minorgridcolor": "white",
             "startlinecolor": "#2a3f5f"
            },
            "type": "carpet"
           }
          ],
          "choropleth": [
           {
            "colorbar": {
             "outlinewidth": 0,
             "ticks": ""
            },
            "type": "choropleth"
           }
          ],
          "contour": [
           {
            "colorbar": {
             "outlinewidth": 0,
             "ticks": ""
            },
            "colorscale": [
             [
              0,
              "#0d0887"
             ],
             [
              0.1111111111111111,
              "#46039f"
             ],
             [
              0.2222222222222222,
              "#7201a8"
             ],
             [
              0.3333333333333333,
              "#9c179e"
             ],
             [
              0.4444444444444444,
              "#bd3786"
             ],
             [
              0.5555555555555556,
              "#d8576b"
             ],
             [
              0.6666666666666666,
              "#ed7953"
             ],
             [
              0.7777777777777778,
              "#fb9f3a"
             ],
             [
              0.8888888888888888,
              "#fdca26"
             ],
             [
              1,
              "#f0f921"
             ]
            ],
            "type": "contour"
           }
          ],
          "contourcarpet": [
           {
            "colorbar": {
             "outlinewidth": 0,
             "ticks": ""
            },
            "type": "contourcarpet"
           }
          ],
          "heatmap": [
           {
            "colorbar": {
             "outlinewidth": 0,
             "ticks": ""
            },
            "colorscale": [
             [
              0,
              "#0d0887"
             ],
             [
              0.1111111111111111,
              "#46039f"
             ],
             [
              0.2222222222222222,
              "#7201a8"
             ],
             [
              0.3333333333333333,
              "#9c179e"
             ],
             [
              0.4444444444444444,
              "#bd3786"
             ],
             [
              0.5555555555555556,
              "#d8576b"
             ],
             [
              0.6666666666666666,
              "#ed7953"
             ],
             [
              0.7777777777777778,
              "#fb9f3a"
             ],
             [
              0.8888888888888888,
              "#fdca26"
             ],
             [
              1,
              "#f0f921"
             ]
            ],
            "type": "heatmap"
           }
          ],
          "heatmapgl": [
           {
            "colorbar": {
             "outlinewidth": 0,
             "ticks": ""
            },
            "colorscale": [
             [
              0,
              "#0d0887"
             ],
             [
              0.1111111111111111,
              "#46039f"
             ],
             [
              0.2222222222222222,
              "#7201a8"
             ],
             [
              0.3333333333333333,
              "#9c179e"
             ],
             [
              0.4444444444444444,
              "#bd3786"
             ],
             [
              0.5555555555555556,
              "#d8576b"
             ],
             [
              0.6666666666666666,
              "#ed7953"
             ],
             [
              0.7777777777777778,
              "#fb9f3a"
             ],
             [
              0.8888888888888888,
              "#fdca26"
             ],
             [
              1,
              "#f0f921"
             ]
            ],
            "type": "heatmapgl"
           }
          ],
          "histogram": [
           {
            "marker": {
             "pattern": {
              "fillmode": "overlay",
              "size": 10,
              "solidity": 0.2
             }
            },
            "type": "histogram"
           }
          ],
          "histogram2d": [
           {
            "colorbar": {
             "outlinewidth": 0,
             "ticks": ""
            },
            "colorscale": [
             [
              0,
              "#0d0887"
             ],
             [
              0.1111111111111111,
              "#46039f"
             ],
             [
              0.2222222222222222,
              "#7201a8"
             ],
             [
              0.3333333333333333,
              "#9c179e"
             ],
             [
              0.4444444444444444,
              "#bd3786"
             ],
             [
              0.5555555555555556,
              "#d8576b"
             ],
             [
              0.6666666666666666,
              "#ed7953"
             ],
             [
              0.7777777777777778,
              "#fb9f3a"
             ],
             [
              0.8888888888888888,
              "#fdca26"
             ],
             [
              1,
              "#f0f921"
             ]
            ],
            "type": "histogram2d"
           }
          ],
          "histogram2dcontour": [
           {
            "colorbar": {
             "outlinewidth": 0,
             "ticks": ""
            },
            "colorscale": [
             [
              0,
              "#0d0887"
             ],
             [
              0.1111111111111111,
              "#46039f"
             ],
             [
              0.2222222222222222,
              "#7201a8"
             ],
             [
              0.3333333333333333,
              "#9c179e"
             ],
             [
              0.4444444444444444,
              "#bd3786"
             ],
             [
              0.5555555555555556,
              "#d8576b"
             ],
             [
              0.6666666666666666,
              "#ed7953"
             ],
             [
              0.7777777777777778,
              "#fb9f3a"
             ],
             [
              0.8888888888888888,
              "#fdca26"
             ],
             [
              1,
              "#f0f921"
             ]
            ],
            "type": "histogram2dcontour"
           }
          ],
          "mesh3d": [
           {
            "colorbar": {
             "outlinewidth": 0,
             "ticks": ""
            },
            "type": "mesh3d"
           }
          ],
          "parcoords": [
           {
            "line": {
             "colorbar": {
              "outlinewidth": 0,
              "ticks": ""
             }
            },
            "type": "parcoords"
           }
          ],
          "pie": [
           {
            "automargin": true,
            "type": "pie"
           }
          ],
          "scatter": [
           {
            "fillpattern": {
             "fillmode": "overlay",
             "size": 10,
             "solidity": 0.2
            },
            "type": "scatter"
           }
          ],
          "scatter3d": [
           {
            "line": {
             "colorbar": {
              "outlinewidth": 0,
              "ticks": ""
             }
            },
            "marker": {
             "colorbar": {
              "outlinewidth": 0,
              "ticks": ""
             }
            },
            "type": "scatter3d"
           }
          ],
          "scattercarpet": [
           {
            "marker": {
             "colorbar": {
              "outlinewidth": 0,
              "ticks": ""
             }
            },
            "type": "scattercarpet"
           }
          ],
          "scattergeo": [
           {
            "marker": {
             "colorbar": {
              "outlinewidth": 0,
              "ticks": ""
             }
            },
            "type": "scattergeo"
           }
          ],
          "scattergl": [
           {
            "marker": {
             "colorbar": {
              "outlinewidth": 0,
              "ticks": ""
             }
            },
            "type": "scattergl"
           }
          ],
          "scattermapbox": [
           {
            "marker": {
             "colorbar": {
              "outlinewidth": 0,
              "ticks": ""
             }
            },
            "type": "scattermapbox"
           }
          ],
          "scatterpolar": [
           {
            "marker": {
             "colorbar": {
              "outlinewidth": 0,
              "ticks": ""
             }
            },
            "type": "scatterpolar"
           }
          ],
          "scatterpolargl": [
           {
            "marker": {
             "colorbar": {
              "outlinewidth": 0,
              "ticks": ""
             }
            },
            "type": "scatterpolargl"
           }
          ],
          "scatterternary": [
           {
            "marker": {
             "colorbar": {
              "outlinewidth": 0,
              "ticks": ""
             }
            },
            "type": "scatterternary"
           }
          ],
          "surface": [
           {
            "colorbar": {
             "outlinewidth": 0,
             "ticks": ""
            },
            "colorscale": [
             [
              0,
              "#0d0887"
             ],
             [
              0.1111111111111111,
              "#46039f"
             ],
             [
              0.2222222222222222,
              "#7201a8"
             ],
             [
              0.3333333333333333,
              "#9c179e"
             ],
             [
              0.4444444444444444,
              "#bd3786"
             ],
             [
              0.5555555555555556,
              "#d8576b"
             ],
             [
              0.6666666666666666,
              "#ed7953"
             ],
             [
              0.7777777777777778,
              "#fb9f3a"
             ],
             [
              0.8888888888888888,
              "#fdca26"
             ],
             [
              1,
              "#f0f921"
             ]
            ],
            "type": "surface"
           }
          ],
          "table": [
           {
            "cells": {
             "fill": {
              "color": "#EBF0F8"
             },
             "line": {
              "color": "white"
             }
            },
            "header": {
             "fill": {
              "color": "#C8D4E3"
             },
             "line": {
              "color": "white"
             }
            },
            "type": "table"
           }
          ]
         },
         "layout": {
          "annotationdefaults": {
           "arrowcolor": "#2a3f5f",
           "arrowhead": 0,
           "arrowwidth": 1
          },
          "autotypenumbers": "strict",
          "coloraxis": {
           "colorbar": {
            "outlinewidth": 0,
            "ticks": ""
           }
          },
          "colorscale": {
           "diverging": [
            [
             0,
             "#8e0152"
            ],
            [
             0.1,
             "#c51b7d"
            ],
            [
             0.2,
             "#de77ae"
            ],
            [
             0.3,
             "#f1b6da"
            ],
            [
             0.4,
             "#fde0ef"
            ],
            [
             0.5,
             "#f7f7f7"
            ],
            [
             0.6,
             "#e6f5d0"
            ],
            [
             0.7,
             "#b8e186"
            ],
            [
             0.8,
             "#7fbc41"
            ],
            [
             0.9,
             "#4d9221"
            ],
            [
             1,
             "#276419"
            ]
           ],
           "sequential": [
            [
             0,
             "#0d0887"
            ],
            [
             0.1111111111111111,
             "#46039f"
            ],
            [
             0.2222222222222222,
             "#7201a8"
            ],
            [
             0.3333333333333333,
             "#9c179e"
            ],
            [
             0.4444444444444444,
             "#bd3786"
            ],
            [
             0.5555555555555556,
             "#d8576b"
            ],
            [
             0.6666666666666666,
             "#ed7953"
            ],
            [
             0.7777777777777778,
             "#fb9f3a"
            ],
            [
             0.8888888888888888,
             "#fdca26"
            ],
            [
             1,
             "#f0f921"
            ]
           ],
           "sequentialminus": [
            [
             0,
             "#0d0887"
            ],
            [
             0.1111111111111111,
             "#46039f"
            ],
            [
             0.2222222222222222,
             "#7201a8"
            ],
            [
             0.3333333333333333,
             "#9c179e"
            ],
            [
             0.4444444444444444,
             "#bd3786"
            ],
            [
             0.5555555555555556,
             "#d8576b"
            ],
            [
             0.6666666666666666,
             "#ed7953"
            ],
            [
             0.7777777777777778,
             "#fb9f3a"
            ],
            [
             0.8888888888888888,
             "#fdca26"
            ],
            [
             1,
             "#f0f921"
            ]
           ]
          },
          "colorway": [
           "#636efa",
           "#EF553B",
           "#00cc96",
           "#ab63fa",
           "#FFA15A",
           "#19d3f3",
           "#FF6692",
           "#B6E880",
           "#FF97FF",
           "#FECB52"
          ],
          "font": {
           "color": "#2a3f5f"
          },
          "geo": {
           "bgcolor": "white",
           "lakecolor": "white",
           "landcolor": "#E5ECF6",
           "showlakes": true,
           "showland": true,
           "subunitcolor": "white"
          },
          "hoverlabel": {
           "align": "left"
          },
          "hovermode": "closest",
          "mapbox": {
           "style": "light"
          },
          "paper_bgcolor": "white",
          "plot_bgcolor": "#E5ECF6",
          "polar": {
           "angularaxis": {
            "gridcolor": "white",
            "linecolor": "white",
            "ticks": ""
           },
           "bgcolor": "#E5ECF6",
           "radialaxis": {
            "gridcolor": "white",
            "linecolor": "white",
            "ticks": ""
           }
          },
          "scene": {
           "xaxis": {
            "backgroundcolor": "#E5ECF6",
            "gridcolor": "white",
            "gridwidth": 2,
            "linecolor": "white",
            "showbackground": true,
            "ticks": "",
            "zerolinecolor": "white"
           },
           "yaxis": {
            "backgroundcolor": "#E5ECF6",
            "gridcolor": "white",
            "gridwidth": 2,
            "linecolor": "white",
            "showbackground": true,
            "ticks": "",
            "zerolinecolor": "white"
           },
           "zaxis": {
            "backgroundcolor": "#E5ECF6",
            "gridcolor": "white",
            "gridwidth": 2,
            "linecolor": "white",
            "showbackground": true,
            "ticks": "",
            "zerolinecolor": "white"
           }
          },
          "shapedefaults": {
           "line": {
            "color": "#2a3f5f"
           }
          },
          "ternary": {
           "aaxis": {
            "gridcolor": "white",
            "linecolor": "white",
            "ticks": ""
           },
           "baxis": {
            "gridcolor": "white",
            "linecolor": "white",
            "ticks": ""
           },
           "bgcolor": "#E5ECF6",
           "caxis": {
            "gridcolor": "white",
            "linecolor": "white",
            "ticks": ""
           }
          },
          "title": {
           "x": 0.05
          },
          "xaxis": {
           "automargin": true,
           "gridcolor": "white",
           "linecolor": "white",
           "ticks": "",
           "title": {
            "standoff": 15
           },
           "zerolinecolor": "white",
           "zerolinewidth": 2
          },
          "yaxis": {
           "automargin": true,
           "gridcolor": "white",
           "linecolor": "white",
           "ticks": "",
           "title": {
            "standoff": 15
           },
           "zerolinecolor": "white",
           "zerolinewidth": 2
          }
         }
        },
        "title": {
         "text": "Topic Clustering Graph"
        },
        "xaxis": {
         "anchor": "y",
         "domain": [
          0,
          1
         ],
         "title": {
          "text": "x"
         }
        },
        "yaxis": {
         "anchor": "x",
         "domain": [
          0,
          1
         ],
         "title": {
          "text": "y"
         }
        }
       }
      }
     },
     "metadata": {},
     "output_type": "display_data"
    }
   ],
   "source": [
    "visualize_topic_cluster_tsne(LDA_model, df)"
   ]
  },
  {
   "cell_type": "markdown",
   "id": "69a452f5",
   "metadata": {},
   "source": [
    "## Subjectivity vs Sentiment of Articles for a single topic"
   ]
  },
  {
   "cell_type": "markdown",
   "id": "92b721a6",
   "metadata": {},
   "source": [
    "Will iterate through our list_of_topics_to_visualize and will make a graph for each topic number in that list."
   ]
  },
  {
   "cell_type": "code",
   "execution_count": 96,
   "id": "8cb3e81c",
   "metadata": {
    "scrolled": false
   },
   "outputs": [
    {
     "data": {
      "application/vnd.plotly.v1+json": {
       "config": {
        "plotlyServerURL": "https://plot.ly"
       },
       "data": [
        {
         "hovertemplate": "<b>%{hovertext}</b><br><br>Subjectivity Score=%{x}<br>Sentiment Score=%{y}<br>Main Topic Score=%{marker.size}<extra></extra>",
         "hovertext": [
          "open.substack.com",
          "www.politico.com",
          "buff.ly",
          "soundcloud.com",
          "time.com",
          "dlvr.it",
          "twitchy.com",
          "nyti.ms"
         ],
         "legendgroup": "",
         "marker": {
          "color": "#636efa",
          "size": [
           0.7796992659568787,
           0.6533900499343872,
           0.9997372627258301,
           0.9943929314613342,
           0.6907792687416077,
           0.9950559735298157,
           0.5226345062255859,
           0.9997372627258301
          ],
          "sizemode": "area",
          "sizeref": 0.002499343156814575,
          "symbol": "circle"
         },
         "mode": "markers",
         "name": "",
         "orientation": "v",
         "showlegend": false,
         "type": "scatter",
         "x": [
          0.45,
          0.43,
          0.49,
          0.58,
          0.43,
          0.34,
          0.38,
          0.49
         ],
         "xaxis": "x",
         "y": [
          0.16,
          0.07,
          0.13,
          0.14,
          0.1,
          0.03,
          0.15,
          0.13
         ],
         "yaxis": "y"
        }
       ],
       "layout": {
        "legend": {
         "itemsizing": "constant",
         "tracegroupgap": 0
        },
        "template": {
         "data": {
          "bar": [
           {
            "error_x": {
             "color": "#2a3f5f"
            },
            "error_y": {
             "color": "#2a3f5f"
            },
            "marker": {
             "line": {
              "color": "#E5ECF6",
              "width": 0.5
             },
             "pattern": {
              "fillmode": "overlay",
              "size": 10,
              "solidity": 0.2
             }
            },
            "type": "bar"
           }
          ],
          "barpolar": [
           {
            "marker": {
             "line": {
              "color": "#E5ECF6",
              "width": 0.5
             },
             "pattern": {
              "fillmode": "overlay",
              "size": 10,
              "solidity": 0.2
             }
            },
            "type": "barpolar"
           }
          ],
          "carpet": [
           {
            "aaxis": {
             "endlinecolor": "#2a3f5f",
             "gridcolor": "white",
             "linecolor": "white",
             "minorgridcolor": "white",
             "startlinecolor": "#2a3f5f"
            },
            "baxis": {
             "endlinecolor": "#2a3f5f",
             "gridcolor": "white",
             "linecolor": "white",
             "minorgridcolor": "white",
             "startlinecolor": "#2a3f5f"
            },
            "type": "carpet"
           }
          ],
          "choropleth": [
           {
            "colorbar": {
             "outlinewidth": 0,
             "ticks": ""
            },
            "type": "choropleth"
           }
          ],
          "contour": [
           {
            "colorbar": {
             "outlinewidth": 0,
             "ticks": ""
            },
            "colorscale": [
             [
              0,
              "#0d0887"
             ],
             [
              0.1111111111111111,
              "#46039f"
             ],
             [
              0.2222222222222222,
              "#7201a8"
             ],
             [
              0.3333333333333333,
              "#9c179e"
             ],
             [
              0.4444444444444444,
              "#bd3786"
             ],
             [
              0.5555555555555556,
              "#d8576b"
             ],
             [
              0.6666666666666666,
              "#ed7953"
             ],
             [
              0.7777777777777778,
              "#fb9f3a"
             ],
             [
              0.8888888888888888,
              "#fdca26"
             ],
             [
              1,
              "#f0f921"
             ]
            ],
            "type": "contour"
           }
          ],
          "contourcarpet": [
           {
            "colorbar": {
             "outlinewidth": 0,
             "ticks": ""
            },
            "type": "contourcarpet"
           }
          ],
          "heatmap": [
           {
            "colorbar": {
             "outlinewidth": 0,
             "ticks": ""
            },
            "colorscale": [
             [
              0,
              "#0d0887"
             ],
             [
              0.1111111111111111,
              "#46039f"
             ],
             [
              0.2222222222222222,
              "#7201a8"
             ],
             [
              0.3333333333333333,
              "#9c179e"
             ],
             [
              0.4444444444444444,
              "#bd3786"
             ],
             [
              0.5555555555555556,
              "#d8576b"
             ],
             [
              0.6666666666666666,
              "#ed7953"
             ],
             [
              0.7777777777777778,
              "#fb9f3a"
             ],
             [
              0.8888888888888888,
              "#fdca26"
             ],
             [
              1,
              "#f0f921"
             ]
            ],
            "type": "heatmap"
           }
          ],
          "heatmapgl": [
           {
            "colorbar": {
             "outlinewidth": 0,
             "ticks": ""
            },
            "colorscale": [
             [
              0,
              "#0d0887"
             ],
             [
              0.1111111111111111,
              "#46039f"
             ],
             [
              0.2222222222222222,
              "#7201a8"
             ],
             [
              0.3333333333333333,
              "#9c179e"
             ],
             [
              0.4444444444444444,
              "#bd3786"
             ],
             [
              0.5555555555555556,
              "#d8576b"
             ],
             [
              0.6666666666666666,
              "#ed7953"
             ],
             [
              0.7777777777777778,
              "#fb9f3a"
             ],
             [
              0.8888888888888888,
              "#fdca26"
             ],
             [
              1,
              "#f0f921"
             ]
            ],
            "type": "heatmapgl"
           }
          ],
          "histogram": [
           {
            "marker": {
             "pattern": {
              "fillmode": "overlay",
              "size": 10,
              "solidity": 0.2
             }
            },
            "type": "histogram"
           }
          ],
          "histogram2d": [
           {
            "colorbar": {
             "outlinewidth": 0,
             "ticks": ""
            },
            "colorscale": [
             [
              0,
              "#0d0887"
             ],
             [
              0.1111111111111111,
              "#46039f"
             ],
             [
              0.2222222222222222,
              "#7201a8"
             ],
             [
              0.3333333333333333,
              "#9c179e"
             ],
             [
              0.4444444444444444,
              "#bd3786"
             ],
             [
              0.5555555555555556,
              "#d8576b"
             ],
             [
              0.6666666666666666,
              "#ed7953"
             ],
             [
              0.7777777777777778,
              "#fb9f3a"
             ],
             [
              0.8888888888888888,
              "#fdca26"
             ],
             [
              1,
              "#f0f921"
             ]
            ],
            "type": "histogram2d"
           }
          ],
          "histogram2dcontour": [
           {
            "colorbar": {
             "outlinewidth": 0,
             "ticks": ""
            },
            "colorscale": [
             [
              0,
              "#0d0887"
             ],
             [
              0.1111111111111111,
              "#46039f"
             ],
             [
              0.2222222222222222,
              "#7201a8"
             ],
             [
              0.3333333333333333,
              "#9c179e"
             ],
             [
              0.4444444444444444,
              "#bd3786"
             ],
             [
              0.5555555555555556,
              "#d8576b"
             ],
             [
              0.6666666666666666,
              "#ed7953"
             ],
             [
              0.7777777777777778,
              "#fb9f3a"
             ],
             [
              0.8888888888888888,
              "#fdca26"
             ],
             [
              1,
              "#f0f921"
             ]
            ],
            "type": "histogram2dcontour"
           }
          ],
          "mesh3d": [
           {
            "colorbar": {
             "outlinewidth": 0,
             "ticks": ""
            },
            "type": "mesh3d"
           }
          ],
          "parcoords": [
           {
            "line": {
             "colorbar": {
              "outlinewidth": 0,
              "ticks": ""
             }
            },
            "type": "parcoords"
           }
          ],
          "pie": [
           {
            "automargin": true,
            "type": "pie"
           }
          ],
          "scatter": [
           {
            "fillpattern": {
             "fillmode": "overlay",
             "size": 10,
             "solidity": 0.2
            },
            "type": "scatter"
           }
          ],
          "scatter3d": [
           {
            "line": {
             "colorbar": {
              "outlinewidth": 0,
              "ticks": ""
             }
            },
            "marker": {
             "colorbar": {
              "outlinewidth": 0,
              "ticks": ""
             }
            },
            "type": "scatter3d"
           }
          ],
          "scattercarpet": [
           {
            "marker": {
             "colorbar": {
              "outlinewidth": 0,
              "ticks": ""
             }
            },
            "type": "scattercarpet"
           }
          ],
          "scattergeo": [
           {
            "marker": {
             "colorbar": {
              "outlinewidth": 0,
              "ticks": ""
             }
            },
            "type": "scattergeo"
           }
          ],
          "scattergl": [
           {
            "marker": {
             "colorbar": {
              "outlinewidth": 0,
              "ticks": ""
             }
            },
            "type": "scattergl"
           }
          ],
          "scattermapbox": [
           {
            "marker": {
             "colorbar": {
              "outlinewidth": 0,
              "ticks": ""
             }
            },
            "type": "scattermapbox"
           }
          ],
          "scatterpolar": [
           {
            "marker": {
             "colorbar": {
              "outlinewidth": 0,
              "ticks": ""
             }
            },
            "type": "scatterpolar"
           }
          ],
          "scatterpolargl": [
           {
            "marker": {
             "colorbar": {
              "outlinewidth": 0,
              "ticks": ""
             }
            },
            "type": "scatterpolargl"
           }
          ],
          "scatterternary": [
           {
            "marker": {
             "colorbar": {
              "outlinewidth": 0,
              "ticks": ""
             }
            },
            "type": "scatterternary"
           }
          ],
          "surface": [
           {
            "colorbar": {
             "outlinewidth": 0,
             "ticks": ""
            },
            "colorscale": [
             [
              0,
              "#0d0887"
             ],
             [
              0.1111111111111111,
              "#46039f"
             ],
             [
              0.2222222222222222,
              "#7201a8"
             ],
             [
              0.3333333333333333,
              "#9c179e"
             ],
             [
              0.4444444444444444,
              "#bd3786"
             ],
             [
              0.5555555555555556,
              "#d8576b"
             ],
             [
              0.6666666666666666,
              "#ed7953"
             ],
             [
              0.7777777777777778,
              "#fb9f3a"
             ],
             [
              0.8888888888888888,
              "#fdca26"
             ],
             [
              1,
              "#f0f921"
             ]
            ],
            "type": "surface"
           }
          ],
          "table": [
           {
            "cells": {
             "fill": {
              "color": "#EBF0F8"
             },
             "line": {
              "color": "white"
             }
            },
            "header": {
             "fill": {
              "color": "#C8D4E3"
             },
             "line": {
              "color": "white"
             }
            },
            "type": "table"
           }
          ]
         },
         "layout": {
          "annotationdefaults": {
           "arrowcolor": "#2a3f5f",
           "arrowhead": 0,
           "arrowwidth": 1
          },
          "autotypenumbers": "strict",
          "coloraxis": {
           "colorbar": {
            "outlinewidth": 0,
            "ticks": ""
           }
          },
          "colorscale": {
           "diverging": [
            [
             0,
             "#8e0152"
            ],
            [
             0.1,
             "#c51b7d"
            ],
            [
             0.2,
             "#de77ae"
            ],
            [
             0.3,
             "#f1b6da"
            ],
            [
             0.4,
             "#fde0ef"
            ],
            [
             0.5,
             "#f7f7f7"
            ],
            [
             0.6,
             "#e6f5d0"
            ],
            [
             0.7,
             "#b8e186"
            ],
            [
             0.8,
             "#7fbc41"
            ],
            [
             0.9,
             "#4d9221"
            ],
            [
             1,
             "#276419"
            ]
           ],
           "sequential": [
            [
             0,
             "#0d0887"
            ],
            [
             0.1111111111111111,
             "#46039f"
            ],
            [
             0.2222222222222222,
             "#7201a8"
            ],
            [
             0.3333333333333333,
             "#9c179e"
            ],
            [
             0.4444444444444444,
             "#bd3786"
            ],
            [
             0.5555555555555556,
             "#d8576b"
            ],
            [
             0.6666666666666666,
             "#ed7953"
            ],
            [
             0.7777777777777778,
             "#fb9f3a"
            ],
            [
             0.8888888888888888,
             "#fdca26"
            ],
            [
             1,
             "#f0f921"
            ]
           ],
           "sequentialminus": [
            [
             0,
             "#0d0887"
            ],
            [
             0.1111111111111111,
             "#46039f"
            ],
            [
             0.2222222222222222,
             "#7201a8"
            ],
            [
             0.3333333333333333,
             "#9c179e"
            ],
            [
             0.4444444444444444,
             "#bd3786"
            ],
            [
             0.5555555555555556,
             "#d8576b"
            ],
            [
             0.6666666666666666,
             "#ed7953"
            ],
            [
             0.7777777777777778,
             "#fb9f3a"
            ],
            [
             0.8888888888888888,
             "#fdca26"
            ],
            [
             1,
             "#f0f921"
            ]
           ]
          },
          "colorway": [
           "#636efa",
           "#EF553B",
           "#00cc96",
           "#ab63fa",
           "#FFA15A",
           "#19d3f3",
           "#FF6692",
           "#B6E880",
           "#FF97FF",
           "#FECB52"
          ],
          "font": {
           "color": "#2a3f5f"
          },
          "geo": {
           "bgcolor": "white",
           "lakecolor": "white",
           "landcolor": "#E5ECF6",
           "showlakes": true,
           "showland": true,
           "subunitcolor": "white"
          },
          "hoverlabel": {
           "align": "left"
          },
          "hovermode": "closest",
          "mapbox": {
           "style": "light"
          },
          "paper_bgcolor": "white",
          "plot_bgcolor": "#E5ECF6",
          "polar": {
           "angularaxis": {
            "gridcolor": "white",
            "linecolor": "white",
            "ticks": ""
           },
           "bgcolor": "#E5ECF6",
           "radialaxis": {
            "gridcolor": "white",
            "linecolor": "white",
            "ticks": ""
           }
          },
          "scene": {
           "xaxis": {
            "backgroundcolor": "#E5ECF6",
            "gridcolor": "white",
            "gridwidth": 2,
            "linecolor": "white",
            "showbackground": true,
            "ticks": "",
            "zerolinecolor": "white"
           },
           "yaxis": {
            "backgroundcolor": "#E5ECF6",
            "gridcolor": "white",
            "gridwidth": 2,
            "linecolor": "white",
            "showbackground": true,
            "ticks": "",
            "zerolinecolor": "white"
           },
           "zaxis": {
            "backgroundcolor": "#E5ECF6",
            "gridcolor": "white",
            "gridwidth": 2,
            "linecolor": "white",
            "showbackground": true,
            "ticks": "",
            "zerolinecolor": "white"
           }
          },
          "shapedefaults": {
           "line": {
            "color": "#2a3f5f"
           }
          },
          "ternary": {
           "aaxis": {
            "gridcolor": "white",
            "linecolor": "white",
            "ticks": ""
           },
           "baxis": {
            "gridcolor": "white",
            "linecolor": "white",
            "ticks": ""
           },
           "bgcolor": "#E5ECF6",
           "caxis": {
            "gridcolor": "white",
            "linecolor": "white",
            "ticks": ""
           }
          },
          "title": {
           "x": 0.05
          },
          "xaxis": {
           "automargin": true,
           "gridcolor": "white",
           "linecolor": "white",
           "ticks": "",
           "title": {
            "standoff": 15
           },
           "zerolinecolor": "white",
           "zerolinewidth": 2
          },
          "yaxis": {
           "automargin": true,
           "gridcolor": "white",
           "linecolor": "white",
           "ticks": "",
           "title": {
            "standoff": 15
           },
           "zerolinecolor": "white",
           "zerolinewidth": 2
          }
         }
        },
        "title": {
         "text": "Sentiment Analysis on Topic 0"
        },
        "xaxis": {
         "anchor": "y",
         "domain": [
          0,
          1
         ],
         "title": {
          "text": "Subjectivity Score"
         }
        },
        "yaxis": {
         "anchor": "x",
         "domain": [
          0,
          1
         ],
         "title": {
          "text": "Sentiment Score"
         }
        }
       }
      }
     },
     "metadata": {},
     "output_type": "display_data"
    },
    {
     "data": {
      "application/vnd.plotly.v1+json": {
       "config": {
        "plotlyServerURL": "https://plot.ly"
       },
       "data": [
        {
         "hovertemplate": "<b>%{hovertext}</b><br><br>Subjectivity Score=%{x}<br>Sentiment Score=%{y}<br>Main Topic Score=%{marker.size}<extra></extra>",
         "hovertext": [
          "flip.it",
          "ow.ly",
          "www.theepochtimes.com",
          "nbcbay.com",
          "NBC11NEWS.com",
          "www.wkyt.com",
          "nationalfile.com",
          "welovetrump.com",
          "crooksandliars.com",
          "tiny.iavian.net",
          "www.independent.co.uk",
          "ift.tt",
          "www.nytimes.com",
          "www.thenewcivilrightsmovement.com",
          "www.dailymail.co.uk",
          "news.yahoo.com",
          "www.cnn.com",
          "www.nbcnews.com",
          "l.smartnews.com",
          "www.jihadwatch.org",
          "www.mediaite.com",
          "nbcnews.to",
          "dlvr.it",
          "punchbowl.news",
          "www.washingtontimes.com",
          "l.smartnews.com",
          "lakegenevanews.net",
          "www.theyeshivaworld.com",
          "www.kosu.org",
          "ca.news.yahoo.com",
          "tinyurl.com",
          "wapo.st",
          "wjactv.com",
          "bismarcktribune.com",
          "buff.ly",
          "www.latimes.com",
          "ugnews24.info",
          "www.whas11.com",
          "www.cbc.ca",
          "www.newsmax.com",
          "ift.tt",
          "flip.it",
          "trib.al",
          "www.dailymail.co.uk",
          "nbcbayarea.com",
          "politi.co",
          "www.nbcnews.com",
          "www.independent.co.uk",
          "www.audacy.com",
          "rollingstone.com",
          "www.courttv.com",
          "trib.al",
          "ijr.com",
          "www.newsnationnow.com",
          "www.theepochtimes.com",
          "bit.ly"
         ],
         "legendgroup": "",
         "marker": {
          "color": "#636efa",
          "size": [
           0.702850341796875,
           0.9975342750549316,
           0.9969711899757385,
           0.9981183409690857,
           0.9976338148117065,
           0.9983872175216675,
           0.9959321022033691,
           0.6534833908081055,
           0.9362783432006836,
           0.9959321022033691,
           0.6857858300209045,
           0.9930770993232727,
           0.5955779552459717,
           0.9959239363670349,
           0.9987987279891968,
           0.9952404499053955,
           0.9944973587989807,
           0.9980452656745911,
           0.9968070387840271,
           0.7784535884857178,
           0.992563009262085,
           0.9963247776031494,
           0.6681032180786133,
           0.9951105713844299,
           0.8526859283447266,
           0.7588173747062683,
           0.9947474598884583,
           0.9958237409591675,
           0.9957737922668457,
           0.9957098364830017,
           0.9077325463294983,
           0.9799039959907532,
           0.9982547163963318,
           0.9899915456771851,
           0.9978347420692444,
           0.998626708984375,
           0.9974175691604614,
           0.9974946975708008,
           0.9648228287696838,
           0.7709195613861084,
           0.9981256127357483,
           0.9977999925613403,
           0.9933016896247864,
           0.9981193542480469,
           0.9962419271469116,
           0.9625006914138794,
           0.9954025745391846,
           0.9939365983009338,
           0.9959101676940918,
           0.997361421585083,
           0.9951232075691223,
           0.9972604513168335,
           0.88518887758255,
           0.9944215416908264,
           0.9968180656433105,
           0.9983871579170227
          ],
          "sizemode": "area",
          "sizeref": 0.002496996819972992,
          "symbol": "circle"
         },
         "mode": "markers",
         "name": "",
         "orientation": "v",
         "showlegend": false,
         "type": "scatter",
         "x": [
          0.39,
          0.33,
          0.33,
          0.44,
          0.44,
          0.39,
          0.38,
          0.46,
          0.66,
          0.38,
          0.53,
          0.29,
          0.5,
          0.39,
          0.35,
          0.36,
          0.52,
          0.36,
          0.38,
          0.52,
          0.38,
          0.39,
          0.42,
          0.41,
          0.45,
          0.48,
          0.29,
          0.41,
          0.32,
          0.42,
          0.51,
          0.5,
          0.39,
          0.37,
          0.37,
          0.43,
          0.39,
          0.44,
          0.35,
          0.53,
          0.41,
          0.37,
          0.46,
          0.34,
          0.37,
          0.49,
          0.46,
          0.44,
          0.44,
          0.39,
          0.44,
          0.49,
          0.41,
          0.4,
          0.43,
          0.39
         ],
         "xaxis": "x",
         "y": [
          0.05,
          0.09,
          -0.02,
          0.12,
          -0.04,
          0.11,
          0.05,
          0.22,
          -0.2,
          0.05,
          -0.07,
          0.05,
          0.03,
          -0.02,
          0.08,
          -0.16,
          0.04,
          -0.06,
          0.1,
          -0.1,
          0.11,
          -0.01,
          0.18,
          0.07,
          0.24,
          0.12,
          0.07,
          0.07,
          0.02,
          0.06,
          0.03,
          0.13,
          0.13,
          0.04,
          0.08,
          0.05,
          0.06,
          0.13,
          0.11,
          -0.27,
          0.02,
          0.08,
          0.16,
          0.03,
          -0.05,
          0.08,
          0.06,
          -0.05,
          -0.05,
          0.01,
          -0.08,
          0.12,
          0.12,
          0.04,
          0.05,
          0.11
         ],
         "yaxis": "y"
        }
       ],
       "layout": {
        "legend": {
         "itemsizing": "constant",
         "tracegroupgap": 0
        },
        "template": {
         "data": {
          "bar": [
           {
            "error_x": {
             "color": "#2a3f5f"
            },
            "error_y": {
             "color": "#2a3f5f"
            },
            "marker": {
             "line": {
              "color": "#E5ECF6",
              "width": 0.5
             },
             "pattern": {
              "fillmode": "overlay",
              "size": 10,
              "solidity": 0.2
             }
            },
            "type": "bar"
           }
          ],
          "barpolar": [
           {
            "marker": {
             "line": {
              "color": "#E5ECF6",
              "width": 0.5
             },
             "pattern": {
              "fillmode": "overlay",
              "size": 10,
              "solidity": 0.2
             }
            },
            "type": "barpolar"
           }
          ],
          "carpet": [
           {
            "aaxis": {
             "endlinecolor": "#2a3f5f",
             "gridcolor": "white",
             "linecolor": "white",
             "minorgridcolor": "white",
             "startlinecolor": "#2a3f5f"
            },
            "baxis": {
             "endlinecolor": "#2a3f5f",
             "gridcolor": "white",
             "linecolor": "white",
             "minorgridcolor": "white",
             "startlinecolor": "#2a3f5f"
            },
            "type": "carpet"
           }
          ],
          "choropleth": [
           {
            "colorbar": {
             "outlinewidth": 0,
             "ticks": ""
            },
            "type": "choropleth"
           }
          ],
          "contour": [
           {
            "colorbar": {
             "outlinewidth": 0,
             "ticks": ""
            },
            "colorscale": [
             [
              0,
              "#0d0887"
             ],
             [
              0.1111111111111111,
              "#46039f"
             ],
             [
              0.2222222222222222,
              "#7201a8"
             ],
             [
              0.3333333333333333,
              "#9c179e"
             ],
             [
              0.4444444444444444,
              "#bd3786"
             ],
             [
              0.5555555555555556,
              "#d8576b"
             ],
             [
              0.6666666666666666,
              "#ed7953"
             ],
             [
              0.7777777777777778,
              "#fb9f3a"
             ],
             [
              0.8888888888888888,
              "#fdca26"
             ],
             [
              1,
              "#f0f921"
             ]
            ],
            "type": "contour"
           }
          ],
          "contourcarpet": [
           {
            "colorbar": {
             "outlinewidth": 0,
             "ticks": ""
            },
            "type": "contourcarpet"
           }
          ],
          "heatmap": [
           {
            "colorbar": {
             "outlinewidth": 0,
             "ticks": ""
            },
            "colorscale": [
             [
              0,
              "#0d0887"
             ],
             [
              0.1111111111111111,
              "#46039f"
             ],
             [
              0.2222222222222222,
              "#7201a8"
             ],
             [
              0.3333333333333333,
              "#9c179e"
             ],
             [
              0.4444444444444444,
              "#bd3786"
             ],
             [
              0.5555555555555556,
              "#d8576b"
             ],
             [
              0.6666666666666666,
              "#ed7953"
             ],
             [
              0.7777777777777778,
              "#fb9f3a"
             ],
             [
              0.8888888888888888,
              "#fdca26"
             ],
             [
              1,
              "#f0f921"
             ]
            ],
            "type": "heatmap"
           }
          ],
          "heatmapgl": [
           {
            "colorbar": {
             "outlinewidth": 0,
             "ticks": ""
            },
            "colorscale": [
             [
              0,
              "#0d0887"
             ],
             [
              0.1111111111111111,
              "#46039f"
             ],
             [
              0.2222222222222222,
              "#7201a8"
             ],
             [
              0.3333333333333333,
              "#9c179e"
             ],
             [
              0.4444444444444444,
              "#bd3786"
             ],
             [
              0.5555555555555556,
              "#d8576b"
             ],
             [
              0.6666666666666666,
              "#ed7953"
             ],
             [
              0.7777777777777778,
              "#fb9f3a"
             ],
             [
              0.8888888888888888,
              "#fdca26"
             ],
             [
              1,
              "#f0f921"
             ]
            ],
            "type": "heatmapgl"
           }
          ],
          "histogram": [
           {
            "marker": {
             "pattern": {
              "fillmode": "overlay",
              "size": 10,
              "solidity": 0.2
             }
            },
            "type": "histogram"
           }
          ],
          "histogram2d": [
           {
            "colorbar": {
             "outlinewidth": 0,
             "ticks": ""
            },
            "colorscale": [
             [
              0,
              "#0d0887"
             ],
             [
              0.1111111111111111,
              "#46039f"
             ],
             [
              0.2222222222222222,
              "#7201a8"
             ],
             [
              0.3333333333333333,
              "#9c179e"
             ],
             [
              0.4444444444444444,
              "#bd3786"
             ],
             [
              0.5555555555555556,
              "#d8576b"
             ],
             [
              0.6666666666666666,
              "#ed7953"
             ],
             [
              0.7777777777777778,
              "#fb9f3a"
             ],
             [
              0.8888888888888888,
              "#fdca26"
             ],
             [
              1,
              "#f0f921"
             ]
            ],
            "type": "histogram2d"
           }
          ],
          "histogram2dcontour": [
           {
            "colorbar": {
             "outlinewidth": 0,
             "ticks": ""
            },
            "colorscale": [
             [
              0,
              "#0d0887"
             ],
             [
              0.1111111111111111,
              "#46039f"
             ],
             [
              0.2222222222222222,
              "#7201a8"
             ],
             [
              0.3333333333333333,
              "#9c179e"
             ],
             [
              0.4444444444444444,
              "#bd3786"
             ],
             [
              0.5555555555555556,
              "#d8576b"
             ],
             [
              0.6666666666666666,
              "#ed7953"
             ],
             [
              0.7777777777777778,
              "#fb9f3a"
             ],
             [
              0.8888888888888888,
              "#fdca26"
             ],
             [
              1,
              "#f0f921"
             ]
            ],
            "type": "histogram2dcontour"
           }
          ],
          "mesh3d": [
           {
            "colorbar": {
             "outlinewidth": 0,
             "ticks": ""
            },
            "type": "mesh3d"
           }
          ],
          "parcoords": [
           {
            "line": {
             "colorbar": {
              "outlinewidth": 0,
              "ticks": ""
             }
            },
            "type": "parcoords"
           }
          ],
          "pie": [
           {
            "automargin": true,
            "type": "pie"
           }
          ],
          "scatter": [
           {
            "fillpattern": {
             "fillmode": "overlay",
             "size": 10,
             "solidity": 0.2
            },
            "type": "scatter"
           }
          ],
          "scatter3d": [
           {
            "line": {
             "colorbar": {
              "outlinewidth": 0,
              "ticks": ""
             }
            },
            "marker": {
             "colorbar": {
              "outlinewidth": 0,
              "ticks": ""
             }
            },
            "type": "scatter3d"
           }
          ],
          "scattercarpet": [
           {
            "marker": {
             "colorbar": {
              "outlinewidth": 0,
              "ticks": ""
             }
            },
            "type": "scattercarpet"
           }
          ],
          "scattergeo": [
           {
            "marker": {
             "colorbar": {
              "outlinewidth": 0,
              "ticks": ""
             }
            },
            "type": "scattergeo"
           }
          ],
          "scattergl": [
           {
            "marker": {
             "colorbar": {
              "outlinewidth": 0,
              "ticks": ""
             }
            },
            "type": "scattergl"
           }
          ],
          "scattermapbox": [
           {
            "marker": {
             "colorbar": {
              "outlinewidth": 0,
              "ticks": ""
             }
            },
            "type": "scattermapbox"
           }
          ],
          "scatterpolar": [
           {
            "marker": {
             "colorbar": {
              "outlinewidth": 0,
              "ticks": ""
             }
            },
            "type": "scatterpolar"
           }
          ],
          "scatterpolargl": [
           {
            "marker": {
             "colorbar": {
              "outlinewidth": 0,
              "ticks": ""
             }
            },
            "type": "scatterpolargl"
           }
          ],
          "scatterternary": [
           {
            "marker": {
             "colorbar": {
              "outlinewidth": 0,
              "ticks": ""
             }
            },
            "type": "scatterternary"
           }
          ],
          "surface": [
           {
            "colorbar": {
             "outlinewidth": 0,
             "ticks": ""
            },
            "colorscale": [
             [
              0,
              "#0d0887"
             ],
             [
              0.1111111111111111,
              "#46039f"
             ],
             [
              0.2222222222222222,
              "#7201a8"
             ],
             [
              0.3333333333333333,
              "#9c179e"
             ],
             [
              0.4444444444444444,
              "#bd3786"
             ],
             [
              0.5555555555555556,
              "#d8576b"
             ],
             [
              0.6666666666666666,
              "#ed7953"
             ],
             [
              0.7777777777777778,
              "#fb9f3a"
             ],
             [
              0.8888888888888888,
              "#fdca26"
             ],
             [
              1,
              "#f0f921"
             ]
            ],
            "type": "surface"
           }
          ],
          "table": [
           {
            "cells": {
             "fill": {
              "color": "#EBF0F8"
             },
             "line": {
              "color": "white"
             }
            },
            "header": {
             "fill": {
              "color": "#C8D4E3"
             },
             "line": {
              "color": "white"
             }
            },
            "type": "table"
           }
          ]
         },
         "layout": {
          "annotationdefaults": {
           "arrowcolor": "#2a3f5f",
           "arrowhead": 0,
           "arrowwidth": 1
          },
          "autotypenumbers": "strict",
          "coloraxis": {
           "colorbar": {
            "outlinewidth": 0,
            "ticks": ""
           }
          },
          "colorscale": {
           "diverging": [
            [
             0,
             "#8e0152"
            ],
            [
             0.1,
             "#c51b7d"
            ],
            [
             0.2,
             "#de77ae"
            ],
            [
             0.3,
             "#f1b6da"
            ],
            [
             0.4,
             "#fde0ef"
            ],
            [
             0.5,
             "#f7f7f7"
            ],
            [
             0.6,
             "#e6f5d0"
            ],
            [
             0.7,
             "#b8e186"
            ],
            [
             0.8,
             "#7fbc41"
            ],
            [
             0.9,
             "#4d9221"
            ],
            [
             1,
             "#276419"
            ]
           ],
           "sequential": [
            [
             0,
             "#0d0887"
            ],
            [
             0.1111111111111111,
             "#46039f"
            ],
            [
             0.2222222222222222,
             "#7201a8"
            ],
            [
             0.3333333333333333,
             "#9c179e"
            ],
            [
             0.4444444444444444,
             "#bd3786"
            ],
            [
             0.5555555555555556,
             "#d8576b"
            ],
            [
             0.6666666666666666,
             "#ed7953"
            ],
            [
             0.7777777777777778,
             "#fb9f3a"
            ],
            [
             0.8888888888888888,
             "#fdca26"
            ],
            [
             1,
             "#f0f921"
            ]
           ],
           "sequentialminus": [
            [
             0,
             "#0d0887"
            ],
            [
             0.1111111111111111,
             "#46039f"
            ],
            [
             0.2222222222222222,
             "#7201a8"
            ],
            [
             0.3333333333333333,
             "#9c179e"
            ],
            [
             0.4444444444444444,
             "#bd3786"
            ],
            [
             0.5555555555555556,
             "#d8576b"
            ],
            [
             0.6666666666666666,
             "#ed7953"
            ],
            [
             0.7777777777777778,
             "#fb9f3a"
            ],
            [
             0.8888888888888888,
             "#fdca26"
            ],
            [
             1,
             "#f0f921"
            ]
           ]
          },
          "colorway": [
           "#636efa",
           "#EF553B",
           "#00cc96",
           "#ab63fa",
           "#FFA15A",
           "#19d3f3",
           "#FF6692",
           "#B6E880",
           "#FF97FF",
           "#FECB52"
          ],
          "font": {
           "color": "#2a3f5f"
          },
          "geo": {
           "bgcolor": "white",
           "lakecolor": "white",
           "landcolor": "#E5ECF6",
           "showlakes": true,
           "showland": true,
           "subunitcolor": "white"
          },
          "hoverlabel": {
           "align": "left"
          },
          "hovermode": "closest",
          "mapbox": {
           "style": "light"
          },
          "paper_bgcolor": "white",
          "plot_bgcolor": "#E5ECF6",
          "polar": {
           "angularaxis": {
            "gridcolor": "white",
            "linecolor": "white",
            "ticks": ""
           },
           "bgcolor": "#E5ECF6",
           "radialaxis": {
            "gridcolor": "white",
            "linecolor": "white",
            "ticks": ""
           }
          },
          "scene": {
           "xaxis": {
            "backgroundcolor": "#E5ECF6",
            "gridcolor": "white",
            "gridwidth": 2,
            "linecolor": "white",
            "showbackground": true,
            "ticks": "",
            "zerolinecolor": "white"
           },
           "yaxis": {
            "backgroundcolor": "#E5ECF6",
            "gridcolor": "white",
            "gridwidth": 2,
            "linecolor": "white",
            "showbackground": true,
            "ticks": "",
            "zerolinecolor": "white"
           },
           "zaxis": {
            "backgroundcolor": "#E5ECF6",
            "gridcolor": "white",
            "gridwidth": 2,
            "linecolor": "white",
            "showbackground": true,
            "ticks": "",
            "zerolinecolor": "white"
           }
          },
          "shapedefaults": {
           "line": {
            "color": "#2a3f5f"
           }
          },
          "ternary": {
           "aaxis": {
            "gridcolor": "white",
            "linecolor": "white",
            "ticks": ""
           },
           "baxis": {
            "gridcolor": "white",
            "linecolor": "white",
            "ticks": ""
           },
           "bgcolor": "#E5ECF6",
           "caxis": {
            "gridcolor": "white",
            "linecolor": "white",
            "ticks": ""
           }
          },
          "title": {
           "x": 0.05
          },
          "xaxis": {
           "automargin": true,
           "gridcolor": "white",
           "linecolor": "white",
           "ticks": "",
           "title": {
            "standoff": 15
           },
           "zerolinecolor": "white",
           "zerolinewidth": 2
          },
          "yaxis": {
           "automargin": true,
           "gridcolor": "white",
           "linecolor": "white",
           "ticks": "",
           "title": {
            "standoff": 15
           },
           "zerolinecolor": "white",
           "zerolinewidth": 2
          }
         }
        },
        "title": {
         "text": "Sentiment Analysis on Topic 1"
        },
        "xaxis": {
         "anchor": "y",
         "domain": [
          0,
          1
         ],
         "title": {
          "text": "Subjectivity Score"
         }
        },
        "yaxis": {
         "anchor": "x",
         "domain": [
          0,
          1
         ],
         "title": {
          "text": "Sentiment Score"
         }
        }
       }
      }
     },
     "metadata": {},
     "output_type": "display_data"
    },
    {
     "data": {
      "application/vnd.plotly.v1+json": {
       "config": {
        "plotlyServerURL": "https://plot.ly"
       },
       "data": [
        {
         "hovertemplate": "<b>%{hovertext}</b><br><br>Subjectivity Score=%{x}<br>Sentiment Score=%{y}<br>Main Topic Score=%{marker.size}<extra></extra>",
         "hovertext": [],
         "legendgroup": "",
         "marker": {
          "color": "#636efa",
          "size": [],
          "sizemode": "area",
          "sizeref": null,
          "symbol": "circle"
         },
         "mode": "markers",
         "name": "",
         "orientation": "v",
         "showlegend": false,
         "type": "scatter",
         "x": [],
         "xaxis": "x",
         "y": [],
         "yaxis": "y"
        }
       ],
       "layout": {
        "legend": {
         "itemsizing": "constant",
         "tracegroupgap": 0
        },
        "template": {
         "data": {
          "bar": [
           {
            "error_x": {
             "color": "#2a3f5f"
            },
            "error_y": {
             "color": "#2a3f5f"
            },
            "marker": {
             "line": {
              "color": "#E5ECF6",
              "width": 0.5
             },
             "pattern": {
              "fillmode": "overlay",
              "size": 10,
              "solidity": 0.2
             }
            },
            "type": "bar"
           }
          ],
          "barpolar": [
           {
            "marker": {
             "line": {
              "color": "#E5ECF6",
              "width": 0.5
             },
             "pattern": {
              "fillmode": "overlay",
              "size": 10,
              "solidity": 0.2
             }
            },
            "type": "barpolar"
           }
          ],
          "carpet": [
           {
            "aaxis": {
             "endlinecolor": "#2a3f5f",
             "gridcolor": "white",
             "linecolor": "white",
             "minorgridcolor": "white",
             "startlinecolor": "#2a3f5f"
            },
            "baxis": {
             "endlinecolor": "#2a3f5f",
             "gridcolor": "white",
             "linecolor": "white",
             "minorgridcolor": "white",
             "startlinecolor": "#2a3f5f"
            },
            "type": "carpet"
           }
          ],
          "choropleth": [
           {
            "colorbar": {
             "outlinewidth": 0,
             "ticks": ""
            },
            "type": "choropleth"
           }
          ],
          "contour": [
           {
            "colorbar": {
             "outlinewidth": 0,
             "ticks": ""
            },
            "colorscale": [
             [
              0,
              "#0d0887"
             ],
             [
              0.1111111111111111,
              "#46039f"
             ],
             [
              0.2222222222222222,
              "#7201a8"
             ],
             [
              0.3333333333333333,
              "#9c179e"
             ],
             [
              0.4444444444444444,
              "#bd3786"
             ],
             [
              0.5555555555555556,
              "#d8576b"
             ],
             [
              0.6666666666666666,
              "#ed7953"
             ],
             [
              0.7777777777777778,
              "#fb9f3a"
             ],
             [
              0.8888888888888888,
              "#fdca26"
             ],
             [
              1,
              "#f0f921"
             ]
            ],
            "type": "contour"
           }
          ],
          "contourcarpet": [
           {
            "colorbar": {
             "outlinewidth": 0,
             "ticks": ""
            },
            "type": "contourcarpet"
           }
          ],
          "heatmap": [
           {
            "colorbar": {
             "outlinewidth": 0,
             "ticks": ""
            },
            "colorscale": [
             [
              0,
              "#0d0887"
             ],
             [
              0.1111111111111111,
              "#46039f"
             ],
             [
              0.2222222222222222,
              "#7201a8"
             ],
             [
              0.3333333333333333,
              "#9c179e"
             ],
             [
              0.4444444444444444,
              "#bd3786"
             ],
             [
              0.5555555555555556,
              "#d8576b"
             ],
             [
              0.6666666666666666,
              "#ed7953"
             ],
             [
              0.7777777777777778,
              "#fb9f3a"
             ],
             [
              0.8888888888888888,
              "#fdca26"
             ],
             [
              1,
              "#f0f921"
             ]
            ],
            "type": "heatmap"
           }
          ],
          "heatmapgl": [
           {
            "colorbar": {
             "outlinewidth": 0,
             "ticks": ""
            },
            "colorscale": [
             [
              0,
              "#0d0887"
             ],
             [
              0.1111111111111111,
              "#46039f"
             ],
             [
              0.2222222222222222,
              "#7201a8"
             ],
             [
              0.3333333333333333,
              "#9c179e"
             ],
             [
              0.4444444444444444,
              "#bd3786"
             ],
             [
              0.5555555555555556,
              "#d8576b"
             ],
             [
              0.6666666666666666,
              "#ed7953"
             ],
             [
              0.7777777777777778,
              "#fb9f3a"
             ],
             [
              0.8888888888888888,
              "#fdca26"
             ],
             [
              1,
              "#f0f921"
             ]
            ],
            "type": "heatmapgl"
           }
          ],
          "histogram": [
           {
            "marker": {
             "pattern": {
              "fillmode": "overlay",
              "size": 10,
              "solidity": 0.2
             }
            },
            "type": "histogram"
           }
          ],
          "histogram2d": [
           {
            "colorbar": {
             "outlinewidth": 0,
             "ticks": ""
            },
            "colorscale": [
             [
              0,
              "#0d0887"
             ],
             [
              0.1111111111111111,
              "#46039f"
             ],
             [
              0.2222222222222222,
              "#7201a8"
             ],
             [
              0.3333333333333333,
              "#9c179e"
             ],
             [
              0.4444444444444444,
              "#bd3786"
             ],
             [
              0.5555555555555556,
              "#d8576b"
             ],
             [
              0.6666666666666666,
              "#ed7953"
             ],
             [
              0.7777777777777778,
              "#fb9f3a"
             ],
             [
              0.8888888888888888,
              "#fdca26"
             ],
             [
              1,
              "#f0f921"
             ]
            ],
            "type": "histogram2d"
           }
          ],
          "histogram2dcontour": [
           {
            "colorbar": {
             "outlinewidth": 0,
             "ticks": ""
            },
            "colorscale": [
             [
              0,
              "#0d0887"
             ],
             [
              0.1111111111111111,
              "#46039f"
             ],
             [
              0.2222222222222222,
              "#7201a8"
             ],
             [
              0.3333333333333333,
              "#9c179e"
             ],
             [
              0.4444444444444444,
              "#bd3786"
             ],
             [
              0.5555555555555556,
              "#d8576b"
             ],
             [
              0.6666666666666666,
              "#ed7953"
             ],
             [
              0.7777777777777778,
              "#fb9f3a"
             ],
             [
              0.8888888888888888,
              "#fdca26"
             ],
             [
              1,
              "#f0f921"
             ]
            ],
            "type": "histogram2dcontour"
           }
          ],
          "mesh3d": [
           {
            "colorbar": {
             "outlinewidth": 0,
             "ticks": ""
            },
            "type": "mesh3d"
           }
          ],
          "parcoords": [
           {
            "line": {
             "colorbar": {
              "outlinewidth": 0,
              "ticks": ""
             }
            },
            "type": "parcoords"
           }
          ],
          "pie": [
           {
            "automargin": true,
            "type": "pie"
           }
          ],
          "scatter": [
           {
            "fillpattern": {
             "fillmode": "overlay",
             "size": 10,
             "solidity": 0.2
            },
            "type": "scatter"
           }
          ],
          "scatter3d": [
           {
            "line": {
             "colorbar": {
              "outlinewidth": 0,
              "ticks": ""
             }
            },
            "marker": {
             "colorbar": {
              "outlinewidth": 0,
              "ticks": ""
             }
            },
            "type": "scatter3d"
           }
          ],
          "scattercarpet": [
           {
            "marker": {
             "colorbar": {
              "outlinewidth": 0,
              "ticks": ""
             }
            },
            "type": "scattercarpet"
           }
          ],
          "scattergeo": [
           {
            "marker": {
             "colorbar": {
              "outlinewidth": 0,
              "ticks": ""
             }
            },
            "type": "scattergeo"
           }
          ],
          "scattergl": [
           {
            "marker": {
             "colorbar": {
              "outlinewidth": 0,
              "ticks": ""
             }
            },
            "type": "scattergl"
           }
          ],
          "scattermapbox": [
           {
            "marker": {
             "colorbar": {
              "outlinewidth": 0,
              "ticks": ""
             }
            },
            "type": "scattermapbox"
           }
          ],
          "scatterpolar": [
           {
            "marker": {
             "colorbar": {
              "outlinewidth": 0,
              "ticks": ""
             }
            },
            "type": "scatterpolar"
           }
          ],
          "scatterpolargl": [
           {
            "marker": {
             "colorbar": {
              "outlinewidth": 0,
              "ticks": ""
             }
            },
            "type": "scatterpolargl"
           }
          ],
          "scatterternary": [
           {
            "marker": {
             "colorbar": {
              "outlinewidth": 0,
              "ticks": ""
             }
            },
            "type": "scatterternary"
           }
          ],
          "surface": [
           {
            "colorbar": {
             "outlinewidth": 0,
             "ticks": ""
            },
            "colorscale": [
             [
              0,
              "#0d0887"
             ],
             [
              0.1111111111111111,
              "#46039f"
             ],
             [
              0.2222222222222222,
              "#7201a8"
             ],
             [
              0.3333333333333333,
              "#9c179e"
             ],
             [
              0.4444444444444444,
              "#bd3786"
             ],
             [
              0.5555555555555556,
              "#d8576b"
             ],
             [
              0.6666666666666666,
              "#ed7953"
             ],
             [
              0.7777777777777778,
              "#fb9f3a"
             ],
             [
              0.8888888888888888,
              "#fdca26"
             ],
             [
              1,
              "#f0f921"
             ]
            ],
            "type": "surface"
           }
          ],
          "table": [
           {
            "cells": {
             "fill": {
              "color": "#EBF0F8"
             },
             "line": {
              "color": "white"
             }
            },
            "header": {
             "fill": {
              "color": "#C8D4E3"
             },
             "line": {
              "color": "white"
             }
            },
            "type": "table"
           }
          ]
         },
         "layout": {
          "annotationdefaults": {
           "arrowcolor": "#2a3f5f",
           "arrowhead": 0,
           "arrowwidth": 1
          },
          "autotypenumbers": "strict",
          "coloraxis": {
           "colorbar": {
            "outlinewidth": 0,
            "ticks": ""
           }
          },
          "colorscale": {
           "diverging": [
            [
             0,
             "#8e0152"
            ],
            [
             0.1,
             "#c51b7d"
            ],
            [
             0.2,
             "#de77ae"
            ],
            [
             0.3,
             "#f1b6da"
            ],
            [
             0.4,
             "#fde0ef"
            ],
            [
             0.5,
             "#f7f7f7"
            ],
            [
             0.6,
             "#e6f5d0"
            ],
            [
             0.7,
             "#b8e186"
            ],
            [
             0.8,
             "#7fbc41"
            ],
            [
             0.9,
             "#4d9221"
            ],
            [
             1,
             "#276419"
            ]
           ],
           "sequential": [
            [
             0,
             "#0d0887"
            ],
            [
             0.1111111111111111,
             "#46039f"
            ],
            [
             0.2222222222222222,
             "#7201a8"
            ],
            [
             0.3333333333333333,
             "#9c179e"
            ],
            [
             0.4444444444444444,
             "#bd3786"
            ],
            [
             0.5555555555555556,
             "#d8576b"
            ],
            [
             0.6666666666666666,
             "#ed7953"
            ],
            [
             0.7777777777777778,
             "#fb9f3a"
            ],
            [
             0.8888888888888888,
             "#fdca26"
            ],
            [
             1,
             "#f0f921"
            ]
           ],
           "sequentialminus": [
            [
             0,
             "#0d0887"
            ],
            [
             0.1111111111111111,
             "#46039f"
            ],
            [
             0.2222222222222222,
             "#7201a8"
            ],
            [
             0.3333333333333333,
             "#9c179e"
            ],
            [
             0.4444444444444444,
             "#bd3786"
            ],
            [
             0.5555555555555556,
             "#d8576b"
            ],
            [
             0.6666666666666666,
             "#ed7953"
            ],
            [
             0.7777777777777778,
             "#fb9f3a"
            ],
            [
             0.8888888888888888,
             "#fdca26"
            ],
            [
             1,
             "#f0f921"
            ]
           ]
          },
          "colorway": [
           "#636efa",
           "#EF553B",
           "#00cc96",
           "#ab63fa",
           "#FFA15A",
           "#19d3f3",
           "#FF6692",
           "#B6E880",
           "#FF97FF",
           "#FECB52"
          ],
          "font": {
           "color": "#2a3f5f"
          },
          "geo": {
           "bgcolor": "white",
           "lakecolor": "white",
           "landcolor": "#E5ECF6",
           "showlakes": true,
           "showland": true,
           "subunitcolor": "white"
          },
          "hoverlabel": {
           "align": "left"
          },
          "hovermode": "closest",
          "mapbox": {
           "style": "light"
          },
          "paper_bgcolor": "white",
          "plot_bgcolor": "#E5ECF6",
          "polar": {
           "angularaxis": {
            "gridcolor": "white",
            "linecolor": "white",
            "ticks": ""
           },
           "bgcolor": "#E5ECF6",
           "radialaxis": {
            "gridcolor": "white",
            "linecolor": "white",
            "ticks": ""
           }
          },
          "scene": {
           "xaxis": {
            "backgroundcolor": "#E5ECF6",
            "gridcolor": "white",
            "gridwidth": 2,
            "linecolor": "white",
            "showbackground": true,
            "ticks": "",
            "zerolinecolor": "white"
           },
           "yaxis": {
            "backgroundcolor": "#E5ECF6",
            "gridcolor": "white",
            "gridwidth": 2,
            "linecolor": "white",
            "showbackground": true,
            "ticks": "",
            "zerolinecolor": "white"
           },
           "zaxis": {
            "backgroundcolor": "#E5ECF6",
            "gridcolor": "white",
            "gridwidth": 2,
            "linecolor": "white",
            "showbackground": true,
            "ticks": "",
            "zerolinecolor": "white"
           }
          },
          "shapedefaults": {
           "line": {
            "color": "#2a3f5f"
           }
          },
          "ternary": {
           "aaxis": {
            "gridcolor": "white",
            "linecolor": "white",
            "ticks": ""
           },
           "baxis": {
            "gridcolor": "white",
            "linecolor": "white",
            "ticks": ""
           },
           "bgcolor": "#E5ECF6",
           "caxis": {
            "gridcolor": "white",
            "linecolor": "white",
            "ticks": ""
           }
          },
          "title": {
           "x": 0.05
          },
          "xaxis": {
           "automargin": true,
           "gridcolor": "white",
           "linecolor": "white",
           "ticks": "",
           "title": {
            "standoff": 15
           },
           "zerolinecolor": "white",
           "zerolinewidth": 2
          },
          "yaxis": {
           "automargin": true,
           "gridcolor": "white",
           "linecolor": "white",
           "ticks": "",
           "title": {
            "standoff": 15
           },
           "zerolinecolor": "white",
           "zerolinewidth": 2
          }
         }
        },
        "title": {
         "text": "Sentiment Analysis on Topic 8"
        },
        "xaxis": {
         "anchor": "y",
         "domain": [
          0,
          1
         ],
         "title": {
          "text": "Subjectivity Score"
         }
        },
        "yaxis": {
         "anchor": "x",
         "domain": [
          0,
          1
         ],
         "title": {
          "text": "Sentiment Score"
         }
        }
       }
      }
     },
     "metadata": {},
     "output_type": "display_data"
    }
   ],
   "source": [
    "# Using our list_of_topics_to_visualize list in the customizable settings, \n",
    "# produce a graph for each topic\n",
    "for topic in list_of_topics_to_visualize:\n",
    "    visualize_single_topic_subjectivity_vs_sentiment(df, topic)\n"
   ]
  },
  {
   "cell_type": "markdown",
   "id": "f184ac6b",
   "metadata": {},
   "source": [
    "## K means Clustering"
   ]
  },
  {
   "cell_type": "markdown",
   "id": "84b465b0",
   "metadata": {},
   "source": [
    "Generate a visual of number of topic clusters vs inertia of the model (low inertia is good)"
   ]
  },
  {
   "cell_type": "code",
   "execution_count": 97,
   "id": "65098654",
   "metadata": {
    "scrolled": false
   },
   "outputs": [
    {
     "name": "stderr",
     "output_type": "stream",
     "text": [
      "c:\\Users\\seaha\\anaconda3\\envs\\434hw\\lib\\site-packages\\sklearn\\utils\\validation.py:767: FutureWarning:\n",
      "\n",
      "is_sparse is deprecated and will be removed in a future version. Check `isinstance(dtype, pd.SparseDtype)` instead.\n",
      "\n",
      "c:\\Users\\seaha\\anaconda3\\envs\\434hw\\lib\\site-packages\\sklearn\\utils\\validation.py:605: FutureWarning:\n",
      "\n",
      "is_sparse is deprecated and will be removed in a future version. Check `isinstance(dtype, pd.SparseDtype)` instead.\n",
      "\n",
      "c:\\Users\\seaha\\anaconda3\\envs\\434hw\\lib\\site-packages\\sklearn\\utils\\validation.py:614: FutureWarning:\n",
      "\n",
      "is_sparse is deprecated and will be removed in a future version. Check `isinstance(dtype, pd.SparseDtype)` instead.\n",
      "\n",
      "c:\\Users\\seaha\\anaconda3\\envs\\434hw\\lib\\site-packages\\sklearn\\cluster\\_kmeans.py:1382: UserWarning:\n",
      "\n",
      "KMeans is known to have a memory leak on Windows with MKL, when there are less chunks than available threads. You can avoid it by setting the environment variable OMP_NUM_THREADS=1.\n",
      "\n",
      "c:\\Users\\seaha\\anaconda3\\envs\\434hw\\lib\\site-packages\\sklearn\\cluster\\_kmeans.py:1382: UserWarning:\n",
      "\n",
      "KMeans is known to have a memory leak on Windows with MKL, when there are less chunks than available threads. You can avoid it by setting the environment variable OMP_NUM_THREADS=1.\n",
      "\n",
      "c:\\Users\\seaha\\anaconda3\\envs\\434hw\\lib\\site-packages\\sklearn\\cluster\\_kmeans.py:1382: UserWarning:\n",
      "\n",
      "KMeans is known to have a memory leak on Windows with MKL, when there are less chunks than available threads. You can avoid it by setting the environment variable OMP_NUM_THREADS=1.\n",
      "\n",
      "c:\\Users\\seaha\\anaconda3\\envs\\434hw\\lib\\site-packages\\sklearn\\cluster\\_kmeans.py:1382: UserWarning:\n",
      "\n",
      "KMeans is known to have a memory leak on Windows with MKL, when there are less chunks than available threads. You can avoid it by setting the environment variable OMP_NUM_THREADS=1.\n",
      "\n",
      "c:\\Users\\seaha\\anaconda3\\envs\\434hw\\lib\\site-packages\\sklearn\\cluster\\_kmeans.py:1382: UserWarning:\n",
      "\n",
      "KMeans is known to have a memory leak on Windows with MKL, when there are less chunks than available threads. You can avoid it by setting the environment variable OMP_NUM_THREADS=1.\n",
      "\n",
      "c:\\Users\\seaha\\anaconda3\\envs\\434hw\\lib\\site-packages\\sklearn\\cluster\\_kmeans.py:1382: UserWarning:\n",
      "\n",
      "KMeans is known to have a memory leak on Windows with MKL, when there are less chunks than available threads. You can avoid it by setting the environment variable OMP_NUM_THREADS=1.\n",
      "\n",
      "c:\\Users\\seaha\\anaconda3\\envs\\434hw\\lib\\site-packages\\sklearn\\cluster\\_kmeans.py:1382: UserWarning:\n",
      "\n",
      "KMeans is known to have a memory leak on Windows with MKL, when there are less chunks than available threads. You can avoid it by setting the environment variable OMP_NUM_THREADS=1.\n",
      "\n",
      "c:\\Users\\seaha\\anaconda3\\envs\\434hw\\lib\\site-packages\\sklearn\\cluster\\_kmeans.py:1382: UserWarning:\n",
      "\n",
      "KMeans is known to have a memory leak on Windows with MKL, when there are less chunks than available threads. You can avoid it by setting the environment variable OMP_NUM_THREADS=1.\n",
      "\n"
     ]
    },
    {
     "data": {
      "image/png": "[encoded data removed]",
      "text/plain": [
       "<Figure size 720x720 with 1 Axes>"
      ]
     },
     "metadata": {
      "needs_background": "light"
     },
     "output_type": "display_data"
    }
   ],
   "source": [
    "visualize_optimal_cluster_count(df_topics= df_topics,\n",
    "                                max_clusters= kmeans_settings[\"max_clusters\"],\n",
    "                                pca_components= kmeans_settings[\"pca_components\"])\n"
   ]
  },
  {
   "cell_type": "markdown",
   "id": "75cabb2b",
   "metadata": {},
   "source": [
    "Generate actual kmeans clustering"
   ]
  },
  {
   "cell_type": "code",
   "execution_count": 98,
   "id": "75bab1e8",
   "metadata": {},
   "outputs": [
    {
     "name": "stderr",
     "output_type": "stream",
     "text": [
      "c:\\Users\\seaha\\anaconda3\\envs\\434hw\\lib\\site-packages\\sklearn\\utils\\validation.py:767: FutureWarning:\n",
      "\n",
      "is_sparse is deprecated and will be removed in a future version. Check `isinstance(dtype, pd.SparseDtype)` instead.\n",
      "\n",
      "c:\\Users\\seaha\\anaconda3\\envs\\434hw\\lib\\site-packages\\sklearn\\utils\\validation.py:605: FutureWarning:\n",
      "\n",
      "is_sparse is deprecated and will be removed in a future version. Check `isinstance(dtype, pd.SparseDtype)` instead.\n",
      "\n",
      "c:\\Users\\seaha\\anaconda3\\envs\\434hw\\lib\\site-packages\\sklearn\\utils\\validation.py:614: FutureWarning:\n",
      "\n",
      "is_sparse is deprecated and will be removed in a future version. Check `isinstance(dtype, pd.SparseDtype)` instead.\n",
      "\n",
      "c:\\Users\\seaha\\anaconda3\\envs\\434hw\\lib\\site-packages\\sklearn\\cluster\\_kmeans.py:1382: UserWarning:\n",
      "\n",
      "KMeans is known to have a memory leak on Windows with MKL, when there are less chunks than available threads. You can avoid it by setting the environment variable OMP_NUM_THREADS=1.\n",
      "\n"
     ]
    },
    {
     "data": {
      "image/png": "[encoded data removed]",
      "text/plain": [
       "<Figure size 720x720 with 1 Axes>"
      ]
     },
     "metadata": {
      "needs_background": "light"
     },
     "output_type": "display_data"
    }
   ],
   "source": [
    "visualize_kmeans_clustering(df_topics= df_topics,\n",
    "                            num_clusters = kmeans_settings[\"num_clusters\"],\n",
    "                            pca_components = kmeans_settings[\"pca_components\"])\n"
   ]
  }
 ],
 "metadata": {
  "kernelspec": {
   "display_name": "434hw",
   "language": "python",
   "name": "434hw"
  },
  "language_info": {
   "codemirror_mode": {
    "name": "ipython",
    "version": 3
   },
   "file_extension": ".py",
   "mimetype": "text/x-python",
   "name": "python",
   "nbconvert_exporter": "python",
   "pygments_lexer": "ipython3",
   "version": "3.10.4"
  }
 },
 "nbformat": 4,
 "nbformat_minor": 5
}
