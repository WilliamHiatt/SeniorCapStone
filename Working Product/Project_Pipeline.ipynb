{
 "cells": [
  {
   "cell_type": "markdown",
   "id": "c9dccd1a",
   "metadata": {},
   "source": [
    "# Latent News Probability Model"
   ]
  },
  {
   "cell_type": "markdown",
   "id": "01049288",
   "metadata": {},
   "source": [
    "Directly below contains the pip installs that are required for this project. If you run this code and still don't have the required packages, you may need to add a `!pip install [library_name]` into this code block. This does not need to be run every time the model is used.\n",
    "\n",
    "IMPORTANT: If you are running this for the first time you may need to download these packages before continuing:"
   ]
  },
  {
   "cell_type": "code",
   "execution_count": 1,
   "id": "15ba699a",
   "metadata": {},
   "outputs": [
    {
     "name": "stdout",
     "output_type": "stream",
     "text": [
      "Collecting pandas\n",
      "  Obtaining dependency information for pandas from https://files.pythonhosted.org/packages/2d/5e/9213ea10ac473e2437dc2cb17323ddc0999997e2713d6a0b683b10773994/pandas-2.1.1-cp311-cp311-win_amd64.whl.metadata\n",
      "  Downloading pandas-2.1.1-cp311-cp311-win_amd64.whl.metadata (18 kB)\n",
      "Collecting numpy>=1.23.2 (from pandas)\n",
      "  Obtaining dependency information for numpy>=1.23.2 from https://files.pythonhosted.org/packages/82/0f/3f712cd84371636c5375d2dd70e7514d264cec6bdfc3d7997a4236e9f948/numpy-1.26.1-cp311-cp311-win_amd64.whl.metadata\n",
      "  Downloading numpy-1.26.1-cp311-cp311-win_amd64.whl.metadata (61 kB)\n",
      "     ---------------------------------------- 0.0/61.2 kB ? eta -:--:--\n",
      "     ------------------- ------------------ 30.7/61.2 kB 660.6 kB/s eta 0:00:01\n",
      "     ---------------------------------------- 61.2/61.2 kB 1.1 MB/s eta 0:00:00\n",
      "Requirement already satisfied: python-dateutil>=2.8.2 in c:\\users\\deven\\appdata\\roaming\\python\\python311\\site-packages (from pandas) (2.8.2)\n",
      "Collecting pytz>=2020.1 (from pandas)\n",
      "  Obtaining dependency information for pytz>=2020.1 from https://files.pythonhosted.org/packages/32/4d/aaf7eff5deb402fd9a24a1449a8119f00d74ae9c2efa79f8ef9994261fc2/pytz-2023.3.post1-py2.py3-none-any.whl.metadata\n",
      "  Downloading pytz-2023.3.post1-py2.py3-none-any.whl.metadata (22 kB)\n",
      "Collecting tzdata>=2022.1 (from pandas)\n",
      "  Downloading tzdata-2023.3-py2.py3-none-any.whl (341 kB)\n",
      "     ---------------------------------------- 0.0/341.8 kB ? eta -:--:--\n",
      "     ------------------ ------------------- 163.8/341.8 kB 4.8 MB/s eta 0:00:01\n",
      "     -------------------------------------- 341.8/341.8 kB 4.3 MB/s eta 0:00:00\n",
      "Requirement already satisfied: six>=1.5 in c:\\users\\deven\\appdata\\roaming\\python\\python311\\site-packages (from python-dateutil>=2.8.2->pandas) (1.16.0)\n",
      "Downloading pandas-2.1.1-cp311-cp311-win_amd64.whl (10.6 MB)\n",
      "   ---------------------------------------- 0.0/10.6 MB ? eta -:--:--\n",
      "   - -------------------------------------- 0.4/10.6 MB 11.2 MB/s eta 0:00:01\n",
      "   ----- ---------------------------------- 1.4/10.6 MB 14.9 MB/s eta 0:00:01\n",
      "   ------- -------------------------------- 2.0/10.6 MB 15.6 MB/s eta 0:00:01\n",
      "   --------- ------------------------------ 2.5/10.6 MB 14.9 MB/s eta 0:00:01\n",
      "   ------------ --------------------------- 3.2/10.6 MB 14.8 MB/s eta 0:00:01\n",
      "   -------------- ------------------------- 4.0/10.6 MB 15.9 MB/s eta 0:00:01\n",
      "   ----------------- ---------------------- 4.7/10.6 MB 15.8 MB/s eta 0:00:01\n",
      "   ------------------- -------------------- 5.2/10.6 MB 15.9 MB/s eta 0:00:01\n",
      "   -------------------- ------------------- 5.5/10.6 MB 14.1 MB/s eta 0:00:01\n",
      "   ----------------------- ---------------- 6.1/10.6 MB 14.0 MB/s eta 0:00:01\n",
      "   ------------------------- -------------- 6.8/10.6 MB 14.0 MB/s eta 0:00:01\n",
      "   ---------------------------- ----------- 7.5/10.6 MB 14.6 MB/s eta 0:00:01\n",
      "   ------------------------------- -------- 8.3/10.6 MB 14.7 MB/s eta 0:00:01\n",
      "   --------------------------------- ------ 8.9/10.6 MB 14.6 MB/s eta 0:00:01\n",
      "   ------------------------------------ --- 9.6/10.6 MB 14.7 MB/s eta 0:00:01\n",
      "   -------------------------------------- - 10.3/10.6 MB 15.2 MB/s eta 0:00:01\n",
      "   ---------------------------------------  10.6/10.6 MB 16.0 MB/s eta 0:00:01\n",
      "   ---------------------------------------- 10.6/10.6 MB 14.9 MB/s eta 0:00:00\n",
      "Downloading numpy-1.26.1-cp311-cp311-win_amd64.whl (15.8 MB)\n",
      "   ---------------------------------------- 0.0/15.8 MB ? eta -:--:--\n",
      "   - -------------------------------------- 0.5/15.8 MB 31.4 MB/s eta 0:00:01\n",
      "   --- ------------------------------------ 1.2/15.8 MB 15.8 MB/s eta 0:00:01\n",
      "   ----- ---------------------------------- 2.0/15.8 MB 16.2 MB/s eta 0:00:01\n",
      "   ------ --------------------------------- 2.6/15.8 MB 16.9 MB/s eta 0:00:01\n",
      "   -------- ------------------------------- 3.4/15.8 MB 16.8 MB/s eta 0:00:01\n",
      "   ---------- ----------------------------- 4.1/15.8 MB 17.4 MB/s eta 0:00:01\n",
      "   ------------ --------------------------- 4.8/15.8 MB 17.1 MB/s eta 0:00:01\n",
      "   ------------- -------------------------- 5.4/15.8 MB 16.5 MB/s eta 0:00:01\n",
      "   --------------- ------------------------ 6.1/15.8 MB 16.1 MB/s eta 0:00:01\n",
      "   ----------------- ---------------------- 6.9/15.8 MB 16.4 MB/s eta 0:00:01\n",
      "   ------------------- -------------------- 7.6/15.8 MB 16.2 MB/s eta 0:00:01\n",
      "   -------------------- ------------------- 8.2/15.8 MB 16.4 MB/s eta 0:00:01\n",
      "   ---------------------- ----------------- 8.8/15.8 MB 16.1 MB/s eta 0:00:01\n",
      "   ------------------------ --------------- 9.5/15.8 MB 15.9 MB/s eta 0:00:01\n",
      "   ------------------------ --------------- 9.8/15.8 MB 15.7 MB/s eta 0:00:01\n",
      "   -------------------------- ------------- 10.3/15.8 MB 15.2 MB/s eta 0:00:01\n",
      "   --------------------------- ------------ 10.9/15.8 MB 15.6 MB/s eta 0:00:01\n",
      "   ----------------------------- ---------- 11.5/15.8 MB 15.2 MB/s eta 0:00:01\n",
      "   ------------------------------ --------- 12.0/15.8 MB 15.2 MB/s eta 0:00:01\n",
      "   -------------------------------- ------- 12.7/15.8 MB 15.2 MB/s eta 0:00:01\n",
      "   --------------------------------- ------ 13.3/15.8 MB 14.9 MB/s eta 0:00:01\n",
      "   ----------------------------------- ---- 13.9/15.8 MB 14.6 MB/s eta 0:00:01\n",
      "   ------------------------------------ --- 14.5/15.8 MB 14.6 MB/s eta 0:00:01\n",
      "   -------------------------------------- - 15.2/15.8 MB 14.2 MB/s eta 0:00:01\n",
      "   ---------------------------------------  15.8/15.8 MB 14.6 MB/s eta 0:00:01\n",
      "   ---------------------------------------  15.8/15.8 MB 14.6 MB/s eta 0:00:01\n",
      "   ---------------------------------------- 15.8/15.8 MB 13.4 MB/s eta 0:00:00\n",
      "Downloading pytz-2023.3.post1-py2.py3-none-any.whl (502 kB)\n",
      "   ---------------------------------------- 0.0/502.5 kB ? eta -:--:--\n",
      "   --------------------------------------- 502.5/502.5 kB 15.4 MB/s eta 0:00:00\n",
      "Installing collected packages: pytz, tzdata, numpy, pandas\n",
      "Successfully installed numpy-1.26.1 pandas-2.1.1 pytz-2023.3.post1 tzdata-2023.3\n"
     ]
    },
    {
     "name": "stderr",
     "output_type": "stream",
     "text": [
      "\n",
      "[notice] A new release of pip is available: 23.2.1 -> 23.3.1\n",
      "[notice] To update, run: python.exe -m pip install --upgrade pip\n"
     ]
    },
    {
     "name": "stdout",
     "output_type": "stream",
     "text": [
      "Collecting spacy\n",
      "  Obtaining dependency information for spacy from https://files.pythonhosted.org/packages/90/f0/0133b684e18932c7bf4075d94819746cee2c0329f2569db526b0fa1df1df/spacy-3.7.2-cp311-cp311-win_amd64.whl.metadata\n",
      "  Downloading spacy-3.7.2-cp311-cp311-win_amd64.whl.metadata (26 kB)\n",
      "Collecting spacy-legacy<3.1.0,>=3.0.11 (from spacy)\n",
      "  Downloading spacy_legacy-3.0.12-py2.py3-none-any.whl (29 kB)\n",
      "Collecting spacy-loggers<2.0.0,>=1.0.0 (from spacy)\n",
      "  Obtaining dependency information for spacy-loggers<2.0.0,>=1.0.0 from https://files.pythonhosted.org/packages/33/78/d1a1a026ef3af911159398c939b1509d5c36fe524c7b644f34a5146c4e16/spacy_loggers-1.0.5-py3-none-any.whl.metadata\n",
      "  Downloading spacy_loggers-1.0.5-py3-none-any.whl.metadata (23 kB)\n",
      "Collecting murmurhash<1.1.0,>=0.28.0 (from spacy)\n",
      "  Obtaining dependency information for murmurhash<1.1.0,>=0.28.0 from https://files.pythonhosted.org/packages/71/46/af01a20ec368bd9cb49a1d2df15e3eca113bbf6952cc1f2a47f1c6801a7f/murmurhash-1.0.10-cp311-cp311-win_amd64.whl.metadata\n",
      "  Downloading murmurhash-1.0.10-cp311-cp311-win_amd64.whl.metadata (2.0 kB)\n",
      "Collecting cymem<2.1.0,>=2.0.2 (from spacy)\n",
      "  Obtaining dependency information for cymem<2.1.0,>=2.0.2 from https://files.pythonhosted.org/packages/c1/c3/dd044e6f62a3d317c461f6f0c153c6573ed13025752d779e514000c15dd2/cymem-2.0.8-cp311-cp311-win_amd64.whl.metadata\n",
      "  Downloading cymem-2.0.8-cp311-cp311-win_amd64.whl.metadata (8.6 kB)\n",
      "Collecting preshed<3.1.0,>=3.0.2 (from spacy)\n",
      "  Obtaining dependency information for preshed<3.1.0,>=3.0.2 from https://files.pythonhosted.org/packages/e4/fc/78cdbdb79f5d6d45949e72c32445d6c060977ad50a1dcfc0392622165f7c/preshed-3.0.9-cp311-cp311-win_amd64.whl.metadata\n",
      "  Downloading preshed-3.0.9-cp311-cp311-win_amd64.whl.metadata (2.2 kB)\n",
      "Collecting thinc<8.3.0,>=8.1.8 (from spacy)\n",
      "  Obtaining dependency information for thinc<8.3.0,>=8.1.8 from https://files.pythonhosted.org/packages/dd/e9/c806bd2b281cc4cb5eea9375c3f45f6c4ff293877f469bb38d78a4f1cf96/thinc-8.2.1-cp311-cp311-win_amd64.whl.metadata\n",
      "  Downloading thinc-8.2.1-cp311-cp311-win_amd64.whl.metadata (15 kB)\n",
      "Collecting wasabi<1.2.0,>=0.9.1 (from spacy)\n",
      "  Obtaining dependency information for wasabi<1.2.0,>=0.9.1 from https://files.pythonhosted.org/packages/8f/69/26cbf0bad11703241cb84d5324d868097f7a8faf2f1888354dac8883f3fc/wasabi-1.1.2-py3-none-any.whl.metadata\n",
      "  Downloading wasabi-1.1.2-py3-none-any.whl.metadata (28 kB)\n",
      "Collecting srsly<3.0.0,>=2.4.3 (from spacy)\n",
      "  Obtaining dependency information for srsly<3.0.0,>=2.4.3 from https://files.pythonhosted.org/packages/eb/f5/e3f29993f673d91623df6413ba64e815dd2676fd7932cbc5e7347402ddae/srsly-2.4.8-cp311-cp311-win_amd64.whl.metadata\n",
      "  Downloading srsly-2.4.8-cp311-cp311-win_amd64.whl.metadata (20 kB)\n",
      "Collecting catalogue<2.1.0,>=2.0.6 (from spacy)\n",
      "  Obtaining dependency information for catalogue<2.1.0,>=2.0.6 from https://files.pythonhosted.org/packages/9e/96/d32b941a501ab566a16358d68b6eb4e4acc373fab3c3c4d7d9e649f7b4bb/catalogue-2.0.10-py3-none-any.whl.metadata\n",
      "  Downloading catalogue-2.0.10-py3-none-any.whl.metadata (14 kB)\n",
      "Collecting weasel<0.4.0,>=0.1.0 (from spacy)\n",
      "  Obtaining dependency information for weasel<0.4.0,>=0.1.0 from https://files.pythonhosted.org/packages/a6/76/41433e70b7c9ed47db8206536ecc6408362db44111c27f59e76af20377f2/weasel-0.3.3-py3-none-any.whl.metadata\n",
      "  Downloading weasel-0.3.3-py3-none-any.whl.metadata (4.7 kB)\n",
      "Collecting typer<0.10.0,>=0.3.0 (from spacy)\n",
      "  Downloading typer-0.9.0-py3-none-any.whl (45 kB)\n",
      "     ---------------------------------------- 0.0/45.9 kB ? eta -:--:--\n",
      "     ---------------------------------------- 45.9/45.9 kB ? eta 0:00:00\n",
      "Collecting smart-open<7.0.0,>=5.2.1 (from spacy)\n",
      "  Obtaining dependency information for smart-open<7.0.0,>=5.2.1 from https://files.pythonhosted.org/packages/fc/d9/d97f1db64b09278aba64e8c81b5d322d436132df5741c518f3823824fae0/smart_open-6.4.0-py3-none-any.whl.metadata\n",
      "  Downloading smart_open-6.4.0-py3-none-any.whl.metadata (21 kB)\n",
      "Collecting tqdm<5.0.0,>=4.38.0 (from spacy)\n",
      "  Obtaining dependency information for tqdm<5.0.0,>=4.38.0 from https://files.pythonhosted.org/packages/00/e5/f12a80907d0884e6dff9c16d0c0114d81b8cd07dc3ae54c5e962cc83037e/tqdm-4.66.1-py3-none-any.whl.metadata\n",
      "  Downloading tqdm-4.66.1-py3-none-any.whl.metadata (57 kB)\n",
      "     ---------------------------------------- 0.0/57.6 kB ? eta -:--:--\n",
      "     ---------------------------------------- 57.6/57.6 kB ? eta 0:00:00\n",
      "Collecting requests<3.0.0,>=2.13.0 (from spacy)\n",
      "  Obtaining dependency information for requests<3.0.0,>=2.13.0 from https://files.pythonhosted.org/packages/70/8e/0e2d847013cb52cd35b38c009bb167a1a26b2ce6cd6965bf26b47bc0bf44/requests-2.31.0-py3-none-any.whl.metadata\n",
      "  Downloading requests-2.31.0-py3-none-any.whl.metadata (4.6 kB)\n",
      "Collecting pydantic!=1.8,!=1.8.1,<3.0.0,>=1.7.4 (from spacy)\n",
      "  Obtaining dependency information for pydantic!=1.8,!=1.8.1,<3.0.0,>=1.7.4 from https://files.pythonhosted.org/packages/73/66/0a72c9fcde42e5650c8d8d5c5c1873b9a3893018020c77ca8eb62708b923/pydantic-2.4.2-py3-none-any.whl.metadata\n",
      "  Downloading pydantic-2.4.2-py3-none-any.whl.metadata (158 kB)\n",
      "     ---------------------------------------- 0.0/158.6 kB ? eta -:--:--\n",
      "     -------------------------------------- 158.6/158.6 kB 4.8 MB/s eta 0:00:00\n",
      "Collecting jinja2 (from spacy)\n",
      "  Downloading Jinja2-3.1.2-py3-none-any.whl (133 kB)\n",
      "     ---------------------------------------- 0.0/133.1 kB ? eta -:--:--\n",
      "     -------------------------------------- 133.1/133.1 kB 7.7 MB/s eta 0:00:00\n",
      "Requirement already satisfied: setuptools in c:\\users\\deven\\appdata\\local\\programs\\python\\python311\\lib\\site-packages (from spacy) (65.5.0)\n",
      "Requirement already satisfied: packaging>=20.0 in c:\\users\\deven\\appdata\\roaming\\python\\python311\\site-packages (from spacy) (23.1)\n",
      "Collecting langcodes<4.0.0,>=3.2.0 (from spacy)\n",
      "  Downloading langcodes-3.3.0-py3-none-any.whl (181 kB)\n",
      "     ---------------------------------------- 0.0/181.6 kB ? eta -:--:--\n",
      "     ------------------------------------- 181.6/181.6 kB 10.7 MB/s eta 0:00:00\n",
      "Requirement already satisfied: numpy>=1.19.0 in c:\\users\\deven\\appdata\\local\\programs\\python\\python311\\lib\\site-packages (from spacy) (1.26.1)\n",
      "Collecting annotated-types>=0.4.0 (from pydantic!=1.8,!=1.8.1,<3.0.0,>=1.7.4->spacy)\n",
      "  Obtaining dependency information for annotated-types>=0.4.0 from https://files.pythonhosted.org/packages/28/78/d31230046e58c207284c6b2c4e8d96e6d3cb4e52354721b944d3e1ee4aa5/annotated_types-0.6.0-py3-none-any.whl.metadata\n",
      "  Downloading annotated_types-0.6.0-py3-none-any.whl.metadata (12 kB)\n",
      "Collecting pydantic-core==2.10.1 (from pydantic!=1.8,!=1.8.1,<3.0.0,>=1.7.4->spacy)\n",
      "  Obtaining dependency information for pydantic-core==2.10.1 from https://files.pythonhosted.org/packages/7c/49/bd863a3d7c5412d739f3a28da0f437f25ccfa92413675c93412e64b812ed/pydantic_core-2.10.1-cp311-none-win_amd64.whl.metadata\n",
      "  Downloading pydantic_core-2.10.1-cp311-none-win_amd64.whl.metadata (6.6 kB)\n",
      "Collecting typing-extensions>=4.6.1 (from pydantic!=1.8,!=1.8.1,<3.0.0,>=1.7.4->spacy)\n",
      "  Obtaining dependency information for typing-extensions>=4.6.1 from https://files.pythonhosted.org/packages/24/21/7d397a4b7934ff4028987914ac1044d3b7d52712f30e2ac7a2ae5bc86dd0/typing_extensions-4.8.0-py3-none-any.whl.metadata\n",
      "  Downloading typing_extensions-4.8.0-py3-none-any.whl.metadata (3.0 kB)\n",
      "Collecting charset-normalizer<4,>=2 (from requests<3.0.0,>=2.13.0->spacy)\n",
      "  Obtaining dependency information for charset-normalizer<4,>=2 from https://files.pythonhosted.org/packages/ef/96/1c7e85db0a1b2f182d47375987e82aacb60c987e3943b11ccce3fc6aebab/charset_normalizer-3.3.1-cp311-cp311-win_amd64.whl.metadata\n",
      "  Downloading charset_normalizer-3.3.1-cp311-cp311-win_amd64.whl.metadata (33 kB)\n",
      "Collecting idna<4,>=2.5 (from requests<3.0.0,>=2.13.0->spacy)\n",
      "  Downloading idna-3.4-py3-none-any.whl (61 kB)\n",
      "     ---------------------------------------- 0.0/61.5 kB ? eta -:--:--\n",
      "     ---------------------------------------- 61.5/61.5 kB 3.2 MB/s eta 0:00:00\n",
      "Collecting urllib3<3,>=1.21.1 (from requests<3.0.0,>=2.13.0->spacy)\n",
      "  Obtaining dependency information for urllib3<3,>=1.21.1 from https://files.pythonhosted.org/packages/d2/b2/b157855192a68541a91ba7b2bbcb91f1b4faa51f8bae38d8005c034be524/urllib3-2.0.7-py3-none-any.whl.metadata\n",
      "  Downloading urllib3-2.0.7-py3-none-any.whl.metadata (6.6 kB)\n",
      "Collecting certifi>=2017.4.17 (from requests<3.0.0,>=2.13.0->spacy)\n",
      "  Obtaining dependency information for certifi>=2017.4.17 from https://files.pythonhosted.org/packages/4c/dd/2234eab22353ffc7d94e8d13177aaa050113286e93e7b40eae01fbf7c3d9/certifi-2023.7.22-py3-none-any.whl.metadata\n",
      "  Downloading certifi-2023.7.22-py3-none-any.whl.metadata (2.2 kB)\n",
      "Collecting blis<0.8.0,>=0.7.8 (from thinc<8.3.0,>=8.1.8->spacy)\n",
      "  Obtaining dependency information for blis<0.8.0,>=0.7.8 from https://files.pythonhosted.org/packages/2f/09/da0592c74560cc33396504698122f7a56747c82a5e072ca7d2c3397898e1/blis-0.7.11-cp311-cp311-win_amd64.whl.metadata\n",
      "  Downloading blis-0.7.11-cp311-cp311-win_amd64.whl.metadata (7.6 kB)\n",
      "Collecting confection<1.0.0,>=0.0.1 (from thinc<8.3.0,>=8.1.8->spacy)\n",
      "  Obtaining dependency information for confection<1.0.0,>=0.0.1 from https://files.pythonhosted.org/packages/93/f8/e89268a1f885048fb2ee6b5c9f93c4e90de768534acfef3652f87d97d4cb/confection-0.1.3-py3-none-any.whl.metadata\n",
      "  Downloading confection-0.1.3-py3-none-any.whl.metadata (19 kB)\n",
      "Requirement already satisfied: colorama in c:\\users\\deven\\appdata\\roaming\\python\\python311\\site-packages (from tqdm<5.0.0,>=4.38.0->spacy) (0.4.6)\n",
      "Collecting click<9.0.0,>=7.1.1 (from typer<0.10.0,>=0.3.0->spacy)\n",
      "  Obtaining dependency information for click<9.0.0,>=7.1.1 from https://files.pythonhosted.org/packages/00/2e/d53fa4befbf2cfa713304affc7ca780ce4fc1fd8710527771b58311a3229/click-8.1.7-py3-none-any.whl.metadata\n",
      "  Downloading click-8.1.7-py3-none-any.whl.metadata (3.0 kB)\n",
      "Collecting cloudpathlib<0.17.0,>=0.7.0 (from weasel<0.4.0,>=0.1.0->spacy)\n",
      "  Obtaining dependency information for cloudpathlib<0.17.0,>=0.7.0 from https://files.pythonhosted.org/packages/0f/6e/45b57a7d4573d85d0b0a39d99673dc1f5eea9d92a1a4603b35e968fbf89a/cloudpathlib-0.16.0-py3-none-any.whl.metadata\n",
      "  Downloading cloudpathlib-0.16.0-py3-none-any.whl.metadata (14 kB)\n",
      "Collecting MarkupSafe>=2.0 (from jinja2->spacy)\n",
      "  Obtaining dependency information for MarkupSafe>=2.0 from https://files.pythonhosted.org/packages/be/bb/08b85bc194034efbf572e70c3951549c8eca0ada25363afc154386b5390a/MarkupSafe-2.1.3-cp311-cp311-win_amd64.whl.metadata\n",
      "  Downloading MarkupSafe-2.1.3-cp311-cp311-win_amd64.whl.metadata (3.1 kB)\n",
      "Downloading spacy-3.7.2-cp311-cp311-win_amd64.whl (12.1 MB)\n",
      "   ---------------------------------------- 0.0/12.1 MB ? eta -:--:--\n",
      "   - -------------------------------------- 0.3/12.1 MB 9.6 MB/s eta 0:00:02\n",
      "   --- ------------------------------------ 1.1/12.1 MB 14.0 MB/s eta 0:00:01\n",
      "   ---- ----------------------------------- 1.5/12.1 MB 12.0 MB/s eta 0:00:01\n",
      "   ------ --------------------------------- 2.1/12.1 MB 12.0 MB/s eta 0:00:01\n",
      "   -------- ------------------------------- 2.6/12.1 MB 11.8 MB/s eta 0:00:01\n",
      "   ---------- ----------------------------- 3.2/12.1 MB 11.8 MB/s eta 0:00:01\n",
      "   ------------ --------------------------- 3.7/12.1 MB 11.9 MB/s eta 0:00:01\n",
      "   ------------- -------------------------- 4.2/12.1 MB 11.6 MB/s eta 0:00:01\n",
      "   --------------- ------------------------ 4.7/12.1 MB 11.6 MB/s eta 0:00:01\n",
      "   ----------------- ---------------------- 5.3/12.1 MB 12.1 MB/s eta 0:00:01\n",
      "   ------------------- -------------------- 5.9/12.1 MB 11.7 MB/s eta 0:00:01\n",
      "   --------------------- ------------------ 6.5/12.1 MB 11.8 MB/s eta 0:00:01\n",
      "   ---------------------- ----------------- 6.9/12.1 MB 12.0 MB/s eta 0:00:01\n",
      "   ------------------------ --------------- 7.5/12.1 MB 11.9 MB/s eta 0:00:01\n",
      "   -------------------------- ------------- 8.0/12.1 MB 11.9 MB/s eta 0:00:01\n",
      "   ---------------------------- ----------- 8.7/12.1 MB 11.8 MB/s eta 0:00:01\n",
      "   ------------------------------ --------- 9.2/12.1 MB 12.0 MB/s eta 0:00:01\n",
      "   -------------------------------- ------- 9.7/12.1 MB 11.9 MB/s eta 0:00:01\n",
      "   --------------------------------- ------ 10.1/12.1 MB 12.0 MB/s eta 0:00:01\n",
      "   ----------------------------------- ---- 10.6/12.1 MB 12.1 MB/s eta 0:00:01\n",
      "   ------------------------------------ --- 11.0/12.1 MB 11.7 MB/s eta 0:00:01\n",
      "   -------------------------------------- - 11.6/12.1 MB 11.7 MB/s eta 0:00:01\n",
      "   ---------------------------------------  12.1/12.1 MB 11.9 MB/s eta 0:00:01\n",
      "   ---------------------------------------- 12.1/12.1 MB 11.1 MB/s eta 0:00:00\n",
      "Downloading catalogue-2.0.10-py3-none-any.whl (17 kB)\n",
      "Downloading cymem-2.0.8-cp311-cp311-win_amd64.whl (39 kB)\n",
      "Downloading murmurhash-1.0.10-cp311-cp311-win_amd64.whl (25 kB)\n",
      "Downloading preshed-3.0.9-cp311-cp311-win_amd64.whl (122 kB)\n",
      "   ---------------------------------------- 0.0/122.3 kB ? eta -:--:--\n",
      "   ---------------------------------------- 122.3/122.3 kB 7.0 MB/s eta 0:00:00\n",
      "Downloading pydantic-2.4.2-py3-none-any.whl (395 kB)\n",
      "   ---------------------------------------- 0.0/395.8 kB ? eta -:--:--\n",
      "   --------------------------------------- 395.8/395.8 kB 12.4 MB/s eta 0:00:00\n",
      "Downloading pydantic_core-2.10.1-cp311-none-win_amd64.whl (2.0 MB)\n",
      "   ---------------------------------------- 0.0/2.0 MB ? eta -:--:--\n",
      "   ------------- -------------------------- 0.7/2.0 MB 14.0 MB/s eta 0:00:01\n",
      "   ----------------------- ---------------- 1.2/2.0 MB 12.3 MB/s eta 0:00:01\n",
      "   ------------------------------- -------- 1.6/2.0 MB 12.6 MB/s eta 0:00:01\n",
      "   ---------------------------------------- 2.0/2.0 MB 11.6 MB/s eta 0:00:00\n",
      "Downloading requests-2.31.0-py3-none-any.whl (62 kB)\n",
      "   ---------------------------------------- 0.0/62.6 kB ? eta -:--:--\n",
      "   ---------------------------------------- 62.6/62.6 kB 3.5 MB/s eta 0:00:00\n",
      "Downloading smart_open-6.4.0-py3-none-any.whl (57 kB)\n",
      "   ---------------------------------------- 0.0/57.0 kB ? eta -:--:--\n",
      "   ---------------------------------------- 57.0/57.0 kB ? eta 0:00:00\n",
      "Downloading spacy_loggers-1.0.5-py3-none-any.whl (22 kB)\n",
      "Downloading srsly-2.4.8-cp311-cp311-win_amd64.whl (479 kB)\n",
      "   ---------------------------------------- 0.0/479.7 kB ? eta -:--:--\n",
      "   --------------------------------------  471.0/479.7 kB 14.9 MB/s eta 0:00:01\n",
      "   --------------------------------------- 479.7/479.7 kB 10.0 MB/s eta 0:00:00\n",
      "Downloading thinc-8.2.1-cp311-cp311-win_amd64.whl (1.5 MB)\n",
      "   ---------------------------------------- 0.0/1.5 MB ? eta -:--:--\n",
      "   ----------- ---------------------------- 0.4/1.5 MB 13.4 MB/s eta 0:00:01\n",
      "   --------------------------- ------------ 1.0/1.5 MB 12.9 MB/s eta 0:00:01\n",
      "   ---------------------------------------  1.5/1.5 MB 13.3 MB/s eta 0:00:01\n",
      "   ---------------------------------------- 1.5/1.5 MB 11.7 MB/s eta 0:00:00\n",
      "Downloading tqdm-4.66.1-py3-none-any.whl (78 kB)\n",
      "   ---------------------------------------- 0.0/78.3 kB ? eta -:--:--\n",
      "   ---------------------------------------- 78.3/78.3 kB 4.3 MB/s eta 0:00:00\n",
      "Downloading wasabi-1.1.2-py3-none-any.whl (27 kB)\n",
      "Downloading weasel-0.3.3-py3-none-any.whl (49 kB)\n",
      "   ---------------------------------------- 0.0/49.8 kB ? eta -:--:--\n",
      "   ---------------------------------------- 49.8/49.8 kB ? eta 0:00:00\n",
      "Downloading annotated_types-0.6.0-py3-none-any.whl (12 kB)\n",
      "Downloading blis-0.7.11-cp311-cp311-win_amd64.whl (6.6 MB)\n",
      "   ---------------------------------------- 0.0/6.6 MB ? eta -:--:--\n",
      "   --- ------------------------------------ 0.6/6.6 MB 17.3 MB/s eta 0:00:01\n",
      "   ------- -------------------------------- 1.2/6.6 MB 12.7 MB/s eta 0:00:01\n",
      "   ----------- ---------------------------- 1.9/6.6 MB 13.3 MB/s eta 0:00:01\n",
      "   -------------- ------------------------- 2.4/6.6 MB 13.8 MB/s eta 0:00:01\n",
      "   ----------------- ---------------------- 2.9/6.6 MB 14.2 MB/s eta 0:00:01\n",
      "   -------------------- ------------------- 3.5/6.6 MB 13.8 MB/s eta 0:00:01\n",
      "   ----------------------- ---------------- 3.9/6.6 MB 13.1 MB/s eta 0:00:01\n",
      "   --------------------------- ------------ 4.6/6.6 MB 13.2 MB/s eta 0:00:01\n",
      "   ------------------------------- -------- 5.1/6.6 MB 13.1 MB/s eta 0:00:01\n",
      "   ----------------------------------- ---- 5.8/6.6 MB 13.2 MB/s eta 0:00:01\n",
      "   -------------------------------------- - 6.4/6.6 MB 13.2 MB/s eta 0:00:01\n",
      "   ---------------------------------------  6.6/6.6 MB 13.2 MB/s eta 0:00:01\n",
      "   ---------------------------------------- 6.6/6.6 MB 12.4 MB/s eta 0:00:00\n",
      "Downloading certifi-2023.7.22-py3-none-any.whl (158 kB)\n",
      "   ---------------------------------------- 0.0/158.3 kB ? eta -:--:--\n",
      "   ---------------------------------------- 158.3/158.3 kB 9.9 MB/s eta 0:00:00\n",
      "Downloading charset_normalizer-3.3.1-cp311-cp311-win_amd64.whl (98 kB)\n",
      "   ---------------------------------------- 0.0/98.3 kB ? eta -:--:--\n",
      "   ---------------------------------------- 98.3/98.3 kB 5.9 MB/s eta 0:00:00\n",
      "Downloading click-8.1.7-py3-none-any.whl (97 kB)\n",
      "   ---------------------------------------- 0.0/97.9 kB ? eta -:--:--\n",
      "   ---------------------------------------- 97.9/97.9 kB 5.8 MB/s eta 0:00:00\n",
      "Downloading cloudpathlib-0.16.0-py3-none-any.whl (45 kB)\n",
      "   ---------------------------------------- 0.0/45.0 kB ? eta -:--:--\n",
      "   ---------------------------------------- 45.0/45.0 kB 2.2 MB/s eta 0:00:00\n",
      "Downloading confection-0.1.3-py3-none-any.whl (34 kB)\n",
      "Downloading MarkupSafe-2.1.3-cp311-cp311-win_amd64.whl (17 kB)\n",
      "Downloading typing_extensions-4.8.0-py3-none-any.whl (31 kB)\n",
      "Downloading urllib3-2.0.7-py3-none-any.whl (124 kB)\n",
      "   ---------------------------------------- 0.0/124.2 kB ? eta -:--:--\n",
      "   ---------------------------------------- 124.2/124.2 kB 7.1 MB/s eta 0:00:00\n",
      "Installing collected packages: cymem, wasabi, urllib3, typing-extensions, tqdm, spacy-loggers, spacy-legacy, smart-open, murmurhash, MarkupSafe, langcodes, idna, cloudpathlib, click, charset-normalizer, certifi, catalogue, blis, annotated-types, typer, srsly, requests, pydantic-core, preshed, jinja2, pydantic, confection, weasel, thinc, spacy\n",
      "Successfully installed MarkupSafe-2.1.3 annotated-types-0.6.0 blis-0.7.11 catalogue-2.0.10 certifi-2023.7.22 charset-normalizer-3.3.1 click-8.1.7 cloudpathlib-0.16.0 confection-0.1.3 cymem-2.0.8 idna-3.4 jinja2-3.1.2 langcodes-3.3.0 murmurhash-1.0.10 preshed-3.0.9 pydantic-2.4.2 pydantic-core-2.10.1 requests-2.31.0 smart-open-6.4.0 spacy-3.7.2 spacy-legacy-3.0.12 spacy-loggers-1.0.5 srsly-2.4.8 thinc-8.2.1 tqdm-4.66.1 typer-0.9.0 typing-extensions-4.8.0 urllib3-2.0.7 wasabi-1.1.2 weasel-0.3.3\n"
     ]
    },
    {
     "name": "stderr",
     "output_type": "stream",
     "text": [
      "\n",
      "[notice] A new release of pip is available: 23.2.1 -> 23.3.1\n",
      "[notice] To update, run: python.exe -m pip install --upgrade pip\n"
     ]
    },
    {
     "name": "stdout",
     "output_type": "stream",
     "text": [
      "Collecting spacytextblob\n",
      "  Downloading spacytextblob-4.0.0-py3-none-any.whl (4.5 kB)\n",
      "Requirement already satisfied: spacy<4.0,>=3.0 in c:\\users\\deven\\appdata\\local\\programs\\python\\python311\\lib\\site-packages (from spacytextblob) (3.7.2)\n",
      "Collecting textblob<0.16.0,>=0.15.3 (from spacytextblob)\n",
      "  Downloading textblob-0.15.3-py2.py3-none-any.whl (636 kB)\n",
      "     ---------------------------------------- 0.0/636.5 kB ? eta -:--:--\n",
      "     ---------------------------------------- 0.0/636.5 kB ? eta -:--:--\n",
      "      --------------------------------------- 10.2/636.5 kB ? eta -:--:--\n",
      "      --------------------------------------- 10.2/636.5 kB ? eta -:--:--\n",
      "      --------------------------------------- 10.2/636.5 kB ? eta -:--:--\n",
      "     - ----------------------------------- 30.7/636.5 kB 163.8 kB/s eta 0:00:04\n",
      "     - ----------------------------------- 30.7/636.5 kB 163.8 kB/s eta 0:00:04\n",
      "     -- ---------------------------------- 41.0/636.5 kB 150.6 kB/s eta 0:00:04\n",
      "     --- --------------------------------- 61.4/636.5 kB 204.8 kB/s eta 0:00:03\n",
      "     ---- -------------------------------- 71.7/636.5 kB 206.9 kB/s eta 0:00:03\n",
      "     ----- ------------------------------- 92.2/636.5 kB 249.0 kB/s eta 0:00:03\n",
      "     ------ ----------------------------- 122.9/636.5 kB 276.8 kB/s eta 0:00:02\n",
      "     -------- --------------------------- 143.4/636.5 kB 303.9 kB/s eta 0:00:02\n",
      "     -------- --------------------------- 153.6/636.5 kB 295.6 kB/s eta 0:00:02\n",
      "     --------- -------------------------- 174.1/636.5 kB 317.5 kB/s eta 0:00:02\n",
      "     ----------- ------------------------ 204.8/636.5 kB 336.0 kB/s eta 0:00:02\n",
      "     ------------ ----------------------- 225.3/636.5 kB 344.1 kB/s eta 0:00:02\n",
      "     ------------- ---------------------- 235.5/636.5 kB 342.9 kB/s eta 0:00:02\n",
      "     -------------- --------------------- 256.0/636.5 kB 365.7 kB/s eta 0:00:02\n",
      "     ---------------- ------------------- 286.7/636.5 kB 368.6 kB/s eta 0:00:01\n",
      "     ----------------- ------------------ 307.2/636.5 kB 379.7 kB/s eta 0:00:01\n",
      "     ----------------- ------------------ 317.4/636.5 kB 377.9 kB/s eta 0:00:01\n",
      "     -------------------- --------------- 358.4/636.5 kB 397.9 kB/s eta 0:00:01\n",
      "     -------------------- --------------- 368.6/636.5 kB 395.1 kB/s eta 0:00:01\n",
      "     ---------------------- ------------- 399.4/636.5 kB 401.6 kB/s eta 0:00:01\n",
      "     ------------------------ ----------- 430.1/636.5 kB 413.2 kB/s eta 0:00:01\n",
      "     ------------------------- ---------- 450.6/636.5 kB 420.6 kB/s eta 0:00:01\n",
      "     --------------------------- -------- 481.3/636.5 kB 424.4 kB/s eta 0:00:01\n",
      "     --------------------------- -------- 491.5/636.5 kB 416.0 kB/s eta 0:00:01\n",
      "     ---------------------------- ------- 512.0/636.5 kB 428.1 kB/s eta 0:00:01\n",
      "     ------------------------------ ----- 532.5/636.5 kB 433.8 kB/s eta 0:00:01\n",
      "     ------------------------------- ---- 563.2/636.5 kB 436.8 kB/s eta 0:00:01\n",
      "     -------------------------------- --- 573.4/636.5 kB 434.2 kB/s eta 0:00:01\n",
      "     ---------------------------------- - 614.4/636.5 kB 449.5 kB/s eta 0:00:01\n",
      "     -----------------------------------  634.9/636.5 kB 449.1 kB/s eta 0:00:01\n",
      "     ------------------------------------ 636.5/636.5 kB 445.1 kB/s eta 0:00:00\n",
      "Requirement already satisfied: spacy-legacy<3.1.0,>=3.0.11 in c:\\users\\deven\\appdata\\local\\programs\\python\\python311\\lib\\site-packages (from spacy<4.0,>=3.0->spacytextblob) (3.0.12)\n",
      "Requirement already satisfied: spacy-loggers<2.0.0,>=1.0.0 in c:\\users\\deven\\appdata\\local\\programs\\python\\python311\\lib\\site-packages (from spacy<4.0,>=3.0->spacytextblob) (1.0.5)\n",
      "Requirement already satisfied: murmurhash<1.1.0,>=0.28.0 in c:\\users\\deven\\appdata\\local\\programs\\python\\python311\\lib\\site-packages (from spacy<4.0,>=3.0->spacytextblob) (1.0.10)\n",
      "Requirement already satisfied: cymem<2.1.0,>=2.0.2 in c:\\users\\deven\\appdata\\local\\programs\\python\\python311\\lib\\site-packages (from spacy<4.0,>=3.0->spacytextblob) (2.0.8)\n",
      "Requirement already satisfied: preshed<3.1.0,>=3.0.2 in c:\\users\\deven\\appdata\\local\\programs\\python\\python311\\lib\\site-packages (from spacy<4.0,>=3.0->spacytextblob) (3.0.9)\n",
      "Requirement already satisfied: thinc<8.3.0,>=8.1.8 in c:\\users\\deven\\appdata\\local\\programs\\python\\python311\\lib\\site-packages (from spacy<4.0,>=3.0->spacytextblob) (8.2.1)\n",
      "Requirement already satisfied: wasabi<1.2.0,>=0.9.1 in c:\\users\\deven\\appdata\\local\\programs\\python\\python311\\lib\\site-packages (from spacy<4.0,>=3.0->spacytextblob) (1.1.2)\n",
      "Requirement already satisfied: srsly<3.0.0,>=2.4.3 in c:\\users\\deven\\appdata\\local\\programs\\python\\python311\\lib\\site-packages (from spacy<4.0,>=3.0->spacytextblob) (2.4.8)\n",
      "Requirement already satisfied: catalogue<2.1.0,>=2.0.6 in c:\\users\\deven\\appdata\\local\\programs\\python\\python311\\lib\\site-packages (from spacy<4.0,>=3.0->spacytextblob) (2.0.10)\n",
      "Requirement already satisfied: weasel<0.4.0,>=0.1.0 in c:\\users\\deven\\appdata\\local\\programs\\python\\python311\\lib\\site-packages (from spacy<4.0,>=3.0->spacytextblob) (0.3.3)\n",
      "Requirement already satisfied: typer<0.10.0,>=0.3.0 in c:\\users\\deven\\appdata\\local\\programs\\python\\python311\\lib\\site-packages (from spacy<4.0,>=3.0->spacytextblob) (0.9.0)\n",
      "Requirement already satisfied: smart-open<7.0.0,>=5.2.1 in c:\\users\\deven\\appdata\\local\\programs\\python\\python311\\lib\\site-packages (from spacy<4.0,>=3.0->spacytextblob) (6.4.0)\n",
      "Requirement already satisfied: tqdm<5.0.0,>=4.38.0 in c:\\users\\deven\\appdata\\local\\programs\\python\\python311\\lib\\site-packages (from spacy<4.0,>=3.0->spacytextblob) (4.66.1)\n",
      "Requirement already satisfied: requests<3.0.0,>=2.13.0 in c:\\users\\deven\\appdata\\local\\programs\\python\\python311\\lib\\site-packages (from spacy<4.0,>=3.0->spacytextblob) (2.31.0)\n",
      "Requirement already satisfied: pydantic!=1.8,!=1.8.1,<3.0.0,>=1.7.4 in c:\\users\\deven\\appdata\\local\\programs\\python\\python311\\lib\\site-packages (from spacy<4.0,>=3.0->spacytextblob) (2.4.2)\n",
      "Requirement already satisfied: jinja2 in c:\\users\\deven\\appdata\\local\\programs\\python\\python311\\lib\\site-packages (from spacy<4.0,>=3.0->spacytextblob) (3.1.2)\n",
      "Requirement already satisfied: setuptools in c:\\users\\deven\\appdata\\local\\programs\\python\\python311\\lib\\site-packages (from spacy<4.0,>=3.0->spacytextblob) (65.5.0)\n",
      "Requirement already satisfied: packaging>=20.0 in c:\\users\\deven\\appdata\\roaming\\python\\python311\\site-packages (from spacy<4.0,>=3.0->spacytextblob) (23.1)\n",
      "Requirement already satisfied: langcodes<4.0.0,>=3.2.0 in c:\\users\\deven\\appdata\\local\\programs\\python\\python311\\lib\\site-packages (from spacy<4.0,>=3.0->spacytextblob) (3.3.0)\n",
      "Requirement already satisfied: numpy>=1.19.0 in c:\\users\\deven\\appdata\\local\\programs\\python\\python311\\lib\\site-packages (from spacy<4.0,>=3.0->spacytextblob) (1.26.1)\n",
      "Collecting nltk>=3.1 (from textblob<0.16.0,>=0.15.3->spacytextblob)\n",
      "  Downloading nltk-3.8.1-py3-none-any.whl (1.5 MB)\n",
      "     ---------------------------------------- 0.0/1.5 MB ? eta -:--:--\n",
      "     ---------------------------------------- 0.0/1.5 MB ? eta -:--:--\n",
      "      --------------------------------------- 0.0/1.5 MB 640.0 kB/s eta 0:00:03\n",
      "     - -------------------------------------- 0.1/1.5 MB 544.7 kB/s eta 0:00:03\n",
      "     -- ------------------------------------- 0.1/1.5 MB 521.8 kB/s eta 0:00:03\n",
      "     -- ------------------------------------- 0.1/1.5 MB 544.7 kB/s eta 0:00:03\n",
      "     --- ------------------------------------ 0.1/1.5 MB 566.5 kB/s eta 0:00:03\n",
      "     ---- ----------------------------------- 0.2/1.5 MB 538.9 kB/s eta 0:00:03\n",
      "     ----- ---------------------------------- 0.2/1.5 MB 588.9 kB/s eta 0:00:03\n",
      "     ----- ---------------------------------- 0.2/1.5 MB 565.6 kB/s eta 0:00:03\n",
      "     ------ --------------------------------- 0.2/1.5 MB 576.2 kB/s eta 0:00:03\n",
      "     ------- -------------------------------- 0.3/1.5 MB 587.7 kB/s eta 0:00:03\n",
      "     ------- -------------------------------- 0.3/1.5 MB 570.1 kB/s eta 0:00:03\n",
      "     -------- ------------------------------- 0.3/1.5 MB 577.4 kB/s eta 0:00:03\n",
      "     --------- ------------------------------ 0.4/1.5 MB 602.4 kB/s eta 0:00:02\n",
      "     ---------- ----------------------------- 0.4/1.5 MB 591.1 kB/s eta 0:00:02\n",
      "     ---------- ----------------------------- 0.4/1.5 MB 594.3 kB/s eta 0:00:02\n",
      "     ----------- ---------------------------- 0.4/1.5 MB 597.2 kB/s eta 0:00:02\n",
      "     ------------ --------------------------- 0.5/1.5 MB 600.7 kB/s eta 0:00:02\n",
      "     ------------- -------------------------- 0.5/1.5 MB 603.9 kB/s eta 0:00:02\n",
      "     ------------- -------------------------- 0.5/1.5 MB 617.2 kB/s eta 0:00:02\n",
      "     -------------- ------------------------- 0.5/1.5 MB 608.5 kB/s eta 0:00:02\n",
      "     --------------- ------------------------ 0.6/1.5 MB 610.8 kB/s eta 0:00:02\n",
      "     ---------------- ----------------------- 0.6/1.5 MB 634.0 kB/s eta 0:00:02\n",
      "     ----------------- ---------------------- 0.6/1.5 MB 624.9 kB/s eta 0:00:02\n",
      "     ----------------- ---------------------- 0.7/1.5 MB 626.2 kB/s eta 0:00:02\n",
      "     ------------------ --------------------- 0.7/1.5 MB 636.4 kB/s eta 0:00:02\n",
      "     ------------------- -------------------- 0.7/1.5 MB 628.4 kB/s eta 0:00:02\n",
      "     -------------------- ------------------- 0.8/1.5 MB 637.8 kB/s eta 0:00:02\n",
      "     --------------------- ------------------ 0.8/1.5 MB 639.0 kB/s eta 0:00:02\n",
      "     ---------------------- ----------------- 0.8/1.5 MB 647.0 kB/s eta 0:00:02\n",
      "     ---------------------- ----------------- 0.9/1.5 MB 647.3 kB/s eta 0:00:02\n",
      "     ----------------------- ---------------- 0.9/1.5 MB 647.5 kB/s eta 0:00:01\n",
      "     ------------------------ --------------- 0.9/1.5 MB 655.2 kB/s eta 0:00:01\n",
      "     ------------------------- -------------- 1.0/1.5 MB 655.1 kB/s eta 0:00:01\n",
      "     -------------------------- ------------- 1.0/1.5 MB 655.4 kB/s eta 0:00:01\n",
      "     -------------------------- ------------- 1.0/1.5 MB 662.0 kB/s eta 0:00:01\n",
      "     --------------------------- ------------ 1.0/1.5 MB 655.4 kB/s eta 0:00:01\n",
      "     ---------------------------- ----------- 1.1/1.5 MB 661.7 kB/s eta 0:00:01\n",
      "     ----------------------------- ---------- 1.1/1.5 MB 667.4 kB/s eta 0:00:01\n",
      "     ------------------------------ --------- 1.1/1.5 MB 667.4 kB/s eta 0:00:01\n",
      "     ------------------------------- -------- 1.2/1.5 MB 672.8 kB/s eta 0:00:01\n",
      "     ------------------------------- -------- 1.2/1.5 MB 672.6 kB/s eta 0:00:01\n",
      "     -------------------------------- ------- 1.2/1.5 MB 672.2 kB/s eta 0:00:01\n",
      "     --------------------------------- ------ 1.3/1.5 MB 682.7 kB/s eta 0:00:01\n",
      "     ---------------------------------- ----- 1.3/1.5 MB 682.0 kB/s eta 0:00:01\n",
      "     ------------------------------------ --- 1.4/1.5 MB 692.1 kB/s eta 0:00:01\n",
      "     ------------------------------------ --- 1.4/1.5 MB 691.2 kB/s eta 0:00:01\n",
      "     ------------------------------------- -- 1.4/1.5 MB 690.3 kB/s eta 0:00:01\n",
      "     -------------------------------------- - 1.5/1.5 MB 694.8 kB/s eta 0:00:01\n",
      "     ---------------------------------------  1.5/1.5 MB 698.8 kB/s eta 0:00:01\n",
      "     ---------------------------------------- 1.5/1.5 MB 700.8 kB/s eta 0:00:00\n",
      "Requirement already satisfied: click in c:\\users\\deven\\appdata\\local\\programs\\python\\python311\\lib\\site-packages (from nltk>=3.1->textblob<0.16.0,>=0.15.3->spacytextblob) (8.1.7)\n",
      "Collecting joblib (from nltk>=3.1->textblob<0.16.0,>=0.15.3->spacytextblob)\n",
      "  Obtaining dependency information for joblib from https://files.pythonhosted.org/packages/10/40/d551139c85db202f1f384ba8bcf96aca2f329440a844f924c8a0040b6d02/joblib-1.3.2-py3-none-any.whl.metadata\n",
      "  Downloading joblib-1.3.2-py3-none-any.whl.metadata (5.4 kB)\n",
      "Collecting regex>=2021.8.3 (from nltk>=3.1->textblob<0.16.0,>=0.15.3->spacytextblob)\n",
      "  Obtaining dependency information for regex>=2021.8.3 from https://files.pythonhosted.org/packages/b8/ad/3398312096118c4e62a5827664e52a04d5068e84d04142dd4a0da8a567ae/regex-2023.10.3-cp311-cp311-win_amd64.whl.metadata\n",
      "  Downloading regex-2023.10.3-cp311-cp311-win_amd64.whl.metadata (41 kB)\n",
      "     ---------------------------------------- 0.0/42.0 kB ? eta -:--:--\n",
      "     ---------------------------------------  41.0/42.0 kB 1.9 MB/s eta 0:00:01\n",
      "     ---------------------------------------- 42.0/42.0 kB 1.0 MB/s eta 0:00:00\n",
      "Requirement already satisfied: annotated-types>=0.4.0 in c:\\users\\deven\\appdata\\local\\programs\\python\\python311\\lib\\site-packages (from pydantic!=1.8,!=1.8.1,<3.0.0,>=1.7.4->spacy<4.0,>=3.0->spacytextblob) (0.6.0)\n",
      "Requirement already satisfied: pydantic-core==2.10.1 in c:\\users\\deven\\appdata\\local\\programs\\python\\python311\\lib\\site-packages (from pydantic!=1.8,!=1.8.1,<3.0.0,>=1.7.4->spacy<4.0,>=3.0->spacytextblob) (2.10.1)\n",
      "Requirement already satisfied: typing-extensions>=4.6.1 in c:\\users\\deven\\appdata\\local\\programs\\python\\python311\\lib\\site-packages (from pydantic!=1.8,!=1.8.1,<3.0.0,>=1.7.4->spacy<4.0,>=3.0->spacytextblob) (4.8.0)\n",
      "Requirement already satisfied: charset-normalizer<4,>=2 in c:\\users\\deven\\appdata\\local\\programs\\python\\python311\\lib\\site-packages (from requests<3.0.0,>=2.13.0->spacy<4.0,>=3.0->spacytextblob) (3.3.1)\n",
      "Requirement already satisfied: idna<4,>=2.5 in c:\\users\\deven\\appdata\\local\\programs\\python\\python311\\lib\\site-packages (from requests<3.0.0,>=2.13.0->spacy<4.0,>=3.0->spacytextblob) (3.4)\n",
      "Requirement already satisfied: urllib3<3,>=1.21.1 in c:\\users\\deven\\appdata\\local\\programs\\python\\python311\\lib\\site-packages (from requests<3.0.0,>=2.13.0->spacy<4.0,>=3.0->spacytextblob) (2.0.7)\n",
      "Requirement already satisfied: certifi>=2017.4.17 in c:\\users\\deven\\appdata\\local\\programs\\python\\python311\\lib\\site-packages (from requests<3.0.0,>=2.13.0->spacy<4.0,>=3.0->spacytextblob) (2023.7.22)\n",
      "Requirement already satisfied: blis<0.8.0,>=0.7.8 in c:\\users\\deven\\appdata\\local\\programs\\python\\python311\\lib\\site-packages (from thinc<8.3.0,>=8.1.8->spacy<4.0,>=3.0->spacytextblob) (0.7.11)\n",
      "Requirement already satisfied: confection<1.0.0,>=0.0.1 in c:\\users\\deven\\appdata\\local\\programs\\python\\python311\\lib\\site-packages (from thinc<8.3.0,>=8.1.8->spacy<4.0,>=3.0->spacytextblob) (0.1.3)\n",
      "Requirement already satisfied: colorama in c:\\users\\deven\\appdata\\roaming\\python\\python311\\site-packages (from tqdm<5.0.0,>=4.38.0->spacy<4.0,>=3.0->spacytextblob) (0.4.6)\n",
      "Requirement already satisfied: cloudpathlib<0.17.0,>=0.7.0 in c:\\users\\deven\\appdata\\local\\programs\\python\\python311\\lib\\site-packages (from weasel<0.4.0,>=0.1.0->spacy<4.0,>=3.0->spacytextblob) (0.16.0)\n",
      "Requirement already satisfied: MarkupSafe>=2.0 in c:\\users\\deven\\appdata\\local\\programs\\python\\python311\\lib\\site-packages (from jinja2->spacy<4.0,>=3.0->spacytextblob) (2.1.3)\n",
      "Downloading regex-2023.10.3-cp311-cp311-win_amd64.whl (269 kB)\n",
      "   ---------------------------------------- 0.0/269.6 kB ? eta -:--:--\n",
      "   ---- ----------------------------------- 30.7/269.6 kB 1.3 MB/s eta 0:00:01\n",
      "   -------- ------------------------------ 61.4/269.6 kB 812.7 kB/s eta 0:00:01\n",
      "   --------------- ---------------------- 112.6/269.6 kB 930.9 kB/s eta 0:00:01\n",
      "   --------------------- ---------------- 153.6/269.6 kB 833.5 kB/s eta 0:00:01\n",
      "   --------------------------- ---------- 194.6/269.6 kB 903.5 kB/s eta 0:00:01\n",
      "   --------------------------------- ---- 235.5/269.6 kB 901.1 kB/s eta 0:00:01\n",
      "   -------------------------------------- 269.6/269.6 kB 873.2 kB/s eta 0:00:00\n",
      "Downloading joblib-1.3.2-py3-none-any.whl (302 kB)\n",
      "   ---------------------------------------- 0.0/302.2 kB ? eta -:--:--\n",
      "   --- ----------------------------------- 30.7/302.2 kB 660.6 kB/s eta 0:00:01\n",
      "   -------- ------------------------------- 61.4/302.2 kB 1.1 MB/s eta 0:00:01\n",
      "   ----------- --------------------------- 92.2/302.2 kB 871.5 kB/s eta 0:00:01\n",
      "   --------------- ---------------------- 122.9/302.2 kB 901.1 kB/s eta 0:00:01\n",
      "   --------------------- ---------------- 174.1/302.2 kB 871.5 kB/s eta 0:00:01\n",
      "   ------------------------- ------------ 204.8/302.2 kB 831.5 kB/s eta 0:00:01\n",
      "   -------------------------------- ----- 256.0/302.2 kB 874.6 kB/s eta 0:00:01\n",
      "   ---------------------------------- --- 276.5/302.2 kB 896.4 kB/s eta 0:00:01\n",
      "   -------------------------------------- 302.2/302.2 kB 890.1 kB/s eta 0:00:00\n",
      "Installing collected packages: regex, joblib, nltk, textblob, spacytextblob\n",
      "Successfully installed joblib-1.3.2 nltk-3.8.1 regex-2023.10.3 spacytextblob-4.0.0 textblob-0.15.3\n"
     ]
    },
    {
     "name": "stderr",
     "output_type": "stream",
     "text": [
      "\n",
      "[notice] A new release of pip is available: 23.2.1 -> 23.3.1\n",
      "[notice] To update, run: python.exe -m pip install --upgrade pip\n"
     ]
    },
    {
     "name": "stdout",
     "output_type": "stream",
     "text": [
      "Collecting en-core-web-sm==3.7.0\n",
      "  Downloading https://github.com/explosion/spacy-models/releases/download/en_core_web_sm-3.7.0/en_core_web_sm-3.7.0-py3-none-any.whl (12.8 MB)\n",
      "     ---------------------------------------- 0.0/12.8 MB ? eta -:--:--\n",
      "     ---------------------------------------- 0.0/12.8 MB ? eta -:--:--\n",
      "     --------------------------------------- 0.0/12.8 MB 435.7 kB/s eta 0:00:30\n",
      "     --------------------------------------- 0.1/12.8 MB 563.7 kB/s eta 0:00:23\n",
      "      --------------------------------------- 0.2/12.8 MB 1.3 MB/s eta 0:00:11\n",
      "     - -------------------------------------- 0.5/12.8 MB 2.3 MB/s eta 0:00:06\n",
      "     -- ------------------------------------- 0.8/12.8 MB 2.9 MB/s eta 0:00:05\n",
      "     --- ------------------------------------ 1.1/12.8 MB 3.7 MB/s eta 0:00:04\n",
      "     ----- ---------------------------------- 1.7/12.8 MB 4.8 MB/s eta 0:00:03\n",
      "     ------- -------------------------------- 2.4/12.8 MB 6.0 MB/s eta 0:00:02\n",
      "     --------- ------------------------------ 3.1/12.8 MB 6.8 MB/s eta 0:00:02\n",
      "     ----------- ---------------------------- 3.7/12.8 MB 7.6 MB/s eta 0:00:02\n",
      "     ------------- -------------------------- 4.3/12.8 MB 8.1 MB/s eta 0:00:02\n",
      "     --------------- ------------------------ 5.1/12.8 MB 8.8 MB/s eta 0:00:01\n",
      "     ------------------ --------------------- 5.8/12.8 MB 9.3 MB/s eta 0:00:01\n",
      "     -------------------- ------------------- 6.5/12.8 MB 9.9 MB/s eta 0:00:01\n",
      "     ----------------------- ---------------- 7.4/12.8 MB 10.5 MB/s eta 0:00:01\n",
      "     ------------------------- -------------- 8.2/12.8 MB 10.9 MB/s eta 0:00:01\n",
      "     --------------------------- ------------ 8.9/12.8 MB 11.2 MB/s eta 0:00:01\n",
      "     ------------------------------ --------- 9.7/12.8 MB 11.8 MB/s eta 0:00:01\n",
      "     -------------------------------- ------ 10.6/12.8 MB 15.6 MB/s eta 0:00:01\n",
      "     ---------------------------------- ---- 11.4/12.8 MB 17.2 MB/s eta 0:00:01\n",
      "     ------------------------------------- - 12.3/12.8 MB 17.7 MB/s eta 0:00:01\n",
      "     --------------------------------------  12.8/12.8 MB 18.2 MB/s eta 0:00:01\n",
      "     --------------------------------------- 12.8/12.8 MB 16.8 MB/s eta 0:00:00\n",
      "Requirement already satisfied: spacy<3.8.0,>=3.7.0 in c:\\users\\deven\\appdata\\local\\programs\\python\\python311\\lib\\site-packages (from en-core-web-sm==3.7.0) (3.7.2)\n",
      "Requirement already satisfied: spacy-legacy<3.1.0,>=3.0.11 in c:\\users\\deven\\appdata\\local\\programs\\python\\python311\\lib\\site-packages (from spacy<3.8.0,>=3.7.0->en-core-web-sm==3.7.0) (3.0.12)\n",
      "Requirement already satisfied: spacy-loggers<2.0.0,>=1.0.0 in c:\\users\\deven\\appdata\\local\\programs\\python\\python311\\lib\\site-packages (from spacy<3.8.0,>=3.7.0->en-core-web-sm==3.7.0) (1.0.5)\n",
      "Requirement already satisfied: murmurhash<1.1.0,>=0.28.0 in c:\\users\\deven\\appdata\\local\\programs\\python\\python311\\lib\\site-packages (from spacy<3.8.0,>=3.7.0->en-core-web-sm==3.7.0) (1.0.10)\n",
      "Requirement already satisfied: cymem<2.1.0,>=2.0.2 in c:\\users\\deven\\appdata\\local\\programs\\python\\python311\\lib\\site-packages (from spacy<3.8.0,>=3.7.0->en-core-web-sm==3.7.0) (2.0.8)\n",
      "Requirement already satisfied: preshed<3.1.0,>=3.0.2 in c:\\users\\deven\\appdata\\local\\programs\\python\\python311\\lib\\site-packages (from spacy<3.8.0,>=3.7.0->en-core-web-sm==3.7.0) (3.0.9)\n",
      "Requirement already satisfied: thinc<8.3.0,>=8.1.8 in c:\\users\\deven\\appdata\\local\\programs\\python\\python311\\lib\\site-packages (from spacy<3.8.0,>=3.7.0->en-core-web-sm==3.7.0) (8.2.1)\n",
      "Requirement already satisfied: wasabi<1.2.0,>=0.9.1 in c:\\users\\deven\\appdata\\local\\programs\\python\\python311\\lib\\site-packages (from spacy<3.8.0,>=3.7.0->en-core-web-sm==3.7.0) (1.1.2)\n",
      "Requirement already satisfied: srsly<3.0.0,>=2.4.3 in c:\\users\\deven\\appdata\\local\\programs\\python\\python311\\lib\\site-packages (from spacy<3.8.0,>=3.7.0->en-core-web-sm==3.7.0) (2.4.8)\n",
      "Requirement already satisfied: catalogue<2.1.0,>=2.0.6 in c:\\users\\deven\\appdata\\local\\programs\\python\\python311\\lib\\site-packages (from spacy<3.8.0,>=3.7.0->en-core-web-sm==3.7.0) (2.0.10)\n",
      "Requirement already satisfied: weasel<0.4.0,>=0.1.0 in c:\\users\\deven\\appdata\\local\\programs\\python\\python311\\lib\\site-packages (from spacy<3.8.0,>=3.7.0->en-core-web-sm==3.7.0) (0.3.3)\n",
      "Requirement already satisfied: typer<0.10.0,>=0.3.0 in c:\\users\\deven\\appdata\\local\\programs\\python\\python311\\lib\\site-packages (from spacy<3.8.0,>=3.7.0->en-core-web-sm==3.7.0) (0.9.0)\n",
      "Requirement already satisfied: smart-open<7.0.0,>=5.2.1 in c:\\users\\deven\\appdata\\local\\programs\\python\\python311\\lib\\site-packages (from spacy<3.8.0,>=3.7.0->en-core-web-sm==3.7.0) (6.4.0)\n",
      "Requirement already satisfied: tqdm<5.0.0,>=4.38.0 in c:\\users\\deven\\appdata\\local\\programs\\python\\python311\\lib\\site-packages (from spacy<3.8.0,>=3.7.0->en-core-web-sm==3.7.0) (4.66.1)\n",
      "Requirement already satisfied: requests<3.0.0,>=2.13.0 in c:\\users\\deven\\appdata\\local\\programs\\python\\python311\\lib\\site-packages (from spacy<3.8.0,>=3.7.0->en-core-web-sm==3.7.0) (2.31.0)\n",
      "Requirement already satisfied: pydantic!=1.8,!=1.8.1,<3.0.0,>=1.7.4 in c:\\users\\deven\\appdata\\local\\programs\\python\\python311\\lib\\site-packages (from spacy<3.8.0,>=3.7.0->en-core-web-sm==3.7.0) (2.4.2)\n",
      "Requirement already satisfied: jinja2 in c:\\users\\deven\\appdata\\local\\programs\\python\\python311\\lib\\site-packages (from spacy<3.8.0,>=3.7.0->en-core-web-sm==3.7.0) (3.1.2)\n",
      "Requirement already satisfied: setuptools in c:\\users\\deven\\appdata\\local\\programs\\python\\python311\\lib\\site-packages (from spacy<3.8.0,>=3.7.0->en-core-web-sm==3.7.0) (65.5.0)\n",
      "Requirement already satisfied: packaging>=20.0 in c:\\users\\deven\\appdata\\roaming\\python\\python311\\site-packages (from spacy<3.8.0,>=3.7.0->en-core-web-sm==3.7.0) (23.1)\n",
      "Requirement already satisfied: langcodes<4.0.0,>=3.2.0 in c:\\users\\deven\\appdata\\local\\programs\\python\\python311\\lib\\site-packages (from spacy<3.8.0,>=3.7.0->en-core-web-sm==3.7.0) (3.3.0)\n",
      "Requirement already satisfied: numpy>=1.19.0 in c:\\users\\deven\\appdata\\local\\programs\\python\\python311\\lib\\site-packages (from spacy<3.8.0,>=3.7.0->en-core-web-sm==3.7.0) (1.26.1)\n",
      "Requirement already satisfied: annotated-types>=0.4.0 in c:\\users\\deven\\appdata\\local\\programs\\python\\python311\\lib\\site-packages (from pydantic!=1.8,!=1.8.1,<3.0.0,>=1.7.4->spacy<3.8.0,>=3.7.0->en-core-web-sm==3.7.0) (0.6.0)\n",
      "Requirement already satisfied: pydantic-core==2.10.1 in c:\\users\\deven\\appdata\\local\\programs\\python\\python311\\lib\\site-packages (from pydantic!=1.8,!=1.8.1,<3.0.0,>=1.7.4->spacy<3.8.0,>=3.7.0->en-core-web-sm==3.7.0) (2.10.1)\n",
      "Requirement already satisfied: typing-extensions>=4.6.1 in c:\\users\\deven\\appdata\\local\\programs\\python\\python311\\lib\\site-packages (from pydantic!=1.8,!=1.8.1,<3.0.0,>=1.7.4->spacy<3.8.0,>=3.7.0->en-core-web-sm==3.7.0) (4.8.0)\n",
      "Requirement already satisfied: charset-normalizer<4,>=2 in c:\\users\\deven\\appdata\\local\\programs\\python\\python311\\lib\\site-packages (from requests<3.0.0,>=2.13.0->spacy<3.8.0,>=3.7.0->en-core-web-sm==3.7.0) (3.3.1)\n",
      "Requirement already satisfied: idna<4,>=2.5 in c:\\users\\deven\\appdata\\local\\programs\\python\\python311\\lib\\site-packages (from requests<3.0.0,>=2.13.0->spacy<3.8.0,>=3.7.0->en-core-web-sm==3.7.0) (3.4)\n",
      "Requirement already satisfied: urllib3<3,>=1.21.1 in c:\\users\\deven\\appdata\\local\\programs\\python\\python311\\lib\\site-packages (from requests<3.0.0,>=2.13.0->spacy<3.8.0,>=3.7.0->en-core-web-sm==3.7.0) (2.0.7)\n",
      "Requirement already satisfied: certifi>=2017.4.17 in c:\\users\\deven\\appdata\\local\\programs\\python\\python311\\lib\\site-packages (from requests<3.0.0,>=2.13.0->spacy<3.8.0,>=3.7.0->en-core-web-sm==3.7.0) (2023.7.22)\n",
      "Requirement already satisfied: blis<0.8.0,>=0.7.8 in c:\\users\\deven\\appdata\\local\\programs\\python\\python311\\lib\\site-packages (from thinc<8.3.0,>=8.1.8->spacy<3.8.0,>=3.7.0->en-core-web-sm==3.7.0) (0.7.11)\n",
      "Requirement already satisfied: confection<1.0.0,>=0.0.1 in c:\\users\\deven\\appdata\\local\\programs\\python\\python311\\lib\\site-packages (from thinc<8.3.0,>=8.1.8->spacy<3.8.0,>=3.7.0->en-core-web-sm==3.7.0) (0.1.3)\n",
      "Requirement already satisfied: colorama in c:\\users\\deven\\appdata\\roaming\\python\\python311\\site-packages (from tqdm<5.0.0,>=4.38.0->spacy<3.8.0,>=3.7.0->en-core-web-sm==3.7.0) (0.4.6)\n",
      "Requirement already satisfied: click<9.0.0,>=7.1.1 in c:\\users\\deven\\appdata\\local\\programs\\python\\python311\\lib\\site-packages (from typer<0.10.0,>=0.3.0->spacy<3.8.0,>=3.7.0->en-core-web-sm==3.7.0) (8.1.7)\n",
      "Requirement already satisfied: cloudpathlib<0.17.0,>=0.7.0 in c:\\users\\deven\\appdata\\local\\programs\\python\\python311\\lib\\site-packages (from weasel<0.4.0,>=0.1.0->spacy<3.8.0,>=3.7.0->en-core-web-sm==3.7.0) (0.16.0)\n",
      "Requirement already satisfied: MarkupSafe>=2.0 in c:\\users\\deven\\appdata\\local\\programs\\python\\python311\\lib\\site-packages (from jinja2->spacy<3.8.0,>=3.7.0->en-core-web-sm==3.7.0) (2.1.3)\n",
      "Installing collected packages: en-core-web-sm\n",
      "Successfully installed en-core-web-sm-3.7.0\n",
      "\u001b[38;5;2m✔ Download and installation successful\u001b[0m\n",
      "You can now load the package via spacy.load('en_core_web_sm')\n"
     ]
    },
    {
     "name": "stderr",
     "output_type": "stream",
     "text": [
      "\n",
      "[notice] A new release of pip is available: 23.2.1 -> 23.3.1\n",
      "[notice] To update, run: python.exe -m pip install --upgrade pip\n"
     ]
    },
    {
     "name": "stdout",
     "output_type": "stream",
     "text": [
      "Collecting newspaper3k\n",
      "  Downloading newspaper3k-0.2.8-py3-none-any.whl (211 kB)\n",
      "     ---------------------------------------- 0.0/211.1 kB ? eta -:--:--\n",
      "     - -------------------------------------- 10.2/211.1 kB ? eta -:--:--\n",
      "     ----- ------------------------------- 30.7/211.1 kB 262.6 kB/s eta 0:00:01\n",
      "     ------- ----------------------------- 41.0/211.1 kB 245.8 kB/s eta 0:00:01\n",
      "     ---------------- -------------------- 92.2/211.1 kB 476.3 kB/s eta 0:00:01\n",
      "     ------------------------ ----------- 143.4/211.1 kB 655.8 kB/s eta 0:00:01\n",
      "     ------------------------------------ 211.1/211.1 kB 755.2 kB/s eta 0:00:00\n",
      "Collecting beautifulsoup4>=4.4.1 (from newspaper3k)\n",
      "  Downloading beautifulsoup4-4.12.2-py3-none-any.whl (142 kB)\n",
      "     ---------------------------------------- 0.0/143.0 kB ? eta -:--:--\n",
      "     -------------------------------------- 143.0/143.0 kB 4.3 MB/s eta 0:00:00\n",
      "Collecting Pillow>=3.3.0 (from newspaper3k)\n",
      "  Obtaining dependency information for Pillow>=3.3.0 from https://files.pythonhosted.org/packages/b1/38/31def4109acd4db10672df6f806b175c0d21458f845ddc0890e43238ba7c/Pillow-10.1.0-cp311-cp311-win_amd64.whl.metadata\n",
      "  Downloading Pillow-10.1.0-cp311-cp311-win_amd64.whl.metadata (9.6 kB)\n",
      "Collecting PyYAML>=3.11 (from newspaper3k)\n",
      "  Obtaining dependency information for PyYAML>=3.11 from https://files.pythonhosted.org/packages/b3/34/65bb4b2d7908044963ebf614fe0fdb080773fc7030d7e39c8d3eddcd4257/PyYAML-6.0.1-cp311-cp311-win_amd64.whl.metadata\n",
      "  Downloading PyYAML-6.0.1-cp311-cp311-win_amd64.whl.metadata (2.1 kB)\n",
      "Collecting cssselect>=0.9.2 (from newspaper3k)\n",
      "  Downloading cssselect-1.2.0-py2.py3-none-any.whl (18 kB)\n",
      "Collecting lxml>=3.6.0 (from newspaper3k)\n",
      "  Obtaining dependency information for lxml>=3.6.0 from https://files.pythonhosted.org/packages/31/58/e3b3dd6bb2ab7404f1f4992e2d0e6926ed40cef8ce1b3bbefd95877499e1/lxml-4.9.3-cp311-cp311-win_amd64.whl.metadata\n",
      "  Downloading lxml-4.9.3-cp311-cp311-win_amd64.whl.metadata (3.9 kB)\n",
      "Requirement already satisfied: nltk>=3.2.1 in c:\\users\\deven\\appdata\\local\\programs\\python\\python311\\lib\\site-packages (from newspaper3k) (3.8.1)\n",
      "Requirement already satisfied: requests>=2.10.0 in c:\\users\\deven\\appdata\\local\\programs\\python\\python311\\lib\\site-packages (from newspaper3k) (2.31.0)\n",
      "Collecting feedparser>=5.2.1 (from newspaper3k)\n",
      "  Downloading feedparser-6.0.10-py3-none-any.whl (81 kB)\n",
      "     ---------------------------------------- 0.0/81.1 kB ? eta -:--:--\n",
      "     ---------------------------------------- 81.1/81.1 kB ? eta 0:00:00\n",
      "Collecting tldextract>=2.0.1 (from newspaper3k)\n",
      "  Obtaining dependency information for tldextract>=2.0.1 from https://files.pythonhosted.org/packages/75/c0/038a9529d1b3cf10ab682bb66e2e253530e5380c2b656205703d9f618b30/tldextract-5.0.1-py3-none-any.whl.metadata\n",
      "  Downloading tldextract-5.0.1-py3-none-any.whl.metadata (10 kB)\n",
      "Collecting feedfinder2>=0.0.4 (from newspaper3k)\n",
      "  Downloading feedfinder2-0.0.4.tar.gz (3.3 kB)\n",
      "  Installing build dependencies: started\n",
      "  Installing build dependencies: finished with status 'done'\n",
      "  Getting requirements to build wheel: started\n",
      "  Getting requirements to build wheel: finished with status 'done'\n",
      "  Preparing metadata (pyproject.toml): started\n",
      "  Preparing metadata (pyproject.toml): finished with status 'done'\n",
      "Collecting jieba3k>=0.35.1 (from newspaper3k)\n",
      "  Downloading jieba3k-0.35.1.zip (7.4 MB)\n",
      "     ---------------------------------------- 0.0/7.4 MB ? eta -:--:--\n",
      "     - -------------------------------------- 0.3/7.4 MB 16.4 MB/s eta 0:00:01\n",
      "     - -------------------------------------- 0.3/7.4 MB 16.4 MB/s eta 0:00:01\n",
      "     -- ------------------------------------- 0.5/7.4 MB 4.6 MB/s eta 0:00:02\n",
      "     -- ------------------------------------- 0.5/7.4 MB 4.6 MB/s eta 0:00:02\n",
      "     ----- ---------------------------------- 1.0/7.4 MB 4.8 MB/s eta 0:00:02\n",
      "     ----- ---------------------------------- 1.0/7.4 MB 4.4 MB/s eta 0:00:02\n",
      "     ---------- ----------------------------- 1.9/7.4 MB 6.9 MB/s eta 0:00:01\n",
      "     ----------- ---------------------------- 2.2/7.4 MB 6.7 MB/s eta 0:00:01\n",
      "     ------------------- -------------------- 3.5/7.4 MB 9.8 MB/s eta 0:00:01\n",
      "     ------------------------ --------------- 4.6/7.4 MB 11.3 MB/s eta 0:00:01\n",
      "     ---------------------------------- ----- 6.3/7.4 MB 14.0 MB/s eta 0:00:01\n",
      "     ---------------------------------------  7.4/7.4 MB 15.3 MB/s eta 0:00:01\n",
      "     ---------------------------------------- 7.4/7.4 MB 14.8 MB/s eta 0:00:00\n",
      "  Installing build dependencies: started\n",
      "  Installing build dependencies: finished with status 'done'\n",
      "  Getting requirements to build wheel: started\n",
      "  Getting requirements to build wheel: finished with status 'done'\n",
      "  Preparing metadata (pyproject.toml): started\n",
      "  Preparing metadata (pyproject.toml): finished with status 'done'\n",
      "Requirement already satisfied: python-dateutil>=2.5.3 in c:\\users\\deven\\appdata\\roaming\\python\\python311\\site-packages (from newspaper3k) (2.8.2)\n",
      "Collecting tinysegmenter==0.3 (from newspaper3k)\n",
      "  Downloading tinysegmenter-0.3.tar.gz (16 kB)\n",
      "  Installing build dependencies: started\n",
      "  Installing build dependencies: finished with status 'done'\n",
      "  Getting requirements to build wheel: started\n",
      "  Getting requirements to build wheel: finished with status 'done'\n",
      "  Preparing metadata (pyproject.toml): started\n",
      "  Preparing metadata (pyproject.toml): finished with status 'done'\n",
      "Collecting soupsieve>1.2 (from beautifulsoup4>=4.4.1->newspaper3k)\n",
      "  Obtaining dependency information for soupsieve>1.2 from https://files.pythonhosted.org/packages/4c/f3/038b302fdfbe3be7da016777069f26ceefe11a681055ea1f7817546508e3/soupsieve-2.5-py3-none-any.whl.metadata\n",
      "  Downloading soupsieve-2.5-py3-none-any.whl.metadata (4.7 kB)\n",
      "Requirement already satisfied: six in c:\\users\\deven\\appdata\\roaming\\python\\python311\\site-packages (from feedfinder2>=0.0.4->newspaper3k) (1.16.0)\n",
      "Collecting sgmllib3k (from feedparser>=5.2.1->newspaper3k)\n",
      "  Downloading sgmllib3k-1.0.0.tar.gz (5.8 kB)\n",
      "  Installing build dependencies: started\n",
      "  Installing build dependencies: finished with status 'done'\n",
      "  Getting requirements to build wheel: started\n",
      "  Getting requirements to build wheel: finished with status 'done'\n",
      "  Preparing metadata (pyproject.toml): started\n",
      "  Preparing metadata (pyproject.toml): finished with status 'done'\n",
      "Requirement already satisfied: click in c:\\users\\deven\\appdata\\local\\programs\\python\\python311\\lib\\site-packages (from nltk>=3.2.1->newspaper3k) (8.1.7)\n",
      "Requirement already satisfied: joblib in c:\\users\\deven\\appdata\\local\\programs\\python\\python311\\lib\\site-packages (from nltk>=3.2.1->newspaper3k) (1.3.2)\n",
      "Requirement already satisfied: regex>=2021.8.3 in c:\\users\\deven\\appdata\\local\\programs\\python\\python311\\lib\\site-packages (from nltk>=3.2.1->newspaper3k) (2023.10.3)\n",
      "Requirement already satisfied: tqdm in c:\\users\\deven\\appdata\\local\\programs\\python\\python311\\lib\\site-packages (from nltk>=3.2.1->newspaper3k) (4.66.1)\n",
      "Requirement already satisfied: charset-normalizer<4,>=2 in c:\\users\\deven\\appdata\\local\\programs\\python\\python311\\lib\\site-packages (from requests>=2.10.0->newspaper3k) (3.3.1)\n",
      "Requirement already satisfied: idna<4,>=2.5 in c:\\users\\deven\\appdata\\local\\programs\\python\\python311\\lib\\site-packages (from requests>=2.10.0->newspaper3k) (3.4)\n",
      "Requirement already satisfied: urllib3<3,>=1.21.1 in c:\\users\\deven\\appdata\\local\\programs\\python\\python311\\lib\\site-packages (from requests>=2.10.0->newspaper3k) (2.0.7)\n",
      "Requirement already satisfied: certifi>=2017.4.17 in c:\\users\\deven\\appdata\\local\\programs\\python\\python311\\lib\\site-packages (from requests>=2.10.0->newspaper3k) (2023.7.22)\n",
      "Collecting requests-file>=1.4 (from tldextract>=2.0.1->newspaper3k)\n",
      "  Downloading requests_file-1.5.1-py2.py3-none-any.whl (3.7 kB)\n",
      "Collecting filelock>=3.0.8 (from tldextract>=2.0.1->newspaper3k)\n",
      "  Obtaining dependency information for filelock>=3.0.8 from https://files.pythonhosted.org/packages/5e/5d/97afbafd9d584ff1b45fcb354a479a3609bd97f912f8f1f6c563cb1fae21/filelock-3.12.4-py3-none-any.whl.metadata\n",
      "  Downloading filelock-3.12.4-py3-none-any.whl.metadata (2.8 kB)\n",
      "Requirement already satisfied: colorama in c:\\users\\deven\\appdata\\roaming\\python\\python311\\site-packages (from click->nltk>=3.2.1->newspaper3k) (0.4.6)\n",
      "Downloading lxml-4.9.3-cp311-cp311-win_amd64.whl (3.8 MB)\n",
      "   ---------------------------------------- 0.0/3.8 MB ? eta -:--:--\n",
      "   ---------------------- ----------------- 2.1/3.8 MB 45.3 MB/s eta 0:00:01\n",
      "   ---------------------------------------  3.8/3.8 MB 48.2 MB/s eta 0:00:01\n",
      "   ---------------------------------------- 3.8/3.8 MB 40.0 MB/s eta 0:00:00\n",
      "Downloading Pillow-10.1.0-cp311-cp311-win_amd64.whl (2.6 MB)\n",
      "   ---------------------------------------- 0.0/2.6 MB ? eta -:--:--\n",
      "   ---------------------------------------  2.6/2.6 MB 83.6 MB/s eta 0:00:01\n",
      "   ---------------------------------------- 2.6/2.6 MB 41.3 MB/s eta 0:00:00\n",
      "Downloading PyYAML-6.0.1-cp311-cp311-win_amd64.whl (144 kB)\n",
      "   ---------------------------------------- 0.0/144.7 kB ? eta -:--:--\n",
      "   ---------------------------------------- 144.7/144.7 kB 8.4 MB/s eta 0:00:00\n",
      "Downloading tldextract-5.0.1-py3-none-any.whl (97 kB)\n",
      "   ---------------------------------------- 0.0/97.1 kB ? eta -:--:--\n",
      "   ---------------------------------------- 97.1/97.1 kB 5.4 MB/s eta 0:00:00\n",
      "Downloading filelock-3.12.4-py3-none-any.whl (11 kB)\n",
      "Downloading soupsieve-2.5-py3-none-any.whl (36 kB)\n",
      "Building wheels for collected packages: tinysegmenter, feedfinder2, jieba3k, sgmllib3k\n",
      "  Building wheel for tinysegmenter (pyproject.toml): started\n",
      "  Building wheel for tinysegmenter (pyproject.toml): finished with status 'done'\n",
      "  Created wheel for tinysegmenter: filename=tinysegmenter-0.3-py3-none-any.whl size=13567 sha256=6121538aa433e49e66c251be4cb22ad1c057ae4b911dfb9bb801c3a6e51b200f\n",
      "  Stored in directory: c:\\users\\deven\\appdata\\local\\pip\\cache\\wheels\\fc\\ab\\f8\\cce3a9ae6d828bd346be695f7ff54612cd22b7cbd7208d68f3\n",
      "  Building wheel for feedfinder2 (pyproject.toml): started\n",
      "  Building wheel for feedfinder2 (pyproject.toml): finished with status 'done'\n",
      "  Created wheel for feedfinder2: filename=feedfinder2-0.0.4-py3-none-any.whl size=3357 sha256=627f7eacf5ccf8aad1150c03b57c894d2db65a16c1713e270af5a9c383aea088\n",
      "  Stored in directory: c:\\users\\deven\\appdata\\local\\pip\\cache\\wheels\\80\\d5\\72\\9cd9eccc819636436c6a6e59c22a0fb1ec167beef141f56491\n",
      "  Building wheel for jieba3k (pyproject.toml): started\n",
      "  Building wheel for jieba3k (pyproject.toml): finished with status 'done'\n",
      "  Created wheel for jieba3k: filename=jieba3k-0.35.1-py3-none-any.whl size=7398387 sha256=ccda1b344290760870438757f90e02581146dcd034c5622338d119ba584ac698\n",
      "  Stored in directory: c:\\users\\deven\\appdata\\local\\pip\\cache\\wheels\\3a\\a1\\46\\8e68055c1713f9c4598774c15ad0541f26d5425ee7423b6493\n",
      "  Building wheel for sgmllib3k (pyproject.toml): started\n",
      "  Building wheel for sgmllib3k (pyproject.toml): finished with status 'done'\n",
      "  Created wheel for sgmllib3k: filename=sgmllib3k-1.0.0-py3-none-any.whl size=6061 sha256=5d47da6b169dcfb375a8d8d5338e7cde84614c338c36b4ec8111a1f84ffe0455\n",
      "  Stored in directory: c:\\users\\deven\\appdata\\local\\pip\\cache\\wheels\\3b\\25\\2a\\105d6a15df6914f4d15047691c6c28f9052cc1173e40285d03\n",
      "Successfully built tinysegmenter feedfinder2 jieba3k sgmllib3k\n",
      "Installing collected packages: tinysegmenter, sgmllib3k, jieba3k, soupsieve, PyYAML, Pillow, lxml, filelock, feedparser, cssselect, requests-file, beautifulsoup4, tldextract, feedfinder2, newspaper3k\n",
      "Successfully installed Pillow-10.1.0 PyYAML-6.0.1 beautifulsoup4-4.12.2 cssselect-1.2.0 feedfinder2-0.0.4 feedparser-6.0.10 filelock-3.12.4 jieba3k-0.35.1 lxml-4.9.3 newspaper3k-0.2.8 requests-file-1.5.1 sgmllib3k-1.0.0 soupsieve-2.5 tinysegmenter-0.3 tldextract-5.0.1\n"
     ]
    },
    {
     "name": "stderr",
     "output_type": "stream",
     "text": [
      "\n",
      "[notice] A new release of pip is available: 23.2.1 -> 23.3.1\n",
      "[notice] To update, run: python.exe -m pip install --upgrade pip\n"
     ]
    },
    {
     "name": "stdout",
     "output_type": "stream",
     "text": [
      "Collecting gensim\n",
      "  Obtaining dependency information for gensim from https://files.pythonhosted.org/packages/ad/97/b8253236dfedb9094f4273393a3fd03997da81f27f15822e56128da894ae/gensim-4.3.2-cp311-cp311-win_amd64.whl.metadata\n",
      "  Downloading gensim-4.3.2-cp311-cp311-win_amd64.whl.metadata (8.5 kB)\n",
      "Requirement already satisfied: numpy>=1.18.5 in c:\\users\\deven\\appdata\\local\\programs\\python\\python311\\lib\\site-packages (from gensim) (1.26.1)\n",
      "Collecting scipy>=1.7.0 (from gensim)\n",
      "  Obtaining dependency information for scipy>=1.7.0 from https://files.pythonhosted.org/packages/81/d7/d2537d51efb692d0c411e64267ba349e7668d40f5bc73cefe78ccd650dcd/scipy-1.11.3-cp311-cp311-win_amd64.whl.metadata\n",
      "  Downloading scipy-1.11.3-cp311-cp311-win_amd64.whl.metadata (60 kB)\n",
      "     ---------------------------------------- 0.0/60.4 kB ? eta -:--:--\n",
      "     ------ --------------------------------- 10.2/60.4 kB ? eta -:--:--\n",
      "     ------ --------------------------------- 10.2/60.4 kB ? eta -:--:--\n",
      "     ------------------------- ------------ 41.0/60.4 kB 393.8 kB/s eta 0:00:01\n",
      "     -------------------------------------- 60.4/60.4 kB 456.1 kB/s eta 0:00:00\n",
      "Requirement already satisfied: smart-open>=1.8.1 in c:\\users\\deven\\appdata\\local\\programs\\python\\python311\\lib\\site-packages (from gensim) (6.4.0)\n",
      "Downloading gensim-4.3.2-cp311-cp311-win_amd64.whl (24.0 MB)\n",
      "   ---------------------------------------- 0.0/24.0 MB ? eta -:--:--\n",
      "   ---------------------------------------- 0.1/24.0 MB 1.7 MB/s eta 0:00:15\n",
      "   ---------------------------------------- 0.1/24.0 MB 1.1 MB/s eta 0:00:23\n",
      "   ---------------------------------------- 0.2/24.0 MB 2.0 MB/s eta 0:00:13\n",
      "    --------------------------------------- 0.3/24.0 MB 1.9 MB/s eta 0:00:13\n",
      "    --------------------------------------- 0.5/24.0 MB 2.4 MB/s eta 0:00:10\n",
      "   - -------------------------------------- 0.7/24.0 MB 2.9 MB/s eta 0:00:09\n",
      "   - -------------------------------------- 0.8/24.0 MB 2.7 MB/s eta 0:00:09\n",
      "   -- ------------------------------------- 1.3/24.0 MB 3.7 MB/s eta 0:00:07\n",
      "   -- ------------------------------------- 1.6/24.0 MB 4.1 MB/s eta 0:00:06\n",
      "   ---- ----------------------------------- 2.4/24.0 MB 5.8 MB/s eta 0:00:04\n",
      "   ----- ---------------------------------- 3.1/24.0 MB 6.7 MB/s eta 0:00:04\n",
      "   ------- -------------------------------- 4.8/24.0 MB 9.3 MB/s eta 0:00:03\n",
      "   ---------- ----------------------------- 6.4/24.0 MB 11.3 MB/s eta 0:00:02\n",
      "   ------------- -------------------------- 8.2/24.0 MB 13.8 MB/s eta 0:00:02\n",
      "   ---------------- ----------------------- 9.7/24.0 MB 15.5 MB/s eta 0:00:01\n",
      "   ------------------ --------------------- 11.1/24.0 MB 28.4 MB/s eta 0:00:01\n",
      "   -------------------- ------------------- 12.5/24.0 MB 36.4 MB/s eta 0:00:01\n",
      "   ----------------------- ---------------- 14.0/24.0 MB 38.5 MB/s eta 0:00:01\n",
      "   -------------------------- ------------- 15.8/24.0 MB 40.9 MB/s eta 0:00:01\n",
      "   --------------------------- ------------ 16.5/24.0 MB 40.9 MB/s eta 0:00:01\n",
      "   --------------------------- ------------ 16.5/24.0 MB 40.9 MB/s eta 0:00:01\n",
      "   --------------------------- ------------ 16.5/24.0 MB 40.9 MB/s eta 0:00:01\n",
      "   --------------------------- ------------ 16.5/24.0 MB 40.9 MB/s eta 0:00:01\n",
      "   ------------------------------------ --- 21.8/24.0 MB 32.8 MB/s eta 0:00:01\n",
      "   ---------------------------------------  24.0/24.0 MB 38.5 MB/s eta 0:00:01\n",
      "   ---------------------------------------- 24.0/24.0 MB 31.2 MB/s eta 0:00:00\n",
      "Downloading scipy-1.11.3-cp311-cp311-win_amd64.whl (44.1 MB)\n",
      "   ---------------------------------------- 0.0/44.1 MB ? eta -:--:--\n",
      "   - -------------------------------------- 2.1/44.1 MB 43.8 MB/s eta 0:00:01\n",
      "   --- ------------------------------------ 3.8/44.1 MB 40.6 MB/s eta 0:00:01\n",
      "   ---- ----------------------------------- 5.3/44.1 MB 42.2 MB/s eta 0:00:01\n",
      "   ------ --------------------------------- 6.8/44.1 MB 43.5 MB/s eta 0:00:01\n",
      "   -------- ------------------------------- 8.8/44.1 MB 40.3 MB/s eta 0:00:01\n",
      "   --------- ------------------------------ 10.6/44.1 MB 40.9 MB/s eta 0:00:01\n",
      "   ----------- ---------------------------- 12.4/44.1 MB 40.9 MB/s eta 0:00:01\n",
      "   ------------ --------------------------- 14.1/44.1 MB 43.7 MB/s eta 0:00:01\n",
      "   -------------- ------------------------- 15.5/44.1 MB 40.9 MB/s eta 0:00:01\n",
      "   --------------- ------------------------ 17.4/44.1 MB 43.7 MB/s eta 0:00:01\n",
      "   ----------------- ---------------------- 19.0/44.1 MB 40.9 MB/s eta 0:00:01\n",
      "   ------------------- -------------------- 21.4/44.1 MB 43.7 MB/s eta 0:00:01\n",
      "   --------------------- ------------------ 23.4/44.1 MB 46.9 MB/s eta 0:00:01\n",
      "   ----------------------- ---------------- 25.4/44.1 MB 46.7 MB/s eta 0:00:01\n",
      "   ------------------------ --------------- 26.8/44.1 MB 46.9 MB/s eta 0:00:01\n",
      "   ------------------------- -------------- 28.7/44.1 MB 46.9 MB/s eta 0:00:01\n",
      "   --------------------------- ------------ 30.6/44.1 MB 50.1 MB/s eta 0:00:01\n",
      "   ----------------------------- ---------- 33.0/44.1 MB 50.4 MB/s eta 0:00:01\n",
      "   ------------------------------ --------- 33.9/44.1 MB 46.7 MB/s eta 0:00:01\n",
      "   -------------------------------- ------- 35.9/44.1 MB 43.5 MB/s eta 0:00:01\n",
      "   --------------------------------- ------ 37.4/44.1 MB 46.7 MB/s eta 0:00:01\n",
      "   ----------------------------------- ---- 39.4/44.1 MB 43.5 MB/s eta 0:00:01\n",
      "   ------------------------------------- -- 41.3/44.1 MB 46.7 MB/s eta 0:00:01\n",
      "   ---------------------------------------  43.2/44.1 MB 46.7 MB/s eta 0:00:01\n",
      "   ---------------------------------------  43.4/44.1 MB 38.5 MB/s eta 0:00:01\n",
      "   ---------------------------------------  44.1/44.1 MB 40.9 MB/s eta 0:00:01\n",
      "   ---------------------------------------  44.1/44.1 MB 40.9 MB/s eta 0:00:01\n",
      "   ---------------------------------------  44.1/44.1 MB 40.9 MB/s eta 0:00:01\n",
      "   ---------------------------------------  44.1/44.1 MB 40.9 MB/s eta 0:00:01\n",
      "   ---------------------------------------  44.1/44.1 MB 40.9 MB/s eta 0:00:01\n",
      "   ---------------------------------------  44.1/44.1 MB 40.9 MB/s eta 0:00:01\n",
      "   ---------------------------------------  44.1/44.1 MB 40.9 MB/s eta 0:00:01\n",
      "   ---------------------------------------  44.1/44.1 MB 40.9 MB/s eta 0:00:01\n",
      "   ---------------------------------------  44.1/44.1 MB 40.9 MB/s eta 0:00:01\n",
      "   ---------------------------------------  44.1/44.1 MB 40.9 MB/s eta 0:00:01\n",
      "   ---------------------------------------  44.1/44.1 MB 40.9 MB/s eta 0:00:01\n",
      "   ---------------------------------------  44.1/44.1 MB 40.9 MB/s eta 0:00:01\n",
      "   ---------------------------------------  44.1/44.1 MB 40.9 MB/s eta 0:00:01\n",
      "   ---------------------------------------  44.1/44.1 MB 40.9 MB/s eta 0:00:01\n",
      "   ---------------------------------------  44.1/44.1 MB 40.9 MB/s eta 0:00:01\n",
      "   ---------------------------------------  44.1/44.1 MB 40.9 MB/s eta 0:00:01\n",
      "   ---------------------------------------  44.1/44.1 MB 40.9 MB/s eta 0:00:01\n",
      "   ---------------------------------------  44.1/44.1 MB 40.9 MB/s eta 0:00:01\n",
      "   ---------------------------------------  44.1/44.1 MB 40.9 MB/s eta 0:00:01\n",
      "   ---------------------------------------  44.1/44.1 MB 40.9 MB/s eta 0:00:01\n",
      "   ---------------------------------------  44.1/44.1 MB 40.9 MB/s eta 0:00:01\n",
      "   ---------------------------------------  44.1/44.1 MB 40.9 MB/s eta 0:00:01\n",
      "   ---------------------------------------  44.1/44.1 MB 40.9 MB/s eta 0:00:01\n",
      "   ---------------------------------------  44.1/44.1 MB 40.9 MB/s eta 0:00:01\n",
      "   ---------------------------------------  44.1/44.1 MB 40.9 MB/s eta 0:00:01\n",
      "   ---------------------------------------  44.1/44.1 MB 40.9 MB/s eta 0:00:01\n",
      "   ---------------------------------------  44.1/44.1 MB 40.9 MB/s eta 0:00:01\n",
      "   ---------------------------------------  44.1/44.1 MB 40.9 MB/s eta 0:00:01\n",
      "   ---------------------------------------  44.1/44.1 MB 40.9 MB/s eta 0:00:01\n",
      "   ---------------------------------------  44.1/44.1 MB 40.9 MB/s eta 0:00:01\n",
      "   ---------------------------------------  44.1/44.1 MB 40.9 MB/s eta 0:00:01\n",
      "   ---------------------------------------  44.1/44.1 MB 40.9 MB/s eta 0:00:01\n",
      "   ---------------------------------------  44.1/44.1 MB 40.9 MB/s eta 0:00:01\n",
      "   ---------------------------------------  44.1/44.1 MB 40.9 MB/s eta 0:00:01\n",
      "   ---------------------------------------- 44.1/44.1 MB 5.3 MB/s eta 0:00:00\n",
      "Installing collected packages: scipy, gensim\n",
      "Successfully installed gensim-4.3.2 scipy-1.11.3\n"
     ]
    },
    {
     "name": "stderr",
     "output_type": "stream",
     "text": [
      "\n",
      "[notice] A new release of pip is available: 23.2.1 -> 23.3.1\n",
      "[notice] To update, run: python.exe -m pip install --upgrade pip\n"
     ]
    },
    {
     "name": "stdout",
     "output_type": "stream",
     "text": [
      "Collecting plotly\n",
      "  Obtaining dependency information for plotly from https://files.pythonhosted.org/packages/df/79/c80174d711ee26ee5da55a9cc3e248f1ec7a0188b5e4d6bbbbcd09b974b0/plotly-5.17.0-py2.py3-none-any.whl.metadata\n",
      "  Downloading plotly-5.17.0-py2.py3-none-any.whl.metadata (7.0 kB)\n",
      "Collecting tenacity>=6.2.0 (from plotly)\n",
      "  Obtaining dependency information for tenacity>=6.2.0 from https://files.pythonhosted.org/packages/f4/f1/990741d5bb2487d529d20a433210ffa136a367751e454214013b441c4575/tenacity-8.2.3-py3-none-any.whl.metadata\n",
      "  Downloading tenacity-8.2.3-py3-none-any.whl.metadata (1.0 kB)\n",
      "Requirement already satisfied: packaging in c:\\users\\deven\\appdata\\roaming\\python\\python311\\site-packages (from plotly) (23.1)\n",
      "Downloading plotly-5.17.0-py2.py3-none-any.whl (15.6 MB)\n",
      "   ---------------------------------------- 0.0/15.6 MB ? eta -:--:--\n",
      "   ---------------------------------------- 0.0/15.6 MB ? eta -:--:--\n",
      "   ---------------------------------------- 0.0/15.6 MB 435.7 kB/s eta 0:00:36\n",
      "   ---------------------------------------- 0.0/15.6 MB 393.8 kB/s eta 0:00:40\n",
      "   ---------------------------------------- 0.1/15.6 MB 655.4 kB/s eta 0:00:24\n",
      "   ---------------------------------------- 0.2/15.6 MB 984.6 kB/s eta 0:00:16\n",
      "    --------------------------------------- 0.3/15.6 MB 1.3 MB/s eta 0:00:12\n",
      "   - -------------------------------------- 0.4/15.6 MB 1.6 MB/s eta 0:00:10\n",
      "   - -------------------------------------- 0.6/15.6 MB 1.9 MB/s eta 0:00:08\n",
      "   - -------------------------------------- 0.7/15.6 MB 2.1 MB/s eta 0:00:08\n",
      "   -- ------------------------------------- 0.9/15.6 MB 2.3 MB/s eta 0:00:07\n",
      "   --- ------------------------------------ 1.4/15.6 MB 3.3 MB/s eta 0:00:05\n",
      "   ---- ----------------------------------- 1.9/15.6 MB 4.2 MB/s eta 0:00:04\n",
      "   ------- -------------------------------- 2.8/15.6 MB 5.7 MB/s eta 0:00:03\n",
      "   -------- ------------------------------- 3.5/15.6 MB 6.5 MB/s eta 0:00:02\n",
      "   ----------- ---------------------------- 4.4/15.6 MB 7.6 MB/s eta 0:00:02\n",
      "   ------------- -------------------------- 5.3/15.6 MB 8.7 MB/s eta 0:00:02\n",
      "   --------------- ------------------------ 6.2/15.6 MB 9.4 MB/s eta 0:00:02\n",
      "   ------------------ --------------------- 7.1/15.6 MB 10.1 MB/s eta 0:00:01\n",
      "   -------------------- ------------------- 7.9/15.6 MB 10.8 MB/s eta 0:00:01\n",
      "   ---------------------- ----------------- 8.9/15.6 MB 11.6 MB/s eta 0:00:01\n",
      "   ------------------------- -------------- 9.9/15.6 MB 12.2 MB/s eta 0:00:01\n",
      "   ---------------------------- ----------- 11.0/15.6 MB 19.8 MB/s eta 0:00:01\n",
      "   ------------------------------ --------- 12.1/15.6 MB 23.4 MB/s eta 0:00:01\n",
      "   --------------------------------- ------ 13.0/15.6 MB 23.4 MB/s eta 0:00:01\n",
      "   ------------------------------------ --- 14.1/15.6 MB 24.2 MB/s eta 0:00:01\n",
      "   ---------------------------------------  15.4/15.6 MB 25.2 MB/s eta 0:00:01\n",
      "   ---------------------------------------  15.6/15.6 MB 25.2 MB/s eta 0:00:01\n",
      "   ---------------------------------------  15.6/15.6 MB 25.2 MB/s eta 0:00:01\n",
      "   ---------------------------------------  15.6/15.6 MB 25.2 MB/s eta 0:00:01\n",
      "   ---------------------------------------  15.6/15.6 MB 25.2 MB/s eta 0:00:01\n",
      "   ---------------------------------------  15.6/15.6 MB 25.2 MB/s eta 0:00:01\n",
      "   ---------------------------------------  15.6/15.6 MB 25.2 MB/s eta 0:00:01\n",
      "   ---------------------------------------  15.6/15.6 MB 25.2 MB/s eta 0:00:01\n",
      "   ---------------------------------------  15.6/15.6 MB 25.2 MB/s eta 0:00:01\n",
      "   ---------------------------------------- 15.6/15.6 MB 13.3 MB/s eta 0:00:00\n",
      "Downloading tenacity-8.2.3-py3-none-any.whl (24 kB)\n",
      "Installing collected packages: tenacity, plotly\n",
      "Successfully installed plotly-5.17.0 tenacity-8.2.3\n"
     ]
    },
    {
     "name": "stderr",
     "output_type": "stream",
     "text": [
      "\n",
      "[notice] A new release of pip is available: 23.2.1 -> 23.3.1\n",
      "[notice] To update, run: python.exe -m pip install --upgrade pip\n"
     ]
    },
    {
     "name": "stdout",
     "output_type": "stream",
     "text": [
      "Collecting sklearn\n",
      "  Downloading sklearn-0.0.post10.tar.gz (3.6 kB)\n",
      "  Installing build dependencies: started\n",
      "  Installing build dependencies: finished with status 'done'\n",
      "  Getting requirements to build wheel: started\n",
      "  Getting requirements to build wheel: finished with status 'done'\n",
      "  Preparing metadata (pyproject.toml): started\n",
      "  Preparing metadata (pyproject.toml): finished with status 'done'\n",
      "Building wheels for collected packages: sklearn\n",
      "  Building wheel for sklearn (pyproject.toml): started\n",
      "  Building wheel for sklearn (pyproject.toml): finished with status 'done'\n",
      "  Created wheel for sklearn: filename=sklearn-0.0.post10-py3-none-any.whl size=2981 sha256=5971c6ff787b16586163f9d9c89f11931930f89fb3c0ee85fc680207b715b5c7\n",
      "  Stored in directory: c:\\users\\deven\\appdata\\local\\pip\\cache\\wheels\\40\\ff\\aa\\d5ea39ea054381b6eccc737df85530f8637e17f02517284f3f\n",
      "Successfully built sklearn\n",
      "Installing collected packages: sklearn\n",
      "Successfully installed sklearn-0.0.post10\n"
     ]
    },
    {
     "name": "stderr",
     "output_type": "stream",
     "text": [
      "\n",
      "[notice] A new release of pip is available: 23.2.1 -> 23.3.1\n",
      "[notice] To update, run: python.exe -m pip install --upgrade pip\n"
     ]
    },
    {
     "name": "stdout",
     "output_type": "stream",
     "text": [
      "Collecting matplotlib\n",
      "  Obtaining dependency information for matplotlib from https://files.pythonhosted.org/packages/40/d9/c1784db9db0d484c8e5deeafbaac0d6ed66e165c6eb4a74fb43a5fa947d9/matplotlib-3.8.0-cp311-cp311-win_amd64.whl.metadata\n",
      "  Downloading matplotlib-3.8.0-cp311-cp311-win_amd64.whl.metadata (5.9 kB)\n",
      "Collecting contourpy>=1.0.1 (from matplotlib)\n",
      "  Obtaining dependency information for contourpy>=1.0.1 from https://files.pythonhosted.org/packages/e5/76/94bc17eb868f8c7397f8fdfdeae7661c1b9a35f3a7219da308596e8c252a/contourpy-1.1.1-cp311-cp311-win_amd64.whl.metadata\n",
      "  Downloading contourpy-1.1.1-cp311-cp311-win_amd64.whl.metadata (5.9 kB)\n",
      "Collecting cycler>=0.10 (from matplotlib)\n",
      "  Obtaining dependency information for cycler>=0.10 from https://files.pythonhosted.org/packages/e7/05/c19819d5e3d95294a6f5947fb9b9629efb316b96de511b418c53d245aae6/cycler-0.12.1-py3-none-any.whl.metadata\n",
      "  Downloading cycler-0.12.1-py3-none-any.whl.metadata (3.8 kB)\n",
      "Collecting fonttools>=4.22.0 (from matplotlib)\n",
      "  Obtaining dependency information for fonttools>=4.22.0 from https://files.pythonhosted.org/packages/ae/f6/724d2d236797ea7479a5a7ec8e69c2bee60cad70273cf25078810415ae2d/fonttools-4.43.1-cp311-cp311-win_amd64.whl.metadata\n",
      "  Downloading fonttools-4.43.1-cp311-cp311-win_amd64.whl.metadata (155 kB)\n",
      "     ---------------------------------------- 0.0/155.5 kB ? eta -:--:--\n",
      "     -- ------------------------------------- 10.2/155.5 kB ? eta -:--:--\n",
      "     ------- ----------------------------- 30.7/155.5 kB 435.7 kB/s eta 0:00:01\n",
      "     --------- --------------------------- 41.0/155.5 kB 393.8 kB/s eta 0:00:01\n",
      "     --------------------- --------------- 92.2/155.5 kB 655.4 kB/s eta 0:00:01\n",
      "     ------------------------------------ 155.5/155.5 kB 844.7 kB/s eta 0:00:00\n",
      "Collecting kiwisolver>=1.0.1 (from matplotlib)\n",
      "  Obtaining dependency information for kiwisolver>=1.0.1 from https://files.pythonhosted.org/packages/1e/37/d3c2d4ba2719059a0f12730947bbe1ad5ee8bff89e8c35319dcb2c9ddb4c/kiwisolver-1.4.5-cp311-cp311-win_amd64.whl.metadata\n",
      "  Downloading kiwisolver-1.4.5-cp311-cp311-win_amd64.whl.metadata (6.5 kB)\n",
      "Requirement already satisfied: numpy<2,>=1.21 in c:\\users\\deven\\appdata\\local\\programs\\python\\python311\\lib\\site-packages (from matplotlib) (1.26.1)\n",
      "Requirement already satisfied: packaging>=20.0 in c:\\users\\deven\\appdata\\roaming\\python\\python311\\site-packages (from matplotlib) (23.1)\n",
      "Requirement already satisfied: pillow>=6.2.0 in c:\\users\\deven\\appdata\\local\\programs\\python\\python311\\lib\\site-packages (from matplotlib) (10.1.0)\n",
      "Collecting pyparsing>=2.3.1 (from matplotlib)\n",
      "  Obtaining dependency information for pyparsing>=2.3.1 from https://files.pythonhosted.org/packages/39/92/8486ede85fcc088f1b3dba4ce92dd29d126fd96b0008ea213167940a2475/pyparsing-3.1.1-py3-none-any.whl.metadata\n",
      "  Downloading pyparsing-3.1.1-py3-none-any.whl.metadata (5.1 kB)\n",
      "Requirement already satisfied: python-dateutil>=2.7 in c:\\users\\deven\\appdata\\roaming\\python\\python311\\site-packages (from matplotlib) (2.8.2)\n",
      "Requirement already satisfied: six>=1.5 in c:\\users\\deven\\appdata\\roaming\\python\\python311\\site-packages (from python-dateutil>=2.7->matplotlib) (1.16.0)\n",
      "Downloading matplotlib-3.8.0-cp311-cp311-win_amd64.whl (7.6 MB)\n",
      "   ---------------------------------------- 0.0/7.6 MB ? eta -:--:--\n",
      "    --------------------------------------- 0.2/7.6 MB 4.6 MB/s eta 0:00:02\n",
      "   - -------------------------------------- 0.2/7.6 MB 2.8 MB/s eta 0:00:03\n",
      "   -- ------------------------------------- 0.4/7.6 MB 3.7 MB/s eta 0:00:02\n",
      "   -- ------------------------------------- 0.5/7.6 MB 2.9 MB/s eta 0:00:03\n",
      "   --- ------------------------------------ 0.6/7.6 MB 3.2 MB/s eta 0:00:03\n",
      "   ----- ---------------------------------- 1.0/7.6 MB 4.2 MB/s eta 0:00:02\n",
      "   ----- ---------------------------------- 1.0/7.6 MB 4.2 MB/s eta 0:00:02\n",
      "   ----- ---------------------------------- 1.0/7.6 MB 4.2 MB/s eta 0:00:02\n",
      "   ----- ---------------------------------- 1.0/7.6 MB 3.0 MB/s eta 0:00:03\n",
      "   ----- ---------------------------------- 1.1/7.6 MB 2.6 MB/s eta 0:00:03\n",
      "   --------- ------------------------------ 1.8/7.6 MB 4.0 MB/s eta 0:00:02\n",
      "   ----------- ---------------------------- 2.1/7.6 MB 4.5 MB/s eta 0:00:02\n",
      "   -------------- ------------------------- 2.8/7.6 MB 5.2 MB/s eta 0:00:01\n",
      "   ---------------------- ----------------- 4.3/7.6 MB 7.7 MB/s eta 0:00:01\n",
      "   ----------------------------- ---------- 5.7/7.6 MB 9.3 MB/s eta 0:00:01\n",
      "   ---------------------------------------  7.5/7.6 MB 11.4 MB/s eta 0:00:01\n",
      "   ---------------------------------------- 7.6/7.6 MB 11.1 MB/s eta 0:00:00\n",
      "Downloading contourpy-1.1.1-cp311-cp311-win_amd64.whl (480 kB)\n",
      "   ---------------------------------------- 0.0/480.5 kB ? eta -:--:--\n",
      "   --------------------------------------- 480.5/480.5 kB 29.4 MB/s eta 0:00:00\n",
      "Downloading cycler-0.12.1-py3-none-any.whl (8.3 kB)\n",
      "Downloading fonttools-4.43.1-cp311-cp311-win_amd64.whl (2.1 MB)\n",
      "   ---------------------------------------- 0.0/2.1 MB ? eta -:--:--\n",
      "   ------------------------------------- -- 2.0/2.1 MB 64.4 MB/s eta 0:00:01\n",
      "   ---------------------------------------- 2.1/2.1 MB 45.4 MB/s eta 0:00:00\n",
      "Downloading kiwisolver-1.4.5-cp311-cp311-win_amd64.whl (56 kB)\n",
      "   ---------------------------------------- 0.0/56.1 kB ? eta -:--:--\n",
      "   ---------------------------------------- 56.1/56.1 kB 3.1 MB/s eta 0:00:00\n",
      "Downloading pyparsing-3.1.1-py3-none-any.whl (103 kB)\n",
      "   ---------------------------------------- 0.0/103.1 kB ? eta -:--:--\n",
      "   ---------------------------------------- 103.1/103.1 kB ? eta 0:00:00\n",
      "Installing collected packages: pyparsing, kiwisolver, fonttools, cycler, contourpy, matplotlib\n",
      "Successfully installed contourpy-1.1.1 cycler-0.12.1 fonttools-4.43.1 kiwisolver-1.4.5 matplotlib-3.8.0 pyparsing-3.1.1\n"
     ]
    },
    {
     "name": "stderr",
     "output_type": "stream",
     "text": [
      "\n",
      "[notice] A new release of pip is available: 23.2.1 -> 23.3.1\n",
      "[notice] To update, run: python.exe -m pip install --upgrade pip\n"
     ]
    }
   ],
   "source": [
    "#dataframe and sentiment analysis\n",
    "!pip install pandas\n",
    "!pip install spacy\n",
    "!pip install spacytextblob\n",
    "!python -m spacy download en_core_web_sm\n",
    "\n",
    "#webscraping\n",
    "!pip install newspaper3k\n",
    "\n",
    "#topic modeling \n",
    "!pip install gensim\n",
    "\n",
    "#data vis\n",
    "!pip install plotly\n",
    "!pip install sklearn\n",
    "!pip install matplotlib"
   ]
  },
  {
   "cell_type": "markdown",
   "id": "c92a2232",
   "metadata": {},
   "source": [
    "Spacy: Used for NLP and has the machine learning module\n",
    "    \n",
    "SpacyTextBlob: Used for the sentiment analysis\n",
    "    \n",
    "Pandas: Stores the data as a dataframe table\n",
    "    \n",
    "NewsPaper: Used for web scraping\n",
    "\n",
    "Gensim: Used for topic modeling\n",
    "    \n",
    "Requests: Makes the connection to the URL\n",
    "\n",
    "Plotly: Used for data visualization\n",
    "\n",
    "Matplotlib: Used for clustering and data visualization\n",
    "\n",
    "Sklearn: Used for clustering and data visualization"
   ]
  },
  {
   "cell_type": "markdown",
   "id": "e1471074",
   "metadata": {},
   "source": [
    "## Start Here: Library Imports"
   ]
  },
  {
   "cell_type": "code",
   "execution_count": 1,
   "id": "97171282",
   "metadata": {},
   "outputs": [
    {
     "name": "stderr",
     "output_type": "stream",
     "text": [
      "c:\\Users\\biehl\\AppData\\Local\\Programs\\Python\\Python310\\lib\\site-packages\\tqdm\\auto.py:21: TqdmWarning: IProgress not found. Please update jupyter and ipywidgets. See https://ipywidgets.readthedocs.io/en/stable/user_install.html\n",
      "  from .autonotebook import tqdm as notebook_tqdm\n"
     ]
    }
   ],
   "source": [
    "#newspaper3k web scraping\n",
    "from newspaper import Article\n",
    "\n",
    "from random import shuffle\n",
    "import re\n",
    "import requests\n",
    "\n",
    "from collections import Counter\n",
    "\n",
    "#pandas dataframe\n",
    "import pandas as pd\n",
    "\n",
    "import numpy as np\n",
    "import json\n",
    "import requests\n",
    "import glob\n",
    "\n",
    "#gensim\n",
    "import gensim\n",
    "import gensim.corpora as corpora\n",
    "from gensim.models.coherencemodel import CoherenceModel\n",
    "from gensim.utils import simple_preprocess\n",
    "from gensim.corpora import Dictionary  # Import the Dictionary class from Gensim\n",
    "\n",
    "#spacy\n",
    "import spacy\n",
    "from nltk.corpus import stopwords\n",
    "from spacytextblob.spacytextblob import SpacyTextBlob\n",
    "\n",
    "#vis\n",
    "import pyLDAvis\n",
    "import pyLDAvis.gensim\n",
    "import plotly.express as px\n",
    "import matplotlib.colors as mcolors\n",
    "import matplotlib.pyplot as plt \n",
    "import sklearn\n",
    "from sklearn.manifold import TSNE\n",
    "\n",
    "#K-Means Clustering\n",
    "from sklearn.feature_extraction.text import TfidfVectorizer\n",
    "from sklearn.cluster import KMeans\n",
    "from sklearn.cluster import MiniBatchKMeans\n",
    "import matplotlib.pyplot as plt\n",
    "\n",
    "#Principled Component Analysis\n",
    "from sklearn.decomposition import PCA\n",
    "\n",
    "import warnings\n",
    "warnings.filterwarnings(\"ignore\", category=DeprecationWarning)"
   ]
  },
  {
   "cell_type": "markdown",
   "id": "8b38b484",
   "metadata": {},
   "source": [
    "IMPORTANT: Run all helper files. The function logic is stored here, and sorted by the part of the pipeline they support."
   ]
  },
  {
   "cell_type": "code",
   "execution_count": 16,
   "id": "89933f69",
   "metadata": {},
   "outputs": [],
   "source": [
    "%run SentimentAnalysis.ipynb\n",
    "%run WebScraper.ipynb\n",
    "%run PipelineHelpers.ipynb\n",
    "%run TopicModeling.ipynb\n",
    "%run DataVisualization.ipynb"
   ]
  },
  {
   "cell_type": "markdown",
   "id": "c767401a",
   "metadata": {},
   "source": [
    "# General Pipeline Settings, and Pre-Analysis Setup"
   ]
  },
  {
   "cell_type": "markdown",
   "id": "67afdeff",
   "metadata": {},
   "source": [
    "Below are the customizable settings for all of the analysis and processing parts of the pipeline.\n",
    "\n",
    "Rerun this any time you make changes to these settings, as they will affect the outcome of certain pipeline steps."
   ]
  },
  {
   "cell_type": "markdown",
   "id": "b787c3f5",
   "metadata": {},
   "source": [
    "IMPORTANT: The csvFile object should be set to a properly setup csv file of article URLs that you copy-paste into the same directory as the pipeline files (we use the relative path to access the file). The csvFile format is explained in the user manual, but simply it needs one column with the first entry being \"Address\" and the other entries all being article URLs."
   ]
  },
  {
   "cell_type": "code",
   "execution_count": 3,
   "id": "4e23034f",
   "metadata": {},
   "outputs": [],
   "source": [
    "###\n",
    "### BELOW IS OUR CUSTOMIZABLE SETTINGS \n",
    "###\n",
    "\n",
    "#THIS IS THE CSV FILE THAT WE READ IN\n",
    "#This csv file should contain a single column of article urls, with the first entry being \"Address\"\n",
    "csvFile = \"Pelosi_Attack_Websites_3000.csv\"\n",
    "\n",
    "\n",
    "#WEBSCRAPING SETTINGS\n",
    "#THIS IS THE MINIMUM WORDS THAT WE ALLOW FOR AN ARTICLE (to prevent certain blocked articles or bad data)\n",
    "word_count_filter = 150\n",
    "\n",
    "#this is the minimum amount of repeated phrases in a text that we will throw an error for\n",
    "repeated_phrase_filter = 25\n",
    "\n",
    "#this is the list of all social media URLs that we BLOCK (anything in this list WILL NOT be scraped)\n",
    "social_starts_with = [\"https://www.youtube.com\", \"https://youtu.be\", \"https://www.facebook.com\",\n",
    "                          \"https://twitter.com\", \"https://gettr.com/\"]\n",
    "\n",
    "#When webscraping, will only grab the first url_max URLs (set to -1 to turn off)\n",
    "url_max = 300\n",
    "\n",
    "#TOPIC MODELING SETTINGS\n",
    "#this will set how our topic modeling is generated: limit to the # of topics, # of topics we start at, how many we increment by every step\n",
    "topic_model_dict = {\"topic_limit\": 11, \"topic_start\": 5, \"topic_step\": 5}\n",
    "\n",
    "\n",
    "###\n",
    "### END OF CUSTOMIZABLE SETTINGS\n",
    "###"
   ]
  },
  {
   "cell_type": "markdown",
   "id": "a9fabe01",
   "metadata": {},
   "source": [
    "# MAIN PIPELINE START"
   ]
  },
  {
   "cell_type": "markdown",
   "id": "ac52c758",
   "metadata": {},
   "source": [
    "## Sentiment Analysis Pipeline"
   ]
  },
  {
   "cell_type": "markdown",
   "id": "65f184f9",
   "metadata": {},
   "source": [
    "Below is the start of our pipeline.\n",
    "\n",
    "Here we create our nlp object and add the pipe to it for sentiment analysis. We then read in our .csv file and convert it to a dataframe to pass in to our sentiment analysis function, and gathers the list of all URLs.\n",
    "\n",
    "Our main_pipeline_sentiment_analysis() function takes in the list of urls, web scrapes their text, and performs sentiment analysis on them, creating a dataframe of all properly scraped articles and their associated sentiment analysis data.\n",
    "\n",
    "df is the main dataframe object we store our data in."
   ]
  },
  {
   "cell_type": "code",
   "execution_count": 4,
   "id": "7ae169b7",
   "metadata": {
    "scrolled": true
   },
   "outputs": [
    {
     "name": "stdout",
     "output_type": "stream",
     "text": [
      "0  Articles Completed\n",
      "Webscraping failed: Social Media\n",
      "https://twitter.com/rparloff/status/1587513628344958982\n",
      "\n",
      "\n",
      "Webscraping failed: Social Media\n",
      "https://twitter.com/smb_democracy/status/1587493254148268033\n",
      "\n",
      "\n",
      "Webscraping failed: Social Media\n",
      "https://twitter.com/JackPosobiec/status/1592652426930434048\n",
      "\n",
      "\n",
      "Webscraping Error: Couldn't Parse\n",
      "https://worldnewsguru.us/world-news/top-democrat-demands-answers-from-police-after-pelosi-attack/490364/\n",
      "\n",
      "\n",
      "Webscraping failed: Word Count or Repeated Phrase\n",
      "https://www.nytimes.com/interactive/2022/11/05/us/politics/pelosi-attack-misinfo-republican-politicians.html?unlocked_article_code=AAAAAAAAAAAAAAAACEIPuonUyYiZ_tU1Gw5CRWySB4B99Frf3L-XnfshnTjmKyyUVTdJ1KMNDoyH4EaIbLZ_btAwmjGaX95HPrhqXvFq0-VbPkdkTUywpZ-FhJUOIiwzssSzQmYyldrrbIwPzAXLPCO_Ofstg_q-uQ6LKjG7HfybhWtwIFpjqJoyJ0Wr3yNf2quTFrNq0td7jeN3UZFwQTcHMymJ6vH4Gl4pboX9GxLb4gE9U-5eWyiC3oLPruJdL3gBTA7OX3h94m0j6NtDOdxxPKv3KxYoe8uWkqxGQyUzb9_vX8ttMtCSw7Z6srfNqgiPyN62xpg1EaZTvLDEugWqJcZM-nn_LQDp_7_4cG89618\n",
      "Word count:  2079\n",
      "Repeated phrases:  43\n",
      "\n",
      "\n",
      "Webscraping failed: Word Count or Repeated Phrase\n",
      "https://rtimes.rohitchouhan.com/bPcro\n",
      "Word count:  34\n",
      "Repeated phrases:  1\n",
      "\n",
      "\n",
      "Webscraping Error: Couldn't Parse\n",
      "http://dlvr.it/Sfj1BL\n",
      "\n",
      "\n",
      "10  Articles Completed\n",
      "Webscraping Error: Couldn't Parse\n",
      "http://dlvr.it/ScmFKj\n",
      "\n",
      "\n",
      "Webscraping failed: Word Count or Repeated Phrase\n",
      "https://www.msn.com/en-gb/news/world/republicans-urged-to-purge-extremists-after-attack-on-house-speaker-s-husband-live/ar-AA13C4Gh?ocid=msedgntp&cvid=aff58bcf905d453693a542ab049d9b43\n",
      "Word count:  1\n",
      "Repeated phrases:  0\n",
      "\n",
      "\n",
      "Webscraping failed: Word Count or Repeated Phrase\n",
      "https://grabien.com/story.php?id=400127\n",
      "Word count:  40\n",
      "Repeated phrases:  1\n",
      "\n",
      "\n",
      "Webscraping Error: Couldn't Parse\n",
      "https://www.scribd.com/document_downloads/direct/582684364?extension=pdf&ft=1671552213&lt=1671555823&show_pdf=true&user_id=646359241&uahk=YYCSXkjKpwmD-LERy5xZtIgg3NU\n",
      "\n",
      "\n",
      "Webscraping failed: Social Media\n",
      "https://twitter.com/__team_usa/status/1595249823996940291\n",
      "\n",
      "\n",
      "Webscraping failed: Social Media\n",
      "https://twitter.com/amanpour/status/1603090784605052931\n",
      "\n",
      "\n",
      "20  Articles Completed\n",
      "Webscraping failed: Word Count or Repeated Phrase\n",
      "https://ift.tt/pbAfiwC\n",
      "Word count:  26\n",
      "Repeated phrases:  1\n",
      "\n",
      "\n",
      "Webscraping failed: Social Media\n",
      "https://twitter.com/stephen_barrett/status/1589976286734454784\n",
      "\n",
      "\n",
      "Webscraping failed: Word Count or Repeated Phrase\n",
      "https://www.msn.com/en-us/news/politics/far-right-j6-rioter-who-attacked-pelosi-s-office-surprised-as-judge-sends-her-directly-to-jail-report/ar-AA14o8yf?ocid=msedgdhp&pc=U531&cvid=9e3927f5ff76462e9e608b7b5e1f46a1\n",
      "Word count:  1\n",
      "Repeated phrases:  0\n",
      "\n",
      "\n",
      "Webscraping failed: Social Media\n",
      "https://twitter.com/JennaEllisEsq/status/1596653457968357376\n",
      "\n",
      "\n",
      "Webscraping failed: Social Media\n",
      "https://twitter.com/BlackKnight10k/status/1605367613873586177\n",
      "\n",
      "\n",
      "Webscraping Error: Couldn't Parse\n",
      "https://www.newsweek.com/nancy-pelosi-us-needs-strong-republican-party-not-cult-1705081\n",
      "\n",
      "\n",
      "30  Articles Completed\n",
      "Webscraping failed: Social Media\n",
      "https://twitter.com/UponMySleeve/status/1588557574055800833\n",
      "\n",
      "\n",
      "Webscraping failed: Word Count or Repeated Phrase\n",
      "https://fb.watch/hxu95M7hXg/?mibextid=j8LeHn\n",
      "Word count:  1\n",
      "Repeated phrases:  0\n",
      "\n",
      "\n",
      "Webscraping failed: Social Media\n",
      "https://twitter.com/NancyMAGAmonkey/status/1586430976866992128\n",
      "\n",
      "\n",
      "Webscraping failed: Social Media\n",
      "https://twitter.com/RepDonaldsPress/status/1604977757389312007\n",
      "\n",
      "\n",
      "Webscraping failed: Social Media\n",
      "https://twitter.com/DeTocqueville14/status/1587288160861552641\n",
      "\n",
      "\n",
      "Webscraping failed: Social Media\n",
      "https://twitter.com/QwhereRU52/status/1607773366676602880\n",
      "\n",
      "\n",
      "Webscraping failed: Social Media\n",
      "https://youtu.be/XRhB2m4qBhI\n",
      "\n",
      "\n",
      "Webscraping failed: Word Count or Repeated Phrase\n",
      "https://trib.al/o0xPps8\n",
      "Word count:  1\n",
      "Repeated phrases:  0\n",
      "\n",
      "\n",
      "40  Articles Completed\n",
      "Webscraping Error: Couldn't Parse\n",
      "https://topinfocity.com/im-so-sick-and-tired-of-this-shit-joe-scarborough-freaks-out-with-republicans-for-mocking-paul-pelosi-attack-and-says-theres-a-disease-in-the-gop/\n",
      "\n",
      "\n",
      "Webscraping failed: Social Media\n",
      "https://twitter.com/Wu1f_603/status/1605558908151427072\n",
      "\n",
      "\n",
      "Webscraping Error: Couldn't Parse\n",
      "https://www.macon.com/news/politics-government/national-politics/article268412682.html\n",
      "\n",
      "\n",
      "Webscraping Error: Couldn't Parse\n",
      "https://www.alaskagreenlight.com/paul-pelosi-discharged-from-hospital/\n",
      "\n",
      "\n",
      "Webscraping failed: Social Media\n",
      "https://twitter.com/HeinzRudolf155/status/1604097115088556032\n",
      "\n",
      "\n",
      "Webscraping failed: Social Media\n",
      "https://twitter.com/ungerbn103/status/1588217549568839687\n",
      "\n",
      "\n",
      "Webscraping failed: Social Media\n",
      "https://twitter.com/captain_toke/status/1605040985351675904\n",
      "\n",
      "\n",
      "Webscraping failed: Social Media\n",
      "https://gettr.com/post/p2332pv3fa1\n",
      "\n",
      "\n",
      "Webscraping failed: Word Count or Repeated Phrase\n",
      "https://www.smdailyjournal.com/news/local/paul-pelosi-attack-suspect-enters-not-guilty-plea/article_1f4ead3a-86f3-11ed-84af-2783a5dddeaa.html?utm_campaign=blox&utm_source=twitter&utm_medium=social\n",
      "Word count:  38\n",
      "Repeated phrases:  2\n",
      "\n",
      "\n",
      "50  Articles Completed\n",
      "Webscraping failed: Word Count or Repeated Phrase\n",
      "https://l.smartnews.com/7Vz6M/puOCU4\n",
      "Word count:  1\n",
      "Repeated phrases:  0\n",
      "\n",
      "\n",
      "Webscraping failed: Social Media\n",
      "https://twitter.com/ScottPresler/status/1600878756083945472\n",
      "\n",
      "\n",
      "Webscraping failed: Social Media\n",
      "https://twitter.com/AddisonSmithOAN/status/1605662646685945856?s=20&t=ad_8yYCo8nvepX8_l0glBA\n",
      "\n",
      "\n",
      "Webscraping failed: Social Media\n",
      "https://twitter.com/thehill/status/1608985311257796608\n",
      "\n",
      "\n",
      "Webscraping failed: Social Media\n",
      "https://twitter.com/NeckTooRed/status/1588535741180964864\n",
      "\n",
      "\n",
      "Webscraping Error: Couldn't Parse\n",
      "http://teleuniversotv.com/nancy-pelosi-anuncia-su-renuncia-a-la-camara-de-representantes/\n",
      "\n",
      "\n",
      "60  Articles Completed\n",
      "Webscraping Error: Couldn't Parse\n",
      "https://fr.majalla.com/node/272001/actualit%C3%A9s%C3%A9tats-unis-la-fin-de-l%E2%80%99%C3%A8re-pelosi\n",
      "\n",
      "\n",
      "Webscraping failed: Social Media\n",
      "https://twitter.com/Tela601/status/1587159490138411012\n",
      "\n",
      "\n",
      "Webscraping failed: Word Count or Repeated Phrase\n",
      "https://www.post-gazette.com/news/crime-courts/2022/11/03/Immigration-officials-say-Pelosi-attacker-was-in-US-illegally/stories/202211030098?utm_term=Autofeed&utm_medium=Social&utm_source=Twitter#Echobox=1667496981\n",
      "Word count:  1\n",
      "Repeated phrases:  0\n",
      "\n",
      "\n"
     ]
    },
    {
     "name": "stderr",
     "output_type": "stream",
     "text": [
      "c:\\Users\\biehl\\AppData\\Local\\Programs\\Python\\Python310\\lib\\site-packages\\dateutil\\parser\\_parser.py:1207: UnknownTimezoneWarning: tzname EDT identified but not understood.  Pass `tzinfos` argument in order to correctly return a timezone-aware datetime.  In a future version, this will raise an exception.\n",
      "  warnings.warn(\"tzname {tzname} identified but not understood.  \"\n"
     ]
    },
    {
     "name": "stdout",
     "output_type": "stream",
     "text": [
      "Webscraping Error: Couldn't Parse\n",
      "https://www.newsweek.com/spanberger-says-pelosi-undercut-bill-banning-congress-stock-trading-1751391?utm_medium=Social&utm_source=Twitter#Echobox=1665650212\n",
      "\n",
      "\n",
      "Webscraping failed: Word Count or Repeated Phrase\n",
      "https://meigsbarrett.com/nancy-pelosi-left-stage-after-reporter-confronts-her/\n",
      "Word count:  1\n",
      "Repeated phrases:  0\n",
      "\n",
      "\n",
      "Webscraping failed: Social Media\n",
      "https://twitter.com/suzannemonyak/status/1603437507978625024\n",
      "\n",
      "\n",
      "70  Articles Completed\n",
      "Webscraping Error: Couldn't Parse\n",
      "https://www.rawstory.com/trump-truth-national-guard-jan6/\n",
      "\n",
      "\n",
      "Webscraping failed: Word Count or Repeated Phrase\n",
      "https://open.spotify.com/episode/2qp7jognhvhFtgOK4k0z5d\n",
      "Word count:  17\n",
      "Repeated phrases:  1\n",
      "\n",
      "\n",
      "Webscraping Error: Couldn't Parse\n",
      "https://www.axios.com/2022/10/23/nancy-pelosi-donald-trump-subpoena-jan-6\n",
      "\n",
      "\n",
      "Webscraping failed: Social Media\n",
      "https://twitter.com/Fritschner/status/1570844104480915458\n",
      "\n",
      "\n",
      "Webscraping Error: Couldn't Parse\n",
      "https://r.transparenttrainingbra.com/nancy-pelosi-will-stay-in-congress-speakership-in-question/\n",
      "\n",
      "\n",
      "Webscraping failed: Social Media\n",
      "https://twitter.com/twitter/statuses/1605703381137620993\n",
      "\n",
      "\n",
      "80  Articles Completed\n",
      "Webscraping Error: Couldn't Parse\n",
      "https://thehill.com/homenews/house/3793799-pelosi-announces-maximum-salary-for-house-staff-being-raised-to-212000\n",
      "\n",
      "\n",
      "Webscraping failed: Social Media\n",
      "https://twitter.com/ShresthaAlishna/status/1605007478273769472\n",
      "\n",
      "\n",
      "Webscraping Error: Couldn't Parse\n",
      "https://newsatw.com/nancy-pelosi-to-stand-down-as-us-house-democrat-leader/\n",
      "\n",
      "\n",
      "Webscraping failed: Social Media\n",
      "https://twitter.com/6News/status/1593297210954829830\n",
      "\n",
      "\n",
      "Webscraping Error: Couldn't Parse\n",
      "https://usasharenews.com/californias-nancy-pelosi-says-she-will-not-step-away-from-congress/\n",
      "\n",
      "\n",
      "Webscraping failed: Word Count or Repeated Phrase\n",
      "https://truevoice.site/former-president-donald-trump-halted-pelosi-in-her-tracks/\n",
      "Word count:  1\n",
      "Repeated phrases:  0\n",
      "\n",
      "\n",
      "90  Articles Completed\n",
      "Webscraping failed: Word Count or Repeated Phrase\n",
      "https://l.smartnews.com/Vazg5/Wp4cMj\n",
      "Word count:  16\n",
      "Repeated phrases:  1\n",
      "\n",
      "\n",
      "Webscraping failed: Social Media\n",
      "https://twitter.com/PeterSweden7/status/1593361688660770823\n",
      "\n",
      "\n",
      "Webscraping failed: Social Media\n",
      "https://twitter.com/i/broadcasts/1LyxBqYvVWLJN\n",
      "\n",
      "\n",
      "Webscraping failed: Word Count or Repeated Phrase\n",
      "https://www.tf1info.fr/international/etats-unis-j-ai-eu-tres-peur-raconte-nancy-pelosi-apres-l-agression-de-son-mari-paul-2237963.html?utm_medium=Social&utm_source=Twitter&Echobox=1667900284#xtor=CS5-113\n",
      "Word count:  144\n",
      "Repeated phrases:  1\n",
      "\n",
      "\n",
      "Webscraping failed: Word Count or Repeated Phrase\n",
      "https://stateofthenation.co/?p=142037\n",
      "Word count:  35\n",
      "Repeated phrases:  1\n",
      "\n",
      "\n",
      "Webscraping failed: Social Media\n",
      "https://twitter.com/simi28_/status/1606305300608434176\n",
      "\n",
      "\n",
      "100  Articles Completed\n",
      "Webscraping failed: Word Count or Repeated Phrase\n",
      "https://www.dailykos.com/campaigns/petitions/sign-the-petition-attack-on-pelosi-home-was-an-assassination-attempt-fueled-by-gop-rhetoric?detail=emailaction&link_id=1&can_id=0fae09c5149a1fd4207d1a74c3fdc092&source=email-sign-the-petition-the-attack-on-the-pelosi-home-was-an-assassination-attempt-fueled-by-gop-rhetoric-2&email_referrer=email_1725319&email_subject=repeat-the-truth-attack-on-pelosis-home-was-a-right-wing-assassination-attempt\n",
      "Word count:  1\n",
      "Repeated phrases:  0\n",
      "\n",
      "\n",
      "Webscraping failed: Social Media\n",
      "https://twitter.com/kdollsweety/status/1593009736668307456\n",
      "\n",
      "\n",
      "Webscraping failed: Social Media\n",
      "https://twitter.com/nicholaswu12/status/1589788646491975681\n",
      "\n",
      "\n",
      "Webscraping failed: Word Count or Repeated Phrase\n",
      "https://www.nbcnews.com/video/video-shows-rioters-in-nancy-pelosi-s-office-on-jan-6-153928773721\n",
      "Word count:  35\n",
      "Repeated phrases:  1\n",
      "\n",
      "\n",
      "Webscraping Error: Couldn't Parse\n",
      "http://crweworld.com/usa/trendingnow/news/2545481/pelosi-attack-highlights-dangers-of-online-violence-against-women\n",
      "\n",
      "\n",
      "Webscraping failed: Social Media\n",
      "https://twitter.com/therecount/status/1587182585557684225?t=QFGoL_FcOBykG5RF83z-yA&s=19\n",
      "\n",
      "\n",
      "110  Articles Completed\n",
      "Webscraping failed: Word Count or Repeated Phrase\n",
      "http://J6Truth.org\n",
      "Word count:  17\n",
      "Repeated phrases:  1\n",
      "\n",
      "\n",
      "Webscraping failed: Word Count or Repeated Phrase\n",
      "https://shar.es/af4Tjy/Gay\n",
      "Word count:  18\n",
      "Repeated phrases:  1\n",
      "\n",
      "\n",
      "Webscraping failed: Social Media\n",
      "https://twitter.com/atrupar/status/1588691384814473217\n",
      "\n",
      "\n",
      "Webscraping failed: Word Count or Repeated Phrase\n",
      "https://technicalearn.com/will-the-attack-on-paul-pelosi-change-the-rhetoric-in-njs-7th-district-kean-malinowski-race/\n",
      "Word count:  1\n",
      "Repeated phrases:  0\n",
      "\n",
      "\n",
      "Webscraping failed: Social Media\n",
      "https://youtu.be/ZuwySKUtXDI\n",
      "\n",
      "\n",
      "Webscraping Error: Couldn't Parse\n",
      "http://dlvr.it/Sc2g2J\n",
      "\n",
      "\n",
      "Webscraping failed: Word Count or Repeated Phrase\n",
      "https://share.newsbreak.com/2c5g182b\n",
      "Word count:  17\n",
      "Repeated phrases:  1\n",
      "\n",
      "\n",
      "120  Articles Completed\n",
      "Webscraping failed: Social Media\n",
      "https://twitter.com/JudiciaryGOP/status/1592265713754198018\n",
      "\n",
      "\n",
      "Webscraping failed: Social Media\n",
      "https://twitter.com/RepBenCline/status/1605931098747215875\n",
      "\n",
      "\n",
      "Webscraping failed: Word Count or Repeated Phrase\n",
      "https://pressofatlanticcity.com/news/national/man-accused-of-attacking-paul-pelosi-allegedly-said-he-was-on-a-suicide-mission/article_eb2380b1-3112-58c1-8e19-3743b4469f28.html?utm_campaign=snd-autopilot&utm_medium=social&utm_source=twitter_ThePressofAC\n",
      "Word count:  73\n",
      "Repeated phrases:  1\n",
      "\n",
      "\n",
      "Webscraping failed: Word Count or Repeated Phrase\n",
      "https://news.yahoo.com/amphtml/republicans-said-pelosi-national-guard-142004368.html\n",
      "Word count:  26\n",
      "Repeated phrases:  1\n",
      "\n",
      "\n",
      "Webscraping failed: Word Count or Repeated Phrase\n",
      "https://www.google.com/amp/s/www.nytimes.com/interactive/2022/10/31/us/david-depape-criminal-complaint.amp.html\n",
      "Word count:  24\n",
      "Repeated phrases:  1\n",
      "\n",
      "\n",
      "Webscraping failed: Word Count or Repeated Phrase\n",
      "https://today.yougov.com/topics/politics/trackers/nancy-pelosi-favorability\n",
      "Word count:  29\n",
      "Repeated phrases:  1\n",
      "\n",
      "\n",
      "130  Articles Completed\n",
      "Webscraping failed: Social Media\n",
      "https://twitter.com/Victorshi2020/status/1602131183835680768\n",
      "\n",
      "\n",
      "Webscraping failed: Word Count or Repeated Phrase\n",
      "https://quorumcall.org/tammy-duckworth/duckworth-statement-on-speaker-pelosis-decision-to-not-seek-re-election-to-leadership/\n",
      "Word count:  29\n",
      "Repeated phrases:  1\n",
      "\n",
      "\n",
      "Webscraping failed: Social Media\n",
      "https://twitter.com/AWeissmann_/status/1587609437077897216\n",
      "\n",
      "\n",
      "Webscraping failed: Word Count or Repeated Phrase\n",
      "https://apple.news/AQLP1K0-dRr-kuN-ta2k0Ow\n",
      "Word count:  17\n",
      "Repeated phrases:  1\n",
      "\n",
      "\n",
      "Webscraping Error: Couldn't Parse\n",
      "https://www.axios.com/2022/10/30/elon-musk-paul-pelosi-tweet-rumor\n",
      "\n",
      "\n",
      "140  Articles Completed\n",
      "Webscraping failed: Social Media\n",
      "https://gettr.com/post/p22jk2q1db8\n",
      "\n",
      "\n",
      "Webscraping Error: Couldn't Parse\n",
      "https://tiny.iavian.net/1si9y\n",
      "\n",
      "\n",
      "Webscraping failed: Word Count or Repeated Phrase\n",
      "https://roanoke.com/news/national/fact-checking-claims-about-paul-pelosi-voter-fraud-the-world-series-and-more/article_a0e7f0f5-341b-5067-9611-e30f9df17c82.html?utm_campaign=snd-autopilot&utm_medium=social&utm_source=twitter_roanoketimes\n",
      "Word count:  42\n",
      "Repeated phrases:  1\n",
      "\n",
      "\n",
      "Webscraping failed: Social Media\n",
      "https://twitter.com/JonathanOC/status/1603284900370530309\n",
      "\n",
      "\n",
      "Webscraping failed: Social Media\n",
      "https://twitter.com/PapiTrumpo/status/1592719105827954689\n",
      "\n",
      "\n",
      "Webscraping failed: Social Media\n",
      "https://twitter.com/theblaze/status/1588544613765287938?ref_src=twsrc%5Etfw%7Ctwcamp%5Etweetembed%7Ctwterm%5E1588544613765287938%7Ctwgr%5Eabbbef07f6ea03663a21f2754fa9e29c422470d1%7Ctwcon%5Es1_c10&ref_url=https%3A%2F%2Fwww.westernjournal.com%2Freport-nbc-suspends-reporter-bombshell-paul-pelosi-story-silence-matter-speaks-volumes%2F\n",
      "\n",
      "\n",
      "Webscraping Error: Couldn't Parse\n",
      "https://www.waotechnology.com/nancy-pelosi-to-handle-her-future-political-plans-on-thursday/\n",
      "\n",
      "\n",
      "150  Articles Completed\n",
      "Webscraping failed: Social Media\n",
      "https://twitter.com/citizenj17/status/1597994697577754627\n",
      "\n",
      "\n",
      "Webscraping failed: Word Count or Repeated Phrase\n",
      "https://l.smartnews.com/5o4Ta/yaHNOi\n",
      "Word count:  16\n",
      "Repeated phrases:  1\n",
      "\n",
      "\n",
      "Webscraping Error: Couldn't Parse\n",
      "http://politico.com/f/?id=00000184\n",
      "\n",
      "\n",
      "Webscraping failed: Social Media\n",
      "https://twitter.com/WSAV/status/1588289949039632384\n",
      "\n",
      "\n",
      "Webscraping failed: Word Count or Repeated Phrase\n",
      "https://www.msn.com/en-gb/news/world/video-shows-arizona-gop-candidate-kari-lake-drawing-disturbing-laugh-with-joke-about-paul-pelosi-attack/ar-AA13B0Nx\n",
      "Word count:  1\n",
      "Repeated phrases:  0\n",
      "\n",
      "\n",
      "Webscraping failed: Word Count or Repeated Phrase\n",
      "https://www.washingtonexaminer.com/videos/the-debrief-conn-carroll-on-democrats-claiming-threats-to-democracy\n",
      "Word count:  33\n",
      "Repeated phrases:  1\n",
      "\n",
      "\n",
      "Webscraping failed: Social Media\n",
      "https://twitter.com/JalisaDanielle_/status/1590842064438116352\n",
      "\n",
      "\n",
      "160  Articles Completed\n",
      "Webscraping failed: Social Media\n",
      "https://twitter.com/theleoterrell/status/1593398995316973568\n",
      "\n",
      "\n",
      "Webscraping failed: Word Count or Repeated Phrase\n",
      "https://www.msn.com/en-us/news/politics/who-raised-you-kevin-mccarthy-shamed-by-msnbc-s-mika-for-disgusting-treatment-of-pelosi/ar-AA14gjqD?ocid=msedgdhp&pc=U531&cvid=52b80dd9a22c482e943fb7a75e1df07e\n",
      "Word count:  1\n",
      "Repeated phrases:  0\n",
      "\n",
      "\n",
      "Webscraping failed: Social Media\n",
      "https://youtu.be/MlisggXZiHs\n",
      "\n",
      "\n",
      "Webscraping failed: Social Media\n",
      "https://twitter.com/BonBee81/status/1593410173581725699\n",
      "\n",
      "\n",
      "Webscraping failed: Social Media\n",
      "https://twitter.com/thehill/status/1604188695938363392\n",
      "\n",
      "\n",
      "170  Articles Completed\n",
      "Webscraping failed: Word Count or Repeated Phrase\n",
      "https://www.thedailybeast.com/david-depape-suspect-in-san-francisco-attack-on-nancy-pelosis-husband-paul-had-list-of-targets-report-says?source=twitter&via=mobile\n",
      "Word count:  1\n",
      "Repeated phrases:  0\n",
      "\n",
      "\n",
      "Webscraping failed: Word Count or Repeated Phrase\n",
      "https://thebeltwayreport.com/2022/12/chuck-schumer-throws-pelosi-under-the-bus-shes-finished/\n",
      "Word count:  24\n",
      "Repeated phrases:  1\n",
      "\n",
      "\n",
      "Webscraping failed: Social Media\n",
      "https://twitter.com/BoSnerdley/status/1599611124244152320\n",
      "\n",
      "\n",
      "Webscraping failed: Social Media\n",
      "https://youtu.be/VdphvuyaV_I\n",
      "\n",
      "\n",
      "Webscraping Error: Couldn't Parse\n",
      "https://www.waotechnology.com/finish-of-an-period-pelosi-steps-down-as-home-democratic-chief-2/\n",
      "\n",
      "\n",
      "Webscraping failed: Social Media\n",
      "https://twitter.com/DineshDSouza/status/1596973293147672577\n",
      "\n",
      "\n",
      "Webscraping Error: Couldn't Parse\n",
      "http://dlvr.it/Sc7bk5\n",
      "\n",
      "\n",
      "180  Articles Completed\n",
      "Webscraping failed: Word Count or Repeated Phrase\n",
      "https://l.smartnews.com/MhDE6/gz9DR3\n",
      "Word count:  16\n",
      "Repeated phrases:  1\n",
      "\n",
      "\n",
      "Webscraping failed: Social Media\n",
      "https://twitter.com/AndyHarrisFan/status/1589331469977423872\n",
      "\n",
      "\n",
      "Webscraping failed: Word Count or Repeated Phrase\n",
      "https://www.msn.com/en-us/news/politics/house-speaker-nancy-pelosi-prepares-to-step-down-after-historic-leadership-tenure/ar-AA15z19S?ocid=msedgntp&cvid=6d3fc3c298bf4d3aab77a3f6885a495d\n",
      "Word count:  1\n",
      "Repeated phrases:  0\n",
      "\n",
      "\n",
      "Webscraping Error: Couldn't Parse\n",
      "https://insideus.net/pelosi-says-horrible-gop-reaction-to-husbands-attack-may-have-turned-off-some-voters-cnn-politics-inside-us/\n",
      "\n",
      "\n",
      "Webscraping failed: Social Media\n",
      "https://twitter.com/50linesonly/status/1589280093041733633\n",
      "\n",
      "\n",
      "Webscraping failed: Word Count or Repeated Phrase\n",
      "http://dlvr.it/ScFrZz\n",
      "Word count:  37\n",
      "Repeated phrases:  1\n",
      "\n",
      "\n",
      "190  Articles Completed\n",
      "Webscraping failed: Social Media\n",
      "https://twitter.com/aintscarylarry/status/1587432393580822528\n",
      "\n",
      "\n",
      "Webscraping failed: Social Media\n",
      "https://twitter.com/gitrdonelarry/status/1593750107136339969\n",
      "\n",
      "\n",
      "Webscraping failed: Social Media\n",
      "https://youtu.be/R8pIKgS4wQk\n",
      "\n",
      "\n",
      "200  Articles Completed\n",
      "Webscraping failed: Word Count or Repeated Phrase\n",
      "https://www.msn.com/en-us/news/politics/disturbing-conspiracy-theory-takes-root-following-pelosi-attack/vi-AA13B1QA?ocid=msedgdhp&\n",
      "Word count:  1\n",
      "Repeated phrases:  0\n",
      "\n",
      "\n",
      "Webscraping Error: Couldn't Parse\n",
      "https://artandpia.com/paul-pelosi-attacker-pleads-not-guilty-to-attempted-murder-and-assault/\n",
      "\n",
      "\n",
      "Webscraping Error: Couldn't Parse\n",
      "https://oddcrimes.com/static/2022/11/02/Accused-Pelosi-Attacker-Allegedly-Had-Plans-To-Target-Other-Politicians.php\n",
      "\n",
      "\n",
      "Webscraping failed: Word Count or Repeated Phrase\n",
      "https://www.msn.com/en-us/news/politics/msnbc-legal-expert-blames-marjorie-taylor-greene-for-hammer-attack-on-nancy-pelosi-s-husband-a-kook-with-a-lot-of-power/ar-AA13CmGW?ocid=msedgntp&cvid=a8caad2aec2a43f68e4133132cd79d6c\n",
      "Word count:  1\n",
      "Repeated phrases:  0\n",
      "\n",
      "\n",
      "Webscraping failed: Word Count or Repeated Phrase\n",
      "https://bit.ly/3fDdbrr\n",
      "Word count:  1\n",
      "Repeated phrases:  0\n",
      "\n",
      "\n",
      "Webscraping Error: Couldn't Parse\n",
      "https://on.wsj.com/3g7wt8G\n",
      "\n",
      "\n",
      "210  Articles Completed\n",
      "Webscraping failed: Word Count or Repeated Phrase\n",
      "https://www.theguardian.com/us-news/video/2022/nov/18/nancy-pelosi-key-moments-from-the-democrats-time-as-house-speaker-video?CMP=twt_b-gdnvideo\n",
      "Word count:  84\n",
      "Repeated phrases:  1\n",
      "\n",
      "\n",
      "Webscraping failed: Social Media\n",
      "https://youtu.be/fNCvWvLn-cg\n",
      "\n",
      "\n",
      "Webscraping failed: Social Media\n",
      "https://twitter.com/chuckcallesto/status/1597294772842278912\n",
      "\n",
      "\n",
      "Webscraping failed: Word Count or Repeated Phrase\n",
      "https://ift.tt/3HxDGN2\n",
      "Word count:  1\n",
      "Repeated phrases:  0\n",
      "\n",
      "\n",
      "Webscraping failed: Social Media\n",
      "https://twitter.com/jdcocchiarella/status/1604934934208122880\n",
      "\n",
      "\n",
      "Webscraping failed: Social Media\n",
      "https://twitter.com/annamargaretap1/status/1607481717232738305\n",
      "\n",
      "\n",
      "220  Articles Completed\n",
      "Webscraping failed: Social Media\n",
      "https://twitter.com/PamelaHensley22/status/1591974201304707073\n",
      "\n",
      "\n",
      "Webscraping failed: Word Count or Repeated Phrase\n",
      "https://images.app.goo.gl/RR5Uwy7KGgDXnPAcA\n",
      "Word count:  24\n",
      "Repeated phrases:  1\n",
      "\n",
      "\n",
      "Webscraping failed: Word Count or Repeated Phrase\n",
      "https://vrtnws.be/p.DYakM9jom\n",
      "Word count:  82\n",
      "Repeated phrases:  1\n",
      "\n",
      "\n",
      "Webscraping failed: Word Count or Repeated Phrase\n",
      "https://www.msn.com/en-US/news/politics/press-the-inevitable-result-of-years-of-attacking-speaker-pelosi/ar-AA13BKPv?ocid=sapphireappshare\n",
      "Word count:  1\n",
      "Repeated phrases:  0\n",
      "\n",
      "\n",
      "Webscraping failed: Word Count or Repeated Phrase\n",
      "https://ift.tt/KaYNdfz\n",
      "Word count:  113\n",
      "Repeated phrases:  1\n",
      "\n",
      "\n",
      "Webscraping failed: Word Count or Repeated Phrase\n",
      "https://rumble.com/v206qc8-my-mom-eats-nails-for-breakfast-nancy-pelosis-daughter.html\n",
      "Word count:  23\n",
      "Repeated phrases:  1\n",
      "\n",
      "\n",
      "230  Articles Completed\n",
      "Webscraping failed: Word Count or Repeated Phrase\n",
      "https://go.politicoemail.com/?qs=e280541eac911ebb91375586ec0898a6a8ce4c3c30628340457cb05a1392b7bcdbe79c27e3dc2fa83a4622b17c9b69f9\n",
      "Word count:  1\n",
      "Repeated phrases:  0\n",
      "\n",
      "\n",
      "Webscraping Error: Couldn't Parse\n",
      "https://www.newsweek.com/chris-miller-donald-trump-deploy-jan-6-troops-capitol-riot-contradiction-testimony-1728207\n",
      "\n",
      "\n",
      "Webscraping failed: Word Count or Repeated Phrase\n",
      "https://www.msn.com/en-us/news/politics/suspect-in-pelosi-attack-was-in-the-us-illegally-officials-say/ar-AA13Hpbg?ocid=msedgdhp&pc=U531&cvid=960f817762fc445589134993bd0599e1\n",
      "Word count:  1\n",
      "Repeated phrases:  0\n",
      "\n",
      "\n",
      "Webscraping Error: Couldn't Parse\n",
      "https://thehill.com/homenews/sunday-talk-shows/482178-dershowitz-schumer-and-pelosi-have-to-go/\n",
      "\n",
      "\n",
      "Webscraping failed: Social Media\n",
      "https://twitter.com/DesignerErica27/status/1587341015157030912\n",
      "\n",
      "\n",
      "Webscraping failed: Social Media\n",
      "https://twitter.com/TPostMillennial/status/1587249766752133120\n",
      "\n",
      "\n",
      "Webscraping failed: Word Count or Repeated Phrase\n",
      "https://lnkd.in/gYWyHUPx\n",
      "Word count:  32\n",
      "Repeated phrases:  1\n",
      "\n",
      "\n",
      "Webscraping Error: Couldn't Parse\n",
      "https://manoprema.com/democrats-are-ready-to-pick-hakeem-jeffries-as-nancy-pelosis-successor/\n",
      "\n",
      "\n",
      "Webscraping Error: Couldn't Parse\n",
      "https://ca.news.yahoo.com/pelosi-attack-suspect-plunged-online-154508079.html?soc_src=social-sh&soc_trk=tw&tsrc=twtr\n",
      "\n",
      "\n",
      "240  Articles Completed\n",
      "Webscraping Error: Couldn't Parse\n",
      "https://www.rawstory.com/paul-pelosi-misinformation-came-from-all-levels-of-republican-politics-report/?traffic_source=Connatix\n",
      "\n",
      "\n",
      "Webscraping failed: Social Media\n",
      "https://twitter.com/cafreeland/status/1593412768744472576\n",
      "\n",
      "\n",
      "Webscraping failed: Social Media\n",
      "https://www.youtube.com/watch?v=tF3r9SWuujM\n",
      "\n",
      "\n",
      "Webscraping failed: Social Media\n",
      "https://twitter.com/gopturntable/status/1608137834493521920\n",
      "\n",
      "\n",
      "Webscraping failed: Social Media\n",
      "https://twitter.com/TheShadowPrezz/status/1588484630289985536\n",
      "\n",
      "\n",
      "Webscraping failed: Social Media\n",
      "https://twitter.com/fibci2/status/1603079876298543104\n",
      "\n",
      "\n",
      "250  Articles Completed\n",
      "Webscraping failed: Word Count or Repeated Phrase\n",
      "https://www.infowars.com/posts/sec-chairman-gensler-scrubbed-evidence-of-clinton-soros-and-pelosi-meetings-foia-lawsuit-2/\n",
      "Word count:  1\n",
      "Repeated phrases:  0\n",
      "\n",
      "\n",
      "Webscraping failed: Social Media\n",
      "https://twitter.com/SilvioTattiscon/status/1607415309606047745\n",
      "\n",
      "\n",
      "Webscraping failed: Social Media\n",
      "https://twitter.com/greg_price11/status/1588581845087944704\n",
      "\n",
      "\n",
      "Webscraping failed: Word Count or Repeated Phrase\n",
      "https://trib.al/2sWxhhm\n",
      "Word count:  1\n",
      "Repeated phrases:  0\n",
      "\n",
      "\n",
      "Webscraping failed: Word Count or Repeated Phrase\n",
      "https://fb.watch/gyiojrnMR7/?mibextid=T98AZd\n",
      "Word count:  1\n",
      "Repeated phrases:  0\n",
      "\n",
      "\n",
      "Webscraping failed: Social Media\n",
      "https://twitter.com/anxietyman2/status/1603584235285233664\n",
      "\n",
      "\n",
      "Webscraping failed: Social Media\n",
      "https://twitter.com/CitizenFreePres/status/1604919916196495388\n",
      "\n",
      "\n",
      "260  Articles Completed\n",
      "Webscraping failed: Word Count or Repeated Phrase\n",
      "https://www.breitbart.com/t/assets/html/disqus/006.html?udca=https://www.breitbart.com/the-media/2022/11/16/nolte-nbc-reporter-suspended-erroneous-paul-pelosi-report/|22610498|Nolte%3A%20NBC%20Reporter%20Suspended%20over%20%26%238216%3BErroneous%26%238217%3B%20Paul%20Pelosi%20Report\n",
      "Word count:  1\n",
      "Repeated phrases:  0\n",
      "\n",
      "\n",
      "Webscraping failed: Social Media\n",
      "https://twitter.com/andersonDrLJA/status/1605275978712100865\n",
      "\n",
      "\n",
      "Webscraping failed: Social Media\n",
      "https://youtu.be/_MijOagzmrQ\n",
      "\n",
      "\n",
      "Webscraping failed: Word Count or Repeated Phrase\n",
      "https://apple.news/AyxC9-ks0RKm6YLA332dlxQ\n",
      "Word count:  17\n",
      "Repeated phrases:  1\n",
      "\n",
      "\n",
      "Webscraping failed: Social Media\n",
      "https://twitter.com/rolandlisf/status/1178039984181243904?s=20\n",
      "\n",
      "\n",
      "Webscraping failed: Social Media\n",
      "https://twitter.com/TobiAyodele/status/1605768571652636672\n",
      "\n",
      "\n",
      "Webscraping failed: Social Media\n",
      "https://twitter.com/jmw512/status/1602266103526625280\n",
      "\n",
      "\n",
      "Webscraping failed: Social Media\n",
      "https://youtu.be/9ev4oyZASoI\n",
      "\n",
      "\n",
      "270  Articles Completed\n",
      "Webscraping failed: Word Count or Repeated Phrase\n",
      "https://technicalearn.com/pelosi-says-her-husband-paying-the-price-for-divisive-political-landscape/\n",
      "Word count:  1\n",
      "Repeated phrases:  0\n",
      "\n",
      "\n",
      "Webscraping failed: Word Count or Repeated Phrase\n",
      "https://www.bbc.co.uk/news/uk-northern-ireland-63693749\n",
      "Word count:  29\n",
      "Repeated phrases:  1\n",
      "\n",
      "\n",
      "Webscraping failed: Social Media\n",
      "https://twitter.com/WaysandMeansGOP/status/1328810140850548737\n",
      "\n",
      "\n",
      "Webscraping failed: Word Count or Repeated Phrase\n",
      "http://dlvr.it/Sc392Z\n",
      "Word count:  66\n",
      "Repeated phrases:  1\n",
      "\n",
      "\n",
      "Webscraping failed: Social Media\n",
      "https://twitter.com/INFJLOVE/status/1600637566000185344\n",
      "\n",
      "\n",
      "Webscraping failed: Social Media\n",
      "https://twitter.com/rachaelmbade/status/1593295449011548161\n",
      "\n",
      "\n",
      "Webscraping failed: Word Count or Repeated Phrase\n",
      "https://www.openweb.com/share/2H8WMcmnsli9MCSLWxslnLWBHcV\n",
      "Word count:  1\n",
      "Repeated phrases:  0\n",
      "\n",
      "\n",
      "280  Articles Completed\n",
      "Webscraping Error: Couldn't Parse\n",
      "https://ift.tt/h1fUgNL\n",
      "\n",
      "\n",
      "Webscraping failed: Word Count or Repeated Phrase\n",
      "https://jaunbaba.com/nancy-pelosi-wont-seek-leadership-role-plans-to-stay-in-congress/\n",
      "Word count:  25\n",
      "Repeated phrases:  1\n",
      "\n",
      "\n",
      "Webscraping failed: Social Media\n",
      "https://twitter.com/LangmanVince/status/1603726556240674817\n",
      "\n",
      "\n",
      "Webscraping failed: Word Count or Repeated Phrase\n",
      "https://bbc.in/3zzYs7H\n",
      "Word count:  38\n",
      "Repeated phrases:  1\n",
      "\n",
      "\n",
      "Webscraping failed: Social Media\n",
      "https://youtu.be/S0Vzz_P9JBk\n",
      "\n",
      "\n",
      "Webscraping Error: Couldn't Parse\n",
      "https://thehill.com/homenews/house/3729060-federal-grand-jury-indicts-suspect-in-paul-pelosi-attack/\n",
      "\n",
      "\n",
      "290  Articles Completed\n",
      "Webscraping Error: Couldn't Parse\n",
      "http://trib.al/h1qF79J\n",
      "\n",
      "\n",
      "Webscraping failed: Social Media\n",
      "https://twitter.com/AWeissmann_/status/1587068655203926016\n",
      "\n",
      "\n",
      "Webscraping failed: Social Media\n",
      "https://twitter.com/Danycharli/status/1593345179087519753\n",
      "\n",
      "\n",
      "Webscraping Error: Couldn't Parse\n",
      "https://expanduse.com/donald-trump-joins-the-paul-pelosi-conspiracy-caucus/\n",
      "\n",
      "\n",
      "Webscraping failed: Social Media\n",
      "https://twitter.com/GovPierluisi/status/1593302318841270273\n",
      "\n",
      "\n",
      "Webscraping failed: Word Count or Repeated Phrase\n",
      "https://ift.tt/ehF9JK0\n",
      "Word count:  113\n",
      "Repeated phrases:  1\n",
      "\n",
      "\n"
     ]
    },
    {
     "data": {
      "text/html": [
       "<div>\n",
       "<style scoped>\n",
       "    .dataframe tbody tr th:only-of-type {\n",
       "        vertical-align: middle;\n",
       "    }\n",
       "\n",
       "    .dataframe tbody tr th {\n",
       "        vertical-align: top;\n",
       "    }\n",
       "\n",
       "    .dataframe thead th {\n",
       "        text-align: right;\n",
       "    }\n",
       "</style>\n",
       "<table border=\"1\" class=\"dataframe\">\n",
       "  <thead>\n",
       "    <tr style=\"text-align: right;\">\n",
       "      <th></th>\n",
       "      <th>URL</th>\n",
       "      <th>Sentiment Score</th>\n",
       "      <th>Sentiment Label</th>\n",
       "      <th>Subjectivity Score</th>\n",
       "      <th>Positive Words</th>\n",
       "      <th>Negative Words</th>\n",
       "      <th>Text</th>\n",
       "    </tr>\n",
       "  </thead>\n",
       "  <tbody>\n",
       "    <tr>\n",
       "      <th>3</th>\n",
       "      <td>https://fee.org/articles/nancy-pelosi-snuck-35...</td>\n",
       "      <td>0.17</td>\n",
       "      <td>Positive</td>\n",
       "      <td>0.55</td>\n",
       "      <td>many, well-off, fairly, certainly, powerful, f...</td>\n",
       "      <td>painful, average, relatively, other, due</td>\n",
       "      <td>at some point, when the election chaos is fina...</td>\n",
       "    </tr>\n",
       "    <tr>\n",
       "      <th>8</th>\n",
       "      <td>https://www.smobserved.com/story/2022/10/29/ne...</td>\n",
       "      <td>0.08</td>\n",
       "      <td>Neutral Positive</td>\n",
       "      <td>0.40</td>\n",
       "      <td>certain, early, social, best, fine, kind, effe...</td>\n",
       "      <td>firm, spent, odd, victim, not, broken, confuse...</td>\n",
       "      <td>\"paul pelosi stated that he doesn't know who t...</td>\n",
       "    </tr>\n",
       "    <tr>\n",
       "      <th>9</th>\n",
       "      <td>https://www.elespanol.com/mundo/america/202211...</td>\n",
       "      <td>-0.40</td>\n",
       "      <td>Negative</td>\n",
       "      <td>0.55</td>\n",
       "      <td></td>\n",
       "      <td>base</td>\n",
       "      <td>entre vítores y aplausos, nancy pelosi ha anun...</td>\n",
       "    </tr>\n",
       "    <tr>\n",
       "      <th>10</th>\n",
       "      <td>https://buff.ly/3HRKtPm</td>\n",
       "      <td>-0.08</td>\n",
       "      <td>Negative</td>\n",
       "      <td>0.38</td>\n",
       "      <td>responsible, legal, economic, potentially</td>\n",
       "      <td>illegal, brutal, military, base, criminal</td>\n",
       "      <td>departamento de américa del norte\\nartículos\\n...</td>\n",
       "    </tr>\n",
       "    <tr>\n",
       "      <th>11</th>\n",
       "      <td>https://www.courttv.com/news/paul-pelosi-attac...</td>\n",
       "      <td>-0.08</td>\n",
       "      <td>Negative</td>\n",
       "      <td>0.44</td>\n",
       "      <td>married, own, not, nearly, right</td>\n",
       "      <td>deadly, complaint, allegedly, serious, evil, f...</td>\n",
       "      <td>san francisco (ap) — the man who allegedly bro...</td>\n",
       "    </tr>\n",
       "    <tr>\n",
       "      <th>...</th>\n",
       "      <td>...</td>\n",
       "      <td>...</td>\n",
       "      <td>...</td>\n",
       "      <td>...</td>\n",
       "      <td>...</td>\n",
       "      <td>...</td>\n",
       "      <td>...</td>\n",
       "    </tr>\n",
       "    <tr>\n",
       "      <th>289</th>\n",
       "      <td>https://www.theepochtimes.com/man-accused-of-a...</td>\n",
       "      <td>-0.02</td>\n",
       "      <td>Neutral Negative</td>\n",
       "      <td>0.33</td>\n",
       "      <td>full, own, prominent, really, not, right, firs...</td>\n",
       "      <td>less, absence, allegedly, insane, seriously, a...</td>\n",
       "      <td>david depape, the man who allegedly assaulted ...</td>\n",
       "    </tr>\n",
       "    <tr>\n",
       "      <th>292</th>\n",
       "      <td>https://nationalfile.com/rep-elect-luna-oppose...</td>\n",
       "      <td>0.05</td>\n",
       "      <td>Neutral Positive</td>\n",
       "      <td>0.38</td>\n",
       "      <td>able, many, good, suitable, full, effectively,...</td>\n",
       "      <td>spent, powerless, dark, failed, corrupt, previ...</td>\n",
       "      <td>last updated on december 30, 2022\\nus represen...</td>\n",
       "    </tr>\n",
       "    <tr>\n",
       "      <th>294</th>\n",
       "      <td>https://welovetrump.com/2022/11/17/pelosi-make...</td>\n",
       "      <td>0.22</td>\n",
       "      <td>Positive</td>\n",
       "      <td>0.46</td>\n",
       "      <td>many, good, wonderful, new, full, amazing, spe...</td>\n",
       "      <td>spent, wrong, jail, sick, no, down, narrowly</td>\n",
       "      <td>we may receive compensation from affiliate par...</td>\n",
       "    </tr>\n",
       "    <tr>\n",
       "      <th>295</th>\n",
       "      <td>https://www.politico.com/news/magazine/2022/10...</td>\n",
       "      <td>0.07</td>\n",
       "      <td>Neutral Positive</td>\n",
       "      <td>0.43</td>\n",
       "      <td>win, many, early, appreciated, more, most, rig...</td>\n",
       "      <td>common, unlikely, tired, violent, stark, broke...</td>\n",
       "      <td>want to read more stories like this? politico ...</td>\n",
       "    </tr>\n",
       "    <tr>\n",
       "      <th>298</th>\n",
       "      <td>https://bismarcktribune.com/news/national/man-...</td>\n",
       "      <td>0.04</td>\n",
       "      <td>Neutral</td>\n",
       "      <td>0.37</td>\n",
       "      <td>early, detailed, prominent, first, superior</td>\n",
       "      <td>less, allegedly, behind, other, stark</td>\n",
       "      <td>san francisco (ap) — the man accused of breaki...</td>\n",
       "    </tr>\n",
       "  </tbody>\n",
       "</table>\n",
       "<p>108 rows × 7 columns</p>\n",
       "</div>"
      ],
      "text/plain": [
       "                                                   URL  Sentiment Score  \\\n",
       "3    https://fee.org/articles/nancy-pelosi-snuck-35...             0.17   \n",
       "8    https://www.smobserved.com/story/2022/10/29/ne...             0.08   \n",
       "9    https://www.elespanol.com/mundo/america/202211...            -0.40   \n",
       "10                             https://buff.ly/3HRKtPm            -0.08   \n",
       "11   https://www.courttv.com/news/paul-pelosi-attac...            -0.08   \n",
       "..                                                 ...              ...   \n",
       "289  https://www.theepochtimes.com/man-accused-of-a...            -0.02   \n",
       "292  https://nationalfile.com/rep-elect-luna-oppose...             0.05   \n",
       "294  https://welovetrump.com/2022/11/17/pelosi-make...             0.22   \n",
       "295  https://www.politico.com/news/magazine/2022/10...             0.07   \n",
       "298  https://bismarcktribune.com/news/national/man-...             0.04   \n",
       "\n",
       "      Sentiment Label  Subjectivity Score  \\\n",
       "3            Positive                0.55   \n",
       "8    Neutral Positive                0.40   \n",
       "9            Negative                0.55   \n",
       "10           Negative                0.38   \n",
       "11           Negative                0.44   \n",
       "..                ...                 ...   \n",
       "289  Neutral Negative                0.33   \n",
       "292  Neutral Positive                0.38   \n",
       "294          Positive                0.46   \n",
       "295  Neutral Positive                0.43   \n",
       "298           Neutral                0.37   \n",
       "\n",
       "                                        Positive Words  \\\n",
       "3    many, well-off, fairly, certainly, powerful, f...   \n",
       "8    certain, early, social, best, fine, kind, effe...   \n",
       "9                                                        \n",
       "10           responsible, legal, economic, potentially   \n",
       "11                    married, own, not, nearly, right   \n",
       "..                                                 ...   \n",
       "289  full, own, prominent, really, not, right, firs...   \n",
       "292  able, many, good, suitable, full, effectively,...   \n",
       "294  many, good, wonderful, new, full, amazing, spe...   \n",
       "295  win, many, early, appreciated, more, most, rig...   \n",
       "298        early, detailed, prominent, first, superior   \n",
       "\n",
       "                                        Negative Words  \\\n",
       "3             painful, average, relatively, other, due   \n",
       "8    firm, spent, odd, victim, not, broken, confuse...   \n",
       "9                                                 base   \n",
       "10           illegal, brutal, military, base, criminal   \n",
       "11   deadly, complaint, allegedly, serious, evil, f...   \n",
       "..                                                 ...   \n",
       "289  less, absence, allegedly, insane, seriously, a...   \n",
       "292  spent, powerless, dark, failed, corrupt, previ...   \n",
       "294       spent, wrong, jail, sick, no, down, narrowly   \n",
       "295  common, unlikely, tired, violent, stark, broke...   \n",
       "298              less, allegedly, behind, other, stark   \n",
       "\n",
       "                                                  Text  \n",
       "3    at some point, when the election chaos is fina...  \n",
       "8    \"paul pelosi stated that he doesn't know who t...  \n",
       "9    entre vítores y aplausos, nancy pelosi ha anun...  \n",
       "10   departamento de américa del norte\\nartículos\\n...  \n",
       "11   san francisco (ap) — the man who allegedly bro...  \n",
       "..                                                 ...  \n",
       "289  david depape, the man who allegedly assaulted ...  \n",
       "292  last updated on december 30, 2022\\nus represen...  \n",
       "294  we may receive compensation from affiliate par...  \n",
       "295  want to read more stories like this? politico ...  \n",
       "298  san francisco (ap) — the man accused of breaki...  \n",
       "\n",
       "[108 rows x 7 columns]"
      ]
     },
     "execution_count": 4,
     "metadata": {},
     "output_type": "execute_result"
    }
   ],
   "source": [
    "# Loading the nlp pipeline and adding spacytextblob\n",
    "nlp = spacy.load('en_core_web_sm')\n",
    "nlp.add_pipe('spacytextblob') #This is used in our sentiment analysis\n",
    "\n",
    "# Using panda to load in our .csv file\n",
    "df = pd.read_csv(csvFile) # File we are checking\n",
    "urls = df[\"Address\"].tolist() # Column name we are checking (You can switch this column name to match the csv file)\n",
    "\n",
    "#trim to only include the first url_max URLs \n",
    "if url_max > 0:\n",
    "    urls = urls[0:url_max]\n",
    "\n",
    "#Here is where we start the sentiment analysis over all articles\n",
    "df = main_pipeline_sentiment_analysis(urls)\n",
    "df"
   ]
  },
  {
   "cell_type": "markdown",
   "id": "7d0b94a9",
   "metadata": {},
   "source": [
    "# TOPIC MODELING"
   ]
  },
  {
   "cell_type": "markdown",
   "id": "40eba53b",
   "metadata": {},
   "source": [
    "# Create Topic Model w/ Highest Coherence"
   ]
  },
  {
   "cell_type": "markdown",
   "id": "e01f58b3",
   "metadata": {},
   "source": [
    "Here we create our LDA topic model, article corpus, and topic-level sentiment analysis dictionary.\n",
    "\n",
    "First we pass in our dataframe df and associated settings. The function will create topic models with varying number of topics, compute the topic coherence score for that number of topics over our articles, and return to us the LDA model that has the highest coherence score. It will display a small graphic showing the topic coherence for each number of topics we tested.\n",
    "\n",
    "Next we will create our topic-level sentiment analysis dictionary using both our dataframe df and the new LDA_model and corpus we just created. This will give us a dictionary of the averaged sentiment scores for every topic of an article, for all articles."
   ]
  },
  {
   "cell_type": "code",
   "execution_count": 5,
   "id": "52b11718",
   "metadata": {},
   "outputs": [
    {
     "data": {
      "image/png": "[encoded data removed]",
      "text/plain": [
       "<Figure size 640x480 with 1 Axes>"
      ]
     },
     "metadata": {},
     "output_type": "display_data"
    }
   ],
   "source": [
    "#This will generate multiple topic models with various topic count, then return the model with highest coherence\n",
    "#it will also display a quick visual of coherence values, to understand what topic count is best and why it was chosen\n",
    "LDA_model, corpus = create_lda_model(df, topic_model_dict[\"topic_limit\"],\n",
    "                                     topic_model_dict[\"topic_start\"], topic_model_dict[\"topic_step\"])\n",
    "\n",
    "#LDA_model is the lda model we will work with, corpus is the actual corpus of articles we use\n",
    "\n",
    "\n",
    "#Here we are making our dictionary of all articles and their associated topic-level sentiment for every topic\n",
    "topic_level_sentiment = topic_sentence_sentiment_analysis(df, LDA_model, corpus)\n",
    "\n",
    "#topic_level_sentiment\n",
    "#LDA_model"
   ]
  },
  {
   "cell_type": "markdown",
   "id": "e90c4670",
   "metadata": {},
   "source": [
    "# DATA VISUALIZATION"
   ]
  },
  {
   "cell_type": "markdown",
   "id": "2cf78edd",
   "metadata": {},
   "source": [
    "## Pre-processing dataframe for visualization"
   ]
  },
  {
   "cell_type": "markdown",
   "id": "08f34a83",
   "metadata": {},
   "source": [
    "Here we preprocess our dataframe to add in a few relevant columns for data vis, as well as creating our topic relevancy dataframe and weighted sentiment dataframe over all topics for all articles. \n",
    "\n",
    "We add the Topics, Main Topic, Main Topic Score, and Shortened Address to the main dataframe (using our preprocess_dataframe_for_datavis() function). This lets the data vis section easily grab the information.\n",
    "\n",
    "Next we create the topic relevancy dataframe df_topics. In df_topics, each row is an article, and each column is a topic. For an article, every cell value represents the relevancy of that topic to that article. So if row 0 column 1 is 0.998, that means Article 0 has a 0.998 relevancy score on Topic 1.\n",
    "\n",
    "We create the per_topic_df, which uses our topic-based sentiment dictionary and our topic relevancy dataframe to make a dataframe where each row is an article and each column is a topic. The cell contains data of the form (sentiment, relevancy) which is a tuple that describes the sentiment value and topic relevancy of that article (row) for that topic (column)."
   ]
  },
  {
   "cell_type": "code",
   "execution_count": 13,
   "id": "097d2461",
   "metadata": {
    "scrolled": true
   },
   "outputs": [
    {
     "data": {
      "text/html": [
       "<div>\n",
       "<style scoped>\n",
       "    .dataframe tbody tr th:only-of-type {\n",
       "        vertical-align: middle;\n",
       "    }\n",
       "\n",
       "    .dataframe tbody tr th {\n",
       "        vertical-align: top;\n",
       "    }\n",
       "\n",
       "    .dataframe thead th {\n",
       "        text-align: right;\n",
       "    }\n",
       "</style>\n",
       "<table border=\"1\" class=\"dataframe\">\n",
       "  <thead>\n",
       "    <tr style=\"text-align: right;\">\n",
       "      <th></th>\n",
       "      <th>URL</th>\n",
       "      <th>Sentiment Score</th>\n",
       "      <th>Sentiment Label</th>\n",
       "      <th>Subjectivity Score</th>\n",
       "      <th>Positive Words</th>\n",
       "      <th>Negative Words</th>\n",
       "      <th>Text</th>\n",
       "      <th>Topics</th>\n",
       "      <th>Main Topic</th>\n",
       "      <th>Main Topic Score</th>\n",
       "      <th>Associated Words</th>\n",
       "      <th>Shortened Address</th>\n",
       "    </tr>\n",
       "  </thead>\n",
       "  <tbody>\n",
       "    <tr>\n",
       "      <th>154</th>\n",
       "      <td>https://buff.ly/3Oj9cgU</td>\n",
       "      <td>0.13</td>\n",
       "      <td>Neutral Positive</td>\n",
       "      <td>0.49</td>\n",
       "      <td>wants, nice, powerful, developed, boldly, impo...</td>\n",
       "      <td>plain, violent, corrupt, random, very, cutting...</td>\n",
       "      <td>highlighted passages are false or inaccurate. ...</td>\n",
       "      <td>[(0, 0.999708)]</td>\n",
       "      <td>0</td>\n",
       "      <td>0.999708</td>\n",
       "      <td>[say, country, go, great, get, people, take, y...</td>\n",
       "      <td>buff.ly</td>\n",
       "    </tr>\n",
       "    <tr>\n",
       "      <th>50</th>\n",
       "      <td>https://trib.al/LJwJMRl</td>\n",
       "      <td>-0.01</td>\n",
       "      <td>Neutral Negative</td>\n",
       "      <td>0.48</td>\n",
       "      <td>win, new, early, primarily, advanced, whole, l...</td>\n",
       "      <td>black, misplaced, behind, unilaterally, unnece...</td>\n",
       "      <td>house speaker nancy pelosi barred republicans ...</td>\n",
       "      <td>[(0, 0.4864267), (1, 0.12326269), (8, 0.388630...</td>\n",
       "      <td>0</td>\n",
       "      <td>0.486427</td>\n",
       "      <td>[say, country, go, great, get, people, take, y...</td>\n",
       "      <td>trib.al</td>\n",
       "    </tr>\n",
       "    <tr>\n",
       "      <th>43</th>\n",
       "      <td>https://en.wikipedia.org/wiki/Feme_murders</td>\n",
       "      <td>-0.04</td>\n",
       "      <td>Neutral Negative</td>\n",
       "      <td>0.30</td>\n",
       "      <td>far, early, social, own, special, near, not, n...</td>\n",
       "      <td>inconvenient, behind, unexplained, victim, mer...</td>\n",
       "      <td>series of murders in germany from 1919 to 1923...</td>\n",
       "      <td>[(0, 0.9830634), (8, 0.015390911)]</td>\n",
       "      <td>0</td>\n",
       "      <td>0.983063</td>\n",
       "      <td>[say, country, go, great, get, people, take, y...</td>\n",
       "      <td>en.wikipedia.org</td>\n",
       "    </tr>\n",
       "    <tr>\n",
       "      <th>195</th>\n",
       "      <td>https://l.smartnews.com/PpUqD/PgSgPw</td>\n",
       "      <td>0.10</td>\n",
       "      <td>Neutral Positive</td>\n",
       "      <td>0.38</td>\n",
       "      <td>many, calm, much, social, actually, more, youn...</td>\n",
       "      <td>distasteful, spent, alarming, obsessed</td>\n",
       "      <td>washington — a far-right extremist charged wit...</td>\n",
       "      <td>[(0, 0.5599509), (8, 0.4369091)]</td>\n",
       "      <td>0</td>\n",
       "      <td>0.559951</td>\n",
       "      <td>[say, country, go, great, get, people, take, y...</td>\n",
       "      <td>l.smartnews.com</td>\n",
       "    </tr>\n",
       "    <tr>\n",
       "      <th>213</th>\n",
       "      <td>https://punchbowl.news/archive/11722-punchbowl...</td>\n",
       "      <td>0.07</td>\n",
       "      <td>Neutral Positive</td>\n",
       "      <td>0.41</td>\n",
       "      <td>fresh, new, social, frequent, special, directl...</td>\n",
       "      <td>small, down</td>\n",
       "      <td>punchbowl news am\\npunchbowl news am our flags...</td>\n",
       "      <td>[(0, 0.99460745)]</td>\n",
       "      <td>0</td>\n",
       "      <td>0.994607</td>\n",
       "      <td>[say, country, go, great, get, people, take, y...</td>\n",
       "      <td>punchbowl.news</td>\n",
       "    </tr>\n",
       "    <tr>\n",
       "      <th>...</th>\n",
       "      <td>...</td>\n",
       "      <td>...</td>\n",
       "      <td>...</td>\n",
       "      <td>...</td>\n",
       "      <td>...</td>\n",
       "      <td>...</td>\n",
       "      <td>...</td>\n",
       "      <td>...</td>\n",
       "      <td>...</td>\n",
       "      <td>...</td>\n",
       "      <td>...</td>\n",
       "      <td>...</td>\n",
       "    </tr>\n",
       "    <tr>\n",
       "      <th>61</th>\n",
       "      <td>https://www.nytimes.com/2022/11/06/technology/...</td>\n",
       "      <td>0.05</td>\n",
       "      <td>Neutral Positive</td>\n",
       "      <td>0.31</td>\n",
       "      <td>mostly, new, social, original, straight, more,...</td>\n",
       "      <td>sharply, propaganda, other, military, narrowly...</td>\n",
       "      <td>follow our live coverage of the 2022 midterm e...</td>\n",
       "      <td>[(8, 0.06456645), (9, 0.92691696)]</td>\n",
       "      <td>9</td>\n",
       "      <td>0.926917</td>\n",
       "      <td>[stock, trade, company, share, trading, call, ...</td>\n",
       "      <td>www.nytimes.com</td>\n",
       "    </tr>\n",
       "    <tr>\n",
       "      <th>137</th>\n",
       "      <td>https://seekingalpha.com/article/4534829-tradi...</td>\n",
       "      <td>0.13</td>\n",
       "      <td>Neutral Positive</td>\n",
       "      <td>0.43</td>\n",
       "      <td>exact, win, many, directly, best, highly, grea...</td>\n",
       "      <td>firm, worse, missing, usually, not, roughly, p...</td>\n",
       "      <td>chip somodevilla/getty images news\\nthe questi...</td>\n",
       "      <td>[(9, 0.9991601)]</td>\n",
       "      <td>9</td>\n",
       "      <td>0.999160</td>\n",
       "      <td>[stock, trade, company, share, trading, call, ...</td>\n",
       "      <td>seekingalpha.com</td>\n",
       "    </tr>\n",
       "    <tr>\n",
       "      <th>253</th>\n",
       "      <td>https://share.newsbreak.com/2bajighl</td>\n",
       "      <td>0.07</td>\n",
       "      <td>Neutral Positive</td>\n",
       "      <td>0.39</td>\n",
       "      <td>worth, many, easily, affirmative, original, ad...</td>\n",
       "      <td>sharply, blind, remote, previous, least, guilt...</td>\n",
       "      <td>paul pelosi and house speaker nancy pelosi in ...</td>\n",
       "      <td>[(9, 0.99864423)]</td>\n",
       "      <td>9</td>\n",
       "      <td>0.998644</td>\n",
       "      <td>[stock, trade, company, share, trading, call, ...</td>\n",
       "      <td>share.newsbreak.com</td>\n",
       "    </tr>\n",
       "    <tr>\n",
       "      <th>119</th>\n",
       "      <td>https://greenwald.substack.com/p/nancy-and-pau...</td>\n",
       "      <td>0.11</td>\n",
       "      <td>Neutral Positive</td>\n",
       "      <td>0.43</td>\n",
       "      <td>major, exact, powerful, highly, frequently, et...</td>\n",
       "      <td>illegal, disturbing, less, blatant, secret, wr...</td>\n",
       "      <td>u.s. house of representatives minority leader ...</td>\n",
       "      <td>[(9, 0.998646)]</td>\n",
       "      <td>9</td>\n",
       "      <td>0.998646</td>\n",
       "      <td>[stock, trade, company, share, trading, call, ...</td>\n",
       "      <td>greenwald.substack.com</td>\n",
       "    </tr>\n",
       "    <tr>\n",
       "      <th>220</th>\n",
       "      <td>https://www.businessinsider.com/stock-ban-cong...</td>\n",
       "      <td>0.07</td>\n",
       "      <td>Neutral Positive</td>\n",
       "      <td>0.42</td>\n",
       "      <td>major, favorite, many, certain, personally, mo...</td>\n",
       "      <td>common, minimal, mess, single, past, less, few...</td>\n",
       "      <td>congressional leaders are moving forward with ...</td>\n",
       "      <td>[(9, 0.99876654)]</td>\n",
       "      <td>9</td>\n",
       "      <td>0.998767</td>\n",
       "      <td>[stock, trade, company, share, trading, call, ...</td>\n",
       "      <td>www.businessinsider.com</td>\n",
       "    </tr>\n",
       "  </tbody>\n",
       "</table>\n",
       "<p>108 rows × 12 columns</p>\n",
       "</div>"
      ],
      "text/plain": [
       "                                                   URL  Sentiment Score  \\\n",
       "154                            https://buff.ly/3Oj9cgU             0.13   \n",
       "50                             https://trib.al/LJwJMRl            -0.01   \n",
       "43          https://en.wikipedia.org/wiki/Feme_murders            -0.04   \n",
       "195               https://l.smartnews.com/PpUqD/PgSgPw             0.10   \n",
       "213  https://punchbowl.news/archive/11722-punchbowl...             0.07   \n",
       "..                                                 ...              ...   \n",
       "61   https://www.nytimes.com/2022/11/06/technology/...             0.05   \n",
       "137  https://seekingalpha.com/article/4534829-tradi...             0.13   \n",
       "253               https://share.newsbreak.com/2bajighl             0.07   \n",
       "119  https://greenwald.substack.com/p/nancy-and-pau...             0.11   \n",
       "220  https://www.businessinsider.com/stock-ban-cong...             0.07   \n",
       "\n",
       "      Sentiment Label  Subjectivity Score  \\\n",
       "154  Neutral Positive                0.49   \n",
       "50   Neutral Negative                0.48   \n",
       "43   Neutral Negative                0.30   \n",
       "195  Neutral Positive                0.38   \n",
       "213  Neutral Positive                0.41   \n",
       "..                ...                 ...   \n",
       "61   Neutral Positive                0.31   \n",
       "137  Neutral Positive                0.43   \n",
       "253  Neutral Positive                0.39   \n",
       "119  Neutral Positive                0.43   \n",
       "220  Neutral Positive                0.42   \n",
       "\n",
       "                                        Positive Words  \\\n",
       "154  wants, nice, powerful, developed, boldly, impo...   \n",
       "50   win, new, early, primarily, advanced, whole, l...   \n",
       "43   far, early, social, own, special, near, not, n...   \n",
       "195  many, calm, much, social, actually, more, youn...   \n",
       "213  fresh, new, social, frequent, special, directl...   \n",
       "..                                                 ...   \n",
       "61   mostly, new, social, original, straight, more,...   \n",
       "137  exact, win, many, directly, best, highly, grea...   \n",
       "253  worth, many, easily, affirmative, original, ad...   \n",
       "119  major, exact, powerful, highly, frequently, et...   \n",
       "220  major, favorite, many, certain, personally, mo...   \n",
       "\n",
       "                                        Negative Words  \\\n",
       "154  plain, violent, corrupt, random, very, cutting...   \n",
       "50   black, misplaced, behind, unilaterally, unnece...   \n",
       "43   inconvenient, behind, unexplained, victim, mer...   \n",
       "195             distasteful, spent, alarming, obsessed   \n",
       "213                                        small, down   \n",
       "..                                                 ...   \n",
       "61   sharply, propaganda, other, military, narrowly...   \n",
       "137  firm, worse, missing, usually, not, roughly, p...   \n",
       "253  sharply, blind, remote, previous, least, guilt...   \n",
       "119  illegal, disturbing, less, blatant, secret, wr...   \n",
       "220  common, minimal, mess, single, past, less, few...   \n",
       "\n",
       "                                                  Text  \\\n",
       "154  highlighted passages are false or inaccurate. ...   \n",
       "50   house speaker nancy pelosi barred republicans ...   \n",
       "43   series of murders in germany from 1919 to 1923...   \n",
       "195  washington — a far-right extremist charged wit...   \n",
       "213  punchbowl news am\\npunchbowl news am our flags...   \n",
       "..                                                 ...   \n",
       "61   follow our live coverage of the 2022 midterm e...   \n",
       "137  chip somodevilla/getty images news\\nthe questi...   \n",
       "253  paul pelosi and house speaker nancy pelosi in ...   \n",
       "119  u.s. house of representatives minority leader ...   \n",
       "220  congressional leaders are moving forward with ...   \n",
       "\n",
       "                                                Topics  Main Topic  \\\n",
       "154                                    [(0, 0.999708)]           0   \n",
       "50   [(0, 0.4864267), (1, 0.12326269), (8, 0.388630...           0   \n",
       "43                  [(0, 0.9830634), (8, 0.015390911)]           0   \n",
       "195                   [(0, 0.5599509), (8, 0.4369091)]           0   \n",
       "213                                  [(0, 0.99460745)]           0   \n",
       "..                                                 ...         ...   \n",
       "61                  [(8, 0.06456645), (9, 0.92691696)]           9   \n",
       "137                                   [(9, 0.9991601)]           9   \n",
       "253                                  [(9, 0.99864423)]           9   \n",
       "119                                    [(9, 0.998646)]           9   \n",
       "220                                  [(9, 0.99876654)]           9   \n",
       "\n",
       "     Main Topic Score                                   Associated Words  \\\n",
       "154          0.999708  [say, country, go, great, get, people, take, y...   \n",
       "50           0.486427  [say, country, go, great, get, people, take, y...   \n",
       "43           0.983063  [say, country, go, great, get, people, take, y...   \n",
       "195          0.559951  [say, country, go, great, get, people, take, y...   \n",
       "213          0.994607  [say, country, go, great, get, people, take, y...   \n",
       "..                ...                                                ...   \n",
       "61           0.926917  [stock, trade, company, share, trading, call, ...   \n",
       "137          0.999160  [stock, trade, company, share, trading, call, ...   \n",
       "253          0.998644  [stock, trade, company, share, trading, call, ...   \n",
       "119          0.998646  [stock, trade, company, share, trading, call, ...   \n",
       "220          0.998767  [stock, trade, company, share, trading, call, ...   \n",
       "\n",
       "           Shortened Address  \n",
       "154                  buff.ly  \n",
       "50                   trib.al  \n",
       "43          en.wikipedia.org  \n",
       "195          l.smartnews.com  \n",
       "213           punchbowl.news  \n",
       "..                       ...  \n",
       "61           www.nytimes.com  \n",
       "137         seekingalpha.com  \n",
       "253      share.newsbreak.com  \n",
       "119   greenwald.substack.com  \n",
       "220  www.businessinsider.com  \n",
       "\n",
       "[108 rows x 12 columns]"
      ]
     },
     "execution_count": 13,
     "metadata": {},
     "output_type": "execute_result"
    }
   ],
   "source": [
    "#This generates our dataframe of per-topic sentiment and relevancy for all articles\n",
    "df_topics = generate_topic_relevancy_dataframe(LDA_model)\n",
    "\n",
    "#Generate our per-topic dataframe\n",
    "#FORMAT IS (SENTIMENT, RELEVANCY)\n",
    "per_topic_df = create_per_topic_tuple_df(topic_level_sentiment, df_topics)\n",
    "\n",
    "#This generates a dataframe ready to use with our data visualizations (includes some extra information)\n",
    "#This sorts our dataframe so must go last\n",
    "df = preprocess_dataframe_for_datavis(df, LDA_model, corpus)\n",
    "\n",
    "df\n",
    "#per_topic_df"
   ]
  },
  {
   "cell_type": "markdown",
   "id": "1a7d0141",
   "metadata": {},
   "source": [
    "## Data Visualization Settings"
   ]
  },
  {
   "cell_type": "markdown",
   "id": "1a648113",
   "metadata": {},
   "source": [
    "Here are the customizable settings for our data visualization section. Since these settings only affect how the data will be visualized, you can rerun the pipeline from this point down without rerunning any of the previous steps. This is recommended if you want to see different parameters for the settings visualized on the same data and LDA model."
   ]
  },
  {
   "cell_type": "code",
   "execution_count": 14,
   "id": "fffb7bbc",
   "metadata": {},
   "outputs": [],
   "source": [
    "#DATA VISUALIZATION SETTINGS\n",
    "#(starts at topic 0) set this list to every topic number you want displayed individually\n",
    "list_of_topics_to_visualize = [0,1,8]\n",
    "\n",
    "#this is the settings dictionary for our k-means cluster generation. max_clusters is used in our inertia visualization,\n",
    "#while num_clusters is our actual cluster count to use and pca_components is the PCA component count that we use in both\n",
    "#the visualization of inertia as well as our actual clustering model.\n",
    "kmeans_settings = {\"max_clusters\": 10, \"num_clusters\": 9, \"pca_components\": 5}\n"
   ]
  },
  {
   "cell_type": "markdown",
   "id": "9587fb26",
   "metadata": {},
   "source": [
    "## Visualize all articles on their main topic"
   ]
  },
  {
   "cell_type": "code",
   "execution_count": 17,
   "id": "f85d1cda",
   "metadata": {
    "scrolled": false
   },
   "outputs": [
    {
     "data": {
      "application/vnd.plotly.v1+json": {
       "config": {
        "plotlyServerURL": "https://plot.ly"
       },
       "data": [
        {
         "customdata": [
          [
           [
            "say",
            "country",
            "go",
            "great",
            "get",
            "people",
            "take",
            "year",
            "come",
            "thing"
           ],
           "buff.ly",
           "Neutral Positive",
           0.9997079968452454
          ],
          [
           [
            "say",
            "country",
            "go",
            "great",
            "get",
            "people",
            "take",
            "year",
            "come",
            "thing"
           ],
           "trib.al",
           "Neutral Negative",
           0.4864267110824585
          ],
          [
           [
            "say",
            "country",
            "go",
            "great",
            "get",
            "people",
            "take",
            "year",
            "come",
            "thing"
           ],
           "en.wikipedia.org",
           "Neutral Negative",
           0.9830633997917175
          ],
          [
           [
            "say",
            "country",
            "go",
            "great",
            "get",
            "people",
            "take",
            "year",
            "come",
            "thing"
           ],
           "l.smartnews.com",
           "Neutral Positive",
           0.5599508881568909
          ],
          [
           [
            "say",
            "country",
            "go",
            "great",
            "get",
            "people",
            "take",
            "year",
            "come",
            "thing"
           ],
           "punchbowl.news",
           "Neutral Positive",
           0.9946074485778809
          ],
          [
           [
            "say",
            "country",
            "go",
            "great",
            "get",
            "people",
            "take",
            "year",
            "come",
            "thing"
           ],
           "people.com",
           "Neutral Negative",
           0.8380679488182068
          ],
          [
           [
            "say",
            "country",
            "go",
            "great",
            "get",
            "people",
            "take",
            "year",
            "come",
            "thing"
           ],
           "cna.asia",
           "Neutral Positive",
           0.7195017337799072
          ],
          [
           [
            "say",
            "country",
            "go",
            "great",
            "get",
            "people",
            "take",
            "year",
            "come",
            "thing"
           ],
           "4imag.com",
           "Positive",
           0.6179295182228088
          ],
          [
           [
            "say",
            "country",
            "go",
            "great",
            "get",
            "people",
            "take",
            "year",
            "come",
            "thing"
           ],
           "wapo.st",
           "Neutral Positive",
           0.5485929846763611
          ],
          [
           [
            "say",
            "country",
            "go",
            "great",
            "get",
            "people",
            "take",
            "year",
            "come",
            "thing"
           ],
           "nyti.ms",
           "Neutral Positive",
           0.9997079968452454
          ],
          [
           [
            "say",
            "country",
            "go",
            "great",
            "get",
            "people",
            "take",
            "year",
            "come",
            "thing"
           ],
           "www.nbcnews.com",
           "Neutral Negative",
           0.9383198618888855
          ],
          [
           [
            "say",
            "speaker",
            "leader",
            "new",
            "year",
            "democratic",
            "leadership",
            "house",
            "election",
            "seek"
           ],
           "www.jihadwatch.org",
           "Negative",
           0.6474003791809082
          ],
          [
           [
            "say",
            "speaker",
            "leader",
            "new",
            "year",
            "democratic",
            "leadership",
            "house",
            "election",
            "seek"
           ],
           "wjactv.com",
           "Neutral Positive",
           0.9980599880218506
          ],
          [
           [
            "say",
            "speaker",
            "leader",
            "new",
            "year",
            "democratic",
            "leadership",
            "house",
            "election",
            "seek"
           ],
           "open.substack.com",
           "Positive",
           0.9956672191619873
          ],
          [
           [
            "say",
            "speaker",
            "leader",
            "new",
            "year",
            "democratic",
            "leadership",
            "house",
            "election",
            "seek"
           ],
           "www.wkyt.com",
           "Neutral Positive",
           0.9982067346572876
          ],
          [
           [
            "say",
            "speaker",
            "leader",
            "new",
            "year",
            "democratic",
            "leadership",
            "house",
            "election",
            "seek"
           ],
           "www.ncronline.org",
           "Neutral Positive",
           0.9970569014549255
          ],
          [
           [
            "say",
            "speaker",
            "leader",
            "new",
            "year",
            "democratic",
            "leadership",
            "house",
            "election",
            "seek"
           ],
           "www.dailykos.com",
           "Neutral Negative",
           0.9989551901817322
          ],
          [
           [
            "say",
            "speaker",
            "leader",
            "new",
            "year",
            "democratic",
            "leadership",
            "house",
            "election",
            "seek"
           ],
           "ow.ly",
           "Neutral Positive",
           0.9972797632217407
          ],
          [
           [
            "say",
            "speaker",
            "leader",
            "new",
            "year",
            "democratic",
            "leadership",
            "house",
            "election",
            "seek"
           ],
           "trib.al",
           "Positive",
           0.254085510969162
          ],
          [
           [
            "say",
            "speaker",
            "leader",
            "new",
            "year",
            "democratic",
            "leadership",
            "house",
            "election",
            "seek"
           ],
           "time.com",
           "Neutral Positive",
           0.996772289276123
          ],
          [
           [
            "say",
            "speaker",
            "leader",
            "new",
            "year",
            "democratic",
            "leadership",
            "house",
            "election",
            "seek"
           ],
           "www.washingtontimes.com",
           "Positive",
           0.9943370819091797
          ],
          [
           [
            "say",
            "speaker",
            "leader",
            "new",
            "year",
            "democratic",
            "leadership",
            "house",
            "election",
            "seek"
           ],
           "lakegenevanews.net",
           "Neutral Positive",
           0.551344633102417
          ],
          [
           [
            "say",
            "speaker",
            "leader",
            "new",
            "year",
            "democratic",
            "leadership",
            "house",
            "election",
            "seek"
           ],
           "www.dailykos.com",
           "Neutral Negative",
           0.9494895339012146
          ],
          [
           [
            "say",
            "speaker",
            "leader",
            "new",
            "year",
            "democratic",
            "leadership",
            "house",
            "election",
            "seek"
           ],
           "welovetrump.com",
           "Positive",
           0.7263126969337463
          ],
          [
           [
            "say",
            "speaker",
            "leader",
            "new",
            "year",
            "democratic",
            "leadership",
            "house",
            "election",
            "seek"
           ],
           "nbcbay.com",
           "Neutral Positive",
           0.9223995804786682
          ],
          [
           [
            "say",
            "speaker",
            "leader",
            "new",
            "year",
            "democratic",
            "leadership",
            "house",
            "election",
            "seek"
           ],
           "ift.tt",
           "Neutral Negative",
           0.9979345202445984
          ],
          [
           [
            "say",
            "speaker",
            "leader",
            "new",
            "year",
            "democratic",
            "leadership",
            "house",
            "election",
            "seek"
           ],
           "fee.org",
           "Positive",
           0.9974047541618347
          ],
          [
           [
            "say",
            "speaker",
            "leader",
            "new",
            "year",
            "democratic",
            "leadership",
            "house",
            "election",
            "seek"
           ],
           "bit.ly",
           "Neutral Positive",
           0.9982067942619324
          ],
          [
           [
            "vote",
            "house",
            "speaker",
            "year",
            "election",
            "lead",
            "impeachment",
            "get",
            "pm",
            "trump"
           ],
           "go.shr.lc",
           "Neutral Positive",
           0.998195469379425
          ],
          [
           [
            "vote",
            "house",
            "speaker",
            "year",
            "election",
            "lead",
            "impeachment",
            "get",
            "pm",
            "trump"
           ],
           "www.theyeshivaworld.com",
           "Neutral Positive",
           0.5189745426177979
          ],
          [
           [
            "vote",
            "house",
            "speaker",
            "year",
            "election",
            "lead",
            "impeachment",
            "get",
            "pm",
            "trump"
           ],
           "prada.substack.com",
           "Neutral Positive",
           0.9992052912712097
          ],
          [
           [
            "vote",
            "house",
            "speaker",
            "year",
            "election",
            "lead",
            "impeachment",
            "get",
            "pm",
            "trump"
           ],
           "www.msnbc.com",
           "Neutral Positive",
           0.9977602958679199
          ],
          [
           [
            "vote",
            "house",
            "speaker",
            "year",
            "election",
            "lead",
            "impeachment",
            "get",
            "pm",
            "trump"
           ],
           "www.mediaite.com",
           "Neutral Positive",
           0.45040419697761536
          ],
          [
           [
            "vote",
            "house",
            "speaker",
            "year",
            "election",
            "lead",
            "impeachment",
            "get",
            "pm",
            "trump"
           ],
           "theshahab.com",
           "Neutral Positive",
           0.9405761361122131
          ],
          [
           [
            "vote",
            "house",
            "speaker",
            "year",
            "election",
            "lead",
            "impeachment",
            "get",
            "pm",
            "trump"
           ],
           "www.cbc.ca",
           "Neutral Positive",
           0.9953581094741821
          ],
          [
           [
            "political",
            "violence",
            "say",
            "slavery",
            "right",
            "house",
            "vote",
            "attack",
            "police",
            "many"
           ],
           "www.politico.com",
           "Neutral Positive",
           0.999115526676178
          ],
          [
           [
            "political",
            "violence",
            "say",
            "slavery",
            "right",
            "house",
            "vote",
            "attack",
            "police",
            "many"
           ],
           "www.foxnews.com",
           "Neutral Positive",
           0.8434255719184875
          ],
          [
           [
            "political",
            "violence",
            "say",
            "slavery",
            "right",
            "house",
            "vote",
            "attack",
            "police",
            "many"
           ],
           "twitchy.com",
           "Positive",
           0.8418723344802856
          ],
          [
           [
            "political",
            "violence",
            "say",
            "slavery",
            "right",
            "house",
            "vote",
            "attack",
            "police",
            "many"
           ],
           "dlvr.it",
           "Neutral",
           0.9657709002494812
          ],
          [
           [
            "political",
            "violence",
            "say",
            "slavery",
            "right",
            "house",
            "vote",
            "attack",
            "police",
            "many"
           ],
           "zpr.io",
           "Neutral Positive",
           0.9896869659423828
          ],
          [
           [
            "political",
            "violence",
            "say",
            "slavery",
            "right",
            "house",
            "vote",
            "attack",
            "police",
            "many"
           ],
           "ijr.com",
           "Neutral Positive",
           0.604709804058075
          ],
          [
           [
            "political",
            "violence",
            "say",
            "slavery",
            "right",
            "house",
            "vote",
            "attack",
            "police",
            "many"
           ],
           "www.cbsnews.com",
           "Neutral Positive",
           0.9959076046943665
          ],
          [
           [
            "political",
            "violence",
            "say",
            "slavery",
            "right",
            "house",
            "vote",
            "attack",
            "police",
            "many"
           ],
           "www.newsbreakapp.com",
           "Neutral Positive",
           0.8047794699668884
          ],
          [
           [
            "political",
            "violence",
            "say",
            "slavery",
            "right",
            "house",
            "vote",
            "attack",
            "police",
            "many"
           ],
           "www.sonsof1776.com",
           "Neutral Negative",
           0.9953101873397827
          ],
          [
           [
            "protection",
            "que",
            "say",
            "make",
            "church",
            "campaign",
            "remark",
            "pray",
            "catholic",
            "lake"
           ],
           "l.smartnews.com",
           "Neutral Positive",
           0.9943020939826965
          ],
          [
           [
            "protection",
            "que",
            "say",
            "make",
            "church",
            "campaign",
            "remark",
            "pray",
            "catholic",
            "lake"
           ],
           "dlvr.it",
           "Neutral Negative",
           0.9823487997055054
          ],
          [
           [
            "protection",
            "que",
            "say",
            "make",
            "church",
            "campaign",
            "remark",
            "pray",
            "catholic",
            "lake"
           ],
           "www.elespanol.com",
           "Negative",
           0.9852423667907715
          ],
          [
           [
            "protection",
            "que",
            "say",
            "make",
            "church",
            "campaign",
            "remark",
            "pray",
            "catholic",
            "lake"
           ],
           "altanto.com.do",
           "Neutral Negative",
           0.969993531703949
          ],
          [
           [
            "protection",
            "que",
            "say",
            "make",
            "church",
            "campaign",
            "remark",
            "pray",
            "catholic",
            "lake"
           ],
           "www.thecatholicmonitor.com",
           "Positive",
           0.997599184513092
          ],
          [
           [
            "say",
            "break",
            "conspiracy",
            "right",
            "know",
            "police",
            "people",
            "medium",
            "theory",
            "election"
           ],
           "trib.al",
           "Neutral Negative",
           0.9980596899986267
          ],
          [
           [
            "say",
            "break",
            "conspiracy",
            "right",
            "know",
            "police",
            "people",
            "medium",
            "theory",
            "election"
           ],
           "www.nytimes.com",
           "Negative",
           0.9936595559120178
          ],
          [
           [
            "say",
            "break",
            "conspiracy",
            "right",
            "know",
            "police",
            "people",
            "medium",
            "theory",
            "election"
           ],
           "www.smobserved.com",
           "Neutral Positive",
           0.724658191204071
          ],
          [
           [
            "say",
            "break",
            "conspiracy",
            "right",
            "know",
            "police",
            "people",
            "medium",
            "theory",
            "election"
           ],
           "www.sfgate.com",
           "Neutral",
           0.611592710018158
          ],
          [
           [
            "say",
            "break",
            "conspiracy",
            "right",
            "know",
            "police",
            "people",
            "medium",
            "theory",
            "election"
           ],
           "soundcloud.com",
           "Neutral Positive",
           0.9938754439353943
          ],
          [
           [
            "say",
            "depape",
            "attack",
            "home",
            "live",
            "see",
            "father",
            "post",
            "make",
            "neighbor"
           ],
           "meaww.com",
           "Positive",
           0.6114240884780884
          ],
          [
           [
            "say",
            "depape",
            "attack",
            "home",
            "live",
            "see",
            "father",
            "post",
            "make",
            "neighbor"
           ],
           "trib.al",
           "Neutral Positive",
           0.9952806830406189
          ],
          [
           [
            "say",
            "depape",
            "attack",
            "home",
            "live",
            "see",
            "father",
            "post",
            "make",
            "neighbor"
           ],
           "nbcbayarea.com",
           "Neutral Negative",
           0.9958704113960266
          ],
          [
           [
            "say",
            "depape",
            "attack",
            "home",
            "live",
            "see",
            "father",
            "post",
            "make",
            "neighbor"
           ],
           "www.diariodenavarra.es",
           "Positive",
           0.9873208999633789
          ],
          [
           [
            "censorship",
            "por",
            "study",
            "respondent",
            "use",
            "tactic",
            "doctor",
            "information",
            "medical",
            "scientific"
           ],
           "link.springer.com",
           "Neutral Positive",
           0.999359667301178
          ],
          [
           [
            "censorship",
            "por",
            "study",
            "respondent",
            "use",
            "tactic",
            "doctor",
            "information",
            "medical",
            "scientific"
           ],
           "eltiempomonclova.mx",
           "Positive",
           0.9907186031341553
          ],
          [
           [
            "censorship",
            "por",
            "study",
            "respondent",
            "use",
            "tactic",
            "doctor",
            "information",
            "medical",
            "scientific"
           ],
           "buff.ly",
           "Negative",
           0.998181164264679
          ],
          [
           [
            "say",
            "attack",
            "depape",
            "police",
            "speaker",
            "home",
            "tell",
            "break",
            "year",
            "house"
           ],
           "www.newsmax.com",
           "Negative",
           0.771199643611908
          ],
          [
           [
            "say",
            "attack",
            "depape",
            "police",
            "speaker",
            "home",
            "tell",
            "break",
            "year",
            "house"
           ],
           "nationalfile.com",
           "Neutral Positive",
           0.6827574372291565
          ],
          [
           [
            "say",
            "attack",
            "depape",
            "police",
            "speaker",
            "home",
            "tell",
            "break",
            "year",
            "house"
           ],
           "www.theepochtimes.com",
           "Neutral Negative",
           0.9966282248497009
          ],
          [
           [
            "say",
            "attack",
            "depape",
            "police",
            "speaker",
            "home",
            "tell",
            "break",
            "year",
            "house"
           ],
           "nbcnews.to",
           "Neutral Negative",
           0.9959080219268799
          ],
          [
           [
            "say",
            "attack",
            "depape",
            "police",
            "speaker",
            "home",
            "tell",
            "break",
            "year",
            "house"
           ],
           "www.independent.co.uk",
           "Neutral Negative",
           0.9932820796966553
          ],
          [
           [
            "say",
            "attack",
            "depape",
            "police",
            "speaker",
            "home",
            "tell",
            "break",
            "year",
            "house"
           ],
           "dlvr.it",
           "Positive",
           0.8354315757751465
          ],
          [
           [
            "say",
            "attack",
            "depape",
            "police",
            "speaker",
            "home",
            "tell",
            "break",
            "year",
            "house"
           ],
           "www.newsbreakapp.com",
           "Neutral Negative",
           0.46310168504714966
          ],
          [
           [
            "say",
            "attack",
            "depape",
            "police",
            "speaker",
            "home",
            "tell",
            "break",
            "year",
            "house"
           ],
           "flip.it",
           "Neutral Positive",
           0.9955863952636719
          ],
          [
           [
            "say",
            "attack",
            "depape",
            "police",
            "speaker",
            "home",
            "tell",
            "break",
            "year",
            "house"
           ],
           "www.courttv.com",
           "Negative",
           0.994576632976532
          ],
          [
           [
            "say",
            "attack",
            "depape",
            "police",
            "speaker",
            "home",
            "tell",
            "break",
            "year",
            "house"
           ],
           "tinyurl.com",
           "Neutral Negative",
           0.615670919418335
          ],
          [
           [
            "say",
            "attack",
            "depape",
            "police",
            "speaker",
            "home",
            "tell",
            "break",
            "year",
            "house"
           ],
           "www.nbcnews.com",
           "Neutral Positive",
           0.9931250214576721
          ],
          [
           [
            "say",
            "attack",
            "depape",
            "police",
            "speaker",
            "home",
            "tell",
            "break",
            "year",
            "house"
           ],
           "flip.it",
           "Neutral Positive",
           0.6399207711219788
          ],
          [
           [
            "say",
            "attack",
            "depape",
            "police",
            "speaker",
            "home",
            "tell",
            "break",
            "year",
            "house"
           ],
           "ca.news.yahoo.com",
           "Neutral Positive",
           0.995261549949646
          ],
          [
           [
            "say",
            "attack",
            "depape",
            "police",
            "speaker",
            "home",
            "tell",
            "break",
            "year",
            "house"
           ],
           "buff.ly",
           "Neutral Positive",
           0.9975990056991577
          ],
          [
           [
            "say",
            "attack",
            "depape",
            "police",
            "speaker",
            "home",
            "tell",
            "break",
            "year",
            "house"
           ],
           "www.kosu.org",
           "Neutral Negative",
           0.9953107237815857
          ],
          [
           [
            "say",
            "attack",
            "depape",
            "police",
            "speaker",
            "home",
            "tell",
            "break",
            "year",
            "house"
           ],
           "news.yahoo.com",
           "Negative",
           0.9947042465209961
          ],
          [
           [
            "say",
            "attack",
            "depape",
            "police",
            "speaker",
            "home",
            "tell",
            "break",
            "year",
            "house"
           ],
           "www.cnn.com",
           "Neutral",
           0.5200889706611633
          ],
          [
           [
            "say",
            "attack",
            "depape",
            "police",
            "speaker",
            "home",
            "tell",
            "break",
            "year",
            "house"
           ],
           "www.nbcnews.com",
           "Neutral Positive",
           0.6270852088928223
          ],
          [
           [
            "say",
            "attack",
            "depape",
            "police",
            "speaker",
            "home",
            "tell",
            "break",
            "year",
            "house"
           ],
           "www.audacy.com",
           "Neutral Negative",
           0.9683024287223816
          ],
          [
           [
            "say",
            "attack",
            "depape",
            "police",
            "speaker",
            "home",
            "tell",
            "break",
            "year",
            "house"
           ],
           "rollingstone.com",
           "Neutral Negative",
           0.9970767498016357
          ],
          [
           [
            "say",
            "attack",
            "depape",
            "police",
            "speaker",
            "home",
            "tell",
            "break",
            "year",
            "house"
           ],
           "www.independent.co.uk",
           "Negative",
           0.5953205823898315
          ],
          [
           [
            "say",
            "attack",
            "depape",
            "police",
            "speaker",
            "home",
            "tell",
            "break",
            "year",
            "house"
           ],
           "politi.co",
           "Neutral Positive",
           0.6131578087806702
          ],
          [
           [
            "say",
            "attack",
            "depape",
            "police",
            "speaker",
            "home",
            "tell",
            "break",
            "year",
            "house"
           ],
           "www.latimes.com",
           "Neutral Positive",
           0.9984791278839111
          ],
          [
           [
            "say",
            "attack",
            "depape",
            "police",
            "speaker",
            "home",
            "tell",
            "break",
            "year",
            "house"
           ],
           "dlvr.it",
           "Neutral Negative",
           0.997185468673706
          ],
          [
           [
            "say",
            "attack",
            "depape",
            "police",
            "speaker",
            "home",
            "tell",
            "break",
            "year",
            "house"
           ],
           "ugnews24.info",
           "Neutral Positive",
           0.7727116346359253
          ],
          [
           [
            "say",
            "attack",
            "depape",
            "police",
            "speaker",
            "home",
            "tell",
            "break",
            "year",
            "house"
           ],
           "www.thenewcivilrightsmovement.com",
           "Neutral Negative",
           0.9954758882522583
          ],
          [
           [
            "say",
            "attack",
            "depape",
            "police",
            "speaker",
            "home",
            "tell",
            "break",
            "year",
            "house"
           ],
           "www.nytimes.com",
           "Neutral Negative",
           0.38718265295028687
          ],
          [
           [
            "say",
            "attack",
            "depape",
            "police",
            "speaker",
            "home",
            "tell",
            "break",
            "year",
            "house"
           ],
           "www.nbcnews.com",
           "Neutral Negative",
           0.9978306293487549
          ],
          [
           [
            "say",
            "attack",
            "depape",
            "police",
            "speaker",
            "home",
            "tell",
            "break",
            "year",
            "house"
           ],
           "www.independent.co.uk",
           "Negative",
           0.9960506558418274
          ],
          [
           [
            "say",
            "attack",
            "depape",
            "police",
            "speaker",
            "home",
            "tell",
            "break",
            "year",
            "house"
           ],
           "ift.tt",
           "Neutral Positive",
           0.9923051595687866
          ],
          [
           [
            "say",
            "attack",
            "depape",
            "police",
            "speaker",
            "home",
            "tell",
            "break",
            "year",
            "house"
           ],
           "bismarcktribune.com",
           "Neutral",
           0.988886296749115
          ],
          [
           [
            "say",
            "attack",
            "depape",
            "police",
            "speaker",
            "home",
            "tell",
            "break",
            "year",
            "house"
           ],
           "www.whas11.com",
           "Neutral Positive",
           0.957658052444458
          ],
          [
           [
            "say",
            "attack",
            "depape",
            "police",
            "speaker",
            "home",
            "tell",
            "break",
            "year",
            "house"
           ],
           "on.tnr.com",
           "Neutral Positive",
           0.6043822765350342
          ],
          [
           [
            "say",
            "attack",
            "depape",
            "police",
            "speaker",
            "home",
            "tell",
            "break",
            "year",
            "house"
           ],
           "www.dailymail.co.uk",
           "Neutral Positive",
           0.9986680746078491
          ],
          [
           [
            "say",
            "attack",
            "depape",
            "police",
            "speaker",
            "home",
            "tell",
            "break",
            "year",
            "house"
           ],
           "www.msnbc.com",
           "Negative",
           0.4671204686164856
          ],
          [
           [
            "say",
            "attack",
            "depape",
            "police",
            "speaker",
            "home",
            "tell",
            "break",
            "year",
            "house"
           ],
           "www.theepochtimes.com",
           "Neutral Positive",
           0.9964963793754578
          ],
          [
           [
            "say",
            "attack",
            "depape",
            "police",
            "speaker",
            "home",
            "tell",
            "break",
            "year",
            "house"
           ],
           "NBC11NEWS.com",
           "Neutral Negative",
           0.9973825812339783
          ],
          [
           [
            "say",
            "attack",
            "depape",
            "police",
            "speaker",
            "home",
            "tell",
            "break",
            "year",
            "house"
           ],
           "l.smartnews.com",
           "Negative",
           0.9969579577445984
          ],
          [
           [
            "say",
            "attack",
            "depape",
            "police",
            "speaker",
            "home",
            "tell",
            "break",
            "year",
            "house"
           ],
           "crooksandliars.com",
           "Negative",
           0.6928973197937012
          ],
          [
           [
            "say",
            "attack",
            "depape",
            "police",
            "speaker",
            "home",
            "tell",
            "break",
            "year",
            "house"
           ],
           "www.newsnationnow.com",
           "Neutral",
           0.9937914609909058
          ],
          [
           [
            "stock",
            "trade",
            "company",
            "share",
            "trading",
            "call",
            "option",
            "bill",
            "member",
            "sell"
           ],
           "dlvr.it",
           "Neutral Negative",
           0.994575023651123
          ],
          [
           [
            "stock",
            "trade",
            "company",
            "share",
            "trading",
            "call",
            "option",
            "bill",
            "member",
            "sell"
           ],
           "www.dailymail.co.uk",
           "Neutral Negative",
           0.8546101450920105
          ],
          [
           [
            "stock",
            "trade",
            "company",
            "share",
            "trading",
            "call",
            "option",
            "bill",
            "member",
            "sell"
           ],
           "www.nytimes.com",
           "Neutral Positive",
           0.9269169569015503
          ],
          [
           [
            "stock",
            "trade",
            "company",
            "share",
            "trading",
            "call",
            "option",
            "bill",
            "member",
            "sell"
           ],
           "seekingalpha.com",
           "Neutral Positive",
           0.99916011095047
          ],
          [
           [
            "stock",
            "trade",
            "company",
            "share",
            "trading",
            "call",
            "option",
            "bill",
            "member",
            "sell"
           ],
           "share.newsbreak.com",
           "Neutral Positive",
           0.998644232749939
          ],
          [
           [
            "stock",
            "trade",
            "company",
            "share",
            "trading",
            "call",
            "option",
            "bill",
            "member",
            "sell"
           ],
           "greenwald.substack.com",
           "Neutral Positive",
           0.9986460208892822
          ],
          [
           [
            "stock",
            "trade",
            "company",
            "share",
            "trading",
            "call",
            "option",
            "bill",
            "member",
            "sell"
           ],
           "www.businessinsider.com",
           "Neutral Positive",
           0.9987665414810181
          ]
         ],
         "hovertemplate": "Associated Words: %{customdata[0]}<br>Address: %{customdata[1]}<br>Sentiment Label: %{customdata[2]}<br>Main Topic Score :%{customdata[3]}",
         "legendgroup": "",
         "marker": {
          "color": "#636efa",
          "size": [
           0.9997079968452454,
           0.4864267110824585,
           0.9830633997917175,
           0.5599508881568909,
           0.9946074485778809,
           0.8380679488182068,
           0.7195017337799072,
           0.6179295182228088,
           0.5485929846763611,
           0.9997079968452454,
           0.9383198618888855,
           0.6474003791809082,
           0.9980599880218506,
           0.9956672191619873,
           0.9982067346572876,
           0.9970569014549255,
           0.9989551901817322,
           0.9972797632217407,
           0.254085510969162,
           0.996772289276123,
           0.9943370819091797,
           0.551344633102417,
           0.9494895339012146,
           0.7263126969337463,
           0.9223995804786682,
           0.9979345202445984,
           0.9974047541618347,
           0.9982067942619324,
           0.998195469379425,
           0.5189745426177979,
           0.9992052912712097,
           0.9977602958679199,
           0.45040419697761536,
           0.9405761361122131,
           0.9953581094741821,
           0.999115526676178,
           0.8434255719184875,
           0.8418723344802856,
           0.9657709002494812,
           0.9896869659423828,
           0.604709804058075,
           0.9959076046943665,
           0.8047794699668884,
           0.9953101873397827,
           0.9943020939826965,
           0.9823487997055054,
           0.9852423667907715,
           0.969993531703949,
           0.997599184513092,
           0.9980596899986267,
           0.9936595559120178,
           0.724658191204071,
           0.611592710018158,
           0.9938754439353943,
           0.6114240884780884,
           0.9952806830406189,
           0.9958704113960266,
           0.9873208999633789,
           0.999359667301178,
           0.9907186031341553,
           0.998181164264679,
           0.771199643611908,
           0.6827574372291565,
           0.9966282248497009,
           0.9959080219268799,
           0.9932820796966553,
           0.8354315757751465,
           0.46310168504714966,
           0.9955863952636719,
           0.994576632976532,
           0.615670919418335,
           0.9931250214576721,
           0.6399207711219788,
           0.995261549949646,
           0.9975990056991577,
           0.9953107237815857,
           0.9947042465209961,
           0.5200889706611633,
           0.6270852088928223,
           0.9683024287223816,
           0.9970767498016357,
           0.5953205823898315,
           0.6131578087806702,
           0.9984791278839111,
           0.997185468673706,
           0.7727116346359253,
           0.9954758882522583,
           0.38718265295028687,
           0.9978306293487549,
           0.9960506558418274,
           0.9923051595687866,
           0.988886296749115,
           0.957658052444458,
           0.6043822765350342,
           0.9986680746078491,
           0.4671204686164856,
           0.9964963793754578,
           0.9973825812339783,
           0.9969579577445984,
           0.6928973197937012,
           0.9937914609909058,
           0.994575023651123,
           0.8546101450920105,
           0.9269169569015503,
           0.99916011095047,
           0.998644232749939,
           0.9986460208892822,
           0.9987665414810181
          ],
          "sizemode": "area",
          "sizeref": 0.0024992699921131136,
          "symbol": "circle"
         },
         "mode": "markers",
         "name": "",
         "orientation": "v",
         "showlegend": false,
         "type": "scatter",
         "x": [
          0,
          0,
          0,
          0,
          0,
          0,
          0,
          0,
          0,
          0,
          0,
          1,
          1,
          1,
          1,
          1,
          1,
          1,
          1,
          1,
          1,
          1,
          1,
          1,
          1,
          1,
          1,
          1,
          2,
          2,
          2,
          2,
          2,
          2,
          2,
          3,
          3,
          3,
          3,
          3,
          3,
          3,
          3,
          3,
          4,
          4,
          4,
          4,
          4,
          5,
          5,
          5,
          5,
          5,
          6,
          6,
          6,
          6,
          7,
          7,
          7,
          8,
          8,
          8,
          8,
          8,
          8,
          8,
          8,
          8,
          8,
          8,
          8,
          8,
          8,
          8,
          8,
          8,
          8,
          8,
          8,
          8,
          8,
          8,
          8,
          8,
          8,
          8,
          8,
          8,
          8,
          8,
          8,
          8,
          8,
          8,
          8,
          8,
          8,
          8,
          8,
          9,
          9,
          9,
          9,
          9,
          9,
          9
         ],
         "xaxis": "x",
         "y": [
          0.13,
          -0.01,
          -0.04,
          0.1,
          0.07,
          0,
          0.14,
          0.19,
          0.13,
          0.13,
          -0.02,
          -0.1,
          0.13,
          0.16,
          0.11,
          0.09,
          -0.04,
          0.09,
          0.16,
          0.1,
          0.24,
          0.07,
          -0.04,
          0.22,
          0.12,
          0.02,
          0.17,
          0.11,
          0.09,
          0.07,
          0.11,
          0.06,
          0.11,
          0.07,
          0.11,
          0.07,
          0.1,
          0.15,
          0.04,
          0.07,
          0.12,
          0.06,
          0.12,
          0.03,
          0.12,
          0,
          -0.4,
          0,
          0.17,
          -0.03,
          -0.07,
          0.08,
          0.04,
          0.14,
          0.16,
          0.12,
          -0.05,
          0.17,
          0.08,
          0.21,
          -0.08,
          -0.27,
          0.05,
          -0.02,
          -0.01,
          -0.05,
          0.18,
          0.01,
          0.05,
          -0.08,
          0.03,
          0.1,
          0.08,
          0.06,
          0.08,
          0.02,
          -0.16,
          0.04,
          0.06,
          -0.05,
          0.01,
          -0.08,
          0.08,
          0.05,
          0.02,
          0.06,
          -0.02,
          0.03,
          -0.06,
          -0.07,
          0.05,
          0.04,
          0.13,
          0.08,
          0.08,
          -0.07,
          0.05,
          -0.04,
          -0.13,
          -0.2,
          0.04,
          0.03,
          0.03,
          0.05,
          0.13,
          0.07,
          0.11,
          0.07
         ],
         "yaxis": "y"
        }
       ],
       "layout": {
        "legend": {
         "itemsizing": "constant",
         "tracegroupgap": 0
        },
        "template": {
         "data": {
          "bar": [
           {
            "error_x": {
             "color": "#2a3f5f"
            },
            "error_y": {
             "color": "#2a3f5f"
            },
            "marker": {
             "line": {
              "color": "#E5ECF6",
              "width": 0.5
             },
             "pattern": {
              "fillmode": "overlay",
              "size": 10,
              "solidity": 0.2
             }
            },
            "type": "bar"
           }
          ],
          "barpolar": [
           {
            "marker": {
             "line": {
              "color": "#E5ECF6",
              "width": 0.5
             },
             "pattern": {
              "fillmode": "overlay",
              "size": 10,
              "solidity": 0.2
             }
            },
            "type": "barpolar"
           }
          ],
          "carpet": [
           {
            "aaxis": {
             "endlinecolor": "#2a3f5f",
             "gridcolor": "white",
             "linecolor": "white",
             "minorgridcolor": "white",
             "startlinecolor": "#2a3f5f"
            },
            "baxis": {
             "endlinecolor": "#2a3f5f",
             "gridcolor": "white",
             "linecolor": "white",
             "minorgridcolor": "white",
             "startlinecolor": "#2a3f5f"
            },
            "type": "carpet"
           }
          ],
          "choropleth": [
           {
            "colorbar": {
             "outlinewidth": 0,
             "ticks": ""
            },
            "type": "choropleth"
           }
          ],
          "contour": [
           {
            "colorbar": {
             "outlinewidth": 0,
             "ticks": ""
            },
            "colorscale": [
             [
              0,
              "#0d0887"
             ],
             [
              0.1111111111111111,
              "#46039f"
             ],
             [
              0.2222222222222222,
              "#7201a8"
             ],
             [
              0.3333333333333333,
              "#9c179e"
             ],
             [
              0.4444444444444444,
              "#bd3786"
             ],
             [
              0.5555555555555556,
              "#d8576b"
             ],
             [
              0.6666666666666666,
              "#ed7953"
             ],
             [
              0.7777777777777778,
              "#fb9f3a"
             ],
             [
              0.8888888888888888,
              "#fdca26"
             ],
             [
              1,
              "#f0f921"
             ]
            ],
            "type": "contour"
           }
          ],
          "contourcarpet": [
           {
            "colorbar": {
             "outlinewidth": 0,
             "ticks": ""
            },
            "type": "contourcarpet"
           }
          ],
          "heatmap": [
           {
            "colorbar": {
             "outlinewidth": 0,
             "ticks": ""
            },
            "colorscale": [
             [
              0,
              "#0d0887"
             ],
             [
              0.1111111111111111,
              "#46039f"
             ],
             [
              0.2222222222222222,
              "#7201a8"
             ],
             [
              0.3333333333333333,
              "#9c179e"
             ],
             [
              0.4444444444444444,
              "#bd3786"
             ],
             [
              0.5555555555555556,
              "#d8576b"
             ],
             [
              0.6666666666666666,
              "#ed7953"
             ],
             [
              0.7777777777777778,
              "#fb9f3a"
             ],
             [
              0.8888888888888888,
              "#fdca26"
             ],
             [
              1,
              "#f0f921"
             ]
            ],
            "type": "heatmap"
           }
          ],
          "heatmapgl": [
           {
            "colorbar": {
             "outlinewidth": 0,
             "ticks": ""
            },
            "colorscale": [
             [
              0,
              "#0d0887"
             ],
             [
              0.1111111111111111,
              "#46039f"
             ],
             [
              0.2222222222222222,
              "#7201a8"
             ],
             [
              0.3333333333333333,
              "#9c179e"
             ],
             [
              0.4444444444444444,
              "#bd3786"
             ],
             [
              0.5555555555555556,
              "#d8576b"
             ],
             [
              0.6666666666666666,
              "#ed7953"
             ],
             [
              0.7777777777777778,
              "#fb9f3a"
             ],
             [
              0.8888888888888888,
              "#fdca26"
             ],
             [
              1,
              "#f0f921"
             ]
            ],
            "type": "heatmapgl"
           }
          ],
          "histogram": [
           {
            "marker": {
             "pattern": {
              "fillmode": "overlay",
              "size": 10,
              "solidity": 0.2
             }
            },
            "type": "histogram"
           }
          ],
          "histogram2d": [
           {
            "colorbar": {
             "outlinewidth": 0,
             "ticks": ""
            },
            "colorscale": [
             [
              0,
              "#0d0887"
             ],
             [
              0.1111111111111111,
              "#46039f"
             ],
             [
              0.2222222222222222,
              "#7201a8"
             ],
             [
              0.3333333333333333,
              "#9c179e"
             ],
             [
              0.4444444444444444,
              "#bd3786"
             ],
             [
              0.5555555555555556,
              "#d8576b"
             ],
             [
              0.6666666666666666,
              "#ed7953"
             ],
             [
              0.7777777777777778,
              "#fb9f3a"
             ],
             [
              0.8888888888888888,
              "#fdca26"
             ],
             [
              1,
              "#f0f921"
             ]
            ],
            "type": "histogram2d"
           }
          ],
          "histogram2dcontour": [
           {
            "colorbar": {
             "outlinewidth": 0,
             "ticks": ""
            },
            "colorscale": [
             [
              0,
              "#0d0887"
             ],
             [
              0.1111111111111111,
              "#46039f"
             ],
             [
              0.2222222222222222,
              "#7201a8"
             ],
             [
              0.3333333333333333,
              "#9c179e"
             ],
             [
              0.4444444444444444,
              "#bd3786"
             ],
             [
              0.5555555555555556,
              "#d8576b"
             ],
             [
              0.6666666666666666,
              "#ed7953"
             ],
             [
              0.7777777777777778,
              "#fb9f3a"
             ],
             [
              0.8888888888888888,
              "#fdca26"
             ],
             [
              1,
              "#f0f921"
             ]
            ],
            "type": "histogram2dcontour"
           }
          ],
          "mesh3d": [
           {
            "colorbar": {
             "outlinewidth": 0,
             "ticks": ""
            },
            "type": "mesh3d"
           }
          ],
          "parcoords": [
           {
            "line": {
             "colorbar": {
              "outlinewidth": 0,
              "ticks": ""
             }
            },
            "type": "parcoords"
           }
          ],
          "pie": [
           {
            "automargin": true,
            "type": "pie"
           }
          ],
          "scatter": [
           {
            "fillpattern": {
             "fillmode": "overlay",
             "size": 10,
             "solidity": 0.2
            },
            "type": "scatter"
           }
          ],
          "scatter3d": [
           {
            "line": {
             "colorbar": {
              "outlinewidth": 0,
              "ticks": ""
             }
            },
            "marker": {
             "colorbar": {
              "outlinewidth": 0,
              "ticks": ""
             }
            },
            "type": "scatter3d"
           }
          ],
          "scattercarpet": [
           {
            "marker": {
             "colorbar": {
              "outlinewidth": 0,
              "ticks": ""
             }
            },
            "type": "scattercarpet"
           }
          ],
          "scattergeo": [
           {
            "marker": {
             "colorbar": {
              "outlinewidth": 0,
              "ticks": ""
             }
            },
            "type": "scattergeo"
           }
          ],
          "scattergl": [
           {
            "marker": {
             "colorbar": {
              "outlinewidth": 0,
              "ticks": ""
             }
            },
            "type": "scattergl"
           }
          ],
          "scattermapbox": [
           {
            "marker": {
             "colorbar": {
              "outlinewidth": 0,
              "ticks": ""
             }
            },
            "type": "scattermapbox"
           }
          ],
          "scatterpolar": [
           {
            "marker": {
             "colorbar": {
              "outlinewidth": 0,
              "ticks": ""
             }
            },
            "type": "scatterpolar"
           }
          ],
          "scatterpolargl": [
           {
            "marker": {
             "colorbar": {
              "outlinewidth": 0,
              "ticks": ""
             }
            },
            "type": "scatterpolargl"
           }
          ],
          "scatterternary": [
           {
            "marker": {
             "colorbar": {
              "outlinewidth": 0,
              "ticks": ""
             }
            },
            "type": "scatterternary"
           }
          ],
          "surface": [
           {
            "colorbar": {
             "outlinewidth": 0,
             "ticks": ""
            },
            "colorscale": [
             [
              0,
              "#0d0887"
             ],
             [
              0.1111111111111111,
              "#46039f"
             ],
             [
              0.2222222222222222,
              "#7201a8"
             ],
             [
              0.3333333333333333,
              "#9c179e"
             ],
             [
              0.4444444444444444,
              "#bd3786"
             ],
             [
              0.5555555555555556,
              "#d8576b"
             ],
             [
              0.6666666666666666,
              "#ed7953"
             ],
             [
              0.7777777777777778,
              "#fb9f3a"
             ],
             [
              0.8888888888888888,
              "#fdca26"
             ],
             [
              1,
              "#f0f921"
             ]
            ],
            "type": "surface"
           }
          ],
          "table": [
           {
            "cells": {
             "fill": {
              "color": "#EBF0F8"
             },
             "line": {
              "color": "white"
             }
            },
            "header": {
             "fill": {
              "color": "#C8D4E3"
             },
             "line": {
              "color": "white"
             }
            },
            "type": "table"
           }
          ]
         },
         "layout": {
          "annotationdefaults": {
           "arrowcolor": "#2a3f5f",
           "arrowhead": 0,
           "arrowwidth": 1
          },
          "autotypenumbers": "strict",
          "coloraxis": {
           "colorbar": {
            "outlinewidth": 0,
            "ticks": ""
           }
          },
          "colorscale": {
           "diverging": [
            [
             0,
             "#8e0152"
            ],
            [
             0.1,
             "#c51b7d"
            ],
            [
             0.2,
             "#de77ae"
            ],
            [
             0.3,
             "#f1b6da"
            ],
            [
             0.4,
             "#fde0ef"
            ],
            [
             0.5,
             "#f7f7f7"
            ],
            [
             0.6,
             "#e6f5d0"
            ],
            [
             0.7,
             "#b8e186"
            ],
            [
             0.8,
             "#7fbc41"
            ],
            [
             0.9,
             "#4d9221"
            ],
            [
             1,
             "#276419"
            ]
           ],
           "sequential": [
            [
             0,
             "#0d0887"
            ],
            [
             0.1111111111111111,
             "#46039f"
            ],
            [
             0.2222222222222222,
             "#7201a8"
            ],
            [
             0.3333333333333333,
             "#9c179e"
            ],
            [
             0.4444444444444444,
             "#bd3786"
            ],
            [
             0.5555555555555556,
             "#d8576b"
            ],
            [
             0.6666666666666666,
             "#ed7953"
            ],
            [
             0.7777777777777778,
             "#fb9f3a"
            ],
            [
             0.8888888888888888,
             "#fdca26"
            ],
            [
             1,
             "#f0f921"
            ]
           ],
           "sequentialminus": [
            [
             0,
             "#0d0887"
            ],
            [
             0.1111111111111111,
             "#46039f"
            ],
            [
             0.2222222222222222,
             "#7201a8"
            ],
            [
             0.3333333333333333,
             "#9c179e"
            ],
            [
             0.4444444444444444,
             "#bd3786"
            ],
            [
             0.5555555555555556,
             "#d8576b"
            ],
            [
             0.6666666666666666,
             "#ed7953"
            ],
            [
             0.7777777777777778,
             "#fb9f3a"
            ],
            [
             0.8888888888888888,
             "#fdca26"
            ],
            [
             1,
             "#f0f921"
            ]
           ]
          },
          "colorway": [
           "#636efa",
           "#EF553B",
           "#00cc96",
           "#ab63fa",
           "#FFA15A",
           "#19d3f3",
           "#FF6692",
           "#B6E880",
           "#FF97FF",
           "#FECB52"
          ],
          "font": {
           "color": "#2a3f5f"
          },
          "geo": {
           "bgcolor": "white",
           "lakecolor": "white",
           "landcolor": "#E5ECF6",
           "showlakes": true,
           "showland": true,
           "subunitcolor": "white"
          },
          "hoverlabel": {
           "align": "left"
          },
          "hovermode": "closest",
          "mapbox": {
           "style": "light"
          },
          "paper_bgcolor": "white",
          "plot_bgcolor": "#E5ECF6",
          "polar": {
           "angularaxis": {
            "gridcolor": "white",
            "linecolor": "white",
            "ticks": ""
           },
           "bgcolor": "#E5ECF6",
           "radialaxis": {
            "gridcolor": "white",
            "linecolor": "white",
            "ticks": ""
           }
          },
          "scene": {
           "xaxis": {
            "backgroundcolor": "#E5ECF6",
            "gridcolor": "white",
            "gridwidth": 2,
            "linecolor": "white",
            "showbackground": true,
            "ticks": "",
            "zerolinecolor": "white"
           },
           "yaxis": {
            "backgroundcolor": "#E5ECF6",
            "gridcolor": "white",
            "gridwidth": 2,
            "linecolor": "white",
            "showbackground": true,
            "ticks": "",
            "zerolinecolor": "white"
           },
           "zaxis": {
            "backgroundcolor": "#E5ECF6",
            "gridcolor": "white",
            "gridwidth": 2,
            "linecolor": "white",
            "showbackground": true,
            "ticks": "",
            "zerolinecolor": "white"
           }
          },
          "shapedefaults": {
           "line": {
            "color": "#2a3f5f"
           }
          },
          "ternary": {
           "aaxis": {
            "gridcolor": "white",
            "linecolor": "white",
            "ticks": ""
           },
           "baxis": {
            "gridcolor": "white",
            "linecolor": "white",
            "ticks": ""
           },
           "bgcolor": "#E5ECF6",
           "caxis": {
            "gridcolor": "white",
            "linecolor": "white",
            "ticks": ""
           }
          },
          "title": {
           "x": 0.05
          },
          "xaxis": {
           "automargin": true,
           "gridcolor": "white",
           "linecolor": "white",
           "ticks": "",
           "title": {
            "standoff": 15
           },
           "zerolinecolor": "white",
           "zerolinewidth": 2
          },
          "yaxis": {
           "automargin": true,
           "gridcolor": "white",
           "linecolor": "white",
           "ticks": "",
           "title": {
            "standoff": 15
           },
           "zerolinecolor": "white",
           "zerolinewidth": 2
          }
         }
        },
        "title": {
         "text": "Articles Sorted By Main Topic"
        },
        "xaxis": {
         "anchor": "y",
         "domain": [
          0,
          1
         ],
         "title": {
          "text": "Main Topic"
         },
         "type": "category"
        },
        "yaxis": {
         "anchor": "x",
         "domain": [
          0,
          1
         ],
         "title": {
          "text": "Sentiment Score"
         }
        }
       }
      }
     },
     "metadata": {},
     "output_type": "display_data"
    }
   ],
   "source": [
    "visualize_all_articles_on_main_topic(df)"
   ]
  },
  {
   "cell_type": "markdown",
   "id": "e2dceebf",
   "metadata": {},
   "source": [
    "# Generating Cluster Graph of Topics"
   ]
  },
  {
   "cell_type": "code",
   "execution_count": 19,
   "id": "235fbeca",
   "metadata": {
    "scrolled": false
   },
   "outputs": [
    {
     "name": "stdout",
     "output_type": "stream",
     "text": [
      "[t-SNE] Computing 107 nearest neighbors...\n",
      "[t-SNE] Indexed 108 samples in 0.000s...\n",
      "[t-SNE] Computed neighbors for 108 samples in 0.009s...\n",
      "[t-SNE] Computed conditional probabilities for sample 108 / 108\n",
      "[t-SNE] Mean sigma: 0.501425\n",
      "[t-SNE] KL divergence after 250 iterations with early exaggeration: 49.227856\n",
      "[t-SNE] KL divergence after 800 iterations: 0.130009\n"
     ]
    },
    {
     "data": {
      "application/vnd.plotly.v1+json": {
       "config": {
        "plotlyServerURL": "https://plot.ly"
       },
       "data": [
        {
         "customdata": [
          [
           "buff.ly",
           "Neutral Positive",
           "0"
          ],
          [
           "www.nbcnews.com",
           "Neutral Negative",
           "0"
          ],
          [
           "wapo.st",
           "Neutral Positive",
           "0"
          ],
          [
           "4imag.com",
           "Positive",
           "0"
          ],
          [
           "cna.asia",
           "Neutral Positive",
           "0"
          ],
          [
           "nyti.ms",
           "Neutral Positive",
           "0"
          ],
          [
           "punchbowl.news",
           "Neutral Positive",
           "0"
          ],
          [
           "l.smartnews.com",
           "Neutral Positive",
           "0"
          ],
          [
           "en.wikipedia.org",
           "Neutral Negative",
           "0"
          ],
          [
           "trib.al",
           "Neutral Negative",
           "0"
          ],
          [
           "people.com",
           "Neutral Negative",
           "0"
          ]
         ],
         "hovertemplate": "Address: %{customdata[0]}<br>Sentiment Label: %{customdata[1]}<br>Main Topic:%{customdata[2]}",
         "legendgroup": "0",
         "marker": {
          "color": "#636efa",
          "size": [
           0.9997079968452454,
           0.9383198618888855,
           0.5485929846763611,
           0.6179295182228088,
           0.7195017337799072,
           0.9997079968452454,
           0.9946074485778809,
           0.5599508881568909,
           0.9830633997917175,
           0.4864267110824585,
           0.8380679488182068
          ],
          "sizemode": "area",
          "sizeref": 0.0024992699921131136,
          "symbol": "circle"
         },
         "mode": "markers",
         "name": "0",
         "orientation": "v",
         "showlegend": true,
         "type": "scatter",
         "x": [
          -8.777849197387695,
          -7.9086761474609375,
          -8.762701034545898,
          -8.077631950378418,
          -8.774353981018066,
          -8.576560020446777,
          -8.476202011108398,
          -8.167938232421875,
          -7.8448381423950195,
          -8.777849197387695,
          -8.697072982788086
         ],
         "xaxis": "x",
         "y": [
          12.008418083190918,
          11.056347846984863,
          12.01147747039795,
          11.001914978027344,
          12.000930786132812,
          11.806718826293945,
          11.915351867675781,
          11.979963302612305,
          11.991372108459473,
          12.008418083190918,
          12.000229835510254
         ],
         "yaxis": "y"
        },
        {
         "customdata": [
          [
           "www.washingtontimes.com",
           "Positive",
           "1"
          ],
          [
           "bit.ly",
           "Neutral Positive",
           "1"
          ],
          [
           "fee.org",
           "Positive",
           "1"
          ],
          [
           "nbcbay.com",
           "Neutral Positive",
           "1"
          ],
          [
           "welovetrump.com",
           "Positive",
           "1"
          ],
          [
           "www.dailykos.com",
           "Neutral Negative",
           "1"
          ],
          [
           "lakegenevanews.net",
           "Neutral Positive",
           "1"
          ],
          [
           "time.com",
           "Neutral Positive",
           "1"
          ],
          [
           "ift.tt",
           "Neutral Negative",
           "1"
          ],
          [
           "ow.ly",
           "Neutral Positive",
           "1"
          ],
          [
           "www.dailykos.com",
           "Neutral Negative",
           "1"
          ],
          [
           "www.ncronline.org",
           "Neutral Positive",
           "1"
          ],
          [
           "www.wkyt.com",
           "Neutral Positive",
           "1"
          ],
          [
           "open.substack.com",
           "Positive",
           "1"
          ],
          [
           "trib.al",
           "Positive",
           "1"
          ],
          [
           "wjactv.com",
           "Neutral Positive",
           "1"
          ],
          [
           "www.jihadwatch.org",
           "Negative",
           "1"
          ]
         ],
         "hovertemplate": "Address: %{customdata[0]}<br>Sentiment Label: %{customdata[1]}<br>Main Topic:%{customdata[2]}",
         "legendgroup": "1",
         "marker": {
          "color": "#EF553B",
          "size": [
           0.9943370819091797,
           0.9982067942619324,
           0.9974047541618347,
           0.9223995804786682,
           0.7263126969337463,
           0.9494895339012146,
           0.551344633102417,
           0.996772289276123,
           0.9979345202445984,
           0.9972797632217407,
           0.9989551901817322,
           0.9970569014549255,
           0.9982067346572876,
           0.9956672191619873,
           0.254085510969162,
           0.9980599880218506,
           0.6474003791809082
          ],
          "sizemode": "area",
          "sizeref": 0.0024992699921131136,
          "symbol": "circle"
         },
         "mode": "markers",
         "name": "1",
         "orientation": "v",
         "showlegend": true,
         "type": "scatter",
         "x": [
          -5.430164813995361,
          -4.247427940368652,
          -4.460411548614502,
          -4.039628505706787,
          -4.29661750793457,
          -3.8979103565216064,
          -4.317083358764648,
          -6.97529935836792,
          -4.353185176849365,
          -4.492690086364746,
          -5.770512104034424,
          -4.606384754180908,
          -5.145679473876953,
          -4.741582870483398,
          -4.065340518951416,
          -4.12656307220459,
          -4.248448371887207
         ],
         "xaxis": "x",
         "y": [
          11.7122220993042,
          12.185349464416504,
          12.339327812194824,
          12.575902938842773,
          12.18533706665039,
          12.465350151062012,
          12.746288299560547,
          11.808416366577148,
          12.738062858581543,
          12.63879680633545,
          11.334453582763672,
          12.64508056640625,
          11.977977752685547,
          12.399459838867188,
          12.333608627319336,
          12.724013328552246,
          12.185903549194336
         ],
         "yaxis": "y"
        },
        {
         "customdata": [
          [
           "www.cbc.ca",
           "Neutral Positive",
           "2"
          ],
          [
           "theshahab.com",
           "Neutral Positive",
           "2"
          ],
          [
           "www.mediaite.com",
           "Neutral Positive",
           "2"
          ],
          [
           "www.theyeshivaworld.com",
           "Neutral Positive",
           "2"
          ],
          [
           "prada.substack.com",
           "Neutral Positive",
           "2"
          ],
          [
           "go.shr.lc",
           "Neutral Positive",
           "2"
          ],
          [
           "www.msnbc.com",
           "Neutral Positive",
           "2"
          ]
         ],
         "hovertemplate": "Address: %{customdata[0]}<br>Sentiment Label: %{customdata[1]}<br>Main Topic:%{customdata[2]}",
         "legendgroup": "2",
         "marker": {
          "color": "#00cc96",
          "size": [
           0.9953581094741821,
           0.9405761361122131,
           0.45040419697761536,
           0.5189745426177979,
           0.9992052912712097,
           0.998195469379425,
           0.9977602958679199
          ],
          "sizemode": "area",
          "sizeref": 0.0024992699921131136,
          "symbol": "circle"
         },
         "mode": "markers",
         "name": "2",
         "orientation": "v",
         "showlegend": true,
         "type": "scatter",
         "x": [
          -6.404701232910156,
          -5.943026065826416,
          -6.40465784072876,
          -6.404720306396484,
          -6.147420406341553,
          -6.411983489990234,
          -6.4048261642456055
         ],
         "xaxis": "x",
         "y": [
          14.462666511535645,
          13.083227157592773,
          14.463052749633789,
          14.462493896484375,
          10.151450157165527,
          14.44029712677002,
          14.46157169342041
         ],
         "yaxis": "y"
        },
        {
         "customdata": [
          [
           "www.cbsnews.com",
           "Neutral Positive",
           "3"
          ],
          [
           "www.sonsof1776.com",
           "Neutral Negative",
           "3"
          ],
          [
           "www.newsbreakapp.com",
           "Neutral Positive",
           "3"
          ],
          [
           "ijr.com",
           "Neutral Positive",
           "3"
          ],
          [
           "www.politico.com",
           "Neutral Positive",
           "3"
          ],
          [
           "dlvr.it",
           "Neutral",
           "3"
          ],
          [
           "twitchy.com",
           "Positive",
           "3"
          ],
          [
           "www.foxnews.com",
           "Neutral Positive",
           "3"
          ],
          [
           "zpr.io",
           "Neutral Positive",
           "3"
          ]
         ],
         "hovertemplate": "Address: %{customdata[0]}<br>Sentiment Label: %{customdata[1]}<br>Main Topic:%{customdata[2]}",
         "legendgroup": "3",
         "marker": {
          "color": "#ab63fa",
          "size": [
           0.9959076046943665,
           0.9953101873397827,
           0.8047794699668884,
           0.604709804058075,
           0.999115526676178,
           0.9657709002494812,
           0.8418723344802856,
           0.8434255719184875,
           0.9896869659423828
          ],
          "sizemode": "area",
          "sizeref": 0.0024992699921131136,
          "symbol": "circle"
         },
         "mode": "markers",
         "name": "3",
         "orientation": "v",
         "showlegend": true,
         "type": "scatter",
         "x": [
          -11.789772987365723,
          -11.653133392333984,
          -11.673489570617676,
          -11.755516052246094,
          -11.781609535217285,
          -11.201688766479492,
          -11.785921096801758,
          -11.604567527770996,
          -11.787151336669922
         ],
         "xaxis": "x",
         "y": [
          10.131768226623535,
          10.168742179870605,
          10.126521110534668,
          10.133283615112305,
          10.132903099060059,
          10.198503494262695,
          10.132573127746582,
          10.188584327697754,
          10.132303237915039
         ],
         "yaxis": "y"
        },
        {
         "customdata": [
          [
           "l.smartnews.com",
           "Neutral Positive",
           "4"
          ],
          [
           "dlvr.it",
           "Neutral Negative",
           "4"
          ],
          [
           "www.elespanol.com",
           "Negative",
           "4"
          ],
          [
           "altanto.com.do",
           "Neutral Negative",
           "4"
          ],
          [
           "www.thecatholicmonitor.com",
           "Positive",
           "4"
          ]
         ],
         "hovertemplate": "Address: %{customdata[0]}<br>Sentiment Label: %{customdata[1]}<br>Main Topic:%{customdata[2]}",
         "legendgroup": "4",
         "marker": {
          "color": "#FFA15A",
          "size": [
           0.9943020939826965,
           0.9823487997055054,
           0.9852423667907715,
           0.969993531703949,
           0.997599184513092
          ],
          "sizemode": "area",
          "sizeref": 0.0024992699921131136,
          "symbol": "circle"
         },
         "mode": "markers",
         "name": "4",
         "orientation": "v",
         "showlegend": true,
         "type": "scatter",
         "x": [
          -2.3263323307037354,
          -2.3283517360687256,
          -2.3260281085968018,
          -2.3289549350738525,
          -2.3261969089508057
         ],
         "xaxis": "x",
         "y": [
          9.315187454223633,
          9.315966606140137,
          9.314602851867676,
          9.31615924835205,
          9.314940452575684
         ],
         "yaxis": "y"
        },
        {
         "customdata": [
          [
           "www.sfgate.com",
           "Neutral",
           "5"
          ],
          [
           "www.smobserved.com",
           "Neutral Positive",
           "5"
          ],
          [
           "soundcloud.com",
           "Neutral Positive",
           "5"
          ],
          [
           "trib.al",
           "Neutral Negative",
           "5"
          ],
          [
           "www.nytimes.com",
           "Negative",
           "5"
          ]
         ],
         "hovertemplate": "Address: %{customdata[0]}<br>Sentiment Label: %{customdata[1]}<br>Main Topic:%{customdata[2]}",
         "legendgroup": "5",
         "marker": {
          "color": "#19d3f3",
          "size": [
           0.611592710018158,
           0.724658191204071,
           0.9938754439353943,
           0.9980596899986267,
           0.9936595559120178
          ],
          "sizemode": "area",
          "sizeref": 0.0024992699921131136,
          "symbol": "circle"
         },
         "mode": "markers",
         "name": "5",
         "orientation": "v",
         "showlegend": true,
         "type": "scatter",
         "x": [
          -8.950287818908691,
          -8.950634956359863,
          -8.940709114074707,
          -9.199682235717773,
          -8.950674057006836
         ],
         "xaxis": "x",
         "y": [
          14.903447151184082,
          14.899709701538086,
          14.820914268493652,
          14.694401741027832,
          14.899809837341309
         ],
         "yaxis": "y"
        },
        {
         "customdata": [
          [
           "meaww.com",
           "Positive",
           "6"
          ],
          [
           "trib.al",
           "Neutral Positive",
           "6"
          ],
          [
           "nbcbayarea.com",
           "Neutral Negative",
           "6"
          ],
          [
           "www.diariodenavarra.es",
           "Positive",
           "6"
          ]
         ],
         "hovertemplate": "Address: %{customdata[0]}<br>Sentiment Label: %{customdata[1]}<br>Main Topic:%{customdata[2]}",
         "legendgroup": "6",
         "marker": {
          "color": "#FF6692",
          "size": [
           0.6114240884780884,
           0.9952806830406189,
           0.9958704113960266,
           0.9873208999633789
          ],
          "sizemode": "area",
          "sizeref": 0.0024992699921131136,
          "symbol": "circle"
         },
         "mode": "markers",
         "name": "6",
         "orientation": "v",
         "showlegend": true,
         "type": "scatter",
         "x": [
          -9.061622619628906,
          -9.419991493225098,
          -9.42017650604248,
          -9.418328285217285
         ],
         "xaxis": "x",
         "y": [
          9.227691650390625,
          9.207945823669434,
          9.207986831665039,
          9.208982467651367
         ],
         "yaxis": "y"
        },
        {
         "customdata": [
          [
           "eltiempomonclova.mx",
           "Positive",
           "7"
          ],
          [
           "buff.ly",
           "Negative",
           "7"
          ],
          [
           "link.springer.com",
           "Neutral Positive",
           "7"
          ]
         ],
         "hovertemplate": "Address: %{customdata[0]}<br>Sentiment Label: %{customdata[1]}<br>Main Topic:%{customdata[2]}",
         "legendgroup": "7",
         "marker": {
          "color": "#B6E880",
          "size": [
           0.9907186031341553,
           0.998181164264679,
           0.999359667301178
          ],
          "sizemode": "area",
          "sizeref": 0.0024992699921131136,
          "symbol": "circle"
         },
         "mode": "markers",
         "name": "7",
         "orientation": "v",
         "showlegend": true,
         "type": "scatter",
         "x": [
          -10.640814781188965,
          -10.64053726196289,
          -10.640777587890625
         ],
         "xaxis": "x",
         "y": [
          7.133824348449707,
          7.135046005249023,
          7.133934020996094
         ],
         "yaxis": "y"
        },
        {
         "customdata": [
          [
           "www.independent.co.uk",
           "Negative",
           "8"
          ],
          [
           "www.latimes.com",
           "Neutral Positive",
           "8"
          ],
          [
           "dlvr.it",
           "Neutral Negative",
           "8"
          ],
          [
           "ugnews24.info",
           "Neutral Positive",
           "8"
          ],
          [
           "www.thenewcivilrightsmovement.com",
           "Neutral Negative",
           "8"
          ],
          [
           "www.nytimes.com",
           "Neutral Negative",
           "8"
          ],
          [
           "politi.co",
           "Neutral Positive",
           "8"
          ],
          [
           "www.nbcnews.com",
           "Neutral Negative",
           "8"
          ],
          [
           "ift.tt",
           "Neutral Positive",
           "8"
          ],
          [
           "www.dailymail.co.uk",
           "Neutral Positive",
           "8"
          ],
          [
           "www.whas11.com",
           "Neutral Positive",
           "8"
          ],
          [
           "on.tnr.com",
           "Neutral Positive",
           "8"
          ],
          [
           "www.msnbc.com",
           "Negative",
           "8"
          ],
          [
           "www.theepochtimes.com",
           "Neutral Positive",
           "8"
          ],
          [
           "NBC11NEWS.com",
           "Neutral Negative",
           "8"
          ],
          [
           "l.smartnews.com",
           "Negative",
           "8"
          ],
          [
           "crooksandliars.com",
           "Negative",
           "8"
          ],
          [
           "www.newsnationnow.com",
           "Neutral",
           "8"
          ],
          [
           "bismarcktribune.com",
           "Neutral",
           "8"
          ],
          [
           "www.independent.co.uk",
           "Negative",
           "8"
          ],
          [
           "www.audacy.com",
           "Neutral Negative",
           "8"
          ],
          [
           "www.nbcnews.com",
           "Neutral Positive",
           "8"
          ],
          [
           "www.newsmax.com",
           "Negative",
           "8"
          ],
          [
           "nationalfile.com",
           "Neutral Positive",
           "8"
          ],
          [
           "www.theepochtimes.com",
           "Neutral Negative",
           "8"
          ],
          [
           "nbcnews.to",
           "Neutral Negative",
           "8"
          ],
          [
           "www.independent.co.uk",
           "Neutral Negative",
           "8"
          ],
          [
           "rollingstone.com",
           "Neutral Negative",
           "8"
          ],
          [
           "www.newsbreakapp.com",
           "Neutral Negative",
           "8"
          ],
          [
           "flip.it",
           "Neutral Positive",
           "8"
          ],
          [
           "dlvr.it",
           "Positive",
           "8"
          ],
          [
           "tinyurl.com",
           "Neutral Negative",
           "8"
          ],
          [
           "www.nbcnews.com",
           "Neutral Positive",
           "8"
          ],
          [
           "flip.it",
           "Neutral Positive",
           "8"
          ],
          [
           "ca.news.yahoo.com",
           "Neutral Positive",
           "8"
          ],
          [
           "buff.ly",
           "Neutral Positive",
           "8"
          ],
          [
           "www.kosu.org",
           "Neutral Negative",
           "8"
          ],
          [
           "news.yahoo.com",
           "Negative",
           "8"
          ],
          [
           "www.cnn.com",
           "Neutral",
           "8"
          ],
          [
           "www.courttv.com",
           "Negative",
           "8"
          ]
         ],
         "hovertemplate": "Address: %{customdata[0]}<br>Sentiment Label: %{customdata[1]}<br>Main Topic:%{customdata[2]}",
         "legendgroup": "8",
         "marker": {
          "color": "#FF97FF",
          "size": [
           0.9960506558418274,
           0.9984791278839111,
           0.997185468673706,
           0.7727116346359253,
           0.9954758882522583,
           0.38718265295028687,
           0.6131578087806702,
           0.9978306293487549,
           0.9923051595687866,
           0.9986680746078491,
           0.957658052444458,
           0.6043822765350342,
           0.4671204686164856,
           0.9964963793754578,
           0.9973825812339783,
           0.9969579577445984,
           0.6928973197937012,
           0.9937914609909058,
           0.988886296749115,
           0.5953205823898315,
           0.9683024287223816,
           0.6270852088928223,
           0.771199643611908,
           0.6827574372291565,
           0.9966282248497009,
           0.9959080219268799,
           0.9932820796966553,
           0.9970767498016357,
           0.46310168504714966,
           0.9955863952636719,
           0.8354315757751465,
           0.615670919418335,
           0.9931250214576721,
           0.6399207711219788,
           0.995261549949646,
           0.9975990056991577,
           0.9953107237815857,
           0.9947042465209961,
           0.5200889706611633,
           0.994576632976532
          ],
          "sizemode": "area",
          "sizeref": 0.0024992699921131136,
          "symbol": "circle"
         },
         "mode": "markers",
         "name": "8",
         "orientation": "v",
         "showlegend": true,
         "type": "scatter",
         "x": [
          -7.282294750213623,
          -6.681775093078613,
          -5.5872626304626465,
          -5.517468452453613,
          -6.320031642913818,
          -6.950872898101807,
          -6.14730978012085,
          -6.55106258392334,
          -5.547465801239014,
          -6.858248233795166,
          -6.887053489685059,
          -7.152262210845947,
          -6.0002241134643555,
          -5.828165531158447,
          -5.449613094329834,
          -6.257641315460205,
          -6.083175182342529,
          -7.599905014038086,
          -6.433860778808594,
          -5.657328128814697,
          -7.72400426864624,
          -7.384649753570557,
          -6.133809566497803,
          -6.625276565551758,
          -6.352388858795166,
          -6.007587909698486,
          -6.255486011505127,
          -5.927278995513916,
          -6.828649997711182,
          -5.362948417663574,
          -6.769708156585693,
          -6.352715492248535,
          -6.4082417488098145,
          -6.913251876831055,
          -6.250060558319092,
          -6.369560241699219,
          -5.806130409240723,
          -5.932902812957764,
          -6.243973255157471,
          -6.729854583740234
         ],
         "xaxis": "x",
         "y": [
          8.063383102416992,
          9.443325996398926,
          7.606787204742432,
          7.089640140533447,
          7.722509384155273,
          8.05525016784668,
          11.00197982788086,
          6.78488302230835,
          7.4649457931518555,
          9.927197456359863,
          6.883630275726318,
          8.917447090148926,
          6.743901252746582,
          6.8610310554504395,
          7.836512565612793,
          7.688201427459717,
          9.748993873596191,
          8.309086799621582,
          7.822632312774658,
          7.1362624168396,
          10.275003433227539,
          9.177489280700684,
          6.57805061340332,
          7.401922225952148,
          8.808513641357422,
          7.195835590362549,
          11.01384162902832,
          6.754461288452148,
          6.821404933929443,
          7.702604293823242,
          7.343692779541016,
          7.961251735687256,
          9.543160438537598,
          6.958799362182617,
          10.977900505065918,
          6.599219799041748,
          7.691290378570557,
          7.892000198364258,
          9.175570487976074,
          7.362881183624268
         ],
         "yaxis": "y"
        },
        {
         "customdata": [
          [
           "greenwald.substack.com",
           "Neutral Positive",
           "9"
          ],
          [
           "dlvr.it",
           "Neutral Negative",
           "9"
          ],
          [
           "www.dailymail.co.uk",
           "Neutral Negative",
           "9"
          ],
          [
           "www.nytimes.com",
           "Neutral Positive",
           "9"
          ],
          [
           "seekingalpha.com",
           "Neutral Positive",
           "9"
          ],
          [
           "share.newsbreak.com",
           "Neutral Positive",
           "9"
          ],
          [
           "www.businessinsider.com",
           "Neutral Positive",
           "9"
          ]
         ],
         "hovertemplate": "Address: %{customdata[0]}<br>Sentiment Label: %{customdata[1]}<br>Main Topic:%{customdata[2]}",
         "legendgroup": "9",
         "marker": {
          "color": "#FECB52",
          "size": [
           0.9986460208892822,
           0.994575023651123,
           0.8546101450920105,
           0.9269169569015503,
           0.99916011095047,
           0.998644232749939,
           0.9987665414810181
          ],
          "sizemode": "area",
          "sizeref": 0.0024992699921131136,
          "symbol": "circle"
         },
         "mode": "markers",
         "name": "9",
         "orientation": "v",
         "showlegend": true,
         "type": "scatter",
         "x": [
          -11.180052757263184,
          -11.13614273071289,
          -11.161208152770996,
          -11.181520462036133,
          -11.182859420776367,
          -11.182859420776367,
          -11.182892799377441
         ],
         "xaxis": "x",
         "y": [
          13.787936210632324,
          13.762604713439941,
          13.778529167175293,
          13.788372039794922,
          13.788309097290039,
          13.788302421569824,
          13.788320541381836
         ],
         "yaxis": "y"
        }
       ],
       "layout": {
        "legend": {
         "itemsizing": "constant",
         "title": {
          "text": "Main Topic"
         },
         "tracegroupgap": 0
        },
        "template": {
         "data": {
          "bar": [
           {
            "error_x": {
             "color": "#2a3f5f"
            },
            "error_y": {
             "color": "#2a3f5f"
            },
            "marker": {
             "line": {
              "color": "#E5ECF6",
              "width": 0.5
             },
             "pattern": {
              "fillmode": "overlay",
              "size": 10,
              "solidity": 0.2
             }
            },
            "type": "bar"
           }
          ],
          "barpolar": [
           {
            "marker": {
             "line": {
              "color": "#E5ECF6",
              "width": 0.5
             },
             "pattern": {
              "fillmode": "overlay",
              "size": 10,
              "solidity": 0.2
             }
            },
            "type": "barpolar"
           }
          ],
          "carpet": [
           {
            "aaxis": {
             "endlinecolor": "#2a3f5f",
             "gridcolor": "white",
             "linecolor": "white",
             "minorgridcolor": "white",
             "startlinecolor": "#2a3f5f"
            },
            "baxis": {
             "endlinecolor": "#2a3f5f",
             "gridcolor": "white",
             "linecolor": "white",
             "minorgridcolor": "white",
             "startlinecolor": "#2a3f5f"
            },
            "type": "carpet"
           }
          ],
          "choropleth": [
           {
            "colorbar": {
             "outlinewidth": 0,
             "ticks": ""
            },
            "type": "choropleth"
           }
          ],
          "contour": [
           {
            "colorbar": {
             "outlinewidth": 0,
             "ticks": ""
            },
            "colorscale": [
             [
              0,
              "#0d0887"
             ],
             [
              0.1111111111111111,
              "#46039f"
             ],
             [
              0.2222222222222222,
              "#7201a8"
             ],
             [
              0.3333333333333333,
              "#9c179e"
             ],
             [
              0.4444444444444444,
              "#bd3786"
             ],
             [
              0.5555555555555556,
              "#d8576b"
             ],
             [
              0.6666666666666666,
              "#ed7953"
             ],
             [
              0.7777777777777778,
              "#fb9f3a"
             ],
             [
              0.8888888888888888,
              "#fdca26"
             ],
             [
              1,
              "#f0f921"
             ]
            ],
            "type": "contour"
           }
          ],
          "contourcarpet": [
           {
            "colorbar": {
             "outlinewidth": 0,
             "ticks": ""
            },
            "type": "contourcarpet"
           }
          ],
          "heatmap": [
           {
            "colorbar": {
             "outlinewidth": 0,
             "ticks": ""
            },
            "colorscale": [
             [
              0,
              "#0d0887"
             ],
             [
              0.1111111111111111,
              "#46039f"
             ],
             [
              0.2222222222222222,
              "#7201a8"
             ],
             [
              0.3333333333333333,
              "#9c179e"
             ],
             [
              0.4444444444444444,
              "#bd3786"
             ],
             [
              0.5555555555555556,
              "#d8576b"
             ],
             [
              0.6666666666666666,
              "#ed7953"
             ],
             [
              0.7777777777777778,
              "#fb9f3a"
             ],
             [
              0.8888888888888888,
              "#fdca26"
             ],
             [
              1,
              "#f0f921"
             ]
            ],
            "type": "heatmap"
           }
          ],
          "heatmapgl": [
           {
            "colorbar": {
             "outlinewidth": 0,
             "ticks": ""
            },
            "colorscale": [
             [
              0,
              "#0d0887"
             ],
             [
              0.1111111111111111,
              "#46039f"
             ],
             [
              0.2222222222222222,
              "#7201a8"
             ],
             [
              0.3333333333333333,
              "#9c179e"
             ],
             [
              0.4444444444444444,
              "#bd3786"
             ],
             [
              0.5555555555555556,
              "#d8576b"
             ],
             [
              0.6666666666666666,
              "#ed7953"
             ],
             [
              0.7777777777777778,
              "#fb9f3a"
             ],
             [
              0.8888888888888888,
              "#fdca26"
             ],
             [
              1,
              "#f0f921"
             ]
            ],
            "type": "heatmapgl"
           }
          ],
          "histogram": [
           {
            "marker": {
             "pattern": {
              "fillmode": "overlay",
              "size": 10,
              "solidity": 0.2
             }
            },
            "type": "histogram"
           }
          ],
          "histogram2d": [
           {
            "colorbar": {
             "outlinewidth": 0,
             "ticks": ""
            },
            "colorscale": [
             [
              0,
              "#0d0887"
             ],
             [
              0.1111111111111111,
              "#46039f"
             ],
             [
              0.2222222222222222,
              "#7201a8"
             ],
             [
              0.3333333333333333,
              "#9c179e"
             ],
             [
              0.4444444444444444,
              "#bd3786"
             ],
             [
              0.5555555555555556,
              "#d8576b"
             ],
             [
              0.6666666666666666,
              "#ed7953"
             ],
             [
              0.7777777777777778,
              "#fb9f3a"
             ],
             [
              0.8888888888888888,
              "#fdca26"
             ],
             [
              1,
              "#f0f921"
             ]
            ],
            "type": "histogram2d"
           }
          ],
          "histogram2dcontour": [
           {
            "colorbar": {
             "outlinewidth": 0,
             "ticks": ""
            },
            "colorscale": [
             [
              0,
              "#0d0887"
             ],
             [
              0.1111111111111111,
              "#46039f"
             ],
             [
              0.2222222222222222,
              "#7201a8"
             ],
             [
              0.3333333333333333,
              "#9c179e"
             ],
             [
              0.4444444444444444,
              "#bd3786"
             ],
             [
              0.5555555555555556,
              "#d8576b"
             ],
             [
              0.6666666666666666,
              "#ed7953"
             ],
             [
              0.7777777777777778,
              "#fb9f3a"
             ],
             [
              0.8888888888888888,
              "#fdca26"
             ],
             [
              1,
              "#f0f921"
             ]
            ],
            "type": "histogram2dcontour"
           }
          ],
          "mesh3d": [
           {
            "colorbar": {
             "outlinewidth": 0,
             "ticks": ""
            },
            "type": "mesh3d"
           }
          ],
          "parcoords": [
           {
            "line": {
             "colorbar": {
              "outlinewidth": 0,
              "ticks": ""
             }
            },
            "type": "parcoords"
           }
          ],
          "pie": [
           {
            "automargin": true,
            "type": "pie"
           }
          ],
          "scatter": [
           {
            "fillpattern": {
             "fillmode": "overlay",
             "size": 10,
             "solidity": 0.2
            },
            "type": "scatter"
           }
          ],
          "scatter3d": [
           {
            "line": {
             "colorbar": {
              "outlinewidth": 0,
              "ticks": ""
             }
            },
            "marker": {
             "colorbar": {
              "outlinewidth": 0,
              "ticks": ""
             }
            },
            "type": "scatter3d"
           }
          ],
          "scattercarpet": [
           {
            "marker": {
             "colorbar": {
              "outlinewidth": 0,
              "ticks": ""
             }
            },
            "type": "scattercarpet"
           }
          ],
          "scattergeo": [
           {
            "marker": {
             "colorbar": {
              "outlinewidth": 0,
              "ticks": ""
             }
            },
            "type": "scattergeo"
           }
          ],
          "scattergl": [
           {
            "marker": {
             "colorbar": {
              "outlinewidth": 0,
              "ticks": ""
             }
            },
            "type": "scattergl"
           }
          ],
          "scattermapbox": [
           {
            "marker": {
             "colorbar": {
              "outlinewidth": 0,
              "ticks": ""
             }
            },
            "type": "scattermapbox"
           }
          ],
          "scatterpolar": [
           {
            "marker": {
             "colorbar": {
              "outlinewidth": 0,
              "ticks": ""
             }
            },
            "type": "scatterpolar"
           }
          ],
          "scatterpolargl": [
           {
            "marker": {
             "colorbar": {
              "outlinewidth": 0,
              "ticks": ""
             }
            },
            "type": "scatterpolargl"
           }
          ],
          "scatterternary": [
           {
            "marker": {
             "colorbar": {
              "outlinewidth": 0,
              "ticks": ""
             }
            },
            "type": "scatterternary"
           }
          ],
          "surface": [
           {
            "colorbar": {
             "outlinewidth": 0,
             "ticks": ""
            },
            "colorscale": [
             [
              0,
              "#0d0887"
             ],
             [
              0.1111111111111111,
              "#46039f"
             ],
             [
              0.2222222222222222,
              "#7201a8"
             ],
             [
              0.3333333333333333,
              "#9c179e"
             ],
             [
              0.4444444444444444,
              "#bd3786"
             ],
             [
              0.5555555555555556,
              "#d8576b"
             ],
             [
              0.6666666666666666,
              "#ed7953"
             ],
             [
              0.7777777777777778,
              "#fb9f3a"
             ],
             [
              0.8888888888888888,
              "#fdca26"
             ],
             [
              1,
              "#f0f921"
             ]
            ],
            "type": "surface"
           }
          ],
          "table": [
           {
            "cells": {
             "fill": {
              "color": "#EBF0F8"
             },
             "line": {
              "color": "white"
             }
            },
            "header": {
             "fill": {
              "color": "#C8D4E3"
             },
             "line": {
              "color": "white"
             }
            },
            "type": "table"
           }
          ]
         },
         "layout": {
          "annotationdefaults": {
           "arrowcolor": "#2a3f5f",
           "arrowhead": 0,
           "arrowwidth": 1
          },
          "autotypenumbers": "strict",
          "coloraxis": {
           "colorbar": {
            "outlinewidth": 0,
            "ticks": ""
           }
          },
          "colorscale": {
           "diverging": [
            [
             0,
             "#8e0152"
            ],
            [
             0.1,
             "#c51b7d"
            ],
            [
             0.2,
             "#de77ae"
            ],
            [
             0.3,
             "#f1b6da"
            ],
            [
             0.4,
             "#fde0ef"
            ],
            [
             0.5,
             "#f7f7f7"
            ],
            [
             0.6,
             "#e6f5d0"
            ],
            [
             0.7,
             "#b8e186"
            ],
            [
             0.8,
             "#7fbc41"
            ],
            [
             0.9,
             "#4d9221"
            ],
            [
             1,
             "#276419"
            ]
           ],
           "sequential": [
            [
             0,
             "#0d0887"
            ],
            [
             0.1111111111111111,
             "#46039f"
            ],
            [
             0.2222222222222222,
             "#7201a8"
            ],
            [
             0.3333333333333333,
             "#9c179e"
            ],
            [
             0.4444444444444444,
             "#bd3786"
            ],
            [
             0.5555555555555556,
             "#d8576b"
            ],
            [
             0.6666666666666666,
             "#ed7953"
            ],
            [
             0.7777777777777778,
             "#fb9f3a"
            ],
            [
             0.8888888888888888,
             "#fdca26"
            ],
            [
             1,
             "#f0f921"
            ]
           ],
           "sequentialminus": [
            [
             0,
             "#0d0887"
            ],
            [
             0.1111111111111111,
             "#46039f"
            ],
            [
             0.2222222222222222,
             "#7201a8"
            ],
            [
             0.3333333333333333,
             "#9c179e"
            ],
            [
             0.4444444444444444,
             "#bd3786"
            ],
            [
             0.5555555555555556,
             "#d8576b"
            ],
            [
             0.6666666666666666,
             "#ed7953"
            ],
            [
             0.7777777777777778,
             "#fb9f3a"
            ],
            [
             0.8888888888888888,
             "#fdca26"
            ],
            [
             1,
             "#f0f921"
            ]
           ]
          },
          "colorway": [
           "#636efa",
           "#EF553B",
           "#00cc96",
           "#ab63fa",
           "#FFA15A",
           "#19d3f3",
           "#FF6692",
           "#B6E880",
           "#FF97FF",
           "#FECB52"
          ],
          "font": {
           "color": "#2a3f5f"
          },
          "geo": {
           "bgcolor": "white",
           "lakecolor": "white",
           "landcolor": "#E5ECF6",
           "showlakes": true,
           "showland": true,
           "subunitcolor": "white"
          },
          "hoverlabel": {
           "align": "left"
          },
          "hovermode": "closest",
          "mapbox": {
           "style": "light"
          },
          "paper_bgcolor": "white",
          "plot_bgcolor": "#E5ECF6",
          "polar": {
           "angularaxis": {
            "gridcolor": "white",
            "linecolor": "white",
            "ticks": ""
           },
           "bgcolor": "#E5ECF6",
           "radialaxis": {
            "gridcolor": "white",
            "linecolor": "white",
            "ticks": ""
           }
          },
          "scene": {
           "xaxis": {
            "backgroundcolor": "#E5ECF6",
            "gridcolor": "white",
            "gridwidth": 2,
            "linecolor": "white",
            "showbackground": true,
            "ticks": "",
            "zerolinecolor": "white"
           },
           "yaxis": {
            "backgroundcolor": "#E5ECF6",
            "gridcolor": "white",
            "gridwidth": 2,
            "linecolor": "white",
            "showbackground": true,
            "ticks": "",
            "zerolinecolor": "white"
           },
           "zaxis": {
            "backgroundcolor": "#E5ECF6",
            "gridcolor": "white",
            "gridwidth": 2,
            "linecolor": "white",
            "showbackground": true,
            "ticks": "",
            "zerolinecolor": "white"
           }
          },
          "shapedefaults": {
           "line": {
            "color": "#2a3f5f"
           }
          },
          "ternary": {
           "aaxis": {
            "gridcolor": "white",
            "linecolor": "white",
            "ticks": ""
           },
           "baxis": {
            "gridcolor": "white",
            "linecolor": "white",
            "ticks": ""
           },
           "bgcolor": "#E5ECF6",
           "caxis": {
            "gridcolor": "white",
            "linecolor": "white",
            "ticks": ""
           }
          },
          "title": {
           "x": 0.05
          },
          "xaxis": {
           "automargin": true,
           "gridcolor": "white",
           "linecolor": "white",
           "ticks": "",
           "title": {
            "standoff": 15
           },
           "zerolinecolor": "white",
           "zerolinewidth": 2
          },
          "yaxis": {
           "automargin": true,
           "gridcolor": "white",
           "linecolor": "white",
           "ticks": "",
           "title": {
            "standoff": 15
           },
           "zerolinecolor": "white",
           "zerolinewidth": 2
          }
         }
        },
        "title": {
         "text": "Topic Clustering Graph"
        },
        "xaxis": {
         "anchor": "y",
         "domain": [
          0,
          1
         ],
         "title": {
          "text": "x"
         }
        },
        "yaxis": {
         "anchor": "x",
         "domain": [
          0,
          1
         ],
         "title": {
          "text": "y"
         }
        }
       }
      }
     },
     "metadata": {},
     "output_type": "display_data"
    }
   ],
   "source": [
    "visualize_topic_cluster_TSNE(LDA_model, df)"
   ]
  },
  {
   "cell_type": "markdown",
   "id": "69a452f5",
   "metadata": {},
   "source": [
    "## Subjectivity vs Sentiment of Articles for a single topic"
   ]
  },
  {
   "cell_type": "markdown",
   "id": "92b721a6",
   "metadata": {},
   "source": [
    "Will iterate through our list_of_topics_to_visualize and will make a graph for each topic number in that list."
   ]
  },
  {
   "cell_type": "code",
   "execution_count": 14,
   "id": "8cb3e81c",
   "metadata": {
    "scrolled": false
   },
   "outputs": [
    {
     "data": {
      "application/vnd.plotly.v1+json": {
       "config": {
        "plotlyServerURL": "https://plot.ly"
       },
       "data": [
        {
         "hovertemplate": "<b>%{hovertext}</b><br><br>Subjectivity Score=%{x}<br>Sentiment Score=%{y}<br>Main Topic Score=%{marker.size}<extra></extra>",
         "hovertext": [
          "fee.org",
          "www.dailymail.co.uk",
          "dlvr.it"
         ],
         "legendgroup": "",
         "marker": {
          "color": "#636efa",
          "size": [
           0.9975336194038391,
           0.613308846950531,
           0.9830144643783569
          ],
          "sizemode": "area",
          "sizeref": 0.0024938340485095977,
          "symbol": "circle"
         },
         "mode": "markers",
         "name": "",
         "orientation": "v",
         "showlegend": false,
         "type": "scatter",
         "x": [
          0.55,
          0.34,
          0
         ],
         "xaxis": "x",
         "y": [
          0.17,
          0.03,
          0
         ],
         "yaxis": "y"
        }
       ],
       "layout": {
        "legend": {
         "itemsizing": "constant",
         "tracegroupgap": 0
        },
        "template": {
         "data": {
          "bar": [
           {
            "error_x": {
             "color": "#2a3f5f"
            },
            "error_y": {
             "color": "#2a3f5f"
            },
            "marker": {
             "line": {
              "color": "#E5ECF6",
              "width": 0.5
             },
             "pattern": {
              "fillmode": "overlay",
              "size": 10,
              "solidity": 0.2
             }
            },
            "type": "bar"
           }
          ],
          "barpolar": [
           {
            "marker": {
             "line": {
              "color": "#E5ECF6",
              "width": 0.5
             },
             "pattern": {
              "fillmode": "overlay",
              "size": 10,
              "solidity": 0.2
             }
            },
            "type": "barpolar"
           }
          ],
          "carpet": [
           {
            "aaxis": {
             "endlinecolor": "#2a3f5f",
             "gridcolor": "white",
             "linecolor": "white",
             "minorgridcolor": "white",
             "startlinecolor": "#2a3f5f"
            },
            "baxis": {
             "endlinecolor": "#2a3f5f",
             "gridcolor": "white",
             "linecolor": "white",
             "minorgridcolor": "white",
             "startlinecolor": "#2a3f5f"
            },
            "type": "carpet"
           }
          ],
          "choropleth": [
           {
            "colorbar": {
             "outlinewidth": 0,
             "ticks": ""
            },
            "type": "choropleth"
           }
          ],
          "contour": [
           {
            "colorbar": {
             "outlinewidth": 0,
             "ticks": ""
            },
            "colorscale": [
             [
              0,
              "#0d0887"
             ],
             [
              0.1111111111111111,
              "#46039f"
             ],
             [
              0.2222222222222222,
              "#7201a8"
             ],
             [
              0.3333333333333333,
              "#9c179e"
             ],
             [
              0.4444444444444444,
              "#bd3786"
             ],
             [
              0.5555555555555556,
              "#d8576b"
             ],
             [
              0.6666666666666666,
              "#ed7953"
             ],
             [
              0.7777777777777778,
              "#fb9f3a"
             ],
             [
              0.8888888888888888,
              "#fdca26"
             ],
             [
              1,
              "#f0f921"
             ]
            ],
            "type": "contour"
           }
          ],
          "contourcarpet": [
           {
            "colorbar": {
             "outlinewidth": 0,
             "ticks": ""
            },
            "type": "contourcarpet"
           }
          ],
          "heatmap": [
           {
            "colorbar": {
             "outlinewidth": 0,
             "ticks": ""
            },
            "colorscale": [
             [
              0,
              "#0d0887"
             ],
             [
              0.1111111111111111,
              "#46039f"
             ],
             [
              0.2222222222222222,
              "#7201a8"
             ],
             [
              0.3333333333333333,
              "#9c179e"
             ],
             [
              0.4444444444444444,
              "#bd3786"
             ],
             [
              0.5555555555555556,
              "#d8576b"
             ],
             [
              0.6666666666666666,
              "#ed7953"
             ],
             [
              0.7777777777777778,
              "#fb9f3a"
             ],
             [
              0.8888888888888888,
              "#fdca26"
             ],
             [
              1,
              "#f0f921"
             ]
            ],
            "type": "heatmap"
           }
          ],
          "heatmapgl": [
           {
            "colorbar": {
             "outlinewidth": 0,
             "ticks": ""
            },
            "colorscale": [
             [
              0,
              "#0d0887"
             ],
             [
              0.1111111111111111,
              "#46039f"
             ],
             [
              0.2222222222222222,
              "#7201a8"
             ],
             [
              0.3333333333333333,
              "#9c179e"
             ],
             [
              0.4444444444444444,
              "#bd3786"
             ],
             [
              0.5555555555555556,
              "#d8576b"
             ],
             [
              0.6666666666666666,
              "#ed7953"
             ],
             [
              0.7777777777777778,
              "#fb9f3a"
             ],
             [
              0.8888888888888888,
              "#fdca26"
             ],
             [
              1,
              "#f0f921"
             ]
            ],
            "type": "heatmapgl"
           }
          ],
          "histogram": [
           {
            "marker": {
             "pattern": {
              "fillmode": "overlay",
              "size": 10,
              "solidity": 0.2
             }
            },
            "type": "histogram"
           }
          ],
          "histogram2d": [
           {
            "colorbar": {
             "outlinewidth": 0,
             "ticks": ""
            },
            "colorscale": [
             [
              0,
              "#0d0887"
             ],
             [
              0.1111111111111111,
              "#46039f"
             ],
             [
              0.2222222222222222,
              "#7201a8"
             ],
             [
              0.3333333333333333,
              "#9c179e"
             ],
             [
              0.4444444444444444,
              "#bd3786"
             ],
             [
              0.5555555555555556,
              "#d8576b"
             ],
             [
              0.6666666666666666,
              "#ed7953"
             ],
             [
              0.7777777777777778,
              "#fb9f3a"
             ],
             [
              0.8888888888888888,
              "#fdca26"
             ],
             [
              1,
              "#f0f921"
             ]
            ],
            "type": "histogram2d"
           }
          ],
          "histogram2dcontour": [
           {
            "colorbar": {
             "outlinewidth": 0,
             "ticks": ""
            },
            "colorscale": [
             [
              0,
              "#0d0887"
             ],
             [
              0.1111111111111111,
              "#46039f"
             ],
             [
              0.2222222222222222,
              "#7201a8"
             ],
             [
              0.3333333333333333,
              "#9c179e"
             ],
             [
              0.4444444444444444,
              "#bd3786"
             ],
             [
              0.5555555555555556,
              "#d8576b"
             ],
             [
              0.6666666666666666,
              "#ed7953"
             ],
             [
              0.7777777777777778,
              "#fb9f3a"
             ],
             [
              0.8888888888888888,
              "#fdca26"
             ],
             [
              1,
              "#f0f921"
             ]
            ],
            "type": "histogram2dcontour"
           }
          ],
          "mesh3d": [
           {
            "colorbar": {
             "outlinewidth": 0,
             "ticks": ""
            },
            "type": "mesh3d"
           }
          ],
          "parcoords": [
           {
            "line": {
             "colorbar": {
              "outlinewidth": 0,
              "ticks": ""
             }
            },
            "type": "parcoords"
           }
          ],
          "pie": [
           {
            "automargin": true,
            "type": "pie"
           }
          ],
          "scatter": [
           {
            "fillpattern": {
             "fillmode": "overlay",
             "size": 10,
             "solidity": 0.2
            },
            "type": "scatter"
           }
          ],
          "scatter3d": [
           {
            "line": {
             "colorbar": {
              "outlinewidth": 0,
              "ticks": ""
             }
            },
            "marker": {
             "colorbar": {
              "outlinewidth": 0,
              "ticks": ""
             }
            },
            "type": "scatter3d"
           }
          ],
          "scattercarpet": [
           {
            "marker": {
             "colorbar": {
              "outlinewidth": 0,
              "ticks": ""
             }
            },
            "type": "scattercarpet"
           }
          ],
          "scattergeo": [
           {
            "marker": {
             "colorbar": {
              "outlinewidth": 0,
              "ticks": ""
             }
            },
            "type": "scattergeo"
           }
          ],
          "scattergl": [
           {
            "marker": {
             "colorbar": {
              "outlinewidth": 0,
              "ticks": ""
             }
            },
            "type": "scattergl"
           }
          ],
          "scattermapbox": [
           {
            "marker": {
             "colorbar": {
              "outlinewidth": 0,
              "ticks": ""
             }
            },
            "type": "scattermapbox"
           }
          ],
          "scatterpolar": [
           {
            "marker": {
             "colorbar": {
              "outlinewidth": 0,
              "ticks": ""
             }
            },
            "type": "scatterpolar"
           }
          ],
          "scatterpolargl": [
           {
            "marker": {
             "colorbar": {
              "outlinewidth": 0,
              "ticks": ""
             }
            },
            "type": "scatterpolargl"
           }
          ],
          "scatterternary": [
           {
            "marker": {
             "colorbar": {
              "outlinewidth": 0,
              "ticks": ""
             }
            },
            "type": "scatterternary"
           }
          ],
          "surface": [
           {
            "colorbar": {
             "outlinewidth": 0,
             "ticks": ""
            },
            "colorscale": [
             [
              0,
              "#0d0887"
             ],
             [
              0.1111111111111111,
              "#46039f"
             ],
             [
              0.2222222222222222,
              "#7201a8"
             ],
             [
              0.3333333333333333,
              "#9c179e"
             ],
             [
              0.4444444444444444,
              "#bd3786"
             ],
             [
              0.5555555555555556,
              "#d8576b"
             ],
             [
              0.6666666666666666,
              "#ed7953"
             ],
             [
              0.7777777777777778,
              "#fb9f3a"
             ],
             [
              0.8888888888888888,
              "#fdca26"
             ],
             [
              1,
              "#f0f921"
             ]
            ],
            "type": "surface"
           }
          ],
          "table": [
           {
            "cells": {
             "fill": {
              "color": "#EBF0F8"
             },
             "line": {
              "color": "white"
             }
            },
            "header": {
             "fill": {
              "color": "#C8D4E3"
             },
             "line": {
              "color": "white"
             }
            },
            "type": "table"
           }
          ]
         },
         "layout": {
          "annotationdefaults": {
           "arrowcolor": "#2a3f5f",
           "arrowhead": 0,
           "arrowwidth": 1
          },
          "autotypenumbers": "strict",
          "coloraxis": {
           "colorbar": {
            "outlinewidth": 0,
            "ticks": ""
           }
          },
          "colorscale": {
           "diverging": [
            [
             0,
             "#8e0152"
            ],
            [
             0.1,
             "#c51b7d"
            ],
            [
             0.2,
             "#de77ae"
            ],
            [
             0.3,
             "#f1b6da"
            ],
            [
             0.4,
             "#fde0ef"
            ],
            [
             0.5,
             "#f7f7f7"
            ],
            [
             0.6,
             "#e6f5d0"
            ],
            [
             0.7,
             "#b8e186"
            ],
            [
             0.8,
             "#7fbc41"
            ],
            [
             0.9,
             "#4d9221"
            ],
            [
             1,
             "#276419"
            ]
           ],
           "sequential": [
            [
             0,
             "#0d0887"
            ],
            [
             0.1111111111111111,
             "#46039f"
            ],
            [
             0.2222222222222222,
             "#7201a8"
            ],
            [
             0.3333333333333333,
             "#9c179e"
            ],
            [
             0.4444444444444444,
             "#bd3786"
            ],
            [
             0.5555555555555556,
             "#d8576b"
            ],
            [
             0.6666666666666666,
             "#ed7953"
            ],
            [
             0.7777777777777778,
             "#fb9f3a"
            ],
            [
             0.8888888888888888,
             "#fdca26"
            ],
            [
             1,
             "#f0f921"
            ]
           ],
           "sequentialminus": [
            [
             0,
             "#0d0887"
            ],
            [
             0.1111111111111111,
             "#46039f"
            ],
            [
             0.2222222222222222,
             "#7201a8"
            ],
            [
             0.3333333333333333,
             "#9c179e"
            ],
            [
             0.4444444444444444,
             "#bd3786"
            ],
            [
             0.5555555555555556,
             "#d8576b"
            ],
            [
             0.6666666666666666,
             "#ed7953"
            ],
            [
             0.7777777777777778,
             "#fb9f3a"
            ],
            [
             0.8888888888888888,
             "#fdca26"
            ],
            [
             1,
             "#f0f921"
            ]
           ]
          },
          "colorway": [
           "#636efa",
           "#EF553B",
           "#00cc96",
           "#ab63fa",
           "#FFA15A",
           "#19d3f3",
           "#FF6692",
           "#B6E880",
           "#FF97FF",
           "#FECB52"
          ],
          "font": {
           "color": "#2a3f5f"
          },
          "geo": {
           "bgcolor": "white",
           "lakecolor": "white",
           "landcolor": "#E5ECF6",
           "showlakes": true,
           "showland": true,
           "subunitcolor": "white"
          },
          "hoverlabel": {
           "align": "left"
          },
          "hovermode": "closest",
          "mapbox": {
           "style": "light"
          },
          "paper_bgcolor": "white",
          "plot_bgcolor": "#E5ECF6",
          "polar": {
           "angularaxis": {
            "gridcolor": "white",
            "linecolor": "white",
            "ticks": ""
           },
           "bgcolor": "#E5ECF6",
           "radialaxis": {
            "gridcolor": "white",
            "linecolor": "white",
            "ticks": ""
           }
          },
          "scene": {
           "xaxis": {
            "backgroundcolor": "#E5ECF6",
            "gridcolor": "white",
            "gridwidth": 2,
            "linecolor": "white",
            "showbackground": true,
            "ticks": "",
            "zerolinecolor": "white"
           },
           "yaxis": {
            "backgroundcolor": "#E5ECF6",
            "gridcolor": "white",
            "gridwidth": 2,
            "linecolor": "white",
            "showbackground": true,
            "ticks": "",
            "zerolinecolor": "white"
           },
           "zaxis": {
            "backgroundcolor": "#E5ECF6",
            "gridcolor": "white",
            "gridwidth": 2,
            "linecolor": "white",
            "showbackground": true,
            "ticks": "",
            "zerolinecolor": "white"
           }
          },
          "shapedefaults": {
           "line": {
            "color": "#2a3f5f"
           }
          },
          "ternary": {
           "aaxis": {
            "gridcolor": "white",
            "linecolor": "white",
            "ticks": ""
           },
           "baxis": {
            "gridcolor": "white",
            "linecolor": "white",
            "ticks": ""
           },
           "bgcolor": "#E5ECF6",
           "caxis": {
            "gridcolor": "white",
            "linecolor": "white",
            "ticks": ""
           }
          },
          "title": {
           "x": 0.05
          },
          "xaxis": {
           "automargin": true,
           "gridcolor": "white",
           "linecolor": "white",
           "ticks": "",
           "title": {
            "standoff": 15
           },
           "zerolinecolor": "white",
           "zerolinewidth": 2
          },
          "yaxis": {
           "automargin": true,
           "gridcolor": "white",
           "linecolor": "white",
           "ticks": "",
           "title": {
            "standoff": 15
           },
           "zerolinecolor": "white",
           "zerolinewidth": 2
          }
         }
        },
        "title": {
         "text": "Sentiment Analysis on Topic 0"
        },
        "xaxis": {
         "anchor": "y",
         "domain": [
          0,
          1
         ],
         "title": {
          "text": "Subjectivity Score"
         }
        },
        "yaxis": {
         "anchor": "x",
         "domain": [
          0,
          1
         ],
         "title": {
          "text": "Sentiment Score"
         }
        }
       }
      },
      "text/html": [
       "<div>                            <div id=\"13322380-0edb-477a-9dc8-195d099b9509\" class=\"plotly-graph-div\" style=\"height:525px; width:100%;\"></div>            <script type=\"text/javascript\">                require([\"plotly\"], function(Plotly) {                    window.PLOTLYENV=window.PLOTLYENV || {};                                    if (document.getElementById(\"13322380-0edb-477a-9dc8-195d099b9509\")) {                    Plotly.newPlot(                        \"13322380-0edb-477a-9dc8-195d099b9509\",                        [{\"hovertemplate\":\"\\u003cb\\u003e%{hovertext}\\u003c\\u002fb\\u003e\\u003cbr\\u003e\\u003cbr\\u003eSubjectivity Score=%{x}\\u003cbr\\u003eSentiment Score=%{y}\\u003cbr\\u003eMain Topic Score=%{marker.size}\\u003cextra\\u003e\\u003c\\u002fextra\\u003e\",\"hovertext\":[\"fee.org\",\"www.dailymail.co.uk\",\"dlvr.it\"],\"legendgroup\":\"\",\"marker\":{\"color\":\"#636efa\",\"size\":[0.9975336194038391,0.613308846950531,0.9830144643783569],\"sizemode\":\"area\",\"sizeref\":0.0024938340485095977,\"symbol\":\"circle\"},\"mode\":\"markers\",\"name\":\"\",\"orientation\":\"v\",\"showlegend\":false,\"x\":[0.55,0.34,0.0],\"xaxis\":\"x\",\"y\":[0.17,0.03,0.0],\"yaxis\":\"y\",\"type\":\"scatter\"}],                        {\"template\":{\"data\":{\"histogram2dcontour\":[{\"type\":\"histogram2dcontour\",\"colorbar\":{\"outlinewidth\":0,\"ticks\":\"\"},\"colorscale\":[[0.0,\"#0d0887\"],[0.1111111111111111,\"#46039f\"],[0.2222222222222222,\"#7201a8\"],[0.3333333333333333,\"#9c179e\"],[0.4444444444444444,\"#bd3786\"],[0.5555555555555556,\"#d8576b\"],[0.6666666666666666,\"#ed7953\"],[0.7777777777777778,\"#fb9f3a\"],[0.8888888888888888,\"#fdca26\"],[1.0,\"#f0f921\"]]}],\"choropleth\":[{\"type\":\"choropleth\",\"colorbar\":{\"outlinewidth\":0,\"ticks\":\"\"}}],\"histogram2d\":[{\"type\":\"histogram2d\",\"colorbar\":{\"outlinewidth\":0,\"ticks\":\"\"},\"colorscale\":[[0.0,\"#0d0887\"],[0.1111111111111111,\"#46039f\"],[0.2222222222222222,\"#7201a8\"],[0.3333333333333333,\"#9c179e\"],[0.4444444444444444,\"#bd3786\"],[0.5555555555555556,\"#d8576b\"],[0.6666666666666666,\"#ed7953\"],[0.7777777777777778,\"#fb9f3a\"],[0.8888888888888888,\"#fdca26\"],[1.0,\"#f0f921\"]]}],\"heatmap\":[{\"type\":\"heatmap\",\"colorbar\":{\"outlinewidth\":0,\"ticks\":\"\"},\"colorscale\":[[0.0,\"#0d0887\"],[0.1111111111111111,\"#46039f\"],[0.2222222222222222,\"#7201a8\"],[0.3333333333333333,\"#9c179e\"],[0.4444444444444444,\"#bd3786\"],[0.5555555555555556,\"#d8576b\"],[0.6666666666666666,\"#ed7953\"],[0.7777777777777778,\"#fb9f3a\"],[0.8888888888888888,\"#fdca26\"],[1.0,\"#f0f921\"]]}],\"heatmapgl\":[{\"type\":\"heatmapgl\",\"colorbar\":{\"outlinewidth\":0,\"ticks\":\"\"},\"colorscale\":[[0.0,\"#0d0887\"],[0.1111111111111111,\"#46039f\"],[0.2222222222222222,\"#7201a8\"],[0.3333333333333333,\"#9c179e\"],[0.4444444444444444,\"#bd3786\"],[0.5555555555555556,\"#d8576b\"],[0.6666666666666666,\"#ed7953\"],[0.7777777777777778,\"#fb9f3a\"],[0.8888888888888888,\"#fdca26\"],[1.0,\"#f0f921\"]]}],\"contourcarpet\":[{\"type\":\"contourcarpet\",\"colorbar\":{\"outlinewidth\":0,\"ticks\":\"\"}}],\"contour\":[{\"type\":\"contour\",\"colorbar\":{\"outlinewidth\":0,\"ticks\":\"\"},\"colorscale\":[[0.0,\"#0d0887\"],[0.1111111111111111,\"#46039f\"],[0.2222222222222222,\"#7201a8\"],[0.3333333333333333,\"#9c179e\"],[0.4444444444444444,\"#bd3786\"],[0.5555555555555556,\"#d8576b\"],[0.6666666666666666,\"#ed7953\"],[0.7777777777777778,\"#fb9f3a\"],[0.8888888888888888,\"#fdca26\"],[1.0,\"#f0f921\"]]}],\"surface\":[{\"type\":\"surface\",\"colorbar\":{\"outlinewidth\":0,\"ticks\":\"\"},\"colorscale\":[[0.0,\"#0d0887\"],[0.1111111111111111,\"#46039f\"],[0.2222222222222222,\"#7201a8\"],[0.3333333333333333,\"#9c179e\"],[0.4444444444444444,\"#bd3786\"],[0.5555555555555556,\"#d8576b\"],[0.6666666666666666,\"#ed7953\"],[0.7777777777777778,\"#fb9f3a\"],[0.8888888888888888,\"#fdca26\"],[1.0,\"#f0f921\"]]}],\"mesh3d\":[{\"type\":\"mesh3d\",\"colorbar\":{\"outlinewidth\":0,\"ticks\":\"\"}}],\"scatter\":[{\"fillpattern\":{\"fillmode\":\"overlay\",\"size\":10,\"solidity\":0.2},\"type\":\"scatter\"}],\"parcoords\":[{\"type\":\"parcoords\",\"line\":{\"colorbar\":{\"outlinewidth\":0,\"ticks\":\"\"}}}],\"scatterpolargl\":[{\"type\":\"scatterpolargl\",\"marker\":{\"colorbar\":{\"outlinewidth\":0,\"ticks\":\"\"}}}],\"bar\":[{\"error_x\":{\"color\":\"#2a3f5f\"},\"error_y\":{\"color\":\"#2a3f5f\"},\"marker\":{\"line\":{\"color\":\"#E5ECF6\",\"width\":0.5},\"pattern\":{\"fillmode\":\"overlay\",\"size\":10,\"solidity\":0.2}},\"type\":\"bar\"}],\"scattergeo\":[{\"type\":\"scattergeo\",\"marker\":{\"colorbar\":{\"outlinewidth\":0,\"ticks\":\"\"}}}],\"scatterpolar\":[{\"type\":\"scatterpolar\",\"marker\":{\"colorbar\":{\"outlinewidth\":0,\"ticks\":\"\"}}}],\"histogram\":[{\"marker\":{\"pattern\":{\"fillmode\":\"overlay\",\"size\":10,\"solidity\":0.2}},\"type\":\"histogram\"}],\"scattergl\":[{\"type\":\"scattergl\",\"marker\":{\"colorbar\":{\"outlinewidth\":0,\"ticks\":\"\"}}}],\"scatter3d\":[{\"type\":\"scatter3d\",\"line\":{\"colorbar\":{\"outlinewidth\":0,\"ticks\":\"\"}},\"marker\":{\"colorbar\":{\"outlinewidth\":0,\"ticks\":\"\"}}}],\"scattermapbox\":[{\"type\":\"scattermapbox\",\"marker\":{\"colorbar\":{\"outlinewidth\":0,\"ticks\":\"\"}}}],\"scatterternary\":[{\"type\":\"scatterternary\",\"marker\":{\"colorbar\":{\"outlinewidth\":0,\"ticks\":\"\"}}}],\"scattercarpet\":[{\"type\":\"scattercarpet\",\"marker\":{\"colorbar\":{\"outlinewidth\":0,\"ticks\":\"\"}}}],\"carpet\":[{\"aaxis\":{\"endlinecolor\":\"#2a3f5f\",\"gridcolor\":\"white\",\"linecolor\":\"white\",\"minorgridcolor\":\"white\",\"startlinecolor\":\"#2a3f5f\"},\"baxis\":{\"endlinecolor\":\"#2a3f5f\",\"gridcolor\":\"white\",\"linecolor\":\"white\",\"minorgridcolor\":\"white\",\"startlinecolor\":\"#2a3f5f\"},\"type\":\"carpet\"}],\"table\":[{\"cells\":{\"fill\":{\"color\":\"#EBF0F8\"},\"line\":{\"color\":\"white\"}},\"header\":{\"fill\":{\"color\":\"#C8D4E3\"},\"line\":{\"color\":\"white\"}},\"type\":\"table\"}],\"barpolar\":[{\"marker\":{\"line\":{\"color\":\"#E5ECF6\",\"width\":0.5},\"pattern\":{\"fillmode\":\"overlay\",\"size\":10,\"solidity\":0.2}},\"type\":\"barpolar\"}],\"pie\":[{\"automargin\":true,\"type\":\"pie\"}]},\"layout\":{\"autotypenumbers\":\"strict\",\"colorway\":[\"#636efa\",\"#EF553B\",\"#00cc96\",\"#ab63fa\",\"#FFA15A\",\"#19d3f3\",\"#FF6692\",\"#B6E880\",\"#FF97FF\",\"#FECB52\"],\"font\":{\"color\":\"#2a3f5f\"},\"hovermode\":\"closest\",\"hoverlabel\":{\"align\":\"left\"},\"paper_bgcolor\":\"white\",\"plot_bgcolor\":\"#E5ECF6\",\"polar\":{\"bgcolor\":\"#E5ECF6\",\"angularaxis\":{\"gridcolor\":\"white\",\"linecolor\":\"white\",\"ticks\":\"\"},\"radialaxis\":{\"gridcolor\":\"white\",\"linecolor\":\"white\",\"ticks\":\"\"}},\"ternary\":{\"bgcolor\":\"#E5ECF6\",\"aaxis\":{\"gridcolor\":\"white\",\"linecolor\":\"white\",\"ticks\":\"\"},\"baxis\":{\"gridcolor\":\"white\",\"linecolor\":\"white\",\"ticks\":\"\"},\"caxis\":{\"gridcolor\":\"white\",\"linecolor\":\"white\",\"ticks\":\"\"}},\"coloraxis\":{\"colorbar\":{\"outlinewidth\":0,\"ticks\":\"\"}},\"colorscale\":{\"sequential\":[[0.0,\"#0d0887\"],[0.1111111111111111,\"#46039f\"],[0.2222222222222222,\"#7201a8\"],[0.3333333333333333,\"#9c179e\"],[0.4444444444444444,\"#bd3786\"],[0.5555555555555556,\"#d8576b\"],[0.6666666666666666,\"#ed7953\"],[0.7777777777777778,\"#fb9f3a\"],[0.8888888888888888,\"#fdca26\"],[1.0,\"#f0f921\"]],\"sequentialminus\":[[0.0,\"#0d0887\"],[0.1111111111111111,\"#46039f\"],[0.2222222222222222,\"#7201a8\"],[0.3333333333333333,\"#9c179e\"],[0.4444444444444444,\"#bd3786\"],[0.5555555555555556,\"#d8576b\"],[0.6666666666666666,\"#ed7953\"],[0.7777777777777778,\"#fb9f3a\"],[0.8888888888888888,\"#fdca26\"],[1.0,\"#f0f921\"]],\"diverging\":[[0,\"#8e0152\"],[0.1,\"#c51b7d\"],[0.2,\"#de77ae\"],[0.3,\"#f1b6da\"],[0.4,\"#fde0ef\"],[0.5,\"#f7f7f7\"],[0.6,\"#e6f5d0\"],[0.7,\"#b8e186\"],[0.8,\"#7fbc41\"],[0.9,\"#4d9221\"],[1,\"#276419\"]]},\"xaxis\":{\"gridcolor\":\"white\",\"linecolor\":\"white\",\"ticks\":\"\",\"title\":{\"standoff\":15},\"zerolinecolor\":\"white\",\"automargin\":true,\"zerolinewidth\":2},\"yaxis\":{\"gridcolor\":\"white\",\"linecolor\":\"white\",\"ticks\":\"\",\"title\":{\"standoff\":15},\"zerolinecolor\":\"white\",\"automargin\":true,\"zerolinewidth\":2},\"scene\":{\"xaxis\":{\"backgroundcolor\":\"#E5ECF6\",\"gridcolor\":\"white\",\"linecolor\":\"white\",\"showbackground\":true,\"ticks\":\"\",\"zerolinecolor\":\"white\",\"gridwidth\":2},\"yaxis\":{\"backgroundcolor\":\"#E5ECF6\",\"gridcolor\":\"white\",\"linecolor\":\"white\",\"showbackground\":true,\"ticks\":\"\",\"zerolinecolor\":\"white\",\"gridwidth\":2},\"zaxis\":{\"backgroundcolor\":\"#E5ECF6\",\"gridcolor\":\"white\",\"linecolor\":\"white\",\"showbackground\":true,\"ticks\":\"\",\"zerolinecolor\":\"white\",\"gridwidth\":2}},\"shapedefaults\":{\"line\":{\"color\":\"#2a3f5f\"}},\"annotationdefaults\":{\"arrowcolor\":\"#2a3f5f\",\"arrowhead\":0,\"arrowwidth\":1},\"geo\":{\"bgcolor\":\"white\",\"landcolor\":\"#E5ECF6\",\"subunitcolor\":\"white\",\"showland\":true,\"showlakes\":true,\"lakecolor\":\"white\"},\"title\":{\"x\":0.05},\"mapbox\":{\"style\":\"light\"}}},\"xaxis\":{\"anchor\":\"y\",\"domain\":[0.0,1.0],\"title\":{\"text\":\"Subjectivity Score\"}},\"yaxis\":{\"anchor\":\"x\",\"domain\":[0.0,1.0],\"title\":{\"text\":\"Sentiment Score\"}},\"legend\":{\"tracegroupgap\":0,\"itemsizing\":\"constant\"},\"title\":{\"text\":\"Sentiment Analysis on Topic 0\"}},                        {\"responsive\": true}                    ).then(function(){\n",
       "                            \n",
       "var gd = document.getElementById('13322380-0edb-477a-9dc8-195d099b9509');\n",
       "var x = new MutationObserver(function (mutations, observer) {{\n",
       "        var display = window.getComputedStyle(gd).display;\n",
       "        if (!display || display === 'none') {{\n",
       "            console.log([gd, 'removed!']);\n",
       "            Plotly.purge(gd);\n",
       "            observer.disconnect();\n",
       "        }}\n",
       "}});\n",
       "\n",
       "// Listen for the removal of the full notebook cells\n",
       "var notebookContainer = gd.closest('#notebook-container');\n",
       "if (notebookContainer) {{\n",
       "    x.observe(notebookContainer, {childList: true});\n",
       "}}\n",
       "\n",
       "// Listen for the clearing of the current output cell\n",
       "var outputEl = gd.closest('.output');\n",
       "if (outputEl) {{\n",
       "    x.observe(outputEl, {childList: true});\n",
       "}}\n",
       "\n",
       "                        })                };                });            </script>        </div>"
      ]
     },
     "metadata": {},
     "output_type": "display_data"
    },
    {
     "data": {
      "application/vnd.plotly.v1+json": {
       "config": {
        "plotlyServerURL": "https://plot.ly"
       },
       "data": [
        {
         "hovertemplate": "<b>%{hovertext}</b><br><br>Subjectivity Score=%{x}<br>Sentiment Score=%{y}<br>Main Topic Score=%{marker.size}<extra></extra>",
         "hovertext": [
          "tiny.iavian.net",
          "www.foxnews.com",
          "en.wikipedia.org",
          "www.cbsnews.com",
          "ift.tt",
          "nationalfile.com"
         ],
         "legendgroup": "",
         "marker": {
          "color": "#636efa",
          "size": [
           0.9956088662147522,
           0.9938334822654724,
           0.9982620477676392,
           0.9959078431129456,
           0.9979396462440491,
           0.9956088662147522
          ],
          "sizemode": "area",
          "sizeref": 0.0024956551194190977,
          "symbol": "circle"
         },
         "mode": "markers",
         "name": "",
         "orientation": "v",
         "showlegend": false,
         "type": "scatter",
         "x": [
          0.38,
          0.55,
          0.3,
          0.29,
          0.41,
          0.38
         ],
         "xaxis": "x",
         "y": [
          0.05,
          0.1,
          -0.04,
          0.06,
          0.02,
          0.05
         ],
         "yaxis": "y"
        }
       ],
       "layout": {
        "legend": {
         "itemsizing": "constant",
         "tracegroupgap": 0
        },
        "template": {
         "data": {
          "bar": [
           {
            "error_x": {
             "color": "#2a3f5f"
            },
            "error_y": {
             "color": "#2a3f5f"
            },
            "marker": {
             "line": {
              "color": "#E5ECF6",
              "width": 0.5
             },
             "pattern": {
              "fillmode": "overlay",
              "size": 10,
              "solidity": 0.2
             }
            },
            "type": "bar"
           }
          ],
          "barpolar": [
           {
            "marker": {
             "line": {
              "color": "#E5ECF6",
              "width": 0.5
             },
             "pattern": {
              "fillmode": "overlay",
              "size": 10,
              "solidity": 0.2
             }
            },
            "type": "barpolar"
           }
          ],
          "carpet": [
           {
            "aaxis": {
             "endlinecolor": "#2a3f5f",
             "gridcolor": "white",
             "linecolor": "white",
             "minorgridcolor": "white",
             "startlinecolor": "#2a3f5f"
            },
            "baxis": {
             "endlinecolor": "#2a3f5f",
             "gridcolor": "white",
             "linecolor": "white",
             "minorgridcolor": "white",
             "startlinecolor": "#2a3f5f"
            },
            "type": "carpet"
           }
          ],
          "choropleth": [
           {
            "colorbar": {
             "outlinewidth": 0,
             "ticks": ""
            },
            "type": "choropleth"
           }
          ],
          "contour": [
           {
            "colorbar": {
             "outlinewidth": 0,
             "ticks": ""
            },
            "colorscale": [
             [
              0,
              "#0d0887"
             ],
             [
              0.1111111111111111,
              "#46039f"
             ],
             [
              0.2222222222222222,
              "#7201a8"
             ],
             [
              0.3333333333333333,
              "#9c179e"
             ],
             [
              0.4444444444444444,
              "#bd3786"
             ],
             [
              0.5555555555555556,
              "#d8576b"
             ],
             [
              0.6666666666666666,
              "#ed7953"
             ],
             [
              0.7777777777777778,
              "#fb9f3a"
             ],
             [
              0.8888888888888888,
              "#fdca26"
             ],
             [
              1,
              "#f0f921"
             ]
            ],
            "type": "contour"
           }
          ],
          "contourcarpet": [
           {
            "colorbar": {
             "outlinewidth": 0,
             "ticks": ""
            },
            "type": "contourcarpet"
           }
          ],
          "heatmap": [
           {
            "colorbar": {
             "outlinewidth": 0,
             "ticks": ""
            },
            "colorscale": [
             [
              0,
              "#0d0887"
             ],
             [
              0.1111111111111111,
              "#46039f"
             ],
             [
              0.2222222222222222,
              "#7201a8"
             ],
             [
              0.3333333333333333,
              "#9c179e"
             ],
             [
              0.4444444444444444,
              "#bd3786"
             ],
             [
              0.5555555555555556,
              "#d8576b"
             ],
             [
              0.6666666666666666,
              "#ed7953"
             ],
             [
              0.7777777777777778,
              "#fb9f3a"
             ],
             [
              0.8888888888888888,
              "#fdca26"
             ],
             [
              1,
              "#f0f921"
             ]
            ],
            "type": "heatmap"
           }
          ],
          "heatmapgl": [
           {
            "colorbar": {
             "outlinewidth": 0,
             "ticks": ""
            },
            "colorscale": [
             [
              0,
              "#0d0887"
             ],
             [
              0.1111111111111111,
              "#46039f"
             ],
             [
              0.2222222222222222,
              "#7201a8"
             ],
             [
              0.3333333333333333,
              "#9c179e"
             ],
             [
              0.4444444444444444,
              "#bd3786"
             ],
             [
              0.5555555555555556,
              "#d8576b"
             ],
             [
              0.6666666666666666,
              "#ed7953"
             ],
             [
              0.7777777777777778,
              "#fb9f3a"
             ],
             [
              0.8888888888888888,
              "#fdca26"
             ],
             [
              1,
              "#f0f921"
             ]
            ],
            "type": "heatmapgl"
           }
          ],
          "histogram": [
           {
            "marker": {
             "pattern": {
              "fillmode": "overlay",
              "size": 10,
              "solidity": 0.2
             }
            },
            "type": "histogram"
           }
          ],
          "histogram2d": [
           {
            "colorbar": {
             "outlinewidth": 0,
             "ticks": ""
            },
            "colorscale": [
             [
              0,
              "#0d0887"
             ],
             [
              0.1111111111111111,
              "#46039f"
             ],
             [
              0.2222222222222222,
              "#7201a8"
             ],
             [
              0.3333333333333333,
              "#9c179e"
             ],
             [
              0.4444444444444444,
              "#bd3786"
             ],
             [
              0.5555555555555556,
              "#d8576b"
             ],
             [
              0.6666666666666666,
              "#ed7953"
             ],
             [
              0.7777777777777778,
              "#fb9f3a"
             ],
             [
              0.8888888888888888,
              "#fdca26"
             ],
             [
              1,
              "#f0f921"
             ]
            ],
            "type": "histogram2d"
           }
          ],
          "histogram2dcontour": [
           {
            "colorbar": {
             "outlinewidth": 0,
             "ticks": ""
            },
            "colorscale": [
             [
              0,
              "#0d0887"
             ],
             [
              0.1111111111111111,
              "#46039f"
             ],
             [
              0.2222222222222222,
              "#7201a8"
             ],
             [
              0.3333333333333333,
              "#9c179e"
             ],
             [
              0.4444444444444444,
              "#bd3786"
             ],
             [
              0.5555555555555556,
              "#d8576b"
             ],
             [
              0.6666666666666666,
              "#ed7953"
             ],
             [
              0.7777777777777778,
              "#fb9f3a"
             ],
             [
              0.8888888888888888,
              "#fdca26"
             ],
             [
              1,
              "#f0f921"
             ]
            ],
            "type": "histogram2dcontour"
           }
          ],
          "mesh3d": [
           {
            "colorbar": {
             "outlinewidth": 0,
             "ticks": ""
            },
            "type": "mesh3d"
           }
          ],
          "parcoords": [
           {
            "line": {
             "colorbar": {
              "outlinewidth": 0,
              "ticks": ""
             }
            },
            "type": "parcoords"
           }
          ],
          "pie": [
           {
            "automargin": true,
            "type": "pie"
           }
          ],
          "scatter": [
           {
            "fillpattern": {
             "fillmode": "overlay",
             "size": 10,
             "solidity": 0.2
            },
            "type": "scatter"
           }
          ],
          "scatter3d": [
           {
            "line": {
             "colorbar": {
              "outlinewidth": 0,
              "ticks": ""
             }
            },
            "marker": {
             "colorbar": {
              "outlinewidth": 0,
              "ticks": ""
             }
            },
            "type": "scatter3d"
           }
          ],
          "scattercarpet": [
           {
            "marker": {
             "colorbar": {
              "outlinewidth": 0,
              "ticks": ""
             }
            },
            "type": "scattercarpet"
           }
          ],
          "scattergeo": [
           {
            "marker": {
             "colorbar": {
              "outlinewidth": 0,
              "ticks": ""
             }
            },
            "type": "scattergeo"
           }
          ],
          "scattergl": [
           {
            "marker": {
             "colorbar": {
              "outlinewidth": 0,
              "ticks": ""
             }
            },
            "type": "scattergl"
           }
          ],
          "scattermapbox": [
           {
            "marker": {
             "colorbar": {
              "outlinewidth": 0,
              "ticks": ""
             }
            },
            "type": "scattermapbox"
           }
          ],
          "scatterpolar": [
           {
            "marker": {
             "colorbar": {
              "outlinewidth": 0,
              "ticks": ""
             }
            },
            "type": "scatterpolar"
           }
          ],
          "scatterpolargl": [
           {
            "marker": {
             "colorbar": {
              "outlinewidth": 0,
              "ticks": ""
             }
            },
            "type": "scatterpolargl"
           }
          ],
          "scatterternary": [
           {
            "marker": {
             "colorbar": {
              "outlinewidth": 0,
              "ticks": ""
             }
            },
            "type": "scatterternary"
           }
          ],
          "surface": [
           {
            "colorbar": {
             "outlinewidth": 0,
             "ticks": ""
            },
            "colorscale": [
             [
              0,
              "#0d0887"
             ],
             [
              0.1111111111111111,
              "#46039f"
             ],
             [
              0.2222222222222222,
              "#7201a8"
             ],
             [
              0.3333333333333333,
              "#9c179e"
             ],
             [
              0.4444444444444444,
              "#bd3786"
             ],
             [
              0.5555555555555556,
              "#d8576b"
             ],
             [
              0.6666666666666666,
              "#ed7953"
             ],
             [
              0.7777777777777778,
              "#fb9f3a"
             ],
             [
              0.8888888888888888,
              "#fdca26"
             ],
             [
              1,
              "#f0f921"
             ]
            ],
            "type": "surface"
           }
          ],
          "table": [
           {
            "cells": {
             "fill": {
              "color": "#EBF0F8"
             },
             "line": {
              "color": "white"
             }
            },
            "header": {
             "fill": {
              "color": "#C8D4E3"
             },
             "line": {
              "color": "white"
             }
            },
            "type": "table"
           }
          ]
         },
         "layout": {
          "annotationdefaults": {
           "arrowcolor": "#2a3f5f",
           "arrowhead": 0,
           "arrowwidth": 1
          },
          "autotypenumbers": "strict",
          "coloraxis": {
           "colorbar": {
            "outlinewidth": 0,
            "ticks": ""
           }
          },
          "colorscale": {
           "diverging": [
            [
             0,
             "#8e0152"
            ],
            [
             0.1,
             "#c51b7d"
            ],
            [
             0.2,
             "#de77ae"
            ],
            [
             0.3,
             "#f1b6da"
            ],
            [
             0.4,
             "#fde0ef"
            ],
            [
             0.5,
             "#f7f7f7"
            ],
            [
             0.6,
             "#e6f5d0"
            ],
            [
             0.7,
             "#b8e186"
            ],
            [
             0.8,
             "#7fbc41"
            ],
            [
             0.9,
             "#4d9221"
            ],
            [
             1,
             "#276419"
            ]
           ],
           "sequential": [
            [
             0,
             "#0d0887"
            ],
            [
             0.1111111111111111,
             "#46039f"
            ],
            [
             0.2222222222222222,
             "#7201a8"
            ],
            [
             0.3333333333333333,
             "#9c179e"
            ],
            [
             0.4444444444444444,
             "#bd3786"
            ],
            [
             0.5555555555555556,
             "#d8576b"
            ],
            [
             0.6666666666666666,
             "#ed7953"
            ],
            [
             0.7777777777777778,
             "#fb9f3a"
            ],
            [
             0.8888888888888888,
             "#fdca26"
            ],
            [
             1,
             "#f0f921"
            ]
           ],
           "sequentialminus": [
            [
             0,
             "#0d0887"
            ],
            [
             0.1111111111111111,
             "#46039f"
            ],
            [
             0.2222222222222222,
             "#7201a8"
            ],
            [
             0.3333333333333333,
             "#9c179e"
            ],
            [
             0.4444444444444444,
             "#bd3786"
            ],
            [
             0.5555555555555556,
             "#d8576b"
            ],
            [
             0.6666666666666666,
             "#ed7953"
            ],
            [
             0.7777777777777778,
             "#fb9f3a"
            ],
            [
             0.8888888888888888,
             "#fdca26"
            ],
            [
             1,
             "#f0f921"
            ]
           ]
          },
          "colorway": [
           "#636efa",
           "#EF553B",
           "#00cc96",
           "#ab63fa",
           "#FFA15A",
           "#19d3f3",
           "#FF6692",
           "#B6E880",
           "#FF97FF",
           "#FECB52"
          ],
          "font": {
           "color": "#2a3f5f"
          },
          "geo": {
           "bgcolor": "white",
           "lakecolor": "white",
           "landcolor": "#E5ECF6",
           "showlakes": true,
           "showland": true,
           "subunitcolor": "white"
          },
          "hoverlabel": {
           "align": "left"
          },
          "hovermode": "closest",
          "mapbox": {
           "style": "light"
          },
          "paper_bgcolor": "white",
          "plot_bgcolor": "#E5ECF6",
          "polar": {
           "angularaxis": {
            "gridcolor": "white",
            "linecolor": "white",
            "ticks": ""
           },
           "bgcolor": "#E5ECF6",
           "radialaxis": {
            "gridcolor": "white",
            "linecolor": "white",
            "ticks": ""
           }
          },
          "scene": {
           "xaxis": {
            "backgroundcolor": "#E5ECF6",
            "gridcolor": "white",
            "gridwidth": 2,
            "linecolor": "white",
            "showbackground": true,
            "ticks": "",
            "zerolinecolor": "white"
           },
           "yaxis": {
            "backgroundcolor": "#E5ECF6",
            "gridcolor": "white",
            "gridwidth": 2,
            "linecolor": "white",
            "showbackground": true,
            "ticks": "",
            "zerolinecolor": "white"
           },
           "zaxis": {
            "backgroundcolor": "#E5ECF6",
            "gridcolor": "white",
            "gridwidth": 2,
            "linecolor": "white",
            "showbackground": true,
            "ticks": "",
            "zerolinecolor": "white"
           }
          },
          "shapedefaults": {
           "line": {
            "color": "#2a3f5f"
           }
          },
          "ternary": {
           "aaxis": {
            "gridcolor": "white",
            "linecolor": "white",
            "ticks": ""
           },
           "baxis": {
            "gridcolor": "white",
            "linecolor": "white",
            "ticks": ""
           },
           "bgcolor": "#E5ECF6",
           "caxis": {
            "gridcolor": "white",
            "linecolor": "white",
            "ticks": ""
           }
          },
          "title": {
           "x": 0.05
          },
          "xaxis": {
           "automargin": true,
           "gridcolor": "white",
           "linecolor": "white",
           "ticks": "",
           "title": {
            "standoff": 15
           },
           "zerolinecolor": "white",
           "zerolinewidth": 2
          },
          "yaxis": {
           "automargin": true,
           "gridcolor": "white",
           "linecolor": "white",
           "ticks": "",
           "title": {
            "standoff": 15
           },
           "zerolinecolor": "white",
           "zerolinewidth": 2
          }
         }
        },
        "title": {
         "text": "Sentiment Analysis on Topic 1"
        },
        "xaxis": {
         "anchor": "y",
         "domain": [
          0,
          1
         ],
         "title": {
          "text": "Subjectivity Score"
         }
        },
        "yaxis": {
         "anchor": "x",
         "domain": [
          0,
          1
         ],
         "title": {
          "text": "Sentiment Score"
         }
        }
       }
      },
      "text/html": [
       "<div>                            <div id=\"8fe6438d-75b1-4e66-96a3-b9180b2d25c2\" class=\"plotly-graph-div\" style=\"height:525px; width:100%;\"></div>            <script type=\"text/javascript\">                require([\"plotly\"], function(Plotly) {                    window.PLOTLYENV=window.PLOTLYENV || {};                                    if (document.getElementById(\"8fe6438d-75b1-4e66-96a3-b9180b2d25c2\")) {                    Plotly.newPlot(                        \"8fe6438d-75b1-4e66-96a3-b9180b2d25c2\",                        [{\"hovertemplate\":\"\\u003cb\\u003e%{hovertext}\\u003c\\u002fb\\u003e\\u003cbr\\u003e\\u003cbr\\u003eSubjectivity Score=%{x}\\u003cbr\\u003eSentiment Score=%{y}\\u003cbr\\u003eMain Topic Score=%{marker.size}\\u003cextra\\u003e\\u003c\\u002fextra\\u003e\",\"hovertext\":[\"tiny.iavian.net\",\"www.foxnews.com\",\"en.wikipedia.org\",\"www.cbsnews.com\",\"ift.tt\",\"nationalfile.com\"],\"legendgroup\":\"\",\"marker\":{\"color\":\"#636efa\",\"size\":[0.9956088662147522,0.9938334822654724,0.9982620477676392,0.9959078431129456,0.9979396462440491,0.9956088662147522],\"sizemode\":\"area\",\"sizeref\":0.0024956551194190977,\"symbol\":\"circle\"},\"mode\":\"markers\",\"name\":\"\",\"orientation\":\"v\",\"showlegend\":false,\"x\":[0.38,0.55,0.3,0.29,0.41,0.38],\"xaxis\":\"x\",\"y\":[0.05,0.1,-0.04,0.06,0.02,0.05],\"yaxis\":\"y\",\"type\":\"scatter\"}],                        {\"template\":{\"data\":{\"histogram2dcontour\":[{\"type\":\"histogram2dcontour\",\"colorbar\":{\"outlinewidth\":0,\"ticks\":\"\"},\"colorscale\":[[0.0,\"#0d0887\"],[0.1111111111111111,\"#46039f\"],[0.2222222222222222,\"#7201a8\"],[0.3333333333333333,\"#9c179e\"],[0.4444444444444444,\"#bd3786\"],[0.5555555555555556,\"#d8576b\"],[0.6666666666666666,\"#ed7953\"],[0.7777777777777778,\"#fb9f3a\"],[0.8888888888888888,\"#fdca26\"],[1.0,\"#f0f921\"]]}],\"choropleth\":[{\"type\":\"choropleth\",\"colorbar\":{\"outlinewidth\":0,\"ticks\":\"\"}}],\"histogram2d\":[{\"type\":\"histogram2d\",\"colorbar\":{\"outlinewidth\":0,\"ticks\":\"\"},\"colorscale\":[[0.0,\"#0d0887\"],[0.1111111111111111,\"#46039f\"],[0.2222222222222222,\"#7201a8\"],[0.3333333333333333,\"#9c179e\"],[0.4444444444444444,\"#bd3786\"],[0.5555555555555556,\"#d8576b\"],[0.6666666666666666,\"#ed7953\"],[0.7777777777777778,\"#fb9f3a\"],[0.8888888888888888,\"#fdca26\"],[1.0,\"#f0f921\"]]}],\"heatmap\":[{\"type\":\"heatmap\",\"colorbar\":{\"outlinewidth\":0,\"ticks\":\"\"},\"colorscale\":[[0.0,\"#0d0887\"],[0.1111111111111111,\"#46039f\"],[0.2222222222222222,\"#7201a8\"],[0.3333333333333333,\"#9c179e\"],[0.4444444444444444,\"#bd3786\"],[0.5555555555555556,\"#d8576b\"],[0.6666666666666666,\"#ed7953\"],[0.7777777777777778,\"#fb9f3a\"],[0.8888888888888888,\"#fdca26\"],[1.0,\"#f0f921\"]]}],\"heatmapgl\":[{\"type\":\"heatmapgl\",\"colorbar\":{\"outlinewidth\":0,\"ticks\":\"\"},\"colorscale\":[[0.0,\"#0d0887\"],[0.1111111111111111,\"#46039f\"],[0.2222222222222222,\"#7201a8\"],[0.3333333333333333,\"#9c179e\"],[0.4444444444444444,\"#bd3786\"],[0.5555555555555556,\"#d8576b\"],[0.6666666666666666,\"#ed7953\"],[0.7777777777777778,\"#fb9f3a\"],[0.8888888888888888,\"#fdca26\"],[1.0,\"#f0f921\"]]}],\"contourcarpet\":[{\"type\":\"contourcarpet\",\"colorbar\":{\"outlinewidth\":0,\"ticks\":\"\"}}],\"contour\":[{\"type\":\"contour\",\"colorbar\":{\"outlinewidth\":0,\"ticks\":\"\"},\"colorscale\":[[0.0,\"#0d0887\"],[0.1111111111111111,\"#46039f\"],[0.2222222222222222,\"#7201a8\"],[0.3333333333333333,\"#9c179e\"],[0.4444444444444444,\"#bd3786\"],[0.5555555555555556,\"#d8576b\"],[0.6666666666666666,\"#ed7953\"],[0.7777777777777778,\"#fb9f3a\"],[0.8888888888888888,\"#fdca26\"],[1.0,\"#f0f921\"]]}],\"surface\":[{\"type\":\"surface\",\"colorbar\":{\"outlinewidth\":0,\"ticks\":\"\"},\"colorscale\":[[0.0,\"#0d0887\"],[0.1111111111111111,\"#46039f\"],[0.2222222222222222,\"#7201a8\"],[0.3333333333333333,\"#9c179e\"],[0.4444444444444444,\"#bd3786\"],[0.5555555555555556,\"#d8576b\"],[0.6666666666666666,\"#ed7953\"],[0.7777777777777778,\"#fb9f3a\"],[0.8888888888888888,\"#fdca26\"],[1.0,\"#f0f921\"]]}],\"mesh3d\":[{\"type\":\"mesh3d\",\"colorbar\":{\"outlinewidth\":0,\"ticks\":\"\"}}],\"scatter\":[{\"fillpattern\":{\"fillmode\":\"overlay\",\"size\":10,\"solidity\":0.2},\"type\":\"scatter\"}],\"parcoords\":[{\"type\":\"parcoords\",\"line\":{\"colorbar\":{\"outlinewidth\":0,\"ticks\":\"\"}}}],\"scatterpolargl\":[{\"type\":\"scatterpolargl\",\"marker\":{\"colorbar\":{\"outlinewidth\":0,\"ticks\":\"\"}}}],\"bar\":[{\"error_x\":{\"color\":\"#2a3f5f\"},\"error_y\":{\"color\":\"#2a3f5f\"},\"marker\":{\"line\":{\"color\":\"#E5ECF6\",\"width\":0.5},\"pattern\":{\"fillmode\":\"overlay\",\"size\":10,\"solidity\":0.2}},\"type\":\"bar\"}],\"scattergeo\":[{\"type\":\"scattergeo\",\"marker\":{\"colorbar\":{\"outlinewidth\":0,\"ticks\":\"\"}}}],\"scatterpolar\":[{\"type\":\"scatterpolar\",\"marker\":{\"colorbar\":{\"outlinewidth\":0,\"ticks\":\"\"}}}],\"histogram\":[{\"marker\":{\"pattern\":{\"fillmode\":\"overlay\",\"size\":10,\"solidity\":0.2}},\"type\":\"histogram\"}],\"scattergl\":[{\"type\":\"scattergl\",\"marker\":{\"colorbar\":{\"outlinewidth\":0,\"ticks\":\"\"}}}],\"scatter3d\":[{\"type\":\"scatter3d\",\"line\":{\"colorbar\":{\"outlinewidth\":0,\"ticks\":\"\"}},\"marker\":{\"colorbar\":{\"outlinewidth\":0,\"ticks\":\"\"}}}],\"scattermapbox\":[{\"type\":\"scattermapbox\",\"marker\":{\"colorbar\":{\"outlinewidth\":0,\"ticks\":\"\"}}}],\"scatterternary\":[{\"type\":\"scatterternary\",\"marker\":{\"colorbar\":{\"outlinewidth\":0,\"ticks\":\"\"}}}],\"scattercarpet\":[{\"type\":\"scattercarpet\",\"marker\":{\"colorbar\":{\"outlinewidth\":0,\"ticks\":\"\"}}}],\"carpet\":[{\"aaxis\":{\"endlinecolor\":\"#2a3f5f\",\"gridcolor\":\"white\",\"linecolor\":\"white\",\"minorgridcolor\":\"white\",\"startlinecolor\":\"#2a3f5f\"},\"baxis\":{\"endlinecolor\":\"#2a3f5f\",\"gridcolor\":\"white\",\"linecolor\":\"white\",\"minorgridcolor\":\"white\",\"startlinecolor\":\"#2a3f5f\"},\"type\":\"carpet\"}],\"table\":[{\"cells\":{\"fill\":{\"color\":\"#EBF0F8\"},\"line\":{\"color\":\"white\"}},\"header\":{\"fill\":{\"color\":\"#C8D4E3\"},\"line\":{\"color\":\"white\"}},\"type\":\"table\"}],\"barpolar\":[{\"marker\":{\"line\":{\"color\":\"#E5ECF6\",\"width\":0.5},\"pattern\":{\"fillmode\":\"overlay\",\"size\":10,\"solidity\":0.2}},\"type\":\"barpolar\"}],\"pie\":[{\"automargin\":true,\"type\":\"pie\"}]},\"layout\":{\"autotypenumbers\":\"strict\",\"colorway\":[\"#636efa\",\"#EF553B\",\"#00cc96\",\"#ab63fa\",\"#FFA15A\",\"#19d3f3\",\"#FF6692\",\"#B6E880\",\"#FF97FF\",\"#FECB52\"],\"font\":{\"color\":\"#2a3f5f\"},\"hovermode\":\"closest\",\"hoverlabel\":{\"align\":\"left\"},\"paper_bgcolor\":\"white\",\"plot_bgcolor\":\"#E5ECF6\",\"polar\":{\"bgcolor\":\"#E5ECF6\",\"angularaxis\":{\"gridcolor\":\"white\",\"linecolor\":\"white\",\"ticks\":\"\"},\"radialaxis\":{\"gridcolor\":\"white\",\"linecolor\":\"white\",\"ticks\":\"\"}},\"ternary\":{\"bgcolor\":\"#E5ECF6\",\"aaxis\":{\"gridcolor\":\"white\",\"linecolor\":\"white\",\"ticks\":\"\"},\"baxis\":{\"gridcolor\":\"white\",\"linecolor\":\"white\",\"ticks\":\"\"},\"caxis\":{\"gridcolor\":\"white\",\"linecolor\":\"white\",\"ticks\":\"\"}},\"coloraxis\":{\"colorbar\":{\"outlinewidth\":0,\"ticks\":\"\"}},\"colorscale\":{\"sequential\":[[0.0,\"#0d0887\"],[0.1111111111111111,\"#46039f\"],[0.2222222222222222,\"#7201a8\"],[0.3333333333333333,\"#9c179e\"],[0.4444444444444444,\"#bd3786\"],[0.5555555555555556,\"#d8576b\"],[0.6666666666666666,\"#ed7953\"],[0.7777777777777778,\"#fb9f3a\"],[0.8888888888888888,\"#fdca26\"],[1.0,\"#f0f921\"]],\"sequentialminus\":[[0.0,\"#0d0887\"],[0.1111111111111111,\"#46039f\"],[0.2222222222222222,\"#7201a8\"],[0.3333333333333333,\"#9c179e\"],[0.4444444444444444,\"#bd3786\"],[0.5555555555555556,\"#d8576b\"],[0.6666666666666666,\"#ed7953\"],[0.7777777777777778,\"#fb9f3a\"],[0.8888888888888888,\"#fdca26\"],[1.0,\"#f0f921\"]],\"diverging\":[[0,\"#8e0152\"],[0.1,\"#c51b7d\"],[0.2,\"#de77ae\"],[0.3,\"#f1b6da\"],[0.4,\"#fde0ef\"],[0.5,\"#f7f7f7\"],[0.6,\"#e6f5d0\"],[0.7,\"#b8e186\"],[0.8,\"#7fbc41\"],[0.9,\"#4d9221\"],[1,\"#276419\"]]},\"xaxis\":{\"gridcolor\":\"white\",\"linecolor\":\"white\",\"ticks\":\"\",\"title\":{\"standoff\":15},\"zerolinecolor\":\"white\",\"automargin\":true,\"zerolinewidth\":2},\"yaxis\":{\"gridcolor\":\"white\",\"linecolor\":\"white\",\"ticks\":\"\",\"title\":{\"standoff\":15},\"zerolinecolor\":\"white\",\"automargin\":true,\"zerolinewidth\":2},\"scene\":{\"xaxis\":{\"backgroundcolor\":\"#E5ECF6\",\"gridcolor\":\"white\",\"linecolor\":\"white\",\"showbackground\":true,\"ticks\":\"\",\"zerolinecolor\":\"white\",\"gridwidth\":2},\"yaxis\":{\"backgroundcolor\":\"#E5ECF6\",\"gridcolor\":\"white\",\"linecolor\":\"white\",\"showbackground\":true,\"ticks\":\"\",\"zerolinecolor\":\"white\",\"gridwidth\":2},\"zaxis\":{\"backgroundcolor\":\"#E5ECF6\",\"gridcolor\":\"white\",\"linecolor\":\"white\",\"showbackground\":true,\"ticks\":\"\",\"zerolinecolor\":\"white\",\"gridwidth\":2}},\"shapedefaults\":{\"line\":{\"color\":\"#2a3f5f\"}},\"annotationdefaults\":{\"arrowcolor\":\"#2a3f5f\",\"arrowhead\":0,\"arrowwidth\":1},\"geo\":{\"bgcolor\":\"white\",\"landcolor\":\"#E5ECF6\",\"subunitcolor\":\"white\",\"showland\":true,\"showlakes\":true,\"lakecolor\":\"white\"},\"title\":{\"x\":0.05},\"mapbox\":{\"style\":\"light\"}}},\"xaxis\":{\"anchor\":\"y\",\"domain\":[0.0,1.0],\"title\":{\"text\":\"Subjectivity Score\"}},\"yaxis\":{\"anchor\":\"x\",\"domain\":[0.0,1.0],\"title\":{\"text\":\"Sentiment Score\"}},\"legend\":{\"tracegroupgap\":0,\"itemsizing\":\"constant\"},\"title\":{\"text\":\"Sentiment Analysis on Topic 1\"}},                        {\"responsive\": true}                    ).then(function(){\n",
       "                            \n",
       "var gd = document.getElementById('8fe6438d-75b1-4e66-96a3-b9180b2d25c2');\n",
       "var x = new MutationObserver(function (mutations, observer) {{\n",
       "        var display = window.getComputedStyle(gd).display;\n",
       "        if (!display || display === 'none') {{\n",
       "            console.log([gd, 'removed!']);\n",
       "            Plotly.purge(gd);\n",
       "            observer.disconnect();\n",
       "        }}\n",
       "}});\n",
       "\n",
       "// Listen for the removal of the full notebook cells\n",
       "var notebookContainer = gd.closest('#notebook-container');\n",
       "if (notebookContainer) {{\n",
       "    x.observe(notebookContainer, {childList: true});\n",
       "}}\n",
       "\n",
       "// Listen for the clearing of the current output cell\n",
       "var outputEl = gd.closest('.output');\n",
       "if (outputEl) {{\n",
       "    x.observe(outputEl, {childList: true});\n",
       "}}\n",
       "\n",
       "                        })                };                });            </script>        </div>"
      ]
     },
     "metadata": {},
     "output_type": "display_data"
    },
    {
     "data": {
      "application/vnd.plotly.v1+json": {
       "config": {
        "plotlyServerURL": "https://plot.ly"
       },
       "data": [
        {
         "hovertemplate": "<b>%{hovertext}</b><br><br>Subjectivity Score=%{x}<br>Sentiment Score=%{y}<br>Main Topic Score=%{marker.size}<extra></extra>",
         "hovertext": [
          "www.nytimes.com",
          "share.newsbreak.com",
          "www.nbcnews.com",
          "www.independent.co.uk",
          "www.latimes.com",
          "politi.co",
          "www.smobserved.com",
          "www.independent.co.uk",
          "flip.it",
          "ca.news.yahoo.com",
          "l.smartnews.com",
          "prada.substack.com",
          "www.businessinsider.com",
          "www.msnbc.com",
          "www.dailymail.co.uk",
          "trib.al",
          "buff.ly",
          "www.nbcnews.com",
          "flip.it",
          "news.yahoo.com",
          "crooksandliars.com",
          "www.sfgate.com"
         ],
         "legendgroup": "",
         "marker": {
          "color": "#636efa",
          "size": [
           0.7704023122787476,
           0.9986400008201599,
           0.6853306293487549,
           0.6608036160469055,
           0.8094250559806824,
           0.9972878694534302,
           0.998563826084137,
           0.9962484240531921,
           0.995671272277832,
           0.995498538017273,
           0.8521377444267273,
           0.6884686946868896,
           0.9987797141075134,
           0.9086204767227173,
           0.9986987709999084,
           0.997840404510498,
           0.9976914525032043,
           0.9952613711357117,
           0.9976115226745605,
           0.5670724511146545,
           0.8327557444572449,
           0.9795895218849182
          ],
          "sizemode": "area",
          "sizeref": 0.0024969492852687835,
          "symbol": "circle"
         },
         "mode": "markers",
         "name": "",
         "orientation": "v",
         "showlegend": false,
         "type": "scatter",
         "x": [
          0.5,
          0.39,
          0.36,
          0.45,
          0.43,
          0.49,
          0.4,
          0.53,
          0.39,
          0.42,
          0.44,
          0.46,
          0.42,
          0.49,
          0.35,
          0.48,
          0.37,
          0.46,
          0.37,
          0.36,
          0.66,
          0.33
         ],
         "xaxis": "x",
         "y": [
          0.03,
          0.07,
          -0.06,
          -0.08,
          0.05,
          0.08,
          0.08,
          -0.07,
          0.05,
          0.06,
          -0.13,
          0.11,
          0.07,
          -0.07,
          0.08,
          -0.01,
          0.08,
          0.06,
          0.08,
          -0.16,
          -0.2,
          0.04
         ],
         "yaxis": "y"
        }
       ],
       "layout": {
        "legend": {
         "itemsizing": "constant",
         "tracegroupgap": 0
        },
        "template": {
         "data": {
          "bar": [
           {
            "error_x": {
             "color": "#2a3f5f"
            },
            "error_y": {
             "color": "#2a3f5f"
            },
            "marker": {
             "line": {
              "color": "#E5ECF6",
              "width": 0.5
             },
             "pattern": {
              "fillmode": "overlay",
              "size": 10,
              "solidity": 0.2
             }
            },
            "type": "bar"
           }
          ],
          "barpolar": [
           {
            "marker": {
             "line": {
              "color": "#E5ECF6",
              "width": 0.5
             },
             "pattern": {
              "fillmode": "overlay",
              "size": 10,
              "solidity": 0.2
             }
            },
            "type": "barpolar"
           }
          ],
          "carpet": [
           {
            "aaxis": {
             "endlinecolor": "#2a3f5f",
             "gridcolor": "white",
             "linecolor": "white",
             "minorgridcolor": "white",
             "startlinecolor": "#2a3f5f"
            },
            "baxis": {
             "endlinecolor": "#2a3f5f",
             "gridcolor": "white",
             "linecolor": "white",
             "minorgridcolor": "white",
             "startlinecolor": "#2a3f5f"
            },
            "type": "carpet"
           }
          ],
          "choropleth": [
           {
            "colorbar": {
             "outlinewidth": 0,
             "ticks": ""
            },
            "type": "choropleth"
           }
          ],
          "contour": [
           {
            "colorbar": {
             "outlinewidth": 0,
             "ticks": ""
            },
            "colorscale": [
             [
              0,
              "#0d0887"
             ],
             [
              0.1111111111111111,
              "#46039f"
             ],
             [
              0.2222222222222222,
              "#7201a8"
             ],
             [
              0.3333333333333333,
              "#9c179e"
             ],
             [
              0.4444444444444444,
              "#bd3786"
             ],
             [
              0.5555555555555556,
              "#d8576b"
             ],
             [
              0.6666666666666666,
              "#ed7953"
             ],
             [
              0.7777777777777778,
              "#fb9f3a"
             ],
             [
              0.8888888888888888,
              "#fdca26"
             ],
             [
              1,
              "#f0f921"
             ]
            ],
            "type": "contour"
           }
          ],
          "contourcarpet": [
           {
            "colorbar": {
             "outlinewidth": 0,
             "ticks": ""
            },
            "type": "contourcarpet"
           }
          ],
          "heatmap": [
           {
            "colorbar": {
             "outlinewidth": 0,
             "ticks": ""
            },
            "colorscale": [
             [
              0,
              "#0d0887"
             ],
             [
              0.1111111111111111,
              "#46039f"
             ],
             [
              0.2222222222222222,
              "#7201a8"
             ],
             [
              0.3333333333333333,
              "#9c179e"
             ],
             [
              0.4444444444444444,
              "#bd3786"
             ],
             [
              0.5555555555555556,
              "#d8576b"
             ],
             [
              0.6666666666666666,
              "#ed7953"
             ],
             [
              0.7777777777777778,
              "#fb9f3a"
             ],
             [
              0.8888888888888888,
              "#fdca26"
             ],
             [
              1,
              "#f0f921"
             ]
            ],
            "type": "heatmap"
           }
          ],
          "heatmapgl": [
           {
            "colorbar": {
             "outlinewidth": 0,
             "ticks": ""
            },
            "colorscale": [
             [
              0,
              "#0d0887"
             ],
             [
              0.1111111111111111,
              "#46039f"
             ],
             [
              0.2222222222222222,
              "#7201a8"
             ],
             [
              0.3333333333333333,
              "#9c179e"
             ],
             [
              0.4444444444444444,
              "#bd3786"
             ],
             [
              0.5555555555555556,
              "#d8576b"
             ],
             [
              0.6666666666666666,
              "#ed7953"
             ],
             [
              0.7777777777777778,
              "#fb9f3a"
             ],
             [
              0.8888888888888888,
              "#fdca26"
             ],
             [
              1,
              "#f0f921"
             ]
            ],
            "type": "heatmapgl"
           }
          ],
          "histogram": [
           {
            "marker": {
             "pattern": {
              "fillmode": "overlay",
              "size": 10,
              "solidity": 0.2
             }
            },
            "type": "histogram"
           }
          ],
          "histogram2d": [
           {
            "colorbar": {
             "outlinewidth": 0,
             "ticks": ""
            },
            "colorscale": [
             [
              0,
              "#0d0887"
             ],
             [
              0.1111111111111111,
              "#46039f"
             ],
             [
              0.2222222222222222,
              "#7201a8"
             ],
             [
              0.3333333333333333,
              "#9c179e"
             ],
             [
              0.4444444444444444,
              "#bd3786"
             ],
             [
              0.5555555555555556,
              "#d8576b"
             ],
             [
              0.6666666666666666,
              "#ed7953"
             ],
             [
              0.7777777777777778,
              "#fb9f3a"
             ],
             [
              0.8888888888888888,
              "#fdca26"
             ],
             [
              1,
              "#f0f921"
             ]
            ],
            "type": "histogram2d"
           }
          ],
          "histogram2dcontour": [
           {
            "colorbar": {
             "outlinewidth": 0,
             "ticks": ""
            },
            "colorscale": [
             [
              0,
              "#0d0887"
             ],
             [
              0.1111111111111111,
              "#46039f"
             ],
             [
              0.2222222222222222,
              "#7201a8"
             ],
             [
              0.3333333333333333,
              "#9c179e"
             ],
             [
              0.4444444444444444,
              "#bd3786"
             ],
             [
              0.5555555555555556,
              "#d8576b"
             ],
             [
              0.6666666666666666,
              "#ed7953"
             ],
             [
              0.7777777777777778,
              "#fb9f3a"
             ],
             [
              0.8888888888888888,
              "#fdca26"
             ],
             [
              1,
              "#f0f921"
             ]
            ],
            "type": "histogram2dcontour"
           }
          ],
          "mesh3d": [
           {
            "colorbar": {
             "outlinewidth": 0,
             "ticks": ""
            },
            "type": "mesh3d"
           }
          ],
          "parcoords": [
           {
            "line": {
             "colorbar": {
              "outlinewidth": 0,
              "ticks": ""
             }
            },
            "type": "parcoords"
           }
          ],
          "pie": [
           {
            "automargin": true,
            "type": "pie"
           }
          ],
          "scatter": [
           {
            "fillpattern": {
             "fillmode": "overlay",
             "size": 10,
             "solidity": 0.2
            },
            "type": "scatter"
           }
          ],
          "scatter3d": [
           {
            "line": {
             "colorbar": {
              "outlinewidth": 0,
              "ticks": ""
             }
            },
            "marker": {
             "colorbar": {
              "outlinewidth": 0,
              "ticks": ""
             }
            },
            "type": "scatter3d"
           }
          ],
          "scattercarpet": [
           {
            "marker": {
             "colorbar": {
              "outlinewidth": 0,
              "ticks": ""
             }
            },
            "type": "scattercarpet"
           }
          ],
          "scattergeo": [
           {
            "marker": {
             "colorbar": {
              "outlinewidth": 0,
              "ticks": ""
             }
            },
            "type": "scattergeo"
           }
          ],
          "scattergl": [
           {
            "marker": {
             "colorbar": {
              "outlinewidth": 0,
              "ticks": ""
             }
            },
            "type": "scattergl"
           }
          ],
          "scattermapbox": [
           {
            "marker": {
             "colorbar": {
              "outlinewidth": 0,
              "ticks": ""
             }
            },
            "type": "scattermapbox"
           }
          ],
          "scatterpolar": [
           {
            "marker": {
             "colorbar": {
              "outlinewidth": 0,
              "ticks": ""
             }
            },
            "type": "scatterpolar"
           }
          ],
          "scatterpolargl": [
           {
            "marker": {
             "colorbar": {
              "outlinewidth": 0,
              "ticks": ""
             }
            },
            "type": "scatterpolargl"
           }
          ],
          "scatterternary": [
           {
            "marker": {
             "colorbar": {
              "outlinewidth": 0,
              "ticks": ""
             }
            },
            "type": "scatterternary"
           }
          ],
          "surface": [
           {
            "colorbar": {
             "outlinewidth": 0,
             "ticks": ""
            },
            "colorscale": [
             [
              0,
              "#0d0887"
             ],
             [
              0.1111111111111111,
              "#46039f"
             ],
             [
              0.2222222222222222,
              "#7201a8"
             ],
             [
              0.3333333333333333,
              "#9c179e"
             ],
             [
              0.4444444444444444,
              "#bd3786"
             ],
             [
              0.5555555555555556,
              "#d8576b"
             ],
             [
              0.6666666666666666,
              "#ed7953"
             ],
             [
              0.7777777777777778,
              "#fb9f3a"
             ],
             [
              0.8888888888888888,
              "#fdca26"
             ],
             [
              1,
              "#f0f921"
             ]
            ],
            "type": "surface"
           }
          ],
          "table": [
           {
            "cells": {
             "fill": {
              "color": "#EBF0F8"
             },
             "line": {
              "color": "white"
             }
            },
            "header": {
             "fill": {
              "color": "#C8D4E3"
             },
             "line": {
              "color": "white"
             }
            },
            "type": "table"
           }
          ]
         },
         "layout": {
          "annotationdefaults": {
           "arrowcolor": "#2a3f5f",
           "arrowhead": 0,
           "arrowwidth": 1
          },
          "autotypenumbers": "strict",
          "coloraxis": {
           "colorbar": {
            "outlinewidth": 0,
            "ticks": ""
           }
          },
          "colorscale": {
           "diverging": [
            [
             0,
             "#8e0152"
            ],
            [
             0.1,
             "#c51b7d"
            ],
            [
             0.2,
             "#de77ae"
            ],
            [
             0.3,
             "#f1b6da"
            ],
            [
             0.4,
             "#fde0ef"
            ],
            [
             0.5,
             "#f7f7f7"
            ],
            [
             0.6,
             "#e6f5d0"
            ],
            [
             0.7,
             "#b8e186"
            ],
            [
             0.8,
             "#7fbc41"
            ],
            [
             0.9,
             "#4d9221"
            ],
            [
             1,
             "#276419"
            ]
           ],
           "sequential": [
            [
             0,
             "#0d0887"
            ],
            [
             0.1111111111111111,
             "#46039f"
            ],
            [
             0.2222222222222222,
             "#7201a8"
            ],
            [
             0.3333333333333333,
             "#9c179e"
            ],
            [
             0.4444444444444444,
             "#bd3786"
            ],
            [
             0.5555555555555556,
             "#d8576b"
            ],
            [
             0.6666666666666666,
             "#ed7953"
            ],
            [
             0.7777777777777778,
             "#fb9f3a"
            ],
            [
             0.8888888888888888,
             "#fdca26"
            ],
            [
             1,
             "#f0f921"
            ]
           ],
           "sequentialminus": [
            [
             0,
             "#0d0887"
            ],
            [
             0.1111111111111111,
             "#46039f"
            ],
            [
             0.2222222222222222,
             "#7201a8"
            ],
            [
             0.3333333333333333,
             "#9c179e"
            ],
            [
             0.4444444444444444,
             "#bd3786"
            ],
            [
             0.5555555555555556,
             "#d8576b"
            ],
            [
             0.6666666666666666,
             "#ed7953"
            ],
            [
             0.7777777777777778,
             "#fb9f3a"
            ],
            [
             0.8888888888888888,
             "#fdca26"
            ],
            [
             1,
             "#f0f921"
            ]
           ]
          },
          "colorway": [
           "#636efa",
           "#EF553B",
           "#00cc96",
           "#ab63fa",
           "#FFA15A",
           "#19d3f3",
           "#FF6692",
           "#B6E880",
           "#FF97FF",
           "#FECB52"
          ],
          "font": {
           "color": "#2a3f5f"
          },
          "geo": {
           "bgcolor": "white",
           "lakecolor": "white",
           "landcolor": "#E5ECF6",
           "showlakes": true,
           "showland": true,
           "subunitcolor": "white"
          },
          "hoverlabel": {
           "align": "left"
          },
          "hovermode": "closest",
          "mapbox": {
           "style": "light"
          },
          "paper_bgcolor": "white",
          "plot_bgcolor": "#E5ECF6",
          "polar": {
           "angularaxis": {
            "gridcolor": "white",
            "linecolor": "white",
            "ticks": ""
           },
           "bgcolor": "#E5ECF6",
           "radialaxis": {
            "gridcolor": "white",
            "linecolor": "white",
            "ticks": ""
           }
          },
          "scene": {
           "xaxis": {
            "backgroundcolor": "#E5ECF6",
            "gridcolor": "white",
            "gridwidth": 2,
            "linecolor": "white",
            "showbackground": true,
            "ticks": "",
            "zerolinecolor": "white"
           },
           "yaxis": {
            "backgroundcolor": "#E5ECF6",
            "gridcolor": "white",
            "gridwidth": 2,
            "linecolor": "white",
            "showbackground": true,
            "ticks": "",
            "zerolinecolor": "white"
           },
           "zaxis": {
            "backgroundcolor": "#E5ECF6",
            "gridcolor": "white",
            "gridwidth": 2,
            "linecolor": "white",
            "showbackground": true,
            "ticks": "",
            "zerolinecolor": "white"
           }
          },
          "shapedefaults": {
           "line": {
            "color": "#2a3f5f"
           }
          },
          "ternary": {
           "aaxis": {
            "gridcolor": "white",
            "linecolor": "white",
            "ticks": ""
           },
           "baxis": {
            "gridcolor": "white",
            "linecolor": "white",
            "ticks": ""
           },
           "bgcolor": "#E5ECF6",
           "caxis": {
            "gridcolor": "white",
            "linecolor": "white",
            "ticks": ""
           }
          },
          "title": {
           "x": 0.05
          },
          "xaxis": {
           "automargin": true,
           "gridcolor": "white",
           "linecolor": "white",
           "ticks": "",
           "title": {
            "standoff": 15
           },
           "zerolinecolor": "white",
           "zerolinewidth": 2
          },
          "yaxis": {
           "automargin": true,
           "gridcolor": "white",
           "linecolor": "white",
           "ticks": "",
           "title": {
            "standoff": 15
           },
           "zerolinecolor": "white",
           "zerolinewidth": 2
          }
         }
        },
        "title": {
         "text": "Sentiment Analysis on Topic 8"
        },
        "xaxis": {
         "anchor": "y",
         "domain": [
          0,
          1
         ],
         "title": {
          "text": "Subjectivity Score"
         }
        },
        "yaxis": {
         "anchor": "x",
         "domain": [
          0,
          1
         ],
         "title": {
          "text": "Sentiment Score"
         }
        }
       }
      },
      "text/html": [
       "<div>                            <div id=\"c17179dd-43db-482c-8c91-ee459a8ac17e\" class=\"plotly-graph-div\" style=\"height:525px; width:100%;\"></div>            <script type=\"text/javascript\">                require([\"plotly\"], function(Plotly) {                    window.PLOTLYENV=window.PLOTLYENV || {};                                    if (document.getElementById(\"c17179dd-43db-482c-8c91-ee459a8ac17e\")) {                    Plotly.newPlot(                        \"c17179dd-43db-482c-8c91-ee459a8ac17e\",                        [{\"hovertemplate\":\"\\u003cb\\u003e%{hovertext}\\u003c\\u002fb\\u003e\\u003cbr\\u003e\\u003cbr\\u003eSubjectivity Score=%{x}\\u003cbr\\u003eSentiment Score=%{y}\\u003cbr\\u003eMain Topic Score=%{marker.size}\\u003cextra\\u003e\\u003c\\u002fextra\\u003e\",\"hovertext\":[\"www.nytimes.com\",\"share.newsbreak.com\",\"www.nbcnews.com\",\"www.independent.co.uk\",\"www.latimes.com\",\"politi.co\",\"www.smobserved.com\",\"www.independent.co.uk\",\"flip.it\",\"ca.news.yahoo.com\",\"l.smartnews.com\",\"prada.substack.com\",\"www.businessinsider.com\",\"www.msnbc.com\",\"www.dailymail.co.uk\",\"trib.al\",\"buff.ly\",\"www.nbcnews.com\",\"flip.it\",\"news.yahoo.com\",\"crooksandliars.com\",\"www.sfgate.com\"],\"legendgroup\":\"\",\"marker\":{\"color\":\"#636efa\",\"size\":[0.7704023122787476,0.9986400008201599,0.6853306293487549,0.6608036160469055,0.8094250559806824,0.9972878694534302,0.998563826084137,0.9962484240531921,0.995671272277832,0.995498538017273,0.8521377444267273,0.6884686946868896,0.9987797141075134,0.9086204767227173,0.9986987709999084,0.997840404510498,0.9976914525032043,0.9952613711357117,0.9976115226745605,0.5670724511146545,0.8327557444572449,0.9795895218849182],\"sizemode\":\"area\",\"sizeref\":0.0024969492852687835,\"symbol\":\"circle\"},\"mode\":\"markers\",\"name\":\"\",\"orientation\":\"v\",\"showlegend\":false,\"x\":[0.5,0.39,0.36,0.45,0.43,0.49,0.4,0.53,0.39,0.42,0.44,0.46,0.42,0.49,0.35,0.48,0.37,0.46,0.37,0.36,0.66,0.33],\"xaxis\":\"x\",\"y\":[0.03,0.07,-0.06,-0.08,0.05,0.08,0.08,-0.07,0.05,0.06,-0.13,0.11,0.07,-0.07,0.08,-0.01,0.08,0.06,0.08,-0.16,-0.2,0.04],\"yaxis\":\"y\",\"type\":\"scatter\"}],                        {\"template\":{\"data\":{\"histogram2dcontour\":[{\"type\":\"histogram2dcontour\",\"colorbar\":{\"outlinewidth\":0,\"ticks\":\"\"},\"colorscale\":[[0.0,\"#0d0887\"],[0.1111111111111111,\"#46039f\"],[0.2222222222222222,\"#7201a8\"],[0.3333333333333333,\"#9c179e\"],[0.4444444444444444,\"#bd3786\"],[0.5555555555555556,\"#d8576b\"],[0.6666666666666666,\"#ed7953\"],[0.7777777777777778,\"#fb9f3a\"],[0.8888888888888888,\"#fdca26\"],[1.0,\"#f0f921\"]]}],\"choropleth\":[{\"type\":\"choropleth\",\"colorbar\":{\"outlinewidth\":0,\"ticks\":\"\"}}],\"histogram2d\":[{\"type\":\"histogram2d\",\"colorbar\":{\"outlinewidth\":0,\"ticks\":\"\"},\"colorscale\":[[0.0,\"#0d0887\"],[0.1111111111111111,\"#46039f\"],[0.2222222222222222,\"#7201a8\"],[0.3333333333333333,\"#9c179e\"],[0.4444444444444444,\"#bd3786\"],[0.5555555555555556,\"#d8576b\"],[0.6666666666666666,\"#ed7953\"],[0.7777777777777778,\"#fb9f3a\"],[0.8888888888888888,\"#fdca26\"],[1.0,\"#f0f921\"]]}],\"heatmap\":[{\"type\":\"heatmap\",\"colorbar\":{\"outlinewidth\":0,\"ticks\":\"\"},\"colorscale\":[[0.0,\"#0d0887\"],[0.1111111111111111,\"#46039f\"],[0.2222222222222222,\"#7201a8\"],[0.3333333333333333,\"#9c179e\"],[0.4444444444444444,\"#bd3786\"],[0.5555555555555556,\"#d8576b\"],[0.6666666666666666,\"#ed7953\"],[0.7777777777777778,\"#fb9f3a\"],[0.8888888888888888,\"#fdca26\"],[1.0,\"#f0f921\"]]}],\"heatmapgl\":[{\"type\":\"heatmapgl\",\"colorbar\":{\"outlinewidth\":0,\"ticks\":\"\"},\"colorscale\":[[0.0,\"#0d0887\"],[0.1111111111111111,\"#46039f\"],[0.2222222222222222,\"#7201a8\"],[0.3333333333333333,\"#9c179e\"],[0.4444444444444444,\"#bd3786\"],[0.5555555555555556,\"#d8576b\"],[0.6666666666666666,\"#ed7953\"],[0.7777777777777778,\"#fb9f3a\"],[0.8888888888888888,\"#fdca26\"],[1.0,\"#f0f921\"]]}],\"contourcarpet\":[{\"type\":\"contourcarpet\",\"colorbar\":{\"outlinewidth\":0,\"ticks\":\"\"}}],\"contour\":[{\"type\":\"contour\",\"colorbar\":{\"outlinewidth\":0,\"ticks\":\"\"},\"colorscale\":[[0.0,\"#0d0887\"],[0.1111111111111111,\"#46039f\"],[0.2222222222222222,\"#7201a8\"],[0.3333333333333333,\"#9c179e\"],[0.4444444444444444,\"#bd3786\"],[0.5555555555555556,\"#d8576b\"],[0.6666666666666666,\"#ed7953\"],[0.7777777777777778,\"#fb9f3a\"],[0.8888888888888888,\"#fdca26\"],[1.0,\"#f0f921\"]]}],\"surface\":[{\"type\":\"surface\",\"colorbar\":{\"outlinewidth\":0,\"ticks\":\"\"},\"colorscale\":[[0.0,\"#0d0887\"],[0.1111111111111111,\"#46039f\"],[0.2222222222222222,\"#7201a8\"],[0.3333333333333333,\"#9c179e\"],[0.4444444444444444,\"#bd3786\"],[0.5555555555555556,\"#d8576b\"],[0.6666666666666666,\"#ed7953\"],[0.7777777777777778,\"#fb9f3a\"],[0.8888888888888888,\"#fdca26\"],[1.0,\"#f0f921\"]]}],\"mesh3d\":[{\"type\":\"mesh3d\",\"colorbar\":{\"outlinewidth\":0,\"ticks\":\"\"}}],\"scatter\":[{\"fillpattern\":{\"fillmode\":\"overlay\",\"size\":10,\"solidity\":0.2},\"type\":\"scatter\"}],\"parcoords\":[{\"type\":\"parcoords\",\"line\":{\"colorbar\":{\"outlinewidth\":0,\"ticks\":\"\"}}}],\"scatterpolargl\":[{\"type\":\"scatterpolargl\",\"marker\":{\"colorbar\":{\"outlinewidth\":0,\"ticks\":\"\"}}}],\"bar\":[{\"error_x\":{\"color\":\"#2a3f5f\"},\"error_y\":{\"color\":\"#2a3f5f\"},\"marker\":{\"line\":{\"color\":\"#E5ECF6\",\"width\":0.5},\"pattern\":{\"fillmode\":\"overlay\",\"size\":10,\"solidity\":0.2}},\"type\":\"bar\"}],\"scattergeo\":[{\"type\":\"scattergeo\",\"marker\":{\"colorbar\":{\"outlinewidth\":0,\"ticks\":\"\"}}}],\"scatterpolar\":[{\"type\":\"scatterpolar\",\"marker\":{\"colorbar\":{\"outlinewidth\":0,\"ticks\":\"\"}}}],\"histogram\":[{\"marker\":{\"pattern\":{\"fillmode\":\"overlay\",\"size\":10,\"solidity\":0.2}},\"type\":\"histogram\"}],\"scattergl\":[{\"type\":\"scattergl\",\"marker\":{\"colorbar\":{\"outlinewidth\":0,\"ticks\":\"\"}}}],\"scatter3d\":[{\"type\":\"scatter3d\",\"line\":{\"colorbar\":{\"outlinewidth\":0,\"ticks\":\"\"}},\"marker\":{\"colorbar\":{\"outlinewidth\":0,\"ticks\":\"\"}}}],\"scattermapbox\":[{\"type\":\"scattermapbox\",\"marker\":{\"colorbar\":{\"outlinewidth\":0,\"ticks\":\"\"}}}],\"scatterternary\":[{\"type\":\"scatterternary\",\"marker\":{\"colorbar\":{\"outlinewidth\":0,\"ticks\":\"\"}}}],\"scattercarpet\":[{\"type\":\"scattercarpet\",\"marker\":{\"colorbar\":{\"outlinewidth\":0,\"ticks\":\"\"}}}],\"carpet\":[{\"aaxis\":{\"endlinecolor\":\"#2a3f5f\",\"gridcolor\":\"white\",\"linecolor\":\"white\",\"minorgridcolor\":\"white\",\"startlinecolor\":\"#2a3f5f\"},\"baxis\":{\"endlinecolor\":\"#2a3f5f\",\"gridcolor\":\"white\",\"linecolor\":\"white\",\"minorgridcolor\":\"white\",\"startlinecolor\":\"#2a3f5f\"},\"type\":\"carpet\"}],\"table\":[{\"cells\":{\"fill\":{\"color\":\"#EBF0F8\"},\"line\":{\"color\":\"white\"}},\"header\":{\"fill\":{\"color\":\"#C8D4E3\"},\"line\":{\"color\":\"white\"}},\"type\":\"table\"}],\"barpolar\":[{\"marker\":{\"line\":{\"color\":\"#E5ECF6\",\"width\":0.5},\"pattern\":{\"fillmode\":\"overlay\",\"size\":10,\"solidity\":0.2}},\"type\":\"barpolar\"}],\"pie\":[{\"automargin\":true,\"type\":\"pie\"}]},\"layout\":{\"autotypenumbers\":\"strict\",\"colorway\":[\"#636efa\",\"#EF553B\",\"#00cc96\",\"#ab63fa\",\"#FFA15A\",\"#19d3f3\",\"#FF6692\",\"#B6E880\",\"#FF97FF\",\"#FECB52\"],\"font\":{\"color\":\"#2a3f5f\"},\"hovermode\":\"closest\",\"hoverlabel\":{\"align\":\"left\"},\"paper_bgcolor\":\"white\",\"plot_bgcolor\":\"#E5ECF6\",\"polar\":{\"bgcolor\":\"#E5ECF6\",\"angularaxis\":{\"gridcolor\":\"white\",\"linecolor\":\"white\",\"ticks\":\"\"},\"radialaxis\":{\"gridcolor\":\"white\",\"linecolor\":\"white\",\"ticks\":\"\"}},\"ternary\":{\"bgcolor\":\"#E5ECF6\",\"aaxis\":{\"gridcolor\":\"white\",\"linecolor\":\"white\",\"ticks\":\"\"},\"baxis\":{\"gridcolor\":\"white\",\"linecolor\":\"white\",\"ticks\":\"\"},\"caxis\":{\"gridcolor\":\"white\",\"linecolor\":\"white\",\"ticks\":\"\"}},\"coloraxis\":{\"colorbar\":{\"outlinewidth\":0,\"ticks\":\"\"}},\"colorscale\":{\"sequential\":[[0.0,\"#0d0887\"],[0.1111111111111111,\"#46039f\"],[0.2222222222222222,\"#7201a8\"],[0.3333333333333333,\"#9c179e\"],[0.4444444444444444,\"#bd3786\"],[0.5555555555555556,\"#d8576b\"],[0.6666666666666666,\"#ed7953\"],[0.7777777777777778,\"#fb9f3a\"],[0.8888888888888888,\"#fdca26\"],[1.0,\"#f0f921\"]],\"sequentialminus\":[[0.0,\"#0d0887\"],[0.1111111111111111,\"#46039f\"],[0.2222222222222222,\"#7201a8\"],[0.3333333333333333,\"#9c179e\"],[0.4444444444444444,\"#bd3786\"],[0.5555555555555556,\"#d8576b\"],[0.6666666666666666,\"#ed7953\"],[0.7777777777777778,\"#fb9f3a\"],[0.8888888888888888,\"#fdca26\"],[1.0,\"#f0f921\"]],\"diverging\":[[0,\"#8e0152\"],[0.1,\"#c51b7d\"],[0.2,\"#de77ae\"],[0.3,\"#f1b6da\"],[0.4,\"#fde0ef\"],[0.5,\"#f7f7f7\"],[0.6,\"#e6f5d0\"],[0.7,\"#b8e186\"],[0.8,\"#7fbc41\"],[0.9,\"#4d9221\"],[1,\"#276419\"]]},\"xaxis\":{\"gridcolor\":\"white\",\"linecolor\":\"white\",\"ticks\":\"\",\"title\":{\"standoff\":15},\"zerolinecolor\":\"white\",\"automargin\":true,\"zerolinewidth\":2},\"yaxis\":{\"gridcolor\":\"white\",\"linecolor\":\"white\",\"ticks\":\"\",\"title\":{\"standoff\":15},\"zerolinecolor\":\"white\",\"automargin\":true,\"zerolinewidth\":2},\"scene\":{\"xaxis\":{\"backgroundcolor\":\"#E5ECF6\",\"gridcolor\":\"white\",\"linecolor\":\"white\",\"showbackground\":true,\"ticks\":\"\",\"zerolinecolor\":\"white\",\"gridwidth\":2},\"yaxis\":{\"backgroundcolor\":\"#E5ECF6\",\"gridcolor\":\"white\",\"linecolor\":\"white\",\"showbackground\":true,\"ticks\":\"\",\"zerolinecolor\":\"white\",\"gridwidth\":2},\"zaxis\":{\"backgroundcolor\":\"#E5ECF6\",\"gridcolor\":\"white\",\"linecolor\":\"white\",\"showbackground\":true,\"ticks\":\"\",\"zerolinecolor\":\"white\",\"gridwidth\":2}},\"shapedefaults\":{\"line\":{\"color\":\"#2a3f5f\"}},\"annotationdefaults\":{\"arrowcolor\":\"#2a3f5f\",\"arrowhead\":0,\"arrowwidth\":1},\"geo\":{\"bgcolor\":\"white\",\"landcolor\":\"#E5ECF6\",\"subunitcolor\":\"white\",\"showland\":true,\"showlakes\":true,\"lakecolor\":\"white\"},\"title\":{\"x\":0.05},\"mapbox\":{\"style\":\"light\"}}},\"xaxis\":{\"anchor\":\"y\",\"domain\":[0.0,1.0],\"title\":{\"text\":\"Subjectivity Score\"}},\"yaxis\":{\"anchor\":\"x\",\"domain\":[0.0,1.0],\"title\":{\"text\":\"Sentiment Score\"}},\"legend\":{\"tracegroupgap\":0,\"itemsizing\":\"constant\"},\"title\":{\"text\":\"Sentiment Analysis on Topic 8\"}},                        {\"responsive\": true}                    ).then(function(){\n",
       "                            \n",
       "var gd = document.getElementById('c17179dd-43db-482c-8c91-ee459a8ac17e');\n",
       "var x = new MutationObserver(function (mutations, observer) {{\n",
       "        var display = window.getComputedStyle(gd).display;\n",
       "        if (!display || display === 'none') {{\n",
       "            console.log([gd, 'removed!']);\n",
       "            Plotly.purge(gd);\n",
       "            observer.disconnect();\n",
       "        }}\n",
       "}});\n",
       "\n",
       "// Listen for the removal of the full notebook cells\n",
       "var notebookContainer = gd.closest('#notebook-container');\n",
       "if (notebookContainer) {{\n",
       "    x.observe(notebookContainer, {childList: true});\n",
       "}}\n",
       "\n",
       "// Listen for the clearing of the current output cell\n",
       "var outputEl = gd.closest('.output');\n",
       "if (outputEl) {{\n",
       "    x.observe(outputEl, {childList: true});\n",
       "}}\n",
       "\n",
       "                        })                };                });            </script>        </div>"
      ]
     },
     "metadata": {},
     "output_type": "display_data"
    }
   ],
   "source": [
    "#Using our list_of_topics_to_visualize list in the customizable settings, produce a graph for each topic\n",
    "for topic in list_of_topics_to_visualize:\n",
    "    visualize_single_topic_subjectivity_vs_sentiment(df, topic)"
   ]
  },
  {
   "cell_type": "markdown",
   "id": "f184ac6b",
   "metadata": {},
   "source": [
    "## K means Clustering"
   ]
  },
  {
   "cell_type": "markdown",
   "id": "84b465b0",
   "metadata": {},
   "source": [
    "Generate a visual of number of topic clusters vs inertia of the model (low inertia is good)"
   ]
  },
  {
   "cell_type": "code",
   "execution_count": 15,
   "id": "65098654",
   "metadata": {
    "scrolled": false
   },
   "outputs": [
    {
     "data": {
      "image/png": "[encoded data removed]",
      "text/plain": [
       "<Figure size 1000x1000 with 1 Axes>"
      ]
     },
     "metadata": {},
     "output_type": "display_data"
    }
   ],
   "source": [
    "visualize_optimal_cluster_count(df_topics= df_topics, max_clusters= kmeans_settings[\"max_clusters\"],\n",
    "                                pca_components= kmeans_settings[\"pca_components\"])"
   ]
  },
  {
   "cell_type": "markdown",
   "id": "75cabb2b",
   "metadata": {},
   "source": [
    "Generate actual kmeans clustering"
   ]
  },
  {
   "cell_type": "code",
   "execution_count": 16,
   "id": "75bab1e8",
   "metadata": {},
   "outputs": [
    {
     "data": {
      "image/png": "[encoded data removed]",
      "text/plain": [
       "<Figure size 1000x1000 with 1 Axes>"
      ]
     },
     "metadata": {},
     "output_type": "display_data"
    }
   ],
   "source": [
    "visualize_kmeans_clustering(df_topics= df_topics, num_clusters = kmeans_settings[\"num_clusters\"],\n",
    "                            pca_components = kmeans_settings[\"pca_components\"])"
   ]
  }
 ],
 "metadata": {
  "kernelspec": {
   "display_name": "Python 3 (ipykernel)",
   "language": "python",
   "name": "python3"
  },
  "language_info": {
   "codemirror_mode": {
    "name": "ipython",
    "version": 3
   },
   "file_extension": ".py",
   "mimetype": "text/x-python",
   "name": "python",
   "nbconvert_exporter": "python",
   "pygments_lexer": "ipython3",
   "version": "3.10.4"
  }
 },
 "nbformat": 4,
 "nbformat_minor": 5
}
