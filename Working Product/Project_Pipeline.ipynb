{
 "cells": [
  {
   "cell_type": "markdown",
   "id": "c9dccd1a",
   "metadata": {},
   "source": [
    "# Latent News Probability Model"
   ]
  },
  {
   "cell_type": "markdown",
   "id": "01049288",
   "metadata": {},
   "source": [
    "Directly below contains the pip installs that are required for this project. If you run this code and still don't have the required packages, you may need to add a `!pip install [library_name]` into this code block. This does not need to be run every time the model is used.\n",
    "\n",
    "IMPORTANT: If you are running this for the first time you may need to download these packages before continuing:"
   ]
  },
  {
   "cell_type": "code",
   "execution_count": 6,
   "id": "15ba699a",
   "metadata": {},
   "outputs": [
    {
     "name": "stdout",
     "output_type": "stream",
     "text": [
      "Collecting wordcloud\n",
      "  Downloading wordcloud-1.9.2-cp310-cp310-win_amd64.whl (152 kB)\n",
      "Requirement already satisfied: pillow in c:\\users\\seaha\\anaconda3\\envs\\434hw\\lib\\site-packages (from wordcloud) (9.3.0)\n",
      "Requirement already satisfied: matplotlib in c:\\users\\seaha\\anaconda3\\envs\\434hw\\lib\\site-packages (from wordcloud) (3.5.3)\n",
      "Requirement already satisfied: numpy>=1.6.1 in c:\\users\\seaha\\anaconda3\\envs\\434hw\\lib\\site-packages (from wordcloud) (1.26.0)\n",
      "Requirement already satisfied: packaging>=20.0 in c:\\users\\seaha\\anaconda3\\envs\\434hw\\lib\\site-packages (from matplotlib->wordcloud) (22.0)\n",
      "Requirement already satisfied: kiwisolver>=1.0.1 in c:\\users\\seaha\\anaconda3\\envs\\434hw\\lib\\site-packages (from matplotlib->wordcloud) (1.4.4)\n",
      "Requirement already satisfied: cycler>=0.10 in c:\\users\\seaha\\anaconda3\\envs\\434hw\\lib\\site-packages (from matplotlib->wordcloud) (0.11.0)\n",
      "Requirement already satisfied: python-dateutil>=2.7 in c:\\users\\seaha\\anaconda3\\envs\\434hw\\lib\\site-packages (from matplotlib->wordcloud) (2.8.2)\n",
      "Requirement already satisfied: pyparsing>=2.2.1 in c:\\users\\seaha\\anaconda3\\envs\\434hw\\lib\\site-packages (from matplotlib->wordcloud) (3.0.9)\n",
      "Requirement already satisfied: fonttools>=4.22.0 in c:\\users\\seaha\\anaconda3\\envs\\434hw\\lib\\site-packages (from matplotlib->wordcloud) (4.25.0)\n",
      "Requirement already satisfied: six>=1.5 in c:\\users\\seaha\\anaconda3\\envs\\434hw\\lib\\site-packages (from python-dateutil>=2.7->matplotlib->wordcloud) (1.16.0)\n",
      "Installing collected packages: wordcloud\n",
      "Successfully installed wordcloud-1.9.2\n"
     ]
    }
   ],
   "source": [
    "# #dataframe and sentiment analysis\n",
    "# !pip install pandas\n",
    "# !pip install spacy\n",
    "# !pip install spacytextblob\n",
    "# !python -m spacy download en_core_web_sm\n",
    "\n",
    "# #webscraping\n",
    "# !pip install newspaper3k\n",
    "\n",
    "# #topic modeling \n",
    "# !pip install gensim\n",
    "\n",
    "# #data vis\n",
    "# !pip install plotly\n",
    "# !pip install sklearn\n",
    "# !pip install matplotlib\n",
    "# !pip install wordcloud"
   ]
  },
  {
   "cell_type": "markdown",
   "id": "c92a2232",
   "metadata": {},
   "source": [
    "Spacy: Used for NLP and has the machine learning module\n",
    "    \n",
    "SpacyTextBlob: Used for the sentiment analysis\n",
    "    \n",
    "Pandas: Stores the data as a dataframe table\n",
    "    \n",
    "NewsPaper: Used for web scraping\n",
    "\n",
    "Gensim: Used for topic modeling\n",
    "    \n",
    "Requests: Makes the connection to the URL\n",
    "\n",
    "Plotly: Used for data visualization\n",
    "\n",
    "Matplotlib: Used for clustering and data visualization\n",
    "\n",
    "Sklearn: Used for clustering and data visualization"
   ]
  },
  {
   "cell_type": "markdown",
   "id": "e1471074",
   "metadata": {},
   "source": [
    "## Start Here: Library Imports"
   ]
  },
  {
   "cell_type": "code",
   "execution_count": 26,
   "id": "97171282",
   "metadata": {},
   "outputs": [],
   "source": [
    "#newspaper3k web scraping\n",
    "from newspaper import Article\n",
    "\n",
    "from random import shuffle\n",
    "import re\n",
    "import requests\n",
    "\n",
    "from collections import Counter\n",
    "\n",
    "#pandas dataframe\n",
    "import pandas as pd\n",
    "\n",
    "import numpy as np\n",
    "import json\n",
    "import requests\n",
    "import glob\n",
    "\n",
    "#gensim\n",
    "import gensim\n",
    "import gensim.corpora as corpora\n",
    "from gensim.models.coherencemodel import CoherenceModel\n",
    "from gensim.utils import simple_preprocess\n",
    "from gensim.corpora import Dictionary  # Import the Dictionary class from Gensim\n",
    "\n",
    "#spacy\n",
    "import spacy\n",
    "from nltk.corpus import stopwords\n",
    "from spacytextblob.spacytextblob import SpacyTextBlob\n",
    "\n",
    "#vis\n",
    "import pyLDAvis\n",
    "import pyLDAvis.gensim\n",
    "import plotly.express as px\n",
    "import matplotlib.colors as mcolors\n",
    "import matplotlib.pyplot as plt\n",
    "import sklearn\n",
    "from sklearn.manifold import TSNE\n",
    "from wordcloud import WordCloud\n",
    "from sklearn.decomposition import PCA\n",
    "import seaborn as sns\n",
    "\n",
    "\n",
    "\n",
    "#K-Means Clustering\n",
    "from sklearn.feature_extraction.text import TfidfVectorizer\n",
    "from sklearn.cluster import KMeans\n",
    "from sklearn.cluster import MiniBatchKMeans\n",
    "import matplotlib.pyplot as plt\n",
    "\n",
    "#Principled Component Analysis\n",
    "from sklearn.decomposition import PCA\n",
    "\n",
    "import warnings\n",
    "warnings.filterwarnings(\"ignore\", category=DeprecationWarning)"
   ]
  },
  {
   "cell_type": "markdown",
   "id": "8b38b484",
   "metadata": {},
   "source": [
    "IMPORTANT: Run all helper files. The function logic is stored here, and sorted by the part of the pipeline they support."
   ]
  },
  {
   "cell_type": "code",
   "execution_count": 27,
   "id": "89933f69",
   "metadata": {},
   "outputs": [],
   "source": [
    "%run SentimentAnalysis.ipynb\n",
    "%run WebScraper.ipynb\n",
    "%run PipelineHelpers.ipynb\n",
    "%run TopicModeling.ipynb\n",
    "%run DataVisualization.ipynb"
   ]
  },
  {
   "cell_type": "markdown",
   "id": "c767401a",
   "metadata": {},
   "source": [
    "# General Pipeline Settings, and Pre-Analysis Setup"
   ]
  },
  {
   "cell_type": "markdown",
   "id": "67afdeff",
   "metadata": {},
   "source": [
    "Below are the customizable settings for all of the analysis and processing parts of the pipeline.\n",
    "\n",
    "Rerun this any time you make changes to these settings, as they will affect the outcome of certain pipeline steps."
   ]
  },
  {
   "cell_type": "markdown",
   "id": "b787c3f5",
   "metadata": {},
   "source": [
    "IMPORTANT: The csvFile object should be set to a properly setup csv file of article URLs that you copy-paste into the same directory as the pipeline files (we use the relative path to access the file). The csvFile format is explained in the user manual, but simply it needs one column with the first entry being \"Address\" and the other entries all being article URLs."
   ]
  },
  {
   "cell_type": "code",
   "execution_count": 28,
   "id": "4e23034f",
   "metadata": {},
   "outputs": [],
   "source": [
    "###\n",
    "### BELOW IS OUR CUSTOMIZABLE SETTINGS\n",
    "###\n",
    "\n",
    "# THIS IS THE CSV FILE THAT WE READ IN\n",
    "# This csv file should contain a single column of article urls, with the first entry being \"Address\"\n",
    "csv_file = \"urls_gabriel_generated.csv\"\n",
    "\n",
    "\n",
    "#WEBSCRAPING SETTINGS\n",
    "# THIS IS THE MINIMUM WORDS THAT WE ALLOW FOR AN ARTICLE\n",
    "# (to prevent certain blocked articles or bad data)\n",
    "word_count_filter = 150\n",
    "\n",
    "#this is the minimum amount of repeated phrases in a text that we will throw an error for\n",
    "repeated_phrase_filter = 25\n",
    "\n",
    "#this is the list of all social media URLs that we BLOCK (anything in this list WILL NOT be scraped)\n",
    "social_starts_with = [\"https://www.youtube.com\", \"https://youtu.be\", \"https://www.facebook.com\",\n",
    "                          \"https://twitter.com\", \"https://gettr.com/\"]\n",
    "\n",
    "#When webscraping, will only grab the first url_max URLs (set to -1 to turn off)\n",
    "url_max = 500\n",
    "\n",
    "# TOPIC MODELING SETTINGS\n",
    "# this will set how our topic modeling is generated: limit to the # of topics,\n",
    "# # of topics we start at, how many we increment by every step\n",
    "topic_model_dict = {\"topic_limit\": 15, \"topic_start\": 6, \"topic_step\": 1}\n",
    "\n",
    "\n",
    "###\n",
    "### END OF CUSTOMIZABLE SETTINGS\n",
    "###\n"
   ]
  },
  {
   "cell_type": "markdown",
   "id": "a9fabe01",
   "metadata": {},
   "source": [
    "# MAIN PIPELINE START"
   ]
  },
  {
   "cell_type": "markdown",
   "id": "ac52c758",
   "metadata": {},
   "source": [
    "## Sentiment Analysis Pipeline"
   ]
  },
  {
   "cell_type": "markdown",
   "id": "65f184f9",
   "metadata": {},
   "source": [
    "Below is the start of our pipeline.\n",
    "\n",
    "Here we create our nlp object and add the pipe to it for sentiment analysis. We then read in our .csv file and convert it to a dataframe to pass in to our sentiment analysis function, and gathers the list of all URLs.\n",
    "\n",
    "Our main_pipeline_sentiment_analysis() function takes in the list of urls, web scrapes their text, and performs sentiment analysis on them, creating a dataframe of all properly scraped articles and their associated sentiment analysis data.\n",
    "\n",
    "df is the main dataframe object we store our data in."
   ]
  },
  {
   "cell_type": "code",
   "execution_count": 29,
   "id": "7ae169b7",
   "metadata": {
    "scrolled": false
   },
   "outputs": [
    {
     "name": "stdout",
     "output_type": "stream",
     "text": [
      "0  Articles Completed\n",
      "Webscraping failed: Word Count or Repeated Phrase\n",
      "https://www.bbc.com/news/world-us-canada-55805698\n",
      "Word count:  39\n",
      "Repeated phrases:  1\n",
      "\n",
      "\n",
      "10  Articles Completed\n",
      "Webscraping failed: Word Count or Repeated Phrase\n",
      "https://apnews.com/hub/hunter-biden\n",
      "Word count:  42\n",
      "Repeated phrases:  1\n",
      "\n",
      "\n",
      "Webscraping failed: Word Count or Repeated Phrase\n",
      "https://www.bbc.com/news/world-us-canada-55805698\n",
      "Word count:  39\n",
      "Repeated phrases:  1\n",
      "\n",
      "\n",
      "20  Articles Completed\n",
      "Webscraping failed: Word Count or Repeated Phrase\n",
      "https://www.wdel.com/news/hunter-biden-prosecutor-wasnt-blocked-from-bringing-california-charges-us-attorney-tells-congress/article_f92d6768-7369-11ee-a69b-d3b116717dfe.html\n",
      "Word count:  31\n",
      "Repeated phrases:  2\n",
      "\n",
      "\n",
      "30  Articles Completed\n",
      "40  Articles Completed\n",
      "Webscraping failed: Word Count or Repeated Phrase\n",
      "https://www.haaretz.com/opinion/editorial/2023-10-26/ty-article-opinion/biden-is-right-after-the-war-its-time-for-two-states/0000018b-6d5a-d1da-a1bb-6dfa4d1c0000\n",
      "Word count:  38\n",
      "Repeated phrases:  1\n",
      "\n",
      "\n",
      "Webscraping Error: Couldn't Parse\n",
      "https://www.axios.com/2023/10/26/biden-post-war-plan-two-state-solution-israel-palestinians\n",
      "\n",
      "\n",
      "Webscraping Error: Couldn't Parse\n",
      "https://thehill.com/homenews/senate/4278429-scott-calls-for-biden-administration-to-revoke-iran-foreign-ministers-visa/\n",
      "\n",
      "\n",
      "Webscraping Error: Couldn't Parse\n",
      "https://thehill.com/homenews/campaign/4271095-joe-biden-polls-2024-donald-trump/\n",
      "\n",
      "\n",
      "Webscraping Error: Couldn't Parse\n",
      "https://www.axios.com/2023/10/26/biden-approval-rating-democrats-israel-gaza\n",
      "\n",
      "\n",
      "83.33% of the csv was scraped.\n",
      "The average sentiment score was: 0.053\n",
      "The average subjectivity score was: 0.407\n"
     ]
    }
   ],
   "source": [
    "# Loading the nlp pipeline and adding spacytextblob\n",
    "nlp = spacy.load('en_core_web_sm')\n",
    "nlp.add_pipe('spacytextblob') #This is used in our sentiment analysis\n",
    "\n",
    "# Using panda to load in our .csv file\n",
    "# File we are checking\n",
    "df = pd.read_csv(csv_file)\n",
    "# Column name we are checking (You can switch this column name to match the csv file)\n",
    "urls = df[\"Address\"].tolist()\n",
    "\n",
    "# Trim to only include the first url_max URLs\n",
    "if url_max > 0:\n",
    "    urls = urls[0:url_max]\n",
    "\n",
    "# Here is where we start the sentiment analysis over all articles\n",
    "df = main_pipeline_sentiment_analysis(urls)\n"
   ]
  },
  {
   "cell_type": "markdown",
   "id": "7d0b94a9",
   "metadata": {},
   "source": [
    "# TOPIC MODELING"
   ]
  },
  {
   "cell_type": "markdown",
   "id": "40eba53b",
   "metadata": {},
   "source": [
    "# Create Topic Model w/ Highest Coherence"
   ]
  },
  {
   "cell_type": "markdown",
   "id": "e01f58b3",
   "metadata": {},
   "source": [
    "Here we create our LDA topic model, article corpus, and topic-level sentiment analysis dictionary.\n",
    "\n",
    "First we pass in our dataframe df and associated settings. The function will create topic models with varying number of topics, compute the topic coherence score for that number of topics over our articles, and return to us the LDA model that has the highest coherence score. It will display a small graphic showing the topic coherence for each number of topics we tested.\n",
    "\n",
    "Next we will create our topic-level sentiment analysis dictionary using both our dataframe df and the new LDA_model and corpus we just created. This will give us a dictionary of the averaged sentiment scores for every topic of an article, for all articles."
   ]
  },
  {
   "cell_type": "code",
   "execution_count": 30,
   "id": "52b11718",
   "metadata": {},
   "outputs": [
    {
     "data": {
      "image/png": "[encoded data removed]",
      "text/plain": [
       "<Figure size 432x288 with 1 Axes>"
      ]
     },
     "metadata": {
      "needs_background": "light"
     },
     "output_type": "display_data"
    }
   ],
   "source": [
    "#This will generate multiple topic models with various topic count, then return\n",
    "# the model with highest coherence it will also display a quick visual of\n",
    "# coherence values, to understand what topic count is best and why it was chosen\n",
    "lda_model, corpus = create_lda_model(topic_model_dict[\"topic_limit\"],\n",
    "                                     topic_model_dict[\"topic_start\"], \n",
    "                                     topic_model_dict[\"topic_step\"])\n",
    "\n",
    "# lda_model is the lda model we will work with, corpus is the actual corpus of articles we use\n",
    "\n",
    "\n",
    "# Here we are making our dictionary of all articles and their associated\n",
    "# topic-level sentiment for every topic\n",
    "topic_level_sentiment = topic_sentence_sentiment_analysis(df, lda_model)\n"
   ]
  },
  {
   "cell_type": "markdown",
   "id": "e90c4670",
   "metadata": {},
   "source": [
    "# DATA VISUALIZATION"
   ]
  },
  {
   "cell_type": "markdown",
   "id": "2cf78edd",
   "metadata": {},
   "source": [
    "## Pre-processing dataframe for visualization"
   ]
  },
  {
   "cell_type": "markdown",
   "id": "08f34a83",
   "metadata": {},
   "source": [
    "Here we preprocess our dataframe to add in a few relevant columns for data vis, as well as creating our topic relevancy dataframe and weighted sentiment dataframe over all topics for all articles. \n",
    "\n",
    "We add the Topics, Main Topic, Main Topic Score, and Shortened Address to the main dataframe (using our preprocess_dataframe_for_datavis() function). This lets the data vis section easily grab the information.\n",
    "\n",
    "Next we create the topic relevancy dataframe df_topics. In df_topics, each row is an article, and each column is a topic. For an article, every cell value represents the relevancy of that topic to that article. So if row 0 column 1 is 0.998, that means Article 0 has a 0.998 relevancy score on Topic 1.\n",
    "\n",
    "We create the per_topic_df, which uses our topic-based sentiment dictionary and our topic relevancy dataframe to make a dataframe where each row is an article and each column is a topic. The cell contains data of the form (sentiment, relevancy) which is a tuple that describes the sentiment value and topic relevancy of that article (row) for that topic (column)."
   ]
  },
  {
   "cell_type": "code",
   "execution_count": 31,
   "id": "097d2461",
   "metadata": {
    "scrolled": true
   },
   "outputs": [
    {
     "data": {
      "text/html": [
       "<div>\n",
       "<style scoped>\n",
       "    .dataframe tbody tr th:only-of-type {\n",
       "        vertical-align: middle;\n",
       "    }\n",
       "\n",
       "    .dataframe tbody tr th {\n",
       "        vertical-align: top;\n",
       "    }\n",
       "\n",
       "    .dataframe thead th {\n",
       "        text-align: right;\n",
       "    }\n",
       "</style>\n",
       "<table border=\"1\" class=\"dataframe\">\n",
       "  <thead>\n",
       "    <tr style=\"text-align: right;\">\n",
       "      <th></th>\n",
       "      <th>URL</th>\n",
       "      <th>Sentiment Score</th>\n",
       "      <th>Sentiment Label</th>\n",
       "      <th>Subjectivity Score</th>\n",
       "      <th>Positive Words</th>\n",
       "      <th>Negative Words</th>\n",
       "      <th>Text</th>\n",
       "      <th>Topics</th>\n",
       "      <th>Main Topic</th>\n",
       "      <th>Main Topic Score</th>\n",
       "      <th>Associated Words</th>\n",
       "      <th>Shortened Address</th>\n",
       "    </tr>\n",
       "  </thead>\n",
       "  <tbody>\n",
       "    <tr>\n",
       "      <th>23</th>\n",
       "      <td>https://www.washingtonexaminer.com/news/white-...</td>\n",
       "      <td>-0.06</td>\n",
       "      <td>Neutral</td>\n",
       "      <td>0.48</td>\n",
       "      <td>more, newly, beautiful, first, not, high, new,...</td>\n",
       "      <td>very, afraid, hard, falsely, deadly, dangerous...</td>\n",
       "      <td>exclusive — hunter biden berated his sister-in...</td>\n",
       "      <td>[(0, 0.9987387)]</td>\n",
       "      <td>0</td>\n",
       "      <td>0.998739</td>\n",
       "      <td>[[hunter, hallie, gun, service, secret, tell, ...</td>\n",
       "      <td>www.washingtonexaminer.com</td>\n",
       "    </tr>\n",
       "    <tr>\n",
       "      <th>4</th>\n",
       "      <td>https://www.nation.com.pk/21-Jun-2023/hunter-b...</td>\n",
       "      <td>-0.04</td>\n",
       "      <td>Neutral</td>\n",
       "      <td>0.44</td>\n",
       "      <td>first, detailed, love, not, social, important</td>\n",
       "      <td>foreign, failure, criminal, alleged, other, le...</td>\n",
       "      <td>washigton-hunter biden, the son of president j...</td>\n",
       "      <td>[(0, 0.7291358), (4, 0.2668376)]</td>\n",
       "      <td>0</td>\n",
       "      <td>0.729136</td>\n",
       "      <td>[[hunter, hallie, gun, service, secret, tell, ...</td>\n",
       "      <td>www.nation.com.pk</td>\n",
       "    </tr>\n",
       "    <tr>\n",
       "      <th>41</th>\n",
       "      <td>https://www.washingtonpost.com/politics/2023/1...</td>\n",
       "      <td>0.05</td>\n",
       "      <td>Neutral</td>\n",
       "      <td>0.37</td>\n",
       "      <td>more, live, especially, exactly, significant, ...</td>\n",
       "      <td>killed, disappointment, least, anger, actually...</td>\n",
       "      <td>listen 9 min share comment on this story comme...</td>\n",
       "      <td>[(1, 0.75924563), (5, 0.23979272)]</td>\n",
       "      <td>1</td>\n",
       "      <td>0.759246</td>\n",
       "      <td>[[biden, primary, phillip, state, democratic, ...</td>\n",
       "      <td>www.washingtonpost.com</td>\n",
       "    </tr>\n",
       "    <tr>\n",
       "      <th>35</th>\n",
       "      <td>https://www.startribune.com/minnesota-rep-dean...</td>\n",
       "      <td>0.14</td>\n",
       "      <td>Neutral</td>\n",
       "      <td>0.42</td>\n",
       "      <td>more, prominently, confirmed, elaborate, new, ...</td>\n",
       "      <td>secret, disappointed, behind, cold</td>\n",
       "      <td>concord, n.h. — dean phillips is running for p...</td>\n",
       "      <td>[(1, 0.9956811)]</td>\n",
       "      <td>1</td>\n",
       "      <td>0.995681</td>\n",
       "      <td>[[biden, primary, phillip, state, democratic, ...</td>\n",
       "      <td>www.startribune.com</td>\n",
       "    </tr>\n",
       "    <tr>\n",
       "      <th>34</th>\n",
       "      <td>https://www.wmur.com/article/biden-new-hampshi...</td>\n",
       "      <td>0.22</td>\n",
       "      <td>Neutral</td>\n",
       "      <td>0.47</td>\n",
       "      <td>more, very, first, best, certainly, uncommon, ...</td>\n",
       "      <td>small, expected, tired, not, least, other, sec</td>\n",
       "      <td>says no matter what happens - new hampshire wi...</td>\n",
       "      <td>[(1, 0.9966388)]</td>\n",
       "      <td>1</td>\n",
       "      <td>0.996639</td>\n",
       "      <td>[[biden, primary, phillip, state, democratic, ...</td>\n",
       "      <td>www.wmur.com</td>\n",
       "    </tr>\n",
       "    <tr>\n",
       "      <th>33</th>\n",
       "      <td>https://www.washingtonpost.com/politics/2023/1...</td>\n",
       "      <td>0.13</td>\n",
       "      <td>Neutral</td>\n",
       "      <td>0.38</td>\n",
       "      <td>first, aired, most, wild, accomplished, new, e...</td>\n",
       "      <td>unlikely, least, highly, previous, expected, s...</td>\n",
       "      <td>listen 9 min share comment on this story comme...</td>\n",
       "      <td>[(1, 0.99886423)]</td>\n",
       "      <td>1</td>\n",
       "      <td>0.998864</td>\n",
       "      <td>[[biden, primary, phillip, state, democratic, ...</td>\n",
       "      <td>www.washingtonpost.com</td>\n",
       "    </tr>\n",
       "    <tr>\n",
       "      <th>32</th>\n",
       "      <td>https://abcnews.go.com/Politics/white-democrat...</td>\n",
       "      <td>0.09</td>\n",
       "      <td>Neutral</td>\n",
       "      <td>0.46</td>\n",
       "      <td>candidly, more, very, first, large, sure, conf...</td>\n",
       "      <td>down, black, hard, base, expected, other, leas...</td>\n",
       "      <td>minnesota rep. dean phillips' expected decisio...</td>\n",
       "      <td>[(1, 0.9975301)]</td>\n",
       "      <td>1</td>\n",
       "      <td>0.997530</td>\n",
       "      <td>[[biden, primary, phillip, state, democratic, ...</td>\n",
       "      <td>abcnews.go.com</td>\n",
       "    </tr>\n",
       "    <tr>\n",
       "      <th>31</th>\n",
       "      <td>https://www.foxnews.com/media/james-carville-c...</td>\n",
       "      <td>-0.00</td>\n",
       "      <td>Neutral</td>\n",
       "      <td>0.39</td>\n",
       "      <td>more, clear, far, controversial, pretty, new, ...</td>\n",
       "      <td>serious, black, illegally, unlikely, historica...</td>\n",
       "      <td>democratic strategist james carville said in a...</td>\n",
       "      <td>[(1, 0.99587446)]</td>\n",
       "      <td>1</td>\n",
       "      <td>0.995874</td>\n",
       "      <td>[[biden, primary, phillip, state, democratic, ...</td>\n",
       "      <td>www.foxnews.com</td>\n",
       "    </tr>\n",
       "    <tr>\n",
       "      <th>30</th>\n",
       "      <td>https://www.nbcnews.com/politics/2024-election...</td>\n",
       "      <td>0.04</td>\n",
       "      <td>Neutral</td>\n",
       "      <td>0.41</td>\n",
       "      <td>more, exactly, first, surprised, not, effectiv...</td>\n",
       "      <td>very, little, blatantly, harder, late, base, m...</td>\n",
       "      <td>president joe biden announced in april that he...</td>\n",
       "      <td>[(1, 0.99817264)]</td>\n",
       "      <td>1</td>\n",
       "      <td>0.998173</td>\n",
       "      <td>[[biden, primary, phillip, state, democratic, ...</td>\n",
       "      <td>www.nbcnews.com</td>\n",
       "    </tr>\n",
       "    <tr>\n",
       "      <th>29</th>\n",
       "      <td>https://www.politico.com/news/2023/10/24/biden...</td>\n",
       "      <td>0.21</td>\n",
       "      <td>Neutral</td>\n",
       "      <td>0.51</td>\n",
       "      <td>more, general, new, primary, early</td>\n",
       "      <td></td>\n",
       "      <td>president joe biden’s name will not appear on ...</td>\n",
       "      <td>[(1, 0.98631257)]</td>\n",
       "      <td>1</td>\n",
       "      <td>0.986313</td>\n",
       "      <td>[[biden, primary, phillip, state, democratic, ...</td>\n",
       "      <td>www.politico.com</td>\n",
       "    </tr>\n",
       "    <tr>\n",
       "      <th>28</th>\n",
       "      <td>https://apnews.com/article/biden-new-hampshire...</td>\n",
       "      <td>0.17</td>\n",
       "      <td>Neutral</td>\n",
       "      <td>0.47</td>\n",
       "      <td>more, available, significant, first, positive,...</td>\n",
       "      <td>down, broken, alienating, half, minimal, slow,...</td>\n",
       "      <td>washington (ap) — president joe biden wasn’t s...</td>\n",
       "      <td>[(1, 0.99836403)]</td>\n",
       "      <td>1</td>\n",
       "      <td>0.998364</td>\n",
       "      <td>[[biden, primary, phillip, state, democratic, ...</td>\n",
       "      <td>apnews.com</td>\n",
       "    </tr>\n",
       "    <tr>\n",
       "      <th>20</th>\n",
       "      <td>https://www.politico.com/news/2023/10/26/speak...</td>\n",
       "      <td>0.12</td>\n",
       "      <td>Neutral</td>\n",
       "      <td>0.50</td>\n",
       "      <td>more, first, best, ready, acute, high, new, ea...</td>\n",
       "      <td>complex, failure, desperate, drag, other, less...</td>\n",
       "      <td>“i think mike johnson is more than happy to mo...</td>\n",
       "      <td>[(1, 0.9621244), (4, 0.03628278)]</td>\n",
       "      <td>1</td>\n",
       "      <td>0.962124</td>\n",
       "      <td>[[biden, primary, phillip, state, democratic, ...</td>\n",
       "      <td>www.politico.com</td>\n",
       "    </tr>\n",
       "    <tr>\n",
       "      <th>19</th>\n",
       "      <td>https://www.thenation.com/article/politics/rea...</td>\n",
       "      <td>0.09</td>\n",
       "      <td>Neutral</td>\n",
       "      <td>0.44</td>\n",
       "      <td>more, very, rich, naturally, beautiful, first,...</td>\n",
       "      <td>killed, especially, blatantly, raw, heavily, n...</td>\n",
       "      <td>subscribe to the nation subscribe now for as l...</td>\n",
       "      <td>[(1, 0.9990738)]</td>\n",
       "      <td>1</td>\n",
       "      <td>0.999074</td>\n",
       "      <td>[[biden, primary, phillip, state, democratic, ...</td>\n",
       "      <td>www.thenation.com</td>\n",
       "    </tr>\n",
       "    <tr>\n",
       "      <th>15</th>\n",
       "      <td>https://www.newsnationnow.com/danabramslive/ab...</td>\n",
       "      <td>0.14</td>\n",
       "      <td>Neutral</td>\n",
       "      <td>0.43</td>\n",
       "      <td>more, large, first, sure, confirmed, largely, ...</td>\n",
       "      <td>very, foreign, bad, tries, single, usually, mean</td>\n",
       "      <td>the views expressed in this article are those ...</td>\n",
       "      <td>[(1, 0.8776475), (4, 0.120011084)]</td>\n",
       "      <td>1</td>\n",
       "      <td>0.877648</td>\n",
       "      <td>[[biden, primary, phillip, state, democratic, ...</td>\n",
       "      <td>www.newsnationnow.com</td>\n",
       "    </tr>\n",
       "    <tr>\n",
       "      <th>46</th>\n",
       "      <td>https://www.foxnews.com/politics/nearly-two-th...</td>\n",
       "      <td>0.08</td>\n",
       "      <td>Neutral</td>\n",
       "      <td>0.46</td>\n",
       "      <td>more, available, largely, strong, good, far, c...</td>\n",
       "      <td>tough, serious, very, destroy, black, bad, slo...</td>\n",
       "      <td>a new poll found that nearly two-thirds of new...</td>\n",
       "      <td>[(1, 0.99742144)]</td>\n",
       "      <td>1</td>\n",
       "      <td>0.997421</td>\n",
       "      <td>[[biden, primary, phillip, state, democratic, ...</td>\n",
       "      <td>www.foxnews.com</td>\n",
       "    </tr>\n",
       "    <tr>\n",
       "      <th>3</th>\n",
       "      <td>https://apnews.com/article/hunter-biden-impeac...</td>\n",
       "      <td>0.02</td>\n",
       "      <td>Neutral</td>\n",
       "      <td>0.37</td>\n",
       "      <td>more, clear, high, many, far, top, first, new,...</td>\n",
       "      <td>down, skeptical, hard, unlikely, criminal, exp...</td>\n",
       "      <td>washington (ap) — house republicans launched a...</td>\n",
       "      <td>[(1, 0.48935947), (2, 0.022308988), (4, 0.4873...</td>\n",
       "      <td>1</td>\n",
       "      <td>0.489359</td>\n",
       "      <td>[[biden, primary, phillip, state, democratic, ...</td>\n",
       "      <td>apnews.com</td>\n",
       "    </tr>\n",
       "    <tr>\n",
       "      <th>18</th>\n",
       "      <td>https://nypost.com/2023/10/25/news/us-attorney...</td>\n",
       "      <td>0.07</td>\n",
       "      <td>Neutral</td>\n",
       "      <td>0.42</td>\n",
       "      <td>more, very, first, surprised, broadly, general...</td>\n",
       "      <td>down, hindered, shocking, foreign, firm, crimi...</td>\n",
       "      <td>a former us attorney said the fbi hindered his...</td>\n",
       "      <td>[(2, 0.99795324)]</td>\n",
       "      <td>2</td>\n",
       "      <td>0.997953</td>\n",
       "      <td>[[office, biden, information, source, hunter, ...</td>\n",
       "      <td>nypost.com</td>\n",
       "    </tr>\n",
       "    <tr>\n",
       "      <th>13</th>\n",
       "      <td>https://www.grassley.senate.gov/news/news-rele...</td>\n",
       "      <td>-0.00</td>\n",
       "      <td>Neutral</td>\n",
       "      <td>0.39</td>\n",
       "      <td>legally, more, clear, general, significant, ne...</td>\n",
       "      <td>down, closed, falsely, foreign, criminal, leas...</td>\n",
       "      <td>fbi’s biden bribery document cleared initial v...</td>\n",
       "      <td>[(2, 0.9955516)]</td>\n",
       "      <td>2</td>\n",
       "      <td>0.995552</td>\n",
       "      <td>[[office, biden, information, source, hunter, ...</td>\n",
       "      <td>www.grassley.senate.gov</td>\n",
       "    </tr>\n",
       "    <tr>\n",
       "      <th>12</th>\n",
       "      <td>https://www.foxnews.com/politics/fbi-received-...</td>\n",
       "      <td>-0.03</td>\n",
       "      <td>Neutral</td>\n",
       "      <td>0.34</td>\n",
       "      <td>more, rich, significant, first, not, successfu...</td>\n",
       "      <td>falsely, late, heavily, limited, not, least, q...</td>\n",
       "      <td>exclusive: the fbi maintained more than 40 con...</td>\n",
       "      <td>[(2, 0.9989196)]</td>\n",
       "      <td>2</td>\n",
       "      <td>0.998920</td>\n",
       "      <td>[[office, biden, information, source, hunter, ...</td>\n",
       "      <td>www.foxnews.com</td>\n",
       "    </tr>\n",
       "    <tr>\n",
       "      <th>24</th>\n",
       "      <td>https://www.dailymail.co.uk/news/article-12673...</td>\n",
       "      <td>-0.03</td>\n",
       "      <td>Neutral</td>\n",
       "      <td>0.39</td>\n",
       "      <td>clear, strong, general, significant, complete,...</td>\n",
       "      <td>false, down, heavy, closed, corrupt, falsely, ...</td>\n",
       "      <td>over 40 confidential fbi sources say there's e...</td>\n",
       "      <td>[(2, 0.99775535)]</td>\n",
       "      <td>2</td>\n",
       "      <td>0.997755</td>\n",
       "      <td>[[office, biden, information, source, hunter, ...</td>\n",
       "      <td>www.dailymail.co.uk</td>\n",
       "    </tr>\n",
       "    <tr>\n",
       "      <th>25</th>\n",
       "      <td>https://thefederalist.com/2023/10/26/fbi-and-i...</td>\n",
       "      <td>0.01</td>\n",
       "      <td>Neutral</td>\n",
       "      <td>0.37</td>\n",
       "      <td>more, significant, first, highly, important, h...</td>\n",
       "      <td>false, down, serious, closed, falsely, late, f...</td>\n",
       "      <td>the fbi’s foreign influence task force used a ...</td>\n",
       "      <td>[(2, 0.7714716), (3, 0.22750416)]</td>\n",
       "      <td>2</td>\n",
       "      <td>0.771472</td>\n",
       "      <td>[[office, biden, information, source, hunter, ...</td>\n",
       "      <td>thefederalist.com</td>\n",
       "    </tr>\n",
       "    <tr>\n",
       "      <th>26</th>\n",
       "      <td>https://www.washingtontimes.com/news/2023/oct/...</td>\n",
       "      <td>0.09</td>\n",
       "      <td>Neutral</td>\n",
       "      <td>0.40</td>\n",
       "      <td>more, clear, wants, aware, far, general, signi...</td>\n",
       "      <td>down, foreign, potentially, other, disturbing,...</td>\n",
       "      <td>more than 40 confidential sources were providi...</td>\n",
       "      <td>[(2, 0.99558926)]</td>\n",
       "      <td>2</td>\n",
       "      <td>0.995589</td>\n",
       "      <td>[[office, biden, information, source, hunter, ...</td>\n",
       "      <td>www.washingtontimes.com</td>\n",
       "    </tr>\n",
       "    <tr>\n",
       "      <th>27</th>\n",
       "      <td>https://www.usatoday.com/story/news/politics/2...</td>\n",
       "      <td>0.20</td>\n",
       "      <td>Neutral</td>\n",
       "      <td>0.41</td>\n",
       "      <td>unprecedented, good, first, new, real, legal, ...</td>\n",
       "      <td>common</td>\n",
       "      <td>washington − president joe biden, weighing in ...</td>\n",
       "      <td>[(1, 0.34358972), (2, 0.46472532), (5, 0.18718...</td>\n",
       "      <td>2</td>\n",
       "      <td>0.464725</td>\n",
       "      <td>[[office, biden, information, source, hunter, ...</td>\n",
       "      <td>www.usatoday.com</td>\n",
       "    </tr>\n",
       "    <tr>\n",
       "      <th>11</th>\n",
       "      <td>https://nypost.com/2023/10/26/news/us-attorney...</td>\n",
       "      <td>0.03</td>\n",
       "      <td>Neutral</td>\n",
       "      <td>0.45</td>\n",
       "      <td>more, confirmed, very, recently, many, general...</td>\n",
       "      <td>down, very, difficult, corrupt, foreign, past,...</td>\n",
       "      <td>washington — los angeles us attorney martin es...</td>\n",
       "      <td>[(2, 0.88514656), (4, 0.11233685)]</td>\n",
       "      <td>2</td>\n",
       "      <td>0.885147</td>\n",
       "      <td>[[office, biden, information, source, hunter, ...</td>\n",
       "      <td>nypost.com</td>\n",
       "    </tr>\n",
       "    <tr>\n",
       "      <th>14</th>\n",
       "      <td>https://wjla.com/news/nation-world/senator-chu...</td>\n",
       "      <td>-0.02</td>\n",
       "      <td>Neutral</td>\n",
       "      <td>0.35</td>\n",
       "      <td>more, general, new, really, certain, credible</td>\n",
       "      <td>false, down, foreign, criminal, other, subject...</td>\n",
       "      <td>there are new questions about the role of the ...</td>\n",
       "      <td>[(1, 0.22470373), (2, 0.6221943), (3, 0.148112...</td>\n",
       "      <td>2</td>\n",
       "      <td>0.622194</td>\n",
       "      <td>[[office, biden, information, source, hunter, ...</td>\n",
       "      <td>wjla.com</td>\n",
       "    </tr>\n",
       "    <tr>\n",
       "      <th>2</th>\n",
       "      <td>https://www.foxnews.com/politics/hunter-biden-...</td>\n",
       "      <td>-0.04</td>\n",
       "      <td>Neutral</td>\n",
       "      <td>0.37</td>\n",
       "      <td>confirmed, direct, many, first, new, extraordi...</td>\n",
       "      <td>illegally, implicated, past, hard, falsely, fo...</td>\n",
       "      <td>hunter biden on tuesday filed a lawsuit agains...</td>\n",
       "      <td>[(3, 0.99770886)]</td>\n",
       "      <td>3</td>\n",
       "      <td>0.997709</td>\n",
       "      <td>[[hunter, biden, wire, investigation, son, bus...</td>\n",
       "      <td>www.foxnews.com</td>\n",
       "    </tr>\n",
       "    <tr>\n",
       "      <th>5</th>\n",
       "      <td>https://www.nation.com.pk/25-Jul-2021/white-ho...</td>\n",
       "      <td>0.10</td>\n",
       "      <td>Neutral</td>\n",
       "      <td>0.41</td>\n",
       "      <td>artistic, appropriate, favorite, ethically, ne...</td>\n",
       "      <td>half</td>\n",
       "      <td>washington - the white house assured saturday ...</td>\n",
       "      <td>[(3, 0.99440944)]</td>\n",
       "      <td>3</td>\n",
       "      <td>0.994409</td>\n",
       "      <td>[[hunter, biden, wire, investigation, son, bus...</td>\n",
       "      <td>www.nation.com.pk</td>\n",
       "    </tr>\n",
       "    <tr>\n",
       "      <th>6</th>\n",
       "      <td>https://www.nation.com.pk/24-Dec-2019/hunter-b...</td>\n",
       "      <td>-0.11</td>\n",
       "      <td>Neutral</td>\n",
       "      <td>0.40</td>\n",
       "      <td>more, nearly, new</td>\n",
       "      <td>average, firm, criminal, allegedly, limited, s...</td>\n",
       "      <td>hunter biden is the subject of multiple crimin...</td>\n",
       "      <td>[(3, 0.993874)]</td>\n",
       "      <td>3</td>\n",
       "      <td>0.993874</td>\n",
       "      <td>[[hunter, biden, wire, investigation, son, bus...</td>\n",
       "      <td>www.nation.com.pk</td>\n",
       "    </tr>\n",
       "    <tr>\n",
       "      <th>0</th>\n",
       "      <td>https://www.foxnews.com/politics/hunter-bidens...</td>\n",
       "      <td>0.04</td>\n",
       "      <td>Neutral</td>\n",
       "      <td>0.24</td>\n",
       "      <td>more, first, new, best, unpaid, legal, main</td>\n",
       "      <td>down, firm, limited, least, previously, approx...</td>\n",
       "      <td>exclusive: the $250,000 wire hunter biden rece...</td>\n",
       "      <td>[(3, 0.9976179)]</td>\n",
       "      <td>3</td>\n",
       "      <td>0.997618</td>\n",
       "      <td>[[hunter, biden, wire, investigation, son, bus...</td>\n",
       "      <td>www.foxnews.com</td>\n",
       "    </tr>\n",
       "    <tr>\n",
       "      <th>10</th>\n",
       "      <td>https://apnews.com/article/hunter-biden-prosec...</td>\n",
       "      <td>0.04</td>\n",
       "      <td>Neutral</td>\n",
       "      <td>0.43</td>\n",
       "      <td>full, more, very, special</td>\n",
       "      <td>addicted, closed, expected, other, no, behind,...</td>\n",
       "      <td>washington (ap) — a second u.s. attorney has t...</td>\n",
       "      <td>[(3, 0.99468046)]</td>\n",
       "      <td>3</td>\n",
       "      <td>0.994680</td>\n",
       "      <td>[[hunter, biden, wire, investigation, son, bus...</td>\n",
       "      <td>apnews.com</td>\n",
       "    </tr>\n",
       "    <tr>\n",
       "      <th>21</th>\n",
       "      <td>https://www.cnn.com/2023/08/11/politics/hunter...</td>\n",
       "      <td>0.06</td>\n",
       "      <td>Neutral</td>\n",
       "      <td>0.48</td>\n",
       "      <td>more, exactly, first, confident, sure, ready, ...</td>\n",
       "      <td>drag, not, erroneous, foreign, firm, expected,...</td>\n",
       "      <td>cnn —\\na sudden new twist in the investigation...</td>\n",
       "      <td>[(4, 0.9989114)]</td>\n",
       "      <td>4</td>\n",
       "      <td>0.998911</td>\n",
       "      <td>[[hunter, biden, republican, document, family,...</td>\n",
       "      <td>www.cnn.com</td>\n",
       "    </tr>\n",
       "    <tr>\n",
       "      <th>1</th>\n",
       "      <td>https://www.foxnews.com/politics/doj-ordered-h...</td>\n",
       "      <td>0.06</td>\n",
       "      <td>Neutral</td>\n",
       "      <td>0.35</td>\n",
       "      <td>more, light, clear, appropriate, normal, exact...</td>\n",
       "      <td>artificially, foreign, criminal, limited, not,...</td>\n",
       "      <td>the u.s. department of justice ordered fbi and...</td>\n",
       "      <td>[(4, 0.99813175)]</td>\n",
       "      <td>4</td>\n",
       "      <td>0.998132</td>\n",
       "      <td>[[hunter, biden, republican, document, family,...</td>\n",
       "      <td>www.foxnews.com</td>\n",
       "    </tr>\n",
       "    <tr>\n",
       "      <th>9</th>\n",
       "      <td>https://abcnews.go.com/Politics/comer-issue-su...</td>\n",
       "      <td>0.01</td>\n",
       "      <td>Neutral</td>\n",
       "      <td>0.40</td>\n",
       "      <td>more, far, top, first, new, directly</td>\n",
       "      <td>late, other, missing, previously, extreme, mean</td>\n",
       "      <td>house oversight committee chairman james comer...</td>\n",
       "      <td>[(4, 0.9964899)]</td>\n",
       "      <td>4</td>\n",
       "      <td>0.996490</td>\n",
       "      <td>[[hunter, biden, republican, document, family,...</td>\n",
       "      <td>abcnews.go.com</td>\n",
       "    </tr>\n",
       "    <tr>\n",
       "      <th>7</th>\n",
       "      <td>https://www.cnn.com/2023/09/27/politics/house-...</td>\n",
       "      <td>-0.01</td>\n",
       "      <td>Neutral</td>\n",
       "      <td>0.35</td>\n",
       "      <td>light, more, clear, appropriate, general, sign...</td>\n",
       "      <td>addicted, closed, frustrated, foreign, firm, c...</td>\n",
       "      <td>washington cnn —\\ndocuments released wednesday...</td>\n",
       "      <td>[(4, 0.9983128)]</td>\n",
       "      <td>4</td>\n",
       "      <td>0.998313</td>\n",
       "      <td>[[hunter, biden, republican, document, family,...</td>\n",
       "      <td>www.cnn.com</td>\n",
       "    </tr>\n",
       "    <tr>\n",
       "      <th>44</th>\n",
       "      <td>https://www.reuters.com/world/middle-east/bide...</td>\n",
       "      <td>-0.01</td>\n",
       "      <td>Neutral</td>\n",
       "      <td>0.23</td>\n",
       "      <td>more, direct, elaborate, rare, not, social, mo...</td>\n",
       "      <td>killed, past, foreign, other, least, unable, m...</td>\n",
       "      <td>iran's supreme leader ayatollah ali khamenei a...</td>\n",
       "      <td>[(5, 0.9964443)]</td>\n",
       "      <td>5</td>\n",
       "      <td>0.996444</td>\n",
       "      <td>[[attack, war, group, israeli, palestinian, ki...</td>\n",
       "      <td>www.reuters.com</td>\n",
       "    </tr>\n",
       "    <tr>\n",
       "      <th>36</th>\n",
       "      <td>https://www.reuters.com/world/middle-east/bide...</td>\n",
       "      <td>0.02</td>\n",
       "      <td>Neutral</td>\n",
       "      <td>0.46</td>\n",
       "      <td>confirmed, many, sure, innocent, rose, high</td>\n",
       "      <td>killed, skeptical, difficult, unable, behind, ...</td>\n",
       "      <td>u.s. president joe biden addresses a joint pre...</td>\n",
       "      <td>[(5, 0.9942319)]</td>\n",
       "      <td>5</td>\n",
       "      <td>0.994232</td>\n",
       "      <td>[[attack, war, group, israeli, palestinian, ki...</td>\n",
       "      <td>www.reuters.com</td>\n",
       "    </tr>\n",
       "    <tr>\n",
       "      <th>37</th>\n",
       "      <td>https://apnews.com/article/biden-west-bank-set...</td>\n",
       "      <td>0.06</td>\n",
       "      <td>Neutral</td>\n",
       "      <td>0.35</td>\n",
       "      <td>more, live, forcibly, safely, free, large, sur...</td>\n",
       "      <td>killed, small, foreign, carefully, expected, o...</td>\n",
       "      <td>washington (ap) — president joe biden on wedne...</td>\n",
       "      <td>[(0, 0.4311645), (5, 0.56620413)]</td>\n",
       "      <td>5</td>\n",
       "      <td>0.566204</td>\n",
       "      <td>[[attack, war, group, israeli, palestinian, ki...</td>\n",
       "      <td>apnews.com</td>\n",
       "    </tr>\n",
       "    <tr>\n",
       "      <th>38</th>\n",
       "      <td>https://www.cnn.com/2023/10/26/politics/biden-...</td>\n",
       "      <td>0.08</td>\n",
       "      <td>Neutral</td>\n",
       "      <td>0.43</td>\n",
       "      <td>more, very, safely, significant, sure, most, g...</td>\n",
       "      <td>killed, bloody, passionate, little, past, cent...</td>\n",
       "      <td>cnn —\\nthe liberal coalition that drove joe bi...</td>\n",
       "      <td>[(5, 0.99854076)]</td>\n",
       "      <td>5</td>\n",
       "      <td>0.998541</td>\n",
       "      <td>[[attack, war, group, israeli, palestinian, ki...</td>\n",
       "      <td>www.cnn.com</td>\n",
       "    </tr>\n",
       "    <tr>\n",
       "      <th>39</th>\n",
       "      <td>https://www.foxnews.com/politics/cair-slams-bi...</td>\n",
       "      <td>0.01</td>\n",
       "      <td>Neutral</td>\n",
       "      <td>0.41</td>\n",
       "      <td>more, live, confirmed, many, significant, firs...</td>\n",
       "      <td>killed, false, shocking, past, shocked, blaste...</td>\n",
       "      <td>a u.s.-based pro-muslim group blasted presiden...</td>\n",
       "      <td>[(5, 0.99754256)]</td>\n",
       "      <td>5</td>\n",
       "      <td>0.997543</td>\n",
       "      <td>[[attack, war, group, israeli, palestinian, ki...</td>\n",
       "      <td>www.foxnews.com</td>\n",
       "    </tr>\n",
       "    <tr>\n",
       "      <th>43</th>\n",
       "      <td>https://www.usatoday.com/story/news/world/2023...</td>\n",
       "      <td>0.08</td>\n",
       "      <td>Neutral</td>\n",
       "      <td>0.44</td>\n",
       "      <td>more, clear, very, particular, safely, signifi...</td>\n",
       "      <td>killed, foreign, stark, roughly, expected, tra...</td>\n",
       "      <td>washington — president joe biden said he issue...</td>\n",
       "      <td>[(5, 0.9967705)]</td>\n",
       "      <td>5</td>\n",
       "      <td>0.996771</td>\n",
       "      <td>[[attack, war, group, israeli, palestinian, ki...</td>\n",
       "      <td>www.usatoday.com</td>\n",
       "    </tr>\n",
       "  </tbody>\n",
       "</table>\n",
       "</div>"
      ],
      "text/plain": [
       "                                                  URL  Sentiment Score  \\\n",
       "23  https://www.washingtonexaminer.com/news/white-...            -0.06   \n",
       "4   https://www.nation.com.pk/21-Jun-2023/hunter-b...            -0.04   \n",
       "41  https://www.washingtonpost.com/politics/2023/1...             0.05   \n",
       "35  https://www.startribune.com/minnesota-rep-dean...             0.14   \n",
       "34  https://www.wmur.com/article/biden-new-hampshi...             0.22   \n",
       "33  https://www.washingtonpost.com/politics/2023/1...             0.13   \n",
       "32  https://abcnews.go.com/Politics/white-democrat...             0.09   \n",
       "31  https://www.foxnews.com/media/james-carville-c...            -0.00   \n",
       "30  https://www.nbcnews.com/politics/2024-election...             0.04   \n",
       "29  https://www.politico.com/news/2023/10/24/biden...             0.21   \n",
       "28  https://apnews.com/article/biden-new-hampshire...             0.17   \n",
       "20  https://www.politico.com/news/2023/10/26/speak...             0.12   \n",
       "19  https://www.thenation.com/article/politics/rea...             0.09   \n",
       "15  https://www.newsnationnow.com/danabramslive/ab...             0.14   \n",
       "46  https://www.foxnews.com/politics/nearly-two-th...             0.08   \n",
       "3   https://apnews.com/article/hunter-biden-impeac...             0.02   \n",
       "18  https://nypost.com/2023/10/25/news/us-attorney...             0.07   \n",
       "13  https://www.grassley.senate.gov/news/news-rele...            -0.00   \n",
       "12  https://www.foxnews.com/politics/fbi-received-...            -0.03   \n",
       "24  https://www.dailymail.co.uk/news/article-12673...            -0.03   \n",
       "25  https://thefederalist.com/2023/10/26/fbi-and-i...             0.01   \n",
       "26  https://www.washingtontimes.com/news/2023/oct/...             0.09   \n",
       "27  https://www.usatoday.com/story/news/politics/2...             0.20   \n",
       "11  https://nypost.com/2023/10/26/news/us-attorney...             0.03   \n",
       "14  https://wjla.com/news/nation-world/senator-chu...            -0.02   \n",
       "2   https://www.foxnews.com/politics/hunter-biden-...            -0.04   \n",
       "5   https://www.nation.com.pk/25-Jul-2021/white-ho...             0.10   \n",
       "6   https://www.nation.com.pk/24-Dec-2019/hunter-b...            -0.11   \n",
       "0   https://www.foxnews.com/politics/hunter-bidens...             0.04   \n",
       "10  https://apnews.com/article/hunter-biden-prosec...             0.04   \n",
       "21  https://www.cnn.com/2023/08/11/politics/hunter...             0.06   \n",
       "1   https://www.foxnews.com/politics/doj-ordered-h...             0.06   \n",
       "9   https://abcnews.go.com/Politics/comer-issue-su...             0.01   \n",
       "7   https://www.cnn.com/2023/09/27/politics/house-...            -0.01   \n",
       "44  https://www.reuters.com/world/middle-east/bide...            -0.01   \n",
       "36  https://www.reuters.com/world/middle-east/bide...             0.02   \n",
       "37  https://apnews.com/article/biden-west-bank-set...             0.06   \n",
       "38  https://www.cnn.com/2023/10/26/politics/biden-...             0.08   \n",
       "39  https://www.foxnews.com/politics/cair-slams-bi...             0.01   \n",
       "43  https://www.usatoday.com/story/news/world/2023...             0.08   \n",
       "\n",
       "   Sentiment Label  Subjectivity Score  \\\n",
       "23         Neutral                0.48   \n",
       "4          Neutral                0.44   \n",
       "41         Neutral                0.37   \n",
       "35         Neutral                0.42   \n",
       "34         Neutral                0.47   \n",
       "33         Neutral                0.38   \n",
       "32         Neutral                0.46   \n",
       "31         Neutral                0.39   \n",
       "30         Neutral                0.41   \n",
       "29         Neutral                0.51   \n",
       "28         Neutral                0.47   \n",
       "20         Neutral                0.50   \n",
       "19         Neutral                0.44   \n",
       "15         Neutral                0.43   \n",
       "46         Neutral                0.46   \n",
       "3          Neutral                0.37   \n",
       "18         Neutral                0.42   \n",
       "13         Neutral                0.39   \n",
       "12         Neutral                0.34   \n",
       "24         Neutral                0.39   \n",
       "25         Neutral                0.37   \n",
       "26         Neutral                0.40   \n",
       "27         Neutral                0.41   \n",
       "11         Neutral                0.45   \n",
       "14         Neutral                0.35   \n",
       "2          Neutral                0.37   \n",
       "5          Neutral                0.41   \n",
       "6          Neutral                0.40   \n",
       "0          Neutral                0.24   \n",
       "10         Neutral                0.43   \n",
       "21         Neutral                0.48   \n",
       "1          Neutral                0.35   \n",
       "9          Neutral                0.40   \n",
       "7          Neutral                0.35   \n",
       "44         Neutral                0.23   \n",
       "36         Neutral                0.46   \n",
       "37         Neutral                0.35   \n",
       "38         Neutral                0.43   \n",
       "39         Neutral                0.41   \n",
       "43         Neutral                0.44   \n",
       "\n",
       "                                       Positive Words  \\\n",
       "23  more, newly, beautiful, first, not, high, new,...   \n",
       "4       first, detailed, love, not, social, important   \n",
       "41  more, live, especially, exactly, significant, ...   \n",
       "35  more, prominently, confirmed, elaborate, new, ...   \n",
       "34  more, very, first, best, certainly, uncommon, ...   \n",
       "33  first, aired, most, wild, accomplished, new, e...   \n",
       "32  candidly, more, very, first, large, sure, conf...   \n",
       "31  more, clear, far, controversial, pretty, new, ...   \n",
       "30  more, exactly, first, surprised, not, effectiv...   \n",
       "29                 more, general, new, primary, early   \n",
       "28  more, available, significant, first, positive,...   \n",
       "20  more, first, best, ready, acute, high, new, ea...   \n",
       "19  more, very, rich, naturally, beautiful, first,...   \n",
       "15  more, large, first, sure, confirmed, largely, ...   \n",
       "46  more, available, largely, strong, good, far, c...   \n",
       "3   more, clear, high, many, far, top, first, new,...   \n",
       "18  more, very, first, surprised, broadly, general...   \n",
       "13  legally, more, clear, general, significant, ne...   \n",
       "12  more, rich, significant, first, not, successfu...   \n",
       "24  clear, strong, general, significant, complete,...   \n",
       "25  more, significant, first, highly, important, h...   \n",
       "26  more, clear, wants, aware, far, general, signi...   \n",
       "27  unprecedented, good, first, new, real, legal, ...   \n",
       "11  more, confirmed, very, recently, many, general...   \n",
       "14      more, general, new, really, certain, credible   \n",
       "2   confirmed, direct, many, first, new, extraordi...   \n",
       "5   artistic, appropriate, favorite, ethically, ne...   \n",
       "6                                   more, nearly, new   \n",
       "0         more, first, new, best, unpaid, legal, main   \n",
       "10                          full, more, very, special   \n",
       "21  more, exactly, first, confident, sure, ready, ...   \n",
       "1   more, light, clear, appropriate, normal, exact...   \n",
       "9                more, far, top, first, new, directly   \n",
       "7   light, more, clear, appropriate, general, sign...   \n",
       "44  more, direct, elaborate, rare, not, social, mo...   \n",
       "36        confirmed, many, sure, innocent, rose, high   \n",
       "37  more, live, forcibly, safely, free, large, sur...   \n",
       "38  more, very, safely, significant, sure, most, g...   \n",
       "39  more, live, confirmed, many, significant, firs...   \n",
       "43  more, clear, very, particular, safely, signifi...   \n",
       "\n",
       "                                       Negative Words  \\\n",
       "23  very, afraid, hard, falsely, deadly, dangerous...   \n",
       "4   foreign, failure, criminal, alleged, other, le...   \n",
       "41  killed, disappointment, least, anger, actually...   \n",
       "35                 secret, disappointed, behind, cold   \n",
       "34     small, expected, tired, not, least, other, sec   \n",
       "33  unlikely, least, highly, previous, expected, s...   \n",
       "32  down, black, hard, base, expected, other, leas...   \n",
       "31  serious, black, illegally, unlikely, historica...   \n",
       "30  very, little, blatantly, harder, late, base, m...   \n",
       "29                                                      \n",
       "28  down, broken, alienating, half, minimal, slow,...   \n",
       "20  complex, failure, desperate, drag, other, less...   \n",
       "19  killed, especially, blatantly, raw, heavily, n...   \n",
       "15   very, foreign, bad, tries, single, usually, mean   \n",
       "46  tough, serious, very, destroy, black, bad, slo...   \n",
       "3   down, skeptical, hard, unlikely, criminal, exp...   \n",
       "18  down, hindered, shocking, foreign, firm, crimi...   \n",
       "13  down, closed, falsely, foreign, criminal, leas...   \n",
       "12  falsely, late, heavily, limited, not, least, q...   \n",
       "24  false, down, heavy, closed, corrupt, falsely, ...   \n",
       "25  false, down, serious, closed, falsely, late, f...   \n",
       "26  down, foreign, potentially, other, disturbing,...   \n",
       "27                                             common   \n",
       "11  down, very, difficult, corrupt, foreign, past,...   \n",
       "14  false, down, foreign, criminal, other, subject...   \n",
       "2   illegally, implicated, past, hard, falsely, fo...   \n",
       "5                                                half   \n",
       "6   average, firm, criminal, allegedly, limited, s...   \n",
       "0   down, firm, limited, least, previously, approx...   \n",
       "10  addicted, closed, expected, other, no, behind,...   \n",
       "21  drag, not, erroneous, foreign, firm, expected,...   \n",
       "1   artificially, foreign, criminal, limited, not,...   \n",
       "9     late, other, missing, previously, extreme, mean   \n",
       "7   addicted, closed, frustrated, foreign, firm, c...   \n",
       "44  killed, past, foreign, other, least, unable, m...   \n",
       "36  killed, skeptical, difficult, unable, behind, ...   \n",
       "37  killed, small, foreign, carefully, expected, o...   \n",
       "38  killed, bloody, passionate, little, past, cent...   \n",
       "39  killed, false, shocking, past, shocked, blaste...   \n",
       "43  killed, foreign, stark, roughly, expected, tra...   \n",
       "\n",
       "                                                 Text  \\\n",
       "23  exclusive — hunter biden berated his sister-in...   \n",
       "4   washigton-hunter biden, the son of president j...   \n",
       "41  listen 9 min share comment on this story comme...   \n",
       "35  concord, n.h. — dean phillips is running for p...   \n",
       "34  says no matter what happens - new hampshire wi...   \n",
       "33  listen 9 min share comment on this story comme...   \n",
       "32  minnesota rep. dean phillips' expected decisio...   \n",
       "31  democratic strategist james carville said in a...   \n",
       "30  president joe biden announced in april that he...   \n",
       "29  president joe biden’s name will not appear on ...   \n",
       "28  washington (ap) — president joe biden wasn’t s...   \n",
       "20  “i think mike johnson is more than happy to mo...   \n",
       "19  subscribe to the nation subscribe now for as l...   \n",
       "15  the views expressed in this article are those ...   \n",
       "46  a new poll found that nearly two-thirds of new...   \n",
       "3   washington (ap) — house republicans launched a...   \n",
       "18  a former us attorney said the fbi hindered his...   \n",
       "13  fbi’s biden bribery document cleared initial v...   \n",
       "12  exclusive: the fbi maintained more than 40 con...   \n",
       "24  over 40 confidential fbi sources say there's e...   \n",
       "25  the fbi’s foreign influence task force used a ...   \n",
       "26  more than 40 confidential sources were providi...   \n",
       "27  washington − president joe biden, weighing in ...   \n",
       "11  washington — los angeles us attorney martin es...   \n",
       "14  there are new questions about the role of the ...   \n",
       "2   hunter biden on tuesday filed a lawsuit agains...   \n",
       "5   washington - the white house assured saturday ...   \n",
       "6   hunter biden is the subject of multiple crimin...   \n",
       "0   exclusive: the $250,000 wire hunter biden rece...   \n",
       "10  washington (ap) — a second u.s. attorney has t...   \n",
       "21  cnn —\\na sudden new twist in the investigation...   \n",
       "1   the u.s. department of justice ordered fbi and...   \n",
       "9   house oversight committee chairman james comer...   \n",
       "7   washington cnn —\\ndocuments released wednesday...   \n",
       "44  iran's supreme leader ayatollah ali khamenei a...   \n",
       "36  u.s. president joe biden addresses a joint pre...   \n",
       "37  washington (ap) — president joe biden on wedne...   \n",
       "38  cnn —\\nthe liberal coalition that drove joe bi...   \n",
       "39  a u.s.-based pro-muslim group blasted presiden...   \n",
       "43  washington — president joe biden said he issue...   \n",
       "\n",
       "                                               Topics  Main Topic  \\\n",
       "23                                   [(0, 0.9987387)]           0   \n",
       "4                    [(0, 0.7291358), (4, 0.2668376)]           0   \n",
       "41                 [(1, 0.75924563), (5, 0.23979272)]           1   \n",
       "35                                   [(1, 0.9956811)]           1   \n",
       "34                                   [(1, 0.9966388)]           1   \n",
       "33                                  [(1, 0.99886423)]           1   \n",
       "32                                   [(1, 0.9975301)]           1   \n",
       "31                                  [(1, 0.99587446)]           1   \n",
       "30                                  [(1, 0.99817264)]           1   \n",
       "29                                  [(1, 0.98631257)]           1   \n",
       "28                                  [(1, 0.99836403)]           1   \n",
       "20                  [(1, 0.9621244), (4, 0.03628278)]           1   \n",
       "19                                   [(1, 0.9990738)]           1   \n",
       "15                 [(1, 0.8776475), (4, 0.120011084)]           1   \n",
       "46                                  [(1, 0.99742144)]           1   \n",
       "3   [(1, 0.48935947), (2, 0.022308988), (4, 0.4873...           1   \n",
       "18                                  [(2, 0.99795324)]           2   \n",
       "13                                   [(2, 0.9955516)]           2   \n",
       "12                                   [(2, 0.9989196)]           2   \n",
       "24                                  [(2, 0.99775535)]           2   \n",
       "25                  [(2, 0.7714716), (3, 0.22750416)]           2   \n",
       "26                                  [(2, 0.99558926)]           2   \n",
       "27  [(1, 0.34358972), (2, 0.46472532), (5, 0.18718...           2   \n",
       "11                 [(2, 0.88514656), (4, 0.11233685)]           2   \n",
       "14  [(1, 0.22470373), (2, 0.6221943), (3, 0.148112...           2   \n",
       "2                                   [(3, 0.99770886)]           3   \n",
       "5                                   [(3, 0.99440944)]           3   \n",
       "6                                     [(3, 0.993874)]           3   \n",
       "0                                    [(3, 0.9976179)]           3   \n",
       "10                                  [(3, 0.99468046)]           3   \n",
       "21                                   [(4, 0.9989114)]           4   \n",
       "1                                   [(4, 0.99813175)]           4   \n",
       "9                                    [(4, 0.9964899)]           4   \n",
       "7                                    [(4, 0.9983128)]           4   \n",
       "44                                   [(5, 0.9964443)]           5   \n",
       "36                                   [(5, 0.9942319)]           5   \n",
       "37                  [(0, 0.4311645), (5, 0.56620413)]           5   \n",
       "38                                  [(5, 0.99854076)]           5   \n",
       "39                                  [(5, 0.99754256)]           5   \n",
       "43                                   [(5, 0.9967705)]           5   \n",
       "\n",
       "    Main Topic Score                                   Associated Words  \\\n",
       "23          0.998739  [[hunter, hallie, gun, service, secret, tell, ...   \n",
       "4           0.729136  [[hunter, hallie, gun, service, secret, tell, ...   \n",
       "41          0.759246  [[biden, primary, phillip, state, democratic, ...   \n",
       "35          0.995681  [[biden, primary, phillip, state, democratic, ...   \n",
       "34          0.996639  [[biden, primary, phillip, state, democratic, ...   \n",
       "33          0.998864  [[biden, primary, phillip, state, democratic, ...   \n",
       "32          0.997530  [[biden, primary, phillip, state, democratic, ...   \n",
       "31          0.995874  [[biden, primary, phillip, state, democratic, ...   \n",
       "30          0.998173  [[biden, primary, phillip, state, democratic, ...   \n",
       "29          0.986313  [[biden, primary, phillip, state, democratic, ...   \n",
       "28          0.998364  [[biden, primary, phillip, state, democratic, ...   \n",
       "20          0.962124  [[biden, primary, phillip, state, democratic, ...   \n",
       "19          0.999074  [[biden, primary, phillip, state, democratic, ...   \n",
       "15          0.877648  [[biden, primary, phillip, state, democratic, ...   \n",
       "46          0.997421  [[biden, primary, phillip, state, democratic, ...   \n",
       "3           0.489359  [[biden, primary, phillip, state, democratic, ...   \n",
       "18          0.997953  [[office, biden, information, source, hunter, ...   \n",
       "13          0.995552  [[office, biden, information, source, hunter, ...   \n",
       "12          0.998920  [[office, biden, information, source, hunter, ...   \n",
       "24          0.997755  [[office, biden, information, source, hunter, ...   \n",
       "25          0.771472  [[office, biden, information, source, hunter, ...   \n",
       "26          0.995589  [[office, biden, information, source, hunter, ...   \n",
       "27          0.464725  [[office, biden, information, source, hunter, ...   \n",
       "11          0.885147  [[office, biden, information, source, hunter, ...   \n",
       "14          0.622194  [[office, biden, information, source, hunter, ...   \n",
       "2           0.997709  [[hunter, biden, wire, investigation, son, bus...   \n",
       "5           0.994409  [[hunter, biden, wire, investigation, son, bus...   \n",
       "6           0.993874  [[hunter, biden, wire, investigation, son, bus...   \n",
       "0           0.997618  [[hunter, biden, wire, investigation, son, bus...   \n",
       "10          0.994680  [[hunter, biden, wire, investigation, son, bus...   \n",
       "21          0.998911  [[hunter, biden, republican, document, family,...   \n",
       "1           0.998132  [[hunter, biden, republican, document, family,...   \n",
       "9           0.996490  [[hunter, biden, republican, document, family,...   \n",
       "7           0.998313  [[hunter, biden, republican, document, family,...   \n",
       "44          0.996444  [[attack, war, group, israeli, palestinian, ki...   \n",
       "36          0.994232  [[attack, war, group, israeli, palestinian, ki...   \n",
       "37          0.566204  [[attack, war, group, israeli, palestinian, ki...   \n",
       "38          0.998541  [[attack, war, group, israeli, palestinian, ki...   \n",
       "39          0.997543  [[attack, war, group, israeli, palestinian, ki...   \n",
       "43          0.996771  [[attack, war, group, israeli, palestinian, ki...   \n",
       "\n",
       "             Shortened Address  \n",
       "23  www.washingtonexaminer.com  \n",
       "4            www.nation.com.pk  \n",
       "41      www.washingtonpost.com  \n",
       "35         www.startribune.com  \n",
       "34                www.wmur.com  \n",
       "33      www.washingtonpost.com  \n",
       "32              abcnews.go.com  \n",
       "31             www.foxnews.com  \n",
       "30             www.nbcnews.com  \n",
       "29            www.politico.com  \n",
       "28                  apnews.com  \n",
       "20            www.politico.com  \n",
       "19           www.thenation.com  \n",
       "15       www.newsnationnow.com  \n",
       "46             www.foxnews.com  \n",
       "3                   apnews.com  \n",
       "18                  nypost.com  \n",
       "13     www.grassley.senate.gov  \n",
       "12             www.foxnews.com  \n",
       "24         www.dailymail.co.uk  \n",
       "25           thefederalist.com  \n",
       "26     www.washingtontimes.com  \n",
       "27            www.usatoday.com  \n",
       "11                  nypost.com  \n",
       "14                    wjla.com  \n",
       "2              www.foxnews.com  \n",
       "5            www.nation.com.pk  \n",
       "6            www.nation.com.pk  \n",
       "0              www.foxnews.com  \n",
       "10                  apnews.com  \n",
       "21                 www.cnn.com  \n",
       "1              www.foxnews.com  \n",
       "9               abcnews.go.com  \n",
       "7                  www.cnn.com  \n",
       "44             www.reuters.com  \n",
       "36             www.reuters.com  \n",
       "37                  apnews.com  \n",
       "38                 www.cnn.com  \n",
       "39             www.foxnews.com  \n",
       "43            www.usatoday.com  "
      ]
     },
     "execution_count": 31,
     "metadata": {},
     "output_type": "execute_result"
    }
   ],
   "source": [
    "# This generates our dataframe of per-topic sentiment and relevancy for all articles\n",
    "df_topics = generate_topic_relevancy_dataframe(lda_model)\n",
    "\n",
    "# Generate our per-topic dataframe\n",
    "# FORMAT IS (SENTIMENT, RELEVANCY)\n",
    "per_topic_df = create_per_topic_tuple_df(topic_level_sentiment, df_topics)\n",
    "\n",
    "# This generates a dataframe ready to use with our data visualizations\n",
    "# (includes some extra information)\n",
    "# This sorts our dataframe so must go last\n",
    "df = preprocess_dataframe_for_datavis(df, lda_model, corpus)\n",
    "df\n"
   ]
  },
  {
   "cell_type": "markdown",
   "id": "1a7d0141",
   "metadata": {},
   "source": [
    "## Data Visualization Settings"
   ]
  },
  {
   "cell_type": "markdown",
   "id": "1a648113",
   "metadata": {},
   "source": [
    "Here are the customizable settings for our data visualization section. Since these settings only affect how the data will be visualized, you can rerun the pipeline from this point down without rerunning any of the previous steps. This is recommended if you want to see different parameters for the settings visualized on the same data and LDA model."
   ]
  },
  {
   "cell_type": "code",
   "execution_count": 32,
   "id": "fffb7bbc",
   "metadata": {},
   "outputs": [],
   "source": [
    "# DATA VISUALIZATION SETTINGS\n",
    "# (starts at topic 0) set this list to every topic number you want\n",
    "# displayed individually\n",
    "list_of_topics_to_visualize = [0,1,2]\n",
    "\n",
    "# this is the settings dictionary for our k-means cluster generation.\n",
    "# max_clusters is used in our inertia visualization,\n",
    "# while num_clusters is our actual cluster count to use and pca_components\n",
    "# is the PCA component count that we use in both\n",
    "# the visualization of inertia as well as our actual clustering model.\n",
    "kmeans_settings = {\"max_clusters\": 10, \"num_clusters\": 4, \"pca_components\": 5}\n",
    "\n"
   ]
  },
  {
   "cell_type": "markdown",
   "id": "9587fb26",
   "metadata": {},
   "source": [
    "## Visualize all articles on their main topic"
   ]
  },
  {
   "cell_type": "code",
   "execution_count": 33,
   "id": "f85d1cda",
   "metadata": {
    "scrolled": false
   },
   "outputs": [
    {
     "data": {
      "application/vnd.plotly.v1+json": {
       "config": {
        "plotlyServerURL": "https://plot.ly"
       },
       "data": [
        {
         "customdata": [
          [
           [
            [
             "hunter",
             "hallie",
             "gun",
             "service",
             "secret",
             "tell",
             "text",
             "report",
             "police",
             "biden"
            ]
           ],
           "www.washingtonexaminer.com",
           "Neutral",
           0.998738706111908
          ],
          [
           [
            [
             "hunter",
             "hallie",
             "gun",
             "service",
             "secret",
             "tell",
             "text",
             "report",
             "police",
             "biden"
            ]
           ],
           "www.nation.com.pk",
           "Neutral",
           0.7291358113288879
          ],
          [
           [
            [
             "biden",
             "primary",
             "phillip",
             "state",
             "democratic",
             "party",
             "president",
             "campaign",
             "new",
             "run"
            ]
           ],
           "www.washingtonpost.com",
           "Neutral",
           0.7592456340789795
          ],
          [
           [
            [
             "biden",
             "primary",
             "phillip",
             "state",
             "democratic",
             "party",
             "president",
             "campaign",
             "new",
             "run"
            ]
           ],
           "www.startribune.com",
           "Neutral",
           0.99568110704422
          ],
          [
           [
            [
             "biden",
             "primary",
             "phillip",
             "state",
             "democratic",
             "party",
             "president",
             "campaign",
             "new",
             "run"
            ]
           ],
           "www.wmur.com",
           "Neutral",
           0.9966387748718262
          ],
          [
           [
            [
             "biden",
             "primary",
             "phillip",
             "state",
             "democratic",
             "party",
             "president",
             "campaign",
             "new",
             "run"
            ]
           ],
           "www.washingtonpost.com",
           "Neutral",
           0.9988642334938049
          ],
          [
           [
            [
             "biden",
             "primary",
             "phillip",
             "state",
             "democratic",
             "party",
             "president",
             "campaign",
             "new",
             "run"
            ]
           ],
           "abcnews.go.com",
           "Neutral",
           0.9975301027297974
          ],
          [
           [
            [
             "biden",
             "primary",
             "phillip",
             "state",
             "democratic",
             "party",
             "president",
             "campaign",
             "new",
             "run"
            ]
           ],
           "www.foxnews.com",
           "Neutral",
           0.9958744645118713
          ],
          [
           [
            [
             "biden",
             "primary",
             "phillip",
             "state",
             "democratic",
             "party",
             "president",
             "campaign",
             "new",
             "run"
            ]
           ],
           "www.nbcnews.com",
           "Neutral",
           0.9981726408004761
          ],
          [
           [
            [
             "biden",
             "primary",
             "phillip",
             "state",
             "democratic",
             "party",
             "president",
             "campaign",
             "new",
             "run"
            ]
           ],
           "www.politico.com",
           "Neutral",
           0.9863125681877136
          ],
          [
           [
            [
             "biden",
             "primary",
             "phillip",
             "state",
             "democratic",
             "party",
             "president",
             "campaign",
             "new",
             "run"
            ]
           ],
           "apnews.com",
           "Neutral",
           0.9983640313148499
          ],
          [
           [
            [
             "biden",
             "primary",
             "phillip",
             "state",
             "democratic",
             "party",
             "president",
             "campaign",
             "new",
             "run"
            ]
           ],
           "www.politico.com",
           "Neutral",
           0.9621244072914124
          ],
          [
           [
            [
             "biden",
             "primary",
             "phillip",
             "state",
             "democratic",
             "party",
             "president",
             "campaign",
             "new",
             "run"
            ]
           ],
           "www.thenation.com",
           "Neutral",
           0.9990738034248352
          ],
          [
           [
            [
             "biden",
             "primary",
             "phillip",
             "state",
             "democratic",
             "party",
             "president",
             "campaign",
             "new",
             "run"
            ]
           ],
           "www.newsnationnow.com",
           "Neutral",
           0.8776475191116333
          ],
          [
           [
            [
             "biden",
             "primary",
             "phillip",
             "state",
             "democratic",
             "party",
             "president",
             "campaign",
             "new",
             "run"
            ]
           ],
           "www.foxnews.com",
           "Neutral",
           0.9974214434623718
          ],
          [
           [
            [
             "biden",
             "primary",
             "phillip",
             "state",
             "democratic",
             "party",
             "president",
             "campaign",
             "new",
             "run"
            ]
           ],
           "apnews.com",
           "Neutral",
           0.48935946822166443
          ],
          [
           [
            [
             "office",
             "biden",
             "information",
             "source",
             "hunter",
             "foreign",
             "family",
             "attorney",
             "relate",
             "investigation"
            ]
           ],
           "nypost.com",
           "Neutral",
           0.9979532361030579
          ],
          [
           [
            [
             "office",
             "biden",
             "information",
             "source",
             "hunter",
             "foreign",
             "family",
             "attorney",
             "relate",
             "investigation"
            ]
           ],
           "www.grassley.senate.gov",
           "Neutral",
           0.995551586151123
          ],
          [
           [
            [
             "office",
             "biden",
             "information",
             "source",
             "hunter",
             "foreign",
             "family",
             "attorney",
             "relate",
             "investigation"
            ]
           ],
           "www.foxnews.com",
           "Neutral",
           0.9989196062088013
          ],
          [
           [
            [
             "office",
             "biden",
             "information",
             "source",
             "hunter",
             "foreign",
             "family",
             "attorney",
             "relate",
             "investigation"
            ]
           ],
           "www.dailymail.co.uk",
           "Neutral",
           0.9977553486824036
          ],
          [
           [
            [
             "office",
             "biden",
             "information",
             "source",
             "hunter",
             "foreign",
             "family",
             "attorney",
             "relate",
             "investigation"
            ]
           ],
           "thefederalist.com",
           "Neutral",
           0.7714716196060181
          ],
          [
           [
            [
             "office",
             "biden",
             "information",
             "source",
             "hunter",
             "foreign",
             "family",
             "attorney",
             "relate",
             "investigation"
            ]
           ],
           "www.washingtontimes.com",
           "Neutral",
           0.9955892562866211
          ],
          [
           [
            [
             "office",
             "biden",
             "information",
             "source",
             "hunter",
             "foreign",
             "family",
             "attorney",
             "relate",
             "investigation"
            ]
           ],
           "www.usatoday.com",
           "Neutral",
           0.4647253155708313
          ],
          [
           [
            [
             "office",
             "biden",
             "information",
             "source",
             "hunter",
             "foreign",
             "family",
             "attorney",
             "relate",
             "investigation"
            ]
           ],
           "nypost.com",
           "Neutral",
           0.8851465582847595
          ],
          [
           [
            [
             "office",
             "biden",
             "information",
             "source",
             "hunter",
             "foreign",
             "family",
             "attorney",
             "relate",
             "investigation"
            ]
           ],
           "wjla.com",
           "Neutral",
           0.6221942901611328
          ],
          [
           [
            [
             "hunter",
             "biden",
             "wire",
             "investigation",
             "son",
             "business",
             "partner",
             "attorney",
             "file",
             "claim"
            ]
           ],
           "www.foxnews.com",
           "Neutral",
           0.9977088570594788
          ],
          [
           [
            [
             "hunter",
             "biden",
             "wire",
             "investigation",
             "son",
             "business",
             "partner",
             "attorney",
             "file",
             "claim"
            ]
           ],
           "www.nation.com.pk",
           "Neutral",
           0.994409441947937
          ],
          [
           [
            [
             "hunter",
             "biden",
             "wire",
             "investigation",
             "son",
             "business",
             "partner",
             "attorney",
             "file",
             "claim"
            ]
           ],
           "www.nation.com.pk",
           "Neutral",
           0.9938740134239197
          ],
          [
           [
            [
             "hunter",
             "biden",
             "wire",
             "investigation",
             "son",
             "business",
             "partner",
             "attorney",
             "file",
             "claim"
            ]
           ],
           "www.foxnews.com",
           "Neutral",
           0.9976179003715515
          ],
          [
           [
            [
             "hunter",
             "biden",
             "wire",
             "investigation",
             "son",
             "business",
             "partner",
             "attorney",
             "file",
             "claim"
            ]
           ],
           "apnews.com",
           "Neutral",
           0.9946804642677307
          ],
          [
           [
            [
             "hunter",
             "biden",
             "republican",
             "document",
             "family",
             "president",
             "investigation",
             "political",
             "evidence",
             "new"
            ]
           ],
           "www.cnn.com",
           "Neutral",
           0.9989113807678223
          ],
          [
           [
            [
             "hunter",
             "biden",
             "republican",
             "document",
             "family",
             "president",
             "investigation",
             "political",
             "evidence",
             "new"
            ]
           ],
           "www.foxnews.com",
           "Neutral",
           0.9981317520141602
          ],
          [
           [
            [
             "hunter",
             "biden",
             "republican",
             "document",
             "family",
             "president",
             "investigation",
             "political",
             "evidence",
             "new"
            ]
           ],
           "abcnews.go.com",
           "Neutral",
           0.9964898824691772
          ],
          [
           [
            [
             "hunter",
             "biden",
             "republican",
             "document",
             "family",
             "president",
             "investigation",
             "political",
             "evidence",
             "new"
            ]
           ],
           "www.cnn.com",
           "Neutral",
           0.998312771320343
          ],
          [
           [
            [
             "attack",
             "war",
             "group",
             "israeli",
             "palestinian",
             "kill",
             "civilian",
             "people",
             "death",
             "american"
            ]
           ],
           "www.reuters.com",
           "Neutral",
           0.9964442849159241
          ],
          [
           [
            [
             "attack",
             "war",
             "group",
             "israeli",
             "palestinian",
             "kill",
             "civilian",
             "people",
             "death",
             "american"
            ]
           ],
           "www.reuters.com",
           "Neutral",
           0.9942318797111511
          ],
          [
           [
            [
             "attack",
             "war",
             "group",
             "israeli",
             "palestinian",
             "kill",
             "civilian",
             "people",
             "death",
             "american"
            ]
           ],
           "apnews.com",
           "Neutral",
           0.5662041306495667
          ],
          [
           [
            [
             "attack",
             "war",
             "group",
             "israeli",
             "palestinian",
             "kill",
             "civilian",
             "people",
             "death",
             "american"
            ]
           ],
           "www.cnn.com",
           "Neutral",
           0.9985407590866089
          ],
          [
           [
            [
             "attack",
             "war",
             "group",
             "israeli",
             "palestinian",
             "kill",
             "civilian",
             "people",
             "death",
             "american"
            ]
           ],
           "www.foxnews.com",
           "Neutral",
           0.9975425601005554
          ],
          [
           [
            [
             "attack",
             "war",
             "group",
             "israeli",
             "palestinian",
             "kill",
             "civilian",
             "people",
             "death",
             "american"
            ]
           ],
           "www.usatoday.com",
           "Neutral",
           0.9967705011367798
          ]
         ],
         "hovertemplate": "Associated Words: %{customdata[0]}<br>Address: %{customdata[1]}<br>Sentiment Label: %{customdata[2]}<br>Main Topic Score : %{customdata[3]}",
         "legendgroup": "",
         "marker": {
          "color": "#636efa",
          "size": [
           0.998738706111908,
           0.7291358113288879,
           0.7592456340789795,
           0.99568110704422,
           0.9966387748718262,
           0.9988642334938049,
           0.9975301027297974,
           0.9958744645118713,
           0.9981726408004761,
           0.9863125681877136,
           0.9983640313148499,
           0.9621244072914124,
           0.9990738034248352,
           0.8776475191116333,
           0.9974214434623718,
           0.48935946822166443,
           0.9979532361030579,
           0.995551586151123,
           0.9989196062088013,
           0.9977553486824036,
           0.7714716196060181,
           0.9955892562866211,
           0.4647253155708313,
           0.8851465582847595,
           0.6221942901611328,
           0.9977088570594788,
           0.994409441947937,
           0.9938740134239197,
           0.9976179003715515,
           0.9946804642677307,
           0.9989113807678223,
           0.9981317520141602,
           0.9964898824691772,
           0.998312771320343,
           0.9964442849159241,
           0.9942318797111511,
           0.5662041306495667,
           0.9985407590866089,
           0.9975425601005554,
           0.9967705011367798
          ],
          "sizemode": "area",
          "sizeref": 0.002497684508562088,
          "symbol": "circle"
         },
         "mode": "markers",
         "name": "",
         "orientation": "v",
         "showlegend": false,
         "type": "scatter",
         "x": [
          0,
          0,
          1,
          1,
          1,
          1,
          1,
          1,
          1,
          1,
          1,
          1,
          1,
          1,
          1,
          1,
          2,
          2,
          2,
          2,
          2,
          2,
          2,
          2,
          2,
          3,
          3,
          3,
          3,
          3,
          4,
          4,
          4,
          4,
          5,
          5,
          5,
          5,
          5,
          5
         ],
         "xaxis": "x",
         "y": [
          -0.06,
          -0.04,
          0.05,
          0.14,
          0.22,
          0.13,
          0.09,
          0,
          0.04,
          0.21,
          0.17,
          0.12,
          0.09,
          0.14,
          0.08,
          0.02,
          0.07,
          0,
          -0.03,
          -0.03,
          0.01,
          0.09,
          0.2,
          0.03,
          -0.02,
          -0.04,
          0.1,
          -0.11,
          0.04,
          0.04,
          0.06,
          0.06,
          0.01,
          -0.01,
          -0.01,
          0.02,
          0.06,
          0.08,
          0.01,
          0.08
         ],
         "yaxis": "y"
        }
       ],
       "layout": {
        "legend": {
         "itemsizing": "constant",
         "tracegroupgap": 0
        },
        "template": {
         "data": {
          "bar": [
           {
            "error_x": {
             "color": "#2a3f5f"
            },
            "error_y": {
             "color": "#2a3f5f"
            },
            "marker": {
             "line": {
              "color": "#E5ECF6",
              "width": 0.5
             },
             "pattern": {
              "fillmode": "overlay",
              "size": 10,
              "solidity": 0.2
             }
            },
            "type": "bar"
           }
          ],
          "barpolar": [
           {
            "marker": {
             "line": {
              "color": "#E5ECF6",
              "width": 0.5
             },
             "pattern": {
              "fillmode": "overlay",
              "size": 10,
              "solidity": 0.2
             }
            },
            "type": "barpolar"
           }
          ],
          "carpet": [
           {
            "aaxis": {
             "endlinecolor": "#2a3f5f",
             "gridcolor": "white",
             "linecolor": "white",
             "minorgridcolor": "white",
             "startlinecolor": "#2a3f5f"
            },
            "baxis": {
             "endlinecolor": "#2a3f5f",
             "gridcolor": "white",
             "linecolor": "white",
             "minorgridcolor": "white",
             "startlinecolor": "#2a3f5f"
            },
            "type": "carpet"
           }
          ],
          "choropleth": [
           {
            "colorbar": {
             "outlinewidth": 0,
             "ticks": ""
            },
            "type": "choropleth"
           }
          ],
          "contour": [
           {
            "colorbar": {
             "outlinewidth": 0,
             "ticks": ""
            },
            "colorscale": [
             [
              0,
              "#0d0887"
             ],
             [
              0.1111111111111111,
              "#46039f"
             ],
             [
              0.2222222222222222,
              "#7201a8"
             ],
             [
              0.3333333333333333,
              "#9c179e"
             ],
             [
              0.4444444444444444,
              "#bd3786"
             ],
             [
              0.5555555555555556,
              "#d8576b"
             ],
             [
              0.6666666666666666,
              "#ed7953"
             ],
             [
              0.7777777777777778,
              "#fb9f3a"
             ],
             [
              0.8888888888888888,
              "#fdca26"
             ],
             [
              1,
              "#f0f921"
             ]
            ],
            "type": "contour"
           }
          ],
          "contourcarpet": [
           {
            "colorbar": {
             "outlinewidth": 0,
             "ticks": ""
            },
            "type": "contourcarpet"
           }
          ],
          "heatmap": [
           {
            "colorbar": {
             "outlinewidth": 0,
             "ticks": ""
            },
            "colorscale": [
             [
              0,
              "#0d0887"
             ],
             [
              0.1111111111111111,
              "#46039f"
             ],
             [
              0.2222222222222222,
              "#7201a8"
             ],
             [
              0.3333333333333333,
              "#9c179e"
             ],
             [
              0.4444444444444444,
              "#bd3786"
             ],
             [
              0.5555555555555556,
              "#d8576b"
             ],
             [
              0.6666666666666666,
              "#ed7953"
             ],
             [
              0.7777777777777778,
              "#fb9f3a"
             ],
             [
              0.8888888888888888,
              "#fdca26"
             ],
             [
              1,
              "#f0f921"
             ]
            ],
            "type": "heatmap"
           }
          ],
          "heatmapgl": [
           {
            "colorbar": {
             "outlinewidth": 0,
             "ticks": ""
            },
            "colorscale": [
             [
              0,
              "#0d0887"
             ],
             [
              0.1111111111111111,
              "#46039f"
             ],
             [
              0.2222222222222222,
              "#7201a8"
             ],
             [
              0.3333333333333333,
              "#9c179e"
             ],
             [
              0.4444444444444444,
              "#bd3786"
             ],
             [
              0.5555555555555556,
              "#d8576b"
             ],
             [
              0.6666666666666666,
              "#ed7953"
             ],
             [
              0.7777777777777778,
              "#fb9f3a"
             ],
             [
              0.8888888888888888,
              "#fdca26"
             ],
             [
              1,
              "#f0f921"
             ]
            ],
            "type": "heatmapgl"
           }
          ],
          "histogram": [
           {
            "marker": {
             "pattern": {
              "fillmode": "overlay",
              "size": 10,
              "solidity": 0.2
             }
            },
            "type": "histogram"
           }
          ],
          "histogram2d": [
           {
            "colorbar": {
             "outlinewidth": 0,
             "ticks": ""
            },
            "colorscale": [
             [
              0,
              "#0d0887"
             ],
             [
              0.1111111111111111,
              "#46039f"
             ],
             [
              0.2222222222222222,
              "#7201a8"
             ],
             [
              0.3333333333333333,
              "#9c179e"
             ],
             [
              0.4444444444444444,
              "#bd3786"
             ],
             [
              0.5555555555555556,
              "#d8576b"
             ],
             [
              0.6666666666666666,
              "#ed7953"
             ],
             [
              0.7777777777777778,
              "#fb9f3a"
             ],
             [
              0.8888888888888888,
              "#fdca26"
             ],
             [
              1,
              "#f0f921"
             ]
            ],
            "type": "histogram2d"
           }
          ],
          "histogram2dcontour": [
           {
            "colorbar": {
             "outlinewidth": 0,
             "ticks": ""
            },
            "colorscale": [
             [
              0,
              "#0d0887"
             ],
             [
              0.1111111111111111,
              "#46039f"
             ],
             [
              0.2222222222222222,
              "#7201a8"
             ],
             [
              0.3333333333333333,
              "#9c179e"
             ],
             [
              0.4444444444444444,
              "#bd3786"
             ],
             [
              0.5555555555555556,
              "#d8576b"
             ],
             [
              0.6666666666666666,
              "#ed7953"
             ],
             [
              0.7777777777777778,
              "#fb9f3a"
             ],
             [
              0.8888888888888888,
              "#fdca26"
             ],
             [
              1,
              "#f0f921"
             ]
            ],
            "type": "histogram2dcontour"
           }
          ],
          "mesh3d": [
           {
            "colorbar": {
             "outlinewidth": 0,
             "ticks": ""
            },
            "type": "mesh3d"
           }
          ],
          "parcoords": [
           {
            "line": {
             "colorbar": {
              "outlinewidth": 0,
              "ticks": ""
             }
            },
            "type": "parcoords"
           }
          ],
          "pie": [
           {
            "automargin": true,
            "type": "pie"
           }
          ],
          "scatter": [
           {
            "fillpattern": {
             "fillmode": "overlay",
             "size": 10,
             "solidity": 0.2
            },
            "type": "scatter"
           }
          ],
          "scatter3d": [
           {
            "line": {
             "colorbar": {
              "outlinewidth": 0,
              "ticks": ""
             }
            },
            "marker": {
             "colorbar": {
              "outlinewidth": 0,
              "ticks": ""
             }
            },
            "type": "scatter3d"
           }
          ],
          "scattercarpet": [
           {
            "marker": {
             "colorbar": {
              "outlinewidth": 0,
              "ticks": ""
             }
            },
            "type": "scattercarpet"
           }
          ],
          "scattergeo": [
           {
            "marker": {
             "colorbar": {
              "outlinewidth": 0,
              "ticks": ""
             }
            },
            "type": "scattergeo"
           }
          ],
          "scattergl": [
           {
            "marker": {
             "colorbar": {
              "outlinewidth": 0,
              "ticks": ""
             }
            },
            "type": "scattergl"
           }
          ],
          "scattermapbox": [
           {
            "marker": {
             "colorbar": {
              "outlinewidth": 0,
              "ticks": ""
             }
            },
            "type": "scattermapbox"
           }
          ],
          "scatterpolar": [
           {
            "marker": {
             "colorbar": {
              "outlinewidth": 0,
              "ticks": ""
             }
            },
            "type": "scatterpolar"
           }
          ],
          "scatterpolargl": [
           {
            "marker": {
             "colorbar": {
              "outlinewidth": 0,
              "ticks": ""
             }
            },
            "type": "scatterpolargl"
           }
          ],
          "scatterternary": [
           {
            "marker": {
             "colorbar": {
              "outlinewidth": 0,
              "ticks": ""
             }
            },
            "type": "scatterternary"
           }
          ],
          "surface": [
           {
            "colorbar": {
             "outlinewidth": 0,
             "ticks": ""
            },
            "colorscale": [
             [
              0,
              "#0d0887"
             ],
             [
              0.1111111111111111,
              "#46039f"
             ],
             [
              0.2222222222222222,
              "#7201a8"
             ],
             [
              0.3333333333333333,
              "#9c179e"
             ],
             [
              0.4444444444444444,
              "#bd3786"
             ],
             [
              0.5555555555555556,
              "#d8576b"
             ],
             [
              0.6666666666666666,
              "#ed7953"
             ],
             [
              0.7777777777777778,
              "#fb9f3a"
             ],
             [
              0.8888888888888888,
              "#fdca26"
             ],
             [
              1,
              "#f0f921"
             ]
            ],
            "type": "surface"
           }
          ],
          "table": [
           {
            "cells": {
             "fill": {
              "color": "#EBF0F8"
             },
             "line": {
              "color": "white"
             }
            },
            "header": {
             "fill": {
              "color": "#C8D4E3"
             },
             "line": {
              "color": "white"
             }
            },
            "type": "table"
           }
          ]
         },
         "layout": {
          "annotationdefaults": {
           "arrowcolor": "#2a3f5f",
           "arrowhead": 0,
           "arrowwidth": 1
          },
          "autotypenumbers": "strict",
          "coloraxis": {
           "colorbar": {
            "outlinewidth": 0,
            "ticks": ""
           }
          },
          "colorscale": {
           "diverging": [
            [
             0,
             "#8e0152"
            ],
            [
             0.1,
             "#c51b7d"
            ],
            [
             0.2,
             "#de77ae"
            ],
            [
             0.3,
             "#f1b6da"
            ],
            [
             0.4,
             "#fde0ef"
            ],
            [
             0.5,
             "#f7f7f7"
            ],
            [
             0.6,
             "#e6f5d0"
            ],
            [
             0.7,
             "#b8e186"
            ],
            [
             0.8,
             "#7fbc41"
            ],
            [
             0.9,
             "#4d9221"
            ],
            [
             1,
             "#276419"
            ]
           ],
           "sequential": [
            [
             0,
             "#0d0887"
            ],
            [
             0.1111111111111111,
             "#46039f"
            ],
            [
             0.2222222222222222,
             "#7201a8"
            ],
            [
             0.3333333333333333,
             "#9c179e"
            ],
            [
             0.4444444444444444,
             "#bd3786"
            ],
            [
             0.5555555555555556,
             "#d8576b"
            ],
            [
             0.6666666666666666,
             "#ed7953"
            ],
            [
             0.7777777777777778,
             "#fb9f3a"
            ],
            [
             0.8888888888888888,
             "#fdca26"
            ],
            [
             1,
             "#f0f921"
            ]
           ],
           "sequentialminus": [
            [
             0,
             "#0d0887"
            ],
            [
             0.1111111111111111,
             "#46039f"
            ],
            [
             0.2222222222222222,
             "#7201a8"
            ],
            [
             0.3333333333333333,
             "#9c179e"
            ],
            [
             0.4444444444444444,
             "#bd3786"
            ],
            [
             0.5555555555555556,
             "#d8576b"
            ],
            [
             0.6666666666666666,
             "#ed7953"
            ],
            [
             0.7777777777777778,
             "#fb9f3a"
            ],
            [
             0.8888888888888888,
             "#fdca26"
            ],
            [
             1,
             "#f0f921"
            ]
           ]
          },
          "colorway": [
           "#636efa",
           "#EF553B",
           "#00cc96",
           "#ab63fa",
           "#FFA15A",
           "#19d3f3",
           "#FF6692",
           "#B6E880",
           "#FF97FF",
           "#FECB52"
          ],
          "font": {
           "color": "#2a3f5f"
          },
          "geo": {
           "bgcolor": "white",
           "lakecolor": "white",
           "landcolor": "#E5ECF6",
           "showlakes": true,
           "showland": true,
           "subunitcolor": "white"
          },
          "hoverlabel": {
           "align": "left"
          },
          "hovermode": "closest",
          "mapbox": {
           "style": "light"
          },
          "paper_bgcolor": "white",
          "plot_bgcolor": "#E5ECF6",
          "polar": {
           "angularaxis": {
            "gridcolor": "white",
            "linecolor": "white",
            "ticks": ""
           },
           "bgcolor": "#E5ECF6",
           "radialaxis": {
            "gridcolor": "white",
            "linecolor": "white",
            "ticks": ""
           }
          },
          "scene": {
           "xaxis": {
            "backgroundcolor": "#E5ECF6",
            "gridcolor": "white",
            "gridwidth": 2,
            "linecolor": "white",
            "showbackground": true,
            "ticks": "",
            "zerolinecolor": "white"
           },
           "yaxis": {
            "backgroundcolor": "#E5ECF6",
            "gridcolor": "white",
            "gridwidth": 2,
            "linecolor": "white",
            "showbackground": true,
            "ticks": "",
            "zerolinecolor": "white"
           },
           "zaxis": {
            "backgroundcolor": "#E5ECF6",
            "gridcolor": "white",
            "gridwidth": 2,
            "linecolor": "white",
            "showbackground": true,
            "ticks": "",
            "zerolinecolor": "white"
           }
          },
          "shapedefaults": {
           "line": {
            "color": "#2a3f5f"
           }
          },
          "ternary": {
           "aaxis": {
            "gridcolor": "white",
            "linecolor": "white",
            "ticks": ""
           },
           "baxis": {
            "gridcolor": "white",
            "linecolor": "white",
            "ticks": ""
           },
           "bgcolor": "#E5ECF6",
           "caxis": {
            "gridcolor": "white",
            "linecolor": "white",
            "ticks": ""
           }
          },
          "title": {
           "x": 0.05
          },
          "xaxis": {
           "automargin": true,
           "gridcolor": "white",
           "linecolor": "white",
           "ticks": "",
           "title": {
            "standoff": 15
           },
           "zerolinecolor": "white",
           "zerolinewidth": 2
          },
          "yaxis": {
           "automargin": true,
           "gridcolor": "white",
           "linecolor": "white",
           "ticks": "",
           "title": {
            "standoff": 15
           },
           "zerolinecolor": "white",
           "zerolinewidth": 2
          }
         }
        },
        "title": {
         "text": "Articles Sorted By Main Topic"
        },
        "xaxis": {
         "anchor": "y",
         "domain": [
          0,
          1
         ],
         "title": {
          "text": "Main Topic"
         }
        },
        "yaxis": {
         "anchor": "x",
         "domain": [
          0,
          1
         ],
         "range": [
          -0.22,
          0.22
         ],
         "title": {
          "text": "Sentiment Score"
         }
        }
       }
      }
     },
     "metadata": {},
     "output_type": "display_data"
    },
    {
     "data": {
      "application/vnd.plotly.v1+json": {
       "config": {
        "plotlyServerURL": "https://plot.ly"
       },
       "data": [
        {
         "alignmentgroup": "True",
         "customdata": [
          [
           [
            [
             "hunter",
             "hallie",
             "gun",
             "service",
             "secret",
             "tell",
             "text",
             "report",
             "police",
             "biden"
            ]
           ],
           "www.washingtonexaminer.com",
           "Neutral",
           0.998738706111908
          ],
          [
           [
            [
             "hunter",
             "hallie",
             "gun",
             "service",
             "secret",
             "tell",
             "text",
             "report",
             "police",
             "biden"
            ]
           ],
           "www.nation.com.pk",
           "Neutral",
           0.7291358113288879
          ],
          [
           [
            [
             "biden",
             "primary",
             "phillip",
             "state",
             "democratic",
             "party",
             "president",
             "campaign",
             "new",
             "run"
            ]
           ],
           "www.washingtonpost.com",
           "Neutral",
           0.7592456340789795
          ],
          [
           [
            [
             "biden",
             "primary",
             "phillip",
             "state",
             "democratic",
             "party",
             "president",
             "campaign",
             "new",
             "run"
            ]
           ],
           "www.startribune.com",
           "Neutral",
           0.99568110704422
          ],
          [
           [
            [
             "biden",
             "primary",
             "phillip",
             "state",
             "democratic",
             "party",
             "president",
             "campaign",
             "new",
             "run"
            ]
           ],
           "www.wmur.com",
           "Neutral",
           0.9966387748718262
          ],
          [
           [
            [
             "biden",
             "primary",
             "phillip",
             "state",
             "democratic",
             "party",
             "president",
             "campaign",
             "new",
             "run"
            ]
           ],
           "www.washingtonpost.com",
           "Neutral",
           0.9988642334938049
          ],
          [
           [
            [
             "biden",
             "primary",
             "phillip",
             "state",
             "democratic",
             "party",
             "president",
             "campaign",
             "new",
             "run"
            ]
           ],
           "abcnews.go.com",
           "Neutral",
           0.9975301027297974
          ],
          [
           [
            [
             "biden",
             "primary",
             "phillip",
             "state",
             "democratic",
             "party",
             "president",
             "campaign",
             "new",
             "run"
            ]
           ],
           "www.foxnews.com",
           "Neutral",
           0.9958744645118713
          ],
          [
           [
            [
             "biden",
             "primary",
             "phillip",
             "state",
             "democratic",
             "party",
             "president",
             "campaign",
             "new",
             "run"
            ]
           ],
           "www.nbcnews.com",
           "Neutral",
           0.9981726408004761
          ],
          [
           [
            [
             "biden",
             "primary",
             "phillip",
             "state",
             "democratic",
             "party",
             "president",
             "campaign",
             "new",
             "run"
            ]
           ],
           "www.politico.com",
           "Neutral",
           0.9863125681877136
          ],
          [
           [
            [
             "biden",
             "primary",
             "phillip",
             "state",
             "democratic",
             "party",
             "president",
             "campaign",
             "new",
             "run"
            ]
           ],
           "apnews.com",
           "Neutral",
           0.9983640313148499
          ],
          [
           [
            [
             "biden",
             "primary",
             "phillip",
             "state",
             "democratic",
             "party",
             "president",
             "campaign",
             "new",
             "run"
            ]
           ],
           "www.politico.com",
           "Neutral",
           0.9621244072914124
          ],
          [
           [
            [
             "biden",
             "primary",
             "phillip",
             "state",
             "democratic",
             "party",
             "president",
             "campaign",
             "new",
             "run"
            ]
           ],
           "www.thenation.com",
           "Neutral",
           0.9990738034248352
          ],
          [
           [
            [
             "biden",
             "primary",
             "phillip",
             "state",
             "democratic",
             "party",
             "president",
             "campaign",
             "new",
             "run"
            ]
           ],
           "www.newsnationnow.com",
           "Neutral",
           0.8776475191116333
          ],
          [
           [
            [
             "biden",
             "primary",
             "phillip",
             "state",
             "democratic",
             "party",
             "president",
             "campaign",
             "new",
             "run"
            ]
           ],
           "www.foxnews.com",
           "Neutral",
           0.9974214434623718
          ],
          [
           [
            [
             "biden",
             "primary",
             "phillip",
             "state",
             "democratic",
             "party",
             "president",
             "campaign",
             "new",
             "run"
            ]
           ],
           "apnews.com",
           "Neutral",
           0.48935946822166443
          ],
          [
           [
            [
             "office",
             "biden",
             "information",
             "source",
             "hunter",
             "foreign",
             "family",
             "attorney",
             "relate",
             "investigation"
            ]
           ],
           "nypost.com",
           "Neutral",
           0.9979532361030579
          ],
          [
           [
            [
             "office",
             "biden",
             "information",
             "source",
             "hunter",
             "foreign",
             "family",
             "attorney",
             "relate",
             "investigation"
            ]
           ],
           "www.grassley.senate.gov",
           "Neutral",
           0.995551586151123
          ],
          [
           [
            [
             "office",
             "biden",
             "information",
             "source",
             "hunter",
             "foreign",
             "family",
             "attorney",
             "relate",
             "investigation"
            ]
           ],
           "www.foxnews.com",
           "Neutral",
           0.9989196062088013
          ],
          [
           [
            [
             "office",
             "biden",
             "information",
             "source",
             "hunter",
             "foreign",
             "family",
             "attorney",
             "relate",
             "investigation"
            ]
           ],
           "www.dailymail.co.uk",
           "Neutral",
           0.9977553486824036
          ],
          [
           [
            [
             "office",
             "biden",
             "information",
             "source",
             "hunter",
             "foreign",
             "family",
             "attorney",
             "relate",
             "investigation"
            ]
           ],
           "thefederalist.com",
           "Neutral",
           0.7714716196060181
          ],
          [
           [
            [
             "office",
             "biden",
             "information",
             "source",
             "hunter",
             "foreign",
             "family",
             "attorney",
             "relate",
             "investigation"
            ]
           ],
           "www.washingtontimes.com",
           "Neutral",
           0.9955892562866211
          ],
          [
           [
            [
             "office",
             "biden",
             "information",
             "source",
             "hunter",
             "foreign",
             "family",
             "attorney",
             "relate",
             "investigation"
            ]
           ],
           "www.usatoday.com",
           "Neutral",
           0.4647253155708313
          ],
          [
           [
            [
             "office",
             "biden",
             "information",
             "source",
             "hunter",
             "foreign",
             "family",
             "attorney",
             "relate",
             "investigation"
            ]
           ],
           "nypost.com",
           "Neutral",
           0.8851465582847595
          ],
          [
           [
            [
             "office",
             "biden",
             "information",
             "source",
             "hunter",
             "foreign",
             "family",
             "attorney",
             "relate",
             "investigation"
            ]
           ],
           "wjla.com",
           "Neutral",
           0.6221942901611328
          ],
          [
           [
            [
             "hunter",
             "biden",
             "wire",
             "investigation",
             "son",
             "business",
             "partner",
             "attorney",
             "file",
             "claim"
            ]
           ],
           "www.foxnews.com",
           "Neutral",
           0.9977088570594788
          ],
          [
           [
            [
             "hunter",
             "biden",
             "wire",
             "investigation",
             "son",
             "business",
             "partner",
             "attorney",
             "file",
             "claim"
            ]
           ],
           "www.nation.com.pk",
           "Neutral",
           0.994409441947937
          ],
          [
           [
            [
             "hunter",
             "biden",
             "wire",
             "investigation",
             "son",
             "business",
             "partner",
             "attorney",
             "file",
             "claim"
            ]
           ],
           "www.nation.com.pk",
           "Neutral",
           0.9938740134239197
          ],
          [
           [
            [
             "hunter",
             "biden",
             "wire",
             "investigation",
             "son",
             "business",
             "partner",
             "attorney",
             "file",
             "claim"
            ]
           ],
           "www.foxnews.com",
           "Neutral",
           0.9976179003715515
          ],
          [
           [
            [
             "hunter",
             "biden",
             "wire",
             "investigation",
             "son",
             "business",
             "partner",
             "attorney",
             "file",
             "claim"
            ]
           ],
           "apnews.com",
           "Neutral",
           0.9946804642677307
          ],
          [
           [
            [
             "hunter",
             "biden",
             "republican",
             "document",
             "family",
             "president",
             "investigation",
             "political",
             "evidence",
             "new"
            ]
           ],
           "www.cnn.com",
           "Neutral",
           0.9989113807678223
          ],
          [
           [
            [
             "hunter",
             "biden",
             "republican",
             "document",
             "family",
             "president",
             "investigation",
             "political",
             "evidence",
             "new"
            ]
           ],
           "www.foxnews.com",
           "Neutral",
           0.9981317520141602
          ],
          [
           [
            [
             "hunter",
             "biden",
             "republican",
             "document",
             "family",
             "president",
             "investigation",
             "political",
             "evidence",
             "new"
            ]
           ],
           "abcnews.go.com",
           "Neutral",
           0.9964898824691772
          ],
          [
           [
            [
             "hunter",
             "biden",
             "republican",
             "document",
             "family",
             "president",
             "investigation",
             "political",
             "evidence",
             "new"
            ]
           ],
           "www.cnn.com",
           "Neutral",
           0.998312771320343
          ],
          [
           [
            [
             "attack",
             "war",
             "group",
             "israeli",
             "palestinian",
             "kill",
             "civilian",
             "people",
             "death",
             "american"
            ]
           ],
           "www.reuters.com",
           "Neutral",
           0.9964442849159241
          ],
          [
           [
            [
             "attack",
             "war",
             "group",
             "israeli",
             "palestinian",
             "kill",
             "civilian",
             "people",
             "death",
             "american"
            ]
           ],
           "www.reuters.com",
           "Neutral",
           0.9942318797111511
          ],
          [
           [
            [
             "attack",
             "war",
             "group",
             "israeli",
             "palestinian",
             "kill",
             "civilian",
             "people",
             "death",
             "american"
            ]
           ],
           "apnews.com",
           "Neutral",
           0.5662041306495667
          ],
          [
           [
            [
             "attack",
             "war",
             "group",
             "israeli",
             "palestinian",
             "kill",
             "civilian",
             "people",
             "death",
             "american"
            ]
           ],
           "www.cnn.com",
           "Neutral",
           0.9985407590866089
          ],
          [
           [
            [
             "attack",
             "war",
             "group",
             "israeli",
             "palestinian",
             "kill",
             "civilian",
             "people",
             "death",
             "american"
            ]
           ],
           "www.foxnews.com",
           "Neutral",
           0.9975425601005554
          ],
          [
           [
            [
             "attack",
             "war",
             "group",
             "israeli",
             "palestinian",
             "kill",
             "civilian",
             "people",
             "death",
             "american"
            ]
           ],
           "www.usatoday.com",
           "Neutral",
           0.9967705011367798
          ]
         ],
         "hovertemplate": "Associated Words: %{customdata[0]}<br>Address: %{customdata[1]}<br>Sentiment Label: %{customdata[2]}<br>Main Topic Score : %{customdata[3]}",
         "legendgroup": "",
         "marker": {
          "color": "#636efa"
         },
         "name": "",
         "notched": false,
         "offsetgroup": "",
         "orientation": "v",
         "showlegend": false,
         "type": "box",
         "x": [
          0,
          0,
          1,
          1,
          1,
          1,
          1,
          1,
          1,
          1,
          1,
          1,
          1,
          1,
          1,
          1,
          2,
          2,
          2,
          2,
          2,
          2,
          2,
          2,
          2,
          3,
          3,
          3,
          3,
          3,
          4,
          4,
          4,
          4,
          5,
          5,
          5,
          5,
          5,
          5
         ],
         "x0": " ",
         "xaxis": "x",
         "y": [
          -0.06,
          -0.04,
          0.05,
          0.14,
          0.22,
          0.13,
          0.09,
          0,
          0.04,
          0.21,
          0.17,
          0.12,
          0.09,
          0.14,
          0.08,
          0.02,
          0.07,
          0,
          -0.03,
          -0.03,
          0.01,
          0.09,
          0.2,
          0.03,
          -0.02,
          -0.04,
          0.1,
          -0.11,
          0.04,
          0.04,
          0.06,
          0.06,
          0.01,
          -0.01,
          -0.01,
          0.02,
          0.06,
          0.08,
          0.01,
          0.08
         ],
         "y0": " ",
         "yaxis": "y"
        }
       ],
       "layout": {
        "boxmode": "group",
        "legend": {
         "tracegroupgap": 0
        },
        "template": {
         "data": {
          "bar": [
           {
            "error_x": {
             "color": "#2a3f5f"
            },
            "error_y": {
             "color": "#2a3f5f"
            },
            "marker": {
             "line": {
              "color": "#E5ECF6",
              "width": 0.5
             },
             "pattern": {
              "fillmode": "overlay",
              "size": 10,
              "solidity": 0.2
             }
            },
            "type": "bar"
           }
          ],
          "barpolar": [
           {
            "marker": {
             "line": {
              "color": "#E5ECF6",
              "width": 0.5
             },
             "pattern": {
              "fillmode": "overlay",
              "size": 10,
              "solidity": 0.2
             }
            },
            "type": "barpolar"
           }
          ],
          "carpet": [
           {
            "aaxis": {
             "endlinecolor": "#2a3f5f",
             "gridcolor": "white",
             "linecolor": "white",
             "minorgridcolor": "white",
             "startlinecolor": "#2a3f5f"
            },
            "baxis": {
             "endlinecolor": "#2a3f5f",
             "gridcolor": "white",
             "linecolor": "white",
             "minorgridcolor": "white",
             "startlinecolor": "#2a3f5f"
            },
            "type": "carpet"
           }
          ],
          "choropleth": [
           {
            "colorbar": {
             "outlinewidth": 0,
             "ticks": ""
            },
            "type": "choropleth"
           }
          ],
          "contour": [
           {
            "colorbar": {
             "outlinewidth": 0,
             "ticks": ""
            },
            "colorscale": [
             [
              0,
              "#0d0887"
             ],
             [
              0.1111111111111111,
              "#46039f"
             ],
             [
              0.2222222222222222,
              "#7201a8"
             ],
             [
              0.3333333333333333,
              "#9c179e"
             ],
             [
              0.4444444444444444,
              "#bd3786"
             ],
             [
              0.5555555555555556,
              "#d8576b"
             ],
             [
              0.6666666666666666,
              "#ed7953"
             ],
             [
              0.7777777777777778,
              "#fb9f3a"
             ],
             [
              0.8888888888888888,
              "#fdca26"
             ],
             [
              1,
              "#f0f921"
             ]
            ],
            "type": "contour"
           }
          ],
          "contourcarpet": [
           {
            "colorbar": {
             "outlinewidth": 0,
             "ticks": ""
            },
            "type": "contourcarpet"
           }
          ],
          "heatmap": [
           {
            "colorbar": {
             "outlinewidth": 0,
             "ticks": ""
            },
            "colorscale": [
             [
              0,
              "#0d0887"
             ],
             [
              0.1111111111111111,
              "#46039f"
             ],
             [
              0.2222222222222222,
              "#7201a8"
             ],
             [
              0.3333333333333333,
              "#9c179e"
             ],
             [
              0.4444444444444444,
              "#bd3786"
             ],
             [
              0.5555555555555556,
              "#d8576b"
             ],
             [
              0.6666666666666666,
              "#ed7953"
             ],
             [
              0.7777777777777778,
              "#fb9f3a"
             ],
             [
              0.8888888888888888,
              "#fdca26"
             ],
             [
              1,
              "#f0f921"
             ]
            ],
            "type": "heatmap"
           }
          ],
          "heatmapgl": [
           {
            "colorbar": {
             "outlinewidth": 0,
             "ticks": ""
            },
            "colorscale": [
             [
              0,
              "#0d0887"
             ],
             [
              0.1111111111111111,
              "#46039f"
             ],
             [
              0.2222222222222222,
              "#7201a8"
             ],
             [
              0.3333333333333333,
              "#9c179e"
             ],
             [
              0.4444444444444444,
              "#bd3786"
             ],
             [
              0.5555555555555556,
              "#d8576b"
             ],
             [
              0.6666666666666666,
              "#ed7953"
             ],
             [
              0.7777777777777778,
              "#fb9f3a"
             ],
             [
              0.8888888888888888,
              "#fdca26"
             ],
             [
              1,
              "#f0f921"
             ]
            ],
            "type": "heatmapgl"
           }
          ],
          "histogram": [
           {
            "marker": {
             "pattern": {
              "fillmode": "overlay",
              "size": 10,
              "solidity": 0.2
             }
            },
            "type": "histogram"
           }
          ],
          "histogram2d": [
           {
            "colorbar": {
             "outlinewidth": 0,
             "ticks": ""
            },
            "colorscale": [
             [
              0,
              "#0d0887"
             ],
             [
              0.1111111111111111,
              "#46039f"
             ],
             [
              0.2222222222222222,
              "#7201a8"
             ],
             [
              0.3333333333333333,
              "#9c179e"
             ],
             [
              0.4444444444444444,
              "#bd3786"
             ],
             [
              0.5555555555555556,
              "#d8576b"
             ],
             [
              0.6666666666666666,
              "#ed7953"
             ],
             [
              0.7777777777777778,
              "#fb9f3a"
             ],
             [
              0.8888888888888888,
              "#fdca26"
             ],
             [
              1,
              "#f0f921"
             ]
            ],
            "type": "histogram2d"
           }
          ],
          "histogram2dcontour": [
           {
            "colorbar": {
             "outlinewidth": 0,
             "ticks": ""
            },
            "colorscale": [
             [
              0,
              "#0d0887"
             ],
             [
              0.1111111111111111,
              "#46039f"
             ],
             [
              0.2222222222222222,
              "#7201a8"
             ],
             [
              0.3333333333333333,
              "#9c179e"
             ],
             [
              0.4444444444444444,
              "#bd3786"
             ],
             [
              0.5555555555555556,
              "#d8576b"
             ],
             [
              0.6666666666666666,
              "#ed7953"
             ],
             [
              0.7777777777777778,
              "#fb9f3a"
             ],
             [
              0.8888888888888888,
              "#fdca26"
             ],
             [
              1,
              "#f0f921"
             ]
            ],
            "type": "histogram2dcontour"
           }
          ],
          "mesh3d": [
           {
            "colorbar": {
             "outlinewidth": 0,
             "ticks": ""
            },
            "type": "mesh3d"
           }
          ],
          "parcoords": [
           {
            "line": {
             "colorbar": {
              "outlinewidth": 0,
              "ticks": ""
             }
            },
            "type": "parcoords"
           }
          ],
          "pie": [
           {
            "automargin": true,
            "type": "pie"
           }
          ],
          "scatter": [
           {
            "fillpattern": {
             "fillmode": "overlay",
             "size": 10,
             "solidity": 0.2
            },
            "type": "scatter"
           }
          ],
          "scatter3d": [
           {
            "line": {
             "colorbar": {
              "outlinewidth": 0,
              "ticks": ""
             }
            },
            "marker": {
             "colorbar": {
              "outlinewidth": 0,
              "ticks": ""
             }
            },
            "type": "scatter3d"
           }
          ],
          "scattercarpet": [
           {
            "marker": {
             "colorbar": {
              "outlinewidth": 0,
              "ticks": ""
             }
            },
            "type": "scattercarpet"
           }
          ],
          "scattergeo": [
           {
            "marker": {
             "colorbar": {
              "outlinewidth": 0,
              "ticks": ""
             }
            },
            "type": "scattergeo"
           }
          ],
          "scattergl": [
           {
            "marker": {
             "colorbar": {
              "outlinewidth": 0,
              "ticks": ""
             }
            },
            "type": "scattergl"
           }
          ],
          "scattermapbox": [
           {
            "marker": {
             "colorbar": {
              "outlinewidth": 0,
              "ticks": ""
             }
            },
            "type": "scattermapbox"
           }
          ],
          "scatterpolar": [
           {
            "marker": {
             "colorbar": {
              "outlinewidth": 0,
              "ticks": ""
             }
            },
            "type": "scatterpolar"
           }
          ],
          "scatterpolargl": [
           {
            "marker": {
             "colorbar": {
              "outlinewidth": 0,
              "ticks": ""
             }
            },
            "type": "scatterpolargl"
           }
          ],
          "scatterternary": [
           {
            "marker": {
             "colorbar": {
              "outlinewidth": 0,
              "ticks": ""
             }
            },
            "type": "scatterternary"
           }
          ],
          "surface": [
           {
            "colorbar": {
             "outlinewidth": 0,
             "ticks": ""
            },
            "colorscale": [
             [
              0,
              "#0d0887"
             ],
             [
              0.1111111111111111,
              "#46039f"
             ],
             [
              0.2222222222222222,
              "#7201a8"
             ],
             [
              0.3333333333333333,
              "#9c179e"
             ],
             [
              0.4444444444444444,
              "#bd3786"
             ],
             [
              0.5555555555555556,
              "#d8576b"
             ],
             [
              0.6666666666666666,
              "#ed7953"
             ],
             [
              0.7777777777777778,
              "#fb9f3a"
             ],
             [
              0.8888888888888888,
              "#fdca26"
             ],
             [
              1,
              "#f0f921"
             ]
            ],
            "type": "surface"
           }
          ],
          "table": [
           {
            "cells": {
             "fill": {
              "color": "#EBF0F8"
             },
             "line": {
              "color": "white"
             }
            },
            "header": {
             "fill": {
              "color": "#C8D4E3"
             },
             "line": {
              "color": "white"
             }
            },
            "type": "table"
           }
          ]
         },
         "layout": {
          "annotationdefaults": {
           "arrowcolor": "#2a3f5f",
           "arrowhead": 0,
           "arrowwidth": 1
          },
          "autotypenumbers": "strict",
          "coloraxis": {
           "colorbar": {
            "outlinewidth": 0,
            "ticks": ""
           }
          },
          "colorscale": {
           "diverging": [
            [
             0,
             "#8e0152"
            ],
            [
             0.1,
             "#c51b7d"
            ],
            [
             0.2,
             "#de77ae"
            ],
            [
             0.3,
             "#f1b6da"
            ],
            [
             0.4,
             "#fde0ef"
            ],
            [
             0.5,
             "#f7f7f7"
            ],
            [
             0.6,
             "#e6f5d0"
            ],
            [
             0.7,
             "#b8e186"
            ],
            [
             0.8,
             "#7fbc41"
            ],
            [
             0.9,
             "#4d9221"
            ],
            [
             1,
             "#276419"
            ]
           ],
           "sequential": [
            [
             0,
             "#0d0887"
            ],
            [
             0.1111111111111111,
             "#46039f"
            ],
            [
             0.2222222222222222,
             "#7201a8"
            ],
            [
             0.3333333333333333,
             "#9c179e"
            ],
            [
             0.4444444444444444,
             "#bd3786"
            ],
            [
             0.5555555555555556,
             "#d8576b"
            ],
            [
             0.6666666666666666,
             "#ed7953"
            ],
            [
             0.7777777777777778,
             "#fb9f3a"
            ],
            [
             0.8888888888888888,
             "#fdca26"
            ],
            [
             1,
             "#f0f921"
            ]
           ],
           "sequentialminus": [
            [
             0,
             "#0d0887"
            ],
            [
             0.1111111111111111,
             "#46039f"
            ],
            [
             0.2222222222222222,
             "#7201a8"
            ],
            [
             0.3333333333333333,
             "#9c179e"
            ],
            [
             0.4444444444444444,
             "#bd3786"
            ],
            [
             0.5555555555555556,
             "#d8576b"
            ],
            [
             0.6666666666666666,
             "#ed7953"
            ],
            [
             0.7777777777777778,
             "#fb9f3a"
            ],
            [
             0.8888888888888888,
             "#fdca26"
            ],
            [
             1,
             "#f0f921"
            ]
           ]
          },
          "colorway": [
           "#636efa",
           "#EF553B",
           "#00cc96",
           "#ab63fa",
           "#FFA15A",
           "#19d3f3",
           "#FF6692",
           "#B6E880",
           "#FF97FF",
           "#FECB52"
          ],
          "font": {
           "color": "#2a3f5f"
          },
          "geo": {
           "bgcolor": "white",
           "lakecolor": "white",
           "landcolor": "#E5ECF6",
           "showlakes": true,
           "showland": true,
           "subunitcolor": "white"
          },
          "hoverlabel": {
           "align": "left"
          },
          "hovermode": "closest",
          "mapbox": {
           "style": "light"
          },
          "paper_bgcolor": "white",
          "plot_bgcolor": "#E5ECF6",
          "polar": {
           "angularaxis": {
            "gridcolor": "white",
            "linecolor": "white",
            "ticks": ""
           },
           "bgcolor": "#E5ECF6",
           "radialaxis": {
            "gridcolor": "white",
            "linecolor": "white",
            "ticks": ""
           }
          },
          "scene": {
           "xaxis": {
            "backgroundcolor": "#E5ECF6",
            "gridcolor": "white",
            "gridwidth": 2,
            "linecolor": "white",
            "showbackground": true,
            "ticks": "",
            "zerolinecolor": "white"
           },
           "yaxis": {
            "backgroundcolor": "#E5ECF6",
            "gridcolor": "white",
            "gridwidth": 2,
            "linecolor": "white",
            "showbackground": true,
            "ticks": "",
            "zerolinecolor": "white"
           },
           "zaxis": {
            "backgroundcolor": "#E5ECF6",
            "gridcolor": "white",
            "gridwidth": 2,
            "linecolor": "white",
            "showbackground": true,
            "ticks": "",
            "zerolinecolor": "white"
           }
          },
          "shapedefaults": {
           "line": {
            "color": "#2a3f5f"
           }
          },
          "ternary": {
           "aaxis": {
            "gridcolor": "white",
            "linecolor": "white",
            "ticks": ""
           },
           "baxis": {
            "gridcolor": "white",
            "linecolor": "white",
            "ticks": ""
           },
           "bgcolor": "#E5ECF6",
           "caxis": {
            "gridcolor": "white",
            "linecolor": "white",
            "ticks": ""
           }
          },
          "title": {
           "x": 0.05
          },
          "xaxis": {
           "automargin": true,
           "gridcolor": "white",
           "linecolor": "white",
           "ticks": "",
           "title": {
            "standoff": 15
           },
           "zerolinecolor": "white",
           "zerolinewidth": 2
          },
          "yaxis": {
           "automargin": true,
           "gridcolor": "white",
           "linecolor": "white",
           "ticks": "",
           "title": {
            "standoff": 15
           },
           "zerolinecolor": "white",
           "zerolinewidth": 2
          }
         }
        },
        "title": {
         "text": "Articles Sorted By Main Topic"
        },
        "xaxis": {
         "anchor": "y",
         "categoryarray": [
          0,
          1,
          2,
          3,
          4,
          5
         ],
         "categoryorder": "array",
         "domain": [
          0,
          1
         ],
         "title": {
          "text": "Main Topic"
         }
        },
        "yaxis": {
         "anchor": "x",
         "domain": [
          0,
          1
         ],
         "range": [
          -0.22,
          0.22
         ],
         "title": {
          "text": "Sentiment Score"
         }
        }
       }
      }
     },
     "metadata": {},
     "output_type": "display_data"
    }
   ],
   "source": [
    "%run DataVisualization.ipynb\n",
    "visualize_all_articles_on_main_topic(df)\n",
    "visualize_all_articles_on_main_topic(df, plot_type=\"box\")"
   ]
  },
  {
   "cell_type": "markdown",
   "id": "e2dceebf",
   "metadata": {},
   "source": [
    "# Generating Cluster Graph of Topics"
   ]
  },
  {
   "cell_type": "code",
   "execution_count": 34,
   "id": "235fbeca",
   "metadata": {
    "scrolled": false
   },
   "outputs": [
    {
     "name": "stdout",
     "output_type": "stream",
     "text": [
      "[t-SNE] Computing 39 nearest neighbors...\n",
      "[t-SNE] Indexed 40 samples in 0.000s...\n",
      "[t-SNE] Computed neighbors for 40 samples in 0.007s...\n",
      "[t-SNE] Computed conditional probabilities for sample 40 / 40\n",
      "[t-SNE] Mean sigma: 0.577345\n",
      "[t-SNE] KL divergence after 250 iterations with early exaggeration: 52.121475\n",
      "[t-SNE] KL divergence after 800 iterations: 0.067366\n"
     ]
    },
    {
     "data": {
      "application/vnd.plotly.v1+json": {
       "config": {
        "plotlyServerURL": "https://plot.ly"
       },
       "data": [
        {
         "customdata": [
          [
           [
            [
             "hunter",
             "hallie",
             "gun",
             "service",
             "secret",
             "tell",
             "text",
             "report",
             "police",
             "biden"
            ]
           ],
           "www.washingtonexaminer.com",
           "Neutral",
           "0"
          ],
          [
           [
            [
             "hunter",
             "hallie",
             "gun",
             "service",
             "secret",
             "tell",
             "text",
             "report",
             "police",
             "biden"
            ]
           ],
           "www.nation.com.pk",
           "Neutral",
           "0"
          ]
         ],
         "hovertemplate": "Associated Words: %{customdata[0]}<br>Address: %{customdata[1]}<br>Sentiment Label: %{customdata[2]}<br>Main Topic:%{customdata[3]}",
         "legendgroup": "0",
         "marker": {
          "color": "#636efa",
          "size": [
           0.998738706111908,
           0.7291358113288879
          ],
          "sizemode": "area",
          "sizeref": 0.002497684508562088,
          "symbol": "circle"
         },
         "mode": "markers",
         "name": "0",
         "orientation": "v",
         "showlegend": true,
         "type": "scatter",
         "x": [
          -15.208745956420898,
          -15.125917434692383
         ],
         "xaxis": "x",
         "y": [
          10.693584442138672,
          10.679396629333496
         ],
         "yaxis": "y"
        },
        {
         "customdata": [
          [
           [
            [
             "biden",
             "primary",
             "phillip",
             "state",
             "democratic",
             "party",
             "president",
             "campaign",
             "new",
             "run"
            ]
           ],
           "apnews.com",
           "Neutral",
           "1"
          ],
          [
           [
            [
             "biden",
             "primary",
             "phillip",
             "state",
             "democratic",
             "party",
             "president",
             "campaign",
             "new",
             "run"
            ]
           ],
           "www.foxnews.com",
           "Neutral",
           "1"
          ],
          [
           [
            [
             "biden",
             "primary",
             "phillip",
             "state",
             "democratic",
             "party",
             "president",
             "campaign",
             "new",
             "run"
            ]
           ],
           "www.newsnationnow.com",
           "Neutral",
           "1"
          ],
          [
           [
            [
             "biden",
             "primary",
             "phillip",
             "state",
             "democratic",
             "party",
             "president",
             "campaign",
             "new",
             "run"
            ]
           ],
           "www.thenation.com",
           "Neutral",
           "1"
          ],
          [
           [
            [
             "biden",
             "primary",
             "phillip",
             "state",
             "democratic",
             "party",
             "president",
             "campaign",
             "new",
             "run"
            ]
           ],
           "www.politico.com",
           "Neutral",
           "1"
          ],
          [
           [
            [
             "biden",
             "primary",
             "phillip",
             "state",
             "democratic",
             "party",
             "president",
             "campaign",
             "new",
             "run"
            ]
           ],
           "apnews.com",
           "Neutral",
           "1"
          ],
          [
           [
            [
             "biden",
             "primary",
             "phillip",
             "state",
             "democratic",
             "party",
             "president",
             "campaign",
             "new",
             "run"
            ]
           ],
           "www.politico.com",
           "Neutral",
           "1"
          ],
          [
           [
            [
             "biden",
             "primary",
             "phillip",
             "state",
             "democratic",
             "party",
             "president",
             "campaign",
             "new",
             "run"
            ]
           ],
           "www.foxnews.com",
           "Neutral",
           "1"
          ],
          [
           [
            [
             "biden",
             "primary",
             "phillip",
             "state",
             "democratic",
             "party",
             "president",
             "campaign",
             "new",
             "run"
            ]
           ],
           "abcnews.go.com",
           "Neutral",
           "1"
          ],
          [
           [
            [
             "biden",
             "primary",
             "phillip",
             "state",
             "democratic",
             "party",
             "president",
             "campaign",
             "new",
             "run"
            ]
           ],
           "www.washingtonpost.com",
           "Neutral",
           "1"
          ],
          [
           [
            [
             "biden",
             "primary",
             "phillip",
             "state",
             "democratic",
             "party",
             "president",
             "campaign",
             "new",
             "run"
            ]
           ],
           "www.wmur.com",
           "Neutral",
           "1"
          ],
          [
           [
            [
             "biden",
             "primary",
             "phillip",
             "state",
             "democratic",
             "party",
             "president",
             "campaign",
             "new",
             "run"
            ]
           ],
           "www.startribune.com",
           "Neutral",
           "1"
          ],
          [
           [
            [
             "biden",
             "primary",
             "phillip",
             "state",
             "democratic",
             "party",
             "president",
             "campaign",
             "new",
             "run"
            ]
           ],
           "www.washingtonpost.com",
           "Neutral",
           "1"
          ],
          [
           [
            [
             "biden",
             "primary",
             "phillip",
             "state",
             "democratic",
             "party",
             "president",
             "campaign",
             "new",
             "run"
            ]
           ],
           "www.nbcnews.com",
           "Neutral",
           "1"
          ]
         ],
         "hovertemplate": "Associated Words: %{customdata[0]}<br>Address: %{customdata[1]}<br>Sentiment Label: %{customdata[2]}<br>Main Topic:%{customdata[3]}",
         "legendgroup": "1",
         "marker": {
          "color": "#EF553B",
          "size": [
           0.48935946822166443,
           0.9974214434623718,
           0.8776475191116333,
           0.9990738034248352,
           0.9621244072914124,
           0.9983640313148499,
           0.9863125681877136,
           0.9958744645118713,
           0.9975301027297974,
           0.9988642334938049,
           0.9966387748718262,
           0.99568110704422,
           0.7592456340789795,
           0.9981726408004761
          ],
          "sizemode": "area",
          "sizeref": 0.002497684508562088,
          "symbol": "circle"
         },
         "mode": "markers",
         "name": "1",
         "orientation": "v",
         "showlegend": true,
         "type": "scatter",
         "x": [
          -10.623888969421387,
          -9.96843433380127,
          -9.217028617858887,
          -9.783512115478516,
          -8.865959167480469,
          -9.437399864196777,
          -9.464762687683105,
          -9.423699378967285,
          -9.451346397399902,
          -9.669836044311523,
          -8.903219223022461,
          -10.194219589233398,
          -10.255291938781738,
          -11.29550552368164
         ],
         "xaxis": "x",
         "y": [
          7.136751651763916,
          6.6697001457214355,
          7.224557876586914,
          6.018574237823486,
          6.546288967132568,
          6.751511573791504,
          6.134040355682373,
          7.198884963989258,
          6.439826488494873,
          7.358345031738281,
          6.956665992736816,
          7.394661903381348,
          6.545088768005371,
          8.240804672241211
         ],
         "yaxis": "y"
        },
        {
         "customdata": [
          [
           [
            [
             "office",
             "biden",
             "information",
             "source",
             "hunter",
             "foreign",
             "family",
             "attorney",
             "relate",
             "investigation"
            ]
           ],
           "www.usatoday.com",
           "Neutral",
           "2"
          ],
          [
           [
            [
             "office",
             "biden",
             "information",
             "source",
             "hunter",
             "foreign",
             "family",
             "attorney",
             "relate",
             "investigation"
            ]
           ],
           "wjla.com",
           "Neutral",
           "2"
          ],
          [
           [
            [
             "office",
             "biden",
             "information",
             "source",
             "hunter",
             "foreign",
             "family",
             "attorney",
             "relate",
             "investigation"
            ]
           ],
           "nypost.com",
           "Neutral",
           "2"
          ],
          [
           [
            [
             "office",
             "biden",
             "information",
             "source",
             "hunter",
             "foreign",
             "family",
             "attorney",
             "relate",
             "investigation"
            ]
           ],
           "www.washingtontimes.com",
           "Neutral",
           "2"
          ],
          [
           [
            [
             "office",
             "biden",
             "information",
             "source",
             "hunter",
             "foreign",
             "family",
             "attorney",
             "relate",
             "investigation"
            ]
           ],
           "www.dailymail.co.uk",
           "Neutral",
           "2"
          ],
          [
           [
            [
             "office",
             "biden",
             "information",
             "source",
             "hunter",
             "foreign",
             "family",
             "attorney",
             "relate",
             "investigation"
            ]
           ],
           "www.foxnews.com",
           "Neutral",
           "2"
          ],
          [
           [
            [
             "office",
             "biden",
             "information",
             "source",
             "hunter",
             "foreign",
             "family",
             "attorney",
             "relate",
             "investigation"
            ]
           ],
           "www.grassley.senate.gov",
           "Neutral",
           "2"
          ],
          [
           [
            [
             "office",
             "biden",
             "information",
             "source",
             "hunter",
             "foreign",
             "family",
             "attorney",
             "relate",
             "investigation"
            ]
           ],
           "nypost.com",
           "Neutral",
           "2"
          ],
          [
           [
            [
             "office",
             "biden",
             "information",
             "source",
             "hunter",
             "foreign",
             "family",
             "attorney",
             "relate",
             "investigation"
            ]
           ],
           "thefederalist.com",
           "Neutral",
           "2"
          ]
         ],
         "hovertemplate": "Associated Words: %{customdata[0]}<br>Address: %{customdata[1]}<br>Sentiment Label: %{customdata[2]}<br>Main Topic:%{customdata[3]}",
         "legendgroup": "2",
         "marker": {
          "color": "#00cc96",
          "size": [
           0.4647253155708313,
           0.6221942901611328,
           0.8851465582847595,
           0.9955892562866211,
           0.9977553486824036,
           0.9989196062088013,
           0.995551586151123,
           0.9979532361030579,
           0.7714716196060181
          ],
          "sizemode": "area",
          "sizeref": 0.002497684508562088,
          "symbol": "circle"
         },
         "mode": "markers",
         "name": "2",
         "orientation": "v",
         "showlegend": true,
         "type": "scatter",
         "x": [
          -15.632267951965332,
          -15.65290355682373,
          -15.380387306213379,
          -15.697797775268555,
          -15.076874732971191,
          -15.33531665802002,
          -14.527313232421875,
          -15.475271224975586,
          -14.825947761535645
         ],
         "xaxis": "x",
         "y": [
          6.788762092590332,
          6.57711124420166,
          6.537100791931152,
          7.031661510467529,
          7.174849510192871,
          6.580993175506592,
          7.588596820831299,
          7.309024333953857,
          7.414590835571289
         ],
         "yaxis": "y"
        },
        {
         "customdata": [
          [
           [
            [
             "hunter",
             "biden",
             "wire",
             "investigation",
             "son",
             "business",
             "partner",
             "attorney",
             "file",
             "claim"
            ]
           ],
           "www.foxnews.com",
           "Neutral",
           "3"
          ],
          [
           [
            [
             "hunter",
             "biden",
             "wire",
             "investigation",
             "son",
             "business",
             "partner",
             "attorney",
             "file",
             "claim"
            ]
           ],
           "www.nation.com.pk",
           "Neutral",
           "3"
          ],
          [
           [
            [
             "hunter",
             "biden",
             "wire",
             "investigation",
             "son",
             "business",
             "partner",
             "attorney",
             "file",
             "claim"
            ]
           ],
           "www.nation.com.pk",
           "Neutral",
           "3"
          ],
          [
           [
            [
             "hunter",
             "biden",
             "wire",
             "investigation",
             "son",
             "business",
             "partner",
             "attorney",
             "file",
             "claim"
            ]
           ],
           "www.foxnews.com",
           "Neutral",
           "3"
          ],
          [
           [
            [
             "hunter",
             "biden",
             "wire",
             "investigation",
             "son",
             "business",
             "partner",
             "attorney",
             "file",
             "claim"
            ]
           ],
           "apnews.com",
           "Neutral",
           "3"
          ]
         ],
         "hovertemplate": "Associated Words: %{customdata[0]}<br>Address: %{customdata[1]}<br>Sentiment Label: %{customdata[2]}<br>Main Topic:%{customdata[3]}",
         "legendgroup": "3",
         "marker": {
          "color": "#ab63fa",
          "size": [
           0.9977088570594788,
           0.994409441947937,
           0.9938740134239197,
           0.9976179003715515,
           0.9946804642677307
          ],
          "sizemode": "area",
          "sizeref": 0.002497684508562088,
          "symbol": "circle"
         },
         "mode": "markers",
         "name": "3",
         "orientation": "v",
         "showlegend": true,
         "type": "scatter",
         "x": [
          -12.08326244354248,
          -12.084110260009766,
          -12.084250450134277,
          -12.083284378051758,
          -12.084038734436035
         ],
         "xaxis": "x",
         "y": [
          13.157546997070312,
          13.156375885009766,
          13.156183242797852,
          13.157520294189453,
          13.156474113464355
         ],
         "yaxis": "y"
        },
        {
         "customdata": [
          [
           [
            [
             "hunter",
             "biden",
             "republican",
             "document",
             "family",
             "president",
             "investigation",
             "political",
             "evidence",
             "new"
            ]
           ],
           "www.cnn.com",
           "Neutral",
           "4"
          ],
          [
           [
            [
             "hunter",
             "biden",
             "republican",
             "document",
             "family",
             "president",
             "investigation",
             "political",
             "evidence",
             "new"
            ]
           ],
           "www.foxnews.com",
           "Neutral",
           "4"
          ],
          [
           [
            [
             "hunter",
             "biden",
             "republican",
             "document",
             "family",
             "president",
             "investigation",
             "political",
             "evidence",
             "new"
            ]
           ],
           "abcnews.go.com",
           "Neutral",
           "4"
          ],
          [
           [
            [
             "hunter",
             "biden",
             "republican",
             "document",
             "family",
             "president",
             "investigation",
             "political",
             "evidence",
             "new"
            ]
           ],
           "www.cnn.com",
           "Neutral",
           "4"
          ]
         ],
         "hovertemplate": "Associated Words: %{customdata[0]}<br>Address: %{customdata[1]}<br>Sentiment Label: %{customdata[2]}<br>Main Topic:%{customdata[3]}",
         "legendgroup": "4",
         "marker": {
          "color": "#FFA15A",
          "size": [
           0.9989113807678223,
           0.9981317520141602,
           0.9964898824691772,
           0.998312771320343
          ],
          "sizemode": "area",
          "sizeref": 0.002497684508562088,
          "symbol": "circle"
         },
         "mode": "markers",
         "name": "4",
         "orientation": "v",
         "showlegend": true,
         "type": "scatter",
         "x": [
          -12.647658348083496,
          -12.647668838500977,
          -12.600494384765625,
          -12.666428565979004
         ],
         "xaxis": "x",
         "y": [
          9.696145057678223,
          9.695945739746094,
          9.693410873413086,
          9.683340072631836
         ],
         "yaxis": "y"
        },
        {
         "customdata": [
          [
           [
            [
             "attack",
             "war",
             "group",
             "israeli",
             "palestinian",
             "kill",
             "civilian",
             "people",
             "death",
             "american"
            ]
           ],
           "www.cnn.com",
           "Neutral",
           "5"
          ],
          [
           [
            [
             "attack",
             "war",
             "group",
             "israeli",
             "palestinian",
             "kill",
             "civilian",
             "people",
             "death",
             "american"
            ]
           ],
           "apnews.com",
           "Neutral",
           "5"
          ],
          [
           [
            [
             "attack",
             "war",
             "group",
             "israeli",
             "palestinian",
             "kill",
             "civilian",
             "people",
             "death",
             "american"
            ]
           ],
           "www.foxnews.com",
           "Neutral",
           "5"
          ],
          [
           [
            [
             "attack",
             "war",
             "group",
             "israeli",
             "palestinian",
             "kill",
             "civilian",
             "people",
             "death",
             "american"
            ]
           ],
           "www.reuters.com",
           "Neutral",
           "5"
          ],
          [
           [
            [
             "attack",
             "war",
             "group",
             "israeli",
             "palestinian",
             "kill",
             "civilian",
             "people",
             "death",
             "american"
            ]
           ],
           "www.reuters.com",
           "Neutral",
           "5"
          ],
          [
           [
            [
             "attack",
             "war",
             "group",
             "israeli",
             "palestinian",
             "kill",
             "civilian",
             "people",
             "death",
             "american"
            ]
           ],
           "www.usatoday.com",
           "Neutral",
           "5"
          ]
         ],
         "hovertemplate": "Associated Words: %{customdata[0]}<br>Address: %{customdata[1]}<br>Sentiment Label: %{customdata[2]}<br>Main Topic:%{customdata[3]}",
         "legendgroup": "5",
         "marker": {
          "color": "#19d3f3",
          "size": [
           0.9985407590866089,
           0.5662041306495667,
           0.9975425601005554,
           0.9964442849159241,
           0.9942318797111511,
           0.9967705011367798
          ],
          "sizemode": "area",
          "sizeref": 0.002497684508562088,
          "symbol": "circle"
         },
         "mode": "markers",
         "name": "5",
         "orientation": "v",
         "showlegend": true,
         "type": "scatter",
         "x": [
          -17.526897430419922,
          -17.522705078125,
          -16.64957618713379,
          -17.529157638549805,
          -17.524681091308594,
          -17.527250289916992
         ],
         "xaxis": "x",
         "y": [
          11.170053482055664,
          11.176243782043457,
          10.958833694458008,
          11.170851707458496,
          11.176037788391113,
          11.170181274414062
         ],
         "yaxis": "y"
        }
       ],
       "layout": {
        "legend": {
         "itemsizing": "constant",
         "title": {
          "text": "Main Topic"
         },
         "tracegroupgap": 0
        },
        "template": {
         "data": {
          "bar": [
           {
            "error_x": {
             "color": "#2a3f5f"
            },
            "error_y": {
             "color": "#2a3f5f"
            },
            "marker": {
             "line": {
              "color": "#E5ECF6",
              "width": 0.5
             },
             "pattern": {
              "fillmode": "overlay",
              "size": 10,
              "solidity": 0.2
             }
            },
            "type": "bar"
           }
          ],
          "barpolar": [
           {
            "marker": {
             "line": {
              "color": "#E5ECF6",
              "width": 0.5
             },
             "pattern": {
              "fillmode": "overlay",
              "size": 10,
              "solidity": 0.2
             }
            },
            "type": "barpolar"
           }
          ],
          "carpet": [
           {
            "aaxis": {
             "endlinecolor": "#2a3f5f",
             "gridcolor": "white",
             "linecolor": "white",
             "minorgridcolor": "white",
             "startlinecolor": "#2a3f5f"
            },
            "baxis": {
             "endlinecolor": "#2a3f5f",
             "gridcolor": "white",
             "linecolor": "white",
             "minorgridcolor": "white",
             "startlinecolor": "#2a3f5f"
            },
            "type": "carpet"
           }
          ],
          "choropleth": [
           {
            "colorbar": {
             "outlinewidth": 0,
             "ticks": ""
            },
            "type": "choropleth"
           }
          ],
          "contour": [
           {
            "colorbar": {
             "outlinewidth": 0,
             "ticks": ""
            },
            "colorscale": [
             [
              0,
              "#0d0887"
             ],
             [
              0.1111111111111111,
              "#46039f"
             ],
             [
              0.2222222222222222,
              "#7201a8"
             ],
             [
              0.3333333333333333,
              "#9c179e"
             ],
             [
              0.4444444444444444,
              "#bd3786"
             ],
             [
              0.5555555555555556,
              "#d8576b"
             ],
             [
              0.6666666666666666,
              "#ed7953"
             ],
             [
              0.7777777777777778,
              "#fb9f3a"
             ],
             [
              0.8888888888888888,
              "#fdca26"
             ],
             [
              1,
              "#f0f921"
             ]
            ],
            "type": "contour"
           }
          ],
          "contourcarpet": [
           {
            "colorbar": {
             "outlinewidth": 0,
             "ticks": ""
            },
            "type": "contourcarpet"
           }
          ],
          "heatmap": [
           {
            "colorbar": {
             "outlinewidth": 0,
             "ticks": ""
            },
            "colorscale": [
             [
              0,
              "#0d0887"
             ],
             [
              0.1111111111111111,
              "#46039f"
             ],
             [
              0.2222222222222222,
              "#7201a8"
             ],
             [
              0.3333333333333333,
              "#9c179e"
             ],
             [
              0.4444444444444444,
              "#bd3786"
             ],
             [
              0.5555555555555556,
              "#d8576b"
             ],
             [
              0.6666666666666666,
              "#ed7953"
             ],
             [
              0.7777777777777778,
              "#fb9f3a"
             ],
             [
              0.8888888888888888,
              "#fdca26"
             ],
             [
              1,
              "#f0f921"
             ]
            ],
            "type": "heatmap"
           }
          ],
          "heatmapgl": [
           {
            "colorbar": {
             "outlinewidth": 0,
             "ticks": ""
            },
            "colorscale": [
             [
              0,
              "#0d0887"
             ],
             [
              0.1111111111111111,
              "#46039f"
             ],
             [
              0.2222222222222222,
              "#7201a8"
             ],
             [
              0.3333333333333333,
              "#9c179e"
             ],
             [
              0.4444444444444444,
              "#bd3786"
             ],
             [
              0.5555555555555556,
              "#d8576b"
             ],
             [
              0.6666666666666666,
              "#ed7953"
             ],
             [
              0.7777777777777778,
              "#fb9f3a"
             ],
             [
              0.8888888888888888,
              "#fdca26"
             ],
             [
              1,
              "#f0f921"
             ]
            ],
            "type": "heatmapgl"
           }
          ],
          "histogram": [
           {
            "marker": {
             "pattern": {
              "fillmode": "overlay",
              "size": 10,
              "solidity": 0.2
             }
            },
            "type": "histogram"
           }
          ],
          "histogram2d": [
           {
            "colorbar": {
             "outlinewidth": 0,
             "ticks": ""
            },
            "colorscale": [
             [
              0,
              "#0d0887"
             ],
             [
              0.1111111111111111,
              "#46039f"
             ],
             [
              0.2222222222222222,
              "#7201a8"
             ],
             [
              0.3333333333333333,
              "#9c179e"
             ],
             [
              0.4444444444444444,
              "#bd3786"
             ],
             [
              0.5555555555555556,
              "#d8576b"
             ],
             [
              0.6666666666666666,
              "#ed7953"
             ],
             [
              0.7777777777777778,
              "#fb9f3a"
             ],
             [
              0.8888888888888888,
              "#fdca26"
             ],
             [
              1,
              "#f0f921"
             ]
            ],
            "type": "histogram2d"
           }
          ],
          "histogram2dcontour": [
           {
            "colorbar": {
             "outlinewidth": 0,
             "ticks": ""
            },
            "colorscale": [
             [
              0,
              "#0d0887"
             ],
             [
              0.1111111111111111,
              "#46039f"
             ],
             [
              0.2222222222222222,
              "#7201a8"
             ],
             [
              0.3333333333333333,
              "#9c179e"
             ],
             [
              0.4444444444444444,
              "#bd3786"
             ],
             [
              0.5555555555555556,
              "#d8576b"
             ],
             [
              0.6666666666666666,
              "#ed7953"
             ],
             [
              0.7777777777777778,
              "#fb9f3a"
             ],
             [
              0.8888888888888888,
              "#fdca26"
             ],
             [
              1,
              "#f0f921"
             ]
            ],
            "type": "histogram2dcontour"
           }
          ],
          "mesh3d": [
           {
            "colorbar": {
             "outlinewidth": 0,
             "ticks": ""
            },
            "type": "mesh3d"
           }
          ],
          "parcoords": [
           {
            "line": {
             "colorbar": {
              "outlinewidth": 0,
              "ticks": ""
             }
            },
            "type": "parcoords"
           }
          ],
          "pie": [
           {
            "automargin": true,
            "type": "pie"
           }
          ],
          "scatter": [
           {
            "fillpattern": {
             "fillmode": "overlay",
             "size": 10,
             "solidity": 0.2
            },
            "type": "scatter"
           }
          ],
          "scatter3d": [
           {
            "line": {
             "colorbar": {
              "outlinewidth": 0,
              "ticks": ""
             }
            },
            "marker": {
             "colorbar": {
              "outlinewidth": 0,
              "ticks": ""
             }
            },
            "type": "scatter3d"
           }
          ],
          "scattercarpet": [
           {
            "marker": {
             "colorbar": {
              "outlinewidth": 0,
              "ticks": ""
             }
            },
            "type": "scattercarpet"
           }
          ],
          "scattergeo": [
           {
            "marker": {
             "colorbar": {
              "outlinewidth": 0,
              "ticks": ""
             }
            },
            "type": "scattergeo"
           }
          ],
          "scattergl": [
           {
            "marker": {
             "colorbar": {
              "outlinewidth": 0,
              "ticks": ""
             }
            },
            "type": "scattergl"
           }
          ],
          "scattermapbox": [
           {
            "marker": {
             "colorbar": {
              "outlinewidth": 0,
              "ticks": ""
             }
            },
            "type": "scattermapbox"
           }
          ],
          "scatterpolar": [
           {
            "marker": {
             "colorbar": {
              "outlinewidth": 0,
              "ticks": ""
             }
            },
            "type": "scatterpolar"
           }
          ],
          "scatterpolargl": [
           {
            "marker": {
             "colorbar": {
              "outlinewidth": 0,
              "ticks": ""
             }
            },
            "type": "scatterpolargl"
           }
          ],
          "scatterternary": [
           {
            "marker": {
             "colorbar": {
              "outlinewidth": 0,
              "ticks": ""
             }
            },
            "type": "scatterternary"
           }
          ],
          "surface": [
           {
            "colorbar": {
             "outlinewidth": 0,
             "ticks": ""
            },
            "colorscale": [
             [
              0,
              "#0d0887"
             ],
             [
              0.1111111111111111,
              "#46039f"
             ],
             [
              0.2222222222222222,
              "#7201a8"
             ],
             [
              0.3333333333333333,
              "#9c179e"
             ],
             [
              0.4444444444444444,
              "#bd3786"
             ],
             [
              0.5555555555555556,
              "#d8576b"
             ],
             [
              0.6666666666666666,
              "#ed7953"
             ],
             [
              0.7777777777777778,
              "#fb9f3a"
             ],
             [
              0.8888888888888888,
              "#fdca26"
             ],
             [
              1,
              "#f0f921"
             ]
            ],
            "type": "surface"
           }
          ],
          "table": [
           {
            "cells": {
             "fill": {
              "color": "#EBF0F8"
             },
             "line": {
              "color": "white"
             }
            },
            "header": {
             "fill": {
              "color": "#C8D4E3"
             },
             "line": {
              "color": "white"
             }
            },
            "type": "table"
           }
          ]
         },
         "layout": {
          "annotationdefaults": {
           "arrowcolor": "#2a3f5f",
           "arrowhead": 0,
           "arrowwidth": 1
          },
          "autotypenumbers": "strict",
          "coloraxis": {
           "colorbar": {
            "outlinewidth": 0,
            "ticks": ""
           }
          },
          "colorscale": {
           "diverging": [
            [
             0,
             "#8e0152"
            ],
            [
             0.1,
             "#c51b7d"
            ],
            [
             0.2,
             "#de77ae"
            ],
            [
             0.3,
             "#f1b6da"
            ],
            [
             0.4,
             "#fde0ef"
            ],
            [
             0.5,
             "#f7f7f7"
            ],
            [
             0.6,
             "#e6f5d0"
            ],
            [
             0.7,
             "#b8e186"
            ],
            [
             0.8,
             "#7fbc41"
            ],
            [
             0.9,
             "#4d9221"
            ],
            [
             1,
             "#276419"
            ]
           ],
           "sequential": [
            [
             0,
             "#0d0887"
            ],
            [
             0.1111111111111111,
             "#46039f"
            ],
            [
             0.2222222222222222,
             "#7201a8"
            ],
            [
             0.3333333333333333,
             "#9c179e"
            ],
            [
             0.4444444444444444,
             "#bd3786"
            ],
            [
             0.5555555555555556,
             "#d8576b"
            ],
            [
             0.6666666666666666,
             "#ed7953"
            ],
            [
             0.7777777777777778,
             "#fb9f3a"
            ],
            [
             0.8888888888888888,
             "#fdca26"
            ],
            [
             1,
             "#f0f921"
            ]
           ],
           "sequentialminus": [
            [
             0,
             "#0d0887"
            ],
            [
             0.1111111111111111,
             "#46039f"
            ],
            [
             0.2222222222222222,
             "#7201a8"
            ],
            [
             0.3333333333333333,
             "#9c179e"
            ],
            [
             0.4444444444444444,
             "#bd3786"
            ],
            [
             0.5555555555555556,
             "#d8576b"
            ],
            [
             0.6666666666666666,
             "#ed7953"
            ],
            [
             0.7777777777777778,
             "#fb9f3a"
            ],
            [
             0.8888888888888888,
             "#fdca26"
            ],
            [
             1,
             "#f0f921"
            ]
           ]
          },
          "colorway": [
           "#636efa",
           "#EF553B",
           "#00cc96",
           "#ab63fa",
           "#FFA15A",
           "#19d3f3",
           "#FF6692",
           "#B6E880",
           "#FF97FF",
           "#FECB52"
          ],
          "font": {
           "color": "#2a3f5f"
          },
          "geo": {
           "bgcolor": "white",
           "lakecolor": "white",
           "landcolor": "#E5ECF6",
           "showlakes": true,
           "showland": true,
           "subunitcolor": "white"
          },
          "hoverlabel": {
           "align": "left"
          },
          "hovermode": "closest",
          "mapbox": {
           "style": "light"
          },
          "paper_bgcolor": "white",
          "plot_bgcolor": "#E5ECF6",
          "polar": {
           "angularaxis": {
            "gridcolor": "white",
            "linecolor": "white",
            "ticks": ""
           },
           "bgcolor": "#E5ECF6",
           "radialaxis": {
            "gridcolor": "white",
            "linecolor": "white",
            "ticks": ""
           }
          },
          "scene": {
           "xaxis": {
            "backgroundcolor": "#E5ECF6",
            "gridcolor": "white",
            "gridwidth": 2,
            "linecolor": "white",
            "showbackground": true,
            "ticks": "",
            "zerolinecolor": "white"
           },
           "yaxis": {
            "backgroundcolor": "#E5ECF6",
            "gridcolor": "white",
            "gridwidth": 2,
            "linecolor": "white",
            "showbackground": true,
            "ticks": "",
            "zerolinecolor": "white"
           },
           "zaxis": {
            "backgroundcolor": "#E5ECF6",
            "gridcolor": "white",
            "gridwidth": 2,
            "linecolor": "white",
            "showbackground": true,
            "ticks": "",
            "zerolinecolor": "white"
           }
          },
          "shapedefaults": {
           "line": {
            "color": "#2a3f5f"
           }
          },
          "ternary": {
           "aaxis": {
            "gridcolor": "white",
            "linecolor": "white",
            "ticks": ""
           },
           "baxis": {
            "gridcolor": "white",
            "linecolor": "white",
            "ticks": ""
           },
           "bgcolor": "#E5ECF6",
           "caxis": {
            "gridcolor": "white",
            "linecolor": "white",
            "ticks": ""
           }
          },
          "title": {
           "x": 0.05
          },
          "xaxis": {
           "automargin": true,
           "gridcolor": "white",
           "linecolor": "white",
           "ticks": "",
           "title": {
            "standoff": 15
           },
           "zerolinecolor": "white",
           "zerolinewidth": 2
          },
          "yaxis": {
           "automargin": true,
           "gridcolor": "white",
           "linecolor": "white",
           "ticks": "",
           "title": {
            "standoff": 15
           },
           "zerolinecolor": "white",
           "zerolinewidth": 2
          }
         }
        },
        "title": {
         "text": "Topic Clustering Graph"
        },
        "xaxis": {
         "anchor": "y",
         "domain": [
          0,
          1
         ],
         "title": {
          "text": "x"
         }
        },
        "yaxis": {
         "anchor": "x",
         "domain": [
          0,
          1
         ],
         "title": {
          "text": "y"
         }
        }
       }
      }
     },
     "metadata": {},
     "output_type": "display_data"
    }
   ],
   "source": [
    "visualize_topic_cluster_tsne(lda_model, df)"
   ]
  },
  {
   "cell_type": "markdown",
   "id": "69a452f5",
   "metadata": {},
   "source": [
    "## Subjectivity vs Sentiment of Articles for a single topic"
   ]
  },
  {
   "cell_type": "markdown",
   "id": "92b721a6",
   "metadata": {},
   "source": [
    "Will iterate through our list_of_topics_to_visualize and will make a graph for each topic number in that list."
   ]
  },
  {
   "cell_type": "code",
   "execution_count": 35,
   "id": "8cb3e81c",
   "metadata": {
    "scrolled": false
   },
   "outputs": [
    {
     "data": {
      "application/vnd.plotly.v1+json": {
       "config": {
        "plotlyServerURL": "https://plot.ly"
       },
       "data": [
        {
         "hovertemplate": "<b>%{hovertext}</b><br><br>Subjectivity Score=%{x}<br>Sentiment Score=%{y}<br>Main Topic Score=%{marker.size}<extra></extra>",
         "hovertext": [
          "www.washingtonexaminer.com",
          "www.nation.com.pk"
         ],
         "legendgroup": "",
         "marker": {
          "color": "#636efa",
          "size": [
           0.998738706111908,
           0.7291358113288879
          ],
          "sizemode": "area",
          "sizeref": 0.0024968467652797697,
          "symbol": "circle"
         },
         "mode": "markers",
         "name": "",
         "orientation": "v",
         "showlegend": false,
         "type": "scatter",
         "x": [
          0.48,
          0.44
         ],
         "xaxis": "x",
         "y": [
          -0.06,
          -0.04
         ],
         "yaxis": "y"
        }
       ],
       "layout": {
        "legend": {
         "itemsizing": "constant",
         "tracegroupgap": 0
        },
        "template": {
         "data": {
          "bar": [
           {
            "error_x": {
             "color": "#2a3f5f"
            },
            "error_y": {
             "color": "#2a3f5f"
            },
            "marker": {
             "line": {
              "color": "#E5ECF6",
              "width": 0.5
             },
             "pattern": {
              "fillmode": "overlay",
              "size": 10,
              "solidity": 0.2
             }
            },
            "type": "bar"
           }
          ],
          "barpolar": [
           {
            "marker": {
             "line": {
              "color": "#E5ECF6",
              "width": 0.5
             },
             "pattern": {
              "fillmode": "overlay",
              "size": 10,
              "solidity": 0.2
             }
            },
            "type": "barpolar"
           }
          ],
          "carpet": [
           {
            "aaxis": {
             "endlinecolor": "#2a3f5f",
             "gridcolor": "white",
             "linecolor": "white",
             "minorgridcolor": "white",
             "startlinecolor": "#2a3f5f"
            },
            "baxis": {
             "endlinecolor": "#2a3f5f",
             "gridcolor": "white",
             "linecolor": "white",
             "minorgridcolor": "white",
             "startlinecolor": "#2a3f5f"
            },
            "type": "carpet"
           }
          ],
          "choropleth": [
           {
            "colorbar": {
             "outlinewidth": 0,
             "ticks": ""
            },
            "type": "choropleth"
           }
          ],
          "contour": [
           {
            "colorbar": {
             "outlinewidth": 0,
             "ticks": ""
            },
            "colorscale": [
             [
              0,
              "#0d0887"
             ],
             [
              0.1111111111111111,
              "#46039f"
             ],
             [
              0.2222222222222222,
              "#7201a8"
             ],
             [
              0.3333333333333333,
              "#9c179e"
             ],
             [
              0.4444444444444444,
              "#bd3786"
             ],
             [
              0.5555555555555556,
              "#d8576b"
             ],
             [
              0.6666666666666666,
              "#ed7953"
             ],
             [
              0.7777777777777778,
              "#fb9f3a"
             ],
             [
              0.8888888888888888,
              "#fdca26"
             ],
             [
              1,
              "#f0f921"
             ]
            ],
            "type": "contour"
           }
          ],
          "contourcarpet": [
           {
            "colorbar": {
             "outlinewidth": 0,
             "ticks": ""
            },
            "type": "contourcarpet"
           }
          ],
          "heatmap": [
           {
            "colorbar": {
             "outlinewidth": 0,
             "ticks": ""
            },
            "colorscale": [
             [
              0,
              "#0d0887"
             ],
             [
              0.1111111111111111,
              "#46039f"
             ],
             [
              0.2222222222222222,
              "#7201a8"
             ],
             [
              0.3333333333333333,
              "#9c179e"
             ],
             [
              0.4444444444444444,
              "#bd3786"
             ],
             [
              0.5555555555555556,
              "#d8576b"
             ],
             [
              0.6666666666666666,
              "#ed7953"
             ],
             [
              0.7777777777777778,
              "#fb9f3a"
             ],
             [
              0.8888888888888888,
              "#fdca26"
             ],
             [
              1,
              "#f0f921"
             ]
            ],
            "type": "heatmap"
           }
          ],
          "heatmapgl": [
           {
            "colorbar": {
             "outlinewidth": 0,
             "ticks": ""
            },
            "colorscale": [
             [
              0,
              "#0d0887"
             ],
             [
              0.1111111111111111,
              "#46039f"
             ],
             [
              0.2222222222222222,
              "#7201a8"
             ],
             [
              0.3333333333333333,
              "#9c179e"
             ],
             [
              0.4444444444444444,
              "#bd3786"
             ],
             [
              0.5555555555555556,
              "#d8576b"
             ],
             [
              0.6666666666666666,
              "#ed7953"
             ],
             [
              0.7777777777777778,
              "#fb9f3a"
             ],
             [
              0.8888888888888888,
              "#fdca26"
             ],
             [
              1,
              "#f0f921"
             ]
            ],
            "type": "heatmapgl"
           }
          ],
          "histogram": [
           {
            "marker": {
             "pattern": {
              "fillmode": "overlay",
              "size": 10,
              "solidity": 0.2
             }
            },
            "type": "histogram"
           }
          ],
          "histogram2d": [
           {
            "colorbar": {
             "outlinewidth": 0,
             "ticks": ""
            },
            "colorscale": [
             [
              0,
              "#0d0887"
             ],
             [
              0.1111111111111111,
              "#46039f"
             ],
             [
              0.2222222222222222,
              "#7201a8"
             ],
             [
              0.3333333333333333,
              "#9c179e"
             ],
             [
              0.4444444444444444,
              "#bd3786"
             ],
             [
              0.5555555555555556,
              "#d8576b"
             ],
             [
              0.6666666666666666,
              "#ed7953"
             ],
             [
              0.7777777777777778,
              "#fb9f3a"
             ],
             [
              0.8888888888888888,
              "#fdca26"
             ],
             [
              1,
              "#f0f921"
             ]
            ],
            "type": "histogram2d"
           }
          ],
          "histogram2dcontour": [
           {
            "colorbar": {
             "outlinewidth": 0,
             "ticks": ""
            },
            "colorscale": [
             [
              0,
              "#0d0887"
             ],
             [
              0.1111111111111111,
              "#46039f"
             ],
             [
              0.2222222222222222,
              "#7201a8"
             ],
             [
              0.3333333333333333,
              "#9c179e"
             ],
             [
              0.4444444444444444,
              "#bd3786"
             ],
             [
              0.5555555555555556,
              "#d8576b"
             ],
             [
              0.6666666666666666,
              "#ed7953"
             ],
             [
              0.7777777777777778,
              "#fb9f3a"
             ],
             [
              0.8888888888888888,
              "#fdca26"
             ],
             [
              1,
              "#f0f921"
             ]
            ],
            "type": "histogram2dcontour"
           }
          ],
          "mesh3d": [
           {
            "colorbar": {
             "outlinewidth": 0,
             "ticks": ""
            },
            "type": "mesh3d"
           }
          ],
          "parcoords": [
           {
            "line": {
             "colorbar": {
              "outlinewidth": 0,
              "ticks": ""
             }
            },
            "type": "parcoords"
           }
          ],
          "pie": [
           {
            "automargin": true,
            "type": "pie"
           }
          ],
          "scatter": [
           {
            "fillpattern": {
             "fillmode": "overlay",
             "size": 10,
             "solidity": 0.2
            },
            "type": "scatter"
           }
          ],
          "scatter3d": [
           {
            "line": {
             "colorbar": {
              "outlinewidth": 0,
              "ticks": ""
             }
            },
            "marker": {
             "colorbar": {
              "outlinewidth": 0,
              "ticks": ""
             }
            },
            "type": "scatter3d"
           }
          ],
          "scattercarpet": [
           {
            "marker": {
             "colorbar": {
              "outlinewidth": 0,
              "ticks": ""
             }
            },
            "type": "scattercarpet"
           }
          ],
          "scattergeo": [
           {
            "marker": {
             "colorbar": {
              "outlinewidth": 0,
              "ticks": ""
             }
            },
            "type": "scattergeo"
           }
          ],
          "scattergl": [
           {
            "marker": {
             "colorbar": {
              "outlinewidth": 0,
              "ticks": ""
             }
            },
            "type": "scattergl"
           }
          ],
          "scattermapbox": [
           {
            "marker": {
             "colorbar": {
              "outlinewidth": 0,
              "ticks": ""
             }
            },
            "type": "scattermapbox"
           }
          ],
          "scatterpolar": [
           {
            "marker": {
             "colorbar": {
              "outlinewidth": 0,
              "ticks": ""
             }
            },
            "type": "scatterpolar"
           }
          ],
          "scatterpolargl": [
           {
            "marker": {
             "colorbar": {
              "outlinewidth": 0,
              "ticks": ""
             }
            },
            "type": "scatterpolargl"
           }
          ],
          "scatterternary": [
           {
            "marker": {
             "colorbar": {
              "outlinewidth": 0,
              "ticks": ""
             }
            },
            "type": "scatterternary"
           }
          ],
          "surface": [
           {
            "colorbar": {
             "outlinewidth": 0,
             "ticks": ""
            },
            "colorscale": [
             [
              0,
              "#0d0887"
             ],
             [
              0.1111111111111111,
              "#46039f"
             ],
             [
              0.2222222222222222,
              "#7201a8"
             ],
             [
              0.3333333333333333,
              "#9c179e"
             ],
             [
              0.4444444444444444,
              "#bd3786"
             ],
             [
              0.5555555555555556,
              "#d8576b"
             ],
             [
              0.6666666666666666,
              "#ed7953"
             ],
             [
              0.7777777777777778,
              "#fb9f3a"
             ],
             [
              0.8888888888888888,
              "#fdca26"
             ],
             [
              1,
              "#f0f921"
             ]
            ],
            "type": "surface"
           }
          ],
          "table": [
           {
            "cells": {
             "fill": {
              "color": "#EBF0F8"
             },
             "line": {
              "color": "white"
             }
            },
            "header": {
             "fill": {
              "color": "#C8D4E3"
             },
             "line": {
              "color": "white"
             }
            },
            "type": "table"
           }
          ]
         },
         "layout": {
          "annotationdefaults": {
           "arrowcolor": "#2a3f5f",
           "arrowhead": 0,
           "arrowwidth": 1
          },
          "autotypenumbers": "strict",
          "coloraxis": {
           "colorbar": {
            "outlinewidth": 0,
            "ticks": ""
           }
          },
          "colorscale": {
           "diverging": [
            [
             0,
             "#8e0152"
            ],
            [
             0.1,
             "#c51b7d"
            ],
            [
             0.2,
             "#de77ae"
            ],
            [
             0.3,
             "#f1b6da"
            ],
            [
             0.4,
             "#fde0ef"
            ],
            [
             0.5,
             "#f7f7f7"
            ],
            [
             0.6,
             "#e6f5d0"
            ],
            [
             0.7,
             "#b8e186"
            ],
            [
             0.8,
             "#7fbc41"
            ],
            [
             0.9,
             "#4d9221"
            ],
            [
             1,
             "#276419"
            ]
           ],
           "sequential": [
            [
             0,
             "#0d0887"
            ],
            [
             0.1111111111111111,
             "#46039f"
            ],
            [
             0.2222222222222222,
             "#7201a8"
            ],
            [
             0.3333333333333333,
             "#9c179e"
            ],
            [
             0.4444444444444444,
             "#bd3786"
            ],
            [
             0.5555555555555556,
             "#d8576b"
            ],
            [
             0.6666666666666666,
             "#ed7953"
            ],
            [
             0.7777777777777778,
             "#fb9f3a"
            ],
            [
             0.8888888888888888,
             "#fdca26"
            ],
            [
             1,
             "#f0f921"
            ]
           ],
           "sequentialminus": [
            [
             0,
             "#0d0887"
            ],
            [
             0.1111111111111111,
             "#46039f"
            ],
            [
             0.2222222222222222,
             "#7201a8"
            ],
            [
             0.3333333333333333,
             "#9c179e"
            ],
            [
             0.4444444444444444,
             "#bd3786"
            ],
            [
             0.5555555555555556,
             "#d8576b"
            ],
            [
             0.6666666666666666,
             "#ed7953"
            ],
            [
             0.7777777777777778,
             "#fb9f3a"
            ],
            [
             0.8888888888888888,
             "#fdca26"
            ],
            [
             1,
             "#f0f921"
            ]
           ]
          },
          "colorway": [
           "#636efa",
           "#EF553B",
           "#00cc96",
           "#ab63fa",
           "#FFA15A",
           "#19d3f3",
           "#FF6692",
           "#B6E880",
           "#FF97FF",
           "#FECB52"
          ],
          "font": {
           "color": "#2a3f5f"
          },
          "geo": {
           "bgcolor": "white",
           "lakecolor": "white",
           "landcolor": "#E5ECF6",
           "showlakes": true,
           "showland": true,
           "subunitcolor": "white"
          },
          "hoverlabel": {
           "align": "left"
          },
          "hovermode": "closest",
          "mapbox": {
           "style": "light"
          },
          "paper_bgcolor": "white",
          "plot_bgcolor": "#E5ECF6",
          "polar": {
           "angularaxis": {
            "gridcolor": "white",
            "linecolor": "white",
            "ticks": ""
           },
           "bgcolor": "#E5ECF6",
           "radialaxis": {
            "gridcolor": "white",
            "linecolor": "white",
            "ticks": ""
           }
          },
          "scene": {
           "xaxis": {
            "backgroundcolor": "#E5ECF6",
            "gridcolor": "white",
            "gridwidth": 2,
            "linecolor": "white",
            "showbackground": true,
            "ticks": "",
            "zerolinecolor": "white"
           },
           "yaxis": {
            "backgroundcolor": "#E5ECF6",
            "gridcolor": "white",
            "gridwidth": 2,
            "linecolor": "white",
            "showbackground": true,
            "ticks": "",
            "zerolinecolor": "white"
           },
           "zaxis": {
            "backgroundcolor": "#E5ECF6",
            "gridcolor": "white",
            "gridwidth": 2,
            "linecolor": "white",
            "showbackground": true,
            "ticks": "",
            "zerolinecolor": "white"
           }
          },
          "shapedefaults": {
           "line": {
            "color": "#2a3f5f"
           }
          },
          "ternary": {
           "aaxis": {
            "gridcolor": "white",
            "linecolor": "white",
            "ticks": ""
           },
           "baxis": {
            "gridcolor": "white",
            "linecolor": "white",
            "ticks": ""
           },
           "bgcolor": "#E5ECF6",
           "caxis": {
            "gridcolor": "white",
            "linecolor": "white",
            "ticks": ""
           }
          },
          "title": {
           "x": 0.05
          },
          "xaxis": {
           "automargin": true,
           "gridcolor": "white",
           "linecolor": "white",
           "ticks": "",
           "title": {
            "standoff": 15
           },
           "zerolinecolor": "white",
           "zerolinewidth": 2
          },
          "yaxis": {
           "automargin": true,
           "gridcolor": "white",
           "linecolor": "white",
           "ticks": "",
           "title": {
            "standoff": 15
           },
           "zerolinecolor": "white",
           "zerolinewidth": 2
          }
         }
        },
        "title": {
         "text": "Sentiment Analysis on Topic 0"
        },
        "xaxis": {
         "anchor": "y",
         "domain": [
          0,
          1
         ],
         "title": {
          "text": "Subjectivity Score"
         }
        },
        "yaxis": {
         "anchor": "x",
         "domain": [
          0,
          1
         ],
         "title": {
          "text": "Sentiment Score"
         }
        }
       }
      }
     },
     "metadata": {},
     "output_type": "display_data"
    },
    {
     "data": {
      "image/png": "[encoded data removed]",
      "text/plain": [
       "<Figure size 432x432 with 1 Axes>"
      ]
     },
     "metadata": {
      "needs_background": "light"
     },
     "output_type": "display_data"
    },
    {
     "data": {
      "application/vnd.plotly.v1+json": {
       "config": {
        "plotlyServerURL": "https://plot.ly"
       },
       "data": [
        {
         "hovertemplate": "<b>%{hovertext}</b><br><br>Subjectivity Score=%{x}<br>Sentiment Score=%{y}<br>Main Topic Score=%{marker.size}<extra></extra>",
         "hovertext": [
          "www.washingtonpost.com",
          "www.startribune.com",
          "www.wmur.com",
          "www.washingtonpost.com",
          "abcnews.go.com",
          "www.foxnews.com",
          "www.nbcnews.com",
          "www.politico.com",
          "apnews.com",
          "www.politico.com",
          "www.thenation.com",
          "www.newsnationnow.com",
          "www.foxnews.com",
          "apnews.com"
         ],
         "legendgroup": "",
         "marker": {
          "color": "#636efa",
          "size": [
           0.7592456340789795,
           0.99568110704422,
           0.9966387748718262,
           0.9988642334938049,
           0.9975301027297974,
           0.9958744645118713,
           0.9981726408004761,
           0.9863125681877136,
           0.9983640313148499,
           0.9621244072914124,
           0.9990738034248352,
           0.8776475191116333,
           0.9974214434623718,
           0.48935946822166443
          ],
          "sizemode": "area",
          "sizeref": 0.002497684508562088,
          "symbol": "circle"
         },
         "mode": "markers",
         "name": "",
         "orientation": "v",
         "showlegend": false,
         "type": "scatter",
         "x": [
          0.37,
          0.42,
          0.47,
          0.38,
          0.46,
          0.39,
          0.41,
          0.51,
          0.47,
          0.5,
          0.44,
          0.43,
          0.46,
          0.37
         ],
         "xaxis": "x",
         "y": [
          0.05,
          0.14,
          0.22,
          0.13,
          0.09,
          0,
          0.04,
          0.21,
          0.17,
          0.12,
          0.09,
          0.14,
          0.08,
          0.02
         ],
         "yaxis": "y"
        }
       ],
       "layout": {
        "legend": {
         "itemsizing": "constant",
         "tracegroupgap": 0
        },
        "template": {
         "data": {
          "bar": [
           {
            "error_x": {
             "color": "#2a3f5f"
            },
            "error_y": {
             "color": "#2a3f5f"
            },
            "marker": {
             "line": {
              "color": "#E5ECF6",
              "width": 0.5
             },
             "pattern": {
              "fillmode": "overlay",
              "size": 10,
              "solidity": 0.2
             }
            },
            "type": "bar"
           }
          ],
          "barpolar": [
           {
            "marker": {
             "line": {
              "color": "#E5ECF6",
              "width": 0.5
             },
             "pattern": {
              "fillmode": "overlay",
              "size": 10,
              "solidity": 0.2
             }
            },
            "type": "barpolar"
           }
          ],
          "carpet": [
           {
            "aaxis": {
             "endlinecolor": "#2a3f5f",
             "gridcolor": "white",
             "linecolor": "white",
             "minorgridcolor": "white",
             "startlinecolor": "#2a3f5f"
            },
            "baxis": {
             "endlinecolor": "#2a3f5f",
             "gridcolor": "white",
             "linecolor": "white",
             "minorgridcolor": "white",
             "startlinecolor": "#2a3f5f"
            },
            "type": "carpet"
           }
          ],
          "choropleth": [
           {
            "colorbar": {
             "outlinewidth": 0,
             "ticks": ""
            },
            "type": "choropleth"
           }
          ],
          "contour": [
           {
            "colorbar": {
             "outlinewidth": 0,
             "ticks": ""
            },
            "colorscale": [
             [
              0,
              "#0d0887"
             ],
             [
              0.1111111111111111,
              "#46039f"
             ],
             [
              0.2222222222222222,
              "#7201a8"
             ],
             [
              0.3333333333333333,
              "#9c179e"
             ],
             [
              0.4444444444444444,
              "#bd3786"
             ],
             [
              0.5555555555555556,
              "#d8576b"
             ],
             [
              0.6666666666666666,
              "#ed7953"
             ],
             [
              0.7777777777777778,
              "#fb9f3a"
             ],
             [
              0.8888888888888888,
              "#fdca26"
             ],
             [
              1,
              "#f0f921"
             ]
            ],
            "type": "contour"
           }
          ],
          "contourcarpet": [
           {
            "colorbar": {
             "outlinewidth": 0,
             "ticks": ""
            },
            "type": "contourcarpet"
           }
          ],
          "heatmap": [
           {
            "colorbar": {
             "outlinewidth": 0,
             "ticks": ""
            },
            "colorscale": [
             [
              0,
              "#0d0887"
             ],
             [
              0.1111111111111111,
              "#46039f"
             ],
             [
              0.2222222222222222,
              "#7201a8"
             ],
             [
              0.3333333333333333,
              "#9c179e"
             ],
             [
              0.4444444444444444,
              "#bd3786"
             ],
             [
              0.5555555555555556,
              "#d8576b"
             ],
             [
              0.6666666666666666,
              "#ed7953"
             ],
             [
              0.7777777777777778,
              "#fb9f3a"
             ],
             [
              0.8888888888888888,
              "#fdca26"
             ],
             [
              1,
              "#f0f921"
             ]
            ],
            "type": "heatmap"
           }
          ],
          "heatmapgl": [
           {
            "colorbar": {
             "outlinewidth": 0,
             "ticks": ""
            },
            "colorscale": [
             [
              0,
              "#0d0887"
             ],
             [
              0.1111111111111111,
              "#46039f"
             ],
             [
              0.2222222222222222,
              "#7201a8"
             ],
             [
              0.3333333333333333,
              "#9c179e"
             ],
             [
              0.4444444444444444,
              "#bd3786"
             ],
             [
              0.5555555555555556,
              "#d8576b"
             ],
             [
              0.6666666666666666,
              "#ed7953"
             ],
             [
              0.7777777777777778,
              "#fb9f3a"
             ],
             [
              0.8888888888888888,
              "#fdca26"
             ],
             [
              1,
              "#f0f921"
             ]
            ],
            "type": "heatmapgl"
           }
          ],
          "histogram": [
           {
            "marker": {
             "pattern": {
              "fillmode": "overlay",
              "size": 10,
              "solidity": 0.2
             }
            },
            "type": "histogram"
           }
          ],
          "histogram2d": [
           {
            "colorbar": {
             "outlinewidth": 0,
             "ticks": ""
            },
            "colorscale": [
             [
              0,
              "#0d0887"
             ],
             [
              0.1111111111111111,
              "#46039f"
             ],
             [
              0.2222222222222222,
              "#7201a8"
             ],
             [
              0.3333333333333333,
              "#9c179e"
             ],
             [
              0.4444444444444444,
              "#bd3786"
             ],
             [
              0.5555555555555556,
              "#d8576b"
             ],
             [
              0.6666666666666666,
              "#ed7953"
             ],
             [
              0.7777777777777778,
              "#fb9f3a"
             ],
             [
              0.8888888888888888,
              "#fdca26"
             ],
             [
              1,
              "#f0f921"
             ]
            ],
            "type": "histogram2d"
           }
          ],
          "histogram2dcontour": [
           {
            "colorbar": {
             "outlinewidth": 0,
             "ticks": ""
            },
            "colorscale": [
             [
              0,
              "#0d0887"
             ],
             [
              0.1111111111111111,
              "#46039f"
             ],
             [
              0.2222222222222222,
              "#7201a8"
             ],
             [
              0.3333333333333333,
              "#9c179e"
             ],
             [
              0.4444444444444444,
              "#bd3786"
             ],
             [
              0.5555555555555556,
              "#d8576b"
             ],
             [
              0.6666666666666666,
              "#ed7953"
             ],
             [
              0.7777777777777778,
              "#fb9f3a"
             ],
             [
              0.8888888888888888,
              "#fdca26"
             ],
             [
              1,
              "#f0f921"
             ]
            ],
            "type": "histogram2dcontour"
           }
          ],
          "mesh3d": [
           {
            "colorbar": {
             "outlinewidth": 0,
             "ticks": ""
            },
            "type": "mesh3d"
           }
          ],
          "parcoords": [
           {
            "line": {
             "colorbar": {
              "outlinewidth": 0,
              "ticks": ""
             }
            },
            "type": "parcoords"
           }
          ],
          "pie": [
           {
            "automargin": true,
            "type": "pie"
           }
          ],
          "scatter": [
           {
            "fillpattern": {
             "fillmode": "overlay",
             "size": 10,
             "solidity": 0.2
            },
            "type": "scatter"
           }
          ],
          "scatter3d": [
           {
            "line": {
             "colorbar": {
              "outlinewidth": 0,
              "ticks": ""
             }
            },
            "marker": {
             "colorbar": {
              "outlinewidth": 0,
              "ticks": ""
             }
            },
            "type": "scatter3d"
           }
          ],
          "scattercarpet": [
           {
            "marker": {
             "colorbar": {
              "outlinewidth": 0,
              "ticks": ""
             }
            },
            "type": "scattercarpet"
           }
          ],
          "scattergeo": [
           {
            "marker": {
             "colorbar": {
              "outlinewidth": 0,
              "ticks": ""
             }
            },
            "type": "scattergeo"
           }
          ],
          "scattergl": [
           {
            "marker": {
             "colorbar": {
              "outlinewidth": 0,
              "ticks": ""
             }
            },
            "type": "scattergl"
           }
          ],
          "scattermapbox": [
           {
            "marker": {
             "colorbar": {
              "outlinewidth": 0,
              "ticks": ""
             }
            },
            "type": "scattermapbox"
           }
          ],
          "scatterpolar": [
           {
            "marker": {
             "colorbar": {
              "outlinewidth": 0,
              "ticks": ""
             }
            },
            "type": "scatterpolar"
           }
          ],
          "scatterpolargl": [
           {
            "marker": {
             "colorbar": {
              "outlinewidth": 0,
              "ticks": ""
             }
            },
            "type": "scatterpolargl"
           }
          ],
          "scatterternary": [
           {
            "marker": {
             "colorbar": {
              "outlinewidth": 0,
              "ticks": ""
             }
            },
            "type": "scatterternary"
           }
          ],
          "surface": [
           {
            "colorbar": {
             "outlinewidth": 0,
             "ticks": ""
            },
            "colorscale": [
             [
              0,
              "#0d0887"
             ],
             [
              0.1111111111111111,
              "#46039f"
             ],
             [
              0.2222222222222222,
              "#7201a8"
             ],
             [
              0.3333333333333333,
              "#9c179e"
             ],
             [
              0.4444444444444444,
              "#bd3786"
             ],
             [
              0.5555555555555556,
              "#d8576b"
             ],
             [
              0.6666666666666666,
              "#ed7953"
             ],
             [
              0.7777777777777778,
              "#fb9f3a"
             ],
             [
              0.8888888888888888,
              "#fdca26"
             ],
             [
              1,
              "#f0f921"
             ]
            ],
            "type": "surface"
           }
          ],
          "table": [
           {
            "cells": {
             "fill": {
              "color": "#EBF0F8"
             },
             "line": {
              "color": "white"
             }
            },
            "header": {
             "fill": {
              "color": "#C8D4E3"
             },
             "line": {
              "color": "white"
             }
            },
            "type": "table"
           }
          ]
         },
         "layout": {
          "annotationdefaults": {
           "arrowcolor": "#2a3f5f",
           "arrowhead": 0,
           "arrowwidth": 1
          },
          "autotypenumbers": "strict",
          "coloraxis": {
           "colorbar": {
            "outlinewidth": 0,
            "ticks": ""
           }
          },
          "colorscale": {
           "diverging": [
            [
             0,
             "#8e0152"
            ],
            [
             0.1,
             "#c51b7d"
            ],
            [
             0.2,
             "#de77ae"
            ],
            [
             0.3,
             "#f1b6da"
            ],
            [
             0.4,
             "#fde0ef"
            ],
            [
             0.5,
             "#f7f7f7"
            ],
            [
             0.6,
             "#e6f5d0"
            ],
            [
             0.7,
             "#b8e186"
            ],
            [
             0.8,
             "#7fbc41"
            ],
            [
             0.9,
             "#4d9221"
            ],
            [
             1,
             "#276419"
            ]
           ],
           "sequential": [
            [
             0,
             "#0d0887"
            ],
            [
             0.1111111111111111,
             "#46039f"
            ],
            [
             0.2222222222222222,
             "#7201a8"
            ],
            [
             0.3333333333333333,
             "#9c179e"
            ],
            [
             0.4444444444444444,
             "#bd3786"
            ],
            [
             0.5555555555555556,
             "#d8576b"
            ],
            [
             0.6666666666666666,
             "#ed7953"
            ],
            [
             0.7777777777777778,
             "#fb9f3a"
            ],
            [
             0.8888888888888888,
             "#fdca26"
            ],
            [
             1,
             "#f0f921"
            ]
           ],
           "sequentialminus": [
            [
             0,
             "#0d0887"
            ],
            [
             0.1111111111111111,
             "#46039f"
            ],
            [
             0.2222222222222222,
             "#7201a8"
            ],
            [
             0.3333333333333333,
             "#9c179e"
            ],
            [
             0.4444444444444444,
             "#bd3786"
            ],
            [
             0.5555555555555556,
             "#d8576b"
            ],
            [
             0.6666666666666666,
             "#ed7953"
            ],
            [
             0.7777777777777778,
             "#fb9f3a"
            ],
            [
             0.8888888888888888,
             "#fdca26"
            ],
            [
             1,
             "#f0f921"
            ]
           ]
          },
          "colorway": [
           "#636efa",
           "#EF553B",
           "#00cc96",
           "#ab63fa",
           "#FFA15A",
           "#19d3f3",
           "#FF6692",
           "#B6E880",
           "#FF97FF",
           "#FECB52"
          ],
          "font": {
           "color": "#2a3f5f"
          },
          "geo": {
           "bgcolor": "white",
           "lakecolor": "white",
           "landcolor": "#E5ECF6",
           "showlakes": true,
           "showland": true,
           "subunitcolor": "white"
          },
          "hoverlabel": {
           "align": "left"
          },
          "hovermode": "closest",
          "mapbox": {
           "style": "light"
          },
          "paper_bgcolor": "white",
          "plot_bgcolor": "#E5ECF6",
          "polar": {
           "angularaxis": {
            "gridcolor": "white",
            "linecolor": "white",
            "ticks": ""
           },
           "bgcolor": "#E5ECF6",
           "radialaxis": {
            "gridcolor": "white",
            "linecolor": "white",
            "ticks": ""
           }
          },
          "scene": {
           "xaxis": {
            "backgroundcolor": "#E5ECF6",
            "gridcolor": "white",
            "gridwidth": 2,
            "linecolor": "white",
            "showbackground": true,
            "ticks": "",
            "zerolinecolor": "white"
           },
           "yaxis": {
            "backgroundcolor": "#E5ECF6",
            "gridcolor": "white",
            "gridwidth": 2,
            "linecolor": "white",
            "showbackground": true,
            "ticks": "",
            "zerolinecolor": "white"
           },
           "zaxis": {
            "backgroundcolor": "#E5ECF6",
            "gridcolor": "white",
            "gridwidth": 2,
            "linecolor": "white",
            "showbackground": true,
            "ticks": "",
            "zerolinecolor": "white"
           }
          },
          "shapedefaults": {
           "line": {
            "color": "#2a3f5f"
           }
          },
          "ternary": {
           "aaxis": {
            "gridcolor": "white",
            "linecolor": "white",
            "ticks": ""
           },
           "baxis": {
            "gridcolor": "white",
            "linecolor": "white",
            "ticks": ""
           },
           "bgcolor": "#E5ECF6",
           "caxis": {
            "gridcolor": "white",
            "linecolor": "white",
            "ticks": ""
           }
          },
          "title": {
           "x": 0.05
          },
          "xaxis": {
           "automargin": true,
           "gridcolor": "white",
           "linecolor": "white",
           "ticks": "",
           "title": {
            "standoff": 15
           },
           "zerolinecolor": "white",
           "zerolinewidth": 2
          },
          "yaxis": {
           "automargin": true,
           "gridcolor": "white",
           "linecolor": "white",
           "ticks": "",
           "title": {
            "standoff": 15
           },
           "zerolinecolor": "white",
           "zerolinewidth": 2
          }
         }
        },
        "title": {
         "text": "Sentiment Analysis on Topic 1"
        },
        "xaxis": {
         "anchor": "y",
         "domain": [
          0,
          1
         ],
         "title": {
          "text": "Subjectivity Score"
         }
        },
        "yaxis": {
         "anchor": "x",
         "domain": [
          0,
          1
         ],
         "title": {
          "text": "Sentiment Score"
         }
        }
       }
      }
     },
     "metadata": {},
     "output_type": "display_data"
    },
    {
     "data": {
      "image/png": "[encoded data removed]",
      "text/plain": [
       "<Figure size 432x432 with 1 Axes>"
      ]
     },
     "metadata": {
      "needs_background": "light"
     },
     "output_type": "display_data"
    },
    {
     "data": {
      "application/vnd.plotly.v1+json": {
       "config": {
        "plotlyServerURL": "https://plot.ly"
       },
       "data": [
        {
         "hovertemplate": "<b>%{hovertext}</b><br><br>Subjectivity Score=%{x}<br>Sentiment Score=%{y}<br>Main Topic Score=%{marker.size}<extra></extra>",
         "hovertext": [
          "nypost.com",
          "www.grassley.senate.gov",
          "www.foxnews.com",
          "www.dailymail.co.uk",
          "thefederalist.com",
          "www.washingtontimes.com",
          "www.usatoday.com",
          "nypost.com",
          "wjla.com"
         ],
         "legendgroup": "",
         "marker": {
          "color": "#636efa",
          "size": [
           0.9979532361030579,
           0.995551586151123,
           0.9989196062088013,
           0.9977553486824036,
           0.7714716196060181,
           0.9955892562866211,
           0.4647253155708313,
           0.8851465582847595,
           0.6221942901611328
          ],
          "sizemode": "area",
          "sizeref": 0.002497299015522003,
          "symbol": "circle"
         },
         "mode": "markers",
         "name": "",
         "orientation": "v",
         "showlegend": false,
         "type": "scatter",
         "x": [
          0.42,
          0.39,
          0.34,
          0.39,
          0.37,
          0.4,
          0.41,
          0.45,
          0.35
         ],
         "xaxis": "x",
         "y": [
          0.07,
          0,
          -0.03,
          -0.03,
          0.01,
          0.09,
          0.2,
          0.03,
          -0.02
         ],
         "yaxis": "y"
        }
       ],
       "layout": {
        "legend": {
         "itemsizing": "constant",
         "tracegroupgap": 0
        },
        "template": {
         "data": {
          "bar": [
           {
            "error_x": {
             "color": "#2a3f5f"
            },
            "error_y": {
             "color": "#2a3f5f"
            },
            "marker": {
             "line": {
              "color": "#E5ECF6",
              "width": 0.5
             },
             "pattern": {
              "fillmode": "overlay",
              "size": 10,
              "solidity": 0.2
             }
            },
            "type": "bar"
           }
          ],
          "barpolar": [
           {
            "marker": {
             "line": {
              "color": "#E5ECF6",
              "width": 0.5
             },
             "pattern": {
              "fillmode": "overlay",
              "size": 10,
              "solidity": 0.2
             }
            },
            "type": "barpolar"
           }
          ],
          "carpet": [
           {
            "aaxis": {
             "endlinecolor": "#2a3f5f",
             "gridcolor": "white",
             "linecolor": "white",
             "minorgridcolor": "white",
             "startlinecolor": "#2a3f5f"
            },
            "baxis": {
             "endlinecolor": "#2a3f5f",
             "gridcolor": "white",
             "linecolor": "white",
             "minorgridcolor": "white",
             "startlinecolor": "#2a3f5f"
            },
            "type": "carpet"
           }
          ],
          "choropleth": [
           {
            "colorbar": {
             "outlinewidth": 0,
             "ticks": ""
            },
            "type": "choropleth"
           }
          ],
          "contour": [
           {
            "colorbar": {
             "outlinewidth": 0,
             "ticks": ""
            },
            "colorscale": [
             [
              0,
              "#0d0887"
             ],
             [
              0.1111111111111111,
              "#46039f"
             ],
             [
              0.2222222222222222,
              "#7201a8"
             ],
             [
              0.3333333333333333,
              "#9c179e"
             ],
             [
              0.4444444444444444,
              "#bd3786"
             ],
             [
              0.5555555555555556,
              "#d8576b"
             ],
             [
              0.6666666666666666,
              "#ed7953"
             ],
             [
              0.7777777777777778,
              "#fb9f3a"
             ],
             [
              0.8888888888888888,
              "#fdca26"
             ],
             [
              1,
              "#f0f921"
             ]
            ],
            "type": "contour"
           }
          ],
          "contourcarpet": [
           {
            "colorbar": {
             "outlinewidth": 0,
             "ticks": ""
            },
            "type": "contourcarpet"
           }
          ],
          "heatmap": [
           {
            "colorbar": {
             "outlinewidth": 0,
             "ticks": ""
            },
            "colorscale": [
             [
              0,
              "#0d0887"
             ],
             [
              0.1111111111111111,
              "#46039f"
             ],
             [
              0.2222222222222222,
              "#7201a8"
             ],
             [
              0.3333333333333333,
              "#9c179e"
             ],
             [
              0.4444444444444444,
              "#bd3786"
             ],
             [
              0.5555555555555556,
              "#d8576b"
             ],
             [
              0.6666666666666666,
              "#ed7953"
             ],
             [
              0.7777777777777778,
              "#fb9f3a"
             ],
             [
              0.8888888888888888,
              "#fdca26"
             ],
             [
              1,
              "#f0f921"
             ]
            ],
            "type": "heatmap"
           }
          ],
          "heatmapgl": [
           {
            "colorbar": {
             "outlinewidth": 0,
             "ticks": ""
            },
            "colorscale": [
             [
              0,
              "#0d0887"
             ],
             [
              0.1111111111111111,
              "#46039f"
             ],
             [
              0.2222222222222222,
              "#7201a8"
             ],
             [
              0.3333333333333333,
              "#9c179e"
             ],
             [
              0.4444444444444444,
              "#bd3786"
             ],
             [
              0.5555555555555556,
              "#d8576b"
             ],
             [
              0.6666666666666666,
              "#ed7953"
             ],
             [
              0.7777777777777778,
              "#fb9f3a"
             ],
             [
              0.8888888888888888,
              "#fdca26"
             ],
             [
              1,
              "#f0f921"
             ]
            ],
            "type": "heatmapgl"
           }
          ],
          "histogram": [
           {
            "marker": {
             "pattern": {
              "fillmode": "overlay",
              "size": 10,
              "solidity": 0.2
             }
            },
            "type": "histogram"
           }
          ],
          "histogram2d": [
           {
            "colorbar": {
             "outlinewidth": 0,
             "ticks": ""
            },
            "colorscale": [
             [
              0,
              "#0d0887"
             ],
             [
              0.1111111111111111,
              "#46039f"
             ],
             [
              0.2222222222222222,
              "#7201a8"
             ],
             [
              0.3333333333333333,
              "#9c179e"
             ],
             [
              0.4444444444444444,
              "#bd3786"
             ],
             [
              0.5555555555555556,
              "#d8576b"
             ],
             [
              0.6666666666666666,
              "#ed7953"
             ],
             [
              0.7777777777777778,
              "#fb9f3a"
             ],
             [
              0.8888888888888888,
              "#fdca26"
             ],
             [
              1,
              "#f0f921"
             ]
            ],
            "type": "histogram2d"
           }
          ],
          "histogram2dcontour": [
           {
            "colorbar": {
             "outlinewidth": 0,
             "ticks": ""
            },
            "colorscale": [
             [
              0,
              "#0d0887"
             ],
             [
              0.1111111111111111,
              "#46039f"
             ],
             [
              0.2222222222222222,
              "#7201a8"
             ],
             [
              0.3333333333333333,
              "#9c179e"
             ],
             [
              0.4444444444444444,
              "#bd3786"
             ],
             [
              0.5555555555555556,
              "#d8576b"
             ],
             [
              0.6666666666666666,
              "#ed7953"
             ],
             [
              0.7777777777777778,
              "#fb9f3a"
             ],
             [
              0.8888888888888888,
              "#fdca26"
             ],
             [
              1,
              "#f0f921"
             ]
            ],
            "type": "histogram2dcontour"
           }
          ],
          "mesh3d": [
           {
            "colorbar": {
             "outlinewidth": 0,
             "ticks": ""
            },
            "type": "mesh3d"
           }
          ],
          "parcoords": [
           {
            "line": {
             "colorbar": {
              "outlinewidth": 0,
              "ticks": ""
             }
            },
            "type": "parcoords"
           }
          ],
          "pie": [
           {
            "automargin": true,
            "type": "pie"
           }
          ],
          "scatter": [
           {
            "fillpattern": {
             "fillmode": "overlay",
             "size": 10,
             "solidity": 0.2
            },
            "type": "scatter"
           }
          ],
          "scatter3d": [
           {
            "line": {
             "colorbar": {
              "outlinewidth": 0,
              "ticks": ""
             }
            },
            "marker": {
             "colorbar": {
              "outlinewidth": 0,
              "ticks": ""
             }
            },
            "type": "scatter3d"
           }
          ],
          "scattercarpet": [
           {
            "marker": {
             "colorbar": {
              "outlinewidth": 0,
              "ticks": ""
             }
            },
            "type": "scattercarpet"
           }
          ],
          "scattergeo": [
           {
            "marker": {
             "colorbar": {
              "outlinewidth": 0,
              "ticks": ""
             }
            },
            "type": "scattergeo"
           }
          ],
          "scattergl": [
           {
            "marker": {
             "colorbar": {
              "outlinewidth": 0,
              "ticks": ""
             }
            },
            "type": "scattergl"
           }
          ],
          "scattermapbox": [
           {
            "marker": {
             "colorbar": {
              "outlinewidth": 0,
              "ticks": ""
             }
            },
            "type": "scattermapbox"
           }
          ],
          "scatterpolar": [
           {
            "marker": {
             "colorbar": {
              "outlinewidth": 0,
              "ticks": ""
             }
            },
            "type": "scatterpolar"
           }
          ],
          "scatterpolargl": [
           {
            "marker": {
             "colorbar": {
              "outlinewidth": 0,
              "ticks": ""
             }
            },
            "type": "scatterpolargl"
           }
          ],
          "scatterternary": [
           {
            "marker": {
             "colorbar": {
              "outlinewidth": 0,
              "ticks": ""
             }
            },
            "type": "scatterternary"
           }
          ],
          "surface": [
           {
            "colorbar": {
             "outlinewidth": 0,
             "ticks": ""
            },
            "colorscale": [
             [
              0,
              "#0d0887"
             ],
             [
              0.1111111111111111,
              "#46039f"
             ],
             [
              0.2222222222222222,
              "#7201a8"
             ],
             [
              0.3333333333333333,
              "#9c179e"
             ],
             [
              0.4444444444444444,
              "#bd3786"
             ],
             [
              0.5555555555555556,
              "#d8576b"
             ],
             [
              0.6666666666666666,
              "#ed7953"
             ],
             [
              0.7777777777777778,
              "#fb9f3a"
             ],
             [
              0.8888888888888888,
              "#fdca26"
             ],
             [
              1,
              "#f0f921"
             ]
            ],
            "type": "surface"
           }
          ],
          "table": [
           {
            "cells": {
             "fill": {
              "color": "#EBF0F8"
             },
             "line": {
              "color": "white"
             }
            },
            "header": {
             "fill": {
              "color": "#C8D4E3"
             },
             "line": {
              "color": "white"
             }
            },
            "type": "table"
           }
          ]
         },
         "layout": {
          "annotationdefaults": {
           "arrowcolor": "#2a3f5f",
           "arrowhead": 0,
           "arrowwidth": 1
          },
          "autotypenumbers": "strict",
          "coloraxis": {
           "colorbar": {
            "outlinewidth": 0,
            "ticks": ""
           }
          },
          "colorscale": {
           "diverging": [
            [
             0,
             "#8e0152"
            ],
            [
             0.1,
             "#c51b7d"
            ],
            [
             0.2,
             "#de77ae"
            ],
            [
             0.3,
             "#f1b6da"
            ],
            [
             0.4,
             "#fde0ef"
            ],
            [
             0.5,
             "#f7f7f7"
            ],
            [
             0.6,
             "#e6f5d0"
            ],
            [
             0.7,
             "#b8e186"
            ],
            [
             0.8,
             "#7fbc41"
            ],
            [
             0.9,
             "#4d9221"
            ],
            [
             1,
             "#276419"
            ]
           ],
           "sequential": [
            [
             0,
             "#0d0887"
            ],
            [
             0.1111111111111111,
             "#46039f"
            ],
            [
             0.2222222222222222,
             "#7201a8"
            ],
            [
             0.3333333333333333,
             "#9c179e"
            ],
            [
             0.4444444444444444,
             "#bd3786"
            ],
            [
             0.5555555555555556,
             "#d8576b"
            ],
            [
             0.6666666666666666,
             "#ed7953"
            ],
            [
             0.7777777777777778,
             "#fb9f3a"
            ],
            [
             0.8888888888888888,
             "#fdca26"
            ],
            [
             1,
             "#f0f921"
            ]
           ],
           "sequentialminus": [
            [
             0,
             "#0d0887"
            ],
            [
             0.1111111111111111,
             "#46039f"
            ],
            [
             0.2222222222222222,
             "#7201a8"
            ],
            [
             0.3333333333333333,
             "#9c179e"
            ],
            [
             0.4444444444444444,
             "#bd3786"
            ],
            [
             0.5555555555555556,
             "#d8576b"
            ],
            [
             0.6666666666666666,
             "#ed7953"
            ],
            [
             0.7777777777777778,
             "#fb9f3a"
            ],
            [
             0.8888888888888888,
             "#fdca26"
            ],
            [
             1,
             "#f0f921"
            ]
           ]
          },
          "colorway": [
           "#636efa",
           "#EF553B",
           "#00cc96",
           "#ab63fa",
           "#FFA15A",
           "#19d3f3",
           "#FF6692",
           "#B6E880",
           "#FF97FF",
           "#FECB52"
          ],
          "font": {
           "color": "#2a3f5f"
          },
          "geo": {
           "bgcolor": "white",
           "lakecolor": "white",
           "landcolor": "#E5ECF6",
           "showlakes": true,
           "showland": true,
           "subunitcolor": "white"
          },
          "hoverlabel": {
           "align": "left"
          },
          "hovermode": "closest",
          "mapbox": {
           "style": "light"
          },
          "paper_bgcolor": "white",
          "plot_bgcolor": "#E5ECF6",
          "polar": {
           "angularaxis": {
            "gridcolor": "white",
            "linecolor": "white",
            "ticks": ""
           },
           "bgcolor": "#E5ECF6",
           "radialaxis": {
            "gridcolor": "white",
            "linecolor": "white",
            "ticks": ""
           }
          },
          "scene": {
           "xaxis": {
            "backgroundcolor": "#E5ECF6",
            "gridcolor": "white",
            "gridwidth": 2,
            "linecolor": "white",
            "showbackground": true,
            "ticks": "",
            "zerolinecolor": "white"
           },
           "yaxis": {
            "backgroundcolor": "#E5ECF6",
            "gridcolor": "white",
            "gridwidth": 2,
            "linecolor": "white",
            "showbackground": true,
            "ticks": "",
            "zerolinecolor": "white"
           },
           "zaxis": {
            "backgroundcolor": "#E5ECF6",
            "gridcolor": "white",
            "gridwidth": 2,
            "linecolor": "white",
            "showbackground": true,
            "ticks": "",
            "zerolinecolor": "white"
           }
          },
          "shapedefaults": {
           "line": {
            "color": "#2a3f5f"
           }
          },
          "ternary": {
           "aaxis": {
            "gridcolor": "white",
            "linecolor": "white",
            "ticks": ""
           },
           "baxis": {
            "gridcolor": "white",
            "linecolor": "white",
            "ticks": ""
           },
           "bgcolor": "#E5ECF6",
           "caxis": {
            "gridcolor": "white",
            "linecolor": "white",
            "ticks": ""
           }
          },
          "title": {
           "x": 0.05
          },
          "xaxis": {
           "automargin": true,
           "gridcolor": "white",
           "linecolor": "white",
           "ticks": "",
           "title": {
            "standoff": 15
           },
           "zerolinecolor": "white",
           "zerolinewidth": 2
          },
          "yaxis": {
           "automargin": true,
           "gridcolor": "white",
           "linecolor": "white",
           "ticks": "",
           "title": {
            "standoff": 15
           },
           "zerolinecolor": "white",
           "zerolinewidth": 2
          }
         }
        },
        "title": {
         "text": "Sentiment Analysis on Topic 2"
        },
        "xaxis": {
         "anchor": "y",
         "domain": [
          0,
          1
         ],
         "title": {
          "text": "Subjectivity Score"
         }
        },
        "yaxis": {
         "anchor": "x",
         "domain": [
          0,
          1
         ],
         "title": {
          "text": "Sentiment Score"
         }
        }
       }
      }
     },
     "metadata": {},
     "output_type": "display_data"
    },
    {
     "data": {
      "image/png": "[encoded data removed]",
      "text/plain": [
       "<Figure size 432x432 with 1 Axes>"
      ]
     },
     "metadata": {
      "needs_background": "light"
     },
     "output_type": "display_data"
    }
   ],
   "source": [
    "# Using our list_of_topics_to_visualize list in the customizable settings, \n",
    "# produce a graph for each topic\n",
    "for topic_id in list_of_topics_to_visualize:\n",
    "    if topic_id <= len(lda_model.print_topics()):\n",
    "        visualize_single_topic_subjectivity_vs_sentiment(df, topic_id)\n",
    "        visualize_topic_word_cloud(lda_model, topic_id)\n",
    "    else:\n",
    "        print(\"Error, topic_id not availible\")\n"
   ]
  },
  {
   "cell_type": "markdown",
   "id": "f184ac6b",
   "metadata": {},
   "source": [
    "## K means Clustering"
   ]
  },
  {
   "cell_type": "markdown",
   "id": "84b465b0",
   "metadata": {},
   "source": [
    "Generate a visual of number of topic clusters vs inertia of the model (low inertia is good)"
   ]
  },
  {
   "cell_type": "code",
   "execution_count": 36,
   "id": "65098654",
   "metadata": {
    "scrolled": false
   },
   "outputs": [
    {
     "name": "stderr",
     "output_type": "stream",
     "text": [
      "c:\\Users\\seaha\\anaconda3\\envs\\434hw\\lib\\site-packages\\sklearn\\utils\\validation.py:767: FutureWarning:\n",
      "\n",
      "is_sparse is deprecated and will be removed in a future version. Check `isinstance(dtype, pd.SparseDtype)` instead.\n",
      "\n",
      "c:\\Users\\seaha\\anaconda3\\envs\\434hw\\lib\\site-packages\\sklearn\\utils\\validation.py:605: FutureWarning:\n",
      "\n",
      "is_sparse is deprecated and will be removed in a future version. Check `isinstance(dtype, pd.SparseDtype)` instead.\n",
      "\n",
      "c:\\Users\\seaha\\anaconda3\\envs\\434hw\\lib\\site-packages\\sklearn\\utils\\validation.py:614: FutureWarning:\n",
      "\n",
      "is_sparse is deprecated and will be removed in a future version. Check `isinstance(dtype, pd.SparseDtype)` instead.\n",
      "\n",
      "c:\\Users\\seaha\\anaconda3\\envs\\434hw\\lib\\site-packages\\sklearn\\cluster\\_kmeans.py:1382: UserWarning:\n",
      "\n",
      "KMeans is known to have a memory leak on Windows with MKL, when there are less chunks than available threads. You can avoid it by setting the environment variable OMP_NUM_THREADS=1.\n",
      "\n",
      "c:\\Users\\seaha\\anaconda3\\envs\\434hw\\lib\\site-packages\\sklearn\\cluster\\_kmeans.py:1382: UserWarning:\n",
      "\n",
      "KMeans is known to have a memory leak on Windows with MKL, when there are less chunks than available threads. You can avoid it by setting the environment variable OMP_NUM_THREADS=1.\n",
      "\n",
      "c:\\Users\\seaha\\anaconda3\\envs\\434hw\\lib\\site-packages\\sklearn\\cluster\\_kmeans.py:1382: UserWarning:\n",
      "\n",
      "KMeans is known to have a memory leak on Windows with MKL, when there are less chunks than available threads. You can avoid it by setting the environment variable OMP_NUM_THREADS=1.\n",
      "\n",
      "c:\\Users\\seaha\\anaconda3\\envs\\434hw\\lib\\site-packages\\sklearn\\cluster\\_kmeans.py:1382: UserWarning:\n",
      "\n",
      "KMeans is known to have a memory leak on Windows with MKL, when there are less chunks than available threads. You can avoid it by setting the environment variable OMP_NUM_THREADS=1.\n",
      "\n",
      "c:\\Users\\seaha\\anaconda3\\envs\\434hw\\lib\\site-packages\\sklearn\\cluster\\_kmeans.py:1382: UserWarning:\n",
      "\n",
      "KMeans is known to have a memory leak on Windows with MKL, when there are less chunks than available threads. You can avoid it by setting the environment variable OMP_NUM_THREADS=1.\n",
      "\n",
      "c:\\Users\\seaha\\anaconda3\\envs\\434hw\\lib\\site-packages\\sklearn\\cluster\\_kmeans.py:1382: UserWarning:\n",
      "\n",
      "KMeans is known to have a memory leak on Windows with MKL, when there are less chunks than available threads. You can avoid it by setting the environment variable OMP_NUM_THREADS=1.\n",
      "\n",
      "c:\\Users\\seaha\\anaconda3\\envs\\434hw\\lib\\site-packages\\sklearn\\cluster\\_kmeans.py:1382: UserWarning:\n",
      "\n",
      "KMeans is known to have a memory leak on Windows with MKL, when there are less chunks than available threads. You can avoid it by setting the environment variable OMP_NUM_THREADS=1.\n",
      "\n",
      "c:\\Users\\seaha\\anaconda3\\envs\\434hw\\lib\\site-packages\\sklearn\\cluster\\_kmeans.py:1382: UserWarning:\n",
      "\n",
      "KMeans is known to have a memory leak on Windows with MKL, when there are less chunks than available threads. You can avoid it by setting the environment variable OMP_NUM_THREADS=1.\n",
      "\n"
     ]
    },
    {
     "data": {
      "image/png": "[encoded data removed]",
      "text/plain": [
       "<Figure size 720x720 with 1 Axes>"
      ]
     },
     "metadata": {
      "needs_background": "light"
     },
     "output_type": "display_data"
    }
   ],
   "source": [
    "visualize_optimal_cluster_count(df_topics= df_topics,\n",
    "                                max_clusters= kmeans_settings[\"max_clusters\"],\n",
    "                                pca_components= kmeans_settings[\"pca_components\"])\n"
   ]
  },
  {
   "cell_type": "markdown",
   "id": "75cabb2b",
   "metadata": {},
   "source": [
    "Generate actual kmeans clustering"
   ]
  },
  {
   "cell_type": "code",
   "execution_count": 37,
   "id": "75bab1e8",
   "metadata": {},
   "outputs": [
    {
     "name": "stderr",
     "output_type": "stream",
     "text": [
      "c:\\Users\\seaha\\anaconda3\\envs\\434hw\\lib\\site-packages\\sklearn\\utils\\validation.py:767: FutureWarning:\n",
      "\n",
      "is_sparse is deprecated and will be removed in a future version. Check `isinstance(dtype, pd.SparseDtype)` instead.\n",
      "\n",
      "c:\\Users\\seaha\\anaconda3\\envs\\434hw\\lib\\site-packages\\sklearn\\utils\\validation.py:605: FutureWarning:\n",
      "\n",
      "is_sparse is deprecated and will be removed in a future version. Check `isinstance(dtype, pd.SparseDtype)` instead.\n",
      "\n",
      "c:\\Users\\seaha\\anaconda3\\envs\\434hw\\lib\\site-packages\\sklearn\\utils\\validation.py:614: FutureWarning:\n",
      "\n",
      "is_sparse is deprecated and will be removed in a future version. Check `isinstance(dtype, pd.SparseDtype)` instead.\n",
      "\n",
      "c:\\Users\\seaha\\anaconda3\\envs\\434hw\\lib\\site-packages\\sklearn\\cluster\\_kmeans.py:1382: UserWarning:\n",
      "\n",
      "KMeans is known to have a memory leak on Windows with MKL, when there are less chunks than available threads. You can avoid it by setting the environment variable OMP_NUM_THREADS=1.\n",
      "\n"
     ]
    },
    {
     "data": {
      "image/png": "[encoded data removed]",
      "text/plain": [
       "<Figure size 720x720 with 1 Axes>"
      ]
     },
     "metadata": {
      "needs_background": "light"
     },
     "output_type": "display_data"
    }
   ],
   "source": [
    "visualize_kmeans_clustering(df_topics= df_topics,\n",
    "                            num_clusters = kmeans_settings[\"num_clusters\"],\n",
    "                            pca_components = kmeans_settings[\"pca_components\"])\n"
   ]
  },
  {
   "cell_type": "markdown",
   "id": "ad512fee",
   "metadata": {},
   "source": [
    "## Relavence X Sentiment of Articles K-MEANS"
   ]
  },
  {
   "cell_type": "code",
   "execution_count": 38,
   "id": "bf536faf",
   "metadata": {},
   "outputs": [
    {
     "name": "stdout",
     "output_type": "stream",
     "text": [
      "           0             1         2         3         4             5\n",
      "0   0.000009  1.473667e-05  0.000014  0.023378  0.000013  1.322980e-05\n",
      "1   0.000029  2.491705e-05  0.000025  0.000027  0.070811  2.642266e-05\n",
      "2  -0.000037 -3.160625e-05 -0.000034 -0.068542 -0.000032 -3.133956e-05\n",
      "3  -0.000009 -9.425446e-03 -0.000502 -0.000007 -0.008901 -5.710511e-06\n",
      "4  -0.135302 -1.790041e-04 -0.000163 -0.000157 -0.040751 -1.503211e-04\n",
      "5   0.000108  1.135614e-04  0.000119  0.106333  0.000120  1.204121e-04\n",
      "6  -0.000132 -1.247501e-04 -0.000121 -0.093510 -0.000117 -1.170409e-04\n",
      "7  -0.000003 -3.747793e-08 -0.000002 -0.000002 -0.002660 -2.868755e-07\n",
      "8  -0.000010 -7.660403e-06 -0.000007 -0.000005 -0.006050 -5.360358e-06\n",
      "9   0.000004  1.939910e-05  0.000017  0.015142  0.000016  1.708728e-05\n",
      "10 -0.000007  5.214242e-06  0.005797  0.000004  0.000990  5.814609e-06\n",
      "11 -0.000008 -7.546628e-06 -0.039898 -0.000009 -0.000009 -8.686457e-06\n",
      "12 -0.000066 -5.541214e-05 -0.039020 -0.000030 -0.000022 -2.143971e-05\n",
      "13  0.000048  8.928582e-03  0.022018  0.003998  0.000059  5.921220e-05\n",
      "14  0.000041  7.052062e-02  0.000047  0.000044  0.009835  4.933141e-05\n",
      "15  0.000022  2.293600e-05  0.054509  0.000022  0.000023  2.282212e-05\n",
      "16  0.000026  1.271070e-01  0.000023  0.000023  0.000022  2.161717e-05\n",
      "17  0.000055  1.343938e-01  0.000056  0.000049  0.004816  5.337307e-05\n",
      "18 -0.000001  2.255692e-06  0.000003  0.000002  0.022494  5.157293e-06\n",
      "19 -0.027215 -4.457359e-06 -0.000005 -0.000005 -0.000005 -3.994768e-06\n",
      "20 -0.000039 -3.213009e-05 -0.063879 -0.000031 -0.000031 -3.059908e-05\n",
      "21  0.000005  6.580067e-06  0.000739  0.002735  0.000004  3.736477e-06\n",
      "22  0.000038  4.324442e-05  0.080183  0.000058  0.000062  6.228341e-05\n",
      "23  0.000144  5.351592e-02  0.066026  0.000231  0.000251  3.078255e-02\n",
      "24  0.000057  2.145002e-01  0.000071  0.000070  0.000072  7.213854e-05\n",
      "25  0.000603  2.382614e-01  0.000655  0.000649  0.000648  6.512166e-04\n",
      "26  0.000011  3.519769e-02  0.000014  0.000014  0.000013  1.283264e-05\n",
      "27  0.000048  2.123612e-02  0.000020  0.000024  0.000025  2.529321e-05\n",
      "28  0.000063  1.017448e-01  0.000052  0.000052  0.000053  5.302803e-05\n",
      "29  0.000036  1.099599e-01  0.000027  0.000028  0.000028  2.818822e-05\n",
      "30  0.000166  2.022257e-01  0.000141  0.000138  0.000145  1.470892e-04\n",
      "31  0.000083  6.712324e-02  0.000053  0.000052  0.000049  5.057057e-05\n",
      "32 -0.000060 -5.101646e-05 -0.000057 -0.000059 -0.000057 -5.112661e-02\n",
      "33  0.008329  1.265149e-05  0.000013  0.000011  0.000010  4.284391e-03\n",
      "34  0.000034  3.798940e-05  0.000036  0.000036  0.000036  1.016344e-01\n",
      "35 -0.000025 -2.971175e-05 -0.000029 -0.000027 -0.000028 -5.029515e-02\n",
      "36  0.000005  2.309693e-02  0.000007  0.000007  0.000007  6.823925e-03\n",
      "37  0.000047  3.785787e-05  0.000036  0.000040  0.000042  5.539819e-02\n",
      "38  0.000018  2.088192e-05  0.000017  0.000020  0.000023  1.496717e-02\n",
      "39  0.000062  1.102205e-01  0.000058  0.000058  0.000058  5.808508e-05\n"
     ]
    },
    {
     "name": "stderr",
     "output_type": "stream",
     "text": [
      "c:\\Users\\seaha\\anaconda3\\envs\\434hw\\lib\\site-packages\\sklearn\\utils\\validation.py:767: FutureWarning:\n",
      "\n",
      "is_sparse is deprecated and will be removed in a future version. Check `isinstance(dtype, pd.SparseDtype)` instead.\n",
      "\n",
      "c:\\Users\\seaha\\anaconda3\\envs\\434hw\\lib\\site-packages\\sklearn\\utils\\validation.py:605: FutureWarning:\n",
      "\n",
      "is_sparse is deprecated and will be removed in a future version. Check `isinstance(dtype, pd.SparseDtype)` instead.\n",
      "\n",
      "c:\\Users\\seaha\\anaconda3\\envs\\434hw\\lib\\site-packages\\sklearn\\utils\\validation.py:614: FutureWarning:\n",
      "\n",
      "is_sparse is deprecated and will be removed in a future version. Check `isinstance(dtype, pd.SparseDtype)` instead.\n",
      "\n",
      "c:\\Users\\seaha\\anaconda3\\envs\\434hw\\lib\\site-packages\\sklearn\\cluster\\_kmeans.py:1382: UserWarning:\n",
      "\n",
      "KMeans is known to have a memory leak on Windows with MKL, when there are less chunks than available threads. You can avoid it by setting the environment variable OMP_NUM_THREADS=1.\n",
      "\n"
     ]
    },
    {
     "data": {
      "image/png": "[encoded data removed]",
      "text/plain": [
       "<Figure size 720x720 with 1 Axes>"
      ]
     },
     "metadata": {
      "needs_background": "light"
     },
     "output_type": "display_data"
    }
   ],
   "source": [
    "result = multiply_tuples_in_dataframe(per_topic_df)\n",
    "print(result)\n",
    "\n",
    "visualize_kmeans_clustering(df_topics= result,\n",
    "                            num_clusters = kmeans_settings[\"num_clusters\"],\n",
    "                            pca_components = kmeans_settings[\"pca_components\"])\n"
   ]
  },
  {
   "cell_type": "markdown",
   "id": "e733cc30",
   "metadata": {},
   "source": [
    "# Sentiment VS Relavance Per Topic"
   ]
  },
  {
   "cell_type": "code",
   "execution_count": 39,
   "id": "7f2bab4b",
   "metadata": {},
   "outputs": [
    {
     "data": {
      "image/png": "[encoded data removed]",
      "text/plain": [
       "<Figure size 720x432 with 1 Axes>"
      ]
     },
     "metadata": {
      "needs_background": "light"
     },
     "output_type": "display_data"
    },
    {
     "data": {
      "image/png": "[encoded data removed]",
      "text/plain": [
       "<Figure size 720x432 with 1 Axes>"
      ]
     },
     "metadata": {
      "needs_background": "light"
     },
     "output_type": "display_data"
    },
    {
     "data": {
      "image/png": "[encoded data removed]",
      "text/plain": [
       "<Figure size 720x432 with 1 Axes>"
      ]
     },
     "metadata": {
      "needs_background": "light"
     },
     "output_type": "display_data"
    },
    {
     "data": {
      "image/png": "[encoded data removed]",
      "text/plain": [
       "<Figure size 720x432 with 1 Axes>"
      ]
     },
     "metadata": {
      "needs_background": "light"
     },
     "output_type": "display_data"
    },
    {
     "data": {
      "image/png": "[encoded data removed]",
      "text/plain": [
       "<Figure size 720x432 with 1 Axes>"
      ]
     },
     "metadata": {
      "needs_background": "light"
     },
     "output_type": "display_data"
    },
    {
     "data": {
      "image/png": "[encoded data removed]",
      "text/plain": [
       "<Figure size 720x432 with 1 Axes>"
      ]
     },
     "metadata": {
      "needs_background": "light"
     },
     "output_type": "display_data"
    }
   ],
   "source": [
    "for i in range(len(lda_model.print_topics())):\n",
    "    plot_sentiment_relevance(per_topic_df[:][i])"
   ]
  },
  {
   "cell_type": "markdown",
   "id": "bbc0d17a",
   "metadata": {},
   "source": [
    "# Topic Space"
   ]
  },
  {
   "cell_type": "code",
   "execution_count": 40,
   "id": "db4f3f74",
   "metadata": {},
   "outputs": [
    {
     "name": "stderr",
     "output_type": "stream",
     "text": [
      "c:\\Users\\seaha\\anaconda3\\envs\\434hw\\lib\\site-packages\\sklearn\\utils\\validation.py:767: FutureWarning:\n",
      "\n",
      "is_sparse is deprecated and will be removed in a future version. Check `isinstance(dtype, pd.SparseDtype)` instead.\n",
      "\n",
      "c:\\Users\\seaha\\anaconda3\\envs\\434hw\\lib\\site-packages\\sklearn\\utils\\validation.py:605: FutureWarning:\n",
      "\n",
      "is_sparse is deprecated and will be removed in a future version. Check `isinstance(dtype, pd.SparseDtype)` instead.\n",
      "\n",
      "c:\\Users\\seaha\\anaconda3\\envs\\434hw\\lib\\site-packages\\sklearn\\utils\\validation.py:614: FutureWarning:\n",
      "\n",
      "is_sparse is deprecated and will be removed in a future version. Check `isinstance(dtype, pd.SparseDtype)` instead.\n",
      "\n"
     ]
    },
    {
     "data": {
      "image/png": "[encoded data removed]",
      "text/plain": [
       "<Figure size 576x432 with 1 Axes>"
      ]
     },
     "metadata": {
      "needs_background": "light"
     },
     "output_type": "display_data"
    }
   ],
   "source": [
    "topic_space = dimension_reduction(df_topics)\n",
    "plot_pca(topic_space)"
   ]
  },
  {
   "cell_type": "markdown",
   "id": "3467e9fb",
   "metadata": {},
   "source": [
    "# Document Sentiment in Topic Space"
   ]
  },
  {
   "cell_type": "code",
   "execution_count": 41,
   "id": "c77283c3",
   "metadata": {},
   "outputs": [
    {
     "data": {
      "image/png": "[encoded data removed]",
      "text/plain": [
       "<Figure size 432x288 with 1 Axes>"
      ]
     },
     "metadata": {
      "needs_background": "light"
     },
     "output_type": "display_data"
    }
   ],
   "source": [
    "plot_documents(df_topics, topic_space, df)"
   ]
  },
  {
   "cell_type": "markdown",
   "id": "a19d6974",
   "metadata": {},
   "source": [
    "# Document Density in Topic Space"
   ]
  },
  {
   "cell_type": "code",
   "execution_count": 42,
   "id": "ebbae2b7",
   "metadata": {},
   "outputs": [
    {
     "data": {
      "image/png": "[encoded data removed]",
      "text/plain": [
       "<Figure size 720x576 with 2 Axes>"
      ]
     },
     "metadata": {
      "needs_background": "light"
     },
     "output_type": "display_data"
    }
   ],
   "source": [
    "plot_topic_heatmap(df_topics, topic_space)"
   ]
  },
  {
   "cell_type": "markdown",
   "id": "1383c7b5",
   "metadata": {},
   "source": [
    "# Topic per Document in Topic Space"
   ]
  },
  {
   "cell_type": "code",
   "execution_count": 43,
   "id": "108f5793",
   "metadata": {},
   "outputs": [
    {
     "data": {
      "image/png": "[encoded data removed]",
      "text/plain": [
       "<Figure size 432x288 with 1 Axes>"
      ]
     },
     "metadata": {
      "needs_background": "light"
     },
     "output_type": "display_data"
    }
   ],
   "source": [
    "plot_topic_documents(per_topic_df, topic_space)"
   ]
  },
  {
   "cell_type": "markdown",
   "id": "adc9e666",
   "metadata": {},
   "source": [
    "# Sentiment Sum Heatmap in Topic Space"
   ]
  },
  {
   "cell_type": "code",
   "execution_count": 44,
   "id": "8682cb73",
   "metadata": {},
   "outputs": [
    {
     "data": {
      "image/png": "[encoded data removed]",
      "text/plain": [
       "<Figure size 720x576 with 2 Axes>"
      ]
     },
     "metadata": {
      "needs_background": "light"
     },
     "output_type": "display_data"
    }
   ],
   "source": [
    "plot_sentiment_heatmap(df_topics, topic_space, df)\n"
   ]
  }
 ],
 "metadata": {
  "kernelspec": {
   "display_name": "434hw",
   "language": "python",
   "name": "434hw"
  },
  "language_info": {
   "codemirror_mode": {
    "name": "ipython",
    "version": 3
   },
   "file_extension": ".py",
   "mimetype": "text/x-python",
   "name": "python",
   "nbconvert_exporter": "python",
   "pygments_lexer": "ipython3",
   "version": "3.10.4"
  }
 },
 "nbformat": 4,
 "nbformat_minor": 5
}
