{
 "cells": [
  {
   "cell_type": "markdown",
   "id": "c9dccd1a",
   "metadata": {},
   "source": [
    "# Latent News Probability Model"
   ]
  },
  {
   "cell_type": "markdown",
   "id": "01049288",
   "metadata": {},
   "source": [
    "Directly below contains the pip installs that are required for this project. If you run this code and still don't have the required packages, you may need to add a `!pip install [library_name]` into this code block. This does not need to be run every time the model is used. P.S it might be better to run one pip install command at a time, because they can take a long time to run.\n",
    "\n",
    "IMPORTANT: If you are running this for the first time you may need to download these packages before continuing:"
   ]
  },
  {
   "cell_type": "code",
   "execution_count": 1,
   "id": "15ba699a",
   "metadata": {},
   "outputs": [
    {
     "name": "stdout",
     "output_type": "stream",
     "text": [
      "Requirement already satisfied: pandas in c:\\users\\biehl\\appdata\\local\\programs\\python\\python310\\lib\\site-packages (2.1.2)\n",
      "Requirement already satisfied: numpy<2,>=1.22.4 in c:\\users\\biehl\\appdata\\local\\programs\\python\\python310\\lib\\site-packages (from pandas) (1.24.3)\n",
      "Requirement already satisfied: python-dateutil>=2.8.2 in c:\\users\\biehl\\appdata\\local\\programs\\python\\python310\\lib\\site-packages (from pandas) (2.8.2)\n",
      "Requirement already satisfied: pytz>=2020.1 in c:\\users\\biehl\\appdata\\local\\programs\\python\\python310\\lib\\site-packages (from pandas) (2022.2.1)\n",
      "Requirement already satisfied: tzdata>=2022.1 in c:\\users\\biehl\\appdata\\local\\programs\\python\\python310\\lib\\site-packages (from pandas) (2023.3)\n",
      "Requirement already satisfied: six>=1.5 in c:\\users\\biehl\\appdata\\local\\programs\\python\\python310\\lib\\site-packages (from python-dateutil>=2.8.2->pandas) (1.16.0)\n",
      "Requirement already satisfied: spacy in c:\\users\\biehl\\appdata\\local\\programs\\python\\python310\\lib\\site-packages (3.2.0)\n",
      "Requirement already satisfied: spacy-legacy<3.1.0,>=3.0.8 in c:\\users\\biehl\\appdata\\local\\programs\\python\\python310\\lib\\site-packages (from spacy) (3.0.12)\n",
      "Requirement already satisfied: spacy-loggers<2.0.0,>=1.0.0 in c:\\users\\biehl\\appdata\\local\\programs\\python\\python310\\lib\\site-packages (from spacy) (1.0.4)\n",
      "Requirement already satisfied: murmurhash<1.1.0,>=0.28.0 in c:\\users\\biehl\\appdata\\local\\programs\\python\\python310\\lib\\site-packages (from spacy) (1.0.9)\n",
      "Requirement already satisfied: cymem<2.1.0,>=2.0.2 in c:\\users\\biehl\\appdata\\local\\programs\\python\\python310\\lib\\site-packages (from spacy) (2.0.7)\n",
      "Requirement already satisfied: preshed<3.1.0,>=3.0.2 in c:\\users\\biehl\\appdata\\local\\programs\\python\\python310\\lib\\site-packages (from spacy) (3.0.8)\n",
      "Requirement already satisfied: thinc<8.1.0,>=8.0.12 in c:\\users\\biehl\\appdata\\local\\programs\\python\\python310\\lib\\site-packages (from spacy) (8.0.17)\n",
      "Requirement already satisfied: blis<0.8.0,>=0.4.0 in c:\\users\\biehl\\appdata\\local\\programs\\python\\python310\\lib\\site-packages (from spacy) (0.7.9)\n",
      "Requirement already satisfied: wasabi<1.1.0,>=0.8.1 in c:\\users\\biehl\\appdata\\local\\programs\\python\\python310\\lib\\site-packages (from spacy) (0.10.1)\n",
      "Requirement already satisfied: srsly<3.0.0,>=2.4.1 in c:\\users\\biehl\\appdata\\local\\programs\\python\\python310\\lib\\site-packages (from spacy) (2.4.6)\n",
      "Requirement already satisfied: catalogue<2.1.0,>=2.0.6 in c:\\users\\biehl\\appdata\\local\\programs\\python\\python310\\lib\\site-packages (from spacy) (2.0.8)\n",
      "Requirement already satisfied: typer<0.5.0,>=0.3.0 in c:\\users\\biehl\\appdata\\local\\programs\\python\\python310\\lib\\site-packages (from spacy) (0.4.2)\n",
      "Requirement already satisfied: pathy>=0.3.5 in c:\\users\\biehl\\appdata\\local\\programs\\python\\python310\\lib\\site-packages (from spacy) (0.10.1)\n",
      "Requirement already satisfied: tqdm<5.0.0,>=4.38.0 in c:\\users\\biehl\\appdata\\local\\programs\\python\\python310\\lib\\site-packages (from spacy) (4.66.1)\n",
      "Requirement already satisfied: numpy>=1.15.0 in c:\\users\\biehl\\appdata\\local\\programs\\python\\python310\\lib\\site-packages (from spacy) (1.24.3)\n",
      "Requirement already satisfied: requests<3.0.0,>=2.13.0 in c:\\users\\biehl\\appdata\\local\\programs\\python\\python310\\lib\\site-packages (from spacy) (2.31.0)\n",
      "Requirement already satisfied: pydantic!=1.8,!=1.8.1,<1.9.0,>=1.7.4 in c:\\users\\biehl\\appdata\\local\\programs\\python\\python310\\lib\\site-packages (from spacy) (1.8.2)\n",
      "Requirement already satisfied: jinja2 in c:\\users\\biehl\\appdata\\local\\programs\\python\\python310\\lib\\site-packages (from spacy) (3.1.2)\n",
      "Requirement already satisfied: setuptools in c:\\users\\biehl\\appdata\\local\\programs\\python\\python310\\lib\\site-packages (from spacy) (58.1.0)\n",
      "Requirement already satisfied: packaging>=20.0 in c:\\users\\biehl\\appdata\\local\\programs\\python\\python310\\lib\\site-packages (from spacy) (23.0)\n",
      "Requirement already satisfied: langcodes<4.0.0,>=3.2.0 in c:\\users\\biehl\\appdata\\local\\programs\\python\\python310\\lib\\site-packages (from spacy) (3.3.0)\n",
      "Requirement already satisfied: smart-open<7.0.0,>=5.2.1 in c:\\users\\biehl\\appdata\\local\\programs\\python\\python310\\lib\\site-packages (from pathy>=0.3.5->spacy) (6.3.0)\n",
      "Requirement already satisfied: typing-extensions>=3.7.4.3 in c:\\users\\biehl\\appdata\\local\\programs\\python\\python310\\lib\\site-packages (from pydantic!=1.8,!=1.8.1,<1.9.0,>=1.7.4->spacy) (4.8.0)\n",
      "Requirement already satisfied: charset-normalizer<4,>=2 in c:\\users\\biehl\\appdata\\local\\programs\\python\\python310\\lib\\site-packages (from requests<3.0.0,>=2.13.0->spacy) (3.0.1)\n",
      "Requirement already satisfied: idna<4,>=2.5 in c:\\users\\biehl\\appdata\\local\\programs\\python\\python310\\lib\\site-packages (from requests<3.0.0,>=2.13.0->spacy) (3.4)\n",
      "Requirement already satisfied: urllib3<3,>=1.21.1 in c:\\users\\biehl\\appdata\\local\\programs\\python\\python310\\lib\\site-packages (from requests<3.0.0,>=2.13.0->spacy) (1.26.14)\n",
      "Requirement already satisfied: certifi>=2017.4.17 in c:\\users\\biehl\\appdata\\local\\programs\\python\\python310\\lib\\site-packages (from requests<3.0.0,>=2.13.0->spacy) (2022.12.7)\n",
      "Requirement already satisfied: colorama in c:\\users\\biehl\\appdata\\local\\programs\\python\\python310\\lib\\site-packages (from tqdm<5.0.0,>=4.38.0->spacy) (0.4.6)\n",
      "Requirement already satisfied: click<9.0.0,>=7.1.1 in c:\\users\\biehl\\appdata\\local\\programs\\python\\python310\\lib\\site-packages (from typer<0.5.0,>=0.3.0->spacy) (8.1.3)\n",
      "Requirement already satisfied: MarkupSafe>=2.0 in c:\\users\\biehl\\appdata\\local\\programs\\python\\python310\\lib\\site-packages (from jinja2->spacy) (2.1.2)\n",
      "Requirement already satisfied: spacytextblob in c:\\users\\biehl\\appdata\\local\\programs\\python\\python310\\lib\\site-packages (4.0.0)\n",
      "Requirement already satisfied: spacy<4.0,>=3.0 in c:\\users\\biehl\\appdata\\local\\programs\\python\\python310\\lib\\site-packages (from spacytextblob) (3.2.0)\n",
      "Requirement already satisfied: textblob<0.16.0,>=0.15.3 in c:\\users\\biehl\\appdata\\local\\programs\\python\\python310\\lib\\site-packages (from spacytextblob) (0.15.3)\n",
      "Requirement already satisfied: spacy-legacy<3.1.0,>=3.0.8 in c:\\users\\biehl\\appdata\\local\\programs\\python\\python310\\lib\\site-packages (from spacy<4.0,>=3.0->spacytextblob) (3.0.12)\n",
      "Requirement already satisfied: spacy-loggers<2.0.0,>=1.0.0 in c:\\users\\biehl\\appdata\\local\\programs\\python\\python310\\lib\\site-packages (from spacy<4.0,>=3.0->spacytextblob) (1.0.4)\n",
      "Requirement already satisfied: murmurhash<1.1.0,>=0.28.0 in c:\\users\\biehl\\appdata\\local\\programs\\python\\python310\\lib\\site-packages (from spacy<4.0,>=3.0->spacytextblob) (1.0.9)\n",
      "Requirement already satisfied: cymem<2.1.0,>=2.0.2 in c:\\users\\biehl\\appdata\\local\\programs\\python\\python310\\lib\\site-packages (from spacy<4.0,>=3.0->spacytextblob) (2.0.7)\n",
      "Requirement already satisfied: preshed<3.1.0,>=3.0.2 in c:\\users\\biehl\\appdata\\local\\programs\\python\\python310\\lib\\site-packages (from spacy<4.0,>=3.0->spacytextblob) (3.0.8)\n",
      "Requirement already satisfied: thinc<8.1.0,>=8.0.12 in c:\\users\\biehl\\appdata\\local\\programs\\python\\python310\\lib\\site-packages (from spacy<4.0,>=3.0->spacytextblob) (8.0.17)\n",
      "Requirement already satisfied: blis<0.8.0,>=0.4.0 in c:\\users\\biehl\\appdata\\local\\programs\\python\\python310\\lib\\site-packages (from spacy<4.0,>=3.0->spacytextblob) (0.7.9)\n",
      "Requirement already satisfied: wasabi<1.1.0,>=0.8.1 in c:\\users\\biehl\\appdata\\local\\programs\\python\\python310\\lib\\site-packages (from spacy<4.0,>=3.0->spacytextblob) (0.10.1)\n",
      "Requirement already satisfied: srsly<3.0.0,>=2.4.1 in c:\\users\\biehl\\appdata\\local\\programs\\python\\python310\\lib\\site-packages (from spacy<4.0,>=3.0->spacytextblob) (2.4.6)\n",
      "Requirement already satisfied: catalogue<2.1.0,>=2.0.6 in c:\\users\\biehl\\appdata\\local\\programs\\python\\python310\\lib\\site-packages (from spacy<4.0,>=3.0->spacytextblob) (2.0.8)\n",
      "Requirement already satisfied: typer<0.5.0,>=0.3.0 in c:\\users\\biehl\\appdata\\local\\programs\\python\\python310\\lib\\site-packages (from spacy<4.0,>=3.0->spacytextblob) (0.4.2)\n",
      "Requirement already satisfied: pathy>=0.3.5 in c:\\users\\biehl\\appdata\\local\\programs\\python\\python310\\lib\\site-packages (from spacy<4.0,>=3.0->spacytextblob) (0.10.1)\n",
      "Requirement already satisfied: tqdm<5.0.0,>=4.38.0 in c:\\users\\biehl\\appdata\\local\\programs\\python\\python310\\lib\\site-packages (from spacy<4.0,>=3.0->spacytextblob) (4.66.1)\n",
      "Requirement already satisfied: numpy>=1.15.0 in c:\\users\\biehl\\appdata\\local\\programs\\python\\python310\\lib\\site-packages (from spacy<4.0,>=3.0->spacytextblob) (1.24.3)\n",
      "Requirement already satisfied: requests<3.0.0,>=2.13.0 in c:\\users\\biehl\\appdata\\local\\programs\\python\\python310\\lib\\site-packages (from spacy<4.0,>=3.0->spacytextblob) (2.31.0)\n",
      "Requirement already satisfied: pydantic!=1.8,!=1.8.1,<1.9.0,>=1.7.4 in c:\\users\\biehl\\appdata\\local\\programs\\python\\python310\\lib\\site-packages (from spacy<4.0,>=3.0->spacytextblob) (1.8.2)\n",
      "Requirement already satisfied: jinja2 in c:\\users\\biehl\\appdata\\local\\programs\\python\\python310\\lib\\site-packages (from spacy<4.0,>=3.0->spacytextblob) (3.1.2)\n",
      "Requirement already satisfied: setuptools in c:\\users\\biehl\\appdata\\local\\programs\\python\\python310\\lib\\site-packages (from spacy<4.0,>=3.0->spacytextblob) (58.1.0)\n",
      "Requirement already satisfied: packaging>=20.0 in c:\\users\\biehl\\appdata\\local\\programs\\python\\python310\\lib\\site-packages (from spacy<4.0,>=3.0->spacytextblob) (23.0)\n",
      "Requirement already satisfied: langcodes<4.0.0,>=3.2.0 in c:\\users\\biehl\\appdata\\local\\programs\\python\\python310\\lib\\site-packages (from spacy<4.0,>=3.0->spacytextblob) (3.3.0)\n",
      "Requirement already satisfied: nltk>=3.1 in c:\\users\\biehl\\appdata\\local\\programs\\python\\python310\\lib\\site-packages (from textblob<0.16.0,>=0.15.3->spacytextblob) (3.8.1)\n",
      "Requirement already satisfied: click in c:\\users\\biehl\\appdata\\local\\programs\\python\\python310\\lib\\site-packages (from nltk>=3.1->textblob<0.16.0,>=0.15.3->spacytextblob) (8.1.3)\n",
      "Requirement already satisfied: joblib in c:\\users\\biehl\\appdata\\local\\programs\\python\\python310\\lib\\site-packages (from nltk>=3.1->textblob<0.16.0,>=0.15.3->spacytextblob) (1.2.0)\n",
      "Requirement already satisfied: regex>=2021.8.3 in c:\\users\\biehl\\appdata\\local\\programs\\python\\python310\\lib\\site-packages (from nltk>=3.1->textblob<0.16.0,>=0.15.3->spacytextblob) (2023.3.23)\n",
      "Requirement already satisfied: smart-open<7.0.0,>=5.2.1 in c:\\users\\biehl\\appdata\\local\\programs\\python\\python310\\lib\\site-packages (from pathy>=0.3.5->spacy<4.0,>=3.0->spacytextblob) (6.3.0)\n",
      "Requirement already satisfied: typing-extensions>=3.7.4.3 in c:\\users\\biehl\\appdata\\local\\programs\\python\\python310\\lib\\site-packages (from pydantic!=1.8,!=1.8.1,<1.9.0,>=1.7.4->spacy<4.0,>=3.0->spacytextblob) (4.8.0)\n",
      "Requirement already satisfied: charset-normalizer<4,>=2 in c:\\users\\biehl\\appdata\\local\\programs\\python\\python310\\lib\\site-packages (from requests<3.0.0,>=2.13.0->spacy<4.0,>=3.0->spacytextblob) (3.0.1)\n",
      "Requirement already satisfied: idna<4,>=2.5 in c:\\users\\biehl\\appdata\\local\\programs\\python\\python310\\lib\\site-packages (from requests<3.0.0,>=2.13.0->spacy<4.0,>=3.0->spacytextblob) (3.4)\n",
      "Requirement already satisfied: urllib3<3,>=1.21.1 in c:\\users\\biehl\\appdata\\local\\programs\\python\\python310\\lib\\site-packages (from requests<3.0.0,>=2.13.0->spacy<4.0,>=3.0->spacytextblob) (1.26.14)\n",
      "Requirement already satisfied: certifi>=2017.4.17 in c:\\users\\biehl\\appdata\\local\\programs\\python\\python310\\lib\\site-packages (from requests<3.0.0,>=2.13.0->spacy<4.0,>=3.0->spacytextblob) (2022.12.7)\n",
      "Requirement already satisfied: colorama in c:\\users\\biehl\\appdata\\local\\programs\\python\\python310\\lib\\site-packages (from tqdm<5.0.0,>=4.38.0->spacy<4.0,>=3.0->spacytextblob) (0.4.6)\n",
      "Requirement already satisfied: MarkupSafe>=2.0 in c:\\users\\biehl\\appdata\\local\\programs\\python\\python310\\lib\\site-packages (from jinja2->spacy<4.0,>=3.0->spacytextblob) (2.1.2)\n",
      "Collecting en-core-web-sm==3.2.0\n",
      "  Downloading https://github.com/explosion/spacy-models/releases/download/en_core_web_sm-3.2.0/en_core_web_sm-3.2.0-py3-none-any.whl (13.9 MB)\n",
      "     ---------------------------------------- 0.0/13.9 MB ? eta -:--:--\n",
      "     --------------------------------------- 0.0/13.9 MB 653.6 kB/s eta 0:00:22\n",
      "     --------------------------------------- 0.1/13.9 MB 980.4 kB/s eta 0:00:15\n",
      "      --------------------------------------- 0.2/13.9 MB 1.4 MB/s eta 0:00:10\n",
      "     - -------------------------------------- 0.4/13.9 MB 2.2 MB/s eta 0:00:06\n",
      "     -- ------------------------------------- 0.7/13.9 MB 2.9 MB/s eta 0:00:05\n",
      "     -- ------------------------------------- 1.0/13.9 MB 3.4 MB/s eta 0:00:04\n",
      "     ---- ----------------------------------- 1.6/13.9 MB 4.9 MB/s eta 0:00:03\n",
      "     ------ --------------------------------- 2.3/13.9 MB 6.1 MB/s eta 0:00:02\n",
      "     -------- ------------------------------- 2.9/13.9 MB 6.9 MB/s eta 0:00:02\n",
      "     ---------- ----------------------------- 3.5/13.9 MB 7.5 MB/s eta 0:00:02\n",
      "     ----------- ---------------------------- 4.2/13.9 MB 8.1 MB/s eta 0:00:02\n",
      "     ------------- -------------------------- 4.8/13.9 MB 8.5 MB/s eta 0:00:02\n",
      "     --------------- ------------------------ 5.5/13.9 MB 8.9 MB/s eta 0:00:01\n",
      "     ----------------- ---------------------- 6.1/13.9 MB 9.3 MB/s eta 0:00:01\n",
      "     ------------------- -------------------- 6.8/13.9 MB 9.7 MB/s eta 0:00:01\n",
      "     --------------------- ------------------ 7.5/13.9 MB 9.9 MB/s eta 0:00:01\n",
      "     ----------------------- ---------------- 8.1/13.9 MB 10.2 MB/s eta 0:00:01\n",
      "     ------------------------- -------------- 8.8/13.9 MB 10.4 MB/s eta 0:00:01\n",
      "     --------------------------- ------------ 9.5/13.9 MB 10.6 MB/s eta 0:00:01\n",
      "     ---------------------------- ---------- 10.1/13.9 MB 10.8 MB/s eta 0:00:01\n",
      "     ------------------------------ -------- 10.8/13.9 MB 13.1 MB/s eta 0:00:01\n",
      "     -------------------------------- ------ 11.4/13.9 MB 13.9 MB/s eta 0:00:01\n",
      "     ---------------------------------- ---- 12.1/13.9 MB 14.2 MB/s eta 0:00:01\n",
      "     ----------------------------------- --- 12.8/13.9 MB 14.2 MB/s eta 0:00:01\n",
      "     ------------------------------------- - 13.4/13.9 MB 14.2 MB/s eta 0:00:01\n",
      "     --------------------------------------  13.9/13.9 MB 14.2 MB/s eta 0:00:01\n",
      "     --------------------------------------- 13.9/13.9 MB 13.6 MB/s eta 0:00:00\n",
      "Requirement already satisfied: spacy<3.3.0,>=3.2.0 in c:\\users\\biehl\\appdata\\local\\programs\\python\\python310\\lib\\site-packages (from en-core-web-sm==3.2.0) (3.2.0)\n",
      "Requirement already satisfied: spacy-legacy<3.1.0,>=3.0.8 in c:\\users\\biehl\\appdata\\local\\programs\\python\\python310\\lib\\site-packages (from spacy<3.3.0,>=3.2.0->en-core-web-sm==3.2.0) (3.0.12)\n",
      "Requirement already satisfied: spacy-loggers<2.0.0,>=1.0.0 in c:\\users\\biehl\\appdata\\local\\programs\\python\\python310\\lib\\site-packages (from spacy<3.3.0,>=3.2.0->en-core-web-sm==3.2.0) (1.0.4)\n",
      "Requirement already satisfied: murmurhash<1.1.0,>=0.28.0 in c:\\users\\biehl\\appdata\\local\\programs\\python\\python310\\lib\\site-packages (from spacy<3.3.0,>=3.2.0->en-core-web-sm==3.2.0) (1.0.9)\n",
      "Requirement already satisfied: cymem<2.1.0,>=2.0.2 in c:\\users\\biehl\\appdata\\local\\programs\\python\\python310\\lib\\site-packages (from spacy<3.3.0,>=3.2.0->en-core-web-sm==3.2.0) (2.0.7)\n",
      "Requirement already satisfied: preshed<3.1.0,>=3.0.2 in c:\\users\\biehl\\appdata\\local\\programs\\python\\python310\\lib\\site-packages (from spacy<3.3.0,>=3.2.0->en-core-web-sm==3.2.0) (3.0.8)\n",
      "Requirement already satisfied: thinc<8.1.0,>=8.0.12 in c:\\users\\biehl\\appdata\\local\\programs\\python\\python310\\lib\\site-packages (from spacy<3.3.0,>=3.2.0->en-core-web-sm==3.2.0) (8.0.17)\n",
      "Requirement already satisfied: blis<0.8.0,>=0.4.0 in c:\\users\\biehl\\appdata\\local\\programs\\python\\python310\\lib\\site-packages (from spacy<3.3.0,>=3.2.0->en-core-web-sm==3.2.0) (0.7.9)\n",
      "Requirement already satisfied: wasabi<1.1.0,>=0.8.1 in c:\\users\\biehl\\appdata\\local\\programs\\python\\python310\\lib\\site-packages (from spacy<3.3.0,>=3.2.0->en-core-web-sm==3.2.0) (0.10.1)\n",
      "Requirement already satisfied: srsly<3.0.0,>=2.4.1 in c:\\users\\biehl\\appdata\\local\\programs\\python\\python310\\lib\\site-packages (from spacy<3.3.0,>=3.2.0->en-core-web-sm==3.2.0) (2.4.6)\n",
      "Requirement already satisfied: catalogue<2.1.0,>=2.0.6 in c:\\users\\biehl\\appdata\\local\\programs\\python\\python310\\lib\\site-packages (from spacy<3.3.0,>=3.2.0->en-core-web-sm==3.2.0) (2.0.8)\n",
      "Requirement already satisfied: typer<0.5.0,>=0.3.0 in c:\\users\\biehl\\appdata\\local\\programs\\python\\python310\\lib\\site-packages (from spacy<3.3.0,>=3.2.0->en-core-web-sm==3.2.0) (0.4.2)\n",
      "Requirement already satisfied: pathy>=0.3.5 in c:\\users\\biehl\\appdata\\local\\programs\\python\\python310\\lib\\site-packages (from spacy<3.3.0,>=3.2.0->en-core-web-sm==3.2.0) (0.10.1)\n",
      "Requirement already satisfied: tqdm<5.0.0,>=4.38.0 in c:\\users\\biehl\\appdata\\local\\programs\\python\\python310\\lib\\site-packages (from spacy<3.3.0,>=3.2.0->en-core-web-sm==3.2.0) (4.66.1)\n",
      "Requirement already satisfied: numpy>=1.15.0 in c:\\users\\biehl\\appdata\\local\\programs\\python\\python310\\lib\\site-packages (from spacy<3.3.0,>=3.2.0->en-core-web-sm==3.2.0) (1.24.3)\n",
      "Requirement already satisfied: requests<3.0.0,>=2.13.0 in c:\\users\\biehl\\appdata\\local\\programs\\python\\python310\\lib\\site-packages (from spacy<3.3.0,>=3.2.0->en-core-web-sm==3.2.0) (2.31.0)\n",
      "Requirement already satisfied: pydantic!=1.8,!=1.8.1,<1.9.0,>=1.7.4 in c:\\users\\biehl\\appdata\\local\\programs\\python\\python310\\lib\\site-packages (from spacy<3.3.0,>=3.2.0->en-core-web-sm==3.2.0) (1.8.2)\n",
      "Requirement already satisfied: jinja2 in c:\\users\\biehl\\appdata\\local\\programs\\python\\python310\\lib\\site-packages (from spacy<3.3.0,>=3.2.0->en-core-web-sm==3.2.0) (3.1.2)\n",
      "Requirement already satisfied: setuptools in c:\\users\\biehl\\appdata\\local\\programs\\python\\python310\\lib\\site-packages (from spacy<3.3.0,>=3.2.0->en-core-web-sm==3.2.0) (58.1.0)\n",
      "Requirement already satisfied: packaging>=20.0 in c:\\users\\biehl\\appdata\\local\\programs\\python\\python310\\lib\\site-packages (from spacy<3.3.0,>=3.2.0->en-core-web-sm==3.2.0) (23.0)\n",
      "Requirement already satisfied: langcodes<4.0.0,>=3.2.0 in c:\\users\\biehl\\appdata\\local\\programs\\python\\python310\\lib\\site-packages (from spacy<3.3.0,>=3.2.0->en-core-web-sm==3.2.0) (3.3.0)\n",
      "Requirement already satisfied: smart-open<7.0.0,>=5.2.1 in c:\\users\\biehl\\appdata\\local\\programs\\python\\python310\\lib\\site-packages (from pathy>=0.3.5->spacy<3.3.0,>=3.2.0->en-core-web-sm==3.2.0) (6.3.0)\n",
      "Requirement already satisfied: typing-extensions>=3.7.4.3 in c:\\users\\biehl\\appdata\\local\\programs\\python\\python310\\lib\\site-packages (from pydantic!=1.8,!=1.8.1,<1.9.0,>=1.7.4->spacy<3.3.0,>=3.2.0->en-core-web-sm==3.2.0) (4.8.0)\n",
      "Requirement already satisfied: charset-normalizer<4,>=2 in c:\\users\\biehl\\appdata\\local\\programs\\python\\python310\\lib\\site-packages (from requests<3.0.0,>=2.13.0->spacy<3.3.0,>=3.2.0->en-core-web-sm==3.2.0) (3.0.1)\n",
      "Requirement already satisfied: idna<4,>=2.5 in c:\\users\\biehl\\appdata\\local\\programs\\python\\python310\\lib\\site-packages (from requests<3.0.0,>=2.13.0->spacy<3.3.0,>=3.2.0->en-core-web-sm==3.2.0) (3.4)\n",
      "Requirement already satisfied: urllib3<3,>=1.21.1 in c:\\users\\biehl\\appdata\\local\\programs\\python\\python310\\lib\\site-packages (from requests<3.0.0,>=2.13.0->spacy<3.3.0,>=3.2.0->en-core-web-sm==3.2.0) (1.26.14)\n",
      "Requirement already satisfied: certifi>=2017.4.17 in c:\\users\\biehl\\appdata\\local\\programs\\python\\python310\\lib\\site-packages (from requests<3.0.0,>=2.13.0->spacy<3.3.0,>=3.2.0->en-core-web-sm==3.2.0) (2022.12.7)\n",
      "Requirement already satisfied: colorama in c:\\users\\biehl\\appdata\\local\\programs\\python\\python310\\lib\\site-packages (from tqdm<5.0.0,>=4.38.0->spacy<3.3.0,>=3.2.0->en-core-web-sm==3.2.0) (0.4.6)\n",
      "Requirement already satisfied: click<9.0.0,>=7.1.1 in c:\\users\\biehl\\appdata\\local\\programs\\python\\python310\\lib\\site-packages (from typer<0.5.0,>=0.3.0->spacy<3.3.0,>=3.2.0->en-core-web-sm==3.2.0) (8.1.3)\n",
      "Requirement already satisfied: MarkupSafe>=2.0 in c:\\users\\biehl\\appdata\\local\\programs\\python\\python310\\lib\\site-packages (from jinja2->spacy<3.3.0,>=3.2.0->en-core-web-sm==3.2.0) (2.1.2)\n",
      "✔ Download and installation successful\n",
      "You can now load the package via spacy.load('en_core_web_sm')\n"
     ]
    },
    {
     "name": "stderr",
     "output_type": "stream",
     "text": [
      "DEPRECATION: https://github.com/explosion/spacy-models/releases/download/en_core_web_sm-3.2.0/en_core_web_sm-3.2.0-py3-none-any.whl#egg=en_core_web_sm==3.2.0 contains an egg fragment with a non-PEP 508 name pip 25.0 will enforce this behaviour change. A possible replacement is to use the req @ url syntax, and remove the egg fragment. Discussion can be found at https://github.com/pypa/pip/issues/11617\n"
     ]
    },
    {
     "name": "stdout",
     "output_type": "stream",
     "text": [
      "Requirement already satisfied: newspaper3k in c:\\users\\biehl\\appdata\\local\\programs\\python\\python310\\lib\\site-packages (0.2.8)\n",
      "Requirement already satisfied: beautifulsoup4>=4.4.1 in c:\\users\\biehl\\appdata\\local\\programs\\python\\python310\\lib\\site-packages (from newspaper3k) (4.11.1)\n",
      "Requirement already satisfied: Pillow>=3.3.0 in c:\\users\\biehl\\appdata\\roaming\\python\\python310\\site-packages (from newspaper3k) (9.4.0)\n",
      "Requirement already satisfied: PyYAML>=3.11 in c:\\users\\biehl\\appdata\\local\\programs\\python\\python310\\lib\\site-packages (from newspaper3k) (6.0)\n",
      "Requirement already satisfied: cssselect>=0.9.2 in c:\\users\\biehl\\appdata\\local\\programs\\python\\python310\\lib\\site-packages (from newspaper3k) (1.2.0)\n",
      "Requirement already satisfied: lxml>=3.6.0 in c:\\users\\biehl\\appdata\\roaming\\python\\python310\\site-packages (from newspaper3k) (4.9.2)\n",
      "Requirement already satisfied: nltk>=3.2.1 in c:\\users\\biehl\\appdata\\local\\programs\\python\\python310\\lib\\site-packages (from newspaper3k) (3.8.1)\n",
      "Requirement already satisfied: requests>=2.10.0 in c:\\users\\biehl\\appdata\\local\\programs\\python\\python310\\lib\\site-packages (from newspaper3k) (2.31.0)\n",
      "Requirement already satisfied: feedparser>=5.2.1 in c:\\users\\biehl\\appdata\\local\\programs\\python\\python310\\lib\\site-packages (from newspaper3k) (6.0.10)\n",
      "Requirement already satisfied: tldextract>=2.0.1 in c:\\users\\biehl\\appdata\\local\\programs\\python\\python310\\lib\\site-packages (from newspaper3k) (3.4.1)\n",
      "Requirement already satisfied: feedfinder2>=0.0.4 in c:\\users\\biehl\\appdata\\local\\programs\\python\\python310\\lib\\site-packages (from newspaper3k) (0.0.4)\n",
      "Requirement already satisfied: jieba3k>=0.35.1 in c:\\users\\biehl\\appdata\\local\\programs\\python\\python310\\lib\\site-packages (from newspaper3k) (0.35.1)\n",
      "Requirement already satisfied: python-dateutil>=2.5.3 in c:\\users\\biehl\\appdata\\local\\programs\\python\\python310\\lib\\site-packages (from newspaper3k) (2.8.2)\n",
      "Requirement already satisfied: tinysegmenter==0.3 in c:\\users\\biehl\\appdata\\local\\programs\\python\\python310\\lib\\site-packages (from newspaper3k) (0.3)\n",
      "Requirement already satisfied: soupsieve>1.2 in c:\\users\\biehl\\appdata\\local\\programs\\python\\python310\\lib\\site-packages (from beautifulsoup4>=4.4.1->newspaper3k) (2.3.2.post1)\n",
      "Requirement already satisfied: six in c:\\users\\biehl\\appdata\\local\\programs\\python\\python310\\lib\\site-packages (from feedfinder2>=0.0.4->newspaper3k) (1.16.0)\n",
      "Requirement already satisfied: sgmllib3k in c:\\users\\biehl\\appdata\\local\\programs\\python\\python310\\lib\\site-packages (from feedparser>=5.2.1->newspaper3k) (1.0.0)\n",
      "Requirement already satisfied: click in c:\\users\\biehl\\appdata\\local\\programs\\python\\python310\\lib\\site-packages (from nltk>=3.2.1->newspaper3k) (8.1.3)\n",
      "Requirement already satisfied: joblib in c:\\users\\biehl\\appdata\\local\\programs\\python\\python310\\lib\\site-packages (from nltk>=3.2.1->newspaper3k) (1.2.0)\n",
      "Requirement already satisfied: regex>=2021.8.3 in c:\\users\\biehl\\appdata\\local\\programs\\python\\python310\\lib\\site-packages (from nltk>=3.2.1->newspaper3k) (2023.3.23)\n",
      "Requirement already satisfied: tqdm in c:\\users\\biehl\\appdata\\local\\programs\\python\\python310\\lib\\site-packages (from nltk>=3.2.1->newspaper3k) (4.66.1)\n",
      "Requirement already satisfied: charset-normalizer<4,>=2 in c:\\users\\biehl\\appdata\\local\\programs\\python\\python310\\lib\\site-packages (from requests>=2.10.0->newspaper3k) (3.0.1)\n",
      "Requirement already satisfied: idna<4,>=2.5 in c:\\users\\biehl\\appdata\\local\\programs\\python\\python310\\lib\\site-packages (from requests>=2.10.0->newspaper3k) (3.4)\n",
      "Requirement already satisfied: urllib3<3,>=1.21.1 in c:\\users\\biehl\\appdata\\local\\programs\\python\\python310\\lib\\site-packages (from requests>=2.10.0->newspaper3k) (1.26.14)\n",
      "Requirement already satisfied: certifi>=2017.4.17 in c:\\users\\biehl\\appdata\\local\\programs\\python\\python310\\lib\\site-packages (from requests>=2.10.0->newspaper3k) (2022.12.7)\n",
      "Requirement already satisfied: requests-file>=1.4 in c:\\users\\biehl\\appdata\\local\\programs\\python\\python310\\lib\\site-packages (from tldextract>=2.0.1->newspaper3k) (1.5.1)\n",
      "Requirement already satisfied: filelock>=3.0.8 in c:\\users\\biehl\\appdata\\roaming\\python\\python310\\site-packages (from tldextract>=2.0.1->newspaper3k) (3.9.0)\n",
      "Requirement already satisfied: colorama in c:\\users\\biehl\\appdata\\local\\programs\\python\\python310\\lib\\site-packages (from click->nltk>=3.2.1->newspaper3k) (0.4.6)\n",
      "Requirement already satisfied: gensim in c:\\users\\biehl\\appdata\\local\\programs\\python\\python310\\lib\\site-packages (4.3.1)\n",
      "Requirement already satisfied: numpy>=1.18.5 in c:\\users\\biehl\\appdata\\local\\programs\\python\\python310\\lib\\site-packages (from gensim) (1.24.3)\n",
      "Requirement already satisfied: scipy>=1.7.0 in c:\\users\\biehl\\appdata\\roaming\\python\\python310\\site-packages (from gensim) (1.10.0)\n",
      "Requirement already satisfied: smart-open>=1.8.1 in c:\\users\\biehl\\appdata\\local\\programs\\python\\python310\\lib\\site-packages (from gensim) (6.3.0)\n",
      "Requirement already satisfied: plotly in c:\\users\\biehl\\appdata\\local\\programs\\python\\python310\\lib\\site-packages (5.17.0)\n",
      "Requirement already satisfied: tenacity>=6.2.0 in c:\\users\\biehl\\appdata\\local\\programs\\python\\python310\\lib\\site-packages (from plotly) (8.2.3)\n",
      "Requirement already satisfied: packaging in c:\\users\\biehl\\appdata\\local\\programs\\python\\python310\\lib\\site-packages (from plotly) (23.0)\n",
      "Collecting sklearn\n",
      "  Downloading sklearn-0.0.post10.tar.gz (3.6 kB)\n",
      "  Preparing metadata (setup.py): started\n",
      "  Preparing metadata (setup.py): finished with status 'error'\n"
     ]
    },
    {
     "name": "stderr",
     "output_type": "stream",
     "text": [
      "  error: subprocess-exited-with-error\n",
      "  \n",
      "  × python setup.py egg_info did not run successfully.\n",
      "  │ exit code: 1\n",
      "  ╰─> [18 lines of output]\n",
      "      The 'sklearn' PyPI package is deprecated, use 'scikit-learn'\n",
      "      rather than 'sklearn' for pip commands.\n",
      "      \n",
      "      Here is how to fix this error in the main use cases:\n",
      "      - use 'pip install scikit-learn' rather than 'pip install sklearn'\n",
      "      - replace 'sklearn' by 'scikit-learn' in your pip requirements files\n",
      "        (requirements.txt, setup.py, setup.cfg, Pipfile, etc ...)\n",
      "      - if the 'sklearn' package is used by one of your dependencies,\n",
      "        it would be great if you take some time to track which package uses\n",
      "        'sklearn' instead of 'scikit-learn' and report it to their issue tracker\n",
      "      - as a last resort, set the environment variable\n",
      "        SKLEARN_ALLOW_DEPRECATED_SKLEARN_PACKAGE_INSTALL=True to avoid this error\n",
      "      \n",
      "      More information is available at\n",
      "      https://github.com/scikit-learn/sklearn-pypi-package\n",
      "      \n",
      "      If the previous advice does not cover your use case, feel free to report it at\n",
      "      https://github.com/scikit-learn/sklearn-pypi-package/issues/new\n",
      "      [end of output]\n",
      "  \n",
      "  note: This error originates from a subprocess, and is likely not a problem with pip.\n",
      "error: metadata-generation-failed\n",
      "\n",
      "× Encountered error while generating package metadata.\n",
      "╰─> See above for output.\n",
      "\n",
      "note: This is an issue with the package mentioned above, not pip.\n",
      "hint: See above for details.\n"
     ]
    },
    {
     "name": "stdout",
     "output_type": "stream",
     "text": [
      "Requirement already satisfied: matplotlib in c:\\users\\biehl\\appdata\\roaming\\python\\python310\\site-packages (3.6.3)\n",
      "Requirement already satisfied: contourpy>=1.0.1 in c:\\users\\biehl\\appdata\\roaming\\python\\python310\\site-packages (from matplotlib) (1.0.7)\n",
      "Requirement already satisfied: cycler>=0.10 in c:\\users\\biehl\\appdata\\roaming\\python\\python310\\site-packages (from matplotlib) (0.11.0)\n",
      "Requirement already satisfied: fonttools>=4.22.0 in c:\\users\\biehl\\appdata\\roaming\\python\\python310\\site-packages (from matplotlib) (4.38.0)\n",
      "Requirement already satisfied: kiwisolver>=1.0.1 in c:\\users\\biehl\\appdata\\roaming\\python\\python310\\site-packages (from matplotlib) (1.4.4)\n",
      "Requirement already satisfied: numpy>=1.19 in c:\\users\\biehl\\appdata\\local\\programs\\python\\python310\\lib\\site-packages (from matplotlib) (1.24.3)\n",
      "Requirement already satisfied: packaging>=20.0 in c:\\users\\biehl\\appdata\\local\\programs\\python\\python310\\lib\\site-packages (from matplotlib) (23.0)\n",
      "Requirement already satisfied: pillow>=6.2.0 in c:\\users\\biehl\\appdata\\roaming\\python\\python310\\site-packages (from matplotlib) (9.4.0)\n",
      "Requirement already satisfied: pyparsing>=2.2.1 in c:\\users\\biehl\\appdata\\roaming\\python\\python310\\site-packages (from matplotlib) (3.0.9)\n",
      "Requirement already satisfied: python-dateutil>=2.7 in c:\\users\\biehl\\appdata\\local\\programs\\python\\python310\\lib\\site-packages (from matplotlib) (2.8.2)\n",
      "Requirement already satisfied: six>=1.5 in c:\\users\\biehl\\appdata\\local\\programs\\python\\python310\\lib\\site-packages (from python-dateutil>=2.7->matplotlib) (1.16.0)\n",
      "Requirement already satisfied: wordcloud in c:\\users\\biehl\\appdata\\local\\programs\\python\\python310\\lib\\site-packages (1.9.2)\n",
      "Requirement already satisfied: numpy>=1.6.1 in c:\\users\\biehl\\appdata\\local\\programs\\python\\python310\\lib\\site-packages (from wordcloud) (1.24.3)\n",
      "Requirement already satisfied: pillow in c:\\users\\biehl\\appdata\\roaming\\python\\python310\\site-packages (from wordcloud) (9.4.0)\n",
      "Requirement already satisfied: matplotlib in c:\\users\\biehl\\appdata\\roaming\\python\\python310\\site-packages (from wordcloud) (3.6.3)\n",
      "Requirement already satisfied: contourpy>=1.0.1 in c:\\users\\biehl\\appdata\\roaming\\python\\python310\\site-packages (from matplotlib->wordcloud) (1.0.7)\n",
      "Requirement already satisfied: cycler>=0.10 in c:\\users\\biehl\\appdata\\roaming\\python\\python310\\site-packages (from matplotlib->wordcloud) (0.11.0)\n",
      "Requirement already satisfied: fonttools>=4.22.0 in c:\\users\\biehl\\appdata\\roaming\\python\\python310\\site-packages (from matplotlib->wordcloud) (4.38.0)\n",
      "Requirement already satisfied: kiwisolver>=1.0.1 in c:\\users\\biehl\\appdata\\roaming\\python\\python310\\site-packages (from matplotlib->wordcloud) (1.4.4)\n",
      "Requirement already satisfied: packaging>=20.0 in c:\\users\\biehl\\appdata\\local\\programs\\python\\python310\\lib\\site-packages (from matplotlib->wordcloud) (23.0)\n",
      "Requirement already satisfied: pyparsing>=2.2.1 in c:\\users\\biehl\\appdata\\roaming\\python\\python310\\site-packages (from matplotlib->wordcloud) (3.0.9)\n",
      "Requirement already satisfied: python-dateutil>=2.7 in c:\\users\\biehl\\appdata\\local\\programs\\python\\python310\\lib\\site-packages (from matplotlib->wordcloud) (2.8.2)\n",
      "Requirement already satisfied: six>=1.5 in c:\\users\\biehl\\appdata\\local\\programs\\python\\python310\\lib\\site-packages (from python-dateutil>=2.7->matplotlib->wordcloud) (1.16.0)\n",
      "Requirement already satisfied: seaborn in c:\\users\\biehl\\appdata\\local\\programs\\python\\python310\\lib\\site-packages (0.13.0)\n",
      "Requirement already satisfied: numpy!=1.24.0,>=1.20 in c:\\users\\biehl\\appdata\\local\\programs\\python\\python310\\lib\\site-packages (from seaborn) (1.24.3)\n",
      "Requirement already satisfied: pandas>=1.2 in c:\\users\\biehl\\appdata\\local\\programs\\python\\python310\\lib\\site-packages (from seaborn) (2.1.2)\n",
      "Requirement already satisfied: matplotlib!=3.6.1,>=3.3 in c:\\users\\biehl\\appdata\\roaming\\python\\python310\\site-packages (from seaborn) (3.6.3)\n",
      "Requirement already satisfied: contourpy>=1.0.1 in c:\\users\\biehl\\appdata\\roaming\\python\\python310\\site-packages (from matplotlib!=3.6.1,>=3.3->seaborn) (1.0.7)\n",
      "Requirement already satisfied: cycler>=0.10 in c:\\users\\biehl\\appdata\\roaming\\python\\python310\\site-packages (from matplotlib!=3.6.1,>=3.3->seaborn) (0.11.0)\n",
      "Requirement already satisfied: fonttools>=4.22.0 in c:\\users\\biehl\\appdata\\roaming\\python\\python310\\site-packages (from matplotlib!=3.6.1,>=3.3->seaborn) (4.38.0)\n",
      "Requirement already satisfied: kiwisolver>=1.0.1 in c:\\users\\biehl\\appdata\\roaming\\python\\python310\\site-packages (from matplotlib!=3.6.1,>=3.3->seaborn) (1.4.4)\n",
      "Requirement already satisfied: packaging>=20.0 in c:\\users\\biehl\\appdata\\local\\programs\\python\\python310\\lib\\site-packages (from matplotlib!=3.6.1,>=3.3->seaborn) (23.0)\n",
      "Requirement already satisfied: pillow>=6.2.0 in c:\\users\\biehl\\appdata\\roaming\\python\\python310\\site-packages (from matplotlib!=3.6.1,>=3.3->seaborn) (9.4.0)\n",
      "Requirement already satisfied: pyparsing>=2.2.1 in c:\\users\\biehl\\appdata\\roaming\\python\\python310\\site-packages (from matplotlib!=3.6.1,>=3.3->seaborn) (3.0.9)\n",
      "Requirement already satisfied: python-dateutil>=2.7 in c:\\users\\biehl\\appdata\\local\\programs\\python\\python310\\lib\\site-packages (from matplotlib!=3.6.1,>=3.3->seaborn) (2.8.2)\n",
      "Requirement already satisfied: pytz>=2020.1 in c:\\users\\biehl\\appdata\\local\\programs\\python\\python310\\lib\\site-packages (from pandas>=1.2->seaborn) (2022.2.1)\n",
      "Requirement already satisfied: tzdata>=2022.1 in c:\\users\\biehl\\appdata\\local\\programs\\python\\python310\\lib\\site-packages (from pandas>=1.2->seaborn) (2023.3)\n",
      "Requirement already satisfied: six>=1.5 in c:\\users\\biehl\\appdata\\local\\programs\\python\\python310\\lib\\site-packages (from python-dateutil>=2.7->matplotlib!=3.6.1,>=3.3->seaborn) (1.16.0)\n"
     ]
    }
   ],
   "source": [
    "# Dataframe and sentiment analysis\n",
    "!pip install pandas\n",
    "!pip install spacy\n",
    "!pip install spacytextblob\n",
    "!python -m spacy download en_core_web_sm\n",
    "\n",
    "# Webscraping\n",
    "!pip install newspaper3k\n",
    "\n",
    "# Topic modeling \n",
    "!pip install gensim\n",
    "\n",
    "# Data vis\n",
    "!pip install plotly\n",
    "!pip install sklearn\n",
    "!pip install matplotlib\n",
    "!pip install wordcloud\n",
    "!pip install seaborn"
   ]
  },
  {
   "cell_type": "markdown",
   "id": "c92a2232",
   "metadata": {},
   "source": [
    "Spacy: Used for NLP and has the machine learning module\n",
    "    \n",
    "SpacyTextBlob: Used for the sentiment analysis\n",
    "    \n",
    "Pandas: Stores the data as a dataframe table\n",
    "    \n",
    "NewsPaper: Used for web scraping\n",
    "\n",
    "Gensim: Used for topic modeling\n",
    "    \n",
    "Requests: Makes the connection to the URL\n",
    "\n",
    "Plotly: Used for data visualization\n",
    "\n",
    "Matplotlib: Used for clustering and data visualization\n",
    "\n",
    "Sklearn: Used for clustering and data visualization"
   ]
  },
  {
   "cell_type": "markdown",
   "id": "e1471074",
   "metadata": {},
   "source": [
    "## Start Here: Library Imports"
   ]
  },
  {
   "cell_type": "code",
   "execution_count": 2,
   "id": "97171282",
   "metadata": {},
   "outputs": [
    {
     "name": "stderr",
     "output_type": "stream",
     "text": [
      "c:\\Users\\biehl\\AppData\\Local\\Programs\\Python\\Python310\\lib\\site-packages\\tqdm\\auto.py:21: TqdmWarning: IProgress not found. Please update jupyter and ipywidgets. See https://ipywidgets.readthedocs.io/en/stable/user_install.html\n",
      "  from .autonotebook import tqdm as notebook_tqdm\n"
     ]
    }
   ],
   "source": [
    "# Newspaper3k web scraping\n",
    "from newspaper import Article\n",
    "\n",
    "from random import shuffle\n",
    "import re\n",
    "import requests\n",
    "\n",
    "from collections import Counter\n",
    "\n",
    "# Pandas dataframe\n",
    "import pandas as pd\n",
    "\n",
    "import numpy as np\n",
    "import json\n",
    "import requests\n",
    "import glob\n",
    "\n",
    "# Gensim\n",
    "import gensim\n",
    "import gensim.corpora as corpora\n",
    "from gensim.models.coherencemodel import CoherenceModel\n",
    "from gensim.utils import simple_preprocess\n",
    "from gensim.corpora import Dictionary  # Import the Dictionary class from Gensim\n",
    "\n",
    "# Spacy\n",
    "import spacy\n",
    "from nltk.corpus import stopwords\n",
    "from spacytextblob.spacytextblob import SpacyTextBlob\n",
    "\n",
    "# Vis\n",
    "import pyLDAvis\n",
    "import pyLDAvis.gensim\n",
    "import plotly.express as px\n",
    "import matplotlib.colors as mcolors\n",
    "import matplotlib.pyplot as plt\n",
    "import sklearn\n",
    "from sklearn.manifold import TSNE\n",
    "from wordcloud import WordCloud\n",
    "from sklearn.decomposition import PCA\n",
    "import seaborn as sns\n",
    "\n",
    "\n",
    "\n",
    "# K-Means Clustering\n",
    "from sklearn.feature_extraction.text import TfidfVectorizer\n",
    "from sklearn.cluster import KMeans\n",
    "from sklearn.cluster import MiniBatchKMeans\n",
    "import matplotlib.pyplot as plt\n",
    "\n",
    "# Principled Component Analysis\n",
    "from sklearn.decomposition import PCA\n",
    "\n",
    "import warnings\n",
    "warnings.filterwarnings(\"ignore\", category=DeprecationWarning)"
   ]
  },
  {
   "cell_type": "markdown",
   "id": "8b38b484",
   "metadata": {},
   "source": [
    "IMPORTANT: Run all helper files. The function logic is stored here, and sorted by the part of the pipeline they support."
   ]
  },
  {
   "cell_type": "code",
   "execution_count": 3,
   "id": "89933f69",
   "metadata": {},
   "outputs": [
    {
     "name": "stderr",
     "output_type": "stream",
     "text": [
      "c:\\Users\\biehl\\AppData\\Local\\Programs\\Python\\Python310\\lib\\site-packages\\nbformat\\__init__.py:93: MissingIDFieldWarning: Code cell is missing an id field, this will become a hard error in future nbformat versions. You may want to use `normalize()` on your notebooks before validations (available since nbformat 5.1.4). Previous versions of nbformat are fixing this issue transparently, and will stop doing so in the future.\n",
      "  validate(nb)\n"
     ]
    }
   ],
   "source": [
    "%run SentimentAnalysis.ipynb\n",
    "%run WebScraper.ipynb\n",
    "%run PipelineHelpers.ipynb\n",
    "%run TopicModeling.ipynb\n",
    "%run DataVisualization.ipynb"
   ]
  },
  {
   "cell_type": "markdown",
   "id": "c767401a",
   "metadata": {},
   "source": [
    "# General Pipeline Settings, and Pre-Analysis Setup"
   ]
  },
  {
   "cell_type": "markdown",
   "id": "67afdeff",
   "metadata": {},
   "source": [
    "Below are the customizable settings for all of the analysis and processing parts of the pipeline.\n",
    "\n",
    "Rerun this any time you make changes to these settings, as they will affect the outcome of certain pipeline steps."
   ]
  },
  {
   "cell_type": "markdown",
   "id": "b787c3f5",
   "metadata": {},
   "source": [
    "IMPORTANT: The csvFile object should be set to a properly setup csv file of article URLs that you copy-paste into the same directory as the pipeline files (we use the relative path to access the file). The csvFile format is explained in the user manual, but simply it needs one column with the first entry being \"Address\" and the other entries all being article URLs."
   ]
  },
  {
   "cell_type": "code",
   "execution_count": 4,
   "id": "4e23034f",
   "metadata": {},
   "outputs": [],
   "source": [
    "###\n",
    "### BELOW IS OUR CUSTOMIZABLE SETTINGS\n",
    "###\n",
    "\n",
    "# This is the CSV file that is read in\n",
    "# This csv file should contain a single column of article urls, with the first entry being \"Address\"\n",
    "csv_file = \"urls_gabriel_generated.csv\"\n",
    "\n",
    "\n",
    "# WEBSCRAPING SETTINGS\n",
    "# This is the minimum words that we allow for an article\n",
    "# (to prevent certain blocked articles or bad data)\n",
    "word_count_filter = 150\n",
    "\n",
    "# This is the minimum amount of repeated phrases in a text that we will throw an error for\n",
    "repeated_phrase_filter = 25\n",
    "\n",
    "# This is the list of all social media URLs that we BLOCK (anything in this list WILL NOT be scraped)\n",
    "social_starts_with = [\"https://www.youtube.com\", \"https://youtu.be\", \"https://www.facebook.com\",\n",
    "                          \"https://twitter.com\", \"https://gettr.com/\"]\n",
    "\n",
    "# When webscraping, will only grab the first url_max URLs (set to -1 to turn off)\n",
    "url_max = 50\n",
    "\n",
    "# Used to turn on and off the adjusted labels\n",
    "label_adjuster_on = True\n",
    "\n",
    "# TOPIC MODELING SETTINGS\n",
    "# this will set how our topic modeling is generated: limit to the # of topics,\n",
    "# # of topics we start at, how many we increment by every step\n",
    "topic_model_dict = {\"topic_limit\": 12, \"topic_start\": 5, \"topic_step\": 2}\n",
    "\n",
    "\n",
    "###\n",
    "### END OF CUSTOMIZABLE SETTINGS\n",
    "###\n"
   ]
  },
  {
   "cell_type": "markdown",
   "id": "a9fabe01",
   "metadata": {},
   "source": [
    "# MAIN PIPELINE START"
   ]
  },
  {
   "cell_type": "markdown",
   "id": "ac52c758",
   "metadata": {},
   "source": [
    "## Sentiment Analysis Pipeline"
   ]
  },
  {
   "cell_type": "markdown",
   "id": "65f184f9",
   "metadata": {},
   "source": [
    "Below is the start of our pipeline.\n",
    "\n",
    "Here we create our nlp object and add the pipe to it for sentiment analysis. We then read in our .csv file and convert it to a dataframe to pass in to our sentiment analysis function, and gathers the list of all URLs.\n",
    "\n",
    "Our main_pipeline_sentiment_analysis() function takes in the list of urls, web scrapes their text, and performs sentiment analysis on them, creating a dataframe of all properly scraped articles and their associated sentiment analysis data.\n",
    "\n",
    "df is the main dataframe object we store our data in."
   ]
  },
  {
   "cell_type": "code",
   "execution_count": 5,
   "id": "7ae169b7",
   "metadata": {
    "scrolled": false
   },
   "outputs": [
    {
     "name": "stdout",
     "output_type": "stream",
     "text": [
      "0  Articles Completed\n",
      "Webscraping failed: Word Count or Repeated Phrase\n",
      "https://www.bbc.com/news/world-us-canada-55805698\n",
      "Word count:  39\n",
      "Repeated phrases:  1\n",
      "\n",
      "\n",
      "10  Articles Completed\n",
      "Webscraping failed: Word Count or Repeated Phrase\n",
      "https://apnews.com/hub/hunter-biden\n",
      "Word count:  42\n",
      "Repeated phrases:  1\n",
      "\n",
      "\n",
      "Webscraping failed: Word Count or Repeated Phrase\n",
      "https://www.bbc.com/news/world-us-canada-55805698\n",
      "Word count:  39\n",
      "Repeated phrases:  1\n",
      "\n",
      "\n",
      "20  Articles Completed\n",
      "Webscraping failed: Word Count or Repeated Phrase\n",
      "https://www.wdel.com/news/hunter-biden-prosecutor-wasnt-blocked-from-bringing-california-charges-us-attorney-tells-congress/article_f92d6768-7369-11ee-a69b-d3b116717dfe.html\n",
      "Word count:  13\n",
      "Repeated phrases:  1\n",
      "\n",
      "\n",
      "30  Articles Completed\n",
      "40  Articles Completed\n",
      "Webscraping failed: Word Count or Repeated Phrase\n",
      "https://www.haaretz.com/opinion/editorial/2023-10-26/ty-article-opinion/biden-is-right-after-the-war-its-time-for-two-states/0000018b-6d5a-d1da-a1bb-6dfa4d1c0000\n",
      "Word count:  38\n",
      "Repeated phrases:  1\n",
      "\n",
      "\n",
      "Webscraping Error: Couldn't Parse\n",
      "https://www.axios.com/2023/10/26/biden-post-war-plan-two-state-solution-israel-palestinians\n",
      "\n",
      "\n",
      "Webscraping Error: Couldn't Parse\n",
      "https://thehill.com/homenews/senate/4278429-scott-calls-for-biden-administration-to-revoke-iran-foreign-ministers-visa/\n",
      "\n",
      "\n",
      "Webscraping Error: Couldn't Parse\n",
      "https://thehill.com/homenews/campaign/4271095-joe-biden-polls-2024-donald-trump/\n",
      "\n",
      "\n",
      "Webscraping Error: Couldn't Parse\n",
      "https://www.axios.com/2023/10/26/biden-approval-rating-democrats-israel-gaza\n",
      "\n",
      "\n",
      "83.33% of the csv was scraped.\n",
      "The average sentiment score was: 0.053\n",
      "The average subjectivity score was: 0.407\n"
     ]
    }
   ],
   "source": [
    "# Loading the nlp pipeline and adding spacytextblob\n",
    "nlp = spacy.load('en_core_web_sm')\n",
    "nlp.add_pipe('spacytextblob') #This is used in our sentiment analysis\n",
    "\n",
    "# Using panda to load in our .csv file\n",
    "# File we are checking\n",
    "df = pd.read_csv(csv_file)\n",
    "# Column name we are checking (You can switch this column name to match the csv file)\n",
    "urls = df[\"Address\"].tolist()\n",
    "\n",
    "# Trim to only include the first url_max URLs\n",
    "if url_max > 0:\n",
    "    urls = urls[0:url_max]\n",
    "\n",
    "# Here is where we start the sentiment analysis over all articles\n",
    "df = main_pipeline_sentiment_analysis(urls)\n",
    "\n",
    "if label_adjuster_on:\n",
    "    df = label_adjuster(df)\n"
   ]
  },
  {
   "cell_type": "markdown",
   "id": "7d0b94a9",
   "metadata": {},
   "source": [
    "# TOPIC MODELING"
   ]
  },
  {
   "cell_type": "markdown",
   "id": "40eba53b",
   "metadata": {},
   "source": [
    "# Create Topic Model w/ Highest Coherence"
   ]
  },
  {
   "cell_type": "markdown",
   "id": "e01f58b3",
   "metadata": {},
   "source": [
    "Here we create our LDA topic model, article corpus, and topic-level sentiment analysis dictionary.\n",
    "\n",
    "First we pass in our dataframe df and associated settings. The function will create topic models with varying number of topics, compute the topic coherence score for that number of topics over our articles, and return to us the LDA model that has the highest coherence score. It will display a small graphic showing the topic coherence for each number of topics we tested.\n",
    "\n",
    "Next we will create our topic-level sentiment analysis dictionary using both our dataframe df and the new LDA_model and corpus we just created. This will give us a dictionary of the averaged sentiment scores for every topic of an article, for all articles."
   ]
  },
  {
   "cell_type": "code",
   "execution_count": 6,
   "id": "52b11718",
   "metadata": {},
   "outputs": [
    {
     "data": {
      "image/png": "[encoded data removed]",
      "text/plain": [
       "<Figure size 640x480 with 1 Axes>"
      ]
     },
     "metadata": {},
     "output_type": "display_data"
    }
   ],
   "source": [
    "# This will generate multiple topic models with various topic count, then return\n",
    "# the model with highest coherence it will also display a quick visual of\n",
    "# coherence values, to understand what topic count is best and why it was chosen\n",
    "lda_model, corpus = create_lda_model(topic_model_dict[\"topic_limit\"],\n",
    "                                     topic_model_dict[\"topic_start\"], \n",
    "                                     topic_model_dict[\"topic_step\"])\n",
    "\n",
    "# lda_model is the lda model we will work with, corpus is the actual corpus of articles we use\n",
    "\n",
    "\n",
    "# Here we are making our dictionary of all articles and their associated\n",
    "# topic-level sentiment for every topic\n",
    "topic_level_sentiment = topic_sentence_sentiment_analysis(df, lda_model)\n"
   ]
  },
  {
   "cell_type": "markdown",
   "id": "e90c4670",
   "metadata": {},
   "source": [
    "# DATA VISUALIZATION"
   ]
  },
  {
   "cell_type": "markdown",
   "id": "2cf78edd",
   "metadata": {},
   "source": [
    "## Pre-processing dataframe for visualization"
   ]
  },
  {
   "cell_type": "markdown",
   "id": "08f34a83",
   "metadata": {},
   "source": [
    "Here we preprocess our dataframe to add in a few relevant columns for data vis, as well as creating our topic relevancy dataframe and weighted sentiment dataframe over all topics for all articles. \n",
    "\n",
    "We add the Topics, Main Topic, Main Topic Score, and Shortened Address to the main dataframe (using our preprocess_dataframe_for_datavis() function). This lets the data vis section easily grab the information.\n",
    "\n",
    "Next we create the topic relevancy dataframe df_topics. In df_topics, each row is an article, and each column is a topic. For an article, every cell value represents the relevancy of that topic to that article. So if row 0 column 1 is 0.998, that means Article 0 has a 0.998 relevancy score on Topic 1.\n",
    "\n",
    "We create the per_topic_df, which uses our topic-based sentiment dictionary and our topic relevancy dataframe to make a dataframe where each row is an article and each column is a topic. The cell contains data of the form (sentiment, relevancy) which is a tuple that describes the sentiment value and topic relevancy of that article (row) for that topic (column)."
   ]
  },
  {
   "cell_type": "code",
   "execution_count": 7,
   "id": "097d2461",
   "metadata": {
    "scrolled": true
   },
   "outputs": [],
   "source": [
    "# This generates our dataframe of per-topic sentiment and relevancy for all articles\n",
    "df_topics = generate_topic_relevancy_dataframe(lda_model)\n",
    "\n",
    "# Generate our per-topic dataframe\n",
    "# Format is (SENTIMENT, RELEVANCY)\n",
    "per_topic_df = create_per_topic_tuple_df(topic_level_sentiment, df_topics)\n",
    "\n",
    "# This generates a dataframe ready to use with our data visualizations\n",
    "# (includes some extra information)\n",
    "# This sorts our dataframe so must go last\n",
    "df = preprocess_dataframe_for_datavis(df, lda_model, corpus)\n"
   ]
  },
  {
   "cell_type": "markdown",
   "id": "1a7d0141",
   "metadata": {},
   "source": [
    "## Data Visualization Settings"
   ]
  },
  {
   "cell_type": "markdown",
   "id": "1a648113",
   "metadata": {},
   "source": [
    "Here are the customizable settings for our data visualization section. Since these settings only affect how the data will be visualized, you can rerun the pipeline from this point down without rerunning any of the previous steps. This is recommended if you want to see different parameters for the settings visualized on the same data and LDA model."
   ]
  },
  {
   "cell_type": "code",
   "execution_count": 8,
   "id": "fffb7bbc",
   "metadata": {},
   "outputs": [],
   "source": [
    "# DATA VISUALIZATION SETTINGS\n",
    "# (starts at topic 0) set this list to every topic number you want\n",
    "# displayed individually\n",
    "list_of_topics_to_visualize = [1,2]\n",
    "\n",
    "# This is the settings dictionary for our k-means cluster generation.\n",
    "# max_clusters is used in our inertia visualization,\n",
    "# While num_clusters is our actual cluster count to use and pca_components\n",
    "# is the PCA component count that we use in both (2 should be used because we reduce to 2 dimensions)\n",
    "# the visualization of inertia as well as our actual clustering model.\n",
    "kmeans_settings = {\"max_clusters\": 10, \"num_clusters\": 4, \"pca_components\": 2}\n",
    "\n"
   ]
  },
  {
   "cell_type": "markdown",
   "id": "cc9e1d98",
   "metadata": {},
   "source": [
    "## Display the Main Dataframe and Display the Topic Model"
   ]
  },
  {
   "cell_type": "markdown",
   "id": "dcef6a4c",
   "metadata": {},
   "source": [
    "Display the main dataframe"
   ]
  },
  {
   "cell_type": "code",
   "execution_count": 9,
   "id": "f4a9f515",
   "metadata": {},
   "outputs": [
    {
     "data": {
      "text/html": [
       "<div>\n",
       "<style scoped>\n",
       "    .dataframe tbody tr th:only-of-type {\n",
       "        vertical-align: middle;\n",
       "    }\n",
       "\n",
       "    .dataframe tbody tr th {\n",
       "        vertical-align: top;\n",
       "    }\n",
       "\n",
       "    .dataframe thead th {\n",
       "        text-align: right;\n",
       "    }\n",
       "</style>\n",
       "<table border=\"1\" class=\"dataframe\">\n",
       "  <thead>\n",
       "    <tr style=\"text-align: right;\">\n",
       "      <th></th>\n",
       "      <th>ID</th>\n",
       "      <th>URL</th>\n",
       "      <th>Article Title</th>\n",
       "      <th>Sentiment Score</th>\n",
       "      <th>Sentiment Label</th>\n",
       "      <th>Subjectivity Score</th>\n",
       "      <th>Positive Words</th>\n",
       "      <th>Negative Words</th>\n",
       "      <th>Text</th>\n",
       "      <th>Topics</th>\n",
       "      <th>Main Topic</th>\n",
       "      <th>Main Topic Score</th>\n",
       "      <th>Associated Words</th>\n",
       "      <th>Shortened Address</th>\n",
       "    </tr>\n",
       "  </thead>\n",
       "  <tbody>\n",
       "    <tr>\n",
       "      <th>0</th>\n",
       "      <td>0</td>\n",
       "      <td>https://www.foxnews.com/politics/hunter-bidens...</td>\n",
       "      <td>Hunter Biden's $250K wire from China labeled a...</td>\n",
       "      <td>0.04</td>\n",
       "      <td>Neutral</td>\n",
       "      <td>0.24</td>\n",
       "      <td>legal, best, more, main, unpaid, new, first</td>\n",
       "      <td>least, previously, limited, approximately, fir...</td>\n",
       "      <td>exclusive: the $250,000 wire hunter biden rece...</td>\n",
       "      <td>[(5, 0.99741673)]</td>\n",
       "      <td>5</td>\n",
       "      <td>0.997417</td>\n",
       "      <td>[[biden, hunter, phillip, democratic, run, pre...</td>\n",
       "      <td>www.foxnews.com</td>\n",
       "    </tr>\n",
       "    <tr>\n",
       "      <th>1</th>\n",
       "      <td>1</td>\n",
       "      <td>https://www.foxnews.com/politics/doj-ordered-h...</td>\n",
       "      <td>DOJ ordered Hunter Biden investigators to 'rem...</td>\n",
       "      <td>0.06</td>\n",
       "      <td>Neutral</td>\n",
       "      <td>0.35</td>\n",
       "      <td>clear, appropriate, more, real, wealthy, light...</td>\n",
       "      <td>other, least, criminal, limited, artificially,...</td>\n",
       "      <td>the u.s. department of justice ordered fbi and...</td>\n",
       "      <td>[(10, 0.9979748)]</td>\n",
       "      <td>10</td>\n",
       "      <td>0.997975</td>\n",
       "      <td>[[office, biden, hunter, information, source, ...</td>\n",
       "      <td>www.foxnews.com</td>\n",
       "    </tr>\n",
       "    <tr>\n",
       "      <th>2</th>\n",
       "      <td>2</td>\n",
       "      <td>https://www.foxnews.com/politics/hunter-biden-...</td>\n",
       "      <td>Hunter Biden sues Rudy Giuliani over laptop, a...</td>\n",
       "      <td>-0.04</td>\n",
       "      <td>Negative</td>\n",
       "      <td>0.37</td>\n",
       "      <td>generally, legal, direct, extraordinary, not, ...</td>\n",
       "      <td>hard, other, previously, failure, falsely, jai...</td>\n",
       "      <td>hunter biden on tuesday filed a lawsuit agains...</td>\n",
       "      <td>[(2, 0.99751574)]</td>\n",
       "      <td>2</td>\n",
       "      <td>0.997516</td>\n",
       "      <td>[[hunter, president, republican, biden, politi...</td>\n",
       "      <td>www.foxnews.com</td>\n",
       "    </tr>\n",
       "    <tr>\n",
       "      <th>3</th>\n",
       "      <td>3</td>\n",
       "      <td>https://apnews.com/article/hunter-biden-impeac...</td>\n",
       "      <td>House Republicans make their case for Biden im...</td>\n",
       "      <td>0.02</td>\n",
       "      <td>Neutral Negative</td>\n",
       "      <td>0.37</td>\n",
       "      <td>clear, legal, more, top, high, right, much, ow...</td>\n",
       "      <td>hard, long, previous, military, unlikely, crim...</td>\n",
       "      <td>washington (ap) — house republicans launched a...</td>\n",
       "      <td>[(2, 0.055610362), (5, 0.9023971), (10, 0.0406...</td>\n",
       "      <td>5</td>\n",
       "      <td>0.902397</td>\n",
       "      <td>[[biden, hunter, phillip, democratic, run, pre...</td>\n",
       "      <td>apnews.com</td>\n",
       "    </tr>\n",
       "    <tr>\n",
       "      <th>4</th>\n",
       "      <td>4</td>\n",
       "      <td>https://www.nation.com.pk/21-Jun-2023/hunter-b...</td>\n",
       "      <td>Hunter Biden to plead guilty to federal tax ch...</td>\n",
       "      <td>-0.04</td>\n",
       "      <td>Negative</td>\n",
       "      <td>0.44</td>\n",
       "      <td>love, not, important, social, first, detailed</td>\n",
       "      <td>other, least, criminal, failure, subject, alle...</td>\n",
       "      <td>washigton-hunter biden, the son of president j...</td>\n",
       "      <td>[(1, 0.9945554)]</td>\n",
       "      <td>1</td>\n",
       "      <td>0.994555</td>\n",
       "      <td>[[migrant, chs, biden, task, foreign, influenc...</td>\n",
       "      <td>www.nation.com.pk</td>\n",
       "    </tr>\n",
       "    <tr>\n",
       "      <th>5</th>\n",
       "      <td>5</td>\n",
       "      <td>https://www.nation.com.pk/25-Jul-2021/white-ho...</td>\n",
       "      <td>White House on defensive over Hunter Biden art...</td>\n",
       "      <td>0.10</td>\n",
       "      <td>Neutral Positive</td>\n",
       "      <td>0.41</td>\n",
       "      <td>winning, appropriate, economic, artistic, ethi...</td>\n",
       "      <td>half</td>\n",
       "      <td>washington - the white house assured saturday ...</td>\n",
       "      <td>[(0, 0.9939383)]</td>\n",
       "      <td>0</td>\n",
       "      <td>0.993938</td>\n",
       "      <td>[[primary, state, write, vote, ballot, candida...</td>\n",
       "      <td>www.nation.com.pk</td>\n",
       "    </tr>\n",
       "    <tr>\n",
       "      <th>6</th>\n",
       "      <td>6</td>\n",
       "      <td>https://www.nation.com.pk/24-Dec-2019/hunter-b...</td>\n",
       "      <td>Hunter Biden figures in ‘multiple criminal inv...</td>\n",
       "      <td>-0.11</td>\n",
       "      <td>Negative</td>\n",
       "      <td>0.40</td>\n",
       "      <td>more, nearly, new</td>\n",
       "      <td>criminal, limited, allegedly, alleged, behind,...</td>\n",
       "      <td>hunter biden is the subject of multiple crimin...</td>\n",
       "      <td>[(1, 0.99336314)]</td>\n",
       "      <td>1</td>\n",
       "      <td>0.993363</td>\n",
       "      <td>[[migrant, chs, biden, task, foreign, influenc...</td>\n",
       "      <td>www.nation.com.pk</td>\n",
       "    </tr>\n",
       "    <tr>\n",
       "      <th>7</th>\n",
       "      <td>7</td>\n",
       "      <td>https://www.cnn.com/2023/09/27/politics/house-...</td>\n",
       "      <td>Hunter Biden probe: House Republicans release ...</td>\n",
       "      <td>-0.01</td>\n",
       "      <td>Negative</td>\n",
       "      <td>0.35</td>\n",
       "      <td>significant, completely, new, clear, legal, ap...</td>\n",
       "      <td>other, addicted, alarming, criminal, roughly, ...</td>\n",
       "      <td>washington cnn —\\ndocuments released wednesday...</td>\n",
       "      <td>[(2, 0.40143603), (10, 0.5969172)]</td>\n",
       "      <td>10</td>\n",
       "      <td>0.596917</td>\n",
       "      <td>[[office, biden, hunter, information, source, ...</td>\n",
       "      <td>www.cnn.com</td>\n",
       "    </tr>\n",
       "    <tr>\n",
       "      <th>8</th>\n",
       "      <td>8</td>\n",
       "      <td>https://abcnews.go.com/Politics/comer-issue-su...</td>\n",
       "      <td>Comer says he will issue subpoenas 'today' for...</td>\n",
       "      <td>0.01</td>\n",
       "      <td>Neutral Negative</td>\n",
       "      <td>0.40</td>\n",
       "      <td>more, top, far, new, directly, first</td>\n",
       "      <td>other, extreme, previously, mean, late, missing</td>\n",
       "      <td>house oversight committee chairman james comer...</td>\n",
       "      <td>[(3, 0.9961957)]</td>\n",
       "      <td>3</td>\n",
       "      <td>0.996196</td>\n",
       "      <td>[[hunter, biden, comer, charge, bank, record, ...</td>\n",
       "      <td>abcnews.go.com</td>\n",
       "    </tr>\n",
       "    <tr>\n",
       "      <th>9</th>\n",
       "      <td>9</td>\n",
       "      <td>https://apnews.com/article/hunter-biden-prosec...</td>\n",
       "      <td>Hunter Biden prosecutor wasn’t blocked from br...</td>\n",
       "      <td>0.04</td>\n",
       "      <td>Neutral</td>\n",
       "      <td>0.43</td>\n",
       "      <td>more, very, full, special</td>\n",
       "      <td>other, no, addicted, subject, behind, closed, ...</td>\n",
       "      <td>washington (ap) — a second u.s. attorney has t...</td>\n",
       "      <td>[(8, 0.9942451)]</td>\n",
       "      <td>8</td>\n",
       "      <td>0.994245</td>\n",
       "      <td>[[hunter, hallie, gun, service, secret, tell, ...</td>\n",
       "      <td>apnews.com</td>\n",
       "    </tr>\n",
       "    <tr>\n",
       "      <th>10</th>\n",
       "      <td>10</td>\n",
       "      <td>https://nypost.com/2023/10/26/news/us-attorney...</td>\n",
       "      <td>Biden-picked LA US attorney claimed he was too...</td>\n",
       "      <td>0.03</td>\n",
       "      <td>Neutral</td>\n",
       "      <td>0.45</td>\n",
       "      <td>able, very, winning, more, not, apparent, many...</td>\n",
       "      <td>very, illegal, difficult, corrupt, partially, ...</td>\n",
       "      <td>washington — los angeles us attorney martin es...</td>\n",
       "      <td>[(3, 0.9965947)]</td>\n",
       "      <td>3</td>\n",
       "      <td>0.996595</td>\n",
       "      <td>[[hunter, biden, comer, charge, bank, record, ...</td>\n",
       "      <td>nypost.com</td>\n",
       "    </tr>\n",
       "    <tr>\n",
       "      <th>11</th>\n",
       "      <td>11</td>\n",
       "      <td>https://www.foxnews.com/politics/fbi-received-...</td>\n",
       "      <td>FBI received 'criminal information' from over ...</td>\n",
       "      <td>-0.03</td>\n",
       "      <td>Negative</td>\n",
       "      <td>0.34</td>\n",
       "      <td>certain, rich, top, general, early, grand, cre...</td>\n",
       "      <td>least, merely, unable, corrupt, late, heavily,...</td>\n",
       "      <td>exclusive: the fbi maintained more than 40 con...</td>\n",
       "      <td>[(10, 0.9988268)]</td>\n",
       "      <td>10</td>\n",
       "      <td>0.998827</td>\n",
       "      <td>[[office, biden, hunter, information, source, ...</td>\n",
       "      <td>www.foxnews.com</td>\n",
       "    </tr>\n",
       "    <tr>\n",
       "      <th>12</th>\n",
       "      <td>12</td>\n",
       "      <td>https://www.grassley.senate.gov/news/news-rele...</td>\n",
       "      <td>Grassley Reveals New Details of FBI Efforts to...</td>\n",
       "      <td>-0.00</td>\n",
       "      <td>Neutral Negative</td>\n",
       "      <td>0.39</td>\n",
       "      <td>legally, significant, clear, new, credible, mo...</td>\n",
       "      <td>least, criminal, falsely, behind, center, clos...</td>\n",
       "      <td>fbi’s biden bribery document cleared initial v...</td>\n",
       "      <td>[(10, 0.9951636)]</td>\n",
       "      <td>10</td>\n",
       "      <td>0.995164</td>\n",
       "      <td>[[office, biden, hunter, information, source, ...</td>\n",
       "      <td>www.grassley.senate.gov</td>\n",
       "    </tr>\n",
       "    <tr>\n",
       "      <th>13</th>\n",
       "      <td>13</td>\n",
       "      <td>https://wjla.com/news/nation-world/senator-chu...</td>\n",
       "      <td>Sen. Grassley demand answers over handling of ...</td>\n",
       "      <td>-0.02</td>\n",
       "      <td>Negative</td>\n",
       "      <td>0.35</td>\n",
       "      <td>certain, new, credible, more, really, general</td>\n",
       "      <td>ordinary, other, criminal, false, subject, for...</td>\n",
       "      <td>there are new questions about the role of the ...</td>\n",
       "      <td>[(5, 0.29633737), (10, 0.69555885)]</td>\n",
       "      <td>10</td>\n",
       "      <td>0.695559</td>\n",
       "      <td>[[office, biden, hunter, information, source, ...</td>\n",
       "      <td>wjla.com</td>\n",
       "    </tr>\n",
       "    <tr>\n",
       "      <th>14</th>\n",
       "      <td>14</td>\n",
       "      <td>https://www.newsnationnow.com/danabramslive/ab...</td>\n",
       "      <td>Abrams: Comer’s Biden ‘bombshell’ once again f...</td>\n",
       "      <td>0.14</td>\n",
       "      <td>Positive</td>\n",
       "      <td>0.43</td>\n",
       "      <td>many, much, consistently, more, wants, right, ...</td>\n",
       "      <td>very, mean, tries, single, bad, usually, foreign</td>\n",
       "      <td>the views expressed in this article are those ...</td>\n",
       "      <td>[(3, 0.24094194), (5, 0.75620633)]</td>\n",
       "      <td>5</td>\n",
       "      <td>0.756206</td>\n",
       "      <td>[[biden, hunter, phillip, democratic, run, pre...</td>\n",
       "      <td>www.newsnationnow.com</td>\n",
       "    </tr>\n",
       "    <tr>\n",
       "      <th>15</th>\n",
       "      <td>15</td>\n",
       "      <td>https://nypost.com/2023/10/25/news/us-attorney...</td>\n",
       "      <td>FBI hindered Hunter probe — and David Weiss sk...</td>\n",
       "      <td>0.07</td>\n",
       "      <td>Neutral Positive</td>\n",
       "      <td>0.42</td>\n",
       "      <td>top, own, general, credible, apparently, more,...</td>\n",
       "      <td>other, least, previously, criminal, foreign, a...</td>\n",
       "      <td>a former us attorney said the fbi hindered his...</td>\n",
       "      <td>[(10, 0.9977822)]</td>\n",
       "      <td>10</td>\n",
       "      <td>0.997782</td>\n",
       "      <td>[[office, biden, hunter, information, source, ...</td>\n",
       "      <td>nypost.com</td>\n",
       "    </tr>\n",
       "    <tr>\n",
       "      <th>16</th>\n",
       "      <td>16</td>\n",
       "      <td>https://www.thenation.com/article/politics/rea...</td>\n",
       "      <td>The Real Hunter Biden Scandal</td>\n",
       "      <td>0.09</td>\n",
       "      <td>Neutral Positive</td>\n",
       "      <td>0.44</td>\n",
       "      <td>whole, rich, quickly, legal, love, super, lovi...</td>\n",
       "      <td>merely, troubled, poor, fucked, particularly, ...</td>\n",
       "      <td>subscribe to the nation subscribe now for as l...</td>\n",
       "      <td>[(5, 0.99898285)]</td>\n",
       "      <td>5</td>\n",
       "      <td>0.998983</td>\n",
       "      <td>[[biden, hunter, phillip, democratic, run, pre...</td>\n",
       "      <td>www.thenation.com</td>\n",
       "    </tr>\n",
       "    <tr>\n",
       "      <th>17</th>\n",
       "      <td>17</td>\n",
       "      <td>https://www.politico.com/news/2023/10/26/speak...</td>\n",
       "      <td>Speaker Johnson raises conservatives' hopes fo...</td>\n",
       "      <td>0.12</td>\n",
       "      <td>Positive</td>\n",
       "      <td>0.50</td>\n",
       "      <td>top, high, particularly, convincing, much, gen...</td>\n",
       "      <td>other, complex, least, previously, careful, fa...</td>\n",
       "      <td>“i think mike johnson is more than happy to mo...</td>\n",
       "      <td>[(4, 0.99784535)]</td>\n",
       "      <td>4</td>\n",
       "      <td>0.997845</td>\n",
       "      <td>[[impeachment, think, war, conference, biden, ...</td>\n",
       "      <td>www.politico.com</td>\n",
       "    </tr>\n",
       "    <tr>\n",
       "      <th>18</th>\n",
       "      <td>18</td>\n",
       "      <td>https://www.cnn.com/2023/08/11/politics/hunter...</td>\n",
       "      <td>The new twist in Hunter Biden’s case is a huge...</td>\n",
       "      <td>0.06</td>\n",
       "      <td>Neutral</td>\n",
       "      <td>0.48</td>\n",
       "      <td>legal, kind, top, much, general, effectively, ...</td>\n",
       "      <td>previously, criminally, unable, corrupt, faile...</td>\n",
       "      <td>cnn —\\na sudden new twist in the investigation...</td>\n",
       "      <td>[(2, 0.9988192)]</td>\n",
       "      <td>2</td>\n",
       "      <td>0.998819</td>\n",
       "      <td>[[hunter, president, republican, biden, politi...</td>\n",
       "      <td>www.cnn.com</td>\n",
       "    </tr>\n",
       "    <tr>\n",
       "      <th>19</th>\n",
       "      <td>19</td>\n",
       "      <td>https://www.washingtonexaminer.com/news/white-...</td>\n",
       "      <td>Texts reveal Hunter Biden's meltdown over disc...</td>\n",
       "      <td>-0.06</td>\n",
       "      <td>Negative</td>\n",
       "      <td>0.48</td>\n",
       "      <td>certain, top, high, safe, more, light, not, sp...</td>\n",
       "      <td>hate, hard, addicted, insane, afraid, dead, se...</td>\n",
       "      <td>exclusive — hunter biden berated his sister-in...</td>\n",
       "      <td>[(8, 0.99029315)]</td>\n",
       "      <td>8</td>\n",
       "      <td>0.990293</td>\n",
       "      <td>[[hunter, hallie, gun, service, secret, tell, ...</td>\n",
       "      <td>www.washingtonexaminer.com</td>\n",
       "    </tr>\n",
       "    <tr>\n",
       "      <th>20</th>\n",
       "      <td>20</td>\n",
       "      <td>https://www.dailymail.co.uk/news/article-12673...</td>\n",
       "      <td>Over 40 confidential FBI sources say there's e...</td>\n",
       "      <td>-0.03</td>\n",
       "      <td>Negative</td>\n",
       "      <td>0.39</td>\n",
       "      <td>significant, certain, clear, strong, credible,...</td>\n",
       "      <td>least, questionable, criminal, falsely, corrup...</td>\n",
       "      <td>over 40 confidential fbi sources say there's e...</td>\n",
       "      <td>[(10, 0.9975624)]</td>\n",
       "      <td>10</td>\n",
       "      <td>0.997562</td>\n",
       "      <td>[[office, biden, hunter, information, source, ...</td>\n",
       "      <td>www.dailymail.co.uk</td>\n",
       "    </tr>\n",
       "    <tr>\n",
       "      <th>21</th>\n",
       "      <td>21</td>\n",
       "      <td>https://thefederalist.com/2023/10/26/fbi-and-i...</td>\n",
       "      <td>FBI Purged Sources Who Were Onto Biden Corruption</td>\n",
       "      <td>0.01</td>\n",
       "      <td>Neutral Negative</td>\n",
       "      <td>0.37</td>\n",
       "      <td>legal, many, general, potentially, more, preci...</td>\n",
       "      <td>other, previously, criminal, less, irrelevant,...</td>\n",
       "      <td>the fbi’s foreign influence task force used a ...</td>\n",
       "      <td>[(1, 0.44468012), (3, 0.049886886), (10, 0.504...</td>\n",
       "      <td>10</td>\n",
       "      <td>0.504322</td>\n",
       "      <td>[[office, biden, hunter, information, source, ...</td>\n",
       "      <td>thefederalist.com</td>\n",
       "    </tr>\n",
       "    <tr>\n",
       "      <th>22</th>\n",
       "      <td>22</td>\n",
       "      <td>https://www.washingtontimes.com/news/2023/oct/...</td>\n",
       "      <td>‘Political infection’: Senior senator says FBI...</td>\n",
       "      <td>0.09</td>\n",
       "      <td>Neutral Positive</td>\n",
       "      <td>0.40</td>\n",
       "      <td>significant, clear, credible, more, most, orig...</td>\n",
       "      <td>potentially, other, disturbing, alleged, forei...</td>\n",
       "      <td>more than 40 confidential sources were providi...</td>\n",
       "      <td>[(5, 0.18522981), (10, 0.8104622)]</td>\n",
       "      <td>10</td>\n",
       "      <td>0.810462</td>\n",
       "      <td>[[office, biden, hunter, information, source, ...</td>\n",
       "      <td>www.washingtontimes.com</td>\n",
       "    </tr>\n",
       "    <tr>\n",
       "      <th>23</th>\n",
       "      <td>23</td>\n",
       "      <td>https://www.usatoday.com/story/news/politics/2...</td>\n",
       "      <td>Biden weighs in on Mike Johnson, new Speaker o...</td>\n",
       "      <td>0.20</td>\n",
       "      <td>Positive</td>\n",
       "      <td>0.41</td>\n",
       "      <td>legal, unprecedented, real, important, new, ab...</td>\n",
       "      <td>common</td>\n",
       "      <td>washington − president joe biden, weighing in ...</td>\n",
       "      <td>[(6, 0.991882)]</td>\n",
       "      <td>6</td>\n",
       "      <td>0.991882</td>\n",
       "      <td>[[biden, republican, election, president, nomi...</td>\n",
       "      <td>www.usatoday.com</td>\n",
       "    </tr>\n",
       "    <tr>\n",
       "      <th>24</th>\n",
       "      <td>24</td>\n",
       "      <td>https://apnews.com/article/biden-new-hampshire...</td>\n",
       "      <td>So Biden’s a no-show on the New Hampshire prim...</td>\n",
       "      <td>0.17</td>\n",
       "      <td>Positive</td>\n",
       "      <td>0.47</td>\n",
       "      <td>winning, social, general, primary, win, more, ...</td>\n",
       "      <td>minimal, other, least, slow, usually, not, hal...</td>\n",
       "      <td>washington (ap) — president joe biden wasn’t s...</td>\n",
       "      <td>[(0, 0.99822426)]</td>\n",
       "      <td>0</td>\n",
       "      <td>0.998224</td>\n",
       "      <td>[[primary, state, write, vote, ballot, candida...</td>\n",
       "      <td>apnews.com</td>\n",
       "    </tr>\n",
       "    <tr>\n",
       "      <th>25</th>\n",
       "      <td>25</td>\n",
       "      <td>https://www.politico.com/news/2023/10/24/biden...</td>\n",
       "      <td>Biden won’t appear on New Hampshire primary ba...</td>\n",
       "      <td>0.21</td>\n",
       "      <td>Positive</td>\n",
       "      <td>0.51</td>\n",
       "      <td>primary, new, more, general, early</td>\n",
       "      <td></td>\n",
       "      <td>president joe biden’s name will not appear on ...</td>\n",
       "      <td>[(0, 0.36605024), (9, 0.62053573)]</td>\n",
       "      <td>9</td>\n",
       "      <td>0.620536</td>\n",
       "      <td>[[ballot, move, state, calendar, appear, prima...</td>\n",
       "      <td>www.politico.com</td>\n",
       "    </tr>\n",
       "    <tr>\n",
       "      <th>26</th>\n",
       "      <td>26</td>\n",
       "      <td>https://www.nbcnews.com/politics/2024-election...</td>\n",
       "      <td>Republicans float a quiet conspiracy theory th...</td>\n",
       "      <td>0.04</td>\n",
       "      <td>Neutral</td>\n",
       "      <td>0.41</td>\n",
       "      <td>old, quickly, love, social, much, general, eff...</td>\n",
       "      <td>late, dangerous, other, disastrous, very, ment...</td>\n",
       "      <td>president joe biden announced in april that he...</td>\n",
       "      <td>[(6, 0.99801916)]</td>\n",
       "      <td>6</td>\n",
       "      <td>0.998019</td>\n",
       "      <td>[[biden, republican, election, president, nomi...</td>\n",
       "      <td>www.nbcnews.com</td>\n",
       "    </tr>\n",
       "    <tr>\n",
       "      <th>27</th>\n",
       "      <td>27</td>\n",
       "      <td>https://www.foxnews.com/media/james-carville-c...</td>\n",
       "      <td>James Carville calls Democrats 'ludicrous' who...</td>\n",
       "      <td>-0.00</td>\n",
       "      <td>Neutral Negative</td>\n",
       "      <td>0.39</td>\n",
       "      <td>old, clear, more, pretty, most, far, new, cont...</td>\n",
       "      <td>mental, other, least, unlikely, black, illegal...</td>\n",
       "      <td>democratic strategist james carville said in a...</td>\n",
       "      <td>[(5, 0.99552065)]</td>\n",
       "      <td>5</td>\n",
       "      <td>0.995521</td>\n",
       "      <td>[[biden, hunter, phillip, democratic, run, pre...</td>\n",
       "      <td>www.foxnews.com</td>\n",
       "    </tr>\n",
       "    <tr>\n",
       "      <th>28</th>\n",
       "      <td>28</td>\n",
       "      <td>https://abcnews.go.com/Politics/white-democrat...</td>\n",
       "      <td>Non-white Dems upset as Dean Phillips expected...</td>\n",
       "      <td>0.09</td>\n",
       "      <td>Neutral Positive</td>\n",
       "      <td>0.46</td>\n",
       "      <td>quickly, better, compelling, own, general, goo...</td>\n",
       "      <td>hard, long, least, other, black, poor, not, ba...</td>\n",
       "      <td>minnesota rep. dean phillips' expected decisio...</td>\n",
       "      <td>[(5, 0.99731755)]</td>\n",
       "      <td>5</td>\n",
       "      <td>0.997318</td>\n",
       "      <td>[[biden, hunter, phillip, democratic, run, pre...</td>\n",
       "      <td>abcnews.go.com</td>\n",
       "    </tr>\n",
       "    <tr>\n",
       "      <th>29</th>\n",
       "      <td>29</td>\n",
       "      <td>https://www.washingtonpost.com/politics/2023/1...</td>\n",
       "      <td>Dean Phillips’s primary challenge of Biden wil...</td>\n",
       "      <td>0.13</td>\n",
       "      <td>Positive</td>\n",
       "      <td>0.38</td>\n",
       "      <td>old, better, much, many, own, general, early, ...</td>\n",
       "      <td>least, obstacles, trouble, expected, frustrati...</td>\n",
       "      <td>listen 9 min share comment on this story comme...</td>\n",
       "      <td>[(5, 0.9987662)]</td>\n",
       "      <td>5</td>\n",
       "      <td>0.998766</td>\n",
       "      <td>[[biden, hunter, phillip, democratic, run, pre...</td>\n",
       "      <td>www.washingtonpost.com</td>\n",
       "    </tr>\n",
       "    <tr>\n",
       "      <th>30</th>\n",
       "      <td>30</td>\n",
       "      <td>https://www.wmur.com/article/biden-new-hampshi...</td>\n",
       "      <td>Biden campaign announces he won't appear on Ne...</td>\n",
       "      <td>0.22</td>\n",
       "      <td>Positive</td>\n",
       "      <td>0.47</td>\n",
       "      <td>legal, top, high, own, good, primary, uncommon...</td>\n",
       "      <td>other, least, tired, not, sec, small, expected</td>\n",
       "      <td>says no matter what happens - new hampshire wi...</td>\n",
       "      <td>[(0, 0.33372775), (4, 0.6629858)]</td>\n",
       "      <td>4</td>\n",
       "      <td>0.662986</td>\n",
       "      <td>[[impeachment, think, war, conference, biden, ...</td>\n",
       "      <td>www.wmur.com</td>\n",
       "    </tr>\n",
       "    <tr>\n",
       "      <th>31</th>\n",
       "      <td>31</td>\n",
       "      <td>https://www.startribune.com/minnesota-rep-dean...</td>\n",
       "      <td>Rep. Dean Phillips to announce presidential ca...</td>\n",
       "      <td>0.14</td>\n",
       "      <td>Positive</td>\n",
       "      <td>0.42</td>\n",
       "      <td>great, primary, best, more, most, right, promi...</td>\n",
       "      <td>disappointed, behind, secret, cold</td>\n",
       "      <td>concord, n.h. — dean phillips is running for p...</td>\n",
       "      <td>[(7, 0.99531347)]</td>\n",
       "      <td>7</td>\n",
       "      <td>0.995313</td>\n",
       "      <td>[[phillip, president, campaign, biden, primary...</td>\n",
       "      <td>www.startribune.com</td>\n",
       "    </tr>\n",
       "    <tr>\n",
       "      <th>32</th>\n",
       "      <td>32</td>\n",
       "      <td>https://www.reuters.com/world/middle-east/bide...</td>\n",
       "      <td>Biden says he has 'no confidence' in Palestini...</td>\n",
       "      <td>0.02</td>\n",
       "      <td>Neutral Negative</td>\n",
       "      <td>0.46</td>\n",
       "      <td>innocent, rose, high, many, confirmed, sure</td>\n",
       "      <td>unable, difficult, behind, incredibly, killed,...</td>\n",
       "      <td>u.s. president joe biden addresses a joint pre...</td>\n",
       "      <td>[(4, 0.9937296)]</td>\n",
       "      <td>4</td>\n",
       "      <td>0.993730</td>\n",
       "      <td>[[impeachment, think, war, conference, biden, ...</td>\n",
       "      <td>www.reuters.com</td>\n",
       "    </tr>\n",
       "    <tr>\n",
       "      <th>33</th>\n",
       "      <td>33</td>\n",
       "      <td>https://apnews.com/article/biden-west-bank-set...</td>\n",
       "      <td>Biden condemns retaliatory attacks by Israeli ...</td>\n",
       "      <td>0.06</td>\n",
       "      <td>Neutral</td>\n",
       "      <td>0.35</td>\n",
       "      <td>safely, free, live, more, sure, real, large, i...</td>\n",
       "      <td>military, other, carefully, not, expected, inc...</td>\n",
       "      <td>washington (ap) — president joe biden on wedne...</td>\n",
       "      <td>[(4, 0.08116024), (8, 0.91563064)]</td>\n",
       "      <td>8</td>\n",
       "      <td>0.915631</td>\n",
       "      <td>[[hunter, hallie, gun, service, secret, tell, ...</td>\n",
       "      <td>apnews.com</td>\n",
       "    </tr>\n",
       "    <tr>\n",
       "      <th>34</th>\n",
       "      <td>34</td>\n",
       "      <td>https://www.cnn.com/2023/10/26/politics/biden-...</td>\n",
       "      <td>The Biden coalition risks a damaging break ove...</td>\n",
       "      <td>0.08</td>\n",
       "      <td>Neutral Positive</td>\n",
       "      <td>0.43</td>\n",
       "      <td>safely, kind, particularly, many, much, boldly...</td>\n",
       "      <td>military, harsh, other, deeply, brutal, chilli...</td>\n",
       "      <td>cnn —\\nthe liberal coalition that drove joe bi...</td>\n",
       "      <td>[(4, 0.04689686), (10, 0.95167726)]</td>\n",
       "      <td>10</td>\n",
       "      <td>0.951677</td>\n",
       "      <td>[[office, biden, hunter, information, source, ...</td>\n",
       "      <td>www.cnn.com</td>\n",
       "    </tr>\n",
       "    <tr>\n",
       "      <th>35</th>\n",
       "      <td>35</td>\n",
       "      <td>https://www.foxnews.com/politics/cair-slams-bi...</td>\n",
       "      <td>CAIR slams Biden remarks on Palestinian civili...</td>\n",
       "      <td>0.01</td>\n",
       "      <td>Neutral Negative</td>\n",
       "      <td>0.41</td>\n",
       "      <td>significant, innocent, more, live, truthful, h...</td>\n",
       "      <td>crushed, other, previously, blasted, alleged, ...</td>\n",
       "      <td>a u.s.-based pro-muslim group blasted presiden...</td>\n",
       "      <td>[(3, 0.73848796), (4, 0.25911224)]</td>\n",
       "      <td>3</td>\n",
       "      <td>0.738488</td>\n",
       "      <td>[[hunter, biden, comer, charge, bank, record, ...</td>\n",
       "      <td>www.foxnews.com</td>\n",
       "    </tr>\n",
       "    <tr>\n",
       "      <th>36</th>\n",
       "      <td>36</td>\n",
       "      <td>https://www.washingtonpost.com/politics/2023/1...</td>\n",
       "      <td>Progressives rebel against Biden’s handling of...</td>\n",
       "      <td>0.05</td>\n",
       "      <td>Neutral</td>\n",
       "      <td>0.37</td>\n",
       "      <td>certain, kind, publicly, particularly, many, s...</td>\n",
       "      <td>hate, least, carefully, disappointed, evil, tr...</td>\n",
       "      <td>listen 9 min share comment on this story comme...</td>\n",
       "      <td>[(5, 0.2634238), (10, 0.7354018)]</td>\n",
       "      <td>10</td>\n",
       "      <td>0.735402</td>\n",
       "      <td>[[office, biden, hunter, information, source, ...</td>\n",
       "      <td>www.washingtonpost.com</td>\n",
       "    </tr>\n",
       "    <tr>\n",
       "      <th>37</th>\n",
       "      <td>37</td>\n",
       "      <td>https://www.usatoday.com/story/news/world/2023...</td>\n",
       "      <td>Biden warns Iran not to attack American troops...</td>\n",
       "      <td>0.08</td>\n",
       "      <td>Neutral Positive</td>\n",
       "      <td>0.44</td>\n",
       "      <td>significant, clear, quickly, safely, very, mor...</td>\n",
       "      <td>military, least, careful, stark, trapped, roug...</td>\n",
       "      <td>washington — president joe biden said he issue...</td>\n",
       "      <td>[(4, 0.9964895)]</td>\n",
       "      <td>4</td>\n",
       "      <td>0.996490</td>\n",
       "      <td>[[impeachment, think, war, conference, biden, ...</td>\n",
       "      <td>www.usatoday.com</td>\n",
       "    </tr>\n",
       "    <tr>\n",
       "      <th>38</th>\n",
       "      <td>38</td>\n",
       "      <td>https://www.reuters.com/world/middle-east/bide...</td>\n",
       "      <td>Biden warns Iran against targeting US troops i...</td>\n",
       "      <td>-0.01</td>\n",
       "      <td>Negative</td>\n",
       "      <td>0.23</td>\n",
       "      <td>elaborate, rare, more, direct, not, social, mo...</td>\n",
       "      <td>military, other, least, unable, killed, past, ...</td>\n",
       "      <td>iran's supreme leader ayatollah ali khamenei a...</td>\n",
       "      <td>[(4, 0.2105086), (10, 0.7860232)]</td>\n",
       "      <td>10</td>\n",
       "      <td>0.786023</td>\n",
       "      <td>[[office, biden, hunter, information, source, ...</td>\n",
       "      <td>www.reuters.com</td>\n",
       "    </tr>\n",
       "    <tr>\n",
       "      <th>39</th>\n",
       "      <td>39</td>\n",
       "      <td>https://www.foxnews.com/politics/nearly-two-th...</td>\n",
       "      <td>Nearly two-thirds of New Yorkers blame Biden f...</td>\n",
       "      <td>0.08</td>\n",
       "      <td>Neutral Positive</td>\n",
       "      <td>0.46</td>\n",
       "      <td>strong, controversial, win, more, available, t...</td>\n",
       "      <td>other, least, slow, destroy, no, very, narrow,...</td>\n",
       "      <td>a new poll found that nearly two-thirds of new...</td>\n",
       "      <td>[(1, 0.99720234)]</td>\n",
       "      <td>1</td>\n",
       "      <td>0.997202</td>\n",
       "      <td>[[migrant, chs, biden, task, foreign, influenc...</td>\n",
       "      <td>www.foxnews.com</td>\n",
       "    </tr>\n",
       "  </tbody>\n",
       "</table>\n",
       "</div>"
      ],
      "text/plain": [
       "    ID                                                URL  \\\n",
       "0    0  https://www.foxnews.com/politics/hunter-bidens...   \n",
       "1    1  https://www.foxnews.com/politics/doj-ordered-h...   \n",
       "2    2  https://www.foxnews.com/politics/hunter-biden-...   \n",
       "3    3  https://apnews.com/article/hunter-biden-impeac...   \n",
       "4    4  https://www.nation.com.pk/21-Jun-2023/hunter-b...   \n",
       "5    5  https://www.nation.com.pk/25-Jul-2021/white-ho...   \n",
       "6    6  https://www.nation.com.pk/24-Dec-2019/hunter-b...   \n",
       "7    7  https://www.cnn.com/2023/09/27/politics/house-...   \n",
       "8    8  https://abcnews.go.com/Politics/comer-issue-su...   \n",
       "9    9  https://apnews.com/article/hunter-biden-prosec...   \n",
       "10  10  https://nypost.com/2023/10/26/news/us-attorney...   \n",
       "11  11  https://www.foxnews.com/politics/fbi-received-...   \n",
       "12  12  https://www.grassley.senate.gov/news/news-rele...   \n",
       "13  13  https://wjla.com/news/nation-world/senator-chu...   \n",
       "14  14  https://www.newsnationnow.com/danabramslive/ab...   \n",
       "15  15  https://nypost.com/2023/10/25/news/us-attorney...   \n",
       "16  16  https://www.thenation.com/article/politics/rea...   \n",
       "17  17  https://www.politico.com/news/2023/10/26/speak...   \n",
       "18  18  https://www.cnn.com/2023/08/11/politics/hunter...   \n",
       "19  19  https://www.washingtonexaminer.com/news/white-...   \n",
       "20  20  https://www.dailymail.co.uk/news/article-12673...   \n",
       "21  21  https://thefederalist.com/2023/10/26/fbi-and-i...   \n",
       "22  22  https://www.washingtontimes.com/news/2023/oct/...   \n",
       "23  23  https://www.usatoday.com/story/news/politics/2...   \n",
       "24  24  https://apnews.com/article/biden-new-hampshire...   \n",
       "25  25  https://www.politico.com/news/2023/10/24/biden...   \n",
       "26  26  https://www.nbcnews.com/politics/2024-election...   \n",
       "27  27  https://www.foxnews.com/media/james-carville-c...   \n",
       "28  28  https://abcnews.go.com/Politics/white-democrat...   \n",
       "29  29  https://www.washingtonpost.com/politics/2023/1...   \n",
       "30  30  https://www.wmur.com/article/biden-new-hampshi...   \n",
       "31  31  https://www.startribune.com/minnesota-rep-dean...   \n",
       "32  32  https://www.reuters.com/world/middle-east/bide...   \n",
       "33  33  https://apnews.com/article/biden-west-bank-set...   \n",
       "34  34  https://www.cnn.com/2023/10/26/politics/biden-...   \n",
       "35  35  https://www.foxnews.com/politics/cair-slams-bi...   \n",
       "36  36  https://www.washingtonpost.com/politics/2023/1...   \n",
       "37  37  https://www.usatoday.com/story/news/world/2023...   \n",
       "38  38  https://www.reuters.com/world/middle-east/bide...   \n",
       "39  39  https://www.foxnews.com/politics/nearly-two-th...   \n",
       "\n",
       "                                        Article Title  Sentiment Score  \\\n",
       "0   Hunter Biden's $250K wire from China labeled a...             0.04   \n",
       "1   DOJ ordered Hunter Biden investigators to 'rem...             0.06   \n",
       "2   Hunter Biden sues Rudy Giuliani over laptop, a...            -0.04   \n",
       "3   House Republicans make their case for Biden im...             0.02   \n",
       "4   Hunter Biden to plead guilty to federal tax ch...            -0.04   \n",
       "5   White House on defensive over Hunter Biden art...             0.10   \n",
       "6   Hunter Biden figures in ‘multiple criminal inv...            -0.11   \n",
       "7   Hunter Biden probe: House Republicans release ...            -0.01   \n",
       "8   Comer says he will issue subpoenas 'today' for...             0.01   \n",
       "9   Hunter Biden prosecutor wasn’t blocked from br...             0.04   \n",
       "10  Biden-picked LA US attorney claimed he was too...             0.03   \n",
       "11  FBI received 'criminal information' from over ...            -0.03   \n",
       "12  Grassley Reveals New Details of FBI Efforts to...            -0.00   \n",
       "13  Sen. Grassley demand answers over handling of ...            -0.02   \n",
       "14  Abrams: Comer’s Biden ‘bombshell’ once again f...             0.14   \n",
       "15  FBI hindered Hunter probe — and David Weiss sk...             0.07   \n",
       "16                      The Real Hunter Biden Scandal             0.09   \n",
       "17  Speaker Johnson raises conservatives' hopes fo...             0.12   \n",
       "18  The new twist in Hunter Biden’s case is a huge...             0.06   \n",
       "19  Texts reveal Hunter Biden's meltdown over disc...            -0.06   \n",
       "20  Over 40 confidential FBI sources say there's e...            -0.03   \n",
       "21  FBI Purged Sources Who Were Onto Biden Corruption             0.01   \n",
       "22  ‘Political infection’: Senior senator says FBI...             0.09   \n",
       "23  Biden weighs in on Mike Johnson, new Speaker o...             0.20   \n",
       "24  So Biden’s a no-show on the New Hampshire prim...             0.17   \n",
       "25  Biden won’t appear on New Hampshire primary ba...             0.21   \n",
       "26  Republicans float a quiet conspiracy theory th...             0.04   \n",
       "27  James Carville calls Democrats 'ludicrous' who...            -0.00   \n",
       "28  Non-white Dems upset as Dean Phillips expected...             0.09   \n",
       "29  Dean Phillips’s primary challenge of Biden wil...             0.13   \n",
       "30  Biden campaign announces he won't appear on Ne...             0.22   \n",
       "31  Rep. Dean Phillips to announce presidential ca...             0.14   \n",
       "32  Biden says he has 'no confidence' in Palestini...             0.02   \n",
       "33  Biden condemns retaliatory attacks by Israeli ...             0.06   \n",
       "34  The Biden coalition risks a damaging break ove...             0.08   \n",
       "35  CAIR slams Biden remarks on Palestinian civili...             0.01   \n",
       "36  Progressives rebel against Biden’s handling of...             0.05   \n",
       "37  Biden warns Iran not to attack American troops...             0.08   \n",
       "38  Biden warns Iran against targeting US troops i...            -0.01   \n",
       "39  Nearly two-thirds of New Yorkers blame Biden f...             0.08   \n",
       "\n",
       "     Sentiment Label  Subjectivity Score  \\\n",
       "0            Neutral                0.24   \n",
       "1            Neutral                0.35   \n",
       "2           Negative                0.37   \n",
       "3   Neutral Negative                0.37   \n",
       "4           Negative                0.44   \n",
       "5   Neutral Positive                0.41   \n",
       "6           Negative                0.40   \n",
       "7           Negative                0.35   \n",
       "8   Neutral Negative                0.40   \n",
       "9            Neutral                0.43   \n",
       "10           Neutral                0.45   \n",
       "11          Negative                0.34   \n",
       "12  Neutral Negative                0.39   \n",
       "13          Negative                0.35   \n",
       "14          Positive                0.43   \n",
       "15  Neutral Positive                0.42   \n",
       "16  Neutral Positive                0.44   \n",
       "17          Positive                0.50   \n",
       "18           Neutral                0.48   \n",
       "19          Negative                0.48   \n",
       "20          Negative                0.39   \n",
       "21  Neutral Negative                0.37   \n",
       "22  Neutral Positive                0.40   \n",
       "23          Positive                0.41   \n",
       "24          Positive                0.47   \n",
       "25          Positive                0.51   \n",
       "26           Neutral                0.41   \n",
       "27  Neutral Negative                0.39   \n",
       "28  Neutral Positive                0.46   \n",
       "29          Positive                0.38   \n",
       "30          Positive                0.47   \n",
       "31          Positive                0.42   \n",
       "32  Neutral Negative                0.46   \n",
       "33           Neutral                0.35   \n",
       "34  Neutral Positive                0.43   \n",
       "35  Neutral Negative                0.41   \n",
       "36           Neutral                0.37   \n",
       "37  Neutral Positive                0.44   \n",
       "38          Negative                0.23   \n",
       "39  Neutral Positive                0.46   \n",
       "\n",
       "                                       Positive Words  \\\n",
       "0         legal, best, more, main, unpaid, new, first   \n",
       "1   clear, appropriate, more, real, wealthy, light...   \n",
       "2   generally, legal, direct, extraordinary, not, ...   \n",
       "3   clear, legal, more, top, high, right, much, ow...   \n",
       "4       love, not, important, social, first, detailed   \n",
       "5   winning, appropriate, economic, artistic, ethi...   \n",
       "6                                   more, nearly, new   \n",
       "7   significant, completely, new, clear, legal, ap...   \n",
       "8                more, top, far, new, directly, first   \n",
       "9                           more, very, full, special   \n",
       "10  able, very, winning, more, not, apparent, many...   \n",
       "11  certain, rich, top, general, early, grand, cre...   \n",
       "12  legally, significant, clear, new, credible, mo...   \n",
       "13      certain, new, credible, more, really, general   \n",
       "14  many, much, consistently, more, wants, right, ...   \n",
       "15  top, own, general, credible, apparently, more,...   \n",
       "16  whole, rich, quickly, legal, love, super, lovi...   \n",
       "17  top, high, particularly, convincing, much, gen...   \n",
       "18  legal, kind, top, much, general, effectively, ...   \n",
       "19  certain, top, high, safe, more, light, not, sp...   \n",
       "20  significant, certain, clear, strong, credible,...   \n",
       "21  legal, many, general, potentially, more, preci...   \n",
       "22  significant, clear, credible, more, most, orig...   \n",
       "23  legal, unprecedented, real, important, new, ab...   \n",
       "24  winning, social, general, primary, win, more, ...   \n",
       "25                 primary, new, more, general, early   \n",
       "26  old, quickly, love, social, much, general, eff...   \n",
       "27  old, clear, more, pretty, most, far, new, cont...   \n",
       "28  quickly, better, compelling, own, general, goo...   \n",
       "29  old, better, much, many, own, general, early, ...   \n",
       "30  legal, top, high, own, good, primary, uncommon...   \n",
       "31  great, primary, best, more, most, right, promi...   \n",
       "32        innocent, rose, high, many, confirmed, sure   \n",
       "33  safely, free, live, more, sure, real, large, i...   \n",
       "34  safely, kind, particularly, many, much, boldly...   \n",
       "35  significant, innocent, more, live, truthful, h...   \n",
       "36  certain, kind, publicly, particularly, many, s...   \n",
       "37  significant, clear, quickly, safely, very, mor...   \n",
       "38  elaborate, rare, more, direct, not, social, mo...   \n",
       "39  strong, controversial, win, more, available, t...   \n",
       "\n",
       "                                       Negative Words  \\\n",
       "0   least, previously, limited, approximately, fir...   \n",
       "1   other, least, criminal, limited, artificially,...   \n",
       "2   hard, other, previously, failure, falsely, jai...   \n",
       "3   hard, long, previous, military, unlikely, crim...   \n",
       "4   other, least, criminal, failure, subject, alle...   \n",
       "5                                                half   \n",
       "6   criminal, limited, allegedly, alleged, behind,...   \n",
       "7   other, addicted, alarming, criminal, roughly, ...   \n",
       "8     other, extreme, previously, mean, late, missing   \n",
       "9   other, no, addicted, subject, behind, closed, ...   \n",
       "10  very, illegal, difficult, corrupt, partially, ...   \n",
       "11  least, merely, unable, corrupt, late, heavily,...   \n",
       "12  least, criminal, falsely, behind, center, clos...   \n",
       "13  ordinary, other, criminal, false, subject, for...   \n",
       "14   very, mean, tries, single, bad, usually, foreign   \n",
       "15  other, least, previously, criminal, foreign, a...   \n",
       "16  merely, troubled, poor, fucked, particularly, ...   \n",
       "17  other, complex, least, previously, careful, fa...   \n",
       "18  previously, criminally, unable, corrupt, faile...   \n",
       "19  hate, hard, addicted, insane, afraid, dead, se...   \n",
       "20  least, questionable, criminal, falsely, corrup...   \n",
       "21  other, previously, criminal, less, irrelevant,...   \n",
       "22  potentially, other, disturbing, alleged, forei...   \n",
       "23                                             common   \n",
       "24  minimal, other, least, slow, usually, not, hal...   \n",
       "25                                                      \n",
       "26  late, dangerous, other, disastrous, very, ment...   \n",
       "27  mental, other, least, unlikely, black, illegal...   \n",
       "28  hard, long, least, other, black, poor, not, ba...   \n",
       "29  least, obstacles, trouble, expected, frustrati...   \n",
       "30     other, least, tired, not, sec, small, expected   \n",
       "31                 disappointed, behind, secret, cold   \n",
       "32  unable, difficult, behind, incredibly, killed,...   \n",
       "33  military, other, carefully, not, expected, inc...   \n",
       "34  military, harsh, other, deeply, brutal, chilli...   \n",
       "35  crushed, other, previously, blasted, alleged, ...   \n",
       "36  hate, least, carefully, disappointed, evil, tr...   \n",
       "37  military, least, careful, stark, trapped, roug...   \n",
       "38  military, other, least, unable, killed, past, ...   \n",
       "39  other, least, slow, destroy, no, very, narrow,...   \n",
       "\n",
       "                                                 Text  \\\n",
       "0   exclusive: the $250,000 wire hunter biden rece...   \n",
       "1   the u.s. department of justice ordered fbi and...   \n",
       "2   hunter biden on tuesday filed a lawsuit agains...   \n",
       "3   washington (ap) — house republicans launched a...   \n",
       "4   washigton-hunter biden, the son of president j...   \n",
       "5   washington - the white house assured saturday ...   \n",
       "6   hunter biden is the subject of multiple crimin...   \n",
       "7   washington cnn —\\ndocuments released wednesday...   \n",
       "8   house oversight committee chairman james comer...   \n",
       "9   washington (ap) — a second u.s. attorney has t...   \n",
       "10  washington — los angeles us attorney martin es...   \n",
       "11  exclusive: the fbi maintained more than 40 con...   \n",
       "12  fbi’s biden bribery document cleared initial v...   \n",
       "13  there are new questions about the role of the ...   \n",
       "14  the views expressed in this article are those ...   \n",
       "15  a former us attorney said the fbi hindered his...   \n",
       "16  subscribe to the nation subscribe now for as l...   \n",
       "17  “i think mike johnson is more than happy to mo...   \n",
       "18  cnn —\\na sudden new twist in the investigation...   \n",
       "19  exclusive — hunter biden berated his sister-in...   \n",
       "20  over 40 confidential fbi sources say there's e...   \n",
       "21  the fbi’s foreign influence task force used a ...   \n",
       "22  more than 40 confidential sources were providi...   \n",
       "23  washington − president joe biden, weighing in ...   \n",
       "24  washington (ap) — president joe biden wasn’t s...   \n",
       "25  president joe biden’s name will not appear on ...   \n",
       "26  president joe biden announced in april that he...   \n",
       "27  democratic strategist james carville said in a...   \n",
       "28  minnesota rep. dean phillips' expected decisio...   \n",
       "29  listen 9 min share comment on this story comme...   \n",
       "30  says no matter what happens - new hampshire wi...   \n",
       "31  concord, n.h. — dean phillips is running for p...   \n",
       "32  u.s. president joe biden addresses a joint pre...   \n",
       "33  washington (ap) — president joe biden on wedne...   \n",
       "34  cnn —\\nthe liberal coalition that drove joe bi...   \n",
       "35  a u.s.-based pro-muslim group blasted presiden...   \n",
       "36  listen 9 min share comment on this story comme...   \n",
       "37  washington — president joe biden said he issue...   \n",
       "38  iran's supreme leader ayatollah ali khamenei a...   \n",
       "39  a new poll found that nearly two-thirds of new...   \n",
       "\n",
       "                                               Topics  Main Topic  \\\n",
       "0                                   [(5, 0.99741673)]           5   \n",
       "1                                   [(10, 0.9979748)]          10   \n",
       "2                                   [(2, 0.99751574)]           2   \n",
       "3   [(2, 0.055610362), (5, 0.9023971), (10, 0.0406...           5   \n",
       "4                                    [(1, 0.9945554)]           1   \n",
       "5                                    [(0, 0.9939383)]           0   \n",
       "6                                   [(1, 0.99336314)]           1   \n",
       "7                  [(2, 0.40143603), (10, 0.5969172)]          10   \n",
       "8                                    [(3, 0.9961957)]           3   \n",
       "9                                    [(8, 0.9942451)]           8   \n",
       "10                                   [(3, 0.9965947)]           3   \n",
       "11                                  [(10, 0.9988268)]          10   \n",
       "12                                  [(10, 0.9951636)]          10   \n",
       "13                [(5, 0.29633737), (10, 0.69555885)]          10   \n",
       "14                 [(3, 0.24094194), (5, 0.75620633)]           5   \n",
       "15                                  [(10, 0.9977822)]          10   \n",
       "16                                  [(5, 0.99898285)]           5   \n",
       "17                                  [(4, 0.99784535)]           4   \n",
       "18                                   [(2, 0.9988192)]           2   \n",
       "19                                  [(8, 0.99029315)]           8   \n",
       "20                                  [(10, 0.9975624)]          10   \n",
       "21  [(1, 0.44468012), (3, 0.049886886), (10, 0.504...          10   \n",
       "22                 [(5, 0.18522981), (10, 0.8104622)]          10   \n",
       "23                                    [(6, 0.991882)]           6   \n",
       "24                                  [(0, 0.99822426)]           0   \n",
       "25                 [(0, 0.36605024), (9, 0.62053573)]           9   \n",
       "26                                  [(6, 0.99801916)]           6   \n",
       "27                                  [(5, 0.99552065)]           5   \n",
       "28                                  [(5, 0.99731755)]           5   \n",
       "29                                   [(5, 0.9987662)]           5   \n",
       "30                  [(0, 0.33372775), (4, 0.6629858)]           4   \n",
       "31                                  [(7, 0.99531347)]           7   \n",
       "32                                   [(4, 0.9937296)]           4   \n",
       "33                 [(4, 0.08116024), (8, 0.91563064)]           8   \n",
       "34                [(4, 0.04689686), (10, 0.95167726)]          10   \n",
       "35                 [(3, 0.73848796), (4, 0.25911224)]           3   \n",
       "36                  [(5, 0.2634238), (10, 0.7354018)]          10   \n",
       "37                                   [(4, 0.9964895)]           4   \n",
       "38                  [(4, 0.2105086), (10, 0.7860232)]          10   \n",
       "39                                  [(1, 0.99720234)]           1   \n",
       "\n",
       "    Main Topic Score                                   Associated Words  \\\n",
       "0           0.997417  [[biden, hunter, phillip, democratic, run, pre...   \n",
       "1           0.997975  [[office, biden, hunter, information, source, ...   \n",
       "2           0.997516  [[hunter, president, republican, biden, politi...   \n",
       "3           0.902397  [[biden, hunter, phillip, democratic, run, pre...   \n",
       "4           0.994555  [[migrant, chs, biden, task, foreign, influenc...   \n",
       "5           0.993938  [[primary, state, write, vote, ballot, candida...   \n",
       "6           0.993363  [[migrant, chs, biden, task, foreign, influenc...   \n",
       "7           0.596917  [[office, biden, hunter, information, source, ...   \n",
       "8           0.996196  [[hunter, biden, comer, charge, bank, record, ...   \n",
       "9           0.994245  [[hunter, hallie, gun, service, secret, tell, ...   \n",
       "10          0.996595  [[hunter, biden, comer, charge, bank, record, ...   \n",
       "11          0.998827  [[office, biden, hunter, information, source, ...   \n",
       "12          0.995164  [[office, biden, hunter, information, source, ...   \n",
       "13          0.695559  [[office, biden, hunter, information, source, ...   \n",
       "14          0.756206  [[biden, hunter, phillip, democratic, run, pre...   \n",
       "15          0.997782  [[office, biden, hunter, information, source, ...   \n",
       "16          0.998983  [[biden, hunter, phillip, democratic, run, pre...   \n",
       "17          0.997845  [[impeachment, think, war, conference, biden, ...   \n",
       "18          0.998819  [[hunter, president, republican, biden, politi...   \n",
       "19          0.990293  [[hunter, hallie, gun, service, secret, tell, ...   \n",
       "20          0.997562  [[office, biden, hunter, information, source, ...   \n",
       "21          0.504322  [[office, biden, hunter, information, source, ...   \n",
       "22          0.810462  [[office, biden, hunter, information, source, ...   \n",
       "23          0.991882  [[biden, republican, election, president, nomi...   \n",
       "24          0.998224  [[primary, state, write, vote, ballot, candida...   \n",
       "25          0.620536  [[ballot, move, state, calendar, appear, prima...   \n",
       "26          0.998019  [[biden, republican, election, president, nomi...   \n",
       "27          0.995521  [[biden, hunter, phillip, democratic, run, pre...   \n",
       "28          0.997318  [[biden, hunter, phillip, democratic, run, pre...   \n",
       "29          0.998766  [[biden, hunter, phillip, democratic, run, pre...   \n",
       "30          0.662986  [[impeachment, think, war, conference, biden, ...   \n",
       "31          0.995313  [[phillip, president, campaign, biden, primary...   \n",
       "32          0.993730  [[impeachment, think, war, conference, biden, ...   \n",
       "33          0.915631  [[hunter, hallie, gun, service, secret, tell, ...   \n",
       "34          0.951677  [[office, biden, hunter, information, source, ...   \n",
       "35          0.738488  [[hunter, biden, comer, charge, bank, record, ...   \n",
       "36          0.735402  [[office, biden, hunter, information, source, ...   \n",
       "37          0.996490  [[impeachment, think, war, conference, biden, ...   \n",
       "38          0.786023  [[office, biden, hunter, information, source, ...   \n",
       "39          0.997202  [[migrant, chs, biden, task, foreign, influenc...   \n",
       "\n",
       "             Shortened Address  \n",
       "0              www.foxnews.com  \n",
       "1              www.foxnews.com  \n",
       "2              www.foxnews.com  \n",
       "3                   apnews.com  \n",
       "4            www.nation.com.pk  \n",
       "5            www.nation.com.pk  \n",
       "6            www.nation.com.pk  \n",
       "7                  www.cnn.com  \n",
       "8               abcnews.go.com  \n",
       "9                   apnews.com  \n",
       "10                  nypost.com  \n",
       "11             www.foxnews.com  \n",
       "12     www.grassley.senate.gov  \n",
       "13                    wjla.com  \n",
       "14       www.newsnationnow.com  \n",
       "15                  nypost.com  \n",
       "16           www.thenation.com  \n",
       "17            www.politico.com  \n",
       "18                 www.cnn.com  \n",
       "19  www.washingtonexaminer.com  \n",
       "20         www.dailymail.co.uk  \n",
       "21           thefederalist.com  \n",
       "22     www.washingtontimes.com  \n",
       "23            www.usatoday.com  \n",
       "24                  apnews.com  \n",
       "25            www.politico.com  \n",
       "26             www.nbcnews.com  \n",
       "27             www.foxnews.com  \n",
       "28              abcnews.go.com  \n",
       "29      www.washingtonpost.com  \n",
       "30                www.wmur.com  \n",
       "31         www.startribune.com  \n",
       "32             www.reuters.com  \n",
       "33                  apnews.com  \n",
       "34                 www.cnn.com  \n",
       "35             www.foxnews.com  \n",
       "36      www.washingtonpost.com  \n",
       "37            www.usatoday.com  \n",
       "38             www.reuters.com  \n",
       "39             www.foxnews.com  "
      ]
     },
     "execution_count": 9,
     "metadata": {},
     "output_type": "execute_result"
    }
   ],
   "source": [
    "# display the main dataframe\n",
    "df"
   ]
  },
  {
   "cell_type": "markdown",
   "id": "6bcda24f",
   "metadata": {},
   "source": [
    "Display the topic model words"
   ]
  },
  {
   "cell_type": "code",
   "execution_count": 10,
   "id": "1bd35257",
   "metadata": {},
   "outputs": [
    {
     "data": {
      "text/plain": [
       "{0: ['primary',\n",
       "  'state',\n",
       "  'write',\n",
       "  'vote',\n",
       "  'ballot',\n",
       "  'candidate',\n",
       "  'party',\n",
       "  'new',\n",
       "  'election',\n",
       "  'campaign'],\n",
       " 1: ['migrant',\n",
       "  'chs',\n",
       "  'biden',\n",
       "  'task',\n",
       "  'foreign',\n",
       "  'influence',\n",
       "  'hunter',\n",
       "  'new',\n",
       "  'force',\n",
       "  'last'],\n",
       " 2: ['hunter',\n",
       "  'president',\n",
       "  'republican',\n",
       "  'biden',\n",
       "  'political',\n",
       "  'son',\n",
       "  'charge',\n",
       "  'special',\n",
       "  'counsel',\n",
       "  'deal'],\n",
       " 3: ['hunter',\n",
       "  'biden',\n",
       "  'comer',\n",
       "  'charge',\n",
       "  'bank',\n",
       "  'record',\n",
       "  'attorney',\n",
       "  'call',\n",
       "  'address',\n",
       "  'tell'],\n",
       " 4: ['impeachment',\n",
       "  'think',\n",
       "  'war',\n",
       "  'conference',\n",
       "  'biden',\n",
       "  'move',\n",
       "  'kill',\n",
       "  'death',\n",
       "  'president',\n",
       "  'group'],\n",
       " 5: ['biden',\n",
       "  'hunter',\n",
       "  'phillip',\n",
       "  'democratic',\n",
       "  'run',\n",
       "  'president',\n",
       "  'campaign',\n",
       "  'support',\n",
       "  'voter',\n",
       "  'party'],\n",
       " 6: ['biden',\n",
       "  'republican',\n",
       "  'election',\n",
       "  'president',\n",
       "  'nominee',\n",
       "  'democratic',\n",
       "  'party',\n",
       "  'last',\n",
       "  'old',\n",
       "  'presidential'],\n",
       " 7: ['phillip',\n",
       "  'president',\n",
       "  'campaign',\n",
       "  'biden',\n",
       "  'primary',\n",
       "  'people',\n",
       "  'run',\n",
       "  'bus',\n",
       "  'tribune',\n",
       "  'new'],\n",
       " 8: ['hunter',\n",
       "  'hallie',\n",
       "  'gun',\n",
       "  'service',\n",
       "  'secret',\n",
       "  'tell',\n",
       "  'report',\n",
       "  'text',\n",
       "  'attack',\n",
       "  'police'],\n",
       " 9: ['ballot',\n",
       "  'move',\n",
       "  'state',\n",
       "  'calendar',\n",
       "  'appear',\n",
       "  'primary',\n",
       "  'name',\n",
       "  'letter',\n",
       "  'chair',\n",
       "  'write'],\n",
       " 10: ['office',\n",
       "  'biden',\n",
       "  'hunter',\n",
       "  'information',\n",
       "  'source',\n",
       "  'family',\n",
       "  'foreign',\n",
       "  'document',\n",
       "  'investigation',\n",
       "  'letter']}"
      ]
     },
     "execution_count": 10,
     "metadata": {},
     "output_type": "execute_result"
    }
   ],
   "source": [
    "# Generate dictionary of all topic words\n",
    "topic_model_display = create_topic_words_dict(lda_model)\n",
    "\n",
    "# Display dictionary of all topics and their topic words\n",
    "topic_model_display"
   ]
  },
  {
   "cell_type": "markdown",
   "id": "9587fb26",
   "metadata": {},
   "source": [
    "## Visualize all articles on their main topic"
   ]
  },
  {
   "cell_type": "markdown",
   "id": "4e350ce8",
   "metadata": {},
   "source": [
    "Here we will show two simple graphs plotting all articles' sentiment values, with the articles sorted by main topic. This is to show the distribution of sentiment towards the different topics. The scatter plot will let you look each article individually, to see how each article contributes to the sentiment distribution. The box plot will show you the actual sentiment distribution for each topic, andgive details on the variance and average sentiment of a topic."
   ]
  },
  {
   "cell_type": "code",
   "execution_count": 11,
   "id": "f85d1cda",
   "metadata": {
    "scrolled": false
   },
   "outputs": [
    {
     "data": {
      "application/vnd.plotly.v1+json": {
       "config": {
        "plotlyServerURL": "https://plot.ly"
       },
       "data": [
        {
         "customdata": [
          [
           0,
           [
            [
             "biden",
             "hunter",
             "phillip",
             "democratic",
             "run",
             "president",
             "campaign",
             "support",
             "voter",
             "party"
            ]
           ],
           "www.foxnews.com",
           "Neutral",
           0.9974167346954346
          ],
          [
           1,
           [
            [
             "office",
             "biden",
             "hunter",
             "information",
             "source",
             "family",
             "foreign",
             "document",
             "investigation",
             "letter"
            ]
           ],
           "www.foxnews.com",
           "Neutral",
           0.9979748129844666
          ],
          [
           2,
           [
            [
             "hunter",
             "president",
             "republican",
             "biden",
             "political",
             "son",
             "charge",
             "special",
             "counsel",
             "deal"
            ]
           ],
           "www.foxnews.com",
           "Negative",
           0.9975157380104065
          ],
          [
           3,
           [
            [
             "biden",
             "hunter",
             "phillip",
             "democratic",
             "run",
             "president",
             "campaign",
             "support",
             "voter",
             "party"
            ]
           ],
           "apnews.com",
           "Neutral Negative",
           0.902397096157074
          ],
          [
           4,
           [
            [
             "migrant",
             "chs",
             "biden",
             "task",
             "foreign",
             "influence",
             "hunter",
             "new",
             "force",
             "last"
            ]
           ],
           "www.nation.com.pk",
           "Negative",
           0.9945554137229919
          ],
          [
           5,
           [
            [
             "primary",
             "state",
             "write",
             "vote",
             "ballot",
             "candidate",
             "party",
             "new",
             "election",
             "campaign"
            ]
           ],
           "www.nation.com.pk",
           "Neutral Positive",
           0.9939383268356323
          ],
          [
           6,
           [
            [
             "migrant",
             "chs",
             "biden",
             "task",
             "foreign",
             "influence",
             "hunter",
             "new",
             "force",
             "last"
            ]
           ],
           "www.nation.com.pk",
           "Negative",
           0.9933631420135498
          ],
          [
           7,
           [
            [
             "office",
             "biden",
             "hunter",
             "information",
             "source",
             "family",
             "foreign",
             "document",
             "investigation",
             "letter"
            ]
           ],
           "www.cnn.com",
           "Negative",
           0.5969172120094299
          ],
          [
           8,
           [
            [
             "hunter",
             "biden",
             "comer",
             "charge",
             "bank",
             "record",
             "attorney",
             "call",
             "address",
             "tell"
            ]
           ],
           "abcnews.go.com",
           "Neutral Negative",
           0.9961956739425659
          ],
          [
           9,
           [
            [
             "hunter",
             "hallie",
             "gun",
             "service",
             "secret",
             "tell",
             "report",
             "text",
             "attack",
             "police"
            ]
           ],
           "apnews.com",
           "Neutral",
           0.9942451119422913
          ],
          [
           10,
           [
            [
             "hunter",
             "biden",
             "comer",
             "charge",
             "bank",
             "record",
             "attorney",
             "call",
             "address",
             "tell"
            ]
           ],
           "nypost.com",
           "Neutral",
           0.9965947270393372
          ],
          [
           11,
           [
            [
             "office",
             "biden",
             "hunter",
             "information",
             "source",
             "family",
             "foreign",
             "document",
             "investigation",
             "letter"
            ]
           ],
           "www.foxnews.com",
           "Negative",
           0.998826801776886
          ],
          [
           12,
           [
            [
             "office",
             "biden",
             "hunter",
             "information",
             "source",
             "family",
             "foreign",
             "document",
             "investigation",
             "letter"
            ]
           ],
           "www.grassley.senate.gov",
           "Neutral Negative",
           0.99516361951828
          ],
          [
           13,
           [
            [
             "office",
             "biden",
             "hunter",
             "information",
             "source",
             "family",
             "foreign",
             "document",
             "investigation",
             "letter"
            ]
           ],
           "wjla.com",
           "Negative",
           0.6955588459968567
          ],
          [
           14,
           [
            [
             "biden",
             "hunter",
             "phillip",
             "democratic",
             "run",
             "president",
             "campaign",
             "support",
             "voter",
             "party"
            ]
           ],
           "www.newsnationnow.com",
           "Positive",
           0.7562063336372375
          ],
          [
           15,
           [
            [
             "office",
             "biden",
             "hunter",
             "information",
             "source",
             "family",
             "foreign",
             "document",
             "investigation",
             "letter"
            ]
           ],
           "nypost.com",
           "Neutral Positive",
           0.9977821707725525
          ],
          [
           16,
           [
            [
             "biden",
             "hunter",
             "phillip",
             "democratic",
             "run",
             "president",
             "campaign",
             "support",
             "voter",
             "party"
            ]
           ],
           "www.thenation.com",
           "Neutral Positive",
           0.998982846736908
          ],
          [
           17,
           [
            [
             "impeachment",
             "think",
             "war",
             "conference",
             "biden",
             "move",
             "kill",
             "death",
             "president",
             "group"
            ]
           ],
           "www.politico.com",
           "Positive",
           0.9978453516960144
          ],
          [
           18,
           [
            [
             "hunter",
             "president",
             "republican",
             "biden",
             "political",
             "son",
             "charge",
             "special",
             "counsel",
             "deal"
            ]
           ],
           "www.cnn.com",
           "Neutral",
           0.9988191723823547
          ],
          [
           19,
           [
            [
             "hunter",
             "hallie",
             "gun",
             "service",
             "secret",
             "tell",
             "report",
             "text",
             "attack",
             "police"
            ]
           ],
           "www.washingtonexaminer.com",
           "Negative",
           0.9902931451797485
          ],
          [
           20,
           [
            [
             "office",
             "biden",
             "hunter",
             "information",
             "source",
             "family",
             "foreign",
             "document",
             "investigation",
             "letter"
            ]
           ],
           "www.dailymail.co.uk",
           "Negative",
           0.9975624084472656
          ],
          [
           21,
           [
            [
             "office",
             "biden",
             "hunter",
             "information",
             "source",
             "family",
             "foreign",
             "document",
             "investigation",
             "letter"
            ]
           ],
           "thefederalist.com",
           "Neutral Negative",
           0.504322350025177
          ],
          [
           22,
           [
            [
             "office",
             "biden",
             "hunter",
             "information",
             "source",
             "family",
             "foreign",
             "document",
             "investigation",
             "letter"
            ]
           ],
           "www.washingtontimes.com",
           "Neutral Positive",
           0.8104621767997742
          ],
          [
           23,
           [
            [
             "biden",
             "republican",
             "election",
             "president",
             "nominee",
             "democratic",
             "party",
             "last",
             "old",
             "presidential"
            ]
           ],
           "www.usatoday.com",
           "Positive",
           0.9918820261955261
          ],
          [
           24,
           [
            [
             "primary",
             "state",
             "write",
             "vote",
             "ballot",
             "candidate",
             "party",
             "new",
             "election",
             "campaign"
            ]
           ],
           "apnews.com",
           "Positive",
           0.9982242584228516
          ],
          [
           25,
           [
            [
             "ballot",
             "move",
             "state",
             "calendar",
             "appear",
             "primary",
             "name",
             "letter",
             "chair",
             "write"
            ]
           ],
           "www.politico.com",
           "Positive",
           0.6205357313156128
          ],
          [
           26,
           [
            [
             "biden",
             "republican",
             "election",
             "president",
             "nominee",
             "democratic",
             "party",
             "last",
             "old",
             "presidential"
            ]
           ],
           "www.nbcnews.com",
           "Neutral",
           0.9980191588401794
          ],
          [
           27,
           [
            [
             "biden",
             "hunter",
             "phillip",
             "democratic",
             "run",
             "president",
             "campaign",
             "support",
             "voter",
             "party"
            ]
           ],
           "www.foxnews.com",
           "Neutral Negative",
           0.9955206513404846
          ],
          [
           28,
           [
            [
             "biden",
             "hunter",
             "phillip",
             "democratic",
             "run",
             "president",
             "campaign",
             "support",
             "voter",
             "party"
            ]
           ],
           "abcnews.go.com",
           "Neutral Positive",
           0.9973175525665283
          ],
          [
           29,
           [
            [
             "biden",
             "hunter",
             "phillip",
             "democratic",
             "run",
             "president",
             "campaign",
             "support",
             "voter",
             "party"
            ]
           ],
           "www.washingtonpost.com",
           "Positive",
           0.9987661838531494
          ],
          [
           30,
           [
            [
             "impeachment",
             "think",
             "war",
             "conference",
             "biden",
             "move",
             "kill",
             "death",
             "president",
             "group"
            ]
           ],
           "www.wmur.com",
           "Positive",
           0.6629858016967773
          ],
          [
           31,
           [
            [
             "phillip",
             "president",
             "campaign",
             "biden",
             "primary",
             "people",
             "run",
             "bus",
             "tribune",
             "new"
            ]
           ],
           "www.startribune.com",
           "Positive",
           0.9953134655952454
          ],
          [
           32,
           [
            [
             "impeachment",
             "think",
             "war",
             "conference",
             "biden",
             "move",
             "kill",
             "death",
             "president",
             "group"
            ]
           ],
           "www.reuters.com",
           "Neutral Negative",
           0.9937295913696289
          ],
          [
           33,
           [
            [
             "hunter",
             "hallie",
             "gun",
             "service",
             "secret",
             "tell",
             "report",
             "text",
             "attack",
             "police"
            ]
           ],
           "apnews.com",
           "Neutral",
           0.9156306385993958
          ],
          [
           34,
           [
            [
             "office",
             "biden",
             "hunter",
             "information",
             "source",
             "family",
             "foreign",
             "document",
             "investigation",
             "letter"
            ]
           ],
           "www.cnn.com",
           "Neutral Positive",
           0.9516772627830505
          ],
          [
           35,
           [
            [
             "hunter",
             "biden",
             "comer",
             "charge",
             "bank",
             "record",
             "attorney",
             "call",
             "address",
             "tell"
            ]
           ],
           "www.foxnews.com",
           "Neutral Negative",
           0.738487958908081
          ],
          [
           36,
           [
            [
             "office",
             "biden",
             "hunter",
             "information",
             "source",
             "family",
             "foreign",
             "document",
             "investigation",
             "letter"
            ]
           ],
           "www.washingtonpost.com",
           "Neutral",
           0.7354018092155457
          ],
          [
           37,
           [
            [
             "impeachment",
             "think",
             "war",
             "conference",
             "biden",
             "move",
             "kill",
             "death",
             "president",
             "group"
            ]
           ],
           "www.usatoday.com",
           "Neutral Positive",
           0.9964895248413086
          ],
          [
           38,
           [
            [
             "office",
             "biden",
             "hunter",
             "information",
             "source",
             "family",
             "foreign",
             "document",
             "investigation",
             "letter"
            ]
           ],
           "www.reuters.com",
           "Negative",
           0.7860231995582581
          ],
          [
           39,
           [
            [
             "migrant",
             "chs",
             "biden",
             "task",
             "foreign",
             "influence",
             "hunter",
             "new",
             "force",
             "last"
            ]
           ],
           "www.foxnews.com",
           "Neutral Positive",
           0.9972023367881775
          ]
         ],
         "hovertemplate": "ID: %{customdata[0]}<br>Associated Words: %{customdata[1]}<br>Address: %{customdata[2]}<br>Sentiment Label: %{customdata[3]}<br>Main Topic Score : %{customdata[4]}",
         "legendgroup": "",
         "marker": {
          "color": "#636efa",
          "size": [
           0.9974167346954346,
           0.9979748129844666,
           0.9975157380104065,
           0.902397096157074,
           0.9945554137229919,
           0.9939383268356323,
           0.9933631420135498,
           0.5969172120094299,
           0.9961956739425659,
           0.9942451119422913,
           0.9965947270393372,
           0.998826801776886,
           0.99516361951828,
           0.6955588459968567,
           0.7562063336372375,
           0.9977821707725525,
           0.998982846736908,
           0.9978453516960144,
           0.9988191723823547,
           0.9902931451797485,
           0.9975624084472656,
           0.504322350025177,
           0.8104621767997742,
           0.9918820261955261,
           0.9982242584228516,
           0.6205357313156128,
           0.9980191588401794,
           0.9955206513404846,
           0.9973175525665283,
           0.9987661838531494,
           0.6629858016967773,
           0.9953134655952454,
           0.9937295913696289,
           0.9156306385993958,
           0.9516772627830505,
           0.738487958908081,
           0.7354018092155457,
           0.9964895248413086,
           0.7860231995582581,
           0.9972023367881775
          ],
          "sizemode": "area",
          "sizeref": 0.00249745711684227,
          "symbol": "circle"
         },
         "mode": "markers",
         "name": "",
         "orientation": "v",
         "showlegend": false,
         "type": "scatter",
         "x": [
          5,
          10,
          2,
          5,
          1,
          0,
          1,
          10,
          3,
          8,
          3,
          10,
          10,
          10,
          5,
          10,
          5,
          4,
          2,
          8,
          10,
          10,
          10,
          6,
          0,
          9,
          6,
          5,
          5,
          5,
          4,
          7,
          4,
          8,
          10,
          3,
          10,
          4,
          10,
          1
         ],
         "xaxis": "x",
         "y": [
          0.04,
          0.06,
          -0.04,
          0.02,
          -0.04,
          0.1,
          -0.11,
          -0.01,
          0.01,
          0.04,
          0.03,
          -0.03,
          0,
          -0.02,
          0.14,
          0.07,
          0.09,
          0.12,
          0.06,
          -0.06,
          -0.03,
          0.01,
          0.09,
          0.2,
          0.17,
          0.21,
          0.04,
          0,
          0.09,
          0.13,
          0.22,
          0.14,
          0.02,
          0.06,
          0.08,
          0.01,
          0.05,
          0.08,
          -0.01,
          0.08
         ],
         "yaxis": "y"
        }
       ],
       "layout": {
        "legend": {
         "itemsizing": "constant",
         "tracegroupgap": 0
        },
        "template": {
         "data": {
          "bar": [
           {
            "error_x": {
             "color": "#2a3f5f"
            },
            "error_y": {
             "color": "#2a3f5f"
            },
            "marker": {
             "line": {
              "color": "#E5ECF6",
              "width": 0.5
             },
             "pattern": {
              "fillmode": "overlay",
              "size": 10,
              "solidity": 0.2
             }
            },
            "type": "bar"
           }
          ],
          "barpolar": [
           {
            "marker": {
             "line": {
              "color": "#E5ECF6",
              "width": 0.5
             },
             "pattern": {
              "fillmode": "overlay",
              "size": 10,
              "solidity": 0.2
             }
            },
            "type": "barpolar"
           }
          ],
          "carpet": [
           {
            "aaxis": {
             "endlinecolor": "#2a3f5f",
             "gridcolor": "white",
             "linecolor": "white",
             "minorgridcolor": "white",
             "startlinecolor": "#2a3f5f"
            },
            "baxis": {
             "endlinecolor": "#2a3f5f",
             "gridcolor": "white",
             "linecolor": "white",
             "minorgridcolor": "white",
             "startlinecolor": "#2a3f5f"
            },
            "type": "carpet"
           }
          ],
          "choropleth": [
           {
            "colorbar": {
             "outlinewidth": 0,
             "ticks": ""
            },
            "type": "choropleth"
           }
          ],
          "contour": [
           {
            "colorbar": {
             "outlinewidth": 0,
             "ticks": ""
            },
            "colorscale": [
             [
              0,
              "#0d0887"
             ],
             [
              0.1111111111111111,
              "#46039f"
             ],
             [
              0.2222222222222222,
              "#7201a8"
             ],
             [
              0.3333333333333333,
              "#9c179e"
             ],
             [
              0.4444444444444444,
              "#bd3786"
             ],
             [
              0.5555555555555556,
              "#d8576b"
             ],
             [
              0.6666666666666666,
              "#ed7953"
             ],
             [
              0.7777777777777778,
              "#fb9f3a"
             ],
             [
              0.8888888888888888,
              "#fdca26"
             ],
             [
              1,
              "#f0f921"
             ]
            ],
            "type": "contour"
           }
          ],
          "contourcarpet": [
           {
            "colorbar": {
             "outlinewidth": 0,
             "ticks": ""
            },
            "type": "contourcarpet"
           }
          ],
          "heatmap": [
           {
            "colorbar": {
             "outlinewidth": 0,
             "ticks": ""
            },
            "colorscale": [
             [
              0,
              "#0d0887"
             ],
             [
              0.1111111111111111,
              "#46039f"
             ],
             [
              0.2222222222222222,
              "#7201a8"
             ],
             [
              0.3333333333333333,
              "#9c179e"
             ],
             [
              0.4444444444444444,
              "#bd3786"
             ],
             [
              0.5555555555555556,
              "#d8576b"
             ],
             [
              0.6666666666666666,
              "#ed7953"
             ],
             [
              0.7777777777777778,
              "#fb9f3a"
             ],
             [
              0.8888888888888888,
              "#fdca26"
             ],
             [
              1,
              "#f0f921"
             ]
            ],
            "type": "heatmap"
           }
          ],
          "heatmapgl": [
           {
            "colorbar": {
             "outlinewidth": 0,
             "ticks": ""
            },
            "colorscale": [
             [
              0,
              "#0d0887"
             ],
             [
              0.1111111111111111,
              "#46039f"
             ],
             [
              0.2222222222222222,
              "#7201a8"
             ],
             [
              0.3333333333333333,
              "#9c179e"
             ],
             [
              0.4444444444444444,
              "#bd3786"
             ],
             [
              0.5555555555555556,
              "#d8576b"
             ],
             [
              0.6666666666666666,
              "#ed7953"
             ],
             [
              0.7777777777777778,
              "#fb9f3a"
             ],
             [
              0.8888888888888888,
              "#fdca26"
             ],
             [
              1,
              "#f0f921"
             ]
            ],
            "type": "heatmapgl"
           }
          ],
          "histogram": [
           {
            "marker": {
             "pattern": {
              "fillmode": "overlay",
              "size": 10,
              "solidity": 0.2
             }
            },
            "type": "histogram"
           }
          ],
          "histogram2d": [
           {
            "colorbar": {
             "outlinewidth": 0,
             "ticks": ""
            },
            "colorscale": [
             [
              0,
              "#0d0887"
             ],
             [
              0.1111111111111111,
              "#46039f"
             ],
             [
              0.2222222222222222,
              "#7201a8"
             ],
             [
              0.3333333333333333,
              "#9c179e"
             ],
             [
              0.4444444444444444,
              "#bd3786"
             ],
             [
              0.5555555555555556,
              "#d8576b"
             ],
             [
              0.6666666666666666,
              "#ed7953"
             ],
             [
              0.7777777777777778,
              "#fb9f3a"
             ],
             [
              0.8888888888888888,
              "#fdca26"
             ],
             [
              1,
              "#f0f921"
             ]
            ],
            "type": "histogram2d"
           }
          ],
          "histogram2dcontour": [
           {
            "colorbar": {
             "outlinewidth": 0,
             "ticks": ""
            },
            "colorscale": [
             [
              0,
              "#0d0887"
             ],
             [
              0.1111111111111111,
              "#46039f"
             ],
             [
              0.2222222222222222,
              "#7201a8"
             ],
             [
              0.3333333333333333,
              "#9c179e"
             ],
             [
              0.4444444444444444,
              "#bd3786"
             ],
             [
              0.5555555555555556,
              "#d8576b"
             ],
             [
              0.6666666666666666,
              "#ed7953"
             ],
             [
              0.7777777777777778,
              "#fb9f3a"
             ],
             [
              0.8888888888888888,
              "#fdca26"
             ],
             [
              1,
              "#f0f921"
             ]
            ],
            "type": "histogram2dcontour"
           }
          ],
          "mesh3d": [
           {
            "colorbar": {
             "outlinewidth": 0,
             "ticks": ""
            },
            "type": "mesh3d"
           }
          ],
          "parcoords": [
           {
            "line": {
             "colorbar": {
              "outlinewidth": 0,
              "ticks": ""
             }
            },
            "type": "parcoords"
           }
          ],
          "pie": [
           {
            "automargin": true,
            "type": "pie"
           }
          ],
          "scatter": [
           {
            "fillpattern": {
             "fillmode": "overlay",
             "size": 10,
             "solidity": 0.2
            },
            "type": "scatter"
           }
          ],
          "scatter3d": [
           {
            "line": {
             "colorbar": {
              "outlinewidth": 0,
              "ticks": ""
             }
            },
            "marker": {
             "colorbar": {
              "outlinewidth": 0,
              "ticks": ""
             }
            },
            "type": "scatter3d"
           }
          ],
          "scattercarpet": [
           {
            "marker": {
             "colorbar": {
              "outlinewidth": 0,
              "ticks": ""
             }
            },
            "type": "scattercarpet"
           }
          ],
          "scattergeo": [
           {
            "marker": {
             "colorbar": {
              "outlinewidth": 0,
              "ticks": ""
             }
            },
            "type": "scattergeo"
           }
          ],
          "scattergl": [
           {
            "marker": {
             "colorbar": {
              "outlinewidth": 0,
              "ticks": ""
             }
            },
            "type": "scattergl"
           }
          ],
          "scattermapbox": [
           {
            "marker": {
             "colorbar": {
              "outlinewidth": 0,
              "ticks": ""
             }
            },
            "type": "scattermapbox"
           }
          ],
          "scatterpolar": [
           {
            "marker": {
             "colorbar": {
              "outlinewidth": 0,
              "ticks": ""
             }
            },
            "type": "scatterpolar"
           }
          ],
          "scatterpolargl": [
           {
            "marker": {
             "colorbar": {
              "outlinewidth": 0,
              "ticks": ""
             }
            },
            "type": "scatterpolargl"
           }
          ],
          "scatterternary": [
           {
            "marker": {
             "colorbar": {
              "outlinewidth": 0,
              "ticks": ""
             }
            },
            "type": "scatterternary"
           }
          ],
          "surface": [
           {
            "colorbar": {
             "outlinewidth": 0,
             "ticks": ""
            },
            "colorscale": [
             [
              0,
              "#0d0887"
             ],
             [
              0.1111111111111111,
              "#46039f"
             ],
             [
              0.2222222222222222,
              "#7201a8"
             ],
             [
              0.3333333333333333,
              "#9c179e"
             ],
             [
              0.4444444444444444,
              "#bd3786"
             ],
             [
              0.5555555555555556,
              "#d8576b"
             ],
             [
              0.6666666666666666,
              "#ed7953"
             ],
             [
              0.7777777777777778,
              "#fb9f3a"
             ],
             [
              0.8888888888888888,
              "#fdca26"
             ],
             [
              1,
              "#f0f921"
             ]
            ],
            "type": "surface"
           }
          ],
          "table": [
           {
            "cells": {
             "fill": {
              "color": "#EBF0F8"
             },
             "line": {
              "color": "white"
             }
            },
            "header": {
             "fill": {
              "color": "#C8D4E3"
             },
             "line": {
              "color": "white"
             }
            },
            "type": "table"
           }
          ]
         },
         "layout": {
          "annotationdefaults": {
           "arrowcolor": "#2a3f5f",
           "arrowhead": 0,
           "arrowwidth": 1
          },
          "autotypenumbers": "strict",
          "coloraxis": {
           "colorbar": {
            "outlinewidth": 0,
            "ticks": ""
           }
          },
          "colorscale": {
           "diverging": [
            [
             0,
             "#8e0152"
            ],
            [
             0.1,
             "#c51b7d"
            ],
            [
             0.2,
             "#de77ae"
            ],
            [
             0.3,
             "#f1b6da"
            ],
            [
             0.4,
             "#fde0ef"
            ],
            [
             0.5,
             "#f7f7f7"
            ],
            [
             0.6,
             "#e6f5d0"
            ],
            [
             0.7,
             "#b8e186"
            ],
            [
             0.8,
             "#7fbc41"
            ],
            [
             0.9,
             "#4d9221"
            ],
            [
             1,
             "#276419"
            ]
           ],
           "sequential": [
            [
             0,
             "#0d0887"
            ],
            [
             0.1111111111111111,
             "#46039f"
            ],
            [
             0.2222222222222222,
             "#7201a8"
            ],
            [
             0.3333333333333333,
             "#9c179e"
            ],
            [
             0.4444444444444444,
             "#bd3786"
            ],
            [
             0.5555555555555556,
             "#d8576b"
            ],
            [
             0.6666666666666666,
             "#ed7953"
            ],
            [
             0.7777777777777778,
             "#fb9f3a"
            ],
            [
             0.8888888888888888,
             "#fdca26"
            ],
            [
             1,
             "#f0f921"
            ]
           ],
           "sequentialminus": [
            [
             0,
             "#0d0887"
            ],
            [
             0.1111111111111111,
             "#46039f"
            ],
            [
             0.2222222222222222,
             "#7201a8"
            ],
            [
             0.3333333333333333,
             "#9c179e"
            ],
            [
             0.4444444444444444,
             "#bd3786"
            ],
            [
             0.5555555555555556,
             "#d8576b"
            ],
            [
             0.6666666666666666,
             "#ed7953"
            ],
            [
             0.7777777777777778,
             "#fb9f3a"
            ],
            [
             0.8888888888888888,
             "#fdca26"
            ],
            [
             1,
             "#f0f921"
            ]
           ]
          },
          "colorway": [
           "#636efa",
           "#EF553B",
           "#00cc96",
           "#ab63fa",
           "#FFA15A",
           "#19d3f3",
           "#FF6692",
           "#B6E880",
           "#FF97FF",
           "#FECB52"
          ],
          "font": {
           "color": "#2a3f5f"
          },
          "geo": {
           "bgcolor": "white",
           "lakecolor": "white",
           "landcolor": "#E5ECF6",
           "showlakes": true,
           "showland": true,
           "subunitcolor": "white"
          },
          "hoverlabel": {
           "align": "left"
          },
          "hovermode": "closest",
          "mapbox": {
           "style": "light"
          },
          "paper_bgcolor": "white",
          "plot_bgcolor": "#E5ECF6",
          "polar": {
           "angularaxis": {
            "gridcolor": "white",
            "linecolor": "white",
            "ticks": ""
           },
           "bgcolor": "#E5ECF6",
           "radialaxis": {
            "gridcolor": "white",
            "linecolor": "white",
            "ticks": ""
           }
          },
          "scene": {
           "xaxis": {
            "backgroundcolor": "#E5ECF6",
            "gridcolor": "white",
            "gridwidth": 2,
            "linecolor": "white",
            "showbackground": true,
            "ticks": "",
            "zerolinecolor": "white"
           },
           "yaxis": {
            "backgroundcolor": "#E5ECF6",
            "gridcolor": "white",
            "gridwidth": 2,
            "linecolor": "white",
            "showbackground": true,
            "ticks": "",
            "zerolinecolor": "white"
           },
           "zaxis": {
            "backgroundcolor": "#E5ECF6",
            "gridcolor": "white",
            "gridwidth": 2,
            "linecolor": "white",
            "showbackground": true,
            "ticks": "",
            "zerolinecolor": "white"
           }
          },
          "shapedefaults": {
           "line": {
            "color": "#2a3f5f"
           }
          },
          "ternary": {
           "aaxis": {
            "gridcolor": "white",
            "linecolor": "white",
            "ticks": ""
           },
           "baxis": {
            "gridcolor": "white",
            "linecolor": "white",
            "ticks": ""
           },
           "bgcolor": "#E5ECF6",
           "caxis": {
            "gridcolor": "white",
            "linecolor": "white",
            "ticks": ""
           }
          },
          "title": {
           "x": 0.05
          },
          "xaxis": {
           "automargin": true,
           "gridcolor": "white",
           "linecolor": "white",
           "ticks": "",
           "title": {
            "standoff": 15
           },
           "zerolinecolor": "white",
           "zerolinewidth": 2
          },
          "yaxis": {
           "automargin": true,
           "gridcolor": "white",
           "linecolor": "white",
           "ticks": "",
           "title": {
            "standoff": 15
           },
           "zerolinecolor": "white",
           "zerolinewidth": 2
          }
         }
        },
        "title": {
         "text": "Articles Sorted By Main Topic"
        },
        "xaxis": {
         "anchor": "y",
         "domain": [
          0,
          1
         ],
         "title": {
          "text": "Main Topic"
         }
        },
        "yaxis": {
         "anchor": "x",
         "domain": [
          0,
          1
         ],
         "range": [
          -0.22,
          0.22
         ],
         "title": {
          "text": "Sentiment Score"
         }
        }
       }
      }
     },
     "metadata": {},
     "output_type": "display_data"
    },
    {
     "data": {
      "application/vnd.plotly.v1+json": {
       "config": {
        "plotlyServerURL": "https://plot.ly"
       },
       "data": [
        {
         "alignmentgroup": "True",
         "customdata": [
          [
           [
            [
             "biden",
             "hunter",
             "phillip",
             "democratic",
             "run",
             "president",
             "campaign",
             "support",
             "voter",
             "party"
            ]
           ],
           "www.foxnews.com",
           "Neutral",
           0.9974167346954346
          ],
          [
           [
            [
             "office",
             "biden",
             "hunter",
             "information",
             "source",
             "family",
             "foreign",
             "document",
             "investigation",
             "letter"
            ]
           ],
           "www.foxnews.com",
           "Neutral",
           0.9979748129844666
          ],
          [
           [
            [
             "hunter",
             "president",
             "republican",
             "biden",
             "political",
             "son",
             "charge",
             "special",
             "counsel",
             "deal"
            ]
           ],
           "www.foxnews.com",
           "Negative",
           0.9975157380104065
          ],
          [
           [
            [
             "biden",
             "hunter",
             "phillip",
             "democratic",
             "run",
             "president",
             "campaign",
             "support",
             "voter",
             "party"
            ]
           ],
           "apnews.com",
           "Neutral Negative",
           0.902397096157074
          ],
          [
           [
            [
             "migrant",
             "chs",
             "biden",
             "task",
             "foreign",
             "influence",
             "hunter",
             "new",
             "force",
             "last"
            ]
           ],
           "www.nation.com.pk",
           "Negative",
           0.9945554137229919
          ],
          [
           [
            [
             "primary",
             "state",
             "write",
             "vote",
             "ballot",
             "candidate",
             "party",
             "new",
             "election",
             "campaign"
            ]
           ],
           "www.nation.com.pk",
           "Neutral Positive",
           0.9939383268356323
          ],
          [
           [
            [
             "migrant",
             "chs",
             "biden",
             "task",
             "foreign",
             "influence",
             "hunter",
             "new",
             "force",
             "last"
            ]
           ],
           "www.nation.com.pk",
           "Negative",
           0.9933631420135498
          ],
          [
           [
            [
             "office",
             "biden",
             "hunter",
             "information",
             "source",
             "family",
             "foreign",
             "document",
             "investigation",
             "letter"
            ]
           ],
           "www.cnn.com",
           "Negative",
           0.5969172120094299
          ],
          [
           [
            [
             "hunter",
             "biden",
             "comer",
             "charge",
             "bank",
             "record",
             "attorney",
             "call",
             "address",
             "tell"
            ]
           ],
           "abcnews.go.com",
           "Neutral Negative",
           0.9961956739425659
          ],
          [
           [
            [
             "hunter",
             "hallie",
             "gun",
             "service",
             "secret",
             "tell",
             "report",
             "text",
             "attack",
             "police"
            ]
           ],
           "apnews.com",
           "Neutral",
           0.9942451119422913
          ],
          [
           [
            [
             "hunter",
             "biden",
             "comer",
             "charge",
             "bank",
             "record",
             "attorney",
             "call",
             "address",
             "tell"
            ]
           ],
           "nypost.com",
           "Neutral",
           0.9965947270393372
          ],
          [
           [
            [
             "office",
             "biden",
             "hunter",
             "information",
             "source",
             "family",
             "foreign",
             "document",
             "investigation",
             "letter"
            ]
           ],
           "www.foxnews.com",
           "Negative",
           0.998826801776886
          ],
          [
           [
            [
             "office",
             "biden",
             "hunter",
             "information",
             "source",
             "family",
             "foreign",
             "document",
             "investigation",
             "letter"
            ]
           ],
           "www.grassley.senate.gov",
           "Neutral Negative",
           0.99516361951828
          ],
          [
           [
            [
             "office",
             "biden",
             "hunter",
             "information",
             "source",
             "family",
             "foreign",
             "document",
             "investigation",
             "letter"
            ]
           ],
           "wjla.com",
           "Negative",
           0.6955588459968567
          ],
          [
           [
            [
             "biden",
             "hunter",
             "phillip",
             "democratic",
             "run",
             "president",
             "campaign",
             "support",
             "voter",
             "party"
            ]
           ],
           "www.newsnationnow.com",
           "Positive",
           0.7562063336372375
          ],
          [
           [
            [
             "office",
             "biden",
             "hunter",
             "information",
             "source",
             "family",
             "foreign",
             "document",
             "investigation",
             "letter"
            ]
           ],
           "nypost.com",
           "Neutral Positive",
           0.9977821707725525
          ],
          [
           [
            [
             "biden",
             "hunter",
             "phillip",
             "democratic",
             "run",
             "president",
             "campaign",
             "support",
             "voter",
             "party"
            ]
           ],
           "www.thenation.com",
           "Neutral Positive",
           0.998982846736908
          ],
          [
           [
            [
             "impeachment",
             "think",
             "war",
             "conference",
             "biden",
             "move",
             "kill",
             "death",
             "president",
             "group"
            ]
           ],
           "www.politico.com",
           "Positive",
           0.9978453516960144
          ],
          [
           [
            [
             "hunter",
             "president",
             "republican",
             "biden",
             "political",
             "son",
             "charge",
             "special",
             "counsel",
             "deal"
            ]
           ],
           "www.cnn.com",
           "Neutral",
           0.9988191723823547
          ],
          [
           [
            [
             "hunter",
             "hallie",
             "gun",
             "service",
             "secret",
             "tell",
             "report",
             "text",
             "attack",
             "police"
            ]
           ],
           "www.washingtonexaminer.com",
           "Negative",
           0.9902931451797485
          ],
          [
           [
            [
             "office",
             "biden",
             "hunter",
             "information",
             "source",
             "family",
             "foreign",
             "document",
             "investigation",
             "letter"
            ]
           ],
           "www.dailymail.co.uk",
           "Negative",
           0.9975624084472656
          ],
          [
           [
            [
             "office",
             "biden",
             "hunter",
             "information",
             "source",
             "family",
             "foreign",
             "document",
             "investigation",
             "letter"
            ]
           ],
           "thefederalist.com",
           "Neutral Negative",
           0.504322350025177
          ],
          [
           [
            [
             "office",
             "biden",
             "hunter",
             "information",
             "source",
             "family",
             "foreign",
             "document",
             "investigation",
             "letter"
            ]
           ],
           "www.washingtontimes.com",
           "Neutral Positive",
           0.8104621767997742
          ],
          [
           [
            [
             "biden",
             "republican",
             "election",
             "president",
             "nominee",
             "democratic",
             "party",
             "last",
             "old",
             "presidential"
            ]
           ],
           "www.usatoday.com",
           "Positive",
           0.9918820261955261
          ],
          [
           [
            [
             "primary",
             "state",
             "write",
             "vote",
             "ballot",
             "candidate",
             "party",
             "new",
             "election",
             "campaign"
            ]
           ],
           "apnews.com",
           "Positive",
           0.9982242584228516
          ],
          [
           [
            [
             "ballot",
             "move",
             "state",
             "calendar",
             "appear",
             "primary",
             "name",
             "letter",
             "chair",
             "write"
            ]
           ],
           "www.politico.com",
           "Positive",
           0.6205357313156128
          ],
          [
           [
            [
             "biden",
             "republican",
             "election",
             "president",
             "nominee",
             "democratic",
             "party",
             "last",
             "old",
             "presidential"
            ]
           ],
           "www.nbcnews.com",
           "Neutral",
           0.9980191588401794
          ],
          [
           [
            [
             "biden",
             "hunter",
             "phillip",
             "democratic",
             "run",
             "president",
             "campaign",
             "support",
             "voter",
             "party"
            ]
           ],
           "www.foxnews.com",
           "Neutral Negative",
           0.9955206513404846
          ],
          [
           [
            [
             "biden",
             "hunter",
             "phillip",
             "democratic",
             "run",
             "president",
             "campaign",
             "support",
             "voter",
             "party"
            ]
           ],
           "abcnews.go.com",
           "Neutral Positive",
           0.9973175525665283
          ],
          [
           [
            [
             "biden",
             "hunter",
             "phillip",
             "democratic",
             "run",
             "president",
             "campaign",
             "support",
             "voter",
             "party"
            ]
           ],
           "www.washingtonpost.com",
           "Positive",
           0.9987661838531494
          ],
          [
           [
            [
             "impeachment",
             "think",
             "war",
             "conference",
             "biden",
             "move",
             "kill",
             "death",
             "president",
             "group"
            ]
           ],
           "www.wmur.com",
           "Positive",
           0.6629858016967773
          ],
          [
           [
            [
             "phillip",
             "president",
             "campaign",
             "biden",
             "primary",
             "people",
             "run",
             "bus",
             "tribune",
             "new"
            ]
           ],
           "www.startribune.com",
           "Positive",
           0.9953134655952454
          ],
          [
           [
            [
             "impeachment",
             "think",
             "war",
             "conference",
             "biden",
             "move",
             "kill",
             "death",
             "president",
             "group"
            ]
           ],
           "www.reuters.com",
           "Neutral Negative",
           0.9937295913696289
          ],
          [
           [
            [
             "hunter",
             "hallie",
             "gun",
             "service",
             "secret",
             "tell",
             "report",
             "text",
             "attack",
             "police"
            ]
           ],
           "apnews.com",
           "Neutral",
           0.9156306385993958
          ],
          [
           [
            [
             "office",
             "biden",
             "hunter",
             "information",
             "source",
             "family",
             "foreign",
             "document",
             "investigation",
             "letter"
            ]
           ],
           "www.cnn.com",
           "Neutral Positive",
           0.9516772627830505
          ],
          [
           [
            [
             "hunter",
             "biden",
             "comer",
             "charge",
             "bank",
             "record",
             "attorney",
             "call",
             "address",
             "tell"
            ]
           ],
           "www.foxnews.com",
           "Neutral Negative",
           0.738487958908081
          ],
          [
           [
            [
             "office",
             "biden",
             "hunter",
             "information",
             "source",
             "family",
             "foreign",
             "document",
             "investigation",
             "letter"
            ]
           ],
           "www.washingtonpost.com",
           "Neutral",
           0.7354018092155457
          ],
          [
           [
            [
             "impeachment",
             "think",
             "war",
             "conference",
             "biden",
             "move",
             "kill",
             "death",
             "president",
             "group"
            ]
           ],
           "www.usatoday.com",
           "Neutral Positive",
           0.9964895248413086
          ],
          [
           [
            [
             "office",
             "biden",
             "hunter",
             "information",
             "source",
             "family",
             "foreign",
             "document",
             "investigation",
             "letter"
            ]
           ],
           "www.reuters.com",
           "Negative",
           0.7860231995582581
          ],
          [
           [
            [
             "migrant",
             "chs",
             "biden",
             "task",
             "foreign",
             "influence",
             "hunter",
             "new",
             "force",
             "last"
            ]
           ],
           "www.foxnews.com",
           "Neutral Positive",
           0.9972023367881775
          ]
         ],
         "hovertemplate": "ID: %{customdata[0]}<br>Associated Words: %{customdata[1]}<br>Address: %{customdata[2]}<br>Sentiment Label: %{customdata[3]}<br>Main Topic Score : %{customdata[4]}",
         "legendgroup": "",
         "marker": {
          "color": "#636efa"
         },
         "name": "",
         "notched": false,
         "offsetgroup": "",
         "orientation": "v",
         "showlegend": false,
         "type": "box",
         "x": [
          5,
          10,
          2,
          5,
          1,
          0,
          1,
          10,
          3,
          8,
          3,
          10,
          10,
          10,
          5,
          10,
          5,
          4,
          2,
          8,
          10,
          10,
          10,
          6,
          0,
          9,
          6,
          5,
          5,
          5,
          4,
          7,
          4,
          8,
          10,
          3,
          10,
          4,
          10,
          1
         ],
         "x0": " ",
         "xaxis": "x",
         "y": [
          0.04,
          0.06,
          -0.04,
          0.02,
          -0.04,
          0.1,
          -0.11,
          -0.01,
          0.01,
          0.04,
          0.03,
          -0.03,
          0,
          -0.02,
          0.14,
          0.07,
          0.09,
          0.12,
          0.06,
          -0.06,
          -0.03,
          0.01,
          0.09,
          0.2,
          0.17,
          0.21,
          0.04,
          0,
          0.09,
          0.13,
          0.22,
          0.14,
          0.02,
          0.06,
          0.08,
          0.01,
          0.05,
          0.08,
          -0.01,
          0.08
         ],
         "y0": " ",
         "yaxis": "y"
        }
       ],
       "layout": {
        "boxmode": "group",
        "legend": {
         "tracegroupgap": 0
        },
        "template": {
         "data": {
          "bar": [
           {
            "error_x": {
             "color": "#2a3f5f"
            },
            "error_y": {
             "color": "#2a3f5f"
            },
            "marker": {
             "line": {
              "color": "#E5ECF6",
              "width": 0.5
             },
             "pattern": {
              "fillmode": "overlay",
              "size": 10,
              "solidity": 0.2
             }
            },
            "type": "bar"
           }
          ],
          "barpolar": [
           {
            "marker": {
             "line": {
              "color": "#E5ECF6",
              "width": 0.5
             },
             "pattern": {
              "fillmode": "overlay",
              "size": 10,
              "solidity": 0.2
             }
            },
            "type": "barpolar"
           }
          ],
          "carpet": [
           {
            "aaxis": {
             "endlinecolor": "#2a3f5f",
             "gridcolor": "white",
             "linecolor": "white",
             "minorgridcolor": "white",
             "startlinecolor": "#2a3f5f"
            },
            "baxis": {
             "endlinecolor": "#2a3f5f",
             "gridcolor": "white",
             "linecolor": "white",
             "minorgridcolor": "white",
             "startlinecolor": "#2a3f5f"
            },
            "type": "carpet"
           }
          ],
          "choropleth": [
           {
            "colorbar": {
             "outlinewidth": 0,
             "ticks": ""
            },
            "type": "choropleth"
           }
          ],
          "contour": [
           {
            "colorbar": {
             "outlinewidth": 0,
             "ticks": ""
            },
            "colorscale": [
             [
              0,
              "#0d0887"
             ],
             [
              0.1111111111111111,
              "#46039f"
             ],
             [
              0.2222222222222222,
              "#7201a8"
             ],
             [
              0.3333333333333333,
              "#9c179e"
             ],
             [
              0.4444444444444444,
              "#bd3786"
             ],
             [
              0.5555555555555556,
              "#d8576b"
             ],
             [
              0.6666666666666666,
              "#ed7953"
             ],
             [
              0.7777777777777778,
              "#fb9f3a"
             ],
             [
              0.8888888888888888,
              "#fdca26"
             ],
             [
              1,
              "#f0f921"
             ]
            ],
            "type": "contour"
           }
          ],
          "contourcarpet": [
           {
            "colorbar": {
             "outlinewidth": 0,
             "ticks": ""
            },
            "type": "contourcarpet"
           }
          ],
          "heatmap": [
           {
            "colorbar": {
             "outlinewidth": 0,
             "ticks": ""
            },
            "colorscale": [
             [
              0,
              "#0d0887"
             ],
             [
              0.1111111111111111,
              "#46039f"
             ],
             [
              0.2222222222222222,
              "#7201a8"
             ],
             [
              0.3333333333333333,
              "#9c179e"
             ],
             [
              0.4444444444444444,
              "#bd3786"
             ],
             [
              0.5555555555555556,
              "#d8576b"
             ],
             [
              0.6666666666666666,
              "#ed7953"
             ],
             [
              0.7777777777777778,
              "#fb9f3a"
             ],
             [
              0.8888888888888888,
              "#fdca26"
             ],
             [
              1,
              "#f0f921"
             ]
            ],
            "type": "heatmap"
           }
          ],
          "heatmapgl": [
           {
            "colorbar": {
             "outlinewidth": 0,
             "ticks": ""
            },
            "colorscale": [
             [
              0,
              "#0d0887"
             ],
             [
              0.1111111111111111,
              "#46039f"
             ],
             [
              0.2222222222222222,
              "#7201a8"
             ],
             [
              0.3333333333333333,
              "#9c179e"
             ],
             [
              0.4444444444444444,
              "#bd3786"
             ],
             [
              0.5555555555555556,
              "#d8576b"
             ],
             [
              0.6666666666666666,
              "#ed7953"
             ],
             [
              0.7777777777777778,
              "#fb9f3a"
             ],
             [
              0.8888888888888888,
              "#fdca26"
             ],
             [
              1,
              "#f0f921"
             ]
            ],
            "type": "heatmapgl"
           }
          ],
          "histogram": [
           {
            "marker": {
             "pattern": {
              "fillmode": "overlay",
              "size": 10,
              "solidity": 0.2
             }
            },
            "type": "histogram"
           }
          ],
          "histogram2d": [
           {
            "colorbar": {
             "outlinewidth": 0,
             "ticks": ""
            },
            "colorscale": [
             [
              0,
              "#0d0887"
             ],
             [
              0.1111111111111111,
              "#46039f"
             ],
             [
              0.2222222222222222,
              "#7201a8"
             ],
             [
              0.3333333333333333,
              "#9c179e"
             ],
             [
              0.4444444444444444,
              "#bd3786"
             ],
             [
              0.5555555555555556,
              "#d8576b"
             ],
             [
              0.6666666666666666,
              "#ed7953"
             ],
             [
              0.7777777777777778,
              "#fb9f3a"
             ],
             [
              0.8888888888888888,
              "#fdca26"
             ],
             [
              1,
              "#f0f921"
             ]
            ],
            "type": "histogram2d"
           }
          ],
          "histogram2dcontour": [
           {
            "colorbar": {
             "outlinewidth": 0,
             "ticks": ""
            },
            "colorscale": [
             [
              0,
              "#0d0887"
             ],
             [
              0.1111111111111111,
              "#46039f"
             ],
             [
              0.2222222222222222,
              "#7201a8"
             ],
             [
              0.3333333333333333,
              "#9c179e"
             ],
             [
              0.4444444444444444,
              "#bd3786"
             ],
             [
              0.5555555555555556,
              "#d8576b"
             ],
             [
              0.6666666666666666,
              "#ed7953"
             ],
             [
              0.7777777777777778,
              "#fb9f3a"
             ],
             [
              0.8888888888888888,
              "#fdca26"
             ],
             [
              1,
              "#f0f921"
             ]
            ],
            "type": "histogram2dcontour"
           }
          ],
          "mesh3d": [
           {
            "colorbar": {
             "outlinewidth": 0,
             "ticks": ""
            },
            "type": "mesh3d"
           }
          ],
          "parcoords": [
           {
            "line": {
             "colorbar": {
              "outlinewidth": 0,
              "ticks": ""
             }
            },
            "type": "parcoords"
           }
          ],
          "pie": [
           {
            "automargin": true,
            "type": "pie"
           }
          ],
          "scatter": [
           {
            "fillpattern": {
             "fillmode": "overlay",
             "size": 10,
             "solidity": 0.2
            },
            "type": "scatter"
           }
          ],
          "scatter3d": [
           {
            "line": {
             "colorbar": {
              "outlinewidth": 0,
              "ticks": ""
             }
            },
            "marker": {
             "colorbar": {
              "outlinewidth": 0,
              "ticks": ""
             }
            },
            "type": "scatter3d"
           }
          ],
          "scattercarpet": [
           {
            "marker": {
             "colorbar": {
              "outlinewidth": 0,
              "ticks": ""
             }
            },
            "type": "scattercarpet"
           }
          ],
          "scattergeo": [
           {
            "marker": {
             "colorbar": {
              "outlinewidth": 0,
              "ticks": ""
             }
            },
            "type": "scattergeo"
           }
          ],
          "scattergl": [
           {
            "marker": {
             "colorbar": {
              "outlinewidth": 0,
              "ticks": ""
             }
            },
            "type": "scattergl"
           }
          ],
          "scattermapbox": [
           {
            "marker": {
             "colorbar": {
              "outlinewidth": 0,
              "ticks": ""
             }
            },
            "type": "scattermapbox"
           }
          ],
          "scatterpolar": [
           {
            "marker": {
             "colorbar": {
              "outlinewidth": 0,
              "ticks": ""
             }
            },
            "type": "scatterpolar"
           }
          ],
          "scatterpolargl": [
           {
            "marker": {
             "colorbar": {
              "outlinewidth": 0,
              "ticks": ""
             }
            },
            "type": "scatterpolargl"
           }
          ],
          "scatterternary": [
           {
            "marker": {
             "colorbar": {
              "outlinewidth": 0,
              "ticks": ""
             }
            },
            "type": "scatterternary"
           }
          ],
          "surface": [
           {
            "colorbar": {
             "outlinewidth": 0,
             "ticks": ""
            },
            "colorscale": [
             [
              0,
              "#0d0887"
             ],
             [
              0.1111111111111111,
              "#46039f"
             ],
             [
              0.2222222222222222,
              "#7201a8"
             ],
             [
              0.3333333333333333,
              "#9c179e"
             ],
             [
              0.4444444444444444,
              "#bd3786"
             ],
             [
              0.5555555555555556,
              "#d8576b"
             ],
             [
              0.6666666666666666,
              "#ed7953"
             ],
             [
              0.7777777777777778,
              "#fb9f3a"
             ],
             [
              0.8888888888888888,
              "#fdca26"
             ],
             [
              1,
              "#f0f921"
             ]
            ],
            "type": "surface"
           }
          ],
          "table": [
           {
            "cells": {
             "fill": {
              "color": "#EBF0F8"
             },
             "line": {
              "color": "white"
             }
            },
            "header": {
             "fill": {
              "color": "#C8D4E3"
             },
             "line": {
              "color": "white"
             }
            },
            "type": "table"
           }
          ]
         },
         "layout": {
          "annotationdefaults": {
           "arrowcolor": "#2a3f5f",
           "arrowhead": 0,
           "arrowwidth": 1
          },
          "autotypenumbers": "strict",
          "coloraxis": {
           "colorbar": {
            "outlinewidth": 0,
            "ticks": ""
           }
          },
          "colorscale": {
           "diverging": [
            [
             0,
             "#8e0152"
            ],
            [
             0.1,
             "#c51b7d"
            ],
            [
             0.2,
             "#de77ae"
            ],
            [
             0.3,
             "#f1b6da"
            ],
            [
             0.4,
             "#fde0ef"
            ],
            [
             0.5,
             "#f7f7f7"
            ],
            [
             0.6,
             "#e6f5d0"
            ],
            [
             0.7,
             "#b8e186"
            ],
            [
             0.8,
             "#7fbc41"
            ],
            [
             0.9,
             "#4d9221"
            ],
            [
             1,
             "#276419"
            ]
           ],
           "sequential": [
            [
             0,
             "#0d0887"
            ],
            [
             0.1111111111111111,
             "#46039f"
            ],
            [
             0.2222222222222222,
             "#7201a8"
            ],
            [
             0.3333333333333333,
             "#9c179e"
            ],
            [
             0.4444444444444444,
             "#bd3786"
            ],
            [
             0.5555555555555556,
             "#d8576b"
            ],
            [
             0.6666666666666666,
             "#ed7953"
            ],
            [
             0.7777777777777778,
             "#fb9f3a"
            ],
            [
             0.8888888888888888,
             "#fdca26"
            ],
            [
             1,
             "#f0f921"
            ]
           ],
           "sequentialminus": [
            [
             0,
             "#0d0887"
            ],
            [
             0.1111111111111111,
             "#46039f"
            ],
            [
             0.2222222222222222,
             "#7201a8"
            ],
            [
             0.3333333333333333,
             "#9c179e"
            ],
            [
             0.4444444444444444,
             "#bd3786"
            ],
            [
             0.5555555555555556,
             "#d8576b"
            ],
            [
             0.6666666666666666,
             "#ed7953"
            ],
            [
             0.7777777777777778,
             "#fb9f3a"
            ],
            [
             0.8888888888888888,
             "#fdca26"
            ],
            [
             1,
             "#f0f921"
            ]
           ]
          },
          "colorway": [
           "#636efa",
           "#EF553B",
           "#00cc96",
           "#ab63fa",
           "#FFA15A",
           "#19d3f3",
           "#FF6692",
           "#B6E880",
           "#FF97FF",
           "#FECB52"
          ],
          "font": {
           "color": "#2a3f5f"
          },
          "geo": {
           "bgcolor": "white",
           "lakecolor": "white",
           "landcolor": "#E5ECF6",
           "showlakes": true,
           "showland": true,
           "subunitcolor": "white"
          },
          "hoverlabel": {
           "align": "left"
          },
          "hovermode": "closest",
          "mapbox": {
           "style": "light"
          },
          "paper_bgcolor": "white",
          "plot_bgcolor": "#E5ECF6",
          "polar": {
           "angularaxis": {
            "gridcolor": "white",
            "linecolor": "white",
            "ticks": ""
           },
           "bgcolor": "#E5ECF6",
           "radialaxis": {
            "gridcolor": "white",
            "linecolor": "white",
            "ticks": ""
           }
          },
          "scene": {
           "xaxis": {
            "backgroundcolor": "#E5ECF6",
            "gridcolor": "white",
            "gridwidth": 2,
            "linecolor": "white",
            "showbackground": true,
            "ticks": "",
            "zerolinecolor": "white"
           },
           "yaxis": {
            "backgroundcolor": "#E5ECF6",
            "gridcolor": "white",
            "gridwidth": 2,
            "linecolor": "white",
            "showbackground": true,
            "ticks": "",
            "zerolinecolor": "white"
           },
           "zaxis": {
            "backgroundcolor": "#E5ECF6",
            "gridcolor": "white",
            "gridwidth": 2,
            "linecolor": "white",
            "showbackground": true,
            "ticks": "",
            "zerolinecolor": "white"
           }
          },
          "shapedefaults": {
           "line": {
            "color": "#2a3f5f"
           }
          },
          "ternary": {
           "aaxis": {
            "gridcolor": "white",
            "linecolor": "white",
            "ticks": ""
           },
           "baxis": {
            "gridcolor": "white",
            "linecolor": "white",
            "ticks": ""
           },
           "bgcolor": "#E5ECF6",
           "caxis": {
            "gridcolor": "white",
            "linecolor": "white",
            "ticks": ""
           }
          },
          "title": {
           "x": 0.05
          },
          "xaxis": {
           "automargin": true,
           "gridcolor": "white",
           "linecolor": "white",
           "ticks": "",
           "title": {
            "standoff": 15
           },
           "zerolinecolor": "white",
           "zerolinewidth": 2
          },
          "yaxis": {
           "automargin": true,
           "gridcolor": "white",
           "linecolor": "white",
           "ticks": "",
           "title": {
            "standoff": 15
           },
           "zerolinecolor": "white",
           "zerolinewidth": 2
          }
         }
        },
        "title": {
         "text": "Articles Sorted By Main Topic"
        },
        "xaxis": {
         "anchor": "y",
         "categoryarray": [
          5,
          10,
          2,
          1,
          0,
          3,
          8,
          4,
          6,
          9,
          7
         ],
         "categoryorder": "array",
         "domain": [
          0,
          1
         ],
         "title": {
          "text": "Main Topic"
         }
        },
        "yaxis": {
         "anchor": "x",
         "domain": [
          0,
          1
         ],
         "range": [
          -0.22,
          0.22
         ],
         "title": {
          "text": "Sentiment Score"
         }
        }
       }
      }
     },
     "metadata": {},
     "output_type": "display_data"
    }
   ],
   "source": [
    "visualize_all_articles_on_main_topic(df)\n",
    "visualize_all_articles_on_main_topic(df, plot_type=\"box\")"
   ]
  },
  {
   "cell_type": "markdown",
   "id": "e2dceebf",
   "metadata": {},
   "source": [
    "## Generating 2D and 3D Cluster Graphs of Topics (T-SNE)"
   ]
  },
  {
   "cell_type": "markdown",
   "id": "b37fc21b",
   "metadata": {},
   "source": [
    "This visualization generates a 2D clustering graph representing each article as a point in the topic space, which uses t-SNE dimensionality reduction and clustering. The goal of this visualization is to show every article compared to each other by their similarity in topics. You should see clusters of articles that share a lot of topic words and overall themes, while articles that differ in their topics are shown far apart. Colored by an article's main topic."
   ]
  },
  {
   "cell_type": "code",
   "execution_count": 12,
   "id": "235fbeca",
   "metadata": {
    "scrolled": false
   },
   "outputs": [
    {
     "name": "stdout",
     "output_type": "stream",
     "text": [
      "[t-SNE] Computing 39 nearest neighbors...\n",
      "[t-SNE] Indexed 40 samples in 0.000s...\n",
      "[t-SNE] Computed neighbors for 40 samples in 0.145s...\n",
      "[t-SNE] Computed conditional probabilities for sample 40 / 40\n",
      "[t-SNE] Mean sigma: 0.623623\n",
      "[t-SNE] KL divergence after 250 iterations with early exaggeration: 54.267941\n",
      "[t-SNE] KL divergence after 1000 iterations: 0.104287\n"
     ]
    },
    {
     "data": {
      "application/vnd.plotly.v1+json": {
       "config": {
        "plotlyServerURL": "https://plot.ly"
       },
       "data": [
        {
         "customdata": [
          [
           24,
           [
            [
             "primary",
             "state",
             "write",
             "vote",
             "ballot",
             "candidate",
             "party",
             "new",
             "election",
             "campaign"
            ]
           ],
           "apnews.com",
           "Positive",
           "0"
          ],
          [
           5,
           [
            [
             "primary",
             "state",
             "write",
             "vote",
             "ballot",
             "candidate",
             "party",
             "new",
             "election",
             "campaign"
            ]
           ],
           "www.nation.com.pk",
           "Neutral Positive",
           "0"
          ]
         ],
         "hovertemplate": "ID: %{customdata[0]}<br>Associated Words: %{customdata[1]}<br>Address: %{customdata[2]}<br>Sentiment Label: %{customdata[3]}<br>Main Topic:%{customdata[4]}",
         "legendgroup": "0",
         "marker": {
          "color": "#636efa",
          "size": [
           0.9982242584228516,
           0.9939383268356323
          ],
          "sizemode": "area",
          "sizeref": 0.00249745711684227,
          "symbol": "circle"
         },
         "mode": "markers",
         "name": "0",
         "orientation": "v",
         "showlegend": true,
         "type": "scatter",
         "x": [
          0.23308879137039185,
          1.8622543811798096
         ],
         "xaxis": "x",
         "y": [
          16.8655948638916,
          8.263907432556152
         ],
         "yaxis": "y"
        },
        {
         "customdata": [
          [
           39,
           [
            [
             "migrant",
             "chs",
             "biden",
             "task",
             "foreign",
             "influence",
             "hunter",
             "new",
             "force",
             "last"
            ]
           ],
           "www.foxnews.com",
           "Neutral Positive",
           "1"
          ],
          [
           4,
           [
            [
             "migrant",
             "chs",
             "biden",
             "task",
             "foreign",
             "influence",
             "hunter",
             "new",
             "force",
             "last"
            ]
           ],
           "www.nation.com.pk",
           "Negative",
           "1"
          ],
          [
           6,
           [
            [
             "migrant",
             "chs",
             "biden",
             "task",
             "foreign",
             "influence",
             "hunter",
             "new",
             "force",
             "last"
            ]
           ],
           "www.nation.com.pk",
           "Negative",
           "1"
          ]
         ],
         "hovertemplate": "ID: %{customdata[0]}<br>Associated Words: %{customdata[1]}<br>Address: %{customdata[2]}<br>Sentiment Label: %{customdata[3]}<br>Main Topic:%{customdata[4]}",
         "legendgroup": "1",
         "marker": {
          "color": "#EF553B",
          "size": [
           0.9972023367881775,
           0.9945554137229919,
           0.9933631420135498
          ],
          "sizemode": "area",
          "sizeref": 0.00249745711684227,
          "symbol": "circle"
         },
         "mode": "markers",
         "name": "1",
         "orientation": "v",
         "showlegend": true,
         "type": "scatter",
         "x": [
          -1.706566333770752,
          0.2331249713897705,
          -6.478028297424316
         ],
         "xaxis": "x",
         "y": [
          5.892690181732178,
          15.990837097167969,
          11.73578929901123
         ],
         "yaxis": "y"
        },
        {
         "customdata": [
          [
           2,
           [
            [
             "hunter",
             "president",
             "republican",
             "biden",
             "political",
             "son",
             "charge",
             "special",
             "counsel",
             "deal"
            ]
           ],
           "www.foxnews.com",
           "Negative",
           "2"
          ],
          [
           18,
           [
            [
             "hunter",
             "president",
             "republican",
             "biden",
             "political",
             "son",
             "charge",
             "special",
             "counsel",
             "deal"
            ]
           ],
           "www.cnn.com",
           "Neutral",
           "2"
          ]
         ],
         "hovertemplate": "ID: %{customdata[0]}<br>Associated Words: %{customdata[1]}<br>Address: %{customdata[2]}<br>Sentiment Label: %{customdata[3]}<br>Main Topic:%{customdata[4]}",
         "legendgroup": "2",
         "marker": {
          "color": "#00cc96",
          "size": [
           0.9975157380104065,
           0.9988191723823547
          ],
          "sizemode": "area",
          "sizeref": 0.00249745711684227,
          "symbol": "circle"
         },
         "mode": "markers",
         "name": "2",
         "orientation": "v",
         "showlegend": true,
         "type": "scatter",
         "x": [
          -3.344357967376709,
          -6.476386547088623
         ],
         "xaxis": "x",
         "y": [
          11.043481826782227,
          11.7352876663208
         ],
         "yaxis": "y"
        },
        {
         "customdata": [
          [
           10,
           [
            [
             "hunter",
             "biden",
             "comer",
             "charge",
             "bank",
             "record",
             "attorney",
             "call",
             "address",
             "tell"
            ]
           ],
           "nypost.com",
           "Neutral",
           "3"
          ],
          [
           8,
           [
            [
             "hunter",
             "biden",
             "comer",
             "charge",
             "bank",
             "record",
             "attorney",
             "call",
             "address",
             "tell"
            ]
           ],
           "abcnews.go.com",
           "Neutral Negative",
           "3"
          ],
          [
           35,
           [
            [
             "hunter",
             "biden",
             "comer",
             "charge",
             "bank",
             "record",
             "attorney",
             "call",
             "address",
             "tell"
            ]
           ],
           "www.foxnews.com",
           "Neutral Negative",
           "3"
          ]
         ],
         "hovertemplate": "ID: %{customdata[0]}<br>Associated Words: %{customdata[1]}<br>Address: %{customdata[2]}<br>Sentiment Label: %{customdata[3]}<br>Main Topic:%{customdata[4]}",
         "legendgroup": "3",
         "marker": {
          "color": "#ab63fa",
          "size": [
           0.9965947270393372,
           0.9961956739425659,
           0.738487958908081
          ],
          "sizemode": "area",
          "sizeref": 0.00249745711684227,
          "symbol": "circle"
         },
         "mode": "markers",
         "name": "3",
         "orientation": "v",
         "showlegend": true,
         "type": "scatter",
         "x": [
          -0.2907349467277527,
          -1.4707633256912231,
          -4.358710765838623
         ],
         "xaxis": "x",
         "y": [
          8.009366035461426,
          12.887869834899902,
          14.6779203414917
         ],
         "yaxis": "y"
        },
        {
         "customdata": [
          [
           30,
           [
            [
             "impeachment",
             "think",
             "war",
             "conference",
             "biden",
             "move",
             "kill",
             "death",
             "president",
             "group"
            ]
           ],
           "www.wmur.com",
           "Positive",
           "4"
          ],
          [
           37,
           [
            [
             "impeachment",
             "think",
             "war",
             "conference",
             "biden",
             "move",
             "kill",
             "death",
             "president",
             "group"
            ]
           ],
           "www.usatoday.com",
           "Neutral Positive",
           "4"
          ],
          [
           32,
           [
            [
             "impeachment",
             "think",
             "war",
             "conference",
             "biden",
             "move",
             "kill",
             "death",
             "president",
             "group"
            ]
           ],
           "www.reuters.com",
           "Neutral Negative",
           "4"
          ],
          [
           17,
           [
            [
             "impeachment",
             "think",
             "war",
             "conference",
             "biden",
             "move",
             "kill",
             "death",
             "president",
             "group"
            ]
           ],
           "www.politico.com",
           "Positive",
           "4"
          ]
         ],
         "hovertemplate": "ID: %{customdata[0]}<br>Associated Words: %{customdata[1]}<br>Address: %{customdata[2]}<br>Sentiment Label: %{customdata[3]}<br>Main Topic:%{customdata[4]}",
         "legendgroup": "4",
         "marker": {
          "color": "#FFA15A",
          "size": [
           0.6629858016967773,
           0.9964895248413086,
           0.9937295913696289,
           0.9978453516960144
          ],
          "sizemode": "area",
          "sizeref": 0.00249745711684227,
          "symbol": "circle"
         },
         "mode": "markers",
         "name": "4",
         "orientation": "v",
         "showlegend": true,
         "type": "scatter",
         "x": [
          -1.470717191696167,
          1.2998614311218262,
          1.096930980682373,
          0.4284992516040802
         ],
         "xaxis": "x",
         "y": [
          12.887946128845215,
          8.42485237121582,
          7.767561912536621,
          9.39228343963623
         ],
         "yaxis": "y"
        },
        {
         "customdata": [
          [
           29,
           [
            [
             "biden",
             "hunter",
             "phillip",
             "democratic",
             "run",
             "president",
             "campaign",
             "support",
             "voter",
             "party"
            ]
           ],
           "www.washingtonpost.com",
           "Positive",
           "5"
          ],
          [
           28,
           [
            [
             "biden",
             "hunter",
             "phillip",
             "democratic",
             "run",
             "president",
             "campaign",
             "support",
             "voter",
             "party"
            ]
           ],
           "abcnews.go.com",
           "Neutral Positive",
           "5"
          ],
          [
           27,
           [
            [
             "biden",
             "hunter",
             "phillip",
             "democratic",
             "run",
             "president",
             "campaign",
             "support",
             "voter",
             "party"
            ]
           ],
           "www.foxnews.com",
           "Neutral Negative",
           "5"
          ],
          [
           0,
           [
            [
             "biden",
             "hunter",
             "phillip",
             "democratic",
             "run",
             "president",
             "campaign",
             "support",
             "voter",
             "party"
            ]
           ],
           "www.foxnews.com",
           "Neutral",
           "5"
          ],
          [
           3,
           [
            [
             "biden",
             "hunter",
             "phillip",
             "democratic",
             "run",
             "president",
             "campaign",
             "support",
             "voter",
             "party"
            ]
           ],
           "apnews.com",
           "Neutral Negative",
           "5"
          ],
          [
           14,
           [
            [
             "biden",
             "hunter",
             "phillip",
             "democratic",
             "run",
             "president",
             "campaign",
             "support",
             "voter",
             "party"
            ]
           ],
           "www.newsnationnow.com",
           "Positive",
           "5"
          ],
          [
           16,
           [
            [
             "biden",
             "hunter",
             "phillip",
             "democratic",
             "run",
             "president",
             "campaign",
             "support",
             "voter",
             "party"
            ]
           ],
           "www.thenation.com",
           "Neutral Positive",
           "5"
          ]
         ],
         "hovertemplate": "ID: %{customdata[0]}<br>Associated Words: %{customdata[1]}<br>Address: %{customdata[2]}<br>Sentiment Label: %{customdata[3]}<br>Main Topic:%{customdata[4]}",
         "legendgroup": "5",
         "marker": {
          "color": "#19d3f3",
          "size": [
           0.9987661838531494,
           0.9973175525665283,
           0.9955206513404846,
           0.9974167346954346,
           0.902397096157074,
           0.7562063336372375,
           0.998982846736908
          ],
          "sizemode": "area",
          "sizeref": 0.00249745711684227,
          "symbol": "circle"
         },
         "mode": "markers",
         "name": "5",
         "orientation": "v",
         "showlegend": true,
         "type": "scatter",
         "x": [
          -0.36963239312171936,
          1.7131025791168213,
          0.5904971361160278,
          -4.464783191680908,
          -1.6775593757629395,
          -4.357271194458008,
          1.5441020727157593
         ],
         "xaxis": "x",
         "y": [
          15.66689395904541,
          9.190122604370117,
          16.60483741760254,
          8.65292739868164,
          5.903500080108643,
          14.673937797546387,
          8.983175277709961
         ],
         "yaxis": "y"
        },
        {
         "customdata": [
          [
           23,
           [
            [
             "biden",
             "republican",
             "election",
             "president",
             "nominee",
             "democratic",
             "party",
             "last",
             "old",
             "presidential"
            ]
           ],
           "www.usatoday.com",
           "Positive",
           "6"
          ],
          [
           26,
           [
            [
             "biden",
             "republican",
             "election",
             "president",
             "nominee",
             "democratic",
             "party",
             "last",
             "old",
             "presidential"
            ]
           ],
           "www.nbcnews.com",
           "Neutral",
           "6"
          ]
         ],
         "hovertemplate": "ID: %{customdata[0]}<br>Associated Words: %{customdata[1]}<br>Address: %{customdata[2]}<br>Sentiment Label: %{customdata[3]}<br>Main Topic:%{customdata[4]}",
         "legendgroup": "6",
         "marker": {
          "color": "#FF6692",
          "size": [
           0.9918820261955261,
           0.9980191588401794
          ],
          "sizemode": "area",
          "sizeref": 0.00249745711684227,
          "symbol": "circle"
         },
         "mode": "markers",
         "name": "6",
         "orientation": "v",
         "showlegend": true,
         "type": "scatter",
         "x": [
          -0.49659979343414307,
          0.4368800222873688
         ],
         "xaxis": "x",
         "y": [
          9.394797325134277,
          8.726797103881836
         ],
         "yaxis": "y"
        },
        {
         "customdata": [
          [
           31,
           [
            [
             "phillip",
             "president",
             "campaign",
             "biden",
             "primary",
             "people",
             "run",
             "bus",
             "tribune",
             "new"
            ]
           ],
           "www.startribune.com",
           "Positive",
           "7"
          ]
         ],
         "hovertemplate": "ID: %{customdata[0]}<br>Associated Words: %{customdata[1]}<br>Address: %{customdata[2]}<br>Sentiment Label: %{customdata[3]}<br>Main Topic:%{customdata[4]}",
         "legendgroup": "7",
         "marker": {
          "color": "#B6E880",
          "size": [
           0.9953134655952454
          ],
          "sizemode": "area",
          "sizeref": 0.00249745711684227,
          "symbol": "circle"
         },
         "mode": "markers",
         "name": "7",
         "orientation": "v",
         "showlegend": true,
         "type": "scatter",
         "x": [
          2.595353841781616
         ],
         "xaxis": "x",
         "y": [
          12.920867919921875
         ],
         "yaxis": "y"
        },
        {
         "customdata": [
          [
           19,
           [
            [
             "hunter",
             "hallie",
             "gun",
             "service",
             "secret",
             "tell",
             "report",
             "text",
             "attack",
             "police"
            ]
           ],
           "www.washingtonexaminer.com",
           "Negative",
           "8"
          ],
          [
           33,
           [
            [
             "hunter",
             "hallie",
             "gun",
             "service",
             "secret",
             "tell",
             "report",
             "text",
             "attack",
             "police"
            ]
           ],
           "apnews.com",
           "Neutral",
           "8"
          ],
          [
           9,
           [
            [
             "hunter",
             "hallie",
             "gun",
             "service",
             "secret",
             "tell",
             "report",
             "text",
             "attack",
             "police"
            ]
           ],
           "apnews.com",
           "Neutral",
           "8"
          ]
         ],
         "hovertemplate": "ID: %{customdata[0]}<br>Associated Words: %{customdata[1]}<br>Address: %{customdata[2]}<br>Sentiment Label: %{customdata[3]}<br>Main Topic:%{customdata[4]}",
         "legendgroup": "8",
         "marker": {
          "color": "#FF97FF",
          "size": [
           0.9902931451797485,
           0.9156306385993958,
           0.9942451119422913
          ],
          "sizemode": "area",
          "sizeref": 0.00249745711684227,
          "symbol": "circle"
         },
         "mode": "markers",
         "name": "8",
         "orientation": "v",
         "showlegend": true,
         "type": "scatter",
         "x": [
          -3.334141731262207,
          -2.7929728031158447,
          2.6210947036743164
         ],
         "xaxis": "x",
         "y": [
          11.05589485168457,
          10.530932426452637,
          12.919881820678711
         ],
         "yaxis": "y"
        },
        {
         "customdata": [
          [
           25,
           [
            [
             "ballot",
             "move",
             "state",
             "calendar",
             "appear",
             "primary",
             "name",
             "letter",
             "chair",
             "write"
            ]
           ],
           "www.politico.com",
           "Positive",
           "9"
          ]
         ],
         "hovertemplate": "ID: %{customdata[0]}<br>Associated Words: %{customdata[1]}<br>Address: %{customdata[2]}<br>Sentiment Label: %{customdata[3]}<br>Main Topic:%{customdata[4]}",
         "legendgroup": "9",
         "marker": {
          "color": "#FECB52",
          "size": [
           0.6205357313156128
          ],
          "sizemode": "area",
          "sizeref": 0.00249745711684227,
          "symbol": "circle"
         },
         "mode": "markers",
         "name": "9",
         "orientation": "v",
         "showlegend": true,
         "type": "scatter",
         "x": [
          0.6753904223442078
         ],
         "xaxis": "x",
         "y": [
          15.98797607421875
         ],
         "yaxis": "y"
        },
        {
         "customdata": [
          [
           1,
           [
            [
             "office",
             "biden",
             "hunter",
             "information",
             "source",
             "family",
             "foreign",
             "document",
             "investigation",
             "letter"
            ]
           ],
           "www.foxnews.com",
           "Neutral",
           "10"
          ],
          [
           36,
           [
            [
             "office",
             "biden",
             "hunter",
             "information",
             "source",
             "family",
             "foreign",
             "document",
             "investigation",
             "letter"
            ]
           ],
           "www.washingtonpost.com",
           "Neutral",
           "10"
          ],
          [
           34,
           [
            [
             "office",
             "biden",
             "hunter",
             "information",
             "source",
             "family",
             "foreign",
             "document",
             "investigation",
             "letter"
            ]
           ],
           "www.cnn.com",
           "Neutral Positive",
           "10"
          ],
          [
           7,
           [
            [
             "office",
             "biden",
             "hunter",
             "information",
             "source",
             "family",
             "foreign",
             "document",
             "investigation",
             "letter"
            ]
           ],
           "www.cnn.com",
           "Negative",
           "10"
          ],
          [
           15,
           [
            [
             "office",
             "biden",
             "hunter",
             "information",
             "source",
             "family",
             "foreign",
             "document",
             "investigation",
             "letter"
            ]
           ],
           "nypost.com",
           "Neutral Positive",
           "10"
          ],
          [
           13,
           [
            [
             "office",
             "biden",
             "hunter",
             "information",
             "source",
             "family",
             "foreign",
             "document",
             "investigation",
             "letter"
            ]
           ],
           "wjla.com",
           "Negative",
           "10"
          ],
          [
           22,
           [
            [
             "office",
             "biden",
             "hunter",
             "information",
             "source",
             "family",
             "foreign",
             "document",
             "investigation",
             "letter"
            ]
           ],
           "www.washingtontimes.com",
           "Neutral Positive",
           "10"
          ],
          [
           21,
           [
            [
             "office",
             "biden",
             "hunter",
             "information",
             "source",
             "family",
             "foreign",
             "document",
             "investigation",
             "letter"
            ]
           ],
           "thefederalist.com",
           "Neutral Negative",
           "10"
          ],
          [
           20,
           [
            [
             "office",
             "biden",
             "hunter",
             "information",
             "source",
             "family",
             "foreign",
             "document",
             "investigation",
             "letter"
            ]
           ],
           "www.dailymail.co.uk",
           "Negative",
           "10"
          ],
          [
           38,
           [
            [
             "office",
             "biden",
             "hunter",
             "information",
             "source",
             "family",
             "foreign",
             "document",
             "investigation",
             "letter"
            ]
           ],
           "www.reuters.com",
           "Negative",
           "10"
          ],
          [
           11,
           [
            [
             "office",
             "biden",
             "hunter",
             "information",
             "source",
             "family",
             "foreign",
             "document",
             "investigation",
             "letter"
            ]
           ],
           "www.foxnews.com",
           "Negative",
           "10"
          ],
          [
           12,
           [
            [
             "office",
             "biden",
             "hunter",
             "information",
             "source",
             "family",
             "foreign",
             "document",
             "investigation",
             "letter"
            ]
           ],
           "www.grassley.senate.gov",
           "Neutral Negative",
           "10"
          ]
         ],
         "hovertemplate": "ID: %{customdata[0]}<br>Associated Words: %{customdata[1]}<br>Address: %{customdata[2]}<br>Sentiment Label: %{customdata[3]}<br>Main Topic:%{customdata[4]}",
         "legendgroup": "10",
         "marker": {
          "color": "#636efa",
          "size": [
           0.9979748129844666,
           0.7354018092155457,
           0.9516772627830505,
           0.5969172120094299,
           0.9977821707725525,
           0.6955588459968567,
           0.8104621767997742,
           0.504322350025177,
           0.9975624084472656,
           0.7860231995582581,
           0.998826801776886,
           0.99516361951828
          ],
          "sizemode": "area",
          "sizeref": 0.00249745711684227,
          "symbol": "circle"
         },
         "mode": "markers",
         "name": "10",
         "orientation": "v",
         "showlegend": true,
         "type": "scatter",
         "x": [
          -0.21808527410030365,
          -0.11372466385364532,
          -3.9870986938476562,
          -1.5630567073822021,
          -4.469562530517578,
          -4.34901762008667,
          0.900708794593811,
          -1.571981430053711,
          0.2559017539024353,
          -4.482012748718262,
          1.0437252521514893,
          -6.478496074676514
         ],
         "xaxis": "x",
         "y": [
          16.434438705444336,
          16.666748046875,
          9.189157485961914,
          9.613761901855469,
          8.662559509277344,
          14.646636009216309,
          8.155782699584961,
          12.735424041748047,
          9.033758163452148,
          8.675087928771973,
          9.591717720031738,
          11.735489845275879
         ],
         "yaxis": "y"
        }
       ],
       "layout": {
        "legend": {
         "itemsizing": "constant",
         "title": {
          "text": "Main Topic"
         },
         "tracegroupgap": 0
        },
        "template": {
         "data": {
          "bar": [
           {
            "error_x": {
             "color": "#2a3f5f"
            },
            "error_y": {
             "color": "#2a3f5f"
            },
            "marker": {
             "line": {
              "color": "#E5ECF6",
              "width": 0.5
             },
             "pattern": {
              "fillmode": "overlay",
              "size": 10,
              "solidity": 0.2
             }
            },
            "type": "bar"
           }
          ],
          "barpolar": [
           {
            "marker": {
             "line": {
              "color": "#E5ECF6",
              "width": 0.5
             },
             "pattern": {
              "fillmode": "overlay",
              "size": 10,
              "solidity": 0.2
             }
            },
            "type": "barpolar"
           }
          ],
          "carpet": [
           {
            "aaxis": {
             "endlinecolor": "#2a3f5f",
             "gridcolor": "white",
             "linecolor": "white",
             "minorgridcolor": "white",
             "startlinecolor": "#2a3f5f"
            },
            "baxis": {
             "endlinecolor": "#2a3f5f",
             "gridcolor": "white",
             "linecolor": "white",
             "minorgridcolor": "white",
             "startlinecolor": "#2a3f5f"
            },
            "type": "carpet"
           }
          ],
          "choropleth": [
           {
            "colorbar": {
             "outlinewidth": 0,
             "ticks": ""
            },
            "type": "choropleth"
           }
          ],
          "contour": [
           {
            "colorbar": {
             "outlinewidth": 0,
             "ticks": ""
            },
            "colorscale": [
             [
              0,
              "#0d0887"
             ],
             [
              0.1111111111111111,
              "#46039f"
             ],
             [
              0.2222222222222222,
              "#7201a8"
             ],
             [
              0.3333333333333333,
              "#9c179e"
             ],
             [
              0.4444444444444444,
              "#bd3786"
             ],
             [
              0.5555555555555556,
              "#d8576b"
             ],
             [
              0.6666666666666666,
              "#ed7953"
             ],
             [
              0.7777777777777778,
              "#fb9f3a"
             ],
             [
              0.8888888888888888,
              "#fdca26"
             ],
             [
              1,
              "#f0f921"
             ]
            ],
            "type": "contour"
           }
          ],
          "contourcarpet": [
           {
            "colorbar": {
             "outlinewidth": 0,
             "ticks": ""
            },
            "type": "contourcarpet"
           }
          ],
          "heatmap": [
           {
            "colorbar": {
             "outlinewidth": 0,
             "ticks": ""
            },
            "colorscale": [
             [
              0,
              "#0d0887"
             ],
             [
              0.1111111111111111,
              "#46039f"
             ],
             [
              0.2222222222222222,
              "#7201a8"
             ],
             [
              0.3333333333333333,
              "#9c179e"
             ],
             [
              0.4444444444444444,
              "#bd3786"
             ],
             [
              0.5555555555555556,
              "#d8576b"
             ],
             [
              0.6666666666666666,
              "#ed7953"
             ],
             [
              0.7777777777777778,
              "#fb9f3a"
             ],
             [
              0.8888888888888888,
              "#fdca26"
             ],
             [
              1,
              "#f0f921"
             ]
            ],
            "type": "heatmap"
           }
          ],
          "heatmapgl": [
           {
            "colorbar": {
             "outlinewidth": 0,
             "ticks": ""
            },
            "colorscale": [
             [
              0,
              "#0d0887"
             ],
             [
              0.1111111111111111,
              "#46039f"
             ],
             [
              0.2222222222222222,
              "#7201a8"
             ],
             [
              0.3333333333333333,
              "#9c179e"
             ],
             [
              0.4444444444444444,
              "#bd3786"
             ],
             [
              0.5555555555555556,
              "#d8576b"
             ],
             [
              0.6666666666666666,
              "#ed7953"
             ],
             [
              0.7777777777777778,
              "#fb9f3a"
             ],
             [
              0.8888888888888888,
              "#fdca26"
             ],
             [
              1,
              "#f0f921"
             ]
            ],
            "type": "heatmapgl"
           }
          ],
          "histogram": [
           {
            "marker": {
             "pattern": {
              "fillmode": "overlay",
              "size": 10,
              "solidity": 0.2
             }
            },
            "type": "histogram"
           }
          ],
          "histogram2d": [
           {
            "colorbar": {
             "outlinewidth": 0,
             "ticks": ""
            },
            "colorscale": [
             [
              0,
              "#0d0887"
             ],
             [
              0.1111111111111111,
              "#46039f"
             ],
             [
              0.2222222222222222,
              "#7201a8"
             ],
             [
              0.3333333333333333,
              "#9c179e"
             ],
             [
              0.4444444444444444,
              "#bd3786"
             ],
             [
              0.5555555555555556,
              "#d8576b"
             ],
             [
              0.6666666666666666,
              "#ed7953"
             ],
             [
              0.7777777777777778,
              "#fb9f3a"
             ],
             [
              0.8888888888888888,
              "#fdca26"
             ],
             [
              1,
              "#f0f921"
             ]
            ],
            "type": "histogram2d"
           }
          ],
          "histogram2dcontour": [
           {
            "colorbar": {
             "outlinewidth": 0,
             "ticks": ""
            },
            "colorscale": [
             [
              0,
              "#0d0887"
             ],
             [
              0.1111111111111111,
              "#46039f"
             ],
             [
              0.2222222222222222,
              "#7201a8"
             ],
             [
              0.3333333333333333,
              "#9c179e"
             ],
             [
              0.4444444444444444,
              "#bd3786"
             ],
             [
              0.5555555555555556,
              "#d8576b"
             ],
             [
              0.6666666666666666,
              "#ed7953"
             ],
             [
              0.7777777777777778,
              "#fb9f3a"
             ],
             [
              0.8888888888888888,
              "#fdca26"
             ],
             [
              1,
              "#f0f921"
             ]
            ],
            "type": "histogram2dcontour"
           }
          ],
          "mesh3d": [
           {
            "colorbar": {
             "outlinewidth": 0,
             "ticks": ""
            },
            "type": "mesh3d"
           }
          ],
          "parcoords": [
           {
            "line": {
             "colorbar": {
              "outlinewidth": 0,
              "ticks": ""
             }
            },
            "type": "parcoords"
           }
          ],
          "pie": [
           {
            "automargin": true,
            "type": "pie"
           }
          ],
          "scatter": [
           {
            "fillpattern": {
             "fillmode": "overlay",
             "size": 10,
             "solidity": 0.2
            },
            "type": "scatter"
           }
          ],
          "scatter3d": [
           {
            "line": {
             "colorbar": {
              "outlinewidth": 0,
              "ticks": ""
             }
            },
            "marker": {
             "colorbar": {
              "outlinewidth": 0,
              "ticks": ""
             }
            },
            "type": "scatter3d"
           }
          ],
          "scattercarpet": [
           {
            "marker": {
             "colorbar": {
              "outlinewidth": 0,
              "ticks": ""
             }
            },
            "type": "scattercarpet"
           }
          ],
          "scattergeo": [
           {
            "marker": {
             "colorbar": {
              "outlinewidth": 0,
              "ticks": ""
             }
            },
            "type": "scattergeo"
           }
          ],
          "scattergl": [
           {
            "marker": {
             "colorbar": {
              "outlinewidth": 0,
              "ticks": ""
             }
            },
            "type": "scattergl"
           }
          ],
          "scattermapbox": [
           {
            "marker": {
             "colorbar": {
              "outlinewidth": 0,
              "ticks": ""
             }
            },
            "type": "scattermapbox"
           }
          ],
          "scatterpolar": [
           {
            "marker": {
             "colorbar": {
              "outlinewidth": 0,
              "ticks": ""
             }
            },
            "type": "scatterpolar"
           }
          ],
          "scatterpolargl": [
           {
            "marker": {
             "colorbar": {
              "outlinewidth": 0,
              "ticks": ""
             }
            },
            "type": "scatterpolargl"
           }
          ],
          "scatterternary": [
           {
            "marker": {
             "colorbar": {
              "outlinewidth": 0,
              "ticks": ""
             }
            },
            "type": "scatterternary"
           }
          ],
          "surface": [
           {
            "colorbar": {
             "outlinewidth": 0,
             "ticks": ""
            },
            "colorscale": [
             [
              0,
              "#0d0887"
             ],
             [
              0.1111111111111111,
              "#46039f"
             ],
             [
              0.2222222222222222,
              "#7201a8"
             ],
             [
              0.3333333333333333,
              "#9c179e"
             ],
             [
              0.4444444444444444,
              "#bd3786"
             ],
             [
              0.5555555555555556,
              "#d8576b"
             ],
             [
              0.6666666666666666,
              "#ed7953"
             ],
             [
              0.7777777777777778,
              "#fb9f3a"
             ],
             [
              0.8888888888888888,
              "#fdca26"
             ],
             [
              1,
              "#f0f921"
             ]
            ],
            "type": "surface"
           }
          ],
          "table": [
           {
            "cells": {
             "fill": {
              "color": "#EBF0F8"
             },
             "line": {
              "color": "white"
             }
            },
            "header": {
             "fill": {
              "color": "#C8D4E3"
             },
             "line": {
              "color": "white"
             }
            },
            "type": "table"
           }
          ]
         },
         "layout": {
          "annotationdefaults": {
           "arrowcolor": "#2a3f5f",
           "arrowhead": 0,
           "arrowwidth": 1
          },
          "autotypenumbers": "strict",
          "coloraxis": {
           "colorbar": {
            "outlinewidth": 0,
            "ticks": ""
           }
          },
          "colorscale": {
           "diverging": [
            [
             0,
             "#8e0152"
            ],
            [
             0.1,
             "#c51b7d"
            ],
            [
             0.2,
             "#de77ae"
            ],
            [
             0.3,
             "#f1b6da"
            ],
            [
             0.4,
             "#fde0ef"
            ],
            [
             0.5,
             "#f7f7f7"
            ],
            [
             0.6,
             "#e6f5d0"
            ],
            [
             0.7,
             "#b8e186"
            ],
            [
             0.8,
             "#7fbc41"
            ],
            [
             0.9,
             "#4d9221"
            ],
            [
             1,
             "#276419"
            ]
           ],
           "sequential": [
            [
             0,
             "#0d0887"
            ],
            [
             0.1111111111111111,
             "#46039f"
            ],
            [
             0.2222222222222222,
             "#7201a8"
            ],
            [
             0.3333333333333333,
             "#9c179e"
            ],
            [
             0.4444444444444444,
             "#bd3786"
            ],
            [
             0.5555555555555556,
             "#d8576b"
            ],
            [
             0.6666666666666666,
             "#ed7953"
            ],
            [
             0.7777777777777778,
             "#fb9f3a"
            ],
            [
             0.8888888888888888,
             "#fdca26"
            ],
            [
             1,
             "#f0f921"
            ]
           ],
           "sequentialminus": [
            [
             0,
             "#0d0887"
            ],
            [
             0.1111111111111111,
             "#46039f"
            ],
            [
             0.2222222222222222,
             "#7201a8"
            ],
            [
             0.3333333333333333,
             "#9c179e"
            ],
            [
             0.4444444444444444,
             "#bd3786"
            ],
            [
             0.5555555555555556,
             "#d8576b"
            ],
            [
             0.6666666666666666,
             "#ed7953"
            ],
            [
             0.7777777777777778,
             "#fb9f3a"
            ],
            [
             0.8888888888888888,
             "#fdca26"
            ],
            [
             1,
             "#f0f921"
            ]
           ]
          },
          "colorway": [
           "#636efa",
           "#EF553B",
           "#00cc96",
           "#ab63fa",
           "#FFA15A",
           "#19d3f3",
           "#FF6692",
           "#B6E880",
           "#FF97FF",
           "#FECB52"
          ],
          "font": {
           "color": "#2a3f5f"
          },
          "geo": {
           "bgcolor": "white",
           "lakecolor": "white",
           "landcolor": "#E5ECF6",
           "showlakes": true,
           "showland": true,
           "subunitcolor": "white"
          },
          "hoverlabel": {
           "align": "left"
          },
          "hovermode": "closest",
          "mapbox": {
           "style": "light"
          },
          "paper_bgcolor": "white",
          "plot_bgcolor": "#E5ECF6",
          "polar": {
           "angularaxis": {
            "gridcolor": "white",
            "linecolor": "white",
            "ticks": ""
           },
           "bgcolor": "#E5ECF6",
           "radialaxis": {
            "gridcolor": "white",
            "linecolor": "white",
            "ticks": ""
           }
          },
          "scene": {
           "xaxis": {
            "backgroundcolor": "#E5ECF6",
            "gridcolor": "white",
            "gridwidth": 2,
            "linecolor": "white",
            "showbackground": true,
            "ticks": "",
            "zerolinecolor": "white"
           },
           "yaxis": {
            "backgroundcolor": "#E5ECF6",
            "gridcolor": "white",
            "gridwidth": 2,
            "linecolor": "white",
            "showbackground": true,
            "ticks": "",
            "zerolinecolor": "white"
           },
           "zaxis": {
            "backgroundcolor": "#E5ECF6",
            "gridcolor": "white",
            "gridwidth": 2,
            "linecolor": "white",
            "showbackground": true,
            "ticks": "",
            "zerolinecolor": "white"
           }
          },
          "shapedefaults": {
           "line": {
            "color": "#2a3f5f"
           }
          },
          "ternary": {
           "aaxis": {
            "gridcolor": "white",
            "linecolor": "white",
            "ticks": ""
           },
           "baxis": {
            "gridcolor": "white",
            "linecolor": "white",
            "ticks": ""
           },
           "bgcolor": "#E5ECF6",
           "caxis": {
            "gridcolor": "white",
            "linecolor": "white",
            "ticks": ""
           }
          },
          "title": {
           "x": 0.05
          },
          "xaxis": {
           "automargin": true,
           "gridcolor": "white",
           "linecolor": "white",
           "ticks": "",
           "title": {
            "standoff": 15
           },
           "zerolinecolor": "white",
           "zerolinewidth": 2
          },
          "yaxis": {
           "automargin": true,
           "gridcolor": "white",
           "linecolor": "white",
           "ticks": "",
           "title": {
            "standoff": 15
           },
           "zerolinecolor": "white",
           "zerolinewidth": 2
          }
         }
        },
        "title": {
         "text": "Topic Clustering Graph"
        },
        "xaxis": {
         "anchor": "y",
         "domain": [
          0,
          1
         ],
         "title": {
          "text": "x"
         }
        },
        "yaxis": {
         "anchor": "x",
         "domain": [
          0,
          1
         ],
         "title": {
          "text": "y"
         }
        }
       }
      }
     },
     "metadata": {},
     "output_type": "display_data"
    }
   ],
   "source": [
    "visualize_topic_cluster_tsne(lda_model, df)"
   ]
  },
  {
   "cell_type": "markdown",
   "id": "749fea08",
   "metadata": {},
   "source": [
    "This generates a 3D clustering graph where the x and y-axis represent each article in the topic space, and the z-axis shows the sentiment value for each article. The 2D xy-plane is exactly the same as the 2D graph generated above, but we add a 3rd dimension in the form of sentiment to show how article clusters differ by their sentiment value as well as their topics. Colored by main topic."
   ]
  },
  {
   "cell_type": "code",
   "execution_count": 13,
   "id": "329b2fc7",
   "metadata": {},
   "outputs": [
    {
     "name": "stdout",
     "output_type": "stream",
     "text": [
      "[t-SNE] Computing 39 nearest neighbors...\n",
      "[t-SNE] Indexed 40 samples in 0.000s...\n",
      "[t-SNE] Computed neighbors for 40 samples in 0.008s...\n",
      "[t-SNE] Computed conditional probabilities for sample 40 / 40\n",
      "[t-SNE] Mean sigma: 0.623623\n",
      "[t-SNE] KL divergence after 250 iterations with early exaggeration: 54.267941\n",
      "[t-SNE] KL divergence after 1000 iterations: 0.104287\n"
     ]
    },
    {
     "data": {
      "application/vnd.plotly.v1+json": {
       "config": {
        "plotlyServerURL": "https://plot.ly"
       },
       "data": [
        {
         "customdata": [
          [
           24,
           [
            [
             "primary",
             "state",
             "write",
             "vote",
             "ballot",
             "candidate",
             "party",
             "new",
             "election",
             "campaign"
            ]
           ],
           "apnews.com",
           "Positive",
           "0"
          ],
          [
           5,
           [
            [
             "primary",
             "state",
             "write",
             "vote",
             "ballot",
             "candidate",
             "party",
             "new",
             "election",
             "campaign"
            ]
           ],
           "www.nation.com.pk",
           "Neutral Positive",
           "0"
          ]
         ],
         "hovertemplate": "ID: %{customdata[0]}<br>Associated Words: %{customdata[1]}<br>Address: %{customdata[2]}<br>Sentiment Label: %{customdata[3]}<br>Main Topic: %{customdata[4]}",
         "legendgroup": "0",
         "marker": {
          "color": "#636efa",
          "size": [
           0.9982242584228516,
           0.9939383268356323
          ],
          "sizemode": "area",
          "sizeref": 0.00249745711684227,
          "symbol": "circle"
         },
         "mode": "markers",
         "name": "0",
         "scene": "scene",
         "showlegend": true,
         "type": "scatter3d",
         "x": [
          0.23308879137039185,
          1.8622543811798096
         ],
         "y": [
          16.8655948638916,
          8.263907432556152
         ],
         "z": [
          0.17,
          0.1
         ]
        },
        {
         "customdata": [
          [
           39,
           [
            [
             "migrant",
             "chs",
             "biden",
             "task",
             "foreign",
             "influence",
             "hunter",
             "new",
             "force",
             "last"
            ]
           ],
           "www.foxnews.com",
           "Neutral Positive",
           "1"
          ],
          [
           4,
           [
            [
             "migrant",
             "chs",
             "biden",
             "task",
             "foreign",
             "influence",
             "hunter",
             "new",
             "force",
             "last"
            ]
           ],
           "www.nation.com.pk",
           "Negative",
           "1"
          ],
          [
           6,
           [
            [
             "migrant",
             "chs",
             "biden",
             "task",
             "foreign",
             "influence",
             "hunter",
             "new",
             "force",
             "last"
            ]
           ],
           "www.nation.com.pk",
           "Negative",
           "1"
          ]
         ],
         "hovertemplate": "ID: %{customdata[0]}<br>Associated Words: %{customdata[1]}<br>Address: %{customdata[2]}<br>Sentiment Label: %{customdata[3]}<br>Main Topic: %{customdata[4]}",
         "legendgroup": "1",
         "marker": {
          "color": "#EF553B",
          "size": [
           0.9972023367881775,
           0.9945554137229919,
           0.9933631420135498
          ],
          "sizemode": "area",
          "sizeref": 0.00249745711684227,
          "symbol": "circle"
         },
         "mode": "markers",
         "name": "1",
         "scene": "scene",
         "showlegend": true,
         "type": "scatter3d",
         "x": [
          -1.706566333770752,
          0.2331249713897705,
          -6.478028297424316
         ],
         "y": [
          5.892690181732178,
          15.990837097167969,
          11.73578929901123
         ],
         "z": [
          0.08,
          -0.04,
          -0.11
         ]
        },
        {
         "customdata": [
          [
           2,
           [
            [
             "hunter",
             "president",
             "republican",
             "biden",
             "political",
             "son",
             "charge",
             "special",
             "counsel",
             "deal"
            ]
           ],
           "www.foxnews.com",
           "Negative",
           "2"
          ],
          [
           18,
           [
            [
             "hunter",
             "president",
             "republican",
             "biden",
             "political",
             "son",
             "charge",
             "special",
             "counsel",
             "deal"
            ]
           ],
           "www.cnn.com",
           "Neutral",
           "2"
          ]
         ],
         "hovertemplate": "ID: %{customdata[0]}<br>Associated Words: %{customdata[1]}<br>Address: %{customdata[2]}<br>Sentiment Label: %{customdata[3]}<br>Main Topic: %{customdata[4]}",
         "legendgroup": "2",
         "marker": {
          "color": "#00cc96",
          "size": [
           0.9975157380104065,
           0.9988191723823547
          ],
          "sizemode": "area",
          "sizeref": 0.00249745711684227,
          "symbol": "circle"
         },
         "mode": "markers",
         "name": "2",
         "scene": "scene",
         "showlegend": true,
         "type": "scatter3d",
         "x": [
          -3.344357967376709,
          -6.476386547088623
         ],
         "y": [
          11.043481826782227,
          11.7352876663208
         ],
         "z": [
          -0.04,
          0.06
         ]
        },
        {
         "customdata": [
          [
           10,
           [
            [
             "hunter",
             "biden",
             "comer",
             "charge",
             "bank",
             "record",
             "attorney",
             "call",
             "address",
             "tell"
            ]
           ],
           "nypost.com",
           "Neutral",
           "3"
          ],
          [
           8,
           [
            [
             "hunter",
             "biden",
             "comer",
             "charge",
             "bank",
             "record",
             "attorney",
             "call",
             "address",
             "tell"
            ]
           ],
           "abcnews.go.com",
           "Neutral Negative",
           "3"
          ],
          [
           35,
           [
            [
             "hunter",
             "biden",
             "comer",
             "charge",
             "bank",
             "record",
             "attorney",
             "call",
             "address",
             "tell"
            ]
           ],
           "www.foxnews.com",
           "Neutral Negative",
           "3"
          ]
         ],
         "hovertemplate": "ID: %{customdata[0]}<br>Associated Words: %{customdata[1]}<br>Address: %{customdata[2]}<br>Sentiment Label: %{customdata[3]}<br>Main Topic: %{customdata[4]}",
         "legendgroup": "3",
         "marker": {
          "color": "#ab63fa",
          "size": [
           0.9965947270393372,
           0.9961956739425659,
           0.738487958908081
          ],
          "sizemode": "area",
          "sizeref": 0.00249745711684227,
          "symbol": "circle"
         },
         "mode": "markers",
         "name": "3",
         "scene": "scene",
         "showlegend": true,
         "type": "scatter3d",
         "x": [
          -0.2907349467277527,
          -1.4707633256912231,
          -4.358710765838623
         ],
         "y": [
          8.009366035461426,
          12.887869834899902,
          14.6779203414917
         ],
         "z": [
          0.03,
          0.01,
          0.01
         ]
        },
        {
         "customdata": [
          [
           30,
           [
            [
             "impeachment",
             "think",
             "war",
             "conference",
             "biden",
             "move",
             "kill",
             "death",
             "president",
             "group"
            ]
           ],
           "www.wmur.com",
           "Positive",
           "4"
          ],
          [
           37,
           [
            [
             "impeachment",
             "think",
             "war",
             "conference",
             "biden",
             "move",
             "kill",
             "death",
             "president",
             "group"
            ]
           ],
           "www.usatoday.com",
           "Neutral Positive",
           "4"
          ],
          [
           32,
           [
            [
             "impeachment",
             "think",
             "war",
             "conference",
             "biden",
             "move",
             "kill",
             "death",
             "president",
             "group"
            ]
           ],
           "www.reuters.com",
           "Neutral Negative",
           "4"
          ],
          [
           17,
           [
            [
             "impeachment",
             "think",
             "war",
             "conference",
             "biden",
             "move",
             "kill",
             "death",
             "president",
             "group"
            ]
           ],
           "www.politico.com",
           "Positive",
           "4"
          ]
         ],
         "hovertemplate": "ID: %{customdata[0]}<br>Associated Words: %{customdata[1]}<br>Address: %{customdata[2]}<br>Sentiment Label: %{customdata[3]}<br>Main Topic: %{customdata[4]}",
         "legendgroup": "4",
         "marker": {
          "color": "#FFA15A",
          "size": [
           0.6629858016967773,
           0.9964895248413086,
           0.9937295913696289,
           0.9978453516960144
          ],
          "sizemode": "area",
          "sizeref": 0.00249745711684227,
          "symbol": "circle"
         },
         "mode": "markers",
         "name": "4",
         "scene": "scene",
         "showlegend": true,
         "type": "scatter3d",
         "x": [
          -1.470717191696167,
          1.2998614311218262,
          1.096930980682373,
          0.4284992516040802
         ],
         "y": [
          12.887946128845215,
          8.42485237121582,
          7.767561912536621,
          9.39228343963623
         ],
         "z": [
          0.22,
          0.08,
          0.02,
          0.12
         ]
        },
        {
         "customdata": [
          [
           29,
           [
            [
             "biden",
             "hunter",
             "phillip",
             "democratic",
             "run",
             "president",
             "campaign",
             "support",
             "voter",
             "party"
            ]
           ],
           "www.washingtonpost.com",
           "Positive",
           "5"
          ],
          [
           28,
           [
            [
             "biden",
             "hunter",
             "phillip",
             "democratic",
             "run",
             "president",
             "campaign",
             "support",
             "voter",
             "party"
            ]
           ],
           "abcnews.go.com",
           "Neutral Positive",
           "5"
          ],
          [
           27,
           [
            [
             "biden",
             "hunter",
             "phillip",
             "democratic",
             "run",
             "president",
             "campaign",
             "support",
             "voter",
             "party"
            ]
           ],
           "www.foxnews.com",
           "Neutral Negative",
           "5"
          ],
          [
           0,
           [
            [
             "biden",
             "hunter",
             "phillip",
             "democratic",
             "run",
             "president",
             "campaign",
             "support",
             "voter",
             "party"
            ]
           ],
           "www.foxnews.com",
           "Neutral",
           "5"
          ],
          [
           3,
           [
            [
             "biden",
             "hunter",
             "phillip",
             "democratic",
             "run",
             "president",
             "campaign",
             "support",
             "voter",
             "party"
            ]
           ],
           "apnews.com",
           "Neutral Negative",
           "5"
          ],
          [
           14,
           [
            [
             "biden",
             "hunter",
             "phillip",
             "democratic",
             "run",
             "president",
             "campaign",
             "support",
             "voter",
             "party"
            ]
           ],
           "www.newsnationnow.com",
           "Positive",
           "5"
          ],
          [
           16,
           [
            [
             "biden",
             "hunter",
             "phillip",
             "democratic",
             "run",
             "president",
             "campaign",
             "support",
             "voter",
             "party"
            ]
           ],
           "www.thenation.com",
           "Neutral Positive",
           "5"
          ]
         ],
         "hovertemplate": "ID: %{customdata[0]}<br>Associated Words: %{customdata[1]}<br>Address: %{customdata[2]}<br>Sentiment Label: %{customdata[3]}<br>Main Topic: %{customdata[4]}",
         "legendgroup": "5",
         "marker": {
          "color": "#19d3f3",
          "size": [
           0.9987661838531494,
           0.9973175525665283,
           0.9955206513404846,
           0.9974167346954346,
           0.902397096157074,
           0.7562063336372375,
           0.998982846736908
          ],
          "sizemode": "area",
          "sizeref": 0.00249745711684227,
          "symbol": "circle"
         },
         "mode": "markers",
         "name": "5",
         "scene": "scene",
         "showlegend": true,
         "type": "scatter3d",
         "x": [
          -0.36963239312171936,
          1.7131025791168213,
          0.5904971361160278,
          -4.464783191680908,
          -1.6775593757629395,
          -4.357271194458008,
          1.5441020727157593
         ],
         "y": [
          15.66689395904541,
          9.190122604370117,
          16.60483741760254,
          8.65292739868164,
          5.903500080108643,
          14.673937797546387,
          8.983175277709961
         ],
         "z": [
          0.13,
          0.09,
          0,
          0.04,
          0.02,
          0.14,
          0.09
         ]
        },
        {
         "customdata": [
          [
           23,
           [
            [
             "biden",
             "republican",
             "election",
             "president",
             "nominee",
             "democratic",
             "party",
             "last",
             "old",
             "presidential"
            ]
           ],
           "www.usatoday.com",
           "Positive",
           "6"
          ],
          [
           26,
           [
            [
             "biden",
             "republican",
             "election",
             "president",
             "nominee",
             "democratic",
             "party",
             "last",
             "old",
             "presidential"
            ]
           ],
           "www.nbcnews.com",
           "Neutral",
           "6"
          ]
         ],
         "hovertemplate": "ID: %{customdata[0]}<br>Associated Words: %{customdata[1]}<br>Address: %{customdata[2]}<br>Sentiment Label: %{customdata[3]}<br>Main Topic: %{customdata[4]}",
         "legendgroup": "6",
         "marker": {
          "color": "#FF6692",
          "size": [
           0.9918820261955261,
           0.9980191588401794
          ],
          "sizemode": "area",
          "sizeref": 0.00249745711684227,
          "symbol": "circle"
         },
         "mode": "markers",
         "name": "6",
         "scene": "scene",
         "showlegend": true,
         "type": "scatter3d",
         "x": [
          -0.49659979343414307,
          0.4368800222873688
         ],
         "y": [
          9.394797325134277,
          8.726797103881836
         ],
         "z": [
          0.2,
          0.04
         ]
        },
        {
         "customdata": [
          [
           31,
           [
            [
             "phillip",
             "president",
             "campaign",
             "biden",
             "primary",
             "people",
             "run",
             "bus",
             "tribune",
             "new"
            ]
           ],
           "www.startribune.com",
           "Positive",
           "7"
          ]
         ],
         "hovertemplate": "ID: %{customdata[0]}<br>Associated Words: %{customdata[1]}<br>Address: %{customdata[2]}<br>Sentiment Label: %{customdata[3]}<br>Main Topic: %{customdata[4]}",
         "legendgroup": "7",
         "marker": {
          "color": "#B6E880",
          "size": [
           0.9953134655952454
          ],
          "sizemode": "area",
          "sizeref": 0.00249745711684227,
          "symbol": "circle"
         },
         "mode": "markers",
         "name": "7",
         "scene": "scene",
         "showlegend": true,
         "type": "scatter3d",
         "x": [
          2.595353841781616
         ],
         "y": [
          12.920867919921875
         ],
         "z": [
          0.14
         ]
        },
        {
         "customdata": [
          [
           19,
           [
            [
             "hunter",
             "hallie",
             "gun",
             "service",
             "secret",
             "tell",
             "report",
             "text",
             "attack",
             "police"
            ]
           ],
           "www.washingtonexaminer.com",
           "Negative",
           "8"
          ],
          [
           33,
           [
            [
             "hunter",
             "hallie",
             "gun",
             "service",
             "secret",
             "tell",
             "report",
             "text",
             "attack",
             "police"
            ]
           ],
           "apnews.com",
           "Neutral",
           "8"
          ],
          [
           9,
           [
            [
             "hunter",
             "hallie",
             "gun",
             "service",
             "secret",
             "tell",
             "report",
             "text",
             "attack",
             "police"
            ]
           ],
           "apnews.com",
           "Neutral",
           "8"
          ]
         ],
         "hovertemplate": "ID: %{customdata[0]}<br>Associated Words: %{customdata[1]}<br>Address: %{customdata[2]}<br>Sentiment Label: %{customdata[3]}<br>Main Topic: %{customdata[4]}",
         "legendgroup": "8",
         "marker": {
          "color": "#FF97FF",
          "size": [
           0.9902931451797485,
           0.9156306385993958,
           0.9942451119422913
          ],
          "sizemode": "area",
          "sizeref": 0.00249745711684227,
          "symbol": "circle"
         },
         "mode": "markers",
         "name": "8",
         "scene": "scene",
         "showlegend": true,
         "type": "scatter3d",
         "x": [
          -3.334141731262207,
          -2.7929728031158447,
          2.6210947036743164
         ],
         "y": [
          11.05589485168457,
          10.530932426452637,
          12.919881820678711
         ],
         "z": [
          -0.06,
          0.06,
          0.04
         ]
        },
        {
         "customdata": [
          [
           25,
           [
            [
             "ballot",
             "move",
             "state",
             "calendar",
             "appear",
             "primary",
             "name",
             "letter",
             "chair",
             "write"
            ]
           ],
           "www.politico.com",
           "Positive",
           "9"
          ]
         ],
         "hovertemplate": "ID: %{customdata[0]}<br>Associated Words: %{customdata[1]}<br>Address: %{customdata[2]}<br>Sentiment Label: %{customdata[3]}<br>Main Topic: %{customdata[4]}",
         "legendgroup": "9",
         "marker": {
          "color": "#FECB52",
          "size": [
           0.6205357313156128
          ],
          "sizemode": "area",
          "sizeref": 0.00249745711684227,
          "symbol": "circle"
         },
         "mode": "markers",
         "name": "9",
         "scene": "scene",
         "showlegend": true,
         "type": "scatter3d",
         "x": [
          0.6753904223442078
         ],
         "y": [
          15.98797607421875
         ],
         "z": [
          0.21
         ]
        },
        {
         "customdata": [
          [
           1,
           [
            [
             "office",
             "biden",
             "hunter",
             "information",
             "source",
             "family",
             "foreign",
             "document",
             "investigation",
             "letter"
            ]
           ],
           "www.foxnews.com",
           "Neutral",
           "10"
          ],
          [
           36,
           [
            [
             "office",
             "biden",
             "hunter",
             "information",
             "source",
             "family",
             "foreign",
             "document",
             "investigation",
             "letter"
            ]
           ],
           "www.washingtonpost.com",
           "Neutral",
           "10"
          ],
          [
           34,
           [
            [
             "office",
             "biden",
             "hunter",
             "information",
             "source",
             "family",
             "foreign",
             "document",
             "investigation",
             "letter"
            ]
           ],
           "www.cnn.com",
           "Neutral Positive",
           "10"
          ],
          [
           7,
           [
            [
             "office",
             "biden",
             "hunter",
             "information",
             "source",
             "family",
             "foreign",
             "document",
             "investigation",
             "letter"
            ]
           ],
           "www.cnn.com",
           "Negative",
           "10"
          ],
          [
           15,
           [
            [
             "office",
             "biden",
             "hunter",
             "information",
             "source",
             "family",
             "foreign",
             "document",
             "investigation",
             "letter"
            ]
           ],
           "nypost.com",
           "Neutral Positive",
           "10"
          ],
          [
           13,
           [
            [
             "office",
             "biden",
             "hunter",
             "information",
             "source",
             "family",
             "foreign",
             "document",
             "investigation",
             "letter"
            ]
           ],
           "wjla.com",
           "Negative",
           "10"
          ],
          [
           22,
           [
            [
             "office",
             "biden",
             "hunter",
             "information",
             "source",
             "family",
             "foreign",
             "document",
             "investigation",
             "letter"
            ]
           ],
           "www.washingtontimes.com",
           "Neutral Positive",
           "10"
          ],
          [
           21,
           [
            [
             "office",
             "biden",
             "hunter",
             "information",
             "source",
             "family",
             "foreign",
             "document",
             "investigation",
             "letter"
            ]
           ],
           "thefederalist.com",
           "Neutral Negative",
           "10"
          ],
          [
           20,
           [
            [
             "office",
             "biden",
             "hunter",
             "information",
             "source",
             "family",
             "foreign",
             "document",
             "investigation",
             "letter"
            ]
           ],
           "www.dailymail.co.uk",
           "Negative",
           "10"
          ],
          [
           38,
           [
            [
             "office",
             "biden",
             "hunter",
             "information",
             "source",
             "family",
             "foreign",
             "document",
             "investigation",
             "letter"
            ]
           ],
           "www.reuters.com",
           "Negative",
           "10"
          ],
          [
           11,
           [
            [
             "office",
             "biden",
             "hunter",
             "information",
             "source",
             "family",
             "foreign",
             "document",
             "investigation",
             "letter"
            ]
           ],
           "www.foxnews.com",
           "Negative",
           "10"
          ],
          [
           12,
           [
            [
             "office",
             "biden",
             "hunter",
             "information",
             "source",
             "family",
             "foreign",
             "document",
             "investigation",
             "letter"
            ]
           ],
           "www.grassley.senate.gov",
           "Neutral Negative",
           "10"
          ]
         ],
         "hovertemplate": "ID: %{customdata[0]}<br>Associated Words: %{customdata[1]}<br>Address: %{customdata[2]}<br>Sentiment Label: %{customdata[3]}<br>Main Topic: %{customdata[4]}",
         "legendgroup": "10",
         "marker": {
          "color": "#636efa",
          "size": [
           0.9979748129844666,
           0.7354018092155457,
           0.9516772627830505,
           0.5969172120094299,
           0.9977821707725525,
           0.6955588459968567,
           0.8104621767997742,
           0.504322350025177,
           0.9975624084472656,
           0.7860231995582581,
           0.998826801776886,
           0.99516361951828
          ],
          "sizemode": "area",
          "sizeref": 0.00249745711684227,
          "symbol": "circle"
         },
         "mode": "markers",
         "name": "10",
         "scene": "scene",
         "showlegend": true,
         "type": "scatter3d",
         "x": [
          -0.21808527410030365,
          -0.11372466385364532,
          -3.9870986938476562,
          -1.5630567073822021,
          -4.469562530517578,
          -4.34901762008667,
          0.900708794593811,
          -1.571981430053711,
          0.2559017539024353,
          -4.482012748718262,
          1.0437252521514893,
          -6.478496074676514
         ],
         "y": [
          16.434438705444336,
          16.666748046875,
          9.189157485961914,
          9.613761901855469,
          8.662559509277344,
          14.646636009216309,
          8.155782699584961,
          12.735424041748047,
          9.033758163452148,
          8.675087928771973,
          9.591717720031738,
          11.735489845275879
         ],
         "z": [
          0.06,
          0.05,
          0.08,
          -0.01,
          0.07,
          -0.02,
          0.09,
          0.01,
          -0.03,
          -0.01,
          -0.03,
          0
         ]
        }
       ],
       "layout": {
        "legend": {
         "itemsizing": "constant",
         "title": {
          "text": "Main Topic"
         },
         "tracegroupgap": 0
        },
        "scene": {
         "domain": {
          "x": [
           0,
           1
          ],
          "y": [
           0,
           1
          ]
         },
         "xaxis": {
          "title": {
           "text": "x"
          }
         },
         "yaxis": {
          "title": {
           "text": "y"
          }
         },
         "zaxis": {
          "title": {
           "text": "Sentiment Score"
          }
         }
        },
        "template": {
         "data": {
          "bar": [
           {
            "error_x": {
             "color": "#2a3f5f"
            },
            "error_y": {
             "color": "#2a3f5f"
            },
            "marker": {
             "line": {
              "color": "#E5ECF6",
              "width": 0.5
             },
             "pattern": {
              "fillmode": "overlay",
              "size": 10,
              "solidity": 0.2
             }
            },
            "type": "bar"
           }
          ],
          "barpolar": [
           {
            "marker": {
             "line": {
              "color": "#E5ECF6",
              "width": 0.5
             },
             "pattern": {
              "fillmode": "overlay",
              "size": 10,
              "solidity": 0.2
             }
            },
            "type": "barpolar"
           }
          ],
          "carpet": [
           {
            "aaxis": {
             "endlinecolor": "#2a3f5f",
             "gridcolor": "white",
             "linecolor": "white",
             "minorgridcolor": "white",
             "startlinecolor": "#2a3f5f"
            },
            "baxis": {
             "endlinecolor": "#2a3f5f",
             "gridcolor": "white",
             "linecolor": "white",
             "minorgridcolor": "white",
             "startlinecolor": "#2a3f5f"
            },
            "type": "carpet"
           }
          ],
          "choropleth": [
           {
            "colorbar": {
             "outlinewidth": 0,
             "ticks": ""
            },
            "type": "choropleth"
           }
          ],
          "contour": [
           {
            "colorbar": {
             "outlinewidth": 0,
             "ticks": ""
            },
            "colorscale": [
             [
              0,
              "#0d0887"
             ],
             [
              0.1111111111111111,
              "#46039f"
             ],
             [
              0.2222222222222222,
              "#7201a8"
             ],
             [
              0.3333333333333333,
              "#9c179e"
             ],
             [
              0.4444444444444444,
              "#bd3786"
             ],
             [
              0.5555555555555556,
              "#d8576b"
             ],
             [
              0.6666666666666666,
              "#ed7953"
             ],
             [
              0.7777777777777778,
              "#fb9f3a"
             ],
             [
              0.8888888888888888,
              "#fdca26"
             ],
             [
              1,
              "#f0f921"
             ]
            ],
            "type": "contour"
           }
          ],
          "contourcarpet": [
           {
            "colorbar": {
             "outlinewidth": 0,
             "ticks": ""
            },
            "type": "contourcarpet"
           }
          ],
          "heatmap": [
           {
            "colorbar": {
             "outlinewidth": 0,
             "ticks": ""
            },
            "colorscale": [
             [
              0,
              "#0d0887"
             ],
             [
              0.1111111111111111,
              "#46039f"
             ],
             [
              0.2222222222222222,
              "#7201a8"
             ],
             [
              0.3333333333333333,
              "#9c179e"
             ],
             [
              0.4444444444444444,
              "#bd3786"
             ],
             [
              0.5555555555555556,
              "#d8576b"
             ],
             [
              0.6666666666666666,
              "#ed7953"
             ],
             [
              0.7777777777777778,
              "#fb9f3a"
             ],
             [
              0.8888888888888888,
              "#fdca26"
             ],
             [
              1,
              "#f0f921"
             ]
            ],
            "type": "heatmap"
           }
          ],
          "heatmapgl": [
           {
            "colorbar": {
             "outlinewidth": 0,
             "ticks": ""
            },
            "colorscale": [
             [
              0,
              "#0d0887"
             ],
             [
              0.1111111111111111,
              "#46039f"
             ],
             [
              0.2222222222222222,
              "#7201a8"
             ],
             [
              0.3333333333333333,
              "#9c179e"
             ],
             [
              0.4444444444444444,
              "#bd3786"
             ],
             [
              0.5555555555555556,
              "#d8576b"
             ],
             [
              0.6666666666666666,
              "#ed7953"
             ],
             [
              0.7777777777777778,
              "#fb9f3a"
             ],
             [
              0.8888888888888888,
              "#fdca26"
             ],
             [
              1,
              "#f0f921"
             ]
            ],
            "type": "heatmapgl"
           }
          ],
          "histogram": [
           {
            "marker": {
             "pattern": {
              "fillmode": "overlay",
              "size": 10,
              "solidity": 0.2
             }
            },
            "type": "histogram"
           }
          ],
          "histogram2d": [
           {
            "colorbar": {
             "outlinewidth": 0,
             "ticks": ""
            },
            "colorscale": [
             [
              0,
              "#0d0887"
             ],
             [
              0.1111111111111111,
              "#46039f"
             ],
             [
              0.2222222222222222,
              "#7201a8"
             ],
             [
              0.3333333333333333,
              "#9c179e"
             ],
             [
              0.4444444444444444,
              "#bd3786"
             ],
             [
              0.5555555555555556,
              "#d8576b"
             ],
             [
              0.6666666666666666,
              "#ed7953"
             ],
             [
              0.7777777777777778,
              "#fb9f3a"
             ],
             [
              0.8888888888888888,
              "#fdca26"
             ],
             [
              1,
              "#f0f921"
             ]
            ],
            "type": "histogram2d"
           }
          ],
          "histogram2dcontour": [
           {
            "colorbar": {
             "outlinewidth": 0,
             "ticks": ""
            },
            "colorscale": [
             [
              0,
              "#0d0887"
             ],
             [
              0.1111111111111111,
              "#46039f"
             ],
             [
              0.2222222222222222,
              "#7201a8"
             ],
             [
              0.3333333333333333,
              "#9c179e"
             ],
             [
              0.4444444444444444,
              "#bd3786"
             ],
             [
              0.5555555555555556,
              "#d8576b"
             ],
             [
              0.6666666666666666,
              "#ed7953"
             ],
             [
              0.7777777777777778,
              "#fb9f3a"
             ],
             [
              0.8888888888888888,
              "#fdca26"
             ],
             [
              1,
              "#f0f921"
             ]
            ],
            "type": "histogram2dcontour"
           }
          ],
          "mesh3d": [
           {
            "colorbar": {
             "outlinewidth": 0,
             "ticks": ""
            },
            "type": "mesh3d"
           }
          ],
          "parcoords": [
           {
            "line": {
             "colorbar": {
              "outlinewidth": 0,
              "ticks": ""
             }
            },
            "type": "parcoords"
           }
          ],
          "pie": [
           {
            "automargin": true,
            "type": "pie"
           }
          ],
          "scatter": [
           {
            "fillpattern": {
             "fillmode": "overlay",
             "size": 10,
             "solidity": 0.2
            },
            "type": "scatter"
           }
          ],
          "scatter3d": [
           {
            "line": {
             "colorbar": {
              "outlinewidth": 0,
              "ticks": ""
             }
            },
            "marker": {
             "colorbar": {
              "outlinewidth": 0,
              "ticks": ""
             }
            },
            "type": "scatter3d"
           }
          ],
          "scattercarpet": [
           {
            "marker": {
             "colorbar": {
              "outlinewidth": 0,
              "ticks": ""
             }
            },
            "type": "scattercarpet"
           }
          ],
          "scattergeo": [
           {
            "marker": {
             "colorbar": {
              "outlinewidth": 0,
              "ticks": ""
             }
            },
            "type": "scattergeo"
           }
          ],
          "scattergl": [
           {
            "marker": {
             "colorbar": {
              "outlinewidth": 0,
              "ticks": ""
             }
            },
            "type": "scattergl"
           }
          ],
          "scattermapbox": [
           {
            "marker": {
             "colorbar": {
              "outlinewidth": 0,
              "ticks": ""
             }
            },
            "type": "scattermapbox"
           }
          ],
          "scatterpolar": [
           {
            "marker": {
             "colorbar": {
              "outlinewidth": 0,
              "ticks": ""
             }
            },
            "type": "scatterpolar"
           }
          ],
          "scatterpolargl": [
           {
            "marker": {
             "colorbar": {
              "outlinewidth": 0,
              "ticks": ""
             }
            },
            "type": "scatterpolargl"
           }
          ],
          "scatterternary": [
           {
            "marker": {
             "colorbar": {
              "outlinewidth": 0,
              "ticks": ""
             }
            },
            "type": "scatterternary"
           }
          ],
          "surface": [
           {
            "colorbar": {
             "outlinewidth": 0,
             "ticks": ""
            },
            "colorscale": [
             [
              0,
              "#0d0887"
             ],
             [
              0.1111111111111111,
              "#46039f"
             ],
             [
              0.2222222222222222,
              "#7201a8"
             ],
             [
              0.3333333333333333,
              "#9c179e"
             ],
             [
              0.4444444444444444,
              "#bd3786"
             ],
             [
              0.5555555555555556,
              "#d8576b"
             ],
             [
              0.6666666666666666,
              "#ed7953"
             ],
             [
              0.7777777777777778,
              "#fb9f3a"
             ],
             [
              0.8888888888888888,
              "#fdca26"
             ],
             [
              1,
              "#f0f921"
             ]
            ],
            "type": "surface"
           }
          ],
          "table": [
           {
            "cells": {
             "fill": {
              "color": "#EBF0F8"
             },
             "line": {
              "color": "white"
             }
            },
            "header": {
             "fill": {
              "color": "#C8D4E3"
             },
             "line": {
              "color": "white"
             }
            },
            "type": "table"
           }
          ]
         },
         "layout": {
          "annotationdefaults": {
           "arrowcolor": "#2a3f5f",
           "arrowhead": 0,
           "arrowwidth": 1
          },
          "autotypenumbers": "strict",
          "coloraxis": {
           "colorbar": {
            "outlinewidth": 0,
            "ticks": ""
           }
          },
          "colorscale": {
           "diverging": [
            [
             0,
             "#8e0152"
            ],
            [
             0.1,
             "#c51b7d"
            ],
            [
             0.2,
             "#de77ae"
            ],
            [
             0.3,
             "#f1b6da"
            ],
            [
             0.4,
             "#fde0ef"
            ],
            [
             0.5,
             "#f7f7f7"
            ],
            [
             0.6,
             "#e6f5d0"
            ],
            [
             0.7,
             "#b8e186"
            ],
            [
             0.8,
             "#7fbc41"
            ],
            [
             0.9,
             "#4d9221"
            ],
            [
             1,
             "#276419"
            ]
           ],
           "sequential": [
            [
             0,
             "#0d0887"
            ],
            [
             0.1111111111111111,
             "#46039f"
            ],
            [
             0.2222222222222222,
             "#7201a8"
            ],
            [
             0.3333333333333333,
             "#9c179e"
            ],
            [
             0.4444444444444444,
             "#bd3786"
            ],
            [
             0.5555555555555556,
             "#d8576b"
            ],
            [
             0.6666666666666666,
             "#ed7953"
            ],
            [
             0.7777777777777778,
             "#fb9f3a"
            ],
            [
             0.8888888888888888,
             "#fdca26"
            ],
            [
             1,
             "#f0f921"
            ]
           ],
           "sequentialminus": [
            [
             0,
             "#0d0887"
            ],
            [
             0.1111111111111111,
             "#46039f"
            ],
            [
             0.2222222222222222,
             "#7201a8"
            ],
            [
             0.3333333333333333,
             "#9c179e"
            ],
            [
             0.4444444444444444,
             "#bd3786"
            ],
            [
             0.5555555555555556,
             "#d8576b"
            ],
            [
             0.6666666666666666,
             "#ed7953"
            ],
            [
             0.7777777777777778,
             "#fb9f3a"
            ],
            [
             0.8888888888888888,
             "#fdca26"
            ],
            [
             1,
             "#f0f921"
            ]
           ]
          },
          "colorway": [
           "#636efa",
           "#EF553B",
           "#00cc96",
           "#ab63fa",
           "#FFA15A",
           "#19d3f3",
           "#FF6692",
           "#B6E880",
           "#FF97FF",
           "#FECB52"
          ],
          "font": {
           "color": "#2a3f5f"
          },
          "geo": {
           "bgcolor": "white",
           "lakecolor": "white",
           "landcolor": "#E5ECF6",
           "showlakes": true,
           "showland": true,
           "subunitcolor": "white"
          },
          "hoverlabel": {
           "align": "left"
          },
          "hovermode": "closest",
          "mapbox": {
           "style": "light"
          },
          "paper_bgcolor": "white",
          "plot_bgcolor": "#E5ECF6",
          "polar": {
           "angularaxis": {
            "gridcolor": "white",
            "linecolor": "white",
            "ticks": ""
           },
           "bgcolor": "#E5ECF6",
           "radialaxis": {
            "gridcolor": "white",
            "linecolor": "white",
            "ticks": ""
           }
          },
          "scene": {
           "xaxis": {
            "backgroundcolor": "#E5ECF6",
            "gridcolor": "white",
            "gridwidth": 2,
            "linecolor": "white",
            "showbackground": true,
            "ticks": "",
            "zerolinecolor": "white"
           },
           "yaxis": {
            "backgroundcolor": "#E5ECF6",
            "gridcolor": "white",
            "gridwidth": 2,
            "linecolor": "white",
            "showbackground": true,
            "ticks": "",
            "zerolinecolor": "white"
           },
           "zaxis": {
            "backgroundcolor": "#E5ECF6",
            "gridcolor": "white",
            "gridwidth": 2,
            "linecolor": "white",
            "showbackground": true,
            "ticks": "",
            "zerolinecolor": "white"
           }
          },
          "shapedefaults": {
           "line": {
            "color": "#2a3f5f"
           }
          },
          "ternary": {
           "aaxis": {
            "gridcolor": "white",
            "linecolor": "white",
            "ticks": ""
           },
           "baxis": {
            "gridcolor": "white",
            "linecolor": "white",
            "ticks": ""
           },
           "bgcolor": "#E5ECF6",
           "caxis": {
            "gridcolor": "white",
            "linecolor": "white",
            "ticks": ""
           }
          },
          "title": {
           "x": 0.05
          },
          "xaxis": {
           "automargin": true,
           "gridcolor": "white",
           "linecolor": "white",
           "ticks": "",
           "title": {
            "standoff": 15
           },
           "zerolinecolor": "white",
           "zerolinewidth": 2
          },
          "yaxis": {
           "automargin": true,
           "gridcolor": "white",
           "linecolor": "white",
           "ticks": "",
           "title": {
            "standoff": 15
           },
           "zerolinecolor": "white",
           "zerolinewidth": 2
          }
         }
        },
        "title": {
         "text": "Topic Clustering Graph"
        }
       }
      }
     },
     "metadata": {},
     "output_type": "display_data"
    }
   ],
   "source": [
    "visualize_topic_cluster_tsne_3d(lda_model, df)"
   ]
  },
  {
   "cell_type": "markdown",
   "id": "69a452f5",
   "metadata": {},
   "source": [
    "## Subjectivity vs Sentiment of Articles for a single topic"
   ]
  },
  {
   "cell_type": "markdown",
   "id": "92b721a6",
   "metadata": {},
   "source": [
    "Will iterate through our list_of_topics_to_visualize and will make a graph for each topic number in that list as well as that topic's word cloud of the top 10 topic words for that topic. So for each topic we want to look at, it will show all the articles with that topic as their main topic, and plot the articles on their subjectivity vs sentiment. A higher subjectivity will show you that the author chose more opinionated words, rather than relying on neutral, factual statements. Compare that with the sentiment value to show whether they are positive and negative towards that topic, and how factual vs. opinionated their claims were. The word cloud will simply tell you what words are in that topic."
   ]
  },
  {
   "cell_type": "code",
   "execution_count": 14,
   "id": "8cb3e81c",
   "metadata": {
    "scrolled": true
   },
   "outputs": [
    {
     "data": {
      "application/vnd.plotly.v1+json": {
       "config": {
        "plotlyServerURL": "https://plot.ly"
       },
       "data": [
        {
         "hovertemplate": "<b>%{hovertext}</b><br><br>Subjectivity Score=%{x}<br>Sentiment Score=%{y}<br>Main Topic Score=%{marker.size}<extra></extra>",
         "hovertext": [
          "www.nation.com.pk",
          "www.nation.com.pk",
          "www.foxnews.com"
         ],
         "legendgroup": "",
         "marker": {
          "color": "#636efa",
          "size": [
           0.9945554137229919,
           0.9933631420135498,
           0.9972023367881775
          ],
          "sizemode": "area",
          "sizeref": 0.002493005841970444,
          "symbol": "circle"
         },
         "mode": "markers",
         "name": "",
         "orientation": "v",
         "showlegend": false,
         "type": "scatter",
         "x": [
          0.44,
          0.4,
          0.46
         ],
         "xaxis": "x",
         "y": [
          -0.04,
          -0.11,
          0.08
         ],
         "yaxis": "y"
        }
       ],
       "layout": {
        "legend": {
         "itemsizing": "constant",
         "tracegroupgap": 0
        },
        "template": {
         "data": {
          "bar": [
           {
            "error_x": {
             "color": "#2a3f5f"
            },
            "error_y": {
             "color": "#2a3f5f"
            },
            "marker": {
             "line": {
              "color": "#E5ECF6",
              "width": 0.5
             },
             "pattern": {
              "fillmode": "overlay",
              "size": 10,
              "solidity": 0.2
             }
            },
            "type": "bar"
           }
          ],
          "barpolar": [
           {
            "marker": {
             "line": {
              "color": "#E5ECF6",
              "width": 0.5
             },
             "pattern": {
              "fillmode": "overlay",
              "size": 10,
              "solidity": 0.2
             }
            },
            "type": "barpolar"
           }
          ],
          "carpet": [
           {
            "aaxis": {
             "endlinecolor": "#2a3f5f",
             "gridcolor": "white",
             "linecolor": "white",
             "minorgridcolor": "white",
             "startlinecolor": "#2a3f5f"
            },
            "baxis": {
             "endlinecolor": "#2a3f5f",
             "gridcolor": "white",
             "linecolor": "white",
             "minorgridcolor": "white",
             "startlinecolor": "#2a3f5f"
            },
            "type": "carpet"
           }
          ],
          "choropleth": [
           {
            "colorbar": {
             "outlinewidth": 0,
             "ticks": ""
            },
            "type": "choropleth"
           }
          ],
          "contour": [
           {
            "colorbar": {
             "outlinewidth": 0,
             "ticks": ""
            },
            "colorscale": [
             [
              0,
              "#0d0887"
             ],
             [
              0.1111111111111111,
              "#46039f"
             ],
             [
              0.2222222222222222,
              "#7201a8"
             ],
             [
              0.3333333333333333,
              "#9c179e"
             ],
             [
              0.4444444444444444,
              "#bd3786"
             ],
             [
              0.5555555555555556,
              "#d8576b"
             ],
             [
              0.6666666666666666,
              "#ed7953"
             ],
             [
              0.7777777777777778,
              "#fb9f3a"
             ],
             [
              0.8888888888888888,
              "#fdca26"
             ],
             [
              1,
              "#f0f921"
             ]
            ],
            "type": "contour"
           }
          ],
          "contourcarpet": [
           {
            "colorbar": {
             "outlinewidth": 0,
             "ticks": ""
            },
            "type": "contourcarpet"
           }
          ],
          "heatmap": [
           {
            "colorbar": {
             "outlinewidth": 0,
             "ticks": ""
            },
            "colorscale": [
             [
              0,
              "#0d0887"
             ],
             [
              0.1111111111111111,
              "#46039f"
             ],
             [
              0.2222222222222222,
              "#7201a8"
             ],
             [
              0.3333333333333333,
              "#9c179e"
             ],
             [
              0.4444444444444444,
              "#bd3786"
             ],
             [
              0.5555555555555556,
              "#d8576b"
             ],
             [
              0.6666666666666666,
              "#ed7953"
             ],
             [
              0.7777777777777778,
              "#fb9f3a"
             ],
             [
              0.8888888888888888,
              "#fdca26"
             ],
             [
              1,
              "#f0f921"
             ]
            ],
            "type": "heatmap"
           }
          ],
          "heatmapgl": [
           {
            "colorbar": {
             "outlinewidth": 0,
             "ticks": ""
            },
            "colorscale": [
             [
              0,
              "#0d0887"
             ],
             [
              0.1111111111111111,
              "#46039f"
             ],
             [
              0.2222222222222222,
              "#7201a8"
             ],
             [
              0.3333333333333333,
              "#9c179e"
             ],
             [
              0.4444444444444444,
              "#bd3786"
             ],
             [
              0.5555555555555556,
              "#d8576b"
             ],
             [
              0.6666666666666666,
              "#ed7953"
             ],
             [
              0.7777777777777778,
              "#fb9f3a"
             ],
             [
              0.8888888888888888,
              "#fdca26"
             ],
             [
              1,
              "#f0f921"
             ]
            ],
            "type": "heatmapgl"
           }
          ],
          "histogram": [
           {
            "marker": {
             "pattern": {
              "fillmode": "overlay",
              "size": 10,
              "solidity": 0.2
             }
            },
            "type": "histogram"
           }
          ],
          "histogram2d": [
           {
            "colorbar": {
             "outlinewidth": 0,
             "ticks": ""
            },
            "colorscale": [
             [
              0,
              "#0d0887"
             ],
             [
              0.1111111111111111,
              "#46039f"
             ],
             [
              0.2222222222222222,
              "#7201a8"
             ],
             [
              0.3333333333333333,
              "#9c179e"
             ],
             [
              0.4444444444444444,
              "#bd3786"
             ],
             [
              0.5555555555555556,
              "#d8576b"
             ],
             [
              0.6666666666666666,
              "#ed7953"
             ],
             [
              0.7777777777777778,
              "#fb9f3a"
             ],
             [
              0.8888888888888888,
              "#fdca26"
             ],
             [
              1,
              "#f0f921"
             ]
            ],
            "type": "histogram2d"
           }
          ],
          "histogram2dcontour": [
           {
            "colorbar": {
             "outlinewidth": 0,
             "ticks": ""
            },
            "colorscale": [
             [
              0,
              "#0d0887"
             ],
             [
              0.1111111111111111,
              "#46039f"
             ],
             [
              0.2222222222222222,
              "#7201a8"
             ],
             [
              0.3333333333333333,
              "#9c179e"
             ],
             [
              0.4444444444444444,
              "#bd3786"
             ],
             [
              0.5555555555555556,
              "#d8576b"
             ],
             [
              0.6666666666666666,
              "#ed7953"
             ],
             [
              0.7777777777777778,
              "#fb9f3a"
             ],
             [
              0.8888888888888888,
              "#fdca26"
             ],
             [
              1,
              "#f0f921"
             ]
            ],
            "type": "histogram2dcontour"
           }
          ],
          "mesh3d": [
           {
            "colorbar": {
             "outlinewidth": 0,
             "ticks": ""
            },
            "type": "mesh3d"
           }
          ],
          "parcoords": [
           {
            "line": {
             "colorbar": {
              "outlinewidth": 0,
              "ticks": ""
             }
            },
            "type": "parcoords"
           }
          ],
          "pie": [
           {
            "automargin": true,
            "type": "pie"
           }
          ],
          "scatter": [
           {
            "fillpattern": {
             "fillmode": "overlay",
             "size": 10,
             "solidity": 0.2
            },
            "type": "scatter"
           }
          ],
          "scatter3d": [
           {
            "line": {
             "colorbar": {
              "outlinewidth": 0,
              "ticks": ""
             }
            },
            "marker": {
             "colorbar": {
              "outlinewidth": 0,
              "ticks": ""
             }
            },
            "type": "scatter3d"
           }
          ],
          "scattercarpet": [
           {
            "marker": {
             "colorbar": {
              "outlinewidth": 0,
              "ticks": ""
             }
            },
            "type": "scattercarpet"
           }
          ],
          "scattergeo": [
           {
            "marker": {
             "colorbar": {
              "outlinewidth": 0,
              "ticks": ""
             }
            },
            "type": "scattergeo"
           }
          ],
          "scattergl": [
           {
            "marker": {
             "colorbar": {
              "outlinewidth": 0,
              "ticks": ""
             }
            },
            "type": "scattergl"
           }
          ],
          "scattermapbox": [
           {
            "marker": {
             "colorbar": {
              "outlinewidth": 0,
              "ticks": ""
             }
            },
            "type": "scattermapbox"
           }
          ],
          "scatterpolar": [
           {
            "marker": {
             "colorbar": {
              "outlinewidth": 0,
              "ticks": ""
             }
            },
            "type": "scatterpolar"
           }
          ],
          "scatterpolargl": [
           {
            "marker": {
             "colorbar": {
              "outlinewidth": 0,
              "ticks": ""
             }
            },
            "type": "scatterpolargl"
           }
          ],
          "scatterternary": [
           {
            "marker": {
             "colorbar": {
              "outlinewidth": 0,
              "ticks": ""
             }
            },
            "type": "scatterternary"
           }
          ],
          "surface": [
           {
            "colorbar": {
             "outlinewidth": 0,
             "ticks": ""
            },
            "colorscale": [
             [
              0,
              "#0d0887"
             ],
             [
              0.1111111111111111,
              "#46039f"
             ],
             [
              0.2222222222222222,
              "#7201a8"
             ],
             [
              0.3333333333333333,
              "#9c179e"
             ],
             [
              0.4444444444444444,
              "#bd3786"
             ],
             [
              0.5555555555555556,
              "#d8576b"
             ],
             [
              0.6666666666666666,
              "#ed7953"
             ],
             [
              0.7777777777777778,
              "#fb9f3a"
             ],
             [
              0.8888888888888888,
              "#fdca26"
             ],
             [
              1,
              "#f0f921"
             ]
            ],
            "type": "surface"
           }
          ],
          "table": [
           {
            "cells": {
             "fill": {
              "color": "#EBF0F8"
             },
             "line": {
              "color": "white"
             }
            },
            "header": {
             "fill": {
              "color": "#C8D4E3"
             },
             "line": {
              "color": "white"
             }
            },
            "type": "table"
           }
          ]
         },
         "layout": {
          "annotationdefaults": {
           "arrowcolor": "#2a3f5f",
           "arrowhead": 0,
           "arrowwidth": 1
          },
          "autotypenumbers": "strict",
          "coloraxis": {
           "colorbar": {
            "outlinewidth": 0,
            "ticks": ""
           }
          },
          "colorscale": {
           "diverging": [
            [
             0,
             "#8e0152"
            ],
            [
             0.1,
             "#c51b7d"
            ],
            [
             0.2,
             "#de77ae"
            ],
            [
             0.3,
             "#f1b6da"
            ],
            [
             0.4,
             "#fde0ef"
            ],
            [
             0.5,
             "#f7f7f7"
            ],
            [
             0.6,
             "#e6f5d0"
            ],
            [
             0.7,
             "#b8e186"
            ],
            [
             0.8,
             "#7fbc41"
            ],
            [
             0.9,
             "#4d9221"
            ],
            [
             1,
             "#276419"
            ]
           ],
           "sequential": [
            [
             0,
             "#0d0887"
            ],
            [
             0.1111111111111111,
             "#46039f"
            ],
            [
             0.2222222222222222,
             "#7201a8"
            ],
            [
             0.3333333333333333,
             "#9c179e"
            ],
            [
             0.4444444444444444,
             "#bd3786"
            ],
            [
             0.5555555555555556,
             "#d8576b"
            ],
            [
             0.6666666666666666,
             "#ed7953"
            ],
            [
             0.7777777777777778,
             "#fb9f3a"
            ],
            [
             0.8888888888888888,
             "#fdca26"
            ],
            [
             1,
             "#f0f921"
            ]
           ],
           "sequentialminus": [
            [
             0,
             "#0d0887"
            ],
            [
             0.1111111111111111,
             "#46039f"
            ],
            [
             0.2222222222222222,
             "#7201a8"
            ],
            [
             0.3333333333333333,
             "#9c179e"
            ],
            [
             0.4444444444444444,
             "#bd3786"
            ],
            [
             0.5555555555555556,
             "#d8576b"
            ],
            [
             0.6666666666666666,
             "#ed7953"
            ],
            [
             0.7777777777777778,
             "#fb9f3a"
            ],
            [
             0.8888888888888888,
             "#fdca26"
            ],
            [
             1,
             "#f0f921"
            ]
           ]
          },
          "colorway": [
           "#636efa",
           "#EF553B",
           "#00cc96",
           "#ab63fa",
           "#FFA15A",
           "#19d3f3",
           "#FF6692",
           "#B6E880",
           "#FF97FF",
           "#FECB52"
          ],
          "font": {
           "color": "#2a3f5f"
          },
          "geo": {
           "bgcolor": "white",
           "lakecolor": "white",
           "landcolor": "#E5ECF6",
           "showlakes": true,
           "showland": true,
           "subunitcolor": "white"
          },
          "hoverlabel": {
           "align": "left"
          },
          "hovermode": "closest",
          "mapbox": {
           "style": "light"
          },
          "paper_bgcolor": "white",
          "plot_bgcolor": "#E5ECF6",
          "polar": {
           "angularaxis": {
            "gridcolor": "white",
            "linecolor": "white",
            "ticks": ""
           },
           "bgcolor": "#E5ECF6",
           "radialaxis": {
            "gridcolor": "white",
            "linecolor": "white",
            "ticks": ""
           }
          },
          "scene": {
           "xaxis": {
            "backgroundcolor": "#E5ECF6",
            "gridcolor": "white",
            "gridwidth": 2,
            "linecolor": "white",
            "showbackground": true,
            "ticks": "",
            "zerolinecolor": "white"
           },
           "yaxis": {
            "backgroundcolor": "#E5ECF6",
            "gridcolor": "white",
            "gridwidth": 2,
            "linecolor": "white",
            "showbackground": true,
            "ticks": "",
            "zerolinecolor": "white"
           },
           "zaxis": {
            "backgroundcolor": "#E5ECF6",
            "gridcolor": "white",
            "gridwidth": 2,
            "linecolor": "white",
            "showbackground": true,
            "ticks": "",
            "zerolinecolor": "white"
           }
          },
          "shapedefaults": {
           "line": {
            "color": "#2a3f5f"
           }
          },
          "ternary": {
           "aaxis": {
            "gridcolor": "white",
            "linecolor": "white",
            "ticks": ""
           },
           "baxis": {
            "gridcolor": "white",
            "linecolor": "white",
            "ticks": ""
           },
           "bgcolor": "#E5ECF6",
           "caxis": {
            "gridcolor": "white",
            "linecolor": "white",
            "ticks": ""
           }
          },
          "title": {
           "x": 0.05
          },
          "xaxis": {
           "automargin": true,
           "gridcolor": "white",
           "linecolor": "white",
           "ticks": "",
           "title": {
            "standoff": 15
           },
           "zerolinecolor": "white",
           "zerolinewidth": 2
          },
          "yaxis": {
           "automargin": true,
           "gridcolor": "white",
           "linecolor": "white",
           "ticks": "",
           "title": {
            "standoff": 15
           },
           "zerolinecolor": "white",
           "zerolinewidth": 2
          }
         }
        },
        "title": {
         "text": "Sentiment Analysis on Topic 1"
        },
        "xaxis": {
         "anchor": "y",
         "domain": [
          0,
          1
         ],
         "title": {
          "text": "Subjectivity Score"
         }
        },
        "yaxis": {
         "anchor": "x",
         "domain": [
          0,
          1
         ],
         "title": {
          "text": "Sentiment Score"
         }
        }
       }
      }
     },
     "metadata": {},
     "output_type": "display_data"
    },
    {
     "data": {
      "image/png": "[encoded data removed]",
      "text/plain": [
       "<Figure size 600x600 with 1 Axes>"
      ]
     },
     "metadata": {},
     "output_type": "display_data"
    },
    {
     "data": {
      "application/vnd.plotly.v1+json": {
       "config": {
        "plotlyServerURL": "https://plot.ly"
       },
       "data": [
        {
         "hovertemplate": "<b>%{hovertext}</b><br><br>Subjectivity Score=%{x}<br>Sentiment Score=%{y}<br>Main Topic Score=%{marker.size}<extra></extra>",
         "hovertext": [
          "www.foxnews.com",
          "www.cnn.com"
         ],
         "legendgroup": "",
         "marker": {
          "color": "#636efa",
          "size": [
           0.9975157380104065,
           0.9988191723823547
          ],
          "sizemode": "area",
          "sizeref": 0.0024970479309558867,
          "symbol": "circle"
         },
         "mode": "markers",
         "name": "",
         "orientation": "v",
         "showlegend": false,
         "type": "scatter",
         "x": [
          0.37,
          0.48
         ],
         "xaxis": "x",
         "y": [
          -0.04,
          0.06
         ],
         "yaxis": "y"
        }
       ],
       "layout": {
        "legend": {
         "itemsizing": "constant",
         "tracegroupgap": 0
        },
        "template": {
         "data": {
          "bar": [
           {
            "error_x": {
             "color": "#2a3f5f"
            },
            "error_y": {
             "color": "#2a3f5f"
            },
            "marker": {
             "line": {
              "color": "#E5ECF6",
              "width": 0.5
             },
             "pattern": {
              "fillmode": "overlay",
              "size": 10,
              "solidity": 0.2
             }
            },
            "type": "bar"
           }
          ],
          "barpolar": [
           {
            "marker": {
             "line": {
              "color": "#E5ECF6",
              "width": 0.5
             },
             "pattern": {
              "fillmode": "overlay",
              "size": 10,
              "solidity": 0.2
             }
            },
            "type": "barpolar"
           }
          ],
          "carpet": [
           {
            "aaxis": {
             "endlinecolor": "#2a3f5f",
             "gridcolor": "white",
             "linecolor": "white",
             "minorgridcolor": "white",
             "startlinecolor": "#2a3f5f"
            },
            "baxis": {
             "endlinecolor": "#2a3f5f",
             "gridcolor": "white",
             "linecolor": "white",
             "minorgridcolor": "white",
             "startlinecolor": "#2a3f5f"
            },
            "type": "carpet"
           }
          ],
          "choropleth": [
           {
            "colorbar": {
             "outlinewidth": 0,
             "ticks": ""
            },
            "type": "choropleth"
           }
          ],
          "contour": [
           {
            "colorbar": {
             "outlinewidth": 0,
             "ticks": ""
            },
            "colorscale": [
             [
              0,
              "#0d0887"
             ],
             [
              0.1111111111111111,
              "#46039f"
             ],
             [
              0.2222222222222222,
              "#7201a8"
             ],
             [
              0.3333333333333333,
              "#9c179e"
             ],
             [
              0.4444444444444444,
              "#bd3786"
             ],
             [
              0.5555555555555556,
              "#d8576b"
             ],
             [
              0.6666666666666666,
              "#ed7953"
             ],
             [
              0.7777777777777778,
              "#fb9f3a"
             ],
             [
              0.8888888888888888,
              "#fdca26"
             ],
             [
              1,
              "#f0f921"
             ]
            ],
            "type": "contour"
           }
          ],
          "contourcarpet": [
           {
            "colorbar": {
             "outlinewidth": 0,
             "ticks": ""
            },
            "type": "contourcarpet"
           }
          ],
          "heatmap": [
           {
            "colorbar": {
             "outlinewidth": 0,
             "ticks": ""
            },
            "colorscale": [
             [
              0,
              "#0d0887"
             ],
             [
              0.1111111111111111,
              "#46039f"
             ],
             [
              0.2222222222222222,
              "#7201a8"
             ],
             [
              0.3333333333333333,
              "#9c179e"
             ],
             [
              0.4444444444444444,
              "#bd3786"
             ],
             [
              0.5555555555555556,
              "#d8576b"
             ],
             [
              0.6666666666666666,
              "#ed7953"
             ],
             [
              0.7777777777777778,
              "#fb9f3a"
             ],
             [
              0.8888888888888888,
              "#fdca26"
             ],
             [
              1,
              "#f0f921"
             ]
            ],
            "type": "heatmap"
           }
          ],
          "heatmapgl": [
           {
            "colorbar": {
             "outlinewidth": 0,
             "ticks": ""
            },
            "colorscale": [
             [
              0,
              "#0d0887"
             ],
             [
              0.1111111111111111,
              "#46039f"
             ],
             [
              0.2222222222222222,
              "#7201a8"
             ],
             [
              0.3333333333333333,
              "#9c179e"
             ],
             [
              0.4444444444444444,
              "#bd3786"
             ],
             [
              0.5555555555555556,
              "#d8576b"
             ],
             [
              0.6666666666666666,
              "#ed7953"
             ],
             [
              0.7777777777777778,
              "#fb9f3a"
             ],
             [
              0.8888888888888888,
              "#fdca26"
             ],
             [
              1,
              "#f0f921"
             ]
            ],
            "type": "heatmapgl"
           }
          ],
          "histogram": [
           {
            "marker": {
             "pattern": {
              "fillmode": "overlay",
              "size": 10,
              "solidity": 0.2
             }
            },
            "type": "histogram"
           }
          ],
          "histogram2d": [
           {
            "colorbar": {
             "outlinewidth": 0,
             "ticks": ""
            },
            "colorscale": [
             [
              0,
              "#0d0887"
             ],
             [
              0.1111111111111111,
              "#46039f"
             ],
             [
              0.2222222222222222,
              "#7201a8"
             ],
             [
              0.3333333333333333,
              "#9c179e"
             ],
             [
              0.4444444444444444,
              "#bd3786"
             ],
             [
              0.5555555555555556,
              "#d8576b"
             ],
             [
              0.6666666666666666,
              "#ed7953"
             ],
             [
              0.7777777777777778,
              "#fb9f3a"
             ],
             [
              0.8888888888888888,
              "#fdca26"
             ],
             [
              1,
              "#f0f921"
             ]
            ],
            "type": "histogram2d"
           }
          ],
          "histogram2dcontour": [
           {
            "colorbar": {
             "outlinewidth": 0,
             "ticks": ""
            },
            "colorscale": [
             [
              0,
              "#0d0887"
             ],
             [
              0.1111111111111111,
              "#46039f"
             ],
             [
              0.2222222222222222,
              "#7201a8"
             ],
             [
              0.3333333333333333,
              "#9c179e"
             ],
             [
              0.4444444444444444,
              "#bd3786"
             ],
             [
              0.5555555555555556,
              "#d8576b"
             ],
             [
              0.6666666666666666,
              "#ed7953"
             ],
             [
              0.7777777777777778,
              "#fb9f3a"
             ],
             [
              0.8888888888888888,
              "#fdca26"
             ],
             [
              1,
              "#f0f921"
             ]
            ],
            "type": "histogram2dcontour"
           }
          ],
          "mesh3d": [
           {
            "colorbar": {
             "outlinewidth": 0,
             "ticks": ""
            },
            "type": "mesh3d"
           }
          ],
          "parcoords": [
           {
            "line": {
             "colorbar": {
              "outlinewidth": 0,
              "ticks": ""
             }
            },
            "type": "parcoords"
           }
          ],
          "pie": [
           {
            "automargin": true,
            "type": "pie"
           }
          ],
          "scatter": [
           {
            "fillpattern": {
             "fillmode": "overlay",
             "size": 10,
             "solidity": 0.2
            },
            "type": "scatter"
           }
          ],
          "scatter3d": [
           {
            "line": {
             "colorbar": {
              "outlinewidth": 0,
              "ticks": ""
             }
            },
            "marker": {
             "colorbar": {
              "outlinewidth": 0,
              "ticks": ""
             }
            },
            "type": "scatter3d"
           }
          ],
          "scattercarpet": [
           {
            "marker": {
             "colorbar": {
              "outlinewidth": 0,
              "ticks": ""
             }
            },
            "type": "scattercarpet"
           }
          ],
          "scattergeo": [
           {
            "marker": {
             "colorbar": {
              "outlinewidth": 0,
              "ticks": ""
             }
            },
            "type": "scattergeo"
           }
          ],
          "scattergl": [
           {
            "marker": {
             "colorbar": {
              "outlinewidth": 0,
              "ticks": ""
             }
            },
            "type": "scattergl"
           }
          ],
          "scattermapbox": [
           {
            "marker": {
             "colorbar": {
              "outlinewidth": 0,
              "ticks": ""
             }
            },
            "type": "scattermapbox"
           }
          ],
          "scatterpolar": [
           {
            "marker": {
             "colorbar": {
              "outlinewidth": 0,
              "ticks": ""
             }
            },
            "type": "scatterpolar"
           }
          ],
          "scatterpolargl": [
           {
            "marker": {
             "colorbar": {
              "outlinewidth": 0,
              "ticks": ""
             }
            },
            "type": "scatterpolargl"
           }
          ],
          "scatterternary": [
           {
            "marker": {
             "colorbar": {
              "outlinewidth": 0,
              "ticks": ""
             }
            },
            "type": "scatterternary"
           }
          ],
          "surface": [
           {
            "colorbar": {
             "outlinewidth": 0,
             "ticks": ""
            },
            "colorscale": [
             [
              0,
              "#0d0887"
             ],
             [
              0.1111111111111111,
              "#46039f"
             ],
             [
              0.2222222222222222,
              "#7201a8"
             ],
             [
              0.3333333333333333,
              "#9c179e"
             ],
             [
              0.4444444444444444,
              "#bd3786"
             ],
             [
              0.5555555555555556,
              "#d8576b"
             ],
             [
              0.6666666666666666,
              "#ed7953"
             ],
             [
              0.7777777777777778,
              "#fb9f3a"
             ],
             [
              0.8888888888888888,
              "#fdca26"
             ],
             [
              1,
              "#f0f921"
             ]
            ],
            "type": "surface"
           }
          ],
          "table": [
           {
            "cells": {
             "fill": {
              "color": "#EBF0F8"
             },
             "line": {
              "color": "white"
             }
            },
            "header": {
             "fill": {
              "color": "#C8D4E3"
             },
             "line": {
              "color": "white"
             }
            },
            "type": "table"
           }
          ]
         },
         "layout": {
          "annotationdefaults": {
           "arrowcolor": "#2a3f5f",
           "arrowhead": 0,
           "arrowwidth": 1
          },
          "autotypenumbers": "strict",
          "coloraxis": {
           "colorbar": {
            "outlinewidth": 0,
            "ticks": ""
           }
          },
          "colorscale": {
           "diverging": [
            [
             0,
             "#8e0152"
            ],
            [
             0.1,
             "#c51b7d"
            ],
            [
             0.2,
             "#de77ae"
            ],
            [
             0.3,
             "#f1b6da"
            ],
            [
             0.4,
             "#fde0ef"
            ],
            [
             0.5,
             "#f7f7f7"
            ],
            [
             0.6,
             "#e6f5d0"
            ],
            [
             0.7,
             "#b8e186"
            ],
            [
             0.8,
             "#7fbc41"
            ],
            [
             0.9,
             "#4d9221"
            ],
            [
             1,
             "#276419"
            ]
           ],
           "sequential": [
            [
             0,
             "#0d0887"
            ],
            [
             0.1111111111111111,
             "#46039f"
            ],
            [
             0.2222222222222222,
             "#7201a8"
            ],
            [
             0.3333333333333333,
             "#9c179e"
            ],
            [
             0.4444444444444444,
             "#bd3786"
            ],
            [
             0.5555555555555556,
             "#d8576b"
            ],
            [
             0.6666666666666666,
             "#ed7953"
            ],
            [
             0.7777777777777778,
             "#fb9f3a"
            ],
            [
             0.8888888888888888,
             "#fdca26"
            ],
            [
             1,
             "#f0f921"
            ]
           ],
           "sequentialminus": [
            [
             0,
             "#0d0887"
            ],
            [
             0.1111111111111111,
             "#46039f"
            ],
            [
             0.2222222222222222,
             "#7201a8"
            ],
            [
             0.3333333333333333,
             "#9c179e"
            ],
            [
             0.4444444444444444,
             "#bd3786"
            ],
            [
             0.5555555555555556,
             "#d8576b"
            ],
            [
             0.6666666666666666,
             "#ed7953"
            ],
            [
             0.7777777777777778,
             "#fb9f3a"
            ],
            [
             0.8888888888888888,
             "#fdca26"
            ],
            [
             1,
             "#f0f921"
            ]
           ]
          },
          "colorway": [
           "#636efa",
           "#EF553B",
           "#00cc96",
           "#ab63fa",
           "#FFA15A",
           "#19d3f3",
           "#FF6692",
           "#B6E880",
           "#FF97FF",
           "#FECB52"
          ],
          "font": {
           "color": "#2a3f5f"
          },
          "geo": {
           "bgcolor": "white",
           "lakecolor": "white",
           "landcolor": "#E5ECF6",
           "showlakes": true,
           "showland": true,
           "subunitcolor": "white"
          },
          "hoverlabel": {
           "align": "left"
          },
          "hovermode": "closest",
          "mapbox": {
           "style": "light"
          },
          "paper_bgcolor": "white",
          "plot_bgcolor": "#E5ECF6",
          "polar": {
           "angularaxis": {
            "gridcolor": "white",
            "linecolor": "white",
            "ticks": ""
           },
           "bgcolor": "#E5ECF6",
           "radialaxis": {
            "gridcolor": "white",
            "linecolor": "white",
            "ticks": ""
           }
          },
          "scene": {
           "xaxis": {
            "backgroundcolor": "#E5ECF6",
            "gridcolor": "white",
            "gridwidth": 2,
            "linecolor": "white",
            "showbackground": true,
            "ticks": "",
            "zerolinecolor": "white"
           },
           "yaxis": {
            "backgroundcolor": "#E5ECF6",
            "gridcolor": "white",
            "gridwidth": 2,
            "linecolor": "white",
            "showbackground": true,
            "ticks": "",
            "zerolinecolor": "white"
           },
           "zaxis": {
            "backgroundcolor": "#E5ECF6",
            "gridcolor": "white",
            "gridwidth": 2,
            "linecolor": "white",
            "showbackground": true,
            "ticks": "",
            "zerolinecolor": "white"
           }
          },
          "shapedefaults": {
           "line": {
            "color": "#2a3f5f"
           }
          },
          "ternary": {
           "aaxis": {
            "gridcolor": "white",
            "linecolor": "white",
            "ticks": ""
           },
           "baxis": {
            "gridcolor": "white",
            "linecolor": "white",
            "ticks": ""
           },
           "bgcolor": "#E5ECF6",
           "caxis": {
            "gridcolor": "white",
            "linecolor": "white",
            "ticks": ""
           }
          },
          "title": {
           "x": 0.05
          },
          "xaxis": {
           "automargin": true,
           "gridcolor": "white",
           "linecolor": "white",
           "ticks": "",
           "title": {
            "standoff": 15
           },
           "zerolinecolor": "white",
           "zerolinewidth": 2
          },
          "yaxis": {
           "automargin": true,
           "gridcolor": "white",
           "linecolor": "white",
           "ticks": "",
           "title": {
            "standoff": 15
           },
           "zerolinecolor": "white",
           "zerolinewidth": 2
          }
         }
        },
        "title": {
         "text": "Sentiment Analysis on Topic 2"
        },
        "xaxis": {
         "anchor": "y",
         "domain": [
          0,
          1
         ],
         "title": {
          "text": "Subjectivity Score"
         }
        },
        "yaxis": {
         "anchor": "x",
         "domain": [
          0,
          1
         ],
         "title": {
          "text": "Sentiment Score"
         }
        }
       }
      }
     },
     "metadata": {},
     "output_type": "display_data"
    },
    {
     "data": {
      "image/png": "[encoded data removed]",
      "text/plain": [
       "<Figure size 600x600 with 1 Axes>"
      ]
     },
     "metadata": {},
     "output_type": "display_data"
    }
   ],
   "source": [
    "# Using our list_of_topics_to_visualize list in the customizable settings, \n",
    "# produce a graph for each topic\n",
    "for topic_id in list_of_topics_to_visualize:\n",
    "    if topic_id <= len(lda_model.print_topics()) - 1:\n",
    "        visualize_single_topic_subjectivity_vs_sentiment(df, topic_id)\n",
    "        visualize_topic_word_cloud(lda_model, topic_id)\n",
    "    else:\n",
    "        print(\"Error, topic_id {0} not availible\".format(topic_id))\n"
   ]
  },
  {
   "cell_type": "markdown",
   "id": "f184ac6b",
   "metadata": {},
   "source": [
    "## Generating 2D and 3D Cluster Graphs of Topics (K means Clustering)"
   ]
  },
  {
   "cell_type": "markdown",
   "id": "84b465b0",
   "metadata": {},
   "source": [
    "Generate a visual of number of topic clusters vs inertia (WCSS score) of the model (low inertia is good). We want to find the optimal number of topic clusters to use, and you can use the \"elbow method\" on this graph to find it. Ideally, the number of clusters is as small as possible and the inertia is also as small as possible. So to find the point where increasing the number of clusters gives diminishing returns on the inertia score, we imagine the line graph as an arm and use the number of clusters at the \"elbow\", or the point on the graph where the slope becomes much closer to 0 than the point before."
   ]
  },
  {
   "cell_type": "code",
   "execution_count": 15,
   "id": "65098654",
   "metadata": {
    "scrolled": false
   },
   "outputs": [
    {
     "name": "stderr",
     "output_type": "stream",
     "text": [
      "c:\\Users\\biehl\\AppData\\Local\\Programs\\Python\\Python310\\lib\\site-packages\\sklearn\\utils\\validation.py:767: FutureWarning:\n",
      "\n",
      "is_sparse is deprecated and will be removed in a future version. Check `isinstance(dtype, pd.SparseDtype)` instead.\n",
      "\n",
      "c:\\Users\\biehl\\AppData\\Local\\Programs\\Python\\Python310\\lib\\site-packages\\sklearn\\utils\\validation.py:605: FutureWarning:\n",
      "\n",
      "is_sparse is deprecated and will be removed in a future version. Check `isinstance(dtype, pd.SparseDtype)` instead.\n",
      "\n",
      "c:\\Users\\biehl\\AppData\\Local\\Programs\\Python\\Python310\\lib\\site-packages\\sklearn\\utils\\validation.py:614: FutureWarning:\n",
      "\n",
      "is_sparse is deprecated and will be removed in a future version. Check `isinstance(dtype, pd.SparseDtype)` instead.\n",
      "\n"
     ]
    },
    {
     "data": {
      "image/png": "[encoded data removed]",
      "text/plain": [
       "<Figure size 1000x1000 with 1 Axes>"
      ]
     },
     "metadata": {},
     "output_type": "display_data"
    }
   ],
   "source": [
    "visualize_optimal_cluster_count(df_topics= df_topics,\n",
    "                                max_clusters= kmeans_settings[\"max_clusters\"],\n",
    "                                pca_components= kmeans_settings[\"pca_components\"])\n"
   ]
  },
  {
   "cell_type": "markdown",
   "id": "75cabb2b",
   "metadata": {},
   "source": [
    "This will generate the topic space in 2D with every article represented as a single point. Very similar to the t-SNE clustering graph, this visualization has the same goal: show topic clusters of articles that are very similar in topic and overall theme. Points closer together means they have very similar topics, while points further apart will be less related. This visualization uses the relevance of each topic to an article as the data behind the clustering. Articles are colored by the user-selected number of clusters (not by main topic)."
   ]
  },
  {
   "cell_type": "code",
   "execution_count": 16,
   "id": "75bab1e8",
   "metadata": {
    "scrolled": false
   },
   "outputs": [
    {
     "name": "stderr",
     "output_type": "stream",
     "text": [
      "c:\\Users\\biehl\\AppData\\Local\\Programs\\Python\\Python310\\lib\\site-packages\\sklearn\\utils\\validation.py:767: FutureWarning:\n",
      "\n",
      "is_sparse is deprecated and will be removed in a future version. Check `isinstance(dtype, pd.SparseDtype)` instead.\n",
      "\n",
      "c:\\Users\\biehl\\AppData\\Local\\Programs\\Python\\Python310\\lib\\site-packages\\sklearn\\utils\\validation.py:605: FutureWarning:\n",
      "\n",
      "is_sparse is deprecated and will be removed in a future version. Check `isinstance(dtype, pd.SparseDtype)` instead.\n",
      "\n",
      "c:\\Users\\biehl\\AppData\\Local\\Programs\\Python\\Python310\\lib\\site-packages\\sklearn\\utils\\validation.py:614: FutureWarning:\n",
      "\n",
      "is_sparse is deprecated and will be removed in a future version. Check `isinstance(dtype, pd.SparseDtype)` instead.\n",
      "\n"
     ]
    },
    {
     "data": {
      "image/png": "[encoded data removed]",
      "text/plain": [
       "<Figure size 1000x1000 with 1 Axes>"
      ]
     },
     "metadata": {},
     "output_type": "display_data"
    }
   ],
   "source": [
    "visualize_kmeans_clustering(df_topics= df_topics,\n",
    "                            num_clusters = kmeans_settings[\"num_clusters\"],\n",
    "                            pca_components = kmeans_settings[\"pca_components\"])\n"
   ]
  },
  {
   "cell_type": "markdown",
   "id": "1ffe2adb",
   "metadata": {},
   "source": [
    "This visualization is a 3D version of the one above, with a 3rd dimension added to represent sentiment value of each article. So the 2D xy-plane will be exactly the same as the visualization above--meant to represent articles in the topic space and how they are related by topic. The third dimension will show every article's sentiment value, to show how clusters or individual articles differ by sentiment (or are closely related!)"
   ]
  },
  {
   "cell_type": "code",
   "execution_count": 17,
   "id": "ca9b5c2b",
   "metadata": {
    "scrolled": false
   },
   "outputs": [
    {
     "name": "stderr",
     "output_type": "stream",
     "text": [
      "c:\\Users\\biehl\\AppData\\Local\\Programs\\Python\\Python310\\lib\\site-packages\\sklearn\\utils\\validation.py:767: FutureWarning:\n",
      "\n",
      "is_sparse is deprecated and will be removed in a future version. Check `isinstance(dtype, pd.SparseDtype)` instead.\n",
      "\n",
      "c:\\Users\\biehl\\AppData\\Local\\Programs\\Python\\Python310\\lib\\site-packages\\sklearn\\utils\\validation.py:605: FutureWarning:\n",
      "\n",
      "is_sparse is deprecated and will be removed in a future version. Check `isinstance(dtype, pd.SparseDtype)` instead.\n",
      "\n",
      "c:\\Users\\biehl\\AppData\\Local\\Programs\\Python\\Python310\\lib\\site-packages\\sklearn\\utils\\validation.py:614: FutureWarning:\n",
      "\n",
      "is_sparse is deprecated and will be removed in a future version. Check `isinstance(dtype, pd.SparseDtype)` instead.\n",
      "\n"
     ]
    },
    {
     "data": {
      "application/vnd.plotly.v1+json": {
       "config": {
        "plotlyServerURL": "https://plot.ly"
       },
       "data": [
        {
         "customdata": [
          [
           0,
           [
            [
             "biden",
             "hunter",
             "phillip",
             "democratic",
             "run",
             "president",
             "campaign",
             "support",
             "voter",
             "party"
            ]
           ],
           "www.foxnews.com",
           "Neutral",
           5
          ],
          [
           1,
           [
            [
             "office",
             "biden",
             "hunter",
             "information",
             "source",
             "family",
             "foreign",
             "document",
             "investigation",
             "letter"
            ]
           ],
           "www.foxnews.com",
           "Neutral",
           10
          ],
          [
           2,
           [
            [
             "hunter",
             "president",
             "republican",
             "biden",
             "political",
             "son",
             "charge",
             "special",
             "counsel",
             "deal"
            ]
           ],
           "www.foxnews.com",
           "Negative",
           2
          ],
          [
           3,
           [
            [
             "biden",
             "hunter",
             "phillip",
             "democratic",
             "run",
             "president",
             "campaign",
             "support",
             "voter",
             "party"
            ]
           ],
           "apnews.com",
           "Neutral Negative",
           5
          ],
          [
           4,
           [
            [
             "migrant",
             "chs",
             "biden",
             "task",
             "foreign",
             "influence",
             "hunter",
             "new",
             "force",
             "last"
            ]
           ],
           "www.nation.com.pk",
           "Negative",
           1
          ],
          [
           5,
           [
            [
             "primary",
             "state",
             "write",
             "vote",
             "ballot",
             "candidate",
             "party",
             "new",
             "election",
             "campaign"
            ]
           ],
           "www.nation.com.pk",
           "Neutral Positive",
           0
          ],
          [
           6,
           [
            [
             "migrant",
             "chs",
             "biden",
             "task",
             "foreign",
             "influence",
             "hunter",
             "new",
             "force",
             "last"
            ]
           ],
           "www.nation.com.pk",
           "Negative",
           1
          ],
          [
           7,
           [
            [
             "office",
             "biden",
             "hunter",
             "information",
             "source",
             "family",
             "foreign",
             "document",
             "investigation",
             "letter"
            ]
           ],
           "www.cnn.com",
           "Negative",
           10
          ],
          [
           8,
           [
            [
             "hunter",
             "biden",
             "comer",
             "charge",
             "bank",
             "record",
             "attorney",
             "call",
             "address",
             "tell"
            ]
           ],
           "abcnews.go.com",
           "Neutral Negative",
           3
          ],
          [
           9,
           [
            [
             "hunter",
             "hallie",
             "gun",
             "service",
             "secret",
             "tell",
             "report",
             "text",
             "attack",
             "police"
            ]
           ],
           "apnews.com",
           "Neutral",
           8
          ],
          [
           10,
           [
            [
             "hunter",
             "biden",
             "comer",
             "charge",
             "bank",
             "record",
             "attorney",
             "call",
             "address",
             "tell"
            ]
           ],
           "nypost.com",
           "Neutral",
           3
          ],
          [
           11,
           [
            [
             "office",
             "biden",
             "hunter",
             "information",
             "source",
             "family",
             "foreign",
             "document",
             "investigation",
             "letter"
            ]
           ],
           "www.foxnews.com",
           "Negative",
           10
          ],
          [
           12,
           [
            [
             "office",
             "biden",
             "hunter",
             "information",
             "source",
             "family",
             "foreign",
             "document",
             "investigation",
             "letter"
            ]
           ],
           "www.grassley.senate.gov",
           "Neutral Negative",
           10
          ],
          [
           13,
           [
            [
             "office",
             "biden",
             "hunter",
             "information",
             "source",
             "family",
             "foreign",
             "document",
             "investigation",
             "letter"
            ]
           ],
           "wjla.com",
           "Negative",
           10
          ],
          [
           14,
           [
            [
             "biden",
             "hunter",
             "phillip",
             "democratic",
             "run",
             "president",
             "campaign",
             "support",
             "voter",
             "party"
            ]
           ],
           "www.newsnationnow.com",
           "Positive",
           5
          ],
          [
           15,
           [
            [
             "office",
             "biden",
             "hunter",
             "information",
             "source",
             "family",
             "foreign",
             "document",
             "investigation",
             "letter"
            ]
           ],
           "nypost.com",
           "Neutral Positive",
           10
          ],
          [
           16,
           [
            [
             "biden",
             "hunter",
             "phillip",
             "democratic",
             "run",
             "president",
             "campaign",
             "support",
             "voter",
             "party"
            ]
           ],
           "www.thenation.com",
           "Neutral Positive",
           5
          ],
          [
           17,
           [
            [
             "impeachment",
             "think",
             "war",
             "conference",
             "biden",
             "move",
             "kill",
             "death",
             "president",
             "group"
            ]
           ],
           "www.politico.com",
           "Positive",
           4
          ],
          [
           18,
           [
            [
             "hunter",
             "president",
             "republican",
             "biden",
             "political",
             "son",
             "charge",
             "special",
             "counsel",
             "deal"
            ]
           ],
           "www.cnn.com",
           "Neutral",
           2
          ],
          [
           19,
           [
            [
             "hunter",
             "hallie",
             "gun",
             "service",
             "secret",
             "tell",
             "report",
             "text",
             "attack",
             "police"
            ]
           ],
           "www.washingtonexaminer.com",
           "Negative",
           8
          ],
          [
           20,
           [
            [
             "office",
             "biden",
             "hunter",
             "information",
             "source",
             "family",
             "foreign",
             "document",
             "investigation",
             "letter"
            ]
           ],
           "www.dailymail.co.uk",
           "Negative",
           10
          ],
          [
           21,
           [
            [
             "office",
             "biden",
             "hunter",
             "information",
             "source",
             "family",
             "foreign",
             "document",
             "investigation",
             "letter"
            ]
           ],
           "thefederalist.com",
           "Neutral Negative",
           10
          ],
          [
           22,
           [
            [
             "office",
             "biden",
             "hunter",
             "information",
             "source",
             "family",
             "foreign",
             "document",
             "investigation",
             "letter"
            ]
           ],
           "www.washingtontimes.com",
           "Neutral Positive",
           10
          ],
          [
           23,
           [
            [
             "biden",
             "republican",
             "election",
             "president",
             "nominee",
             "democratic",
             "party",
             "last",
             "old",
             "presidential"
            ]
           ],
           "www.usatoday.com",
           "Positive",
           6
          ],
          [
           24,
           [
            [
             "primary",
             "state",
             "write",
             "vote",
             "ballot",
             "candidate",
             "party",
             "new",
             "election",
             "campaign"
            ]
           ],
           "apnews.com",
           "Positive",
           0
          ],
          [
           25,
           [
            [
             "ballot",
             "move",
             "state",
             "calendar",
             "appear",
             "primary",
             "name",
             "letter",
             "chair",
             "write"
            ]
           ],
           "www.politico.com",
           "Positive",
           9
          ],
          [
           26,
           [
            [
             "biden",
             "republican",
             "election",
             "president",
             "nominee",
             "democratic",
             "party",
             "last",
             "old",
             "presidential"
            ]
           ],
           "www.nbcnews.com",
           "Neutral",
           6
          ],
          [
           27,
           [
            [
             "biden",
             "hunter",
             "phillip",
             "democratic",
             "run",
             "president",
             "campaign",
             "support",
             "voter",
             "party"
            ]
           ],
           "www.foxnews.com",
           "Neutral Negative",
           5
          ],
          [
           28,
           [
            [
             "biden",
             "hunter",
             "phillip",
             "democratic",
             "run",
             "president",
             "campaign",
             "support",
             "voter",
             "party"
            ]
           ],
           "abcnews.go.com",
           "Neutral Positive",
           5
          ],
          [
           29,
           [
            [
             "biden",
             "hunter",
             "phillip",
             "democratic",
             "run",
             "president",
             "campaign",
             "support",
             "voter",
             "party"
            ]
           ],
           "www.washingtonpost.com",
           "Positive",
           5
          ],
          [
           30,
           [
            [
             "impeachment",
             "think",
             "war",
             "conference",
             "biden",
             "move",
             "kill",
             "death",
             "president",
             "group"
            ]
           ],
           "www.wmur.com",
           "Positive",
           4
          ],
          [
           31,
           [
            [
             "phillip",
             "president",
             "campaign",
             "biden",
             "primary",
             "people",
             "run",
             "bus",
             "tribune",
             "new"
            ]
           ],
           "www.startribune.com",
           "Positive",
           7
          ],
          [
           32,
           [
            [
             "impeachment",
             "think",
             "war",
             "conference",
             "biden",
             "move",
             "kill",
             "death",
             "president",
             "group"
            ]
           ],
           "www.reuters.com",
           "Neutral Negative",
           4
          ],
          [
           33,
           [
            [
             "hunter",
             "hallie",
             "gun",
             "service",
             "secret",
             "tell",
             "report",
             "text",
             "attack",
             "police"
            ]
           ],
           "apnews.com",
           "Neutral",
           8
          ],
          [
           34,
           [
            [
             "office",
             "biden",
             "hunter",
             "information",
             "source",
             "family",
             "foreign",
             "document",
             "investigation",
             "letter"
            ]
           ],
           "www.cnn.com",
           "Neutral Positive",
           10
          ],
          [
           35,
           [
            [
             "hunter",
             "biden",
             "comer",
             "charge",
             "bank",
             "record",
             "attorney",
             "call",
             "address",
             "tell"
            ]
           ],
           "www.foxnews.com",
           "Neutral Negative",
           3
          ],
          [
           36,
           [
            [
             "office",
             "biden",
             "hunter",
             "information",
             "source",
             "family",
             "foreign",
             "document",
             "investigation",
             "letter"
            ]
           ],
           "www.washingtonpost.com",
           "Neutral",
           10
          ],
          [
           37,
           [
            [
             "impeachment",
             "think",
             "war",
             "conference",
             "biden",
             "move",
             "kill",
             "death",
             "president",
             "group"
            ]
           ],
           "www.usatoday.com",
           "Neutral Positive",
           4
          ],
          [
           38,
           [
            [
             "office",
             "biden",
             "hunter",
             "information",
             "source",
             "family",
             "foreign",
             "document",
             "investigation",
             "letter"
            ]
           ],
           "www.reuters.com",
           "Negative",
           10
          ],
          [
           39,
           [
            [
             "migrant",
             "chs",
             "biden",
             "task",
             "foreign",
             "influence",
             "hunter",
             "new",
             "force",
             "last"
            ]
           ],
           "www.foxnews.com",
           "Neutral Positive",
           1
          ]
         ],
         "hovertemplate": "ID: %{customdata[0]}<br>Associated Words: %{customdata[1]}<br>Address: %{customdata[2]}<br>Sentiment Label: %{customdata[3]}<br>Main Topic: %{customdata[4]}",
         "legendgroup": "",
         "marker": {
          "color": [
           0,
           3,
           1,
           0,
           1,
           1,
           1,
           2,
           1,
           1,
           1,
           3,
           3,
           2,
           0,
           3,
           0,
           1,
           1,
           1,
           3,
           2,
           2,
           1,
           1,
           1,
           1,
           0,
           0,
           0,
           1,
           1,
           1,
           1,
           3,
           1,
           2,
           1,
           2,
           1
          ],
          "coloraxis": "coloraxis",
          "symbol": "circle"
         },
         "mode": "markers",
         "name": "",
         "scene": "scene",
         "showlegend": false,
         "type": "scatter3d",
         "x": [
          -0.5526763200759888,
          0.7697106599807739,
          -0.1219283789396286,
          -0.4755319654941559,
          -0.1499675065279007,
          -0.16919179260730743,
          -0.14991137385368347,
          0.4113237261772156,
          -0.19368885457515717,
          -0.17986063659191132,
          -0.1937265843153,
          0.7705345749855042,
          0.7669923305511475,
          0.3713952600955963,
          -0.4657893180847168,
          0.7695242762565613,
          -0.5534454584121704,
          -0.190791517496109,
          -0.12194927036762238,
          -0.18332649767398834,
          0.769311785697937,
          0.3124638795852661,
          0.5221433043479919,
          -0.1478920429944992,
          -0.16948513686656952,
          -0.13741029798984528,
          -0.1481676548719406,
          -0.5517451167106628,
          -0.5526276230812073,
          -0.5533392429351807,
          -0.18352559208869934,
          -0.12453900277614594,
          -0.19041316211223602,
          -0.18089796602725983,
          0.725144624710083,
          -0.1930045336484909,
          0.42138412594795227,
          -0.19066686928272247,
          0.5656624436378479,
          -0.1500922292470932
         ],
         "y": [
          0.6723165512084961,
          0.18868550658226013,
          -0.2165130078792572,
          0.6040600538253784,
          -0.3311285376548767,
          -0.28966742753982544,
          -0.3308832049369812,
          0.025792211294174194,
          -0.2664465606212616,
          -0.3104594349861145,
          -0.26649999618530273,
          0.18899913132190704,
          0.18765069544315338,
          0.32944193482398987,
          0.44521546363830566,
          0.1886146515607834,
          0.6737284660339355,
          -0.4661414623260498,
          -0.21661560237407684,
          -0.30304214358329773,
          0.1885337084531784,
          -0.06569288671016693,
          0.27730876207351685,
          -0.22802114486694336,
          -0.2903531491756439,
          -0.21333560347557068,
          -0.22858528792858124,
          0.6706064343452454,
          0.6722269654273987,
          0.6735333204269409,
          -0.40685099363327026,
          -0.17766113579273224,
          -0.4646849036216736,
          -0.3234153985977173,
          0.15817229449748993,
          -0.31835508346557617,
          0.3167037069797516,
          -0.4656616151332855,
          0.050099123269319534,
          -0.3316730856895447
         ],
         "z": [
          0.04,
          0.06,
          -0.04,
          0.02,
          -0.04,
          0.1,
          -0.11,
          -0.01,
          0.01,
          0.04,
          0.03,
          -0.03,
          0,
          -0.02,
          0.14,
          0.07,
          0.09,
          0.12,
          0.06,
          -0.06,
          -0.03,
          0.01,
          0.09,
          0.2,
          0.17,
          0.21,
          0.04,
          0,
          0.09,
          0.13,
          0.22,
          0.14,
          0.02,
          0.06,
          0.08,
          0.01,
          0.05,
          0.08,
          -0.01,
          0.08
         ]
        }
       ],
       "layout": {
        "coloraxis": {
         "colorbar": {
          "title": {
           "text": "Cluster"
          }
         },
         "colorscale": [
          [
           0,
           "#0d0887"
          ],
          [
           0.1111111111111111,
           "#46039f"
          ],
          [
           0.2222222222222222,
           "#7201a8"
          ],
          [
           0.3333333333333333,
           "#9c179e"
          ],
          [
           0.4444444444444444,
           "#bd3786"
          ],
          [
           0.5555555555555556,
           "#d8576b"
          ],
          [
           0.6666666666666666,
           "#ed7953"
          ],
          [
           0.7777777777777778,
           "#fb9f3a"
          ],
          [
           0.8888888888888888,
           "#fdca26"
          ],
          [
           1,
           "#f0f921"
          ]
         ]
        },
        "legend": {
         "tracegroupgap": 0
        },
        "margin": {
         "t": 60
        },
        "scene": {
         "domain": {
          "x": [
           0,
           1
          ],
          "y": [
           0,
           1
          ]
         },
         "xaxis": {
          "title": {
           "text": "x"
          }
         },
         "yaxis": {
          "title": {
           "text": "y"
          }
         },
         "zaxis": {
          "title": {
           "text": "Sentiment Score"
          }
         }
        },
        "showlegend": false,
        "template": {
         "data": {
          "bar": [
           {
            "error_x": {
             "color": "#2a3f5f"
            },
            "error_y": {
             "color": "#2a3f5f"
            },
            "marker": {
             "line": {
              "color": "#E5ECF6",
              "width": 0.5
             },
             "pattern": {
              "fillmode": "overlay",
              "size": 10,
              "solidity": 0.2
             }
            },
            "type": "bar"
           }
          ],
          "barpolar": [
           {
            "marker": {
             "line": {
              "color": "#E5ECF6",
              "width": 0.5
             },
             "pattern": {
              "fillmode": "overlay",
              "size": 10,
              "solidity": 0.2
             }
            },
            "type": "barpolar"
           }
          ],
          "carpet": [
           {
            "aaxis": {
             "endlinecolor": "#2a3f5f",
             "gridcolor": "white",
             "linecolor": "white",
             "minorgridcolor": "white",
             "startlinecolor": "#2a3f5f"
            },
            "baxis": {
             "endlinecolor": "#2a3f5f",
             "gridcolor": "white",
             "linecolor": "white",
             "minorgridcolor": "white",
             "startlinecolor": "#2a3f5f"
            },
            "type": "carpet"
           }
          ],
          "choropleth": [
           {
            "colorbar": {
             "outlinewidth": 0,
             "ticks": ""
            },
            "type": "choropleth"
           }
          ],
          "contour": [
           {
            "colorbar": {
             "outlinewidth": 0,
             "ticks": ""
            },
            "colorscale": [
             [
              0,
              "#0d0887"
             ],
             [
              0.1111111111111111,
              "#46039f"
             ],
             [
              0.2222222222222222,
              "#7201a8"
             ],
             [
              0.3333333333333333,
              "#9c179e"
             ],
             [
              0.4444444444444444,
              "#bd3786"
             ],
             [
              0.5555555555555556,
              "#d8576b"
             ],
             [
              0.6666666666666666,
              "#ed7953"
             ],
             [
              0.7777777777777778,
              "#fb9f3a"
             ],
             [
              0.8888888888888888,
              "#fdca26"
             ],
             [
              1,
              "#f0f921"
             ]
            ],
            "type": "contour"
           }
          ],
          "contourcarpet": [
           {
            "colorbar": {
             "outlinewidth": 0,
             "ticks": ""
            },
            "type": "contourcarpet"
           }
          ],
          "heatmap": [
           {
            "colorbar": {
             "outlinewidth": 0,
             "ticks": ""
            },
            "colorscale": [
             [
              0,
              "#0d0887"
             ],
             [
              0.1111111111111111,
              "#46039f"
             ],
             [
              0.2222222222222222,
              "#7201a8"
             ],
             [
              0.3333333333333333,
              "#9c179e"
             ],
             [
              0.4444444444444444,
              "#bd3786"
             ],
             [
              0.5555555555555556,
              "#d8576b"
             ],
             [
              0.6666666666666666,
              "#ed7953"
             ],
             [
              0.7777777777777778,
              "#fb9f3a"
             ],
             [
              0.8888888888888888,
              "#fdca26"
             ],
             [
              1,
              "#f0f921"
             ]
            ],
            "type": "heatmap"
           }
          ],
          "heatmapgl": [
           {
            "colorbar": {
             "outlinewidth": 0,
             "ticks": ""
            },
            "colorscale": [
             [
              0,
              "#0d0887"
             ],
             [
              0.1111111111111111,
              "#46039f"
             ],
             [
              0.2222222222222222,
              "#7201a8"
             ],
             [
              0.3333333333333333,
              "#9c179e"
             ],
             [
              0.4444444444444444,
              "#bd3786"
             ],
             [
              0.5555555555555556,
              "#d8576b"
             ],
             [
              0.6666666666666666,
              "#ed7953"
             ],
             [
              0.7777777777777778,
              "#fb9f3a"
             ],
             [
              0.8888888888888888,
              "#fdca26"
             ],
             [
              1,
              "#f0f921"
             ]
            ],
            "type": "heatmapgl"
           }
          ],
          "histogram": [
           {
            "marker": {
             "pattern": {
              "fillmode": "overlay",
              "size": 10,
              "solidity": 0.2
             }
            },
            "type": "histogram"
           }
          ],
          "histogram2d": [
           {
            "colorbar": {
             "outlinewidth": 0,
             "ticks": ""
            },
            "colorscale": [
             [
              0,
              "#0d0887"
             ],
             [
              0.1111111111111111,
              "#46039f"
             ],
             [
              0.2222222222222222,
              "#7201a8"
             ],
             [
              0.3333333333333333,
              "#9c179e"
             ],
             [
              0.4444444444444444,
              "#bd3786"
             ],
             [
              0.5555555555555556,
              "#d8576b"
             ],
             [
              0.6666666666666666,
              "#ed7953"
             ],
             [
              0.7777777777777778,
              "#fb9f3a"
             ],
             [
              0.8888888888888888,
              "#fdca26"
             ],
             [
              1,
              "#f0f921"
             ]
            ],
            "type": "histogram2d"
           }
          ],
          "histogram2dcontour": [
           {
            "colorbar": {
             "outlinewidth": 0,
             "ticks": ""
            },
            "colorscale": [
             [
              0,
              "#0d0887"
             ],
             [
              0.1111111111111111,
              "#46039f"
             ],
             [
              0.2222222222222222,
              "#7201a8"
             ],
             [
              0.3333333333333333,
              "#9c179e"
             ],
             [
              0.4444444444444444,
              "#bd3786"
             ],
             [
              0.5555555555555556,
              "#d8576b"
             ],
             [
              0.6666666666666666,
              "#ed7953"
             ],
             [
              0.7777777777777778,
              "#fb9f3a"
             ],
             [
              0.8888888888888888,
              "#fdca26"
             ],
             [
              1,
              "#f0f921"
             ]
            ],
            "type": "histogram2dcontour"
           }
          ],
          "mesh3d": [
           {
            "colorbar": {
             "outlinewidth": 0,
             "ticks": ""
            },
            "type": "mesh3d"
           }
          ],
          "parcoords": [
           {
            "line": {
             "colorbar": {
              "outlinewidth": 0,
              "ticks": ""
             }
            },
            "type": "parcoords"
           }
          ],
          "pie": [
           {
            "automargin": true,
            "type": "pie"
           }
          ],
          "scatter": [
           {
            "fillpattern": {
             "fillmode": "overlay",
             "size": 10,
             "solidity": 0.2
            },
            "type": "scatter"
           }
          ],
          "scatter3d": [
           {
            "line": {
             "colorbar": {
              "outlinewidth": 0,
              "ticks": ""
             }
            },
            "marker": {
             "colorbar": {
              "outlinewidth": 0,
              "ticks": ""
             }
            },
            "type": "scatter3d"
           }
          ],
          "scattercarpet": [
           {
            "marker": {
             "colorbar": {
              "outlinewidth": 0,
              "ticks": ""
             }
            },
            "type": "scattercarpet"
           }
          ],
          "scattergeo": [
           {
            "marker": {
             "colorbar": {
              "outlinewidth": 0,
              "ticks": ""
             }
            },
            "type": "scattergeo"
           }
          ],
          "scattergl": [
           {
            "marker": {
             "colorbar": {
              "outlinewidth": 0,
              "ticks": ""
             }
            },
            "type": "scattergl"
           }
          ],
          "scattermapbox": [
           {
            "marker": {
             "colorbar": {
              "outlinewidth": 0,
              "ticks": ""
             }
            },
            "type": "scattermapbox"
           }
          ],
          "scatterpolar": [
           {
            "marker": {
             "colorbar": {
              "outlinewidth": 0,
              "ticks": ""
             }
            },
            "type": "scatterpolar"
           }
          ],
          "scatterpolargl": [
           {
            "marker": {
             "colorbar": {
              "outlinewidth": 0,
              "ticks": ""
             }
            },
            "type": "scatterpolargl"
           }
          ],
          "scatterternary": [
           {
            "marker": {
             "colorbar": {
              "outlinewidth": 0,
              "ticks": ""
             }
            },
            "type": "scatterternary"
           }
          ],
          "surface": [
           {
            "colorbar": {
             "outlinewidth": 0,
             "ticks": ""
            },
            "colorscale": [
             [
              0,
              "#0d0887"
             ],
             [
              0.1111111111111111,
              "#46039f"
             ],
             [
              0.2222222222222222,
              "#7201a8"
             ],
             [
              0.3333333333333333,
              "#9c179e"
             ],
             [
              0.4444444444444444,
              "#bd3786"
             ],
             [
              0.5555555555555556,
              "#d8576b"
             ],
             [
              0.6666666666666666,
              "#ed7953"
             ],
             [
              0.7777777777777778,
              "#fb9f3a"
             ],
             [
              0.8888888888888888,
              "#fdca26"
             ],
             [
              1,
              "#f0f921"
             ]
            ],
            "type": "surface"
           }
          ],
          "table": [
           {
            "cells": {
             "fill": {
              "color": "#EBF0F8"
             },
             "line": {
              "color": "white"
             }
            },
            "header": {
             "fill": {
              "color": "#C8D4E3"
             },
             "line": {
              "color": "white"
             }
            },
            "type": "table"
           }
          ]
         },
         "layout": {
          "annotationdefaults": {
           "arrowcolor": "#2a3f5f",
           "arrowhead": 0,
           "arrowwidth": 1
          },
          "autotypenumbers": "strict",
          "coloraxis": {
           "colorbar": {
            "outlinewidth": 0,
            "ticks": ""
           }
          },
          "colorscale": {
           "diverging": [
            [
             0,
             "#8e0152"
            ],
            [
             0.1,
             "#c51b7d"
            ],
            [
             0.2,
             "#de77ae"
            ],
            [
             0.3,
             "#f1b6da"
            ],
            [
             0.4,
             "#fde0ef"
            ],
            [
             0.5,
             "#f7f7f7"
            ],
            [
             0.6,
             "#e6f5d0"
            ],
            [
             0.7,
             "#b8e186"
            ],
            [
             0.8,
             "#7fbc41"
            ],
            [
             0.9,
             "#4d9221"
            ],
            [
             1,
             "#276419"
            ]
           ],
           "sequential": [
            [
             0,
             "#0d0887"
            ],
            [
             0.1111111111111111,
             "#46039f"
            ],
            [
             0.2222222222222222,
             "#7201a8"
            ],
            [
             0.3333333333333333,
             "#9c179e"
            ],
            [
             0.4444444444444444,
             "#bd3786"
            ],
            [
             0.5555555555555556,
             "#d8576b"
            ],
            [
             0.6666666666666666,
             "#ed7953"
            ],
            [
             0.7777777777777778,
             "#fb9f3a"
            ],
            [
             0.8888888888888888,
             "#fdca26"
            ],
            [
             1,
             "#f0f921"
            ]
           ],
           "sequentialminus": [
            [
             0,
             "#0d0887"
            ],
            [
             0.1111111111111111,
             "#46039f"
            ],
            [
             0.2222222222222222,
             "#7201a8"
            ],
            [
             0.3333333333333333,
             "#9c179e"
            ],
            [
             0.4444444444444444,
             "#bd3786"
            ],
            [
             0.5555555555555556,
             "#d8576b"
            ],
            [
             0.6666666666666666,
             "#ed7953"
            ],
            [
             0.7777777777777778,
             "#fb9f3a"
            ],
            [
             0.8888888888888888,
             "#fdca26"
            ],
            [
             1,
             "#f0f921"
            ]
           ]
          },
          "colorway": [
           "#636efa",
           "#EF553B",
           "#00cc96",
           "#ab63fa",
           "#FFA15A",
           "#19d3f3",
           "#FF6692",
           "#B6E880",
           "#FF97FF",
           "#FECB52"
          ],
          "font": {
           "color": "#2a3f5f"
          },
          "geo": {
           "bgcolor": "white",
           "lakecolor": "white",
           "landcolor": "#E5ECF6",
           "showlakes": true,
           "showland": true,
           "subunitcolor": "white"
          },
          "hoverlabel": {
           "align": "left"
          },
          "hovermode": "closest",
          "mapbox": {
           "style": "light"
          },
          "paper_bgcolor": "white",
          "plot_bgcolor": "#E5ECF6",
          "polar": {
           "angularaxis": {
            "gridcolor": "white",
            "linecolor": "white",
            "ticks": ""
           },
           "bgcolor": "#E5ECF6",
           "radialaxis": {
            "gridcolor": "white",
            "linecolor": "white",
            "ticks": ""
           }
          },
          "scene": {
           "xaxis": {
            "backgroundcolor": "#E5ECF6",
            "gridcolor": "white",
            "gridwidth": 2,
            "linecolor": "white",
            "showbackground": true,
            "ticks": "",
            "zerolinecolor": "white"
           },
           "yaxis": {
            "backgroundcolor": "#E5ECF6",
            "gridcolor": "white",
            "gridwidth": 2,
            "linecolor": "white",
            "showbackground": true,
            "ticks": "",
            "zerolinecolor": "white"
           },
           "zaxis": {
            "backgroundcolor": "#E5ECF6",
            "gridcolor": "white",
            "gridwidth": 2,
            "linecolor": "white",
            "showbackground": true,
            "ticks": "",
            "zerolinecolor": "white"
           }
          },
          "shapedefaults": {
           "line": {
            "color": "#2a3f5f"
           }
          },
          "ternary": {
           "aaxis": {
            "gridcolor": "white",
            "linecolor": "white",
            "ticks": ""
           },
           "baxis": {
            "gridcolor": "white",
            "linecolor": "white",
            "ticks": ""
           },
           "bgcolor": "#E5ECF6",
           "caxis": {
            "gridcolor": "white",
            "linecolor": "white",
            "ticks": ""
           }
          },
          "title": {
           "x": 0.05
          },
          "xaxis": {
           "automargin": true,
           "gridcolor": "white",
           "linecolor": "white",
           "ticks": "",
           "title": {
            "standoff": 15
           },
           "zerolinecolor": "white",
           "zerolinewidth": 2
          },
          "yaxis": {
           "automargin": true,
           "gridcolor": "white",
           "linecolor": "white",
           "ticks": "",
           "title": {
            "standoff": 15
           },
           "zerolinecolor": "white",
           "zerolinewidth": 2
          }
         }
        }
       }
      }
     },
     "metadata": {},
     "output_type": "display_data"
    }
   ],
   "source": [
    "visualize_kmeans_clustering_3d(dataframe = df,\n",
    "                                      df_topics= df_topics,\n",
    "                                      num_clusters = kmeans_settings[\"num_clusters\"],\n",
    "                                      pca_components = kmeans_settings[\"pca_components\"])"
   ]
  },
  {
   "cell_type": "markdown",
   "id": "ad512fee",
   "metadata": {},
   "source": [
    "## Relevance X Sentiment of Articles K-MEANS"
   ]
  },
  {
   "cell_type": "markdown",
   "id": "7c27d2dd",
   "metadata": {},
   "source": [
    "This visualization is a 2D clustering (using k-means) of the sentiment-weighted topic relevance values of every article. By that, we mean we have the relevance values of each article for every topic. We multiply each of those relevance values by that topic's associated sentiment value for an article, giving us a weighted relevance value based on the sentiment of that article towards that topic.\n",
    "\n",
    "With that information, we use the same clustering algorithm as the 2D k-means graph above to produce a 2D topic space for every article, but this time it is weighted by the article's sentiment towards the topics."
   ]
  },
  {
   "cell_type": "code",
   "execution_count": 18,
   "id": "bf536faf",
   "metadata": {},
   "outputs": [
    {
     "name": "stderr",
     "output_type": "stream",
     "text": [
      "c:\\Users\\biehl\\AppData\\Local\\Programs\\Python\\Python310\\lib\\site-packages\\sklearn\\utils\\validation.py:767: FutureWarning:\n",
      "\n",
      "is_sparse is deprecated and will be removed in a future version. Check `isinstance(dtype, pd.SparseDtype)` instead.\n",
      "\n",
      "c:\\Users\\biehl\\AppData\\Local\\Programs\\Python\\Python310\\lib\\site-packages\\sklearn\\utils\\validation.py:605: FutureWarning:\n",
      "\n",
      "is_sparse is deprecated and will be removed in a future version. Check `isinstance(dtype, pd.SparseDtype)` instead.\n",
      "\n",
      "c:\\Users\\biehl\\AppData\\Local\\Programs\\Python\\Python310\\lib\\site-packages\\sklearn\\utils\\validation.py:614: FutureWarning:\n",
      "\n",
      "is_sparse is deprecated and will be removed in a future version. Check `isinstance(dtype, pd.SparseDtype)` instead.\n",
      "\n"
     ]
    },
    {
     "data": {
      "image/png": "[encoded data removed]",
      "text/plain": [
       "<Figure size 1000x1000 with 1 Axes>"
      ]
     },
     "metadata": {},
     "output_type": "display_data"
    }
   ],
   "source": [
    "# Gather weighted sentiment values into a dataframe\n",
    "result = multiply_tuples_in_dataframe(per_topic_df)\n",
    "\n",
    "visualize_kmeans_clustering(df_topics= result,\n",
    "                            num_clusters = kmeans_settings[\"num_clusters\"],\n",
    "                            pca_components = kmeans_settings[\"pca_components\"])\n"
   ]
  },
  {
   "cell_type": "markdown",
   "id": "e733cc30",
   "metadata": {},
   "source": [
    "# Sentiment VS Relevance Per Topic"
   ]
  },
  {
   "cell_type": "markdown",
   "id": "ee6e5f0c",
   "metadata": {},
   "source": [
    "A scatter plot of sentiment values against relevance values of each selected topic. This will display a scatter plot with sentiment values on the x-axis and relevance values on the y-axis, along with a tooltip. "
   ]
  },
  {
   "cell_type": "code",
   "execution_count": 19,
   "id": "7f2bab4b",
   "metadata": {
    "scrolled": false
   },
   "outputs": [
    {
     "data": {
      "image/png": "[encoded data removed]",
      "text/plain": [
       "<Figure size 1000x600 with 1 Axes>"
      ]
     },
     "metadata": {},
     "output_type": "display_data"
    },
    {
     "data": {
      "image/png": "[encoded data removed]",
      "text/plain": [
       "<Figure size 1000x600 with 1 Axes>"
      ]
     },
     "metadata": {},
     "output_type": "display_data"
    }
   ],
   "source": [
    "for topic_id in list_of_topics_to_visualize:\n",
    "    plot_sentiment_relevance(per_topic_df[:][topic_id])"
   ]
  },
  {
   "cell_type": "markdown",
   "id": "bbc0d17a",
   "metadata": {},
   "source": [
    "# Topic Space"
   ]
  },
  {
   "cell_type": "markdown",
   "id": "75a85dd1",
   "metadata": {},
   "source": [
    "Applying principle component analysis(PCA) will reduce the high dimensional topic space into a simple two dimensional space. 2 dimensions is easy for us to interpret but also hold alot of information."
   ]
  },
  {
   "cell_type": "code",
   "execution_count": 20,
   "id": "db2f3c1b",
   "metadata": {},
   "outputs": [
    {
     "name": "stderr",
     "output_type": "stream",
     "text": [
      "c:\\Users\\biehl\\AppData\\Local\\Programs\\Python\\Python310\\lib\\site-packages\\sklearn\\utils\\validation.py:767: FutureWarning:\n",
      "\n",
      "is_sparse is deprecated and will be removed in a future version. Check `isinstance(dtype, pd.SparseDtype)` instead.\n",
      "\n",
      "c:\\Users\\biehl\\AppData\\Local\\Programs\\Python\\Python310\\lib\\site-packages\\sklearn\\utils\\validation.py:605: FutureWarning:\n",
      "\n",
      "is_sparse is deprecated and will be removed in a future version. Check `isinstance(dtype, pd.SparseDtype)` instead.\n",
      "\n",
      "c:\\Users\\biehl\\AppData\\Local\\Programs\\Python\\Python310\\lib\\site-packages\\sklearn\\utils\\validation.py:614: FutureWarning:\n",
      "\n",
      "is_sparse is deprecated and will be removed in a future version. Check `isinstance(dtype, pd.SparseDtype)` instead.\n",
      "\n"
     ]
    }
   ],
   "source": [
    "topic_space = dimension_reduction(df_topics)"
   ]
  },
  {
   "cell_type": "markdown",
   "id": "7eb20594",
   "metadata": {},
   "source": [
    "Visualize the topic space after principle component analysis(PCA) is applied to reduce the topic model results to two dimensions. Plots each point in the topic space, the distance is directly related to how similar the topics are to each other. This will expose any outlier topics as well as topics that might be quite similar. The ideal plot is one where topics are equal distance from each other."
   ]
  },
  {
   "cell_type": "code",
   "execution_count": 21,
   "id": "db4f3f74",
   "metadata": {},
   "outputs": [
    {
     "data": {
      "image/png": "[encoded data removed]",
      "text/plain": [
       "<Figure size 800x600 with 1 Axes>"
      ]
     },
     "metadata": {},
     "output_type": "display_data"
    }
   ],
   "source": [
    "plot_pca(topic_space)"
   ]
  },
  {
   "cell_type": "markdown",
   "id": "3467e9fb",
   "metadata": {},
   "source": [
    "# Document Sentiment in Topic Space"
   ]
  },
  {
   "cell_type": "markdown",
   "id": "923c138a",
   "metadata": {},
   "source": [
    "Here is where each document is added to the topic space, the documents are closer or further from each topic based on the relavence score given to each document. Then a color is added to each document to represent the sentiment score. Red represents a negative sentiment while green represents a positive sentiment."
   ]
  },
  {
   "cell_type": "code",
   "execution_count": 70,
   "id": "c77283c3",
   "metadata": {},
   "outputs": [
    {
     "data": {
      "image/png": "[encoded data removed]",
      "text/plain": [
       "<Figure size 640x480 with 1 Axes>"
      ]
     },
     "metadata": {},
     "output_type": "display_data"
    }
   ],
   "source": [
    "%run DataVisualization.ipynb\n",
    "plot_documents(df_topics, topic_space, df)"
   ]
  },
  {
   "cell_type": "markdown",
   "id": "a19d6974",
   "metadata": {},
   "source": [
    "# Document Density in Topic Space"
   ]
  },
  {
   "cell_type": "markdown",
   "id": "68ab3124",
   "metadata": {},
   "source": [
    "This plots the density of documents that were plotted in the topic space. Red is hot zones where many documents fall while white is where very little documents show up. This will help understand the topics that the majority of the articles are covering."
   ]
  },
  {
   "cell_type": "code",
   "execution_count": 71,
   "id": "ebbae2b7",
   "metadata": {},
   "outputs": [
    {
     "data": {
      "image/png": "[encoded data removed]",
      "text/plain": [
       "<Figure size 1000x800 with 2 Axes>"
      ]
     },
     "metadata": {},
     "output_type": "display_data"
    }
   ],
   "source": [
    "plot_topic_heatmap(df_topics, topic_space)"
   ]
  },
  {
   "cell_type": "markdown",
   "id": "adc9e666",
   "metadata": {},
   "source": [
    "# Sentiment Sum Heatmap in Topic Space"
   ]
  },
  {
   "cell_type": "markdown",
   "id": "183585ce",
   "metadata": {},
   "source": [
    "This graph plots the normalized sentiment in each area of the topic space. Green being the more positive topics, while red is more negative. Each documents sentiment is added to the area of the heatmap and then normalized to be able to visualize where the positive and negative topics lie in the topic space more easily."
   ]
  },
  {
   "cell_type": "code",
   "execution_count": 69,
   "id": "8682cb73",
   "metadata": {},
   "outputs": [
    {
     "data": {
      "image/png": "[encoded data removed]",
      "text/plain": [
       "<Figure size 640x480 with 2 Axes>"
      ]
     },
     "metadata": {},
     "output_type": "display_data"
    }
   ],
   "source": [
    "plot_sentiment_heatmap(df_topics, topic_space, df)"
   ]
  }
 ],
 "metadata": {
  "kernelspec": {
   "display_name": "Python 3",
   "language": "python",
   "name": "python3"
  },
  "language_info": {
   "codemirror_mode": {
    "name": "ipython",
    "version": 3
   },
   "file_extension": ".py",
   "mimetype": "text/x-python",
   "name": "python",
   "nbconvert_exporter": "python",
   "pygments_lexer": "ipython3",
   "version": "3.10.4"
  }
 },
 "nbformat": 4,
 "nbformat_minor": 5
}
