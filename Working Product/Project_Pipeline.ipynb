{
 "cells": [
  {
   "cell_type": "markdown",
   "id": "c9dccd1a",
   "metadata": {},
   "source": [
    "# Latent News Probability Model"
   ]
  },
  {
   "cell_type": "markdown",
   "id": "01049288",
   "metadata": {},
   "source": [
    "Directly below contains the pip installs that are required for this project. If you run this code and still don't have the required packages, you may need to add a `!pip install [library_name]` into this code block. This does not need to be run every time the model is used. P.S it might be better to run one pip install command at a time, because they can take a long time to run.\n",
    "\n",
    "IMPORTANT: If you are running this for the first time you may need to download these packages before continuing:"
   ]
  },
  {
   "cell_type": "code",
   "execution_count": 1,
   "id": "15ba699a",
   "metadata": {},
   "outputs": [
    {
     "name": "stdout",
     "output_type": "stream",
     "text": [
      "Requirement already satisfied: pandas in c:\\users\\deven\\appdata\\local\\programs\\python\\python311\\lib\\site-packages (2.1.1)\n",
      "Requirement already satisfied: numpy>=1.23.2 in c:\\users\\deven\\appdata\\local\\programs\\python\\python311\\lib\\site-packages (from pandas) (1.26.1)\n",
      "Requirement already satisfied: python-dateutil>=2.8.2 in c:\\users\\deven\\appdata\\roaming\\python\\python311\\site-packages (from pandas) (2.8.2)\n",
      "Requirement already satisfied: pytz>=2020.1 in c:\\users\\deven\\appdata\\local\\programs\\python\\python311\\lib\\site-packages (from pandas) (2023.3.post1)\n",
      "Requirement already satisfied: tzdata>=2022.1 in c:\\users\\deven\\appdata\\local\\programs\\python\\python311\\lib\\site-packages (from pandas) (2023.3)\n",
      "Requirement already satisfied: six>=1.5 in c:\\users\\deven\\appdata\\roaming\\python\\python311\\site-packages (from python-dateutil>=2.8.2->pandas) (1.16.0)\n"
     ]
    },
    {
     "name": "stderr",
     "output_type": "stream",
     "text": [
      "\n",
      "[notice] A new release of pip is available: 23.2.1 -> 23.3.1\n",
      "[notice] To update, run: python.exe -m pip install --upgrade pip\n"
     ]
    },
    {
     "name": "stdout",
     "output_type": "stream",
     "text": [
      "Requirement already satisfied: spacy in c:\\users\\deven\\appdata\\local\\programs\\python\\python311\\lib\\site-packages (3.7.2)\n",
      "Requirement already satisfied: spacy-legacy<3.1.0,>=3.0.11 in c:\\users\\deven\\appdata\\local\\programs\\python\\python311\\lib\\site-packages (from spacy) (3.0.12)\n",
      "Requirement already satisfied: spacy-loggers<2.0.0,>=1.0.0 in c:\\users\\deven\\appdata\\local\\programs\\python\\python311\\lib\\site-packages (from spacy) (1.0.5)\n",
      "Requirement already satisfied: murmurhash<1.1.0,>=0.28.0 in c:\\users\\deven\\appdata\\local\\programs\\python\\python311\\lib\\site-packages (from spacy) (1.0.10)\n",
      "Requirement already satisfied: cymem<2.1.0,>=2.0.2 in c:\\users\\deven\\appdata\\local\\programs\\python\\python311\\lib\\site-packages (from spacy) (2.0.8)\n",
      "Requirement already satisfied: preshed<3.1.0,>=3.0.2 in c:\\users\\deven\\appdata\\local\\programs\\python\\python311\\lib\\site-packages (from spacy) (3.0.9)\n",
      "Requirement already satisfied: thinc<8.3.0,>=8.1.8 in c:\\users\\deven\\appdata\\local\\programs\\python\\python311\\lib\\site-packages (from spacy) (8.2.1)\n",
      "Requirement already satisfied: wasabi<1.2.0,>=0.9.1 in c:\\users\\deven\\appdata\\local\\programs\\python\\python311\\lib\\site-packages (from spacy) (1.1.2)\n",
      "Requirement already satisfied: srsly<3.0.0,>=2.4.3 in c:\\users\\deven\\appdata\\local\\programs\\python\\python311\\lib\\site-packages (from spacy) (2.4.8)\n",
      "Requirement already satisfied: catalogue<2.1.0,>=2.0.6 in c:\\users\\deven\\appdata\\local\\programs\\python\\python311\\lib\\site-packages (from spacy) (2.0.10)\n",
      "Requirement already satisfied: weasel<0.4.0,>=0.1.0 in c:\\users\\deven\\appdata\\local\\programs\\python\\python311\\lib\\site-packages (from spacy) (0.3.3)\n",
      "Requirement already satisfied: typer<0.10.0,>=0.3.0 in c:\\users\\deven\\appdata\\local\\programs\\python\\python311\\lib\\site-packages (from spacy) (0.9.0)\n",
      "Requirement already satisfied: smart-open<7.0.0,>=5.2.1 in c:\\users\\deven\\appdata\\local\\programs\\python\\python311\\lib\\site-packages (from spacy) (6.4.0)\n",
      "Requirement already satisfied: tqdm<5.0.0,>=4.38.0 in c:\\users\\deven\\appdata\\local\\programs\\python\\python311\\lib\\site-packages (from spacy) (4.66.1)\n",
      "Requirement already satisfied: requests<3.0.0,>=2.13.0 in c:\\users\\deven\\appdata\\local\\programs\\python\\python311\\lib\\site-packages (from spacy) (2.31.0)\n",
      "Requirement already satisfied: pydantic!=1.8,!=1.8.1,<3.0.0,>=1.7.4 in c:\\users\\deven\\appdata\\local\\programs\\python\\python311\\lib\\site-packages (from spacy) (2.4.2)\n",
      "Requirement already satisfied: jinja2 in c:\\users\\deven\\appdata\\local\\programs\\python\\python311\\lib\\site-packages (from spacy) (3.1.2)\n",
      "Requirement already satisfied: setuptools in c:\\users\\deven\\appdata\\local\\programs\\python\\python311\\lib\\site-packages (from spacy) (65.5.0)\n",
      "Requirement already satisfied: packaging>=20.0 in c:\\users\\deven\\appdata\\roaming\\python\\python311\\site-packages (from spacy) (23.1)\n",
      "Requirement already satisfied: langcodes<4.0.0,>=3.2.0 in c:\\users\\deven\\appdata\\local\\programs\\python\\python311\\lib\\site-packages (from spacy) (3.3.0)\n",
      "Requirement already satisfied: numpy>=1.19.0 in c:\\users\\deven\\appdata\\local\\programs\\python\\python311\\lib\\site-packages (from spacy) (1.26.1)\n",
      "Requirement already satisfied: annotated-types>=0.4.0 in c:\\users\\deven\\appdata\\local\\programs\\python\\python311\\lib\\site-packages (from pydantic!=1.8,!=1.8.1,<3.0.0,>=1.7.4->spacy) (0.6.0)\n",
      "Requirement already satisfied: pydantic-core==2.10.1 in c:\\users\\deven\\appdata\\local\\programs\\python\\python311\\lib\\site-packages (from pydantic!=1.8,!=1.8.1,<3.0.0,>=1.7.4->spacy) (2.10.1)\n",
      "Requirement already satisfied: typing-extensions>=4.6.1 in c:\\users\\deven\\appdata\\local\\programs\\python\\python311\\lib\\site-packages (from pydantic!=1.8,!=1.8.1,<3.0.0,>=1.7.4->spacy) (4.8.0)\n",
      "Requirement already satisfied: charset-normalizer<4,>=2 in c:\\users\\deven\\appdata\\local\\programs\\python\\python311\\lib\\site-packages (from requests<3.0.0,>=2.13.0->spacy) (3.3.1)\n",
      "Requirement already satisfied: idna<4,>=2.5 in c:\\users\\deven\\appdata\\local\\programs\\python\\python311\\lib\\site-packages (from requests<3.0.0,>=2.13.0->spacy) (3.4)\n",
      "Requirement already satisfied: urllib3<3,>=1.21.1 in c:\\users\\deven\\appdata\\local\\programs\\python\\python311\\lib\\site-packages (from requests<3.0.0,>=2.13.0->spacy) (2.0.7)\n",
      "Requirement already satisfied: certifi>=2017.4.17 in c:\\users\\deven\\appdata\\local\\programs\\python\\python311\\lib\\site-packages (from requests<3.0.0,>=2.13.0->spacy) (2023.7.22)\n",
      "Requirement already satisfied: blis<0.8.0,>=0.7.8 in c:\\users\\deven\\appdata\\local\\programs\\python\\python311\\lib\\site-packages (from thinc<8.3.0,>=8.1.8->spacy) (0.7.11)\n",
      "Requirement already satisfied: confection<1.0.0,>=0.0.1 in c:\\users\\deven\\appdata\\local\\programs\\python\\python311\\lib\\site-packages (from thinc<8.3.0,>=8.1.8->spacy) (0.1.3)\n",
      "Requirement already satisfied: colorama in c:\\users\\deven\\appdata\\roaming\\python\\python311\\site-packages (from tqdm<5.0.0,>=4.38.0->spacy) (0.4.6)\n",
      "Requirement already satisfied: click<9.0.0,>=7.1.1 in c:\\users\\deven\\appdata\\local\\programs\\python\\python311\\lib\\site-packages (from typer<0.10.0,>=0.3.0->spacy) (8.1.7)\n",
      "Requirement already satisfied: cloudpathlib<0.17.0,>=0.7.0 in c:\\users\\deven\\appdata\\local\\programs\\python\\python311\\lib\\site-packages (from weasel<0.4.0,>=0.1.0->spacy) (0.16.0)\n",
      "Requirement already satisfied: MarkupSafe>=2.0 in c:\\users\\deven\\appdata\\local\\programs\\python\\python311\\lib\\site-packages (from jinja2->spacy) (2.1.3)\n"
     ]
    },
    {
     "name": "stderr",
     "output_type": "stream",
     "text": [
      "\n",
      "[notice] A new release of pip is available: 23.2.1 -> 23.3.1\n",
      "[notice] To update, run: python.exe -m pip install --upgrade pip\n"
     ]
    },
    {
     "name": "stdout",
     "output_type": "stream",
     "text": [
      "Requirement already satisfied: spacytextblob in c:\\users\\deven\\appdata\\local\\programs\\python\\python311\\lib\\site-packages (4.0.0)\n",
      "Requirement already satisfied: spacy<4.0,>=3.0 in c:\\users\\deven\\appdata\\local\\programs\\python\\python311\\lib\\site-packages (from spacytextblob) (3.7.2)\n",
      "Requirement already satisfied: textblob<0.16.0,>=0.15.3 in c:\\users\\deven\\appdata\\local\\programs\\python\\python311\\lib\\site-packages (from spacytextblob) (0.15.3)\n",
      "Requirement already satisfied: spacy-legacy<3.1.0,>=3.0.11 in c:\\users\\deven\\appdata\\local\\programs\\python\\python311\\lib\\site-packages (from spacy<4.0,>=3.0->spacytextblob) (3.0.12)\n",
      "Requirement already satisfied: spacy-loggers<2.0.0,>=1.0.0 in c:\\users\\deven\\appdata\\local\\programs\\python\\python311\\lib\\site-packages (from spacy<4.0,>=3.0->spacytextblob) (1.0.5)\n",
      "Requirement already satisfied: murmurhash<1.1.0,>=0.28.0 in c:\\users\\deven\\appdata\\local\\programs\\python\\python311\\lib\\site-packages (from spacy<4.0,>=3.0->spacytextblob) (1.0.10)\n",
      "Requirement already satisfied: cymem<2.1.0,>=2.0.2 in c:\\users\\deven\\appdata\\local\\programs\\python\\python311\\lib\\site-packages (from spacy<4.0,>=3.0->spacytextblob) (2.0.8)\n",
      "Requirement already satisfied: preshed<3.1.0,>=3.0.2 in c:\\users\\deven\\appdata\\local\\programs\\python\\python311\\lib\\site-packages (from spacy<4.0,>=3.0->spacytextblob) (3.0.9)\n",
      "Requirement already satisfied: thinc<8.3.0,>=8.1.8 in c:\\users\\deven\\appdata\\local\\programs\\python\\python311\\lib\\site-packages (from spacy<4.0,>=3.0->spacytextblob) (8.2.1)\n",
      "Requirement already satisfied: wasabi<1.2.0,>=0.9.1 in c:\\users\\deven\\appdata\\local\\programs\\python\\python311\\lib\\site-packages (from spacy<4.0,>=3.0->spacytextblob) (1.1.2)\n",
      "Requirement already satisfied: srsly<3.0.0,>=2.4.3 in c:\\users\\deven\\appdata\\local\\programs\\python\\python311\\lib\\site-packages (from spacy<4.0,>=3.0->spacytextblob) (2.4.8)\n",
      "Requirement already satisfied: catalogue<2.1.0,>=2.0.6 in c:\\users\\deven\\appdata\\local\\programs\\python\\python311\\lib\\site-packages (from spacy<4.0,>=3.0->spacytextblob) (2.0.10)\n",
      "Requirement already satisfied: weasel<0.4.0,>=0.1.0 in c:\\users\\deven\\appdata\\local\\programs\\python\\python311\\lib\\site-packages (from spacy<4.0,>=3.0->spacytextblob) (0.3.3)\n",
      "Requirement already satisfied: typer<0.10.0,>=0.3.0 in c:\\users\\deven\\appdata\\local\\programs\\python\\python311\\lib\\site-packages (from spacy<4.0,>=3.0->spacytextblob) (0.9.0)\n",
      "Requirement already satisfied: smart-open<7.0.0,>=5.2.1 in c:\\users\\deven\\appdata\\local\\programs\\python\\python311\\lib\\site-packages (from spacy<4.0,>=3.0->spacytextblob) (6.4.0)\n",
      "Requirement already satisfied: tqdm<5.0.0,>=4.38.0 in c:\\users\\deven\\appdata\\local\\programs\\python\\python311\\lib\\site-packages (from spacy<4.0,>=3.0->spacytextblob) (4.66.1)\n",
      "Requirement already satisfied: requests<3.0.0,>=2.13.0 in c:\\users\\deven\\appdata\\local\\programs\\python\\python311\\lib\\site-packages (from spacy<4.0,>=3.0->spacytextblob) (2.31.0)\n",
      "Requirement already satisfied: pydantic!=1.8,!=1.8.1,<3.0.0,>=1.7.4 in c:\\users\\deven\\appdata\\local\\programs\\python\\python311\\lib\\site-packages (from spacy<4.0,>=3.0->spacytextblob) (2.4.2)\n",
      "Requirement already satisfied: jinja2 in c:\\users\\deven\\appdata\\local\\programs\\python\\python311\\lib\\site-packages (from spacy<4.0,>=3.0->spacytextblob) (3.1.2)\n",
      "Requirement already satisfied: setuptools in c:\\users\\deven\\appdata\\local\\programs\\python\\python311\\lib\\site-packages (from spacy<4.0,>=3.0->spacytextblob) (65.5.0)\n",
      "Requirement already satisfied: packaging>=20.0 in c:\\users\\deven\\appdata\\roaming\\python\\python311\\site-packages (from spacy<4.0,>=3.0->spacytextblob) (23.1)\n",
      "Requirement already satisfied: langcodes<4.0.0,>=3.2.0 in c:\\users\\deven\\appdata\\local\\programs\\python\\python311\\lib\\site-packages (from spacy<4.0,>=3.0->spacytextblob) (3.3.0)\n",
      "Requirement already satisfied: numpy>=1.19.0 in c:\\users\\deven\\appdata\\local\\programs\\python\\python311\\lib\\site-packages (from spacy<4.0,>=3.0->spacytextblob) (1.26.1)\n",
      "Requirement already satisfied: nltk>=3.1 in c:\\users\\deven\\appdata\\local\\programs\\python\\python311\\lib\\site-packages (from textblob<0.16.0,>=0.15.3->spacytextblob) (3.8.1)\n",
      "Requirement already satisfied: click in c:\\users\\deven\\appdata\\local\\programs\\python\\python311\\lib\\site-packages (from nltk>=3.1->textblob<0.16.0,>=0.15.3->spacytextblob) (8.1.7)\n",
      "Requirement already satisfied: joblib in c:\\users\\deven\\appdata\\local\\programs\\python\\python311\\lib\\site-packages (from nltk>=3.1->textblob<0.16.0,>=0.15.3->spacytextblob) (1.3.2)\n",
      "Requirement already satisfied: regex>=2021.8.3 in c:\\users\\deven\\appdata\\local\\programs\\python\\python311\\lib\\site-packages (from nltk>=3.1->textblob<0.16.0,>=0.15.3->spacytextblob) (2023.10.3)\n",
      "Requirement already satisfied: annotated-types>=0.4.0 in c:\\users\\deven\\appdata\\local\\programs\\python\\python311\\lib\\site-packages (from pydantic!=1.8,!=1.8.1,<3.0.0,>=1.7.4->spacy<4.0,>=3.0->spacytextblob) (0.6.0)\n",
      "Requirement already satisfied: pydantic-core==2.10.1 in c:\\users\\deven\\appdata\\local\\programs\\python\\python311\\lib\\site-packages (from pydantic!=1.8,!=1.8.1,<3.0.0,>=1.7.4->spacy<4.0,>=3.0->spacytextblob) (2.10.1)\n",
      "Requirement already satisfied: typing-extensions>=4.6.1 in c:\\users\\deven\\appdata\\local\\programs\\python\\python311\\lib\\site-packages (from pydantic!=1.8,!=1.8.1,<3.0.0,>=1.7.4->spacy<4.0,>=3.0->spacytextblob) (4.8.0)\n",
      "Requirement already satisfied: charset-normalizer<4,>=2 in c:\\users\\deven\\appdata\\local\\programs\\python\\python311\\lib\\site-packages (from requests<3.0.0,>=2.13.0->spacy<4.0,>=3.0->spacytextblob) (3.3.1)\n",
      "Requirement already satisfied: idna<4,>=2.5 in c:\\users\\deven\\appdata\\local\\programs\\python\\python311\\lib\\site-packages (from requests<3.0.0,>=2.13.0->spacy<4.0,>=3.0->spacytextblob) (3.4)\n",
      "Requirement already satisfied: urllib3<3,>=1.21.1 in c:\\users\\deven\\appdata\\local\\programs\\python\\python311\\lib\\site-packages (from requests<3.0.0,>=2.13.0->spacy<4.0,>=3.0->spacytextblob) (2.0.7)\n",
      "Requirement already satisfied: certifi>=2017.4.17 in c:\\users\\deven\\appdata\\local\\programs\\python\\python311\\lib\\site-packages (from requests<3.0.0,>=2.13.0->spacy<4.0,>=3.0->spacytextblob) (2023.7.22)\n",
      "Requirement already satisfied: blis<0.8.0,>=0.7.8 in c:\\users\\deven\\appdata\\local\\programs\\python\\python311\\lib\\site-packages (from thinc<8.3.0,>=8.1.8->spacy<4.0,>=3.0->spacytextblob) (0.7.11)\n",
      "Requirement already satisfied: confection<1.0.0,>=0.0.1 in c:\\users\\deven\\appdata\\local\\programs\\python\\python311\\lib\\site-packages (from thinc<8.3.0,>=8.1.8->spacy<4.0,>=3.0->spacytextblob) (0.1.3)\n",
      "Requirement already satisfied: colorama in c:\\users\\deven\\appdata\\roaming\\python\\python311\\site-packages (from tqdm<5.0.0,>=4.38.0->spacy<4.0,>=3.0->spacytextblob) (0.4.6)\n",
      "Requirement already satisfied: cloudpathlib<0.17.0,>=0.7.0 in c:\\users\\deven\\appdata\\local\\programs\\python\\python311\\lib\\site-packages (from weasel<0.4.0,>=0.1.0->spacy<4.0,>=3.0->spacytextblob) (0.16.0)\n",
      "Requirement already satisfied: MarkupSafe>=2.0 in c:\\users\\deven\\appdata\\local\\programs\\python\\python311\\lib\\site-packages (from jinja2->spacy<4.0,>=3.0->spacytextblob) (2.1.3)\n"
     ]
    },
    {
     "name": "stderr",
     "output_type": "stream",
     "text": [
      "\n",
      "[notice] A new release of pip is available: 23.2.1 -> 23.3.1\n",
      "[notice] To update, run: python.exe -m pip install --upgrade pip\n"
     ]
    },
    {
     "name": "stdout",
     "output_type": "stream",
     "text": [
      "Collecting en-core-web-sm==3.7.0\n",
      "  Downloading https://github.com/explosion/spacy-models/releases/download/en_core_web_sm-3.7.0/en_core_web_sm-3.7.0-py3-none-any.whl (12.8 MB)\n",
      "     ---------------------------------------- 0.0/12.8 MB ? eta -:--:--\n",
      "     --------------------------------------- 0.0/12.8 MB 640.0 kB/s eta 0:00:20\n",
      "     ---------------------------------------- 0.2/12.8 MB 1.8 MB/s eta 0:00:07\n",
      "     - -------------------------------------- 0.5/12.8 MB 3.6 MB/s eta 0:00:04\n",
      "     --- ------------------------------------ 1.1/12.8 MB 6.4 MB/s eta 0:00:02\n",
      "     ---- ----------------------------------- 1.5/12.8 MB 7.3 MB/s eta 0:00:02\n",
      "     ------- -------------------------------- 2.4/12.8 MB 9.1 MB/s eta 0:00:02\n",
      "     --------- ------------------------------ 3.1/12.8 MB 9.7 MB/s eta 0:00:02\n",
      "     ---------- ----------------------------- 3.4/12.8 MB 9.5 MB/s eta 0:00:01\n",
      "     ----------- ---------------------------- 3.8/12.8 MB 9.4 MB/s eta 0:00:01\n",
      "     ------------- -------------------------- 4.3/12.8 MB 9.5 MB/s eta 0:00:01\n",
      "     --------------- ------------------------ 4.9/12.8 MB 9.8 MB/s eta 0:00:01\n",
      "     ----------------- ---------------------- 5.6/12.8 MB 10.2 MB/s eta 0:00:01\n",
      "     ------------------- -------------------- 6.3/12.8 MB 10.6 MB/s eta 0:00:01\n",
      "     --------------------- ------------------ 6.7/12.8 MB 10.5 MB/s eta 0:00:01\n",
      "     ----------------------- ---------------- 7.5/12.8 MB 10.8 MB/s eta 0:00:01\n",
      "     ------------------------- -------------- 8.1/12.8 MB 11.0 MB/s eta 0:00:01\n",
      "     --------------------------- ------------ 8.7/12.8 MB 11.2 MB/s eta 0:00:01\n",
      "     ----------------------------- ---------- 9.5/12.8 MB 11.5 MB/s eta 0:00:01\n",
      "     ------------------------------ -------- 10.1/12.8 MB 11.6 MB/s eta 0:00:01\n",
      "     -------------------------------- ------ 10.5/12.8 MB 12.6 MB/s eta 0:00:01\n",
      "     ---------------------------------- ---- 11.2/12.8 MB 12.8 MB/s eta 0:00:01\n",
      "     ------------------------------------ -- 11.9/12.8 MB 13.4 MB/s eta 0:00:01\n",
      "     --------------------------------------  12.6/12.8 MB 12.8 MB/s eta 0:00:01\n",
      "     --------------------------------------  12.8/12.8 MB 12.9 MB/s eta 0:00:01\n",
      "     --------------------------------------- 12.8/12.8 MB 12.1 MB/s eta 0:00:00\n",
      "Requirement already satisfied: spacy<3.8.0,>=3.7.0 in c:\\users\\deven\\appdata\\local\\programs\\python\\python311\\lib\\site-packages (from en-core-web-sm==3.7.0) (3.7.2)\n",
      "Requirement already satisfied: spacy-legacy<3.1.0,>=3.0.11 in c:\\users\\deven\\appdata\\local\\programs\\python\\python311\\lib\\site-packages (from spacy<3.8.0,>=3.7.0->en-core-web-sm==3.7.0) (3.0.12)\n",
      "Requirement already satisfied: spacy-loggers<2.0.0,>=1.0.0 in c:\\users\\deven\\appdata\\local\\programs\\python\\python311\\lib\\site-packages (from spacy<3.8.0,>=3.7.0->en-core-web-sm==3.7.0) (1.0.5)\n",
      "Requirement already satisfied: murmurhash<1.1.0,>=0.28.0 in c:\\users\\deven\\appdata\\local\\programs\\python\\python311\\lib\\site-packages (from spacy<3.8.0,>=3.7.0->en-core-web-sm==3.7.0) (1.0.10)\n",
      "Requirement already satisfied: cymem<2.1.0,>=2.0.2 in c:\\users\\deven\\appdata\\local\\programs\\python\\python311\\lib\\site-packages (from spacy<3.8.0,>=3.7.0->en-core-web-sm==3.7.0) (2.0.8)\n",
      "Requirement already satisfied: preshed<3.1.0,>=3.0.2 in c:\\users\\deven\\appdata\\local\\programs\\python\\python311\\lib\\site-packages (from spacy<3.8.0,>=3.7.0->en-core-web-sm==3.7.0) (3.0.9)\n",
      "Requirement already satisfied: thinc<8.3.0,>=8.1.8 in c:\\users\\deven\\appdata\\local\\programs\\python\\python311\\lib\\site-packages (from spacy<3.8.0,>=3.7.0->en-core-web-sm==3.7.0) (8.2.1)\n",
      "Requirement already satisfied: wasabi<1.2.0,>=0.9.1 in c:\\users\\deven\\appdata\\local\\programs\\python\\python311\\lib\\site-packages (from spacy<3.8.0,>=3.7.0->en-core-web-sm==3.7.0) (1.1.2)\n",
      "Requirement already satisfied: srsly<3.0.0,>=2.4.3 in c:\\users\\deven\\appdata\\local\\programs\\python\\python311\\lib\\site-packages (from spacy<3.8.0,>=3.7.0->en-core-web-sm==3.7.0) (2.4.8)\n",
      "Requirement already satisfied: catalogue<2.1.0,>=2.0.6 in c:\\users\\deven\\appdata\\local\\programs\\python\\python311\\lib\\site-packages (from spacy<3.8.0,>=3.7.0->en-core-web-sm==3.7.0) (2.0.10)\n",
      "Requirement already satisfied: weasel<0.4.0,>=0.1.0 in c:\\users\\deven\\appdata\\local\\programs\\python\\python311\\lib\\site-packages (from spacy<3.8.0,>=3.7.0->en-core-web-sm==3.7.0) (0.3.3)\n",
      "Requirement already satisfied: typer<0.10.0,>=0.3.0 in c:\\users\\deven\\appdata\\local\\programs\\python\\python311\\lib\\site-packages (from spacy<3.8.0,>=3.7.0->en-core-web-sm==3.7.0) (0.9.0)\n",
      "Requirement already satisfied: smart-open<7.0.0,>=5.2.1 in c:\\users\\deven\\appdata\\local\\programs\\python\\python311\\lib\\site-packages (from spacy<3.8.0,>=3.7.0->en-core-web-sm==3.7.0) (6.4.0)\n",
      "Requirement already satisfied: tqdm<5.0.0,>=4.38.0 in c:\\users\\deven\\appdata\\local\\programs\\python\\python311\\lib\\site-packages (from spacy<3.8.0,>=3.7.0->en-core-web-sm==3.7.0) (4.66.1)\n",
      "Requirement already satisfied: requests<3.0.0,>=2.13.0 in c:\\users\\deven\\appdata\\local\\programs\\python\\python311\\lib\\site-packages (from spacy<3.8.0,>=3.7.0->en-core-web-sm==3.7.0) (2.31.0)\n",
      "Requirement already satisfied: pydantic!=1.8,!=1.8.1,<3.0.0,>=1.7.4 in c:\\users\\deven\\appdata\\local\\programs\\python\\python311\\lib\\site-packages (from spacy<3.8.0,>=3.7.0->en-core-web-sm==3.7.0) (2.4.2)\n",
      "Requirement already satisfied: jinja2 in c:\\users\\deven\\appdata\\local\\programs\\python\\python311\\lib\\site-packages (from spacy<3.8.0,>=3.7.0->en-core-web-sm==3.7.0) (3.1.2)\n",
      "Requirement already satisfied: setuptools in c:\\users\\deven\\appdata\\local\\programs\\python\\python311\\lib\\site-packages (from spacy<3.8.0,>=3.7.0->en-core-web-sm==3.7.0) (65.5.0)\n",
      "Requirement already satisfied: packaging>=20.0 in c:\\users\\deven\\appdata\\roaming\\python\\python311\\site-packages (from spacy<3.8.0,>=3.7.0->en-core-web-sm==3.7.0) (23.1)\n",
      "Requirement already satisfied: langcodes<4.0.0,>=3.2.0 in c:\\users\\deven\\appdata\\local\\programs\\python\\python311\\lib\\site-packages (from spacy<3.8.0,>=3.7.0->en-core-web-sm==3.7.0) (3.3.0)\n",
      "Requirement already satisfied: numpy>=1.19.0 in c:\\users\\deven\\appdata\\local\\programs\\python\\python311\\lib\\site-packages (from spacy<3.8.0,>=3.7.0->en-core-web-sm==3.7.0) (1.26.1)\n",
      "Requirement already satisfied: annotated-types>=0.4.0 in c:\\users\\deven\\appdata\\local\\programs\\python\\python311\\lib\\site-packages (from pydantic!=1.8,!=1.8.1,<3.0.0,>=1.7.4->spacy<3.8.0,>=3.7.0->en-core-web-sm==3.7.0) (0.6.0)\n",
      "Requirement already satisfied: pydantic-core==2.10.1 in c:\\users\\deven\\appdata\\local\\programs\\python\\python311\\lib\\site-packages (from pydantic!=1.8,!=1.8.1,<3.0.0,>=1.7.4->spacy<3.8.0,>=3.7.0->en-core-web-sm==3.7.0) (2.10.1)\n",
      "Requirement already satisfied: typing-extensions>=4.6.1 in c:\\users\\deven\\appdata\\local\\programs\\python\\python311\\lib\\site-packages (from pydantic!=1.8,!=1.8.1,<3.0.0,>=1.7.4->spacy<3.8.0,>=3.7.0->en-core-web-sm==3.7.0) (4.8.0)\n",
      "Requirement already satisfied: charset-normalizer<4,>=2 in c:\\users\\deven\\appdata\\local\\programs\\python\\python311\\lib\\site-packages (from requests<3.0.0,>=2.13.0->spacy<3.8.0,>=3.7.0->en-core-web-sm==3.7.0) (3.3.1)\n",
      "Requirement already satisfied: idna<4,>=2.5 in c:\\users\\deven\\appdata\\local\\programs\\python\\python311\\lib\\site-packages (from requests<3.0.0,>=2.13.0->spacy<3.8.0,>=3.7.0->en-core-web-sm==3.7.0) (3.4)\n",
      "Requirement already satisfied: urllib3<3,>=1.21.1 in c:\\users\\deven\\appdata\\local\\programs\\python\\python311\\lib\\site-packages (from requests<3.0.0,>=2.13.0->spacy<3.8.0,>=3.7.0->en-core-web-sm==3.7.0) (2.0.7)\n",
      "Requirement already satisfied: certifi>=2017.4.17 in c:\\users\\deven\\appdata\\local\\programs\\python\\python311\\lib\\site-packages (from requests<3.0.0,>=2.13.0->spacy<3.8.0,>=3.7.0->en-core-web-sm==3.7.0) (2023.7.22)\n",
      "Requirement already satisfied: blis<0.8.0,>=0.7.8 in c:\\users\\deven\\appdata\\local\\programs\\python\\python311\\lib\\site-packages (from thinc<8.3.0,>=8.1.8->spacy<3.8.0,>=3.7.0->en-core-web-sm==3.7.0) (0.7.11)\n",
      "Requirement already satisfied: confection<1.0.0,>=0.0.1 in c:\\users\\deven\\appdata\\local\\programs\\python\\python311\\lib\\site-packages (from thinc<8.3.0,>=8.1.8->spacy<3.8.0,>=3.7.0->en-core-web-sm==3.7.0) (0.1.3)\n",
      "Requirement already satisfied: colorama in c:\\users\\deven\\appdata\\roaming\\python\\python311\\site-packages (from tqdm<5.0.0,>=4.38.0->spacy<3.8.0,>=3.7.0->en-core-web-sm==3.7.0) (0.4.6)\n",
      "Requirement already satisfied: click<9.0.0,>=7.1.1 in c:\\users\\deven\\appdata\\local\\programs\\python\\python311\\lib\\site-packages (from typer<0.10.0,>=0.3.0->spacy<3.8.0,>=3.7.0->en-core-web-sm==3.7.0) (8.1.7)\n",
      "Requirement already satisfied: cloudpathlib<0.17.0,>=0.7.0 in c:\\users\\deven\\appdata\\local\\programs\\python\\python311\\lib\\site-packages (from weasel<0.4.0,>=0.1.0->spacy<3.8.0,>=3.7.0->en-core-web-sm==3.7.0) (0.16.0)\n",
      "Requirement already satisfied: MarkupSafe>=2.0 in c:\\users\\deven\\appdata\\local\\programs\\python\\python311\\lib\\site-packages (from jinja2->spacy<3.8.0,>=3.7.0->en-core-web-sm==3.7.0) (2.1.3)\n",
      "\u001b[38;5;2m✔ Download and installation successful\u001b[0m\n",
      "You can now load the package via spacy.load('en_core_web_sm')\n"
     ]
    },
    {
     "name": "stderr",
     "output_type": "stream",
     "text": [
      "\n",
      "[notice] A new release of pip is available: 23.2.1 -> 23.3.1\n",
      "[notice] To update, run: python.exe -m pip install --upgrade pip\n"
     ]
    },
    {
     "name": "stdout",
     "output_type": "stream",
     "text": [
      "Requirement already satisfied: newspaper3k in c:\\users\\deven\\appdata\\local\\programs\\python\\python311\\lib\\site-packages (0.2.8)\n",
      "Requirement already satisfied: beautifulsoup4>=4.4.1 in c:\\users\\deven\\appdata\\local\\programs\\python\\python311\\lib\\site-packages (from newspaper3k) (4.12.2)\n",
      "Requirement already satisfied: Pillow>=3.3.0 in c:\\users\\deven\\appdata\\local\\programs\\python\\python311\\lib\\site-packages (from newspaper3k) (10.1.0)\n",
      "Requirement already satisfied: PyYAML>=3.11 in c:\\users\\deven\\appdata\\local\\programs\\python\\python311\\lib\\site-packages (from newspaper3k) (6.0.1)\n",
      "Requirement already satisfied: cssselect>=0.9.2 in c:\\users\\deven\\appdata\\local\\programs\\python\\python311\\lib\\site-packages (from newspaper3k) (1.2.0)\n",
      "Requirement already satisfied: lxml>=3.6.0 in c:\\users\\deven\\appdata\\local\\programs\\python\\python311\\lib\\site-packages (from newspaper3k) (4.9.3)\n",
      "Requirement already satisfied: nltk>=3.2.1 in c:\\users\\deven\\appdata\\local\\programs\\python\\python311\\lib\\site-packages (from newspaper3k) (3.8.1)\n",
      "Requirement already satisfied: requests>=2.10.0 in c:\\users\\deven\\appdata\\local\\programs\\python\\python311\\lib\\site-packages (from newspaper3k) (2.31.0)\n",
      "Requirement already satisfied: feedparser>=5.2.1 in c:\\users\\deven\\appdata\\local\\programs\\python\\python311\\lib\\site-packages (from newspaper3k) (6.0.10)\n",
      "Requirement already satisfied: tldextract>=2.0.1 in c:\\users\\deven\\appdata\\local\\programs\\python\\python311\\lib\\site-packages (from newspaper3k) (5.0.1)\n",
      "Requirement already satisfied: feedfinder2>=0.0.4 in c:\\users\\deven\\appdata\\local\\programs\\python\\python311\\lib\\site-packages (from newspaper3k) (0.0.4)\n",
      "Requirement already satisfied: jieba3k>=0.35.1 in c:\\users\\deven\\appdata\\local\\programs\\python\\python311\\lib\\site-packages (from newspaper3k) (0.35.1)\n",
      "Requirement already satisfied: python-dateutil>=2.5.3 in c:\\users\\deven\\appdata\\roaming\\python\\python311\\site-packages (from newspaper3k) (2.8.2)\n",
      "Requirement already satisfied: tinysegmenter==0.3 in c:\\users\\deven\\appdata\\local\\programs\\python\\python311\\lib\\site-packages (from newspaper3k) (0.3)\n",
      "Requirement already satisfied: soupsieve>1.2 in c:\\users\\deven\\appdata\\local\\programs\\python\\python311\\lib\\site-packages (from beautifulsoup4>=4.4.1->newspaper3k) (2.5)\n",
      "Requirement already satisfied: six in c:\\users\\deven\\appdata\\roaming\\python\\python311\\site-packages (from feedfinder2>=0.0.4->newspaper3k) (1.16.0)\n",
      "Requirement already satisfied: sgmllib3k in c:\\users\\deven\\appdata\\local\\programs\\python\\python311\\lib\\site-packages (from feedparser>=5.2.1->newspaper3k) (1.0.0)\n",
      "Requirement already satisfied: click in c:\\users\\deven\\appdata\\local\\programs\\python\\python311\\lib\\site-packages (from nltk>=3.2.1->newspaper3k) (8.1.7)\n",
      "Requirement already satisfied: joblib in c:\\users\\deven\\appdata\\local\\programs\\python\\python311\\lib\\site-packages (from nltk>=3.2.1->newspaper3k) (1.3.2)\n",
      "Requirement already satisfied: regex>=2021.8.3 in c:\\users\\deven\\appdata\\local\\programs\\python\\python311\\lib\\site-packages (from nltk>=3.2.1->newspaper3k) (2023.10.3)\n",
      "Requirement already satisfied: tqdm in c:\\users\\deven\\appdata\\local\\programs\\python\\python311\\lib\\site-packages (from nltk>=3.2.1->newspaper3k) (4.66.1)\n",
      "Requirement already satisfied: charset-normalizer<4,>=2 in c:\\users\\deven\\appdata\\local\\programs\\python\\python311\\lib\\site-packages (from requests>=2.10.0->newspaper3k) (3.3.1)\n",
      "Requirement already satisfied: idna<4,>=2.5 in c:\\users\\deven\\appdata\\local\\programs\\python\\python311\\lib\\site-packages (from requests>=2.10.0->newspaper3k) (3.4)\n",
      "Requirement already satisfied: urllib3<3,>=1.21.1 in c:\\users\\deven\\appdata\\local\\programs\\python\\python311\\lib\\site-packages (from requests>=2.10.0->newspaper3k) (2.0.7)\n",
      "Requirement already satisfied: certifi>=2017.4.17 in c:\\users\\deven\\appdata\\local\\programs\\python\\python311\\lib\\site-packages (from requests>=2.10.0->newspaper3k) (2023.7.22)\n",
      "Requirement already satisfied: requests-file>=1.4 in c:\\users\\deven\\appdata\\local\\programs\\python\\python311\\lib\\site-packages (from tldextract>=2.0.1->newspaper3k) (1.5.1)\n",
      "Requirement already satisfied: filelock>=3.0.8 in c:\\users\\deven\\appdata\\local\\programs\\python\\python311\\lib\\site-packages (from tldextract>=2.0.1->newspaper3k) (3.12.4)\n",
      "Requirement already satisfied: colorama in c:\\users\\deven\\appdata\\roaming\\python\\python311\\site-packages (from click->nltk>=3.2.1->newspaper3k) (0.4.6)\n"
     ]
    },
    {
     "name": "stderr",
     "output_type": "stream",
     "text": [
      "\n",
      "[notice] A new release of pip is available: 23.2.1 -> 23.3.1\n",
      "[notice] To update, run: python.exe -m pip install --upgrade pip\n"
     ]
    },
    {
     "name": "stdout",
     "output_type": "stream",
     "text": [
      "Requirement already satisfied: gensim in c:\\users\\deven\\appdata\\local\\programs\\python\\python311\\lib\\site-packages (4.3.2)\n",
      "Requirement already satisfied: numpy>=1.18.5 in c:\\users\\deven\\appdata\\local\\programs\\python\\python311\\lib\\site-packages (from gensim) (1.26.1)\n",
      "Requirement already satisfied: scipy>=1.7.0 in c:\\users\\deven\\appdata\\local\\programs\\python\\python311\\lib\\site-packages (from gensim) (1.11.3)\n",
      "Requirement already satisfied: smart-open>=1.8.1 in c:\\users\\deven\\appdata\\local\\programs\\python\\python311\\lib\\site-packages (from gensim) (6.4.0)\n"
     ]
    },
    {
     "name": "stderr",
     "output_type": "stream",
     "text": [
      "\n",
      "[notice] A new release of pip is available: 23.2.1 -> 23.3.1\n",
      "[notice] To update, run: python.exe -m pip install --upgrade pip\n"
     ]
    },
    {
     "name": "stdout",
     "output_type": "stream",
     "text": [
      "Requirement already satisfied: plotly in c:\\users\\deven\\appdata\\local\\programs\\python\\python311\\lib\\site-packages (5.17.0)\n",
      "Requirement already satisfied: tenacity>=6.2.0 in c:\\users\\deven\\appdata\\local\\programs\\python\\python311\\lib\\site-packages (from plotly) (8.2.3)\n",
      "Requirement already satisfied: packaging in c:\\users\\deven\\appdata\\roaming\\python\\python311\\site-packages (from plotly) (23.1)\n"
     ]
    },
    {
     "name": "stderr",
     "output_type": "stream",
     "text": [
      "\n",
      "[notice] A new release of pip is available: 23.2.1 -> 23.3.1\n",
      "[notice] To update, run: python.exe -m pip install --upgrade pip\n"
     ]
    },
    {
     "name": "stdout",
     "output_type": "stream",
     "text": [
      "Requirement already satisfied: sklearn in c:\\users\\deven\\appdata\\local\\programs\\python\\python311\\lib\\site-packages (0.0.post10)\n"
     ]
    },
    {
     "name": "stderr",
     "output_type": "stream",
     "text": [
      "\n",
      "[notice] A new release of pip is available: 23.2.1 -> 23.3.1\n",
      "[notice] To update, run: python.exe -m pip install --upgrade pip\n"
     ]
    },
    {
     "name": "stdout",
     "output_type": "stream",
     "text": [
      "Requirement already satisfied: matplotlib in c:\\users\\deven\\appdata\\local\\programs\\python\\python311\\lib\\site-packages (3.8.0)\n",
      "Requirement already satisfied: contourpy>=1.0.1 in c:\\users\\deven\\appdata\\local\\programs\\python\\python311\\lib\\site-packages (from matplotlib) (1.1.1)\n",
      "Requirement already satisfied: cycler>=0.10 in c:\\users\\deven\\appdata\\local\\programs\\python\\python311\\lib\\site-packages (from matplotlib) (0.12.1)\n",
      "Requirement already satisfied: fonttools>=4.22.0 in c:\\users\\deven\\appdata\\local\\programs\\python\\python311\\lib\\site-packages (from matplotlib) (4.43.1)\n",
      "Requirement already satisfied: kiwisolver>=1.0.1 in c:\\users\\deven\\appdata\\local\\programs\\python\\python311\\lib\\site-packages (from matplotlib) (1.4.5)\n",
      "Requirement already satisfied: numpy<2,>=1.21 in c:\\users\\deven\\appdata\\local\\programs\\python\\python311\\lib\\site-packages (from matplotlib) (1.26.1)\n",
      "Requirement already satisfied: packaging>=20.0 in c:\\users\\deven\\appdata\\roaming\\python\\python311\\site-packages (from matplotlib) (23.1)\n",
      "Requirement already satisfied: pillow>=6.2.0 in c:\\users\\deven\\appdata\\local\\programs\\python\\python311\\lib\\site-packages (from matplotlib) (10.1.0)\n",
      "Requirement already satisfied: pyparsing>=2.3.1 in c:\\users\\deven\\appdata\\local\\programs\\python\\python311\\lib\\site-packages (from matplotlib) (3.1.1)\n",
      "Requirement already satisfied: python-dateutil>=2.7 in c:\\users\\deven\\appdata\\roaming\\python\\python311\\site-packages (from matplotlib) (2.8.2)\n",
      "Requirement already satisfied: six>=1.5 in c:\\users\\deven\\appdata\\roaming\\python\\python311\\site-packages (from python-dateutil>=2.7->matplotlib) (1.16.0)\n"
     ]
    },
    {
     "name": "stderr",
     "output_type": "stream",
     "text": [
      "\n",
      "[notice] A new release of pip is available: 23.2.1 -> 23.3.1\n",
      "[notice] To update, run: python.exe -m pip install --upgrade pip\n"
     ]
    },
    {
     "name": "stdout",
     "output_type": "stream",
     "text": [
      "Requirement already satisfied: wordcloud in c:\\users\\deven\\appdata\\local\\programs\\python\\python311\\lib\\site-packages (1.9.2)\n",
      "Requirement already satisfied: numpy>=1.6.1 in c:\\users\\deven\\appdata\\local\\programs\\python\\python311\\lib\\site-packages (from wordcloud) (1.26.1)\n",
      "Requirement already satisfied: pillow in c:\\users\\deven\\appdata\\local\\programs\\python\\python311\\lib\\site-packages (from wordcloud) (10.1.0)\n",
      "Requirement already satisfied: matplotlib in c:\\users\\deven\\appdata\\local\\programs\\python\\python311\\lib\\site-packages (from wordcloud) (3.8.0)\n",
      "Requirement already satisfied: contourpy>=1.0.1 in c:\\users\\deven\\appdata\\local\\programs\\python\\python311\\lib\\site-packages (from matplotlib->wordcloud) (1.1.1)\n",
      "Requirement already satisfied: cycler>=0.10 in c:\\users\\deven\\appdata\\local\\programs\\python\\python311\\lib\\site-packages (from matplotlib->wordcloud) (0.12.1)\n",
      "Requirement already satisfied: fonttools>=4.22.0 in c:\\users\\deven\\appdata\\local\\programs\\python\\python311\\lib\\site-packages (from matplotlib->wordcloud) (4.43.1)\n",
      "Requirement already satisfied: kiwisolver>=1.0.1 in c:\\users\\deven\\appdata\\local\\programs\\python\\python311\\lib\\site-packages (from matplotlib->wordcloud) (1.4.5)\n",
      "Requirement already satisfied: packaging>=20.0 in c:\\users\\deven\\appdata\\roaming\\python\\python311\\site-packages (from matplotlib->wordcloud) (23.1)\n",
      "Requirement already satisfied: pyparsing>=2.3.1 in c:\\users\\deven\\appdata\\local\\programs\\python\\python311\\lib\\site-packages (from matplotlib->wordcloud) (3.1.1)\n",
      "Requirement already satisfied: python-dateutil>=2.7 in c:\\users\\deven\\appdata\\roaming\\python\\python311\\site-packages (from matplotlib->wordcloud) (2.8.2)\n",
      "Requirement already satisfied: six>=1.5 in c:\\users\\deven\\appdata\\roaming\\python\\python311\\site-packages (from python-dateutil>=2.7->matplotlib->wordcloud) (1.16.0)\n"
     ]
    },
    {
     "name": "stderr",
     "output_type": "stream",
     "text": [
      "\n",
      "[notice] A new release of pip is available: 23.2.1 -> 23.3.1\n",
      "[notice] To update, run: python.exe -m pip install --upgrade pip\n"
     ]
    },
    {
     "name": "stdout",
     "output_type": "stream",
     "text": [
      "Requirement already satisfied: seaborn in c:\\users\\deven\\appdata\\local\\programs\\python\\python311\\lib\\site-packages (0.13.0)\n",
      "Requirement already satisfied: numpy!=1.24.0,>=1.20 in c:\\users\\deven\\appdata\\local\\programs\\python\\python311\\lib\\site-packages (from seaborn) (1.26.1)\n",
      "Requirement already satisfied: pandas>=1.2 in c:\\users\\deven\\appdata\\local\\programs\\python\\python311\\lib\\site-packages (from seaborn) (2.1.1)\n",
      "Requirement already satisfied: matplotlib!=3.6.1,>=3.3 in c:\\users\\deven\\appdata\\local\\programs\\python\\python311\\lib\\site-packages (from seaborn) (3.8.0)\n",
      "Requirement already satisfied: contourpy>=1.0.1 in c:\\users\\deven\\appdata\\local\\programs\\python\\python311\\lib\\site-packages (from matplotlib!=3.6.1,>=3.3->seaborn) (1.1.1)\n",
      "Requirement already satisfied: cycler>=0.10 in c:\\users\\deven\\appdata\\local\\programs\\python\\python311\\lib\\site-packages (from matplotlib!=3.6.1,>=3.3->seaborn) (0.12.1)\n",
      "Requirement already satisfied: fonttools>=4.22.0 in c:\\users\\deven\\appdata\\local\\programs\\python\\python311\\lib\\site-packages (from matplotlib!=3.6.1,>=3.3->seaborn) (4.43.1)\n",
      "Requirement already satisfied: kiwisolver>=1.0.1 in c:\\users\\deven\\appdata\\local\\programs\\python\\python311\\lib\\site-packages (from matplotlib!=3.6.1,>=3.3->seaborn) (1.4.5)\n",
      "Requirement already satisfied: packaging>=20.0 in c:\\users\\deven\\appdata\\roaming\\python\\python311\\site-packages (from matplotlib!=3.6.1,>=3.3->seaborn) (23.1)\n",
      "Requirement already satisfied: pillow>=6.2.0 in c:\\users\\deven\\appdata\\local\\programs\\python\\python311\\lib\\site-packages (from matplotlib!=3.6.1,>=3.3->seaborn) (10.1.0)\n",
      "Requirement already satisfied: pyparsing>=2.3.1 in c:\\users\\deven\\appdata\\local\\programs\\python\\python311\\lib\\site-packages (from matplotlib!=3.6.1,>=3.3->seaborn) (3.1.1)\n",
      "Requirement already satisfied: python-dateutil>=2.7 in c:\\users\\deven\\appdata\\roaming\\python\\python311\\site-packages (from matplotlib!=3.6.1,>=3.3->seaborn) (2.8.2)\n",
      "Requirement already satisfied: pytz>=2020.1 in c:\\users\\deven\\appdata\\local\\programs\\python\\python311\\lib\\site-packages (from pandas>=1.2->seaborn) (2023.3.post1)\n",
      "Requirement already satisfied: tzdata>=2022.1 in c:\\users\\deven\\appdata\\local\\programs\\python\\python311\\lib\\site-packages (from pandas>=1.2->seaborn) (2023.3)\n",
      "Requirement already satisfied: six>=1.5 in c:\\users\\deven\\appdata\\roaming\\python\\python311\\site-packages (from python-dateutil>=2.7->matplotlib!=3.6.1,>=3.3->seaborn) (1.16.0)\n"
     ]
    },
    {
     "name": "stderr",
     "output_type": "stream",
     "text": [
      "\n",
      "[notice] A new release of pip is available: 23.2.1 -> 23.3.1\n",
      "[notice] To update, run: python.exe -m pip install --upgrade pip\n"
     ]
    }
   ],
   "source": [
    "# Dataframe and sentiment analysis\n",
    "!pip install pandas\n",
    "!pip install spacy\n",
    "!pip install spacytextblob\n",
    "!python -m spacy download en_core_web_sm\n",
    "\n",
    "# Webscraping\n",
    "!pip install newspaper3k\n",
    "\n",
    "# Topic modeling \n",
    "!pip install gensim\n",
    "\n",
    "# Data vis\n",
    "!pip install plotly\n",
    "!pip install sklearn\n",
    "!pip install matplotlib\n",
    "!pip install wordcloud\n",
    "!pip install seaborn"
   ]
  },
  {
   "cell_type": "markdown",
   "id": "c92a2232",
   "metadata": {},
   "source": [
    "Spacy: Used for NLP and has the machine learning module\n",
    "    \n",
    "SpacyTextBlob: Used for the sentiment analysis\n",
    "    \n",
    "Pandas: Stores the data as a dataframe table\n",
    "    \n",
    "NewsPaper: Used for web scraping\n",
    "\n",
    "Gensim: Used for topic modeling\n",
    "    \n",
    "Requests: Makes the connection to the URL\n",
    "\n",
    "Plotly: Used for data visualization\n",
    "\n",
    "Matplotlib: Used for clustering and data visualization\n",
    "\n",
    "Sklearn: Used for clustering and data visualization"
   ]
  },
  {
   "cell_type": "markdown",
   "id": "e1471074",
   "metadata": {},
   "source": [
    "## Start Here: Library Imports"
   ]
  },
  {
   "cell_type": "code",
   "execution_count": 2,
   "id": "97171282",
   "metadata": {},
   "outputs": [],
   "source": [
    "# Newspaper3k web scraping\n",
    "from newspaper import Article\n",
    "\n",
    "from random import shuffle\n",
    "import re\n",
    "import requests\n",
    "\n",
    "from collections import Counter\n",
    "\n",
    "# Pandas dataframe\n",
    "import pandas as pd\n",
    "\n",
    "import numpy as np\n",
    "import json\n",
    "import requests\n",
    "import glob\n",
    "\n",
    "# Gensim\n",
    "import gensim\n",
    "import gensim.corpora as corpora\n",
    "from gensim.models.coherencemodel import CoherenceModel\n",
    "from gensim.utils import simple_preprocess\n",
    "from gensim.corpora import Dictionary  # Import the Dictionary class from Gensim\n",
    "\n",
    "# Spacy\n",
    "import spacy\n",
    "from nltk.corpus import stopwords\n",
    "from spacytextblob.spacytextblob import SpacyTextBlob\n",
    "\n",
    "# Vis\n",
    "import pyLDAvis\n",
    "import pyLDAvis.gensim\n",
    "import plotly.express as px\n",
    "import matplotlib.colors as mcolors\n",
    "import matplotlib.pyplot as plt\n",
    "import sklearn\n",
    "from sklearn.manifold import TSNE\n",
    "from wordcloud import WordCloud\n",
    "from sklearn.decomposition import PCA\n",
    "import seaborn as sns\n",
    "\n",
    "\n",
    "\n",
    "# K-Means Clustering\n",
    "from sklearn.feature_extraction.text import TfidfVectorizer\n",
    "from sklearn.cluster import KMeans\n",
    "from sklearn.cluster import MiniBatchKMeans\n",
    "import matplotlib.pyplot as plt\n",
    "\n",
    "# Principled Component Analysis\n",
    "from sklearn.decomposition import PCA\n",
    "\n",
    "import warnings\n",
    "warnings.filterwarnings(\"ignore\", category=DeprecationWarning)"
   ]
  },
  {
   "cell_type": "markdown",
   "id": "8b38b484",
   "metadata": {},
   "source": [
    "IMPORTANT: Run all helper files. The function logic is stored here, and sorted by the part of the pipeline they support."
   ]
  },
  {
   "cell_type": "code",
   "execution_count": 3,
   "id": "89933f69",
   "metadata": {},
   "outputs": [
    {
     "name": "stderr",
     "output_type": "stream",
     "text": [
      "c:\\Users\\Deven\\AppData\\Local\\Programs\\Python\\Python311\\Lib\\site-packages\\nbformat\\__init__.py:93: MissingIDFieldWarning: Code cell is missing an id field, this will become a hard error in future nbformat versions. You may want to use `normalize()` on your notebooks before validations (available since nbformat 5.1.4). Previous versions of nbformat are fixing this issue transparently, and will stop doing so in the future.\n",
      "  validate(nb)\n"
     ]
    }
   ],
   "source": [
    "%run SentimentAnalysis.ipynb\n",
    "%run WebScraper.ipynb\n",
    "%run PipelineHelpers.ipynb\n",
    "%run TopicModeling.ipynb\n",
    "%run DataVisualization.ipynb"
   ]
  },
  {
   "cell_type": "markdown",
   "id": "c767401a",
   "metadata": {},
   "source": [
    "# General Pipeline Settings, and Pre-Analysis Setup"
   ]
  },
  {
   "cell_type": "markdown",
   "id": "67afdeff",
   "metadata": {},
   "source": [
    "Below are the customizable settings for all of the analysis and processing parts of the pipeline.\n",
    "\n",
    "Rerun this any time you make changes to these settings, as they will affect the outcome of certain pipeline steps."
   ]
  },
  {
   "cell_type": "markdown",
   "id": "b787c3f5",
   "metadata": {},
   "source": [
    "IMPORTANT: The csvFile object should be set to a properly setup csv file of article URLs that you copy-paste into the same directory as the pipeline files (we use the relative path to access the file). The csvFile format is explained in the user manual, but simply it needs one column with the first entry being \"Address\" and the other entries all being article URLs."
   ]
  },
  {
   "cell_type": "code",
   "execution_count": 4,
   "id": "4e23034f",
   "metadata": {},
   "outputs": [],
   "source": [
    "###\n",
    "### BELOW IS OUR CUSTOMIZABLE SETTINGS\n",
    "###\n",
    "\n",
    "# This is the CSV file that is read in\n",
    "# This csv file should contain a single column of article urls, with the first entry being \"Address\"\n",
    "csv_file = \"urls_gabriel_generated.csv\"\n",
    "\n",
    "\n",
    "# WEBSCRAPING SETTINGS\n",
    "# This is the minimum words that we allow for an article\n",
    "# (to prevent certain blocked articles or bad data)\n",
    "word_count_filter = 150\n",
    "\n",
    "# This is the minimum amount of repeated phrases in a text that we will throw an error for\n",
    "repeated_phrase_filter = 25\n",
    "\n",
    "# This is the list of all social media URLs that we BLOCK (anything in this list WILL NOT be scraped)\n",
    "social_starts_with = [\"https://www.youtube.com\", \"https://youtu.be\", \"https://www.facebook.com\",\n",
    "                          \"https://twitter.com\", \"https://gettr.com/\"]\n",
    "\n",
    "# When webscraping, will only grab the first url_max URLs (set to -1 to turn off)\n",
    "url_max = 50\n",
    "\n",
    "# Used to turn on and off the adjusted labels\n",
    "label_adjuster_on = True\n",
    "\n",
    "# TOPIC MODELING SETTINGS\n",
    "# this will set how our topic modeling is generated: limit to the # of topics,\n",
    "# # of topics we start at, how many we increment by every step\n",
    "topic_model_dict = {\"topic_limit\": 12, \"topic_start\": 5, \"topic_step\": 2}\n",
    "\n",
    "\n",
    "###\n",
    "### END OF CUSTOMIZABLE SETTINGS\n",
    "###\n"
   ]
  },
  {
   "cell_type": "markdown",
   "id": "a9fabe01",
   "metadata": {},
   "source": [
    "# MAIN PIPELINE START"
   ]
  },
  {
   "cell_type": "markdown",
   "id": "ac52c758",
   "metadata": {},
   "source": [
    "## Sentiment Analysis Pipeline"
   ]
  },
  {
   "cell_type": "markdown",
   "id": "65f184f9",
   "metadata": {},
   "source": [
    "Below is the start of our pipeline.\n",
    "\n",
    "Here we create our nlp object and add the pipe to it for sentiment analysis. We then read in our .csv file and convert it to a dataframe to pass in to our sentiment analysis function, and gathers the list of all URLs.\n",
    "\n",
    "Our main_pipeline_sentiment_analysis() function takes in the list of urls, web scrapes their text, and performs sentiment analysis on them, creating a dataframe of all properly scraped articles and their associated sentiment analysis data.\n",
    "\n",
    "df is the main dataframe object we store our data in."
   ]
  },
  {
   "cell_type": "code",
   "execution_count": 5,
   "id": "7ae169b7",
   "metadata": {
    "scrolled": false
   },
   "outputs": [
    {
     "name": "stdout",
     "output_type": "stream",
     "text": [
      "0  Articles Completed\n",
      "Webscraping failed: Word Count or Repeated Phrase\n",
      "https://www.bbc.com/news/world-us-canada-55805698\n",
      "Word count:  39\n",
      "Repeated phrases:  1\n",
      "\n",
      "\n",
      "10  Articles Completed\n",
      "Webscraping failed: Word Count or Repeated Phrase\n",
      "https://apnews.com/hub/hunter-biden\n",
      "Word count:  42\n",
      "Repeated phrases:  1\n",
      "\n",
      "\n",
      "Webscraping failed: Word Count or Repeated Phrase\n",
      "https://www.bbc.com/news/world-us-canada-55805698\n",
      "Word count:  39\n",
      "Repeated phrases:  1\n",
      "\n",
      "\n",
      "20  Articles Completed\n",
      "Webscraping failed: Word Count or Repeated Phrase\n",
      "https://www.wdel.com/news/hunter-biden-prosecutor-wasnt-blocked-from-bringing-california-charges-us-attorney-tells-congress/article_f92d6768-7369-11ee-a69b-d3b116717dfe.html\n",
      "Word count:  33\n",
      "Repeated phrases:  2\n",
      "\n",
      "\n",
      "30  Articles Completed\n",
      "40  Articles Completed\n",
      "Webscraping failed: Word Count or Repeated Phrase\n",
      "https://www.haaretz.com/opinion/editorial/2023-10-26/ty-article-opinion/biden-is-right-after-the-war-its-time-for-two-states/0000018b-6d5a-d1da-a1bb-6dfa4d1c0000\n",
      "Word count:  38\n",
      "Repeated phrases:  1\n",
      "\n",
      "\n",
      "Webscraping Error: Couldn't Parse\n",
      "https://www.axios.com/2023/10/26/biden-post-war-plan-two-state-solution-israel-palestinians\n",
      "\n",
      "\n",
      "Webscraping Error: Couldn't Parse\n",
      "https://thehill.com/homenews/senate/4278429-scott-calls-for-biden-administration-to-revoke-iran-foreign-ministers-visa/\n",
      "\n",
      "\n",
      "Webscraping Error: Couldn't Parse\n",
      "https://thehill.com/homenews/campaign/4271095-joe-biden-polls-2024-donald-trump/\n",
      "\n",
      "\n",
      "Webscraping Error: Couldn't Parse\n",
      "https://www.axios.com/2023/10/26/biden-approval-rating-democrats-israel-gaza\n",
      "\n",
      "\n",
      "83.33% of the csv was scraped.\n",
      "The average sentiment score was: 0.053\n",
      "The average subjectivity score was: 0.407\n"
     ]
    }
   ],
   "source": [
    "# Loading the nlp pipeline and adding spacytextblob\n",
    "nlp = spacy.load('en_core_web_sm')\n",
    "nlp.add_pipe('spacytextblob') #This is used in our sentiment analysis\n",
    "\n",
    "# Using panda to load in our .csv file\n",
    "# File we are checking\n",
    "df = pd.read_csv(csv_file)\n",
    "# Column name we are checking (You can switch this column name to match the csv file)\n",
    "urls = df[\"Address\"].tolist()\n",
    "\n",
    "# Trim to only include the first url_max URLs\n",
    "if url_max > 0:\n",
    "    urls = urls[0:url_max]\n",
    "\n",
    "# Here is where we start the sentiment analysis over all articles\n",
    "df = main_pipeline_sentiment_analysis(urls)\n",
    "\n",
    "if label_adjuster_on:\n",
    "    df = label_adjuster(df)\n"
   ]
  },
  {
   "cell_type": "markdown",
   "id": "7d0b94a9",
   "metadata": {},
   "source": [
    "# TOPIC MODELING"
   ]
  },
  {
   "cell_type": "markdown",
   "id": "40eba53b",
   "metadata": {},
   "source": [
    "# Create Topic Model w/ Highest Coherence"
   ]
  },
  {
   "cell_type": "markdown",
   "id": "e01f58b3",
   "metadata": {},
   "source": [
    "Here we create our LDA topic model, article corpus, and topic-level sentiment analysis dictionary.\n",
    "\n",
    "First we pass in our dataframe df and associated settings. The function will create topic models with varying number of topics, compute the topic coherence score for that number of topics over our articles, and return to us the LDA model that has the highest coherence score. It will display a small graphic showing the topic coherence for each number of topics we tested.\n",
    "\n",
    "Next we will create our topic-level sentiment analysis dictionary using both our dataframe df and the new LDA_model and corpus we just created. This will give us a dictionary of the averaged sentiment scores for every topic of an article, for all articles."
   ]
  },
  {
   "cell_type": "code",
   "execution_count": 6,
   "id": "52b11718",
   "metadata": {},
   "outputs": [
    {
     "data": {
      "image/png": "[encoded data removed]",
      "text/plain": [
       "<Figure size 640x480 with 1 Axes>"
      ]
     },
     "metadata": {},
     "output_type": "display_data"
    }
   ],
   "source": [
    "# This will generate multiple topic models with various topic count, then return\n",
    "# the model with highest coherence it will also display a quick visual of\n",
    "# coherence values, to understand what topic count is best and why it was chosen\n",
    "lda_model, corpus = create_lda_model(topic_model_dict[\"topic_limit\"],\n",
    "                                     topic_model_dict[\"topic_start\"], \n",
    "                                     topic_model_dict[\"topic_step\"])\n",
    "\n",
    "# lda_model is the lda model we will work with, corpus is the actual corpus of articles we use\n",
    "\n",
    "\n",
    "# Here we are making our dictionary of all articles and their associated\n",
    "# topic-level sentiment for every topic\n",
    "topic_level_sentiment = topic_sentence_sentiment_analysis(df, lda_model)\n"
   ]
  },
  {
   "cell_type": "markdown",
   "id": "e90c4670",
   "metadata": {},
   "source": [
    "# DATA VISUALIZATION"
   ]
  },
  {
   "cell_type": "markdown",
   "id": "2cf78edd",
   "metadata": {},
   "source": [
    "## Pre-processing dataframe for visualization"
   ]
  },
  {
   "cell_type": "markdown",
   "id": "08f34a83",
   "metadata": {},
   "source": [
    "Here we preprocess our dataframe to add in a few relevant columns for data vis, as well as creating our topic relevancy dataframe and weighted sentiment dataframe over all topics for all articles. \n",
    "\n",
    "We add the Topics, Main Topic, Main Topic Score, and Shortened Address to the main dataframe (using our preprocess_dataframe_for_datavis() function). This lets the data vis section easily grab the information.\n",
    "\n",
    "Next we create the topic relevancy dataframe df_topics. In df_topics, each row is an article, and each column is a topic. For an article, every cell value represents the relevancy of that topic to that article. So if row 0 column 1 is 0.998, that means Article 0 has a 0.998 relevancy score on Topic 1.\n",
    "\n",
    "We create the per_topic_df, which uses our topic-based sentiment dictionary and our topic relevancy dataframe to make a dataframe where each row is an article and each column is a topic. The cell contains data of the form (sentiment, relevancy) which is a tuple that describes the sentiment value and topic relevancy of that article (row) for that topic (column)."
   ]
  },
  {
   "cell_type": "code",
   "execution_count": 7,
   "id": "097d2461",
   "metadata": {
    "scrolled": true
   },
   "outputs": [],
   "source": [
    "# This generates our dataframe of per-topic sentiment and relevancy for all articles\n",
    "df_topics = generate_topic_relevancy_dataframe(lda_model)\n",
    "\n",
    "# Generate our per-topic dataframe\n",
    "# Format is (SENTIMENT, RELEVANCY)\n",
    "per_topic_df = create_per_topic_tuple_df(topic_level_sentiment, df_topics)\n",
    "\n",
    "# This generates a dataframe ready to use with our data visualizations\n",
    "# (includes some extra information)\n",
    "# This sorts our dataframe so must go last\n",
    "df = preprocess_dataframe_for_datavis(df, lda_model, corpus)\n"
   ]
  },
  {
   "cell_type": "markdown",
   "id": "1a7d0141",
   "metadata": {},
   "source": [
    "## Data Visualization Settings"
   ]
  },
  {
   "cell_type": "markdown",
   "id": "1a648113",
   "metadata": {},
   "source": [
    "Here are the customizable settings for our data visualization section. Since these settings only affect how the data will be visualized, you can rerun the pipeline from this point down without rerunning any of the previous steps. This is recommended if you want to see different parameters for the settings visualized on the same data and LDA model."
   ]
  },
  {
   "cell_type": "code",
   "execution_count": 8,
   "id": "fffb7bbc",
   "metadata": {},
   "outputs": [],
   "source": [
    "# DATA VISUALIZATION SETTINGS\n",
    "# (starts at topic 0) set this list to every topic number you want\n",
    "# displayed individually\n",
    "list_of_topics_to_visualize = [1,2]\n",
    "\n",
    "# This is the settings dictionary for our k-means cluster generation.\n",
    "# max_clusters is used in our inertia visualization,\n",
    "# While num_clusters is our actual cluster count to use and pca_components\n",
    "# is the PCA component count that we use in both (2 should be used because we reduce to 2 dimensions)\n",
    "# the visualization of inertia as well as our actual clustering model.\n",
    "kmeans_settings = {\"max_clusters\": 10, \"num_clusters\": 4, \"pca_components\": 2}\n",
    "\n"
   ]
  },
  {
   "cell_type": "markdown",
   "id": "cc9e1d98",
   "metadata": {},
   "source": [
    "## Display the Main Dataframe and Display the Topic Model"
   ]
  },
  {
   "cell_type": "markdown",
   "id": "dcef6a4c",
   "metadata": {},
   "source": [
    "Display the main dataframe"
   ]
  },
  {
   "cell_type": "code",
   "execution_count": 9,
   "id": "f4a9f515",
   "metadata": {},
   "outputs": [
    {
     "data": {
      "text/html": [
       "<div>\n",
       "<style scoped>\n",
       "    .dataframe tbody tr th:only-of-type {\n",
       "        vertical-align: middle;\n",
       "    }\n",
       "\n",
       "    .dataframe tbody tr th {\n",
       "        vertical-align: top;\n",
       "    }\n",
       "\n",
       "    .dataframe thead th {\n",
       "        text-align: right;\n",
       "    }\n",
       "</style>\n",
       "<table border=\"1\" class=\"dataframe\">\n",
       "  <thead>\n",
       "    <tr style=\"text-align: right;\">\n",
       "      <th></th>\n",
       "      <th>ID</th>\n",
       "      <th>URL</th>\n",
       "      <th>Article Title</th>\n",
       "      <th>Sentiment Score</th>\n",
       "      <th>Sentiment Label</th>\n",
       "      <th>Subjectivity Score</th>\n",
       "      <th>Positive Words</th>\n",
       "      <th>Negative Words</th>\n",
       "      <th>Text</th>\n",
       "      <th>Topics</th>\n",
       "      <th>Main Topic</th>\n",
       "      <th>Main Topic Score</th>\n",
       "      <th>Associated Words</th>\n",
       "      <th>Shortened Address</th>\n",
       "    </tr>\n",
       "  </thead>\n",
       "  <tbody>\n",
       "    <tr>\n",
       "      <th>0</th>\n",
       "      <td>0</td>\n",
       "      <td>https://www.foxnews.com/politics/hunter-bidens...</td>\n",
       "      <td>Hunter Biden's $250K wire from China labeled a...</td>\n",
       "      <td>0.04</td>\n",
       "      <td>Neutral</td>\n",
       "      <td>0.24</td>\n",
       "      <td>new, unpaid, more, main, best, legal, first</td>\n",
       "      <td>least, down, limited, previously, approximatel...</td>\n",
       "      <td>exclusive: the $250,000 wire hunter biden rece...</td>\n",
       "      <td>[(1, 0.99772745)]</td>\n",
       "      <td>1</td>\n",
       "      <td>0.997727</td>\n",
       "      <td>[[hunter, president, investigation, charge, fa...</td>\n",
       "      <td>www.foxnews.com</td>\n",
       "    </tr>\n",
       "    <tr>\n",
       "      <th>1</th>\n",
       "      <td>1</td>\n",
       "      <td>https://www.foxnews.com/politics/doj-ordered-h...</td>\n",
       "      <td>DOJ ordered Hunter Biden investigators to 'rem...</td>\n",
       "      <td>0.06</td>\n",
       "      <td>Neutral</td>\n",
       "      <td>0.35</td>\n",
       "      <td>detailed, new, more, exactly, light, real, app...</td>\n",
       "      <td>least, other, limited, not, subject, criminal,...</td>\n",
       "      <td>the u.s. department of justice ordered fbi and...</td>\n",
       "      <td>[(1, 0.99818814)]</td>\n",
       "      <td>1</td>\n",
       "      <td>0.998188</td>\n",
       "      <td>[[hunter, president, investigation, charge, fa...</td>\n",
       "      <td>www.foxnews.com</td>\n",
       "    </tr>\n",
       "    <tr>\n",
       "      <th>2</th>\n",
       "      <td>2</td>\n",
       "      <td>https://www.foxnews.com/politics/hunter-biden-...</td>\n",
       "      <td>Hunter Biden sues Rudy Giuliani over laptop, a...</td>\n",
       "      <td>-0.04</td>\n",
       "      <td>Negative</td>\n",
       "      <td>0.37</td>\n",
       "      <td>new, latest, many, direct, generally, extraord...</td>\n",
       "      <td>alleged, illegally, jail, other, failure, hard...</td>\n",
       "      <td>hunter biden on tuesday filed a lawsuit agains...</td>\n",
       "      <td>[(1, 0.2797389), (2, 0.6586757), (4, 0.06048125)]</td>\n",
       "      <td>2</td>\n",
       "      <td>0.658676</td>\n",
       "      <td>[[primary, state, hunter, write, party, nation...</td>\n",
       "      <td>www.foxnews.com</td>\n",
       "    </tr>\n",
       "    <tr>\n",
       "      <th>3</th>\n",
       "      <td>3</td>\n",
       "      <td>https://apnews.com/article/hunter-biden-impeac...</td>\n",
       "      <td>House Republicans make their case for Biden im...</td>\n",
       "      <td>0.02</td>\n",
       "      <td>Neutral Negative</td>\n",
       "      <td>0.37</td>\n",
       "      <td>far, action, new, promising, many, more, much,...</td>\n",
       "      <td>down, military, failed, thin, skeptical, unlik...</td>\n",
       "      <td>washington (ap) — house republicans launched a...</td>\n",
       "      <td>[(1, 0.99843854)]</td>\n",
       "      <td>1</td>\n",
       "      <td>0.998439</td>\n",
       "      <td>[[hunter, president, investigation, charge, fa...</td>\n",
       "      <td>apnews.com</td>\n",
       "    </tr>\n",
       "    <tr>\n",
       "      <th>4</th>\n",
       "      <td>4</td>\n",
       "      <td>https://www.nation.com.pk/21-Jun-2023/hunter-b...</td>\n",
       "      <td>Hunter Biden to plead guilty to federal tax ch...</td>\n",
       "      <td>-0.04</td>\n",
       "      <td>Negative</td>\n",
       "      <td>0.44</td>\n",
       "      <td>detailed, social, love, not, important, first</td>\n",
       "      <td>least, other, failure, guilty, due, subject, c...</td>\n",
       "      <td>washigton-hunter biden, the son of president j...</td>\n",
       "      <td>[(1, 0.99492466)]</td>\n",
       "      <td>1</td>\n",
       "      <td>0.994925</td>\n",
       "      <td>[[hunter, president, investigation, charge, fa...</td>\n",
       "      <td>www.nation.com.pk</td>\n",
       "    </tr>\n",
       "    <tr>\n",
       "      <th>5</th>\n",
       "      <td>5</td>\n",
       "      <td>https://www.nation.com.pk/25-Jul-2021/white-ho...</td>\n",
       "      <td>White House on defensive over Hunter Biden art...</td>\n",
       "      <td>0.10</td>\n",
       "      <td>Neutral Positive</td>\n",
       "      <td>0.41</td>\n",
       "      <td>new, economic, professional, winning, appropri...</td>\n",
       "      <td>half</td>\n",
       "      <td>washington - the white house assured saturday ...</td>\n",
       "      <td>[(0, 0.7565104), (1, 0.23942026)]</td>\n",
       "      <td>0</td>\n",
       "      <td>0.756510</td>\n",
       "      <td>[[democratic, president, phillip, campaign, pe...</td>\n",
       "      <td>www.nation.com.pk</td>\n",
       "    </tr>\n",
       "    <tr>\n",
       "      <th>6</th>\n",
       "      <td>6</td>\n",
       "      <td>https://www.nation.com.pk/24-Dec-2019/hunter-b...</td>\n",
       "      <td>Hunter Biden figures in ‘multiple criminal inv...</td>\n",
       "      <td>-0.11</td>\n",
       "      <td>Negative</td>\n",
       "      <td>0.40</td>\n",
       "      <td>more, new, nearly</td>\n",
       "      <td>behind, limited, guilty, firm, average, crimin...</td>\n",
       "      <td>hunter biden is the subject of multiple crimin...</td>\n",
       "      <td>[(1, 0.30864298), (2, 0.3922625), (4, 0.296157...</td>\n",
       "      <td>2</td>\n",
       "      <td>0.392262</td>\n",
       "      <td>[[primary, state, hunter, write, party, nation...</td>\n",
       "      <td>www.nation.com.pk</td>\n",
       "    </tr>\n",
       "    <tr>\n",
       "      <th>7</th>\n",
       "      <td>7</td>\n",
       "      <td>https://www.cnn.com/2023/09/27/politics/house-...</td>\n",
       "      <td>Hunter Biden probe: House Republicans release ...</td>\n",
       "      <td>-0.01</td>\n",
       "      <td>Negative</td>\n",
       "      <td>0.35</td>\n",
       "      <td>new, significant, unpaid, more, real, light, g...</td>\n",
       "      <td>single, other, complained, failed, addicted, f...</td>\n",
       "      <td>washington cnn —\\ndocuments released wednesday...</td>\n",
       "      <td>[(1, 0.99834514)]</td>\n",
       "      <td>1</td>\n",
       "      <td>0.998345</td>\n",
       "      <td>[[hunter, president, investigation, charge, fa...</td>\n",
       "      <td>www.cnn.com</td>\n",
       "    </tr>\n",
       "    <tr>\n",
       "      <th>8</th>\n",
       "      <td>8</td>\n",
       "      <td>https://abcnews.go.com/Politics/comer-issue-su...</td>\n",
       "      <td>Comer says he will issue subpoenas 'today' for...</td>\n",
       "      <td>0.01</td>\n",
       "      <td>Neutral Negative</td>\n",
       "      <td>0.40</td>\n",
       "      <td>far, new, more, first, directly, top</td>\n",
       "      <td>extreme, mean, other, late, previously, missing</td>\n",
       "      <td>house oversight committee chairman james comer...</td>\n",
       "      <td>[(1, 0.99652946)]</td>\n",
       "      <td>1</td>\n",
       "      <td>0.996529</td>\n",
       "      <td>[[hunter, president, investigation, charge, fa...</td>\n",
       "      <td>abcnews.go.com</td>\n",
       "    </tr>\n",
       "    <tr>\n",
       "      <th>9</th>\n",
       "      <td>9</td>\n",
       "      <td>https://apnews.com/article/hunter-biden-prosec...</td>\n",
       "      <td>Hunter Biden prosecutor wasn’t blocked from br...</td>\n",
       "      <td>0.04</td>\n",
       "      <td>Neutral</td>\n",
       "      <td>0.43</td>\n",
       "      <td>full, very, more, special</td>\n",
       "      <td>behind, other, addicted, no, closed, expected,...</td>\n",
       "      <td>washington (ap) — a second u.s. attorney has t...</td>\n",
       "      <td>[(1, 0.99487394)]</td>\n",
       "      <td>1</td>\n",
       "      <td>0.994874</td>\n",
       "      <td>[[hunter, president, investigation, charge, fa...</td>\n",
       "      <td>apnews.com</td>\n",
       "    </tr>\n",
       "    <tr>\n",
       "      <th>10</th>\n",
       "      <td>10</td>\n",
       "      <td>https://nypost.com/2023/10/26/news/us-attorney...</td>\n",
       "      <td>Biden-picked LA US attorney claimed he was too...</td>\n",
       "      <td>0.03</td>\n",
       "      <td>Neutral</td>\n",
       "      <td>0.45</td>\n",
       "      <td>very, many, more, recently, apparent, winning,...</td>\n",
       "      <td>down, difficult, very, corrupt, past, allegedl...</td>\n",
       "      <td>washington — los angeles us attorney martin es...</td>\n",
       "      <td>[(1, 0.47720987), (4, 0.5204654)]</td>\n",
       "      <td>4</td>\n",
       "      <td>0.520465</td>\n",
       "      <td>[[office, hunter, information, source, foreign...</td>\n",
       "      <td>nypost.com</td>\n",
       "    </tr>\n",
       "    <tr>\n",
       "      <th>11</th>\n",
       "      <td>11</td>\n",
       "      <td>https://www.foxnews.com/politics/fbi-received-...</td>\n",
       "      <td>FBI received 'criminal information' from over ...</td>\n",
       "      <td>-0.03</td>\n",
       "      <td>Negative</td>\n",
       "      <td>0.34</td>\n",
       "      <td>general, special, clear, natural, top, new, si...</td>\n",
       "      <td>limited, ultimately, firm, falsely, due, alleg...</td>\n",
       "      <td>exclusive: the fbi maintained more than 40 con...</td>\n",
       "      <td>[(4, 0.9989667)]</td>\n",
       "      <td>4</td>\n",
       "      <td>0.998967</td>\n",
       "      <td>[[office, hunter, information, source, foreign...</td>\n",
       "      <td>www.foxnews.com</td>\n",
       "    </tr>\n",
       "    <tr>\n",
       "      <th>12</th>\n",
       "      <td>12</td>\n",
       "      <td>https://www.grassley.senate.gov/news/news-rele...</td>\n",
       "      <td>Grassley Reveals New Details of FBI Efforts to...</td>\n",
       "      <td>-0.00</td>\n",
       "      <td>Neutral Negative</td>\n",
       "      <td>0.39</td>\n",
       "      <td>new, significant, more, legally, general, earl...</td>\n",
       "      <td>least, behind, down, center, falsely, closed, ...</td>\n",
       "      <td>fbi’s biden bribery document cleared initial v...</td>\n",
       "      <td>[(4, 0.99575776)]</td>\n",
       "      <td>4</td>\n",
       "      <td>0.995758</td>\n",
       "      <td>[[office, hunter, information, source, foreign...</td>\n",
       "      <td>www.grassley.senate.gov</td>\n",
       "    </tr>\n",
       "    <tr>\n",
       "      <th>13</th>\n",
       "      <td>13</td>\n",
       "      <td>https://wjla.com/news/nation-world/senator-chu...</td>\n",
       "      <td>Sen. Grassley demand answers over handling of ...</td>\n",
       "      <td>-0.02</td>\n",
       "      <td>Negative</td>\n",
       "      <td>0.35</td>\n",
       "      <td>new, more, general, credible, really, certain</td>\n",
       "      <td>false, down, other, ordinary, criminal, foreig...</td>\n",
       "      <td>there are new questions about the role of the ...</td>\n",
       "      <td>[(3, 0.21303527), (4, 0.7807559)]</td>\n",
       "      <td>4</td>\n",
       "      <td>0.780756</td>\n",
       "      <td>[[office, hunter, information, source, foreign...</td>\n",
       "      <td>wjla.com</td>\n",
       "    </tr>\n",
       "    <tr>\n",
       "      <th>14</th>\n",
       "      <td>14</td>\n",
       "      <td>https://www.newsnationnow.com/danabramslive/ab...</td>\n",
       "      <td>Abrams: Comer’s Biden ‘bombshell’ once again f...</td>\n",
       "      <td>0.14</td>\n",
       "      <td>Positive</td>\n",
       "      <td>0.43</td>\n",
       "      <td>real, clear, marked, directly, consistently, m...</td>\n",
       "      <td>single, mean, tries, very, usually, bad, foreign</td>\n",
       "      <td>the views expressed in this article are those ...</td>\n",
       "      <td>[(0, 0.67666954), (1, 0.32118273)]</td>\n",
       "      <td>0</td>\n",
       "      <td>0.676670</td>\n",
       "      <td>[[democratic, president, phillip, campaign, pe...</td>\n",
       "      <td>www.newsnationnow.com</td>\n",
       "    </tr>\n",
       "    <tr>\n",
       "      <th>15</th>\n",
       "      <td>15</td>\n",
       "      <td>https://nypost.com/2023/10/25/news/us-attorney...</td>\n",
       "      <td>FBI hindered Hunter probe — and David Weiss sk...</td>\n",
       "      <td>0.07</td>\n",
       "      <td>Neutral Positive</td>\n",
       "      <td>0.42</td>\n",
       "      <td>very, general, generally, special, clear, natu...</td>\n",
       "      <td>least, hindered, down, other, previously, firm...</td>\n",
       "      <td>a former us attorney said the fbi hindered his...</td>\n",
       "      <td>[(4, 0.9980491)]</td>\n",
       "      <td>4</td>\n",
       "      <td>0.998049</td>\n",
       "      <td>[[office, hunter, information, source, foreign...</td>\n",
       "      <td>nypost.com</td>\n",
       "    </tr>\n",
       "    <tr>\n",
       "      <th>16</th>\n",
       "      <td>16</td>\n",
       "      <td>https://www.thenation.com/article/politics/rea...</td>\n",
       "      <td>The Real Hunter Biden Scandal</td>\n",
       "      <td>0.10</td>\n",
       "      <td>Neutral Positive</td>\n",
       "      <td>0.46</td>\n",
       "      <td>very, steadfast, powerful, special, clear, imp...</td>\n",
       "      <td>mostly, fearful, small, slightly, devastating,...</td>\n",
       "      <td>subscribe to the nation subscribe now for as l...</td>\n",
       "      <td>[(2, 0.9990967)]</td>\n",
       "      <td>2</td>\n",
       "      <td>0.999097</td>\n",
       "      <td>[[primary, state, hunter, write, party, nation...</td>\n",
       "      <td>www.thenation.com</td>\n",
       "    </tr>\n",
       "    <tr>\n",
       "      <th>17</th>\n",
       "      <td>17</td>\n",
       "      <td>https://www.politico.com/news/2023/10/26/speak...</td>\n",
       "      <td>Speaker Johnson raises conservatives' hopes fo...</td>\n",
       "      <td>0.12</td>\n",
       "      <td>Positive</td>\n",
       "      <td>0.50</td>\n",
       "      <td>straightforward, general, clear, directly, acu...</td>\n",
       "      <td>least, drag, behind, careful, other, less, fai...</td>\n",
       "      <td>“i think mike johnson is more than happy to mo...</td>\n",
       "      <td>[(0, 0.7606449), (1, 0.23785491)]</td>\n",
       "      <td>0</td>\n",
       "      <td>0.760645</td>\n",
       "      <td>[[democratic, president, phillip, campaign, pe...</td>\n",
       "      <td>www.politico.com</td>\n",
       "    </tr>\n",
       "    <tr>\n",
       "      <th>18</th>\n",
       "      <td>18</td>\n",
       "      <td>https://www.cnn.com/2023/08/11/politics/hunter...</td>\n",
       "      <td>The new twist in Hunter Biden’s case is a huge...</td>\n",
       "      <td>0.06</td>\n",
       "      <td>Neutral</td>\n",
       "      <td>0.48</td>\n",
       "      <td>exact, truthful, kind, exactly, fresh, general...</td>\n",
       "      <td>drag, failed, guilty, firm, bad, other, feveri...</td>\n",
       "      <td>cnn —\\na sudden new twist in the investigation...</td>\n",
       "      <td>[(1, 0.99894094)]</td>\n",
       "      <td>1</td>\n",
       "      <td>0.998941</td>\n",
       "      <td>[[hunter, president, investigation, charge, fa...</td>\n",
       "      <td>www.cnn.com</td>\n",
       "    </tr>\n",
       "    <tr>\n",
       "      <th>19</th>\n",
       "      <td>19</td>\n",
       "      <td>https://www.washingtonexaminer.com/news/white-...</td>\n",
       "      <td>Texts reveal Hunter Biden's meltdown over disc...</td>\n",
       "      <td>-0.06</td>\n",
       "      <td>Negative</td>\n",
       "      <td>0.48</td>\n",
       "      <td>authentic, special, beautiful, top, new, more,...</td>\n",
       "      <td>very, dangerous, falsely, due, allegedly, down...</td>\n",
       "      <td>exclusive — hunter biden berated his sister-in...</td>\n",
       "      <td>[(1, 0.9987667)]</td>\n",
       "      <td>1</td>\n",
       "      <td>0.998767</td>\n",
       "      <td>[[hunter, president, investigation, charge, fa...</td>\n",
       "      <td>www.washingtonexaminer.com</td>\n",
       "    </tr>\n",
       "    <tr>\n",
       "      <th>20</th>\n",
       "      <td>20</td>\n",
       "      <td>https://www.dailymail.co.uk/news/article-12673...</td>\n",
       "      <td>Over 40 confidential FBI sources say there's e...</td>\n",
       "      <td>-0.03</td>\n",
       "      <td>Negative</td>\n",
       "      <td>0.39</td>\n",
       "      <td>complete, significant, general, originally, mo...</td>\n",
       "      <td>false, down, least, firm, falsely, questionabl...</td>\n",
       "      <td>over 40 confidential fbi sources say there's e...</td>\n",
       "      <td>[(4, 0.99783176)]</td>\n",
       "      <td>4</td>\n",
       "      <td>0.997832</td>\n",
       "      <td>[[office, hunter, information, source, foreign...</td>\n",
       "      <td>www.dailymail.co.uk</td>\n",
       "    </tr>\n",
       "    <tr>\n",
       "      <th>21</th>\n",
       "      <td>21</td>\n",
       "      <td>https://thefederalist.com/2023/10/26/fbi-and-i...</td>\n",
       "      <td>FBI Purged Sources Who Were Onto Biden Corruption</td>\n",
       "      <td>0.01</td>\n",
       "      <td>Neutral Negative</td>\n",
       "      <td>0.37</td>\n",
       "      <td>free, general, special, important, new, signif...</td>\n",
       "      <td>false, down, behind, sham, serious, less, othe...</td>\n",
       "      <td>the fbi’s foreign influence task force used a ...</td>\n",
       "      <td>[(4, 0.998768)]</td>\n",
       "      <td>4</td>\n",
       "      <td>0.998768</td>\n",
       "      <td>[[office, hunter, information, source, foreign...</td>\n",
       "      <td>thefederalist.com</td>\n",
       "    </tr>\n",
       "    <tr>\n",
       "      <th>22</th>\n",
       "      <td>22</td>\n",
       "      <td>https://www.washingtontimes.com/news/2023/oct/...</td>\n",
       "      <td>‘Political infection’: Senior senator says FBI...</td>\n",
       "      <td>0.09</td>\n",
       "      <td>Neutral Positive</td>\n",
       "      <td>0.40</td>\n",
       "      <td>far, detailed, significant, more, general, awa...</td>\n",
       "      <td>disturbing, down, other, alleged, foreign, pot...</td>\n",
       "      <td>more than 40 confidential sources were providi...</td>\n",
       "      <td>[(1, 0.37421024), (4, 0.62273145)]</td>\n",
       "      <td>4</td>\n",
       "      <td>0.622731</td>\n",
       "      <td>[[office, hunter, information, source, foreign...</td>\n",
       "      <td>www.washingtontimes.com</td>\n",
       "    </tr>\n",
       "    <tr>\n",
       "      <th>23</th>\n",
       "      <td>23</td>\n",
       "      <td>https://www.usatoday.com/story/news/politics/2...</td>\n",
       "      <td>Biden weighs in on Mike Johnson, new Speaker o...</td>\n",
       "      <td>0.20</td>\n",
       "      <td>Positive</td>\n",
       "      <td>0.41</td>\n",
       "      <td>new, good, real, rose, legal, important, unpre...</td>\n",
       "      <td>common</td>\n",
       "      <td>washington − president joe biden, weighing in ...</td>\n",
       "      <td>[(0, 0.9926211)]</td>\n",
       "      <td>0</td>\n",
       "      <td>0.992621</td>\n",
       "      <td>[[democratic, president, phillip, campaign, pe...</td>\n",
       "      <td>www.usatoday.com</td>\n",
       "    </tr>\n",
       "    <tr>\n",
       "      <th>24</th>\n",
       "      <td>24</td>\n",
       "      <td>https://apnews.com/article/biden-new-hampshire...</td>\n",
       "      <td>So Biden’s a no-show on the New Hampshire prim...</td>\n",
       "      <td>0.17</td>\n",
       "      <td>Positive</td>\n",
       "      <td>0.47</td>\n",
       "      <td>available, general, marked, detailed, new, pos...</td>\n",
       "      <td>least, down, other, common, usually, not, brok...</td>\n",
       "      <td>washington (ap) — president joe biden wasn’t s...</td>\n",
       "      <td>[(2, 0.99839777)]</td>\n",
       "      <td>2</td>\n",
       "      <td>0.998398</td>\n",
       "      <td>[[primary, state, hunter, write, party, nation...</td>\n",
       "      <td>apnews.com</td>\n",
       "    </tr>\n",
       "    <tr>\n",
       "      <th>25</th>\n",
       "      <td>25</td>\n",
       "      <td>https://www.politico.com/news/2023/10/24/biden...</td>\n",
       "      <td>Biden won’t appear on New Hampshire primary ba...</td>\n",
       "      <td>0.21</td>\n",
       "      <td>Positive</td>\n",
       "      <td>0.51</td>\n",
       "      <td>new, primary, more, general, early</td>\n",
       "      <td></td>\n",
       "      <td>president joe biden’s name will not appear on ...</td>\n",
       "      <td>[(2, 0.9867652)]</td>\n",
       "      <td>2</td>\n",
       "      <td>0.986765</td>\n",
       "      <td>[[primary, state, hunter, write, party, nation...</td>\n",
       "      <td>www.politico.com</td>\n",
       "    </tr>\n",
       "    <tr>\n",
       "      <th>26</th>\n",
       "      <td>26</td>\n",
       "      <td>https://www.nbcnews.com/politics/2024-election...</td>\n",
       "      <td>Republicans float a quiet conspiracy theory th...</td>\n",
       "      <td>0.04</td>\n",
       "      <td>Neutral</td>\n",
       "      <td>0.41</td>\n",
       "      <td>exactly, real, general, new, social, hot, more...</td>\n",
       "      <td>behind, very, secret, other, dangerous, center...</td>\n",
       "      <td>president joe biden announced in april that he...</td>\n",
       "      <td>[(0, 0.9544837), (4, 0.044175677)]</td>\n",
       "      <td>0</td>\n",
       "      <td>0.954484</td>\n",
       "      <td>[[democratic, president, phillip, campaign, pe...</td>\n",
       "      <td>www.nbcnews.com</td>\n",
       "    </tr>\n",
       "    <tr>\n",
       "      <th>27</th>\n",
       "      <td>27</td>\n",
       "      <td>https://www.foxnews.com/media/james-carville-c...</td>\n",
       "      <td>James Carville calls Democrats 'ludicrous' who...</td>\n",
       "      <td>-0.00</td>\n",
       "      <td>Neutral Negative</td>\n",
       "      <td>0.39</td>\n",
       "      <td>far, new, more, pretty, clear, old, controvers...</td>\n",
       "      <td>least, illegally, serious, other, unlikely, hi...</td>\n",
       "      <td>democratic strategist james carville said in a...</td>\n",
       "      <td>[(0, 0.5767195), (2, 0.42024526)]</td>\n",
       "      <td>0</td>\n",
       "      <td>0.576720</td>\n",
       "      <td>[[democratic, president, phillip, campaign, pe...</td>\n",
       "      <td>www.foxnews.com</td>\n",
       "    </tr>\n",
       "    <tr>\n",
       "      <th>28</th>\n",
       "      <td>28</td>\n",
       "      <td>https://abcnews.go.com/Politics/white-democrat...</td>\n",
       "      <td>Non-white Dems upset as Dean Phillips expected...</td>\n",
       "      <td>0.09</td>\n",
       "      <td>Neutral Positive</td>\n",
       "      <td>0.46</td>\n",
       "      <td>very, fresh, general, compelling, new, good, m...</td>\n",
       "      <td>least, down, poor, other, hard, black, not, ex...</td>\n",
       "      <td>minnesota rep. dean phillips' expected decisio...</td>\n",
       "      <td>[(2, 0.99765086)]</td>\n",
       "      <td>2</td>\n",
       "      <td>0.997651</td>\n",
       "      <td>[[primary, state, hunter, write, party, nation...</td>\n",
       "      <td>abcnews.go.com</td>\n",
       "    </tr>\n",
       "    <tr>\n",
       "      <th>29</th>\n",
       "      <td>29</td>\n",
       "      <td>https://www.washingtonpost.com/politics/2023/1...</td>\n",
       "      <td>Dean Phillips’s primary challenge of Biden wil...</td>\n",
       "      <td>0.13</td>\n",
       "      <td>Positive</td>\n",
       "      <td>0.38</td>\n",
       "      <td>supporting, real, intimately, advanced, genera...</td>\n",
       "      <td>relatively, frustrating, historically, previou...</td>\n",
       "      <td>listen 9 min share comment on this story comme...</td>\n",
       "      <td>[(0, 0.99887323)]</td>\n",
       "      <td>0</td>\n",
       "      <td>0.998873</td>\n",
       "      <td>[[democratic, president, phillip, campaign, pe...</td>\n",
       "      <td>www.washingtonpost.com</td>\n",
       "    </tr>\n",
       "    <tr>\n",
       "      <th>30</th>\n",
       "      <td>30</td>\n",
       "      <td>https://www.wmur.com/article/biden-new-hampshi...</td>\n",
       "      <td>Biden campaign announces he won't appear on Ne...</td>\n",
       "      <td>0.22</td>\n",
       "      <td>Positive</td>\n",
       "      <td>0.47</td>\n",
       "      <td>very, top, uncommon, new, good, more, win, leg...</td>\n",
       "      <td>least, other, sec, tired, small, not, expected</td>\n",
       "      <td>says no matter what happens - new hampshire wi...</td>\n",
       "      <td>[(0, 0.4298709), (2, 0.56771916)]</td>\n",
       "      <td>2</td>\n",
       "      <td>0.567719</td>\n",
       "      <td>[[primary, state, hunter, write, party, nation...</td>\n",
       "      <td>www.wmur.com</td>\n",
       "    </tr>\n",
       "    <tr>\n",
       "      <th>31</th>\n",
       "      <td>31</td>\n",
       "      <td>https://www.startribune.com/minnesota-rep-dean...</td>\n",
       "      <td>Rep. Dean Phillips to announce presidential ca...</td>\n",
       "      <td>0.14</td>\n",
       "      <td>Positive</td>\n",
       "      <td>0.42</td>\n",
       "      <td>new, primary, great, more, confirmed, prominen...</td>\n",
       "      <td>disappointed, behind, cold, secret</td>\n",
       "      <td>concord, n.h. — dean phillips is running for p...</td>\n",
       "      <td>[(0, 0.9958708)]</td>\n",
       "      <td>0</td>\n",
       "      <td>0.995871</td>\n",
       "      <td>[[democratic, president, phillip, campaign, pe...</td>\n",
       "      <td>www.startribune.com</td>\n",
       "    </tr>\n",
       "    <tr>\n",
       "      <th>32</th>\n",
       "      <td>32</td>\n",
       "      <td>https://www.reuters.com/world/middle-east/bide...</td>\n",
       "      <td>Biden says he has 'no confidence' in Palestini...</td>\n",
       "      <td>0.02</td>\n",
       "      <td>Neutral Negative</td>\n",
       "      <td>0.46</td>\n",
       "      <td>sure, many, rose, confirmed, innocent, high</td>\n",
       "      <td>behind, difficult, skeptical, incredibly, unab...</td>\n",
       "      <td>u.s. president joe biden addresses a joint pre...</td>\n",
       "      <td>[(0, 0.9945848)]</td>\n",
       "      <td>0</td>\n",
       "      <td>0.994585</td>\n",
       "      <td>[[democratic, president, phillip, campaign, pe...</td>\n",
       "      <td>www.reuters.com</td>\n",
       "    </tr>\n",
       "    <tr>\n",
       "      <th>33</th>\n",
       "      <td>33</td>\n",
       "      <td>https://apnews.com/article/biden-west-bank-set...</td>\n",
       "      <td>Biden condemns retaliatory attacks by Israeli ...</td>\n",
       "      <td>0.06</td>\n",
       "      <td>Neutral</td>\n",
       "      <td>0.35</td>\n",
       "      <td>sure, more, real, free, forcibly, live, large,...</td>\n",
       "      <td>military, other, deadly, small, not, incredibl...</td>\n",
       "      <td>washington (ap) — president joe biden on wedne...</td>\n",
       "      <td>[(0, 0.3919361), (2, 0.6057589)]</td>\n",
       "      <td>2</td>\n",
       "      <td>0.605759</td>\n",
       "      <td>[[primary, state, hunter, write, party, nation...</td>\n",
       "      <td>apnews.com</td>\n",
       "    </tr>\n",
       "    <tr>\n",
       "      <th>34</th>\n",
       "      <td>34</td>\n",
       "      <td>https://www.cnn.com/2023/10/26/politics/biden-...</td>\n",
       "      <td>The Biden coalition risks a damaging break ove...</td>\n",
       "      <td>0.08</td>\n",
       "      <td>Neutral Positive</td>\n",
       "      <td>0.43</td>\n",
       "      <td>supporting, very, mostly, powerful, kind, prof...</td>\n",
       "      <td>behind, military, other, brutal, bloody, relat...</td>\n",
       "      <td>cnn —\\nthe liberal coalition that drove joe bi...</td>\n",
       "      <td>[(0, 0.998617)]</td>\n",
       "      <td>0</td>\n",
       "      <td>0.998617</td>\n",
       "      <td>[[democratic, president, phillip, campaign, pe...</td>\n",
       "      <td>www.cnn.com</td>\n",
       "    </tr>\n",
       "    <tr>\n",
       "      <th>35</th>\n",
       "      <td>35</td>\n",
       "      <td>https://www.foxnews.com/politics/cair-slams-bi...</td>\n",
       "      <td>CAIR slams Biden remarks on Palestinian civili...</td>\n",
       "      <td>0.01</td>\n",
       "      <td>Neutral Negative</td>\n",
       "      <td>0.41</td>\n",
       "      <td>significant, truthful, many, more, sure, live,...</td>\n",
       "      <td>alleged, false, shocked, other, previously, pa...</td>\n",
       "      <td>a u.s.-based pro-muslim group blasted presiden...</td>\n",
       "      <td>[(0, 0.64869523), (4, 0.34954497)]</td>\n",
       "      <td>0</td>\n",
       "      <td>0.648695</td>\n",
       "      <td>[[democratic, president, phillip, campaign, pe...</td>\n",
       "      <td>www.foxnews.com</td>\n",
       "    </tr>\n",
       "    <tr>\n",
       "      <th>36</th>\n",
       "      <td>36</td>\n",
       "      <td>https://www.washingtonpost.com/politics/2023/1...</td>\n",
       "      <td>Progressives rebel against Biden’s handling of...</td>\n",
       "      <td>0.05</td>\n",
       "      <td>Neutral</td>\n",
       "      <td>0.37</td>\n",
       "      <td>supporting, powerful, elect, exactly, kind, ge...</td>\n",
       "      <td>vulnerable, blatant, other, past, anger, half,...</td>\n",
       "      <td>listen 9 min share comment on this story comme...</td>\n",
       "      <td>[(0, 0.99885046)]</td>\n",
       "      <td>0</td>\n",
       "      <td>0.998850</td>\n",
       "      <td>[[democratic, president, phillip, campaign, pe...</td>\n",
       "      <td>www.washingtonpost.com</td>\n",
       "    </tr>\n",
       "    <tr>\n",
       "      <th>37</th>\n",
       "      <td>37</td>\n",
       "      <td>https://www.usatoday.com/story/news/world/2023...</td>\n",
       "      <td>Biden warns Iran not to attack American troops...</td>\n",
       "      <td>0.08</td>\n",
       "      <td>Neutral Positive</td>\n",
       "      <td>0.44</td>\n",
       "      <td>significant, very, sure, steadfastly, more, st...</td>\n",
       "      <td>least, military, careful, incredibly, trapped,...</td>\n",
       "      <td>washington — president joe biden said he issue...</td>\n",
       "      <td>[(0, 0.72771704), (2, 0.2699611)]</td>\n",
       "      <td>0</td>\n",
       "      <td>0.727717</td>\n",
       "      <td>[[democratic, president, phillip, campaign, pe...</td>\n",
       "      <td>www.usatoday.com</td>\n",
       "    </tr>\n",
       "    <tr>\n",
       "      <th>38</th>\n",
       "      <td>38</td>\n",
       "      <td>https://www.reuters.com/world/middle-east/bide...</td>\n",
       "      <td>Biden warns Iran against targeting US troops i...</td>\n",
       "      <td>-0.01</td>\n",
       "      <td>Negative</td>\n",
       "      <td>0.23</td>\n",
       "      <td>mostly, social, more, direct, not, elaborate, ...</td>\n",
       "      <td>least, military, other, past, unable, foreign,...</td>\n",
       "      <td>iran's supreme leader ayatollah ali khamenei a...</td>\n",
       "      <td>[(0, 0.9965671)]</td>\n",
       "      <td>0</td>\n",
       "      <td>0.996567</td>\n",
       "      <td>[[democratic, president, phillip, campaign, pe...</td>\n",
       "      <td>www.reuters.com</td>\n",
       "    </tr>\n",
       "    <tr>\n",
       "      <th>39</th>\n",
       "      <td>39</td>\n",
       "      <td>https://www.foxnews.com/politics/nearly-two-th...</td>\n",
       "      <td>Nearly two-thirds of New Yorkers blame Biden f...</td>\n",
       "      <td>0.08</td>\n",
       "      <td>Neutral Positive</td>\n",
       "      <td>0.46</td>\n",
       "      <td>far, overwhelming, new, action, available, goo...</td>\n",
       "      <td>least, soured, very, serious, other, destroy, ...</td>\n",
       "      <td>a new poll found that nearly two-thirds of new...</td>\n",
       "      <td>[(0, 0.9974852)]</td>\n",
       "      <td>0</td>\n",
       "      <td>0.997485</td>\n",
       "      <td>[[democratic, president, phillip, campaign, pe...</td>\n",
       "      <td>www.foxnews.com</td>\n",
       "    </tr>\n",
       "  </tbody>\n",
       "</table>\n",
       "</div>"
      ],
      "text/plain": [
       "    ID                                                URL  \\\n",
       "0    0  https://www.foxnews.com/politics/hunter-bidens...   \n",
       "1    1  https://www.foxnews.com/politics/doj-ordered-h...   \n",
       "2    2  https://www.foxnews.com/politics/hunter-biden-...   \n",
       "3    3  https://apnews.com/article/hunter-biden-impeac...   \n",
       "4    4  https://www.nation.com.pk/21-Jun-2023/hunter-b...   \n",
       "5    5  https://www.nation.com.pk/25-Jul-2021/white-ho...   \n",
       "6    6  https://www.nation.com.pk/24-Dec-2019/hunter-b...   \n",
       "7    7  https://www.cnn.com/2023/09/27/politics/house-...   \n",
       "8    8  https://abcnews.go.com/Politics/comer-issue-su...   \n",
       "9    9  https://apnews.com/article/hunter-biden-prosec...   \n",
       "10  10  https://nypost.com/2023/10/26/news/us-attorney...   \n",
       "11  11  https://www.foxnews.com/politics/fbi-received-...   \n",
       "12  12  https://www.grassley.senate.gov/news/news-rele...   \n",
       "13  13  https://wjla.com/news/nation-world/senator-chu...   \n",
       "14  14  https://www.newsnationnow.com/danabramslive/ab...   \n",
       "15  15  https://nypost.com/2023/10/25/news/us-attorney...   \n",
       "16  16  https://www.thenation.com/article/politics/rea...   \n",
       "17  17  https://www.politico.com/news/2023/10/26/speak...   \n",
       "18  18  https://www.cnn.com/2023/08/11/politics/hunter...   \n",
       "19  19  https://www.washingtonexaminer.com/news/white-...   \n",
       "20  20  https://www.dailymail.co.uk/news/article-12673...   \n",
       "21  21  https://thefederalist.com/2023/10/26/fbi-and-i...   \n",
       "22  22  https://www.washingtontimes.com/news/2023/oct/...   \n",
       "23  23  https://www.usatoday.com/story/news/politics/2...   \n",
       "24  24  https://apnews.com/article/biden-new-hampshire...   \n",
       "25  25  https://www.politico.com/news/2023/10/24/biden...   \n",
       "26  26  https://www.nbcnews.com/politics/2024-election...   \n",
       "27  27  https://www.foxnews.com/media/james-carville-c...   \n",
       "28  28  https://abcnews.go.com/Politics/white-democrat...   \n",
       "29  29  https://www.washingtonpost.com/politics/2023/1...   \n",
       "30  30  https://www.wmur.com/article/biden-new-hampshi...   \n",
       "31  31  https://www.startribune.com/minnesota-rep-dean...   \n",
       "32  32  https://www.reuters.com/world/middle-east/bide...   \n",
       "33  33  https://apnews.com/article/biden-west-bank-set...   \n",
       "34  34  https://www.cnn.com/2023/10/26/politics/biden-...   \n",
       "35  35  https://www.foxnews.com/politics/cair-slams-bi...   \n",
       "36  36  https://www.washingtonpost.com/politics/2023/1...   \n",
       "37  37  https://www.usatoday.com/story/news/world/2023...   \n",
       "38  38  https://www.reuters.com/world/middle-east/bide...   \n",
       "39  39  https://www.foxnews.com/politics/nearly-two-th...   \n",
       "\n",
       "                                        Article Title  Sentiment Score  \\\n",
       "0   Hunter Biden's $250K wire from China labeled a...             0.04   \n",
       "1   DOJ ordered Hunter Biden investigators to 'rem...             0.06   \n",
       "2   Hunter Biden sues Rudy Giuliani over laptop, a...            -0.04   \n",
       "3   House Republicans make their case for Biden im...             0.02   \n",
       "4   Hunter Biden to plead guilty to federal tax ch...            -0.04   \n",
       "5   White House on defensive over Hunter Biden art...             0.10   \n",
       "6   Hunter Biden figures in ‘multiple criminal inv...            -0.11   \n",
       "7   Hunter Biden probe: House Republicans release ...            -0.01   \n",
       "8   Comer says he will issue subpoenas 'today' for...             0.01   \n",
       "9   Hunter Biden prosecutor wasn’t blocked from br...             0.04   \n",
       "10  Biden-picked LA US attorney claimed he was too...             0.03   \n",
       "11  FBI received 'criminal information' from over ...            -0.03   \n",
       "12  Grassley Reveals New Details of FBI Efforts to...            -0.00   \n",
       "13  Sen. Grassley demand answers over handling of ...            -0.02   \n",
       "14  Abrams: Comer’s Biden ‘bombshell’ once again f...             0.14   \n",
       "15  FBI hindered Hunter probe — and David Weiss sk...             0.07   \n",
       "16                      The Real Hunter Biden Scandal             0.10   \n",
       "17  Speaker Johnson raises conservatives' hopes fo...             0.12   \n",
       "18  The new twist in Hunter Biden’s case is a huge...             0.06   \n",
       "19  Texts reveal Hunter Biden's meltdown over disc...            -0.06   \n",
       "20  Over 40 confidential FBI sources say there's e...            -0.03   \n",
       "21  FBI Purged Sources Who Were Onto Biden Corruption             0.01   \n",
       "22  ‘Political infection’: Senior senator says FBI...             0.09   \n",
       "23  Biden weighs in on Mike Johnson, new Speaker o...             0.20   \n",
       "24  So Biden’s a no-show on the New Hampshire prim...             0.17   \n",
       "25  Biden won’t appear on New Hampshire primary ba...             0.21   \n",
       "26  Republicans float a quiet conspiracy theory th...             0.04   \n",
       "27  James Carville calls Democrats 'ludicrous' who...            -0.00   \n",
       "28  Non-white Dems upset as Dean Phillips expected...             0.09   \n",
       "29  Dean Phillips’s primary challenge of Biden wil...             0.13   \n",
       "30  Biden campaign announces he won't appear on Ne...             0.22   \n",
       "31  Rep. Dean Phillips to announce presidential ca...             0.14   \n",
       "32  Biden says he has 'no confidence' in Palestini...             0.02   \n",
       "33  Biden condemns retaliatory attacks by Israeli ...             0.06   \n",
       "34  The Biden coalition risks a damaging break ove...             0.08   \n",
       "35  CAIR slams Biden remarks on Palestinian civili...             0.01   \n",
       "36  Progressives rebel against Biden’s handling of...             0.05   \n",
       "37  Biden warns Iran not to attack American troops...             0.08   \n",
       "38  Biden warns Iran against targeting US troops i...            -0.01   \n",
       "39  Nearly two-thirds of New Yorkers blame Biden f...             0.08   \n",
       "\n",
       "     Sentiment Label  Subjectivity Score  \\\n",
       "0            Neutral                0.24   \n",
       "1            Neutral                0.35   \n",
       "2           Negative                0.37   \n",
       "3   Neutral Negative                0.37   \n",
       "4           Negative                0.44   \n",
       "5   Neutral Positive                0.41   \n",
       "6           Negative                0.40   \n",
       "7           Negative                0.35   \n",
       "8   Neutral Negative                0.40   \n",
       "9            Neutral                0.43   \n",
       "10           Neutral                0.45   \n",
       "11          Negative                0.34   \n",
       "12  Neutral Negative                0.39   \n",
       "13          Negative                0.35   \n",
       "14          Positive                0.43   \n",
       "15  Neutral Positive                0.42   \n",
       "16  Neutral Positive                0.46   \n",
       "17          Positive                0.50   \n",
       "18           Neutral                0.48   \n",
       "19          Negative                0.48   \n",
       "20          Negative                0.39   \n",
       "21  Neutral Negative                0.37   \n",
       "22  Neutral Positive                0.40   \n",
       "23          Positive                0.41   \n",
       "24          Positive                0.47   \n",
       "25          Positive                0.51   \n",
       "26           Neutral                0.41   \n",
       "27  Neutral Negative                0.39   \n",
       "28  Neutral Positive                0.46   \n",
       "29          Positive                0.38   \n",
       "30          Positive                0.47   \n",
       "31          Positive                0.42   \n",
       "32  Neutral Negative                0.46   \n",
       "33           Neutral                0.35   \n",
       "34  Neutral Positive                0.43   \n",
       "35  Neutral Negative                0.41   \n",
       "36           Neutral                0.37   \n",
       "37  Neutral Positive                0.44   \n",
       "38          Negative                0.23   \n",
       "39  Neutral Positive                0.46   \n",
       "\n",
       "                                       Positive Words  \\\n",
       "0         new, unpaid, more, main, best, legal, first   \n",
       "1   detailed, new, more, exactly, light, real, app...   \n",
       "2   new, latest, many, direct, generally, extraord...   \n",
       "3   far, action, new, promising, many, more, much,...   \n",
       "4       detailed, social, love, not, important, first   \n",
       "5   new, economic, professional, winning, appropri...   \n",
       "6                                   more, new, nearly   \n",
       "7   new, significant, unpaid, more, real, light, g...   \n",
       "8                far, new, more, first, directly, top   \n",
       "9                           full, very, more, special   \n",
       "10  very, many, more, recently, apparent, winning,...   \n",
       "11  general, special, clear, natural, top, new, si...   \n",
       "12  new, significant, more, legally, general, earl...   \n",
       "13      new, more, general, credible, really, certain   \n",
       "14  real, clear, marked, directly, consistently, m...   \n",
       "15  very, general, generally, special, clear, natu...   \n",
       "16  very, steadfast, powerful, special, clear, imp...   \n",
       "17  straightforward, general, clear, directly, acu...   \n",
       "18  exact, truthful, kind, exactly, fresh, general...   \n",
       "19  authentic, special, beautiful, top, new, more,...   \n",
       "20  complete, significant, general, originally, mo...   \n",
       "21  free, general, special, important, new, signif...   \n",
       "22  far, detailed, significant, more, general, awa...   \n",
       "23  new, good, real, rose, legal, important, unpre...   \n",
       "24  available, general, marked, detailed, new, pos...   \n",
       "25                 new, primary, more, general, early   \n",
       "26  exactly, real, general, new, social, hot, more...   \n",
       "27  far, new, more, pretty, clear, old, controvers...   \n",
       "28  very, fresh, general, compelling, new, good, m...   \n",
       "29  supporting, real, intimately, advanced, genera...   \n",
       "30  very, top, uncommon, new, good, more, win, leg...   \n",
       "31  new, primary, great, more, confirmed, prominen...   \n",
       "32        sure, many, rose, confirmed, innocent, high   \n",
       "33  sure, more, real, free, forcibly, live, large,...   \n",
       "34  supporting, very, mostly, powerful, kind, prof...   \n",
       "35  significant, truthful, many, more, sure, live,...   \n",
       "36  supporting, powerful, elect, exactly, kind, ge...   \n",
       "37  significant, very, sure, steadfastly, more, st...   \n",
       "38  mostly, social, more, direct, not, elaborate, ...   \n",
       "39  far, overwhelming, new, action, available, goo...   \n",
       "\n",
       "                                       Negative Words  \\\n",
       "0   least, down, limited, previously, approximatel...   \n",
       "1   least, other, limited, not, subject, criminal,...   \n",
       "2   alleged, illegally, jail, other, failure, hard...   \n",
       "3   down, military, failed, thin, skeptical, unlik...   \n",
       "4   least, other, failure, guilty, due, subject, c...   \n",
       "5                                                half   \n",
       "6   behind, limited, guilty, firm, average, crimin...   \n",
       "7   single, other, complained, failed, addicted, f...   \n",
       "8     extreme, mean, other, late, previously, missing   \n",
       "9   behind, other, addicted, no, closed, expected,...   \n",
       "10  down, difficult, very, corrupt, past, allegedl...   \n",
       "11  limited, ultimately, firm, falsely, due, alleg...   \n",
       "12  least, behind, down, center, falsely, closed, ...   \n",
       "13  false, down, other, ordinary, criminal, foreig...   \n",
       "14   single, mean, tries, very, usually, bad, foreign   \n",
       "15  least, hindered, down, other, previously, firm...   \n",
       "16  mostly, fearful, small, slightly, devastating,...   \n",
       "17  least, drag, behind, careful, other, less, fai...   \n",
       "18  drag, failed, guilty, firm, bad, other, feveri...   \n",
       "19  very, dangerous, falsely, due, allegedly, down...   \n",
       "20  false, down, least, firm, falsely, questionabl...   \n",
       "21  false, down, behind, sham, serious, less, othe...   \n",
       "22  disturbing, down, other, alleged, foreign, pot...   \n",
       "23                                             common   \n",
       "24  least, down, other, common, usually, not, brok...   \n",
       "25                                                      \n",
       "26  behind, very, secret, other, dangerous, center...   \n",
       "27  least, illegally, serious, other, unlikely, hi...   \n",
       "28  least, down, poor, other, hard, black, not, ex...   \n",
       "29  relatively, frustrating, historically, previou...   \n",
       "30     least, other, sec, tired, small, not, expected   \n",
       "31                 disappointed, behind, cold, secret   \n",
       "32  behind, difficult, skeptical, incredibly, unab...   \n",
       "33  military, other, deadly, small, not, incredibl...   \n",
       "34  behind, military, other, brutal, bloody, relat...   \n",
       "35  alleged, false, shocked, other, previously, pa...   \n",
       "36  vulnerable, blatant, other, past, anger, half,...   \n",
       "37  least, military, careful, incredibly, trapped,...   \n",
       "38  least, military, other, past, unable, foreign,...   \n",
       "39  least, soured, very, serious, other, destroy, ...   \n",
       "\n",
       "                                                 Text  \\\n",
       "0   exclusive: the $250,000 wire hunter biden rece...   \n",
       "1   the u.s. department of justice ordered fbi and...   \n",
       "2   hunter biden on tuesday filed a lawsuit agains...   \n",
       "3   washington (ap) — house republicans launched a...   \n",
       "4   washigton-hunter biden, the son of president j...   \n",
       "5   washington - the white house assured saturday ...   \n",
       "6   hunter biden is the subject of multiple crimin...   \n",
       "7   washington cnn —\\ndocuments released wednesday...   \n",
       "8   house oversight committee chairman james comer...   \n",
       "9   washington (ap) — a second u.s. attorney has t...   \n",
       "10  washington — los angeles us attorney martin es...   \n",
       "11  exclusive: the fbi maintained more than 40 con...   \n",
       "12  fbi’s biden bribery document cleared initial v...   \n",
       "13  there are new questions about the role of the ...   \n",
       "14  the views expressed in this article are those ...   \n",
       "15  a former us attorney said the fbi hindered his...   \n",
       "16  subscribe to the nation subscribe now for as l...   \n",
       "17  “i think mike johnson is more than happy to mo...   \n",
       "18  cnn —\\na sudden new twist in the investigation...   \n",
       "19  exclusive — hunter biden berated his sister-in...   \n",
       "20  over 40 confidential fbi sources say there's e...   \n",
       "21  the fbi’s foreign influence task force used a ...   \n",
       "22  more than 40 confidential sources were providi...   \n",
       "23  washington − president joe biden, weighing in ...   \n",
       "24  washington (ap) — president joe biden wasn’t s...   \n",
       "25  president joe biden’s name will not appear on ...   \n",
       "26  president joe biden announced in april that he...   \n",
       "27  democratic strategist james carville said in a...   \n",
       "28  minnesota rep. dean phillips' expected decisio...   \n",
       "29  listen 9 min share comment on this story comme...   \n",
       "30  says no matter what happens - new hampshire wi...   \n",
       "31  concord, n.h. — dean phillips is running for p...   \n",
       "32  u.s. president joe biden addresses a joint pre...   \n",
       "33  washington (ap) — president joe biden on wedne...   \n",
       "34  cnn —\\nthe liberal coalition that drove joe bi...   \n",
       "35  a u.s.-based pro-muslim group blasted presiden...   \n",
       "36  listen 9 min share comment on this story comme...   \n",
       "37  washington — president joe biden said he issue...   \n",
       "38  iran's supreme leader ayatollah ali khamenei a...   \n",
       "39  a new poll found that nearly two-thirds of new...   \n",
       "\n",
       "                                               Topics  Main Topic  \\\n",
       "0                                   [(1, 0.99772745)]           1   \n",
       "1                                   [(1, 0.99818814)]           1   \n",
       "2   [(1, 0.2797389), (2, 0.6586757), (4, 0.06048125)]           2   \n",
       "3                                   [(1, 0.99843854)]           1   \n",
       "4                                   [(1, 0.99492466)]           1   \n",
       "5                   [(0, 0.7565104), (1, 0.23942026)]           0   \n",
       "6   [(1, 0.30864298), (2, 0.3922625), (4, 0.296157...           2   \n",
       "7                                   [(1, 0.99834514)]           1   \n",
       "8                                   [(1, 0.99652946)]           1   \n",
       "9                                   [(1, 0.99487394)]           1   \n",
       "10                  [(1, 0.47720987), (4, 0.5204654)]           4   \n",
       "11                                   [(4, 0.9989667)]           4   \n",
       "12                                  [(4, 0.99575776)]           4   \n",
       "13                  [(3, 0.21303527), (4, 0.7807559)]           4   \n",
       "14                 [(0, 0.67666954), (1, 0.32118273)]           0   \n",
       "15                                   [(4, 0.9980491)]           4   \n",
       "16                                   [(2, 0.9990967)]           2   \n",
       "17                  [(0, 0.7606449), (1, 0.23785491)]           0   \n",
       "18                                  [(1, 0.99894094)]           1   \n",
       "19                                   [(1, 0.9987667)]           1   \n",
       "20                                  [(4, 0.99783176)]           4   \n",
       "21                                    [(4, 0.998768)]           4   \n",
       "22                 [(1, 0.37421024), (4, 0.62273145)]           4   \n",
       "23                                   [(0, 0.9926211)]           0   \n",
       "24                                  [(2, 0.99839777)]           2   \n",
       "25                                   [(2, 0.9867652)]           2   \n",
       "26                 [(0, 0.9544837), (4, 0.044175677)]           0   \n",
       "27                  [(0, 0.5767195), (2, 0.42024526)]           0   \n",
       "28                                  [(2, 0.99765086)]           2   \n",
       "29                                  [(0, 0.99887323)]           0   \n",
       "30                  [(0, 0.4298709), (2, 0.56771916)]           2   \n",
       "31                                   [(0, 0.9958708)]           0   \n",
       "32                                   [(0, 0.9945848)]           0   \n",
       "33                   [(0, 0.3919361), (2, 0.6057589)]           2   \n",
       "34                                    [(0, 0.998617)]           0   \n",
       "35                 [(0, 0.64869523), (4, 0.34954497)]           0   \n",
       "36                                  [(0, 0.99885046)]           0   \n",
       "37                  [(0, 0.72771704), (2, 0.2699611)]           0   \n",
       "38                                   [(0, 0.9965671)]           0   \n",
       "39                                   [(0, 0.9974852)]           0   \n",
       "\n",
       "    Main Topic Score                                   Associated Words  \\\n",
       "0           0.997727  [[hunter, president, investigation, charge, fa...   \n",
       "1           0.998188  [[hunter, president, investigation, charge, fa...   \n",
       "2           0.658676  [[primary, state, hunter, write, party, nation...   \n",
       "3           0.998439  [[hunter, president, investigation, charge, fa...   \n",
       "4           0.994925  [[hunter, president, investigation, charge, fa...   \n",
       "5           0.756510  [[democratic, president, phillip, campaign, pe...   \n",
       "6           0.392262  [[primary, state, hunter, write, party, nation...   \n",
       "7           0.998345  [[hunter, president, investigation, charge, fa...   \n",
       "8           0.996529  [[hunter, president, investigation, charge, fa...   \n",
       "9           0.994874  [[hunter, president, investigation, charge, fa...   \n",
       "10          0.520465  [[office, hunter, information, source, foreign...   \n",
       "11          0.998967  [[office, hunter, information, source, foreign...   \n",
       "12          0.995758  [[office, hunter, information, source, foreign...   \n",
       "13          0.780756  [[office, hunter, information, source, foreign...   \n",
       "14          0.676670  [[democratic, president, phillip, campaign, pe...   \n",
       "15          0.998049  [[office, hunter, information, source, foreign...   \n",
       "16          0.999097  [[primary, state, hunter, write, party, nation...   \n",
       "17          0.760645  [[democratic, president, phillip, campaign, pe...   \n",
       "18          0.998941  [[hunter, president, investigation, charge, fa...   \n",
       "19          0.998767  [[hunter, president, investigation, charge, fa...   \n",
       "20          0.997832  [[office, hunter, information, source, foreign...   \n",
       "21          0.998768  [[office, hunter, information, source, foreign...   \n",
       "22          0.622731  [[office, hunter, information, source, foreign...   \n",
       "23          0.992621  [[democratic, president, phillip, campaign, pe...   \n",
       "24          0.998398  [[primary, state, hunter, write, party, nation...   \n",
       "25          0.986765  [[primary, state, hunter, write, party, nation...   \n",
       "26          0.954484  [[democratic, president, phillip, campaign, pe...   \n",
       "27          0.576720  [[democratic, president, phillip, campaign, pe...   \n",
       "28          0.997651  [[primary, state, hunter, write, party, nation...   \n",
       "29          0.998873  [[democratic, president, phillip, campaign, pe...   \n",
       "30          0.567719  [[primary, state, hunter, write, party, nation...   \n",
       "31          0.995871  [[democratic, president, phillip, campaign, pe...   \n",
       "32          0.994585  [[democratic, president, phillip, campaign, pe...   \n",
       "33          0.605759  [[primary, state, hunter, write, party, nation...   \n",
       "34          0.998617  [[democratic, president, phillip, campaign, pe...   \n",
       "35          0.648695  [[democratic, president, phillip, campaign, pe...   \n",
       "36          0.998850  [[democratic, president, phillip, campaign, pe...   \n",
       "37          0.727717  [[democratic, president, phillip, campaign, pe...   \n",
       "38          0.996567  [[democratic, president, phillip, campaign, pe...   \n",
       "39          0.997485  [[democratic, president, phillip, campaign, pe...   \n",
       "\n",
       "             Shortened Address  \n",
       "0              www.foxnews.com  \n",
       "1              www.foxnews.com  \n",
       "2              www.foxnews.com  \n",
       "3                   apnews.com  \n",
       "4            www.nation.com.pk  \n",
       "5            www.nation.com.pk  \n",
       "6            www.nation.com.pk  \n",
       "7                  www.cnn.com  \n",
       "8               abcnews.go.com  \n",
       "9                   apnews.com  \n",
       "10                  nypost.com  \n",
       "11             www.foxnews.com  \n",
       "12     www.grassley.senate.gov  \n",
       "13                    wjla.com  \n",
       "14       www.newsnationnow.com  \n",
       "15                  nypost.com  \n",
       "16           www.thenation.com  \n",
       "17            www.politico.com  \n",
       "18                 www.cnn.com  \n",
       "19  www.washingtonexaminer.com  \n",
       "20         www.dailymail.co.uk  \n",
       "21           thefederalist.com  \n",
       "22     www.washingtontimes.com  \n",
       "23            www.usatoday.com  \n",
       "24                  apnews.com  \n",
       "25            www.politico.com  \n",
       "26             www.nbcnews.com  \n",
       "27             www.foxnews.com  \n",
       "28              abcnews.go.com  \n",
       "29      www.washingtonpost.com  \n",
       "30                www.wmur.com  \n",
       "31         www.startribune.com  \n",
       "32             www.reuters.com  \n",
       "33                  apnews.com  \n",
       "34                 www.cnn.com  \n",
       "35             www.foxnews.com  \n",
       "36      www.washingtonpost.com  \n",
       "37            www.usatoday.com  \n",
       "38             www.reuters.com  \n",
       "39             www.foxnews.com  "
      ]
     },
     "execution_count": 9,
     "metadata": {},
     "output_type": "execute_result"
    }
   ],
   "source": [
    "# display the main dataframe\n",
    "df"
   ]
  },
  {
   "cell_type": "markdown",
   "id": "6bcda24f",
   "metadata": {},
   "source": [
    "Display the topic model words"
   ]
  },
  {
   "cell_type": "code",
   "execution_count": 10,
   "id": "1bd35257",
   "metadata": {},
   "outputs": [
    {
     "data": {
      "text/plain": [
       "{0: ['democratic',\n",
       "  'president',\n",
       "  'phillip',\n",
       "  'campaign',\n",
       "  'people',\n",
       "  'group',\n",
       "  'run',\n",
       "  'voter',\n",
       "  'support',\n",
       "  'party'],\n",
       " 1: ['hunter',\n",
       "  'president',\n",
       "  'investigation',\n",
       "  'charge',\n",
       "  'family',\n",
       "  'gun',\n",
       "  'son',\n",
       "  'evidence',\n",
       "  'political',\n",
       "  'document'],\n",
       " 2: ['primary',\n",
       "  'state',\n",
       "  'hunter',\n",
       "  'write',\n",
       "  'party',\n",
       "  'nation',\n",
       "  'vote',\n",
       "  'candidate',\n",
       "  'democratic',\n",
       "  'ballot'],\n",
       " 3: ['accountability',\n",
       "  'concern',\n",
       "  'state',\n",
       "  'mo',\n",
       "  'send',\n",
       "  'transparency',\n",
       "  'obstruct',\n",
       "  'suppress',\n",
       "  'incomplete',\n",
       "  'aspect'],\n",
       " 4: ['office',\n",
       "  'hunter',\n",
       "  'information',\n",
       "  'source',\n",
       "  'foreign',\n",
       "  'family',\n",
       "  'attorney',\n",
       "  'investigation',\n",
       "  'relate',\n",
       "  'letter']}"
      ]
     },
     "execution_count": 10,
     "metadata": {},
     "output_type": "execute_result"
    }
   ],
   "source": [
    "# Generate dictionary of all topic words\n",
    "topic_model_display = create_topic_words_dict(lda_model)\n",
    "\n",
    "# Display dictionary of all topics and their topic words\n",
    "topic_model_display"
   ]
  },
  {
   "cell_type": "markdown",
   "id": "9587fb26",
   "metadata": {},
   "source": [
    "## Visualize all articles on their main topic"
   ]
  },
  {
   "cell_type": "markdown",
   "id": "4e350ce8",
   "metadata": {},
   "source": [
    "Here we will show two simple graphs plotting all articles' sentiment values, with the articles sorted by main topic. This is to show the distribution of sentiment towards the different topics. The scatter plot will let you look each article individually, to see how each article contributes to the sentiment distribution. The box plot will show you the actual sentiment distribution for each topic, andgive details on the variance and average sentiment of a topic."
   ]
  },
  {
   "cell_type": "code",
   "execution_count": 11,
   "id": "f85d1cda",
   "metadata": {
    "scrolled": false
   },
   "outputs": [
    {
     "data": {
      "application/vnd.plotly.v1+json": {
       "config": {
        "plotlyServerURL": "https://plot.ly"
       },
       "data": [
        {
         "customdata": [
          [
           0,
           [
            [
             "hunter",
             "president",
             "investigation",
             "charge",
             "family",
             "gun",
             "son",
             "evidence",
             "political",
             "document"
            ]
           ],
           "www.foxnews.com",
           "Neutral",
           0.9977274537086487
          ],
          [
           1,
           [
            [
             "hunter",
             "president",
             "investigation",
             "charge",
             "family",
             "gun",
             "son",
             "evidence",
             "political",
             "document"
            ]
           ],
           "www.foxnews.com",
           "Neutral",
           0.9981881380081177
          ],
          [
           2,
           [
            [
             "primary",
             "state",
             "hunter",
             "write",
             "party",
             "nation",
             "vote",
             "candidate",
             "democratic",
             "ballot"
            ]
           ],
           "www.foxnews.com",
           "Negative",
           0.6586756706237793
          ],
          [
           3,
           [
            [
             "hunter",
             "president",
             "investigation",
             "charge",
             "family",
             "gun",
             "son",
             "evidence",
             "political",
             "document"
            ]
           ],
           "apnews.com",
           "Neutral Negative",
           0.9984385371208191
          ],
          [
           4,
           [
            [
             "hunter",
             "president",
             "investigation",
             "charge",
             "family",
             "gun",
             "son",
             "evidence",
             "political",
             "document"
            ]
           ],
           "www.nation.com.pk",
           "Negative",
           0.9949246644973755
          ],
          [
           5,
           [
            [
             "democratic",
             "president",
             "phillip",
             "campaign",
             "people",
             "group",
             "run",
             "voter",
             "support",
             "party"
            ]
           ],
           "www.nation.com.pk",
           "Neutral Positive",
           0.7565103769302368
          ],
          [
           6,
           [
            [
             "primary",
             "state",
             "hunter",
             "write",
             "party",
             "nation",
             "vote",
             "candidate",
             "democratic",
             "ballot"
            ]
           ],
           "www.nation.com.pk",
           "Negative",
           0.3922624886035919
          ],
          [
           7,
           [
            [
             "hunter",
             "president",
             "investigation",
             "charge",
             "family",
             "gun",
             "son",
             "evidence",
             "political",
             "document"
            ]
           ],
           "www.cnn.com",
           "Negative",
           0.998345136642456
          ],
          [
           8,
           [
            [
             "hunter",
             "president",
             "investigation",
             "charge",
             "family",
             "gun",
             "son",
             "evidence",
             "political",
             "document"
            ]
           ],
           "abcnews.go.com",
           "Neutral Negative",
           0.9965294599533081
          ],
          [
           9,
           [
            [
             "hunter",
             "president",
             "investigation",
             "charge",
             "family",
             "gun",
             "son",
             "evidence",
             "political",
             "document"
            ]
           ],
           "apnews.com",
           "Neutral",
           0.9948739409446716
          ],
          [
           10,
           [
            [
             "office",
             "hunter",
             "information",
             "source",
             "foreign",
             "family",
             "attorney",
             "investigation",
             "relate",
             "letter"
            ]
           ],
           "nypost.com",
           "Neutral",
           0.5204653739929199
          ],
          [
           11,
           [
            [
             "office",
             "hunter",
             "information",
             "source",
             "foreign",
             "family",
             "attorney",
             "investigation",
             "relate",
             "letter"
            ]
           ],
           "www.foxnews.com",
           "Negative",
           0.9989666938781738
          ],
          [
           12,
           [
            [
             "office",
             "hunter",
             "information",
             "source",
             "foreign",
             "family",
             "attorney",
             "investigation",
             "relate",
             "letter"
            ]
           ],
           "www.grassley.senate.gov",
           "Neutral Negative",
           0.9957577586174011
          ],
          [
           13,
           [
            [
             "office",
             "hunter",
             "information",
             "source",
             "foreign",
             "family",
             "attorney",
             "investigation",
             "relate",
             "letter"
            ]
           ],
           "wjla.com",
           "Negative",
           0.780755877494812
          ],
          [
           14,
           [
            [
             "democratic",
             "president",
             "phillip",
             "campaign",
             "people",
             "group",
             "run",
             "voter",
             "support",
             "party"
            ]
           ],
           "www.newsnationnow.com",
           "Positive",
           0.6766695380210876
          ],
          [
           15,
           [
            [
             "office",
             "hunter",
             "information",
             "source",
             "foreign",
             "family",
             "attorney",
             "investigation",
             "relate",
             "letter"
            ]
           ],
           "nypost.com",
           "Neutral Positive",
           0.9980490803718567
          ],
          [
           16,
           [
            [
             "primary",
             "state",
             "hunter",
             "write",
             "party",
             "nation",
             "vote",
             "candidate",
             "democratic",
             "ballot"
            ]
           ],
           "www.thenation.com",
           "Neutral Positive",
           0.999096691608429
          ],
          [
           17,
           [
            [
             "democratic",
             "president",
             "phillip",
             "campaign",
             "people",
             "group",
             "run",
             "voter",
             "support",
             "party"
            ]
           ],
           "www.politico.com",
           "Positive",
           0.7606449127197266
          ],
          [
           18,
           [
            [
             "hunter",
             "president",
             "investigation",
             "charge",
             "family",
             "gun",
             "son",
             "evidence",
             "political",
             "document"
            ]
           ],
           "www.cnn.com",
           "Neutral",
           0.9989409446716309
          ],
          [
           19,
           [
            [
             "hunter",
             "president",
             "investigation",
             "charge",
             "family",
             "gun",
             "son",
             "evidence",
             "political",
             "document"
            ]
           ],
           "www.washingtonexaminer.com",
           "Negative",
           0.9987667202949524
          ],
          [
           20,
           [
            [
             "office",
             "hunter",
             "information",
             "source",
             "foreign",
             "family",
             "attorney",
             "investigation",
             "relate",
             "letter"
            ]
           ],
           "www.dailymail.co.uk",
           "Negative",
           0.9978317618370056
          ],
          [
           21,
           [
            [
             "office",
             "hunter",
             "information",
             "source",
             "foreign",
             "family",
             "attorney",
             "investigation",
             "relate",
             "letter"
            ]
           ],
           "thefederalist.com",
           "Neutral Negative",
           0.9987679719924927
          ],
          [
           22,
           [
            [
             "office",
             "hunter",
             "information",
             "source",
             "foreign",
             "family",
             "attorney",
             "investigation",
             "relate",
             "letter"
            ]
           ],
           "www.washingtontimes.com",
           "Neutral Positive",
           0.6227314472198486
          ],
          [
           23,
           [
            [
             "democratic",
             "president",
             "phillip",
             "campaign",
             "people",
             "group",
             "run",
             "voter",
             "support",
             "party"
            ]
           ],
           "www.usatoday.com",
           "Positive",
           0.992621123790741
          ],
          [
           24,
           [
            [
             "primary",
             "state",
             "hunter",
             "write",
             "party",
             "nation",
             "vote",
             "candidate",
             "democratic",
             "ballot"
            ]
           ],
           "apnews.com",
           "Positive",
           0.9983977675437927
          ],
          [
           25,
           [
            [
             "primary",
             "state",
             "hunter",
             "write",
             "party",
             "nation",
             "vote",
             "candidate",
             "democratic",
             "ballot"
            ]
           ],
           "www.politico.com",
           "Positive",
           0.9867652058601379
          ],
          [
           26,
           [
            [
             "democratic",
             "president",
             "phillip",
             "campaign",
             "people",
             "group",
             "run",
             "voter",
             "support",
             "party"
            ]
           ],
           "www.nbcnews.com",
           "Neutral",
           0.954483687877655
          ],
          [
           27,
           [
            [
             "democratic",
             "president",
             "phillip",
             "campaign",
             "people",
             "group",
             "run",
             "voter",
             "support",
             "party"
            ]
           ],
           "www.foxnews.com",
           "Neutral Negative",
           0.5767195224761963
          ],
          [
           28,
           [
            [
             "primary",
             "state",
             "hunter",
             "write",
             "party",
             "nation",
             "vote",
             "candidate",
             "democratic",
             "ballot"
            ]
           ],
           "abcnews.go.com",
           "Neutral Positive",
           0.9976508617401123
          ],
          [
           29,
           [
            [
             "democratic",
             "president",
             "phillip",
             "campaign",
             "people",
             "group",
             "run",
             "voter",
             "support",
             "party"
            ]
           ],
           "www.washingtonpost.com",
           "Positive",
           0.998873233795166
          ],
          [
           30,
           [
            [
             "primary",
             "state",
             "hunter",
             "write",
             "party",
             "nation",
             "vote",
             "candidate",
             "democratic",
             "ballot"
            ]
           ],
           "www.wmur.com",
           "Positive",
           0.5677191615104675
          ],
          [
           31,
           [
            [
             "democratic",
             "president",
             "phillip",
             "campaign",
             "people",
             "group",
             "run",
             "voter",
             "support",
             "party"
            ]
           ],
           "www.startribune.com",
           "Positive",
           0.99587082862854
          ],
          [
           32,
           [
            [
             "democratic",
             "president",
             "phillip",
             "campaign",
             "people",
             "group",
             "run",
             "voter",
             "support",
             "party"
            ]
           ],
           "www.reuters.com",
           "Neutral Negative",
           0.9945847988128662
          ],
          [
           33,
           [
            [
             "primary",
             "state",
             "hunter",
             "write",
             "party",
             "nation",
             "vote",
             "candidate",
             "democratic",
             "ballot"
            ]
           ],
           "apnews.com",
           "Neutral",
           0.6057589054107666
          ],
          [
           34,
           [
            [
             "democratic",
             "president",
             "phillip",
             "campaign",
             "people",
             "group",
             "run",
             "voter",
             "support",
             "party"
            ]
           ],
           "www.cnn.com",
           "Neutral Positive",
           0.9986169934272766
          ],
          [
           35,
           [
            [
             "democratic",
             "president",
             "phillip",
             "campaign",
             "people",
             "group",
             "run",
             "voter",
             "support",
             "party"
            ]
           ],
           "www.foxnews.com",
           "Neutral Negative",
           0.6486952304840088
          ],
          [
           36,
           [
            [
             "democratic",
             "president",
             "phillip",
             "campaign",
             "people",
             "group",
             "run",
             "voter",
             "support",
             "party"
            ]
           ],
           "www.washingtonpost.com",
           "Neutral",
           0.9988504648208618
          ],
          [
           37,
           [
            [
             "democratic",
             "president",
             "phillip",
             "campaign",
             "people",
             "group",
             "run",
             "voter",
             "support",
             "party"
            ]
           ],
           "www.usatoday.com",
           "Neutral Positive",
           0.7277170419692993
          ],
          [
           38,
           [
            [
             "democratic",
             "president",
             "phillip",
             "campaign",
             "people",
             "group",
             "run",
             "voter",
             "support",
             "party"
            ]
           ],
           "www.reuters.com",
           "Negative",
           0.9965670704841614
          ],
          [
           39,
           [
            [
             "democratic",
             "president",
             "phillip",
             "campaign",
             "people",
             "group",
             "run",
             "voter",
             "support",
             "party"
            ]
           ],
           "www.foxnews.com",
           "Neutral Positive",
           0.9974852204322815
          ]
         ],
         "hovertemplate": "ID: %{customdata[0]}<br>Associated Words: %{customdata[1]}<br>Address: %{customdata[2]}<br>Sentiment Label: %{customdata[3]}<br>Main Topic Score : %{customdata[4]}",
         "legendgroup": "",
         "marker": {
          "color": "#636efa",
          "size": [
           0.9977274537086487,
           0.9981881380081177,
           0.6586756706237793,
           0.9984385371208191,
           0.9949246644973755,
           0.7565103769302368,
           0.3922624886035919,
           0.998345136642456,
           0.9965294599533081,
           0.9948739409446716,
           0.5204653739929199,
           0.9989666938781738,
           0.9957577586174011,
           0.780755877494812,
           0.6766695380210876,
           0.9980490803718567,
           0.999096691608429,
           0.7606449127197266,
           0.9989409446716309,
           0.9987667202949524,
           0.9978317618370056,
           0.9987679719924927,
           0.6227314472198486,
           0.992621123790741,
           0.9983977675437927,
           0.9867652058601379,
           0.954483687877655,
           0.5767195224761963,
           0.9976508617401123,
           0.998873233795166,
           0.5677191615104675,
           0.99587082862854,
           0.9945847988128662,
           0.6057589054107666,
           0.9986169934272766,
           0.6486952304840088,
           0.9988504648208618,
           0.7277170419692993,
           0.9965670704841614,
           0.9974852204322815
          ],
          "sizemode": "area",
          "sizeref": 0.002497741729021072,
          "symbol": "circle"
         },
         "mode": "markers",
         "name": "",
         "orientation": "v",
         "showlegend": false,
         "type": "scatter",
         "x": [
          1,
          1,
          2,
          1,
          1,
          0,
          2,
          1,
          1,
          1,
          4,
          4,
          4,
          4,
          0,
          4,
          2,
          0,
          1,
          1,
          4,
          4,
          4,
          0,
          2,
          2,
          0,
          0,
          2,
          0,
          2,
          0,
          0,
          2,
          0,
          0,
          0,
          0,
          0,
          0
         ],
         "xaxis": "x",
         "y": [
          0.04,
          0.06,
          -0.04,
          0.02,
          -0.04,
          0.1,
          -0.11,
          -0.01,
          0.01,
          0.04,
          0.03,
          -0.03,
          0,
          -0.02,
          0.14,
          0.07,
          0.1,
          0.12,
          0.06,
          -0.06,
          -0.03,
          0.01,
          0.09,
          0.2,
          0.17,
          0.21,
          0.04,
          0,
          0.09,
          0.13,
          0.22,
          0.14,
          0.02,
          0.06,
          0.08,
          0.01,
          0.05,
          0.08,
          -0.01,
          0.08
         ],
         "yaxis": "y"
        }
       ],
       "layout": {
        "legend": {
         "itemsizing": "constant",
         "tracegroupgap": 0
        },
        "template": {
         "data": {
          "bar": [
           {
            "error_x": {
             "color": "#2a3f5f"
            },
            "error_y": {
             "color": "#2a3f5f"
            },
            "marker": {
             "line": {
              "color": "#E5ECF6",
              "width": 0.5
             },
             "pattern": {
              "fillmode": "overlay",
              "size": 10,
              "solidity": 0.2
             }
            },
            "type": "bar"
           }
          ],
          "barpolar": [
           {
            "marker": {
             "line": {
              "color": "#E5ECF6",
              "width": 0.5
             },
             "pattern": {
              "fillmode": "overlay",
              "size": 10,
              "solidity": 0.2
             }
            },
            "type": "barpolar"
           }
          ],
          "carpet": [
           {
            "aaxis": {
             "endlinecolor": "#2a3f5f",
             "gridcolor": "white",
             "linecolor": "white",
             "minorgridcolor": "white",
             "startlinecolor": "#2a3f5f"
            },
            "baxis": {
             "endlinecolor": "#2a3f5f",
             "gridcolor": "white",
             "linecolor": "white",
             "minorgridcolor": "white",
             "startlinecolor": "#2a3f5f"
            },
            "type": "carpet"
           }
          ],
          "choropleth": [
           {
            "colorbar": {
             "outlinewidth": 0,
             "ticks": ""
            },
            "type": "choropleth"
           }
          ],
          "contour": [
           {
            "colorbar": {
             "outlinewidth": 0,
             "ticks": ""
            },
            "colorscale": [
             [
              0,
              "#0d0887"
             ],
             [
              0.1111111111111111,
              "#46039f"
             ],
             [
              0.2222222222222222,
              "#7201a8"
             ],
             [
              0.3333333333333333,
              "#9c179e"
             ],
             [
              0.4444444444444444,
              "#bd3786"
             ],
             [
              0.5555555555555556,
              "#d8576b"
             ],
             [
              0.6666666666666666,
              "#ed7953"
             ],
             [
              0.7777777777777778,
              "#fb9f3a"
             ],
             [
              0.8888888888888888,
              "#fdca26"
             ],
             [
              1,
              "#f0f921"
             ]
            ],
            "type": "contour"
           }
          ],
          "contourcarpet": [
           {
            "colorbar": {
             "outlinewidth": 0,
             "ticks": ""
            },
            "type": "contourcarpet"
           }
          ],
          "heatmap": [
           {
            "colorbar": {
             "outlinewidth": 0,
             "ticks": ""
            },
            "colorscale": [
             [
              0,
              "#0d0887"
             ],
             [
              0.1111111111111111,
              "#46039f"
             ],
             [
              0.2222222222222222,
              "#7201a8"
             ],
             [
              0.3333333333333333,
              "#9c179e"
             ],
             [
              0.4444444444444444,
              "#bd3786"
             ],
             [
              0.5555555555555556,
              "#d8576b"
             ],
             [
              0.6666666666666666,
              "#ed7953"
             ],
             [
              0.7777777777777778,
              "#fb9f3a"
             ],
             [
              0.8888888888888888,
              "#fdca26"
             ],
             [
              1,
              "#f0f921"
             ]
            ],
            "type": "heatmap"
           }
          ],
          "heatmapgl": [
           {
            "colorbar": {
             "outlinewidth": 0,
             "ticks": ""
            },
            "colorscale": [
             [
              0,
              "#0d0887"
             ],
             [
              0.1111111111111111,
              "#46039f"
             ],
             [
              0.2222222222222222,
              "#7201a8"
             ],
             [
              0.3333333333333333,
              "#9c179e"
             ],
             [
              0.4444444444444444,
              "#bd3786"
             ],
             [
              0.5555555555555556,
              "#d8576b"
             ],
             [
              0.6666666666666666,
              "#ed7953"
             ],
             [
              0.7777777777777778,
              "#fb9f3a"
             ],
             [
              0.8888888888888888,
              "#fdca26"
             ],
             [
              1,
              "#f0f921"
             ]
            ],
            "type": "heatmapgl"
           }
          ],
          "histogram": [
           {
            "marker": {
             "pattern": {
              "fillmode": "overlay",
              "size": 10,
              "solidity": 0.2
             }
            },
            "type": "histogram"
           }
          ],
          "histogram2d": [
           {
            "colorbar": {
             "outlinewidth": 0,
             "ticks": ""
            },
            "colorscale": [
             [
              0,
              "#0d0887"
             ],
             [
              0.1111111111111111,
              "#46039f"
             ],
             [
              0.2222222222222222,
              "#7201a8"
             ],
             [
              0.3333333333333333,
              "#9c179e"
             ],
             [
              0.4444444444444444,
              "#bd3786"
             ],
             [
              0.5555555555555556,
              "#d8576b"
             ],
             [
              0.6666666666666666,
              "#ed7953"
             ],
             [
              0.7777777777777778,
              "#fb9f3a"
             ],
             [
              0.8888888888888888,
              "#fdca26"
             ],
             [
              1,
              "#f0f921"
             ]
            ],
            "type": "histogram2d"
           }
          ],
          "histogram2dcontour": [
           {
            "colorbar": {
             "outlinewidth": 0,
             "ticks": ""
            },
            "colorscale": [
             [
              0,
              "#0d0887"
             ],
             [
              0.1111111111111111,
              "#46039f"
             ],
             [
              0.2222222222222222,
              "#7201a8"
             ],
             [
              0.3333333333333333,
              "#9c179e"
             ],
             [
              0.4444444444444444,
              "#bd3786"
             ],
             [
              0.5555555555555556,
              "#d8576b"
             ],
             [
              0.6666666666666666,
              "#ed7953"
             ],
             [
              0.7777777777777778,
              "#fb9f3a"
             ],
             [
              0.8888888888888888,
              "#fdca26"
             ],
             [
              1,
              "#f0f921"
             ]
            ],
            "type": "histogram2dcontour"
           }
          ],
          "mesh3d": [
           {
            "colorbar": {
             "outlinewidth": 0,
             "ticks": ""
            },
            "type": "mesh3d"
           }
          ],
          "parcoords": [
           {
            "line": {
             "colorbar": {
              "outlinewidth": 0,
              "ticks": ""
             }
            },
            "type": "parcoords"
           }
          ],
          "pie": [
           {
            "automargin": true,
            "type": "pie"
           }
          ],
          "scatter": [
           {
            "fillpattern": {
             "fillmode": "overlay",
             "size": 10,
             "solidity": 0.2
            },
            "type": "scatter"
           }
          ],
          "scatter3d": [
           {
            "line": {
             "colorbar": {
              "outlinewidth": 0,
              "ticks": ""
             }
            },
            "marker": {
             "colorbar": {
              "outlinewidth": 0,
              "ticks": ""
             }
            },
            "type": "scatter3d"
           }
          ],
          "scattercarpet": [
           {
            "marker": {
             "colorbar": {
              "outlinewidth": 0,
              "ticks": ""
             }
            },
            "type": "scattercarpet"
           }
          ],
          "scattergeo": [
           {
            "marker": {
             "colorbar": {
              "outlinewidth": 0,
              "ticks": ""
             }
            },
            "type": "scattergeo"
           }
          ],
          "scattergl": [
           {
            "marker": {
             "colorbar": {
              "outlinewidth": 0,
              "ticks": ""
             }
            },
            "type": "scattergl"
           }
          ],
          "scattermapbox": [
           {
            "marker": {
             "colorbar": {
              "outlinewidth": 0,
              "ticks": ""
             }
            },
            "type": "scattermapbox"
           }
          ],
          "scatterpolar": [
           {
            "marker": {
             "colorbar": {
              "outlinewidth": 0,
              "ticks": ""
             }
            },
            "type": "scatterpolar"
           }
          ],
          "scatterpolargl": [
           {
            "marker": {
             "colorbar": {
              "outlinewidth": 0,
              "ticks": ""
             }
            },
            "type": "scatterpolargl"
           }
          ],
          "scatterternary": [
           {
            "marker": {
             "colorbar": {
              "outlinewidth": 0,
              "ticks": ""
             }
            },
            "type": "scatterternary"
           }
          ],
          "surface": [
           {
            "colorbar": {
             "outlinewidth": 0,
             "ticks": ""
            },
            "colorscale": [
             [
              0,
              "#0d0887"
             ],
             [
              0.1111111111111111,
              "#46039f"
             ],
             [
              0.2222222222222222,
              "#7201a8"
             ],
             [
              0.3333333333333333,
              "#9c179e"
             ],
             [
              0.4444444444444444,
              "#bd3786"
             ],
             [
              0.5555555555555556,
              "#d8576b"
             ],
             [
              0.6666666666666666,
              "#ed7953"
             ],
             [
              0.7777777777777778,
              "#fb9f3a"
             ],
             [
              0.8888888888888888,
              "#fdca26"
             ],
             [
              1,
              "#f0f921"
             ]
            ],
            "type": "surface"
           }
          ],
          "table": [
           {
            "cells": {
             "fill": {
              "color": "#EBF0F8"
             },
             "line": {
              "color": "white"
             }
            },
            "header": {
             "fill": {
              "color": "#C8D4E3"
             },
             "line": {
              "color": "white"
             }
            },
            "type": "table"
           }
          ]
         },
         "layout": {
          "annotationdefaults": {
           "arrowcolor": "#2a3f5f",
           "arrowhead": 0,
           "arrowwidth": 1
          },
          "autotypenumbers": "strict",
          "coloraxis": {
           "colorbar": {
            "outlinewidth": 0,
            "ticks": ""
           }
          },
          "colorscale": {
           "diverging": [
            [
             0,
             "#8e0152"
            ],
            [
             0.1,
             "#c51b7d"
            ],
            [
             0.2,
             "#de77ae"
            ],
            [
             0.3,
             "#f1b6da"
            ],
            [
             0.4,
             "#fde0ef"
            ],
            [
             0.5,
             "#f7f7f7"
            ],
            [
             0.6,
             "#e6f5d0"
            ],
            [
             0.7,
             "#b8e186"
            ],
            [
             0.8,
             "#7fbc41"
            ],
            [
             0.9,
             "#4d9221"
            ],
            [
             1,
             "#276419"
            ]
           ],
           "sequential": [
            [
             0,
             "#0d0887"
            ],
            [
             0.1111111111111111,
             "#46039f"
            ],
            [
             0.2222222222222222,
             "#7201a8"
            ],
            [
             0.3333333333333333,
             "#9c179e"
            ],
            [
             0.4444444444444444,
             "#bd3786"
            ],
            [
             0.5555555555555556,
             "#d8576b"
            ],
            [
             0.6666666666666666,
             "#ed7953"
            ],
            [
             0.7777777777777778,
             "#fb9f3a"
            ],
            [
             0.8888888888888888,
             "#fdca26"
            ],
            [
             1,
             "#f0f921"
            ]
           ],
           "sequentialminus": [
            [
             0,
             "#0d0887"
            ],
            [
             0.1111111111111111,
             "#46039f"
            ],
            [
             0.2222222222222222,
             "#7201a8"
            ],
            [
             0.3333333333333333,
             "#9c179e"
            ],
            [
             0.4444444444444444,
             "#bd3786"
            ],
            [
             0.5555555555555556,
             "#d8576b"
            ],
            [
             0.6666666666666666,
             "#ed7953"
            ],
            [
             0.7777777777777778,
             "#fb9f3a"
            ],
            [
             0.8888888888888888,
             "#fdca26"
            ],
            [
             1,
             "#f0f921"
            ]
           ]
          },
          "colorway": [
           "#636efa",
           "#EF553B",
           "#00cc96",
           "#ab63fa",
           "#FFA15A",
           "#19d3f3",
           "#FF6692",
           "#B6E880",
           "#FF97FF",
           "#FECB52"
          ],
          "font": {
           "color": "#2a3f5f"
          },
          "geo": {
           "bgcolor": "white",
           "lakecolor": "white",
           "landcolor": "#E5ECF6",
           "showlakes": true,
           "showland": true,
           "subunitcolor": "white"
          },
          "hoverlabel": {
           "align": "left"
          },
          "hovermode": "closest",
          "mapbox": {
           "style": "light"
          },
          "paper_bgcolor": "white",
          "plot_bgcolor": "#E5ECF6",
          "polar": {
           "angularaxis": {
            "gridcolor": "white",
            "linecolor": "white",
            "ticks": ""
           },
           "bgcolor": "#E5ECF6",
           "radialaxis": {
            "gridcolor": "white",
            "linecolor": "white",
            "ticks": ""
           }
          },
          "scene": {
           "xaxis": {
            "backgroundcolor": "#E5ECF6",
            "gridcolor": "white",
            "gridwidth": 2,
            "linecolor": "white",
            "showbackground": true,
            "ticks": "",
            "zerolinecolor": "white"
           },
           "yaxis": {
            "backgroundcolor": "#E5ECF6",
            "gridcolor": "white",
            "gridwidth": 2,
            "linecolor": "white",
            "showbackground": true,
            "ticks": "",
            "zerolinecolor": "white"
           },
           "zaxis": {
            "backgroundcolor": "#E5ECF6",
            "gridcolor": "white",
            "gridwidth": 2,
            "linecolor": "white",
            "showbackground": true,
            "ticks": "",
            "zerolinecolor": "white"
           }
          },
          "shapedefaults": {
           "line": {
            "color": "#2a3f5f"
           }
          },
          "ternary": {
           "aaxis": {
            "gridcolor": "white",
            "linecolor": "white",
            "ticks": ""
           },
           "baxis": {
            "gridcolor": "white",
            "linecolor": "white",
            "ticks": ""
           },
           "bgcolor": "#E5ECF6",
           "caxis": {
            "gridcolor": "white",
            "linecolor": "white",
            "ticks": ""
           }
          },
          "title": {
           "x": 0.05
          },
          "xaxis": {
           "automargin": true,
           "gridcolor": "white",
           "linecolor": "white",
           "ticks": "",
           "title": {
            "standoff": 15
           },
           "zerolinecolor": "white",
           "zerolinewidth": 2
          },
          "yaxis": {
           "automargin": true,
           "gridcolor": "white",
           "linecolor": "white",
           "ticks": "",
           "title": {
            "standoff": 15
           },
           "zerolinecolor": "white",
           "zerolinewidth": 2
          }
         }
        },
        "title": {
         "text": "Articles Sorted By Main Topic"
        },
        "xaxis": {
         "anchor": "y",
         "domain": [
          0,
          1
         ],
         "title": {
          "text": "Main Topic"
         }
        },
        "yaxis": {
         "anchor": "x",
         "domain": [
          0,
          1
         ],
         "range": [
          -0.22,
          0.22
         ],
         "title": {
          "text": "Sentiment Score"
         }
        }
       }
      }
     },
     "metadata": {},
     "output_type": "display_data"
    },
    {
     "data": {
      "application/vnd.plotly.v1+json": {
       "config": {
        "plotlyServerURL": "https://plot.ly"
       },
       "data": [
        {
         "alignmentgroup": "True",
         "customdata": [
          [
           [
            [
             "hunter",
             "president",
             "investigation",
             "charge",
             "family",
             "gun",
             "son",
             "evidence",
             "political",
             "document"
            ]
           ],
           "www.foxnews.com",
           "Neutral",
           0.9977274537086487
          ],
          [
           [
            [
             "hunter",
             "president",
             "investigation",
             "charge",
             "family",
             "gun",
             "son",
             "evidence",
             "political",
             "document"
            ]
           ],
           "www.foxnews.com",
           "Neutral",
           0.9981881380081177
          ],
          [
           [
            [
             "primary",
             "state",
             "hunter",
             "write",
             "party",
             "nation",
             "vote",
             "candidate",
             "democratic",
             "ballot"
            ]
           ],
           "www.foxnews.com",
           "Negative",
           0.6586756706237793
          ],
          [
           [
            [
             "hunter",
             "president",
             "investigation",
             "charge",
             "family",
             "gun",
             "son",
             "evidence",
             "political",
             "document"
            ]
           ],
           "apnews.com",
           "Neutral Negative",
           0.9984385371208191
          ],
          [
           [
            [
             "hunter",
             "president",
             "investigation",
             "charge",
             "family",
             "gun",
             "son",
             "evidence",
             "political",
             "document"
            ]
           ],
           "www.nation.com.pk",
           "Negative",
           0.9949246644973755
          ],
          [
           [
            [
             "democratic",
             "president",
             "phillip",
             "campaign",
             "people",
             "group",
             "run",
             "voter",
             "support",
             "party"
            ]
           ],
           "www.nation.com.pk",
           "Neutral Positive",
           0.7565103769302368
          ],
          [
           [
            [
             "primary",
             "state",
             "hunter",
             "write",
             "party",
             "nation",
             "vote",
             "candidate",
             "democratic",
             "ballot"
            ]
           ],
           "www.nation.com.pk",
           "Negative",
           0.3922624886035919
          ],
          [
           [
            [
             "hunter",
             "president",
             "investigation",
             "charge",
             "family",
             "gun",
             "son",
             "evidence",
             "political",
             "document"
            ]
           ],
           "www.cnn.com",
           "Negative",
           0.998345136642456
          ],
          [
           [
            [
             "hunter",
             "president",
             "investigation",
             "charge",
             "family",
             "gun",
             "son",
             "evidence",
             "political",
             "document"
            ]
           ],
           "abcnews.go.com",
           "Neutral Negative",
           0.9965294599533081
          ],
          [
           [
            [
             "hunter",
             "president",
             "investigation",
             "charge",
             "family",
             "gun",
             "son",
             "evidence",
             "political",
             "document"
            ]
           ],
           "apnews.com",
           "Neutral",
           0.9948739409446716
          ],
          [
           [
            [
             "office",
             "hunter",
             "information",
             "source",
             "foreign",
             "family",
             "attorney",
             "investigation",
             "relate",
             "letter"
            ]
           ],
           "nypost.com",
           "Neutral",
           0.5204653739929199
          ],
          [
           [
            [
             "office",
             "hunter",
             "information",
             "source",
             "foreign",
             "family",
             "attorney",
             "investigation",
             "relate",
             "letter"
            ]
           ],
           "www.foxnews.com",
           "Negative",
           0.9989666938781738
          ],
          [
           [
            [
             "office",
             "hunter",
             "information",
             "source",
             "foreign",
             "family",
             "attorney",
             "investigation",
             "relate",
             "letter"
            ]
           ],
           "www.grassley.senate.gov",
           "Neutral Negative",
           0.9957577586174011
          ],
          [
           [
            [
             "office",
             "hunter",
             "information",
             "source",
             "foreign",
             "family",
             "attorney",
             "investigation",
             "relate",
             "letter"
            ]
           ],
           "wjla.com",
           "Negative",
           0.780755877494812
          ],
          [
           [
            [
             "democratic",
             "president",
             "phillip",
             "campaign",
             "people",
             "group",
             "run",
             "voter",
             "support",
             "party"
            ]
           ],
           "www.newsnationnow.com",
           "Positive",
           0.6766695380210876
          ],
          [
           [
            [
             "office",
             "hunter",
             "information",
             "source",
             "foreign",
             "family",
             "attorney",
             "investigation",
             "relate",
             "letter"
            ]
           ],
           "nypost.com",
           "Neutral Positive",
           0.9980490803718567
          ],
          [
           [
            [
             "primary",
             "state",
             "hunter",
             "write",
             "party",
             "nation",
             "vote",
             "candidate",
             "democratic",
             "ballot"
            ]
           ],
           "www.thenation.com",
           "Neutral Positive",
           0.999096691608429
          ],
          [
           [
            [
             "democratic",
             "president",
             "phillip",
             "campaign",
             "people",
             "group",
             "run",
             "voter",
             "support",
             "party"
            ]
           ],
           "www.politico.com",
           "Positive",
           0.7606449127197266
          ],
          [
           [
            [
             "hunter",
             "president",
             "investigation",
             "charge",
             "family",
             "gun",
             "son",
             "evidence",
             "political",
             "document"
            ]
           ],
           "www.cnn.com",
           "Neutral",
           0.9989409446716309
          ],
          [
           [
            [
             "hunter",
             "president",
             "investigation",
             "charge",
             "family",
             "gun",
             "son",
             "evidence",
             "political",
             "document"
            ]
           ],
           "www.washingtonexaminer.com",
           "Negative",
           0.9987667202949524
          ],
          [
           [
            [
             "office",
             "hunter",
             "information",
             "source",
             "foreign",
             "family",
             "attorney",
             "investigation",
             "relate",
             "letter"
            ]
           ],
           "www.dailymail.co.uk",
           "Negative",
           0.9978317618370056
          ],
          [
           [
            [
             "office",
             "hunter",
             "information",
             "source",
             "foreign",
             "family",
             "attorney",
             "investigation",
             "relate",
             "letter"
            ]
           ],
           "thefederalist.com",
           "Neutral Negative",
           0.9987679719924927
          ],
          [
           [
            [
             "office",
             "hunter",
             "information",
             "source",
             "foreign",
             "family",
             "attorney",
             "investigation",
             "relate",
             "letter"
            ]
           ],
           "www.washingtontimes.com",
           "Neutral Positive",
           0.6227314472198486
          ],
          [
           [
            [
             "democratic",
             "president",
             "phillip",
             "campaign",
             "people",
             "group",
             "run",
             "voter",
             "support",
             "party"
            ]
           ],
           "www.usatoday.com",
           "Positive",
           0.992621123790741
          ],
          [
           [
            [
             "primary",
             "state",
             "hunter",
             "write",
             "party",
             "nation",
             "vote",
             "candidate",
             "democratic",
             "ballot"
            ]
           ],
           "apnews.com",
           "Positive",
           0.9983977675437927
          ],
          [
           [
            [
             "primary",
             "state",
             "hunter",
             "write",
             "party",
             "nation",
             "vote",
             "candidate",
             "democratic",
             "ballot"
            ]
           ],
           "www.politico.com",
           "Positive",
           0.9867652058601379
          ],
          [
           [
            [
             "democratic",
             "president",
             "phillip",
             "campaign",
             "people",
             "group",
             "run",
             "voter",
             "support",
             "party"
            ]
           ],
           "www.nbcnews.com",
           "Neutral",
           0.954483687877655
          ],
          [
           [
            [
             "democratic",
             "president",
             "phillip",
             "campaign",
             "people",
             "group",
             "run",
             "voter",
             "support",
             "party"
            ]
           ],
           "www.foxnews.com",
           "Neutral Negative",
           0.5767195224761963
          ],
          [
           [
            [
             "primary",
             "state",
             "hunter",
             "write",
             "party",
             "nation",
             "vote",
             "candidate",
             "democratic",
             "ballot"
            ]
           ],
           "abcnews.go.com",
           "Neutral Positive",
           0.9976508617401123
          ],
          [
           [
            [
             "democratic",
             "president",
             "phillip",
             "campaign",
             "people",
             "group",
             "run",
             "voter",
             "support",
             "party"
            ]
           ],
           "www.washingtonpost.com",
           "Positive",
           0.998873233795166
          ],
          [
           [
            [
             "primary",
             "state",
             "hunter",
             "write",
             "party",
             "nation",
             "vote",
             "candidate",
             "democratic",
             "ballot"
            ]
           ],
           "www.wmur.com",
           "Positive",
           0.5677191615104675
          ],
          [
           [
            [
             "democratic",
             "president",
             "phillip",
             "campaign",
             "people",
             "group",
             "run",
             "voter",
             "support",
             "party"
            ]
           ],
           "www.startribune.com",
           "Positive",
           0.99587082862854
          ],
          [
           [
            [
             "democratic",
             "president",
             "phillip",
             "campaign",
             "people",
             "group",
             "run",
             "voter",
             "support",
             "party"
            ]
           ],
           "www.reuters.com",
           "Neutral Negative",
           0.9945847988128662
          ],
          [
           [
            [
             "primary",
             "state",
             "hunter",
             "write",
             "party",
             "nation",
             "vote",
             "candidate",
             "democratic",
             "ballot"
            ]
           ],
           "apnews.com",
           "Neutral",
           0.6057589054107666
          ],
          [
           [
            [
             "democratic",
             "president",
             "phillip",
             "campaign",
             "people",
             "group",
             "run",
             "voter",
             "support",
             "party"
            ]
           ],
           "www.cnn.com",
           "Neutral Positive",
           0.9986169934272766
          ],
          [
           [
            [
             "democratic",
             "president",
             "phillip",
             "campaign",
             "people",
             "group",
             "run",
             "voter",
             "support",
             "party"
            ]
           ],
           "www.foxnews.com",
           "Neutral Negative",
           0.6486952304840088
          ],
          [
           [
            [
             "democratic",
             "president",
             "phillip",
             "campaign",
             "people",
             "group",
             "run",
             "voter",
             "support",
             "party"
            ]
           ],
           "www.washingtonpost.com",
           "Neutral",
           0.9988504648208618
          ],
          [
           [
            [
             "democratic",
             "president",
             "phillip",
             "campaign",
             "people",
             "group",
             "run",
             "voter",
             "support",
             "party"
            ]
           ],
           "www.usatoday.com",
           "Neutral Positive",
           0.7277170419692993
          ],
          [
           [
            [
             "democratic",
             "president",
             "phillip",
             "campaign",
             "people",
             "group",
             "run",
             "voter",
             "support",
             "party"
            ]
           ],
           "www.reuters.com",
           "Negative",
           0.9965670704841614
          ],
          [
           [
            [
             "democratic",
             "president",
             "phillip",
             "campaign",
             "people",
             "group",
             "run",
             "voter",
             "support",
             "party"
            ]
           ],
           "www.foxnews.com",
           "Neutral Positive",
           0.9974852204322815
          ]
         ],
         "hovertemplate": "ID: %{customdata[0]}<br>Associated Words: %{customdata[1]}<br>Address: %{customdata[2]}<br>Sentiment Label: %{customdata[3]}<br>Main Topic Score : %{customdata[4]}",
         "legendgroup": "",
         "marker": {
          "color": "#636efa"
         },
         "name": "",
         "notched": false,
         "offsetgroup": "",
         "orientation": "v",
         "showlegend": false,
         "type": "box",
         "x": [
          1,
          1,
          2,
          1,
          1,
          0,
          2,
          1,
          1,
          1,
          4,
          4,
          4,
          4,
          0,
          4,
          2,
          0,
          1,
          1,
          4,
          4,
          4,
          0,
          2,
          2,
          0,
          0,
          2,
          0,
          2,
          0,
          0,
          2,
          0,
          0,
          0,
          0,
          0,
          0
         ],
         "x0": " ",
         "xaxis": "x",
         "y": [
          0.04,
          0.06,
          -0.04,
          0.02,
          -0.04,
          0.1,
          -0.11,
          -0.01,
          0.01,
          0.04,
          0.03,
          -0.03,
          0,
          -0.02,
          0.14,
          0.07,
          0.1,
          0.12,
          0.06,
          -0.06,
          -0.03,
          0.01,
          0.09,
          0.2,
          0.17,
          0.21,
          0.04,
          0,
          0.09,
          0.13,
          0.22,
          0.14,
          0.02,
          0.06,
          0.08,
          0.01,
          0.05,
          0.08,
          -0.01,
          0.08
         ],
         "y0": " ",
         "yaxis": "y"
        }
       ],
       "layout": {
        "boxmode": "group",
        "legend": {
         "tracegroupgap": 0
        },
        "template": {
         "data": {
          "bar": [
           {
            "error_x": {
             "color": "#2a3f5f"
            },
            "error_y": {
             "color": "#2a3f5f"
            },
            "marker": {
             "line": {
              "color": "#E5ECF6",
              "width": 0.5
             },
             "pattern": {
              "fillmode": "overlay",
              "size": 10,
              "solidity": 0.2
             }
            },
            "type": "bar"
           }
          ],
          "barpolar": [
           {
            "marker": {
             "line": {
              "color": "#E5ECF6",
              "width": 0.5
             },
             "pattern": {
              "fillmode": "overlay",
              "size": 10,
              "solidity": 0.2
             }
            },
            "type": "barpolar"
           }
          ],
          "carpet": [
           {
            "aaxis": {
             "endlinecolor": "#2a3f5f",
             "gridcolor": "white",
             "linecolor": "white",
             "minorgridcolor": "white",
             "startlinecolor": "#2a3f5f"
            },
            "baxis": {
             "endlinecolor": "#2a3f5f",
             "gridcolor": "white",
             "linecolor": "white",
             "minorgridcolor": "white",
             "startlinecolor": "#2a3f5f"
            },
            "type": "carpet"
           }
          ],
          "choropleth": [
           {
            "colorbar": {
             "outlinewidth": 0,
             "ticks": ""
            },
            "type": "choropleth"
           }
          ],
          "contour": [
           {
            "colorbar": {
             "outlinewidth": 0,
             "ticks": ""
            },
            "colorscale": [
             [
              0,
              "#0d0887"
             ],
             [
              0.1111111111111111,
              "#46039f"
             ],
             [
              0.2222222222222222,
              "#7201a8"
             ],
             [
              0.3333333333333333,
              "#9c179e"
             ],
             [
              0.4444444444444444,
              "#bd3786"
             ],
             [
              0.5555555555555556,
              "#d8576b"
             ],
             [
              0.6666666666666666,
              "#ed7953"
             ],
             [
              0.7777777777777778,
              "#fb9f3a"
             ],
             [
              0.8888888888888888,
              "#fdca26"
             ],
             [
              1,
              "#f0f921"
             ]
            ],
            "type": "contour"
           }
          ],
          "contourcarpet": [
           {
            "colorbar": {
             "outlinewidth": 0,
             "ticks": ""
            },
            "type": "contourcarpet"
           }
          ],
          "heatmap": [
           {
            "colorbar": {
             "outlinewidth": 0,
             "ticks": ""
            },
            "colorscale": [
             [
              0,
              "#0d0887"
             ],
             [
              0.1111111111111111,
              "#46039f"
             ],
             [
              0.2222222222222222,
              "#7201a8"
             ],
             [
              0.3333333333333333,
              "#9c179e"
             ],
             [
              0.4444444444444444,
              "#bd3786"
             ],
             [
              0.5555555555555556,
              "#d8576b"
             ],
             [
              0.6666666666666666,
              "#ed7953"
             ],
             [
              0.7777777777777778,
              "#fb9f3a"
             ],
             [
              0.8888888888888888,
              "#fdca26"
             ],
             [
              1,
              "#f0f921"
             ]
            ],
            "type": "heatmap"
           }
          ],
          "heatmapgl": [
           {
            "colorbar": {
             "outlinewidth": 0,
             "ticks": ""
            },
            "colorscale": [
             [
              0,
              "#0d0887"
             ],
             [
              0.1111111111111111,
              "#46039f"
             ],
             [
              0.2222222222222222,
              "#7201a8"
             ],
             [
              0.3333333333333333,
              "#9c179e"
             ],
             [
              0.4444444444444444,
              "#bd3786"
             ],
             [
              0.5555555555555556,
              "#d8576b"
             ],
             [
              0.6666666666666666,
              "#ed7953"
             ],
             [
              0.7777777777777778,
              "#fb9f3a"
             ],
             [
              0.8888888888888888,
              "#fdca26"
             ],
             [
              1,
              "#f0f921"
             ]
            ],
            "type": "heatmapgl"
           }
          ],
          "histogram": [
           {
            "marker": {
             "pattern": {
              "fillmode": "overlay",
              "size": 10,
              "solidity": 0.2
             }
            },
            "type": "histogram"
           }
          ],
          "histogram2d": [
           {
            "colorbar": {
             "outlinewidth": 0,
             "ticks": ""
            },
            "colorscale": [
             [
              0,
              "#0d0887"
             ],
             [
              0.1111111111111111,
              "#46039f"
             ],
             [
              0.2222222222222222,
              "#7201a8"
             ],
             [
              0.3333333333333333,
              "#9c179e"
             ],
             [
              0.4444444444444444,
              "#bd3786"
             ],
             [
              0.5555555555555556,
              "#d8576b"
             ],
             [
              0.6666666666666666,
              "#ed7953"
             ],
             [
              0.7777777777777778,
              "#fb9f3a"
             ],
             [
              0.8888888888888888,
              "#fdca26"
             ],
             [
              1,
              "#f0f921"
             ]
            ],
            "type": "histogram2d"
           }
          ],
          "histogram2dcontour": [
           {
            "colorbar": {
             "outlinewidth": 0,
             "ticks": ""
            },
            "colorscale": [
             [
              0,
              "#0d0887"
             ],
             [
              0.1111111111111111,
              "#46039f"
             ],
             [
              0.2222222222222222,
              "#7201a8"
             ],
             [
              0.3333333333333333,
              "#9c179e"
             ],
             [
              0.4444444444444444,
              "#bd3786"
             ],
             [
              0.5555555555555556,
              "#d8576b"
             ],
             [
              0.6666666666666666,
              "#ed7953"
             ],
             [
              0.7777777777777778,
              "#fb9f3a"
             ],
             [
              0.8888888888888888,
              "#fdca26"
             ],
             [
              1,
              "#f0f921"
             ]
            ],
            "type": "histogram2dcontour"
           }
          ],
          "mesh3d": [
           {
            "colorbar": {
             "outlinewidth": 0,
             "ticks": ""
            },
            "type": "mesh3d"
           }
          ],
          "parcoords": [
           {
            "line": {
             "colorbar": {
              "outlinewidth": 0,
              "ticks": ""
             }
            },
            "type": "parcoords"
           }
          ],
          "pie": [
           {
            "automargin": true,
            "type": "pie"
           }
          ],
          "scatter": [
           {
            "fillpattern": {
             "fillmode": "overlay",
             "size": 10,
             "solidity": 0.2
            },
            "type": "scatter"
           }
          ],
          "scatter3d": [
           {
            "line": {
             "colorbar": {
              "outlinewidth": 0,
              "ticks": ""
             }
            },
            "marker": {
             "colorbar": {
              "outlinewidth": 0,
              "ticks": ""
             }
            },
            "type": "scatter3d"
           }
          ],
          "scattercarpet": [
           {
            "marker": {
             "colorbar": {
              "outlinewidth": 0,
              "ticks": ""
             }
            },
            "type": "scattercarpet"
           }
          ],
          "scattergeo": [
           {
            "marker": {
             "colorbar": {
              "outlinewidth": 0,
              "ticks": ""
             }
            },
            "type": "scattergeo"
           }
          ],
          "scattergl": [
           {
            "marker": {
             "colorbar": {
              "outlinewidth": 0,
              "ticks": ""
             }
            },
            "type": "scattergl"
           }
          ],
          "scattermapbox": [
           {
            "marker": {
             "colorbar": {
              "outlinewidth": 0,
              "ticks": ""
             }
            },
            "type": "scattermapbox"
           }
          ],
          "scatterpolar": [
           {
            "marker": {
             "colorbar": {
              "outlinewidth": 0,
              "ticks": ""
             }
            },
            "type": "scatterpolar"
           }
          ],
          "scatterpolargl": [
           {
            "marker": {
             "colorbar": {
              "outlinewidth": 0,
              "ticks": ""
             }
            },
            "type": "scatterpolargl"
           }
          ],
          "scatterternary": [
           {
            "marker": {
             "colorbar": {
              "outlinewidth": 0,
              "ticks": ""
             }
            },
            "type": "scatterternary"
           }
          ],
          "surface": [
           {
            "colorbar": {
             "outlinewidth": 0,
             "ticks": ""
            },
            "colorscale": [
             [
              0,
              "#0d0887"
             ],
             [
              0.1111111111111111,
              "#46039f"
             ],
             [
              0.2222222222222222,
              "#7201a8"
             ],
             [
              0.3333333333333333,
              "#9c179e"
             ],
             [
              0.4444444444444444,
              "#bd3786"
             ],
             [
              0.5555555555555556,
              "#d8576b"
             ],
             [
              0.6666666666666666,
              "#ed7953"
             ],
             [
              0.7777777777777778,
              "#fb9f3a"
             ],
             [
              0.8888888888888888,
              "#fdca26"
             ],
             [
              1,
              "#f0f921"
             ]
            ],
            "type": "surface"
           }
          ],
          "table": [
           {
            "cells": {
             "fill": {
              "color": "#EBF0F8"
             },
             "line": {
              "color": "white"
             }
            },
            "header": {
             "fill": {
              "color": "#C8D4E3"
             },
             "line": {
              "color": "white"
             }
            },
            "type": "table"
           }
          ]
         },
         "layout": {
          "annotationdefaults": {
           "arrowcolor": "#2a3f5f",
           "arrowhead": 0,
           "arrowwidth": 1
          },
          "autotypenumbers": "strict",
          "coloraxis": {
           "colorbar": {
            "outlinewidth": 0,
            "ticks": ""
           }
          },
          "colorscale": {
           "diverging": [
            [
             0,
             "#8e0152"
            ],
            [
             0.1,
             "#c51b7d"
            ],
            [
             0.2,
             "#de77ae"
            ],
            [
             0.3,
             "#f1b6da"
            ],
            [
             0.4,
             "#fde0ef"
            ],
            [
             0.5,
             "#f7f7f7"
            ],
            [
             0.6,
             "#e6f5d0"
            ],
            [
             0.7,
             "#b8e186"
            ],
            [
             0.8,
             "#7fbc41"
            ],
            [
             0.9,
             "#4d9221"
            ],
            [
             1,
             "#276419"
            ]
           ],
           "sequential": [
            [
             0,
             "#0d0887"
            ],
            [
             0.1111111111111111,
             "#46039f"
            ],
            [
             0.2222222222222222,
             "#7201a8"
            ],
            [
             0.3333333333333333,
             "#9c179e"
            ],
            [
             0.4444444444444444,
             "#bd3786"
            ],
            [
             0.5555555555555556,
             "#d8576b"
            ],
            [
             0.6666666666666666,
             "#ed7953"
            ],
            [
             0.7777777777777778,
             "#fb9f3a"
            ],
            [
             0.8888888888888888,
             "#fdca26"
            ],
            [
             1,
             "#f0f921"
            ]
           ],
           "sequentialminus": [
            [
             0,
             "#0d0887"
            ],
            [
             0.1111111111111111,
             "#46039f"
            ],
            [
             0.2222222222222222,
             "#7201a8"
            ],
            [
             0.3333333333333333,
             "#9c179e"
            ],
            [
             0.4444444444444444,
             "#bd3786"
            ],
            [
             0.5555555555555556,
             "#d8576b"
            ],
            [
             0.6666666666666666,
             "#ed7953"
            ],
            [
             0.7777777777777778,
             "#fb9f3a"
            ],
            [
             0.8888888888888888,
             "#fdca26"
            ],
            [
             1,
             "#f0f921"
            ]
           ]
          },
          "colorway": [
           "#636efa",
           "#EF553B",
           "#00cc96",
           "#ab63fa",
           "#FFA15A",
           "#19d3f3",
           "#FF6692",
           "#B6E880",
           "#FF97FF",
           "#FECB52"
          ],
          "font": {
           "color": "#2a3f5f"
          },
          "geo": {
           "bgcolor": "white",
           "lakecolor": "white",
           "landcolor": "#E5ECF6",
           "showlakes": true,
           "showland": true,
           "subunitcolor": "white"
          },
          "hoverlabel": {
           "align": "left"
          },
          "hovermode": "closest",
          "mapbox": {
           "style": "light"
          },
          "paper_bgcolor": "white",
          "plot_bgcolor": "#E5ECF6",
          "polar": {
           "angularaxis": {
            "gridcolor": "white",
            "linecolor": "white",
            "ticks": ""
           },
           "bgcolor": "#E5ECF6",
           "radialaxis": {
            "gridcolor": "white",
            "linecolor": "white",
            "ticks": ""
           }
          },
          "scene": {
           "xaxis": {
            "backgroundcolor": "#E5ECF6",
            "gridcolor": "white",
            "gridwidth": 2,
            "linecolor": "white",
            "showbackground": true,
            "ticks": "",
            "zerolinecolor": "white"
           },
           "yaxis": {
            "backgroundcolor": "#E5ECF6",
            "gridcolor": "white",
            "gridwidth": 2,
            "linecolor": "white",
            "showbackground": true,
            "ticks": "",
            "zerolinecolor": "white"
           },
           "zaxis": {
            "backgroundcolor": "#E5ECF6",
            "gridcolor": "white",
            "gridwidth": 2,
            "linecolor": "white",
            "showbackground": true,
            "ticks": "",
            "zerolinecolor": "white"
           }
          },
          "shapedefaults": {
           "line": {
            "color": "#2a3f5f"
           }
          },
          "ternary": {
           "aaxis": {
            "gridcolor": "white",
            "linecolor": "white",
            "ticks": ""
           },
           "baxis": {
            "gridcolor": "white",
            "linecolor": "white",
            "ticks": ""
           },
           "bgcolor": "#E5ECF6",
           "caxis": {
            "gridcolor": "white",
            "linecolor": "white",
            "ticks": ""
           }
          },
          "title": {
           "x": 0.05
          },
          "xaxis": {
           "automargin": true,
           "gridcolor": "white",
           "linecolor": "white",
           "ticks": "",
           "title": {
            "standoff": 15
           },
           "zerolinecolor": "white",
           "zerolinewidth": 2
          },
          "yaxis": {
           "automargin": true,
           "gridcolor": "white",
           "linecolor": "white",
           "ticks": "",
           "title": {
            "standoff": 15
           },
           "zerolinecolor": "white",
           "zerolinewidth": 2
          }
         }
        },
        "title": {
         "text": "Articles Sorted By Main Topic"
        },
        "xaxis": {
         "anchor": "y",
         "categoryarray": [
          1,
          2,
          0,
          4
         ],
         "categoryorder": "array",
         "domain": [
          0,
          1
         ],
         "title": {
          "text": "Main Topic"
         }
        },
        "yaxis": {
         "anchor": "x",
         "domain": [
          0,
          1
         ],
         "range": [
          -0.22,
          0.22
         ],
         "title": {
          "text": "Sentiment Score"
         }
        }
       }
      }
     },
     "metadata": {},
     "output_type": "display_data"
    }
   ],
   "source": [
    "visualize_all_articles_on_main_topic(df)\n",
    "visualize_all_articles_on_main_topic(df, plot_type=\"box\")"
   ]
  },
  {
   "cell_type": "markdown",
   "id": "e2dceebf",
   "metadata": {},
   "source": [
    "## Generating 2D and 3D Cluster Graphs of Topics (T-SNE)"
   ]
  },
  {
   "cell_type": "markdown",
   "id": "b37fc21b",
   "metadata": {},
   "source": [
    "This visualization generates a 2D clustering graph representing each article as a point in the topic space, which uses t-SNE dimensionality reduction and clustering. The goal of this visualization is to show every article compared to each other by their similarity in topics. You should see clusters of articles that share a lot of topic words and overall themes, while articles that differ in their topics are shown far apart. Colored by an article's main topic."
   ]
  },
  {
   "cell_type": "code",
   "execution_count": 12,
   "id": "235fbeca",
   "metadata": {
    "scrolled": false
   },
   "outputs": [
    {
     "name": "stdout",
     "output_type": "stream",
     "text": [
      "[t-SNE] Computing 39 nearest neighbors...\n",
      "[t-SNE] Indexed 40 samples in 0.000s...\n",
      "[t-SNE] Computed neighbors for 40 samples in 0.406s...\n",
      "[t-SNE] Computed conditional probabilities for sample 40 / 40\n",
      "[t-SNE] Mean sigma: 0.478405\n",
      "[t-SNE] KL divergence after 250 iterations with early exaggeration: 50.676071\n",
      "[t-SNE] KL divergence after 700 iterations: 0.072350\n"
     ]
    },
    {
     "data": {
      "application/vnd.plotly.v1+json": {
       "config": {
        "plotlyServerURL": "https://plot.ly"
       },
       "data": [
        {
         "customdata": [
          [
           39,
           [
            [
             "democratic",
             "president",
             "phillip",
             "campaign",
             "people",
             "group",
             "run",
             "voter",
             "support",
             "party"
            ]
           ],
           "www.foxnews.com",
           "Neutral Positive",
           "0"
          ],
          [
           37,
           [
            [
             "democratic",
             "president",
             "phillip",
             "campaign",
             "people",
             "group",
             "run",
             "voter",
             "support",
             "party"
            ]
           ],
           "www.usatoday.com",
           "Neutral Positive",
           "0"
          ],
          [
           36,
           [
            [
             "democratic",
             "president",
             "phillip",
             "campaign",
             "people",
             "group",
             "run",
             "voter",
             "support",
             "party"
            ]
           ],
           "www.washingtonpost.com",
           "Neutral",
           "0"
          ],
          [
           35,
           [
            [
             "democratic",
             "president",
             "phillip",
             "campaign",
             "people",
             "group",
             "run",
             "voter",
             "support",
             "party"
            ]
           ],
           "www.foxnews.com",
           "Neutral Negative",
           "0"
          ],
          [
           34,
           [
            [
             "democratic",
             "president",
             "phillip",
             "campaign",
             "people",
             "group",
             "run",
             "voter",
             "support",
             "party"
            ]
           ],
           "www.cnn.com",
           "Neutral Positive",
           "0"
          ],
          [
           5,
           [
            [
             "democratic",
             "president",
             "phillip",
             "campaign",
             "people",
             "group",
             "run",
             "voter",
             "support",
             "party"
            ]
           ],
           "www.nation.com.pk",
           "Neutral Positive",
           "0"
          ],
          [
           32,
           [
            [
             "democratic",
             "president",
             "phillip",
             "campaign",
             "people",
             "group",
             "run",
             "voter",
             "support",
             "party"
            ]
           ],
           "www.reuters.com",
           "Neutral Negative",
           "0"
          ],
          [
           31,
           [
            [
             "democratic",
             "president",
             "phillip",
             "campaign",
             "people",
             "group",
             "run",
             "voter",
             "support",
             "party"
            ]
           ],
           "www.startribune.com",
           "Positive",
           "0"
          ],
          [
           29,
           [
            [
             "democratic",
             "president",
             "phillip",
             "campaign",
             "people",
             "group",
             "run",
             "voter",
             "support",
             "party"
            ]
           ],
           "www.washingtonpost.com",
           "Positive",
           "0"
          ],
          [
           27,
           [
            [
             "democratic",
             "president",
             "phillip",
             "campaign",
             "people",
             "group",
             "run",
             "voter",
             "support",
             "party"
            ]
           ],
           "www.foxnews.com",
           "Neutral Negative",
           "0"
          ],
          [
           26,
           [
            [
             "democratic",
             "president",
             "phillip",
             "campaign",
             "people",
             "group",
             "run",
             "voter",
             "support",
             "party"
            ]
           ],
           "www.nbcnews.com",
           "Neutral",
           "0"
          ],
          [
           23,
           [
            [
             "democratic",
             "president",
             "phillip",
             "campaign",
             "people",
             "group",
             "run",
             "voter",
             "support",
             "party"
            ]
           ],
           "www.usatoday.com",
           "Positive",
           "0"
          ],
          [
           38,
           [
            [
             "democratic",
             "president",
             "phillip",
             "campaign",
             "people",
             "group",
             "run",
             "voter",
             "support",
             "party"
            ]
           ],
           "www.reuters.com",
           "Negative",
           "0"
          ],
          [
           14,
           [
            [
             "democratic",
             "president",
             "phillip",
             "campaign",
             "people",
             "group",
             "run",
             "voter",
             "support",
             "party"
            ]
           ],
           "www.newsnationnow.com",
           "Positive",
           "0"
          ],
          [
           17,
           [
            [
             "democratic",
             "president",
             "phillip",
             "campaign",
             "people",
             "group",
             "run",
             "voter",
             "support",
             "party"
            ]
           ],
           "www.politico.com",
           "Positive",
           "0"
          ]
         ],
         "hovertemplate": "ID: %{customdata[0]}<br>Associated Words: %{customdata[1]}<br>Address: %{customdata[2]}<br>Sentiment Label: %{customdata[3]}<br>Main Topic:%{customdata[4]}",
         "legendgroup": "0",
         "marker": {
          "color": "#636efa",
          "size": [
           0.9974852204322815,
           0.7277170419692993,
           0.9988504648208618,
           0.6486952304840088,
           0.9986169934272766,
           0.7565103769302368,
           0.9945847988128662,
           0.99587082862854,
           0.998873233795166,
           0.5767195224761963,
           0.954483687877655,
           0.992621123790741,
           0.9965670704841614,
           0.6766695380210876,
           0.7606449127197266
          ],
          "sizemode": "area",
          "sizeref": 0.002497741729021072,
          "symbol": "circle"
         },
         "mode": "markers",
         "name": "0",
         "orientation": "v",
         "showlegend": true,
         "type": "scatter",
         "x": [
          -18.25910186767578,
          -17.85256576538086,
          -13.7696533203125,
          -17.91974639892578,
          -17.59373664855957,
          -9.831318855285645,
          -14.5948486328125,
          -17.671852111816406,
          -17.68706512451172,
          -18.098478317260742,
          -15.90389633178711,
          -16.06489372253418,
          -16.06734848022461,
          -15.893872261047363,
          -9.965014457702637
         ],
         "xaxis": "x",
         "y": [
          9.165660858154297,
          9.592769622802734,
          7.511292934417725,
          8.92943000793457,
          9.222553253173828,
          6.516450881958008,
          7.071090221405029,
          9.08684253692627,
          9.525156021118164,
          8.965526580810547,
          6.339470863342285,
          4.90171480178833,
          4.9045844078063965,
          5.2546586990356445,
          6.297879219055176
         ],
         "yaxis": "y"
        },
        {
         "customdata": [
          [
           18,
           [
            [
             "hunter",
             "president",
             "investigation",
             "charge",
             "family",
             "gun",
             "son",
             "evidence",
             "political",
             "document"
            ]
           ],
           "www.cnn.com",
           "Neutral",
           "1"
          ],
          [
           0,
           [
            [
             "hunter",
             "president",
             "investigation",
             "charge",
             "family",
             "gun",
             "son",
             "evidence",
             "political",
             "document"
            ]
           ],
           "www.foxnews.com",
           "Neutral",
           "1"
          ],
          [
           19,
           [
            [
             "hunter",
             "president",
             "investigation",
             "charge",
             "family",
             "gun",
             "son",
             "evidence",
             "political",
             "document"
            ]
           ],
           "www.washingtonexaminer.com",
           "Negative",
           "1"
          ],
          [
           1,
           [
            [
             "hunter",
             "president",
             "investigation",
             "charge",
             "family",
             "gun",
             "son",
             "evidence",
             "political",
             "document"
            ]
           ],
           "www.foxnews.com",
           "Neutral",
           "1"
          ],
          [
           3,
           [
            [
             "hunter",
             "president",
             "investigation",
             "charge",
             "family",
             "gun",
             "son",
             "evidence",
             "political",
             "document"
            ]
           ],
           "apnews.com",
           "Neutral Negative",
           "1"
          ],
          [
           4,
           [
            [
             "hunter",
             "president",
             "investigation",
             "charge",
             "family",
             "gun",
             "son",
             "evidence",
             "political",
             "document"
            ]
           ],
           "www.nation.com.pk",
           "Negative",
           "1"
          ],
          [
           7,
           [
            [
             "hunter",
             "president",
             "investigation",
             "charge",
             "family",
             "gun",
             "son",
             "evidence",
             "political",
             "document"
            ]
           ],
           "www.cnn.com",
           "Negative",
           "1"
          ],
          [
           8,
           [
            [
             "hunter",
             "president",
             "investigation",
             "charge",
             "family",
             "gun",
             "son",
             "evidence",
             "political",
             "document"
            ]
           ],
           "abcnews.go.com",
           "Neutral Negative",
           "1"
          ],
          [
           9,
           [
            [
             "hunter",
             "president",
             "investigation",
             "charge",
             "family",
             "gun",
             "son",
             "evidence",
             "political",
             "document"
            ]
           ],
           "apnews.com",
           "Neutral",
           "1"
          ]
         ],
         "hovertemplate": "ID: %{customdata[0]}<br>Associated Words: %{customdata[1]}<br>Address: %{customdata[2]}<br>Sentiment Label: %{customdata[3]}<br>Main Topic:%{customdata[4]}",
         "legendgroup": "1",
         "marker": {
          "color": "#EF553B",
          "size": [
           0.9989409446716309,
           0.9977274537086487,
           0.9987667202949524,
           0.9981881380081177,
           0.9984385371208191,
           0.9949246644973755,
           0.998345136642456,
           0.9965294599533081,
           0.9948739409446716
          ],
          "sizemode": "area",
          "sizeref": 0.002497741729021072,
          "symbol": "circle"
         },
         "mode": "markers",
         "name": "1",
         "orientation": "v",
         "showlegend": true,
         "type": "scatter",
         "x": [
          -16.065034866333008,
          -13.214271545410156,
          -9.7718505859375,
          -18.2553653717041,
          -18.139989852905273,
          -16.06674575805664,
          -16.06493377685547,
          -15.967702865600586,
          -8.782891273498535
         ],
         "xaxis": "x",
         "y": [
          4.904590129852295,
          7.941353797912598,
          6.499220848083496,
          9.413330078125,
          9.596187591552734,
          4.907432556152344,
          4.902818202972412,
          6.0507731437683105,
          6.8563079833984375
         ],
         "yaxis": "y"
        },
        {
         "customdata": [
          [
           2,
           [
            [
             "primary",
             "state",
             "hunter",
             "write",
             "party",
             "nation",
             "vote",
             "candidate",
             "democratic",
             "ballot"
            ]
           ],
           "www.foxnews.com",
           "Negative",
           "2"
          ],
          [
           33,
           [
            [
             "primary",
             "state",
             "hunter",
             "write",
             "party",
             "nation",
             "vote",
             "candidate",
             "democratic",
             "ballot"
            ]
           ],
           "apnews.com",
           "Neutral",
           "2"
          ],
          [
           6,
           [
            [
             "primary",
             "state",
             "hunter",
             "write",
             "party",
             "nation",
             "vote",
             "candidate",
             "democratic",
             "ballot"
            ]
           ],
           "www.nation.com.pk",
           "Negative",
           "2"
          ],
          [
           30,
           [
            [
             "primary",
             "state",
             "hunter",
             "write",
             "party",
             "nation",
             "vote",
             "candidate",
             "democratic",
             "ballot"
            ]
           ],
           "www.wmur.com",
           "Positive",
           "2"
          ],
          [
           28,
           [
            [
             "primary",
             "state",
             "hunter",
             "write",
             "party",
             "nation",
             "vote",
             "candidate",
             "democratic",
             "ballot"
            ]
           ],
           "abcnews.go.com",
           "Neutral Positive",
           "2"
          ],
          [
           25,
           [
            [
             "primary",
             "state",
             "hunter",
             "write",
             "party",
             "nation",
             "vote",
             "candidate",
             "democratic",
             "ballot"
            ]
           ],
           "www.politico.com",
           "Positive",
           "2"
          ],
          [
           24,
           [
            [
             "primary",
             "state",
             "hunter",
             "write",
             "party",
             "nation",
             "vote",
             "candidate",
             "democratic",
             "ballot"
            ]
           ],
           "apnews.com",
           "Positive",
           "2"
          ],
          [
           16,
           [
            [
             "primary",
             "state",
             "hunter",
             "write",
             "party",
             "nation",
             "vote",
             "candidate",
             "democratic",
             "ballot"
            ]
           ],
           "www.thenation.com",
           "Neutral Positive",
           "2"
          ]
         ],
         "hovertemplate": "ID: %{customdata[0]}<br>Associated Words: %{customdata[1]}<br>Address: %{customdata[2]}<br>Sentiment Label: %{customdata[3]}<br>Main Topic:%{customdata[4]}",
         "legendgroup": "2",
         "marker": {
          "color": "#00cc96",
          "size": [
           0.6586756706237793,
           0.6057589054107666,
           0.3922624886035919,
           0.5677191615104675,
           0.9976508617401123,
           0.9867652058601379,
           0.9983977675437927,
           0.999096691608429
          ],
          "sizemode": "area",
          "sizeref": 0.002497741729021072,
          "symbol": "circle"
         },
         "mode": "markers",
         "name": "2",
         "orientation": "v",
         "showlegend": true,
         "type": "scatter",
         "x": [
          -13.189227104187012,
          -13.189448356628418,
          -9.124755859375,
          -11.569572448730469,
          -13.190460205078125,
          -8.424110412597656,
          -12.117494583129883,
          -8.690773010253906
         ],
         "xaxis": "x",
         "y": [
          7.9400811195373535,
          7.929425239562988,
          7.144475936889648,
          7.360683441162109,
          7.941198825836182,
          7.181499004364014,
          7.461528778076172,
          6.497891902923584
         ],
         "yaxis": "y"
        },
        {
         "customdata": [
          [
           10,
           [
            [
             "office",
             "hunter",
             "information",
             "source",
             "foreign",
             "family",
             "attorney",
             "investigation",
             "relate",
             "letter"
            ]
           ],
           "nypost.com",
           "Neutral",
           "4"
          ],
          [
           11,
           [
            [
             "office",
             "hunter",
             "information",
             "source",
             "foreign",
             "family",
             "attorney",
             "investigation",
             "relate",
             "letter"
            ]
           ],
           "www.foxnews.com",
           "Negative",
           "4"
          ],
          [
           22,
           [
            [
             "office",
             "hunter",
             "information",
             "source",
             "foreign",
             "family",
             "attorney",
             "investigation",
             "relate",
             "letter"
            ]
           ],
           "www.washingtontimes.com",
           "Neutral Positive",
           "4"
          ],
          [
           21,
           [
            [
             "office",
             "hunter",
             "information",
             "source",
             "foreign",
             "family",
             "attorney",
             "investigation",
             "relate",
             "letter"
            ]
           ],
           "thefederalist.com",
           "Neutral Negative",
           "4"
          ],
          [
           20,
           [
            [
             "office",
             "hunter",
             "information",
             "source",
             "foreign",
             "family",
             "attorney",
             "investigation",
             "relate",
             "letter"
            ]
           ],
           "www.dailymail.co.uk",
           "Negative",
           "4"
          ],
          [
           12,
           [
            [
             "office",
             "hunter",
             "information",
             "source",
             "foreign",
             "family",
             "attorney",
             "investigation",
             "relate",
             "letter"
            ]
           ],
           "www.grassley.senate.gov",
           "Neutral Negative",
           "4"
          ],
          [
           13,
           [
            [
             "office",
             "hunter",
             "information",
             "source",
             "foreign",
             "family",
             "attorney",
             "investigation",
             "relate",
             "letter"
            ]
           ],
           "wjla.com",
           "Negative",
           "4"
          ],
          [
           15,
           [
            [
             "office",
             "hunter",
             "information",
             "source",
             "foreign",
             "family",
             "attorney",
             "investigation",
             "relate",
             "letter"
            ]
           ],
           "nypost.com",
           "Neutral Positive",
           "4"
          ]
         ],
         "hovertemplate": "ID: %{customdata[0]}<br>Associated Words: %{customdata[1]}<br>Address: %{customdata[2]}<br>Sentiment Label: %{customdata[3]}<br>Main Topic:%{customdata[4]}",
         "legendgroup": "4",
         "marker": {
          "color": "#ab63fa",
          "size": [
           0.5204653739929199,
           0.9989666938781738,
           0.6227314472198486,
           0.9987679719924927,
           0.9978317618370056,
           0.9957577586174011,
           0.780755877494812,
           0.9980490803718567
          ],
          "sizemode": "area",
          "sizeref": 0.002497741729021072,
          "symbol": "circle"
         },
         "mode": "markers",
         "name": "4",
         "orientation": "v",
         "showlegend": true,
         "type": "scatter",
         "x": [
          -8.867900848388672,
          -12.207405090332031,
          -8.438854217529297,
          -10.017815589904785,
          -8.802027702331543,
          -10.714077949523926,
          -8.664460182189941,
          -8.345802307128906
         ],
         "xaxis": "x",
         "y": [
          7.317072868347168,
          7.475811958312988,
          7.099038124084473,
          7.3804612159729,
          7.389612674713135,
          7.219099521636963,
          6.544811725616455,
          6.764859199523926
         ],
         "yaxis": "y"
        }
       ],
       "layout": {
        "legend": {
         "itemsizing": "constant",
         "title": {
          "text": "Main Topic"
         },
         "tracegroupgap": 0
        },
        "template": {
         "data": {
          "bar": [
           {
            "error_x": {
             "color": "#2a3f5f"
            },
            "error_y": {
             "color": "#2a3f5f"
            },
            "marker": {
             "line": {
              "color": "#E5ECF6",
              "width": 0.5
             },
             "pattern": {
              "fillmode": "overlay",
              "size": 10,
              "solidity": 0.2
             }
            },
            "type": "bar"
           }
          ],
          "barpolar": [
           {
            "marker": {
             "line": {
              "color": "#E5ECF6",
              "width": 0.5
             },
             "pattern": {
              "fillmode": "overlay",
              "size": 10,
              "solidity": 0.2
             }
            },
            "type": "barpolar"
           }
          ],
          "carpet": [
           {
            "aaxis": {
             "endlinecolor": "#2a3f5f",
             "gridcolor": "white",
             "linecolor": "white",
             "minorgridcolor": "white",
             "startlinecolor": "#2a3f5f"
            },
            "baxis": {
             "endlinecolor": "#2a3f5f",
             "gridcolor": "white",
             "linecolor": "white",
             "minorgridcolor": "white",
             "startlinecolor": "#2a3f5f"
            },
            "type": "carpet"
           }
          ],
          "choropleth": [
           {
            "colorbar": {
             "outlinewidth": 0,
             "ticks": ""
            },
            "type": "choropleth"
           }
          ],
          "contour": [
           {
            "colorbar": {
             "outlinewidth": 0,
             "ticks": ""
            },
            "colorscale": [
             [
              0,
              "#0d0887"
             ],
             [
              0.1111111111111111,
              "#46039f"
             ],
             [
              0.2222222222222222,
              "#7201a8"
             ],
             [
              0.3333333333333333,
              "#9c179e"
             ],
             [
              0.4444444444444444,
              "#bd3786"
             ],
             [
              0.5555555555555556,
              "#d8576b"
             ],
             [
              0.6666666666666666,
              "#ed7953"
             ],
             [
              0.7777777777777778,
              "#fb9f3a"
             ],
             [
              0.8888888888888888,
              "#fdca26"
             ],
             [
              1,
              "#f0f921"
             ]
            ],
            "type": "contour"
           }
          ],
          "contourcarpet": [
           {
            "colorbar": {
             "outlinewidth": 0,
             "ticks": ""
            },
            "type": "contourcarpet"
           }
          ],
          "heatmap": [
           {
            "colorbar": {
             "outlinewidth": 0,
             "ticks": ""
            },
            "colorscale": [
             [
              0,
              "#0d0887"
             ],
             [
              0.1111111111111111,
              "#46039f"
             ],
             [
              0.2222222222222222,
              "#7201a8"
             ],
             [
              0.3333333333333333,
              "#9c179e"
             ],
             [
              0.4444444444444444,
              "#bd3786"
             ],
             [
              0.5555555555555556,
              "#d8576b"
             ],
             [
              0.6666666666666666,
              "#ed7953"
             ],
             [
              0.7777777777777778,
              "#fb9f3a"
             ],
             [
              0.8888888888888888,
              "#fdca26"
             ],
             [
              1,
              "#f0f921"
             ]
            ],
            "type": "heatmap"
           }
          ],
          "heatmapgl": [
           {
            "colorbar": {
             "outlinewidth": 0,
             "ticks": ""
            },
            "colorscale": [
             [
              0,
              "#0d0887"
             ],
             [
              0.1111111111111111,
              "#46039f"
             ],
             [
              0.2222222222222222,
              "#7201a8"
             ],
             [
              0.3333333333333333,
              "#9c179e"
             ],
             [
              0.4444444444444444,
              "#bd3786"
             ],
             [
              0.5555555555555556,
              "#d8576b"
             ],
             [
              0.6666666666666666,
              "#ed7953"
             ],
             [
              0.7777777777777778,
              "#fb9f3a"
             ],
             [
              0.8888888888888888,
              "#fdca26"
             ],
             [
              1,
              "#f0f921"
             ]
            ],
            "type": "heatmapgl"
           }
          ],
          "histogram": [
           {
            "marker": {
             "pattern": {
              "fillmode": "overlay",
              "size": 10,
              "solidity": 0.2
             }
            },
            "type": "histogram"
           }
          ],
          "histogram2d": [
           {
            "colorbar": {
             "outlinewidth": 0,
             "ticks": ""
            },
            "colorscale": [
             [
              0,
              "#0d0887"
             ],
             [
              0.1111111111111111,
              "#46039f"
             ],
             [
              0.2222222222222222,
              "#7201a8"
             ],
             [
              0.3333333333333333,
              "#9c179e"
             ],
             [
              0.4444444444444444,
              "#bd3786"
             ],
             [
              0.5555555555555556,
              "#d8576b"
             ],
             [
              0.6666666666666666,
              "#ed7953"
             ],
             [
              0.7777777777777778,
              "#fb9f3a"
             ],
             [
              0.8888888888888888,
              "#fdca26"
             ],
             [
              1,
              "#f0f921"
             ]
            ],
            "type": "histogram2d"
           }
          ],
          "histogram2dcontour": [
           {
            "colorbar": {
             "outlinewidth": 0,
             "ticks": ""
            },
            "colorscale": [
             [
              0,
              "#0d0887"
             ],
             [
              0.1111111111111111,
              "#46039f"
             ],
             [
              0.2222222222222222,
              "#7201a8"
             ],
             [
              0.3333333333333333,
              "#9c179e"
             ],
             [
              0.4444444444444444,
              "#bd3786"
             ],
             [
              0.5555555555555556,
              "#d8576b"
             ],
             [
              0.6666666666666666,
              "#ed7953"
             ],
             [
              0.7777777777777778,
              "#fb9f3a"
             ],
             [
              0.8888888888888888,
              "#fdca26"
             ],
             [
              1,
              "#f0f921"
             ]
            ],
            "type": "histogram2dcontour"
           }
          ],
          "mesh3d": [
           {
            "colorbar": {
             "outlinewidth": 0,
             "ticks": ""
            },
            "type": "mesh3d"
           }
          ],
          "parcoords": [
           {
            "line": {
             "colorbar": {
              "outlinewidth": 0,
              "ticks": ""
             }
            },
            "type": "parcoords"
           }
          ],
          "pie": [
           {
            "automargin": true,
            "type": "pie"
           }
          ],
          "scatter": [
           {
            "fillpattern": {
             "fillmode": "overlay",
             "size": 10,
             "solidity": 0.2
            },
            "type": "scatter"
           }
          ],
          "scatter3d": [
           {
            "line": {
             "colorbar": {
              "outlinewidth": 0,
              "ticks": ""
             }
            },
            "marker": {
             "colorbar": {
              "outlinewidth": 0,
              "ticks": ""
             }
            },
            "type": "scatter3d"
           }
          ],
          "scattercarpet": [
           {
            "marker": {
             "colorbar": {
              "outlinewidth": 0,
              "ticks": ""
             }
            },
            "type": "scattercarpet"
           }
          ],
          "scattergeo": [
           {
            "marker": {
             "colorbar": {
              "outlinewidth": 0,
              "ticks": ""
             }
            },
            "type": "scattergeo"
           }
          ],
          "scattergl": [
           {
            "marker": {
             "colorbar": {
              "outlinewidth": 0,
              "ticks": ""
             }
            },
            "type": "scattergl"
           }
          ],
          "scattermapbox": [
           {
            "marker": {
             "colorbar": {
              "outlinewidth": 0,
              "ticks": ""
             }
            },
            "type": "scattermapbox"
           }
          ],
          "scatterpolar": [
           {
            "marker": {
             "colorbar": {
              "outlinewidth": 0,
              "ticks": ""
             }
            },
            "type": "scatterpolar"
           }
          ],
          "scatterpolargl": [
           {
            "marker": {
             "colorbar": {
              "outlinewidth": 0,
              "ticks": ""
             }
            },
            "type": "scatterpolargl"
           }
          ],
          "scatterternary": [
           {
            "marker": {
             "colorbar": {
              "outlinewidth": 0,
              "ticks": ""
             }
            },
            "type": "scatterternary"
           }
          ],
          "surface": [
           {
            "colorbar": {
             "outlinewidth": 0,
             "ticks": ""
            },
            "colorscale": [
             [
              0,
              "#0d0887"
             ],
             [
              0.1111111111111111,
              "#46039f"
             ],
             [
              0.2222222222222222,
              "#7201a8"
             ],
             [
              0.3333333333333333,
              "#9c179e"
             ],
             [
              0.4444444444444444,
              "#bd3786"
             ],
             [
              0.5555555555555556,
              "#d8576b"
             ],
             [
              0.6666666666666666,
              "#ed7953"
             ],
             [
              0.7777777777777778,
              "#fb9f3a"
             ],
             [
              0.8888888888888888,
              "#fdca26"
             ],
             [
              1,
              "#f0f921"
             ]
            ],
            "type": "surface"
           }
          ],
          "table": [
           {
            "cells": {
             "fill": {
              "color": "#EBF0F8"
             },
             "line": {
              "color": "white"
             }
            },
            "header": {
             "fill": {
              "color": "#C8D4E3"
             },
             "line": {
              "color": "white"
             }
            },
            "type": "table"
           }
          ]
         },
         "layout": {
          "annotationdefaults": {
           "arrowcolor": "#2a3f5f",
           "arrowhead": 0,
           "arrowwidth": 1
          },
          "autotypenumbers": "strict",
          "coloraxis": {
           "colorbar": {
            "outlinewidth": 0,
            "ticks": ""
           }
          },
          "colorscale": {
           "diverging": [
            [
             0,
             "#8e0152"
            ],
            [
             0.1,
             "#c51b7d"
            ],
            [
             0.2,
             "#de77ae"
            ],
            [
             0.3,
             "#f1b6da"
            ],
            [
             0.4,
             "#fde0ef"
            ],
            [
             0.5,
             "#f7f7f7"
            ],
            [
             0.6,
             "#e6f5d0"
            ],
            [
             0.7,
             "#b8e186"
            ],
            [
             0.8,
             "#7fbc41"
            ],
            [
             0.9,
             "#4d9221"
            ],
            [
             1,
             "#276419"
            ]
           ],
           "sequential": [
            [
             0,
             "#0d0887"
            ],
            [
             0.1111111111111111,
             "#46039f"
            ],
            [
             0.2222222222222222,
             "#7201a8"
            ],
            [
             0.3333333333333333,
             "#9c179e"
            ],
            [
             0.4444444444444444,
             "#bd3786"
            ],
            [
             0.5555555555555556,
             "#d8576b"
            ],
            [
             0.6666666666666666,
             "#ed7953"
            ],
            [
             0.7777777777777778,
             "#fb9f3a"
            ],
            [
             0.8888888888888888,
             "#fdca26"
            ],
            [
             1,
             "#f0f921"
            ]
           ],
           "sequentialminus": [
            [
             0,
             "#0d0887"
            ],
            [
             0.1111111111111111,
             "#46039f"
            ],
            [
             0.2222222222222222,
             "#7201a8"
            ],
            [
             0.3333333333333333,
             "#9c179e"
            ],
            [
             0.4444444444444444,
             "#bd3786"
            ],
            [
             0.5555555555555556,
             "#d8576b"
            ],
            [
             0.6666666666666666,
             "#ed7953"
            ],
            [
             0.7777777777777778,
             "#fb9f3a"
            ],
            [
             0.8888888888888888,
             "#fdca26"
            ],
            [
             1,
             "#f0f921"
            ]
           ]
          },
          "colorway": [
           "#636efa",
           "#EF553B",
           "#00cc96",
           "#ab63fa",
           "#FFA15A",
           "#19d3f3",
           "#FF6692",
           "#B6E880",
           "#FF97FF",
           "#FECB52"
          ],
          "font": {
           "color": "#2a3f5f"
          },
          "geo": {
           "bgcolor": "white",
           "lakecolor": "white",
           "landcolor": "#E5ECF6",
           "showlakes": true,
           "showland": true,
           "subunitcolor": "white"
          },
          "hoverlabel": {
           "align": "left"
          },
          "hovermode": "closest",
          "mapbox": {
           "style": "light"
          },
          "paper_bgcolor": "white",
          "plot_bgcolor": "#E5ECF6",
          "polar": {
           "angularaxis": {
            "gridcolor": "white",
            "linecolor": "white",
            "ticks": ""
           },
           "bgcolor": "#E5ECF6",
           "radialaxis": {
            "gridcolor": "white",
            "linecolor": "white",
            "ticks": ""
           }
          },
          "scene": {
           "xaxis": {
            "backgroundcolor": "#E5ECF6",
            "gridcolor": "white",
            "gridwidth": 2,
            "linecolor": "white",
            "showbackground": true,
            "ticks": "",
            "zerolinecolor": "white"
           },
           "yaxis": {
            "backgroundcolor": "#E5ECF6",
            "gridcolor": "white",
            "gridwidth": 2,
            "linecolor": "white",
            "showbackground": true,
            "ticks": "",
            "zerolinecolor": "white"
           },
           "zaxis": {
            "backgroundcolor": "#E5ECF6",
            "gridcolor": "white",
            "gridwidth": 2,
            "linecolor": "white",
            "showbackground": true,
            "ticks": "",
            "zerolinecolor": "white"
           }
          },
          "shapedefaults": {
           "line": {
            "color": "#2a3f5f"
           }
          },
          "ternary": {
           "aaxis": {
            "gridcolor": "white",
            "linecolor": "white",
            "ticks": ""
           },
           "baxis": {
            "gridcolor": "white",
            "linecolor": "white",
            "ticks": ""
           },
           "bgcolor": "#E5ECF6",
           "caxis": {
            "gridcolor": "white",
            "linecolor": "white",
            "ticks": ""
           }
          },
          "title": {
           "x": 0.05
          },
          "xaxis": {
           "automargin": true,
           "gridcolor": "white",
           "linecolor": "white",
           "ticks": "",
           "title": {
            "standoff": 15
           },
           "zerolinecolor": "white",
           "zerolinewidth": 2
          },
          "yaxis": {
           "automargin": true,
           "gridcolor": "white",
           "linecolor": "white",
           "ticks": "",
           "title": {
            "standoff": 15
           },
           "zerolinecolor": "white",
           "zerolinewidth": 2
          }
         }
        },
        "title": {
         "text": "Topic Clustering Graph"
        },
        "xaxis": {
         "anchor": "y",
         "domain": [
          0,
          1
         ],
         "title": {
          "text": "x"
         }
        },
        "yaxis": {
         "anchor": "x",
         "domain": [
          0,
          1
         ],
         "title": {
          "text": "y"
         }
        }
       }
      }
     },
     "metadata": {},
     "output_type": "display_data"
    }
   ],
   "source": [
    "visualize_topic_cluster_tsne(lda_model, df)"
   ]
  },
  {
   "cell_type": "markdown",
   "id": "749fea08",
   "metadata": {},
   "source": [
    "This generates a 3D clustering graph where the x and y-axis represent each article in the topic space, and the z-axis shows the sentiment value for each article. The 2D xy-plane is exactly the same as the 2D graph generated above, but we add a 3rd dimension in the form of sentiment to show how article clusters differ by their sentiment value as well as their topics. Colored by main topic."
   ]
  },
  {
   "cell_type": "code",
   "execution_count": 13,
   "id": "329b2fc7",
   "metadata": {},
   "outputs": [
    {
     "name": "stdout",
     "output_type": "stream",
     "text": [
      "[t-SNE] Computing 39 nearest neighbors...\n",
      "[t-SNE] Indexed 40 samples in 0.000s...\n",
      "[t-SNE] Computed neighbors for 40 samples in 0.012s...\n",
      "[t-SNE] Computed conditional probabilities for sample 40 / 40\n",
      "[t-SNE] Mean sigma: 0.478405\n",
      "[t-SNE] KL divergence after 250 iterations with early exaggeration: 50.676071\n",
      "[t-SNE] KL divergence after 700 iterations: 0.072350\n"
     ]
    },
    {
     "data": {
      "application/vnd.plotly.v1+json": {
       "config": {
        "plotlyServerURL": "https://plot.ly"
       },
       "data": [
        {
         "customdata": [
          [
           39,
           [
            [
             "democratic",
             "president",
             "phillip",
             "campaign",
             "people",
             "group",
             "run",
             "voter",
             "support",
             "party"
            ]
           ],
           "www.foxnews.com",
           "Neutral Positive",
           "0"
          ],
          [
           37,
           [
            [
             "democratic",
             "president",
             "phillip",
             "campaign",
             "people",
             "group",
             "run",
             "voter",
             "support",
             "party"
            ]
           ],
           "www.usatoday.com",
           "Neutral Positive",
           "0"
          ],
          [
           36,
           [
            [
             "democratic",
             "president",
             "phillip",
             "campaign",
             "people",
             "group",
             "run",
             "voter",
             "support",
             "party"
            ]
           ],
           "www.washingtonpost.com",
           "Neutral",
           "0"
          ],
          [
           35,
           [
            [
             "democratic",
             "president",
             "phillip",
             "campaign",
             "people",
             "group",
             "run",
             "voter",
             "support",
             "party"
            ]
           ],
           "www.foxnews.com",
           "Neutral Negative",
           "0"
          ],
          [
           34,
           [
            [
             "democratic",
             "president",
             "phillip",
             "campaign",
             "people",
             "group",
             "run",
             "voter",
             "support",
             "party"
            ]
           ],
           "www.cnn.com",
           "Neutral Positive",
           "0"
          ],
          [
           5,
           [
            [
             "democratic",
             "president",
             "phillip",
             "campaign",
             "people",
             "group",
             "run",
             "voter",
             "support",
             "party"
            ]
           ],
           "www.nation.com.pk",
           "Neutral Positive",
           "0"
          ],
          [
           32,
           [
            [
             "democratic",
             "president",
             "phillip",
             "campaign",
             "people",
             "group",
             "run",
             "voter",
             "support",
             "party"
            ]
           ],
           "www.reuters.com",
           "Neutral Negative",
           "0"
          ],
          [
           31,
           [
            [
             "democratic",
             "president",
             "phillip",
             "campaign",
             "people",
             "group",
             "run",
             "voter",
             "support",
             "party"
            ]
           ],
           "www.startribune.com",
           "Positive",
           "0"
          ],
          [
           29,
           [
            [
             "democratic",
             "president",
             "phillip",
             "campaign",
             "people",
             "group",
             "run",
             "voter",
             "support",
             "party"
            ]
           ],
           "www.washingtonpost.com",
           "Positive",
           "0"
          ],
          [
           27,
           [
            [
             "democratic",
             "president",
             "phillip",
             "campaign",
             "people",
             "group",
             "run",
             "voter",
             "support",
             "party"
            ]
           ],
           "www.foxnews.com",
           "Neutral Negative",
           "0"
          ],
          [
           26,
           [
            [
             "democratic",
             "president",
             "phillip",
             "campaign",
             "people",
             "group",
             "run",
             "voter",
             "support",
             "party"
            ]
           ],
           "www.nbcnews.com",
           "Neutral",
           "0"
          ],
          [
           23,
           [
            [
             "democratic",
             "president",
             "phillip",
             "campaign",
             "people",
             "group",
             "run",
             "voter",
             "support",
             "party"
            ]
           ],
           "www.usatoday.com",
           "Positive",
           "0"
          ],
          [
           38,
           [
            [
             "democratic",
             "president",
             "phillip",
             "campaign",
             "people",
             "group",
             "run",
             "voter",
             "support",
             "party"
            ]
           ],
           "www.reuters.com",
           "Negative",
           "0"
          ],
          [
           14,
           [
            [
             "democratic",
             "president",
             "phillip",
             "campaign",
             "people",
             "group",
             "run",
             "voter",
             "support",
             "party"
            ]
           ],
           "www.newsnationnow.com",
           "Positive",
           "0"
          ],
          [
           17,
           [
            [
             "democratic",
             "president",
             "phillip",
             "campaign",
             "people",
             "group",
             "run",
             "voter",
             "support",
             "party"
            ]
           ],
           "www.politico.com",
           "Positive",
           "0"
          ]
         ],
         "hovertemplate": "ID: %{customdata[0]}<br>Associated Words: %{customdata[1]}<br>Address: %{customdata[2]}<br>Sentiment Label: %{customdata[3]}<br>Main Topic: %{customdata[4]}",
         "legendgroup": "0",
         "marker": {
          "color": "#636efa",
          "size": [
           0.9974852204322815,
           0.7277170419692993,
           0.9988504648208618,
           0.6486952304840088,
           0.9986169934272766,
           0.7565103769302368,
           0.9945847988128662,
           0.99587082862854,
           0.998873233795166,
           0.5767195224761963,
           0.954483687877655,
           0.992621123790741,
           0.9965670704841614,
           0.6766695380210876,
           0.7606449127197266
          ],
          "sizemode": "area",
          "sizeref": 0.002497741729021072,
          "symbol": "circle"
         },
         "mode": "markers",
         "name": "0",
         "scene": "scene",
         "showlegend": true,
         "type": "scatter3d",
         "x": [
          -18.25910186767578,
          -17.85256576538086,
          -13.7696533203125,
          -17.91974639892578,
          -17.59373664855957,
          -9.831318855285645,
          -14.5948486328125,
          -17.671852111816406,
          -17.68706512451172,
          -18.098478317260742,
          -15.90389633178711,
          -16.06489372253418,
          -16.06734848022461,
          -15.893872261047363,
          -9.965014457702637
         ],
         "y": [
          9.165660858154297,
          9.592769622802734,
          7.511292934417725,
          8.92943000793457,
          9.222553253173828,
          6.516450881958008,
          7.071090221405029,
          9.08684253692627,
          9.525156021118164,
          8.965526580810547,
          6.339470863342285,
          4.90171480178833,
          4.9045844078063965,
          5.2546586990356445,
          6.297879219055176
         ],
         "z": [
          0.08,
          0.08,
          0.05,
          0.01,
          0.08,
          0.1,
          0.02,
          0.14,
          0.13,
          0,
          0.04,
          0.2,
          -0.01,
          0.14,
          0.12
         ]
        },
        {
         "customdata": [
          [
           18,
           [
            [
             "hunter",
             "president",
             "investigation",
             "charge",
             "family",
             "gun",
             "son",
             "evidence",
             "political",
             "document"
            ]
           ],
           "www.cnn.com",
           "Neutral",
           "1"
          ],
          [
           0,
           [
            [
             "hunter",
             "president",
             "investigation",
             "charge",
             "family",
             "gun",
             "son",
             "evidence",
             "political",
             "document"
            ]
           ],
           "www.foxnews.com",
           "Neutral",
           "1"
          ],
          [
           19,
           [
            [
             "hunter",
             "president",
             "investigation",
             "charge",
             "family",
             "gun",
             "son",
             "evidence",
             "political",
             "document"
            ]
           ],
           "www.washingtonexaminer.com",
           "Negative",
           "1"
          ],
          [
           1,
           [
            [
             "hunter",
             "president",
             "investigation",
             "charge",
             "family",
             "gun",
             "son",
             "evidence",
             "political",
             "document"
            ]
           ],
           "www.foxnews.com",
           "Neutral",
           "1"
          ],
          [
           3,
           [
            [
             "hunter",
             "president",
             "investigation",
             "charge",
             "family",
             "gun",
             "son",
             "evidence",
             "political",
             "document"
            ]
           ],
           "apnews.com",
           "Neutral Negative",
           "1"
          ],
          [
           4,
           [
            [
             "hunter",
             "president",
             "investigation",
             "charge",
             "family",
             "gun",
             "son",
             "evidence",
             "political",
             "document"
            ]
           ],
           "www.nation.com.pk",
           "Negative",
           "1"
          ],
          [
           7,
           [
            [
             "hunter",
             "president",
             "investigation",
             "charge",
             "family",
             "gun",
             "son",
             "evidence",
             "political",
             "document"
            ]
           ],
           "www.cnn.com",
           "Negative",
           "1"
          ],
          [
           8,
           [
            [
             "hunter",
             "president",
             "investigation",
             "charge",
             "family",
             "gun",
             "son",
             "evidence",
             "political",
             "document"
            ]
           ],
           "abcnews.go.com",
           "Neutral Negative",
           "1"
          ],
          [
           9,
           [
            [
             "hunter",
             "president",
             "investigation",
             "charge",
             "family",
             "gun",
             "son",
             "evidence",
             "political",
             "document"
            ]
           ],
           "apnews.com",
           "Neutral",
           "1"
          ]
         ],
         "hovertemplate": "ID: %{customdata[0]}<br>Associated Words: %{customdata[1]}<br>Address: %{customdata[2]}<br>Sentiment Label: %{customdata[3]}<br>Main Topic: %{customdata[4]}",
         "legendgroup": "1",
         "marker": {
          "color": "#EF553B",
          "size": [
           0.9989409446716309,
           0.9977274537086487,
           0.9987667202949524,
           0.9981881380081177,
           0.9984385371208191,
           0.9949246644973755,
           0.998345136642456,
           0.9965294599533081,
           0.9948739409446716
          ],
          "sizemode": "area",
          "sizeref": 0.002497741729021072,
          "symbol": "circle"
         },
         "mode": "markers",
         "name": "1",
         "scene": "scene",
         "showlegend": true,
         "type": "scatter3d",
         "x": [
          -16.065034866333008,
          -13.214271545410156,
          -9.7718505859375,
          -18.2553653717041,
          -18.139989852905273,
          -16.06674575805664,
          -16.06493377685547,
          -15.967702865600586,
          -8.782891273498535
         ],
         "y": [
          4.904590129852295,
          7.941353797912598,
          6.499220848083496,
          9.413330078125,
          9.596187591552734,
          4.907432556152344,
          4.902818202972412,
          6.0507731437683105,
          6.8563079833984375
         ],
         "z": [
          0.06,
          0.04,
          -0.06,
          0.06,
          0.02,
          -0.04,
          -0.01,
          0.01,
          0.04
         ]
        },
        {
         "customdata": [
          [
           2,
           [
            [
             "primary",
             "state",
             "hunter",
             "write",
             "party",
             "nation",
             "vote",
             "candidate",
             "democratic",
             "ballot"
            ]
           ],
           "www.foxnews.com",
           "Negative",
           "2"
          ],
          [
           33,
           [
            [
             "primary",
             "state",
             "hunter",
             "write",
             "party",
             "nation",
             "vote",
             "candidate",
             "democratic",
             "ballot"
            ]
           ],
           "apnews.com",
           "Neutral",
           "2"
          ],
          [
           6,
           [
            [
             "primary",
             "state",
             "hunter",
             "write",
             "party",
             "nation",
             "vote",
             "candidate",
             "democratic",
             "ballot"
            ]
           ],
           "www.nation.com.pk",
           "Negative",
           "2"
          ],
          [
           30,
           [
            [
             "primary",
             "state",
             "hunter",
             "write",
             "party",
             "nation",
             "vote",
             "candidate",
             "democratic",
             "ballot"
            ]
           ],
           "www.wmur.com",
           "Positive",
           "2"
          ],
          [
           28,
           [
            [
             "primary",
             "state",
             "hunter",
             "write",
             "party",
             "nation",
             "vote",
             "candidate",
             "democratic",
             "ballot"
            ]
           ],
           "abcnews.go.com",
           "Neutral Positive",
           "2"
          ],
          [
           25,
           [
            [
             "primary",
             "state",
             "hunter",
             "write",
             "party",
             "nation",
             "vote",
             "candidate",
             "democratic",
             "ballot"
            ]
           ],
           "www.politico.com",
           "Positive",
           "2"
          ],
          [
           24,
           [
            [
             "primary",
             "state",
             "hunter",
             "write",
             "party",
             "nation",
             "vote",
             "candidate",
             "democratic",
             "ballot"
            ]
           ],
           "apnews.com",
           "Positive",
           "2"
          ],
          [
           16,
           [
            [
             "primary",
             "state",
             "hunter",
             "write",
             "party",
             "nation",
             "vote",
             "candidate",
             "democratic",
             "ballot"
            ]
           ],
           "www.thenation.com",
           "Neutral Positive",
           "2"
          ]
         ],
         "hovertemplate": "ID: %{customdata[0]}<br>Associated Words: %{customdata[1]}<br>Address: %{customdata[2]}<br>Sentiment Label: %{customdata[3]}<br>Main Topic: %{customdata[4]}",
         "legendgroup": "2",
         "marker": {
          "color": "#00cc96",
          "size": [
           0.6586756706237793,
           0.6057589054107666,
           0.3922624886035919,
           0.5677191615104675,
           0.9976508617401123,
           0.9867652058601379,
           0.9983977675437927,
           0.999096691608429
          ],
          "sizemode": "area",
          "sizeref": 0.002497741729021072,
          "symbol": "circle"
         },
         "mode": "markers",
         "name": "2",
         "scene": "scene",
         "showlegend": true,
         "type": "scatter3d",
         "x": [
          -13.189227104187012,
          -13.189448356628418,
          -9.124755859375,
          -11.569572448730469,
          -13.190460205078125,
          -8.424110412597656,
          -12.117494583129883,
          -8.690773010253906
         ],
         "y": [
          7.9400811195373535,
          7.929425239562988,
          7.144475936889648,
          7.360683441162109,
          7.941198825836182,
          7.181499004364014,
          7.461528778076172,
          6.497891902923584
         ],
         "z": [
          -0.04,
          0.06,
          -0.11,
          0.22,
          0.09,
          0.21,
          0.17,
          0.1
         ]
        },
        {
         "customdata": [
          [
           10,
           [
            [
             "office",
             "hunter",
             "information",
             "source",
             "foreign",
             "family",
             "attorney",
             "investigation",
             "relate",
             "letter"
            ]
           ],
           "nypost.com",
           "Neutral",
           "4"
          ],
          [
           11,
           [
            [
             "office",
             "hunter",
             "information",
             "source",
             "foreign",
             "family",
             "attorney",
             "investigation",
             "relate",
             "letter"
            ]
           ],
           "www.foxnews.com",
           "Negative",
           "4"
          ],
          [
           22,
           [
            [
             "office",
             "hunter",
             "information",
             "source",
             "foreign",
             "family",
             "attorney",
             "investigation",
             "relate",
             "letter"
            ]
           ],
           "www.washingtontimes.com",
           "Neutral Positive",
           "4"
          ],
          [
           21,
           [
            [
             "office",
             "hunter",
             "information",
             "source",
             "foreign",
             "family",
             "attorney",
             "investigation",
             "relate",
             "letter"
            ]
           ],
           "thefederalist.com",
           "Neutral Negative",
           "4"
          ],
          [
           20,
           [
            [
             "office",
             "hunter",
             "information",
             "source",
             "foreign",
             "family",
             "attorney",
             "investigation",
             "relate",
             "letter"
            ]
           ],
           "www.dailymail.co.uk",
           "Negative",
           "4"
          ],
          [
           12,
           [
            [
             "office",
             "hunter",
             "information",
             "source",
             "foreign",
             "family",
             "attorney",
             "investigation",
             "relate",
             "letter"
            ]
           ],
           "www.grassley.senate.gov",
           "Neutral Negative",
           "4"
          ],
          [
           13,
           [
            [
             "office",
             "hunter",
             "information",
             "source",
             "foreign",
             "family",
             "attorney",
             "investigation",
             "relate",
             "letter"
            ]
           ],
           "wjla.com",
           "Negative",
           "4"
          ],
          [
           15,
           [
            [
             "office",
             "hunter",
             "information",
             "source",
             "foreign",
             "family",
             "attorney",
             "investigation",
             "relate",
             "letter"
            ]
           ],
           "nypost.com",
           "Neutral Positive",
           "4"
          ]
         ],
         "hovertemplate": "ID: %{customdata[0]}<br>Associated Words: %{customdata[1]}<br>Address: %{customdata[2]}<br>Sentiment Label: %{customdata[3]}<br>Main Topic: %{customdata[4]}",
         "legendgroup": "4",
         "marker": {
          "color": "#ab63fa",
          "size": [
           0.5204653739929199,
           0.9989666938781738,
           0.6227314472198486,
           0.9987679719924927,
           0.9978317618370056,
           0.9957577586174011,
           0.780755877494812,
           0.9980490803718567
          ],
          "sizemode": "area",
          "sizeref": 0.002497741729021072,
          "symbol": "circle"
         },
         "mode": "markers",
         "name": "4",
         "scene": "scene",
         "showlegend": true,
         "type": "scatter3d",
         "x": [
          -8.867900848388672,
          -12.207405090332031,
          -8.438854217529297,
          -10.017815589904785,
          -8.802027702331543,
          -10.714077949523926,
          -8.664460182189941,
          -8.345802307128906
         ],
         "y": [
          7.317072868347168,
          7.475811958312988,
          7.099038124084473,
          7.3804612159729,
          7.389612674713135,
          7.219099521636963,
          6.544811725616455,
          6.764859199523926
         ],
         "z": [
          0.03,
          -0.03,
          0.09,
          0.01,
          -0.03,
          0,
          -0.02,
          0.07
         ]
        }
       ],
       "layout": {
        "legend": {
         "itemsizing": "constant",
         "title": {
          "text": "Main Topic"
         },
         "tracegroupgap": 0
        },
        "scene": {
         "domain": {
          "x": [
           0,
           1
          ],
          "y": [
           0,
           1
          ]
         },
         "xaxis": {
          "title": {
           "text": "x"
          }
         },
         "yaxis": {
          "title": {
           "text": "y"
          }
         },
         "zaxis": {
          "title": {
           "text": "Sentiment Score"
          }
         }
        },
        "template": {
         "data": {
          "bar": [
           {
            "error_x": {
             "color": "#2a3f5f"
            },
            "error_y": {
             "color": "#2a3f5f"
            },
            "marker": {
             "line": {
              "color": "#E5ECF6",
              "width": 0.5
             },
             "pattern": {
              "fillmode": "overlay",
              "size": 10,
              "solidity": 0.2
             }
            },
            "type": "bar"
           }
          ],
          "barpolar": [
           {
            "marker": {
             "line": {
              "color": "#E5ECF6",
              "width": 0.5
             },
             "pattern": {
              "fillmode": "overlay",
              "size": 10,
              "solidity": 0.2
             }
            },
            "type": "barpolar"
           }
          ],
          "carpet": [
           {
            "aaxis": {
             "endlinecolor": "#2a3f5f",
             "gridcolor": "white",
             "linecolor": "white",
             "minorgridcolor": "white",
             "startlinecolor": "#2a3f5f"
            },
            "baxis": {
             "endlinecolor": "#2a3f5f",
             "gridcolor": "white",
             "linecolor": "white",
             "minorgridcolor": "white",
             "startlinecolor": "#2a3f5f"
            },
            "type": "carpet"
           }
          ],
          "choropleth": [
           {
            "colorbar": {
             "outlinewidth": 0,
             "ticks": ""
            },
            "type": "choropleth"
           }
          ],
          "contour": [
           {
            "colorbar": {
             "outlinewidth": 0,
             "ticks": ""
            },
            "colorscale": [
             [
              0,
              "#0d0887"
             ],
             [
              0.1111111111111111,
              "#46039f"
             ],
             [
              0.2222222222222222,
              "#7201a8"
             ],
             [
              0.3333333333333333,
              "#9c179e"
             ],
             [
              0.4444444444444444,
              "#bd3786"
             ],
             [
              0.5555555555555556,
              "#d8576b"
             ],
             [
              0.6666666666666666,
              "#ed7953"
             ],
             [
              0.7777777777777778,
              "#fb9f3a"
             ],
             [
              0.8888888888888888,
              "#fdca26"
             ],
             [
              1,
              "#f0f921"
             ]
            ],
            "type": "contour"
           }
          ],
          "contourcarpet": [
           {
            "colorbar": {
             "outlinewidth": 0,
             "ticks": ""
            },
            "type": "contourcarpet"
           }
          ],
          "heatmap": [
           {
            "colorbar": {
             "outlinewidth": 0,
             "ticks": ""
            },
            "colorscale": [
             [
              0,
              "#0d0887"
             ],
             [
              0.1111111111111111,
              "#46039f"
             ],
             [
              0.2222222222222222,
              "#7201a8"
             ],
             [
              0.3333333333333333,
              "#9c179e"
             ],
             [
              0.4444444444444444,
              "#bd3786"
             ],
             [
              0.5555555555555556,
              "#d8576b"
             ],
             [
              0.6666666666666666,
              "#ed7953"
             ],
             [
              0.7777777777777778,
              "#fb9f3a"
             ],
             [
              0.8888888888888888,
              "#fdca26"
             ],
             [
              1,
              "#f0f921"
             ]
            ],
            "type": "heatmap"
           }
          ],
          "heatmapgl": [
           {
            "colorbar": {
             "outlinewidth": 0,
             "ticks": ""
            },
            "colorscale": [
             [
              0,
              "#0d0887"
             ],
             [
              0.1111111111111111,
              "#46039f"
             ],
             [
              0.2222222222222222,
              "#7201a8"
             ],
             [
              0.3333333333333333,
              "#9c179e"
             ],
             [
              0.4444444444444444,
              "#bd3786"
             ],
             [
              0.5555555555555556,
              "#d8576b"
             ],
             [
              0.6666666666666666,
              "#ed7953"
             ],
             [
              0.7777777777777778,
              "#fb9f3a"
             ],
             [
              0.8888888888888888,
              "#fdca26"
             ],
             [
              1,
              "#f0f921"
             ]
            ],
            "type": "heatmapgl"
           }
          ],
          "histogram": [
           {
            "marker": {
             "pattern": {
              "fillmode": "overlay",
              "size": 10,
              "solidity": 0.2
             }
            },
            "type": "histogram"
           }
          ],
          "histogram2d": [
           {
            "colorbar": {
             "outlinewidth": 0,
             "ticks": ""
            },
            "colorscale": [
             [
              0,
              "#0d0887"
             ],
             [
              0.1111111111111111,
              "#46039f"
             ],
             [
              0.2222222222222222,
              "#7201a8"
             ],
             [
              0.3333333333333333,
              "#9c179e"
             ],
             [
              0.4444444444444444,
              "#bd3786"
             ],
             [
              0.5555555555555556,
              "#d8576b"
             ],
             [
              0.6666666666666666,
              "#ed7953"
             ],
             [
              0.7777777777777778,
              "#fb9f3a"
             ],
             [
              0.8888888888888888,
              "#fdca26"
             ],
             [
              1,
              "#f0f921"
             ]
            ],
            "type": "histogram2d"
           }
          ],
          "histogram2dcontour": [
           {
            "colorbar": {
             "outlinewidth": 0,
             "ticks": ""
            },
            "colorscale": [
             [
              0,
              "#0d0887"
             ],
             [
              0.1111111111111111,
              "#46039f"
             ],
             [
              0.2222222222222222,
              "#7201a8"
             ],
             [
              0.3333333333333333,
              "#9c179e"
             ],
             [
              0.4444444444444444,
              "#bd3786"
             ],
             [
              0.5555555555555556,
              "#d8576b"
             ],
             [
              0.6666666666666666,
              "#ed7953"
             ],
             [
              0.7777777777777778,
              "#fb9f3a"
             ],
             [
              0.8888888888888888,
              "#fdca26"
             ],
             [
              1,
              "#f0f921"
             ]
            ],
            "type": "histogram2dcontour"
           }
          ],
          "mesh3d": [
           {
            "colorbar": {
             "outlinewidth": 0,
             "ticks": ""
            },
            "type": "mesh3d"
           }
          ],
          "parcoords": [
           {
            "line": {
             "colorbar": {
              "outlinewidth": 0,
              "ticks": ""
             }
            },
            "type": "parcoords"
           }
          ],
          "pie": [
           {
            "automargin": true,
            "type": "pie"
           }
          ],
          "scatter": [
           {
            "fillpattern": {
             "fillmode": "overlay",
             "size": 10,
             "solidity": 0.2
            },
            "type": "scatter"
           }
          ],
          "scatter3d": [
           {
            "line": {
             "colorbar": {
              "outlinewidth": 0,
              "ticks": ""
             }
            },
            "marker": {
             "colorbar": {
              "outlinewidth": 0,
              "ticks": ""
             }
            },
            "type": "scatter3d"
           }
          ],
          "scattercarpet": [
           {
            "marker": {
             "colorbar": {
              "outlinewidth": 0,
              "ticks": ""
             }
            },
            "type": "scattercarpet"
           }
          ],
          "scattergeo": [
           {
            "marker": {
             "colorbar": {
              "outlinewidth": 0,
              "ticks": ""
             }
            },
            "type": "scattergeo"
           }
          ],
          "scattergl": [
           {
            "marker": {
             "colorbar": {
              "outlinewidth": 0,
              "ticks": ""
             }
            },
            "type": "scattergl"
           }
          ],
          "scattermapbox": [
           {
            "marker": {
             "colorbar": {
              "outlinewidth": 0,
              "ticks": ""
             }
            },
            "type": "scattermapbox"
           }
          ],
          "scatterpolar": [
           {
            "marker": {
             "colorbar": {
              "outlinewidth": 0,
              "ticks": ""
             }
            },
            "type": "scatterpolar"
           }
          ],
          "scatterpolargl": [
           {
            "marker": {
             "colorbar": {
              "outlinewidth": 0,
              "ticks": ""
             }
            },
            "type": "scatterpolargl"
           }
          ],
          "scatterternary": [
           {
            "marker": {
             "colorbar": {
              "outlinewidth": 0,
              "ticks": ""
             }
            },
            "type": "scatterternary"
           }
          ],
          "surface": [
           {
            "colorbar": {
             "outlinewidth": 0,
             "ticks": ""
            },
            "colorscale": [
             [
              0,
              "#0d0887"
             ],
             [
              0.1111111111111111,
              "#46039f"
             ],
             [
              0.2222222222222222,
              "#7201a8"
             ],
             [
              0.3333333333333333,
              "#9c179e"
             ],
             [
              0.4444444444444444,
              "#bd3786"
             ],
             [
              0.5555555555555556,
              "#d8576b"
             ],
             [
              0.6666666666666666,
              "#ed7953"
             ],
             [
              0.7777777777777778,
              "#fb9f3a"
             ],
             [
              0.8888888888888888,
              "#fdca26"
             ],
             [
              1,
              "#f0f921"
             ]
            ],
            "type": "surface"
           }
          ],
          "table": [
           {
            "cells": {
             "fill": {
              "color": "#EBF0F8"
             },
             "line": {
              "color": "white"
             }
            },
            "header": {
             "fill": {
              "color": "#C8D4E3"
             },
             "line": {
              "color": "white"
             }
            },
            "type": "table"
           }
          ]
         },
         "layout": {
          "annotationdefaults": {
           "arrowcolor": "#2a3f5f",
           "arrowhead": 0,
           "arrowwidth": 1
          },
          "autotypenumbers": "strict",
          "coloraxis": {
           "colorbar": {
            "outlinewidth": 0,
            "ticks": ""
           }
          },
          "colorscale": {
           "diverging": [
            [
             0,
             "#8e0152"
            ],
            [
             0.1,
             "#c51b7d"
            ],
            [
             0.2,
             "#de77ae"
            ],
            [
             0.3,
             "#f1b6da"
            ],
            [
             0.4,
             "#fde0ef"
            ],
            [
             0.5,
             "#f7f7f7"
            ],
            [
             0.6,
             "#e6f5d0"
            ],
            [
             0.7,
             "#b8e186"
            ],
            [
             0.8,
             "#7fbc41"
            ],
            [
             0.9,
             "#4d9221"
            ],
            [
             1,
             "#276419"
            ]
           ],
           "sequential": [
            [
             0,
             "#0d0887"
            ],
            [
             0.1111111111111111,
             "#46039f"
            ],
            [
             0.2222222222222222,
             "#7201a8"
            ],
            [
             0.3333333333333333,
             "#9c179e"
            ],
            [
             0.4444444444444444,
             "#bd3786"
            ],
            [
             0.5555555555555556,
             "#d8576b"
            ],
            [
             0.6666666666666666,
             "#ed7953"
            ],
            [
             0.7777777777777778,
             "#fb9f3a"
            ],
            [
             0.8888888888888888,
             "#fdca26"
            ],
            [
             1,
             "#f0f921"
            ]
           ],
           "sequentialminus": [
            [
             0,
             "#0d0887"
            ],
            [
             0.1111111111111111,
             "#46039f"
            ],
            [
             0.2222222222222222,
             "#7201a8"
            ],
            [
             0.3333333333333333,
             "#9c179e"
            ],
            [
             0.4444444444444444,
             "#bd3786"
            ],
            [
             0.5555555555555556,
             "#d8576b"
            ],
            [
             0.6666666666666666,
             "#ed7953"
            ],
            [
             0.7777777777777778,
             "#fb9f3a"
            ],
            [
             0.8888888888888888,
             "#fdca26"
            ],
            [
             1,
             "#f0f921"
            ]
           ]
          },
          "colorway": [
           "#636efa",
           "#EF553B",
           "#00cc96",
           "#ab63fa",
           "#FFA15A",
           "#19d3f3",
           "#FF6692",
           "#B6E880",
           "#FF97FF",
           "#FECB52"
          ],
          "font": {
           "color": "#2a3f5f"
          },
          "geo": {
           "bgcolor": "white",
           "lakecolor": "white",
           "landcolor": "#E5ECF6",
           "showlakes": true,
           "showland": true,
           "subunitcolor": "white"
          },
          "hoverlabel": {
           "align": "left"
          },
          "hovermode": "closest",
          "mapbox": {
           "style": "light"
          },
          "paper_bgcolor": "white",
          "plot_bgcolor": "#E5ECF6",
          "polar": {
           "angularaxis": {
            "gridcolor": "white",
            "linecolor": "white",
            "ticks": ""
           },
           "bgcolor": "#E5ECF6",
           "radialaxis": {
            "gridcolor": "white",
            "linecolor": "white",
            "ticks": ""
           }
          },
          "scene": {
           "xaxis": {
            "backgroundcolor": "#E5ECF6",
            "gridcolor": "white",
            "gridwidth": 2,
            "linecolor": "white",
            "showbackground": true,
            "ticks": "",
            "zerolinecolor": "white"
           },
           "yaxis": {
            "backgroundcolor": "#E5ECF6",
            "gridcolor": "white",
            "gridwidth": 2,
            "linecolor": "white",
            "showbackground": true,
            "ticks": "",
            "zerolinecolor": "white"
           },
           "zaxis": {
            "backgroundcolor": "#E5ECF6",
            "gridcolor": "white",
            "gridwidth": 2,
            "linecolor": "white",
            "showbackground": true,
            "ticks": "",
            "zerolinecolor": "white"
           }
          },
          "shapedefaults": {
           "line": {
            "color": "#2a3f5f"
           }
          },
          "ternary": {
           "aaxis": {
            "gridcolor": "white",
            "linecolor": "white",
            "ticks": ""
           },
           "baxis": {
            "gridcolor": "white",
            "linecolor": "white",
            "ticks": ""
           },
           "bgcolor": "#E5ECF6",
           "caxis": {
            "gridcolor": "white",
            "linecolor": "white",
            "ticks": ""
           }
          },
          "title": {
           "x": 0.05
          },
          "xaxis": {
           "automargin": true,
           "gridcolor": "white",
           "linecolor": "white",
           "ticks": "",
           "title": {
            "standoff": 15
           },
           "zerolinecolor": "white",
           "zerolinewidth": 2
          },
          "yaxis": {
           "automargin": true,
           "gridcolor": "white",
           "linecolor": "white",
           "ticks": "",
           "title": {
            "standoff": 15
           },
           "zerolinecolor": "white",
           "zerolinewidth": 2
          }
         }
        },
        "title": {
         "text": "Topic Clustering Graph"
        }
       }
      }
     },
     "metadata": {},
     "output_type": "display_data"
    }
   ],
   "source": [
    "visualize_topic_cluster_tsne_3d(lda_model, df)"
   ]
  },
  {
   "cell_type": "markdown",
   "id": "69a452f5",
   "metadata": {},
   "source": [
    "## Subjectivity vs Sentiment of Articles for a single topic"
   ]
  },
  {
   "cell_type": "markdown",
   "id": "92b721a6",
   "metadata": {},
   "source": [
    "Will iterate through our list_of_topics_to_visualize and will make a graph for each topic number in that list as well as that topic's word cloud of the top 10 topic words for that topic. So for each topic we want to look at, it will show all the articles with that topic as their main topic, and plot the articles on their subjectivity vs sentiment. A higher subjectivity will show you that the author chose more opinionated words, rather than relying on neutral, factual statements. Compare that with the sentiment value to show whether they are positive and negative towards that topic, and how factual vs. opinionated their claims were. The word cloud will simply tell you what words are in that topic."
   ]
  },
  {
   "cell_type": "code",
   "execution_count": 14,
   "id": "8cb3e81c",
   "metadata": {
    "scrolled": true
   },
   "outputs": [
    {
     "data": {
      "application/vnd.plotly.v1+json": {
       "config": {
        "plotlyServerURL": "https://plot.ly"
       },
       "data": [
        {
         "hovertemplate": "<b>%{hovertext}</b><br><br>Subjectivity Score=%{x}<br>Sentiment Score=%{y}<br>Main Topic Score=%{marker.size}<extra></extra>",
         "hovertext": [
          "www.foxnews.com",
          "www.foxnews.com",
          "apnews.com",
          "www.nation.com.pk",
          "www.cnn.com",
          "abcnews.go.com",
          "apnews.com",
          "www.cnn.com",
          "www.washingtonexaminer.com"
         ],
         "legendgroup": "",
         "marker": {
          "color": "#636efa",
          "size": [
           0.9977274537086487,
           0.9981881380081177,
           0.9984385371208191,
           0.9949246644973755,
           0.998345136642456,
           0.9965294599533081,
           0.9948739409446716,
           0.9989409446716309,
           0.9987667202949524
          ],
          "sizemode": "area",
          "sizeref": 0.0024973523616790773,
          "symbol": "circle"
         },
         "mode": "markers",
         "name": "",
         "orientation": "v",
         "showlegend": false,
         "type": "scatter",
         "x": [
          0.24,
          0.35,
          0.37,
          0.44,
          0.35,
          0.4,
          0.43,
          0.48,
          0.48
         ],
         "xaxis": "x",
         "y": [
          0.04,
          0.06,
          0.02,
          -0.04,
          -0.01,
          0.01,
          0.04,
          0.06,
          -0.06
         ],
         "yaxis": "y"
        }
       ],
       "layout": {
        "legend": {
         "itemsizing": "constant",
         "tracegroupgap": 0
        },
        "template": {
         "data": {
          "bar": [
           {
            "error_x": {
             "color": "#2a3f5f"
            },
            "error_y": {
             "color": "#2a3f5f"
            },
            "marker": {
             "line": {
              "color": "#E5ECF6",
              "width": 0.5
             },
             "pattern": {
              "fillmode": "overlay",
              "size": 10,
              "solidity": 0.2
             }
            },
            "type": "bar"
           }
          ],
          "barpolar": [
           {
            "marker": {
             "line": {
              "color": "#E5ECF6",
              "width": 0.5
             },
             "pattern": {
              "fillmode": "overlay",
              "size": 10,
              "solidity": 0.2
             }
            },
            "type": "barpolar"
           }
          ],
          "carpet": [
           {
            "aaxis": {
             "endlinecolor": "#2a3f5f",
             "gridcolor": "white",
             "linecolor": "white",
             "minorgridcolor": "white",
             "startlinecolor": "#2a3f5f"
            },
            "baxis": {
             "endlinecolor": "#2a3f5f",
             "gridcolor": "white",
             "linecolor": "white",
             "minorgridcolor": "white",
             "startlinecolor": "#2a3f5f"
            },
            "type": "carpet"
           }
          ],
          "choropleth": [
           {
            "colorbar": {
             "outlinewidth": 0,
             "ticks": ""
            },
            "type": "choropleth"
           }
          ],
          "contour": [
           {
            "colorbar": {
             "outlinewidth": 0,
             "ticks": ""
            },
            "colorscale": [
             [
              0,
              "#0d0887"
             ],
             [
              0.1111111111111111,
              "#46039f"
             ],
             [
              0.2222222222222222,
              "#7201a8"
             ],
             [
              0.3333333333333333,
              "#9c179e"
             ],
             [
              0.4444444444444444,
              "#bd3786"
             ],
             [
              0.5555555555555556,
              "#d8576b"
             ],
             [
              0.6666666666666666,
              "#ed7953"
             ],
             [
              0.7777777777777778,
              "#fb9f3a"
             ],
             [
              0.8888888888888888,
              "#fdca26"
             ],
             [
              1,
              "#f0f921"
             ]
            ],
            "type": "contour"
           }
          ],
          "contourcarpet": [
           {
            "colorbar": {
             "outlinewidth": 0,
             "ticks": ""
            },
            "type": "contourcarpet"
           }
          ],
          "heatmap": [
           {
            "colorbar": {
             "outlinewidth": 0,
             "ticks": ""
            },
            "colorscale": [
             [
              0,
              "#0d0887"
             ],
             [
              0.1111111111111111,
              "#46039f"
             ],
             [
              0.2222222222222222,
              "#7201a8"
             ],
             [
              0.3333333333333333,
              "#9c179e"
             ],
             [
              0.4444444444444444,
              "#bd3786"
             ],
             [
              0.5555555555555556,
              "#d8576b"
             ],
             [
              0.6666666666666666,
              "#ed7953"
             ],
             [
              0.7777777777777778,
              "#fb9f3a"
             ],
             [
              0.8888888888888888,
              "#fdca26"
             ],
             [
              1,
              "#f0f921"
             ]
            ],
            "type": "heatmap"
           }
          ],
          "heatmapgl": [
           {
            "colorbar": {
             "outlinewidth": 0,
             "ticks": ""
            },
            "colorscale": [
             [
              0,
              "#0d0887"
             ],
             [
              0.1111111111111111,
              "#46039f"
             ],
             [
              0.2222222222222222,
              "#7201a8"
             ],
             [
              0.3333333333333333,
              "#9c179e"
             ],
             [
              0.4444444444444444,
              "#bd3786"
             ],
             [
              0.5555555555555556,
              "#d8576b"
             ],
             [
              0.6666666666666666,
              "#ed7953"
             ],
             [
              0.7777777777777778,
              "#fb9f3a"
             ],
             [
              0.8888888888888888,
              "#fdca26"
             ],
             [
              1,
              "#f0f921"
             ]
            ],
            "type": "heatmapgl"
           }
          ],
          "histogram": [
           {
            "marker": {
             "pattern": {
              "fillmode": "overlay",
              "size": 10,
              "solidity": 0.2
             }
            },
            "type": "histogram"
           }
          ],
          "histogram2d": [
           {
            "colorbar": {
             "outlinewidth": 0,
             "ticks": ""
            },
            "colorscale": [
             [
              0,
              "#0d0887"
             ],
             [
              0.1111111111111111,
              "#46039f"
             ],
             [
              0.2222222222222222,
              "#7201a8"
             ],
             [
              0.3333333333333333,
              "#9c179e"
             ],
             [
              0.4444444444444444,
              "#bd3786"
             ],
             [
              0.5555555555555556,
              "#d8576b"
             ],
             [
              0.6666666666666666,
              "#ed7953"
             ],
             [
              0.7777777777777778,
              "#fb9f3a"
             ],
             [
              0.8888888888888888,
              "#fdca26"
             ],
             [
              1,
              "#f0f921"
             ]
            ],
            "type": "histogram2d"
           }
          ],
          "histogram2dcontour": [
           {
            "colorbar": {
             "outlinewidth": 0,
             "ticks": ""
            },
            "colorscale": [
             [
              0,
              "#0d0887"
             ],
             [
              0.1111111111111111,
              "#46039f"
             ],
             [
              0.2222222222222222,
              "#7201a8"
             ],
             [
              0.3333333333333333,
              "#9c179e"
             ],
             [
              0.4444444444444444,
              "#bd3786"
             ],
             [
              0.5555555555555556,
              "#d8576b"
             ],
             [
              0.6666666666666666,
              "#ed7953"
             ],
             [
              0.7777777777777778,
              "#fb9f3a"
             ],
             [
              0.8888888888888888,
              "#fdca26"
             ],
             [
              1,
              "#f0f921"
             ]
            ],
            "type": "histogram2dcontour"
           }
          ],
          "mesh3d": [
           {
            "colorbar": {
             "outlinewidth": 0,
             "ticks": ""
            },
            "type": "mesh3d"
           }
          ],
          "parcoords": [
           {
            "line": {
             "colorbar": {
              "outlinewidth": 0,
              "ticks": ""
             }
            },
            "type": "parcoords"
           }
          ],
          "pie": [
           {
            "automargin": true,
            "type": "pie"
           }
          ],
          "scatter": [
           {
            "fillpattern": {
             "fillmode": "overlay",
             "size": 10,
             "solidity": 0.2
            },
            "type": "scatter"
           }
          ],
          "scatter3d": [
           {
            "line": {
             "colorbar": {
              "outlinewidth": 0,
              "ticks": ""
             }
            },
            "marker": {
             "colorbar": {
              "outlinewidth": 0,
              "ticks": ""
             }
            },
            "type": "scatter3d"
           }
          ],
          "scattercarpet": [
           {
            "marker": {
             "colorbar": {
              "outlinewidth": 0,
              "ticks": ""
             }
            },
            "type": "scattercarpet"
           }
          ],
          "scattergeo": [
           {
            "marker": {
             "colorbar": {
              "outlinewidth": 0,
              "ticks": ""
             }
            },
            "type": "scattergeo"
           }
          ],
          "scattergl": [
           {
            "marker": {
             "colorbar": {
              "outlinewidth": 0,
              "ticks": ""
             }
            },
            "type": "scattergl"
           }
          ],
          "scattermapbox": [
           {
            "marker": {
             "colorbar": {
              "outlinewidth": 0,
              "ticks": ""
             }
            },
            "type": "scattermapbox"
           }
          ],
          "scatterpolar": [
           {
            "marker": {
             "colorbar": {
              "outlinewidth": 0,
              "ticks": ""
             }
            },
            "type": "scatterpolar"
           }
          ],
          "scatterpolargl": [
           {
            "marker": {
             "colorbar": {
              "outlinewidth": 0,
              "ticks": ""
             }
            },
            "type": "scatterpolargl"
           }
          ],
          "scatterternary": [
           {
            "marker": {
             "colorbar": {
              "outlinewidth": 0,
              "ticks": ""
             }
            },
            "type": "scatterternary"
           }
          ],
          "surface": [
           {
            "colorbar": {
             "outlinewidth": 0,
             "ticks": ""
            },
            "colorscale": [
             [
              0,
              "#0d0887"
             ],
             [
              0.1111111111111111,
              "#46039f"
             ],
             [
              0.2222222222222222,
              "#7201a8"
             ],
             [
              0.3333333333333333,
              "#9c179e"
             ],
             [
              0.4444444444444444,
              "#bd3786"
             ],
             [
              0.5555555555555556,
              "#d8576b"
             ],
             [
              0.6666666666666666,
              "#ed7953"
             ],
             [
              0.7777777777777778,
              "#fb9f3a"
             ],
             [
              0.8888888888888888,
              "#fdca26"
             ],
             [
              1,
              "#f0f921"
             ]
            ],
            "type": "surface"
           }
          ],
          "table": [
           {
            "cells": {
             "fill": {
              "color": "#EBF0F8"
             },
             "line": {
              "color": "white"
             }
            },
            "header": {
             "fill": {
              "color": "#C8D4E3"
             },
             "line": {
              "color": "white"
             }
            },
            "type": "table"
           }
          ]
         },
         "layout": {
          "annotationdefaults": {
           "arrowcolor": "#2a3f5f",
           "arrowhead": 0,
           "arrowwidth": 1
          },
          "autotypenumbers": "strict",
          "coloraxis": {
           "colorbar": {
            "outlinewidth": 0,
            "ticks": ""
           }
          },
          "colorscale": {
           "diverging": [
            [
             0,
             "#8e0152"
            ],
            [
             0.1,
             "#c51b7d"
            ],
            [
             0.2,
             "#de77ae"
            ],
            [
             0.3,
             "#f1b6da"
            ],
            [
             0.4,
             "#fde0ef"
            ],
            [
             0.5,
             "#f7f7f7"
            ],
            [
             0.6,
             "#e6f5d0"
            ],
            [
             0.7,
             "#b8e186"
            ],
            [
             0.8,
             "#7fbc41"
            ],
            [
             0.9,
             "#4d9221"
            ],
            [
             1,
             "#276419"
            ]
           ],
           "sequential": [
            [
             0,
             "#0d0887"
            ],
            [
             0.1111111111111111,
             "#46039f"
            ],
            [
             0.2222222222222222,
             "#7201a8"
            ],
            [
             0.3333333333333333,
             "#9c179e"
            ],
            [
             0.4444444444444444,
             "#bd3786"
            ],
            [
             0.5555555555555556,
             "#d8576b"
            ],
            [
             0.6666666666666666,
             "#ed7953"
            ],
            [
             0.7777777777777778,
             "#fb9f3a"
            ],
            [
             0.8888888888888888,
             "#fdca26"
            ],
            [
             1,
             "#f0f921"
            ]
           ],
           "sequentialminus": [
            [
             0,
             "#0d0887"
            ],
            [
             0.1111111111111111,
             "#46039f"
            ],
            [
             0.2222222222222222,
             "#7201a8"
            ],
            [
             0.3333333333333333,
             "#9c179e"
            ],
            [
             0.4444444444444444,
             "#bd3786"
            ],
            [
             0.5555555555555556,
             "#d8576b"
            ],
            [
             0.6666666666666666,
             "#ed7953"
            ],
            [
             0.7777777777777778,
             "#fb9f3a"
            ],
            [
             0.8888888888888888,
             "#fdca26"
            ],
            [
             1,
             "#f0f921"
            ]
           ]
          },
          "colorway": [
           "#636efa",
           "#EF553B",
           "#00cc96",
           "#ab63fa",
           "#FFA15A",
           "#19d3f3",
           "#FF6692",
           "#B6E880",
           "#FF97FF",
           "#FECB52"
          ],
          "font": {
           "color": "#2a3f5f"
          },
          "geo": {
           "bgcolor": "white",
           "lakecolor": "white",
           "landcolor": "#E5ECF6",
           "showlakes": true,
           "showland": true,
           "subunitcolor": "white"
          },
          "hoverlabel": {
           "align": "left"
          },
          "hovermode": "closest",
          "mapbox": {
           "style": "light"
          },
          "paper_bgcolor": "white",
          "plot_bgcolor": "#E5ECF6",
          "polar": {
           "angularaxis": {
            "gridcolor": "white",
            "linecolor": "white",
            "ticks": ""
           },
           "bgcolor": "#E5ECF6",
           "radialaxis": {
            "gridcolor": "white",
            "linecolor": "white",
            "ticks": ""
           }
          },
          "scene": {
           "xaxis": {
            "backgroundcolor": "#E5ECF6",
            "gridcolor": "white",
            "gridwidth": 2,
            "linecolor": "white",
            "showbackground": true,
            "ticks": "",
            "zerolinecolor": "white"
           },
           "yaxis": {
            "backgroundcolor": "#E5ECF6",
            "gridcolor": "white",
            "gridwidth": 2,
            "linecolor": "white",
            "showbackground": true,
            "ticks": "",
            "zerolinecolor": "white"
           },
           "zaxis": {
            "backgroundcolor": "#E5ECF6",
            "gridcolor": "white",
            "gridwidth": 2,
            "linecolor": "white",
            "showbackground": true,
            "ticks": "",
            "zerolinecolor": "white"
           }
          },
          "shapedefaults": {
           "line": {
            "color": "#2a3f5f"
           }
          },
          "ternary": {
           "aaxis": {
            "gridcolor": "white",
            "linecolor": "white",
            "ticks": ""
           },
           "baxis": {
            "gridcolor": "white",
            "linecolor": "white",
            "ticks": ""
           },
           "bgcolor": "#E5ECF6",
           "caxis": {
            "gridcolor": "white",
            "linecolor": "white",
            "ticks": ""
           }
          },
          "title": {
           "x": 0.05
          },
          "xaxis": {
           "automargin": true,
           "gridcolor": "white",
           "linecolor": "white",
           "ticks": "",
           "title": {
            "standoff": 15
           },
           "zerolinecolor": "white",
           "zerolinewidth": 2
          },
          "yaxis": {
           "automargin": true,
           "gridcolor": "white",
           "linecolor": "white",
           "ticks": "",
           "title": {
            "standoff": 15
           },
           "zerolinecolor": "white",
           "zerolinewidth": 2
          }
         }
        },
        "title": {
         "text": "Sentiment Analysis on Topic 1"
        },
        "xaxis": {
         "anchor": "y",
         "domain": [
          0,
          1
         ],
         "title": {
          "text": "Subjectivity Score"
         }
        },
        "yaxis": {
         "anchor": "x",
         "domain": [
          0,
          1
         ],
         "title": {
          "text": "Sentiment Score"
         }
        }
       }
      }
     },
     "metadata": {},
     "output_type": "display_data"
    },
    {
     "data": {
      "image/png": "[encoded data removed]",
      "text/plain": [
       "<Figure size 600x600 with 1 Axes>"
      ]
     },
     "metadata": {},
     "output_type": "display_data"
    },
    {
     "data": {
      "application/vnd.plotly.v1+json": {
       "config": {
        "plotlyServerURL": "https://plot.ly"
       },
       "data": [
        {
         "hovertemplate": "<b>%{hovertext}</b><br><br>Subjectivity Score=%{x}<br>Sentiment Score=%{y}<br>Main Topic Score=%{marker.size}<extra></extra>",
         "hovertext": [
          "www.foxnews.com",
          "www.nation.com.pk",
          "www.thenation.com",
          "apnews.com",
          "www.politico.com",
          "abcnews.go.com",
          "www.wmur.com",
          "apnews.com"
         ],
         "legendgroup": "",
         "marker": {
          "color": "#636efa",
          "size": [
           0.6586756706237793,
           0.3922624886035919,
           0.999096691608429,
           0.9983977675437927,
           0.9867652058601379,
           0.9976508617401123,
           0.5677191615104675,
           0.6057589054107666
          ],
          "sizemode": "area",
          "sizeref": 0.002497741729021072,
          "symbol": "circle"
         },
         "mode": "markers",
         "name": "",
         "orientation": "v",
         "showlegend": false,
         "type": "scatter",
         "x": [
          0.37,
          0.4,
          0.46,
          0.47,
          0.51,
          0.46,
          0.47,
          0.35
         ],
         "xaxis": "x",
         "y": [
          -0.04,
          -0.11,
          0.1,
          0.17,
          0.21,
          0.09,
          0.22,
          0.06
         ],
         "yaxis": "y"
        }
       ],
       "layout": {
        "legend": {
         "itemsizing": "constant",
         "tracegroupgap": 0
        },
        "template": {
         "data": {
          "bar": [
           {
            "error_x": {
             "color": "#2a3f5f"
            },
            "error_y": {
             "color": "#2a3f5f"
            },
            "marker": {
             "line": {
              "color": "#E5ECF6",
              "width": 0.5
             },
             "pattern": {
              "fillmode": "overlay",
              "size": 10,
              "solidity": 0.2
             }
            },
            "type": "bar"
           }
          ],
          "barpolar": [
           {
            "marker": {
             "line": {
              "color": "#E5ECF6",
              "width": 0.5
             },
             "pattern": {
              "fillmode": "overlay",
              "size": 10,
              "solidity": 0.2
             }
            },
            "type": "barpolar"
           }
          ],
          "carpet": [
           {
            "aaxis": {
             "endlinecolor": "#2a3f5f",
             "gridcolor": "white",
             "linecolor": "white",
             "minorgridcolor": "white",
             "startlinecolor": "#2a3f5f"
            },
            "baxis": {
             "endlinecolor": "#2a3f5f",
             "gridcolor": "white",
             "linecolor": "white",
             "minorgridcolor": "white",
             "startlinecolor": "#2a3f5f"
            },
            "type": "carpet"
           }
          ],
          "choropleth": [
           {
            "colorbar": {
             "outlinewidth": 0,
             "ticks": ""
            },
            "type": "choropleth"
           }
          ],
          "contour": [
           {
            "colorbar": {
             "outlinewidth": 0,
             "ticks": ""
            },
            "colorscale": [
             [
              0,
              "#0d0887"
             ],
             [
              0.1111111111111111,
              "#46039f"
             ],
             [
              0.2222222222222222,
              "#7201a8"
             ],
             [
              0.3333333333333333,
              "#9c179e"
             ],
             [
              0.4444444444444444,
              "#bd3786"
             ],
             [
              0.5555555555555556,
              "#d8576b"
             ],
             [
              0.6666666666666666,
              "#ed7953"
             ],
             [
              0.7777777777777778,
              "#fb9f3a"
             ],
             [
              0.8888888888888888,
              "#fdca26"
             ],
             [
              1,
              "#f0f921"
             ]
            ],
            "type": "contour"
           }
          ],
          "contourcarpet": [
           {
            "colorbar": {
             "outlinewidth": 0,
             "ticks": ""
            },
            "type": "contourcarpet"
           }
          ],
          "heatmap": [
           {
            "colorbar": {
             "outlinewidth": 0,
             "ticks": ""
            },
            "colorscale": [
             [
              0,
              "#0d0887"
             ],
             [
              0.1111111111111111,
              "#46039f"
             ],
             [
              0.2222222222222222,
              "#7201a8"
             ],
             [
              0.3333333333333333,
              "#9c179e"
             ],
             [
              0.4444444444444444,
              "#bd3786"
             ],
             [
              0.5555555555555556,
              "#d8576b"
             ],
             [
              0.6666666666666666,
              "#ed7953"
             ],
             [
              0.7777777777777778,
              "#fb9f3a"
             ],
             [
              0.8888888888888888,
              "#fdca26"
             ],
             [
              1,
              "#f0f921"
             ]
            ],
            "type": "heatmap"
           }
          ],
          "heatmapgl": [
           {
            "colorbar": {
             "outlinewidth": 0,
             "ticks": ""
            },
            "colorscale": [
             [
              0,
              "#0d0887"
             ],
             [
              0.1111111111111111,
              "#46039f"
             ],
             [
              0.2222222222222222,
              "#7201a8"
             ],
             [
              0.3333333333333333,
              "#9c179e"
             ],
             [
              0.4444444444444444,
              "#bd3786"
             ],
             [
              0.5555555555555556,
              "#d8576b"
             ],
             [
              0.6666666666666666,
              "#ed7953"
             ],
             [
              0.7777777777777778,
              "#fb9f3a"
             ],
             [
              0.8888888888888888,
              "#fdca26"
             ],
             [
              1,
              "#f0f921"
             ]
            ],
            "type": "heatmapgl"
           }
          ],
          "histogram": [
           {
            "marker": {
             "pattern": {
              "fillmode": "overlay",
              "size": 10,
              "solidity": 0.2
             }
            },
            "type": "histogram"
           }
          ],
          "histogram2d": [
           {
            "colorbar": {
             "outlinewidth": 0,
             "ticks": ""
            },
            "colorscale": [
             [
              0,
              "#0d0887"
             ],
             [
              0.1111111111111111,
              "#46039f"
             ],
             [
              0.2222222222222222,
              "#7201a8"
             ],
             [
              0.3333333333333333,
              "#9c179e"
             ],
             [
              0.4444444444444444,
              "#bd3786"
             ],
             [
              0.5555555555555556,
              "#d8576b"
             ],
             [
              0.6666666666666666,
              "#ed7953"
             ],
             [
              0.7777777777777778,
              "#fb9f3a"
             ],
             [
              0.8888888888888888,
              "#fdca26"
             ],
             [
              1,
              "#f0f921"
             ]
            ],
            "type": "histogram2d"
           }
          ],
          "histogram2dcontour": [
           {
            "colorbar": {
             "outlinewidth": 0,
             "ticks": ""
            },
            "colorscale": [
             [
              0,
              "#0d0887"
             ],
             [
              0.1111111111111111,
              "#46039f"
             ],
             [
              0.2222222222222222,
              "#7201a8"
             ],
             [
              0.3333333333333333,
              "#9c179e"
             ],
             [
              0.4444444444444444,
              "#bd3786"
             ],
             [
              0.5555555555555556,
              "#d8576b"
             ],
             [
              0.6666666666666666,
              "#ed7953"
             ],
             [
              0.7777777777777778,
              "#fb9f3a"
             ],
             [
              0.8888888888888888,
              "#fdca26"
             ],
             [
              1,
              "#f0f921"
             ]
            ],
            "type": "histogram2dcontour"
           }
          ],
          "mesh3d": [
           {
            "colorbar": {
             "outlinewidth": 0,
             "ticks": ""
            },
            "type": "mesh3d"
           }
          ],
          "parcoords": [
           {
            "line": {
             "colorbar": {
              "outlinewidth": 0,
              "ticks": ""
             }
            },
            "type": "parcoords"
           }
          ],
          "pie": [
           {
            "automargin": true,
            "type": "pie"
           }
          ],
          "scatter": [
           {
            "fillpattern": {
             "fillmode": "overlay",
             "size": 10,
             "solidity": 0.2
            },
            "type": "scatter"
           }
          ],
          "scatter3d": [
           {
            "line": {
             "colorbar": {
              "outlinewidth": 0,
              "ticks": ""
             }
            },
            "marker": {
             "colorbar": {
              "outlinewidth": 0,
              "ticks": ""
             }
            },
            "type": "scatter3d"
           }
          ],
          "scattercarpet": [
           {
            "marker": {
             "colorbar": {
              "outlinewidth": 0,
              "ticks": ""
             }
            },
            "type": "scattercarpet"
           }
          ],
          "scattergeo": [
           {
            "marker": {
             "colorbar": {
              "outlinewidth": 0,
              "ticks": ""
             }
            },
            "type": "scattergeo"
           }
          ],
          "scattergl": [
           {
            "marker": {
             "colorbar": {
              "outlinewidth": 0,
              "ticks": ""
             }
            },
            "type": "scattergl"
           }
          ],
          "scattermapbox": [
           {
            "marker": {
             "colorbar": {
              "outlinewidth": 0,
              "ticks": ""
             }
            },
            "type": "scattermapbox"
           }
          ],
          "scatterpolar": [
           {
            "marker": {
             "colorbar": {
              "outlinewidth": 0,
              "ticks": ""
             }
            },
            "type": "scatterpolar"
           }
          ],
          "scatterpolargl": [
           {
            "marker": {
             "colorbar": {
              "outlinewidth": 0,
              "ticks": ""
             }
            },
            "type": "scatterpolargl"
           }
          ],
          "scatterternary": [
           {
            "marker": {
             "colorbar": {
              "outlinewidth": 0,
              "ticks": ""
             }
            },
            "type": "scatterternary"
           }
          ],
          "surface": [
           {
            "colorbar": {
             "outlinewidth": 0,
             "ticks": ""
            },
            "colorscale": [
             [
              0,
              "#0d0887"
             ],
             [
              0.1111111111111111,
              "#46039f"
             ],
             [
              0.2222222222222222,
              "#7201a8"
             ],
             [
              0.3333333333333333,
              "#9c179e"
             ],
             [
              0.4444444444444444,
              "#bd3786"
             ],
             [
              0.5555555555555556,
              "#d8576b"
             ],
             [
              0.6666666666666666,
              "#ed7953"
             ],
             [
              0.7777777777777778,
              "#fb9f3a"
             ],
             [
              0.8888888888888888,
              "#fdca26"
             ],
             [
              1,
              "#f0f921"
             ]
            ],
            "type": "surface"
           }
          ],
          "table": [
           {
            "cells": {
             "fill": {
              "color": "#EBF0F8"
             },
             "line": {
              "color": "white"
             }
            },
            "header": {
             "fill": {
              "color": "#C8D4E3"
             },
             "line": {
              "color": "white"
             }
            },
            "type": "table"
           }
          ]
         },
         "layout": {
          "annotationdefaults": {
           "arrowcolor": "#2a3f5f",
           "arrowhead": 0,
           "arrowwidth": 1
          },
          "autotypenumbers": "strict",
          "coloraxis": {
           "colorbar": {
            "outlinewidth": 0,
            "ticks": ""
           }
          },
          "colorscale": {
           "diverging": [
            [
             0,
             "#8e0152"
            ],
            [
             0.1,
             "#c51b7d"
            ],
            [
             0.2,
             "#de77ae"
            ],
            [
             0.3,
             "#f1b6da"
            ],
            [
             0.4,
             "#fde0ef"
            ],
            [
             0.5,
             "#f7f7f7"
            ],
            [
             0.6,
             "#e6f5d0"
            ],
            [
             0.7,
             "#b8e186"
            ],
            [
             0.8,
             "#7fbc41"
            ],
            [
             0.9,
             "#4d9221"
            ],
            [
             1,
             "#276419"
            ]
           ],
           "sequential": [
            [
             0,
             "#0d0887"
            ],
            [
             0.1111111111111111,
             "#46039f"
            ],
            [
             0.2222222222222222,
             "#7201a8"
            ],
            [
             0.3333333333333333,
             "#9c179e"
            ],
            [
             0.4444444444444444,
             "#bd3786"
            ],
            [
             0.5555555555555556,
             "#d8576b"
            ],
            [
             0.6666666666666666,
             "#ed7953"
            ],
            [
             0.7777777777777778,
             "#fb9f3a"
            ],
            [
             0.8888888888888888,
             "#fdca26"
            ],
            [
             1,
             "#f0f921"
            ]
           ],
           "sequentialminus": [
            [
             0,
             "#0d0887"
            ],
            [
             0.1111111111111111,
             "#46039f"
            ],
            [
             0.2222222222222222,
             "#7201a8"
            ],
            [
             0.3333333333333333,
             "#9c179e"
            ],
            [
             0.4444444444444444,
             "#bd3786"
            ],
            [
             0.5555555555555556,
             "#d8576b"
            ],
            [
             0.6666666666666666,
             "#ed7953"
            ],
            [
             0.7777777777777778,
             "#fb9f3a"
            ],
            [
             0.8888888888888888,
             "#fdca26"
            ],
            [
             1,
             "#f0f921"
            ]
           ]
          },
          "colorway": [
           "#636efa",
           "#EF553B",
           "#00cc96",
           "#ab63fa",
           "#FFA15A",
           "#19d3f3",
           "#FF6692",
           "#B6E880",
           "#FF97FF",
           "#FECB52"
          ],
          "font": {
           "color": "#2a3f5f"
          },
          "geo": {
           "bgcolor": "white",
           "lakecolor": "white",
           "landcolor": "#E5ECF6",
           "showlakes": true,
           "showland": true,
           "subunitcolor": "white"
          },
          "hoverlabel": {
           "align": "left"
          },
          "hovermode": "closest",
          "mapbox": {
           "style": "light"
          },
          "paper_bgcolor": "white",
          "plot_bgcolor": "#E5ECF6",
          "polar": {
           "angularaxis": {
            "gridcolor": "white",
            "linecolor": "white",
            "ticks": ""
           },
           "bgcolor": "#E5ECF6",
           "radialaxis": {
            "gridcolor": "white",
            "linecolor": "white",
            "ticks": ""
           }
          },
          "scene": {
           "xaxis": {
            "backgroundcolor": "#E5ECF6",
            "gridcolor": "white",
            "gridwidth": 2,
            "linecolor": "white",
            "showbackground": true,
            "ticks": "",
            "zerolinecolor": "white"
           },
           "yaxis": {
            "backgroundcolor": "#E5ECF6",
            "gridcolor": "white",
            "gridwidth": 2,
            "linecolor": "white",
            "showbackground": true,
            "ticks": "",
            "zerolinecolor": "white"
           },
           "zaxis": {
            "backgroundcolor": "#E5ECF6",
            "gridcolor": "white",
            "gridwidth": 2,
            "linecolor": "white",
            "showbackground": true,
            "ticks": "",
            "zerolinecolor": "white"
           }
          },
          "shapedefaults": {
           "line": {
            "color": "#2a3f5f"
           }
          },
          "ternary": {
           "aaxis": {
            "gridcolor": "white",
            "linecolor": "white",
            "ticks": ""
           },
           "baxis": {
            "gridcolor": "white",
            "linecolor": "white",
            "ticks": ""
           },
           "bgcolor": "#E5ECF6",
           "caxis": {
            "gridcolor": "white",
            "linecolor": "white",
            "ticks": ""
           }
          },
          "title": {
           "x": 0.05
          },
          "xaxis": {
           "automargin": true,
           "gridcolor": "white",
           "linecolor": "white",
           "ticks": "",
           "title": {
            "standoff": 15
           },
           "zerolinecolor": "white",
           "zerolinewidth": 2
          },
          "yaxis": {
           "automargin": true,
           "gridcolor": "white",
           "linecolor": "white",
           "ticks": "",
           "title": {
            "standoff": 15
           },
           "zerolinecolor": "white",
           "zerolinewidth": 2
          }
         }
        },
        "title": {
         "text": "Sentiment Analysis on Topic 2"
        },
        "xaxis": {
         "anchor": "y",
         "domain": [
          0,
          1
         ],
         "title": {
          "text": "Subjectivity Score"
         }
        },
        "yaxis": {
         "anchor": "x",
         "domain": [
          0,
          1
         ],
         "title": {
          "text": "Sentiment Score"
         }
        }
       }
      }
     },
     "metadata": {},
     "output_type": "display_data"
    },
    {
     "data": {
      "image/png": "[encoded data removed]",
      "text/plain": [
       "<Figure size 600x600 with 1 Axes>"
      ]
     },
     "metadata": {},
     "output_type": "display_data"
    }
   ],
   "source": [
    "# Using our list_of_topics_to_visualize list in the customizable settings, \n",
    "# produce a graph for each topic\n",
    "for topic_id in list_of_topics_to_visualize:\n",
    "    if topic_id <= len(lda_model.print_topics()) - 1:\n",
    "        visualize_single_topic_subjectivity_vs_sentiment(df, topic_id)\n",
    "        visualize_topic_word_cloud(lda_model, topic_id)\n",
    "    else:\n",
    "        print(\"Error, topic_id {0} not availible\".format(topic_id))\n"
   ]
  },
  {
   "cell_type": "markdown",
   "id": "f184ac6b",
   "metadata": {},
   "source": [
    "## Generating 2D and 3D Cluster Graphs of Topics (K means Clustering)"
   ]
  },
  {
   "cell_type": "markdown",
   "id": "84b465b0",
   "metadata": {},
   "source": [
    "Generate a visual of number of topic clusters vs inertia (WCSS score) of the model (low inertia is good). We want to find the optimal number of topic clusters to use, and you can use the \"elbow method\" on this graph to find it. Ideally, the number of clusters is as small as possible and the inertia is also as small as possible. So to find the point where increasing the number of clusters gives diminishing returns on the inertia score, we imagine the line graph as an arm and use the number of clusters at the \"elbow\", or the point on the graph where the slope becomes much closer to 0 than the point before."
   ]
  },
  {
   "cell_type": "code",
   "execution_count": 15,
   "id": "65098654",
   "metadata": {
    "scrolled": false
   },
   "outputs": [
    {
     "data": {
      "image/png": "[encoded data removed]",
      "text/plain": [
       "<Figure size 1000x1000 with 1 Axes>"
      ]
     },
     "metadata": {},
     "output_type": "display_data"
    }
   ],
   "source": [
    "visualize_optimal_cluster_count(df_topics= df_topics,\n",
    "                                max_clusters= kmeans_settings[\"max_clusters\"],\n",
    "                                pca_components= kmeans_settings[\"pca_components\"])\n"
   ]
  },
  {
   "cell_type": "markdown",
   "id": "75cabb2b",
   "metadata": {},
   "source": [
    "This will generate the topic space in 2D with every article represented as a single point. Very similar to the t-SNE clustering graph, this visualization has the same goal: show topic clusters of articles that are very similar in topic and overall theme. Points closer together means they have very similar topics, while points further apart will be less related. This visualization uses the relevance of each topic to an article as the data behind the clustering. Articles are colored by the user-selected number of clusters (not by main topic)."
   ]
  },
  {
   "cell_type": "code",
   "execution_count": 16,
   "id": "75bab1e8",
   "metadata": {
    "scrolled": false
   },
   "outputs": [
    {
     "data": {
      "image/png": "[encoded data removed]",
      "text/plain": [
       "<Figure size 1000x1000 with 1 Axes>"
      ]
     },
     "metadata": {},
     "output_type": "display_data"
    }
   ],
   "source": [
    "visualize_kmeans_clustering(df_topics= df_topics,\n",
    "                            num_clusters = kmeans_settings[\"num_clusters\"],\n",
    "                            pca_components = kmeans_settings[\"pca_components\"])\n"
   ]
  },
  {
   "cell_type": "markdown",
   "id": "1ffe2adb",
   "metadata": {},
   "source": [
    "This visualization is a 3D version of the one above, with a 3rd dimension added to represent sentiment value of each article. So the 2D xy-plane will be exactly the same as the visualization above--meant to represent articles in the topic space and how they are related by topic. The third dimension will show every article's sentiment value, to show how clusters or individual articles differ by sentiment (or are closely related!)"
   ]
  },
  {
   "cell_type": "code",
   "execution_count": 17,
   "id": "ca9b5c2b",
   "metadata": {
    "scrolled": false
   },
   "outputs": [
    {
     "data": {
      "application/vnd.plotly.v1+json": {
       "config": {
        "plotlyServerURL": "https://plot.ly"
       },
       "data": [
        {
         "customdata": [
          [
           0,
           [
            [
             "hunter",
             "president",
             "investigation",
             "charge",
             "family",
             "gun",
             "son",
             "evidence",
             "political",
             "document"
            ]
           ],
           "www.foxnews.com",
           "Neutral",
           1
          ],
          [
           1,
           [
            [
             "hunter",
             "president",
             "investigation",
             "charge",
             "family",
             "gun",
             "son",
             "evidence",
             "political",
             "document"
            ]
           ],
           "www.foxnews.com",
           "Neutral",
           1
          ],
          [
           2,
           [
            [
             "primary",
             "state",
             "hunter",
             "write",
             "party",
             "nation",
             "vote",
             "candidate",
             "democratic",
             "ballot"
            ]
           ],
           "www.foxnews.com",
           "Negative",
           2
          ],
          [
           3,
           [
            [
             "hunter",
             "president",
             "investigation",
             "charge",
             "family",
             "gun",
             "son",
             "evidence",
             "political",
             "document"
            ]
           ],
           "apnews.com",
           "Neutral Negative",
           1
          ],
          [
           4,
           [
            [
             "hunter",
             "president",
             "investigation",
             "charge",
             "family",
             "gun",
             "son",
             "evidence",
             "political",
             "document"
            ]
           ],
           "www.nation.com.pk",
           "Negative",
           1
          ],
          [
           5,
           [
            [
             "democratic",
             "president",
             "phillip",
             "campaign",
             "people",
             "group",
             "run",
             "voter",
             "support",
             "party"
            ]
           ],
           "www.nation.com.pk",
           "Neutral Positive",
           0
          ],
          [
           6,
           [
            [
             "primary",
             "state",
             "hunter",
             "write",
             "party",
             "nation",
             "vote",
             "candidate",
             "democratic",
             "ballot"
            ]
           ],
           "www.nation.com.pk",
           "Negative",
           2
          ],
          [
           7,
           [
            [
             "hunter",
             "president",
             "investigation",
             "charge",
             "family",
             "gun",
             "son",
             "evidence",
             "political",
             "document"
            ]
           ],
           "www.cnn.com",
           "Negative",
           1
          ],
          [
           8,
           [
            [
             "hunter",
             "president",
             "investigation",
             "charge",
             "family",
             "gun",
             "son",
             "evidence",
             "political",
             "document"
            ]
           ],
           "abcnews.go.com",
           "Neutral Negative",
           1
          ],
          [
           9,
           [
            [
             "hunter",
             "president",
             "investigation",
             "charge",
             "family",
             "gun",
             "son",
             "evidence",
             "political",
             "document"
            ]
           ],
           "apnews.com",
           "Neutral",
           1
          ],
          [
           10,
           [
            [
             "office",
             "hunter",
             "information",
             "source",
             "foreign",
             "family",
             "attorney",
             "investigation",
             "relate",
             "letter"
            ]
           ],
           "nypost.com",
           "Neutral",
           4
          ],
          [
           11,
           [
            [
             "office",
             "hunter",
             "information",
             "source",
             "foreign",
             "family",
             "attorney",
             "investigation",
             "relate",
             "letter"
            ]
           ],
           "www.foxnews.com",
           "Negative",
           4
          ],
          [
           12,
           [
            [
             "office",
             "hunter",
             "information",
             "source",
             "foreign",
             "family",
             "attorney",
             "investigation",
             "relate",
             "letter"
            ]
           ],
           "www.grassley.senate.gov",
           "Neutral Negative",
           4
          ],
          [
           13,
           [
            [
             "office",
             "hunter",
             "information",
             "source",
             "foreign",
             "family",
             "attorney",
             "investigation",
             "relate",
             "letter"
            ]
           ],
           "wjla.com",
           "Negative",
           4
          ],
          [
           14,
           [
            [
             "democratic",
             "president",
             "phillip",
             "campaign",
             "people",
             "group",
             "run",
             "voter",
             "support",
             "party"
            ]
           ],
           "www.newsnationnow.com",
           "Positive",
           0
          ],
          [
           15,
           [
            [
             "office",
             "hunter",
             "information",
             "source",
             "foreign",
             "family",
             "attorney",
             "investigation",
             "relate",
             "letter"
            ]
           ],
           "nypost.com",
           "Neutral Positive",
           4
          ],
          [
           16,
           [
            [
             "primary",
             "state",
             "hunter",
             "write",
             "party",
             "nation",
             "vote",
             "candidate",
             "democratic",
             "ballot"
            ]
           ],
           "www.thenation.com",
           "Neutral Positive",
           2
          ],
          [
           17,
           [
            [
             "democratic",
             "president",
             "phillip",
             "campaign",
             "people",
             "group",
             "run",
             "voter",
             "support",
             "party"
            ]
           ],
           "www.politico.com",
           "Positive",
           0
          ],
          [
           18,
           [
            [
             "hunter",
             "president",
             "investigation",
             "charge",
             "family",
             "gun",
             "son",
             "evidence",
             "political",
             "document"
            ]
           ],
           "www.cnn.com",
           "Neutral",
           1
          ],
          [
           19,
           [
            [
             "hunter",
             "president",
             "investigation",
             "charge",
             "family",
             "gun",
             "son",
             "evidence",
             "political",
             "document"
            ]
           ],
           "www.washingtonexaminer.com",
           "Negative",
           1
          ],
          [
           20,
           [
            [
             "office",
             "hunter",
             "information",
             "source",
             "foreign",
             "family",
             "attorney",
             "investigation",
             "relate",
             "letter"
            ]
           ],
           "www.dailymail.co.uk",
           "Negative",
           4
          ],
          [
           21,
           [
            [
             "office",
             "hunter",
             "information",
             "source",
             "foreign",
             "family",
             "attorney",
             "investigation",
             "relate",
             "letter"
            ]
           ],
           "thefederalist.com",
           "Neutral Negative",
           4
          ],
          [
           22,
           [
            [
             "office",
             "hunter",
             "information",
             "source",
             "foreign",
             "family",
             "attorney",
             "investigation",
             "relate",
             "letter"
            ]
           ],
           "www.washingtontimes.com",
           "Neutral Positive",
           4
          ],
          [
           23,
           [
            [
             "democratic",
             "president",
             "phillip",
             "campaign",
             "people",
             "group",
             "run",
             "voter",
             "support",
             "party"
            ]
           ],
           "www.usatoday.com",
           "Positive",
           0
          ],
          [
           24,
           [
            [
             "primary",
             "state",
             "hunter",
             "write",
             "party",
             "nation",
             "vote",
             "candidate",
             "democratic",
             "ballot"
            ]
           ],
           "apnews.com",
           "Positive",
           2
          ],
          [
           25,
           [
            [
             "primary",
             "state",
             "hunter",
             "write",
             "party",
             "nation",
             "vote",
             "candidate",
             "democratic",
             "ballot"
            ]
           ],
           "www.politico.com",
           "Positive",
           2
          ],
          [
           26,
           [
            [
             "democratic",
             "president",
             "phillip",
             "campaign",
             "people",
             "group",
             "run",
             "voter",
             "support",
             "party"
            ]
           ],
           "www.nbcnews.com",
           "Neutral",
           0
          ],
          [
           27,
           [
            [
             "democratic",
             "president",
             "phillip",
             "campaign",
             "people",
             "group",
             "run",
             "voter",
             "support",
             "party"
            ]
           ],
           "www.foxnews.com",
           "Neutral Negative",
           0
          ],
          [
           28,
           [
            [
             "primary",
             "state",
             "hunter",
             "write",
             "party",
             "nation",
             "vote",
             "candidate",
             "democratic",
             "ballot"
            ]
           ],
           "abcnews.go.com",
           "Neutral Positive",
           2
          ],
          [
           29,
           [
            [
             "democratic",
             "president",
             "phillip",
             "campaign",
             "people",
             "group",
             "run",
             "voter",
             "support",
             "party"
            ]
           ],
           "www.washingtonpost.com",
           "Positive",
           0
          ],
          [
           30,
           [
            [
             "primary",
             "state",
             "hunter",
             "write",
             "party",
             "nation",
             "vote",
             "candidate",
             "democratic",
             "ballot"
            ]
           ],
           "www.wmur.com",
           "Positive",
           2
          ],
          [
           31,
           [
            [
             "democratic",
             "president",
             "phillip",
             "campaign",
             "people",
             "group",
             "run",
             "voter",
             "support",
             "party"
            ]
           ],
           "www.startribune.com",
           "Positive",
           0
          ],
          [
           32,
           [
            [
             "democratic",
             "president",
             "phillip",
             "campaign",
             "people",
             "group",
             "run",
             "voter",
             "support",
             "party"
            ]
           ],
           "www.reuters.com",
           "Neutral Negative",
           0
          ],
          [
           33,
           [
            [
             "primary",
             "state",
             "hunter",
             "write",
             "party",
             "nation",
             "vote",
             "candidate",
             "democratic",
             "ballot"
            ]
           ],
           "apnews.com",
           "Neutral",
           2
          ],
          [
           34,
           [
            [
             "democratic",
             "president",
             "phillip",
             "campaign",
             "people",
             "group",
             "run",
             "voter",
             "support",
             "party"
            ]
           ],
           "www.cnn.com",
           "Neutral Positive",
           0
          ],
          [
           35,
           [
            [
             "democratic",
             "president",
             "phillip",
             "campaign",
             "people",
             "group",
             "run",
             "voter",
             "support",
             "party"
            ]
           ],
           "www.foxnews.com",
           "Neutral Negative",
           0
          ],
          [
           36,
           [
            [
             "democratic",
             "president",
             "phillip",
             "campaign",
             "people",
             "group",
             "run",
             "voter",
             "support",
             "party"
            ]
           ],
           "www.washingtonpost.com",
           "Neutral",
           0
          ],
          [
           37,
           [
            [
             "democratic",
             "president",
             "phillip",
             "campaign",
             "people",
             "group",
             "run",
             "voter",
             "support",
             "party"
            ]
           ],
           "www.usatoday.com",
           "Neutral Positive",
           0
          ],
          [
           38,
           [
            [
             "democratic",
             "president",
             "phillip",
             "campaign",
             "people",
             "group",
             "run",
             "voter",
             "support",
             "party"
            ]
           ],
           "www.reuters.com",
           "Negative",
           0
          ],
          [
           39,
           [
            [
             "democratic",
             "president",
             "phillip",
             "campaign",
             "people",
             "group",
             "run",
             "voter",
             "support",
             "party"
            ]
           ],
           "www.foxnews.com",
           "Neutral Positive",
           0
          ]
         ],
         "hovertemplate": "ID: %{customdata[0]}<br>Associated Words: %{customdata[1]}<br>Address: %{customdata[2]}<br>Sentiment Label: %{customdata[3]}<br>Main Topic: %{customdata[4]}",
         "legendgroup": "",
         "marker": {
          "color": [
           2,
           2,
           0,
           2,
           2,
           1,
           0,
           2,
           2,
           2,
           0,
           3,
           3,
           3,
           1,
           3,
           0,
           1,
           2,
           2,
           3,
           3,
           0,
           1,
           0,
           0,
           1,
           1,
           0,
           1,
           1,
           1,
           1,
           1,
           1,
           1,
           1,
           1,
           1,
           1
          ],
          "coloraxis": "coloraxis",
          "symbol": "circle"
         },
         "mode": "markers",
         "name": "",
         "scene": "scene",
         "showlegend": false,
         "type": "scatter3d",
         "x": [
          -0.6742784976959229,
          -0.6746295094490051,
          -0.24243324995040894,
          -0.6748191714286804,
          -0.6721459031105042,
          0.37300875782966614,
          -0.30133873224258423,
          -0.6747492551803589,
          -0.6733647584915161,
          -0.6721075773239136,
          -0.44551676511764526,
          -0.23681220412254333,
          -0.23613391816616058,
          -0.2003209888935089,
          0.26147910952568054,
          -0.23661907017230988,
          -0.05974455922842026,
          0.3773137629032135,
          -0.6752007603645325,
          -0.6750685572624207,
          -0.23657101392745972,
          -0.23676976561546326,
          -0.39998412132263184,
          0.7005195021629333,
          -0.059748198837041855,
          -0.059834640473127365,
          0.6646349430084229,
          0.3820289373397827,
          -0.05975187569856644,
          0.7065876722335815,
          0.2695036232471466,
          0.7036775946617126,
          0.7024286985397339,
          0.24042224884033203,
          0.7063391208648682,
          0.375740647315979,
          0.7065655589103699,
          0.498100608587265,
          0.7043505311012268,
          0.7052425146102905
         ],
         "y": [
          -0.492914617061615,
          -0.4932648241519928,
          0.1435229480266571,
          -0.4934574067592621,
          -0.4907810389995575,
          -0.2813032865524292,
          0.22139210999011993,
          -0.4933844208717346,
          -0.49200573563575745,
          -0.49074116349220276,
          0.17687411606311798,
          0.7921134233474731,
          0.7893853187561035,
          0.6467401385307312,
          -0.305197536945343,
          0.7913320064544678,
          0.35495591163635254,
          -0.28253358602523804,
          -0.4938405454158783,
          -0.49370819330215454,
          0.7911487221717834,
          0.7919444441795349,
          0.30899330973625183,
          -0.21456748247146606,
          0.35474470257759094,
          0.35124725103378296,
          -0.172678142786026,
          0.024218549951910973,
          0.35451677441596985,
          -0.21714326739311218,
          0.10846931487321854,
          -0.21590103209018707,
          -0.21537117660045624,
          0.13022422790527344,
          -0.2170368880033493,
          0.13601899147033691,
          -0.21713343262672424,
          -0.062126729637384415,
          -0.21618348360061646,
          -0.2165684551000595
         ],
         "z": [
          0.04,
          0.06,
          -0.04,
          0.02,
          -0.04,
          0.1,
          -0.11,
          -0.01,
          0.01,
          0.04,
          0.03,
          -0.03,
          0,
          -0.02,
          0.14,
          0.07,
          0.1,
          0.12,
          0.06,
          -0.06,
          -0.03,
          0.01,
          0.09,
          0.2,
          0.17,
          0.21,
          0.04,
          0,
          0.09,
          0.13,
          0.22,
          0.14,
          0.02,
          0.06,
          0.08,
          0.01,
          0.05,
          0.08,
          -0.01,
          0.08
         ]
        }
       ],
       "layout": {
        "coloraxis": {
         "colorbar": {
          "title": {
           "text": "Cluster"
          }
         },
         "colorscale": [
          [
           0,
           "#0d0887"
          ],
          [
           0.1111111111111111,
           "#46039f"
          ],
          [
           0.2222222222222222,
           "#7201a8"
          ],
          [
           0.3333333333333333,
           "#9c179e"
          ],
          [
           0.4444444444444444,
           "#bd3786"
          ],
          [
           0.5555555555555556,
           "#d8576b"
          ],
          [
           0.6666666666666666,
           "#ed7953"
          ],
          [
           0.7777777777777778,
           "#fb9f3a"
          ],
          [
           0.8888888888888888,
           "#fdca26"
          ],
          [
           1,
           "#f0f921"
          ]
         ]
        },
        "legend": {
         "tracegroupgap": 0
        },
        "margin": {
         "t": 60
        },
        "scene": {
         "domain": {
          "x": [
           0,
           1
          ],
          "y": [
           0,
           1
          ]
         },
         "xaxis": {
          "title": {
           "text": "x"
          }
         },
         "yaxis": {
          "title": {
           "text": "y"
          }
         },
         "zaxis": {
          "title": {
           "text": "Sentiment Score"
          }
         }
        },
        "showlegend": false,
        "template": {
         "data": {
          "bar": [
           {
            "error_x": {
             "color": "#2a3f5f"
            },
            "error_y": {
             "color": "#2a3f5f"
            },
            "marker": {
             "line": {
              "color": "#E5ECF6",
              "width": 0.5
             },
             "pattern": {
              "fillmode": "overlay",
              "size": 10,
              "solidity": 0.2
             }
            },
            "type": "bar"
           }
          ],
          "barpolar": [
           {
            "marker": {
             "line": {
              "color": "#E5ECF6",
              "width": 0.5
             },
             "pattern": {
              "fillmode": "overlay",
              "size": 10,
              "solidity": 0.2
             }
            },
            "type": "barpolar"
           }
          ],
          "carpet": [
           {
            "aaxis": {
             "endlinecolor": "#2a3f5f",
             "gridcolor": "white",
             "linecolor": "white",
             "minorgridcolor": "white",
             "startlinecolor": "#2a3f5f"
            },
            "baxis": {
             "endlinecolor": "#2a3f5f",
             "gridcolor": "white",
             "linecolor": "white",
             "minorgridcolor": "white",
             "startlinecolor": "#2a3f5f"
            },
            "type": "carpet"
           }
          ],
          "choropleth": [
           {
            "colorbar": {
             "outlinewidth": 0,
             "ticks": ""
            },
            "type": "choropleth"
           }
          ],
          "contour": [
           {
            "colorbar": {
             "outlinewidth": 0,
             "ticks": ""
            },
            "colorscale": [
             [
              0,
              "#0d0887"
             ],
             [
              0.1111111111111111,
              "#46039f"
             ],
             [
              0.2222222222222222,
              "#7201a8"
             ],
             [
              0.3333333333333333,
              "#9c179e"
             ],
             [
              0.4444444444444444,
              "#bd3786"
             ],
             [
              0.5555555555555556,
              "#d8576b"
             ],
             [
              0.6666666666666666,
              "#ed7953"
             ],
             [
              0.7777777777777778,
              "#fb9f3a"
             ],
             [
              0.8888888888888888,
              "#fdca26"
             ],
             [
              1,
              "#f0f921"
             ]
            ],
            "type": "contour"
           }
          ],
          "contourcarpet": [
           {
            "colorbar": {
             "outlinewidth": 0,
             "ticks": ""
            },
            "type": "contourcarpet"
           }
          ],
          "heatmap": [
           {
            "colorbar": {
             "outlinewidth": 0,
             "ticks": ""
            },
            "colorscale": [
             [
              0,
              "#0d0887"
             ],
             [
              0.1111111111111111,
              "#46039f"
             ],
             [
              0.2222222222222222,
              "#7201a8"
             ],
             [
              0.3333333333333333,
              "#9c179e"
             ],
             [
              0.4444444444444444,
              "#bd3786"
             ],
             [
              0.5555555555555556,
              "#d8576b"
             ],
             [
              0.6666666666666666,
              "#ed7953"
             ],
             [
              0.7777777777777778,
              "#fb9f3a"
             ],
             [
              0.8888888888888888,
              "#fdca26"
             ],
             [
              1,
              "#f0f921"
             ]
            ],
            "type": "heatmap"
           }
          ],
          "heatmapgl": [
           {
            "colorbar": {
             "outlinewidth": 0,
             "ticks": ""
            },
            "colorscale": [
             [
              0,
              "#0d0887"
             ],
             [
              0.1111111111111111,
              "#46039f"
             ],
             [
              0.2222222222222222,
              "#7201a8"
             ],
             [
              0.3333333333333333,
              "#9c179e"
             ],
             [
              0.4444444444444444,
              "#bd3786"
             ],
             [
              0.5555555555555556,
              "#d8576b"
             ],
             [
              0.6666666666666666,
              "#ed7953"
             ],
             [
              0.7777777777777778,
              "#fb9f3a"
             ],
             [
              0.8888888888888888,
              "#fdca26"
             ],
             [
              1,
              "#f0f921"
             ]
            ],
            "type": "heatmapgl"
           }
          ],
          "histogram": [
           {
            "marker": {
             "pattern": {
              "fillmode": "overlay",
              "size": 10,
              "solidity": 0.2
             }
            },
            "type": "histogram"
           }
          ],
          "histogram2d": [
           {
            "colorbar": {
             "outlinewidth": 0,
             "ticks": ""
            },
            "colorscale": [
             [
              0,
              "#0d0887"
             ],
             [
              0.1111111111111111,
              "#46039f"
             ],
             [
              0.2222222222222222,
              "#7201a8"
             ],
             [
              0.3333333333333333,
              "#9c179e"
             ],
             [
              0.4444444444444444,
              "#bd3786"
             ],
             [
              0.5555555555555556,
              "#d8576b"
             ],
             [
              0.6666666666666666,
              "#ed7953"
             ],
             [
              0.7777777777777778,
              "#fb9f3a"
             ],
             [
              0.8888888888888888,
              "#fdca26"
             ],
             [
              1,
              "#f0f921"
             ]
            ],
            "type": "histogram2d"
           }
          ],
          "histogram2dcontour": [
           {
            "colorbar": {
             "outlinewidth": 0,
             "ticks": ""
            },
            "colorscale": [
             [
              0,
              "#0d0887"
             ],
             [
              0.1111111111111111,
              "#46039f"
             ],
             [
              0.2222222222222222,
              "#7201a8"
             ],
             [
              0.3333333333333333,
              "#9c179e"
             ],
             [
              0.4444444444444444,
              "#bd3786"
             ],
             [
              0.5555555555555556,
              "#d8576b"
             ],
             [
              0.6666666666666666,
              "#ed7953"
             ],
             [
              0.7777777777777778,
              "#fb9f3a"
             ],
             [
              0.8888888888888888,
              "#fdca26"
             ],
             [
              1,
              "#f0f921"
             ]
            ],
            "type": "histogram2dcontour"
           }
          ],
          "mesh3d": [
           {
            "colorbar": {
             "outlinewidth": 0,
             "ticks": ""
            },
            "type": "mesh3d"
           }
          ],
          "parcoords": [
           {
            "line": {
             "colorbar": {
              "outlinewidth": 0,
              "ticks": ""
             }
            },
            "type": "parcoords"
           }
          ],
          "pie": [
           {
            "automargin": true,
            "type": "pie"
           }
          ],
          "scatter": [
           {
            "fillpattern": {
             "fillmode": "overlay",
             "size": 10,
             "solidity": 0.2
            },
            "type": "scatter"
           }
          ],
          "scatter3d": [
           {
            "line": {
             "colorbar": {
              "outlinewidth": 0,
              "ticks": ""
             }
            },
            "marker": {
             "colorbar": {
              "outlinewidth": 0,
              "ticks": ""
             }
            },
            "type": "scatter3d"
           }
          ],
          "scattercarpet": [
           {
            "marker": {
             "colorbar": {
              "outlinewidth": 0,
              "ticks": ""
             }
            },
            "type": "scattercarpet"
           }
          ],
          "scattergeo": [
           {
            "marker": {
             "colorbar": {
              "outlinewidth": 0,
              "ticks": ""
             }
            },
            "type": "scattergeo"
           }
          ],
          "scattergl": [
           {
            "marker": {
             "colorbar": {
              "outlinewidth": 0,
              "ticks": ""
             }
            },
            "type": "scattergl"
           }
          ],
          "scattermapbox": [
           {
            "marker": {
             "colorbar": {
              "outlinewidth": 0,
              "ticks": ""
             }
            },
            "type": "scattermapbox"
           }
          ],
          "scatterpolar": [
           {
            "marker": {
             "colorbar": {
              "outlinewidth": 0,
              "ticks": ""
             }
            },
            "type": "scatterpolar"
           }
          ],
          "scatterpolargl": [
           {
            "marker": {
             "colorbar": {
              "outlinewidth": 0,
              "ticks": ""
             }
            },
            "type": "scatterpolargl"
           }
          ],
          "scatterternary": [
           {
            "marker": {
             "colorbar": {
              "outlinewidth": 0,
              "ticks": ""
             }
            },
            "type": "scatterternary"
           }
          ],
          "surface": [
           {
            "colorbar": {
             "outlinewidth": 0,
             "ticks": ""
            },
            "colorscale": [
             [
              0,
              "#0d0887"
             ],
             [
              0.1111111111111111,
              "#46039f"
             ],
             [
              0.2222222222222222,
              "#7201a8"
             ],
             [
              0.3333333333333333,
              "#9c179e"
             ],
             [
              0.4444444444444444,
              "#bd3786"
             ],
             [
              0.5555555555555556,
              "#d8576b"
             ],
             [
              0.6666666666666666,
              "#ed7953"
             ],
             [
              0.7777777777777778,
              "#fb9f3a"
             ],
             [
              0.8888888888888888,
              "#fdca26"
             ],
             [
              1,
              "#f0f921"
             ]
            ],
            "type": "surface"
           }
          ],
          "table": [
           {
            "cells": {
             "fill": {
              "color": "#EBF0F8"
             },
             "line": {
              "color": "white"
             }
            },
            "header": {
             "fill": {
              "color": "#C8D4E3"
             },
             "line": {
              "color": "white"
             }
            },
            "type": "table"
           }
          ]
         },
         "layout": {
          "annotationdefaults": {
           "arrowcolor": "#2a3f5f",
           "arrowhead": 0,
           "arrowwidth": 1
          },
          "autotypenumbers": "strict",
          "coloraxis": {
           "colorbar": {
            "outlinewidth": 0,
            "ticks": ""
           }
          },
          "colorscale": {
           "diverging": [
            [
             0,
             "#8e0152"
            ],
            [
             0.1,
             "#c51b7d"
            ],
            [
             0.2,
             "#de77ae"
            ],
            [
             0.3,
             "#f1b6da"
            ],
            [
             0.4,
             "#fde0ef"
            ],
            [
             0.5,
             "#f7f7f7"
            ],
            [
             0.6,
             "#e6f5d0"
            ],
            [
             0.7,
             "#b8e186"
            ],
            [
             0.8,
             "#7fbc41"
            ],
            [
             0.9,
             "#4d9221"
            ],
            [
             1,
             "#276419"
            ]
           ],
           "sequential": [
            [
             0,
             "#0d0887"
            ],
            [
             0.1111111111111111,
             "#46039f"
            ],
            [
             0.2222222222222222,
             "#7201a8"
            ],
            [
             0.3333333333333333,
             "#9c179e"
            ],
            [
             0.4444444444444444,
             "#bd3786"
            ],
            [
             0.5555555555555556,
             "#d8576b"
            ],
            [
             0.6666666666666666,
             "#ed7953"
            ],
            [
             0.7777777777777778,
             "#fb9f3a"
            ],
            [
             0.8888888888888888,
             "#fdca26"
            ],
            [
             1,
             "#f0f921"
            ]
           ],
           "sequentialminus": [
            [
             0,
             "#0d0887"
            ],
            [
             0.1111111111111111,
             "#46039f"
            ],
            [
             0.2222222222222222,
             "#7201a8"
            ],
            [
             0.3333333333333333,
             "#9c179e"
            ],
            [
             0.4444444444444444,
             "#bd3786"
            ],
            [
             0.5555555555555556,
             "#d8576b"
            ],
            [
             0.6666666666666666,
             "#ed7953"
            ],
            [
             0.7777777777777778,
             "#fb9f3a"
            ],
            [
             0.8888888888888888,
             "#fdca26"
            ],
            [
             1,
             "#f0f921"
            ]
           ]
          },
          "colorway": [
           "#636efa",
           "#EF553B",
           "#00cc96",
           "#ab63fa",
           "#FFA15A",
           "#19d3f3",
           "#FF6692",
           "#B6E880",
           "#FF97FF",
           "#FECB52"
          ],
          "font": {
           "color": "#2a3f5f"
          },
          "geo": {
           "bgcolor": "white",
           "lakecolor": "white",
           "landcolor": "#E5ECF6",
           "showlakes": true,
           "showland": true,
           "subunitcolor": "white"
          },
          "hoverlabel": {
           "align": "left"
          },
          "hovermode": "closest",
          "mapbox": {
           "style": "light"
          },
          "paper_bgcolor": "white",
          "plot_bgcolor": "#E5ECF6",
          "polar": {
           "angularaxis": {
            "gridcolor": "white",
            "linecolor": "white",
            "ticks": ""
           },
           "bgcolor": "#E5ECF6",
           "radialaxis": {
            "gridcolor": "white",
            "linecolor": "white",
            "ticks": ""
           }
          },
          "scene": {
           "xaxis": {
            "backgroundcolor": "#E5ECF6",
            "gridcolor": "white",
            "gridwidth": 2,
            "linecolor": "white",
            "showbackground": true,
            "ticks": "",
            "zerolinecolor": "white"
           },
           "yaxis": {
            "backgroundcolor": "#E5ECF6",
            "gridcolor": "white",
            "gridwidth": 2,
            "linecolor": "white",
            "showbackground": true,
            "ticks": "",
            "zerolinecolor": "white"
           },
           "zaxis": {
            "backgroundcolor": "#E5ECF6",
            "gridcolor": "white",
            "gridwidth": 2,
            "linecolor": "white",
            "showbackground": true,
            "ticks": "",
            "zerolinecolor": "white"
           }
          },
          "shapedefaults": {
           "line": {
            "color": "#2a3f5f"
           }
          },
          "ternary": {
           "aaxis": {
            "gridcolor": "white",
            "linecolor": "white",
            "ticks": ""
           },
           "baxis": {
            "gridcolor": "white",
            "linecolor": "white",
            "ticks": ""
           },
           "bgcolor": "#E5ECF6",
           "caxis": {
            "gridcolor": "white",
            "linecolor": "white",
            "ticks": ""
           }
          },
          "title": {
           "x": 0.05
          },
          "xaxis": {
           "automargin": true,
           "gridcolor": "white",
           "linecolor": "white",
           "ticks": "",
           "title": {
            "standoff": 15
           },
           "zerolinecolor": "white",
           "zerolinewidth": 2
          },
          "yaxis": {
           "automargin": true,
           "gridcolor": "white",
           "linecolor": "white",
           "ticks": "",
           "title": {
            "standoff": 15
           },
           "zerolinecolor": "white",
           "zerolinewidth": 2
          }
         }
        }
       }
      }
     },
     "metadata": {},
     "output_type": "display_data"
    }
   ],
   "source": [
    "visualize_kmeans_clustering_3d(dataframe = df,\n",
    "                                      df_topics= df_topics,\n",
    "                                      num_clusters = kmeans_settings[\"num_clusters\"],\n",
    "                                      pca_components = kmeans_settings[\"pca_components\"])"
   ]
  },
  {
   "cell_type": "markdown",
   "id": "ad512fee",
   "metadata": {},
   "source": [
    "## Relevance X Sentiment of Articles K-MEANS"
   ]
  },
  {
   "cell_type": "markdown",
   "id": "7c27d2dd",
   "metadata": {},
   "source": [
    "This visualization is a 2D clustering (using k-means) of the sentiment-weighted topic relevance values of every article. By that, we mean we have the relevance values of each article for every topic. We multiply each of those relevance values by that topic's associated sentiment value for an article, giving us a weighted relevance value based on the sentiment of that article towards that topic.\n",
    "\n",
    "With that information, we use the same clustering algorithm as the 2D k-means graph above to produce a 2D topic space for every article, but this time it is weighted by the article's sentiment towards the topics."
   ]
  },
  {
   "cell_type": "code",
   "execution_count": 18,
   "id": "bf536faf",
   "metadata": {},
   "outputs": [
    {
     "data": {
      "image/png": "[encoded data removed]",
      "text/plain": [
       "<Figure size 1000x1000 with 1 Axes>"
      ]
     },
     "metadata": {},
     "output_type": "display_data"
    }
   ],
   "source": [
    "# Gather weighted sentiment values into a dataframe\n",
    "result = multiply_tuples_in_dataframe(per_topic_df)\n",
    "\n",
    "visualize_kmeans_clustering(df_topics= result,\n",
    "                            num_clusters = kmeans_settings[\"num_clusters\"],\n",
    "                            pca_components = kmeans_settings[\"pca_components\"])\n"
   ]
  },
  {
   "cell_type": "markdown",
   "id": "e733cc30",
   "metadata": {},
   "source": [
    "# Sentiment VS Relevance Per Topic"
   ]
  },
  {
   "cell_type": "markdown",
   "id": "ee6e5f0c",
   "metadata": {},
   "source": [
    "A scatter plot of sentiment values against relevance values of each selected topic. This will display a scatter plot with sentiment values on the x-axis and relevance values on the y-axis, along with a tooltip. "
   ]
  },
  {
   "cell_type": "code",
   "execution_count": 19,
   "id": "7f2bab4b",
   "metadata": {
    "scrolled": false
   },
   "outputs": [
    {
     "data": {
      "image/png": "[encoded data removed]",
      "text/plain": [
       "<Figure size 1000x600 with 1 Axes>"
      ]
     },
     "metadata": {},
     "output_type": "display_data"
    },
    {
     "data": {
      "image/png": "[encoded data removed]",
      "text/plain": [
       "<Figure size 1000x600 with 1 Axes>"
      ]
     },
     "metadata": {},
     "output_type": "display_data"
    }
   ],
   "source": [
    "for topic_id in list_of_topics_to_visualize:\n",
    "    plot_sentiment_relevance(per_topic_df[:][topic_id])"
   ]
  },
  {
   "cell_type": "markdown",
   "id": "bbc0d17a",
   "metadata": {},
   "source": [
    "# Topic Space"
   ]
  },
  {
   "cell_type": "markdown",
   "id": "75a85dd1",
   "metadata": {},
   "source": [
    "Applying principle component analysis(PCA) will reduce the high dimensional topic space into a simple two dimensional space. 2 dimensions is easy for us to interpret but also hold alot of information."
   ]
  },
  {
   "cell_type": "code",
   "execution_count": 20,
   "id": "db2f3c1b",
   "metadata": {},
   "outputs": [],
   "source": [
    "topic_space = dimension_reduction(df_topics)"
   ]
  },
  {
   "cell_type": "markdown",
   "id": "7eb20594",
   "metadata": {},
   "source": [
    "Visualize the topic space after principle component analysis(PCA) is applied to reduce the topic model results to two dimensions. Plots each point in the topic space, the distance is directly related to how similar the topics are to each other. This will expose any outlier topics as well as topics that might be quite similar. The ideal plot is one where topics are equal distance from each other."
   ]
  },
  {
   "cell_type": "code",
   "execution_count": 21,
   "id": "db4f3f74",
   "metadata": {},
   "outputs": [
    {
     "data": {
      "image/png": "[encoded data removed]",
      "text/plain": [
       "<Figure size 800x600 with 1 Axes>"
      ]
     },
     "metadata": {},
     "output_type": "display_data"
    }
   ],
   "source": [
    "plot_pca(topic_space)"
   ]
  },
  {
   "cell_type": "markdown",
   "id": "3467e9fb",
   "metadata": {},
   "source": [
    "# Document Sentiment in Topic Space"
   ]
  },
  {
   "cell_type": "markdown",
   "id": "923c138a",
   "metadata": {},
   "source": [
    "Here is where each document is added to the topic space, the documents are closer or further from each topic based on the relavence score given to each document. Then a color is added to each document to represent the sentiment score. Red represents a negative sentiment while green represents a positive sentiment."
   ]
  },
  {
   "cell_type": "code",
   "execution_count": 27,
   "id": "c77283c3",
   "metadata": {},
   "outputs": [
    {
     "data": {
      "image/png": "[encoded data removed]",
      "text/plain": [
       "<Figure size 640x480 with 1 Axes>"
      ]
     },
     "metadata": {},
     "output_type": "display_data"
    }
   ],
   "source": [
    "plot_documents(df_topics, topic_space, df)"
   ]
  },
  {
   "cell_type": "markdown",
   "id": "a19d6974",
   "metadata": {},
   "source": [
    "# Document Density in Topic Space"
   ]
  },
  {
   "cell_type": "markdown",
   "id": "68ab3124",
   "metadata": {},
   "source": [
    "This plots the density of documents that were plotted in the topic space. Red is hot zones where many documents fall while white is where very little documents show up. This will help understand the topics that the majority of the articles are covering."
   ]
  },
  {
   "cell_type": "code",
   "execution_count": 28,
   "id": "ebbae2b7",
   "metadata": {},
   "outputs": [
    {
     "data": {
      "image/png": "[encoded data removed]",
      "text/plain": [
       "<Figure size 1000x800 with 2 Axes>"
      ]
     },
     "metadata": {},
     "output_type": "display_data"
    }
   ],
   "source": [
    "plot_topic_heatmap(df_topics, topic_space)"
   ]
  },
  {
   "cell_type": "markdown",
   "id": "adc9e666",
   "metadata": {},
   "source": [
    "# Sentiment Sum Heatmap in Topic Space"
   ]
  },
  {
   "cell_type": "markdown",
   "id": "183585ce",
   "metadata": {},
   "source": [
    "This graph plots the normalized sentiment in each area of the topic space. Green being the more positive topics, while red is more negative. Each documents sentiment is added to the area of the heatmap and then normalized to be able to visualize where the positive and negative topics lie in the topic space more easily."
   ]
  },
  {
   "cell_type": "code",
   "execution_count": 29,
   "id": "8682cb73",
   "metadata": {},
   "outputs": [
    {
     "data": {
      "image/png": "[encoded data removed]",
      "text/plain": [
       "<Figure size 640x480 with 2 Axes>"
      ]
     },
     "metadata": {},
     "output_type": "display_data"
    }
   ],
   "source": [
    "plot_sentiment_heatmap(df_topics, topic_space, df)"
   ]
  }
 ],
 "metadata": {
  "kernelspec": {
   "display_name": "Python 3",
   "language": "python",
   "name": "python3"
  },
  "language_info": {
   "codemirror_mode": {
    "name": "ipython",
    "version": 3
   },
   "file_extension": ".py",
   "mimetype": "text/x-python",
   "name": "python",
   "nbconvert_exporter": "python",
   "pygments_lexer": "ipython3",
   "version": "3.11.5"
  }
 },
 "nbformat": 4,
 "nbformat_minor": 5
}
