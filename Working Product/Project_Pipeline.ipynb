{
 "cells": [
  {
   "cell_type": "markdown",
   "id": "c9dccd1a",
   "metadata": {},
   "source": [
    "# Latent News Probability Model"
   ]
  },
  {
   "cell_type": "markdown",
   "id": "01049288",
   "metadata": {},
   "source": [
    "Directly below contains the pip installs that are required for this project. If you run this code and still don't have the required packages, you may need to add a `!pip install [library_name]` into this code block. This does not need to be run every time the model is used.\n",
    "\n",
    "IMPORTANT: If you are running this for the first time you may need to download these packages before continuing:"
   ]
  },
  {
   "cell_type": "code",
   "execution_count": 1,
   "id": "15ba699a",
   "metadata": {},
   "outputs": [
    {
     "name": "stdout",
     "output_type": "stream",
     "text": [
      "Requirement already satisfied: pandas in c:\\users\\seaha\\anaconda3\\envs\\434hw\\lib\\site-packages (2.1.1)\n",
      "Requirement already satisfied: numpy>=1.22.4 in c:\\users\\seaha\\anaconda3\\envs\\434hw\\lib\\site-packages (from pandas) (1.26.0)\n",
      "Requirement already satisfied: tzdata>=2022.1 in c:\\users\\seaha\\anaconda3\\envs\\434hw\\lib\\site-packages (from pandas) (2023.3)\n",
      "Requirement already satisfied: pytz>=2020.1 in c:\\users\\seaha\\anaconda3\\envs\\434hw\\lib\\site-packages (from pandas) (2022.7.1)\n",
      "Requirement already satisfied: python-dateutil>=2.8.2 in c:\\users\\seaha\\anaconda3\\envs\\434hw\\lib\\site-packages (from pandas) (2.8.2)\n",
      "Requirement already satisfied: six>=1.5 in c:\\users\\seaha\\anaconda3\\envs\\434hw\\lib\\site-packages (from python-dateutil>=2.8.2->pandas) (1.16.0)\n",
      "Requirement already satisfied: spacy in c:\\users\\seaha\\anaconda3\\envs\\434hw\\lib\\site-packages (3.2.0)\n",
      "Requirement already satisfied: preshed<3.1.0,>=3.0.2 in c:\\users\\seaha\\anaconda3\\envs\\434hw\\lib\\site-packages (from spacy) (3.0.6)\n",
      "Requirement already satisfied: thinc<8.1.0,>=8.0.12 in c:\\users\\seaha\\anaconda3\\envs\\434hw\\lib\\site-packages (from spacy) (8.0.15)\n",
      "Requirement already satisfied: srsly<3.0.0,>=2.4.1 in c:\\users\\seaha\\anaconda3\\envs\\434hw\\lib\\site-packages (from spacy) (2.4.3)\n",
      "Requirement already satisfied: wasabi<1.1.0,>=0.8.1 in c:\\users\\seaha\\anaconda3\\envs\\434hw\\lib\\site-packages (from spacy) (0.10.1)\n",
      "Requirement already satisfied: requests<3.0.0,>=2.13.0 in c:\\users\\seaha\\anaconda3\\envs\\434hw\\lib\\site-packages (from spacy) (2.28.1)\n",
      "Requirement already satisfied: numpy>=1.15.0 in c:\\users\\seaha\\anaconda3\\envs\\434hw\\lib\\site-packages (from spacy) (1.26.0)\n",
      "Requirement already satisfied: packaging>=20.0 in c:\\users\\seaha\\anaconda3\\envs\\434hw\\lib\\site-packages (from spacy) (22.0)\n",
      "Requirement already satisfied: pydantic!=1.8,!=1.8.1,<1.9.0,>=1.7.4 in c:\\users\\seaha\\anaconda3\\envs\\434hw\\lib\\site-packages (from spacy) (1.8.2)\n",
      "Requirement already satisfied: spacy-loggers<2.0.0,>=1.0.0 in c:\\users\\seaha\\anaconda3\\envs\\434hw\\lib\\site-packages (from spacy) (1.0.4)\n",
      "Requirement already satisfied: pathy>=0.3.5 in c:\\users\\seaha\\anaconda3\\envs\\434hw\\lib\\site-packages (from spacy) (0.10.1)\n",
      "Requirement already satisfied: blis<0.8.0,>=0.4.0 in c:\\users\\seaha\\anaconda3\\envs\\434hw\\lib\\site-packages (from spacy) (0.7.7)\n",
      "Requirement already satisfied: spacy-legacy<3.1.0,>=3.0.8 in c:\\users\\seaha\\anaconda3\\envs\\434hw\\lib\\site-packages (from spacy) (3.0.12)\n",
      "Requirement already satisfied: typer<0.5.0,>=0.3.0 in c:\\users\\seaha\\anaconda3\\envs\\434hw\\lib\\site-packages (from spacy) (0.4.2)\n",
      "Requirement already satisfied: langcodes<4.0.0,>=3.2.0 in c:\\users\\seaha\\anaconda3\\envs\\434hw\\lib\\site-packages (from spacy) (3.3.0)\n",
      "Requirement already satisfied: murmurhash<1.1.0,>=0.28.0 in c:\\users\\seaha\\anaconda3\\envs\\434hw\\lib\\site-packages (from spacy) (1.0.7)\n",
      "Requirement already satisfied: jinja2 in c:\\users\\seaha\\anaconda3\\envs\\434hw\\lib\\site-packages (from spacy) (3.1.2)\n",
      "Requirement already satisfied: setuptools in c:\\users\\seaha\\anaconda3\\envs\\434hw\\lib\\site-packages (from spacy) (61.2.0)\n",
      "Requirement already satisfied: catalogue<2.1.0,>=2.0.6 in c:\\users\\seaha\\anaconda3\\envs\\434hw\\lib\\site-packages (from spacy) (2.0.8)\n",
      "Requirement already satisfied: tqdm<5.0.0,>=4.38.0 in c:\\users\\seaha\\anaconda3\\envs\\434hw\\lib\\site-packages (from spacy) (4.64.1)\n",
      "Requirement already satisfied: cymem<2.1.0,>=2.0.2 in c:\\users\\seaha\\anaconda3\\envs\\434hw\\lib\\site-packages (from spacy) (2.0.6)\n",
      "Requirement already satisfied: smart-open<7.0.0,>=5.2.1 in c:\\users\\seaha\\anaconda3\\envs\\434hw\\lib\\site-packages (from pathy>=0.3.5->spacy) (5.2.1)\n",
      "Requirement already satisfied: typing-extensions>=3.7.4.3 in c:\\users\\seaha\\anaconda3\\envs\\434hw\\lib\\site-packages (from pydantic!=1.8,!=1.8.1,<1.9.0,>=1.7.4->spacy) (4.4.0)\n",
      "Requirement already satisfied: urllib3<1.27,>=1.21.1 in c:\\users\\seaha\\anaconda3\\envs\\434hw\\lib\\site-packages (from requests<3.0.0,>=2.13.0->spacy) (1.26.14)\n",
      "Requirement already satisfied: certifi>=2017.4.17 in c:\\users\\seaha\\anaconda3\\envs\\434hw\\lib\\site-packages (from requests<3.0.0,>=2.13.0->spacy) (2022.12.7)\n",
      "Requirement already satisfied: charset-normalizer<3,>=2 in c:\\users\\seaha\\anaconda3\\envs\\434hw\\lib\\site-packages (from requests<3.0.0,>=2.13.0->spacy) (2.0.4)\n",
      "Requirement already satisfied: idna<4,>=2.5 in c:\\users\\seaha\\anaconda3\\envs\\434hw\\lib\\site-packages (from requests<3.0.0,>=2.13.0->spacy) (3.4)\n",
      "Requirement already satisfied: colorama in c:\\users\\seaha\\anaconda3\\envs\\434hw\\lib\\site-packages (from tqdm<5.0.0,>=4.38.0->spacy) (0.4.4)\n",
      "Requirement already satisfied: click<9.0.0,>=7.1.1 in c:\\users\\seaha\\anaconda3\\envs\\434hw\\lib\\site-packages (from typer<0.5.0,>=0.3.0->spacy) (8.0.4)\n",
      "Requirement already satisfied: MarkupSafe>=2.0 in c:\\users\\seaha\\anaconda3\\envs\\434hw\\lib\\site-packages (from jinja2->spacy) (2.1.1)\n",
      "Requirement already satisfied: spacytextblob in c:\\users\\seaha\\anaconda3\\envs\\434hw\\lib\\site-packages (4.0.0)\n",
      "Requirement already satisfied: spacy<4.0,>=3.0 in c:\\users\\seaha\\anaconda3\\envs\\434hw\\lib\\site-packages (from spacytextblob) (3.2.0)\n",
      "Requirement already satisfied: textblob<0.16.0,>=0.15.3 in c:\\users\\seaha\\anaconda3\\envs\\434hw\\lib\\site-packages (from spacytextblob) (0.15.3)\n",
      "Requirement already satisfied: spacy-legacy<3.1.0,>=3.0.8 in c:\\users\\seaha\\anaconda3\\envs\\434hw\\lib\\site-packages (from spacy<4.0,>=3.0->spacytextblob) (3.0.12)\n",
      "Requirement already satisfied: wasabi<1.1.0,>=0.8.1 in c:\\users\\seaha\\anaconda3\\envs\\434hw\\lib\\site-packages (from spacy<4.0,>=3.0->spacytextblob) (0.10.1)\n",
      "Requirement already satisfied: cymem<2.1.0,>=2.0.2 in c:\\users\\seaha\\anaconda3\\envs\\434hw\\lib\\site-packages (from spacy<4.0,>=3.0->spacytextblob) (2.0.6)\n",
      "Requirement already satisfied: srsly<3.0.0,>=2.4.1 in c:\\users\\seaha\\anaconda3\\envs\\434hw\\lib\\site-packages (from spacy<4.0,>=3.0->spacytextblob) (2.4.3)\n",
      "Requirement already satisfied: tqdm<5.0.0,>=4.38.0 in c:\\users\\seaha\\anaconda3\\envs\\434hw\\lib\\site-packages (from spacy<4.0,>=3.0->spacytextblob) (4.64.1)\n",
      "Requirement already satisfied: packaging>=20.0 in c:\\users\\seaha\\anaconda3\\envs\\434hw\\lib\\site-packages (from spacy<4.0,>=3.0->spacytextblob) (22.0)\n",
      "Requirement already satisfied: langcodes<4.0.0,>=3.2.0 in c:\\users\\seaha\\anaconda3\\envs\\434hw\\lib\\site-packages (from spacy<4.0,>=3.0->spacytextblob) (3.3.0)\n",
      "Requirement already satisfied: pathy>=0.3.5 in c:\\users\\seaha\\anaconda3\\envs\\434hw\\lib\\site-packages (from spacy<4.0,>=3.0->spacytextblob) (0.10.1)\n",
      "Requirement already satisfied: preshed<3.1.0,>=3.0.2 in c:\\users\\seaha\\anaconda3\\envs\\434hw\\lib\\site-packages (from spacy<4.0,>=3.0->spacytextblob) (3.0.6)\n",
      "Requirement already satisfied: catalogue<2.1.0,>=2.0.6 in c:\\users\\seaha\\anaconda3\\envs\\434hw\\lib\\site-packages (from spacy<4.0,>=3.0->spacytextblob) (2.0.8)\n",
      "Requirement already satisfied: numpy>=1.15.0 in c:\\users\\seaha\\anaconda3\\envs\\434hw\\lib\\site-packages (from spacy<4.0,>=3.0->spacytextblob) (1.26.0)\n",
      "Requirement already satisfied: jinja2 in c:\\users\\seaha\\anaconda3\\envs\\434hw\\lib\\site-packages (from spacy<4.0,>=3.0->spacytextblob) (3.1.2)\n",
      "Requirement already satisfied: spacy-loggers<2.0.0,>=1.0.0 in c:\\users\\seaha\\anaconda3\\envs\\434hw\\lib\\site-packages (from spacy<4.0,>=3.0->spacytextblob) (1.0.4)\n",
      "Requirement already satisfied: setuptools in c:\\users\\seaha\\anaconda3\\envs\\434hw\\lib\\site-packages (from spacy<4.0,>=3.0->spacytextblob) (61.2.0)\n",
      "Requirement already satisfied: typer<0.5.0,>=0.3.0 in c:\\users\\seaha\\anaconda3\\envs\\434hw\\lib\\site-packages (from spacy<4.0,>=3.0->spacytextblob) (0.4.2)\n",
      "Requirement already satisfied: murmurhash<1.1.0,>=0.28.0 in c:\\users\\seaha\\anaconda3\\envs\\434hw\\lib\\site-packages (from spacy<4.0,>=3.0->spacytextblob) (1.0.7)\n",
      "Requirement already satisfied: blis<0.8.0,>=0.4.0 in c:\\users\\seaha\\anaconda3\\envs\\434hw\\lib\\site-packages (from spacy<4.0,>=3.0->spacytextblob) (0.7.7)\n",
      "Requirement already satisfied: requests<3.0.0,>=2.13.0 in c:\\users\\seaha\\anaconda3\\envs\\434hw\\lib\\site-packages (from spacy<4.0,>=3.0->spacytextblob) (2.28.1)\n",
      "Requirement already satisfied: thinc<8.1.0,>=8.0.12 in c:\\users\\seaha\\anaconda3\\envs\\434hw\\lib\\site-packages (from spacy<4.0,>=3.0->spacytextblob) (8.0.15)\n",
      "Requirement already satisfied: pydantic!=1.8,!=1.8.1,<1.9.0,>=1.7.4 in c:\\users\\seaha\\anaconda3\\envs\\434hw\\lib\\site-packages (from spacy<4.0,>=3.0->spacytextblob) (1.8.2)\n",
      "Requirement already satisfied: smart-open<7.0.0,>=5.2.1 in c:\\users\\seaha\\anaconda3\\envs\\434hw\\lib\\site-packages (from pathy>=0.3.5->spacy<4.0,>=3.0->spacytextblob) (5.2.1)\n",
      "Requirement already satisfied: typing-extensions>=3.7.4.3 in c:\\users\\seaha\\anaconda3\\envs\\434hw\\lib\\site-packages (from pydantic!=1.8,!=1.8.1,<1.9.0,>=1.7.4->spacy<4.0,>=3.0->spacytextblob) (4.4.0)\n",
      "Requirement already satisfied: certifi>=2017.4.17 in c:\\users\\seaha\\anaconda3\\envs\\434hw\\lib\\site-packages (from requests<3.0.0,>=2.13.0->spacy<4.0,>=3.0->spacytextblob) (2022.12.7)\n",
      "Requirement already satisfied: idna<4,>=2.5 in c:\\users\\seaha\\anaconda3\\envs\\434hw\\lib\\site-packages (from requests<3.0.0,>=2.13.0->spacy<4.0,>=3.0->spacytextblob) (3.4)\n",
      "Requirement already satisfied: urllib3<1.27,>=1.21.1 in c:\\users\\seaha\\anaconda3\\envs\\434hw\\lib\\site-packages (from requests<3.0.0,>=2.13.0->spacy<4.0,>=3.0->spacytextblob) (1.26.14)\n",
      "Requirement already satisfied: charset-normalizer<3,>=2 in c:\\users\\seaha\\anaconda3\\envs\\434hw\\lib\\site-packages (from requests<3.0.0,>=2.13.0->spacy<4.0,>=3.0->spacytextblob) (2.0.4)\n",
      "Requirement already satisfied: nltk>=3.1 in c:\\users\\seaha\\anaconda3\\envs\\434hw\\lib\\site-packages (from textblob<0.16.0,>=0.15.3->spacytextblob) (3.8.1)\n",
      "Requirement already satisfied: click in c:\\users\\seaha\\anaconda3\\envs\\434hw\\lib\\site-packages (from nltk>=3.1->textblob<0.16.0,>=0.15.3->spacytextblob) (8.0.4)\n",
      "Requirement already satisfied: joblib in c:\\users\\seaha\\anaconda3\\envs\\434hw\\lib\\site-packages (from nltk>=3.1->textblob<0.16.0,>=0.15.3->spacytextblob) (1.2.0)\n",
      "Requirement already satisfied: regex>=2021.8.3 in c:\\users\\seaha\\anaconda3\\envs\\434hw\\lib\\site-packages (from nltk>=3.1->textblob<0.16.0,>=0.15.3->spacytextblob) (2022.10.31)\n",
      "Requirement already satisfied: colorama in c:\\users\\seaha\\anaconda3\\envs\\434hw\\lib\\site-packages (from tqdm<5.0.0,>=4.38.0->spacy<4.0,>=3.0->spacytextblob) (0.4.4)\n",
      "Requirement already satisfied: MarkupSafe>=2.0 in c:\\users\\seaha\\anaconda3\\envs\\434hw\\lib\\site-packages (from jinja2->spacy<4.0,>=3.0->spacytextblob) (2.1.1)\n",
      "Collecting en-core-web-sm==3.2.0\n",
      "  Downloading https://github.com/explosion/spacy-models/releases/download/en_core_web_sm-3.2.0/en_core_web_sm-3.2.0-py3-none-any.whl (13.9 MB)\n",
      "Requirement already satisfied: spacy<3.3.0,>=3.2.0 in c:\\users\\seaha\\anaconda3\\envs\\434hw\\lib\\site-packages (from en-core-web-sm==3.2.0) (3.2.0)\n",
      "Requirement already satisfied: spacy-legacy<3.1.0,>=3.0.8 in c:\\users\\seaha\\anaconda3\\envs\\434hw\\lib\\site-packages (from spacy<3.3.0,>=3.2.0->en-core-web-sm==3.2.0) (3.0.12)\n",
      "Requirement already satisfied: requests<3.0.0,>=2.13.0 in c:\\users\\seaha\\anaconda3\\envs\\434hw\\lib\\site-packages (from spacy<3.3.0,>=3.2.0->en-core-web-sm==3.2.0) (2.28.1)\n",
      "Requirement already satisfied: catalogue<2.1.0,>=2.0.6 in c:\\users\\seaha\\anaconda3\\envs\\434hw\\lib\\site-packages (from spacy<3.3.0,>=3.2.0->en-core-web-sm==3.2.0) (2.0.8)\n",
      "Requirement already satisfied: cymem<2.1.0,>=2.0.2 in c:\\users\\seaha\\anaconda3\\envs\\434hw\\lib\\site-packages (from spacy<3.3.0,>=3.2.0->en-core-web-sm==3.2.0) (2.0.6)\n",
      "Requirement already satisfied: thinc<8.1.0,>=8.0.12 in c:\\users\\seaha\\anaconda3\\envs\\434hw\\lib\\site-packages (from spacy<3.3.0,>=3.2.0->en-core-web-sm==3.2.0) (8.0.15)\n",
      "Requirement already satisfied: packaging>=20.0 in c:\\users\\seaha\\anaconda3\\envs\\434hw\\lib\\site-packages (from spacy<3.3.0,>=3.2.0->en-core-web-sm==3.2.0) (22.0)\n",
      "Requirement already satisfied: blis<0.8.0,>=0.4.0 in c:\\users\\seaha\\anaconda3\\envs\\434hw\\lib\\site-packages (from spacy<3.3.0,>=3.2.0->en-core-web-sm==3.2.0) (0.7.7)\n",
      "Requirement already satisfied: wasabi<1.1.0,>=0.8.1 in c:\\users\\seaha\\anaconda3\\envs\\434hw\\lib\\site-packages (from spacy<3.3.0,>=3.2.0->en-core-web-sm==3.2.0) (0.10.1)\n",
      "Requirement already satisfied: langcodes<4.0.0,>=3.2.0 in c:\\users\\seaha\\anaconda3\\envs\\434hw\\lib\\site-packages (from spacy<3.3.0,>=3.2.0->en-core-web-sm==3.2.0) (3.3.0)\n",
      "Requirement already satisfied: jinja2 in c:\\users\\seaha\\anaconda3\\envs\\434hw\\lib\\site-packages (from spacy<3.3.0,>=3.2.0->en-core-web-sm==3.2.0) (3.1.2)\n",
      "Requirement already satisfied: spacy-loggers<2.0.0,>=1.0.0 in c:\\users\\seaha\\anaconda3\\envs\\434hw\\lib\\site-packages (from spacy<3.3.0,>=3.2.0->en-core-web-sm==3.2.0) (1.0.4)\n",
      "Requirement already satisfied: typer<0.5.0,>=0.3.0 in c:\\users\\seaha\\anaconda3\\envs\\434hw\\lib\\site-packages (from spacy<3.3.0,>=3.2.0->en-core-web-sm==3.2.0) (0.4.2)\n",
      "Requirement already satisfied: pydantic!=1.8,!=1.8.1,<1.9.0,>=1.7.4 in c:\\users\\seaha\\anaconda3\\envs\\434hw\\lib\\site-packages (from spacy<3.3.0,>=3.2.0->en-core-web-sm==3.2.0) (1.8.2)\n",
      "Requirement already satisfied: pathy>=0.3.5 in c:\\users\\seaha\\anaconda3\\envs\\434hw\\lib\\site-packages (from spacy<3.3.0,>=3.2.0->en-core-web-sm==3.2.0) (0.10.1)\n",
      "Requirement already satisfied: numpy>=1.15.0 in c:\\users\\seaha\\anaconda3\\envs\\434hw\\lib\\site-packages (from spacy<3.3.0,>=3.2.0->en-core-web-sm==3.2.0) (1.26.0)\n",
      "Requirement already satisfied: murmurhash<1.1.0,>=0.28.0 in c:\\users\\seaha\\anaconda3\\envs\\434hw\\lib\\site-packages (from spacy<3.3.0,>=3.2.0->en-core-web-sm==3.2.0) (1.0.7)\n",
      "Requirement already satisfied: setuptools in c:\\users\\seaha\\anaconda3\\envs\\434hw\\lib\\site-packages (from spacy<3.3.0,>=3.2.0->en-core-web-sm==3.2.0) (61.2.0)\n",
      "Requirement already satisfied: srsly<3.0.0,>=2.4.1 in c:\\users\\seaha\\anaconda3\\envs\\434hw\\lib\\site-packages (from spacy<3.3.0,>=3.2.0->en-core-web-sm==3.2.0) (2.4.3)\n",
      "Requirement already satisfied: tqdm<5.0.0,>=4.38.0 in c:\\users\\seaha\\anaconda3\\envs\\434hw\\lib\\site-packages (from spacy<3.3.0,>=3.2.0->en-core-web-sm==3.2.0) (4.64.1)\n",
      "Requirement already satisfied: preshed<3.1.0,>=3.0.2 in c:\\users\\seaha\\anaconda3\\envs\\434hw\\lib\\site-packages (from spacy<3.3.0,>=3.2.0->en-core-web-sm==3.2.0) (3.0.6)\n",
      "Requirement already satisfied: smart-open<7.0.0,>=5.2.1 in c:\\users\\seaha\\anaconda3\\envs\\434hw\\lib\\site-packages (from pathy>=0.3.5->spacy<3.3.0,>=3.2.0->en-core-web-sm==3.2.0) (5.2.1)\n",
      "Requirement already satisfied: typing-extensions>=3.7.4.3 in c:\\users\\seaha\\anaconda3\\envs\\434hw\\lib\\site-packages (from pydantic!=1.8,!=1.8.1,<1.9.0,>=1.7.4->spacy<3.3.0,>=3.2.0->en-core-web-sm==3.2.0) (4.4.0)\n",
      "Requirement already satisfied: charset-normalizer<3,>=2 in c:\\users\\seaha\\anaconda3\\envs\\434hw\\lib\\site-packages (from requests<3.0.0,>=2.13.0->spacy<3.3.0,>=3.2.0->en-core-web-sm==3.2.0) (2.0.4)\n",
      "Requirement already satisfied: urllib3<1.27,>=1.21.1 in c:\\users\\seaha\\anaconda3\\envs\\434hw\\lib\\site-packages (from requests<3.0.0,>=2.13.0->spacy<3.3.0,>=3.2.0->en-core-web-sm==3.2.0) (1.26.14)\n",
      "Requirement already satisfied: idna<4,>=2.5 in c:\\users\\seaha\\anaconda3\\envs\\434hw\\lib\\site-packages (from requests<3.0.0,>=2.13.0->spacy<3.3.0,>=3.2.0->en-core-web-sm==3.2.0) (3.4)\n",
      "Requirement already satisfied: certifi>=2017.4.17 in c:\\users\\seaha\\anaconda3\\envs\\434hw\\lib\\site-packages (from requests<3.0.0,>=2.13.0->spacy<3.3.0,>=3.2.0->en-core-web-sm==3.2.0) (2022.12.7)\n",
      "Requirement already satisfied: colorama in c:\\users\\seaha\\anaconda3\\envs\\434hw\\lib\\site-packages (from tqdm<5.0.0,>=4.38.0->spacy<3.3.0,>=3.2.0->en-core-web-sm==3.2.0) (0.4.4)\n",
      "Requirement already satisfied: click<9.0.0,>=7.1.1 in c:\\users\\seaha\\anaconda3\\envs\\434hw\\lib\\site-packages (from typer<0.5.0,>=0.3.0->spacy<3.3.0,>=3.2.0->en-core-web-sm==3.2.0) (8.0.4)\n",
      "Requirement already satisfied: MarkupSafe>=2.0 in c:\\users\\seaha\\anaconda3\\envs\\434hw\\lib\\site-packages (from jinja2->spacy<3.3.0,>=3.2.0->en-core-web-sm==3.2.0) (2.1.1)\n",
      "✔ Download and installation successful\n",
      "You can now load the package via spacy.load('en_core_web_sm')\n",
      "Requirement already satisfied: newspaper3k in c:\\users\\seaha\\anaconda3\\envs\\434hw\\lib\\site-packages (0.2.8)\n",
      "Requirement already satisfied: feedfinder2>=0.0.4 in c:\\users\\seaha\\anaconda3\\envs\\434hw\\lib\\site-packages (from newspaper3k) (0.0.4)\n",
      "Requirement already satisfied: nltk>=3.2.1 in c:\\users\\seaha\\anaconda3\\envs\\434hw\\lib\\site-packages (from newspaper3k) (3.8.1)\n",
      "Requirement already satisfied: PyYAML>=3.11 in c:\\users\\seaha\\anaconda3\\envs\\434hw\\lib\\site-packages (from newspaper3k) (6.0)\n",
      "Requirement already satisfied: jieba3k>=0.35.1 in c:\\users\\seaha\\anaconda3\\envs\\434hw\\lib\\site-packages (from newspaper3k) (0.35.1)\n",
      "Requirement already satisfied: tinysegmenter==0.3 in c:\\users\\seaha\\anaconda3\\envs\\434hw\\lib\\site-packages (from newspaper3k) (0.3)\n",
      "Requirement already satisfied: requests>=2.10.0 in c:\\users\\seaha\\anaconda3\\envs\\434hw\\lib\\site-packages (from newspaper3k) (2.28.1)\n",
      "Requirement already satisfied: feedparser>=5.2.1 in c:\\users\\seaha\\anaconda3\\envs\\434hw\\lib\\site-packages (from newspaper3k) (6.0.10)\n",
      "Requirement already satisfied: Pillow>=3.3.0 in c:\\users\\seaha\\anaconda3\\envs\\434hw\\lib\\site-packages (from newspaper3k) (9.3.0)\n",
      "Requirement already satisfied: python-dateutil>=2.5.3 in c:\\users\\seaha\\anaconda3\\envs\\434hw\\lib\\site-packages (from newspaper3k) (2.8.2)\n",
      "Requirement already satisfied: lxml>=3.6.0 in c:\\users\\seaha\\anaconda3\\envs\\434hw\\lib\\site-packages (from newspaper3k) (4.9.1)\n",
      "Requirement already satisfied: cssselect>=0.9.2 in c:\\users\\seaha\\anaconda3\\envs\\434hw\\lib\\site-packages (from newspaper3k) (1.2.0)\n",
      "Requirement already satisfied: tldextract>=2.0.1 in c:\\users\\seaha\\anaconda3\\envs\\434hw\\lib\\site-packages (from newspaper3k) (3.4.0)\n",
      "Requirement already satisfied: beautifulsoup4>=4.4.1 in c:\\users\\seaha\\anaconda3\\envs\\434hw\\lib\\site-packages (from newspaper3k) (4.11.1)\n",
      "Requirement already satisfied: soupsieve>1.2 in c:\\users\\seaha\\anaconda3\\envs\\434hw\\lib\\site-packages (from beautifulsoup4>=4.4.1->newspaper3k) (2.3.2.post1)\n",
      "Requirement already satisfied: six in c:\\users\\seaha\\anaconda3\\envs\\434hw\\lib\\site-packages (from feedfinder2>=0.0.4->newspaper3k) (1.16.0)\n",
      "Requirement already satisfied: sgmllib3k in c:\\users\\seaha\\anaconda3\\envs\\434hw\\lib\\site-packages (from feedparser>=5.2.1->newspaper3k) (1.0.0)\n",
      "Requirement already satisfied: regex>=2021.8.3 in c:\\users\\seaha\\anaconda3\\envs\\434hw\\lib\\site-packages (from nltk>=3.2.1->newspaper3k) (2022.10.31)\n",
      "Requirement already satisfied: tqdm in c:\\users\\seaha\\anaconda3\\envs\\434hw\\lib\\site-packages (from nltk>=3.2.1->newspaper3k) (4.64.1)\n",
      "Requirement already satisfied: click in c:\\users\\seaha\\anaconda3\\envs\\434hw\\lib\\site-packages (from nltk>=3.2.1->newspaper3k) (8.0.4)\n",
      "Requirement already satisfied: joblib in c:\\users\\seaha\\anaconda3\\envs\\434hw\\lib\\site-packages (from nltk>=3.2.1->newspaper3k) (1.2.0)\n",
      "Requirement already satisfied: urllib3<1.27,>=1.21.1 in c:\\users\\seaha\\anaconda3\\envs\\434hw\\lib\\site-packages (from requests>=2.10.0->newspaper3k) (1.26.14)\n",
      "Requirement already satisfied: certifi>=2017.4.17 in c:\\users\\seaha\\anaconda3\\envs\\434hw\\lib\\site-packages (from requests>=2.10.0->newspaper3k) (2022.12.7)\n",
      "Requirement already satisfied: charset-normalizer<3,>=2 in c:\\users\\seaha\\anaconda3\\envs\\434hw\\lib\\site-packages (from requests>=2.10.0->newspaper3k) (2.0.4)\n",
      "Requirement already satisfied: idna<4,>=2.5 in c:\\users\\seaha\\anaconda3\\envs\\434hw\\lib\\site-packages (from requests>=2.10.0->newspaper3k) (3.4)\n",
      "Requirement already satisfied: filelock>=3.0.8 in c:\\users\\seaha\\anaconda3\\envs\\434hw\\lib\\site-packages (from tldextract>=2.0.1->newspaper3k) (3.11.0)\n",
      "Requirement already satisfied: requests-file>=1.4 in c:\\users\\seaha\\anaconda3\\envs\\434hw\\lib\\site-packages (from tldextract>=2.0.1->newspaper3k) (1.5.1)\n",
      "Requirement already satisfied: colorama in c:\\users\\seaha\\anaconda3\\envs\\434hw\\lib\\site-packages (from click->nltk>=3.2.1->newspaper3k) (0.4.4)\n",
      "Requirement already satisfied: gensim in c:\\users\\seaha\\anaconda3\\envs\\434hw\\lib\\site-packages (4.3.2)\n",
      "Requirement already satisfied: scipy>=1.7.0 in c:\\users\\seaha\\anaconda3\\envs\\434hw\\lib\\site-packages (from gensim) (1.10.0)\n",
      "Requirement already satisfied: numpy>=1.18.5 in c:\\users\\seaha\\anaconda3\\envs\\434hw\\lib\\site-packages (from gensim) (1.26.0)\n",
      "Requirement already satisfied: smart-open>=1.8.1 in c:\\users\\seaha\\anaconda3\\envs\\434hw\\lib\\site-packages (from gensim) (5.2.1)\n",
      "Requirement already satisfied: plotly in c:\\users\\seaha\\anaconda3\\envs\\434hw\\lib\\site-packages (5.17.0)\n",
      "Requirement already satisfied: packaging in c:\\users\\seaha\\anaconda3\\envs\\434hw\\lib\\site-packages (from plotly) (22.0)\n",
      "Requirement already satisfied: tenacity>=6.2.0 in c:\\users\\seaha\\anaconda3\\envs\\434hw\\lib\\site-packages (from plotly) (8.2.3)\n",
      "Requirement already satisfied: sklearn in c:\\users\\seaha\\anaconda3\\envs\\434hw\\lib\\site-packages (0.0)\n",
      "Requirement already satisfied: scikit-learn in c:\\users\\seaha\\anaconda3\\envs\\434hw\\lib\\site-packages (from sklearn) (1.2.2)\n",
      "Requirement already satisfied: numpy>=1.17.3 in c:\\users\\seaha\\anaconda3\\envs\\434hw\\lib\\site-packages (from scikit-learn->sklearn) (1.26.0)\n",
      "Requirement already satisfied: joblib>=1.1.1 in c:\\users\\seaha\\anaconda3\\envs\\434hw\\lib\\site-packages (from scikit-learn->sklearn) (1.2.0)\n",
      "Requirement already satisfied: scipy>=1.3.2 in c:\\users\\seaha\\anaconda3\\envs\\434hw\\lib\\site-packages (from scikit-learn->sklearn) (1.10.0)\n",
      "Requirement already satisfied: threadpoolctl>=2.0.0 in c:\\users\\seaha\\anaconda3\\envs\\434hw\\lib\\site-packages (from scikit-learn->sklearn) (3.1.0)\n",
      "Requirement already satisfied: matplotlib in c:\\users\\seaha\\anaconda3\\envs\\434hw\\lib\\site-packages (3.5.3)\n",
      "Requirement already satisfied: pillow>=6.2.0 in c:\\users\\seaha\\anaconda3\\envs\\434hw\\lib\\site-packages (from matplotlib) (9.3.0)\n",
      "Requirement already satisfied: packaging>=20.0 in c:\\users\\seaha\\anaconda3\\envs\\434hw\\lib\\site-packages (from matplotlib) (22.0)\n",
      "Requirement already satisfied: numpy>=1.17 in c:\\users\\seaha\\anaconda3\\envs\\434hw\\lib\\site-packages (from matplotlib) (1.26.0)\n",
      "Requirement already satisfied: kiwisolver>=1.0.1 in c:\\users\\seaha\\anaconda3\\envs\\434hw\\lib\\site-packages (from matplotlib) (1.4.4)\n",
      "Requirement already satisfied: pyparsing>=2.2.1 in c:\\users\\seaha\\anaconda3\\envs\\434hw\\lib\\site-packages (from matplotlib) (3.0.9)\n",
      "Requirement already satisfied: cycler>=0.10 in c:\\users\\seaha\\anaconda3\\envs\\434hw\\lib\\site-packages (from matplotlib) (0.11.0)\n",
      "Requirement already satisfied: fonttools>=4.22.0 in c:\\users\\seaha\\anaconda3\\envs\\434hw\\lib\\site-packages (from matplotlib) (4.25.0)\n",
      "Requirement already satisfied: python-dateutil>=2.7 in c:\\users\\seaha\\anaconda3\\envs\\434hw\\lib\\site-packages (from matplotlib) (2.8.2)\n",
      "Requirement already satisfied: six>=1.5 in c:\\users\\seaha\\anaconda3\\envs\\434hw\\lib\\site-packages (from python-dateutil>=2.7->matplotlib) (1.16.0)\n"
     ]
    }
   ],
   "source": [
    "#dataframe and sentiment analysis\n",
    "!pip install pandas\n",
    "!pip install spacy\n",
    "!pip install spacytextblob\n",
    "!python -m spacy download en_core_web_sm\n",
    "\n",
    "#webscraping\n",
    "!pip install newspaper3k\n",
    "\n",
    "#topic modeling \n",
    "!pip install gensim\n",
    "\n",
    "#data vis\n",
    "!pip install plotly\n",
    "!pip install sklearn\n",
    "!pip install matplotlib"
   ]
  },
  {
   "cell_type": "markdown",
   "id": "c92a2232",
   "metadata": {},
   "source": [
    "Spacy: Used for NLP and has the machine learning module\n",
    "    \n",
    "SpacyTextBlob: Used for the sentiment analysis\n",
    "    \n",
    "Pandas: Stores the data as a dataframe table\n",
    "    \n",
    "NewsPaper: Used for web scraping\n",
    "\n",
    "Gensim: Used for topic modeling\n",
    "    \n",
    "Requests: Makes the connection to the URL\n",
    "\n",
    "Plotly: Used for data visualization\n",
    "\n",
    "Matplotlib: Used for clustering and data visualization\n",
    "\n",
    "Sklearn: Used for clustering and data visualization"
   ]
  },
  {
   "cell_type": "markdown",
   "id": "e1471074",
   "metadata": {},
   "source": [
    "## Start Here: Library Imports"
   ]
  },
  {
   "cell_type": "code",
   "execution_count": 16,
   "id": "97171282",
   "metadata": {},
   "outputs": [],
   "source": [
    "#newspaper3k web scraping\n",
    "from newspaper import Article\n",
    "\n",
    "from random import shuffle\n",
    "import re\n",
    "import requests\n",
    "\n",
    "from collections import Counter\n",
    "\n",
    "#pandas dataframe\n",
    "import pandas as pd\n",
    "\n",
    "import numpy as np\n",
    "import json\n",
    "import requests\n",
    "import glob\n",
    "\n",
    "#gensim\n",
    "import gensim\n",
    "import gensim.corpora as corpora\n",
    "from gensim.models.coherencemodel import CoherenceModel\n",
    "from gensim.utils import simple_preprocess\n",
    "from gensim.corpora import Dictionary  # Import the Dictionary class from Gensim\n",
    "\n",
    "#spacy\n",
    "import spacy\n",
    "from nltk.corpus import stopwords\n",
    "from spacytextblob.spacytextblob import SpacyTextBlob\n",
    "\n",
    "#vis\n",
    "import pyLDAvis\n",
    "import pyLDAvis.gensim\n",
    "import plotly.express as px\n",
    "import matplotlib.colors as mcolors\n",
    "import matplotlib.pyplot as plt \n",
    "import sklearn\n",
    "from sklearn.manifold import TSNE\n",
    "\n",
    "#K-Means Clustering\n",
    "from sklearn.feature_extraction.text import TfidfVectorizer\n",
    "from sklearn.cluster import KMeans\n",
    "from sklearn.cluster import MiniBatchKMeans\n",
    "import matplotlib.pyplot as plt\n",
    "\n",
    "#Principled Component Analysis\n",
    "from sklearn.decomposition import PCA\n",
    "\n",
    "import warnings\n",
    "warnings.filterwarnings(\"ignore\", category=DeprecationWarning)"
   ]
  },
  {
   "cell_type": "markdown",
   "id": "8b38b484",
   "metadata": {},
   "source": [
    "IMPORTANT: Run all helper files. The function logic is stored here, and sorted by the part of the pipeline they support."
   ]
  },
  {
   "cell_type": "code",
   "execution_count": 37,
   "id": "89933f69",
   "metadata": {},
   "outputs": [],
   "source": [
    "%run SentimentAnalysis.ipynb\n",
    "%run WebScraper.ipynb\n",
    "%run PipelineHelpers.ipynb\n",
    "%run TopicModeling.ipynb\n",
    "%run DataVisualization.ipynb"
   ]
  },
  {
   "cell_type": "markdown",
   "id": "c767401a",
   "metadata": {},
   "source": [
    "# General Pipeline Settings, and Pre-Analysis Setup"
   ]
  },
  {
   "cell_type": "markdown",
   "id": "67afdeff",
   "metadata": {},
   "source": [
    "Below are the customizable settings for all of the analysis and processing parts of the pipeline.\n",
    "\n",
    "Rerun this any time you make changes to these settings, as they will affect the outcome of certain pipeline steps."
   ]
  },
  {
   "cell_type": "markdown",
   "id": "b787c3f5",
   "metadata": {},
   "source": [
    "IMPORTANT: The csvFile object should be set to a properly setup csv file of article URLs that you copy-paste into the same directory as the pipeline files (we use the relative path to access the file). The csvFile format is explained in the user manual, but simply it needs one column with the first entry being \"Address\" and the other entries all being article URLs."
   ]
  },
  {
   "cell_type": "code",
   "execution_count": 38,
   "id": "4e23034f",
   "metadata": {},
   "outputs": [],
   "source": [
    "###\n",
    "### BELOW IS OUR CUSTOMIZABLE SETTINGS\n",
    "###\n",
    "\n",
    "# THIS IS THE CSV FILE THAT WE READ IN\n",
    "# This csv file should contain a single column of article urls, with the first entry being \"Address\"\n",
    "csv_file = \"Pelosi_Attack_Websites_3000.csv\"\n",
    "\n",
    "\n",
    "#WEBSCRAPING SETTINGS\n",
    "# THIS IS THE MINIMUM WORDS THAT WE ALLOW FOR AN ARTICLE\n",
    "# (to prevent certain blocked articles or bad data)\n",
    "word_count_filter = 150\n",
    "\n",
    "#this is the minimum amount of repeated phrases in a text that we will throw an error for\n",
    "repeated_phrase_filter = 25\n",
    "\n",
    "#this is the list of all social media URLs that we BLOCK (anything in this list WILL NOT be scraped)\n",
    "social_starts_with = [\"https://www.youtube.com\", \"https://youtu.be\", \"https://www.facebook.com\",\n",
    "                          \"https://twitter.com\", \"https://gettr.com/\"]\n",
    "\n",
    "#When webscraping, will only grab the first url_max URLs (set to -1 to turn off)\n",
    "url_max = 30\n",
    "\n",
    "# TOPIC MODELING SETTINGS\n",
    "# this will set how our topic modeling is generated: limit to the # of topics,\n",
    "# # of topics we start at, how many we increment by every step\n",
    "topic_model_dict = {\"topic_limit\": 21, \"topic_start\": 5, \"topic_step\": 5}\n",
    "\n",
    "\n",
    "###\n",
    "### END OF CUSTOMIZABLE SETTINGS\n",
    "###\n"
   ]
  },
  {
   "cell_type": "markdown",
   "id": "a9fabe01",
   "metadata": {},
   "source": [
    "# MAIN PIPELINE START"
   ]
  },
  {
   "cell_type": "markdown",
   "id": "ac52c758",
   "metadata": {},
   "source": [
    "## Sentiment Analysis Pipeline"
   ]
  },
  {
   "cell_type": "markdown",
   "id": "65f184f9",
   "metadata": {},
   "source": [
    "Below is the start of our pipeline.\n",
    "\n",
    "Here we create our nlp object and add the pipe to it for sentiment analysis. We then read in our .csv file and convert it to a dataframe to pass in to our sentiment analysis function, and gathers the list of all URLs.\n",
    "\n",
    "Our main_pipeline_sentiment_analysis() function takes in the list of urls, web scrapes their text, and performs sentiment analysis on them, creating a dataframe of all properly scraped articles and their associated sentiment analysis data.\n",
    "\n",
    "df is the main dataframe object we store our data in."
   ]
  },
  {
   "cell_type": "code",
   "execution_count": 39,
   "id": "7ae169b7",
   "metadata": {
    "scrolled": true
   },
   "outputs": [
    {
     "name": "stdout",
     "output_type": "stream",
     "text": [
      "0  Articles Completed\n",
      "Webscraping failed: Social Media\n",
      "https://twitter.com/rparloff/status/1587513628344958982\n",
      "\n",
      "\n",
      "Webscraping failed: Social Media\n",
      "https://twitter.com/smb_democracy/status/1587493254148268033\n",
      "\n",
      "\n",
      "Webscraping failed: Social Media\n",
      "https://twitter.com/JackPosobiec/status/1592652426930434048\n",
      "\n",
      "\n",
      "Webscraping Error: Couldn't Parse\n",
      "https://worldnewsguru.us/world-news/top-democrat-demands-answers-from-police-after-pelosi-attack/490364/\n",
      "\n",
      "\n",
      "Webscraping failed: Word Count or Repeated Phrase\n",
      "https://www.nytimes.com/interactive/2022/11/05/us/politics/pelosi-attack-misinfo-republican-politicians.html?unlocked_article_code=AAAAAAAAAAAAAAAACEIPuonUyYiZ_tU1Gw5CRWySB4B99Frf3L-XnfshnTjmKyyUVTdJ1KMNDoyH4EaIbLZ_btAwmjGaX95HPrhqXvFq0-VbPkdkTUywpZ-FhJUOIiwzssSzQmYyldrrbIwPzAXLPCO_Ofstg_q-uQ6LKjG7HfybhWtwIFpjqJoyJ0Wr3yNf2quTFrNq0td7jeN3UZFwQTcHMymJ6vH4Gl4pboX9GxLb4gE9U-5eWyiC3oLPruJdL3gBTA7OX3h94m0j6NtDOdxxPKv3KxYoe8uWkqxGQyUzb9_vX8ttMtCSw7Z6srfNqgiPyN62xpg1EaZTvLDEugWqJcZM-nn_LQDp_7_4cG89618\n",
      "Word count:  2079\n",
      "Repeated phrases:  43\n",
      "\n",
      "\n",
      "Webscraping failed: Word Count or Repeated Phrase\n",
      "https://rtimes.rohitchouhan.com/bPcro\n",
      "Word count:  34\n",
      "Repeated phrases:  1\n",
      "\n",
      "\n",
      "Webscraping Error: Couldn't Parse\n",
      "http://dlvr.it/Sfj1BL\n",
      "\n",
      "\n",
      "10  Articles Completed\n",
      "Webscraping Error: Couldn't Parse\n",
      "http://dlvr.it/ScmFKj\n",
      "\n",
      "\n",
      "Webscraping failed: Word Count or Repeated Phrase\n",
      "https://www.msn.com/en-gb/news/world/republicans-urged-to-purge-extremists-after-attack-on-house-speaker-s-husband-live/ar-AA13C4Gh?ocid=msedgntp&cvid=aff58bcf905d453693a542ab049d9b43\n",
      "Word count:  1\n",
      "Repeated phrases:  0\n",
      "\n",
      "\n",
      "Webscraping failed: Word Count or Repeated Phrase\n",
      "https://grabien.com/story.php?id=400127\n",
      "Word count:  40\n",
      "Repeated phrases:  1\n",
      "\n",
      "\n",
      "Webscraping Error: Couldn't Parse\n",
      "https://www.scribd.com/document_downloads/direct/582684364?extension=pdf&ft=1671552213&lt=1671555823&show_pdf=true&user_id=646359241&uahk=YYCSXkjKpwmD-LERy5xZtIgg3NU\n",
      "\n",
      "\n",
      "Webscraping failed: Social Media\n",
      "https://twitter.com/__team_usa/status/1595249823996940291\n",
      "\n",
      "\n",
      "Webscraping failed: Social Media\n",
      "https://twitter.com/amanpour/status/1603090784605052931\n",
      "\n",
      "\n",
      "20  Articles Completed\n",
      "Webscraping failed: Word Count or Repeated Phrase\n",
      "https://ift.tt/pbAfiwC\n",
      "Word count:  26\n",
      "Repeated phrases:  1\n",
      "\n",
      "\n",
      "Webscraping failed: Social Media\n",
      "https://twitter.com/stephen_barrett/status/1589976286734454784\n",
      "\n",
      "\n",
      "Webscraping failed: Word Count or Repeated Phrase\n",
      "https://www.msn.com/en-us/news/politics/far-right-j6-rioter-who-attacked-pelosi-s-office-surprised-as-judge-sends-her-directly-to-jail-report/ar-AA14o8yf?ocid=msedgdhp&pc=U531&cvid=9e3927f5ff76462e9e608b7b5e1f46a1\n",
      "Word count:  1\n",
      "Repeated phrases:  0\n",
      "\n",
      "\n",
      "Webscraping failed: Social Media\n",
      "https://twitter.com/JennaEllisEsq/status/1596653457968357376\n",
      "\n",
      "\n",
      "Webscraping failed: Social Media\n",
      "https://twitter.com/BlackKnight10k/status/1605367613873586177\n",
      "\n",
      "\n",
      "Webscraping Error: Couldn't Parse\n",
      "https://www.newsweek.com/nancy-pelosi-us-needs-strong-republican-party-not-cult-1705081\n",
      "\n",
      "\n",
      "37.93% of the csv was scraped.\n",
      "The average sentiment score was: -0.024\n",
      "The average subjectivity score was: 0.447\n"
     ]
    }
   ],
   "source": [
    "# Loading the nlp pipeline and adding spacytextblob\n",
    "nlp = spacy.load('en_core_web_sm')\n",
    "nlp.add_pipe('spacytextblob') #This is used in our sentiment analysis\n",
    "\n",
    "# Using panda to load in our .csv file\n",
    "# File we are checking\n",
    "df = pd.read_csv(csv_file)\n",
    "# Column name we are checking (You can switch this column name to match the csv file)\n",
    "urls = df[\"Address\"].tolist()\n",
    "\n",
    "# Trim to only include the first url_max URLs\n",
    "if url_max > 0:\n",
    "    urls = urls[0:url_max]\n",
    "\n",
    "# Here is where we start the sentiment analysis over all articles\n",
    "df = main_pipeline_sentiment_analysis(urls)\n"
   ]
  },
  {
   "cell_type": "markdown",
   "id": "7d0b94a9",
   "metadata": {},
   "source": [
    "# TOPIC MODELING"
   ]
  },
  {
   "cell_type": "markdown",
   "id": "40eba53b",
   "metadata": {},
   "source": [
    "# Create Topic Model w/ Highest Coherence"
   ]
  },
  {
   "cell_type": "markdown",
   "id": "e01f58b3",
   "metadata": {},
   "source": [
    "Here we create our LDA topic model, article corpus, and topic-level sentiment analysis dictionary.\n",
    "\n",
    "First we pass in our dataframe df and associated settings. The function will create topic models with varying number of topics, compute the topic coherence score for that number of topics over our articles, and return to us the LDA model that has the highest coherence score. It will display a small graphic showing the topic coherence for each number of topics we tested.\n",
    "\n",
    "Next we will create our topic-level sentiment analysis dictionary using both our dataframe df and the new LDA_model and corpus we just created. This will give us a dictionary of the averaged sentiment scores for every topic of an article, for all articles."
   ]
  },
  {
   "cell_type": "code",
   "execution_count": 37,
   "id": "52b11718",
   "metadata": {},
   "outputs": [
    {
     "data": {
      "image/png": "[encoded data removed]",
      "text/plain": [
       "<Figure size 432x288 with 1 Axes>"
      ]
     },
     "metadata": {
      "needs_background": "light"
     },
     "output_type": "display_data"
    }
   ],
   "source": [
    "#This will generate multiple topic models with various topic count, then return\n",
    "# the model with highest coherence it will also display a quick visual of\n",
    "# coherence values, to understand what topic count is best and why it was chosen\n",
    "lda_model, corpus = create_lda_model(topic_model_dict[\"topic_limit\"],\n",
    "                                     topic_model_dict[\"topic_start\"], \n",
    "                                     topic_model_dict[\"topic_step\"])\n",
    "\n",
    "# LDA_model is the lda model we will work with, corpus is the actual corpus of articles we use\n",
    "\n",
    "\n",
    "# Here we are making our dictionary of all articles and their associated\n",
    "# topic-level sentiment for every topic\n",
    "topic_level_sentiment = topic_sentence_sentiment_analysis(df, lda_model)\n"
   ]
  },
  {
   "cell_type": "markdown",
   "id": "e90c4670",
   "metadata": {},
   "source": [
    "# DATA VISUALIZATION"
   ]
  },
  {
   "cell_type": "markdown",
   "id": "2cf78edd",
   "metadata": {},
   "source": [
    "## Pre-processing dataframe for visualization"
   ]
  },
  {
   "cell_type": "markdown",
   "id": "08f34a83",
   "metadata": {},
   "source": [
    "Here we preprocess our dataframe to add in a few relevant columns for data vis, as well as creating our topic relevancy dataframe and weighted sentiment dataframe over all topics for all articles. \n",
    "\n",
    "We add the Topics, Main Topic, Main Topic Score, and Shortened Address to the main dataframe (using our preprocess_dataframe_for_datavis() function). This lets the data vis section easily grab the information.\n",
    "\n",
    "Next we create the topic relevancy dataframe df_topics. In df_topics, each row is an article, and each column is a topic. For an article, every cell value represents the relevancy of that topic to that article. So if row 0 column 1 is 0.998, that means Article 0 has a 0.998 relevancy score on Topic 1.\n",
    "\n",
    "We create the per_topic_df, which uses our topic-based sentiment dictionary and our topic relevancy dataframe to make a dataframe where each row is an article and each column is a topic. The cell contains data of the form (sentiment, relevancy) which is a tuple that describes the sentiment value and topic relevancy of that article (row) for that topic (column)."
   ]
  },
  {
   "cell_type": "code",
   "execution_count": 38,
   "id": "097d2461",
   "metadata": {
    "scrolled": true
   },
   "outputs": [
    {
     "data": {
      "text/html": [
       "<div>\n",
       "<style scoped>\n",
       "    .dataframe tbody tr th:only-of-type {\n",
       "        vertical-align: middle;\n",
       "    }\n",
       "\n",
       "    .dataframe tbody tr th {\n",
       "        vertical-align: top;\n",
       "    }\n",
       "\n",
       "    .dataframe thead th {\n",
       "        text-align: right;\n",
       "    }\n",
       "</style>\n",
       "<table border=\"1\" class=\"dataframe\">\n",
       "  <thead>\n",
       "    <tr style=\"text-align: right;\">\n",
       "      <th></th>\n",
       "      <th>URL</th>\n",
       "      <th>Sentiment Score</th>\n",
       "      <th>Sentiment Label</th>\n",
       "      <th>Subjectivity Score</th>\n",
       "      <th>Positive Words</th>\n",
       "      <th>Negative Words</th>\n",
       "      <th>Text</th>\n",
       "      <th>Topics</th>\n",
       "      <th>Main Topic</th>\n",
       "      <th>Main Topic Score</th>\n",
       "      <th>Shortened Address</th>\n",
       "    </tr>\n",
       "  </thead>\n",
       "  <tbody>\n",
       "    <tr>\n",
       "      <th>196</th>\n",
       "      <td>https://www.newsbreakapp.com/n/0j1zWIzp?pd=0DU...</td>\n",
       "      <td>0.12</td>\n",
       "      <td>Neutral Positive</td>\n",
       "      <td>0.53</td>\n",
       "      <td>top, becoming, clear, live, interested, latest...</td>\n",
       "      <td>long, widely, secret</td>\n",
       "      <td>u.s. depatrment of labor (public domain)\\nit h...</td>\n",
       "      <td>[(0, 0.7620178), (4, 0.23205467)]</td>\n",
       "      <td>0</td>\n",
       "      <td>0.762018</td>\n",
       "      <td>www.newsbreakapp.com</td>\n",
       "    </tr>\n",
       "    <tr>\n",
       "      <th>202</th>\n",
       "      <td>https://time.com/3702584/gay-marriage-axelrod-...</td>\n",
       "      <td>0.10</td>\n",
       "      <td>Neutral Positive</td>\n",
       "      <td>0.43</td>\n",
       "      <td>new, comfortable, unexpected, own, absolutely,...</td>\n",
       "      <td>black, not, other, closed, behind, grudgingly,...</td>\n",
       "      <td>barack obama misled americans for his own poli...</td>\n",
       "      <td>[(1, 0.99677294)]</td>\n",
       "      <td>1</td>\n",
       "      <td>0.996773</td>\n",
       "      <td>time.com</td>\n",
       "    </tr>\n",
       "    <tr>\n",
       "      <th>137</th>\n",
       "      <td>https://seekingalpha.com/article/4534829-tradi...</td>\n",
       "      <td>0.13</td>\n",
       "      <td>Neutral Positive</td>\n",
       "      <td>0.43</td>\n",
       "      <td>own, willing, success, high, first, very, more...</td>\n",
       "      <td>minor, down, very, minus, negative, roughly, u...</td>\n",
       "      <td>chip somodevilla/getty images news\\nthe questi...</td>\n",
       "      <td>[(1, 0.9991602)]</td>\n",
       "      <td>1</td>\n",
       "      <td>0.999160</td>\n",
       "      <td>seekingalpha.com</td>\n",
       "    </tr>\n",
       "    <tr>\n",
       "      <th>258</th>\n",
       "      <td>https://tinyurl.com/2o7jvloo</td>\n",
       "      <td>0.03</td>\n",
       "      <td>Neutral Negative</td>\n",
       "      <td>0.51</td>\n",
       "      <td>courteous, first, very, more, most, impressed,...</td>\n",
       "      <td>mean, crap, worse, outrageous, very, half, not...</td>\n",
       "      <td>alexandra pelosi, daughter of house speaker na...</td>\n",
       "      <td>[(1, 0.9192843), (5, 0.0776376)]</td>\n",
       "      <td>1</td>\n",
       "      <td>0.919284</td>\n",
       "      <td>tinyurl.com</td>\n",
       "    </tr>\n",
       "    <tr>\n",
       "      <th>183</th>\n",
       "      <td>https://meaww.com/amp/he-was-some-sort-of-sex-...</td>\n",
       "      <td>0.16</td>\n",
       "      <td>Positive</td>\n",
       "      <td>0.37</td>\n",
       "      <td>able, surprised, own, great, right, best, whol...</td>\n",
       "      <td>green, long, sad, hardly, victim, due, other, ...</td>\n",
       "      <td>washington, dc: david depape, the man facing t...</td>\n",
       "      <td>[(1, 0.53265655), (5, 0.010962813), (8, 0.4529...</td>\n",
       "      <td>1</td>\n",
       "      <td>0.532657</td>\n",
       "      <td>meaww.com</td>\n",
       "    </tr>\n",
       "    <tr>\n",
       "      <th>...</th>\n",
       "      <td>...</td>\n",
       "      <td>...</td>\n",
       "      <td>...</td>\n",
       "      <td>...</td>\n",
       "      <td>...</td>\n",
       "      <td>...</td>\n",
       "      <td>...</td>\n",
       "      <td>...</td>\n",
       "      <td>...</td>\n",
       "      <td>...</td>\n",
       "      <td>...</td>\n",
       "    </tr>\n",
       "    <tr>\n",
       "      <th>223</th>\n",
       "      <td>https://zpr.io/fSQbCDkkrN7w</td>\n",
       "      <td>0.07</td>\n",
       "      <td>Neutral Positive</td>\n",
       "      <td>0.47</td>\n",
       "      <td>amazing, own, filled, very, more, legal, new, ...</td>\n",
       "      <td>base, tries, questionable, less, complex, unne...</td>\n",
       "      <td>it’s both amazing and unsurprising for a journ...</td>\n",
       "      <td>[(9, 0.9983599)]</td>\n",
       "      <td>9</td>\n",
       "      <td>0.998360</td>\n",
       "      <td>zpr.io</td>\n",
       "    </tr>\n",
       "    <tr>\n",
       "      <th>161</th>\n",
       "      <td>https://l.smartnews.com/PXCp1/ca3THp</td>\n",
       "      <td>-0.13</td>\n",
       "      <td>Negative</td>\n",
       "      <td>0.44</td>\n",
       "      <td>light, right, clearly, offers, free, kind, tha...</td>\n",
       "      <td>criminal, dangerous, illegal, absurd, alien, v...</td>\n",
       "      <td>sign up for the daily inside washington email ...</td>\n",
       "      <td>[(8, 0.1469434), (9, 0.8503528)]</td>\n",
       "      <td>9</td>\n",
       "      <td>0.850353</td>\n",
       "      <td>l.smartnews.com</td>\n",
       "    </tr>\n",
       "    <tr>\n",
       "      <th>163</th>\n",
       "      <td>https://soundcloud.com/citationsneeded/ep-169-...</td>\n",
       "      <td>0.14</td>\n",
       "      <td>Neutral Positive</td>\n",
       "      <td>0.58</td>\n",
       "      <td>right, very, more, many, actually, free, parti...</td>\n",
       "      <td>cynical, worse, not</td>\n",
       "      <td>\"yes, undocumented immigrants take jobs from w...</td>\n",
       "      <td>[(9, 0.99387413)]</td>\n",
       "      <td>9</td>\n",
       "      <td>0.993874</td>\n",
       "      <td>soundcloud.com</td>\n",
       "    </tr>\n",
       "    <tr>\n",
       "      <th>50</th>\n",
       "      <td>https://trib.al/LJwJMRl</td>\n",
       "      <td>-0.01</td>\n",
       "      <td>Neutral Negative</td>\n",
       "      <td>0.48</td>\n",
       "      <td>new, surprised, secure, primarily, whole, larg...</td>\n",
       "      <td>vulnerable, unilaterally, fake, black, behind,...</td>\n",
       "      <td>house speaker nancy pelosi barred republicans ...</td>\n",
       "      <td>[(4, 0.34605387), (9, 0.6520266)]</td>\n",
       "      <td>9</td>\n",
       "      <td>0.652027</td>\n",
       "      <td>trib.al</td>\n",
       "    </tr>\n",
       "    <tr>\n",
       "      <th>3</th>\n",
       "      <td>https://fee.org/articles/nancy-pelosi-snuck-35...</td>\n",
       "      <td>0.17</td>\n",
       "      <td>Positive</td>\n",
       "      <td>0.55</td>\n",
       "      <td>more, most, well-off, large, really, new, fine...</td>\n",
       "      <td>average, relatively, painful, due, other</td>\n",
       "      <td>at some point, when the election chaos is fina...</td>\n",
       "      <td>[(9, 0.99740505)]</td>\n",
       "      <td>9</td>\n",
       "      <td>0.997405</td>\n",
       "      <td>fee.org</td>\n",
       "    </tr>\n",
       "  </tbody>\n",
       "</table>\n",
       "<p>108 rows × 11 columns</p>\n",
       "</div>"
      ],
      "text/plain": [
       "                                                   URL  Sentiment Score  \\\n",
       "196  https://www.newsbreakapp.com/n/0j1zWIzp?pd=0DU...             0.12   \n",
       "202  https://time.com/3702584/gay-marriage-axelrod-...             0.10   \n",
       "137  https://seekingalpha.com/article/4534829-tradi...             0.13   \n",
       "258                       https://tinyurl.com/2o7jvloo             0.03   \n",
       "183  https://meaww.com/amp/he-was-some-sort-of-sex-...             0.16   \n",
       "..                                                 ...              ...   \n",
       "223                        https://zpr.io/fSQbCDkkrN7w             0.07   \n",
       "161               https://l.smartnews.com/PXCp1/ca3THp            -0.13   \n",
       "163  https://soundcloud.com/citationsneeded/ep-169-...             0.14   \n",
       "50                             https://trib.al/LJwJMRl            -0.01   \n",
       "3    https://fee.org/articles/nancy-pelosi-snuck-35...             0.17   \n",
       "\n",
       "      Sentiment Label  Subjectivity Score  \\\n",
       "196  Neutral Positive                0.53   \n",
       "202  Neutral Positive                0.43   \n",
       "137  Neutral Positive                0.43   \n",
       "258  Neutral Negative                0.51   \n",
       "183          Positive                0.37   \n",
       "..                ...                 ...   \n",
       "223  Neutral Positive                0.47   \n",
       "161          Negative                0.44   \n",
       "163  Neutral Positive                0.58   \n",
       "50   Neutral Negative                0.48   \n",
       "3            Positive                0.55   \n",
       "\n",
       "                                        Positive Words  \\\n",
       "196  top, becoming, clear, live, interested, latest...   \n",
       "202  new, comfortable, unexpected, own, absolutely,...   \n",
       "137  own, willing, success, high, first, very, more...   \n",
       "258  courteous, first, very, more, most, impressed,...   \n",
       "183  able, surprised, own, great, right, best, whol...   \n",
       "..                                                 ...   \n",
       "223  amazing, own, filled, very, more, legal, new, ...   \n",
       "161  light, right, clearly, offers, free, kind, tha...   \n",
       "163  right, very, more, many, actually, free, parti...   \n",
       "50   new, surprised, secure, primarily, whole, larg...   \n",
       "3    more, most, well-off, large, really, new, fine...   \n",
       "\n",
       "                                        Negative Words  \\\n",
       "196                               long, widely, secret   \n",
       "202  black, not, other, closed, behind, grudgingly,...   \n",
       "137  minor, down, very, minus, negative, roughly, u...   \n",
       "258  mean, crap, worse, outrageous, very, half, not...   \n",
       "183  green, long, sad, hardly, victim, due, other, ...   \n",
       "..                                                 ...   \n",
       "223  base, tries, questionable, less, complex, unne...   \n",
       "161  criminal, dangerous, illegal, absurd, alien, v...   \n",
       "163                                cynical, worse, not   \n",
       "50   vulnerable, unilaterally, fake, black, behind,...   \n",
       "3             average, relatively, painful, due, other   \n",
       "\n",
       "                                                  Text  \\\n",
       "196  u.s. depatrment of labor (public domain)\\nit h...   \n",
       "202  barack obama misled americans for his own poli...   \n",
       "137  chip somodevilla/getty images news\\nthe questi...   \n",
       "258  alexandra pelosi, daughter of house speaker na...   \n",
       "183  washington, dc: david depape, the man facing t...   \n",
       "..                                                 ...   \n",
       "223  it’s both amazing and unsurprising for a journ...   \n",
       "161  sign up for the daily inside washington email ...   \n",
       "163  \"yes, undocumented immigrants take jobs from w...   \n",
       "50   house speaker nancy pelosi barred republicans ...   \n",
       "3    at some point, when the election chaos is fina...   \n",
       "\n",
       "                                                Topics  Main Topic  \\\n",
       "196                  [(0, 0.7620178), (4, 0.23205467)]           0   \n",
       "202                                  [(1, 0.99677294)]           1   \n",
       "137                                   [(1, 0.9991602)]           1   \n",
       "258                   [(1, 0.9192843), (5, 0.0776376)]           1   \n",
       "183  [(1, 0.53265655), (5, 0.010962813), (8, 0.4529...           1   \n",
       "..                                                 ...         ...   \n",
       "223                                   [(9, 0.9983599)]           9   \n",
       "161                   [(8, 0.1469434), (9, 0.8503528)]           9   \n",
       "163                                  [(9, 0.99387413)]           9   \n",
       "50                   [(4, 0.34605387), (9, 0.6520266)]           9   \n",
       "3                                    [(9, 0.99740505)]           9   \n",
       "\n",
       "     Main Topic Score     Shortened Address  \n",
       "196          0.762018  www.newsbreakapp.com  \n",
       "202          0.996773              time.com  \n",
       "137          0.999160      seekingalpha.com  \n",
       "258          0.919284           tinyurl.com  \n",
       "183          0.532657             meaww.com  \n",
       "..                ...                   ...  \n",
       "223          0.998360                zpr.io  \n",
       "161          0.850353       l.smartnews.com  \n",
       "163          0.993874        soundcloud.com  \n",
       "50           0.652027               trib.al  \n",
       "3            0.997405               fee.org  \n",
       "\n",
       "[108 rows x 11 columns]"
      ]
     },
     "execution_count": 38,
     "metadata": {},
     "output_type": "execute_result"
    }
   ],
   "source": [
    "# This generates our dataframe of per-topic sentiment and relevancy for all articles\n",
    "df_topics = generate_topic_relevancy_dataframe(lda_model)\n",
    "\n",
    "# Generate our per-topic dataframe\n",
    "# FORMAT IS (SENTIMENT, RELEVANCY)\n",
    "per_topic_df = create_per_topic_tuple_df(topic_level_sentiment, df_topics)\n",
    "\n",
    "# This generates a dataframe ready to use with our data visualizations\n",
    "# (includes some extra information)\n",
    "# This sorts our dataframe so must go last\n",
    "df = preprocess_dataframe_for_datavis(df, lda_model, corpus)\n",
    "df\n"
   ]
  },
  {
   "cell_type": "markdown",
   "id": "1a7d0141",
   "metadata": {},
   "source": [
    "## Data Visualization Settings"
   ]
  },
  {
   "cell_type": "markdown",
   "id": "1a648113",
   "metadata": {},
   "source": [
    "Here are the customizable settings for our data visualization section. Since these settings only affect how the data will be visualized, you can rerun the pipeline from this point down without rerunning any of the previous steps. This is recommended if you want to see different parameters for the settings visualized on the same data and LDA model."
   ]
  },
  {
   "cell_type": "code",
   "execution_count": 39,
   "id": "fffb7bbc",
   "metadata": {},
   "outputs": [],
   "source": [
    "# DATA VISUALIZATION SETTINGS\n",
    "# (starts at topic 0) set this list to every topic number you want\n",
    "# displayed individually\n",
    "list_of_topics_to_visualize = [0,1,8]\n",
    "\n",
    "# this is the settings dictionary for our k-means cluster generation.\n",
    "# max_clusters is used in our inertia visualization,\n",
    "# while num_clusters is our actual cluster count to use and pca_components\n",
    "# is the PCA component count that we use in both\n",
    "# the visualization of inertia as well as our actual clustering model.\n",
    "kmeans_settings = {\"max_clusters\": 10, \"num_clusters\": 9, \"pca_components\": 5}\n",
    "\n"
   ]
  },
  {
   "cell_type": "markdown",
   "id": "9587fb26",
   "metadata": {},
   "source": [
    "## Visualize all articles on their main topic"
   ]
  },
  {
   "cell_type": "code",
   "execution_count": 40,
   "id": "f85d1cda",
   "metadata": {
    "scrolled": false
   },
   "outputs": [
    {
     "data": {
      "application/vnd.plotly.v1+json": {
       "config": {
        "plotlyServerURL": "https://plot.ly"
       },
       "data": [
        {
         "customdata": [
          [
           "www.newsbreakapp.com",
           "Neutral Positive",
           0.7620177865028381
          ],
          [
           "time.com",
           "Neutral Positive",
           0.9967729449272156
          ],
          [
           "seekingalpha.com",
           "Neutral Positive",
           0.9991601705551147
          ],
          [
           "tinyurl.com",
           "Neutral Negative",
           0.9192842841148376
          ],
          [
           "meaww.com",
           "Positive",
           0.5326565504074097
          ],
          [
           "go.shr.lc",
           "Neutral Positive",
           0.9981955885887146
          ],
          [
           "punchbowl.news",
           "Neutral Positive",
           0.9946090579032898
          ],
          [
           "www.dailykos.com",
           "Neutral Negative",
           0.9908120036125183
          ],
          [
           "lakegenevanews.net",
           "Neutral Positive",
           0.9941911697387695
          ],
          [
           "www.cbsnews.com",
           "Neutral Positive",
           0.9959076046943665
          ],
          [
           "www.sfgate.com",
           "Neutral",
           0.9977377653121948
          ],
          [
           "people.com",
           "Neutral Negative",
           0.9939972758293152
          ],
          [
           "ugnews24.info",
           "Neutral Positive",
           0.46425899863243103
          ],
          [
           "www.whas11.com",
           "Neutral Positive",
           0.7945793867111206
          ],
          [
           "www.businessinsider.com",
           "Neutral Positive",
           0.9987665414810181
          ],
          [
           "www.jihadwatch.org",
           "Negative",
           0.8915449976921082
          ],
          [
           "trib.al",
           "Neutral Positive",
           0.9699469208717346
          ],
          [
           "www.smobserved.com",
           "Neutral Positive",
           0.5071043968200684
          ],
          [
           "www.thecatholicmonitor.com",
           "Positive",
           0.9975987076759338
          ],
          [
           "l.smartnews.com",
           "Neutral Positive",
           0.9964690804481506
          ],
          [
           "www.nytimes.com",
           "Neutral Positive",
           0.9904216527938843
          ],
          [
           "link.springer.com",
           "Neutral Positive",
           0.999359667301178
          ],
          [
           "www.nytimes.com",
           "Neutral Negative",
           0.9939962029457092
          ],
          [
           "wjactv.com",
           "Neutral Positive",
           0.9980599284172058
          ],
          [
           "www.cbc.ca",
           "Neutral Positive",
           0.998388946056366
          ],
          [
           "greenwald.substack.com",
           "Neutral Positive",
           0.6311795115470886
          ],
          [
           "www.theyeshivaworld.com",
           "Neutral Positive",
           0.668057382106781
          ],
          [
           "www.sonsof1776.com",
           "Neutral Negative",
           0.9953093528747559
          ],
          [
           "welovetrump.com",
           "Positive",
           0.996523380279541
          ],
          [
           "tiny.iavian.net",
           "Neutral Positive",
           0.9955210089683533
          ],
          [
           "nationalfile.com",
           "Neutral Positive",
           0.9955210089683533
          ],
          [
           "prada.substack.com",
           "Neutral Positive",
           0.9972458481788635
          ],
          [
           "ow.ly",
           "Neutral Positive",
           0.9972798228263855
          ],
          [
           "trib.al",
           "Positive",
           0.9926778674125671
          ],
          [
           "www.foxnews.com",
           "Neutral Positive",
           0.9936136603355408
          ],
          [
           "bit.ly",
           "Neutral Positive",
           0.9982067942619324
          ],
          [
           "www.wkyt.com",
           "Neutral Positive",
           0.9982067942619324
          ],
          [
           "www.dailykos.com",
           "Neutral Negative",
           0.9093741774559021
          ],
          [
           "www.washingtontimes.com",
           "Positive",
           0.533057451248169
          ],
          [
           "en.wikipedia.org",
           "Neutral Negative",
           0.9982611536979675
          ],
          [
           "nbcbay.com",
           "Neutral Positive",
           0.9736897349357605
          ],
          [
           "www.nytimes.com",
           "Negative",
           0.9331755638122559
          ],
          [
           "nbcbayarea.com",
           "Neutral Negative",
           0.8168447613716125
          ],
          [
           "buff.ly",
           "Neutral Positive",
           0.9997079968452454
          ],
          [
           "www.mediaite.com",
           "Neutral Positive",
           0.5098567008972168
          ],
          [
           "cna.asia",
           "Neutral Positive",
           0.8612643480300903
          ],
          [
           "open.substack.com",
           "Positive",
           0.7620620131492615
          ],
          [
           "nyti.ms",
           "Neutral Positive",
           0.9997079968452454
          ],
          [
           "www.msnbc.com",
           "Neutral Positive",
           0.5192450284957886
          ],
          [
           "ift.tt",
           "Neutral Negative",
           0.726481556892395
          ],
          [
           "4imag.com",
           "Positive",
           0.7726651430130005
          ],
          [
           "www.nbcnews.com",
           "Neutral Negative",
           0.9717585444450378
          ],
          [
           "altanto.com.do",
           "Neutral Negative",
           0.9699963331222534
          ],
          [
           "www.diariodenavarra.es",
           "Positive",
           0.9873225092887878
          ],
          [
           "www.elespanol.com",
           "Negative",
           0.9852437376976013
          ],
          [
           "buff.ly",
           "Negative",
           0.8449643850326538
          ],
          [
           "eltiempomonclova.mx",
           "Positive",
           0.9907203912734985
          ],
          [
           "dlvr.it",
           "Neutral Negative",
           0.9823471307754517
          ],
          [
           "www.dailymail.co.uk",
           "Neutral Negative",
           0.9979208707809448
          ],
          [
           "ijr.com",
           "Neutral Positive",
           0.4821241796016693
          ],
          [
           "www.cnn.com",
           "Neutral",
           0.9939169883728027
          ],
          [
           "www.nbcnews.com",
           "Neutral Positive",
           0.9931275248527527
          ],
          [
           "dlvr.it",
           "Neutral Negative",
           0.994576632976532
          ],
          [
           "twitchy.com",
           "Positive",
           0.6191578507423401
          ],
          [
           "www.theepochtimes.com",
           "Neutral Negative",
           0.9966281652450562
          ],
          [
           "dlvr.it",
           "Positive",
           0.9909970164299011
          ],
          [
           "ca.news.yahoo.com",
           "Neutral Positive",
           0.7608699798583984
          ],
          [
           "www.newsbreakapp.com",
           "Neutral Negative",
           0.9949123859405518
          ],
          [
           "www.kosu.org",
           "Neutral Negative",
           0.9953108429908752
          ],
          [
           "flip.it",
           "Neutral Positive",
           0.7929211258888245
          ],
          [
           "theshahab.com",
           "Neutral Positive",
           0.9970078468322754
          ],
          [
           "trib.al",
           "Neutral Negative",
           0.47938165068626404
          ],
          [
           "l.smartnews.com",
           "Neutral Positive",
           0.9943010210990906
          ],
          [
           "share.newsbreak.com",
           "Neutral Positive",
           0.9124060869216919
          ],
          [
           "nbcnews.to",
           "Neutral Negative",
           0.9959080219268799
          ],
          [
           "wapo.st",
           "Neutral Positive",
           0.6768201589584351
          ],
          [
           "bismarcktribune.com",
           "Neutral",
           0.9888858795166016
          ],
          [
           "www.nbcnews.com",
           "Neutral Negative",
           0.9978305697441101
          ],
          [
           "www.theepochtimes.com",
           "Neutral Positive",
           0.996496319770813
          ],
          [
           "www.nbcnews.com",
           "Neutral Positive",
           0.9949133992195129
          ],
          [
           "www.audacy.com",
           "Neutral Negative",
           0.9612807631492615
          ],
          [
           "rollingstone.com",
           "Neutral Negative",
           0.8893541097640991
          ],
          [
           "www.independent.co.uk",
           "Neutral Negative",
           0.6052969694137573
          ],
          [
           "www.ncronline.org",
           "Neutral Positive",
           0.6017751097679138
          ],
          [
           "dlvr.it",
           "Neutral Negative",
           0.9971855282783508
          ],
          [
           "www.thenewcivilrightsmovement.com",
           "Neutral Negative",
           0.9954760074615479
          ],
          [
           "ift.tt",
           "Neutral Positive",
           0.8846411108970642
          ],
          [
           "www.independent.co.uk",
           "Negative",
           0.4535415768623352
          ],
          [
           "crooksandliars.com",
           "Negative",
           0.62282395362854
          ],
          [
           "flip.it",
           "Neutral Positive",
           0.9975796341896057
          ],
          [
           "buff.ly",
           "Neutral Positive",
           0.7518557906150818
          ],
          [
           "NBC11NEWS.com",
           "Neutral Negative",
           0.6132199764251709
          ],
          [
           "www.newsmax.com",
           "Negative",
           0.9909955859184265
          ],
          [
           "www.courttv.com",
           "Negative",
           0.8225491046905518
          ],
          [
           "www.msnbc.com",
           "Negative",
           0.644139289855957
          ],
          [
           "www.dailymail.co.uk",
           "Neutral Positive",
           0.9281356930732727
          ],
          [
           "news.yahoo.com",
           "Negative",
           0.9947041273117065
          ],
          [
           "www.latimes.com",
           "Neutral Positive",
           0.9984791278839111
          ],
          [
           "www.newsnationnow.com",
           "Neutral",
           0.993791401386261
          ],
          [
           "www.independent.co.uk",
           "Negative",
           0.45611438155174255
          ],
          [
           "politi.co",
           "Neutral Positive",
           0.7246527671813965
          ],
          [
           "dlvr.it",
           "Neutral",
           0.9985435009002686
          ],
          [
           "www.politico.com",
           "Neutral Positive",
           0.9991154670715332
          ],
          [
           "zpr.io",
           "Neutral Positive",
           0.9983599185943604
          ],
          [
           "l.smartnews.com",
           "Negative",
           0.8503528237342834
          ],
          [
           "soundcloud.com",
           "Neutral Positive",
           0.9938741326332092
          ],
          [
           "trib.al",
           "Neutral Negative",
           0.6520265936851501
          ],
          [
           "fee.org",
           "Positive",
           0.9974050521850586
          ]
         ],
         "hovertemplate": "Address: %{customdata[0]}<br>Sentiment Label: %{customdata[1]}<br>Main Topic Score :%{customdata[2]}",
         "legendgroup": "",
         "marker": {
          "color": "#636efa",
          "size": [
           0.7620177865028381,
           0.9967729449272156,
           0.9991601705551147,
           0.9192842841148376,
           0.5326565504074097,
           0.9981955885887146,
           0.9946090579032898,
           0.9908120036125183,
           0.9941911697387695,
           0.9959076046943665,
           0.9977377653121948,
           0.9939972758293152,
           0.46425899863243103,
           0.7945793867111206,
           0.9987665414810181,
           0.8915449976921082,
           0.9699469208717346,
           0.5071043968200684,
           0.9975987076759338,
           0.9964690804481506,
           0.9904216527938843,
           0.999359667301178,
           0.9939962029457092,
           0.9980599284172058,
           0.998388946056366,
           0.6311795115470886,
           0.668057382106781,
           0.9953093528747559,
           0.996523380279541,
           0.9955210089683533,
           0.9955210089683533,
           0.9972458481788635,
           0.9972798228263855,
           0.9926778674125671,
           0.9936136603355408,
           0.9982067942619324,
           0.9982067942619324,
           0.9093741774559021,
           0.533057451248169,
           0.9982611536979675,
           0.9736897349357605,
           0.9331755638122559,
           0.8168447613716125,
           0.9997079968452454,
           0.5098567008972168,
           0.8612643480300903,
           0.7620620131492615,
           0.9997079968452454,
           0.5192450284957886,
           0.726481556892395,
           0.7726651430130005,
           0.9717585444450378,
           0.9699963331222534,
           0.9873225092887878,
           0.9852437376976013,
           0.8449643850326538,
           0.9907203912734985,
           0.9823471307754517,
           0.9979208707809448,
           0.4821241796016693,
           0.9939169883728027,
           0.9931275248527527,
           0.994576632976532,
           0.6191578507423401,
           0.9966281652450562,
           0.9909970164299011,
           0.7608699798583984,
           0.9949123859405518,
           0.9953108429908752,
           0.7929211258888245,
           0.9970078468322754,
           0.47938165068626404,
           0.9943010210990906,
           0.9124060869216919,
           0.9959080219268799,
           0.6768201589584351,
           0.9888858795166016,
           0.9978305697441101,
           0.996496319770813,
           0.9949133992195129,
           0.9612807631492615,
           0.8893541097640991,
           0.6052969694137573,
           0.6017751097679138,
           0.9971855282783508,
           0.9954760074615479,
           0.8846411108970642,
           0.4535415768623352,
           0.62282395362854,
           0.9975796341896057,
           0.7518557906150818,
           0.6132199764251709,
           0.9909955859184265,
           0.8225491046905518,
           0.644139289855957,
           0.9281356930732727,
           0.9947041273117065,
           0.9984791278839111,
           0.993791401386261,
           0.45611438155174255,
           0.7246527671813965,
           0.9985435009002686,
           0.9991154670715332,
           0.9983599185943604,
           0.8503528237342834,
           0.9938741326332092,
           0.6520265936851501,
           0.9974050521850586
          ],
          "sizemode": "area",
          "sizeref": 0.0024992699921131136,
          "symbol": "circle"
         },
         "mode": "markers",
         "name": "",
         "orientation": "v",
         "showlegend": false,
         "type": "scatter",
         "x": [
          0,
          1,
          1,
          1,
          1,
          1,
          1,
          2,
          2,
          2,
          2,
          2,
          2,
          2,
          2,
          2,
          2,
          2,
          2,
          2,
          3,
          3,
          4,
          4,
          4,
          4,
          4,
          4,
          4,
          4,
          4,
          4,
          4,
          4,
          4,
          4,
          4,
          4,
          4,
          4,
          4,
          4,
          4,
          5,
          5,
          5,
          5,
          5,
          5,
          5,
          5,
          5,
          6,
          6,
          6,
          6,
          6,
          7,
          7,
          7,
          7,
          7,
          7,
          7,
          8,
          8,
          8,
          8,
          8,
          8,
          8,
          8,
          8,
          8,
          8,
          8,
          8,
          8,
          8,
          8,
          8,
          8,
          8,
          8,
          8,
          8,
          8,
          8,
          8,
          8,
          8,
          8,
          8,
          8,
          8,
          8,
          8,
          8,
          8,
          9,
          9,
          9,
          9,
          9,
          9,
          9,
          9,
          9
         ],
         "xaxis": "x",
         "y": [
          0.12,
          0.1,
          0.13,
          0.03,
          0.16,
          0.09,
          0.07,
          -0.04,
          0.07,
          0.06,
          0.04,
          0,
          0.06,
          0.13,
          0.07,
          -0.1,
          0.12,
          0.08,
          0.17,
          0.1,
          0.05,
          0.08,
          0.03,
          0.13,
          0.11,
          0.11,
          0.07,
          0.03,
          0.22,
          0.05,
          0.05,
          0.11,
          0.09,
          0.16,
          0.1,
          0.11,
          0.11,
          -0.04,
          0.24,
          -0.04,
          0.12,
          -0.07,
          -0.05,
          0.13,
          0.11,
          0.14,
          0.16,
          0.13,
          0.06,
          0.02,
          0.19,
          -0.02,
          0,
          0.17,
          -0.4,
          -0.08,
          0.21,
          0,
          0.03,
          0.12,
          0.04,
          0.1,
          0.03,
          0.15,
          -0.02,
          0.18,
          0.06,
          0.01,
          0.02,
          0.05,
          0.07,
          -0.03,
          0.12,
          0.07,
          -0.01,
          0.13,
          0.04,
          -0.06,
          0.05,
          0.06,
          -0.05,
          0.01,
          -0.05,
          0.09,
          0.02,
          -0.02,
          0.05,
          -0.07,
          -0.2,
          0.08,
          0.08,
          -0.04,
          -0.27,
          -0.08,
          -0.07,
          0.08,
          -0.16,
          0.05,
          0.04,
          -0.08,
          0.08,
          0.04,
          0.07,
          0.07,
          -0.13,
          0.14,
          -0.01,
          0.17
         ],
         "yaxis": "y"
        }
       ],
       "layout": {
        "legend": {
         "itemsizing": "constant",
         "tracegroupgap": 0
        },
        "template": {
         "data": {
          "bar": [
           {
            "error_x": {
             "color": "#2a3f5f"
            },
            "error_y": {
             "color": "#2a3f5f"
            },
            "marker": {
             "line": {
              "color": "#E5ECF6",
              "width": 0.5
             },
             "pattern": {
              "fillmode": "overlay",
              "size": 10,
              "solidity": 0.2
             }
            },
            "type": "bar"
           }
          ],
          "barpolar": [
           {
            "marker": {
             "line": {
              "color": "#E5ECF6",
              "width": 0.5
             },
             "pattern": {
              "fillmode": "overlay",
              "size": 10,
              "solidity": 0.2
             }
            },
            "type": "barpolar"
           }
          ],
          "carpet": [
           {
            "aaxis": {
             "endlinecolor": "#2a3f5f",
             "gridcolor": "white",
             "linecolor": "white",
             "minorgridcolor": "white",
             "startlinecolor": "#2a3f5f"
            },
            "baxis": {
             "endlinecolor": "#2a3f5f",
             "gridcolor": "white",
             "linecolor": "white",
             "minorgridcolor": "white",
             "startlinecolor": "#2a3f5f"
            },
            "type": "carpet"
           }
          ],
          "choropleth": [
           {
            "colorbar": {
             "outlinewidth": 0,
             "ticks": ""
            },
            "type": "choropleth"
           }
          ],
          "contour": [
           {
            "colorbar": {
             "outlinewidth": 0,
             "ticks": ""
            },
            "colorscale": [
             [
              0,
              "#0d0887"
             ],
             [
              0.1111111111111111,
              "#46039f"
             ],
             [
              0.2222222222222222,
              "#7201a8"
             ],
             [
              0.3333333333333333,
              "#9c179e"
             ],
             [
              0.4444444444444444,
              "#bd3786"
             ],
             [
              0.5555555555555556,
              "#d8576b"
             ],
             [
              0.6666666666666666,
              "#ed7953"
             ],
             [
              0.7777777777777778,
              "#fb9f3a"
             ],
             [
              0.8888888888888888,
              "#fdca26"
             ],
             [
              1,
              "#f0f921"
             ]
            ],
            "type": "contour"
           }
          ],
          "contourcarpet": [
           {
            "colorbar": {
             "outlinewidth": 0,
             "ticks": ""
            },
            "type": "contourcarpet"
           }
          ],
          "heatmap": [
           {
            "colorbar": {
             "outlinewidth": 0,
             "ticks": ""
            },
            "colorscale": [
             [
              0,
              "#0d0887"
             ],
             [
              0.1111111111111111,
              "#46039f"
             ],
             [
              0.2222222222222222,
              "#7201a8"
             ],
             [
              0.3333333333333333,
              "#9c179e"
             ],
             [
              0.4444444444444444,
              "#bd3786"
             ],
             [
              0.5555555555555556,
              "#d8576b"
             ],
             [
              0.6666666666666666,
              "#ed7953"
             ],
             [
              0.7777777777777778,
              "#fb9f3a"
             ],
             [
              0.8888888888888888,
              "#fdca26"
             ],
             [
              1,
              "#f0f921"
             ]
            ],
            "type": "heatmap"
           }
          ],
          "heatmapgl": [
           {
            "colorbar": {
             "outlinewidth": 0,
             "ticks": ""
            },
            "colorscale": [
             [
              0,
              "#0d0887"
             ],
             [
              0.1111111111111111,
              "#46039f"
             ],
             [
              0.2222222222222222,
              "#7201a8"
             ],
             [
              0.3333333333333333,
              "#9c179e"
             ],
             [
              0.4444444444444444,
              "#bd3786"
             ],
             [
              0.5555555555555556,
              "#d8576b"
             ],
             [
              0.6666666666666666,
              "#ed7953"
             ],
             [
              0.7777777777777778,
              "#fb9f3a"
             ],
             [
              0.8888888888888888,
              "#fdca26"
             ],
             [
              1,
              "#f0f921"
             ]
            ],
            "type": "heatmapgl"
           }
          ],
          "histogram": [
           {
            "marker": {
             "pattern": {
              "fillmode": "overlay",
              "size": 10,
              "solidity": 0.2
             }
            },
            "type": "histogram"
           }
          ],
          "histogram2d": [
           {
            "colorbar": {
             "outlinewidth": 0,
             "ticks": ""
            },
            "colorscale": [
             [
              0,
              "#0d0887"
             ],
             [
              0.1111111111111111,
              "#46039f"
             ],
             [
              0.2222222222222222,
              "#7201a8"
             ],
             [
              0.3333333333333333,
              "#9c179e"
             ],
             [
              0.4444444444444444,
              "#bd3786"
             ],
             [
              0.5555555555555556,
              "#d8576b"
             ],
             [
              0.6666666666666666,
              "#ed7953"
             ],
             [
              0.7777777777777778,
              "#fb9f3a"
             ],
             [
              0.8888888888888888,
              "#fdca26"
             ],
             [
              1,
              "#f0f921"
             ]
            ],
            "type": "histogram2d"
           }
          ],
          "histogram2dcontour": [
           {
            "colorbar": {
             "outlinewidth": 0,
             "ticks": ""
            },
            "colorscale": [
             [
              0,
              "#0d0887"
             ],
             [
              0.1111111111111111,
              "#46039f"
             ],
             [
              0.2222222222222222,
              "#7201a8"
             ],
             [
              0.3333333333333333,
              "#9c179e"
             ],
             [
              0.4444444444444444,
              "#bd3786"
             ],
             [
              0.5555555555555556,
              "#d8576b"
             ],
             [
              0.6666666666666666,
              "#ed7953"
             ],
             [
              0.7777777777777778,
              "#fb9f3a"
             ],
             [
              0.8888888888888888,
              "#fdca26"
             ],
             [
              1,
              "#f0f921"
             ]
            ],
            "type": "histogram2dcontour"
           }
          ],
          "mesh3d": [
           {
            "colorbar": {
             "outlinewidth": 0,
             "ticks": ""
            },
            "type": "mesh3d"
           }
          ],
          "parcoords": [
           {
            "line": {
             "colorbar": {
              "outlinewidth": 0,
              "ticks": ""
             }
            },
            "type": "parcoords"
           }
          ],
          "pie": [
           {
            "automargin": true,
            "type": "pie"
           }
          ],
          "scatter": [
           {
            "fillpattern": {
             "fillmode": "overlay",
             "size": 10,
             "solidity": 0.2
            },
            "type": "scatter"
           }
          ],
          "scatter3d": [
           {
            "line": {
             "colorbar": {
              "outlinewidth": 0,
              "ticks": ""
             }
            },
            "marker": {
             "colorbar": {
              "outlinewidth": 0,
              "ticks": ""
             }
            },
            "type": "scatter3d"
           }
          ],
          "scattercarpet": [
           {
            "marker": {
             "colorbar": {
              "outlinewidth": 0,
              "ticks": ""
             }
            },
            "type": "scattercarpet"
           }
          ],
          "scattergeo": [
           {
            "marker": {
             "colorbar": {
              "outlinewidth": 0,
              "ticks": ""
             }
            },
            "type": "scattergeo"
           }
          ],
          "scattergl": [
           {
            "marker": {
             "colorbar": {
              "outlinewidth": 0,
              "ticks": ""
             }
            },
            "type": "scattergl"
           }
          ],
          "scattermapbox": [
           {
            "marker": {
             "colorbar": {
              "outlinewidth": 0,
              "ticks": ""
             }
            },
            "type": "scattermapbox"
           }
          ],
          "scatterpolar": [
           {
            "marker": {
             "colorbar": {
              "outlinewidth": 0,
              "ticks": ""
             }
            },
            "type": "scatterpolar"
           }
          ],
          "scatterpolargl": [
           {
            "marker": {
             "colorbar": {
              "outlinewidth": 0,
              "ticks": ""
             }
            },
            "type": "scatterpolargl"
           }
          ],
          "scatterternary": [
           {
            "marker": {
             "colorbar": {
              "outlinewidth": 0,
              "ticks": ""
             }
            },
            "type": "scatterternary"
           }
          ],
          "surface": [
           {
            "colorbar": {
             "outlinewidth": 0,
             "ticks": ""
            },
            "colorscale": [
             [
              0,
              "#0d0887"
             ],
             [
              0.1111111111111111,
              "#46039f"
             ],
             [
              0.2222222222222222,
              "#7201a8"
             ],
             [
              0.3333333333333333,
              "#9c179e"
             ],
             [
              0.4444444444444444,
              "#bd3786"
             ],
             [
              0.5555555555555556,
              "#d8576b"
             ],
             [
              0.6666666666666666,
              "#ed7953"
             ],
             [
              0.7777777777777778,
              "#fb9f3a"
             ],
             [
              0.8888888888888888,
              "#fdca26"
             ],
             [
              1,
              "#f0f921"
             ]
            ],
            "type": "surface"
           }
          ],
          "table": [
           {
            "cells": {
             "fill": {
              "color": "#EBF0F8"
             },
             "line": {
              "color": "white"
             }
            },
            "header": {
             "fill": {
              "color": "#C8D4E3"
             },
             "line": {
              "color": "white"
             }
            },
            "type": "table"
           }
          ]
         },
         "layout": {
          "annotationdefaults": {
           "arrowcolor": "#2a3f5f",
           "arrowhead": 0,
           "arrowwidth": 1
          },
          "autotypenumbers": "strict",
          "coloraxis": {
           "colorbar": {
            "outlinewidth": 0,
            "ticks": ""
           }
          },
          "colorscale": {
           "diverging": [
            [
             0,
             "#8e0152"
            ],
            [
             0.1,
             "#c51b7d"
            ],
            [
             0.2,
             "#de77ae"
            ],
            [
             0.3,
             "#f1b6da"
            ],
            [
             0.4,
             "#fde0ef"
            ],
            [
             0.5,
             "#f7f7f7"
            ],
            [
             0.6,
             "#e6f5d0"
            ],
            [
             0.7,
             "#b8e186"
            ],
            [
             0.8,
             "#7fbc41"
            ],
            [
             0.9,
             "#4d9221"
            ],
            [
             1,
             "#276419"
            ]
           ],
           "sequential": [
            [
             0,
             "#0d0887"
            ],
            [
             0.1111111111111111,
             "#46039f"
            ],
            [
             0.2222222222222222,
             "#7201a8"
            ],
            [
             0.3333333333333333,
             "#9c179e"
            ],
            [
             0.4444444444444444,
             "#bd3786"
            ],
            [
             0.5555555555555556,
             "#d8576b"
            ],
            [
             0.6666666666666666,
             "#ed7953"
            ],
            [
             0.7777777777777778,
             "#fb9f3a"
            ],
            [
             0.8888888888888888,
             "#fdca26"
            ],
            [
             1,
             "#f0f921"
            ]
           ],
           "sequentialminus": [
            [
             0,
             "#0d0887"
            ],
            [
             0.1111111111111111,
             "#46039f"
            ],
            [
             0.2222222222222222,
             "#7201a8"
            ],
            [
             0.3333333333333333,
             "#9c179e"
            ],
            [
             0.4444444444444444,
             "#bd3786"
            ],
            [
             0.5555555555555556,
             "#d8576b"
            ],
            [
             0.6666666666666666,
             "#ed7953"
            ],
            [
             0.7777777777777778,
             "#fb9f3a"
            ],
            [
             0.8888888888888888,
             "#fdca26"
            ],
            [
             1,
             "#f0f921"
            ]
           ]
          },
          "colorway": [
           "#636efa",
           "#EF553B",
           "#00cc96",
           "#ab63fa",
           "#FFA15A",
           "#19d3f3",
           "#FF6692",
           "#B6E880",
           "#FF97FF",
           "#FECB52"
          ],
          "font": {
           "color": "#2a3f5f"
          },
          "geo": {
           "bgcolor": "white",
           "lakecolor": "white",
           "landcolor": "#E5ECF6",
           "showlakes": true,
           "showland": true,
           "subunitcolor": "white"
          },
          "hoverlabel": {
           "align": "left"
          },
          "hovermode": "closest",
          "mapbox": {
           "style": "light"
          },
          "paper_bgcolor": "white",
          "plot_bgcolor": "#E5ECF6",
          "polar": {
           "angularaxis": {
            "gridcolor": "white",
            "linecolor": "white",
            "ticks": ""
           },
           "bgcolor": "#E5ECF6",
           "radialaxis": {
            "gridcolor": "white",
            "linecolor": "white",
            "ticks": ""
           }
          },
          "scene": {
           "xaxis": {
            "backgroundcolor": "#E5ECF6",
            "gridcolor": "white",
            "gridwidth": 2,
            "linecolor": "white",
            "showbackground": true,
            "ticks": "",
            "zerolinecolor": "white"
           },
           "yaxis": {
            "backgroundcolor": "#E5ECF6",
            "gridcolor": "white",
            "gridwidth": 2,
            "linecolor": "white",
            "showbackground": true,
            "ticks": "",
            "zerolinecolor": "white"
           },
           "zaxis": {
            "backgroundcolor": "#E5ECF6",
            "gridcolor": "white",
            "gridwidth": 2,
            "linecolor": "white",
            "showbackground": true,
            "ticks": "",
            "zerolinecolor": "white"
           }
          },
          "shapedefaults": {
           "line": {
            "color": "#2a3f5f"
           }
          },
          "ternary": {
           "aaxis": {
            "gridcolor": "white",
            "linecolor": "white",
            "ticks": ""
           },
           "baxis": {
            "gridcolor": "white",
            "linecolor": "white",
            "ticks": ""
           },
           "bgcolor": "#E5ECF6",
           "caxis": {
            "gridcolor": "white",
            "linecolor": "white",
            "ticks": ""
           }
          },
          "title": {
           "x": 0.05
          },
          "xaxis": {
           "automargin": true,
           "gridcolor": "white",
           "linecolor": "white",
           "ticks": "",
           "title": {
            "standoff": 15
           },
           "zerolinecolor": "white",
           "zerolinewidth": 2
          },
          "yaxis": {
           "automargin": true,
           "gridcolor": "white",
           "linecolor": "white",
           "ticks": "",
           "title": {
            "standoff": 15
           },
           "zerolinecolor": "white",
           "zerolinewidth": 2
          }
         }
        },
        "title": {
         "text": "Articles Sorted By Main Topic"
        },
        "xaxis": {
         "anchor": "y",
         "domain": [
          0,
          1
         ],
         "title": {
          "text": "Main Topic"
         },
         "type": "category"
        },
        "yaxis": {
         "anchor": "x",
         "domain": [
          0,
          1
         ],
         "title": {
          "text": "Sentiment Score"
         }
        }
       }
      }
     },
     "metadata": {},
     "output_type": "display_data"
    }
   ],
   "source": [
    "visualize_all_articles_on_main_topic(df)"
   ]
  },
  {
   "cell_type": "markdown",
   "id": "e2dceebf",
   "metadata": {},
   "source": [
    "# Generating Cluster Graph of Topics"
   ]
  },
  {
   "cell_type": "code",
   "execution_count": 41,
   "id": "235fbeca",
   "metadata": {
    "scrolled": false
   },
   "outputs": [
    {
     "name": "stdout",
     "output_type": "stream",
     "text": [
      "[t-SNE] Computing 107 nearest neighbors...\n",
      "[t-SNE] Indexed 108 samples in 0.001s...\n",
      "[t-SNE] Computed neighbors for 108 samples in 0.005s...\n",
      "[t-SNE] Computed conditional probabilities for sample 108 / 108\n",
      "[t-SNE] Mean sigma: 0.557664\n",
      "[t-SNE] KL divergence after 250 iterations with early exaggeration: 48.776752\n",
      "[t-SNE] KL divergence after 1000 iterations: 0.114134\n"
     ]
    },
    {
     "data": {
      "application/vnd.plotly.v1+json": {
       "config": {
        "plotlyServerURL": "https://plot.ly"
       },
       "data": [
        {
         "customdata": [
          [
           "www.newsbreakapp.com",
           "Neutral Positive",
           "0"
          ]
         ],
         "hovertemplate": "Address: %{customdata[0]}<br>Sentiment Label: %{customdata[1]}<br>Main Topic:%{customdata[2]}",
         "legendgroup": "0",
         "marker": {
          "color": "#636efa",
          "size": [
           0.7620177865028381
          ],
          "sizemode": "area",
          "sizeref": 0.0024992699921131136,
          "symbol": "circle"
         },
         "mode": "markers",
         "name": "0",
         "orientation": "v",
         "showlegend": true,
         "type": "scatter",
         "x": [
          3.8244285583496094
         ],
         "xaxis": "x",
         "y": [
          -7.595669746398926
         ],
         "yaxis": "y"
        },
        {
         "customdata": [
          [
           "time.com",
           "Neutral Positive",
           "1"
          ],
          [
           "seekingalpha.com",
           "Neutral Positive",
           "1"
          ],
          [
           "tinyurl.com",
           "Neutral Negative",
           "1"
          ],
          [
           "meaww.com",
           "Positive",
           "1"
          ],
          [
           "go.shr.lc",
           "Neutral Positive",
           "1"
          ],
          [
           "punchbowl.news",
           "Neutral Positive",
           "1"
          ]
         ],
         "hovertemplate": "Address: %{customdata[0]}<br>Sentiment Label: %{customdata[1]}<br>Main Topic:%{customdata[2]}",
         "legendgroup": "1",
         "marker": {
          "color": "#EF553B",
          "size": [
           0.9967729449272156,
           0.9991601705551147,
           0.9192842841148376,
           0.5326565504074097,
           0.9981955885887146,
           0.9946090579032898
          ],
          "sizemode": "area",
          "sizeref": 0.0024992699921131136,
          "symbol": "circle"
         },
         "mode": "markers",
         "name": "1",
         "orientation": "v",
         "showlegend": true,
         "type": "scatter",
         "x": [
          5.961901664733887,
          5.980501174926758,
          5.988699436187744,
          7.391436576843262,
          5.9830403327941895,
          5.969480991363525
         ],
         "xaxis": "x",
         "y": [
          -10.638067245483398,
          -10.649423599243164,
          -10.623180389404297,
          -7.17272424697876,
          -10.645416259765625,
          -10.648406028747559
         ],
         "yaxis": "y"
        },
        {
         "customdata": [
          [
           "l.smartnews.com",
           "Neutral Positive",
           "2"
          ],
          [
           "www.thecatholicmonitor.com",
           "Positive",
           "2"
          ],
          [
           "www.smobserved.com",
           "Neutral Positive",
           "2"
          ],
          [
           "trib.al",
           "Neutral Positive",
           "2"
          ],
          [
           "www.businessinsider.com",
           "Neutral Positive",
           "2"
          ],
          [
           "www.whas11.com",
           "Neutral Positive",
           "2"
          ],
          [
           "www.jihadwatch.org",
           "Negative",
           "2"
          ],
          [
           "people.com",
           "Neutral Negative",
           "2"
          ],
          [
           "www.sfgate.com",
           "Neutral",
           "2"
          ],
          [
           "www.cbsnews.com",
           "Neutral Positive",
           "2"
          ],
          [
           "lakegenevanews.net",
           "Neutral Positive",
           "2"
          ],
          [
           "www.dailykos.com",
           "Neutral Negative",
           "2"
          ],
          [
           "ugnews24.info",
           "Neutral Positive",
           "2"
          ]
         ],
         "hovertemplate": "Address: %{customdata[0]}<br>Sentiment Label: %{customdata[1]}<br>Main Topic:%{customdata[2]}",
         "legendgroup": "2",
         "marker": {
          "color": "#00cc96",
          "size": [
           0.9964690804481506,
           0.9975987076759338,
           0.5071043968200684,
           0.9699469208717346,
           0.9987665414810181,
           0.7945793867111206,
           0.8915449976921082,
           0.9939972758293152,
           0.9977377653121948,
           0.9959076046943665,
           0.9941911697387695,
           0.9908120036125183,
           0.46425899863243103
          ],
          "sizemode": "area",
          "sizeref": 0.0024992699921131136,
          "symbol": "circle"
         },
         "mode": "markers",
         "name": "2",
         "orientation": "v",
         "showlegend": true,
         "type": "scatter",
         "x": [
          9.201106071472168,
          9.204980850219727,
          9.203963279724121,
          9.20861530303955,
          9.20479965209961,
          8.387717247009277,
          8.969374656677246,
          9.209586143493652,
          9.07177734375,
          9.175392150878906,
          8.524054527282715,
          9.206904411315918,
          9.207162857055664
         ],
         "xaxis": "x",
         "y": [
          -9.455473899841309,
          -9.459172248840332,
          -9.460771560668945,
          -9.461885452270508,
          -9.459024429321289,
          -7.9445319175720215,
          -9.018978118896484,
          -9.462656021118164,
          -9.285717964172363,
          -9.409531593322754,
          -7.655098915100098,
          -9.461161613464355,
          -9.46086597442627
         ],
         "yaxis": "y"
        },
        {
         "customdata": [
          [
           "www.nytimes.com",
           "Neutral Positive",
           "3"
          ],
          [
           "link.springer.com",
           "Neutral Positive",
           "3"
          ]
         ],
         "hovertemplate": "Address: %{customdata[0]}<br>Sentiment Label: %{customdata[1]}<br>Main Topic:%{customdata[2]}",
         "legendgroup": "3",
         "marker": {
          "color": "#ab63fa",
          "size": [
           0.9904216527938843,
           0.999359667301178
          ],
          "sizemode": "area",
          "sizeref": 0.0024992699921131136,
          "symbol": "circle"
         },
         "mode": "markers",
         "name": "3",
         "orientation": "v",
         "showlegend": true,
         "type": "scatter",
         "x": [
          5.476805686950684,
          5.477376461029053
         ],
         "xaxis": "x",
         "y": [
          -6.5642547607421875,
          -6.564087390899658
         ],
         "yaxis": "y"
        },
        {
         "customdata": [
          [
           "bit.ly",
           "Neutral Positive",
           "4"
          ],
          [
           "www.wkyt.com",
           "Neutral Positive",
           "4"
          ],
          [
           "www.dailykos.com",
           "Neutral Negative",
           "4"
          ],
          [
           "www.washingtontimes.com",
           "Positive",
           "4"
          ],
          [
           "nbcbayarea.com",
           "Neutral Negative",
           "4"
          ],
          [
           "nbcbay.com",
           "Neutral Positive",
           "4"
          ],
          [
           "www.nytimes.com",
           "Negative",
           "4"
          ],
          [
           "www.foxnews.com",
           "Neutral Positive",
           "4"
          ],
          [
           "en.wikipedia.org",
           "Neutral Negative",
           "4"
          ],
          [
           "trib.al",
           "Positive",
           "4"
          ],
          [
           "www.theyeshivaworld.com",
           "Neutral Positive",
           "4"
          ],
          [
           "prada.substack.com",
           "Neutral Positive",
           "4"
          ],
          [
           "nationalfile.com",
           "Neutral Positive",
           "4"
          ],
          [
           "tiny.iavian.net",
           "Neutral Positive",
           "4"
          ],
          [
           "welovetrump.com",
           "Positive",
           "4"
          ],
          [
           "www.sonsof1776.com",
           "Neutral Negative",
           "4"
          ],
          [
           "greenwald.substack.com",
           "Neutral Positive",
           "4"
          ],
          [
           "www.cbc.ca",
           "Neutral Positive",
           "4"
          ],
          [
           "wjactv.com",
           "Neutral Positive",
           "4"
          ],
          [
           "www.nytimes.com",
           "Neutral Negative",
           "4"
          ],
          [
           "ow.ly",
           "Neutral Positive",
           "4"
          ]
         ],
         "hovertemplate": "Address: %{customdata[0]}<br>Sentiment Label: %{customdata[1]}<br>Main Topic:%{customdata[2]}",
         "legendgroup": "4",
         "marker": {
          "color": "#FFA15A",
          "size": [
           0.9982067942619324,
           0.9982067942619324,
           0.9093741774559021,
           0.533057451248169,
           0.8168447613716125,
           0.9736897349357605,
           0.9331755638122559,
           0.9936136603355408,
           0.9982611536979675,
           0.9926778674125671,
           0.668057382106781,
           0.9972458481788635,
           0.9955210089683533,
           0.9955210089683533,
           0.996523380279541,
           0.9953093528747559,
           0.6311795115470886,
           0.998388946056366,
           0.9980599284172058,
           0.9939962029457092,
           0.9972798228263855
          ],
          "sizemode": "area",
          "sizeref": 0.0024992699921131136,
          "symbol": "circle"
         },
         "mode": "markers",
         "name": "4",
         "orientation": "v",
         "showlegend": true,
         "type": "scatter",
         "x": [
          1.6318572759628296,
          1.2373545169830322,
          1.2436167001724243,
          2.732633113861084,
          2.6573429107666016,
          1.7017836570739746,
          1.5766773223876953,
          1.8383078575134277,
          1.8383078575134277,
          1.3408576250076294,
          1.2422900199890137,
          1.704797387123108,
          1.6170589923858643,
          1.3219245672225952,
          1.3219245672225952,
          2.0827176570892334,
          3.2836763858795166,
          1.5336440801620483,
          1.7658276557922363,
          2.0064706802368164,
          2.28249192237854
         ],
         "xaxis": "x",
         "y": [
          -7.58099889755249,
          -8.106334686279297,
          -8.142633438110352,
          -7.794724941253662,
          -7.86941385269165,
          -8.282818794250488,
          -7.573235511779785,
          -8.194372177124023,
          -8.194372177124023,
          -7.637969493865967,
          -8.113466262817383,
          -8.275856018066406,
          -7.573859691619873,
          -7.679535865783691,
          -7.679535865783691,
          -7.929582118988037,
          -8.847729682922363,
          -8.29178524017334,
          -7.669001579284668,
          -7.59300422668457,
          -7.651264190673828
         ],
         "yaxis": "y"
        },
        {
         "customdata": [
          [
           "www.nbcnews.com",
           "Neutral Negative",
           "5"
          ],
          [
           "4imag.com",
           "Positive",
           "5"
          ],
          [
           "ift.tt",
           "Neutral Negative",
           "5"
          ],
          [
           "www.msnbc.com",
           "Neutral Positive",
           "5"
          ],
          [
           "buff.ly",
           "Neutral Positive",
           "5"
          ],
          [
           "open.substack.com",
           "Positive",
           "5"
          ],
          [
           "cna.asia",
           "Neutral Positive",
           "5"
          ],
          [
           "www.mediaite.com",
           "Neutral Positive",
           "5"
          ],
          [
           "nyti.ms",
           "Neutral Positive",
           "5"
          ]
         ],
         "hovertemplate": "Address: %{customdata[0]}<br>Sentiment Label: %{customdata[1]}<br>Main Topic:%{customdata[2]}",
         "legendgroup": "5",
         "marker": {
          "color": "#19d3f3",
          "size": [
           0.9717585444450378,
           0.7726651430130005,
           0.726481556892395,
           0.5192450284957886,
           0.9997079968452454,
           0.7620620131492615,
           0.8612643480300903,
           0.5098567008972168,
           0.9997079968452454
          ],
          "sizemode": "area",
          "sizeref": 0.0024992699921131136,
          "symbol": "circle"
         },
         "mode": "markers",
         "name": "5",
         "orientation": "v",
         "showlegend": true,
         "type": "scatter",
         "x": [
          3.7615885734558105,
          3.4072837829589844,
          3.7320916652679443,
          3.7333061695098877,
          3.7615885734558105,
          3.4114177227020264,
          3.846804618835449,
          3.68572735786438,
          3.7716879844665527
         ],
         "xaxis": "x",
         "y": [
          -10.112278938293457,
          -8.983198165893555,
          -9.936894416809082,
          -9.825146675109863,
          -10.112278938293457,
          -9.028039932250977,
          -9.918789863586426,
          -9.762810707092285,
          -10.096906661987305
         ],
         "yaxis": "y"
        },
        {
         "customdata": [
          [
           "eltiempomonclova.mx",
           "Positive",
           "6"
          ],
          [
           "buff.ly",
           "Negative",
           "6"
          ],
          [
           "www.diariodenavarra.es",
           "Positive",
           "6"
          ],
          [
           "www.elespanol.com",
           "Negative",
           "6"
          ],
          [
           "altanto.com.do",
           "Neutral Negative",
           "6"
          ]
         ],
         "hovertemplate": "Address: %{customdata[0]}<br>Sentiment Label: %{customdata[1]}<br>Main Topic:%{customdata[2]}",
         "legendgroup": "6",
         "marker": {
          "color": "#FF6692",
          "size": [
           0.9907203912734985,
           0.8449643850326538,
           0.9873225092887878,
           0.9852437376976013,
           0.9699963331222534
          ],
          "sizemode": "area",
          "sizeref": 0.0024992699921131136,
          "symbol": "circle"
         },
         "mode": "markers",
         "name": "6",
         "orientation": "v",
         "showlegend": true,
         "type": "scatter",
         "x": [
          3.6125614643096924,
          3.6119678020477295,
          3.6120355129241943,
          3.6174426078796387,
          3.611854076385498
         ],
         "xaxis": "x",
         "y": [
          -2.9148573875427246,
          -2.9128615856170654,
          -2.913095235824585,
          -2.9353389739990234,
          -2.9124841690063477
         ],
         "yaxis": "y"
        },
        {
         "customdata": [
          [
           "dlvr.it",
           "Neutral Negative",
           "7"
          ],
          [
           "www.nbcnews.com",
           "Neutral Positive",
           "7"
          ],
          [
           "www.cnn.com",
           "Neutral",
           "7"
          ],
          [
           "twitchy.com",
           "Positive",
           "7"
          ],
          [
           "www.dailymail.co.uk",
           "Neutral Negative",
           "7"
          ],
          [
           "dlvr.it",
           "Neutral Negative",
           "7"
          ],
          [
           "ijr.com",
           "Neutral Positive",
           "7"
          ]
         ],
         "hovertemplate": "Address: %{customdata[0]}<br>Sentiment Label: %{customdata[1]}<br>Main Topic:%{customdata[2]}",
         "legendgroup": "7",
         "marker": {
          "color": "#B6E880",
          "size": [
           0.994576632976532,
           0.9931275248527527,
           0.9939169883728027,
           0.6191578507423401,
           0.9979208707809448,
           0.9823471307754517,
           0.4821241796016693
          ],
          "sizemode": "area",
          "sizeref": 0.0024992699921131136,
          "symbol": "circle"
         },
         "mode": "markers",
         "name": "7",
         "orientation": "v",
         "showlegend": true,
         "type": "scatter",
         "x": [
          5.784588813781738,
          5.790839672088623,
          5.100229263305664,
          5.785910129547119,
          5.787474155426025,
          5.7860822677612305,
          5.875331878662109
         ],
         "xaxis": "x",
         "y": [
          -8.249892234802246,
          -8.253833770751953,
          -7.993760108947754,
          -8.243901252746582,
          -8.246148109436035,
          -8.244060516357422,
          -7.952267646789551
         ],
         "yaxis": "y"
        },
        {
         "customdata": [
          [
           "flip.it",
           "Neutral Positive",
           "8"
          ],
          [
           "www.ncronline.org",
           "Neutral Positive",
           "8"
          ],
          [
           "dlvr.it",
           "Neutral Negative",
           "8"
          ],
          [
           "www.thenewcivilrightsmovement.com",
           "Neutral Negative",
           "8"
          ],
          [
           "ift.tt",
           "Neutral Positive",
           "8"
          ],
          [
           "www.independent.co.uk",
           "Negative",
           "8"
          ],
          [
           "crooksandliars.com",
           "Negative",
           "8"
          ],
          [
           "buff.ly",
           "Neutral Positive",
           "8"
          ],
          [
           "rollingstone.com",
           "Neutral Negative",
           "8"
          ],
          [
           "www.newsmax.com",
           "Negative",
           "8"
          ],
          [
           "www.courttv.com",
           "Negative",
           "8"
          ],
          [
           "www.independent.co.uk",
           "Neutral Negative",
           "8"
          ],
          [
           "www.dailymail.co.uk",
           "Neutral Positive",
           "8"
          ],
          [
           "news.yahoo.com",
           "Negative",
           "8"
          ],
          [
           "www.latimes.com",
           "Neutral Positive",
           "8"
          ],
          [
           "www.newsnationnow.com",
           "Neutral",
           "8"
          ],
          [
           "NBC11NEWS.com",
           "Neutral Negative",
           "8"
          ],
          [
           "www.msnbc.com",
           "Negative",
           "8"
          ],
          [
           "www.theepochtimes.com",
           "Neutral Positive",
           "8"
          ],
          [
           "www.nbcnews.com",
           "Neutral Positive",
           "8"
          ],
          [
           "www.theepochtimes.com",
           "Neutral Negative",
           "8"
          ],
          [
           "dlvr.it",
           "Positive",
           "8"
          ],
          [
           "ca.news.yahoo.com",
           "Neutral Positive",
           "8"
          ],
          [
           "www.newsbreakapp.com",
           "Neutral Negative",
           "8"
          ],
          [
           "www.kosu.org",
           "Neutral Negative",
           "8"
          ],
          [
           "flip.it",
           "Neutral Positive",
           "8"
          ],
          [
           "www.audacy.com",
           "Neutral Negative",
           "8"
          ],
          [
           "theshahab.com",
           "Neutral Positive",
           "8"
          ],
          [
           "l.smartnews.com",
           "Neutral Positive",
           "8"
          ],
          [
           "share.newsbreak.com",
           "Neutral Positive",
           "8"
          ],
          [
           "nbcnews.to",
           "Neutral Negative",
           "8"
          ],
          [
           "wapo.st",
           "Neutral Positive",
           "8"
          ],
          [
           "bismarcktribune.com",
           "Neutral",
           "8"
          ],
          [
           "www.nbcnews.com",
           "Neutral Negative",
           "8"
          ],
          [
           "trib.al",
           "Neutral Negative",
           "8"
          ]
         ],
         "hovertemplate": "Address: %{customdata[0]}<br>Sentiment Label: %{customdata[1]}<br>Main Topic:%{customdata[2]}",
         "legendgroup": "8",
         "marker": {
          "color": "#FF97FF",
          "size": [
           0.9975796341896057,
           0.6017751097679138,
           0.9971855282783508,
           0.9954760074615479,
           0.8846411108970642,
           0.4535415768623352,
           0.62282395362854,
           0.7518557906150818,
           0.8893541097640991,
           0.9909955859184265,
           0.8225491046905518,
           0.6052969694137573,
           0.9281356930732727,
           0.9947041273117065,
           0.9984791278839111,
           0.993791401386261,
           0.6132199764251709,
           0.644139289855957,
           0.996496319770813,
           0.9949133992195129,
           0.9966281652450562,
           0.9909970164299011,
           0.7608699798583984,
           0.9949123859405518,
           0.9953108429908752,
           0.7929211258888245,
           0.9612807631492615,
           0.9970078468322754,
           0.9943010210990906,
           0.9124060869216919,
           0.9959080219268799,
           0.6768201589584351,
           0.9888858795166016,
           0.9978305697441101,
           0.47938165068626404
          ],
          "sizemode": "area",
          "sizeref": 0.0024992699921131136,
          "symbol": "circle"
         },
         "mode": "markers",
         "name": "8",
         "orientation": "v",
         "showlegend": true,
         "type": "scatter",
         "x": [
          9.304768562316895,
          8.107975006103516,
          8.600297927856445,
          8.729180335998535,
          8.62662410736084,
          7.648232460021973,
          9.106462478637695,
          6.52713680267334,
          8.604581832885742,
          8.135686874389648,
          8.815075874328613,
          7.443439483642578,
          8.21304988861084,
          9.32748031616211,
          8.527138710021973,
          8.956235885620117,
          8.12319564819336,
          8.277154922485352,
          7.754638195037842,
          6.8998122215271,
          8.409863471984863,
          9.209424018859863,
          8.938165664672852,
          7.194005489349365,
          8.211694717407227,
          9.229472160339355,
          8.007660865783691,
          6.953949928283691,
          9.178474426269531,
          8.634820938110352,
          7.874349594116211,
          8.599468231201172,
          9.046646118164062,
          9.146483421325684,
          8.317959785461426
         ],
         "xaxis": "x",
         "y": [
          -5.160253524780273,
          -4.446053981781006,
          -6.020088195800781,
          -5.029887676239014,
          -4.987853050231934,
          -5.087741851806641,
          -4.398314952850342,
          -5.813516616821289,
          -4.1463422775268555,
          -4.943776607513428,
          -4.044909954071045,
          -5.5251030921936035,
          -4.385405540466309,
          -5.023791790008545,
          -4.177640914916992,
          -4.462713718414307,
          -4.724816799163818,
          -5.099050045013428,
          -6.129512786865234,
          -5.602201461791992,
          -4.243882179260254,
          -4.87349271774292,
          -5.561854362487793,
          -6.317473411560059,
          -6.433886528015137,
          -4.624704360961914,
          -5.717245578765869,
          -5.561253547668457,
          -5.194436550140381,
          -5.772708892822266,
          -5.925715446472168,
          -5.315878868103027,
          -4.492220878601074,
          -4.656826972961426,
          -4.667936325073242
         ],
         "yaxis": "y"
        },
        {
         "customdata": [
          [
           "l.smartnews.com",
           "Negative",
           "9"
          ],
          [
           "soundcloud.com",
           "Neutral Positive",
           "9"
          ],
          [
           "zpr.io",
           "Neutral Positive",
           "9"
          ],
          [
           "trib.al",
           "Neutral Negative",
           "9"
          ],
          [
           "dlvr.it",
           "Neutral",
           "9"
          ],
          [
           "politi.co",
           "Neutral Positive",
           "9"
          ],
          [
           "www.independent.co.uk",
           "Negative",
           "9"
          ],
          [
           "www.politico.com",
           "Neutral Positive",
           "9"
          ],
          [
           "fee.org",
           "Positive",
           "9"
          ]
         ],
         "hovertemplate": "Address: %{customdata[0]}<br>Sentiment Label: %{customdata[1]}<br>Main Topic:%{customdata[2]}",
         "legendgroup": "9",
         "marker": {
          "color": "#FECB52",
          "size": [
           0.8503528237342834,
           0.9938741326332092,
           0.9983599185943604,
           0.6520265936851501,
           0.9985435009002686,
           0.7246527671813965,
           0.45611438155174255,
           0.9991154670715332,
           0.9974050521850586
          ],
          "sizemode": "area",
          "sizeref": 0.0024992699921131136,
          "symbol": "circle"
         },
         "mode": "markers",
         "name": "9",
         "orientation": "v",
         "showlegend": true,
         "type": "scatter",
         "x": [
          4.379524230957031,
          4.420714378356934,
          4.174835205078125,
          4.174640655517578,
          4.128050804138184,
          4.2467241287231445,
          4.169089317321777,
          4.183669090270996,
          4.174823760986328
         ],
         "xaxis": "x",
         "y": [
          -6.224816799163818,
          -5.547464847564697,
          -5.428591251373291,
          -5.428283214569092,
          -5.40784215927124,
          -5.485807418823242,
          -5.407504081726074,
          -5.959699630737305,
          -5.4375200271606445
         ],
         "yaxis": "y"
        }
       ],
       "layout": {
        "legend": {
         "itemsizing": "constant",
         "title": {
          "text": "Main Topic"
         },
         "tracegroupgap": 0
        },
        "template": {
         "data": {
          "bar": [
           {
            "error_x": {
             "color": "#2a3f5f"
            },
            "error_y": {
             "color": "#2a3f5f"
            },
            "marker": {
             "line": {
              "color": "#E5ECF6",
              "width": 0.5
             },
             "pattern": {
              "fillmode": "overlay",
              "size": 10,
              "solidity": 0.2
             }
            },
            "type": "bar"
           }
          ],
          "barpolar": [
           {
            "marker": {
             "line": {
              "color": "#E5ECF6",
              "width": 0.5
             },
             "pattern": {
              "fillmode": "overlay",
              "size": 10,
              "solidity": 0.2
             }
            },
            "type": "barpolar"
           }
          ],
          "carpet": [
           {
            "aaxis": {
             "endlinecolor": "#2a3f5f",
             "gridcolor": "white",
             "linecolor": "white",
             "minorgridcolor": "white",
             "startlinecolor": "#2a3f5f"
            },
            "baxis": {
             "endlinecolor": "#2a3f5f",
             "gridcolor": "white",
             "linecolor": "white",
             "minorgridcolor": "white",
             "startlinecolor": "#2a3f5f"
            },
            "type": "carpet"
           }
          ],
          "choropleth": [
           {
            "colorbar": {
             "outlinewidth": 0,
             "ticks": ""
            },
            "type": "choropleth"
           }
          ],
          "contour": [
           {
            "colorbar": {
             "outlinewidth": 0,
             "ticks": ""
            },
            "colorscale": [
             [
              0,
              "#0d0887"
             ],
             [
              0.1111111111111111,
              "#46039f"
             ],
             [
              0.2222222222222222,
              "#7201a8"
             ],
             [
              0.3333333333333333,
              "#9c179e"
             ],
             [
              0.4444444444444444,
              "#bd3786"
             ],
             [
              0.5555555555555556,
              "#d8576b"
             ],
             [
              0.6666666666666666,
              "#ed7953"
             ],
             [
              0.7777777777777778,
              "#fb9f3a"
             ],
             [
              0.8888888888888888,
              "#fdca26"
             ],
             [
              1,
              "#f0f921"
             ]
            ],
            "type": "contour"
           }
          ],
          "contourcarpet": [
           {
            "colorbar": {
             "outlinewidth": 0,
             "ticks": ""
            },
            "type": "contourcarpet"
           }
          ],
          "heatmap": [
           {
            "colorbar": {
             "outlinewidth": 0,
             "ticks": ""
            },
            "colorscale": [
             [
              0,
              "#0d0887"
             ],
             [
              0.1111111111111111,
              "#46039f"
             ],
             [
              0.2222222222222222,
              "#7201a8"
             ],
             [
              0.3333333333333333,
              "#9c179e"
             ],
             [
              0.4444444444444444,
              "#bd3786"
             ],
             [
              0.5555555555555556,
              "#d8576b"
             ],
             [
              0.6666666666666666,
              "#ed7953"
             ],
             [
              0.7777777777777778,
              "#fb9f3a"
             ],
             [
              0.8888888888888888,
              "#fdca26"
             ],
             [
              1,
              "#f0f921"
             ]
            ],
            "type": "heatmap"
           }
          ],
          "heatmapgl": [
           {
            "colorbar": {
             "outlinewidth": 0,
             "ticks": ""
            },
            "colorscale": [
             [
              0,
              "#0d0887"
             ],
             [
              0.1111111111111111,
              "#46039f"
             ],
             [
              0.2222222222222222,
              "#7201a8"
             ],
             [
              0.3333333333333333,
              "#9c179e"
             ],
             [
              0.4444444444444444,
              "#bd3786"
             ],
             [
              0.5555555555555556,
              "#d8576b"
             ],
             [
              0.6666666666666666,
              "#ed7953"
             ],
             [
              0.7777777777777778,
              "#fb9f3a"
             ],
             [
              0.8888888888888888,
              "#fdca26"
             ],
             [
              1,
              "#f0f921"
             ]
            ],
            "type": "heatmapgl"
           }
          ],
          "histogram": [
           {
            "marker": {
             "pattern": {
              "fillmode": "overlay",
              "size": 10,
              "solidity": 0.2
             }
            },
            "type": "histogram"
           }
          ],
          "histogram2d": [
           {
            "colorbar": {
             "outlinewidth": 0,
             "ticks": ""
            },
            "colorscale": [
             [
              0,
              "#0d0887"
             ],
             [
              0.1111111111111111,
              "#46039f"
             ],
             [
              0.2222222222222222,
              "#7201a8"
             ],
             [
              0.3333333333333333,
              "#9c179e"
             ],
             [
              0.4444444444444444,
              "#bd3786"
             ],
             [
              0.5555555555555556,
              "#d8576b"
             ],
             [
              0.6666666666666666,
              "#ed7953"
             ],
             [
              0.7777777777777778,
              "#fb9f3a"
             ],
             [
              0.8888888888888888,
              "#fdca26"
             ],
             [
              1,
              "#f0f921"
             ]
            ],
            "type": "histogram2d"
           }
          ],
          "histogram2dcontour": [
           {
            "colorbar": {
             "outlinewidth": 0,
             "ticks": ""
            },
            "colorscale": [
             [
              0,
              "#0d0887"
             ],
             [
              0.1111111111111111,
              "#46039f"
             ],
             [
              0.2222222222222222,
              "#7201a8"
             ],
             [
              0.3333333333333333,
              "#9c179e"
             ],
             [
              0.4444444444444444,
              "#bd3786"
             ],
             [
              0.5555555555555556,
              "#d8576b"
             ],
             [
              0.6666666666666666,
              "#ed7953"
             ],
             [
              0.7777777777777778,
              "#fb9f3a"
             ],
             [
              0.8888888888888888,
              "#fdca26"
             ],
             [
              1,
              "#f0f921"
             ]
            ],
            "type": "histogram2dcontour"
           }
          ],
          "mesh3d": [
           {
            "colorbar": {
             "outlinewidth": 0,
             "ticks": ""
            },
            "type": "mesh3d"
           }
          ],
          "parcoords": [
           {
            "line": {
             "colorbar": {
              "outlinewidth": 0,
              "ticks": ""
             }
            },
            "type": "parcoords"
           }
          ],
          "pie": [
           {
            "automargin": true,
            "type": "pie"
           }
          ],
          "scatter": [
           {
            "fillpattern": {
             "fillmode": "overlay",
             "size": 10,
             "solidity": 0.2
            },
            "type": "scatter"
           }
          ],
          "scatter3d": [
           {
            "line": {
             "colorbar": {
              "outlinewidth": 0,
              "ticks": ""
             }
            },
            "marker": {
             "colorbar": {
              "outlinewidth": 0,
              "ticks": ""
             }
            },
            "type": "scatter3d"
           }
          ],
          "scattercarpet": [
           {
            "marker": {
             "colorbar": {
              "outlinewidth": 0,
              "ticks": ""
             }
            },
            "type": "scattercarpet"
           }
          ],
          "scattergeo": [
           {
            "marker": {
             "colorbar": {
              "outlinewidth": 0,
              "ticks": ""
             }
            },
            "type": "scattergeo"
           }
          ],
          "scattergl": [
           {
            "marker": {
             "colorbar": {
              "outlinewidth": 0,
              "ticks": ""
             }
            },
            "type": "scattergl"
           }
          ],
          "scattermapbox": [
           {
            "marker": {
             "colorbar": {
              "outlinewidth": 0,
              "ticks": ""
             }
            },
            "type": "scattermapbox"
           }
          ],
          "scatterpolar": [
           {
            "marker": {
             "colorbar": {
              "outlinewidth": 0,
              "ticks": ""
             }
            },
            "type": "scatterpolar"
           }
          ],
          "scatterpolargl": [
           {
            "marker": {
             "colorbar": {
              "outlinewidth": 0,
              "ticks": ""
             }
            },
            "type": "scatterpolargl"
           }
          ],
          "scatterternary": [
           {
            "marker": {
             "colorbar": {
              "outlinewidth": 0,
              "ticks": ""
             }
            },
            "type": "scatterternary"
           }
          ],
          "surface": [
           {
            "colorbar": {
             "outlinewidth": 0,
             "ticks": ""
            },
            "colorscale": [
             [
              0,
              "#0d0887"
             ],
             [
              0.1111111111111111,
              "#46039f"
             ],
             [
              0.2222222222222222,
              "#7201a8"
             ],
             [
              0.3333333333333333,
              "#9c179e"
             ],
             [
              0.4444444444444444,
              "#bd3786"
             ],
             [
              0.5555555555555556,
              "#d8576b"
             ],
             [
              0.6666666666666666,
              "#ed7953"
             ],
             [
              0.7777777777777778,
              "#fb9f3a"
             ],
             [
              0.8888888888888888,
              "#fdca26"
             ],
             [
              1,
              "#f0f921"
             ]
            ],
            "type": "surface"
           }
          ],
          "table": [
           {
            "cells": {
             "fill": {
              "color": "#EBF0F8"
             },
             "line": {
              "color": "white"
             }
            },
            "header": {
             "fill": {
              "color": "#C8D4E3"
             },
             "line": {
              "color": "white"
             }
            },
            "type": "table"
           }
          ]
         },
         "layout": {
          "annotationdefaults": {
           "arrowcolor": "#2a3f5f",
           "arrowhead": 0,
           "arrowwidth": 1
          },
          "autotypenumbers": "strict",
          "coloraxis": {
           "colorbar": {
            "outlinewidth": 0,
            "ticks": ""
           }
          },
          "colorscale": {
           "diverging": [
            [
             0,
             "#8e0152"
            ],
            [
             0.1,
             "#c51b7d"
            ],
            [
             0.2,
             "#de77ae"
            ],
            [
             0.3,
             "#f1b6da"
            ],
            [
             0.4,
             "#fde0ef"
            ],
            [
             0.5,
             "#f7f7f7"
            ],
            [
             0.6,
             "#e6f5d0"
            ],
            [
             0.7,
             "#b8e186"
            ],
            [
             0.8,
             "#7fbc41"
            ],
            [
             0.9,
             "#4d9221"
            ],
            [
             1,
             "#276419"
            ]
           ],
           "sequential": [
            [
             0,
             "#0d0887"
            ],
            [
             0.1111111111111111,
             "#46039f"
            ],
            [
             0.2222222222222222,
             "#7201a8"
            ],
            [
             0.3333333333333333,
             "#9c179e"
            ],
            [
             0.4444444444444444,
             "#bd3786"
            ],
            [
             0.5555555555555556,
             "#d8576b"
            ],
            [
             0.6666666666666666,
             "#ed7953"
            ],
            [
             0.7777777777777778,
             "#fb9f3a"
            ],
            [
             0.8888888888888888,
             "#fdca26"
            ],
            [
             1,
             "#f0f921"
            ]
           ],
           "sequentialminus": [
            [
             0,
             "#0d0887"
            ],
            [
             0.1111111111111111,
             "#46039f"
            ],
            [
             0.2222222222222222,
             "#7201a8"
            ],
            [
             0.3333333333333333,
             "#9c179e"
            ],
            [
             0.4444444444444444,
             "#bd3786"
            ],
            [
             0.5555555555555556,
             "#d8576b"
            ],
            [
             0.6666666666666666,
             "#ed7953"
            ],
            [
             0.7777777777777778,
             "#fb9f3a"
            ],
            [
             0.8888888888888888,
             "#fdca26"
            ],
            [
             1,
             "#f0f921"
            ]
           ]
          },
          "colorway": [
           "#636efa",
           "#EF553B",
           "#00cc96",
           "#ab63fa",
           "#FFA15A",
           "#19d3f3",
           "#FF6692",
           "#B6E880",
           "#FF97FF",
           "#FECB52"
          ],
          "font": {
           "color": "#2a3f5f"
          },
          "geo": {
           "bgcolor": "white",
           "lakecolor": "white",
           "landcolor": "#E5ECF6",
           "showlakes": true,
           "showland": true,
           "subunitcolor": "white"
          },
          "hoverlabel": {
           "align": "left"
          },
          "hovermode": "closest",
          "mapbox": {
           "style": "light"
          },
          "paper_bgcolor": "white",
          "plot_bgcolor": "#E5ECF6",
          "polar": {
           "angularaxis": {
            "gridcolor": "white",
            "linecolor": "white",
            "ticks": ""
           },
           "bgcolor": "#E5ECF6",
           "radialaxis": {
            "gridcolor": "white",
            "linecolor": "white",
            "ticks": ""
           }
          },
          "scene": {
           "xaxis": {
            "backgroundcolor": "#E5ECF6",
            "gridcolor": "white",
            "gridwidth": 2,
            "linecolor": "white",
            "showbackground": true,
            "ticks": "",
            "zerolinecolor": "white"
           },
           "yaxis": {
            "backgroundcolor": "#E5ECF6",
            "gridcolor": "white",
            "gridwidth": 2,
            "linecolor": "white",
            "showbackground": true,
            "ticks": "",
            "zerolinecolor": "white"
           },
           "zaxis": {
            "backgroundcolor": "#E5ECF6",
            "gridcolor": "white",
            "gridwidth": 2,
            "linecolor": "white",
            "showbackground": true,
            "ticks": "",
            "zerolinecolor": "white"
           }
          },
          "shapedefaults": {
           "line": {
            "color": "#2a3f5f"
           }
          },
          "ternary": {
           "aaxis": {
            "gridcolor": "white",
            "linecolor": "white",
            "ticks": ""
           },
           "baxis": {
            "gridcolor": "white",
            "linecolor": "white",
            "ticks": ""
           },
           "bgcolor": "#E5ECF6",
           "caxis": {
            "gridcolor": "white",
            "linecolor": "white",
            "ticks": ""
           }
          },
          "title": {
           "x": 0.05
          },
          "xaxis": {
           "automargin": true,
           "gridcolor": "white",
           "linecolor": "white",
           "ticks": "",
           "title": {
            "standoff": 15
           },
           "zerolinecolor": "white",
           "zerolinewidth": 2
          },
          "yaxis": {
           "automargin": true,
           "gridcolor": "white",
           "linecolor": "white",
           "ticks": "",
           "title": {
            "standoff": 15
           },
           "zerolinecolor": "white",
           "zerolinewidth": 2
          }
         }
        },
        "title": {
         "text": "Topic Clustering Graph"
        },
        "xaxis": {
         "anchor": "y",
         "domain": [
          0,
          1
         ],
         "title": {
          "text": "x"
         }
        },
        "yaxis": {
         "anchor": "x",
         "domain": [
          0,
          1
         ],
         "title": {
          "text": "y"
         }
        }
       }
      }
     },
     "metadata": {},
     "output_type": "display_data"
    }
   ],
   "source": [
    "visualize_topic_cluster_tsne(lda_model, df)"
   ]
  },
  {
   "cell_type": "markdown",
   "id": "69a452f5",
   "metadata": {},
   "source": [
    "## Subjectivity vs Sentiment of Articles for a single topic"
   ]
  },
  {
   "cell_type": "markdown",
   "id": "92b721a6",
   "metadata": {},
   "source": [
    "Will iterate through our list_of_topics_to_visualize and will make a graph for each topic number in that list."
   ]
  },
  {
   "cell_type": "code",
   "execution_count": 42,
   "id": "8cb3e81c",
   "metadata": {
    "scrolled": false
   },
   "outputs": [
    {
     "data": {
      "application/vnd.plotly.v1+json": {
       "config": {
        "plotlyServerURL": "https://plot.ly"
       },
       "data": [
        {
         "hovertemplate": "<b>%{hovertext}</b><br><br>Subjectivity Score=%{x}<br>Sentiment Score=%{y}<br>Main Topic Score=%{marker.size}<extra></extra>",
         "hovertext": [
          "www.newsbreakapp.com"
         ],
         "legendgroup": "",
         "marker": {
          "color": "#636efa",
          "size": [
           0.7620177865028381
          ],
          "sizemode": "area",
          "sizeref": 0.0019050444662570953,
          "symbol": "circle"
         },
         "mode": "markers",
         "name": "",
         "orientation": "v",
         "showlegend": false,
         "type": "scatter",
         "x": [
          0.53
         ],
         "xaxis": "x",
         "y": [
          0.12
         ],
         "yaxis": "y"
        }
       ],
       "layout": {
        "legend": {
         "itemsizing": "constant",
         "tracegroupgap": 0
        },
        "template": {
         "data": {
          "bar": [
           {
            "error_x": {
             "color": "#2a3f5f"
            },
            "error_y": {
             "color": "#2a3f5f"
            },
            "marker": {
             "line": {
              "color": "#E5ECF6",
              "width": 0.5
             },
             "pattern": {
              "fillmode": "overlay",
              "size": 10,
              "solidity": 0.2
             }
            },
            "type": "bar"
           }
          ],
          "barpolar": [
           {
            "marker": {
             "line": {
              "color": "#E5ECF6",
              "width": 0.5
             },
             "pattern": {
              "fillmode": "overlay",
              "size": 10,
              "solidity": 0.2
             }
            },
            "type": "barpolar"
           }
          ],
          "carpet": [
           {
            "aaxis": {
             "endlinecolor": "#2a3f5f",
             "gridcolor": "white",
             "linecolor": "white",
             "minorgridcolor": "white",
             "startlinecolor": "#2a3f5f"
            },
            "baxis": {
             "endlinecolor": "#2a3f5f",
             "gridcolor": "white",
             "linecolor": "white",
             "minorgridcolor": "white",
             "startlinecolor": "#2a3f5f"
            },
            "type": "carpet"
           }
          ],
          "choropleth": [
           {
            "colorbar": {
             "outlinewidth": 0,
             "ticks": ""
            },
            "type": "choropleth"
           }
          ],
          "contour": [
           {
            "colorbar": {
             "outlinewidth": 0,
             "ticks": ""
            },
            "colorscale": [
             [
              0,
              "#0d0887"
             ],
             [
              0.1111111111111111,
              "#46039f"
             ],
             [
              0.2222222222222222,
              "#7201a8"
             ],
             [
              0.3333333333333333,
              "#9c179e"
             ],
             [
              0.4444444444444444,
              "#bd3786"
             ],
             [
              0.5555555555555556,
              "#d8576b"
             ],
             [
              0.6666666666666666,
              "#ed7953"
             ],
             [
              0.7777777777777778,
              "#fb9f3a"
             ],
             [
              0.8888888888888888,
              "#fdca26"
             ],
             [
              1,
              "#f0f921"
             ]
            ],
            "type": "contour"
           }
          ],
          "contourcarpet": [
           {
            "colorbar": {
             "outlinewidth": 0,
             "ticks": ""
            },
            "type": "contourcarpet"
           }
          ],
          "heatmap": [
           {
            "colorbar": {
             "outlinewidth": 0,
             "ticks": ""
            },
            "colorscale": [
             [
              0,
              "#0d0887"
             ],
             [
              0.1111111111111111,
              "#46039f"
             ],
             [
              0.2222222222222222,
              "#7201a8"
             ],
             [
              0.3333333333333333,
              "#9c179e"
             ],
             [
              0.4444444444444444,
              "#bd3786"
             ],
             [
              0.5555555555555556,
              "#d8576b"
             ],
             [
              0.6666666666666666,
              "#ed7953"
             ],
             [
              0.7777777777777778,
              "#fb9f3a"
             ],
             [
              0.8888888888888888,
              "#fdca26"
             ],
             [
              1,
              "#f0f921"
             ]
            ],
            "type": "heatmap"
           }
          ],
          "heatmapgl": [
           {
            "colorbar": {
             "outlinewidth": 0,
             "ticks": ""
            },
            "colorscale": [
             [
              0,
              "#0d0887"
             ],
             [
              0.1111111111111111,
              "#46039f"
             ],
             [
              0.2222222222222222,
              "#7201a8"
             ],
             [
              0.3333333333333333,
              "#9c179e"
             ],
             [
              0.4444444444444444,
              "#bd3786"
             ],
             [
              0.5555555555555556,
              "#d8576b"
             ],
             [
              0.6666666666666666,
              "#ed7953"
             ],
             [
              0.7777777777777778,
              "#fb9f3a"
             ],
             [
              0.8888888888888888,
              "#fdca26"
             ],
             [
              1,
              "#f0f921"
             ]
            ],
            "type": "heatmapgl"
           }
          ],
          "histogram": [
           {
            "marker": {
             "pattern": {
              "fillmode": "overlay",
              "size": 10,
              "solidity": 0.2
             }
            },
            "type": "histogram"
           }
          ],
          "histogram2d": [
           {
            "colorbar": {
             "outlinewidth": 0,
             "ticks": ""
            },
            "colorscale": [
             [
              0,
              "#0d0887"
             ],
             [
              0.1111111111111111,
              "#46039f"
             ],
             [
              0.2222222222222222,
              "#7201a8"
             ],
             [
              0.3333333333333333,
              "#9c179e"
             ],
             [
              0.4444444444444444,
              "#bd3786"
             ],
             [
              0.5555555555555556,
              "#d8576b"
             ],
             [
              0.6666666666666666,
              "#ed7953"
             ],
             [
              0.7777777777777778,
              "#fb9f3a"
             ],
             [
              0.8888888888888888,
              "#fdca26"
             ],
             [
              1,
              "#f0f921"
             ]
            ],
            "type": "histogram2d"
           }
          ],
          "histogram2dcontour": [
           {
            "colorbar": {
             "outlinewidth": 0,
             "ticks": ""
            },
            "colorscale": [
             [
              0,
              "#0d0887"
             ],
             [
              0.1111111111111111,
              "#46039f"
             ],
             [
              0.2222222222222222,
              "#7201a8"
             ],
             [
              0.3333333333333333,
              "#9c179e"
             ],
             [
              0.4444444444444444,
              "#bd3786"
             ],
             [
              0.5555555555555556,
              "#d8576b"
             ],
             [
              0.6666666666666666,
              "#ed7953"
             ],
             [
              0.7777777777777778,
              "#fb9f3a"
             ],
             [
              0.8888888888888888,
              "#fdca26"
             ],
             [
              1,
              "#f0f921"
             ]
            ],
            "type": "histogram2dcontour"
           }
          ],
          "mesh3d": [
           {
            "colorbar": {
             "outlinewidth": 0,
             "ticks": ""
            },
            "type": "mesh3d"
           }
          ],
          "parcoords": [
           {
            "line": {
             "colorbar": {
              "outlinewidth": 0,
              "ticks": ""
             }
            },
            "type": "parcoords"
           }
          ],
          "pie": [
           {
            "automargin": true,
            "type": "pie"
           }
          ],
          "scatter": [
           {
            "fillpattern": {
             "fillmode": "overlay",
             "size": 10,
             "solidity": 0.2
            },
            "type": "scatter"
           }
          ],
          "scatter3d": [
           {
            "line": {
             "colorbar": {
              "outlinewidth": 0,
              "ticks": ""
             }
            },
            "marker": {
             "colorbar": {
              "outlinewidth": 0,
              "ticks": ""
             }
            },
            "type": "scatter3d"
           }
          ],
          "scattercarpet": [
           {
            "marker": {
             "colorbar": {
              "outlinewidth": 0,
              "ticks": ""
             }
            },
            "type": "scattercarpet"
           }
          ],
          "scattergeo": [
           {
            "marker": {
             "colorbar": {
              "outlinewidth": 0,
              "ticks": ""
             }
            },
            "type": "scattergeo"
           }
          ],
          "scattergl": [
           {
            "marker": {
             "colorbar": {
              "outlinewidth": 0,
              "ticks": ""
             }
            },
            "type": "scattergl"
           }
          ],
          "scattermapbox": [
           {
            "marker": {
             "colorbar": {
              "outlinewidth": 0,
              "ticks": ""
             }
            },
            "type": "scattermapbox"
           }
          ],
          "scatterpolar": [
           {
            "marker": {
             "colorbar": {
              "outlinewidth": 0,
              "ticks": ""
             }
            },
            "type": "scatterpolar"
           }
          ],
          "scatterpolargl": [
           {
            "marker": {
             "colorbar": {
              "outlinewidth": 0,
              "ticks": ""
             }
            },
            "type": "scatterpolargl"
           }
          ],
          "scatterternary": [
           {
            "marker": {
             "colorbar": {
              "outlinewidth": 0,
              "ticks": ""
             }
            },
            "type": "scatterternary"
           }
          ],
          "surface": [
           {
            "colorbar": {
             "outlinewidth": 0,
             "ticks": ""
            },
            "colorscale": [
             [
              0,
              "#0d0887"
             ],
             [
              0.1111111111111111,
              "#46039f"
             ],
             [
              0.2222222222222222,
              "#7201a8"
             ],
             [
              0.3333333333333333,
              "#9c179e"
             ],
             [
              0.4444444444444444,
              "#bd3786"
             ],
             [
              0.5555555555555556,
              "#d8576b"
             ],
             [
              0.6666666666666666,
              "#ed7953"
             ],
             [
              0.7777777777777778,
              "#fb9f3a"
             ],
             [
              0.8888888888888888,
              "#fdca26"
             ],
             [
              1,
              "#f0f921"
             ]
            ],
            "type": "surface"
           }
          ],
          "table": [
           {
            "cells": {
             "fill": {
              "color": "#EBF0F8"
             },
             "line": {
              "color": "white"
             }
            },
            "header": {
             "fill": {
              "color": "#C8D4E3"
             },
             "line": {
              "color": "white"
             }
            },
            "type": "table"
           }
          ]
         },
         "layout": {
          "annotationdefaults": {
           "arrowcolor": "#2a3f5f",
           "arrowhead": 0,
           "arrowwidth": 1
          },
          "autotypenumbers": "strict",
          "coloraxis": {
           "colorbar": {
            "outlinewidth": 0,
            "ticks": ""
           }
          },
          "colorscale": {
           "diverging": [
            [
             0,
             "#8e0152"
            ],
            [
             0.1,
             "#c51b7d"
            ],
            [
             0.2,
             "#de77ae"
            ],
            [
             0.3,
             "#f1b6da"
            ],
            [
             0.4,
             "#fde0ef"
            ],
            [
             0.5,
             "#f7f7f7"
            ],
            [
             0.6,
             "#e6f5d0"
            ],
            [
             0.7,
             "#b8e186"
            ],
            [
             0.8,
             "#7fbc41"
            ],
            [
             0.9,
             "#4d9221"
            ],
            [
             1,
             "#276419"
            ]
           ],
           "sequential": [
            [
             0,
             "#0d0887"
            ],
            [
             0.1111111111111111,
             "#46039f"
            ],
            [
             0.2222222222222222,
             "#7201a8"
            ],
            [
             0.3333333333333333,
             "#9c179e"
            ],
            [
             0.4444444444444444,
             "#bd3786"
            ],
            [
             0.5555555555555556,
             "#d8576b"
            ],
            [
             0.6666666666666666,
             "#ed7953"
            ],
            [
             0.7777777777777778,
             "#fb9f3a"
            ],
            [
             0.8888888888888888,
             "#fdca26"
            ],
            [
             1,
             "#f0f921"
            ]
           ],
           "sequentialminus": [
            [
             0,
             "#0d0887"
            ],
            [
             0.1111111111111111,
             "#46039f"
            ],
            [
             0.2222222222222222,
             "#7201a8"
            ],
            [
             0.3333333333333333,
             "#9c179e"
            ],
            [
             0.4444444444444444,
             "#bd3786"
            ],
            [
             0.5555555555555556,
             "#d8576b"
            ],
            [
             0.6666666666666666,
             "#ed7953"
            ],
            [
             0.7777777777777778,
             "#fb9f3a"
            ],
            [
             0.8888888888888888,
             "#fdca26"
            ],
            [
             1,
             "#f0f921"
            ]
           ]
          },
          "colorway": [
           "#636efa",
           "#EF553B",
           "#00cc96",
           "#ab63fa",
           "#FFA15A",
           "#19d3f3",
           "#FF6692",
           "#B6E880",
           "#FF97FF",
           "#FECB52"
          ],
          "font": {
           "color": "#2a3f5f"
          },
          "geo": {
           "bgcolor": "white",
           "lakecolor": "white",
           "landcolor": "#E5ECF6",
           "showlakes": true,
           "showland": true,
           "subunitcolor": "white"
          },
          "hoverlabel": {
           "align": "left"
          },
          "hovermode": "closest",
          "mapbox": {
           "style": "light"
          },
          "paper_bgcolor": "white",
          "plot_bgcolor": "#E5ECF6",
          "polar": {
           "angularaxis": {
            "gridcolor": "white",
            "linecolor": "white",
            "ticks": ""
           },
           "bgcolor": "#E5ECF6",
           "radialaxis": {
            "gridcolor": "white",
            "linecolor": "white",
            "ticks": ""
           }
          },
          "scene": {
           "xaxis": {
            "backgroundcolor": "#E5ECF6",
            "gridcolor": "white",
            "gridwidth": 2,
            "linecolor": "white",
            "showbackground": true,
            "ticks": "",
            "zerolinecolor": "white"
           },
           "yaxis": {
            "backgroundcolor": "#E5ECF6",
            "gridcolor": "white",
            "gridwidth": 2,
            "linecolor": "white",
            "showbackground": true,
            "ticks": "",
            "zerolinecolor": "white"
           },
           "zaxis": {
            "backgroundcolor": "#E5ECF6",
            "gridcolor": "white",
            "gridwidth": 2,
            "linecolor": "white",
            "showbackground": true,
            "ticks": "",
            "zerolinecolor": "white"
           }
          },
          "shapedefaults": {
           "line": {
            "color": "#2a3f5f"
           }
          },
          "ternary": {
           "aaxis": {
            "gridcolor": "white",
            "linecolor": "white",
            "ticks": ""
           },
           "baxis": {
            "gridcolor": "white",
            "linecolor": "white",
            "ticks": ""
           },
           "bgcolor": "#E5ECF6",
           "caxis": {
            "gridcolor": "white",
            "linecolor": "white",
            "ticks": ""
           }
          },
          "title": {
           "x": 0.05
          },
          "xaxis": {
           "automargin": true,
           "gridcolor": "white",
           "linecolor": "white",
           "ticks": "",
           "title": {
            "standoff": 15
           },
           "zerolinecolor": "white",
           "zerolinewidth": 2
          },
          "yaxis": {
           "automargin": true,
           "gridcolor": "white",
           "linecolor": "white",
           "ticks": "",
           "title": {
            "standoff": 15
           },
           "zerolinecolor": "white",
           "zerolinewidth": 2
          }
         }
        },
        "title": {
         "text": "Sentiment Analysis on Topic 0"
        },
        "xaxis": {
         "anchor": "y",
         "domain": [
          0,
          1
         ],
         "title": {
          "text": "Subjectivity Score"
         }
        },
        "yaxis": {
         "anchor": "x",
         "domain": [
          0,
          1
         ],
         "title": {
          "text": "Sentiment Score"
         }
        }
       }
      }
     },
     "metadata": {},
     "output_type": "display_data"
    },
    {
     "data": {
      "application/vnd.plotly.v1+json": {
       "config": {
        "plotlyServerURL": "https://plot.ly"
       },
       "data": [
        {
         "hovertemplate": "<b>%{hovertext}</b><br><br>Subjectivity Score=%{x}<br>Sentiment Score=%{y}<br>Main Topic Score=%{marker.size}<extra></extra>",
         "hovertext": [
          "time.com",
          "seekingalpha.com",
          "tinyurl.com",
          "meaww.com",
          "go.shr.lc",
          "punchbowl.news"
         ],
         "legendgroup": "",
         "marker": {
          "color": "#636efa",
          "size": [
           0.9967729449272156,
           0.9991601705551147,
           0.9192842841148376,
           0.5326565504074097,
           0.9981955885887146,
           0.9946090579032898
          ],
          "sizemode": "area",
          "sizeref": 0.002497900426387787,
          "symbol": "circle"
         },
         "mode": "markers",
         "name": "",
         "orientation": "v",
         "showlegend": false,
         "type": "scatter",
         "x": [
          0.43,
          0.43,
          0.51,
          0.37,
          0.5,
          0.41
         ],
         "xaxis": "x",
         "y": [
          0.1,
          0.13,
          0.03,
          0.16,
          0.09,
          0.07
         ],
         "yaxis": "y"
        }
       ],
       "layout": {
        "legend": {
         "itemsizing": "constant",
         "tracegroupgap": 0
        },
        "template": {
         "data": {
          "bar": [
           {
            "error_x": {
             "color": "#2a3f5f"
            },
            "error_y": {
             "color": "#2a3f5f"
            },
            "marker": {
             "line": {
              "color": "#E5ECF6",
              "width": 0.5
             },
             "pattern": {
              "fillmode": "overlay",
              "size": 10,
              "solidity": 0.2
             }
            },
            "type": "bar"
           }
          ],
          "barpolar": [
           {
            "marker": {
             "line": {
              "color": "#E5ECF6",
              "width": 0.5
             },
             "pattern": {
              "fillmode": "overlay",
              "size": 10,
              "solidity": 0.2
             }
            },
            "type": "barpolar"
           }
          ],
          "carpet": [
           {
            "aaxis": {
             "endlinecolor": "#2a3f5f",
             "gridcolor": "white",
             "linecolor": "white",
             "minorgridcolor": "white",
             "startlinecolor": "#2a3f5f"
            },
            "baxis": {
             "endlinecolor": "#2a3f5f",
             "gridcolor": "white",
             "linecolor": "white",
             "minorgridcolor": "white",
             "startlinecolor": "#2a3f5f"
            },
            "type": "carpet"
           }
          ],
          "choropleth": [
           {
            "colorbar": {
             "outlinewidth": 0,
             "ticks": ""
            },
            "type": "choropleth"
           }
          ],
          "contour": [
           {
            "colorbar": {
             "outlinewidth": 0,
             "ticks": ""
            },
            "colorscale": [
             [
              0,
              "#0d0887"
             ],
             [
              0.1111111111111111,
              "#46039f"
             ],
             [
              0.2222222222222222,
              "#7201a8"
             ],
             [
              0.3333333333333333,
              "#9c179e"
             ],
             [
              0.4444444444444444,
              "#bd3786"
             ],
             [
              0.5555555555555556,
              "#d8576b"
             ],
             [
              0.6666666666666666,
              "#ed7953"
             ],
             [
              0.7777777777777778,
              "#fb9f3a"
             ],
             [
              0.8888888888888888,
              "#fdca26"
             ],
             [
              1,
              "#f0f921"
             ]
            ],
            "type": "contour"
           }
          ],
          "contourcarpet": [
           {
            "colorbar": {
             "outlinewidth": 0,
             "ticks": ""
            },
            "type": "contourcarpet"
           }
          ],
          "heatmap": [
           {
            "colorbar": {
             "outlinewidth": 0,
             "ticks": ""
            },
            "colorscale": [
             [
              0,
              "#0d0887"
             ],
             [
              0.1111111111111111,
              "#46039f"
             ],
             [
              0.2222222222222222,
              "#7201a8"
             ],
             [
              0.3333333333333333,
              "#9c179e"
             ],
             [
              0.4444444444444444,
              "#bd3786"
             ],
             [
              0.5555555555555556,
              "#d8576b"
             ],
             [
              0.6666666666666666,
              "#ed7953"
             ],
             [
              0.7777777777777778,
              "#fb9f3a"
             ],
             [
              0.8888888888888888,
              "#fdca26"
             ],
             [
              1,
              "#f0f921"
             ]
            ],
            "type": "heatmap"
           }
          ],
          "heatmapgl": [
           {
            "colorbar": {
             "outlinewidth": 0,
             "ticks": ""
            },
            "colorscale": [
             [
              0,
              "#0d0887"
             ],
             [
              0.1111111111111111,
              "#46039f"
             ],
             [
              0.2222222222222222,
              "#7201a8"
             ],
             [
              0.3333333333333333,
              "#9c179e"
             ],
             [
              0.4444444444444444,
              "#bd3786"
             ],
             [
              0.5555555555555556,
              "#d8576b"
             ],
             [
              0.6666666666666666,
              "#ed7953"
             ],
             [
              0.7777777777777778,
              "#fb9f3a"
             ],
             [
              0.8888888888888888,
              "#fdca26"
             ],
             [
              1,
              "#f0f921"
             ]
            ],
            "type": "heatmapgl"
           }
          ],
          "histogram": [
           {
            "marker": {
             "pattern": {
              "fillmode": "overlay",
              "size": 10,
              "solidity": 0.2
             }
            },
            "type": "histogram"
           }
          ],
          "histogram2d": [
           {
            "colorbar": {
             "outlinewidth": 0,
             "ticks": ""
            },
            "colorscale": [
             [
              0,
              "#0d0887"
             ],
             [
              0.1111111111111111,
              "#46039f"
             ],
             [
              0.2222222222222222,
              "#7201a8"
             ],
             [
              0.3333333333333333,
              "#9c179e"
             ],
             [
              0.4444444444444444,
              "#bd3786"
             ],
             [
              0.5555555555555556,
              "#d8576b"
             ],
             [
              0.6666666666666666,
              "#ed7953"
             ],
             [
              0.7777777777777778,
              "#fb9f3a"
             ],
             [
              0.8888888888888888,
              "#fdca26"
             ],
             [
              1,
              "#f0f921"
             ]
            ],
            "type": "histogram2d"
           }
          ],
          "histogram2dcontour": [
           {
            "colorbar": {
             "outlinewidth": 0,
             "ticks": ""
            },
            "colorscale": [
             [
              0,
              "#0d0887"
             ],
             [
              0.1111111111111111,
              "#46039f"
             ],
             [
              0.2222222222222222,
              "#7201a8"
             ],
             [
              0.3333333333333333,
              "#9c179e"
             ],
             [
              0.4444444444444444,
              "#bd3786"
             ],
             [
              0.5555555555555556,
              "#d8576b"
             ],
             [
              0.6666666666666666,
              "#ed7953"
             ],
             [
              0.7777777777777778,
              "#fb9f3a"
             ],
             [
              0.8888888888888888,
              "#fdca26"
             ],
             [
              1,
              "#f0f921"
             ]
            ],
            "type": "histogram2dcontour"
           }
          ],
          "mesh3d": [
           {
            "colorbar": {
             "outlinewidth": 0,
             "ticks": ""
            },
            "type": "mesh3d"
           }
          ],
          "parcoords": [
           {
            "line": {
             "colorbar": {
              "outlinewidth": 0,
              "ticks": ""
             }
            },
            "type": "parcoords"
           }
          ],
          "pie": [
           {
            "automargin": true,
            "type": "pie"
           }
          ],
          "scatter": [
           {
            "fillpattern": {
             "fillmode": "overlay",
             "size": 10,
             "solidity": 0.2
            },
            "type": "scatter"
           }
          ],
          "scatter3d": [
           {
            "line": {
             "colorbar": {
              "outlinewidth": 0,
              "ticks": ""
             }
            },
            "marker": {
             "colorbar": {
              "outlinewidth": 0,
              "ticks": ""
             }
            },
            "type": "scatter3d"
           }
          ],
          "scattercarpet": [
           {
            "marker": {
             "colorbar": {
              "outlinewidth": 0,
              "ticks": ""
             }
            },
            "type": "scattercarpet"
           }
          ],
          "scattergeo": [
           {
            "marker": {
             "colorbar": {
              "outlinewidth": 0,
              "ticks": ""
             }
            },
            "type": "scattergeo"
           }
          ],
          "scattergl": [
           {
            "marker": {
             "colorbar": {
              "outlinewidth": 0,
              "ticks": ""
             }
            },
            "type": "scattergl"
           }
          ],
          "scattermapbox": [
           {
            "marker": {
             "colorbar": {
              "outlinewidth": 0,
              "ticks": ""
             }
            },
            "type": "scattermapbox"
           }
          ],
          "scatterpolar": [
           {
            "marker": {
             "colorbar": {
              "outlinewidth": 0,
              "ticks": ""
             }
            },
            "type": "scatterpolar"
           }
          ],
          "scatterpolargl": [
           {
            "marker": {
             "colorbar": {
              "outlinewidth": 0,
              "ticks": ""
             }
            },
            "type": "scatterpolargl"
           }
          ],
          "scatterternary": [
           {
            "marker": {
             "colorbar": {
              "outlinewidth": 0,
              "ticks": ""
             }
            },
            "type": "scatterternary"
           }
          ],
          "surface": [
           {
            "colorbar": {
             "outlinewidth": 0,
             "ticks": ""
            },
            "colorscale": [
             [
              0,
              "#0d0887"
             ],
             [
              0.1111111111111111,
              "#46039f"
             ],
             [
              0.2222222222222222,
              "#7201a8"
             ],
             [
              0.3333333333333333,
              "#9c179e"
             ],
             [
              0.4444444444444444,
              "#bd3786"
             ],
             [
              0.5555555555555556,
              "#d8576b"
             ],
             [
              0.6666666666666666,
              "#ed7953"
             ],
             [
              0.7777777777777778,
              "#fb9f3a"
             ],
             [
              0.8888888888888888,
              "#fdca26"
             ],
             [
              1,
              "#f0f921"
             ]
            ],
            "type": "surface"
           }
          ],
          "table": [
           {
            "cells": {
             "fill": {
              "color": "#EBF0F8"
             },
             "line": {
              "color": "white"
             }
            },
            "header": {
             "fill": {
              "color": "#C8D4E3"
             },
             "line": {
              "color": "white"
             }
            },
            "type": "table"
           }
          ]
         },
         "layout": {
          "annotationdefaults": {
           "arrowcolor": "#2a3f5f",
           "arrowhead": 0,
           "arrowwidth": 1
          },
          "autotypenumbers": "strict",
          "coloraxis": {
           "colorbar": {
            "outlinewidth": 0,
            "ticks": ""
           }
          },
          "colorscale": {
           "diverging": [
            [
             0,
             "#8e0152"
            ],
            [
             0.1,
             "#c51b7d"
            ],
            [
             0.2,
             "#de77ae"
            ],
            [
             0.3,
             "#f1b6da"
            ],
            [
             0.4,
             "#fde0ef"
            ],
            [
             0.5,
             "#f7f7f7"
            ],
            [
             0.6,
             "#e6f5d0"
            ],
            [
             0.7,
             "#b8e186"
            ],
            [
             0.8,
             "#7fbc41"
            ],
            [
             0.9,
             "#4d9221"
            ],
            [
             1,
             "#276419"
            ]
           ],
           "sequential": [
            [
             0,
             "#0d0887"
            ],
            [
             0.1111111111111111,
             "#46039f"
            ],
            [
             0.2222222222222222,
             "#7201a8"
            ],
            [
             0.3333333333333333,
             "#9c179e"
            ],
            [
             0.4444444444444444,
             "#bd3786"
            ],
            [
             0.5555555555555556,
             "#d8576b"
            ],
            [
             0.6666666666666666,
             "#ed7953"
            ],
            [
             0.7777777777777778,
             "#fb9f3a"
            ],
            [
             0.8888888888888888,
             "#fdca26"
            ],
            [
             1,
             "#f0f921"
            ]
           ],
           "sequentialminus": [
            [
             0,
             "#0d0887"
            ],
            [
             0.1111111111111111,
             "#46039f"
            ],
            [
             0.2222222222222222,
             "#7201a8"
            ],
            [
             0.3333333333333333,
             "#9c179e"
            ],
            [
             0.4444444444444444,
             "#bd3786"
            ],
            [
             0.5555555555555556,
             "#d8576b"
            ],
            [
             0.6666666666666666,
             "#ed7953"
            ],
            [
             0.7777777777777778,
             "#fb9f3a"
            ],
            [
             0.8888888888888888,
             "#fdca26"
            ],
            [
             1,
             "#f0f921"
            ]
           ]
          },
          "colorway": [
           "#636efa",
           "#EF553B",
           "#00cc96",
           "#ab63fa",
           "#FFA15A",
           "#19d3f3",
           "#FF6692",
           "#B6E880",
           "#FF97FF",
           "#FECB52"
          ],
          "font": {
           "color": "#2a3f5f"
          },
          "geo": {
           "bgcolor": "white",
           "lakecolor": "white",
           "landcolor": "#E5ECF6",
           "showlakes": true,
           "showland": true,
           "subunitcolor": "white"
          },
          "hoverlabel": {
           "align": "left"
          },
          "hovermode": "closest",
          "mapbox": {
           "style": "light"
          },
          "paper_bgcolor": "white",
          "plot_bgcolor": "#E5ECF6",
          "polar": {
           "angularaxis": {
            "gridcolor": "white",
            "linecolor": "white",
            "ticks": ""
           },
           "bgcolor": "#E5ECF6",
           "radialaxis": {
            "gridcolor": "white",
            "linecolor": "white",
            "ticks": ""
           }
          },
          "scene": {
           "xaxis": {
            "backgroundcolor": "#E5ECF6",
            "gridcolor": "white",
            "gridwidth": 2,
            "linecolor": "white",
            "showbackground": true,
            "ticks": "",
            "zerolinecolor": "white"
           },
           "yaxis": {
            "backgroundcolor": "#E5ECF6",
            "gridcolor": "white",
            "gridwidth": 2,
            "linecolor": "white",
            "showbackground": true,
            "ticks": "",
            "zerolinecolor": "white"
           },
           "zaxis": {
            "backgroundcolor": "#E5ECF6",
            "gridcolor": "white",
            "gridwidth": 2,
            "linecolor": "white",
            "showbackground": true,
            "ticks": "",
            "zerolinecolor": "white"
           }
          },
          "shapedefaults": {
           "line": {
            "color": "#2a3f5f"
           }
          },
          "ternary": {
           "aaxis": {
            "gridcolor": "white",
            "linecolor": "white",
            "ticks": ""
           },
           "baxis": {
            "gridcolor": "white",
            "linecolor": "white",
            "ticks": ""
           },
           "bgcolor": "#E5ECF6",
           "caxis": {
            "gridcolor": "white",
            "linecolor": "white",
            "ticks": ""
           }
          },
          "title": {
           "x": 0.05
          },
          "xaxis": {
           "automargin": true,
           "gridcolor": "white",
           "linecolor": "white",
           "ticks": "",
           "title": {
            "standoff": 15
           },
           "zerolinecolor": "white",
           "zerolinewidth": 2
          },
          "yaxis": {
           "automargin": true,
           "gridcolor": "white",
           "linecolor": "white",
           "ticks": "",
           "title": {
            "standoff": 15
           },
           "zerolinecolor": "white",
           "zerolinewidth": 2
          }
         }
        },
        "title": {
         "text": "Sentiment Analysis on Topic 1"
        },
        "xaxis": {
         "anchor": "y",
         "domain": [
          0,
          1
         ],
         "title": {
          "text": "Subjectivity Score"
         }
        },
        "yaxis": {
         "anchor": "x",
         "domain": [
          0,
          1
         ],
         "title": {
          "text": "Sentiment Score"
         }
        }
       }
      }
     },
     "metadata": {},
     "output_type": "display_data"
    },
    {
     "data": {
      "application/vnd.plotly.v1+json": {
       "config": {
        "plotlyServerURL": "https://plot.ly"
       },
       "data": [
        {
         "hovertemplate": "<b>%{hovertext}</b><br><br>Subjectivity Score=%{x}<br>Sentiment Score=%{y}<br>Main Topic Score=%{marker.size}<extra></extra>",
         "hovertext": [
          "www.theepochtimes.com",
          "dlvr.it",
          "ca.news.yahoo.com",
          "www.newsbreakapp.com",
          "www.kosu.org",
          "flip.it",
          "theshahab.com",
          "trib.al",
          "l.smartnews.com",
          "share.newsbreak.com",
          "nbcnews.to",
          "wapo.st",
          "bismarcktribune.com",
          "www.nbcnews.com",
          "www.theepochtimes.com",
          "www.nbcnews.com",
          "www.audacy.com",
          "rollingstone.com",
          "www.independent.co.uk",
          "www.ncronline.org",
          "dlvr.it",
          "www.thenewcivilrightsmovement.com",
          "ift.tt",
          "www.independent.co.uk",
          "crooksandliars.com",
          "flip.it",
          "buff.ly",
          "NBC11NEWS.com",
          "www.newsmax.com",
          "www.courttv.com",
          "www.msnbc.com",
          "www.dailymail.co.uk",
          "news.yahoo.com",
          "www.latimes.com",
          "www.newsnationnow.com"
         ],
         "legendgroup": "",
         "marker": {
          "color": "#636efa",
          "size": [
           0.9966281652450562,
           0.9909970164299011,
           0.7608699798583984,
           0.9949123859405518,
           0.9953108429908752,
           0.7929211258888245,
           0.9970078468322754,
           0.47938165068626404,
           0.9943010210990906,
           0.9124060869216919,
           0.9959080219268799,
           0.6768201589584351,
           0.9888858795166016,
           0.9978305697441101,
           0.996496319770813,
           0.9949133992195129,
           0.9612807631492615,
           0.8893541097640991,
           0.6052969694137573,
           0.6017751097679138,
           0.9971855282783508,
           0.9954760074615479,
           0.8846411108970642,
           0.4535415768623352,
           0.62282395362854,
           0.9975796341896057,
           0.7518557906150818,
           0.6132199764251709,
           0.9909955859184265,
           0.8225491046905518,
           0.644139289855957,
           0.9281356930732727,
           0.9947041273117065,
           0.9984791278839111,
           0.993791401386261
          ],
          "sizemode": "area",
          "sizeref": 0.002496197819709778,
          "symbol": "circle"
         },
         "mode": "markers",
         "name": "",
         "orientation": "v",
         "showlegend": false,
         "type": "scatter",
         "x": [
          0.33,
          0.42,
          0.42,
          0.39,
          0.32,
          0.39,
          0.27,
          0.42,
          0.48,
          0.39,
          0.39,
          0.5,
          0.37,
          0.36,
          0.43,
          0.46,
          0.44,
          0.39,
          0.44,
          0.51,
          0.39,
          0.39,
          0.29,
          0.53,
          0.66,
          0.37,
          0.37,
          0.44,
          0.53,
          0.44,
          0.49,
          0.35,
          0.36,
          0.43,
          0.4
         ],
         "xaxis": "x",
         "y": [
          -0.02,
          0.18,
          0.06,
          0.01,
          0.02,
          0.05,
          0.07,
          -0.03,
          0.12,
          0.07,
          -0.01,
          0.13,
          0.04,
          -0.06,
          0.05,
          0.06,
          -0.05,
          0.01,
          -0.05,
          0.09,
          0.02,
          -0.02,
          0.05,
          -0.07,
          -0.2,
          0.08,
          0.08,
          -0.04,
          -0.27,
          -0.08,
          -0.07,
          0.08,
          -0.16,
          0.05,
          0.04
         ],
         "yaxis": "y"
        }
       ],
       "layout": {
        "legend": {
         "itemsizing": "constant",
         "tracegroupgap": 0
        },
        "template": {
         "data": {
          "bar": [
           {
            "error_x": {
             "color": "#2a3f5f"
            },
            "error_y": {
             "color": "#2a3f5f"
            },
            "marker": {
             "line": {
              "color": "#E5ECF6",
              "width": 0.5
             },
             "pattern": {
              "fillmode": "overlay",
              "size": 10,
              "solidity": 0.2
             }
            },
            "type": "bar"
           }
          ],
          "barpolar": [
           {
            "marker": {
             "line": {
              "color": "#E5ECF6",
              "width": 0.5
             },
             "pattern": {
              "fillmode": "overlay",
              "size": 10,
              "solidity": 0.2
             }
            },
            "type": "barpolar"
           }
          ],
          "carpet": [
           {
            "aaxis": {
             "endlinecolor": "#2a3f5f",
             "gridcolor": "white",
             "linecolor": "white",
             "minorgridcolor": "white",
             "startlinecolor": "#2a3f5f"
            },
            "baxis": {
             "endlinecolor": "#2a3f5f",
             "gridcolor": "white",
             "linecolor": "white",
             "minorgridcolor": "white",
             "startlinecolor": "#2a3f5f"
            },
            "type": "carpet"
           }
          ],
          "choropleth": [
           {
            "colorbar": {
             "outlinewidth": 0,
             "ticks": ""
            },
            "type": "choropleth"
           }
          ],
          "contour": [
           {
            "colorbar": {
             "outlinewidth": 0,
             "ticks": ""
            },
            "colorscale": [
             [
              0,
              "#0d0887"
             ],
             [
              0.1111111111111111,
              "#46039f"
             ],
             [
              0.2222222222222222,
              "#7201a8"
             ],
             [
              0.3333333333333333,
              "#9c179e"
             ],
             [
              0.4444444444444444,
              "#bd3786"
             ],
             [
              0.5555555555555556,
              "#d8576b"
             ],
             [
              0.6666666666666666,
              "#ed7953"
             ],
             [
              0.7777777777777778,
              "#fb9f3a"
             ],
             [
              0.8888888888888888,
              "#fdca26"
             ],
             [
              1,
              "#f0f921"
             ]
            ],
            "type": "contour"
           }
          ],
          "contourcarpet": [
           {
            "colorbar": {
             "outlinewidth": 0,
             "ticks": ""
            },
            "type": "contourcarpet"
           }
          ],
          "heatmap": [
           {
            "colorbar": {
             "outlinewidth": 0,
             "ticks": ""
            },
            "colorscale": [
             [
              0,
              "#0d0887"
             ],
             [
              0.1111111111111111,
              "#46039f"
             ],
             [
              0.2222222222222222,
              "#7201a8"
             ],
             [
              0.3333333333333333,
              "#9c179e"
             ],
             [
              0.4444444444444444,
              "#bd3786"
             ],
             [
              0.5555555555555556,
              "#d8576b"
             ],
             [
              0.6666666666666666,
              "#ed7953"
             ],
             [
              0.7777777777777778,
              "#fb9f3a"
             ],
             [
              0.8888888888888888,
              "#fdca26"
             ],
             [
              1,
              "#f0f921"
             ]
            ],
            "type": "heatmap"
           }
          ],
          "heatmapgl": [
           {
            "colorbar": {
             "outlinewidth": 0,
             "ticks": ""
            },
            "colorscale": [
             [
              0,
              "#0d0887"
             ],
             [
              0.1111111111111111,
              "#46039f"
             ],
             [
              0.2222222222222222,
              "#7201a8"
             ],
             [
              0.3333333333333333,
              "#9c179e"
             ],
             [
              0.4444444444444444,
              "#bd3786"
             ],
             [
              0.5555555555555556,
              "#d8576b"
             ],
             [
              0.6666666666666666,
              "#ed7953"
             ],
             [
              0.7777777777777778,
              "#fb9f3a"
             ],
             [
              0.8888888888888888,
              "#fdca26"
             ],
             [
              1,
              "#f0f921"
             ]
            ],
            "type": "heatmapgl"
           }
          ],
          "histogram": [
           {
            "marker": {
             "pattern": {
              "fillmode": "overlay",
              "size": 10,
              "solidity": 0.2
             }
            },
            "type": "histogram"
           }
          ],
          "histogram2d": [
           {
            "colorbar": {
             "outlinewidth": 0,
             "ticks": ""
            },
            "colorscale": [
             [
              0,
              "#0d0887"
             ],
             [
              0.1111111111111111,
              "#46039f"
             ],
             [
              0.2222222222222222,
              "#7201a8"
             ],
             [
              0.3333333333333333,
              "#9c179e"
             ],
             [
              0.4444444444444444,
              "#bd3786"
             ],
             [
              0.5555555555555556,
              "#d8576b"
             ],
             [
              0.6666666666666666,
              "#ed7953"
             ],
             [
              0.7777777777777778,
              "#fb9f3a"
             ],
             [
              0.8888888888888888,
              "#fdca26"
             ],
             [
              1,
              "#f0f921"
             ]
            ],
            "type": "histogram2d"
           }
          ],
          "histogram2dcontour": [
           {
            "colorbar": {
             "outlinewidth": 0,
             "ticks": ""
            },
            "colorscale": [
             [
              0,
              "#0d0887"
             ],
             [
              0.1111111111111111,
              "#46039f"
             ],
             [
              0.2222222222222222,
              "#7201a8"
             ],
             [
              0.3333333333333333,
              "#9c179e"
             ],
             [
              0.4444444444444444,
              "#bd3786"
             ],
             [
              0.5555555555555556,
              "#d8576b"
             ],
             [
              0.6666666666666666,
              "#ed7953"
             ],
             [
              0.7777777777777778,
              "#fb9f3a"
             ],
             [
              0.8888888888888888,
              "#fdca26"
             ],
             [
              1,
              "#f0f921"
             ]
            ],
            "type": "histogram2dcontour"
           }
          ],
          "mesh3d": [
           {
            "colorbar": {
             "outlinewidth": 0,
             "ticks": ""
            },
            "type": "mesh3d"
           }
          ],
          "parcoords": [
           {
            "line": {
             "colorbar": {
              "outlinewidth": 0,
              "ticks": ""
             }
            },
            "type": "parcoords"
           }
          ],
          "pie": [
           {
            "automargin": true,
            "type": "pie"
           }
          ],
          "scatter": [
           {
            "fillpattern": {
             "fillmode": "overlay",
             "size": 10,
             "solidity": 0.2
            },
            "type": "scatter"
           }
          ],
          "scatter3d": [
           {
            "line": {
             "colorbar": {
              "outlinewidth": 0,
              "ticks": ""
             }
            },
            "marker": {
             "colorbar": {
              "outlinewidth": 0,
              "ticks": ""
             }
            },
            "type": "scatter3d"
           }
          ],
          "scattercarpet": [
           {
            "marker": {
             "colorbar": {
              "outlinewidth": 0,
              "ticks": ""
             }
            },
            "type": "scattercarpet"
           }
          ],
          "scattergeo": [
           {
            "marker": {
             "colorbar": {
              "outlinewidth": 0,
              "ticks": ""
             }
            },
            "type": "scattergeo"
           }
          ],
          "scattergl": [
           {
            "marker": {
             "colorbar": {
              "outlinewidth": 0,
              "ticks": ""
             }
            },
            "type": "scattergl"
           }
          ],
          "scattermapbox": [
           {
            "marker": {
             "colorbar": {
              "outlinewidth": 0,
              "ticks": ""
             }
            },
            "type": "scattermapbox"
           }
          ],
          "scatterpolar": [
           {
            "marker": {
             "colorbar": {
              "outlinewidth": 0,
              "ticks": ""
             }
            },
            "type": "scatterpolar"
           }
          ],
          "scatterpolargl": [
           {
            "marker": {
             "colorbar": {
              "outlinewidth": 0,
              "ticks": ""
             }
            },
            "type": "scatterpolargl"
           }
          ],
          "scatterternary": [
           {
            "marker": {
             "colorbar": {
              "outlinewidth": 0,
              "ticks": ""
             }
            },
            "type": "scatterternary"
           }
          ],
          "surface": [
           {
            "colorbar": {
             "outlinewidth": 0,
             "ticks": ""
            },
            "colorscale": [
             [
              0,
              "#0d0887"
             ],
             [
              0.1111111111111111,
              "#46039f"
             ],
             [
              0.2222222222222222,
              "#7201a8"
             ],
             [
              0.3333333333333333,
              "#9c179e"
             ],
             [
              0.4444444444444444,
              "#bd3786"
             ],
             [
              0.5555555555555556,
              "#d8576b"
             ],
             [
              0.6666666666666666,
              "#ed7953"
             ],
             [
              0.7777777777777778,
              "#fb9f3a"
             ],
             [
              0.8888888888888888,
              "#fdca26"
             ],
             [
              1,
              "#f0f921"
             ]
            ],
            "type": "surface"
           }
          ],
          "table": [
           {
            "cells": {
             "fill": {
              "color": "#EBF0F8"
             },
             "line": {
              "color": "white"
             }
            },
            "header": {
             "fill": {
              "color": "#C8D4E3"
             },
             "line": {
              "color": "white"
             }
            },
            "type": "table"
           }
          ]
         },
         "layout": {
          "annotationdefaults": {
           "arrowcolor": "#2a3f5f",
           "arrowhead": 0,
           "arrowwidth": 1
          },
          "autotypenumbers": "strict",
          "coloraxis": {
           "colorbar": {
            "outlinewidth": 0,
            "ticks": ""
           }
          },
          "colorscale": {
           "diverging": [
            [
             0,
             "#8e0152"
            ],
            [
             0.1,
             "#c51b7d"
            ],
            [
             0.2,
             "#de77ae"
            ],
            [
             0.3,
             "#f1b6da"
            ],
            [
             0.4,
             "#fde0ef"
            ],
            [
             0.5,
             "#f7f7f7"
            ],
            [
             0.6,
             "#e6f5d0"
            ],
            [
             0.7,
             "#b8e186"
            ],
            [
             0.8,
             "#7fbc41"
            ],
            [
             0.9,
             "#4d9221"
            ],
            [
             1,
             "#276419"
            ]
           ],
           "sequential": [
            [
             0,
             "#0d0887"
            ],
            [
             0.1111111111111111,
             "#46039f"
            ],
            [
             0.2222222222222222,
             "#7201a8"
            ],
            [
             0.3333333333333333,
             "#9c179e"
            ],
            [
             0.4444444444444444,
             "#bd3786"
            ],
            [
             0.5555555555555556,
             "#d8576b"
            ],
            [
             0.6666666666666666,
             "#ed7953"
            ],
            [
             0.7777777777777778,
             "#fb9f3a"
            ],
            [
             0.8888888888888888,
             "#fdca26"
            ],
            [
             1,
             "#f0f921"
            ]
           ],
           "sequentialminus": [
            [
             0,
             "#0d0887"
            ],
            [
             0.1111111111111111,
             "#46039f"
            ],
            [
             0.2222222222222222,
             "#7201a8"
            ],
            [
             0.3333333333333333,
             "#9c179e"
            ],
            [
             0.4444444444444444,
             "#bd3786"
            ],
            [
             0.5555555555555556,
             "#d8576b"
            ],
            [
             0.6666666666666666,
             "#ed7953"
            ],
            [
             0.7777777777777778,
             "#fb9f3a"
            ],
            [
             0.8888888888888888,
             "#fdca26"
            ],
            [
             1,
             "#f0f921"
            ]
           ]
          },
          "colorway": [
           "#636efa",
           "#EF553B",
           "#00cc96",
           "#ab63fa",
           "#FFA15A",
           "#19d3f3",
           "#FF6692",
           "#B6E880",
           "#FF97FF",
           "#FECB52"
          ],
          "font": {
           "color": "#2a3f5f"
          },
          "geo": {
           "bgcolor": "white",
           "lakecolor": "white",
           "landcolor": "#E5ECF6",
           "showlakes": true,
           "showland": true,
           "subunitcolor": "white"
          },
          "hoverlabel": {
           "align": "left"
          },
          "hovermode": "closest",
          "mapbox": {
           "style": "light"
          },
          "paper_bgcolor": "white",
          "plot_bgcolor": "#E5ECF6",
          "polar": {
           "angularaxis": {
            "gridcolor": "white",
            "linecolor": "white",
            "ticks": ""
           },
           "bgcolor": "#E5ECF6",
           "radialaxis": {
            "gridcolor": "white",
            "linecolor": "white",
            "ticks": ""
           }
          },
          "scene": {
           "xaxis": {
            "backgroundcolor": "#E5ECF6",
            "gridcolor": "white",
            "gridwidth": 2,
            "linecolor": "white",
            "showbackground": true,
            "ticks": "",
            "zerolinecolor": "white"
           },
           "yaxis": {
            "backgroundcolor": "#E5ECF6",
            "gridcolor": "white",
            "gridwidth": 2,
            "linecolor": "white",
            "showbackground": true,
            "ticks": "",
            "zerolinecolor": "white"
           },
           "zaxis": {
            "backgroundcolor": "#E5ECF6",
            "gridcolor": "white",
            "gridwidth": 2,
            "linecolor": "white",
            "showbackground": true,
            "ticks": "",
            "zerolinecolor": "white"
           }
          },
          "shapedefaults": {
           "line": {
            "color": "#2a3f5f"
           }
          },
          "ternary": {
           "aaxis": {
            "gridcolor": "white",
            "linecolor": "white",
            "ticks": ""
           },
           "baxis": {
            "gridcolor": "white",
            "linecolor": "white",
            "ticks": ""
           },
           "bgcolor": "#E5ECF6",
           "caxis": {
            "gridcolor": "white",
            "linecolor": "white",
            "ticks": ""
           }
          },
          "title": {
           "x": 0.05
          },
          "xaxis": {
           "automargin": true,
           "gridcolor": "white",
           "linecolor": "white",
           "ticks": "",
           "title": {
            "standoff": 15
           },
           "zerolinecolor": "white",
           "zerolinewidth": 2
          },
          "yaxis": {
           "automargin": true,
           "gridcolor": "white",
           "linecolor": "white",
           "ticks": "",
           "title": {
            "standoff": 15
           },
           "zerolinecolor": "white",
           "zerolinewidth": 2
          }
         }
        },
        "title": {
         "text": "Sentiment Analysis on Topic 8"
        },
        "xaxis": {
         "anchor": "y",
         "domain": [
          0,
          1
         ],
         "title": {
          "text": "Subjectivity Score"
         }
        },
        "yaxis": {
         "anchor": "x",
         "domain": [
          0,
          1
         ],
         "title": {
          "text": "Sentiment Score"
         }
        }
       }
      }
     },
     "metadata": {},
     "output_type": "display_data"
    }
   ],
   "source": [
    "# Using our list_of_topics_to_visualize list in the customizable settings, \n",
    "# produce a graph for each topic\n",
    "for topic in list_of_topics_to_visualize:\n",
    "    visualize_single_topic_subjectivity_vs_sentiment(df, topic)\n"
   ]
  },
  {
   "cell_type": "markdown",
   "id": "f184ac6b",
   "metadata": {},
   "source": [
    "## K means Clustering"
   ]
  },
  {
   "cell_type": "markdown",
   "id": "84b465b0",
   "metadata": {},
   "source": [
    "Generate a visual of number of topic clusters vs inertia of the model (low inertia is good)"
   ]
  },
  {
   "cell_type": "code",
   "execution_count": 43,
   "id": "65098654",
   "metadata": {
    "scrolled": false
   },
   "outputs": [
    {
     "name": "stderr",
     "output_type": "stream",
     "text": [
      "c:\\Users\\seaha\\anaconda3\\envs\\434hw\\lib\\site-packages\\sklearn\\utils\\validation.py:767: FutureWarning:\n",
      "\n",
      "is_sparse is deprecated and will be removed in a future version. Check `isinstance(dtype, pd.SparseDtype)` instead.\n",
      "\n",
      "c:\\Users\\seaha\\anaconda3\\envs\\434hw\\lib\\site-packages\\sklearn\\utils\\validation.py:605: FutureWarning:\n",
      "\n",
      "is_sparse is deprecated and will be removed in a future version. Check `isinstance(dtype, pd.SparseDtype)` instead.\n",
      "\n",
      "c:\\Users\\seaha\\anaconda3\\envs\\434hw\\lib\\site-packages\\sklearn\\utils\\validation.py:614: FutureWarning:\n",
      "\n",
      "is_sparse is deprecated and will be removed in a future version. Check `isinstance(dtype, pd.SparseDtype)` instead.\n",
      "\n",
      "c:\\Users\\seaha\\anaconda3\\envs\\434hw\\lib\\site-packages\\sklearn\\cluster\\_kmeans.py:1382: UserWarning:\n",
      "\n",
      "KMeans is known to have a memory leak on Windows with MKL, when there are less chunks than available threads. You can avoid it by setting the environment variable OMP_NUM_THREADS=1.\n",
      "\n",
      "c:\\Users\\seaha\\anaconda3\\envs\\434hw\\lib\\site-packages\\sklearn\\cluster\\_kmeans.py:1382: UserWarning:\n",
      "\n",
      "KMeans is known to have a memory leak on Windows with MKL, when there are less chunks than available threads. You can avoid it by setting the environment variable OMP_NUM_THREADS=1.\n",
      "\n",
      "c:\\Users\\seaha\\anaconda3\\envs\\434hw\\lib\\site-packages\\sklearn\\cluster\\_kmeans.py:1382: UserWarning:\n",
      "\n",
      "KMeans is known to have a memory leak on Windows with MKL, when there are less chunks than available threads. You can avoid it by setting the environment variable OMP_NUM_THREADS=1.\n",
      "\n",
      "c:\\Users\\seaha\\anaconda3\\envs\\434hw\\lib\\site-packages\\sklearn\\cluster\\_kmeans.py:1382: UserWarning:\n",
      "\n",
      "KMeans is known to have a memory leak on Windows with MKL, when there are less chunks than available threads. You can avoid it by setting the environment variable OMP_NUM_THREADS=1.\n",
      "\n",
      "c:\\Users\\seaha\\anaconda3\\envs\\434hw\\lib\\site-packages\\sklearn\\cluster\\_kmeans.py:1382: UserWarning:\n",
      "\n",
      "KMeans is known to have a memory leak on Windows with MKL, when there are less chunks than available threads. You can avoid it by setting the environment variable OMP_NUM_THREADS=1.\n",
      "\n",
      "c:\\Users\\seaha\\anaconda3\\envs\\434hw\\lib\\site-packages\\sklearn\\cluster\\_kmeans.py:1382: UserWarning:\n",
      "\n",
      "KMeans is known to have a memory leak on Windows with MKL, when there are less chunks than available threads. You can avoid it by setting the environment variable OMP_NUM_THREADS=1.\n",
      "\n",
      "c:\\Users\\seaha\\anaconda3\\envs\\434hw\\lib\\site-packages\\sklearn\\cluster\\_kmeans.py:1382: UserWarning:\n",
      "\n",
      "KMeans is known to have a memory leak on Windows with MKL, when there are less chunks than available threads. You can avoid it by setting the environment variable OMP_NUM_THREADS=1.\n",
      "\n",
      "c:\\Users\\seaha\\anaconda3\\envs\\434hw\\lib\\site-packages\\sklearn\\cluster\\_kmeans.py:1382: UserWarning:\n",
      "\n",
      "KMeans is known to have a memory leak on Windows with MKL, when there are less chunks than available threads. You can avoid it by setting the environment variable OMP_NUM_THREADS=1.\n",
      "\n"
     ]
    },
    {
     "data": {
      "image/png": "[encoded data removed]",
      "text/plain": [
       "<Figure size 720x720 with 1 Axes>"
      ]
     },
     "metadata": {
      "needs_background": "light"
     },
     "output_type": "display_data"
    }
   ],
   "source": [
    "visualize_optimal_cluster_count(df_topics= df_topics,\n",
    "                                max_clusters= kmeans_settings[\"max_clusters\"],\n",
    "                                pca_components= kmeans_settings[\"pca_components\"])\n"
   ]
  },
  {
   "cell_type": "markdown",
   "id": "75cabb2b",
   "metadata": {},
   "source": [
    "Generate actual kmeans clustering"
   ]
  },
  {
   "cell_type": "code",
   "execution_count": 44,
   "id": "75bab1e8",
   "metadata": {},
   "outputs": [
    {
     "name": "stderr",
     "output_type": "stream",
     "text": [
      "c:\\Users\\seaha\\anaconda3\\envs\\434hw\\lib\\site-packages\\sklearn\\utils\\validation.py:767: FutureWarning:\n",
      "\n",
      "is_sparse is deprecated and will be removed in a future version. Check `isinstance(dtype, pd.SparseDtype)` instead.\n",
      "\n",
      "c:\\Users\\seaha\\anaconda3\\envs\\434hw\\lib\\site-packages\\sklearn\\utils\\validation.py:605: FutureWarning:\n",
      "\n",
      "is_sparse is deprecated and will be removed in a future version. Check `isinstance(dtype, pd.SparseDtype)` instead.\n",
      "\n",
      "c:\\Users\\seaha\\anaconda3\\envs\\434hw\\lib\\site-packages\\sklearn\\utils\\validation.py:614: FutureWarning:\n",
      "\n",
      "is_sparse is deprecated and will be removed in a future version. Check `isinstance(dtype, pd.SparseDtype)` instead.\n",
      "\n",
      "c:\\Users\\seaha\\anaconda3\\envs\\434hw\\lib\\site-packages\\sklearn\\cluster\\_kmeans.py:1382: UserWarning:\n",
      "\n",
      "KMeans is known to have a memory leak on Windows with MKL, when there are less chunks than available threads. You can avoid it by setting the environment variable OMP_NUM_THREADS=1.\n",
      "\n"
     ]
    },
    {
     "data": {
      "image/png": "[encoded data removed]",
      "text/plain": [
       "<Figure size 720x720 with 1 Axes>"
      ]
     },
     "metadata": {
      "needs_background": "light"
     },
     "output_type": "display_data"
    }
   ],
   "source": [
    "visualize_kmeans_clustering(df_topics= df_topics,\n",
    "                            num_clusters = kmeans_settings[\"num_clusters\"],\n",
    "                            pca_components = kmeans_settings[\"pca_components\"])\n"
   ]
  }
 ],
 "metadata": {
  "kernelspec": {
   "display_name": "434hw",
   "language": "python",
   "name": "434hw"
  },
  "language_info": {
   "codemirror_mode": {
    "name": "ipython",
    "version": 3
   },
   "file_extension": ".py",
   "mimetype": "text/x-python",
   "name": "python",
   "nbconvert_exporter": "python",
   "pygments_lexer": "ipython3",
   "version": "3.10.4"
  }
 },
 "nbformat": 4,
 "nbformat_minor": 5
}
