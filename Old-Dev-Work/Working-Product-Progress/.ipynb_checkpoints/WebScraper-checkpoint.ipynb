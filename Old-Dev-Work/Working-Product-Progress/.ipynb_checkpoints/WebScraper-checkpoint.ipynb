{
 "cells": [
  {
   "cell_type": "markdown",
   "id": "cd185ac0",
   "metadata": {},
   "source": [
    "# Webscraping\n",
    "All the webscrapping takes place in this code block. Webscraping is being done by Newspaper3k. Webscrapping errors on the side of scraping less of the article to avoid extra text such as ads and other article previews. Also filters out articles that contain repeated phrases (in the case that the article blocks webscrapping and we keep getting error messages), social media platforms, and articles that don't contain enough words."
   ]
  },
  {
   "cell_type": "code",
   "execution_count": 1,
   "id": "68f77d6f",
   "metadata": {},
   "outputs": [],
   "source": [
    "import spacy\n",
    "from spacytextblob.spacytextblob import SpacyTextBlob\n",
    "import pandas as pd\n",
    "import requests\n",
    "from newspaper import Article\n",
    "import numpy as np"
   ]
  },
  {
   "cell_type": "code",
   "execution_count": 2,
   "id": "351de990",
   "metadata": {},
   "outputs": [],
   "source": [
    "# Finds phrases that are repeated and returns them. This is used to avoid hangups on scraping,\n",
    "# such as a webpage that blocks webscrapping.\n",
    "def most_repeated_phrase_count(text):\n",
    "    # Split the text into phrases (e.g., sentences)\n",
    "    phrases = re.split(r'\\.', text)\n",
    "\n",
    "    # Remove leading and trailing spaces from each phrase\n",
    "    phrases = [phrase.strip() for phrase in phrases if phrase.strip()]\n",
    "\n",
    "    # Count the occurrences of each phrase using Counter\n",
    "    phrase_counts = Counter(phrases)\n",
    "\n",
    "    if not phrase_counts:\n",
    "        return 0\n",
    "\n",
    "    # Find the most common phrase and its count\n",
    "    most_common_phrase, count = phrase_counts.most_common(1)[0]\n",
    "    \n",
    "    return count\n",
    "\n",
    "# If the article doesn't contain enough words we get rid of the article\n",
    "def filter_scrape_data(text):\n",
    "    strLength = np.char.count(text, ' ') + 1\n",
    "    if strLength < wordCountFilter or most_repeated_phrase_count(text) >= 6:\n",
    "        print(\"word count \" , strLength)\n",
    "        print(\"repeated phrases\", most_repeated_phrase_count(text))\n",
    "        return False\n",
    "    return True\n",
    "\n",
    "# Removes articles that are a social media platform\n",
    "def filter_social(url): # Filters social platforms that can't be scraped\n",
    "    social_starts_with = [\"https://www.youtube.com\", \"https://youtu.be\", \"https://www.facebook.com\",\n",
    "                          \"https://twitter.com\", \"https://gettr.com/\"]\n",
    "    for y in social_starts_with:\n",
    "        if(url.startswith(y)):\n",
    "            return False\n",
    "    return True\n",
    "\n",
    "# Scraping takes place in this code block\n",
    "def scrapeData(url):\n",
    "    try:\n",
    "        if not filter_social(url):\n",
    "            return \"PARERROR: SocialError\"\n",
    "        else:\n",
    "            article = Article(url)\n",
    "            article.download()\n",
    "            article.parse()\n",
    "            \n",
    "            page_text = (article.text).lower()\n",
    "            \n",
    "            if not filter_scrape_data(page_text):\n",
    "                print(url)\n",
    "                return \"PARERROR: WebBlockerError\"\n",
    "        \n",
    "            page_text = page_text.strip().replace(\"  \",\"\")\n",
    "            page_text = \"\".join([s for s in page_text.splitlines(True) if s.strip(\"\\r\\n\")])\n",
    "            \n",
    "    except:\n",
    "        print(\"Error in scrapeData\")\n",
    "        print(url)\n",
    "        page_text = \"PARERROR: ErrorCouldntParse\"\n",
    "    return page_text"
   ]
  }
 ],
 "metadata": {
  "kernelspec": {
   "display_name": "Python 3 (ipykernel)",
   "language": "python",
   "name": "python3"
  },
  "language_info": {
   "codemirror_mode": {
    "name": "ipython",
    "version": 3
   },
   "file_extension": ".py",
   "mimetype": "text/x-python",
   "name": "python",
   "nbconvert_exporter": "python",
   "pygments_lexer": "ipython3",
   "version": "3.10.4"
  }
 },
 "nbformat": 4,
 "nbformat_minor": 5
}
