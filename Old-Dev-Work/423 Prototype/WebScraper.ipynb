{
 "cells": [
  {
   "cell_type": "code",
   "execution_count": null,
   "id": "68f77d6f",
   "metadata": {},
   "outputs": [],
   "source": [
    "import spacy\n",
    "from spacytextblob.spacytextblob import SpacyTextBlob\n",
    "import pandas as pd\n",
    "import requests\n",
    "from newspaper import Article\n",
    "import numpy as np\n"
   ]
  },
  {
   "cell_type": "code",
   "execution_count": null,
   "id": "351de990",
   "metadata": {},
   "outputs": [],
   "source": [
    "def most_repeated_phrase_count(text):\n",
    "    # Split the text into phrases (e.g., sentences)\n",
    "    phrases = re.split(r'\\.', text)\n",
    "\n",
    "    # Remove leading and trailing spaces from each phrase\n",
    "    phrases = [phrase.strip() for phrase in phrases if phrase.strip()]\n",
    "\n",
    "    # Count the occurrences of each phrase using Counter\n",
    "    phrase_counts = Counter(phrases)\n",
    "\n",
    "    if not phrase_counts:\n",
    "        return 0\n",
    "\n",
    "    # Find the most common phrase and its count\n",
    "    most_common_phrase, count = phrase_counts.most_common(1)[0]\n",
    "\n",
    "    return count\n",
    "\n",
    "def filter_scrape_data(text):\n",
    "    strLength = np.char.count(page_text, ' ') + 1\n",
    "    if strLength < wordCountFilter or most_repeated_phrase_count(text) >= 3:\n",
    "        return False\n",
    "    return True\n",
    "    \n",
    "def filter_social(url): # Filters social platforms that can't be scraped\n",
    "    social_starts_with = [\"https://www.youtube.com\", \"https://youtu.be\", \"https://www.facebook.com\", \"https://twitter.com\"]\n",
    "    for y in social_starts_with:\n",
    "        if(url.startswith(y)):\n",
    "            return False\n",
    "    return True\n",
    "\n",
    "def scrapeData(url):\n",
    "    try:\n",
    "        if not filter_social(url):\n",
    "            return \"PARERROR: SocialError\"\n",
    "        elif not filter_scrape_data():\n",
    "            return \"PARERROR: WebBlockerError\"\n",
    "        else:\n",
    "            article = Article(url)\n",
    "            article.download()\n",
    "            article.parse()\n",
    "            \n",
    "            page_text = (article.text).lower()\n",
    "            page_text = page_text.strip().replace(\"  \",\"\")\n",
    "            page_text = \"\".join([s for s in page_text.splitlines(True) if s.strip(\"\\r\\n\")])\n",
    "    except:\n",
    "        page_text = \"PARERROR: ErrorCouldntParse\"\n",
    "    return page_text"
   ]
  }
 ],
 "metadata": {
  "kernelspec": {
   "display_name": "434hw",
   "language": "python",
   "name": "434hw"
  },
  "language_info": {
   "codemirror_mode": {
    "name": "ipython",
    "version": 3
   },
   "file_extension": ".py",
   "mimetype": "text/x-python",
   "name": "python",
   "nbconvert_exporter": "python",
   "pygments_lexer": "ipython3",
   "version": "3.10.4"
  }
 },
 "nbformat": 4,
 "nbformat_minor": 5
}
