{
 "cells": [
  {
   "cell_type": "code",
   "execution_count": 1,
   "metadata": {},
   "outputs": [],
   "source": [
    "def load_data(file):\n",
    "    with open (file, \"r\", encoding=\"utf-8\") as f:\n",
    "        data = json.load(f)\n",
    "    return data\n",
    "\n",
    "def write_data(file, data):\n",
    "    with open (file, \"w\", encoding=\"utf-8\") as f:\n",
    "        json.dump(data, f, indent=4)"
   ]
  },
  {
   "cell_type": "code",
   "execution_count": 2,
   "metadata": {},
   "outputs": [],
   "source": [
    "def lemmatization(texts, allowed_postags=[\"NOUN\", \"ADJ\", \"VERB\", \"AV\"]):\n",
    "    nlp = spacy.load(\"en_core_web_sm\", disable=[\"parser\", \"ner\"])\n",
    "    text_out = []\n",
    "    for text in texts:\n",
    "        doc = nlp(text)\n",
    "        new_text = []\n",
    "        for token in doc:\n",
    "            if token.pos_ in allowed_postags:\n",
    "                new_text.append(token.lemma_)\n",
    "        final = \" \".join(new_text)\n",
    "        text_out.append(final)\n",
    "    return text_out"
   ]
  },
  {
   "cell_type": "code",
   "execution_count": 3,
   "metadata": {},
   "outputs": [],
   "source": [
    "def preprocess_article(input_text):\n",
    "    sentences_ted = []\n",
    "    \n",
    "    # Use regular expression to split the text into words\n",
    "    sentences_ted = re.findall(r'\\b\\w+\\b', input_text)\n",
    "    sentences_ted = [token for token in sentences_ted if not token.isdigit()]\n",
    "\n",
    "\n",
    "    # Load stopwords from a file into a set\n",
    "    stoplist = set()\n",
    "    with open('stopwords.txt') as openfileobject: \n",
    "        for line in openfileobject:\n",
    "            stoplist.add(line.strip())  # Use strip() to remove leading/trailing whitespace\n",
    "    \n",
    "    cleaned_text = \" \".join(word for word in sentences_ted if word not in stoplist)\n",
    "\n",
    "    return cleaned_text"
   ]
  },
  {
   "cell_type": "code",
   "execution_count": 4,
   "metadata": {},
   "outputs": [],
   "source": [
    "def gen_words(texts):\n",
    "    final = [gensim.utils.simple_preprocess(text, deacc=True) for text in texts]\n",
    "    return final"
   ]
  },
  {
   "cell_type": "code",
   "execution_count": 17,
   "metadata": {},
   "outputs": [],
   "source": [
    "def compute_coherence_values(dictionary, corpus, tokenizedData, limit, start=2, step=3):\n",
    "    coherence_values = []\n",
    "    model_list = []\n",
    "    for num_topics in range(start, limit, step):\n",
    "        \n",
    "        model = gensim.models.ldamodel.LdaModel(corpus, num_topics=num_topics, id2word=dictionary, passes=10)\n",
    "        #model = gensim.models.ldamulticore.LdaMulticore(corpus, num_topics = num_topics, id2word=dictionary,random_state=100,passes=10)\n",
    "        model_list.append(model)\n",
    "        coherencemodel = CoherenceModel(model=model, dictionary=dictionary, texts=tokenizedData, coherence='c_v')\n",
    "        coherence_values.append(coherencemodel.get_coherence())\n",
    "\n",
    "    return model_list, coherence_values"
   ]
  },
  {
   "cell_type": "code",
   "execution_count": 18,
   "metadata": {},
   "outputs": [],
   "source": [
    "#this is the function that creates an LDA model from our dataframe\n",
    "\n",
    "def create_lda_model(dataframe, topic_limit, topic_start, topic_step):\n",
    "    #Pre-Process text grabbing\n",
    "    rawData = []\n",
    "    for index, row in df.iterrows(): #get all texts in this data structure\n",
    "        rawData.append(row['Text'])\n",
    "    \n",
    "    #Lemmatize the texts\n",
    "    lemmatizedData = lemmatization(rawData)\n",
    "    \n",
    "    #Removing Stop Words\n",
    "    filteredData = [preprocess_article(x) for x in lemmatizedData]\n",
    "    \n",
    "    #Tokenize the text\n",
    "    tokenizedData = gen_words(filteredData)\n",
    "    \n",
    "    #Create text dictionary\n",
    "    id2word = corpora.Dictionary(tokenizedData)\n",
    "    id2word.filter_extremes(no_below=0.1, no_above=0.9)\n",
    "    \n",
    "    #Create corpus\n",
    "    corpus = [id2word.doc2bow(text) for text in tokenizedData]\n",
    "    \n",
    "    #Topic modeling using input values\n",
    "    model_list, coherence_values = compute_coherence_values(dictionary=id2word, corpus=corpus, tokenizedData=tokenizedData, limit=topic_limit, start=topic_start, step=topic_step)\n",
    "    \n",
    "    #Coherence score visualization\n",
    "    x = range(topic_start, topic_limit, topic_step)\n",
    "    plt.plot(x, coherence_values)\n",
    "    plt.xlabel(\"Num Topics\")\n",
    "    plt.ylabel(\"Coherence score\")\n",
    "    plt.legend((\"coherence_values\"), loc='best')\n",
    "    plt.show()\n",
    "\n",
    "    #find the model with max coherence\n",
    "    max_coherence_index = coherence_values.index(max(coherence_values))\n",
    "    LDA_model = model_list[max_coherence_index]\n",
    "\n",
    "    return LDA_model, corpus #this is our LDA model object that we will work with"
   ]
  },
  {
   "cell_type": "code",
   "execution_count": null,
   "metadata": {},
   "outputs": [],
   "source": []
  }
 ],
 "metadata": {
  "kernelspec": {
   "display_name": "Python 3 (ipykernel)",
   "language": "python",
   "name": "python3"
  },
  "language_info": {
   "codemirror_mode": {
    "name": "ipython",
    "version": 3
   },
   "file_extension": ".py",
   "mimetype": "text/x-python",
   "name": "python",
   "nbconvert_exporter": "python",
   "pygments_lexer": "ipython3",
   "version": "3.10.4"
  }
 },
 "nbformat": 4,
 "nbformat_minor": 2
}
