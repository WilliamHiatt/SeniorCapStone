{
 "cells": [
  {
   "cell_type": "markdown",
   "id": "c9dccd1a",
   "metadata": {},
   "source": [
    "# Latent Probability Model"
   ]
  },
  {
   "cell_type": "markdown",
   "id": "01049288",
   "metadata": {},
   "source": [
    "If you are running this for the first time you may need to use the following commands before continuing:"
   ]
  },
  {
   "cell_type": "code",
   "execution_count": 3,
   "id": "15ba699a",
   "metadata": {},
   "outputs": [
    {
     "name": "stdout",
     "output_type": "stream",
     "text": [
      "Collecting pandas==1.3.5\n",
      "  Using cached pandas-1.3.5-cp310-cp310-win_amd64.whl (10.2 MB)\n",
      "Requirement already satisfied: python-dateutil>=2.7.3 in c:\\users\\biehl\\appdata\\local\\programs\\python\\python310\\lib\\site-packages (from pandas==1.3.5) (2.8.2)\n",
      "Requirement already satisfied: pytz>=2017.3 in c:\\users\\biehl\\appdata\\local\\programs\\python\\python310\\lib\\site-packages (from pandas==1.3.5) (2022.2.1)\n",
      "Requirement already satisfied: numpy>=1.21.0 in c:\\users\\biehl\\appdata\\local\\programs\\python\\python310\\lib\\site-packages (from pandas==1.3.5) (1.24.3)\n",
      "Requirement already satisfied: six>=1.5 in c:\\users\\biehl\\appdata\\local\\programs\\python\\python310\\lib\\site-packages (from python-dateutil>=2.7.3->pandas==1.3.5) (1.16.0)\n",
      "Installing collected packages: pandas\n",
      "  Attempting uninstall: pandas\n",
      "    Found existing installation: pandas 2.0.3\n",
      "    Uninstalling pandas-2.0.3:\n",
      "      Successfully uninstalled pandas-2.0.3\n",
      "Successfully installed pandas-1.3.5\n"
     ]
    },
    {
     "name": "stderr",
     "output_type": "stream",
     "text": [
      "ERROR: pip's dependency resolver does not currently take into account all the packages that are installed. This behaviour is the source of the following dependency conflicts.\n",
      "pyldavis 3.4.1 requires pandas>=2.0.0, but you have pandas 1.3.5 which is incompatible.\n"
     ]
    },
    {
     "name": "stdout",
     "output_type": "stream",
     "text": [
      "Requirement already satisfied: spacy==3.2.0 in c:\\users\\biehl\\appdata\\local\\programs\\python\\python310\\lib\\site-packages (3.2.0)\n",
      "Requirement already satisfied: spacy-legacy<3.1.0,>=3.0.8 in c:\\users\\biehl\\appdata\\local\\programs\\python\\python310\\lib\\site-packages (from spacy==3.2.0) (3.0.12)\n",
      "Requirement already satisfied: spacy-loggers<2.0.0,>=1.0.0 in c:\\users\\biehl\\appdata\\local\\programs\\python\\python310\\lib\\site-packages (from spacy==3.2.0) (1.0.4)\n",
      "Requirement already satisfied: murmurhash<1.1.0,>=0.28.0 in c:\\users\\biehl\\appdata\\local\\programs\\python\\python310\\lib\\site-packages (from spacy==3.2.0) (1.0.9)\n",
      "Requirement already satisfied: cymem<2.1.0,>=2.0.2 in c:\\users\\biehl\\appdata\\local\\programs\\python\\python310\\lib\\site-packages (from spacy==3.2.0) (2.0.7)\n",
      "Requirement already satisfied: preshed<3.1.0,>=3.0.2 in c:\\users\\biehl\\appdata\\local\\programs\\python\\python310\\lib\\site-packages (from spacy==3.2.0) (3.0.8)\n",
      "Requirement already satisfied: thinc<8.1.0,>=8.0.12 in c:\\users\\biehl\\appdata\\local\\programs\\python\\python310\\lib\\site-packages (from spacy==3.2.0) (8.0.17)\n",
      "Requirement already satisfied: blis<0.8.0,>=0.4.0 in c:\\users\\biehl\\appdata\\local\\programs\\python\\python310\\lib\\site-packages (from spacy==3.2.0) (0.7.9)\n",
      "Requirement already satisfied: wasabi<1.1.0,>=0.8.1 in c:\\users\\biehl\\appdata\\local\\programs\\python\\python310\\lib\\site-packages (from spacy==3.2.0) (0.10.1)\n",
      "Requirement already satisfied: srsly<3.0.0,>=2.4.1 in c:\\users\\biehl\\appdata\\local\\programs\\python\\python310\\lib\\site-packages (from spacy==3.2.0) (2.4.6)\n",
      "Requirement already satisfied: catalogue<2.1.0,>=2.0.6 in c:\\users\\biehl\\appdata\\local\\programs\\python\\python310\\lib\\site-packages (from spacy==3.2.0) (2.0.8)\n",
      "Collecting typer<0.5.0,>=0.3.0 (from spacy==3.2.0)\n",
      "  Using cached typer-0.4.2-py3-none-any.whl (27 kB)\n",
      "Requirement already satisfied: pathy>=0.3.5 in c:\\users\\biehl\\appdata\\local\\programs\\python\\python310\\lib\\site-packages (from spacy==3.2.0) (0.10.1)\n",
      "Requirement already satisfied: tqdm<5.0.0,>=4.38.0 in c:\\users\\biehl\\appdata\\local\\programs\\python\\python310\\lib\\site-packages (from spacy==3.2.0) (4.66.1)\n",
      "Requirement already satisfied: numpy>=1.15.0 in c:\\users\\biehl\\appdata\\local\\programs\\python\\python310\\lib\\site-packages (from spacy==3.2.0) (1.24.3)\n",
      "Requirement already satisfied: requests<3.0.0,>=2.13.0 in c:\\users\\biehl\\appdata\\local\\programs\\python\\python310\\lib\\site-packages (from spacy==3.2.0) (2.31.0)\n",
      "Collecting pydantic!=1.8,!=1.8.1,<1.9.0,>=1.7.4 (from spacy==3.2.0)\n",
      "  Using cached pydantic-1.8.2-py3-none-any.whl (126 kB)\n",
      "Requirement already satisfied: jinja2 in c:\\users\\biehl\\appdata\\local\\programs\\python\\python310\\lib\\site-packages (from spacy==3.2.0) (3.1.2)\n",
      "Requirement already satisfied: setuptools in c:\\users\\biehl\\appdata\\local\\programs\\python\\python310\\lib\\site-packages (from spacy==3.2.0) (58.1.0)\n",
      "Requirement already satisfied: packaging>=20.0 in c:\\users\\biehl\\appdata\\local\\programs\\python\\python310\\lib\\site-packages (from spacy==3.2.0) (23.0)\n",
      "Requirement already satisfied: langcodes<4.0.0,>=3.2.0 in c:\\users\\biehl\\appdata\\local\\programs\\python\\python310\\lib\\site-packages (from spacy==3.2.0) (3.3.0)\n",
      "Requirement already satisfied: smart-open<7.0.0,>=5.2.1 in c:\\users\\biehl\\appdata\\local\\programs\\python\\python310\\lib\\site-packages (from pathy>=0.3.5->spacy==3.2.0) (6.3.0)\n",
      "Requirement already satisfied: typing-extensions>=3.7.4.3 in c:\\users\\biehl\\appdata\\local\\programs\\python\\python310\\lib\\site-packages (from pydantic!=1.8,!=1.8.1,<1.9.0,>=1.7.4->spacy==3.2.0) (4.8.0)\n",
      "Requirement already satisfied: charset-normalizer<4,>=2 in c:\\users\\biehl\\appdata\\local\\programs\\python\\python310\\lib\\site-packages (from requests<3.0.0,>=2.13.0->spacy==3.2.0) (3.0.1)\n",
      "Requirement already satisfied: idna<4,>=2.5 in c:\\users\\biehl\\appdata\\local\\programs\\python\\python310\\lib\\site-packages (from requests<3.0.0,>=2.13.0->spacy==3.2.0) (3.4)\n",
      "Requirement already satisfied: urllib3<3,>=1.21.1 in c:\\users\\biehl\\appdata\\local\\programs\\python\\python310\\lib\\site-packages (from requests<3.0.0,>=2.13.0->spacy==3.2.0) (1.26.14)\n",
      "Requirement already satisfied: certifi>=2017.4.17 in c:\\users\\biehl\\appdata\\local\\programs\\python\\python310\\lib\\site-packages (from requests<3.0.0,>=2.13.0->spacy==3.2.0) (2022.12.7)\n",
      "Requirement already satisfied: colorama in c:\\users\\biehl\\appdata\\local\\programs\\python\\python310\\lib\\site-packages (from tqdm<5.0.0,>=4.38.0->spacy==3.2.0) (0.4.6)\n",
      "Requirement already satisfied: click<9.0.0,>=7.1.1 in c:\\users\\biehl\\appdata\\local\\programs\\python\\python310\\lib\\site-packages (from typer<0.5.0,>=0.3.0->spacy==3.2.0) (8.1.3)\n",
      "Requirement already satisfied: MarkupSafe>=2.0 in c:\\users\\biehl\\appdata\\local\\programs\\python\\python310\\lib\\site-packages (from jinja2->spacy==3.2.0) (2.1.2)\n",
      "Installing collected packages: pydantic, typer\n",
      "  Attempting uninstall: pydantic\n",
      "    Found existing installation: pydantic 1.10.12\n",
      "    Uninstalling pydantic-1.10.12:\n",
      "      Successfully uninstalled pydantic-1.10.12\n",
      "  Attempting uninstall: typer\n",
      "    Found existing installation: typer 0.9.0\n",
      "    Uninstalling typer-0.9.0:\n",
      "      Successfully uninstalled typer-0.9.0\n",
      "Successfully installed pydantic-1.8.2 typer-0.4.2\n"
     ]
    },
    {
     "name": "stderr",
     "output_type": "stream",
     "text": [
      "ERROR: pip's dependency resolver does not currently take into account all the packages that are installed. This behaviour is the source of the following dependency conflicts.\n",
      "chromadb 0.4.12 requires pydantic<2.0,>=1.9, but you have pydantic 1.8.2 which is incompatible.\n",
      "chromadb 0.4.12 requires typer>=0.9.0, but you have typer 0.4.2 which is incompatible.\n"
     ]
    },
    {
     "name": "stdout",
     "output_type": "stream",
     "text": [
      "Requirement already satisfied: spacytextblob in c:\\users\\biehl\\appdata\\local\\programs\\python\\python310\\lib\\site-packages (4.0.0)\n",
      "Requirement already satisfied: spacy<4.0,>=3.0 in c:\\users\\biehl\\appdata\\local\\programs\\python\\python310\\lib\\site-packages (from spacytextblob) (3.2.0)\n",
      "Requirement already satisfied: textblob<0.16.0,>=0.15.3 in c:\\users\\biehl\\appdata\\local\\programs\\python\\python310\\lib\\site-packages (from spacytextblob) (0.15.3)\n",
      "Requirement already satisfied: spacy-legacy<3.1.0,>=3.0.8 in c:\\users\\biehl\\appdata\\local\\programs\\python\\python310\\lib\\site-packages (from spacy<4.0,>=3.0->spacytextblob) (3.0.12)\n",
      "Requirement already satisfied: spacy-loggers<2.0.0,>=1.0.0 in c:\\users\\biehl\\appdata\\local\\programs\\python\\python310\\lib\\site-packages (from spacy<4.0,>=3.0->spacytextblob) (1.0.4)\n",
      "Requirement already satisfied: murmurhash<1.1.0,>=0.28.0 in c:\\users\\biehl\\appdata\\local\\programs\\python\\python310\\lib\\site-packages (from spacy<4.0,>=3.0->spacytextblob) (1.0.9)\n",
      "Requirement already satisfied: cymem<2.1.0,>=2.0.2 in c:\\users\\biehl\\appdata\\local\\programs\\python\\python310\\lib\\site-packages (from spacy<4.0,>=3.0->spacytextblob) (2.0.7)\n",
      "Requirement already satisfied: preshed<3.1.0,>=3.0.2 in c:\\users\\biehl\\appdata\\local\\programs\\python\\python310\\lib\\site-packages (from spacy<4.0,>=3.0->spacytextblob) (3.0.8)\n",
      "Requirement already satisfied: thinc<8.1.0,>=8.0.12 in c:\\users\\biehl\\appdata\\local\\programs\\python\\python310\\lib\\site-packages (from spacy<4.0,>=3.0->spacytextblob) (8.0.17)\n",
      "Requirement already satisfied: blis<0.8.0,>=0.4.0 in c:\\users\\biehl\\appdata\\local\\programs\\python\\python310\\lib\\site-packages (from spacy<4.0,>=3.0->spacytextblob) (0.7.9)\n",
      "Requirement already satisfied: wasabi<1.1.0,>=0.8.1 in c:\\users\\biehl\\appdata\\local\\programs\\python\\python310\\lib\\site-packages (from spacy<4.0,>=3.0->spacytextblob) (0.10.1)\n",
      "Requirement already satisfied: srsly<3.0.0,>=2.4.1 in c:\\users\\biehl\\appdata\\local\\programs\\python\\python310\\lib\\site-packages (from spacy<4.0,>=3.0->spacytextblob) (2.4.6)\n",
      "Requirement already satisfied: catalogue<2.1.0,>=2.0.6 in c:\\users\\biehl\\appdata\\local\\programs\\python\\python310\\lib\\site-packages (from spacy<4.0,>=3.0->spacytextblob) (2.0.8)\n",
      "Requirement already satisfied: typer<0.5.0,>=0.3.0 in c:\\users\\biehl\\appdata\\local\\programs\\python\\python310\\lib\\site-packages (from spacy<4.0,>=3.0->spacytextblob) (0.4.2)\n",
      "Requirement already satisfied: pathy>=0.3.5 in c:\\users\\biehl\\appdata\\local\\programs\\python\\python310\\lib\\site-packages (from spacy<4.0,>=3.0->spacytextblob) (0.10.1)\n",
      "Requirement already satisfied: tqdm<5.0.0,>=4.38.0 in c:\\users\\biehl\\appdata\\local\\programs\\python\\python310\\lib\\site-packages (from spacy<4.0,>=3.0->spacytextblob) (4.66.1)\n",
      "Requirement already satisfied: numpy>=1.15.0 in c:\\users\\biehl\\appdata\\local\\programs\\python\\python310\\lib\\site-packages (from spacy<4.0,>=3.0->spacytextblob) (1.24.3)\n",
      "Requirement already satisfied: requests<3.0.0,>=2.13.0 in c:\\users\\biehl\\appdata\\local\\programs\\python\\python310\\lib\\site-packages (from spacy<4.0,>=3.0->spacytextblob) (2.31.0)\n",
      "Requirement already satisfied: pydantic!=1.8,!=1.8.1,<1.9.0,>=1.7.4 in c:\\users\\biehl\\appdata\\local\\programs\\python\\python310\\lib\\site-packages (from spacy<4.0,>=3.0->spacytextblob) (1.8.2)\n",
      "Requirement already satisfied: jinja2 in c:\\users\\biehl\\appdata\\local\\programs\\python\\python310\\lib\\site-packages (from spacy<4.0,>=3.0->spacytextblob) (3.1.2)\n",
      "Requirement already satisfied: setuptools in c:\\users\\biehl\\appdata\\local\\programs\\python\\python310\\lib\\site-packages (from spacy<4.0,>=3.0->spacytextblob) (58.1.0)\n",
      "Requirement already satisfied: packaging>=20.0 in c:\\users\\biehl\\appdata\\local\\programs\\python\\python310\\lib\\site-packages (from spacy<4.0,>=3.0->spacytextblob) (23.0)\n",
      "Requirement already satisfied: langcodes<4.0.0,>=3.2.0 in c:\\users\\biehl\\appdata\\local\\programs\\python\\python310\\lib\\site-packages (from spacy<4.0,>=3.0->spacytextblob) (3.3.0)\n",
      "Requirement already satisfied: nltk>=3.1 in c:\\users\\biehl\\appdata\\local\\programs\\python\\python310\\lib\\site-packages (from textblob<0.16.0,>=0.15.3->spacytextblob) (3.8.1)\n",
      "Requirement already satisfied: click in c:\\users\\biehl\\appdata\\local\\programs\\python\\python310\\lib\\site-packages (from nltk>=3.1->textblob<0.16.0,>=0.15.3->spacytextblob) (8.1.3)\n",
      "Requirement already satisfied: joblib in c:\\users\\biehl\\appdata\\local\\programs\\python\\python310\\lib\\site-packages (from nltk>=3.1->textblob<0.16.0,>=0.15.3->spacytextblob) (1.2.0)\n",
      "Requirement already satisfied: regex>=2021.8.3 in c:\\users\\biehl\\appdata\\local\\programs\\python\\python310\\lib\\site-packages (from nltk>=3.1->textblob<0.16.0,>=0.15.3->spacytextblob) (2023.3.23)\n",
      "Requirement already satisfied: smart-open<7.0.0,>=5.2.1 in c:\\users\\biehl\\appdata\\local\\programs\\python\\python310\\lib\\site-packages (from pathy>=0.3.5->spacy<4.0,>=3.0->spacytextblob) (6.3.0)\n",
      "Requirement already satisfied: typing-extensions>=3.7.4.3 in c:\\users\\biehl\\appdata\\local\\programs\\python\\python310\\lib\\site-packages (from pydantic!=1.8,!=1.8.1,<1.9.0,>=1.7.4->spacy<4.0,>=3.0->spacytextblob) (4.8.0)\n",
      "Requirement already satisfied: charset-normalizer<4,>=2 in c:\\users\\biehl\\appdata\\local\\programs\\python\\python310\\lib\\site-packages (from requests<3.0.0,>=2.13.0->spacy<4.0,>=3.0->spacytextblob) (3.0.1)\n",
      "Requirement already satisfied: idna<4,>=2.5 in c:\\users\\biehl\\appdata\\local\\programs\\python\\python310\\lib\\site-packages (from requests<3.0.0,>=2.13.0->spacy<4.0,>=3.0->spacytextblob) (3.4)\n",
      "Requirement already satisfied: urllib3<3,>=1.21.1 in c:\\users\\biehl\\appdata\\local\\programs\\python\\python310\\lib\\site-packages (from requests<3.0.0,>=2.13.0->spacy<4.0,>=3.0->spacytextblob) (1.26.14)\n",
      "Requirement already satisfied: certifi>=2017.4.17 in c:\\users\\biehl\\appdata\\local\\programs\\python\\python310\\lib\\site-packages (from requests<3.0.0,>=2.13.0->spacy<4.0,>=3.0->spacytextblob) (2022.12.7)\n",
      "Requirement already satisfied: colorama in c:\\users\\biehl\\appdata\\local\\programs\\python\\python310\\lib\\site-packages (from tqdm<5.0.0,>=4.38.0->spacy<4.0,>=3.0->spacytextblob) (0.4.6)\n",
      "Requirement already satisfied: MarkupSafe>=2.0 in c:\\users\\biehl\\appdata\\local\\programs\\python\\python310\\lib\\site-packages (from jinja2->spacy<4.0,>=3.0->spacytextblob) (2.1.2)\n",
      "Collecting en-core-web-sm==3.2.0\n",
      "  Downloading https://github.com/explosion/spacy-models/releases/download/en_core_web_sm-3.2.0/en_core_web_sm-3.2.0-py3-none-any.whl (13.9 MB)\n",
      "     ---------------------------------------- 0.0/13.9 MB ? eta -:--:--\n",
      "     --------------------------------------- 0.0/13.9 MB 991.0 kB/s eta 0:00:14\n",
      "     ---------------------------------------- 0.1/13.9 MB 1.7 MB/s eta 0:00:09\n",
      "     - -------------------------------------- 0.4/13.9 MB 2.9 MB/s eta 0:00:05\n",
      "     - -------------------------------------- 0.7/13.9 MB 3.9 MB/s eta 0:00:04\n",
      "     -- ------------------------------------- 1.0/13.9 MB 4.5 MB/s eta 0:00:03\n",
      "     ----- ---------------------------------- 1.9/13.9 MB 7.3 MB/s eta 0:00:02\n",
      "     ---------- ----------------------------- 3.6/13.9 MB 10.8 MB/s eta 0:00:01\n",
      "     ---------------- ----------------------- 5.8/13.9 MB 15.4 MB/s eta 0:00:01\n",
      "     ----------------------- ---------------- 8.0/13.9 MB 19.0 MB/s eta 0:00:01\n",
      "     ---------------------------- ---------- 10.2/13.9 MB 21.8 MB/s eta 0:00:01\n",
      "     ---------------------------------- ---- 12.4/13.9 MB 43.7 MB/s eta 0:00:01\n",
      "     --------------------------------------  13.9/13.9 MB 46.7 MB/s eta 0:00:01\n",
      "     --------------------------------------- 13.9/13.9 MB 38.4 MB/s eta 0:00:00\n",
      "Requirement already satisfied: spacy<3.3.0,>=3.2.0 in c:\\users\\biehl\\appdata\\local\\programs\\python\\python310\\lib\\site-packages (from en-core-web-sm==3.2.0) (3.2.0)\n",
      "Requirement already satisfied: spacy-legacy<3.1.0,>=3.0.8 in c:\\users\\biehl\\appdata\\local\\programs\\python\\python310\\lib\\site-packages (from spacy<3.3.0,>=3.2.0->en-core-web-sm==3.2.0) (3.0.12)\n",
      "Requirement already satisfied: spacy-loggers<2.0.0,>=1.0.0 in c:\\users\\biehl\\appdata\\local\\programs\\python\\python310\\lib\\site-packages (from spacy<3.3.0,>=3.2.0->en-core-web-sm==3.2.0) (1.0.4)\n",
      "Requirement already satisfied: murmurhash<1.1.0,>=0.28.0 in c:\\users\\biehl\\appdata\\local\\programs\\python\\python310\\lib\\site-packages (from spacy<3.3.0,>=3.2.0->en-core-web-sm==3.2.0) (1.0.9)\n",
      "Requirement already satisfied: cymem<2.1.0,>=2.0.2 in c:\\users\\biehl\\appdata\\local\\programs\\python\\python310\\lib\\site-packages (from spacy<3.3.0,>=3.2.0->en-core-web-sm==3.2.0) (2.0.7)\n",
      "Requirement already satisfied: preshed<3.1.0,>=3.0.2 in c:\\users\\biehl\\appdata\\local\\programs\\python\\python310\\lib\\site-packages (from spacy<3.3.0,>=3.2.0->en-core-web-sm==3.2.0) (3.0.8)\n",
      "Requirement already satisfied: thinc<8.1.0,>=8.0.12 in c:\\users\\biehl\\appdata\\local\\programs\\python\\python310\\lib\\site-packages (from spacy<3.3.0,>=3.2.0->en-core-web-sm==3.2.0) (8.0.17)\n",
      "Requirement already satisfied: blis<0.8.0,>=0.4.0 in c:\\users\\biehl\\appdata\\local\\programs\\python\\python310\\lib\\site-packages (from spacy<3.3.0,>=3.2.0->en-core-web-sm==3.2.0) (0.7.9)\n",
      "Requirement already satisfied: wasabi<1.1.0,>=0.8.1 in c:\\users\\biehl\\appdata\\local\\programs\\python\\python310\\lib\\site-packages (from spacy<3.3.0,>=3.2.0->en-core-web-sm==3.2.0) (0.10.1)\n",
      "Requirement already satisfied: srsly<3.0.0,>=2.4.1 in c:\\users\\biehl\\appdata\\local\\programs\\python\\python310\\lib\\site-packages (from spacy<3.3.0,>=3.2.0->en-core-web-sm==3.2.0) (2.4.6)\n",
      "Requirement already satisfied: catalogue<2.1.0,>=2.0.6 in c:\\users\\biehl\\appdata\\local\\programs\\python\\python310\\lib\\site-packages (from spacy<3.3.0,>=3.2.0->en-core-web-sm==3.2.0) (2.0.8)\n",
      "Requirement already satisfied: typer<0.5.0,>=0.3.0 in c:\\users\\biehl\\appdata\\local\\programs\\python\\python310\\lib\\site-packages (from spacy<3.3.0,>=3.2.0->en-core-web-sm==3.2.0) (0.4.2)\n",
      "Requirement already satisfied: pathy>=0.3.5 in c:\\users\\biehl\\appdata\\local\\programs\\python\\python310\\lib\\site-packages (from spacy<3.3.0,>=3.2.0->en-core-web-sm==3.2.0) (0.10.1)\n",
      "Requirement already satisfied: tqdm<5.0.0,>=4.38.0 in c:\\users\\biehl\\appdata\\local\\programs\\python\\python310\\lib\\site-packages (from spacy<3.3.0,>=3.2.0->en-core-web-sm==3.2.0) (4.66.1)\n",
      "Requirement already satisfied: numpy>=1.15.0 in c:\\users\\biehl\\appdata\\local\\programs\\python\\python310\\lib\\site-packages (from spacy<3.3.0,>=3.2.0->en-core-web-sm==3.2.0) (1.24.3)\n",
      "Requirement already satisfied: requests<3.0.0,>=2.13.0 in c:\\users\\biehl\\appdata\\local\\programs\\python\\python310\\lib\\site-packages (from spacy<3.3.0,>=3.2.0->en-core-web-sm==3.2.0) (2.31.0)\n",
      "Requirement already satisfied: pydantic!=1.8,!=1.8.1,<1.9.0,>=1.7.4 in c:\\users\\biehl\\appdata\\local\\programs\\python\\python310\\lib\\site-packages (from spacy<3.3.0,>=3.2.0->en-core-web-sm==3.2.0) (1.8.2)\n",
      "Requirement already satisfied: jinja2 in c:\\users\\biehl\\appdata\\local\\programs\\python\\python310\\lib\\site-packages (from spacy<3.3.0,>=3.2.0->en-core-web-sm==3.2.0) (3.1.2)\n",
      "Requirement already satisfied: setuptools in c:\\users\\biehl\\appdata\\local\\programs\\python\\python310\\lib\\site-packages (from spacy<3.3.0,>=3.2.0->en-core-web-sm==3.2.0) (58.1.0)\n",
      "Requirement already satisfied: packaging>=20.0 in c:\\users\\biehl\\appdata\\local\\programs\\python\\python310\\lib\\site-packages (from spacy<3.3.0,>=3.2.0->en-core-web-sm==3.2.0) (23.0)\n",
      "Requirement already satisfied: langcodes<4.0.0,>=3.2.0 in c:\\users\\biehl\\appdata\\local\\programs\\python\\python310\\lib\\site-packages (from spacy<3.3.0,>=3.2.0->en-core-web-sm==3.2.0) (3.3.0)\n",
      "Requirement already satisfied: smart-open<7.0.0,>=5.2.1 in c:\\users\\biehl\\appdata\\local\\programs\\python\\python310\\lib\\site-packages (from pathy>=0.3.5->spacy<3.3.0,>=3.2.0->en-core-web-sm==3.2.0) (6.3.0)\n",
      "Requirement already satisfied: typing-extensions>=3.7.4.3 in c:\\users\\biehl\\appdata\\local\\programs\\python\\python310\\lib\\site-packages (from pydantic!=1.8,!=1.8.1,<1.9.0,>=1.7.4->spacy<3.3.0,>=3.2.0->en-core-web-sm==3.2.0) (4.8.0)\n",
      "Requirement already satisfied: charset-normalizer<4,>=2 in c:\\users\\biehl\\appdata\\local\\programs\\python\\python310\\lib\\site-packages (from requests<3.0.0,>=2.13.0->spacy<3.3.0,>=3.2.0->en-core-web-sm==3.2.0) (3.0.1)\n",
      "Requirement already satisfied: idna<4,>=2.5 in c:\\users\\biehl\\appdata\\local\\programs\\python\\python310\\lib\\site-packages (from requests<3.0.0,>=2.13.0->spacy<3.3.0,>=3.2.0->en-core-web-sm==3.2.0) (3.4)\n",
      "Requirement already satisfied: urllib3<3,>=1.21.1 in c:\\users\\biehl\\appdata\\local\\programs\\python\\python310\\lib\\site-packages (from requests<3.0.0,>=2.13.0->spacy<3.3.0,>=3.2.0->en-core-web-sm==3.2.0) (1.26.14)\n",
      "Requirement already satisfied: certifi>=2017.4.17 in c:\\users\\biehl\\appdata\\local\\programs\\python\\python310\\lib\\site-packages (from requests<3.0.0,>=2.13.0->spacy<3.3.0,>=3.2.0->en-core-web-sm==3.2.0) (2022.12.7)\n",
      "Requirement already satisfied: colorama in c:\\users\\biehl\\appdata\\local\\programs\\python\\python310\\lib\\site-packages (from tqdm<5.0.0,>=4.38.0->spacy<3.3.0,>=3.2.0->en-core-web-sm==3.2.0) (0.4.6)\n",
      "Requirement already satisfied: click<9.0.0,>=7.1.1 in c:\\users\\biehl\\appdata\\local\\programs\\python\\python310\\lib\\site-packages (from typer<0.5.0,>=0.3.0->spacy<3.3.0,>=3.2.0->en-core-web-sm==3.2.0) (8.1.3)\n",
      "Requirement already satisfied: MarkupSafe>=2.0 in c:\\users\\biehl\\appdata\\local\\programs\\python\\python310\\lib\\site-packages (from jinja2->spacy<3.3.0,>=3.2.0->en-core-web-sm==3.2.0) (2.1.2)\n",
      "✔ Download and installation successful\n",
      "You can now load the package via spacy.load('en_core_web_sm')\n"
     ]
    },
    {
     "name": "stderr",
     "output_type": "stream",
     "text": [
      "DEPRECATION: https://github.com/explosion/spacy-models/releases/download/en_core_web_sm-3.2.0/en_core_web_sm-3.2.0-py3-none-any.whl#egg=en_core_web_sm==3.2.0 contains an egg fragment with a non-PEP 508 name pip 25.0 will enforce this behaviour change. A possible replacement is to use the req @ url syntax, and remove the egg fragment. Discussion can be found at https://github.com/pypa/pip/issues/11617\n"
     ]
    },
    {
     "name": "stdout",
     "output_type": "stream",
     "text": [
      "Requirement already satisfied: newspaper3k in c:\\users\\biehl\\appdata\\local\\programs\\python\\python310\\lib\\site-packages (0.2.8)\n",
      "Requirement already satisfied: beautifulsoup4>=4.4.1 in c:\\users\\biehl\\appdata\\local\\programs\\python\\python310\\lib\\site-packages (from newspaper3k) (4.11.1)\n",
      "Requirement already satisfied: Pillow>=3.3.0 in c:\\users\\biehl\\appdata\\roaming\\python\\python310\\site-packages (from newspaper3k) (9.4.0)\n",
      "Requirement already satisfied: PyYAML>=3.11 in c:\\users\\biehl\\appdata\\local\\programs\\python\\python310\\lib\\site-packages (from newspaper3k) (6.0)\n",
      "Requirement already satisfied: cssselect>=0.9.2 in c:\\users\\biehl\\appdata\\local\\programs\\python\\python310\\lib\\site-packages (from newspaper3k) (1.2.0)\n",
      "Requirement already satisfied: lxml>=3.6.0 in c:\\users\\biehl\\appdata\\roaming\\python\\python310\\site-packages (from newspaper3k) (4.9.2)\n",
      "Requirement already satisfied: nltk>=3.2.1 in c:\\users\\biehl\\appdata\\local\\programs\\python\\python310\\lib\\site-packages (from newspaper3k) (3.8.1)\n",
      "Requirement already satisfied: requests>=2.10.0 in c:\\users\\biehl\\appdata\\local\\programs\\python\\python310\\lib\\site-packages (from newspaper3k) (2.31.0)\n",
      "Requirement already satisfied: feedparser>=5.2.1 in c:\\users\\biehl\\appdata\\local\\programs\\python\\python310\\lib\\site-packages (from newspaper3k) (6.0.10)\n",
      "Requirement already satisfied: tldextract>=2.0.1 in c:\\users\\biehl\\appdata\\local\\programs\\python\\python310\\lib\\site-packages (from newspaper3k) (3.4.1)\n",
      "Requirement already satisfied: feedfinder2>=0.0.4 in c:\\users\\biehl\\appdata\\local\\programs\\python\\python310\\lib\\site-packages (from newspaper3k) (0.0.4)\n",
      "Requirement already satisfied: jieba3k>=0.35.1 in c:\\users\\biehl\\appdata\\local\\programs\\python\\python310\\lib\\site-packages (from newspaper3k) (0.35.1)\n",
      "Requirement already satisfied: python-dateutil>=2.5.3 in c:\\users\\biehl\\appdata\\local\\programs\\python\\python310\\lib\\site-packages (from newspaper3k) (2.8.2)\n",
      "Requirement already satisfied: tinysegmenter==0.3 in c:\\users\\biehl\\appdata\\local\\programs\\python\\python310\\lib\\site-packages (from newspaper3k) (0.3)\n",
      "Requirement already satisfied: soupsieve>1.2 in c:\\users\\biehl\\appdata\\local\\programs\\python\\python310\\lib\\site-packages (from beautifulsoup4>=4.4.1->newspaper3k) (2.3.2.post1)\n",
      "Requirement already satisfied: six in c:\\users\\biehl\\appdata\\local\\programs\\python\\python310\\lib\\site-packages (from feedfinder2>=0.0.4->newspaper3k) (1.16.0)\n",
      "Requirement already satisfied: sgmllib3k in c:\\users\\biehl\\appdata\\local\\programs\\python\\python310\\lib\\site-packages (from feedparser>=5.2.1->newspaper3k) (1.0.0)\n",
      "Requirement already satisfied: click in c:\\users\\biehl\\appdata\\local\\programs\\python\\python310\\lib\\site-packages (from nltk>=3.2.1->newspaper3k) (8.1.3)\n",
      "Requirement already satisfied: joblib in c:\\users\\biehl\\appdata\\local\\programs\\python\\python310\\lib\\site-packages (from nltk>=3.2.1->newspaper3k) (1.2.0)\n",
      "Requirement already satisfied: regex>=2021.8.3 in c:\\users\\biehl\\appdata\\local\\programs\\python\\python310\\lib\\site-packages (from nltk>=3.2.1->newspaper3k) (2023.3.23)\n",
      "Requirement already satisfied: tqdm in c:\\users\\biehl\\appdata\\local\\programs\\python\\python310\\lib\\site-packages (from nltk>=3.2.1->newspaper3k) (4.66.1)\n",
      "Requirement already satisfied: charset-normalizer<4,>=2 in c:\\users\\biehl\\appdata\\local\\programs\\python\\python310\\lib\\site-packages (from requests>=2.10.0->newspaper3k) (3.0.1)\n",
      "Requirement already satisfied: idna<4,>=2.5 in c:\\users\\biehl\\appdata\\local\\programs\\python\\python310\\lib\\site-packages (from requests>=2.10.0->newspaper3k) (3.4)\n",
      "Requirement already satisfied: urllib3<3,>=1.21.1 in c:\\users\\biehl\\appdata\\local\\programs\\python\\python310\\lib\\site-packages (from requests>=2.10.0->newspaper3k) (1.26.14)\n",
      "Requirement already satisfied: certifi>=2017.4.17 in c:\\users\\biehl\\appdata\\local\\programs\\python\\python310\\lib\\site-packages (from requests>=2.10.0->newspaper3k) (2022.12.7)\n",
      "Requirement already satisfied: requests-file>=1.4 in c:\\users\\biehl\\appdata\\local\\programs\\python\\python310\\lib\\site-packages (from tldextract>=2.0.1->newspaper3k) (1.5.1)\n",
      "Requirement already satisfied: filelock>=3.0.8 in c:\\users\\biehl\\appdata\\roaming\\python\\python310\\site-packages (from tldextract>=2.0.1->newspaper3k) (3.9.0)\n",
      "Requirement already satisfied: colorama in c:\\users\\biehl\\appdata\\local\\programs\\python\\python310\\lib\\site-packages (from click->nltk>=3.2.1->newspaper3k) (0.4.6)\n"
     ]
    }
   ],
   "source": [
    "!pip install pandas==1.3.5\n",
    "!pip install spacy==3.2.0\n",
    "!pip install spacytextblob\n",
    "!python -m spacy download en_core_web_sm\n",
    "\n",
    "!pip install newspaper3k\n",
    "\n",
    "!pip install plotly\n",
    "\n",
    "!pip install bokeh"
   ]
  },
  {
   "cell_type": "markdown",
   "id": "c92a2232",
   "metadata": {},
   "source": [
    "Spacy: Used for NLP and has the machine learning module\n",
    "    \n",
    "SpacyTextBlob: Used for the sentiment analysis\n",
    "    \n",
    "Pandas: Stores the data as a dataframe table\n",
    "    \n",
    "NewsPaper: Used for web scraping\n",
    "    \n",
    "Requests: Makes the connection to the URL"
   ]
  },
  {
   "cell_type": "code",
   "execution_count": 96,
   "id": "97171282",
   "metadata": {},
   "outputs": [],
   "source": [
    "from newspaper import Article\n",
    "from random import shuffle\n",
    "import re\n",
    "import matplotlib.pyplot as plt \n",
    "from collections import Counter\n",
    "\n",
    "import numpy as np\n",
    "import json\n",
    "import requests\n",
    "import glob\n",
    "\n",
    "#gensim\n",
    "import gensim\n",
    "import gensim.corpora as corpora\n",
    "from gensim.models.coherencemodel import CoherenceModel\n",
    "from gensim.utils import simple_preprocess\n",
    "from gensim.corpora import Dictionary  # Import the Dictionary class from Gensim\n",
    "\n",
    "#spacy\n",
    "import spacy\n",
    "from nltk.corpus import stopwords\n",
    "\n",
    "#vis\n",
    "import pyLDAvis\n",
    "import pyLDAvis.gensim\n",
    "import plotly.express as px\n",
    "import matplotlib.colors as mcolors\n",
    "\n",
    "\n",
    "import warnings\n",
    "warnings.filterwarnings(\"ignore\", category=DeprecationWarning)"
   ]
  },
  {
   "cell_type": "code",
   "execution_count": 25,
   "id": "fae0f7c5",
   "metadata": {},
   "outputs": [],
   "source": [
    "#import spacy\n",
    "from spacytextblob.spacytextblob import SpacyTextBlob\n",
    "import pandas as pd\n",
    "import requests\n",
    "#from newspaper import Article\n",
    "#import numpy as np"
   ]
  },
  {
   "cell_type": "code",
   "execution_count": 232,
   "id": "89933f69",
   "metadata": {},
   "outputs": [],
   "source": [
    "%run SentimentAnalysis.ipynb\n",
    "%run WebScraper.ipynb\n",
    "%run PipelineHelpers.ipynb\n",
    "%run TopicModeling.ipynb\n",
    "%run DataVisualization.ipynb"
   ]
  },
  {
   "cell_type": "markdown",
   "id": "67afdeff",
   "metadata": {},
   "source": [
    "IMPORTANT: If you want to try re-runing after making some code changes or want to \n",
    "run a new .csv file through the code block below and the one a couple down with the\n",
    " rerun note will need to be ran again for the analysis to work correctly"
   ]
  },
  {
   "cell_type": "code",
   "execution_count": 213,
   "id": "4d78c510",
   "metadata": {},
   "outputs": [
    {
     "data": {
      "text/plain": [
       "<spacytextblob.spacytextblob.SpacyTextBlob at 0x2a098359b90>"
      ]
     },
     "execution_count": 213,
     "metadata": {},
     "output_type": "execute_result"
    }
   ],
   "source": [
    "# Loading our two pipelines\n",
    "nlp = spacy.load('en_core_web_sm')\n",
    "nlp.add_pipe('spacytextblob')"
   ]
  },
  {
   "cell_type": "markdown",
   "id": "b787c3f5",
   "metadata": {},
   "source": [
    "IMPORTANT: Insert the .csv file you want to be read below."
   ]
  },
  {
   "cell_type": "code",
   "execution_count": 214,
   "id": "4e23034f",
   "metadata": {},
   "outputs": [],
   "source": [
    "csvFile = \"urls_gabriel_generated.csv\"\n",
    "wordCountFilter = 150\n",
    "#social_starts_with = [\"https://www.youtube.com\", \"https://youtu.be\", \"https://www.facebook.com\", \n",
    "#                     \"https://twitter.com\", \"https://gettr.com/\"]\n"
   ]
  },
  {
   "cell_type": "code",
   "execution_count": 215,
   "id": "51cde877",
   "metadata": {},
   "outputs": [],
   "source": [
    "# rerun\n",
    "# Using panda to load in our .csv file\n",
    "df = pd.read_csv(csvFile) # File we are checking\n",
    "urls = df[\"Address\"].tolist() # Column name we are checking\n",
    "all_text_gathered = []\n",
    "all_articles = ''\n",
    "scentence_list = []\n"
   ]
  },
  {
   "cell_type": "markdown",
   "id": "a9fabe01",
   "metadata": {},
   "source": [
    "# This is the pipeline. All code is called and ran through here."
   ]
  },
  {
   "cell_type": "code",
   "execution_count": 216,
   "id": "7ae169b7",
   "metadata": {
    "scrolled": true
   },
   "outputs": [
    {
     "name": "stdout",
     "output_type": "stream",
     "text": [
      "0\n",
      "word count  39\n",
      "repeated phrases 1\n",
      "https://www.bbc.com/news/world-us-canada-55805698\n"
     ]
    },
    {
     "data": {
      "text/html": [
       "<div>\n",
       "<style scoped>\n",
       "    .dataframe tbody tr th:only-of-type {\n",
       "        vertical-align: middle;\n",
       "    }\n",
       "\n",
       "    .dataframe tbody tr th {\n",
       "        vertical-align: top;\n",
       "    }\n",
       "\n",
       "    .dataframe thead th {\n",
       "        text-align: right;\n",
       "    }\n",
       "</style>\n",
       "<table border=\"1\" class=\"dataframe\">\n",
       "  <thead>\n",
       "    <tr style=\"text-align: right;\">\n",
       "      <th></th>\n",
       "      <th>URL</th>\n",
       "      <th>Sentiment Score</th>\n",
       "      <th>Sentiment Label</th>\n",
       "      <th>Subjectivity Score</th>\n",
       "      <th>Positive Words</th>\n",
       "      <th>Negative Words</th>\n",
       "      <th>Text</th>\n",
       "    </tr>\n",
       "  </thead>\n",
       "  <tbody>\n",
       "    <tr>\n",
       "      <th>0</th>\n",
       "      <td>https://www.foxnews.com/politics/hunter-bidens...</td>\n",
       "      <td>0.04</td>\n",
       "      <td>Neutral</td>\n",
       "      <td>0.24</td>\n",
       "      <td>more, unpaid, best, new, main, legal, first</td>\n",
       "      <td>down, limited, least, approximately, firm, pre...</td>\n",
       "      <td>exclusive: the $250,000 wire hunter biden rece...</td>\n",
       "    </tr>\n",
       "    <tr>\n",
       "      <th>1</th>\n",
       "      <td>https://www.foxnews.com/politics/doj-ordered-h...</td>\n",
       "      <td>0.06</td>\n",
       "      <td>Neutral Positive</td>\n",
       "      <td>0.35</td>\n",
       "      <td>detailed, more, real, normal, exactly, wealthy...</td>\n",
       "      <td>limited, artificially, least, subject, crimina...</td>\n",
       "      <td>the u.s. department of justice ordered fbi and...</td>\n",
       "    </tr>\n",
       "    <tr>\n",
       "      <th>2</th>\n",
       "      <td>https://www.foxnews.com/politics/hunter-biden-...</td>\n",
       "      <td>-0.04</td>\n",
       "      <td>Neutral Negative</td>\n",
       "      <td>0.37</td>\n",
       "      <td>direct, confirmed, extraordinary, generally, p...</td>\n",
       "      <td>complaint, falsely, expected, jail, not, past,...</td>\n",
       "      <td>hunter biden on tuesday filed a lawsuit agains...</td>\n",
       "    </tr>\n",
       "    <tr>\n",
       "      <th>3</th>\n",
       "      <td>https://apnews.com/article/hunter-biden-impeac...</td>\n",
       "      <td>0.02</td>\n",
       "      <td>Neutral Negative</td>\n",
       "      <td>0.37</td>\n",
       "      <td>more, right, promising, far, action, high, muc...</td>\n",
       "      <td>down, expected, unlikely, thin, criminal, long...</td>\n",
       "      <td>washington (ap) — house republicans launched a...</td>\n",
       "    </tr>\n",
       "    <tr>\n",
       "      <th>4</th>\n",
       "      <td>https://www.nation.com.pk/21-Jun-2023/hunter-b...</td>\n",
       "      <td>-0.04</td>\n",
       "      <td>Neutral Negative</td>\n",
       "      <td>0.44</td>\n",
       "      <td>detailed, love, important, not, social, first</td>\n",
       "      <td>least, subject, criminal, guilty, due, other, ...</td>\n",
       "      <td>washigton-hunter biden, the son of president j...</td>\n",
       "    </tr>\n",
       "    <tr>\n",
       "      <th>5</th>\n",
       "      <td>https://www.nation.com.pk/25-Jul-2021/white-ho...</td>\n",
       "      <td>0.10</td>\n",
       "      <td>Neutral Positive</td>\n",
       "      <td>0.41</td>\n",
       "      <td>winning, new, ethically, favorite, appropriate...</td>\n",
       "      <td>half</td>\n",
       "      <td>washington - the white house assured saturday ...</td>\n",
       "    </tr>\n",
       "    <tr>\n",
       "      <th>6</th>\n",
       "      <td>https://www.nation.com.pk/24-Dec-2019/hunter-b...</td>\n",
       "      <td>-0.11</td>\n",
       "      <td>Negative</td>\n",
       "      <td>0.40</td>\n",
       "      <td>more, nearly, new</td>\n",
       "      <td>limited, subject, criminal, firm, allegedly, s...</td>\n",
       "      <td>hunter biden is the subject of multiple crimin...</td>\n",
       "    </tr>\n",
       "    <tr>\n",
       "      <th>7</th>\n",
       "      <td>https://www.cnn.com/2023/09/27/politics/house-...</td>\n",
       "      <td>-0.01</td>\n",
       "      <td>Neutral Negative</td>\n",
       "      <td>0.35</td>\n",
       "      <td>more, unpaid, real, apparent, significant, not...</td>\n",
       "      <td>complained, addicted, not, criminal, firm, clo...</td>\n",
       "      <td>washington cnn —\\ndocuments released wednesday...</td>\n",
       "    </tr>\n",
       "    <tr>\n",
       "      <th>8</th>\n",
       "      <td>https://www.bbc.com/news/world-us-canada-55805698</td>\n",
       "      <td>0.00</td>\n",
       "      <td>PARERROR: WebBlockerError</td>\n",
       "      <td>0.00</td>\n",
       "      <td></td>\n",
       "      <td></td>\n",
       "      <td>PARERROR: WebBlockerError</td>\n",
       "    </tr>\n",
       "    <tr>\n",
       "      <th>9</th>\n",
       "      <td>https://abcnews.go.com/Politics/comer-issue-su...</td>\n",
       "      <td>0.01</td>\n",
       "      <td>Neutral Negative</td>\n",
       "      <td>0.40</td>\n",
       "      <td>more, far, new, top, directly, first</td>\n",
       "      <td>extreme, other, missing, late, mean, previously</td>\n",
       "      <td>house oversight committee chairman james comer...</td>\n",
       "    </tr>\n",
       "  </tbody>\n",
       "</table>\n",
       "</div>"
      ],
      "text/plain": [
       "                                                 URL  Sentiment Score   \n",
       "0  https://www.foxnews.com/politics/hunter-bidens...             0.04  \\\n",
       "1  https://www.foxnews.com/politics/doj-ordered-h...             0.06   \n",
       "2  https://www.foxnews.com/politics/hunter-biden-...            -0.04   \n",
       "3  https://apnews.com/article/hunter-biden-impeac...             0.02   \n",
       "4  https://www.nation.com.pk/21-Jun-2023/hunter-b...            -0.04   \n",
       "5  https://www.nation.com.pk/25-Jul-2021/white-ho...             0.10   \n",
       "6  https://www.nation.com.pk/24-Dec-2019/hunter-b...            -0.11   \n",
       "7  https://www.cnn.com/2023/09/27/politics/house-...            -0.01   \n",
       "8  https://www.bbc.com/news/world-us-canada-55805698             0.00   \n",
       "9  https://abcnews.go.com/Politics/comer-issue-su...             0.01   \n",
       "\n",
       "             Sentiment Label  Subjectivity Score   \n",
       "0                    Neutral                0.24  \\\n",
       "1           Neutral Positive                0.35   \n",
       "2           Neutral Negative                0.37   \n",
       "3           Neutral Negative                0.37   \n",
       "4           Neutral Negative                0.44   \n",
       "5           Neutral Positive                0.41   \n",
       "6                   Negative                0.40   \n",
       "7           Neutral Negative                0.35   \n",
       "8  PARERROR: WebBlockerError                0.00   \n",
       "9           Neutral Negative                0.40   \n",
       "\n",
       "                                      Positive Words   \n",
       "0        more, unpaid, best, new, main, legal, first  \\\n",
       "1  detailed, more, real, normal, exactly, wealthy...   \n",
       "2  direct, confirmed, extraordinary, generally, p...   \n",
       "3  more, right, promising, far, action, high, muc...   \n",
       "4      detailed, love, important, not, social, first   \n",
       "5  winning, new, ethically, favorite, appropriate...   \n",
       "6                                  more, nearly, new   \n",
       "7  more, unpaid, real, apparent, significant, not...   \n",
       "8                                                      \n",
       "9               more, far, new, top, directly, first   \n",
       "\n",
       "                                      Negative Words   \n",
       "0  down, limited, least, approximately, firm, pre...  \\\n",
       "1  limited, artificially, least, subject, crimina...   \n",
       "2  complaint, falsely, expected, jail, not, past,...   \n",
       "3  down, expected, unlikely, thin, criminal, long...   \n",
       "4  least, subject, criminal, guilty, due, other, ...   \n",
       "5                                               half   \n",
       "6  limited, subject, criminal, firm, allegedly, s...   \n",
       "7  complained, addicted, not, criminal, firm, clo...   \n",
       "8                                                      \n",
       "9    extreme, other, missing, late, mean, previously   \n",
       "\n",
       "                                                Text  \n",
       "0  exclusive: the $250,000 wire hunter biden rece...  \n",
       "1  the u.s. department of justice ordered fbi and...  \n",
       "2  hunter biden on tuesday filed a lawsuit agains...  \n",
       "3  washington (ap) — house republicans launched a...  \n",
       "4  washigton-hunter biden, the son of president j...  \n",
       "5  washington - the white house assured saturday ...  \n",
       "6  hunter biden is the subject of multiple crimin...  \n",
       "7  washington cnn —\\ndocuments released wednesday...  \n",
       "8                          PARERROR: WebBlockerError  \n",
       "9  house oversight committee chairman james comer...  "
      ]
     },
     "execution_count": 216,
     "metadata": {},
     "output_type": "execute_result"
    }
   ],
   "source": [
    "# Loops through our URLS and scraps the data\n",
    "# Put all empty dictionaries here\n",
    "sentimentDic = {}\n",
    "    \n",
    "for count, x in enumerate(urls):\n",
    "    if(count % 10 == 0):\n",
    "        print(str(count))\n",
    "\n",
    "    url = x\n",
    "\n",
    "    # Send the URL to get scraped\n",
    "    page_text = scrapeData(x)\n",
    "    # All articles will have a long string of all the text that has been scraped\n",
    "    all_articles = all_articles + \" \" +  page_text\n",
    "    \n",
    "    # Puts the article into a list of all the sentences in the article\n",
    "    sentenceList = sentenceLevel(page_text)\n",
    "\n",
    "    # Runs sentiment analysis. Will need to make a new function and a new dictionary\n",
    "    # for each type of analysis we want to run. Will pass in the page_text, the dic, and\n",
    "    # x (the url)\n",
    "    sentimentDic = sentimentAnalysis(page_text, sentimentDic, url)\n",
    "        \n",
    "        \n",
    "        \n",
    "#print(\"The average sentiment score was: \" + str(sum(url_sent_score) / len(url_sent_score)))\n",
    "#print(\"The average subjectivity score was: \" + str(sum(url_subj_score) / len(url_subj_score)))\n",
    "\n",
    "# For each analysis we run we need to then convert that dictionary with the following method\n",
    "df = dictionaryToDataFrame(sentimentDic)\n",
    "df\n",
    "# Used if we want to convert it to a .csv sentDic.to_csv(\"sentiment130.csv\")\n"
   ]
  },
  {
   "cell_type": "markdown",
   "id": "06f0b30c",
   "metadata": {},
   "source": [
    "## Pre-Processing"
   ]
  },
  {
   "cell_type": "code",
   "execution_count": 217,
   "id": "66ca4d46",
   "metadata": {
    "scrolled": true
   },
   "outputs": [
    {
     "data": {
      "text/plain": [
       "['exclusive: the $250,000 wire hunter biden received from his chinese business partners was labeled as a \"personal investment,\" despite his legal team claiming the funds were part of a loan and previously saying he never \"received any return on his investment,\" fox news digital has learned.\\nfox news digital first reported tuesday that hunter biden received wires that originated in beijing totaling $260,000 from chinese business partners during the summer of 2019 — wires that listed the delaware home of joe biden as the beneficiary address for the funds.\\nhunter biden received $250k wires originating in beijing with beneficiary address listed as joe biden\\'s home\\nthe revelations come after hunter biden’s attorney abbe lowell told cnn that the wires were \"a documented loan (not a distribution or pay-out) that was wired from a private individual to his new bank account which listed the address on his driver’s license, his parents’ address, because it was his only permanent address at the time.\"\\nthe wires for the funds originated from beijing and were linked to bhr partners.\\nbhr partners is a joint-venture between hunter biden’s rosemont seneca and chinese investment firm bohai capital. bhr partners is a beijing-backed private equity firm controlled by bank of china limited. hunter biden reportedly sat on the board of directors of bhr partners.\\nthe first wire transfer sent to hunter biden, dated july 26, 2019, was for $10,000 from an individual named ms. wang xin.\\nms. wang xin is listed on the website for bhr partners. it is unclear if the wire came from that wang xin.\\nfox news digital has learned that the $10,000 wire was labeled as \"acc/loan to beneficiary.\"\\ndoj ordered hunter biden investigators to \\'remove any reference\\' to joe biden in fara probe warrant: house gop\\nthe second wire transfer sent to hunter biden, dated aug. 2, 2019, was for $250,000 from li xiang sheng — also known as jonathan li, the ceo of bhr partners — and ms. tan ling. the committee is trying to identify ling’s role.\\nfox news digital has learned that $250,000 wire was labeled as \"acc/personal investment.\"\\nthe beneficiary for the wires is listed as robert hunter biden with the address \"1209 barley mill rd.\" in wilmington, delaware. that address is the main residence for president biden.\\nback in october 2019, despite hunter having received more than a quarter of a million dollars from bhr-linked associates, then-attorney for hunter biden, george mesires, explained hunter’s role at bhr partners by saying he \"served only as a member of the board of directors, which he joined based on his interest in seeking ways to bring chinese capital to international markets.\"\\n\"it was an unpaid position,\" mesires said on oct. 13, 2019. \"in october 2017, hunter committed to invest approximately $420,000 usd (as of 10/12/2019) to acquire a 10% equity position in bhr, which he still holds.\"\\nmesires, at the time, added: \"to date, hunter has not received any compensation for being on bhr’s board of directors. he has not received any return on his investment; there have been no distributions to bhr shareholders since hunter obtained his equity interest.\"\\nhunter resigned from the board of bhr at the end of october 2019.\\ndoj reveals hunter biden still under federal investigation for potential fara violations\\nmeanwhile, as the white house declines to comment on the beneficiary address and wire payments, president biden has had several interactions with bhr partners ceo jonathan li.\\nthe wires were sent just several months after then-vice president joe biden announced his 2020 presidential campaign. joe biden, in august 2019, said he \"never discussed with my son or my brother or anyone else anything having to do with their business, period.\"\\nas for jonathan li, according to testimony from hunter biden’s former business associate, devon archer, as part of the house oversight committee’s investigation, joe biden sat down for coffee in beijing with the ceo of bhr. archer also testified that biden wrote a college recommendation letter for li’s daughter to georgetown. archer said hunter biden put his father on speakerphone for at least one call with li in addition to meeting for coffee.\\nseparately, fox news digital first reported in 2022 that biden wrote a college recommendation letter for li\\'s son to brown university.\\n\"bank records don’t lie, but president joe biden does,\" comer told fox news digital.\\nhunter demanded $10m from chinese energy firm because \\'bidens are the best,\\' have \\'connections\\'\\n\"in 2020, joe biden told americans that his family never received money from china. we’ve already proved that to be a lie earlier this year, and now we know that two wires originating from beijing listed joe biden’s wilmington home as the beneficiary address when he was running for president of the united states. when joe biden was vice president, he spoke on the phone and had coffee with jonathan li in beijing and later wrote a college letter of recommendation for his children,\" comer said.\\n\"joe biden’s abuse of public office for his family’s financial gain threatens our national security. what did the bidens do with this money from beijing? americans demand and deserve accountability for president biden and the first family’s corruption. the oversight committee, along with the judiciary and ways and means committees, will continue to follow the evidence and money to provide transparency and accountability.\"\\nthe discovery of the records comes ahead of the first hearing, to be held by oversight, as part of house republicans\\' impeachment inquiry against president biden.\\nthe white house declined to comment on the wires.',\n",
       " 'the u.s. department of justice ordered fbi and irs investigators involved in the hunter biden probe to \"remove any reference\" to president biden in a search warrant related to a foreign agents registration act probe, new documents released by the house ways & means committee reveal.\\ncommittee chairman jason smith, r-mo., led a vote wednesday to release new documents provided by irs whistleblowers gary shapley and joseph ziegler that \"corroborate their initial testimony to the committee and reinforce their credibility and their high esteem among colleagues.\"\\ndoj reveals hunter biden still under federal investigation for potential fara violations\\n\"the biden administration — including top officials at the justice department — lied to the american public and engaged in a cover-up that interfered with federal investigators and protected the biden family, including president biden himself,\" the committee said.\\none document released wednesday was an august 2020 email sent by assistant u.s. attorney lesley wolf in which she ordered investigators to remove any reference to \"political figure 1\" from a search warrant. subsequent documents released wednesday revealed that president biden is \"political figure 1.\"\\n\"as a priority, someone needs to redraft attachment b,\" wolf writes in the email. \"i am not sure what this is cut and pasted from but other than the attribution location, and identity stuff at the end, none of it is appropriate and within the scope of this warrant.\"\\nwolf adds: \"please focus on fara evidence only. there should be nothing about political figure 1 in here.\"\\na document released wednesday and reviewed by fox news digital states that \"political figure 1\" is \"former vice president joseph robinette biden jr.\"\\n\"vp biden is currently the democratic party presidential candidate for the united states and served as the 47th officeholder for the position of the office of the vice president of the united states (vpotus) in the barack obama administration from january 20, 2009 to january 20, 2017,\" the document states. \"he is the father of subject 1.\"\\n\"subject 1\" is presumably hunter biden, the target of the investigation.\\nthe justice department indirectly revealed that hunter biden is still under investigation for a potential violation of fara during his first court appearance in july, in which his \"sweetheart\" plea deal collapsed.\\nwhen asked by federal judge maryellen noreika of the u.s. district court for the district of delaware whether the government could bring a charge against hunter biden related to fara, the doj prosecutor replied, \"yes.\"\\nwhistleblowers shapley and ziegler have testified that wolf, throughout the years-long investigation into hunter biden, sought to \"limit\" investigators\\' questioning related to president biden, despite objections from fbi and irs officials.\\nhunter biden investigators limited questions about \\'dad,\\' \\'big guy\\' despite fbi, irs objections: whistleblower\\nmeanwhile, the committee said that documents also revealed that the hunter biden federal investigation was being \"hampered and artificially slowed.\"\\nthe committee said during a september 2022 interview with the president’s brother, james biden, that investigators were \"not allowed to ask if then-vice president biden was involved in hunter biden’s deal with cefc china energy,\" or follow \"normal investigative leads.\"\\nthe committee also said a may 2021 report from investigators detailed that they were \"not allowed to follow investigative leads on potential campaign finance violations related to a wealthy hollywood lawyer, kevin morris, who was enlisted to help the family, and who paid millions of dollars to help hunter around the time that joe biden becomes president.\"\\n\"investigators wrote that ‘there may be campaign finance criminal violations. ausa wolf stated on the last prosecution team meeting that she did not want any of the agents to look into the allegation,’\" the committee said wednesday.\\nchairman jason smith said the new documents show a \"clearer connection between joe biden, his public office, and hunter biden’s global influence peddling scheme that resulted in over $20 million in payments to the biden family.\"\\n\"in addition to then vice-president joe biden attending lunches and speaking on the phone with his son’s business associates, the details released today paint a fuller picture of how joe biden’s vice presidential office was instrumental to the biden family’s business schemes,\" smith said.\\nsmith said that the evidence included in the documents shows \"a pattern of hunter biden creating for-profit entities to shield at least $20 million from foreign sources from taxes and hide the trail of payments that led to members of the biden family.\"\\na congressional aide told fox news digital on tuesday that the biden family and their associates collected more than $24 million in foreign payments between 2014 and 2019.\\n\"the growing body of evidence further calls into question the justice department’s attempted sweetheart plea deal for hunter biden, and the reasons for appointing the architect of that plea deal as the special counsel for hunter biden’s case, in light of officials’ efforts to protect president biden and his son,\" smith said. \"this evidence makes clear hunter biden’s business was selling the biden ‘brand’ and that access to the white house was his family’s most valuable asset — despite official claims otherwise.\"\\nhunter biden received $250k wires originating in beijing with beneficiary address listed as joe biden\\'s home\\nsmith, who is leading the house impeachment inquiry against president biden alongside house oversight committee chairman james comer, r-ky., and house judiciary committee chairman jim jordan, r-ohio, said his committee will continue to take \"appropriate steps\" in its investigation, including sharing documents with committee democrats ahead of their release.\\n\"we have promised to go where the facts lead us, and that is exactly what we will do to get answers for the american people,\" smith said.\\nthe documents come out as part of house republicans\\' formal impeachment inquiry investigation against president biden. the house oversight committee is set to hold its first public hearing as part of the inquiry on thursday at 10 a.m. et.\\nwhite house spokesperson sharon yang dismissed the new documents wednesday evening, telling fox news digital that house republicans have \"again cried wolf and provided no evidence tying president biden to wrongdoing.\"\\n\"instead of wasting time with media stunts trumpeting half-baked conspiracy theories, house republicans should realize the clock is ticking – it’s time they stop trying to distract and start focusing on priorities that matter to the american people, like doing their jobs to prevent a government shutdown that would inflict real pain on working families,\" yang added.\\nthe justice department did not respond to fox news digital\\'s request for comment.',\n",
       " 'hunter biden on tuesday filed a lawsuit against rudy giuliani alleging the former president trump lawyer violated his privacy rights by illegally disseminating content from biden\\'s infamous laptop.\\nthe complaint filed in the u.s. district court for the central district of california states giuliani is \"primarily responsible\" for the \"total annihilation\" of biden\\'s digital privacy. it also names robert costello, a former federal prosecutor who previously represented giuliani, as a defendant, fox news has confirmed.\\n\"for the past many months and even years, defendants have dedicated an extraordinary amount of time and energy toward looking for, hacking into, tampering with, manipulating, copying, disseminating, and generally obsessing over data that they were given that was taken or stolen from plaintiff\\'s devices or storage platforms, including what defendants claim to have obtained from plaintiff\\'s alleged ‘laptop’ computer,\" biden\\'s attorneys wrote in the complaint, claiming that the data was not even from a \"laptop,\" but from an \"external drive.\"\\nthe contents of this \"external drive\" include pictures, videos, emails and other data that since their initial publication by the new york post in 2020, have placed biden in legal jeopardy and caused political problems for his father, president biden.\\nnewsom\\'s longtime ties to hunter biden emerge after he justifies his buisness deals: ‘here’s my direct email\\'\\ngiuliani and costello have openly acknowledged that they obtained copies of files from a hard drive device that biden allegedly left at a delaware computer repair shop in 2019. giuliani provided that information to the post in october 2020, which published a story based on hunter biden\\'s emails that implicated president biden in a business deal with a ukrainian company that had hired hunter on its board.\\n\"hunter biden has previously refused to admit ownership of the laptop. i\\'m not surprised he\\'s now falsely claiming his laptop hard drive was manipulated by mayor giuliani, considering the sordid material and potential evidence of crimes on that thing,\" said ted goodman, a giuliani advisor.\\nhouse republicans have launched an impeachment inquiry into president biden based on claims that he used his position, then as vice president, to deter ukrainian prosecutors from investigating the company that his son worked for. gop lawmakers further allege, based on their follow-up investigations, that the president was involved in several business deals arranged by his son hunter.\\nread the complaint below. app users: click here\\nthe president has repeatedly denied any involvement in his son\\'s business dealings.\\nbob menendez enlists hunter biden\\'s defense attorney in bribery case\\nhunter biden\\'s attorneys previously issued cease-and-desist letters to giuliani and others who obtained and disseminated the laptop\\'s contents.\\nthe lawsuit seeks a court order to prevent giuliani and others from accessing, tampering with, manipulating or copying biden\\'s data and have them return the \"device/hard drive\" to biden, along with any backup files, cloud files or copies of the same data.\\nattorneys for hunter biden did not respond to a request for comment.\\nthe lawsuit filed tuesday is the latest effort from biden and his lawyers to hit back after leaks of the information catapulted his sordid private life onto the front page of many conservative media outlets.\\nhunter biden sues former wh aide for altering, publishing ‘pornographic’ photos from the laptop he denies is his\\nearlier this month, the president\\'s son sued former president trump aide garrett ziegler, alleging that ziegler and his company spread \"tens of thousands of emails, thousands of photos, and dozens of videos and recordings\" that were considered \"pornographic\" from the device.\\nin march, biden initiated a countersuit asserting that the wilmington, delaware, computer repair shop owner, john paul mac isaac, had unlawfully disseminated biden\\'s personal information, and leveled six invasion of privacy charges against him. mac isaac first filed a lawsuit against the president’s son — as well as cnn, politico, and rep. adam schiff, d-calif.— in october 2022 for defamation.\\naccording to mac isaac, biden did not return for the laptop within three months after dropping it off, and he could not be reached. he then alerted the fbi after seeing emails illustrating information about then-vice president joe biden ’s purported foreign business dealings and videos of biden taking drugs and performing sex acts with prostitutes.\\nclick here to get the fox news app\\nbefore federal agents picked up the device, mac isaac made a copy of its hard drive and gave it to giuliani the following year.\\nbiden was expected to plead guilty in july to two misdemeanor tax counts of willful failure to pay federal income tax as part of a plea deal to avoid jail time on a felony gun charge. instead, he pleaded not guilty to two misdemeanor tax charges and one felony gun charge last month.\\nfox news\\' jamie joseph contributed to this report.',\n",
       " 'washington (ap) — house republicans launched a formal impeachment hearing thursday against president joe biden, promising to “provide accountability” as they probe the family finances and lucrative business dealings of his son hunter and make their case to the public, colleagues and a skeptical senate.\\nthe chairmen of the oversight, judiciary, and ways and means committees used the opening hearing to review the constitutional and legal questions involved with impeachment. they are trying to show what they say are links to biden’s son hunter’s overseas businesses, though key witnesses said they do not yet see hard evidence of impeachable offenses.\\nrep. james comer, r-ky, the oversight chairman, said the lawmakers have “a mountain of evidence” that will show that the elder biden “abused his public office for his family’s financial gain.”\\nhours after the hearing wrapped, comer issued subpoenas for additional banking records from the personal and business accounts of hunter biden and the president’s brother, james biden. he said the panel will continue to “follow the money and the evidence to provide accountability.”\\nit’s a high-stakes opening act for republicans, taking place just before a potential federal government shutdown, as they begin a process that can lead to the ultimate penalty for a president, dismissal from office for what the constitution describes as “high crimes and misdemeanors.”\\nthe white house pushed back with statements throughout the hearing saying nothing can distract from the republicans’ inability to govern as the shutdown loomed. spokesperson sharon yang called the hearing a “baseless stunt” and said, “president biden will always stay focused on the priorities of the american people — not these political games.”\\nthe more than six-hour hearing came as house republicans face scattered resistance to an impeachment inquiry from their own ranks and deep reluctance in the senate from republicans who worry about political ramifications and say biden’s conviction and removal from office are unlikely.\\nas the hearing began, democrats displayed a screen showing the days, hours and minutes left until the government shuts down as congress struggles to fund the government before saturday’s deadline.\\n“we’re 62 hours away from shutting down the government of the united states of america and republicans are launching an impeachment drive, based on a long debunked and discredited lie,” said rep. jamie raskin, the top democrat on the oversight panel.\\nraskin questioned the legitimacy of the hearing since the house has not voted to formally launch the impeachment inquiry. he said republicans are rehashing five-year-old allegations raised by donald trump, who is biden’s chief rival in 2024, during the former president’s 2019 impeachment over ukraine.\\n“they don’t have a shred of evidence against president biden for an impeachable offense,” he said.\\nthe hearing thursday did not feature witnesses with information about the bidens or hunter biden’s business. instead, the panel heard from outside experts in tax law, criminal investigations and constitutional legal theory.\\na top republican-called witness, jonathan turley, a george washington university law professor who is an expert in impeachment issues, said he believed the house had passed the threshold for an inquiry but the current evidence was not enough for charges.\\n“i do not believe that the current evidence would support articles of impeachment,” turley said.\\ndemocrats, who decry the investigation as a political ploy aimed at hurting biden and helping trump as he runs again for president, brought in michael gerhardt, a law professor who has also appeared as an expert in previous impeachment proceedings.\\nin detailing the reasons republicans say they have to impeach biden, gerhardt concluded: “if that’s what exists, as a basis for this inquiry, it is not sufficient. i say that with all respect.”\\nstill, questions remain as republicans dig into the biden family finances and the overseas business dealings of hunter biden, who has acknowledged being a drug user during much of the time under scrutiny. the president’s brother, james, was also involved in some work with hunter.\\nrepublicans have been investigating hunter biden for years, since his father was vice president. and while there have been questions raised about the ethics around the family’s international business, none of the evidence so far has proven that the president, in his current or previous office, abused his role, accepted bribes or both.\\none former business partner of hunter biden has told house investigators the son was selling the “illusion of access” to his father.\\nturley told the lawmakers the question remains, “was the president involved?”\\nin the run-up to the hearing, republicans unveiled a tranche of new documents and bank records that detail wire transfers from a chinese businessman to hunter biden in 2019. hunter biden had listed his father’s address on the wire transfer form, which republicans say provided a clear link to the president.\\nabbe lowell, an attorney for hunter biden, said the address on the wire transfer, which he says was a loan, was listed to the president’s delaware home because it was the address on hunter biden’s driver’s license and “his only permanent address at the time.”\\n“once again rep. comer peddles lies to support a premise — some wrongdoing by hunter biden or his family — that evaporates in thin air the moment facts come out,” lowell said in a statement.\\nhouse republicans are also looking into the justice department investigation into hunter biden’s taxes and gun use that began in 2018. two irs whistleblowers came forward to congress in the spring with claims that department officials thwarted their efforts to fully investigate hunter biden and that they faced retaliation when they pushed back.\\nthe claims have since been disputed by the department of justice, the irs and fbi agents who worked on the case.\\n“the biden justice department protected the biden family brand.” said rep. jason smith, a missouri republican and ways and means chairman.\\nwhat smith did not mention was that the discussions occurred during the trump justice department and were likely in keeping with the agency’s practice of avoiding overt investigative steps concerning political candidates in the immediate run-up to an election.\\nbut republicans have pointed to a failed plea deal over the summer as proof that hunter biden received preferential treatment because of who his father was.\\n“they tried to put together this sweetheart deal,” said rep. jim jordan, r-ohio, the judiciary chairman.\\nthe impeachment inquiry hearing is taking place as the federal government is days away from what is likely to be a damaging government shutdown that would halt paychecks for millions of federal workers and the military and disrupt services for millions of americans.\\nhouse speaker kevin mccarthy announced the impeachment inquiry this month, egged on by trump and with mounting pressure from his right flank to take action against biden or risk being ousted from his leadership job.\\ntrump is the only president to be twice impeached, first over accusations he pressured ukraine to dig up dirt on biden and later over accusations that he incited the jan. 6, 2021, insurrection at the capitol. he was acquitted in both cases by the senate.\\nthe hearing thursday is expected to be the first of many as house republicans explore whether or not they will pursue articles of impeachment against the president.\\nit’s unclear if mccarthy has support from his slim republican majority to impeach biden. if biden was impeached, the charges would then be sent to the senate for a trial.',\n",
       " 'washigton-hunter biden, the son of president joe biden, will plead guilty to two tax misdemeanors and struck a deal with federal prosecutors to resolve a felony gun charge, the justice department said tuesday in court filings.\\nas part of the plea agreement, the justice department has agreed to recommend a sentence of probation for the two counts of failing to pay taxes in a timely matter for the years 2017 and 2018, according to sources. hunter biden owed at least $100,000 in federal taxes for 2017, and at least $100,000 in 2018, but did not pay what was due to the internal revenue service by the deadlines.\\na judge will have the final say on any sentence.\\nthe plea deal will have immediate reverberations in the 2024 presidential race. it has already jumpstarted political criticism from republicans of the biden administration and the justice department in the wake of the 37-count federal criminal indictment filed against donald trump for his alleged mishandling of classified documents. trump pleaded not guilty last week.\\nthe charges were detailed in a criminal filing in us district court in delaware, where the us attorney david weiss, a trump appointee, has been conducting the investigation that at one time explored allegations of money laundering, foreign lobbying and other potential charges. the investigation is ongoing, the justice department said tuesday. but hunter biden’s attorney, christopher clark, said in a statement that the deal with federal prosecutors will “resolve” the justice department’s long-running criminal probe into the president’s son.\\n“hunter will take responsibility for two instances of misdemeanor failure to file tax payments when due pursuant to a plea agreement,” clark said.\\n“a firearm charge, which will be subject to a pretrial diversion agreement and will not be the subject of the plea agreement, will also be filed by the government. i know hunter believes it is important to take responsibility for these mistakes he made during a period of turmoil and addiction in his life. he looks forward to continuing his recovery and moving forward.”\\nin a brief statement, the white house said the bidens “love their son.”\\n“the president and first lady love their son and support him as he continues to rebuild his life. we will have no further comment,” said white house spokesman ian sams.\\ntrump criticized the hunter biden plea deal on truth social.',\n",
       " 'washington - the white house assured saturday that necessary ethical precautions would be taken around any exhibitions and sale of artwork by president joe biden’s son, whose personal life and professional career have been peppered with controversy.\\nasked by reporters about upcoming exhibitions of hunter biden’s artwork in new york’s georges berges gallery, white house press secretary jen psaki said the president’s son would be “attending gallery events.” the discussions about sales “will be happening with the gallerist” and not hunter biden, she said. “that is different than meeting with prospective buyers.”\\npsaki had announced july 9 that a system had been established allowing hunter biden to practice his profession “within appropriate safeguards,” including the confidentiality of any transactions and no contact with buyers. at exhibits of hunter’s work, “the selling of his art will all happen through the gallerist and the names and individuals will be kept confidential,” she said. when pressed that a buyer could simply tell the artist that he or she is purchasing his work, psaki stressed that a strict rules structure will be in place. “he will not know, we will not know who purchases his art,” she said. contacted by afp, the gallery did not immediately provide any comment or details. the biden administration, which seeks to present itself as ethically unblemished, has been repeatedly questioned about the artistic career of the 51-year-old lawyer and businessman-turned-painter.\\nus media point out the obvious risks of businessmen or others purchasing the artwork with the sole aim of winning access to or influence with the white house. press reports have said the paintings by biden, who has had no formal training, could sell for up to half a million dollars.\\nhunter biden is one of former president donald trump’s favorite targets.\\nduring the 2020 presidential campaign trump and his supporters regularly criticized hunter biden for his economic interests in ukraine and china when his father was vice president under barack obama.\\nhunter is also the target of a federal investigation into possible tax crimes.\\nin a memoir published earlier this year, the president’s youngest son recounted his struggle with addiction to cocaine and alcohol.',\n",
       " 'hunter biden is the subject of multiple criminal investigations related to “fraud, money laundering and a counterfeiting scheme,” the court documents filed monday in his arkansas paternity case revealed.\\nthe allegations, according to the document, were pushed forward by a florida-based private-eye firm, d&a investigations, in biden’s ongoing case against alleged baby mama lunden alexis roberts, a former washington, dc, stripper who went by “dallas”, the new york post reported.\\nbiden, 49, “is the subject of more than one criminal investigation involving fraud, money laundering and a counterfeiting scheme,” the filing alleges.\\none of the investigations is related to burisma holdings, the ukrainian energy company with which biden held a board post while his father, joe biden, was vice president — drawing allegations of impropriety from republicans, including president trump, which ultimately led to the impeachment process.\\nthe papers claim that “biden and a group of business associates “established bank and financial accounts with morgan stanley … for burisma holdings limited … for the money laundering scheme,” suggesting that the accounts showed an average account value of nearly $6.8 million between march 2014 and december 2015.\\nbiden and others — including devon archer, john galanis and bevan cooney — allegedly “utilized a counterfeiting scheme to conceal the morgan stanley et al average account value,” d&a claims in the papers filed at the circuit court of independence county, arkansas.\\nthe filing also suggested that biden had a hand in a plot including galanis, cooney and archer to rip off sioux native americans to the tune of $60 million through the shady sale of tribal bonds. biden “did drum up business for the scheme,” d&a claims in its filing, without further elaboration.\\nthe three-page document does not name the agencies behind the purported criminal probes of biden in either case.\\ngalanis, archer and cooney were found guilty for their roles in june 2018, following a lengthy trial in manhattan federal court.',\n",
       " \"washington cnn —\\ndocuments released wednesday by house republicans shed new light on how two irs agents who investigated hunter biden felt like they hit roadblocks whenever president joe biden’s name came up in the criminal probe.\\nhowever, some of the documents also show that senior justice department prosecutors believed there were legitimate reasons for investigators to steer away from the elder biden. and there is no indication that the doj officials were acting at the request of senior leadership.\\nalso, some of the email exchanges republicans cite as evidence of a doj effort to protect joe biden and interfere with the hunter biden probe occurred during donald trump’s presidency and while bill barr was attorney general.\\nthe roughly 700 pages of internal government documents became public after a party-line vote by the house ways and means committee. the trove includes emails among irs agents and justice department prosecutors, internal irs reports, transcripts of interviews with witnesses in the criminal probe, handwritten notes from meetings and more.\\nthe materials came from irs whistleblowers gary shapley and joe ziegler, who turned over the files to back up their prior allegations of political interference in the hunter biden criminal probe. the new disclosures provide some context on their string of disagreements with federal prosecutors.\\ninternal revenue service whistleblowers gary shapley and joseph ziegler testify in the house oversight and accountability committee hearing about alleged meddling in the justice department's investigation of hunter biden on capitol hill, washington, dc, in july. leah millis/reuters\\none of the more notable files among the 700 pages released wednesday was an august 2020 email showing a deputy for david weiss, the trump-appointed prosecutor now overseeing the hunter biden criminal probe, directing colleagues to remove joe biden’s name from a draft search warrant – because there wasn’t any legal basis to include it.\\nrepublicans are hoping the documents bolster allegations central to their impeachment inquiry into president biden, that federal investigators put up roadblocks that protected him and his family. but some of the alleged examples referenced in the documents released wednesday occurred before joe biden took office, and during the trump administration.\\nrepublicans argue that those alleged roadblocks demonstrate why their congressional investigations are legitimate, including their efforts to fill in the gaps left by the two irs whistleblowers. but democrats have repeatedly pointed out that their gop colleagues haven’t uncovered anything directly implicating joe biden in wrongdoing. and they argue that the new documents released by republicans are cherry-picked and only tell one side of the story.\\njoe biden’s name on a search warrant\\ncongressional republicans and the irs whistleblowers have argued that weiss’s deputy was part of a justice department effort to politically interfere in the hunter biden probe, an allegation the doj vehemently denies.\\nus attorney david weiss speaks during a press conference on may 3, 2018, at his district office in wilmington, delaware. suchat pederson/the news journal/ap\\nthe august 2020 email from weiss’s deputy said the warrant was for “bs,” an apparent reference to blue star strategies, a lobbying firm that represented burisma holdings, the ukrainian energy company where hunter biden was on the board. by then, the hunter biden criminal probe had expanded to include whether the firm’s us activities violated foreign lobbying laws known as fara.\\n“i am not sure what this is cut and pasted from, but other than the attribution, location and identity stuff at the end, none if it is appropriate and within the scope of this warrant. please focus on fara evidence only,” weiss’ deputy said in the email.\\nwiess’s deputy then instructed her colleagues to take out any references to joe biden, writing, “there should be nothing about political figure 1 in here.” a single page of the draft search warrant, which was also released wednesday by house republicans, identifies “political figure 1” as joe biden. the rest of the page is completely redacted.\\nin his private testimony earlier this year to lawmakers, shapley claimed that in september 2020, federal prosecutors, including weiss’s deputy, had been “slow-walking” a search warrant for blue star’s emails and that this was a “significant blow” to the fara probe.\\nhunter biden hasn’t been charged with any fara-related lobbying crimes, though prosecutors from weiss’ team said at a july court hearing that this was still a possibility.\\ncomplaints of doj ‘obstruction’\\nthe gop-run panel also released an internal irs report from may 2021 where officials complained of further “obstruction” by wiess’s deputy. they were frustrated by her alleged refusal to let them dig into potential “campaign finance criminal violations” that they found. the report doesn’t say which candidate or party received the political donations.\\nthe irs agents wrote that weiss’s deputy didn’t think there was enough evidence to back up the campaign finance angle, and instead pressed them to focus on the stronger parts of their investigation, including hunter biden’s unpaid taxes.\\nit’s unclear who wrote the report, which originated from the irs field office in washington, dc.\\nweiss has signaled in recent court filings that he’s considering indicting hunter biden on federal tax charges. he already charged hunter biden with three gun felonies, related to a revolver he’s accused of buying while addicted to drugs, which is illegal. hunter biden’s lawyers said he will plead not guilty.\\nwhen announcing the release of the documents, ways and means republican chairman jason smith called the material “new and alarming.”\\n“it is clear that then vice president joe biden’s political power and influence was ‘the brand’ that hunter biden was selling all over the world,” smith said.\\ndemocrats meanwhile have argued that republicans are ignoring the fact that the government is about to shutdown.\\n“today is another distraction,” the top democrat on the panel, massachusetts rep. richard neal, said in a statement provided to cnn. “a distraction from my colleagues’ inability to govern and from their inability to fund the government. amid their chaos, they’ve failed to convince their own colleagues of the necessity of their political stunt, let alone the american people.”\\nduring the closed door executive session, democrats raised questions about whether the committee could trust the documents provided by the whistleblowers if the panel was not able to see the unredacted version, according to documents provided to cnn. democrats also were concerned about how the whistleblowers could access documents pertaining to the case when they were removed from it.\\nwhite house spokesperson sharon yang said in a statement to cnn, “instead of wasting time with media stunts trumpeting half-baked conspiracy theories, house republicans should realize the clock is ticking – it’s time they stop trying to distract and start focusing on priorities that matter to the american people, like doing their jobs to prevent a government shutdown that would inflict real pain on working families.”\",\n",
       " 'PARERROR: WebBlockerError',\n",
       " 'house oversight committee chairman james comer announced he will issue subpoenas for bank records for hunter biden and james biden on thursday as part of the house gop impeachment inquiry into president joe biden.\\nthe announcement was made at the end of the committee\\'s first public hearing since speaker kevin mccarthy ordered the inquiry on sept. 12.\\n\"today i will subpoena the bank records of hunter biden, james biden and their affiliated companies,\" comer said, calling it the the \"next step of this investigation.\"\\nfile photo of james biden, brother of president joe biden, arriving at the white house to attend the state dinner for south korea, oct. 13, 2011, in washington; and hunter biden, son of president joe biden, departing federal court after a plea hearing on two misdemeanor charges of willfully failing to pay income taxes in wilmington, del., july 26, 2023. haraz n. ghanbari/ap photo and jonathan ernst/reuters, file\\ntop house republicans see bank records as the possible \"smoking gun\" evidence missing so far from their allegations that president biden was directly involved in and benefitted from his family\\'s domestic and international business practices.\\nearlier this week, comer discussed on fox news why he wanted to subpoena hunter biden and james biden\\'s records. he said they want to \"follow the money\" he says the two bidens and other family members received from shell companies. there is no evidence, to date, that any of the money is linked to president biden himself.\\n\"we want to know what happened with the money once they were received by the bidens in their personal accounts,\" comer told trey gowdy on \"sunday night in america.\"\\ncomer also didn\\'t rule out subpoenaing president biden\\'s bank records.\\n\"it\\'s looking like we\\'re going to be asking for his bank records,\" comer said. \"i mean, all roads lead to joe biden. from day one this has been an investigation into joe biden not his son. his son is a key central figure because we believe hunter was the frontman for the biden family influence scheme.\"\\nlate tuesday, comer announced the panel obtained bank records showing hunter biden received wires originating from beijing that listed joe biden\\'s wilmington, delaware, home as the beneficiary address.\\n\"joe biden\\'s abuse of public office for his family\\'s financial gain threatens our national security. what did the bidens do with this money from beijing?\" comer said in a statement, in which he added that \"americans demand and deserve accountability.\"\\nthe committee said the two wires showed hunter biden received more than $250,000 in the summer of 2019. the panel did not release the bank wires in their announcement.\\nit has been reported that hunter biden often used his father\\'s address and previously lived at the wilmington home.\\n\"imagine them arguing that, if someone stayed at their parents\\' house during the pandemic, listed it as their permanent address for work, and got a paycheck, the parents somehow also worked for the employer,\" white house spokesperson ian sams wrote on x in response to the announcement. \"it\\'s bananas. yet this is what extreme house republicans have sunken to.\"\\nabbe lowell, an attorney for hunter biden, said in a statement the wires were loans and that hunter biden\\'s permanent address at the time was his father\\'s home.\\n\"this was a documented loan (not a distribution or pay-out) that was wired from a private individual to his new bank account which listed the address on his driver\\'s license, his parents\\' address, because it was his only permanent address at the time,\" lowell said.']"
      ]
     },
     "execution_count": 217,
     "metadata": {},
     "output_type": "execute_result"
    }
   ],
   "source": [
    "rawData = []\n",
    "#for url in urls:\n",
    "#    scrapedData = scrapeData(url)\n",
    "#    if filter_scrape_data(scrapedData):\n",
    "#        rawData.append(scrapedData)\n",
    "#    else:\n",
    "#        rawData.append(\"ERROR\")\n",
    "for index, row in df.iterrows():\n",
    "    rawData.append(row['Text'])\n",
    "\n",
    "rawData"
   ]
  },
  {
   "cell_type": "markdown",
   "id": "b8c0bd02",
   "metadata": {},
   "source": [
    "### Lemmatize Data"
   ]
  },
  {
   "cell_type": "code",
   "execution_count": 218,
   "id": "cac166f2",
   "metadata": {},
   "outputs": [],
   "source": [
    "lemmatizedData = lemmatization(rawData)"
   ]
  },
  {
   "cell_type": "markdown",
   "id": "762f6c9e",
   "metadata": {},
   "source": [
    "### Remove Stop Words"
   ]
  },
  {
   "cell_type": "code",
   "execution_count": 219,
   "id": "ea07070b",
   "metadata": {},
   "outputs": [],
   "source": [
    "filteredData = [preprocess_article(x) for x in lemmatizedData]"
   ]
  },
  {
   "cell_type": "markdown",
   "id": "8d4ff856",
   "metadata": {},
   "source": [
    "### Tokenize"
   ]
  },
  {
   "cell_type": "code",
   "execution_count": 220,
   "id": "2d89db81",
   "metadata": {},
   "outputs": [],
   "source": [
    "tokenizedData = gen_words(filteredData)"
   ]
  },
  {
   "cell_type": "markdown",
   "id": "696deb9b",
   "metadata": {},
   "source": [
    "### Create Dictionary"
   ]
  },
  {
   "cell_type": "code",
   "execution_count": 221,
   "id": "4129f8b1",
   "metadata": {},
   "outputs": [],
   "source": [
    "id2word = corpora.Dictionary(tokenizedData)\n",
    "id2word.filter_extremes(no_below=0.1, no_above=0.9)"
   ]
  },
  {
   "cell_type": "markdown",
   "id": "cb474b63",
   "metadata": {},
   "source": [
    "### Create Corpus"
   ]
  },
  {
   "cell_type": "code",
   "execution_count": 222,
   "id": "69e733fe",
   "metadata": {},
   "outputs": [],
   "source": [
    "corpus = [id2word.doc2bow(text) for text in tokenizedData]"
   ]
  },
  {
   "cell_type": "markdown",
   "id": "10cfd413",
   "metadata": {},
   "source": [
    "## Topic Modeling"
   ]
  },
  {
   "cell_type": "code",
   "execution_count": 223,
   "id": "ad16581e",
   "metadata": {},
   "outputs": [],
   "source": [
    "#configuration for running our LDA model, topic_limit =max topics, topic_start = start of # of topics, topic_step = what increment we add to the # of topics\n",
    "topic_limit = 25; topic_start=5; topic_step=5;\n",
    "\n",
    "model_list, coherence_values = compute_coherence_values(dictionary=id2word, corpus=corpus, tokenizedData=tokenizedData, limit=topic_limit, start=topic_start, step=topic_step)"
   ]
  },
  {
   "cell_type": "markdown",
   "id": "8a0b7b80",
   "metadata": {},
   "source": [
    "### Visualization of Coherence Values for Topic Count"
   ]
  },
  {
   "cell_type": "code",
   "execution_count": 224,
   "id": "05833711",
   "metadata": {},
   "outputs": [
    {
     "data": {
      "image/png": "[encoded data removed]",
      "text/plain": [
       "<Figure size 640x480 with 1 Axes>"
      ]
     },
     "metadata": {},
     "output_type": "display_data"
    }
   ],
   "source": [
    "x = range(topic_start, topic_limit, topic_step)\n",
    "plt.plot(x, coherence_values)\n",
    "plt.xlabel(\"Num Topics\")\n",
    "plt.ylabel(\"Coherence score\")\n",
    "plt.legend((\"coherence_values\"), loc='best')\n",
    "plt.show()"
   ]
  },
  {
   "cell_type": "code",
   "execution_count": 225,
   "id": "fe0fdd05",
   "metadata": {},
   "outputs": [
    {
     "data": {
      "text/plain": [
       "<gensim.models.ldamodel.LdaModel at 0x2a0871ccad0>"
      ]
     },
     "execution_count": 225,
     "metadata": {},
     "output_type": "execute_result"
    }
   ],
   "source": [
    "#find the model with max coherence\n",
    "max_coherence_index = coherence_values.index(max(coherence_values))\n",
    "LDA_model = model_list[max_coherence_index]\n",
    "\n",
    "LDA_model #this is our LDA model object that we will work with"
   ]
  },
  {
   "cell_type": "code",
   "execution_count": 231,
   "id": "0776de9b",
   "metadata": {},
   "outputs": [
    {
     "name": "stdout",
     "output_type": "stream",
     "text": [
      "5\n"
     ]
    },
    {
     "data": {
      "text/plain": [
       "[(0,\n",
       "  '0.029*\"hunter\" + 0.021*\"biden\" + 0.020*\"say\" + 0.014*\"wire\" + 0.013*\"president\" + 0.012*\"address\" + 0.009*\"business\" + 0.009*\"impeachment\" + 0.009*\"hearing\" + 0.008*\"receive\"'),\n",
       " (1,\n",
       "  '0.002*\"hunter\" + 0.002*\"say\" + 0.002*\"biden\" + 0.001*\"bank\" + 0.001*\"address\" + 0.001*\"wire\" + 0.001*\"family\" + 0.001*\"hearing\" + 0.001*\"comer\" + 0.001*\"impeachment\"'),\n",
       " (2,\n",
       "  '0.021*\"hunter\" + 0.015*\"say\" + 0.009*\"biden\" + 0.009*\"president\" + 0.009*\"son\" + 0.009*\"artwork\" + 0.009*\"buyer\" + 0.009*\"purchase\" + 0.006*\"year\" + 0.006*\"know\"'),\n",
       " (3,\n",
       "  '0.022*\"hunter\" + 0.019*\"document\" + 0.018*\"biden\" + 0.015*\"say\" + 0.011*\"release\" + 0.011*\"investigation\" + 0.010*\"include\" + 0.009*\"committee\" + 0.008*\"family\" + 0.008*\"political\"'),\n",
       " (4,\n",
       "  '0.020*\"say\" + 0.014*\"plea\" + 0.012*\"hunter\" + 0.012*\"son\" + 0.012*\"federal\" + 0.012*\"deal\" + 0.012*\"charge\" + 0.012*\"agreement\" + 0.009*\"file\" + 0.009*\"criminal\"')]"
      ]
     },
     "execution_count": 231,
     "metadata": {},
     "output_type": "execute_result"
    }
   ],
   "source": [
    "#here we create a list of topic words and their associated weights\n",
    "LDA_model_topics = LDA_model.print_topics() #LDA_model[corpus]\n",
    "\n",
    "LDA_model_topics.sort()\n",
    "print(len(LDA_model_topics))\n",
    "LDA_model_topics\n"
   ]
  },
  {
   "cell_type": "code",
   "execution_count": 234,
   "id": "84da4c03",
   "metadata": {},
   "outputs": [
    {
     "data": {
      "text/plain": [
       "{'Topic_0': ['hunter',\n",
       "  'biden',\n",
       "  'say',\n",
       "  'wire',\n",
       "  'president',\n",
       "  'address',\n",
       "  'business',\n",
       "  'impeachment',\n",
       "  'hearing',\n",
       "  'receive'],\n",
       " 'Topic_1': ['hunter',\n",
       "  'say',\n",
       "  'biden',\n",
       "  'bank',\n",
       "  'address',\n",
       "  'wire',\n",
       "  'family',\n",
       "  'hearing',\n",
       "  'comer',\n",
       "  'impeachment'],\n",
       " 'Topic_2': ['hunter',\n",
       "  'say',\n",
       "  'biden',\n",
       "  'president',\n",
       "  'son',\n",
       "  'artwork',\n",
       "  'buyer',\n",
       "  'purchase',\n",
       "  'year',\n",
       "  'know'],\n",
       " 'Topic_3': ['hunter',\n",
       "  'document',\n",
       "  'biden',\n",
       "  'say',\n",
       "  'release',\n",
       "  'investigation',\n",
       "  'include',\n",
       "  'committee',\n",
       "  'family',\n",
       "  'political'],\n",
       " 'Topic_4': ['say',\n",
       "  'plea',\n",
       "  'hunter',\n",
       "  'son',\n",
       "  'federal',\n",
       "  'deal',\n",
       "  'charge',\n",
       "  'agreement',\n",
       "  'file',\n",
       "  'criminal']}"
      ]
     },
     "execution_count": 234,
     "metadata": {},
     "output_type": "execute_result"
    }
   ],
   "source": [
    "topic_dict = topic_level_sentiment(LDA_model)\n",
    "topic_dict"
   ]
  },
  {
   "cell_type": "markdown",
   "id": "e90c4670",
   "metadata": {},
   "source": [
    "# DATA VISUALIZATION"
   ]
  },
  {
   "cell_type": "code",
   "execution_count": 227,
   "id": "097d2461",
   "metadata": {
    "scrolled": true
   },
   "outputs": [
    {
     "data": {
      "text/html": [
       "<div>\n",
       "<style scoped>\n",
       "    .dataframe tbody tr th:only-of-type {\n",
       "        vertical-align: middle;\n",
       "    }\n",
       "\n",
       "    .dataframe tbody tr th {\n",
       "        vertical-align: top;\n",
       "    }\n",
       "\n",
       "    .dataframe thead th {\n",
       "        text-align: right;\n",
       "    }\n",
       "</style>\n",
       "<table border=\"1\" class=\"dataframe\">\n",
       "  <thead>\n",
       "    <tr style=\"text-align: right;\">\n",
       "      <th></th>\n",
       "      <th>URL</th>\n",
       "      <th>Sentiment Score</th>\n",
       "      <th>Sentiment Label</th>\n",
       "      <th>Subjectivity Score</th>\n",
       "      <th>Positive Words</th>\n",
       "      <th>Negative Words</th>\n",
       "      <th>Text</th>\n",
       "      <th>Topics</th>\n",
       "      <th>Main Topic</th>\n",
       "      <th>Main Topic Score</th>\n",
       "    </tr>\n",
       "  </thead>\n",
       "  <tbody>\n",
       "    <tr>\n",
       "      <th>0</th>\n",
       "      <td>https://www.foxnews.com/politics/hunter-bidens...</td>\n",
       "      <td>0.04</td>\n",
       "      <td>Neutral</td>\n",
       "      <td>0.24</td>\n",
       "      <td>more, unpaid, best, new, main, legal, first</td>\n",
       "      <td>down, limited, least, approximately, firm, pre...</td>\n",
       "      <td>exclusive: the $250,000 wire hunter biden rece...</td>\n",
       "      <td>[(0, 0.99782723)]</td>\n",
       "      <td>0</td>\n",
       "      <td>0.997827</td>\n",
       "    </tr>\n",
       "    <tr>\n",
       "      <th>1</th>\n",
       "      <td>https://www.foxnews.com/politics/doj-ordered-h...</td>\n",
       "      <td>0.06</td>\n",
       "      <td>Neutral Positive</td>\n",
       "      <td>0.35</td>\n",
       "      <td>detailed, more, real, normal, exactly, wealthy...</td>\n",
       "      <td>limited, artificially, least, subject, crimina...</td>\n",
       "      <td>the u.s. department of justice ordered fbi and...</td>\n",
       "      <td>[(3, 0.99828756)]</td>\n",
       "      <td>3</td>\n",
       "      <td>0.998288</td>\n",
       "    </tr>\n",
       "    <tr>\n",
       "      <th>2</th>\n",
       "      <td>https://www.foxnews.com/politics/hunter-biden-...</td>\n",
       "      <td>-0.04</td>\n",
       "      <td>Neutral Negative</td>\n",
       "      <td>0.37</td>\n",
       "      <td>direct, confirmed, extraordinary, generally, p...</td>\n",
       "      <td>complaint, falsely, expected, jail, not, past,...</td>\n",
       "      <td>hunter biden on tuesday filed a lawsuit agains...</td>\n",
       "      <td>[(0, 0.9978359)]</td>\n",
       "      <td>0</td>\n",
       "      <td>0.997836</td>\n",
       "    </tr>\n",
       "    <tr>\n",
       "      <th>3</th>\n",
       "      <td>https://apnews.com/article/hunter-biden-impeac...</td>\n",
       "      <td>0.02</td>\n",
       "      <td>Neutral Negative</td>\n",
       "      <td>0.37</td>\n",
       "      <td>more, right, promising, far, action, high, muc...</td>\n",
       "      <td>down, expected, unlikely, thin, criminal, long...</td>\n",
       "      <td>washington (ap) — house republicans launched a...</td>\n",
       "      <td>[(0, 0.9985421)]</td>\n",
       "      <td>0</td>\n",
       "      <td>0.998542</td>\n",
       "    </tr>\n",
       "    <tr>\n",
       "      <th>4</th>\n",
       "      <td>https://www.nation.com.pk/21-Jun-2023/hunter-b...</td>\n",
       "      <td>-0.04</td>\n",
       "      <td>Neutral Negative</td>\n",
       "      <td>0.44</td>\n",
       "      <td>detailed, love, important, not, social, first</td>\n",
       "      <td>least, subject, criminal, guilty, due, other, ...</td>\n",
       "      <td>washigton-hunter biden, the son of president j...</td>\n",
       "      <td>[(4, 0.9952259)]</td>\n",
       "      <td>4</td>\n",
       "      <td>0.995226</td>\n",
       "    </tr>\n",
       "    <tr>\n",
       "      <th>5</th>\n",
       "      <td>https://www.nation.com.pk/25-Jul-2021/white-ho...</td>\n",
       "      <td>0.10</td>\n",
       "      <td>Neutral Positive</td>\n",
       "      <td>0.41</td>\n",
       "      <td>winning, new, ethically, favorite, appropriate...</td>\n",
       "      <td>half</td>\n",
       "      <td>washington - the white house assured saturday ...</td>\n",
       "      <td>[(2, 0.9949)]</td>\n",
       "      <td>2</td>\n",
       "      <td>0.994900</td>\n",
       "    </tr>\n",
       "    <tr>\n",
       "      <th>6</th>\n",
       "      <td>https://www.nation.com.pk/24-Dec-2019/hunter-b...</td>\n",
       "      <td>-0.11</td>\n",
       "      <td>Negative</td>\n",
       "      <td>0.40</td>\n",
       "      <td>more, nearly, new</td>\n",
       "      <td>limited, subject, criminal, firm, allegedly, s...</td>\n",
       "      <td>hunter biden is the subject of multiple crimin...</td>\n",
       "      <td>[(3, 0.99431926)]</td>\n",
       "      <td>3</td>\n",
       "      <td>0.994319</td>\n",
       "    </tr>\n",
       "    <tr>\n",
       "      <th>7</th>\n",
       "      <td>https://www.cnn.com/2023/09/27/politics/house-...</td>\n",
       "      <td>-0.01</td>\n",
       "      <td>Neutral Negative</td>\n",
       "      <td>0.35</td>\n",
       "      <td>more, unpaid, real, apparent, significant, not...</td>\n",
       "      <td>complained, addicted, not, criminal, firm, clo...</td>\n",
       "      <td>washington cnn —\\ndocuments released wednesday...</td>\n",
       "      <td>[(3, 0.99840426)]</td>\n",
       "      <td>3</td>\n",
       "      <td>0.998404</td>\n",
       "    </tr>\n",
       "    <tr>\n",
       "      <th>8</th>\n",
       "      <td>https://www.bbc.com/news/world-us-canada-55805698</td>\n",
       "      <td>0.00</td>\n",
       "      <td>PARERROR: WebBlockerError</td>\n",
       "      <td>0.00</td>\n",
       "      <td></td>\n",
       "      <td></td>\n",
       "      <td>PARERROR: WebBlockerError</td>\n",
       "      <td>[(0, 0.1000385), (1, 0.10017772), (2, 0.100106...</td>\n",
       "      <td>3</td>\n",
       "      <td>0.599572</td>\n",
       "    </tr>\n",
       "    <tr>\n",
       "      <th>9</th>\n",
       "      <td>https://abcnews.go.com/Politics/comer-issue-su...</td>\n",
       "      <td>0.01</td>\n",
       "      <td>Neutral Negative</td>\n",
       "      <td>0.40</td>\n",
       "      <td>more, far, new, top, directly, first</td>\n",
       "      <td>extreme, other, missing, late, mean, previously</td>\n",
       "      <td>house oversight committee chairman james comer...</td>\n",
       "      <td>[(0, 0.99675417)]</td>\n",
       "      <td>0</td>\n",
       "      <td>0.996754</td>\n",
       "    </tr>\n",
       "  </tbody>\n",
       "</table>\n",
       "</div>"
      ],
      "text/plain": [
       "                                                 URL  Sentiment Score   \n",
       "0  https://www.foxnews.com/politics/hunter-bidens...             0.04  \\\n",
       "1  https://www.foxnews.com/politics/doj-ordered-h...             0.06   \n",
       "2  https://www.foxnews.com/politics/hunter-biden-...            -0.04   \n",
       "3  https://apnews.com/article/hunter-biden-impeac...             0.02   \n",
       "4  https://www.nation.com.pk/21-Jun-2023/hunter-b...            -0.04   \n",
       "5  https://www.nation.com.pk/25-Jul-2021/white-ho...             0.10   \n",
       "6  https://www.nation.com.pk/24-Dec-2019/hunter-b...            -0.11   \n",
       "7  https://www.cnn.com/2023/09/27/politics/house-...            -0.01   \n",
       "8  https://www.bbc.com/news/world-us-canada-55805698             0.00   \n",
       "9  https://abcnews.go.com/Politics/comer-issue-su...             0.01   \n",
       "\n",
       "             Sentiment Label  Subjectivity Score   \n",
       "0                    Neutral                0.24  \\\n",
       "1           Neutral Positive                0.35   \n",
       "2           Neutral Negative                0.37   \n",
       "3           Neutral Negative                0.37   \n",
       "4           Neutral Negative                0.44   \n",
       "5           Neutral Positive                0.41   \n",
       "6                   Negative                0.40   \n",
       "7           Neutral Negative                0.35   \n",
       "8  PARERROR: WebBlockerError                0.00   \n",
       "9           Neutral Negative                0.40   \n",
       "\n",
       "                                      Positive Words   \n",
       "0        more, unpaid, best, new, main, legal, first  \\\n",
       "1  detailed, more, real, normal, exactly, wealthy...   \n",
       "2  direct, confirmed, extraordinary, generally, p...   \n",
       "3  more, right, promising, far, action, high, muc...   \n",
       "4      detailed, love, important, not, social, first   \n",
       "5  winning, new, ethically, favorite, appropriate...   \n",
       "6                                  more, nearly, new   \n",
       "7  more, unpaid, real, apparent, significant, not...   \n",
       "8                                                      \n",
       "9               more, far, new, top, directly, first   \n",
       "\n",
       "                                      Negative Words   \n",
       "0  down, limited, least, approximately, firm, pre...  \\\n",
       "1  limited, artificially, least, subject, crimina...   \n",
       "2  complaint, falsely, expected, jail, not, past,...   \n",
       "3  down, expected, unlikely, thin, criminal, long...   \n",
       "4  least, subject, criminal, guilty, due, other, ...   \n",
       "5                                               half   \n",
       "6  limited, subject, criminal, firm, allegedly, s...   \n",
       "7  complained, addicted, not, criminal, firm, clo...   \n",
       "8                                                      \n",
       "9    extreme, other, missing, late, mean, previously   \n",
       "\n",
       "                                                Text   \n",
       "0  exclusive: the $250,000 wire hunter biden rece...  \\\n",
       "1  the u.s. department of justice ordered fbi and...   \n",
       "2  hunter biden on tuesday filed a lawsuit agains...   \n",
       "3  washington (ap) — house republicans launched a...   \n",
       "4  washigton-hunter biden, the son of president j...   \n",
       "5  washington - the white house assured saturday ...   \n",
       "6  hunter biden is the subject of multiple crimin...   \n",
       "7  washington cnn —\\ndocuments released wednesday...   \n",
       "8                          PARERROR: WebBlockerError   \n",
       "9  house oversight committee chairman james comer...   \n",
       "\n",
       "                                              Topics  Main Topic   \n",
       "0                                  [(0, 0.99782723)]           0  \\\n",
       "1                                  [(3, 0.99828756)]           3   \n",
       "2                                   [(0, 0.9978359)]           0   \n",
       "3                                   [(0, 0.9985421)]           0   \n",
       "4                                   [(4, 0.9952259)]           4   \n",
       "5                                      [(2, 0.9949)]           2   \n",
       "6                                  [(3, 0.99431926)]           3   \n",
       "7                                  [(3, 0.99840426)]           3   \n",
       "8  [(0, 0.1000385), (1, 0.10017772), (2, 0.100106...           3   \n",
       "9                                  [(0, 0.99675417)]           0   \n",
       "\n",
       "   Main Topic Score  \n",
       "0          0.997827  \n",
       "1          0.998288  \n",
       "2          0.997836  \n",
       "3          0.998542  \n",
       "4          0.995226  \n",
       "5          0.994900  \n",
       "6          0.994319  \n",
       "7          0.998404  \n",
       "8          0.599572  \n",
       "9          0.996754  "
      ]
     },
     "execution_count": 227,
     "metadata": {},
     "output_type": "execute_result"
    }
   ],
   "source": [
    "#making a new dataframe \n",
    "df_main_topic = add_main_topic_dataframe(df, LDA_model, corpus)\n",
    "\n",
    "df_main_topic\n",
    "\n",
    "#LDA_model.get_document_topics(corpus)\n",
    "#df['Topics'] = LDA_model.get_document_topics(corpus)\n",
    "#df.shape"
   ]
  },
  {
   "cell_type": "markdown",
   "id": "9587fb26",
   "metadata": {},
   "source": [
    "# Visualize all articles on their main topic"
   ]
  },
  {
   "cell_type": "code",
   "execution_count": 228,
   "id": "f85d1cda",
   "metadata": {
    "scrolled": true
   },
   "outputs": [
    {
     "data": {
      "application/vnd.plotly.v1+json": {
       "config": {
        "plotlyServerURL": "https://plot.ly"
       },
       "data": [
        {
         "customdata": [
          [
           "https://www.foxnews.com/politics/hu",
           "Neutral",
           0.9978272318840027
          ],
          [
           "https://www.foxnews.com/politics/hu",
           "Neutral Negative",
           0.9978358745574951
          ],
          [
           "https://apnews.com/article/hunter-b",
           "Neutral Negative",
           0.998542070388794
          ],
          [
           "https://abcnews.go.com/Politics/com",
           "Neutral Negative",
           0.9967541694641113
          ],
          [
           "https://www.nation.com.pk/25-Jul-20",
           "Neutral Positive",
           0.9948999881744385
          ],
          [
           "https://www.foxnews.com/politics/do",
           "Neutral Positive",
           0.998287558555603
          ],
          [
           "https://www.nation.com.pk/24-Dec-20",
           "Negative",
           0.9943192601203918
          ],
          [
           "https://www.cnn.com/2023/09/27/poli",
           "Neutral Negative",
           0.9984042644500732
          ],
          [
           "https://www.bbc.com/news/world-us-c",
           "PARERROR: WebBlockerError",
           0.5995721817016602
          ],
          [
           "https://www.nation.com.pk/21-Jun-20",
           "Neutral Negative",
           0.9952259063720703
          ]
         ],
         "hovertemplate": "Address: %{customdata[0]}<br>Sentiment Label: %{customdata[1]}<br>Main Topic Score :%{customdata[2]}",
         "legendgroup": "",
         "marker": {
          "color": "#636efa",
          "size": [
           0.9978272318840027,
           0.9978358745574951,
           0.998542070388794,
           0.9967541694641113,
           0.9948999881744385,
           0.998287558555603,
           0.9943192601203918,
           0.9984042644500732,
           0.5995721817016602,
           0.9952259063720703
          ],
          "sizemode": "area",
          "sizeref": 0.002496355175971985,
          "symbol": "circle"
         },
         "mode": "markers",
         "name": "",
         "orientation": "v",
         "showlegend": false,
         "type": "scatter",
         "x": [
          0,
          0,
          0,
          0,
          2,
          3,
          3,
          3,
          3,
          4
         ],
         "xaxis": "x",
         "y": [
          0.04,
          -0.04,
          0.02,
          0.01,
          0.1,
          0.06,
          -0.11,
          -0.01,
          0,
          -0.04
         ],
         "yaxis": "y"
        }
       ],
       "layout": {
        "legend": {
         "itemsizing": "constant",
         "tracegroupgap": 0
        },
        "template": {
         "data": {
          "bar": [
           {
            "error_x": {
             "color": "#2a3f5f"
            },
            "error_y": {
             "color": "#2a3f5f"
            },
            "marker": {
             "line": {
              "color": "#E5ECF6",
              "width": 0.5
             },
             "pattern": {
              "fillmode": "overlay",
              "size": 10,
              "solidity": 0.2
             }
            },
            "type": "bar"
           }
          ],
          "barpolar": [
           {
            "marker": {
             "line": {
              "color": "#E5ECF6",
              "width": 0.5
             },
             "pattern": {
              "fillmode": "overlay",
              "size": 10,
              "solidity": 0.2
             }
            },
            "type": "barpolar"
           }
          ],
          "carpet": [
           {
            "aaxis": {
             "endlinecolor": "#2a3f5f",
             "gridcolor": "white",
             "linecolor": "white",
             "minorgridcolor": "white",
             "startlinecolor": "#2a3f5f"
            },
            "baxis": {
             "endlinecolor": "#2a3f5f",
             "gridcolor": "white",
             "linecolor": "white",
             "minorgridcolor": "white",
             "startlinecolor": "#2a3f5f"
            },
            "type": "carpet"
           }
          ],
          "choropleth": [
           {
            "colorbar": {
             "outlinewidth": 0,
             "ticks": ""
            },
            "type": "choropleth"
           }
          ],
          "contour": [
           {
            "colorbar": {
             "outlinewidth": 0,
             "ticks": ""
            },
            "colorscale": [
             [
              0,
              "#0d0887"
             ],
             [
              0.1111111111111111,
              "#46039f"
             ],
             [
              0.2222222222222222,
              "#7201a8"
             ],
             [
              0.3333333333333333,
              "#9c179e"
             ],
             [
              0.4444444444444444,
              "#bd3786"
             ],
             [
              0.5555555555555556,
              "#d8576b"
             ],
             [
              0.6666666666666666,
              "#ed7953"
             ],
             [
              0.7777777777777778,
              "#fb9f3a"
             ],
             [
              0.8888888888888888,
              "#fdca26"
             ],
             [
              1,
              "#f0f921"
             ]
            ],
            "type": "contour"
           }
          ],
          "contourcarpet": [
           {
            "colorbar": {
             "outlinewidth": 0,
             "ticks": ""
            },
            "type": "contourcarpet"
           }
          ],
          "heatmap": [
           {
            "colorbar": {
             "outlinewidth": 0,
             "ticks": ""
            },
            "colorscale": [
             [
              0,
              "#0d0887"
             ],
             [
              0.1111111111111111,
              "#46039f"
             ],
             [
              0.2222222222222222,
              "#7201a8"
             ],
             [
              0.3333333333333333,
              "#9c179e"
             ],
             [
              0.4444444444444444,
              "#bd3786"
             ],
             [
              0.5555555555555556,
              "#d8576b"
             ],
             [
              0.6666666666666666,
              "#ed7953"
             ],
             [
              0.7777777777777778,
              "#fb9f3a"
             ],
             [
              0.8888888888888888,
              "#fdca26"
             ],
             [
              1,
              "#f0f921"
             ]
            ],
            "type": "heatmap"
           }
          ],
          "heatmapgl": [
           {
            "colorbar": {
             "outlinewidth": 0,
             "ticks": ""
            },
            "colorscale": [
             [
              0,
              "#0d0887"
             ],
             [
              0.1111111111111111,
              "#46039f"
             ],
             [
              0.2222222222222222,
              "#7201a8"
             ],
             [
              0.3333333333333333,
              "#9c179e"
             ],
             [
              0.4444444444444444,
              "#bd3786"
             ],
             [
              0.5555555555555556,
              "#d8576b"
             ],
             [
              0.6666666666666666,
              "#ed7953"
             ],
             [
              0.7777777777777778,
              "#fb9f3a"
             ],
             [
              0.8888888888888888,
              "#fdca26"
             ],
             [
              1,
              "#f0f921"
             ]
            ],
            "type": "heatmapgl"
           }
          ],
          "histogram": [
           {
            "marker": {
             "pattern": {
              "fillmode": "overlay",
              "size": 10,
              "solidity": 0.2
             }
            },
            "type": "histogram"
           }
          ],
          "histogram2d": [
           {
            "colorbar": {
             "outlinewidth": 0,
             "ticks": ""
            },
            "colorscale": [
             [
              0,
              "#0d0887"
             ],
             [
              0.1111111111111111,
              "#46039f"
             ],
             [
              0.2222222222222222,
              "#7201a8"
             ],
             [
              0.3333333333333333,
              "#9c179e"
             ],
             [
              0.4444444444444444,
              "#bd3786"
             ],
             [
              0.5555555555555556,
              "#d8576b"
             ],
             [
              0.6666666666666666,
              "#ed7953"
             ],
             [
              0.7777777777777778,
              "#fb9f3a"
             ],
             [
              0.8888888888888888,
              "#fdca26"
             ],
             [
              1,
              "#f0f921"
             ]
            ],
            "type": "histogram2d"
           }
          ],
          "histogram2dcontour": [
           {
            "colorbar": {
             "outlinewidth": 0,
             "ticks": ""
            },
            "colorscale": [
             [
              0,
              "#0d0887"
             ],
             [
              0.1111111111111111,
              "#46039f"
             ],
             [
              0.2222222222222222,
              "#7201a8"
             ],
             [
              0.3333333333333333,
              "#9c179e"
             ],
             [
              0.4444444444444444,
              "#bd3786"
             ],
             [
              0.5555555555555556,
              "#d8576b"
             ],
             [
              0.6666666666666666,
              "#ed7953"
             ],
             [
              0.7777777777777778,
              "#fb9f3a"
             ],
             [
              0.8888888888888888,
              "#fdca26"
             ],
             [
              1,
              "#f0f921"
             ]
            ],
            "type": "histogram2dcontour"
           }
          ],
          "mesh3d": [
           {
            "colorbar": {
             "outlinewidth": 0,
             "ticks": ""
            },
            "type": "mesh3d"
           }
          ],
          "parcoords": [
           {
            "line": {
             "colorbar": {
              "outlinewidth": 0,
              "ticks": ""
             }
            },
            "type": "parcoords"
           }
          ],
          "pie": [
           {
            "automargin": true,
            "type": "pie"
           }
          ],
          "scatter": [
           {
            "fillpattern": {
             "fillmode": "overlay",
             "size": 10,
             "solidity": 0.2
            },
            "type": "scatter"
           }
          ],
          "scatter3d": [
           {
            "line": {
             "colorbar": {
              "outlinewidth": 0,
              "ticks": ""
             }
            },
            "marker": {
             "colorbar": {
              "outlinewidth": 0,
              "ticks": ""
             }
            },
            "type": "scatter3d"
           }
          ],
          "scattercarpet": [
           {
            "marker": {
             "colorbar": {
              "outlinewidth": 0,
              "ticks": ""
             }
            },
            "type": "scattercarpet"
           }
          ],
          "scattergeo": [
           {
            "marker": {
             "colorbar": {
              "outlinewidth": 0,
              "ticks": ""
             }
            },
            "type": "scattergeo"
           }
          ],
          "scattergl": [
           {
            "marker": {
             "colorbar": {
              "outlinewidth": 0,
              "ticks": ""
             }
            },
            "type": "scattergl"
           }
          ],
          "scattermapbox": [
           {
            "marker": {
             "colorbar": {
              "outlinewidth": 0,
              "ticks": ""
             }
            },
            "type": "scattermapbox"
           }
          ],
          "scatterpolar": [
           {
            "marker": {
             "colorbar": {
              "outlinewidth": 0,
              "ticks": ""
             }
            },
            "type": "scatterpolar"
           }
          ],
          "scatterpolargl": [
           {
            "marker": {
             "colorbar": {
              "outlinewidth": 0,
              "ticks": ""
             }
            },
            "type": "scatterpolargl"
           }
          ],
          "scatterternary": [
           {
            "marker": {
             "colorbar": {
              "outlinewidth": 0,
              "ticks": ""
             }
            },
            "type": "scatterternary"
           }
          ],
          "surface": [
           {
            "colorbar": {
             "outlinewidth": 0,
             "ticks": ""
            },
            "colorscale": [
             [
              0,
              "#0d0887"
             ],
             [
              0.1111111111111111,
              "#46039f"
             ],
             [
              0.2222222222222222,
              "#7201a8"
             ],
             [
              0.3333333333333333,
              "#9c179e"
             ],
             [
              0.4444444444444444,
              "#bd3786"
             ],
             [
              0.5555555555555556,
              "#d8576b"
             ],
             [
              0.6666666666666666,
              "#ed7953"
             ],
             [
              0.7777777777777778,
              "#fb9f3a"
             ],
             [
              0.8888888888888888,
              "#fdca26"
             ],
             [
              1,
              "#f0f921"
             ]
            ],
            "type": "surface"
           }
          ],
          "table": [
           {
            "cells": {
             "fill": {
              "color": "#EBF0F8"
             },
             "line": {
              "color": "white"
             }
            },
            "header": {
             "fill": {
              "color": "#C8D4E3"
             },
             "line": {
              "color": "white"
             }
            },
            "type": "table"
           }
          ]
         },
         "layout": {
          "annotationdefaults": {
           "arrowcolor": "#2a3f5f",
           "arrowhead": 0,
           "arrowwidth": 1
          },
          "autotypenumbers": "strict",
          "coloraxis": {
           "colorbar": {
            "outlinewidth": 0,
            "ticks": ""
           }
          },
          "colorscale": {
           "diverging": [
            [
             0,
             "#8e0152"
            ],
            [
             0.1,
             "#c51b7d"
            ],
            [
             0.2,
             "#de77ae"
            ],
            [
             0.3,
             "#f1b6da"
            ],
            [
             0.4,
             "#fde0ef"
            ],
            [
             0.5,
             "#f7f7f7"
            ],
            [
             0.6,
             "#e6f5d0"
            ],
            [
             0.7,
             "#b8e186"
            ],
            [
             0.8,
             "#7fbc41"
            ],
            [
             0.9,
             "#4d9221"
            ],
            [
             1,
             "#276419"
            ]
           ],
           "sequential": [
            [
             0,
             "#0d0887"
            ],
            [
             0.1111111111111111,
             "#46039f"
            ],
            [
             0.2222222222222222,
             "#7201a8"
            ],
            [
             0.3333333333333333,
             "#9c179e"
            ],
            [
             0.4444444444444444,
             "#bd3786"
            ],
            [
             0.5555555555555556,
             "#d8576b"
            ],
            [
             0.6666666666666666,
             "#ed7953"
            ],
            [
             0.7777777777777778,
             "#fb9f3a"
            ],
            [
             0.8888888888888888,
             "#fdca26"
            ],
            [
             1,
             "#f0f921"
            ]
           ],
           "sequentialminus": [
            [
             0,
             "#0d0887"
            ],
            [
             0.1111111111111111,
             "#46039f"
            ],
            [
             0.2222222222222222,
             "#7201a8"
            ],
            [
             0.3333333333333333,
             "#9c179e"
            ],
            [
             0.4444444444444444,
             "#bd3786"
            ],
            [
             0.5555555555555556,
             "#d8576b"
            ],
            [
             0.6666666666666666,
             "#ed7953"
            ],
            [
             0.7777777777777778,
             "#fb9f3a"
            ],
            [
             0.8888888888888888,
             "#fdca26"
            ],
            [
             1,
             "#f0f921"
            ]
           ]
          },
          "colorway": [
           "#636efa",
           "#EF553B",
           "#00cc96",
           "#ab63fa",
           "#FFA15A",
           "#19d3f3",
           "#FF6692",
           "#B6E880",
           "#FF97FF",
           "#FECB52"
          ],
          "font": {
           "color": "#2a3f5f"
          },
          "geo": {
           "bgcolor": "white",
           "lakecolor": "white",
           "landcolor": "#E5ECF6",
           "showlakes": true,
           "showland": true,
           "subunitcolor": "white"
          },
          "hoverlabel": {
           "align": "left"
          },
          "hovermode": "closest",
          "mapbox": {
           "style": "light"
          },
          "paper_bgcolor": "white",
          "plot_bgcolor": "#E5ECF6",
          "polar": {
           "angularaxis": {
            "gridcolor": "white",
            "linecolor": "white",
            "ticks": ""
           },
           "bgcolor": "#E5ECF6",
           "radialaxis": {
            "gridcolor": "white",
            "linecolor": "white",
            "ticks": ""
           }
          },
          "scene": {
           "xaxis": {
            "backgroundcolor": "#E5ECF6",
            "gridcolor": "white",
            "gridwidth": 2,
            "linecolor": "white",
            "showbackground": true,
            "ticks": "",
            "zerolinecolor": "white"
           },
           "yaxis": {
            "backgroundcolor": "#E5ECF6",
            "gridcolor": "white",
            "gridwidth": 2,
            "linecolor": "white",
            "showbackground": true,
            "ticks": "",
            "zerolinecolor": "white"
           },
           "zaxis": {
            "backgroundcolor": "#E5ECF6",
            "gridcolor": "white",
            "gridwidth": 2,
            "linecolor": "white",
            "showbackground": true,
            "ticks": "",
            "zerolinecolor": "white"
           }
          },
          "shapedefaults": {
           "line": {
            "color": "#2a3f5f"
           }
          },
          "ternary": {
           "aaxis": {
            "gridcolor": "white",
            "linecolor": "white",
            "ticks": ""
           },
           "baxis": {
            "gridcolor": "white",
            "linecolor": "white",
            "ticks": ""
           },
           "bgcolor": "#E5ECF6",
           "caxis": {
            "gridcolor": "white",
            "linecolor": "white",
            "ticks": ""
           }
          },
          "title": {
           "x": 0.05
          },
          "xaxis": {
           "automargin": true,
           "gridcolor": "white",
           "linecolor": "white",
           "ticks": "",
           "title": {
            "standoff": 15
           },
           "zerolinecolor": "white",
           "zerolinewidth": 2
          },
          "yaxis": {
           "automargin": true,
           "gridcolor": "white",
           "linecolor": "white",
           "ticks": "",
           "title": {
            "standoff": 15
           },
           "zerolinecolor": "white",
           "zerolinewidth": 2
          }
         }
        },
        "title": {
         "text": "Articles Sorted By Main Topic"
        },
        "xaxis": {
         "anchor": "y",
         "domain": [
          0,
          1
         ],
         "title": {
          "text": "Main Topic"
         },
         "type": "category"
        },
        "yaxis": {
         "anchor": "x",
         "domain": [
          0,
          1
         ],
         "title": {
          "text": "Sentiment Score"
         }
        }
       }
      },
      "text/html": [
       "<div>                            <div id=\"76733796-bc57-426c-b231-4f2f0f8cb2ec\" class=\"plotly-graph-div\" style=\"height:525px; width:100%;\"></div>            <script type=\"text/javascript\">                require([\"plotly\"], function(Plotly) {                    window.PLOTLYENV=window.PLOTLYENV || {};                                    if (document.getElementById(\"76733796-bc57-426c-b231-4f2f0f8cb2ec\")) {                    Plotly.newPlot(                        \"76733796-bc57-426c-b231-4f2f0f8cb2ec\",                        [{\"customdata\":[[\"https:\\u002f\\u002fwww.foxnews.com\\u002fpolitics\\u002fhu\",\"Neutral\",0.9978272318840027],[\"https:\\u002f\\u002fwww.foxnews.com\\u002fpolitics\\u002fhu\",\"Neutral Negative\",0.9978358745574951],[\"https:\\u002f\\u002fapnews.com\\u002farticle\\u002fhunter-b\",\"Neutral Negative\",0.998542070388794],[\"https:\\u002f\\u002fabcnews.go.com\\u002fPolitics\\u002fcom\",\"Neutral Negative\",0.9967541694641113],[\"https:\\u002f\\u002fwww.nation.com.pk\\u002f25-Jul-20\",\"Neutral Positive\",0.9948999881744385],[\"https:\\u002f\\u002fwww.foxnews.com\\u002fpolitics\\u002fdo\",\"Neutral Positive\",0.998287558555603],[\"https:\\u002f\\u002fwww.nation.com.pk\\u002f24-Dec-20\",\"Negative\",0.9943192601203918],[\"https:\\u002f\\u002fwww.cnn.com\\u002f2023\\u002f09\\u002f27\\u002fpoli\",\"Neutral Negative\",0.9984042644500732],[\"https:\\u002f\\u002fwww.bbc.com\\u002fnews\\u002fworld-us-c\",\"PARERROR: WebBlockerError\",0.5995721817016602],[\"https:\\u002f\\u002fwww.nation.com.pk\\u002f21-Jun-20\",\"Neutral Negative\",0.9952259063720703]],\"hovertemplate\":\"Address: %{customdata[0]}\\u003cbr\\u003eSentiment Label: %{customdata[1]}\\u003cbr\\u003eMain Topic Score :%{customdata[2]}\",\"legendgroup\":\"\",\"marker\":{\"color\":\"#636efa\",\"size\":[0.9978272318840027,0.9978358745574951,0.998542070388794,0.9967541694641113,0.9948999881744385,0.998287558555603,0.9943192601203918,0.9984042644500732,0.5995721817016602,0.9952259063720703],\"sizemode\":\"area\",\"sizeref\":0.002496355175971985,\"symbol\":\"circle\"},\"mode\":\"markers\",\"name\":\"\",\"orientation\":\"v\",\"showlegend\":false,\"x\":[0,0,0,0,2,3,3,3,3,4],\"xaxis\":\"x\",\"y\":[0.04,-0.04,0.02,0.01,0.1,0.06,-0.11,-0.01,0.0,-0.04],\"yaxis\":\"y\",\"type\":\"scatter\"}],                        {\"template\":{\"data\":{\"histogram2dcontour\":[{\"type\":\"histogram2dcontour\",\"colorbar\":{\"outlinewidth\":0,\"ticks\":\"\"},\"colorscale\":[[0.0,\"#0d0887\"],[0.1111111111111111,\"#46039f\"],[0.2222222222222222,\"#7201a8\"],[0.3333333333333333,\"#9c179e\"],[0.4444444444444444,\"#bd3786\"],[0.5555555555555556,\"#d8576b\"],[0.6666666666666666,\"#ed7953\"],[0.7777777777777778,\"#fb9f3a\"],[0.8888888888888888,\"#fdca26\"],[1.0,\"#f0f921\"]]}],\"choropleth\":[{\"type\":\"choropleth\",\"colorbar\":{\"outlinewidth\":0,\"ticks\":\"\"}}],\"histogram2d\":[{\"type\":\"histogram2d\",\"colorbar\":{\"outlinewidth\":0,\"ticks\":\"\"},\"colorscale\":[[0.0,\"#0d0887\"],[0.1111111111111111,\"#46039f\"],[0.2222222222222222,\"#7201a8\"],[0.3333333333333333,\"#9c179e\"],[0.4444444444444444,\"#bd3786\"],[0.5555555555555556,\"#d8576b\"],[0.6666666666666666,\"#ed7953\"],[0.7777777777777778,\"#fb9f3a\"],[0.8888888888888888,\"#fdca26\"],[1.0,\"#f0f921\"]]}],\"heatmap\":[{\"type\":\"heatmap\",\"colorbar\":{\"outlinewidth\":0,\"ticks\":\"\"},\"colorscale\":[[0.0,\"#0d0887\"],[0.1111111111111111,\"#46039f\"],[0.2222222222222222,\"#7201a8\"],[0.3333333333333333,\"#9c179e\"],[0.4444444444444444,\"#bd3786\"],[0.5555555555555556,\"#d8576b\"],[0.6666666666666666,\"#ed7953\"],[0.7777777777777778,\"#fb9f3a\"],[0.8888888888888888,\"#fdca26\"],[1.0,\"#f0f921\"]]}],\"heatmapgl\":[{\"type\":\"heatmapgl\",\"colorbar\":{\"outlinewidth\":0,\"ticks\":\"\"},\"colorscale\":[[0.0,\"#0d0887\"],[0.1111111111111111,\"#46039f\"],[0.2222222222222222,\"#7201a8\"],[0.3333333333333333,\"#9c179e\"],[0.4444444444444444,\"#bd3786\"],[0.5555555555555556,\"#d8576b\"],[0.6666666666666666,\"#ed7953\"],[0.7777777777777778,\"#fb9f3a\"],[0.8888888888888888,\"#fdca26\"],[1.0,\"#f0f921\"]]}],\"contourcarpet\":[{\"type\":\"contourcarpet\",\"colorbar\":{\"outlinewidth\":0,\"ticks\":\"\"}}],\"contour\":[{\"type\":\"contour\",\"colorbar\":{\"outlinewidth\":0,\"ticks\":\"\"},\"colorscale\":[[0.0,\"#0d0887\"],[0.1111111111111111,\"#46039f\"],[0.2222222222222222,\"#7201a8\"],[0.3333333333333333,\"#9c179e\"],[0.4444444444444444,\"#bd3786\"],[0.5555555555555556,\"#d8576b\"],[0.6666666666666666,\"#ed7953\"],[0.7777777777777778,\"#fb9f3a\"],[0.8888888888888888,\"#fdca26\"],[1.0,\"#f0f921\"]]}],\"surface\":[{\"type\":\"surface\",\"colorbar\":{\"outlinewidth\":0,\"ticks\":\"\"},\"colorscale\":[[0.0,\"#0d0887\"],[0.1111111111111111,\"#46039f\"],[0.2222222222222222,\"#7201a8\"],[0.3333333333333333,\"#9c179e\"],[0.4444444444444444,\"#bd3786\"],[0.5555555555555556,\"#d8576b\"],[0.6666666666666666,\"#ed7953\"],[0.7777777777777778,\"#fb9f3a\"],[0.8888888888888888,\"#fdca26\"],[1.0,\"#f0f921\"]]}],\"mesh3d\":[{\"type\":\"mesh3d\",\"colorbar\":{\"outlinewidth\":0,\"ticks\":\"\"}}],\"scatter\":[{\"fillpattern\":{\"fillmode\":\"overlay\",\"size\":10,\"solidity\":0.2},\"type\":\"scatter\"}],\"parcoords\":[{\"type\":\"parcoords\",\"line\":{\"colorbar\":{\"outlinewidth\":0,\"ticks\":\"\"}}}],\"scatterpolargl\":[{\"type\":\"scatterpolargl\",\"marker\":{\"colorbar\":{\"outlinewidth\":0,\"ticks\":\"\"}}}],\"bar\":[{\"error_x\":{\"color\":\"#2a3f5f\"},\"error_y\":{\"color\":\"#2a3f5f\"},\"marker\":{\"line\":{\"color\":\"#E5ECF6\",\"width\":0.5},\"pattern\":{\"fillmode\":\"overlay\",\"size\":10,\"solidity\":0.2}},\"type\":\"bar\"}],\"scattergeo\":[{\"type\":\"scattergeo\",\"marker\":{\"colorbar\":{\"outlinewidth\":0,\"ticks\":\"\"}}}],\"scatterpolar\":[{\"type\":\"scatterpolar\",\"marker\":{\"colorbar\":{\"outlinewidth\":0,\"ticks\":\"\"}}}],\"histogram\":[{\"marker\":{\"pattern\":{\"fillmode\":\"overlay\",\"size\":10,\"solidity\":0.2}},\"type\":\"histogram\"}],\"scattergl\":[{\"type\":\"scattergl\",\"marker\":{\"colorbar\":{\"outlinewidth\":0,\"ticks\":\"\"}}}],\"scatter3d\":[{\"type\":\"scatter3d\",\"line\":{\"colorbar\":{\"outlinewidth\":0,\"ticks\":\"\"}},\"marker\":{\"colorbar\":{\"outlinewidth\":0,\"ticks\":\"\"}}}],\"scattermapbox\":[{\"type\":\"scattermapbox\",\"marker\":{\"colorbar\":{\"outlinewidth\":0,\"ticks\":\"\"}}}],\"scatterternary\":[{\"type\":\"scatterternary\",\"marker\":{\"colorbar\":{\"outlinewidth\":0,\"ticks\":\"\"}}}],\"scattercarpet\":[{\"type\":\"scattercarpet\",\"marker\":{\"colorbar\":{\"outlinewidth\":0,\"ticks\":\"\"}}}],\"carpet\":[{\"aaxis\":{\"endlinecolor\":\"#2a3f5f\",\"gridcolor\":\"white\",\"linecolor\":\"white\",\"minorgridcolor\":\"white\",\"startlinecolor\":\"#2a3f5f\"},\"baxis\":{\"endlinecolor\":\"#2a3f5f\",\"gridcolor\":\"white\",\"linecolor\":\"white\",\"minorgridcolor\":\"white\",\"startlinecolor\":\"#2a3f5f\"},\"type\":\"carpet\"}],\"table\":[{\"cells\":{\"fill\":{\"color\":\"#EBF0F8\"},\"line\":{\"color\":\"white\"}},\"header\":{\"fill\":{\"color\":\"#C8D4E3\"},\"line\":{\"color\":\"white\"}},\"type\":\"table\"}],\"barpolar\":[{\"marker\":{\"line\":{\"color\":\"#E5ECF6\",\"width\":0.5},\"pattern\":{\"fillmode\":\"overlay\",\"size\":10,\"solidity\":0.2}},\"type\":\"barpolar\"}],\"pie\":[{\"automargin\":true,\"type\":\"pie\"}]},\"layout\":{\"autotypenumbers\":\"strict\",\"colorway\":[\"#636efa\",\"#EF553B\",\"#00cc96\",\"#ab63fa\",\"#FFA15A\",\"#19d3f3\",\"#FF6692\",\"#B6E880\",\"#FF97FF\",\"#FECB52\"],\"font\":{\"color\":\"#2a3f5f\"},\"hovermode\":\"closest\",\"hoverlabel\":{\"align\":\"left\"},\"paper_bgcolor\":\"white\",\"plot_bgcolor\":\"#E5ECF6\",\"polar\":{\"bgcolor\":\"#E5ECF6\",\"angularaxis\":{\"gridcolor\":\"white\",\"linecolor\":\"white\",\"ticks\":\"\"},\"radialaxis\":{\"gridcolor\":\"white\",\"linecolor\":\"white\",\"ticks\":\"\"}},\"ternary\":{\"bgcolor\":\"#E5ECF6\",\"aaxis\":{\"gridcolor\":\"white\",\"linecolor\":\"white\",\"ticks\":\"\"},\"baxis\":{\"gridcolor\":\"white\",\"linecolor\":\"white\",\"ticks\":\"\"},\"caxis\":{\"gridcolor\":\"white\",\"linecolor\":\"white\",\"ticks\":\"\"}},\"coloraxis\":{\"colorbar\":{\"outlinewidth\":0,\"ticks\":\"\"}},\"colorscale\":{\"sequential\":[[0.0,\"#0d0887\"],[0.1111111111111111,\"#46039f\"],[0.2222222222222222,\"#7201a8\"],[0.3333333333333333,\"#9c179e\"],[0.4444444444444444,\"#bd3786\"],[0.5555555555555556,\"#d8576b\"],[0.6666666666666666,\"#ed7953\"],[0.7777777777777778,\"#fb9f3a\"],[0.8888888888888888,\"#fdca26\"],[1.0,\"#f0f921\"]],\"sequentialminus\":[[0.0,\"#0d0887\"],[0.1111111111111111,\"#46039f\"],[0.2222222222222222,\"#7201a8\"],[0.3333333333333333,\"#9c179e\"],[0.4444444444444444,\"#bd3786\"],[0.5555555555555556,\"#d8576b\"],[0.6666666666666666,\"#ed7953\"],[0.7777777777777778,\"#fb9f3a\"],[0.8888888888888888,\"#fdca26\"],[1.0,\"#f0f921\"]],\"diverging\":[[0,\"#8e0152\"],[0.1,\"#c51b7d\"],[0.2,\"#de77ae\"],[0.3,\"#f1b6da\"],[0.4,\"#fde0ef\"],[0.5,\"#f7f7f7\"],[0.6,\"#e6f5d0\"],[0.7,\"#b8e186\"],[0.8,\"#7fbc41\"],[0.9,\"#4d9221\"],[1,\"#276419\"]]},\"xaxis\":{\"gridcolor\":\"white\",\"linecolor\":\"white\",\"ticks\":\"\",\"title\":{\"standoff\":15},\"zerolinecolor\":\"white\",\"automargin\":true,\"zerolinewidth\":2},\"yaxis\":{\"gridcolor\":\"white\",\"linecolor\":\"white\",\"ticks\":\"\",\"title\":{\"standoff\":15},\"zerolinecolor\":\"white\",\"automargin\":true,\"zerolinewidth\":2},\"scene\":{\"xaxis\":{\"backgroundcolor\":\"#E5ECF6\",\"gridcolor\":\"white\",\"linecolor\":\"white\",\"showbackground\":true,\"ticks\":\"\",\"zerolinecolor\":\"white\",\"gridwidth\":2},\"yaxis\":{\"backgroundcolor\":\"#E5ECF6\",\"gridcolor\":\"white\",\"linecolor\":\"white\",\"showbackground\":true,\"ticks\":\"\",\"zerolinecolor\":\"white\",\"gridwidth\":2},\"zaxis\":{\"backgroundcolor\":\"#E5ECF6\",\"gridcolor\":\"white\",\"linecolor\":\"white\",\"showbackground\":true,\"ticks\":\"\",\"zerolinecolor\":\"white\",\"gridwidth\":2}},\"shapedefaults\":{\"line\":{\"color\":\"#2a3f5f\"}},\"annotationdefaults\":{\"arrowcolor\":\"#2a3f5f\",\"arrowhead\":0,\"arrowwidth\":1},\"geo\":{\"bgcolor\":\"white\",\"landcolor\":\"#E5ECF6\",\"subunitcolor\":\"white\",\"showland\":true,\"showlakes\":true,\"lakecolor\":\"white\"},\"title\":{\"x\":0.05},\"mapbox\":{\"style\":\"light\"}}},\"xaxis\":{\"anchor\":\"y\",\"domain\":[0.0,1.0],\"title\":{\"text\":\"Main Topic\"},\"type\":\"category\"},\"yaxis\":{\"anchor\":\"x\",\"domain\":[0.0,1.0],\"title\":{\"text\":\"Sentiment Score\"}},\"legend\":{\"tracegroupgap\":0,\"itemsizing\":\"constant\"},\"title\":{\"text\":\"Articles Sorted By Main Topic\"}},                        {\"responsive\": true}                    ).then(function(){\n",
       "                            \n",
       "var gd = document.getElementById('76733796-bc57-426c-b231-4f2f0f8cb2ec');\n",
       "var x = new MutationObserver(function (mutations, observer) {{\n",
       "        var display = window.getComputedStyle(gd).display;\n",
       "        if (!display || display === 'none') {{\n",
       "            console.log([gd, 'removed!']);\n",
       "            Plotly.purge(gd);\n",
       "            observer.disconnect();\n",
       "        }}\n",
       "}});\n",
       "\n",
       "// Listen for the removal of the full notebook cells\n",
       "var notebookContainer = gd.closest('#notebook-container');\n",
       "if (notebookContainer) {{\n",
       "    x.observe(notebookContainer, {childList: true});\n",
       "}}\n",
       "\n",
       "// Listen for the clearing of the current output cell\n",
       "var outputEl = gd.closest('.output');\n",
       "if (outputEl) {{\n",
       "    x.observe(outputEl, {childList: true});\n",
       "}}\n",
       "\n",
       "                        })                };                });            </script>        </div>"
      ]
     },
     "metadata": {},
     "output_type": "display_data"
    }
   ],
   "source": [
    "df_main_topic['Shortened Address'] = df_main_topic['URL'].str.slice(0,35) #shorten the urls to make them easier to read in hover text\n",
    "\n",
    "df_main_topic = df_main_topic.sort_values('Main Topic') #sort df by main topic so it is in order in the graph.\n",
    "\n",
    "fig_w_topics = px.scatter(df_main_topic, x=\"Main Topic\", y=\"Sentiment Score\",\n",
    "                         size=\"Main Topic Score\", custom_data = ['Shortened Address', 'Sentiment Label', 'Main Topic Score'],\n",
    "                         title=\"Articles Sorted By Main Topic\")#creating a scatter plot with x, y, and color from our df. \n",
    "#The custom_data is what we will add to our hover text\n",
    "\n",
    "fig_w_topics.update_traces(hovertemplate=\"<br>\".join([\"Address: %{customdata[0]}\",\n",
    "                                                     \"Sentiment Label: %{customdata[1]}\",\n",
    "                                                     \"Main Topic Score :%{customdata[2]}\"])\n",
    "                          )#set the hover text to show whatwas in custom_data\n",
    "\n",
    "fig_w_topics.update_xaxes(type=\"category\")#turn into categorical not continuous data for the x-axis\n",
    "\n",
    "fig_w_topics.show()"
   ]
  },
  {
   "cell_type": "markdown",
   "id": "e2dceebf",
   "metadata": {},
   "source": [
    "# Generating Cluster Graph of Topics"
   ]
  },
  {
   "cell_type": "code",
   "execution_count": 229,
   "id": "235fbeca",
   "metadata": {},
   "outputs": [
    {
     "name": "stdout",
     "output_type": "stream",
     "text": [
      "[t-SNE] Computing 9 nearest neighbors...\n",
      "[t-SNE] Indexed 10 samples in 0.000s...\n",
      "[t-SNE] Computed neighbors for 10 samples in 0.002s...\n",
      "[t-SNE] Computed conditional probabilities for sample 10 / 10\n",
      "[t-SNE] Mean sigma: 0.327521\n",
      "[t-SNE] KL divergence after 250 iterations with early exaggeration: 49.651405\n",
      "[t-SNE] KL divergence after 900 iterations: 0.112412\n"
     ]
    },
    {
     "data": {
      "application/vnd.plotly.v1+json": {
       "config": {
        "plotlyServerURL": "https://plot.ly"
       },
       "data": [
        {
         "customdata": [
          [
           "https://www.foxnews.com/politics/hu",
           "Neutral",
           0
          ],
          [
           "https://www.foxnews.com/politics/hu",
           "Neutral Negative",
           0
          ],
          [
           "https://apnews.com/article/hunter-b",
           "Neutral Negative",
           0
          ],
          [
           "https://abcnews.go.com/Politics/com",
           "Neutral Negative",
           0
          ]
         ],
         "hovertemplate": "Address: %{customdata[0]}<br>Sentiment Label: %{customdata[1]}<br>Main Topic:%{customdata[2]}",
         "legendgroup": "#F0F8FF",
         "marker": {
          "color": "#636efa",
          "size": [
           0.9978272318840027,
           0.9978358745574951,
           0.998542070388794,
           0.9967541694641113
          ],
          "sizemode": "area",
          "sizeref": 0.002496355175971985,
          "symbol": "circle"
         },
         "mode": "markers",
         "name": "#F0F8FF",
         "orientation": "v",
         "showlegend": true,
         "type": "scatter",
         "x": [
          -41.08700180053711,
          -71.42926025390625,
          -57.6408805847168,
          -54.868350982666016
         ],
         "xaxis": "x",
         "y": [
          -35.66732406616211,
          -32.8931770324707,
          -49.493038177490234,
          -19.080318450927734
         ],
         "yaxis": "y"
        },
        {
         "customdata": [
          [
           "https://www.foxnews.com/politics/do",
           "Neutral Positive",
           3
          ],
          [
           "https://www.nation.com.pk/24-Dec-20",
           "Negative",
           3
          ],
          [
           "https://www.cnn.com/2023/09/27/poli",
           "Neutral Negative",
           3
          ],
          [
           "https://www.bbc.com/news/world-us-c",
           "PARERROR: WebBlockerError",
           3
          ]
         ],
         "hovertemplate": "Address: %{customdata[0]}<br>Sentiment Label: %{customdata[1]}<br>Main Topic:%{customdata[2]}",
         "legendgroup": "#7FFFD4",
         "marker": {
          "color": "#EF553B",
          "size": [
           0.998287558555603,
           0.9943192601203918,
           0.9984042644500732,
           0.5995721817016602
          ],
          "sizemode": "area",
          "sizeref": 0.002496355175971985,
          "symbol": "circle"
         },
         "mode": "markers",
         "name": "#7FFFD4",
         "orientation": "v",
         "showlegend": true,
         "type": "scatter",
         "x": [
          124.89557647705078,
          143.0766143798828,
          126.27300262451172,
          100.21224212646484
         ],
         "xaxis": "x",
         "y": [
          51.179542541503906,
          41.03422546386719,
          28.810781478881836,
          38.29715347290039
         ],
         "yaxis": "y"
        },
        {
         "customdata": [
          [
           "https://www.nation.com.pk/21-Jun-20",
           "Neutral Negative",
           4
          ]
         ],
         "hovertemplate": "Address: %{customdata[0]}<br>Sentiment Label: %{customdata[1]}<br>Main Topic:%{customdata[2]}",
         "legendgroup": "#F0FFFF",
         "marker": {
          "color": "#00cc96",
          "size": [
           0.9952259063720703
          ],
          "sizemode": "area",
          "sizeref": 0.002496355175971985,
          "symbol": "circle"
         },
         "mode": "markers",
         "name": "#F0FFFF",
         "orientation": "v",
         "showlegend": true,
         "type": "scatter",
         "x": [
          79.35334014892578
         ],
         "xaxis": "x",
         "y": [
          55.149871826171875
         ],
         "yaxis": "y"
        },
        {
         "customdata": [
          [
           "https://www.nation.com.pk/25-Jul-20",
           "Neutral Positive",
           2
          ]
         ],
         "hovertemplate": "Address: %{customdata[0]}<br>Sentiment Label: %{customdata[1]}<br>Main Topic:%{customdata[2]}",
         "legendgroup": "#00FFFF",
         "marker": {
          "color": "#ab63fa",
          "size": [
           0.9948999881744385
          ],
          "sizemode": "area",
          "sizeref": 0.002496355175971985,
          "symbol": "circle"
         },
         "mode": "markers",
         "name": "#00FFFF",
         "orientation": "v",
         "showlegend": true,
         "type": "scatter",
         "x": [
          84.11781311035156
         ],
         "xaxis": "x",
         "y": [
          16.1162052154541
         ],
         "yaxis": "y"
        }
       ],
       "layout": {
        "legend": {
         "itemsizing": "constant",
         "title": {
          "text": "color"
         },
         "tracegroupgap": 0
        },
        "template": {
         "data": {
          "bar": [
           {
            "error_x": {
             "color": "#2a3f5f"
            },
            "error_y": {
             "color": "#2a3f5f"
            },
            "marker": {
             "line": {
              "color": "#E5ECF6",
              "width": 0.5
             },
             "pattern": {
              "fillmode": "overlay",
              "size": 10,
              "solidity": 0.2
             }
            },
            "type": "bar"
           }
          ],
          "barpolar": [
           {
            "marker": {
             "line": {
              "color": "#E5ECF6",
              "width": 0.5
             },
             "pattern": {
              "fillmode": "overlay",
              "size": 10,
              "solidity": 0.2
             }
            },
            "type": "barpolar"
           }
          ],
          "carpet": [
           {
            "aaxis": {
             "endlinecolor": "#2a3f5f",
             "gridcolor": "white",
             "linecolor": "white",
             "minorgridcolor": "white",
             "startlinecolor": "#2a3f5f"
            },
            "baxis": {
             "endlinecolor": "#2a3f5f",
             "gridcolor": "white",
             "linecolor": "white",
             "minorgridcolor": "white",
             "startlinecolor": "#2a3f5f"
            },
            "type": "carpet"
           }
          ],
          "choropleth": [
           {
            "colorbar": {
             "outlinewidth": 0,
             "ticks": ""
            },
            "type": "choropleth"
           }
          ],
          "contour": [
           {
            "colorbar": {
             "outlinewidth": 0,
             "ticks": ""
            },
            "colorscale": [
             [
              0,
              "#0d0887"
             ],
             [
              0.1111111111111111,
              "#46039f"
             ],
             [
              0.2222222222222222,
              "#7201a8"
             ],
             [
              0.3333333333333333,
              "#9c179e"
             ],
             [
              0.4444444444444444,
              "#bd3786"
             ],
             [
              0.5555555555555556,
              "#d8576b"
             ],
             [
              0.6666666666666666,
              "#ed7953"
             ],
             [
              0.7777777777777778,
              "#fb9f3a"
             ],
             [
              0.8888888888888888,
              "#fdca26"
             ],
             [
              1,
              "#f0f921"
             ]
            ],
            "type": "contour"
           }
          ],
          "contourcarpet": [
           {
            "colorbar": {
             "outlinewidth": 0,
             "ticks": ""
            },
            "type": "contourcarpet"
           }
          ],
          "heatmap": [
           {
            "colorbar": {
             "outlinewidth": 0,
             "ticks": ""
            },
            "colorscale": [
             [
              0,
              "#0d0887"
             ],
             [
              0.1111111111111111,
              "#46039f"
             ],
             [
              0.2222222222222222,
              "#7201a8"
             ],
             [
              0.3333333333333333,
              "#9c179e"
             ],
             [
              0.4444444444444444,
              "#bd3786"
             ],
             [
              0.5555555555555556,
              "#d8576b"
             ],
             [
              0.6666666666666666,
              "#ed7953"
             ],
             [
              0.7777777777777778,
              "#fb9f3a"
             ],
             [
              0.8888888888888888,
              "#fdca26"
             ],
             [
              1,
              "#f0f921"
             ]
            ],
            "type": "heatmap"
           }
          ],
          "heatmapgl": [
           {
            "colorbar": {
             "outlinewidth": 0,
             "ticks": ""
            },
            "colorscale": [
             [
              0,
              "#0d0887"
             ],
             [
              0.1111111111111111,
              "#46039f"
             ],
             [
              0.2222222222222222,
              "#7201a8"
             ],
             [
              0.3333333333333333,
              "#9c179e"
             ],
             [
              0.4444444444444444,
              "#bd3786"
             ],
             [
              0.5555555555555556,
              "#d8576b"
             ],
             [
              0.6666666666666666,
              "#ed7953"
             ],
             [
              0.7777777777777778,
              "#fb9f3a"
             ],
             [
              0.8888888888888888,
              "#fdca26"
             ],
             [
              1,
              "#f0f921"
             ]
            ],
            "type": "heatmapgl"
           }
          ],
          "histogram": [
           {
            "marker": {
             "pattern": {
              "fillmode": "overlay",
              "size": 10,
              "solidity": 0.2
             }
            },
            "type": "histogram"
           }
          ],
          "histogram2d": [
           {
            "colorbar": {
             "outlinewidth": 0,
             "ticks": ""
            },
            "colorscale": [
             [
              0,
              "#0d0887"
             ],
             [
              0.1111111111111111,
              "#46039f"
             ],
             [
              0.2222222222222222,
              "#7201a8"
             ],
             [
              0.3333333333333333,
              "#9c179e"
             ],
             [
              0.4444444444444444,
              "#bd3786"
             ],
             [
              0.5555555555555556,
              "#d8576b"
             ],
             [
              0.6666666666666666,
              "#ed7953"
             ],
             [
              0.7777777777777778,
              "#fb9f3a"
             ],
             [
              0.8888888888888888,
              "#fdca26"
             ],
             [
              1,
              "#f0f921"
             ]
            ],
            "type": "histogram2d"
           }
          ],
          "histogram2dcontour": [
           {
            "colorbar": {
             "outlinewidth": 0,
             "ticks": ""
            },
            "colorscale": [
             [
              0,
              "#0d0887"
             ],
             [
              0.1111111111111111,
              "#46039f"
             ],
             [
              0.2222222222222222,
              "#7201a8"
             ],
             [
              0.3333333333333333,
              "#9c179e"
             ],
             [
              0.4444444444444444,
              "#bd3786"
             ],
             [
              0.5555555555555556,
              "#d8576b"
             ],
             [
              0.6666666666666666,
              "#ed7953"
             ],
             [
              0.7777777777777778,
              "#fb9f3a"
             ],
             [
              0.8888888888888888,
              "#fdca26"
             ],
             [
              1,
              "#f0f921"
             ]
            ],
            "type": "histogram2dcontour"
           }
          ],
          "mesh3d": [
           {
            "colorbar": {
             "outlinewidth": 0,
             "ticks": ""
            },
            "type": "mesh3d"
           }
          ],
          "parcoords": [
           {
            "line": {
             "colorbar": {
              "outlinewidth": 0,
              "ticks": ""
             }
            },
            "type": "parcoords"
           }
          ],
          "pie": [
           {
            "automargin": true,
            "type": "pie"
           }
          ],
          "scatter": [
           {
            "fillpattern": {
             "fillmode": "overlay",
             "size": 10,
             "solidity": 0.2
            },
            "type": "scatter"
           }
          ],
          "scatter3d": [
           {
            "line": {
             "colorbar": {
              "outlinewidth": 0,
              "ticks": ""
             }
            },
            "marker": {
             "colorbar": {
              "outlinewidth": 0,
              "ticks": ""
             }
            },
            "type": "scatter3d"
           }
          ],
          "scattercarpet": [
           {
            "marker": {
             "colorbar": {
              "outlinewidth": 0,
              "ticks": ""
             }
            },
            "type": "scattercarpet"
           }
          ],
          "scattergeo": [
           {
            "marker": {
             "colorbar": {
              "outlinewidth": 0,
              "ticks": ""
             }
            },
            "type": "scattergeo"
           }
          ],
          "scattergl": [
           {
            "marker": {
             "colorbar": {
              "outlinewidth": 0,
              "ticks": ""
             }
            },
            "type": "scattergl"
           }
          ],
          "scattermapbox": [
           {
            "marker": {
             "colorbar": {
              "outlinewidth": 0,
              "ticks": ""
             }
            },
            "type": "scattermapbox"
           }
          ],
          "scatterpolar": [
           {
            "marker": {
             "colorbar": {
              "outlinewidth": 0,
              "ticks": ""
             }
            },
            "type": "scatterpolar"
           }
          ],
          "scatterpolargl": [
           {
            "marker": {
             "colorbar": {
              "outlinewidth": 0,
              "ticks": ""
             }
            },
            "type": "scatterpolargl"
           }
          ],
          "scatterternary": [
           {
            "marker": {
             "colorbar": {
              "outlinewidth": 0,
              "ticks": ""
             }
            },
            "type": "scatterternary"
           }
          ],
          "surface": [
           {
            "colorbar": {
             "outlinewidth": 0,
             "ticks": ""
            },
            "colorscale": [
             [
              0,
              "#0d0887"
             ],
             [
              0.1111111111111111,
              "#46039f"
             ],
             [
              0.2222222222222222,
              "#7201a8"
             ],
             [
              0.3333333333333333,
              "#9c179e"
             ],
             [
              0.4444444444444444,
              "#bd3786"
             ],
             [
              0.5555555555555556,
              "#d8576b"
             ],
             [
              0.6666666666666666,
              "#ed7953"
             ],
             [
              0.7777777777777778,
              "#fb9f3a"
             ],
             [
              0.8888888888888888,
              "#fdca26"
             ],
             [
              1,
              "#f0f921"
             ]
            ],
            "type": "surface"
           }
          ],
          "table": [
           {
            "cells": {
             "fill": {
              "color": "#EBF0F8"
             },
             "line": {
              "color": "white"
             }
            },
            "header": {
             "fill": {
              "color": "#C8D4E3"
             },
             "line": {
              "color": "white"
             }
            },
            "type": "table"
           }
          ]
         },
         "layout": {
          "annotationdefaults": {
           "arrowcolor": "#2a3f5f",
           "arrowhead": 0,
           "arrowwidth": 1
          },
          "autotypenumbers": "strict",
          "coloraxis": {
           "colorbar": {
            "outlinewidth": 0,
            "ticks": ""
           }
          },
          "colorscale": {
           "diverging": [
            [
             0,
             "#8e0152"
            ],
            [
             0.1,
             "#c51b7d"
            ],
            [
             0.2,
             "#de77ae"
            ],
            [
             0.3,
             "#f1b6da"
            ],
            [
             0.4,
             "#fde0ef"
            ],
            [
             0.5,
             "#f7f7f7"
            ],
            [
             0.6,
             "#e6f5d0"
            ],
            [
             0.7,
             "#b8e186"
            ],
            [
             0.8,
             "#7fbc41"
            ],
            [
             0.9,
             "#4d9221"
            ],
            [
             1,
             "#276419"
            ]
           ],
           "sequential": [
            [
             0,
             "#0d0887"
            ],
            [
             0.1111111111111111,
             "#46039f"
            ],
            [
             0.2222222222222222,
             "#7201a8"
            ],
            [
             0.3333333333333333,
             "#9c179e"
            ],
            [
             0.4444444444444444,
             "#bd3786"
            ],
            [
             0.5555555555555556,
             "#d8576b"
            ],
            [
             0.6666666666666666,
             "#ed7953"
            ],
            [
             0.7777777777777778,
             "#fb9f3a"
            ],
            [
             0.8888888888888888,
             "#fdca26"
            ],
            [
             1,
             "#f0f921"
            ]
           ],
           "sequentialminus": [
            [
             0,
             "#0d0887"
            ],
            [
             0.1111111111111111,
             "#46039f"
            ],
            [
             0.2222222222222222,
             "#7201a8"
            ],
            [
             0.3333333333333333,
             "#9c179e"
            ],
            [
             0.4444444444444444,
             "#bd3786"
            ],
            [
             0.5555555555555556,
             "#d8576b"
            ],
            [
             0.6666666666666666,
             "#ed7953"
            ],
            [
             0.7777777777777778,
             "#fb9f3a"
            ],
            [
             0.8888888888888888,
             "#fdca26"
            ],
            [
             1,
             "#f0f921"
            ]
           ]
          },
          "colorway": [
           "#636efa",
           "#EF553B",
           "#00cc96",
           "#ab63fa",
           "#FFA15A",
           "#19d3f3",
           "#FF6692",
           "#B6E880",
           "#FF97FF",
           "#FECB52"
          ],
          "font": {
           "color": "#2a3f5f"
          },
          "geo": {
           "bgcolor": "white",
           "lakecolor": "white",
           "landcolor": "#E5ECF6",
           "showlakes": true,
           "showland": true,
           "subunitcolor": "white"
          },
          "hoverlabel": {
           "align": "left"
          },
          "hovermode": "closest",
          "mapbox": {
           "style": "light"
          },
          "paper_bgcolor": "white",
          "plot_bgcolor": "#E5ECF6",
          "polar": {
           "angularaxis": {
            "gridcolor": "white",
            "linecolor": "white",
            "ticks": ""
           },
           "bgcolor": "#E5ECF6",
           "radialaxis": {
            "gridcolor": "white",
            "linecolor": "white",
            "ticks": ""
           }
          },
          "scene": {
           "xaxis": {
            "backgroundcolor": "#E5ECF6",
            "gridcolor": "white",
            "gridwidth": 2,
            "linecolor": "white",
            "showbackground": true,
            "ticks": "",
            "zerolinecolor": "white"
           },
           "yaxis": {
            "backgroundcolor": "#E5ECF6",
            "gridcolor": "white",
            "gridwidth": 2,
            "linecolor": "white",
            "showbackground": true,
            "ticks": "",
            "zerolinecolor": "white"
           },
           "zaxis": {
            "backgroundcolor": "#E5ECF6",
            "gridcolor": "white",
            "gridwidth": 2,
            "linecolor": "white",
            "showbackground": true,
            "ticks": "",
            "zerolinecolor": "white"
           }
          },
          "shapedefaults": {
           "line": {
            "color": "#2a3f5f"
           }
          },
          "ternary": {
           "aaxis": {
            "gridcolor": "white",
            "linecolor": "white",
            "ticks": ""
           },
           "baxis": {
            "gridcolor": "white",
            "linecolor": "white",
            "ticks": ""
           },
           "bgcolor": "#E5ECF6",
           "caxis": {
            "gridcolor": "white",
            "linecolor": "white",
            "ticks": ""
           }
          },
          "title": {
           "x": 0.05
          },
          "xaxis": {
           "automargin": true,
           "gridcolor": "white",
           "linecolor": "white",
           "ticks": "",
           "title": {
            "standoff": 15
           },
           "zerolinecolor": "white",
           "zerolinewidth": 2
          },
          "yaxis": {
           "automargin": true,
           "gridcolor": "white",
           "linecolor": "white",
           "ticks": "",
           "title": {
            "standoff": 15
           },
           "zerolinecolor": "white",
           "zerolinewidth": 2
          }
         }
        },
        "title": {
         "text": "Topic Clustering Graph"
        },
        "xaxis": {
         "anchor": "y",
         "domain": [
          0,
          1
         ],
         "title": {
          "text": "x"
         }
        },
        "yaxis": {
         "anchor": "x",
         "domain": [
          0,
          1
         ],
         "title": {
          "text": "y"
         }
        }
       }
      },
      "text/html": [
       "<div>                            <div id=\"afa125f7-0396-47fa-9aab-05fd0c163591\" class=\"plotly-graph-div\" style=\"height:525px; width:100%;\"></div>            <script type=\"text/javascript\">                require([\"plotly\"], function(Plotly) {                    window.PLOTLYENV=window.PLOTLYENV || {};                                    if (document.getElementById(\"afa125f7-0396-47fa-9aab-05fd0c163591\")) {                    Plotly.newPlot(                        \"afa125f7-0396-47fa-9aab-05fd0c163591\",                        [{\"customdata\":[[\"https:\\u002f\\u002fwww.foxnews.com\\u002fpolitics\\u002fhu\",\"Neutral\",0],[\"https:\\u002f\\u002fwww.foxnews.com\\u002fpolitics\\u002fhu\",\"Neutral Negative\",0],[\"https:\\u002f\\u002fapnews.com\\u002farticle\\u002fhunter-b\",\"Neutral Negative\",0],[\"https:\\u002f\\u002fabcnews.go.com\\u002fPolitics\\u002fcom\",\"Neutral Negative\",0]],\"hovertemplate\":\"Address: %{customdata[0]}\\u003cbr\\u003eSentiment Label: %{customdata[1]}\\u003cbr\\u003eMain Topic:%{customdata[2]}\",\"legendgroup\":\"#F0F8FF\",\"marker\":{\"color\":\"#636efa\",\"size\":[0.9978272318840027,0.9978358745574951,0.998542070388794,0.9967541694641113],\"sizemode\":\"area\",\"sizeref\":0.002496355175971985,\"symbol\":\"circle\"},\"mode\":\"markers\",\"name\":\"#F0F8FF\",\"orientation\":\"v\",\"showlegend\":true,\"x\":[-41.08700180053711,-71.42926025390625,-57.6408805847168,-54.868350982666016],\"xaxis\":\"x\",\"y\":[-35.66732406616211,-32.8931770324707,-49.493038177490234,-19.080318450927734],\"yaxis\":\"y\",\"type\":\"scatter\"},{\"customdata\":[[\"https:\\u002f\\u002fwww.foxnews.com\\u002fpolitics\\u002fdo\",\"Neutral Positive\",3],[\"https:\\u002f\\u002fwww.nation.com.pk\\u002f24-Dec-20\",\"Negative\",3],[\"https:\\u002f\\u002fwww.cnn.com\\u002f2023\\u002f09\\u002f27\\u002fpoli\",\"Neutral Negative\",3],[\"https:\\u002f\\u002fwww.bbc.com\\u002fnews\\u002fworld-us-c\",\"PARERROR: WebBlockerError\",3]],\"hovertemplate\":\"Address: %{customdata[0]}\\u003cbr\\u003eSentiment Label: %{customdata[1]}\\u003cbr\\u003eMain Topic:%{customdata[2]}\",\"legendgroup\":\"#7FFFD4\",\"marker\":{\"color\":\"#EF553B\",\"size\":[0.998287558555603,0.9943192601203918,0.9984042644500732,0.5995721817016602],\"sizemode\":\"area\",\"sizeref\":0.002496355175971985,\"symbol\":\"circle\"},\"mode\":\"markers\",\"name\":\"#7FFFD4\",\"orientation\":\"v\",\"showlegend\":true,\"x\":[124.89557647705078,143.0766143798828,126.27300262451172,100.21224212646484],\"xaxis\":\"x\",\"y\":[51.179542541503906,41.03422546386719,28.810781478881836,38.29715347290039],\"yaxis\":\"y\",\"type\":\"scatter\"},{\"customdata\":[[\"https:\\u002f\\u002fwww.nation.com.pk\\u002f21-Jun-20\",\"Neutral Negative\",4]],\"hovertemplate\":\"Address: %{customdata[0]}\\u003cbr\\u003eSentiment Label: %{customdata[1]}\\u003cbr\\u003eMain Topic:%{customdata[2]}\",\"legendgroup\":\"#F0FFFF\",\"marker\":{\"color\":\"#00cc96\",\"size\":[0.9952259063720703],\"sizemode\":\"area\",\"sizeref\":0.002496355175971985,\"symbol\":\"circle\"},\"mode\":\"markers\",\"name\":\"#F0FFFF\",\"orientation\":\"v\",\"showlegend\":true,\"x\":[79.35334014892578],\"xaxis\":\"x\",\"y\":[55.149871826171875],\"yaxis\":\"y\",\"type\":\"scatter\"},{\"customdata\":[[\"https:\\u002f\\u002fwww.nation.com.pk\\u002f25-Jul-20\",\"Neutral Positive\",2]],\"hovertemplate\":\"Address: %{customdata[0]}\\u003cbr\\u003eSentiment Label: %{customdata[1]}\\u003cbr\\u003eMain Topic:%{customdata[2]}\",\"legendgroup\":\"#00FFFF\",\"marker\":{\"color\":\"#ab63fa\",\"size\":[0.9948999881744385],\"sizemode\":\"area\",\"sizeref\":0.002496355175971985,\"symbol\":\"circle\"},\"mode\":\"markers\",\"name\":\"#00FFFF\",\"orientation\":\"v\",\"showlegend\":true,\"x\":[84.11781311035156],\"xaxis\":\"x\",\"y\":[16.1162052154541],\"yaxis\":\"y\",\"type\":\"scatter\"}],                        {\"template\":{\"data\":{\"histogram2dcontour\":[{\"type\":\"histogram2dcontour\",\"colorbar\":{\"outlinewidth\":0,\"ticks\":\"\"},\"colorscale\":[[0.0,\"#0d0887\"],[0.1111111111111111,\"#46039f\"],[0.2222222222222222,\"#7201a8\"],[0.3333333333333333,\"#9c179e\"],[0.4444444444444444,\"#bd3786\"],[0.5555555555555556,\"#d8576b\"],[0.6666666666666666,\"#ed7953\"],[0.7777777777777778,\"#fb9f3a\"],[0.8888888888888888,\"#fdca26\"],[1.0,\"#f0f921\"]]}],\"choropleth\":[{\"type\":\"choropleth\",\"colorbar\":{\"outlinewidth\":0,\"ticks\":\"\"}}],\"histogram2d\":[{\"type\":\"histogram2d\",\"colorbar\":{\"outlinewidth\":0,\"ticks\":\"\"},\"colorscale\":[[0.0,\"#0d0887\"],[0.1111111111111111,\"#46039f\"],[0.2222222222222222,\"#7201a8\"],[0.3333333333333333,\"#9c179e\"],[0.4444444444444444,\"#bd3786\"],[0.5555555555555556,\"#d8576b\"],[0.6666666666666666,\"#ed7953\"],[0.7777777777777778,\"#fb9f3a\"],[0.8888888888888888,\"#fdca26\"],[1.0,\"#f0f921\"]]}],\"heatmap\":[{\"type\":\"heatmap\",\"colorbar\":{\"outlinewidth\":0,\"ticks\":\"\"},\"colorscale\":[[0.0,\"#0d0887\"],[0.1111111111111111,\"#46039f\"],[0.2222222222222222,\"#7201a8\"],[0.3333333333333333,\"#9c179e\"],[0.4444444444444444,\"#bd3786\"],[0.5555555555555556,\"#d8576b\"],[0.6666666666666666,\"#ed7953\"],[0.7777777777777778,\"#fb9f3a\"],[0.8888888888888888,\"#fdca26\"],[1.0,\"#f0f921\"]]}],\"heatmapgl\":[{\"type\":\"heatmapgl\",\"colorbar\":{\"outlinewidth\":0,\"ticks\":\"\"},\"colorscale\":[[0.0,\"#0d0887\"],[0.1111111111111111,\"#46039f\"],[0.2222222222222222,\"#7201a8\"],[0.3333333333333333,\"#9c179e\"],[0.4444444444444444,\"#bd3786\"],[0.5555555555555556,\"#d8576b\"],[0.6666666666666666,\"#ed7953\"],[0.7777777777777778,\"#fb9f3a\"],[0.8888888888888888,\"#fdca26\"],[1.0,\"#f0f921\"]]}],\"contourcarpet\":[{\"type\":\"contourcarpet\",\"colorbar\":{\"outlinewidth\":0,\"ticks\":\"\"}}],\"contour\":[{\"type\":\"contour\",\"colorbar\":{\"outlinewidth\":0,\"ticks\":\"\"},\"colorscale\":[[0.0,\"#0d0887\"],[0.1111111111111111,\"#46039f\"],[0.2222222222222222,\"#7201a8\"],[0.3333333333333333,\"#9c179e\"],[0.4444444444444444,\"#bd3786\"],[0.5555555555555556,\"#d8576b\"],[0.6666666666666666,\"#ed7953\"],[0.7777777777777778,\"#fb9f3a\"],[0.8888888888888888,\"#fdca26\"],[1.0,\"#f0f921\"]]}],\"surface\":[{\"type\":\"surface\",\"colorbar\":{\"outlinewidth\":0,\"ticks\":\"\"},\"colorscale\":[[0.0,\"#0d0887\"],[0.1111111111111111,\"#46039f\"],[0.2222222222222222,\"#7201a8\"],[0.3333333333333333,\"#9c179e\"],[0.4444444444444444,\"#bd3786\"],[0.5555555555555556,\"#d8576b\"],[0.6666666666666666,\"#ed7953\"],[0.7777777777777778,\"#fb9f3a\"],[0.8888888888888888,\"#fdca26\"],[1.0,\"#f0f921\"]]}],\"mesh3d\":[{\"type\":\"mesh3d\",\"colorbar\":{\"outlinewidth\":0,\"ticks\":\"\"}}],\"scatter\":[{\"fillpattern\":{\"fillmode\":\"overlay\",\"size\":10,\"solidity\":0.2},\"type\":\"scatter\"}],\"parcoords\":[{\"type\":\"parcoords\",\"line\":{\"colorbar\":{\"outlinewidth\":0,\"ticks\":\"\"}}}],\"scatterpolargl\":[{\"type\":\"scatterpolargl\",\"marker\":{\"colorbar\":{\"outlinewidth\":0,\"ticks\":\"\"}}}],\"bar\":[{\"error_x\":{\"color\":\"#2a3f5f\"},\"error_y\":{\"color\":\"#2a3f5f\"},\"marker\":{\"line\":{\"color\":\"#E5ECF6\",\"width\":0.5},\"pattern\":{\"fillmode\":\"overlay\",\"size\":10,\"solidity\":0.2}},\"type\":\"bar\"}],\"scattergeo\":[{\"type\":\"scattergeo\",\"marker\":{\"colorbar\":{\"outlinewidth\":0,\"ticks\":\"\"}}}],\"scatterpolar\":[{\"type\":\"scatterpolar\",\"marker\":{\"colorbar\":{\"outlinewidth\":0,\"ticks\":\"\"}}}],\"histogram\":[{\"marker\":{\"pattern\":{\"fillmode\":\"overlay\",\"size\":10,\"solidity\":0.2}},\"type\":\"histogram\"}],\"scattergl\":[{\"type\":\"scattergl\",\"marker\":{\"colorbar\":{\"outlinewidth\":0,\"ticks\":\"\"}}}],\"scatter3d\":[{\"type\":\"scatter3d\",\"line\":{\"colorbar\":{\"outlinewidth\":0,\"ticks\":\"\"}},\"marker\":{\"colorbar\":{\"outlinewidth\":0,\"ticks\":\"\"}}}],\"scattermapbox\":[{\"type\":\"scattermapbox\",\"marker\":{\"colorbar\":{\"outlinewidth\":0,\"ticks\":\"\"}}}],\"scatterternary\":[{\"type\":\"scatterternary\",\"marker\":{\"colorbar\":{\"outlinewidth\":0,\"ticks\":\"\"}}}],\"scattercarpet\":[{\"type\":\"scattercarpet\",\"marker\":{\"colorbar\":{\"outlinewidth\":0,\"ticks\":\"\"}}}],\"carpet\":[{\"aaxis\":{\"endlinecolor\":\"#2a3f5f\",\"gridcolor\":\"white\",\"linecolor\":\"white\",\"minorgridcolor\":\"white\",\"startlinecolor\":\"#2a3f5f\"},\"baxis\":{\"endlinecolor\":\"#2a3f5f\",\"gridcolor\":\"white\",\"linecolor\":\"white\",\"minorgridcolor\":\"white\",\"startlinecolor\":\"#2a3f5f\"},\"type\":\"carpet\"}],\"table\":[{\"cells\":{\"fill\":{\"color\":\"#EBF0F8\"},\"line\":{\"color\":\"white\"}},\"header\":{\"fill\":{\"color\":\"#C8D4E3\"},\"line\":{\"color\":\"white\"}},\"type\":\"table\"}],\"barpolar\":[{\"marker\":{\"line\":{\"color\":\"#E5ECF6\",\"width\":0.5},\"pattern\":{\"fillmode\":\"overlay\",\"size\":10,\"solidity\":0.2}},\"type\":\"barpolar\"}],\"pie\":[{\"automargin\":true,\"type\":\"pie\"}]},\"layout\":{\"autotypenumbers\":\"strict\",\"colorway\":[\"#636efa\",\"#EF553B\",\"#00cc96\",\"#ab63fa\",\"#FFA15A\",\"#19d3f3\",\"#FF6692\",\"#B6E880\",\"#FF97FF\",\"#FECB52\"],\"font\":{\"color\":\"#2a3f5f\"},\"hovermode\":\"closest\",\"hoverlabel\":{\"align\":\"left\"},\"paper_bgcolor\":\"white\",\"plot_bgcolor\":\"#E5ECF6\",\"polar\":{\"bgcolor\":\"#E5ECF6\",\"angularaxis\":{\"gridcolor\":\"white\",\"linecolor\":\"white\",\"ticks\":\"\"},\"radialaxis\":{\"gridcolor\":\"white\",\"linecolor\":\"white\",\"ticks\":\"\"}},\"ternary\":{\"bgcolor\":\"#E5ECF6\",\"aaxis\":{\"gridcolor\":\"white\",\"linecolor\":\"white\",\"ticks\":\"\"},\"baxis\":{\"gridcolor\":\"white\",\"linecolor\":\"white\",\"ticks\":\"\"},\"caxis\":{\"gridcolor\":\"white\",\"linecolor\":\"white\",\"ticks\":\"\"}},\"coloraxis\":{\"colorbar\":{\"outlinewidth\":0,\"ticks\":\"\"}},\"colorscale\":{\"sequential\":[[0.0,\"#0d0887\"],[0.1111111111111111,\"#46039f\"],[0.2222222222222222,\"#7201a8\"],[0.3333333333333333,\"#9c179e\"],[0.4444444444444444,\"#bd3786\"],[0.5555555555555556,\"#d8576b\"],[0.6666666666666666,\"#ed7953\"],[0.7777777777777778,\"#fb9f3a\"],[0.8888888888888888,\"#fdca26\"],[1.0,\"#f0f921\"]],\"sequentialminus\":[[0.0,\"#0d0887\"],[0.1111111111111111,\"#46039f\"],[0.2222222222222222,\"#7201a8\"],[0.3333333333333333,\"#9c179e\"],[0.4444444444444444,\"#bd3786\"],[0.5555555555555556,\"#d8576b\"],[0.6666666666666666,\"#ed7953\"],[0.7777777777777778,\"#fb9f3a\"],[0.8888888888888888,\"#fdca26\"],[1.0,\"#f0f921\"]],\"diverging\":[[0,\"#8e0152\"],[0.1,\"#c51b7d\"],[0.2,\"#de77ae\"],[0.3,\"#f1b6da\"],[0.4,\"#fde0ef\"],[0.5,\"#f7f7f7\"],[0.6,\"#e6f5d0\"],[0.7,\"#b8e186\"],[0.8,\"#7fbc41\"],[0.9,\"#4d9221\"],[1,\"#276419\"]]},\"xaxis\":{\"gridcolor\":\"white\",\"linecolor\":\"white\",\"ticks\":\"\",\"title\":{\"standoff\":15},\"zerolinecolor\":\"white\",\"automargin\":true,\"zerolinewidth\":2},\"yaxis\":{\"gridcolor\":\"white\",\"linecolor\":\"white\",\"ticks\":\"\",\"title\":{\"standoff\":15},\"zerolinecolor\":\"white\",\"automargin\":true,\"zerolinewidth\":2},\"scene\":{\"xaxis\":{\"backgroundcolor\":\"#E5ECF6\",\"gridcolor\":\"white\",\"linecolor\":\"white\",\"showbackground\":true,\"ticks\":\"\",\"zerolinecolor\":\"white\",\"gridwidth\":2},\"yaxis\":{\"backgroundcolor\":\"#E5ECF6\",\"gridcolor\":\"white\",\"linecolor\":\"white\",\"showbackground\":true,\"ticks\":\"\",\"zerolinecolor\":\"white\",\"gridwidth\":2},\"zaxis\":{\"backgroundcolor\":\"#E5ECF6\",\"gridcolor\":\"white\",\"linecolor\":\"white\",\"showbackground\":true,\"ticks\":\"\",\"zerolinecolor\":\"white\",\"gridwidth\":2}},\"shapedefaults\":{\"line\":{\"color\":\"#2a3f5f\"}},\"annotationdefaults\":{\"arrowcolor\":\"#2a3f5f\",\"arrowhead\":0,\"arrowwidth\":1},\"geo\":{\"bgcolor\":\"white\",\"landcolor\":\"#E5ECF6\",\"subunitcolor\":\"white\",\"showland\":true,\"showlakes\":true,\"lakecolor\":\"white\"},\"title\":{\"x\":0.05},\"mapbox\":{\"style\":\"light\"}}},\"xaxis\":{\"anchor\":\"y\",\"domain\":[0.0,1.0],\"title\":{\"text\":\"x\"}},\"yaxis\":{\"anchor\":\"x\",\"domain\":[0.0,1.0],\"title\":{\"text\":\"y\"}},\"legend\":{\"title\":{\"text\":\"color\"},\"tracegroupgap\":0,\"itemsizing\":\"constant\"},\"title\":{\"text\":\"Topic Clustering Graph\"}},                        {\"responsive\": true}                    ).then(function(){\n",
       "                            \n",
       "var gd = document.getElementById('afa125f7-0396-47fa-9aab-05fd0c163591');\n",
       "var x = new MutationObserver(function (mutations, observer) {{\n",
       "        var display = window.getComputedStyle(gd).display;\n",
       "        if (!display || display === 'none') {{\n",
       "            console.log([gd, 'removed!']);\n",
       "            Plotly.purge(gd);\n",
       "            observer.disconnect();\n",
       "        }}\n",
       "}});\n",
       "\n",
       "// Listen for the removal of the full notebook cells\n",
       "var notebookContainer = gd.closest('#notebook-container');\n",
       "if (notebookContainer) {{\n",
       "    x.observe(notebookContainer, {childList: true});\n",
       "}}\n",
       "\n",
       "// Listen for the clearing of the current output cell\n",
       "var outputEl = gd.closest('.output');\n",
       "if (outputEl) {{\n",
       "    x.observe(outputEl, {childList: true});\n",
       "}}\n",
       "\n",
       "                        })                };                });            </script>        </div>"
      ]
     },
     "metadata": {},
     "output_type": "display_data"
    }
   ],
   "source": [
    "num_topics = len(LDA_model_topics)\n",
    "\n",
    "#print(num_topics)\n",
    "\n",
    "#Get Topic Weights\n",
    "topic_weights = []\n",
    "for i in df[\"Topics\"]:\n",
    "    per_doc_list = [None] * num_topics\n",
    "    #print(len(per_doc_list))\n",
    "    for x in i:\n",
    "        #print(x)\n",
    "        per_doc_list[x[0]] = x[1]\n",
    "    topic_weights.append(per_doc_list)\n",
    "\n",
    "# Array of topic weights    \n",
    "arr = pd.DataFrame(topic_weights).fillna(0).to_numpy()\n",
    "\n",
    "# Dominant topic number in each doc\n",
    "topic_num = np.argmax(arr, axis=1)\n",
    "\n",
    "#print(arr)\n",
    "\n",
    "# tSNE Model Creation\n",
    "tsne_model = TSNE(n_components=2, verbose=1, \n",
    "                  random_state=0, angle=.99, \n",
    "                  init='pca', perplexity = (arr.shape[0] - 1) / 3)\n",
    "tsne_lda = tsne_model.fit_transform(arr)\n",
    "\n",
    "#Color palette for the clusters\n",
    "mycolors = np.array([color for name, color in mcolors.CSS4_COLORS.items()])\n",
    "\n",
    "\n",
    "#creating the cluster graph in plotly\n",
    "fig_cluster = px.scatter(df, x = tsne_lda[:,0],y = tsne_lda[:,1],\n",
    "                        custom_data = ['Shortened Address', 'Sentiment Label', 'Main Topic'],\n",
    "                        color = mycolors[topic_num],\n",
    "                        size = \"Main Topic Score\",\n",
    "                        title = \"Topic Clustering Graph\")\n",
    "\n",
    "fig_cluster.update_traces(hovertemplate=\"<br>\".join([\"Address: %{customdata[0]}\",\n",
    "                                                     \"Sentiment Label: %{customdata[1]}\",\n",
    "                                                     \"Main Topic:%{customdata[2]}\"])\n",
    "                          )#set the hover text to show whatwas in custom_data\n",
    "\n",
    "\n",
    "\n",
    "fig_cluster.show()"
   ]
  },
  {
   "cell_type": "code",
   "execution_count": null,
   "id": "8cb3e81c",
   "metadata": {},
   "outputs": [],
   "source": []
  }
 ],
 "metadata": {
  "kernelspec": {
   "display_name": "Python 3 (ipykernel)",
   "language": "python",
   "name": "python3"
  },
  "language_info": {
   "codemirror_mode": {
    "name": "ipython",
    "version": 3
   },
   "file_extension": ".py",
   "mimetype": "text/x-python",
   "name": "python",
   "nbconvert_exporter": "python",
   "pygments_lexer": "ipython3",
   "version": "3.11.2"
  }
 },
 "nbformat": 4,
 "nbformat_minor": 5
}
