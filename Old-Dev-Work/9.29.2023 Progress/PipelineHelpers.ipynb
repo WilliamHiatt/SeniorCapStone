{
 "cells": [
  {
   "cell_type": "code",
   "execution_count": 3,
   "id": "af009b39",
   "metadata": {},
   "outputs": [],
   "source": [
    "def functionName(text, dictionary, url):\n",
    "    # This function needs to return a dictionary for what values you want in the\n",
    "    # dataframe. For example if we want our columns to be \"sentiment score\" \n",
    "    # and \"positive or negative\" we would return \n",
    "    # {'sentiment score': 'score', 'positive or negative': 'positive'}\n",
    "    if(len(dictionary) == 0):\n",
    "        dictionary = null # define dicitonary based on above\n",
    "    if(text[0:7] != 'PARERROR'):\n",
    "        # Run analysis here\n",
    "        pass\n",
    "    else:\n",
    "        # Throws this if there was some sort of error in the web scraping\n",
    "        # Append the text to whereever the \"outcome\" would be appended\n",
    "        # For example for sentiment analysis, instead of appending a sentiment score\n",
    "        # Append the error\n",
    "        pass\n",
    "    return dictionary"
   ]
  },
  {
   "cell_type": "code",
   "execution_count": null,
   "id": "2f1a9fff",
   "metadata": {},
   "outputs": [],
   "source": [
    "import spacy\n",
    "from spacytextblob.spacytextblob import SpacyTextBlob\n",
    "import pandas as pd\n",
    "import requests\n",
    "from newspaper import Article\n",
    "import numpy as np\n"
   ]
  },
  {
   "cell_type": "code",
   "execution_count": null,
   "id": "754363de",
   "metadata": {},
   "outputs": [],
   "source": [
    "def dictionaryToDataFrame(dictionary):\n",
    "    return pd.DataFrame(dictionary)\n",
    "        "
   ]
  },
  {
   "cell_type": "code",
   "execution_count": null,
   "id": "64a482f2",
   "metadata": {},
   "outputs": [],
   "source": [
    "def sentenceLevel(parsedText):\n",
    "    returnList = []\n",
    "    newText = nlp(parsedText)\n",
    "    for sent in newText.sents:\n",
    "        returnList.append(sent)\n",
    "    \n",
    "    return returnList"
   ]
  },
  {
   "cell_type": "code",
   "execution_count": null,
   "id": "ad7e26f0",
   "metadata": {},
   "outputs": [],
   "source": [
    "def averageSentenceLevel(sentenceLevDic, keysToBeAveraged):\n",
    "    for x in sentenceLevDic:\n",
    "        if y in keysToBeAveraged:\n",
    "            num = len(sentenceLevDic[y])\n",
    "            sentenceLevDic[y] = sum(sentenceLevDic[y]) / num\n",
    "    \n",
    "    return sentenceLevDic"
   ]
  },
  {
   "cell_type": "code",
   "execution_count": 4,
   "id": "be98fc79",
   "metadata": {},
   "outputs": [],
   "source": [
    "def averageSentimentScore(listOfDictionaries):\n",
    "    return"
   ]
  }
 ],
 "metadata": {
  "kernelspec": {
   "display_name": "Python 3 (ipykernel)",
   "language": "python",
   "name": "python3"
  },
  "language_info": {
   "codemirror_mode": {
    "name": "ipython",
    "version": 3
   },
   "file_extension": ".py",
   "mimetype": "text/x-python",
   "name": "python",
   "nbconvert_exporter": "python",
   "pygments_lexer": "ipython3",
   "version": "3.11.2"
  }
 },
 "nbformat": 4,
 "nbformat_minor": 5
}
