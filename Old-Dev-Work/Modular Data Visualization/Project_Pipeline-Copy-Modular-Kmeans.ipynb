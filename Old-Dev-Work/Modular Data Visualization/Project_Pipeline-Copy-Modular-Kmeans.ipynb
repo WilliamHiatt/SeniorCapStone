{
 "cells": [
  {
   "cell_type": "markdown",
   "id": "c9dccd1a",
   "metadata": {},
   "source": [
    "# Latent Probability Model"
   ]
  },
  {
   "cell_type": "markdown",
   "id": "01049288",
   "metadata": {},
   "source": [
    "If you are running this for the first time you may need to use the following commands before continuing:"
   ]
  },
  {
   "cell_type": "code",
   "execution_count": null,
   "id": "15ba699a",
   "metadata": {},
   "outputs": [],
   "source": [
    "!pip install pandas\n",
    "!pip install spacy\n",
    "!pip install spacytextblob\n",
    "!python -m spacy download en_core_web_sm\n",
    "\n",
    "!pip install newspaper3k\n",
    "\n",
    "!pip install plotly\n",
    "\n",
    "!pip install sklearn"
   ]
  },
  {
   "cell_type": "markdown",
   "id": "c92a2232",
   "metadata": {},
   "source": [
    "Spacy: Used for NLP and has the machine learning module\n",
    "    \n",
    "SpacyTextBlob: Used for the sentiment analysis\n",
    "    \n",
    "Pandas: Stores the data as a dataframe table\n",
    "    \n",
    "NewsPaper: Used for web scraping\n",
    "    \n",
    "Requests: Makes the connection to the URL"
   ]
  },
  {
   "cell_type": "code",
   "execution_count": 1,
   "id": "97171282",
   "metadata": {},
   "outputs": [],
   "source": [
    "from newspaper import Article\n",
    "from random import shuffle\n",
    "import re\n",
    "import requests\n",
    "\n",
    "from collections import Counter\n",
    "\n",
    "import pandas as pd\n",
    "\n",
    "import numpy as np\n",
    "import json\n",
    "import requests\n",
    "import glob\n",
    "\n",
    "#gensim\n",
    "import gensim\n",
    "import gensim.corpora as corpora\n",
    "from gensim.models.coherencemodel import CoherenceModel\n",
    "from gensim.utils import simple_preprocess\n",
    "from gensim.corpora import Dictionary  # Import the Dictionary class from Gensim\n",
    "\n",
    "#spacy\n",
    "import spacy\n",
    "from nltk.corpus import stopwords\n",
    "from spacytextblob.spacytextblob import SpacyTextBlob\n",
    "\n",
    "#vis\n",
    "import pyLDAvis\n",
    "import pyLDAvis.gensim\n",
    "import plotly.express as px\n",
    "import matplotlib.colors as mcolors\n",
    "import matplotlib.pyplot as plt \n",
    "import sklearn\n",
    "from sklearn.manifold import TSNE\n",
    "\n",
    "#K-Means Clustering\n",
    "from sklearn.feature_extraction.text import TfidfVectorizer\n",
    "from sklearn.cluster import KMeans\n",
    "from sklearn.cluster import MiniBatchKMeans\n",
    "import matplotlib.pyplot as plt\n",
    "\n",
    "#Principled Component Analysis\n",
    "from sklearn.decomposition import PCA\n",
    "\n",
    "import warnings\n",
    "warnings.filterwarnings(\"ignore\", category=DeprecationWarning)"
   ]
  },
  {
   "cell_type": "code",
   "execution_count": 2,
   "id": "89933f69",
   "metadata": {},
   "outputs": [],
   "source": [
    "%run SentimentAnalysis.ipynb\n",
    "%run WebScraper.ipynb\n",
    "%run PipelineHelpers.ipynb\n",
    "%run TopicModeling.ipynb\n",
    "%run DataVisualization.ipynb"
   ]
  },
  {
   "cell_type": "markdown",
   "id": "7ed7f6a0",
   "metadata": {},
   "source": [
    "# Pipeline Settings and Variables"
   ]
  },
  {
   "cell_type": "markdown",
   "id": "67afdeff",
   "metadata": {},
   "source": [
    "IMPORTANT: If you want to try re-running after making some code changes or want to \n",
    "run a new .csv file through the code block below and the one a couple down with the\n",
    " rerun note will need to be ran again for the analysis to work correctly"
   ]
  },
  {
   "cell_type": "code",
   "execution_count": 3,
   "id": "4d78c510",
   "metadata": {},
   "outputs": [
    {
     "data": {
      "text/plain": [
       "<spacytextblob.spacytextblob.SpacyTextBlob at 0x18d8bd8fe90>"
      ]
     },
     "execution_count": 3,
     "metadata": {},
     "output_type": "execute_result"
    }
   ],
   "source": [
    "# Loading the nlp pipeline and adding spacytextblob\n",
    "nlp = spacy.load('en_core_web_sm')\n",
    "nlp.add_pipe('spacytextblob')"
   ]
  },
  {
   "cell_type": "markdown",
   "id": "b787c3f5",
   "metadata": {},
   "source": [
    "IMPORTANT: Insert the .csv file you want to be read below."
   ]
  },
  {
   "cell_type": "code",
   "execution_count": 4,
   "id": "4e23034f",
   "metadata": {},
   "outputs": [],
   "source": [
    "#THIS IS THE CSV FILE THAT WE READ IN\n",
    "#This csv file should contain a single column of article urls, with the first entry being \"Articles\"\n",
    "csvFile = \"urls.csv\"\n",
    "\n",
    "#THIS IS THE MINIMUM WORDS THAT WE ALLOW FOR AN ARTICLE (to prevent certain blocked articles or bad data)\n",
    "wordCountFilter = 150\n"
   ]
  },
  {
   "cell_type": "markdown",
   "id": "39b8da82",
   "metadata": {},
   "source": [
    "### Reading in the csv file and gathering a list of urls from it. Also setting some global variables"
   ]
  },
  {
   "cell_type": "code",
   "execution_count": 5,
   "id": "51cde877",
   "metadata": {},
   "outputs": [],
   "source": [
    "# rerun\n",
    "# Using panda to load in our .csv file\n",
    "df = pd.read_csv(csvFile) # File we are checking\n",
    "urls = df[\"Address\"].tolist() # Column name we are checking\n",
    "all_text_gathered = []\n",
    "all_articles = ''\n",
    "scentence_list = []\n"
   ]
  },
  {
   "cell_type": "markdown",
   "id": "a9fabe01",
   "metadata": {},
   "source": [
    "# This is the pipeline. All code is called and ran through here."
   ]
  },
  {
   "cell_type": "code",
   "execution_count": 6,
   "id": "7ae169b7",
   "metadata": {
    "scrolled": true
   },
   "outputs": [
    {
     "name": "stdout",
     "output_type": "stream",
     "text": [
      "0\n",
      "word count  236\n",
      "repeated phrases 6\n",
      "https://www.reuters.com/world/us/us-army-discharge-soldiers-who-refuse-covid-19-vaccine-2022-02-02/\n",
      "10\n",
      "Error in scrapeData\n",
      "https://nationalpost.com/news/national/defence-watch/military-leaders-saw-pandemic-as-unique-opportunity-to-test-propaganda-techniques-on-canadians-forces-report-says/wcm/22733c97-39f0-4ba4-8a26-478af5e215f3?utm_term=Autofeed&utm_medium=Social&utm_source=Twitter#Echobox=1632748542\n",
      "word count  1\n",
      "repeated phrases 0\n",
      "https://t.me/NewsmaxTV/6142\n",
      "word count  102\n",
      "repeated phrases 3\n",
      "https://www.ncbi.nlm.nih.gov/pmc/articles/PMC4368609/\n",
      "word count  1\n",
      "repeated phrases 0\n",
      "https://tass.ru/armiya-i-opk/14598087\n",
      "20\n",
      "Error in scrapeData\n",
      "https://academic.oup.com/epirev/article/28/1/3/567796\n",
      "word count  31\n",
      "repeated phrases 1\n",
      "https://www.projectveritas.com/video/military-documents-about-gain-of-function-contradict-fauci-testimony-under/\n",
      "word count  14\n",
      "repeated phrases 1\n",
      "https://rumble.com/vy0brv-1.5-hours-of-vaccine-adverse-reactions.html\n",
      "Error in scrapeData\n",
      "https://thehill.com/homenews/house/3683637-freedom-caucus-wants-defense-bill-delayed-if-vaccine-mandate-not-repealed/\n",
      "30\n",
      "Error in scrapeData\n",
      "https://www.wgauradio.com/news/politics/4-air-force-cadets/LSAZFITUAJOAJF5V2CK6CRKQ3Y/?taid=6280428e8664e80001977b4c&utm_campaign=trueanthem&utm_medium=trueanthem&utm_source=twitter\n"
     ]
    },
    {
     "data": {
      "text/html": [
       "<div>\n",
       "<style scoped>\n",
       "    .dataframe tbody tr th:only-of-type {\n",
       "        vertical-align: middle;\n",
       "    }\n",
       "\n",
       "    .dataframe tbody tr th {\n",
       "        vertical-align: top;\n",
       "    }\n",
       "\n",
       "    .dataframe thead th {\n",
       "        text-align: right;\n",
       "    }\n",
       "</style>\n",
       "<table border=\"1\" class=\"dataframe\">\n",
       "  <thead>\n",
       "    <tr style=\"text-align: right;\">\n",
       "      <th></th>\n",
       "      <th>URL</th>\n",
       "      <th>Sentiment Score</th>\n",
       "      <th>Sentiment Label</th>\n",
       "      <th>Subjectivity Score</th>\n",
       "      <th>Positive Words</th>\n",
       "      <th>Negative Words</th>\n",
       "      <th>Text</th>\n",
       "    </tr>\n",
       "  </thead>\n",
       "  <tbody>\n",
       "    <tr>\n",
       "      <th>0</th>\n",
       "      <td>https://www.thegatewaypundit.com/2022/05/world...</td>\n",
       "      <td>0.05</td>\n",
       "      <td>Neutral Positive</td>\n",
       "      <td>0.28</td>\n",
       "      <td>not, new, confident, free, more, near, effecti...</td>\n",
       "      <td>needless, single, absolutely, past, other</td>\n",
       "      <td>this week, global elitists and world leaders f...</td>\n",
       "    </tr>\n",
       "    <tr>\n",
       "      <th>1</th>\n",
       "      <td>https://gettr.com/post/ptt4ta7c84</td>\n",
       "      <td>0.00</td>\n",
       "      <td>PARERROR: SocialError</td>\n",
       "      <td>0.00</td>\n",
       "      <td></td>\n",
       "      <td></td>\n",
       "      <td>PARERROR: SocialError</td>\n",
       "    </tr>\n",
       "    <tr>\n",
       "      <th>2</th>\n",
       "      <td>https://komonews.com/news/coronavirus/if-covid...</td>\n",
       "      <td>0.06</td>\n",
       "      <td>Neutral Positive</td>\n",
       "      <td>0.36</td>\n",
       "      <td>legal, social, able, no, free, more, first, la...</td>\n",
       "      <td>failed, active, complaint, firm, absolutely, e...</td>\n",
       "      <td>president joe biden recently declared but unva...</td>\n",
       "    </tr>\n",
       "    <tr>\n",
       "      <th>3</th>\n",
       "      <td>https://www.lewrockwell.com/2018/11/no_author/...</td>\n",
       "      <td>0.10</td>\n",
       "      <td>Neutral Positive</td>\n",
       "      <td>0.41</td>\n",
       "      <td>many, far, early, able, no, more, first, effec...</td>\n",
       "      <td>typically, frightening, long, killed, worse, p...</td>\n",
       "      <td>the “spanish flu” killed an estimated 50-100 m...</td>\n",
       "    </tr>\n",
       "    <tr>\n",
       "      <th>4</th>\n",
       "      <td>https://nation.com.pk/08-Apr-2021/russia-offer...</td>\n",
       "      <td>0.07</td>\n",
       "      <td>Neutral Positive</td>\n",
       "      <td>0.28</td>\n",
       "      <td>natural, economic, ready, new, significant, pa...</td>\n",
       "      <td>military, actively, foreign, mainly</td>\n",
       "      <td>islamabad - russia on wednesday assured pakist...</td>\n",
       "    </tr>\n",
       "    <tr>\n",
       "      <th>5</th>\n",
       "      <td>https://barrie.ctvnews.ca/cfb-borden-based-mil...</td>\n",
       "      <td>-0.02</td>\n",
       "      <td>Neutral Negative</td>\n",
       "      <td>0.38</td>\n",
       "      <td>not, good, first, fine, unique, full, willingly</td>\n",
       "      <td>not, very, base, guilty, wrong, due, sorry, mi...</td>\n",
       "      <td>a canadian armed forces officer who urged othe...</td>\n",
       "    </tr>\n",
       "    <tr>\n",
       "      <th>6</th>\n",
       "      <td>https://www.reuters.com/world/us/us-army-disch...</td>\n",
       "      <td>0.00</td>\n",
       "      <td>PARERROR: WebBlockerError</td>\n",
       "      <td>0.00</td>\n",
       "      <td></td>\n",
       "      <td></td>\n",
       "      <td>PARERROR: WebBlockerError</td>\n",
       "    </tr>\n",
       "    <tr>\n",
       "      <th>7</th>\n",
       "      <td>https://www.dailysabah.com/world/europe/sweden...</td>\n",
       "      <td>0.03</td>\n",
       "      <td>Neutral Negative</td>\n",
       "      <td>0.30</td>\n",
       "      <td>new, directly, light, first, direct, kind</td>\n",
       "      <td>active, foreign, long, green, military, previo...</td>\n",
       "      <td>sweden will break its doctrine of not sending ...</td>\n",
       "    </tr>\n",
       "    <tr>\n",
       "      <th>8</th>\n",
       "      <td>https://www.military.com/daily-news/2022/11/01...</td>\n",
       "      <td>0.07</td>\n",
       "      <td>Neutral Positive</td>\n",
       "      <td>0.46</td>\n",
       "      <td>most, new, latest, developed, legal, sincerely...</td>\n",
       "      <td>limited, active, previous, base, firm, militar...</td>\n",
       "      <td>the air force is allowing instructors who rema...</td>\n",
       "    </tr>\n",
       "    <tr>\n",
       "      <th>9</th>\n",
       "      <td>https://roundingtheearth.substack.com/p/defini...</td>\n",
       "      <td>0.09</td>\n",
       "      <td>Neutral Positive</td>\n",
       "      <td>0.41</td>\n",
       "      <td>many, particular, great, high, advanced, able,...</td>\n",
       "      <td>hidden, not, long, average, little, mental, te...</td>\n",
       "      <td>we need for members of congress and other amer...</td>\n",
       "    </tr>\n",
       "    <tr>\n",
       "      <th>10</th>\n",
       "      <td>https://nationalpost.com/news/national/defence...</td>\n",
       "      <td>0.00</td>\n",
       "      <td>PARERROR: ErrorCouldntParse</td>\n",
       "      <td>0.00</td>\n",
       "      <td></td>\n",
       "      <td></td>\n",
       "      <td>PARERROR: ErrorCouldntParse</td>\n",
       "    </tr>\n",
       "    <tr>\n",
       "      <th>11</th>\n",
       "      <td>https://childrenshealthdefense.org/defender/he...</td>\n",
       "      <td>0.10</td>\n",
       "      <td>Neutral Positive</td>\n",
       "      <td>0.40</td>\n",
       "      <td>many, able, first, overwhelming, real, healthy...</td>\n",
       "      <td>not, forced, minimal, long, painful, physicall...</td>\n",
       "      <td>heather elkins, 45, couldn’t get a medical exe...</td>\n",
       "    </tr>\n",
       "    <tr>\n",
       "      <th>12</th>\n",
       "      <td>https://t.me/NewsmaxTV/6142</td>\n",
       "      <td>0.00</td>\n",
       "      <td>PARERROR: WebBlockerError</td>\n",
       "      <td>0.00</td>\n",
       "      <td></td>\n",
       "      <td></td>\n",
       "      <td>PARERROR: WebBlockerError</td>\n",
       "    </tr>\n",
       "    <tr>\n",
       "      <th>13</th>\n",
       "      <td>https://www.ncbi.nlm.nih.gov/pmc/articles/PMC4...</td>\n",
       "      <td>0.00</td>\n",
       "      <td>PARERROR: WebBlockerError</td>\n",
       "      <td>0.00</td>\n",
       "      <td></td>\n",
       "      <td></td>\n",
       "      <td>PARERROR: WebBlockerError</td>\n",
       "    </tr>\n",
       "    <tr>\n",
       "      <th>14</th>\n",
       "      <td>https://www.foxnews.com/us/pentagon-rushed-den...</td>\n",
       "      <td>0.00</td>\n",
       "      <td>Neutral Negative</td>\n",
       "      <td>0.42</td>\n",
       "      <td>quick, greater, general</td>\n",
       "      <td>less, single, average, military, partial, other</td>\n",
       "      <td>a pentagon report found the military was likel...</td>\n",
       "    </tr>\n",
       "    <tr>\n",
       "      <th>15</th>\n",
       "      <td>https://twitter.com/KathyConWom/status/1489859...</td>\n",
       "      <td>0.00</td>\n",
       "      <td>PARERROR: SocialError</td>\n",
       "      <td>0.00</td>\n",
       "      <td></td>\n",
       "      <td></td>\n",
       "      <td>PARERROR: SocialError</td>\n",
       "    </tr>\n",
       "    <tr>\n",
       "      <th>16</th>\n",
       "      <td>https://tass.ru/armiya-i-opk/14598087</td>\n",
       "      <td>0.00</td>\n",
       "      <td>PARERROR: WebBlockerError</td>\n",
       "      <td>0.00</td>\n",
       "      <td></td>\n",
       "      <td></td>\n",
       "      <td>PARERROR: WebBlockerError</td>\n",
       "    </tr>\n",
       "    <tr>\n",
       "      <th>17</th>\n",
       "      <td>https://www.youtube.com/watch?v=IKz9H9VCrgU</td>\n",
       "      <td>0.00</td>\n",
       "      <td>PARERROR: SocialError</td>\n",
       "      <td>0.00</td>\n",
       "      <td></td>\n",
       "      <td></td>\n",
       "      <td>PARERROR: SocialError</td>\n",
       "    </tr>\n",
       "    <tr>\n",
       "      <th>18</th>\n",
       "      <td>https://foxreno.com/news/coronavirus/us-marine...</td>\n",
       "      <td>0.04</td>\n",
       "      <td>Neutral</td>\n",
       "      <td>0.26</td>\n",
       "      <td>action, really, full</td>\n",
       "      <td>past</td>\n",
       "      <td>the us. marine corps is temporarily allowing v...</td>\n",
       "    </tr>\n",
       "    <tr>\n",
       "      <th>19</th>\n",
       "      <td>https://www.health.mil/Military-Health-Topics/...</td>\n",
       "      <td>0.05</td>\n",
       "      <td>Neutral Positive</td>\n",
       "      <td>0.23</td>\n",
       "      <td>many, particular, directly, kind, professional...</td>\n",
       "      <td>not, previous, center, seriously, military, other</td>\n",
       "      <td>vaccination programs are important to military...</td>\n",
       "    </tr>\n",
       "    <tr>\n",
       "      <th>20</th>\n",
       "      <td>https://academic.oup.com/epirev/article/28/1/3...</td>\n",
       "      <td>0.00</td>\n",
       "      <td>PARERROR: ErrorCouldntParse</td>\n",
       "      <td>0.00</td>\n",
       "      <td></td>\n",
       "      <td></td>\n",
       "      <td>PARERROR: ErrorCouldntParse</td>\n",
       "    </tr>\n",
       "    <tr>\n",
       "      <th>21</th>\n",
       "      <td>https://twitter.com/akheriaty/status/149004086...</td>\n",
       "      <td>0.00</td>\n",
       "      <td>PARERROR: SocialError</td>\n",
       "      <td>0.00</td>\n",
       "      <td></td>\n",
       "      <td></td>\n",
       "      <td>PARERROR: SocialError</td>\n",
       "    </tr>\n",
       "    <tr>\n",
       "      <th>22</th>\n",
       "      <td>https://www.projectveritas.com/video/military-...</td>\n",
       "      <td>0.00</td>\n",
       "      <td>PARERROR: WebBlockerError</td>\n",
       "      <td>0.00</td>\n",
       "      <td></td>\n",
       "      <td></td>\n",
       "      <td>PARERROR: WebBlockerError</td>\n",
       "    </tr>\n",
       "    <tr>\n",
       "      <th>23</th>\n",
       "      <td>https://abc7amarillo.com/news/nation-world/nav...</td>\n",
       "      <td>0.10</td>\n",
       "      <td>Neutral Positive</td>\n",
       "      <td>0.28</td>\n",
       "      <td>successfully, legal, able, strong, available</td>\n",
       "      <td>military</td>\n",
       "      <td>in a unanimous decision, a navy administrative...</td>\n",
       "    </tr>\n",
       "    <tr>\n",
       "      <th>24</th>\n",
       "      <td>https://rumble.com/vy0brv-1.5-hours-of-vaccine...</td>\n",
       "      <td>0.00</td>\n",
       "      <td>PARERROR: WebBlockerError</td>\n",
       "      <td>0.00</td>\n",
       "      <td></td>\n",
       "      <td></td>\n",
       "      <td>PARERROR: WebBlockerError</td>\n",
       "    </tr>\n",
       "    <tr>\n",
       "      <th>25</th>\n",
       "      <td>https://bit.ly/3L0oHZp</td>\n",
       "      <td>0.17</td>\n",
       "      <td>Positive</td>\n",
       "      <td>0.42</td>\n",
       "      <td>new, economic, able, free, welcome, available,...</td>\n",
       "      <td>military, mental</td>\n",
       "      <td>norfolk, va. (wavy) – 10 on your side has conf...</td>\n",
       "    </tr>\n",
       "    <tr>\n",
       "      <th>26</th>\n",
       "      <td>https://fox40.com/news/political-connection/ho...</td>\n",
       "      <td>0.01</td>\n",
       "      <td>Neutral Negative</td>\n",
       "      <td>0.40</td>\n",
       "      <td>far, very, complete, quickly, offers, large, t...</td>\n",
       "      <td>complicated, drag, late, least, difficult, oth...</td>\n",
       "      <td>this is an archived article and the informatio...</td>\n",
       "    </tr>\n",
       "    <tr>\n",
       "      <th>27</th>\n",
       "      <td>https://www.washingtonpost.com/history/2020/04...</td>\n",
       "      <td>-0.01</td>\n",
       "      <td>Neutral Negative</td>\n",
       "      <td>0.42</td>\n",
       "      <td>many, most, new, success, right, okay, hazardo...</td>\n",
       "      <td>complicated, sick, little, killed, desperately...</td>\n",
       "      <td>share comment on this story comment\\non aug. 3...</td>\n",
       "    </tr>\n",
       "    <tr>\n",
       "      <th>28</th>\n",
       "      <td>https://technofog.substack.com/p/our-woke-mili...</td>\n",
       "      <td>0.05</td>\n",
       "      <td>Neutral Positive</td>\n",
       "      <td>0.35</td>\n",
       "      <td>natural, original, more, light, first, top, ce...</td>\n",
       "      <td>less, spent, wide, actively, subtle, least, pa...</td>\n",
       "      <td>the military is waging a two-front war on its ...</td>\n",
       "    </tr>\n",
       "    <tr>\n",
       "      <th>29</th>\n",
       "      <td>https://thehill.com/homenews/house/3683637-fre...</td>\n",
       "      <td>0.00</td>\n",
       "      <td>PARERROR: ErrorCouldntParse</td>\n",
       "      <td>0.00</td>\n",
       "      <td></td>\n",
       "      <td></td>\n",
       "      <td>PARERROR: ErrorCouldntParse</td>\n",
       "    </tr>\n",
       "    <tr>\n",
       "      <th>30</th>\n",
       "      <td>https://www.wgauradio.com/news/politics/4-air-...</td>\n",
       "      <td>0.00</td>\n",
       "      <td>PARERROR: ErrorCouldntParse</td>\n",
       "      <td>0.00</td>\n",
       "      <td></td>\n",
       "      <td></td>\n",
       "      <td>PARERROR: ErrorCouldntParse</td>\n",
       "    </tr>\n",
       "  </tbody>\n",
       "</table>\n",
       "</div>"
      ],
      "text/plain": [
       "                                                  URL  Sentiment Score   \n",
       "0   https://www.thegatewaypundit.com/2022/05/world...             0.05  \\\n",
       "1                   https://gettr.com/post/ptt4ta7c84             0.00   \n",
       "2   https://komonews.com/news/coronavirus/if-covid...             0.06   \n",
       "3   https://www.lewrockwell.com/2018/11/no_author/...             0.10   \n",
       "4   https://nation.com.pk/08-Apr-2021/russia-offer...             0.07   \n",
       "5   https://barrie.ctvnews.ca/cfb-borden-based-mil...            -0.02   \n",
       "6   https://www.reuters.com/world/us/us-army-disch...             0.00   \n",
       "7   https://www.dailysabah.com/world/europe/sweden...             0.03   \n",
       "8   https://www.military.com/daily-news/2022/11/01...             0.07   \n",
       "9   https://roundingtheearth.substack.com/p/defini...             0.09   \n",
       "10  https://nationalpost.com/news/national/defence...             0.00   \n",
       "11  https://childrenshealthdefense.org/defender/he...             0.10   \n",
       "12                        https://t.me/NewsmaxTV/6142             0.00   \n",
       "13  https://www.ncbi.nlm.nih.gov/pmc/articles/PMC4...             0.00   \n",
       "14  https://www.foxnews.com/us/pentagon-rushed-den...             0.00   \n",
       "15  https://twitter.com/KathyConWom/status/1489859...             0.00   \n",
       "16              https://tass.ru/armiya-i-opk/14598087             0.00   \n",
       "17        https://www.youtube.com/watch?v=IKz9H9VCrgU             0.00   \n",
       "18  https://foxreno.com/news/coronavirus/us-marine...             0.04   \n",
       "19  https://www.health.mil/Military-Health-Topics/...             0.05   \n",
       "20  https://academic.oup.com/epirev/article/28/1/3...             0.00   \n",
       "21  https://twitter.com/akheriaty/status/149004086...             0.00   \n",
       "22  https://www.projectveritas.com/video/military-...             0.00   \n",
       "23  https://abc7amarillo.com/news/nation-world/nav...             0.10   \n",
       "24  https://rumble.com/vy0brv-1.5-hours-of-vaccine...             0.00   \n",
       "25                             https://bit.ly/3L0oHZp             0.17   \n",
       "26  https://fox40.com/news/political-connection/ho...             0.01   \n",
       "27  https://www.washingtonpost.com/history/2020/04...            -0.01   \n",
       "28  https://technofog.substack.com/p/our-woke-mili...             0.05   \n",
       "29  https://thehill.com/homenews/house/3683637-fre...             0.00   \n",
       "30  https://www.wgauradio.com/news/politics/4-air-...             0.00   \n",
       "\n",
       "                Sentiment Label  Subjectivity Score   \n",
       "0              Neutral Positive                0.28  \\\n",
       "1         PARERROR: SocialError                0.00   \n",
       "2              Neutral Positive                0.36   \n",
       "3              Neutral Positive                0.41   \n",
       "4              Neutral Positive                0.28   \n",
       "5              Neutral Negative                0.38   \n",
       "6     PARERROR: WebBlockerError                0.00   \n",
       "7              Neutral Negative                0.30   \n",
       "8              Neutral Positive                0.46   \n",
       "9              Neutral Positive                0.41   \n",
       "10  PARERROR: ErrorCouldntParse                0.00   \n",
       "11             Neutral Positive                0.40   \n",
       "12    PARERROR: WebBlockerError                0.00   \n",
       "13    PARERROR: WebBlockerError                0.00   \n",
       "14             Neutral Negative                0.42   \n",
       "15        PARERROR: SocialError                0.00   \n",
       "16    PARERROR: WebBlockerError                0.00   \n",
       "17        PARERROR: SocialError                0.00   \n",
       "18                      Neutral                0.26   \n",
       "19             Neutral Positive                0.23   \n",
       "20  PARERROR: ErrorCouldntParse                0.00   \n",
       "21        PARERROR: SocialError                0.00   \n",
       "22    PARERROR: WebBlockerError                0.00   \n",
       "23             Neutral Positive                0.28   \n",
       "24    PARERROR: WebBlockerError                0.00   \n",
       "25                     Positive                0.42   \n",
       "26             Neutral Negative                0.40   \n",
       "27             Neutral Negative                0.42   \n",
       "28             Neutral Positive                0.35   \n",
       "29  PARERROR: ErrorCouldntParse                0.00   \n",
       "30  PARERROR: ErrorCouldntParse                0.00   \n",
       "\n",
       "                                       Positive Words   \n",
       "0   not, new, confident, free, more, near, effecti...  \\\n",
       "1                                                       \n",
       "2   legal, social, able, no, free, more, first, la...   \n",
       "3   many, far, early, able, no, more, first, effec...   \n",
       "4   natural, economic, ready, new, significant, pa...   \n",
       "5     not, good, first, fine, unique, full, willingly   \n",
       "6                                                       \n",
       "7           new, directly, light, first, direct, kind   \n",
       "8   most, new, latest, developed, legal, sincerely...   \n",
       "9   many, particular, great, high, advanced, able,...   \n",
       "10                                                      \n",
       "11  many, able, first, overwhelming, real, healthy...   \n",
       "12                                                      \n",
       "13                                                      \n",
       "14                            quick, greater, general   \n",
       "15                                                      \n",
       "16                                                      \n",
       "17                                                      \n",
       "18                               action, really, full   \n",
       "19  many, particular, directly, kind, professional...   \n",
       "20                                                      \n",
       "21                                                      \n",
       "22                                                      \n",
       "23       successfully, legal, able, strong, available   \n",
       "24                                                      \n",
       "25  new, economic, able, free, welcome, available,...   \n",
       "26  far, very, complete, quickly, offers, large, t...   \n",
       "27  many, most, new, success, right, okay, hazardo...   \n",
       "28  natural, original, more, light, first, top, ce...   \n",
       "29                                                      \n",
       "30                                                      \n",
       "\n",
       "                                       Negative Words   \n",
       "0           needless, single, absolutely, past, other  \\\n",
       "1                                                       \n",
       "2   failed, active, complaint, firm, absolutely, e...   \n",
       "3   typically, frightening, long, killed, worse, p...   \n",
       "4                 military, actively, foreign, mainly   \n",
       "5   not, very, base, guilty, wrong, due, sorry, mi...   \n",
       "6                                                       \n",
       "7   active, foreign, long, green, military, previo...   \n",
       "8   limited, active, previous, base, firm, militar...   \n",
       "9   hidden, not, long, average, little, mental, te...   \n",
       "10                                                      \n",
       "11  not, forced, minimal, long, painful, physicall...   \n",
       "12                                                      \n",
       "13                                                      \n",
       "14    less, single, average, military, partial, other   \n",
       "15                                                      \n",
       "16                                                      \n",
       "17                                                      \n",
       "18                                               past   \n",
       "19  not, previous, center, seriously, military, other   \n",
       "20                                                      \n",
       "21                                                      \n",
       "22                                                      \n",
       "23                                           military   \n",
       "24                                                      \n",
       "25                                   military, mental   \n",
       "26  complicated, drag, late, least, difficult, oth...   \n",
       "27  complicated, sick, little, killed, desperately...   \n",
       "28  less, spent, wide, actively, subtle, least, pa...   \n",
       "29                                                      \n",
       "30                                                      \n",
       "\n",
       "                                                 Text  \n",
       "0   this week, global elitists and world leaders f...  \n",
       "1                               PARERROR: SocialError  \n",
       "2   president joe biden recently declared but unva...  \n",
       "3   the “spanish flu” killed an estimated 50-100 m...  \n",
       "4   islamabad - russia on wednesday assured pakist...  \n",
       "5   a canadian armed forces officer who urged othe...  \n",
       "6                           PARERROR: WebBlockerError  \n",
       "7   sweden will break its doctrine of not sending ...  \n",
       "8   the air force is allowing instructors who rema...  \n",
       "9   we need for members of congress and other amer...  \n",
       "10                        PARERROR: ErrorCouldntParse  \n",
       "11  heather elkins, 45, couldn’t get a medical exe...  \n",
       "12                          PARERROR: WebBlockerError  \n",
       "13                          PARERROR: WebBlockerError  \n",
       "14  a pentagon report found the military was likel...  \n",
       "15                              PARERROR: SocialError  \n",
       "16                          PARERROR: WebBlockerError  \n",
       "17                              PARERROR: SocialError  \n",
       "18  the us. marine corps is temporarily allowing v...  \n",
       "19  vaccination programs are important to military...  \n",
       "20                        PARERROR: ErrorCouldntParse  \n",
       "21                              PARERROR: SocialError  \n",
       "22                          PARERROR: WebBlockerError  \n",
       "23  in a unanimous decision, a navy administrative...  \n",
       "24                          PARERROR: WebBlockerError  \n",
       "25  norfolk, va. (wavy) – 10 on your side has conf...  \n",
       "26  this is an archived article and the informatio...  \n",
       "27  share comment on this story comment\\non aug. 3...  \n",
       "28  the military is waging a two-front war on its ...  \n",
       "29                        PARERROR: ErrorCouldntParse  \n",
       "30                        PARERROR: ErrorCouldntParse  "
      ]
     },
     "execution_count": 6,
     "metadata": {},
     "output_type": "execute_result"
    }
   ],
   "source": [
    "# Loops through our URLS and scraps the data\n",
    "# Put all empty dictionaries here\n",
    "sentimentDic = {}\n",
    "    \n",
    "for count, x in enumerate(urls):\n",
    "    if(count % 10 == 0): #layman's way of showing progress\n",
    "        print(str(count))\n",
    "\n",
    "    url = x\n",
    "\n",
    "    # Send the URL to get scraped, returning the text of the article\n",
    "    page_text = scrapeData(x)\n",
    "    \n",
    "    # All articles will have a long string of all the text that has been scraped\n",
    "    all_articles = all_articles + \" \" +  page_text\n",
    "    \n",
    "    # Puts the article into a list of all the sentences in the article\n",
    "    sentenceList = sentenceLevel(page_text)\n",
    "\n",
    "    # Runs sentiment analysis. Will need to make a new function and a new dictionary\n",
    "    # for each type of analysis we want to run. Will pass in the page_text, the dic, and\n",
    "    # x (the url)\n",
    "    sentimentDic = sentimentAnalysis(page_text, sentimentDic, url)\n",
    "        \n",
    "        \n",
    "# For each analysis we run we need to then convert that dictionary with the following method\n",
    "df = dictionaryToDataFrame(sentimentDic)\n",
    "df\n",
    "# Used if we want to convert it to a .csv sentDic.to_csv(\"sentiment130.csv\")\n"
   ]
  },
  {
   "cell_type": "markdown",
   "id": "72a66188",
   "metadata": {},
   "source": [
    "# Dropping failed webscraping rows"
   ]
  },
  {
   "cell_type": "code",
   "execution_count": 7,
   "id": "4873d7f1",
   "metadata": {
    "scrolled": true
   },
   "outputs": [
    {
     "data": {
      "text/html": [
       "<div>\n",
       "<style scoped>\n",
       "    .dataframe tbody tr th:only-of-type {\n",
       "        vertical-align: middle;\n",
       "    }\n",
       "\n",
       "    .dataframe tbody tr th {\n",
       "        vertical-align: top;\n",
       "    }\n",
       "\n",
       "    .dataframe thead th {\n",
       "        text-align: right;\n",
       "    }\n",
       "</style>\n",
       "<table border=\"1\" class=\"dataframe\">\n",
       "  <thead>\n",
       "    <tr style=\"text-align: right;\">\n",
       "      <th></th>\n",
       "      <th>URL</th>\n",
       "      <th>Sentiment Score</th>\n",
       "      <th>Sentiment Label</th>\n",
       "      <th>Subjectivity Score</th>\n",
       "      <th>Positive Words</th>\n",
       "      <th>Negative Words</th>\n",
       "      <th>Text</th>\n",
       "    </tr>\n",
       "  </thead>\n",
       "  <tbody>\n",
       "    <tr>\n",
       "      <th>0</th>\n",
       "      <td>https://www.thegatewaypundit.com/2022/05/world...</td>\n",
       "      <td>0.05</td>\n",
       "      <td>Neutral Positive</td>\n",
       "      <td>0.28</td>\n",
       "      <td>not, new, confident, free, more, near, effecti...</td>\n",
       "      <td>needless, single, absolutely, past, other</td>\n",
       "      <td>this week, global elitists and world leaders f...</td>\n",
       "    </tr>\n",
       "    <tr>\n",
       "      <th>2</th>\n",
       "      <td>https://komonews.com/news/coronavirus/if-covid...</td>\n",
       "      <td>0.06</td>\n",
       "      <td>Neutral Positive</td>\n",
       "      <td>0.36</td>\n",
       "      <td>legal, social, able, no, free, more, first, la...</td>\n",
       "      <td>failed, active, complaint, firm, absolutely, e...</td>\n",
       "      <td>president joe biden recently declared but unva...</td>\n",
       "    </tr>\n",
       "    <tr>\n",
       "      <th>3</th>\n",
       "      <td>https://www.lewrockwell.com/2018/11/no_author/...</td>\n",
       "      <td>0.10</td>\n",
       "      <td>Neutral Positive</td>\n",
       "      <td>0.41</td>\n",
       "      <td>many, far, early, able, no, more, first, effec...</td>\n",
       "      <td>typically, frightening, long, killed, worse, p...</td>\n",
       "      <td>the “spanish flu” killed an estimated 50-100 m...</td>\n",
       "    </tr>\n",
       "    <tr>\n",
       "      <th>4</th>\n",
       "      <td>https://nation.com.pk/08-Apr-2021/russia-offer...</td>\n",
       "      <td>0.07</td>\n",
       "      <td>Neutral Positive</td>\n",
       "      <td>0.28</td>\n",
       "      <td>natural, economic, ready, new, significant, pa...</td>\n",
       "      <td>military, actively, foreign, mainly</td>\n",
       "      <td>islamabad - russia on wednesday assured pakist...</td>\n",
       "    </tr>\n",
       "    <tr>\n",
       "      <th>5</th>\n",
       "      <td>https://barrie.ctvnews.ca/cfb-borden-based-mil...</td>\n",
       "      <td>-0.02</td>\n",
       "      <td>Neutral Negative</td>\n",
       "      <td>0.38</td>\n",
       "      <td>not, good, first, fine, unique, full, willingly</td>\n",
       "      <td>not, very, base, guilty, wrong, due, sorry, mi...</td>\n",
       "      <td>a canadian armed forces officer who urged othe...</td>\n",
       "    </tr>\n",
       "    <tr>\n",
       "      <th>7</th>\n",
       "      <td>https://www.dailysabah.com/world/europe/sweden...</td>\n",
       "      <td>0.03</td>\n",
       "      <td>Neutral Negative</td>\n",
       "      <td>0.30</td>\n",
       "      <td>new, directly, light, first, direct, kind</td>\n",
       "      <td>active, foreign, long, green, military, previo...</td>\n",
       "      <td>sweden will break its doctrine of not sending ...</td>\n",
       "    </tr>\n",
       "    <tr>\n",
       "      <th>8</th>\n",
       "      <td>https://www.military.com/daily-news/2022/11/01...</td>\n",
       "      <td>0.07</td>\n",
       "      <td>Neutral Positive</td>\n",
       "      <td>0.46</td>\n",
       "      <td>most, new, latest, developed, legal, sincerely...</td>\n",
       "      <td>limited, active, previous, base, firm, militar...</td>\n",
       "      <td>the air force is allowing instructors who rema...</td>\n",
       "    </tr>\n",
       "    <tr>\n",
       "      <th>9</th>\n",
       "      <td>https://roundingtheearth.substack.com/p/defini...</td>\n",
       "      <td>0.09</td>\n",
       "      <td>Neutral Positive</td>\n",
       "      <td>0.41</td>\n",
       "      <td>many, particular, great, high, advanced, able,...</td>\n",
       "      <td>hidden, not, long, average, little, mental, te...</td>\n",
       "      <td>we need for members of congress and other amer...</td>\n",
       "    </tr>\n",
       "    <tr>\n",
       "      <th>11</th>\n",
       "      <td>https://childrenshealthdefense.org/defender/he...</td>\n",
       "      <td>0.10</td>\n",
       "      <td>Neutral Positive</td>\n",
       "      <td>0.40</td>\n",
       "      <td>many, able, first, overwhelming, real, healthy...</td>\n",
       "      <td>not, forced, minimal, long, painful, physicall...</td>\n",
       "      <td>heather elkins, 45, couldn’t get a medical exe...</td>\n",
       "    </tr>\n",
       "    <tr>\n",
       "      <th>14</th>\n",
       "      <td>https://www.foxnews.com/us/pentagon-rushed-den...</td>\n",
       "      <td>0.00</td>\n",
       "      <td>Neutral Negative</td>\n",
       "      <td>0.42</td>\n",
       "      <td>quick, greater, general</td>\n",
       "      <td>less, single, average, military, partial, other</td>\n",
       "      <td>a pentagon report found the military was likel...</td>\n",
       "    </tr>\n",
       "    <tr>\n",
       "      <th>18</th>\n",
       "      <td>https://foxreno.com/news/coronavirus/us-marine...</td>\n",
       "      <td>0.04</td>\n",
       "      <td>Neutral</td>\n",
       "      <td>0.26</td>\n",
       "      <td>action, really, full</td>\n",
       "      <td>past</td>\n",
       "      <td>the us. marine corps is temporarily allowing v...</td>\n",
       "    </tr>\n",
       "    <tr>\n",
       "      <th>19</th>\n",
       "      <td>https://www.health.mil/Military-Health-Topics/...</td>\n",
       "      <td>0.05</td>\n",
       "      <td>Neutral Positive</td>\n",
       "      <td>0.23</td>\n",
       "      <td>many, particular, directly, kind, professional...</td>\n",
       "      <td>not, previous, center, seriously, military, other</td>\n",
       "      <td>vaccination programs are important to military...</td>\n",
       "    </tr>\n",
       "    <tr>\n",
       "      <th>23</th>\n",
       "      <td>https://abc7amarillo.com/news/nation-world/nav...</td>\n",
       "      <td>0.10</td>\n",
       "      <td>Neutral Positive</td>\n",
       "      <td>0.28</td>\n",
       "      <td>successfully, legal, able, strong, available</td>\n",
       "      <td>military</td>\n",
       "      <td>in a unanimous decision, a navy administrative...</td>\n",
       "    </tr>\n",
       "    <tr>\n",
       "      <th>25</th>\n",
       "      <td>https://bit.ly/3L0oHZp</td>\n",
       "      <td>0.17</td>\n",
       "      <td>Positive</td>\n",
       "      <td>0.42</td>\n",
       "      <td>new, economic, able, free, welcome, available,...</td>\n",
       "      <td>military, mental</td>\n",
       "      <td>norfolk, va. (wavy) – 10 on your side has conf...</td>\n",
       "    </tr>\n",
       "    <tr>\n",
       "      <th>26</th>\n",
       "      <td>https://fox40.com/news/political-connection/ho...</td>\n",
       "      <td>0.01</td>\n",
       "      <td>Neutral Negative</td>\n",
       "      <td>0.40</td>\n",
       "      <td>far, very, complete, quickly, offers, large, t...</td>\n",
       "      <td>complicated, drag, late, least, difficult, oth...</td>\n",
       "      <td>this is an archived article and the informatio...</td>\n",
       "    </tr>\n",
       "    <tr>\n",
       "      <th>27</th>\n",
       "      <td>https://www.washingtonpost.com/history/2020/04...</td>\n",
       "      <td>-0.01</td>\n",
       "      <td>Neutral Negative</td>\n",
       "      <td>0.42</td>\n",
       "      <td>many, most, new, success, right, okay, hazardo...</td>\n",
       "      <td>complicated, sick, little, killed, desperately...</td>\n",
       "      <td>share comment on this story comment\\non aug. 3...</td>\n",
       "    </tr>\n",
       "    <tr>\n",
       "      <th>28</th>\n",
       "      <td>https://technofog.substack.com/p/our-woke-mili...</td>\n",
       "      <td>0.05</td>\n",
       "      <td>Neutral Positive</td>\n",
       "      <td>0.35</td>\n",
       "      <td>natural, original, more, light, first, top, ce...</td>\n",
       "      <td>less, spent, wide, actively, subtle, least, pa...</td>\n",
       "      <td>the military is waging a two-front war on its ...</td>\n",
       "    </tr>\n",
       "  </tbody>\n",
       "</table>\n",
       "</div>"
      ],
      "text/plain": [
       "                                                  URL  Sentiment Score   \n",
       "0   https://www.thegatewaypundit.com/2022/05/world...             0.05  \\\n",
       "2   https://komonews.com/news/coronavirus/if-covid...             0.06   \n",
       "3   https://www.lewrockwell.com/2018/11/no_author/...             0.10   \n",
       "4   https://nation.com.pk/08-Apr-2021/russia-offer...             0.07   \n",
       "5   https://barrie.ctvnews.ca/cfb-borden-based-mil...            -0.02   \n",
       "7   https://www.dailysabah.com/world/europe/sweden...             0.03   \n",
       "8   https://www.military.com/daily-news/2022/11/01...             0.07   \n",
       "9   https://roundingtheearth.substack.com/p/defini...             0.09   \n",
       "11  https://childrenshealthdefense.org/defender/he...             0.10   \n",
       "14  https://www.foxnews.com/us/pentagon-rushed-den...             0.00   \n",
       "18  https://foxreno.com/news/coronavirus/us-marine...             0.04   \n",
       "19  https://www.health.mil/Military-Health-Topics/...             0.05   \n",
       "23  https://abc7amarillo.com/news/nation-world/nav...             0.10   \n",
       "25                             https://bit.ly/3L0oHZp             0.17   \n",
       "26  https://fox40.com/news/political-connection/ho...             0.01   \n",
       "27  https://www.washingtonpost.com/history/2020/04...            -0.01   \n",
       "28  https://technofog.substack.com/p/our-woke-mili...             0.05   \n",
       "\n",
       "     Sentiment Label  Subjectivity Score   \n",
       "0   Neutral Positive                0.28  \\\n",
       "2   Neutral Positive                0.36   \n",
       "3   Neutral Positive                0.41   \n",
       "4   Neutral Positive                0.28   \n",
       "5   Neutral Negative                0.38   \n",
       "7   Neutral Negative                0.30   \n",
       "8   Neutral Positive                0.46   \n",
       "9   Neutral Positive                0.41   \n",
       "11  Neutral Positive                0.40   \n",
       "14  Neutral Negative                0.42   \n",
       "18           Neutral                0.26   \n",
       "19  Neutral Positive                0.23   \n",
       "23  Neutral Positive                0.28   \n",
       "25          Positive                0.42   \n",
       "26  Neutral Negative                0.40   \n",
       "27  Neutral Negative                0.42   \n",
       "28  Neutral Positive                0.35   \n",
       "\n",
       "                                       Positive Words   \n",
       "0   not, new, confident, free, more, near, effecti...  \\\n",
       "2   legal, social, able, no, free, more, first, la...   \n",
       "3   many, far, early, able, no, more, first, effec...   \n",
       "4   natural, economic, ready, new, significant, pa...   \n",
       "5     not, good, first, fine, unique, full, willingly   \n",
       "7           new, directly, light, first, direct, kind   \n",
       "8   most, new, latest, developed, legal, sincerely...   \n",
       "9   many, particular, great, high, advanced, able,...   \n",
       "11  many, able, first, overwhelming, real, healthy...   \n",
       "14                            quick, greater, general   \n",
       "18                               action, really, full   \n",
       "19  many, particular, directly, kind, professional...   \n",
       "23       successfully, legal, able, strong, available   \n",
       "25  new, economic, able, free, welcome, available,...   \n",
       "26  far, very, complete, quickly, offers, large, t...   \n",
       "27  many, most, new, success, right, okay, hazardo...   \n",
       "28  natural, original, more, light, first, top, ce...   \n",
       "\n",
       "                                       Negative Words   \n",
       "0           needless, single, absolutely, past, other  \\\n",
       "2   failed, active, complaint, firm, absolutely, e...   \n",
       "3   typically, frightening, long, killed, worse, p...   \n",
       "4                 military, actively, foreign, mainly   \n",
       "5   not, very, base, guilty, wrong, due, sorry, mi...   \n",
       "7   active, foreign, long, green, military, previo...   \n",
       "8   limited, active, previous, base, firm, militar...   \n",
       "9   hidden, not, long, average, little, mental, te...   \n",
       "11  not, forced, minimal, long, painful, physicall...   \n",
       "14    less, single, average, military, partial, other   \n",
       "18                                               past   \n",
       "19  not, previous, center, seriously, military, other   \n",
       "23                                           military   \n",
       "25                                   military, mental   \n",
       "26  complicated, drag, late, least, difficult, oth...   \n",
       "27  complicated, sick, little, killed, desperately...   \n",
       "28  less, spent, wide, actively, subtle, least, pa...   \n",
       "\n",
       "                                                 Text  \n",
       "0   this week, global elitists and world leaders f...  \n",
       "2   president joe biden recently declared but unva...  \n",
       "3   the “spanish flu” killed an estimated 50-100 m...  \n",
       "4   islamabad - russia on wednesday assured pakist...  \n",
       "5   a canadian armed forces officer who urged othe...  \n",
       "7   sweden will break its doctrine of not sending ...  \n",
       "8   the air force is allowing instructors who rema...  \n",
       "9   we need for members of congress and other amer...  \n",
       "11  heather elkins, 45, couldn’t get a medical exe...  \n",
       "14  a pentagon report found the military was likel...  \n",
       "18  the us. marine corps is temporarily allowing v...  \n",
       "19  vaccination programs are important to military...  \n",
       "23  in a unanimous decision, a navy administrative...  \n",
       "25  norfolk, va. (wavy) – 10 on your side has conf...  \n",
       "26  this is an archived article and the informatio...  \n",
       "27  share comment on this story comment\\non aug. 3...  \n",
       "28  the military is waging a two-front war on its ...  "
      ]
     },
     "execution_count": 7,
     "metadata": {},
     "output_type": "execute_result"
    }
   ],
   "source": [
    "df = drop_failed_webscraping_rows(df)\n",
    "df"
   ]
  },
  {
   "cell_type": "markdown",
   "id": "16643fe0",
   "metadata": {},
   "source": [
    "# TOPIC MODELING"
   ]
  },
  {
   "cell_type": "markdown",
   "id": "40eba53b",
   "metadata": {},
   "source": [
    "# Create Topic Model w/ Highest Coherence"
   ]
  },
  {
   "cell_type": "code",
   "execution_count": 8,
   "id": "52b11718",
   "metadata": {},
   "outputs": [
    {
     "data": {
      "image/png": "[encoded data removed]",
      "text/plain": [
       "<Figure size 640x480 with 1 Axes>"
      ]
     },
     "metadata": {},
     "output_type": "display_data"
    },
    {
     "data": {
      "text/plain": [
       "<gensim.models.ldamodel.LdaModel at 0x18d8be51550>"
      ]
     },
     "execution_count": 8,
     "metadata": {},
     "output_type": "execute_result"
    }
   ],
   "source": [
    "#This will generate multiple topic models with various topic count, then return the model with highest coherence\n",
    "#it will also display a quick visual of coherence values, to understand what topic count is best and why it was chosen\n",
    "LDA_model, corpus = create_lda_model(df, 20, 5, 5)\n",
    "\n",
    "#LDA_model is the lda model we will work with, corpus is the actual corpus of articles we use\n",
    "LDA_model"
   ]
  },
  {
   "cell_type": "code",
   "execution_count": 9,
   "id": "84da4c03",
   "metadata": {
    "scrolled": true
   },
   "outputs": [
    {
     "data": {
      "text/plain": [
       "{'Topic_0': ['exemption',\n",
       "  'military',\n",
       "  'medical',\n",
       "  'service',\n",
       "  'member',\n",
       "  'religious',\n",
       "  'request',\n",
       "  'decision',\n",
       "  'vaccination',\n",
       "  'mandate'],\n",
       " 'Topic_1': ['force',\n",
       "  'military',\n",
       "  'vaccination',\n",
       "  'order',\n",
       "  'officer',\n",
       "  'canadian',\n",
       "  'member',\n",
       "  'say',\n",
       "  'armed',\n",
       "  'charge'],\n",
       " 'Topic_2': ['category',\n",
       "  'datum',\n",
       "  'code',\n",
       "  'diagnostic',\n",
       "  'ambulatory',\n",
       "  'summary',\n",
       "  'revise',\n",
       "  'look',\n",
       "  'large',\n",
       "  'illness'],\n",
       " 'Topic_3': ['say',\n",
       "  'elkin',\n",
       "  'polio',\n",
       "  'disease',\n",
       "  'country',\n",
       "  'get',\n",
       "  'flu',\n",
       "  'year',\n",
       "  'people',\n",
       "  'spanish'],\n",
       " 'Topic_4': ['air',\n",
       "  'force',\n",
       "  'religious',\n",
       "  'say',\n",
       "  'exemption',\n",
       "  'member',\n",
       "  'pilot',\n",
       "  'release',\n",
       "  'military',\n",
       "  'medical']}"
      ]
     },
     "execution_count": 9,
     "metadata": {},
     "output_type": "execute_result"
    }
   ],
   "source": [
    "topic_dict = topic_level_sentiment(LDA_model)\n",
    "topic_dict"
   ]
  },
  {
   "cell_type": "markdown",
   "id": "e90c4670",
   "metadata": {},
   "source": [
    "# DATA VISUALIZATION"
   ]
  },
  {
   "cell_type": "markdown",
   "id": "2cf78edd",
   "metadata": {},
   "source": [
    "## Pre-processing dataframe for visualization"
   ]
  },
  {
   "cell_type": "code",
   "execution_count": 10,
   "id": "097d2461",
   "metadata": {
    "scrolled": true
   },
   "outputs": [
    {
     "data": {
      "text/html": [
       "<div>\n",
       "<style scoped>\n",
       "    .dataframe tbody tr th:only-of-type {\n",
       "        vertical-align: middle;\n",
       "    }\n",
       "\n",
       "    .dataframe tbody tr th {\n",
       "        vertical-align: top;\n",
       "    }\n",
       "\n",
       "    .dataframe thead th {\n",
       "        text-align: right;\n",
       "    }\n",
       "</style>\n",
       "<table border=\"1\" class=\"dataframe\">\n",
       "  <thead>\n",
       "    <tr style=\"text-align: right;\">\n",
       "      <th></th>\n",
       "      <th>URL</th>\n",
       "      <th>Sentiment Score</th>\n",
       "      <th>Sentiment Label</th>\n",
       "      <th>Subjectivity Score</th>\n",
       "      <th>Positive Words</th>\n",
       "      <th>Negative Words</th>\n",
       "      <th>Text</th>\n",
       "      <th>Topics</th>\n",
       "      <th>Main Topic</th>\n",
       "      <th>Main Topic Score</th>\n",
       "      <th>Shortened Address</th>\n",
       "    </tr>\n",
       "  </thead>\n",
       "  <tbody>\n",
       "    <tr>\n",
       "      <th>28</th>\n",
       "      <td>https://technofog.substack.com/p/our-woke-mili...</td>\n",
       "      <td>0.05</td>\n",
       "      <td>Neutral Positive</td>\n",
       "      <td>0.35</td>\n",
       "      <td>natural, original, more, light, first, top, ce...</td>\n",
       "      <td>less, spent, wide, actively, subtle, least, pa...</td>\n",
       "      <td>the military is waging a two-front war on its ...</td>\n",
       "      <td>[(0, 0.99777746)]</td>\n",
       "      <td>0</td>\n",
       "      <td>0.997777</td>\n",
       "      <td>technofog.substac</td>\n",
       "    </tr>\n",
       "    <tr>\n",
       "      <th>19</th>\n",
       "      <td>https://www.health.mil/Military-Health-Topics/...</td>\n",
       "      <td>0.05</td>\n",
       "      <td>Neutral Positive</td>\n",
       "      <td>0.23</td>\n",
       "      <td>many, particular, directly, kind, professional...</td>\n",
       "      <td>not, previous, center, seriously, military, other</td>\n",
       "      <td>vaccination programs are important to military...</td>\n",
       "      <td>[(0, 0.9976342)]</td>\n",
       "      <td>0</td>\n",
       "      <td>0.997634</td>\n",
       "      <td>www.health.mil/Mi</td>\n",
       "    </tr>\n",
       "    <tr>\n",
       "      <th>14</th>\n",
       "      <td>https://www.foxnews.com/us/pentagon-rushed-den...</td>\n",
       "      <td>0.00</td>\n",
       "      <td>Neutral Negative</td>\n",
       "      <td>0.42</td>\n",
       "      <td>quick, greater, general</td>\n",
       "      <td>less, single, average, military, partial, other</td>\n",
       "      <td>a pentagon report found the military was likel...</td>\n",
       "      <td>[(0, 0.9951185)]</td>\n",
       "      <td>0</td>\n",
       "      <td>0.995118</td>\n",
       "      <td>www.foxnews.com/u</td>\n",
       "    </tr>\n",
       "    <tr>\n",
       "      <th>25</th>\n",
       "      <td>https://bit.ly/3L0oHZp</td>\n",
       "      <td>0.17</td>\n",
       "      <td>Positive</td>\n",
       "      <td>0.42</td>\n",
       "      <td>new, economic, able, free, welcome, available,...</td>\n",
       "      <td>military, mental</td>\n",
       "      <td>norfolk, va. (wavy) – 10 on your side has conf...</td>\n",
       "      <td>[(1, 0.99403924)]</td>\n",
       "      <td>1</td>\n",
       "      <td>0.994039</td>\n",
       "      <td>bit.ly/3L0oHZp</td>\n",
       "    </tr>\n",
       "    <tr>\n",
       "      <th>0</th>\n",
       "      <td>https://www.thegatewaypundit.com/2022/05/world...</td>\n",
       "      <td>0.05</td>\n",
       "      <td>Neutral Positive</td>\n",
       "      <td>0.28</td>\n",
       "      <td>not, new, confident, free, more, near, effecti...</td>\n",
       "      <td>needless, single, absolutely, past, other</td>\n",
       "      <td>this week, global elitists and world leaders f...</td>\n",
       "      <td>[(1, 0.9965901)]</td>\n",
       "      <td>1</td>\n",
       "      <td>0.996590</td>\n",
       "      <td>www.thegatewaypun</td>\n",
       "    </tr>\n",
       "    <tr>\n",
       "      <th>5</th>\n",
       "      <td>https://barrie.ctvnews.ca/cfb-borden-based-mil...</td>\n",
       "      <td>-0.02</td>\n",
       "      <td>Neutral Negative</td>\n",
       "      <td>0.38</td>\n",
       "      <td>not, good, first, fine, unique, full, willingly</td>\n",
       "      <td>not, very, base, guilty, wrong, due, sorry, mi...</td>\n",
       "      <td>a canadian armed forces officer who urged othe...</td>\n",
       "      <td>[(1, 0.9978411)]</td>\n",
       "      <td>1</td>\n",
       "      <td>0.997841</td>\n",
       "      <td>barrie.ctvnews.ca</td>\n",
       "    </tr>\n",
       "    <tr>\n",
       "      <th>9</th>\n",
       "      <td>https://roundingtheearth.substack.com/p/defini...</td>\n",
       "      <td>0.09</td>\n",
       "      <td>Neutral Positive</td>\n",
       "      <td>0.41</td>\n",
       "      <td>many, particular, great, high, advanced, able,...</td>\n",
       "      <td>hidden, not, long, average, little, mental, te...</td>\n",
       "      <td>we need for members of congress and other amer...</td>\n",
       "      <td>[(2, 0.9992188)]</td>\n",
       "      <td>2</td>\n",
       "      <td>0.999219</td>\n",
       "      <td>roundingtheearth.</td>\n",
       "    </tr>\n",
       "    <tr>\n",
       "      <th>26</th>\n",
       "      <td>https://fox40.com/news/political-connection/ho...</td>\n",
       "      <td>0.01</td>\n",
       "      <td>Neutral Negative</td>\n",
       "      <td>0.40</td>\n",
       "      <td>far, very, complete, quickly, offers, large, t...</td>\n",
       "      <td>complicated, drag, late, least, difficult, oth...</td>\n",
       "      <td>this is an archived article and the informatio...</td>\n",
       "      <td>[(2, 0.9974802)]</td>\n",
       "      <td>2</td>\n",
       "      <td>0.997480</td>\n",
       "      <td>fox40.com/news/po</td>\n",
       "    </tr>\n",
       "    <tr>\n",
       "      <th>7</th>\n",
       "      <td>https://www.dailysabah.com/world/europe/sweden...</td>\n",
       "      <td>0.03</td>\n",
       "      <td>Neutral Negative</td>\n",
       "      <td>0.30</td>\n",
       "      <td>new, directly, light, first, direct, kind</td>\n",
       "      <td>active, foreign, long, green, military, previo...</td>\n",
       "      <td>sweden will break its doctrine of not sending ...</td>\n",
       "      <td>[(3, 0.99420327)]</td>\n",
       "      <td>3</td>\n",
       "      <td>0.994203</td>\n",
       "      <td>www.dailysabah.co</td>\n",
       "    </tr>\n",
       "    <tr>\n",
       "      <th>27</th>\n",
       "      <td>https://www.washingtonpost.com/history/2020/04...</td>\n",
       "      <td>-0.01</td>\n",
       "      <td>Neutral Negative</td>\n",
       "      <td>0.42</td>\n",
       "      <td>many, most, new, success, right, okay, hazardo...</td>\n",
       "      <td>complicated, sick, little, killed, desperately...</td>\n",
       "      <td>share comment on this story comment\\non aug. 3...</td>\n",
       "      <td>[(3, 0.9986446)]</td>\n",
       "      <td>3</td>\n",
       "      <td>0.998645</td>\n",
       "      <td>www.washingtonpos</td>\n",
       "    </tr>\n",
       "    <tr>\n",
       "      <th>4</th>\n",
       "      <td>https://nation.com.pk/08-Apr-2021/russia-offer...</td>\n",
       "      <td>0.07</td>\n",
       "      <td>Neutral Positive</td>\n",
       "      <td>0.28</td>\n",
       "      <td>natural, economic, ready, new, significant, pa...</td>\n",
       "      <td>military, actively, foreign, mainly</td>\n",
       "      <td>islamabad - russia on wednesday assured pakist...</td>\n",
       "      <td>[(3, 0.99716437)]</td>\n",
       "      <td>3</td>\n",
       "      <td>0.997164</td>\n",
       "      <td>nation.com.pk/08-</td>\n",
       "    </tr>\n",
       "    <tr>\n",
       "      <th>3</th>\n",
       "      <td>https://www.lewrockwell.com/2018/11/no_author/...</td>\n",
       "      <td>0.10</td>\n",
       "      <td>Neutral Positive</td>\n",
       "      <td>0.41</td>\n",
       "      <td>many, far, early, able, no, more, first, effec...</td>\n",
       "      <td>typically, frightening, long, killed, worse, p...</td>\n",
       "      <td>the “spanish flu” killed an estimated 50-100 m...</td>\n",
       "      <td>[(3, 0.99889654)]</td>\n",
       "      <td>3</td>\n",
       "      <td>0.998897</td>\n",
       "      <td>www.lewrockwell.c</td>\n",
       "    </tr>\n",
       "    <tr>\n",
       "      <th>11</th>\n",
       "      <td>https://childrenshealthdefense.org/defender/he...</td>\n",
       "      <td>0.10</td>\n",
       "      <td>Neutral Positive</td>\n",
       "      <td>0.40</td>\n",
       "      <td>many, able, first, overwhelming, real, healthy...</td>\n",
       "      <td>not, forced, minimal, long, painful, physicall...</td>\n",
       "      <td>heather elkins, 45, couldn’t get a medical exe...</td>\n",
       "      <td>[(3, 0.99859786)]</td>\n",
       "      <td>3</td>\n",
       "      <td>0.998598</td>\n",
       "      <td>childrenshealthde</td>\n",
       "    </tr>\n",
       "    <tr>\n",
       "      <th>8</th>\n",
       "      <td>https://www.military.com/daily-news/2022/11/01...</td>\n",
       "      <td>0.07</td>\n",
       "      <td>Neutral Positive</td>\n",
       "      <td>0.46</td>\n",
       "      <td>most, new, latest, developed, legal, sincerely...</td>\n",
       "      <td>limited, active, previous, base, firm, militar...</td>\n",
       "      <td>the air force is allowing instructors who rema...</td>\n",
       "      <td>[(4, 0.997595)]</td>\n",
       "      <td>4</td>\n",
       "      <td>0.997595</td>\n",
       "      <td>www.military.com/</td>\n",
       "    </tr>\n",
       "    <tr>\n",
       "      <th>18</th>\n",
       "      <td>https://foxreno.com/news/coronavirus/us-marine...</td>\n",
       "      <td>0.04</td>\n",
       "      <td>Neutral</td>\n",
       "      <td>0.26</td>\n",
       "      <td>action, really, full</td>\n",
       "      <td>past</td>\n",
       "      <td>the us. marine corps is temporarily allowing v...</td>\n",
       "      <td>[(4, 0.9928969)]</td>\n",
       "      <td>4</td>\n",
       "      <td>0.992897</td>\n",
       "      <td>foxreno.com/news/</td>\n",
       "    </tr>\n",
       "    <tr>\n",
       "      <th>23</th>\n",
       "      <td>https://abc7amarillo.com/news/nation-world/nav...</td>\n",
       "      <td>0.10</td>\n",
       "      <td>Neutral Positive</td>\n",
       "      <td>0.28</td>\n",
       "      <td>successfully, legal, able, strong, available</td>\n",
       "      <td>military</td>\n",
       "      <td>in a unanimous decision, a navy administrative...</td>\n",
       "      <td>[(4, 0.99429184)]</td>\n",
       "      <td>4</td>\n",
       "      <td>0.994292</td>\n",
       "      <td>abc7amarillo.com/</td>\n",
       "    </tr>\n",
       "    <tr>\n",
       "      <th>2</th>\n",
       "      <td>https://komonews.com/news/coronavirus/if-covid...</td>\n",
       "      <td>0.06</td>\n",
       "      <td>Neutral Positive</td>\n",
       "      <td>0.36</td>\n",
       "      <td>legal, social, able, no, free, more, first, la...</td>\n",
       "      <td>failed, active, complaint, firm, absolutely, e...</td>\n",
       "      <td>president joe biden recently declared but unva...</td>\n",
       "      <td>[(4, 0.9940662)]</td>\n",
       "      <td>4</td>\n",
       "      <td>0.994066</td>\n",
       "      <td>komonews.com/news</td>\n",
       "    </tr>\n",
       "  </tbody>\n",
       "</table>\n",
       "</div>"
      ],
      "text/plain": [
       "                                                  URL  Sentiment Score   \n",
       "28  https://technofog.substack.com/p/our-woke-mili...             0.05  \\\n",
       "19  https://www.health.mil/Military-Health-Topics/...             0.05   \n",
       "14  https://www.foxnews.com/us/pentagon-rushed-den...             0.00   \n",
       "25                             https://bit.ly/3L0oHZp             0.17   \n",
       "0   https://www.thegatewaypundit.com/2022/05/world...             0.05   \n",
       "5   https://barrie.ctvnews.ca/cfb-borden-based-mil...            -0.02   \n",
       "9   https://roundingtheearth.substack.com/p/defini...             0.09   \n",
       "26  https://fox40.com/news/political-connection/ho...             0.01   \n",
       "7   https://www.dailysabah.com/world/europe/sweden...             0.03   \n",
       "27  https://www.washingtonpost.com/history/2020/04...            -0.01   \n",
       "4   https://nation.com.pk/08-Apr-2021/russia-offer...             0.07   \n",
       "3   https://www.lewrockwell.com/2018/11/no_author/...             0.10   \n",
       "11  https://childrenshealthdefense.org/defender/he...             0.10   \n",
       "8   https://www.military.com/daily-news/2022/11/01...             0.07   \n",
       "18  https://foxreno.com/news/coronavirus/us-marine...             0.04   \n",
       "23  https://abc7amarillo.com/news/nation-world/nav...             0.10   \n",
       "2   https://komonews.com/news/coronavirus/if-covid...             0.06   \n",
       "\n",
       "     Sentiment Label  Subjectivity Score   \n",
       "28  Neutral Positive                0.35  \\\n",
       "19  Neutral Positive                0.23   \n",
       "14  Neutral Negative                0.42   \n",
       "25          Positive                0.42   \n",
       "0   Neutral Positive                0.28   \n",
       "5   Neutral Negative                0.38   \n",
       "9   Neutral Positive                0.41   \n",
       "26  Neutral Negative                0.40   \n",
       "7   Neutral Negative                0.30   \n",
       "27  Neutral Negative                0.42   \n",
       "4   Neutral Positive                0.28   \n",
       "3   Neutral Positive                0.41   \n",
       "11  Neutral Positive                0.40   \n",
       "8   Neutral Positive                0.46   \n",
       "18           Neutral                0.26   \n",
       "23  Neutral Positive                0.28   \n",
       "2   Neutral Positive                0.36   \n",
       "\n",
       "                                       Positive Words   \n",
       "28  natural, original, more, light, first, top, ce...  \\\n",
       "19  many, particular, directly, kind, professional...   \n",
       "14                            quick, greater, general   \n",
       "25  new, economic, able, free, welcome, available,...   \n",
       "0   not, new, confident, free, more, near, effecti...   \n",
       "5     not, good, first, fine, unique, full, willingly   \n",
       "9   many, particular, great, high, advanced, able,...   \n",
       "26  far, very, complete, quickly, offers, large, t...   \n",
       "7           new, directly, light, first, direct, kind   \n",
       "27  many, most, new, success, right, okay, hazardo...   \n",
       "4   natural, economic, ready, new, significant, pa...   \n",
       "3   many, far, early, able, no, more, first, effec...   \n",
       "11  many, able, first, overwhelming, real, healthy...   \n",
       "8   most, new, latest, developed, legal, sincerely...   \n",
       "18                               action, really, full   \n",
       "23       successfully, legal, able, strong, available   \n",
       "2   legal, social, able, no, free, more, first, la...   \n",
       "\n",
       "                                       Negative Words   \n",
       "28  less, spent, wide, actively, subtle, least, pa...  \\\n",
       "19  not, previous, center, seriously, military, other   \n",
       "14    less, single, average, military, partial, other   \n",
       "25                                   military, mental   \n",
       "0           needless, single, absolutely, past, other   \n",
       "5   not, very, base, guilty, wrong, due, sorry, mi...   \n",
       "9   hidden, not, long, average, little, mental, te...   \n",
       "26  complicated, drag, late, least, difficult, oth...   \n",
       "7   active, foreign, long, green, military, previo...   \n",
       "27  complicated, sick, little, killed, desperately...   \n",
       "4                 military, actively, foreign, mainly   \n",
       "3   typically, frightening, long, killed, worse, p...   \n",
       "11  not, forced, minimal, long, painful, physicall...   \n",
       "8   limited, active, previous, base, firm, militar...   \n",
       "18                                               past   \n",
       "23                                           military   \n",
       "2   failed, active, complaint, firm, absolutely, e...   \n",
       "\n",
       "                                                 Text             Topics   \n",
       "28  the military is waging a two-front war on its ...  [(0, 0.99777746)]  \\\n",
       "19  vaccination programs are important to military...   [(0, 0.9976342)]   \n",
       "14  a pentagon report found the military was likel...   [(0, 0.9951185)]   \n",
       "25  norfolk, va. (wavy) – 10 on your side has conf...  [(1, 0.99403924)]   \n",
       "0   this week, global elitists and world leaders f...   [(1, 0.9965901)]   \n",
       "5   a canadian armed forces officer who urged othe...   [(1, 0.9978411)]   \n",
       "9   we need for members of congress and other amer...   [(2, 0.9992188)]   \n",
       "26  this is an archived article and the informatio...   [(2, 0.9974802)]   \n",
       "7   sweden will break its doctrine of not sending ...  [(3, 0.99420327)]   \n",
       "27  share comment on this story comment\\non aug. 3...   [(3, 0.9986446)]   \n",
       "4   islamabad - russia on wednesday assured pakist...  [(3, 0.99716437)]   \n",
       "3   the “spanish flu” killed an estimated 50-100 m...  [(3, 0.99889654)]   \n",
       "11  heather elkins, 45, couldn’t get a medical exe...  [(3, 0.99859786)]   \n",
       "8   the air force is allowing instructors who rema...    [(4, 0.997595)]   \n",
       "18  the us. marine corps is temporarily allowing v...   [(4, 0.9928969)]   \n",
       "23  in a unanimous decision, a navy administrative...  [(4, 0.99429184)]   \n",
       "2   president joe biden recently declared but unva...   [(4, 0.9940662)]   \n",
       "\n",
       "    Main Topic  Main Topic Score  Shortened Address  \n",
       "28           0          0.997777  technofog.substac  \n",
       "19           0          0.997634  www.health.mil/Mi  \n",
       "14           0          0.995118  www.foxnews.com/u  \n",
       "25           1          0.994039     bit.ly/3L0oHZp  \n",
       "0            1          0.996590  www.thegatewaypun  \n",
       "5            1          0.997841  barrie.ctvnews.ca  \n",
       "9            2          0.999219  roundingtheearth.  \n",
       "26           2          0.997480  fox40.com/news/po  \n",
       "7            3          0.994203  www.dailysabah.co  \n",
       "27           3          0.998645  www.washingtonpos  \n",
       "4            3          0.997164  nation.com.pk/08-  \n",
       "3            3          0.998897  www.lewrockwell.c  \n",
       "11           3          0.998598  childrenshealthde  \n",
       "8            4          0.997595  www.military.com/  \n",
       "18           4          0.992897  foxreno.com/news/  \n",
       "23           4          0.994292  abc7amarillo.com/  \n",
       "2            4          0.994066  komonews.com/news  "
      ]
     },
     "execution_count": 10,
     "metadata": {},
     "output_type": "execute_result"
    }
   ],
   "source": [
    "#making a new dataframe \n",
    "#df_main_topic = add_main_topic_dataframe(df, LDA_model, corpus)\n",
    "\n",
    "df_main_topic = preprocess_dataframe_for_datavis(df, LDA_model, corpus)\n",
    "\n",
    "df_main_topic\n"
   ]
  },
  {
   "cell_type": "markdown",
   "id": "9587fb26",
   "metadata": {},
   "source": [
    "## Visualize all articles on their main topic"
   ]
  },
  {
   "cell_type": "code",
   "execution_count": 12,
   "id": "f85d1cda",
   "metadata": {
    "scrolled": false
   },
   "outputs": [
    {
     "data": {
      "application/vnd.plotly.v1+json": {
       "config": {
        "plotlyServerURL": "https://plot.ly"
       },
       "data": [
        {
         "customdata": [
          [
           "technofog.substac",
           "Neutral Positive",
           0.9977774620056152
          ],
          [
           "www.health.mil/Mi",
           "Neutral Positive",
           0.9976341724395752
          ],
          [
           "www.foxnews.com/u",
           "Neutral Negative",
           0.9951184988021851
          ],
          [
           "bit.ly/3L0oHZp",
           "Positive",
           0.9940392374992371
          ],
          [
           "www.thegatewaypun",
           "Neutral Positive",
           0.9965900778770447
          ],
          [
           "barrie.ctvnews.ca",
           "Neutral Negative",
           0.9978411197662354
          ],
          [
           "roundingtheearth.",
           "Neutral Positive",
           0.9992188215255737
          ],
          [
           "fox40.com/news/po",
           "Neutral Negative",
           0.9974802136421204
          ],
          [
           "www.dailysabah.co",
           "Neutral Negative",
           0.9942032694816589
          ],
          [
           "www.washingtonpos",
           "Neutral Negative",
           0.9986445903778076
          ],
          [
           "nation.com.pk/08-",
           "Neutral Positive",
           0.9971643686294556
          ],
          [
           "www.lewrockwell.c",
           "Neutral Positive",
           0.9988965392112732
          ],
          [
           "childrenshealthde",
           "Neutral Positive",
           0.9985978603363037
          ],
          [
           "www.military.com/",
           "Neutral Positive",
           0.9975950121879578
          ],
          [
           "foxreno.com/news/",
           "Neutral",
           0.9928969144821167
          ],
          [
           "abc7amarillo.com/",
           "Neutral Positive",
           0.9942918419837952
          ],
          [
           "komonews.com/news",
           "Neutral Positive",
           0.9940661787986755
          ]
         ],
         "hovertemplate": "Address: %{customdata[0]}<br>Sentiment Label: %{customdata[1]}<br>Main Topic Score :%{customdata[2]}",
         "legendgroup": "",
         "marker": {
          "color": "#636efa",
          "size": [
           0.9977774620056152,
           0.9976341724395752,
           0.9951184988021851,
           0.9940392374992371,
           0.9965900778770447,
           0.9978411197662354,
           0.9992188215255737,
           0.9974802136421204,
           0.9942032694816589,
           0.9986445903778076,
           0.9971643686294556,
           0.9988965392112732,
           0.9985978603363037,
           0.9975950121879578,
           0.9928969144821167,
           0.9942918419837952,
           0.9940661787986755
          ],
          "sizemode": "area",
          "sizeref": 0.0024980470538139344,
          "symbol": "circle"
         },
         "mode": "markers",
         "name": "",
         "orientation": "v",
         "showlegend": false,
         "type": "scatter",
         "x": [
          0,
          0,
          0,
          1,
          1,
          1,
          2,
          2,
          3,
          3,
          3,
          3,
          3,
          4,
          4,
          4,
          4
         ],
         "xaxis": "x",
         "y": [
          0.05,
          0.05,
          0,
          0.17,
          0.05,
          -0.02,
          0.09,
          0.01,
          0.03,
          -0.01,
          0.07,
          0.1,
          0.1,
          0.07,
          0.04,
          0.1,
          0.06
         ],
         "yaxis": "y"
        }
       ],
       "layout": {
        "legend": {
         "itemsizing": "constant",
         "tracegroupgap": 0
        },
        "template": {
         "data": {
          "bar": [
           {
            "error_x": {
             "color": "#2a3f5f"
            },
            "error_y": {
             "color": "#2a3f5f"
            },
            "marker": {
             "line": {
              "color": "#E5ECF6",
              "width": 0.5
             },
             "pattern": {
              "fillmode": "overlay",
              "size": 10,
              "solidity": 0.2
             }
            },
            "type": "bar"
           }
          ],
          "barpolar": [
           {
            "marker": {
             "line": {
              "color": "#E5ECF6",
              "width": 0.5
             },
             "pattern": {
              "fillmode": "overlay",
              "size": 10,
              "solidity": 0.2
             }
            },
            "type": "barpolar"
           }
          ],
          "carpet": [
           {
            "aaxis": {
             "endlinecolor": "#2a3f5f",
             "gridcolor": "white",
             "linecolor": "white",
             "minorgridcolor": "white",
             "startlinecolor": "#2a3f5f"
            },
            "baxis": {
             "endlinecolor": "#2a3f5f",
             "gridcolor": "white",
             "linecolor": "white",
             "minorgridcolor": "white",
             "startlinecolor": "#2a3f5f"
            },
            "type": "carpet"
           }
          ],
          "choropleth": [
           {
            "colorbar": {
             "outlinewidth": 0,
             "ticks": ""
            },
            "type": "choropleth"
           }
          ],
          "contour": [
           {
            "colorbar": {
             "outlinewidth": 0,
             "ticks": ""
            },
            "colorscale": [
             [
              0,
              "#0d0887"
             ],
             [
              0.1111111111111111,
              "#46039f"
             ],
             [
              0.2222222222222222,
              "#7201a8"
             ],
             [
              0.3333333333333333,
              "#9c179e"
             ],
             [
              0.4444444444444444,
              "#bd3786"
             ],
             [
              0.5555555555555556,
              "#d8576b"
             ],
             [
              0.6666666666666666,
              "#ed7953"
             ],
             [
              0.7777777777777778,
              "#fb9f3a"
             ],
             [
              0.8888888888888888,
              "#fdca26"
             ],
             [
              1,
              "#f0f921"
             ]
            ],
            "type": "contour"
           }
          ],
          "contourcarpet": [
           {
            "colorbar": {
             "outlinewidth": 0,
             "ticks": ""
            },
            "type": "contourcarpet"
           }
          ],
          "heatmap": [
           {
            "colorbar": {
             "outlinewidth": 0,
             "ticks": ""
            },
            "colorscale": [
             [
              0,
              "#0d0887"
             ],
             [
              0.1111111111111111,
              "#46039f"
             ],
             [
              0.2222222222222222,
              "#7201a8"
             ],
             [
              0.3333333333333333,
              "#9c179e"
             ],
             [
              0.4444444444444444,
              "#bd3786"
             ],
             [
              0.5555555555555556,
              "#d8576b"
             ],
             [
              0.6666666666666666,
              "#ed7953"
             ],
             [
              0.7777777777777778,
              "#fb9f3a"
             ],
             [
              0.8888888888888888,
              "#fdca26"
             ],
             [
              1,
              "#f0f921"
             ]
            ],
            "type": "heatmap"
           }
          ],
          "heatmapgl": [
           {
            "colorbar": {
             "outlinewidth": 0,
             "ticks": ""
            },
            "colorscale": [
             [
              0,
              "#0d0887"
             ],
             [
              0.1111111111111111,
              "#46039f"
             ],
             [
              0.2222222222222222,
              "#7201a8"
             ],
             [
              0.3333333333333333,
              "#9c179e"
             ],
             [
              0.4444444444444444,
              "#bd3786"
             ],
             [
              0.5555555555555556,
              "#d8576b"
             ],
             [
              0.6666666666666666,
              "#ed7953"
             ],
             [
              0.7777777777777778,
              "#fb9f3a"
             ],
             [
              0.8888888888888888,
              "#fdca26"
             ],
             [
              1,
              "#f0f921"
             ]
            ],
            "type": "heatmapgl"
           }
          ],
          "histogram": [
           {
            "marker": {
             "pattern": {
              "fillmode": "overlay",
              "size": 10,
              "solidity": 0.2
             }
            },
            "type": "histogram"
           }
          ],
          "histogram2d": [
           {
            "colorbar": {
             "outlinewidth": 0,
             "ticks": ""
            },
            "colorscale": [
             [
              0,
              "#0d0887"
             ],
             [
              0.1111111111111111,
              "#46039f"
             ],
             [
              0.2222222222222222,
              "#7201a8"
             ],
             [
              0.3333333333333333,
              "#9c179e"
             ],
             [
              0.4444444444444444,
              "#bd3786"
             ],
             [
              0.5555555555555556,
              "#d8576b"
             ],
             [
              0.6666666666666666,
              "#ed7953"
             ],
             [
              0.7777777777777778,
              "#fb9f3a"
             ],
             [
              0.8888888888888888,
              "#fdca26"
             ],
             [
              1,
              "#f0f921"
             ]
            ],
            "type": "histogram2d"
           }
          ],
          "histogram2dcontour": [
           {
            "colorbar": {
             "outlinewidth": 0,
             "ticks": ""
            },
            "colorscale": [
             [
              0,
              "#0d0887"
             ],
             [
              0.1111111111111111,
              "#46039f"
             ],
             [
              0.2222222222222222,
              "#7201a8"
             ],
             [
              0.3333333333333333,
              "#9c179e"
             ],
             [
              0.4444444444444444,
              "#bd3786"
             ],
             [
              0.5555555555555556,
              "#d8576b"
             ],
             [
              0.6666666666666666,
              "#ed7953"
             ],
             [
              0.7777777777777778,
              "#fb9f3a"
             ],
             [
              0.8888888888888888,
              "#fdca26"
             ],
             [
              1,
              "#f0f921"
             ]
            ],
            "type": "histogram2dcontour"
           }
          ],
          "mesh3d": [
           {
            "colorbar": {
             "outlinewidth": 0,
             "ticks": ""
            },
            "type": "mesh3d"
           }
          ],
          "parcoords": [
           {
            "line": {
             "colorbar": {
              "outlinewidth": 0,
              "ticks": ""
             }
            },
            "type": "parcoords"
           }
          ],
          "pie": [
           {
            "automargin": true,
            "type": "pie"
           }
          ],
          "scatter": [
           {
            "fillpattern": {
             "fillmode": "overlay",
             "size": 10,
             "solidity": 0.2
            },
            "type": "scatter"
           }
          ],
          "scatter3d": [
           {
            "line": {
             "colorbar": {
              "outlinewidth": 0,
              "ticks": ""
             }
            },
            "marker": {
             "colorbar": {
              "outlinewidth": 0,
              "ticks": ""
             }
            },
            "type": "scatter3d"
           }
          ],
          "scattercarpet": [
           {
            "marker": {
             "colorbar": {
              "outlinewidth": 0,
              "ticks": ""
             }
            },
            "type": "scattercarpet"
           }
          ],
          "scattergeo": [
           {
            "marker": {
             "colorbar": {
              "outlinewidth": 0,
              "ticks": ""
             }
            },
            "type": "scattergeo"
           }
          ],
          "scattergl": [
           {
            "marker": {
             "colorbar": {
              "outlinewidth": 0,
              "ticks": ""
             }
            },
            "type": "scattergl"
           }
          ],
          "scattermapbox": [
           {
            "marker": {
             "colorbar": {
              "outlinewidth": 0,
              "ticks": ""
             }
            },
            "type": "scattermapbox"
           }
          ],
          "scatterpolar": [
           {
            "marker": {
             "colorbar": {
              "outlinewidth": 0,
              "ticks": ""
             }
            },
            "type": "scatterpolar"
           }
          ],
          "scatterpolargl": [
           {
            "marker": {
             "colorbar": {
              "outlinewidth": 0,
              "ticks": ""
             }
            },
            "type": "scatterpolargl"
           }
          ],
          "scatterternary": [
           {
            "marker": {
             "colorbar": {
              "outlinewidth": 0,
              "ticks": ""
             }
            },
            "type": "scatterternary"
           }
          ],
          "surface": [
           {
            "colorbar": {
             "outlinewidth": 0,
             "ticks": ""
            },
            "colorscale": [
             [
              0,
              "#0d0887"
             ],
             [
              0.1111111111111111,
              "#46039f"
             ],
             [
              0.2222222222222222,
              "#7201a8"
             ],
             [
              0.3333333333333333,
              "#9c179e"
             ],
             [
              0.4444444444444444,
              "#bd3786"
             ],
             [
              0.5555555555555556,
              "#d8576b"
             ],
             [
              0.6666666666666666,
              "#ed7953"
             ],
             [
              0.7777777777777778,
              "#fb9f3a"
             ],
             [
              0.8888888888888888,
              "#fdca26"
             ],
             [
              1,
              "#f0f921"
             ]
            ],
            "type": "surface"
           }
          ],
          "table": [
           {
            "cells": {
             "fill": {
              "color": "#EBF0F8"
             },
             "line": {
              "color": "white"
             }
            },
            "header": {
             "fill": {
              "color": "#C8D4E3"
             },
             "line": {
              "color": "white"
             }
            },
            "type": "table"
           }
          ]
         },
         "layout": {
          "annotationdefaults": {
           "arrowcolor": "#2a3f5f",
           "arrowhead": 0,
           "arrowwidth": 1
          },
          "autotypenumbers": "strict",
          "coloraxis": {
           "colorbar": {
            "outlinewidth": 0,
            "ticks": ""
           }
          },
          "colorscale": {
           "diverging": [
            [
             0,
             "#8e0152"
            ],
            [
             0.1,
             "#c51b7d"
            ],
            [
             0.2,
             "#de77ae"
            ],
            [
             0.3,
             "#f1b6da"
            ],
            [
             0.4,
             "#fde0ef"
            ],
            [
             0.5,
             "#f7f7f7"
            ],
            [
             0.6,
             "#e6f5d0"
            ],
            [
             0.7,
             "#b8e186"
            ],
            [
             0.8,
             "#7fbc41"
            ],
            [
             0.9,
             "#4d9221"
            ],
            [
             1,
             "#276419"
            ]
           ],
           "sequential": [
            [
             0,
             "#0d0887"
            ],
            [
             0.1111111111111111,
             "#46039f"
            ],
            [
             0.2222222222222222,
             "#7201a8"
            ],
            [
             0.3333333333333333,
             "#9c179e"
            ],
            [
             0.4444444444444444,
             "#bd3786"
            ],
            [
             0.5555555555555556,
             "#d8576b"
            ],
            [
             0.6666666666666666,
             "#ed7953"
            ],
            [
             0.7777777777777778,
             "#fb9f3a"
            ],
            [
             0.8888888888888888,
             "#fdca26"
            ],
            [
             1,
             "#f0f921"
            ]
           ],
           "sequentialminus": [
            [
             0,
             "#0d0887"
            ],
            [
             0.1111111111111111,
             "#46039f"
            ],
            [
             0.2222222222222222,
             "#7201a8"
            ],
            [
             0.3333333333333333,
             "#9c179e"
            ],
            [
             0.4444444444444444,
             "#bd3786"
            ],
            [
             0.5555555555555556,
             "#d8576b"
            ],
            [
             0.6666666666666666,
             "#ed7953"
            ],
            [
             0.7777777777777778,
             "#fb9f3a"
            ],
            [
             0.8888888888888888,
             "#fdca26"
            ],
            [
             1,
             "#f0f921"
            ]
           ]
          },
          "colorway": [
           "#636efa",
           "#EF553B",
           "#00cc96",
           "#ab63fa",
           "#FFA15A",
           "#19d3f3",
           "#FF6692",
           "#B6E880",
           "#FF97FF",
           "#FECB52"
          ],
          "font": {
           "color": "#2a3f5f"
          },
          "geo": {
           "bgcolor": "white",
           "lakecolor": "white",
           "landcolor": "#E5ECF6",
           "showlakes": true,
           "showland": true,
           "subunitcolor": "white"
          },
          "hoverlabel": {
           "align": "left"
          },
          "hovermode": "closest",
          "mapbox": {
           "style": "light"
          },
          "paper_bgcolor": "white",
          "plot_bgcolor": "#E5ECF6",
          "polar": {
           "angularaxis": {
            "gridcolor": "white",
            "linecolor": "white",
            "ticks": ""
           },
           "bgcolor": "#E5ECF6",
           "radialaxis": {
            "gridcolor": "white",
            "linecolor": "white",
            "ticks": ""
           }
          },
          "scene": {
           "xaxis": {
            "backgroundcolor": "#E5ECF6",
            "gridcolor": "white",
            "gridwidth": 2,
            "linecolor": "white",
            "showbackground": true,
            "ticks": "",
            "zerolinecolor": "white"
           },
           "yaxis": {
            "backgroundcolor": "#E5ECF6",
            "gridcolor": "white",
            "gridwidth": 2,
            "linecolor": "white",
            "showbackground": true,
            "ticks": "",
            "zerolinecolor": "white"
           },
           "zaxis": {
            "backgroundcolor": "#E5ECF6",
            "gridcolor": "white",
            "gridwidth": 2,
            "linecolor": "white",
            "showbackground": true,
            "ticks": "",
            "zerolinecolor": "white"
           }
          },
          "shapedefaults": {
           "line": {
            "color": "#2a3f5f"
           }
          },
          "ternary": {
           "aaxis": {
            "gridcolor": "white",
            "linecolor": "white",
            "ticks": ""
           },
           "baxis": {
            "gridcolor": "white",
            "linecolor": "white",
            "ticks": ""
           },
           "bgcolor": "#E5ECF6",
           "caxis": {
            "gridcolor": "white",
            "linecolor": "white",
            "ticks": ""
           }
          },
          "title": {
           "x": 0.05
          },
          "xaxis": {
           "automargin": true,
           "gridcolor": "white",
           "linecolor": "white",
           "ticks": "",
           "title": {
            "standoff": 15
           },
           "zerolinecolor": "white",
           "zerolinewidth": 2
          },
          "yaxis": {
           "automargin": true,
           "gridcolor": "white",
           "linecolor": "white",
           "ticks": "",
           "title": {
            "standoff": 15
           },
           "zerolinecolor": "white",
           "zerolinewidth": 2
          }
         }
        },
        "title": {
         "text": "Articles Sorted By Main Topic"
        },
        "xaxis": {
         "anchor": "y",
         "domain": [
          0,
          1
         ],
         "title": {
          "text": "Main Topic"
         },
         "type": "category"
        },
        "yaxis": {
         "anchor": "x",
         "domain": [
          0,
          1
         ],
         "title": {
          "text": "Sentiment Score"
         }
        }
       }
      },
      "text/html": [
       "<div>                            <div id=\"fb290927-771a-49d6-bdd7-df41eec5b2ce\" class=\"plotly-graph-div\" style=\"height:525px; width:100%;\"></div>            <script type=\"text/javascript\">                require([\"plotly\"], function(Plotly) {                    window.PLOTLYENV=window.PLOTLYENV || {};                                    if (document.getElementById(\"fb290927-771a-49d6-bdd7-df41eec5b2ce\")) {                    Plotly.newPlot(                        \"fb290927-771a-49d6-bdd7-df41eec5b2ce\",                        [{\"customdata\":[[\"technofog.substac\",\"Neutral Positive\",0.9977774620056152],[\"www.health.mil\\u002fMi\",\"Neutral Positive\",0.9976341724395752],[\"www.foxnews.com\\u002fu\",\"Neutral Negative\",0.9951184988021851],[\"bit.ly\\u002f3L0oHZp\",\"Positive\",0.9940392374992371],[\"www.thegatewaypun\",\"Neutral Positive\",0.9965900778770447],[\"barrie.ctvnews.ca\",\"Neutral Negative\",0.9978411197662354],[\"roundingtheearth.\",\"Neutral Positive\",0.9992188215255737],[\"fox40.com\\u002fnews\\u002fpo\",\"Neutral Negative\",0.9974802136421204],[\"www.dailysabah.co\",\"Neutral Negative\",0.9942032694816589],[\"www.washingtonpos\",\"Neutral Negative\",0.9986445903778076],[\"nation.com.pk\\u002f08-\",\"Neutral Positive\",0.9971643686294556],[\"www.lewrockwell.c\",\"Neutral Positive\",0.9988965392112732],[\"childrenshealthde\",\"Neutral Positive\",0.9985978603363037],[\"www.military.com\\u002f\",\"Neutral Positive\",0.9975950121879578],[\"foxreno.com\\u002fnews\\u002f\",\"Neutral\",0.9928969144821167],[\"abc7amarillo.com\\u002f\",\"Neutral Positive\",0.9942918419837952],[\"komonews.com\\u002fnews\",\"Neutral Positive\",0.9940661787986755]],\"hovertemplate\":\"Address: %{customdata[0]}\\u003cbr\\u003eSentiment Label: %{customdata[1]}\\u003cbr\\u003eMain Topic Score :%{customdata[2]}\",\"legendgroup\":\"\",\"marker\":{\"color\":\"#636efa\",\"size\":[0.9977774620056152,0.9976341724395752,0.9951184988021851,0.9940392374992371,0.9965900778770447,0.9978411197662354,0.9992188215255737,0.9974802136421204,0.9942032694816589,0.9986445903778076,0.9971643686294556,0.9988965392112732,0.9985978603363037,0.9975950121879578,0.9928969144821167,0.9942918419837952,0.9940661787986755],\"sizemode\":\"area\",\"sizeref\":0.0024980470538139344,\"symbol\":\"circle\"},\"mode\":\"markers\",\"name\":\"\",\"orientation\":\"v\",\"showlegend\":false,\"x\":[0,0,0,1,1,1,2,2,3,3,3,3,3,4,4,4,4],\"xaxis\":\"x\",\"y\":[0.05,0.05,0.0,0.17,0.05,-0.02,0.09,0.01,0.03,-0.01,0.07,0.1,0.1,0.07,0.04,0.1,0.06],\"yaxis\":\"y\",\"type\":\"scatter\"}],                        {\"template\":{\"data\":{\"histogram2dcontour\":[{\"type\":\"histogram2dcontour\",\"colorbar\":{\"outlinewidth\":0,\"ticks\":\"\"},\"colorscale\":[[0.0,\"#0d0887\"],[0.1111111111111111,\"#46039f\"],[0.2222222222222222,\"#7201a8\"],[0.3333333333333333,\"#9c179e\"],[0.4444444444444444,\"#bd3786\"],[0.5555555555555556,\"#d8576b\"],[0.6666666666666666,\"#ed7953\"],[0.7777777777777778,\"#fb9f3a\"],[0.8888888888888888,\"#fdca26\"],[1.0,\"#f0f921\"]]}],\"choropleth\":[{\"type\":\"choropleth\",\"colorbar\":{\"outlinewidth\":0,\"ticks\":\"\"}}],\"histogram2d\":[{\"type\":\"histogram2d\",\"colorbar\":{\"outlinewidth\":0,\"ticks\":\"\"},\"colorscale\":[[0.0,\"#0d0887\"],[0.1111111111111111,\"#46039f\"],[0.2222222222222222,\"#7201a8\"],[0.3333333333333333,\"#9c179e\"],[0.4444444444444444,\"#bd3786\"],[0.5555555555555556,\"#d8576b\"],[0.6666666666666666,\"#ed7953\"],[0.7777777777777778,\"#fb9f3a\"],[0.8888888888888888,\"#fdca26\"],[1.0,\"#f0f921\"]]}],\"heatmap\":[{\"type\":\"heatmap\",\"colorbar\":{\"outlinewidth\":0,\"ticks\":\"\"},\"colorscale\":[[0.0,\"#0d0887\"],[0.1111111111111111,\"#46039f\"],[0.2222222222222222,\"#7201a8\"],[0.3333333333333333,\"#9c179e\"],[0.4444444444444444,\"#bd3786\"],[0.5555555555555556,\"#d8576b\"],[0.6666666666666666,\"#ed7953\"],[0.7777777777777778,\"#fb9f3a\"],[0.8888888888888888,\"#fdca26\"],[1.0,\"#f0f921\"]]}],\"heatmapgl\":[{\"type\":\"heatmapgl\",\"colorbar\":{\"outlinewidth\":0,\"ticks\":\"\"},\"colorscale\":[[0.0,\"#0d0887\"],[0.1111111111111111,\"#46039f\"],[0.2222222222222222,\"#7201a8\"],[0.3333333333333333,\"#9c179e\"],[0.4444444444444444,\"#bd3786\"],[0.5555555555555556,\"#d8576b\"],[0.6666666666666666,\"#ed7953\"],[0.7777777777777778,\"#fb9f3a\"],[0.8888888888888888,\"#fdca26\"],[1.0,\"#f0f921\"]]}],\"contourcarpet\":[{\"type\":\"contourcarpet\",\"colorbar\":{\"outlinewidth\":0,\"ticks\":\"\"}}],\"contour\":[{\"type\":\"contour\",\"colorbar\":{\"outlinewidth\":0,\"ticks\":\"\"},\"colorscale\":[[0.0,\"#0d0887\"],[0.1111111111111111,\"#46039f\"],[0.2222222222222222,\"#7201a8\"],[0.3333333333333333,\"#9c179e\"],[0.4444444444444444,\"#bd3786\"],[0.5555555555555556,\"#d8576b\"],[0.6666666666666666,\"#ed7953\"],[0.7777777777777778,\"#fb9f3a\"],[0.8888888888888888,\"#fdca26\"],[1.0,\"#f0f921\"]]}],\"surface\":[{\"type\":\"surface\",\"colorbar\":{\"outlinewidth\":0,\"ticks\":\"\"},\"colorscale\":[[0.0,\"#0d0887\"],[0.1111111111111111,\"#46039f\"],[0.2222222222222222,\"#7201a8\"],[0.3333333333333333,\"#9c179e\"],[0.4444444444444444,\"#bd3786\"],[0.5555555555555556,\"#d8576b\"],[0.6666666666666666,\"#ed7953\"],[0.7777777777777778,\"#fb9f3a\"],[0.8888888888888888,\"#fdca26\"],[1.0,\"#f0f921\"]]}],\"mesh3d\":[{\"type\":\"mesh3d\",\"colorbar\":{\"outlinewidth\":0,\"ticks\":\"\"}}],\"scatter\":[{\"fillpattern\":{\"fillmode\":\"overlay\",\"size\":10,\"solidity\":0.2},\"type\":\"scatter\"}],\"parcoords\":[{\"type\":\"parcoords\",\"line\":{\"colorbar\":{\"outlinewidth\":0,\"ticks\":\"\"}}}],\"scatterpolargl\":[{\"type\":\"scatterpolargl\",\"marker\":{\"colorbar\":{\"outlinewidth\":0,\"ticks\":\"\"}}}],\"bar\":[{\"error_x\":{\"color\":\"#2a3f5f\"},\"error_y\":{\"color\":\"#2a3f5f\"},\"marker\":{\"line\":{\"color\":\"#E5ECF6\",\"width\":0.5},\"pattern\":{\"fillmode\":\"overlay\",\"size\":10,\"solidity\":0.2}},\"type\":\"bar\"}],\"scattergeo\":[{\"type\":\"scattergeo\",\"marker\":{\"colorbar\":{\"outlinewidth\":0,\"ticks\":\"\"}}}],\"scatterpolar\":[{\"type\":\"scatterpolar\",\"marker\":{\"colorbar\":{\"outlinewidth\":0,\"ticks\":\"\"}}}],\"histogram\":[{\"marker\":{\"pattern\":{\"fillmode\":\"overlay\",\"size\":10,\"solidity\":0.2}},\"type\":\"histogram\"}],\"scattergl\":[{\"type\":\"scattergl\",\"marker\":{\"colorbar\":{\"outlinewidth\":0,\"ticks\":\"\"}}}],\"scatter3d\":[{\"type\":\"scatter3d\",\"line\":{\"colorbar\":{\"outlinewidth\":0,\"ticks\":\"\"}},\"marker\":{\"colorbar\":{\"outlinewidth\":0,\"ticks\":\"\"}}}],\"scattermapbox\":[{\"type\":\"scattermapbox\",\"marker\":{\"colorbar\":{\"outlinewidth\":0,\"ticks\":\"\"}}}],\"scatterternary\":[{\"type\":\"scatterternary\",\"marker\":{\"colorbar\":{\"outlinewidth\":0,\"ticks\":\"\"}}}],\"scattercarpet\":[{\"type\":\"scattercarpet\",\"marker\":{\"colorbar\":{\"outlinewidth\":0,\"ticks\":\"\"}}}],\"carpet\":[{\"aaxis\":{\"endlinecolor\":\"#2a3f5f\",\"gridcolor\":\"white\",\"linecolor\":\"white\",\"minorgridcolor\":\"white\",\"startlinecolor\":\"#2a3f5f\"},\"baxis\":{\"endlinecolor\":\"#2a3f5f\",\"gridcolor\":\"white\",\"linecolor\":\"white\",\"minorgridcolor\":\"white\",\"startlinecolor\":\"#2a3f5f\"},\"type\":\"carpet\"}],\"table\":[{\"cells\":{\"fill\":{\"color\":\"#EBF0F8\"},\"line\":{\"color\":\"white\"}},\"header\":{\"fill\":{\"color\":\"#C8D4E3\"},\"line\":{\"color\":\"white\"}},\"type\":\"table\"}],\"barpolar\":[{\"marker\":{\"line\":{\"color\":\"#E5ECF6\",\"width\":0.5},\"pattern\":{\"fillmode\":\"overlay\",\"size\":10,\"solidity\":0.2}},\"type\":\"barpolar\"}],\"pie\":[{\"automargin\":true,\"type\":\"pie\"}]},\"layout\":{\"autotypenumbers\":\"strict\",\"colorway\":[\"#636efa\",\"#EF553B\",\"#00cc96\",\"#ab63fa\",\"#FFA15A\",\"#19d3f3\",\"#FF6692\",\"#B6E880\",\"#FF97FF\",\"#FECB52\"],\"font\":{\"color\":\"#2a3f5f\"},\"hovermode\":\"closest\",\"hoverlabel\":{\"align\":\"left\"},\"paper_bgcolor\":\"white\",\"plot_bgcolor\":\"#E5ECF6\",\"polar\":{\"bgcolor\":\"#E5ECF6\",\"angularaxis\":{\"gridcolor\":\"white\",\"linecolor\":\"white\",\"ticks\":\"\"},\"radialaxis\":{\"gridcolor\":\"white\",\"linecolor\":\"white\",\"ticks\":\"\"}},\"ternary\":{\"bgcolor\":\"#E5ECF6\",\"aaxis\":{\"gridcolor\":\"white\",\"linecolor\":\"white\",\"ticks\":\"\"},\"baxis\":{\"gridcolor\":\"white\",\"linecolor\":\"white\",\"ticks\":\"\"},\"caxis\":{\"gridcolor\":\"white\",\"linecolor\":\"white\",\"ticks\":\"\"}},\"coloraxis\":{\"colorbar\":{\"outlinewidth\":0,\"ticks\":\"\"}},\"colorscale\":{\"sequential\":[[0.0,\"#0d0887\"],[0.1111111111111111,\"#46039f\"],[0.2222222222222222,\"#7201a8\"],[0.3333333333333333,\"#9c179e\"],[0.4444444444444444,\"#bd3786\"],[0.5555555555555556,\"#d8576b\"],[0.6666666666666666,\"#ed7953\"],[0.7777777777777778,\"#fb9f3a\"],[0.8888888888888888,\"#fdca26\"],[1.0,\"#f0f921\"]],\"sequentialminus\":[[0.0,\"#0d0887\"],[0.1111111111111111,\"#46039f\"],[0.2222222222222222,\"#7201a8\"],[0.3333333333333333,\"#9c179e\"],[0.4444444444444444,\"#bd3786\"],[0.5555555555555556,\"#d8576b\"],[0.6666666666666666,\"#ed7953\"],[0.7777777777777778,\"#fb9f3a\"],[0.8888888888888888,\"#fdca26\"],[1.0,\"#f0f921\"]],\"diverging\":[[0,\"#8e0152\"],[0.1,\"#c51b7d\"],[0.2,\"#de77ae\"],[0.3,\"#f1b6da\"],[0.4,\"#fde0ef\"],[0.5,\"#f7f7f7\"],[0.6,\"#e6f5d0\"],[0.7,\"#b8e186\"],[0.8,\"#7fbc41\"],[0.9,\"#4d9221\"],[1,\"#276419\"]]},\"xaxis\":{\"gridcolor\":\"white\",\"linecolor\":\"white\",\"ticks\":\"\",\"title\":{\"standoff\":15},\"zerolinecolor\":\"white\",\"automargin\":true,\"zerolinewidth\":2},\"yaxis\":{\"gridcolor\":\"white\",\"linecolor\":\"white\",\"ticks\":\"\",\"title\":{\"standoff\":15},\"zerolinecolor\":\"white\",\"automargin\":true,\"zerolinewidth\":2},\"scene\":{\"xaxis\":{\"backgroundcolor\":\"#E5ECF6\",\"gridcolor\":\"white\",\"linecolor\":\"white\",\"showbackground\":true,\"ticks\":\"\",\"zerolinecolor\":\"white\",\"gridwidth\":2},\"yaxis\":{\"backgroundcolor\":\"#E5ECF6\",\"gridcolor\":\"white\",\"linecolor\":\"white\",\"showbackground\":true,\"ticks\":\"\",\"zerolinecolor\":\"white\",\"gridwidth\":2},\"zaxis\":{\"backgroundcolor\":\"#E5ECF6\",\"gridcolor\":\"white\",\"linecolor\":\"white\",\"showbackground\":true,\"ticks\":\"\",\"zerolinecolor\":\"white\",\"gridwidth\":2}},\"shapedefaults\":{\"line\":{\"color\":\"#2a3f5f\"}},\"annotationdefaults\":{\"arrowcolor\":\"#2a3f5f\",\"arrowhead\":0,\"arrowwidth\":1},\"geo\":{\"bgcolor\":\"white\",\"landcolor\":\"#E5ECF6\",\"subunitcolor\":\"white\",\"showland\":true,\"showlakes\":true,\"lakecolor\":\"white\"},\"title\":{\"x\":0.05},\"mapbox\":{\"style\":\"light\"}}},\"xaxis\":{\"anchor\":\"y\",\"domain\":[0.0,1.0],\"title\":{\"text\":\"Main Topic\"},\"type\":\"category\"},\"yaxis\":{\"anchor\":\"x\",\"domain\":[0.0,1.0],\"title\":{\"text\":\"Sentiment Score\"}},\"legend\":{\"tracegroupgap\":0,\"itemsizing\":\"constant\"},\"title\":{\"text\":\"Articles Sorted By Main Topic\"}},                        {\"responsive\": true}                    ).then(function(){\n",
       "                            \n",
       "var gd = document.getElementById('fb290927-771a-49d6-bdd7-df41eec5b2ce');\n",
       "var x = new MutationObserver(function (mutations, observer) {{\n",
       "        var display = window.getComputedStyle(gd).display;\n",
       "        if (!display || display === 'none') {{\n",
       "            console.log([gd, 'removed!']);\n",
       "            Plotly.purge(gd);\n",
       "            observer.disconnect();\n",
       "        }}\n",
       "}});\n",
       "\n",
       "// Listen for the removal of the full notebook cells\n",
       "var notebookContainer = gd.closest('#notebook-container');\n",
       "if (notebookContainer) {{\n",
       "    x.observe(notebookContainer, {childList: true});\n",
       "}}\n",
       "\n",
       "// Listen for the clearing of the current output cell\n",
       "var outputEl = gd.closest('.output');\n",
       "if (outputEl) {{\n",
       "    x.observe(outputEl, {childList: true});\n",
       "}}\n",
       "\n",
       "                        })                };                });            </script>        </div>"
      ]
     },
     "metadata": {},
     "output_type": "display_data"
    }
   ],
   "source": [
    "visualize_all_articles_on_main_topic(df_main_topic)"
   ]
  },
  {
   "cell_type": "markdown",
   "id": "e2dceebf",
   "metadata": {},
   "source": [
    "# Generating Cluster Graph of Topics"
   ]
  },
  {
   "cell_type": "code",
   "execution_count": 15,
   "id": "235fbeca",
   "metadata": {
    "scrolled": false
   },
   "outputs": [
    {
     "name": "stdout",
     "output_type": "stream",
     "text": [
      "[t-SNE] Computing 16 nearest neighbors...\n",
      "[t-SNE] Indexed 17 samples in 0.001s...\n",
      "[t-SNE] Computed neighbors for 17 samples in 0.001s...\n",
      "[t-SNE] Computed conditional probabilities for sample 17 / 17\n",
      "[t-SNE] Mean sigma: 0.761111\n",
      "[t-SNE] KL divergence after 250 iterations with early exaggeration: 56.412525\n",
      "[t-SNE] KL divergence after 1000 iterations: 0.055277\n"
     ]
    },
    {
     "data": {
      "application/vnd.plotly.v1+json": {
       "config": {
        "plotlyServerURL": "https://plot.ly"
       },
       "data": [
        {
         "customdata": [
          [
           "technofog.substac",
           "Neutral Positive",
           "0"
          ],
          [
           "www.health.mil/Mi",
           "Neutral Positive",
           "0"
          ],
          [
           "www.foxnews.com/u",
           "Neutral Negative",
           "0"
          ]
         ],
         "hovertemplate": "Address: %{customdata[0]}<br>Sentiment Label: %{customdata[1]}<br>Main Topic:%{customdata[2]}",
         "legendgroup": "0",
         "marker": {
          "color": "#636efa",
          "size": [
           0.9977774620056152,
           0.9976341724395752,
           0.9951184988021851
          ],
          "sizemode": "area",
          "sizeref": 0.0024980470538139344,
          "symbol": "circle"
         },
         "mode": "markers",
         "name": "0",
         "orientation": "v",
         "showlegend": true,
         "type": "scatter",
         "x": [
          81.61563110351562,
          72.167724609375,
          48.17716979980469
         ],
         "xaxis": "x",
         "y": [
          -115.14134216308594,
          -148.2630615234375,
          -123.43499755859375
         ],
         "yaxis": "y"
        },
        {
         "customdata": [
          [
           "bit.ly/3L0oHZp",
           "Positive",
           "1"
          ],
          [
           "www.thegatewaypun",
           "Neutral Positive",
           "1"
          ],
          [
           "barrie.ctvnews.ca",
           "Neutral Negative",
           "1"
          ]
         ],
         "hovertemplate": "Address: %{customdata[0]}<br>Sentiment Label: %{customdata[1]}<br>Main Topic:%{customdata[2]}",
         "legendgroup": "1",
         "marker": {
          "color": "#EF553B",
          "size": [
           0.9940392374992371,
           0.9965900778770447,
           0.9978411197662354
          ],
          "sizemode": "area",
          "sizeref": 0.0024980470538139344,
          "symbol": "circle"
         },
         "mode": "markers",
         "name": "1",
         "orientation": "v",
         "showlegend": true,
         "type": "scatter",
         "x": [
          38.116966247558594,
          51.869895935058594,
          17.59972381591797
         ],
         "xaxis": "x",
         "y": [
          147.93406677246094,
          116.51185607910156,
          120.35320281982422
         ],
         "yaxis": "y"
        },
        {
         "customdata": [
          [
           "roundingtheearth.",
           "Neutral Positive",
           "2"
          ],
          [
           "fox40.com/news/po",
           "Neutral Negative",
           "2"
          ]
         ],
         "hovertemplate": "Address: %{customdata[0]}<br>Sentiment Label: %{customdata[1]}<br>Main Topic:%{customdata[2]}",
         "legendgroup": "2",
         "marker": {
          "color": "#00cc96",
          "size": [
           0.9992188215255737,
           0.9974802136421204
          ],
          "sizemode": "area",
          "sizeref": 0.0024980470538139344,
          "symbol": "circle"
         },
         "mode": "markers",
         "name": "2",
         "orientation": "v",
         "showlegend": true,
         "type": "scatter",
         "x": [
          -15.12070083618164,
          -25.5047664642334
         ],
         "xaxis": "x",
         "y": [
          -5.747138500213623,
          19.24132537841797
         ],
         "yaxis": "y"
        },
        {
         "customdata": [
          [
           "childrenshealthde",
           "Neutral Positive",
           "3"
          ],
          [
           "www.lewrockwell.c",
           "Neutral Positive",
           "3"
          ],
          [
           "www.dailysabah.co",
           "Neutral Negative",
           "3"
          ],
          [
           "www.washingtonpos",
           "Neutral Negative",
           "3"
          ],
          [
           "nation.com.pk/08-",
           "Neutral Positive",
           "3"
          ]
         ],
         "hovertemplate": "Address: %{customdata[0]}<br>Sentiment Label: %{customdata[1]}<br>Main Topic:%{customdata[2]}",
         "legendgroup": "3",
         "marker": {
          "color": "#ab63fa",
          "size": [
           0.9985978603363037,
           0.9988965392112732,
           0.9942032694816589,
           0.9986445903778076,
           0.9971643686294556
          ],
          "sizemode": "area",
          "sizeref": 0.0024980470538139344,
          "symbol": "circle"
         },
         "mode": "markers",
         "name": "3",
         "orientation": "v",
         "showlegend": true,
         "type": "scatter",
         "x": [
          -193.800048828125,
          -183.39125061035156,
          -145.79331970214844,
          -135.06398010253906,
          -161.50567626953125
         ],
         "xaxis": "x",
         "y": [
          -42.42481994628906,
          -78.12828826904297,
          -79.58257293701172,
          -45.61277770996094,
          -21.541526794433594
         ],
         "yaxis": "y"
        },
        {
         "customdata": [
          [
           "abc7amarillo.com/",
           "Neutral Positive",
           "4"
          ],
          [
           "www.military.com/",
           "Neutral Positive",
           "4"
          ],
          [
           "foxreno.com/news/",
           "Neutral",
           "4"
          ],
          [
           "komonews.com/news",
           "Neutral Positive",
           "4"
          ]
         ],
         "hovertemplate": "Address: %{customdata[0]}<br>Sentiment Label: %{customdata[1]}<br>Main Topic:%{customdata[2]}",
         "legendgroup": "4",
         "marker": {
          "color": "#FFA15A",
          "size": [
           0.9942918419837952,
           0.9975950121879578,
           0.9928969144821167,
           0.9940661787986755
          ],
          "sizemode": "area",
          "sizeref": 0.0024980470538139344,
          "symbol": "circle"
         },
         "mode": "markers",
         "name": "4",
         "orientation": "v",
         "showlegend": true,
         "type": "scatter",
         "x": [
          155.69261169433594,
          119.91976165771484,
          114.84899139404297,
          150.6424560546875
         ],
         "xaxis": "x",
         "y": [
          -6.929786682128906,
          -12.302292823791504,
          23.331451416015625,
          29.128278732299805
         ],
         "yaxis": "y"
        }
       ],
       "layout": {
        "legend": {
         "itemsizing": "constant",
         "title": {
          "text": "Main Topic"
         },
         "tracegroupgap": 0
        },
        "template": {
         "data": {
          "bar": [
           {
            "error_x": {
             "color": "#2a3f5f"
            },
            "error_y": {
             "color": "#2a3f5f"
            },
            "marker": {
             "line": {
              "color": "#E5ECF6",
              "width": 0.5
             },
             "pattern": {
              "fillmode": "overlay",
              "size": 10,
              "solidity": 0.2
             }
            },
            "type": "bar"
           }
          ],
          "barpolar": [
           {
            "marker": {
             "line": {
              "color": "#E5ECF6",
              "width": 0.5
             },
             "pattern": {
              "fillmode": "overlay",
              "size": 10,
              "solidity": 0.2
             }
            },
            "type": "barpolar"
           }
          ],
          "carpet": [
           {
            "aaxis": {
             "endlinecolor": "#2a3f5f",
             "gridcolor": "white",
             "linecolor": "white",
             "minorgridcolor": "white",
             "startlinecolor": "#2a3f5f"
            },
            "baxis": {
             "endlinecolor": "#2a3f5f",
             "gridcolor": "white",
             "linecolor": "white",
             "minorgridcolor": "white",
             "startlinecolor": "#2a3f5f"
            },
            "type": "carpet"
           }
          ],
          "choropleth": [
           {
            "colorbar": {
             "outlinewidth": 0,
             "ticks": ""
            },
            "type": "choropleth"
           }
          ],
          "contour": [
           {
            "colorbar": {
             "outlinewidth": 0,
             "ticks": ""
            },
            "colorscale": [
             [
              0,
              "#0d0887"
             ],
             [
              0.1111111111111111,
              "#46039f"
             ],
             [
              0.2222222222222222,
              "#7201a8"
             ],
             [
              0.3333333333333333,
              "#9c179e"
             ],
             [
              0.4444444444444444,
              "#bd3786"
             ],
             [
              0.5555555555555556,
              "#d8576b"
             ],
             [
              0.6666666666666666,
              "#ed7953"
             ],
             [
              0.7777777777777778,
              "#fb9f3a"
             ],
             [
              0.8888888888888888,
              "#fdca26"
             ],
             [
              1,
              "#f0f921"
             ]
            ],
            "type": "contour"
           }
          ],
          "contourcarpet": [
           {
            "colorbar": {
             "outlinewidth": 0,
             "ticks": ""
            },
            "type": "contourcarpet"
           }
          ],
          "heatmap": [
           {
            "colorbar": {
             "outlinewidth": 0,
             "ticks": ""
            },
            "colorscale": [
             [
              0,
              "#0d0887"
             ],
             [
              0.1111111111111111,
              "#46039f"
             ],
             [
              0.2222222222222222,
              "#7201a8"
             ],
             [
              0.3333333333333333,
              "#9c179e"
             ],
             [
              0.4444444444444444,
              "#bd3786"
             ],
             [
              0.5555555555555556,
              "#d8576b"
             ],
             [
              0.6666666666666666,
              "#ed7953"
             ],
             [
              0.7777777777777778,
              "#fb9f3a"
             ],
             [
              0.8888888888888888,
              "#fdca26"
             ],
             [
              1,
              "#f0f921"
             ]
            ],
            "type": "heatmap"
           }
          ],
          "heatmapgl": [
           {
            "colorbar": {
             "outlinewidth": 0,
             "ticks": ""
            },
            "colorscale": [
             [
              0,
              "#0d0887"
             ],
             [
              0.1111111111111111,
              "#46039f"
             ],
             [
              0.2222222222222222,
              "#7201a8"
             ],
             [
              0.3333333333333333,
              "#9c179e"
             ],
             [
              0.4444444444444444,
              "#bd3786"
             ],
             [
              0.5555555555555556,
              "#d8576b"
             ],
             [
              0.6666666666666666,
              "#ed7953"
             ],
             [
              0.7777777777777778,
              "#fb9f3a"
             ],
             [
              0.8888888888888888,
              "#fdca26"
             ],
             [
              1,
              "#f0f921"
             ]
            ],
            "type": "heatmapgl"
           }
          ],
          "histogram": [
           {
            "marker": {
             "pattern": {
              "fillmode": "overlay",
              "size": 10,
              "solidity": 0.2
             }
            },
            "type": "histogram"
           }
          ],
          "histogram2d": [
           {
            "colorbar": {
             "outlinewidth": 0,
             "ticks": ""
            },
            "colorscale": [
             [
              0,
              "#0d0887"
             ],
             [
              0.1111111111111111,
              "#46039f"
             ],
             [
              0.2222222222222222,
              "#7201a8"
             ],
             [
              0.3333333333333333,
              "#9c179e"
             ],
             [
              0.4444444444444444,
              "#bd3786"
             ],
             [
              0.5555555555555556,
              "#d8576b"
             ],
             [
              0.6666666666666666,
              "#ed7953"
             ],
             [
              0.7777777777777778,
              "#fb9f3a"
             ],
             [
              0.8888888888888888,
              "#fdca26"
             ],
             [
              1,
              "#f0f921"
             ]
            ],
            "type": "histogram2d"
           }
          ],
          "histogram2dcontour": [
           {
            "colorbar": {
             "outlinewidth": 0,
             "ticks": ""
            },
            "colorscale": [
             [
              0,
              "#0d0887"
             ],
             [
              0.1111111111111111,
              "#46039f"
             ],
             [
              0.2222222222222222,
              "#7201a8"
             ],
             [
              0.3333333333333333,
              "#9c179e"
             ],
             [
              0.4444444444444444,
              "#bd3786"
             ],
             [
              0.5555555555555556,
              "#d8576b"
             ],
             [
              0.6666666666666666,
              "#ed7953"
             ],
             [
              0.7777777777777778,
              "#fb9f3a"
             ],
             [
              0.8888888888888888,
              "#fdca26"
             ],
             [
              1,
              "#f0f921"
             ]
            ],
            "type": "histogram2dcontour"
           }
          ],
          "mesh3d": [
           {
            "colorbar": {
             "outlinewidth": 0,
             "ticks": ""
            },
            "type": "mesh3d"
           }
          ],
          "parcoords": [
           {
            "line": {
             "colorbar": {
              "outlinewidth": 0,
              "ticks": ""
             }
            },
            "type": "parcoords"
           }
          ],
          "pie": [
           {
            "automargin": true,
            "type": "pie"
           }
          ],
          "scatter": [
           {
            "fillpattern": {
             "fillmode": "overlay",
             "size": 10,
             "solidity": 0.2
            },
            "type": "scatter"
           }
          ],
          "scatter3d": [
           {
            "line": {
             "colorbar": {
              "outlinewidth": 0,
              "ticks": ""
             }
            },
            "marker": {
             "colorbar": {
              "outlinewidth": 0,
              "ticks": ""
             }
            },
            "type": "scatter3d"
           }
          ],
          "scattercarpet": [
           {
            "marker": {
             "colorbar": {
              "outlinewidth": 0,
              "ticks": ""
             }
            },
            "type": "scattercarpet"
           }
          ],
          "scattergeo": [
           {
            "marker": {
             "colorbar": {
              "outlinewidth": 0,
              "ticks": ""
             }
            },
            "type": "scattergeo"
           }
          ],
          "scattergl": [
           {
            "marker": {
             "colorbar": {
              "outlinewidth": 0,
              "ticks": ""
             }
            },
            "type": "scattergl"
           }
          ],
          "scattermapbox": [
           {
            "marker": {
             "colorbar": {
              "outlinewidth": 0,
              "ticks": ""
             }
            },
            "type": "scattermapbox"
           }
          ],
          "scatterpolar": [
           {
            "marker": {
             "colorbar": {
              "outlinewidth": 0,
              "ticks": ""
             }
            },
            "type": "scatterpolar"
           }
          ],
          "scatterpolargl": [
           {
            "marker": {
             "colorbar": {
              "outlinewidth": 0,
              "ticks": ""
             }
            },
            "type": "scatterpolargl"
           }
          ],
          "scatterternary": [
           {
            "marker": {
             "colorbar": {
              "outlinewidth": 0,
              "ticks": ""
             }
            },
            "type": "scatterternary"
           }
          ],
          "surface": [
           {
            "colorbar": {
             "outlinewidth": 0,
             "ticks": ""
            },
            "colorscale": [
             [
              0,
              "#0d0887"
             ],
             [
              0.1111111111111111,
              "#46039f"
             ],
             [
              0.2222222222222222,
              "#7201a8"
             ],
             [
              0.3333333333333333,
              "#9c179e"
             ],
             [
              0.4444444444444444,
              "#bd3786"
             ],
             [
              0.5555555555555556,
              "#d8576b"
             ],
             [
              0.6666666666666666,
              "#ed7953"
             ],
             [
              0.7777777777777778,
              "#fb9f3a"
             ],
             [
              0.8888888888888888,
              "#fdca26"
             ],
             [
              1,
              "#f0f921"
             ]
            ],
            "type": "surface"
           }
          ],
          "table": [
           {
            "cells": {
             "fill": {
              "color": "#EBF0F8"
             },
             "line": {
              "color": "white"
             }
            },
            "header": {
             "fill": {
              "color": "#C8D4E3"
             },
             "line": {
              "color": "white"
             }
            },
            "type": "table"
           }
          ]
         },
         "layout": {
          "annotationdefaults": {
           "arrowcolor": "#2a3f5f",
           "arrowhead": 0,
           "arrowwidth": 1
          },
          "autotypenumbers": "strict",
          "coloraxis": {
           "colorbar": {
            "outlinewidth": 0,
            "ticks": ""
           }
          },
          "colorscale": {
           "diverging": [
            [
             0,
             "#8e0152"
            ],
            [
             0.1,
             "#c51b7d"
            ],
            [
             0.2,
             "#de77ae"
            ],
            [
             0.3,
             "#f1b6da"
            ],
            [
             0.4,
             "#fde0ef"
            ],
            [
             0.5,
             "#f7f7f7"
            ],
            [
             0.6,
             "#e6f5d0"
            ],
            [
             0.7,
             "#b8e186"
            ],
            [
             0.8,
             "#7fbc41"
            ],
            [
             0.9,
             "#4d9221"
            ],
            [
             1,
             "#276419"
            ]
           ],
           "sequential": [
            [
             0,
             "#0d0887"
            ],
            [
             0.1111111111111111,
             "#46039f"
            ],
            [
             0.2222222222222222,
             "#7201a8"
            ],
            [
             0.3333333333333333,
             "#9c179e"
            ],
            [
             0.4444444444444444,
             "#bd3786"
            ],
            [
             0.5555555555555556,
             "#d8576b"
            ],
            [
             0.6666666666666666,
             "#ed7953"
            ],
            [
             0.7777777777777778,
             "#fb9f3a"
            ],
            [
             0.8888888888888888,
             "#fdca26"
            ],
            [
             1,
             "#f0f921"
            ]
           ],
           "sequentialminus": [
            [
             0,
             "#0d0887"
            ],
            [
             0.1111111111111111,
             "#46039f"
            ],
            [
             0.2222222222222222,
             "#7201a8"
            ],
            [
             0.3333333333333333,
             "#9c179e"
            ],
            [
             0.4444444444444444,
             "#bd3786"
            ],
            [
             0.5555555555555556,
             "#d8576b"
            ],
            [
             0.6666666666666666,
             "#ed7953"
            ],
            [
             0.7777777777777778,
             "#fb9f3a"
            ],
            [
             0.8888888888888888,
             "#fdca26"
            ],
            [
             1,
             "#f0f921"
            ]
           ]
          },
          "colorway": [
           "#636efa",
           "#EF553B",
           "#00cc96",
           "#ab63fa",
           "#FFA15A",
           "#19d3f3",
           "#FF6692",
           "#B6E880",
           "#FF97FF",
           "#FECB52"
          ],
          "font": {
           "color": "#2a3f5f"
          },
          "geo": {
           "bgcolor": "white",
           "lakecolor": "white",
           "landcolor": "#E5ECF6",
           "showlakes": true,
           "showland": true,
           "subunitcolor": "white"
          },
          "hoverlabel": {
           "align": "left"
          },
          "hovermode": "closest",
          "mapbox": {
           "style": "light"
          },
          "paper_bgcolor": "white",
          "plot_bgcolor": "#E5ECF6",
          "polar": {
           "angularaxis": {
            "gridcolor": "white",
            "linecolor": "white",
            "ticks": ""
           },
           "bgcolor": "#E5ECF6",
           "radialaxis": {
            "gridcolor": "white",
            "linecolor": "white",
            "ticks": ""
           }
          },
          "scene": {
           "xaxis": {
            "backgroundcolor": "#E5ECF6",
            "gridcolor": "white",
            "gridwidth": 2,
            "linecolor": "white",
            "showbackground": true,
            "ticks": "",
            "zerolinecolor": "white"
           },
           "yaxis": {
            "backgroundcolor": "#E5ECF6",
            "gridcolor": "white",
            "gridwidth": 2,
            "linecolor": "white",
            "showbackground": true,
            "ticks": "",
            "zerolinecolor": "white"
           },
           "zaxis": {
            "backgroundcolor": "#E5ECF6",
            "gridcolor": "white",
            "gridwidth": 2,
            "linecolor": "white",
            "showbackground": true,
            "ticks": "",
            "zerolinecolor": "white"
           }
          },
          "shapedefaults": {
           "line": {
            "color": "#2a3f5f"
           }
          },
          "ternary": {
           "aaxis": {
            "gridcolor": "white",
            "linecolor": "white",
            "ticks": ""
           },
           "baxis": {
            "gridcolor": "white",
            "linecolor": "white",
            "ticks": ""
           },
           "bgcolor": "#E5ECF6",
           "caxis": {
            "gridcolor": "white",
            "linecolor": "white",
            "ticks": ""
           }
          },
          "title": {
           "x": 0.05
          },
          "xaxis": {
           "automargin": true,
           "gridcolor": "white",
           "linecolor": "white",
           "ticks": "",
           "title": {
            "standoff": 15
           },
           "zerolinecolor": "white",
           "zerolinewidth": 2
          },
          "yaxis": {
           "automargin": true,
           "gridcolor": "white",
           "linecolor": "white",
           "ticks": "",
           "title": {
            "standoff": 15
           },
           "zerolinecolor": "white",
           "zerolinewidth": 2
          }
         }
        },
        "title": {
         "text": "Topic Clustering Graph"
        },
        "xaxis": {
         "anchor": "y",
         "domain": [
          0,
          1
         ],
         "title": {
          "text": "x"
         }
        },
        "yaxis": {
         "anchor": "x",
         "domain": [
          0,
          1
         ],
         "title": {
          "text": "y"
         }
        }
       }
      },
      "text/html": [
       "<div>                            <div id=\"c4e5f138-0b31-415d-87fd-b3fc6ebe7d96\" class=\"plotly-graph-div\" style=\"height:525px; width:100%;\"></div>            <script type=\"text/javascript\">                require([\"plotly\"], function(Plotly) {                    window.PLOTLYENV=window.PLOTLYENV || {};                                    if (document.getElementById(\"c4e5f138-0b31-415d-87fd-b3fc6ebe7d96\")) {                    Plotly.newPlot(                        \"c4e5f138-0b31-415d-87fd-b3fc6ebe7d96\",                        [{\"customdata\":[[\"technofog.substac\",\"Neutral Positive\",\"0\"],[\"www.health.mil\\u002fMi\",\"Neutral Positive\",\"0\"],[\"www.foxnews.com\\u002fu\",\"Neutral Negative\",\"0\"]],\"hovertemplate\":\"Address: %{customdata[0]}\\u003cbr\\u003eSentiment Label: %{customdata[1]}\\u003cbr\\u003eMain Topic:%{customdata[2]}\",\"legendgroup\":\"0\",\"marker\":{\"color\":\"#636efa\",\"size\":[0.9977774620056152,0.9976341724395752,0.9951184988021851],\"sizemode\":\"area\",\"sizeref\":0.0024980470538139344,\"symbol\":\"circle\"},\"mode\":\"markers\",\"name\":\"0\",\"orientation\":\"v\",\"showlegend\":true,\"x\":[81.61563110351562,72.167724609375,48.17716979980469],\"xaxis\":\"x\",\"y\":[-115.14134216308594,-148.2630615234375,-123.43499755859375],\"yaxis\":\"y\",\"type\":\"scatter\"},{\"customdata\":[[\"bit.ly\\u002f3L0oHZp\",\"Positive\",\"1\"],[\"www.thegatewaypun\",\"Neutral Positive\",\"1\"],[\"barrie.ctvnews.ca\",\"Neutral Negative\",\"1\"]],\"hovertemplate\":\"Address: %{customdata[0]}\\u003cbr\\u003eSentiment Label: %{customdata[1]}\\u003cbr\\u003eMain Topic:%{customdata[2]}\",\"legendgroup\":\"1\",\"marker\":{\"color\":\"#EF553B\",\"size\":[0.9940392374992371,0.9965900778770447,0.9978411197662354],\"sizemode\":\"area\",\"sizeref\":0.0024980470538139344,\"symbol\":\"circle\"},\"mode\":\"markers\",\"name\":\"1\",\"orientation\":\"v\",\"showlegend\":true,\"x\":[38.116966247558594,51.869895935058594,17.59972381591797],\"xaxis\":\"x\",\"y\":[147.93406677246094,116.51185607910156,120.35320281982422],\"yaxis\":\"y\",\"type\":\"scatter\"},{\"customdata\":[[\"roundingtheearth.\",\"Neutral Positive\",\"2\"],[\"fox40.com\\u002fnews\\u002fpo\",\"Neutral Negative\",\"2\"]],\"hovertemplate\":\"Address: %{customdata[0]}\\u003cbr\\u003eSentiment Label: %{customdata[1]}\\u003cbr\\u003eMain Topic:%{customdata[2]}\",\"legendgroup\":\"2\",\"marker\":{\"color\":\"#00cc96\",\"size\":[0.9992188215255737,0.9974802136421204],\"sizemode\":\"area\",\"sizeref\":0.0024980470538139344,\"symbol\":\"circle\"},\"mode\":\"markers\",\"name\":\"2\",\"orientation\":\"v\",\"showlegend\":true,\"x\":[-15.12070083618164,-25.5047664642334],\"xaxis\":\"x\",\"y\":[-5.747138500213623,19.24132537841797],\"yaxis\":\"y\",\"type\":\"scatter\"},{\"customdata\":[[\"childrenshealthde\",\"Neutral Positive\",\"3\"],[\"www.lewrockwell.c\",\"Neutral Positive\",\"3\"],[\"www.dailysabah.co\",\"Neutral Negative\",\"3\"],[\"www.washingtonpos\",\"Neutral Negative\",\"3\"],[\"nation.com.pk\\u002f08-\",\"Neutral Positive\",\"3\"]],\"hovertemplate\":\"Address: %{customdata[0]}\\u003cbr\\u003eSentiment Label: %{customdata[1]}\\u003cbr\\u003eMain Topic:%{customdata[2]}\",\"legendgroup\":\"3\",\"marker\":{\"color\":\"#ab63fa\",\"size\":[0.9985978603363037,0.9988965392112732,0.9942032694816589,0.9986445903778076,0.9971643686294556],\"sizemode\":\"area\",\"sizeref\":0.0024980470538139344,\"symbol\":\"circle\"},\"mode\":\"markers\",\"name\":\"3\",\"orientation\":\"v\",\"showlegend\":true,\"x\":[-193.800048828125,-183.39125061035156,-145.79331970214844,-135.06398010253906,-161.50567626953125],\"xaxis\":\"x\",\"y\":[-42.42481994628906,-78.12828826904297,-79.58257293701172,-45.61277770996094,-21.541526794433594],\"yaxis\":\"y\",\"type\":\"scatter\"},{\"customdata\":[[\"abc7amarillo.com\\u002f\",\"Neutral Positive\",\"4\"],[\"www.military.com\\u002f\",\"Neutral Positive\",\"4\"],[\"foxreno.com\\u002fnews\\u002f\",\"Neutral\",\"4\"],[\"komonews.com\\u002fnews\",\"Neutral Positive\",\"4\"]],\"hovertemplate\":\"Address: %{customdata[0]}\\u003cbr\\u003eSentiment Label: %{customdata[1]}\\u003cbr\\u003eMain Topic:%{customdata[2]}\",\"legendgroup\":\"4\",\"marker\":{\"color\":\"#FFA15A\",\"size\":[0.9942918419837952,0.9975950121879578,0.9928969144821167,0.9940661787986755],\"sizemode\":\"area\",\"sizeref\":0.0024980470538139344,\"symbol\":\"circle\"},\"mode\":\"markers\",\"name\":\"4\",\"orientation\":\"v\",\"showlegend\":true,\"x\":[155.69261169433594,119.91976165771484,114.84899139404297,150.6424560546875],\"xaxis\":\"x\",\"y\":[-6.929786682128906,-12.302292823791504,23.331451416015625,29.128278732299805],\"yaxis\":\"y\",\"type\":\"scatter\"}],                        {\"template\":{\"data\":{\"histogram2dcontour\":[{\"type\":\"histogram2dcontour\",\"colorbar\":{\"outlinewidth\":0,\"ticks\":\"\"},\"colorscale\":[[0.0,\"#0d0887\"],[0.1111111111111111,\"#46039f\"],[0.2222222222222222,\"#7201a8\"],[0.3333333333333333,\"#9c179e\"],[0.4444444444444444,\"#bd3786\"],[0.5555555555555556,\"#d8576b\"],[0.6666666666666666,\"#ed7953\"],[0.7777777777777778,\"#fb9f3a\"],[0.8888888888888888,\"#fdca26\"],[1.0,\"#f0f921\"]]}],\"choropleth\":[{\"type\":\"choropleth\",\"colorbar\":{\"outlinewidth\":0,\"ticks\":\"\"}}],\"histogram2d\":[{\"type\":\"histogram2d\",\"colorbar\":{\"outlinewidth\":0,\"ticks\":\"\"},\"colorscale\":[[0.0,\"#0d0887\"],[0.1111111111111111,\"#46039f\"],[0.2222222222222222,\"#7201a8\"],[0.3333333333333333,\"#9c179e\"],[0.4444444444444444,\"#bd3786\"],[0.5555555555555556,\"#d8576b\"],[0.6666666666666666,\"#ed7953\"],[0.7777777777777778,\"#fb9f3a\"],[0.8888888888888888,\"#fdca26\"],[1.0,\"#f0f921\"]]}],\"heatmap\":[{\"type\":\"heatmap\",\"colorbar\":{\"outlinewidth\":0,\"ticks\":\"\"},\"colorscale\":[[0.0,\"#0d0887\"],[0.1111111111111111,\"#46039f\"],[0.2222222222222222,\"#7201a8\"],[0.3333333333333333,\"#9c179e\"],[0.4444444444444444,\"#bd3786\"],[0.5555555555555556,\"#d8576b\"],[0.6666666666666666,\"#ed7953\"],[0.7777777777777778,\"#fb9f3a\"],[0.8888888888888888,\"#fdca26\"],[1.0,\"#f0f921\"]]}],\"heatmapgl\":[{\"type\":\"heatmapgl\",\"colorbar\":{\"outlinewidth\":0,\"ticks\":\"\"},\"colorscale\":[[0.0,\"#0d0887\"],[0.1111111111111111,\"#46039f\"],[0.2222222222222222,\"#7201a8\"],[0.3333333333333333,\"#9c179e\"],[0.4444444444444444,\"#bd3786\"],[0.5555555555555556,\"#d8576b\"],[0.6666666666666666,\"#ed7953\"],[0.7777777777777778,\"#fb9f3a\"],[0.8888888888888888,\"#fdca26\"],[1.0,\"#f0f921\"]]}],\"contourcarpet\":[{\"type\":\"contourcarpet\",\"colorbar\":{\"outlinewidth\":0,\"ticks\":\"\"}}],\"contour\":[{\"type\":\"contour\",\"colorbar\":{\"outlinewidth\":0,\"ticks\":\"\"},\"colorscale\":[[0.0,\"#0d0887\"],[0.1111111111111111,\"#46039f\"],[0.2222222222222222,\"#7201a8\"],[0.3333333333333333,\"#9c179e\"],[0.4444444444444444,\"#bd3786\"],[0.5555555555555556,\"#d8576b\"],[0.6666666666666666,\"#ed7953\"],[0.7777777777777778,\"#fb9f3a\"],[0.8888888888888888,\"#fdca26\"],[1.0,\"#f0f921\"]]}],\"surface\":[{\"type\":\"surface\",\"colorbar\":{\"outlinewidth\":0,\"ticks\":\"\"},\"colorscale\":[[0.0,\"#0d0887\"],[0.1111111111111111,\"#46039f\"],[0.2222222222222222,\"#7201a8\"],[0.3333333333333333,\"#9c179e\"],[0.4444444444444444,\"#bd3786\"],[0.5555555555555556,\"#d8576b\"],[0.6666666666666666,\"#ed7953\"],[0.7777777777777778,\"#fb9f3a\"],[0.8888888888888888,\"#fdca26\"],[1.0,\"#f0f921\"]]}],\"mesh3d\":[{\"type\":\"mesh3d\",\"colorbar\":{\"outlinewidth\":0,\"ticks\":\"\"}}],\"scatter\":[{\"fillpattern\":{\"fillmode\":\"overlay\",\"size\":10,\"solidity\":0.2},\"type\":\"scatter\"}],\"parcoords\":[{\"type\":\"parcoords\",\"line\":{\"colorbar\":{\"outlinewidth\":0,\"ticks\":\"\"}}}],\"scatterpolargl\":[{\"type\":\"scatterpolargl\",\"marker\":{\"colorbar\":{\"outlinewidth\":0,\"ticks\":\"\"}}}],\"bar\":[{\"error_x\":{\"color\":\"#2a3f5f\"},\"error_y\":{\"color\":\"#2a3f5f\"},\"marker\":{\"line\":{\"color\":\"#E5ECF6\",\"width\":0.5},\"pattern\":{\"fillmode\":\"overlay\",\"size\":10,\"solidity\":0.2}},\"type\":\"bar\"}],\"scattergeo\":[{\"type\":\"scattergeo\",\"marker\":{\"colorbar\":{\"outlinewidth\":0,\"ticks\":\"\"}}}],\"scatterpolar\":[{\"type\":\"scatterpolar\",\"marker\":{\"colorbar\":{\"outlinewidth\":0,\"ticks\":\"\"}}}],\"histogram\":[{\"marker\":{\"pattern\":{\"fillmode\":\"overlay\",\"size\":10,\"solidity\":0.2}},\"type\":\"histogram\"}],\"scattergl\":[{\"type\":\"scattergl\",\"marker\":{\"colorbar\":{\"outlinewidth\":0,\"ticks\":\"\"}}}],\"scatter3d\":[{\"type\":\"scatter3d\",\"line\":{\"colorbar\":{\"outlinewidth\":0,\"ticks\":\"\"}},\"marker\":{\"colorbar\":{\"outlinewidth\":0,\"ticks\":\"\"}}}],\"scattermapbox\":[{\"type\":\"scattermapbox\",\"marker\":{\"colorbar\":{\"outlinewidth\":0,\"ticks\":\"\"}}}],\"scatterternary\":[{\"type\":\"scatterternary\",\"marker\":{\"colorbar\":{\"outlinewidth\":0,\"ticks\":\"\"}}}],\"scattercarpet\":[{\"type\":\"scattercarpet\",\"marker\":{\"colorbar\":{\"outlinewidth\":0,\"ticks\":\"\"}}}],\"carpet\":[{\"aaxis\":{\"endlinecolor\":\"#2a3f5f\",\"gridcolor\":\"white\",\"linecolor\":\"white\",\"minorgridcolor\":\"white\",\"startlinecolor\":\"#2a3f5f\"},\"baxis\":{\"endlinecolor\":\"#2a3f5f\",\"gridcolor\":\"white\",\"linecolor\":\"white\",\"minorgridcolor\":\"white\",\"startlinecolor\":\"#2a3f5f\"},\"type\":\"carpet\"}],\"table\":[{\"cells\":{\"fill\":{\"color\":\"#EBF0F8\"},\"line\":{\"color\":\"white\"}},\"header\":{\"fill\":{\"color\":\"#C8D4E3\"},\"line\":{\"color\":\"white\"}},\"type\":\"table\"}],\"barpolar\":[{\"marker\":{\"line\":{\"color\":\"#E5ECF6\",\"width\":0.5},\"pattern\":{\"fillmode\":\"overlay\",\"size\":10,\"solidity\":0.2}},\"type\":\"barpolar\"}],\"pie\":[{\"automargin\":true,\"type\":\"pie\"}]},\"layout\":{\"autotypenumbers\":\"strict\",\"colorway\":[\"#636efa\",\"#EF553B\",\"#00cc96\",\"#ab63fa\",\"#FFA15A\",\"#19d3f3\",\"#FF6692\",\"#B6E880\",\"#FF97FF\",\"#FECB52\"],\"font\":{\"color\":\"#2a3f5f\"},\"hovermode\":\"closest\",\"hoverlabel\":{\"align\":\"left\"},\"paper_bgcolor\":\"white\",\"plot_bgcolor\":\"#E5ECF6\",\"polar\":{\"bgcolor\":\"#E5ECF6\",\"angularaxis\":{\"gridcolor\":\"white\",\"linecolor\":\"white\",\"ticks\":\"\"},\"radialaxis\":{\"gridcolor\":\"white\",\"linecolor\":\"white\",\"ticks\":\"\"}},\"ternary\":{\"bgcolor\":\"#E5ECF6\",\"aaxis\":{\"gridcolor\":\"white\",\"linecolor\":\"white\",\"ticks\":\"\"},\"baxis\":{\"gridcolor\":\"white\",\"linecolor\":\"white\",\"ticks\":\"\"},\"caxis\":{\"gridcolor\":\"white\",\"linecolor\":\"white\",\"ticks\":\"\"}},\"coloraxis\":{\"colorbar\":{\"outlinewidth\":0,\"ticks\":\"\"}},\"colorscale\":{\"sequential\":[[0.0,\"#0d0887\"],[0.1111111111111111,\"#46039f\"],[0.2222222222222222,\"#7201a8\"],[0.3333333333333333,\"#9c179e\"],[0.4444444444444444,\"#bd3786\"],[0.5555555555555556,\"#d8576b\"],[0.6666666666666666,\"#ed7953\"],[0.7777777777777778,\"#fb9f3a\"],[0.8888888888888888,\"#fdca26\"],[1.0,\"#f0f921\"]],\"sequentialminus\":[[0.0,\"#0d0887\"],[0.1111111111111111,\"#46039f\"],[0.2222222222222222,\"#7201a8\"],[0.3333333333333333,\"#9c179e\"],[0.4444444444444444,\"#bd3786\"],[0.5555555555555556,\"#d8576b\"],[0.6666666666666666,\"#ed7953\"],[0.7777777777777778,\"#fb9f3a\"],[0.8888888888888888,\"#fdca26\"],[1.0,\"#f0f921\"]],\"diverging\":[[0,\"#8e0152\"],[0.1,\"#c51b7d\"],[0.2,\"#de77ae\"],[0.3,\"#f1b6da\"],[0.4,\"#fde0ef\"],[0.5,\"#f7f7f7\"],[0.6,\"#e6f5d0\"],[0.7,\"#b8e186\"],[0.8,\"#7fbc41\"],[0.9,\"#4d9221\"],[1,\"#276419\"]]},\"xaxis\":{\"gridcolor\":\"white\",\"linecolor\":\"white\",\"ticks\":\"\",\"title\":{\"standoff\":15},\"zerolinecolor\":\"white\",\"automargin\":true,\"zerolinewidth\":2},\"yaxis\":{\"gridcolor\":\"white\",\"linecolor\":\"white\",\"ticks\":\"\",\"title\":{\"standoff\":15},\"zerolinecolor\":\"white\",\"automargin\":true,\"zerolinewidth\":2},\"scene\":{\"xaxis\":{\"backgroundcolor\":\"#E5ECF6\",\"gridcolor\":\"white\",\"linecolor\":\"white\",\"showbackground\":true,\"ticks\":\"\",\"zerolinecolor\":\"white\",\"gridwidth\":2},\"yaxis\":{\"backgroundcolor\":\"#E5ECF6\",\"gridcolor\":\"white\",\"linecolor\":\"white\",\"showbackground\":true,\"ticks\":\"\",\"zerolinecolor\":\"white\",\"gridwidth\":2},\"zaxis\":{\"backgroundcolor\":\"#E5ECF6\",\"gridcolor\":\"white\",\"linecolor\":\"white\",\"showbackground\":true,\"ticks\":\"\",\"zerolinecolor\":\"white\",\"gridwidth\":2}},\"shapedefaults\":{\"line\":{\"color\":\"#2a3f5f\"}},\"annotationdefaults\":{\"arrowcolor\":\"#2a3f5f\",\"arrowhead\":0,\"arrowwidth\":1},\"geo\":{\"bgcolor\":\"white\",\"landcolor\":\"#E5ECF6\",\"subunitcolor\":\"white\",\"showland\":true,\"showlakes\":true,\"lakecolor\":\"white\"},\"title\":{\"x\":0.05},\"mapbox\":{\"style\":\"light\"}}},\"xaxis\":{\"anchor\":\"y\",\"domain\":[0.0,1.0],\"title\":{\"text\":\"x\"}},\"yaxis\":{\"anchor\":\"x\",\"domain\":[0.0,1.0],\"title\":{\"text\":\"y\"}},\"legend\":{\"title\":{\"text\":\"Main Topic\"},\"tracegroupgap\":0,\"itemsizing\":\"constant\"},\"title\":{\"text\":\"Topic Clustering Graph\"}},                        {\"responsive\": true}                    ).then(function(){\n",
       "                            \n",
       "var gd = document.getElementById('c4e5f138-0b31-415d-87fd-b3fc6ebe7d96');\n",
       "var x = new MutationObserver(function (mutations, observer) {{\n",
       "        var display = window.getComputedStyle(gd).display;\n",
       "        if (!display || display === 'none') {{\n",
       "            console.log([gd, 'removed!']);\n",
       "            Plotly.purge(gd);\n",
       "            observer.disconnect();\n",
       "        }}\n",
       "}});\n",
       "\n",
       "// Listen for the removal of the full notebook cells\n",
       "var notebookContainer = gd.closest('#notebook-container');\n",
       "if (notebookContainer) {{\n",
       "    x.observe(notebookContainer, {childList: true});\n",
       "}}\n",
       "\n",
       "// Listen for the clearing of the current output cell\n",
       "var outputEl = gd.closest('.output');\n",
       "if (outputEl) {{\n",
       "    x.observe(outputEl, {childList: true});\n",
       "}}\n",
       "\n",
       "                        })                };                });            </script>        </div>"
      ]
     },
     "metadata": {},
     "output_type": "display_data"
    }
   ],
   "source": [
    "visualize_topic_cluster_TSNE(LDA_model, df_main_topic)"
   ]
  },
  {
   "cell_type": "markdown",
   "id": "69a452f5",
   "metadata": {},
   "source": [
    "## Subjectivity vs Sentiment of Articles for a single topic"
   ]
  },
  {
   "cell_type": "code",
   "execution_count": 18,
   "id": "8cb3e81c",
   "metadata": {
    "scrolled": false
   },
   "outputs": [
    {
     "data": {
      "application/vnd.plotly.v1+json": {
       "config": {
        "plotlyServerURL": "https://plot.ly"
       },
       "data": [
        {
         "hovertemplate": "<b>%{hovertext}</b><br><br>Subjectivity Score=%{x}<br>Sentiment Score=%{y}<br>Main Topic Score=%{marker.size}<extra></extra>",
         "hovertext": [
          "technofog.substac",
          "www.health.mil/Mi",
          "www.foxnews.com/u"
         ],
         "legendgroup": "",
         "marker": {
          "color": "#636efa",
          "size": [
           0.9977774620056152,
           0.9976341724395752,
           0.9951184988021851
          ],
          "sizemode": "area",
          "sizeref": 0.002494443655014038,
          "symbol": "circle"
         },
         "mode": "markers",
         "name": "",
         "orientation": "v",
         "showlegend": false,
         "type": "scatter",
         "x": [
          0.35,
          0.23,
          0.42
         ],
         "xaxis": "x",
         "y": [
          0.05,
          0.05,
          0
         ],
         "yaxis": "y"
        }
       ],
       "layout": {
        "legend": {
         "itemsizing": "constant",
         "tracegroupgap": 0
        },
        "template": {
         "data": {
          "bar": [
           {
            "error_x": {
             "color": "#2a3f5f"
            },
            "error_y": {
             "color": "#2a3f5f"
            },
            "marker": {
             "line": {
              "color": "#E5ECF6",
              "width": 0.5
             },
             "pattern": {
              "fillmode": "overlay",
              "size": 10,
              "solidity": 0.2
             }
            },
            "type": "bar"
           }
          ],
          "barpolar": [
           {
            "marker": {
             "line": {
              "color": "#E5ECF6",
              "width": 0.5
             },
             "pattern": {
              "fillmode": "overlay",
              "size": 10,
              "solidity": 0.2
             }
            },
            "type": "barpolar"
           }
          ],
          "carpet": [
           {
            "aaxis": {
             "endlinecolor": "#2a3f5f",
             "gridcolor": "white",
             "linecolor": "white",
             "minorgridcolor": "white",
             "startlinecolor": "#2a3f5f"
            },
            "baxis": {
             "endlinecolor": "#2a3f5f",
             "gridcolor": "white",
             "linecolor": "white",
             "minorgridcolor": "white",
             "startlinecolor": "#2a3f5f"
            },
            "type": "carpet"
           }
          ],
          "choropleth": [
           {
            "colorbar": {
             "outlinewidth": 0,
             "ticks": ""
            },
            "type": "choropleth"
           }
          ],
          "contour": [
           {
            "colorbar": {
             "outlinewidth": 0,
             "ticks": ""
            },
            "colorscale": [
             [
              0,
              "#0d0887"
             ],
             [
              0.1111111111111111,
              "#46039f"
             ],
             [
              0.2222222222222222,
              "#7201a8"
             ],
             [
              0.3333333333333333,
              "#9c179e"
             ],
             [
              0.4444444444444444,
              "#bd3786"
             ],
             [
              0.5555555555555556,
              "#d8576b"
             ],
             [
              0.6666666666666666,
              "#ed7953"
             ],
             [
              0.7777777777777778,
              "#fb9f3a"
             ],
             [
              0.8888888888888888,
              "#fdca26"
             ],
             [
              1,
              "#f0f921"
             ]
            ],
            "type": "contour"
           }
          ],
          "contourcarpet": [
           {
            "colorbar": {
             "outlinewidth": 0,
             "ticks": ""
            },
            "type": "contourcarpet"
           }
          ],
          "heatmap": [
           {
            "colorbar": {
             "outlinewidth": 0,
             "ticks": ""
            },
            "colorscale": [
             [
              0,
              "#0d0887"
             ],
             [
              0.1111111111111111,
              "#46039f"
             ],
             [
              0.2222222222222222,
              "#7201a8"
             ],
             [
              0.3333333333333333,
              "#9c179e"
             ],
             [
              0.4444444444444444,
              "#bd3786"
             ],
             [
              0.5555555555555556,
              "#d8576b"
             ],
             [
              0.6666666666666666,
              "#ed7953"
             ],
             [
              0.7777777777777778,
              "#fb9f3a"
             ],
             [
              0.8888888888888888,
              "#fdca26"
             ],
             [
              1,
              "#f0f921"
             ]
            ],
            "type": "heatmap"
           }
          ],
          "heatmapgl": [
           {
            "colorbar": {
             "outlinewidth": 0,
             "ticks": ""
            },
            "colorscale": [
             [
              0,
              "#0d0887"
             ],
             [
              0.1111111111111111,
              "#46039f"
             ],
             [
              0.2222222222222222,
              "#7201a8"
             ],
             [
              0.3333333333333333,
              "#9c179e"
             ],
             [
              0.4444444444444444,
              "#bd3786"
             ],
             [
              0.5555555555555556,
              "#d8576b"
             ],
             [
              0.6666666666666666,
              "#ed7953"
             ],
             [
              0.7777777777777778,
              "#fb9f3a"
             ],
             [
              0.8888888888888888,
              "#fdca26"
             ],
             [
              1,
              "#f0f921"
             ]
            ],
            "type": "heatmapgl"
           }
          ],
          "histogram": [
           {
            "marker": {
             "pattern": {
              "fillmode": "overlay",
              "size": 10,
              "solidity": 0.2
             }
            },
            "type": "histogram"
           }
          ],
          "histogram2d": [
           {
            "colorbar": {
             "outlinewidth": 0,
             "ticks": ""
            },
            "colorscale": [
             [
              0,
              "#0d0887"
             ],
             [
              0.1111111111111111,
              "#46039f"
             ],
             [
              0.2222222222222222,
              "#7201a8"
             ],
             [
              0.3333333333333333,
              "#9c179e"
             ],
             [
              0.4444444444444444,
              "#bd3786"
             ],
             [
              0.5555555555555556,
              "#d8576b"
             ],
             [
              0.6666666666666666,
              "#ed7953"
             ],
             [
              0.7777777777777778,
              "#fb9f3a"
             ],
             [
              0.8888888888888888,
              "#fdca26"
             ],
             [
              1,
              "#f0f921"
             ]
            ],
            "type": "histogram2d"
           }
          ],
          "histogram2dcontour": [
           {
            "colorbar": {
             "outlinewidth": 0,
             "ticks": ""
            },
            "colorscale": [
             [
              0,
              "#0d0887"
             ],
             [
              0.1111111111111111,
              "#46039f"
             ],
             [
              0.2222222222222222,
              "#7201a8"
             ],
             [
              0.3333333333333333,
              "#9c179e"
             ],
             [
              0.4444444444444444,
              "#bd3786"
             ],
             [
              0.5555555555555556,
              "#d8576b"
             ],
             [
              0.6666666666666666,
              "#ed7953"
             ],
             [
              0.7777777777777778,
              "#fb9f3a"
             ],
             [
              0.8888888888888888,
              "#fdca26"
             ],
             [
              1,
              "#f0f921"
             ]
            ],
            "type": "histogram2dcontour"
           }
          ],
          "mesh3d": [
           {
            "colorbar": {
             "outlinewidth": 0,
             "ticks": ""
            },
            "type": "mesh3d"
           }
          ],
          "parcoords": [
           {
            "line": {
             "colorbar": {
              "outlinewidth": 0,
              "ticks": ""
             }
            },
            "type": "parcoords"
           }
          ],
          "pie": [
           {
            "automargin": true,
            "type": "pie"
           }
          ],
          "scatter": [
           {
            "fillpattern": {
             "fillmode": "overlay",
             "size": 10,
             "solidity": 0.2
            },
            "type": "scatter"
           }
          ],
          "scatter3d": [
           {
            "line": {
             "colorbar": {
              "outlinewidth": 0,
              "ticks": ""
             }
            },
            "marker": {
             "colorbar": {
              "outlinewidth": 0,
              "ticks": ""
             }
            },
            "type": "scatter3d"
           }
          ],
          "scattercarpet": [
           {
            "marker": {
             "colorbar": {
              "outlinewidth": 0,
              "ticks": ""
             }
            },
            "type": "scattercarpet"
           }
          ],
          "scattergeo": [
           {
            "marker": {
             "colorbar": {
              "outlinewidth": 0,
              "ticks": ""
             }
            },
            "type": "scattergeo"
           }
          ],
          "scattergl": [
           {
            "marker": {
             "colorbar": {
              "outlinewidth": 0,
              "ticks": ""
             }
            },
            "type": "scattergl"
           }
          ],
          "scattermapbox": [
           {
            "marker": {
             "colorbar": {
              "outlinewidth": 0,
              "ticks": ""
             }
            },
            "type": "scattermapbox"
           }
          ],
          "scatterpolar": [
           {
            "marker": {
             "colorbar": {
              "outlinewidth": 0,
              "ticks": ""
             }
            },
            "type": "scatterpolar"
           }
          ],
          "scatterpolargl": [
           {
            "marker": {
             "colorbar": {
              "outlinewidth": 0,
              "ticks": ""
             }
            },
            "type": "scatterpolargl"
           }
          ],
          "scatterternary": [
           {
            "marker": {
             "colorbar": {
              "outlinewidth": 0,
              "ticks": ""
             }
            },
            "type": "scatterternary"
           }
          ],
          "surface": [
           {
            "colorbar": {
             "outlinewidth": 0,
             "ticks": ""
            },
            "colorscale": [
             [
              0,
              "#0d0887"
             ],
             [
              0.1111111111111111,
              "#46039f"
             ],
             [
              0.2222222222222222,
              "#7201a8"
             ],
             [
              0.3333333333333333,
              "#9c179e"
             ],
             [
              0.4444444444444444,
              "#bd3786"
             ],
             [
              0.5555555555555556,
              "#d8576b"
             ],
             [
              0.6666666666666666,
              "#ed7953"
             ],
             [
              0.7777777777777778,
              "#fb9f3a"
             ],
             [
              0.8888888888888888,
              "#fdca26"
             ],
             [
              1,
              "#f0f921"
             ]
            ],
            "type": "surface"
           }
          ],
          "table": [
           {
            "cells": {
             "fill": {
              "color": "#EBF0F8"
             },
             "line": {
              "color": "white"
             }
            },
            "header": {
             "fill": {
              "color": "#C8D4E3"
             },
             "line": {
              "color": "white"
             }
            },
            "type": "table"
           }
          ]
         },
         "layout": {
          "annotationdefaults": {
           "arrowcolor": "#2a3f5f",
           "arrowhead": 0,
           "arrowwidth": 1
          },
          "autotypenumbers": "strict",
          "coloraxis": {
           "colorbar": {
            "outlinewidth": 0,
            "ticks": ""
           }
          },
          "colorscale": {
           "diverging": [
            [
             0,
             "#8e0152"
            ],
            [
             0.1,
             "#c51b7d"
            ],
            [
             0.2,
             "#de77ae"
            ],
            [
             0.3,
             "#f1b6da"
            ],
            [
             0.4,
             "#fde0ef"
            ],
            [
             0.5,
             "#f7f7f7"
            ],
            [
             0.6,
             "#e6f5d0"
            ],
            [
             0.7,
             "#b8e186"
            ],
            [
             0.8,
             "#7fbc41"
            ],
            [
             0.9,
             "#4d9221"
            ],
            [
             1,
             "#276419"
            ]
           ],
           "sequential": [
            [
             0,
             "#0d0887"
            ],
            [
             0.1111111111111111,
             "#46039f"
            ],
            [
             0.2222222222222222,
             "#7201a8"
            ],
            [
             0.3333333333333333,
             "#9c179e"
            ],
            [
             0.4444444444444444,
             "#bd3786"
            ],
            [
             0.5555555555555556,
             "#d8576b"
            ],
            [
             0.6666666666666666,
             "#ed7953"
            ],
            [
             0.7777777777777778,
             "#fb9f3a"
            ],
            [
             0.8888888888888888,
             "#fdca26"
            ],
            [
             1,
             "#f0f921"
            ]
           ],
           "sequentialminus": [
            [
             0,
             "#0d0887"
            ],
            [
             0.1111111111111111,
             "#46039f"
            ],
            [
             0.2222222222222222,
             "#7201a8"
            ],
            [
             0.3333333333333333,
             "#9c179e"
            ],
            [
             0.4444444444444444,
             "#bd3786"
            ],
            [
             0.5555555555555556,
             "#d8576b"
            ],
            [
             0.6666666666666666,
             "#ed7953"
            ],
            [
             0.7777777777777778,
             "#fb9f3a"
            ],
            [
             0.8888888888888888,
             "#fdca26"
            ],
            [
             1,
             "#f0f921"
            ]
           ]
          },
          "colorway": [
           "#636efa",
           "#EF553B",
           "#00cc96",
           "#ab63fa",
           "#FFA15A",
           "#19d3f3",
           "#FF6692",
           "#B6E880",
           "#FF97FF",
           "#FECB52"
          ],
          "font": {
           "color": "#2a3f5f"
          },
          "geo": {
           "bgcolor": "white",
           "lakecolor": "white",
           "landcolor": "#E5ECF6",
           "showlakes": true,
           "showland": true,
           "subunitcolor": "white"
          },
          "hoverlabel": {
           "align": "left"
          },
          "hovermode": "closest",
          "mapbox": {
           "style": "light"
          },
          "paper_bgcolor": "white",
          "plot_bgcolor": "#E5ECF6",
          "polar": {
           "angularaxis": {
            "gridcolor": "white",
            "linecolor": "white",
            "ticks": ""
           },
           "bgcolor": "#E5ECF6",
           "radialaxis": {
            "gridcolor": "white",
            "linecolor": "white",
            "ticks": ""
           }
          },
          "scene": {
           "xaxis": {
            "backgroundcolor": "#E5ECF6",
            "gridcolor": "white",
            "gridwidth": 2,
            "linecolor": "white",
            "showbackground": true,
            "ticks": "",
            "zerolinecolor": "white"
           },
           "yaxis": {
            "backgroundcolor": "#E5ECF6",
            "gridcolor": "white",
            "gridwidth": 2,
            "linecolor": "white",
            "showbackground": true,
            "ticks": "",
            "zerolinecolor": "white"
           },
           "zaxis": {
            "backgroundcolor": "#E5ECF6",
            "gridcolor": "white",
            "gridwidth": 2,
            "linecolor": "white",
            "showbackground": true,
            "ticks": "",
            "zerolinecolor": "white"
           }
          },
          "shapedefaults": {
           "line": {
            "color": "#2a3f5f"
           }
          },
          "ternary": {
           "aaxis": {
            "gridcolor": "white",
            "linecolor": "white",
            "ticks": ""
           },
           "baxis": {
            "gridcolor": "white",
            "linecolor": "white",
            "ticks": ""
           },
           "bgcolor": "#E5ECF6",
           "caxis": {
            "gridcolor": "white",
            "linecolor": "white",
            "ticks": ""
           }
          },
          "title": {
           "x": 0.05
          },
          "xaxis": {
           "automargin": true,
           "gridcolor": "white",
           "linecolor": "white",
           "ticks": "",
           "title": {
            "standoff": 15
           },
           "zerolinecolor": "white",
           "zerolinewidth": 2
          },
          "yaxis": {
           "automargin": true,
           "gridcolor": "white",
           "linecolor": "white",
           "ticks": "",
           "title": {
            "standoff": 15
           },
           "zerolinecolor": "white",
           "zerolinewidth": 2
          }
         }
        },
        "title": {
         "text": "Sentiment Analysis on Topic 0"
        },
        "xaxis": {
         "anchor": "y",
         "domain": [
          0,
          1
         ],
         "title": {
          "text": "Subjectivity Score"
         }
        },
        "yaxis": {
         "anchor": "x",
         "domain": [
          0,
          1
         ],
         "title": {
          "text": "Sentiment Score"
         }
        }
       }
      },
      "text/html": [
       "<div>                            <div id=\"68391f4e-d404-4c69-b0db-dc1e48b62e82\" class=\"plotly-graph-div\" style=\"height:525px; width:100%;\"></div>            <script type=\"text/javascript\">                require([\"plotly\"], function(Plotly) {                    window.PLOTLYENV=window.PLOTLYENV || {};                                    if (document.getElementById(\"68391f4e-d404-4c69-b0db-dc1e48b62e82\")) {                    Plotly.newPlot(                        \"68391f4e-d404-4c69-b0db-dc1e48b62e82\",                        [{\"hovertemplate\":\"\\u003cb\\u003e%{hovertext}\\u003c\\u002fb\\u003e\\u003cbr\\u003e\\u003cbr\\u003eSubjectivity Score=%{x}\\u003cbr\\u003eSentiment Score=%{y}\\u003cbr\\u003eMain Topic Score=%{marker.size}\\u003cextra\\u003e\\u003c\\u002fextra\\u003e\",\"hovertext\":[\"technofog.substac\",\"www.health.mil\\u002fMi\",\"www.foxnews.com\\u002fu\"],\"legendgroup\":\"\",\"marker\":{\"color\":\"#636efa\",\"size\":[0.9977774620056152,0.9976341724395752,0.9951184988021851],\"sizemode\":\"area\",\"sizeref\":0.002494443655014038,\"symbol\":\"circle\"},\"mode\":\"markers\",\"name\":\"\",\"orientation\":\"v\",\"showlegend\":false,\"x\":[0.35,0.23,0.42],\"xaxis\":\"x\",\"y\":[0.05,0.05,0.0],\"yaxis\":\"y\",\"type\":\"scatter\"}],                        {\"template\":{\"data\":{\"histogram2dcontour\":[{\"type\":\"histogram2dcontour\",\"colorbar\":{\"outlinewidth\":0,\"ticks\":\"\"},\"colorscale\":[[0.0,\"#0d0887\"],[0.1111111111111111,\"#46039f\"],[0.2222222222222222,\"#7201a8\"],[0.3333333333333333,\"#9c179e\"],[0.4444444444444444,\"#bd3786\"],[0.5555555555555556,\"#d8576b\"],[0.6666666666666666,\"#ed7953\"],[0.7777777777777778,\"#fb9f3a\"],[0.8888888888888888,\"#fdca26\"],[1.0,\"#f0f921\"]]}],\"choropleth\":[{\"type\":\"choropleth\",\"colorbar\":{\"outlinewidth\":0,\"ticks\":\"\"}}],\"histogram2d\":[{\"type\":\"histogram2d\",\"colorbar\":{\"outlinewidth\":0,\"ticks\":\"\"},\"colorscale\":[[0.0,\"#0d0887\"],[0.1111111111111111,\"#46039f\"],[0.2222222222222222,\"#7201a8\"],[0.3333333333333333,\"#9c179e\"],[0.4444444444444444,\"#bd3786\"],[0.5555555555555556,\"#d8576b\"],[0.6666666666666666,\"#ed7953\"],[0.7777777777777778,\"#fb9f3a\"],[0.8888888888888888,\"#fdca26\"],[1.0,\"#f0f921\"]]}],\"heatmap\":[{\"type\":\"heatmap\",\"colorbar\":{\"outlinewidth\":0,\"ticks\":\"\"},\"colorscale\":[[0.0,\"#0d0887\"],[0.1111111111111111,\"#46039f\"],[0.2222222222222222,\"#7201a8\"],[0.3333333333333333,\"#9c179e\"],[0.4444444444444444,\"#bd3786\"],[0.5555555555555556,\"#d8576b\"],[0.6666666666666666,\"#ed7953\"],[0.7777777777777778,\"#fb9f3a\"],[0.8888888888888888,\"#fdca26\"],[1.0,\"#f0f921\"]]}],\"heatmapgl\":[{\"type\":\"heatmapgl\",\"colorbar\":{\"outlinewidth\":0,\"ticks\":\"\"},\"colorscale\":[[0.0,\"#0d0887\"],[0.1111111111111111,\"#46039f\"],[0.2222222222222222,\"#7201a8\"],[0.3333333333333333,\"#9c179e\"],[0.4444444444444444,\"#bd3786\"],[0.5555555555555556,\"#d8576b\"],[0.6666666666666666,\"#ed7953\"],[0.7777777777777778,\"#fb9f3a\"],[0.8888888888888888,\"#fdca26\"],[1.0,\"#f0f921\"]]}],\"contourcarpet\":[{\"type\":\"contourcarpet\",\"colorbar\":{\"outlinewidth\":0,\"ticks\":\"\"}}],\"contour\":[{\"type\":\"contour\",\"colorbar\":{\"outlinewidth\":0,\"ticks\":\"\"},\"colorscale\":[[0.0,\"#0d0887\"],[0.1111111111111111,\"#46039f\"],[0.2222222222222222,\"#7201a8\"],[0.3333333333333333,\"#9c179e\"],[0.4444444444444444,\"#bd3786\"],[0.5555555555555556,\"#d8576b\"],[0.6666666666666666,\"#ed7953\"],[0.7777777777777778,\"#fb9f3a\"],[0.8888888888888888,\"#fdca26\"],[1.0,\"#f0f921\"]]}],\"surface\":[{\"type\":\"surface\",\"colorbar\":{\"outlinewidth\":0,\"ticks\":\"\"},\"colorscale\":[[0.0,\"#0d0887\"],[0.1111111111111111,\"#46039f\"],[0.2222222222222222,\"#7201a8\"],[0.3333333333333333,\"#9c179e\"],[0.4444444444444444,\"#bd3786\"],[0.5555555555555556,\"#d8576b\"],[0.6666666666666666,\"#ed7953\"],[0.7777777777777778,\"#fb9f3a\"],[0.8888888888888888,\"#fdca26\"],[1.0,\"#f0f921\"]]}],\"mesh3d\":[{\"type\":\"mesh3d\",\"colorbar\":{\"outlinewidth\":0,\"ticks\":\"\"}}],\"scatter\":[{\"fillpattern\":{\"fillmode\":\"overlay\",\"size\":10,\"solidity\":0.2},\"type\":\"scatter\"}],\"parcoords\":[{\"type\":\"parcoords\",\"line\":{\"colorbar\":{\"outlinewidth\":0,\"ticks\":\"\"}}}],\"scatterpolargl\":[{\"type\":\"scatterpolargl\",\"marker\":{\"colorbar\":{\"outlinewidth\":0,\"ticks\":\"\"}}}],\"bar\":[{\"error_x\":{\"color\":\"#2a3f5f\"},\"error_y\":{\"color\":\"#2a3f5f\"},\"marker\":{\"line\":{\"color\":\"#E5ECF6\",\"width\":0.5},\"pattern\":{\"fillmode\":\"overlay\",\"size\":10,\"solidity\":0.2}},\"type\":\"bar\"}],\"scattergeo\":[{\"type\":\"scattergeo\",\"marker\":{\"colorbar\":{\"outlinewidth\":0,\"ticks\":\"\"}}}],\"scatterpolar\":[{\"type\":\"scatterpolar\",\"marker\":{\"colorbar\":{\"outlinewidth\":0,\"ticks\":\"\"}}}],\"histogram\":[{\"marker\":{\"pattern\":{\"fillmode\":\"overlay\",\"size\":10,\"solidity\":0.2}},\"type\":\"histogram\"}],\"scattergl\":[{\"type\":\"scattergl\",\"marker\":{\"colorbar\":{\"outlinewidth\":0,\"ticks\":\"\"}}}],\"scatter3d\":[{\"type\":\"scatter3d\",\"line\":{\"colorbar\":{\"outlinewidth\":0,\"ticks\":\"\"}},\"marker\":{\"colorbar\":{\"outlinewidth\":0,\"ticks\":\"\"}}}],\"scattermapbox\":[{\"type\":\"scattermapbox\",\"marker\":{\"colorbar\":{\"outlinewidth\":0,\"ticks\":\"\"}}}],\"scatterternary\":[{\"type\":\"scatterternary\",\"marker\":{\"colorbar\":{\"outlinewidth\":0,\"ticks\":\"\"}}}],\"scattercarpet\":[{\"type\":\"scattercarpet\",\"marker\":{\"colorbar\":{\"outlinewidth\":0,\"ticks\":\"\"}}}],\"carpet\":[{\"aaxis\":{\"endlinecolor\":\"#2a3f5f\",\"gridcolor\":\"white\",\"linecolor\":\"white\",\"minorgridcolor\":\"white\",\"startlinecolor\":\"#2a3f5f\"},\"baxis\":{\"endlinecolor\":\"#2a3f5f\",\"gridcolor\":\"white\",\"linecolor\":\"white\",\"minorgridcolor\":\"white\",\"startlinecolor\":\"#2a3f5f\"},\"type\":\"carpet\"}],\"table\":[{\"cells\":{\"fill\":{\"color\":\"#EBF0F8\"},\"line\":{\"color\":\"white\"}},\"header\":{\"fill\":{\"color\":\"#C8D4E3\"},\"line\":{\"color\":\"white\"}},\"type\":\"table\"}],\"barpolar\":[{\"marker\":{\"line\":{\"color\":\"#E5ECF6\",\"width\":0.5},\"pattern\":{\"fillmode\":\"overlay\",\"size\":10,\"solidity\":0.2}},\"type\":\"barpolar\"}],\"pie\":[{\"automargin\":true,\"type\":\"pie\"}]},\"layout\":{\"autotypenumbers\":\"strict\",\"colorway\":[\"#636efa\",\"#EF553B\",\"#00cc96\",\"#ab63fa\",\"#FFA15A\",\"#19d3f3\",\"#FF6692\",\"#B6E880\",\"#FF97FF\",\"#FECB52\"],\"font\":{\"color\":\"#2a3f5f\"},\"hovermode\":\"closest\",\"hoverlabel\":{\"align\":\"left\"},\"paper_bgcolor\":\"white\",\"plot_bgcolor\":\"#E5ECF6\",\"polar\":{\"bgcolor\":\"#E5ECF6\",\"angularaxis\":{\"gridcolor\":\"white\",\"linecolor\":\"white\",\"ticks\":\"\"},\"radialaxis\":{\"gridcolor\":\"white\",\"linecolor\":\"white\",\"ticks\":\"\"}},\"ternary\":{\"bgcolor\":\"#E5ECF6\",\"aaxis\":{\"gridcolor\":\"white\",\"linecolor\":\"white\",\"ticks\":\"\"},\"baxis\":{\"gridcolor\":\"white\",\"linecolor\":\"white\",\"ticks\":\"\"},\"caxis\":{\"gridcolor\":\"white\",\"linecolor\":\"white\",\"ticks\":\"\"}},\"coloraxis\":{\"colorbar\":{\"outlinewidth\":0,\"ticks\":\"\"}},\"colorscale\":{\"sequential\":[[0.0,\"#0d0887\"],[0.1111111111111111,\"#46039f\"],[0.2222222222222222,\"#7201a8\"],[0.3333333333333333,\"#9c179e\"],[0.4444444444444444,\"#bd3786\"],[0.5555555555555556,\"#d8576b\"],[0.6666666666666666,\"#ed7953\"],[0.7777777777777778,\"#fb9f3a\"],[0.8888888888888888,\"#fdca26\"],[1.0,\"#f0f921\"]],\"sequentialminus\":[[0.0,\"#0d0887\"],[0.1111111111111111,\"#46039f\"],[0.2222222222222222,\"#7201a8\"],[0.3333333333333333,\"#9c179e\"],[0.4444444444444444,\"#bd3786\"],[0.5555555555555556,\"#d8576b\"],[0.6666666666666666,\"#ed7953\"],[0.7777777777777778,\"#fb9f3a\"],[0.8888888888888888,\"#fdca26\"],[1.0,\"#f0f921\"]],\"diverging\":[[0,\"#8e0152\"],[0.1,\"#c51b7d\"],[0.2,\"#de77ae\"],[0.3,\"#f1b6da\"],[0.4,\"#fde0ef\"],[0.5,\"#f7f7f7\"],[0.6,\"#e6f5d0\"],[0.7,\"#b8e186\"],[0.8,\"#7fbc41\"],[0.9,\"#4d9221\"],[1,\"#276419\"]]},\"xaxis\":{\"gridcolor\":\"white\",\"linecolor\":\"white\",\"ticks\":\"\",\"title\":{\"standoff\":15},\"zerolinecolor\":\"white\",\"automargin\":true,\"zerolinewidth\":2},\"yaxis\":{\"gridcolor\":\"white\",\"linecolor\":\"white\",\"ticks\":\"\",\"title\":{\"standoff\":15},\"zerolinecolor\":\"white\",\"automargin\":true,\"zerolinewidth\":2},\"scene\":{\"xaxis\":{\"backgroundcolor\":\"#E5ECF6\",\"gridcolor\":\"white\",\"linecolor\":\"white\",\"showbackground\":true,\"ticks\":\"\",\"zerolinecolor\":\"white\",\"gridwidth\":2},\"yaxis\":{\"backgroundcolor\":\"#E5ECF6\",\"gridcolor\":\"white\",\"linecolor\":\"white\",\"showbackground\":true,\"ticks\":\"\",\"zerolinecolor\":\"white\",\"gridwidth\":2},\"zaxis\":{\"backgroundcolor\":\"#E5ECF6\",\"gridcolor\":\"white\",\"linecolor\":\"white\",\"showbackground\":true,\"ticks\":\"\",\"zerolinecolor\":\"white\",\"gridwidth\":2}},\"shapedefaults\":{\"line\":{\"color\":\"#2a3f5f\"}},\"annotationdefaults\":{\"arrowcolor\":\"#2a3f5f\",\"arrowhead\":0,\"arrowwidth\":1},\"geo\":{\"bgcolor\":\"white\",\"landcolor\":\"#E5ECF6\",\"subunitcolor\":\"white\",\"showland\":true,\"showlakes\":true,\"lakecolor\":\"white\"},\"title\":{\"x\":0.05},\"mapbox\":{\"style\":\"light\"}}},\"xaxis\":{\"anchor\":\"y\",\"domain\":[0.0,1.0],\"title\":{\"text\":\"Subjectivity Score\"}},\"yaxis\":{\"anchor\":\"x\",\"domain\":[0.0,1.0],\"title\":{\"text\":\"Sentiment Score\"}},\"legend\":{\"tracegroupgap\":0,\"itemsizing\":\"constant\"},\"title\":{\"text\":\"Sentiment Analysis on Topic 0\"}},                        {\"responsive\": true}                    ).then(function(){\n",
       "                            \n",
       "var gd = document.getElementById('68391f4e-d404-4c69-b0db-dc1e48b62e82');\n",
       "var x = new MutationObserver(function (mutations, observer) {{\n",
       "        var display = window.getComputedStyle(gd).display;\n",
       "        if (!display || display === 'none') {{\n",
       "            console.log([gd, 'removed!']);\n",
       "            Plotly.purge(gd);\n",
       "            observer.disconnect();\n",
       "        }}\n",
       "}});\n",
       "\n",
       "// Listen for the removal of the full notebook cells\n",
       "var notebookContainer = gd.closest('#notebook-container');\n",
       "if (notebookContainer) {{\n",
       "    x.observe(notebookContainer, {childList: true});\n",
       "}}\n",
       "\n",
       "// Listen for the clearing of the current output cell\n",
       "var outputEl = gd.closest('.output');\n",
       "if (outputEl) {{\n",
       "    x.observe(outputEl, {childList: true});\n",
       "}}\n",
       "\n",
       "                        })                };                });            </script>        </div>"
      ]
     },
     "metadata": {},
     "output_type": "display_data"
    },
    {
     "data": {
      "application/vnd.plotly.v1+json": {
       "config": {
        "plotlyServerURL": "https://plot.ly"
       },
       "data": [
        {
         "hovertemplate": "<b>%{hovertext}</b><br><br>Subjectivity Score=%{x}<br>Sentiment Score=%{y}<br>Main Topic Score=%{marker.size}<extra></extra>",
         "hovertext": [
          "www.military.com/",
          "foxreno.com/news/",
          "abc7amarillo.com/",
          "komonews.com/news"
         ],
         "legendgroup": "",
         "marker": {
          "color": "#636efa",
          "size": [
           0.9975950121879578,
           0.9928969144821167,
           0.9942918419837952,
           0.9940661787986755
          ],
          "sizemode": "area",
          "sizeref": 0.0024939875304698946,
          "symbol": "circle"
         },
         "mode": "markers",
         "name": "",
         "orientation": "v",
         "showlegend": false,
         "type": "scatter",
         "x": [
          0.46,
          0.26,
          0.28,
          0.36
         ],
         "xaxis": "x",
         "y": [
          0.07,
          0.04,
          0.1,
          0.06
         ],
         "yaxis": "y"
        }
       ],
       "layout": {
        "legend": {
         "itemsizing": "constant",
         "tracegroupgap": 0
        },
        "template": {
         "data": {
          "bar": [
           {
            "error_x": {
             "color": "#2a3f5f"
            },
            "error_y": {
             "color": "#2a3f5f"
            },
            "marker": {
             "line": {
              "color": "#E5ECF6",
              "width": 0.5
             },
             "pattern": {
              "fillmode": "overlay",
              "size": 10,
              "solidity": 0.2
             }
            },
            "type": "bar"
           }
          ],
          "barpolar": [
           {
            "marker": {
             "line": {
              "color": "#E5ECF6",
              "width": 0.5
             },
             "pattern": {
              "fillmode": "overlay",
              "size": 10,
              "solidity": 0.2
             }
            },
            "type": "barpolar"
           }
          ],
          "carpet": [
           {
            "aaxis": {
             "endlinecolor": "#2a3f5f",
             "gridcolor": "white",
             "linecolor": "white",
             "minorgridcolor": "white",
             "startlinecolor": "#2a3f5f"
            },
            "baxis": {
             "endlinecolor": "#2a3f5f",
             "gridcolor": "white",
             "linecolor": "white",
             "minorgridcolor": "white",
             "startlinecolor": "#2a3f5f"
            },
            "type": "carpet"
           }
          ],
          "choropleth": [
           {
            "colorbar": {
             "outlinewidth": 0,
             "ticks": ""
            },
            "type": "choropleth"
           }
          ],
          "contour": [
           {
            "colorbar": {
             "outlinewidth": 0,
             "ticks": ""
            },
            "colorscale": [
             [
              0,
              "#0d0887"
             ],
             [
              0.1111111111111111,
              "#46039f"
             ],
             [
              0.2222222222222222,
              "#7201a8"
             ],
             [
              0.3333333333333333,
              "#9c179e"
             ],
             [
              0.4444444444444444,
              "#bd3786"
             ],
             [
              0.5555555555555556,
              "#d8576b"
             ],
             [
              0.6666666666666666,
              "#ed7953"
             ],
             [
              0.7777777777777778,
              "#fb9f3a"
             ],
             [
              0.8888888888888888,
              "#fdca26"
             ],
             [
              1,
              "#f0f921"
             ]
            ],
            "type": "contour"
           }
          ],
          "contourcarpet": [
           {
            "colorbar": {
             "outlinewidth": 0,
             "ticks": ""
            },
            "type": "contourcarpet"
           }
          ],
          "heatmap": [
           {
            "colorbar": {
             "outlinewidth": 0,
             "ticks": ""
            },
            "colorscale": [
             [
              0,
              "#0d0887"
             ],
             [
              0.1111111111111111,
              "#46039f"
             ],
             [
              0.2222222222222222,
              "#7201a8"
             ],
             [
              0.3333333333333333,
              "#9c179e"
             ],
             [
              0.4444444444444444,
              "#bd3786"
             ],
             [
              0.5555555555555556,
              "#d8576b"
             ],
             [
              0.6666666666666666,
              "#ed7953"
             ],
             [
              0.7777777777777778,
              "#fb9f3a"
             ],
             [
              0.8888888888888888,
              "#fdca26"
             ],
             [
              1,
              "#f0f921"
             ]
            ],
            "type": "heatmap"
           }
          ],
          "heatmapgl": [
           {
            "colorbar": {
             "outlinewidth": 0,
             "ticks": ""
            },
            "colorscale": [
             [
              0,
              "#0d0887"
             ],
             [
              0.1111111111111111,
              "#46039f"
             ],
             [
              0.2222222222222222,
              "#7201a8"
             ],
             [
              0.3333333333333333,
              "#9c179e"
             ],
             [
              0.4444444444444444,
              "#bd3786"
             ],
             [
              0.5555555555555556,
              "#d8576b"
             ],
             [
              0.6666666666666666,
              "#ed7953"
             ],
             [
              0.7777777777777778,
              "#fb9f3a"
             ],
             [
              0.8888888888888888,
              "#fdca26"
             ],
             [
              1,
              "#f0f921"
             ]
            ],
            "type": "heatmapgl"
           }
          ],
          "histogram": [
           {
            "marker": {
             "pattern": {
              "fillmode": "overlay",
              "size": 10,
              "solidity": 0.2
             }
            },
            "type": "histogram"
           }
          ],
          "histogram2d": [
           {
            "colorbar": {
             "outlinewidth": 0,
             "ticks": ""
            },
            "colorscale": [
             [
              0,
              "#0d0887"
             ],
             [
              0.1111111111111111,
              "#46039f"
             ],
             [
              0.2222222222222222,
              "#7201a8"
             ],
             [
              0.3333333333333333,
              "#9c179e"
             ],
             [
              0.4444444444444444,
              "#bd3786"
             ],
             [
              0.5555555555555556,
              "#d8576b"
             ],
             [
              0.6666666666666666,
              "#ed7953"
             ],
             [
              0.7777777777777778,
              "#fb9f3a"
             ],
             [
              0.8888888888888888,
              "#fdca26"
             ],
             [
              1,
              "#f0f921"
             ]
            ],
            "type": "histogram2d"
           }
          ],
          "histogram2dcontour": [
           {
            "colorbar": {
             "outlinewidth": 0,
             "ticks": ""
            },
            "colorscale": [
             [
              0,
              "#0d0887"
             ],
             [
              0.1111111111111111,
              "#46039f"
             ],
             [
              0.2222222222222222,
              "#7201a8"
             ],
             [
              0.3333333333333333,
              "#9c179e"
             ],
             [
              0.4444444444444444,
              "#bd3786"
             ],
             [
              0.5555555555555556,
              "#d8576b"
             ],
             [
              0.6666666666666666,
              "#ed7953"
             ],
             [
              0.7777777777777778,
              "#fb9f3a"
             ],
             [
              0.8888888888888888,
              "#fdca26"
             ],
             [
              1,
              "#f0f921"
             ]
            ],
            "type": "histogram2dcontour"
           }
          ],
          "mesh3d": [
           {
            "colorbar": {
             "outlinewidth": 0,
             "ticks": ""
            },
            "type": "mesh3d"
           }
          ],
          "parcoords": [
           {
            "line": {
             "colorbar": {
              "outlinewidth": 0,
              "ticks": ""
             }
            },
            "type": "parcoords"
           }
          ],
          "pie": [
           {
            "automargin": true,
            "type": "pie"
           }
          ],
          "scatter": [
           {
            "fillpattern": {
             "fillmode": "overlay",
             "size": 10,
             "solidity": 0.2
            },
            "type": "scatter"
           }
          ],
          "scatter3d": [
           {
            "line": {
             "colorbar": {
              "outlinewidth": 0,
              "ticks": ""
             }
            },
            "marker": {
             "colorbar": {
              "outlinewidth": 0,
              "ticks": ""
             }
            },
            "type": "scatter3d"
           }
          ],
          "scattercarpet": [
           {
            "marker": {
             "colorbar": {
              "outlinewidth": 0,
              "ticks": ""
             }
            },
            "type": "scattercarpet"
           }
          ],
          "scattergeo": [
           {
            "marker": {
             "colorbar": {
              "outlinewidth": 0,
              "ticks": ""
             }
            },
            "type": "scattergeo"
           }
          ],
          "scattergl": [
           {
            "marker": {
             "colorbar": {
              "outlinewidth": 0,
              "ticks": ""
             }
            },
            "type": "scattergl"
           }
          ],
          "scattermapbox": [
           {
            "marker": {
             "colorbar": {
              "outlinewidth": 0,
              "ticks": ""
             }
            },
            "type": "scattermapbox"
           }
          ],
          "scatterpolar": [
           {
            "marker": {
             "colorbar": {
              "outlinewidth": 0,
              "ticks": ""
             }
            },
            "type": "scatterpolar"
           }
          ],
          "scatterpolargl": [
           {
            "marker": {
             "colorbar": {
              "outlinewidth": 0,
              "ticks": ""
             }
            },
            "type": "scatterpolargl"
           }
          ],
          "scatterternary": [
           {
            "marker": {
             "colorbar": {
              "outlinewidth": 0,
              "ticks": ""
             }
            },
            "type": "scatterternary"
           }
          ],
          "surface": [
           {
            "colorbar": {
             "outlinewidth": 0,
             "ticks": ""
            },
            "colorscale": [
             [
              0,
              "#0d0887"
             ],
             [
              0.1111111111111111,
              "#46039f"
             ],
             [
              0.2222222222222222,
              "#7201a8"
             ],
             [
              0.3333333333333333,
              "#9c179e"
             ],
             [
              0.4444444444444444,
              "#bd3786"
             ],
             [
              0.5555555555555556,
              "#d8576b"
             ],
             [
              0.6666666666666666,
              "#ed7953"
             ],
             [
              0.7777777777777778,
              "#fb9f3a"
             ],
             [
              0.8888888888888888,
              "#fdca26"
             ],
             [
              1,
              "#f0f921"
             ]
            ],
            "type": "surface"
           }
          ],
          "table": [
           {
            "cells": {
             "fill": {
              "color": "#EBF0F8"
             },
             "line": {
              "color": "white"
             }
            },
            "header": {
             "fill": {
              "color": "#C8D4E3"
             },
             "line": {
              "color": "white"
             }
            },
            "type": "table"
           }
          ]
         },
         "layout": {
          "annotationdefaults": {
           "arrowcolor": "#2a3f5f",
           "arrowhead": 0,
           "arrowwidth": 1
          },
          "autotypenumbers": "strict",
          "coloraxis": {
           "colorbar": {
            "outlinewidth": 0,
            "ticks": ""
           }
          },
          "colorscale": {
           "diverging": [
            [
             0,
             "#8e0152"
            ],
            [
             0.1,
             "#c51b7d"
            ],
            [
             0.2,
             "#de77ae"
            ],
            [
             0.3,
             "#f1b6da"
            ],
            [
             0.4,
             "#fde0ef"
            ],
            [
             0.5,
             "#f7f7f7"
            ],
            [
             0.6,
             "#e6f5d0"
            ],
            [
             0.7,
             "#b8e186"
            ],
            [
             0.8,
             "#7fbc41"
            ],
            [
             0.9,
             "#4d9221"
            ],
            [
             1,
             "#276419"
            ]
           ],
           "sequential": [
            [
             0,
             "#0d0887"
            ],
            [
             0.1111111111111111,
             "#46039f"
            ],
            [
             0.2222222222222222,
             "#7201a8"
            ],
            [
             0.3333333333333333,
             "#9c179e"
            ],
            [
             0.4444444444444444,
             "#bd3786"
            ],
            [
             0.5555555555555556,
             "#d8576b"
            ],
            [
             0.6666666666666666,
             "#ed7953"
            ],
            [
             0.7777777777777778,
             "#fb9f3a"
            ],
            [
             0.8888888888888888,
             "#fdca26"
            ],
            [
             1,
             "#f0f921"
            ]
           ],
           "sequentialminus": [
            [
             0,
             "#0d0887"
            ],
            [
             0.1111111111111111,
             "#46039f"
            ],
            [
             0.2222222222222222,
             "#7201a8"
            ],
            [
             0.3333333333333333,
             "#9c179e"
            ],
            [
             0.4444444444444444,
             "#bd3786"
            ],
            [
             0.5555555555555556,
             "#d8576b"
            ],
            [
             0.6666666666666666,
             "#ed7953"
            ],
            [
             0.7777777777777778,
             "#fb9f3a"
            ],
            [
             0.8888888888888888,
             "#fdca26"
            ],
            [
             1,
             "#f0f921"
            ]
           ]
          },
          "colorway": [
           "#636efa",
           "#EF553B",
           "#00cc96",
           "#ab63fa",
           "#FFA15A",
           "#19d3f3",
           "#FF6692",
           "#B6E880",
           "#FF97FF",
           "#FECB52"
          ],
          "font": {
           "color": "#2a3f5f"
          },
          "geo": {
           "bgcolor": "white",
           "lakecolor": "white",
           "landcolor": "#E5ECF6",
           "showlakes": true,
           "showland": true,
           "subunitcolor": "white"
          },
          "hoverlabel": {
           "align": "left"
          },
          "hovermode": "closest",
          "mapbox": {
           "style": "light"
          },
          "paper_bgcolor": "white",
          "plot_bgcolor": "#E5ECF6",
          "polar": {
           "angularaxis": {
            "gridcolor": "white",
            "linecolor": "white",
            "ticks": ""
           },
           "bgcolor": "#E5ECF6",
           "radialaxis": {
            "gridcolor": "white",
            "linecolor": "white",
            "ticks": ""
           }
          },
          "scene": {
           "xaxis": {
            "backgroundcolor": "#E5ECF6",
            "gridcolor": "white",
            "gridwidth": 2,
            "linecolor": "white",
            "showbackground": true,
            "ticks": "",
            "zerolinecolor": "white"
           },
           "yaxis": {
            "backgroundcolor": "#E5ECF6",
            "gridcolor": "white",
            "gridwidth": 2,
            "linecolor": "white",
            "showbackground": true,
            "ticks": "",
            "zerolinecolor": "white"
           },
           "zaxis": {
            "backgroundcolor": "#E5ECF6",
            "gridcolor": "white",
            "gridwidth": 2,
            "linecolor": "white",
            "showbackground": true,
            "ticks": "",
            "zerolinecolor": "white"
           }
          },
          "shapedefaults": {
           "line": {
            "color": "#2a3f5f"
           }
          },
          "ternary": {
           "aaxis": {
            "gridcolor": "white",
            "linecolor": "white",
            "ticks": ""
           },
           "baxis": {
            "gridcolor": "white",
            "linecolor": "white",
            "ticks": ""
           },
           "bgcolor": "#E5ECF6",
           "caxis": {
            "gridcolor": "white",
            "linecolor": "white",
            "ticks": ""
           }
          },
          "title": {
           "x": 0.05
          },
          "xaxis": {
           "automargin": true,
           "gridcolor": "white",
           "linecolor": "white",
           "ticks": "",
           "title": {
            "standoff": 15
           },
           "zerolinecolor": "white",
           "zerolinewidth": 2
          },
          "yaxis": {
           "automargin": true,
           "gridcolor": "white",
           "linecolor": "white",
           "ticks": "",
           "title": {
            "standoff": 15
           },
           "zerolinecolor": "white",
           "zerolinewidth": 2
          }
         }
        },
        "title": {
         "text": "Sentiment Analysis on Topic 4"
        },
        "xaxis": {
         "anchor": "y",
         "domain": [
          0,
          1
         ],
         "title": {
          "text": "Subjectivity Score"
         }
        },
        "yaxis": {
         "anchor": "x",
         "domain": [
          0,
          1
         ],
         "title": {
          "text": "Sentiment Score"
         }
        }
       }
      },
      "text/html": [
       "<div>                            <div id=\"8efa0906-9eea-4fdc-9e2f-1261c290ad49\" class=\"plotly-graph-div\" style=\"height:525px; width:100%;\"></div>            <script type=\"text/javascript\">                require([\"plotly\"], function(Plotly) {                    window.PLOTLYENV=window.PLOTLYENV || {};                                    if (document.getElementById(\"8efa0906-9eea-4fdc-9e2f-1261c290ad49\")) {                    Plotly.newPlot(                        \"8efa0906-9eea-4fdc-9e2f-1261c290ad49\",                        [{\"hovertemplate\":\"\\u003cb\\u003e%{hovertext}\\u003c\\u002fb\\u003e\\u003cbr\\u003e\\u003cbr\\u003eSubjectivity Score=%{x}\\u003cbr\\u003eSentiment Score=%{y}\\u003cbr\\u003eMain Topic Score=%{marker.size}\\u003cextra\\u003e\\u003c\\u002fextra\\u003e\",\"hovertext\":[\"www.military.com\\u002f\",\"foxreno.com\\u002fnews\\u002f\",\"abc7amarillo.com\\u002f\",\"komonews.com\\u002fnews\"],\"legendgroup\":\"\",\"marker\":{\"color\":\"#636efa\",\"size\":[0.9975950121879578,0.9928969144821167,0.9942918419837952,0.9940661787986755],\"sizemode\":\"area\",\"sizeref\":0.0024939875304698946,\"symbol\":\"circle\"},\"mode\":\"markers\",\"name\":\"\",\"orientation\":\"v\",\"showlegend\":false,\"x\":[0.46,0.26,0.28,0.36],\"xaxis\":\"x\",\"y\":[0.07,0.04,0.1,0.06],\"yaxis\":\"y\",\"type\":\"scatter\"}],                        {\"template\":{\"data\":{\"histogram2dcontour\":[{\"type\":\"histogram2dcontour\",\"colorbar\":{\"outlinewidth\":0,\"ticks\":\"\"},\"colorscale\":[[0.0,\"#0d0887\"],[0.1111111111111111,\"#46039f\"],[0.2222222222222222,\"#7201a8\"],[0.3333333333333333,\"#9c179e\"],[0.4444444444444444,\"#bd3786\"],[0.5555555555555556,\"#d8576b\"],[0.6666666666666666,\"#ed7953\"],[0.7777777777777778,\"#fb9f3a\"],[0.8888888888888888,\"#fdca26\"],[1.0,\"#f0f921\"]]}],\"choropleth\":[{\"type\":\"choropleth\",\"colorbar\":{\"outlinewidth\":0,\"ticks\":\"\"}}],\"histogram2d\":[{\"type\":\"histogram2d\",\"colorbar\":{\"outlinewidth\":0,\"ticks\":\"\"},\"colorscale\":[[0.0,\"#0d0887\"],[0.1111111111111111,\"#46039f\"],[0.2222222222222222,\"#7201a8\"],[0.3333333333333333,\"#9c179e\"],[0.4444444444444444,\"#bd3786\"],[0.5555555555555556,\"#d8576b\"],[0.6666666666666666,\"#ed7953\"],[0.7777777777777778,\"#fb9f3a\"],[0.8888888888888888,\"#fdca26\"],[1.0,\"#f0f921\"]]}],\"heatmap\":[{\"type\":\"heatmap\",\"colorbar\":{\"outlinewidth\":0,\"ticks\":\"\"},\"colorscale\":[[0.0,\"#0d0887\"],[0.1111111111111111,\"#46039f\"],[0.2222222222222222,\"#7201a8\"],[0.3333333333333333,\"#9c179e\"],[0.4444444444444444,\"#bd3786\"],[0.5555555555555556,\"#d8576b\"],[0.6666666666666666,\"#ed7953\"],[0.7777777777777778,\"#fb9f3a\"],[0.8888888888888888,\"#fdca26\"],[1.0,\"#f0f921\"]]}],\"heatmapgl\":[{\"type\":\"heatmapgl\",\"colorbar\":{\"outlinewidth\":0,\"ticks\":\"\"},\"colorscale\":[[0.0,\"#0d0887\"],[0.1111111111111111,\"#46039f\"],[0.2222222222222222,\"#7201a8\"],[0.3333333333333333,\"#9c179e\"],[0.4444444444444444,\"#bd3786\"],[0.5555555555555556,\"#d8576b\"],[0.6666666666666666,\"#ed7953\"],[0.7777777777777778,\"#fb9f3a\"],[0.8888888888888888,\"#fdca26\"],[1.0,\"#f0f921\"]]}],\"contourcarpet\":[{\"type\":\"contourcarpet\",\"colorbar\":{\"outlinewidth\":0,\"ticks\":\"\"}}],\"contour\":[{\"type\":\"contour\",\"colorbar\":{\"outlinewidth\":0,\"ticks\":\"\"},\"colorscale\":[[0.0,\"#0d0887\"],[0.1111111111111111,\"#46039f\"],[0.2222222222222222,\"#7201a8\"],[0.3333333333333333,\"#9c179e\"],[0.4444444444444444,\"#bd3786\"],[0.5555555555555556,\"#d8576b\"],[0.6666666666666666,\"#ed7953\"],[0.7777777777777778,\"#fb9f3a\"],[0.8888888888888888,\"#fdca26\"],[1.0,\"#f0f921\"]]}],\"surface\":[{\"type\":\"surface\",\"colorbar\":{\"outlinewidth\":0,\"ticks\":\"\"},\"colorscale\":[[0.0,\"#0d0887\"],[0.1111111111111111,\"#46039f\"],[0.2222222222222222,\"#7201a8\"],[0.3333333333333333,\"#9c179e\"],[0.4444444444444444,\"#bd3786\"],[0.5555555555555556,\"#d8576b\"],[0.6666666666666666,\"#ed7953\"],[0.7777777777777778,\"#fb9f3a\"],[0.8888888888888888,\"#fdca26\"],[1.0,\"#f0f921\"]]}],\"mesh3d\":[{\"type\":\"mesh3d\",\"colorbar\":{\"outlinewidth\":0,\"ticks\":\"\"}}],\"scatter\":[{\"fillpattern\":{\"fillmode\":\"overlay\",\"size\":10,\"solidity\":0.2},\"type\":\"scatter\"}],\"parcoords\":[{\"type\":\"parcoords\",\"line\":{\"colorbar\":{\"outlinewidth\":0,\"ticks\":\"\"}}}],\"scatterpolargl\":[{\"type\":\"scatterpolargl\",\"marker\":{\"colorbar\":{\"outlinewidth\":0,\"ticks\":\"\"}}}],\"bar\":[{\"error_x\":{\"color\":\"#2a3f5f\"},\"error_y\":{\"color\":\"#2a3f5f\"},\"marker\":{\"line\":{\"color\":\"#E5ECF6\",\"width\":0.5},\"pattern\":{\"fillmode\":\"overlay\",\"size\":10,\"solidity\":0.2}},\"type\":\"bar\"}],\"scattergeo\":[{\"type\":\"scattergeo\",\"marker\":{\"colorbar\":{\"outlinewidth\":0,\"ticks\":\"\"}}}],\"scatterpolar\":[{\"type\":\"scatterpolar\",\"marker\":{\"colorbar\":{\"outlinewidth\":0,\"ticks\":\"\"}}}],\"histogram\":[{\"marker\":{\"pattern\":{\"fillmode\":\"overlay\",\"size\":10,\"solidity\":0.2}},\"type\":\"histogram\"}],\"scattergl\":[{\"type\":\"scattergl\",\"marker\":{\"colorbar\":{\"outlinewidth\":0,\"ticks\":\"\"}}}],\"scatter3d\":[{\"type\":\"scatter3d\",\"line\":{\"colorbar\":{\"outlinewidth\":0,\"ticks\":\"\"}},\"marker\":{\"colorbar\":{\"outlinewidth\":0,\"ticks\":\"\"}}}],\"scattermapbox\":[{\"type\":\"scattermapbox\",\"marker\":{\"colorbar\":{\"outlinewidth\":0,\"ticks\":\"\"}}}],\"scatterternary\":[{\"type\":\"scatterternary\",\"marker\":{\"colorbar\":{\"outlinewidth\":0,\"ticks\":\"\"}}}],\"scattercarpet\":[{\"type\":\"scattercarpet\",\"marker\":{\"colorbar\":{\"outlinewidth\":0,\"ticks\":\"\"}}}],\"carpet\":[{\"aaxis\":{\"endlinecolor\":\"#2a3f5f\",\"gridcolor\":\"white\",\"linecolor\":\"white\",\"minorgridcolor\":\"white\",\"startlinecolor\":\"#2a3f5f\"},\"baxis\":{\"endlinecolor\":\"#2a3f5f\",\"gridcolor\":\"white\",\"linecolor\":\"white\",\"minorgridcolor\":\"white\",\"startlinecolor\":\"#2a3f5f\"},\"type\":\"carpet\"}],\"table\":[{\"cells\":{\"fill\":{\"color\":\"#EBF0F8\"},\"line\":{\"color\":\"white\"}},\"header\":{\"fill\":{\"color\":\"#C8D4E3\"},\"line\":{\"color\":\"white\"}},\"type\":\"table\"}],\"barpolar\":[{\"marker\":{\"line\":{\"color\":\"#E5ECF6\",\"width\":0.5},\"pattern\":{\"fillmode\":\"overlay\",\"size\":10,\"solidity\":0.2}},\"type\":\"barpolar\"}],\"pie\":[{\"automargin\":true,\"type\":\"pie\"}]},\"layout\":{\"autotypenumbers\":\"strict\",\"colorway\":[\"#636efa\",\"#EF553B\",\"#00cc96\",\"#ab63fa\",\"#FFA15A\",\"#19d3f3\",\"#FF6692\",\"#B6E880\",\"#FF97FF\",\"#FECB52\"],\"font\":{\"color\":\"#2a3f5f\"},\"hovermode\":\"closest\",\"hoverlabel\":{\"align\":\"left\"},\"paper_bgcolor\":\"white\",\"plot_bgcolor\":\"#E5ECF6\",\"polar\":{\"bgcolor\":\"#E5ECF6\",\"angularaxis\":{\"gridcolor\":\"white\",\"linecolor\":\"white\",\"ticks\":\"\"},\"radialaxis\":{\"gridcolor\":\"white\",\"linecolor\":\"white\",\"ticks\":\"\"}},\"ternary\":{\"bgcolor\":\"#E5ECF6\",\"aaxis\":{\"gridcolor\":\"white\",\"linecolor\":\"white\",\"ticks\":\"\"},\"baxis\":{\"gridcolor\":\"white\",\"linecolor\":\"white\",\"ticks\":\"\"},\"caxis\":{\"gridcolor\":\"white\",\"linecolor\":\"white\",\"ticks\":\"\"}},\"coloraxis\":{\"colorbar\":{\"outlinewidth\":0,\"ticks\":\"\"}},\"colorscale\":{\"sequential\":[[0.0,\"#0d0887\"],[0.1111111111111111,\"#46039f\"],[0.2222222222222222,\"#7201a8\"],[0.3333333333333333,\"#9c179e\"],[0.4444444444444444,\"#bd3786\"],[0.5555555555555556,\"#d8576b\"],[0.6666666666666666,\"#ed7953\"],[0.7777777777777778,\"#fb9f3a\"],[0.8888888888888888,\"#fdca26\"],[1.0,\"#f0f921\"]],\"sequentialminus\":[[0.0,\"#0d0887\"],[0.1111111111111111,\"#46039f\"],[0.2222222222222222,\"#7201a8\"],[0.3333333333333333,\"#9c179e\"],[0.4444444444444444,\"#bd3786\"],[0.5555555555555556,\"#d8576b\"],[0.6666666666666666,\"#ed7953\"],[0.7777777777777778,\"#fb9f3a\"],[0.8888888888888888,\"#fdca26\"],[1.0,\"#f0f921\"]],\"diverging\":[[0,\"#8e0152\"],[0.1,\"#c51b7d\"],[0.2,\"#de77ae\"],[0.3,\"#f1b6da\"],[0.4,\"#fde0ef\"],[0.5,\"#f7f7f7\"],[0.6,\"#e6f5d0\"],[0.7,\"#b8e186\"],[0.8,\"#7fbc41\"],[0.9,\"#4d9221\"],[1,\"#276419\"]]},\"xaxis\":{\"gridcolor\":\"white\",\"linecolor\":\"white\",\"ticks\":\"\",\"title\":{\"standoff\":15},\"zerolinecolor\":\"white\",\"automargin\":true,\"zerolinewidth\":2},\"yaxis\":{\"gridcolor\":\"white\",\"linecolor\":\"white\",\"ticks\":\"\",\"title\":{\"standoff\":15},\"zerolinecolor\":\"white\",\"automargin\":true,\"zerolinewidth\":2},\"scene\":{\"xaxis\":{\"backgroundcolor\":\"#E5ECF6\",\"gridcolor\":\"white\",\"linecolor\":\"white\",\"showbackground\":true,\"ticks\":\"\",\"zerolinecolor\":\"white\",\"gridwidth\":2},\"yaxis\":{\"backgroundcolor\":\"#E5ECF6\",\"gridcolor\":\"white\",\"linecolor\":\"white\",\"showbackground\":true,\"ticks\":\"\",\"zerolinecolor\":\"white\",\"gridwidth\":2},\"zaxis\":{\"backgroundcolor\":\"#E5ECF6\",\"gridcolor\":\"white\",\"linecolor\":\"white\",\"showbackground\":true,\"ticks\":\"\",\"zerolinecolor\":\"white\",\"gridwidth\":2}},\"shapedefaults\":{\"line\":{\"color\":\"#2a3f5f\"}},\"annotationdefaults\":{\"arrowcolor\":\"#2a3f5f\",\"arrowhead\":0,\"arrowwidth\":1},\"geo\":{\"bgcolor\":\"white\",\"landcolor\":\"#E5ECF6\",\"subunitcolor\":\"white\",\"showland\":true,\"showlakes\":true,\"lakecolor\":\"white\"},\"title\":{\"x\":0.05},\"mapbox\":{\"style\":\"light\"}}},\"xaxis\":{\"anchor\":\"y\",\"domain\":[0.0,1.0],\"title\":{\"text\":\"Subjectivity Score\"}},\"yaxis\":{\"anchor\":\"x\",\"domain\":[0.0,1.0],\"title\":{\"text\":\"Sentiment Score\"}},\"legend\":{\"tracegroupgap\":0,\"itemsizing\":\"constant\"},\"title\":{\"text\":\"Sentiment Analysis on Topic 4\"}},                        {\"responsive\": true}                    ).then(function(){\n",
       "                            \n",
       "var gd = document.getElementById('8efa0906-9eea-4fdc-9e2f-1261c290ad49');\n",
       "var x = new MutationObserver(function (mutations, observer) {{\n",
       "        var display = window.getComputedStyle(gd).display;\n",
       "        if (!display || display === 'none') {{\n",
       "            console.log([gd, 'removed!']);\n",
       "            Plotly.purge(gd);\n",
       "            observer.disconnect();\n",
       "        }}\n",
       "}});\n",
       "\n",
       "// Listen for the removal of the full notebook cells\n",
       "var notebookContainer = gd.closest('#notebook-container');\n",
       "if (notebookContainer) {{\n",
       "    x.observe(notebookContainer, {childList: true});\n",
       "}}\n",
       "\n",
       "// Listen for the clearing of the current output cell\n",
       "var outputEl = gd.closest('.output');\n",
       "if (outputEl) {{\n",
       "    x.observe(outputEl, {childList: true});\n",
       "}}\n",
       "\n",
       "                        })                };                });            </script>        </div>"
      ]
     },
     "metadata": {},
     "output_type": "display_data"
    }
   ],
   "source": [
    "visualize_single_topic_subjectivity_vs_sentiment(df_main_topic, 0)\n",
    "\n",
    "visualize_single_topic_subjectivity_vs_sentiment(df_main_topic, 4)"
   ]
  },
  {
   "cell_type": "markdown",
   "id": "f184ac6b",
   "metadata": {},
   "source": [
    "## K means Clustering"
   ]
  },
  {
   "cell_type": "markdown",
   "id": "693b8dfb",
   "metadata": {},
   "source": [
    "Important articles and learning for kmeans"
   ]
  },
  {
   "cell_type": "code",
   "execution_count": null,
   "id": "0761c350",
   "metadata": {},
   "outputs": [],
   "source": [
    "#https://medium.com/analytics-vidhya/implementation-of-principal-component-analysis-pca-in-k-means-clustering-b4bc0aa79cb6\n",
    "#https://scikit-learn.org/stable/modules/clustering.html#k-means\n"
   ]
  },
  {
   "cell_type": "code",
   "execution_count": 20,
   "id": "67df5245",
   "metadata": {
    "scrolled": true
   },
   "outputs": [
    {
     "data": {
      "text/html": [
       "<div>\n",
       "<style scoped>\n",
       "    .dataframe tbody tr th:only-of-type {\n",
       "        vertical-align: middle;\n",
       "    }\n",
       "\n",
       "    .dataframe tbody tr th {\n",
       "        vertical-align: top;\n",
       "    }\n",
       "\n",
       "    .dataframe thead tr th {\n",
       "        text-align: left;\n",
       "    }\n",
       "</style>\n",
       "<table border=\"1\" class=\"dataframe\">\n",
       "  <thead>\n",
       "    <tr>\n",
       "      <th></th>\n",
       "      <th>0</th>\n",
       "      <th>1</th>\n",
       "      <th>2</th>\n",
       "      <th>3</th>\n",
       "      <th>4</th>\n",
       "    </tr>\n",
       "  </thead>\n",
       "  <tbody>\n",
       "    <tr>\n",
       "      <th>0</th>\n",
       "      <td>0.000853</td>\n",
       "      <td>0.996590</td>\n",
       "      <td>0.000853</td>\n",
       "      <td>0.000853</td>\n",
       "      <td>0.000850</td>\n",
       "    </tr>\n",
       "    <tr>\n",
       "      <th>1</th>\n",
       "      <td>0.001489</td>\n",
       "      <td>0.001481</td>\n",
       "      <td>0.001479</td>\n",
       "      <td>0.001484</td>\n",
       "      <td>0.994066</td>\n",
       "    </tr>\n",
       "    <tr>\n",
       "      <th>2</th>\n",
       "      <td>0.000275</td>\n",
       "      <td>0.000275</td>\n",
       "      <td>0.000278</td>\n",
       "      <td>0.998897</td>\n",
       "      <td>0.000275</td>\n",
       "    </tr>\n",
       "    <tr>\n",
       "      <th>3</th>\n",
       "      <td>0.000708</td>\n",
       "      <td>0.000710</td>\n",
       "      <td>0.000712</td>\n",
       "      <td>0.997164</td>\n",
       "      <td>0.000706</td>\n",
       "    </tr>\n",
       "    <tr>\n",
       "      <th>4</th>\n",
       "      <td>0.000539</td>\n",
       "      <td>0.997841</td>\n",
       "      <td>0.000538</td>\n",
       "      <td>0.000540</td>\n",
       "      <td>0.000541</td>\n",
       "    </tr>\n",
       "    <tr>\n",
       "      <th>5</th>\n",
       "      <td>0.001451</td>\n",
       "      <td>0.001448</td>\n",
       "      <td>0.001439</td>\n",
       "      <td>0.994203</td>\n",
       "      <td>0.001459</td>\n",
       "    </tr>\n",
       "    <tr>\n",
       "      <th>6</th>\n",
       "      <td>0.000603</td>\n",
       "      <td>0.000600</td>\n",
       "      <td>0.000600</td>\n",
       "      <td>0.000601</td>\n",
       "      <td>0.997595</td>\n",
       "    </tr>\n",
       "    <tr>\n",
       "      <th>7</th>\n",
       "      <td>0.000195</td>\n",
       "      <td>0.000195</td>\n",
       "      <td>0.999219</td>\n",
       "      <td>0.000196</td>\n",
       "      <td>0.000195</td>\n",
       "    </tr>\n",
       "    <tr>\n",
       "      <th>8</th>\n",
       "      <td>0.000353</td>\n",
       "      <td>0.000349</td>\n",
       "      <td>0.000350</td>\n",
       "      <td>0.998598</td>\n",
       "      <td>0.000351</td>\n",
       "    </tr>\n",
       "    <tr>\n",
       "      <th>9</th>\n",
       "      <td>0.995117</td>\n",
       "      <td>0.001214</td>\n",
       "      <td>0.001216</td>\n",
       "      <td>0.001219</td>\n",
       "      <td>0.001234</td>\n",
       "    </tr>\n",
       "    <tr>\n",
       "      <th>10</th>\n",
       "      <td>0.001777</td>\n",
       "      <td>0.001774</td>\n",
       "      <td>0.001769</td>\n",
       "      <td>0.001783</td>\n",
       "      <td>0.992897</td>\n",
       "    </tr>\n",
       "    <tr>\n",
       "      <th>11</th>\n",
       "      <td>0.997634</td>\n",
       "      <td>0.000590</td>\n",
       "      <td>0.000591</td>\n",
       "      <td>0.000593</td>\n",
       "      <td>0.000592</td>\n",
       "    </tr>\n",
       "    <tr>\n",
       "      <th>12</th>\n",
       "      <td>0.001434</td>\n",
       "      <td>0.001427</td>\n",
       "      <td>0.001422</td>\n",
       "      <td>0.001426</td>\n",
       "      <td>0.994291</td>\n",
       "    </tr>\n",
       "    <tr>\n",
       "      <th>13</th>\n",
       "      <td>0.001484</td>\n",
       "      <td>0.994040</td>\n",
       "      <td>0.001493</td>\n",
       "      <td>0.001497</td>\n",
       "      <td>0.001485</td>\n",
       "    </tr>\n",
       "    <tr>\n",
       "      <th>14</th>\n",
       "      <td>0.000629</td>\n",
       "      <td>0.000630</td>\n",
       "      <td>0.997481</td>\n",
       "      <td>0.000631</td>\n",
       "      <td>0.000629</td>\n",
       "    </tr>\n",
       "    <tr>\n",
       "      <th>15</th>\n",
       "      <td>0.000339</td>\n",
       "      <td>0.000339</td>\n",
       "      <td>0.000339</td>\n",
       "      <td>0.998645</td>\n",
       "      <td>0.000338</td>\n",
       "    </tr>\n",
       "    <tr>\n",
       "      <th>16</th>\n",
       "      <td>0.997777</td>\n",
       "      <td>0.000554</td>\n",
       "      <td>0.000556</td>\n",
       "      <td>0.000556</td>\n",
       "      <td>0.000557</td>\n",
       "    </tr>\n",
       "  </tbody>\n",
       "</table>\n",
       "</div>"
      ],
      "text/plain": [
       "           0         1         2         3         4\n",
       "0   0.000853  0.996590  0.000853  0.000853  0.000850\n",
       "1   0.001489  0.001481  0.001479  0.001484  0.994066\n",
       "2   0.000275  0.000275  0.000278  0.998897  0.000275\n",
       "3   0.000708  0.000710  0.000712  0.997164  0.000706\n",
       "4   0.000539  0.997841  0.000538  0.000540  0.000541\n",
       "5   0.001451  0.001448  0.001439  0.994203  0.001459\n",
       "6   0.000603  0.000600  0.000600  0.000601  0.997595\n",
       "7   0.000195  0.000195  0.999219  0.000196  0.000195\n",
       "8   0.000353  0.000349  0.000350  0.998598  0.000351\n",
       "9   0.995117  0.001214  0.001216  0.001219  0.001234\n",
       "10  0.001777  0.001774  0.001769  0.001783  0.992897\n",
       "11  0.997634  0.000590  0.000591  0.000593  0.000592\n",
       "12  0.001434  0.001427  0.001422  0.001426  0.994291\n",
       "13  0.001484  0.994040  0.001493  0.001497  0.001485\n",
       "14  0.000629  0.000630  0.997481  0.000631  0.000629\n",
       "15  0.000339  0.000339  0.000339  0.998645  0.000338\n",
       "16  0.997777  0.000554  0.000556  0.000556  0.000557"
      ]
     },
     "execution_count": 20,
     "metadata": {},
     "output_type": "execute_result"
    }
   ],
   "source": [
    "df_topics = generate_topic_relevancy_dataframe(LDA_model)\n",
    "\n",
    "df_topics"
   ]
  },
  {
   "cell_type": "code",
   "execution_count": 24,
   "id": "65098654",
   "metadata": {
    "scrolled": false
   },
   "outputs": [
    {
     "data": {
      "image/png": "[encoded data removed]",
      "text/plain": [
       "<Figure size 1000x1000 with 1 Axes>"
      ]
     },
     "metadata": {},
     "output_type": "display_data"
    }
   ],
   "source": [
    "visualize_optimal_cluster_count(df_topics= df_topics, max_clusters= 10,pca_components= 5)"
   ]
  },
  {
   "cell_type": "code",
   "execution_count": 26,
   "id": "75bab1e8",
   "metadata": {},
   "outputs": [
    {
     "data": {
      "image/png": "[encoded data removed]",
      "text/plain": [
       "<Figure size 1000x1000 with 1 Axes>"
      ]
     },
     "metadata": {},
     "output_type": "display_data"
    }
   ],
   "source": [
    "visualize_kmeans_clustering(df_topics= df_topics, num_clusters = 5, pca_components = 5)"
   ]
  }
 ],
 "metadata": {
  "kernelspec": {
   "display_name": "Python 3 (ipykernel)",
   "language": "python",
   "name": "python3"
  },
  "language_info": {
   "codemirror_mode": {
    "name": "ipython",
    "version": 3
   },
   "file_extension": ".py",
   "mimetype": "text/x-python",
   "name": "python",
   "nbconvert_exporter": "python",
   "pygments_lexer": "ipython3",
   "version": "3.11.2"
  }
 },
 "nbformat": 4,
 "nbformat_minor": 5
}
