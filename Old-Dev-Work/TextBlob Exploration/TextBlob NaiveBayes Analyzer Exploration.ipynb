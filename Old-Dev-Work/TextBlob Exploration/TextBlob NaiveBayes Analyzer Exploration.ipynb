{
 "cells": [
  {
   "cell_type": "code",
   "execution_count": 1,
   "id": "49b2f2ce",
   "metadata": {},
   "outputs": [
    {
     "name": "stdout",
     "output_type": "stream",
     "text": [
      "Requirement already satisfied: textblob in c:\\users\\gabri\\appdata\\local\\programs\\python\\python311\\lib\\site-packages (0.17.1)Note: you may need to restart the kernel to use updated packages.\n",
      "\n",
      "Requirement already satisfied: nltk>=3.1 in c:\\users\\gabri\\appdata\\local\\programs\\python\\python311\\lib\\site-packages (from textblob) (3.8.1)\n",
      "Requirement already satisfied: click in c:\\users\\gabri\\appdata\\local\\programs\\python\\python311\\lib\\site-packages (from nltk>=3.1->textblob) (8.1.3)\n",
      "Requirement already satisfied: joblib in c:\\users\\gabri\\appdata\\local\\programs\\python\\python311\\lib\\site-packages (from nltk>=3.1->textblob) (1.2.0)\n",
      "Requirement already satisfied: regex>=2021.8.3 in c:\\users\\gabri\\appdata\\local\\programs\\python\\python311\\lib\\site-packages (from nltk>=3.1->textblob) (2022.10.31)\n",
      "Requirement already satisfied: tqdm in c:\\users\\gabri\\appdata\\local\\programs\\python\\python311\\lib\\site-packages (from nltk>=3.1->textblob) (4.64.1)\n",
      "Requirement already satisfied: colorama in c:\\users\\gabri\\appdata\\local\\programs\\python\\python311\\lib\\site-packages (from click->nltk>=3.1->textblob) (0.4.6)\n"
     ]
    },
    {
     "name": "stderr",
     "output_type": "stream",
     "text": [
      "\n",
      "[notice] A new release of pip available: 22.3.1 -> 23.0.1\n",
      "[notice] To update, run: python.exe -m pip install --upgrade pip\n"
     ]
    }
   ],
   "source": [
    "pip install textblob"
   ]
  },
  {
   "cell_type": "code",
   "execution_count": 4,
   "id": "bf7730af",
   "metadata": {},
   "outputs": [],
   "source": [
    "from textblob import TextBlob\n",
    "from textblob.sentiments import NaiveBayesAnalyzer\n",
    "import json\n",
    "import os"
   ]
  },
  {
   "cell_type": "code",
   "execution_count": 9,
   "id": "083a8c0b",
   "metadata": {},
   "outputs": [],
   "source": [
    "naivebayes_analyzer1 = NaiveBayesAnalyzer()\n",
    "naivebayes_analyzer1.train()"
   ]
  },
  {
   "cell_type": "code",
   "execution_count": 12,
   "id": "7870750f",
   "metadata": {},
   "outputs": [
    {
     "name": "stdout",
     "output_type": "stream",
     "text": [
      "Sentiment(classification='neg', p_pos=0.10473892702084044, p_neg=0.8952610729791588)\n",
      "neg\n",
      "Sentiment(classification='neg', p_pos=0.10473892702084044, p_neg=0.8952610729791588)\n",
      "neg\n"
     ]
    }
   ],
   "source": [
    "topic1_testsent1 = \"Last-minute talks fail, massive LAUSD strike and school shutdowns set for Tuesday\"\n",
    "topic2_testsent2 = \"Los Angeles schools close as district workers strike over stalled contract negotiations\"\n",
    "\n",
    "#analyze returns the classification first, then positive and negative weights of the sentence\n",
    "res1 = naivebayes_analyzer1.analyze(topic1_testsent1)\n",
    "print(res1)\n",
    "print(res1[0])\n",
    "res2 = naivebayes_analyzer1.analyze(topic1_testsent1)\n",
    "print(res2)\n",
    "print(res2[0])\n",
    "#BASI"
   ]
  },
  {
   "cell_type": "code",
   "execution_count": 13,
   "id": "8af3c27a",
   "metadata": {},
   "outputs": [],
   "source": [
    "#BASIL dataset functions\n",
    "#compare results of data using pattern analyzer compared to correct annotations\n",
    "naivebayes_main_analyzer = NaiveBayesAnalyzer()\n",
    "naivebayes_main_analyzer.train()\n",
    "\n",
    "def naivebayes_analyzer_compare(data, annotations): #compares how many we correctly classify\n",
    "    num_correct = 0\n",
    "    total = 0\n",
    "    sentence_list = []\n",
    "    for i in data['body-paragraphs']:\n",
    "        for j in i:\n",
    "            sentence_list.append(j)\n",
    "    for phrase in annotations[\"phrase-level-annotations\"]:\n",
    "        if(phrase[\"id\"] == \"title\"):#line below is where we input our model\n",
    "            if (naivebayes_main_analyzer.analyze(data[\"title\"])[0] == phrase[\"polarity\"]):\n",
    "                num_correct += 1\n",
    "            total += 1\n",
    "        else:\n",
    "            sentence_id = int(phrase[\"id\"][1:])#input model below here too\n",
    "            if (naivebayes_main_analyzer.analyze(sentence_list[sentence_id])[0] == phrase[\"polarity\"]):\n",
    "                num_correct += 1\n",
    "            total += 1\n",
    "    return total, num_correct"
   ]
  },
  {
   "cell_type": "code",
   "execution_count": 14,
   "id": "214951f7",
   "metadata": {},
   "outputs": [
    {
     "name": "stdout",
     "output_type": "stream",
     "text": [
      "Pattern sentiment on BASIL correct: 545.000 , BASIL total: 1726.000\n",
      "Pattern sentiment on BASIL ACCURACY: 0.3158\n"
     ]
    }
   ],
   "source": [
    "#BASIL dataset analyzing\n",
    "file_list = []\n",
    "\n",
    "#open BASIL dataset and gather the articles w/o scores\n",
    "for i in range(10):\n",
    "    file_i = os.listdir(\"BASILdata/articles/201\" + str(i))\n",
    "    for file_name in file_i:\n",
    "        file = open(\"BASILdata/articles/201\" + str(i) + \"/\" + file_name, encoding=\"utf8\")\n",
    "        json_file = json.load(file)\n",
    "        file_list.append(json_file)\n",
    "        \n",
    "annotation_file_list = []\n",
    "\n",
    "#open BASIL dataset and gather annotations for articles\n",
    "for i in range(10):\n",
    "    file_i = os.listdir(\"BASILdata/annotations/201\" + str(i))\n",
    "    for file_name in file_i:\n",
    "        file = open(\"BASILdata/annotations/201\" + str(i) + \"/\" + file_name, encoding=\"utf8\")\n",
    "        json_file = json.load(file)\n",
    "        annotation_file_list.append(json_file)\n",
    "\n",
    "total_correct = 0\n",
    "total = 0\n",
    "\n",
    "#compare correct annotations to the results from our model\n",
    "for i in range(len(file_list)):\n",
    "    data = file_list[i]\n",
    "    annotations = annotation_file_list[i]\n",
    "    a, b = naivebayes_analyzer_compare(data, annotations)\n",
    "    total += a\n",
    "    total_correct += b\n",
    "    \n",
    "accuracy = total_correct/total\n",
    "print(\"Pattern sentiment on BASIL correct: %.3f , BASIL total: %.3f\" %(total_correct, total))\n",
    "print(\"Pattern sentiment on BASIL ACCURACY: %.4f\" % accuracy)"
   ]
  },
  {
   "cell_type": "code",
   "execution_count": null,
   "id": "10c2269f",
   "metadata": {},
   "outputs": [],
   "source": []
  }
 ],
 "metadata": {
  "kernelspec": {
   "display_name": "Python 3 (ipykernel)",
   "language": "python",
   "name": "python3"
  },
  "language_info": {
   "codemirror_mode": {
    "name": "ipython",
    "version": 3
   },
   "file_extension": ".py",
   "mimetype": "text/x-python",
   "name": "python",
   "nbconvert_exporter": "python",
   "pygments_lexer": "ipython3",
   "version": "3.11.2"
  }
 },
 "nbformat": 4,
 "nbformat_minor": 5
}
