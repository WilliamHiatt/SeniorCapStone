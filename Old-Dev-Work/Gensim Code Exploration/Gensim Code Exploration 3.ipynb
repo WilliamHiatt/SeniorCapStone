{
 "cells": [
  {
   "cell_type": "code",
   "execution_count": 2,
   "metadata": {},
   "outputs": [],
   "source": [
    "import logging\n",
    "logging.basicConfig(format='%(asctime)s : %(levelname)s : %(message)s', level=logging.INFO)"
   ]
  },
  {
   "cell_type": "code",
   "execution_count": 3,
   "metadata": {},
   "outputs": [
    {
     "name": "stderr",
     "output_type": "stream",
     "text": [
      "2023-03-29 19:13:13,610 : INFO : adding document #0 to Dictionary<0 unique tokens: []>\n",
      "2023-03-29 19:13:13,611 : INFO : built Dictionary<12 unique tokens: ['computer', 'human', 'interface', 'response', 'survey']...> from 9 documents (total 29 corpus positions)\n",
      "2023-03-29 19:13:13,612 : INFO : Dictionary lifecycle event {'msg': \"built Dictionary<12 unique tokens: ['computer', 'human', 'interface', 'response', 'survey']...> from 9 documents (total 29 corpus positions)\", 'datetime': '2023-03-29T19:13:13.612840', 'gensim': '4.3.1', 'python': '3.10.4 | packaged by conda-forge | (main, Mar 30 2022, 08:38:02) [MSC v.1916 64 bit (AMD64)]', 'platform': 'Windows-10-10.0.19044-SP0', 'event': 'created'}\n"
     ]
    }
   ],
   "source": [
    "from collections import defaultdict\n",
    "from gensim import corpora\n",
    "\n",
    "documents = [\n",
    "    \"Human machine interface for lab abc computer applications\",\n",
    "    \"A survey of user opinion of computer system response time\",\n",
    "    \"The EPS user interface management system\",\n",
    "    \"System and human system engineering testing of EPS\",\n",
    "    \"Relation of user perceived response time to error measurement\",\n",
    "    \"The generation of random binary unordered trees\",\n",
    "    \"The intersection graph of paths in trees\",\n",
    "    \"Graph minors IV Widths of trees and well quasi ordering\",\n",
    "    \"Graph minors A survey\",\n",
    "]\n",
    "\n",
    "# remove common words and tokenize\n",
    "stoplist = set('for a of the and to in'.split())\n",
    "texts = [\n",
    "    [word for word in document.lower().split() if word not in stoplist]\n",
    "    for document in documents\n",
    "]\n",
    "\n",
    "# remove words that appear only once\n",
    "frequency = defaultdict(int)\n",
    "for text in texts:\n",
    "    for token in text:\n",
    "        frequency[token] += 1\n",
    "\n",
    "texts = [\n",
    "    [token for token in text if frequency[token] > 1]\n",
    "    for text in texts\n",
    "]\n",
    "\n",
    "dictionary = corpora.Dictionary(texts)\n",
    "corpus = [dictionary.doc2bow(text) for text in texts]"
   ]
  },
  {
   "cell_type": "code",
   "execution_count": 4,
   "metadata": {},
   "outputs": [
    {
     "name": "stderr",
     "output_type": "stream",
     "text": [
      "2023-03-29 19:13:22,695 : INFO : collecting document frequencies\n",
      "2023-03-29 19:13:22,696 : INFO : PROGRESS: processing document #0\n",
      "2023-03-29 19:13:22,696 : INFO : TfidfModel lifecycle event {'msg': 'calculated IDF weights for 9 documents and 12 features (28 matrix non-zeros)', 'datetime': '2023-03-29T19:13:22.696798', 'gensim': '4.3.1', 'python': '3.10.4 | packaged by conda-forge | (main, Mar 30 2022, 08:38:02) [MSC v.1916 64 bit (AMD64)]', 'platform': 'Windows-10-10.0.19044-SP0', 'event': 'initialize'}\n"
     ]
    }
   ],
   "source": [
    "from gensim import models\n",
    "\n",
    "tfidf = models.TfidfModel(corpus)  # step 1 -- initialize a model"
   ]
  },
  {
   "cell_type": "code",
   "execution_count": 5,
   "metadata": {},
   "outputs": [
    {
     "name": "stdout",
     "output_type": "stream",
     "text": [
      "[(0, 0.7071067811865476), (1, 0.7071067811865476)]\n"
     ]
    }
   ],
   "source": [
    "doc_bow = [(0, 1), (1, 1)]\n",
    "print(tfidf[doc_bow])  # step 2 -- use the model to transform vectors\n"
   ]
  },
  {
   "cell_type": "code",
   "execution_count": 6,
   "metadata": {},
   "outputs": [
    {
     "name": "stdout",
     "output_type": "stream",
     "text": [
      "[(0, 0.5773502691896257), (1, 0.5773502691896257), (2, 0.5773502691896257)]\n",
      "[(0, 0.44424552527467476), (3, 0.44424552527467476), (4, 0.44424552527467476), (5, 0.3244870206138555), (6, 0.44424552527467476), (7, 0.3244870206138555)]\n",
      "[(2, 0.5710059809418182), (5, 0.4170757362022777), (7, 0.4170757362022777), (8, 0.5710059809418182)]\n",
      "[(1, 0.49182558987264147), (5, 0.7184811607083769), (8, 0.49182558987264147)]\n",
      "[(3, 0.6282580468670046), (6, 0.6282580468670046), (7, 0.45889394536615247)]\n",
      "[(9, 1.0)]\n",
      "[(9, 0.7071067811865475), (10, 0.7071067811865475)]\n",
      "[(9, 0.5080429008916749), (10, 0.5080429008916749), (11, 0.695546419520037)]\n",
      "[(4, 0.6282580468670046), (10, 0.45889394536615247), (11, 0.6282580468670046)]\n"
     ]
    }
   ],
   "source": [
    "corpus_tfidf = tfidf[corpus]\n",
    "for doc in corpus_tfidf:\n",
    "    print(doc)"
   ]
  },
  {
   "cell_type": "code",
   "execution_count": 7,
   "metadata": {},
   "outputs": [
    {
     "name": "stderr",
     "output_type": "stream",
     "text": [
      "2023-03-29 19:15:56,178 : INFO : using serial LSI version on this node\n",
      "2023-03-29 19:15:56,179 : INFO : updating model with new documents\n",
      "2023-03-29 19:15:56,179 : INFO : preparing a new chunk of documents\n",
      "2023-03-29 19:15:56,180 : INFO : using 100 extra samples and 2 power iterations\n",
      "2023-03-29 19:15:56,180 : INFO : 1st phase: constructing (12, 102) action matrix\n",
      "2023-03-29 19:15:56,187 : INFO : orthonormalizing (12, 102) action matrix\n",
      "2023-03-29 19:15:56,191 : INFO : 2nd phase: running dense svd on (12, 9) matrix\n",
      "2023-03-29 19:15:56,194 : INFO : computing the final decomposition\n",
      "2023-03-29 19:15:56,195 : INFO : keeping 2 factors (discarding 47.565% of energy spectrum)\n",
      "2023-03-29 19:15:56,196 : INFO : processed documents up to #9\n",
      "2023-03-29 19:15:56,197 : INFO : topic #0(1.594): -0.703*\"trees\" + -0.538*\"graph\" + -0.402*\"minors\" + -0.187*\"survey\" + -0.061*\"system\" + -0.060*\"time\" + -0.060*\"response\" + -0.058*\"user\" + -0.049*\"computer\" + -0.035*\"interface\"\n",
      "2023-03-29 19:15:56,198 : INFO : topic #1(1.476): -0.460*\"system\" + -0.373*\"user\" + -0.332*\"eps\" + -0.328*\"interface\" + -0.320*\"time\" + -0.320*\"response\" + -0.293*\"computer\" + -0.280*\"human\" + -0.171*\"survey\" + 0.161*\"trees\"\n",
      "2023-03-29 19:15:56,198 : INFO : LsiModel lifecycle event {'msg': 'trained LsiModel<num_terms=12, num_topics=2, decay=1.0, chunksize=20000> in 0.02s', 'datetime': '2023-03-29T19:15:56.198748', 'gensim': '4.3.1', 'python': '3.10.4 | packaged by conda-forge | (main, Mar 30 2022, 08:38:02) [MSC v.1916 64 bit (AMD64)]', 'platform': 'Windows-10-10.0.19044-SP0', 'event': 'created'}\n"
     ]
    }
   ],
   "source": [
    "lsi_model = models.LsiModel(corpus_tfidf, id2word=dictionary, num_topics=2)  # initialize an LSI transformation\n",
    "corpus_lsi = lsi_model[corpus_tfidf]  # create a double wrapper over the original corpus: bow->tfidf->fold-in-lsi"
   ]
  },
  {
   "cell_type": "code",
   "execution_count": 8,
   "metadata": {},
   "outputs": [
    {
     "name": "stderr",
     "output_type": "stream",
     "text": [
      "2023-03-29 19:16:31,037 : INFO : topic #0(1.594): -0.703*\"trees\" + -0.538*\"graph\" + -0.402*\"minors\" + -0.187*\"survey\" + -0.061*\"system\" + -0.060*\"time\" + -0.060*\"response\" + -0.058*\"user\" + -0.049*\"computer\" + -0.035*\"interface\"\n",
      "2023-03-29 19:16:31,038 : INFO : topic #1(1.476): -0.460*\"system\" + -0.373*\"user\" + -0.332*\"eps\" + -0.328*\"interface\" + -0.320*\"time\" + -0.320*\"response\" + -0.293*\"computer\" + -0.280*\"human\" + -0.171*\"survey\" + 0.161*\"trees\"\n"
     ]
    },
    {
     "data": {
      "text/plain": [
       "[(0,\n",
       "  '-0.703*\"trees\" + -0.538*\"graph\" + -0.402*\"minors\" + -0.187*\"survey\" + -0.061*\"system\" + -0.060*\"time\" + -0.060*\"response\" + -0.058*\"user\" + -0.049*\"computer\" + -0.035*\"interface\"'),\n",
       " (1,\n",
       "  '-0.460*\"system\" + -0.373*\"user\" + -0.332*\"eps\" + -0.328*\"interface\" + -0.320*\"time\" + -0.320*\"response\" + -0.293*\"computer\" + -0.280*\"human\" + -0.171*\"survey\" + 0.161*\"trees\"')]"
      ]
     },
     "execution_count": 8,
     "metadata": {},
     "output_type": "execute_result"
    }
   ],
   "source": [
    "lsi_model.print_topics(2)"
   ]
  },
  {
   "cell_type": "code",
   "execution_count": 9,
   "metadata": {},
   "outputs": [
    {
     "name": "stdout",
     "output_type": "stream",
     "text": [
      "[(0, -0.06600783396090226), (1, -0.5200703306361855)] Human machine interface for lab abc computer applications\n",
      "[(0, -0.19667592859142308), (1, -0.760956316770005)] A survey of user opinion of computer system response time\n",
      "[(0, -0.08992639972446229), (1, -0.7241860626752511)] The EPS user interface management system\n",
      "[(0, -0.07585847652177985), (1, -0.6320551586003432)] System and human system engineering testing of EPS\n",
      "[(0, -0.1015029918498001), (1, -0.5737308483002955)] Relation of user perceived response time to error measurement\n",
      "[(0, -0.7032108939378318), (1, 0.16115180214025618)] The generation of random binary unordered trees\n",
      "[(0, -0.8774787673119837), (1, 0.16758906864659182)] The intersection graph of paths in trees\n",
      "[(0, -0.9098624686818582), (1, 0.14086553628718773)] Graph minors IV Widths of trees and well quasi ordering\n",
      "[(0, -0.6165825350569277), (1, -0.05392907566389537)] Graph minors A survey\n"
     ]
    }
   ],
   "source": [
    "# both bow->tfidf and tfidf->lsi transformations are actually executed here, on the fly\n",
    "for doc, as_text in zip(corpus_lsi, documents):\n",
    "    print(doc, as_text)"
   ]
  },
  {
   "cell_type": "code",
   "execution_count": 10,
   "metadata": {},
   "outputs": [
    {
     "name": "stderr",
     "output_type": "stream",
     "text": [
      "2023-03-29 19:18:43,813 : INFO : Projection lifecycle event {'fname_or_handle': 'C:\\\\Users\\\\biehl\\\\AppData\\\\Local\\\\Temp\\\\model-tma3192s.lsi.projection', 'separately': 'None', 'sep_limit': 10485760, 'ignore': frozenset(), 'datetime': '2023-03-29T19:18:43.813765', 'gensim': '4.3.1', 'python': '3.10.4 | packaged by conda-forge | (main, Mar 30 2022, 08:38:02) [MSC v.1916 64 bit (AMD64)]', 'platform': 'Windows-10-10.0.19044-SP0', 'event': 'saving'}\n",
      "2023-03-29 19:18:43,815 : INFO : saved C:\\Users\\biehl\\AppData\\Local\\Temp\\model-tma3192s.lsi.projection\n",
      "2023-03-29 19:18:43,815 : INFO : LsiModel lifecycle event {'fname_or_handle': 'C:\\\\Users\\\\biehl\\\\AppData\\\\Local\\\\Temp\\\\model-tma3192s.lsi', 'separately': 'None', 'sep_limit': 10485760, 'ignore': ['projection', 'dispatcher'], 'datetime': '2023-03-29T19:18:43.815025', 'gensim': '4.3.1', 'python': '3.10.4 | packaged by conda-forge | (main, Mar 30 2022, 08:38:02) [MSC v.1916 64 bit (AMD64)]', 'platform': 'Windows-10-10.0.19044-SP0', 'event': 'saving'}\n",
      "2023-03-29 19:18:43,816 : INFO : not storing attribute projection\n",
      "2023-03-29 19:18:43,816 : INFO : not storing attribute dispatcher\n",
      "2023-03-29 19:18:43,817 : INFO : saved C:\\Users\\biehl\\AppData\\Local\\Temp\\model-tma3192s.lsi\n",
      "2023-03-29 19:18:43,818 : INFO : loading LsiModel object from C:\\Users\\biehl\\AppData\\Local\\Temp\\model-tma3192s.lsi\n",
      "2023-03-29 19:18:43,823 : INFO : loading id2word recursively from C:\\Users\\biehl\\AppData\\Local\\Temp\\model-tma3192s.lsi.id2word.* with mmap=None\n",
      "2023-03-29 19:18:43,824 : INFO : setting ignored attribute projection to None\n",
      "2023-03-29 19:18:43,824 : INFO : setting ignored attribute dispatcher to None\n",
      "2023-03-29 19:18:43,825 : INFO : LsiModel lifecycle event {'fname': 'C:\\\\Users\\\\biehl\\\\AppData\\\\Local\\\\Temp\\\\model-tma3192s.lsi', 'datetime': '2023-03-29T19:18:43.825144', 'gensim': '4.3.1', 'python': '3.10.4 | packaged by conda-forge | (main, Mar 30 2022, 08:38:02) [MSC v.1916 64 bit (AMD64)]', 'platform': 'Windows-10-10.0.19044-SP0', 'event': 'loaded'}\n",
      "2023-03-29 19:18:43,825 : INFO : loading LsiModel object from C:\\Users\\biehl\\AppData\\Local\\Temp\\model-tma3192s.lsi.projection\n",
      "2023-03-29 19:18:43,830 : INFO : Projection lifecycle event {'fname': 'C:\\\\Users\\\\biehl\\\\AppData\\\\Local\\\\Temp\\\\model-tma3192s.lsi.projection', 'datetime': '2023-03-29T19:18:43.830144', 'gensim': '4.3.1', 'python': '3.10.4 | packaged by conda-forge | (main, Mar 30 2022, 08:38:02) [MSC v.1916 64 bit (AMD64)]', 'platform': 'Windows-10-10.0.19044-SP0', 'event': 'loaded'}\n"
     ]
    }
   ],
   "source": [
    "import os\n",
    "import tempfile\n",
    "\n",
    "with tempfile.NamedTemporaryFile(prefix='model-', suffix='.lsi', delete=False) as tmp:\n",
    "    lsi_model.save(tmp.name)  # same for tfidf, lda, ...\n",
    "\n",
    "loaded_lsi_model = models.LsiModel.load(tmp.name)\n",
    "\n",
    "os.unlink(tmp.name)"
   ]
  },
  {
   "cell_type": "code",
   "execution_count": 1,
   "metadata": {},
   "outputs": [
    {
     "name": "stderr",
     "output_type": "stream",
     "text": [
      "[NbConvertApp] Converting notebook Gensim Code Exploration 3.ipynb to html\n",
      "[NbConvertApp] Writing 606182 bytes to Gensim Code Exploration 3.html\n"
     ]
    }
   ],
   "source": [
    "!jupyter nbconvert --to html \"Gensim Code Exploration 3.ipynb\""
   ]
  }
 ],
 "metadata": {
  "kernelspec": {
   "display_name": "Python 3 (ipykernel)",
   "language": "python",
   "name": "python3"
  },
  "language_info": {
   "codemirror_mode": {
    "name": "ipython",
    "version": 3
   },
   "file_extension": ".py",
   "mimetype": "text/x-python",
   "name": "python",
   "nbconvert_exporter": "python",
   "pygments_lexer": "ipython3",
   "version": "3.10.4"
  },
  "vscode": {
   "interpreter": {
    "hash": "1b03b38fb0cc78e60e23367eca6586605800c2e50627e5a4f4729bff4521d139"
   }
  }
 },
 "nbformat": 4,
 "nbformat_minor": 4
}
