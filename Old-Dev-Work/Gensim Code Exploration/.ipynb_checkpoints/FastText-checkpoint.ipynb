{
 "cells": [
  {
   "cell_type": "code",
   "execution_count": 1,
   "id": "90a57331-4e0d-430b-99b2-815eecabd3bd",
   "metadata": {
    "tags": []
   },
   "outputs": [],
   "source": [
    "import numpy as np\n",
    "import os\n",
    "from random import shuffle\n",
    "import re\n",
    "import urllib.request\n",
    "import zipfile\n",
    "import lxml.etree\n",
    "import numpy as np\n",
    "input_text = [  \n",
    "    \"A male student shot and wounded two faculty members at a Denver high school on Wednesday and then fled the scene, spurring a citywide search for his whereabouts, according to city officials.\",\n",
    "\n",
    "    \"The shooting at East High School was reported at about 9:50 a.m., and police and medical responders arrived on the scene “very quickly” to find two adult men with gunshot wounds, Denver Police Chief Ron Thomas said.\",\n",
    "\n",
    "    \"One faculty member is in stable condition, and the other is in critical condition, he said.\",\n",
    "\n",
    "    \"The student suspected in the shooting, who is under 18, was under a school safety plan in which he was patted down each day, the police chief said. During Wednesday’s search, a handgun was retrieved and several shots were fired in an office area in the front of the school, away from other students and staff, he said.\",\n",
    "\n",
    "    \"The student then fled the school, and a search is underway for his whereabouts. The weapon has not been recovered, Thomas said.\",\n",
    "\n",
    "    \"“We are looking for the suspect,” Mayor Michael Hancock said. “We will find that suspect, and we will hold that suspect accountable for his actions this morning in placing everyone in danger and certainly wounding the two staff members who were doing their job and trying to keep everyone safe at the time.”\",\n",
    "\n",
    "    \"The mayor asked residents to look out for the student, described as an African American juvenile with an afro and wearing a hoodie with an astronaut on it. The student should be considered “armed and dangerous and willing to use the weapon, as we learned this morning,” the mayor said.\",\n",
    "\n",
    "    \"In addition, another student was taken to a hospital because of an allergic reaction, the mayor said. Paramedics were already in the building for that incident when the shooting occurred and so were able to immediately treat those wounded, Hancock said.\",\n",
    "\n",
    "    \"The incident is the 18th shooting this year at an elementary or secondary school in the US in which at least one person was injured or killed, according to the Gun Violence Archive, a non-profit that attempts to log every incident of gun violence in the US in real time. Just this week, one student was shot at a high school parking lot in Dallas, and in Arlington, Texas, a student was killed and another was injured in a shooting outside a high school.\",\n",
    "\n",
    "    \"Wednesday also marks two years since the mass shooting at the King Soopers supermarket in Boulder, Colorado, in which 10 people were killed.\",\n",
    "\n",
    "    \"East High School has about 2,500 students across 9th through 12th grades and is the largest and highest-performing comprehensive high school of all Denver Public Schools, according to the school system.\",\n",
    "\n",
    "    \"The high school is located in the City Park neighborhood of the Colorado capital and is considered a Denver Historic Landmark for its architecture in the Jacobethan Revival style. The clock tower atop the school is similar in style to Philadelphia’s Independence Hall, the school website notes.\",\n",
    "\n",
    "    \"Several hours after the shooting, school officials began implementing a “controlled release” of students, according to a tweet from Denver Public Schools. Students who commuted to school will be escorted to their cars, students who rode the bus will be held on campus until their bus arrives and students who were dropped off by a parent can be picked up from a separate location, the tweet says.\",\n",
    "\n",
    "    \"The school will be out of session for the rest of the week following the shooting, Superintendent Alex Marrero said during a news conference. When students return and for the remainder of the school year, two armed officers would be present on campus, he said.\",\n",
    "\n",
    "    \"Colorado Gov. Jared Polis issued a statement saying he was praying for the two victims’ recovery.\",\n",
    "\n",
    "    \"“Our students should and must be able to attend school without fear for their safety, their parents deserve the peace of mind that their children are safe in classrooms, and teachers should be able to work safely and without harm,” he said.\"\n",
    "\n",
    "]"
   ]
  },
  {
   "cell_type": "code",
   "execution_count": 2,
   "id": "66a9dc01-4538-4f54-a7ea-78973faeecf6",
   "metadata": {},
   "outputs": [],
   "source": [
    "# store as list of lists of words\n",
    "sentences_ted = []\n",
    "for sent_str in input_text:\n",
    "    tokens = re.sub(r\"[^a-z0-9]+\", \" \", sent_str.lower()).split()\n",
    "    sentences_ted.append(tokens)"
   ]
  },
  {
   "cell_type": "code",
   "execution_count": 3,
   "id": "471ee41c-f235-4658-8918-834dbc787946",
   "metadata": {
    "collapsed": true,
    "jupyter": {
     "outputs_hidden": true
    },
    "tags": []
   },
   "outputs": [
    {
     "data": {
      "text/plain": [
       "[['human',\n",
       "  'machine',\n",
       "  'interface',\n",
       "  'for',\n",
       "  'lab',\n",
       "  'abc',\n",
       "  'computer',\n",
       "  'applications'],\n",
       " ['a',\n",
       "  'survey',\n",
       "  'of',\n",
       "  'user',\n",
       "  'opinion',\n",
       "  'of',\n",
       "  'computer',\n",
       "  'system',\n",
       "  'response',\n",
       "  'time'],\n",
       " ['the', 'eps', 'user', 'interface', 'management', 'system'],\n",
       " ['system', 'and', 'human', 'system', 'engineering', 'testing', 'of', 'eps'],\n",
       " ['relation',\n",
       "  'of',\n",
       "  'user',\n",
       "  'perceived',\n",
       "  'response',\n",
       "  'time',\n",
       "  'to',\n",
       "  'error',\n",
       "  'measurement'],\n",
       " ['the', 'generation', 'of', 'random', 'binary', 'unordered', 'trees'],\n",
       " ['the', 'intersection', 'graph', 'of', 'paths', 'in', 'trees'],\n",
       " ['graph',\n",
       "  'minors',\n",
       "  'iv',\n",
       "  'widths',\n",
       "  'of',\n",
       "  'trees',\n",
       "  'and',\n",
       "  'well',\n",
       "  'quasi',\n",
       "  'ordering'],\n",
       " ['graph', 'minors', 'a', 'survey']]"
      ]
     },
     "execution_count": 3,
     "metadata": {},
     "output_type": "execute_result"
    }
   ],
   "source": [
    "sentences_ted"
   ]
  },
  {
   "cell_type": "code",
   "execution_count": 55,
   "id": "dc9d6181-712a-4ed1-b76e-583ee9b26a7a",
   "metadata": {},
   "outputs": [
    {
     "data": {
      "text/plain": [
       "(824, 3450)"
      ]
     },
     "execution_count": 55,
     "metadata": {},
     "output_type": "execute_result"
    }
   ],
   "source": [
    "model = FastText(vector_size=10, window=3, min_count=1)  # instantiate\n",
    "model.build_vocab(corpus_iterable=sentences_ted)\n",
    "model.train(corpus_iterable=sentences_ted, total_examples=len(sentences_ted), epochs=50)  # train"
   ]
  },
  {
   "cell_type": "code",
   "execution_count": 56,
   "id": "2b79915b-5075-4f6c-88a7-55f2049d3dab",
   "metadata": {},
   "outputs": [
    {
     "data": {
      "text/plain": [
       "[('human', 0.7777116298675537),\n",
       " ('and', 0.6290345788002014),\n",
       " ('user', 0.6197217702865601),\n",
       " ('computer', 0.5439144372940063),\n",
       " ('in', 0.524579644203186),\n",
       " ('machine', 0.4377245604991913),\n",
       " ('relation', 0.43175646662712097),\n",
       " ('binary', 0.3824922740459442),\n",
       " ('generation', 0.3545793294906616),\n",
       " ('response', 0.32589882612228394)]"
      ]
     },
     "execution_count": 56,
     "metadata": {},
     "output_type": "execute_result"
    }
   ],
   "source": [
    "model.wv.most_similar(\"calculator\")"
   ]
  },
  {
   "cell_type": "code",
   "execution_count": 28,
   "id": "56c12d1d-82fc-494e-94e6-48cc5596cc59",
   "metadata": {},
   "outputs": [
    {
     "data": {
      "text/plain": [
       "-0.6022634"
      ]
     },
     "execution_count": 28,
     "metadata": {},
     "output_type": "execute_result"
    }
   ],
   "source": [
    "model.wv.similarity('system', 'time')"
   ]
  },
  {
   "cell_type": "code",
   "execution_count": null,
   "id": "b3aa736d-012a-4b55-bd4b-b1da2ae4c47c",
   "metadata": {},
   "outputs": [],
   "source": []
  }
 ],
 "metadata": {
  "kernelspec": {
   "display_name": "CPTS421",
   "language": "python",
   "name": "cpts421"
  },
  "language_info": {
   "codemirror_mode": {
    "name": "ipython",
    "version": 3
   },
   "file_extension": ".py",
   "mimetype": "text/x-python",
   "name": "python",
   "nbconvert_exporter": "python",
   "pygments_lexer": "ipython3",
   "version": "3.10.4"
  }
 },
 "nbformat": 4,
 "nbformat_minor": 5
}
