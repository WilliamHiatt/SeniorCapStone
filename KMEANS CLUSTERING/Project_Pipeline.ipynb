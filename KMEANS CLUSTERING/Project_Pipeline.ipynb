{
 "cells": [
  {
   "cell_type": "markdown",
   "id": "c9dccd1a",
   "metadata": {},
   "source": [
    "# Latent Probability Model"
   ]
  },
  {
   "cell_type": "markdown",
   "id": "01049288",
   "metadata": {},
   "source": [
    "If you are running this for the first time you may need to use the following commands before continuing:"
   ]
  },
  {
   "cell_type": "code",
   "execution_count": 1,
   "id": "15ba699a",
   "metadata": {},
   "outputs": [
    {
     "name": "stdout",
     "output_type": "stream",
     "text": [
      "Collecting pandas==1.3.5\n",
      "  Using cached pandas-1.3.5.tar.gz (4.7 MB)\n",
      "  Installing build dependencies: started\n",
      "  Installing build dependencies: finished with status 'done'\n",
      "  Getting requirements to build wheel: started\n",
      "  Getting requirements to build wheel: still running...\n",
      "  Getting requirements to build wheel: finished with status 'done'\n",
      "  Preparing metadata (pyproject.toml): started\n",
      "  Preparing metadata (pyproject.toml): finished with status 'done'\n",
      "Requirement already satisfied: python-dateutil>=2.7.3 in c:\\users\\gabri\\appdata\\local\\programs\\python\\python311\\lib\\site-packages (from pandas==1.3.5) (2.8.2)\n",
      "Requirement already satisfied: pytz>=2017.3 in c:\\users\\gabri\\appdata\\local\\programs\\python\\python311\\lib\\site-packages (from pandas==1.3.5) (2022.7.1)\n",
      "Requirement already satisfied: numpy>=1.21.0 in c:\\users\\gabri\\appdata\\local\\programs\\python\\python311\\lib\\site-packages (from pandas==1.3.5) (1.24.2)\n",
      "Requirement already satisfied: six>=1.5 in c:\\users\\gabri\\appdata\\local\\programs\\python\\python311\\lib\\site-packages (from python-dateutil>=2.7.3->pandas==1.3.5) (1.16.0)\n",
      "Building wheels for collected packages: pandas\n",
      "  Building wheel for pandas (pyproject.toml): started\n",
      "  Building wheel for pandas (pyproject.toml): finished with status 'error'\n",
      "Failed to build pandas\n"
     ]
    },
    {
     "name": "stderr",
     "output_type": "stream",
     "text": [
      "  error: subprocess-exited-with-error\n",
      "  \n",
      "  Building wheel for pandas (pyproject.toml) did not run successfully.\n",
      "  exit code: 1\n",
      "  \n",
      "  [2488 lines of output]\n",
      "  <string>:19: DeprecationWarning: pkg_resources is deprecated as an API. See https://setuptools.pypa.io/en/latest/pkg_resources.html\n",
      "  C:\\Users\\gabri\\AppData\\Local\\Temp\\pip-build-env-n5ey8eu1\\overlay\\Lib\\site-packages\\setuptools\\config\\setupcfg.py:293: _DeprecatedConfig: Deprecated config in `setup.cfg`\n",
      "  !!\n",
      "  \n",
      "          ********************************************************************************\n",
      "          The license_file parameter is deprecated, use license_files instead.\n",
      "  \n",
      "          By 2023-Oct-30, you need to update your project and remove deprecated calls\n",
      "          or your builds will no longer be supported.\n",
      "  \n",
      "          See https://setuptools.pypa.io/en/latest/userguide/declarative_config.html for details.\n",
      "          ********************************************************************************\n",
      "  \n",
      "  !!\n",
      "    parsed = self.parsers.get(option_name, lambda x: x)(value)\n",
      "  running bdist_wheel\n",
      "  running build\n",
      "  running build_py\n",
      "  creating build\n",
      "  creating build\\lib.win-amd64-cpython-311\n",
      "  creating build\\lib.win-amd64-cpython-311\\pandas\n",
      "  copying pandas\\conftest.py -> build\\lib.win-amd64-cpython-311\\pandas\n",
      "  copying pandas\\testing.py -> build\\lib.win-amd64-cpython-311\\pandas\n",
      "  copying pandas\\_typing.py -> build\\lib.win-amd64-cpython-311\\pandas\n",
      "  copying pandas\\_version.py -> build\\lib.win-amd64-cpython-311\\pandas\n",
      "  copying pandas\\__init__.py -> build\\lib.win-amd64-cpython-311\\pandas\n",
      "  creating build\\lib.win-amd64-cpython-311\\pandas\\api\n",
      "  copying pandas\\api\\__init__.py -> build\\lib.win-amd64-cpython-311\\pandas\\api\n",
      "  creating build\\lib.win-amd64-cpython-311\\pandas\\arrays\n",
      "  copying pandas\\arrays\\__init__.py -> build\\lib.win-amd64-cpython-311\\pandas\\arrays\n",
      "  creating build\\lib.win-amd64-cpython-311\\pandas\\compat\n",
      "  copying pandas\\compat\\chainmap.py -> build\\lib.win-amd64-cpython-311\\pandas\\compat\n",
      "  copying pandas\\compat\\pickle_compat.py -> build\\lib.win-amd64-cpython-311\\pandas\\compat\n",
      "  copying pandas\\compat\\pyarrow.py -> build\\lib.win-amd64-cpython-311\\pandas\\compat\n",
      "  copying pandas\\compat\\_optional.py -> build\\lib.win-amd64-cpython-311\\pandas\\compat\n",
      "  copying pandas\\compat\\__init__.py -> build\\lib.win-amd64-cpython-311\\pandas\\compat\n",
      "  creating build\\lib.win-amd64-cpython-311\\pandas\\core\n",
      "  copying pandas\\core\\accessor.py -> build\\lib.win-amd64-cpython-311\\pandas\\core\n",
      "  copying pandas\\core\\aggregation.py -> build\\lib.win-amd64-cpython-311\\pandas\\core\n",
      "  copying pandas\\core\\algorithms.py -> build\\lib.win-amd64-cpython-311\\pandas\\core\n",
      "  copying pandas\\core\\api.py -> build\\lib.win-amd64-cpython-311\\pandas\\core\n",
      "  copying pandas\\core\\apply.py -> build\\lib.win-amd64-cpython-311\\pandas\\core\n",
      "  copying pandas\\core\\arraylike.py -> build\\lib.win-amd64-cpython-311\\pandas\\core\n",
      "  copying pandas\\core\\base.py -> build\\lib.win-amd64-cpython-311\\pandas\\core\n",
      "  copying pandas\\core\\common.py -> build\\lib.win-amd64-cpython-311\\pandas\\core\n",
      "  copying pandas\\core\\config_init.py -> build\\lib.win-amd64-cpython-311\\pandas\\core\n",
      "  copying pandas\\core\\construction.py -> build\\lib.win-amd64-cpython-311\\pandas\\core\n",
      "  copying pandas\\core\\describe.py -> build\\lib.win-amd64-cpython-311\\pandas\\core\n",
      "  copying pandas\\core\\flags.py -> build\\lib.win-amd64-cpython-311\\pandas\\core\n",
      "  copying pandas\\core\\frame.py -> build\\lib.win-amd64-cpython-311\\pandas\\core\n",
      "  copying pandas\\core\\generic.py -> build\\lib.win-amd64-cpython-311\\pandas\\core\n",
      "  copying pandas\\core\\index.py -> build\\lib.win-amd64-cpython-311\\pandas\\core\n",
      "  copying pandas\\core\\indexers.py -> build\\lib.win-amd64-cpython-311\\pandas\\core\n",
      "  copying pandas\\core\\indexing.py -> build\\lib.win-amd64-cpython-311\\pandas\\core\n",
      "  copying pandas\\core\\missing.py -> build\\lib.win-amd64-cpython-311\\pandas\\core\n",
      "  copying pandas\\core\\nanops.py -> build\\lib.win-amd64-cpython-311\\pandas\\core\n",
      "  copying pandas\\core\\resample.py -> build\\lib.win-amd64-cpython-311\\pandas\\core\n",
      "  copying pandas\\core\\roperator.py -> build\\lib.win-amd64-cpython-311\\pandas\\core\n",
      "  copying pandas\\core\\series.py -> build\\lib.win-amd64-cpython-311\\pandas\\core\n",
      "  copying pandas\\core\\shared_docs.py -> build\\lib.win-amd64-cpython-311\\pandas\\core\n",
      "  copying pandas\\core\\sorting.py -> build\\lib.win-amd64-cpython-311\\pandas\\core\n",
      "  copying pandas\\core\\__init__.py -> build\\lib.win-amd64-cpython-311\\pandas\\core\n",
      "  creating build\\lib.win-amd64-cpython-311\\pandas\\errors\n",
      "  copying pandas\\errors\\__init__.py -> build\\lib.win-amd64-cpython-311\\pandas\\errors\n",
      "  creating build\\lib.win-amd64-cpython-311\\pandas\\io\n",
      "  copying pandas\\io\\api.py -> build\\lib.win-amd64-cpython-311\\pandas\\io\n",
      "  copying pandas\\io\\clipboards.py -> build\\lib.win-amd64-cpython-311\\pandas\\io\n",
      "  copying pandas\\io\\common.py -> build\\lib.win-amd64-cpython-311\\pandas\\io\n",
      "  copying pandas\\io\\date_converters.py -> build\\lib.win-amd64-cpython-311\\pandas\\io\n",
      "  copying pandas\\io\\feather_format.py -> build\\lib.win-amd64-cpython-311\\pandas\\io\n",
      "  copying pandas\\io\\gbq.py -> build\\lib.win-amd64-cpython-311\\pandas\\io\n",
      "  copying pandas\\io\\html.py -> build\\lib.win-amd64-cpython-311\\pandas\\io\n",
      "  copying pandas\\io\\orc.py -> build\\lib.win-amd64-cpython-311\\pandas\\io\n",
      "  copying pandas\\io\\parquet.py -> build\\lib.win-amd64-cpython-311\\pandas\\io\n",
      "  copying pandas\\io\\pickle.py -> build\\lib.win-amd64-cpython-311\\pandas\\io\n",
      "  copying pandas\\io\\pytables.py -> build\\lib.win-amd64-cpython-311\\pandas\\io\n",
      "  copying pandas\\io\\spss.py -> build\\lib.win-amd64-cpython-311\\pandas\\io\n",
      "  copying pandas\\io\\sql.py -> build\\lib.win-amd64-cpython-311\\pandas\\io\n",
      "  copying pandas\\io\\stata.py -> build\\lib.win-amd64-cpython-311\\pandas\\io\n",
      "  copying pandas\\io\\xml.py -> build\\lib.win-amd64-cpython-311\\pandas\\io\n",
      "  copying pandas\\io\\__init__.py -> build\\lib.win-amd64-cpython-311\\pandas\\io\n",
      "  creating build\\lib.win-amd64-cpython-311\\pandas\\plotting\n",
      "  copying pandas\\plotting\\_core.py -> build\\lib.win-amd64-cpython-311\\pandas\\plotting\n",
      "  copying pandas\\plotting\\_misc.py -> build\\lib.win-amd64-cpython-311\\pandas\\plotting\n",
      "  copying pandas\\plotting\\__init__.py -> build\\lib.win-amd64-cpython-311\\pandas\\plotting\n",
      "  creating build\\lib.win-amd64-cpython-311\\pandas\\tests\n",
      "  copying pandas\\tests\\test_aggregation.py -> build\\lib.win-amd64-cpython-311\\pandas\\tests\n",
      "  copying pandas\\tests\\test_algos.py -> build\\lib.win-amd64-cpython-311\\pandas\\tests\n",
      "  copying pandas\\tests\\test_common.py -> build\\lib.win-amd64-cpython-311\\pandas\\tests\n",
      "  copying pandas\\tests\\test_downstream.py -> build\\lib.win-amd64-cpython-311\\pandas\\tests\n",
      "  copying pandas\\tests\\test_errors.py -> build\\lib.win-amd64-cpython-311\\pandas\\tests\n",
      "  copying pandas\\tests\\test_expressions.py -> build\\lib.win-amd64-cpython-311\\pandas\\tests\n",
      "  copying pandas\\tests\\test_flags.py -> build\\lib.win-amd64-cpython-311\\pandas\\tests\n",
      "  copying pandas\\tests\\test_multilevel.py -> build\\lib.win-amd64-cpython-311\\pandas\\tests\n",
      "  copying pandas\\tests\\test_nanops.py -> build\\lib.win-amd64-cpython-311\\pandas\\tests\n",
      "  copying pandas\\tests\\test_optional_dependency.py -> build\\lib.win-amd64-cpython-311\\pandas\\tests\n",
      "  copying pandas\\tests\\test_register_accessor.py -> build\\lib.win-amd64-cpython-311\\pandas\\tests\n",
      "  copying pandas\\tests\\test_sorting.py -> build\\lib.win-amd64-cpython-311\\pandas\\tests\n",
      "  copying pandas\\tests\\test_take.py -> build\\lib.win-amd64-cpython-311\\pandas\\tests\n",
      "  copying pandas\\tests\\__init__.py -> build\\lib.win-amd64-cpython-311\\pandas\\tests\n",
      "  creating build\\lib.win-amd64-cpython-311\\pandas\\tseries\n",
      "  copying pandas\\tseries\\api.py -> build\\lib.win-amd64-cpython-311\\pandas\\tseries\n",
      "  copying pandas\\tseries\\frequencies.py -> build\\lib.win-amd64-cpython-311\\pandas\\tseries\n",
      "  copying pandas\\tseries\\holiday.py -> build\\lib.win-amd64-cpython-311\\pandas\\tseries\n",
      "  copying pandas\\tseries\\offsets.py -> build\\lib.win-amd64-cpython-311\\pandas\\tseries\n",
      "  copying pandas\\tseries\\__init__.py -> build\\lib.win-amd64-cpython-311\\pandas\\tseries\n",
      "  creating build\\lib.win-amd64-cpython-311\\pandas\\util\n",
      "  copying pandas\\util\\testing.py -> build\\lib.win-amd64-cpython-311\\pandas\\util\n",
      "  copying pandas\\util\\_decorators.py -> build\\lib.win-amd64-cpython-311\\pandas\\util\n",
      "  copying pandas\\util\\_depr_module.py -> build\\lib.win-amd64-cpython-311\\pandas\\util\n",
      "  copying pandas\\util\\_doctools.py -> build\\lib.win-amd64-cpython-311\\pandas\\util\n",
      "  copying pandas\\util\\_exceptions.py -> build\\lib.win-amd64-cpython-311\\pandas\\util\n",
      "  copying pandas\\util\\_print_versions.py -> build\\lib.win-amd64-cpython-311\\pandas\\util\n",
      "  copying pandas\\util\\_tester.py -> build\\lib.win-amd64-cpython-311\\pandas\\util\n",
      "  copying pandas\\util\\_test_decorators.py -> build\\lib.win-amd64-cpython-311\\pandas\\util\n",
      "  copying pandas\\util\\_validators.py -> build\\lib.win-amd64-cpython-311\\pandas\\util\n",
      "  copying pandas\\util\\__init__.py -> build\\lib.win-amd64-cpython-311\\pandas\\util\n",
      "  creating build\\lib.win-amd64-cpython-311\\pandas\\_config\n",
      "  copying pandas\\_config\\config.py -> build\\lib.win-amd64-cpython-311\\pandas\\_config\n",
      "  copying pandas\\_config\\dates.py -> build\\lib.win-amd64-cpython-311\\pandas\\_config\n",
      "  copying pandas\\_config\\display.py -> build\\lib.win-amd64-cpython-311\\pandas\\_config\n",
      "  copying pandas\\_config\\localization.py -> build\\lib.win-amd64-cpython-311\\pandas\\_config\n",
      "  copying pandas\\_config\\__init__.py -> build\\lib.win-amd64-cpython-311\\pandas\\_config\n",
      "  creating build\\lib.win-amd64-cpython-311\\pandas\\_libs\n",
      "  copying pandas\\_libs\\__init__.py -> build\\lib.win-amd64-cpython-311\\pandas\\_libs\n",
      "  creating build\\lib.win-amd64-cpython-311\\pandas\\_testing\n",
      "  copying pandas\\_testing\\asserters.py -> build\\lib.win-amd64-cpython-311\\pandas\\_testing\n",
      "  copying pandas\\_testing\\compat.py -> build\\lib.win-amd64-cpython-311\\pandas\\_testing\n",
      "  copying pandas\\_testing\\contexts.py -> build\\lib.win-amd64-cpython-311\\pandas\\_testing\n",
      "  copying pandas\\_testing\\_io.py -> build\\lib.win-amd64-cpython-311\\pandas\\_testing\n",
      "  copying pandas\\_testing\\_random.py -> build\\lib.win-amd64-cpython-311\\pandas\\_testing\n",
      "  copying pandas\\_testing\\_warnings.py -> build\\lib.win-amd64-cpython-311\\pandas\\_testing\n",
      "  copying pandas\\_testing\\__init__.py -> build\\lib.win-amd64-cpython-311\\pandas\\_testing\n",
      "  creating build\\lib.win-amd64-cpython-311\\pandas\\api\\extensions\n",
      "  copying pandas\\api\\extensions\\__init__.py -> build\\lib.win-amd64-cpython-311\\pandas\\api\\extensions\n",
      "  creating build\\lib.win-amd64-cpython-311\\pandas\\api\\indexers\n",
      "  copying pandas\\api\\indexers\\__init__.py -> build\\lib.win-amd64-cpython-311\\pandas\\api\\indexers\n",
      "  creating build\\lib.win-amd64-cpython-311\\pandas\\api\\types\n",
      "  copying pandas\\api\\types\\__init__.py -> build\\lib.win-amd64-cpython-311\\pandas\\api\\types\n",
      "  creating build\\lib.win-amd64-cpython-311\\pandas\\compat\\numpy\n",
      "  copying pandas\\compat\\numpy\\function.py -> build\\lib.win-amd64-cpython-311\\pandas\\compat\\numpy\n",
      "  copying pandas\\compat\\numpy\\__init__.py -> build\\lib.win-amd64-cpython-311\\pandas\\compat\\numpy\n",
      "  creating build\\lib.win-amd64-cpython-311\\pandas\\core\\arrays\n",
      "  copying pandas\\core\\arrays\\base.py -> build\\lib.win-amd64-cpython-311\\pandas\\core\\arrays\n",
      "  copying pandas\\core\\arrays\\boolean.py -> build\\lib.win-amd64-cpython-311\\pandas\\core\\arrays\n",
      "  copying pandas\\core\\arrays\\categorical.py -> build\\lib.win-amd64-cpython-311\\pandas\\core\\arrays\n",
      "  copying pandas\\core\\arrays\\datetimelike.py -> build\\lib.win-amd64-cpython-311\\pandas\\core\\arrays\n",
      "  copying pandas\\core\\arrays\\datetimes.py -> build\\lib.win-amd64-cpython-311\\pandas\\core\\arrays\n",
      "  copying pandas\\core\\arrays\\floating.py -> build\\lib.win-amd64-cpython-311\\pandas\\core\\arrays\n",
      "  copying pandas\\core\\arrays\\integer.py -> build\\lib.win-amd64-cpython-311\\pandas\\core\\arrays\n",
      "  copying pandas\\core\\arrays\\interval.py -> build\\lib.win-amd64-cpython-311\\pandas\\core\\arrays\n",
      "  copying pandas\\core\\arrays\\masked.py -> build\\lib.win-amd64-cpython-311\\pandas\\core\\arrays\n",
      "  copying pandas\\core\\arrays\\numeric.py -> build\\lib.win-amd64-cpython-311\\pandas\\core\\arrays\n",
      "  copying pandas\\core\\arrays\\numpy_.py -> build\\lib.win-amd64-cpython-311\\pandas\\core\\arrays\n",
      "  copying pandas\\core\\arrays\\period.py -> build\\lib.win-amd64-cpython-311\\pandas\\core\\arrays\n",
      "  copying pandas\\core\\arrays\\string_.py -> build\\lib.win-amd64-cpython-311\\pandas\\core\\arrays\n",
      "  copying pandas\\core\\arrays\\string_arrow.py -> build\\lib.win-amd64-cpython-311\\pandas\\core\\arrays\n",
      "  copying pandas\\core\\arrays\\timedeltas.py -> build\\lib.win-amd64-cpython-311\\pandas\\core\\arrays\n",
      "  copying pandas\\core\\arrays\\_arrow_utils.py -> build\\lib.win-amd64-cpython-311\\pandas\\core\\arrays\n",
      "  copying pandas\\core\\arrays\\_mixins.py -> build\\lib.win-amd64-cpython-311\\pandas\\core\\arrays\n",
      "  copying pandas\\core\\arrays\\_ranges.py -> build\\lib.win-amd64-cpython-311\\pandas\\core\\arrays\n",
      "  copying pandas\\core\\arrays\\__init__.py -> build\\lib.win-amd64-cpython-311\\pandas\\core\\arrays\n",
      "  creating build\\lib.win-amd64-cpython-311\\pandas\\core\\array_algos\n",
      "  copying pandas\\core\\array_algos\\masked_reductions.py -> build\\lib.win-amd64-cpython-311\\pandas\\core\\array_algos\n",
      "  copying pandas\\core\\array_algos\\putmask.py -> build\\lib.win-amd64-cpython-311\\pandas\\core\\array_algos\n",
      "  copying pandas\\core\\array_algos\\quantile.py -> build\\lib.win-amd64-cpython-311\\pandas\\core\\array_algos\n",
      "  copying pandas\\core\\array_algos\\replace.py -> build\\lib.win-amd64-cpython-311\\pandas\\core\\array_algos\n",
      "  copying pandas\\core\\array_algos\\take.py -> build\\lib.win-amd64-cpython-311\\pandas\\core\\array_algos\n",
      "  copying pandas\\core\\array_algos\\transforms.py -> build\\lib.win-amd64-cpython-311\\pandas\\core\\array_algos\n",
      "  copying pandas\\core\\array_algos\\__init__.py -> build\\lib.win-amd64-cpython-311\\pandas\\core\\array_algos\n",
      "  creating build\\lib.win-amd64-cpython-311\\pandas\\core\\computation\n",
      "  copying pandas\\core\\computation\\align.py -> build\\lib.win-amd64-cpython-311\\pandas\\core\\computation\n",
      "  copying pandas\\core\\computation\\api.py -> build\\lib.win-amd64-cpython-311\\pandas\\core\\computation\n",
      "  copying pandas\\core\\computation\\check.py -> build\\lib.win-amd64-cpython-311\\pandas\\core\\computation\n",
      "  copying pandas\\core\\computation\\common.py -> build\\lib.win-amd64-cpython-311\\pandas\\core\\computation\n",
      "  copying pandas\\core\\computation\\engines.py -> build\\lib.win-amd64-cpython-311\\pandas\\core\\computation\n",
      "  copying pandas\\core\\computation\\eval.py -> build\\lib.win-amd64-cpython-311\\pandas\\core\\computation\n",
      "  copying pandas\\core\\computation\\expr.py -> build\\lib.win-amd64-cpython-311\\pandas\\core\\computation\n",
      "  copying pandas\\core\\computation\\expressions.py -> build\\lib.win-amd64-cpython-311\\pandas\\core\\computation\n",
      "  copying pandas\\core\\computation\\ops.py -> build\\lib.win-amd64-cpython-311\\pandas\\core\\computation\n",
      "  copying pandas\\core\\computation\\parsing.py -> build\\lib.win-amd64-cpython-311\\pandas\\core\\computation\n",
      "  copying pandas\\core\\computation\\pytables.py -> build\\lib.win-amd64-cpython-311\\pandas\\core\\computation\n",
      "  copying pandas\\core\\computation\\scope.py -> build\\lib.win-amd64-cpython-311\\pandas\\core\\computation\n",
      "  copying pandas\\core\\computation\\__init__.py -> build\\lib.win-amd64-cpython-311\\pandas\\core\\computation\n",
      "  creating build\\lib.win-amd64-cpython-311\\pandas\\core\\dtypes\n",
      "  copying pandas\\core\\dtypes\\api.py -> build\\lib.win-amd64-cpython-311\\pandas\\core\\dtypes\n",
      "  copying pandas\\core\\dtypes\\base.py -> build\\lib.win-amd64-cpython-311\\pandas\\core\\dtypes\n",
      "  copying pandas\\core\\dtypes\\cast.py -> build\\lib.win-amd64-cpython-311\\pandas\\core\\dtypes\n",
      "  copying pandas\\core\\dtypes\\common.py -> build\\lib.win-amd64-cpython-311\\pandas\\core\\dtypes\n",
      "  copying pandas\\core\\dtypes\\concat.py -> build\\lib.win-amd64-cpython-311\\pandas\\core\\dtypes\n",
      "  copying pandas\\core\\dtypes\\dtypes.py -> build\\lib.win-amd64-cpython-311\\pandas\\core\\dtypes\n",
      "  copying pandas\\core\\dtypes\\generic.py -> build\\lib.win-amd64-cpython-311\\pandas\\core\\dtypes\n",
      "  copying pandas\\core\\dtypes\\inference.py -> build\\lib.win-amd64-cpython-311\\pandas\\core\\dtypes\n",
      "  copying pandas\\core\\dtypes\\missing.py -> build\\lib.win-amd64-cpython-311\\pandas\\core\\dtypes\n",
      "  copying pandas\\core\\dtypes\\__init__.py -> build\\lib.win-amd64-cpython-311\\pandas\\core\\dtypes\n",
      "  creating build\\lib.win-amd64-cpython-311\\pandas\\core\\groupby\n",
      "  copying pandas\\core\\groupby\\base.py -> build\\lib.win-amd64-cpython-311\\pandas\\core\\groupby\n",
      "  copying pandas\\core\\groupby\\categorical.py -> build\\lib.win-amd64-cpython-311\\pandas\\core\\groupby\n",
      "  copying pandas\\core\\groupby\\generic.py -> build\\lib.win-amd64-cpython-311\\pandas\\core\\groupby\n",
      "  copying pandas\\core\\groupby\\groupby.py -> build\\lib.win-amd64-cpython-311\\pandas\\core\\groupby\n",
      "  copying pandas\\core\\groupby\\grouper.py -> build\\lib.win-amd64-cpython-311\\pandas\\core\\groupby\n",
      "  copying pandas\\core\\groupby\\numba_.py -> build\\lib.win-amd64-cpython-311\\pandas\\core\\groupby\n",
      "  copying pandas\\core\\groupby\\ops.py -> build\\lib.win-amd64-cpython-311\\pandas\\core\\groupby\n",
      "  copying pandas\\core\\groupby\\__init__.py -> build\\lib.win-amd64-cpython-311\\pandas\\core\\groupby\n",
      "  creating build\\lib.win-amd64-cpython-311\\pandas\\core\\indexes\n",
      "  copying pandas\\core\\indexes\\accessors.py -> build\\lib.win-amd64-cpython-311\\pandas\\core\\indexes\n",
      "  copying pandas\\core\\indexes\\api.py -> build\\lib.win-amd64-cpython-311\\pandas\\core\\indexes\n",
      "  copying pandas\\core\\indexes\\base.py -> build\\lib.win-amd64-cpython-311\\pandas\\core\\indexes\n",
      "  copying pandas\\core\\indexes\\category.py -> build\\lib.win-amd64-cpython-311\\pandas\\core\\indexes\n",
      "  copying pandas\\core\\indexes\\datetimelike.py -> build\\lib.win-amd64-cpython-311\\pandas\\core\\indexes\n",
      "  copying pandas\\core\\indexes\\datetimes.py -> build\\lib.win-amd64-cpython-311\\pandas\\core\\indexes\n",
      "  copying pandas\\core\\indexes\\extension.py -> build\\lib.win-amd64-cpython-311\\pandas\\core\\indexes\n",
      "  copying pandas\\core\\indexes\\frozen.py -> build\\lib.win-amd64-cpython-311\\pandas\\core\\indexes\n",
      "  copying pandas\\core\\indexes\\interval.py -> build\\lib.win-amd64-cpython-311\\pandas\\core\\indexes\n",
      "  copying pandas\\core\\indexes\\multi.py -> build\\lib.win-amd64-cpython-311\\pandas\\core\\indexes\n",
      "  copying pandas\\core\\indexes\\numeric.py -> build\\lib.win-amd64-cpython-311\\pandas\\core\\indexes\n",
      "  copying pandas\\core\\indexes\\period.py -> build\\lib.win-amd64-cpython-311\\pandas\\core\\indexes\n",
      "  copying pandas\\core\\indexes\\range.py -> build\\lib.win-amd64-cpython-311\\pandas\\core\\indexes\n",
      "  copying pandas\\core\\indexes\\timedeltas.py -> build\\lib.win-amd64-cpython-311\\pandas\\core\\indexes\n",
      "  copying pandas\\core\\indexes\\__init__.py -> build\\lib.win-amd64-cpython-311\\pandas\\core\\indexes\n",
      "  creating build\\lib.win-amd64-cpython-311\\pandas\\core\\internals\n",
      "  copying pandas\\core\\internals\\api.py -> build\\lib.win-amd64-cpython-311\\pandas\\core\\internals\n",
      "  copying pandas\\core\\internals\\array_manager.py -> build\\lib.win-amd64-cpython-311\\pandas\\core\\internals\n",
      "  copying pandas\\core\\internals\\base.py -> build\\lib.win-amd64-cpython-311\\pandas\\core\\internals\n",
      "  copying pandas\\core\\internals\\blocks.py -> build\\lib.win-amd64-cpython-311\\pandas\\core\\internals\n",
      "  copying pandas\\core\\internals\\concat.py -> build\\lib.win-amd64-cpython-311\\pandas\\core\\internals\n",
      "  copying pandas\\core\\internals\\construction.py -> build\\lib.win-amd64-cpython-311\\pandas\\core\\internals\n",
      "  copying pandas\\core\\internals\\managers.py -> build\\lib.win-amd64-cpython-311\\pandas\\core\\internals\n",
      "  copying pandas\\core\\internals\\ops.py -> build\\lib.win-amd64-cpython-311\\pandas\\core\\internals\n",
      "  copying pandas\\core\\internals\\__init__.py -> build\\lib.win-amd64-cpython-311\\pandas\\core\\internals\n",
      "  creating build\\lib.win-amd64-cpython-311\\pandas\\core\\ops\n",
      "  copying pandas\\core\\ops\\array_ops.py -> build\\lib.win-amd64-cpython-311\\pandas\\core\\ops\n",
      "  copying pandas\\core\\ops\\common.py -> build\\lib.win-amd64-cpython-311\\pandas\\core\\ops\n",
      "  copying pandas\\core\\ops\\dispatch.py -> build\\lib.win-amd64-cpython-311\\pandas\\core\\ops\n",
      "  copying pandas\\core\\ops\\docstrings.py -> build\\lib.win-amd64-cpython-311\\pandas\\core\\ops\n",
      "  copying pandas\\core\\ops\\invalid.py -> build\\lib.win-amd64-cpython-311\\pandas\\core\\ops\n",
      "  copying pandas\\core\\ops\\mask_ops.py -> build\\lib.win-amd64-cpython-311\\pandas\\core\\ops\n",
      "  copying pandas\\core\\ops\\methods.py -> build\\lib.win-amd64-cpython-311\\pandas\\core\\ops\n",
      "  copying pandas\\core\\ops\\missing.py -> build\\lib.win-amd64-cpython-311\\pandas\\core\\ops\n",
      "  copying pandas\\core\\ops\\__init__.py -> build\\lib.win-amd64-cpython-311\\pandas\\core\\ops\n",
      "  creating build\\lib.win-amd64-cpython-311\\pandas\\core\\reshape\n",
      "  copying pandas\\core\\reshape\\api.py -> build\\lib.win-amd64-cpython-311\\pandas\\core\\reshape\n",
      "  copying pandas\\core\\reshape\\concat.py -> build\\lib.win-amd64-cpython-311\\pandas\\core\\reshape\n",
      "  copying pandas\\core\\reshape\\melt.py -> build\\lib.win-amd64-cpython-311\\pandas\\core\\reshape\n",
      "  copying pandas\\core\\reshape\\merge.py -> build\\lib.win-amd64-cpython-311\\pandas\\core\\reshape\n",
      "  copying pandas\\core\\reshape\\pivot.py -> build\\lib.win-amd64-cpython-311\\pandas\\core\\reshape\n",
      "  copying pandas\\core\\reshape\\reshape.py -> build\\lib.win-amd64-cpython-311\\pandas\\core\\reshape\n",
      "  copying pandas\\core\\reshape\\tile.py -> build\\lib.win-amd64-cpython-311\\pandas\\core\\reshape\n",
      "  copying pandas\\core\\reshape\\util.py -> build\\lib.win-amd64-cpython-311\\pandas\\core\\reshape\n",
      "  copying pandas\\core\\reshape\\__init__.py -> build\\lib.win-amd64-cpython-311\\pandas\\core\\reshape\n",
      "  creating build\\lib.win-amd64-cpython-311\\pandas\\core\\sparse\n",
      "  copying pandas\\core\\sparse\\api.py -> build\\lib.win-amd64-cpython-311\\pandas\\core\\sparse\n",
      "  copying pandas\\core\\sparse\\__init__.py -> build\\lib.win-amd64-cpython-311\\pandas\\core\\sparse\n",
      "  creating build\\lib.win-amd64-cpython-311\\pandas\\core\\strings\n",
      "  copying pandas\\core\\strings\\accessor.py -> build\\lib.win-amd64-cpython-311\\pandas\\core\\strings\n",
      "  copying pandas\\core\\strings\\base.py -> build\\lib.win-amd64-cpython-311\\pandas\\core\\strings\n",
      "  copying pandas\\core\\strings\\object_array.py -> build\\lib.win-amd64-cpython-311\\pandas\\core\\strings\n",
      "  copying pandas\\core\\strings\\__init__.py -> build\\lib.win-amd64-cpython-311\\pandas\\core\\strings\n",
      "  creating build\\lib.win-amd64-cpython-311\\pandas\\core\\tools\n",
      "  copying pandas\\core\\tools\\datetimes.py -> build\\lib.win-amd64-cpython-311\\pandas\\core\\tools\n",
      "  copying pandas\\core\\tools\\numeric.py -> build\\lib.win-amd64-cpython-311\\pandas\\core\\tools\n",
      "  copying pandas\\core\\tools\\timedeltas.py -> build\\lib.win-amd64-cpython-311\\pandas\\core\\tools\n",
      "  copying pandas\\core\\tools\\times.py -> build\\lib.win-amd64-cpython-311\\pandas\\core\\tools\n",
      "  copying pandas\\core\\tools\\__init__.py -> build\\lib.win-amd64-cpython-311\\pandas\\core\\tools\n",
      "  creating build\\lib.win-amd64-cpython-311\\pandas\\core\\util\n",
      "  copying pandas\\core\\util\\hashing.py -> build\\lib.win-amd64-cpython-311\\pandas\\core\\util\n",
      "  copying pandas\\core\\util\\numba_.py -> build\\lib.win-amd64-cpython-311\\pandas\\core\\util\n",
      "  copying pandas\\core\\util\\__init__.py -> build\\lib.win-amd64-cpython-311\\pandas\\core\\util\n",
      "  creating build\\lib.win-amd64-cpython-311\\pandas\\core\\window\n",
      "  copying pandas\\core\\window\\common.py -> build\\lib.win-amd64-cpython-311\\pandas\\core\\window\n",
      "  copying pandas\\core\\window\\doc.py -> build\\lib.win-amd64-cpython-311\\pandas\\core\\window\n",
      "  copying pandas\\core\\window\\ewm.py -> build\\lib.win-amd64-cpython-311\\pandas\\core\\window\n",
      "  copying pandas\\core\\window\\expanding.py -> build\\lib.win-amd64-cpython-311\\pandas\\core\\window\n",
      "  copying pandas\\core\\window\\indexers.py -> build\\lib.win-amd64-cpython-311\\pandas\\core\\window\n",
      "  copying pandas\\core\\window\\numba_.py -> build\\lib.win-amd64-cpython-311\\pandas\\core\\window\n",
      "  copying pandas\\core\\window\\online.py -> build\\lib.win-amd64-cpython-311\\pandas\\core\\window\n",
      "  copying pandas\\core\\window\\rolling.py -> build\\lib.win-amd64-cpython-311\\pandas\\core\\window\n",
      "  copying pandas\\core\\window\\__init__.py -> build\\lib.win-amd64-cpython-311\\pandas\\core\\window\n",
      "  creating build\\lib.win-amd64-cpython-311\\pandas\\core\\arrays\\sparse\n",
      "  copying pandas\\core\\arrays\\sparse\\accessor.py -> build\\lib.win-amd64-cpython-311\\pandas\\core\\arrays\\sparse\n",
      "  copying pandas\\core\\arrays\\sparse\\array.py -> build\\lib.win-amd64-cpython-311\\pandas\\core\\arrays\\sparse\n",
      "  copying pandas\\core\\arrays\\sparse\\dtype.py -> build\\lib.win-amd64-cpython-311\\pandas\\core\\arrays\\sparse\n",
      "  copying pandas\\core\\arrays\\sparse\\scipy_sparse.py -> build\\lib.win-amd64-cpython-311\\pandas\\core\\arrays\\sparse\n",
      "  copying pandas\\core\\arrays\\sparse\\__init__.py -> build\\lib.win-amd64-cpython-311\\pandas\\core\\arrays\\sparse\n",
      "  creating build\\lib.win-amd64-cpython-311\\pandas\\io\\clipboard\n",
      "  copying pandas\\io\\clipboard\\__init__.py -> build\\lib.win-amd64-cpython-311\\pandas\\io\\clipboard\n",
      "  creating build\\lib.win-amd64-cpython-311\\pandas\\io\\excel\n",
      "  copying pandas\\io\\excel\\_base.py -> build\\lib.win-amd64-cpython-311\\pandas\\io\\excel\n",
      "  copying pandas\\io\\excel\\_odfreader.py -> build\\lib.win-amd64-cpython-311\\pandas\\io\\excel\n",
      "  copying pandas\\io\\excel\\_odswriter.py -> build\\lib.win-amd64-cpython-311\\pandas\\io\\excel\n",
      "  copying pandas\\io\\excel\\_openpyxl.py -> build\\lib.win-amd64-cpython-311\\pandas\\io\\excel\n",
      "  copying pandas\\io\\excel\\_pyxlsb.py -> build\\lib.win-amd64-cpython-311\\pandas\\io\\excel\n",
      "  copying pandas\\io\\excel\\_util.py -> build\\lib.win-amd64-cpython-311\\pandas\\io\\excel\n",
      "  copying pandas\\io\\excel\\_xlrd.py -> build\\lib.win-amd64-cpython-311\\pandas\\io\\excel\n",
      "  copying pandas\\io\\excel\\_xlsxwriter.py -> build\\lib.win-amd64-cpython-311\\pandas\\io\\excel\n",
      "  copying pandas\\io\\excel\\_xlwt.py -> build\\lib.win-amd64-cpython-311\\pandas\\io\\excel\n",
      "  copying pandas\\io\\excel\\__init__.py -> build\\lib.win-amd64-cpython-311\\pandas\\io\\excel\n",
      "  creating build\\lib.win-amd64-cpython-311\\pandas\\io\\formats\n",
      "  copying pandas\\io\\formats\\console.py -> build\\lib.win-amd64-cpython-311\\pandas\\io\\formats\n",
      "  copying pandas\\io\\formats\\css.py -> build\\lib.win-amd64-cpython-311\\pandas\\io\\formats\n",
      "  copying pandas\\io\\formats\\csvs.py -> build\\lib.win-amd64-cpython-311\\pandas\\io\\formats\n",
      "  copying pandas\\io\\formats\\excel.py -> build\\lib.win-amd64-cpython-311\\pandas\\io\\formats\n",
      "  copying pandas\\io\\formats\\format.py -> build\\lib.win-amd64-cpython-311\\pandas\\io\\formats\n",
      "  copying pandas\\io\\formats\\html.py -> build\\lib.win-amd64-cpython-311\\pandas\\io\\formats\n",
      "  copying pandas\\io\\formats\\info.py -> build\\lib.win-amd64-cpython-311\\pandas\\io\\formats\n",
      "  copying pandas\\io\\formats\\latex.py -> build\\lib.win-amd64-cpython-311\\pandas\\io\\formats\n",
      "  copying pandas\\io\\formats\\printing.py -> build\\lib.win-amd64-cpython-311\\pandas\\io\\formats\n",
      "  copying pandas\\io\\formats\\string.py -> build\\lib.win-amd64-cpython-311\\pandas\\io\\formats\n",
      "  copying pandas\\io\\formats\\style.py -> build\\lib.win-amd64-cpython-311\\pandas\\io\\formats\n",
      "  copying pandas\\io\\formats\\style_render.py -> build\\lib.win-amd64-cpython-311\\pandas\\io\\formats\n",
      "  copying pandas\\io\\formats\\xml.py -> build\\lib.win-amd64-cpython-311\\pandas\\io\\formats\n",
      "  copying pandas\\io\\formats\\_color_data.py -> build\\lib.win-amd64-cpython-311\\pandas\\io\\formats\n",
      "  copying pandas\\io\\formats\\__init__.py -> build\\lib.win-amd64-cpython-311\\pandas\\io\\formats\n",
      "  creating build\\lib.win-amd64-cpython-311\\pandas\\io\\json\n",
      "  copying pandas\\io\\json\\_json.py -> build\\lib.win-amd64-cpython-311\\pandas\\io\\json\n",
      "  copying pandas\\io\\json\\_normalize.py -> build\\lib.win-amd64-cpython-311\\pandas\\io\\json\n",
      "  copying pandas\\io\\json\\_table_schema.py -> build\\lib.win-amd64-cpython-311\\pandas\\io\\json\n",
      "  copying pandas\\io\\json\\__init__.py -> build\\lib.win-amd64-cpython-311\\pandas\\io\\json\n",
      "  creating build\\lib.win-amd64-cpython-311\\pandas\\io\\parsers\n",
      "  copying pandas\\io\\parsers\\base_parser.py -> build\\lib.win-amd64-cpython-311\\pandas\\io\\parsers\n",
      "  copying pandas\\io\\parsers\\c_parser_wrapper.py -> build\\lib.win-amd64-cpython-311\\pandas\\io\\parsers\n",
      "  copying pandas\\io\\parsers\\python_parser.py -> build\\lib.win-amd64-cpython-311\\pandas\\io\\parsers\n",
      "  copying pandas\\io\\parsers\\readers.py -> build\\lib.win-amd64-cpython-311\\pandas\\io\\parsers\n",
      "  copying pandas\\io\\parsers\\__init__.py -> build\\lib.win-amd64-cpython-311\\pandas\\io\\parsers\n",
      "  creating build\\lib.win-amd64-cpython-311\\pandas\\io\\sas\n",
      "  copying pandas\\io\\sas\\sas7bdat.py -> build\\lib.win-amd64-cpython-311\\pandas\\io\\sas\n",
      "  copying pandas\\io\\sas\\sasreader.py -> build\\lib.win-amd64-cpython-311\\pandas\\io\\sas\n",
      "  copying pandas\\io\\sas\\sas_constants.py -> build\\lib.win-amd64-cpython-311\\pandas\\io\\sas\n",
      "  copying pandas\\io\\sas\\sas_xport.py -> build\\lib.win-amd64-cpython-311\\pandas\\io\\sas\n",
      "  copying pandas\\io\\sas\\__init__.py -> build\\lib.win-amd64-cpython-311\\pandas\\io\\sas\n",
      "  creating build\\lib.win-amd64-cpython-311\\pandas\\plotting\\_matplotlib\n",
      "  copying pandas\\plotting\\_matplotlib\\boxplot.py -> build\\lib.win-amd64-cpython-311\\pandas\\plotting\\_matplotlib\n",
      "  copying pandas\\plotting\\_matplotlib\\compat.py -> build\\lib.win-amd64-cpython-311\\pandas\\plotting\\_matplotlib\n",
      "  copying pandas\\plotting\\_matplotlib\\converter.py -> build\\lib.win-amd64-cpython-311\\pandas\\plotting\\_matplotlib\n",
      "  copying pandas\\plotting\\_matplotlib\\core.py -> build\\lib.win-amd64-cpython-311\\pandas\\plotting\\_matplotlib\n",
      "  copying pandas\\plotting\\_matplotlib\\hist.py -> build\\lib.win-amd64-cpython-311\\pandas\\plotting\\_matplotlib\n",
      "  copying pandas\\plotting\\_matplotlib\\misc.py -> build\\lib.win-amd64-cpython-311\\pandas\\plotting\\_matplotlib\n",
      "  copying pandas\\plotting\\_matplotlib\\style.py -> build\\lib.win-amd64-cpython-311\\pandas\\plotting\\_matplotlib\n",
      "  copying pandas\\plotting\\_matplotlib\\timeseries.py -> build\\lib.win-amd64-cpython-311\\pandas\\plotting\\_matplotlib\n",
      "  copying pandas\\plotting\\_matplotlib\\tools.py -> build\\lib.win-amd64-cpython-311\\pandas\\plotting\\_matplotlib\n",
      "  copying pandas\\plotting\\_matplotlib\\__init__.py -> build\\lib.win-amd64-cpython-311\\pandas\\plotting\\_matplotlib\n",
      "  creating build\\lib.win-amd64-cpython-311\\pandas\\tests\\api\n",
      "  copying pandas\\tests\\api\\test_api.py -> build\\lib.win-amd64-cpython-311\\pandas\\tests\\api\n",
      "  copying pandas\\tests\\api\\test_types.py -> build\\lib.win-amd64-cpython-311\\pandas\\tests\\api\n",
      "  copying pandas\\tests\\api\\__init__.py -> build\\lib.win-amd64-cpython-311\\pandas\\tests\\api\n",
      "  creating build\\lib.win-amd64-cpython-311\\pandas\\tests\\apply\n",
      "  copying pandas\\tests\\apply\\common.py -> build\\lib.win-amd64-cpython-311\\pandas\\tests\\apply\n",
      "  copying pandas\\tests\\apply\\conftest.py -> build\\lib.win-amd64-cpython-311\\pandas\\tests\\apply\n",
      "  copying pandas\\tests\\apply\\test_frame_apply.py -> build\\lib.win-amd64-cpython-311\\pandas\\tests\\apply\n",
      "  copying pandas\\tests\\apply\\test_frame_apply_relabeling.py -> build\\lib.win-amd64-cpython-311\\pandas\\tests\\apply\n",
      "  copying pandas\\tests\\apply\\test_frame_transform.py -> build\\lib.win-amd64-cpython-311\\pandas\\tests\\apply\n",
      "  copying pandas\\tests\\apply\\test_invalid_arg.py -> build\\lib.win-amd64-cpython-311\\pandas\\tests\\apply\n",
      "  copying pandas\\tests\\apply\\test_series_apply.py -> build\\lib.win-amd64-cpython-311\\pandas\\tests\\apply\n",
      "  copying pandas\\tests\\apply\\test_series_apply_relabeling.py -> build\\lib.win-amd64-cpython-311\\pandas\\tests\\apply\n",
      "  copying pandas\\tests\\apply\\test_series_transform.py -> build\\lib.win-amd64-cpython-311\\pandas\\tests\\apply\n",
      "  copying pandas\\tests\\apply\\__init__.py -> build\\lib.win-amd64-cpython-311\\pandas\\tests\\apply\n",
      "  creating build\\lib.win-amd64-cpython-311\\pandas\\tests\\arithmetic\n",
      "  copying pandas\\tests\\arithmetic\\common.py -> build\\lib.win-amd64-cpython-311\\pandas\\tests\\arithmetic\n",
      "  copying pandas\\tests\\arithmetic\\conftest.py -> build\\lib.win-amd64-cpython-311\\pandas\\tests\\arithmetic\n",
      "  copying pandas\\tests\\arithmetic\\test_array_ops.py -> build\\lib.win-amd64-cpython-311\\pandas\\tests\\arithmetic\n",
      "  copying pandas\\tests\\arithmetic\\test_categorical.py -> build\\lib.win-amd64-cpython-311\\pandas\\tests\\arithmetic\n",
      "  copying pandas\\tests\\arithmetic\\test_datetime64.py -> build\\lib.win-amd64-cpython-311\\pandas\\tests\\arithmetic\n",
      "  copying pandas\\tests\\arithmetic\\test_interval.py -> build\\lib.win-amd64-cpython-311\\pandas\\tests\\arithmetic\n",
      "  copying pandas\\tests\\arithmetic\\test_numeric.py -> build\\lib.win-amd64-cpython-311\\pandas\\tests\\arithmetic\n",
      "  copying pandas\\tests\\arithmetic\\test_object.py -> build\\lib.win-amd64-cpython-311\\pandas\\tests\\arithmetic\n",
      "  copying pandas\\tests\\arithmetic\\test_period.py -> build\\lib.win-amd64-cpython-311\\pandas\\tests\\arithmetic\n",
      "  copying pandas\\tests\\arithmetic\\test_timedelta64.py -> build\\lib.win-amd64-cpython-311\\pandas\\tests\\arithmetic\n",
      "  copying pandas\\tests\\arithmetic\\__init__.py -> build\\lib.win-amd64-cpython-311\\pandas\\tests\\arithmetic\n",
      "  creating build\\lib.win-amd64-cpython-311\\pandas\\tests\\arrays\n",
      "  copying pandas\\tests\\arrays\\test_array.py -> build\\lib.win-amd64-cpython-311\\pandas\\tests\\arrays\n",
      "  copying pandas\\tests\\arrays\\test_datetimelike.py -> build\\lib.win-amd64-cpython-311\\pandas\\tests\\arrays\n",
      "  copying pandas\\tests\\arrays\\test_datetimes.py -> build\\lib.win-amd64-cpython-311\\pandas\\tests\\arrays\n",
      "  copying pandas\\tests\\arrays\\test_ndarray_backed.py -> build\\lib.win-amd64-cpython-311\\pandas\\tests\\arrays\n",
      "  copying pandas\\tests\\arrays\\test_numpy.py -> build\\lib.win-amd64-cpython-311\\pandas\\tests\\arrays\n",
      "  copying pandas\\tests\\arrays\\test_period.py -> build\\lib.win-amd64-cpython-311\\pandas\\tests\\arrays\n",
      "  copying pandas\\tests\\arrays\\test_timedeltas.py -> build\\lib.win-amd64-cpython-311\\pandas\\tests\\arrays\n",
      "  copying pandas\\tests\\arrays\\__init__.py -> build\\lib.win-amd64-cpython-311\\pandas\\tests\\arrays\n",
      "  creating build\\lib.win-amd64-cpython-311\\pandas\\tests\\base\n",
      "  copying pandas\\tests\\base\\common.py -> build\\lib.win-amd64-cpython-311\\pandas\\tests\\base\n",
      "  copying pandas\\tests\\base\\test_constructors.py -> build\\lib.win-amd64-cpython-311\\pandas\\tests\\base\n",
      "  copying pandas\\tests\\base\\test_conversion.py -> build\\lib.win-amd64-cpython-311\\pandas\\tests\\base\n",
      "  copying pandas\\tests\\base\\test_fillna.py -> build\\lib.win-amd64-cpython-311\\pandas\\tests\\base\n",
      "  copying pandas\\tests\\base\\test_misc.py -> build\\lib.win-amd64-cpython-311\\pandas\\tests\\base\n",
      "  copying pandas\\tests\\base\\test_transpose.py -> build\\lib.win-amd64-cpython-311\\pandas\\tests\\base\n",
      "  copying pandas\\tests\\base\\test_unique.py -> build\\lib.win-amd64-cpython-311\\pandas\\tests\\base\n",
      "  copying pandas\\tests\\base\\test_value_counts.py -> build\\lib.win-amd64-cpython-311\\pandas\\tests\\base\n",
      "  copying pandas\\tests\\base\\__init__.py -> build\\lib.win-amd64-cpython-311\\pandas\\tests\\base\n",
      "  creating build\\lib.win-amd64-cpython-311\\pandas\\tests\\computation\n",
      "  copying pandas\\tests\\computation\\test_compat.py -> build\\lib.win-amd64-cpython-311\\pandas\\tests\\computation\n",
      "  copying pandas\\tests\\computation\\test_eval.py -> build\\lib.win-amd64-cpython-311\\pandas\\tests\\computation\n",
      "  copying pandas\\tests\\computation\\__init__.py -> build\\lib.win-amd64-cpython-311\\pandas\\tests\\computation\n",
      "  creating build\\lib.win-amd64-cpython-311\\pandas\\tests\\config\n",
      "  copying pandas\\tests\\config\\test_config.py -> build\\lib.win-amd64-cpython-311\\pandas\\tests\\config\n",
      "  copying pandas\\tests\\config\\test_localization.py -> build\\lib.win-amd64-cpython-311\\pandas\\tests\\config\n",
      "  copying pandas\\tests\\config\\__init__.py -> build\\lib.win-amd64-cpython-311\\pandas\\tests\\config\n",
      "  creating build\\lib.win-amd64-cpython-311\\pandas\\tests\\construction\n",
      "  copying pandas\\tests\\construction\\test_extract_array.py -> build\\lib.win-amd64-cpython-311\\pandas\\tests\\construction\n",
      "  copying pandas\\tests\\construction\\__init__.py -> build\\lib.win-amd64-cpython-311\\pandas\\tests\\construction\n",
      "  creating build\\lib.win-amd64-cpython-311\\pandas\\tests\\dtypes\n",
      "  copying pandas\\tests\\dtypes\\test_common.py -> build\\lib.win-amd64-cpython-311\\pandas\\tests\\dtypes\n",
      "  copying pandas\\tests\\dtypes\\test_concat.py -> build\\lib.win-amd64-cpython-311\\pandas\\tests\\dtypes\n",
      "  copying pandas\\tests\\dtypes\\test_dtypes.py -> build\\lib.win-amd64-cpython-311\\pandas\\tests\\dtypes\n",
      "  copying pandas\\tests\\dtypes\\test_generic.py -> build\\lib.win-amd64-cpython-311\\pandas\\tests\\dtypes\n",
      "  copying pandas\\tests\\dtypes\\test_inference.py -> build\\lib.win-amd64-cpython-311\\pandas\\tests\\dtypes\n",
      "  copying pandas\\tests\\dtypes\\test_missing.py -> build\\lib.win-amd64-cpython-311\\pandas\\tests\\dtypes\n",
      "  copying pandas\\tests\\dtypes\\__init__.py -> build\\lib.win-amd64-cpython-311\\pandas\\tests\\dtypes\n",
      "  creating build\\lib.win-amd64-cpython-311\\pandas\\tests\\extension\n",
      "  copying pandas\\tests\\extension\\conftest.py -> build\\lib.win-amd64-cpython-311\\pandas\\tests\\extension\n",
      "  copying pandas\\tests\\extension\\test_boolean.py -> build\\lib.win-amd64-cpython-311\\pandas\\tests\\extension\n",
      "  copying pandas\\tests\\extension\\test_categorical.py -> build\\lib.win-amd64-cpython-311\\pandas\\tests\\extension\n",
      "  copying pandas\\tests\\extension\\test_common.py -> build\\lib.win-amd64-cpython-311\\pandas\\tests\\extension\n",
      "  copying pandas\\tests\\extension\\test_datetime.py -> build\\lib.win-amd64-cpython-311\\pandas\\tests\\extension\n",
      "  copying pandas\\tests\\extension\\test_extension.py -> build\\lib.win-amd64-cpython-311\\pandas\\tests\\extension\n",
      "  copying pandas\\tests\\extension\\test_external_block.py -> build\\lib.win-amd64-cpython-311\\pandas\\tests\\extension\n",
      "  copying pandas\\tests\\extension\\test_floating.py -> build\\lib.win-amd64-cpython-311\\pandas\\tests\\extension\n",
      "  copying pandas\\tests\\extension\\test_integer.py -> build\\lib.win-amd64-cpython-311\\pandas\\tests\\extension\n",
      "  copying pandas\\tests\\extension\\test_interval.py -> build\\lib.win-amd64-cpython-311\\pandas\\tests\\extension\n",
      "  copying pandas\\tests\\extension\\test_numpy.py -> build\\lib.win-amd64-cpython-311\\pandas\\tests\\extension\n",
      "  copying pandas\\tests\\extension\\test_period.py -> build\\lib.win-amd64-cpython-311\\pandas\\tests\\extension\n",
      "  copying pandas\\tests\\extension\\test_sparse.py -> build\\lib.win-amd64-cpython-311\\pandas\\tests\\extension\n",
      "  copying pandas\\tests\\extension\\test_string.py -> build\\lib.win-amd64-cpython-311\\pandas\\tests\\extension\n",
      "  copying pandas\\tests\\extension\\__init__.py -> build\\lib.win-amd64-cpython-311\\pandas\\tests\\extension\n",
      "  creating build\\lib.win-amd64-cpython-311\\pandas\\tests\\frame\n",
      "  copying pandas\\tests\\frame\\common.py -> build\\lib.win-amd64-cpython-311\\pandas\\tests\\frame\n",
      "  copying pandas\\tests\\frame\\conftest.py -> build\\lib.win-amd64-cpython-311\\pandas\\tests\\frame\n",
      "  copying pandas\\tests\\frame\\test_alter_axes.py -> build\\lib.win-amd64-cpython-311\\pandas\\tests\\frame\n",
      "  copying pandas\\tests\\frame\\test_api.py -> build\\lib.win-amd64-cpython-311\\pandas\\tests\\frame\n",
      "  copying pandas\\tests\\frame\\test_arithmetic.py -> build\\lib.win-amd64-cpython-311\\pandas\\tests\\frame\n",
      "  copying pandas\\tests\\frame\\test_block_internals.py -> build\\lib.win-amd64-cpython-311\\pandas\\tests\\frame\n",
      "  copying pandas\\tests\\frame\\test_constructors.py -> build\\lib.win-amd64-cpython-311\\pandas\\tests\\frame\n",
      "  copying pandas\\tests\\frame\\test_cumulative.py -> build\\lib.win-amd64-cpython-311\\pandas\\tests\\frame\n",
      "  copying pandas\\tests\\frame\\test_iteration.py -> build\\lib.win-amd64-cpython-311\\pandas\\tests\\frame\n",
      "  copying pandas\\tests\\frame\\test_logical_ops.py -> build\\lib.win-amd64-cpython-311\\pandas\\tests\\frame\n",
      "  copying pandas\\tests\\frame\\test_nonunique_indexes.py -> build\\lib.win-amd64-cpython-311\\pandas\\tests\\frame\n",
      "  copying pandas\\tests\\frame\\test_npfuncs.py -> build\\lib.win-amd64-cpython-311\\pandas\\tests\\frame\n",
      "  copying pandas\\tests\\frame\\test_query_eval.py -> build\\lib.win-amd64-cpython-311\\pandas\\tests\\frame\n",
      "  copying pandas\\tests\\frame\\test_reductions.py -> build\\lib.win-amd64-cpython-311\\pandas\\tests\\frame\n",
      "  copying pandas\\tests\\frame\\test_repr_info.py -> build\\lib.win-amd64-cpython-311\\pandas\\tests\\frame\n",
      "  copying pandas\\tests\\frame\\test_stack_unstack.py -> build\\lib.win-amd64-cpython-311\\pandas\\tests\\frame\n",
      "  copying pandas\\tests\\frame\\test_subclass.py -> build\\lib.win-amd64-cpython-311\\pandas\\tests\\frame\n",
      "  copying pandas\\tests\\frame\\test_ufunc.py -> build\\lib.win-amd64-cpython-311\\pandas\\tests\\frame\n",
      "  copying pandas\\tests\\frame\\test_unary.py -> build\\lib.win-amd64-cpython-311\\pandas\\tests\\frame\n",
      "  copying pandas\\tests\\frame\\test_validate.py -> build\\lib.win-amd64-cpython-311\\pandas\\tests\\frame\n",
      "  copying pandas\\tests\\frame\\__init__.py -> build\\lib.win-amd64-cpython-311\\pandas\\tests\\frame\n",
      "  creating build\\lib.win-amd64-cpython-311\\pandas\\tests\\generic\n",
      "  copying pandas\\tests\\generic\\test_duplicate_labels.py -> build\\lib.win-amd64-cpython-311\\pandas\\tests\\generic\n",
      "  copying pandas\\tests\\generic\\test_finalize.py -> build\\lib.win-amd64-cpython-311\\pandas\\tests\\generic\n",
      "  copying pandas\\tests\\generic\\test_frame.py -> build\\lib.win-amd64-cpython-311\\pandas\\tests\\generic\n",
      "  copying pandas\\tests\\generic\\test_generic.py -> build\\lib.win-amd64-cpython-311\\pandas\\tests\\generic\n",
      "  copying pandas\\tests\\generic\\test_label_or_level_utils.py -> build\\lib.win-amd64-cpython-311\\pandas\\tests\\generic\n",
      "  copying pandas\\tests\\generic\\test_series.py -> build\\lib.win-amd64-cpython-311\\pandas\\tests\\generic\n",
      "  copying pandas\\tests\\generic\\test_to_xarray.py -> build\\lib.win-amd64-cpython-311\\pandas\\tests\\generic\n",
      "  copying pandas\\tests\\generic\\__init__.py -> build\\lib.win-amd64-cpython-311\\pandas\\tests\\generic\n",
      "  creating build\\lib.win-amd64-cpython-311\\pandas\\tests\\groupby\n",
      "  copying pandas\\tests\\groupby\\conftest.py -> build\\lib.win-amd64-cpython-311\\pandas\\tests\\groupby\n",
      "  copying pandas\\tests\\groupby\\test_allowlist.py -> build\\lib.win-amd64-cpython-311\\pandas\\tests\\groupby\n",
      "  copying pandas\\tests\\groupby\\test_any_all.py -> build\\lib.win-amd64-cpython-311\\pandas\\tests\\groupby\n",
      "  copying pandas\\tests\\groupby\\test_apply.py -> build\\lib.win-amd64-cpython-311\\pandas\\tests\\groupby\n",
      "  copying pandas\\tests\\groupby\\test_apply_mutate.py -> build\\lib.win-amd64-cpython-311\\pandas\\tests\\groupby\n",
      "  copying pandas\\tests\\groupby\\test_bin_groupby.py -> build\\lib.win-amd64-cpython-311\\pandas\\tests\\groupby\n",
      "  copying pandas\\tests\\groupby\\test_categorical.py -> build\\lib.win-amd64-cpython-311\\pandas\\tests\\groupby\n",
      "  copying pandas\\tests\\groupby\\test_counting.py -> build\\lib.win-amd64-cpython-311\\pandas\\tests\\groupby\n",
      "  copying pandas\\tests\\groupby\\test_filters.py -> build\\lib.win-amd64-cpython-311\\pandas\\tests\\groupby\n",
      "  copying pandas\\tests\\groupby\\test_function.py -> build\\lib.win-amd64-cpython-311\\pandas\\tests\\groupby\n",
      "  copying pandas\\tests\\groupby\\test_groupby.py -> build\\lib.win-amd64-cpython-311\\pandas\\tests\\groupby\n",
      "  copying pandas\\tests\\groupby\\test_groupby_dropna.py -> build\\lib.win-amd64-cpython-311\\pandas\\tests\\groupby\n",
      "  copying pandas\\tests\\groupby\\test_groupby_shift_diff.py -> build\\lib.win-amd64-cpython-311\\pandas\\tests\\groupby\n",
      "  copying pandas\\tests\\groupby\\test_groupby_subclass.py -> build\\lib.win-amd64-cpython-311\\pandas\\tests\\groupby\n",
      "  copying pandas\\tests\\groupby\\test_grouping.py -> build\\lib.win-amd64-cpython-311\\pandas\\tests\\groupby\n",
      "  copying pandas\\tests\\groupby\\test_index_as_string.py -> build\\lib.win-amd64-cpython-311\\pandas\\tests\\groupby\n",
      "  copying pandas\\tests\\groupby\\test_libgroupby.py -> build\\lib.win-amd64-cpython-311\\pandas\\tests\\groupby\n",
      "  copying pandas\\tests\\groupby\\test_min_max.py -> build\\lib.win-amd64-cpython-311\\pandas\\tests\\groupby\n",
      "  copying pandas\\tests\\groupby\\test_missing.py -> build\\lib.win-amd64-cpython-311\\pandas\\tests\\groupby\n",
      "  copying pandas\\tests\\groupby\\test_nth.py -> build\\lib.win-amd64-cpython-311\\pandas\\tests\\groupby\n",
      "  copying pandas\\tests\\groupby\\test_nunique.py -> build\\lib.win-amd64-cpython-311\\pandas\\tests\\groupby\n",
      "  copying pandas\\tests\\groupby\\test_pipe.py -> build\\lib.win-amd64-cpython-311\\pandas\\tests\\groupby\n",
      "  copying pandas\\tests\\groupby\\test_quantile.py -> build\\lib.win-amd64-cpython-311\\pandas\\tests\\groupby\n",
      "  copying pandas\\tests\\groupby\\test_rank.py -> build\\lib.win-amd64-cpython-311\\pandas\\tests\\groupby\n",
      "  copying pandas\\tests\\groupby\\test_sample.py -> build\\lib.win-amd64-cpython-311\\pandas\\tests\\groupby\n",
      "  copying pandas\\tests\\groupby\\test_size.py -> build\\lib.win-amd64-cpython-311\\pandas\\tests\\groupby\n",
      "  copying pandas\\tests\\groupby\\test_timegrouper.py -> build\\lib.win-amd64-cpython-311\\pandas\\tests\\groupby\n",
      "  copying pandas\\tests\\groupby\\test_value_counts.py -> build\\lib.win-amd64-cpython-311\\pandas\\tests\\groupby\n",
      "  copying pandas\\tests\\groupby\\__init__.py -> build\\lib.win-amd64-cpython-311\\pandas\\tests\\groupby\n",
      "  creating build\\lib.win-amd64-cpython-311\\pandas\\tests\\indexes\n",
      "  copying pandas\\tests\\indexes\\common.py -> build\\lib.win-amd64-cpython-311\\pandas\\tests\\indexes\n",
      "  copying pandas\\tests\\indexes\\conftest.py -> build\\lib.win-amd64-cpython-311\\pandas\\tests\\indexes\n",
      "  copying pandas\\tests\\indexes\\datetimelike.py -> build\\lib.win-amd64-cpython-311\\pandas\\tests\\indexes\n",
      "  copying pandas\\tests\\indexes\\test_any_index.py -> build\\lib.win-amd64-cpython-311\\pandas\\tests\\indexes\n",
      "  copying pandas\\tests\\indexes\\test_base.py -> build\\lib.win-amd64-cpython-311\\pandas\\tests\\indexes\n",
      "  copying pandas\\tests\\indexes\\test_common.py -> build\\lib.win-amd64-cpython-311\\pandas\\tests\\indexes\n",
      "  copying pandas\\tests\\indexes\\test_engines.py -> build\\lib.win-amd64-cpython-311\\pandas\\tests\\indexes\n",
      "  copying pandas\\tests\\indexes\\test_frozen.py -> build\\lib.win-amd64-cpython-311\\pandas\\tests\\indexes\n",
      "  copying pandas\\tests\\indexes\\test_indexing.py -> build\\lib.win-amd64-cpython-311\\pandas\\tests\\indexes\n",
      "  copying pandas\\tests\\indexes\\test_index_new.py -> build\\lib.win-amd64-cpython-311\\pandas\\tests\\indexes\n",
      "  copying pandas\\tests\\indexes\\test_numpy_compat.py -> build\\lib.win-amd64-cpython-311\\pandas\\tests\\indexes\n",
      "  copying pandas\\tests\\indexes\\test_setops.py -> build\\lib.win-amd64-cpython-311\\pandas\\tests\\indexes\n",
      "  copying pandas\\tests\\indexes\\__init__.py -> build\\lib.win-amd64-cpython-311\\pandas\\tests\\indexes\n",
      "  creating build\\lib.win-amd64-cpython-311\\pandas\\tests\\indexing\n",
      "  copying pandas\\tests\\indexing\\common.py -> build\\lib.win-amd64-cpython-311\\pandas\\tests\\indexing\n",
      "  copying pandas\\tests\\indexing\\test_at.py -> build\\lib.win-amd64-cpython-311\\pandas\\tests\\indexing\n",
      "  copying pandas\\tests\\indexing\\test_categorical.py -> build\\lib.win-amd64-cpython-311\\pandas\\tests\\indexing\n",
      "  copying pandas\\tests\\indexing\\test_chaining_and_caching.py -> build\\lib.win-amd64-cpython-311\\pandas\\tests\\indexing\n",
      "  copying pandas\\tests\\indexing\\test_check_indexer.py -> build\\lib.win-amd64-cpython-311\\pandas\\tests\\indexing\n",
      "  copying pandas\\tests\\indexing\\test_coercion.py -> build\\lib.win-amd64-cpython-311\\pandas\\tests\\indexing\n",
      "  copying pandas\\tests\\indexing\\test_datetime.py -> build\\lib.win-amd64-cpython-311\\pandas\\tests\\indexing\n",
      "  copying pandas\\tests\\indexing\\test_floats.py -> build\\lib.win-amd64-cpython-311\\pandas\\tests\\indexing\n",
      "  copying pandas\\tests\\indexing\\test_iat.py -> build\\lib.win-amd64-cpython-311\\pandas\\tests\\indexing\n",
      "  copying pandas\\tests\\indexing\\test_iloc.py -> build\\lib.win-amd64-cpython-311\\pandas\\tests\\indexing\n",
      "  copying pandas\\tests\\indexing\\test_indexers.py -> build\\lib.win-amd64-cpython-311\\pandas\\tests\\indexing\n",
      "  copying pandas\\tests\\indexing\\test_indexing.py -> build\\lib.win-amd64-cpython-311\\pandas\\tests\\indexing\n",
      "  copying pandas\\tests\\indexing\\test_loc.py -> build\\lib.win-amd64-cpython-311\\pandas\\tests\\indexing\n",
      "  copying pandas\\tests\\indexing\\test_na_indexing.py -> build\\lib.win-amd64-cpython-311\\pandas\\tests\\indexing\n",
      "  copying pandas\\tests\\indexing\\test_partial.py -> build\\lib.win-amd64-cpython-311\\pandas\\tests\\indexing\n",
      "  copying pandas\\tests\\indexing\\test_scalar.py -> build\\lib.win-amd64-cpython-311\\pandas\\tests\\indexing\n",
      "  copying pandas\\tests\\indexing\\__init__.py -> build\\lib.win-amd64-cpython-311\\pandas\\tests\\indexing\n",
      "  creating build\\lib.win-amd64-cpython-311\\pandas\\tests\\internals\n",
      "  copying pandas\\tests\\internals\\test_api.py -> build\\lib.win-amd64-cpython-311\\pandas\\tests\\internals\n",
      "  copying pandas\\tests\\internals\\test_internals.py -> build\\lib.win-amd64-cpython-311\\pandas\\tests\\internals\n",
      "  copying pandas\\tests\\internals\\test_managers.py -> build\\lib.win-amd64-cpython-311\\pandas\\tests\\internals\n",
      "  copying pandas\\tests\\internals\\__init__.py -> build\\lib.win-amd64-cpython-311\\pandas\\tests\\internals\n",
      "  creating build\\lib.win-amd64-cpython-311\\pandas\\tests\\io\n",
      "  copying pandas\\tests\\io\\conftest.py -> build\\lib.win-amd64-cpython-311\\pandas\\tests\\io\n",
      "  copying pandas\\tests\\io\\generate_legacy_storage_files.py -> build\\lib.win-amd64-cpython-311\\pandas\\tests\\io\n",
      "  copying pandas\\tests\\io\\test_clipboard.py -> build\\lib.win-amd64-cpython-311\\pandas\\tests\\io\n",
      "  copying pandas\\tests\\io\\test_common.py -> build\\lib.win-amd64-cpython-311\\pandas\\tests\\io\n",
      "  copying pandas\\tests\\io\\test_compression.py -> build\\lib.win-amd64-cpython-311\\pandas\\tests\\io\n",
      "  copying pandas\\tests\\io\\test_date_converters.py -> build\\lib.win-amd64-cpython-311\\pandas\\tests\\io\n",
      "  copying pandas\\tests\\io\\test_feather.py -> build\\lib.win-amd64-cpython-311\\pandas\\tests\\io\n",
      "  copying pandas\\tests\\io\\test_fsspec.py -> build\\lib.win-amd64-cpython-311\\pandas\\tests\\io\n",
      "  copying pandas\\tests\\io\\test_gbq.py -> build\\lib.win-amd64-cpython-311\\pandas\\tests\\io\n",
      "  copying pandas\\tests\\io\\test_gcs.py -> build\\lib.win-amd64-cpython-311\\pandas\\tests\\io\n",
      "  copying pandas\\tests\\io\\test_html.py -> build\\lib.win-amd64-cpython-311\\pandas\\tests\\io\n",
      "  copying pandas\\tests\\io\\test_orc.py -> build\\lib.win-amd64-cpython-311\\pandas\\tests\\io\n",
      "  copying pandas\\tests\\io\\test_parquet.py -> build\\lib.win-amd64-cpython-311\\pandas\\tests\\io\n",
      "  copying pandas\\tests\\io\\test_pickle.py -> build\\lib.win-amd64-cpython-311\\pandas\\tests\\io\n",
      "  copying pandas\\tests\\io\\test_s3.py -> build\\lib.win-amd64-cpython-311\\pandas\\tests\\io\n",
      "  copying pandas\\tests\\io\\test_spss.py -> build\\lib.win-amd64-cpython-311\\pandas\\tests\\io\n",
      "  copying pandas\\tests\\io\\test_sql.py -> build\\lib.win-amd64-cpython-311\\pandas\\tests\\io\n",
      "  copying pandas\\tests\\io\\test_stata.py -> build\\lib.win-amd64-cpython-311\\pandas\\tests\\io\n",
      "  copying pandas\\tests\\io\\test_user_agent.py -> build\\lib.win-amd64-cpython-311\\pandas\\tests\\io\n",
      "  copying pandas\\tests\\io\\__init__.py -> build\\lib.win-amd64-cpython-311\\pandas\\tests\\io\n",
      "  creating build\\lib.win-amd64-cpython-311\\pandas\\tests\\libs\n",
      "  copying pandas\\tests\\libs\\test_hashtable.py -> build\\lib.win-amd64-cpython-311\\pandas\\tests\\libs\n",
      "  copying pandas\\tests\\libs\\test_join.py -> build\\lib.win-amd64-cpython-311\\pandas\\tests\\libs\n",
      "  copying pandas\\tests\\libs\\test_lib.py -> build\\lib.win-amd64-cpython-311\\pandas\\tests\\libs\n",
      "  copying pandas\\tests\\libs\\__init__.py -> build\\lib.win-amd64-cpython-311\\pandas\\tests\\libs\n",
      "  creating build\\lib.win-amd64-cpython-311\\pandas\\tests\\plotting\n",
      "  copying pandas\\tests\\plotting\\common.py -> build\\lib.win-amd64-cpython-311\\pandas\\tests\\plotting\n",
      "  copying pandas\\tests\\plotting\\test_backend.py -> build\\lib.win-amd64-cpython-311\\pandas\\tests\\plotting\n",
      "  copying pandas\\tests\\plotting\\test_boxplot_method.py -> build\\lib.win-amd64-cpython-311\\pandas\\tests\\plotting\n",
      "  copying pandas\\tests\\plotting\\test_common.py -> build\\lib.win-amd64-cpython-311\\pandas\\tests\\plotting\n",
      "  copying pandas\\tests\\plotting\\test_converter.py -> build\\lib.win-amd64-cpython-311\\pandas\\tests\\plotting\n",
      "  copying pandas\\tests\\plotting\\test_datetimelike.py -> build\\lib.win-amd64-cpython-311\\pandas\\tests\\plotting\n",
      "  copying pandas\\tests\\plotting\\test_groupby.py -> build\\lib.win-amd64-cpython-311\\pandas\\tests\\plotting\n",
      "  copying pandas\\tests\\plotting\\test_hist_method.py -> build\\lib.win-amd64-cpython-311\\pandas\\tests\\plotting\n",
      "  copying pandas\\tests\\plotting\\test_misc.py -> build\\lib.win-amd64-cpython-311\\pandas\\tests\\plotting\n",
      "  copying pandas\\tests\\plotting\\test_series.py -> build\\lib.win-amd64-cpython-311\\pandas\\tests\\plotting\n",
      "  copying pandas\\tests\\plotting\\test_style.py -> build\\lib.win-amd64-cpython-311\\pandas\\tests\\plotting\n",
      "  copying pandas\\tests\\plotting\\__init__.py -> build\\lib.win-amd64-cpython-311\\pandas\\tests\\plotting\n",
      "  creating build\\lib.win-amd64-cpython-311\\pandas\\tests\\reductions\n",
      "  copying pandas\\tests\\reductions\\test_reductions.py -> build\\lib.win-amd64-cpython-311\\pandas\\tests\\reductions\n",
      "  copying pandas\\tests\\reductions\\test_stat_reductions.py -> build\\lib.win-amd64-cpython-311\\pandas\\tests\\reductions\n",
      "  copying pandas\\tests\\reductions\\__init__.py -> build\\lib.win-amd64-cpython-311\\pandas\\tests\\reductions\n",
      "  creating build\\lib.win-amd64-cpython-311\\pandas\\tests\\resample\n",
      "  copying pandas\\tests\\resample\\conftest.py -> build\\lib.win-amd64-cpython-311\\pandas\\tests\\resample\n",
      "  copying pandas\\tests\\resample\\test_base.py -> build\\lib.win-amd64-cpython-311\\pandas\\tests\\resample\n",
      "  copying pandas\\tests\\resample\\test_datetime_index.py -> build\\lib.win-amd64-cpython-311\\pandas\\tests\\resample\n",
      "  copying pandas\\tests\\resample\\test_deprecated.py -> build\\lib.win-amd64-cpython-311\\pandas\\tests\\resample\n",
      "  copying pandas\\tests\\resample\\test_period_index.py -> build\\lib.win-amd64-cpython-311\\pandas\\tests\\resample\n",
      "  copying pandas\\tests\\resample\\test_resampler_grouper.py -> build\\lib.win-amd64-cpython-311\\pandas\\tests\\resample\n",
      "  copying pandas\\tests\\resample\\test_resample_api.py -> build\\lib.win-amd64-cpython-311\\pandas\\tests\\resample\n",
      "  copying pandas\\tests\\resample\\test_timedelta.py -> build\\lib.win-amd64-cpython-311\\pandas\\tests\\resample\n",
      "  copying pandas\\tests\\resample\\test_time_grouper.py -> build\\lib.win-amd64-cpython-311\\pandas\\tests\\resample\n",
      "  copying pandas\\tests\\resample\\__init__.py -> build\\lib.win-amd64-cpython-311\\pandas\\tests\\resample\n",
      "  creating build\\lib.win-amd64-cpython-311\\pandas\\tests\\reshape\n",
      "  copying pandas\\tests\\reshape\\test_crosstab.py -> build\\lib.win-amd64-cpython-311\\pandas\\tests\\reshape\n",
      "  copying pandas\\tests\\reshape\\test_cut.py -> build\\lib.win-amd64-cpython-311\\pandas\\tests\\reshape\n",
      "  copying pandas\\tests\\reshape\\test_get_dummies.py -> build\\lib.win-amd64-cpython-311\\pandas\\tests\\reshape\n",
      "  copying pandas\\tests\\reshape\\test_melt.py -> build\\lib.win-amd64-cpython-311\\pandas\\tests\\reshape\n",
      "  copying pandas\\tests\\reshape\\test_pivot.py -> build\\lib.win-amd64-cpython-311\\pandas\\tests\\reshape\n",
      "  copying pandas\\tests\\reshape\\test_pivot_multilevel.py -> build\\lib.win-amd64-cpython-311\\pandas\\tests\\reshape\n",
      "  copying pandas\\tests\\reshape\\test_qcut.py -> build\\lib.win-amd64-cpython-311\\pandas\\tests\\reshape\n",
      "  copying pandas\\tests\\reshape\\test_union_categoricals.py -> build\\lib.win-amd64-cpython-311\\pandas\\tests\\reshape\n",
      "  copying pandas\\tests\\reshape\\test_util.py -> build\\lib.win-amd64-cpython-311\\pandas\\tests\\reshape\n",
      "  copying pandas\\tests\\reshape\\__init__.py -> build\\lib.win-amd64-cpython-311\\pandas\\tests\\reshape\n",
      "  creating build\\lib.win-amd64-cpython-311\\pandas\\tests\\scalar\n",
      "  copying pandas\\tests\\scalar\\test_nat.py -> build\\lib.win-amd64-cpython-311\\pandas\\tests\\scalar\n",
      "  copying pandas\\tests\\scalar\\test_na_scalar.py -> build\\lib.win-amd64-cpython-311\\pandas\\tests\\scalar\n",
      "  copying pandas\\tests\\scalar\\__init__.py -> build\\lib.win-amd64-cpython-311\\pandas\\tests\\scalar\n",
      "  creating build\\lib.win-amd64-cpython-311\\pandas\\tests\\series\n",
      "  copying pandas\\tests\\series\\test_api.py -> build\\lib.win-amd64-cpython-311\\pandas\\tests\\series\n",
      "  copying pandas\\tests\\series\\test_arithmetic.py -> build\\lib.win-amd64-cpython-311\\pandas\\tests\\series\n",
      "  copying pandas\\tests\\series\\test_constructors.py -> build\\lib.win-amd64-cpython-311\\pandas\\tests\\series\n",
      "  copying pandas\\tests\\series\\test_cumulative.py -> build\\lib.win-amd64-cpython-311\\pandas\\tests\\series\n",
      "  copying pandas\\tests\\series\\test_iteration.py -> build\\lib.win-amd64-cpython-311\\pandas\\tests\\series\n",
      "  copying pandas\\tests\\series\\test_logical_ops.py -> build\\lib.win-amd64-cpython-311\\pandas\\tests\\series\n",
      "  copying pandas\\tests\\series\\test_missing.py -> build\\lib.win-amd64-cpython-311\\pandas\\tests\\series\n",
      "  copying pandas\\tests\\series\\test_npfuncs.py -> build\\lib.win-amd64-cpython-311\\pandas\\tests\\series\n",
      "  copying pandas\\tests\\series\\test_reductions.py -> build\\lib.win-amd64-cpython-311\\pandas\\tests\\series\n",
      "  copying pandas\\tests\\series\\test_repr.py -> build\\lib.win-amd64-cpython-311\\pandas\\tests\\series\n",
      "  copying pandas\\tests\\series\\test_subclass.py -> build\\lib.win-amd64-cpython-311\\pandas\\tests\\series\n",
      "  copying pandas\\tests\\series\\test_ufunc.py -> build\\lib.win-amd64-cpython-311\\pandas\\tests\\series\n",
      "  copying pandas\\tests\\series\\test_unary.py -> build\\lib.win-amd64-cpython-311\\pandas\\tests\\series\n",
      "  copying pandas\\tests\\series\\test_validate.py -> build\\lib.win-amd64-cpython-311\\pandas\\tests\\series\n",
      "  copying pandas\\tests\\series\\__init__.py -> build\\lib.win-amd64-cpython-311\\pandas\\tests\\series\n",
      "  creating build\\lib.win-amd64-cpython-311\\pandas\\tests\\strings\n",
      "  copying pandas\\tests\\strings\\conftest.py -> build\\lib.win-amd64-cpython-311\\pandas\\tests\\strings\n",
      "  copying pandas\\tests\\strings\\test_api.py -> build\\lib.win-amd64-cpython-311\\pandas\\tests\\strings\n",
      "  copying pandas\\tests\\strings\\test_case_justify.py -> build\\lib.win-amd64-cpython-311\\pandas\\tests\\strings\n",
      "  copying pandas\\tests\\strings\\test_cat.py -> build\\lib.win-amd64-cpython-311\\pandas\\tests\\strings\n",
      "  copying pandas\\tests\\strings\\test_extract.py -> build\\lib.win-amd64-cpython-311\\pandas\\tests\\strings\n",
      "  copying pandas\\tests\\strings\\test_find_replace.py -> build\\lib.win-amd64-cpython-311\\pandas\\tests\\strings\n",
      "  copying pandas\\tests\\strings\\test_get_dummies.py -> build\\lib.win-amd64-cpython-311\\pandas\\tests\\strings\n",
      "  copying pandas\\tests\\strings\\test_split_partition.py -> build\\lib.win-amd64-cpython-311\\pandas\\tests\\strings\n",
      "  copying pandas\\tests\\strings\\test_strings.py -> build\\lib.win-amd64-cpython-311\\pandas\\tests\\strings\n",
      "  copying pandas\\tests\\strings\\test_string_array.py -> build\\lib.win-amd64-cpython-311\\pandas\\tests\\strings\n",
      "  copying pandas\\tests\\strings\\__init__.py -> build\\lib.win-amd64-cpython-311\\pandas\\tests\\strings\n",
      "  creating build\\lib.win-amd64-cpython-311\\pandas\\tests\\tools\n",
      "  copying pandas\\tests\\tools\\test_to_datetime.py -> build\\lib.win-amd64-cpython-311\\pandas\\tests\\tools\n",
      "  copying pandas\\tests\\tools\\test_to_numeric.py -> build\\lib.win-amd64-cpython-311\\pandas\\tests\\tools\n",
      "  copying pandas\\tests\\tools\\test_to_time.py -> build\\lib.win-amd64-cpython-311\\pandas\\tests\\tools\n",
      "  copying pandas\\tests\\tools\\test_to_timedelta.py -> build\\lib.win-amd64-cpython-311\\pandas\\tests\\tools\n",
      "  copying pandas\\tests\\tools\\__init__.py -> build\\lib.win-amd64-cpython-311\\pandas\\tests\\tools\n",
      "  creating build\\lib.win-amd64-cpython-311\\pandas\\tests\\tseries\n",
      "  copying pandas\\tests\\tseries\\__init__.py -> build\\lib.win-amd64-cpython-311\\pandas\\tests\\tseries\n",
      "  creating build\\lib.win-amd64-cpython-311\\pandas\\tests\\tslibs\n",
      "  copying pandas\\tests\\tslibs\\test_api.py -> build\\lib.win-amd64-cpython-311\\pandas\\tests\\tslibs\n",
      "  copying pandas\\tests\\tslibs\\test_array_to_datetime.py -> build\\lib.win-amd64-cpython-311\\pandas\\tests\\tslibs\n",
      "  copying pandas\\tests\\tslibs\\test_ccalendar.py -> build\\lib.win-amd64-cpython-311\\pandas\\tests\\tslibs\n",
      "  copying pandas\\tests\\tslibs\\test_conversion.py -> build\\lib.win-amd64-cpython-311\\pandas\\tests\\tslibs\n",
      "  copying pandas\\tests\\tslibs\\test_fields.py -> build\\lib.win-amd64-cpython-311\\pandas\\tests\\tslibs\n",
      "  copying pandas\\tests\\tslibs\\test_libfrequencies.py -> build\\lib.win-amd64-cpython-311\\pandas\\tests\\tslibs\n",
      "  copying pandas\\tests\\tslibs\\test_liboffsets.py -> build\\lib.win-amd64-cpython-311\\pandas\\tests\\tslibs\n",
      "  copying pandas\\tests\\tslibs\\test_parse_iso8601.py -> build\\lib.win-amd64-cpython-311\\pandas\\tests\\tslibs\n",
      "  copying pandas\\tests\\tslibs\\test_parsing.py -> build\\lib.win-amd64-cpython-311\\pandas\\tests\\tslibs\n",
      "  copying pandas\\tests\\tslibs\\test_period_asfreq.py -> build\\lib.win-amd64-cpython-311\\pandas\\tests\\tslibs\n",
      "  copying pandas\\tests\\tslibs\\test_timedeltas.py -> build\\lib.win-amd64-cpython-311\\pandas\\tests\\tslibs\n",
      "  copying pandas\\tests\\tslibs\\test_timezones.py -> build\\lib.win-amd64-cpython-311\\pandas\\tests\\tslibs\n",
      "  copying pandas\\tests\\tslibs\\test_to_offset.py -> build\\lib.win-amd64-cpython-311\\pandas\\tests\\tslibs\n",
      "  copying pandas\\tests\\tslibs\\__init__.py -> build\\lib.win-amd64-cpython-311\\pandas\\tests\\tslibs\n",
      "  creating build\\lib.win-amd64-cpython-311\\pandas\\tests\\util\n",
      "  copying pandas\\tests\\util\\conftest.py -> build\\lib.win-amd64-cpython-311\\pandas\\tests\\util\n",
      "  copying pandas\\tests\\util\\test_assert_almost_equal.py -> build\\lib.win-amd64-cpython-311\\pandas\\tests\\util\n",
      "  copying pandas\\tests\\util\\test_assert_attr_equal.py -> build\\lib.win-amd64-cpython-311\\pandas\\tests\\util\n",
      "  copying pandas\\tests\\util\\test_assert_categorical_equal.py -> build\\lib.win-amd64-cpython-311\\pandas\\tests\\util\n",
      "  copying pandas\\tests\\util\\test_assert_extension_array_equal.py -> build\\lib.win-amd64-cpython-311\\pandas\\tests\\util\n",
      "  copying pandas\\tests\\util\\test_assert_frame_equal.py -> build\\lib.win-amd64-cpython-311\\pandas\\tests\\util\n",
      "  copying pandas\\tests\\util\\test_assert_index_equal.py -> build\\lib.win-amd64-cpython-311\\pandas\\tests\\util\n",
      "  copying pandas\\tests\\util\\test_assert_interval_array_equal.py -> build\\lib.win-amd64-cpython-311\\pandas\\tests\\util\n",
      "  copying pandas\\tests\\util\\test_assert_numpy_array_equal.py -> build\\lib.win-amd64-cpython-311\\pandas\\tests\\util\n",
      "  copying pandas\\tests\\util\\test_assert_produces_warning.py -> build\\lib.win-amd64-cpython-311\\pandas\\tests\\util\n",
      "  copying pandas\\tests\\util\\test_assert_series_equal.py -> build\\lib.win-amd64-cpython-311\\pandas\\tests\\util\n",
      "  copying pandas\\tests\\util\\test_deprecate.py -> build\\lib.win-amd64-cpython-311\\pandas\\tests\\util\n",
      "  copying pandas\\tests\\util\\test_deprecate_kwarg.py -> build\\lib.win-amd64-cpython-311\\pandas\\tests\\util\n",
      "  copying pandas\\tests\\util\\test_deprecate_nonkeyword_arguments.py -> build\\lib.win-amd64-cpython-311\\pandas\\tests\\util\n",
      "  copying pandas\\tests\\util\\test_doc.py -> build\\lib.win-amd64-cpython-311\\pandas\\tests\\util\n",
      "  copying pandas\\tests\\util\\test_hashing.py -> build\\lib.win-amd64-cpython-311\\pandas\\tests\\util\n",
      "  copying pandas\\tests\\util\\test_numba.py -> build\\lib.win-amd64-cpython-311\\pandas\\tests\\util\n",
      "  copying pandas\\tests\\util\\test_safe_import.py -> build\\lib.win-amd64-cpython-311\\pandas\\tests\\util\n",
      "  copying pandas\\tests\\util\\test_show_versions.py -> build\\lib.win-amd64-cpython-311\\pandas\\tests\\util\n",
      "  copying pandas\\tests\\util\\test_util.py -> build\\lib.win-amd64-cpython-311\\pandas\\tests\\util\n",
      "  copying pandas\\tests\\util\\test_validate_args.py -> build\\lib.win-amd64-cpython-311\\pandas\\tests\\util\n",
      "  copying pandas\\tests\\util\\test_validate_args_and_kwargs.py -> build\\lib.win-amd64-cpython-311\\pandas\\tests\\util\n",
      "  copying pandas\\tests\\util\\test_validate_kwargs.py -> build\\lib.win-amd64-cpython-311\\pandas\\tests\\util\n",
      "  copying pandas\\tests\\util\\__init__.py -> build\\lib.win-amd64-cpython-311\\pandas\\tests\\util\n",
      "  creating build\\lib.win-amd64-cpython-311\\pandas\\tests\\window\n",
      "  copying pandas\\tests\\window\\conftest.py -> build\\lib.win-amd64-cpython-311\\pandas\\tests\\window\n",
      "  copying pandas\\tests\\window\\test_api.py -> build\\lib.win-amd64-cpython-311\\pandas\\tests\\window\n",
      "  copying pandas\\tests\\window\\test_apply.py -> build\\lib.win-amd64-cpython-311\\pandas\\tests\\window\n",
      "  copying pandas\\tests\\window\\test_base_indexer.py -> build\\lib.win-amd64-cpython-311\\pandas\\tests\\window\n",
      "  copying pandas\\tests\\window\\test_dtypes.py -> build\\lib.win-amd64-cpython-311\\pandas\\tests\\window\n",
      "  copying pandas\\tests\\window\\test_ewm.py -> build\\lib.win-amd64-cpython-311\\pandas\\tests\\window\n",
      "  copying pandas\\tests\\window\\test_expanding.py -> build\\lib.win-amd64-cpython-311\\pandas\\tests\\window\n",
      "  copying pandas\\tests\\window\\test_groupby.py -> build\\lib.win-amd64-cpython-311\\pandas\\tests\\window\n",
      "  copying pandas\\tests\\window\\test_numba.py -> build\\lib.win-amd64-cpython-311\\pandas\\tests\\window\n",
      "  copying pandas\\tests\\window\\test_online.py -> build\\lib.win-amd64-cpython-311\\pandas\\tests\\window\n",
      "  copying pandas\\tests\\window\\test_pairwise.py -> build\\lib.win-amd64-cpython-311\\pandas\\tests\\window\n",
      "  copying pandas\\tests\\window\\test_rolling.py -> build\\lib.win-amd64-cpython-311\\pandas\\tests\\window\n",
      "  copying pandas\\tests\\window\\test_timeseries_window.py -> build\\lib.win-amd64-cpython-311\\pandas\\tests\\window\n",
      "  copying pandas\\tests\\window\\test_win_type.py -> build\\lib.win-amd64-cpython-311\\pandas\\tests\\window\n",
      "  copying pandas\\tests\\window\\__init__.py -> build\\lib.win-amd64-cpython-311\\pandas\\tests\\window\n",
      "  creating build\\lib.win-amd64-cpython-311\\pandas\\tests\\arrays\\boolean\n",
      "  copying pandas\\tests\\arrays\\boolean\\test_arithmetic.py -> build\\lib.win-amd64-cpython-311\\pandas\\tests\\arrays\\boolean\n",
      "  copying pandas\\tests\\arrays\\boolean\\test_astype.py -> build\\lib.win-amd64-cpython-311\\pandas\\tests\\arrays\\boolean\n",
      "  copying pandas\\tests\\arrays\\boolean\\test_comparison.py -> build\\lib.win-amd64-cpython-311\\pandas\\tests\\arrays\\boolean\n",
      "  copying pandas\\tests\\arrays\\boolean\\test_construction.py -> build\\lib.win-amd64-cpython-311\\pandas\\tests\\arrays\\boolean\n",
      "  copying pandas\\tests\\arrays\\boolean\\test_function.py -> build\\lib.win-amd64-cpython-311\\pandas\\tests\\arrays\\boolean\n",
      "  copying pandas\\tests\\arrays\\boolean\\test_indexing.py -> build\\lib.win-amd64-cpython-311\\pandas\\tests\\arrays\\boolean\n",
      "  copying pandas\\tests\\arrays\\boolean\\test_logical.py -> build\\lib.win-amd64-cpython-311\\pandas\\tests\\arrays\\boolean\n",
      "  copying pandas\\tests\\arrays\\boolean\\test_ops.py -> build\\lib.win-amd64-cpython-311\\pandas\\tests\\arrays\\boolean\n",
      "  copying pandas\\tests\\arrays\\boolean\\test_reduction.py -> build\\lib.win-amd64-cpython-311\\pandas\\tests\\arrays\\boolean\n",
      "  copying pandas\\tests\\arrays\\boolean\\test_repr.py -> build\\lib.win-amd64-cpython-311\\pandas\\tests\\arrays\\boolean\n",
      "  copying pandas\\tests\\arrays\\boolean\\__init__.py -> build\\lib.win-amd64-cpython-311\\pandas\\tests\\arrays\\boolean\n",
      "  creating build\\lib.win-amd64-cpython-311\\pandas\\tests\\arrays\\categorical\n",
      "  copying pandas\\tests\\arrays\\categorical\\common.py -> build\\lib.win-amd64-cpython-311\\pandas\\tests\\arrays\\categorical\n",
      "  copying pandas\\tests\\arrays\\categorical\\conftest.py -> build\\lib.win-amd64-cpython-311\\pandas\\tests\\arrays\\categorical\n",
      "  copying pandas\\tests\\arrays\\categorical\\test_algos.py -> build\\lib.win-amd64-cpython-311\\pandas\\tests\\arrays\\categorical\n",
      "  copying pandas\\tests\\arrays\\categorical\\test_analytics.py -> build\\lib.win-amd64-cpython-311\\pandas\\tests\\arrays\\categorical\n",
      "  copying pandas\\tests\\arrays\\categorical\\test_api.py -> build\\lib.win-amd64-cpython-311\\pandas\\tests\\arrays\\categorical\n",
      "  copying pandas\\tests\\arrays\\categorical\\test_constructors.py -> build\\lib.win-amd64-cpython-311\\pandas\\tests\\arrays\\categorical\n",
      "  copying pandas\\tests\\arrays\\categorical\\test_dtypes.py -> build\\lib.win-amd64-cpython-311\\pandas\\tests\\arrays\\categorical\n",
      "  copying pandas\\tests\\arrays\\categorical\\test_indexing.py -> build\\lib.win-amd64-cpython-311\\pandas\\tests\\arrays\\categorical\n",
      "  copying pandas\\tests\\arrays\\categorical\\test_missing.py -> build\\lib.win-amd64-cpython-311\\pandas\\tests\\arrays\\categorical\n",
      "  copying pandas\\tests\\arrays\\categorical\\test_operators.py -> build\\lib.win-amd64-cpython-311\\pandas\\tests\\arrays\\categorical\n",
      "  copying pandas\\tests\\arrays\\categorical\\test_replace.py -> build\\lib.win-amd64-cpython-311\\pandas\\tests\\arrays\\categorical\n",
      "  copying pandas\\tests\\arrays\\categorical\\test_repr.py -> build\\lib.win-amd64-cpython-311\\pandas\\tests\\arrays\\categorical\n",
      "  copying pandas\\tests\\arrays\\categorical\\test_sorting.py -> build\\lib.win-amd64-cpython-311\\pandas\\tests\\arrays\\categorical\n",
      "  copying pandas\\tests\\arrays\\categorical\\test_subclass.py -> build\\lib.win-amd64-cpython-311\\pandas\\tests\\arrays\\categorical\n",
      "  copying pandas\\tests\\arrays\\categorical\\test_take.py -> build\\lib.win-amd64-cpython-311\\pandas\\tests\\arrays\\categorical\n",
      "  copying pandas\\tests\\arrays\\categorical\\test_warnings.py -> build\\lib.win-amd64-cpython-311\\pandas\\tests\\arrays\\categorical\n",
      "  copying pandas\\tests\\arrays\\categorical\\__init__.py -> build\\lib.win-amd64-cpython-311\\pandas\\tests\\arrays\\categorical\n",
      "  creating build\\lib.win-amd64-cpython-311\\pandas\\tests\\arrays\\datetimes\n",
      "  copying pandas\\tests\\arrays\\datetimes\\test_constructors.py -> build\\lib.win-amd64-cpython-311\\pandas\\tests\\arrays\\datetimes\n",
      "  copying pandas\\tests\\arrays\\datetimes\\test_reductions.py -> build\\lib.win-amd64-cpython-311\\pandas\\tests\\arrays\\datetimes\n",
      "  copying pandas\\tests\\arrays\\datetimes\\__init__.py -> build\\lib.win-amd64-cpython-311\\pandas\\tests\\arrays\\datetimes\n",
      "  creating build\\lib.win-amd64-cpython-311\\pandas\\tests\\arrays\\floating\n",
      "  copying pandas\\tests\\arrays\\floating\\conftest.py -> build\\lib.win-amd64-cpython-311\\pandas\\tests\\arrays\\floating\n",
      "  copying pandas\\tests\\arrays\\floating\\test_arithmetic.py -> build\\lib.win-amd64-cpython-311\\pandas\\tests\\arrays\\floating\n",
      "  copying pandas\\tests\\arrays\\floating\\test_astype.py -> build\\lib.win-amd64-cpython-311\\pandas\\tests\\arrays\\floating\n",
      "  copying pandas\\tests\\arrays\\floating\\test_comparison.py -> build\\lib.win-amd64-cpython-311\\pandas\\tests\\arrays\\floating\n",
      "  copying pandas\\tests\\arrays\\floating\\test_concat.py -> build\\lib.win-amd64-cpython-311\\pandas\\tests\\arrays\\floating\n",
      "  copying pandas\\tests\\arrays\\floating\\test_construction.py -> build\\lib.win-amd64-cpython-311\\pandas\\tests\\arrays\\floating\n",
      "  copying pandas\\tests\\arrays\\floating\\test_function.py -> build\\lib.win-amd64-cpython-311\\pandas\\tests\\arrays\\floating\n",
      "  copying pandas\\tests\\arrays\\floating\\test_repr.py -> build\\lib.win-amd64-cpython-311\\pandas\\tests\\arrays\\floating\n",
      "  copying pandas\\tests\\arrays\\floating\\test_to_numpy.py -> build\\lib.win-amd64-cpython-311\\pandas\\tests\\arrays\\floating\n",
      "  copying pandas\\tests\\arrays\\floating\\__init__.py -> build\\lib.win-amd64-cpython-311\\pandas\\tests\\arrays\\floating\n",
      "  creating build\\lib.win-amd64-cpython-311\\pandas\\tests\\arrays\\integer\n",
      "  copying pandas\\tests\\arrays\\integer\\conftest.py -> build\\lib.win-amd64-cpython-311\\pandas\\tests\\arrays\\integer\n",
      "  copying pandas\\tests\\arrays\\integer\\test_arithmetic.py -> build\\lib.win-amd64-cpython-311\\pandas\\tests\\arrays\\integer\n",
      "  copying pandas\\tests\\arrays\\integer\\test_comparison.py -> build\\lib.win-amd64-cpython-311\\pandas\\tests\\arrays\\integer\n",
      "  copying pandas\\tests\\arrays\\integer\\test_concat.py -> build\\lib.win-amd64-cpython-311\\pandas\\tests\\arrays\\integer\n",
      "  copying pandas\\tests\\arrays\\integer\\test_construction.py -> build\\lib.win-amd64-cpython-311\\pandas\\tests\\arrays\\integer\n",
      "  copying pandas\\tests\\arrays\\integer\\test_dtypes.py -> build\\lib.win-amd64-cpython-311\\pandas\\tests\\arrays\\integer\n",
      "  copying pandas\\tests\\arrays\\integer\\test_function.py -> build\\lib.win-amd64-cpython-311\\pandas\\tests\\arrays\\integer\n",
      "  copying pandas\\tests\\arrays\\integer\\test_indexing.py -> build\\lib.win-amd64-cpython-311\\pandas\\tests\\arrays\\integer\n",
      "  copying pandas\\tests\\arrays\\integer\\test_repr.py -> build\\lib.win-amd64-cpython-311\\pandas\\tests\\arrays\\integer\n",
      "  copying pandas\\tests\\arrays\\integer\\__init__.py -> build\\lib.win-amd64-cpython-311\\pandas\\tests\\arrays\\integer\n",
      "  creating build\\lib.win-amd64-cpython-311\\pandas\\tests\\arrays\\interval\n",
      "  copying pandas\\tests\\arrays\\interval\\test_astype.py -> build\\lib.win-amd64-cpython-311\\pandas\\tests\\arrays\\interval\n",
      "  copying pandas\\tests\\arrays\\interval\\test_interval.py -> build\\lib.win-amd64-cpython-311\\pandas\\tests\\arrays\\interval\n",
      "  copying pandas\\tests\\arrays\\interval\\test_ops.py -> build\\lib.win-amd64-cpython-311\\pandas\\tests\\arrays\\interval\n",
      "  copying pandas\\tests\\arrays\\interval\\__init__.py -> build\\lib.win-amd64-cpython-311\\pandas\\tests\\arrays\\interval\n",
      "  creating build\\lib.win-amd64-cpython-311\\pandas\\tests\\arrays\\masked\n",
      "  copying pandas\\tests\\arrays\\masked\\test_arithmetic.py -> build\\lib.win-amd64-cpython-311\\pandas\\tests\\arrays\\masked\n",
      "  copying pandas\\tests\\arrays\\masked\\test_arrow_compat.py -> build\\lib.win-amd64-cpython-311\\pandas\\tests\\arrays\\masked\n",
      "  copying pandas\\tests\\arrays\\masked\\test_function.py -> build\\lib.win-amd64-cpython-311\\pandas\\tests\\arrays\\masked\n",
      "  copying pandas\\tests\\arrays\\masked\\__init__.py -> build\\lib.win-amd64-cpython-311\\pandas\\tests\\arrays\\masked\n",
      "  creating build\\lib.win-amd64-cpython-311\\pandas\\tests\\arrays\\period\n",
      "  copying pandas\\tests\\arrays\\period\\test_arrow_compat.py -> build\\lib.win-amd64-cpython-311\\pandas\\tests\\arrays\\period\n",
      "  copying pandas\\tests\\arrays\\period\\test_astype.py -> build\\lib.win-amd64-cpython-311\\pandas\\tests\\arrays\\period\n",
      "  copying pandas\\tests\\arrays\\period\\test_constructors.py -> build\\lib.win-amd64-cpython-311\\pandas\\tests\\arrays\\period\n",
      "  copying pandas\\tests\\arrays\\period\\test_reductions.py -> build\\lib.win-amd64-cpython-311\\pandas\\tests\\arrays\\period\n",
      "  copying pandas\\tests\\arrays\\period\\__init__.py -> build\\lib.win-amd64-cpython-311\\pandas\\tests\\arrays\\period\n",
      "  creating build\\lib.win-amd64-cpython-311\\pandas\\tests\\arrays\\sparse\n",
      "  copying pandas\\tests\\arrays\\sparse\\test_accessor.py -> build\\lib.win-amd64-cpython-311\\pandas\\tests\\arrays\\sparse\n",
      "  copying pandas\\tests\\arrays\\sparse\\test_arithmetics.py -> build\\lib.win-amd64-cpython-311\\pandas\\tests\\arrays\\sparse\n",
      "  copying pandas\\tests\\arrays\\sparse\\test_array.py -> build\\lib.win-amd64-cpython-311\\pandas\\tests\\arrays\\sparse\n",
      "  copying pandas\\tests\\arrays\\sparse\\test_combine_concat.py -> build\\lib.win-amd64-cpython-311\\pandas\\tests\\arrays\\sparse\n",
      "  copying pandas\\tests\\arrays\\sparse\\test_dtype.py -> build\\lib.win-amd64-cpython-311\\pandas\\tests\\arrays\\sparse\n",
      "  copying pandas\\tests\\arrays\\sparse\\test_libsparse.py -> build\\lib.win-amd64-cpython-311\\pandas\\tests\\arrays\\sparse\n",
      "  copying pandas\\tests\\arrays\\sparse\\__init__.py -> build\\lib.win-amd64-cpython-311\\pandas\\tests\\arrays\\sparse\n",
      "  creating build\\lib.win-amd64-cpython-311\\pandas\\tests\\arrays\\string_\n",
      "  copying pandas\\tests\\arrays\\string_\\test_string.py -> build\\lib.win-amd64-cpython-311\\pandas\\tests\\arrays\\string_\n",
      "  copying pandas\\tests\\arrays\\string_\\test_string_arrow.py -> build\\lib.win-amd64-cpython-311\\pandas\\tests\\arrays\\string_\n",
      "  copying pandas\\tests\\arrays\\string_\\__init__.py -> build\\lib.win-amd64-cpython-311\\pandas\\tests\\arrays\\string_\n",
      "  creating build\\lib.win-amd64-cpython-311\\pandas\\tests\\arrays\\timedeltas\n",
      "  copying pandas\\tests\\arrays\\timedeltas\\test_constructors.py -> build\\lib.win-amd64-cpython-311\\pandas\\tests\\arrays\\timedeltas\n",
      "  copying pandas\\tests\\arrays\\timedeltas\\test_reductions.py -> build\\lib.win-amd64-cpython-311\\pandas\\tests\\arrays\\timedeltas\n",
      "  copying pandas\\tests\\arrays\\timedeltas\\__init__.py -> build\\lib.win-amd64-cpython-311\\pandas\\tests\\arrays\\timedeltas\n",
      "  creating build\\lib.win-amd64-cpython-311\\pandas\\tests\\dtypes\\cast\n",
      "  copying pandas\\tests\\dtypes\\cast\\test_construct_from_scalar.py -> build\\lib.win-amd64-cpython-311\\pandas\\tests\\dtypes\\cast\n",
      "  copying pandas\\tests\\dtypes\\cast\\test_construct_ndarray.py -> build\\lib.win-amd64-cpython-311\\pandas\\tests\\dtypes\\cast\n",
      "  copying pandas\\tests\\dtypes\\cast\\test_construct_object_arr.py -> build\\lib.win-amd64-cpython-311\\pandas\\tests\\dtypes\\cast\n",
      "  copying pandas\\tests\\dtypes\\cast\\test_dict_compat.py -> build\\lib.win-amd64-cpython-311\\pandas\\tests\\dtypes\\cast\n",
      "  copying pandas\\tests\\dtypes\\cast\\test_downcast.py -> build\\lib.win-amd64-cpython-311\\pandas\\tests\\dtypes\\cast\n",
      "  copying pandas\\tests\\dtypes\\cast\\test_find_common_type.py -> build\\lib.win-amd64-cpython-311\\pandas\\tests\\dtypes\\cast\n",
      "  copying pandas\\tests\\dtypes\\cast\\test_infer_datetimelike.py -> build\\lib.win-amd64-cpython-311\\pandas\\tests\\dtypes\\cast\n",
      "  copying pandas\\tests\\dtypes\\cast\\test_infer_dtype.py -> build\\lib.win-amd64-cpython-311\\pandas\\tests\\dtypes\\cast\n",
      "  copying pandas\\tests\\dtypes\\cast\\test_maybe_box_native.py -> build\\lib.win-amd64-cpython-311\\pandas\\tests\\dtypes\\cast\n",
      "  copying pandas\\tests\\dtypes\\cast\\test_promote.py -> build\\lib.win-amd64-cpython-311\\pandas\\tests\\dtypes\\cast\n",
      "  copying pandas\\tests\\dtypes\\cast\\__init__.py -> build\\lib.win-amd64-cpython-311\\pandas\\tests\\dtypes\\cast\n",
      "  creating build\\lib.win-amd64-cpython-311\\pandas\\tests\\extension\\arrow\n",
      "  copying pandas\\tests\\extension\\arrow\\arrays.py -> build\\lib.win-amd64-cpython-311\\pandas\\tests\\extension\\arrow\n",
      "  copying pandas\\tests\\extension\\arrow\\test_bool.py -> build\\lib.win-amd64-cpython-311\\pandas\\tests\\extension\\arrow\n",
      "  copying pandas\\tests\\extension\\arrow\\test_string.py -> build\\lib.win-amd64-cpython-311\\pandas\\tests\\extension\\arrow\n",
      "  copying pandas\\tests\\extension\\arrow\\test_timestamp.py -> build\\lib.win-amd64-cpython-311\\pandas\\tests\\extension\\arrow\n",
      "  copying pandas\\tests\\extension\\arrow\\__init__.py -> build\\lib.win-amd64-cpython-311\\pandas\\tests\\extension\\arrow\n",
      "  creating build\\lib.win-amd64-cpython-311\\pandas\\tests\\extension\\base\n",
      "  copying pandas\\tests\\extension\\base\\base.py -> build\\lib.win-amd64-cpython-311\\pandas\\tests\\extension\\base\n",
      "  copying pandas\\tests\\extension\\base\\casting.py -> build\\lib.win-amd64-cpython-311\\pandas\\tests\\extension\\base\n",
      "  copying pandas\\tests\\extension\\base\\constructors.py -> build\\lib.win-amd64-cpython-311\\pandas\\tests\\extension\\base\n",
      "  copying pandas\\tests\\extension\\base\\dim2.py -> build\\lib.win-amd64-cpython-311\\pandas\\tests\\extension\\base\n",
      "  copying pandas\\tests\\extension\\base\\dtype.py -> build\\lib.win-amd64-cpython-311\\pandas\\tests\\extension\\base\n",
      "  copying pandas\\tests\\extension\\base\\getitem.py -> build\\lib.win-amd64-cpython-311\\pandas\\tests\\extension\\base\n",
      "  copying pandas\\tests\\extension\\base\\groupby.py -> build\\lib.win-amd64-cpython-311\\pandas\\tests\\extension\\base\n",
      "  copying pandas\\tests\\extension\\base\\interface.py -> build\\lib.win-amd64-cpython-311\\pandas\\tests\\extension\\base\n",
      "  copying pandas\\tests\\extension\\base\\io.py -> build\\lib.win-amd64-cpython-311\\pandas\\tests\\extension\\base\n",
      "  copying pandas\\tests\\extension\\base\\methods.py -> build\\lib.win-amd64-cpython-311\\pandas\\tests\\extension\\base\n",
      "  copying pandas\\tests\\extension\\base\\missing.py -> build\\lib.win-amd64-cpython-311\\pandas\\tests\\extension\\base\n",
      "  copying pandas\\tests\\extension\\base\\ops.py -> build\\lib.win-amd64-cpython-311\\pandas\\tests\\extension\\base\n",
      "  copying pandas\\tests\\extension\\base\\printing.py -> build\\lib.win-amd64-cpython-311\\pandas\\tests\\extension\\base\n",
      "  copying pandas\\tests\\extension\\base\\reduce.py -> build\\lib.win-amd64-cpython-311\\pandas\\tests\\extension\\base\n",
      "  copying pandas\\tests\\extension\\base\\reshaping.py -> build\\lib.win-amd64-cpython-311\\pandas\\tests\\extension\\base\n",
      "  copying pandas\\tests\\extension\\base\\setitem.py -> build\\lib.win-amd64-cpython-311\\pandas\\tests\\extension\\base\n",
      "  copying pandas\\tests\\extension\\base\\__init__.py -> build\\lib.win-amd64-cpython-311\\pandas\\tests\\extension\\base\n",
      "  creating build\\lib.win-amd64-cpython-311\\pandas\\tests\\extension\\decimal\n",
      "  copying pandas\\tests\\extension\\decimal\\array.py -> build\\lib.win-amd64-cpython-311\\pandas\\tests\\extension\\decimal\n",
      "  copying pandas\\tests\\extension\\decimal\\test_decimal.py -> build\\lib.win-amd64-cpython-311\\pandas\\tests\\extension\\decimal\n",
      "  copying pandas\\tests\\extension\\decimal\\__init__.py -> build\\lib.win-amd64-cpython-311\\pandas\\tests\\extension\\decimal\n",
      "  creating build\\lib.win-amd64-cpython-311\\pandas\\tests\\extension\\json\n",
      "  copying pandas\\tests\\extension\\json\\array.py -> build\\lib.win-amd64-cpython-311\\pandas\\tests\\extension\\json\n",
      "  copying pandas\\tests\\extension\\json\\test_json.py -> build\\lib.win-amd64-cpython-311\\pandas\\tests\\extension\\json\n",
      "  copying pandas\\tests\\extension\\json\\__init__.py -> build\\lib.win-amd64-cpython-311\\pandas\\tests\\extension\\json\n",
      "  creating build\\lib.win-amd64-cpython-311\\pandas\\tests\\extension\\list\n",
      "  copying pandas\\tests\\extension\\list\\array.py -> build\\lib.win-amd64-cpython-311\\pandas\\tests\\extension\\list\n",
      "  copying pandas\\tests\\extension\\list\\test_list.py -> build\\lib.win-amd64-cpython-311\\pandas\\tests\\extension\\list\n",
      "  copying pandas\\tests\\extension\\list\\__init__.py -> build\\lib.win-amd64-cpython-311\\pandas\\tests\\extension\\list\n",
      "  creating build\\lib.win-amd64-cpython-311\\pandas\\tests\\frame\\constructors\n",
      "  copying pandas\\tests\\frame\\constructors\\test_from_dict.py -> build\\lib.win-amd64-cpython-311\\pandas\\tests\\frame\\constructors\n",
      "  copying pandas\\tests\\frame\\constructors\\test_from_records.py -> build\\lib.win-amd64-cpython-311\\pandas\\tests\\frame\\constructors\n",
      "  copying pandas\\tests\\frame\\constructors\\__init__.py -> build\\lib.win-amd64-cpython-311\\pandas\\tests\\frame\\constructors\n",
      "  creating build\\lib.win-amd64-cpython-311\\pandas\\tests\\frame\\indexing\n",
      "  copying pandas\\tests\\frame\\indexing\\test_delitem.py -> build\\lib.win-amd64-cpython-311\\pandas\\tests\\frame\\indexing\n",
      "  copying pandas\\tests\\frame\\indexing\\test_get.py -> build\\lib.win-amd64-cpython-311\\pandas\\tests\\frame\\indexing\n",
      "  copying pandas\\tests\\frame\\indexing\\test_getitem.py -> build\\lib.win-amd64-cpython-311\\pandas\\tests\\frame\\indexing\n",
      "  copying pandas\\tests\\frame\\indexing\\test_get_value.py -> build\\lib.win-amd64-cpython-311\\pandas\\tests\\frame\\indexing\n",
      "  copying pandas\\tests\\frame\\indexing\\test_indexing.py -> build\\lib.win-amd64-cpython-311\\pandas\\tests\\frame\\indexing\n",
      "  copying pandas\\tests\\frame\\indexing\\test_insert.py -> build\\lib.win-amd64-cpython-311\\pandas\\tests\\frame\\indexing\n",
      "  copying pandas\\tests\\frame\\indexing\\test_lookup.py -> build\\lib.win-amd64-cpython-311\\pandas\\tests\\frame\\indexing\n",
      "  copying pandas\\tests\\frame\\indexing\\test_mask.py -> build\\lib.win-amd64-cpython-311\\pandas\\tests\\frame\\indexing\n",
      "  copying pandas\\tests\\frame\\indexing\\test_setitem.py -> build\\lib.win-amd64-cpython-311\\pandas\\tests\\frame\\indexing\n",
      "  copying pandas\\tests\\frame\\indexing\\test_set_value.py -> build\\lib.win-amd64-cpython-311\\pandas\\tests\\frame\\indexing\n",
      "  copying pandas\\tests\\frame\\indexing\\test_take.py -> build\\lib.win-amd64-cpython-311\\pandas\\tests\\frame\\indexing\n",
      "  copying pandas\\tests\\frame\\indexing\\test_where.py -> build\\lib.win-amd64-cpython-311\\pandas\\tests\\frame\\indexing\n",
      "  copying pandas\\tests\\frame\\indexing\\test_xs.py -> build\\lib.win-amd64-cpython-311\\pandas\\tests\\frame\\indexing\n",
      "  copying pandas\\tests\\frame\\indexing\\__init__.py -> build\\lib.win-amd64-cpython-311\\pandas\\tests\\frame\\indexing\n",
      "  creating build\\lib.win-amd64-cpython-311\\pandas\\tests\\frame\\methods\n",
      "  copying pandas\\tests\\frame\\methods\\test_add_prefix_suffix.py -> build\\lib.win-amd64-cpython-311\\pandas\\tests\\frame\\methods\n",
      "  copying pandas\\tests\\frame\\methods\\test_align.py -> build\\lib.win-amd64-cpython-311\\pandas\\tests\\frame\\methods\n",
      "  copying pandas\\tests\\frame\\methods\\test_append.py -> build\\lib.win-amd64-cpython-311\\pandas\\tests\\frame\\methods\n",
      "  copying pandas\\tests\\frame\\methods\\test_asfreq.py -> build\\lib.win-amd64-cpython-311\\pandas\\tests\\frame\\methods\n",
      "  copying pandas\\tests\\frame\\methods\\test_asof.py -> build\\lib.win-amd64-cpython-311\\pandas\\tests\\frame\\methods\n",
      "  copying pandas\\tests\\frame\\methods\\test_assign.py -> build\\lib.win-amd64-cpython-311\\pandas\\tests\\frame\\methods\n",
      "  copying pandas\\tests\\frame\\methods\\test_astype.py -> build\\lib.win-amd64-cpython-311\\pandas\\tests\\frame\\methods\n",
      "  copying pandas\\tests\\frame\\methods\\test_at_time.py -> build\\lib.win-amd64-cpython-311\\pandas\\tests\\frame\\methods\n",
      "  copying pandas\\tests\\frame\\methods\\test_between_time.py -> build\\lib.win-amd64-cpython-311\\pandas\\tests\\frame\\methods\n",
      "  copying pandas\\tests\\frame\\methods\\test_clip.py -> build\\lib.win-amd64-cpython-311\\pandas\\tests\\frame\\methods\n",
      "  copying pandas\\tests\\frame\\methods\\test_combine.py -> build\\lib.win-amd64-cpython-311\\pandas\\tests\\frame\\methods\n",
      "  copying pandas\\tests\\frame\\methods\\test_combine_first.py -> build\\lib.win-amd64-cpython-311\\pandas\\tests\\frame\\methods\n",
      "  copying pandas\\tests\\frame\\methods\\test_compare.py -> build\\lib.win-amd64-cpython-311\\pandas\\tests\\frame\\methods\n",
      "  copying pandas\\tests\\frame\\methods\\test_convert.py -> build\\lib.win-amd64-cpython-311\\pandas\\tests\\frame\\methods\n",
      "  copying pandas\\tests\\frame\\methods\\test_convert_dtypes.py -> build\\lib.win-amd64-cpython-311\\pandas\\tests\\frame\\methods\n",
      "  copying pandas\\tests\\frame\\methods\\test_copy.py -> build\\lib.win-amd64-cpython-311\\pandas\\tests\\frame\\methods\n",
      "  copying pandas\\tests\\frame\\methods\\test_count.py -> build\\lib.win-amd64-cpython-311\\pandas\\tests\\frame\\methods\n",
      "  copying pandas\\tests\\frame\\methods\\test_count_with_level_deprecated.py -> build\\lib.win-amd64-cpython-311\\pandas\\tests\\frame\\methods\n",
      "  copying pandas\\tests\\frame\\methods\\test_cov_corr.py -> build\\lib.win-amd64-cpython-311\\pandas\\tests\\frame\\methods\n",
      "  copying pandas\\tests\\frame\\methods\\test_describe.py -> build\\lib.win-amd64-cpython-311\\pandas\\tests\\frame\\methods\n",
      "  copying pandas\\tests\\frame\\methods\\test_diff.py -> build\\lib.win-amd64-cpython-311\\pandas\\tests\\frame\\methods\n",
      "  copying pandas\\tests\\frame\\methods\\test_dot.py -> build\\lib.win-amd64-cpython-311\\pandas\\tests\\frame\\methods\n",
      "  copying pandas\\tests\\frame\\methods\\test_drop.py -> build\\lib.win-amd64-cpython-311\\pandas\\tests\\frame\\methods\n",
      "  copying pandas\\tests\\frame\\methods\\test_droplevel.py -> build\\lib.win-amd64-cpython-311\\pandas\\tests\\frame\\methods\n",
      "  copying pandas\\tests\\frame\\methods\\test_dropna.py -> build\\lib.win-amd64-cpython-311\\pandas\\tests\\frame\\methods\n",
      "  copying pandas\\tests\\frame\\methods\\test_drop_duplicates.py -> build\\lib.win-amd64-cpython-311\\pandas\\tests\\frame\\methods\n",
      "  copying pandas\\tests\\frame\\methods\\test_dtypes.py -> build\\lib.win-amd64-cpython-311\\pandas\\tests\\frame\\methods\n",
      "  copying pandas\\tests\\frame\\methods\\test_duplicated.py -> build\\lib.win-amd64-cpython-311\\pandas\\tests\\frame\\methods\n",
      "  copying pandas\\tests\\frame\\methods\\test_equals.py -> build\\lib.win-amd64-cpython-311\\pandas\\tests\\frame\\methods\n",
      "  copying pandas\\tests\\frame\\methods\\test_explode.py -> build\\lib.win-amd64-cpython-311\\pandas\\tests\\frame\\methods\n",
      "  copying pandas\\tests\\frame\\methods\\test_fillna.py -> build\\lib.win-amd64-cpython-311\\pandas\\tests\\frame\\methods\n",
      "  copying pandas\\tests\\frame\\methods\\test_filter.py -> build\\lib.win-amd64-cpython-311\\pandas\\tests\\frame\\methods\n",
      "  copying pandas\\tests\\frame\\methods\\test_first_and_last.py -> build\\lib.win-amd64-cpython-311\\pandas\\tests\\frame\\methods\n",
      "  copying pandas\\tests\\frame\\methods\\test_first_valid_index.py -> build\\lib.win-amd64-cpython-311\\pandas\\tests\\frame\\methods\n",
      "  copying pandas\\tests\\frame\\methods\\test_get_numeric_data.py -> build\\lib.win-amd64-cpython-311\\pandas\\tests\\frame\\methods\n",
      "  copying pandas\\tests\\frame\\methods\\test_head_tail.py -> build\\lib.win-amd64-cpython-311\\pandas\\tests\\frame\\methods\n",
      "  copying pandas\\tests\\frame\\methods\\test_infer_objects.py -> build\\lib.win-amd64-cpython-311\\pandas\\tests\\frame\\methods\n",
      "  copying pandas\\tests\\frame\\methods\\test_interpolate.py -> build\\lib.win-amd64-cpython-311\\pandas\\tests\\frame\\methods\n",
      "  copying pandas\\tests\\frame\\methods\\test_isin.py -> build\\lib.win-amd64-cpython-311\\pandas\\tests\\frame\\methods\n",
      "  copying pandas\\tests\\frame\\methods\\test_is_homogeneous_dtype.py -> build\\lib.win-amd64-cpython-311\\pandas\\tests\\frame\\methods\n",
      "  copying pandas\\tests\\frame\\methods\\test_join.py -> build\\lib.win-amd64-cpython-311\\pandas\\tests\\frame\\methods\n",
      "  copying pandas\\tests\\frame\\methods\\test_matmul.py -> build\\lib.win-amd64-cpython-311\\pandas\\tests\\frame\\methods\n",
      "  copying pandas\\tests\\frame\\methods\\test_nlargest.py -> build\\lib.win-amd64-cpython-311\\pandas\\tests\\frame\\methods\n",
      "  copying pandas\\tests\\frame\\methods\\test_pct_change.py -> build\\lib.win-amd64-cpython-311\\pandas\\tests\\frame\\methods\n",
      "  copying pandas\\tests\\frame\\methods\\test_pipe.py -> build\\lib.win-amd64-cpython-311\\pandas\\tests\\frame\\methods\n",
      "  copying pandas\\tests\\frame\\methods\\test_pop.py -> build\\lib.win-amd64-cpython-311\\pandas\\tests\\frame\\methods\n",
      "  copying pandas\\tests\\frame\\methods\\test_quantile.py -> build\\lib.win-amd64-cpython-311\\pandas\\tests\\frame\\methods\n",
      "  copying pandas\\tests\\frame\\methods\\test_rank.py -> build\\lib.win-amd64-cpython-311\\pandas\\tests\\frame\\methods\n",
      "  copying pandas\\tests\\frame\\methods\\test_reindex.py -> build\\lib.win-amd64-cpython-311\\pandas\\tests\\frame\\methods\n",
      "  copying pandas\\tests\\frame\\methods\\test_reindex_like.py -> build\\lib.win-amd64-cpython-311\\pandas\\tests\\frame\\methods\n",
      "  copying pandas\\tests\\frame\\methods\\test_rename.py -> build\\lib.win-amd64-cpython-311\\pandas\\tests\\frame\\methods\n",
      "  copying pandas\\tests\\frame\\methods\\test_rename_axis.py -> build\\lib.win-amd64-cpython-311\\pandas\\tests\\frame\\methods\n",
      "  copying pandas\\tests\\frame\\methods\\test_reorder_levels.py -> build\\lib.win-amd64-cpython-311\\pandas\\tests\\frame\\methods\n",
      "  copying pandas\\tests\\frame\\methods\\test_replace.py -> build\\lib.win-amd64-cpython-311\\pandas\\tests\\frame\\methods\n",
      "  copying pandas\\tests\\frame\\methods\\test_reset_index.py -> build\\lib.win-amd64-cpython-311\\pandas\\tests\\frame\\methods\n",
      "  copying pandas\\tests\\frame\\methods\\test_round.py -> build\\lib.win-amd64-cpython-311\\pandas\\tests\\frame\\methods\n",
      "  copying pandas\\tests\\frame\\methods\\test_sample.py -> build\\lib.win-amd64-cpython-311\\pandas\\tests\\frame\\methods\n",
      "  copying pandas\\tests\\frame\\methods\\test_select_dtypes.py -> build\\lib.win-amd64-cpython-311\\pandas\\tests\\frame\\methods\n",
      "  copying pandas\\tests\\frame\\methods\\test_set_axis.py -> build\\lib.win-amd64-cpython-311\\pandas\\tests\\frame\\methods\n",
      "  copying pandas\\tests\\frame\\methods\\test_set_index.py -> build\\lib.win-amd64-cpython-311\\pandas\\tests\\frame\\methods\n",
      "  copying pandas\\tests\\frame\\methods\\test_shift.py -> build\\lib.win-amd64-cpython-311\\pandas\\tests\\frame\\methods\n",
      "  copying pandas\\tests\\frame\\methods\\test_sort_index.py -> build\\lib.win-amd64-cpython-311\\pandas\\tests\\frame\\methods\n",
      "  copying pandas\\tests\\frame\\methods\\test_sort_values.py -> build\\lib.win-amd64-cpython-311\\pandas\\tests\\frame\\methods\n",
      "  copying pandas\\tests\\frame\\methods\\test_swapaxes.py -> build\\lib.win-amd64-cpython-311\\pandas\\tests\\frame\\methods\n",
      "  copying pandas\\tests\\frame\\methods\\test_swaplevel.py -> build\\lib.win-amd64-cpython-311\\pandas\\tests\\frame\\methods\n",
      "  copying pandas\\tests\\frame\\methods\\test_to_csv.py -> build\\lib.win-amd64-cpython-311\\pandas\\tests\\frame\\methods\n",
      "  copying pandas\\tests\\frame\\methods\\test_to_dict.py -> build\\lib.win-amd64-cpython-311\\pandas\\tests\\frame\\methods\n",
      "  copying pandas\\tests\\frame\\methods\\test_to_dict_of_blocks.py -> build\\lib.win-amd64-cpython-311\\pandas\\tests\\frame\\methods\n",
      "  copying pandas\\tests\\frame\\methods\\test_to_numpy.py -> build\\lib.win-amd64-cpython-311\\pandas\\tests\\frame\\methods\n",
      "  copying pandas\\tests\\frame\\methods\\test_to_period.py -> build\\lib.win-amd64-cpython-311\\pandas\\tests\\frame\\methods\n",
      "  copying pandas\\tests\\frame\\methods\\test_to_records.py -> build\\lib.win-amd64-cpython-311\\pandas\\tests\\frame\\methods\n",
      "  copying pandas\\tests\\frame\\methods\\test_to_timestamp.py -> build\\lib.win-amd64-cpython-311\\pandas\\tests\\frame\\methods\n",
      "  copying pandas\\tests\\frame\\methods\\test_transpose.py -> build\\lib.win-amd64-cpython-311\\pandas\\tests\\frame\\methods\n",
      "  copying pandas\\tests\\frame\\methods\\test_truncate.py -> build\\lib.win-amd64-cpython-311\\pandas\\tests\\frame\\methods\n",
      "  copying pandas\\tests\\frame\\methods\\test_tz_convert.py -> build\\lib.win-amd64-cpython-311\\pandas\\tests\\frame\\methods\n",
      "  copying pandas\\tests\\frame\\methods\\test_tz_localize.py -> build\\lib.win-amd64-cpython-311\\pandas\\tests\\frame\\methods\n",
      "  copying pandas\\tests\\frame\\methods\\test_update.py -> build\\lib.win-amd64-cpython-311\\pandas\\tests\\frame\\methods\n",
      "  copying pandas\\tests\\frame\\methods\\test_values.py -> build\\lib.win-amd64-cpython-311\\pandas\\tests\\frame\\methods\n",
      "  copying pandas\\tests\\frame\\methods\\test_value_counts.py -> build\\lib.win-amd64-cpython-311\\pandas\\tests\\frame\\methods\n",
      "  copying pandas\\tests\\frame\\methods\\__init__.py -> build\\lib.win-amd64-cpython-311\\pandas\\tests\\frame\\methods\n",
      "  creating build\\lib.win-amd64-cpython-311\\pandas\\tests\\groupby\\aggregate\n",
      "  copying pandas\\tests\\groupby\\aggregate\\test_aggregate.py -> build\\lib.win-amd64-cpython-311\\pandas\\tests\\groupby\\aggregate\n",
      "  copying pandas\\tests\\groupby\\aggregate\\test_cython.py -> build\\lib.win-amd64-cpython-311\\pandas\\tests\\groupby\\aggregate\n",
      "  copying pandas\\tests\\groupby\\aggregate\\test_numba.py -> build\\lib.win-amd64-cpython-311\\pandas\\tests\\groupby\\aggregate\n",
      "  copying pandas\\tests\\groupby\\aggregate\\test_other.py -> build\\lib.win-amd64-cpython-311\\pandas\\tests\\groupby\\aggregate\n",
      "  copying pandas\\tests\\groupby\\aggregate\\__init__.py -> build\\lib.win-amd64-cpython-311\\pandas\\tests\\groupby\\aggregate\n",
      "  creating build\\lib.win-amd64-cpython-311\\pandas\\tests\\groupby\\transform\n",
      "  copying pandas\\tests\\groupby\\transform\\test_numba.py -> build\\lib.win-amd64-cpython-311\\pandas\\tests\\groupby\\transform\n",
      "  copying pandas\\tests\\groupby\\transform\\test_transform.py -> build\\lib.win-amd64-cpython-311\\pandas\\tests\\groupby\\transform\n",
      "  copying pandas\\tests\\groupby\\transform\\__init__.py -> build\\lib.win-amd64-cpython-311\\pandas\\tests\\groupby\\transform\n",
      "  creating build\\lib.win-amd64-cpython-311\\pandas\\tests\\indexes\\base_class\n",
      "  copying pandas\\tests\\indexes\\base_class\\test_constructors.py -> build\\lib.win-amd64-cpython-311\\pandas\\tests\\indexes\\base_class\n",
      "  copying pandas\\tests\\indexes\\base_class\\test_formats.py -> build\\lib.win-amd64-cpython-311\\pandas\\tests\\indexes\\base_class\n",
      "  copying pandas\\tests\\indexes\\base_class\\test_indexing.py -> build\\lib.win-amd64-cpython-311\\pandas\\tests\\indexes\\base_class\n",
      "  copying pandas\\tests\\indexes\\base_class\\test_reshape.py -> build\\lib.win-amd64-cpython-311\\pandas\\tests\\indexes\\base_class\n",
      "  copying pandas\\tests\\indexes\\base_class\\test_setops.py -> build\\lib.win-amd64-cpython-311\\pandas\\tests\\indexes\\base_class\n",
      "  copying pandas\\tests\\indexes\\base_class\\test_where.py -> build\\lib.win-amd64-cpython-311\\pandas\\tests\\indexes\\base_class\n",
      "  copying pandas\\tests\\indexes\\base_class\\__init__.py -> build\\lib.win-amd64-cpython-311\\pandas\\tests\\indexes\\base_class\n",
      "  creating build\\lib.win-amd64-cpython-311\\pandas\\tests\\indexes\\categorical\n",
      "  copying pandas\\tests\\indexes\\categorical\\test_append.py -> build\\lib.win-amd64-cpython-311\\pandas\\tests\\indexes\\categorical\n",
      "  copying pandas\\tests\\indexes\\categorical\\test_astype.py -> build\\lib.win-amd64-cpython-311\\pandas\\tests\\indexes\\categorical\n",
      "  copying pandas\\tests\\indexes\\categorical\\test_category.py -> build\\lib.win-amd64-cpython-311\\pandas\\tests\\indexes\\categorical\n",
      "  copying pandas\\tests\\indexes\\categorical\\test_constructors.py -> build\\lib.win-amd64-cpython-311\\pandas\\tests\\indexes\\categorical\n",
      "  copying pandas\\tests\\indexes\\categorical\\test_equals.py -> build\\lib.win-amd64-cpython-311\\pandas\\tests\\indexes\\categorical\n",
      "  copying pandas\\tests\\indexes\\categorical\\test_fillna.py -> build\\lib.win-amd64-cpython-311\\pandas\\tests\\indexes\\categorical\n",
      "  copying pandas\\tests\\indexes\\categorical\\test_formats.py -> build\\lib.win-amd64-cpython-311\\pandas\\tests\\indexes\\categorical\n",
      "  copying pandas\\tests\\indexes\\categorical\\test_indexing.py -> build\\lib.win-amd64-cpython-311\\pandas\\tests\\indexes\\categorical\n",
      "  copying pandas\\tests\\indexes\\categorical\\test_map.py -> build\\lib.win-amd64-cpython-311\\pandas\\tests\\indexes\\categorical\n",
      "  copying pandas\\tests\\indexes\\categorical\\test_reindex.py -> build\\lib.win-amd64-cpython-311\\pandas\\tests\\indexes\\categorical\n",
      "  copying pandas\\tests\\indexes\\categorical\\__init__.py -> build\\lib.win-amd64-cpython-311\\pandas\\tests\\indexes\\categorical\n",
      "  creating build\\lib.win-amd64-cpython-311\\pandas\\tests\\indexes\\datetimelike_\n",
      "  copying pandas\\tests\\indexes\\datetimelike_\\test_drop_duplicates.py -> build\\lib.win-amd64-cpython-311\\pandas\\tests\\indexes\\datetimelike_\n",
      "  copying pandas\\tests\\indexes\\datetimelike_\\test_equals.py -> build\\lib.win-amd64-cpython-311\\pandas\\tests\\indexes\\datetimelike_\n",
      "  copying pandas\\tests\\indexes\\datetimelike_\\test_indexing.py -> build\\lib.win-amd64-cpython-311\\pandas\\tests\\indexes\\datetimelike_\n",
      "  copying pandas\\tests\\indexes\\datetimelike_\\test_nat.py -> build\\lib.win-amd64-cpython-311\\pandas\\tests\\indexes\\datetimelike_\n",
      "  copying pandas\\tests\\indexes\\datetimelike_\\test_sort_values.py -> build\\lib.win-amd64-cpython-311\\pandas\\tests\\indexes\\datetimelike_\n",
      "  copying pandas\\tests\\indexes\\datetimelike_\\test_value_counts.py -> build\\lib.win-amd64-cpython-311\\pandas\\tests\\indexes\\datetimelike_\n",
      "  copying pandas\\tests\\indexes\\datetimelike_\\__init__.py -> build\\lib.win-amd64-cpython-311\\pandas\\tests\\indexes\\datetimelike_\n",
      "  creating build\\lib.win-amd64-cpython-311\\pandas\\tests\\indexes\\datetimes\n",
      "  copying pandas\\tests\\indexes\\datetimes\\test_asof.py -> build\\lib.win-amd64-cpython-311\\pandas\\tests\\indexes\\datetimes\n",
      "  copying pandas\\tests\\indexes\\datetimes\\test_constructors.py -> build\\lib.win-amd64-cpython-311\\pandas\\tests\\indexes\\datetimes\n",
      "  copying pandas\\tests\\indexes\\datetimes\\test_datetime.py -> build\\lib.win-amd64-cpython-311\\pandas\\tests\\indexes\\datetimes\n",
      "  copying pandas\\tests\\indexes\\datetimes\\test_datetimelike.py -> build\\lib.win-amd64-cpython-311\\pandas\\tests\\indexes\\datetimes\n",
      "  copying pandas\\tests\\indexes\\datetimes\\test_date_range.py -> build\\lib.win-amd64-cpython-311\\pandas\\tests\\indexes\\datetimes\n",
      "  copying pandas\\tests\\indexes\\datetimes\\test_delete.py -> build\\lib.win-amd64-cpython-311\\pandas\\tests\\indexes\\datetimes\n",
      "  copying pandas\\tests\\indexes\\datetimes\\test_formats.py -> build\\lib.win-amd64-cpython-311\\pandas\\tests\\indexes\\datetimes\n",
      "  copying pandas\\tests\\indexes\\datetimes\\test_indexing.py -> build\\lib.win-amd64-cpython-311\\pandas\\tests\\indexes\\datetimes\n",
      "  copying pandas\\tests\\indexes\\datetimes\\test_join.py -> build\\lib.win-amd64-cpython-311\\pandas\\tests\\indexes\\datetimes\n",
      "  copying pandas\\tests\\indexes\\datetimes\\test_map.py -> build\\lib.win-amd64-cpython-311\\pandas\\tests\\indexes\\datetimes\n",
      "  copying pandas\\tests\\indexes\\datetimes\\test_misc.py -> build\\lib.win-amd64-cpython-311\\pandas\\tests\\indexes\\datetimes\n",
      "  copying pandas\\tests\\indexes\\datetimes\\test_npfuncs.py -> build\\lib.win-amd64-cpython-311\\pandas\\tests\\indexes\\datetimes\n",
      "  copying pandas\\tests\\indexes\\datetimes\\test_ops.py -> build\\lib.win-amd64-cpython-311\\pandas\\tests\\indexes\\datetimes\n",
      "  copying pandas\\tests\\indexes\\datetimes\\test_partial_slicing.py -> build\\lib.win-amd64-cpython-311\\pandas\\tests\\indexes\\datetimes\n",
      "  copying pandas\\tests\\indexes\\datetimes\\test_pickle.py -> build\\lib.win-amd64-cpython-311\\pandas\\tests\\indexes\\datetimes\n",
      "  copying pandas\\tests\\indexes\\datetimes\\test_reindex.py -> build\\lib.win-amd64-cpython-311\\pandas\\tests\\indexes\\datetimes\n",
      "  copying pandas\\tests\\indexes\\datetimes\\test_scalar_compat.py -> build\\lib.win-amd64-cpython-311\\pandas\\tests\\indexes\\datetimes\n",
      "  copying pandas\\tests\\indexes\\datetimes\\test_setops.py -> build\\lib.win-amd64-cpython-311\\pandas\\tests\\indexes\\datetimes\n",
      "  copying pandas\\tests\\indexes\\datetimes\\test_timezones.py -> build\\lib.win-amd64-cpython-311\\pandas\\tests\\indexes\\datetimes\n",
      "  copying pandas\\tests\\indexes\\datetimes\\test_unique.py -> build\\lib.win-amd64-cpython-311\\pandas\\tests\\indexes\\datetimes\n",
      "  copying pandas\\tests\\indexes\\datetimes\\__init__.py -> build\\lib.win-amd64-cpython-311\\pandas\\tests\\indexes\\datetimes\n",
      "  creating build\\lib.win-amd64-cpython-311\\pandas\\tests\\indexes\\interval\n",
      "  copying pandas\\tests\\indexes\\interval\\test_astype.py -> build\\lib.win-amd64-cpython-311\\pandas\\tests\\indexes\\interval\n",
      "  copying pandas\\tests\\indexes\\interval\\test_base.py -> build\\lib.win-amd64-cpython-311\\pandas\\tests\\indexes\\interval\n",
      "  copying pandas\\tests\\indexes\\interval\\test_constructors.py -> build\\lib.win-amd64-cpython-311\\pandas\\tests\\indexes\\interval\n",
      "  copying pandas\\tests\\indexes\\interval\\test_equals.py -> build\\lib.win-amd64-cpython-311\\pandas\\tests\\indexes\\interval\n",
      "  copying pandas\\tests\\indexes\\interval\\test_formats.py -> build\\lib.win-amd64-cpython-311\\pandas\\tests\\indexes\\interval\n",
      "  copying pandas\\tests\\indexes\\interval\\test_indexing.py -> build\\lib.win-amd64-cpython-311\\pandas\\tests\\indexes\\interval\n",
      "  copying pandas\\tests\\indexes\\interval\\test_interval.py -> build\\lib.win-amd64-cpython-311\\pandas\\tests\\indexes\\interval\n",
      "  copying pandas\\tests\\indexes\\interval\\test_interval_range.py -> build\\lib.win-amd64-cpython-311\\pandas\\tests\\indexes\\interval\n",
      "  copying pandas\\tests\\indexes\\interval\\test_interval_tree.py -> build\\lib.win-amd64-cpython-311\\pandas\\tests\\indexes\\interval\n",
      "  copying pandas\\tests\\indexes\\interval\\test_setops.py -> build\\lib.win-amd64-cpython-311\\pandas\\tests\\indexes\\interval\n",
      "  copying pandas\\tests\\indexes\\interval\\__init__.py -> build\\lib.win-amd64-cpython-311\\pandas\\tests\\indexes\\interval\n",
      "  creating build\\lib.win-amd64-cpython-311\\pandas\\tests\\indexes\\multi\n",
      "  copying pandas\\tests\\indexes\\multi\\conftest.py -> build\\lib.win-amd64-cpython-311\\pandas\\tests\\indexes\\multi\n",
      "  copying pandas\\tests\\indexes\\multi\\test_analytics.py -> build\\lib.win-amd64-cpython-311\\pandas\\tests\\indexes\\multi\n",
      "  copying pandas\\tests\\indexes\\multi\\test_astype.py -> build\\lib.win-amd64-cpython-311\\pandas\\tests\\indexes\\multi\n",
      "  copying pandas\\tests\\indexes\\multi\\test_compat.py -> build\\lib.win-amd64-cpython-311\\pandas\\tests\\indexes\\multi\n",
      "  copying pandas\\tests\\indexes\\multi\\test_constructors.py -> build\\lib.win-amd64-cpython-311\\pandas\\tests\\indexes\\multi\n",
      "  copying pandas\\tests\\indexes\\multi\\test_conversion.py -> build\\lib.win-amd64-cpython-311\\pandas\\tests\\indexes\\multi\n",
      "  copying pandas\\tests\\indexes\\multi\\test_copy.py -> build\\lib.win-amd64-cpython-311\\pandas\\tests\\indexes\\multi\n",
      "  copying pandas\\tests\\indexes\\multi\\test_drop.py -> build\\lib.win-amd64-cpython-311\\pandas\\tests\\indexes\\multi\n",
      "  copying pandas\\tests\\indexes\\multi\\test_duplicates.py -> build\\lib.win-amd64-cpython-311\\pandas\\tests\\indexes\\multi\n",
      "  copying pandas\\tests\\indexes\\multi\\test_equivalence.py -> build\\lib.win-amd64-cpython-311\\pandas\\tests\\indexes\\multi\n",
      "  copying pandas\\tests\\indexes\\multi\\test_formats.py -> build\\lib.win-amd64-cpython-311\\pandas\\tests\\indexes\\multi\n",
      "  copying pandas\\tests\\indexes\\multi\\test_get_level_values.py -> build\\lib.win-amd64-cpython-311\\pandas\\tests\\indexes\\multi\n",
      "  copying pandas\\tests\\indexes\\multi\\test_get_set.py -> build\\lib.win-amd64-cpython-311\\pandas\\tests\\indexes\\multi\n",
      "  copying pandas\\tests\\indexes\\multi\\test_indexing.py -> build\\lib.win-amd64-cpython-311\\pandas\\tests\\indexes\\multi\n",
      "  copying pandas\\tests\\indexes\\multi\\test_integrity.py -> build\\lib.win-amd64-cpython-311\\pandas\\tests\\indexes\\multi\n",
      "  copying pandas\\tests\\indexes\\multi\\test_isin.py -> build\\lib.win-amd64-cpython-311\\pandas\\tests\\indexes\\multi\n",
      "  copying pandas\\tests\\indexes\\multi\\test_join.py -> build\\lib.win-amd64-cpython-311\\pandas\\tests\\indexes\\multi\n",
      "  copying pandas\\tests\\indexes\\multi\\test_lexsort.py -> build\\lib.win-amd64-cpython-311\\pandas\\tests\\indexes\\multi\n",
      "  copying pandas\\tests\\indexes\\multi\\test_missing.py -> build\\lib.win-amd64-cpython-311\\pandas\\tests\\indexes\\multi\n",
      "  copying pandas\\tests\\indexes\\multi\\test_monotonic.py -> build\\lib.win-amd64-cpython-311\\pandas\\tests\\indexes\\multi\n",
      "  copying pandas\\tests\\indexes\\multi\\test_names.py -> build\\lib.win-amd64-cpython-311\\pandas\\tests\\indexes\\multi\n",
      "  copying pandas\\tests\\indexes\\multi\\test_partial_indexing.py -> build\\lib.win-amd64-cpython-311\\pandas\\tests\\indexes\\multi\n",
      "  copying pandas\\tests\\indexes\\multi\\test_reindex.py -> build\\lib.win-amd64-cpython-311\\pandas\\tests\\indexes\\multi\n",
      "  copying pandas\\tests\\indexes\\multi\\test_reshape.py -> build\\lib.win-amd64-cpython-311\\pandas\\tests\\indexes\\multi\n",
      "  copying pandas\\tests\\indexes\\multi\\test_setops.py -> build\\lib.win-amd64-cpython-311\\pandas\\tests\\indexes\\multi\n",
      "  copying pandas\\tests\\indexes\\multi\\test_sorting.py -> build\\lib.win-amd64-cpython-311\\pandas\\tests\\indexes\\multi\n",
      "  copying pandas\\tests\\indexes\\multi\\test_take.py -> build\\lib.win-amd64-cpython-311\\pandas\\tests\\indexes\\multi\n",
      "  copying pandas\\tests\\indexes\\multi\\__init__.py -> build\\lib.win-amd64-cpython-311\\pandas\\tests\\indexes\\multi\n",
      "  creating build\\lib.win-amd64-cpython-311\\pandas\\tests\\indexes\\numeric\n",
      "  copying pandas\\tests\\indexes\\numeric\\test_astype.py -> build\\lib.win-amd64-cpython-311\\pandas\\tests\\indexes\\numeric\n",
      "  copying pandas\\tests\\indexes\\numeric\\test_indexing.py -> build\\lib.win-amd64-cpython-311\\pandas\\tests\\indexes\\numeric\n",
      "  copying pandas\\tests\\indexes\\numeric\\test_join.py -> build\\lib.win-amd64-cpython-311\\pandas\\tests\\indexes\\numeric\n",
      "  copying pandas\\tests\\indexes\\numeric\\test_numeric.py -> build\\lib.win-amd64-cpython-311\\pandas\\tests\\indexes\\numeric\n",
      "  copying pandas\\tests\\indexes\\numeric\\test_setops.py -> build\\lib.win-amd64-cpython-311\\pandas\\tests\\indexes\\numeric\n",
      "  copying pandas\\tests\\indexes\\numeric\\__init__.py -> build\\lib.win-amd64-cpython-311\\pandas\\tests\\indexes\\numeric\n",
      "  creating build\\lib.win-amd64-cpython-311\\pandas\\tests\\indexes\\object\n",
      "  copying pandas\\tests\\indexes\\object\\test_astype.py -> build\\lib.win-amd64-cpython-311\\pandas\\tests\\indexes\\object\n",
      "  copying pandas\\tests\\indexes\\object\\test_indexing.py -> build\\lib.win-amd64-cpython-311\\pandas\\tests\\indexes\\object\n",
      "  copying pandas\\tests\\indexes\\object\\__init__.py -> build\\lib.win-amd64-cpython-311\\pandas\\tests\\indexes\\object\n",
      "  creating build\\lib.win-amd64-cpython-311\\pandas\\tests\\indexes\\period\n",
      "  copying pandas\\tests\\indexes\\period\\test_constructors.py -> build\\lib.win-amd64-cpython-311\\pandas\\tests\\indexes\\period\n",
      "  copying pandas\\tests\\indexes\\period\\test_formats.py -> build\\lib.win-amd64-cpython-311\\pandas\\tests\\indexes\\period\n",
      "  copying pandas\\tests\\indexes\\period\\test_indexing.py -> build\\lib.win-amd64-cpython-311\\pandas\\tests\\indexes\\period\n",
      "  copying pandas\\tests\\indexes\\period\\test_join.py -> build\\lib.win-amd64-cpython-311\\pandas\\tests\\indexes\\period\n",
      "  copying pandas\\tests\\indexes\\period\\test_monotonic.py -> build\\lib.win-amd64-cpython-311\\pandas\\tests\\indexes\\period\n",
      "  copying pandas\\tests\\indexes\\period\\test_ops.py -> build\\lib.win-amd64-cpython-311\\pandas\\tests\\indexes\\period\n",
      "  copying pandas\\tests\\indexes\\period\\test_partial_slicing.py -> build\\lib.win-amd64-cpython-311\\pandas\\tests\\indexes\\period\n",
      "  copying pandas\\tests\\indexes\\period\\test_period.py -> build\\lib.win-amd64-cpython-311\\pandas\\tests\\indexes\\period\n",
      "  copying pandas\\tests\\indexes\\period\\test_period_range.py -> build\\lib.win-amd64-cpython-311\\pandas\\tests\\indexes\\period\n",
      "  copying pandas\\tests\\indexes\\period\\test_scalar_compat.py -> build\\lib.win-amd64-cpython-311\\pandas\\tests\\indexes\\period\n",
      "  copying pandas\\tests\\indexes\\period\\test_searchsorted.py -> build\\lib.win-amd64-cpython-311\\pandas\\tests\\indexes\\period\n",
      "  copying pandas\\tests\\indexes\\period\\test_setops.py -> build\\lib.win-amd64-cpython-311\\pandas\\tests\\indexes\\period\n",
      "  copying pandas\\tests\\indexes\\period\\test_tools.py -> build\\lib.win-amd64-cpython-311\\pandas\\tests\\indexes\\period\n",
      "  copying pandas\\tests\\indexes\\period\\__init__.py -> build\\lib.win-amd64-cpython-311\\pandas\\tests\\indexes\\period\n",
      "  creating build\\lib.win-amd64-cpython-311\\pandas\\tests\\indexes\\ranges\n",
      "  copying pandas\\tests\\indexes\\ranges\\test_constructors.py -> build\\lib.win-amd64-cpython-311\\pandas\\tests\\indexes\\ranges\n",
      "  copying pandas\\tests\\indexes\\ranges\\test_indexing.py -> build\\lib.win-amd64-cpython-311\\pandas\\tests\\indexes\\ranges\n",
      "  copying pandas\\tests\\indexes\\ranges\\test_join.py -> build\\lib.win-amd64-cpython-311\\pandas\\tests\\indexes\\ranges\n",
      "  copying pandas\\tests\\indexes\\ranges\\test_range.py -> build\\lib.win-amd64-cpython-311\\pandas\\tests\\indexes\\ranges\n",
      "  copying pandas\\tests\\indexes\\ranges\\test_setops.py -> build\\lib.win-amd64-cpython-311\\pandas\\tests\\indexes\\ranges\n",
      "  copying pandas\\tests\\indexes\\ranges\\__init__.py -> build\\lib.win-amd64-cpython-311\\pandas\\tests\\indexes\\ranges\n",
      "  creating build\\lib.win-amd64-cpython-311\\pandas\\tests\\indexes\\timedeltas\n",
      "  copying pandas\\tests\\indexes\\timedeltas\\test_constructors.py -> build\\lib.win-amd64-cpython-311\\pandas\\tests\\indexes\\timedeltas\n",
      "  copying pandas\\tests\\indexes\\timedeltas\\test_delete.py -> build\\lib.win-amd64-cpython-311\\pandas\\tests\\indexes\\timedeltas\n",
      "  copying pandas\\tests\\indexes\\timedeltas\\test_formats.py -> build\\lib.win-amd64-cpython-311\\pandas\\tests\\indexes\\timedeltas\n",
      "  copying pandas\\tests\\indexes\\timedeltas\\test_indexing.py -> build\\lib.win-amd64-cpython-311\\pandas\\tests\\indexes\\timedeltas\n",
      "  copying pandas\\tests\\indexes\\timedeltas\\test_join.py -> build\\lib.win-amd64-cpython-311\\pandas\\tests\\indexes\\timedeltas\n",
      "  copying pandas\\tests\\indexes\\timedeltas\\test_ops.py -> build\\lib.win-amd64-cpython-311\\pandas\\tests\\indexes\\timedeltas\n",
      "  copying pandas\\tests\\indexes\\timedeltas\\test_scalar_compat.py -> build\\lib.win-amd64-cpython-311\\pandas\\tests\\indexes\\timedeltas\n",
      "  copying pandas\\tests\\indexes\\timedeltas\\test_searchsorted.py -> build\\lib.win-amd64-cpython-311\\pandas\\tests\\indexes\\timedeltas\n",
      "  copying pandas\\tests\\indexes\\timedeltas\\test_setops.py -> build\\lib.win-amd64-cpython-311\\pandas\\tests\\indexes\\timedeltas\n",
      "  copying pandas\\tests\\indexes\\timedeltas\\test_timedelta.py -> build\\lib.win-amd64-cpython-311\\pandas\\tests\\indexes\\timedeltas\n",
      "  copying pandas\\tests\\indexes\\timedeltas\\test_timedelta_range.py -> build\\lib.win-amd64-cpython-311\\pandas\\tests\\indexes\\timedeltas\n",
      "  copying pandas\\tests\\indexes\\timedeltas\\__init__.py -> build\\lib.win-amd64-cpython-311\\pandas\\tests\\indexes\\timedeltas\n",
      "  creating build\\lib.win-amd64-cpython-311\\pandas\\tests\\indexes\\datetimes\\methods\n",
      "  copying pandas\\tests\\indexes\\datetimes\\methods\\test_astype.py -> build\\lib.win-amd64-cpython-311\\pandas\\tests\\indexes\\datetimes\\methods\n",
      "  copying pandas\\tests\\indexes\\datetimes\\methods\\test_factorize.py -> build\\lib.win-amd64-cpython-311\\pandas\\tests\\indexes\\datetimes\\methods\n",
      "  copying pandas\\tests\\indexes\\datetimes\\methods\\test_fillna.py -> build\\lib.win-amd64-cpython-311\\pandas\\tests\\indexes\\datetimes\\methods\n",
      "  copying pandas\\tests\\indexes\\datetimes\\methods\\test_insert.py -> build\\lib.win-amd64-cpython-311\\pandas\\tests\\indexes\\datetimes\\methods\n",
      "  copying pandas\\tests\\indexes\\datetimes\\methods\\test_repeat.py -> build\\lib.win-amd64-cpython-311\\pandas\\tests\\indexes\\datetimes\\methods\n",
      "  copying pandas\\tests\\indexes\\datetimes\\methods\\test_shift.py -> build\\lib.win-amd64-cpython-311\\pandas\\tests\\indexes\\datetimes\\methods\n",
      "  copying pandas\\tests\\indexes\\datetimes\\methods\\test_snap.py -> build\\lib.win-amd64-cpython-311\\pandas\\tests\\indexes\\datetimes\\methods\n",
      "  copying pandas\\tests\\indexes\\datetimes\\methods\\test_to_frame.py -> build\\lib.win-amd64-cpython-311\\pandas\\tests\\indexes\\datetimes\\methods\n",
      "  copying pandas\\tests\\indexes\\datetimes\\methods\\test_to_period.py -> build\\lib.win-amd64-cpython-311\\pandas\\tests\\indexes\\datetimes\\methods\n",
      "  copying pandas\\tests\\indexes\\datetimes\\methods\\test_to_series.py -> build\\lib.win-amd64-cpython-311\\pandas\\tests\\indexes\\datetimes\\methods\n",
      "  copying pandas\\tests\\indexes\\datetimes\\methods\\__init__.py -> build\\lib.win-amd64-cpython-311\\pandas\\tests\\indexes\\datetimes\\methods\n",
      "  creating build\\lib.win-amd64-cpython-311\\pandas\\tests\\indexes\\period\\methods\n",
      "  copying pandas\\tests\\indexes\\period\\methods\\test_asfreq.py -> build\\lib.win-amd64-cpython-311\\pandas\\tests\\indexes\\period\\methods\n",
      "  copying pandas\\tests\\indexes\\period\\methods\\test_astype.py -> build\\lib.win-amd64-cpython-311\\pandas\\tests\\indexes\\period\\methods\n",
      "  copying pandas\\tests\\indexes\\period\\methods\\test_factorize.py -> build\\lib.win-amd64-cpython-311\\pandas\\tests\\indexes\\period\\methods\n",
      "  copying pandas\\tests\\indexes\\period\\methods\\test_fillna.py -> build\\lib.win-amd64-cpython-311\\pandas\\tests\\indexes\\period\\methods\n",
      "  copying pandas\\tests\\indexes\\period\\methods\\test_insert.py -> build\\lib.win-amd64-cpython-311\\pandas\\tests\\indexes\\period\\methods\n",
      "  copying pandas\\tests\\indexes\\period\\methods\\test_is_full.py -> build\\lib.win-amd64-cpython-311\\pandas\\tests\\indexes\\period\\methods\n",
      "  copying pandas\\tests\\indexes\\period\\methods\\test_repeat.py -> build\\lib.win-amd64-cpython-311\\pandas\\tests\\indexes\\period\\methods\n",
      "  copying pandas\\tests\\indexes\\period\\methods\\test_shift.py -> build\\lib.win-amd64-cpython-311\\pandas\\tests\\indexes\\period\\methods\n",
      "  copying pandas\\tests\\indexes\\period\\methods\\test_to_timestamp.py -> build\\lib.win-amd64-cpython-311\\pandas\\tests\\indexes\\period\\methods\n",
      "  copying pandas\\tests\\indexes\\period\\methods\\__init__.py -> build\\lib.win-amd64-cpython-311\\pandas\\tests\\indexes\\period\\methods\n",
      "  creating build\\lib.win-amd64-cpython-311\\pandas\\tests\\indexes\\timedeltas\\methods\n",
      "  copying pandas\\tests\\indexes\\timedeltas\\methods\\test_astype.py -> build\\lib.win-amd64-cpython-311\\pandas\\tests\\indexes\\timedeltas\\methods\n",
      "  copying pandas\\tests\\indexes\\timedeltas\\methods\\test_factorize.py -> build\\lib.win-amd64-cpython-311\\pandas\\tests\\indexes\\timedeltas\\methods\n",
      "  copying pandas\\tests\\indexes\\timedeltas\\methods\\test_fillna.py -> build\\lib.win-amd64-cpython-311\\pandas\\tests\\indexes\\timedeltas\\methods\n",
      "  copying pandas\\tests\\indexes\\timedeltas\\methods\\test_insert.py -> build\\lib.win-amd64-cpython-311\\pandas\\tests\\indexes\\timedeltas\\methods\n",
      "  copying pandas\\tests\\indexes\\timedeltas\\methods\\test_repeat.py -> build\\lib.win-amd64-cpython-311\\pandas\\tests\\indexes\\timedeltas\\methods\n",
      "  copying pandas\\tests\\indexes\\timedeltas\\methods\\test_shift.py -> build\\lib.win-amd64-cpython-311\\pandas\\tests\\indexes\\timedeltas\\methods\n",
      "  copying pandas\\tests\\indexes\\timedeltas\\methods\\__init__.py -> build\\lib.win-amd64-cpython-311\\pandas\\tests\\indexes\\timedeltas\\methods\n",
      "  creating build\\lib.win-amd64-cpython-311\\pandas\\tests\\indexing\\interval\n",
      "  copying pandas\\tests\\indexing\\interval\\test_interval.py -> build\\lib.win-amd64-cpython-311\\pandas\\tests\\indexing\\interval\n",
      "  copying pandas\\tests\\indexing\\interval\\test_interval_new.py -> build\\lib.win-amd64-cpython-311\\pandas\\tests\\indexing\\interval\n",
      "  copying pandas\\tests\\indexing\\interval\\__init__.py -> build\\lib.win-amd64-cpython-311\\pandas\\tests\\indexing\\interval\n",
      "  creating build\\lib.win-amd64-cpython-311\\pandas\\tests\\indexing\\multiindex\n",
      "  copying pandas\\tests\\indexing\\multiindex\\test_chaining_and_caching.py -> build\\lib.win-amd64-cpython-311\\pandas\\tests\\indexing\\multiindex\n",
      "  copying pandas\\tests\\indexing\\multiindex\\test_datetime.py -> build\\lib.win-amd64-cpython-311\\pandas\\tests\\indexing\\multiindex\n",
      "  copying pandas\\tests\\indexing\\multiindex\\test_getitem.py -> build\\lib.win-amd64-cpython-311\\pandas\\tests\\indexing\\multiindex\n",
      "  copying pandas\\tests\\indexing\\multiindex\\test_iloc.py -> build\\lib.win-amd64-cpython-311\\pandas\\tests\\indexing\\multiindex\n",
      "  copying pandas\\tests\\indexing\\multiindex\\test_indexing_slow.py -> build\\lib.win-amd64-cpython-311\\pandas\\tests\\indexing\\multiindex\n",
      "  copying pandas\\tests\\indexing\\multiindex\\test_loc.py -> build\\lib.win-amd64-cpython-311\\pandas\\tests\\indexing\\multiindex\n",
      "  copying pandas\\tests\\indexing\\multiindex\\test_multiindex.py -> build\\lib.win-amd64-cpython-311\\pandas\\tests\\indexing\\multiindex\n",
      "  copying pandas\\tests\\indexing\\multiindex\\test_partial.py -> build\\lib.win-amd64-cpython-311\\pandas\\tests\\indexing\\multiindex\n",
      "  copying pandas\\tests\\indexing\\multiindex\\test_setitem.py -> build\\lib.win-amd64-cpython-311\\pandas\\tests\\indexing\\multiindex\n",
      "  copying pandas\\tests\\indexing\\multiindex\\test_slice.py -> build\\lib.win-amd64-cpython-311\\pandas\\tests\\indexing\\multiindex\n",
      "  copying pandas\\tests\\indexing\\multiindex\\test_sorted.py -> build\\lib.win-amd64-cpython-311\\pandas\\tests\\indexing\\multiindex\n",
      "  copying pandas\\tests\\indexing\\multiindex\\__init__.py -> build\\lib.win-amd64-cpython-311\\pandas\\tests\\indexing\\multiindex\n",
      "  creating build\\lib.win-amd64-cpython-311\\pandas\\tests\\io\\excel\n",
      "  copying pandas\\tests\\io\\excel\\conftest.py -> build\\lib.win-amd64-cpython-311\\pandas\\tests\\io\\excel\n",
      "  copying pandas\\tests\\io\\excel\\test_odf.py -> build\\lib.win-amd64-cpython-311\\pandas\\tests\\io\\excel\n",
      "  copying pandas\\tests\\io\\excel\\test_odswriter.py -> build\\lib.win-amd64-cpython-311\\pandas\\tests\\io\\excel\n",
      "  copying pandas\\tests\\io\\excel\\test_openpyxl.py -> build\\lib.win-amd64-cpython-311\\pandas\\tests\\io\\excel\n",
      "  copying pandas\\tests\\io\\excel\\test_readers.py -> build\\lib.win-amd64-cpython-311\\pandas\\tests\\io\\excel\n",
      "  copying pandas\\tests\\io\\excel\\test_style.py -> build\\lib.win-amd64-cpython-311\\pandas\\tests\\io\\excel\n",
      "  copying pandas\\tests\\io\\excel\\test_writers.py -> build\\lib.win-amd64-cpython-311\\pandas\\tests\\io\\excel\n",
      "  copying pandas\\tests\\io\\excel\\test_xlrd.py -> build\\lib.win-amd64-cpython-311\\pandas\\tests\\io\\excel\n",
      "  copying pandas\\tests\\io\\excel\\test_xlsxwriter.py -> build\\lib.win-amd64-cpython-311\\pandas\\tests\\io\\excel\n",
      "  copying pandas\\tests\\io\\excel\\test_xlwt.py -> build\\lib.win-amd64-cpython-311\\pandas\\tests\\io\\excel\n",
      "  copying pandas\\tests\\io\\excel\\__init__.py -> build\\lib.win-amd64-cpython-311\\pandas\\tests\\io\\excel\n",
      "  creating build\\lib.win-amd64-cpython-311\\pandas\\tests\\io\\formats\n",
      "  copying pandas\\tests\\io\\formats\\test_console.py -> build\\lib.win-amd64-cpython-311\\pandas\\tests\\io\\formats\n",
      "  copying pandas\\tests\\io\\formats\\test_css.py -> build\\lib.win-amd64-cpython-311\\pandas\\tests\\io\\formats\n",
      "  copying pandas\\tests\\io\\formats\\test_eng_formatting.py -> build\\lib.win-amd64-cpython-311\\pandas\\tests\\io\\formats\n",
      "  copying pandas\\tests\\io\\formats\\test_format.py -> build\\lib.win-amd64-cpython-311\\pandas\\tests\\io\\formats\n",
      "  copying pandas\\tests\\io\\formats\\test_info.py -> build\\lib.win-amd64-cpython-311\\pandas\\tests\\io\\formats\n",
      "  copying pandas\\tests\\io\\formats\\test_printing.py -> build\\lib.win-amd64-cpython-311\\pandas\\tests\\io\\formats\n",
      "  copying pandas\\tests\\io\\formats\\test_to_csv.py -> build\\lib.win-amd64-cpython-311\\pandas\\tests\\io\\formats\n",
      "  copying pandas\\tests\\io\\formats\\test_to_excel.py -> build\\lib.win-amd64-cpython-311\\pandas\\tests\\io\\formats\n",
      "  copying pandas\\tests\\io\\formats\\test_to_html.py -> build\\lib.win-amd64-cpython-311\\pandas\\tests\\io\\formats\n",
      "  copying pandas\\tests\\io\\formats\\test_to_latex.py -> build\\lib.win-amd64-cpython-311\\pandas\\tests\\io\\formats\n",
      "  copying pandas\\tests\\io\\formats\\test_to_markdown.py -> build\\lib.win-amd64-cpython-311\\pandas\\tests\\io\\formats\n",
      "  copying pandas\\tests\\io\\formats\\test_to_string.py -> build\\lib.win-amd64-cpython-311\\pandas\\tests\\io\\formats\n",
      "  copying pandas\\tests\\io\\formats\\__init__.py -> build\\lib.win-amd64-cpython-311\\pandas\\tests\\io\\formats\n",
      "  creating build\\lib.win-amd64-cpython-311\\pandas\\tests\\io\\json\n",
      "  copying pandas\\tests\\io\\json\\conftest.py -> build\\lib.win-amd64-cpython-311\\pandas\\tests\\io\\json\n",
      "  copying pandas\\tests\\io\\json\\test_compression.py -> build\\lib.win-amd64-cpython-311\\pandas\\tests\\io\\json\n",
      "  copying pandas\\tests\\io\\json\\test_deprecated_kwargs.py -> build\\lib.win-amd64-cpython-311\\pandas\\tests\\io\\json\n",
      "  copying pandas\\tests\\io\\json\\test_json_table_schema.py -> build\\lib.win-amd64-cpython-311\\pandas\\tests\\io\\json\n",
      "  copying pandas\\tests\\io\\json\\test_normalize.py -> build\\lib.win-amd64-cpython-311\\pandas\\tests\\io\\json\n",
      "  copying pandas\\tests\\io\\json\\test_pandas.py -> build\\lib.win-amd64-cpython-311\\pandas\\tests\\io\\json\n",
      "  copying pandas\\tests\\io\\json\\test_readlines.py -> build\\lib.win-amd64-cpython-311\\pandas\\tests\\io\\json\n",
      "  copying pandas\\tests\\io\\json\\test_ujson.py -> build\\lib.win-amd64-cpython-311\\pandas\\tests\\io\\json\n",
      "  copying pandas\\tests\\io\\json\\__init__.py -> build\\lib.win-amd64-cpython-311\\pandas\\tests\\io\\json\n",
      "  creating build\\lib.win-amd64-cpython-311\\pandas\\tests\\io\\parser\n",
      "  copying pandas\\tests\\io\\parser\\conftest.py -> build\\lib.win-amd64-cpython-311\\pandas\\tests\\io\\parser\n",
      "  copying pandas\\tests\\io\\parser\\test_comment.py -> build\\lib.win-amd64-cpython-311\\pandas\\tests\\io\\parser\n",
      "  copying pandas\\tests\\io\\parser\\test_compression.py -> build\\lib.win-amd64-cpython-311\\pandas\\tests\\io\\parser\n",
      "  copying pandas\\tests\\io\\parser\\test_converters.py -> build\\lib.win-amd64-cpython-311\\pandas\\tests\\io\\parser\n",
      "  copying pandas\\tests\\io\\parser\\test_c_parser_only.py -> build\\lib.win-amd64-cpython-311\\pandas\\tests\\io\\parser\n",
      "  copying pandas\\tests\\io\\parser\\test_dialect.py -> build\\lib.win-amd64-cpython-311\\pandas\\tests\\io\\parser\n",
      "  copying pandas\\tests\\io\\parser\\test_encoding.py -> build\\lib.win-amd64-cpython-311\\pandas\\tests\\io\\parser\n",
      "  copying pandas\\tests\\io\\parser\\test_header.py -> build\\lib.win-amd64-cpython-311\\pandas\\tests\\io\\parser\n",
      "  copying pandas\\tests\\io\\parser\\test_index_col.py -> build\\lib.win-amd64-cpython-311\\pandas\\tests\\io\\parser\n",
      "  copying pandas\\tests\\io\\parser\\test_mangle_dupes.py -> build\\lib.win-amd64-cpython-311\\pandas\\tests\\io\\parser\n",
      "  copying pandas\\tests\\io\\parser\\test_multi_thread.py -> build\\lib.win-amd64-cpython-311\\pandas\\tests\\io\\parser\n",
      "  copying pandas\\tests\\io\\parser\\test_na_values.py -> build\\lib.win-amd64-cpython-311\\pandas\\tests\\io\\parser\n",
      "  copying pandas\\tests\\io\\parser\\test_network.py -> build\\lib.win-amd64-cpython-311\\pandas\\tests\\io\\parser\n",
      "  copying pandas\\tests\\io\\parser\\test_parse_dates.py -> build\\lib.win-amd64-cpython-311\\pandas\\tests\\io\\parser\n",
      "  copying pandas\\tests\\io\\parser\\test_python_parser_only.py -> build\\lib.win-amd64-cpython-311\\pandas\\tests\\io\\parser\n",
      "  copying pandas\\tests\\io\\parser\\test_quoting.py -> build\\lib.win-amd64-cpython-311\\pandas\\tests\\io\\parser\n",
      "  copying pandas\\tests\\io\\parser\\test_read_fwf.py -> build\\lib.win-amd64-cpython-311\\pandas\\tests\\io\\parser\n",
      "  copying pandas\\tests\\io\\parser\\test_skiprows.py -> build\\lib.win-amd64-cpython-311\\pandas\\tests\\io\\parser\n",
      "  copying pandas\\tests\\io\\parser\\test_textreader.py -> build\\lib.win-amd64-cpython-311\\pandas\\tests\\io\\parser\n",
      "  copying pandas\\tests\\io\\parser\\test_unsupported.py -> build\\lib.win-amd64-cpython-311\\pandas\\tests\\io\\parser\n",
      "  copying pandas\\tests\\io\\parser\\__init__.py -> build\\lib.win-amd64-cpython-311\\pandas\\tests\\io\\parser\n",
      "  creating build\\lib.win-amd64-cpython-311\\pandas\\tests\\io\\pytables\n",
      "  copying pandas\\tests\\io\\pytables\\common.py -> build\\lib.win-amd64-cpython-311\\pandas\\tests\\io\\pytables\n",
      "  copying pandas\\tests\\io\\pytables\\conftest.py -> build\\lib.win-amd64-cpython-311\\pandas\\tests\\io\\pytables\n",
      "  copying pandas\\tests\\io\\pytables\\test_append.py -> build\\lib.win-amd64-cpython-311\\pandas\\tests\\io\\pytables\n",
      "  copying pandas\\tests\\io\\pytables\\test_categorical.py -> build\\lib.win-amd64-cpython-311\\pandas\\tests\\io\\pytables\n",
      "  copying pandas\\tests\\io\\pytables\\test_compat.py -> build\\lib.win-amd64-cpython-311\\pandas\\tests\\io\\pytables\n",
      "  copying pandas\\tests\\io\\pytables\\test_complex.py -> build\\lib.win-amd64-cpython-311\\pandas\\tests\\io\\pytables\n",
      "  copying pandas\\tests\\io\\pytables\\test_errors.py -> build\\lib.win-amd64-cpython-311\\pandas\\tests\\io\\pytables\n",
      "  copying pandas\\tests\\io\\pytables\\test_file_handling.py -> build\\lib.win-amd64-cpython-311\\pandas\\tests\\io\\pytables\n",
      "  copying pandas\\tests\\io\\pytables\\test_keys.py -> build\\lib.win-amd64-cpython-311\\pandas\\tests\\io\\pytables\n",
      "  copying pandas\\tests\\io\\pytables\\test_put.py -> build\\lib.win-amd64-cpython-311\\pandas\\tests\\io\\pytables\n",
      "  copying pandas\\tests\\io\\pytables\\test_pytables_missing.py -> build\\lib.win-amd64-cpython-311\\pandas\\tests\\io\\pytables\n",
      "  copying pandas\\tests\\io\\pytables\\test_read.py -> build\\lib.win-amd64-cpython-311\\pandas\\tests\\io\\pytables\n",
      "  copying pandas\\tests\\io\\pytables\\test_retain_attributes.py -> build\\lib.win-amd64-cpython-311\\pandas\\tests\\io\\pytables\n",
      "  copying pandas\\tests\\io\\pytables\\test_round_trip.py -> build\\lib.win-amd64-cpython-311\\pandas\\tests\\io\\pytables\n",
      "  copying pandas\\tests\\io\\pytables\\test_select.py -> build\\lib.win-amd64-cpython-311\\pandas\\tests\\io\\pytables\n",
      "  copying pandas\\tests\\io\\pytables\\test_store.py -> build\\lib.win-amd64-cpython-311\\pandas\\tests\\io\\pytables\n",
      "  copying pandas\\tests\\io\\pytables\\test_subclass.py -> build\\lib.win-amd64-cpython-311\\pandas\\tests\\io\\pytables\n",
      "  copying pandas\\tests\\io\\pytables\\test_timezones.py -> build\\lib.win-amd64-cpython-311\\pandas\\tests\\io\\pytables\n",
      "  copying pandas\\tests\\io\\pytables\\test_time_series.py -> build\\lib.win-amd64-cpython-311\\pandas\\tests\\io\\pytables\n",
      "  copying pandas\\tests\\io\\pytables\\__init__.py -> build\\lib.win-amd64-cpython-311\\pandas\\tests\\io\\pytables\n",
      "  creating build\\lib.win-amd64-cpython-311\\pandas\\tests\\io\\sas\n",
      "  copying pandas\\tests\\io\\sas\\test_sas.py -> build\\lib.win-amd64-cpython-311\\pandas\\tests\\io\\sas\n",
      "  copying pandas\\tests\\io\\sas\\test_sas7bdat.py -> build\\lib.win-amd64-cpython-311\\pandas\\tests\\io\\sas\n",
      "  copying pandas\\tests\\io\\sas\\test_xport.py -> build\\lib.win-amd64-cpython-311\\pandas\\tests\\io\\sas\n",
      "  copying pandas\\tests\\io\\sas\\__init__.py -> build\\lib.win-amd64-cpython-311\\pandas\\tests\\io\\sas\n",
      "  creating build\\lib.win-amd64-cpython-311\\pandas\\tests\\io\\formats\\style\n",
      "  copying pandas\\tests\\io\\formats\\style\\test_align.py -> build\\lib.win-amd64-cpython-311\\pandas\\tests\\io\\formats\\style\n",
      "  copying pandas\\tests\\io\\formats\\style\\test_format.py -> build\\lib.win-amd64-cpython-311\\pandas\\tests\\io\\formats\\style\n",
      "  copying pandas\\tests\\io\\formats\\style\\test_highlight.py -> build\\lib.win-amd64-cpython-311\\pandas\\tests\\io\\formats\\style\n",
      "  copying pandas\\tests\\io\\formats\\style\\test_html.py -> build\\lib.win-amd64-cpython-311\\pandas\\tests\\io\\formats\\style\n",
      "  copying pandas\\tests\\io\\formats\\style\\test_matplotlib.py -> build\\lib.win-amd64-cpython-311\\pandas\\tests\\io\\formats\\style\n",
      "  copying pandas\\tests\\io\\formats\\style\\test_non_unique.py -> build\\lib.win-amd64-cpython-311\\pandas\\tests\\io\\formats\\style\n",
      "  copying pandas\\tests\\io\\formats\\style\\test_style.py -> build\\lib.win-amd64-cpython-311\\pandas\\tests\\io\\formats\\style\n",
      "  copying pandas\\tests\\io\\formats\\style\\test_tooltip.py -> build\\lib.win-amd64-cpython-311\\pandas\\tests\\io\\formats\\style\n",
      "  copying pandas\\tests\\io\\formats\\style\\test_to_latex.py -> build\\lib.win-amd64-cpython-311\\pandas\\tests\\io\\formats\\style\n",
      "  copying pandas\\tests\\io\\formats\\style\\__init__.py -> build\\lib.win-amd64-cpython-311\\pandas\\tests\\io\\formats\\style\n",
      "  creating build\\lib.win-amd64-cpython-311\\pandas\\tests\\io\\parser\\common\n",
      "  copying pandas\\tests\\io\\parser\\common\\test_chunksize.py -> build\\lib.win-amd64-cpython-311\\pandas\\tests\\io\\parser\\common\n",
      "  copying pandas\\tests\\io\\parser\\common\\test_common_basic.py -> build\\lib.win-amd64-cpython-311\\pandas\\tests\\io\\parser\\common\n",
      "  copying pandas\\tests\\io\\parser\\common\\test_data_list.py -> build\\lib.win-amd64-cpython-311\\pandas\\tests\\io\\parser\\common\n",
      "  copying pandas\\tests\\io\\parser\\common\\test_decimal.py -> build\\lib.win-amd64-cpython-311\\pandas\\tests\\io\\parser\\common\n",
      "  copying pandas\\tests\\io\\parser\\common\\test_file_buffer_url.py -> build\\lib.win-amd64-cpython-311\\pandas\\tests\\io\\parser\\common\n",
      "  copying pandas\\tests\\io\\parser\\common\\test_float.py -> build\\lib.win-amd64-cpython-311\\pandas\\tests\\io\\parser\\common\n",
      "  copying pandas\\tests\\io\\parser\\common\\test_index.py -> build\\lib.win-amd64-cpython-311\\pandas\\tests\\io\\parser\\common\n",
      "  copying pandas\\tests\\io\\parser\\common\\test_inf.py -> build\\lib.win-amd64-cpython-311\\pandas\\tests\\io\\parser\\common\n",
      "  copying pandas\\tests\\io\\parser\\common\\test_ints.py -> build\\lib.win-amd64-cpython-311\\pandas\\tests\\io\\parser\\common\n",
      "  copying pandas\\tests\\io\\parser\\common\\test_iterator.py -> build\\lib.win-amd64-cpython-311\\pandas\\tests\\io\\parser\\common\n",
      "  copying pandas\\tests\\io\\parser\\common\\test_read_errors.py -> build\\lib.win-amd64-cpython-311\\pandas\\tests\\io\\parser\\common\n",
      "  copying pandas\\tests\\io\\parser\\common\\test_verbose.py -> build\\lib.win-amd64-cpython-311\\pandas\\tests\\io\\parser\\common\n",
      "  copying pandas\\tests\\io\\parser\\common\\__init__.py -> build\\lib.win-amd64-cpython-311\\pandas\\tests\\io\\parser\\common\n",
      "  creating build\\lib.win-amd64-cpython-311\\pandas\\tests\\io\\parser\\dtypes\n",
      "  copying pandas\\tests\\io\\parser\\dtypes\\test_categorical.py -> build\\lib.win-amd64-cpython-311\\pandas\\tests\\io\\parser\\dtypes\n",
      "  copying pandas\\tests\\io\\parser\\dtypes\\test_dtypes_basic.py -> build\\lib.win-amd64-cpython-311\\pandas\\tests\\io\\parser\\dtypes\n",
      "  copying pandas\\tests\\io\\parser\\dtypes\\test_empty.py -> build\\lib.win-amd64-cpython-311\\pandas\\tests\\io\\parser\\dtypes\n",
      "  copying pandas\\tests\\io\\parser\\dtypes\\__init__.py -> build\\lib.win-amd64-cpython-311\\pandas\\tests\\io\\parser\\dtypes\n",
      "  creating build\\lib.win-amd64-cpython-311\\pandas\\tests\\io\\parser\\usecols\n",
      "  copying pandas\\tests\\io\\parser\\usecols\\test_parse_dates.py -> build\\lib.win-amd64-cpython-311\\pandas\\tests\\io\\parser\\usecols\n",
      "  copying pandas\\tests\\io\\parser\\usecols\\test_strings.py -> build\\lib.win-amd64-cpython-311\\pandas\\tests\\io\\parser\\usecols\n",
      "  copying pandas\\tests\\io\\parser\\usecols\\test_usecols_basic.py -> build\\lib.win-amd64-cpython-311\\pandas\\tests\\io\\parser\\usecols\n",
      "  copying pandas\\tests\\io\\parser\\usecols\\__init__.py -> build\\lib.win-amd64-cpython-311\\pandas\\tests\\io\\parser\\usecols\n",
      "  creating build\\lib.win-amd64-cpython-311\\pandas\\tests\\plotting\\frame\n",
      "  copying pandas\\tests\\plotting\\frame\\test_frame.py -> build\\lib.win-amd64-cpython-311\\pandas\\tests\\plotting\\frame\n",
      "  copying pandas\\tests\\plotting\\frame\\test_frame_color.py -> build\\lib.win-amd64-cpython-311\\pandas\\tests\\plotting\\frame\n",
      "  copying pandas\\tests\\plotting\\frame\\test_frame_groupby.py -> build\\lib.win-amd64-cpython-311\\pandas\\tests\\plotting\\frame\n",
      "  copying pandas\\tests\\plotting\\frame\\test_frame_legend.py -> build\\lib.win-amd64-cpython-311\\pandas\\tests\\plotting\\frame\n",
      "  copying pandas\\tests\\plotting\\frame\\test_frame_subplots.py -> build\\lib.win-amd64-cpython-311\\pandas\\tests\\plotting\\frame\n",
      "  copying pandas\\tests\\plotting\\frame\\__init__.py -> build\\lib.win-amd64-cpython-311\\pandas\\tests\\plotting\\frame\n",
      "  creating build\\lib.win-amd64-cpython-311\\pandas\\tests\\reshape\\concat\n",
      "  copying pandas\\tests\\reshape\\concat\\conftest.py -> build\\lib.win-amd64-cpython-311\\pandas\\tests\\reshape\\concat\n",
      "  copying pandas\\tests\\reshape\\concat\\test_append.py -> build\\lib.win-amd64-cpython-311\\pandas\\tests\\reshape\\concat\n",
      "  copying pandas\\tests\\reshape\\concat\\test_append_common.py -> build\\lib.win-amd64-cpython-311\\pandas\\tests\\reshape\\concat\n",
      "  copying pandas\\tests\\reshape\\concat\\test_categorical.py -> build\\lib.win-amd64-cpython-311\\pandas\\tests\\reshape\\concat\n",
      "  copying pandas\\tests\\reshape\\concat\\test_concat.py -> build\\lib.win-amd64-cpython-311\\pandas\\tests\\reshape\\concat\n",
      "  copying pandas\\tests\\reshape\\concat\\test_dataframe.py -> build\\lib.win-amd64-cpython-311\\pandas\\tests\\reshape\\concat\n",
      "  copying pandas\\tests\\reshape\\concat\\test_datetimes.py -> build\\lib.win-amd64-cpython-311\\pandas\\tests\\reshape\\concat\n",
      "  copying pandas\\tests\\reshape\\concat\\test_empty.py -> build\\lib.win-amd64-cpython-311\\pandas\\tests\\reshape\\concat\n",
      "  copying pandas\\tests\\reshape\\concat\\test_index.py -> build\\lib.win-amd64-cpython-311\\pandas\\tests\\reshape\\concat\n",
      "  copying pandas\\tests\\reshape\\concat\\test_invalid.py -> build\\lib.win-amd64-cpython-311\\pandas\\tests\\reshape\\concat\n",
      "  copying pandas\\tests\\reshape\\concat\\test_series.py -> build\\lib.win-amd64-cpython-311\\pandas\\tests\\reshape\\concat\n",
      "  copying pandas\\tests\\reshape\\concat\\test_sort.py -> build\\lib.win-amd64-cpython-311\\pandas\\tests\\reshape\\concat\n",
      "  copying pandas\\tests\\reshape\\concat\\__init__.py -> build\\lib.win-amd64-cpython-311\\pandas\\tests\\reshape\\concat\n",
      "  creating build\\lib.win-amd64-cpython-311\\pandas\\tests\\reshape\\merge\n",
      "  copying pandas\\tests\\reshape\\merge\\test_join.py -> build\\lib.win-amd64-cpython-311\\pandas\\tests\\reshape\\merge\n",
      "  copying pandas\\tests\\reshape\\merge\\test_merge.py -> build\\lib.win-amd64-cpython-311\\pandas\\tests\\reshape\\merge\n",
      "  copying pandas\\tests\\reshape\\merge\\test_merge_asof.py -> build\\lib.win-amd64-cpython-311\\pandas\\tests\\reshape\\merge\n",
      "  copying pandas\\tests\\reshape\\merge\\test_merge_cross.py -> build\\lib.win-amd64-cpython-311\\pandas\\tests\\reshape\\merge\n",
      "  copying pandas\\tests\\reshape\\merge\\test_merge_index_as_string.py -> build\\lib.win-amd64-cpython-311\\pandas\\tests\\reshape\\merge\n",
      "  copying pandas\\tests\\reshape\\merge\\test_merge_ordered.py -> build\\lib.win-amd64-cpython-311\\pandas\\tests\\reshape\\merge\n",
      "  copying pandas\\tests\\reshape\\merge\\test_multi.py -> build\\lib.win-amd64-cpython-311\\pandas\\tests\\reshape\\merge\n",
      "  copying pandas\\tests\\reshape\\merge\\__init__.py -> build\\lib.win-amd64-cpython-311\\pandas\\tests\\reshape\\merge\n",
      "  creating build\\lib.win-amd64-cpython-311\\pandas\\tests\\scalar\\interval\n",
      "  copying pandas\\tests\\scalar\\interval\\test_arithmetic.py -> build\\lib.win-amd64-cpython-311\\pandas\\tests\\scalar\\interval\n",
      "  copying pandas\\tests\\scalar\\interval\\test_interval.py -> build\\lib.win-amd64-cpython-311\\pandas\\tests\\scalar\\interval\n",
      "  copying pandas\\tests\\scalar\\interval\\test_ops.py -> build\\lib.win-amd64-cpython-311\\pandas\\tests\\scalar\\interval\n",
      "  copying pandas\\tests\\scalar\\interval\\__init__.py -> build\\lib.win-amd64-cpython-311\\pandas\\tests\\scalar\\interval\n",
      "  creating build\\lib.win-amd64-cpython-311\\pandas\\tests\\scalar\\period\n",
      "  copying pandas\\tests\\scalar\\period\\test_asfreq.py -> build\\lib.win-amd64-cpython-311\\pandas\\tests\\scalar\\period\n",
      "  copying pandas\\tests\\scalar\\period\\test_period.py -> build\\lib.win-amd64-cpython-311\\pandas\\tests\\scalar\\period\n",
      "  copying pandas\\tests\\scalar\\period\\__init__.py -> build\\lib.win-amd64-cpython-311\\pandas\\tests\\scalar\\period\n",
      "  creating build\\lib.win-amd64-cpython-311\\pandas\\tests\\scalar\\timedelta\n",
      "  copying pandas\\tests\\scalar\\timedelta\\test_arithmetic.py -> build\\lib.win-amd64-cpython-311\\pandas\\tests\\scalar\\timedelta\n",
      "  copying pandas\\tests\\scalar\\timedelta\\test_constructors.py -> build\\lib.win-amd64-cpython-311\\pandas\\tests\\scalar\\timedelta\n",
      "  copying pandas\\tests\\scalar\\timedelta\\test_formats.py -> build\\lib.win-amd64-cpython-311\\pandas\\tests\\scalar\\timedelta\n",
      "  copying pandas\\tests\\scalar\\timedelta\\test_timedelta.py -> build\\lib.win-amd64-cpython-311\\pandas\\tests\\scalar\\timedelta\n",
      "  copying pandas\\tests\\scalar\\timedelta\\__init__.py -> build\\lib.win-amd64-cpython-311\\pandas\\tests\\scalar\\timedelta\n",
      "  creating build\\lib.win-amd64-cpython-311\\pandas\\tests\\scalar\\timestamp\n",
      "  copying pandas\\tests\\scalar\\timestamp\\test_arithmetic.py -> build\\lib.win-amd64-cpython-311\\pandas\\tests\\scalar\\timestamp\n",
      "  copying pandas\\tests\\scalar\\timestamp\\test_comparisons.py -> build\\lib.win-amd64-cpython-311\\pandas\\tests\\scalar\\timestamp\n",
      "  copying pandas\\tests\\scalar\\timestamp\\test_constructors.py -> build\\lib.win-amd64-cpython-311\\pandas\\tests\\scalar\\timestamp\n",
      "  copying pandas\\tests\\scalar\\timestamp\\test_rendering.py -> build\\lib.win-amd64-cpython-311\\pandas\\tests\\scalar\\timestamp\n",
      "  copying pandas\\tests\\scalar\\timestamp\\test_timestamp.py -> build\\lib.win-amd64-cpython-311\\pandas\\tests\\scalar\\timestamp\n",
      "  copying pandas\\tests\\scalar\\timestamp\\test_timezones.py -> build\\lib.win-amd64-cpython-311\\pandas\\tests\\scalar\\timestamp\n",
      "  copying pandas\\tests\\scalar\\timestamp\\test_unary_ops.py -> build\\lib.win-amd64-cpython-311\\pandas\\tests\\scalar\\timestamp\n",
      "  copying pandas\\tests\\scalar\\timestamp\\__init__.py -> build\\lib.win-amd64-cpython-311\\pandas\\tests\\scalar\\timestamp\n",
      "  creating build\\lib.win-amd64-cpython-311\\pandas\\tests\\series\\accessors\n",
      "  copying pandas\\tests\\series\\accessors\\test_cat_accessor.py -> build\\lib.win-amd64-cpython-311\\pandas\\tests\\series\\accessors\n",
      "  copying pandas\\tests\\series\\accessors\\test_dt_accessor.py -> build\\lib.win-amd64-cpython-311\\pandas\\tests\\series\\accessors\n",
      "  copying pandas\\tests\\series\\accessors\\test_sparse_accessor.py -> build\\lib.win-amd64-cpython-311\\pandas\\tests\\series\\accessors\n",
      "  copying pandas\\tests\\series\\accessors\\test_str_accessor.py -> build\\lib.win-amd64-cpython-311\\pandas\\tests\\series\\accessors\n",
      "  copying pandas\\tests\\series\\accessors\\__init__.py -> build\\lib.win-amd64-cpython-311\\pandas\\tests\\series\\accessors\n",
      "  creating build\\lib.win-amd64-cpython-311\\pandas\\tests\\series\\indexing\n",
      "  copying pandas\\tests\\series\\indexing\\test_datetime.py -> build\\lib.win-amd64-cpython-311\\pandas\\tests\\series\\indexing\n",
      "  copying pandas\\tests\\series\\indexing\\test_delitem.py -> build\\lib.win-amd64-cpython-311\\pandas\\tests\\series\\indexing\n",
      "  copying pandas\\tests\\series\\indexing\\test_get.py -> build\\lib.win-amd64-cpython-311\\pandas\\tests\\series\\indexing\n",
      "  copying pandas\\tests\\series\\indexing\\test_getitem.py -> build\\lib.win-amd64-cpython-311\\pandas\\tests\\series\\indexing\n",
      "  copying pandas\\tests\\series\\indexing\\test_indexing.py -> build\\lib.win-amd64-cpython-311\\pandas\\tests\\series\\indexing\n",
      "  copying pandas\\tests\\series\\indexing\\test_mask.py -> build\\lib.win-amd64-cpython-311\\pandas\\tests\\series\\indexing\n",
      "  copying pandas\\tests\\series\\indexing\\test_setitem.py -> build\\lib.win-amd64-cpython-311\\pandas\\tests\\series\\indexing\n",
      "  copying pandas\\tests\\series\\indexing\\test_set_value.py -> build\\lib.win-amd64-cpython-311\\pandas\\tests\\series\\indexing\n",
      "  copying pandas\\tests\\series\\indexing\\test_take.py -> build\\lib.win-amd64-cpython-311\\pandas\\tests\\series\\indexing\n",
      "  copying pandas\\tests\\series\\indexing\\test_where.py -> build\\lib.win-amd64-cpython-311\\pandas\\tests\\series\\indexing\n",
      "  copying pandas\\tests\\series\\indexing\\test_xs.py -> build\\lib.win-amd64-cpython-311\\pandas\\tests\\series\\indexing\n",
      "  copying pandas\\tests\\series\\indexing\\__init__.py -> build\\lib.win-amd64-cpython-311\\pandas\\tests\\series\\indexing\n",
      "  creating build\\lib.win-amd64-cpython-311\\pandas\\tests\\series\\methods\n",
      "  copying pandas\\tests\\series\\methods\\test_align.py -> build\\lib.win-amd64-cpython-311\\pandas\\tests\\series\\methods\n",
      "  copying pandas\\tests\\series\\methods\\test_append.py -> build\\lib.win-amd64-cpython-311\\pandas\\tests\\series\\methods\n",
      "  copying pandas\\tests\\series\\methods\\test_argsort.py -> build\\lib.win-amd64-cpython-311\\pandas\\tests\\series\\methods\n",
      "  copying pandas\\tests\\series\\methods\\test_asfreq.py -> build\\lib.win-amd64-cpython-311\\pandas\\tests\\series\\methods\n",
      "  copying pandas\\tests\\series\\methods\\test_asof.py -> build\\lib.win-amd64-cpython-311\\pandas\\tests\\series\\methods\n",
      "  copying pandas\\tests\\series\\methods\\test_astype.py -> build\\lib.win-amd64-cpython-311\\pandas\\tests\\series\\methods\n",
      "  copying pandas\\tests\\series\\methods\\test_autocorr.py -> build\\lib.win-amd64-cpython-311\\pandas\\tests\\series\\methods\n",
      "  copying pandas\\tests\\series\\methods\\test_between.py -> build\\lib.win-amd64-cpython-311\\pandas\\tests\\series\\methods\n",
      "  copying pandas\\tests\\series\\methods\\test_clip.py -> build\\lib.win-amd64-cpython-311\\pandas\\tests\\series\\methods\n",
      "  copying pandas\\tests\\series\\methods\\test_combine.py -> build\\lib.win-amd64-cpython-311\\pandas\\tests\\series\\methods\n",
      "  copying pandas\\tests\\series\\methods\\test_combine_first.py -> build\\lib.win-amd64-cpython-311\\pandas\\tests\\series\\methods\n",
      "  copying pandas\\tests\\series\\methods\\test_compare.py -> build\\lib.win-amd64-cpython-311\\pandas\\tests\\series\\methods\n",
      "  copying pandas\\tests\\series\\methods\\test_convert.py -> build\\lib.win-amd64-cpython-311\\pandas\\tests\\series\\methods\n",
      "  copying pandas\\tests\\series\\methods\\test_convert_dtypes.py -> build\\lib.win-amd64-cpython-311\\pandas\\tests\\series\\methods\n",
      "  copying pandas\\tests\\series\\methods\\test_copy.py -> build\\lib.win-amd64-cpython-311\\pandas\\tests\\series\\methods\n",
      "  copying pandas\\tests\\series\\methods\\test_count.py -> build\\lib.win-amd64-cpython-311\\pandas\\tests\\series\\methods\n",
      "  copying pandas\\tests\\series\\methods\\test_cov_corr.py -> build\\lib.win-amd64-cpython-311\\pandas\\tests\\series\\methods\n",
      "  copying pandas\\tests\\series\\methods\\test_describe.py -> build\\lib.win-amd64-cpython-311\\pandas\\tests\\series\\methods\n",
      "  copying pandas\\tests\\series\\methods\\test_diff.py -> build\\lib.win-amd64-cpython-311\\pandas\\tests\\series\\methods\n",
      "  copying pandas\\tests\\series\\methods\\test_drop.py -> build\\lib.win-amd64-cpython-311\\pandas\\tests\\series\\methods\n",
      "  copying pandas\\tests\\series\\methods\\test_dropna.py -> build\\lib.win-amd64-cpython-311\\pandas\\tests\\series\\methods\n",
      "  copying pandas\\tests\\series\\methods\\test_drop_duplicates.py -> build\\lib.win-amd64-cpython-311\\pandas\\tests\\series\\methods\n",
      "  copying pandas\\tests\\series\\methods\\test_dtypes.py -> build\\lib.win-amd64-cpython-311\\pandas\\tests\\series\\methods\n",
      "  copying pandas\\tests\\series\\methods\\test_duplicated.py -> build\\lib.win-amd64-cpython-311\\pandas\\tests\\series\\methods\n",
      "  copying pandas\\tests\\series\\methods\\test_equals.py -> build\\lib.win-amd64-cpython-311\\pandas\\tests\\series\\methods\n",
      "  copying pandas\\tests\\series\\methods\\test_explode.py -> build\\lib.win-amd64-cpython-311\\pandas\\tests\\series\\methods\n",
      "  copying pandas\\tests\\series\\methods\\test_fillna.py -> build\\lib.win-amd64-cpython-311\\pandas\\tests\\series\\methods\n",
      "  copying pandas\\tests\\series\\methods\\test_get_numeric_data.py -> build\\lib.win-amd64-cpython-311\\pandas\\tests\\series\\methods\n",
      "  copying pandas\\tests\\series\\methods\\test_head_tail.py -> build\\lib.win-amd64-cpython-311\\pandas\\tests\\series\\methods\n",
      "  copying pandas\\tests\\series\\methods\\test_infer_objects.py -> build\\lib.win-amd64-cpython-311\\pandas\\tests\\series\\methods\n",
      "  copying pandas\\tests\\series\\methods\\test_interpolate.py -> build\\lib.win-amd64-cpython-311\\pandas\\tests\\series\\methods\n",
      "  copying pandas\\tests\\series\\methods\\test_isin.py -> build\\lib.win-amd64-cpython-311\\pandas\\tests\\series\\methods\n",
      "  copying pandas\\tests\\series\\methods\\test_isna.py -> build\\lib.win-amd64-cpython-311\\pandas\\tests\\series\\methods\n",
      "  copying pandas\\tests\\series\\methods\\test_is_monotonic.py -> build\\lib.win-amd64-cpython-311\\pandas\\tests\\series\\methods\n",
      "  copying pandas\\tests\\series\\methods\\test_is_unique.py -> build\\lib.win-amd64-cpython-311\\pandas\\tests\\series\\methods\n",
      "  copying pandas\\tests\\series\\methods\\test_item.py -> build\\lib.win-amd64-cpython-311\\pandas\\tests\\series\\methods\n",
      "  copying pandas\\tests\\series\\methods\\test_matmul.py -> build\\lib.win-amd64-cpython-311\\pandas\\tests\\series\\methods\n",
      "  copying pandas\\tests\\series\\methods\\test_nlargest.py -> build\\lib.win-amd64-cpython-311\\pandas\\tests\\series\\methods\n",
      "  copying pandas\\tests\\series\\methods\\test_nunique.py -> build\\lib.win-amd64-cpython-311\\pandas\\tests\\series\\methods\n",
      "  copying pandas\\tests\\series\\methods\\test_pct_change.py -> build\\lib.win-amd64-cpython-311\\pandas\\tests\\series\\methods\n",
      "  copying pandas\\tests\\series\\methods\\test_pop.py -> build\\lib.win-amd64-cpython-311\\pandas\\tests\\series\\methods\n",
      "  copying pandas\\tests\\series\\methods\\test_quantile.py -> build\\lib.win-amd64-cpython-311\\pandas\\tests\\series\\methods\n",
      "  copying pandas\\tests\\series\\methods\\test_rank.py -> build\\lib.win-amd64-cpython-311\\pandas\\tests\\series\\methods\n",
      "  copying pandas\\tests\\series\\methods\\test_reindex.py -> build\\lib.win-amd64-cpython-311\\pandas\\tests\\series\\methods\n",
      "  copying pandas\\tests\\series\\methods\\test_reindex_like.py -> build\\lib.win-amd64-cpython-311\\pandas\\tests\\series\\methods\n",
      "  copying pandas\\tests\\series\\methods\\test_rename.py -> build\\lib.win-amd64-cpython-311\\pandas\\tests\\series\\methods\n",
      "  copying pandas\\tests\\series\\methods\\test_rename_axis.py -> build\\lib.win-amd64-cpython-311\\pandas\\tests\\series\\methods\n",
      "  copying pandas\\tests\\series\\methods\\test_repeat.py -> build\\lib.win-amd64-cpython-311\\pandas\\tests\\series\\methods\n",
      "  copying pandas\\tests\\series\\methods\\test_replace.py -> build\\lib.win-amd64-cpython-311\\pandas\\tests\\series\\methods\n",
      "  copying pandas\\tests\\series\\methods\\test_reset_index.py -> build\\lib.win-amd64-cpython-311\\pandas\\tests\\series\\methods\n",
      "  copying pandas\\tests\\series\\methods\\test_round.py -> build\\lib.win-amd64-cpython-311\\pandas\\tests\\series\\methods\n",
      "  copying pandas\\tests\\series\\methods\\test_searchsorted.py -> build\\lib.win-amd64-cpython-311\\pandas\\tests\\series\\methods\n",
      "  copying pandas\\tests\\series\\methods\\test_set_name.py -> build\\lib.win-amd64-cpython-311\\pandas\\tests\\series\\methods\n",
      "  copying pandas\\tests\\series\\methods\\test_shift.py -> build\\lib.win-amd64-cpython-311\\pandas\\tests\\series\\methods\n",
      "  copying pandas\\tests\\series\\methods\\test_sort_index.py -> build\\lib.win-amd64-cpython-311\\pandas\\tests\\series\\methods\n",
      "  copying pandas\\tests\\series\\methods\\test_sort_values.py -> build\\lib.win-amd64-cpython-311\\pandas\\tests\\series\\methods\n",
      "  copying pandas\\tests\\series\\methods\\test_to_csv.py -> build\\lib.win-amd64-cpython-311\\pandas\\tests\\series\\methods\n",
      "  copying pandas\\tests\\series\\methods\\test_to_dict.py -> build\\lib.win-amd64-cpython-311\\pandas\\tests\\series\\methods\n",
      "  copying pandas\\tests\\series\\methods\\test_to_frame.py -> build\\lib.win-amd64-cpython-311\\pandas\\tests\\series\\methods\n",
      "  copying pandas\\tests\\series\\methods\\test_truncate.py -> build\\lib.win-amd64-cpython-311\\pandas\\tests\\series\\methods\n",
      "  copying pandas\\tests\\series\\methods\\test_tz_convert.py -> build\\lib.win-amd64-cpython-311\\pandas\\tests\\series\\methods\n",
      "  copying pandas\\tests\\series\\methods\\test_tz_localize.py -> build\\lib.win-amd64-cpython-311\\pandas\\tests\\series\\methods\n",
      "  copying pandas\\tests\\series\\methods\\test_unique.py -> build\\lib.win-amd64-cpython-311\\pandas\\tests\\series\\methods\n",
      "  copying pandas\\tests\\series\\methods\\test_unstack.py -> build\\lib.win-amd64-cpython-311\\pandas\\tests\\series\\methods\n",
      "  copying pandas\\tests\\series\\methods\\test_update.py -> build\\lib.win-amd64-cpython-311\\pandas\\tests\\series\\methods\n",
      "  copying pandas\\tests\\series\\methods\\test_values.py -> build\\lib.win-amd64-cpython-311\\pandas\\tests\\series\\methods\n",
      "  copying pandas\\tests\\series\\methods\\test_value_counts.py -> build\\lib.win-amd64-cpython-311\\pandas\\tests\\series\\methods\n",
      "  copying pandas\\tests\\series\\methods\\test_view.py -> build\\lib.win-amd64-cpython-311\\pandas\\tests\\series\\methods\n",
      "  copying pandas\\tests\\series\\methods\\__init__.py -> build\\lib.win-amd64-cpython-311\\pandas\\tests\\series\\methods\n",
      "  creating build\\lib.win-amd64-cpython-311\\pandas\\tests\\tseries\\frequencies\n",
      "  copying pandas\\tests\\tseries\\frequencies\\test_frequencies.py -> build\\lib.win-amd64-cpython-311\\pandas\\tests\\tseries\\frequencies\n",
      "  copying pandas\\tests\\tseries\\frequencies\\test_freq_code.py -> build\\lib.win-amd64-cpython-311\\pandas\\tests\\tseries\\frequencies\n",
      "  copying pandas\\tests\\tseries\\frequencies\\test_inference.py -> build\\lib.win-amd64-cpython-311\\pandas\\tests\\tseries\\frequencies\n",
      "  copying pandas\\tests\\tseries\\frequencies\\__init__.py -> build\\lib.win-amd64-cpython-311\\pandas\\tests\\tseries\\frequencies\n",
      "  creating build\\lib.win-amd64-cpython-311\\pandas\\tests\\tseries\\holiday\n",
      "  copying pandas\\tests\\tseries\\holiday\\test_calendar.py -> build\\lib.win-amd64-cpython-311\\pandas\\tests\\tseries\\holiday\n",
      "  copying pandas\\tests\\tseries\\holiday\\test_federal.py -> build\\lib.win-amd64-cpython-311\\pandas\\tests\\tseries\\holiday\n",
      "  copying pandas\\tests\\tseries\\holiday\\test_holiday.py -> build\\lib.win-amd64-cpython-311\\pandas\\tests\\tseries\\holiday\n",
      "  copying pandas\\tests\\tseries\\holiday\\test_observance.py -> build\\lib.win-amd64-cpython-311\\pandas\\tests\\tseries\\holiday\n",
      "  copying pandas\\tests\\tseries\\holiday\\__init__.py -> build\\lib.win-amd64-cpython-311\\pandas\\tests\\tseries\\holiday\n",
      "  creating build\\lib.win-amd64-cpython-311\\pandas\\tests\\tseries\\offsets\n",
      "  copying pandas\\tests\\tseries\\offsets\\common.py -> build\\lib.win-amd64-cpython-311\\pandas\\tests\\tseries\\offsets\n",
      "  copying pandas\\tests\\tseries\\offsets\\conftest.py -> build\\lib.win-amd64-cpython-311\\pandas\\tests\\tseries\\offsets\n",
      "  copying pandas\\tests\\tseries\\offsets\\test_business_day.py -> build\\lib.win-amd64-cpython-311\\pandas\\tests\\tseries\\offsets\n",
      "  copying pandas\\tests\\tseries\\offsets\\test_business_hour.py -> build\\lib.win-amd64-cpython-311\\pandas\\tests\\tseries\\offsets\n",
      "  copying pandas\\tests\\tseries\\offsets\\test_custom_business_hour.py -> build\\lib.win-amd64-cpython-311\\pandas\\tests\\tseries\\offsets\n",
      "  copying pandas\\tests\\tseries\\offsets\\test_dst.py -> build\\lib.win-amd64-cpython-311\\pandas\\tests\\tseries\\offsets\n",
      "  copying pandas\\tests\\tseries\\offsets\\test_fiscal.py -> build\\lib.win-amd64-cpython-311\\pandas\\tests\\tseries\\offsets\n",
      "  copying pandas\\tests\\tseries\\offsets\\test_month.py -> build\\lib.win-amd64-cpython-311\\pandas\\tests\\tseries\\offsets\n",
      "  copying pandas\\tests\\tseries\\offsets\\test_offsets.py -> build\\lib.win-amd64-cpython-311\\pandas\\tests\\tseries\\offsets\n",
      "  copying pandas\\tests\\tseries\\offsets\\test_offsets_properties.py -> build\\lib.win-amd64-cpython-311\\pandas\\tests\\tseries\\offsets\n",
      "  copying pandas\\tests\\tseries\\offsets\\test_opening_times.py -> build\\lib.win-amd64-cpython-311\\pandas\\tests\\tseries\\offsets\n",
      "  copying pandas\\tests\\tseries\\offsets\\test_ticks.py -> build\\lib.win-amd64-cpython-311\\pandas\\tests\\tseries\\offsets\n",
      "  copying pandas\\tests\\tseries\\offsets\\test_week.py -> build\\lib.win-amd64-cpython-311\\pandas\\tests\\tseries\\offsets\n",
      "  copying pandas\\tests\\tseries\\offsets\\test_yqm_offsets.py -> build\\lib.win-amd64-cpython-311\\pandas\\tests\\tseries\\offsets\n",
      "  copying pandas\\tests\\tseries\\offsets\\__init__.py -> build\\lib.win-amd64-cpython-311\\pandas\\tests\\tseries\\offsets\n",
      "  creating build\\lib.win-amd64-cpython-311\\pandas\\tests\\window\\moments\n",
      "  copying pandas\\tests\\window\\moments\\conftest.py -> build\\lib.win-amd64-cpython-311\\pandas\\tests\\window\\moments\n",
      "  copying pandas\\tests\\window\\moments\\test_moments_consistency_ewm.py -> build\\lib.win-amd64-cpython-311\\pandas\\tests\\window\\moments\n",
      "  copying pandas\\tests\\window\\moments\\test_moments_consistency_expanding.py -> build\\lib.win-amd64-cpython-311\\pandas\\tests\\window\\moments\n",
      "  copying pandas\\tests\\window\\moments\\test_moments_consistency_rolling.py -> build\\lib.win-amd64-cpython-311\\pandas\\tests\\window\\moments\n",
      "  copying pandas\\tests\\window\\moments\\test_moments_ewm.py -> build\\lib.win-amd64-cpython-311\\pandas\\tests\\window\\moments\n",
      "  copying pandas\\tests\\window\\moments\\test_moments_rolling.py -> build\\lib.win-amd64-cpython-311\\pandas\\tests\\window\\moments\n",
      "  copying pandas\\tests\\window\\moments\\test_moments_rolling_apply.py -> build\\lib.win-amd64-cpython-311\\pandas\\tests\\window\\moments\n",
      "  copying pandas\\tests\\window\\moments\\test_moments_rolling_functions.py -> build\\lib.win-amd64-cpython-311\\pandas\\tests\\window\\moments\n",
      "  copying pandas\\tests\\window\\moments\\test_moments_rolling_quantile.py -> build\\lib.win-amd64-cpython-311\\pandas\\tests\\window\\moments\n",
      "  copying pandas\\tests\\window\\moments\\test_moments_rolling_skew_kurt.py -> build\\lib.win-amd64-cpython-311\\pandas\\tests\\window\\moments\n",
      "  copying pandas\\tests\\window\\moments\\__init__.py -> build\\lib.win-amd64-cpython-311\\pandas\\tests\\window\\moments\n",
      "  creating build\\lib.win-amd64-cpython-311\\pandas\\util\\version\n",
      "  copying pandas\\util\\version\\__init__.py -> build\\lib.win-amd64-cpython-311\\pandas\\util\\version\n",
      "  creating build\\lib.win-amd64-cpython-311\\pandas\\_libs\\tslibs\n",
      "  copying pandas\\_libs\\tslibs\\__init__.py -> build\\lib.win-amd64-cpython-311\\pandas\\_libs\\tslibs\n",
      "  creating build\\lib.win-amd64-cpython-311\\pandas\\_libs\\window\n",
      "  copying pandas\\_libs\\window\\__init__.py -> build\\lib.win-amd64-cpython-311\\pandas\\_libs\\window\n",
      "  running egg_info\n",
      "  writing pandas.egg-info\\PKG-INFO\n",
      "  writing dependency_links to pandas.egg-info\\dependency_links.txt\n",
      "  writing entry points to pandas.egg-info\\entry_points.txt\n",
      "  writing requirements to pandas.egg-info\\requires.txt\n",
      "  writing top-level names to pandas.egg-info\\top_level.txt\n",
      "  dependency C:\\Users\\gabri\\AppData\\Local\\Temp\\pip-build-env-n5ey8eu1\\overlay\\Lib\\site-packages\\numpy\\core\\include\\numpy\\arrayobject.h won't be automatically included in the manifest: the path must be relative\n",
      "  dependency C:\\Users\\gabri\\AppData\\Local\\Temp\\pip-build-env-n5ey8eu1\\overlay\\Lib\\site-packages\\numpy\\core\\include\\numpy\\arrayscalars.h won't be automatically included in the manifest: the path must be relative\n",
      "  dependency C:\\Users\\gabri\\AppData\\Local\\Temp\\pip-build-env-n5ey8eu1\\overlay\\Lib\\site-packages\\numpy\\core\\include\\numpy\\ndarrayobject.h won't be automatically included in the manifest: the path must be relative\n",
      "  dependency C:\\Users\\gabri\\AppData\\Local\\Temp\\pip-build-env-n5ey8eu1\\overlay\\Lib\\site-packages\\numpy\\core\\include\\numpy\\ndarraytypes.h won't be automatically included in the manifest: the path must be relative\n",
      "  dependency C:\\Users\\gabri\\AppData\\Local\\Temp\\pip-build-env-n5ey8eu1\\overlay\\Lib\\site-packages\\numpy\\core\\include\\numpy\\npy_common.h won't be automatically included in the manifest: the path must be relative\n",
      "  dependency C:\\Users\\gabri\\AppData\\Local\\Temp\\pip-build-env-n5ey8eu1\\overlay\\Lib\\site-packages\\numpy\\core\\include\\numpy\\ufuncobject.h won't be automatically included in the manifest: the path must be relative\n",
      "  dependency C:\\Users\\gabri\\AppData\\Local\\Temp\\pip-build-env-n5ey8eu1\\overlay\\Lib\\site-packages\\numpy\\core\\include\\numpy\\arrayobject.h won't be automatically included in the manifest: the path must be relative\n",
      "  dependency C:\\Users\\gabri\\AppData\\Local\\Temp\\pip-build-env-n5ey8eu1\\overlay\\Lib\\site-packages\\numpy\\core\\include\\numpy\\arrayscalars.h won't be automatically included in the manifest: the path must be relative\n",
      "  dependency C:\\Users\\gabri\\AppData\\Local\\Temp\\pip-build-env-n5ey8eu1\\overlay\\Lib\\site-packages\\numpy\\core\\include\\numpy\\ndarrayobject.h won't be automatically included in the manifest: the path must be relative\n",
      "  dependency C:\\Users\\gabri\\AppData\\Local\\Temp\\pip-build-env-n5ey8eu1\\overlay\\Lib\\site-packages\\numpy\\core\\include\\numpy\\ndarraytypes.h won't be automatically included in the manifest: the path must be relative\n",
      "  dependency C:\\Users\\gabri\\AppData\\Local\\Temp\\pip-build-env-n5ey8eu1\\overlay\\Lib\\site-packages\\numpy\\core\\include\\numpy\\ufuncobject.h won't be automatically included in the manifest: the path must be relative\n",
      "  dependency C:\\Users\\gabri\\AppData\\Local\\Temp\\pip-build-env-n5ey8eu1\\overlay\\Lib\\site-packages\\numpy\\core\\include\\numpy\\arrayobject.h won't be automatically included in the manifest: the path must be relative\n",
      "  dependency C:\\Users\\gabri\\AppData\\Local\\Temp\\pip-build-env-n5ey8eu1\\overlay\\Lib\\site-packages\\numpy\\core\\include\\numpy\\arrayscalars.h won't be automatically included in the manifest: the path must be relative\n",
      "  dependency C:\\Users\\gabri\\AppData\\Local\\Temp\\pip-build-env-n5ey8eu1\\overlay\\Lib\\site-packages\\numpy\\core\\include\\numpy\\ndarrayobject.h won't be automatically included in the manifest: the path must be relative\n",
      "  dependency C:\\Users\\gabri\\AppData\\Local\\Temp\\pip-build-env-n5ey8eu1\\overlay\\Lib\\site-packages\\numpy\\core\\include\\numpy\\ndarraytypes.h won't be automatically included in the manifest: the path must be relative\n",
      "  dependency C:\\Users\\gabri\\AppData\\Local\\Temp\\pip-build-env-n5ey8eu1\\overlay\\Lib\\site-packages\\numpy\\core\\include\\numpy\\npy_common.h won't be automatically included in the manifest: the path must be relative\n",
      "  dependency C:\\Users\\gabri\\AppData\\Local\\Temp\\pip-build-env-n5ey8eu1\\overlay\\Lib\\site-packages\\numpy\\core\\include\\numpy\\npy_math.h won't be automatically included in the manifest: the path must be relative\n",
      "  dependency C:\\Users\\gabri\\AppData\\Local\\Temp\\pip-build-env-n5ey8eu1\\overlay\\Lib\\site-packages\\numpy\\core\\include\\numpy\\ufuncobject.h won't be automatically included in the manifest: the path must be relative\n",
      "  dependency C:\\Users\\gabri\\AppData\\Local\\Temp\\pip-build-env-n5ey8eu1\\overlay\\Lib\\site-packages\\numpy\\core\\include\\numpy\\arrayobject.h won't be automatically included in the manifest: the path must be relative\n",
      "  dependency C:\\Users\\gabri\\AppData\\Local\\Temp\\pip-build-env-n5ey8eu1\\overlay\\Lib\\site-packages\\numpy\\core\\include\\numpy\\arrayscalars.h won't be automatically included in the manifest: the path must be relative\n",
      "  dependency C:\\Users\\gabri\\AppData\\Local\\Temp\\pip-build-env-n5ey8eu1\\overlay\\Lib\\site-packages\\numpy\\core\\include\\numpy\\ndarrayobject.h won't be automatically included in the manifest: the path must be relative\n",
      "  dependency C:\\Users\\gabri\\AppData\\Local\\Temp\\pip-build-env-n5ey8eu1\\overlay\\Lib\\site-packages\\numpy\\core\\include\\numpy\\ndarraytypes.h won't be automatically included in the manifest: the path must be relative\n",
      "  dependency C:\\Users\\gabri\\AppData\\Local\\Temp\\pip-build-env-n5ey8eu1\\overlay\\Lib\\site-packages\\numpy\\core\\include\\numpy\\npy_common.h won't be automatically included in the manifest: the path must be relative\n",
      "  dependency C:\\Users\\gabri\\AppData\\Local\\Temp\\pip-build-env-n5ey8eu1\\overlay\\Lib\\site-packages\\numpy\\core\\include\\numpy\\ufuncobject.h won't be automatically included in the manifest: the path must be relative\n",
      "  dependency C:\\Users\\gabri\\AppData\\Local\\Temp\\pip-build-env-n5ey8eu1\\overlay\\Lib\\site-packages\\numpy\\core\\include\\numpy\\arrayobject.h won't be automatically included in the manifest: the path must be relative\n",
      "  dependency C:\\Users\\gabri\\AppData\\Local\\Temp\\pip-build-env-n5ey8eu1\\overlay\\Lib\\site-packages\\numpy\\core\\include\\numpy\\arrayscalars.h won't be automatically included in the manifest: the path must be relative\n",
      "  dependency C:\\Users\\gabri\\AppData\\Local\\Temp\\pip-build-env-n5ey8eu1\\overlay\\Lib\\site-packages\\numpy\\core\\include\\numpy\\ndarrayobject.h won't be automatically included in the manifest: the path must be relative\n",
      "  dependency C:\\Users\\gabri\\AppData\\Local\\Temp\\pip-build-env-n5ey8eu1\\overlay\\Lib\\site-packages\\numpy\\core\\include\\numpy\\ndarraytypes.h won't be automatically included in the manifest: the path must be relative\n",
      "  dependency C:\\Users\\gabri\\AppData\\Local\\Temp\\pip-build-env-n5ey8eu1\\overlay\\Lib\\site-packages\\numpy\\core\\include\\numpy\\npy_common.h won't be automatically included in the manifest: the path must be relative\n",
      "  dependency C:\\Users\\gabri\\AppData\\Local\\Temp\\pip-build-env-n5ey8eu1\\overlay\\Lib\\site-packages\\numpy\\core\\include\\numpy\\npy_math.h won't be automatically included in the manifest: the path must be relative\n",
      "  dependency C:\\Users\\gabri\\AppData\\Local\\Temp\\pip-build-env-n5ey8eu1\\overlay\\Lib\\site-packages\\numpy\\core\\include\\numpy\\ufuncobject.h won't be automatically included in the manifest: the path must be relative\n",
      "  dependency C:\\Users\\gabri\\AppData\\Local\\Temp\\pip-build-env-n5ey8eu1\\overlay\\Lib\\site-packages\\numpy\\core\\include\\numpy\\arrayobject.h won't be automatically included in the manifest: the path must be relative\n",
      "  dependency C:\\Users\\gabri\\AppData\\Local\\Temp\\pip-build-env-n5ey8eu1\\overlay\\Lib\\site-packages\\numpy\\core\\include\\numpy\\arrayscalars.h won't be automatically included in the manifest: the path must be relative\n",
      "  dependency C:\\Users\\gabri\\AppData\\Local\\Temp\\pip-build-env-n5ey8eu1\\overlay\\Lib\\site-packages\\numpy\\core\\include\\numpy\\ndarrayobject.h won't be automatically included in the manifest: the path must be relative\n",
      "  dependency C:\\Users\\gabri\\AppData\\Local\\Temp\\pip-build-env-n5ey8eu1\\overlay\\Lib\\site-packages\\numpy\\core\\include\\numpy\\ndarraytypes.h won't be automatically included in the manifest: the path must be relative\n",
      "  dependency C:\\Users\\gabri\\AppData\\Local\\Temp\\pip-build-env-n5ey8eu1\\overlay\\Lib\\site-packages\\numpy\\core\\include\\numpy\\npy_common.h won't be automatically included in the manifest: the path must be relative\n",
      "  dependency C:\\Users\\gabri\\AppData\\Local\\Temp\\pip-build-env-n5ey8eu1\\overlay\\Lib\\site-packages\\numpy\\core\\include\\numpy\\ufuncobject.h won't be automatically included in the manifest: the path must be relative\n",
      "  dependency C:\\Users\\gabri\\AppData\\Local\\Temp\\pip-build-env-n5ey8eu1\\overlay\\Lib\\site-packages\\numpy\\core\\include\\numpy\\arrayobject.h won't be automatically included in the manifest: the path must be relative\n",
      "  dependency C:\\Users\\gabri\\AppData\\Local\\Temp\\pip-build-env-n5ey8eu1\\overlay\\Lib\\site-packages\\numpy\\core\\include\\numpy\\arrayscalars.h won't be automatically included in the manifest: the path must be relative\n",
      "  dependency C:\\Users\\gabri\\AppData\\Local\\Temp\\pip-build-env-n5ey8eu1\\overlay\\Lib\\site-packages\\numpy\\core\\include\\numpy\\ndarrayobject.h won't be automatically included in the manifest: the path must be relative\n",
      "  dependency C:\\Users\\gabri\\AppData\\Local\\Temp\\pip-build-env-n5ey8eu1\\overlay\\Lib\\site-packages\\numpy\\core\\include\\numpy\\ndarraytypes.h won't be automatically included in the manifest: the path must be relative\n",
      "  dependency C:\\Users\\gabri\\AppData\\Local\\Temp\\pip-build-env-n5ey8eu1\\overlay\\Lib\\site-packages\\numpy\\core\\include\\numpy\\npy_common.h won't be automatically included in the manifest: the path must be relative\n",
      "  dependency C:\\Users\\gabri\\AppData\\Local\\Temp\\pip-build-env-n5ey8eu1\\overlay\\Lib\\site-packages\\numpy\\core\\include\\numpy\\ufuncobject.h won't be automatically included in the manifest: the path must be relative\n",
      "  dependency C:\\Users\\gabri\\AppData\\Local\\Temp\\pip-build-env-n5ey8eu1\\overlay\\Lib\\site-packages\\numpy\\core\\include\\numpy\\arrayobject.h won't be automatically included in the manifest: the path must be relative\n",
      "  dependency C:\\Users\\gabri\\AppData\\Local\\Temp\\pip-build-env-n5ey8eu1\\overlay\\Lib\\site-packages\\numpy\\core\\include\\numpy\\arrayscalars.h won't be automatically included in the manifest: the path must be relative\n",
      "  dependency C:\\Users\\gabri\\AppData\\Local\\Temp\\pip-build-env-n5ey8eu1\\overlay\\Lib\\site-packages\\numpy\\core\\include\\numpy\\ndarrayobject.h won't be automatically included in the manifest: the path must be relative\n",
      "  dependency C:\\Users\\gabri\\AppData\\Local\\Temp\\pip-build-env-n5ey8eu1\\overlay\\Lib\\site-packages\\numpy\\core\\include\\numpy\\ndarraytypes.h won't be automatically included in the manifest: the path must be relative\n",
      "  dependency C:\\Users\\gabri\\AppData\\Local\\Temp\\pip-build-env-n5ey8eu1\\overlay\\Lib\\site-packages\\numpy\\core\\include\\numpy\\npy_common.h won't be automatically included in the manifest: the path must be relative\n",
      "  dependency C:\\Users\\gabri\\AppData\\Local\\Temp\\pip-build-env-n5ey8eu1\\overlay\\Lib\\site-packages\\numpy\\core\\include\\numpy\\ufuncobject.h won't be automatically included in the manifest: the path must be relative\n",
      "  dependency C:\\Users\\gabri\\AppData\\Local\\Temp\\pip-build-env-n5ey8eu1\\overlay\\Lib\\site-packages\\numpy\\core\\include\\numpy\\arrayobject.h won't be automatically included in the manifest: the path must be relative\n",
      "  dependency C:\\Users\\gabri\\AppData\\Local\\Temp\\pip-build-env-n5ey8eu1\\overlay\\Lib\\site-packages\\numpy\\core\\include\\numpy\\arrayscalars.h won't be automatically included in the manifest: the path must be relative\n",
      "  dependency C:\\Users\\gabri\\AppData\\Local\\Temp\\pip-build-env-n5ey8eu1\\overlay\\Lib\\site-packages\\numpy\\core\\include\\numpy\\ndarrayobject.h won't be automatically included in the manifest: the path must be relative\n",
      "  dependency C:\\Users\\gabri\\AppData\\Local\\Temp\\pip-build-env-n5ey8eu1\\overlay\\Lib\\site-packages\\numpy\\core\\include\\numpy\\ndarraytypes.h won't be automatically included in the manifest: the path must be relative\n",
      "  dependency C:\\Users\\gabri\\AppData\\Local\\Temp\\pip-build-env-n5ey8eu1\\overlay\\Lib\\site-packages\\numpy\\core\\include\\numpy\\ufuncobject.h won't be automatically included in the manifest: the path must be relative\n",
      "  dependency C:\\Users\\gabri\\AppData\\Local\\Temp\\pip-build-env-n5ey8eu1\\overlay\\Lib\\site-packages\\numpy\\core\\include\\numpy\\arrayobject.h won't be automatically included in the manifest: the path must be relative\n",
      "  dependency C:\\Users\\gabri\\AppData\\Local\\Temp\\pip-build-env-n5ey8eu1\\overlay\\Lib\\site-packages\\numpy\\core\\include\\numpy\\arrayscalars.h won't be automatically included in the manifest: the path must be relative\n",
      "  dependency C:\\Users\\gabri\\AppData\\Local\\Temp\\pip-build-env-n5ey8eu1\\overlay\\Lib\\site-packages\\numpy\\core\\include\\numpy\\ndarrayobject.h won't be automatically included in the manifest: the path must be relative\n",
      "  dependency C:\\Users\\gabri\\AppData\\Local\\Temp\\pip-build-env-n5ey8eu1\\overlay\\Lib\\site-packages\\numpy\\core\\include\\numpy\\ndarraytypes.h won't be automatically included in the manifest: the path must be relative\n",
      "  dependency C:\\Users\\gabri\\AppData\\Local\\Temp\\pip-build-env-n5ey8eu1\\overlay\\Lib\\site-packages\\numpy\\core\\include\\numpy\\npy_common.h won't be automatically included in the manifest: the path must be relative\n",
      "  dependency C:\\Users\\gabri\\AppData\\Local\\Temp\\pip-build-env-n5ey8eu1\\overlay\\Lib\\site-packages\\numpy\\core\\include\\numpy\\ufuncobject.h won't be automatically included in the manifest: the path must be relative\n",
      "  dependency C:\\Users\\gabri\\AppData\\Local\\Temp\\pip-build-env-n5ey8eu1\\overlay\\Lib\\site-packages\\numpy\\core\\include\\numpy\\arrayobject.h won't be automatically included in the manifest: the path must be relative\n",
      "  dependency C:\\Users\\gabri\\AppData\\Local\\Temp\\pip-build-env-n5ey8eu1\\overlay\\Lib\\site-packages\\numpy\\core\\include\\numpy\\arrayscalars.h won't be automatically included in the manifest: the path must be relative\n",
      "  dependency C:\\Users\\gabri\\AppData\\Local\\Temp\\pip-build-env-n5ey8eu1\\overlay\\Lib\\site-packages\\numpy\\core\\include\\numpy\\ndarrayobject.h won't be automatically included in the manifest: the path must be relative\n",
      "  dependency C:\\Users\\gabri\\AppData\\Local\\Temp\\pip-build-env-n5ey8eu1\\overlay\\Lib\\site-packages\\numpy\\core\\include\\numpy\\ndarraytypes.h won't be automatically included in the manifest: the path must be relative\n",
      "  dependency C:\\Users\\gabri\\AppData\\Local\\Temp\\pip-build-env-n5ey8eu1\\overlay\\Lib\\site-packages\\numpy\\core\\include\\numpy\\ufuncobject.h won't be automatically included in the manifest: the path must be relative\n",
      "  dependency C:\\Users\\gabri\\AppData\\Local\\Temp\\pip-build-env-n5ey8eu1\\overlay\\Lib\\site-packages\\numpy\\core\\include\\numpy\\arrayobject.h won't be automatically included in the manifest: the path must be relative\n",
      "  dependency C:\\Users\\gabri\\AppData\\Local\\Temp\\pip-build-env-n5ey8eu1\\overlay\\Lib\\site-packages\\numpy\\core\\include\\numpy\\arrayscalars.h won't be automatically included in the manifest: the path must be relative\n",
      "  dependency C:\\Users\\gabri\\AppData\\Local\\Temp\\pip-build-env-n5ey8eu1\\overlay\\Lib\\site-packages\\numpy\\core\\include\\numpy\\ndarrayobject.h won't be automatically included in the manifest: the path must be relative\n",
      "  dependency C:\\Users\\gabri\\AppData\\Local\\Temp\\pip-build-env-n5ey8eu1\\overlay\\Lib\\site-packages\\numpy\\core\\include\\numpy\\ndarraytypes.h won't be automatically included in the manifest: the path must be relative\n",
      "  dependency C:\\Users\\gabri\\AppData\\Local\\Temp\\pip-build-env-n5ey8eu1\\overlay\\Lib\\site-packages\\numpy\\core\\include\\numpy\\npy_common.h won't be automatically included in the manifest: the path must be relative\n",
      "  dependency C:\\Users\\gabri\\AppData\\Local\\Temp\\pip-build-env-n5ey8eu1\\overlay\\Lib\\site-packages\\numpy\\core\\include\\numpy\\ufuncobject.h won't be automatically included in the manifest: the path must be relative\n",
      "  dependency C:\\Users\\gabri\\AppData\\Local\\Temp\\pip-build-env-n5ey8eu1\\overlay\\Lib\\site-packages\\numpy\\core\\include\\numpy\\arrayobject.h won't be automatically included in the manifest: the path must be relative\n",
      "  dependency C:\\Users\\gabri\\AppData\\Local\\Temp\\pip-build-env-n5ey8eu1\\overlay\\Lib\\site-packages\\numpy\\core\\include\\numpy\\arrayscalars.h won't be automatically included in the manifest: the path must be relative\n",
      "  dependency C:\\Users\\gabri\\AppData\\Local\\Temp\\pip-build-env-n5ey8eu1\\overlay\\Lib\\site-packages\\numpy\\core\\include\\numpy\\ndarrayobject.h won't be automatically included in the manifest: the path must be relative\n",
      "  dependency C:\\Users\\gabri\\AppData\\Local\\Temp\\pip-build-env-n5ey8eu1\\overlay\\Lib\\site-packages\\numpy\\core\\include\\numpy\\ndarraytypes.h won't be automatically included in the manifest: the path must be relative\n",
      "  dependency C:\\Users\\gabri\\AppData\\Local\\Temp\\pip-build-env-n5ey8eu1\\overlay\\Lib\\site-packages\\numpy\\core\\include\\numpy\\npy_common.h won't be automatically included in the manifest: the path must be relative\n",
      "  dependency C:\\Users\\gabri\\AppData\\Local\\Temp\\pip-build-env-n5ey8eu1\\overlay\\Lib\\site-packages\\numpy\\core\\include\\numpy\\ufuncobject.h won't be automatically included in the manifest: the path must be relative\n",
      "  dependency C:\\Users\\gabri\\AppData\\Local\\Temp\\pip-build-env-n5ey8eu1\\overlay\\Lib\\site-packages\\numpy\\core\\include\\numpy\\arrayobject.h won't be automatically included in the manifest: the path must be relative\n",
      "  dependency C:\\Users\\gabri\\AppData\\Local\\Temp\\pip-build-env-n5ey8eu1\\overlay\\Lib\\site-packages\\numpy\\core\\include\\numpy\\arrayscalars.h won't be automatically included in the manifest: the path must be relative\n",
      "  dependency C:\\Users\\gabri\\AppData\\Local\\Temp\\pip-build-env-n5ey8eu1\\overlay\\Lib\\site-packages\\numpy\\core\\include\\numpy\\ndarrayobject.h won't be automatically included in the manifest: the path must be relative\n",
      "  dependency C:\\Users\\gabri\\AppData\\Local\\Temp\\pip-build-env-n5ey8eu1\\overlay\\Lib\\site-packages\\numpy\\core\\include\\numpy\\ndarraytypes.h won't be automatically included in the manifest: the path must be relative\n",
      "  dependency C:\\Users\\gabri\\AppData\\Local\\Temp\\pip-build-env-n5ey8eu1\\overlay\\Lib\\site-packages\\numpy\\core\\include\\numpy\\npy_common.h won't be automatically included in the manifest: the path must be relative\n",
      "  dependency C:\\Users\\gabri\\AppData\\Local\\Temp\\pip-build-env-n5ey8eu1\\overlay\\Lib\\site-packages\\numpy\\core\\include\\numpy\\ufuncobject.h won't be automatically included in the manifest: the path must be relative\n",
      "  dependency C:\\Users\\gabri\\AppData\\Local\\Temp\\pip-build-env-n5ey8eu1\\overlay\\Lib\\site-packages\\numpy\\core\\include\\numpy\\arrayobject.h won't be automatically included in the manifest: the path must be relative\n",
      "  dependency C:\\Users\\gabri\\AppData\\Local\\Temp\\pip-build-env-n5ey8eu1\\overlay\\Lib\\site-packages\\numpy\\core\\include\\numpy\\arrayscalars.h won't be automatically included in the manifest: the path must be relative\n",
      "  dependency C:\\Users\\gabri\\AppData\\Local\\Temp\\pip-build-env-n5ey8eu1\\overlay\\Lib\\site-packages\\numpy\\core\\include\\numpy\\ndarrayobject.h won't be automatically included in the manifest: the path must be relative\n",
      "  dependency C:\\Users\\gabri\\AppData\\Local\\Temp\\pip-build-env-n5ey8eu1\\overlay\\Lib\\site-packages\\numpy\\core\\include\\numpy\\ndarraytypes.h won't be automatically included in the manifest: the path must be relative\n",
      "  dependency C:\\Users\\gabri\\AppData\\Local\\Temp\\pip-build-env-n5ey8eu1\\overlay\\Lib\\site-packages\\numpy\\core\\include\\numpy\\ufuncobject.h won't be automatically included in the manifest: the path must be relative\n",
      "  dependency C:\\Users\\gabri\\AppData\\Local\\Temp\\pip-build-env-n5ey8eu1\\overlay\\Lib\\site-packages\\numpy\\core\\include\\numpy\\arrayobject.h won't be automatically included in the manifest: the path must be relative\n",
      "  dependency C:\\Users\\gabri\\AppData\\Local\\Temp\\pip-build-env-n5ey8eu1\\overlay\\Lib\\site-packages\\numpy\\core\\include\\numpy\\arrayscalars.h won't be automatically included in the manifest: the path must be relative\n",
      "  dependency C:\\Users\\gabri\\AppData\\Local\\Temp\\pip-build-env-n5ey8eu1\\overlay\\Lib\\site-packages\\numpy\\core\\include\\numpy\\ndarrayobject.h won't be automatically included in the manifest: the path must be relative\n",
      "  dependency C:\\Users\\gabri\\AppData\\Local\\Temp\\pip-build-env-n5ey8eu1\\overlay\\Lib\\site-packages\\numpy\\core\\include\\numpy\\ndarraytypes.h won't be automatically included in the manifest: the path must be relative\n",
      "  dependency C:\\Users\\gabri\\AppData\\Local\\Temp\\pip-build-env-n5ey8eu1\\overlay\\Lib\\site-packages\\numpy\\core\\include\\numpy\\ufuncobject.h won't be automatically included in the manifest: the path must be relative\n",
      "  dependency C:\\Users\\gabri\\AppData\\Local\\Temp\\pip-build-env-n5ey8eu1\\overlay\\Lib\\site-packages\\numpy\\core\\include\\numpy\\arrayobject.h won't be automatically included in the manifest: the path must be relative\n",
      "  dependency C:\\Users\\gabri\\AppData\\Local\\Temp\\pip-build-env-n5ey8eu1\\overlay\\Lib\\site-packages\\numpy\\core\\include\\numpy\\arrayscalars.h won't be automatically included in the manifest: the path must be relative\n",
      "  dependency C:\\Users\\gabri\\AppData\\Local\\Temp\\pip-build-env-n5ey8eu1\\overlay\\Lib\\site-packages\\numpy\\core\\include\\numpy\\ndarrayobject.h won't be automatically included in the manifest: the path must be relative\n",
      "  dependency C:\\Users\\gabri\\AppData\\Local\\Temp\\pip-build-env-n5ey8eu1\\overlay\\Lib\\site-packages\\numpy\\core\\include\\numpy\\ndarraytypes.h won't be automatically included in the manifest: the path must be relative\n",
      "  dependency C:\\Users\\gabri\\AppData\\Local\\Temp\\pip-build-env-n5ey8eu1\\overlay\\Lib\\site-packages\\numpy\\core\\include\\numpy\\npy_common.h won't be automatically included in the manifest: the path must be relative\n",
      "  dependency C:\\Users\\gabri\\AppData\\Local\\Temp\\pip-build-env-n5ey8eu1\\overlay\\Lib\\site-packages\\numpy\\core\\include\\numpy\\ufuncobject.h won't be automatically included in the manifest: the path must be relative\n",
      "  dependency C:\\Users\\gabri\\AppData\\Local\\Temp\\pip-build-env-n5ey8eu1\\overlay\\Lib\\site-packages\\numpy\\core\\include\\numpy\\arrayobject.h won't be automatically included in the manifest: the path must be relative\n",
      "  dependency C:\\Users\\gabri\\AppData\\Local\\Temp\\pip-build-env-n5ey8eu1\\overlay\\Lib\\site-packages\\numpy\\core\\include\\numpy\\arrayscalars.h won't be automatically included in the manifest: the path must be relative\n",
      "  dependency C:\\Users\\gabri\\AppData\\Local\\Temp\\pip-build-env-n5ey8eu1\\overlay\\Lib\\site-packages\\numpy\\core\\include\\numpy\\ndarrayobject.h won't be automatically included in the manifest: the path must be relative\n",
      "  dependency C:\\Users\\gabri\\AppData\\Local\\Temp\\pip-build-env-n5ey8eu1\\overlay\\Lib\\site-packages\\numpy\\core\\include\\numpy\\ndarraytypes.h won't be automatically included in the manifest: the path must be relative\n",
      "  dependency C:\\Users\\gabri\\AppData\\Local\\Temp\\pip-build-env-n5ey8eu1\\overlay\\Lib\\site-packages\\numpy\\core\\include\\numpy\\ufuncobject.h won't be automatically included in the manifest: the path must be relative\n",
      "  dependency C:\\Users\\gabri\\AppData\\Local\\Temp\\pip-build-env-n5ey8eu1\\overlay\\Lib\\site-packages\\numpy\\core\\include\\numpy\\arrayobject.h won't be automatically included in the manifest: the path must be relative\n",
      "  dependency C:\\Users\\gabri\\AppData\\Local\\Temp\\pip-build-env-n5ey8eu1\\overlay\\Lib\\site-packages\\numpy\\core\\include\\numpy\\arrayscalars.h won't be automatically included in the manifest: the path must be relative\n",
      "  dependency C:\\Users\\gabri\\AppData\\Local\\Temp\\pip-build-env-n5ey8eu1\\overlay\\Lib\\site-packages\\numpy\\core\\include\\numpy\\ndarrayobject.h won't be automatically included in the manifest: the path must be relative\n",
      "  dependency C:\\Users\\gabri\\AppData\\Local\\Temp\\pip-build-env-n5ey8eu1\\overlay\\Lib\\site-packages\\numpy\\core\\include\\numpy\\ndarraytypes.h won't be automatically included in the manifest: the path must be relative\n",
      "  dependency C:\\Users\\gabri\\AppData\\Local\\Temp\\pip-build-env-n5ey8eu1\\overlay\\Lib\\site-packages\\numpy\\core\\include\\numpy\\npy_common.h won't be automatically included in the manifest: the path must be relative\n",
      "  dependency C:\\Users\\gabri\\AppData\\Local\\Temp\\pip-build-env-n5ey8eu1\\overlay\\Lib\\site-packages\\numpy\\core\\include\\numpy\\ufuncobject.h won't be automatically included in the manifest: the path must be relative\n",
      "  dependency C:\\Users\\gabri\\AppData\\Local\\Temp\\pip-build-env-n5ey8eu1\\overlay\\Lib\\site-packages\\numpy\\core\\include\\numpy\\arrayobject.h won't be automatically included in the manifest: the path must be relative\n",
      "  dependency C:\\Users\\gabri\\AppData\\Local\\Temp\\pip-build-env-n5ey8eu1\\overlay\\Lib\\site-packages\\numpy\\core\\include\\numpy\\arrayscalars.h won't be automatically included in the manifest: the path must be relative\n",
      "  dependency C:\\Users\\gabri\\AppData\\Local\\Temp\\pip-build-env-n5ey8eu1\\overlay\\Lib\\site-packages\\numpy\\core\\include\\numpy\\ndarrayobject.h won't be automatically included in the manifest: the path must be relative\n",
      "  dependency C:\\Users\\gabri\\AppData\\Local\\Temp\\pip-build-env-n5ey8eu1\\overlay\\Lib\\site-packages\\numpy\\core\\include\\numpy\\ndarraytypes.h won't be automatically included in the manifest: the path must be relative\n",
      "  dependency C:\\Users\\gabri\\AppData\\Local\\Temp\\pip-build-env-n5ey8eu1\\overlay\\Lib\\site-packages\\numpy\\core\\include\\numpy\\ufuncobject.h won't be automatically included in the manifest: the path must be relative\n",
      "  dependency C:\\Users\\gabri\\AppData\\Local\\Temp\\pip-build-env-n5ey8eu1\\overlay\\Lib\\site-packages\\numpy\\core\\include\\numpy\\arrayobject.h won't be automatically included in the manifest: the path must be relative\n",
      "  dependency C:\\Users\\gabri\\AppData\\Local\\Temp\\pip-build-env-n5ey8eu1\\overlay\\Lib\\site-packages\\numpy\\core\\include\\numpy\\arrayscalars.h won't be automatically included in the manifest: the path must be relative\n",
      "  dependency C:\\Users\\gabri\\AppData\\Local\\Temp\\pip-build-env-n5ey8eu1\\overlay\\Lib\\site-packages\\numpy\\core\\include\\numpy\\ndarrayobject.h won't be automatically included in the manifest: the path must be relative\n",
      "  dependency C:\\Users\\gabri\\AppData\\Local\\Temp\\pip-build-env-n5ey8eu1\\overlay\\Lib\\site-packages\\numpy\\core\\include\\numpy\\ndarraytypes.h won't be automatically included in the manifest: the path must be relative\n",
      "  dependency C:\\Users\\gabri\\AppData\\Local\\Temp\\pip-build-env-n5ey8eu1\\overlay\\Lib\\site-packages\\numpy\\core\\include\\numpy\\npy_common.h won't be automatically included in the manifest: the path must be relative\n",
      "  dependency C:\\Users\\gabri\\AppData\\Local\\Temp\\pip-build-env-n5ey8eu1\\overlay\\Lib\\site-packages\\numpy\\core\\include\\numpy\\ufuncobject.h won't be automatically included in the manifest: the path must be relative\n",
      "  dependency C:\\Users\\gabri\\AppData\\Local\\Temp\\pip-build-env-n5ey8eu1\\overlay\\Lib\\site-packages\\numpy\\core\\include\\numpy\\arrayobject.h won't be automatically included in the manifest: the path must be relative\n",
      "  dependency C:\\Users\\gabri\\AppData\\Local\\Temp\\pip-build-env-n5ey8eu1\\overlay\\Lib\\site-packages\\numpy\\core\\include\\numpy\\arrayscalars.h won't be automatically included in the manifest: the path must be relative\n",
      "  dependency C:\\Users\\gabri\\AppData\\Local\\Temp\\pip-build-env-n5ey8eu1\\overlay\\Lib\\site-packages\\numpy\\core\\include\\numpy\\ndarrayobject.h won't be automatically included in the manifest: the path must be relative\n",
      "  dependency C:\\Users\\gabri\\AppData\\Local\\Temp\\pip-build-env-n5ey8eu1\\overlay\\Lib\\site-packages\\numpy\\core\\include\\numpy\\ndarraytypes.h won't be automatically included in the manifest: the path must be relative\n",
      "  dependency C:\\Users\\gabri\\AppData\\Local\\Temp\\pip-build-env-n5ey8eu1\\overlay\\Lib\\site-packages\\numpy\\core\\include\\numpy\\npy_common.h won't be automatically included in the manifest: the path must be relative\n",
      "  dependency C:\\Users\\gabri\\AppData\\Local\\Temp\\pip-build-env-n5ey8eu1\\overlay\\Lib\\site-packages\\numpy\\core\\include\\numpy\\ufuncobject.h won't be automatically included in the manifest: the path must be relative\n",
      "  dependency C:\\Users\\gabri\\AppData\\Local\\Temp\\pip-build-env-n5ey8eu1\\overlay\\Lib\\site-packages\\numpy\\core\\include\\numpy\\arrayobject.h won't be automatically included in the manifest: the path must be relative\n",
      "  dependency C:\\Users\\gabri\\AppData\\Local\\Temp\\pip-build-env-n5ey8eu1\\overlay\\Lib\\site-packages\\numpy\\core\\include\\numpy\\arrayscalars.h won't be automatically included in the manifest: the path must be relative\n",
      "  dependency C:\\Users\\gabri\\AppData\\Local\\Temp\\pip-build-env-n5ey8eu1\\overlay\\Lib\\site-packages\\numpy\\core\\include\\numpy\\ndarrayobject.h won't be automatically included in the manifest: the path must be relative\n",
      "  dependency C:\\Users\\gabri\\AppData\\Local\\Temp\\pip-build-env-n5ey8eu1\\overlay\\Lib\\site-packages\\numpy\\core\\include\\numpy\\ndarraytypes.h won't be automatically included in the manifest: the path must be relative\n",
      "  dependency C:\\Users\\gabri\\AppData\\Local\\Temp\\pip-build-env-n5ey8eu1\\overlay\\Lib\\site-packages\\numpy\\core\\include\\numpy\\npy_common.h won't be automatically included in the manifest: the path must be relative\n",
      "  dependency C:\\Users\\gabri\\AppData\\Local\\Temp\\pip-build-env-n5ey8eu1\\overlay\\Lib\\site-packages\\numpy\\core\\include\\numpy\\ufuncobject.h won't be automatically included in the manifest: the path must be relative\n",
      "  dependency C:\\Users\\gabri\\AppData\\Local\\Temp\\pip-build-env-n5ey8eu1\\overlay\\Lib\\site-packages\\numpy\\core\\include\\numpy\\arrayobject.h won't be automatically included in the manifest: the path must be relative\n",
      "  dependency C:\\Users\\gabri\\AppData\\Local\\Temp\\pip-build-env-n5ey8eu1\\overlay\\Lib\\site-packages\\numpy\\core\\include\\numpy\\arrayscalars.h won't be automatically included in the manifest: the path must be relative\n",
      "  dependency C:\\Users\\gabri\\AppData\\Local\\Temp\\pip-build-env-n5ey8eu1\\overlay\\Lib\\site-packages\\numpy\\core\\include\\numpy\\ndarrayobject.h won't be automatically included in the manifest: the path must be relative\n",
      "  dependency C:\\Users\\gabri\\AppData\\Local\\Temp\\pip-build-env-n5ey8eu1\\overlay\\Lib\\site-packages\\numpy\\core\\include\\numpy\\ndarraytypes.h won't be automatically included in the manifest: the path must be relative\n",
      "  dependency C:\\Users\\gabri\\AppData\\Local\\Temp\\pip-build-env-n5ey8eu1\\overlay\\Lib\\site-packages\\numpy\\core\\include\\numpy\\npy_common.h won't be automatically included in the manifest: the path must be relative\n",
      "  dependency C:\\Users\\gabri\\AppData\\Local\\Temp\\pip-build-env-n5ey8eu1\\overlay\\Lib\\site-packages\\numpy\\core\\include\\numpy\\ufuncobject.h won't be automatically included in the manifest: the path must be relative\n",
      "  dependency C:\\Users\\gabri\\AppData\\Local\\Temp\\pip-build-env-n5ey8eu1\\overlay\\Lib\\site-packages\\numpy\\core\\include\\numpy\\arrayobject.h won't be automatically included in the manifest: the path must be relative\n",
      "  dependency C:\\Users\\gabri\\AppData\\Local\\Temp\\pip-build-env-n5ey8eu1\\overlay\\Lib\\site-packages\\numpy\\core\\include\\numpy\\arrayscalars.h won't be automatically included in the manifest: the path must be relative\n",
      "  dependency C:\\Users\\gabri\\AppData\\Local\\Temp\\pip-build-env-n5ey8eu1\\overlay\\Lib\\site-packages\\numpy\\core\\include\\numpy\\ndarrayobject.h won't be automatically included in the manifest: the path must be relative\n",
      "  dependency C:\\Users\\gabri\\AppData\\Local\\Temp\\pip-build-env-n5ey8eu1\\overlay\\Lib\\site-packages\\numpy\\core\\include\\numpy\\ndarraytypes.h won't be automatically included in the manifest: the path must be relative\n",
      "  dependency C:\\Users\\gabri\\AppData\\Local\\Temp\\pip-build-env-n5ey8eu1\\overlay\\Lib\\site-packages\\numpy\\core\\include\\numpy\\npy_common.h won't be automatically included in the manifest: the path must be relative\n",
      "  dependency C:\\Users\\gabri\\AppData\\Local\\Temp\\pip-build-env-n5ey8eu1\\overlay\\Lib\\site-packages\\numpy\\core\\include\\numpy\\ufuncobject.h won't be automatically included in the manifest: the path must be relative\n",
      "  dependency C:\\Users\\gabri\\AppData\\Local\\Temp\\pip-build-env-n5ey8eu1\\overlay\\Lib\\site-packages\\numpy\\core\\include\\numpy\\arrayobject.h won't be automatically included in the manifest: the path must be relative\n",
      "  dependency C:\\Users\\gabri\\AppData\\Local\\Temp\\pip-build-env-n5ey8eu1\\overlay\\Lib\\site-packages\\numpy\\core\\include\\numpy\\arrayscalars.h won't be automatically included in the manifest: the path must be relative\n",
      "  dependency C:\\Users\\gabri\\AppData\\Local\\Temp\\pip-build-env-n5ey8eu1\\overlay\\Lib\\site-packages\\numpy\\core\\include\\numpy\\ndarrayobject.h won't be automatically included in the manifest: the path must be relative\n",
      "  dependency C:\\Users\\gabri\\AppData\\Local\\Temp\\pip-build-env-n5ey8eu1\\overlay\\Lib\\site-packages\\numpy\\core\\include\\numpy\\ndarraytypes.h won't be automatically included in the manifest: the path must be relative\n",
      "  dependency C:\\Users\\gabri\\AppData\\Local\\Temp\\pip-build-env-n5ey8eu1\\overlay\\Lib\\site-packages\\numpy\\core\\include\\numpy\\ufuncobject.h won't be automatically included in the manifest: the path must be relative\n",
      "  dependency C:\\Users\\gabri\\AppData\\Local\\Temp\\pip-build-env-n5ey8eu1\\overlay\\Lib\\site-packages\\numpy\\core\\include\\numpy\\arrayobject.h won't be automatically included in the manifest: the path must be relative\n",
      "  dependency C:\\Users\\gabri\\AppData\\Local\\Temp\\pip-build-env-n5ey8eu1\\overlay\\Lib\\site-packages\\numpy\\core\\include\\numpy\\arrayscalars.h won't be automatically included in the manifest: the path must be relative\n",
      "  dependency C:\\Users\\gabri\\AppData\\Local\\Temp\\pip-build-env-n5ey8eu1\\overlay\\Lib\\site-packages\\numpy\\core\\include\\numpy\\ndarrayobject.h won't be automatically included in the manifest: the path must be relative\n",
      "  dependency C:\\Users\\gabri\\AppData\\Local\\Temp\\pip-build-env-n5ey8eu1\\overlay\\Lib\\site-packages\\numpy\\core\\include\\numpy\\ndarraytypes.h won't be automatically included in the manifest: the path must be relative\n",
      "  dependency C:\\Users\\gabri\\AppData\\Local\\Temp\\pip-build-env-n5ey8eu1\\overlay\\Lib\\site-packages\\numpy\\core\\include\\numpy\\npy_common.h won't be automatically included in the manifest: the path must be relative\n",
      "  dependency C:\\Users\\gabri\\AppData\\Local\\Temp\\pip-build-env-n5ey8eu1\\overlay\\Lib\\site-packages\\numpy\\core\\include\\numpy\\ufuncobject.h won't be automatically included in the manifest: the path must be relative\n",
      "  dependency C:\\Users\\gabri\\AppData\\Local\\Temp\\pip-build-env-n5ey8eu1\\overlay\\Lib\\site-packages\\numpy\\core\\include\\numpy\\arrayobject.h won't be automatically included in the manifest: the path must be relative\n",
      "  dependency C:\\Users\\gabri\\AppData\\Local\\Temp\\pip-build-env-n5ey8eu1\\overlay\\Lib\\site-packages\\numpy\\core\\include\\numpy\\arrayscalars.h won't be automatically included in the manifest: the path must be relative\n",
      "  dependency C:\\Users\\gabri\\AppData\\Local\\Temp\\pip-build-env-n5ey8eu1\\overlay\\Lib\\site-packages\\numpy\\core\\include\\numpy\\ndarrayobject.h won't be automatically included in the manifest: the path must be relative\n",
      "  dependency C:\\Users\\gabri\\AppData\\Local\\Temp\\pip-build-env-n5ey8eu1\\overlay\\Lib\\site-packages\\numpy\\core\\include\\numpy\\ndarraytypes.h won't be automatically included in the manifest: the path must be relative\n",
      "  dependency C:\\Users\\gabri\\AppData\\Local\\Temp\\pip-build-env-n5ey8eu1\\overlay\\Lib\\site-packages\\numpy\\core\\include\\numpy\\npy_common.h won't be automatically included in the manifest: the path must be relative\n",
      "  dependency C:\\Users\\gabri\\AppData\\Local\\Temp\\pip-build-env-n5ey8eu1\\overlay\\Lib\\site-packages\\numpy\\core\\include\\numpy\\ufuncobject.h won't be automatically included in the manifest: the path must be relative\n",
      "  dependency C:\\Users\\gabri\\AppData\\Local\\Temp\\pip-build-env-n5ey8eu1\\overlay\\Lib\\site-packages\\numpy\\core\\include\\numpy\\arrayobject.h won't be automatically included in the manifest: the path must be relative\n",
      "  dependency C:\\Users\\gabri\\AppData\\Local\\Temp\\pip-build-env-n5ey8eu1\\overlay\\Lib\\site-packages\\numpy\\core\\include\\numpy\\arrayscalars.h won't be automatically included in the manifest: the path must be relative\n",
      "  dependency C:\\Users\\gabri\\AppData\\Local\\Temp\\pip-build-env-n5ey8eu1\\overlay\\Lib\\site-packages\\numpy\\core\\include\\numpy\\ndarrayobject.h won't be automatically included in the manifest: the path must be relative\n",
      "  dependency C:\\Users\\gabri\\AppData\\Local\\Temp\\pip-build-env-n5ey8eu1\\overlay\\Lib\\site-packages\\numpy\\core\\include\\numpy\\ndarraytypes.h won't be automatically included in the manifest: the path must be relative\n",
      "  dependency C:\\Users\\gabri\\AppData\\Local\\Temp\\pip-build-env-n5ey8eu1\\overlay\\Lib\\site-packages\\numpy\\core\\include\\numpy\\npy_common.h won't be automatically included in the manifest: the path must be relative\n",
      "  dependency C:\\Users\\gabri\\AppData\\Local\\Temp\\pip-build-env-n5ey8eu1\\overlay\\Lib\\site-packages\\numpy\\core\\include\\numpy\\ufuncobject.h won't be automatically included in the manifest: the path must be relative\n",
      "  dependency C:\\Users\\gabri\\AppData\\Local\\Temp\\pip-build-env-n5ey8eu1\\overlay\\Lib\\site-packages\\numpy\\core\\include\\numpy\\arrayobject.h won't be automatically included in the manifest: the path must be relative\n",
      "  dependency C:\\Users\\gabri\\AppData\\Local\\Temp\\pip-build-env-n5ey8eu1\\overlay\\Lib\\site-packages\\numpy\\core\\include\\numpy\\arrayscalars.h won't be automatically included in the manifest: the path must be relative\n",
      "  dependency C:\\Users\\gabri\\AppData\\Local\\Temp\\pip-build-env-n5ey8eu1\\overlay\\Lib\\site-packages\\numpy\\core\\include\\numpy\\ndarrayobject.h won't be automatically included in the manifest: the path must be relative\n",
      "  dependency C:\\Users\\gabri\\AppData\\Local\\Temp\\pip-build-env-n5ey8eu1\\overlay\\Lib\\site-packages\\numpy\\core\\include\\numpy\\ndarraytypes.h won't be automatically included in the manifest: the path must be relative\n",
      "  dependency C:\\Users\\gabri\\AppData\\Local\\Temp\\pip-build-env-n5ey8eu1\\overlay\\Lib\\site-packages\\numpy\\core\\include\\numpy\\ufuncobject.h won't be automatically included in the manifest: the path must be relative\n",
      "  dependency C:\\Users\\gabri\\AppData\\Local\\Temp\\pip-build-env-n5ey8eu1\\overlay\\Lib\\site-packages\\numpy\\core\\include\\numpy\\arrayobject.h won't be automatically included in the manifest: the path must be relative\n",
      "  dependency C:\\Users\\gabri\\AppData\\Local\\Temp\\pip-build-env-n5ey8eu1\\overlay\\Lib\\site-packages\\numpy\\core\\include\\numpy\\arrayscalars.h won't be automatically included in the manifest: the path must be relative\n",
      "  dependency C:\\Users\\gabri\\AppData\\Local\\Temp\\pip-build-env-n5ey8eu1\\overlay\\Lib\\site-packages\\numpy\\core\\include\\numpy\\ndarrayobject.h won't be automatically included in the manifest: the path must be relative\n",
      "  dependency C:\\Users\\gabri\\AppData\\Local\\Temp\\pip-build-env-n5ey8eu1\\overlay\\Lib\\site-packages\\numpy\\core\\include\\numpy\\ndarraytypes.h won't be automatically included in the manifest: the path must be relative\n",
      "  dependency C:\\Users\\gabri\\AppData\\Local\\Temp\\pip-build-env-n5ey8eu1\\overlay\\Lib\\site-packages\\numpy\\core\\include\\numpy\\ufuncobject.h won't be automatically included in the manifest: the path must be relative\n",
      "  dependency C:\\Users\\gabri\\AppData\\Local\\Temp\\pip-build-env-n5ey8eu1\\overlay\\Lib\\site-packages\\numpy\\core\\include\\numpy\\arrayobject.h won't be automatically included in the manifest: the path must be relative\n",
      "  dependency C:\\Users\\gabri\\AppData\\Local\\Temp\\pip-build-env-n5ey8eu1\\overlay\\Lib\\site-packages\\numpy\\core\\include\\numpy\\arrayscalars.h won't be automatically included in the manifest: the path must be relative\n",
      "  dependency C:\\Users\\gabri\\AppData\\Local\\Temp\\pip-build-env-n5ey8eu1\\overlay\\Lib\\site-packages\\numpy\\core\\include\\numpy\\ndarrayobject.h won't be automatically included in the manifest: the path must be relative\n",
      "  dependency C:\\Users\\gabri\\AppData\\Local\\Temp\\pip-build-env-n5ey8eu1\\overlay\\Lib\\site-packages\\numpy\\core\\include\\numpy\\ndarraytypes.h won't be automatically included in the manifest: the path must be relative\n",
      "  dependency C:\\Users\\gabri\\AppData\\Local\\Temp\\pip-build-env-n5ey8eu1\\overlay\\Lib\\site-packages\\numpy\\core\\include\\numpy\\npy_common.h won't be automatically included in the manifest: the path must be relative\n",
      "  dependency C:\\Users\\gabri\\AppData\\Local\\Temp\\pip-build-env-n5ey8eu1\\overlay\\Lib\\site-packages\\numpy\\core\\include\\numpy\\ufuncobject.h won't be automatically included in the manifest: the path must be relative\n",
      "  dependency C:\\Users\\gabri\\AppData\\Local\\Temp\\pip-build-env-n5ey8eu1\\overlay\\Lib\\site-packages\\numpy\\core\\include\\numpy\\arrayobject.h won't be automatically included in the manifest: the path must be relative\n",
      "  dependency C:\\Users\\gabri\\AppData\\Local\\Temp\\pip-build-env-n5ey8eu1\\overlay\\Lib\\site-packages\\numpy\\core\\include\\numpy\\arrayscalars.h won't be automatically included in the manifest: the path must be relative\n",
      "  dependency C:\\Users\\gabri\\AppData\\Local\\Temp\\pip-build-env-n5ey8eu1\\overlay\\Lib\\site-packages\\numpy\\core\\include\\numpy\\ndarrayobject.h won't be automatically included in the manifest: the path must be relative\n",
      "  dependency C:\\Users\\gabri\\AppData\\Local\\Temp\\pip-build-env-n5ey8eu1\\overlay\\Lib\\site-packages\\numpy\\core\\include\\numpy\\ndarraytypes.h won't be automatically included in the manifest: the path must be relative\n",
      "  dependency C:\\Users\\gabri\\AppData\\Local\\Temp\\pip-build-env-n5ey8eu1\\overlay\\Lib\\site-packages\\numpy\\core\\include\\numpy\\npy_common.h won't be automatically included in the manifest: the path must be relative\n",
      "  dependency C:\\Users\\gabri\\AppData\\Local\\Temp\\pip-build-env-n5ey8eu1\\overlay\\Lib\\site-packages\\numpy\\core\\include\\numpy\\ufuncobject.h won't be automatically included in the manifest: the path must be relative\n",
      "  dependency C:\\Users\\gabri\\AppData\\Local\\Temp\\pip-build-env-n5ey8eu1\\overlay\\Lib\\site-packages\\numpy\\core\\include\\numpy\\arrayobject.h won't be automatically included in the manifest: the path must be relative\n",
      "  dependency C:\\Users\\gabri\\AppData\\Local\\Temp\\pip-build-env-n5ey8eu1\\overlay\\Lib\\site-packages\\numpy\\core\\include\\numpy\\arrayscalars.h won't be automatically included in the manifest: the path must be relative\n",
      "  dependency C:\\Users\\gabri\\AppData\\Local\\Temp\\pip-build-env-n5ey8eu1\\overlay\\Lib\\site-packages\\numpy\\core\\include\\numpy\\ndarrayobject.h won't be automatically included in the manifest: the path must be relative\n",
      "  dependency C:\\Users\\gabri\\AppData\\Local\\Temp\\pip-build-env-n5ey8eu1\\overlay\\Lib\\site-packages\\numpy\\core\\include\\numpy\\ndarraytypes.h won't be automatically included in the manifest: the path must be relative\n",
      "  dependency C:\\Users\\gabri\\AppData\\Local\\Temp\\pip-build-env-n5ey8eu1\\overlay\\Lib\\site-packages\\numpy\\core\\include\\numpy\\ufuncobject.h won't be automatically included in the manifest: the path must be relative\n",
      "  dependency C:\\Users\\gabri\\AppData\\Local\\Temp\\pip-build-env-n5ey8eu1\\overlay\\Lib\\site-packages\\numpy\\core\\include\\numpy\\arrayobject.h won't be automatically included in the manifest: the path must be relative\n",
      "  dependency C:\\Users\\gabri\\AppData\\Local\\Temp\\pip-build-env-n5ey8eu1\\overlay\\Lib\\site-packages\\numpy\\core\\include\\numpy\\arrayscalars.h won't be automatically included in the manifest: the path must be relative\n",
      "  dependency C:\\Users\\gabri\\AppData\\Local\\Temp\\pip-build-env-n5ey8eu1\\overlay\\Lib\\site-packages\\numpy\\core\\include\\numpy\\ndarrayobject.h won't be automatically included in the manifest: the path must be relative\n",
      "  dependency C:\\Users\\gabri\\AppData\\Local\\Temp\\pip-build-env-n5ey8eu1\\overlay\\Lib\\site-packages\\numpy\\core\\include\\numpy\\ndarraytypes.h won't be automatically included in the manifest: the path must be relative\n",
      "  dependency C:\\Users\\gabri\\AppData\\Local\\Temp\\pip-build-env-n5ey8eu1\\overlay\\Lib\\site-packages\\numpy\\core\\include\\numpy\\ufuncobject.h won't be automatically included in the manifest: the path must be relative\n",
      "  reading manifest file 'pandas.egg-info\\SOURCES.txt'\n",
      "  reading manifest template 'MANIFEST.in'\n",
      "  no previously-included directories found matching 'doc\\build'\n",
      "  warning: no previously-included files matching '*.bz2' found anywhere in distribution\n",
      "  warning: no previously-included files matching '*.csv' found anywhere in distribution\n",
      "  warning: no previously-included files matching '*.dta' found anywhere in distribution\n",
      "  warning: no previously-included files matching '*.feather' found anywhere in distribution\n",
      "  warning: no previously-included files matching '*.tar' found anywhere in distribution\n",
      "  warning: no previously-included files matching '*.gz' found anywhere in distribution\n",
      "  warning: no previously-included files matching '*.h5' found anywhere in distribution\n",
      "  warning: no previously-included files matching '*.html' found anywhere in distribution\n",
      "  warning: no previously-included files matching '*.json' found anywhere in distribution\n",
      "  warning: no previously-included files matching '*.jsonl' found anywhere in distribution\n",
      "  warning: no previously-included files matching '*.msgpack' found anywhere in distribution\n",
      "  warning: no previously-included files matching '*.pdf' found anywhere in distribution\n",
      "  warning: no previously-included files matching '*.pickle' found anywhere in distribution\n",
      "  warning: no previously-included files matching '*.png' found anywhere in distribution\n",
      "  warning: no previously-included files matching '*.pptx' found anywhere in distribution\n",
      "  warning: no previously-included files matching '*.ods' found anywhere in distribution\n",
      "  warning: no previously-included files matching '*.odt' found anywhere in distribution\n",
      "  warning: no previously-included files matching '*.orc' found anywhere in distribution\n",
      "  warning: no previously-included files matching '*.sas7bdat' found anywhere in distribution\n",
      "  warning: no previously-included files matching '*.sav' found anywhere in distribution\n",
      "  warning: no previously-included files matching '*.so' found anywhere in distribution\n",
      "  warning: no previously-included files matching '*.xls' found anywhere in distribution\n",
      "  warning: no previously-included files matching '*.xlsb' found anywhere in distribution\n",
      "  warning: no previously-included files matching '*.xlsm' found anywhere in distribution\n",
      "  warning: no previously-included files matching '*.xlsx' found anywhere in distribution\n",
      "  warning: no previously-included files matching '*.xpt' found anywhere in distribution\n",
      "  warning: no previously-included files matching '*.xz' found anywhere in distribution\n",
      "  warning: no previously-included files matching '*.zip' found anywhere in distribution\n",
      "  warning: no previously-included files matching '*~' found anywhere in distribution\n",
      "  warning: no previously-included files matching '.DS_Store' found anywhere in distribution\n",
      "  warning: no previously-included files matching '.git*' found anywhere in distribution\n",
      "  warning: no previously-included files matching '#*' found anywhere in distribution\n",
      "  warning: no previously-included files matching '*.py[ocd]' found anywhere in distribution\n",
      "  no previously-included directories found matching 'pandas\\tests\\io\\parser\\data'\n",
      "  adding license file 'LICENSE'\n",
      "  writing manifest file 'pandas.egg-info\\SOURCES.txt'\n",
      "  C:\\Users\\gabri\\AppData\\Local\\Temp\\pip-build-env-n5ey8eu1\\overlay\\Lib\\site-packages\\setuptools\\command\\build_py.py:204: _Warning: Package 'pandas._libs' is absent from the `packages` configuration.\n",
      "  !!\n",
      "  \n",
      "          ********************************************************************************\n",
      "          ############################\n",
      "          # Package would be ignored #\n",
      "          ############################\n",
      "          Python recognizes 'pandas._libs' as an importable package[^1],\n",
      "          but it is absent from setuptools' `packages` configuration.\n",
      "  \n",
      "          This leads to an ambiguous overall configuration. If you want to distribute this\n",
      "          package, please make sure that 'pandas._libs' is explicitly added\n",
      "          to the `packages` configuration field.\n",
      "  \n",
      "          Alternatively, you can also rely on setuptools' discovery methods\n",
      "          (for example by using `find_namespace_packages(...)`/`find_namespace:`\n",
      "          instead of `find_packages(...)`/`find:`).\n",
      "  \n",
      "          You can read more about \"package discovery\" on setuptools documentation page:\n",
      "  \n",
      "          - https://setuptools.pypa.io/en/latest/userguide/package_discovery.html\n",
      "  \n",
      "          If you don't want 'pandas._libs' to be distributed and are\n",
      "          already explicitly excluding 'pandas._libs' via\n",
      "          `find_namespace_packages(...)/find_namespace` or `find_packages(...)/find`,\n",
      "          you can try to use `exclude_package_data`, or `include-package-data=False` in\n",
      "          combination with a more fine grained `package-data` configuration.\n",
      "  \n",
      "          You can read more about \"package data files\" on setuptools documentation page:\n",
      "  \n",
      "          - https://setuptools.pypa.io/en/latest/userguide/datafiles.html\n",
      "  \n",
      "  \n",
      "          [^1]: For Python, any directory (with suitable naming) can be imported,\n",
      "                even if it does not contain any `.py` files.\n",
      "                On the other hand, currently there is no concept of package data\n",
      "                directory, all directories are treated like packages.\n",
      "          ********************************************************************************\n",
      "  \n",
      "  !!\n",
      "    check.warn(importable)\n",
      "  C:\\Users\\gabri\\AppData\\Local\\Temp\\pip-build-env-n5ey8eu1\\overlay\\Lib\\site-packages\\setuptools\\command\\build_py.py:204: _Warning: Package 'pandas._libs.src.headers' is absent from the `packages` configuration.\n",
      "  !!\n",
      "  \n",
      "          ********************************************************************************\n",
      "          ############################\n",
      "          # Package would be ignored #\n",
      "          ############################\n",
      "          Python recognizes 'pandas._libs.src.headers' as an importable package[^1],\n",
      "          but it is absent from setuptools' `packages` configuration.\n",
      "  \n",
      "          This leads to an ambiguous overall configuration. If you want to distribute this\n",
      "          package, please make sure that 'pandas._libs.src.headers' is explicitly added\n",
      "          to the `packages` configuration field.\n",
      "  \n",
      "          Alternatively, you can also rely on setuptools' discovery methods\n",
      "          (for example by using `find_namespace_packages(...)`/`find_namespace:`\n",
      "          instead of `find_packages(...)`/`find:`).\n",
      "  \n",
      "          You can read more about \"package discovery\" on setuptools documentation page:\n",
      "  \n",
      "          - https://setuptools.pypa.io/en/latest/userguide/package_discovery.html\n",
      "  \n",
      "          If you don't want 'pandas._libs.src.headers' to be distributed and are\n",
      "          already explicitly excluding 'pandas._libs.src.headers' via\n",
      "          `find_namespace_packages(...)/find_namespace` or `find_packages(...)/find`,\n",
      "          you can try to use `exclude_package_data`, or `include-package-data=False` in\n",
      "          combination with a more fine grained `package-data` configuration.\n",
      "  \n",
      "          You can read more about \"package data files\" on setuptools documentation page:\n",
      "  \n",
      "          - https://setuptools.pypa.io/en/latest/userguide/datafiles.html\n",
      "  \n",
      "  \n",
      "          [^1]: For Python, any directory (with suitable naming) can be imported,\n",
      "                even if it does not contain any `.py` files.\n",
      "                On the other hand, currently there is no concept of package data\n",
      "                directory, all directories are treated like packages.\n",
      "          ********************************************************************************\n",
      "  \n",
      "  !!\n",
      "    check.warn(importable)\n",
      "  C:\\Users\\gabri\\AppData\\Local\\Temp\\pip-build-env-n5ey8eu1\\overlay\\Lib\\site-packages\\setuptools\\command\\build_py.py:204: _Warning: Package 'pandas._libs.src' is absent from the `packages` configuration.\n",
      "  !!\n",
      "  \n",
      "          ********************************************************************************\n",
      "          ############################\n",
      "          # Package would be ignored #\n",
      "          ############################\n",
      "          Python recognizes 'pandas._libs.src' as an importable package[^1],\n",
      "          but it is absent from setuptools' `packages` configuration.\n",
      "  \n",
      "          This leads to an ambiguous overall configuration. If you want to distribute this\n",
      "          package, please make sure that 'pandas._libs.src' is explicitly added\n",
      "          to the `packages` configuration field.\n",
      "  \n",
      "          Alternatively, you can also rely on setuptools' discovery methods\n",
      "          (for example by using `find_namespace_packages(...)`/`find_namespace:`\n",
      "          instead of `find_packages(...)`/`find:`).\n",
      "  \n",
      "          You can read more about \"package discovery\" on setuptools documentation page:\n",
      "  \n",
      "          - https://setuptools.pypa.io/en/latest/userguide/package_discovery.html\n",
      "  \n",
      "          If you don't want 'pandas._libs.src' to be distributed and are\n",
      "          already explicitly excluding 'pandas._libs.src' via\n",
      "          `find_namespace_packages(...)/find_namespace` or `find_packages(...)/find`,\n",
      "          you can try to use `exclude_package_data`, or `include-package-data=False` in\n",
      "          combination with a more fine grained `package-data` configuration.\n",
      "  \n",
      "          You can read more about \"package data files\" on setuptools documentation page:\n",
      "  \n",
      "          - https://setuptools.pypa.io/en/latest/userguide/datafiles.html\n",
      "  \n",
      "  \n",
      "          [^1]: For Python, any directory (with suitable naming) can be imported,\n",
      "                even if it does not contain any `.py` files.\n",
      "                On the other hand, currently there is no concept of package data\n",
      "                directory, all directories are treated like packages.\n",
      "          ********************************************************************************\n",
      "  \n",
      "  !!\n",
      "    check.warn(importable)\n",
      "  C:\\Users\\gabri\\AppData\\Local\\Temp\\pip-build-env-n5ey8eu1\\overlay\\Lib\\site-packages\\setuptools\\command\\build_py.py:204: _Warning: Package 'pandas._libs.src.klib' is absent from the `packages` configuration.\n",
      "  !!\n",
      "  \n",
      "          ********************************************************************************\n",
      "          ############################\n",
      "          # Package would be ignored #\n",
      "          ############################\n",
      "          Python recognizes 'pandas._libs.src.klib' as an importable package[^1],\n",
      "          but it is absent from setuptools' `packages` configuration.\n",
      "  \n",
      "          This leads to an ambiguous overall configuration. If you want to distribute this\n",
      "          package, please make sure that 'pandas._libs.src.klib' is explicitly added\n",
      "          to the `packages` configuration field.\n",
      "  \n",
      "          Alternatively, you can also rely on setuptools' discovery methods\n",
      "          (for example by using `find_namespace_packages(...)`/`find_namespace:`\n",
      "          instead of `find_packages(...)`/`find:`).\n",
      "  \n",
      "          You can read more about \"package discovery\" on setuptools documentation page:\n",
      "  \n",
      "          - https://setuptools.pypa.io/en/latest/userguide/package_discovery.html\n",
      "  \n",
      "          If you don't want 'pandas._libs.src.klib' to be distributed and are\n",
      "          already explicitly excluding 'pandas._libs.src.klib' via\n",
      "          `find_namespace_packages(...)/find_namespace` or `find_packages(...)/find`,\n",
      "          you can try to use `exclude_package_data`, or `include-package-data=False` in\n",
      "          combination with a more fine grained `package-data` configuration.\n",
      "  \n",
      "          You can read more about \"package data files\" on setuptools documentation page:\n",
      "  \n",
      "          - https://setuptools.pypa.io/en/latest/userguide/datafiles.html\n",
      "  \n",
      "  \n",
      "          [^1]: For Python, any directory (with suitable naming) can be imported,\n",
      "                even if it does not contain any `.py` files.\n",
      "                On the other hand, currently there is no concept of package data\n",
      "                directory, all directories are treated like packages.\n",
      "          ********************************************************************************\n",
      "  \n",
      "  !!\n",
      "    check.warn(importable)\n",
      "  C:\\Users\\gabri\\AppData\\Local\\Temp\\pip-build-env-n5ey8eu1\\overlay\\Lib\\site-packages\\setuptools\\command\\build_py.py:204: _Warning: Package 'pandas._libs.src.parser' is absent from the `packages` configuration.\n",
      "  !!\n",
      "  \n",
      "          ********************************************************************************\n",
      "          ############################\n",
      "          # Package would be ignored #\n",
      "          ############################\n",
      "          Python recognizes 'pandas._libs.src.parser' as an importable package[^1],\n",
      "          but it is absent from setuptools' `packages` configuration.\n",
      "  \n",
      "          This leads to an ambiguous overall configuration. If you want to distribute this\n",
      "          package, please make sure that 'pandas._libs.src.parser' is explicitly added\n",
      "          to the `packages` configuration field.\n",
      "  \n",
      "          Alternatively, you can also rely on setuptools' discovery methods\n",
      "          (for example by using `find_namespace_packages(...)`/`find_namespace:`\n",
      "          instead of `find_packages(...)`/`find:`).\n",
      "  \n",
      "          You can read more about \"package discovery\" on setuptools documentation page:\n",
      "  \n",
      "          - https://setuptools.pypa.io/en/latest/userguide/package_discovery.html\n",
      "  \n",
      "          If you don't want 'pandas._libs.src.parser' to be distributed and are\n",
      "          already explicitly excluding 'pandas._libs.src.parser' via\n",
      "          `find_namespace_packages(...)/find_namespace` or `find_packages(...)/find`,\n",
      "          you can try to use `exclude_package_data`, or `include-package-data=False` in\n",
      "          combination with a more fine grained `package-data` configuration.\n",
      "  \n",
      "          You can read more about \"package data files\" on setuptools documentation page:\n",
      "  \n",
      "          - https://setuptools.pypa.io/en/latest/userguide/datafiles.html\n",
      "  \n",
      "  \n",
      "          [^1]: For Python, any directory (with suitable naming) can be imported,\n",
      "                even if it does not contain any `.py` files.\n",
      "                On the other hand, currently there is no concept of package data\n",
      "                directory, all directories are treated like packages.\n",
      "          ********************************************************************************\n",
      "  \n",
      "  !!\n",
      "    check.warn(importable)\n",
      "  C:\\Users\\gabri\\AppData\\Local\\Temp\\pip-build-env-n5ey8eu1\\overlay\\Lib\\site-packages\\setuptools\\command\\build_py.py:204: _Warning: Package 'pandas._libs.src.ujson.lib' is absent from the `packages` configuration.\n",
      "  !!\n",
      "  \n",
      "          ********************************************************************************\n",
      "          ############################\n",
      "          # Package would be ignored #\n",
      "          ############################\n",
      "          Python recognizes 'pandas._libs.src.ujson.lib' as an importable package[^1],\n",
      "          but it is absent from setuptools' `packages` configuration.\n",
      "  \n",
      "          This leads to an ambiguous overall configuration. If you want to distribute this\n",
      "          package, please make sure that 'pandas._libs.src.ujson.lib' is explicitly added\n",
      "          to the `packages` configuration field.\n",
      "  \n",
      "          Alternatively, you can also rely on setuptools' discovery methods\n",
      "          (for example by using `find_namespace_packages(...)`/`find_namespace:`\n",
      "          instead of `find_packages(...)`/`find:`).\n",
      "  \n",
      "          You can read more about \"package discovery\" on setuptools documentation page:\n",
      "  \n",
      "          - https://setuptools.pypa.io/en/latest/userguide/package_discovery.html\n",
      "  \n",
      "          If you don't want 'pandas._libs.src.ujson.lib' to be distributed and are\n",
      "          already explicitly excluding 'pandas._libs.src.ujson.lib' via\n",
      "          `find_namespace_packages(...)/find_namespace` or `find_packages(...)/find`,\n",
      "          you can try to use `exclude_package_data`, or `include-package-data=False` in\n",
      "          combination with a more fine grained `package-data` configuration.\n",
      "  \n",
      "          You can read more about \"package data files\" on setuptools documentation page:\n",
      "  \n",
      "          - https://setuptools.pypa.io/en/latest/userguide/datafiles.html\n",
      "  \n",
      "  \n",
      "          [^1]: For Python, any directory (with suitable naming) can be imported,\n",
      "                even if it does not contain any `.py` files.\n",
      "                On the other hand, currently there is no concept of package data\n",
      "                directory, all directories are treated like packages.\n",
      "          ********************************************************************************\n",
      "  \n",
      "  !!\n",
      "    check.warn(importable)\n",
      "  C:\\Users\\gabri\\AppData\\Local\\Temp\\pip-build-env-n5ey8eu1\\overlay\\Lib\\site-packages\\setuptools\\command\\build_py.py:204: _Warning: Package 'pandas._libs.src.ujson.python' is absent from the `packages` configuration.\n",
      "  !!\n",
      "  \n",
      "          ********************************************************************************\n",
      "          ############################\n",
      "          # Package would be ignored #\n",
      "          ############################\n",
      "          Python recognizes 'pandas._libs.src.ujson.python' as an importable package[^1],\n",
      "          but it is absent from setuptools' `packages` configuration.\n",
      "  \n",
      "          This leads to an ambiguous overall configuration. If you want to distribute this\n",
      "          package, please make sure that 'pandas._libs.src.ujson.python' is explicitly added\n",
      "          to the `packages` configuration field.\n",
      "  \n",
      "          Alternatively, you can also rely on setuptools' discovery methods\n",
      "          (for example by using `find_namespace_packages(...)`/`find_namespace:`\n",
      "          instead of `find_packages(...)`/`find:`).\n",
      "  \n",
      "          You can read more about \"package discovery\" on setuptools documentation page:\n",
      "  \n",
      "          - https://setuptools.pypa.io/en/latest/userguide/package_discovery.html\n",
      "  \n",
      "          If you don't want 'pandas._libs.src.ujson.python' to be distributed and are\n",
      "          already explicitly excluding 'pandas._libs.src.ujson.python' via\n",
      "          `find_namespace_packages(...)/find_namespace` or `find_packages(...)/find`,\n",
      "          you can try to use `exclude_package_data`, or `include-package-data=False` in\n",
      "          combination with a more fine grained `package-data` configuration.\n",
      "  \n",
      "          You can read more about \"package data files\" on setuptools documentation page:\n",
      "  \n",
      "          - https://setuptools.pypa.io/en/latest/userguide/datafiles.html\n",
      "  \n",
      "  \n",
      "          [^1]: For Python, any directory (with suitable naming) can be imported,\n",
      "                even if it does not contain any `.py` files.\n",
      "                On the other hand, currently there is no concept of package data\n",
      "                directory, all directories are treated like packages.\n",
      "          ********************************************************************************\n",
      "  \n",
      "  !!\n",
      "    check.warn(importable)\n",
      "  C:\\Users\\gabri\\AppData\\Local\\Temp\\pip-build-env-n5ey8eu1\\overlay\\Lib\\site-packages\\setuptools\\command\\build_py.py:204: _Warning: Package 'pandas._libs.tslibs.src.datetime' is absent from the `packages` configuration.\n",
      "  !!\n",
      "  \n",
      "          ********************************************************************************\n",
      "          ############################\n",
      "          # Package would be ignored #\n",
      "          ############################\n",
      "          Python recognizes 'pandas._libs.tslibs.src.datetime' as an importable package[^1],\n",
      "          but it is absent from setuptools' `packages` configuration.\n",
      "  \n",
      "          This leads to an ambiguous overall configuration. If you want to distribute this\n",
      "          package, please make sure that 'pandas._libs.tslibs.src.datetime' is explicitly added\n",
      "          to the `packages` configuration field.\n",
      "  \n",
      "          Alternatively, you can also rely on setuptools' discovery methods\n",
      "          (for example by using `find_namespace_packages(...)`/`find_namespace:`\n",
      "          instead of `find_packages(...)`/`find:`).\n",
      "  \n",
      "          You can read more about \"package discovery\" on setuptools documentation page:\n",
      "  \n",
      "          - https://setuptools.pypa.io/en/latest/userguide/package_discovery.html\n",
      "  \n",
      "          If you don't want 'pandas._libs.tslibs.src.datetime' to be distributed and are\n",
      "          already explicitly excluding 'pandas._libs.tslibs.src.datetime' via\n",
      "          `find_namespace_packages(...)/find_namespace` or `find_packages(...)/find`,\n",
      "          you can try to use `exclude_package_data`, or `include-package-data=False` in\n",
      "          combination with a more fine grained `package-data` configuration.\n",
      "  \n",
      "          You can read more about \"package data files\" on setuptools documentation page:\n",
      "  \n",
      "          - https://setuptools.pypa.io/en/latest/userguide/datafiles.html\n",
      "  \n",
      "  \n",
      "          [^1]: For Python, any directory (with suitable naming) can be imported,\n",
      "                even if it does not contain any `.py` files.\n",
      "                On the other hand, currently there is no concept of package data\n",
      "                directory, all directories are treated like packages.\n",
      "          ********************************************************************************\n",
      "  \n",
      "  !!\n",
      "    check.warn(importable)\n",
      "  C:\\Users\\gabri\\AppData\\Local\\Temp\\pip-build-env-n5ey8eu1\\overlay\\Lib\\site-packages\\setuptools\\command\\build_py.py:204: _Warning: Package 'pandas.io.formats.templates' is absent from the `packages` configuration.\n",
      "  !!\n",
      "  \n",
      "          ********************************************************************************\n",
      "          ############################\n",
      "          # Package would be ignored #\n",
      "          ############################\n",
      "          Python recognizes 'pandas.io.formats.templates' as an importable package[^1],\n",
      "          but it is absent from setuptools' `packages` configuration.\n",
      "  \n",
      "          This leads to an ambiguous overall configuration. If you want to distribute this\n",
      "          package, please make sure that 'pandas.io.formats.templates' is explicitly added\n",
      "          to the `packages` configuration field.\n",
      "  \n",
      "          Alternatively, you can also rely on setuptools' discovery methods\n",
      "          (for example by using `find_namespace_packages(...)`/`find_namespace:`\n",
      "          instead of `find_packages(...)`/`find:`).\n",
      "  \n",
      "          You can read more about \"package discovery\" on setuptools documentation page:\n",
      "  \n",
      "          - https://setuptools.pypa.io/en/latest/userguide/package_discovery.html\n",
      "  \n",
      "          If you don't want 'pandas.io.formats.templates' to be distributed and are\n",
      "          already explicitly excluding 'pandas.io.formats.templates' via\n",
      "          `find_namespace_packages(...)/find_namespace` or `find_packages(...)/find`,\n",
      "          you can try to use `exclude_package_data`, or `include-package-data=False` in\n",
      "          combination with a more fine grained `package-data` configuration.\n",
      "  \n",
      "          You can read more about \"package data files\" on setuptools documentation page:\n",
      "  \n",
      "          - https://setuptools.pypa.io/en/latest/userguide/datafiles.html\n",
      "  \n",
      "  \n",
      "          [^1]: For Python, any directory (with suitable naming) can be imported,\n",
      "                even if it does not contain any `.py` files.\n",
      "                On the other hand, currently there is no concept of package data\n",
      "                directory, all directories are treated like packages.\n",
      "          ********************************************************************************\n",
      "  \n",
      "  !!\n",
      "    check.warn(importable)\n",
      "  C:\\Users\\gabri\\AppData\\Local\\Temp\\pip-build-env-n5ey8eu1\\overlay\\Lib\\site-packages\\setuptools\\command\\build_py.py:204: _Warning: Package 'pandas.tests.io.data' is absent from the `packages` configuration.\n",
      "  !!\n",
      "  \n",
      "          ********************************************************************************\n",
      "          ############################\n",
      "          # Package would be ignored #\n",
      "          ############################\n",
      "          Python recognizes 'pandas.tests.io.data' as an importable package[^1],\n",
      "          but it is absent from setuptools' `packages` configuration.\n",
      "  \n",
      "          This leads to an ambiguous overall configuration. If you want to distribute this\n",
      "          package, please make sure that 'pandas.tests.io.data' is explicitly added\n",
      "          to the `packages` configuration field.\n",
      "  \n",
      "          Alternatively, you can also rely on setuptools' discovery methods\n",
      "          (for example by using `find_namespace_packages(...)`/`find_namespace:`\n",
      "          instead of `find_packages(...)`/`find:`).\n",
      "  \n",
      "          You can read more about \"package discovery\" on setuptools documentation page:\n",
      "  \n",
      "          - https://setuptools.pypa.io/en/latest/userguide/package_discovery.html\n",
      "  \n",
      "          If you don't want 'pandas.tests.io.data' to be distributed and are\n",
      "          already explicitly excluding 'pandas.tests.io.data' via\n",
      "          `find_namespace_packages(...)/find_namespace` or `find_packages(...)/find`,\n",
      "          you can try to use `exclude_package_data`, or `include-package-data=False` in\n",
      "          combination with a more fine grained `package-data` configuration.\n",
      "  \n",
      "          You can read more about \"package data files\" on setuptools documentation page:\n",
      "  \n",
      "          - https://setuptools.pypa.io/en/latest/userguide/datafiles.html\n",
      "  \n",
      "  \n",
      "          [^1]: For Python, any directory (with suitable naming) can be imported,\n",
      "                even if it does not contain any `.py` files.\n",
      "                On the other hand, currently there is no concept of package data\n",
      "                directory, all directories are treated like packages.\n",
      "          ********************************************************************************\n",
      "  \n",
      "  !!\n",
      "    check.warn(importable)\n",
      "  C:\\Users\\gabri\\AppData\\Local\\Temp\\pip-build-env-n5ey8eu1\\overlay\\Lib\\site-packages\\setuptools\\command\\build_py.py:204: _Warning: Package 'pandas.tests.io.data.fixed_width' is absent from the `packages` configuration.\n",
      "  !!\n",
      "  \n",
      "          ********************************************************************************\n",
      "          ############################\n",
      "          # Package would be ignored #\n",
      "          ############################\n",
      "          Python recognizes 'pandas.tests.io.data.fixed_width' as an importable package[^1],\n",
      "          but it is absent from setuptools' `packages` configuration.\n",
      "  \n",
      "          This leads to an ambiguous overall configuration. If you want to distribute this\n",
      "          package, please make sure that 'pandas.tests.io.data.fixed_width' is explicitly added\n",
      "          to the `packages` configuration field.\n",
      "  \n",
      "          Alternatively, you can also rely on setuptools' discovery methods\n",
      "          (for example by using `find_namespace_packages(...)`/`find_namespace:`\n",
      "          instead of `find_packages(...)`/`find:`).\n",
      "  \n",
      "          You can read more about \"package discovery\" on setuptools documentation page:\n",
      "  \n",
      "          - https://setuptools.pypa.io/en/latest/userguide/package_discovery.html\n",
      "  \n",
      "          If you don't want 'pandas.tests.io.data.fixed_width' to be distributed and are\n",
      "          already explicitly excluding 'pandas.tests.io.data.fixed_width' via\n",
      "          `find_namespace_packages(...)/find_namespace` or `find_packages(...)/find`,\n",
      "          you can try to use `exclude_package_data`, or `include-package-data=False` in\n",
      "          combination with a more fine grained `package-data` configuration.\n",
      "  \n",
      "          You can read more about \"package data files\" on setuptools documentation page:\n",
      "  \n",
      "          - https://setuptools.pypa.io/en/latest/userguide/datafiles.html\n",
      "  \n",
      "  \n",
      "          [^1]: For Python, any directory (with suitable naming) can be imported,\n",
      "                even if it does not contain any `.py` files.\n",
      "                On the other hand, currently there is no concept of package data\n",
      "                directory, all directories are treated like packages.\n",
      "          ********************************************************************************\n",
      "  \n",
      "  !!\n",
      "    check.warn(importable)\n",
      "  C:\\Users\\gabri\\AppData\\Local\\Temp\\pip-build-env-n5ey8eu1\\overlay\\Lib\\site-packages\\setuptools\\command\\build_py.py:204: _Warning: Package 'pandas.tests.io.data.legacy_pickle' is absent from the `packages` configuration.\n",
      "  !!\n",
      "  \n",
      "          ********************************************************************************\n",
      "          ############################\n",
      "          # Package would be ignored #\n",
      "          ############################\n",
      "          Python recognizes 'pandas.tests.io.data.legacy_pickle' as an importable package[^1],\n",
      "          but it is absent from setuptools' `packages` configuration.\n",
      "  \n",
      "          This leads to an ambiguous overall configuration. If you want to distribute this\n",
      "          package, please make sure that 'pandas.tests.io.data.legacy_pickle' is explicitly added\n",
      "          to the `packages` configuration field.\n",
      "  \n",
      "          Alternatively, you can also rely on setuptools' discovery methods\n",
      "          (for example by using `find_namespace_packages(...)`/`find_namespace:`\n",
      "          instead of `find_packages(...)`/`find:`).\n",
      "  \n",
      "          You can read more about \"package discovery\" on setuptools documentation page:\n",
      "  \n",
      "          - https://setuptools.pypa.io/en/latest/userguide/package_discovery.html\n",
      "  \n",
      "          If you don't want 'pandas.tests.io.data.legacy_pickle' to be distributed and are\n",
      "          already explicitly excluding 'pandas.tests.io.data.legacy_pickle' via\n",
      "          `find_namespace_packages(...)/find_namespace` or `find_packages(...)/find`,\n",
      "          you can try to use `exclude_package_data`, or `include-package-data=False` in\n",
      "          combination with a more fine grained `package-data` configuration.\n",
      "  \n",
      "          You can read more about \"package data files\" on setuptools documentation page:\n",
      "  \n",
      "          - https://setuptools.pypa.io/en/latest/userguide/datafiles.html\n",
      "  \n",
      "  \n",
      "          [^1]: For Python, any directory (with suitable naming) can be imported,\n",
      "                even if it does not contain any `.py` files.\n",
      "                On the other hand, currently there is no concept of package data\n",
      "                directory, all directories are treated like packages.\n",
      "          ********************************************************************************\n",
      "  \n",
      "  !!\n",
      "    check.warn(importable)\n",
      "  C:\\Users\\gabri\\AppData\\Local\\Temp\\pip-build-env-n5ey8eu1\\overlay\\Lib\\site-packages\\setuptools\\command\\build_py.py:204: _Warning: Package 'pandas.tests.io.data.parquet' is absent from the `packages` configuration.\n",
      "  !!\n",
      "  \n",
      "          ********************************************************************************\n",
      "          ############################\n",
      "          # Package would be ignored #\n",
      "          ############################\n",
      "          Python recognizes 'pandas.tests.io.data.parquet' as an importable package[^1],\n",
      "          but it is absent from setuptools' `packages` configuration.\n",
      "  \n",
      "          This leads to an ambiguous overall configuration. If you want to distribute this\n",
      "          package, please make sure that 'pandas.tests.io.data.parquet' is explicitly added\n",
      "          to the `packages` configuration field.\n",
      "  \n",
      "          Alternatively, you can also rely on setuptools' discovery methods\n",
      "          (for example by using `find_namespace_packages(...)`/`find_namespace:`\n",
      "          instead of `find_packages(...)`/`find:`).\n",
      "  \n",
      "          You can read more about \"package discovery\" on setuptools documentation page:\n",
      "  \n",
      "          - https://setuptools.pypa.io/en/latest/userguide/package_discovery.html\n",
      "  \n",
      "          If you don't want 'pandas.tests.io.data.parquet' to be distributed and are\n",
      "          already explicitly excluding 'pandas.tests.io.data.parquet' via\n",
      "          `find_namespace_packages(...)/find_namespace` or `find_packages(...)/find`,\n",
      "          you can try to use `exclude_package_data`, or `include-package-data=False` in\n",
      "          combination with a more fine grained `package-data` configuration.\n",
      "  \n",
      "          You can read more about \"package data files\" on setuptools documentation page:\n",
      "  \n",
      "          - https://setuptools.pypa.io/en/latest/userguide/datafiles.html\n",
      "  \n",
      "  \n",
      "          [^1]: For Python, any directory (with suitable naming) can be imported,\n",
      "                even if it does not contain any `.py` files.\n",
      "                On the other hand, currently there is no concept of package data\n",
      "                directory, all directories are treated like packages.\n",
      "          ********************************************************************************\n",
      "  \n",
      "  !!\n",
      "    check.warn(importable)\n",
      "  C:\\Users\\gabri\\AppData\\Local\\Temp\\pip-build-env-n5ey8eu1\\overlay\\Lib\\site-packages\\setuptools\\command\\build_py.py:204: _Warning: Package 'pandas.tests.io.data.pickle' is absent from the `packages` configuration.\n",
      "  !!\n",
      "  \n",
      "          ********************************************************************************\n",
      "          ############################\n",
      "          # Package would be ignored #\n",
      "          ############################\n",
      "          Python recognizes 'pandas.tests.io.data.pickle' as an importable package[^1],\n",
      "          but it is absent from setuptools' `packages` configuration.\n",
      "  \n",
      "          This leads to an ambiguous overall configuration. If you want to distribute this\n",
      "          package, please make sure that 'pandas.tests.io.data.pickle' is explicitly added\n",
      "          to the `packages` configuration field.\n",
      "  \n",
      "          Alternatively, you can also rely on setuptools' discovery methods\n",
      "          (for example by using `find_namespace_packages(...)`/`find_namespace:`\n",
      "          instead of `find_packages(...)`/`find:`).\n",
      "  \n",
      "          You can read more about \"package discovery\" on setuptools documentation page:\n",
      "  \n",
      "          - https://setuptools.pypa.io/en/latest/userguide/package_discovery.html\n",
      "  \n",
      "          If you don't want 'pandas.tests.io.data.pickle' to be distributed and are\n",
      "          already explicitly excluding 'pandas.tests.io.data.pickle' via\n",
      "          `find_namespace_packages(...)/find_namespace` or `find_packages(...)/find`,\n",
      "          you can try to use `exclude_package_data`, or `include-package-data=False` in\n",
      "          combination with a more fine grained `package-data` configuration.\n",
      "  \n",
      "          You can read more about \"package data files\" on setuptools documentation page:\n",
      "  \n",
      "          - https://setuptools.pypa.io/en/latest/userguide/datafiles.html\n",
      "  \n",
      "  \n",
      "          [^1]: For Python, any directory (with suitable naming) can be imported,\n",
      "                even if it does not contain any `.py` files.\n",
      "                On the other hand, currently there is no concept of package data\n",
      "                directory, all directories are treated like packages.\n",
      "          ********************************************************************************\n",
      "  \n",
      "  !!\n",
      "    check.warn(importable)\n",
      "  C:\\Users\\gabri\\AppData\\Local\\Temp\\pip-build-env-n5ey8eu1\\overlay\\Lib\\site-packages\\setuptools\\command\\build_py.py:204: _Warning: Package 'pandas.tests.io.data.xml' is absent from the `packages` configuration.\n",
      "  !!\n",
      "  \n",
      "          ********************************************************************************\n",
      "          ############################\n",
      "          # Package would be ignored #\n",
      "          ############################\n",
      "          Python recognizes 'pandas.tests.io.data.xml' as an importable package[^1],\n",
      "          but it is absent from setuptools' `packages` configuration.\n",
      "  \n",
      "          This leads to an ambiguous overall configuration. If you want to distribute this\n",
      "          package, please make sure that 'pandas.tests.io.data.xml' is explicitly added\n",
      "          to the `packages` configuration field.\n",
      "  \n",
      "          Alternatively, you can also rely on setuptools' discovery methods\n",
      "          (for example by using `find_namespace_packages(...)`/`find_namespace:`\n",
      "          instead of `find_packages(...)`/`find:`).\n",
      "  \n",
      "          You can read more about \"package discovery\" on setuptools documentation page:\n",
      "  \n",
      "          - https://setuptools.pypa.io/en/latest/userguide/package_discovery.html\n",
      "  \n",
      "          If you don't want 'pandas.tests.io.data.xml' to be distributed and are\n",
      "          already explicitly excluding 'pandas.tests.io.data.xml' via\n",
      "          `find_namespace_packages(...)/find_namespace` or `find_packages(...)/find`,\n",
      "          you can try to use `exclude_package_data`, or `include-package-data=False` in\n",
      "          combination with a more fine grained `package-data` configuration.\n",
      "  \n",
      "          You can read more about \"package data files\" on setuptools documentation page:\n",
      "  \n",
      "          - https://setuptools.pypa.io/en/latest/userguide/datafiles.html\n",
      "  \n",
      "  \n",
      "          [^1]: For Python, any directory (with suitable naming) can be imported,\n",
      "                even if it does not contain any `.py` files.\n",
      "                On the other hand, currently there is no concept of package data\n",
      "                directory, all directories are treated like packages.\n",
      "          ********************************************************************************\n",
      "  \n",
      "  !!\n",
      "    check.warn(importable)\n",
      "  C:\\Users\\gabri\\AppData\\Local\\Temp\\pip-build-env-n5ey8eu1\\overlay\\Lib\\site-packages\\setuptools\\command\\build_py.py:204: _Warning: Package 'pandas.tests.io.xml' is absent from the `packages` configuration.\n",
      "  !!\n",
      "  \n",
      "          ********************************************************************************\n",
      "          ############################\n",
      "          # Package would be ignored #\n",
      "          ############################\n",
      "          Python recognizes 'pandas.tests.io.xml' as an importable package[^1],\n",
      "          but it is absent from setuptools' `packages` configuration.\n",
      "  \n",
      "          This leads to an ambiguous overall configuration. If you want to distribute this\n",
      "          package, please make sure that 'pandas.tests.io.xml' is explicitly added\n",
      "          to the `packages` configuration field.\n",
      "  \n",
      "          Alternatively, you can also rely on setuptools' discovery methods\n",
      "          (for example by using `find_namespace_packages(...)`/`find_namespace:`\n",
      "          instead of `find_packages(...)`/`find:`).\n",
      "  \n",
      "          You can read more about \"package discovery\" on setuptools documentation page:\n",
      "  \n",
      "          - https://setuptools.pypa.io/en/latest/userguide/package_discovery.html\n",
      "  \n",
      "          If you don't want 'pandas.tests.io.xml' to be distributed and are\n",
      "          already explicitly excluding 'pandas.tests.io.xml' via\n",
      "          `find_namespace_packages(...)/find_namespace` or `find_packages(...)/find`,\n",
      "          you can try to use `exclude_package_data`, or `include-package-data=False` in\n",
      "          combination with a more fine grained `package-data` configuration.\n",
      "  \n",
      "          You can read more about \"package data files\" on setuptools documentation page:\n",
      "  \n",
      "          - https://setuptools.pypa.io/en/latest/userguide/datafiles.html\n",
      "  \n",
      "  \n",
      "          [^1]: For Python, any directory (with suitable naming) can be imported,\n",
      "                even if it does not contain any `.py` files.\n",
      "                On the other hand, currently there is no concept of package data\n",
      "                directory, all directories are treated like packages.\n",
      "          ********************************************************************************\n",
      "  \n",
      "  !!\n",
      "    check.warn(importable)\n",
      "  copying pandas\\_libs\\algos_common_helper.pxi.in -> build\\lib.win-amd64-cpython-311\\pandas\\_libs\n",
      "  copying pandas\\_libs\\algos_take_helper.pxi.in -> build\\lib.win-amd64-cpython-311\\pandas\\_libs\n",
      "  copying pandas\\_libs\\hashtable_class_helper.pxi.in -> build\\lib.win-amd64-cpython-311\\pandas\\_libs\n",
      "  copying pandas\\_libs\\hashtable_func_helper.pxi.in -> build\\lib.win-amd64-cpython-311\\pandas\\_libs\n",
      "  copying pandas\\_libs\\index_class_helper.pxi.in -> build\\lib.win-amd64-cpython-311\\pandas\\_libs\n",
      "  copying pandas\\_libs\\intervaltree.pxi.in -> build\\lib.win-amd64-cpython-311\\pandas\\_libs\n",
      "  copying pandas\\_libs\\khash_for_primitive_helper.pxi.in -> build\\lib.win-amd64-cpython-311\\pandas\\_libs\n",
      "  copying pandas\\_libs\\sparse_op_helper.pxi.in -> build\\lib.win-amd64-cpython-311\\pandas\\_libs\n",
      "  creating build\\lib.win-amd64-cpython-311\\pandas\\_libs\\src\n",
      "  creating build\\lib.win-amd64-cpython-311\\pandas\\_libs\\src\\headers\n",
      "  copying pandas\\_libs\\src\\headers\\cmath -> build\\lib.win-amd64-cpython-311\\pandas\\_libs\\src\\headers\n",
      "  copying pandas\\_libs\\algos.pxd -> build\\lib.win-amd64-cpython-311\\pandas\\_libs\n",
      "  copying pandas\\_libs\\algos.pyi -> build\\lib.win-amd64-cpython-311\\pandas\\_libs\n",
      "  copying pandas\\_libs\\algos.pyx -> build\\lib.win-amd64-cpython-311\\pandas\\_libs\n",
      "  copying pandas\\_libs\\arrays.pxd -> build\\lib.win-amd64-cpython-311\\pandas\\_libs\n",
      "  copying pandas\\_libs\\arrays.pyi -> build\\lib.win-amd64-cpython-311\\pandas\\_libs\n",
      "  copying pandas\\_libs\\arrays.pyx -> build\\lib.win-amd64-cpython-311\\pandas\\_libs\n",
      "  copying pandas\\_libs\\groupby.pyi -> build\\lib.win-amd64-cpython-311\\pandas\\_libs\n",
      "  copying pandas\\_libs\\groupby.pyx -> build\\lib.win-amd64-cpython-311\\pandas\\_libs\n",
      "  copying pandas\\_libs\\hashing.pyi -> build\\lib.win-amd64-cpython-311\\pandas\\_libs\n",
      "  copying pandas\\_libs\\hashing.pyx -> build\\lib.win-amd64-cpython-311\\pandas\\_libs\n",
      "  copying pandas\\_libs\\hashtable.pxd -> build\\lib.win-amd64-cpython-311\\pandas\\_libs\n",
      "  copying pandas\\_libs\\hashtable.pyi -> build\\lib.win-amd64-cpython-311\\pandas\\_libs\n",
      "  copying pandas\\_libs\\hashtable.pyx -> build\\lib.win-amd64-cpython-311\\pandas\\_libs\n",
      "  copying pandas\\_libs\\index.pyi -> build\\lib.win-amd64-cpython-311\\pandas\\_libs\n",
      "  copying pandas\\_libs\\index.pyx -> build\\lib.win-amd64-cpython-311\\pandas\\_libs\n",
      "  copying pandas\\_libs\\indexing.pyx -> build\\lib.win-amd64-cpython-311\\pandas\\_libs\n",
      "  copying pandas\\_libs\\internals.pyi -> build\\lib.win-amd64-cpython-311\\pandas\\_libs\n",
      "  copying pandas\\_libs\\internals.pyx -> build\\lib.win-amd64-cpython-311\\pandas\\_libs\n",
      "  copying pandas\\_libs\\interval.pyx -> build\\lib.win-amd64-cpython-311\\pandas\\_libs\n",
      "  copying pandas\\_libs\\join.pyi -> build\\lib.win-amd64-cpython-311\\pandas\\_libs\n",
      "  copying pandas\\_libs\\join.pyx -> build\\lib.win-amd64-cpython-311\\pandas\\_libs\n",
      "  copying pandas\\_libs\\khash.pxd -> build\\lib.win-amd64-cpython-311\\pandas\\_libs\n",
      "  copying pandas\\_libs\\lib.pxd -> build\\lib.win-amd64-cpython-311\\pandas\\_libs\n",
      "  copying pandas\\_libs\\lib.pyi -> build\\lib.win-amd64-cpython-311\\pandas\\_libs\n",
      "  copying pandas\\_libs\\lib.pyx -> build\\lib.win-amd64-cpython-311\\pandas\\_libs\n",
      "  copying pandas\\_libs\\missing.pxd -> build\\lib.win-amd64-cpython-311\\pandas\\_libs\n",
      "  copying pandas\\_libs\\missing.pyx -> build\\lib.win-amd64-cpython-311\\pandas\\_libs\n",
      "  copying pandas\\_libs\\ops.pyi -> build\\lib.win-amd64-cpython-311\\pandas\\_libs\n",
      "  copying pandas\\_libs\\ops.pyx -> build\\lib.win-amd64-cpython-311\\pandas\\_libs\n",
      "  copying pandas\\_libs\\ops_dispatch.pyi -> build\\lib.win-amd64-cpython-311\\pandas\\_libs\n",
      "  copying pandas\\_libs\\ops_dispatch.pyx -> build\\lib.win-amd64-cpython-311\\pandas\\_libs\n",
      "  copying pandas\\_libs\\parsers.pyi -> build\\lib.win-amd64-cpython-311\\pandas\\_libs\n",
      "  copying pandas\\_libs\\parsers.pyx -> build\\lib.win-amd64-cpython-311\\pandas\\_libs\n",
      "  copying pandas\\_libs\\properties.pyx -> build\\lib.win-amd64-cpython-311\\pandas\\_libs\n",
      "  copying pandas\\_libs\\reduction.pyx -> build\\lib.win-amd64-cpython-311\\pandas\\_libs\n",
      "  copying pandas\\_libs\\reshape.pyi -> build\\lib.win-amd64-cpython-311\\pandas\\_libs\n",
      "  copying pandas\\_libs\\reshape.pyx -> build\\lib.win-amd64-cpython-311\\pandas\\_libs\n",
      "  copying pandas\\_libs\\sparse.pyx -> build\\lib.win-amd64-cpython-311\\pandas\\_libs\n",
      "  copying pandas\\_libs\\testing.pyi -> build\\lib.win-amd64-cpython-311\\pandas\\_libs\n",
      "  copying pandas\\_libs\\testing.pyx -> build\\lib.win-amd64-cpython-311\\pandas\\_libs\n",
      "  copying pandas\\_libs\\tslib.pyi -> build\\lib.win-amd64-cpython-311\\pandas\\_libs\n",
      "  copying pandas\\_libs\\tslib.pyx -> build\\lib.win-amd64-cpython-311\\pandas\\_libs\n",
      "  copying pandas\\_libs\\util.pxd -> build\\lib.win-amd64-cpython-311\\pandas\\_libs\n",
      "  copying pandas\\_libs\\writers.pyi -> build\\lib.win-amd64-cpython-311\\pandas\\_libs\n",
      "  copying pandas\\_libs\\writers.pyx -> build\\lib.win-amd64-cpython-311\\pandas\\_libs\n",
      "  copying pandas\\_libs\\src\\inline_helper.h -> build\\lib.win-amd64-cpython-311\\pandas\\_libs\\src\n",
      "  copying pandas\\_libs\\src\\parse_helper.h -> build\\lib.win-amd64-cpython-311\\pandas\\_libs\\src\n",
      "  copying pandas\\_libs\\src\\skiplist.h -> build\\lib.win-amd64-cpython-311\\pandas\\_libs\\src\n",
      "  copying pandas\\_libs\\src\\headers\\ms_inttypes.h -> build\\lib.win-amd64-cpython-311\\pandas\\_libs\\src\\headers\n",
      "  copying pandas\\_libs\\src\\headers\\ms_stdint.h -> build\\lib.win-amd64-cpython-311\\pandas\\_libs\\src\\headers\n",
      "  copying pandas\\_libs\\src\\headers\\portable.h -> build\\lib.win-amd64-cpython-311\\pandas\\_libs\\src\\headers\n",
      "  copying pandas\\_libs\\src\\headers\\stdint.h -> build\\lib.win-amd64-cpython-311\\pandas\\_libs\\src\\headers\n",
      "  creating build\\lib.win-amd64-cpython-311\\pandas\\_libs\\src\\klib\n",
      "  copying pandas\\_libs\\src\\klib\\khash.h -> build\\lib.win-amd64-cpython-311\\pandas\\_libs\\src\\klib\n",
      "  copying pandas\\_libs\\src\\klib\\khash_python.h -> build\\lib.win-amd64-cpython-311\\pandas\\_libs\\src\\klib\n",
      "  creating build\\lib.win-amd64-cpython-311\\pandas\\_libs\\src\\parser\n",
      "  copying pandas\\_libs\\src\\parser\\io.c -> build\\lib.win-amd64-cpython-311\\pandas\\_libs\\src\\parser\n",
      "  copying pandas\\_libs\\src\\parser\\io.h -> build\\lib.win-amd64-cpython-311\\pandas\\_libs\\src\\parser\n",
      "  copying pandas\\_libs\\src\\parser\\tokenizer.c -> build\\lib.win-amd64-cpython-311\\pandas\\_libs\\src\\parser\n",
      "  copying pandas\\_libs\\src\\parser\\tokenizer.h -> build\\lib.win-amd64-cpython-311\\pandas\\_libs\\src\\parser\n",
      "  creating build\\lib.win-amd64-cpython-311\\pandas\\_libs\\src\\ujson\n",
      "  creating build\\lib.win-amd64-cpython-311\\pandas\\_libs\\src\\ujson\\lib\n",
      "  copying pandas\\_libs\\src\\ujson\\lib\\ultrajson.h -> build\\lib.win-amd64-cpython-311\\pandas\\_libs\\src\\ujson\\lib\n",
      "  copying pandas\\_libs\\src\\ujson\\lib\\ultrajsondec.c -> build\\lib.win-amd64-cpython-311\\pandas\\_libs\\src\\ujson\\lib\n",
      "  copying pandas\\_libs\\src\\ujson\\lib\\ultrajsonenc.c -> build\\lib.win-amd64-cpython-311\\pandas\\_libs\\src\\ujson\\lib\n",
      "  creating build\\lib.win-amd64-cpython-311\\pandas\\_libs\\src\\ujson\\python\n",
      "  copying pandas\\_libs\\src\\ujson\\python\\JSONtoObj.c -> build\\lib.win-amd64-cpython-311\\pandas\\_libs\\src\\ujson\\python\n",
      "  copying pandas\\_libs\\src\\ujson\\python\\date_conversions.c -> build\\lib.win-amd64-cpython-311\\pandas\\_libs\\src\\ujson\\python\n",
      "  copying pandas\\_libs\\src\\ujson\\python\\date_conversions.h -> build\\lib.win-amd64-cpython-311\\pandas\\_libs\\src\\ujson\\python\n",
      "  copying pandas\\_libs\\src\\ujson\\python\\objToJSON.c -> build\\lib.win-amd64-cpython-311\\pandas\\_libs\\src\\ujson\\python\n",
      "  copying pandas\\_libs\\src\\ujson\\python\\ujson.c -> build\\lib.win-amd64-cpython-311\\pandas\\_libs\\src\\ujson\\python\n",
      "  copying pandas\\_libs\\src\\ujson\\python\\version.h -> build\\lib.win-amd64-cpython-311\\pandas\\_libs\\src\\ujson\\python\n",
      "  creating build\\lib.win-amd64-cpython-311\\pandas\\io\\formats\\templates\n",
      "  copying pandas\\io\\formats\\templates\\html.tpl -> build\\lib.win-amd64-cpython-311\\pandas\\io\\formats\\templates\n",
      "  copying pandas\\io\\formats\\templates\\html_style.tpl -> build\\lib.win-amd64-cpython-311\\pandas\\io\\formats\\templates\n",
      "  copying pandas\\io\\formats\\templates\\html_table.tpl -> build\\lib.win-amd64-cpython-311\\pandas\\io\\formats\\templates\n",
      "  copying pandas\\io\\formats\\templates\\latex.tpl -> build\\lib.win-amd64-cpython-311\\pandas\\io\\formats\\templates\n",
      "  copying pandas\\io\\sas\\sas.pyx -> build\\lib.win-amd64-cpython-311\\pandas\\io\\sas\n",
      "  creating build\\lib.win-amd64-cpython-311\\pandas\\tests\\io\\data\n",
      "  copying pandas\\tests\\io\\data\\gbq_fake_job.txt -> build\\lib.win-amd64-cpython-311\\pandas\\tests\\io\\data\n",
      "  creating build\\lib.win-amd64-cpython-311\\pandas\\tests\\io\\data\\fixed_width\n",
      "  copying pandas\\tests\\io\\data\\fixed_width\\fixed_width_format.txt -> build\\lib.win-amd64-cpython-311\\pandas\\tests\\io\\data\\fixed_width\n",
      "  creating build\\lib.win-amd64-cpython-311\\pandas\\tests\\io\\data\\legacy_pickle\n",
      "  creating build\\lib.win-amd64-cpython-311\\pandas\\tests\\io\\data\\legacy_pickle\\1.2.4\n",
      "  copying pandas\\tests\\io\\data\\legacy_pickle\\1.2.4\\empty_frame_v1_2_4-GH#42345.pkl -> build\\lib.win-amd64-cpython-311\\pandas\\tests\\io\\data\\legacy_pickle\\1.2.4\n",
      "  creating build\\lib.win-amd64-cpython-311\\pandas\\tests\\io\\data\\parquet\n",
      "  copying pandas\\tests\\io\\data\\parquet\\simple.parquet -> build\\lib.win-amd64-cpython-311\\pandas\\tests\\io\\data\\parquet\n",
      "  creating build\\lib.win-amd64-cpython-311\\pandas\\tests\\io\\data\\pickle\n",
      "  copying pandas\\tests\\io\\data\\pickle\\test_mi_py27.pkl -> build\\lib.win-amd64-cpython-311\\pandas\\tests\\io\\data\\pickle\n",
      "  copying pandas\\tests\\io\\data\\pickle\\test_py27.pkl -> build\\lib.win-amd64-cpython-311\\pandas\\tests\\io\\data\\pickle\n",
      "  creating build\\lib.win-amd64-cpython-311\\pandas\\tests\\io\\data\\xml\n",
      "  copying pandas\\tests\\io\\data\\xml\\baby_names.xml -> build\\lib.win-amd64-cpython-311\\pandas\\tests\\io\\data\\xml\n",
      "  copying pandas\\tests\\io\\data\\xml\\books.xml -> build\\lib.win-amd64-cpython-311\\pandas\\tests\\io\\data\\xml\n",
      "  copying pandas\\tests\\io\\data\\xml\\cta_rail_lines.kml -> build\\lib.win-amd64-cpython-311\\pandas\\tests\\io\\data\\xml\n",
      "  copying pandas\\tests\\io\\data\\xml\\flatten_doc.xsl -> build\\lib.win-amd64-cpython-311\\pandas\\tests\\io\\data\\xml\n",
      "  copying pandas\\tests\\io\\data\\xml\\row_field_output.xsl -> build\\lib.win-amd64-cpython-311\\pandas\\tests\\io\\data\\xml\n",
      "  creating build\\lib.win-amd64-cpython-311\\pandas\\tests\\io\\xml\n",
      "  copying pandas\\tests\\io\\xml\\test_to_xml.py -> build\\lib.win-amd64-cpython-311\\pandas\\tests\\io\\xml\n",
      "  copying pandas\\tests\\io\\xml\\test_xml.py -> build\\lib.win-amd64-cpython-311\\pandas\\tests\\io\\xml\n",
      "  copying pandas\\_libs\\tslibs\\base.pxd -> build\\lib.win-amd64-cpython-311\\pandas\\_libs\\tslibs\n",
      "  copying pandas\\_libs\\tslibs\\base.pyx -> build\\lib.win-amd64-cpython-311\\pandas\\_libs\\tslibs\n",
      "  copying pandas\\_libs\\tslibs\\ccalendar.pxd -> build\\lib.win-amd64-cpython-311\\pandas\\_libs\\tslibs\n",
      "  copying pandas\\_libs\\tslibs\\ccalendar.pyi -> build\\lib.win-amd64-cpython-311\\pandas\\_libs\\tslibs\n",
      "  copying pandas\\_libs\\tslibs\\ccalendar.pyx -> build\\lib.win-amd64-cpython-311\\pandas\\_libs\\tslibs\n",
      "  copying pandas\\_libs\\tslibs\\conversion.pxd -> build\\lib.win-amd64-cpython-311\\pandas\\_libs\\tslibs\n",
      "  copying pandas\\_libs\\tslibs\\conversion.pyi -> build\\lib.win-amd64-cpython-311\\pandas\\_libs\\tslibs\n",
      "  copying pandas\\_libs\\tslibs\\conversion.pyx -> build\\lib.win-amd64-cpython-311\\pandas\\_libs\\tslibs\n",
      "  copying pandas\\_libs\\tslibs\\dtypes.pxd -> build\\lib.win-amd64-cpython-311\\pandas\\_libs\\tslibs\n",
      "  copying pandas\\_libs\\tslibs\\dtypes.pyi -> build\\lib.win-amd64-cpython-311\\pandas\\_libs\\tslibs\n",
      "  copying pandas\\_libs\\tslibs\\dtypes.pyx -> build\\lib.win-amd64-cpython-311\\pandas\\_libs\\tslibs\n",
      "  copying pandas\\_libs\\tslibs\\fields.pyi -> build\\lib.win-amd64-cpython-311\\pandas\\_libs\\tslibs\n",
      "  copying pandas\\_libs\\tslibs\\fields.pyx -> build\\lib.win-amd64-cpython-311\\pandas\\_libs\\tslibs\n",
      "  copying pandas\\_libs\\tslibs\\nattype.pxd -> build\\lib.win-amd64-cpython-311\\pandas\\_libs\\tslibs\n",
      "  copying pandas\\_libs\\tslibs\\nattype.pyi -> build\\lib.win-amd64-cpython-311\\pandas\\_libs\\tslibs\n",
      "  copying pandas\\_libs\\tslibs\\nattype.pyx -> build\\lib.win-amd64-cpython-311\\pandas\\_libs\\tslibs\n",
      "  copying pandas\\_libs\\tslibs\\np_datetime.pxd -> build\\lib.win-amd64-cpython-311\\pandas\\_libs\\tslibs\n",
      "  copying pandas\\_libs\\tslibs\\np_datetime.pyx -> build\\lib.win-amd64-cpython-311\\pandas\\_libs\\tslibs\n",
      "  copying pandas\\_libs\\tslibs\\offsets.pxd -> build\\lib.win-amd64-cpython-311\\pandas\\_libs\\tslibs\n",
      "  copying pandas\\_libs\\tslibs\\offsets.pyx -> build\\lib.win-amd64-cpython-311\\pandas\\_libs\\tslibs\n",
      "  copying pandas\\_libs\\tslibs\\parsing.pxd -> build\\lib.win-amd64-cpython-311\\pandas\\_libs\\tslibs\n",
      "  copying pandas\\_libs\\tslibs\\parsing.pyi -> build\\lib.win-amd64-cpython-311\\pandas\\_libs\\tslibs\n",
      "  copying pandas\\_libs\\tslibs\\parsing.pyx -> build\\lib.win-amd64-cpython-311\\pandas\\_libs\\tslibs\n",
      "  copying pandas\\_libs\\tslibs\\period.pxd -> build\\lib.win-amd64-cpython-311\\pandas\\_libs\\tslibs\n",
      "  copying pandas\\_libs\\tslibs\\period.pyi -> build\\lib.win-amd64-cpython-311\\pandas\\_libs\\tslibs\n",
      "  copying pandas\\_libs\\tslibs\\period.pyx -> build\\lib.win-amd64-cpython-311\\pandas\\_libs\\tslibs\n",
      "  copying pandas\\_libs\\tslibs\\strptime.pyi -> build\\lib.win-amd64-cpython-311\\pandas\\_libs\\tslibs\n",
      "  copying pandas\\_libs\\tslibs\\strptime.pyx -> build\\lib.win-amd64-cpython-311\\pandas\\_libs\\tslibs\n",
      "  copying pandas\\_libs\\tslibs\\timedeltas.pxd -> build\\lib.win-amd64-cpython-311\\pandas\\_libs\\tslibs\n",
      "  copying pandas\\_libs\\tslibs\\timedeltas.pyi -> build\\lib.win-amd64-cpython-311\\pandas\\_libs\\tslibs\n",
      "  copying pandas\\_libs\\tslibs\\timedeltas.pyx -> build\\lib.win-amd64-cpython-311\\pandas\\_libs\\tslibs\n",
      "  copying pandas\\_libs\\tslibs\\timestamps.pxd -> build\\lib.win-amd64-cpython-311\\pandas\\_libs\\tslibs\n",
      "  copying pandas\\_libs\\tslibs\\timestamps.pyi -> build\\lib.win-amd64-cpython-311\\pandas\\_libs\\tslibs\n",
      "  copying pandas\\_libs\\tslibs\\timestamps.pyx -> build\\lib.win-amd64-cpython-311\\pandas\\_libs\\tslibs\n",
      "  copying pandas\\_libs\\tslibs\\timezones.pxd -> build\\lib.win-amd64-cpython-311\\pandas\\_libs\\tslibs\n",
      "  copying pandas\\_libs\\tslibs\\timezones.pyi -> build\\lib.win-amd64-cpython-311\\pandas\\_libs\\tslibs\n",
      "  copying pandas\\_libs\\tslibs\\timezones.pyx -> build\\lib.win-amd64-cpython-311\\pandas\\_libs\\tslibs\n",
      "  copying pandas\\_libs\\tslibs\\tzconversion.pxd -> build\\lib.win-amd64-cpython-311\\pandas\\_libs\\tslibs\n",
      "  copying pandas\\_libs\\tslibs\\tzconversion.pyi -> build\\lib.win-amd64-cpython-311\\pandas\\_libs\\tslibs\n",
      "  copying pandas\\_libs\\tslibs\\tzconversion.pyx -> build\\lib.win-amd64-cpython-311\\pandas\\_libs\\tslibs\n",
      "  copying pandas\\_libs\\tslibs\\util.pxd -> build\\lib.win-amd64-cpython-311\\pandas\\_libs\\tslibs\n",
      "  copying pandas\\_libs\\tslibs\\vectorized.pyi -> build\\lib.win-amd64-cpython-311\\pandas\\_libs\\tslibs\n",
      "  copying pandas\\_libs\\tslibs\\vectorized.pyx -> build\\lib.win-amd64-cpython-311\\pandas\\_libs\\tslibs\n",
      "  creating build\\lib.win-amd64-cpython-311\\pandas\\_libs\\tslibs\\src\n",
      "  creating build\\lib.win-amd64-cpython-311\\pandas\\_libs\\tslibs\\src\\datetime\n",
      "  copying pandas\\_libs\\tslibs\\src\\datetime\\np_datetime.c -> build\\lib.win-amd64-cpython-311\\pandas\\_libs\\tslibs\\src\\datetime\n",
      "  copying pandas\\_libs\\tslibs\\src\\datetime\\np_datetime.h -> build\\lib.win-amd64-cpython-311\\pandas\\_libs\\tslibs\\src\\datetime\n",
      "  copying pandas\\_libs\\tslibs\\src\\datetime\\np_datetime_strings.c -> build\\lib.win-amd64-cpython-311\\pandas\\_libs\\tslibs\\src\\datetime\n",
      "  copying pandas\\_libs\\tslibs\\src\\datetime\\np_datetime_strings.h -> build\\lib.win-amd64-cpython-311\\pandas\\_libs\\tslibs\\src\\datetime\n",
      "  copying pandas\\_libs\\window\\aggregations.pyi -> build\\lib.win-amd64-cpython-311\\pandas\\_libs\\window\n",
      "  copying pandas\\_libs\\window\\aggregations.pyx -> build\\lib.win-amd64-cpython-311\\pandas\\_libs\\window\n",
      "  copying pandas\\_libs\\window\\indexers.pyi -> build\\lib.win-amd64-cpython-311\\pandas\\_libs\\window\n",
      "  copying pandas\\_libs\\window\\indexers.pyx -> build\\lib.win-amd64-cpython-311\\pandas\\_libs\\window\n",
      "  UPDATING build\\lib.win-amd64-cpython-311\\pandas/_version.py\n",
      "  set build\\lib.win-amd64-cpython-311\\pandas/_version.py to '1.3.5'\n",
      "  running build_ext\n",
      "  building 'pandas._libs.algos' extension\n",
      "  error: Microsoft Visual C++ 14.0 or greater is required. Get it with \"Microsoft C++ Build Tools\": https://visualstudio.microsoft.com/visual-cpp-build-tools/\n",
      "  [end of output]\n",
      "  \n",
      "  note: This error originates from a subprocess, and is likely not a problem with pip.\n",
      "  ERROR: Failed building wheel for pandas\n",
      "ERROR: Could not build wheels for pandas, which is required to install pyproject.toml-based projects\n",
      "\n",
      "[notice] A new release of pip available: 22.3.1 -> 23.2.1\n",
      "[notice] To update, run: python.exe -m pip install --upgrade pip\n"
     ]
    },
    {
     "name": "stdout",
     "output_type": "stream",
     "text": [
      "Collecting spacy==3.2.0\n",
      "  Using cached spacy-3.2.0.tar.gz (1.1 MB)\n",
      "  Installing build dependencies: started\n",
      "  Installing build dependencies: still running...\n",
      "  Installing build dependencies: finished with status 'error'\n"
     ]
    },
    {
     "name": "stderr",
     "output_type": "stream",
     "text": [
      "  error: subprocess-exited-with-error\n",
      "  \n",
      "  pip subprocess to install build dependencies did not run successfully.\n",
      "  exit code: 1\n",
      "  \n",
      "  [475 lines of output]\n",
      "  Collecting setuptools\n",
      "    Using cached setuptools-68.2.2-py3-none-any.whl (807 kB)\n",
      "  Collecting cython<3.0,>=0.25\n",
      "    Using cached Cython-0.29.36-py2.py3-none-any.whl (988 kB)\n",
      "  Collecting cymem<2.1.0,>=2.0.2\n",
      "    Using cached cymem-2.0.8-cp311-cp311-win_amd64.whl (39 kB)\n",
      "  Collecting preshed<3.1.0,>=3.0.2\n",
      "    Using cached preshed-3.0.9-cp311-cp311-win_amd64.whl (122 kB)\n",
      "  Collecting murmurhash<1.1.0,>=0.28.0\n",
      "    Using cached murmurhash-1.0.10-cp311-cp311-win_amd64.whl (25 kB)\n",
      "  Collecting thinc<8.1.0,>=8.0.12\n",
      "    Using cached thinc-8.0.17.tar.gz (189 kB)\n",
      "    Installing build dependencies: started\n",
      "    Installing build dependencies: finished with status 'done'\n",
      "    Getting requirements to build wheel: started\n",
      "    Getting requirements to build wheel: finished with status 'done'\n",
      "    Installing backend dependencies: started\n",
      "    Installing backend dependencies: finished with status 'done'\n",
      "    Preparing metadata (pyproject.toml): started\n",
      "    Preparing metadata (pyproject.toml): finished with status 'done'\n",
      "  Collecting blis<0.8.0,>=0.4.0\n",
      "    Using cached blis-0.7.11-cp311-cp311-win_amd64.whl (6.6 MB)\n",
      "  Collecting pathy\n",
      "    Using cached pathy-0.10.2-py3-none-any.whl (48 kB)\n",
      "  Collecting numpy>=1.15.0\n",
      "    Using cached numpy-1.26.0-cp311-cp311-win_amd64.whl (15.8 MB)\n",
      "  Collecting wasabi<1.1.0,>=0.8.1\n",
      "    Using cached wasabi-0.10.1-py3-none-any.whl (26 kB)\n",
      "  Collecting srsly<3.0.0,>=2.4.0\n",
      "    Using cached srsly-2.4.8-cp311-cp311-win_amd64.whl (479 kB)\n",
      "  Collecting catalogue<2.1.0,>=2.0.4\n",
      "    Using cached catalogue-2.0.10-py3-none-any.whl (17 kB)\n",
      "  Collecting pydantic!=1.8,!=1.8.1,<1.9.0,>=1.7.4\n",
      "    Using cached pydantic-1.8.2-py3-none-any.whl (126 kB)\n",
      "  Collecting smart-open<7.0.0,>=5.2.1\n",
      "    Using cached smart_open-6.4.0-py3-none-any.whl (57 kB)\n",
      "  Collecting typer<1.0.0,>=0.3.0\n",
      "    Using cached typer-0.9.0-py3-none-any.whl (45 kB)\n",
      "  Collecting typing-extensions>=3.7.4.3\n",
      "    Using cached typing_extensions-4.8.0-py3-none-any.whl (31 kB)\n",
      "  Collecting click<9.0.0,>=7.1.1\n",
      "    Using cached click-8.1.7-py3-none-any.whl (97 kB)\n",
      "  Collecting colorama\n",
      "    Using cached colorama-0.4.6-py2.py3-none-any.whl (25 kB)\n",
      "  Building wheels for collected packages: thinc\n",
      "    Building wheel for thinc (pyproject.toml): started\n",
      "    Building wheel for thinc (pyproject.toml): finished with status 'error'\n",
      "    error: subprocess-exited-with-error\n",
      "  \n",
      "    Building wheel for thinc (pyproject.toml) did not run successfully.\n",
      "    exit code: 1\n",
      "  \n",
      "    [413 lines of output]\n",
      "    Cythonizing sources\n",
      "    running bdist_wheel\n",
      "    running build\n",
      "    running build_py\n",
      "    creating build\n",
      "    creating build\\lib.win-amd64-cpython-311\n",
      "    creating build\\lib.win-amd64-cpython-311\\thinc\n",
      "    copying thinc\\about.py -> build\\lib.win-amd64-cpython-311\\thinc\n",
      "    copying thinc\\api.py -> build\\lib.win-amd64-cpython-311\\thinc\n",
      "    copying thinc\\config.py -> build\\lib.win-amd64-cpython-311\\thinc\n",
      "    copying thinc\\initializers.py -> build\\lib.win-amd64-cpython-311\\thinc\n",
      "    copying thinc\\loss.py -> build\\lib.win-amd64-cpython-311\\thinc\n",
      "    copying thinc\\model.py -> build\\lib.win-amd64-cpython-311\\thinc\n",
      "    copying thinc\\mypy.py -> build\\lib.win-amd64-cpython-311\\thinc\n",
      "    copying thinc\\optimizers.py -> build\\lib.win-amd64-cpython-311\\thinc\n",
      "    copying thinc\\schedules.py -> build\\lib.win-amd64-cpython-311\\thinc\n",
      "    copying thinc\\types.py -> build\\lib.win-amd64-cpython-311\\thinc\n",
      "    copying thinc\\util.py -> build\\lib.win-amd64-cpython-311\\thinc\n",
      "    copying thinc\\__init__.py -> build\\lib.win-amd64-cpython-311\\thinc\n",
      "    creating build\\lib.win-amd64-cpython-311\\thinc\\backends\n",
      "    copying thinc\\backends\\cupy_ops.py -> build\\lib.win-amd64-cpython-311\\thinc\\backends\n",
      "    copying thinc\\backends\\ops.py -> build\\lib.win-amd64-cpython-311\\thinc\\backends\n",
      "    copying thinc\\backends\\_cupy_allocators.py -> build\\lib.win-amd64-cpython-311\\thinc\\backends\n",
      "    copying thinc\\backends\\_custom_kernels.py -> build\\lib.win-amd64-cpython-311\\thinc\\backends\n",
      "    copying thinc\\backends\\_param_server.py -> build\\lib.win-amd64-cpython-311\\thinc\\backends\n",
      "    copying thinc\\backends\\__init__.py -> build\\lib.win-amd64-cpython-311\\thinc\\backends\n",
      "    creating build\\lib.win-amd64-cpython-311\\thinc\\extra\n",
      "    copying thinc\\extra\\__init__.py -> build\\lib.win-amd64-cpython-311\\thinc\\extra\n",
      "    creating build\\lib.win-amd64-cpython-311\\thinc\\layers\n",
      "    copying thinc\\layers\\add.py -> build\\lib.win-amd64-cpython-311\\thinc\\layers\n",
      "    copying thinc\\layers\\array_getitem.py -> build\\lib.win-amd64-cpython-311\\thinc\\layers\n",
      "    copying thinc\\layers\\bidirectional.py -> build\\lib.win-amd64-cpython-311\\thinc\\layers\n",
      "    copying thinc\\layers\\cauchysimilarity.py -> build\\lib.win-amd64-cpython-311\\thinc\\layers\n",
      "    copying thinc\\layers\\chain.py -> build\\lib.win-amd64-cpython-311\\thinc\\layers\n",
      "    copying thinc\\layers\\clipped_linear.py -> build\\lib.win-amd64-cpython-311\\thinc\\layers\n",
      "    copying thinc\\layers\\clone.py -> build\\lib.win-amd64-cpython-311\\thinc\\layers\n",
      "    copying thinc\\layers\\concatenate.py -> build\\lib.win-amd64-cpython-311\\thinc\\layers\n",
      "    copying thinc\\layers\\dropout.py -> build\\lib.win-amd64-cpython-311\\thinc\\layers\n",
      "    copying thinc\\layers\\embed.py -> build\\lib.win-amd64-cpython-311\\thinc\\layers\n",
      "    copying thinc\\layers\\expand_window.py -> build\\lib.win-amd64-cpython-311\\thinc\\layers\n",
      "    copying thinc\\layers\\gelu.py -> build\\lib.win-amd64-cpython-311\\thinc\\layers\n",
      "    copying thinc\\layers\\hard_swish.py -> build\\lib.win-amd64-cpython-311\\thinc\\layers\n",
      "    copying thinc\\layers\\hard_swish_mobilenet.py -> build\\lib.win-amd64-cpython-311\\thinc\\layers\n",
      "    copying thinc\\layers\\hashembed.py -> build\\lib.win-amd64-cpython-311\\thinc\\layers\n",
      "    copying thinc\\layers\\layernorm.py -> build\\lib.win-amd64-cpython-311\\thinc\\layers\n",
      "    copying thinc\\layers\\linear.py -> build\\lib.win-amd64-cpython-311\\thinc\\layers\n",
      "    copying thinc\\layers\\list2array.py -> build\\lib.win-amd64-cpython-311\\thinc\\layers\n",
      "    copying thinc\\layers\\list2padded.py -> build\\lib.win-amd64-cpython-311\\thinc\\layers\n",
      "    copying thinc\\layers\\list2ragged.py -> build\\lib.win-amd64-cpython-311\\thinc\\layers\n",
      "    copying thinc\\layers\\logistic.py -> build\\lib.win-amd64-cpython-311\\thinc\\layers\n",
      "    copying thinc\\layers\\lstm.py -> build\\lib.win-amd64-cpython-311\\thinc\\layers\n",
      "    copying thinc\\layers\\map_list.py -> build\\lib.win-amd64-cpython-311\\thinc\\layers\n",
      "    copying thinc\\layers\\maxout.py -> build\\lib.win-amd64-cpython-311\\thinc\\layers\n",
      "    copying thinc\\layers\\mish.py -> build\\lib.win-amd64-cpython-311\\thinc\\layers\n",
      "    copying thinc\\layers\\multisoftmax.py -> build\\lib.win-amd64-cpython-311\\thinc\\layers\n",
      "    copying thinc\\layers\\mxnetwrapper.py -> build\\lib.win-amd64-cpython-311\\thinc\\layers\n",
      "    copying thinc\\layers\\noop.py -> build\\lib.win-amd64-cpython-311\\thinc\\layers\n",
      "    copying thinc\\layers\\padded2list.py -> build\\lib.win-amd64-cpython-311\\thinc\\layers\n",
      "    copying thinc\\layers\\parametricattention.py -> build\\lib.win-amd64-cpython-311\\thinc\\layers\n",
      "    copying thinc\\layers\\pytorchwrapper.py -> build\\lib.win-amd64-cpython-311\\thinc\\layers\n",
      "    copying thinc\\layers\\ragged2list.py -> build\\lib.win-amd64-cpython-311\\thinc\\layers\n",
      "    copying thinc\\layers\\reduce_first.py -> build\\lib.win-amd64-cpython-311\\thinc\\layers\n",
      "    copying thinc\\layers\\reduce_last.py -> build\\lib.win-amd64-cpython-311\\thinc\\layers\n",
      "    copying thinc\\layers\\reduce_max.py -> build\\lib.win-amd64-cpython-311\\thinc\\layers\n",
      "    copying thinc\\layers\\reduce_mean.py -> build\\lib.win-amd64-cpython-311\\thinc\\layers\n",
      "    copying thinc\\layers\\reduce_sum.py -> build\\lib.win-amd64-cpython-311\\thinc\\layers\n",
      "    copying thinc\\layers\\relu.py -> build\\lib.win-amd64-cpython-311\\thinc\\layers\n",
      "    copying thinc\\layers\\remap_ids.py -> build\\lib.win-amd64-cpython-311\\thinc\\layers\n",
      "    copying thinc\\layers\\residual.py -> build\\lib.win-amd64-cpython-311\\thinc\\layers\n",
      "    copying thinc\\layers\\resizable.py -> build\\lib.win-amd64-cpython-311\\thinc\\layers\n",
      "    copying thinc\\layers\\siamese.py -> build\\lib.win-amd64-cpython-311\\thinc\\layers\n",
      "    copying thinc\\layers\\sigmoid.py -> build\\lib.win-amd64-cpython-311\\thinc\\layers\n",
      "    copying thinc\\layers\\sigmoid_activation.py -> build\\lib.win-amd64-cpython-311\\thinc\\layers\n",
      "    copying thinc\\layers\\softmax.py -> build\\lib.win-amd64-cpython-311\\thinc\\layers\n",
      "    copying thinc\\layers\\softmax_activation.py -> build\\lib.win-amd64-cpython-311\\thinc\\layers\n",
      "    copying thinc\\layers\\strings2arrays.py -> build\\lib.win-amd64-cpython-311\\thinc\\layers\n",
      "    copying thinc\\layers\\swish.py -> build\\lib.win-amd64-cpython-311\\thinc\\layers\n",
      "    copying thinc\\layers\\tensorflowwrapper.py -> build\\lib.win-amd64-cpython-311\\thinc\\layers\n",
      "    copying thinc\\layers\\tuplify.py -> build\\lib.win-amd64-cpython-311\\thinc\\layers\n",
      "    copying thinc\\layers\\uniqued.py -> build\\lib.win-amd64-cpython-311\\thinc\\layers\n",
      "    copying thinc\\layers\\with_array.py -> build\\lib.win-amd64-cpython-311\\thinc\\layers\n",
      "    copying thinc\\layers\\with_array2d.py -> build\\lib.win-amd64-cpython-311\\thinc\\layers\n",
      "    copying thinc\\layers\\with_cpu.py -> build\\lib.win-amd64-cpython-311\\thinc\\layers\n",
      "    copying thinc\\layers\\with_debug.py -> build\\lib.win-amd64-cpython-311\\thinc\\layers\n",
      "    copying thinc\\layers\\with_flatten.py -> build\\lib.win-amd64-cpython-311\\thinc\\layers\n",
      "    copying thinc\\layers\\with_getitem.py -> build\\lib.win-amd64-cpython-311\\thinc\\layers\n",
      "    copying thinc\\layers\\with_list.py -> build\\lib.win-amd64-cpython-311\\thinc\\layers\n",
      "    copying thinc\\layers\\with_nvtx_range.py -> build\\lib.win-amd64-cpython-311\\thinc\\layers\n",
      "    copying thinc\\layers\\with_padded.py -> build\\lib.win-amd64-cpython-311\\thinc\\layers\n",
      "    copying thinc\\layers\\with_ragged.py -> build\\lib.win-amd64-cpython-311\\thinc\\layers\n",
      "    copying thinc\\layers\\with_reshape.py -> build\\lib.win-amd64-cpython-311\\thinc\\layers\n",
      "    copying thinc\\layers\\__init__.py -> build\\lib.win-amd64-cpython-311\\thinc\\layers\n",
      "    creating build\\lib.win-amd64-cpython-311\\thinc\\shims\n",
      "    copying thinc\\shims\\mxnet.py -> build\\lib.win-amd64-cpython-311\\thinc\\shims\n",
      "    copying thinc\\shims\\pytorch.py -> build\\lib.win-amd64-cpython-311\\thinc\\shims\n",
      "    copying thinc\\shims\\pytorch_grad_scaler.py -> build\\lib.win-amd64-cpython-311\\thinc\\shims\n",
      "    copying thinc\\shims\\shim.py -> build\\lib.win-amd64-cpython-311\\thinc\\shims\n",
      "    copying thinc\\shims\\tensorflow.py -> build\\lib.win-amd64-cpython-311\\thinc\\shims\n",
      "    copying thinc\\shims\\__init__.py -> build\\lib.win-amd64-cpython-311\\thinc\\shims\n",
      "    creating build\\lib.win-amd64-cpython-311\\thinc\\tests\n",
      "    copying thinc\\tests\\conftest.py -> build\\lib.win-amd64-cpython-311\\thinc\\tests\n",
      "    copying thinc\\tests\\strategies.py -> build\\lib.win-amd64-cpython-311\\thinc\\tests\n",
      "    copying thinc\\tests\\test_config.py -> build\\lib.win-amd64-cpython-311\\thinc\\tests\n",
      "    copying thinc\\tests\\test_examples.py -> build\\lib.win-amd64-cpython-311\\thinc\\tests\n",
      "    copying thinc\\tests\\test_indexing.py -> build\\lib.win-amd64-cpython-311\\thinc\\tests\n",
      "    copying thinc\\tests\\test_initializers.py -> build\\lib.win-amd64-cpython-311\\thinc\\tests\n",
      "    copying thinc\\tests\\test_loss.py -> build\\lib.win-amd64-cpython-311\\thinc\\tests\n",
      "    copying thinc\\tests\\test_optimizers.py -> build\\lib.win-amd64-cpython-311\\thinc\\tests\n",
      "    copying thinc\\tests\\test_schedules.py -> build\\lib.win-amd64-cpython-311\\thinc\\tests\n",
      "    copying thinc\\tests\\test_serialize.py -> build\\lib.win-amd64-cpython-311\\thinc\\tests\n",
      "    copying thinc\\tests\\test_types.py -> build\\lib.win-amd64-cpython-311\\thinc\\tests\n",
      "    copying thinc\\tests\\test_util.py -> build\\lib.win-amd64-cpython-311\\thinc\\tests\n",
      "    copying thinc\\tests\\util.py -> build\\lib.win-amd64-cpython-311\\thinc\\tests\n",
      "    copying thinc\\tests\\__init__.py -> build\\lib.win-amd64-cpython-311\\thinc\\tests\n",
      "    creating build\\lib.win-amd64-cpython-311\\thinc\\extra\\tests\n",
      "    copying thinc\\extra\\tests\\__init__.py -> build\\lib.win-amd64-cpython-311\\thinc\\extra\\tests\n",
      "    creating build\\lib.win-amd64-cpython-311\\thinc\\tests\\backends\n",
      "    copying thinc\\tests\\backends\\test_mem.py -> build\\lib.win-amd64-cpython-311\\thinc\\tests\\backends\n",
      "    copying thinc\\tests\\backends\\test_ops.py -> build\\lib.win-amd64-cpython-311\\thinc\\tests\\backends\n",
      "    copying thinc\\tests\\backends\\__init__.py -> build\\lib.win-amd64-cpython-311\\thinc\\tests\\backends\n",
      "    creating build\\lib.win-amd64-cpython-311\\thinc\\tests\\extra\n",
      "    copying thinc\\tests\\extra\\test_beam_search.py -> build\\lib.win-amd64-cpython-311\\thinc\\tests\\extra\n",
      "    copying thinc\\tests\\extra\\__init__.py -> build\\lib.win-amd64-cpython-311\\thinc\\tests\\extra\n",
      "    creating build\\lib.win-amd64-cpython-311\\thinc\\tests\\layers\n",
      "    copying thinc\\tests\\layers\\test_basic_tagger.py -> build\\lib.win-amd64-cpython-311\\thinc\\tests\\layers\n",
      "    copying thinc\\tests\\layers\\test_combinators.py -> build\\lib.win-amd64-cpython-311\\thinc\\tests\\layers\n",
      "    copying thinc\\tests\\layers\\test_feed_forward.py -> build\\lib.win-amd64-cpython-311\\thinc\\tests\\layers\n",
      "    copying thinc\\tests\\layers\\test_hash_embed.py -> build\\lib.win-amd64-cpython-311\\thinc\\tests\\layers\n",
      "    copying thinc\\tests\\layers\\test_layers_api.py -> build\\lib.win-amd64-cpython-311\\thinc\\tests\\layers\n",
      "    copying thinc\\tests\\layers\\test_linear.py -> build\\lib.win-amd64-cpython-311\\thinc\\tests\\layers\n",
      "    copying thinc\\tests\\layers\\test_lstm.py -> build\\lib.win-amd64-cpython-311\\thinc\\tests\\layers\n",
      "    copying thinc\\tests\\layers\\test_mnist.py -> build\\lib.win-amd64-cpython-311\\thinc\\tests\\layers\n",
      "    copying thinc\\tests\\layers\\test_mxnet_wrapper.py -> build\\lib.win-amd64-cpython-311\\thinc\\tests\\layers\n",
      "    copying thinc\\tests\\layers\\test_pytorch_wrapper.py -> build\\lib.win-amd64-cpython-311\\thinc\\tests\\layers\n",
      "    copying thinc\\tests\\layers\\test_reduce.py -> build\\lib.win-amd64-cpython-311\\thinc\\tests\\layers\n",
      "    copying thinc\\tests\\layers\\test_shim.py -> build\\lib.win-amd64-cpython-311\\thinc\\tests\\layers\n",
      "    copying thinc\\tests\\layers\\test_softmax.py -> build\\lib.win-amd64-cpython-311\\thinc\\tests\\layers\n",
      "    copying thinc\\tests\\layers\\test_sparse_linear.py -> build\\lib.win-amd64-cpython-311\\thinc\\tests\\layers\n",
      "    copying thinc\\tests\\layers\\test_tensorflow_wrapper.py -> build\\lib.win-amd64-cpython-311\\thinc\\tests\\layers\n",
      "    copying thinc\\tests\\layers\\test_transforms.py -> build\\lib.win-amd64-cpython-311\\thinc\\tests\\layers\n",
      "    copying thinc\\tests\\layers\\test_uniqued.py -> build\\lib.win-amd64-cpython-311\\thinc\\tests\\layers\n",
      "    copying thinc\\tests\\layers\\test_with_debug.py -> build\\lib.win-amd64-cpython-311\\thinc\\tests\\layers\n",
      "    copying thinc\\tests\\layers\\test_with_transforms.py -> build\\lib.win-amd64-cpython-311\\thinc\\tests\\layers\n",
      "    copying thinc\\tests\\layers\\__init__.py -> build\\lib.win-amd64-cpython-311\\thinc\\tests\\layers\n",
      "    creating build\\lib.win-amd64-cpython-311\\thinc\\tests\\model\n",
      "    copying thinc\\tests\\model\\test_model.py -> build\\lib.win-amd64-cpython-311\\thinc\\tests\\model\n",
      "    copying thinc\\tests\\model\\test_validation.py -> build\\lib.win-amd64-cpython-311\\thinc\\tests\\model\n",
      "    copying thinc\\tests\\model\\__init__.py -> build\\lib.win-amd64-cpython-311\\thinc\\tests\\model\n",
      "    creating build\\lib.win-amd64-cpython-311\\thinc\\tests\\mypy\n",
      "    copying thinc\\tests\\mypy\\test_mypy.py -> build\\lib.win-amd64-cpython-311\\thinc\\tests\\mypy\n",
      "    copying thinc\\tests\\mypy\\__init__.py -> build\\lib.win-amd64-cpython-311\\thinc\\tests\\mypy\n",
      "    creating build\\lib.win-amd64-cpython-311\\thinc\\tests\\regression\n",
      "    copying thinc\\tests\\regression\\test_issue208.py -> build\\lib.win-amd64-cpython-311\\thinc\\tests\\regression\n",
      "    copying thinc\\tests\\regression\\test_issue564.py -> build\\lib.win-amd64-cpython-311\\thinc\\tests\\regression\n",
      "    copying thinc\\tests\\regression\\__init__.py -> build\\lib.win-amd64-cpython-311\\thinc\\tests\\regression\n",
      "    creating build\\lib.win-amd64-cpython-311\\thinc\\tests\\shims\n",
      "    copying thinc\\tests\\shims\\test_pytorch_grad_scaler.py -> build\\lib.win-amd64-cpython-311\\thinc\\tests\\shims\n",
      "    copying thinc\\tests\\shims\\__init__.py -> build\\lib.win-amd64-cpython-311\\thinc\\tests\\shims\n",
      "    creating build\\lib.win-amd64-cpython-311\\thinc\\tests\\mypy\\modules\n",
      "    copying thinc\\tests\\mypy\\modules\\fail_no_plugin.py -> build\\lib.win-amd64-cpython-311\\thinc\\tests\\mypy\\modules\n",
      "    copying thinc\\tests\\mypy\\modules\\fail_plugin.py -> build\\lib.win-amd64-cpython-311\\thinc\\tests\\mypy\\modules\n",
      "    copying thinc\\tests\\mypy\\modules\\success_no_plugin.py -> build\\lib.win-amd64-cpython-311\\thinc\\tests\\mypy\\modules\n",
      "    copying thinc\\tests\\mypy\\modules\\success_plugin.py -> build\\lib.win-amd64-cpython-311\\thinc\\tests\\mypy\\modules\n",
      "    copying thinc\\tests\\mypy\\modules\\__init__.py -> build\\lib.win-amd64-cpython-311\\thinc\\tests\\mypy\\modules\n",
      "    creating build\\lib.win-amd64-cpython-311\\thinc\\tests\\regression\\issue519\n",
      "    copying thinc\\tests\\regression\\issue519\\program.py -> build\\lib.win-amd64-cpython-311\\thinc\\tests\\regression\\issue519\n",
      "    copying thinc\\tests\\regression\\issue519\\test_issue519.py -> build\\lib.win-amd64-cpython-311\\thinc\\tests\\regression\\issue519\n",
      "    copying thinc\\tests\\regression\\issue519\\__init__.py -> build\\lib.win-amd64-cpython-311\\thinc\\tests\\regression\\issue519\n",
      "    running egg_info\n",
      "    writing thinc.egg-info\\PKG-INFO\n",
      "    writing dependency_links to thinc.egg-info\\dependency_links.txt\n",
      "    writing requirements to thinc.egg-info\\requires.txt\n",
      "    writing top-level names to thinc.egg-info\\top_level.txt\n",
      "    reading manifest file 'thinc.egg-info\\SOURCES.txt'\n",
      "    reading manifest template 'MANIFEST.in'\n",
      "    warning: manifest_maker: MANIFEST.in, line 4: path 'tmp/' cannot end with '/'\n",
      "  \n",
      "    warning: no previously-included files matching '*.cpp' found under directory 'thinc'\n",
      "    adding license file 'LICENSE'\n",
      "    writing manifest file 'thinc.egg-info\\SOURCES.txt'\n",
      "    C:\\Users\\gabri\\AppData\\Local\\Temp\\pip-build-env-jclti6nn\\overlay\\Lib\\site-packages\\setuptools\\command\\build_py.py:204: _Warning: Package 'thinc.backends' is absent from the `packages` configuration.\n",
      "    !!\n",
      "  \n",
      "            ********************************************************************************\n",
      "            ############################\n",
      "            # Package would be ignored #\n",
      "            ############################\n",
      "            Python recognizes 'thinc.backends' as an importable package[^1],\n",
      "            but it is absent from setuptools' `packages` configuration.\n",
      "  \n",
      "            This leads to an ambiguous overall configuration. If you want to distribute this\n",
      "            package, please make sure that 'thinc.backends' is explicitly added\n",
      "            to the `packages` configuration field.\n",
      "  \n",
      "            Alternatively, you can also rely on setuptools' discovery methods\n",
      "            (for example by using `find_namespace_packages(...)`/`find_namespace:`\n",
      "            instead of `find_packages(...)`/`find:`).\n",
      "  \n",
      "            You can read more about \"package discovery\" on setuptools documentation page:\n",
      "  \n",
      "            - https://setuptools.pypa.io/en/latest/userguide/package_discovery.html\n",
      "  \n",
      "            If you don't want 'thinc.backends' to be distributed and are\n",
      "            already explicitly excluding 'thinc.backends' via\n",
      "            `find_namespace_packages(...)/find_namespace` or `find_packages(...)/find`,\n",
      "            you can try to use `exclude_package_data`, or `include-package-data=False` in\n",
      "            combination with a more fine grained `package-data` configuration.\n",
      "  \n",
      "            You can read more about \"package data files\" on setuptools documentation page:\n",
      "  \n",
      "            - https://setuptools.pypa.io/en/latest/userguide/datafiles.html\n",
      "  \n",
      "  \n",
      "            [^1]: For Python, any directory (with suitable naming) can be imported,\n",
      "                  even if it does not contain any `.py` files.\n",
      "                  On the other hand, currently there is no concept of package data\n",
      "                  directory, all directories are treated like packages.\n",
      "            ********************************************************************************\n",
      "  \n",
      "    !!\n",
      "      check.warn(importable)\n",
      "    C:\\Users\\gabri\\AppData\\Local\\Temp\\pip-build-env-jclti6nn\\overlay\\Lib\\site-packages\\setuptools\\command\\build_py.py:204: _Warning: Package 'thinc.extra' is absent from the `packages` configuration.\n",
      "    !!\n",
      "  \n",
      "            ********************************************************************************\n",
      "            ############################\n",
      "            # Package would be ignored #\n",
      "            ############################\n",
      "            Python recognizes 'thinc.extra' as an importable package[^1],\n",
      "            but it is absent from setuptools' `packages` configuration.\n",
      "  \n",
      "            This leads to an ambiguous overall configuration. If you want to distribute this\n",
      "            package, please make sure that 'thinc.extra' is explicitly added\n",
      "            to the `packages` configuration field.\n",
      "  \n",
      "            Alternatively, you can also rely on setuptools' discovery methods\n",
      "            (for example by using `find_namespace_packages(...)`/`find_namespace:`\n",
      "            instead of `find_packages(...)`/`find:`).\n",
      "  \n",
      "            You can read more about \"package discovery\" on setuptools documentation page:\n",
      "  \n",
      "            - https://setuptools.pypa.io/en/latest/userguide/package_discovery.html\n",
      "  \n",
      "            If you don't want 'thinc.extra' to be distributed and are\n",
      "            already explicitly excluding 'thinc.extra' via\n",
      "            `find_namespace_packages(...)/find_namespace` or `find_packages(...)/find`,\n",
      "            you can try to use `exclude_package_data`, or `include-package-data=False` in\n",
      "            combination with a more fine grained `package-data` configuration.\n",
      "  \n",
      "            You can read more about \"package data files\" on setuptools documentation page:\n",
      "  \n",
      "            - https://setuptools.pypa.io/en/latest/userguide/datafiles.html\n",
      "  \n",
      "  \n",
      "            [^1]: For Python, any directory (with suitable naming) can be imported,\n",
      "                  even if it does not contain any `.py` files.\n",
      "                  On the other hand, currently there is no concept of package data\n",
      "                  directory, all directories are treated like packages.\n",
      "            ********************************************************************************\n",
      "  \n",
      "    !!\n",
      "      check.warn(importable)\n",
      "    C:\\Users\\gabri\\AppData\\Local\\Temp\\pip-build-env-jclti6nn\\overlay\\Lib\\site-packages\\setuptools\\command\\build_py.py:204: _Warning: Package 'thinc.layers' is absent from the `packages` configuration.\n",
      "    !!\n",
      "  \n",
      "            ********************************************************************************\n",
      "            ############################\n",
      "            # Package would be ignored #\n",
      "            ############################\n",
      "            Python recognizes 'thinc.layers' as an importable package[^1],\n",
      "            but it is absent from setuptools' `packages` configuration.\n",
      "  \n",
      "            This leads to an ambiguous overall configuration. If you want to distribute this\n",
      "            package, please make sure that 'thinc.layers' is explicitly added\n",
      "            to the `packages` configuration field.\n",
      "  \n",
      "            Alternatively, you can also rely on setuptools' discovery methods\n",
      "            (for example by using `find_namespace_packages(...)`/`find_namespace:`\n",
      "            instead of `find_packages(...)`/`find:`).\n",
      "  \n",
      "            You can read more about \"package discovery\" on setuptools documentation page:\n",
      "  \n",
      "            - https://setuptools.pypa.io/en/latest/userguide/package_discovery.html\n",
      "  \n",
      "            If you don't want 'thinc.layers' to be distributed and are\n",
      "            already explicitly excluding 'thinc.layers' via\n",
      "            `find_namespace_packages(...)/find_namespace` or `find_packages(...)/find`,\n",
      "            you can try to use `exclude_package_data`, or `include-package-data=False` in\n",
      "            combination with a more fine grained `package-data` configuration.\n",
      "  \n",
      "            You can read more about \"package data files\" on setuptools documentation page:\n",
      "  \n",
      "            - https://setuptools.pypa.io/en/latest/userguide/datafiles.html\n",
      "  \n",
      "  \n",
      "            [^1]: For Python, any directory (with suitable naming) can be imported,\n",
      "                  even if it does not contain any `.py` files.\n",
      "                  On the other hand, currently there is no concept of package data\n",
      "                  directory, all directories are treated like packages.\n",
      "            ********************************************************************************\n",
      "  \n",
      "    !!\n",
      "      check.warn(importable)\n",
      "    C:\\Users\\gabri\\AppData\\Local\\Temp\\pip-build-env-jclti6nn\\overlay\\Lib\\site-packages\\setuptools\\command\\build_py.py:204: _Warning: Package 'thinc.tests.mypy.configs' is absent from the `packages` configuration.\n",
      "    !!\n",
      "  \n",
      "            ********************************************************************************\n",
      "            ############################\n",
      "            # Package would be ignored #\n",
      "            ############################\n",
      "            Python recognizes 'thinc.tests.mypy.configs' as an importable package[^1],\n",
      "            but it is absent from setuptools' `packages` configuration.\n",
      "  \n",
      "            This leads to an ambiguous overall configuration. If you want to distribute this\n",
      "            package, please make sure that 'thinc.tests.mypy.configs' is explicitly added\n",
      "            to the `packages` configuration field.\n",
      "  \n",
      "            Alternatively, you can also rely on setuptools' discovery methods\n",
      "            (for example by using `find_namespace_packages(...)`/`find_namespace:`\n",
      "            instead of `find_packages(...)`/`find:`).\n",
      "  \n",
      "            You can read more about \"package discovery\" on setuptools documentation page:\n",
      "  \n",
      "            - https://setuptools.pypa.io/en/latest/userguide/package_discovery.html\n",
      "  \n",
      "            If you don't want 'thinc.tests.mypy.configs' to be distributed and are\n",
      "            already explicitly excluding 'thinc.tests.mypy.configs' via\n",
      "            `find_namespace_packages(...)/find_namespace` or `find_packages(...)/find`,\n",
      "            you can try to use `exclude_package_data`, or `include-package-data=False` in\n",
      "            combination with a more fine grained `package-data` configuration.\n",
      "  \n",
      "            You can read more about \"package data files\" on setuptools documentation page:\n",
      "  \n",
      "            - https://setuptools.pypa.io/en/latest/userguide/datafiles.html\n",
      "  \n",
      "  \n",
      "            [^1]: For Python, any directory (with suitable naming) can be imported,\n",
      "                  even if it does not contain any `.py` files.\n",
      "                  On the other hand, currently there is no concept of package data\n",
      "                  directory, all directories are treated like packages.\n",
      "            ********************************************************************************\n",
      "  \n",
      "    !!\n",
      "      check.warn(importable)\n",
      "    C:\\Users\\gabri\\AppData\\Local\\Temp\\pip-build-env-jclti6nn\\overlay\\Lib\\site-packages\\setuptools\\command\\build_py.py:204: _Warning: Package 'thinc.tests.mypy.outputs' is absent from the `packages` configuration.\n",
      "    !!\n",
      "  \n",
      "            ********************************************************************************\n",
      "            ############################\n",
      "            # Package would be ignored #\n",
      "            ############################\n",
      "            Python recognizes 'thinc.tests.mypy.outputs' as an importable package[^1],\n",
      "            but it is absent from setuptools' `packages` configuration.\n",
      "  \n",
      "            This leads to an ambiguous overall configuration. If you want to distribute this\n",
      "            package, please make sure that 'thinc.tests.mypy.outputs' is explicitly added\n",
      "            to the `packages` configuration field.\n",
      "  \n",
      "            Alternatively, you can also rely on setuptools' discovery methods\n",
      "            (for example by using `find_namespace_packages(...)`/`find_namespace:`\n",
      "            instead of `find_packages(...)`/`find:`).\n",
      "  \n",
      "            You can read more about \"package discovery\" on setuptools documentation page:\n",
      "  \n",
      "            - https://setuptools.pypa.io/en/latest/userguide/package_discovery.html\n",
      "  \n",
      "            If you don't want 'thinc.tests.mypy.outputs' to be distributed and are\n",
      "            already explicitly excluding 'thinc.tests.mypy.outputs' via\n",
      "            `find_namespace_packages(...)/find_namespace` or `find_packages(...)/find`,\n",
      "            you can try to use `exclude_package_data`, or `include-package-data=False` in\n",
      "            combination with a more fine grained `package-data` configuration.\n",
      "  \n",
      "            You can read more about \"package data files\" on setuptools documentation page:\n",
      "  \n",
      "            - https://setuptools.pypa.io/en/latest/userguide/datafiles.html\n",
      "  \n",
      "  \n",
      "            [^1]: For Python, any directory (with suitable naming) can be imported,\n",
      "                  even if it does not contain any `.py` files.\n",
      "                  On the other hand, currently there is no concept of package data\n",
      "                  directory, all directories are treated like packages.\n",
      "            ********************************************************************************\n",
      "  \n",
      "    !!\n",
      "      check.warn(importable)\n",
      "    copying thinc\\__init__.pxd -> build\\lib.win-amd64-cpython-311\\thinc\n",
      "    copying thinc\\py.typed -> build\\lib.win-amd64-cpython-311\\thinc\n",
      "    copying thinc\\backends\\linalg.cpp -> build\\lib.win-amd64-cpython-311\\thinc\\backends\n",
      "    copying thinc\\backends\\numpy_ops.cpp -> build\\lib.win-amd64-cpython-311\\thinc\\backends\n",
      "    copying thinc\\extra\\search.cpp -> build\\lib.win-amd64-cpython-311\\thinc\\extra\n",
      "    copying thinc\\layers\\sparselinear.cpp -> build\\lib.win-amd64-cpython-311\\thinc\\layers\n",
      "    copying thinc\\backends\\__init__.pxd -> build\\lib.win-amd64-cpython-311\\thinc\\backends\n",
      "    copying thinc\\backends\\_custom_kernels.cu -> build\\lib.win-amd64-cpython-311\\thinc\\backends\n",
      "    copying thinc\\backends\\_murmur3.cu -> build\\lib.win-amd64-cpython-311\\thinc\\backends\n",
      "    copying thinc\\backends\\linalg.pxd -> build\\lib.win-amd64-cpython-311\\thinc\\backends\n",
      "    copying thinc\\backends\\linalg.pyx -> build\\lib.win-amd64-cpython-311\\thinc\\backends\n",
      "    copying thinc\\backends\\numpy_ops.pxd -> build\\lib.win-amd64-cpython-311\\thinc\\backends\n",
      "    copying thinc\\backends\\numpy_ops.pyx -> build\\lib.win-amd64-cpython-311\\thinc\\backends\n",
      "    copying thinc\\extra\\__init__.pxd -> build\\lib.win-amd64-cpython-311\\thinc\\extra\n",
      "    copying thinc\\extra\\search.pxd -> build\\lib.win-amd64-cpython-311\\thinc\\extra\n",
      "    copying thinc\\extra\\search.pyx -> build\\lib.win-amd64-cpython-311\\thinc\\extra\n",
      "    copying thinc\\layers\\sparselinear.pyx -> build\\lib.win-amd64-cpython-311\\thinc\\layers\n",
      "    copying thinc\\extra\\tests\\c_test_search.pyx -> build\\lib.win-amd64-cpython-311\\thinc\\extra\\tests\n",
      "    creating build\\lib.win-amd64-cpython-311\\thinc\\tests\\mypy\\configs\n",
      "    copying thinc\\tests\\mypy\\configs\\mypy-default.ini -> build\\lib.win-amd64-cpython-311\\thinc\\tests\\mypy\\configs\n",
      "    copying thinc\\tests\\mypy\\configs\\mypy-plugin.ini -> build\\lib.win-amd64-cpython-311\\thinc\\tests\\mypy\\configs\n",
      "    creating build\\lib.win-amd64-cpython-311\\thinc\\tests\\mypy\\outputs\n",
      "    copying thinc\\tests\\mypy\\outputs\\fail-no-plugin.txt -> build\\lib.win-amd64-cpython-311\\thinc\\tests\\mypy\\outputs\n",
      "    copying thinc\\tests\\mypy\\outputs\\fail-plugin.txt -> build\\lib.win-amd64-cpython-311\\thinc\\tests\\mypy\\outputs\n",
      "    copying thinc\\tests\\mypy\\outputs\\success-no-plugin.txt -> build\\lib.win-amd64-cpython-311\\thinc\\tests\\mypy\\outputs\n",
      "    copying thinc\\tests\\mypy\\outputs\\success-plugin.txt -> build\\lib.win-amd64-cpython-311\\thinc\\tests\\mypy\\outputs\n",
      "    running build_ext\n",
      "    error: Microsoft Visual C++ 14.0 or greater is required. Get it with \"Microsoft C++ Build Tools\": https://visualstudio.microsoft.com/visual-cpp-build-tools/\n",
      "    [end of output]\n",
      "  \n",
      "    note: This error originates from a subprocess, and is likely not a problem with pip.\n",
      "    ERROR: Failed building wheel for thinc\n",
      "  Failed to build thinc\n",
      "  ERROR: Could not build wheels for thinc, which is required to install pyproject.toml-based projects\n",
      "  \n",
      "  [notice] A new release of pip available: 22.3.1 -> 23.2.1\n",
      "  [notice] To update, run: python.exe -m pip install --upgrade pip\n",
      "  [end of output]\n",
      "  \n",
      "  note: This error originates from a subprocess, and is likely not a problem with pip.\n",
      "error: subprocess-exited-with-error\n",
      "\n",
      "pip subprocess to install build dependencies did not run successfully.\n",
      "exit code: 1\n",
      "\n",
      "See above for output.\n",
      "\n",
      "note: This error originates from a subprocess, and is likely not a problem with pip.\n",
      "\n",
      "[notice] A new release of pip available: 22.3.1 -> 23.2.1\n",
      "[notice] To update, run: python.exe -m pip install --upgrade pip\n"
     ]
    },
    {
     "name": "stdout",
     "output_type": "stream",
     "text": [
      "^C\n",
      "Requirement already satisfied: spacytextblob in c:\\users\\gabri\\appdata\\local\\programs\\python\\python311\\lib\\site-packages (4.0.0)\n",
      "Requirement already satisfied: spacy<4.0,>=3.0 in c:\\users\\gabri\\appdata\\local\\programs\\python\\python311\\lib\\site-packages (from spacytextblob) (3.5.1)\n",
      "Requirement already satisfied: textblob<0.16.0,>=0.15.3 in c:\\users\\gabri\\appdata\\local\\programs\\python\\python311\\lib\\site-packages (from spacytextblob) (0.15.3)\n",
      "Requirement already satisfied: spacy-legacy<3.1.0,>=3.0.11 in c:\\users\\gabri\\appdata\\local\\programs\\python\\python311\\lib\\site-packages (from spacy<4.0,>=3.0->spacytextblob) (3.0.12)\n",
      "Requirement already satisfied: spacy-loggers<2.0.0,>=1.0.0 in c:\\users\\gabri\\appdata\\local\\programs\\python\\python311\\lib\\site-packages (from spacy<4.0,>=3.0->spacytextblob) (1.0.4)\n",
      "Requirement already satisfied: murmurhash<1.1.0,>=0.28.0 in c:\\users\\gabri\\appdata\\local\\programs\\python\\python311\\lib\\site-packages (from spacy<4.0,>=3.0->spacytextblob) (1.0.9)\n",
      "Requirement already satisfied: cymem<2.1.0,>=2.0.2 in c:\\users\\gabri\\appdata\\local\\programs\\python\\python311\\lib\\site-packages (from spacy<4.0,>=3.0->spacytextblob) (2.0.7)\n",
      "Requirement already satisfied: preshed<3.1.0,>=3.0.2 in c:\\users\\gabri\\appdata\\local\\programs\\python\\python311\\lib\\site-packages (from spacy<4.0,>=3.0->spacytextblob) (3.0.8)\n",
      "Requirement already satisfied: thinc<8.2.0,>=8.1.8 in c:\\users\\gabri\\appdata\\local\\programs\\python\\python311\\lib\\site-packages (from spacy<4.0,>=3.0->spacytextblob) (8.1.9)\n",
      "Requirement already satisfied: wasabi<1.2.0,>=0.9.1 in c:\\users\\gabri\\appdata\\local\\programs\\python\\python311\\lib\\site-packages (from spacy<4.0,>=3.0->spacytextblob) (1.1.1)\n",
      "Requirement already satisfied: srsly<3.0.0,>=2.4.3 in c:\\users\\gabri\\appdata\\local\\programs\\python\\python311\\lib\\site-packages (from spacy<4.0,>=3.0->spacytextblob) (2.4.6)\n",
      "Requirement already satisfied: catalogue<2.1.0,>=2.0.6 in c:\\users\\gabri\\appdata\\local\\programs\\python\\python311\\lib\\site-packages (from spacy<4.0,>=3.0->spacytextblob) (2.0.8)\n",
      "Requirement already satisfied: typer<0.8.0,>=0.3.0 in c:\\users\\gabri\\appdata\\local\\programs\\python\\python311\\lib\\site-packages (from spacy<4.0,>=3.0->spacytextblob) (0.7.0)\n",
      "Requirement already satisfied: pathy>=0.10.0 in c:\\users\\gabri\\appdata\\local\\programs\\python\\python311\\lib\\site-packages (from spacy<4.0,>=3.0->spacytextblob) (0.10.1)\n",
      "Requirement already satisfied: smart-open<7.0.0,>=5.2.1 in c:\\users\\gabri\\appdata\\local\\programs\\python\\python311\\lib\\site-packages (from spacy<4.0,>=3.0->spacytextblob) (6.3.0)\n",
      "Requirement already satisfied: tqdm<5.0.0,>=4.38.0 in c:\\users\\gabri\\appdata\\local\\programs\\python\\python311\\lib\\site-packages (from spacy<4.0,>=3.0->spacytextblob) (4.64.1)\n",
      "Requirement already satisfied: numpy>=1.15.0 in c:\\users\\gabri\\appdata\\local\\programs\\python\\python311\\lib\\site-packages (from spacy<4.0,>=3.0->spacytextblob) (1.24.2)\n",
      "Requirement already satisfied: requests<3.0.0,>=2.13.0 in c:\\users\\gabri\\appdata\\local\\programs\\python\\python311\\lib\\site-packages (from spacy<4.0,>=3.0->spacytextblob) (2.28.2)\n",
      "Requirement already satisfied: pydantic!=1.8,!=1.8.1,<1.11.0,>=1.7.4 in c:\\users\\gabri\\appdata\\local\\programs\\python\\python311\\lib\\site-packages (from spacy<4.0,>=3.0->spacytextblob) (1.10.5)\n",
      "Requirement already satisfied: jinja2 in c:\\users\\gabri\\appdata\\local\\programs\\python\\python311\\lib\\site-packages (from spacy<4.0,>=3.0->spacytextblob) (3.1.2)\n",
      "Requirement already satisfied: setuptools in c:\\users\\gabri\\appdata\\local\\programs\\python\\python311\\lib\\site-packages (from spacy<4.0,>=3.0->spacytextblob) (65.5.0)\n",
      "Requirement already satisfied: packaging>=20.0 in c:\\users\\gabri\\appdata\\local\\programs\\python\\python311\\lib\\site-packages (from spacy<4.0,>=3.0->spacytextblob) (23.0)\n",
      "Requirement already satisfied: langcodes<4.0.0,>=3.2.0 in c:\\users\\gabri\\appdata\\local\\programs\\python\\python311\\lib\\site-packages (from spacy<4.0,>=3.0->spacytextblob) (3.3.0)\n",
      "Requirement already satisfied: nltk>=3.1 in c:\\users\\gabri\\appdata\\local\\programs\\python\\python311\\lib\\site-packages (from textblob<0.16.0,>=0.15.3->spacytextblob) (3.8.1)\n",
      "Requirement already satisfied: click in c:\\users\\gabri\\appdata\\local\\programs\\python\\python311\\lib\\site-packages (from nltk>=3.1->textblob<0.16.0,>=0.15.3->spacytextblob) (8.1.3)\n",
      "Requirement already satisfied: joblib in c:\\users\\gabri\\appdata\\local\\programs\\python\\python311\\lib\\site-packages (from nltk>=3.1->textblob<0.16.0,>=0.15.3->spacytextblob) (1.2.0)\n",
      "Requirement already satisfied: regex>=2021.8.3 in c:\\users\\gabri\\appdata\\local\\programs\\python\\python311\\lib\\site-packages (from nltk>=3.1->textblob<0.16.0,>=0.15.3->spacytextblob) (2022.10.31)\n",
      "Requirement already satisfied: typing-extensions>=4.2.0 in c:\\users\\gabri\\appdata\\local\\programs\\python\\python311\\lib\\site-packages (from pydantic!=1.8,!=1.8.1,<1.11.0,>=1.7.4->spacy<4.0,>=3.0->spacytextblob) (4.5.0)\n",
      "Requirement already satisfied: charset-normalizer<4,>=2 in c:\\users\\gabri\\appdata\\local\\programs\\python\\python311\\lib\\site-packages (from requests<3.0.0,>=2.13.0->spacy<4.0,>=3.0->spacytextblob) (3.0.1)\n",
      "Requirement already satisfied: idna<4,>=2.5 in c:\\users\\gabri\\appdata\\local\\programs\\python\\python311\\lib\\site-packages (from requests<3.0.0,>=2.13.0->spacy<4.0,>=3.0->spacytextblob) (3.4)\n",
      "Requirement already satisfied: urllib3<1.27,>=1.21.1 in c:\\users\\gabri\\appdata\\local\\programs\\python\\python311\\lib\\site-packages (from requests<3.0.0,>=2.13.0->spacy<4.0,>=3.0->spacytextblob) (1.26.14)\n",
      "Requirement already satisfied: certifi>=2017.4.17 in c:\\users\\gabri\\appdata\\local\\programs\\python\\python311\\lib\\site-packages (from requests<3.0.0,>=2.13.0->spacy<4.0,>=3.0->spacytextblob) (2022.12.7)\n",
      "Requirement already satisfied: blis<0.8.0,>=0.7.8 in c:\\users\\gabri\\appdata\\local\\programs\\python\\python311\\lib\\site-packages (from thinc<8.2.0,>=8.1.8->spacy<4.0,>=3.0->spacytextblob) (0.7.9)\n",
      "Requirement already satisfied: confection<1.0.0,>=0.0.1 in c:\\users\\gabri\\appdata\\local\\programs\\python\\python311\\lib\\site-packages (from thinc<8.2.0,>=8.1.8->spacy<4.0,>=3.0->spacytextblob) (0.0.4)\n",
      "Requirement already satisfied: colorama in c:\\users\\gabri\\appdata\\local\\programs\\python\\python311\\lib\\site-packages (from tqdm<5.0.0,>=4.38.0->spacy<4.0,>=3.0->spacytextblob) (0.4.6)\n",
      "Requirement already satisfied: MarkupSafe>=2.0 in c:\\users\\gabri\\appdata\\local\\programs\\python\\python311\\lib\\site-packages (from jinja2->spacy<4.0,>=3.0->spacytextblob) (2.1.2)\n"
     ]
    },
    {
     "name": "stderr",
     "output_type": "stream",
     "text": [
      "\n",
      "[notice] A new release of pip available: 22.3.1 -> 23.2.1\n",
      "[notice] To update, run: python.exe -m pip install --upgrade pip\n"
     ]
    },
    {
     "name": "stdout",
     "output_type": "stream",
     "text": [
      "Collecting en-core-web-sm==3.5.0\n",
      "  Downloading https://github.com/explosion/spacy-models/releases/download/en_core_web_sm-3.5.0/en_core_web_sm-3.5.0-py3-none-any.whl (12.8 MB)\n",
      "     --------------------------------------- 12.8/12.8 MB 10.1 MB/s eta 0:00:00\n",
      "Requirement already satisfied: spacy<3.6.0,>=3.5.0 in c:\\users\\gabri\\appdata\\local\\programs\\python\\python311\\lib\\site-packages (from en-core-web-sm==3.5.0) (3.5.1)\n",
      "Requirement already satisfied: spacy-legacy<3.1.0,>=3.0.11 in c:\\users\\gabri\\appdata\\local\\programs\\python\\python311\\lib\\site-packages (from spacy<3.6.0,>=3.5.0->en-core-web-sm==3.5.0) (3.0.12)\n",
      "Requirement already satisfied: spacy-loggers<2.0.0,>=1.0.0 in c:\\users\\gabri\\appdata\\local\\programs\\python\\python311\\lib\\site-packages (from spacy<3.6.0,>=3.5.0->en-core-web-sm==3.5.0) (1.0.4)\n",
      "Requirement already satisfied: murmurhash<1.1.0,>=0.28.0 in c:\\users\\gabri\\appdata\\local\\programs\\python\\python311\\lib\\site-packages (from spacy<3.6.0,>=3.5.0->en-core-web-sm==3.5.0) (1.0.9)\n",
      "Requirement already satisfied: cymem<2.1.0,>=2.0.2 in c:\\users\\gabri\\appdata\\local\\programs\\python\\python311\\lib\\site-packages (from spacy<3.6.0,>=3.5.0->en-core-web-sm==3.5.0) (2.0.7)\n",
      "Requirement already satisfied: preshed<3.1.0,>=3.0.2 in c:\\users\\gabri\\appdata\\local\\programs\\python\\python311\\lib\\site-packages (from spacy<3.6.0,>=3.5.0->en-core-web-sm==3.5.0) (3.0.8)\n",
      "Requirement already satisfied: thinc<8.2.0,>=8.1.8 in c:\\users\\gabri\\appdata\\local\\programs\\python\\python311\\lib\\site-packages (from spacy<3.6.0,>=3.5.0->en-core-web-sm==3.5.0) (8.1.9)\n",
      "Requirement already satisfied: wasabi<1.2.0,>=0.9.1 in c:\\users\\gabri\\appdata\\local\\programs\\python\\python311\\lib\\site-packages (from spacy<3.6.0,>=3.5.0->en-core-web-sm==3.5.0) (1.1.1)\n",
      "Requirement already satisfied: srsly<3.0.0,>=2.4.3 in c:\\users\\gabri\\appdata\\local\\programs\\python\\python311\\lib\\site-packages (from spacy<3.6.0,>=3.5.0->en-core-web-sm==3.5.0) (2.4.6)\n",
      "Requirement already satisfied: catalogue<2.1.0,>=2.0.6 in c:\\users\\gabri\\appdata\\local\\programs\\python\\python311\\lib\\site-packages (from spacy<3.6.0,>=3.5.0->en-core-web-sm==3.5.0) (2.0.8)\n",
      "Requirement already satisfied: typer<0.8.0,>=0.3.0 in c:\\users\\gabri\\appdata\\local\\programs\\python\\python311\\lib\\site-packages (from spacy<3.6.0,>=3.5.0->en-core-web-sm==3.5.0) (0.7.0)\n",
      "Requirement already satisfied: pathy>=0.10.0 in c:\\users\\gabri\\appdata\\local\\programs\\python\\python311\\lib\\site-packages (from spacy<3.6.0,>=3.5.0->en-core-web-sm==3.5.0) (0.10.1)\n",
      "Requirement already satisfied: smart-open<7.0.0,>=5.2.1 in c:\\users\\gabri\\appdata\\local\\programs\\python\\python311\\lib\\site-packages (from spacy<3.6.0,>=3.5.0->en-core-web-sm==3.5.0) (6.3.0)\n",
      "Requirement already satisfied: tqdm<5.0.0,>=4.38.0 in c:\\users\\gabri\\appdata\\local\\programs\\python\\python311\\lib\\site-packages (from spacy<3.6.0,>=3.5.0->en-core-web-sm==3.5.0) (4.64.1)\n",
      "Requirement already satisfied: numpy>=1.15.0 in c:\\users\\gabri\\appdata\\local\\programs\\python\\python311\\lib\\site-packages (from spacy<3.6.0,>=3.5.0->en-core-web-sm==3.5.0) (1.24.2)\n",
      "Requirement already satisfied: requests<3.0.0,>=2.13.0 in c:\\users\\gabri\\appdata\\local\\programs\\python\\python311\\lib\\site-packages (from spacy<3.6.0,>=3.5.0->en-core-web-sm==3.5.0) (2.28.2)\n",
      "Requirement already satisfied: pydantic!=1.8,!=1.8.1,<1.11.0,>=1.7.4 in c:\\users\\gabri\\appdata\\local\\programs\\python\\python311\\lib\\site-packages (from spacy<3.6.0,>=3.5.0->en-core-web-sm==3.5.0) (1.10.5)\n",
      "Requirement already satisfied: jinja2 in c:\\users\\gabri\\appdata\\local\\programs\\python\\python311\\lib\\site-packages (from spacy<3.6.0,>=3.5.0->en-core-web-sm==3.5.0) (3.1.2)\n",
      "Requirement already satisfied: setuptools in c:\\users\\gabri\\appdata\\local\\programs\\python\\python311\\lib\\site-packages (from spacy<3.6.0,>=3.5.0->en-core-web-sm==3.5.0) (65.5.0)\n",
      "Requirement already satisfied: packaging>=20.0 in c:\\users\\gabri\\appdata\\local\\programs\\python\\python311\\lib\\site-packages (from spacy<3.6.0,>=3.5.0->en-core-web-sm==3.5.0) (23.0)\n",
      "Requirement already satisfied: langcodes<4.0.0,>=3.2.0 in c:\\users\\gabri\\appdata\\local\\programs\\python\\python311\\lib\\site-packages (from spacy<3.6.0,>=3.5.0->en-core-web-sm==3.5.0) (3.3.0)\n",
      "Requirement already satisfied: typing-extensions>=4.2.0 in c:\\users\\gabri\\appdata\\local\\programs\\python\\python311\\lib\\site-packages (from pydantic!=1.8,!=1.8.1,<1.11.0,>=1.7.4->spacy<3.6.0,>=3.5.0->en-core-web-sm==3.5.0) (4.5.0)\n",
      "Requirement already satisfied: charset-normalizer<4,>=2 in c:\\users\\gabri\\appdata\\local\\programs\\python\\python311\\lib\\site-packages (from requests<3.0.0,>=2.13.0->spacy<3.6.0,>=3.5.0->en-core-web-sm==3.5.0) (3.0.1)\n",
      "Requirement already satisfied: idna<4,>=2.5 in c:\\users\\gabri\\appdata\\local\\programs\\python\\python311\\lib\\site-packages (from requests<3.0.0,>=2.13.0->spacy<3.6.0,>=3.5.0->en-core-web-sm==3.5.0) (3.4)\n",
      "Requirement already satisfied: urllib3<1.27,>=1.21.1 in c:\\users\\gabri\\appdata\\local\\programs\\python\\python311\\lib\\site-packages (from requests<3.0.0,>=2.13.0->spacy<3.6.0,>=3.5.0->en-core-web-sm==3.5.0) (1.26.14)\n",
      "Requirement already satisfied: certifi>=2017.4.17 in c:\\users\\gabri\\appdata\\local\\programs\\python\\python311\\lib\\site-packages (from requests<3.0.0,>=2.13.0->spacy<3.6.0,>=3.5.0->en-core-web-sm==3.5.0) (2022.12.7)\n",
      "Requirement already satisfied: blis<0.8.0,>=0.7.8 in c:\\users\\gabri\\appdata\\local\\programs\\python\\python311\\lib\\site-packages (from thinc<8.2.0,>=8.1.8->spacy<3.6.0,>=3.5.0->en-core-web-sm==3.5.0) (0.7.9)\n",
      "Requirement already satisfied: confection<1.0.0,>=0.0.1 in c:\\users\\gabri\\appdata\\local\\programs\\python\\python311\\lib\\site-packages (from thinc<8.2.0,>=8.1.8->spacy<3.6.0,>=3.5.0->en-core-web-sm==3.5.0) (0.0.4)\n",
      "Requirement already satisfied: colorama in c:\\users\\gabri\\appdata\\local\\programs\\python\\python311\\lib\\site-packages (from tqdm<5.0.0,>=4.38.0->spacy<3.6.0,>=3.5.0->en-core-web-sm==3.5.0) (0.4.6)\n",
      "Requirement already satisfied: click<9.0.0,>=7.1.1 in c:\\users\\gabri\\appdata\\local\\programs\\python\\python311\\lib\\site-packages (from typer<0.8.0,>=0.3.0->spacy<3.6.0,>=3.5.0->en-core-web-sm==3.5.0) (8.1.3)\n",
      "Requirement already satisfied: MarkupSafe>=2.0 in c:\\users\\gabri\\appdata\\local\\programs\\python\\python311\\lib\\site-packages (from jinja2->spacy<3.6.0,>=3.5.0->en-core-web-sm==3.5.0) (2.1.2)\n",
      "\u001b[38;5;2m[+] Download and installation successful\u001b[0m\n",
      "You can now load the package via spacy.load('en_core_web_sm')\n"
     ]
    },
    {
     "name": "stderr",
     "output_type": "stream",
     "text": [
      "\n",
      "[notice] A new release of pip available: 22.3.1 -> 23.2.1\n",
      "[notice] To update, run: python.exe -m pip install --upgrade pip\n"
     ]
    },
    {
     "name": "stdout",
     "output_type": "stream",
     "text": [
      "Requirement already satisfied: newspaper3k in c:\\users\\gabri\\appdata\\local\\programs\\python\\python311\\lib\\site-packages (0.2.8)"
     ]
    },
    {
     "name": "stderr",
     "output_type": "stream",
     "text": [
      "\n",
      "[notice] A new release of pip available: 22.3.1 -> 23.2.1\n",
      "[notice] To update, run: python.exe -m pip install --upgrade pip\n"
     ]
    },
    {
     "name": "stdout",
     "output_type": "stream",
     "text": [
      "\n",
      "Requirement already satisfied: beautifulsoup4>=4.4.1 in c:\\users\\gabri\\appdata\\local\\programs\\python\\python311\\lib\\site-packages (from newspaper3k) (4.11.2)\n",
      "Requirement already satisfied: Pillow>=3.3.0 in c:\\users\\gabri\\appdata\\local\\programs\\python\\python311\\lib\\site-packages (from newspaper3k) (9.5.0)\n",
      "Requirement already satisfied: PyYAML>=3.11 in c:\\users\\gabri\\appdata\\local\\programs\\python\\python311\\lib\\site-packages (from newspaper3k) (6.0)\n",
      "Requirement already satisfied: cssselect>=0.9.2 in c:\\users\\gabri\\appdata\\local\\programs\\python\\python311\\lib\\site-packages (from newspaper3k) (1.2.0)\n",
      "Requirement already satisfied: lxml>=3.6.0 in c:\\users\\gabri\\appdata\\local\\programs\\python\\python311\\lib\\site-packages (from newspaper3k) (4.9.2)\n",
      "Requirement already satisfied: nltk>=3.2.1 in c:\\users\\gabri\\appdata\\local\\programs\\python\\python311\\lib\\site-packages (from newspaper3k) (3.8.1)\n",
      "Requirement already satisfied: requests>=2.10.0 in c:\\users\\gabri\\appdata\\local\\programs\\python\\python311\\lib\\site-packages (from newspaper3k) (2.28.2)\n",
      "Requirement already satisfied: feedparser>=5.2.1 in c:\\users\\gabri\\appdata\\local\\programs\\python\\python311\\lib\\site-packages (from newspaper3k) (6.0.10)\n",
      "Requirement already satisfied: tldextract>=2.0.1 in c:\\users\\gabri\\appdata\\local\\programs\\python\\python311\\lib\\site-packages (from newspaper3k) (3.4.0)\n",
      "Requirement already satisfied: feedfinder2>=0.0.4 in c:\\users\\gabri\\appdata\\local\\programs\\python\\python311\\lib\\site-packages (from newspaper3k) (0.0.4)\n",
      "Requirement already satisfied: jieba3k>=0.35.1 in c:\\users\\gabri\\appdata\\local\\programs\\python\\python311\\lib\\site-packages (from newspaper3k) (0.35.1)\n",
      "Requirement already satisfied: python-dateutil>=2.5.3 in c:\\users\\gabri\\appdata\\local\\programs\\python\\python311\\lib\\site-packages (from newspaper3k) (2.8.2)\n",
      "Requirement already satisfied: tinysegmenter==0.3 in c:\\users\\gabri\\appdata\\local\\programs\\python\\python311\\lib\\site-packages (from newspaper3k) (0.3)\n",
      "Requirement already satisfied: soupsieve>1.2 in c:\\users\\gabri\\appdata\\local\\programs\\python\\python311\\lib\\site-packages (from beautifulsoup4>=4.4.1->newspaper3k) (2.4)\n",
      "Requirement already satisfied: six in c:\\users\\gabri\\appdata\\local\\programs\\python\\python311\\lib\\site-packages (from feedfinder2>=0.0.4->newspaper3k) (1.16.0)\n",
      "Requirement already satisfied: sgmllib3k in c:\\users\\gabri\\appdata\\local\\programs\\python\\python311\\lib\\site-packages (from feedparser>=5.2.1->newspaper3k) (1.0.0)\n",
      "Requirement already satisfied: click in c:\\users\\gabri\\appdata\\local\\programs\\python\\python311\\lib\\site-packages (from nltk>=3.2.1->newspaper3k) (8.1.3)\n",
      "Requirement already satisfied: joblib in c:\\users\\gabri\\appdata\\local\\programs\\python\\python311\\lib\\site-packages (from nltk>=3.2.1->newspaper3k) (1.2.0)\n",
      "Requirement already satisfied: regex>=2021.8.3 in c:\\users\\gabri\\appdata\\local\\programs\\python\\python311\\lib\\site-packages (from nltk>=3.2.1->newspaper3k) (2022.10.31)\n",
      "Requirement already satisfied: tqdm in c:\\users\\gabri\\appdata\\local\\programs\\python\\python311\\lib\\site-packages (from nltk>=3.2.1->newspaper3k) (4.64.1)\n",
      "Requirement already satisfied: charset-normalizer<4,>=2 in c:\\users\\gabri\\appdata\\local\\programs\\python\\python311\\lib\\site-packages (from requests>=2.10.0->newspaper3k) (3.0.1)\n",
      "Requirement already satisfied: idna<4,>=2.5 in c:\\users\\gabri\\appdata\\local\\programs\\python\\python311\\lib\\site-packages (from requests>=2.10.0->newspaper3k) (3.4)\n",
      "Requirement already satisfied: urllib3<1.27,>=1.21.1 in c:\\users\\gabri\\appdata\\local\\programs\\python\\python311\\lib\\site-packages (from requests>=2.10.0->newspaper3k) (1.26.14)\n",
      "Requirement already satisfied: certifi>=2017.4.17 in c:\\users\\gabri\\appdata\\local\\programs\\python\\python311\\lib\\site-packages (from requests>=2.10.0->newspaper3k) (2022.12.7)\n",
      "Requirement already satisfied: requests-file>=1.4 in c:\\users\\gabri\\appdata\\local\\programs\\python\\python311\\lib\\site-packages (from tldextract>=2.0.1->newspaper3k) (1.5.1)\n",
      "Requirement already satisfied: filelock>=3.0.8 in c:\\users\\gabri\\appdata\\local\\programs\\python\\python311\\lib\\site-packages (from tldextract>=2.0.1->newspaper3k) (3.12.0)\n",
      "Requirement already satisfied: colorama in c:\\users\\gabri\\appdata\\local\\programs\\python\\python311\\lib\\site-packages (from click->nltk>=3.2.1->newspaper3k) (0.4.6)\n",
      "Requirement already satisfied: plotly in c:\\users\\gabri\\appdata\\local\\programs\\python\\python311\\lib\\site-packages (5.16.1)\n",
      "Requirement already satisfied: tenacity>=6.2.0 in c:\\users\\gabri\\appdata\\local\\programs\\python\\python311\\lib\\site-packages (from plotly) (8.2.3)\n",
      "Requirement already satisfied: packaging in c:\\users\\gabri\\appdata\\local\\programs\\python\\python311\\lib\\site-packages (from plotly) (23.0)\n"
     ]
    },
    {
     "name": "stderr",
     "output_type": "stream",
     "text": [
      "\n",
      "[notice] A new release of pip available: 22.3.1 -> 23.2.1\n",
      "[notice] To update, run: python.exe -m pip install --upgrade pip\n"
     ]
    },
    {
     "name": "stdout",
     "output_type": "stream",
     "text": [
      "Requirement already satisfied: bokeh in c:\\users\\gabri\\appdata\\local\\programs\\python\\python311\\lib\\site-packages (3.2.2)\n",
      "Requirement already satisfied: Jinja2>=2.9 in c:\\users\\gabri\\appdata\\local\\programs\\python\\python311\\lib\\site-packages (from bokeh) (3.1.2)\n",
      "Requirement already satisfied: contourpy>=1 in c:\\users\\gabri\\appdata\\local\\programs\\python\\python311\\lib\\site-packages (from bokeh) (1.0.7)\n",
      "Requirement already satisfied: numpy>=1.16 in c:\\users\\gabri\\appdata\\local\\programs\\python\\python311\\lib\\site-packages (from bokeh) (1.24.2)\n",
      "Requirement already satisfied: packaging>=16.8 in c:\\users\\gabri\\appdata\\local\\programs\\python\\python311\\lib\\site-packages (from bokeh) (23.0)\n",
      "Requirement already satisfied: pandas>=1.2 in c:\\users\\gabri\\appdata\\local\\programs\\python\\python311\\lib\\site-packages (from bokeh) (2.0.0)\n",
      "Requirement already satisfied: pillow>=7.1.0 in c:\\users\\gabri\\appdata\\local\\programs\\python\\python311\\lib\\site-packages (from bokeh) (9.5.0)\n",
      "Requirement already satisfied: PyYAML>=3.10 in c:\\users\\gabri\\appdata\\local\\programs\\python\\python311\\lib\\site-packages (from bokeh) (6.0)\n",
      "Requirement already satisfied: tornado>=5.1 in c:\\users\\gabri\\appdata\\local\\programs\\python\\python311\\lib\\site-packages (from bokeh) (6.2)\n",
      "Requirement already satisfied: xyzservices>=2021.09.1 in c:\\users\\gabri\\appdata\\local\\programs\\python\\python311\\lib\\site-packages (from bokeh) (2023.7.0)\n",
      "Requirement already satisfied: MarkupSafe>=2.0 in c:\\users\\gabri\\appdata\\local\\programs\\python\\python311\\lib\\site-packages (from Jinja2>=2.9->bokeh) (2.1.2)\n",
      "Requirement already satisfied: python-dateutil>=2.8.2 in c:\\users\\gabri\\appdata\\local\\programs\\python\\python311\\lib\\site-packages (from pandas>=1.2->bokeh) (2.8.2)\n",
      "Requirement already satisfied: pytz>=2020.1 in c:\\users\\gabri\\appdata\\local\\programs\\python\\python311\\lib\\site-packages (from pandas>=1.2->bokeh) (2022.7.1)\n",
      "Requirement already satisfied: tzdata>=2022.1 in c:\\users\\gabri\\appdata\\local\\programs\\python\\python311\\lib\\site-packages (from pandas>=1.2->bokeh) (2023.3)\n",
      "Requirement already satisfied: six>=1.5 in c:\\users\\gabri\\appdata\\local\\programs\\python\\python311\\lib\\site-packages (from python-dateutil>=2.8.2->pandas>=1.2->bokeh) (1.16.0)\n"
     ]
    },
    {
     "name": "stderr",
     "output_type": "stream",
     "text": [
      "\n",
      "[notice] A new release of pip available: 22.3.1 -> 23.2.1\n",
      "[notice] To update, run: python.exe -m pip install --upgrade pip\n"
     ]
    }
   ],
   "source": [
    "!pip install pandas\n",
    "!pip install spacy\n",
    "!pip install spacytextblob\n",
    "!python -m spacy download en_core_web_sm\n",
    "\n",
    "!pip install newspaper3k\n",
    "\n",
    "!pip install plotly\n",
    "\n",
    "!pip install sklearn"
   ]
  },
  {
   "cell_type": "markdown",
   "id": "c92a2232",
   "metadata": {},
   "source": [
    "Spacy: Used for NLP and has the machine learning module\n",
    "    \n",
    "SpacyTextBlob: Used for the sentiment analysis\n",
    "    \n",
    "Pandas: Stores the data as a dataframe table\n",
    "    \n",
    "NewsPaper: Used for web scraping\n",
    "    \n",
    "Requests: Makes the connection to the URL"
   ]
  },
  {
   "cell_type": "code",
   "execution_count": 143,
   "id": "97171282",
   "metadata": {},
   "outputs": [],
   "source": [
    "from newspaper import Article\n",
    "from random import shuffle\n",
    "import re\n",
    "import matplotlib.pyplot as plt \n",
    "from collections import Counter\n",
    "\n",
    "import numpy as np\n",
    "import json\n",
    "import requests\n",
    "import glob\n",
    "\n",
    "#gensim\n",
    "import gensim\n",
    "import gensim.corpora as corpora\n",
    "from gensim.models.coherencemodel import CoherenceModel\n",
    "from gensim.utils import simple_preprocess\n",
    "from gensim.corpora import Dictionary  # Import the Dictionary class from Gensim\n",
    "\n",
    "#spacy\n",
    "import spacy\n",
    "from nltk.corpus import stopwords\n",
    "\n",
    "#vis\n",
    "import pyLDAvis\n",
    "import pyLDAvis.gensim\n",
    "import plotly.express as px\n",
    "import matplotlib.colors as mcolors\n",
    "import sklearn\n",
    "from sklearn.manifold import TSNE\n",
    "\n",
    "\n",
    "import warnings\n",
    "warnings.filterwarnings(\"ignore\", category=DeprecationWarning)"
   ]
  },
  {
   "cell_type": "code",
   "execution_count": 144,
   "id": "fae0f7c5",
   "metadata": {},
   "outputs": [],
   "source": [
    "#import spacy\n",
    "from spacytextblob.spacytextblob import SpacyTextBlob\n",
    "import pandas as pd\n",
    "import requests\n",
    "#from newspaper import Article\n",
    "#import numpy as np"
   ]
  },
  {
   "cell_type": "code",
   "execution_count": 145,
   "id": "89933f69",
   "metadata": {},
   "outputs": [],
   "source": [
    "%run SentimentAnalysis.ipynb\n",
    "%run WebScraper.ipynb\n",
    "%run PipelineHelpers.ipynb\n",
    "%run TopicModeling.ipynb\n",
    "%run DataVisualization.ipynb"
   ]
  },
  {
   "cell_type": "markdown",
   "id": "67afdeff",
   "metadata": {},
   "source": [
    "IMPORTANT: If you want to try re-runing after making some code changes or want to \n",
    "run a new .csv file through the code block below and the one a couple down with the\n",
    " rerun note will need to be ran again for the analysis to work correctly"
   ]
  },
  {
   "cell_type": "code",
   "execution_count": 146,
   "id": "4d78c510",
   "metadata": {},
   "outputs": [
    {
     "data": {
      "text/plain": [
       "<spacytextblob.spacytextblob.SpacyTextBlob at 0x2acc3917610>"
      ]
     },
     "execution_count": 146,
     "metadata": {},
     "output_type": "execute_result"
    }
   ],
   "source": [
    "# Loading our two pipelines\n",
    "nlp = spacy.load('en_core_web_sm')\n",
    "nlp.add_pipe('spacytextblob')"
   ]
  },
  {
   "cell_type": "markdown",
   "id": "b787c3f5",
   "metadata": {},
   "source": [
    "IMPORTANT: Insert the .csv file you want to be read below."
   ]
  },
  {
   "cell_type": "code",
   "execution_count": 147,
   "id": "4e23034f",
   "metadata": {},
   "outputs": [],
   "source": [
    "csvFile = \"urls.csv\"\n",
    "wordCountFilter = 150\n",
    "#social_starts_with = [\"https://www.youtube.com\", \"https://youtu.be\", \"https://www.facebook.com\", \n",
    "#                     \"https://twitter.com\", \"https://gettr.com/\"]\n"
   ]
  },
  {
   "cell_type": "code",
   "execution_count": 148,
   "id": "51cde877",
   "metadata": {},
   "outputs": [],
   "source": [
    "# rerun\n",
    "# Using panda to load in our .csv file\n",
    "df = pd.read_csv(csvFile) # File we are checking\n",
    "urls = df[\"Address\"].tolist() # Column name we are checking\n",
    "all_text_gathered = []\n",
    "all_articles = ''\n",
    "scentence_list = []\n"
   ]
  },
  {
   "cell_type": "markdown",
   "id": "a9fabe01",
   "metadata": {},
   "source": [
    "# This is the pipeline. All code is called and ran through here."
   ]
  },
  {
   "cell_type": "code",
   "execution_count": 149,
   "id": "7ae169b7",
   "metadata": {
    "scrolled": true
   },
   "outputs": [
    {
     "name": "stdout",
     "output_type": "stream",
     "text": [
      "0\n",
      "word count  236\n",
      "repeated phrases 6\n",
      "https://www.reuters.com/world/us/us-army-discharge-soldiers-who-refuse-covid-19-vaccine-2022-02-02/\n",
      "10\n",
      "Error in scrapeData\n",
      "https://nationalpost.com/news/national/defence-watch/military-leaders-saw-pandemic-as-unique-opportunity-to-test-propaganda-techniques-on-canadians-forces-report-says/wcm/22733c97-39f0-4ba4-8a26-478af5e215f3?utm_term=Autofeed&utm_medium=Social&utm_source=Twitter#Echobox=1632748542\n",
      "word count  1\n",
      "repeated phrases 0\n",
      "https://t.me/NewsmaxTV/6142\n",
      "word count  102\n",
      "repeated phrases 3\n",
      "https://www.ncbi.nlm.nih.gov/pmc/articles/PMC4368609/\n",
      "word count  1\n",
      "repeated phrases 0\n",
      "https://tass.ru/armiya-i-opk/14598087\n",
      "20\n",
      "Error in scrapeData\n",
      "https://academic.oup.com/epirev/article/28/1/3/567796\n",
      "word count  31\n",
      "repeated phrases 1\n",
      "https://www.projectveritas.com/video/military-documents-about-gain-of-function-contradict-fauci-testimony-under/\n",
      "word count  14\n",
      "repeated phrases 1\n",
      "https://rumble.com/vy0brv-1.5-hours-of-vaccine-adverse-reactions.html\n",
      "Error in scrapeData\n",
      "https://thehill.com/homenews/house/3683637-freedom-caucus-wants-defense-bill-delayed-if-vaccine-mandate-not-repealed/\n",
      "30\n",
      "Error in scrapeData\n",
      "https://www.wgauradio.com/news/politics/4-air-force-cadets/LSAZFITUAJOAJF5V2CK6CRKQ3Y/?taid=6280428e8664e80001977b4c&utm_campaign=trueanthem&utm_medium=trueanthem&utm_source=twitter\n"
     ]
    },
    {
     "data": {
      "text/html": [
       "<div>\n",
       "<style scoped>\n",
       "    .dataframe tbody tr th:only-of-type {\n",
       "        vertical-align: middle;\n",
       "    }\n",
       "\n",
       "    .dataframe tbody tr th {\n",
       "        vertical-align: top;\n",
       "    }\n",
       "\n",
       "    .dataframe thead th {\n",
       "        text-align: right;\n",
       "    }\n",
       "</style>\n",
       "<table border=\"1\" class=\"dataframe\">\n",
       "  <thead>\n",
       "    <tr style=\"text-align: right;\">\n",
       "      <th></th>\n",
       "      <th>URL</th>\n",
       "      <th>Sentiment Score</th>\n",
       "      <th>Sentiment Label</th>\n",
       "      <th>Subjectivity Score</th>\n",
       "      <th>Positive Words</th>\n",
       "      <th>Negative Words</th>\n",
       "      <th>Text</th>\n",
       "    </tr>\n",
       "  </thead>\n",
       "  <tbody>\n",
       "    <tr>\n",
       "      <th>0</th>\n",
       "      <td>https://www.thegatewaypundit.com/2022/05/world...</td>\n",
       "      <td>0.05</td>\n",
       "      <td>Neutral Positive</td>\n",
       "      <td>0.28</td>\n",
       "      <td>near, effectively, confident, major, new, more...</td>\n",
       "      <td>needless, single, past, absolutely, other</td>\n",
       "      <td>this week, global elitists and world leaders f...</td>\n",
       "    </tr>\n",
       "    <tr>\n",
       "      <th>1</th>\n",
       "      <td>https://gettr.com/post/ptt4ta7c84</td>\n",
       "      <td>0.00</td>\n",
       "      <td>PARERROR: SocialError</td>\n",
       "      <td>0.00</td>\n",
       "      <td></td>\n",
       "      <td></td>\n",
       "      <td>PARERROR: SocialError</td>\n",
       "    </tr>\n",
       "    <tr>\n",
       "      <th>2</th>\n",
       "      <td>https://komonews.com/news/coronavirus/if-covid...</td>\n",
       "      <td>0.06</td>\n",
       "      <td>Neutral Positive</td>\n",
       "      <td>0.36</td>\n",
       "      <td>social, largely, compelling, more, first, own,...</td>\n",
       "      <td>excuse, unable, active, firm, failed, absolute...</td>\n",
       "      <td>president joe biden recently declared but unva...</td>\n",
       "    </tr>\n",
       "    <tr>\n",
       "      <th>3</th>\n",
       "      <td>https://www.lewrockwell.com/2018/11/no_author/...</td>\n",
       "      <td>0.10</td>\n",
       "      <td>Neutral Positive</td>\n",
       "      <td>0.41</td>\n",
       "      <td>clearly, effectively, effective, far, historic...</td>\n",
       "      <td>few, unknown, long, hard, less, badly, past, w...</td>\n",
       "      <td>the “spanish flu” killed an estimated 50-100 m...</td>\n",
       "    </tr>\n",
       "    <tr>\n",
       "      <th>4</th>\n",
       "      <td>https://nation.com.pk/08-Apr-2021/russia-offer...</td>\n",
       "      <td>0.07</td>\n",
       "      <td>Neutral Positive</td>\n",
       "      <td>0.28</td>\n",
       "      <td>early, greatly, natural, special, economic, im...</td>\n",
       "      <td>foreign, military, actively, mainly</td>\n",
       "      <td>islamabad - russia on wednesday assured pakist...</td>\n",
       "    </tr>\n",
       "    <tr>\n",
       "      <th>5</th>\n",
       "      <td>https://barrie.ctvnews.ca/cfb-borden-based-mil...</td>\n",
       "      <td>-0.02</td>\n",
       "      <td>Neutral Negative</td>\n",
       "      <td>0.38</td>\n",
       "      <td>not, fine, willingly, first, unique, good, full</td>\n",
       "      <td>very, wrong, guilty, base, sorry, other, milit...</td>\n",
       "      <td>a canadian armed forces officer who urged othe...</td>\n",
       "    </tr>\n",
       "    <tr>\n",
       "      <th>6</th>\n",
       "      <td>https://www.reuters.com/world/us/us-army-disch...</td>\n",
       "      <td>0.00</td>\n",
       "      <td>PARERROR: WebBlockerError</td>\n",
       "      <td>0.00</td>\n",
       "      <td></td>\n",
       "      <td></td>\n",
       "      <td>PARERROR: WebBlockerError</td>\n",
       "    </tr>\n",
       "    <tr>\n",
       "      <th>7</th>\n",
       "      <td>https://www.dailysabah.com/world/europe/sweden...</td>\n",
       "      <td>0.03</td>\n",
       "      <td>Neutral Negative</td>\n",
       "      <td>0.30</td>\n",
       "      <td>new, light, first, direct, directly, kind</td>\n",
       "      <td>active, long, green, previously, foreign, mili...</td>\n",
       "      <td>sweden will break its doctrine of not sending ...</td>\n",
       "    </tr>\n",
       "    <tr>\n",
       "      <th>8</th>\n",
       "      <td>https://www.military.com/daily-news/2022/11/01...</td>\n",
       "      <td>0.07</td>\n",
       "      <td>Neutral Positive</td>\n",
       "      <td>0.46</td>\n",
       "      <td>near, developed, sincere, nearly, most, new, s...</td>\n",
       "      <td>active, firm, previous, limited, military, app...</td>\n",
       "      <td>the air force is allowing instructors who rema...</td>\n",
       "    </tr>\n",
       "    <tr>\n",
       "      <th>9</th>\n",
       "      <td>https://roundingtheearth.substack.com/p/defini...</td>\n",
       "      <td>0.09</td>\n",
       "      <td>Neutral Positive</td>\n",
       "      <td>0.41</td>\n",
       "      <td>modest, relevant, astounding, greatest, willin...</td>\n",
       "      <td>few, very, down, long, average, foreign, terri...</td>\n",
       "      <td>we need for members of congress and other amer...</td>\n",
       "    </tr>\n",
       "    <tr>\n",
       "      <th>10</th>\n",
       "      <td>https://nationalpost.com/news/national/defence...</td>\n",
       "      <td>0.00</td>\n",
       "      <td>PARERROR: ErrorCouldntParse</td>\n",
       "      <td>0.00</td>\n",
       "      <td></td>\n",
       "      <td></td>\n",
       "      <td>PARERROR: ErrorCouldntParse</td>\n",
       "    </tr>\n",
       "    <tr>\n",
       "      <th>11</th>\n",
       "      <td>https://childrenshealthdefense.org/defender/he...</td>\n",
       "      <td>0.10</td>\n",
       "      <td>Neutral Positive</td>\n",
       "      <td>0.40</td>\n",
       "      <td>very, perfect, willing, overwhelming, free, to...</td>\n",
       "      <td>down, unable, long, late, horrible, painful, m...</td>\n",
       "      <td>heather elkins, 45, couldn’t get a medical exe...</td>\n",
       "    </tr>\n",
       "    <tr>\n",
       "      <th>12</th>\n",
       "      <td>https://t.me/NewsmaxTV/6142</td>\n",
       "      <td>0.00</td>\n",
       "      <td>PARERROR: WebBlockerError</td>\n",
       "      <td>0.00</td>\n",
       "      <td></td>\n",
       "      <td></td>\n",
       "      <td>PARERROR: WebBlockerError</td>\n",
       "    </tr>\n",
       "    <tr>\n",
       "      <th>13</th>\n",
       "      <td>https://www.ncbi.nlm.nih.gov/pmc/articles/PMC4...</td>\n",
       "      <td>0.00</td>\n",
       "      <td>PARERROR: WebBlockerError</td>\n",
       "      <td>0.00</td>\n",
       "      <td></td>\n",
       "      <td></td>\n",
       "      <td>PARERROR: WebBlockerError</td>\n",
       "    </tr>\n",
       "    <tr>\n",
       "      <th>14</th>\n",
       "      <td>https://www.foxnews.com/us/pentagon-rushed-den...</td>\n",
       "      <td>0.00</td>\n",
       "      <td>Neutral Negative</td>\n",
       "      <td>0.42</td>\n",
       "      <td>quick, greater, general</td>\n",
       "      <td>average, single, less, partial, other, military</td>\n",
       "      <td>a pentagon report found the military was likel...</td>\n",
       "    </tr>\n",
       "    <tr>\n",
       "      <th>15</th>\n",
       "      <td>https://twitter.com/KathyConWom/status/1489859...</td>\n",
       "      <td>0.00</td>\n",
       "      <td>PARERROR: SocialError</td>\n",
       "      <td>0.00</td>\n",
       "      <td></td>\n",
       "      <td></td>\n",
       "      <td>PARERROR: SocialError</td>\n",
       "    </tr>\n",
       "    <tr>\n",
       "      <th>16</th>\n",
       "      <td>https://tass.ru/armiya-i-opk/14598087</td>\n",
       "      <td>0.00</td>\n",
       "      <td>PARERROR: WebBlockerError</td>\n",
       "      <td>0.00</td>\n",
       "      <td></td>\n",
       "      <td></td>\n",
       "      <td>PARERROR: WebBlockerError</td>\n",
       "    </tr>\n",
       "    <tr>\n",
       "      <th>17</th>\n",
       "      <td>https://www.youtube.com/watch?v=IKz9H9VCrgU</td>\n",
       "      <td>0.00</td>\n",
       "      <td>PARERROR: SocialError</td>\n",
       "      <td>0.00</td>\n",
       "      <td></td>\n",
       "      <td></td>\n",
       "      <td>PARERROR: SocialError</td>\n",
       "    </tr>\n",
       "    <tr>\n",
       "      <th>18</th>\n",
       "      <td>https://foxreno.com/news/coronavirus/us-marine...</td>\n",
       "      <td>0.04</td>\n",
       "      <td>Neutral</td>\n",
       "      <td>0.26</td>\n",
       "      <td>action, full, really</td>\n",
       "      <td>past</td>\n",
       "      <td>the us. marine corps is temporarily allowing v...</td>\n",
       "    </tr>\n",
       "    <tr>\n",
       "      <th>19</th>\n",
       "      <td>https://www.health.mil/Military-Health-Topics/...</td>\n",
       "      <td>0.05</td>\n",
       "      <td>Neutral Positive</td>\n",
       "      <td>0.23</td>\n",
       "      <td>appealing, particular, important, many, genera...</td>\n",
       "      <td>seriously, previous, center, other, military, not</td>\n",
       "      <td>vaccination programs are important to military...</td>\n",
       "    </tr>\n",
       "    <tr>\n",
       "      <th>20</th>\n",
       "      <td>https://academic.oup.com/epirev/article/28/1/3...</td>\n",
       "      <td>0.00</td>\n",
       "      <td>PARERROR: ErrorCouldntParse</td>\n",
       "      <td>0.00</td>\n",
       "      <td></td>\n",
       "      <td></td>\n",
       "      <td>PARERROR: ErrorCouldntParse</td>\n",
       "    </tr>\n",
       "    <tr>\n",
       "      <th>21</th>\n",
       "      <td>https://twitter.com/akheriaty/status/149004086...</td>\n",
       "      <td>0.00</td>\n",
       "      <td>PARERROR: SocialError</td>\n",
       "      <td>0.00</td>\n",
       "      <td></td>\n",
       "      <td></td>\n",
       "      <td>PARERROR: SocialError</td>\n",
       "    </tr>\n",
       "    <tr>\n",
       "      <th>22</th>\n",
       "      <td>https://www.projectveritas.com/video/military-...</td>\n",
       "      <td>0.00</td>\n",
       "      <td>PARERROR: WebBlockerError</td>\n",
       "      <td>0.00</td>\n",
       "      <td></td>\n",
       "      <td></td>\n",
       "      <td>PARERROR: WebBlockerError</td>\n",
       "    </tr>\n",
       "    <tr>\n",
       "      <th>23</th>\n",
       "      <td>https://abc7amarillo.com/news/nation-world/nav...</td>\n",
       "      <td>0.10</td>\n",
       "      <td>Neutral Positive</td>\n",
       "      <td>0.28</td>\n",
       "      <td>available, legal, able, successfully, strong</td>\n",
       "      <td>military</td>\n",
       "      <td>in a unanimous decision, a navy administrative...</td>\n",
       "    </tr>\n",
       "    <tr>\n",
       "      <th>24</th>\n",
       "      <td>https://rumble.com/vy0brv-1.5-hours-of-vaccine...</td>\n",
       "      <td>0.00</td>\n",
       "      <td>PARERROR: WebBlockerError</td>\n",
       "      <td>0.00</td>\n",
       "      <td></td>\n",
       "      <td></td>\n",
       "      <td>PARERROR: WebBlockerError</td>\n",
       "    </tr>\n",
       "    <tr>\n",
       "      <th>25</th>\n",
       "      <td>https://bit.ly/3L0oHZp</td>\n",
       "      <td>0.17</td>\n",
       "      <td>Positive</td>\n",
       "      <td>0.42</td>\n",
       "      <td>economic, new, welcome, available, able, free,...</td>\n",
       "      <td>military, mental</td>\n",
       "      <td>norfolk, va. (wavy) – 10 on your side has conf...</td>\n",
       "    </tr>\n",
       "    <tr>\n",
       "      <th>26</th>\n",
       "      <td>https://fox40.com/news/political-connection/ho...</td>\n",
       "      <td>0.01</td>\n",
       "      <td>Neutral Negative</td>\n",
       "      <td>0.40</td>\n",
       "      <td>very, nearly, offers, major, complete, quickly...</td>\n",
       "      <td>drag, late, other, expected, complicated, leas...</td>\n",
       "      <td>this is an archived article and the informatio...</td>\n",
       "    </tr>\n",
       "    <tr>\n",
       "      <th>27</th>\n",
       "      <td>https://www.washingtonpost.com/history/2020/04...</td>\n",
       "      <td>-0.01</td>\n",
       "      <td>Neutral Negative</td>\n",
       "      <td>0.42</td>\n",
       "      <td>okay, intense, famous, safe, elementary, most,...</td>\n",
       "      <td>few, wrong, down, complicated, little, deadly,...</td>\n",
       "      <td>share comment on this story comment\\non aug. 3...</td>\n",
       "    </tr>\n",
       "    <tr>\n",
       "      <th>28</th>\n",
       "      <td>https://technofog.substack.com/p/our-woke-mili...</td>\n",
       "      <td>0.05</td>\n",
       "      <td>Neutral Positive</td>\n",
       "      <td>0.35</td>\n",
       "      <td>celebrated, willing, free, top, success, surpr...</td>\n",
       "      <td>spent, approximately, past, less, wide, least,...</td>\n",
       "      <td>the military is waging a two-front war on its ...</td>\n",
       "    </tr>\n",
       "    <tr>\n",
       "      <th>29</th>\n",
       "      <td>https://thehill.com/homenews/house/3683637-fre...</td>\n",
       "      <td>0.00</td>\n",
       "      <td>PARERROR: ErrorCouldntParse</td>\n",
       "      <td>0.00</td>\n",
       "      <td></td>\n",
       "      <td></td>\n",
       "      <td>PARERROR: ErrorCouldntParse</td>\n",
       "    </tr>\n",
       "    <tr>\n",
       "      <th>30</th>\n",
       "      <td>https://www.wgauradio.com/news/politics/4-air-...</td>\n",
       "      <td>0.00</td>\n",
       "      <td>PARERROR: ErrorCouldntParse</td>\n",
       "      <td>0.00</td>\n",
       "      <td></td>\n",
       "      <td></td>\n",
       "      <td>PARERROR: ErrorCouldntParse</td>\n",
       "    </tr>\n",
       "  </tbody>\n",
       "</table>\n",
       "</div>"
      ],
      "text/plain": [
       "                                                  URL  Sentiment Score   \n",
       "0   https://www.thegatewaypundit.com/2022/05/world...             0.05  \\\n",
       "1                   https://gettr.com/post/ptt4ta7c84             0.00   \n",
       "2   https://komonews.com/news/coronavirus/if-covid...             0.06   \n",
       "3   https://www.lewrockwell.com/2018/11/no_author/...             0.10   \n",
       "4   https://nation.com.pk/08-Apr-2021/russia-offer...             0.07   \n",
       "5   https://barrie.ctvnews.ca/cfb-borden-based-mil...            -0.02   \n",
       "6   https://www.reuters.com/world/us/us-army-disch...             0.00   \n",
       "7   https://www.dailysabah.com/world/europe/sweden...             0.03   \n",
       "8   https://www.military.com/daily-news/2022/11/01...             0.07   \n",
       "9   https://roundingtheearth.substack.com/p/defini...             0.09   \n",
       "10  https://nationalpost.com/news/national/defence...             0.00   \n",
       "11  https://childrenshealthdefense.org/defender/he...             0.10   \n",
       "12                        https://t.me/NewsmaxTV/6142             0.00   \n",
       "13  https://www.ncbi.nlm.nih.gov/pmc/articles/PMC4...             0.00   \n",
       "14  https://www.foxnews.com/us/pentagon-rushed-den...             0.00   \n",
       "15  https://twitter.com/KathyConWom/status/1489859...             0.00   \n",
       "16              https://tass.ru/armiya-i-opk/14598087             0.00   \n",
       "17        https://www.youtube.com/watch?v=IKz9H9VCrgU             0.00   \n",
       "18  https://foxreno.com/news/coronavirus/us-marine...             0.04   \n",
       "19  https://www.health.mil/Military-Health-Topics/...             0.05   \n",
       "20  https://academic.oup.com/epirev/article/28/1/3...             0.00   \n",
       "21  https://twitter.com/akheriaty/status/149004086...             0.00   \n",
       "22  https://www.projectveritas.com/video/military-...             0.00   \n",
       "23  https://abc7amarillo.com/news/nation-world/nav...             0.10   \n",
       "24  https://rumble.com/vy0brv-1.5-hours-of-vaccine...             0.00   \n",
       "25                             https://bit.ly/3L0oHZp             0.17   \n",
       "26  https://fox40.com/news/political-connection/ho...             0.01   \n",
       "27  https://www.washingtonpost.com/history/2020/04...            -0.01   \n",
       "28  https://technofog.substack.com/p/our-woke-mili...             0.05   \n",
       "29  https://thehill.com/homenews/house/3683637-fre...             0.00   \n",
       "30  https://www.wgauradio.com/news/politics/4-air-...             0.00   \n",
       "\n",
       "                Sentiment Label  Subjectivity Score   \n",
       "0              Neutral Positive                0.28  \\\n",
       "1         PARERROR: SocialError                0.00   \n",
       "2              Neutral Positive                0.36   \n",
       "3              Neutral Positive                0.41   \n",
       "4              Neutral Positive                0.28   \n",
       "5              Neutral Negative                0.38   \n",
       "6     PARERROR: WebBlockerError                0.00   \n",
       "7              Neutral Negative                0.30   \n",
       "8              Neutral Positive                0.46   \n",
       "9              Neutral Positive                0.41   \n",
       "10  PARERROR: ErrorCouldntParse                0.00   \n",
       "11             Neutral Positive                0.40   \n",
       "12    PARERROR: WebBlockerError                0.00   \n",
       "13    PARERROR: WebBlockerError                0.00   \n",
       "14             Neutral Negative                0.42   \n",
       "15        PARERROR: SocialError                0.00   \n",
       "16    PARERROR: WebBlockerError                0.00   \n",
       "17        PARERROR: SocialError                0.00   \n",
       "18                      Neutral                0.26   \n",
       "19             Neutral Positive                0.23   \n",
       "20  PARERROR: ErrorCouldntParse                0.00   \n",
       "21        PARERROR: SocialError                0.00   \n",
       "22    PARERROR: WebBlockerError                0.00   \n",
       "23             Neutral Positive                0.28   \n",
       "24    PARERROR: WebBlockerError                0.00   \n",
       "25                     Positive                0.42   \n",
       "26             Neutral Negative                0.40   \n",
       "27             Neutral Negative                0.42   \n",
       "28             Neutral Positive                0.35   \n",
       "29  PARERROR: ErrorCouldntParse                0.00   \n",
       "30  PARERROR: ErrorCouldntParse                0.00   \n",
       "\n",
       "                                       Positive Words   \n",
       "0   near, effectively, confident, major, new, more...  \\\n",
       "1                                                       \n",
       "2   social, largely, compelling, more, first, own,...   \n",
       "3   clearly, effectively, effective, far, historic...   \n",
       "4   early, greatly, natural, special, economic, im...   \n",
       "5     not, fine, willingly, first, unique, good, full   \n",
       "6                                                       \n",
       "7           new, light, first, direct, directly, kind   \n",
       "8   near, developed, sincere, nearly, most, new, s...   \n",
       "9   modest, relevant, astounding, greatest, willin...   \n",
       "10                                                      \n",
       "11  very, perfect, willing, overwhelming, free, to...   \n",
       "12                                                      \n",
       "13                                                      \n",
       "14                            quick, greater, general   \n",
       "15                                                      \n",
       "16                                                      \n",
       "17                                                      \n",
       "18                               action, full, really   \n",
       "19  appealing, particular, important, many, genera...   \n",
       "20                                                      \n",
       "21                                                      \n",
       "22                                                      \n",
       "23       available, legal, able, successfully, strong   \n",
       "24                                                      \n",
       "25  economic, new, welcome, available, able, free,...   \n",
       "26  very, nearly, offers, major, complete, quickly...   \n",
       "27  okay, intense, famous, safe, elementary, most,...   \n",
       "28  celebrated, willing, free, top, success, surpr...   \n",
       "29                                                      \n",
       "30                                                      \n",
       "\n",
       "                                       Negative Words   \n",
       "0           needless, single, past, absolutely, other  \\\n",
       "1                                                       \n",
       "2   excuse, unable, active, firm, failed, absolute...   \n",
       "3   few, unknown, long, hard, less, badly, past, w...   \n",
       "4                 foreign, military, actively, mainly   \n",
       "5   very, wrong, guilty, base, sorry, other, milit...   \n",
       "6                                                       \n",
       "7   active, long, green, previously, foreign, mili...   \n",
       "8   active, firm, previous, limited, military, app...   \n",
       "9   few, very, down, long, average, foreign, terri...   \n",
       "10                                                      \n",
       "11  down, unable, long, late, horrible, painful, m...   \n",
       "12                                                      \n",
       "13                                                      \n",
       "14    average, single, less, partial, other, military   \n",
       "15                                                      \n",
       "16                                                      \n",
       "17                                                      \n",
       "18                                               past   \n",
       "19  seriously, previous, center, other, military, not   \n",
       "20                                                      \n",
       "21                                                      \n",
       "22                                                      \n",
       "23                                           military   \n",
       "24                                                      \n",
       "25                                   military, mental   \n",
       "26  drag, late, other, expected, complicated, leas...   \n",
       "27  few, wrong, down, complicated, little, deadly,...   \n",
       "28  spent, approximately, past, less, wide, least,...   \n",
       "29                                                      \n",
       "30                                                      \n",
       "\n",
       "                                                 Text  \n",
       "0   this week, global elitists and world leaders f...  \n",
       "1                               PARERROR: SocialError  \n",
       "2   president joe biden recently declared but unva...  \n",
       "3   the “spanish flu” killed an estimated 50-100 m...  \n",
       "4   islamabad - russia on wednesday assured pakist...  \n",
       "5   a canadian armed forces officer who urged othe...  \n",
       "6                           PARERROR: WebBlockerError  \n",
       "7   sweden will break its doctrine of not sending ...  \n",
       "8   the air force is allowing instructors who rema...  \n",
       "9   we need for members of congress and other amer...  \n",
       "10                        PARERROR: ErrorCouldntParse  \n",
       "11  heather elkins, 45, couldn’t get a medical exe...  \n",
       "12                          PARERROR: WebBlockerError  \n",
       "13                          PARERROR: WebBlockerError  \n",
       "14  a pentagon report found the military was likel...  \n",
       "15                              PARERROR: SocialError  \n",
       "16                          PARERROR: WebBlockerError  \n",
       "17                              PARERROR: SocialError  \n",
       "18  the us. marine corps is temporarily allowing v...  \n",
       "19  vaccination programs are important to military...  \n",
       "20                        PARERROR: ErrorCouldntParse  \n",
       "21                              PARERROR: SocialError  \n",
       "22                          PARERROR: WebBlockerError  \n",
       "23  in a unanimous decision, a navy administrative...  \n",
       "24                          PARERROR: WebBlockerError  \n",
       "25  norfolk, va. (wavy) – 10 on your side has conf...  \n",
       "26  this is an archived article and the informatio...  \n",
       "27  share comment on this story comment\\non aug. 3...  \n",
       "28  the military is waging a two-front war on its ...  \n",
       "29                        PARERROR: ErrorCouldntParse  \n",
       "30                        PARERROR: ErrorCouldntParse  "
      ]
     },
     "execution_count": 149,
     "metadata": {},
     "output_type": "execute_result"
    }
   ],
   "source": [
    "# Loops through our URLS and scraps the data\n",
    "# Put all empty dictionaries here\n",
    "sentimentDic = {}\n",
    "    \n",
    "for count, x in enumerate(urls):\n",
    "    if(count % 10 == 0):\n",
    "        print(str(count))\n",
    "\n",
    "    url = x\n",
    "\n",
    "    # Send the URL to get scraped\n",
    "    page_text = scrapeData(x)\n",
    "    # All articles will have a long string of all the text that has been scraped\n",
    "    all_articles = all_articles + \" \" +  page_text\n",
    "    \n",
    "    # Puts the article into a list of all the sentences in the article\n",
    "    sentenceList = sentenceLevel(page_text)\n",
    "\n",
    "    # Runs sentiment analysis. Will need to make a new function and a new dictionary\n",
    "    # for each type of analysis we want to run. Will pass in the page_text, the dic, and\n",
    "    # x (the url)\n",
    "    sentimentDic = sentimentAnalysis(page_text, sentimentDic, url)\n",
    "        \n",
    "        \n",
    "        \n",
    "#print(\"The average sentiment score was: \" + str(sum(url_sent_score) / len(url_sent_score)))\n",
    "#print(\"The average subjectivity score was: \" + str(sum(url_subj_score) / len(url_subj_score)))\n",
    "\n",
    "# For each analysis we run we need to then convert that dictionary with the following method\n",
    "df = dictionaryToDataFrame(sentimentDic)\n",
    "df\n",
    "# Used if we want to convert it to a .csv sentDic.to_csv(\"sentiment130.csv\")\n"
   ]
  },
  {
   "cell_type": "markdown",
   "id": "72a66188",
   "metadata": {},
   "source": [
    "# Dropping failed webscraping rows"
   ]
  },
  {
   "cell_type": "code",
   "execution_count": 150,
   "id": "4873d7f1",
   "metadata": {
    "scrolled": true
   },
   "outputs": [
    {
     "data": {
      "text/html": [
       "<div>\n",
       "<style scoped>\n",
       "    .dataframe tbody tr th:only-of-type {\n",
       "        vertical-align: middle;\n",
       "    }\n",
       "\n",
       "    .dataframe tbody tr th {\n",
       "        vertical-align: top;\n",
       "    }\n",
       "\n",
       "    .dataframe thead th {\n",
       "        text-align: right;\n",
       "    }\n",
       "</style>\n",
       "<table border=\"1\" class=\"dataframe\">\n",
       "  <thead>\n",
       "    <tr style=\"text-align: right;\">\n",
       "      <th></th>\n",
       "      <th>URL</th>\n",
       "      <th>Sentiment Score</th>\n",
       "      <th>Sentiment Label</th>\n",
       "      <th>Subjectivity Score</th>\n",
       "      <th>Positive Words</th>\n",
       "      <th>Negative Words</th>\n",
       "      <th>Text</th>\n",
       "    </tr>\n",
       "  </thead>\n",
       "  <tbody>\n",
       "    <tr>\n",
       "      <th>0</th>\n",
       "      <td>https://www.thegatewaypundit.com/2022/05/world...</td>\n",
       "      <td>0.05</td>\n",
       "      <td>Neutral Positive</td>\n",
       "      <td>0.28</td>\n",
       "      <td>near, effectively, confident, major, new, more...</td>\n",
       "      <td>needless, single, past, absolutely, other</td>\n",
       "      <td>this week, global elitists and world leaders f...</td>\n",
       "    </tr>\n",
       "    <tr>\n",
       "      <th>2</th>\n",
       "      <td>https://komonews.com/news/coronavirus/if-covid...</td>\n",
       "      <td>0.06</td>\n",
       "      <td>Neutral Positive</td>\n",
       "      <td>0.36</td>\n",
       "      <td>social, largely, compelling, more, first, own,...</td>\n",
       "      <td>excuse, unable, active, firm, failed, absolute...</td>\n",
       "      <td>president joe biden recently declared but unva...</td>\n",
       "    </tr>\n",
       "    <tr>\n",
       "      <th>3</th>\n",
       "      <td>https://www.lewrockwell.com/2018/11/no_author/...</td>\n",
       "      <td>0.10</td>\n",
       "      <td>Neutral Positive</td>\n",
       "      <td>0.41</td>\n",
       "      <td>clearly, effectively, effective, far, historic...</td>\n",
       "      <td>few, unknown, long, hard, less, badly, past, w...</td>\n",
       "      <td>the “spanish flu” killed an estimated 50-100 m...</td>\n",
       "    </tr>\n",
       "    <tr>\n",
       "      <th>4</th>\n",
       "      <td>https://nation.com.pk/08-Apr-2021/russia-offer...</td>\n",
       "      <td>0.07</td>\n",
       "      <td>Neutral Positive</td>\n",
       "      <td>0.28</td>\n",
       "      <td>early, greatly, natural, special, economic, im...</td>\n",
       "      <td>foreign, military, actively, mainly</td>\n",
       "      <td>islamabad - russia on wednesday assured pakist...</td>\n",
       "    </tr>\n",
       "    <tr>\n",
       "      <th>5</th>\n",
       "      <td>https://barrie.ctvnews.ca/cfb-borden-based-mil...</td>\n",
       "      <td>-0.02</td>\n",
       "      <td>Neutral Negative</td>\n",
       "      <td>0.38</td>\n",
       "      <td>not, fine, willingly, first, unique, good, full</td>\n",
       "      <td>very, wrong, guilty, base, sorry, other, milit...</td>\n",
       "      <td>a canadian armed forces officer who urged othe...</td>\n",
       "    </tr>\n",
       "    <tr>\n",
       "      <th>7</th>\n",
       "      <td>https://www.dailysabah.com/world/europe/sweden...</td>\n",
       "      <td>0.03</td>\n",
       "      <td>Neutral Negative</td>\n",
       "      <td>0.30</td>\n",
       "      <td>new, light, first, direct, directly, kind</td>\n",
       "      <td>active, long, green, previously, foreign, mili...</td>\n",
       "      <td>sweden will break its doctrine of not sending ...</td>\n",
       "    </tr>\n",
       "    <tr>\n",
       "      <th>8</th>\n",
       "      <td>https://www.military.com/daily-news/2022/11/01...</td>\n",
       "      <td>0.07</td>\n",
       "      <td>Neutral Positive</td>\n",
       "      <td>0.46</td>\n",
       "      <td>near, developed, sincere, nearly, most, new, s...</td>\n",
       "      <td>active, firm, previous, limited, military, app...</td>\n",
       "      <td>the air force is allowing instructors who rema...</td>\n",
       "    </tr>\n",
       "    <tr>\n",
       "      <th>9</th>\n",
       "      <td>https://roundingtheearth.substack.com/p/defini...</td>\n",
       "      <td>0.09</td>\n",
       "      <td>Neutral Positive</td>\n",
       "      <td>0.41</td>\n",
       "      <td>modest, relevant, astounding, greatest, willin...</td>\n",
       "      <td>few, very, down, long, average, foreign, terri...</td>\n",
       "      <td>we need for members of congress and other amer...</td>\n",
       "    </tr>\n",
       "    <tr>\n",
       "      <th>11</th>\n",
       "      <td>https://childrenshealthdefense.org/defender/he...</td>\n",
       "      <td>0.10</td>\n",
       "      <td>Neutral Positive</td>\n",
       "      <td>0.40</td>\n",
       "      <td>very, perfect, willing, overwhelming, free, to...</td>\n",
       "      <td>down, unable, long, late, horrible, painful, m...</td>\n",
       "      <td>heather elkins, 45, couldn’t get a medical exe...</td>\n",
       "    </tr>\n",
       "    <tr>\n",
       "      <th>14</th>\n",
       "      <td>https://www.foxnews.com/us/pentagon-rushed-den...</td>\n",
       "      <td>0.00</td>\n",
       "      <td>Neutral Negative</td>\n",
       "      <td>0.42</td>\n",
       "      <td>quick, greater, general</td>\n",
       "      <td>average, single, less, partial, other, military</td>\n",
       "      <td>a pentagon report found the military was likel...</td>\n",
       "    </tr>\n",
       "    <tr>\n",
       "      <th>18</th>\n",
       "      <td>https://foxreno.com/news/coronavirus/us-marine...</td>\n",
       "      <td>0.04</td>\n",
       "      <td>Neutral</td>\n",
       "      <td>0.26</td>\n",
       "      <td>action, full, really</td>\n",
       "      <td>past</td>\n",
       "      <td>the us. marine corps is temporarily allowing v...</td>\n",
       "    </tr>\n",
       "    <tr>\n",
       "      <th>19</th>\n",
       "      <td>https://www.health.mil/Military-Health-Topics/...</td>\n",
       "      <td>0.05</td>\n",
       "      <td>Neutral Positive</td>\n",
       "      <td>0.23</td>\n",
       "      <td>appealing, particular, important, many, genera...</td>\n",
       "      <td>seriously, previous, center, other, military, not</td>\n",
       "      <td>vaccination programs are important to military...</td>\n",
       "    </tr>\n",
       "    <tr>\n",
       "      <th>23</th>\n",
       "      <td>https://abc7amarillo.com/news/nation-world/nav...</td>\n",
       "      <td>0.10</td>\n",
       "      <td>Neutral Positive</td>\n",
       "      <td>0.28</td>\n",
       "      <td>available, legal, able, successfully, strong</td>\n",
       "      <td>military</td>\n",
       "      <td>in a unanimous decision, a navy administrative...</td>\n",
       "    </tr>\n",
       "    <tr>\n",
       "      <th>25</th>\n",
       "      <td>https://bit.ly/3L0oHZp</td>\n",
       "      <td>0.17</td>\n",
       "      <td>Positive</td>\n",
       "      <td>0.42</td>\n",
       "      <td>economic, new, welcome, available, able, free,...</td>\n",
       "      <td>military, mental</td>\n",
       "      <td>norfolk, va. (wavy) – 10 on your side has conf...</td>\n",
       "    </tr>\n",
       "    <tr>\n",
       "      <th>26</th>\n",
       "      <td>https://fox40.com/news/political-connection/ho...</td>\n",
       "      <td>0.01</td>\n",
       "      <td>Neutral Negative</td>\n",
       "      <td>0.40</td>\n",
       "      <td>very, nearly, offers, major, complete, quickly...</td>\n",
       "      <td>drag, late, other, expected, complicated, leas...</td>\n",
       "      <td>this is an archived article and the informatio...</td>\n",
       "    </tr>\n",
       "    <tr>\n",
       "      <th>27</th>\n",
       "      <td>https://www.washingtonpost.com/history/2020/04...</td>\n",
       "      <td>-0.01</td>\n",
       "      <td>Neutral Negative</td>\n",
       "      <td>0.42</td>\n",
       "      <td>okay, intense, famous, safe, elementary, most,...</td>\n",
       "      <td>few, wrong, down, complicated, little, deadly,...</td>\n",
       "      <td>share comment on this story comment\\non aug. 3...</td>\n",
       "    </tr>\n",
       "    <tr>\n",
       "      <th>28</th>\n",
       "      <td>https://technofog.substack.com/p/our-woke-mili...</td>\n",
       "      <td>0.05</td>\n",
       "      <td>Neutral Positive</td>\n",
       "      <td>0.35</td>\n",
       "      <td>celebrated, willing, free, top, success, surpr...</td>\n",
       "      <td>spent, approximately, past, less, wide, least,...</td>\n",
       "      <td>the military is waging a two-front war on its ...</td>\n",
       "    </tr>\n",
       "  </tbody>\n",
       "</table>\n",
       "</div>"
      ],
      "text/plain": [
       "                                                  URL  Sentiment Score   \n",
       "0   https://www.thegatewaypundit.com/2022/05/world...             0.05  \\\n",
       "2   https://komonews.com/news/coronavirus/if-covid...             0.06   \n",
       "3   https://www.lewrockwell.com/2018/11/no_author/...             0.10   \n",
       "4   https://nation.com.pk/08-Apr-2021/russia-offer...             0.07   \n",
       "5   https://barrie.ctvnews.ca/cfb-borden-based-mil...            -0.02   \n",
       "7   https://www.dailysabah.com/world/europe/sweden...             0.03   \n",
       "8   https://www.military.com/daily-news/2022/11/01...             0.07   \n",
       "9   https://roundingtheearth.substack.com/p/defini...             0.09   \n",
       "11  https://childrenshealthdefense.org/defender/he...             0.10   \n",
       "14  https://www.foxnews.com/us/pentagon-rushed-den...             0.00   \n",
       "18  https://foxreno.com/news/coronavirus/us-marine...             0.04   \n",
       "19  https://www.health.mil/Military-Health-Topics/...             0.05   \n",
       "23  https://abc7amarillo.com/news/nation-world/nav...             0.10   \n",
       "25                             https://bit.ly/3L0oHZp             0.17   \n",
       "26  https://fox40.com/news/political-connection/ho...             0.01   \n",
       "27  https://www.washingtonpost.com/history/2020/04...            -0.01   \n",
       "28  https://technofog.substack.com/p/our-woke-mili...             0.05   \n",
       "\n",
       "     Sentiment Label  Subjectivity Score   \n",
       "0   Neutral Positive                0.28  \\\n",
       "2   Neutral Positive                0.36   \n",
       "3   Neutral Positive                0.41   \n",
       "4   Neutral Positive                0.28   \n",
       "5   Neutral Negative                0.38   \n",
       "7   Neutral Negative                0.30   \n",
       "8   Neutral Positive                0.46   \n",
       "9   Neutral Positive                0.41   \n",
       "11  Neutral Positive                0.40   \n",
       "14  Neutral Negative                0.42   \n",
       "18           Neutral                0.26   \n",
       "19  Neutral Positive                0.23   \n",
       "23  Neutral Positive                0.28   \n",
       "25          Positive                0.42   \n",
       "26  Neutral Negative                0.40   \n",
       "27  Neutral Negative                0.42   \n",
       "28  Neutral Positive                0.35   \n",
       "\n",
       "                                       Positive Words   \n",
       "0   near, effectively, confident, major, new, more...  \\\n",
       "2   social, largely, compelling, more, first, own,...   \n",
       "3   clearly, effectively, effective, far, historic...   \n",
       "4   early, greatly, natural, special, economic, im...   \n",
       "5     not, fine, willingly, first, unique, good, full   \n",
       "7           new, light, first, direct, directly, kind   \n",
       "8   near, developed, sincere, nearly, most, new, s...   \n",
       "9   modest, relevant, astounding, greatest, willin...   \n",
       "11  very, perfect, willing, overwhelming, free, to...   \n",
       "14                            quick, greater, general   \n",
       "18                               action, full, really   \n",
       "19  appealing, particular, important, many, genera...   \n",
       "23       available, legal, able, successfully, strong   \n",
       "25  economic, new, welcome, available, able, free,...   \n",
       "26  very, nearly, offers, major, complete, quickly...   \n",
       "27  okay, intense, famous, safe, elementary, most,...   \n",
       "28  celebrated, willing, free, top, success, surpr...   \n",
       "\n",
       "                                       Negative Words   \n",
       "0           needless, single, past, absolutely, other  \\\n",
       "2   excuse, unable, active, firm, failed, absolute...   \n",
       "3   few, unknown, long, hard, less, badly, past, w...   \n",
       "4                 foreign, military, actively, mainly   \n",
       "5   very, wrong, guilty, base, sorry, other, milit...   \n",
       "7   active, long, green, previously, foreign, mili...   \n",
       "8   active, firm, previous, limited, military, app...   \n",
       "9   few, very, down, long, average, foreign, terri...   \n",
       "11  down, unable, long, late, horrible, painful, m...   \n",
       "14    average, single, less, partial, other, military   \n",
       "18                                               past   \n",
       "19  seriously, previous, center, other, military, not   \n",
       "23                                           military   \n",
       "25                                   military, mental   \n",
       "26  drag, late, other, expected, complicated, leas...   \n",
       "27  few, wrong, down, complicated, little, deadly,...   \n",
       "28  spent, approximately, past, less, wide, least,...   \n",
       "\n",
       "                                                 Text  \n",
       "0   this week, global elitists and world leaders f...  \n",
       "2   president joe biden recently declared but unva...  \n",
       "3   the “spanish flu” killed an estimated 50-100 m...  \n",
       "4   islamabad - russia on wednesday assured pakist...  \n",
       "5   a canadian armed forces officer who urged othe...  \n",
       "7   sweden will break its doctrine of not sending ...  \n",
       "8   the air force is allowing instructors who rema...  \n",
       "9   we need for members of congress and other amer...  \n",
       "11  heather elkins, 45, couldn’t get a medical exe...  \n",
       "14  a pentagon report found the military was likel...  \n",
       "18  the us. marine corps is temporarily allowing v...  \n",
       "19  vaccination programs are important to military...  \n",
       "23  in a unanimous decision, a navy administrative...  \n",
       "25  norfolk, va. (wavy) – 10 on your side has conf...  \n",
       "26  this is an archived article and the informatio...  \n",
       "27  share comment on this story comment\\non aug. 3...  \n",
       "28  the military is waging a two-front war on its ...  "
      ]
     },
     "execution_count": 150,
     "metadata": {},
     "output_type": "execute_result"
    }
   ],
   "source": [
    "df = drop_failed_webscraping_rows(df)\n",
    "df"
   ]
  },
  {
   "cell_type": "markdown",
   "id": "40eba53b",
   "metadata": {},
   "source": [
    "# Create Topic Model w/ Highest Coherence"
   ]
  },
  {
   "cell_type": "code",
   "execution_count": 151,
   "id": "52b11718",
   "metadata": {},
   "outputs": [
    {
     "data": {
      "image/png": "[encoded data removed]",
      "text/plain": [
       "<Figure size 640x480 with 1 Axes>"
      ]
     },
     "metadata": {},
     "output_type": "display_data"
    },
    {
     "data": {
      "text/plain": [
       "<gensim.models.ldamodel.LdaModel at 0x2acdb1c7790>"
      ]
     },
     "execution_count": 151,
     "metadata": {},
     "output_type": "execute_result"
    }
   ],
   "source": [
    "#This will generate multiple topic models with various topic count, then return the model with highest coherence\n",
    "#it will also display a quick visual of coherence values, to understand what topic count is best and why it was chosen\n",
    "LDA_model, corpus = create_lda_model(df, 20, 5, 5)\n",
    "LDA_model"
   ]
  },
  {
   "cell_type": "code",
   "execution_count": 152,
   "id": "0776de9b",
   "metadata": {
    "scrolled": true
   },
   "outputs": [
    {
     "name": "stdout",
     "output_type": "stream",
     "text": [
      "15\n"
     ]
    },
    {
     "data": {
      "text/plain": [
       "[(0,\n",
       "  '0.014*\"spending\" + 0.012*\"say\" + 0.011*\"mandate\" + 0.010*\"pass\" + 0.009*\"military\" + 0.009*\"get\" + 0.009*\"prevent\" + 0.009*\"leader\" + 0.007*\"member\" + 0.007*\"religious\"'),\n",
       " (1,\n",
       "  '0.015*\"mall\" + 0.015*\"courtesy\" + 0.015*\"photo\" + 0.015*\"vaccination\" + 0.015*\"say\" + 0.012*\"people\" + 0.012*\"long\" + 0.012*\"shot\" + 0.012*\"monkeypox\" + 0.012*\"sign\"'),\n",
       " (2,\n",
       "  '0.032*\"exemption\" + 0.025*\"medical\" + 0.021*\"say\" + 0.013*\"russian\" + 0.011*\"immunization\" + 0.011*\"decision\" + 0.010*\"military\" + 0.008*\"health\" + 0.008*\"cooperation\" + 0.008*\"country\"'),\n",
       " (3,\n",
       "  '0.019*\"disease\" + 0.019*\"flu\" + 0.017*\"spanish\" + 0.013*\"pandemic\" + 0.011*\"bacterial\" + 0.010*\"soldier\" + 0.009*\"people\" + 0.008*\"kill\" + 0.008*\"th\" + 0.008*\"many\"'),\n",
       " (4,\n",
       "  '0.027*\"military\" + 0.020*\"religious\" + 0.018*\"request\" + 0.017*\"member\" + 0.017*\"service\" + 0.012*\"mandate\" + 0.011*\"exemption\" + 0.009*\"approve\" + 0.006*\"say\" + 0.006*\"find\"'),\n",
       " (5,\n",
       "  '0.016*\"russian\" + 0.015*\"country\" + 0.012*\"conduct\" + 0.012*\"agree\" + 0.012*\"substantive\" + 0.009*\"minister\" + 0.008*\"cooperation\" + 0.007*\"express\" + 0.007*\"say\" + 0.006*\"state\"'),\n",
       " (6,\n",
       "  '0.001*\"category\" + 0.001*\"datum\" + 0.001*\"code\" + 0.001*\"diagnostic\" + 0.001*\"say\" + 0.001*\"ambulatory\" + 0.001*\"medical\" + 0.001*\"summary\" + 0.001*\"system\" + 0.001*\"military\"'),\n",
       " (7,\n",
       "  '0.022*\"say\" + 0.021*\"elkin\" + 0.012*\"exemption\" + 0.010*\"force\" + 0.010*\"symptom\" + 0.008*\"get\" + 0.008*\"medical\" + 0.008*\"order\" + 0.008*\"officer\" + 0.008*\"canadian\"'),\n",
       " (8,\n",
       "  '0.001*\"flu\" + 0.001*\"spanish\" + 0.001*\"bacterial\" + 0.001*\"pandemic\" + 0.001*\"disease\" + 0.001*\"many\" + 0.001*\"culture\" + 0.001*\"influenza\" + 0.001*\"soldier\" + 0.001*\"killer\"'),\n",
       " (9,\n",
       "  '0.029*\"polio\" + 0.019*\"cutter\" + 0.015*\"year\" + 0.015*\"child\" + 0.014*\"offit\" + 0.014*\"write\" + 0.013*\"give\" + 0.012*\"get\" + 0.011*\"make\" + 0.011*\"advertisement\"'),\n",
       " (10,\n",
       "  '0.016*\"vaccination\" + 0.016*\"system\" + 0.014*\"health\" + 0.011*\"organization\" + 0.011*\"fact\" + 0.008*\"member\" + 0.008*\"trust\" + 0.008*\"certificate\" + 0.008*\"globalist\" + 0.006*\"service\"'),\n",
       " (11,\n",
       "  '0.033*\"send\" + 0.026*\"ukraine\" + 0.022*\"weapon\" + 0.019*\"say\" + 0.015*\"country\" + 0.015*\"finland\" + 0.011*\"include\" + 0.011*\"helmet\" + 0.011*\"minister\" + 0.008*\"military\"'),\n",
       " (12,\n",
       "  '0.001*\"member\" + 0.001*\"religious\" + 0.001*\"say\" + 0.001*\"request\" + 0.001*\"mandate\" + 0.001*\"military\" + 0.001*\"category\" + 0.001*\"datum\" + 0.001*\"force\" + 0.001*\"exemption\"'),\n",
       " (13,\n",
       "  '0.038*\"category\" + 0.034*\"datum\" + 0.022*\"code\" + 0.021*\"diagnostic\" + 0.017*\"ambulatory\" + 0.016*\"summary\" + 0.014*\"revise\" + 0.010*\"look\" + 0.010*\"illness\" + 0.009*\"system\"'),\n",
       " (14,\n",
       "  '0.041*\"air\" + 0.038*\"force\" + 0.017*\"religious\" + 0.016*\"pilot\" + 0.014*\"exemption\" + 0.012*\"instructor\" + 0.011*\"lawsuit\" + 0.010*\"cell\" + 0.010*\"line\" + 0.010*\"fly\"')]"
      ]
     },
     "execution_count": 152,
     "metadata": {},
     "output_type": "execute_result"
    }
   ],
   "source": [
    "#here we create a list of topic words and their associated weights\n",
    "LDA_model_topics = LDA_model.print_topics() #LDA_model[corpus]\n",
    "\n",
    "LDA_model_topics.sort()\n",
    "print(len(LDA_model_topics))\n",
    "LDA_model_topics\n"
   ]
  },
  {
   "cell_type": "code",
   "execution_count": 153,
   "id": "84da4c03",
   "metadata": {
    "scrolled": true
   },
   "outputs": [
    {
     "data": {
      "text/plain": [
       "{'Topic_0': ['spending',\n",
       "  'say',\n",
       "  'mandate',\n",
       "  'pass',\n",
       "  'military',\n",
       "  'get',\n",
       "  'prevent',\n",
       "  'leader',\n",
       "  'member',\n",
       "  'religious'],\n",
       " 'Topic_1': ['mall',\n",
       "  'courtesy',\n",
       "  'photo',\n",
       "  'vaccination',\n",
       "  'say',\n",
       "  'people',\n",
       "  'long',\n",
       "  'shot',\n",
       "  'monkeypox',\n",
       "  'sign'],\n",
       " 'Topic_2': ['exemption',\n",
       "  'medical',\n",
       "  'say',\n",
       "  'russian',\n",
       "  'immunization',\n",
       "  'decision',\n",
       "  'military',\n",
       "  'health',\n",
       "  'cooperation',\n",
       "  'country'],\n",
       " 'Topic_3': ['disease',\n",
       "  'flu',\n",
       "  'spanish',\n",
       "  'pandemic',\n",
       "  'bacterial',\n",
       "  'soldier',\n",
       "  'people',\n",
       "  'kill',\n",
       "  'th',\n",
       "  'many'],\n",
       " 'Topic_4': ['military',\n",
       "  'religious',\n",
       "  'request',\n",
       "  'member',\n",
       "  'service',\n",
       "  'mandate',\n",
       "  'exemption',\n",
       "  'approve',\n",
       "  'say',\n",
       "  'find'],\n",
       " 'Topic_5': ['russian',\n",
       "  'country',\n",
       "  'conduct',\n",
       "  'agree',\n",
       "  'substantive',\n",
       "  'minister',\n",
       "  'cooperation',\n",
       "  'express',\n",
       "  'say',\n",
       "  'state'],\n",
       " 'Topic_6': ['category',\n",
       "  'datum',\n",
       "  'code',\n",
       "  'diagnostic',\n",
       "  'say',\n",
       "  'ambulatory',\n",
       "  'medical',\n",
       "  'summary',\n",
       "  'system',\n",
       "  'military'],\n",
       " 'Topic_7': ['say',\n",
       "  'elkin',\n",
       "  'exemption',\n",
       "  'force',\n",
       "  'symptom',\n",
       "  'get',\n",
       "  'medical',\n",
       "  'order',\n",
       "  'officer',\n",
       "  'canadian'],\n",
       " 'Topic_8': ['flu',\n",
       "  'spanish',\n",
       "  'bacterial',\n",
       "  'pandemic',\n",
       "  'disease',\n",
       "  'many',\n",
       "  'culture',\n",
       "  'influenza',\n",
       "  'soldier',\n",
       "  'killer'],\n",
       " 'Topic_9': ['polio',\n",
       "  'cutter',\n",
       "  'year',\n",
       "  'child',\n",
       "  'offit',\n",
       "  'write',\n",
       "  'give',\n",
       "  'get',\n",
       "  'make',\n",
       "  'advertisement'],\n",
       " 'Topic_10': ['vaccination',\n",
       "  'system',\n",
       "  'health',\n",
       "  'organization',\n",
       "  'fact',\n",
       "  'member',\n",
       "  'trust',\n",
       "  'certificate',\n",
       "  'globalist',\n",
       "  'service'],\n",
       " 'Topic_11': ['send',\n",
       "  'ukraine',\n",
       "  'weapon',\n",
       "  'say',\n",
       "  'country',\n",
       "  'finland',\n",
       "  'include',\n",
       "  'helmet',\n",
       "  'minister',\n",
       "  'military'],\n",
       " 'Topic_12': ['member',\n",
       "  'religious',\n",
       "  'say',\n",
       "  'request',\n",
       "  'mandate',\n",
       "  'military',\n",
       "  'category',\n",
       "  'datum',\n",
       "  'force',\n",
       "  'exemption'],\n",
       " 'Topic_13': ['category',\n",
       "  'datum',\n",
       "  'code',\n",
       "  'diagnostic',\n",
       "  'ambulatory',\n",
       "  'summary',\n",
       "  'revise',\n",
       "  'look',\n",
       "  'illness',\n",
       "  'system'],\n",
       " 'Topic_14': ['air',\n",
       "  'force',\n",
       "  'religious',\n",
       "  'pilot',\n",
       "  'exemption',\n",
       "  'instructor',\n",
       "  'lawsuit',\n",
       "  'cell',\n",
       "  'line',\n",
       "  'fly']}"
      ]
     },
     "execution_count": 153,
     "metadata": {},
     "output_type": "execute_result"
    }
   ],
   "source": [
    "topic_dict = topic_level_sentiment(LDA_model)\n",
    "topic_dict"
   ]
  },
  {
   "cell_type": "markdown",
   "id": "e90c4670",
   "metadata": {},
   "source": [
    "# DATA VISUALIZATION"
   ]
  },
  {
   "cell_type": "markdown",
   "id": "2cf78edd",
   "metadata": {},
   "source": [
    "## Pre-processing dataframe for visualization"
   ]
  },
  {
   "cell_type": "code",
   "execution_count": 154,
   "id": "097d2461",
   "metadata": {
    "scrolled": true
   },
   "outputs": [
    {
     "data": {
      "text/html": [
       "<div>\n",
       "<style scoped>\n",
       "    .dataframe tbody tr th:only-of-type {\n",
       "        vertical-align: middle;\n",
       "    }\n",
       "\n",
       "    .dataframe tbody tr th {\n",
       "        vertical-align: top;\n",
       "    }\n",
       "\n",
       "    .dataframe thead th {\n",
       "        text-align: right;\n",
       "    }\n",
       "</style>\n",
       "<table border=\"1\" class=\"dataframe\">\n",
       "  <thead>\n",
       "    <tr style=\"text-align: right;\">\n",
       "      <th></th>\n",
       "      <th>URL</th>\n",
       "      <th>Sentiment Score</th>\n",
       "      <th>Sentiment Label</th>\n",
       "      <th>Subjectivity Score</th>\n",
       "      <th>Positive Words</th>\n",
       "      <th>Negative Words</th>\n",
       "      <th>Text</th>\n",
       "      <th>Topics</th>\n",
       "      <th>Main Topic</th>\n",
       "      <th>Main Topic Score</th>\n",
       "    </tr>\n",
       "  </thead>\n",
       "  <tbody>\n",
       "    <tr>\n",
       "      <th>0</th>\n",
       "      <td>https://www.thegatewaypundit.com/2022/05/world...</td>\n",
       "      <td>0.05</td>\n",
       "      <td>Neutral Positive</td>\n",
       "      <td>0.28</td>\n",
       "      <td>near, effectively, confident, major, new, more...</td>\n",
       "      <td>needless, single, past, absolutely, other</td>\n",
       "      <td>this week, global elitists and world leaders f...</td>\n",
       "      <td>[(10, 0.9960617)]</td>\n",
       "      <td>10</td>\n",
       "      <td>0.996062</td>\n",
       "    </tr>\n",
       "    <tr>\n",
       "      <th>2</th>\n",
       "      <td>https://komonews.com/news/coronavirus/if-covid...</td>\n",
       "      <td>0.06</td>\n",
       "      <td>Neutral Positive</td>\n",
       "      <td>0.36</td>\n",
       "      <td>social, largely, compelling, more, first, own,...</td>\n",
       "      <td>excuse, unable, active, firm, failed, absolute...</td>\n",
       "      <td>president joe biden recently declared but unva...</td>\n",
       "      <td>[(3, 0.6574597), (14, 0.33616692)]</td>\n",
       "      <td>3</td>\n",
       "      <td>0.657460</td>\n",
       "    </tr>\n",
       "    <tr>\n",
       "      <th>3</th>\n",
       "      <td>https://www.lewrockwell.com/2018/11/no_author/...</td>\n",
       "      <td>0.10</td>\n",
       "      <td>Neutral Positive</td>\n",
       "      <td>0.41</td>\n",
       "      <td>clearly, effectively, effective, far, historic...</td>\n",
       "      <td>few, unknown, long, hard, less, badly, past, w...</td>\n",
       "      <td>the “spanish flu” killed an estimated 50-100 m...</td>\n",
       "      <td>[(3, 0.99872655)]</td>\n",
       "      <td>3</td>\n",
       "      <td>0.998727</td>\n",
       "    </tr>\n",
       "    <tr>\n",
       "      <th>4</th>\n",
       "      <td>https://nation.com.pk/08-Apr-2021/russia-offer...</td>\n",
       "      <td>0.07</td>\n",
       "      <td>Neutral Positive</td>\n",
       "      <td>0.28</td>\n",
       "      <td>early, greatly, natural, special, economic, im...</td>\n",
       "      <td>foreign, military, actively, mainly</td>\n",
       "      <td>islamabad - russia on wednesday assured pakist...</td>\n",
       "      <td>[(2, 0.9007007), (5, 0.096258104)]</td>\n",
       "      <td>2</td>\n",
       "      <td>0.900701</td>\n",
       "    </tr>\n",
       "    <tr>\n",
       "      <th>5</th>\n",
       "      <td>https://barrie.ctvnews.ca/cfb-borden-based-mil...</td>\n",
       "      <td>-0.02</td>\n",
       "      <td>Neutral Negative</td>\n",
       "      <td>0.38</td>\n",
       "      <td>not, fine, willingly, first, unique, good, full</td>\n",
       "      <td>very, wrong, guilty, base, sorry, other, milit...</td>\n",
       "      <td>a canadian armed forces officer who urged othe...</td>\n",
       "      <td>[(7, 0.99750423)]</td>\n",
       "      <td>7</td>\n",
       "      <td>0.997504</td>\n",
       "    </tr>\n",
       "    <tr>\n",
       "      <th>7</th>\n",
       "      <td>https://www.dailysabah.com/world/europe/sweden...</td>\n",
       "      <td>0.03</td>\n",
       "      <td>Neutral Negative</td>\n",
       "      <td>0.30</td>\n",
       "      <td>new, light, first, direct, directly, kind</td>\n",
       "      <td>active, long, green, previously, foreign, mili...</td>\n",
       "      <td>sweden will break its doctrine of not sending ...</td>\n",
       "      <td>[(11, 0.9933331)]</td>\n",
       "      <td>11</td>\n",
       "      <td>0.993333</td>\n",
       "    </tr>\n",
       "    <tr>\n",
       "      <th>8</th>\n",
       "      <td>https://www.military.com/daily-news/2022/11/01...</td>\n",
       "      <td>0.07</td>\n",
       "      <td>Neutral Positive</td>\n",
       "      <td>0.46</td>\n",
       "      <td>near, developed, sincere, nearly, most, new, s...</td>\n",
       "      <td>active, firm, previous, limited, military, app...</td>\n",
       "      <td>the air force is allowing instructors who rema...</td>\n",
       "      <td>[(14, 0.99337834)]</td>\n",
       "      <td>14</td>\n",
       "      <td>0.993378</td>\n",
       "    </tr>\n",
       "    <tr>\n",
       "      <th>9</th>\n",
       "      <td>https://roundingtheearth.substack.com/p/defini...</td>\n",
       "      <td>0.09</td>\n",
       "      <td>Neutral Positive</td>\n",
       "      <td>0.41</td>\n",
       "      <td>modest, relevant, astounding, greatest, willin...</td>\n",
       "      <td>few, very, down, long, average, foreign, terri...</td>\n",
       "      <td>we need for members of congress and other amer...</td>\n",
       "      <td>[(13, 0.9979293)]</td>\n",
       "      <td>13</td>\n",
       "      <td>0.997929</td>\n",
       "    </tr>\n",
       "    <tr>\n",
       "      <th>11</th>\n",
       "      <td>https://childrenshealthdefense.org/defender/he...</td>\n",
       "      <td>0.10</td>\n",
       "      <td>Neutral Positive</td>\n",
       "      <td>0.40</td>\n",
       "      <td>very, perfect, willing, overwhelming, free, to...</td>\n",
       "      <td>down, unable, long, late, horrible, painful, m...</td>\n",
       "      <td>heather elkins, 45, couldn’t get a medical exe...</td>\n",
       "      <td>[(7, 0.9983879)]</td>\n",
       "      <td>7</td>\n",
       "      <td>0.998388</td>\n",
       "    </tr>\n",
       "    <tr>\n",
       "      <th>14</th>\n",
       "      <td>https://www.foxnews.com/us/pentagon-rushed-den...</td>\n",
       "      <td>0.00</td>\n",
       "      <td>Neutral Negative</td>\n",
       "      <td>0.42</td>\n",
       "      <td>quick, greater, general</td>\n",
       "      <td>average, single, less, partial, other, military</td>\n",
       "      <td>a pentagon report found the military was likel...</td>\n",
       "      <td>[(4, 0.9943772)]</td>\n",
       "      <td>4</td>\n",
       "      <td>0.994377</td>\n",
       "    </tr>\n",
       "    <tr>\n",
       "      <th>18</th>\n",
       "      <td>https://foxreno.com/news/coronavirus/us-marine...</td>\n",
       "      <td>0.04</td>\n",
       "      <td>Neutral</td>\n",
       "      <td>0.26</td>\n",
       "      <td>action, full, really</td>\n",
       "      <td>past</td>\n",
       "      <td>the us. marine corps is temporarily allowing v...</td>\n",
       "      <td>[(0, 0.9918122)]</td>\n",
       "      <td>0</td>\n",
       "      <td>0.991812</td>\n",
       "    </tr>\n",
       "    <tr>\n",
       "      <th>19</th>\n",
       "      <td>https://www.health.mil/Military-Health-Topics/...</td>\n",
       "      <td>0.05</td>\n",
       "      <td>Neutral Positive</td>\n",
       "      <td>0.23</td>\n",
       "      <td>appealing, particular, important, many, genera...</td>\n",
       "      <td>seriously, previous, center, other, military, not</td>\n",
       "      <td>vaccination programs are important to military...</td>\n",
       "      <td>[(2, 0.99726284)]</td>\n",
       "      <td>2</td>\n",
       "      <td>0.997263</td>\n",
       "    </tr>\n",
       "    <tr>\n",
       "      <th>23</th>\n",
       "      <td>https://abc7amarillo.com/news/nation-world/nav...</td>\n",
       "      <td>0.10</td>\n",
       "      <td>Neutral Positive</td>\n",
       "      <td>0.28</td>\n",
       "      <td>available, legal, able, successfully, strong</td>\n",
       "      <td>military</td>\n",
       "      <td>in a unanimous decision, a navy administrative...</td>\n",
       "      <td>[(0, 0.99342674)]</td>\n",
       "      <td>0</td>\n",
       "      <td>0.993427</td>\n",
       "    </tr>\n",
       "    <tr>\n",
       "      <th>25</th>\n",
       "      <td>https://bit.ly/3L0oHZp</td>\n",
       "      <td>0.17</td>\n",
       "      <td>Positive</td>\n",
       "      <td>0.42</td>\n",
       "      <td>economic, new, welcome, available, able, free,...</td>\n",
       "      <td>military, mental</td>\n",
       "      <td>norfolk, va. (wavy) – 10 on your side has conf...</td>\n",
       "      <td>[(1, 0.97605115), (2, 0.017575847)]</td>\n",
       "      <td>1</td>\n",
       "      <td>0.976051</td>\n",
       "    </tr>\n",
       "    <tr>\n",
       "      <th>26</th>\n",
       "      <td>https://fox40.com/news/political-connection/ho...</td>\n",
       "      <td>0.01</td>\n",
       "      <td>Neutral Negative</td>\n",
       "      <td>0.40</td>\n",
       "      <td>very, nearly, offers, major, complete, quickly...</td>\n",
       "      <td>drag, late, other, expected, complicated, leas...</td>\n",
       "      <td>this is an archived article and the informatio...</td>\n",
       "      <td>[(0, 0.99709225)]</td>\n",
       "      <td>0</td>\n",
       "      <td>0.997092</td>\n",
       "    </tr>\n",
       "    <tr>\n",
       "      <th>27</th>\n",
       "      <td>https://www.washingtonpost.com/history/2020/04...</td>\n",
       "      <td>-0.01</td>\n",
       "      <td>Neutral Negative</td>\n",
       "      <td>0.42</td>\n",
       "      <td>okay, intense, famous, safe, elementary, most,...</td>\n",
       "      <td>few, wrong, down, complicated, little, deadly,...</td>\n",
       "      <td>share comment on this story comment\\non aug. 3...</td>\n",
       "      <td>[(9, 0.9984339)]</td>\n",
       "      <td>9</td>\n",
       "      <td>0.998434</td>\n",
       "    </tr>\n",
       "    <tr>\n",
       "      <th>28</th>\n",
       "      <td>https://technofog.substack.com/p/our-woke-mili...</td>\n",
       "      <td>0.05</td>\n",
       "      <td>Neutral Positive</td>\n",
       "      <td>0.35</td>\n",
       "      <td>celebrated, willing, free, top, success, surpr...</td>\n",
       "      <td>spent, approximately, past, less, wide, least,...</td>\n",
       "      <td>the military is waging a two-front war on its ...</td>\n",
       "      <td>[(4, 0.99743575)]</td>\n",
       "      <td>4</td>\n",
       "      <td>0.997436</td>\n",
       "    </tr>\n",
       "  </tbody>\n",
       "</table>\n",
       "</div>"
      ],
      "text/plain": [
       "                                                  URL  Sentiment Score   \n",
       "0   https://www.thegatewaypundit.com/2022/05/world...             0.05  \\\n",
       "2   https://komonews.com/news/coronavirus/if-covid...             0.06   \n",
       "3   https://www.lewrockwell.com/2018/11/no_author/...             0.10   \n",
       "4   https://nation.com.pk/08-Apr-2021/russia-offer...             0.07   \n",
       "5   https://barrie.ctvnews.ca/cfb-borden-based-mil...            -0.02   \n",
       "7   https://www.dailysabah.com/world/europe/sweden...             0.03   \n",
       "8   https://www.military.com/daily-news/2022/11/01...             0.07   \n",
       "9   https://roundingtheearth.substack.com/p/defini...             0.09   \n",
       "11  https://childrenshealthdefense.org/defender/he...             0.10   \n",
       "14  https://www.foxnews.com/us/pentagon-rushed-den...             0.00   \n",
       "18  https://foxreno.com/news/coronavirus/us-marine...             0.04   \n",
       "19  https://www.health.mil/Military-Health-Topics/...             0.05   \n",
       "23  https://abc7amarillo.com/news/nation-world/nav...             0.10   \n",
       "25                             https://bit.ly/3L0oHZp             0.17   \n",
       "26  https://fox40.com/news/political-connection/ho...             0.01   \n",
       "27  https://www.washingtonpost.com/history/2020/04...            -0.01   \n",
       "28  https://technofog.substack.com/p/our-woke-mili...             0.05   \n",
       "\n",
       "     Sentiment Label  Subjectivity Score   \n",
       "0   Neutral Positive                0.28  \\\n",
       "2   Neutral Positive                0.36   \n",
       "3   Neutral Positive                0.41   \n",
       "4   Neutral Positive                0.28   \n",
       "5   Neutral Negative                0.38   \n",
       "7   Neutral Negative                0.30   \n",
       "8   Neutral Positive                0.46   \n",
       "9   Neutral Positive                0.41   \n",
       "11  Neutral Positive                0.40   \n",
       "14  Neutral Negative                0.42   \n",
       "18           Neutral                0.26   \n",
       "19  Neutral Positive                0.23   \n",
       "23  Neutral Positive                0.28   \n",
       "25          Positive                0.42   \n",
       "26  Neutral Negative                0.40   \n",
       "27  Neutral Negative                0.42   \n",
       "28  Neutral Positive                0.35   \n",
       "\n",
       "                                       Positive Words   \n",
       "0   near, effectively, confident, major, new, more...  \\\n",
       "2   social, largely, compelling, more, first, own,...   \n",
       "3   clearly, effectively, effective, far, historic...   \n",
       "4   early, greatly, natural, special, economic, im...   \n",
       "5     not, fine, willingly, first, unique, good, full   \n",
       "7           new, light, first, direct, directly, kind   \n",
       "8   near, developed, sincere, nearly, most, new, s...   \n",
       "9   modest, relevant, astounding, greatest, willin...   \n",
       "11  very, perfect, willing, overwhelming, free, to...   \n",
       "14                            quick, greater, general   \n",
       "18                               action, full, really   \n",
       "19  appealing, particular, important, many, genera...   \n",
       "23       available, legal, able, successfully, strong   \n",
       "25  economic, new, welcome, available, able, free,...   \n",
       "26  very, nearly, offers, major, complete, quickly...   \n",
       "27  okay, intense, famous, safe, elementary, most,...   \n",
       "28  celebrated, willing, free, top, success, surpr...   \n",
       "\n",
       "                                       Negative Words   \n",
       "0           needless, single, past, absolutely, other  \\\n",
       "2   excuse, unable, active, firm, failed, absolute...   \n",
       "3   few, unknown, long, hard, less, badly, past, w...   \n",
       "4                 foreign, military, actively, mainly   \n",
       "5   very, wrong, guilty, base, sorry, other, milit...   \n",
       "7   active, long, green, previously, foreign, mili...   \n",
       "8   active, firm, previous, limited, military, app...   \n",
       "9   few, very, down, long, average, foreign, terri...   \n",
       "11  down, unable, long, late, horrible, painful, m...   \n",
       "14    average, single, less, partial, other, military   \n",
       "18                                               past   \n",
       "19  seriously, previous, center, other, military, not   \n",
       "23                                           military   \n",
       "25                                   military, mental   \n",
       "26  drag, late, other, expected, complicated, leas...   \n",
       "27  few, wrong, down, complicated, little, deadly,...   \n",
       "28  spent, approximately, past, less, wide, least,...   \n",
       "\n",
       "                                                 Text   \n",
       "0   this week, global elitists and world leaders f...  \\\n",
       "2   president joe biden recently declared but unva...   \n",
       "3   the “spanish flu” killed an estimated 50-100 m...   \n",
       "4   islamabad - russia on wednesday assured pakist...   \n",
       "5   a canadian armed forces officer who urged othe...   \n",
       "7   sweden will break its doctrine of not sending ...   \n",
       "8   the air force is allowing instructors who rema...   \n",
       "9   we need for members of congress and other amer...   \n",
       "11  heather elkins, 45, couldn’t get a medical exe...   \n",
       "14  a pentagon report found the military was likel...   \n",
       "18  the us. marine corps is temporarily allowing v...   \n",
       "19  vaccination programs are important to military...   \n",
       "23  in a unanimous decision, a navy administrative...   \n",
       "25  norfolk, va. (wavy) – 10 on your side has conf...   \n",
       "26  this is an archived article and the informatio...   \n",
       "27  share comment on this story comment\\non aug. 3...   \n",
       "28  the military is waging a two-front war on its ...   \n",
       "\n",
       "                                 Topics  Main Topic  Main Topic Score  \n",
       "0                     [(10, 0.9960617)]          10          0.996062  \n",
       "2    [(3, 0.6574597), (14, 0.33616692)]           3          0.657460  \n",
       "3                     [(3, 0.99872655)]           3          0.998727  \n",
       "4    [(2, 0.9007007), (5, 0.096258104)]           2          0.900701  \n",
       "5                     [(7, 0.99750423)]           7          0.997504  \n",
       "7                     [(11, 0.9933331)]          11          0.993333  \n",
       "8                    [(14, 0.99337834)]          14          0.993378  \n",
       "9                     [(13, 0.9979293)]          13          0.997929  \n",
       "11                     [(7, 0.9983879)]           7          0.998388  \n",
       "14                     [(4, 0.9943772)]           4          0.994377  \n",
       "18                     [(0, 0.9918122)]           0          0.991812  \n",
       "19                    [(2, 0.99726284)]           2          0.997263  \n",
       "23                    [(0, 0.99342674)]           0          0.993427  \n",
       "25  [(1, 0.97605115), (2, 0.017575847)]           1          0.976051  \n",
       "26                    [(0, 0.99709225)]           0          0.997092  \n",
       "27                     [(9, 0.9984339)]           9          0.998434  \n",
       "28                    [(4, 0.99743575)]           4          0.997436  "
      ]
     },
     "execution_count": 154,
     "metadata": {},
     "output_type": "execute_result"
    }
   ],
   "source": [
    "#making a new dataframe \n",
    "df_main_topic = add_main_topic_dataframe(df, LDA_model, corpus)\n",
    "\n",
    "df_main_topic\n",
    "\n",
    "#LDA_model.get_document_topics(corpus)\n",
    "#df['Topics'] = LDA_model.get_document_topics(corpus)\n",
    "#df.shape"
   ]
  },
  {
   "cell_type": "markdown",
   "id": "9587fb26",
   "metadata": {},
   "source": [
    "## Visualize all articles on their main topic"
   ]
  },
  {
   "cell_type": "code",
   "execution_count": 155,
   "id": "f85d1cda",
   "metadata": {
    "scrolled": false
   },
   "outputs": [
    {
     "data": {
      "application/vnd.plotly.v1+json": {
       "config": {
        "plotlyServerURL": "https://plot.ly"
       },
       "data": [
        {
         "customdata": [
          [
           "https://fox40.com/news/political-co",
           "Neutral Negative",
           0.9970922470092773
          ],
          [
           "https://abc7amarillo.com/news/natio",
           "Neutral Positive",
           0.9934267401695251
          ],
          [
           "https://foxreno.com/news/coronaviru",
           "Neutral",
           0.9918122291564941
          ],
          [
           "https://bit.ly/3L0oHZp",
           "Positive",
           0.9760511517524719
          ],
          [
           "https://nation.com.pk/08-Apr-2021/r",
           "Neutral Positive",
           0.9007006883621216
          ],
          [
           "https://www.health.mil/Military-Hea",
           "Neutral Positive",
           0.9972628355026245
          ],
          [
           "https://komonews.com/news/coronavir",
           "Neutral Positive",
           0.6574596762657166
          ],
          [
           "https://www.lewrockwell.com/2018/11",
           "Neutral Positive",
           0.9987265467643738
          ],
          [
           "https://technofog.substack.com/p/ou",
           "Neutral Positive",
           0.9974357485771179
          ],
          [
           "https://www.foxnews.com/us/pentagon",
           "Neutral Negative",
           0.9943771958351135
          ],
          [
           "https://childrenshealthdefense.org/",
           "Neutral Positive",
           0.99838787317276
          ],
          [
           "https://barrie.ctvnews.ca/cfb-borde",
           "Neutral Negative",
           0.9975042343139648
          ],
          [
           "https://www.washingtonpost.com/hist",
           "Neutral Negative",
           0.9984338879585266
          ],
          [
           "https://www.thegatewaypundit.com/20",
           "Neutral Positive",
           0.9960616827011108
          ],
          [
           "https://www.dailysabah.com/world/eu",
           "Neutral Negative",
           0.993333101272583
          ],
          [
           "https://roundingtheearth.substack.c",
           "Neutral Positive",
           0.9979292750358582
          ],
          [
           "https://www.military.com/daily-news",
           "Neutral Positive",
           0.9933783411979675
          ]
         ],
         "hovertemplate": "Address: %{customdata[0]}<br>Sentiment Label: %{customdata[1]}<br>Main Topic Score :%{customdata[2]}",
         "legendgroup": "",
         "marker": {
          "color": "#636efa",
          "size": [
           0.9970922470092773,
           0.9934267401695251,
           0.9918122291564941,
           0.9760511517524719,
           0.9007006883621216,
           0.9972628355026245,
           0.6574596762657166,
           0.9987265467643738,
           0.9974357485771179,
           0.9943771958351135,
           0.99838787317276,
           0.9975042343139648,
           0.9984338879585266,
           0.9960616827011108,
           0.993333101272583,
           0.9979292750358582,
           0.9933783411979675
          ],
          "sizemode": "area",
          "sizeref": 0.0024968163669109346,
          "symbol": "circle"
         },
         "mode": "markers",
         "name": "",
         "orientation": "v",
         "showlegend": false,
         "type": "scatter",
         "x": [
          0,
          0,
          0,
          1,
          2,
          2,
          3,
          3,
          4,
          4,
          7,
          7,
          9,
          10,
          11,
          13,
          14
         ],
         "xaxis": "x",
         "y": [
          0.01,
          0.1,
          0.04,
          0.17,
          0.07,
          0.05,
          0.06,
          0.1,
          0.05,
          0,
          0.1,
          -0.02,
          -0.01,
          0.05,
          0.03,
          0.09,
          0.07
         ],
         "yaxis": "y"
        }
       ],
       "layout": {
        "legend": {
         "itemsizing": "constant",
         "tracegroupgap": 0
        },
        "template": {
         "data": {
          "bar": [
           {
            "error_x": {
             "color": "#2a3f5f"
            },
            "error_y": {
             "color": "#2a3f5f"
            },
            "marker": {
             "line": {
              "color": "#E5ECF6",
              "width": 0.5
             },
             "pattern": {
              "fillmode": "overlay",
              "size": 10,
              "solidity": 0.2
             }
            },
            "type": "bar"
           }
          ],
          "barpolar": [
           {
            "marker": {
             "line": {
              "color": "#E5ECF6",
              "width": 0.5
             },
             "pattern": {
              "fillmode": "overlay",
              "size": 10,
              "solidity": 0.2
             }
            },
            "type": "barpolar"
           }
          ],
          "carpet": [
           {
            "aaxis": {
             "endlinecolor": "#2a3f5f",
             "gridcolor": "white",
             "linecolor": "white",
             "minorgridcolor": "white",
             "startlinecolor": "#2a3f5f"
            },
            "baxis": {
             "endlinecolor": "#2a3f5f",
             "gridcolor": "white",
             "linecolor": "white",
             "minorgridcolor": "white",
             "startlinecolor": "#2a3f5f"
            },
            "type": "carpet"
           }
          ],
          "choropleth": [
           {
            "colorbar": {
             "outlinewidth": 0,
             "ticks": ""
            },
            "type": "choropleth"
           }
          ],
          "contour": [
           {
            "colorbar": {
             "outlinewidth": 0,
             "ticks": ""
            },
            "colorscale": [
             [
              0,
              "#0d0887"
             ],
             [
              0.1111111111111111,
              "#46039f"
             ],
             [
              0.2222222222222222,
              "#7201a8"
             ],
             [
              0.3333333333333333,
              "#9c179e"
             ],
             [
              0.4444444444444444,
              "#bd3786"
             ],
             [
              0.5555555555555556,
              "#d8576b"
             ],
             [
              0.6666666666666666,
              "#ed7953"
             ],
             [
              0.7777777777777778,
              "#fb9f3a"
             ],
             [
              0.8888888888888888,
              "#fdca26"
             ],
             [
              1,
              "#f0f921"
             ]
            ],
            "type": "contour"
           }
          ],
          "contourcarpet": [
           {
            "colorbar": {
             "outlinewidth": 0,
             "ticks": ""
            },
            "type": "contourcarpet"
           }
          ],
          "heatmap": [
           {
            "colorbar": {
             "outlinewidth": 0,
             "ticks": ""
            },
            "colorscale": [
             [
              0,
              "#0d0887"
             ],
             [
              0.1111111111111111,
              "#46039f"
             ],
             [
              0.2222222222222222,
              "#7201a8"
             ],
             [
              0.3333333333333333,
              "#9c179e"
             ],
             [
              0.4444444444444444,
              "#bd3786"
             ],
             [
              0.5555555555555556,
              "#d8576b"
             ],
             [
              0.6666666666666666,
              "#ed7953"
             ],
             [
              0.7777777777777778,
              "#fb9f3a"
             ],
             [
              0.8888888888888888,
              "#fdca26"
             ],
             [
              1,
              "#f0f921"
             ]
            ],
            "type": "heatmap"
           }
          ],
          "heatmapgl": [
           {
            "colorbar": {
             "outlinewidth": 0,
             "ticks": ""
            },
            "colorscale": [
             [
              0,
              "#0d0887"
             ],
             [
              0.1111111111111111,
              "#46039f"
             ],
             [
              0.2222222222222222,
              "#7201a8"
             ],
             [
              0.3333333333333333,
              "#9c179e"
             ],
             [
              0.4444444444444444,
              "#bd3786"
             ],
             [
              0.5555555555555556,
              "#d8576b"
             ],
             [
              0.6666666666666666,
              "#ed7953"
             ],
             [
              0.7777777777777778,
              "#fb9f3a"
             ],
             [
              0.8888888888888888,
              "#fdca26"
             ],
             [
              1,
              "#f0f921"
             ]
            ],
            "type": "heatmapgl"
           }
          ],
          "histogram": [
           {
            "marker": {
             "pattern": {
              "fillmode": "overlay",
              "size": 10,
              "solidity": 0.2
             }
            },
            "type": "histogram"
           }
          ],
          "histogram2d": [
           {
            "colorbar": {
             "outlinewidth": 0,
             "ticks": ""
            },
            "colorscale": [
             [
              0,
              "#0d0887"
             ],
             [
              0.1111111111111111,
              "#46039f"
             ],
             [
              0.2222222222222222,
              "#7201a8"
             ],
             [
              0.3333333333333333,
              "#9c179e"
             ],
             [
              0.4444444444444444,
              "#bd3786"
             ],
             [
              0.5555555555555556,
              "#d8576b"
             ],
             [
              0.6666666666666666,
              "#ed7953"
             ],
             [
              0.7777777777777778,
              "#fb9f3a"
             ],
             [
              0.8888888888888888,
              "#fdca26"
             ],
             [
              1,
              "#f0f921"
             ]
            ],
            "type": "histogram2d"
           }
          ],
          "histogram2dcontour": [
           {
            "colorbar": {
             "outlinewidth": 0,
             "ticks": ""
            },
            "colorscale": [
             [
              0,
              "#0d0887"
             ],
             [
              0.1111111111111111,
              "#46039f"
             ],
             [
              0.2222222222222222,
              "#7201a8"
             ],
             [
              0.3333333333333333,
              "#9c179e"
             ],
             [
              0.4444444444444444,
              "#bd3786"
             ],
             [
              0.5555555555555556,
              "#d8576b"
             ],
             [
              0.6666666666666666,
              "#ed7953"
             ],
             [
              0.7777777777777778,
              "#fb9f3a"
             ],
             [
              0.8888888888888888,
              "#fdca26"
             ],
             [
              1,
              "#f0f921"
             ]
            ],
            "type": "histogram2dcontour"
           }
          ],
          "mesh3d": [
           {
            "colorbar": {
             "outlinewidth": 0,
             "ticks": ""
            },
            "type": "mesh3d"
           }
          ],
          "parcoords": [
           {
            "line": {
             "colorbar": {
              "outlinewidth": 0,
              "ticks": ""
             }
            },
            "type": "parcoords"
           }
          ],
          "pie": [
           {
            "automargin": true,
            "type": "pie"
           }
          ],
          "scatter": [
           {
            "fillpattern": {
             "fillmode": "overlay",
             "size": 10,
             "solidity": 0.2
            },
            "type": "scatter"
           }
          ],
          "scatter3d": [
           {
            "line": {
             "colorbar": {
              "outlinewidth": 0,
              "ticks": ""
             }
            },
            "marker": {
             "colorbar": {
              "outlinewidth": 0,
              "ticks": ""
             }
            },
            "type": "scatter3d"
           }
          ],
          "scattercarpet": [
           {
            "marker": {
             "colorbar": {
              "outlinewidth": 0,
              "ticks": ""
             }
            },
            "type": "scattercarpet"
           }
          ],
          "scattergeo": [
           {
            "marker": {
             "colorbar": {
              "outlinewidth": 0,
              "ticks": ""
             }
            },
            "type": "scattergeo"
           }
          ],
          "scattergl": [
           {
            "marker": {
             "colorbar": {
              "outlinewidth": 0,
              "ticks": ""
             }
            },
            "type": "scattergl"
           }
          ],
          "scattermapbox": [
           {
            "marker": {
             "colorbar": {
              "outlinewidth": 0,
              "ticks": ""
             }
            },
            "type": "scattermapbox"
           }
          ],
          "scatterpolar": [
           {
            "marker": {
             "colorbar": {
              "outlinewidth": 0,
              "ticks": ""
             }
            },
            "type": "scatterpolar"
           }
          ],
          "scatterpolargl": [
           {
            "marker": {
             "colorbar": {
              "outlinewidth": 0,
              "ticks": ""
             }
            },
            "type": "scatterpolargl"
           }
          ],
          "scatterternary": [
           {
            "marker": {
             "colorbar": {
              "outlinewidth": 0,
              "ticks": ""
             }
            },
            "type": "scatterternary"
           }
          ],
          "surface": [
           {
            "colorbar": {
             "outlinewidth": 0,
             "ticks": ""
            },
            "colorscale": [
             [
              0,
              "#0d0887"
             ],
             [
              0.1111111111111111,
              "#46039f"
             ],
             [
              0.2222222222222222,
              "#7201a8"
             ],
             [
              0.3333333333333333,
              "#9c179e"
             ],
             [
              0.4444444444444444,
              "#bd3786"
             ],
             [
              0.5555555555555556,
              "#d8576b"
             ],
             [
              0.6666666666666666,
              "#ed7953"
             ],
             [
              0.7777777777777778,
              "#fb9f3a"
             ],
             [
              0.8888888888888888,
              "#fdca26"
             ],
             [
              1,
              "#f0f921"
             ]
            ],
            "type": "surface"
           }
          ],
          "table": [
           {
            "cells": {
             "fill": {
              "color": "#EBF0F8"
             },
             "line": {
              "color": "white"
             }
            },
            "header": {
             "fill": {
              "color": "#C8D4E3"
             },
             "line": {
              "color": "white"
             }
            },
            "type": "table"
           }
          ]
         },
         "layout": {
          "annotationdefaults": {
           "arrowcolor": "#2a3f5f",
           "arrowhead": 0,
           "arrowwidth": 1
          },
          "autotypenumbers": "strict",
          "coloraxis": {
           "colorbar": {
            "outlinewidth": 0,
            "ticks": ""
           }
          },
          "colorscale": {
           "diverging": [
            [
             0,
             "#8e0152"
            ],
            [
             0.1,
             "#c51b7d"
            ],
            [
             0.2,
             "#de77ae"
            ],
            [
             0.3,
             "#f1b6da"
            ],
            [
             0.4,
             "#fde0ef"
            ],
            [
             0.5,
             "#f7f7f7"
            ],
            [
             0.6,
             "#e6f5d0"
            ],
            [
             0.7,
             "#b8e186"
            ],
            [
             0.8,
             "#7fbc41"
            ],
            [
             0.9,
             "#4d9221"
            ],
            [
             1,
             "#276419"
            ]
           ],
           "sequential": [
            [
             0,
             "#0d0887"
            ],
            [
             0.1111111111111111,
             "#46039f"
            ],
            [
             0.2222222222222222,
             "#7201a8"
            ],
            [
             0.3333333333333333,
             "#9c179e"
            ],
            [
             0.4444444444444444,
             "#bd3786"
            ],
            [
             0.5555555555555556,
             "#d8576b"
            ],
            [
             0.6666666666666666,
             "#ed7953"
            ],
            [
             0.7777777777777778,
             "#fb9f3a"
            ],
            [
             0.8888888888888888,
             "#fdca26"
            ],
            [
             1,
             "#f0f921"
            ]
           ],
           "sequentialminus": [
            [
             0,
             "#0d0887"
            ],
            [
             0.1111111111111111,
             "#46039f"
            ],
            [
             0.2222222222222222,
             "#7201a8"
            ],
            [
             0.3333333333333333,
             "#9c179e"
            ],
            [
             0.4444444444444444,
             "#bd3786"
            ],
            [
             0.5555555555555556,
             "#d8576b"
            ],
            [
             0.6666666666666666,
             "#ed7953"
            ],
            [
             0.7777777777777778,
             "#fb9f3a"
            ],
            [
             0.8888888888888888,
             "#fdca26"
            ],
            [
             1,
             "#f0f921"
            ]
           ]
          },
          "colorway": [
           "#636efa",
           "#EF553B",
           "#00cc96",
           "#ab63fa",
           "#FFA15A",
           "#19d3f3",
           "#FF6692",
           "#B6E880",
           "#FF97FF",
           "#FECB52"
          ],
          "font": {
           "color": "#2a3f5f"
          },
          "geo": {
           "bgcolor": "white",
           "lakecolor": "white",
           "landcolor": "#E5ECF6",
           "showlakes": true,
           "showland": true,
           "subunitcolor": "white"
          },
          "hoverlabel": {
           "align": "left"
          },
          "hovermode": "closest",
          "mapbox": {
           "style": "light"
          },
          "paper_bgcolor": "white",
          "plot_bgcolor": "#E5ECF6",
          "polar": {
           "angularaxis": {
            "gridcolor": "white",
            "linecolor": "white",
            "ticks": ""
           },
           "bgcolor": "#E5ECF6",
           "radialaxis": {
            "gridcolor": "white",
            "linecolor": "white",
            "ticks": ""
           }
          },
          "scene": {
           "xaxis": {
            "backgroundcolor": "#E5ECF6",
            "gridcolor": "white",
            "gridwidth": 2,
            "linecolor": "white",
            "showbackground": true,
            "ticks": "",
            "zerolinecolor": "white"
           },
           "yaxis": {
            "backgroundcolor": "#E5ECF6",
            "gridcolor": "white",
            "gridwidth": 2,
            "linecolor": "white",
            "showbackground": true,
            "ticks": "",
            "zerolinecolor": "white"
           },
           "zaxis": {
            "backgroundcolor": "#E5ECF6",
            "gridcolor": "white",
            "gridwidth": 2,
            "linecolor": "white",
            "showbackground": true,
            "ticks": "",
            "zerolinecolor": "white"
           }
          },
          "shapedefaults": {
           "line": {
            "color": "#2a3f5f"
           }
          },
          "ternary": {
           "aaxis": {
            "gridcolor": "white",
            "linecolor": "white",
            "ticks": ""
           },
           "baxis": {
            "gridcolor": "white",
            "linecolor": "white",
            "ticks": ""
           },
           "bgcolor": "#E5ECF6",
           "caxis": {
            "gridcolor": "white",
            "linecolor": "white",
            "ticks": ""
           }
          },
          "title": {
           "x": 0.05
          },
          "xaxis": {
           "automargin": true,
           "gridcolor": "white",
           "linecolor": "white",
           "ticks": "",
           "title": {
            "standoff": 15
           },
           "zerolinecolor": "white",
           "zerolinewidth": 2
          },
          "yaxis": {
           "automargin": true,
           "gridcolor": "white",
           "linecolor": "white",
           "ticks": "",
           "title": {
            "standoff": 15
           },
           "zerolinecolor": "white",
           "zerolinewidth": 2
          }
         }
        },
        "title": {
         "text": "Articles Sorted By Main Topic"
        },
        "xaxis": {
         "anchor": "y",
         "domain": [
          0,
          1
         ],
         "title": {
          "text": "Main Topic"
         },
         "type": "category"
        },
        "yaxis": {
         "anchor": "x",
         "domain": [
          0,
          1
         ],
         "title": {
          "text": "Sentiment Score"
         }
        }
       }
      },
      "text/html": [
       "<div>                            <div id=\"f4a36951-f7ff-467f-ba16-bacc3e0fed2a\" class=\"plotly-graph-div\" style=\"height:525px; width:100%;\"></div>            <script type=\"text/javascript\">                require([\"plotly\"], function(Plotly) {                    window.PLOTLYENV=window.PLOTLYENV || {};                                    if (document.getElementById(\"f4a36951-f7ff-467f-ba16-bacc3e0fed2a\")) {                    Plotly.newPlot(                        \"f4a36951-f7ff-467f-ba16-bacc3e0fed2a\",                        [{\"customdata\":[[\"https:\\u002f\\u002ffox40.com\\u002fnews\\u002fpolitical-co\",\"Neutral Negative\",0.9970922470092773],[\"https:\\u002f\\u002fabc7amarillo.com\\u002fnews\\u002fnatio\",\"Neutral Positive\",0.9934267401695251],[\"https:\\u002f\\u002ffoxreno.com\\u002fnews\\u002fcoronaviru\",\"Neutral\",0.9918122291564941],[\"https:\\u002f\\u002fbit.ly\\u002f3L0oHZp\",\"Positive\",0.9760511517524719],[\"https:\\u002f\\u002fnation.com.pk\\u002f08-Apr-2021\\u002fr\",\"Neutral Positive\",0.9007006883621216],[\"https:\\u002f\\u002fwww.health.mil\\u002fMilitary-Hea\",\"Neutral Positive\",0.9972628355026245],[\"https:\\u002f\\u002fkomonews.com\\u002fnews\\u002fcoronavir\",\"Neutral Positive\",0.6574596762657166],[\"https:\\u002f\\u002fwww.lewrockwell.com\\u002f2018\\u002f11\",\"Neutral Positive\",0.9987265467643738],[\"https:\\u002f\\u002ftechnofog.substack.com\\u002fp\\u002fou\",\"Neutral Positive\",0.9974357485771179],[\"https:\\u002f\\u002fwww.foxnews.com\\u002fus\\u002fpentagon\",\"Neutral Negative\",0.9943771958351135],[\"https:\\u002f\\u002fchildrenshealthdefense.org\\u002f\",\"Neutral Positive\",0.99838787317276],[\"https:\\u002f\\u002fbarrie.ctvnews.ca\\u002fcfb-borde\",\"Neutral Negative\",0.9975042343139648],[\"https:\\u002f\\u002fwww.washingtonpost.com\\u002fhist\",\"Neutral Negative\",0.9984338879585266],[\"https:\\u002f\\u002fwww.thegatewaypundit.com\\u002f20\",\"Neutral Positive\",0.9960616827011108],[\"https:\\u002f\\u002fwww.dailysabah.com\\u002fworld\\u002feu\",\"Neutral Negative\",0.993333101272583],[\"https:\\u002f\\u002froundingtheearth.substack.c\",\"Neutral Positive\",0.9979292750358582],[\"https:\\u002f\\u002fwww.military.com\\u002fdaily-news\",\"Neutral Positive\",0.9933783411979675]],\"hovertemplate\":\"Address: %{customdata[0]}\\u003cbr\\u003eSentiment Label: %{customdata[1]}\\u003cbr\\u003eMain Topic Score :%{customdata[2]}\",\"legendgroup\":\"\",\"marker\":{\"color\":\"#636efa\",\"size\":[0.9970922470092773,0.9934267401695251,0.9918122291564941,0.9760511517524719,0.9007006883621216,0.9972628355026245,0.6574596762657166,0.9987265467643738,0.9974357485771179,0.9943771958351135,0.99838787317276,0.9975042343139648,0.9984338879585266,0.9960616827011108,0.993333101272583,0.9979292750358582,0.9933783411979675],\"sizemode\":\"area\",\"sizeref\":0.0024968163669109346,\"symbol\":\"circle\"},\"mode\":\"markers\",\"name\":\"\",\"orientation\":\"v\",\"showlegend\":false,\"x\":[0,0,0,1,2,2,3,3,4,4,7,7,9,10,11,13,14],\"xaxis\":\"x\",\"y\":[0.01,0.1,0.04,0.17,0.07,0.05,0.06,0.1,0.05,0.0,0.1,-0.02,-0.01,0.05,0.03,0.09,0.07],\"yaxis\":\"y\",\"type\":\"scatter\"}],                        {\"template\":{\"data\":{\"histogram2dcontour\":[{\"type\":\"histogram2dcontour\",\"colorbar\":{\"outlinewidth\":0,\"ticks\":\"\"},\"colorscale\":[[0.0,\"#0d0887\"],[0.1111111111111111,\"#46039f\"],[0.2222222222222222,\"#7201a8\"],[0.3333333333333333,\"#9c179e\"],[0.4444444444444444,\"#bd3786\"],[0.5555555555555556,\"#d8576b\"],[0.6666666666666666,\"#ed7953\"],[0.7777777777777778,\"#fb9f3a\"],[0.8888888888888888,\"#fdca26\"],[1.0,\"#f0f921\"]]}],\"choropleth\":[{\"type\":\"choropleth\",\"colorbar\":{\"outlinewidth\":0,\"ticks\":\"\"}}],\"histogram2d\":[{\"type\":\"histogram2d\",\"colorbar\":{\"outlinewidth\":0,\"ticks\":\"\"},\"colorscale\":[[0.0,\"#0d0887\"],[0.1111111111111111,\"#46039f\"],[0.2222222222222222,\"#7201a8\"],[0.3333333333333333,\"#9c179e\"],[0.4444444444444444,\"#bd3786\"],[0.5555555555555556,\"#d8576b\"],[0.6666666666666666,\"#ed7953\"],[0.7777777777777778,\"#fb9f3a\"],[0.8888888888888888,\"#fdca26\"],[1.0,\"#f0f921\"]]}],\"heatmap\":[{\"type\":\"heatmap\",\"colorbar\":{\"outlinewidth\":0,\"ticks\":\"\"},\"colorscale\":[[0.0,\"#0d0887\"],[0.1111111111111111,\"#46039f\"],[0.2222222222222222,\"#7201a8\"],[0.3333333333333333,\"#9c179e\"],[0.4444444444444444,\"#bd3786\"],[0.5555555555555556,\"#d8576b\"],[0.6666666666666666,\"#ed7953\"],[0.7777777777777778,\"#fb9f3a\"],[0.8888888888888888,\"#fdca26\"],[1.0,\"#f0f921\"]]}],\"heatmapgl\":[{\"type\":\"heatmapgl\",\"colorbar\":{\"outlinewidth\":0,\"ticks\":\"\"},\"colorscale\":[[0.0,\"#0d0887\"],[0.1111111111111111,\"#46039f\"],[0.2222222222222222,\"#7201a8\"],[0.3333333333333333,\"#9c179e\"],[0.4444444444444444,\"#bd3786\"],[0.5555555555555556,\"#d8576b\"],[0.6666666666666666,\"#ed7953\"],[0.7777777777777778,\"#fb9f3a\"],[0.8888888888888888,\"#fdca26\"],[1.0,\"#f0f921\"]]}],\"contourcarpet\":[{\"type\":\"contourcarpet\",\"colorbar\":{\"outlinewidth\":0,\"ticks\":\"\"}}],\"contour\":[{\"type\":\"contour\",\"colorbar\":{\"outlinewidth\":0,\"ticks\":\"\"},\"colorscale\":[[0.0,\"#0d0887\"],[0.1111111111111111,\"#46039f\"],[0.2222222222222222,\"#7201a8\"],[0.3333333333333333,\"#9c179e\"],[0.4444444444444444,\"#bd3786\"],[0.5555555555555556,\"#d8576b\"],[0.6666666666666666,\"#ed7953\"],[0.7777777777777778,\"#fb9f3a\"],[0.8888888888888888,\"#fdca26\"],[1.0,\"#f0f921\"]]}],\"surface\":[{\"type\":\"surface\",\"colorbar\":{\"outlinewidth\":0,\"ticks\":\"\"},\"colorscale\":[[0.0,\"#0d0887\"],[0.1111111111111111,\"#46039f\"],[0.2222222222222222,\"#7201a8\"],[0.3333333333333333,\"#9c179e\"],[0.4444444444444444,\"#bd3786\"],[0.5555555555555556,\"#d8576b\"],[0.6666666666666666,\"#ed7953\"],[0.7777777777777778,\"#fb9f3a\"],[0.8888888888888888,\"#fdca26\"],[1.0,\"#f0f921\"]]}],\"mesh3d\":[{\"type\":\"mesh3d\",\"colorbar\":{\"outlinewidth\":0,\"ticks\":\"\"}}],\"scatter\":[{\"fillpattern\":{\"fillmode\":\"overlay\",\"size\":10,\"solidity\":0.2},\"type\":\"scatter\"}],\"parcoords\":[{\"type\":\"parcoords\",\"line\":{\"colorbar\":{\"outlinewidth\":0,\"ticks\":\"\"}}}],\"scatterpolargl\":[{\"type\":\"scatterpolargl\",\"marker\":{\"colorbar\":{\"outlinewidth\":0,\"ticks\":\"\"}}}],\"bar\":[{\"error_x\":{\"color\":\"#2a3f5f\"},\"error_y\":{\"color\":\"#2a3f5f\"},\"marker\":{\"line\":{\"color\":\"#E5ECF6\",\"width\":0.5},\"pattern\":{\"fillmode\":\"overlay\",\"size\":10,\"solidity\":0.2}},\"type\":\"bar\"}],\"scattergeo\":[{\"type\":\"scattergeo\",\"marker\":{\"colorbar\":{\"outlinewidth\":0,\"ticks\":\"\"}}}],\"scatterpolar\":[{\"type\":\"scatterpolar\",\"marker\":{\"colorbar\":{\"outlinewidth\":0,\"ticks\":\"\"}}}],\"histogram\":[{\"marker\":{\"pattern\":{\"fillmode\":\"overlay\",\"size\":10,\"solidity\":0.2}},\"type\":\"histogram\"}],\"scattergl\":[{\"type\":\"scattergl\",\"marker\":{\"colorbar\":{\"outlinewidth\":0,\"ticks\":\"\"}}}],\"scatter3d\":[{\"type\":\"scatter3d\",\"line\":{\"colorbar\":{\"outlinewidth\":0,\"ticks\":\"\"}},\"marker\":{\"colorbar\":{\"outlinewidth\":0,\"ticks\":\"\"}}}],\"scattermapbox\":[{\"type\":\"scattermapbox\",\"marker\":{\"colorbar\":{\"outlinewidth\":0,\"ticks\":\"\"}}}],\"scatterternary\":[{\"type\":\"scatterternary\",\"marker\":{\"colorbar\":{\"outlinewidth\":0,\"ticks\":\"\"}}}],\"scattercarpet\":[{\"type\":\"scattercarpet\",\"marker\":{\"colorbar\":{\"outlinewidth\":0,\"ticks\":\"\"}}}],\"carpet\":[{\"aaxis\":{\"endlinecolor\":\"#2a3f5f\",\"gridcolor\":\"white\",\"linecolor\":\"white\",\"minorgridcolor\":\"white\",\"startlinecolor\":\"#2a3f5f\"},\"baxis\":{\"endlinecolor\":\"#2a3f5f\",\"gridcolor\":\"white\",\"linecolor\":\"white\",\"minorgridcolor\":\"white\",\"startlinecolor\":\"#2a3f5f\"},\"type\":\"carpet\"}],\"table\":[{\"cells\":{\"fill\":{\"color\":\"#EBF0F8\"},\"line\":{\"color\":\"white\"}},\"header\":{\"fill\":{\"color\":\"#C8D4E3\"},\"line\":{\"color\":\"white\"}},\"type\":\"table\"}],\"barpolar\":[{\"marker\":{\"line\":{\"color\":\"#E5ECF6\",\"width\":0.5},\"pattern\":{\"fillmode\":\"overlay\",\"size\":10,\"solidity\":0.2}},\"type\":\"barpolar\"}],\"pie\":[{\"automargin\":true,\"type\":\"pie\"}]},\"layout\":{\"autotypenumbers\":\"strict\",\"colorway\":[\"#636efa\",\"#EF553B\",\"#00cc96\",\"#ab63fa\",\"#FFA15A\",\"#19d3f3\",\"#FF6692\",\"#B6E880\",\"#FF97FF\",\"#FECB52\"],\"font\":{\"color\":\"#2a3f5f\"},\"hovermode\":\"closest\",\"hoverlabel\":{\"align\":\"left\"},\"paper_bgcolor\":\"white\",\"plot_bgcolor\":\"#E5ECF6\",\"polar\":{\"bgcolor\":\"#E5ECF6\",\"angularaxis\":{\"gridcolor\":\"white\",\"linecolor\":\"white\",\"ticks\":\"\"},\"radialaxis\":{\"gridcolor\":\"white\",\"linecolor\":\"white\",\"ticks\":\"\"}},\"ternary\":{\"bgcolor\":\"#E5ECF6\",\"aaxis\":{\"gridcolor\":\"white\",\"linecolor\":\"white\",\"ticks\":\"\"},\"baxis\":{\"gridcolor\":\"white\",\"linecolor\":\"white\",\"ticks\":\"\"},\"caxis\":{\"gridcolor\":\"white\",\"linecolor\":\"white\",\"ticks\":\"\"}},\"coloraxis\":{\"colorbar\":{\"outlinewidth\":0,\"ticks\":\"\"}},\"colorscale\":{\"sequential\":[[0.0,\"#0d0887\"],[0.1111111111111111,\"#46039f\"],[0.2222222222222222,\"#7201a8\"],[0.3333333333333333,\"#9c179e\"],[0.4444444444444444,\"#bd3786\"],[0.5555555555555556,\"#d8576b\"],[0.6666666666666666,\"#ed7953\"],[0.7777777777777778,\"#fb9f3a\"],[0.8888888888888888,\"#fdca26\"],[1.0,\"#f0f921\"]],\"sequentialminus\":[[0.0,\"#0d0887\"],[0.1111111111111111,\"#46039f\"],[0.2222222222222222,\"#7201a8\"],[0.3333333333333333,\"#9c179e\"],[0.4444444444444444,\"#bd3786\"],[0.5555555555555556,\"#d8576b\"],[0.6666666666666666,\"#ed7953\"],[0.7777777777777778,\"#fb9f3a\"],[0.8888888888888888,\"#fdca26\"],[1.0,\"#f0f921\"]],\"diverging\":[[0,\"#8e0152\"],[0.1,\"#c51b7d\"],[0.2,\"#de77ae\"],[0.3,\"#f1b6da\"],[0.4,\"#fde0ef\"],[0.5,\"#f7f7f7\"],[0.6,\"#e6f5d0\"],[0.7,\"#b8e186\"],[0.8,\"#7fbc41\"],[0.9,\"#4d9221\"],[1,\"#276419\"]]},\"xaxis\":{\"gridcolor\":\"white\",\"linecolor\":\"white\",\"ticks\":\"\",\"title\":{\"standoff\":15},\"zerolinecolor\":\"white\",\"automargin\":true,\"zerolinewidth\":2},\"yaxis\":{\"gridcolor\":\"white\",\"linecolor\":\"white\",\"ticks\":\"\",\"title\":{\"standoff\":15},\"zerolinecolor\":\"white\",\"automargin\":true,\"zerolinewidth\":2},\"scene\":{\"xaxis\":{\"backgroundcolor\":\"#E5ECF6\",\"gridcolor\":\"white\",\"linecolor\":\"white\",\"showbackground\":true,\"ticks\":\"\",\"zerolinecolor\":\"white\",\"gridwidth\":2},\"yaxis\":{\"backgroundcolor\":\"#E5ECF6\",\"gridcolor\":\"white\",\"linecolor\":\"white\",\"showbackground\":true,\"ticks\":\"\",\"zerolinecolor\":\"white\",\"gridwidth\":2},\"zaxis\":{\"backgroundcolor\":\"#E5ECF6\",\"gridcolor\":\"white\",\"linecolor\":\"white\",\"showbackground\":true,\"ticks\":\"\",\"zerolinecolor\":\"white\",\"gridwidth\":2}},\"shapedefaults\":{\"line\":{\"color\":\"#2a3f5f\"}},\"annotationdefaults\":{\"arrowcolor\":\"#2a3f5f\",\"arrowhead\":0,\"arrowwidth\":1},\"geo\":{\"bgcolor\":\"white\",\"landcolor\":\"#E5ECF6\",\"subunitcolor\":\"white\",\"showland\":true,\"showlakes\":true,\"lakecolor\":\"white\"},\"title\":{\"x\":0.05},\"mapbox\":{\"style\":\"light\"}}},\"xaxis\":{\"anchor\":\"y\",\"domain\":[0.0,1.0],\"title\":{\"text\":\"Main Topic\"},\"type\":\"category\"},\"yaxis\":{\"anchor\":\"x\",\"domain\":[0.0,1.0],\"title\":{\"text\":\"Sentiment Score\"}},\"legend\":{\"tracegroupgap\":0,\"itemsizing\":\"constant\"},\"title\":{\"text\":\"Articles Sorted By Main Topic\"}},                        {\"responsive\": true}                    ).then(function(){\n",
       "                            \n",
       "var gd = document.getElementById('f4a36951-f7ff-467f-ba16-bacc3e0fed2a');\n",
       "var x = new MutationObserver(function (mutations, observer) {{\n",
       "        var display = window.getComputedStyle(gd).display;\n",
       "        if (!display || display === 'none') {{\n",
       "            console.log([gd, 'removed!']);\n",
       "            Plotly.purge(gd);\n",
       "            observer.disconnect();\n",
       "        }}\n",
       "}});\n",
       "\n",
       "// Listen for the removal of the full notebook cells\n",
       "var notebookContainer = gd.closest('#notebook-container');\n",
       "if (notebookContainer) {{\n",
       "    x.observe(notebookContainer, {childList: true});\n",
       "}}\n",
       "\n",
       "// Listen for the clearing of the current output cell\n",
       "var outputEl = gd.closest('.output');\n",
       "if (outputEl) {{\n",
       "    x.observe(outputEl, {childList: true});\n",
       "}}\n",
       "\n",
       "                        })                };                });            </script>        </div>"
      ]
     },
     "metadata": {},
     "output_type": "display_data"
    }
   ],
   "source": [
    "df_main_topic['Shortened Address'] = df_main_topic['URL'].str.slice(0,35) #shorten the urls to make them easier to read in hover text\n",
    "\n",
    "df_main_topic = df_main_topic.sort_values('Main Topic') #sort df by main topic so it is in order in the graph.\n",
    "\n",
    "fig_w_topics = px.scatter(df_main_topic, x=\"Main Topic\", y=\"Sentiment Score\",\n",
    "                         size=\"Main Topic Score\", custom_data = ['Shortened Address', 'Sentiment Label', 'Main Topic Score'],\n",
    "                         title=\"Articles Sorted By Main Topic\")#creating a scatter plot with x, y, and color from our df. \n",
    "#The custom_data is what we will add to our hover text\n",
    "\n",
    "fig_w_topics.update_traces(hovertemplate=\"<br>\".join([\"Address: %{customdata[0]}\",\n",
    "                                                     \"Sentiment Label: %{customdata[1]}\",\n",
    "                                                     \"Main Topic Score :%{customdata[2]}\"])\n",
    "                          )#set the hover text to show whatwas in custom_data\n",
    "\n",
    "fig_w_topics.update_xaxes(type=\"category\")#turn into categorical not continuous data for the x-axis\n",
    "\n",
    "fig_w_topics.show()"
   ]
  },
  {
   "cell_type": "markdown",
   "id": "e2dceebf",
   "metadata": {},
   "source": [
    "# Generating Cluster Graph of Topics"
   ]
  },
  {
   "cell_type": "code",
   "execution_count": 157,
   "id": "235fbeca",
   "metadata": {
    "scrolled": false
   },
   "outputs": [
    {
     "name": "stdout",
     "output_type": "stream",
     "text": [
      "[t-SNE] Computing 16 nearest neighbors...\n",
      "[t-SNE] Indexed 17 samples in 0.001s...\n",
      "[t-SNE] Computed neighbors for 17 samples in 0.002s...\n",
      "[t-SNE] Computed conditional probabilities for sample 17 / 17\n",
      "[t-SNE] Mean sigma: 0.532170\n",
      "[t-SNE] KL divergence after 250 iterations with early exaggeration: 58.105217\n",
      "[t-SNE] KL divergence after 900 iterations: 0.207979\n"
     ]
    },
    {
     "data": {
      "application/vnd.plotly.v1+json": {
       "config": {
        "plotlyServerURL": "https://plot.ly"
       },
       "data": [
        {
         "customdata": [
          [
           "https://fox40.com/news/political-co",
           "Neutral Negative",
           "0"
          ],
          [
           "https://abc7amarillo.com/news/natio",
           "Neutral Positive",
           "0"
          ],
          [
           "https://foxreno.com/news/coronaviru",
           "Neutral",
           "0"
          ]
         ],
         "hovertemplate": "Address: %{customdata[0]}<br>Sentiment Label: %{customdata[1]}<br>Main Topic:%{customdata[2]}",
         "legendgroup": "0",
         "marker": {
          "color": "#636efa",
          "size": [
           0.9970922470092773,
           0.9934267401695251,
           0.9918122291564941
          ],
          "sizemode": "area",
          "sizeref": 0.0024968163669109346,
          "symbol": "circle"
         },
         "mode": "markers",
         "name": "0",
         "orientation": "v",
         "showlegend": true,
         "type": "scatter",
         "x": [
          17.812334060668945,
          18.99365234375,
          22.115516662597656
         ],
         "xaxis": "x",
         "y": [
          -17.043397903442383,
          -12.784945487976074,
          -15.894972801208496
         ],
         "yaxis": "y"
        },
        {
         "customdata": [
          [
           "https://bit.ly/3L0oHZp",
           "Positive",
           "1"
          ]
         ],
         "hovertemplate": "Address: %{customdata[0]}<br>Sentiment Label: %{customdata[1]}<br>Main Topic:%{customdata[2]}",
         "legendgroup": "1",
         "marker": {
          "color": "#EF553B",
          "size": [
           0.9760511517524719
          ],
          "sizemode": "area",
          "sizeref": 0.0024968163669109346,
          "symbol": "circle"
         },
         "mode": "markers",
         "name": "1",
         "orientation": "v",
         "showlegend": true,
         "type": "scatter",
         "x": [
          5.461340427398682
         ],
         "xaxis": "x",
         "y": [
          -16.599319458007812
         ],
         "yaxis": "y"
        },
        {
         "customdata": [
          [
           "https://nation.com.pk/08-Apr-2021/r",
           "Neutral Positive",
           "2"
          ],
          [
           "https://www.health.mil/Military-Hea",
           "Neutral Positive",
           "2"
          ]
         ],
         "hovertemplate": "Address: %{customdata[0]}<br>Sentiment Label: %{customdata[1]}<br>Main Topic:%{customdata[2]}",
         "legendgroup": "2",
         "marker": {
          "color": "#00cc96",
          "size": [
           0.9007006883621216,
           0.9972628355026245
          ],
          "sizemode": "area",
          "sizeref": 0.0024968163669109346,
          "symbol": "circle"
         },
         "mode": "markers",
         "name": "2",
         "orientation": "v",
         "showlegend": true,
         "type": "scatter",
         "x": [
          -13.919371604919434,
          -17.06587028503418
         ],
         "xaxis": "x",
         "y": [
          -12.334746360778809,
          -13.19837760925293
         ],
         "yaxis": "y"
        },
        {
         "customdata": [
          [
           "https://komonews.com/news/coronavir",
           "Neutral Positive",
           "3"
          ],
          [
           "https://www.lewrockwell.com/2018/11",
           "Neutral Positive",
           "3"
          ]
         ],
         "hovertemplate": "Address: %{customdata[0]}<br>Sentiment Label: %{customdata[1]}<br>Main Topic:%{customdata[2]}",
         "legendgroup": "3",
         "marker": {
          "color": "#ab63fa",
          "size": [
           0.6574596762657166,
           0.9987265467643738
          ],
          "sizemode": "area",
          "sizeref": 0.0024968163669109346,
          "symbol": "circle"
         },
         "mode": "markers",
         "name": "3",
         "orientation": "v",
         "showlegend": true,
         "type": "scatter",
         "x": [
          -0.8702155947685242,
          -0.12349733710289001
         ],
         "xaxis": "x",
         "y": [
          -8.971224784851074,
          -11.999792098999023
         ],
         "yaxis": "y"
        },
        {
         "customdata": [
          [
           "https://www.foxnews.com/us/pentagon",
           "Neutral Negative",
           "4"
          ],
          [
           "https://technofog.substack.com/p/ou",
           "Neutral Positive",
           "4"
          ]
         ],
         "hovertemplate": "Address: %{customdata[0]}<br>Sentiment Label: %{customdata[1]}<br>Main Topic:%{customdata[2]}",
         "legendgroup": "4",
         "marker": {
          "color": "#FFA15A",
          "size": [
           0.9943771958351135,
           0.9974357485771179
          ],
          "sizemode": "area",
          "sizeref": 0.0024968163669109346,
          "symbol": "circle"
         },
         "mode": "markers",
         "name": "4",
         "orientation": "v",
         "showlegend": true,
         "type": "scatter",
         "x": [
          -0.17774924635887146,
          -3.5417566299438477
         ],
         "xaxis": "x",
         "y": [
          -27.585769653320312,
          -26.60732650756836
         ],
         "yaxis": "y"
        },
        {
         "customdata": [
          [
           "https://childrenshealthdefense.org/",
           "Neutral Positive",
           "7"
          ],
          [
           "https://barrie.ctvnews.ca/cfb-borde",
           "Neutral Negative",
           "7"
          ]
         ],
         "hovertemplate": "Address: %{customdata[0]}<br>Sentiment Label: %{customdata[1]}<br>Main Topic:%{customdata[2]}",
         "legendgroup": "7",
         "marker": {
          "color": "#19d3f3",
          "size": [
           0.99838787317276,
           0.9975042343139648
          ],
          "sizemode": "area",
          "sizeref": 0.0024968163669109346,
          "symbol": "circle"
         },
         "mode": "markers",
         "name": "7",
         "orientation": "v",
         "showlegend": true,
         "type": "scatter",
         "x": [
          9.546747207641602,
          6.525187969207764
         ],
         "xaxis": "x",
         "y": [
          5.624721050262451,
          7.436950206756592
         ],
         "yaxis": "y"
        },
        {
         "customdata": [
          [
           "https://www.washingtonpost.com/hist",
           "Neutral Negative",
           "9"
          ]
         ],
         "hovertemplate": "Address: %{customdata[0]}<br>Sentiment Label: %{customdata[1]}<br>Main Topic:%{customdata[2]}",
         "legendgroup": "9",
         "marker": {
          "color": "#FF6692",
          "size": [
           0.9984338879585266
          ],
          "sizemode": "area",
          "sizeref": 0.0024968163669109346,
          "symbol": "circle"
         },
         "mode": "markers",
         "name": "9",
         "orientation": "v",
         "showlegend": true,
         "type": "scatter",
         "x": [
          -6.639840602874756
         ],
         "xaxis": "x",
         "y": [
          -0.40223413705825806
         ],
         "yaxis": "y"
        },
        {
         "customdata": [
          [
           "https://www.thegatewaypundit.com/20",
           "Neutral Positive",
           "10"
          ]
         ],
         "hovertemplate": "Address: %{customdata[0]}<br>Sentiment Label: %{customdata[1]}<br>Main Topic:%{customdata[2]}",
         "legendgroup": "10",
         "marker": {
          "color": "#B6E880",
          "size": [
           0.9960616827011108
          ],
          "sizemode": "area",
          "sizeref": 0.0024968163669109346,
          "symbol": "circle"
         },
         "mode": "markers",
         "name": "10",
         "orientation": "v",
         "showlegend": true,
         "type": "scatter",
         "x": [
          -6.7738165855407715
         ],
         "xaxis": "x",
         "y": [
          -8.11176872253418
         ],
         "yaxis": "y"
        },
        {
         "customdata": [
          [
           "https://www.dailysabah.com/world/eu",
           "Neutral Negative",
           "11"
          ]
         ],
         "hovertemplate": "Address: %{customdata[0]}<br>Sentiment Label: %{customdata[1]}<br>Main Topic:%{customdata[2]}",
         "legendgroup": "11",
         "marker": {
          "color": "#FF97FF",
          "size": [
           0.993333101272583
          ],
          "sizemode": "area",
          "sizeref": 0.0024968163669109346,
          "symbol": "circle"
         },
         "mode": "markers",
         "name": "11",
         "orientation": "v",
         "showlegend": true,
         "type": "scatter",
         "x": [
          -5.325459003448486
         ],
         "xaxis": "x",
         "y": [
          -16.196306228637695
         ],
         "yaxis": "y"
        },
        {
         "customdata": [
          [
           "https://roundingtheearth.substack.c",
           "Neutral Positive",
           "13"
          ]
         ],
         "hovertemplate": "Address: %{customdata[0]}<br>Sentiment Label: %{customdata[1]}<br>Main Topic:%{customdata[2]}",
         "legendgroup": "13",
         "marker": {
          "color": "#FECB52",
          "size": [
           0.9979292750358582
          ],
          "sizemode": "area",
          "sizeref": 0.0024968163669109346,
          "symbol": "circle"
         },
         "mode": "markers",
         "name": "13",
         "orientation": "v",
         "showlegend": true,
         "type": "scatter",
         "x": [
          5.668150901794434
         ],
         "xaxis": "x",
         "y": [
          -8.255573272705078
         ],
         "yaxis": "y"
        },
        {
         "customdata": [
          [
           "https://www.military.com/daily-news",
           "Neutral Positive",
           "14"
          ]
         ],
         "hovertemplate": "Address: %{customdata[0]}<br>Sentiment Label: %{customdata[1]}<br>Main Topic:%{customdata[2]}",
         "legendgroup": "14",
         "marker": {
          "color": "#636efa",
          "size": [
           0.9933783411979675
          ],
          "sizemode": "area",
          "sizeref": 0.0024968163669109346,
          "symbol": "circle"
         },
         "mode": "markers",
         "name": "14",
         "orientation": "v",
         "showlegend": true,
         "type": "scatter",
         "x": [
          0.4814056158065796
         ],
         "xaxis": "x",
         "y": [
          -3.6547069549560547
         ],
         "yaxis": "y"
        }
       ],
       "layout": {
        "legend": {
         "itemsizing": "constant",
         "title": {
          "text": "Main Topic"
         },
         "tracegroupgap": 0
        },
        "template": {
         "data": {
          "bar": [
           {
            "error_x": {
             "color": "#2a3f5f"
            },
            "error_y": {
             "color": "#2a3f5f"
            },
            "marker": {
             "line": {
              "color": "#E5ECF6",
              "width": 0.5
             },
             "pattern": {
              "fillmode": "overlay",
              "size": 10,
              "solidity": 0.2
             }
            },
            "type": "bar"
           }
          ],
          "barpolar": [
           {
            "marker": {
             "line": {
              "color": "#E5ECF6",
              "width": 0.5
             },
             "pattern": {
              "fillmode": "overlay",
              "size": 10,
              "solidity": 0.2
             }
            },
            "type": "barpolar"
           }
          ],
          "carpet": [
           {
            "aaxis": {
             "endlinecolor": "#2a3f5f",
             "gridcolor": "white",
             "linecolor": "white",
             "minorgridcolor": "white",
             "startlinecolor": "#2a3f5f"
            },
            "baxis": {
             "endlinecolor": "#2a3f5f",
             "gridcolor": "white",
             "linecolor": "white",
             "minorgridcolor": "white",
             "startlinecolor": "#2a3f5f"
            },
            "type": "carpet"
           }
          ],
          "choropleth": [
           {
            "colorbar": {
             "outlinewidth": 0,
             "ticks": ""
            },
            "type": "choropleth"
           }
          ],
          "contour": [
           {
            "colorbar": {
             "outlinewidth": 0,
             "ticks": ""
            },
            "colorscale": [
             [
              0,
              "#0d0887"
             ],
             [
              0.1111111111111111,
              "#46039f"
             ],
             [
              0.2222222222222222,
              "#7201a8"
             ],
             [
              0.3333333333333333,
              "#9c179e"
             ],
             [
              0.4444444444444444,
              "#bd3786"
             ],
             [
              0.5555555555555556,
              "#d8576b"
             ],
             [
              0.6666666666666666,
              "#ed7953"
             ],
             [
              0.7777777777777778,
              "#fb9f3a"
             ],
             [
              0.8888888888888888,
              "#fdca26"
             ],
             [
              1,
              "#f0f921"
             ]
            ],
            "type": "contour"
           }
          ],
          "contourcarpet": [
           {
            "colorbar": {
             "outlinewidth": 0,
             "ticks": ""
            },
            "type": "contourcarpet"
           }
          ],
          "heatmap": [
           {
            "colorbar": {
             "outlinewidth": 0,
             "ticks": ""
            },
            "colorscale": [
             [
              0,
              "#0d0887"
             ],
             [
              0.1111111111111111,
              "#46039f"
             ],
             [
              0.2222222222222222,
              "#7201a8"
             ],
             [
              0.3333333333333333,
              "#9c179e"
             ],
             [
              0.4444444444444444,
              "#bd3786"
             ],
             [
              0.5555555555555556,
              "#d8576b"
             ],
             [
              0.6666666666666666,
              "#ed7953"
             ],
             [
              0.7777777777777778,
              "#fb9f3a"
             ],
             [
              0.8888888888888888,
              "#fdca26"
             ],
             [
              1,
              "#f0f921"
             ]
            ],
            "type": "heatmap"
           }
          ],
          "heatmapgl": [
           {
            "colorbar": {
             "outlinewidth": 0,
             "ticks": ""
            },
            "colorscale": [
             [
              0,
              "#0d0887"
             ],
             [
              0.1111111111111111,
              "#46039f"
             ],
             [
              0.2222222222222222,
              "#7201a8"
             ],
             [
              0.3333333333333333,
              "#9c179e"
             ],
             [
              0.4444444444444444,
              "#bd3786"
             ],
             [
              0.5555555555555556,
              "#d8576b"
             ],
             [
              0.6666666666666666,
              "#ed7953"
             ],
             [
              0.7777777777777778,
              "#fb9f3a"
             ],
             [
              0.8888888888888888,
              "#fdca26"
             ],
             [
              1,
              "#f0f921"
             ]
            ],
            "type": "heatmapgl"
           }
          ],
          "histogram": [
           {
            "marker": {
             "pattern": {
              "fillmode": "overlay",
              "size": 10,
              "solidity": 0.2
             }
            },
            "type": "histogram"
           }
          ],
          "histogram2d": [
           {
            "colorbar": {
             "outlinewidth": 0,
             "ticks": ""
            },
            "colorscale": [
             [
              0,
              "#0d0887"
             ],
             [
              0.1111111111111111,
              "#46039f"
             ],
             [
              0.2222222222222222,
              "#7201a8"
             ],
             [
              0.3333333333333333,
              "#9c179e"
             ],
             [
              0.4444444444444444,
              "#bd3786"
             ],
             [
              0.5555555555555556,
              "#d8576b"
             ],
             [
              0.6666666666666666,
              "#ed7953"
             ],
             [
              0.7777777777777778,
              "#fb9f3a"
             ],
             [
              0.8888888888888888,
              "#fdca26"
             ],
             [
              1,
              "#f0f921"
             ]
            ],
            "type": "histogram2d"
           }
          ],
          "histogram2dcontour": [
           {
            "colorbar": {
             "outlinewidth": 0,
             "ticks": ""
            },
            "colorscale": [
             [
              0,
              "#0d0887"
             ],
             [
              0.1111111111111111,
              "#46039f"
             ],
             [
              0.2222222222222222,
              "#7201a8"
             ],
             [
              0.3333333333333333,
              "#9c179e"
             ],
             [
              0.4444444444444444,
              "#bd3786"
             ],
             [
              0.5555555555555556,
              "#d8576b"
             ],
             [
              0.6666666666666666,
              "#ed7953"
             ],
             [
              0.7777777777777778,
              "#fb9f3a"
             ],
             [
              0.8888888888888888,
              "#fdca26"
             ],
             [
              1,
              "#f0f921"
             ]
            ],
            "type": "histogram2dcontour"
           }
          ],
          "mesh3d": [
           {
            "colorbar": {
             "outlinewidth": 0,
             "ticks": ""
            },
            "type": "mesh3d"
           }
          ],
          "parcoords": [
           {
            "line": {
             "colorbar": {
              "outlinewidth": 0,
              "ticks": ""
             }
            },
            "type": "parcoords"
           }
          ],
          "pie": [
           {
            "automargin": true,
            "type": "pie"
           }
          ],
          "scatter": [
           {
            "fillpattern": {
             "fillmode": "overlay",
             "size": 10,
             "solidity": 0.2
            },
            "type": "scatter"
           }
          ],
          "scatter3d": [
           {
            "line": {
             "colorbar": {
              "outlinewidth": 0,
              "ticks": ""
             }
            },
            "marker": {
             "colorbar": {
              "outlinewidth": 0,
              "ticks": ""
             }
            },
            "type": "scatter3d"
           }
          ],
          "scattercarpet": [
           {
            "marker": {
             "colorbar": {
              "outlinewidth": 0,
              "ticks": ""
             }
            },
            "type": "scattercarpet"
           }
          ],
          "scattergeo": [
           {
            "marker": {
             "colorbar": {
              "outlinewidth": 0,
              "ticks": ""
             }
            },
            "type": "scattergeo"
           }
          ],
          "scattergl": [
           {
            "marker": {
             "colorbar": {
              "outlinewidth": 0,
              "ticks": ""
             }
            },
            "type": "scattergl"
           }
          ],
          "scattermapbox": [
           {
            "marker": {
             "colorbar": {
              "outlinewidth": 0,
              "ticks": ""
             }
            },
            "type": "scattermapbox"
           }
          ],
          "scatterpolar": [
           {
            "marker": {
             "colorbar": {
              "outlinewidth": 0,
              "ticks": ""
             }
            },
            "type": "scatterpolar"
           }
          ],
          "scatterpolargl": [
           {
            "marker": {
             "colorbar": {
              "outlinewidth": 0,
              "ticks": ""
             }
            },
            "type": "scatterpolargl"
           }
          ],
          "scatterternary": [
           {
            "marker": {
             "colorbar": {
              "outlinewidth": 0,
              "ticks": ""
             }
            },
            "type": "scatterternary"
           }
          ],
          "surface": [
           {
            "colorbar": {
             "outlinewidth": 0,
             "ticks": ""
            },
            "colorscale": [
             [
              0,
              "#0d0887"
             ],
             [
              0.1111111111111111,
              "#46039f"
             ],
             [
              0.2222222222222222,
              "#7201a8"
             ],
             [
              0.3333333333333333,
              "#9c179e"
             ],
             [
              0.4444444444444444,
              "#bd3786"
             ],
             [
              0.5555555555555556,
              "#d8576b"
             ],
             [
              0.6666666666666666,
              "#ed7953"
             ],
             [
              0.7777777777777778,
              "#fb9f3a"
             ],
             [
              0.8888888888888888,
              "#fdca26"
             ],
             [
              1,
              "#f0f921"
             ]
            ],
            "type": "surface"
           }
          ],
          "table": [
           {
            "cells": {
             "fill": {
              "color": "#EBF0F8"
             },
             "line": {
              "color": "white"
             }
            },
            "header": {
             "fill": {
              "color": "#C8D4E3"
             },
             "line": {
              "color": "white"
             }
            },
            "type": "table"
           }
          ]
         },
         "layout": {
          "annotationdefaults": {
           "arrowcolor": "#2a3f5f",
           "arrowhead": 0,
           "arrowwidth": 1
          },
          "autotypenumbers": "strict",
          "coloraxis": {
           "colorbar": {
            "outlinewidth": 0,
            "ticks": ""
           }
          },
          "colorscale": {
           "diverging": [
            [
             0,
             "#8e0152"
            ],
            [
             0.1,
             "#c51b7d"
            ],
            [
             0.2,
             "#de77ae"
            ],
            [
             0.3,
             "#f1b6da"
            ],
            [
             0.4,
             "#fde0ef"
            ],
            [
             0.5,
             "#f7f7f7"
            ],
            [
             0.6,
             "#e6f5d0"
            ],
            [
             0.7,
             "#b8e186"
            ],
            [
             0.8,
             "#7fbc41"
            ],
            [
             0.9,
             "#4d9221"
            ],
            [
             1,
             "#276419"
            ]
           ],
           "sequential": [
            [
             0,
             "#0d0887"
            ],
            [
             0.1111111111111111,
             "#46039f"
            ],
            [
             0.2222222222222222,
             "#7201a8"
            ],
            [
             0.3333333333333333,
             "#9c179e"
            ],
            [
             0.4444444444444444,
             "#bd3786"
            ],
            [
             0.5555555555555556,
             "#d8576b"
            ],
            [
             0.6666666666666666,
             "#ed7953"
            ],
            [
             0.7777777777777778,
             "#fb9f3a"
            ],
            [
             0.8888888888888888,
             "#fdca26"
            ],
            [
             1,
             "#f0f921"
            ]
           ],
           "sequentialminus": [
            [
             0,
             "#0d0887"
            ],
            [
             0.1111111111111111,
             "#46039f"
            ],
            [
             0.2222222222222222,
             "#7201a8"
            ],
            [
             0.3333333333333333,
             "#9c179e"
            ],
            [
             0.4444444444444444,
             "#bd3786"
            ],
            [
             0.5555555555555556,
             "#d8576b"
            ],
            [
             0.6666666666666666,
             "#ed7953"
            ],
            [
             0.7777777777777778,
             "#fb9f3a"
            ],
            [
             0.8888888888888888,
             "#fdca26"
            ],
            [
             1,
             "#f0f921"
            ]
           ]
          },
          "colorway": [
           "#636efa",
           "#EF553B",
           "#00cc96",
           "#ab63fa",
           "#FFA15A",
           "#19d3f3",
           "#FF6692",
           "#B6E880",
           "#FF97FF",
           "#FECB52"
          ],
          "font": {
           "color": "#2a3f5f"
          },
          "geo": {
           "bgcolor": "white",
           "lakecolor": "white",
           "landcolor": "#E5ECF6",
           "showlakes": true,
           "showland": true,
           "subunitcolor": "white"
          },
          "hoverlabel": {
           "align": "left"
          },
          "hovermode": "closest",
          "mapbox": {
           "style": "light"
          },
          "paper_bgcolor": "white",
          "plot_bgcolor": "#E5ECF6",
          "polar": {
           "angularaxis": {
            "gridcolor": "white",
            "linecolor": "white",
            "ticks": ""
           },
           "bgcolor": "#E5ECF6",
           "radialaxis": {
            "gridcolor": "white",
            "linecolor": "white",
            "ticks": ""
           }
          },
          "scene": {
           "xaxis": {
            "backgroundcolor": "#E5ECF6",
            "gridcolor": "white",
            "gridwidth": 2,
            "linecolor": "white",
            "showbackground": true,
            "ticks": "",
            "zerolinecolor": "white"
           },
           "yaxis": {
            "backgroundcolor": "#E5ECF6",
            "gridcolor": "white",
            "gridwidth": 2,
            "linecolor": "white",
            "showbackground": true,
            "ticks": "",
            "zerolinecolor": "white"
           },
           "zaxis": {
            "backgroundcolor": "#E5ECF6",
            "gridcolor": "white",
            "gridwidth": 2,
            "linecolor": "white",
            "showbackground": true,
            "ticks": "",
            "zerolinecolor": "white"
           }
          },
          "shapedefaults": {
           "line": {
            "color": "#2a3f5f"
           }
          },
          "ternary": {
           "aaxis": {
            "gridcolor": "white",
            "linecolor": "white",
            "ticks": ""
           },
           "baxis": {
            "gridcolor": "white",
            "linecolor": "white",
            "ticks": ""
           },
           "bgcolor": "#E5ECF6",
           "caxis": {
            "gridcolor": "white",
            "linecolor": "white",
            "ticks": ""
           }
          },
          "title": {
           "x": 0.05
          },
          "xaxis": {
           "automargin": true,
           "gridcolor": "white",
           "linecolor": "white",
           "ticks": "",
           "title": {
            "standoff": 15
           },
           "zerolinecolor": "white",
           "zerolinewidth": 2
          },
          "yaxis": {
           "automargin": true,
           "gridcolor": "white",
           "linecolor": "white",
           "ticks": "",
           "title": {
            "standoff": 15
           },
           "zerolinecolor": "white",
           "zerolinewidth": 2
          }
         }
        },
        "title": {
         "text": "Topic Clustering Graph"
        },
        "xaxis": {
         "anchor": "y",
         "domain": [
          0,
          1
         ],
         "title": {
          "text": "x"
         }
        },
        "yaxis": {
         "anchor": "x",
         "domain": [
          0,
          1
         ],
         "title": {
          "text": "y"
         }
        }
       }
      },
      "text/html": [
       "<div>                            <div id=\"5817f07c-2dd6-47be-8335-835fb6b154bb\" class=\"plotly-graph-div\" style=\"height:525px; width:100%;\"></div>            <script type=\"text/javascript\">                require([\"plotly\"], function(Plotly) {                    window.PLOTLYENV=window.PLOTLYENV || {};                                    if (document.getElementById(\"5817f07c-2dd6-47be-8335-835fb6b154bb\")) {                    Plotly.newPlot(                        \"5817f07c-2dd6-47be-8335-835fb6b154bb\",                        [{\"customdata\":[[\"https:\\u002f\\u002ffox40.com\\u002fnews\\u002fpolitical-co\",\"Neutral Negative\",\"0\"],[\"https:\\u002f\\u002fabc7amarillo.com\\u002fnews\\u002fnatio\",\"Neutral Positive\",\"0\"],[\"https:\\u002f\\u002ffoxreno.com\\u002fnews\\u002fcoronaviru\",\"Neutral\",\"0\"]],\"hovertemplate\":\"Address: %{customdata[0]}\\u003cbr\\u003eSentiment Label: %{customdata[1]}\\u003cbr\\u003eMain Topic:%{customdata[2]}\",\"legendgroup\":\"0\",\"marker\":{\"color\":\"#636efa\",\"size\":[0.9970922470092773,0.9934267401695251,0.9918122291564941],\"sizemode\":\"area\",\"sizeref\":0.0024968163669109346,\"symbol\":\"circle\"},\"mode\":\"markers\",\"name\":\"0\",\"orientation\":\"v\",\"showlegend\":true,\"x\":[17.812334060668945,18.99365234375,22.115516662597656],\"xaxis\":\"x\",\"y\":[-17.043397903442383,-12.784945487976074,-15.894972801208496],\"yaxis\":\"y\",\"type\":\"scatter\"},{\"customdata\":[[\"https:\\u002f\\u002fbit.ly\\u002f3L0oHZp\",\"Positive\",\"1\"]],\"hovertemplate\":\"Address: %{customdata[0]}\\u003cbr\\u003eSentiment Label: %{customdata[1]}\\u003cbr\\u003eMain Topic:%{customdata[2]}\",\"legendgroup\":\"1\",\"marker\":{\"color\":\"#EF553B\",\"size\":[0.9760511517524719],\"sizemode\":\"area\",\"sizeref\":0.0024968163669109346,\"symbol\":\"circle\"},\"mode\":\"markers\",\"name\":\"1\",\"orientation\":\"v\",\"showlegend\":true,\"x\":[5.461340427398682],\"xaxis\":\"x\",\"y\":[-16.599319458007812],\"yaxis\":\"y\",\"type\":\"scatter\"},{\"customdata\":[[\"https:\\u002f\\u002fnation.com.pk\\u002f08-Apr-2021\\u002fr\",\"Neutral Positive\",\"2\"],[\"https:\\u002f\\u002fwww.health.mil\\u002fMilitary-Hea\",\"Neutral Positive\",\"2\"]],\"hovertemplate\":\"Address: %{customdata[0]}\\u003cbr\\u003eSentiment Label: %{customdata[1]}\\u003cbr\\u003eMain Topic:%{customdata[2]}\",\"legendgroup\":\"2\",\"marker\":{\"color\":\"#00cc96\",\"size\":[0.9007006883621216,0.9972628355026245],\"sizemode\":\"area\",\"sizeref\":0.0024968163669109346,\"symbol\":\"circle\"},\"mode\":\"markers\",\"name\":\"2\",\"orientation\":\"v\",\"showlegend\":true,\"x\":[-13.919371604919434,-17.06587028503418],\"xaxis\":\"x\",\"y\":[-12.334746360778809,-13.19837760925293],\"yaxis\":\"y\",\"type\":\"scatter\"},{\"customdata\":[[\"https:\\u002f\\u002fkomonews.com\\u002fnews\\u002fcoronavir\",\"Neutral Positive\",\"3\"],[\"https:\\u002f\\u002fwww.lewrockwell.com\\u002f2018\\u002f11\",\"Neutral Positive\",\"3\"]],\"hovertemplate\":\"Address: %{customdata[0]}\\u003cbr\\u003eSentiment Label: %{customdata[1]}\\u003cbr\\u003eMain Topic:%{customdata[2]}\",\"legendgroup\":\"3\",\"marker\":{\"color\":\"#ab63fa\",\"size\":[0.6574596762657166,0.9987265467643738],\"sizemode\":\"area\",\"sizeref\":0.0024968163669109346,\"symbol\":\"circle\"},\"mode\":\"markers\",\"name\":\"3\",\"orientation\":\"v\",\"showlegend\":true,\"x\":[-0.8702155947685242,-0.12349733710289001],\"xaxis\":\"x\",\"y\":[-8.971224784851074,-11.999792098999023],\"yaxis\":\"y\",\"type\":\"scatter\"},{\"customdata\":[[\"https:\\u002f\\u002fwww.foxnews.com\\u002fus\\u002fpentagon\",\"Neutral Negative\",\"4\"],[\"https:\\u002f\\u002ftechnofog.substack.com\\u002fp\\u002fou\",\"Neutral Positive\",\"4\"]],\"hovertemplate\":\"Address: %{customdata[0]}\\u003cbr\\u003eSentiment Label: %{customdata[1]}\\u003cbr\\u003eMain Topic:%{customdata[2]}\",\"legendgroup\":\"4\",\"marker\":{\"color\":\"#FFA15A\",\"size\":[0.9943771958351135,0.9974357485771179],\"sizemode\":\"area\",\"sizeref\":0.0024968163669109346,\"symbol\":\"circle\"},\"mode\":\"markers\",\"name\":\"4\",\"orientation\":\"v\",\"showlegend\":true,\"x\":[-0.17774924635887146,-3.5417566299438477],\"xaxis\":\"x\",\"y\":[-27.585769653320312,-26.60732650756836],\"yaxis\":\"y\",\"type\":\"scatter\"},{\"customdata\":[[\"https:\\u002f\\u002fchildrenshealthdefense.org\\u002f\",\"Neutral Positive\",\"7\"],[\"https:\\u002f\\u002fbarrie.ctvnews.ca\\u002fcfb-borde\",\"Neutral Negative\",\"7\"]],\"hovertemplate\":\"Address: %{customdata[0]}\\u003cbr\\u003eSentiment Label: %{customdata[1]}\\u003cbr\\u003eMain Topic:%{customdata[2]}\",\"legendgroup\":\"7\",\"marker\":{\"color\":\"#19d3f3\",\"size\":[0.99838787317276,0.9975042343139648],\"sizemode\":\"area\",\"sizeref\":0.0024968163669109346,\"symbol\":\"circle\"},\"mode\":\"markers\",\"name\":\"7\",\"orientation\":\"v\",\"showlegend\":true,\"x\":[9.546747207641602,6.525187969207764],\"xaxis\":\"x\",\"y\":[5.624721050262451,7.436950206756592],\"yaxis\":\"y\",\"type\":\"scatter\"},{\"customdata\":[[\"https:\\u002f\\u002fwww.washingtonpost.com\\u002fhist\",\"Neutral Negative\",\"9\"]],\"hovertemplate\":\"Address: %{customdata[0]}\\u003cbr\\u003eSentiment Label: %{customdata[1]}\\u003cbr\\u003eMain Topic:%{customdata[2]}\",\"legendgroup\":\"9\",\"marker\":{\"color\":\"#FF6692\",\"size\":[0.9984338879585266],\"sizemode\":\"area\",\"sizeref\":0.0024968163669109346,\"symbol\":\"circle\"},\"mode\":\"markers\",\"name\":\"9\",\"orientation\":\"v\",\"showlegend\":true,\"x\":[-6.639840602874756],\"xaxis\":\"x\",\"y\":[-0.40223413705825806],\"yaxis\":\"y\",\"type\":\"scatter\"},{\"customdata\":[[\"https:\\u002f\\u002fwww.thegatewaypundit.com\\u002f20\",\"Neutral Positive\",\"10\"]],\"hovertemplate\":\"Address: %{customdata[0]}\\u003cbr\\u003eSentiment Label: %{customdata[1]}\\u003cbr\\u003eMain Topic:%{customdata[2]}\",\"legendgroup\":\"10\",\"marker\":{\"color\":\"#B6E880\",\"size\":[0.9960616827011108],\"sizemode\":\"area\",\"sizeref\":0.0024968163669109346,\"symbol\":\"circle\"},\"mode\":\"markers\",\"name\":\"10\",\"orientation\":\"v\",\"showlegend\":true,\"x\":[-6.7738165855407715],\"xaxis\":\"x\",\"y\":[-8.11176872253418],\"yaxis\":\"y\",\"type\":\"scatter\"},{\"customdata\":[[\"https:\\u002f\\u002fwww.dailysabah.com\\u002fworld\\u002feu\",\"Neutral Negative\",\"11\"]],\"hovertemplate\":\"Address: %{customdata[0]}\\u003cbr\\u003eSentiment Label: %{customdata[1]}\\u003cbr\\u003eMain Topic:%{customdata[2]}\",\"legendgroup\":\"11\",\"marker\":{\"color\":\"#FF97FF\",\"size\":[0.993333101272583],\"sizemode\":\"area\",\"sizeref\":0.0024968163669109346,\"symbol\":\"circle\"},\"mode\":\"markers\",\"name\":\"11\",\"orientation\":\"v\",\"showlegend\":true,\"x\":[-5.325459003448486],\"xaxis\":\"x\",\"y\":[-16.196306228637695],\"yaxis\":\"y\",\"type\":\"scatter\"},{\"customdata\":[[\"https:\\u002f\\u002froundingtheearth.substack.c\",\"Neutral Positive\",\"13\"]],\"hovertemplate\":\"Address: %{customdata[0]}\\u003cbr\\u003eSentiment Label: %{customdata[1]}\\u003cbr\\u003eMain Topic:%{customdata[2]}\",\"legendgroup\":\"13\",\"marker\":{\"color\":\"#FECB52\",\"size\":[0.9979292750358582],\"sizemode\":\"area\",\"sizeref\":0.0024968163669109346,\"symbol\":\"circle\"},\"mode\":\"markers\",\"name\":\"13\",\"orientation\":\"v\",\"showlegend\":true,\"x\":[5.668150901794434],\"xaxis\":\"x\",\"y\":[-8.255573272705078],\"yaxis\":\"y\",\"type\":\"scatter\"},{\"customdata\":[[\"https:\\u002f\\u002fwww.military.com\\u002fdaily-news\",\"Neutral Positive\",\"14\"]],\"hovertemplate\":\"Address: %{customdata[0]}\\u003cbr\\u003eSentiment Label: %{customdata[1]}\\u003cbr\\u003eMain Topic:%{customdata[2]}\",\"legendgroup\":\"14\",\"marker\":{\"color\":\"#636efa\",\"size\":[0.9933783411979675],\"sizemode\":\"area\",\"sizeref\":0.0024968163669109346,\"symbol\":\"circle\"},\"mode\":\"markers\",\"name\":\"14\",\"orientation\":\"v\",\"showlegend\":true,\"x\":[0.4814056158065796],\"xaxis\":\"x\",\"y\":[-3.6547069549560547],\"yaxis\":\"y\",\"type\":\"scatter\"}],                        {\"template\":{\"data\":{\"histogram2dcontour\":[{\"type\":\"histogram2dcontour\",\"colorbar\":{\"outlinewidth\":0,\"ticks\":\"\"},\"colorscale\":[[0.0,\"#0d0887\"],[0.1111111111111111,\"#46039f\"],[0.2222222222222222,\"#7201a8\"],[0.3333333333333333,\"#9c179e\"],[0.4444444444444444,\"#bd3786\"],[0.5555555555555556,\"#d8576b\"],[0.6666666666666666,\"#ed7953\"],[0.7777777777777778,\"#fb9f3a\"],[0.8888888888888888,\"#fdca26\"],[1.0,\"#f0f921\"]]}],\"choropleth\":[{\"type\":\"choropleth\",\"colorbar\":{\"outlinewidth\":0,\"ticks\":\"\"}}],\"histogram2d\":[{\"type\":\"histogram2d\",\"colorbar\":{\"outlinewidth\":0,\"ticks\":\"\"},\"colorscale\":[[0.0,\"#0d0887\"],[0.1111111111111111,\"#46039f\"],[0.2222222222222222,\"#7201a8\"],[0.3333333333333333,\"#9c179e\"],[0.4444444444444444,\"#bd3786\"],[0.5555555555555556,\"#d8576b\"],[0.6666666666666666,\"#ed7953\"],[0.7777777777777778,\"#fb9f3a\"],[0.8888888888888888,\"#fdca26\"],[1.0,\"#f0f921\"]]}],\"heatmap\":[{\"type\":\"heatmap\",\"colorbar\":{\"outlinewidth\":0,\"ticks\":\"\"},\"colorscale\":[[0.0,\"#0d0887\"],[0.1111111111111111,\"#46039f\"],[0.2222222222222222,\"#7201a8\"],[0.3333333333333333,\"#9c179e\"],[0.4444444444444444,\"#bd3786\"],[0.5555555555555556,\"#d8576b\"],[0.6666666666666666,\"#ed7953\"],[0.7777777777777778,\"#fb9f3a\"],[0.8888888888888888,\"#fdca26\"],[1.0,\"#f0f921\"]]}],\"heatmapgl\":[{\"type\":\"heatmapgl\",\"colorbar\":{\"outlinewidth\":0,\"ticks\":\"\"},\"colorscale\":[[0.0,\"#0d0887\"],[0.1111111111111111,\"#46039f\"],[0.2222222222222222,\"#7201a8\"],[0.3333333333333333,\"#9c179e\"],[0.4444444444444444,\"#bd3786\"],[0.5555555555555556,\"#d8576b\"],[0.6666666666666666,\"#ed7953\"],[0.7777777777777778,\"#fb9f3a\"],[0.8888888888888888,\"#fdca26\"],[1.0,\"#f0f921\"]]}],\"contourcarpet\":[{\"type\":\"contourcarpet\",\"colorbar\":{\"outlinewidth\":0,\"ticks\":\"\"}}],\"contour\":[{\"type\":\"contour\",\"colorbar\":{\"outlinewidth\":0,\"ticks\":\"\"},\"colorscale\":[[0.0,\"#0d0887\"],[0.1111111111111111,\"#46039f\"],[0.2222222222222222,\"#7201a8\"],[0.3333333333333333,\"#9c179e\"],[0.4444444444444444,\"#bd3786\"],[0.5555555555555556,\"#d8576b\"],[0.6666666666666666,\"#ed7953\"],[0.7777777777777778,\"#fb9f3a\"],[0.8888888888888888,\"#fdca26\"],[1.0,\"#f0f921\"]]}],\"surface\":[{\"type\":\"surface\",\"colorbar\":{\"outlinewidth\":0,\"ticks\":\"\"},\"colorscale\":[[0.0,\"#0d0887\"],[0.1111111111111111,\"#46039f\"],[0.2222222222222222,\"#7201a8\"],[0.3333333333333333,\"#9c179e\"],[0.4444444444444444,\"#bd3786\"],[0.5555555555555556,\"#d8576b\"],[0.6666666666666666,\"#ed7953\"],[0.7777777777777778,\"#fb9f3a\"],[0.8888888888888888,\"#fdca26\"],[1.0,\"#f0f921\"]]}],\"mesh3d\":[{\"type\":\"mesh3d\",\"colorbar\":{\"outlinewidth\":0,\"ticks\":\"\"}}],\"scatter\":[{\"fillpattern\":{\"fillmode\":\"overlay\",\"size\":10,\"solidity\":0.2},\"type\":\"scatter\"}],\"parcoords\":[{\"type\":\"parcoords\",\"line\":{\"colorbar\":{\"outlinewidth\":0,\"ticks\":\"\"}}}],\"scatterpolargl\":[{\"type\":\"scatterpolargl\",\"marker\":{\"colorbar\":{\"outlinewidth\":0,\"ticks\":\"\"}}}],\"bar\":[{\"error_x\":{\"color\":\"#2a3f5f\"},\"error_y\":{\"color\":\"#2a3f5f\"},\"marker\":{\"line\":{\"color\":\"#E5ECF6\",\"width\":0.5},\"pattern\":{\"fillmode\":\"overlay\",\"size\":10,\"solidity\":0.2}},\"type\":\"bar\"}],\"scattergeo\":[{\"type\":\"scattergeo\",\"marker\":{\"colorbar\":{\"outlinewidth\":0,\"ticks\":\"\"}}}],\"scatterpolar\":[{\"type\":\"scatterpolar\",\"marker\":{\"colorbar\":{\"outlinewidth\":0,\"ticks\":\"\"}}}],\"histogram\":[{\"marker\":{\"pattern\":{\"fillmode\":\"overlay\",\"size\":10,\"solidity\":0.2}},\"type\":\"histogram\"}],\"scattergl\":[{\"type\":\"scattergl\",\"marker\":{\"colorbar\":{\"outlinewidth\":0,\"ticks\":\"\"}}}],\"scatter3d\":[{\"type\":\"scatter3d\",\"line\":{\"colorbar\":{\"outlinewidth\":0,\"ticks\":\"\"}},\"marker\":{\"colorbar\":{\"outlinewidth\":0,\"ticks\":\"\"}}}],\"scattermapbox\":[{\"type\":\"scattermapbox\",\"marker\":{\"colorbar\":{\"outlinewidth\":0,\"ticks\":\"\"}}}],\"scatterternary\":[{\"type\":\"scatterternary\",\"marker\":{\"colorbar\":{\"outlinewidth\":0,\"ticks\":\"\"}}}],\"scattercarpet\":[{\"type\":\"scattercarpet\",\"marker\":{\"colorbar\":{\"outlinewidth\":0,\"ticks\":\"\"}}}],\"carpet\":[{\"aaxis\":{\"endlinecolor\":\"#2a3f5f\",\"gridcolor\":\"white\",\"linecolor\":\"white\",\"minorgridcolor\":\"white\",\"startlinecolor\":\"#2a3f5f\"},\"baxis\":{\"endlinecolor\":\"#2a3f5f\",\"gridcolor\":\"white\",\"linecolor\":\"white\",\"minorgridcolor\":\"white\",\"startlinecolor\":\"#2a3f5f\"},\"type\":\"carpet\"}],\"table\":[{\"cells\":{\"fill\":{\"color\":\"#EBF0F8\"},\"line\":{\"color\":\"white\"}},\"header\":{\"fill\":{\"color\":\"#C8D4E3\"},\"line\":{\"color\":\"white\"}},\"type\":\"table\"}],\"barpolar\":[{\"marker\":{\"line\":{\"color\":\"#E5ECF6\",\"width\":0.5},\"pattern\":{\"fillmode\":\"overlay\",\"size\":10,\"solidity\":0.2}},\"type\":\"barpolar\"}],\"pie\":[{\"automargin\":true,\"type\":\"pie\"}]},\"layout\":{\"autotypenumbers\":\"strict\",\"colorway\":[\"#636efa\",\"#EF553B\",\"#00cc96\",\"#ab63fa\",\"#FFA15A\",\"#19d3f3\",\"#FF6692\",\"#B6E880\",\"#FF97FF\",\"#FECB52\"],\"font\":{\"color\":\"#2a3f5f\"},\"hovermode\":\"closest\",\"hoverlabel\":{\"align\":\"left\"},\"paper_bgcolor\":\"white\",\"plot_bgcolor\":\"#E5ECF6\",\"polar\":{\"bgcolor\":\"#E5ECF6\",\"angularaxis\":{\"gridcolor\":\"white\",\"linecolor\":\"white\",\"ticks\":\"\"},\"radialaxis\":{\"gridcolor\":\"white\",\"linecolor\":\"white\",\"ticks\":\"\"}},\"ternary\":{\"bgcolor\":\"#E5ECF6\",\"aaxis\":{\"gridcolor\":\"white\",\"linecolor\":\"white\",\"ticks\":\"\"},\"baxis\":{\"gridcolor\":\"white\",\"linecolor\":\"white\",\"ticks\":\"\"},\"caxis\":{\"gridcolor\":\"white\",\"linecolor\":\"white\",\"ticks\":\"\"}},\"coloraxis\":{\"colorbar\":{\"outlinewidth\":0,\"ticks\":\"\"}},\"colorscale\":{\"sequential\":[[0.0,\"#0d0887\"],[0.1111111111111111,\"#46039f\"],[0.2222222222222222,\"#7201a8\"],[0.3333333333333333,\"#9c179e\"],[0.4444444444444444,\"#bd3786\"],[0.5555555555555556,\"#d8576b\"],[0.6666666666666666,\"#ed7953\"],[0.7777777777777778,\"#fb9f3a\"],[0.8888888888888888,\"#fdca26\"],[1.0,\"#f0f921\"]],\"sequentialminus\":[[0.0,\"#0d0887\"],[0.1111111111111111,\"#46039f\"],[0.2222222222222222,\"#7201a8\"],[0.3333333333333333,\"#9c179e\"],[0.4444444444444444,\"#bd3786\"],[0.5555555555555556,\"#d8576b\"],[0.6666666666666666,\"#ed7953\"],[0.7777777777777778,\"#fb9f3a\"],[0.8888888888888888,\"#fdca26\"],[1.0,\"#f0f921\"]],\"diverging\":[[0,\"#8e0152\"],[0.1,\"#c51b7d\"],[0.2,\"#de77ae\"],[0.3,\"#f1b6da\"],[0.4,\"#fde0ef\"],[0.5,\"#f7f7f7\"],[0.6,\"#e6f5d0\"],[0.7,\"#b8e186\"],[0.8,\"#7fbc41\"],[0.9,\"#4d9221\"],[1,\"#276419\"]]},\"xaxis\":{\"gridcolor\":\"white\",\"linecolor\":\"white\",\"ticks\":\"\",\"title\":{\"standoff\":15},\"zerolinecolor\":\"white\",\"automargin\":true,\"zerolinewidth\":2},\"yaxis\":{\"gridcolor\":\"white\",\"linecolor\":\"white\",\"ticks\":\"\",\"title\":{\"standoff\":15},\"zerolinecolor\":\"white\",\"automargin\":true,\"zerolinewidth\":2},\"scene\":{\"xaxis\":{\"backgroundcolor\":\"#E5ECF6\",\"gridcolor\":\"white\",\"linecolor\":\"white\",\"showbackground\":true,\"ticks\":\"\",\"zerolinecolor\":\"white\",\"gridwidth\":2},\"yaxis\":{\"backgroundcolor\":\"#E5ECF6\",\"gridcolor\":\"white\",\"linecolor\":\"white\",\"showbackground\":true,\"ticks\":\"\",\"zerolinecolor\":\"white\",\"gridwidth\":2},\"zaxis\":{\"backgroundcolor\":\"#E5ECF6\",\"gridcolor\":\"white\",\"linecolor\":\"white\",\"showbackground\":true,\"ticks\":\"\",\"zerolinecolor\":\"white\",\"gridwidth\":2}},\"shapedefaults\":{\"line\":{\"color\":\"#2a3f5f\"}},\"annotationdefaults\":{\"arrowcolor\":\"#2a3f5f\",\"arrowhead\":0,\"arrowwidth\":1},\"geo\":{\"bgcolor\":\"white\",\"landcolor\":\"#E5ECF6\",\"subunitcolor\":\"white\",\"showland\":true,\"showlakes\":true,\"lakecolor\":\"white\"},\"title\":{\"x\":0.05},\"mapbox\":{\"style\":\"light\"}}},\"xaxis\":{\"anchor\":\"y\",\"domain\":[0.0,1.0],\"title\":{\"text\":\"x\"}},\"yaxis\":{\"anchor\":\"x\",\"domain\":[0.0,1.0],\"title\":{\"text\":\"y\"}},\"legend\":{\"title\":{\"text\":\"Main Topic\"},\"tracegroupgap\":0,\"itemsizing\":\"constant\"},\"title\":{\"text\":\"Topic Clustering Graph\"}},                        {\"responsive\": true}                    ).then(function(){\n",
       "                            \n",
       "var gd = document.getElementById('5817f07c-2dd6-47be-8335-835fb6b154bb');\n",
       "var x = new MutationObserver(function (mutations, observer) {{\n",
       "        var display = window.getComputedStyle(gd).display;\n",
       "        if (!display || display === 'none') {{\n",
       "            console.log([gd, 'removed!']);\n",
       "            Plotly.purge(gd);\n",
       "            observer.disconnect();\n",
       "        }}\n",
       "}});\n",
       "\n",
       "// Listen for the removal of the full notebook cells\n",
       "var notebookContainer = gd.closest('#notebook-container');\n",
       "if (notebookContainer) {{\n",
       "    x.observe(notebookContainer, {childList: true});\n",
       "}}\n",
       "\n",
       "// Listen for the clearing of the current output cell\n",
       "var outputEl = gd.closest('.output');\n",
       "if (outputEl) {{\n",
       "    x.observe(outputEl, {childList: true});\n",
       "}}\n",
       "\n",
       "                        })                };                });            </script>        </div>"
      ]
     },
     "metadata": {},
     "output_type": "display_data"
    }
   ],
   "source": [
    "num_topics = len(LDA_model_topics)\n",
    "\n",
    "#print(num_topics)\n",
    "\n",
    "#Get Topic Weights\n",
    "topic_weights = []\n",
    "for i in df[\"Topics\"]:\n",
    "    per_doc_list = [None] * num_topics\n",
    "    #print(len(per_doc_list))\n",
    "    for x in i:\n",
    "        #print(x)\n",
    "        per_doc_list[x[0]] = x[1]\n",
    "    topic_weights.append(per_doc_list)\n",
    "\n",
    "# Array of topic weights    \n",
    "arr = pd.DataFrame(topic_weights).fillna(0).to_numpy()\n",
    "\n",
    "# Dominant topic number in each doc\n",
    "topic_num = np.argmax(arr, axis=1)\n",
    "\n",
    "#print(arr)\n",
    "\n",
    "# tSNE Model Creation\n",
    "tsne_model = TSNE(n_components=2, verbose=1, \n",
    "                  random_state=0, angle=.99, \n",
    "                  init='pca', perplexity = (arr.shape[0] - 1) / 3)\n",
    "tsne_lda = tsne_model.fit_transform(arr)\n",
    "\n",
    "#Color palette for the clusters\n",
    "mycolors = np.array([color for name, color in mcolors.CSS4_COLORS.items()])\n",
    "\n",
    "#Formatting\n",
    "df['Main Topic'] = df['Main Topic'].apply(int)#turn them into ints so we can sort by main topic, then back to str\n",
    "\n",
    "df = df.sort_values(by=['Main Topic'],ascending = True)#sort by main topic to make the legend pretty\n",
    "\n",
    "df['Main Topic'] = df['Main Topic'].apply(str) #this makes it so we can use main topic as categorical data\n",
    "\n",
    "#creating the cluster graph in plotly\n",
    "fig_cluster = px.scatter(df, x = tsne_lda[:,0],y = tsne_lda[:,1],\n",
    "                        custom_data = ['Shortened Address', 'Sentiment Label', 'Main Topic'],\n",
    "                        color = \"Main Topic\",#mycolors[topic_num],\n",
    "                        size = \"Main Topic Score\",\n",
    "                        title = \"Topic Clustering Graph\",\n",
    "                        labels = dict(color = \"Main Topic\"))\n",
    "\n",
    "fig_cluster.update_traces(hovertemplate=\"<br>\".join([\"Address: %{customdata[0]}\",\n",
    "                                                     \"Sentiment Label: %{customdata[1]}\",\n",
    "                                                     \"Main Topic:%{customdata[2]}\"])\n",
    "                          )#set the hover text to show whatwas in custom_data\n",
    "\n",
    "fig_cluster.show()\n",
    "\n",
    "df['Main Topic'] = df['Main Topic'].apply(int)#turn back to int\n"
   ]
  },
  {
   "cell_type": "markdown",
   "id": "69a452f5",
   "metadata": {},
   "source": [
    "## Subjectivity vs Sentiment of Articles for a single topic"
   ]
  },
  {
   "cell_type": "code",
   "execution_count": 158,
   "id": "8cb3e81c",
   "metadata": {
    "scrolled": false
   },
   "outputs": [
    {
     "data": {
      "application/vnd.plotly.v1+json": {
       "config": {
        "plotlyServerURL": "https://plot.ly"
       },
       "data": [
        {
         "hovertemplate": "<b>%{hovertext}</b><br><br>Subjectivity Score=%{x}<br>Sentiment Score=%{y}<br>Main Topic Score=%{marker.size}<extra></extra>",
         "hovertext": [
          "https://fox40.com/news/political-co",
          "https://abc7amarillo.com/news/natio",
          "https://foxreno.com/news/coronaviru"
         ],
         "legendgroup": "",
         "marker": {
          "color": "#636efa",
          "size": [
           0.9970922470092773,
           0.9934267401695251,
           0.9918122291564941
          ],
          "sizemode": "area",
          "sizeref": 0.0024927306175231935,
          "symbol": "circle"
         },
         "mode": "markers",
         "name": "",
         "orientation": "v",
         "showlegend": false,
         "type": "scatter",
         "x": [
          0.4,
          0.28,
          0.26
         ],
         "xaxis": "x",
         "y": [
          0.01,
          0.1,
          0.04
         ],
         "yaxis": "y"
        }
       ],
       "layout": {
        "legend": {
         "itemsizing": "constant",
         "tracegroupgap": 0
        },
        "template": {
         "data": {
          "bar": [
           {
            "error_x": {
             "color": "#2a3f5f"
            },
            "error_y": {
             "color": "#2a3f5f"
            },
            "marker": {
             "line": {
              "color": "#E5ECF6",
              "width": 0.5
             },
             "pattern": {
              "fillmode": "overlay",
              "size": 10,
              "solidity": 0.2
             }
            },
            "type": "bar"
           }
          ],
          "barpolar": [
           {
            "marker": {
             "line": {
              "color": "#E5ECF6",
              "width": 0.5
             },
             "pattern": {
              "fillmode": "overlay",
              "size": 10,
              "solidity": 0.2
             }
            },
            "type": "barpolar"
           }
          ],
          "carpet": [
           {
            "aaxis": {
             "endlinecolor": "#2a3f5f",
             "gridcolor": "white",
             "linecolor": "white",
             "minorgridcolor": "white",
             "startlinecolor": "#2a3f5f"
            },
            "baxis": {
             "endlinecolor": "#2a3f5f",
             "gridcolor": "white",
             "linecolor": "white",
             "minorgridcolor": "white",
             "startlinecolor": "#2a3f5f"
            },
            "type": "carpet"
           }
          ],
          "choropleth": [
           {
            "colorbar": {
             "outlinewidth": 0,
             "ticks": ""
            },
            "type": "choropleth"
           }
          ],
          "contour": [
           {
            "colorbar": {
             "outlinewidth": 0,
             "ticks": ""
            },
            "colorscale": [
             [
              0,
              "#0d0887"
             ],
             [
              0.1111111111111111,
              "#46039f"
             ],
             [
              0.2222222222222222,
              "#7201a8"
             ],
             [
              0.3333333333333333,
              "#9c179e"
             ],
             [
              0.4444444444444444,
              "#bd3786"
             ],
             [
              0.5555555555555556,
              "#d8576b"
             ],
             [
              0.6666666666666666,
              "#ed7953"
             ],
             [
              0.7777777777777778,
              "#fb9f3a"
             ],
             [
              0.8888888888888888,
              "#fdca26"
             ],
             [
              1,
              "#f0f921"
             ]
            ],
            "type": "contour"
           }
          ],
          "contourcarpet": [
           {
            "colorbar": {
             "outlinewidth": 0,
             "ticks": ""
            },
            "type": "contourcarpet"
           }
          ],
          "heatmap": [
           {
            "colorbar": {
             "outlinewidth": 0,
             "ticks": ""
            },
            "colorscale": [
             [
              0,
              "#0d0887"
             ],
             [
              0.1111111111111111,
              "#46039f"
             ],
             [
              0.2222222222222222,
              "#7201a8"
             ],
             [
              0.3333333333333333,
              "#9c179e"
             ],
             [
              0.4444444444444444,
              "#bd3786"
             ],
             [
              0.5555555555555556,
              "#d8576b"
             ],
             [
              0.6666666666666666,
              "#ed7953"
             ],
             [
              0.7777777777777778,
              "#fb9f3a"
             ],
             [
              0.8888888888888888,
              "#fdca26"
             ],
             [
              1,
              "#f0f921"
             ]
            ],
            "type": "heatmap"
           }
          ],
          "heatmapgl": [
           {
            "colorbar": {
             "outlinewidth": 0,
             "ticks": ""
            },
            "colorscale": [
             [
              0,
              "#0d0887"
             ],
             [
              0.1111111111111111,
              "#46039f"
             ],
             [
              0.2222222222222222,
              "#7201a8"
             ],
             [
              0.3333333333333333,
              "#9c179e"
             ],
             [
              0.4444444444444444,
              "#bd3786"
             ],
             [
              0.5555555555555556,
              "#d8576b"
             ],
             [
              0.6666666666666666,
              "#ed7953"
             ],
             [
              0.7777777777777778,
              "#fb9f3a"
             ],
             [
              0.8888888888888888,
              "#fdca26"
             ],
             [
              1,
              "#f0f921"
             ]
            ],
            "type": "heatmapgl"
           }
          ],
          "histogram": [
           {
            "marker": {
             "pattern": {
              "fillmode": "overlay",
              "size": 10,
              "solidity": 0.2
             }
            },
            "type": "histogram"
           }
          ],
          "histogram2d": [
           {
            "colorbar": {
             "outlinewidth": 0,
             "ticks": ""
            },
            "colorscale": [
             [
              0,
              "#0d0887"
             ],
             [
              0.1111111111111111,
              "#46039f"
             ],
             [
              0.2222222222222222,
              "#7201a8"
             ],
             [
              0.3333333333333333,
              "#9c179e"
             ],
             [
              0.4444444444444444,
              "#bd3786"
             ],
             [
              0.5555555555555556,
              "#d8576b"
             ],
             [
              0.6666666666666666,
              "#ed7953"
             ],
             [
              0.7777777777777778,
              "#fb9f3a"
             ],
             [
              0.8888888888888888,
              "#fdca26"
             ],
             [
              1,
              "#f0f921"
             ]
            ],
            "type": "histogram2d"
           }
          ],
          "histogram2dcontour": [
           {
            "colorbar": {
             "outlinewidth": 0,
             "ticks": ""
            },
            "colorscale": [
             [
              0,
              "#0d0887"
             ],
             [
              0.1111111111111111,
              "#46039f"
             ],
             [
              0.2222222222222222,
              "#7201a8"
             ],
             [
              0.3333333333333333,
              "#9c179e"
             ],
             [
              0.4444444444444444,
              "#bd3786"
             ],
             [
              0.5555555555555556,
              "#d8576b"
             ],
             [
              0.6666666666666666,
              "#ed7953"
             ],
             [
              0.7777777777777778,
              "#fb9f3a"
             ],
             [
              0.8888888888888888,
              "#fdca26"
             ],
             [
              1,
              "#f0f921"
             ]
            ],
            "type": "histogram2dcontour"
           }
          ],
          "mesh3d": [
           {
            "colorbar": {
             "outlinewidth": 0,
             "ticks": ""
            },
            "type": "mesh3d"
           }
          ],
          "parcoords": [
           {
            "line": {
             "colorbar": {
              "outlinewidth": 0,
              "ticks": ""
             }
            },
            "type": "parcoords"
           }
          ],
          "pie": [
           {
            "automargin": true,
            "type": "pie"
           }
          ],
          "scatter": [
           {
            "fillpattern": {
             "fillmode": "overlay",
             "size": 10,
             "solidity": 0.2
            },
            "type": "scatter"
           }
          ],
          "scatter3d": [
           {
            "line": {
             "colorbar": {
              "outlinewidth": 0,
              "ticks": ""
             }
            },
            "marker": {
             "colorbar": {
              "outlinewidth": 0,
              "ticks": ""
             }
            },
            "type": "scatter3d"
           }
          ],
          "scattercarpet": [
           {
            "marker": {
             "colorbar": {
              "outlinewidth": 0,
              "ticks": ""
             }
            },
            "type": "scattercarpet"
           }
          ],
          "scattergeo": [
           {
            "marker": {
             "colorbar": {
              "outlinewidth": 0,
              "ticks": ""
             }
            },
            "type": "scattergeo"
           }
          ],
          "scattergl": [
           {
            "marker": {
             "colorbar": {
              "outlinewidth": 0,
              "ticks": ""
             }
            },
            "type": "scattergl"
           }
          ],
          "scattermapbox": [
           {
            "marker": {
             "colorbar": {
              "outlinewidth": 0,
              "ticks": ""
             }
            },
            "type": "scattermapbox"
           }
          ],
          "scatterpolar": [
           {
            "marker": {
             "colorbar": {
              "outlinewidth": 0,
              "ticks": ""
             }
            },
            "type": "scatterpolar"
           }
          ],
          "scatterpolargl": [
           {
            "marker": {
             "colorbar": {
              "outlinewidth": 0,
              "ticks": ""
             }
            },
            "type": "scatterpolargl"
           }
          ],
          "scatterternary": [
           {
            "marker": {
             "colorbar": {
              "outlinewidth": 0,
              "ticks": ""
             }
            },
            "type": "scatterternary"
           }
          ],
          "surface": [
           {
            "colorbar": {
             "outlinewidth": 0,
             "ticks": ""
            },
            "colorscale": [
             [
              0,
              "#0d0887"
             ],
             [
              0.1111111111111111,
              "#46039f"
             ],
             [
              0.2222222222222222,
              "#7201a8"
             ],
             [
              0.3333333333333333,
              "#9c179e"
             ],
             [
              0.4444444444444444,
              "#bd3786"
             ],
             [
              0.5555555555555556,
              "#d8576b"
             ],
             [
              0.6666666666666666,
              "#ed7953"
             ],
             [
              0.7777777777777778,
              "#fb9f3a"
             ],
             [
              0.8888888888888888,
              "#fdca26"
             ],
             [
              1,
              "#f0f921"
             ]
            ],
            "type": "surface"
           }
          ],
          "table": [
           {
            "cells": {
             "fill": {
              "color": "#EBF0F8"
             },
             "line": {
              "color": "white"
             }
            },
            "header": {
             "fill": {
              "color": "#C8D4E3"
             },
             "line": {
              "color": "white"
             }
            },
            "type": "table"
           }
          ]
         },
         "layout": {
          "annotationdefaults": {
           "arrowcolor": "#2a3f5f",
           "arrowhead": 0,
           "arrowwidth": 1
          },
          "autotypenumbers": "strict",
          "coloraxis": {
           "colorbar": {
            "outlinewidth": 0,
            "ticks": ""
           }
          },
          "colorscale": {
           "diverging": [
            [
             0,
             "#8e0152"
            ],
            [
             0.1,
             "#c51b7d"
            ],
            [
             0.2,
             "#de77ae"
            ],
            [
             0.3,
             "#f1b6da"
            ],
            [
             0.4,
             "#fde0ef"
            ],
            [
             0.5,
             "#f7f7f7"
            ],
            [
             0.6,
             "#e6f5d0"
            ],
            [
             0.7,
             "#b8e186"
            ],
            [
             0.8,
             "#7fbc41"
            ],
            [
             0.9,
             "#4d9221"
            ],
            [
             1,
             "#276419"
            ]
           ],
           "sequential": [
            [
             0,
             "#0d0887"
            ],
            [
             0.1111111111111111,
             "#46039f"
            ],
            [
             0.2222222222222222,
             "#7201a8"
            ],
            [
             0.3333333333333333,
             "#9c179e"
            ],
            [
             0.4444444444444444,
             "#bd3786"
            ],
            [
             0.5555555555555556,
             "#d8576b"
            ],
            [
             0.6666666666666666,
             "#ed7953"
            ],
            [
             0.7777777777777778,
             "#fb9f3a"
            ],
            [
             0.8888888888888888,
             "#fdca26"
            ],
            [
             1,
             "#f0f921"
            ]
           ],
           "sequentialminus": [
            [
             0,
             "#0d0887"
            ],
            [
             0.1111111111111111,
             "#46039f"
            ],
            [
             0.2222222222222222,
             "#7201a8"
            ],
            [
             0.3333333333333333,
             "#9c179e"
            ],
            [
             0.4444444444444444,
             "#bd3786"
            ],
            [
             0.5555555555555556,
             "#d8576b"
            ],
            [
             0.6666666666666666,
             "#ed7953"
            ],
            [
             0.7777777777777778,
             "#fb9f3a"
            ],
            [
             0.8888888888888888,
             "#fdca26"
            ],
            [
             1,
             "#f0f921"
            ]
           ]
          },
          "colorway": [
           "#636efa",
           "#EF553B",
           "#00cc96",
           "#ab63fa",
           "#FFA15A",
           "#19d3f3",
           "#FF6692",
           "#B6E880",
           "#FF97FF",
           "#FECB52"
          ],
          "font": {
           "color": "#2a3f5f"
          },
          "geo": {
           "bgcolor": "white",
           "lakecolor": "white",
           "landcolor": "#E5ECF6",
           "showlakes": true,
           "showland": true,
           "subunitcolor": "white"
          },
          "hoverlabel": {
           "align": "left"
          },
          "hovermode": "closest",
          "mapbox": {
           "style": "light"
          },
          "paper_bgcolor": "white",
          "plot_bgcolor": "#E5ECF6",
          "polar": {
           "angularaxis": {
            "gridcolor": "white",
            "linecolor": "white",
            "ticks": ""
           },
           "bgcolor": "#E5ECF6",
           "radialaxis": {
            "gridcolor": "white",
            "linecolor": "white",
            "ticks": ""
           }
          },
          "scene": {
           "xaxis": {
            "backgroundcolor": "#E5ECF6",
            "gridcolor": "white",
            "gridwidth": 2,
            "linecolor": "white",
            "showbackground": true,
            "ticks": "",
            "zerolinecolor": "white"
           },
           "yaxis": {
            "backgroundcolor": "#E5ECF6",
            "gridcolor": "white",
            "gridwidth": 2,
            "linecolor": "white",
            "showbackground": true,
            "ticks": "",
            "zerolinecolor": "white"
           },
           "zaxis": {
            "backgroundcolor": "#E5ECF6",
            "gridcolor": "white",
            "gridwidth": 2,
            "linecolor": "white",
            "showbackground": true,
            "ticks": "",
            "zerolinecolor": "white"
           }
          },
          "shapedefaults": {
           "line": {
            "color": "#2a3f5f"
           }
          },
          "ternary": {
           "aaxis": {
            "gridcolor": "white",
            "linecolor": "white",
            "ticks": ""
           },
           "baxis": {
            "gridcolor": "white",
            "linecolor": "white",
            "ticks": ""
           },
           "bgcolor": "#E5ECF6",
           "caxis": {
            "gridcolor": "white",
            "linecolor": "white",
            "ticks": ""
           }
          },
          "title": {
           "x": 0.05
          },
          "xaxis": {
           "automargin": true,
           "gridcolor": "white",
           "linecolor": "white",
           "ticks": "",
           "title": {
            "standoff": 15
           },
           "zerolinecolor": "white",
           "zerolinewidth": 2
          },
          "yaxis": {
           "automargin": true,
           "gridcolor": "white",
           "linecolor": "white",
           "ticks": "",
           "title": {
            "standoff": 15
           },
           "zerolinecolor": "white",
           "zerolinewidth": 2
          }
         }
        },
        "title": {
         "text": "Sentiment Analysis on Topic 0"
        },
        "xaxis": {
         "anchor": "y",
         "domain": [
          0,
          1
         ],
         "title": {
          "text": "Subjectivity Score"
         }
        },
        "yaxis": {
         "anchor": "x",
         "domain": [
          0,
          1
         ],
         "title": {
          "text": "Sentiment Score"
         }
        }
       }
      },
      "text/html": [
       "<div>                            <div id=\"7b760dd8-bb65-4449-8a18-1ec73fe56237\" class=\"plotly-graph-div\" style=\"height:525px; width:100%;\"></div>            <script type=\"text/javascript\">                require([\"plotly\"], function(Plotly) {                    window.PLOTLYENV=window.PLOTLYENV || {};                                    if (document.getElementById(\"7b760dd8-bb65-4449-8a18-1ec73fe56237\")) {                    Plotly.newPlot(                        \"7b760dd8-bb65-4449-8a18-1ec73fe56237\",                        [{\"hovertemplate\":\"\\u003cb\\u003e%{hovertext}\\u003c\\u002fb\\u003e\\u003cbr\\u003e\\u003cbr\\u003eSubjectivity Score=%{x}\\u003cbr\\u003eSentiment Score=%{y}\\u003cbr\\u003eMain Topic Score=%{marker.size}\\u003cextra\\u003e\\u003c\\u002fextra\\u003e\",\"hovertext\":[\"https:\\u002f\\u002ffox40.com\\u002fnews\\u002fpolitical-co\",\"https:\\u002f\\u002fabc7amarillo.com\\u002fnews\\u002fnatio\",\"https:\\u002f\\u002ffoxreno.com\\u002fnews\\u002fcoronaviru\"],\"legendgroup\":\"\",\"marker\":{\"color\":\"#636efa\",\"size\":[0.9970922470092773,0.9934267401695251,0.9918122291564941],\"sizemode\":\"area\",\"sizeref\":0.0024927306175231935,\"symbol\":\"circle\"},\"mode\":\"markers\",\"name\":\"\",\"orientation\":\"v\",\"showlegend\":false,\"x\":[0.4,0.28,0.26],\"xaxis\":\"x\",\"y\":[0.01,0.1,0.04],\"yaxis\":\"y\",\"type\":\"scatter\"}],                        {\"template\":{\"data\":{\"histogram2dcontour\":[{\"type\":\"histogram2dcontour\",\"colorbar\":{\"outlinewidth\":0,\"ticks\":\"\"},\"colorscale\":[[0.0,\"#0d0887\"],[0.1111111111111111,\"#46039f\"],[0.2222222222222222,\"#7201a8\"],[0.3333333333333333,\"#9c179e\"],[0.4444444444444444,\"#bd3786\"],[0.5555555555555556,\"#d8576b\"],[0.6666666666666666,\"#ed7953\"],[0.7777777777777778,\"#fb9f3a\"],[0.8888888888888888,\"#fdca26\"],[1.0,\"#f0f921\"]]}],\"choropleth\":[{\"type\":\"choropleth\",\"colorbar\":{\"outlinewidth\":0,\"ticks\":\"\"}}],\"histogram2d\":[{\"type\":\"histogram2d\",\"colorbar\":{\"outlinewidth\":0,\"ticks\":\"\"},\"colorscale\":[[0.0,\"#0d0887\"],[0.1111111111111111,\"#46039f\"],[0.2222222222222222,\"#7201a8\"],[0.3333333333333333,\"#9c179e\"],[0.4444444444444444,\"#bd3786\"],[0.5555555555555556,\"#d8576b\"],[0.6666666666666666,\"#ed7953\"],[0.7777777777777778,\"#fb9f3a\"],[0.8888888888888888,\"#fdca26\"],[1.0,\"#f0f921\"]]}],\"heatmap\":[{\"type\":\"heatmap\",\"colorbar\":{\"outlinewidth\":0,\"ticks\":\"\"},\"colorscale\":[[0.0,\"#0d0887\"],[0.1111111111111111,\"#46039f\"],[0.2222222222222222,\"#7201a8\"],[0.3333333333333333,\"#9c179e\"],[0.4444444444444444,\"#bd3786\"],[0.5555555555555556,\"#d8576b\"],[0.6666666666666666,\"#ed7953\"],[0.7777777777777778,\"#fb9f3a\"],[0.8888888888888888,\"#fdca26\"],[1.0,\"#f0f921\"]]}],\"heatmapgl\":[{\"type\":\"heatmapgl\",\"colorbar\":{\"outlinewidth\":0,\"ticks\":\"\"},\"colorscale\":[[0.0,\"#0d0887\"],[0.1111111111111111,\"#46039f\"],[0.2222222222222222,\"#7201a8\"],[0.3333333333333333,\"#9c179e\"],[0.4444444444444444,\"#bd3786\"],[0.5555555555555556,\"#d8576b\"],[0.6666666666666666,\"#ed7953\"],[0.7777777777777778,\"#fb9f3a\"],[0.8888888888888888,\"#fdca26\"],[1.0,\"#f0f921\"]]}],\"contourcarpet\":[{\"type\":\"contourcarpet\",\"colorbar\":{\"outlinewidth\":0,\"ticks\":\"\"}}],\"contour\":[{\"type\":\"contour\",\"colorbar\":{\"outlinewidth\":0,\"ticks\":\"\"},\"colorscale\":[[0.0,\"#0d0887\"],[0.1111111111111111,\"#46039f\"],[0.2222222222222222,\"#7201a8\"],[0.3333333333333333,\"#9c179e\"],[0.4444444444444444,\"#bd3786\"],[0.5555555555555556,\"#d8576b\"],[0.6666666666666666,\"#ed7953\"],[0.7777777777777778,\"#fb9f3a\"],[0.8888888888888888,\"#fdca26\"],[1.0,\"#f0f921\"]]}],\"surface\":[{\"type\":\"surface\",\"colorbar\":{\"outlinewidth\":0,\"ticks\":\"\"},\"colorscale\":[[0.0,\"#0d0887\"],[0.1111111111111111,\"#46039f\"],[0.2222222222222222,\"#7201a8\"],[0.3333333333333333,\"#9c179e\"],[0.4444444444444444,\"#bd3786\"],[0.5555555555555556,\"#d8576b\"],[0.6666666666666666,\"#ed7953\"],[0.7777777777777778,\"#fb9f3a\"],[0.8888888888888888,\"#fdca26\"],[1.0,\"#f0f921\"]]}],\"mesh3d\":[{\"type\":\"mesh3d\",\"colorbar\":{\"outlinewidth\":0,\"ticks\":\"\"}}],\"scatter\":[{\"fillpattern\":{\"fillmode\":\"overlay\",\"size\":10,\"solidity\":0.2},\"type\":\"scatter\"}],\"parcoords\":[{\"type\":\"parcoords\",\"line\":{\"colorbar\":{\"outlinewidth\":0,\"ticks\":\"\"}}}],\"scatterpolargl\":[{\"type\":\"scatterpolargl\",\"marker\":{\"colorbar\":{\"outlinewidth\":0,\"ticks\":\"\"}}}],\"bar\":[{\"error_x\":{\"color\":\"#2a3f5f\"},\"error_y\":{\"color\":\"#2a3f5f\"},\"marker\":{\"line\":{\"color\":\"#E5ECF6\",\"width\":0.5},\"pattern\":{\"fillmode\":\"overlay\",\"size\":10,\"solidity\":0.2}},\"type\":\"bar\"}],\"scattergeo\":[{\"type\":\"scattergeo\",\"marker\":{\"colorbar\":{\"outlinewidth\":0,\"ticks\":\"\"}}}],\"scatterpolar\":[{\"type\":\"scatterpolar\",\"marker\":{\"colorbar\":{\"outlinewidth\":0,\"ticks\":\"\"}}}],\"histogram\":[{\"marker\":{\"pattern\":{\"fillmode\":\"overlay\",\"size\":10,\"solidity\":0.2}},\"type\":\"histogram\"}],\"scattergl\":[{\"type\":\"scattergl\",\"marker\":{\"colorbar\":{\"outlinewidth\":0,\"ticks\":\"\"}}}],\"scatter3d\":[{\"type\":\"scatter3d\",\"line\":{\"colorbar\":{\"outlinewidth\":0,\"ticks\":\"\"}},\"marker\":{\"colorbar\":{\"outlinewidth\":0,\"ticks\":\"\"}}}],\"scattermapbox\":[{\"type\":\"scattermapbox\",\"marker\":{\"colorbar\":{\"outlinewidth\":0,\"ticks\":\"\"}}}],\"scatterternary\":[{\"type\":\"scatterternary\",\"marker\":{\"colorbar\":{\"outlinewidth\":0,\"ticks\":\"\"}}}],\"scattercarpet\":[{\"type\":\"scattercarpet\",\"marker\":{\"colorbar\":{\"outlinewidth\":0,\"ticks\":\"\"}}}],\"carpet\":[{\"aaxis\":{\"endlinecolor\":\"#2a3f5f\",\"gridcolor\":\"white\",\"linecolor\":\"white\",\"minorgridcolor\":\"white\",\"startlinecolor\":\"#2a3f5f\"},\"baxis\":{\"endlinecolor\":\"#2a3f5f\",\"gridcolor\":\"white\",\"linecolor\":\"white\",\"minorgridcolor\":\"white\",\"startlinecolor\":\"#2a3f5f\"},\"type\":\"carpet\"}],\"table\":[{\"cells\":{\"fill\":{\"color\":\"#EBF0F8\"},\"line\":{\"color\":\"white\"}},\"header\":{\"fill\":{\"color\":\"#C8D4E3\"},\"line\":{\"color\":\"white\"}},\"type\":\"table\"}],\"barpolar\":[{\"marker\":{\"line\":{\"color\":\"#E5ECF6\",\"width\":0.5},\"pattern\":{\"fillmode\":\"overlay\",\"size\":10,\"solidity\":0.2}},\"type\":\"barpolar\"}],\"pie\":[{\"automargin\":true,\"type\":\"pie\"}]},\"layout\":{\"autotypenumbers\":\"strict\",\"colorway\":[\"#636efa\",\"#EF553B\",\"#00cc96\",\"#ab63fa\",\"#FFA15A\",\"#19d3f3\",\"#FF6692\",\"#B6E880\",\"#FF97FF\",\"#FECB52\"],\"font\":{\"color\":\"#2a3f5f\"},\"hovermode\":\"closest\",\"hoverlabel\":{\"align\":\"left\"},\"paper_bgcolor\":\"white\",\"plot_bgcolor\":\"#E5ECF6\",\"polar\":{\"bgcolor\":\"#E5ECF6\",\"angularaxis\":{\"gridcolor\":\"white\",\"linecolor\":\"white\",\"ticks\":\"\"},\"radialaxis\":{\"gridcolor\":\"white\",\"linecolor\":\"white\",\"ticks\":\"\"}},\"ternary\":{\"bgcolor\":\"#E5ECF6\",\"aaxis\":{\"gridcolor\":\"white\",\"linecolor\":\"white\",\"ticks\":\"\"},\"baxis\":{\"gridcolor\":\"white\",\"linecolor\":\"white\",\"ticks\":\"\"},\"caxis\":{\"gridcolor\":\"white\",\"linecolor\":\"white\",\"ticks\":\"\"}},\"coloraxis\":{\"colorbar\":{\"outlinewidth\":0,\"ticks\":\"\"}},\"colorscale\":{\"sequential\":[[0.0,\"#0d0887\"],[0.1111111111111111,\"#46039f\"],[0.2222222222222222,\"#7201a8\"],[0.3333333333333333,\"#9c179e\"],[0.4444444444444444,\"#bd3786\"],[0.5555555555555556,\"#d8576b\"],[0.6666666666666666,\"#ed7953\"],[0.7777777777777778,\"#fb9f3a\"],[0.8888888888888888,\"#fdca26\"],[1.0,\"#f0f921\"]],\"sequentialminus\":[[0.0,\"#0d0887\"],[0.1111111111111111,\"#46039f\"],[0.2222222222222222,\"#7201a8\"],[0.3333333333333333,\"#9c179e\"],[0.4444444444444444,\"#bd3786\"],[0.5555555555555556,\"#d8576b\"],[0.6666666666666666,\"#ed7953\"],[0.7777777777777778,\"#fb9f3a\"],[0.8888888888888888,\"#fdca26\"],[1.0,\"#f0f921\"]],\"diverging\":[[0,\"#8e0152\"],[0.1,\"#c51b7d\"],[0.2,\"#de77ae\"],[0.3,\"#f1b6da\"],[0.4,\"#fde0ef\"],[0.5,\"#f7f7f7\"],[0.6,\"#e6f5d0\"],[0.7,\"#b8e186\"],[0.8,\"#7fbc41\"],[0.9,\"#4d9221\"],[1,\"#276419\"]]},\"xaxis\":{\"gridcolor\":\"white\",\"linecolor\":\"white\",\"ticks\":\"\",\"title\":{\"standoff\":15},\"zerolinecolor\":\"white\",\"automargin\":true,\"zerolinewidth\":2},\"yaxis\":{\"gridcolor\":\"white\",\"linecolor\":\"white\",\"ticks\":\"\",\"title\":{\"standoff\":15},\"zerolinecolor\":\"white\",\"automargin\":true,\"zerolinewidth\":2},\"scene\":{\"xaxis\":{\"backgroundcolor\":\"#E5ECF6\",\"gridcolor\":\"white\",\"linecolor\":\"white\",\"showbackground\":true,\"ticks\":\"\",\"zerolinecolor\":\"white\",\"gridwidth\":2},\"yaxis\":{\"backgroundcolor\":\"#E5ECF6\",\"gridcolor\":\"white\",\"linecolor\":\"white\",\"showbackground\":true,\"ticks\":\"\",\"zerolinecolor\":\"white\",\"gridwidth\":2},\"zaxis\":{\"backgroundcolor\":\"#E5ECF6\",\"gridcolor\":\"white\",\"linecolor\":\"white\",\"showbackground\":true,\"ticks\":\"\",\"zerolinecolor\":\"white\",\"gridwidth\":2}},\"shapedefaults\":{\"line\":{\"color\":\"#2a3f5f\"}},\"annotationdefaults\":{\"arrowcolor\":\"#2a3f5f\",\"arrowhead\":0,\"arrowwidth\":1},\"geo\":{\"bgcolor\":\"white\",\"landcolor\":\"#E5ECF6\",\"subunitcolor\":\"white\",\"showland\":true,\"showlakes\":true,\"lakecolor\":\"white\"},\"title\":{\"x\":0.05},\"mapbox\":{\"style\":\"light\"}}},\"xaxis\":{\"anchor\":\"y\",\"domain\":[0.0,1.0],\"title\":{\"text\":\"Subjectivity Score\"}},\"yaxis\":{\"anchor\":\"x\",\"domain\":[0.0,1.0],\"title\":{\"text\":\"Sentiment Score\"}},\"legend\":{\"tracegroupgap\":0,\"itemsizing\":\"constant\"},\"title\":{\"text\":\"Sentiment Analysis on Topic 0\"}},                        {\"responsive\": true}                    ).then(function(){\n",
       "                            \n",
       "var gd = document.getElementById('7b760dd8-bb65-4449-8a18-1ec73fe56237');\n",
       "var x = new MutationObserver(function (mutations, observer) {{\n",
       "        var display = window.getComputedStyle(gd).display;\n",
       "        if (!display || display === 'none') {{\n",
       "            console.log([gd, 'removed!']);\n",
       "            Plotly.purge(gd);\n",
       "            observer.disconnect();\n",
       "        }}\n",
       "}});\n",
       "\n",
       "// Listen for the removal of the full notebook cells\n",
       "var notebookContainer = gd.closest('#notebook-container');\n",
       "if (notebookContainer) {{\n",
       "    x.observe(notebookContainer, {childList: true});\n",
       "}}\n",
       "\n",
       "// Listen for the clearing of the current output cell\n",
       "var outputEl = gd.closest('.output');\n",
       "if (outputEl) {{\n",
       "    x.observe(outputEl, {childList: true});\n",
       "}}\n",
       "\n",
       "                        })                };                });            </script>        </div>"
      ]
     },
     "metadata": {},
     "output_type": "display_data"
    }
   ],
   "source": [
    "df_topic_0 = df[df['Main Topic'] == 0]\n",
    "\n",
    "\n",
    "t_string = \"Sentiment Analysis on Topic \" + \"0\"\n",
    "fig = px.scatter(df_topic_0, x = \"Subjectivity Score\", y = \"Sentiment Score\", \n",
    "                size = \"Main Topic Score\", hover_name = \"Shortened Address\", title = t_string)\n",
    "\n",
    "#df_topic_0\n",
    "fig.show()"
   ]
  },
  {
   "cell_type": "markdown",
   "id": "f184ac6b",
   "metadata": {},
   "source": [
    "## K means Clustering"
   ]
  },
  {
   "cell_type": "code",
   "execution_count": 159,
   "id": "0761c350",
   "metadata": {},
   "outputs": [],
   "source": [
    "#https://medium.com/analytics-vidhya/implementation-of-principal-component-analysis-pca-in-k-means-clustering-b4bc0aa79cb6\n",
    "#https://scikit-learn.org/stable/modules/clustering.html#k-means\n"
   ]
  },
  {
   "cell_type": "code",
   "execution_count": 160,
   "id": "c15a1a03",
   "metadata": {},
   "outputs": [],
   "source": [
    "from sklearn.feature_extraction.text import TfidfVectorizer\n",
    "from sklearn.cluster import KMeans\n",
    "from sklearn.cluster import MiniBatchKMeans\n",
    "import matplotlib.pyplot as plt\n",
    "\n",
    "from sklearn.decomposition import PCA\n"
   ]
  },
  {
   "cell_type": "code",
   "execution_count": 161,
   "id": "67df5245",
   "metadata": {
    "scrolled": true
   },
   "outputs": [
    {
     "data": {
      "text/html": [
       "<div>\n",
       "<style scoped>\n",
       "    .dataframe tbody tr th:only-of-type {\n",
       "        vertical-align: middle;\n",
       "    }\n",
       "\n",
       "    .dataframe tbody tr th {\n",
       "        vertical-align: top;\n",
       "    }\n",
       "\n",
       "    .dataframe thead tr th {\n",
       "        text-align: left;\n",
       "    }\n",
       "</style>\n",
       "<table border=\"1\" class=\"dataframe\">\n",
       "  <thead>\n",
       "    <tr>\n",
       "      <th></th>\n",
       "      <th>0</th>\n",
       "      <th>1</th>\n",
       "      <th>2</th>\n",
       "      <th>3</th>\n",
       "      <th>4</th>\n",
       "      <th>5</th>\n",
       "      <th>6</th>\n",
       "      <th>7</th>\n",
       "      <th>8</th>\n",
       "      <th>9</th>\n",
       "      <th>10</th>\n",
       "      <th>11</th>\n",
       "      <th>12</th>\n",
       "      <th>13</th>\n",
       "      <th>14</th>\n",
       "    </tr>\n",
       "  </thead>\n",
       "  <tbody>\n",
       "    <tr>\n",
       "      <th>0</th>\n",
       "      <td>0.000281</td>\n",
       "      <td>0.000281</td>\n",
       "      <td>0.000281</td>\n",
       "      <td>0.000281</td>\n",
       "      <td>0.000281</td>\n",
       "      <td>0.000281</td>\n",
       "      <td>0.000281</td>\n",
       "      <td>0.000281</td>\n",
       "      <td>0.000281</td>\n",
       "      <td>0.000281</td>\n",
       "      <td>0.996062</td>\n",
       "      <td>0.000281</td>\n",
       "      <td>0.000281</td>\n",
       "      <td>0.000281</td>\n",
       "      <td>0.000281</td>\n",
       "    </tr>\n",
       "    <tr>\n",
       "      <th>1</th>\n",
       "      <td>0.000490</td>\n",
       "      <td>0.000490</td>\n",
       "      <td>0.000490</td>\n",
       "      <td>0.657466</td>\n",
       "      <td>0.000490</td>\n",
       "      <td>0.000490</td>\n",
       "      <td>0.000490</td>\n",
       "      <td>0.000490</td>\n",
       "      <td>0.000490</td>\n",
       "      <td>0.000490</td>\n",
       "      <td>0.000490</td>\n",
       "      <td>0.000490</td>\n",
       "      <td>0.000490</td>\n",
       "      <td>0.000490</td>\n",
       "      <td>0.336161</td>\n",
       "    </tr>\n",
       "    <tr>\n",
       "      <th>2</th>\n",
       "      <td>0.000091</td>\n",
       "      <td>0.000091</td>\n",
       "      <td>0.000091</td>\n",
       "      <td>0.998727</td>\n",
       "      <td>0.000091</td>\n",
       "      <td>0.000091</td>\n",
       "      <td>0.000091</td>\n",
       "      <td>0.000091</td>\n",
       "      <td>0.000091</td>\n",
       "      <td>0.000091</td>\n",
       "      <td>0.000091</td>\n",
       "      <td>0.000091</td>\n",
       "      <td>0.000091</td>\n",
       "      <td>0.000091</td>\n",
       "      <td>0.000091</td>\n",
       "    </tr>\n",
       "    <tr>\n",
       "      <th>3</th>\n",
       "      <td>0.000234</td>\n",
       "      <td>0.000234</td>\n",
       "      <td>0.900701</td>\n",
       "      <td>0.000234</td>\n",
       "      <td>0.000234</td>\n",
       "      <td>0.096258</td>\n",
       "      <td>0.000234</td>\n",
       "      <td>0.000234</td>\n",
       "      <td>0.000234</td>\n",
       "      <td>0.000234</td>\n",
       "      <td>0.000234</td>\n",
       "      <td>0.000234</td>\n",
       "      <td>0.000234</td>\n",
       "      <td>0.000234</td>\n",
       "      <td>0.000234</td>\n",
       "    </tr>\n",
       "    <tr>\n",
       "      <th>4</th>\n",
       "      <td>0.000178</td>\n",
       "      <td>0.000178</td>\n",
       "      <td>0.000178</td>\n",
       "      <td>0.000178</td>\n",
       "      <td>0.000178</td>\n",
       "      <td>0.000178</td>\n",
       "      <td>0.000178</td>\n",
       "      <td>0.997504</td>\n",
       "      <td>0.000178</td>\n",
       "      <td>0.000178</td>\n",
       "      <td>0.000178</td>\n",
       "      <td>0.000178</td>\n",
       "      <td>0.000178</td>\n",
       "      <td>0.000178</td>\n",
       "      <td>0.000178</td>\n",
       "    </tr>\n",
       "    <tr>\n",
       "      <th>5</th>\n",
       "      <td>0.000476</td>\n",
       "      <td>0.000476</td>\n",
       "      <td>0.000476</td>\n",
       "      <td>0.000476</td>\n",
       "      <td>0.000476</td>\n",
       "      <td>0.000476</td>\n",
       "      <td>0.000476</td>\n",
       "      <td>0.000476</td>\n",
       "      <td>0.000476</td>\n",
       "      <td>0.000476</td>\n",
       "      <td>0.000476</td>\n",
       "      <td>0.993333</td>\n",
       "      <td>0.000476</td>\n",
       "      <td>0.000476</td>\n",
       "      <td>0.000476</td>\n",
       "    </tr>\n",
       "    <tr>\n",
       "      <th>6</th>\n",
       "      <td>0.000198</td>\n",
       "      <td>0.000198</td>\n",
       "      <td>0.004042</td>\n",
       "      <td>0.000198</td>\n",
       "      <td>0.000198</td>\n",
       "      <td>0.000198</td>\n",
       "      <td>0.000198</td>\n",
       "      <td>0.000198</td>\n",
       "      <td>0.000198</td>\n",
       "      <td>0.000198</td>\n",
       "      <td>0.000198</td>\n",
       "      <td>0.000198</td>\n",
       "      <td>0.000198</td>\n",
       "      <td>0.000198</td>\n",
       "      <td>0.993379</td>\n",
       "    </tr>\n",
       "    <tr>\n",
       "      <th>7</th>\n",
       "      <td>0.001299</td>\n",
       "      <td>0.000065</td>\n",
       "      <td>0.000065</td>\n",
       "      <td>0.000065</td>\n",
       "      <td>0.000065</td>\n",
       "      <td>0.000065</td>\n",
       "      <td>0.000065</td>\n",
       "      <td>0.000065</td>\n",
       "      <td>0.000065</td>\n",
       "      <td>0.000065</td>\n",
       "      <td>0.000065</td>\n",
       "      <td>0.000065</td>\n",
       "      <td>0.000065</td>\n",
       "      <td>0.997862</td>\n",
       "      <td>0.000065</td>\n",
       "    </tr>\n",
       "    <tr>\n",
       "      <th>8</th>\n",
       "      <td>0.000115</td>\n",
       "      <td>0.000115</td>\n",
       "      <td>0.000115</td>\n",
       "      <td>0.000115</td>\n",
       "      <td>0.000115</td>\n",
       "      <td>0.000115</td>\n",
       "      <td>0.000115</td>\n",
       "      <td>0.998388</td>\n",
       "      <td>0.000115</td>\n",
       "      <td>0.000115</td>\n",
       "      <td>0.000115</td>\n",
       "      <td>0.000115</td>\n",
       "      <td>0.000115</td>\n",
       "      <td>0.000115</td>\n",
       "      <td>0.000115</td>\n",
       "    </tr>\n",
       "    <tr>\n",
       "      <th>9</th>\n",
       "      <td>0.000402</td>\n",
       "      <td>0.000402</td>\n",
       "      <td>0.000402</td>\n",
       "      <td>0.000402</td>\n",
       "      <td>0.994377</td>\n",
       "      <td>0.000402</td>\n",
       "      <td>0.000402</td>\n",
       "      <td>0.000402</td>\n",
       "      <td>0.000402</td>\n",
       "      <td>0.000402</td>\n",
       "      <td>0.000402</td>\n",
       "      <td>0.000402</td>\n",
       "      <td>0.000402</td>\n",
       "      <td>0.000402</td>\n",
       "      <td>0.000402</td>\n",
       "    </tr>\n",
       "    <tr>\n",
       "      <th>10</th>\n",
       "      <td>0.991812</td>\n",
       "      <td>0.000585</td>\n",
       "      <td>0.000585</td>\n",
       "      <td>0.000585</td>\n",
       "      <td>0.000585</td>\n",
       "      <td>0.000585</td>\n",
       "      <td>0.000585</td>\n",
       "      <td>0.000585</td>\n",
       "      <td>0.000585</td>\n",
       "      <td>0.000585</td>\n",
       "      <td>0.000585</td>\n",
       "      <td>0.000585</td>\n",
       "      <td>0.000585</td>\n",
       "      <td>0.000585</td>\n",
       "      <td>0.000585</td>\n",
       "    </tr>\n",
       "    <tr>\n",
       "      <th>11</th>\n",
       "      <td>0.000196</td>\n",
       "      <td>0.000196</td>\n",
       "      <td>0.997263</td>\n",
       "      <td>0.000196</td>\n",
       "      <td>0.000196</td>\n",
       "      <td>0.000196</td>\n",
       "      <td>0.000196</td>\n",
       "      <td>0.000196</td>\n",
       "      <td>0.000196</td>\n",
       "      <td>0.000196</td>\n",
       "      <td>0.000196</td>\n",
       "      <td>0.000196</td>\n",
       "      <td>0.000196</td>\n",
       "      <td>0.000196</td>\n",
       "      <td>0.000196</td>\n",
       "    </tr>\n",
       "    <tr>\n",
       "      <th>12</th>\n",
       "      <td>0.993427</td>\n",
       "      <td>0.000470</td>\n",
       "      <td>0.000470</td>\n",
       "      <td>0.000470</td>\n",
       "      <td>0.000470</td>\n",
       "      <td>0.000470</td>\n",
       "      <td>0.000470</td>\n",
       "      <td>0.000470</td>\n",
       "      <td>0.000470</td>\n",
       "      <td>0.000470</td>\n",
       "      <td>0.000470</td>\n",
       "      <td>0.000470</td>\n",
       "      <td>0.000470</td>\n",
       "      <td>0.000470</td>\n",
       "      <td>0.000470</td>\n",
       "    </tr>\n",
       "    <tr>\n",
       "      <th>13</th>\n",
       "      <td>0.000490</td>\n",
       "      <td>0.976050</td>\n",
       "      <td>0.017577</td>\n",
       "      <td>0.000490</td>\n",
       "      <td>0.000490</td>\n",
       "      <td>0.000490</td>\n",
       "      <td>0.000490</td>\n",
       "      <td>0.000490</td>\n",
       "      <td>0.000490</td>\n",
       "      <td>0.000490</td>\n",
       "      <td>0.000490</td>\n",
       "      <td>0.000490</td>\n",
       "      <td>0.000490</td>\n",
       "      <td>0.000490</td>\n",
       "      <td>0.000490</td>\n",
       "    </tr>\n",
       "    <tr>\n",
       "      <th>14</th>\n",
       "      <td>0.997092</td>\n",
       "      <td>0.000208</td>\n",
       "      <td>0.000208</td>\n",
       "      <td>0.000208</td>\n",
       "      <td>0.000208</td>\n",
       "      <td>0.000208</td>\n",
       "      <td>0.000208</td>\n",
       "      <td>0.000208</td>\n",
       "      <td>0.000208</td>\n",
       "      <td>0.000208</td>\n",
       "      <td>0.000208</td>\n",
       "      <td>0.000208</td>\n",
       "      <td>0.000208</td>\n",
       "      <td>0.000208</td>\n",
       "      <td>0.000208</td>\n",
       "    </tr>\n",
       "    <tr>\n",
       "      <th>15</th>\n",
       "      <td>0.000112</td>\n",
       "      <td>0.000112</td>\n",
       "      <td>0.000112</td>\n",
       "      <td>0.000112</td>\n",
       "      <td>0.000112</td>\n",
       "      <td>0.000112</td>\n",
       "      <td>0.000112</td>\n",
       "      <td>0.000112</td>\n",
       "      <td>0.000112</td>\n",
       "      <td>0.998434</td>\n",
       "      <td>0.000112</td>\n",
       "      <td>0.000112</td>\n",
       "      <td>0.000112</td>\n",
       "      <td>0.000112</td>\n",
       "      <td>0.000112</td>\n",
       "    </tr>\n",
       "    <tr>\n",
       "      <th>16</th>\n",
       "      <td>0.000183</td>\n",
       "      <td>0.000183</td>\n",
       "      <td>0.000183</td>\n",
       "      <td>0.000183</td>\n",
       "      <td>0.997436</td>\n",
       "      <td>0.000183</td>\n",
       "      <td>0.000183</td>\n",
       "      <td>0.000183</td>\n",
       "      <td>0.000183</td>\n",
       "      <td>0.000183</td>\n",
       "      <td>0.000183</td>\n",
       "      <td>0.000183</td>\n",
       "      <td>0.000183</td>\n",
       "      <td>0.000183</td>\n",
       "      <td>0.000183</td>\n",
       "    </tr>\n",
       "  </tbody>\n",
       "</table>\n",
       "</div>"
      ],
      "text/plain": [
       "          0         1         2         3         4         5         6    \n",
       "0   0.000281  0.000281  0.000281  0.000281  0.000281  0.000281  0.000281  \\\n",
       "1   0.000490  0.000490  0.000490  0.657466  0.000490  0.000490  0.000490   \n",
       "2   0.000091  0.000091  0.000091  0.998727  0.000091  0.000091  0.000091   \n",
       "3   0.000234  0.000234  0.900701  0.000234  0.000234  0.096258  0.000234   \n",
       "4   0.000178  0.000178  0.000178  0.000178  0.000178  0.000178  0.000178   \n",
       "5   0.000476  0.000476  0.000476  0.000476  0.000476  0.000476  0.000476   \n",
       "6   0.000198  0.000198  0.004042  0.000198  0.000198  0.000198  0.000198   \n",
       "7   0.001299  0.000065  0.000065  0.000065  0.000065  0.000065  0.000065   \n",
       "8   0.000115  0.000115  0.000115  0.000115  0.000115  0.000115  0.000115   \n",
       "9   0.000402  0.000402  0.000402  0.000402  0.994377  0.000402  0.000402   \n",
       "10  0.991812  0.000585  0.000585  0.000585  0.000585  0.000585  0.000585   \n",
       "11  0.000196  0.000196  0.997263  0.000196  0.000196  0.000196  0.000196   \n",
       "12  0.993427  0.000470  0.000470  0.000470  0.000470  0.000470  0.000470   \n",
       "13  0.000490  0.976050  0.017577  0.000490  0.000490  0.000490  0.000490   \n",
       "14  0.997092  0.000208  0.000208  0.000208  0.000208  0.000208  0.000208   \n",
       "15  0.000112  0.000112  0.000112  0.000112  0.000112  0.000112  0.000112   \n",
       "16  0.000183  0.000183  0.000183  0.000183  0.997436  0.000183  0.000183   \n",
       "\n",
       "          7         8         9         10        11        12        13   \n",
       "0   0.000281  0.000281  0.000281  0.996062  0.000281  0.000281  0.000281  \\\n",
       "1   0.000490  0.000490  0.000490  0.000490  0.000490  0.000490  0.000490   \n",
       "2   0.000091  0.000091  0.000091  0.000091  0.000091  0.000091  0.000091   \n",
       "3   0.000234  0.000234  0.000234  0.000234  0.000234  0.000234  0.000234   \n",
       "4   0.997504  0.000178  0.000178  0.000178  0.000178  0.000178  0.000178   \n",
       "5   0.000476  0.000476  0.000476  0.000476  0.993333  0.000476  0.000476   \n",
       "6   0.000198  0.000198  0.000198  0.000198  0.000198  0.000198  0.000198   \n",
       "7   0.000065  0.000065  0.000065  0.000065  0.000065  0.000065  0.997862   \n",
       "8   0.998388  0.000115  0.000115  0.000115  0.000115  0.000115  0.000115   \n",
       "9   0.000402  0.000402  0.000402  0.000402  0.000402  0.000402  0.000402   \n",
       "10  0.000585  0.000585  0.000585  0.000585  0.000585  0.000585  0.000585   \n",
       "11  0.000196  0.000196  0.000196  0.000196  0.000196  0.000196  0.000196   \n",
       "12  0.000470  0.000470  0.000470  0.000470  0.000470  0.000470  0.000470   \n",
       "13  0.000490  0.000490  0.000490  0.000490  0.000490  0.000490  0.000490   \n",
       "14  0.000208  0.000208  0.000208  0.000208  0.000208  0.000208  0.000208   \n",
       "15  0.000112  0.000112  0.998434  0.000112  0.000112  0.000112  0.000112   \n",
       "16  0.000183  0.000183  0.000183  0.000183  0.000183  0.000183  0.000183   \n",
       "\n",
       "          14  \n",
       "0   0.000281  \n",
       "1   0.336161  \n",
       "2   0.000091  \n",
       "3   0.000234  \n",
       "4   0.000178  \n",
       "5   0.000476  \n",
       "6   0.993379  \n",
       "7   0.000065  \n",
       "8   0.000115  \n",
       "9   0.000402  \n",
       "10  0.000585  \n",
       "11  0.000196  \n",
       "12  0.000470  \n",
       "13  0.000490  \n",
       "14  0.000208  \n",
       "15  0.000112  \n",
       "16  0.000183  "
      ]
     },
     "execution_count": 161,
     "metadata": {},
     "output_type": "execute_result"
    }
   ],
   "source": [
    "#gather all topics per document as a list of lists of tuples\n",
    "document_topics = [LDA_model.get_document_topics(item, minimum_probability = 0.0) for item in corpus]\n",
    "\n",
    "topic_cols = [x[0] for x in document_topics[0]] #get the num of topics to add to df\n",
    "\n",
    "\n",
    "df_topics = pd.DataFrame(columns = [topic_cols])#make df with topics\n",
    "\n",
    "for i in document_topics:\n",
    "    topic_scores = [x[1] for x in i]\n",
    "    df_topics.loc[len(df_topics.index)] = topic_scores\n",
    "\n",
    "x = df.iloc[:,[1,3,8]]\n",
    "\n",
    "#document_topics\n",
    "df_topics\n"
   ]
  },
  {
   "cell_type": "code",
   "execution_count": 162,
   "id": "65098654",
   "metadata": {
    "scrolled": true
   },
   "outputs": [
    {
     "name": "stderr",
     "output_type": "stream",
     "text": [
      "C:\\Users\\gabri\\AppData\\Local\\Programs\\Python\\Python311\\Lib\\site-packages\\sklearn\\cluster\\_kmeans.py:1412: FutureWarning:\n",
      "\n",
      "The default value of `n_init` will change from 10 to 'auto' in 1.4. Set the value of `n_init` explicitly to suppress the warning\n",
      "\n",
      "C:\\Users\\gabri\\AppData\\Local\\Programs\\Python\\Python311\\Lib\\site-packages\\sklearn\\cluster\\_kmeans.py:1412: FutureWarning:\n",
      "\n",
      "The default value of `n_init` will change from 10 to 'auto' in 1.4. Set the value of `n_init` explicitly to suppress the warning\n",
      "\n",
      "C:\\Users\\gabri\\AppData\\Local\\Programs\\Python\\Python311\\Lib\\site-packages\\sklearn\\cluster\\_kmeans.py:1412: FutureWarning:\n",
      "\n",
      "The default value of `n_init` will change from 10 to 'auto' in 1.4. Set the value of `n_init` explicitly to suppress the warning\n",
      "\n",
      "C:\\Users\\gabri\\AppData\\Local\\Programs\\Python\\Python311\\Lib\\site-packages\\sklearn\\cluster\\_kmeans.py:1412: FutureWarning:\n",
      "\n",
      "The default value of `n_init` will change from 10 to 'auto' in 1.4. Set the value of `n_init` explicitly to suppress the warning\n",
      "\n",
      "C:\\Users\\gabri\\AppData\\Local\\Programs\\Python\\Python311\\Lib\\site-packages\\sklearn\\cluster\\_kmeans.py:1412: FutureWarning:\n",
      "\n",
      "The default value of `n_init` will change from 10 to 'auto' in 1.4. Set the value of `n_init` explicitly to suppress the warning\n",
      "\n",
      "C:\\Users\\gabri\\AppData\\Local\\Programs\\Python\\Python311\\Lib\\site-packages\\sklearn\\cluster\\_kmeans.py:1412: FutureWarning:\n",
      "\n",
      "The default value of `n_init` will change from 10 to 'auto' in 1.4. Set the value of `n_init` explicitly to suppress the warning\n",
      "\n",
      "C:\\Users\\gabri\\AppData\\Local\\Programs\\Python\\Python311\\Lib\\site-packages\\sklearn\\cluster\\_kmeans.py:1412: FutureWarning:\n",
      "\n",
      "The default value of `n_init` will change from 10 to 'auto' in 1.4. Set the value of `n_init` explicitly to suppress the warning\n",
      "\n"
     ]
    },
    {
     "data": {
      "image/png": "[encoded data removed]",
      "text/plain": [
       "<Figure size 1000x1000 with 1 Axes>"
      ]
     },
     "metadata": {},
     "output_type": "display_data"
    }
   ],
   "source": [
    "#kmeans_clustering = KMeans(n_clusters = 3, n_init = 3).fit_predict(X_tfidf)\n",
    "\n",
    "#print(kmeans_clustering)\n",
    "\n",
    "# def find_optimal_clusters(data, max_k):\n",
    "#     iters = range(2, max_k+1, 2)\n",
    "    \n",
    "#     sse = []\n",
    "#     for k in iters:\n",
    "#         sse.append(MiniBatchKMeans(n_clusters=k, init_size=1024, batch_size=2048, random_state=20).fit(data).inertia_)\n",
    "#         print('Fit {} clusters'.format(k))\n",
    "        \n",
    "#     f, ax = plt.subplots(1, 1)\n",
    "#     ax.plot(iters, sse, marker='o')\n",
    "#     ax.set_xlabel('Cluster Centers')\n",
    "#     ax.set_xticks(iters)\n",
    "#     ax.set_xticklabels(iters)\n",
    "#     ax.set_ylabel('SSE')\n",
    "#     ax.set_title('SSE by Cluster Center Plot')\n",
    "    \n",
    "# find_optimal_clusters(x, 5)\n",
    "\n",
    "wcss = []\n",
    "for i in range(1,8):\n",
    "   model = KMeans(n_clusters = i, init = \"k-means++\")\n",
    "   model.fit(df_topics)\n",
    "   wcss.append(model.inertia_)\n",
    "plt.figure(figsize=(10,10))\n",
    "plt.plot(range(1,8), wcss)\n",
    "plt.xlabel('Number of clusters')\n",
    "plt.ylabel('WCSS')\n",
    "plt.show()"
   ]
  },
  {
   "cell_type": "code",
   "execution_count": 171,
   "id": "a37637df",
   "metadata": {},
   "outputs": [],
   "source": [
    "pca = PCA(10) #set to number of components\n",
    "data = pca.fit_transform(df_topics) #apply principled component analysis"
   ]
  },
  {
   "cell_type": "code",
   "execution_count": 172,
   "id": "75bab1e8",
   "metadata": {},
   "outputs": [
    {
     "name": "stderr",
     "output_type": "stream",
     "text": [
      "C:\\Users\\gabri\\AppData\\Local\\Programs\\Python\\Python311\\Lib\\site-packages\\sklearn\\cluster\\_kmeans.py:1412: FutureWarning:\n",
      "\n",
      "The default value of `n_init` will change from 10 to 'auto' in 1.4. Set the value of `n_init` explicitly to suppress the warning\n",
      "\n"
     ]
    },
    {
     "data": {
      "image/png": "[encoded data removed]",
      "text/plain": [
       "<Figure size 1000x1000 with 1 Axes>"
      ]
     },
     "metadata": {},
     "output_type": "display_data"
    }
   ],
   "source": [
    "\n",
    "model = KMeans(n_clusters = 4, init = \"k-means++\")\n",
    "label = model.fit_predict(data)\n",
    "centers = np.array(model.cluster_centers_)\n",
    "\n",
    "plt.figure(figsize=(10,10))\n",
    "uniq = np.unique(label)\n",
    "for i in uniq:\n",
    "   plt.scatter(data[label == i , 0] , data[label == i , 1] , label = i)\n",
    "plt.scatter(centers[:,0], centers[:,1], marker=\"x\", color='k')\n",
    "#This is done to find the centroid for each clusters.\n",
    "plt.legend()\n",
    "plt.show()"
   ]
  }
 ],
 "metadata": {
  "kernelspec": {
   "display_name": "Python 3 (ipykernel)",
   "language": "python",
   "name": "python3"
  },
  "language_info": {
   "codemirror_mode": {
    "name": "ipython",
    "version": 3
   },
   "file_extension": ".py",
   "mimetype": "text/x-python",
   "name": "python",
   "nbconvert_exporter": "python",
   "pygments_lexer": "ipython3",
   "version": "3.11.2"
  }
 },
 "nbformat": 4,
 "nbformat_minor": 5
}
