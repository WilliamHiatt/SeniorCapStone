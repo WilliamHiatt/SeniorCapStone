{
 "cells": [
  {
   "cell_type": "markdown",
   "id": "c9dccd1a",
   "metadata": {},
   "source": [
    "# Latent Probability Model"
   ]
  },
  {
   "cell_type": "markdown",
   "id": "01049288",
   "metadata": {},
   "source": [
    "If you are running this for the first time you may need to use the following commands before continuing:"
   ]
  },
  {
   "cell_type": "code",
   "execution_count": 5,
   "id": "15ba699a",
   "metadata": {},
   "outputs": [
    {
     "name": "stdout",
     "output_type": "stream",
     "text": [
      "Requirement already satisfied: pandas in c:\\users\\seaha\\anaconda3\\envs\\434hw\\lib\\site-packages (2.1.1)\n",
      "Requirement already satisfied: tzdata>=2022.1 in c:\\users\\seaha\\anaconda3\\envs\\434hw\\lib\\site-packages (from pandas) (2023.3)\n",
      "Requirement already satisfied: pytz>=2020.1 in c:\\users\\seaha\\anaconda3\\envs\\434hw\\lib\\site-packages (from pandas) (2022.7.1)\n",
      "Requirement already satisfied: python-dateutil>=2.8.2 in c:\\users\\seaha\\anaconda3\\envs\\434hw\\lib\\site-packages (from pandas) (2.8.2)\n",
      "Requirement already satisfied: numpy>=1.22.4 in c:\\users\\seaha\\anaconda3\\envs\\434hw\\lib\\site-packages (from pandas) (1.26.0)\n",
      "Requirement already satisfied: six>=1.5 in c:\\users\\seaha\\anaconda3\\envs\\434hw\\lib\\site-packages (from python-dateutil>=2.8.2->pandas) (1.16.0)\n",
      "Requirement already satisfied: spacy in c:\\users\\seaha\\anaconda3\\envs\\434hw\\lib\\site-packages (3.2.0)\n",
      "Requirement already satisfied: setuptools in c:\\users\\seaha\\anaconda3\\envs\\434hw\\lib\\site-packages (from spacy) (61.2.0)\n",
      "Requirement already satisfied: jinja2 in c:\\users\\seaha\\anaconda3\\envs\\434hw\\lib\\site-packages (from spacy) (3.1.2)\n",
      "Requirement already satisfied: srsly<3.0.0,>=2.4.1 in c:\\users\\seaha\\anaconda3\\envs\\434hw\\lib\\site-packages (from spacy) (2.4.3)\n",
      "Requirement already satisfied: blis<0.8.0,>=0.4.0 in c:\\users\\seaha\\anaconda3\\envs\\434hw\\lib\\site-packages (from spacy) (0.7.7)\n",
      "Requirement already satisfied: tqdm<5.0.0,>=4.38.0 in c:\\users\\seaha\\anaconda3\\envs\\434hw\\lib\\site-packages (from spacy) (4.64.1)\n",
      "Requirement already satisfied: numpy>=1.15.0 in c:\\users\\seaha\\anaconda3\\envs\\434hw\\lib\\site-packages (from spacy) (1.26.0)\n",
      "Requirement already satisfied: requests<3.0.0,>=2.13.0 in c:\\users\\seaha\\anaconda3\\envs\\434hw\\lib\\site-packages (from spacy) (2.28.1)\n",
      "Requirement already satisfied: preshed<3.1.0,>=3.0.2 in c:\\users\\seaha\\anaconda3\\envs\\434hw\\lib\\site-packages (from spacy) (3.0.6)\n",
      "Requirement already satisfied: catalogue<2.1.0,>=2.0.6 in c:\\users\\seaha\\anaconda3\\envs\\434hw\\lib\\site-packages (from spacy) (2.0.8)\n",
      "Requirement already satisfied: cymem<2.1.0,>=2.0.2 in c:\\users\\seaha\\anaconda3\\envs\\434hw\\lib\\site-packages (from spacy) (2.0.6)\n",
      "Requirement already satisfied: pathy>=0.3.5 in c:\\users\\seaha\\anaconda3\\envs\\434hw\\lib\\site-packages (from spacy) (0.10.1)\n",
      "Requirement already satisfied: spacy-legacy<3.1.0,>=3.0.8 in c:\\users\\seaha\\anaconda3\\envs\\434hw\\lib\\site-packages (from spacy) (3.0.12)\n",
      "Requirement already satisfied: langcodes<4.0.0,>=3.2.0 in c:\\users\\seaha\\anaconda3\\envs\\434hw\\lib\\site-packages (from spacy) (3.3.0)\n",
      "Requirement already satisfied: typer<0.5.0,>=0.3.0 in c:\\users\\seaha\\anaconda3\\envs\\434hw\\lib\\site-packages (from spacy) (0.4.2)\n",
      "Requirement already satisfied: murmurhash<1.1.0,>=0.28.0 in c:\\users\\seaha\\anaconda3\\envs\\434hw\\lib\\site-packages (from spacy) (1.0.7)\n",
      "Requirement already satisfied: thinc<8.1.0,>=8.0.12 in c:\\users\\seaha\\anaconda3\\envs\\434hw\\lib\\site-packages (from spacy) (8.0.15)\n",
      "Requirement already satisfied: pydantic!=1.8,!=1.8.1,<1.9.0,>=1.7.4 in c:\\users\\seaha\\anaconda3\\envs\\434hw\\lib\\site-packages (from spacy) (1.8.2)\n",
      "Requirement already satisfied: spacy-loggers<2.0.0,>=1.0.0 in c:\\users\\seaha\\anaconda3\\envs\\434hw\\lib\\site-packages (from spacy) (1.0.4)\n",
      "Requirement already satisfied: packaging>=20.0 in c:\\users\\seaha\\anaconda3\\envs\\434hw\\lib\\site-packages (from spacy) (22.0)\n",
      "Requirement already satisfied: wasabi<1.1.0,>=0.8.1 in c:\\users\\seaha\\anaconda3\\envs\\434hw\\lib\\site-packages (from spacy) (0.10.1)\n",
      "Requirement already satisfied: smart-open<7.0.0,>=5.2.1 in c:\\users\\seaha\\anaconda3\\envs\\434hw\\lib\\site-packages (from pathy>=0.3.5->spacy) (5.2.1)\n",
      "Requirement already satisfied: typing-extensions>=3.7.4.3 in c:\\users\\seaha\\anaconda3\\envs\\434hw\\lib\\site-packages (from pydantic!=1.8,!=1.8.1,<1.9.0,>=1.7.4->spacy) (4.4.0)\n",
      "Requirement already satisfied: certifi>=2017.4.17 in c:\\users\\seaha\\anaconda3\\envs\\434hw\\lib\\site-packages (from requests<3.0.0,>=2.13.0->spacy) (2022.12.7)\n",
      "Requirement already satisfied: urllib3<1.27,>=1.21.1 in c:\\users\\seaha\\anaconda3\\envs\\434hw\\lib\\site-packages (from requests<3.0.0,>=2.13.0->spacy) (1.26.14)\n",
      "Requirement already satisfied: idna<4,>=2.5 in c:\\users\\seaha\\anaconda3\\envs\\434hw\\lib\\site-packages (from requests<3.0.0,>=2.13.0->spacy) (3.4)\n",
      "Requirement already satisfied: charset-normalizer<3,>=2 in c:\\users\\seaha\\anaconda3\\envs\\434hw\\lib\\site-packages (from requests<3.0.0,>=2.13.0->spacy) (2.0.4)\n",
      "Requirement already satisfied: colorama in c:\\users\\seaha\\anaconda3\\envs\\434hw\\lib\\site-packages (from tqdm<5.0.0,>=4.38.0->spacy) (0.4.4)\n",
      "Requirement already satisfied: click<9.0.0,>=7.1.1 in c:\\users\\seaha\\anaconda3\\envs\\434hw\\lib\\site-packages (from typer<0.5.0,>=0.3.0->spacy) (8.0.4)\n",
      "Requirement already satisfied: MarkupSafe>=2.0 in c:\\users\\seaha\\anaconda3\\envs\\434hw\\lib\\site-packages (from jinja2->spacy) (2.1.1)\n",
      "Requirement already satisfied: spacytextblob in c:\\users\\seaha\\anaconda3\\envs\\434hw\\lib\\site-packages (4.0.0)\n",
      "Requirement already satisfied: textblob<0.16.0,>=0.15.3 in c:\\users\\seaha\\anaconda3\\envs\\434hw\\lib\\site-packages (from spacytextblob) (0.15.3)\n",
      "Requirement already satisfied: spacy<4.0,>=3.0 in c:\\users\\seaha\\anaconda3\\envs\\434hw\\lib\\site-packages (from spacytextblob) (3.2.0)\n",
      "Requirement already satisfied: tqdm<5.0.0,>=4.38.0 in c:\\users\\seaha\\anaconda3\\envs\\434hw\\lib\\site-packages (from spacy<4.0,>=3.0->spacytextblob) (4.64.1)\n",
      "Requirement already satisfied: spacy-loggers<2.0.0,>=1.0.0 in c:\\users\\seaha\\anaconda3\\envs\\434hw\\lib\\site-packages (from spacy<4.0,>=3.0->spacytextblob) (1.0.4)\n",
      "Requirement already satisfied: catalogue<2.1.0,>=2.0.6 in c:\\users\\seaha\\anaconda3\\envs\\434hw\\lib\\site-packages (from spacy<4.0,>=3.0->spacytextblob) (2.0.8)\n",
      "Requirement already satisfied: preshed<3.1.0,>=3.0.2 in c:\\users\\seaha\\anaconda3\\envs\\434hw\\lib\\site-packages (from spacy<4.0,>=3.0->spacytextblob) (3.0.6)\n",
      "Requirement already satisfied: pydantic!=1.8,!=1.8.1,<1.9.0,>=1.7.4 in c:\\users\\seaha\\anaconda3\\envs\\434hw\\lib\\site-packages (from spacy<4.0,>=3.0->spacytextblob) (1.8.2)\n",
      "Requirement already satisfied: requests<3.0.0,>=2.13.0 in c:\\users\\seaha\\anaconda3\\envs\\434hw\\lib\\site-packages (from spacy<4.0,>=3.0->spacytextblob) (2.28.1)\n",
      "Requirement already satisfied: packaging>=20.0 in c:\\users\\seaha\\anaconda3\\envs\\434hw\\lib\\site-packages (from spacy<4.0,>=3.0->spacytextblob) (22.0)\n",
      "Requirement already satisfied: spacy-legacy<3.1.0,>=3.0.8 in c:\\users\\seaha\\anaconda3\\envs\\434hw\\lib\\site-packages (from spacy<4.0,>=3.0->spacytextblob) (3.0.12)\n",
      "Requirement already satisfied: setuptools in c:\\users\\seaha\\anaconda3\\envs\\434hw\\lib\\site-packages (from spacy<4.0,>=3.0->spacytextblob) (61.2.0)\n",
      "Requirement already satisfied: wasabi<1.1.0,>=0.8.1 in c:\\users\\seaha\\anaconda3\\envs\\434hw\\lib\\site-packages (from spacy<4.0,>=3.0->spacytextblob) (0.10.1)\n",
      "Requirement already satisfied: numpy>=1.15.0 in c:\\users\\seaha\\anaconda3\\envs\\434hw\\lib\\site-packages (from spacy<4.0,>=3.0->spacytextblob) (1.26.0)\n",
      "Requirement already satisfied: murmurhash<1.1.0,>=0.28.0 in c:\\users\\seaha\\anaconda3\\envs\\434hw\\lib\\site-packages (from spacy<4.0,>=3.0->spacytextblob) (1.0.7)\n",
      "Requirement already satisfied: srsly<3.0.0,>=2.4.1 in c:\\users\\seaha\\anaconda3\\envs\\434hw\\lib\\site-packages (from spacy<4.0,>=3.0->spacytextblob) (2.4.3)\n",
      "Requirement already satisfied: cymem<2.1.0,>=2.0.2 in c:\\users\\seaha\\anaconda3\\envs\\434hw\\lib\\site-packages (from spacy<4.0,>=3.0->spacytextblob) (2.0.6)\n",
      "Requirement already satisfied: blis<0.8.0,>=0.4.0 in c:\\users\\seaha\\anaconda3\\envs\\434hw\\lib\\site-packages (from spacy<4.0,>=3.0->spacytextblob) (0.7.7)\n",
      "Requirement already satisfied: pathy>=0.3.5 in c:\\users\\seaha\\anaconda3\\envs\\434hw\\lib\\site-packages (from spacy<4.0,>=3.0->spacytextblob) (0.10.1)\n",
      "Requirement already satisfied: typer<0.5.0,>=0.3.0 in c:\\users\\seaha\\anaconda3\\envs\\434hw\\lib\\site-packages (from spacy<4.0,>=3.0->spacytextblob) (0.4.2)\n",
      "Requirement already satisfied: langcodes<4.0.0,>=3.2.0 in c:\\users\\seaha\\anaconda3\\envs\\434hw\\lib\\site-packages (from spacy<4.0,>=3.0->spacytextblob) (3.3.0)\n",
      "Requirement already satisfied: thinc<8.1.0,>=8.0.12 in c:\\users\\seaha\\anaconda3\\envs\\434hw\\lib\\site-packages (from spacy<4.0,>=3.0->spacytextblob) (8.0.15)\n",
      "Requirement already satisfied: jinja2 in c:\\users\\seaha\\anaconda3\\envs\\434hw\\lib\\site-packages (from spacy<4.0,>=3.0->spacytextblob) (3.1.2)\n",
      "Requirement already satisfied: smart-open<7.0.0,>=5.2.1 in c:\\users\\seaha\\anaconda3\\envs\\434hw\\lib\\site-packages (from pathy>=0.3.5->spacy<4.0,>=3.0->spacytextblob) (5.2.1)\n",
      "Requirement already satisfied: typing-extensions>=3.7.4.3 in c:\\users\\seaha\\anaconda3\\envs\\434hw\\lib\\site-packages (from pydantic!=1.8,!=1.8.1,<1.9.0,>=1.7.4->spacy<4.0,>=3.0->spacytextblob) (4.4.0)\n",
      "Requirement already satisfied: idna<4,>=2.5 in c:\\users\\seaha\\anaconda3\\envs\\434hw\\lib\\site-packages (from requests<3.0.0,>=2.13.0->spacy<4.0,>=3.0->spacytextblob) (3.4)\n",
      "Requirement already satisfied: charset-normalizer<3,>=2 in c:\\users\\seaha\\anaconda3\\envs\\434hw\\lib\\site-packages (from requests<3.0.0,>=2.13.0->spacy<4.0,>=3.0->spacytextblob) (2.0.4)\n",
      "Requirement already satisfied: urllib3<1.27,>=1.21.1 in c:\\users\\seaha\\anaconda3\\envs\\434hw\\lib\\site-packages (from requests<3.0.0,>=2.13.0->spacy<4.0,>=3.0->spacytextblob) (1.26.14)\n",
      "Requirement already satisfied: certifi>=2017.4.17 in c:\\users\\seaha\\anaconda3\\envs\\434hw\\lib\\site-packages (from requests<3.0.0,>=2.13.0->spacy<4.0,>=3.0->spacytextblob) (2022.12.7)\n",
      "Requirement already satisfied: nltk>=3.1 in c:\\users\\seaha\\anaconda3\\envs\\434hw\\lib\\site-packages (from textblob<0.16.0,>=0.15.3->spacytextblob) (3.8.1)\n",
      "Requirement already satisfied: click in c:\\users\\seaha\\anaconda3\\envs\\434hw\\lib\\site-packages (from nltk>=3.1->textblob<0.16.0,>=0.15.3->spacytextblob) (8.0.4)\n",
      "Requirement already satisfied: regex>=2021.8.3 in c:\\users\\seaha\\anaconda3\\envs\\434hw\\lib\\site-packages (from nltk>=3.1->textblob<0.16.0,>=0.15.3->spacytextblob) (2022.10.31)\n",
      "Requirement already satisfied: joblib in c:\\users\\seaha\\anaconda3\\envs\\434hw\\lib\\site-packages (from nltk>=3.1->textblob<0.16.0,>=0.15.3->spacytextblob) (1.2.0)\n",
      "Requirement already satisfied: colorama in c:\\users\\seaha\\anaconda3\\envs\\434hw\\lib\\site-packages (from tqdm<5.0.0,>=4.38.0->spacy<4.0,>=3.0->spacytextblob) (0.4.4)\n",
      "Requirement already satisfied: MarkupSafe>=2.0 in c:\\users\\seaha\\anaconda3\\envs\\434hw\\lib\\site-packages (from jinja2->spacy<4.0,>=3.0->spacytextblob) (2.1.1)\n"
     ]
    },
    {
     "name": "stdout",
     "output_type": "stream",
     "text": [
      "Collecting en-core-web-sm==3.2.0\n",
      "  Downloading https://github.com/explosion/spacy-models/releases/download/en_core_web_sm-3.2.0/en_core_web_sm-3.2.0-py3-none-any.whl (13.9 MB)\n",
      "Requirement already satisfied: spacy<3.3.0,>=3.2.0 in c:\\users\\seaha\\anaconda3\\envs\\434hw\\lib\\site-packages (from en-core-web-sm==3.2.0) (3.2.0)\n",
      "Requirement already satisfied: requests<3.0.0,>=2.13.0 in c:\\users\\seaha\\anaconda3\\envs\\434hw\\lib\\site-packages (from spacy<3.3.0,>=3.2.0->en-core-web-sm==3.2.0) (2.28.1)\n",
      "Requirement already satisfied: murmurhash<1.1.0,>=0.28.0 in c:\\users\\seaha\\anaconda3\\envs\\434hw\\lib\\site-packages (from spacy<3.3.0,>=3.2.0->en-core-web-sm==3.2.0) (1.0.7)\n",
      "Requirement already satisfied: typer<0.5.0,>=0.3.0 in c:\\users\\seaha\\anaconda3\\envs\\434hw\\lib\\site-packages (from spacy<3.3.0,>=3.2.0->en-core-web-sm==3.2.0) (0.4.2)\n",
      "Requirement already satisfied: preshed<3.1.0,>=3.0.2 in c:\\users\\seaha\\anaconda3\\envs\\434hw\\lib\\site-packages (from spacy<3.3.0,>=3.2.0->en-core-web-sm==3.2.0) (3.0.6)\n",
      "Requirement already satisfied: packaging>=20.0 in c:\\users\\seaha\\anaconda3\\envs\\434hw\\lib\\site-packages (from spacy<3.3.0,>=3.2.0->en-core-web-sm==3.2.0) (22.0)\n",
      "Requirement already satisfied: wasabi<1.1.0,>=0.8.1 in c:\\users\\seaha\\anaconda3\\envs\\434hw\\lib\\site-packages (from spacy<3.3.0,>=3.2.0->en-core-web-sm==3.2.0) (0.10.1)\n",
      "Requirement already satisfied: pydantic!=1.8,!=1.8.1,<1.9.0,>=1.7.4 in c:\\users\\seaha\\anaconda3\\envs\\434hw\\lib\\site-packages (from spacy<3.3.0,>=3.2.0->en-core-web-sm==3.2.0) (1.8.2)\n",
      "Requirement already satisfied: thinc<8.1.0,>=8.0.12 in c:\\users\\seaha\\anaconda3\\envs\\434hw\\lib\\site-packages (from spacy<3.3.0,>=3.2.0->en-core-web-sm==3.2.0) (8.0.15)\n",
      "Requirement already satisfied: numpy>=1.15.0 in c:\\users\\seaha\\anaconda3\\envs\\434hw\\lib\\site-packages (from spacy<3.3.0,>=3.2.0->en-core-web-sm==3.2.0) (1.26.0)\n",
      "Requirement already satisfied: jinja2 in c:\\users\\seaha\\anaconda3\\envs\\434hw\\lib\\site-packages (from spacy<3.3.0,>=3.2.0->en-core-web-sm==3.2.0) (3.1.2)\n",
      "Requirement already satisfied: catalogue<2.1.0,>=2.0.6 in c:\\users\\seaha\\anaconda3\\envs\\434hw\\lib\\site-packages (from spacy<3.3.0,>=3.2.0->en-core-web-sm==3.2.0) (2.0.8)\n",
      "Requirement already satisfied: tqdm<5.0.0,>=4.38.0 in c:\\users\\seaha\\anaconda3\\envs\\434hw\\lib\\site-packages (from spacy<3.3.0,>=3.2.0->en-core-web-sm==3.2.0) (4.64.1)\n",
      "Requirement already satisfied: spacy-loggers<2.0.0,>=1.0.0 in c:\\users\\seaha\\anaconda3\\envs\\434hw\\lib\\site-packages (from spacy<3.3.0,>=3.2.0->en-core-web-sm==3.2.0) (1.0.4)\n",
      "Requirement already satisfied: langcodes<4.0.0,>=3.2.0 in c:\\users\\seaha\\anaconda3\\envs\\434hw\\lib\\site-packages (from spacy<3.3.0,>=3.2.0->en-core-web-sm==3.2.0) (3.3.0)\n",
      "Requirement already satisfied: spacy-legacy<3.1.0,>=3.0.8 in c:\\users\\seaha\\anaconda3\\envs\\434hw\\lib\\site-packages (from spacy<3.3.0,>=3.2.0->en-core-web-sm==3.2.0) (3.0.12)\n",
      "Requirement already satisfied: setuptools in c:\\users\\seaha\\anaconda3\\envs\\434hw\\lib\\site-packages (from spacy<3.3.0,>=3.2.0->en-core-web-sm==3.2.0) (61.2.0)\n",
      "Requirement already satisfied: blis<0.8.0,>=0.4.0 in c:\\users\\seaha\\anaconda3\\envs\\434hw\\lib\\site-packages (from spacy<3.3.0,>=3.2.0->en-core-web-sm==3.2.0) (0.7.7)\n",
      "Requirement already satisfied: srsly<3.0.0,>=2.4.1 in c:\\users\\seaha\\anaconda3\\envs\\434hw\\lib\\site-packages (from spacy<3.3.0,>=3.2.0->en-core-web-sm==3.2.0) (2.4.3)\n",
      "Requirement already satisfied: pathy>=0.3.5 in c:\\users\\seaha\\anaconda3\\envs\\434hw\\lib\\site-packages (from spacy<3.3.0,>=3.2.0->en-core-web-sm==3.2.0) (0.10.1)\n",
      "Requirement already satisfied: cymem<2.1.0,>=2.0.2 in c:\\users\\seaha\\anaconda3\\envs\\434hw\\lib\\site-packages (from spacy<3.3.0,>=3.2.0->en-core-web-sm==3.2.0) (2.0.6)\n",
      "Requirement already satisfied: smart-open<7.0.0,>=5.2.1 in c:\\users\\seaha\\anaconda3\\envs\\434hw\\lib\\site-packages (from pathy>=0.3.5->spacy<3.3.0,>=3.2.0->en-core-web-sm==3.2.0) (5.2.1)\n",
      "Requirement already satisfied: typing-extensions>=3.7.4.3 in c:\\users\\seaha\\anaconda3\\envs\\434hw\\lib\\site-packages (from pydantic!=1.8,!=1.8.1,<1.9.0,>=1.7.4->spacy<3.3.0,>=3.2.0->en-core-web-sm==3.2.0) (4.4.0)\n",
      "Requirement already satisfied: idna<4,>=2.5 in c:\\users\\seaha\\anaconda3\\envs\\434hw\\lib\\site-packages (from requests<3.0.0,>=2.13.0->spacy<3.3.0,>=3.2.0->en-core-web-sm==3.2.0) (3.4)\n",
      "Requirement already satisfied: charset-normalizer<3,>=2 in c:\\users\\seaha\\anaconda3\\envs\\434hw\\lib\\site-packages (from requests<3.0.0,>=2.13.0->spacy<3.3.0,>=3.2.0->en-core-web-sm==3.2.0) (2.0.4)\n",
      "Requirement already satisfied: certifi>=2017.4.17 in c:\\users\\seaha\\anaconda3\\envs\\434hw\\lib\\site-packages (from requests<3.0.0,>=2.13.0->spacy<3.3.0,>=3.2.0->en-core-web-sm==3.2.0) (2022.12.7)\n",
      "Requirement already satisfied: urllib3<1.27,>=1.21.1 in c:\\users\\seaha\\anaconda3\\envs\\434hw\\lib\\site-packages (from requests<3.0.0,>=2.13.0->spacy<3.3.0,>=3.2.0->en-core-web-sm==3.2.0) (1.26.14)\n",
      "Requirement already satisfied: colorama in c:\\users\\seaha\\anaconda3\\envs\\434hw\\lib\\site-packages (from tqdm<5.0.0,>=4.38.0->spacy<3.3.0,>=3.2.0->en-core-web-sm==3.2.0) (0.4.4)\n",
      "Requirement already satisfied: click<9.0.0,>=7.1.1 in c:\\users\\seaha\\anaconda3\\envs\\434hw\\lib\\site-packages (from typer<0.5.0,>=0.3.0->spacy<3.3.0,>=3.2.0->en-core-web-sm==3.2.0) (8.0.4)\n",
      "Requirement already satisfied: MarkupSafe>=2.0 in c:\\users\\seaha\\anaconda3\\envs\\434hw\\lib\\site-packages (from jinja2->spacy<3.3.0,>=3.2.0->en-core-web-sm==3.2.0) (2.1.1)\n",
      "[+] Download and installation successful\n",
      "You can now load the package via spacy.load('en_core_web_sm')\n",
      "Requirement already satisfied: newspaper3k in c:\\users\\seaha\\anaconda3\\envs\\434hw\\lib\\site-packages (0.2.8)\n",
      "Requirement already satisfied: Pillow>=3.3.0 in c:\\users\\seaha\\anaconda3\\envs\\434hw\\lib\\site-packages (from newspaper3k) (9.3.0)\n",
      "Requirement already satisfied: jieba3k>=0.35.1 in c:\\users\\seaha\\anaconda3\\envs\\434hw\\lib\\site-packages (from newspaper3k) (0.35.1)\n",
      "Requirement already satisfied: tinysegmenter==0.3 in c:\\users\\seaha\\anaconda3\\envs\\434hw\\lib\\site-packages (from newspaper3k) (0.3)\n",
      "Requirement already satisfied: requests>=2.10.0 in c:\\users\\seaha\\anaconda3\\envs\\434hw\\lib\\site-packages (from newspaper3k) (2.28.1)\n",
      "Requirement already satisfied: feedparser>=5.2.1 in c:\\users\\seaha\\anaconda3\\envs\\434hw\\lib\\site-packages (from newspaper3k) (6.0.10)\n",
      "Requirement already satisfied: tldextract>=2.0.1 in c:\\users\\seaha\\anaconda3\\envs\\434hw\\lib\\site-packages (from newspaper3k) (3.4.0)\n",
      "Requirement already satisfied: beautifulsoup4>=4.4.1 in c:\\users\\seaha\\anaconda3\\envs\\434hw\\lib\\site-packages (from newspaper3k) (4.11.1)\n",
      "Requirement already satisfied: PyYAML>=3.11 in c:\\users\\seaha\\anaconda3\\envs\\434hw\\lib\\site-packages (from newspaper3k) (6.0)\n",
      "Requirement already satisfied: cssselect>=0.9.2 in c:\\users\\seaha\\anaconda3\\envs\\434hw\\lib\\site-packages (from newspaper3k) (1.2.0)\n",
      "Requirement already satisfied: python-dateutil>=2.5.3 in c:\\users\\seaha\\anaconda3\\envs\\434hw\\lib\\site-packages (from newspaper3k) (2.8.2)\n",
      "Requirement already satisfied: nltk>=3.2.1 in c:\\users\\seaha\\anaconda3\\envs\\434hw\\lib\\site-packages (from newspaper3k) (3.8.1)\n",
      "Requirement already satisfied: lxml>=3.6.0 in c:\\users\\seaha\\anaconda3\\envs\\434hw\\lib\\site-packages (from newspaper3k) (4.9.1)\n",
      "Requirement already satisfied: feedfinder2>=0.0.4 in c:\\users\\seaha\\anaconda3\\envs\\434hw\\lib\\site-packages (from newspaper3k) (0.0.4)\n",
      "Requirement already satisfied: soupsieve>1.2 in c:\\users\\seaha\\anaconda3\\envs\\434hw\\lib\\site-packages (from beautifulsoup4>=4.4.1->newspaper3k) (2.3.2.post1)\n",
      "Requirement already satisfied: six in c:\\users\\seaha\\anaconda3\\envs\\434hw\\lib\\site-packages (from feedfinder2>=0.0.4->newspaper3k) (1.16.0)\n",
      "Requirement already satisfied: sgmllib3k in c:\\users\\seaha\\anaconda3\\envs\\434hw\\lib\\site-packages (from feedparser>=5.2.1->newspaper3k) (1.0.0)\n",
      "Requirement already satisfied: regex>=2021.8.3 in c:\\users\\seaha\\anaconda3\\envs\\434hw\\lib\\site-packages (from nltk>=3.2.1->newspaper3k) (2022.10.31)\n",
      "Requirement already satisfied: tqdm in c:\\users\\seaha\\anaconda3\\envs\\434hw\\lib\\site-packages (from nltk>=3.2.1->newspaper3k) (4.64.1)\n",
      "Requirement already satisfied: joblib in c:\\users\\seaha\\anaconda3\\envs\\434hw\\lib\\site-packages (from nltk>=3.2.1->newspaper3k) (1.2.0)\n",
      "Requirement already satisfied: click in c:\\users\\seaha\\anaconda3\\envs\\434hw\\lib\\site-packages (from nltk>=3.2.1->newspaper3k) (8.0.4)\n",
      "Requirement already satisfied: idna<4,>=2.5 in c:\\users\\seaha\\anaconda3\\envs\\434hw\\lib\\site-packages (from requests>=2.10.0->newspaper3k) (3.4)\n",
      "Requirement already satisfied: urllib3<1.27,>=1.21.1 in c:\\users\\seaha\\anaconda3\\envs\\434hw\\lib\\site-packages (from requests>=2.10.0->newspaper3k) (1.26.14)\n",
      "Requirement already satisfied: certifi>=2017.4.17 in c:\\users\\seaha\\anaconda3\\envs\\434hw\\lib\\site-packages (from requests>=2.10.0->newspaper3k) (2022.12.7)\n",
      "Requirement already satisfied: charset-normalizer<3,>=2 in c:\\users\\seaha\\anaconda3\\envs\\434hw\\lib\\site-packages (from requests>=2.10.0->newspaper3k) (2.0.4)\n",
      "Requirement already satisfied: filelock>=3.0.8 in c:\\users\\seaha\\anaconda3\\envs\\434hw\\lib\\site-packages (from tldextract>=2.0.1->newspaper3k) (3.11.0)\n",
      "Requirement already satisfied: requests-file>=1.4 in c:\\users\\seaha\\anaconda3\\envs\\434hw\\lib\\site-packages (from tldextract>=2.0.1->newspaper3k) (1.5.1)\n",
      "Requirement already satisfied: colorama in c:\\users\\seaha\\anaconda3\\envs\\434hw\\lib\\site-packages (from click->nltk>=3.2.1->newspaper3k) (0.4.4)\n"
     ]
    },
    {
     "name": "stdout",
     "output_type": "stream",
     "text": [
      "Requirement already satisfied: plotly in c:\\users\\seaha\\anaconda3\\envs\\434hw\\lib\\site-packages (5.17.0)\n",
      "Requirement already satisfied: packaging in c:\\users\\seaha\\anaconda3\\envs\\434hw\\lib\\site-packages (from plotly) (22.0)\n",
      "Requirement already satisfied: tenacity>=6.2.0 in c:\\users\\seaha\\anaconda3\\envs\\434hw\\lib\\site-packages (from plotly) (8.2.3)\n",
      "Requirement already satisfied: sklearn in c:\\users\\seaha\\anaconda3\\envs\\434hw\\lib\\site-packages (0.0)\n",
      "Requirement already satisfied: scikit-learn in c:\\users\\seaha\\anaconda3\\envs\\434hw\\lib\\site-packages (from sklearn) (1.2.2)\n",
      "Requirement already satisfied: scipy>=1.3.2 in c:\\users\\seaha\\anaconda3\\envs\\434hw\\lib\\site-packages (from scikit-learn->sklearn) (1.10.0)\n",
      "Requirement already satisfied: threadpoolctl>=2.0.0 in c:\\users\\seaha\\anaconda3\\envs\\434hw\\lib\\site-packages (from scikit-learn->sklearn) (3.1.0)\n",
      "Requirement already satisfied: numpy>=1.17.3 in c:\\users\\seaha\\anaconda3\\envs\\434hw\\lib\\site-packages (from scikit-learn->sklearn) (1.26.0)\n",
      "Requirement already satisfied: joblib>=1.1.1 in c:\\users\\seaha\\anaconda3\\envs\\434hw\\lib\\site-packages (from scikit-learn->sklearn) (1.2.0)\n"
     ]
    }
   ],
   "source": [
    "!pip install pandas\n",
    "!pip install spacy\n",
    "!pip install spacytextblob\n",
    "!python -m spacy download en_core_web_sm\n",
    "\n",
    "!pip install newspaper3k\n",
    "\n",
    "!pip install plotly\n",
    "\n",
    "!pip install sklearn"
   ]
  },
  {
   "cell_type": "markdown",
   "id": "c92a2232",
   "metadata": {},
   "source": [
    "Spacy: Used for NLP and has the machine learning module\n",
    "    \n",
    "SpacyTextBlob: Used for the sentiment analysis\n",
    "    \n",
    "Pandas: Stores the data as a dataframe table\n",
    "    \n",
    "NewsPaper: Used for web scraping\n",
    "    \n",
    "Requests: Makes the connection to the URL"
   ]
  },
  {
   "cell_type": "code",
   "execution_count": 222,
   "id": "97171282",
   "metadata": {},
   "outputs": [
    {
     "name": "stderr",
     "output_type": "stream",
     "text": [
      "c:\\Users\\biehl\\AppData\\Local\\Programs\\Python\\Python310\\lib\\site-packages\\tqdm\\auto.py:21: TqdmWarning: IProgress not found. Please update jupyter and ipywidgets. See https://ipywidgets.readthedocs.io/en/stable/user_install.html\n",
      "  from .autonotebook import tqdm as notebook_tqdm\n"
     ]
    }
   ],
   "source": [
    "from newspaper import Article\n",
    "from random import shuffle\n",
    "import re\n",
    "import matplotlib.pyplot as plt \n",
    "from collections import Counter\n",
    "\n",
    "import numpy as np\n",
    "import json\n",
    "import requests\n",
    "import glob\n",
    "\n",
    "#gensim\n",
    "import gensim\n",
    "import gensim.corpora as corpora\n",
    "from gensim.models.coherencemodel import CoherenceModel\n",
    "from gensim.utils import simple_preprocess\n",
    "from gensim.corpora import Dictionary  # Import the Dictionary class from Gensim\n",
    "\n",
    "#spacy\n",
    "import spacy\n",
    "from nltk.corpus import stopwords\n",
    "\n",
    "#vis\n",
    "import pyLDAvis\n",
    "import pyLDAvis.gensim\n",
    "import plotly.express as px\n",
    "import matplotlib.colors as mcolors\n",
    "import sklearn\n",
    "from sklearn.manifold import TSNE\n",
    "\n",
    "from spacytextblob.spacytextblob import SpacyTextBlob\n",
    "import pandas as pd\n",
    "import requests\n",
    "\n",
    "import warnings\n",
    "warnings.filterwarnings(\"ignore\", category=DeprecationWarning)"
   ]
  },
  {
   "cell_type": "code",
   "execution_count": 223,
   "id": "89933f69",
   "metadata": {},
   "outputs": [],
   "source": [
    "%run SentimentAnalysis.ipynb\n",
    "%run WebScraper.ipynb\n",
    "%run PipelineHelpers.ipynb\n",
    "%run TopicModeling.ipynb\n",
    "%run DataVisualization.ipynb"
   ]
  },
  {
   "cell_type": "markdown",
   "id": "b787c3f5",
   "metadata": {},
   "source": [
    "IMPORTANT: Insert the .csv file you want to be read below."
   ]
  },
  {
   "cell_type": "code",
   "execution_count": 224,
   "id": "4e23034f",
   "metadata": {},
   "outputs": [],
   "source": [
    "csvFile = \"urls_gabriel_generated.csv\"\n",
    "wordCountFilter = 150\n",
    "social_starts_with = [\"https://www.youtube.com\", \"https://youtu.be\", \"https://www.facebook.com\", \n",
    "                     \"https://twitter.com\", \"https://gettr.com/\"]\n"
   ]
  },
  {
   "cell_type": "markdown",
   "id": "8a9e6cbd",
   "metadata": {},
   "source": [
    "IMPORTANT: If you want to try re-runing after making some code changes or want to \n",
    "run a new .csv file through, run the code block below."
   ]
  },
  {
   "cell_type": "code",
   "execution_count": 225,
   "id": "51cde877",
   "metadata": {},
   "outputs": [],
   "source": [
    "# Loading our two pipelines\n",
    "nlp = spacy.load('en_core_web_sm')\n",
    "nlp.add_pipe('spacytextblob')\n",
    "\n",
    "# Using panda to load in our .csv file\n",
    "df = pd.read_csv(csvFile) # File we are checking\n",
    "urls = df[\"Address\"].tolist() # Column name we are checking\n",
    "all_text_gathered = []\n",
    "all_articles = ''\n",
    "scentence_list = []\n"
   ]
  },
  {
   "cell_type": "markdown",
   "id": "a9fabe01",
   "metadata": {},
   "source": [
    "# This is the pipeline. All code is called and ran through here."
   ]
  },
  {
   "cell_type": "code",
   "execution_count": 226,
   "id": "7ae169b7",
   "metadata": {
    "scrolled": true
   },
   "outputs": [
    {
     "name": "stdout",
     "output_type": "stream",
     "text": [
      "0\n",
      "word count  39\n",
      "repeated phrases 1\n",
      "https://www.bbc.com/news/world-us-canada-55805698\n"
     ]
    },
    {
     "data": {
      "image/png": "[encoded data removed]",
      "text/plain": [
       "<Figure size 432x288 with 1 Axes>"
      ]
     },
     "metadata": {
      "needs_background": "light"
     },
     "output_type": "display_data"
    }
   ],
   "source": [
    "# Loops through our URLS and scraps the data\n",
    "# Put all empty dictionaries here\n",
    "sentimentDic = {}\n",
    "    \n",
    "for count, x in enumerate(urls):\n",
    "    if(count % 10 == 0):\n",
    "        print(str(count))\n",
    "\n",
    "    url = x\n",
    "\n",
    "    # Send the URL to get scraped\n",
    "    page_text = scrapeData(x)\n",
    "    # All articles will have a long string of all the text that has been scraped\n",
    "    all_articles = all_articles + \" \" +  page_text\n",
    "    \n",
    "    # Puts the article into a list of all the sentences in the article\n",
    "    sentenceList = sentenceLevel(page_text)\n",
    "\n",
    "    # Runs sentiment analysis. Will pass in the page_text, the dic, and x (the url)\n",
    "    sentimentDic = sentimentAnalysis(page_text, sentimentDic, url)\n",
    "    \n",
    "\n",
    "# For each analysis we run we need to then convert that dictionary with the following method\n",
    "df = dictionaryToDataFrame(sentimentDic)\n",
    "\n",
    "topisSentAnalysis = topic_sentence_sentiment_analysis(df, sentimentDic)\n",
    "\n",
    "# Used if we want to convert it to a .csv \n",
    "#sentDic.to_csv(\"sentiment130.csv\")\n"
   ]
  },
  {
   "cell_type": "markdown",
   "id": "72a66188",
   "metadata": {},
   "source": [
    "# Dropping failed webscraping rows"
   ]
  },
  {
   "cell_type": "code",
   "execution_count": 8,
   "id": "4873d7f1",
   "metadata": {
    "scrolled": true
   },
   "outputs": [
    {
     "data": {
      "text/html": [
       "<div>\n",
       "<style scoped>\n",
       "    .dataframe tbody tr th:only-of-type {\n",
       "        vertical-align: middle;\n",
       "    }\n",
       "\n",
       "    .dataframe tbody tr th {\n",
       "        vertical-align: top;\n",
       "    }\n",
       "\n",
       "    .dataframe thead th {\n",
       "        text-align: right;\n",
       "    }\n",
       "</style>\n",
       "<table border=\"1\" class=\"dataframe\">\n",
       "  <thead>\n",
       "    <tr style=\"text-align: right;\">\n",
       "      <th></th>\n",
       "      <th>URL</th>\n",
       "      <th>Sentiment Score</th>\n",
       "      <th>Sentiment Label</th>\n",
       "      <th>Subjectivity Score</th>\n",
       "      <th>Positive Words</th>\n",
       "      <th>Negative Words</th>\n",
       "      <th>Text</th>\n",
       "    </tr>\n",
       "  </thead>\n",
       "  <tbody>\n",
       "    <tr>\n",
       "      <th>0</th>\n",
       "      <td>https://www.foxnews.com/politics/hunter-bidens...</td>\n",
       "      <td>0.04</td>\n",
       "      <td>Neutral</td>\n",
       "      <td>0.24</td>\n",
       "      <td>unpaid, legal, first, new, best, more, main</td>\n",
       "      <td>down, approximately, least, firm, limited, pre...</td>\n",
       "      <td>exclusive: the $250,000 wire hunter biden rece...</td>\n",
       "    </tr>\n",
       "    <tr>\n",
       "      <th>1</th>\n",
       "      <td>https://www.foxnews.com/politics/doj-ordered-h...</td>\n",
       "      <td>0.06</td>\n",
       "      <td>Neutral Positive</td>\n",
       "      <td>0.35</td>\n",
       "      <td>detailed, special, normal, light, first, exact...</td>\n",
       "      <td>artificially, other, foreign, subject, crimina...</td>\n",
       "      <td>the u.s. department of justice ordered fbi and...</td>\n",
       "    </tr>\n",
       "    <tr>\n",
       "      <th>2</th>\n",
       "      <td>https://www.foxnews.com/politics/hunter-biden-...</td>\n",
       "      <td>-0.04</td>\n",
       "      <td>Neutral Negative</td>\n",
       "      <td>0.37</td>\n",
       "      <td>many, direct, legal, first, primarily, general...</td>\n",
       "      <td>guilty, jail, falsely, expected, other, failur...</td>\n",
       "      <td>hunter biden on tuesday filed a lawsuit agains...</td>\n",
       "    </tr>\n",
       "    <tr>\n",
       "      <th>3</th>\n",
       "      <td>https://apnews.com/article/hunter-biden-impeac...</td>\n",
       "      <td>0.02</td>\n",
       "      <td>Neutral Negative</td>\n",
       "      <td>0.37</td>\n",
       "      <td>right, many, legal, promising, action, first, ...</td>\n",
       "      <td>thin, down, military, expected, skeptical, cri...</td>\n",
       "      <td>washington (ap) — house republicans launched a...</td>\n",
       "    </tr>\n",
       "    <tr>\n",
       "      <th>4</th>\n",
       "      <td>https://www.nation.com.pk/21-Jun-2023/hunter-b...</td>\n",
       "      <td>-0.04</td>\n",
       "      <td>Neutral Negative</td>\n",
       "      <td>0.44</td>\n",
       "      <td>detailed, love, first, important, not, social</td>\n",
       "      <td>due, guilty, other, failure, least, criminal, ...</td>\n",
       "      <td>washigton-hunter biden, the son of president j...</td>\n",
       "    </tr>\n",
       "    <tr>\n",
       "      <th>5</th>\n",
       "      <td>https://www.nation.com.pk/25-Jul-2021/white-ho...</td>\n",
       "      <td>0.10</td>\n",
       "      <td>Neutral Positive</td>\n",
       "      <td>0.41</td>\n",
       "      <td>ethically, new, artistic, winning, ethical, ec...</td>\n",
       "      <td>half</td>\n",
       "      <td>washington - the white house assured saturday ...</td>\n",
       "    </tr>\n",
       "    <tr>\n",
       "      <th>6</th>\n",
       "      <td>https://www.nation.com.pk/24-Dec-2019/hunter-b...</td>\n",
       "      <td>-0.11</td>\n",
       "      <td>Negative</td>\n",
       "      <td>0.40</td>\n",
       "      <td>more, new, nearly</td>\n",
       "      <td>guilty, allegedly, criminal, subject, behind, ...</td>\n",
       "      <td>hunter biden is the subject of multiple crimin...</td>\n",
       "    </tr>\n",
       "    <tr>\n",
       "      <th>7</th>\n",
       "      <td>https://www.cnn.com/2023/09/27/politics/house-...</td>\n",
       "      <td>-0.01</td>\n",
       "      <td>Neutral Negative</td>\n",
       "      <td>0.35</td>\n",
       "      <td>unpaid, directly, legal, apparent, significant...</td>\n",
       "      <td>closed, frustrated, other, single, foreign, cr...</td>\n",
       "      <td>washington cnn —\\ndocuments released wednesday...</td>\n",
       "    </tr>\n",
       "    <tr>\n",
       "      <th>9</th>\n",
       "      <td>https://abcnews.go.com/Politics/comer-issue-su...</td>\n",
       "      <td>0.01</td>\n",
       "      <td>Neutral Negative</td>\n",
       "      <td>0.40</td>\n",
       "      <td>directly, first, new, top, far, more</td>\n",
       "      <td>other, extreme, mean, late, missing, previously</td>\n",
       "      <td>house oversight committee chairman james comer...</td>\n",
       "    </tr>\n",
       "  </tbody>\n",
       "</table>\n",
       "</div>"
      ],
      "text/plain": [
       "                                                 URL  Sentiment Score  \\\n",
       "0  https://www.foxnews.com/politics/hunter-bidens...             0.04   \n",
       "1  https://www.foxnews.com/politics/doj-ordered-h...             0.06   \n",
       "2  https://www.foxnews.com/politics/hunter-biden-...            -0.04   \n",
       "3  https://apnews.com/article/hunter-biden-impeac...             0.02   \n",
       "4  https://www.nation.com.pk/21-Jun-2023/hunter-b...            -0.04   \n",
       "5  https://www.nation.com.pk/25-Jul-2021/white-ho...             0.10   \n",
       "6  https://www.nation.com.pk/24-Dec-2019/hunter-b...            -0.11   \n",
       "7  https://www.cnn.com/2023/09/27/politics/house-...            -0.01   \n",
       "9  https://abcnews.go.com/Politics/comer-issue-su...             0.01   \n",
       "\n",
       "    Sentiment Label  Subjectivity Score  \\\n",
       "0           Neutral                0.24   \n",
       "1  Neutral Positive                0.35   \n",
       "2  Neutral Negative                0.37   \n",
       "3  Neutral Negative                0.37   \n",
       "4  Neutral Negative                0.44   \n",
       "5  Neutral Positive                0.41   \n",
       "6          Negative                0.40   \n",
       "7  Neutral Negative                0.35   \n",
       "9  Neutral Negative                0.40   \n",
       "\n",
       "                                      Positive Words  \\\n",
       "0        unpaid, legal, first, new, best, more, main   \n",
       "1  detailed, special, normal, light, first, exact...   \n",
       "2  many, direct, legal, first, primarily, general...   \n",
       "3  right, many, legal, promising, action, first, ...   \n",
       "4      detailed, love, first, important, not, social   \n",
       "5  ethically, new, artistic, winning, ethical, ec...   \n",
       "6                                  more, new, nearly   \n",
       "7  unpaid, directly, legal, apparent, significant...   \n",
       "9               directly, first, new, top, far, more   \n",
       "\n",
       "                                      Negative Words  \\\n",
       "0  down, approximately, least, firm, limited, pre...   \n",
       "1  artificially, other, foreign, subject, crimina...   \n",
       "2  guilty, jail, falsely, expected, other, failur...   \n",
       "3  thin, down, military, expected, skeptical, cri...   \n",
       "4  due, guilty, other, failure, least, criminal, ...   \n",
       "5                                               half   \n",
       "6  guilty, allegedly, criminal, subject, behind, ...   \n",
       "7  closed, frustrated, other, single, foreign, cr...   \n",
       "9    other, extreme, mean, late, missing, previously   \n",
       "\n",
       "                                                Text  \n",
       "0  exclusive: the $250,000 wire hunter biden rece...  \n",
       "1  the u.s. department of justice ordered fbi and...  \n",
       "2  hunter biden on tuesday filed a lawsuit agains...  \n",
       "3  washington (ap) — house republicans launched a...  \n",
       "4  washigton-hunter biden, the son of president j...  \n",
       "5  washington - the white house assured saturday ...  \n",
       "6  hunter biden is the subject of multiple crimin...  \n",
       "7  washington cnn —\\ndocuments released wednesday...  \n",
       "9  house oversight committee chairman james comer...  "
      ]
     },
     "execution_count": 8,
     "metadata": {},
     "output_type": "execute_result"
    }
   ],
   "source": [
    "df = drop_failed_webscraping_rows(df)\n",
    "df"
   ]
  },
  {
   "cell_type": "markdown",
   "id": "40eba53b",
   "metadata": {},
   "source": [
    "# Create Topic Model w/ Highest Coherence"
   ]
  },
  {
   "cell_type": "code",
   "execution_count": 9,
   "id": "52b11718",
   "metadata": {},
   "outputs": [
    {
     "data": {
      "image/png": "[encoded data removed]",
      "text/plain": [
       "<Figure size 640x480 with 1 Axes>"
      ]
     },
     "metadata": {},
     "output_type": "display_data"
    },
    {
     "data": {
      "text/plain": [
       "<gensim.models.ldamodel.LdaModel at 0x24291007fa0>"
      ]
     },
     "execution_count": 9,
     "metadata": {},
     "output_type": "execute_result"
    }
   ],
   "source": [
    "#This will generate multiple topic models with various topic count, then return the model with highest coherence\n",
    "#it will also display a quick visual of coherence values, to understand what topic count is best and why it was chosen\n",
    "LDA_model, corpus = create_lda_model(df, 20, 5, 5)\n",
    "LDA_model"
   ]
  },
  {
   "cell_type": "code",
   "execution_count": 11,
   "id": "0776de9b",
   "metadata": {
    "scrolled": true
   },
   "outputs": [
    {
     "name": "stdout",
     "output_type": "stream",
     "text": [
      "15\n"
     ]
    },
    {
     "data": {
      "text/plain": [
       "[(0,\n",
       "  '0.002*\"say\" + 0.001*\"hearing\" + 0.001*\"republican\" + 0.001*\"document\" + 0.001*\"president\" + 0.001*\"impeachment\" + 0.001*\"business\" + 0.001*\"family\" + 0.001*\"political\" + 0.001*\"release\"'),\n",
       " (1,\n",
       "  '0.002*\"laptop\" + 0.002*\"email\" + 0.002*\"video\" + 0.002*\"obtain\" + 0.001*\"ten\" + 0.001*\"drive\" + 0.001*\"disseminate\" + 0.001*\"hire\" + 0.001*\"information\" + 0.001*\"repair\"'),\n",
       " (2,\n",
       "  '0.001*\"say\" + 0.001*\"republican\" + 0.001*\"address\" + 0.001*\"hearing\" + 0.001*\"impeachment\" + 0.001*\"record\" + 0.001*\"president\" + 0.001*\"document\" + 0.001*\"file\" + 0.001*\"wire\"'),\n",
       " (3,\n",
       "  '0.032*\"say\" + 0.015*\"family\" + 0.013*\"president\" + 0.013*\"impeachment\" + 0.013*\"hearing\" + 0.012*\"document\" + 0.012*\"evidence\" + 0.011*\"republican\" + 0.010*\"committee\" + 0.010*\"house\"'),\n",
       " (4,\n",
       "  '0.001*\"say\" + 0.001*\"document\" + 0.001*\"family\" + 0.001*\"committee\" + 0.001*\"investigator\" + 0.001*\"new\" + 0.001*\"evidence\" + 0.001*\"include\" + 0.001*\"time\" + 0.001*\"business\"'),\n",
       " (5,\n",
       "  '0.020*\"laptop\" + 0.017*\"file\" + 0.015*\"drive\" + 0.013*\"device\" + 0.013*\"datum\" + 0.013*\"email\" + 0.012*\"son\" + 0.010*\"hard\" + 0.010*\"copy\" + 0.010*\"lawsuit\"'),\n",
       " (6,\n",
       "  '0.045*\"wire\" + 0.028*\"address\" + 0.024*\"receive\" + 0.020*\"partner\" + 0.017*\"list\" + 0.016*\"say\" + 0.015*\"beneficiary\" + 0.012*\"money\" + 0.011*\"investment\" + 0.011*\"chinese\"'),\n",
       " (7,\n",
       "  '0.025*\"say\" + 0.015*\"son\" + 0.015*\"gallery\" + 0.015*\"buyer\" + 0.015*\"purchase\" + 0.015*\"artwork\" + 0.010*\"president\" + 0.010*\"year\" + 0.010*\"know\" + 0.010*\"target\"'),\n",
       " (8,\n",
       "  '0.022*\"deputy\" + 0.016*\"back\" + 0.016*\"way\" + 0.008*\"fund\" + 0.008*\"possibility\" + 0.008*\"unclear\" + 0.008*\"identify\" + 0.008*\"buy\" + 0.008*\"pertain\" + 0.008*\"ve\"'),\n",
       " (9,\n",
       "  '0.001*\"say\" + 0.001*\"document\" + 0.001*\"file\" + 0.001*\"scheme\" + 0.001*\"criminal\" + 0.001*\"money\" + 0.001*\"republican\" + 0.001*\"court\" + 0.001*\"allege\" + 0.001*\"include\"'),\n",
       " (10,\n",
       "  '0.001*\"son\" + 0.001*\"laptop\" + 0.001*\"say\" + 0.001*\"document\" + 0.001*\"email\" + 0.001*\"file\" + 0.001*\"release\" + 0.001*\"drive\" + 0.001*\"include\" + 0.001*\"committee\"'),\n",
       " (11,\n",
       "  '0.033*\"say\" + 0.025*\"plea\" + 0.018*\"charge\" + 0.018*\"deal\" + 0.018*\"son\" + 0.017*\"agreement\" + 0.017*\"prosecutor\" + 0.014*\"file\" + 0.013*\"criminal\" + 0.013*\"life\"'),\n",
       " (12,\n",
       "  '0.001*\"document\" + 0.001*\"say\" + 0.001*\"deputy\" + 0.001*\"probe\" + 0.001*\"release\" + 0.001*\"warrant\" + 0.001*\"include\" + 0.001*\"republican\" + 0.001*\"new\" + 0.001*\"prosecutor\"'),\n",
       " (13,\n",
       "  '0.021*\"document\" + 0.015*\"include\" + 0.015*\"criminal\" + 0.014*\"probe\" + 0.013*\"republican\" + 0.013*\"say\" + 0.011*\"release\" + 0.010*\"political\" + 0.010*\"warrant\" + 0.009*\"whistleblower\"'),\n",
       " (14,\n",
       "  '0.003*\"say\" + 0.002*\"document\" + 0.002*\"address\" + 0.002*\"record\" + 0.002*\"bank\" + 0.002*\"comer\" + 0.002*\"family\" + 0.002*\"house\" + 0.002*\"republican\" + 0.002*\"evidence\"')]"
      ]
     },
     "execution_count": 11,
     "metadata": {},
     "output_type": "execute_result"
    }
   ],
   "source": [
    "#here we create a list of topic words and their associated weights\n",
    "LDA_model_topics = LDA_model.print_topics() #LDA_model[corpus]\n",
    "\n",
    "LDA_model_topics.sort()\n",
    "print(len(LDA_model_topics))\n",
    "LDA_model_topics\n"
   ]
  },
  {
   "cell_type": "code",
   "execution_count": 12,
   "id": "84da4c03",
   "metadata": {
    "scrolled": true
   },
   "outputs": [
    {
     "data": {
      "text/plain": [
       "{'Topic_0': ['say',\n",
       "  'hearing',\n",
       "  'republican',\n",
       "  'document',\n",
       "  'president',\n",
       "  'impeachment',\n",
       "  'business',\n",
       "  'family',\n",
       "  'political',\n",
       "  'release'],\n",
       " 'Topic_1': ['laptop',\n",
       "  'email',\n",
       "  'video',\n",
       "  'obtain',\n",
       "  'ten',\n",
       "  'drive',\n",
       "  'disseminate',\n",
       "  'hire',\n",
       "  'information',\n",
       "  'repair'],\n",
       " 'Topic_2': ['say',\n",
       "  'republican',\n",
       "  'address',\n",
       "  'hearing',\n",
       "  'impeachment',\n",
       "  'record',\n",
       "  'president',\n",
       "  'document',\n",
       "  'file',\n",
       "  'wire'],\n",
       " 'Topic_3': ['say',\n",
       "  'family',\n",
       "  'president',\n",
       "  'impeachment',\n",
       "  'hearing',\n",
       "  'document',\n",
       "  'evidence',\n",
       "  'republican',\n",
       "  'committee',\n",
       "  'house'],\n",
       " 'Topic_4': ['say',\n",
       "  'document',\n",
       "  'family',\n",
       "  'committee',\n",
       "  'investigator',\n",
       "  'new',\n",
       "  'evidence',\n",
       "  'include',\n",
       "  'time',\n",
       "  'business'],\n",
       " 'Topic_5': ['laptop',\n",
       "  'file',\n",
       "  'drive',\n",
       "  'device',\n",
       "  'datum',\n",
       "  'email',\n",
       "  'son',\n",
       "  'hard',\n",
       "  'copy',\n",
       "  'lawsuit'],\n",
       " 'Topic_6': ['wire',\n",
       "  'address',\n",
       "  'receive',\n",
       "  'partner',\n",
       "  'list',\n",
       "  'say',\n",
       "  'beneficiary',\n",
       "  'money',\n",
       "  'investment',\n",
       "  'chinese'],\n",
       " 'Topic_7': ['say',\n",
       "  'son',\n",
       "  'gallery',\n",
       "  'buyer',\n",
       "  'purchase',\n",
       "  'artwork',\n",
       "  'president',\n",
       "  'year',\n",
       "  'know',\n",
       "  'target'],\n",
       " 'Topic_8': ['deputy',\n",
       "  'back',\n",
       "  'way',\n",
       "  'fund',\n",
       "  'possibility',\n",
       "  'unclear',\n",
       "  'identify',\n",
       "  'buy',\n",
       "  'pertain',\n",
       "  've'],\n",
       " 'Topic_9': ['say',\n",
       "  'document',\n",
       "  'file',\n",
       "  'scheme',\n",
       "  'criminal',\n",
       "  'money',\n",
       "  'republican',\n",
       "  'court',\n",
       "  'allege',\n",
       "  'include'],\n",
       " 'Topic_10': ['son',\n",
       "  'laptop',\n",
       "  'say',\n",
       "  'document',\n",
       "  'email',\n",
       "  'file',\n",
       "  'release',\n",
       "  'drive',\n",
       "  'include',\n",
       "  'committee'],\n",
       " 'Topic_11': ['say',\n",
       "  'plea',\n",
       "  'charge',\n",
       "  'deal',\n",
       "  'son',\n",
       "  'agreement',\n",
       "  'prosecutor',\n",
       "  'file',\n",
       "  'criminal',\n",
       "  'life'],\n",
       " 'Topic_12': ['document',\n",
       "  'say',\n",
       "  'deputy',\n",
       "  'probe',\n",
       "  'release',\n",
       "  'warrant',\n",
       "  'include',\n",
       "  'republican',\n",
       "  'new',\n",
       "  'prosecutor'],\n",
       " 'Topic_13': ['document',\n",
       "  'include',\n",
       "  'criminal',\n",
       "  'probe',\n",
       "  'republican',\n",
       "  'say',\n",
       "  'release',\n",
       "  'political',\n",
       "  'warrant',\n",
       "  'whistleblower'],\n",
       " 'Topic_14': ['say',\n",
       "  'document',\n",
       "  'address',\n",
       "  'record',\n",
       "  'bank',\n",
       "  'comer',\n",
       "  'family',\n",
       "  'house',\n",
       "  'republican',\n",
       "  'evidence']}"
      ]
     },
     "execution_count": 12,
     "metadata": {},
     "output_type": "execute_result"
    }
   ],
   "source": [
    "topic_dict = topic_level_sentiment(LDA_model)\n",
    "topic_dict"
   ]
  },
  {
   "cell_type": "markdown",
   "id": "e90c4670",
   "metadata": {},
   "source": [
    "# DATA VISUALIZATION"
   ]
  },
  {
   "cell_type": "markdown",
   "id": "5ff43e45",
   "metadata": {},
   "source": [
    "## Pre-processing dataframe for visualization"
   ]
  },
  {
   "cell_type": "code",
   "execution_count": 10,
   "id": "097d2461",
   "metadata": {
    "scrolled": true
   },
   "outputs": [
    {
     "data": {
      "text/html": [
       "<div>\n",
       "<style scoped>\n",
       "    .dataframe tbody tr th:only-of-type {\n",
       "        vertical-align: middle;\n",
       "    }\n",
       "\n",
       "    .dataframe tbody tr th {\n",
       "        vertical-align: top;\n",
       "    }\n",
       "\n",
       "    .dataframe thead th {\n",
       "        text-align: right;\n",
       "    }\n",
       "</style>\n",
       "<table border=\"1\" class=\"dataframe\">\n",
       "  <thead>\n",
       "    <tr style=\"text-align: right;\">\n",
       "      <th></th>\n",
       "      <th>URL</th>\n",
       "      <th>Sentiment Score</th>\n",
       "      <th>Sentiment Label</th>\n",
       "      <th>Subjectivity Score</th>\n",
       "      <th>Positive Words</th>\n",
       "      <th>Negative Words</th>\n",
       "      <th>Text</th>\n",
       "      <th>Topics</th>\n",
       "      <th>Main Topic</th>\n",
       "      <th>Main Topic Score</th>\n",
       "    </tr>\n",
       "  </thead>\n",
       "  <tbody>\n",
       "    <tr>\n",
       "      <th>0</th>\n",
       "      <td>https://www.foxnews.com/politics/hunter-bidens...</td>\n",
       "      <td>0.04</td>\n",
       "      <td>Neutral</td>\n",
       "      <td>0.24</td>\n",
       "      <td>unpaid, legal, first, new, best, more, main</td>\n",
       "      <td>down, approximately, least, firm, limited, pre...</td>\n",
       "      <td>exclusive: the $250,000 wire hunter biden rece...</td>\n",
       "      <td>[(6, 0.9972386)]</td>\n",
       "      <td>6</td>\n",
       "      <td>0.997239</td>\n",
       "    </tr>\n",
       "    <tr>\n",
       "      <th>1</th>\n",
       "      <td>https://www.foxnews.com/politics/doj-ordered-h...</td>\n",
       "      <td>0.06</td>\n",
       "      <td>Neutral Positive</td>\n",
       "      <td>0.35</td>\n",
       "      <td>detailed, special, normal, light, first, exact...</td>\n",
       "      <td>artificially, other, foreign, subject, crimina...</td>\n",
       "      <td>the u.s. department of justice ordered fbi and...</td>\n",
       "      <td>[(3, 0.99782425)]</td>\n",
       "      <td>3</td>\n",
       "      <td>0.997824</td>\n",
       "    </tr>\n",
       "    <tr>\n",
       "      <th>2</th>\n",
       "      <td>https://www.foxnews.com/politics/hunter-biden-...</td>\n",
       "      <td>-0.04</td>\n",
       "      <td>Neutral Negative</td>\n",
       "      <td>0.37</td>\n",
       "      <td>many, direct, legal, first, primarily, general...</td>\n",
       "      <td>guilty, jail, falsely, expected, other, failur...</td>\n",
       "      <td>hunter biden on tuesday filed a lawsuit agains...</td>\n",
       "      <td>[(5, 0.9507165), (11, 0.0391849)]</td>\n",
       "      <td>5</td>\n",
       "      <td>0.950716</td>\n",
       "    </tr>\n",
       "    <tr>\n",
       "      <th>3</th>\n",
       "      <td>https://apnews.com/article/hunter-biden-impeac...</td>\n",
       "      <td>0.02</td>\n",
       "      <td>Neutral Negative</td>\n",
       "      <td>0.37</td>\n",
       "      <td>right, many, legal, promising, action, first, ...</td>\n",
       "      <td>thin, down, military, expected, skeptical, cri...</td>\n",
       "      <td>washington (ap) — house republicans launched a...</td>\n",
       "      <td>[(3, 0.99820834)]</td>\n",
       "      <td>3</td>\n",
       "      <td>0.998208</td>\n",
       "    </tr>\n",
       "    <tr>\n",
       "      <th>4</th>\n",
       "      <td>https://www.nation.com.pk/21-Jun-2023/hunter-b...</td>\n",
       "      <td>-0.04</td>\n",
       "      <td>Neutral Negative</td>\n",
       "      <td>0.44</td>\n",
       "      <td>detailed, love, first, important, not, social</td>\n",
       "      <td>due, guilty, other, failure, least, criminal, ...</td>\n",
       "      <td>washigton-hunter biden, the son of president j...</td>\n",
       "      <td>[(11, 0.99420273)]</td>\n",
       "      <td>11</td>\n",
       "      <td>0.994203</td>\n",
       "    </tr>\n",
       "    <tr>\n",
       "      <th>5</th>\n",
       "      <td>https://www.nation.com.pk/25-Jul-2021/white-ho...</td>\n",
       "      <td>0.10</td>\n",
       "      <td>Neutral Positive</td>\n",
       "      <td>0.41</td>\n",
       "      <td>ethically, new, artistic, winning, ethical, ec...</td>\n",
       "      <td>half</td>\n",
       "      <td>washington - the white house assured saturday ...</td>\n",
       "      <td>[(7, 0.9935183)]</td>\n",
       "      <td>7</td>\n",
       "      <td>0.993518</td>\n",
       "    </tr>\n",
       "    <tr>\n",
       "      <th>6</th>\n",
       "      <td>https://www.nation.com.pk/24-Dec-2019/hunter-b...</td>\n",
       "      <td>-0.11</td>\n",
       "      <td>Negative</td>\n",
       "      <td>0.40</td>\n",
       "      <td>more, new, nearly</td>\n",
       "      <td>guilty, allegedly, criminal, subject, behind, ...</td>\n",
       "      <td>hunter biden is the subject of multiple crimin...</td>\n",
       "      <td>[(13, 0.9927644)]</td>\n",
       "      <td>13</td>\n",
       "      <td>0.992764</td>\n",
       "    </tr>\n",
       "    <tr>\n",
       "      <th>7</th>\n",
       "      <td>https://www.cnn.com/2023/09/27/politics/house-...</td>\n",
       "      <td>-0.01</td>\n",
       "      <td>Neutral Negative</td>\n",
       "      <td>0.35</td>\n",
       "      <td>unpaid, directly, legal, apparent, significant...</td>\n",
       "      <td>closed, frustrated, other, single, foreign, cr...</td>\n",
       "      <td>washington cnn —\\ndocuments released wednesday...</td>\n",
       "      <td>[(8, 0.111526184), (13, 0.8866867)]</td>\n",
       "      <td>13</td>\n",
       "      <td>0.886687</td>\n",
       "    </tr>\n",
       "    <tr>\n",
       "      <th>9</th>\n",
       "      <td>https://abcnews.go.com/Politics/comer-issue-su...</td>\n",
       "      <td>0.01</td>\n",
       "      <td>Neutral Negative</td>\n",
       "      <td>0.40</td>\n",
       "      <td>directly, first, new, top, far, more</td>\n",
       "      <td>other, extreme, mean, late, missing, previously</td>\n",
       "      <td>house oversight committee chairman james comer...</td>\n",
       "      <td>[(3, 0.7236837), (6, 0.2725478)]</td>\n",
       "      <td>3</td>\n",
       "      <td>0.723684</td>\n",
       "    </tr>\n",
       "  </tbody>\n",
       "</table>\n",
       "</div>"
      ],
      "text/plain": [
       "                                                 URL  Sentiment Score  \\\n",
       "0  https://www.foxnews.com/politics/hunter-bidens...             0.04   \n",
       "1  https://www.foxnews.com/politics/doj-ordered-h...             0.06   \n",
       "2  https://www.foxnews.com/politics/hunter-biden-...            -0.04   \n",
       "3  https://apnews.com/article/hunter-biden-impeac...             0.02   \n",
       "4  https://www.nation.com.pk/21-Jun-2023/hunter-b...            -0.04   \n",
       "5  https://www.nation.com.pk/25-Jul-2021/white-ho...             0.10   \n",
       "6  https://www.nation.com.pk/24-Dec-2019/hunter-b...            -0.11   \n",
       "7  https://www.cnn.com/2023/09/27/politics/house-...            -0.01   \n",
       "9  https://abcnews.go.com/Politics/comer-issue-su...             0.01   \n",
       "\n",
       "    Sentiment Label  Subjectivity Score  \\\n",
       "0           Neutral                0.24   \n",
       "1  Neutral Positive                0.35   \n",
       "2  Neutral Negative                0.37   \n",
       "3  Neutral Negative                0.37   \n",
       "4  Neutral Negative                0.44   \n",
       "5  Neutral Positive                0.41   \n",
       "6          Negative                0.40   \n",
       "7  Neutral Negative                0.35   \n",
       "9  Neutral Negative                0.40   \n",
       "\n",
       "                                      Positive Words  \\\n",
       "0        unpaid, legal, first, new, best, more, main   \n",
       "1  detailed, special, normal, light, first, exact...   \n",
       "2  many, direct, legal, first, primarily, general...   \n",
       "3  right, many, legal, promising, action, first, ...   \n",
       "4      detailed, love, first, important, not, social   \n",
       "5  ethically, new, artistic, winning, ethical, ec...   \n",
       "6                                  more, new, nearly   \n",
       "7  unpaid, directly, legal, apparent, significant...   \n",
       "9               directly, first, new, top, far, more   \n",
       "\n",
       "                                      Negative Words  \\\n",
       "0  down, approximately, least, firm, limited, pre...   \n",
       "1  artificially, other, foreign, subject, crimina...   \n",
       "2  guilty, jail, falsely, expected, other, failur...   \n",
       "3  thin, down, military, expected, skeptical, cri...   \n",
       "4  due, guilty, other, failure, least, criminal, ...   \n",
       "5                                               half   \n",
       "6  guilty, allegedly, criminal, subject, behind, ...   \n",
       "7  closed, frustrated, other, single, foreign, cr...   \n",
       "9    other, extreme, mean, late, missing, previously   \n",
       "\n",
       "                                                Text  \\\n",
       "0  exclusive: the $250,000 wire hunter biden rece...   \n",
       "1  the u.s. department of justice ordered fbi and...   \n",
       "2  hunter biden on tuesday filed a lawsuit agains...   \n",
       "3  washington (ap) — house republicans launched a...   \n",
       "4  washigton-hunter biden, the son of president j...   \n",
       "5  washington - the white house assured saturday ...   \n",
       "6  hunter biden is the subject of multiple crimin...   \n",
       "7  washington cnn —\\ndocuments released wednesday...   \n",
       "9  house oversight committee chairman james comer...   \n",
       "\n",
       "                                Topics  Main Topic  Main Topic Score  \n",
       "0                     [(6, 0.9972386)]           6          0.997239  \n",
       "1                    [(3, 0.99782425)]           3          0.997824  \n",
       "2    [(5, 0.9507165), (11, 0.0391849)]           5          0.950716  \n",
       "3                    [(3, 0.99820834)]           3          0.998208  \n",
       "4                   [(11, 0.99420273)]          11          0.994203  \n",
       "5                     [(7, 0.9935183)]           7          0.993518  \n",
       "6                    [(13, 0.9927644)]          13          0.992764  \n",
       "7  [(8, 0.111526184), (13, 0.8866867)]          13          0.886687  \n",
       "9     [(3, 0.7236837), (6, 0.2725478)]           3          0.723684  "
      ]
     },
     "execution_count": 10,
     "metadata": {},
     "output_type": "execute_result"
    }
   ],
   "source": [
    "#making a new dataframe \n",
    "df_main_topic = add_main_topic_dataframe(df, LDA_model, corpus)\n",
    "\n",
    "df_main_topic\n",
    "\n",
    "#LDA_model.get_document_topics(corpus)\n",
    "#df['Topics'] = LDA_model.get_document_topics(corpus)\n",
    "#df.shape"
   ]
  },
  {
   "cell_type": "markdown",
   "id": "9587fb26",
   "metadata": {},
   "source": [
    "## Visualize all articles on their main topic"
   ]
  },
  {
   "cell_type": "code",
   "execution_count": 13,
   "id": "f85d1cda",
   "metadata": {
    "scrolled": false
   },
   "outputs": [
    {
     "data": {
      "application/vnd.plotly.v1+json": {
       "config": {
        "plotlyServerURL": "https://plot.ly"
       },
       "data": [
        {
         "customdata": [
          [
           "https://www.foxnews.com/politics/do",
           "Neutral Positive",
           0.9978242516517639
          ],
          [
           "https://apnews.com/article/hunter-b",
           "Neutral Negative",
           0.9982083439826965
          ],
          [
           "https://abcnews.go.com/Politics/com",
           "Neutral Negative",
           0.7236837148666382
          ],
          [
           "https://www.foxnews.com/politics/hu",
           "Neutral Negative",
           0.950716495513916
          ],
          [
           "https://www.foxnews.com/politics/hu",
           "Neutral",
           0.9972385764122009
          ],
          [
           "https://www.nation.com.pk/25-Jul-20",
           "Neutral Positive",
           0.9935182929039001
          ],
          [
           "https://www.nation.com.pk/21-Jun-20",
           "Neutral Negative",
           0.994202733039856
          ],
          [
           "https://www.nation.com.pk/24-Dec-20",
           "Negative",
           0.992764413356781
          ],
          [
           "https://www.cnn.com/2023/09/27/poli",
           "Neutral Negative",
           0.8866866827011108
          ]
         ],
         "hovertemplate": "Address: %{customdata[0]}<br>Sentiment Label: %{customdata[1]}<br>Main Topic Score :%{customdata[2]}",
         "legendgroup": "",
         "marker": {
          "color": "#636efa",
          "size": [
           0.9978242516517639,
           0.9982083439826965,
           0.7236837148666382,
           0.950716495513916,
           0.9972385764122009,
           0.9935182929039001,
           0.994202733039856,
           0.992764413356781,
           0.8866866827011108
          ],
          "sizemode": "area",
          "sizeref": 0.0024955208599567414,
          "symbol": "circle"
         },
         "mode": "markers",
         "name": "",
         "orientation": "v",
         "showlegend": false,
         "type": "scatter",
         "x": [
          3,
          3,
          3,
          5,
          6,
          7,
          11,
          13,
          13
         ],
         "xaxis": "x",
         "y": [
          0.06,
          0.02,
          0.01,
          -0.04,
          0.04,
          0.1,
          -0.04,
          -0.11,
          -0.01
         ],
         "yaxis": "y"
        }
       ],
       "layout": {
        "legend": {
         "itemsizing": "constant",
         "tracegroupgap": 0
        },
        "template": {
         "data": {
          "bar": [
           {
            "error_x": {
             "color": "#2a3f5f"
            },
            "error_y": {
             "color": "#2a3f5f"
            },
            "marker": {
             "line": {
              "color": "#E5ECF6",
              "width": 0.5
             },
             "pattern": {
              "fillmode": "overlay",
              "size": 10,
              "solidity": 0.2
             }
            },
            "type": "bar"
           }
          ],
          "barpolar": [
           {
            "marker": {
             "line": {
              "color": "#E5ECF6",
              "width": 0.5
             },
             "pattern": {
              "fillmode": "overlay",
              "size": 10,
              "solidity": 0.2
             }
            },
            "type": "barpolar"
           }
          ],
          "carpet": [
           {
            "aaxis": {
             "endlinecolor": "#2a3f5f",
             "gridcolor": "white",
             "linecolor": "white",
             "minorgridcolor": "white",
             "startlinecolor": "#2a3f5f"
            },
            "baxis": {
             "endlinecolor": "#2a3f5f",
             "gridcolor": "white",
             "linecolor": "white",
             "minorgridcolor": "white",
             "startlinecolor": "#2a3f5f"
            },
            "type": "carpet"
           }
          ],
          "choropleth": [
           {
            "colorbar": {
             "outlinewidth": 0,
             "ticks": ""
            },
            "type": "choropleth"
           }
          ],
          "contour": [
           {
            "colorbar": {
             "outlinewidth": 0,
             "ticks": ""
            },
            "colorscale": [
             [
              0,
              "#0d0887"
             ],
             [
              0.1111111111111111,
              "#46039f"
             ],
             [
              0.2222222222222222,
              "#7201a8"
             ],
             [
              0.3333333333333333,
              "#9c179e"
             ],
             [
              0.4444444444444444,
              "#bd3786"
             ],
             [
              0.5555555555555556,
              "#d8576b"
             ],
             [
              0.6666666666666666,
              "#ed7953"
             ],
             [
              0.7777777777777778,
              "#fb9f3a"
             ],
             [
              0.8888888888888888,
              "#fdca26"
             ],
             [
              1,
              "#f0f921"
             ]
            ],
            "type": "contour"
           }
          ],
          "contourcarpet": [
           {
            "colorbar": {
             "outlinewidth": 0,
             "ticks": ""
            },
            "type": "contourcarpet"
           }
          ],
          "heatmap": [
           {
            "colorbar": {
             "outlinewidth": 0,
             "ticks": ""
            },
            "colorscale": [
             [
              0,
              "#0d0887"
             ],
             [
              0.1111111111111111,
              "#46039f"
             ],
             [
              0.2222222222222222,
              "#7201a8"
             ],
             [
              0.3333333333333333,
              "#9c179e"
             ],
             [
              0.4444444444444444,
              "#bd3786"
             ],
             [
              0.5555555555555556,
              "#d8576b"
             ],
             [
              0.6666666666666666,
              "#ed7953"
             ],
             [
              0.7777777777777778,
              "#fb9f3a"
             ],
             [
              0.8888888888888888,
              "#fdca26"
             ],
             [
              1,
              "#f0f921"
             ]
            ],
            "type": "heatmap"
           }
          ],
          "heatmapgl": [
           {
            "colorbar": {
             "outlinewidth": 0,
             "ticks": ""
            },
            "colorscale": [
             [
              0,
              "#0d0887"
             ],
             [
              0.1111111111111111,
              "#46039f"
             ],
             [
              0.2222222222222222,
              "#7201a8"
             ],
             [
              0.3333333333333333,
              "#9c179e"
             ],
             [
              0.4444444444444444,
              "#bd3786"
             ],
             [
              0.5555555555555556,
              "#d8576b"
             ],
             [
              0.6666666666666666,
              "#ed7953"
             ],
             [
              0.7777777777777778,
              "#fb9f3a"
             ],
             [
              0.8888888888888888,
              "#fdca26"
             ],
             [
              1,
              "#f0f921"
             ]
            ],
            "type": "heatmapgl"
           }
          ],
          "histogram": [
           {
            "marker": {
             "pattern": {
              "fillmode": "overlay",
              "size": 10,
              "solidity": 0.2
             }
            },
            "type": "histogram"
           }
          ],
          "histogram2d": [
           {
            "colorbar": {
             "outlinewidth": 0,
             "ticks": ""
            },
            "colorscale": [
             [
              0,
              "#0d0887"
             ],
             [
              0.1111111111111111,
              "#46039f"
             ],
             [
              0.2222222222222222,
              "#7201a8"
             ],
             [
              0.3333333333333333,
              "#9c179e"
             ],
             [
              0.4444444444444444,
              "#bd3786"
             ],
             [
              0.5555555555555556,
              "#d8576b"
             ],
             [
              0.6666666666666666,
              "#ed7953"
             ],
             [
              0.7777777777777778,
              "#fb9f3a"
             ],
             [
              0.8888888888888888,
              "#fdca26"
             ],
             [
              1,
              "#f0f921"
             ]
            ],
            "type": "histogram2d"
           }
          ],
          "histogram2dcontour": [
           {
            "colorbar": {
             "outlinewidth": 0,
             "ticks": ""
            },
            "colorscale": [
             [
              0,
              "#0d0887"
             ],
             [
              0.1111111111111111,
              "#46039f"
             ],
             [
              0.2222222222222222,
              "#7201a8"
             ],
             [
              0.3333333333333333,
              "#9c179e"
             ],
             [
              0.4444444444444444,
              "#bd3786"
             ],
             [
              0.5555555555555556,
              "#d8576b"
             ],
             [
              0.6666666666666666,
              "#ed7953"
             ],
             [
              0.7777777777777778,
              "#fb9f3a"
             ],
             [
              0.8888888888888888,
              "#fdca26"
             ],
             [
              1,
              "#f0f921"
             ]
            ],
            "type": "histogram2dcontour"
           }
          ],
          "mesh3d": [
           {
            "colorbar": {
             "outlinewidth": 0,
             "ticks": ""
            },
            "type": "mesh3d"
           }
          ],
          "parcoords": [
           {
            "line": {
             "colorbar": {
              "outlinewidth": 0,
              "ticks": ""
             }
            },
            "type": "parcoords"
           }
          ],
          "pie": [
           {
            "automargin": true,
            "type": "pie"
           }
          ],
          "scatter": [
           {
            "fillpattern": {
             "fillmode": "overlay",
             "size": 10,
             "solidity": 0.2
            },
            "type": "scatter"
           }
          ],
          "scatter3d": [
           {
            "line": {
             "colorbar": {
              "outlinewidth": 0,
              "ticks": ""
             }
            },
            "marker": {
             "colorbar": {
              "outlinewidth": 0,
              "ticks": ""
             }
            },
            "type": "scatter3d"
           }
          ],
          "scattercarpet": [
           {
            "marker": {
             "colorbar": {
              "outlinewidth": 0,
              "ticks": ""
             }
            },
            "type": "scattercarpet"
           }
          ],
          "scattergeo": [
           {
            "marker": {
             "colorbar": {
              "outlinewidth": 0,
              "ticks": ""
             }
            },
            "type": "scattergeo"
           }
          ],
          "scattergl": [
           {
            "marker": {
             "colorbar": {
              "outlinewidth": 0,
              "ticks": ""
             }
            },
            "type": "scattergl"
           }
          ],
          "scattermapbox": [
           {
            "marker": {
             "colorbar": {
              "outlinewidth": 0,
              "ticks": ""
             }
            },
            "type": "scattermapbox"
           }
          ],
          "scatterpolar": [
           {
            "marker": {
             "colorbar": {
              "outlinewidth": 0,
              "ticks": ""
             }
            },
            "type": "scatterpolar"
           }
          ],
          "scatterpolargl": [
           {
            "marker": {
             "colorbar": {
              "outlinewidth": 0,
              "ticks": ""
             }
            },
            "type": "scatterpolargl"
           }
          ],
          "scatterternary": [
           {
            "marker": {
             "colorbar": {
              "outlinewidth": 0,
              "ticks": ""
             }
            },
            "type": "scatterternary"
           }
          ],
          "surface": [
           {
            "colorbar": {
             "outlinewidth": 0,
             "ticks": ""
            },
            "colorscale": [
             [
              0,
              "#0d0887"
             ],
             [
              0.1111111111111111,
              "#46039f"
             ],
             [
              0.2222222222222222,
              "#7201a8"
             ],
             [
              0.3333333333333333,
              "#9c179e"
             ],
             [
              0.4444444444444444,
              "#bd3786"
             ],
             [
              0.5555555555555556,
              "#d8576b"
             ],
             [
              0.6666666666666666,
              "#ed7953"
             ],
             [
              0.7777777777777778,
              "#fb9f3a"
             ],
             [
              0.8888888888888888,
              "#fdca26"
             ],
             [
              1,
              "#f0f921"
             ]
            ],
            "type": "surface"
           }
          ],
          "table": [
           {
            "cells": {
             "fill": {
              "color": "#EBF0F8"
             },
             "line": {
              "color": "white"
             }
            },
            "header": {
             "fill": {
              "color": "#C8D4E3"
             },
             "line": {
              "color": "white"
             }
            },
            "type": "table"
           }
          ]
         },
         "layout": {
          "annotationdefaults": {
           "arrowcolor": "#2a3f5f",
           "arrowhead": 0,
           "arrowwidth": 1
          },
          "autotypenumbers": "strict",
          "coloraxis": {
           "colorbar": {
            "outlinewidth": 0,
            "ticks": ""
           }
          },
          "colorscale": {
           "diverging": [
            [
             0,
             "#8e0152"
            ],
            [
             0.1,
             "#c51b7d"
            ],
            [
             0.2,
             "#de77ae"
            ],
            [
             0.3,
             "#f1b6da"
            ],
            [
             0.4,
             "#fde0ef"
            ],
            [
             0.5,
             "#f7f7f7"
            ],
            [
             0.6,
             "#e6f5d0"
            ],
            [
             0.7,
             "#b8e186"
            ],
            [
             0.8,
             "#7fbc41"
            ],
            [
             0.9,
             "#4d9221"
            ],
            [
             1,
             "#276419"
            ]
           ],
           "sequential": [
            [
             0,
             "#0d0887"
            ],
            [
             0.1111111111111111,
             "#46039f"
            ],
            [
             0.2222222222222222,
             "#7201a8"
            ],
            [
             0.3333333333333333,
             "#9c179e"
            ],
            [
             0.4444444444444444,
             "#bd3786"
            ],
            [
             0.5555555555555556,
             "#d8576b"
            ],
            [
             0.6666666666666666,
             "#ed7953"
            ],
            [
             0.7777777777777778,
             "#fb9f3a"
            ],
            [
             0.8888888888888888,
             "#fdca26"
            ],
            [
             1,
             "#f0f921"
            ]
           ],
           "sequentialminus": [
            [
             0,
             "#0d0887"
            ],
            [
             0.1111111111111111,
             "#46039f"
            ],
            [
             0.2222222222222222,
             "#7201a8"
            ],
            [
             0.3333333333333333,
             "#9c179e"
            ],
            [
             0.4444444444444444,
             "#bd3786"
            ],
            [
             0.5555555555555556,
             "#d8576b"
            ],
            [
             0.6666666666666666,
             "#ed7953"
            ],
            [
             0.7777777777777778,
             "#fb9f3a"
            ],
            [
             0.8888888888888888,
             "#fdca26"
            ],
            [
             1,
             "#f0f921"
            ]
           ]
          },
          "colorway": [
           "#636efa",
           "#EF553B",
           "#00cc96",
           "#ab63fa",
           "#FFA15A",
           "#19d3f3",
           "#FF6692",
           "#B6E880",
           "#FF97FF",
           "#FECB52"
          ],
          "font": {
           "color": "#2a3f5f"
          },
          "geo": {
           "bgcolor": "white",
           "lakecolor": "white",
           "landcolor": "#E5ECF6",
           "showlakes": true,
           "showland": true,
           "subunitcolor": "white"
          },
          "hoverlabel": {
           "align": "left"
          },
          "hovermode": "closest",
          "mapbox": {
           "style": "light"
          },
          "paper_bgcolor": "white",
          "plot_bgcolor": "#E5ECF6",
          "polar": {
           "angularaxis": {
            "gridcolor": "white",
            "linecolor": "white",
            "ticks": ""
           },
           "bgcolor": "#E5ECF6",
           "radialaxis": {
            "gridcolor": "white",
            "linecolor": "white",
            "ticks": ""
           }
          },
          "scene": {
           "xaxis": {
            "backgroundcolor": "#E5ECF6",
            "gridcolor": "white",
            "gridwidth": 2,
            "linecolor": "white",
            "showbackground": true,
            "ticks": "",
            "zerolinecolor": "white"
           },
           "yaxis": {
            "backgroundcolor": "#E5ECF6",
            "gridcolor": "white",
            "gridwidth": 2,
            "linecolor": "white",
            "showbackground": true,
            "ticks": "",
            "zerolinecolor": "white"
           },
           "zaxis": {
            "backgroundcolor": "#E5ECF6",
            "gridcolor": "white",
            "gridwidth": 2,
            "linecolor": "white",
            "showbackground": true,
            "ticks": "",
            "zerolinecolor": "white"
           }
          },
          "shapedefaults": {
           "line": {
            "color": "#2a3f5f"
           }
          },
          "ternary": {
           "aaxis": {
            "gridcolor": "white",
            "linecolor": "white",
            "ticks": ""
           },
           "baxis": {
            "gridcolor": "white",
            "linecolor": "white",
            "ticks": ""
           },
           "bgcolor": "#E5ECF6",
           "caxis": {
            "gridcolor": "white",
            "linecolor": "white",
            "ticks": ""
           }
          },
          "title": {
           "x": 0.05
          },
          "xaxis": {
           "automargin": true,
           "gridcolor": "white",
           "linecolor": "white",
           "ticks": "",
           "title": {
            "standoff": 15
           },
           "zerolinecolor": "white",
           "zerolinewidth": 2
          },
          "yaxis": {
           "automargin": true,
           "gridcolor": "white",
           "linecolor": "white",
           "ticks": "",
           "title": {
            "standoff": 15
           },
           "zerolinecolor": "white",
           "zerolinewidth": 2
          }
         }
        },
        "title": {
         "text": "Articles Sorted By Main Topic"
        },
        "xaxis": {
         "anchor": "y",
         "domain": [
          0,
          1
         ],
         "title": {
          "text": "Main Topic"
         },
         "type": "category"
        },
        "yaxis": {
         "anchor": "x",
         "domain": [
          0,
          1
         ],
         "title": {
          "text": "Sentiment Score"
         }
        }
       }
      }
     },
     "metadata": {},
     "output_type": "display_data"
    }
   ],
   "source": [
    "df_main_topic['Shortened Address'] = df_main_topic['URL'].str.slice(0,35) #shorten the urls to make them easier to read in hover text\n",
    "\n",
    "df_main_topic = df_main_topic.sort_values('Main Topic') #sort df by main topic so it is in order in the graph.\n",
    "\n",
    "fig_w_topics = px.scatter(df_main_topic, x=\"Main Topic\", y=\"Sentiment Score\",\n",
    "                         size=\"Main Topic Score\", custom_data = ['Shortened Address', 'Sentiment Label', 'Main Topic Score'],\n",
    "                         title=\"Articles Sorted By Main Topic\")#creating a scatter plot with x, y, and color from our df. \n",
    "#The custom_data is what we will add to our hover text\n",
    "\n",
    "fig_w_topics.update_traces(hovertemplate=\"<br>\".join([\"Address: %{customdata[0]}\",\n",
    "                                                     \"Sentiment Label: %{customdata[1]}\",\n",
    "                                                     \"Main Topic Score :%{customdata[2]}\"])\n",
    "                          )#set the hover text to show whatwas in custom_data\n",
    "\n",
    "fig_w_topics.update_xaxes(type=\"category\")#turn into categorical not continuous data for the x-axis\n",
    "\n",
    "fig_w_topics.show()"
   ]
  },
  {
   "cell_type": "markdown",
   "id": "e2dceebf",
   "metadata": {},
   "source": [
    "# Generating Cluster Graph of Topics"
   ]
  },
  {
   "cell_type": "code",
   "execution_count": 14,
   "id": "235fbeca",
   "metadata": {
    "scrolled": false
   },
   "outputs": [
    {
     "name": "stdout",
     "output_type": "stream",
     "text": [
      "[t-SNE] Computing 8 nearest neighbors...\n",
      "[t-SNE] Indexed 9 samples in 0.000s...\n",
      "[t-SNE] Computed neighbors for 9 samples in 0.127s...\n",
      "[t-SNE] Computed conditional probabilities for sample 9 / 9\n",
      "[t-SNE] Mean sigma: 0.459199\n",
      "[t-SNE] KL divergence after 250 iterations with early exaggeration: 58.810143\n",
      "[t-SNE] KL divergence after 750 iterations: 0.267876\n"
     ]
    },
    {
     "data": {
      "application/vnd.plotly.v1+json": {
       "config": {
        "plotlyServerURL": "https://plot.ly"
       },
       "data": [
        {
         "customdata": [
          [
           "https://www.foxnews.com/politics/do",
           "Neutral Positive",
           "3"
          ],
          [
           "https://apnews.com/article/hunter-b",
           "Neutral Negative",
           "3"
          ],
          [
           "https://abcnews.go.com/Politics/com",
           "Neutral Negative",
           "3"
          ]
         ],
         "hovertemplate": "Address: %{customdata[0]}<br>Sentiment Label: %{customdata[1]}<br>Main Topic:%{customdata[2]}",
         "legendgroup": "3",
         "marker": {
          "color": "#636efa",
          "size": [
           0.9978242516517639,
           0.9982083439826965,
           0.7236837148666382
          ],
          "sizemode": "area",
          "sizeref": 0.0024955208599567414,
          "symbol": "circle"
         },
         "mode": "markers",
         "name": "3",
         "orientation": "v",
         "showlegend": true,
         "type": "scatter",
         "x": [
          18.86264419555664,
          -74.35614776611328,
          -10.645862579345703
         ],
         "xaxis": "x",
         "y": [
          -15.528630256652832,
          23.631214141845703,
          34.42124938964844
         ],
         "yaxis": "y"
        },
        {
         "customdata": [
          [
           "https://www.foxnews.com/politics/hu",
           "Neutral Negative",
           "5"
          ]
         ],
         "hovertemplate": "Address: %{customdata[0]}<br>Sentiment Label: %{customdata[1]}<br>Main Topic:%{customdata[2]}",
         "legendgroup": "5",
         "marker": {
          "color": "#EF553B",
          "size": [
           0.950716495513916
          ],
          "sizemode": "area",
          "sizeref": 0.0024955208599567414,
          "symbol": "circle"
         },
         "mode": "markers",
         "name": "5",
         "orientation": "v",
         "showlegend": true,
         "type": "scatter",
         "x": [
          -61.12809371948242
         ],
         "xaxis": "x",
         "y": [
          44.327880859375
         ],
         "yaxis": "y"
        },
        {
         "customdata": [
          [
           "https://www.foxnews.com/politics/hu",
           "Neutral",
           "6"
          ]
         ],
         "hovertemplate": "Address: %{customdata[0]}<br>Sentiment Label: %{customdata[1]}<br>Main Topic:%{customdata[2]}",
         "legendgroup": "6",
         "marker": {
          "color": "#00cc96",
          "size": [
           0.9972385764122009
          ],
          "sizemode": "area",
          "sizeref": 0.0024955208599567414,
          "symbol": "circle"
         },
         "mode": "markers",
         "name": "6",
         "orientation": "v",
         "showlegend": true,
         "type": "scatter",
         "x": [
          -26.001676559448242
         ],
         "xaxis": "x",
         "y": [
          -4.732029914855957
         ],
         "yaxis": "y"
        },
        {
         "customdata": [
          [
           "https://www.nation.com.pk/25-Jul-20",
           "Neutral Positive",
           "7"
          ]
         ],
         "hovertemplate": "Address: %{customdata[0]}<br>Sentiment Label: %{customdata[1]}<br>Main Topic:%{customdata[2]}",
         "legendgroup": "7",
         "marker": {
          "color": "#ab63fa",
          "size": [
           0.9935182929039001
          ],
          "sizemode": "area",
          "sizeref": 0.0024955208599567414,
          "symbol": "circle"
         },
         "mode": "markers",
         "name": "7",
         "orientation": "v",
         "showlegend": true,
         "type": "scatter",
         "x": [
          -64.18177032470703
         ],
         "xaxis": "x",
         "y": [
          -33.959346771240234
         ],
         "yaxis": "y"
        },
        {
         "customdata": [
          [
           "https://www.nation.com.pk/21-Jun-20",
           "Neutral Negative",
           "11"
          ]
         ],
         "hovertemplate": "Address: %{customdata[0]}<br>Sentiment Label: %{customdata[1]}<br>Main Topic:%{customdata[2]}",
         "legendgroup": "11",
         "marker": {
          "color": "#FFA15A",
          "size": [
           0.994202733039856
          ],
          "sizemode": "area",
          "sizeref": 0.0024955208599567414,
          "symbol": "circle"
         },
         "mode": "markers",
         "name": "11",
         "orientation": "v",
         "showlegend": true,
         "type": "scatter",
         "x": [
          85.02571868896484
         ],
         "xaxis": "x",
         "y": [
          34.118648529052734
         ],
         "yaxis": "y"
        },
        {
         "customdata": [
          [
           "https://www.nation.com.pk/24-Dec-20",
           "Negative",
           "13"
          ],
          [
           "https://www.cnn.com/2023/09/27/poli",
           "Neutral Negative",
           "13"
          ]
         ],
         "hovertemplate": "Address: %{customdata[0]}<br>Sentiment Label: %{customdata[1]}<br>Main Topic:%{customdata[2]}",
         "legendgroup": "13",
         "marker": {
          "color": "#19d3f3",
          "size": [
           0.992764413356781,
           0.8866866827011108
          ],
          "sizemode": "area",
          "sizeref": 0.0024955208599567414,
          "symbol": "circle"
         },
         "mode": "markers",
         "name": "13",
         "orientation": "v",
         "showlegend": true,
         "type": "scatter",
         "x": [
          63.861576080322266,
          -41.55697250366211
         ],
         "xaxis": "x",
         "y": [
          32.31169128417969,
          15.319501876831055
         ],
         "yaxis": "y"
        }
       ],
       "layout": {
        "legend": {
         "itemsizing": "constant",
         "title": {
          "text": "Main Topic"
         },
         "tracegroupgap": 0
        },
        "template": {
         "data": {
          "bar": [
           {
            "error_x": {
             "color": "#2a3f5f"
            },
            "error_y": {
             "color": "#2a3f5f"
            },
            "marker": {
             "line": {
              "color": "#E5ECF6",
              "width": 0.5
             },
             "pattern": {
              "fillmode": "overlay",
              "size": 10,
              "solidity": 0.2
             }
            },
            "type": "bar"
           }
          ],
          "barpolar": [
           {
            "marker": {
             "line": {
              "color": "#E5ECF6",
              "width": 0.5
             },
             "pattern": {
              "fillmode": "overlay",
              "size": 10,
              "solidity": 0.2
             }
            },
            "type": "barpolar"
           }
          ],
          "carpet": [
           {
            "aaxis": {
             "endlinecolor": "#2a3f5f",
             "gridcolor": "white",
             "linecolor": "white",
             "minorgridcolor": "white",
             "startlinecolor": "#2a3f5f"
            },
            "baxis": {
             "endlinecolor": "#2a3f5f",
             "gridcolor": "white",
             "linecolor": "white",
             "minorgridcolor": "white",
             "startlinecolor": "#2a3f5f"
            },
            "type": "carpet"
           }
          ],
          "choropleth": [
           {
            "colorbar": {
             "outlinewidth": 0,
             "ticks": ""
            },
            "type": "choropleth"
           }
          ],
          "contour": [
           {
            "colorbar": {
             "outlinewidth": 0,
             "ticks": ""
            },
            "colorscale": [
             [
              0,
              "#0d0887"
             ],
             [
              0.1111111111111111,
              "#46039f"
             ],
             [
              0.2222222222222222,
              "#7201a8"
             ],
             [
              0.3333333333333333,
              "#9c179e"
             ],
             [
              0.4444444444444444,
              "#bd3786"
             ],
             [
              0.5555555555555556,
              "#d8576b"
             ],
             [
              0.6666666666666666,
              "#ed7953"
             ],
             [
              0.7777777777777778,
              "#fb9f3a"
             ],
             [
              0.8888888888888888,
              "#fdca26"
             ],
             [
              1,
              "#f0f921"
             ]
            ],
            "type": "contour"
           }
          ],
          "contourcarpet": [
           {
            "colorbar": {
             "outlinewidth": 0,
             "ticks": ""
            },
            "type": "contourcarpet"
           }
          ],
          "heatmap": [
           {
            "colorbar": {
             "outlinewidth": 0,
             "ticks": ""
            },
            "colorscale": [
             [
              0,
              "#0d0887"
             ],
             [
              0.1111111111111111,
              "#46039f"
             ],
             [
              0.2222222222222222,
              "#7201a8"
             ],
             [
              0.3333333333333333,
              "#9c179e"
             ],
             [
              0.4444444444444444,
              "#bd3786"
             ],
             [
              0.5555555555555556,
              "#d8576b"
             ],
             [
              0.6666666666666666,
              "#ed7953"
             ],
             [
              0.7777777777777778,
              "#fb9f3a"
             ],
             [
              0.8888888888888888,
              "#fdca26"
             ],
             [
              1,
              "#f0f921"
             ]
            ],
            "type": "heatmap"
           }
          ],
          "heatmapgl": [
           {
            "colorbar": {
             "outlinewidth": 0,
             "ticks": ""
            },
            "colorscale": [
             [
              0,
              "#0d0887"
             ],
             [
              0.1111111111111111,
              "#46039f"
             ],
             [
              0.2222222222222222,
              "#7201a8"
             ],
             [
              0.3333333333333333,
              "#9c179e"
             ],
             [
              0.4444444444444444,
              "#bd3786"
             ],
             [
              0.5555555555555556,
              "#d8576b"
             ],
             [
              0.6666666666666666,
              "#ed7953"
             ],
             [
              0.7777777777777778,
              "#fb9f3a"
             ],
             [
              0.8888888888888888,
              "#fdca26"
             ],
             [
              1,
              "#f0f921"
             ]
            ],
            "type": "heatmapgl"
           }
          ],
          "histogram": [
           {
            "marker": {
             "pattern": {
              "fillmode": "overlay",
              "size": 10,
              "solidity": 0.2
             }
            },
            "type": "histogram"
           }
          ],
          "histogram2d": [
           {
            "colorbar": {
             "outlinewidth": 0,
             "ticks": ""
            },
            "colorscale": [
             [
              0,
              "#0d0887"
             ],
             [
              0.1111111111111111,
              "#46039f"
             ],
             [
              0.2222222222222222,
              "#7201a8"
             ],
             [
              0.3333333333333333,
              "#9c179e"
             ],
             [
              0.4444444444444444,
              "#bd3786"
             ],
             [
              0.5555555555555556,
              "#d8576b"
             ],
             [
              0.6666666666666666,
              "#ed7953"
             ],
             [
              0.7777777777777778,
              "#fb9f3a"
             ],
             [
              0.8888888888888888,
              "#fdca26"
             ],
             [
              1,
              "#f0f921"
             ]
            ],
            "type": "histogram2d"
           }
          ],
          "histogram2dcontour": [
           {
            "colorbar": {
             "outlinewidth": 0,
             "ticks": ""
            },
            "colorscale": [
             [
              0,
              "#0d0887"
             ],
             [
              0.1111111111111111,
              "#46039f"
             ],
             [
              0.2222222222222222,
              "#7201a8"
             ],
             [
              0.3333333333333333,
              "#9c179e"
             ],
             [
              0.4444444444444444,
              "#bd3786"
             ],
             [
              0.5555555555555556,
              "#d8576b"
             ],
             [
              0.6666666666666666,
              "#ed7953"
             ],
             [
              0.7777777777777778,
              "#fb9f3a"
             ],
             [
              0.8888888888888888,
              "#fdca26"
             ],
             [
              1,
              "#f0f921"
             ]
            ],
            "type": "histogram2dcontour"
           }
          ],
          "mesh3d": [
           {
            "colorbar": {
             "outlinewidth": 0,
             "ticks": ""
            },
            "type": "mesh3d"
           }
          ],
          "parcoords": [
           {
            "line": {
             "colorbar": {
              "outlinewidth": 0,
              "ticks": ""
             }
            },
            "type": "parcoords"
           }
          ],
          "pie": [
           {
            "automargin": true,
            "type": "pie"
           }
          ],
          "scatter": [
           {
            "fillpattern": {
             "fillmode": "overlay",
             "size": 10,
             "solidity": 0.2
            },
            "type": "scatter"
           }
          ],
          "scatter3d": [
           {
            "line": {
             "colorbar": {
              "outlinewidth": 0,
              "ticks": ""
             }
            },
            "marker": {
             "colorbar": {
              "outlinewidth": 0,
              "ticks": ""
             }
            },
            "type": "scatter3d"
           }
          ],
          "scattercarpet": [
           {
            "marker": {
             "colorbar": {
              "outlinewidth": 0,
              "ticks": ""
             }
            },
            "type": "scattercarpet"
           }
          ],
          "scattergeo": [
           {
            "marker": {
             "colorbar": {
              "outlinewidth": 0,
              "ticks": ""
             }
            },
            "type": "scattergeo"
           }
          ],
          "scattergl": [
           {
            "marker": {
             "colorbar": {
              "outlinewidth": 0,
              "ticks": ""
             }
            },
            "type": "scattergl"
           }
          ],
          "scattermapbox": [
           {
            "marker": {
             "colorbar": {
              "outlinewidth": 0,
              "ticks": ""
             }
            },
            "type": "scattermapbox"
           }
          ],
          "scatterpolar": [
           {
            "marker": {
             "colorbar": {
              "outlinewidth": 0,
              "ticks": ""
             }
            },
            "type": "scatterpolar"
           }
          ],
          "scatterpolargl": [
           {
            "marker": {
             "colorbar": {
              "outlinewidth": 0,
              "ticks": ""
             }
            },
            "type": "scatterpolargl"
           }
          ],
          "scatterternary": [
           {
            "marker": {
             "colorbar": {
              "outlinewidth": 0,
              "ticks": ""
             }
            },
            "type": "scatterternary"
           }
          ],
          "surface": [
           {
            "colorbar": {
             "outlinewidth": 0,
             "ticks": ""
            },
            "colorscale": [
             [
              0,
              "#0d0887"
             ],
             [
              0.1111111111111111,
              "#46039f"
             ],
             [
              0.2222222222222222,
              "#7201a8"
             ],
             [
              0.3333333333333333,
              "#9c179e"
             ],
             [
              0.4444444444444444,
              "#bd3786"
             ],
             [
              0.5555555555555556,
              "#d8576b"
             ],
             [
              0.6666666666666666,
              "#ed7953"
             ],
             [
              0.7777777777777778,
              "#fb9f3a"
             ],
             [
              0.8888888888888888,
              "#fdca26"
             ],
             [
              1,
              "#f0f921"
             ]
            ],
            "type": "surface"
           }
          ],
          "table": [
           {
            "cells": {
             "fill": {
              "color": "#EBF0F8"
             },
             "line": {
              "color": "white"
             }
            },
            "header": {
             "fill": {
              "color": "#C8D4E3"
             },
             "line": {
              "color": "white"
             }
            },
            "type": "table"
           }
          ]
         },
         "layout": {
          "annotationdefaults": {
           "arrowcolor": "#2a3f5f",
           "arrowhead": 0,
           "arrowwidth": 1
          },
          "autotypenumbers": "strict",
          "coloraxis": {
           "colorbar": {
            "outlinewidth": 0,
            "ticks": ""
           }
          },
          "colorscale": {
           "diverging": [
            [
             0,
             "#8e0152"
            ],
            [
             0.1,
             "#c51b7d"
            ],
            [
             0.2,
             "#de77ae"
            ],
            [
             0.3,
             "#f1b6da"
            ],
            [
             0.4,
             "#fde0ef"
            ],
            [
             0.5,
             "#f7f7f7"
            ],
            [
             0.6,
             "#e6f5d0"
            ],
            [
             0.7,
             "#b8e186"
            ],
            [
             0.8,
             "#7fbc41"
            ],
            [
             0.9,
             "#4d9221"
            ],
            [
             1,
             "#276419"
            ]
           ],
           "sequential": [
            [
             0,
             "#0d0887"
            ],
            [
             0.1111111111111111,
             "#46039f"
            ],
            [
             0.2222222222222222,
             "#7201a8"
            ],
            [
             0.3333333333333333,
             "#9c179e"
            ],
            [
             0.4444444444444444,
             "#bd3786"
            ],
            [
             0.5555555555555556,
             "#d8576b"
            ],
            [
             0.6666666666666666,
             "#ed7953"
            ],
            [
             0.7777777777777778,
             "#fb9f3a"
            ],
            [
             0.8888888888888888,
             "#fdca26"
            ],
            [
             1,
             "#f0f921"
            ]
           ],
           "sequentialminus": [
            [
             0,
             "#0d0887"
            ],
            [
             0.1111111111111111,
             "#46039f"
            ],
            [
             0.2222222222222222,
             "#7201a8"
            ],
            [
             0.3333333333333333,
             "#9c179e"
            ],
            [
             0.4444444444444444,
             "#bd3786"
            ],
            [
             0.5555555555555556,
             "#d8576b"
            ],
            [
             0.6666666666666666,
             "#ed7953"
            ],
            [
             0.7777777777777778,
             "#fb9f3a"
            ],
            [
             0.8888888888888888,
             "#fdca26"
            ],
            [
             1,
             "#f0f921"
            ]
           ]
          },
          "colorway": [
           "#636efa",
           "#EF553B",
           "#00cc96",
           "#ab63fa",
           "#FFA15A",
           "#19d3f3",
           "#FF6692",
           "#B6E880",
           "#FF97FF",
           "#FECB52"
          ],
          "font": {
           "color": "#2a3f5f"
          },
          "geo": {
           "bgcolor": "white",
           "lakecolor": "white",
           "landcolor": "#E5ECF6",
           "showlakes": true,
           "showland": true,
           "subunitcolor": "white"
          },
          "hoverlabel": {
           "align": "left"
          },
          "hovermode": "closest",
          "mapbox": {
           "style": "light"
          },
          "paper_bgcolor": "white",
          "plot_bgcolor": "#E5ECF6",
          "polar": {
           "angularaxis": {
            "gridcolor": "white",
            "linecolor": "white",
            "ticks": ""
           },
           "bgcolor": "#E5ECF6",
           "radialaxis": {
            "gridcolor": "white",
            "linecolor": "white",
            "ticks": ""
           }
          },
          "scene": {
           "xaxis": {
            "backgroundcolor": "#E5ECF6",
            "gridcolor": "white",
            "gridwidth": 2,
            "linecolor": "white",
            "showbackground": true,
            "ticks": "",
            "zerolinecolor": "white"
           },
           "yaxis": {
            "backgroundcolor": "#E5ECF6",
            "gridcolor": "white",
            "gridwidth": 2,
            "linecolor": "white",
            "showbackground": true,
            "ticks": "",
            "zerolinecolor": "white"
           },
           "zaxis": {
            "backgroundcolor": "#E5ECF6",
            "gridcolor": "white",
            "gridwidth": 2,
            "linecolor": "white",
            "showbackground": true,
            "ticks": "",
            "zerolinecolor": "white"
           }
          },
          "shapedefaults": {
           "line": {
            "color": "#2a3f5f"
           }
          },
          "ternary": {
           "aaxis": {
            "gridcolor": "white",
            "linecolor": "white",
            "ticks": ""
           },
           "baxis": {
            "gridcolor": "white",
            "linecolor": "white",
            "ticks": ""
           },
           "bgcolor": "#E5ECF6",
           "caxis": {
            "gridcolor": "white",
            "linecolor": "white",
            "ticks": ""
           }
          },
          "title": {
           "x": 0.05
          },
          "xaxis": {
           "automargin": true,
           "gridcolor": "white",
           "linecolor": "white",
           "ticks": "",
           "title": {
            "standoff": 15
           },
           "zerolinecolor": "white",
           "zerolinewidth": 2
          },
          "yaxis": {
           "automargin": true,
           "gridcolor": "white",
           "linecolor": "white",
           "ticks": "",
           "title": {
            "standoff": 15
           },
           "zerolinecolor": "white",
           "zerolinewidth": 2
          }
         }
        },
        "title": {
         "text": "Topic Clustering Graph"
        },
        "xaxis": {
         "anchor": "y",
         "domain": [
          0,
          1
         ],
         "title": {
          "text": "x"
         }
        },
        "yaxis": {
         "anchor": "x",
         "domain": [
          0,
          1
         ],
         "title": {
          "text": "y"
         }
        }
       }
      }
     },
     "metadata": {},
     "output_type": "display_data"
    }
   ],
   "source": [
    "num_topics = len(LDA_model_topics)\n",
    "\n",
    "#print(num_topics)\n",
    "\n",
    "#Get Topic Weights\n",
    "topic_weights = []\n",
    "for i in df[\"Topics\"]:\n",
    "    per_doc_list = [None] * num_topics\n",
    "    #print(len(per_doc_list))\n",
    "    for x in i:\n",
    "        #print(x)\n",
    "        per_doc_list[x[0]] = x[1]\n",
    "    topic_weights.append(per_doc_list)\n",
    "\n",
    "# Array of topic weights    \n",
    "arr = pd.DataFrame(topic_weights).fillna(0).to_numpy()\n",
    "\n",
    "# Dominant topic number in each doc\n",
    "topic_num = np.argmax(arr, axis=1)\n",
    "\n",
    "#print(arr)\n",
    "\n",
    "# tSNE Model Creation\n",
    "tsne_model = TSNE(n_components=2, verbose=1, \n",
    "                  random_state=0, angle=.99, \n",
    "                  init='pca', perplexity = (arr.shape[0] - 1) / 3)\n",
    "tsne_lda = tsne_model.fit_transform(arr)\n",
    "\n",
    "#Color palette for the clusters\n",
    "mycolors = np.array([color for name, color in mcolors.CSS4_COLORS.items()])\n",
    "\n",
    "#Formatting\n",
    "df['Main Topic'] = df['Main Topic'].apply(int)#turn them into ints so we can sort by main topic, then back to str\n",
    "\n",
    "df = df.sort_values(by=['Main Topic'],ascending = True)#sort by main topic to make the legend pretty\n",
    "\n",
    "df['Main Topic'] = df['Main Topic'].apply(str) #this makes it so we can use main topic as categorical data\n",
    "\n",
    "#creating the cluster graph in plotly\n",
    "fig_cluster = px.scatter(df, x = tsne_lda[:,0],y = tsne_lda[:,1],\n",
    "                        custom_data = ['Shortened Address', 'Sentiment Label', 'Main Topic'],\n",
    "                        color = \"Main Topic\",#mycolors[topic_num],\n",
    "                        size = \"Main Topic Score\",\n",
    "                        title = \"Topic Clustering Graph\",\n",
    "                        labels = dict(color = \"Main Topic\"))\n",
    "\n",
    "fig_cluster.update_traces(hovertemplate=\"<br>\".join([\"Address: %{customdata[0]}\",\n",
    "                                                     \"Sentiment Label: %{customdata[1]}\",\n",
    "                                                     \"Main Topic:%{customdata[2]}\"])\n",
    "                          )#set the hover text to show whatwas in custom_data\n",
    "\n",
    "fig_cluster.show()\n",
    "\n",
    "df['Main Topic'] = df['Main Topic'].apply(int)#turn back to int\n"
   ]
  },
  {
   "cell_type": "markdown",
   "id": "33f8f909",
   "metadata": {},
   "source": [
    "## Subjectivity vs Sentiment of Articles for a single topic"
   ]
  },
  {
   "cell_type": "code",
   "execution_count": 15,
   "id": "8cb3e81c",
   "metadata": {
    "scrolled": false
   },
   "outputs": [
    {
     "data": {
      "application/vnd.plotly.v1+json": {
       "config": {
        "plotlyServerURL": "https://plot.ly"
       },
       "data": [
        {
         "hovertemplate": "<b>%{hovertext}</b><br><br>Subjectivity Score=%{x}<br>Sentiment Score=%{y}<br>Main Topic Score=%{marker.size}<extra></extra>",
         "hovertext": [],
         "legendgroup": "",
         "marker": {
          "color": "#636efa",
          "size": [],
          "sizemode": "area",
          "sizeref": null,
          "symbol": "circle"
         },
         "mode": "markers",
         "name": "",
         "orientation": "v",
         "showlegend": false,
         "type": "scatter",
         "x": [],
         "xaxis": "x",
         "y": [],
         "yaxis": "y"
        }
       ],
       "layout": {
        "legend": {
         "itemsizing": "constant",
         "tracegroupgap": 0
        },
        "template": {
         "data": {
          "bar": [
           {
            "error_x": {
             "color": "#2a3f5f"
            },
            "error_y": {
             "color": "#2a3f5f"
            },
            "marker": {
             "line": {
              "color": "#E5ECF6",
              "width": 0.5
             },
             "pattern": {
              "fillmode": "overlay",
              "size": 10,
              "solidity": 0.2
             }
            },
            "type": "bar"
           }
          ],
          "barpolar": [
           {
            "marker": {
             "line": {
              "color": "#E5ECF6",
              "width": 0.5
             },
             "pattern": {
              "fillmode": "overlay",
              "size": 10,
              "solidity": 0.2
             }
            },
            "type": "barpolar"
           }
          ],
          "carpet": [
           {
            "aaxis": {
             "endlinecolor": "#2a3f5f",
             "gridcolor": "white",
             "linecolor": "white",
             "minorgridcolor": "white",
             "startlinecolor": "#2a3f5f"
            },
            "baxis": {
             "endlinecolor": "#2a3f5f",
             "gridcolor": "white",
             "linecolor": "white",
             "minorgridcolor": "white",
             "startlinecolor": "#2a3f5f"
            },
            "type": "carpet"
           }
          ],
          "choropleth": [
           {
            "colorbar": {
             "outlinewidth": 0,
             "ticks": ""
            },
            "type": "choropleth"
           }
          ],
          "contour": [
           {
            "colorbar": {
             "outlinewidth": 0,
             "ticks": ""
            },
            "colorscale": [
             [
              0,
              "#0d0887"
             ],
             [
              0.1111111111111111,
              "#46039f"
             ],
             [
              0.2222222222222222,
              "#7201a8"
             ],
             [
              0.3333333333333333,
              "#9c179e"
             ],
             [
              0.4444444444444444,
              "#bd3786"
             ],
             [
              0.5555555555555556,
              "#d8576b"
             ],
             [
              0.6666666666666666,
              "#ed7953"
             ],
             [
              0.7777777777777778,
              "#fb9f3a"
             ],
             [
              0.8888888888888888,
              "#fdca26"
             ],
             [
              1,
              "#f0f921"
             ]
            ],
            "type": "contour"
           }
          ],
          "contourcarpet": [
           {
            "colorbar": {
             "outlinewidth": 0,
             "ticks": ""
            },
            "type": "contourcarpet"
           }
          ],
          "heatmap": [
           {
            "colorbar": {
             "outlinewidth": 0,
             "ticks": ""
            },
            "colorscale": [
             [
              0,
              "#0d0887"
             ],
             [
              0.1111111111111111,
              "#46039f"
             ],
             [
              0.2222222222222222,
              "#7201a8"
             ],
             [
              0.3333333333333333,
              "#9c179e"
             ],
             [
              0.4444444444444444,
              "#bd3786"
             ],
             [
              0.5555555555555556,
              "#d8576b"
             ],
             [
              0.6666666666666666,
              "#ed7953"
             ],
             [
              0.7777777777777778,
              "#fb9f3a"
             ],
             [
              0.8888888888888888,
              "#fdca26"
             ],
             [
              1,
              "#f0f921"
             ]
            ],
            "type": "heatmap"
           }
          ],
          "heatmapgl": [
           {
            "colorbar": {
             "outlinewidth": 0,
             "ticks": ""
            },
            "colorscale": [
             [
              0,
              "#0d0887"
             ],
             [
              0.1111111111111111,
              "#46039f"
             ],
             [
              0.2222222222222222,
              "#7201a8"
             ],
             [
              0.3333333333333333,
              "#9c179e"
             ],
             [
              0.4444444444444444,
              "#bd3786"
             ],
             [
              0.5555555555555556,
              "#d8576b"
             ],
             [
              0.6666666666666666,
              "#ed7953"
             ],
             [
              0.7777777777777778,
              "#fb9f3a"
             ],
             [
              0.8888888888888888,
              "#fdca26"
             ],
             [
              1,
              "#f0f921"
             ]
            ],
            "type": "heatmapgl"
           }
          ],
          "histogram": [
           {
            "marker": {
             "pattern": {
              "fillmode": "overlay",
              "size": 10,
              "solidity": 0.2
             }
            },
            "type": "histogram"
           }
          ],
          "histogram2d": [
           {
            "colorbar": {
             "outlinewidth": 0,
             "ticks": ""
            },
            "colorscale": [
             [
              0,
              "#0d0887"
             ],
             [
              0.1111111111111111,
              "#46039f"
             ],
             [
              0.2222222222222222,
              "#7201a8"
             ],
             [
              0.3333333333333333,
              "#9c179e"
             ],
             [
              0.4444444444444444,
              "#bd3786"
             ],
             [
              0.5555555555555556,
              "#d8576b"
             ],
             [
              0.6666666666666666,
              "#ed7953"
             ],
             [
              0.7777777777777778,
              "#fb9f3a"
             ],
             [
              0.8888888888888888,
              "#fdca26"
             ],
             [
              1,
              "#f0f921"
             ]
            ],
            "type": "histogram2d"
           }
          ],
          "histogram2dcontour": [
           {
            "colorbar": {
             "outlinewidth": 0,
             "ticks": ""
            },
            "colorscale": [
             [
              0,
              "#0d0887"
             ],
             [
              0.1111111111111111,
              "#46039f"
             ],
             [
              0.2222222222222222,
              "#7201a8"
             ],
             [
              0.3333333333333333,
              "#9c179e"
             ],
             [
              0.4444444444444444,
              "#bd3786"
             ],
             [
              0.5555555555555556,
              "#d8576b"
             ],
             [
              0.6666666666666666,
              "#ed7953"
             ],
             [
              0.7777777777777778,
              "#fb9f3a"
             ],
             [
              0.8888888888888888,
              "#fdca26"
             ],
             [
              1,
              "#f0f921"
             ]
            ],
            "type": "histogram2dcontour"
           }
          ],
          "mesh3d": [
           {
            "colorbar": {
             "outlinewidth": 0,
             "ticks": ""
            },
            "type": "mesh3d"
           }
          ],
          "parcoords": [
           {
            "line": {
             "colorbar": {
              "outlinewidth": 0,
              "ticks": ""
             }
            },
            "type": "parcoords"
           }
          ],
          "pie": [
           {
            "automargin": true,
            "type": "pie"
           }
          ],
          "scatter": [
           {
            "fillpattern": {
             "fillmode": "overlay",
             "size": 10,
             "solidity": 0.2
            },
            "type": "scatter"
           }
          ],
          "scatter3d": [
           {
            "line": {
             "colorbar": {
              "outlinewidth": 0,
              "ticks": ""
             }
            },
            "marker": {
             "colorbar": {
              "outlinewidth": 0,
              "ticks": ""
             }
            },
            "type": "scatter3d"
           }
          ],
          "scattercarpet": [
           {
            "marker": {
             "colorbar": {
              "outlinewidth": 0,
              "ticks": ""
             }
            },
            "type": "scattercarpet"
           }
          ],
          "scattergeo": [
           {
            "marker": {
             "colorbar": {
              "outlinewidth": 0,
              "ticks": ""
             }
            },
            "type": "scattergeo"
           }
          ],
          "scattergl": [
           {
            "marker": {
             "colorbar": {
              "outlinewidth": 0,
              "ticks": ""
             }
            },
            "type": "scattergl"
           }
          ],
          "scattermapbox": [
           {
            "marker": {
             "colorbar": {
              "outlinewidth": 0,
              "ticks": ""
             }
            },
            "type": "scattermapbox"
           }
          ],
          "scatterpolar": [
           {
            "marker": {
             "colorbar": {
              "outlinewidth": 0,
              "ticks": ""
             }
            },
            "type": "scatterpolar"
           }
          ],
          "scatterpolargl": [
           {
            "marker": {
             "colorbar": {
              "outlinewidth": 0,
              "ticks": ""
             }
            },
            "type": "scatterpolargl"
           }
          ],
          "scatterternary": [
           {
            "marker": {
             "colorbar": {
              "outlinewidth": 0,
              "ticks": ""
             }
            },
            "type": "scatterternary"
           }
          ],
          "surface": [
           {
            "colorbar": {
             "outlinewidth": 0,
             "ticks": ""
            },
            "colorscale": [
             [
              0,
              "#0d0887"
             ],
             [
              0.1111111111111111,
              "#46039f"
             ],
             [
              0.2222222222222222,
              "#7201a8"
             ],
             [
              0.3333333333333333,
              "#9c179e"
             ],
             [
              0.4444444444444444,
              "#bd3786"
             ],
             [
              0.5555555555555556,
              "#d8576b"
             ],
             [
              0.6666666666666666,
              "#ed7953"
             ],
             [
              0.7777777777777778,
              "#fb9f3a"
             ],
             [
              0.8888888888888888,
              "#fdca26"
             ],
             [
              1,
              "#f0f921"
             ]
            ],
            "type": "surface"
           }
          ],
          "table": [
           {
            "cells": {
             "fill": {
              "color": "#EBF0F8"
             },
             "line": {
              "color": "white"
             }
            },
            "header": {
             "fill": {
              "color": "#C8D4E3"
             },
             "line": {
              "color": "white"
             }
            },
            "type": "table"
           }
          ]
         },
         "layout": {
          "annotationdefaults": {
           "arrowcolor": "#2a3f5f",
           "arrowhead": 0,
           "arrowwidth": 1
          },
          "autotypenumbers": "strict",
          "coloraxis": {
           "colorbar": {
            "outlinewidth": 0,
            "ticks": ""
           }
          },
          "colorscale": {
           "diverging": [
            [
             0,
             "#8e0152"
            ],
            [
             0.1,
             "#c51b7d"
            ],
            [
             0.2,
             "#de77ae"
            ],
            [
             0.3,
             "#f1b6da"
            ],
            [
             0.4,
             "#fde0ef"
            ],
            [
             0.5,
             "#f7f7f7"
            ],
            [
             0.6,
             "#e6f5d0"
            ],
            [
             0.7,
             "#b8e186"
            ],
            [
             0.8,
             "#7fbc41"
            ],
            [
             0.9,
             "#4d9221"
            ],
            [
             1,
             "#276419"
            ]
           ],
           "sequential": [
            [
             0,
             "#0d0887"
            ],
            [
             0.1111111111111111,
             "#46039f"
            ],
            [
             0.2222222222222222,
             "#7201a8"
            ],
            [
             0.3333333333333333,
             "#9c179e"
            ],
            [
             0.4444444444444444,
             "#bd3786"
            ],
            [
             0.5555555555555556,
             "#d8576b"
            ],
            [
             0.6666666666666666,
             "#ed7953"
            ],
            [
             0.7777777777777778,
             "#fb9f3a"
            ],
            [
             0.8888888888888888,
             "#fdca26"
            ],
            [
             1,
             "#f0f921"
            ]
           ],
           "sequentialminus": [
            [
             0,
             "#0d0887"
            ],
            [
             0.1111111111111111,
             "#46039f"
            ],
            [
             0.2222222222222222,
             "#7201a8"
            ],
            [
             0.3333333333333333,
             "#9c179e"
            ],
            [
             0.4444444444444444,
             "#bd3786"
            ],
            [
             0.5555555555555556,
             "#d8576b"
            ],
            [
             0.6666666666666666,
             "#ed7953"
            ],
            [
             0.7777777777777778,
             "#fb9f3a"
            ],
            [
             0.8888888888888888,
             "#fdca26"
            ],
            [
             1,
             "#f0f921"
            ]
           ]
          },
          "colorway": [
           "#636efa",
           "#EF553B",
           "#00cc96",
           "#ab63fa",
           "#FFA15A",
           "#19d3f3",
           "#FF6692",
           "#B6E880",
           "#FF97FF",
           "#FECB52"
          ],
          "font": {
           "color": "#2a3f5f"
          },
          "geo": {
           "bgcolor": "white",
           "lakecolor": "white",
           "landcolor": "#E5ECF6",
           "showlakes": true,
           "showland": true,
           "subunitcolor": "white"
          },
          "hoverlabel": {
           "align": "left"
          },
          "hovermode": "closest",
          "mapbox": {
           "style": "light"
          },
          "paper_bgcolor": "white",
          "plot_bgcolor": "#E5ECF6",
          "polar": {
           "angularaxis": {
            "gridcolor": "white",
            "linecolor": "white",
            "ticks": ""
           },
           "bgcolor": "#E5ECF6",
           "radialaxis": {
            "gridcolor": "white",
            "linecolor": "white",
            "ticks": ""
           }
          },
          "scene": {
           "xaxis": {
            "backgroundcolor": "#E5ECF6",
            "gridcolor": "white",
            "gridwidth": 2,
            "linecolor": "white",
            "showbackground": true,
            "ticks": "",
            "zerolinecolor": "white"
           },
           "yaxis": {
            "backgroundcolor": "#E5ECF6",
            "gridcolor": "white",
            "gridwidth": 2,
            "linecolor": "white",
            "showbackground": true,
            "ticks": "",
            "zerolinecolor": "white"
           },
           "zaxis": {
            "backgroundcolor": "#E5ECF6",
            "gridcolor": "white",
            "gridwidth": 2,
            "linecolor": "white",
            "showbackground": true,
            "ticks": "",
            "zerolinecolor": "white"
           }
          },
          "shapedefaults": {
           "line": {
            "color": "#2a3f5f"
           }
          },
          "ternary": {
           "aaxis": {
            "gridcolor": "white",
            "linecolor": "white",
            "ticks": ""
           },
           "baxis": {
            "gridcolor": "white",
            "linecolor": "white",
            "ticks": ""
           },
           "bgcolor": "#E5ECF6",
           "caxis": {
            "gridcolor": "white",
            "linecolor": "white",
            "ticks": ""
           }
          },
          "title": {
           "x": 0.05
          },
          "xaxis": {
           "automargin": true,
           "gridcolor": "white",
           "linecolor": "white",
           "ticks": "",
           "title": {
            "standoff": 15
           },
           "zerolinecolor": "white",
           "zerolinewidth": 2
          },
          "yaxis": {
           "automargin": true,
           "gridcolor": "white",
           "linecolor": "white",
           "ticks": "",
           "title": {
            "standoff": 15
           },
           "zerolinecolor": "white",
           "zerolinewidth": 2
          }
         }
        },
        "title": {
         "text": "Sentiment Analysis on Topic 0"
        },
        "xaxis": {
         "anchor": "y",
         "domain": [
          0,
          1
         ],
         "title": {
          "text": "Subjectivity Score"
         }
        },
        "yaxis": {
         "anchor": "x",
         "domain": [
          0,
          1
         ],
         "title": {
          "text": "Sentiment Score"
         }
        }
       }
      }
     },
     "metadata": {},
     "output_type": "display_data"
    }
   ],
   "source": [
    "df_topic_0 = df[df['Main Topic'] == 0]\n",
    "\n",
    "\n",
    "t_string = \"Sentiment Analysis on Topic \" + \"0\"\n",
    "fig = px.scatter(df_topic_0, x = \"Subjectivity Score\", y = \"Sentiment Score\", \n",
    "                size = \"Main Topic Score\", hover_name = \"Shortened Address\", title = t_string)\n",
    "\n",
    "#df_topic_0\n",
    "fig.show()"
   ]
  },
  {
   "cell_type": "markdown",
   "id": "44e163bd",
   "metadata": {},
   "source": [
    "## K means Clustering"
   ]
  },
  {
   "cell_type": "code",
   "execution_count": 16,
   "id": "b3ce6cdd",
   "metadata": {},
   "outputs": [],
   "source": [
    "#https://medium.com/analytics-vidhya/implementation-of-principal-component-analysis-pca-in-k-means-clustering-b4bc0aa79cb6\n",
    "#https://scikit-learn.org/stable/modules/clustering.html#k-means\n"
   ]
  },
  {
   "cell_type": "code",
   "execution_count": 17,
   "id": "af728865",
   "metadata": {},
   "outputs": [],
   "source": [
    "from sklearn.feature_extraction.text import TfidfVectorizer\n",
    "from sklearn.cluster import KMeans\n",
    "from sklearn.cluster import MiniBatchKMeans\n",
    "import matplotlib.pyplot as plt\n",
    "\n",
    "from sklearn.decomposition import PCA\n"
   ]
  },
  {
   "cell_type": "code",
   "execution_count": 19,
   "id": "7f1a975c",
   "metadata": {
    "scrolled": true
   },
   "outputs": [
    {
     "data": {
      "text/html": [
       "<div>\n",
       "<style scoped>\n",
       "    .dataframe tbody tr th:only-of-type {\n",
       "        vertical-align: middle;\n",
       "    }\n",
       "\n",
       "    .dataframe tbody tr th {\n",
       "        vertical-align: top;\n",
       "    }\n",
       "\n",
       "    .dataframe thead tr th {\n",
       "        text-align: left;\n",
       "    }\n",
       "</style>\n",
       "<table border=\"1\" class=\"dataframe\">\n",
       "  <thead>\n",
       "    <tr>\n",
       "      <th></th>\n",
       "      <th>0</th>\n",
       "      <th>1</th>\n",
       "      <th>2</th>\n",
       "      <th>3</th>\n",
       "      <th>4</th>\n",
       "      <th>5</th>\n",
       "      <th>6</th>\n",
       "      <th>7</th>\n",
       "      <th>8</th>\n",
       "      <th>9</th>\n",
       "      <th>10</th>\n",
       "      <th>11</th>\n",
       "      <th>12</th>\n",
       "      <th>13</th>\n",
       "      <th>14</th>\n",
       "    </tr>\n",
       "  </thead>\n",
       "  <tbody>\n",
       "    <tr>\n",
       "      <th>0</th>\n",
       "      <td>0.000197</td>\n",
       "      <td>0.000197</td>\n",
       "      <td>0.000197</td>\n",
       "      <td>0.000197</td>\n",
       "      <td>0.000197</td>\n",
       "      <td>0.000197</td>\n",
       "      <td>0.997239</td>\n",
       "      <td>0.000197</td>\n",
       "      <td>0.000197</td>\n",
       "      <td>0.000197</td>\n",
       "      <td>0.000197</td>\n",
       "      <td>0.000197</td>\n",
       "      <td>0.000197</td>\n",
       "      <td>0.000197</td>\n",
       "      <td>0.000197</td>\n",
       "    </tr>\n",
       "    <tr>\n",
       "      <th>1</th>\n",
       "      <td>0.000155</td>\n",
       "      <td>0.000155</td>\n",
       "      <td>0.000155</td>\n",
       "      <td>0.997824</td>\n",
       "      <td>0.000155</td>\n",
       "      <td>0.000155</td>\n",
       "      <td>0.000155</td>\n",
       "      <td>0.000155</td>\n",
       "      <td>0.000155</td>\n",
       "      <td>0.000155</td>\n",
       "      <td>0.000155</td>\n",
       "      <td>0.000155</td>\n",
       "      <td>0.000155</td>\n",
       "      <td>0.000155</td>\n",
       "      <td>0.000155</td>\n",
       "    </tr>\n",
       "    <tr>\n",
       "      <th>2</th>\n",
       "      <td>0.000190</td>\n",
       "      <td>0.000190</td>\n",
       "      <td>0.000190</td>\n",
       "      <td>0.000190</td>\n",
       "      <td>0.000190</td>\n",
       "      <td>0.950717</td>\n",
       "      <td>0.007813</td>\n",
       "      <td>0.000190</td>\n",
       "      <td>0.000190</td>\n",
       "      <td>0.000190</td>\n",
       "      <td>0.000190</td>\n",
       "      <td>0.039190</td>\n",
       "      <td>0.000190</td>\n",
       "      <td>0.000190</td>\n",
       "      <td>0.000190</td>\n",
       "    </tr>\n",
       "    <tr>\n",
       "      <th>3</th>\n",
       "      <td>0.000128</td>\n",
       "      <td>0.000128</td>\n",
       "      <td>0.000128</td>\n",
       "      <td>0.998208</td>\n",
       "      <td>0.000128</td>\n",
       "      <td>0.000128</td>\n",
       "      <td>0.000128</td>\n",
       "      <td>0.000128</td>\n",
       "      <td>0.000128</td>\n",
       "      <td>0.000128</td>\n",
       "      <td>0.000128</td>\n",
       "      <td>0.000128</td>\n",
       "      <td>0.000128</td>\n",
       "      <td>0.000128</td>\n",
       "      <td>0.000128</td>\n",
       "    </tr>\n",
       "    <tr>\n",
       "      <th>4</th>\n",
       "      <td>0.000414</td>\n",
       "      <td>0.000414</td>\n",
       "      <td>0.000414</td>\n",
       "      <td>0.000414</td>\n",
       "      <td>0.000414</td>\n",
       "      <td>0.000414</td>\n",
       "      <td>0.000414</td>\n",
       "      <td>0.000414</td>\n",
       "      <td>0.000414</td>\n",
       "      <td>0.000414</td>\n",
       "      <td>0.000414</td>\n",
       "      <td>0.994203</td>\n",
       "      <td>0.000414</td>\n",
       "      <td>0.000414</td>\n",
       "      <td>0.000414</td>\n",
       "    </tr>\n",
       "    <tr>\n",
       "      <th>5</th>\n",
       "      <td>0.000463</td>\n",
       "      <td>0.000463</td>\n",
       "      <td>0.000463</td>\n",
       "      <td>0.000463</td>\n",
       "      <td>0.000463</td>\n",
       "      <td>0.000463</td>\n",
       "      <td>0.000463</td>\n",
       "      <td>0.993518</td>\n",
       "      <td>0.000463</td>\n",
       "      <td>0.000463</td>\n",
       "      <td>0.000463</td>\n",
       "      <td>0.000463</td>\n",
       "      <td>0.000463</td>\n",
       "      <td>0.000463</td>\n",
       "      <td>0.000463</td>\n",
       "    </tr>\n",
       "    <tr>\n",
       "      <th>6</th>\n",
       "      <td>0.000517</td>\n",
       "      <td>0.000517</td>\n",
       "      <td>0.000517</td>\n",
       "      <td>0.000517</td>\n",
       "      <td>0.000517</td>\n",
       "      <td>0.000517</td>\n",
       "      <td>0.000517</td>\n",
       "      <td>0.000517</td>\n",
       "      <td>0.000517</td>\n",
       "      <td>0.000517</td>\n",
       "      <td>0.000517</td>\n",
       "      <td>0.000517</td>\n",
       "      <td>0.000517</td>\n",
       "      <td>0.992764</td>\n",
       "      <td>0.000517</td>\n",
       "    </tr>\n",
       "    <tr>\n",
       "      <th>7</th>\n",
       "      <td>0.000137</td>\n",
       "      <td>0.000137</td>\n",
       "      <td>0.000137</td>\n",
       "      <td>0.000137</td>\n",
       "      <td>0.000137</td>\n",
       "      <td>0.000137</td>\n",
       "      <td>0.000137</td>\n",
       "      <td>0.000137</td>\n",
       "      <td>0.111526</td>\n",
       "      <td>0.000137</td>\n",
       "      <td>0.000137</td>\n",
       "      <td>0.000137</td>\n",
       "      <td>0.000137</td>\n",
       "      <td>0.886687</td>\n",
       "      <td>0.000137</td>\n",
       "    </tr>\n",
       "    <tr>\n",
       "      <th>8</th>\n",
       "      <td>0.000290</td>\n",
       "      <td>0.000290</td>\n",
       "      <td>0.000290</td>\n",
       "      <td>0.723694</td>\n",
       "      <td>0.000290</td>\n",
       "      <td>0.000290</td>\n",
       "      <td>0.272537</td>\n",
       "      <td>0.000290</td>\n",
       "      <td>0.000290</td>\n",
       "      <td>0.000290</td>\n",
       "      <td>0.000290</td>\n",
       "      <td>0.000290</td>\n",
       "      <td>0.000290</td>\n",
       "      <td>0.000290</td>\n",
       "      <td>0.000290</td>\n",
       "    </tr>\n",
       "  </tbody>\n",
       "</table>\n",
       "</div>"
      ],
      "text/plain": [
       "         0         1         2         3         4         5         6   \\\n",
       "0  0.000197  0.000197  0.000197  0.000197  0.000197  0.000197  0.997239   \n",
       "1  0.000155  0.000155  0.000155  0.997824  0.000155  0.000155  0.000155   \n",
       "2  0.000190  0.000190  0.000190  0.000190  0.000190  0.950717  0.007813   \n",
       "3  0.000128  0.000128  0.000128  0.998208  0.000128  0.000128  0.000128   \n",
       "4  0.000414  0.000414  0.000414  0.000414  0.000414  0.000414  0.000414   \n",
       "5  0.000463  0.000463  0.000463  0.000463  0.000463  0.000463  0.000463   \n",
       "6  0.000517  0.000517  0.000517  0.000517  0.000517  0.000517  0.000517   \n",
       "7  0.000137  0.000137  0.000137  0.000137  0.000137  0.000137  0.000137   \n",
       "8  0.000290  0.000290  0.000290  0.723694  0.000290  0.000290  0.272537   \n",
       "\n",
       "         7         8         9         10        11        12        13  \\\n",
       "0  0.000197  0.000197  0.000197  0.000197  0.000197  0.000197  0.000197   \n",
       "1  0.000155  0.000155  0.000155  0.000155  0.000155  0.000155  0.000155   \n",
       "2  0.000190  0.000190  0.000190  0.000190  0.039190  0.000190  0.000190   \n",
       "3  0.000128  0.000128  0.000128  0.000128  0.000128  0.000128  0.000128   \n",
       "4  0.000414  0.000414  0.000414  0.000414  0.994203  0.000414  0.000414   \n",
       "5  0.993518  0.000463  0.000463  0.000463  0.000463  0.000463  0.000463   \n",
       "6  0.000517  0.000517  0.000517  0.000517  0.000517  0.000517  0.992764   \n",
       "7  0.000137  0.111526  0.000137  0.000137  0.000137  0.000137  0.886687   \n",
       "8  0.000290  0.000290  0.000290  0.000290  0.000290  0.000290  0.000290   \n",
       "\n",
       "         14  \n",
       "0  0.000197  \n",
       "1  0.000155  \n",
       "2  0.000190  \n",
       "3  0.000128  \n",
       "4  0.000414  \n",
       "5  0.000463  \n",
       "6  0.000517  \n",
       "7  0.000137  \n",
       "8  0.000290  "
      ]
     },
     "execution_count": 19,
     "metadata": {},
     "output_type": "execute_result"
    }
   ],
   "source": [
    "#gather all topics per document as a list of lists of tuples\n",
    "document_topics = [LDA_model.get_document_topics(item, minimum_probability = 0.0) for item in corpus]\n",
    "\n",
    "topic_cols = [x[0] for x in document_topics[0]] #get the num of topics to add to df\n",
    "\n",
    "\n",
    "df_topics = pd.DataFrame(columns = [topic_cols])#make df with topics\n",
    "\n",
    "for i in document_topics:\n",
    "    topic_scores = [x[1] for x in i]\n",
    "    df_topics.loc[len(df_topics.index)] = topic_scores\n",
    "\n",
    "x = df.iloc[:,[1,3,8]]\n",
    "\n",
    "#document_topics\n",
    "df_topics\n"
   ]
  },
  {
   "cell_type": "code",
   "execution_count": 28,
   "id": "48747fb4",
   "metadata": {},
   "outputs": [
    {
     "data": {
      "text/plain": [
       "[('laptop', 0.0017086845),\n",
       " ('email', 0.0016855116),\n",
       " ('video', 0.0015477141),\n",
       " ('obtain', 0.0015052183),\n",
       " ('ten', 0.0014710143),\n",
       " ('drive', 0.0014278138),\n",
       " ('disseminate', 0.0014244154),\n",
       " ('hire', 0.0014191017),\n",
       " ('information', 0.0013628665),\n",
       " ('repair', 0.0013559847)]"
      ]
     },
     "execution_count": 28,
     "metadata": {},
     "output_type": "execute_result"
    }
   ],
   "source": [
    "LDA_model.show_topic(1)"
   ]
  },
  {
   "cell_type": "code",
   "execution_count": 127,
   "id": "4ea81cb0",
   "metadata": {
    "scrolled": true
   },
   "outputs": [
    {
     "name": "stderr",
     "output_type": "stream",
     "text": [
      "C:\\Users\\gabri\\AppData\\Local\\Programs\\Python\\Python311\\Lib\\site-packages\\sklearn\\cluster\\_kmeans.py:1412: FutureWarning:\n",
      "\n",
      "The default value of `n_init` will change from 10 to 'auto' in 1.4. Set the value of `n_init` explicitly to suppress the warning\n",
      "\n",
      "C:\\Users\\gabri\\AppData\\Local\\Programs\\Python\\Python311\\Lib\\site-packages\\sklearn\\cluster\\_kmeans.py:1412: FutureWarning:\n",
      "\n",
      "The default value of `n_init` will change from 10 to 'auto' in 1.4. Set the value of `n_init` explicitly to suppress the warning\n",
      "\n",
      "C:\\Users\\gabri\\AppData\\Local\\Programs\\Python\\Python311\\Lib\\site-packages\\sklearn\\cluster\\_kmeans.py:1412: FutureWarning:\n",
      "\n",
      "The default value of `n_init` will change from 10 to 'auto' in 1.4. Set the value of `n_init` explicitly to suppress the warning\n",
      "\n",
      "C:\\Users\\gabri\\AppData\\Local\\Programs\\Python\\Python311\\Lib\\site-packages\\sklearn\\cluster\\_kmeans.py:1412: FutureWarning:\n",
      "\n",
      "The default value of `n_init` will change from 10 to 'auto' in 1.4. Set the value of `n_init` explicitly to suppress the warning\n",
      "\n",
      "C:\\Users\\gabri\\AppData\\Local\\Programs\\Python\\Python311\\Lib\\site-packages\\sklearn\\cluster\\_kmeans.py:1412: FutureWarning:\n",
      "\n",
      "The default value of `n_init` will change from 10 to 'auto' in 1.4. Set the value of `n_init` explicitly to suppress the warning\n",
      "\n",
      "C:\\Users\\gabri\\AppData\\Local\\Programs\\Python\\Python311\\Lib\\site-packages\\sklearn\\cluster\\_kmeans.py:1412: FutureWarning:\n",
      "\n",
      "The default value of `n_init` will change from 10 to 'auto' in 1.4. Set the value of `n_init` explicitly to suppress the warning\n",
      "\n",
      "C:\\Users\\gabri\\AppData\\Local\\Programs\\Python\\Python311\\Lib\\site-packages\\sklearn\\cluster\\_kmeans.py:1412: FutureWarning:\n",
      "\n",
      "The default value of `n_init` will change from 10 to 'auto' in 1.4. Set the value of `n_init` explicitly to suppress the warning\n",
      "\n"
     ]
    },
    {
     "data": {
      "image/png": "[encoded data removed]",
      "text/plain": [
       "<Figure size 1000x1000 with 1 Axes>"
      ]
     },
     "metadata": {},
     "output_type": "display_data"
    }
   ],
   "source": [
    "#kmeans_clustering = KMeans(n_clusters = 3, n_init = 3).fit_predict(X_tfidf)\n",
    "\n",
    "#print(kmeans_clustering)\n",
    "\n",
    "# def find_optimal_clusters(data, max_k):\n",
    "#     iters = range(2, max_k+1, 2)\n",
    "    \n",
    "#     sse = []\n",
    "#     for k in iters:\n",
    "#         sse.append(MiniBatchKMeans(n_clusters=k, init_size=1024, batch_size=2048, random_state=20).fit(data).inertia_)\n",
    "#         print('Fit {} clusters'.format(k))\n",
    "        \n",
    "#     f, ax = plt.subplots(1, 1)\n",
    "#     ax.plot(iters, sse, marker='o')\n",
    "#     ax.set_xlabel('Cluster Centers')\n",
    "#     ax.set_xticks(iters)\n",
    "#     ax.set_xticklabels(iters)\n",
    "#     ax.set_ylabel('SSE')\n",
    "#     ax.set_title('SSE by Cluster Center Plot')\n",
    "    \n",
    "# find_optimal_clusters(x, 5)\n",
    "\n",
    "wcss = []\n",
    "for i in range(1,8):\n",
    "   model = KMeans(n_clusters = i, init = \"k-means++\")\n",
    "   model.fit(df_topics)\n",
    "   wcss.append(model.inertia_)\n",
    "plt.figure(figsize=(10,10))\n",
    "plt.plot(range(1,8), wcss)\n",
    "plt.xlabel('Number of clusters')\n",
    "plt.ylabel('WCSS')\n",
    "plt.show()"
   ]
  },
  {
   "cell_type": "code",
   "execution_count": 141,
   "id": "dc52b015",
   "metadata": {},
   "outputs": [],
   "source": [
    "pca = PCA(9) #set to number of components\n",
    "data = pca.fit_transform(df_topics) #apply principled component analysis"
   ]
  },
  {
   "cell_type": "code",
   "execution_count": 142,
   "id": "09d6c694",
   "metadata": {},
   "outputs": [
    {
     "name": "stderr",
     "output_type": "stream",
     "text": [
      "C:\\Users\\gabri\\AppData\\Local\\Programs\\Python\\Python311\\Lib\\site-packages\\sklearn\\cluster\\_kmeans.py:1412: FutureWarning:\n",
      "\n",
      "The default value of `n_init` will change from 10 to 'auto' in 1.4. Set the value of `n_init` explicitly to suppress the warning\n",
      "\n"
     ]
    },
    {
     "data": {
      "image/png": "[encoded data removed]",
      "text/plain": [
       "<Figure size 1000x1000 with 1 Axes>"
      ]
     },
     "metadata": {},
     "output_type": "display_data"
    }
   ],
   "source": [
    "\n",
    "model = KMeans(n_clusters = 3, init = \"k-means++\")\n",
    "label = model.fit_predict(data)\n",
    "centers = np.array(model.cluster_centers_)\n",
    "\n",
    "plt.figure(figsize=(10,10))\n",
    "uniq = np.unique(label)\n",
    "for i in uniq:\n",
    "   plt.scatter(data[label == i , 0] , data[label == i , 1] , label = i)\n",
    "plt.scatter(centers[:,0], centers[:,1], marker=\"x\", color='k')\n",
    "#This is done to find the centroid for each clusters.\n",
    "plt.legend()\n",
    "plt.show()"
   ]
  }
 ],
 "metadata": {
  "kernelspec": {
   "display_name": "Python 3 (ipykernel)",
   "language": "python",
   "name": "python3"
  },
  "language_info": {
   "codemirror_mode": {
    "name": "ipython",
    "version": 3
   },
   "file_extension": ".py",
   "mimetype": "text/x-python",
   "name": "python",
   "nbconvert_exporter": "python",
   "pygments_lexer": "ipython3",
   "version": "3.10.4"
  }
 },
 "nbformat": 4,
 "nbformat_minor": 5
}
