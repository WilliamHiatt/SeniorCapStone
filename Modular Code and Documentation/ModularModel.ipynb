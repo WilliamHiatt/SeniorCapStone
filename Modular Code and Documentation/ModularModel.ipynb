{
 "cells": [
  {
   "cell_type": "markdown",
   "id": "c9dccd1a",
   "metadata": {},
   "source": [
    "# Latent Probability Model"
   ]
  },
  {
   "cell_type": "markdown",
   "id": "01049288",
   "metadata": {},
   "source": [
    "If you are running this for the first time you may need to use the following commands before continuing:"
   ]
  },
  {
   "cell_type": "code",
   "execution_count": 1,
   "id": "15ba699a",
   "metadata": {},
   "outputs": [
    {
     "ename": "SyntaxError",
     "evalue": "invalid syntax (1224983346.py, line 1)",
     "output_type": "error",
     "traceback": [
      "\u001b[1;36m  File \u001b[1;32m\"C:\\Users\\seaha\\AppData\\Local\\Temp\\ipykernel_30416\\1224983346.py\"\u001b[1;36m, line \u001b[1;32m1\u001b[0m\n\u001b[1;33m    pip3 install pandas==1.3.5\u001b[0m\n\u001b[1;37m         ^\u001b[0m\n\u001b[1;31mSyntaxError\u001b[0m\u001b[1;31m:\u001b[0m invalid syntax\n"
     ]
    }
   ],
   "source": [
    "pip3 install pandas==1.3.5\n",
    "pip3 install spacy==3.2.0\n",
    "pip3 install spacytextblob\n",
    "python3 -m spacy download en_core_web_sm\n",
    "\n",
    "pip3 install newspaper3k"
   ]
  },
  {
   "cell_type": "markdown",
   "id": "c92a2232",
   "metadata": {},
   "source": [
    "Spacy: Used for NLP and has the machine learning module\n",
    "    \n",
    "SpacyTextBlob: Used for the sentiment analysis\n",
    "    \n",
    "Pandas: Stores the data as a dataframe table\n",
    "    \n",
    "NewsPaper: Used for web scraping\n",
    "    \n",
    "Requests: Makes the connection to the URL"
   ]
  },
  {
   "cell_type": "code",
   "execution_count": 34,
   "id": "fae0f7c5",
   "metadata": {},
   "outputs": [],
   "source": [
    "import spacy\n",
    "from spacytextblob.spacytextblob import SpacyTextBlob\n",
    "import pandas as pd\n",
    "import requests\n",
    "from newspaper import Article"
   ]
  },
  {
   "cell_type": "markdown",
   "id": "67afdeff",
   "metadata": {},
   "source": [
    "IMPORTANT: If you want to try re-runing after making some code changes or want to \n",
    "run a new .csv file through the code block below and the one a couple down with the\n",
    " rerun note will need to be ran again for the analysis to work correctly"
   ]
  },
  {
   "cell_type": "code",
   "execution_count": 35,
   "id": "4d78c510",
   "metadata": {},
   "outputs": [
    {
     "data": {
      "text/plain": [
       "<spacytextblob.spacytextblob.SpacyTextBlob at 0x1663696d840>"
      ]
     },
     "execution_count": 35,
     "metadata": {},
     "output_type": "execute_result"
    }
   ],
   "source": [
    "# Loading our two pipelines\n",
    "nlp = spacy.load('en_core_web_sm')\n",
    "nlp.add_pipe('spacytextblob')"
   ]
  },
  {
   "cell_type": "markdown",
   "id": "b787c3f5",
   "metadata": {},
   "source": [
    "IMPORTANT: Insert the .csv file you want to be read below."
   ]
  },
  {
   "cell_type": "code",
   "execution_count": 36,
   "id": "4e23034f",
   "metadata": {},
   "outputs": [],
   "source": [
    "csvFile = \"urls9.csv\""
   ]
  },
  {
   "cell_type": "code",
   "execution_count": 38,
   "id": "51cde877",
   "metadata": {},
   "outputs": [],
   "source": [
    "# rerun\n",
    "# Using panda to load in our .csv file\n",
    "df = pd.read_csv(csvFile) # File we are checking\n",
    "urls = df[\"Address\"].tolist() # Column name we are checking\n",
    "url_list = []\n",
    "url_sent_score = []\n",
    "url_sent_label = []\n",
    "url_subj_score = []\n",
    "url_subj_label = []\n",
    "total_pos = []\n",
    "total_neg = []\n",
    "all_text_gathered = []\n",
    "all_articles = ''\n",
    "scentence_list = []\n",
    "sentimentDic = {}\n",
    "social_starts_with = [\"https://www.youtube.com\", \"https://youtu.be\", \"https://www.facebook.com\", \"https://twitter.com\"]\n"
   ]
  },
  {
   "cell_type": "markdown",
   "id": "aaa006c6",
   "metadata": {},
   "source": [
    "Following code block used for scraping"
   ]
  },
  {
   "cell_type": "code",
   "execution_count": 39,
   "id": "1aa273e6",
   "metadata": {},
   "outputs": [],
   "source": [
    "def scrapeData(url):\n",
    "    try:\n",
    "        for y in social_starts_with:\n",
    "            if(url.startswith(y)):\n",
    "                isSocial = True\n",
    "            else:\n",
    "                isSocial = False\n",
    "        if(isSocial != True):\n",
    "            article = Article(url)\n",
    "            article.download()\n",
    "            article.parse()\n",
    "            \n",
    "            page_text = (article.text).lower()\n",
    "            #print(page_text)\n",
    "            page_text = page_text.strip().replace(\"  \",\"\")\n",
    "            #print(page_text)\n",
    "            page_text = \"\".join([s for s in page_text.splitlines(True) if s.strip(\"\\r\\n\")])\n",
    "            #print(page_text)\n",
    "            \n",
    "        else:\n",
    "            page_text = \"PARERROR: SocialError\"\n",
    "    except:\n",
    "        page_text = \"PARERROR: ErrorCouldntParse\"\n",
    "    return page_text"
   ]
  },
  {
   "cell_type": "markdown",
   "id": "1a45b100",
   "metadata": {},
   "source": [
    "This is the template used for adding new models/tools to the pipeline. Instructions are inside the function marked as comments. No need to run this code block."
   ]
  },
  {
   "cell_type": "code",
   "execution_count": 8,
   "id": "a17013d3",
   "metadata": {},
   "outputs": [
    {
     "ename": "SyntaxError",
     "evalue": "expected ':' (602059371.py, line 6)",
     "output_type": "error",
     "traceback": [
      "\u001b[1;36m  Input \u001b[1;32mIn [8]\u001b[1;36m\u001b[0m\n\u001b[1;33m    if(len(dictionary) == 0)\u001b[0m\n\u001b[1;37m                            ^\u001b[0m\n\u001b[1;31mSyntaxError\u001b[0m\u001b[1;31m:\u001b[0m expected ':'\n"
     ]
    }
   ],
   "source": [
    "def functionName(text, dictionary, url):\n",
    "    # This function needs to return a dictionary for what values you want in the\n",
    "    # dataframe. For example if we want our columns to be \"sentiment score\" \n",
    "    # and \"positive or negative\" we would return \n",
    "    # {'sentiment score': 'score', 'positive or negative': 'positive'}\n",
    "    if(len(dictionary) == 0)\n",
    "        dictionary = # define dicitonary based on above\n",
    "    if(text[0:7] != 'PARERROR'):\n",
    "        # Run analysis here\n",
    "    else:\n",
    "        # Throws this if there was some sort of error in the web scraping\n",
    "        # Append the text to whereever the \"outcome\" would be appended\n",
    "        # For example for sentiment analysis, instead of appending a sentiment score\n",
    "        # Append the error\n",
    "    return dictionary"
   ]
  },
  {
   "cell_type": "code",
   "execution_count": 40,
   "id": "80fc650d",
   "metadata": {},
   "outputs": [],
   "source": [
    "def sentimentAnalysis(text, dictionary, url):\n",
    "    if(len(dictionary) == 0):\n",
    "        dictionary = {\n",
    "            \"URL\": url_list,\n",
    "            \"Sentiment Score\": url_sent_score,\n",
    "            \"Sentiment Label\": url_sent_label,\n",
    "            \"Subjectivity Score\": url_subj_score,\n",
    "            \"Positive Words\": total_pos,\n",
    "            \"Negative Words\": total_neg\n",
    "            }\n",
    "    if(text[0:7] != 'PARERROR'):\n",
    "        # Start the sentiment analysis now\n",
    "        url_list.append(url)\n",
    "        doc = nlp(text)\n",
    "        sentiment = doc._.blob.polarity\n",
    "        sentiment = round(sentiment,2)\n",
    "        subjectivity = doc._.blob.subjectivity\n",
    "        subjectivity = round(subjectivity,2)\n",
    "\n",
    "        # Gives positive or negative label\n",
    "        if sentiment >= 0.033 and sentiment <= 0.043:\n",
    "            sent_label = \"Neutral\"\n",
    "        elif sentiment > 0.043 and sentiment < 0.143:\n",
    "            sent_label = \"Neutral Positive\"\n",
    "        elif sentiment > 0.143:\n",
    "            sent_label = \"Positive\"\n",
    "        elif sentiment < 0.033 and sentiment > -0.062:\n",
    "            sent_label = \"Neutral Negative\"\n",
    "        elif sentiment < -0.062:\n",
    "            sent_label = \"Negative\"\n",
    "\n",
    "        url_sent_label.append(sent_label)\n",
    "        url_sent_score.append(sentiment)\n",
    "        url_subj_score.append(subjectivity)\n",
    "\n",
    "        positive_words = []\n",
    "        negative_words = []\n",
    "\n",
    "        for x in doc._.blob.sentiment_assessments.assessments:\n",
    "          if x[1] > 0:\n",
    "            positive_words.append(x[0][0])\n",
    "          elif x[1] < 0:\n",
    "            negative_words.append(x[0][0])\n",
    "          else:\n",
    "            pass\n",
    "\n",
    "        total_pos.append(', '.join(set(positive_words)))\n",
    "        total_neg.append(', '.join(set(negative_words)))\n",
    "    \n",
    "    else:\n",
    "        print(\"Hit error\")\n",
    "        url_sent_label.append(\"Error\")\n",
    "        url_sent_score.append(0.0)\n",
    "        url_subj_score.append(0.0)\n",
    "\n",
    "        positive_words = []\n",
    "        negative_words = []\n",
    "\n",
    "        total_pos.append(', '.join(set(positive_words)))\n",
    "        total_neg.append(', '.join(set(negative_words)))\n",
    "    \n",
    "    return dictionary"
   ]
  },
  {
   "cell_type": "markdown",
   "id": "5876ee62",
   "metadata": {},
   "source": [
    "Simple method to create data frames from dictionaries"
   ]
  },
  {
   "cell_type": "code",
   "execution_count": 41,
   "id": "a960bf2b",
   "metadata": {},
   "outputs": [],
   "source": [
    "def dictionaryToDataFrame(dictionary):\n",
    "    return pd.DataFrame(dictionary)\n",
    "        "
   ]
  },
  {
   "cell_type": "markdown",
   "id": "6bdc4425",
   "metadata": {},
   "source": [
    "Returns a list of the article at a sentence level"
   ]
  },
  {
   "cell_type": "code",
   "execution_count": 42,
   "id": "3e878fa1",
   "metadata": {},
   "outputs": [],
   "source": [
    "def sentenceLevel(parsedText):\n",
    "    returnList = []\n",
    "    for sent in parsedText.sents:\n",
    "        returnList.append(sent)\n",
    "    \n",
    "    return returnList"
   ]
  },
  {
   "cell_type": "markdown",
   "id": "f05102c4",
   "metadata": {},
   "source": [
    "Gets the average sentiment of all scentences combined in an article."
   ]
  },
  {
   "cell_type": "code",
   "execution_count": 43,
   "id": "9cef1890",
   "metadata": {},
   "outputs": [],
   "source": [
    "def averageSentenceLevel(sentenceLevDic, keysToBeAveraged):\n",
    "    for x in sentenceLevDic:\n",
    "        if y in keysToBeAveraged:\n",
    "            num = len(sentenceLevDic[y])\n",
    "            sentenceLevDic[y] = sum(sentenceLevDic[y]) / num\n",
    "    \n",
    "    return sentenceLevDic"
   ]
  },
  {
   "cell_type": "code",
   "execution_count": 18,
   "id": "a494e1c2",
   "metadata": {},
   "outputs": [
    {
     "ename": "SyntaxError",
     "evalue": "incomplete input (3329120566.py, line 2)",
     "output_type": "error",
     "traceback": [
      "\u001b[1;36m  Input \u001b[1;32mIn [18]\u001b[1;36m\u001b[0m\n\u001b[1;33m    \u001b[0m\n\u001b[1;37m    ^\u001b[0m\n\u001b[1;31mSyntaxError\u001b[0m\u001b[1;31m:\u001b[0m incomplete input\n"
     ]
    }
   ],
   "source": [
    "def averageSentimentScore(listOfDictionaries):\n",
    "    "
   ]
  },
  {
   "cell_type": "markdown",
   "id": "a9fabe01",
   "metadata": {},
   "source": [
    "# This is the pipeline. All code is called and ran through here."
   ]
  },
  {
   "cell_type": "code",
   "execution_count": 44,
   "id": "7ae169b7",
   "metadata": {},
   "outputs": [
    {
     "name": "stdout",
     "output_type": "stream",
     "text": [
      "0\n"
     ]
    },
    {
     "data": {
      "text/html": [
       "<div>\n",
       "<style scoped>\n",
       "    .dataframe tbody tr th:only-of-type {\n",
       "        vertical-align: middle;\n",
       "    }\n",
       "\n",
       "    .dataframe tbody tr th {\n",
       "        vertical-align: top;\n",
       "    }\n",
       "\n",
       "    .dataframe thead th {\n",
       "        text-align: right;\n",
       "    }\n",
       "</style>\n",
       "<table border=\"1\" class=\"dataframe\">\n",
       "  <thead>\n",
       "    <tr style=\"text-align: right;\">\n",
       "      <th></th>\n",
       "      <th>URL</th>\n",
       "      <th>Sentiment Score</th>\n",
       "      <th>Sentiment Label</th>\n",
       "      <th>Subjectivity Score</th>\n",
       "      <th>Positive Words</th>\n",
       "      <th>Negative Words</th>\n",
       "    </tr>\n",
       "  </thead>\n",
       "  <tbody>\n",
       "    <tr>\n",
       "      <th>0</th>\n",
       "      <td>https://www.thegatewaypundit.com/2022/05/world...</td>\n",
       "      <td>0.05</td>\n",
       "      <td>Neutral Positive</td>\n",
       "      <td>0.28</td>\n",
       "      <td>not, major, more, confident, absolute, support...</td>\n",
       "      <td>other, absolutely, needless, single, past</td>\n",
       "    </tr>\n",
       "    <tr>\n",
       "      <th>1</th>\n",
       "      <td>https://gettr.com/post/ptt4ta7c84</td>\n",
       "      <td>0.00</td>\n",
       "      <td>Neutral Negative</td>\n",
       "      <td>0.00</td>\n",
       "      <td></td>\n",
       "      <td></td>\n",
       "    </tr>\n",
       "    <tr>\n",
       "      <th>2</th>\n",
       "      <td>https://komonews.com/news/coronavirus/if-covid...</td>\n",
       "      <td>-0.03</td>\n",
       "      <td>Neutral Negative</td>\n",
       "      <td>0.37</td>\n",
       "      <td></td>\n",
       "      <td>military</td>\n",
       "    </tr>\n",
       "    <tr>\n",
       "      <th>3</th>\n",
       "      <td>https://www.lewrockwell.com/2018/11/no_author/...</td>\n",
       "      <td>0.10</td>\n",
       "      <td>Neutral Positive</td>\n",
       "      <td>0.41</td>\n",
       "      <td>clean, new, sure, free, aptly, first, large, n...</td>\n",
       "      <td>base, negative, less, late, active, worse, unk...</td>\n",
       "    </tr>\n",
       "    <tr>\n",
       "      <th>4</th>\n",
       "      <td>https://nation.com.pk/08-Apr-2021/russia-offer...</td>\n",
       "      <td>0.07</td>\n",
       "      <td>Neutral Positive</td>\n",
       "      <td>0.28</td>\n",
       "      <td>strong, more, full, natural, special, importan...</td>\n",
       "      <td>military, actively, foreign, mainly</td>\n",
       "    </tr>\n",
       "    <tr>\n",
       "      <th>5</th>\n",
       "      <td>https://barrie.ctvnews.ca/cfb-borden-based-mil...</td>\n",
       "      <td>-0.02</td>\n",
       "      <td>Neutral Negative</td>\n",
       "      <td>0.38</td>\n",
       "      <td>not, full, fine, unique, willingly, good, first</td>\n",
       "      <td>base, not, due, wrong, other, guilty, military...</td>\n",
       "    </tr>\n",
       "    <tr>\n",
       "      <th>6</th>\n",
       "      <td>https://www.reuters.com/world/us/us-army-disch...</td>\n",
       "      <td>0.07</td>\n",
       "      <td>Neutral Positive</td>\n",
       "      <td>0.39</td>\n",
       "      <td>more, filled, new, win, latest, first</td>\n",
       "      <td>active, roughly, other, military, least, center</td>\n",
       "    </tr>\n",
       "    <tr>\n",
       "      <th>7</th>\n",
       "      <td>https://www.dailysabah.com/world/europe/sweden...</td>\n",
       "      <td>0.03</td>\n",
       "      <td>Neutral Negative</td>\n",
       "      <td>0.30</td>\n",
       "      <td>light, directly, direct, new, kind, first</td>\n",
       "      <td>active, foreign, long, green, military, previo...</td>\n",
       "    </tr>\n",
       "    <tr>\n",
       "      <th>8</th>\n",
       "      <td>https://www.military.com/daily-news/2022/11/01...</td>\n",
       "      <td>0.07</td>\n",
       "      <td>Neutral Positive</td>\n",
       "      <td>0.46</td>\n",
       "      <td>sincerely, nearly, more, general, legal, best,...</td>\n",
       "      <td>base, active, limited, approximately, firm, mi...</td>\n",
       "    </tr>\n",
       "  </tbody>\n",
       "</table>\n",
       "</div>"
      ],
      "text/plain": [
       "                                                 URL  Sentiment Score  \\\n",
       "0  https://www.thegatewaypundit.com/2022/05/world...             0.05   \n",
       "1                  https://gettr.com/post/ptt4ta7c84             0.00   \n",
       "2  https://komonews.com/news/coronavirus/if-covid...            -0.03   \n",
       "3  https://www.lewrockwell.com/2018/11/no_author/...             0.10   \n",
       "4  https://nation.com.pk/08-Apr-2021/russia-offer...             0.07   \n",
       "5  https://barrie.ctvnews.ca/cfb-borden-based-mil...            -0.02   \n",
       "6  https://www.reuters.com/world/us/us-army-disch...             0.07   \n",
       "7  https://www.dailysabah.com/world/europe/sweden...             0.03   \n",
       "8  https://www.military.com/daily-news/2022/11/01...             0.07   \n",
       "\n",
       "    Sentiment Label  Subjectivity Score  \\\n",
       "0  Neutral Positive                0.28   \n",
       "1  Neutral Negative                0.00   \n",
       "2  Neutral Negative                0.37   \n",
       "3  Neutral Positive                0.41   \n",
       "4  Neutral Positive                0.28   \n",
       "5  Neutral Negative                0.38   \n",
       "6  Neutral Positive                0.39   \n",
       "7  Neutral Negative                0.30   \n",
       "8  Neutral Positive                0.46   \n",
       "\n",
       "                                      Positive Words  \\\n",
       "0  not, major, more, confident, absolute, support...   \n",
       "1                                                      \n",
       "2                                                      \n",
       "3  clean, new, sure, free, aptly, first, large, n...   \n",
       "4  strong, more, full, natural, special, importan...   \n",
       "5    not, full, fine, unique, willingly, good, first   \n",
       "6              more, filled, new, win, latest, first   \n",
       "7          light, directly, direct, new, kind, first   \n",
       "8  sincerely, nearly, more, general, legal, best,...   \n",
       "\n",
       "                                      Negative Words  \n",
       "0          other, absolutely, needless, single, past  \n",
       "1                                                     \n",
       "2                                           military  \n",
       "3  base, negative, less, late, active, worse, unk...  \n",
       "4                military, actively, foreign, mainly  \n",
       "5  base, not, due, wrong, other, guilty, military...  \n",
       "6    active, roughly, other, military, least, center  \n",
       "7  active, foreign, long, green, military, previo...  \n",
       "8  base, active, limited, approximately, firm, mi...  "
      ]
     },
     "execution_count": 44,
     "metadata": {},
     "output_type": "execute_result"
    }
   ],
   "source": [
    "# Loops through our URLS and scraps the data\n",
    "for count, x in enumerate(urls):\n",
    "    if(count % 10 == 0):\n",
    "        print(str(count))\n",
    "\n",
    "    url = x\n",
    "\n",
    "    # Send the URL to get scraped\n",
    "    page_text = scrapeData(x)\n",
    "    # All articles will have a long string of all the text that has been scraped\n",
    "    all_articles = all_articles + \" \" +  page_text\n",
    "\n",
    "    # Runs sentiment analysis. Will need to make a new function and a new dictionary\n",
    "    # for each type of analysis we want to run. Will pass in the page_text, the dic, and\n",
    "    # x (the url)\n",
    "    sentDic = {}\n",
    "    sentDic = sentimentAnalysis(page_text, sentDic, x)\n",
    "        \n",
    "        \n",
    "        \n",
    "#print(\"The average sentiment score was: \" + str(sum(url_sent_score) / len(url_sent_score)))\n",
    "#print(\"The average subjectivity score was: \" + str(sum(url_subj_score) / len(url_subj_score)))\n",
    "\n",
    "# For each analysis we run we need to then convert that dictionary with the following method\n",
    "sentDic = dictionaryToDataFrame(sentDic)\n",
    "sentDic\n",
    "# Used if we want to convert it to a .csv sentDic.to_csv(\"sentiment130.csv\")\n"
   ]
  },
  {
   "cell_type": "code",
   "execution_count": null,
   "id": "dd69accd",
   "metadata": {},
   "outputs": [],
   "source": []
  }
 ],
 "metadata": {
  "kernelspec": {
   "display_name": "Python 3 (ipykernel)",
   "language": "python",
   "name": "python3"
  },
  "language_info": {
   "codemirror_mode": {
    "name": "ipython",
    "version": 3
   },
   "file_extension": ".py",
   "mimetype": "text/x-python",
   "name": "python",
   "nbconvert_exporter": "python",
   "pygments_lexer": "ipython3",
   "version": "3.10.4"
  }
 },
 "nbformat": 4,
 "nbformat_minor": 5
}
