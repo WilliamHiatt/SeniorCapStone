{
 "cells": [
  {
   "cell_type": "code",
   "execution_count": 16,
   "metadata": {
    "dotnet_interactive": {
     "language": "csharp"
    },
    "polyglot_notebook": {
     "kernelName": "csharp"
    }
   },
   "outputs": [
    {
     "name": "stdout",
     "output_type": "stream",
     "text": [
      "Requirement already satisfied: spacy in c:\\users\\biehl\\anaconda3\\lib\\site-packages (3.5.2)\n",
      "Requirement already satisfied: requests<3.0.0,>=2.13.0 in c:\\users\\biehl\\anaconda3\\lib\\site-packages (from spacy) (2.28.1)\n",
      "Requirement already satisfied: preshed<3.1.0,>=3.0.2 in c:\\users\\biehl\\anaconda3\\lib\\site-packages (from spacy) (3.0.8)\n",
      "Requirement already satisfied: spacy-loggers<2.0.0,>=1.0.0 in c:\\users\\biehl\\anaconda3\\lib\\site-packages (from spacy) (1.0.4)\n",
      "Requirement already satisfied: pydantic!=1.8,!=1.8.1,<1.11.0,>=1.7.4 in c:\\users\\biehl\\anaconda3\\lib\\site-packages (from spacy) (1.10.7)\n",
      "Requirement already satisfied: wasabi<1.2.0,>=0.9.1 in c:\\users\\biehl\\anaconda3\\lib\\site-packages (from spacy) (1.1.1)\n",
      "Requirement already satisfied: smart-open<7.0.0,>=5.2.1 in c:\\users\\biehl\\anaconda3\\lib\\site-packages (from spacy) (5.2.1)\n",
      "Requirement already satisfied: tqdm<5.0.0,>=4.38.0 in c:\\users\\biehl\\anaconda3\\lib\\site-packages (from spacy) (4.64.1)\n",
      "Requirement already satisfied: cymem<2.1.0,>=2.0.2 in c:\\users\\biehl\\anaconda3\\lib\\site-packages (from spacy) (2.0.7)\n",
      "Requirement already satisfied: catalogue<2.1.0,>=2.0.6 in c:\\users\\biehl\\anaconda3\\lib\\site-packages (from spacy) (2.0.8)\n",
      "Requirement already satisfied: numpy>=1.15.0 in c:\\users\\biehl\\anaconda3\\lib\\site-packages (from spacy) (1.24.2)\n",
      "Requirement already satisfied: murmurhash<1.1.0,>=0.28.0 in c:\\users\\biehl\\anaconda3\\lib\\site-packages (from spacy) (1.0.9)\n",
      "Requirement already satisfied: spacy-legacy<3.1.0,>=3.0.11 in c:\\users\\biehl\\anaconda3\\lib\\site-packages (from spacy) (3.0.12)\n",
      "Requirement already satisfied: langcodes<4.0.0,>=3.2.0 in c:\\users\\biehl\\anaconda3\\lib\\site-packages (from spacy) (3.3.0)\n",
      "Requirement already satisfied: typer<0.8.0,>=0.3.0 in c:\\users\\biehl\\anaconda3\\lib\\site-packages (from spacy) (0.7.0)\n",
      "Requirement already satisfied: pathy>=0.10.0 in c:\\users\\biehl\\anaconda3\\lib\\site-packages (from spacy) (0.10.1)\n",
      "Requirement already satisfied: srsly<3.0.0,>=2.4.3 in c:\\users\\biehl\\anaconda3\\lib\\site-packages (from spacy) (2.4.6)\n",
      "Requirement already satisfied: setuptools in c:\\users\\biehl\\anaconda3\\lib\\site-packages (from spacy) (65.6.3)\n",
      "Requirement already satisfied: thinc<8.2.0,>=8.1.8 in c:\\users\\biehl\\anaconda3\\lib\\site-packages (from spacy) (8.1.9)\n",
      "Requirement already satisfied: jinja2 in c:\\users\\biehl\\anaconda3\\lib\\site-packages (from spacy) (2.11.3)\n",
      "Requirement already satisfied: packaging>=20.0 in c:\\users\\biehl\\anaconda3\\lib\\site-packages (from spacy) (22.0)\n",
      "Requirement already satisfied: typing-extensions>=4.2.0 in c:\\users\\biehl\\anaconda3\\lib\\site-packages (from pydantic!=1.8,!=1.8.1,<1.11.0,>=1.7.4->spacy) (4.4.0)\n",
      "Requirement already satisfied: charset-normalizer<3,>=2 in c:\\users\\biehl\\anaconda3\\lib\\site-packages (from requests<3.0.0,>=2.13.0->spacy) (2.0.4)\n",
      "Requirement already satisfied: certifi>=2017.4.17 in c:\\users\\biehl\\anaconda3\\lib\\site-packages (from requests<3.0.0,>=2.13.0->spacy) (2022.12.7)\n",
      "Requirement already satisfied: idna<4,>=2.5 in c:\\users\\biehl\\anaconda3\\lib\\site-packages (from requests<3.0.0,>=2.13.0->spacy) (3.4)\n",
      "Requirement already satisfied: urllib3<1.27,>=1.21.1 in c:\\users\\biehl\\anaconda3\\lib\\site-packages (from requests<3.0.0,>=2.13.0->spacy) (1.26.14)\n",
      "Requirement already satisfied: confection<1.0.0,>=0.0.1 in c:\\users\\biehl\\anaconda3\\lib\\site-packages (from thinc<8.2.0,>=8.1.8->spacy) (0.0.4)\n",
      "Requirement already satisfied: blis<0.8.0,>=0.7.8 in c:\\users\\biehl\\anaconda3\\lib\\site-packages (from thinc<8.2.0,>=8.1.8->spacy) (0.7.9)\n",
      "Requirement already satisfied: colorama in c:\\users\\biehl\\anaconda3\\lib\\site-packages (from tqdm<5.0.0,>=4.38.0->spacy) (0.4.6)\n",
      "Requirement already satisfied: click<9.0.0,>=7.1.1 in c:\\users\\biehl\\anaconda3\\lib\\site-packages (from typer<0.8.0,>=0.3.0->spacy) (8.0.4)\n",
      "Requirement already satisfied: MarkupSafe>=0.23 in c:\\users\\biehl\\anaconda3\\lib\\site-packages (from jinja2->spacy) (2.0.1)\n"
     ]
    },
    {
     "name": "stderr",
     "output_type": "stream",
     "text": [
      "WARNING: Ignoring invalid distribution -cipy (c:\\users\\biehl\\anaconda3\\lib\\site-packages)\n",
      "WARNING: Ignoring invalid distribution -cipy (c:\\users\\biehl\\anaconda3\\lib\\site-packages)\n",
      "WARNING: Ignoring invalid distribution -cipy (c:\\users\\biehl\\anaconda3\\lib\\site-packages)\n",
      "WARNING: Ignoring invalid distribution -cipy (c:\\users\\biehl\\anaconda3\\lib\\site-packages)\n",
      "WARNING: Ignoring invalid distribution -cipy (c:\\users\\biehl\\anaconda3\\lib\\site-packages)\n",
      "WARNING: Ignoring invalid distribution -cipy (c:\\users\\biehl\\anaconda3\\lib\\site-packages)\n"
     ]
    },
    {
     "name": "stdout",
     "output_type": "stream",
     "text": [
      "Requirement already satisfied: pandas in c:\\users\\biehl\\anaconda3\\lib\\site-packages (1.4.4)\n",
      "Requirement already satisfied: pytz>=2020.1 in c:\\users\\biehl\\anaconda3\\lib\\site-packages (from pandas) (2022.7)\n",
      "Requirement already satisfied: python-dateutil>=2.8.1 in c:\\users\\biehl\\anaconda3\\lib\\site-packages (from pandas) (2.8.2)\n",
      "Requirement already satisfied: numpy>=1.18.5 in c:\\users\\biehl\\anaconda3\\lib\\site-packages (from pandas) (1.24.2)\n",
      "Requirement already satisfied: six>=1.5 in c:\\users\\biehl\\anaconda3\\lib\\site-packages (from python-dateutil>=2.8.1->pandas) (1.16.0)\n"
     ]
    },
    {
     "name": "stderr",
     "output_type": "stream",
     "text": [
      "WARNING: Ignoring invalid distribution -cipy (c:\\users\\biehl\\anaconda3\\lib\\site-packages)\n",
      "WARNING: Ignoring invalid distribution -cipy (c:\\users\\biehl\\anaconda3\\lib\\site-packages)\n",
      "WARNING: Ignoring invalid distribution -cipy (c:\\users\\biehl\\anaconda3\\lib\\site-packages)\n",
      "WARNING: Ignoring invalid distribution -cipy (c:\\users\\biehl\\anaconda3\\lib\\site-packages)\n",
      "WARNING: Ignoring invalid distribution -cipy (c:\\users\\biehl\\anaconda3\\lib\\site-packages)\n",
      "WARNING: Ignoring invalid distribution -cipy (c:\\users\\biehl\\anaconda3\\lib\\site-packages)\n"
     ]
    },
    {
     "name": "stdout",
     "output_type": "stream",
     "text": [
      "Requirement already satisfied: spacytextblob in c:\\users\\biehl\\anaconda3\\lib\\site-packages (4.0.0)\n",
      "Requirement already satisfied: spacy<4.0,>=3.0 in c:\\users\\biehl\\anaconda3\\lib\\site-packages (from spacytextblob) (3.5.2)\n",
      "Requirement already satisfied: textblob<0.16.0,>=0.15.3 in c:\\users\\biehl\\anaconda3\\lib\\site-packages (from spacytextblob) (0.15.3)\n",
      "Requirement already satisfied: langcodes<4.0.0,>=3.2.0 in c:\\users\\biehl\\anaconda3\\lib\\site-packages (from spacy<4.0,>=3.0->spacytextblob) (3.3.0)\n",
      "Requirement already satisfied: typer<0.8.0,>=0.3.0 in c:\\users\\biehl\\anaconda3\\lib\\site-packages (from spacy<4.0,>=3.0->spacytextblob) (0.7.0)\n",
      "Requirement already satisfied: catalogue<2.1.0,>=2.0.6 in c:\\users\\biehl\\anaconda3\\lib\\site-packages (from spacy<4.0,>=3.0->spacytextblob) (2.0.8)\n",
      "Requirement already satisfied: requests<3.0.0,>=2.13.0 in c:\\users\\biehl\\anaconda3\\lib\\site-packages (from spacy<4.0,>=3.0->spacytextblob) (2.28.1)\n",
      "Requirement already satisfied: preshed<3.1.0,>=3.0.2 in c:\\users\\biehl\\anaconda3\\lib\\site-packages (from spacy<4.0,>=3.0->spacytextblob) (3.0.8)\n",
      "Requirement already satisfied: pathy>=0.10.0 in c:\\users\\biehl\\anaconda3\\lib\\site-packages (from spacy<4.0,>=3.0->spacytextblob) (0.10.1)\n",
      "Requirement already satisfied: wasabi<1.2.0,>=0.9.1 in c:\\users\\biehl\\anaconda3\\lib\\site-packages (from spacy<4.0,>=3.0->spacytextblob) (1.1.1)\n",
      "Requirement already satisfied: srsly<3.0.0,>=2.4.3 in c:\\users\\biehl\\anaconda3\\lib\\site-packages (from spacy<4.0,>=3.0->spacytextblob) (2.4.6)\n",
      "Requirement already satisfied: pydantic!=1.8,!=1.8.1,<1.11.0,>=1.7.4 in c:\\users\\biehl\\anaconda3\\lib\\site-packages (from spacy<4.0,>=3.0->spacytextblob) (1.10.7)\n",
      "Requirement already satisfied: jinja2 in c:\\users\\biehl\\anaconda3\\lib\\site-packages (from spacy<4.0,>=3.0->spacytextblob) (2.11.3)\n",
      "Requirement already satisfied: spacy-legacy<3.1.0,>=3.0.11 in c:\\users\\biehl\\anaconda3\\lib\\site-packages (from spacy<4.0,>=3.0->spacytextblob) (3.0.12)\n",
      "Requirement already satisfied: murmurhash<1.1.0,>=0.28.0 in c:\\users\\biehl\\anaconda3\\lib\\site-packages (from spacy<4.0,>=3.0->spacytextblob) (1.0.9)\n",
      "Requirement already satisfied: numpy>=1.15.0 in c:\\users\\biehl\\anaconda3\\lib\\site-packages (from spacy<4.0,>=3.0->spacytextblob) (1.24.2)\n",
      "Requirement already satisfied: setuptools in c:\\users\\biehl\\anaconda3\\lib\\site-packages (from spacy<4.0,>=3.0->spacytextblob) (65.6.3)\n",
      "Requirement already satisfied: spacy-loggers<2.0.0,>=1.0.0 in c:\\users\\biehl\\anaconda3\\lib\\site-packages (from spacy<4.0,>=3.0->spacytextblob) (1.0.4)\n",
      "Requirement already satisfied: thinc<8.2.0,>=8.1.8 in c:\\users\\biehl\\anaconda3\\lib\\site-packages (from spacy<4.0,>=3.0->spacytextblob) (8.1.9)\n",
      "Requirement already satisfied: cymem<2.1.0,>=2.0.2 in c:\\users\\biehl\\anaconda3\\lib\\site-packages (from spacy<4.0,>=3.0->spacytextblob) (2.0.7)\n",
      "Requirement already satisfied: tqdm<5.0.0,>=4.38.0 in c:\\users\\biehl\\anaconda3\\lib\\site-packages (from spacy<4.0,>=3.0->spacytextblob) (4.64.1)\n",
      "Requirement already satisfied: packaging>=20.0 in c:\\users\\biehl\\anaconda3\\lib\\site-packages (from spacy<4.0,>=3.0->spacytextblob) (22.0)\n",
      "Requirement already satisfied: smart-open<7.0.0,>=5.2.1 in c:\\users\\biehl\\anaconda3\\lib\\site-packages (from spacy<4.0,>=3.0->spacytextblob) (5.2.1)\n",
      "Requirement already satisfied: nltk>=3.1 in c:\\users\\biehl\\anaconda3\\lib\\site-packages (from textblob<0.16.0,>=0.15.3->spacytextblob) (3.7)\n",
      "Requirement already satisfied: joblib in c:\\users\\biehl\\anaconda3\\lib\\site-packages (from nltk>=3.1->textblob<0.16.0,>=0.15.3->spacytextblob) (1.2.0)\n",
      "Requirement already satisfied: regex>=2021.8.3 in c:\\users\\biehl\\anaconda3\\lib\\site-packages (from nltk>=3.1->textblob<0.16.0,>=0.15.3->spacytextblob) (2022.7.9)\n",
      "Requirement already satisfied: click in c:\\users\\biehl\\anaconda3\\lib\\site-packages (from nltk>=3.1->textblob<0.16.0,>=0.15.3->spacytextblob) (8.0.4)\n",
      "Requirement already satisfied: typing-extensions>=4.2.0 in c:\\users\\biehl\\anaconda3\\lib\\site-packages (from pydantic!=1.8,!=1.8.1,<1.11.0,>=1.7.4->spacy<4.0,>=3.0->spacytextblob) (4.4.0)\n",
      "Requirement already satisfied: certifi>=2017.4.17 in c:\\users\\biehl\\anaconda3\\lib\\site-packages (from requests<3.0.0,>=2.13.0->spacy<4.0,>=3.0->spacytextblob) (2022.12.7)\n",
      "Requirement already satisfied: urllib3<1.27,>=1.21.1 in c:\\users\\biehl\\anaconda3\\lib\\site-packages (from requests<3.0.0,>=2.13.0->spacy<4.0,>=3.0->spacytextblob) (1.26.14)\n",
      "Requirement already satisfied: idna<4,>=2.5 in c:\\users\\biehl\\anaconda3\\lib\\site-packages (from requests<3.0.0,>=2.13.0->spacy<4.0,>=3.0->spacytextblob) (3.4)\n",
      "Requirement already satisfied: charset-normalizer<3,>=2 in c:\\users\\biehl\\anaconda3\\lib\\site-packages (from requests<3.0.0,>=2.13.0->spacy<4.0,>=3.0->spacytextblob) (2.0.4)\n",
      "Requirement already satisfied: blis<0.8.0,>=0.7.8 in c:\\users\\biehl\\anaconda3\\lib\\site-packages (from thinc<8.2.0,>=8.1.8->spacy<4.0,>=3.0->spacytextblob) (0.7.9)\n",
      "Requirement already satisfied: confection<1.0.0,>=0.0.1 in c:\\users\\biehl\\anaconda3\\lib\\site-packages (from thinc<8.2.0,>=8.1.8->spacy<4.0,>=3.0->spacytextblob) (0.0.4)\n",
      "Requirement already satisfied: colorama in c:\\users\\biehl\\anaconda3\\lib\\site-packages (from tqdm<5.0.0,>=4.38.0->spacy<4.0,>=3.0->spacytextblob) (0.4.6)\n",
      "Requirement already satisfied: MarkupSafe>=0.23 in c:\\users\\biehl\\anaconda3\\lib\\site-packages (from jinja2->spacy<4.0,>=3.0->spacytextblob) (2.0.1)\n"
     ]
    },
    {
     "name": "stderr",
     "output_type": "stream",
     "text": [
      "WARNING: Ignoring invalid distribution -cipy (c:\\users\\biehl\\anaconda3\\lib\\site-packages)\n",
      "WARNING: Ignoring invalid distribution -cipy (c:\\users\\biehl\\anaconda3\\lib\\site-packages)\n",
      "WARNING: Ignoring invalid distribution -cipy (c:\\users\\biehl\\anaconda3\\lib\\site-packages)\n",
      "WARNING: Ignoring invalid distribution -cipy (c:\\users\\biehl\\anaconda3\\lib\\site-packages)\n",
      "WARNING: Ignoring invalid distribution -cipy (c:\\users\\biehl\\anaconda3\\lib\\site-packages)\n",
      "WARNING: Ignoring invalid distribution -cipy (c:\\users\\biehl\\anaconda3\\lib\\site-packages)\n"
     ]
    },
    {
     "name": "stdout",
     "output_type": "stream",
     "text": [
      "Requirement already satisfied: bs4 in c:\\users\\biehl\\anaconda3\\lib\\site-packages (0.0.1)"
     ]
    },
    {
     "name": "stderr",
     "output_type": "stream",
     "text": [
      "WARNING: Ignoring invalid distribution -cipy (c:\\users\\biehl\\anaconda3\\lib\\site-packages)\n",
      "WARNING: Ignoring invalid distribution -cipy (c:\\users\\biehl\\anaconda3\\lib\\site-packages)\n",
      "WARNING: Ignoring invalid distribution -cipy (c:\\users\\biehl\\anaconda3\\lib\\site-packages)\n",
      "WARNING: Ignoring invalid distribution -cipy (c:\\users\\biehl\\anaconda3\\lib\\site-packages)\n",
      "WARNING: Ignoring invalid distribution -cipy (c:\\users\\biehl\\anaconda3\\lib\\site-packages)\n",
      "WARNING: Ignoring invalid distribution -cipy (c:\\users\\biehl\\anaconda3\\lib\\site-packages)\n"
     ]
    },
    {
     "name": "stdout",
     "output_type": "stream",
     "text": [
      "\n",
      "Requirement already satisfied: beautifulsoup4 in c:\\users\\biehl\\anaconda3\\lib\\site-packages (from bs4) (4.11.1)\n",
      "Requirement already satisfied: soupsieve>1.2 in c:\\users\\biehl\\anaconda3\\lib\\site-packages (from beautifulsoup4->bs4) (2.3.2.post1)\n",
      "Requirement already satisfied: gensim==3.8.3 in c:\\users\\biehl\\anaconda3\\lib\\site-packages (3.8.3)\n",
      "Requirement already satisfied: numpy>=1.11.3 in c:\\users\\biehl\\anaconda3\\lib\\site-packages (from gensim==3.8.3) (1.24.2)\n",
      "Requirement already satisfied: scipy>=0.18.1 in c:\\users\\biehl\\anaconda3\\lib\\site-packages (from gensim==3.8.3) (1.10.1)\n",
      "Requirement already satisfied: smart-open>=1.8.1 in c:\\users\\biehl\\anaconda3\\lib\\site-packages (from gensim==3.8.3) (5.2.1)\n",
      "Requirement already satisfied: six>=1.5.0 in c:\\users\\biehl\\anaconda3\\lib\\site-packages (from gensim==3.8.3) (1.16.0)\n"
     ]
    },
    {
     "name": "stderr",
     "output_type": "stream",
     "text": [
      "WARNING: Ignoring invalid distribution -cipy (c:\\users\\biehl\\anaconda3\\lib\\site-packages)\n",
      "WARNING: Ignoring invalid distribution -cipy (c:\\users\\biehl\\anaconda3\\lib\\site-packages)\n",
      "WARNING: Ignoring invalid distribution -cipy (c:\\users\\biehl\\anaconda3\\lib\\site-packages)\n",
      "WARNING: Ignoring invalid distribution -cipy (c:\\users\\biehl\\anaconda3\\lib\\site-packages)\n",
      "WARNING: Ignoring invalid distribution -cipy (c:\\users\\biehl\\anaconda3\\lib\\site-packages)\n",
      "WARNING: Ignoring invalid distribution -cipy (c:\\users\\biehl\\anaconda3\\lib\\site-packages)\n"
     ]
    }
   ],
   "source": [
    "!pip install spacy\n",
    "!pip install pandas\n",
    "!pip install spacytextblob\n",
    "!pip install bs4\n",
    "!pip install gensim==3.8.3"
   ]
  },
  {
   "cell_type": "code",
   "execution_count": 17,
   "id": "2a392229",
   "metadata": {
    "scrolled": false
   },
   "outputs": [
    {
     "name": "stdout",
     "output_type": "stream",
     "text": [
      "Requirement already satisfied: matplotlib in c:\\users\\biehl\\anaconda3\\lib\\site-packages (3.6.2)\n",
      "Requirement already satisfied: numpy>=1.19 in c:\\users\\biehl\\anaconda3\\lib\\site-packages (from matplotlib) (1.24.2)\n",
      "Requirement already satisfied: cycler>=0.10 in c:\\users\\biehl\\anaconda3\\lib\\site-packages (from matplotlib) (0.11.0)\n",
      "Requirement already satisfied: pyparsing>=2.2.1 in c:\\users\\biehl\\anaconda3\\lib\\site-packages (from matplotlib) (3.0.9)\n",
      "Requirement already satisfied: contourpy>=1.0.1 in c:\\users\\biehl\\anaconda3\\lib\\site-packages (from matplotlib) (1.0.5)\n",
      "Requirement already satisfied: pillow>=6.2.0 in c:\\users\\biehl\\anaconda3\\lib\\site-packages (from matplotlib) (9.3.0)\n",
      "Requirement already satisfied: python-dateutil>=2.7 in c:\\users\\biehl\\anaconda3\\lib\\site-packages (from matplotlib) (2.8.2)\n",
      "Requirement already satisfied: fonttools>=4.22.0 in c:\\users\\biehl\\anaconda3\\lib\\site-packages (from matplotlib) (4.25.0)\n",
      "Requirement already satisfied: kiwisolver>=1.0.1 in c:\\users\\biehl\\anaconda3\\lib\\site-packages (from matplotlib) (1.4.4)\n",
      "Requirement already satisfied: packaging>=20.0 in c:\\users\\biehl\\anaconda3\\lib\\site-packages (from matplotlib) (22.0)\n",
      "Requirement already satisfied: six>=1.5 in c:\\users\\biehl\\anaconda3\\lib\\site-packages (from python-dateutil>=2.7->matplotlib) (1.16.0)\n"
     ]
    },
    {
     "name": "stderr",
     "output_type": "stream",
     "text": [
      "WARNING: Ignoring invalid distribution -cipy (c:\\users\\biehl\\anaconda3\\lib\\site-packages)\n",
      "WARNING: Ignoring invalid distribution -cipy (c:\\users\\biehl\\anaconda3\\lib\\site-packages)\n",
      "WARNING: Ignoring invalid distribution -cipy (c:\\users\\biehl\\anaconda3\\lib\\site-packages)\n",
      "WARNING: Ignoring invalid distribution -cipy (c:\\users\\biehl\\anaconda3\\lib\\site-packages)\n",
      "WARNING: Ignoring invalid distribution -cipy (c:\\users\\biehl\\anaconda3\\lib\\site-packages)\n",
      "WARNING: Ignoring invalid distribution -cipy (c:\\users\\biehl\\anaconda3\\lib\\site-packages)\n"
     ]
    },
    {
     "name": "stdout",
     "output_type": "stream",
     "text": [
      "Requirement already satisfied: scipy in c:\\users\\biehl\\anaconda3\\lib\\site-packages (1.10.1)\n",
      "Requirement already satisfied: numpy<1.27.0,>=1.19.5 in c:\\users\\biehl\\anaconda3\\lib\\site-packages (from scipy) (1.24.2)\n"
     ]
    },
    {
     "name": "stderr",
     "output_type": "stream",
     "text": [
      "WARNING: Ignoring invalid distribution -cipy (c:\\users\\biehl\\anaconda3\\lib\\site-packages)\n",
      "WARNING: Ignoring invalid distribution -cipy (c:\\users\\biehl\\anaconda3\\lib\\site-packages)\n",
      "WARNING: Ignoring invalid distribution -cipy (c:\\users\\biehl\\anaconda3\\lib\\site-packages)\n",
      "WARNING: Ignoring invalid distribution -cipy (c:\\users\\biehl\\anaconda3\\lib\\site-packages)\n",
      "WARNING: Ignoring invalid distribution -cipy (c:\\users\\biehl\\anaconda3\\lib\\site-packages)\n",
      "WARNING: Ignoring invalid distribution -cipy (c:\\users\\biehl\\anaconda3\\lib\\site-packages)\n"
     ]
    },
    {
     "name": "stdout",
     "output_type": "stream",
     "text": [
      "Requirement already satisfied: newspaper3k in c:\\users\\biehl\\anaconda3\\lib\\site-packages (0.2.8)\n",
      "Requirement already satisfied: Pillow>=3.3.0 in c:\\users\\biehl\\anaconda3\\lib\\site-packages (from newspaper3k) (9.3.0)\n",
      "Requirement already satisfied: beautifulsoup4>=4.4.1 in c:\\users\\biehl\\anaconda3\\lib\\site-packages (from newspaper3k) (4.11.1)\n",
      "Requirement already satisfied: nltk>=3.2.1 in c:\\users\\biehl\\anaconda3\\lib\\site-packages (from newspaper3k) (3.7)\n",
      "Requirement already satisfied: lxml>=3.6.0 in c:\\users\\biehl\\anaconda3\\lib\\site-packages (from newspaper3k) (4.9.1)\n",
      "Requirement already satisfied: tldextract>=2.0.1 in c:\\users\\biehl\\anaconda3\\lib\\site-packages (from newspaper3k) (3.2.0)\n",
      "Requirement already satisfied: requests>=2.10.0 in c:\\users\\biehl\\anaconda3\\lib\\site-packages (from newspaper3k) (2.28.1)\n",
      "Requirement already satisfied: python-dateutil>=2.5.3 in c:\\users\\biehl\\anaconda3\\lib\\site-packages (from newspaper3k) (2.8.2)\n",
      "Requirement already satisfied: feedparser>=5.2.1 in c:\\users\\biehl\\anaconda3\\lib\\site-packages (from newspaper3k) (6.0.10)\n",
      "Requirement already satisfied: tinysegmenter==0.3 in c:\\users\\biehl\\anaconda3\\lib\\site-packages (from newspaper3k) (0.3)\n",
      "Requirement already satisfied: feedfinder2>=0.0.4 in c:\\users\\biehl\\anaconda3\\lib\\site-packages (from newspaper3k) (0.0.4)\n",
      "Requirement already satisfied: jieba3k>=0.35.1 in c:\\users\\biehl\\anaconda3\\lib\\site-packages (from newspaper3k) (0.35.1)\n",
      "Requirement already satisfied: PyYAML>=3.11 in c:\\users\\biehl\\anaconda3\\lib\\site-packages (from newspaper3k) (6.0)\n",
      "Requirement already satisfied: cssselect>=0.9.2 in c:\\users\\biehl\\anaconda3\\lib\\site-packages (from newspaper3k) (1.1.0)\n",
      "Requirement already satisfied: soupsieve>1.2 in c:\\users\\biehl\\anaconda3\\lib\\site-packages (from beautifulsoup4>=4.4.1->newspaper3k) (2.3.2.post1)\n",
      "Requirement already satisfied: six in c:\\users\\biehl\\anaconda3\\lib\\site-packages (from feedfinder2>=0.0.4->newspaper3k) (1.16.0)\n",
      "Requirement already satisfied: sgmllib3k in c:\\users\\biehl\\anaconda3\\lib\\site-packages (from feedparser>=5.2.1->newspaper3k) (1.0.0)\n",
      "Requirement already satisfied: click in c:\\users\\biehl\\anaconda3\\lib\\site-packages (from nltk>=3.2.1->newspaper3k) (8.0.4)\n",
      "Requirement already satisfied: tqdm in c:\\users\\biehl\\anaconda3\\lib\\site-packages (from nltk>=3.2.1->newspaper3k) (4.64.1)\n",
      "Requirement already satisfied: regex>=2021.8.3 in c:\\users\\biehl\\anaconda3\\lib\\site-packages (from nltk>=3.2.1->newspaper3k) (2022.7.9)\n",
      "Requirement already satisfied: joblib in c:\\users\\biehl\\anaconda3\\lib\\site-packages (from nltk>=3.2.1->newspaper3k) (1.2.0)\n",
      "Requirement already satisfied: certifi>=2017.4.17 in c:\\users\\biehl\\anaconda3\\lib\\site-packages (from requests>=2.10.0->newspaper3k) (2022.12.7)\n",
      "Requirement already satisfied: urllib3<1.27,>=1.21.1 in c:\\users\\biehl\\anaconda3\\lib\\site-packages (from requests>=2.10.0->newspaper3k) (1.26.14)\n",
      "Requirement already satisfied: idna<4,>=2.5 in c:\\users\\biehl\\anaconda3\\lib\\site-packages (from requests>=2.10.0->newspaper3k) (3.4)\n",
      "Requirement already satisfied: charset-normalizer<3,>=2 in c:\\users\\biehl\\anaconda3\\lib\\site-packages (from requests>=2.10.0->newspaper3k) (2.0.4)\n",
      "Requirement already satisfied: requests-file>=1.4 in c:\\users\\biehl\\anaconda3\\lib\\site-packages (from tldextract>=2.0.1->newspaper3k) (1.5.1)\n",
      "Requirement already satisfied: filelock>=3.0.8 in c:\\users\\biehl\\anaconda3\\lib\\site-packages (from tldextract>=2.0.1->newspaper3k) (3.9.0)\n",
      "Requirement already satisfied: colorama in c:\\users\\biehl\\anaconda3\\lib\\site-packages (from click->nltk>=3.2.1->newspaper3k) (0.4.6)\n"
     ]
    },
    {
     "name": "stderr",
     "output_type": "stream",
     "text": [
      "WARNING: Ignoring invalid distribution -cipy (c:\\users\\biehl\\anaconda3\\lib\\site-packages)\n",
      "WARNING: Ignoring invalid distribution -cipy (c:\\users\\biehl\\anaconda3\\lib\\site-packages)\n",
      "WARNING: Ignoring invalid distribution -cipy (c:\\users\\biehl\\anaconda3\\lib\\site-packages)\n",
      "WARNING: Ignoring invalid distribution -cipy (c:\\users\\biehl\\anaconda3\\lib\\site-packages)\n",
      "WARNING: Ignoring invalid distribution -cipy (c:\\users\\biehl\\anaconda3\\lib\\site-packages)\n",
      "WARNING: Ignoring invalid distribution -cipy (c:\\users\\biehl\\anaconda3\\lib\\site-packages)\n"
     ]
    }
   ],
   "source": [
    "!pip install matplotlib\n",
    "!pip install scipy\n",
    "!pip install newspaper3k"
   ]
  },
  {
   "cell_type": "code",
   "execution_count": 18,
   "id": "f615a0f4",
   "metadata": {},
   "outputs": [
    {
     "name": "stdout",
     "output_type": "stream",
     "text": [
      "Collecting en-core-web-sm==3.5.0\n",
      "  Downloading https://github.com/explosion/spacy-models/releases/download/en_core_web_sm-3.5.0/en_core_web_sm-3.5.0-py3-none-any.whl (12.8 MB)\n",
      "     --------------------------------------- 12.8/12.8 MB 18.2 MB/s eta 0:00:00\n",
      "Requirement already satisfied: spacy<3.6.0,>=3.5.0 in c:\\users\\biehl\\anaconda3\\lib\\site-packages (from en-core-web-sm==3.5.0) (3.5.2)\n",
      "Requirement already satisfied: murmurhash<1.1.0,>=0.28.0 in c:\\users\\biehl\\anaconda3\\lib\\site-packages (from spacy<3.6.0,>=3.5.0->en-core-web-sm==3.5.0) (1.0.9)\n",
      "Requirement already satisfied: smart-open<7.0.0,>=5.2.1 in c:\\users\\biehl\\anaconda3\\lib\\site-packages (from spacy<3.6.0,>=3.5.0->en-core-web-sm==3.5.0) (5.2.1)\n",
      "Requirement already satisfied: setuptools in c:\\users\\biehl\\anaconda3\\lib\\site-packages (from spacy<3.6.0,>=3.5.0->en-core-web-sm==3.5.0) (65.6.3)\n",
      "Requirement already satisfied: tqdm<5.0.0,>=4.38.0 in c:\\users\\biehl\\anaconda3\\lib\\site-packages (from spacy<3.6.0,>=3.5.0->en-core-web-sm==3.5.0) (4.64.1)\n",
      "Requirement already satisfied: pathy>=0.10.0 in c:\\users\\biehl\\anaconda3\\lib\\site-packages (from spacy<3.6.0,>=3.5.0->en-core-web-sm==3.5.0) (0.10.1)\n",
      "Requirement already satisfied: typer<0.8.0,>=0.3.0 in c:\\users\\biehl\\anaconda3\\lib\\site-packages (from spacy<3.6.0,>=3.5.0->en-core-web-sm==3.5.0) (0.7.0)\n",
      "Requirement already satisfied: catalogue<2.1.0,>=2.0.6 in c:\\users\\biehl\\anaconda3\\lib\\site-packages (from spacy<3.6.0,>=3.5.0->en-core-web-sm==3.5.0) (2.0.8)\n",
      "Requirement already satisfied: requests<3.0.0,>=2.13.0 in c:\\users\\biehl\\anaconda3\\lib\\site-packages (from spacy<3.6.0,>=3.5.0->en-core-web-sm==3.5.0) (2.28.1)\n",
      "Requirement already satisfied: cymem<2.1.0,>=2.0.2 in c:\\users\\biehl\\anaconda3\\lib\\site-packages (from spacy<3.6.0,>=3.5.0->en-core-web-sm==3.5.0) (2.0.7)\n",
      "Requirement already satisfied: pydantic!=1.8,!=1.8.1,<1.11.0,>=1.7.4 in c:\\users\\biehl\\anaconda3\\lib\\site-packages (from spacy<3.6.0,>=3.5.0->en-core-web-sm==3.5.0) (1.10.7)\n",
      "Requirement already satisfied: wasabi<1.2.0,>=0.9.1 in c:\\users\\biehl\\anaconda3\\lib\\site-packages (from spacy<3.6.0,>=3.5.0->en-core-web-sm==3.5.0) (1.1.1)\n",
      "Requirement already satisfied: numpy>=1.15.0 in c:\\users\\biehl\\anaconda3\\lib\\site-packages (from spacy<3.6.0,>=3.5.0->en-core-web-sm==3.5.0) (1.24.2)\n",
      "Requirement already satisfied: preshed<3.1.0,>=3.0.2 in c:\\users\\biehl\\anaconda3\\lib\\site-packages (from spacy<3.6.0,>=3.5.0->en-core-web-sm==3.5.0) (3.0.8)\n",
      "Requirement already satisfied: srsly<3.0.0,>=2.4.3 in c:\\users\\biehl\\anaconda3\\lib\\site-packages (from spacy<3.6.0,>=3.5.0->en-core-web-sm==3.5.0) (2.4.6)\n",
      "Requirement already satisfied: langcodes<4.0.0,>=3.2.0 in c:\\users\\biehl\\anaconda3\\lib\\site-packages (from spacy<3.6.0,>=3.5.0->en-core-web-sm==3.5.0) (3.3.0)\n",
      "Requirement already satisfied: packaging>=20.0 in c:\\users\\biehl\\anaconda3\\lib\\site-packages (from spacy<3.6.0,>=3.5.0->en-core-web-sm==3.5.0) (22.0)\n",
      "Requirement already satisfied: spacy-legacy<3.1.0,>=3.0.11 in c:\\users\\biehl\\anaconda3\\lib\\site-packages (from spacy<3.6.0,>=3.5.0->en-core-web-sm==3.5.0) (3.0.12)\n",
      "Requirement already satisfied: thinc<8.2.0,>=8.1.8 in c:\\users\\biehl\\anaconda3\\lib\\site-packages (from spacy<3.6.0,>=3.5.0->en-core-web-sm==3.5.0) (8.1.9)\n",
      "Requirement already satisfied: jinja2 in c:\\users\\biehl\\anaconda3\\lib\\site-packages (from spacy<3.6.0,>=3.5.0->en-core-web-sm==3.5.0) (2.11.3)\n",
      "Requirement already satisfied: spacy-loggers<2.0.0,>=1.0.0 in c:\\users\\biehl\\anaconda3\\lib\\site-packages (from spacy<3.6.0,>=3.5.0->en-core-web-sm==3.5.0) (1.0.4)\n",
      "Requirement already satisfied: typing-extensions>=4.2.0 in c:\\users\\biehl\\anaconda3\\lib\\site-packages (from pydantic!=1.8,!=1.8.1,<1.11.0,>=1.7.4->spacy<3.6.0,>=3.5.0->en-core-web-sm==3.5.0) (4.4.0)\n",
      "Requirement already satisfied: idna<4,>=2.5 in c:\\users\\biehl\\anaconda3\\lib\\site-packages (from requests<3.0.0,>=2.13.0->spacy<3.6.0,>=3.5.0->en-core-web-sm==3.5.0) (3.4)\n",
      "Requirement already satisfied: urllib3<1.27,>=1.21.1 in c:\\users\\biehl\\anaconda3\\lib\\site-packages (from requests<3.0.0,>=2.13.0->spacy<3.6.0,>=3.5.0->en-core-web-sm==3.5.0) (1.26.14)\n",
      "Requirement already satisfied: charset-normalizer<3,>=2 in c:\\users\\biehl\\anaconda3\\lib\\site-packages (from requests<3.0.0,>=2.13.0->spacy<3.6.0,>=3.5.0->en-core-web-sm==3.5.0) (2.0.4)\n",
      "Requirement already satisfied: certifi>=2017.4.17 in c:\\users\\biehl\\anaconda3\\lib\\site-packages (from requests<3.0.0,>=2.13.0->spacy<3.6.0,>=3.5.0->en-core-web-sm==3.5.0) (2022.12.7)\n",
      "Requirement already satisfied: blis<0.8.0,>=0.7.8 in c:\\users\\biehl\\anaconda3\\lib\\site-packages (from thinc<8.2.0,>=8.1.8->spacy<3.6.0,>=3.5.0->en-core-web-sm==3.5.0) (0.7.9)\n",
      "Requirement already satisfied: confection<1.0.0,>=0.0.1 in c:\\users\\biehl\\anaconda3\\lib\\site-packages (from thinc<8.2.0,>=8.1.8->spacy<3.6.0,>=3.5.0->en-core-web-sm==3.5.0) (0.0.4)\n",
      "Requirement already satisfied: colorama in c:\\users\\biehl\\anaconda3\\lib\\site-packages (from tqdm<5.0.0,>=4.38.0->spacy<3.6.0,>=3.5.0->en-core-web-sm==3.5.0) (0.4.6)\n",
      "Requirement already satisfied: click<9.0.0,>=7.1.1 in c:\\users\\biehl\\anaconda3\\lib\\site-packages (from typer<0.8.0,>=0.3.0->spacy<3.6.0,>=3.5.0->en-core-web-sm==3.5.0) (8.0.4)\n",
      "Requirement already satisfied: MarkupSafe>=0.23 in c:\\users\\biehl\\anaconda3\\lib\\site-packages (from jinja2->spacy<3.6.0,>=3.5.0->en-core-web-sm==3.5.0) (2.0.1)\n",
      "\u001b[38;5;2m✔ Download and installation successful\u001b[0m\n",
      "You can now load the package via spacy.load('en_core_web_sm')\n"
     ]
    },
    {
     "name": "stderr",
     "output_type": "stream",
     "text": [
      "WARNING: Ignoring invalid distribution -cipy (c:\\users\\biehl\\anaconda3\\lib\\site-packages)\n",
      "WARNING: Ignoring invalid distribution -cipy (c:\\users\\biehl\\anaconda3\\lib\\site-packages)\n",
      "WARNING: Ignoring invalid distribution -cipy (c:\\users\\biehl\\anaconda3\\lib\\site-packages)\n",
      "WARNING: Ignoring invalid distribution -cipy (c:\\users\\biehl\\anaconda3\\lib\\site-packages)\n",
      "WARNING: Ignoring invalid distribution -cipy (c:\\users\\biehl\\anaconda3\\lib\\site-packages)\n",
      "WARNING: Ignoring invalid distribution -cipy (c:\\users\\biehl\\anaconda3\\lib\\site-packages)\n"
     ]
    }
   ],
   "source": [
    "!python -m spacy download en_core_web_sm"
   ]
  },
  {
   "cell_type": "code",
   "execution_count": 19,
   "id": "b7664ad9",
   "metadata": {},
   "outputs": [],
   "source": [
    "import spacy\n",
    "from spacytextblob.spacytextblob import SpacyTextBlob\n",
    "import pandas as pd\n",
    "from bs4 import BeautifulSoup\n",
    "import requests\n",
    "from newspaper import Article"
   ]
  },
  {
   "cell_type": "code",
   "execution_count": 20,
   "id": "0f9f4830",
   "metadata": {},
   "outputs": [],
   "source": [
    "# For Topic Modeling\n",
    "import gensim\n",
    "from gensim import corpora, models\n",
    "from gensim.corpora import Dictionary\n",
    "from gensim.models.coherencemodel import CoherenceModel\n",
    "from gensim.models.ldamodel import LdaModel\n",
    "from gensim.models import FastText\n",
    "\n",
    "import numpy as np\n",
    "import os\n",
    "from random import shuffle\n",
    "import re\n",
    "import matplotlib.pyplot as plt \n",
    "import numpy as np\n",
    "import pyLDAvis\n",
    "import pyLDAvis.gensim"
   ]
  },
  {
   "cell_type": "code",
   "execution_count": 21,
   "id": "1652910d",
   "metadata": {},
   "outputs": [
    {
     "data": {
      "text/plain": [
       "<spacy.pipeline.sentencizer.Sentencizer at 0x17014c83380>"
      ]
     },
     "execution_count": 21,
     "metadata": {},
     "output_type": "execute_result"
    }
   ],
   "source": [
    "# Loading our two pipelines\n",
    "nlp = spacy.load('en_core_web_sm')\n",
    "nlp.add_pipe('spacytextblob')\n",
    "\n",
    "config = {\"punct_chars\": [\".\", \"?\", \"!\", \"。\"]}\n",
    "nlp.add_pipe('sentencizer')"
   ]
  },
  {
   "cell_type": "code",
   "execution_count": 22,
   "id": "752d1380",
   "metadata": {},
   "outputs": [],
   "source": [
    "# Using panda to load in our .csv file\n",
    "df = pd.read_csv(\"urls.csv\") # File we are checking\n",
    "urls = df[\"Address\"].tolist() # Column name we are checking\n",
    "url_sent_score = []\n",
    "url_sent_label = []\n",
    "url_subj_score = []\n",
    "url_subj_label = []\n",
    "total_pos = []\n",
    "total_neg = []\n",
    "topic_sentiment = []"
   ]
  },
  {
   "cell_type": "code",
   "execution_count": 23,
   "id": "81e779a3",
   "metadata": {},
   "outputs": [],
   "source": [
    "def get_named_entities(doc):\n",
    "    ent_list = []\n",
    "    for ent in doc.ents:\n",
    "        ent_list.append((ent.text,ent.label_))\n",
    "    return ent_list\n",
    "\n",
    "def get_sentences(doc):\n",
    "    return doc.sents\n",
    "\n",
    "def get_sentence_list(doc):\n",
    "    return [sent for sent in doc.sents]\n",
    "\n",
    "#Takes a doc object from spacy and returns a tuple list of form (sentence, sentiment of sentence) for all sentences\n",
    "def sentence_sentiment_from_doc(doc):\n",
    "    sentences = get_sentences(doc)\n",
    "    tuple_list = []\n",
    "    for sentence in sentences:\n",
    "        sent_doc = nlp(sentence.text)\n",
    "        tuple_list.append((sentence.text,sent_doc._.blob.polarity))\n",
    "    return tuple_list\n",
    "\n",
    "#Finds all named entities (does not filter by person, date, etc) and returns sentiment value based on the sentences they\n",
    "#are included in. Returns dictionary of form {entity name : sentiment value}\n",
    "def sentence_sentiment_on_named_entities(doc):\n",
    "    named_ent_list = get_named_entities(doc)\n",
    "    sentence_sentiment_list = sentence_sentiment_from_doc(doc)\n",
    "    return_dict = {}\n",
    "    \n",
    "    for (name, label) in named_ent_list:\n",
    "        #print(name, \"\\n\")\n",
    "        #print(type(name))\n",
    "        return_dict[name] = 0\n",
    "        \n",
    "        for (sentence, sentiment) in sentence_sentiment_list:\n",
    "             if sentence.find(name) != -1:\n",
    "                    #print(name,sentence)\n",
    "                    return_dict[name] += sentiment\n",
    "    \n",
    "    return return_dict\n",
    "\n",
    "#takes in a single topic word, the word's weight, and the doc, and returns sentiment of that word within the doc\n",
    "def sentence_level_sentiment_of_word(word, weight, doc):\n",
    "    sentence_sentiment_list = sentence_sentiment_from_doc(doc)\n",
    "    sentiment_total = 0\n",
    "    \n",
    "    for (sentence, sentiment) in sentence_sentiment_list:\n",
    "             if sentence.find(word) != -1:\n",
    "                    #print(name,sentence)\n",
    "                    sentiment_total += sentiment\n",
    "    return sentiment_total\n",
    "\n",
    "def weighted_word_sentiment(word,weight, doc):\n",
    "    sentiment = sentence_level_sentiment_of_word(word, weight, doc)\n",
    "    weighted_sentiment = sentiment * weight\n",
    "    return weighted_sentiment"
   ]
  },
  {
   "cell_type": "code",
   "execution_count": 24,
   "id": "85340577",
   "metadata": {
    "scrolled": false
   },
   "outputs": [
    {
     "name": "stdout",
     "output_type": "stream",
     "text": [
      "0\n",
      "The average sentiment score was: 0.10666666666666669\n",
      "The average subjectivity score was: 0.41333333333333333\n"
     ]
    },
    {
     "data": {
      "text/html": [
       "<div>\n",
       "<style scoped>\n",
       "    .dataframe tbody tr th:only-of-type {\n",
       "        vertical-align: middle;\n",
       "    }\n",
       "\n",
       "    .dataframe tbody tr th {\n",
       "        vertical-align: top;\n",
       "    }\n",
       "\n",
       "    .dataframe thead th {\n",
       "        text-align: right;\n",
       "    }\n",
       "</style>\n",
       "<table border=\"1\" class=\"dataframe\">\n",
       "  <thead>\n",
       "    <tr style=\"text-align: right;\">\n",
       "      <th></th>\n",
       "      <th>Address</th>\n",
       "      <th>Sentiment Score</th>\n",
       "      <th>Sentiment Label</th>\n",
       "      <th>Subjectivity Score</th>\n",
       "      <th>Positive Words</th>\n",
       "      <th>Negative Words</th>\n",
       "      <th>Topic Sentiment</th>\n",
       "    </tr>\n",
       "  </thead>\n",
       "  <tbody>\n",
       "    <tr>\n",
       "      <th>0</th>\n",
       "      <td>https://www.nbcnews.com/news/us-news/ohio-dera...</td>\n",
       "      <td>0.13</td>\n",
       "      <td>Neutral Positive</td>\n",
       "      <td>0.43</td>\n",
       "      <td>very, able, large, more, particular, new, clea...</td>\n",
       "      <td>afraid, little, distant, waste, other</td>\n",
       "      <td>{'east palestine': 0.6363636363636364, 'one': ...</td>\n",
       "    </tr>\n",
       "    <tr>\n",
       "      <th>1</th>\n",
       "      <td>https://www.cnn.com/2023/02/28/health/moderate...</td>\n",
       "      <td>0.17</td>\n",
       "      <td>Positive</td>\n",
       "      <td>0.46</td>\n",
       "      <td>able, easy, excellent, busy, good, marked, com...</td>\n",
       "      <td>mean, little, difficult, average, active, cent...</td>\n",
       "      <td>{'cnn': 0.7666666666666666, 'seven': 0.5, 'a b...</td>\n",
       "    </tr>\n",
       "    <tr>\n",
       "      <th>2</th>\n",
       "      <td>https://abcnews.go.com/US/chicago-cop-shot-kil...</td>\n",
       "      <td>0.02</td>\n",
       "      <td>Neutral</td>\n",
       "      <td>0.35</td>\n",
       "      <td>able, large, far, near, striking</td>\n",
       "      <td>down, killed, terrible</td>\n",
       "      <td>{'five years': 0.0, '18-year-old': 0.0, 'thurs...</td>\n",
       "    </tr>\n",
       "  </tbody>\n",
       "</table>\n",
       "</div>"
      ],
      "text/plain": [
       "                                             Address  Sentiment Score  \\\n",
       "0  https://www.nbcnews.com/news/us-news/ohio-dera...             0.13   \n",
       "1  https://www.cnn.com/2023/02/28/health/moderate...             0.17   \n",
       "2  https://abcnews.go.com/US/chicago-cop-shot-kil...             0.02   \n",
       "\n",
       "    Sentiment Label  Subjectivity Score  \\\n",
       "0  Neutral Positive                0.43   \n",
       "1          Positive                0.46   \n",
       "2           Neutral                0.35   \n",
       "\n",
       "                                      Positive Words  \\\n",
       "0  very, able, large, more, particular, new, clea...   \n",
       "1  able, easy, excellent, busy, good, marked, com...   \n",
       "2                   able, large, far, near, striking   \n",
       "\n",
       "                                      Negative Words  \\\n",
       "0              afraid, little, distant, waste, other   \n",
       "1  mean, little, difficult, average, active, cent...   \n",
       "2                             down, killed, terrible   \n",
       "\n",
       "                                     Topic Sentiment  \n",
       "0  {'east palestine': 0.6363636363636364, 'one': ...  \n",
       "1  {'cnn': 0.7666666666666666, 'seven': 0.5, 'a b...  \n",
       "2  {'five years': 0.0, '18-year-old': 0.0, 'thurs...  "
      ]
     },
     "execution_count": 24,
     "metadata": {},
     "output_type": "execute_result"
    }
   ],
   "source": [
    "#https://pypi.org/project/spacytextblob/\n",
    "for count, x in enumerate(urls):\n",
    "    if(count % 10 == 0):\n",
    "        print(count)\n",
    "    try:\n",
    "        url = x\n",
    "        \n",
    "        article = Article(url)\n",
    "        article.download()\n",
    "        article.parse()\n",
    "#         headers = {'user-agent': 'Mozilla/5.0 (Macintosh; Intel Mac OS X 10_13_0) AppleWebKit/537.36 (KHTML, like Gecko) Chrome/78.0.3904.108 Safari/537.36'}\n",
    "#         res = requests.get(url,headers=headers)\n",
    "#         html_page = res.text\n",
    "\n",
    "#         soup = BeautifulSoup(html_page, 'html.parser')\n",
    "#         for script in soup([\"script\", \"style\",\"meta\",\"label\",\"header\",\"footer\"]):\n",
    "#             script.decompose()\n",
    "#         page_text = (soup.get_text()).lower()\n",
    "#         page_text = page_text.strip().replace(\"  \",\"\")\n",
    "#         page_text = \"\".join([s for s in page_text.splitlines(True) if s.strip(\"\\r\\n\")])\n",
    "        \n",
    "        page_text = (article.text).lower()\n",
    "        page_text = page_text.strip().replace(\"  \",\"\")\n",
    "        page_text = \"\".join([s for s in page_text.splitlines(True) if s.strip(\"\\r\\n\")])\n",
    "        \n",
    "        # Start the sentiment analysis now\n",
    "        doc = nlp(page_text)\n",
    "        sentiment = doc._.blob.polarity\n",
    "        sentiment = round(sentiment,2)\n",
    "        subjectivity = doc._.blob.subjectivity\n",
    "        subjectivity = round(subjectivity,2)\n",
    "        \n",
    "#         if count / 3 == 1:\n",
    "#             print(\"enter test spot\\n\")\n",
    "#             #ent_list = get_named_entities(doc)\n",
    "#             #print(ent_list)\n",
    "#             sentence_sentiment_list = sentence_sentiment_from_doc(doc)\n",
    "#             #sent_1 = sentence_sentiment_list.pop()\n",
    "#             #print(sent_1)\n",
    "#             #print(type(sent_1[0]))\n",
    "#             print(sentence_sentiment_list)\n",
    "#             topic_level_sentiment = sentence_sentiment_on_named_entities(doc)\n",
    "#             #print(topic_level_sentiment)\n",
    "#             print(sentence_level_sentiment_of_word('kansas',0,doc))\n",
    "#             break\n",
    "            \n",
    "        #print(\"\\n\")\n",
    "\n",
    "        # Gives positive or negative label\n",
    "        if sentiment >= -0.033 and sentiment <= 0.043:\n",
    "            sent_label = \"Neutral\"\n",
    "        elif sentiment > 0.043 and sentiment < 0.143:\n",
    "            sent_label = \"Neutral Positive\"\n",
    "        elif sentiment > 0.143:\n",
    "            sent_label = \"Positive\"\n",
    "        elif sentiment < -0.033 and sentiment > -0.062:\n",
    "            sent_label = \"Neutral Negative\"\n",
    "        elif sentiment < -0.062:\n",
    "            sent_label = \"Negative\"\n",
    "\n",
    "        #Document's topic-level sentiment assessment of named entities\n",
    "        topic_level_sentiment = sentence_sentiment_on_named_entities(doc)\n",
    "        topic_sentiment.append(topic_level_sentiment)\n",
    "        \n",
    "        #Adding label, sentiment, subjectivity of document\n",
    "        url_sent_label.append(sent_label)\n",
    "        url_sent_score.append(sentiment)\n",
    "        url_subj_score.append(subjectivity)\n",
    "\n",
    "        positive_words = []\n",
    "        negative_words = []\n",
    "\n",
    "        for x in doc._.blob.sentiment_assessments.assessments:\n",
    "          if x[1] > 0:\n",
    "            positive_words.append(x[0][0])\n",
    "          elif x[1] < 0:\n",
    "            negative_words.append(x[0][0])\n",
    "          else:\n",
    "            pass\n",
    "\n",
    "        total_pos.append(', '.join(set(positive_words)))\n",
    "        total_neg.append(', '.join(set(negative_words)))\n",
    "    except:\n",
    "        url_sent_label.append(\"Error\")\n",
    "        url_sent_score.append(0.0)\n",
    "        url_subj_score.append(0.0)\n",
    "        topic_sentiment.append({'Error':0})\n",
    "\n",
    "        positive_words = []\n",
    "        negative_words = []\n",
    "\n",
    "        total_pos.append(', '.join(set(positive_words)))\n",
    "        total_neg.append(', '.join(set(negative_words)))\n",
    "\n",
    "print(\"The average sentiment score was: \" + str(sum(url_sent_score) / len(url_sent_score)))\n",
    "print(\"The average subjectivity score was: \" + str(sum(url_subj_score) / len(url_subj_score)))\n",
    "\n",
    "df[\"Sentiment Score\"] = url_sent_score\n",
    "df[\"Sentiment Label\"] = url_sent_label\n",
    "df[\"Subjectivity Score\"] = url_subj_score\n",
    "df[\"Positive Words\"] = total_pos\n",
    "df[\"Negative Words\"] = total_neg\n",
    "df[\"Topic Sentiment\"] = topic_sentiment\n",
    "\n",
    "df"
   ]
  },
  {
   "cell_type": "code",
   "execution_count": 25,
   "id": "678839ee",
   "metadata": {},
   "outputs": [],
   "source": [
    "# store as list of lists of words\n",
    "x = get_sentence_list(doc)\n",
    "input_text = [str(sentence) for sentence in x]\n",
    "\n",
    "sentences_ted = []\n",
    "for sent_str in input_text:\n",
    "    tokens = re.sub(r\"[^a-z0-9]+\", \" \", sent_str.lower()).split()\n",
    "    sentences_ted.append(tokens)\n",
    "\n",
    "stoplist = []\n",
    "with open('stopwords') as openfileobject:\n",
    "    for line in openfileobject:\n",
    "        stoplist.append(line[:-1])\n",
    "stoplist = set(stoplist)\n",
    "\n",
    "for i in range(len(sentences_ted)):\n",
    "    for word in reversed(sentences_ted[i]):\n",
    "        if word in stoplist:\n",
    "            sentences_ted[i].remove(word)\n",
    "\n",
    "dictionary = Dictionary(sentences_ted)\n",
    "dictionary.filter_extremes(no_below=0.1, no_above=0.9)\n",
    "bow_corpus = [dictionary.doc2bow(text) for text in sentences_ted]"
   ]
  },
  {
   "cell_type": "code",
   "execution_count": 26,
   "id": "7ab6cf7f",
   "metadata": {},
   "outputs": [
    {
     "data": {
      "image/png": "[encoded data removed]",
      "text/plain": [
       "<Figure size 640x480 with 1 Axes>"
      ]
     },
     "metadata": {},
     "output_type": "display_data"
    }
   ],
   "source": [
    "def compute_coherence_values(dictionary, corpus, texts, limit, start=2, step=3):\n",
    "    coherence_values = []\n",
    "    model_list = []\n",
    "    for num_topics in range(start, limit, step):\n",
    "        model = LdaModel(bow_corpus, num_topics=num_topics, id2word=dictionary, passes=10)\n",
    "        model_list.append(model)\n",
    "        coherencemodel = CoherenceModel(model=model, texts=sentences_ted, dictionary=dictionary, coherence='c_v')\n",
    "        coherence_values.append(coherencemodel.get_coherence())\n",
    "\n",
    "    return model_list, coherence_values\n",
    "\n",
    "model_list, coherence_values = compute_coherence_values(dictionary=dictionary, corpus=bow_corpus, texts=sentences_ted, start=2, limit=40, step=4)\n",
    "# Show graph\n",
    "limit=40; start=2; step=4;\n",
    "x = range(start, limit, step)\n",
    "plt.plot(x, coherence_values)\n",
    "plt.xlabel(\"Num Topics\")\n",
    "plt.ylabel(\"Coherence score\")\n",
    "plt.legend((\"coherence_values\"), loc='best')\n",
    "plt.show()"
   ]
  },
  {
   "cell_type": "code",
   "execution_count": 27,
   "id": "34d63e84",
   "metadata": {},
   "outputs": [
    {
     "name": "stdout",
     "output_type": "stream",
     "text": [
      "The 10 topics gives the highest coherence score \n",
      "of 0.5042535590897395\n"
     ]
    }
   ],
   "source": [
    "best_result_index = coherence_values.index(max(coherence_values))\n",
    "optimal_model = model_list[best_result_index]\n",
    "# Select the model and print the topics\n",
    "model_topics = optimal_model.show_topics(formatted=False)\n",
    "print(f'''The {x[best_result_index]} topics gives the highest coherence score \n",
    "of {coherence_values[best_result_index]}''')"
   ]
  },
  {
   "cell_type": "code",
   "execution_count": 28,
   "id": "a23d6a97",
   "metadata": {},
   "outputs": [
    {
     "name": "stderr",
     "output_type": "stream",
     "text": [
      "c:\\Users\\biehl\\anaconda3\\lib\\site-packages\\pyLDAvis\\_prepare.py:243: FutureWarning: In a future version of pandas all arguments of DataFrame.drop except for the argument 'labels' will be keyword-only.\n",
      "  default_term_info = default_term_info.sort_values(\n"
     ]
    },
    {
     "data": {
      "text/html": [
       "\n",
       "<link rel=\"stylesheet\" type=\"text/css\" href=\"https://cdn.jsdelivr.net/gh/bmabey/pyLDAvis@3.4.0/pyLDAvis/js/ldavis.v1.0.0.css\">\n",
       "\n",
       "\n",
       "<div id=\"ldavis_el179041580857298048539899601\" style=\"background-color:white;\"></div>\n",
       "<script type=\"text/javascript\">\n",
       "\n",
       "var ldavis_el179041580857298048539899601_data = {\"mdsDat\": {\"x\": [-0.19411059986382984, -0.023008001513607636, 0.08390195715386047, 0.1674833821116266, -0.08602064189728569, -0.019959233904905192, -0.0035006704880034835, 0.02703198285710959, 0.026696831933301374, 0.02148499361173366], \"y\": [0.08981375241297453, -0.16695841391297972, -0.019956879752618777, 0.09247415925753454, -0.001349731805958794, 0.056875180137747304, -0.07490919536135413, -0.016030144834150613, 0.020884404876353683, 0.019156868982452325], \"topics\": [1, 2, 3, 4, 5, 6, 7, 8, 9, 10], \"cluster\": [1, 1, 1, 1, 1, 1, 1, 1, 1, 1], \"Freq\": [21.32719721931423, 14.885051025276825, 14.601253087905302, 12.754218068227186, 12.13405171711659, 9.692111040748353, 6.639875767569177, 5.965831214902229, 1.2277363222209603, 0.7726745367191519]}, \"tinfo\": {\"Term\": [\"said\", \"brown\", \"shot\", \"vasquez\", \"lasso\", \"2023\", \"1\", \"march\", \"suspect\", \"chicago\", \"sinai\", \"hospital\", \"day\", \"police\", \"tragedy\", \"terrible\", \"conference\", \"david\", \"felony\", \"misdemeanor\", \"shooting\", \"department\", \"officer\", \"wls\", \"officers\", \"gun\", \"fired\", \"striking\", \"andres\", \"every\", \"shown\", \"mt\", \"outside\", \"2023\", \"march\", \"1\", \"large\", \"screen\", \"grab\", \"southwest\", \"side\", \"spaulding\", \"avenue\", \"block\", \"south\", \"ambulance\", \"scene\", \"presence\", \"5200\", \"investigate\", \"video\", \"near\", \"far\", \"violation\", \"prior\", \"able\", \"one\", \"find\", \"hospital\", \"sinai\", \"shot\", \"chicago\", \"police\", \"officer\", \"suspect\", \"every\", \"today\", \"country\", \"matter\", \"grieving\", \"ongoing\", \"camera\", \"body\", \"worn\", \"footage\", \"investigation\", \"reviewed\", \"back\", \"escaped\", \"cars\", \"armed\", \"began\", \"responded\", \"running\", \"said\", \"fired\", \"striking\", \"two\", \"wednesday\", \"call\", \"incident\", \"suspect\", \"department\", \"gun\", \"brown\", \"police\", \"officer\", \"wls\", \"andres\", \"died\", \"protecting\", \"people\", \"tweeted\", \"slain\", \"identified\", \"female\", \"chasing\", \"report\", \"receiving\", \"someone\", \"reported\", \"man\", \"911\", \"caller\", \"street\", \"park\", \"gage\", \"vasquez\", \"lasso\", \"gun\", \"fatally\", \"killed\", \"responding\", \"domestic\", \"years\", \"force\", \"five\", \"incident\", \"officer\", \"chicago\", \"police\", \"officers\", \"wls\", \"department\", \"misdemeanor\", \"felony\", \"unlawful\", \"degree\", \"montano\", \"loaded\", \"use\", \"reporting\", \"discharge\", \"first\", \"assault\", \"steven\", \"weapon\", \"interfering\", \"aggravated\", \"murder\", \"violence\", \"sanchez\", \"newscom\", \"tns\", \"l\", \"tribune\", \"via\", \"armando\", \"charged\", \"firearm\", \"domestic\", \"years\", \"force\", \"five\", \"vasquez\", \"chicago\", \"lasso\", \"conference\", \"david\", \"superintendent\", \"news\", \"times\", \"multiple\", \"person\", \"press\", \"speaks\", \"chief\", \"pursued\", \"range\", \"close\", \"firearm\", \"responding\", \"killed\", \"wednesday\", \"call\", \"shot\", \"brown\", \"officers\", \"2023\", \"1\", \"march\", \"chicago\", \"suspect\", \"officer\", \"police\", \"said\", \"tragedy\", \"day\", \"exchanged\", \"year\", \"gunfire\", \"old\", \"thursday\", \"lori\", \"lightfoot\", \"mayor\", \"see\", \"thank\", \"tonight\", \"service\", \"next\", \"18\", \"added\", \"shooting\", \"close\", \"range\", \"charged\", \"fatally\", \"two\", \"chicago\", \"officer\", \"tragedy\", \"terrible\", \"police\", \"condition\", \"critical\", \"mount\", \"brown\", \"killed\", \"march\", \"shot\", \"david\", \"announced\", \"immediately\", \"turned\", \"would\", \"resigning\", \"hours\", \"came\", \"fatal\", \"shots\", \"identifying\", \"shooting\", \"fired\", \"striking\", \"department\", \"officers\", \"suspect\", \"brown\", \"terrible\", \"tragedy\", \"officer\", \"police\", \"condition\", \"critical\", \"head\", \"injuries\", \"succumbed\", \"mount\", \"next\", \"added\", \"see\", \"chicago\", \"said\", \"vasquez\", \"march\", \"lasso\", \"shot\", \"2023\", \"wls\", \"years\", \"succumbed\", \"mount\", \"injuries\", \"critical\", \"head\", \"condition\", \"sinai\", \"hospital\", \"brown\", \"wls\", \"said\", \"vasquez\", \"lasso\", \"suspect\", \"shot\", \"tragedy\", \"terrible\", \"identifying\", \"came\", \"fatal\", \"shots\", \"would\", \"resigning\", \"hours\", \"turned\", \"announced\", \"immediately\", \"mayor\", \"18\", \"added\", \"police\", \"officer\", \"chicago\", \"officers\", \"2023\", \"march\", \"fired\", \"pursued\", \"striking\", \"five\", \"1\", \"gun\", \"force\", \"tragedy\", \"terrible\", \"condition\", \"critical\", \"head\", \"succumbed\", \"mount\", \"injuries\", \"came\", \"shots\", \"hours\", \"fatal\", \"identifying\", \"would\", \"resigning\", \"immediately\", \"turned\", \"announced\", \"18\", \"added\", \"lightfoot\", \"see\", \"thank\", \"tonight\", \"service\", \"old\", \"mayor\", \"thursday\", \"lori\", \"next\", \"police\", \"officer\", \"brown\", \"chicago\", \"officers\", \"lasso\", \"said\", \"shot\", \"vasquez\", \"suspect\", \"march\", \"close\", \"1\", \"wls\", \"striking\", \"gun\", \"five\", \"2023\", \"department\", \"years\", \"hospital\", \"sinai\", \"pursued\", \"fired\", \"find\", \"force\", \"range\", \"two\", \"terrible\", \"tragedy\", \"condition\", \"head\", \"critical\", \"injuries\", \"succumbed\", \"mount\", \"shots\", \"would\", \"resigning\", \"came\", \"fatal\", \"hours\", \"identifying\", \"immediately\", \"announced\", \"turned\", \"mayor\", \"thank\", \"added\", \"tonight\", \"service\", \"next\", \"18\", \"gunfire\", \"lightfoot\", \"see\", \"thursday\", \"year\", \"felony\", \"misdemeanor\", \"violence\", \"murder\", \"aggravated\", \"interfering\", \"weapon\", \"steven\", \"domestic\", \"assault\", \"first\", \"discharge\", \"use\", \"reporting\", \"loaded\", \"montano\", \"degree\", \"firearm\", \"charged\", \"unlawful\", \"officer\", \"police\", \"suspect\", \"chicago\", \"brown\", \"said\", \"vasquez\", \"lasso\", \"officers\"], \"Freq\": [6.0, 5.0, 5.0, 3.0, 3.0, 4.0, 4.0, 4.0, 4.0, 8.0, 2.0, 2.0, 1.0, 11.0, 0.0, 0.0, 1.0, 1.0, 1.0, 1.0, 1.0, 2.0, 10.0, 3.0, 3.0, 2.0, 1.0, 1.0, 1.0, 1.0, 1.6150875456634286, 1.6150873128749283, 1.6150873128749283, 3.142592608313004, 3.1425919099475035, 3.142592375524504, 0.8459915289075218, 0.8459915289075218, 0.8459915289075218, 0.8459914707103967, 0.8459914707103967, 0.8459914707103967, 0.8459914707103967, 0.8459914707103967, 0.8459913543161466, 0.8459913543161466, 0.8459913543161466, 0.8459913543161466, 0.8459912961190216, 0.8459912961190216, 0.8459912961190216, 0.8459911797247714, 0.845990714147771, 0.8459906559506459, 0.8459905395563958, 0.8459905395563958, 0.8459903649650207, 0.8459903649650207, 1.6150871964806781, 1.6150871964806781, 3.1425919099475035, 3.8286456924006758, 4.617788232655693, 2.9242553854004507, 0.8471690313387472, 1.4823347875535136, 0.7764563559065747, 0.776456274670661, 0.776456274670661, 0.776456274670661, 0.77645603096292, 0.77645603096292, 0.77645603096292, 0.77645603096292, 0.7764559497270064, 0.7764559497270064, 0.7764557872551792, 0.7764554623115245, 0.775254470563975, 0.7752444785465948, 0.7752188079978782, 0.7752166958641231, 0.7749807867708545, 0.7744026307733363, 2.8942117175277806, 0.7764515629876688, 0.7764515629876688, 0.7753019123375524, 0.7764555435474382, 0.7755209243607798, 0.7764557872551792, 1.4812501256343251, 0.7764550561319562, 0.7755847757889166, 1.482900189512587, 2.891521509011016, 2.1882150876264665, 0.7764554623115245, 1.4638319125845978, 0.7667644676286923, 0.7667644676286923, 0.7667644676286923, 0.7667644676286923, 0.7667644676286923, 0.7667644676286923, 0.7667643879416202, 0.7667643879416202, 0.7667643879416202, 0.7667643879416202, 0.7667643879416202, 0.766764308254548, 0.766764308254548, 0.7667642285674758, 0.7667641488804037, 0.7667640691933315, 0.7666999211002417, 0.7666998414131695, 2.160903023145823, 2.160903023145823, 1.4638341438226183, 0.7666916336447369, 0.766763352009682, 0.7667631129484656, 0.7667629535743213, 0.7667614395199502, 0.7667615192070224, 0.7667614395199502, 0.7667645473157645, 1.671397291919357, 0.851710009994918, 0.8360898297969186, 0.7667635910708985, 0.7667629535743213, 0.766762794200177, 1.4589728470225003, 1.4589718725274996, 0.7642211144953214, 0.7642206968546068, 0.7642204880342496, 0.7642202792138922, 0.7642202792138922, 0.7642202096071065, 0.7642201400003207, 0.7642200703935349, 0.7642200703935349, 0.7642196527528203, 0.7642196527528203, 0.7642195135392489, 0.7642192351121058, 0.7642181910103193, 0.7642179125831763, 0.7638337527325489, 0.763831386101833, 0.7638201794093251, 0.7637995758007392, 0.7637686703878603, 0.763671777742078, 0.7636416380038424, 0.7642209752817498, 0.7642211144953214, 0.7642213233156787, 0.76395514696692, 0.7637451432942723, 0.7634953245401681, 0.7638178823853949, 0.763704980178887, 0.7636957920831662, 1.4140331636622823, 1.4140331636622823, 0.7406805031048832, 0.7406804368826865, 0.7406803044382929, 0.7406803044382929, 0.7406802382160962, 0.7406801719938995, 0.7406799071051124, 0.7406799071051124, 0.7406793111053417, 0.740675536440127, 0.7406753377735367, 0.7406802382160962, 0.7406814302156377, 0.7406807017714735, 0.7406812315490474, 0.7406812315490474, 1.4140375343272678, 1.4140391236599898, 0.7406710995529446, 0.7406771257728489, 0.7406771257728489, 0.7406766622174716, 1.4140370045496937, 0.7406638151113021, 1.4140383289936287, 1.4140383289936287, 0.7406748742181594, 0.06733532979460427, 1.3311509678003288, 0.697266521904927, 0.6972664690097441, 0.6972664690097441, 0.6972664690097441, 0.6972664690097441, 0.6972664690097441, 0.6972663632193784, 0.6972663632193784, 0.6972663632193784, 0.6972663632193784, 0.6972663632193784, 0.6972663632193784, 0.6972663632193784, 0.6972663632193784, 0.6972663103241956, 0.6972664690097441, 0.6972702245677264, 0.6972702245677264, 0.6972664690097441, 0.6972738743353429, 0.6972675798085839, 1.331158902077756, 1.33116101788507, 0.06338846310285418, 0.06338846310285418, 0.6972587463130483, 0.06338841020767132, 0.0633883969838756, 0.06338840359577347, 0.06338903172606979, 0.06338895899519338, 0.0633889259357041, 0.06338891271190839, 0.06338889287621481, 0.5977725228357033, 0.5977724503607922, 0.5977724503607922, 0.5977723778858811, 0.5977723778858811, 0.5977723778858811, 0.5977723416484255, 0.5977723416484255, 0.5977723416484255, 0.5977723416484255, 0.5977725953106142, 0.5977754943070566, 0.5977754943070566, 0.597774842032857, 0.5977789368653318, 0.5977805675508305, 0.5977688990901504, 0.05434340958962167, 0.05434340053025779, 0.5977629923848993, 0.5977647317827646, 0.054343355233438376, 0.054343337114710615, 0.054343337114710615, 0.05434334164439256, 0.05434333258502867, 0.05434333258502867, 0.054343337114710615, 0.05434333258502867, 0.05434333258502867, 0.05434342317866749, 0.05434341864898555, 0.05434338694121196, 0.05434338241153002, 0.054343377881848086, 0.054343373352166144, 0.0543433688224842, 0.05434336429280226, 0.05434335976312032, 0.5688691320892071, 0.5688691320892071, 0.5688691320892071, 0.568869001853913, 0.568869001853913, 0.5688688716186189, 0.5688693274421482, 0.5688692623245012, 1.0860371966569333, 0.5688733647362653, 1.0860389548334037, 0.5688686762656778, 0.5688686762656778, 0.5688758392068531, 0.5688637273245021, 0.05171576376044925, 0.05171576376044925, 0.051715735271478665, 0.05171572713177278, 0.05171572306191984, 0.05171572306191984, 0.05171571899206691, 0.05171571899206691, 0.05171571899206691, 0.05171571899206691, 0.05171571899206691, 0.05171571492221397, 0.05171572306191984, 0.05171572306191984, 0.05171571899206691, 0.05171589399574335, 0.05171585329721394, 0.051715796319272776, 0.05171577597000807, 0.05171575969059631, 0.05171575562074337, 0.05171575155089043, 0.05171574748103749, 0.05171574748103749, 0.051715743411184546, 0.051715743411184546, 0.051715743411184546, 0.051715739341331605, 0.21047720657255797, 0.21047719317169267, 0.019134417139708346, 0.019134417139708346, 0.019134415464600183, 0.01913441211438386, 0.01913441211438386, 0.01913441211438386, 0.019134415464600183, 0.019134415464600183, 0.019134415464600183, 0.01913441378949202, 0.01913441378949202, 0.01913441211438386, 0.01913441211438386, 0.01913441211438386, 0.01913441211438386, 0.01913441211438386, 0.01913441378949202, 0.01913441211438386, 0.01913441211438386, 0.01913441211438386, 0.01913441211438386, 0.01913441211438386, 0.01913441211438386, 0.01913441211438386, 0.019134410439275697, 0.01913441211438386, 0.01913441211438386, 0.019134410439275697, 0.019134469068061374, 0.019134455667196074, 0.019134450641871588, 0.0191344456165471, 0.01913444226633078, 0.019134437241006292, 0.019134437241006292, 0.019134437241006292, 0.019134433890789965, 0.019134433890789965, 0.019134430540573642, 0.01913442719035732, 0.01913442719035732, 0.019134425515249156, 0.019134423840140993, 0.019134422165032833, 0.01913442048992467, 0.01913442048992467, 0.01913442048992467, 0.019134418814816506, 0.019134418814816506, 0.019134418814816506, 0.019134418814816506, 0.019134418814816506, 0.019134418814816506, 0.019134417139708346, 0.019134417139708346, 0.019134417139708346, 0.01347574450195815, 0.013475741339275578, 0.013475732905455385, 0.01347573185122786, 0.013475730797000336, 0.013475730797000336, 0.013475729742772813, 0.013475729742772813, 0.01347573185122786, 0.013475730797000336, 0.013475730797000336, 0.013475730797000336, 0.013475730797000336, 0.013475730797000336, 0.013475730797000336, 0.013475729742772813, 0.013475729742772813, 0.013475728688545288, 0.013475730797000336, 0.013475730797000336, 0.013475729742772813, 0.013475729742772813, 0.013475729742772813, 0.013475729742772813, 0.013475729742772813, 0.013475729742772813, 0.013475728688545288, 0.013475728688545288, 0.013475729742772813, 0.013475728688545288, 0.013477112889284394, 0.013476932616377777, 0.013476698577867433, 0.013476659571449043, 0.013476458213991946, 0.013476424478711176, 0.0134763949603405, 0.013476383363837736, 0.013476353845467063, 0.013476324327096388, 0.01347632221864134, 0.0134763116763661, 0.013476271615720185, 0.01347626739881009, 0.01347626001921742, 0.01347623682621189, 0.013476184114835687, 0.013476173572560446, 0.013476165138740254, 0.013476100830861286, 0.013475774020328823, 0.013475767694963678, 0.01347575504423339, 0.013475751881550818, 0.013475750827323293, 0.01347574977309577, 0.013475746610413198, 0.013475743447730625, 0.013475743447730625], \"Total\": [6.0, 5.0, 5.0, 3.0, 3.0, 4.0, 4.0, 4.0, 4.0, 8.0, 2.0, 2.0, 1.0, 11.0, 0.0, 0.0, 1.0, 1.0, 1.0, 1.0, 1.0, 2.0, 10.0, 3.0, 3.0, 2.0, 1.0, 1.0, 1.0, 1.0, 2.094250288066635, 2.094250079731938, 2.0942500808369617, 4.304782296503587, 4.304781640583974, 4.3047823023905885, 1.3251542102400635, 1.3251542187397425, 1.3251542191905024, 1.3251541418223147, 1.3251541589111615, 1.3251541599217367, 1.3251541655230594, 1.3251541695929123, 1.3251540464534934, 1.3251540508039175, 1.3251540536584911, 1.3251540552602814, 1.3251540144694915, 1.3251540154739827, 1.325154020975437, 1.3251539145006548, 1.325153447123308, 1.3251534113233154, 1.3251533012845396, 1.3251533324674387, 1.3251532017519554, 1.3251532072252983, 2.6114035936666324, 2.611403647821958, 5.495290495934574, 8.399029602977654, 11.2082632646513, 10.280631838123895, 4.470920396999429, 1.967819259691103, 1.2619407467104582, 1.2619406734531988, 1.261940682259999, 1.2619406947857483, 1.2619404389430529, 1.2619404405398953, 1.2619404685337237, 1.261940468609878, 1.2619403960686697, 1.2619404312011482, 1.2619402563719342, 1.2619400157244884, 1.2620482542828468, 1.2620491032556622, 1.262051417773396, 1.2620515939491317, 1.2620726827735924, 1.2621243103967978, 6.479121822464999, 1.8053683312025266, 1.8053683517196246, 1.8959219683066002, 1.9352860103270566, 1.935369602762826, 1.9589982308654712, 4.470920396999429, 2.502427270034552, 2.6561437596455724, 5.587010900930166, 11.2082632646513, 10.280631838123895, 3.2452322832243463, 1.9501975193848577, 1.253129944732399, 1.2531299546211951, 1.2531299567489484, 1.2531299568179828, 1.2531299635703357, 1.2531299809261733, 1.253129885891497, 1.2531298879531163, 1.2531298884129454, 1.25312989080769, 1.2531298992819868, 1.2531298151342671, 1.2531298305522631, 1.2531297527358702, 1.2531296817296838, 1.25312968502347, 1.2531172218861857, 1.2531171508288799, 3.859171624493875, 3.8591736304643405, 2.6561437596455724, 1.8869945379360773, 1.9264749526216702, 1.9264748905007667, 1.9478749611981645, 1.9478812404926094, 1.9478844871965124, 1.9478884614463785, 1.9589982308654712, 10.280631838123895, 8.399029602977654, 11.2082632646513, 3.1759110987303774, 3.2452322832243463, 2.502427270034552, 1.9455707161484812, 1.9455699100967896, 1.2508180772208681, 1.250817780408097, 1.2508175931882328, 1.250817400217206, 1.250817419157384, 1.2508173859546952, 1.2508173259282314, 1.250817283911125, 1.250817288865085, 1.25081693148546, 1.2508169480624045, 1.2508168292478743, 1.250816598752586, 1.2508157443191141, 1.2508155197972934, 1.2508257006807382, 1.25082577469062, 1.2508258451433076, 1.250826253201427, 1.2508267843152236, 1.2508282633995091, 1.2508287018579196, 1.8846961794150123, 1.9241632185174236, 1.9478749611981645, 1.9478812404926094, 1.9478844871965124, 1.9478884614463785, 3.859171624493875, 8.399029602977654, 3.8591736304643405, 1.9027704756567922, 1.902770650221661, 1.229417356630233, 1.2294173256342962, 1.2294171985945543, 1.229417203285288, 1.2294171550674744, 1.2294173070608378, 1.2294171856551932, 1.2294172104645262, 1.2294164225429733, 1.8632944270788057, 1.8632942766209957, 1.9241632185174236, 1.9264748905007667, 1.9264749526216702, 1.9352860103270566, 1.935369602762826, 5.495290495934574, 5.587010900930166, 3.1759110987303774, 4.304782296503587, 4.3047823023905885, 4.304781640583974, 8.399029602977654, 4.470920396999429, 10.280631838123895, 11.2082632646513, 6.479121822464999, 0.7474155346113112, 1.823834792982533, 1.1899502419853074, 1.1899502019895722, 1.1899502031406024, 1.1899502036646805, 1.1899502226493093, 1.1899502267413606, 1.1899501110634971, 1.1899501156634997, 1.189950120950995, 1.1899501267385084, 1.1899501292798633, 1.1899501302139628, 1.18995013620429, 1.1899501432335644, 1.1899500804545333, 1.7333795462661252, 1.8632942766209957, 1.8632944270788057, 1.8846961794150123, 1.8869945379360773, 1.8959219683066002, 8.399029602977654, 10.280631838123895, 0.7474155346113112, 0.7474155401112565, 11.2082632646513, 1.0732254294986612, 1.0732254582910947, 1.0732255937451847, 5.587010900930166, 1.9264749526216702, 4.304781640583974, 5.495290495934574, 1.902770650221661, 1.0995013477140394, 1.099501269406596, 1.0995012815415506, 1.0995012061946527, 1.0995012111750948, 1.099501238290724, 1.0995012145433987, 1.0995012198754937, 1.0995012290216797, 1.099501262109656, 1.7333795462661252, 1.8053683312025266, 1.8053683517196246, 2.502427270034552, 3.1759110987303774, 4.470920396999429, 5.587010900930166, 0.7474155401112565, 0.7474155346113112, 10.280631838123895, 11.2082632646513, 1.0732254294986612, 1.0732254582910947, 1.0732254949053808, 1.0732256147907424, 1.073225577917155, 1.0732255937451847, 1.18995013620429, 1.1899500804545333, 1.189950120950995, 8.399029602977654, 6.479121822464999, 3.859171624493875, 4.304781640583974, 3.8591736304643405, 5.495290495934574, 4.304782296503587, 3.2452322832243463, 1.9478812404926094, 1.073225577917155, 1.0732255937451847, 1.0732256147907424, 1.0732254582910947, 1.0732254949053808, 1.0732254294986612, 2.611403647821958, 2.6114035936666324, 5.587010900930166, 3.2452322832243463, 6.479121822464999, 3.859171624493875, 3.8591736304643405, 4.470920396999429, 5.495290495934574, 0.7474155346113112, 0.7474155401112565, 1.099501262109656, 1.0995012145433987, 1.0995012198754937, 1.0995012290216797, 1.0995012061946527, 1.0995012111750948, 1.099501238290724, 1.0995012815415506, 1.0995013477140394, 1.099501269406596, 1.1899501156634997, 1.1899501432335644, 1.1899500804545333, 11.2082632646513, 10.280631838123895, 8.399029602977654, 3.1759110987303774, 4.304782296503587, 4.304781640583974, 1.8053683312025266, 1.2294164225429733, 1.8053683517196246, 1.9478884614463785, 4.3047823023905885, 2.6561437596455724, 1.9478844871965124, 0.7474155346113112, 0.7474155401112565, 1.0732254294986612, 1.0732254582910947, 1.0732254949053808, 1.073225577917155, 1.0732255937451847, 1.0732256147907424, 1.0995012145433987, 1.0995012290216797, 1.099501238290724, 1.0995012198754937, 1.099501262109656, 1.0995012061946527, 1.0995012111750948, 1.099501269406596, 1.0995012815415506, 1.0995013477140394, 1.1899501432335644, 1.1899500804545333, 1.1899501110634971, 1.189950120950995, 1.1899501267385084, 1.1899501292798633, 1.1899501302139628, 1.1899502036646805, 1.1899501156634997, 1.1899502226493093, 1.1899502267413606, 1.18995013620429, 11.2082632646513, 10.280631838123895, 5.587010900930166, 8.399029602977654, 3.1759110987303774, 3.8591736304643405, 6.479121822464999, 5.495290495934574, 3.859171624493875, 4.470920396999429, 4.304781640583974, 1.8632942766209957, 4.3047823023905885, 3.2452322832243463, 1.8053683517196246, 2.6561437596455724, 1.9478884614463785, 4.304782296503587, 2.502427270034552, 1.9478812404926094, 2.6114035936666324, 2.611403647821958, 1.2294164225429733, 1.8053683312025266, 1.3251532072252983, 1.9478844871965124, 1.8632944270788057, 1.8959219683066002, 0.7474155401112565, 0.7474155346113112, 1.0732254294986612, 1.0732254949053808, 1.0732254582910947, 1.0732256147907424, 1.073225577917155, 1.0732255937451847, 1.0995012290216797, 1.0995012061946527, 1.0995012111750948, 1.0995012145433987, 1.0995012198754937, 1.099501238290724, 1.099501262109656, 1.099501269406596, 1.0995013477140394, 1.0995012815415506, 1.1899501156634997, 1.1899501267385084, 1.1899500804545333, 1.1899501292798633, 1.1899501302139628, 1.18995013620429, 1.1899501432335644, 1.1899502031406024, 1.1899501110634971, 1.189950120950995, 1.1899502226493093, 1.1899502019895722, 1.9455699100967896, 1.9455707161484812, 1.2508155197972934, 1.2508157443191141, 1.250816598752586, 1.2508168292478743, 1.2508169480624045, 1.25081693148546, 1.9478749611981645, 1.250817288865085, 1.250817283911125, 1.2508173259282314, 1.250817419157384, 1.2508173859546952, 1.250817400217206, 1.2508175931882328, 1.250817780408097, 1.9241632185174236, 1.8846961794150123, 1.2508180772208681, 10.280631838123895, 11.2082632646513, 4.470920396999429, 8.399029602977654, 5.587010900930166, 6.479121822464999, 3.859171624493875, 3.8591736304643405, 3.1759110987303774], \"Category\": [\"Default\", \"Default\", \"Default\", \"Default\", \"Default\", \"Default\", \"Default\", \"Default\", \"Default\", \"Default\", \"Default\", \"Default\", \"Default\", \"Default\", \"Default\", \"Default\", \"Default\", \"Default\", \"Default\", \"Default\", \"Default\", \"Default\", \"Default\", \"Default\", \"Default\", \"Default\", \"Default\", \"Default\", \"Default\", \"Default\", \"Topic1\", \"Topic1\", \"Topic1\", \"Topic1\", \"Topic1\", \"Topic1\", \"Topic1\", \"Topic1\", \"Topic1\", \"Topic1\", \"Topic1\", \"Topic1\", \"Topic1\", \"Topic1\", \"Topic1\", \"Topic1\", \"Topic1\", \"Topic1\", \"Topic1\", \"Topic1\", \"Topic1\", \"Topic1\", \"Topic1\", \"Topic1\", \"Topic1\", \"Topic1\", \"Topic1\", \"Topic1\", \"Topic1\", \"Topic1\", \"Topic1\", \"Topic1\", \"Topic1\", \"Topic1\", \"Topic1\", \"Topic2\", \"Topic2\", \"Topic2\", \"Topic2\", \"Topic2\", \"Topic2\", \"Topic2\", \"Topic2\", \"Topic2\", \"Topic2\", \"Topic2\", \"Topic2\", \"Topic2\", \"Topic2\", \"Topic2\", \"Topic2\", \"Topic2\", \"Topic2\", \"Topic2\", \"Topic2\", \"Topic2\", \"Topic2\", \"Topic2\", \"Topic2\", \"Topic2\", \"Topic2\", \"Topic2\", \"Topic2\", \"Topic2\", \"Topic2\", \"Topic2\", \"Topic2\", \"Topic2\", \"Topic3\", \"Topic3\", \"Topic3\", \"Topic3\", \"Topic3\", \"Topic3\", \"Topic3\", \"Topic3\", \"Topic3\", \"Topic3\", \"Topic3\", \"Topic3\", \"Topic3\", \"Topic3\", \"Topic3\", \"Topic3\", \"Topic3\", \"Topic3\", \"Topic3\", \"Topic3\", \"Topic3\", \"Topic3\", \"Topic3\", \"Topic3\", \"Topic3\", \"Topic3\", \"Topic3\", \"Topic3\", \"Topic3\", \"Topic3\", \"Topic3\", \"Topic3\", \"Topic3\", \"Topic3\", \"Topic3\", \"Topic3\", \"Topic4\", \"Topic4\", \"Topic4\", \"Topic4\", \"Topic4\", \"Topic4\", \"Topic4\", \"Topic4\", \"Topic4\", \"Topic4\", \"Topic4\", \"Topic4\", \"Topic4\", \"Topic4\", \"Topic4\", \"Topic4\", \"Topic4\", \"Topic4\", \"Topic4\", \"Topic4\", \"Topic4\", \"Topic4\", \"Topic4\", \"Topic4\", \"Topic4\", \"Topic4\", \"Topic4\", \"Topic4\", \"Topic4\", \"Topic4\", \"Topic4\", \"Topic4\", \"Topic4\", \"Topic5\", \"Topic5\", \"Topic5\", \"Topic5\", \"Topic5\", \"Topic5\", \"Topic5\", \"Topic5\", \"Topic5\", \"Topic5\", \"Topic5\", \"Topic5\", \"Topic5\", \"Topic5\", \"Topic5\", \"Topic5\", \"Topic5\", \"Topic5\", \"Topic5\", \"Topic5\", \"Topic5\", \"Topic5\", \"Topic5\", \"Topic5\", \"Topic5\", \"Topic5\", \"Topic5\", \"Topic5\", \"Topic5\", \"Topic5\", \"Topic6\", \"Topic6\", \"Topic6\", \"Topic6\", \"Topic6\", \"Topic6\", \"Topic6\", \"Topic6\", \"Topic6\", \"Topic6\", \"Topic6\", \"Topic6\", \"Topic6\", \"Topic6\", \"Topic6\", \"Topic6\", \"Topic6\", \"Topic6\", \"Topic6\", \"Topic6\", \"Topic6\", \"Topic6\", \"Topic6\", \"Topic6\", \"Topic6\", \"Topic6\", \"Topic6\", \"Topic6\", \"Topic6\", \"Topic6\", \"Topic6\", \"Topic6\", \"Topic6\", \"Topic6\", \"Topic6\", \"Topic7\", \"Topic7\", \"Topic7\", \"Topic7\", \"Topic7\", \"Topic7\", \"Topic7\", \"Topic7\", \"Topic7\", \"Topic7\", \"Topic7\", \"Topic7\", \"Topic7\", \"Topic7\", \"Topic7\", \"Topic7\", \"Topic7\", \"Topic7\", \"Topic7\", \"Topic7\", \"Topic7\", \"Topic7\", \"Topic7\", \"Topic7\", \"Topic7\", \"Topic7\", \"Topic7\", \"Topic7\", \"Topic7\", \"Topic7\", \"Topic7\", \"Topic7\", \"Topic7\", \"Topic7\", \"Topic7\", \"Topic7\", \"Topic7\", \"Topic7\", \"Topic7\", \"Topic8\", \"Topic8\", \"Topic8\", \"Topic8\", \"Topic8\", \"Topic8\", \"Topic8\", \"Topic8\", \"Topic8\", \"Topic8\", \"Topic8\", \"Topic8\", \"Topic8\", \"Topic8\", \"Topic8\", \"Topic8\", \"Topic8\", \"Topic8\", \"Topic8\", \"Topic8\", \"Topic8\", \"Topic8\", \"Topic8\", \"Topic8\", \"Topic8\", \"Topic8\", \"Topic8\", \"Topic8\", \"Topic8\", \"Topic8\", \"Topic8\", \"Topic8\", \"Topic8\", \"Topic8\", \"Topic8\", \"Topic8\", \"Topic8\", \"Topic8\", \"Topic8\", \"Topic8\", \"Topic8\", \"Topic8\", \"Topic8\", \"Topic9\", \"Topic9\", \"Topic9\", \"Topic9\", \"Topic9\", \"Topic9\", \"Topic9\", \"Topic9\", \"Topic9\", \"Topic9\", \"Topic9\", \"Topic9\", \"Topic9\", \"Topic9\", \"Topic9\", \"Topic9\", \"Topic9\", \"Topic9\", \"Topic9\", \"Topic9\", \"Topic9\", \"Topic9\", \"Topic9\", \"Topic9\", \"Topic9\", \"Topic9\", \"Topic9\", \"Topic9\", \"Topic9\", \"Topic9\", \"Topic9\", \"Topic9\", \"Topic9\", \"Topic9\", \"Topic9\", \"Topic9\", \"Topic9\", \"Topic9\", \"Topic9\", \"Topic9\", \"Topic9\", \"Topic9\", \"Topic9\", \"Topic9\", \"Topic9\", \"Topic9\", \"Topic9\", \"Topic9\", \"Topic9\", \"Topic9\", \"Topic9\", \"Topic9\", \"Topic9\", \"Topic9\", \"Topic9\", \"Topic9\", \"Topic9\", \"Topic9\", \"Topic10\", \"Topic10\", \"Topic10\", \"Topic10\", \"Topic10\", \"Topic10\", \"Topic10\", \"Topic10\", \"Topic10\", \"Topic10\", \"Topic10\", \"Topic10\", \"Topic10\", \"Topic10\", \"Topic10\", \"Topic10\", \"Topic10\", \"Topic10\", \"Topic10\", \"Topic10\", \"Topic10\", \"Topic10\", \"Topic10\", \"Topic10\", \"Topic10\", \"Topic10\", \"Topic10\", \"Topic10\", \"Topic10\", \"Topic10\", \"Topic10\", \"Topic10\", \"Topic10\", \"Topic10\", \"Topic10\", \"Topic10\", \"Topic10\", \"Topic10\", \"Topic10\", \"Topic10\", \"Topic10\", \"Topic10\", \"Topic10\", \"Topic10\", \"Topic10\", \"Topic10\", \"Topic10\", \"Topic10\", \"Topic10\", \"Topic10\", \"Topic10\", \"Topic10\", \"Topic10\", \"Topic10\", \"Topic10\", \"Topic10\", \"Topic10\", \"Topic10\", \"Topic10\"], \"logprob\": [30.0, 29.0, 28.0, 27.0, 26.0, 25.0, 24.0, 23.0, 22.0, 21.0, 20.0, 19.0, 18.0, 17.0, 16.0, 15.0, 14.0, 13.0, 12.0, 11.0, 10.0, 9.0, 8.0, 7.0, 6.0, 5.0, 4.0, 3.0, 2.0, 1.0, -3.6556, -3.6556, -3.6556, -2.9899, -2.9899, -2.9899, -4.3022, -4.3022, -4.3022, -4.3022, -4.3022, -4.3022, -4.3022, -4.3022, -4.3022, -4.3022, -4.3022, -4.3022, -4.3022, -4.3022, -4.3022, -4.3022, -4.3022, -4.3022, -4.3022, -4.3022, -4.3022, -4.3022, -3.6556, -3.6556, -2.9899, -2.7925, -2.6051, -3.0619, -4.3008, -3.3817, -4.0284, -4.0284, -4.0284, -4.0284, -4.0284, -4.0284, -4.0284, -4.0284, -4.0284, -4.0284, -4.0284, -4.0284, -4.0299, -4.0299, -4.03, -4.03, -4.0303, -4.031, -2.7126, -4.0284, -4.0284, -4.0299, -4.0284, -4.0296, -4.0284, -3.3825, -4.0284, -4.0295, -3.3814, -2.7136, -2.9923, -4.0284, -3.3751, -4.0217, -4.0217, -4.0217, -4.0217, -4.0217, -4.0217, -4.0217, -4.0217, -4.0217, -4.0217, -4.0217, -4.0217, -4.0217, -4.0217, -4.0217, -4.0217, -4.0218, -4.0218, -2.9856, -2.9856, -3.3751, -4.0218, -4.0217, -4.0217, -4.0217, -4.0217, -4.0217, -4.0217, -4.0217, -3.2424, -3.9166, -3.9351, -4.0217, -4.0217, -4.0217, -3.2431, -3.2431, -3.8898, -3.8898, -3.8898, -3.8898, -3.8898, -3.8898, -3.8898, -3.8898, -3.8898, -3.8898, -3.8898, -3.8898, -3.8898, -3.8898, -3.8898, -3.8903, -3.8903, -3.8903, -3.8903, -3.8904, -3.8905, -3.8905, -3.8898, -3.8898, -3.8898, -3.8901, -3.8904, -3.8907, -3.8903, -3.8904, -3.8905, -3.2246, -3.2246, -3.8712, -3.8712, -3.8712, -3.8712, -3.8712, -3.8712, -3.8712, -3.8712, -3.8712, -3.8712, -3.8712, -3.8712, -3.8712, -3.8712, -3.8712, -3.8712, -3.2246, -3.2246, -3.8712, -3.8712, -3.8712, -3.8712, -3.2246, -3.8712, -3.2246, -3.2246, -3.8712, -6.2691, -3.0603, -3.7069, -3.7069, -3.7069, -3.7069, -3.7069, -3.7069, -3.7069, -3.7069, -3.7069, -3.7069, -3.7069, -3.7069, -3.7069, -3.7069, -3.7069, -3.7069, -3.7069, -3.7069, -3.7069, -3.7069, -3.7069, -3.0603, -3.0603, -6.1048, -6.1048, -3.7069, -6.1048, -6.1048, -6.1048, -6.1048, -6.1048, -6.1048, -6.1048, -6.1048, -3.4826, -3.4826, -3.4826, -3.4826, -3.4826, -3.4826, -3.4826, -3.4826, -3.4826, -3.4826, -3.4826, -3.4826, -3.4826, -3.4826, -3.4826, -3.4826, -3.4826, -5.8805, -5.8805, -3.4827, -3.4827, -5.8805, -5.8805, -5.8805, -5.8805, -5.8805, -5.8805, -5.8805, -5.8805, -5.8805, -5.8805, -5.8805, -5.8805, -5.8805, -5.8805, -5.8805, -5.8805, -5.8805, -5.8805, -3.4252, -3.4252, -3.4252, -3.4252, -3.4252, -3.4252, -3.4252, -3.4252, -2.7785, -3.4251, -2.7785, -3.4252, -3.4252, -3.4251, -3.4252, -5.823, -5.823, -5.823, -5.823, -5.823, -5.823, -5.823, -5.823, -5.823, -5.823, -5.823, -5.823, -5.823, -5.823, -5.823, -5.823, -5.823, -5.823, -5.823, -5.823, -5.823, -5.823, -5.823, -5.823, -5.823, -5.823, -5.823, -5.823, -2.8386, -2.8386, -5.2364, -5.2364, -5.2364, -5.2364, -5.2364, -5.2364, -5.2364, -5.2364, -5.2364, -5.2364, -5.2364, -5.2364, -5.2364, -5.2364, -5.2364, -5.2364, -5.2364, -5.2364, -5.2364, -5.2364, -5.2364, -5.2364, -5.2364, -5.2364, -5.2364, -5.2364, -5.2364, -5.2364, -5.2364, -5.2364, -5.2364, -5.2364, -5.2364, -5.2364, -5.2364, -5.2364, -5.2364, -5.2364, -5.2364, -5.2364, -5.2364, -5.2364, -5.2364, -5.2364, -5.2364, -5.2364, -5.2364, -5.2364, -5.2364, -5.2364, -5.2364, -5.2364, -5.2364, -5.2364, -5.2364, -5.2364, -5.124, -5.124, -5.124, -5.124, -5.124, -5.124, -5.124, -5.124, -5.124, -5.124, -5.124, -5.124, -5.124, -5.124, -5.124, -5.124, -5.124, -5.124, -5.124, -5.124, -5.124, -5.124, -5.124, -5.124, -5.124, -5.124, -5.124, -5.124, -5.124, -5.124, -5.1239, -5.1239, -5.1239, -5.1239, -5.1239, -5.1239, -5.1239, -5.1239, -5.1239, -5.1239, -5.1239, -5.1239, -5.1239, -5.1239, -5.1239, -5.1239, -5.1239, -5.1239, -5.1239, -5.1239, -5.124, -5.124, -5.124, -5.124, -5.124, -5.124, -5.124, -5.124, -5.124], \"loglift\": [30.0, 29.0, 28.0, 27.0, 26.0, 25.0, 24.0, 23.0, 22.0, 21.0, 20.0, 19.0, 18.0, 17.0, 16.0, 15.0, 14.0, 13.0, 12.0, 11.0, 10.0, 9.0, 8.0, 7.0, 6.0, 5.0, 4.0, 3.0, 2.0, 1.0, 1.2854, 1.2854, 1.2854, 1.2305, 1.2305, 1.2305, 1.0964, 1.0964, 1.0964, 1.0964, 1.0964, 1.0964, 1.0964, 1.0964, 1.0964, 1.0964, 1.0964, 1.0964, 1.0964, 1.0964, 1.0964, 1.0964, 1.0964, 1.0964, 1.0964, 1.0964, 1.0964, 1.0964, 1.0647, 1.0647, 0.9863, 0.7596, 0.6585, 0.288, -0.1183, 1.6215, 1.4191, 1.4191, 1.4191, 1.4191, 1.4191, 1.4191, 1.4191, 1.4191, 1.4191, 1.4191, 1.4191, 1.4191, 1.4175, 1.4175, 1.4175, 1.4175, 1.4171, 1.4164, 1.0989, 1.061, 1.061, 1.0106, 0.9915, 0.9903, 0.9794, 0.8001, 0.7345, 0.6738, 0.5784, 0.5499, 0.3576, 0.4746, 1.6372, 1.4328, 1.4328, 1.4328, 1.4328, 1.4328, 1.4328, 1.4328, 1.4328, 1.4328, 1.4328, 1.4328, 1.4328, 1.4328, 1.4328, 1.4328, 1.4328, 1.4328, 1.4328, 1.3441, 1.3441, 1.3282, 1.0234, 1.0028, 1.0028, 0.9917, 0.9917, 0.9917, 0.9917, 0.9861, 0.1075, -0.3646, -0.6716, 0.5029, 0.4813, 0.7412, 1.7715, 1.7715, 1.5666, 1.5666, 1.5666, 1.5666, 1.5666, 1.5666, 1.5666, 1.5666, 1.5666, 1.5666, 1.5666, 1.5666, 1.5666, 1.5666, 1.5666, 1.5661, 1.5661, 1.5661, 1.5661, 1.566, 1.5659, 1.5658, 1.1566, 1.1359, 1.1237, 1.1233, 1.123, 1.1227, 0.4394, -0.3384, 0.4393, 1.8123, 1.8123, 1.6024, 1.6024, 1.6024, 1.6024, 1.6024, 1.6024, 1.6024, 1.6024, 1.6024, 1.1866, 1.1866, 1.1545, 1.1533, 1.1533, 1.1487, 1.1487, 0.7517, 0.7352, 0.6534, 0.3492, 0.3492, 0.3492, 0.3275, 0.3114, 0.1253, 0.039, -0.0596, -0.2978, 2.019, 1.7994, 1.7994, 1.7994, 1.7994, 1.7994, 1.7994, 1.7994, 1.7994, 1.7994, 1.7994, 1.7994, 1.7994, 1.7994, 1.7994, 1.7994, 1.4232, 1.3509, 1.3509, 1.3395, 1.3383, 1.3336, 0.4918, 0.2896, -0.1335, -0.1335, -0.4434, -0.4953, -0.4953, -0.4953, -2.1451, -1.0803, -1.8843, -2.1285, -1.0679, 2.1027, 2.1027, 2.1027, 2.1027, 2.1027, 2.1027, 2.1027, 2.1027, 2.1027, 2.1027, 1.6475, 1.6068, 1.6068, 1.2803, 1.0419, 0.7, 0.4771, 0.0908, 0.0908, -0.1327, -0.2191, -0.271, -0.271, -0.271, -0.271, -0.271, -0.271, -0.3743, -0.3743, -0.3743, -2.3285, -2.0689, -1.5508, -1.6601, -1.5508, -1.9042, -1.6601, -1.3775, -0.8671, 2.1843, 2.1843, 2.1843, 2.1843, 2.1843, 2.1843, 1.2951, 1.2951, 1.1812, 1.0778, 1.0331, 0.9046, 0.9046, 0.7574, 0.5511, 0.1483, 0.1483, -0.2377, -0.2377, -0.2377, -0.2377, -0.2377, -0.2377, -0.2377, -0.2377, -0.2377, -0.2377, -0.3168, -0.3168, -0.3168, -2.5595, -2.4731, -2.271, -1.2985, -1.6026, -1.6026, -0.7336, -0.3494, -0.7336, -0.8096, -1.6026, -1.1197, -0.8096, 3.1328, 3.1328, 0.3731, 0.3731, 0.3731, 0.3731, 0.3731, 0.3731, 0.3489, 0.3489, 0.3489, 0.3489, 0.3489, 0.3489, 0.3489, 0.3489, 0.3489, 0.3489, 0.2698, 0.2698, 0.2698, 0.2698, 0.2698, 0.2698, 0.2698, 0.2698, 0.2698, 0.2698, 0.2698, 0.2698, -1.9729, -1.8865, -1.2767, -1.6844, -0.7119, -0.9067, -1.4249, -1.2602, -0.9067, -1.0539, -1.016, -0.1786, -1.016, -0.7335, -0.147, -0.5331, -0.223, -1.016, -0.4735, -0.223, -0.5162, -0.5162, 0.2372, -0.147, 0.1622, -0.223, -0.1786, -0.196, 0.8473, 0.8473, 0.4855, 0.4855, 0.4855, 0.4855, 0.4855, 0.4855, 0.4613, 0.4613, 0.4613, 0.4613, 0.4613, 0.4613, 0.4613, 0.4613, 0.4613, 0.4613, 0.3823, 0.3823, 0.3823, 0.3823, 0.3823, 0.3823, 0.3823, 0.3823, 0.3823, 0.3823, 0.3823, 0.3823, -0.1092, -0.1093, 0.3325, 0.3325, 0.3325, 0.3325, 0.3325, 0.3325, -0.1105, 0.3324, 0.3324, 0.3324, 0.3324, 0.3324, 0.3324, 0.3324, 0.3324, -0.0983, -0.0775, 0.3324, -1.7741, -1.8604, -0.9414, -1.5719, -1.1642, -1.3124, -0.7942, -0.7942, -0.5994]}, \"token.table\": {\"Topic\": [1, 5, 6, 1, 5, 1, 3, 1, 6, 4, 1, 3, 7, 4, 2, 4, 1, 2, 2, 1, 2, 2, 4, 5, 7, 8, 2, 5, 3, 7, 2, 2, 4, 6, 3, 1, 3, 4, 5, 6, 5, 5, 6, 8, 5, 2, 8, 5, 6, 4, 2, 3, 7, 3, 4, 3, 4, 2, 2, 6, 1, 7, 3, 6, 4, 3, 1, 4, 5, 2, 7, 4, 3, 4, 2, 3, 4, 3, 1, 2, 2, 3, 6, 8, 1, 8, 7, 3, 7, 7, 2, 3, 8, 4, 1, 2, 3, 5, 4, 1, 3, 4, 8, 6, 4, 6, 3, 1, 5, 2, 6, 4, 4, 8, 1, 5, 4, 1, 5, 4, 6, 1, 2, 3, 5, 6, 7, 2, 3, 5, 7, 6, 1, 2, 1, 3, 3, 5, 1, 2, 3, 5, 6, 7, 1, 5, 1, 3, 5, 5, 6, 3, 3, 3, 4, 7, 2, 3, 5, 2, 2, 2, 3, 4, 5, 8, 4, 1, 1, 6, 6, 6, 7, 1, 5, 8, 7, 1, 1, 1, 8, 3, 3, 1, 1, 1, 5, 4, 3, 2, 7, 8, 5, 1, 2, 5, 7, 8, 6, 6, 5, 4, 2, 6, 4, 7, 3, 2, 6, 4, 4, 3, 4, 8, 4, 1, 1, 4, 4, 2, 5, 1, 2, 3, 8, 2, 7, 6, 3, 4], \"Freq\": [0.6968993526882882, 0.2322997842294294, 0.8403713430233347, 0.6968993536413323, 0.23229978454711075, 0.7546292650370434, 0.7980019609436055, 0.7546296534137658, 0.8403713873593951, 0.7994777179942124, 0.7546292443458482, 0.5127685734701507, 0.9095032053203832, 0.799469982192325, 0.7923607437201519, 0.7994772768989615, 0.7546291790172837, 0.7924306920609797, 0.7923606331107776, 0.7546291766996441, 0.7924304077211518, 0.17898658472878812, 0.17898658472878812, 0.17898658472878812, 0.17898658472878812, 0.17898658472878812, 0.516697171730121, 0.516697171730121, 0.7980020061608539, 0.9095033154786286, 0.7924304252997634, 0.7923621968593269, 0.5305894981494516, 0.5305894981494516, 0.7980018748363085, 0.47624549371535796, 0.11906137342883949, 0.11906137342883949, 0.11906137342883949, 0.11906137342883949, 0.8133935262075577, 0.5366838789487709, 0.5366838789487709, 0.9317706909601767, 0.5255494621098865, 0.792430279042818, 0.931770665962684, 0.5255494138946836, 0.5482952753438217, 0.7994769627225284, 0.3996120134936799, 0.3996120134936799, 0.3996120134936799, 0.798001838678866, 0.7994772532095366, 0.5133799755734251, 0.5133799755734251, 0.7923627298769534, 0.5081767520442778, 0.8403712732824901, 0.7546295881211621, 0.9095033110679395, 0.5299432403730018, 0.5299432403730018, 0.5139882123024051, 0.7980018761491621, 0.7546297247349024, 0.5197064315419689, 0.5197064315419689, 0.5539035900413276, 0.5539035900413276, 0.7994772800653541, 0.5133764174861755, 0.5133764174861755, 0.7924304532252917, 0.5133774649231112, 0.5133774649231112, 0.7980099860085272, 0.754629148455544, 0.7924302656471345, 0.3764856462940232, 0.3764856462940232, 0.8403713007155492, 0.9317706341742873, 0.765871658004357, 0.3829358290021785, 0.9095032958349297, 0.79800181563042, 0.9095032761319991, 0.9095032700959981, 0.5104649837065995, 0.5104649837065995, 0.9317705300902458, 0.799477570669806, 0.7546292644650205, 0.7924304311639921, 0.5190827934924023, 0.5190827934924023, 0.7994715472597016, 0.7546291535525069, 0.5182456638416026, 0.2591228319208013, 0.2591228319208013, 0.8403713657426087, 0.7994772057267101, 0.8403712840481294, 0.7980019113895749, 0.6968994598278925, 0.23229981994263083, 0.7924302735126253, 0.8403713624939764, 0.5139879993566281, 0.799477082386634, 0.931770548361922, 0.9549957855348383, 0.8133935309574065, 0.7994782641182323, 0.7546293219658341, 0.8133934500102051, 0.7994718531022761, 0.8403713479875771, 0.2918108582465752, 0.19454057216438347, 0.19454057216438347, 0.09727028608219174, 0.09727028608219174, 0.09727028608219174, 0.3148702746748064, 0.3148702746748064, 0.3148702746748064, 0.3148702746748064, 0.8403713003454326, 0.7546297278517853, 0.7924304263024942, 0.9549957850309382, 0.7980099407578208, 0.7980018310266439, 0.8133935628587489, 0.4460994430572518, 0.2676596658343511, 0.08921988861145036, 0.08921988861145036, 0.08921988861145036, 0.08921988861145036, 0.7546292418081036, 0.8133934622985708, 0.7546296711713644, 0.798001832381612, 0.8133940475039049, 0.5366838356124737, 0.5366838356124737, 0.798001873018496, 0.7980018745434861, 0.7980019212078635, 0.799477214842791, 0.909503318264877, 0.7923473930220495, 0.5190828102306906, 0.5190828102306906, 0.7924305409473109, 0.7923149817830631, 0.46302571277455035, 0.15434190425818345, 0.15434190425818345, 0.15434190425818345, 0.15434190425818345, 0.799471900406083, 0.7546292427202675, 0.754629148712236, 0.84037135875982, 0.8403713522180899, 0.576907695809669, 0.576907695809669, 0.545922003981301, 0.18197400132710032, 0.18197400132710032, 0.9095033035022485, 0.9549956905324603, 0.7546291827825294, 0.7658716421216998, 0.3829358210608499, 0.7980018266827373, 0.7980018676220046, 0.7546292468232637, 0.7546291925140332, 0.7546291822070421, 0.8133935426216367, 0.7994775053231875, 0.7980020040633471, 0.5539035837464935, 0.5539035837464935, 0.93177056210376, 0.8133934295030179, 0.22366759217433851, 0.22366759217433851, 0.22366759217433851, 0.22366759217433851, 0.22366759217433851, 0.8403713546725392, 0.8403712869380339, 0.8133935340608383, 0.7994718080720739, 0.7924302330412362, 0.8403713528777733, 0.7994712077959372, 0.9095032600580099, 0.7980018309826824, 0.527447867959028, 0.527447867959028, 0.7994767730107094, 0.7994771936208342, 0.5182459332220803, 0.2591229666110402, 0.2591229666110402, 0.7994702624341039, 0.754629261332133, 0.7546296085080345, 0.7994784076248587, 0.799477494727797, 0.5167194898654817, 0.5167194898654817, 0.30814435230702064, 0.30814435230702064, 0.30814435230702064, 0.30814435230702064, 0.792430407673331, 0.9095033223846802, 0.8403713015284342, 0.5133783206141997, 0.5133783206141997], \"Term\": [\"1\", \"1\", \"18\", \"2023\", \"2023\", \"5200\", \"911\", \"able\", \"added\", \"aggravated\", \"ambulance\", \"andres\", \"announced\", \"armando\", \"armed\", \"assault\", \"avenue\", \"back\", \"began\", \"block\", \"body\", \"brown\", \"brown\", \"brown\", \"brown\", \"brown\", \"call\", \"call\", \"caller\", \"came\", \"camera\", \"cars\", \"charged\", \"charged\", \"chasing\", \"chicago\", \"chicago\", \"chicago\", \"chicago\", \"chicago\", \"chief\", \"close\", \"close\", \"condition\", \"conference\", \"country\", \"critical\", \"david\", \"day\", \"degree\", \"department\", \"department\", \"department\", \"died\", \"discharge\", \"domestic\", \"domestic\", \"escaped\", \"every\", \"exchanged\", \"far\", \"fatal\", \"fatally\", \"fatally\", \"felony\", \"female\", \"find\", \"firearm\", \"firearm\", \"fired\", \"fired\", \"first\", \"five\", \"five\", \"footage\", \"force\", \"force\", \"gage\", \"grab\", \"grieving\", \"gun\", \"gun\", \"gunfire\", \"head\", \"hospital\", \"hospital\", \"hours\", \"identified\", \"identifying\", \"immediately\", \"incident\", \"incident\", \"injuries\", \"interfering\", \"investigate\", \"investigation\", \"killed\", \"killed\", \"l\", \"large\", \"lasso\", \"lasso\", \"lasso\", \"lightfoot\", \"loaded\", \"lori\", \"man\", \"march\", \"march\", \"matter\", \"mayor\", \"misdemeanor\", \"montano\", \"mount\", \"mt\", \"multiple\", \"murder\", \"near\", \"news\", \"newscom\", \"next\", \"officer\", \"officer\", \"officer\", \"officer\", \"officer\", \"officer\", \"officers\", \"officers\", \"officers\", \"officers\", \"old\", \"one\", \"ongoing\", \"outside\", \"park\", \"people\", \"person\", \"police\", \"police\", \"police\", \"police\", \"police\", \"police\", \"presence\", \"press\", \"prior\", \"protecting\", \"pursued\", \"range\", \"range\", \"receiving\", \"report\", \"reported\", \"reporting\", \"resigning\", \"responded\", \"responding\", \"responding\", \"reviewed\", \"running\", \"said\", \"said\", \"said\", \"said\", \"said\", \"sanchez\", \"scene\", \"screen\", \"see\", \"service\", \"shooting\", \"shooting\", \"shot\", \"shot\", \"shot\", \"shots\", \"shown\", \"side\", \"sinai\", \"sinai\", \"slain\", \"someone\", \"south\", \"southwest\", \"spaulding\", \"speaks\", \"steven\", \"street\", \"striking\", \"striking\", \"succumbed\", \"superintendent\", \"suspect\", \"suspect\", \"suspect\", \"suspect\", \"suspect\", \"thank\", \"thursday\", \"times\", \"tns\", \"today\", \"tonight\", \"tribune\", \"turned\", \"tweeted\", \"two\", \"two\", \"unlawful\", \"use\", \"vasquez\", \"vasquez\", \"vasquez\", \"via\", \"video\", \"violation\", \"violence\", \"weapon\", \"wednesday\", \"wednesday\", \"wls\", \"wls\", \"wls\", \"wls\", \"worn\", \"would\", \"year\", \"years\", \"years\"]}, \"R\": 30, \"lambda.step\": 0.01, \"plot.opts\": {\"xlab\": \"PC1\", \"ylab\": \"PC2\"}, \"topic.order\": [4, 3, 10, 7, 8, 1, 9, 6, 2, 5]};\n",
       "\n",
       "function LDAvis_load_lib(url, callback){\n",
       "  var s = document.createElement('script');\n",
       "  s.src = url;\n",
       "  s.async = true;\n",
       "  s.onreadystatechange = s.onload = callback;\n",
       "  s.onerror = function(){console.warn(\"failed to load library \" + url);};\n",
       "  document.getElementsByTagName(\"head\")[0].appendChild(s);\n",
       "}\n",
       "\n",
       "if(typeof(LDAvis) !== \"undefined\"){\n",
       "   // already loaded: just create the visualization\n",
       "   !function(LDAvis){\n",
       "       new LDAvis(\"#\" + \"ldavis_el179041580857298048539899601\", ldavis_el179041580857298048539899601_data);\n",
       "   }(LDAvis);\n",
       "}else if(typeof define === \"function\" && define.amd){\n",
       "   // require.js is available: use it to load d3/LDAvis\n",
       "   require.config({paths: {d3: \"https://d3js.org/d3.v5\"}});\n",
       "   require([\"d3\"], function(d3){\n",
       "      window.d3 = d3;\n",
       "      LDAvis_load_lib(\"https://cdn.jsdelivr.net/gh/bmabey/pyLDAvis@3.4.0/pyLDAvis/js/ldavis.v3.0.0.js\", function(){\n",
       "        new LDAvis(\"#\" + \"ldavis_el179041580857298048539899601\", ldavis_el179041580857298048539899601_data);\n",
       "      });\n",
       "    });\n",
       "}else{\n",
       "    // require.js not available: dynamically load d3 & LDAvis\n",
       "    LDAvis_load_lib(\"https://d3js.org/d3.v5.js\", function(){\n",
       "         LDAvis_load_lib(\"https://cdn.jsdelivr.net/gh/bmabey/pyLDAvis@3.4.0/pyLDAvis/js/ldavis.v3.0.0.js\", function(){\n",
       "                 new LDAvis(\"#\" + \"ldavis_el179041580857298048539899601\", ldavis_el179041580857298048539899601_data);\n",
       "            })\n",
       "         });\n",
       "}\n",
       "</script>"
      ],
      "text/plain": [
       "PreparedData(topic_coordinates=              x         y  topics  cluster       Freq\n",
       "topic                                                \n",
       "3     -0.194111  0.089814       1        1  21.327197\n",
       "2     -0.023008 -0.166958       2        1  14.885051\n",
       "9      0.083902 -0.019957       3        1  14.601253\n",
       "6      0.167483  0.092474       4        1  12.754218\n",
       "7     -0.086021 -0.001350       5        1  12.134052\n",
       "0     -0.019959  0.056875       6        1   9.692111\n",
       "8     -0.003501 -0.074909       7        1   6.639876\n",
       "5      0.027032 -0.016030       8        1   5.965831\n",
       "1      0.026697  0.020884       9        1   1.227736\n",
       "4      0.021485  0.019157      10        1   0.772675, topic_info=        Term      Freq     Total Category  logprob  loglift\n",
       "30      said  6.000000  6.000000  Default   30.000  30.0000\n",
       "21     brown  5.000000  5.000000  Default   29.000  29.0000\n",
       "31      shot  5.000000  5.000000  Default   28.000  28.0000\n",
       "5    vasquez  3.000000  3.000000  Default   27.000  27.0000\n",
       "3      lasso  3.000000  3.000000  Default   26.000  26.0000\n",
       "..       ...       ...       ...      ...      ...      ...\n",
       "21     brown  0.013476  5.587011  Topic10   -5.124  -1.1642\n",
       "30      said  0.013476  6.479122  Topic10   -5.124  -1.3124\n",
       "5    vasquez  0.013476  3.859172  Topic10   -5.124  -0.7942\n",
       "3      lasso  0.013476  3.859174  Topic10   -5.124  -0.7942\n",
       "76  officers  0.013476  3.175911  Topic10   -5.124  -0.5994\n",
       "\n",
       "[431 rows x 6 columns], token_table=      Topic      Freq   Term\n",
       "term                        \n",
       "53        1  0.696899      1\n",
       "53        5  0.232300      1\n",
       "7         6  0.840371     18\n",
       "54        1  0.696899   2023\n",
       "54        5  0.232300   2023\n",
       "...     ...       ...    ...\n",
       "141       2  0.792430   worn\n",
       "167       7  0.909503  would\n",
       "20        6  0.840371   year\n",
       "6         3  0.513378  years\n",
       "6         4  0.513378  years\n",
       "\n",
       "[230 rows x 3 columns], R=30, lambda_step=0.01, plot_opts={'xlab': 'PC1', 'ylab': 'PC2'}, topic_order=[4, 3, 10, 7, 8, 1, 9, 6, 2, 5])"
      ]
     },
     "execution_count": 28,
     "metadata": {},
     "output_type": "execute_result"
    }
   ],
   "source": [
    "pyLDAvis.enable_notebook()\n",
    "p = pyLDAvis.gensim.prepare(optimal_model, bow_corpus, dictionary)\n",
    "p"
   ]
  },
  {
   "cell_type": "code",
   "execution_count": 35,
   "id": "956a6e74",
   "metadata": {},
   "outputs": [
    {
     "name": "stdout",
     "output_type": "stream",
     "text": [
      "Topic: 0\n",
      "Topic Words: [('officer', 0.046875358), ('chicago', 0.046875283), ('day', 0.046875004), ('fatally', 0.024553725), ('range', 0.024553597), ('close', 0.024553597), ('two', 0.024553504), ('exchanged', 0.024553467), ('shooting', 0.024553465), ('old', 0.024553465)]\n",
      "Sentiment = 0.26451097854546124\n",
      "Topic: 1\n",
      "Topic Words: [('tragedy', 0.058510303), ('terrible', 0.0585103), ('police', 0.005319168), ('officer', 0.005319164), ('brown', 0.0053191627), ('chicago', 0.0053191613), ('officers', 0.0053191604), ('shot', 0.005319159), ('said', 0.005319159), ('lasso', 0.005319159)]\n",
      "Sentiment = -1.0838751930388664\n",
      "Topic: 2\n",
      "Topic Words: [('said', 0.06636091), ('police', 0.06629923), ('officer', 0.05017323), ('brown', 0.03400118), ('every', 0.033988215), ('suspect', 0.033963345), ('today', 0.017803242), ('matter', 0.01780324), ('grieving', 0.01780324), ('country', 0.01780324)]\n",
      "Sentiment = 0.8111822277544034\n",
      "Topic: 3\n",
      "Topic Words: [('police', 0.07389799), ('chicago', 0.06126942), ('2023', 0.050290585), ('1', 0.05029058), ('march', 0.050290573), ('shot', 0.050290573), ('officer', 0.046796557), ('shown', 0.025846079), ('outside', 0.025846075), ('mt', 0.025846075)]\n",
      "Sentiment = 0.5644841642074641\n",
      "Topic: 4\n",
      "Topic Words: [('felony', 0.0059529557), ('misdemeanor', 0.005952876), ('violence', 0.0059527727), ('murder', 0.0059527555), ('aggravated', 0.0059526665), ('interfering', 0.0059526516), ('weapon', 0.0059526386), ('steven', 0.0059526335), ('domestic', 0.0059526204), ('assault', 0.0059526074)]\n",
      "Sentiment = -0.005952620413154364\n",
      "Topic: 5\n",
      "Topic Words: [('said', 0.062130783), ('brown', 0.062130682), ('suspect', 0.032544598), ('wls', 0.032544456), ('sinai', 0.032544225), ('hospital', 0.03254422), ('succumbed', 0.032544214), ('mount', 0.032544214), ('injuries', 0.032544214), ('critical', 0.032544207)]\n",
      "Sentiment = 0.5657961104538233\n",
      "Topic: 6\n",
      "Topic Words: [('misdemeanor', 0.039041433), ('felony', 0.039041407), ('domestic', 0.020450206), ('unlawful', 0.0204502), ('firearm', 0.0204502), ('charged', 0.020450197), ('degree', 0.02045019), ('montano', 0.020450184), ('use', 0.020450179), ('loaded', 0.020450179)]\n",
      "Sentiment = -0.020450206473469734\n",
      "Topic: 7\n",
      "Topic Words: [('brown', 0.039772965), ('police', 0.039772943), ('officer', 0.039772943), ('shot', 0.03977292), ('chicago', 0.039772905), ('conference', 0.039772797), ('david', 0.039772797), ('responding', 0.020833297), ('wednesday', 0.020833291), ('call', 0.020833291)]\n",
      "Sentiment = 0.26157626678191453\n",
      "Topic: 8\n",
      "Topic Words: [('suspect', 0.03072658), ('officers', 0.030726496), ('striking', 0.03072632), ('fired', 0.03072632), ('department', 0.030726286), ('shooting', 0.03072617), ('announced', 0.030726166), ('immediately', 0.030726163), ('turned', 0.030726163), ('hours', 0.030726159)]\n",
      "Sentiment = 1.1829649088904262\n",
      "Topic: 9\n",
      "Topic Words: [('lasso', 0.05051002), ('vasquez', 0.05051002), ('officer', 0.03906807), ('gun', 0.034216385), ('andres', 0.034216333), ('chicago', 0.019908292), ('police', 0.019543178), ('incident', 0.017922735), ('protecting', 0.017922733), ('people', 0.017922733)]\n",
      "Sentiment = 0.06440542357426779\n"
     ]
    }
   ],
   "source": [
    "for topic_id, topic_words in model_topics:\n",
    "    print(\"Topic: \" + str(topic_id))\n",
    "    weighted_topic_sentiment = 0\n",
    "    word_sentiment_list = []\n",
    "    for word, weight in topic_words:\n",
    "        word_sentiment_list.append(weighted_word_sentiment(word, weight, doc))\n",
    "    for sentiment in word_sentiment_list:\n",
    "        weighted_topic_sentiment += sentiment\n",
    "    weighted_topic_sentiment /= len(word_sentiment_list) /100\n",
    "    print(\"Topic Words: \" + str(topic_words))\n",
    "    print(\"Sentiment = \" + str(weighted_topic_sentiment))"
   ]
  }
 ],
 "metadata": {
  "kernelspec": {
   "display_name": "base",
   "language": "python",
   "name": "python3"
  },
  "language_info": {
   "codemirror_mode": {
    "name": "ipython",
    "version": 3
   },
   "file_extension": ".py",
   "mimetype": "text/x-python",
   "name": "python",
   "nbconvert_exporter": "python",
   "pygments_lexer": "ipython3",
   "version": "3.9.16"
  },
  "polyglot_notebook": {
   "kernelInfo": {
    "defaultKernelName": "csharp",
    "items": [
     {
      "aliases": [],
      "name": "csharp"
     }
    ]
   }
  }
 },
 "nbformat": 4,
 "nbformat_minor": 5
}
