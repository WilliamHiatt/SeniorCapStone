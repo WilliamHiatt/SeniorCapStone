{
 "cells": [
  {
   "cell_type": "code",
   "execution_count": 1,
   "id": "0b36bfbd",
   "metadata": {},
   "outputs": [],
   "source": [
    "import plotly.express as px\n",
    "import json\n",
    "import requests"
   ]
  },
  {
   "cell_type": "code",
   "execution_count": 2,
   "id": "ab8a4a56",
   "metadata": {},
   "outputs": [],
   "source": [
    "def add_main_topic_dataframe(df, lda_model, corpus):\n",
    "    df['Topics'] = lda_model.get_document_topics(corpus)\n",
    "\n",
    "\n",
    "    sf = pd.DataFrame(data=df['Topics'])\n",
    "    af = pd.DataFrame()\n",
    "\n",
    "    df_topic_list = []\n",
    "    df_score_list = []\n",
    "\n",
    "    for ind in sf.index: #here we find most relevant topic for each article\n",
    "        #print(sf['Topics'][ind])\n",
    "        rtl = sf['Topics'][ind]\n",
    "        relevant_topic = -1\n",
    "        relevant_topic_score = 0\n",
    "        #print(\"rtl:\" , rtl)\n",
    "        for (topic,score) in rtl:\n",
    "            #print(topic, \" \" , score)\n",
    "            if score > relevant_topic_score:\n",
    "                relevant_topic = topic\n",
    "                relevant_topic_score = score\n",
    "        df_topic_list.append(relevant_topic)\n",
    "        df_score_list.append(relevant_topic_score)\n",
    "\n",
    "    #df_topic_list\n",
    "    df['Main Topic'] = df_topic_list #add most relevant topic to df\n",
    "    df['Main Topic Score'] = df_score_list\n",
    "    \n",
    "    return df"
   ]
  },
  {
   "cell_type": "code",
   "execution_count": null,
   "id": "d665a08a",
   "metadata": {},
   "outputs": [],
   "source": []
  }
 ],
 "metadata": {
  "kernelspec": {
   "display_name": "Python 3 (ipykernel)",
   "language": "python",
   "name": "python3"
  },
  "language_info": {
   "codemirror_mode": {
    "name": "ipython",
    "version": 3
   },
   "file_extension": ".py",
   "mimetype": "text/x-python",
   "name": "python",
   "nbconvert_exporter": "python",
   "pygments_lexer": "ipython3",
   "version": "3.11.2"
  }
 },
 "nbformat": 4,
 "nbformat_minor": 5
}
