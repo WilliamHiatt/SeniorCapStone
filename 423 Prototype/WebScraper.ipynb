{
 "cells": [
  {
   "cell_type": "code",
   "execution_count": null,
   "id": "68f77d6f",
   "metadata": {},
   "outputs": [],
   "source": [
    "import spacy\n",
    "from spacytextblob.spacytextblob import SpacyTextBlob\n",
    "import pandas as pd\n",
    "import requests\n",
    "from newspaper import Article\n",
    "import numpy as np\n"
   ]
  },
  {
   "cell_type": "code",
   "execution_count": null,
   "id": "351de990",
   "metadata": {},
   "outputs": [],
   "source": [
    "def scrapeData(url):\n",
    "    try:\n",
    "        for y in social_starts_with:\n",
    "            if(url.startswith(y)):\n",
    "                isSocial = True\n",
    "            else:\n",
    "                isSocial = False\n",
    "        if(isSocial != True):\n",
    "            article = Article(url)\n",
    "            article.download()\n",
    "            article.parse()\n",
    "            \n",
    "            page_text = (article.text).lower()\n",
    "            page_text = page_text.strip().replace(\"  \",\"\")\n",
    "            page_text = \"\".join([s for s in page_text.splitlines(True) if s.strip(\"\\r\\n\")])\n",
    "            \n",
    "            strLength = np.char.count(page_text, ' ') + 1\n",
    "            if(strLength < wordCountFilter):\n",
    "                page_text = \"PARERROR: Not enough words: \" + str(strLength) + \" < \" + str(wordCountFilter)\n",
    "                            \n",
    "            \n",
    "        else:\n",
    "            page_text = \"PARERROR: SocialError\"\n",
    "    except:\n",
    "        page_text = \"PARERROR: ErrorCouldntParse\"\n",
    "        \n",
    "    return page_text"
   ]
  }
 ],
 "metadata": {
  "kernelspec": {
   "display_name": "434hw",
   "language": "python",
   "name": "434hw"
  },
  "language_info": {
   "codemirror_mode": {
    "name": "ipython",
    "version": 3
   },
   "file_extension": ".py",
   "mimetype": "text/x-python",
   "name": "python",
   "nbconvert_exporter": "python",
   "pygments_lexer": "ipython3",
   "version": "3.10.4"
  }
 },
 "nbformat": 4,
 "nbformat_minor": 5
}
